{
 "cells": [
  {
   "cell_type": "code",
   "execution_count": 1,
   "metadata": {},
   "outputs": [],
   "source": [
    "import pandas as pd\n",
    "import json\n",
    "from pandas.io.json import json_normalize\n",
    "import numpy as np\n",
    "import matplotlib.pyplot as plt\n",
    "import pprint\n",
    "import requests\n",
    "import time\n",
    "nfl_key = 'my_api_key'"
   ]
  },
  {
   "cell_type": "markdown",
   "metadata": {},
   "source": [
    "## Source\n",
    "\n",
    "### https://developer.sportradar.com/\n",
    "\n",
    "- nfl api\n",
    "\n",
    "- scores from 2001 - 2017\n"
   ]
  },
  {
   "cell_type": "markdown",
   "metadata": {},
   "source": [
    "## Get 10 years of scores form the NFL\n",
    "\n",
    "- create a function:\n",
    "    1. inputs year, season(reg or playoffs), api  key\n",
    "    2. request data from api and returs json file"
   ]
  },
  {
   "cell_type": "markdown",
   "metadata": {},
   "source": [
    "#### Create a loop to create a list for wanted years"
   ]
  },
  {
   "cell_type": "code",
   "execution_count": 2,
   "metadata": {},
   "outputs": [
    {
     "name": "stdout",
     "output_type": "stream",
     "text": [
      "['2000', '2001', '2002', '2003', '2004', '2005', '2006', '2007', '2008', '2009', '2010', '2011', '2012', '2013', '2014', '2015', '2016', '2017']\n"
     ]
    }
   ],
   "source": [
    "# loop to create a list of years wanted\n",
    "years = []\n",
    "for i in range(2000,2018):\n",
    "    years.append(str(i))\n",
    "    \n",
    "print(years)"
   ]
  },
  {
   "cell_type": "code",
   "execution_count": 3,
   "metadata": {},
   "outputs": [],
   "source": [
    "# function\n",
    "season = 'reg'\n",
    "key = '5h567tf39qwsksfp9uxakxfc'\n",
    "def get_scores(year,season, key):\n",
    "    \n",
    "    URL = 'https://api.sportradar.us/nfl-ot2/games/{}/{}/schedule.json?api_key={}'.format(year,season,key)\n",
    "    r = requests.get(URL)\n",
    "    return r.json()"
   ]
  },
  {
   "cell_type": "markdown",
   "metadata": {},
   "source": [
    "## Loop over to get all the data wanted"
   ]
  },
  {
   "cell_type": "code",
   "execution_count": 4,
   "metadata": {},
   "outputs": [],
   "source": [
    "appended_data = []  # emty list to append df\n",
    "for i in years:\n",
    "    score = get_scores(i,season,key)  # create json file using func\n",
    "    time.sleep(1)\n",
    "    for j in range(len(score['weeks'])):  # loop over every week given year\n",
    "        data = json_normalize(score['weeks'][j]['games'])  # convert to df\n",
    "        appended_data.append(data)  # append df\n",
    "    nfl = pd.concat(appended_data, axis=0)   # concat all datframes from years given"
   ]
  },
  {
   "cell_type": "code",
   "execution_count": 5,
   "metadata": {},
   "outputs": [
    {
     "name": "stdout",
     "output_type": "stream",
     "text": [
      "<class 'pandas.core.frame.DataFrame'>\n",
      "Int64Index: 4593 entries, 0 to 15\n",
      "Data columns (total 33 columns):\n",
      "attendance             4592 non-null float64\n",
      "away.alias             4593 non-null object\n",
      "away.game_number       4593 non-null int64\n",
      "away.id                4593 non-null object\n",
      "away.name              4593 non-null object\n",
      "broadcast.internet     81 non-null object\n",
      "broadcast.network      1536 non-null object\n",
      "broadcast.satellite    801 non-null object\n",
      "entry_mode             4593 non-null object\n",
      "home.alias             4593 non-null object\n",
      "home.game_number       4593 non-null int64\n",
      "home.id                4593 non-null object\n",
      "home.name              4593 non-null object\n",
      "id                     4593 non-null object\n",
      "number                 1537 non-null float64\n",
      "reference              1537 non-null object\n",
      "scheduled              4593 non-null object\n",
      "scoring.away_points    4592 non-null float64\n",
      "scoring.home_points    4592 non-null float64\n",
      "scoring.periods        4592 non-null object\n",
      "status                 4593 non-null object\n",
      "utc_offset             4592 non-null float64\n",
      "venue.address          4593 non-null object\n",
      "venue.capacity         4593 non-null int64\n",
      "venue.city             4593 non-null object\n",
      "venue.country          4145 non-null object\n",
      "venue.id               4593 non-null object\n",
      "venue.name             4593 non-null object\n",
      "venue.roof_type        4593 non-null object\n",
      "venue.state            4569 non-null object\n",
      "venue.surface          4593 non-null object\n",
      "venue.zip              4587 non-null object\n",
      "weather                2307 non-null object\n",
      "dtypes: float64(5), int64(3), object(25)\n",
      "memory usage: 1.2+ MB\n"
     ]
    }
   ],
   "source": [
    "nfl.info()"
   ]
  },
  {
   "cell_type": "markdown",
   "metadata": {},
   "source": [
    "## Save this raw dataframe to csv"
   ]
  },
  {
   "cell_type": "code",
   "execution_count": 54,
   "metadata": {},
   "outputs": [],
   "source": [
    "nfl.to_csv('clean_data/nfl10yearsfull.csv')"
   ]
  },
  {
   "cell_type": "markdown",
   "metadata": {},
   "source": [
    "## Slice raw dataframe with wanted columns"
   ]
  },
  {
   "cell_type": "code",
   "execution_count": 7,
   "metadata": {},
   "outputs": [
    {
     "data": {
      "text/html": [
       "<div>\n",
       "<style scoped>\n",
       "    .dataframe tbody tr th:only-of-type {\n",
       "        vertical-align: middle;\n",
       "    }\n",
       "\n",
       "    .dataframe tbody tr th {\n",
       "        vertical-align: top;\n",
       "    }\n",
       "\n",
       "    .dataframe thead th {\n",
       "        text-align: right;\n",
       "    }\n",
       "</style>\n",
       "<table border=\"1\" class=\"dataframe\">\n",
       "  <thead>\n",
       "    <tr style=\"text-align: right;\">\n",
       "      <th></th>\n",
       "      <th>attendance</th>\n",
       "      <th>away.alias</th>\n",
       "      <th>away.game_number</th>\n",
       "      <th>away.id</th>\n",
       "      <th>away.name</th>\n",
       "      <th>broadcast.internet</th>\n",
       "      <th>broadcast.network</th>\n",
       "      <th>broadcast.satellite</th>\n",
       "      <th>entry_mode</th>\n",
       "      <th>home.alias</th>\n",
       "      <th>...</th>\n",
       "      <th>venue.capacity</th>\n",
       "      <th>venue.city</th>\n",
       "      <th>venue.country</th>\n",
       "      <th>venue.id</th>\n",
       "      <th>venue.name</th>\n",
       "      <th>venue.roof_type</th>\n",
       "      <th>venue.state</th>\n",
       "      <th>venue.surface</th>\n",
       "      <th>venue.zip</th>\n",
       "      <th>weather</th>\n",
       "    </tr>\n",
       "  </thead>\n",
       "  <tbody>\n",
       "    <tr>\n",
       "      <th>0</th>\n",
       "      <td>64900.0</td>\n",
       "      <td>DET</td>\n",
       "      <td>1</td>\n",
       "      <td>c5a59daa-53a7-4de0-851f-fb12be893e9e</td>\n",
       "      <td>Detroit Lions</td>\n",
       "      <td>NaN</td>\n",
       "      <td>NaN</td>\n",
       "      <td>NaN</td>\n",
       "      <td>INGEST</td>\n",
       "      <td>NO</td>\n",
       "      <td>...</td>\n",
       "      <td>76468</td>\n",
       "      <td>New Orleans</td>\n",
       "      <td>USA</td>\n",
       "      <td>3c85d89a-ec66-4983-acd5-1381d6c8673a</td>\n",
       "      <td>Mercedes-Benz Superdome</td>\n",
       "      <td>dome</td>\n",
       "      <td>LA</td>\n",
       "      <td>artificial</td>\n",
       "      <td>70112</td>\n",
       "      <td>Partly Cloudly Temp: 89 F, Wind: West 10 mph</td>\n",
       "    </tr>\n",
       "    <tr>\n",
       "      <th>1</th>\n",
       "      <td>60292.0</td>\n",
       "      <td>TB</td>\n",
       "      <td>1</td>\n",
       "      <td>4254d319-1bc7-4f81-b4ab-b5e6f3402b69</td>\n",
       "      <td>Tampa Bay Buccaneers</td>\n",
       "      <td>NaN</td>\n",
       "      <td>NaN</td>\n",
       "      <td>NaN</td>\n",
       "      <td>INGEST</td>\n",
       "      <td>NE</td>\n",
       "      <td>...</td>\n",
       "      <td>60292</td>\n",
       "      <td>Foxborough</td>\n",
       "      <td>NaN</td>\n",
       "      <td>67412aec-5fa4-4cef-ac07-323b90d9d388</td>\n",
       "      <td>Foxboro Stadium</td>\n",
       "      <td>outdoor</td>\n",
       "      <td>MA</td>\n",
       "      <td>turf</td>\n",
       "      <td>02035</td>\n",
       "      <td>Cloudy Temp: 71 F, Humidity: 93%, Wind: Variab...</td>\n",
       "    </tr>\n",
       "    <tr>\n",
       "      <th>2</th>\n",
       "      <td>72949.0</td>\n",
       "      <td>SEA</td>\n",
       "      <td>1</td>\n",
       "      <td>3d08af9e-c767-4f88-a7dc-b920c6d2b4a8</td>\n",
       "      <td>Seattle Seahawks</td>\n",
       "      <td>NaN</td>\n",
       "      <td>NaN</td>\n",
       "      <td>NaN</td>\n",
       "      <td>INGEST</td>\n",
       "      <td>MIA</td>\n",
       "      <td>...</td>\n",
       "      <td>76100</td>\n",
       "      <td>Miami Gardens</td>\n",
       "      <td>USA</td>\n",
       "      <td>50a5c833-1570-4c38-abc7-7914cf87dbde</td>\n",
       "      <td>Hard Rock Stadium</td>\n",
       "      <td>outdoor</td>\n",
       "      <td>FL</td>\n",
       "      <td>turf</td>\n",
       "      <td>33056</td>\n",
       "      <td>Sunny Temp: 89 F, Humidity: 59%, Wind: East 13...</td>\n",
       "    </tr>\n",
       "    <tr>\n",
       "      <th>3</th>\n",
       "      <td>59870.0</td>\n",
       "      <td>NYJ</td>\n",
       "      <td>1</td>\n",
       "      <td>5fee86ae-74ab-4bdd-8416-42a9dd9964f3</td>\n",
       "      <td>New York Jets</td>\n",
       "      <td>NaN</td>\n",
       "      <td>NaN</td>\n",
       "      <td>NaN</td>\n",
       "      <td>INGEST</td>\n",
       "      <td>GB</td>\n",
       "      <td>...</td>\n",
       "      <td>80750</td>\n",
       "      <td>Green Bay</td>\n",
       "      <td>USA</td>\n",
       "      <td>5a60dd3a-302c-41c6-ab0f-dd335c1103c2</td>\n",
       "      <td>Lambeau Field</td>\n",
       "      <td>outdoor</td>\n",
       "      <td>WI</td>\n",
       "      <td>turf</td>\n",
       "      <td>54304</td>\n",
       "      <td>Mostly cloudy, light winds, high of 77. Temp: ...</td>\n",
       "    </tr>\n",
       "    <tr>\n",
       "      <th>4</th>\n",
       "      <td>80257.0</td>\n",
       "      <td>CAR</td>\n",
       "      <td>1</td>\n",
       "      <td>f14bf5cc-9a82-4a38-bc15-d39f75ed5314</td>\n",
       "      <td>Carolina Panthers</td>\n",
       "      <td>NaN</td>\n",
       "      <td>NaN</td>\n",
       "      <td>NaN</td>\n",
       "      <td>INGEST</td>\n",
       "      <td>WAS</td>\n",
       "      <td>...</td>\n",
       "      <td>83000</td>\n",
       "      <td>Landover</td>\n",
       "      <td>USA</td>\n",
       "      <td>7c11bb2d-4a53-4842-b842-0f1c63ed78e9</td>\n",
       "      <td>FedExField</td>\n",
       "      <td>outdoor</td>\n",
       "      <td>MD</td>\n",
       "      <td>turf</td>\n",
       "      <td>20785</td>\n",
       "      <td>Temp: 80 F, Humidity: 98%, Wind:  Calm mph</td>\n",
       "    </tr>\n",
       "  </tbody>\n",
       "</table>\n",
       "<p>5 rows × 33 columns</p>\n",
       "</div>"
      ],
      "text/plain": [
       "   attendance away.alias  away.game_number  \\\n",
       "0     64900.0        DET                 1   \n",
       "1     60292.0         TB                 1   \n",
       "2     72949.0        SEA                 1   \n",
       "3     59870.0        NYJ                 1   \n",
       "4     80257.0        CAR                 1   \n",
       "\n",
       "                                away.id             away.name  \\\n",
       "0  c5a59daa-53a7-4de0-851f-fb12be893e9e         Detroit Lions   \n",
       "1  4254d319-1bc7-4f81-b4ab-b5e6f3402b69  Tampa Bay Buccaneers   \n",
       "2  3d08af9e-c767-4f88-a7dc-b920c6d2b4a8      Seattle Seahawks   \n",
       "3  5fee86ae-74ab-4bdd-8416-42a9dd9964f3         New York Jets   \n",
       "4  f14bf5cc-9a82-4a38-bc15-d39f75ed5314     Carolina Panthers   \n",
       "\n",
       "  broadcast.internet broadcast.network broadcast.satellite entry_mode  \\\n",
       "0                NaN               NaN                 NaN     INGEST   \n",
       "1                NaN               NaN                 NaN     INGEST   \n",
       "2                NaN               NaN                 NaN     INGEST   \n",
       "3                NaN               NaN                 NaN     INGEST   \n",
       "4                NaN               NaN                 NaN     INGEST   \n",
       "\n",
       "  home.alias                        ...                          \\\n",
       "0         NO                        ...                           \n",
       "1         NE                        ...                           \n",
       "2        MIA                        ...                           \n",
       "3         GB                        ...                           \n",
       "4        WAS                        ...                           \n",
       "\n",
       "   venue.capacity     venue.city venue.country  \\\n",
       "0           76468    New Orleans           USA   \n",
       "1           60292     Foxborough           NaN   \n",
       "2           76100  Miami Gardens           USA   \n",
       "3           80750      Green Bay           USA   \n",
       "4           83000       Landover           USA   \n",
       "\n",
       "                               venue.id               venue.name  \\\n",
       "0  3c85d89a-ec66-4983-acd5-1381d6c8673a  Mercedes-Benz Superdome   \n",
       "1  67412aec-5fa4-4cef-ac07-323b90d9d388          Foxboro Stadium   \n",
       "2  50a5c833-1570-4c38-abc7-7914cf87dbde        Hard Rock Stadium   \n",
       "3  5a60dd3a-302c-41c6-ab0f-dd335c1103c2            Lambeau Field   \n",
       "4  7c11bb2d-4a53-4842-b842-0f1c63ed78e9               FedExField   \n",
       "\n",
       "  venue.roof_type venue.state  venue.surface  venue.zip  \\\n",
       "0            dome          LA     artificial      70112   \n",
       "1         outdoor          MA           turf      02035   \n",
       "2         outdoor          FL           turf      33056   \n",
       "3         outdoor          WI           turf      54304   \n",
       "4         outdoor          MD           turf      20785   \n",
       "\n",
       "                                             weather  \n",
       "0       Partly Cloudly Temp: 89 F, Wind: West 10 mph  \n",
       "1  Cloudy Temp: 71 F, Humidity: 93%, Wind: Variab...  \n",
       "2  Sunny Temp: 89 F, Humidity: 59%, Wind: East 13...  \n",
       "3  Mostly cloudy, light winds, high of 77. Temp: ...  \n",
       "4         Temp: 80 F, Humidity: 98%, Wind:  Calm mph  \n",
       "\n",
       "[5 rows x 33 columns]"
      ]
     },
     "execution_count": 7,
     "metadata": {},
     "output_type": "execute_result"
    }
   ],
   "source": [
    "nfl.head()"
   ]
  },
  {
   "cell_type": "code",
   "execution_count": 8,
   "metadata": {},
   "outputs": [],
   "source": [
    "nfl10 = nfl[['scheduled','home.alias','scoring.home_points','away.alias','scoring.away_points']]"
   ]
  },
  {
   "cell_type": "code",
   "execution_count": 9,
   "metadata": {},
   "outputs": [
    {
     "data": {
      "text/html": [
       "<div>\n",
       "<style scoped>\n",
       "    .dataframe tbody tr th:only-of-type {\n",
       "        vertical-align: middle;\n",
       "    }\n",
       "\n",
       "    .dataframe tbody tr th {\n",
       "        vertical-align: top;\n",
       "    }\n",
       "\n",
       "    .dataframe thead th {\n",
       "        text-align: right;\n",
       "    }\n",
       "</style>\n",
       "<table border=\"1\" class=\"dataframe\">\n",
       "  <thead>\n",
       "    <tr style=\"text-align: right;\">\n",
       "      <th></th>\n",
       "      <th>scheduled</th>\n",
       "      <th>home.alias</th>\n",
       "      <th>scoring.home_points</th>\n",
       "      <th>away.alias</th>\n",
       "      <th>scoring.away_points</th>\n",
       "    </tr>\n",
       "  </thead>\n",
       "  <tbody>\n",
       "    <tr>\n",
       "      <th>0</th>\n",
       "      <td>2000-09-03T18:03:36+00:00</td>\n",
       "      <td>NO</td>\n",
       "      <td>10.0</td>\n",
       "      <td>DET</td>\n",
       "      <td>14.0</td>\n",
       "    </tr>\n",
       "    <tr>\n",
       "      <th>1</th>\n",
       "      <td>2000-09-03T18:04:35+00:00</td>\n",
       "      <td>NE</td>\n",
       "      <td>16.0</td>\n",
       "      <td>TB</td>\n",
       "      <td>21.0</td>\n",
       "    </tr>\n",
       "    <tr>\n",
       "      <th>2</th>\n",
       "      <td>2000-09-03T21:15:54+00:00</td>\n",
       "      <td>MIA</td>\n",
       "      <td>23.0</td>\n",
       "      <td>SEA</td>\n",
       "      <td>0.0</td>\n",
       "    </tr>\n",
       "    <tr>\n",
       "      <th>3</th>\n",
       "      <td>2000-09-03T21:20:12+00:00</td>\n",
       "      <td>GB</td>\n",
       "      <td>16.0</td>\n",
       "      <td>NYJ</td>\n",
       "      <td>20.0</td>\n",
       "    </tr>\n",
       "    <tr>\n",
       "      <th>4</th>\n",
       "      <td>2000-09-03T19:02:58+00:00</td>\n",
       "      <td>WAS</td>\n",
       "      <td>20.0</td>\n",
       "      <td>CAR</td>\n",
       "      <td>17.0</td>\n",
       "    </tr>\n",
       "  </tbody>\n",
       "</table>\n",
       "</div>"
      ],
      "text/plain": [
       "                   scheduled home.alias  scoring.home_points away.alias  \\\n",
       "0  2000-09-03T18:03:36+00:00         NO                 10.0        DET   \n",
       "1  2000-09-03T18:04:35+00:00         NE                 16.0         TB   \n",
       "2  2000-09-03T21:15:54+00:00        MIA                 23.0        SEA   \n",
       "3  2000-09-03T21:20:12+00:00         GB                 16.0        NYJ   \n",
       "4  2000-09-03T19:02:58+00:00        WAS                 20.0        CAR   \n",
       "\n",
       "   scoring.away_points  \n",
       "0                 14.0  \n",
       "1                 21.0  \n",
       "2                  0.0  \n",
       "3                 20.0  \n",
       "4                 17.0  "
      ]
     },
     "execution_count": 9,
     "metadata": {},
     "output_type": "execute_result"
    }
   ],
   "source": [
    "nfl10.head()"
   ]
  },
  {
   "cell_type": "markdown",
   "metadata": {},
   "source": [
    "## scheduled column\n",
    "\n",
    "- Convert to datetime\n",
    "- set as index\n",
    "- sort index"
   ]
  },
  {
   "cell_type": "code",
   "execution_count": 13,
   "metadata": {},
   "outputs": [
    {
     "name": "stderr",
     "output_type": "stream",
     "text": [
      "/home/salas/miniconda3/envs/springboard/lib/python3.6/site-packages/ipykernel_launcher.py:1: SettingWithCopyWarning: \n",
      "A value is trying to be set on a copy of a slice from a DataFrame.\n",
      "Try using .loc[row_indexer,col_indexer] = value instead\n",
      "\n",
      "See the caveats in the documentation: http://pandas.pydata.org/pandas-docs/stable/indexing.html#indexing-view-versus-copy\n",
      "  \"\"\"Entry point for launching an IPython kernel.\n"
     ]
    }
   ],
   "source": [
    "nfl10['scheduled'] = pd.to_datetime(nfl10['scheduled'])\n",
    "nfl10 = nfl10.set_index('scheduled').sort_index(ascending=True)"
   ]
  },
  {
   "cell_type": "code",
   "execution_count": 14,
   "metadata": {},
   "outputs": [
    {
     "data": {
      "text/html": [
       "<div>\n",
       "<style scoped>\n",
       "    .dataframe tbody tr th:only-of-type {\n",
       "        vertical-align: middle;\n",
       "    }\n",
       "\n",
       "    .dataframe tbody tr th {\n",
       "        vertical-align: top;\n",
       "    }\n",
       "\n",
       "    .dataframe thead th {\n",
       "        text-align: right;\n",
       "    }\n",
       "</style>\n",
       "<table border=\"1\" class=\"dataframe\">\n",
       "  <thead>\n",
       "    <tr style=\"text-align: right;\">\n",
       "      <th></th>\n",
       "      <th>home.alias</th>\n",
       "      <th>scoring.home_points</th>\n",
       "      <th>away.alias</th>\n",
       "      <th>scoring.away_points</th>\n",
       "    </tr>\n",
       "    <tr>\n",
       "      <th>scheduled</th>\n",
       "      <th></th>\n",
       "      <th></th>\n",
       "      <th></th>\n",
       "      <th></th>\n",
       "    </tr>\n",
       "  </thead>\n",
       "  <tbody>\n",
       "    <tr>\n",
       "      <th>2000-09-03 00:00:00</th>\n",
       "      <td>PIT</td>\n",
       "      <td>0.0</td>\n",
       "      <td>BAL</td>\n",
       "      <td>16.0</td>\n",
       "    </tr>\n",
       "    <tr>\n",
       "      <th>2000-09-03 00:00:00</th>\n",
       "      <td>OAK</td>\n",
       "      <td>9.0</td>\n",
       "      <td>SD</td>\n",
       "      <td>6.0</td>\n",
       "    </tr>\n",
       "    <tr>\n",
       "      <th>2000-09-03 18:02:00</th>\n",
       "      <td>ATL</td>\n",
       "      <td>36.0</td>\n",
       "      <td>SF</td>\n",
       "      <td>28.0</td>\n",
       "    </tr>\n",
       "    <tr>\n",
       "      <th>2000-09-03 18:03:33</th>\n",
       "      <td>NYG</td>\n",
       "      <td>21.0</td>\n",
       "      <td>ARI</td>\n",
       "      <td>16.0</td>\n",
       "    </tr>\n",
       "    <tr>\n",
       "      <th>2000-09-03 18:03:36</th>\n",
       "      <td>NO</td>\n",
       "      <td>10.0</td>\n",
       "      <td>DET</td>\n",
       "      <td>14.0</td>\n",
       "    </tr>\n",
       "  </tbody>\n",
       "</table>\n",
       "</div>"
      ],
      "text/plain": [
       "                    home.alias  scoring.home_points away.alias  \\\n",
       "scheduled                                                        \n",
       "2000-09-03 00:00:00        PIT                  0.0        BAL   \n",
       "2000-09-03 00:00:00        OAK                  9.0         SD   \n",
       "2000-09-03 18:02:00        ATL                 36.0         SF   \n",
       "2000-09-03 18:03:33        NYG                 21.0        ARI   \n",
       "2000-09-03 18:03:36         NO                 10.0        DET   \n",
       "\n",
       "                     scoring.away_points  \n",
       "scheduled                                 \n",
       "2000-09-03 00:00:00                 16.0  \n",
       "2000-09-03 00:00:00                  6.0  \n",
       "2000-09-03 18:02:00                 28.0  \n",
       "2000-09-03 18:03:33                 16.0  \n",
       "2000-09-03 18:03:36                 14.0  "
      ]
     },
     "execution_count": 14,
     "metadata": {},
     "output_type": "execute_result"
    }
   ],
   "source": [
    "nfl10.head()"
   ]
  },
  {
   "cell_type": "markdown",
   "metadata": {},
   "source": [
    "## Winner Column\n",
    "\n",
    "Create a column where scores are compared and the largest is the winner"
   ]
  },
  {
   "cell_type": "code",
   "execution_count": 15,
   "metadata": {},
   "outputs": [],
   "source": [
    "nfl10['winner'] = np.where(nfl10['scoring.home_points'] > nfl10['scoring.away_points'], nfl10['home.alias'], nfl10['away.alias'])"
   ]
  },
  {
   "cell_type": "code",
   "execution_count": 16,
   "metadata": {},
   "outputs": [
    {
     "data": {
      "text/html": [
       "<div>\n",
       "<style scoped>\n",
       "    .dataframe tbody tr th:only-of-type {\n",
       "        vertical-align: middle;\n",
       "    }\n",
       "\n",
       "    .dataframe tbody tr th {\n",
       "        vertical-align: top;\n",
       "    }\n",
       "\n",
       "    .dataframe thead th {\n",
       "        text-align: right;\n",
       "    }\n",
       "</style>\n",
       "<table border=\"1\" class=\"dataframe\">\n",
       "  <thead>\n",
       "    <tr style=\"text-align: right;\">\n",
       "      <th></th>\n",
       "      <th>home.alias</th>\n",
       "      <th>scoring.home_points</th>\n",
       "      <th>away.alias</th>\n",
       "      <th>scoring.away_points</th>\n",
       "      <th>winner</th>\n",
       "    </tr>\n",
       "    <tr>\n",
       "      <th>scheduled</th>\n",
       "      <th></th>\n",
       "      <th></th>\n",
       "      <th></th>\n",
       "      <th></th>\n",
       "      <th></th>\n",
       "    </tr>\n",
       "  </thead>\n",
       "  <tbody>\n",
       "    <tr>\n",
       "      <th>2000-09-03 00:00:00</th>\n",
       "      <td>PIT</td>\n",
       "      <td>0.0</td>\n",
       "      <td>BAL</td>\n",
       "      <td>16.0</td>\n",
       "      <td>BAL</td>\n",
       "    </tr>\n",
       "    <tr>\n",
       "      <th>2000-09-03 00:00:00</th>\n",
       "      <td>OAK</td>\n",
       "      <td>9.0</td>\n",
       "      <td>SD</td>\n",
       "      <td>6.0</td>\n",
       "      <td>OAK</td>\n",
       "    </tr>\n",
       "    <tr>\n",
       "      <th>2000-09-03 18:02:00</th>\n",
       "      <td>ATL</td>\n",
       "      <td>36.0</td>\n",
       "      <td>SF</td>\n",
       "      <td>28.0</td>\n",
       "      <td>ATL</td>\n",
       "    </tr>\n",
       "    <tr>\n",
       "      <th>2000-09-03 18:03:33</th>\n",
       "      <td>NYG</td>\n",
       "      <td>21.0</td>\n",
       "      <td>ARI</td>\n",
       "      <td>16.0</td>\n",
       "      <td>NYG</td>\n",
       "    </tr>\n",
       "    <tr>\n",
       "      <th>2000-09-03 18:03:36</th>\n",
       "      <td>NO</td>\n",
       "      <td>10.0</td>\n",
       "      <td>DET</td>\n",
       "      <td>14.0</td>\n",
       "      <td>DET</td>\n",
       "    </tr>\n",
       "  </tbody>\n",
       "</table>\n",
       "</div>"
      ],
      "text/plain": [
       "                    home.alias  scoring.home_points away.alias  \\\n",
       "scheduled                                                        \n",
       "2000-09-03 00:00:00        PIT                  0.0        BAL   \n",
       "2000-09-03 00:00:00        OAK                  9.0         SD   \n",
       "2000-09-03 18:02:00        ATL                 36.0         SF   \n",
       "2000-09-03 18:03:33        NYG                 21.0        ARI   \n",
       "2000-09-03 18:03:36         NO                 10.0        DET   \n",
       "\n",
       "                     scoring.away_points winner  \n",
       "scheduled                                        \n",
       "2000-09-03 00:00:00                 16.0    BAL  \n",
       "2000-09-03 00:00:00                  6.0    OAK  \n",
       "2000-09-03 18:02:00                 28.0    ATL  \n",
       "2000-09-03 18:03:33                 16.0    NYG  \n",
       "2000-09-03 18:03:36                 14.0    DET  "
      ]
     },
     "execution_count": 16,
     "metadata": {},
     "output_type": "execute_result"
    }
   ],
   "source": [
    "nfl10.head()"
   ]
  },
  {
   "cell_type": "markdown",
   "metadata": {},
   "source": [
    "## Inspect Data"
   ]
  },
  {
   "cell_type": "code",
   "execution_count": 21,
   "metadata": {},
   "outputs": [
    {
     "name": "stdout",
     "output_type": "stream",
     "text": [
      "<class 'pandas.core.frame.DataFrame'>\n",
      "DatetimeIndex: 4593 entries, 2000-09-03 00:00:00 to 2017-12-31 21:25:00\n",
      "Data columns (total 5 columns):\n",
      "home.alias             4593 non-null object\n",
      "scoring.home_points    4592 non-null float64\n",
      "away.alias             4593 non-null object\n",
      "scoring.away_points    4592 non-null float64\n",
      "winner                 4593 non-null object\n",
      "dtypes: float64(2), object(3)\n",
      "memory usage: 375.3+ KB\n"
     ]
    }
   ],
   "source": [
    "nfl10.info()"
   ]
  },
  {
   "cell_type": "code",
   "execution_count": 18,
   "metadata": {},
   "outputs": [
    {
     "data": {
      "text/plain": [
       "array(['PIT', 'OAK', 'ATL', 'NYG', 'NO', 'NE', 'KC', 'WAS', 'MIN', 'DAL',\n",
       "       'MIA', 'GB', 'BUF', 'CLE', 'STL', 'IND', 'CIN', 'BAL', 'TB', 'PHI',\n",
       "       'SEA', 'DEN', 'DET', 'SF', 'SD', 'ARI', 'TEN', 'NYJ', 'JAC', 'CAR',\n",
       "       'CHI', 'HOU', 'LA', 'LAC'], dtype=object)"
      ]
     },
     "execution_count": 18,
     "metadata": {},
     "output_type": "execute_result"
    }
   ],
   "source": [
    "nfl10['home.alias'].unique()"
   ]
  },
  {
   "cell_type": "code",
   "execution_count": 20,
   "metadata": {},
   "outputs": [
    {
     "data": {
      "text/plain": [
       "MIA    145\n",
       "IND    144\n",
       "CAR    144\n",
       "BAL    144\n",
       "NO     144\n",
       "ARI    144\n",
       "NYG    144\n",
       "CIN    144\n",
       "SF     144\n",
       "DAL    144\n",
       "PHI    144\n",
       "CLE    144\n",
       "TB     144\n",
       "PIT    144\n",
       "BUF    144\n",
       "DET    144\n",
       "JAC    144\n",
       "SEA    144\n",
       "ATL    144\n",
       "GB     144\n",
       "NE     144\n",
       "NYJ    144\n",
       "WAS    144\n",
       "MIN    144\n",
       "CHI    144\n",
       "OAK    144\n",
       "TEN    144\n",
       "DEN    144\n",
       "KC     144\n",
       "SD     136\n",
       "HOU    128\n",
       "STL    128\n",
       "LA      16\n",
       "LAC      8\n",
       "Name: home.alias, dtype: int64"
      ]
     },
     "execution_count": 20,
     "metadata": {},
     "output_type": "execute_result"
    }
   ],
   "source": [
    "nfl10['home.alias'].value_counts(dropna=False)"
   ]
  },
  {
   "cell_type": "code",
   "execution_count": 22,
   "metadata": {},
   "outputs": [
    {
     "data": {
      "text/plain": [
       "array([ 0.,  9., 36., 21., 10., 16., 14., 20., 30., 23.,  7., 41., 31.,\n",
       "       27., 39., 18., 13., 34., 42., 15., 22., 32., 17.,  6., 24., 19.,\n",
       "       37.,  3., 12., 43., 57., 28., 38., 26., 29., 45., 44., 48., 54.,\n",
       "       40., 49.,  8., 35., 52., 25., 33., 47., 50., 56., 58., 51.,  5.,\n",
       "       11., 59., 62., 46., 55.,  2., 53., nan])"
      ]
     },
     "execution_count": 22,
     "metadata": {},
     "output_type": "execute_result"
    }
   ],
   "source": [
    "nfl10['scoring.home_points'].unique()  # has one nan value"
   ]
  },
  {
   "cell_type": "code",
   "execution_count": 23,
   "metadata": {},
   "outputs": [
    {
     "data": {
      "text/plain": [
       " 20.0    339\n",
       " 24.0    302\n",
       " 17.0    285\n",
       " 27.0    281\n",
       " 31.0    244\n",
       " 13.0    221\n",
       " 10.0    209\n",
       " 23.0    206\n",
       " 21.0    173\n",
       " 34.0    167\n",
       " 16.0    157\n",
       " 14.0    150\n",
       " 30.0    150\n",
       " 28.0    147\n",
       " 7.0     121\n",
       " 26.0    112\n",
       " 38.0    106\n",
       " 19.0    106\n",
       " 6.0      80\n",
       " 35.0     80\n",
       " 22.0     76\n",
       " 3.0      75\n",
       " 37.0     62\n",
       " 9.0      59\n",
       " 41.0     52\n",
       " 33.0     51\n",
       " 0.0      48\n",
       " 29.0     48\n",
       " 25.0     42\n",
       " 12.0     42\n",
       " 45.0     41\n",
       " 15.0     41\n",
       " 18.0     34\n",
       " 42.0     34\n",
       " 32.0     27\n",
       " 48.0     27\n",
       " 44.0     27\n",
       " 36.0     26\n",
       " 40.0     21\n",
       " 49.0     19\n",
       " 39.0     16\n",
       " 43.0     15\n",
       " 52.0     12\n",
       " 51.0     10\n",
       " 11.0      9\n",
       " 47.0      9\n",
       " 8.0       7\n",
       " 56.0      4\n",
       " 55.0      4\n",
       " 46.0      4\n",
       " 54.0      3\n",
       " 58.0      2\n",
       " 59.0      2\n",
       " 57.0      2\n",
       " 5.0       1\n",
       "NaN        1\n",
       " 53.0      1\n",
       " 50.0      1\n",
       " 62.0      1\n",
       " 2.0       1\n",
       "Name: scoring.home_points, dtype: int64"
      ]
     },
     "execution_count": 23,
     "metadata": {},
     "output_type": "execute_result"
    }
   ],
   "source": [
    "nfl10['scoring.home_points'].unique()  # has one nan value"
   ]
  },
  {
   "cell_type": "code",
   "execution_count": 24,
   "metadata": {},
   "outputs": [
    {
     "data": {
      "text/plain": [
       "array(['BAL', 'SD', 'SF', 'ARI', 'DET', 'TB', 'IND', 'CAR', 'CHI', 'PHI',\n",
       "       'SEA', 'NYJ', 'TEN', 'JAC', 'DEN', 'OAK', 'CLE', 'GB', 'NYG',\n",
       "       'MIA', 'STL', 'ATL', 'WAS', 'NO', 'DAL', 'KC', 'NE', 'BUF', 'CIN',\n",
       "       'PIT', 'MIN', 'HOU', 'LA', 'LAC'], dtype=object)"
      ]
     },
     "execution_count": 24,
     "metadata": {},
     "output_type": "execute_result"
    }
   ],
   "source": [
    "nfl10['away.alias'].unique()  # ok"
   ]
  },
  {
   "cell_type": "code",
   "execution_count": 25,
   "metadata": {},
   "outputs": [
    {
     "data": {
      "text/plain": [
       "TB     145\n",
       "DET    144\n",
       "IND    144\n",
       "CAR    144\n",
       "BAL    144\n",
       "NO     144\n",
       "ARI    144\n",
       "NYG    144\n",
       "CIN    144\n",
       "SF     144\n",
       "DAL    144\n",
       "PHI    144\n",
       "CLE    144\n",
       "PIT    144\n",
       "BUF    144\n",
       "MIA    144\n",
       "JAC    144\n",
       "SEA    144\n",
       "ATL    144\n",
       "GB     144\n",
       "NE     144\n",
       "NYJ    144\n",
       "WAS    144\n",
       "MIN    144\n",
       "CHI    144\n",
       "OAK    144\n",
       "TEN    144\n",
       "DEN    144\n",
       "KC     144\n",
       "SD     136\n",
       "HOU    128\n",
       "STL    128\n",
       "LA      16\n",
       "LAC      8\n",
       "Name: away.alias, dtype: int64"
      ]
     },
     "execution_count": 25,
     "metadata": {},
     "output_type": "execute_result"
    }
   ],
   "source": [
    "nfl10['away.alias'].value_counts(dropna=False)"
   ]
  },
  {
   "cell_type": "code",
   "execution_count": 26,
   "metadata": {},
   "outputs": [
    {
     "data": {
      "text/plain": [
       "array([16.,  6., 28., 14., 21., 27., 17., 41.,  0., 20., 13., 36., 38.,\n",
       "       24., 18., 33.,  7., 37., 10., 31., 19.,  3., 15., 23., 29., 12.,\n",
       "       34.,  9., 35., 30., 11., 26., 48., 45., 22., 25., 42., 32., 40.,\n",
       "       44., 49., 43., 55., 39.,  5.,  8., 56., 54., 47., 46., 59., 52.,\n",
       "       51., 50., nan])"
      ]
     },
     "execution_count": 26,
     "metadata": {},
     "output_type": "execute_result"
    }
   ],
   "source": [
    "nfl10['scoring.away_points'].unique()  # has one nan value"
   ]
  },
  {
   "cell_type": "code",
   "execution_count": 28,
   "metadata": {},
   "outputs": [
    {
     "data": {
      "text/plain": [
       " 17.0    351\n",
       " 24.0    304\n",
       " 20.0    300\n",
       " 10.0    288\n",
       " 13.0    266\n",
       " 27.0    234\n",
       " 14.0    229\n",
       " 23.0    219\n",
       " 7.0     197\n",
       " 21.0    173\n",
       " 31.0    164\n",
       " 16.0    156\n",
       " 3.0     139\n",
       " 34.0    132\n",
       " 28.0    119\n",
       " 30.0    109\n",
       " 6.0     103\n",
       " 26.0     95\n",
       " 38.0     93\n",
       " 19.0     93\n",
       " 0.0      83\n",
       " 9.0      69\n",
       " 33.0     66\n",
       " 35.0     60\n",
       " 37.0     59\n",
       " 41.0     54\n",
       " 22.0     52\n",
       " 25.0     44\n",
       " 15.0     43\n",
       " 29.0     42\n",
       " 12.0     41\n",
       " 18.0     32\n",
       " 42.0     25\n",
       " 36.0     24\n",
       " 45.0     20\n",
       " 32.0     18\n",
       " 40.0     18\n",
       " 44.0     12\n",
       " 48.0     11\n",
       " 11.0     10\n",
       " 49.0     10\n",
       " 8.0       7\n",
       " 39.0      7\n",
       " 43.0      5\n",
       " 51.0      3\n",
       " 47.0      2\n",
       " 5.0       2\n",
       " 59.0      2\n",
       " 56.0      2\n",
       " 55.0      1\n",
       " 52.0      1\n",
       "NaN        1\n",
       " 54.0      1\n",
       " 46.0      1\n",
       " 50.0      1\n",
       "Name: scoring.away_points, dtype: int64"
      ]
     },
     "execution_count": 28,
     "metadata": {},
     "output_type": "execute_result"
    }
   ],
   "source": [
    "nfl10['scoring.away_points'].value_counts(dropna=False) # has one nan value"
   ]
  },
  {
   "cell_type": "markdown",
   "metadata": {},
   "source": [
    "## Find nan value\n",
    "\n",
    "- create mask to find nan value"
   ]
  },
  {
   "cell_type": "code",
   "execution_count": 43,
   "metadata": {},
   "outputs": [
    {
     "data": {
      "text/html": [
       "<div>\n",
       "<style scoped>\n",
       "    .dataframe tbody tr th:only-of-type {\n",
       "        vertical-align: middle;\n",
       "    }\n",
       "\n",
       "    .dataframe tbody tr th {\n",
       "        vertical-align: top;\n",
       "    }\n",
       "\n",
       "    .dataframe thead th {\n",
       "        text-align: right;\n",
       "    }\n",
       "</style>\n",
       "<table border=\"1\" class=\"dataframe\">\n",
       "  <thead>\n",
       "    <tr style=\"text-align: right;\">\n",
       "      <th></th>\n",
       "      <th>home.alias</th>\n",
       "      <th>scoring.home_points</th>\n",
       "      <th>away.alias</th>\n",
       "      <th>scoring.away_points</th>\n",
       "      <th>winner</th>\n",
       "    </tr>\n",
       "    <tr>\n",
       "      <th>scheduled</th>\n",
       "      <th></th>\n",
       "      <th></th>\n",
       "      <th></th>\n",
       "      <th></th>\n",
       "      <th></th>\n",
       "    </tr>\n",
       "  </thead>\n",
       "  <tbody>\n",
       "    <tr>\n",
       "      <th>2017-09-10 17:00:00</th>\n",
       "      <td>MIA</td>\n",
       "      <td>NaN</td>\n",
       "      <td>TB</td>\n",
       "      <td>NaN</td>\n",
       "      <td>TB</td>\n",
       "    </tr>\n",
       "  </tbody>\n",
       "</table>\n",
       "</div>"
      ],
      "text/plain": [
       "                    home.alias  scoring.home_points away.alias  \\\n",
       "scheduled                                                        \n",
       "2017-09-10 17:00:00        MIA                  NaN         TB   \n",
       "\n",
       "                     scoring.away_points winner  \n",
       "scheduled                                        \n",
       "2017-09-10 17:00:00                  NaN     TB  "
      ]
     },
     "execution_count": 43,
     "metadata": {},
     "output_type": "execute_result"
    }
   ],
   "source": [
    "nfl10[nfl10['scoring.home_points'].isnull()]"
   ]
  },
  {
   "cell_type": "markdown",
   "metadata": {},
   "source": [
    "## Google it!\n",
    "\n",
    "- it was posponed\n",
    "\n",
    "[google search](https://www.google.com/search?q=2017-09-10+miami+vs+tampa+bay&rlz=1C1CHBD_enUS769US769&oq=2017-09-10++miami+vs+tampa+bay&aqs=chrome..69i57.12899j0j4&sourceid=chrome&ie=UTF-8#sie=m;/g/11f53rgny4;6;/m/059yj;dt;fp;1)"
   ]
  },
  {
   "cell_type": "markdown",
   "metadata": {},
   "source": [
    "## Save clean version to csv"
   ]
  },
  {
   "cell_type": "code",
   "execution_count": 53,
   "metadata": {},
   "outputs": [],
   "source": [
    "nfl10.to_csv('clean_data/nfl10clean.csv')"
   ]
  },
  {
   "cell_type": "markdown",
   "metadata": {},
   "source": [
    "## Select only games form 2008 - 2017"
   ]
  },
  {
   "cell_type": "code",
   "execution_count": 50,
   "metadata": {},
   "outputs": [],
   "source": [
    "nfl_08_17 = nfl10.loc['2008':'2017']"
   ]
  },
  {
   "cell_type": "code",
   "execution_count": 51,
   "metadata": {},
   "outputs": [
    {
     "name": "stdout",
     "output_type": "stream",
     "text": [
      "<class 'pandas.core.frame.DataFrame'>\n",
      "DatetimeIndex: 2561 entries, 2008-09-04 23:07:39 to 2017-12-31 21:25:00\n",
      "Data columns (total 5 columns):\n",
      "home.alias             2561 non-null object\n",
      "scoring.home_points    2560 non-null float64\n",
      "away.alias             2561 non-null object\n",
      "scoring.away_points    2560 non-null float64\n",
      "winner                 2561 non-null object\n",
      "dtypes: float64(2), object(3)\n",
      "memory usage: 120.0+ KB\n"
     ]
    }
   ],
   "source": [
    "nfl_08_17.info()"
   ]
  },
  {
   "cell_type": "markdown",
   "metadata": {},
   "source": [
    "## Save clean  selected data to  to csv"
   ]
  },
  {
   "cell_type": "code",
   "execution_count": 52,
   "metadata": {},
   "outputs": [],
   "source": [
    "nfl_08_17.to_csv('clean_data/nfl_08_17_clean.csv')"
   ]
  },
  {
   "cell_type": "code",
   "execution_count": 55,
   "metadata": {},
   "outputs": [
    {
     "name": "stdout",
     "output_type": "stream",
     "text": [
      "\u001b[0m\u001b[01;32mastros_08_17_clean.csv\u001b[0m*       \u001b[01;32mmls_clean.csv\u001b[0m*        \u001b[01;32mrice_08_17_clean.csv\u001b[0m*\r\n",
      "\u001b[01;32mdynamo_08_17_clean.csv\u001b[0m*       \u001b[01;32mnfl_08_17_clean.csv\u001b[0m*  \u001b[01;32mtsu_08_17_clean.csv\u001b[0m*\r\n",
      "\u001b[01;32mhou_rockets_08_17_clean.csv\u001b[0m*  \u001b[01;32mnfl10clean.csv\u001b[0m*       \u001b[01;32muh_08_17_clean.csv\u001b[0m*\r\n",
      "\u001b[01;32mmls_08_16_clean.csv\u001b[0m*          \u001b[01;32mnfl10yearsfull.csv\u001b[0m*\r\n"
     ]
    }
   ],
   "source": [
    "ls clean_data/"
   ]
  },
  {
   "cell_type": "code",
   "execution_count": 56,
   "metadata": {},
   "outputs": [],
   "source": [
    "## Finish"
   ]
  },
  {
   "cell_type": "code",
   "execution_count": null,
   "metadata": {},
   "outputs": [],
   "source": []
  }
 ],
 "metadata": {
  "kernelspec": {
   "display_name": "Python 3",
   "language": "python",
   "name": "python3"
  },
  "language_info": {
   "codemirror_mode": {
    "name": "ipython",
    "version": 3
   },
   "file_extension": ".py",
   "mimetype": "text/x-python",
   "name": "python",
   "nbconvert_exporter": "python",
   "pygments_lexer": "ipython3",
   "version": "3.6.4"
  }
 },
 "nbformat": 4,
 "nbformat_minor": 2
}
