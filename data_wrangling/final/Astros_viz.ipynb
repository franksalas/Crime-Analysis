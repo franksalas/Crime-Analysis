{
 "cells": [
  {
   "cell_type": "code",
   "execution_count": null,
   "metadata": {},
   "outputs": [],
   "source": [
    "import pandas as pd\n",
    "import numpy as np\n",
    "import folium\n",
    "\n",
    "import geopy.distance\n",
    "from geopy.distance import lonlat, distance\n",
    "import matplotlib.pyplot as plt\n",
    "from folium import plugins\n",
    "import seaborn as sns\n",
    "import geopandas as gpd\n",
    "import plot_func as pf\n",
    "sns.set_style(\"darkgrid\")\n",
    "sns.set_context(\"notebook\")\n",
    "current_palette = sns.color_palette(\"hls\", 8)"
   ]
  },
  {
   "cell_type": "code",
   "execution_count": null,
   "metadata": {},
   "outputs": [],
   "source": []
  },
  {
   "cell_type": "code",
   "execution_count": null,
   "metadata": {},
   "outputs": [],
   "source": [
    "ls data"
   ]
  },
  {
   "cell_type": "code",
   "execution_count": null,
   "metadata": {},
   "outputs": [],
   "source": [
    "path = 'data/crime_astros_final.csv'\n",
    "beat1 = 'beat_geojson/1A10.geojson'\n",
    "beat2 = 'beat_geojson/10H30.geojson'\n",
    "beat3 = 'beat_geojson/10H10.geojson'\n",
    "stadium_l = [29.756944, -95.355556]"
   ]
  },
  {
   "cell_type": "code",
   "execution_count": null,
   "metadata": {},
   "outputs": [],
   "source": [
    "df = pd.read_csv(path)\n",
    "df=df.rename(columns = {'Unnamed: 0':'date',\n",
    "                       'Hour':'hour'})\n",
    "df.hour = df.hour.astype(int)\n",
    "df.day = df.day.astype(int)\n",
    "df.year = df.year.astype(int)\n",
    "df.date = pd.to_datetime(df.date)  # datetime index\n",
    "df = df.set_index('date').sort_index(ascending=True)\n",
    "df.info()"
   ]
  },
  {
   "cell_type": "code",
   "execution_count": null,
   "metadata": {},
   "outputs": [],
   "source": [
    "df.game.value_counts()"
   ]
  },
  {
   "cell_type": "code",
   "execution_count": null,
   "metadata": {},
   "outputs": [],
   "source": []
  },
  {
   "cell_type": "code",
   "execution_count": null,
   "metadata": {},
   "outputs": [],
   "source": [
    "df['game_on'] = np.where(df.game =='No Game',0,1)"
   ]
  },
  {
   "cell_type": "code",
   "execution_count": null,
   "metadata": {},
   "outputs": [],
   "source": [
    "df['game_on'].value_counts(dropna=False)"
   ]
  },
  {
   "cell_type": "code",
   "execution_count": null,
   "metadata": {},
   "outputs": [],
   "source": [
    "df['game'].value_counts(dropna=False)"
   ]
  },
  {
   "cell_type": "code",
   "execution_count": null,
   "metadata": {},
   "outputs": [],
   "source": [
    "df.drop(['game'],axis=1,inplace=True)"
   ]
  },
  {
   "cell_type": "code",
   "execution_count": null,
   "metadata": {},
   "outputs": [],
   "source": [
    "df.head()"
   ]
  },
  {
   "cell_type": "markdown",
   "metadata": {},
   "source": [
    "## Display"
   ]
  },
  {
   "cell_type": "code",
   "execution_count": null,
   "metadata": {},
   "outputs": [],
   "source": [
    "two_mile =  df.dist_stadium <= 2.0\n",
    "more_mile = df.dist_stadium > 1.0 \n",
    "one_mile =  df.dist_stadium <= 1.0\n",
    "h_mile = df.dist_stadium < 0.5\n",
    "q_mile = df.dist_stadium < 0.25"
   ]
  },
  {
   "cell_type": "code",
   "execution_count": null,
   "metadata": {},
   "outputs": [],
   "source": [
    "two = df[two_mile]\n",
    "one = df[one_mile]\n",
    "half = df[h_mile]\n",
    "qtr =  df[q_mile]"
   ]
  },
  {
   "cell_type": "code",
   "execution_count": null,
   "metadata": {},
   "outputs": [],
   "source": [
    "m = folium.Map(stadium_l,     tiles='Stamen Toner',\n",
    "zoom_start=14)\n",
    "\n",
    "# convert to (n, 2) nd-array format for heatmap\n",
    "stationArr = one[['lat', 'lon']].as_matrix()\n",
    "folium.Marker(stadium_l, popup='<i>Astros Stadium</i>').add_to(m)\n",
    "\n",
    "\n",
    "# add beat geojson file\n",
    "folium.GeoJson(beat1,\n",
    "    name='geojson'\n",
    ").add_to(m)\n",
    "\n",
    "\n",
    "# add beat geojson file\n",
    "folium.GeoJson(beat2,\n",
    "    name='geojson'\n",
    ").add_to(m)\n",
    "\n",
    "# add beat geojson file\n",
    "folium.GeoJson(beat3,\n",
    "    name='geojson'\n",
    ").add_to(m)\n",
    "\n",
    "\n",
    "\n",
    "# folium.Circle(\n",
    "#     radius=1609,\n",
    "#     location=stadium_l,\n",
    "#     popup='The Waterfront',\n",
    "#     color='crimson',\n",
    "#     fill=False,\n",
    "# ).add_to(m)\n",
    "\n",
    "# plot heatmap\n",
    "m.add_child(plugins.HeatMap(stationArr.tolist(), radius=15))\n",
    "\n",
    "m"
   ]
  },
  {
   "cell_type": "code",
   "execution_count": null,
   "metadata": {},
   "outputs": [],
   "source": [
    "one.OffenseType.value_counts()"
   ]
  },
  {
   "cell_type": "code",
   "execution_count": null,
   "metadata": {},
   "outputs": [],
   "source": [
    "pt = pf.offense_df(one)\n",
    "df_aa = one[pt['Aggravated Assault']]\n",
    "df_b = one[pt['Burglary']]\n",
    "df_t = one[pt['Theft']]\n",
    "df_at = one[pt['Auto Theft']]\n",
    "df_ra = one[pt['Rape']]\n",
    "df_ro = one[pt['Robbery']]\n",
    "df_mu = one[pt['Murder']]"
   ]
  },
  {
   "cell_type": "code",
   "execution_count": null,
   "metadata": {},
   "outputs": [],
   "source": []
  },
  {
   "cell_type": "code",
   "execution_count": null,
   "metadata": {},
   "outputs": [],
   "source": [
    "def time_plot6d(f1,f1_name,f2,f2_name,f3,f3_name,f4,f4_name,f5,f5_name,f6,f6_name,col,title,xlab,ylab,save=False):\n",
    "    plt.figure(figsize = (15,5))\n",
    "    ax = f1.groupby(f1.hour)['{}'.format(col)].count().plot(xlim=(0,23))\n",
    "    ax = f2.groupby(f2.hour)['{}'.format(col)].count().plot()\n",
    "    ax = f3.groupby(f3.hour)['{}'.format(col)].count().plot()\n",
    "    ax = f4.groupby(f4.hour)['{}'.format(col)].count().plot()\n",
    "    ax = f5.groupby(f5.hour)['{}'.format(col)].count().plot()\n",
    "    ax = f6.groupby(f6.hour)['{}'.format(col)].count().plot()\n",
    "    \n",
    "    ax.set_xticks(np.arange(0, 24))\n",
    "\n",
    "    plt.title(title)\n",
    "    plt.xlabel(xlab)\n",
    "    plt.ylabel(ylab)\n",
    "    plt.legend([f1_name,f2_name,f3_name,f4_name,f5_name,f6_name],\n",
    "    bbox_to_anchor=(1.05, 1), loc=2, borderaxespad=0)\n",
    "    if save == True:\n",
    "        plt.savefig('{}.png'.format(title), dpi = 600, facecolor='w',\n",
    "                edgecolor='w',transparent=True, \n",
    "                bbox_inches=None, pad_inches=0.1, frameon=False)\n",
    "    plt.show()\n"
   ]
  },
  {
   "cell_type": "code",
   "execution_count": null,
   "metadata": {},
   "outputs": [],
   "source": [
    "def time_plot5d(f1,f1_name,f2,f2_name,f3,f3_name,f4,f4_name,f5,f5_name,col,title,xlab,ylab,save=False):\n",
    "    plt.figure(figsize = (15,5))\n",
    "    ax = f1.groupby(f1.hour)['{}'.format(col)].count().plot(xlim=(0,23))\n",
    "    ax = f2.groupby(f2.hour)['{}'.format(col)].count().plot()\n",
    "    ax = f3.groupby(f3.hour)['{}'.format(col)].count().plot()\n",
    "    ax = f4.groupby(f4.hour)['{}'.format(col)].count().plot()\n",
    "    ax = f5.groupby(f5.hour)['{}'.format(col)].count().plot()\n",
    "    \n",
    "    ax.set_xticks(np.arange(0, 24))\n",
    "\n",
    "    plt.title(title)\n",
    "    plt.xlabel(xlab)\n",
    "    plt.ylabel(ylab)\n",
    "    plt.legend([f1_name,f2_name,f3_name,f4_name,f5_name],\n",
    "    bbox_to_anchor=(1.05, 1), loc=2, borderaxespad=0)\n",
    "    if save == True:\n",
    "        plt.savefig('{}.png'.format(title), dpi = 600, facecolor='w',\n",
    "                edgecolor='w',transparent=True, \n",
    "                bbox_inches=None, pad_inches=0.1, frameon=False)\n",
    "    plt.show()\n"
   ]
  },
  {
   "cell_type": "code",
   "execution_count": null,
   "metadata": {},
   "outputs": [],
   "source": [
    "title = '2010- 2017 OffenseType Timeline'\n",
    "xlab = 'Hour'\n",
    "ylab= 'Crimes'\n",
    "time_plot5d(\n",
    "            df_aa,'Aggravated Assault',\n",
    "            df_b,'Burglary',\n",
    "            df_at,'Auto Theft',\n",
    "            df_ra,'Rape',\n",
    "            df_mu,'Murder','OffenseType',title,xlab,ylab)"
   ]
  },
  {
   "cell_type": "code",
   "execution_count": null,
   "metadata": {},
   "outputs": [],
   "source": [
    "title = '2010- 2017 OffenseType Timeline'\n",
    "xlab = 'Hour'\n",
    "ylab= 'Crimes'\n",
    "time_plot6d(\n",
    "            df_aa,'Aggravated Assault',\n",
    "            df_b,'Burglary',\n",
    "            df_t,'Theft',\n",
    "            df_at,'Auto Theft',\n",
    "            df_ra,'Rape',\n",
    "            df_mu,'Murder','OffenseType',title,xlab,ylab)"
   ]
  },
  {
   "cell_type": "code",
   "execution_count": null,
   "metadata": {},
   "outputs": [],
   "source": [
    "t='2010-2017 Total Offenses One Mile Astros Stadium'\n",
    "xlab = ''\n",
    "ylab = 'Crimes'\n",
    "\n",
    "pf.barplot(one,'OffenseType',t,xlab,ylab)"
   ]
  },
  {
   "cell_type": "markdown",
   "metadata": {},
   "source": [
    "# No game v game\n",
    "display crime when there is no game vs game"
   ]
  },
  {
   "cell_type": "code",
   "execution_count": null,
   "metadata": {},
   "outputs": [],
   "source": [
    "nogame = one.game_on == 0\n",
    "one_nogame = one[nogame]\n",
    "\n",
    "pt = pf.offense_df(one_nogame)\n",
    "df_aa = one_nogame[pt['Aggravated Assault']]\n",
    "df_b = one_nogame[pt['Burglary']]\n",
    "df_t = one_nogame[pt['Theft']]\n",
    "df_at = one_nogame[pt['Auto Theft']]\n",
    "df_ra = one_nogame[pt['Rape']]\n",
    "df_ro = one_nogame[pt['Robbery']]\n",
    "df_mu = one_nogame[pt['Murder']]\n",
    "\n",
    "\n",
    "\n",
    "title = '2010- 2017 OffenseType Timeline NO GAME'\n",
    "xlab = 'Hour'\n",
    "ylab= 'Crimes'\n",
    "time_plot6d(\n",
    "            df_aa,'Aggravated Assault',\n",
    "            df_b,'Burglary',\n",
    "            df_t,'Theft',\n",
    "            df_at,'Auto Theft',\n",
    "            df_ra,'Rape',\n",
    "            df_mu,'Murder','OffenseType',title,xlab,ylab)"
   ]
  },
  {
   "cell_type": "code",
   "execution_count": null,
   "metadata": {},
   "outputs": [],
   "source": [
    "m = folium.Map(stadium_l,     tiles='Stamen Toner',\n",
    "zoom_start=14)\n",
    "\n",
    "# convert to (n, 2) nd-array format for heatmap\n",
    "stationArr = df_aa[['lat', 'lon']].as_matrix()\n",
    "folium.Marker(stadium_l, popup='<i>Astros Stadium</i>').add_to(m)\n",
    "\n",
    "\n",
    "folium.Circle(\n",
    "    radius=1609,\n",
    "    location=stadium_l,\n",
    "    popup='The Waterfront',\n",
    "    color='crimson',\n",
    "    fill=False,\n",
    ").add_to(m)\n",
    "\n",
    "# plot heatmap\n",
    "m.add_child(plugins.HeatMap(stationArr.tolist(), radius=15))\n",
    "\n",
    "m"
   ]
  },
  {
   "cell_type": "code",
   "execution_count": null,
   "metadata": {},
   "outputs": [],
   "source": [
    "m = folium.Map(stadium_l,     tiles='Stamen Toner',\n",
    "zoom_start=14)\n",
    "\n",
    "# convert to (n, 2) nd-array format for heatmap\n",
    "stationArr = df_b[['lat', 'lon']].as_matrix()\n",
    "folium.Marker(stadium_l, popup='<i>Astros Stadium</i>').add_to(m)\n",
    "\n",
    "\n",
    "folium.Circle(\n",
    "    radius=1609,\n",
    "    location=stadium_l,\n",
    "    popup='The Waterfront',\n",
    "    color='crimson',\n",
    "    fill=False,\n",
    ").add_to(m)\n",
    "\n",
    "# plot heatmap\n",
    "m.add_child(plugins.HeatMap(stationArr.tolist(), radius=15))\n",
    "\n",
    "m"
   ]
  },
  {
   "cell_type": "code",
   "execution_count": null,
   "metadata": {},
   "outputs": [],
   "source": [
    "yesgame = one.game_on == 1\n",
    "one_game = one[yesgame]\n",
    "\n",
    "pt = pf.offense_df(one_game)\n",
    "df_aa = one_game[pt['Aggravated Assault']]\n",
    "df_b = one_game[pt['Burglary']]\n",
    "df_t = one_game[pt['Theft']]\n",
    "df_at = one_game[pt['Auto Theft']]\n",
    "df_ra = one_game[pt['Rape']]\n",
    "df_ro = one_game[pt['Robbery']]\n",
    "df_mu = one_game[pt['Murder']]\n",
    "\n",
    "\n",
    "\n",
    "title = '2010- 2017 OffenseType Timeline GAME'\n",
    "xlab = 'Hour'\n",
    "ylab= 'Crimes'\n",
    "time_plot6d(\n",
    "            df_aa,'Aggravated Assault',\n",
    "            df_b,'Burglary',\n",
    "            df_t,'Theft',\n",
    "            df_at,'Auto Theft',\n",
    "            df_ra,'Rape',\n",
    "            df_mu,'Murder','OffenseType',title,xlab,ylab)"
   ]
  },
  {
   "cell_type": "code",
   "execution_count": null,
   "metadata": {},
   "outputs": [],
   "source": [
    "from ipywidgets import interact\n",
    "\n",
    "schemes = [\"normal.day\", \"normal.night\"]\n",
    "\n",
    "@interact(lat=(-90., 90.), lon=(-180., 180.), zoom=(0, 18), scheme=schemes, show_url=False)\n",
    "def get_here_maptile(lat=52.518611, lon=13.408333, zoom=11, scheme=\"normal.day\", show_url=False):\n",
    "    x, y = deg2tile(lat, lon, zoom)\n",
    "    params = dict(x=x, y=y, zoom=zoom, scheme=scheme, app_id=app_id, app_code=app_code)\n",
    "    url = \"https://1.base.maps.api.here.com/maptile/2.1/maptile/newest/{scheme}/{zoom}/{x}/{y}/256/png8?lg=eng&app_id={app_id}&app_code={app_code}\".format(**params)\n",
    "    if show_url:\n",
    "        print(url)\n",
    "    return Image(url=url)"
   ]
  },
  {
   "cell_type": "code",
   "execution_count": null,
   "metadata": {},
   "outputs": [],
   "source": [
    "import folium\n",
    "from ipywidgets import interact\n",
    "\n",
    "# Cloudmade Mapbox needs an API key, Mapbox Control Room is limited to a few levels\n",
    "tiles = [name.strip() for name in \"\"\"\n",
    "    OpenStreetMap\n",
    "    Mapbox Bright\n",
    "    Mapbox Control Room\n",
    "    Stamen Terrain\n",
    "    Stamen Toner\n",
    "    Stamen Watercolor\n",
    "    CartoDB positron\n",
    "    CartoDB dark_matter\"\"\".strip().split('\\n')]\n",
    "\n",
    "@interact(lat=(-90., 90.), lon=(-180., 180.), tiles=tiles, zoom=(1, 18))\n",
    "def create_map(lat=52.518611, lon=13.408333, tiles=\"Stamen Toner\", zoom=10):\n",
    "    return folium.Map(location=(lat, lon), tiles=tiles, zoom_start=zoom)"
   ]
  },
  {
   "cell_type": "code",
   "execution_count": null,
   "metadata": {},
   "outputs": [],
   "source": [
    "import folium\n",
    "from ipywidgets import interact\n",
    "\n",
    "cities = [\"Berlin\", \"Paris\", \"Chicago\", \"Singapore\"]\n",
    "examples = [\"Traffic\", \"Truck info\", \"Transit\", \"Regular\", \"Satellite\"]\n",
    "@interact(city=cities, example=examples)\n",
    "def show_canned_examples(city, example):\n",
    "    attr = \"HERE.com\"\n",
    "    latlon_for_city = {\n",
    "        \"Berlin\": (52.518611, 13.408333), \n",
    "        \"Paris\": (48.8567, 2.3508), \n",
    "        \"Chicago\": (41.88416, -87.63243),\n",
    "        \"Singapore\": (1.283333, 103.833333)\n",
    "    }\n",
    "    zoom = 14\n",
    "    queries = {\n",
    "        \"Traffic\":\n",
    "            \"https://1.traffic.maps.api.here.com/maptile/2.1/traffictile/newest/normal.traffic.day/{z}/{x}/{y}/256/png8?lg=eng&app_id=%s&app_code=%s\" % (app_id, app_code),\n",
    "        \"Regular\":\n",
    "            \"https://1.base.maps.api.here.com/maptile/2.1/maptile/newest/normal.day/{z}/{x}/{y}/256/png8?lg=eng&app_id=%s&app_code=%s\" % (app_id, app_code),\n",
    "        \"Truck info\":\n",
    "            \"https://1.base.maps.api.here.com/maptile/2.1/trucktile/newest/normal.day.grey/{z}/{x}/{y}/256/png8?lg=eng&app_id=%s&app_code=%s\" % (app_id, app_code),\n",
    "        \"Transit\":\n",
    "            \"https://1.base.maps.api.here.com/maptile/2.1/maptile/newest/normal.day.transit/{z}/{x}/{y}/256/png8?lg=eng&app_id=%s&app_code=%s\" % (app_id, app_code),\n",
    "        \"Satellite\":\n",
    "            \"https://1.aerial.maps.api.here.com/maptile/2.1/maptile/newest/hybrid.day/{z}/{x}/{y}/256/png8?lg=eng&app_id=%s&app_code=%s\" % (app_id, app_code),\n",
    "    }\n",
    "    return folium.Map(location=latlon_for_city[city], tiles=queries[example],attr=attr, zoom_start=zoom)"
   ]
  },
  {
   "cell_type": "code",
   "execution_count": null,
   "metadata": {},
   "outputs": [],
   "source": [
    "import folium\n",
    "from ipywidgets import interact\n",
    "#[29.756944, -95.355556]\n",
    "\n",
    "# Cloudmade Mapbox needs an API key, Mapbox Control Room is limited to a few levels\n",
    "tiles = [name.strip() for name in \"\"\"\n",
    "    OpenStreetMap\n",
    "    Mapbox Bright\n",
    "    Mapbox Control Room\n",
    "    Stamen Terrain\n",
    "    Stamen Toner\n",
    "    Stamen Watercolor\n",
    "    CartoDB positron\n",
    "    CartoDB dark_matter\"\"\".strip().split('\\n')]\n",
    "\n",
    "@interact(\n",
    "    lat=(-90., 90.),\n",
    "    lon=(-180., 180.), \n",
    "    tiles=tiles, \n",
    "    zoom=(1, 18))\n",
    "\n",
    "\n",
    "def create_map(lat=29.756944, lon=-95.355556, tiles=\"Stamen Toner\", zoom=10):\n",
    "    return folium.Map(location=(lat, lon), zoom_start=zoom)\n",
    "\n"
   ]
  },
  {
   "cell_type": "code",
   "execution_count": null,
   "metadata": {},
   "outputs": [],
   "source": [
    "one.OffenseType.unique()"
   ]
  },
  {
   "cell_type": "code",
   "execution_count": null,
   "metadata": {},
   "outputs": [],
   "source": [
    "import folium\n",
    "from ipywidgets import interact\n",
    "\n",
    "cities = [\"Theft\", \"Auto Theft\", \"Burglary\", \"Rape\"]\n",
    "examples = [\"Traffic\", \"Truck info\", \"Transit\", \"Regular\", \"Satellite\"]\n",
    "@interact(city=cities, example=examples)\n",
    "def show_canned_examples(city, example):\n",
    "    attr = \"HERE.com\"\n",
    "    latlon_for_city = {\n",
    "        \"Berlin\": (52.518611, 13.408333), \n",
    "        \"Paris\": (48.8567, 2.3508), \n",
    "        \"Chicago\": (41.88416, -87.63243),\n",
    "        \"Singapore\": (1.283333, 103.833333)\n",
    "    }\n",
    "    zoom = 14\n",
    "    queries = {\n",
    "        \"Traffic\":\n",
    "            \"https://1.traffic.maps.api.here.com/maptile/2.1/traffictile/newest/normal.traffic.day/{z}/{x}/{y}/256/png8?lg=eng&app_id=%s&app_code=%s\" % (app_id, app_code),\n",
    "        \"Regular\":\n",
    "            \"https://1.base.maps.api.here.com/maptile/2.1/maptile/newest/normal.day/{z}/{x}/{y}/256/png8?lg=eng&app_id=%s&app_code=%s\" % (app_id, app_code),\n",
    "        \"Truck info\":\n",
    "            \"https://1.base.maps.api.here.com/maptile/2.1/trucktile/newest/normal.day.grey/{z}/{x}/{y}/256/png8?lg=eng&app_id=%s&app_code=%s\" % (app_id, app_code),\n",
    "        \"Transit\":\n",
    "            \"https://1.base.maps.api.here.com/maptile/2.1/maptile/newest/normal.day.transit/{z}/{x}/{y}/256/png8?lg=eng&app_id=%s&app_code=%s\" % (app_id, app_code),\n",
    "        \"Satellite\":\n",
    "            \"https://1.aerial.maps.api.here.com/maptile/2.1/maptile/newest/hybrid.day/{z}/{x}/{y}/256/png8?lg=eng&app_id=%s&app_code=%s\" % (app_id, app_code),\n",
    "    }\n",
    "    return folium.Map(location=latlon_for_city[city], tiles=queries[example],attr=attr, zoom_start=zoom)"
   ]
  },
  {
   "cell_type": "code",
   "execution_count": null,
   "metadata": {},
   "outputs": [],
   "source": [
    "\n",
    "\n",
    "f = branca.element.Figure()\n",
    "\n",
    "# Create two maps.\n",
    "# m = folium.Map(\n",
    "#     location=[0, 0],\n",
    "#     tiles='stamenwatercolor',\n",
    "#     zoom_start=1,\n",
    "#     position='absolute',\n",
    "#     left='0%',\n",
    "#     width='50%',\n",
    "#     height='50%'\n",
    "# )\n",
    "\n",
    "\n",
    "m = folium.Map(stadium_l,\n",
    "    tiles='Stamen Toner',\n",
    "    zoom_start=12,\n",
    "    position='absolute',\n",
    "    left='0%',\n",
    "    width='50%',\n",
    "    height='50%'\n",
    ")\n",
    "burg = df_b[['lat', 'lon']].as_matrix()\n",
    "\n",
    "m.add_child(plugins.HeatMap(burg.tolist(), radius=15))\n",
    "\n",
    "#--------------------------\n",
    "m2 = folium.Map(stadium_l,\n",
    "    tiles='Stamen Toner',\n",
    "    zoom_start=12,\n",
    "    position='absolute',\n",
    "    left='50%',\n",
    "    width='50%',\n",
    "    height='50%',\n",
    "    top='50%',\n",
    ")\n",
    "aga = df_aa[['lat', 'lon']].as_matrix()\n",
    "\n",
    "m2.add_child(plugins.HeatMap(aga.tolist(), radius=15))\n",
    "\n",
    "\n",
    "m3 = folium.Map(stadium_l,\n",
    "    tiles='Stamen Toner',\n",
    "    zoom_start=12,\n",
    "    position='absolute',\n",
    "    left='50%',\n",
    "    width='50%',\n",
    "    height='50%'\n",
    ")\n",
    "mur = df_mu[['lat', 'lon']].as_matrix()\n",
    "\n",
    "m3.add_child(plugins.HeatMap(mur.tolist(), radius=15))\n",
    "\n",
    "\n",
    "m4 = folium.Map(stadium_l,\n",
    "    tiles='Stamen Toner',\n",
    "    zoom_start=12,\n",
    "    position='absolute',\n",
    "    left='0%',\n",
    "    width='50%',\n",
    "    height='50%',\n",
    "    top='50%'\n",
    ")\n",
    "rap = df_ra[['lat', 'lon']].as_matrix()\n",
    "\n",
    "m4.add_child(plugins.HeatMap(rap.tolist(), radius=15))\n",
    "\n",
    "\n",
    "\n",
    "# m2 = folium.Map(\n",
    "#     location=[46, 3],\n",
    "#     tiles='OpenStreetMap',\n",
    "#     zoom_start=4,\n",
    "#     position='absolute',\n",
    "#     left='50%',\n",
    "#     width='50%',\n",
    "#     height='50%',\n",
    "#     top='50%')\n",
    "\n",
    "# m2 = folium.Map(stadium_l,\n",
    "#                tiles='Stamen Toner',\n",
    "#                    zoom_start=15,\n",
    "#     position='absolute',\n",
    "#     left='50%',\n",
    "#     width='50%',\n",
    "#     height='50%',\n",
    "#     top='50%'\n",
    "# )\n",
    "\n",
    "\n",
    "\n",
    "\n",
    "\n",
    "# # Create two Vega.\n",
    "# v = features.VegaLite(\n",
    "#     data,\n",
    "#     position='absolute',\n",
    "#     left='50%',\n",
    "#     width='50%',\n",
    "#     height='50%'\n",
    "# )\n",
    "\n",
    "# v2 = features.VegaLite(\n",
    "#     data,\n",
    "#     position='absolute',\n",
    "#     left='0%',\n",
    "#     width='50%',\n",
    "#     height='50%',\n",
    "#     top='50%'\n",
    "# )\n",
    "\n",
    "f.add_child(m)\n",
    "f.add_child(m2)\n",
    "f.add_child(m3)\n",
    "f.add_child(m4)\n",
    "\n",
    "#f.save(os.path.join('results', 'Features_5.html'))\n",
    "\n",
    "f"
   ]
  },
  {
   "cell_type": "code",
   "execution_count": null,
   "metadata": {},
   "outputs": [],
   "source": [
    "yesgame = one.game_on == 1\n",
    "one_game = one[yesgame]\n",
    "one_game.info()"
   ]
  },
  {
   "cell_type": "code",
   "execution_count": null,
   "metadata": {},
   "outputs": [],
   "source": [
    "\n",
    "\n",
    "m = folium.Map(stadium_l,     tiles='Stamen Toner',\n",
    "zoom_start=14)\n",
    "\n",
    "# convert to (n, 2) nd-array format for heatmap\n",
    "crime_nogame = one_nogame[['lat', 'lon']].as_matrix()\n",
    "crime_game = one_game[['lat', 'lon']].as_matrix()\n",
    "\n",
    "folium.Marker(stadium_l, popup='<i>Astros Stadium</i>').add_to(m)\n",
    "\n",
    "\n",
    "# add beat geojson file\n",
    "folium.GeoJson(beat1,\n",
    "    name='geojson'\n",
    ").add_to(m)\n",
    "\n",
    "\n",
    "# add beat geojson file\n",
    "folium.GeoJson(beat2,\n",
    "    name='geojson'\n",
    ").add_to(m)\n",
    "\n",
    "# add beat geojson file\n",
    "folium.GeoJson(beat3,\n",
    "    name='geojson'\n",
    ").add_to(m)\n",
    "\n",
    "\n",
    "\n",
    "folium.Circle(\n",
    "    radius=1609,\n",
    "    location=stadium_l,\n",
    "    popup='The Waterfront',\n",
    "    color='crimson',\n",
    "    fill=False,\n",
    ").add_to(m)\n",
    "\n",
    "# plot heatmap\n",
    "#m.add_child(plugins.HeatMap(stationArr.tolist(), radius=15))\n",
    "m.add_child(plugins.HeatMap(crime_game.tolist(), radius=15,gradient={ 1: 'yellow'}))\n",
    "\n",
    "m.add_child(plugins.HeatMap(crime_nogame.tolist(), radius=5,gradient={ 1: 'green'}))\n",
    "\n",
    "m"
   ]
  },
  {
   "cell_type": "code",
   "execution_count": null,
   "metadata": {},
   "outputs": [],
   "source": [
    "yesgame = one.game_on == 1\n",
    "one_game = one[yesgame]\n",
    "\n",
    "\n",
    "\n",
    "m = folium.Map(stadium_l,     tiles='Stamen Toner',\n",
    "zoom_start=14)\n",
    "\n",
    "# convert to (n, 2) nd-array format for heatmap\n",
    "stationArr = one_game[['lat', 'lon']].as_matrix()\n",
    "folium.Marker(stadium_l, popup='<i>Astros Stadium</i>').add_to(m)\n",
    "\n",
    "\n",
    "# add beat geojson file\n",
    "folium.GeoJson(beat1,\n",
    "    name='geojson'\n",
    ").add_to(m)\n",
    "\n",
    "\n",
    "# add beat geojson file\n",
    "folium.GeoJson(beat2,\n",
    "    name='geojson'\n",
    ").add_to(m)\n",
    "\n",
    "# add beat geojson file\n",
    "folium.GeoJson(beat3,\n",
    "    name='geojson'\n",
    ").add_to(m)\n",
    "\n",
    "\n",
    "\n",
    "folium.Circle(\n",
    "    radius=1609,\n",
    "    location=stadium_l,\n",
    "    popup='The Waterfront',\n",
    "    color='crimson',\n",
    "    fill=False,\n",
    ").add_to(m)\n",
    "\n",
    "# plot heatmap\n",
    "m.add_child(plugins.HeatMap(stationArr.tolist(), radius=15))\n",
    "\n",
    "m"
   ]
  },
  {
   "cell_type": "markdown",
   "metadata": {},
   "source": [
    "# cleanup columns"
   ]
  },
  {
   "cell_type": "code",
   "execution_count": null,
   "metadata": {},
   "outputs": [],
   "source": [
    "print(list(df.columns))"
   ]
  },
  {
   "cell_type": "code",
   "execution_count": null,
   "metadata": {},
   "outputs": [],
   "source": [
    "#data = df[[  'OffenseType', 'Hour', 'day', 'weekday', 'month', 'year','dist_stadium', 'game']]\n",
    "data = df[[  'OffenseType', 'Hour','dist_stadium', 'game_on']]"
   ]
  },
  {
   "cell_type": "code",
   "execution_count": null,
   "metadata": {},
   "outputs": [],
   "source": [
    "data.info()"
   ]
  },
  {
   "cell_type": "code",
   "execution_count": null,
   "metadata": {},
   "outputs": [],
   "source": [
    "data.head()"
   ]
  },
  {
   "cell_type": "code",
   "execution_count": null,
   "metadata": {},
   "outputs": [],
   "source": [
    "data.Hour = data.Hour.astype(int)\n",
    "#data.day = data.day.astype(int)\n",
    "#data.year = data.year.astype(int)"
   ]
  },
  {
   "cell_type": "code",
   "execution_count": null,
   "metadata": {},
   "outputs": [],
   "source": [
    "data.info()"
   ]
  },
  {
   "cell_type": "code",
   "execution_count": null,
   "metadata": {},
   "outputs": [],
   "source": [
    "data.head()"
   ]
  },
  {
   "cell_type": "code",
   "execution_count": null,
   "metadata": {},
   "outputs": [],
   "source": []
  },
  {
   "cell_type": "code",
   "execution_count": null,
   "metadata": {},
   "outputs": [],
   "source": [
    "dfdu = pd.get_dummies(data)"
   ]
  },
  {
   "cell_type": "code",
   "execution_count": null,
   "metadata": {},
   "outputs": [],
   "source": [
    "dfdu.info()"
   ]
  },
  {
   "cell_type": "code",
   "execution_count": null,
   "metadata": {},
   "outputs": [],
   "source": [
    "dfdu.head()"
   ]
  },
  {
   "cell_type": "code",
   "execution_count": null,
   "metadata": {},
   "outputs": [],
   "source": [
    "dfdu.describe()"
   ]
  },
  {
   "cell_type": "code",
   "execution_count": null,
   "metadata": {},
   "outputs": [],
   "source": [
    "sns.pairplot(dfdu, hue=\"game_on\")"
   ]
  },
  {
   "cell_type": "code",
   "execution_count": null,
   "metadata": {},
   "outputs": [],
   "source": [
    "# reg = smf.ols(formula = \"api00 ~ yr_rnd\", data = elemapi2_sel).fit()\n",
    "# reg.summary()"
   ]
  },
  {
   "cell_type": "code",
   "execution_count": null,
   "metadata": {},
   "outputs": [],
   "source": [
    "dfdu"
   ]
  },
  {
   "cell_type": "code",
   "execution_count": null,
   "metadata": {},
   "outputs": [],
   "source": []
  }
 ],
 "metadata": {
  "kernelspec": {
   "display_name": "Python 3",
   "language": "python",
   "name": "python3"
  },
  "language_info": {
   "codemirror_mode": {
    "name": "ipython",
    "version": 3
   },
   "file_extension": ".py",
   "mimetype": "text/x-python",
   "name": "python",
   "nbconvert_exporter": "python",
   "pygments_lexer": "ipython3",
   "version": "3.6.4"
  }
 },
 "nbformat": 4,
 "nbformat_minor": 2
}
