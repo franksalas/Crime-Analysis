{
 "cells": [
  {
   "cell_type": "code",
   "execution_count": 4,
   "metadata": {},
   "outputs": [],
   "source": [
    "%matplotlib inline\n",
    "import matplotlib.pyplot as plt\n",
    "import seaborn as sns; sns.set()\n",
    "import numpy as np\n",
    "import pandas as pd\n",
    "import seaborn as sns"
   ]
  },
  {
   "cell_type": "code",
   "execution_count": 5,
   "metadata": {},
   "outputs": [
    {
     "name": "stdout",
     "output_type": "stream",
     "text": [
      "\u001b[0m\u001b[01;32mcrime_astros_final.csv\u001b[0m*  \u001b[01;32mcrime_ru_final.csv\u001b[0m*      \u001b[01;32mcrime_uh_final.csv\u001b[0m*\r\n",
      "\u001b[01;32mcrime_dynamo_final.csv\u001b[0m*  \u001b[01;32mcrime_texans_final.csv\u001b[0m*\r\n"
     ]
    }
   ],
   "source": [
    "ls  data/"
   ]
  },
  {
   "cell_type": "code",
   "execution_count": 6,
   "metadata": {},
   "outputs": [],
   "source": [
    "path ='data/crime_texans_final.csv'"
   ]
  },
  {
   "cell_type": "code",
   "execution_count": 7,
   "metadata": {},
   "outputs": [
    {
     "name": "stdout",
     "output_type": "stream",
     "text": [
      "<class 'pandas.core.frame.DataFrame'>\n",
      "RangeIndex: 21843 entries, 0 to 21842\n",
      "Data columns (total 15 columns):\n",
      "date            21843 non-null datetime64[ns]\n",
      "Beat            21843 non-null object\n",
      "OffenseType     21843 non-null object\n",
      "Premise         21843 non-null object\n",
      "NumOffenses     21843 non-null float64\n",
      "hour            21843 non-null int64\n",
      "day             21843 non-null int64\n",
      "weekday         21843 non-null object\n",
      "month           21843 non-null object\n",
      "year            21843 non-null int64\n",
      "lat             21843 non-null float64\n",
      "lon             21843 non-null float64\n",
      "full_address    21843 non-null object\n",
      "dist_stadium    21843 non-null float64\n",
      "game_on         21843 non-null int64\n",
      "dtypes: datetime64[ns](1), float64(4), int64(4), object(6)\n",
      "memory usage: 2.5+ MB\n"
     ]
    }
   ],
   "source": [
    "df = pd.read_csv(path)\n",
    "df=df.rename(columns = {'Unnamed: 0':'date',\n",
    "                       'Hour':'hour'})\n",
    "df.hour = df.hour.astype(int)\n",
    "df.day = df.day.astype(int)\n",
    "df.year = df.year.astype(int)\n",
    "df.date = pd.to_datetime(df.date)  # datetime index\n",
    "#df = df.set_index('date').sort_index(ascending=True)\n",
    "df['game_on'] = np.where(df.game =='No Game',0,1)\n",
    "df.drop(['game'],axis=1,inplace=True)\n",
    "df.info()"
   ]
  },
  {
   "cell_type": "code",
   "execution_count": 8,
   "metadata": {},
   "outputs": [
    {
     "data": {
      "text/html": [
       "<div>\n",
       "<style scoped>\n",
       "    .dataframe tbody tr th:only-of-type {\n",
       "        vertical-align: middle;\n",
       "    }\n",
       "\n",
       "    .dataframe tbody tr th {\n",
       "        vertical-align: top;\n",
       "    }\n",
       "\n",
       "    .dataframe thead th {\n",
       "        text-align: right;\n",
       "    }\n",
       "</style>\n",
       "<table border=\"1\" class=\"dataframe\">\n",
       "  <thead>\n",
       "    <tr style=\"text-align: right;\">\n",
       "      <th></th>\n",
       "      <th>date</th>\n",
       "      <th>Beat</th>\n",
       "      <th>OffenseType</th>\n",
       "      <th>Premise</th>\n",
       "      <th>NumOffenses</th>\n",
       "      <th>hour</th>\n",
       "      <th>day</th>\n",
       "      <th>weekday</th>\n",
       "      <th>month</th>\n",
       "      <th>year</th>\n",
       "      <th>lat</th>\n",
       "      <th>lon</th>\n",
       "      <th>full_address</th>\n",
       "      <th>dist_stadium</th>\n",
       "      <th>game_on</th>\n",
       "    </tr>\n",
       "  </thead>\n",
       "  <tbody>\n",
       "    <tr>\n",
       "      <th>0</th>\n",
       "      <td>2010-01-01</td>\n",
       "      <td>15E40x</td>\n",
       "      <td>Aggravated Assault</td>\n",
       "      <td>apartment</td>\n",
       "      <td>1.0</td>\n",
       "      <td>23</td>\n",
       "      <td>1</td>\n",
       "      <td>Friday</td>\n",
       "      <td>Jan</td>\n",
       "      <td>2010</td>\n",
       "      <td>29.682332</td>\n",
       "      <td>-95.416995</td>\n",
       "      <td>2550 Westridge St, Houston, TX 77054, USA</td>\n",
       "      <td>0.405534</td>\n",
       "      <td>0</td>\n",
       "    </tr>\n",
       "    <tr>\n",
       "      <th>1</th>\n",
       "      <td>2010-01-01</td>\n",
       "      <td>15E40x</td>\n",
       "      <td>Aggravated Assault</td>\n",
       "      <td>apartment</td>\n",
       "      <td>1.0</td>\n",
       "      <td>23</td>\n",
       "      <td>1</td>\n",
       "      <td>Friday</td>\n",
       "      <td>Jan</td>\n",
       "      <td>2010</td>\n",
       "      <td>29.684531</td>\n",
       "      <td>-95.400313</td>\n",
       "      <td>8350 Knight Rd, Houston, TX 77054, USA</td>\n",
       "      <td>0.632841</td>\n",
       "      <td>0</td>\n",
       "    </tr>\n",
       "  </tbody>\n",
       "</table>\n",
       "</div>"
      ],
      "text/plain": [
       "        date    Beat         OffenseType    Premise  NumOffenses  hour  day  \\\n",
       "0 2010-01-01  15E40x  Aggravated Assault  apartment          1.0    23    1   \n",
       "1 2010-01-01  15E40x  Aggravated Assault  apartment          1.0    23    1   \n",
       "\n",
       "  weekday month  year        lat        lon  \\\n",
       "0  Friday   Jan  2010  29.682332 -95.416995   \n",
       "1  Friday   Jan  2010  29.684531 -95.400313   \n",
       "\n",
       "                                full_address  dist_stadium  game_on  \n",
       "0  2550 Westridge St, Houston, TX 77054, USA      0.405534        0  \n",
       "1     8350 Knight Rd, Houston, TX 77054, USA      0.632841        0  "
      ]
     },
     "execution_count": 8,
     "metadata": {},
     "output_type": "execute_result"
    }
   ],
   "source": [
    "df.head(2)"
   ]
  },
  {
   "cell_type": "markdown",
   "metadata": {},
   "source": [
    "## Trim df"
   ]
  },
  {
   "cell_type": "code",
   "execution_count": 9,
   "metadata": {},
   "outputs": [
    {
     "name": "stdout",
     "output_type": "stream",
     "text": [
      "['date', 'Beat', 'OffenseType', 'Premise', 'NumOffenses', 'hour', 'day', 'weekday', 'month', 'year', 'lat', 'lon', 'full_address', 'dist_stadium', 'game_on']\n"
     ]
    }
   ],
   "source": [
    "print(list(df.columns))"
   ]
  },
  {
   "cell_type": "code",
   "execution_count": 10,
   "metadata": {},
   "outputs": [],
   "source": [
    "#df= df[[ 'OffenseType', 'hour', 'weekday', 'dist_stadium', 'game_on']]\n",
    "df = df[[ 'OffenseType', 'hour', 'weekday', 'dist_stadium', 'game_on']]"
   ]
  },
  {
   "cell_type": "code",
   "execution_count": 11,
   "metadata": {},
   "outputs": [
    {
     "data": {
      "text/html": [
       "<div>\n",
       "<style scoped>\n",
       "    .dataframe tbody tr th:only-of-type {\n",
       "        vertical-align: middle;\n",
       "    }\n",
       "\n",
       "    .dataframe tbody tr th {\n",
       "        vertical-align: top;\n",
       "    }\n",
       "\n",
       "    .dataframe thead th {\n",
       "        text-align: right;\n",
       "    }\n",
       "</style>\n",
       "<table border=\"1\" class=\"dataframe\">\n",
       "  <thead>\n",
       "    <tr style=\"text-align: right;\">\n",
       "      <th></th>\n",
       "      <th>OffenseType</th>\n",
       "      <th>hour</th>\n",
       "      <th>weekday</th>\n",
       "      <th>dist_stadium</th>\n",
       "      <th>game_on</th>\n",
       "    </tr>\n",
       "  </thead>\n",
       "  <tbody>\n",
       "    <tr>\n",
       "      <th>0</th>\n",
       "      <td>Aggravated Assault</td>\n",
       "      <td>23</td>\n",
       "      <td>Friday</td>\n",
       "      <td>0.405534</td>\n",
       "      <td>0</td>\n",
       "    </tr>\n",
       "    <tr>\n",
       "      <th>1</th>\n",
       "      <td>Aggravated Assault</td>\n",
       "      <td>23</td>\n",
       "      <td>Friday</td>\n",
       "      <td>0.632841</td>\n",
       "      <td>0</td>\n",
       "    </tr>\n",
       "    <tr>\n",
       "      <th>2</th>\n",
       "      <td>Theft</td>\n",
       "      <td>23</td>\n",
       "      <td>Friday</td>\n",
       "      <td>0.405534</td>\n",
       "      <td>0</td>\n",
       "    </tr>\n",
       "    <tr>\n",
       "      <th>3</th>\n",
       "      <td>Theft</td>\n",
       "      <td>23</td>\n",
       "      <td>Friday</td>\n",
       "      <td>0.632841</td>\n",
       "      <td>0</td>\n",
       "    </tr>\n",
       "    <tr>\n",
       "      <th>4</th>\n",
       "      <td>Theft</td>\n",
       "      <td>0</td>\n",
       "      <td>Saturday</td>\n",
       "      <td>0.892807</td>\n",
       "      <td>0</td>\n",
       "    </tr>\n",
       "  </tbody>\n",
       "</table>\n",
       "</div>"
      ],
      "text/plain": [
       "          OffenseType  hour   weekday  dist_stadium  game_on\n",
       "0  Aggravated Assault    23    Friday      0.405534        0\n",
       "1  Aggravated Assault    23    Friday      0.632841        0\n",
       "2               Theft    23    Friday      0.405534        0\n",
       "3               Theft    23    Friday      0.632841        0\n",
       "4               Theft     0  Saturday      0.892807        0"
      ]
     },
     "execution_count": 11,
     "metadata": {},
     "output_type": "execute_result"
    }
   ],
   "source": [
    "df.head()"
   ]
  },
  {
   "cell_type": "code",
   "execution_count": 12,
   "metadata": {},
   "outputs": [
    {
     "data": {
      "text/html": [
       "<div>\n",
       "<style scoped>\n",
       "    .dataframe tbody tr th:only-of-type {\n",
       "        vertical-align: middle;\n",
       "    }\n",
       "\n",
       "    .dataframe tbody tr th {\n",
       "        vertical-align: top;\n",
       "    }\n",
       "\n",
       "    .dataframe thead th {\n",
       "        text-align: right;\n",
       "    }\n",
       "</style>\n",
       "<table border=\"1\" class=\"dataframe\">\n",
       "  <thead>\n",
       "    <tr style=\"text-align: right;\">\n",
       "      <th></th>\n",
       "      <th>hour</th>\n",
       "      <th>dist_stadium</th>\n",
       "      <th>game_on</th>\n",
       "    </tr>\n",
       "  </thead>\n",
       "  <tbody>\n",
       "    <tr>\n",
       "      <th>count</th>\n",
       "      <td>21843.000000</td>\n",
       "      <td>21843.000000</td>\n",
       "      <td>21843.000000</td>\n",
       "    </tr>\n",
       "    <tr>\n",
       "      <th>mean</th>\n",
       "      <td>13.241084</td>\n",
       "      <td>1.621688</td>\n",
       "      <td>0.034885</td>\n",
       "    </tr>\n",
       "    <tr>\n",
       "      <th>std</th>\n",
       "      <td>6.317640</td>\n",
       "      <td>15.539142</td>\n",
       "      <td>0.183494</td>\n",
       "    </tr>\n",
       "    <tr>\n",
       "      <th>min</th>\n",
       "      <td>0.000000</td>\n",
       "      <td>0.143394</td>\n",
       "      <td>0.000000</td>\n",
       "    </tr>\n",
       "    <tr>\n",
       "      <th>25%</th>\n",
       "      <td>9.000000</td>\n",
       "      <td>0.567717</td>\n",
       "      <td>0.000000</td>\n",
       "    </tr>\n",
       "    <tr>\n",
       "      <th>50%</th>\n",
       "      <td>14.000000</td>\n",
       "      <td>0.752736</td>\n",
       "      <td>0.000000</td>\n",
       "    </tr>\n",
       "    <tr>\n",
       "      <th>75%</th>\n",
       "      <td>18.000000</td>\n",
       "      <td>1.091427</td>\n",
       "      <td>0.000000</td>\n",
       "    </tr>\n",
       "    <tr>\n",
       "      <th>max</th>\n",
       "      <td>23.000000</td>\n",
       "      <td>1330.411552</td>\n",
       "      <td>1.000000</td>\n",
       "    </tr>\n",
       "  </tbody>\n",
       "</table>\n",
       "</div>"
      ],
      "text/plain": [
       "               hour  dist_stadium       game_on\n",
       "count  21843.000000  21843.000000  21843.000000\n",
       "mean      13.241084      1.621688      0.034885\n",
       "std        6.317640     15.539142      0.183494\n",
       "min        0.000000      0.143394      0.000000\n",
       "25%        9.000000      0.567717      0.000000\n",
       "50%       14.000000      0.752736      0.000000\n",
       "75%       18.000000      1.091427      0.000000\n",
       "max       23.000000   1330.411552      1.000000"
      ]
     },
     "execution_count": 12,
     "metadata": {},
     "output_type": "execute_result"
    }
   ],
   "source": [
    "df.describe()"
   ]
  },
  {
   "cell_type": "markdown",
   "metadata": {},
   "source": [
    "## TEST1"
   ]
  },
  {
   "cell_type": "code",
   "execution_count": 13,
   "metadata": {},
   "outputs": [],
   "source": [
    "one_mile =  df.dist_stadium <= 3.0\n",
    "df = df[one_mile]"
   ]
  },
  {
   "cell_type": "code",
   "execution_count": 14,
   "metadata": {},
   "outputs": [
    {
     "name": "stderr",
     "output_type": "stream",
     "text": [
      "/home/frank/miniconda3/envs/springboard/lib/python3.6/site-packages/matplotlib/axes/_axes.py:6448: UserWarning: The 'normed' kwarg is deprecated, and has been replaced by the 'density' kwarg.\n",
      "  warnings.warn(\"The 'normed' kwarg is deprecated, and has been \"\n"
     ]
    },
    {
     "data": {
      "text/plain": [
       "<matplotlib.axes._subplots.AxesSubplot at 0x7f85a1399e48>"
      ]
     },
     "execution_count": 14,
     "metadata": {},
     "output_type": "execute_result"
    },
    {
     "data": {
      "image/png": "[encoded data removed]",
      "text/plain": [
       "<Figure size 432x288 with 1 Axes>"
      ]
     },
     "metadata": {},
     "output_type": "display_data"
    }
   ],
   "source": [
    "\n",
    "# find distribution of target column / trying to predict\n",
    "sns.distplot(df['dist_stadium'])"
   ]
  },
  {
   "cell_type": "code",
   "execution_count": 15,
   "metadata": {},
   "outputs": [
    {
     "data": {
      "text/html": [
       "<div>\n",
       "<style scoped>\n",
       "    .dataframe tbody tr th:only-of-type {\n",
       "        vertical-align: middle;\n",
       "    }\n",
       "\n",
       "    .dataframe tbody tr th {\n",
       "        vertical-align: top;\n",
       "    }\n",
       "\n",
       "    .dataframe thead th {\n",
       "        text-align: right;\n",
       "    }\n",
       "</style>\n",
       "<table border=\"1\" class=\"dataframe\">\n",
       "  <thead>\n",
       "    <tr style=\"text-align: right;\">\n",
       "      <th></th>\n",
       "      <th>hour</th>\n",
       "      <th>dist_stadium</th>\n",
       "      <th>game_on</th>\n",
       "    </tr>\n",
       "  </thead>\n",
       "  <tbody>\n",
       "    <tr>\n",
       "      <th>hour</th>\n",
       "      <td>1.000000</td>\n",
       "      <td>-0.090103</td>\n",
       "      <td>-0.024461</td>\n",
       "    </tr>\n",
       "    <tr>\n",
       "      <th>dist_stadium</th>\n",
       "      <td>-0.090103</td>\n",
       "      <td>1.000000</td>\n",
       "      <td>-0.052070</td>\n",
       "    </tr>\n",
       "    <tr>\n",
       "      <th>game_on</th>\n",
       "      <td>-0.024461</td>\n",
       "      <td>-0.052070</td>\n",
       "      <td>1.000000</td>\n",
       "    </tr>\n",
       "  </tbody>\n",
       "</table>\n",
       "</div>"
      ],
      "text/plain": [
       "                  hour  dist_stadium   game_on\n",
       "hour          1.000000     -0.090103 -0.024461\n",
       "dist_stadium -0.090103      1.000000 -0.052070\n",
       "game_on      -0.024461     -0.052070  1.000000"
      ]
     },
     "execution_count": 15,
     "metadata": {},
     "output_type": "execute_result"
    }
   ],
   "source": [
    "df.corr()"
   ]
  },
  {
   "cell_type": "code",
   "execution_count": 16,
   "metadata": {},
   "outputs": [
    {
     "data": {
      "text/plain": [
       "<matplotlib.axes._subplots.AxesSubplot at 0x7f8599778898>"
      ]
     },
     "execution_count": 16,
     "metadata": {},
     "output_type": "execute_result"
    },
    {
     "data": {
      "image/png": "[encoded data removed]",
      "text/plain": [
       "<Figure size 432x288 with 2 Axes>"
      ]
     },
     "metadata": {},
     "output_type": "display_data"
    }
   ],
   "source": [
    "\n",
    "sns.heatmap(df.corr(),annot=True)"
   ]
  },
  {
   "cell_type": "code",
   "execution_count": null,
   "metadata": {},
   "outputs": [],
   "source": []
  },
  {
   "cell_type": "markdown",
   "metadata": {},
   "source": [
    "## Get dummies"
   ]
  },
  {
   "cell_type": "code",
   "execution_count": null,
   "metadata": {},
   "outputs": [],
   "source": [
    "pd.get_dummies?"
   ]
  },
  {
   "cell_type": "code",
   "execution_count": 17,
   "metadata": {},
   "outputs": [],
   "source": [
    "dfdm = pd.get_dummies(df, drop_first=True)"
   ]
  },
  {
   "cell_type": "code",
   "execution_count": null,
   "metadata": {},
   "outputs": [],
   "source": []
  },
  {
   "cell_type": "code",
   "execution_count": 18,
   "metadata": {},
   "outputs": [
    {
     "data": {
      "text/plain": [
       "<matplotlib.axes._subplots.AxesSubplot at 0x7f859967d6d8>"
      ]
     },
     "execution_count": 18,
     "metadata": {},
     "output_type": "execute_result"
    },
    {
     "data": {
      "image/png": "[encoded data removed]",
      "text/plain": [
       "<Figure size 432x288 with 2 Axes>"
      ]
     },
     "metadata": {},
     "output_type": "display_data"
    }
   ],
   "source": [
    "sns.heatmap(dfdm.corr(),annot=False)"
   ]
  },
  {
   "cell_type": "code",
   "execution_count": 19,
   "metadata": {},
   "outputs": [
    {
     "data": {
      "text/html": [
       "<div>\n",
       "<style scoped>\n",
       "    .dataframe tbody tr th:only-of-type {\n",
       "        vertical-align: middle;\n",
       "    }\n",
       "\n",
       "    .dataframe tbody tr th {\n",
       "        vertical-align: top;\n",
       "    }\n",
       "\n",
       "    .dataframe thead th {\n",
       "        text-align: right;\n",
       "    }\n",
       "</style>\n",
       "<table border=\"1\" class=\"dataframe\">\n",
       "  <thead>\n",
       "    <tr style=\"text-align: right;\">\n",
       "      <th></th>\n",
       "      <th>hour</th>\n",
       "      <th>dist_stadium</th>\n",
       "      <th>game_on</th>\n",
       "      <th>OffenseType_Auto Theft</th>\n",
       "      <th>OffenseType_Burglary</th>\n",
       "      <th>OffenseType_Murder</th>\n",
       "      <th>OffenseType_Rape</th>\n",
       "      <th>OffenseType_Robbery</th>\n",
       "      <th>OffenseType_Theft</th>\n",
       "      <th>weekday_Monday</th>\n",
       "      <th>weekday_Saturday</th>\n",
       "      <th>weekday_Sunday</th>\n",
       "      <th>weekday_Thursday</th>\n",
       "      <th>weekday_Tuesday</th>\n",
       "      <th>weekday_Wednesday</th>\n",
       "    </tr>\n",
       "  </thead>\n",
       "  <tbody>\n",
       "    <tr>\n",
       "      <th>0</th>\n",
       "      <td>23</td>\n",
       "      <td>0.405534</td>\n",
       "      <td>0</td>\n",
       "      <td>0</td>\n",
       "      <td>0</td>\n",
       "      <td>0</td>\n",
       "      <td>0</td>\n",
       "      <td>0</td>\n",
       "      <td>0</td>\n",
       "      <td>0</td>\n",
       "      <td>0</td>\n",
       "      <td>0</td>\n",
       "      <td>0</td>\n",
       "      <td>0</td>\n",
       "      <td>0</td>\n",
       "    </tr>\n",
       "    <tr>\n",
       "      <th>1</th>\n",
       "      <td>23</td>\n",
       "      <td>0.632841</td>\n",
       "      <td>0</td>\n",
       "      <td>0</td>\n",
       "      <td>0</td>\n",
       "      <td>0</td>\n",
       "      <td>0</td>\n",
       "      <td>0</td>\n",
       "      <td>0</td>\n",
       "      <td>0</td>\n",
       "      <td>0</td>\n",
       "      <td>0</td>\n",
       "      <td>0</td>\n",
       "      <td>0</td>\n",
       "      <td>0</td>\n",
       "    </tr>\n",
       "    <tr>\n",
       "      <th>2</th>\n",
       "      <td>23</td>\n",
       "      <td>0.405534</td>\n",
       "      <td>0</td>\n",
       "      <td>0</td>\n",
       "      <td>0</td>\n",
       "      <td>0</td>\n",
       "      <td>0</td>\n",
       "      <td>0</td>\n",
       "      <td>1</td>\n",
       "      <td>0</td>\n",
       "      <td>0</td>\n",
       "      <td>0</td>\n",
       "      <td>0</td>\n",
       "      <td>0</td>\n",
       "      <td>0</td>\n",
       "    </tr>\n",
       "    <tr>\n",
       "      <th>3</th>\n",
       "      <td>23</td>\n",
       "      <td>0.632841</td>\n",
       "      <td>0</td>\n",
       "      <td>0</td>\n",
       "      <td>0</td>\n",
       "      <td>0</td>\n",
       "      <td>0</td>\n",
       "      <td>0</td>\n",
       "      <td>1</td>\n",
       "      <td>0</td>\n",
       "      <td>0</td>\n",
       "      <td>0</td>\n",
       "      <td>0</td>\n",
       "      <td>0</td>\n",
       "      <td>0</td>\n",
       "    </tr>\n",
       "    <tr>\n",
       "      <th>4</th>\n",
       "      <td>0</td>\n",
       "      <td>0.892807</td>\n",
       "      <td>0</td>\n",
       "      <td>0</td>\n",
       "      <td>0</td>\n",
       "      <td>0</td>\n",
       "      <td>0</td>\n",
       "      <td>0</td>\n",
       "      <td>1</td>\n",
       "      <td>0</td>\n",
       "      <td>1</td>\n",
       "      <td>0</td>\n",
       "      <td>0</td>\n",
       "      <td>0</td>\n",
       "      <td>0</td>\n",
       "    </tr>\n",
       "  </tbody>\n",
       "</table>\n",
       "</div>"
      ],
      "text/plain": [
       "   hour  dist_stadium  game_on  OffenseType_Auto Theft  OffenseType_Burglary  \\\n",
       "0    23      0.405534        0                       0                     0   \n",
       "1    23      0.632841        0                       0                     0   \n",
       "2    23      0.405534        0                       0                     0   \n",
       "3    23      0.632841        0                       0                     0   \n",
       "4     0      0.892807        0                       0                     0   \n",
       "\n",
       "   OffenseType_Murder  OffenseType_Rape  OffenseType_Robbery  \\\n",
       "0                   0                 0                    0   \n",
       "1                   0                 0                    0   \n",
       "2                   0                 0                    0   \n",
       "3                   0                 0                    0   \n",
       "4                   0                 0                    0   \n",
       "\n",
       "   OffenseType_Theft  weekday_Monday  weekday_Saturday  weekday_Sunday  \\\n",
       "0                  0               0                 0               0   \n",
       "1                  0               0                 0               0   \n",
       "2                  1               0                 0               0   \n",
       "3                  1               0                 0               0   \n",
       "4                  1               0                 1               0   \n",
       "\n",
       "   weekday_Thursday  weekday_Tuesday  weekday_Wednesday  \n",
       "0                 0                0                  0  \n",
       "1                 0                0                  0  \n",
       "2                 0                0                  0  \n",
       "3                 0                0                  0  \n",
       "4                 0                0                  0  "
      ]
     },
     "execution_count": 19,
     "metadata": {},
     "output_type": "execute_result"
    }
   ],
   "source": [
    "dfdm.head()"
   ]
  },
  {
   "cell_type": "code",
   "execution_count": 20,
   "metadata": {},
   "outputs": [
    {
     "data": {
      "text/html": [
       "<div>\n",
       "<style scoped>\n",
       "    .dataframe tbody tr th:only-of-type {\n",
       "        vertical-align: middle;\n",
       "    }\n",
       "\n",
       "    .dataframe tbody tr th {\n",
       "        vertical-align: top;\n",
       "    }\n",
       "\n",
       "    .dataframe thead th {\n",
       "        text-align: right;\n",
       "    }\n",
       "</style>\n",
       "<table border=\"1\" class=\"dataframe\">\n",
       "  <thead>\n",
       "    <tr style=\"text-align: right;\">\n",
       "      <th></th>\n",
       "      <th>OffenseType</th>\n",
       "      <th>hour</th>\n",
       "      <th>weekday</th>\n",
       "      <th>dist_stadium</th>\n",
       "      <th>game_on</th>\n",
       "    </tr>\n",
       "  </thead>\n",
       "  <tbody>\n",
       "    <tr>\n",
       "      <th>0</th>\n",
       "      <td>Aggravated Assault</td>\n",
       "      <td>23</td>\n",
       "      <td>Friday</td>\n",
       "      <td>0.405534</td>\n",
       "      <td>0</td>\n",
       "    </tr>\n",
       "    <tr>\n",
       "      <th>1</th>\n",
       "      <td>Aggravated Assault</td>\n",
       "      <td>23</td>\n",
       "      <td>Friday</td>\n",
       "      <td>0.632841</td>\n",
       "      <td>0</td>\n",
       "    </tr>\n",
       "    <tr>\n",
       "      <th>2</th>\n",
       "      <td>Theft</td>\n",
       "      <td>23</td>\n",
       "      <td>Friday</td>\n",
       "      <td>0.405534</td>\n",
       "      <td>0</td>\n",
       "    </tr>\n",
       "    <tr>\n",
       "      <th>3</th>\n",
       "      <td>Theft</td>\n",
       "      <td>23</td>\n",
       "      <td>Friday</td>\n",
       "      <td>0.632841</td>\n",
       "      <td>0</td>\n",
       "    </tr>\n",
       "    <tr>\n",
       "      <th>4</th>\n",
       "      <td>Theft</td>\n",
       "      <td>0</td>\n",
       "      <td>Saturday</td>\n",
       "      <td>0.892807</td>\n",
       "      <td>0</td>\n",
       "    </tr>\n",
       "  </tbody>\n",
       "</table>\n",
       "</div>"
      ],
      "text/plain": [
       "          OffenseType  hour   weekday  dist_stadium  game_on\n",
       "0  Aggravated Assault    23    Friday      0.405534        0\n",
       "1  Aggravated Assault    23    Friday      0.632841        0\n",
       "2               Theft    23    Friday      0.405534        0\n",
       "3               Theft    23    Friday      0.632841        0\n",
       "4               Theft     0  Saturday      0.892807        0"
      ]
     },
     "execution_count": 20,
     "metadata": {},
     "output_type": "execute_result"
    }
   ],
   "source": [
    "df.head()"
   ]
  },
  {
   "cell_type": "code",
   "execution_count": null,
   "metadata": {},
   "outputs": [],
   "source": []
  },
  {
   "cell_type": "markdown",
   "metadata": {},
   "source": [
    "## Pairplot"
   ]
  },
  {
   "cell_type": "code",
   "execution_count": 21,
   "metadata": {},
   "outputs": [],
   "source": [
    "#sns.pairplot(dfdm)"
   ]
  },
  {
   "cell_type": "code",
   "execution_count": 22,
   "metadata": {},
   "outputs": [],
   "source": [
    "#dfdm.drop(['dist_stadium'],axis=1)\n",
    "#dfdm['game_on']"
   ]
  },
  {
   "cell_type": "code",
   "execution_count": 23,
   "metadata": {},
   "outputs": [
    {
     "data": {
      "text/plain": [
       "<seaborn.axisgrid.FacetGrid at 0x7f85995b3e80>"
      ]
     },
     "execution_count": 23,
     "metadata": {},
     "output_type": "execute_result"
    },
    {
     "data": {
      "image/png": "[encoded data removed]",
      "text/plain": [
       "<Figure size 360x360 with 1 Axes>"
      ]
     },
     "metadata": {},
     "output_type": "display_data"
    }
   ],
   "source": [
    "sns.lmplot(x='game_on',y='dist_stadium', data=dfdm)"
   ]
  },
  {
   "cell_type": "code",
   "execution_count": 24,
   "metadata": {},
   "outputs": [
    {
     "name": "stderr",
     "output_type": "stream",
     "text": [
      "/home/frank/miniconda3/envs/springboard/lib/python3.6/site-packages/sklearn/cross_validation.py:41: DeprecationWarning: This module was deprecated in version 0.18 in favor of the model_selection module into which all the refactored classes and functions are moved. Also note that the interface of the new CV iterators are different from that of this module. This module will be removed in 0.20.\n",
      "  \"This module will be removed in 0.20.\", DeprecationWarning)\n"
     ]
    }
   ],
   "source": [
    "from sklearn.cross_validation import train_test_split\n",
    "\n",
    "X = dfdm.drop(['hour'],axis=1)\n",
    "\n",
    "y = dfdm['hour']\n",
    "\n",
    "X_train, X_test, y_train, y_test = train_test_split(X, y, \n",
    "                                test_size=0.3,\n",
    "                                random_state=42)"
   ]
  },
  {
   "cell_type": "code",
   "execution_count": null,
   "metadata": {},
   "outputs": [],
   "source": []
  },
  {
   "cell_type": "markdown",
   "metadata": {},
   "source": [
    "# train model"
   ]
  },
  {
   "cell_type": "code",
   "execution_count": 25,
   "metadata": {},
   "outputs": [
    {
     "data": {
      "text/plain": [
       "LinearRegression(copy_X=True, fit_intercept=True, n_jobs=1, normalize=False)"
      ]
     },
     "execution_count": 25,
     "metadata": {},
     "output_type": "execute_result"
    }
   ],
   "source": [
    "from sklearn.linear_model import LinearRegression\n",
    "\n",
    "# create a linear regression object\n",
    "model =  LinearRegression()\n",
    "\n",
    "\n",
    "# train fit model\n",
    "model.fit(X_train,y_train)\n"
   ]
  },
  {
   "cell_type": "markdown",
   "metadata": {},
   "source": [
    "# Evalueate model"
   ]
  },
  {
   "cell_type": "code",
   "execution_count": 26,
   "metadata": {},
   "outputs": [
    {
     "name": "stdout",
     "output_type": "stream",
     "text": [
      "15.185128711577743\n",
      "[-1.49342758 -0.50504001  0.00969392 -1.29189093  1.51158677 -1.14525246\n",
      "  0.59062784 -0.18700159 -0.45789248 -0.53620607 -1.26786644 -0.06003668\n",
      "  0.0597725  -0.6593761 ]\n"
     ]
    }
   ],
   "source": [
    "print(model.intercept_)\n",
    "print(model.coef_)"
   ]
  },
  {
   "cell_type": "markdown",
   "metadata": {},
   "source": [
    "## Create a dataframe from coeff"
   ]
  },
  {
   "cell_type": "code",
   "execution_count": 27,
   "metadata": {},
   "outputs": [
    {
     "data": {
      "text/html": [
       "<div>\n",
       "<style scoped>\n",
       "    .dataframe tbody tr th:only-of-type {\n",
       "        vertical-align: middle;\n",
       "    }\n",
       "\n",
       "    .dataframe tbody tr th {\n",
       "        vertical-align: top;\n",
       "    }\n",
       "\n",
       "    .dataframe thead th {\n",
       "        text-align: right;\n",
       "    }\n",
       "</style>\n",
       "<table border=\"1\" class=\"dataframe\">\n",
       "  <thead>\n",
       "    <tr style=\"text-align: right;\">\n",
       "      <th></th>\n",
       "      <th>Coefficient</th>\n",
       "    </tr>\n",
       "  </thead>\n",
       "  <tbody>\n",
       "    <tr>\n",
       "      <th>dist_stadium</th>\n",
       "      <td>-1.493428</td>\n",
       "    </tr>\n",
       "    <tr>\n",
       "      <th>game_on</th>\n",
       "      <td>-0.505040</td>\n",
       "    </tr>\n",
       "    <tr>\n",
       "      <th>OffenseType_Auto Theft</th>\n",
       "      <td>0.009694</td>\n",
       "    </tr>\n",
       "    <tr>\n",
       "      <th>OffenseType_Burglary</th>\n",
       "      <td>-1.291891</td>\n",
       "    </tr>\n",
       "    <tr>\n",
       "      <th>OffenseType_Murder</th>\n",
       "      <td>1.511587</td>\n",
       "    </tr>\n",
       "    <tr>\n",
       "      <th>OffenseType_Rape</th>\n",
       "      <td>-1.145252</td>\n",
       "    </tr>\n",
       "    <tr>\n",
       "      <th>OffenseType_Robbery</th>\n",
       "      <td>0.590628</td>\n",
       "    </tr>\n",
       "    <tr>\n",
       "      <th>OffenseType_Theft</th>\n",
       "      <td>-0.187002</td>\n",
       "    </tr>\n",
       "    <tr>\n",
       "      <th>weekday_Monday</th>\n",
       "      <td>-0.457892</td>\n",
       "    </tr>\n",
       "    <tr>\n",
       "      <th>weekday_Saturday</th>\n",
       "      <td>-0.536206</td>\n",
       "    </tr>\n",
       "    <tr>\n",
       "      <th>weekday_Sunday</th>\n",
       "      <td>-1.267866</td>\n",
       "    </tr>\n",
       "    <tr>\n",
       "      <th>weekday_Thursday</th>\n",
       "      <td>-0.060037</td>\n",
       "    </tr>\n",
       "    <tr>\n",
       "      <th>weekday_Tuesday</th>\n",
       "      <td>0.059772</td>\n",
       "    </tr>\n",
       "    <tr>\n",
       "      <th>weekday_Wednesday</th>\n",
       "      <td>-0.659376</td>\n",
       "    </tr>\n",
       "  </tbody>\n",
       "</table>\n",
       "</div>"
      ],
      "text/plain": [
       "                        Coefficient\n",
       "dist_stadium              -1.493428\n",
       "game_on                   -0.505040\n",
       "OffenseType_Auto Theft     0.009694\n",
       "OffenseType_Burglary      -1.291891\n",
       "OffenseType_Murder         1.511587\n",
       "OffenseType_Rape          -1.145252\n",
       "OffenseType_Robbery        0.590628\n",
       "OffenseType_Theft         -0.187002\n",
       "weekday_Monday            -0.457892\n",
       "weekday_Saturday          -0.536206\n",
       "weekday_Sunday            -1.267866\n",
       "weekday_Thursday          -0.060037\n",
       "weekday_Tuesday            0.059772\n",
       "weekday_Wednesday         -0.659376"
      ]
     },
     "execution_count": 27,
     "metadata": {},
     "output_type": "execute_result"
    }
   ],
   "source": [
    "coeff_df = pd.DataFrame(model.coef_,X.columns,columns=['Coefficient'])\n",
    "coeff_df"
   ]
  },
  {
   "cell_type": "markdown",
   "metadata": {},
   "source": [
    "## Predictions from our test"
   ]
  },
  {
   "cell_type": "code",
   "execution_count": 28,
   "metadata": {},
   "outputs": [],
   "source": [
    "predictions = model.predict(X_test)"
   ]
  },
  {
   "cell_type": "markdown",
   "metadata": {},
   "source": [
    "## Pefrorm scatteplot                                "
   ]
  },
  {
   "cell_type": "code",
   "execution_count": 29,
   "metadata": {},
   "outputs": [
    {
     "data": {
      "image/png": "[encoded data removed]",
      "text/plain": [
       "<Figure size 432x288 with 1 Axes>"
      ]
     },
     "metadata": {},
     "output_type": "display_data"
    }
   ],
   "source": [
    "plt.scatter(y_test,predictions)\n",
    "plt.xlabel('Y Test (True Values)')\n",
    "plt.ylabel('Predicted Y')\n",
    "plt.show()"
   ]
  },
  {
   "cell_type": "code",
   "execution_count": 30,
   "metadata": {},
   "outputs": [
    {
     "name": "stderr",
     "output_type": "stream",
     "text": [
      "/home/frank/miniconda3/envs/springboard/lib/python3.6/site-packages/matplotlib/axes/_axes.py:6448: UserWarning: The 'normed' kwarg is deprecated, and has been replaced by the 'density' kwarg.\n",
      "  warnings.warn(\"The 'normed' kwarg is deprecated, and has been \"\n"
     ]
    },
    {
     "data": {
      "text/plain": [
       "<matplotlib.axes._subplots.AxesSubplot at 0x7f85995b3d30>"
      ]
     },
     "execution_count": 30,
     "metadata": {},
     "output_type": "execute_result"
    },
    {
     "data": {
      "image/png": "[encoded data removed]",
      "text/plain": [
       "<Figure size 432x288 with 1 Axes>"
      ]
     },
     "metadata": {},
     "output_type": "display_data"
    }
   ],
   "source": [
    "# histogram of the residuals\n",
    "sns.distplot((y_test - predictions),bins='auto')"
   ]
  },
  {
   "cell_type": "markdown",
   "metadata": {},
   "source": [
    "## Calculate metrics"
   ]
  },
  {
   "cell_type": "code",
   "execution_count": 31,
   "metadata": {},
   "outputs": [],
   "source": [
    "from sklearn import metrics"
   ]
  },
  {
   "cell_type": "markdown",
   "metadata": {},
   "source": [
    "## MAE\n",
    "**Mean Absolute Error** (MAE) is the mean of the absolute value of the errors:\n",
    "- mean of the absolute error\n",
    "- take your error and take the absolute value of it and average it out.\n",
    "\n",
    "$$\\frac 1n\\sum_{i=1}^n|y_i-\\hat{y}_i|$$"
   ]
  },
  {
   "cell_type": "code",
   "execution_count": 32,
   "metadata": {},
   "outputs": [
    {
     "name": "stdout",
     "output_type": "stream",
     "text": [
      "MAE: 5.28073429085372\n"
     ]
    }
   ],
   "source": [
    "print('MAE:', metrics.mean_absolute_error(y_test, predictions))"
   ]
  },
  {
   "cell_type": "code",
   "execution_count": 33,
   "metadata": {},
   "outputs": [
    {
     "data": {
      "text/plain": [
       "32006.530536864397"
      ]
     },
     "execution_count": 33,
     "metadata": {},
     "output_type": "execute_result"
    }
   ],
   "source": [
    "def L1(yHat, y):\n",
    "    return np.sum(np.absolute(yHat - y))\n",
    "\n",
    "L1(y_test,predictions)"
   ]
  },
  {
   "cell_type": "code",
   "execution_count": null,
   "metadata": {},
   "outputs": [],
   "source": []
  },
  {
   "cell_type": "markdown",
   "metadata": {},
   "source": [
    "# MSE\n",
    "\n",
    "**Mean Squared Error** (MSE) is the mean of the squared errors:\n",
    "\n",
    "- mean of the squared errors\n",
    "- popular b/c it punish larger errors\n",
    "- more usefull in the real world  because it takes into account larger b/c its square them.\n",
    "\n",
    "\n",
    "$$\\frac 1n\\sum_{i=1}^n(y_i-\\hat{y}_i)^2$$"
   ]
  },
  {
   "cell_type": "code",
   "execution_count": 34,
   "metadata": {},
   "outputs": [
    {
     "name": "stdout",
     "output_type": "stream",
     "text": [
      "MSE: 40.35864741208313\n"
     ]
    }
   ],
   "source": [
    "print('MSE:', metrics.mean_squared_error(y_test, predictions))"
   ]
  },
  {
   "cell_type": "code",
   "execution_count": 35,
   "metadata": {},
   "outputs": [
    {
     "data": {
      "text/plain": [
       "40.35864741208313"
      ]
     },
     "execution_count": 35,
     "metadata": {},
     "output_type": "execute_result"
    }
   ],
   "source": [
    "def MSE(yHat, y):\n",
    "    return np.sum((yHat - y)**2) / y.size\n",
    "\n",
    "MSE(y_test,predictions)"
   ]
  },
  {
   "cell_type": "markdown",
   "metadata": {},
   "source": [
    "# RMSE\n",
    "**Root Mean Squared Error** (RMSE) is the square root of the mean of the squared errors:\n",
    "\n",
    "$$\\sqrt{\\frac 1n\\sum_{i=1}^n(y_i-\\hat{y}_i)^2}$$"
   ]
  },
  {
   "cell_type": "code",
   "execution_count": 36,
   "metadata": {},
   "outputs": [
    {
     "name": "stdout",
     "output_type": "stream",
     "text": [
      "RMSE: 6.352845615319416\n"
     ]
    }
   ],
   "source": [
    "print('RMSE:', np.sqrt(metrics.mean_squared_error(y_test, predictions)))"
   ]
  },
  {
   "cell_type": "markdown",
   "metadata": {},
   "source": [
    "## RSQ\n"
   ]
  },
  {
   "cell_type": "code",
   "execution_count": 37,
   "metadata": {},
   "outputs": [
    {
     "name": "stdout",
     "output_type": "stream",
     "text": [
      "RSQ: 0.016862000389681886\n"
     ]
    }
   ],
   "source": [
    "print('RSQ:', metrics.explained_variance_score(y_test, predictions))"
   ]
  },
  {
   "cell_type": "code",
   "execution_count": 38,
   "metadata": {},
   "outputs": [
    {
     "data": {
      "text/plain": [
       "dist_stadium             -1.493428\n",
       "game_on                  -0.505040\n",
       "OffenseType_Auto Theft    0.009694\n",
       "OffenseType_Burglary     -1.291891\n",
       "OffenseType_Murder        1.511587\n",
       "OffenseType_Rape         -1.145252\n",
       "OffenseType_Robbery       0.590628\n",
       "OffenseType_Theft        -0.187002\n",
       "weekday_Monday           -0.457892\n",
       "weekday_Saturday         -0.536206\n",
       "weekday_Sunday           -1.267866\n",
       "weekday_Thursday         -0.060037\n",
       "weekday_Tuesday           0.059772\n",
       "weekday_Wednesday        -0.659376\n",
       "dtype: float64"
      ]
     },
     "execution_count": 38,
     "metadata": {},
     "output_type": "execute_result"
    }
   ],
   "source": [
    "params = pd.Series(model.coef_, index=X.columns)\n",
    "params"
   ]
  },
  {
   "cell_type": "code",
   "execution_count": null,
   "metadata": {},
   "outputs": [],
   "source": []
  },
  {
   "cell_type": "code",
   "execution_count": 39,
   "metadata": {},
   "outputs": [],
   "source": [
    "from sklearn.utils import resample\n",
    "np.random.seed(1)\n",
    "err = np.std([model.fit(*resample(X, y)).coef_\n",
    "              for i in range(1000)], 0)"
   ]
  },
  {
   "cell_type": "code",
   "execution_count": 40,
   "metadata": {},
   "outputs": [
    {
     "name": "stdout",
     "output_type": "stream",
     "text": [
      "                        effect  error\n",
      "dist_stadium              -1.0    0.0\n",
      "game_on                   -1.0    0.0\n",
      "OffenseType_Auto Theft     0.0    0.0\n",
      "OffenseType_Burglary      -1.0    0.0\n",
      "OffenseType_Murder         2.0    2.0\n",
      "OffenseType_Rape          -1.0    1.0\n",
      "OffenseType_Robbery        1.0    0.0\n",
      "OffenseType_Theft         -0.0    0.0\n",
      "weekday_Monday            -0.0    0.0\n",
      "weekday_Saturday          -1.0    0.0\n",
      "weekday_Sunday            -1.0    0.0\n",
      "weekday_Thursday          -0.0    0.0\n",
      "weekday_Tuesday            0.0    0.0\n",
      "weekday_Wednesday         -1.0    0.0\n"
     ]
    }
   ],
   "source": [
    "print(pd.DataFrame({'effect': params.round(0),\n",
    "                    'error': err.round(0)}))"
   ]
  },
  {
   "cell_type": "code",
   "execution_count": null,
   "metadata": {},
   "outputs": [],
   "source": []
  },
  {
   "cell_type": "code",
   "execution_count": null,
   "metadata": {},
   "outputs": [],
   "source": []
  },
  {
   "cell_type": "code",
   "execution_count": null,
   "metadata": {},
   "outputs": [],
   "source": []
  },
  {
   "cell_type": "code",
   "execution_count": null,
   "metadata": {},
   "outputs": [],
   "source": []
  },
  {
   "cell_type": "code",
   "execution_count": null,
   "metadata": {},
   "outputs": [],
   "source": []
  }
 ],
 "metadata": {
  "kernelspec": {
   "display_name": "Python 3",
   "language": "python",
   "name": "python3"
  },
  "language_info": {
   "codemirror_mode": {
    "name": "ipython",
    "version": 3
   },
   "file_extension": ".py",
   "mimetype": "text/x-python",
   "name": "python",
   "nbconvert_exporter": "python",
   "pygments_lexer": "ipython3",
   "version": "3.6.4"
  }
 },
 "nbformat": 4,
 "nbformat_minor": 2
}
