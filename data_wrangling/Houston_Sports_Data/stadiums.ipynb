{
 "cells": [
  {
   "cell_type": "code",
   "execution_count": 9,
   "metadata": {},
   "outputs": [],
   "source": [
    "import pandas as pd"
   ]
  },
  {
   "cell_type": "code",
   "execution_count": 14,
   "metadata": {},
   "outputs": [
    {
     "name": "stdout",
     "output_type": "stream",
     "text": [
      "﻿name,address,lat,long\r",
      "\r\n",
      "Rice Stadium,\"6100 Main St, Houston, TX 77005\",29.71633,-95.409326\r",
      "\r\n",
      "Robertson Stadium,\"3874 Holman Street, Houston TX 77004\",29.722565,-95.348981\r",
      "\r\n",
      "NRG Stadium,\"NRG Pkwy, Houston, TX 77054\",29.684722,-95.410707\r",
      "\r\n",
      "Minute Maid Park,\"501 Crawford St, Houston, TX 77002\",29.757269,-95.355514\r",
      "\r\n",
      "BBVA Compass Stadium,\" 2200 Texas St, Houston, TX 77003\",29.752199,-95.352415\r",
      "\r\n",
      "Toyota Center,\"1510 Polk St, Houston, TX 77002\",29.75076,-95.3621\r",
      "\r\n",
      "TDECU Stadium,\"3875 Holman St, Houston TX 77004\",29.721988,-95.349162\r",
      "\r\n",
      "Delmar Stadium,\"2020 Mangum Road Houston, Texas 77092\",29.80279,-95.457138\r",
      "\r\n",
      "Alexander Durley Sports Complex,\"3393 Blodgett St, Houston, TX 77044\",29.722565,-95.348981\r",
      "\r\n"
     ]
    }
   ],
   "source": [
    "cat stadiums_final.csv"
   ]
  },
  {
   "cell_type": "code",
   "execution_count": 12,
   "metadata": {},
   "outputs": [],
   "source": [
    "df = pd.read_csv('stadiums_final.csv')"
   ]
  },
  {
   "cell_type": "code",
   "execution_count": 13,
   "metadata": {},
   "outputs": [
    {
     "data": {
      "text/html": [
       "<div>\n",
       "<style scoped>\n",
       "    .dataframe tbody tr th:only-of-type {\n",
       "        vertical-align: middle;\n",
       "    }\n",
       "\n",
       "    .dataframe tbody tr th {\n",
       "        vertical-align: top;\n",
       "    }\n",
       "\n",
       "    .dataframe thead th {\n",
       "        text-align: right;\n",
       "    }\n",
       "</style>\n",
       "<table border=\"1\" class=\"dataframe\">\n",
       "  <thead>\n",
       "    <tr style=\"text-align: right;\">\n",
       "      <th></th>\n",
       "      <th>name</th>\n",
       "      <th>address</th>\n",
       "      <th>lat</th>\n",
       "      <th>long</th>\n",
       "    </tr>\n",
       "  </thead>\n",
       "  <tbody>\n",
       "    <tr>\n",
       "      <th>0</th>\n",
       "      <td>Rice Stadium</td>\n",
       "      <td>6100 Main St, Houston, TX 77005</td>\n",
       "      <td>29.716330</td>\n",
       "      <td>-95.409326</td>\n",
       "    </tr>\n",
       "    <tr>\n",
       "      <th>1</th>\n",
       "      <td>Robertson Stadium</td>\n",
       "      <td>3874 Holman Street, Houston TX 77004</td>\n",
       "      <td>29.722565</td>\n",
       "      <td>-95.348981</td>\n",
       "    </tr>\n",
       "    <tr>\n",
       "      <th>2</th>\n",
       "      <td>NRG Stadium</td>\n",
       "      <td>NRG Pkwy, Houston, TX 77054</td>\n",
       "      <td>29.684722</td>\n",
       "      <td>-95.410707</td>\n",
       "    </tr>\n",
       "    <tr>\n",
       "      <th>3</th>\n",
       "      <td>Minute Maid Park</td>\n",
       "      <td>501 Crawford St, Houston, TX 77002</td>\n",
       "      <td>29.757269</td>\n",
       "      <td>-95.355514</td>\n",
       "    </tr>\n",
       "    <tr>\n",
       "      <th>4</th>\n",
       "      <td>BBVA Compass Stadium</td>\n",
       "      <td>2200 Texas St, Houston, TX 77003</td>\n",
       "      <td>29.752199</td>\n",
       "      <td>-95.352415</td>\n",
       "    </tr>\n",
       "    <tr>\n",
       "      <th>5</th>\n",
       "      <td>Toyota Center</td>\n",
       "      <td>1510 Polk St, Houston, TX 77002</td>\n",
       "      <td>29.750760</td>\n",
       "      <td>-95.362100</td>\n",
       "    </tr>\n",
       "    <tr>\n",
       "      <th>6</th>\n",
       "      <td>TDECU Stadium</td>\n",
       "      <td>3875 Holman St, Houston TX 77004</td>\n",
       "      <td>29.721988</td>\n",
       "      <td>-95.349162</td>\n",
       "    </tr>\n",
       "    <tr>\n",
       "      <th>7</th>\n",
       "      <td>Delmar Stadium</td>\n",
       "      <td>2020 Mangum Road Houston, Texas 77092</td>\n",
       "      <td>29.802790</td>\n",
       "      <td>-95.457138</td>\n",
       "    </tr>\n",
       "    <tr>\n",
       "      <th>8</th>\n",
       "      <td>Alexander Durley Sports Complex</td>\n",
       "      <td>3393 Blodgett St, Houston, TX 77044</td>\n",
       "      <td>29.722565</td>\n",
       "      <td>-95.348981</td>\n",
       "    </tr>\n",
       "  </tbody>\n",
       "</table>\n",
       "</div>"
      ],
      "text/plain": [
       "                              name                                address  \\\n",
       "0                     Rice Stadium        6100 Main St, Houston, TX 77005   \n",
       "1                Robertson Stadium   3874 Holman Street, Houston TX 77004   \n",
       "2                      NRG Stadium            NRG Pkwy, Houston, TX 77054   \n",
       "3                 Minute Maid Park     501 Crawford St, Houston, TX 77002   \n",
       "4             BBVA Compass Stadium       2200 Texas St, Houston, TX 77003   \n",
       "5                    Toyota Center        1510 Polk St, Houston, TX 77002   \n",
       "6                    TDECU Stadium       3875 Holman St, Houston TX 77004   \n",
       "7                   Delmar Stadium  2020 Mangum Road Houston, Texas 77092   \n",
       "8  Alexander Durley Sports Complex    3393 Blodgett St, Houston, TX 77044   \n",
       "\n",
       "         lat       long  \n",
       "0  29.716330 -95.409326  \n",
       "1  29.722565 -95.348981  \n",
       "2  29.684722 -95.410707  \n",
       "3  29.757269 -95.355514  \n",
       "4  29.752199 -95.352415  \n",
       "5  29.750760 -95.362100  \n",
       "6  29.721988 -95.349162  \n",
       "7  29.802790 -95.457138  \n",
       "8  29.722565 -95.348981  "
      ]
     },
     "execution_count": 13,
     "metadata": {},
     "output_type": "execute_result"
    }
   ],
   "source": [
    "df"
   ]
  },
  {
   "cell_type": "code",
   "execution_count": null,
   "metadata": {},
   "outputs": [],
   "source": []
  }
 ],
 "metadata": {
  "kernelspec": {
   "display_name": "Python 3",
   "language": "python",
   "name": "python3"
  },
  "language_info": {
   "codemirror_mode": {
    "name": "ipython",
    "version": 3
   },
   "file_extension": ".py",
   "mimetype": "text/x-python",
   "name": "python",
   "nbconvert_exporter": "python",
   "pygments_lexer": "ipython3",
   "version": "3.6.4"
  }
 },
 "nbformat": 4,
 "nbformat_minor": 2
}
