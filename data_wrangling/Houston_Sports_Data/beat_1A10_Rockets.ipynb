{
 "cells": [
  {
   "cell_type": "code",
   "execution_count": 1,
   "metadata": {},
   "outputs": [],
   "source": [
    "import pandas as pd"
   ]
  },
  {
   "cell_type": "code",
   "execution_count": 2,
   "metadata": {},
   "outputs": [
    {
     "name": "stdout",
     "output_type": "stream",
     "text": [
      "\u001b[0m\u001b[01;32mastros_10_17_plo_clean.csv\u001b[0m*       \u001b[01;32mnfl_08_17_clean.csv\u001b[0m*\r\n",
      "\u001b[01;32mastros_10_17_reg_clean.csv\u001b[0m*       \u001b[01;32mnfl10clean.csv\u001b[0m*\r\n",
      "\u001b[01;32mastros_1A10.csv\u001b[0m*                  \u001b[01;32mnfl10yearsfull.csv\u001b[0m*\r\n",
      "\u001b[01;32mdynamo_10_17_plo.csv\u001b[0m*             \u001b[01;32mnfl17years_clean.csv\u001b[0m*\r\n",
      "\u001b[01;32mdynamo_10_17__reg.csv\u001b[0m*            \u001b[01;32mnfl17years_PST_clean.csv\u001b[0m*\r\n",
      "\u001b[01;32mdynamo_10H30.csv\u001b[0m*                 \u001b[01;32mrice_08_17_clean.csv\u001b[0m*\r\n",
      "\u001b[01;32mhou_nfl_1017_post.csv\u001b[0m*            \u001b[01;32mRice_10H80.csv\u001b[0m*\r\n",
      "\u001b[01;32mhou_nfl_1017_reg.csv\u001b[0m*             \u001b[01;32mrockets_1A10.csv\u001b[0m*\r\n",
      "\u001b[01;32mhou_rockets_08_17_clean.csv\u001b[0m*      \u001b[01;32mTex_15E40.csv\u001b[0m*\r\n",
      "\u001b[01;32mhou_rockets_10_17_plo_clean.csv\u001b[0m*  \u001b[01;32muh_08_17_clean.csv\u001b[0m*\r\n",
      "\u001b[01;32mhou_rockets_10_17_reg_clean.csv\u001b[0m*  \u001b[01;32mUH_10H50.csv\u001b[0m*\r\n"
     ]
    }
   ],
   "source": [
    "ls sports_data_clean"
   ]
  },
  {
   "cell_type": "code",
   "execution_count": 3,
   "metadata": {},
   "outputs": [],
   "source": [
    "# 1A10\n",
    "hou_reg = 'sports_data_clean/hou_rockets_10_17_reg_clean.csv'\n",
    "hou_pos = 'sports_data_clean/hou_rockets_10_17_plo_clean.csv'"
   ]
  },
  {
   "cell_type": "code",
   "execution_count": 4,
   "metadata": {},
   "outputs": [],
   "source": [
    "df_reg = pd.read_csv(hou_reg)\n",
    "df_pos = pd.read_csv(hou_pos)"
   ]
  },
  {
   "cell_type": "code",
   "execution_count": 5,
   "metadata": {},
   "outputs": [],
   "source": [
    "frames = [df_reg,df_pos]\n",
    "rockets = pd.concat(frames)"
   ]
  },
  {
   "cell_type": "code",
   "execution_count": 6,
   "metadata": {},
   "outputs": [],
   "source": [
    "rockets = rockets[rockets.Location =='home']"
   ]
  },
  {
   "cell_type": "code",
   "execution_count": 7,
   "metadata": {},
   "outputs": [
    {
     "data": {
      "text/html": [
       "<div>\n",
       "<style scoped>\n",
       "    .dataframe tbody tr th:only-of-type {\n",
       "        vertical-align: middle;\n",
       "    }\n",
       "\n",
       "    .dataframe tbody tr th {\n",
       "        vertical-align: top;\n",
       "    }\n",
       "\n",
       "    .dataframe thead th {\n",
       "        text-align: right;\n",
       "    }\n",
       "</style>\n",
       "<table border=\"1\" class=\"dataframe\">\n",
       "  <thead>\n",
       "    <tr style=\"text-align: right;\">\n",
       "      <th></th>\n",
       "      <th>Date</th>\n",
       "      <th>Time</th>\n",
       "      <th>Team</th>\n",
       "      <th>Team_score</th>\n",
       "      <th>Location</th>\n",
       "      <th>Opponent</th>\n",
       "      <th>Opponent_score</th>\n",
       "      <th>Result</th>\n",
       "      <th>season</th>\n",
       "    </tr>\n",
       "  </thead>\n",
       "  <tbody>\n",
       "    <tr>\n",
       "      <th>2</th>\n",
       "      <td>2009-10-31</td>\n",
       "      <td>7:30p ET</td>\n",
       "      <td>Houston Rockets</td>\n",
       "      <td>111</td>\n",
       "      <td>home</td>\n",
       "      <td>Portland Trail Blazers</td>\n",
       "      <td>107</td>\n",
       "      <td>W</td>\n",
       "      <td>reg</td>\n",
       "    </tr>\n",
       "    <tr>\n",
       "      <th>4</th>\n",
       "      <td>2009-11-04</td>\n",
       "      <td>7:30p ET</td>\n",
       "      <td>Houston Rockets</td>\n",
       "      <td>102</td>\n",
       "      <td>home</td>\n",
       "      <td>Los Angeles Lakers</td>\n",
       "      <td>103</td>\n",
       "      <td>L</td>\n",
       "      <td>reg</td>\n",
       "    </tr>\n",
       "    <tr>\n",
       "      <th>5</th>\n",
       "      <td>2009-11-06</td>\n",
       "      <td>7:30p ET</td>\n",
       "      <td>Houston Rockets</td>\n",
       "      <td>105</td>\n",
       "      <td>home</td>\n",
       "      <td>Oklahoma City Thunder</td>\n",
       "      <td>94</td>\n",
       "      <td>W</td>\n",
       "      <td>reg</td>\n",
       "    </tr>\n",
       "    <tr>\n",
       "      <th>7</th>\n",
       "      <td>2009-11-11</td>\n",
       "      <td>7:30p ET</td>\n",
       "      <td>Houston Rockets</td>\n",
       "      <td>104</td>\n",
       "      <td>home</td>\n",
       "      <td>Memphis Grizzlies</td>\n",
       "      <td>79</td>\n",
       "      <td>W</td>\n",
       "      <td>reg</td>\n",
       "    </tr>\n",
       "    <tr>\n",
       "      <th>10</th>\n",
       "      <td>2009-11-17</td>\n",
       "      <td>7:30p ET</td>\n",
       "      <td>Houston Rockets</td>\n",
       "      <td>105</td>\n",
       "      <td>home</td>\n",
       "      <td>Phoenix Suns</td>\n",
       "      <td>111</td>\n",
       "      <td>L</td>\n",
       "      <td>reg</td>\n",
       "    </tr>\n",
       "  </tbody>\n",
       "</table>\n",
       "</div>"
      ],
      "text/plain": [
       "          Date      Time             Team  Team_score Location  \\\n",
       "2   2009-10-31  7:30p ET  Houston Rockets         111     home   \n",
       "4   2009-11-04  7:30p ET  Houston Rockets         102     home   \n",
       "5   2009-11-06  7:30p ET  Houston Rockets         105     home   \n",
       "7   2009-11-11  7:30p ET  Houston Rockets         104     home   \n",
       "10  2009-11-17  7:30p ET  Houston Rockets         105     home   \n",
       "\n",
       "                  Opponent  Opponent_score Result season  \n",
       "2   Portland Trail Blazers             107      W    reg  \n",
       "4       Los Angeles Lakers             103      L    reg  \n",
       "5    Oklahoma City Thunder              94      W    reg  \n",
       "7        Memphis Grizzlies              79      W    reg  \n",
       "10            Phoenix Suns             111      L    reg  "
      ]
     },
     "execution_count": 7,
     "metadata": {},
     "output_type": "execute_result"
    }
   ],
   "source": [
    "rockets.head()"
   ]
  },
  {
   "cell_type": "code",
   "execution_count": 8,
   "metadata": {},
   "outputs": [],
   "source": [
    "rockets = rockets[['Date','Team','Team_score','Location','Opponent','Opponent_score','season']]"
   ]
  },
  {
   "cell_type": "code",
   "execution_count": 9,
   "metadata": {},
   "outputs": [
    {
     "name": "stdout",
     "output_type": "stream",
     "text": [
      "<class 'pandas.core.frame.DataFrame'>\n",
      "Int64Index: 343 entries, 2 to 44\n",
      "Data columns (total 7 columns):\n",
      "Date              343 non-null object\n",
      "Team              343 non-null object\n",
      "Team_score        343 non-null int64\n",
      "Location          343 non-null object\n",
      "Opponent          343 non-null object\n",
      "Opponent_score    343 non-null int64\n",
      "season            343 non-null object\n",
      "dtypes: int64(2), object(5)\n",
      "memory usage: 21.4+ KB\n"
     ]
    }
   ],
   "source": [
    "rockets.info()"
   ]
  },
  {
   "cell_type": "markdown",
   "metadata": {},
   "source": [
    "# join dataframes"
   ]
  },
  {
   "cell_type": "code",
   "execution_count": null,
   "metadata": {},
   "outputs": [],
   "source": []
  },
  {
   "cell_type": "code",
   "execution_count": 10,
   "metadata": {},
   "outputs": [],
   "source": [
    "#beat_1A10_Astros"
   ]
  },
  {
   "cell_type": "code",
   "execution_count": 11,
   "metadata": {},
   "outputs": [],
   "source": [
    "rockets['beat'] = '1A10'"
   ]
  },
  {
   "cell_type": "code",
   "execution_count": 12,
   "metadata": {},
   "outputs": [
    {
     "data": {
      "text/html": [
       "<div>\n",
       "<style scoped>\n",
       "    .dataframe tbody tr th:only-of-type {\n",
       "        vertical-align: middle;\n",
       "    }\n",
       "\n",
       "    .dataframe tbody tr th {\n",
       "        vertical-align: top;\n",
       "    }\n",
       "\n",
       "    .dataframe thead th {\n",
       "        text-align: right;\n",
       "    }\n",
       "</style>\n",
       "<table border=\"1\" class=\"dataframe\">\n",
       "  <thead>\n",
       "    <tr style=\"text-align: right;\">\n",
       "      <th></th>\n",
       "      <th>Date</th>\n",
       "      <th>Team</th>\n",
       "      <th>Team_score</th>\n",
       "      <th>Location</th>\n",
       "      <th>Opponent</th>\n",
       "      <th>Opponent_score</th>\n",
       "      <th>season</th>\n",
       "      <th>beat</th>\n",
       "    </tr>\n",
       "  </thead>\n",
       "  <tbody>\n",
       "    <tr>\n",
       "      <th>2</th>\n",
       "      <td>2009-10-31</td>\n",
       "      <td>Houston Rockets</td>\n",
       "      <td>111</td>\n",
       "      <td>home</td>\n",
       "      <td>Portland Trail Blazers</td>\n",
       "      <td>107</td>\n",
       "      <td>reg</td>\n",
       "      <td>1A10</td>\n",
       "    </tr>\n",
       "    <tr>\n",
       "      <th>4</th>\n",
       "      <td>2009-11-04</td>\n",
       "      <td>Houston Rockets</td>\n",
       "      <td>102</td>\n",
       "      <td>home</td>\n",
       "      <td>Los Angeles Lakers</td>\n",
       "      <td>103</td>\n",
       "      <td>reg</td>\n",
       "      <td>1A10</td>\n",
       "    </tr>\n",
       "    <tr>\n",
       "      <th>5</th>\n",
       "      <td>2009-11-06</td>\n",
       "      <td>Houston Rockets</td>\n",
       "      <td>105</td>\n",
       "      <td>home</td>\n",
       "      <td>Oklahoma City Thunder</td>\n",
       "      <td>94</td>\n",
       "      <td>reg</td>\n",
       "      <td>1A10</td>\n",
       "    </tr>\n",
       "    <tr>\n",
       "      <th>7</th>\n",
       "      <td>2009-11-11</td>\n",
       "      <td>Houston Rockets</td>\n",
       "      <td>104</td>\n",
       "      <td>home</td>\n",
       "      <td>Memphis Grizzlies</td>\n",
       "      <td>79</td>\n",
       "      <td>reg</td>\n",
       "      <td>1A10</td>\n",
       "    </tr>\n",
       "    <tr>\n",
       "      <th>10</th>\n",
       "      <td>2009-11-17</td>\n",
       "      <td>Houston Rockets</td>\n",
       "      <td>105</td>\n",
       "      <td>home</td>\n",
       "      <td>Phoenix Suns</td>\n",
       "      <td>111</td>\n",
       "      <td>reg</td>\n",
       "      <td>1A10</td>\n",
       "    </tr>\n",
       "  </tbody>\n",
       "</table>\n",
       "</div>"
      ],
      "text/plain": [
       "          Date             Team  Team_score Location                Opponent  \\\n",
       "2   2009-10-31  Houston Rockets         111     home  Portland Trail Blazers   \n",
       "4   2009-11-04  Houston Rockets         102     home      Los Angeles Lakers   \n",
       "5   2009-11-06  Houston Rockets         105     home   Oklahoma City Thunder   \n",
       "7   2009-11-11  Houston Rockets         104     home       Memphis Grizzlies   \n",
       "10  2009-11-17  Houston Rockets         105     home            Phoenix Suns   \n",
       "\n",
       "    Opponent_score season  beat  \n",
       "2              107    reg  1A10  \n",
       "4              103    reg  1A10  \n",
       "5               94    reg  1A10  \n",
       "7               79    reg  1A10  \n",
       "10             111    reg  1A10  "
      ]
     },
     "execution_count": 12,
     "metadata": {},
     "output_type": "execute_result"
    }
   ],
   "source": [
    "rockets.head()"
   ]
  },
  {
   "cell_type": "code",
   "execution_count": 13,
   "metadata": {},
   "outputs": [],
   "source": [
    "rockets.to_csv('sports_data_clean/rockets_1A10.csv')"
   ]
  },
  {
   "cell_type": "code",
   "execution_count": 14,
   "metadata": {},
   "outputs": [
    {
     "name": "stdout",
     "output_type": "stream",
     "text": [
      "\u001b[0m\u001b[01;32mastros_10_17_plo_clean.csv\u001b[0m*       \u001b[01;32mnfl_08_17_clean.csv\u001b[0m*\r\n",
      "\u001b[01;32mastros_10_17_reg_clean.csv\u001b[0m*       \u001b[01;32mnfl10clean.csv\u001b[0m*\r\n",
      "\u001b[01;32mastros_1A10.csv\u001b[0m*                  \u001b[01;32mnfl10yearsfull.csv\u001b[0m*\r\n",
      "\u001b[01;32mdynamo_10_17_plo.csv\u001b[0m*             \u001b[01;32mnfl17years_clean.csv\u001b[0m*\r\n",
      "\u001b[01;32mdynamo_10_17__reg.csv\u001b[0m*            \u001b[01;32mnfl17years_PST_clean.csv\u001b[0m*\r\n",
      "\u001b[01;32mdynamo_10H30.csv\u001b[0m*                 \u001b[01;32mrice_08_17_clean.csv\u001b[0m*\r\n",
      "\u001b[01;32mhou_nfl_1017_post.csv\u001b[0m*            \u001b[01;32mRice_10H80.csv\u001b[0m*\r\n",
      "\u001b[01;32mhou_nfl_1017_reg.csv\u001b[0m*             \u001b[01;32mrockets_1A10.csv\u001b[0m*\r\n",
      "\u001b[01;32mhou_rockets_08_17_clean.csv\u001b[0m*      \u001b[01;32mTex_15E40.csv\u001b[0m*\r\n",
      "\u001b[01;32mhou_rockets_10_17_plo_clean.csv\u001b[0m*  \u001b[01;32muh_08_17_clean.csv\u001b[0m*\r\n",
      "\u001b[01;32mhou_rockets_10_17_reg_clean.csv\u001b[0m*  \u001b[01;32mUH_10H50.csv\u001b[0m*\r\n"
     ]
    }
   ],
   "source": [
    "ls sports_data_clean/"
   ]
  },
  {
   "cell_type": "code",
   "execution_count": null,
   "metadata": {},
   "outputs": [],
   "source": []
  }
 ],
 "metadata": {
  "kernelspec": {
   "display_name": "Python 3",
   "language": "python",
   "name": "python3"
  },
  "language_info": {
   "codemirror_mode": {
    "name": "ipython",
    "version": 3
   },
   "file_extension": ".py",
   "mimetype": "text/x-python",
   "name": "python",
   "nbconvert_exporter": "python",
   "pygments_lexer": "ipython3",
   "version": "3.6.4"
  }
 },
 "nbformat": 4,
 "nbformat_minor": 2
}
