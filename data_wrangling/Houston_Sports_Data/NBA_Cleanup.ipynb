{
 "cells": [
  {
   "cell_type": "code",
   "execution_count": 1,
   "metadata": {},
   "outputs": [],
   "source": [
    "import pandas as pd\n",
    "import numpy as np\n",
    "import glob, os\n",
    "import re"
   ]
  },
  {
   "cell_type": "markdown",
   "metadata": {},
   "source": [
    "# Source\n",
    "\n",
    "#### basketball-reference.com\n",
    "https://www.basketball-reference.com/teams/HOU/2017_games.html\n",
    "\n",
    "- saved regular and playoff seasons from 2008 - 2017 to csv"
   ]
  },
  {
   "cell_type": "code",
   "execution_count": 2,
   "metadata": {},
   "outputs": [
    {
     "name": "stdout",
     "output_type": "stream",
     "text": [
      "\u001b[0m\u001b[01;32mhou_rockets_plo_08.csv\u001b[0m*  \u001b[01;32mhou_rockets_plo_17.csv\u001b[0m*  \u001b[01;32mhou_rockets_reg_13.csv\u001b[0m*\r\n",
      "\u001b[01;32mhou_rockets_plo_09.csv\u001b[0m*  \u001b[01;32mhou_rockets_reg_08.csv\u001b[0m*  \u001b[01;32mhou_rockets_reg_14.csv\u001b[0m*\r\n",
      "\u001b[01;32mhou_rockets_plo_13.csv\u001b[0m*  \u001b[01;32mhou_rockets_reg_09.csv\u001b[0m*  \u001b[01;32mhou_rockets_reg_15.csv\u001b[0m*\r\n",
      "\u001b[01;32mhou_rockets_plo_14.csv\u001b[0m*  \u001b[01;32mhou_rockets_reg_10.csv\u001b[0m*  \u001b[01;32mhou_rockets_reg_16.csv\u001b[0m*\r\n",
      "\u001b[01;32mhou_rockets_plo_15.csv\u001b[0m*  \u001b[01;32mhou_rockets_reg_11.csv\u001b[0m*  \u001b[01;32mhou_rockets_reg_17.csv\u001b[0m*\r\n",
      "\u001b[01;32mhou_rockets_plo_16.csv\u001b[0m*  \u001b[01;32mhou_rockets_reg_12.csv\u001b[0m*\r\n"
     ]
    }
   ],
   "source": [
    "ls sports_data_raw/NBA/"
   ]
  },
  {
   "cell_type": "code",
   "execution_count": 3,
   "metadata": {},
   "outputs": [],
   "source": [
    "path = 'sports_data_raw/NBA'\n",
    "all_files = glob.glob(os.path.join(path, \"*.csv\")) \n",
    "\n",
    "df_from_each_file = (pd.read_csv(f) for f in all_files)\n",
    "df   = pd.concat(df_from_each_file, ignore_index=True)"
   ]
  },
  {
   "cell_type": "code",
   "execution_count": 4,
   "metadata": {},
   "outputs": [
    {
     "name": "stdout",
     "output_type": "stream",
     "text": [
      "<class 'pandas.core.frame.DataFrame'>\n",
      "RangeIndex: 868 entries, 0 to 867\n",
      "Data columns (total 15 columns):\n",
      "G             868 non-null int64\n",
      "Date          868 non-null object\n",
      "Unnamed: 2    868 non-null object\n",
      "Unnamed: 3    8 non-null object\n",
      "Unnamed: 4    868 non-null object\n",
      "Unnamed: 5    434 non-null object\n",
      "Opponent      868 non-null object\n",
      "Unnamed: 7    868 non-null object\n",
      "Unnamed: 8    55 non-null object\n",
      "Tm            868 non-null int64\n",
      "Opp           868 non-null int64\n",
      "W             868 non-null int64\n",
      "L             868 non-null int64\n",
      "Streak        868 non-null object\n",
      "Notes         1 non-null object\n",
      "dtypes: int64(5), object(10)\n",
      "memory usage: 101.8+ KB\n"
     ]
    }
   ],
   "source": [
    "df.info()"
   ]
  },
  {
   "cell_type": "code",
   "execution_count": 5,
   "metadata": {},
   "outputs": [
    {
     "data": {
      "text/html": [
       "<div>\n",
       "<style scoped>\n",
       "    .dataframe tbody tr th:only-of-type {\n",
       "        vertical-align: middle;\n",
       "    }\n",
       "\n",
       "    .dataframe tbody tr th {\n",
       "        vertical-align: top;\n",
       "    }\n",
       "\n",
       "    .dataframe thead th {\n",
       "        text-align: right;\n",
       "    }\n",
       "</style>\n",
       "<table border=\"1\" class=\"dataframe\">\n",
       "  <thead>\n",
       "    <tr style=\"text-align: right;\">\n",
       "      <th></th>\n",
       "      <th>G</th>\n",
       "      <th>Date</th>\n",
       "      <th>Unnamed: 2</th>\n",
       "      <th>Unnamed: 3</th>\n",
       "      <th>Unnamed: 4</th>\n",
       "      <th>Unnamed: 5</th>\n",
       "      <th>Opponent</th>\n",
       "      <th>Unnamed: 7</th>\n",
       "      <th>Unnamed: 8</th>\n",
       "      <th>Tm</th>\n",
       "      <th>Opp</th>\n",
       "      <th>W</th>\n",
       "      <th>L</th>\n",
       "      <th>Streak</th>\n",
       "      <th>Notes</th>\n",
       "    </tr>\n",
       "  </thead>\n",
       "  <tbody>\n",
       "    <tr>\n",
       "      <th>0</th>\n",
       "      <td>1</td>\n",
       "      <td>Sat, Apr 19, 2008</td>\n",
       "      <td>8:30p ET</td>\n",
       "      <td>NaN</td>\n",
       "      <td>Box Score</td>\n",
       "      <td>NaN</td>\n",
       "      <td>Utah Jazz</td>\n",
       "      <td>L</td>\n",
       "      <td>NaN</td>\n",
       "      <td>82</td>\n",
       "      <td>93</td>\n",
       "      <td>0</td>\n",
       "      <td>1</td>\n",
       "      <td>L 1</td>\n",
       "      <td>NaN</td>\n",
       "    </tr>\n",
       "    <tr>\n",
       "      <th>1</th>\n",
       "      <td>2</td>\n",
       "      <td>Mon, Apr 21, 2008</td>\n",
       "      <td>8:30p ET</td>\n",
       "      <td>NaN</td>\n",
       "      <td>Box Score</td>\n",
       "      <td>NaN</td>\n",
       "      <td>Utah Jazz</td>\n",
       "      <td>L</td>\n",
       "      <td>NaN</td>\n",
       "      <td>84</td>\n",
       "      <td>90</td>\n",
       "      <td>0</td>\n",
       "      <td>2</td>\n",
       "      <td>L 2</td>\n",
       "      <td>NaN</td>\n",
       "    </tr>\n",
       "    <tr>\n",
       "      <th>2</th>\n",
       "      <td>3</td>\n",
       "      <td>Thu, Apr 24, 2008</td>\n",
       "      <td>8:30p ET</td>\n",
       "      <td>NaN</td>\n",
       "      <td>Box Score</td>\n",
       "      <td>@</td>\n",
       "      <td>Utah Jazz</td>\n",
       "      <td>W</td>\n",
       "      <td>NaN</td>\n",
       "      <td>94</td>\n",
       "      <td>92</td>\n",
       "      <td>1</td>\n",
       "      <td>2</td>\n",
       "      <td>W 1</td>\n",
       "      <td>NaN</td>\n",
       "    </tr>\n",
       "    <tr>\n",
       "      <th>3</th>\n",
       "      <td>4</td>\n",
       "      <td>Sat, Apr 26, 2008</td>\n",
       "      <td>8:30p ET</td>\n",
       "      <td>NaN</td>\n",
       "      <td>Box Score</td>\n",
       "      <td>@</td>\n",
       "      <td>Utah Jazz</td>\n",
       "      <td>L</td>\n",
       "      <td>NaN</td>\n",
       "      <td>82</td>\n",
       "      <td>86</td>\n",
       "      <td>1</td>\n",
       "      <td>3</td>\n",
       "      <td>L 1</td>\n",
       "      <td>NaN</td>\n",
       "    </tr>\n",
       "    <tr>\n",
       "      <th>4</th>\n",
       "      <td>5</td>\n",
       "      <td>Tue, Apr 29, 2008</td>\n",
       "      <td>8:30p ET</td>\n",
       "      <td>NaN</td>\n",
       "      <td>Box Score</td>\n",
       "      <td>NaN</td>\n",
       "      <td>Utah Jazz</td>\n",
       "      <td>W</td>\n",
       "      <td>NaN</td>\n",
       "      <td>95</td>\n",
       "      <td>69</td>\n",
       "      <td>2</td>\n",
       "      <td>3</td>\n",
       "      <td>W 1</td>\n",
       "      <td>NaN</td>\n",
       "    </tr>\n",
       "  </tbody>\n",
       "</table>\n",
       "</div>"
      ],
      "text/plain": [
       "   G               Date Unnamed: 2 Unnamed: 3 Unnamed: 4 Unnamed: 5  \\\n",
       "0  1  Sat, Apr 19, 2008   8:30p ET        NaN  Box Score        NaN   \n",
       "1  2  Mon, Apr 21, 2008   8:30p ET        NaN  Box Score        NaN   \n",
       "2  3  Thu, Apr 24, 2008   8:30p ET        NaN  Box Score          @   \n",
       "3  4  Sat, Apr 26, 2008   8:30p ET        NaN  Box Score          @   \n",
       "4  5  Tue, Apr 29, 2008   8:30p ET        NaN  Box Score        NaN   \n",
       "\n",
       "    Opponent Unnamed: 7 Unnamed: 8  Tm  Opp  W  L Streak Notes  \n",
       "0  Utah Jazz          L        NaN  82   93  0  1    L 1   NaN  \n",
       "1  Utah Jazz          L        NaN  84   90  0  2    L 2   NaN  \n",
       "2  Utah Jazz          W        NaN  94   92  1  2    W 1   NaN  \n",
       "3  Utah Jazz          L        NaN  82   86  1  3    L 1   NaN  \n",
       "4  Utah Jazz          W        NaN  95   69  2  3    W 1   NaN  "
      ]
     },
     "execution_count": 5,
     "metadata": {},
     "output_type": "execute_result"
    }
   ],
   "source": [
    "df.head()"
   ]
  },
  {
   "cell_type": "markdown",
   "metadata": {},
   "source": [
    "## Create slice with only needed columns"
   ]
  },
  {
   "cell_type": "code",
   "execution_count": 6,
   "metadata": {},
   "outputs": [],
   "source": [
    "hou_rockets = df[['Date','Unnamed: 2','Unnamed: 5','Opponent','Unnamed: 7','Tm','Opp']]"
   ]
  },
  {
   "cell_type": "markdown",
   "metadata": {},
   "source": [
    "## Create a column with Houston Rockets"
   ]
  },
  {
   "cell_type": "code",
   "execution_count": 7,
   "metadata": {},
   "outputs": [
    {
     "name": "stderr",
     "output_type": "stream",
     "text": [
      "/home/salas/miniconda3/envs/springboard/lib/python3.6/site-packages/ipykernel_launcher.py:1: SettingWithCopyWarning: \n",
      "A value is trying to be set on a copy of a slice from a DataFrame.\n",
      "Try using .loc[row_indexer,col_indexer] = value instead\n",
      "\n",
      "See the caveats in the documentation: http://pandas.pydata.org/pandas-docs/stable/indexing.html#indexing-view-versus-copy\n",
      "  \"\"\"Entry point for launching an IPython kernel.\n"
     ]
    }
   ],
   "source": [
    "hou_rockets['team'] ='Houston Rockets'"
   ]
  },
  {
   "cell_type": "code",
   "execution_count": null,
   "metadata": {},
   "outputs": [],
   "source": []
  },
  {
   "cell_type": "code",
   "execution_count": 8,
   "metadata": {},
   "outputs": [],
   "source": [
    "hou_rockets = hou_rockets[['Date','Unnamed: 2', 'team','Tm','Unnamed: 5','Opponent','Opp','Unnamed: 7']]"
   ]
  },
  {
   "cell_type": "code",
   "execution_count": 9,
   "metadata": {},
   "outputs": [
    {
     "data": {
      "text/html": [
       "<div>\n",
       "<style scoped>\n",
       "    .dataframe tbody tr th:only-of-type {\n",
       "        vertical-align: middle;\n",
       "    }\n",
       "\n",
       "    .dataframe tbody tr th {\n",
       "        vertical-align: top;\n",
       "    }\n",
       "\n",
       "    .dataframe thead th {\n",
       "        text-align: right;\n",
       "    }\n",
       "</style>\n",
       "<table border=\"1\" class=\"dataframe\">\n",
       "  <thead>\n",
       "    <tr style=\"text-align: right;\">\n",
       "      <th></th>\n",
       "      <th>Date</th>\n",
       "      <th>Unnamed: 2</th>\n",
       "      <th>team</th>\n",
       "      <th>Tm</th>\n",
       "      <th>Unnamed: 5</th>\n",
       "      <th>Opponent</th>\n",
       "      <th>Opp</th>\n",
       "      <th>Unnamed: 7</th>\n",
       "    </tr>\n",
       "  </thead>\n",
       "  <tbody>\n",
       "    <tr>\n",
       "      <th>0</th>\n",
       "      <td>Sat, Apr 19, 2008</td>\n",
       "      <td>8:30p ET</td>\n",
       "      <td>Houston Rockets</td>\n",
       "      <td>82</td>\n",
       "      <td>NaN</td>\n",
       "      <td>Utah Jazz</td>\n",
       "      <td>93</td>\n",
       "      <td>L</td>\n",
       "    </tr>\n",
       "    <tr>\n",
       "      <th>1</th>\n",
       "      <td>Mon, Apr 21, 2008</td>\n",
       "      <td>8:30p ET</td>\n",
       "      <td>Houston Rockets</td>\n",
       "      <td>84</td>\n",
       "      <td>NaN</td>\n",
       "      <td>Utah Jazz</td>\n",
       "      <td>90</td>\n",
       "      <td>L</td>\n",
       "    </tr>\n",
       "    <tr>\n",
       "      <th>2</th>\n",
       "      <td>Thu, Apr 24, 2008</td>\n",
       "      <td>8:30p ET</td>\n",
       "      <td>Houston Rockets</td>\n",
       "      <td>94</td>\n",
       "      <td>@</td>\n",
       "      <td>Utah Jazz</td>\n",
       "      <td>92</td>\n",
       "      <td>W</td>\n",
       "    </tr>\n",
       "    <tr>\n",
       "      <th>3</th>\n",
       "      <td>Sat, Apr 26, 2008</td>\n",
       "      <td>8:30p ET</td>\n",
       "      <td>Houston Rockets</td>\n",
       "      <td>82</td>\n",
       "      <td>@</td>\n",
       "      <td>Utah Jazz</td>\n",
       "      <td>86</td>\n",
       "      <td>L</td>\n",
       "    </tr>\n",
       "    <tr>\n",
       "      <th>4</th>\n",
       "      <td>Tue, Apr 29, 2008</td>\n",
       "      <td>8:30p ET</td>\n",
       "      <td>Houston Rockets</td>\n",
       "      <td>95</td>\n",
       "      <td>NaN</td>\n",
       "      <td>Utah Jazz</td>\n",
       "      <td>69</td>\n",
       "      <td>W</td>\n",
       "    </tr>\n",
       "  </tbody>\n",
       "</table>\n",
       "</div>"
      ],
      "text/plain": [
       "                Date Unnamed: 2             team  Tm Unnamed: 5   Opponent  \\\n",
       "0  Sat, Apr 19, 2008   8:30p ET  Houston Rockets  82        NaN  Utah Jazz   \n",
       "1  Mon, Apr 21, 2008   8:30p ET  Houston Rockets  84        NaN  Utah Jazz   \n",
       "2  Thu, Apr 24, 2008   8:30p ET  Houston Rockets  94          @  Utah Jazz   \n",
       "3  Sat, Apr 26, 2008   8:30p ET  Houston Rockets  82          @  Utah Jazz   \n",
       "4  Tue, Apr 29, 2008   8:30p ET  Houston Rockets  95        NaN  Utah Jazz   \n",
       "\n",
       "   Opp Unnamed: 7  \n",
       "0   93          L  \n",
       "1   90          L  \n",
       "2   92          W  \n",
       "3   86          L  \n",
       "4   69          W  "
      ]
     },
     "execution_count": 9,
     "metadata": {},
     "output_type": "execute_result"
    }
   ],
   "source": [
    "hou_rockets.head()"
   ]
  },
  {
   "cell_type": "markdown",
   "metadata": {},
   "source": [
    "## Rename Columns"
   ]
  },
  {
   "cell_type": "code",
   "execution_count": 10,
   "metadata": {},
   "outputs": [],
   "source": [
    "hou_rockets.rename(columns={\n",
    "    'Unnamed: 2':'Time',\n",
    "    'team': 'Team',\n",
    "    'Tm': 'Team_score',\n",
    "    'Unnamed: 5': 'Location',\n",
    "    'Opp': 'Opponent_score',\n",
    "    'Unnamed: 7': 'Result'\n",
    "},inplace=True)"
   ]
  },
  {
   "cell_type": "code",
   "execution_count": 11,
   "metadata": {},
   "outputs": [
    {
     "data": {
      "text/html": [
       "<div>\n",
       "<style scoped>\n",
       "    .dataframe tbody tr th:only-of-type {\n",
       "        vertical-align: middle;\n",
       "    }\n",
       "\n",
       "    .dataframe tbody tr th {\n",
       "        vertical-align: top;\n",
       "    }\n",
       "\n",
       "    .dataframe thead th {\n",
       "        text-align: right;\n",
       "    }\n",
       "</style>\n",
       "<table border=\"1\" class=\"dataframe\">\n",
       "  <thead>\n",
       "    <tr style=\"text-align: right;\">\n",
       "      <th></th>\n",
       "      <th>Date</th>\n",
       "      <th>Time</th>\n",
       "      <th>Team</th>\n",
       "      <th>Team_score</th>\n",
       "      <th>Location</th>\n",
       "      <th>Opponent</th>\n",
       "      <th>Opponent_score</th>\n",
       "      <th>Result</th>\n",
       "    </tr>\n",
       "  </thead>\n",
       "  <tbody>\n",
       "    <tr>\n",
       "      <th>0</th>\n",
       "      <td>Sat, Apr 19, 2008</td>\n",
       "      <td>8:30p ET</td>\n",
       "      <td>Houston Rockets</td>\n",
       "      <td>82</td>\n",
       "      <td>NaN</td>\n",
       "      <td>Utah Jazz</td>\n",
       "      <td>93</td>\n",
       "      <td>L</td>\n",
       "    </tr>\n",
       "    <tr>\n",
       "      <th>1</th>\n",
       "      <td>Mon, Apr 21, 2008</td>\n",
       "      <td>8:30p ET</td>\n",
       "      <td>Houston Rockets</td>\n",
       "      <td>84</td>\n",
       "      <td>NaN</td>\n",
       "      <td>Utah Jazz</td>\n",
       "      <td>90</td>\n",
       "      <td>L</td>\n",
       "    </tr>\n",
       "    <tr>\n",
       "      <th>2</th>\n",
       "      <td>Thu, Apr 24, 2008</td>\n",
       "      <td>8:30p ET</td>\n",
       "      <td>Houston Rockets</td>\n",
       "      <td>94</td>\n",
       "      <td>@</td>\n",
       "      <td>Utah Jazz</td>\n",
       "      <td>92</td>\n",
       "      <td>W</td>\n",
       "    </tr>\n",
       "    <tr>\n",
       "      <th>3</th>\n",
       "      <td>Sat, Apr 26, 2008</td>\n",
       "      <td>8:30p ET</td>\n",
       "      <td>Houston Rockets</td>\n",
       "      <td>82</td>\n",
       "      <td>@</td>\n",
       "      <td>Utah Jazz</td>\n",
       "      <td>86</td>\n",
       "      <td>L</td>\n",
       "    </tr>\n",
       "    <tr>\n",
       "      <th>4</th>\n",
       "      <td>Tue, Apr 29, 2008</td>\n",
       "      <td>8:30p ET</td>\n",
       "      <td>Houston Rockets</td>\n",
       "      <td>95</td>\n",
       "      <td>NaN</td>\n",
       "      <td>Utah Jazz</td>\n",
       "      <td>69</td>\n",
       "      <td>W</td>\n",
       "    </tr>\n",
       "  </tbody>\n",
       "</table>\n",
       "</div>"
      ],
      "text/plain": [
       "                Date      Time             Team  Team_score Location  \\\n",
       "0  Sat, Apr 19, 2008  8:30p ET  Houston Rockets          82      NaN   \n",
       "1  Mon, Apr 21, 2008  8:30p ET  Houston Rockets          84      NaN   \n",
       "2  Thu, Apr 24, 2008  8:30p ET  Houston Rockets          94        @   \n",
       "3  Sat, Apr 26, 2008  8:30p ET  Houston Rockets          82        @   \n",
       "4  Tue, Apr 29, 2008  8:30p ET  Houston Rockets          95      NaN   \n",
       "\n",
       "    Opponent  Opponent_score Result  \n",
       "0  Utah Jazz              93      L  \n",
       "1  Utah Jazz              90      L  \n",
       "2  Utah Jazz              92      W  \n",
       "3  Utah Jazz              86      L  \n",
       "4  Utah Jazz              69      W  "
      ]
     },
     "execution_count": 11,
     "metadata": {},
     "output_type": "execute_result"
    }
   ],
   "source": [
    "hou_rockets.head()"
   ]
  },
  {
   "cell_type": "markdown",
   "metadata": {},
   "source": [
    "## Inspect Data"
   ]
  },
  {
   "cell_type": "code",
   "execution_count": 12,
   "metadata": {},
   "outputs": [
    {
     "data": {
      "text/plain": [
       "array(['Sat, Apr 19, 2008', 'Mon, Apr 21, 2008', 'Thu, Apr 24, 2008',\n",
       "       'Sat, Apr 26, 2008', 'Tue, Apr 29, 2008', 'Fri, May 2, 2008',\n",
       "       'Sat, Apr 18, 2009', 'Tue, Apr 21, 2009', 'Fri, Apr 24, 2009',\n",
       "       'Sun, Apr 26, 2009', 'Tue, Apr 28, 2009', 'Thu, Apr 30, 2009',\n",
       "       'Mon, May 4, 2009', 'Wed, May 6, 2009', 'Fri, May 8, 2009',\n",
       "       'Sun, May 10, 2009', 'Tue, May 12, 2009', 'Thu, May 14, 2009',\n",
       "       'Sun, May 17, 2009', 'Sun, Apr 21, 2013', 'Wed, Apr 24, 2013',\n",
       "       'Sat, Apr 27, 2013', 'Mon, Apr 29, 2013', 'Wed, May 1, 2013',\n",
       "       'Fri, May 3, 2013', 'Sun, Apr 20, 2014', 'Wed, Apr 23, 2014',\n",
       "       'Fri, Apr 25, 2014', 'Sun, Apr 27, 2014', 'Wed, Apr 30, 2014',\n",
       "       'Fri, May 2, 2014', 'Sat, Apr 18, 2015', 'Tue, Apr 21, 2015',\n",
       "       'Fri, Apr 24, 2015', 'Sun, Apr 26, 2015', 'Tue, Apr 28, 2015',\n",
       "       'Mon, May 4, 2015', 'Wed, May 6, 2015', 'Fri, May 8, 2015',\n",
       "       'Sun, May 10, 2015', 'Tue, May 12, 2015', 'Thu, May 14, 2015',\n",
       "       'Sun, May 17, 2015', 'Tue, May 19, 2015', 'Thu, May 21, 2015',\n",
       "       'Sat, May 23, 2015', 'Mon, May 25, 2015', 'Wed, May 27, 2015',\n",
       "       'Sat, Apr 16, 2016', 'Mon, Apr 18, 2016', 'Thu, Apr 21, 2016',\n",
       "       'Sun, Apr 24, 2016', 'Wed, Apr 27, 2016', 'Sun, Apr 16, 2017',\n",
       "       'Wed, Apr 19, 2017', 'Fri, Apr 21, 2017', 'Sun, Apr 23, 2017',\n",
       "       'Tue, Apr 25, 2017', 'Mon, May 1, 2017', 'Wed, May 3, 2017',\n",
       "       'Fri, May 5, 2017', 'Sun, May 7, 2017', 'Tue, May 9, 2017',\n",
       "       'Thu, May 11, 2017', 'Tue, Oct 30, 2007', 'Thu, Nov 1, 2007',\n",
       "       'Sat, Nov 3, 2007', 'Mon, Nov 5, 2007', 'Tue, Nov 6, 2007',\n",
       "       'Fri, Nov 9, 2007', 'Sun, Nov 11, 2007', 'Tue, Nov 13, 2007',\n",
       "       'Wed, Nov 14, 2007', 'Fri, Nov 16, 2007', 'Sat, Nov 17, 2007',\n",
       "       'Wed, Nov 21, 2007', 'Fri, Nov 23, 2007', 'Sat, Nov 24, 2007',\n",
       "       'Mon, Nov 26, 2007', 'Wed, Nov 28, 2007', 'Thu, Nov 29, 2007',\n",
       "       'Sat, Dec 1, 2007', 'Wed, Dec 5, 2007', 'Fri, Dec 7, 2007',\n",
       "       'Sun, Dec 9, 2007', 'Mon, Dec 10, 2007', 'Wed, Dec 12, 2007',\n",
       "       'Sat, Dec 15, 2007', 'Wed, Dec 19, 2007', 'Thu, Dec 20, 2007',\n",
       "       'Sat, Dec 22, 2007', 'Sun, Dec 23, 2007', 'Fri, Dec 28, 2007',\n",
       "       'Sat, Dec 29, 2007', 'Mon, Dec 31, 2007', 'Wed, Jan 2, 2008',\n",
       "       'Fri, Jan 4, 2008', 'Sat, Jan 5, 2008', 'Tue, Jan 8, 2008',\n",
       "       'Wed, Jan 9, 2008', 'Fri, Jan 11, 2008', 'Sun, Jan 13, 2008',\n",
       "       'Tue, Jan 15, 2008', 'Sat, Jan 19, 2008', 'Mon, Jan 21, 2008',\n",
       "       'Wed, Jan 23, 2008', 'Fri, Jan 25, 2008', 'Sun, Jan 27, 2008',\n",
       "       'Tue, Jan 29, 2008', 'Fri, Feb 1, 2008', 'Sat, Feb 2, 2008',\n",
       "       'Mon, Feb 4, 2008', 'Thu, Feb 7, 2008', 'Sat, Feb 9, 2008',\n",
       "       'Mon, Feb 11, 2008', 'Wed, Feb 13, 2008', 'Tue, Feb 19, 2008',\n",
       "       'Thu, Feb 21, 2008', 'Fri, Feb 22, 2008', 'Sun, Feb 24, 2008',\n",
       "       'Tue, Feb 26, 2008', 'Fri, Feb 29, 2008', 'Sun, Mar 2, 2008',\n",
       "       'Wed, Mar 5, 2008', 'Thu, Mar 6, 2008', 'Sat, Mar 8, 2008',\n",
       "       'Mon, Mar 10, 2008', 'Wed, Mar 12, 2008', 'Fri, Mar 14, 2008',\n",
       "       'Sun, Mar 16, 2008', 'Tue, Mar 18, 2008', 'Wed, Mar 19, 2008',\n",
       "       'Fri, Mar 21, 2008', 'Sat, Mar 22, 2008', 'Mon, Mar 24, 2008',\n",
       "       'Wed, Mar 26, 2008', 'Sun, Mar 30, 2008', 'Tue, Apr 1, 2008',\n",
       "       'Thu, Apr 3, 2008', 'Fri, Apr 4, 2008', 'Sun, Apr 6, 2008',\n",
       "       'Wed, Apr 9, 2008', 'Fri, Apr 11, 2008', 'Sun, Apr 13, 2008',\n",
       "       'Mon, Apr 14, 2008', 'Wed, Apr 16, 2008', 'Wed, Oct 29, 2008',\n",
       "       'Thu, Oct 30, 2008', 'Sat, Nov 1, 2008', 'Tue, Nov 4, 2008',\n",
       "       'Thu, Nov 6, 2008', 'Fri, Nov 7, 2008', 'Sun, Nov 9, 2008',\n",
       "       'Wed, Nov 12, 2008', 'Fri, Nov 14, 2008', 'Sat, Nov 15, 2008',\n",
       "       'Mon, Nov 17, 2008', 'Wed, Nov 19, 2008', 'Fri, Nov 21, 2008',\n",
       "       'Sat, Nov 22, 2008', 'Mon, Nov 24, 2008', 'Wed, Nov 26, 2008',\n",
       "       'Sat, Nov 29, 2008', 'Sun, Nov 30, 2008', 'Wed, Dec 3, 2008',\n",
       "       'Fri, Dec 5, 2008', 'Mon, Dec 8, 2008', 'Tue, Dec 9, 2008',\n",
       "       'Fri, Dec 12, 2008', 'Sat, Dec 13, 2008', 'Tue, Dec 16, 2008',\n",
       "       'Fri, Dec 19, 2008', 'Sat, Dec 20, 2008', 'Mon, Dec 22, 2008',\n",
       "       'Tue, Dec 23, 2008', 'Fri, Dec 26, 2008', 'Sat, Dec 27, 2008',\n",
       "       'Mon, Dec 29, 2008', 'Wed, Dec 31, 2008', 'Fri, Jan 2, 2009',\n",
       "       'Sat, Jan 3, 2009', 'Tue, Jan 6, 2009', 'Wed, Jan 7, 2009',\n",
       "       'Fri, Jan 9, 2009', 'Sat, Jan 10, 2009', 'Tue, Jan 13, 2009',\n",
       "       'Sat, Jan 17, 2009', 'Mon, Jan 19, 2009', 'Wed, Jan 21, 2009',\n",
       "       'Fri, Jan 23, 2009', 'Sun, Jan 25, 2009', 'Mon, Jan 26, 2009',\n",
       "       'Wed, Jan 28, 2009', 'Sat, Jan 31, 2009', 'Tue, Feb 3, 2009',\n",
       "       'Wed, Feb 4, 2009', 'Sat, Feb 7, 2009', 'Mon, Feb 9, 2009',\n",
       "       'Wed, Feb 11, 2009', 'Tue, Feb 17, 2009', 'Fri, Feb 20, 2009',\n",
       "       'Sun, Feb 22, 2009', 'Tue, Feb 24, 2009', 'Thu, Feb 26, 2009',\n",
       "       'Sat, Feb 28, 2009', 'Sun, Mar 1, 2009', 'Tue, Mar 3, 2009',\n",
       "       'Wed, Mar 4, 2009', 'Fri, Mar 6, 2009', 'Sun, Mar 8, 2009',\n",
       "       'Mon, Mar 9, 2009', 'Wed, Mar 11, 2009', 'Fri, Mar 13, 2009',\n",
       "       'Sat, Mar 14, 2009', 'Mon, Mar 16, 2009', 'Wed, Mar 18, 2009',\n",
       "       'Fri, Mar 20, 2009', 'Sun, Mar 22, 2009', 'Tue, Mar 24, 2009',\n",
       "       'Sat, Mar 28, 2009', 'Wed, Apr 1, 2009', 'Fri, Apr 3, 2009',\n",
       "       'Sun, Apr 5, 2009', 'Tue, Apr 7, 2009', 'Thu, Apr 9, 2009',\n",
       "       'Fri, Apr 10, 2009', 'Mon, Apr 13, 2009', 'Wed, Apr 15, 2009',\n",
       "       'Tue, Oct 27, 2009', 'Wed, Oct 28, 2009', 'Sat, Oct 31, 2009',\n",
       "       'Mon, Nov 2, 2009', 'Wed, Nov 4, 2009', 'Fri, Nov 6, 2009',\n",
       "       'Tue, Nov 10, 2009', 'Wed, Nov 11, 2009', 'Fri, Nov 13, 2009',\n",
       "       'Sun, Nov 15, 2009', 'Tue, Nov 17, 2009', 'Wed, Nov 18, 2009',\n",
       "       'Fri, Nov 20, 2009', 'Sat, Nov 21, 2009', 'Wed, Nov 25, 2009',\n",
       "       'Fri, Nov 27, 2009', 'Sun, Nov 29, 2009', 'Wed, Dec 2, 2009',\n",
       "       'Thu, Dec 3, 2009', 'Sat, Dec 5, 2009', 'Wed, Dec 9, 2009',\n",
       "       'Fri, Dec 11, 2009', 'Sun, Dec 13, 2009', 'Tue, Dec 15, 2009',\n",
       "       'Wed, Dec 16, 2009', 'Fri, Dec 18, 2009', 'Sat, Dec 19, 2009',\n",
       "       'Tue, Dec 22, 2009', 'Wed, Dec 23, 2009', 'Sat, Dec 26, 2009',\n",
       "       'Sun, Dec 27, 2009', 'Tue, Dec 29, 2009', 'Thu, Dec 31, 2009',\n",
       "       'Sat, Jan 2, 2010', 'Tue, Jan 5, 2010', 'Wed, Jan 6, 2010',\n",
       "       'Sat, Jan 9, 2010', 'Tue, Jan 12, 2010', 'Wed, Jan 13, 2010',\n",
       "       'Fri, Jan 15, 2010', 'Mon, Jan 18, 2010', 'Fri, Jan 22, 2010',\n",
       "       'Sat, Jan 23, 2010', 'Mon, Jan 25, 2010', 'Wed, Jan 27, 2010',\n",
       "       'Fri, Jan 29, 2010', 'Sun, Jan 31, 2010', 'Tue, Feb 2, 2010',\n",
       "       'Fri, Feb 5, 2010', 'Sat, Feb 6, 2010', 'Tue, Feb 9, 2010',\n",
       "       'Tue, Feb 16, 2010', 'Wed, Feb 17, 2010', 'Sat, Feb 20, 2010',\n",
       "       'Sun, Feb 21, 2010', 'Wed, Feb 24, 2010', 'Fri, Feb 26, 2010',\n",
       "       'Sat, Feb 27, 2010', 'Mon, Mar 1, 2010', 'Wed, Mar 3, 2010',\n",
       "       'Sat, Mar 6, 2010', 'Sun, Mar 7, 2010', 'Tue, Mar 9, 2010',\n",
       "       'Sat, Mar 13, 2010', 'Mon, Mar 15, 2010', 'Wed, Mar 17, 2010',\n",
       "       'Fri, Mar 19, 2010', 'Sun, Mar 21, 2010', 'Mon, Mar 22, 2010',\n",
       "       'Wed, Mar 24, 2010', 'Thu, Mar 25, 2010', 'Sat, Mar 27, 2010',\n",
       "       'Tue, Mar 30, 2010', 'Wed, Mar 31, 2010', 'Fri, Apr 2, 2010',\n",
       "       'Sun, Apr 4, 2010', 'Tue, Apr 6, 2010', 'Wed, Apr 7, 2010',\n",
       "       'Fri, Apr 9, 2010', 'Sun, Apr 11, 2010', 'Mon, Apr 12, 2010',\n",
       "       'Wed, Apr 14, 2010', 'Tue, Oct 26, 2010', 'Wed, Oct 27, 2010',\n",
       "       'Sat, Oct 30, 2010', 'Wed, Nov 3, 2010', 'Sat, Nov 6, 2010',\n",
       "       'Sun, Nov 7, 2010', 'Wed, Nov 10, 2010', 'Fri, Nov 12, 2010',\n",
       "       'Sun, Nov 14, 2010', 'Tue, Nov 16, 2010', 'Wed, Nov 17, 2010',\n",
       "       'Fri, Nov 19, 2010', 'Mon, Nov 22, 2010', 'Wed, Nov 24, 2010',\n",
       "       'Fri, Nov 26, 2010', 'Sun, Nov 28, 2010', 'Mon, Nov 29, 2010',\n",
       "       'Wed, Dec 1, 2010', 'Fri, Dec 3, 2010', 'Sat, Dec 4, 2010',\n",
       "       'Tue, Dec 7, 2010', 'Fri, Dec 10, 2010', 'Sat, Dec 11, 2010',\n",
       "       'Tue, Dec 14, 2010', 'Wed, Dec 15, 2010', 'Fri, Dec 17, 2010',\n",
       "       'Sun, Dec 19, 2010', 'Mon, Dec 20, 2010', 'Wed, Dec 22, 2010',\n",
       "       'Mon, Dec 27, 2010', 'Wed, Dec 29, 2010', 'Fri, Dec 31, 2010',\n",
       "       'Sun, Jan 2, 2011', 'Mon, Jan 3, 2011', 'Wed, Jan 5, 2011',\n",
       "       'Fri, Jan 7, 2011', 'Sat, Jan 8, 2011', 'Mon, Jan 10, 2011',\n",
       "       'Wed, Jan 12, 2011', 'Fri, Jan 14, 2011', 'Sat, Jan 15, 2011',\n",
       "       'Mon, Jan 17, 2011', 'Wed, Jan 19, 2011', 'Fri, Jan 21, 2011',\n",
       "       'Sat, Jan 22, 2011', 'Mon, Jan 24, 2011', 'Wed, Jan 26, 2011',\n",
       "       'Thu, Jan 27, 2011', 'Sat, Jan 29, 2011', 'Tue, Feb 1, 2011',\n",
       "       'Wed, Feb 2, 2011', 'Sat, Feb 5, 2011', 'Mon, Feb 7, 2011',\n",
       "       'Tue, Feb 8, 2011', 'Sat, Feb 12, 2011', 'Mon, Feb 14, 2011',\n",
       "       'Wed, Feb 16, 2011', 'Tue, Feb 22, 2011', 'Wed, Feb 23, 2011',\n",
       "       'Sat, Feb 26, 2011', 'Sun, Feb 27, 2011', 'Tue, Mar 1, 2011',\n",
       "       'Wed, Mar 2, 2011', 'Sat, Mar 5, 2011', 'Mon, Mar 7, 2011',\n",
       "       'Tue, Mar 8, 2011', 'Sat, Mar 12, 2011', 'Mon, Mar 14, 2011',\n",
       "       'Wed, Mar 16, 2011', 'Fri, Mar 18, 2011', 'Sun, Mar 20, 2011',\n",
       "       'Wed, Mar 23, 2011', 'Sun, Mar 27, 2011', 'Tue, Mar 29, 2011',\n",
       "       'Wed, Mar 30, 2011', 'Fri, Apr 1, 2011', 'Sun, Apr 3, 2011',\n",
       "       'Tue, Apr 5, 2011', 'Wed, Apr 6, 2011', 'Sat, Apr 9, 2011',\n",
       "       'Mon, Apr 11, 2011', 'Wed, Apr 13, 2011', 'Mon, Dec 26, 2011',\n",
       "       'Thu, Dec 29, 2011', 'Fri, Dec 30, 2011', 'Sat, Dec 31, 2011',\n",
       "       'Tue, Jan 3, 2012', 'Wed, Jan 4, 2012', 'Fri, Jan 6, 2012',\n",
       "       'Sat, Jan 7, 2012', 'Tue, Jan 10, 2012', 'Wed, Jan 11, 2012',\n",
       "       'Fri, Jan 13, 2012', 'Sat, Jan 14, 2012', 'Mon, Jan 16, 2012',\n",
       "       'Tue, Jan 17, 2012', 'Thu, Jan 19, 2012', 'Sat, Jan 21, 2012',\n",
       "       'Mon, Jan 23, 2012', 'Wed, Jan 25, 2012', 'Fri, Jan 27, 2012',\n",
       "       'Sat, Jan 28, 2012', 'Mon, Jan 30, 2012', 'Wed, Feb 1, 2012',\n",
       "       'Fri, Feb 3, 2012', 'Sat, Feb 4, 2012', 'Mon, Feb 6, 2012',\n",
       "       'Wed, Feb 8, 2012', 'Thu, Feb 9, 2012', 'Sun, Feb 12, 2012',\n",
       "       'Tue, Feb 14, 2012', 'Wed, Feb 15, 2012', 'Fri, Feb 17, 2012',\n",
       "       'Sun, Feb 19, 2012', 'Mon, Feb 20, 2012', 'Wed, Feb 22, 2012',\n",
       "       'Tue, Feb 28, 2012', 'Wed, Feb 29, 2012', 'Fri, Mar 2, 2012',\n",
       "       'Sun, Mar 4, 2012', 'Tue, Mar 6, 2012', 'Wed, Mar 7, 2012',\n",
       "       'Sat, Mar 10, 2012', 'Sun, Mar 11, 2012', 'Tue, Mar 13, 2012',\n",
       "       'Wed, Mar 14, 2012', 'Sat, Mar 17, 2012', 'Sun, Mar 18, 2012',\n",
       "       'Tue, Mar 20, 2012', 'Thu, Mar 22, 2012', 'Sat, Mar 24, 2012',\n",
       "       'Mon, Mar 26, 2012', 'Tue, Mar 27, 2012', 'Fri, Mar 30, 2012',\n",
       "       'Sun, Apr 1, 2012', 'Mon, Apr 2, 2012', 'Fri, Apr 6, 2012',\n",
       "       'Sun, Apr 8, 2012', 'Mon, Apr 9, 2012', 'Wed, Apr 11, 2012',\n",
       "       'Fri, Apr 13, 2012', 'Sun, Apr 15, 2012', 'Mon, Apr 16, 2012',\n",
       "       'Wed, Apr 18, 2012', 'Thu, Apr 19, 2012', 'Sat, Apr 21, 2012',\n",
       "       'Sun, Apr 22, 2012', 'Thu, Apr 26, 2012', 'Wed, Oct 31, 2012',\n",
       "       'Fri, Nov 2, 2012', 'Sat, Nov 3, 2012', 'Wed, Nov 7, 2012',\n",
       "       'Fri, Nov 9, 2012', 'Sat, Nov 10, 2012', 'Mon, Nov 12, 2012',\n",
       "       'Wed, Nov 14, 2012', 'Fri, Nov 16, 2012', 'Sun, Nov 18, 2012',\n",
       "       'Mon, Nov 19, 2012', 'Wed, Nov 21, 2012', 'Fri, Nov 23, 2012',\n",
       "       'Tue, Nov 27, 2012', 'Wed, Nov 28, 2012', 'Sat, Dec 1, 2012',\n",
       "       'Tue, Dec 4, 2012', 'Fri, Dec 7, 2012', 'Sat, Dec 8, 2012',\n",
       "       'Mon, Dec 10, 2012', 'Wed, Dec 12, 2012', 'Fri, Dec 14, 2012',\n",
       "       'Sun, Dec 16, 2012', 'Mon, Dec 17, 2012', 'Wed, Dec 19, 2012',\n",
       "       'Sat, Dec 22, 2012', 'Tue, Dec 25, 2012', 'Wed, Dec 26, 2012',\n",
       "       'Fri, Dec 28, 2012', 'Sat, Dec 29, 2012', 'Mon, Dec 31, 2012',\n",
       "       'Wed, Jan 2, 2013', 'Fri, Jan 4, 2013', 'Sat, Jan 5, 2013',\n",
       "       'Tue, Jan 8, 2013', 'Wed, Jan 9, 2013', 'Fri, Jan 11, 2013',\n",
       "       'Sat, Jan 12, 2013', 'Tue, Jan 15, 2013', 'Wed, Jan 16, 2013',\n",
       "       'Fri, Jan 18, 2013', 'Sat, Jan 19, 2013', 'Mon, Jan 21, 2013',\n",
       "       'Wed, Jan 23, 2013', 'Fri, Jan 25, 2013', 'Sat, Jan 26, 2013',\n",
       "       'Mon, Jan 28, 2013', 'Wed, Jan 30, 2013', 'Sat, Feb 2, 2013',\n",
       "       'Tue, Feb 5, 2013', 'Wed, Feb 6, 2013', 'Fri, Feb 8, 2013',\n",
       "       'Sun, Feb 10, 2013', 'Tue, Feb 12, 2013', 'Wed, Feb 13, 2013',\n",
       "       'Wed, Feb 20, 2013', 'Fri, Feb 22, 2013', 'Sat, Feb 23, 2013',\n",
       "       'Wed, Feb 27, 2013', 'Fri, Mar 1, 2013', 'Sun, Mar 3, 2013',\n",
       "       'Wed, Mar 6, 2013', 'Fri, Mar 8, 2013', 'Sat, Mar 9, 2013',\n",
       "       'Wed, Mar 13, 2013', 'Fri, Mar 15, 2013', 'Sun, Mar 17, 2013',\n",
       "       'Wed, Mar 20, 2013', 'Fri, Mar 22, 2013', 'Sun, Mar 24, 2013',\n",
       "       'Wed, Mar 27, 2013', 'Fri, Mar 29, 2013', 'Sat, Mar 30, 2013',\n",
       "       'Mon, Apr 1, 2013', 'Wed, Apr 3, 2013', 'Fri, Apr 5, 2013',\n",
       "       'Sat, Apr 6, 2013', 'Tue, Apr 9, 2013', 'Fri, Apr 12, 2013',\n",
       "       'Sun, Apr 14, 2013', 'Mon, Apr 15, 2013', 'Wed, Apr 17, 2013',\n",
       "       'Wed, Oct 30, 2013', 'Fri, Nov 1, 2013', 'Sat, Nov 2, 2013',\n",
       "       'Mon, Nov 4, 2013', 'Tue, Nov 5, 2013', 'Thu, Nov 7, 2013',\n",
       "       'Sat, Nov 9, 2013', 'Mon, Nov 11, 2013', 'Wed, Nov 13, 2013',\n",
       "       'Thu, Nov 14, 2013', 'Sat, Nov 16, 2013', 'Tue, Nov 19, 2013',\n",
       "       'Wed, Nov 20, 2013', 'Sat, Nov 23, 2013', 'Mon, Nov 25, 2013',\n",
       "       'Wed, Nov 27, 2013', 'Fri, Nov 29, 2013', 'Sat, Nov 30, 2013',\n",
       "       'Mon, Dec 2, 2013', 'Wed, Dec 4, 2013', 'Fri, Dec 6, 2013',\n",
       "       'Sun, Dec 8, 2013', 'Thu, Dec 12, 2013', 'Fri, Dec 13, 2013',\n",
       "       'Sun, Dec 15, 2013', 'Wed, Dec 18, 2013', 'Fri, Dec 20, 2013',\n",
       "       'Sat, Dec 21, 2013', 'Mon, Dec 23, 2013', 'Wed, Dec 25, 2013',\n",
       "       'Thu, Dec 26, 2013', 'Sat, Dec 28, 2013', 'Sun, Dec 29, 2013',\n",
       "       'Tue, Dec 31, 2013', 'Fri, Jan 3, 2014', 'Wed, Jan 8, 2014',\n",
       "       'Fri, Jan 10, 2014', 'Sat, Jan 11, 2014', 'Mon, Jan 13, 2014',\n",
       "       'Wed, Jan 15, 2014', 'Thu, Jan 16, 2014', 'Sat, Jan 18, 2014',\n",
       "       'Mon, Jan 20, 2014', 'Wed, Jan 22, 2014', 'Fri, Jan 24, 2014',\n",
       "       'Sat, Jan 25, 2014', 'Tue, Jan 28, 2014', 'Wed, Jan 29, 2014',\n",
       "       'Sat, Feb 1, 2014', 'Wed, Feb 5, 2014', 'Sat, Feb 8, 2014',\n",
       "       'Mon, Feb 10, 2014', 'Wed, Feb 12, 2014', 'Wed, Feb 19, 2014',\n",
       "       'Thu, Feb 20, 2014', 'Sun, Feb 23, 2014', 'Tue, Feb 25, 2014',\n",
       "       'Wed, Feb 26, 2014', 'Sat, Mar 1, 2014', 'Tue, Mar 4, 2014',\n",
       "       'Wed, Mar 5, 2014', 'Fri, Mar 7, 2014', 'Sun, Mar 9, 2014',\n",
       "       'Tue, Mar 11, 2014', 'Thu, Mar 13, 2014', 'Sun, Mar 16, 2014',\n",
       "       'Mon, Mar 17, 2014', 'Thu, Mar 20, 2014', 'Sat, Mar 22, 2014',\n",
       "       'Mon, Mar 24, 2014', 'Thu, Mar 27, 2014', 'Sat, Mar 29, 2014',\n",
       "       'Tue, Apr 1, 2014', 'Wed, Apr 2, 2014', 'Fri, Apr 4, 2014',\n",
       "       'Sun, Apr 6, 2014', 'Tue, Apr 8, 2014', 'Wed, Apr 9, 2014',\n",
       "       'Fri, Apr 11, 2014', 'Sat, Apr 12, 2014', 'Mon, Apr 14, 2014',\n",
       "       'Wed, Apr 16, 2014', 'Tue, Oct 28, 2014', 'Wed, Oct 29, 2014',\n",
       "       'Sat, Nov 1, 2014', 'Mon, Nov 3, 2014', 'Tue, Nov 4, 2014',\n",
       "       'Thu, Nov 6, 2014', 'Sat, Nov 8, 2014', 'Wed, Nov 12, 2014',\n",
       "       'Fri, Nov 14, 2014', 'Sun, Nov 16, 2014', 'Mon, Nov 17, 2014',\n",
       "       'Wed, Nov 19, 2014', 'Sat, Nov 22, 2014', 'Mon, Nov 24, 2014',\n",
       "       'Wed, Nov 26, 2014', 'Fri, Nov 28, 2014', 'Sat, Nov 29, 2014',\n",
       "       'Wed, Dec 3, 2014', 'Fri, Dec 5, 2014', 'Sat, Dec 6, 2014',\n",
       "       'Wed, Dec 10, 2014', 'Thu, Dec 11, 2014', 'Sat, Dec 13, 2014',\n",
       "       'Wed, Dec 17, 2014', 'Thu, Dec 18, 2014', 'Sat, Dec 20, 2014',\n",
       "       'Mon, Dec 22, 2014', 'Fri, Dec 26, 2014', 'Sun, Dec 28, 2014',\n",
       "       'Mon, Dec 29, 2014', 'Wed, Dec 31, 2014', 'Fri, Jan 2, 2015',\n",
       "       'Sat, Jan 3, 2015', 'Mon, Jan 5, 2015', 'Wed, Jan 7, 2015',\n",
       "       'Thu, Jan 8, 2015', 'Sat, Jan 10, 2015', 'Mon, Jan 12, 2015',\n",
       "       'Wed, Jan 14, 2015', 'Thu, Jan 15, 2015', 'Sat, Jan 17, 2015',\n",
       "       'Mon, Jan 19, 2015', 'Wed, Jan 21, 2015', 'Fri, Jan 23, 2015',\n",
       "       'Sun, Jan 25, 2015', 'Wed, Jan 28, 2015', 'Fri, Jan 30, 2015',\n",
       "       'Sat, Jan 31, 2015', 'Wed, Feb 4, 2015', 'Fri, Feb 6, 2015',\n",
       "       'Sun, Feb 8, 2015', 'Tue, Feb 10, 2015', 'Wed, Feb 11, 2015',\n",
       "       'Fri, Feb 20, 2015', 'Sat, Feb 21, 2015', 'Mon, Feb 23, 2015',\n",
       "       'Wed, Feb 25, 2015', 'Fri, Feb 27, 2015', 'Sun, Mar 1, 2015',\n",
       "       'Tue, Mar 3, 2015', 'Wed, Mar 4, 2015', 'Fri, Mar 6, 2015',\n",
       "       'Sat, Mar 7, 2015', 'Wed, Mar 11, 2015', 'Thu, Mar 12, 2015',\n",
       "       'Sun, Mar 15, 2015', 'Tue, Mar 17, 2015', 'Thu, Mar 19, 2015',\n",
       "       'Sat, Mar 21, 2015', 'Mon, Mar 23, 2015', 'Wed, Mar 25, 2015',\n",
       "       'Fri, Mar 27, 2015', 'Sun, Mar 29, 2015', 'Mon, Mar 30, 2015',\n",
       "       'Wed, Apr 1, 2015', 'Thu, Apr 2, 2015', 'Sun, Apr 5, 2015',\n",
       "       'Wed, Apr 8, 2015', 'Fri, Apr 10, 2015', 'Sun, Apr 12, 2015',\n",
       "       'Mon, Apr 13, 2015', 'Wed, Apr 15, 2015', 'Wed, Oct 28, 2015',\n",
       "       'Fri, Oct 30, 2015', 'Sun, Nov 1, 2015', 'Mon, Nov 2, 2015',\n",
       "       'Wed, Nov 4, 2015', 'Fri, Nov 6, 2015', 'Sat, Nov 7, 2015',\n",
       "       'Wed, Nov 11, 2015', 'Fri, Nov 13, 2015', 'Sat, Nov 14, 2015',\n",
       "       'Mon, Nov 16, 2015', 'Wed, Nov 18, 2015', 'Fri, Nov 20, 2015',\n",
       "       'Sat, Nov 21, 2015', 'Wed, Nov 25, 2015', 'Fri, Nov 27, 2015',\n",
       "       'Sun, Nov 29, 2015', 'Mon, Nov 30, 2015', 'Wed, Dec 2, 2015',\n",
       "       'Fri, Dec 4, 2015', 'Sat, Dec 5, 2015', 'Tue, Dec 8, 2015',\n",
       "       'Wed, Dec 9, 2015', 'Sat, Dec 12, 2015', 'Mon, Dec 14, 2015',\n",
       "       'Tue, Dec 15, 2015', 'Thu, Dec 17, 2015', 'Sat, Dec 19, 2015',\n",
       "       'Mon, Dec 21, 2015', 'Wed, Dec 23, 2015', 'Fri, Dec 25, 2015',\n",
       "       'Sat, Dec 26, 2015', 'Tue, Dec 29, 2015', 'Thu, Dec 31, 2015',\n",
       "       'Sat, Jan 2, 2016', 'Mon, Jan 4, 2016', 'Thu, Jan 7, 2016',\n",
       "       'Sun, Jan 10, 2016', 'Tue, Jan 12, 2016', 'Wed, Jan 13, 2016',\n",
       "       'Fri, Jan 15, 2016', 'Sun, Jan 17, 2016', 'Mon, Jan 18, 2016',\n",
       "       'Wed, Jan 20, 2016', 'Fri, Jan 22, 2016', 'Sun, Jan 24, 2016',\n",
       "       'Mon, Jan 25, 2016', 'Wed, Jan 27, 2016', 'Fri, Jan 29, 2016',\n",
       "       'Sat, Jan 30, 2016', 'Tue, Feb 2, 2016', 'Thu, Feb 4, 2016',\n",
       "       'Sat, Feb 6, 2016', 'Tue, Feb 9, 2016', 'Wed, Feb 10, 2016',\n",
       "       'Fri, Feb 19, 2016', 'Tue, Feb 23, 2016', 'Thu, Feb 25, 2016',\n",
       "       'Sat, Feb 27, 2016', 'Mon, Feb 29, 2016', 'Wed, Mar 2, 2016',\n",
       "       'Sat, Mar 5, 2016', 'Sun, Mar 6, 2016', 'Wed, Mar 9, 2016',\n",
       "       'Fri, Mar 11, 2016', 'Sat, Mar 12, 2016', 'Mon, Mar 14, 2016',\n",
       "       'Wed, Mar 16, 2016', 'Fri, Mar 18, 2016', 'Sat, Mar 19, 2016',\n",
       "       'Tue, Mar 22, 2016', 'Wed, Mar 23, 2016', 'Fri, Mar 25, 2016',\n",
       "       'Sun, Mar 27, 2016', 'Tue, Mar 29, 2016', 'Thu, Mar 31, 2016',\n",
       "       'Sun, Apr 3, 2016', 'Wed, Apr 6, 2016', 'Thu, Apr 7, 2016',\n",
       "       'Sun, Apr 10, 2016', 'Mon, Apr 11, 2016', 'Wed, Apr 13, 2016',\n",
       "       'Wed, Oct 26, 2016', 'Fri, Oct 28, 2016', 'Sun, Oct 30, 2016',\n",
       "       'Tue, Nov 1, 2016', 'Wed, Nov 2, 2016', 'Sat, Nov 5, 2016',\n",
       "       'Mon, Nov 7, 2016', 'Wed, Nov 9, 2016', 'Sat, Nov 12, 2016',\n",
       "       'Mon, Nov 14, 2016', 'Wed, Nov 16, 2016', 'Thu, Nov 17, 2016',\n",
       "       'Sat, Nov 19, 2016', 'Mon, Nov 21, 2016', 'Wed, Nov 23, 2016',\n",
       "       'Fri, Nov 25, 2016', 'Sun, Nov 27, 2016', 'Tue, Nov 29, 2016',\n",
       "       'Thu, Dec 1, 2016', 'Fri, Dec 2, 2016', 'Mon, Dec 5, 2016',\n",
       "       'Wed, Dec 7, 2016', 'Fri, Dec 9, 2016', 'Sat, Dec 10, 2016',\n",
       "       'Mon, Dec 12, 2016', 'Wed, Dec 14, 2016', 'Fri, Dec 16, 2016',\n",
       "       'Sat, Dec 17, 2016', 'Tue, Dec 20, 2016', 'Wed, Dec 21, 2016',\n",
       "       'Fri, Dec 23, 2016', 'Mon, Dec 26, 2016', 'Tue, Dec 27, 2016',\n",
       "       'Fri, Dec 30, 2016', 'Sat, Dec 31, 2016', 'Mon, Jan 2, 2017',\n",
       "       'Thu, Jan 5, 2017', 'Fri, Jan 6, 2017', 'Sun, Jan 8, 2017',\n",
       "       'Tue, Jan 10, 2017', 'Wed, Jan 11, 2017', 'Fri, Jan 13, 2017',\n",
       "       'Sun, Jan 15, 2017', 'Tue, Jan 17, 2017', 'Wed, Jan 18, 2017',\n",
       "       'Fri, Jan 20, 2017', 'Sat, Jan 21, 2017', 'Mon, Jan 23, 2017',\n",
       "       'Wed, Jan 25, 2017', 'Fri, Jan 27, 2017', 'Sun, Jan 29, 2017',\n",
       "       'Tue, Jan 31, 2017', 'Thu, Feb 2, 2017', 'Fri, Feb 3, 2017',\n",
       "       'Tue, Feb 7, 2017', 'Thu, Feb 9, 2017', 'Sat, Feb 11, 2017',\n",
       "       'Wed, Feb 15, 2017', 'Thu, Feb 23, 2017', 'Sat, Feb 25, 2017',\n",
       "       'Mon, Feb 27, 2017', 'Wed, Mar 1, 2017', 'Sat, Mar 4, 2017',\n",
       "       'Mon, Mar 6, 2017', 'Wed, Mar 8, 2017', 'Fri, Mar 10, 2017',\n",
       "       'Sun, Mar 12, 2017', 'Wed, Mar 15, 2017', 'Fri, Mar 17, 2017',\n",
       "       'Sat, Mar 18, 2017', 'Mon, Mar 20, 2017', 'Fri, Mar 24, 2017',\n",
       "       'Sun, Mar 26, 2017', 'Tue, Mar 28, 2017', 'Thu, Mar 30, 2017',\n",
       "       'Fri, Mar 31, 2017', 'Sun, Apr 2, 2017', 'Wed, Apr 5, 2017',\n",
       "       'Fri, Apr 7, 2017', 'Sun, Apr 9, 2017', 'Mon, Apr 10, 2017',\n",
       "       'Wed, Apr 12, 2017'], dtype=object)"
      ]
     },
     "execution_count": 12,
     "metadata": {},
     "output_type": "execute_result"
    }
   ],
   "source": [
    "hou_rockets.Date.unique()  # need split day"
   ]
  },
  {
   "cell_type": "code",
   "execution_count": 13,
   "metadata": {},
   "outputs": [
    {
     "data": {
      "text/plain": [
       "array(['8:30p ET', '7:30p ET', '7:00p ET', '8:00p ET', '2:30p ET',\n",
       "       '12:30p ET', '9:30p ET', '10:30p ET', '9:00p ET', '3:30p ET',\n",
       "       '6:00p ET', '6:30p ET', '1:30p ET', '12:00p ET', '1:00p ET',\n",
       "       '4:00p ET', '2:00p ET', '3:00p ET', '10:00p ET', '5:30p ET',\n",
       "       '5:00p ET'], dtype=object)"
      ]
     },
     "execution_count": 13,
     "metadata": {},
     "output_type": "execute_result"
    }
   ],
   "source": [
    "hou_rockets.Time.unique()  # need correct time"
   ]
  },
  {
   "cell_type": "code",
   "execution_count": 14,
   "metadata": {},
   "outputs": [
    {
     "data": {
      "text/plain": [
       "array(['Houston Rockets'], dtype=object)"
      ]
     },
     "execution_count": 14,
     "metadata": {},
     "output_type": "execute_result"
    }
   ],
   "source": [
    "hou_rockets.Team.unique()  # ok"
   ]
  },
  {
   "cell_type": "code",
   "execution_count": 15,
   "metadata": {},
   "outputs": [
    {
     "data": {
      "text/plain": [
       "array([ 82,  84,  94,  95,  91, 108, 103,  86,  89,  77,  92, 100,  98,\n",
       "        99,  78,  70, 102, 101, 105, 107, 120, 121, 118, 111, 130, 109,\n",
       "       115, 124, 119, 113, 106,  80, 128,  90,  97,  81, 126,  96, 125,\n",
       "        75, 104,  85,  88,  83, 116,  93, 112, 110, 117,  74,  69,  79,\n",
       "       131, 114,  87,  73,  66, 127, 129, 123, 140, 122, 136, 134, 145,\n",
       "       132, 137, 133, 142, 139, 135])"
      ]
     },
     "execution_count": 15,
     "metadata": {},
     "output_type": "execute_result"
    }
   ],
   "source": [
    "hou_rockets.Team_score.unique()  # ok"
   ]
  },
  {
   "cell_type": "code",
   "execution_count": 16,
   "metadata": {},
   "outputs": [
    {
     "data": {
      "text/plain": [
       "array([nan, '@'], dtype=object)"
      ]
     },
     "execution_count": 16,
     "metadata": {},
     "output_type": "execute_result"
    }
   ],
   "source": [
    "hou_rockets.Location.unique()  # "
   ]
  },
  {
   "cell_type": "code",
   "execution_count": 17,
   "metadata": {},
   "outputs": [
    {
     "data": {
      "text/plain": [
       "array(['Utah Jazz', 'Portland Trail Blazers', 'Los Angeles Lakers',\n",
       "       'Oklahoma City Thunder', 'Dallas Mavericks',\n",
       "       'Los Angeles Clippers', 'Golden State Warriors',\n",
       "       'San Antonio Spurs', 'Milwaukee Bucks', 'Charlotte Bobcats',\n",
       "       'Memphis Grizzlies', 'Phoenix Suns', 'Miami Heat',\n",
       "       'Denver Nuggets', 'Sacramento Kings', 'New Jersey Nets',\n",
       "       'Toronto Raptors', 'Philadelphia 76ers', 'Detroit Pistons',\n",
       "       'Orlando Magic', 'Chicago Bulls', 'Boston Celtics',\n",
       "       'New York Knicks', 'Washington Wizards', 'Minnesota Timberwolves',\n",
       "       'New Orleans Hornets', 'Seattle SuperSonics', 'Indiana Pacers',\n",
       "       'Cleveland Cavaliers', 'Atlanta Hawks', 'Brooklyn Nets',\n",
       "       'New Orleans Pelicans', 'Charlotte Hornets'], dtype=object)"
      ]
     },
     "execution_count": 17,
     "metadata": {},
     "output_type": "execute_result"
    }
   ],
   "source": [
    "hou_rockets.Opponent.unique()  # ok"
   ]
  },
  {
   "cell_type": "code",
   "execution_count": 18,
   "metadata": {},
   "outputs": [
    {
     "data": {
      "text/plain": [
       "Portland Trail Blazers    47\n",
       "San Antonio Spurs         46\n",
       "Golden State Warriors     46\n",
       "Dallas Mavericks          44\n",
       "Oklahoma City Thunder     44\n",
       "Los Angeles Clippers      42\n",
       "Los Angeles Lakers        42\n",
       "Utah Jazz                 41\n",
       "Memphis Grizzlies         40\n",
       "Denver Nuggets            37\n",
       "Phoenix Suns              36\n",
       "Sacramento Kings          36\n",
       "Minnesota Timberwolves    36\n",
       "New Orleans Hornets       23\n",
       "Washington Wizards        20\n",
       "Toronto Raptors           20\n",
       "New York Knicks           19\n",
       "Milwaukee Bucks           19\n",
       "Chicago Bulls             19\n",
       "Atlanta Hawks             19\n",
       "Orlando Magic             19\n",
       "Detroit Pistons           19\n",
       "Cleveland Cavaliers       19\n",
       "Philadelphia 76ers        19\n",
       "Indiana Pacers            19\n",
       "Boston Celtics            19\n",
       "Miami Heat                19\n",
       "New Orleans Pelicans      16\n",
       "Charlotte Bobcats         14\n",
       "Brooklyn Nets             10\n",
       "New Jersey Nets            9\n",
       "Charlotte Hornets          6\n",
       "Seattle SuperSonics        4\n",
       "Name: Opponent, dtype: int64"
      ]
     },
     "execution_count": 18,
     "metadata": {},
     "output_type": "execute_result"
    }
   ],
   "source": [
    "hou_rockets.Opponent.value_counts(dropna=False)  # ok"
   ]
  },
  {
   "cell_type": "code",
   "execution_count": 19,
   "metadata": {},
   "outputs": [
    {
     "data": {
      "text/plain": [
       "array([ 93,  90,  92,  86,  69, 113,  81, 107,  83,  88,  76, 111, 108,\n",
       "        87, 118,  80,  89, 120, 105, 104, 103, 100, 122, 112, 116, 123,\n",
       "        98,  99, 128, 121,  94, 117, 109, 124, 110, 115,  96, 114,  95,\n",
       "        82,  71,  77,  97,  79,  91,  84,  85,  73,  75, 106,  66, 102,\n",
       "       101,  78,  74, 130, 125, 133, 119, 132,  70, 134, 137,  65, 131,\n",
       "       126, 140, 127])"
      ]
     },
     "execution_count": 19,
     "metadata": {},
     "output_type": "execute_result"
    }
   ],
   "source": [
    "hou_rockets.Opponent_score.unique()  # ok"
   ]
  },
  {
   "cell_type": "code",
   "execution_count": 20,
   "metadata": {},
   "outputs": [
    {
     "data": {
      "text/plain": [
       "array(['L', 'W'], dtype=object)"
      ]
     },
     "execution_count": 20,
     "metadata": {},
     "output_type": "execute_result"
    }
   ],
   "source": [
    "hou_rockets.Result.unique()  # ok"
   ]
  },
  {
   "cell_type": "markdown",
   "metadata": {},
   "source": [
    "## Location Column\n",
    "\n",
    "- change @ to away, nan to home"
   ]
  },
  {
   "cell_type": "code",
   "execution_count": 21,
   "metadata": {},
   "outputs": [
    {
     "data": {
      "text/plain": [
       "@      434\n",
       "NaN    434\n",
       "Name: Location, dtype: int64"
      ]
     },
     "execution_count": 21,
     "metadata": {},
     "output_type": "execute_result"
    }
   ],
   "source": [
    "hou_rockets.Location.value_counts(dropna=False)"
   ]
  },
  {
   "cell_type": "code",
   "execution_count": 22,
   "metadata": {},
   "outputs": [],
   "source": [
    "hou_rockets['Location'] = np.where(hou_rockets['Location'] =='@', 'away', 'home')"
   ]
  },
  {
   "cell_type": "code",
   "execution_count": 23,
   "metadata": {},
   "outputs": [
    {
     "data": {
      "text/plain": [
       "away    434\n",
       "home    434\n",
       "Name: Location, dtype: int64"
      ]
     },
     "execution_count": 23,
     "metadata": {},
     "output_type": "execute_result"
    }
   ],
   "source": [
    "hou_rockets.Location.value_counts(dropna=False)"
   ]
  },
  {
   "cell_type": "code",
   "execution_count": 24,
   "metadata": {},
   "outputs": [
    {
     "data": {
      "text/html": [
       "<div>\n",
       "<style scoped>\n",
       "    .dataframe tbody tr th:only-of-type {\n",
       "        vertical-align: middle;\n",
       "    }\n",
       "\n",
       "    .dataframe tbody tr th {\n",
       "        vertical-align: top;\n",
       "    }\n",
       "\n",
       "    .dataframe thead th {\n",
       "        text-align: right;\n",
       "    }\n",
       "</style>\n",
       "<table border=\"1\" class=\"dataframe\">\n",
       "  <thead>\n",
       "    <tr style=\"text-align: right;\">\n",
       "      <th></th>\n",
       "      <th>Date</th>\n",
       "      <th>Time</th>\n",
       "      <th>Team</th>\n",
       "      <th>Team_score</th>\n",
       "      <th>Location</th>\n",
       "      <th>Opponent</th>\n",
       "      <th>Opponent_score</th>\n",
       "      <th>Result</th>\n",
       "    </tr>\n",
       "  </thead>\n",
       "  <tbody>\n",
       "    <tr>\n",
       "      <th>0</th>\n",
       "      <td>Sat, Apr 19, 2008</td>\n",
       "      <td>8:30p ET</td>\n",
       "      <td>Houston Rockets</td>\n",
       "      <td>82</td>\n",
       "      <td>home</td>\n",
       "      <td>Utah Jazz</td>\n",
       "      <td>93</td>\n",
       "      <td>L</td>\n",
       "    </tr>\n",
       "    <tr>\n",
       "      <th>1</th>\n",
       "      <td>Mon, Apr 21, 2008</td>\n",
       "      <td>8:30p ET</td>\n",
       "      <td>Houston Rockets</td>\n",
       "      <td>84</td>\n",
       "      <td>home</td>\n",
       "      <td>Utah Jazz</td>\n",
       "      <td>90</td>\n",
       "      <td>L</td>\n",
       "    </tr>\n",
       "    <tr>\n",
       "      <th>2</th>\n",
       "      <td>Thu, Apr 24, 2008</td>\n",
       "      <td>8:30p ET</td>\n",
       "      <td>Houston Rockets</td>\n",
       "      <td>94</td>\n",
       "      <td>away</td>\n",
       "      <td>Utah Jazz</td>\n",
       "      <td>92</td>\n",
       "      <td>W</td>\n",
       "    </tr>\n",
       "    <tr>\n",
       "      <th>3</th>\n",
       "      <td>Sat, Apr 26, 2008</td>\n",
       "      <td>8:30p ET</td>\n",
       "      <td>Houston Rockets</td>\n",
       "      <td>82</td>\n",
       "      <td>away</td>\n",
       "      <td>Utah Jazz</td>\n",
       "      <td>86</td>\n",
       "      <td>L</td>\n",
       "    </tr>\n",
       "    <tr>\n",
       "      <th>4</th>\n",
       "      <td>Tue, Apr 29, 2008</td>\n",
       "      <td>8:30p ET</td>\n",
       "      <td>Houston Rockets</td>\n",
       "      <td>95</td>\n",
       "      <td>home</td>\n",
       "      <td>Utah Jazz</td>\n",
       "      <td>69</td>\n",
       "      <td>W</td>\n",
       "    </tr>\n",
       "  </tbody>\n",
       "</table>\n",
       "</div>"
      ],
      "text/plain": [
       "                Date      Time             Team  Team_score Location  \\\n",
       "0  Sat, Apr 19, 2008  8:30p ET  Houston Rockets          82     home   \n",
       "1  Mon, Apr 21, 2008  8:30p ET  Houston Rockets          84     home   \n",
       "2  Thu, Apr 24, 2008  8:30p ET  Houston Rockets          94     away   \n",
       "3  Sat, Apr 26, 2008  8:30p ET  Houston Rockets          82     away   \n",
       "4  Tue, Apr 29, 2008  8:30p ET  Houston Rockets          95     home   \n",
       "\n",
       "    Opponent  Opponent_score Result  \n",
       "0  Utah Jazz              93      L  \n",
       "1  Utah Jazz              90      L  \n",
       "2  Utah Jazz              92      W  \n",
       "3  Utah Jazz              86      L  \n",
       "4  Utah Jazz              69      W  "
      ]
     },
     "execution_count": 24,
     "metadata": {},
     "output_type": "execute_result"
    }
   ],
   "source": [
    "hou_rockets.head()"
   ]
  },
  {
   "cell_type": "markdown",
   "metadata": {},
   "source": [
    "## Date column\n",
    "\n",
    "- split Date:\n",
    "    - Day : Sun\n",
    "    - Date : Month, day, Year"
   ]
  },
  {
   "cell_type": "code",
   "execution_count": 25,
   "metadata": {},
   "outputs": [],
   "source": [
    "# hou_rockets['Day'] = hou_rockets['Date'].str.split(',').apply(lambda x: x[0])\n",
    "# hou_rockets['Date'] = hou_rockets['Date'].str.split(',').apply(lambda x: x[1:])"
   ]
  },
  {
   "cell_type": "code",
   "execution_count": 26,
   "metadata": {},
   "outputs": [
    {
     "data": {
      "text/html": [
       "<div>\n",
       "<style scoped>\n",
       "    .dataframe tbody tr th:only-of-type {\n",
       "        vertical-align: middle;\n",
       "    }\n",
       "\n",
       "    .dataframe tbody tr th {\n",
       "        vertical-align: top;\n",
       "    }\n",
       "\n",
       "    .dataframe thead th {\n",
       "        text-align: right;\n",
       "    }\n",
       "</style>\n",
       "<table border=\"1\" class=\"dataframe\">\n",
       "  <thead>\n",
       "    <tr style=\"text-align: right;\">\n",
       "      <th></th>\n",
       "      <th>Date</th>\n",
       "      <th>Time</th>\n",
       "      <th>Team</th>\n",
       "      <th>Team_score</th>\n",
       "      <th>Location</th>\n",
       "      <th>Opponent</th>\n",
       "      <th>Opponent_score</th>\n",
       "      <th>Result</th>\n",
       "    </tr>\n",
       "  </thead>\n",
       "  <tbody>\n",
       "    <tr>\n",
       "      <th>0</th>\n",
       "      <td>Sat, Apr 19, 2008</td>\n",
       "      <td>8:30p ET</td>\n",
       "      <td>Houston Rockets</td>\n",
       "      <td>82</td>\n",
       "      <td>home</td>\n",
       "      <td>Utah Jazz</td>\n",
       "      <td>93</td>\n",
       "      <td>L</td>\n",
       "    </tr>\n",
       "    <tr>\n",
       "      <th>1</th>\n",
       "      <td>Mon, Apr 21, 2008</td>\n",
       "      <td>8:30p ET</td>\n",
       "      <td>Houston Rockets</td>\n",
       "      <td>84</td>\n",
       "      <td>home</td>\n",
       "      <td>Utah Jazz</td>\n",
       "      <td>90</td>\n",
       "      <td>L</td>\n",
       "    </tr>\n",
       "    <tr>\n",
       "      <th>2</th>\n",
       "      <td>Thu, Apr 24, 2008</td>\n",
       "      <td>8:30p ET</td>\n",
       "      <td>Houston Rockets</td>\n",
       "      <td>94</td>\n",
       "      <td>away</td>\n",
       "      <td>Utah Jazz</td>\n",
       "      <td>92</td>\n",
       "      <td>W</td>\n",
       "    </tr>\n",
       "    <tr>\n",
       "      <th>3</th>\n",
       "      <td>Sat, Apr 26, 2008</td>\n",
       "      <td>8:30p ET</td>\n",
       "      <td>Houston Rockets</td>\n",
       "      <td>82</td>\n",
       "      <td>away</td>\n",
       "      <td>Utah Jazz</td>\n",
       "      <td>86</td>\n",
       "      <td>L</td>\n",
       "    </tr>\n",
       "    <tr>\n",
       "      <th>4</th>\n",
       "      <td>Tue, Apr 29, 2008</td>\n",
       "      <td>8:30p ET</td>\n",
       "      <td>Houston Rockets</td>\n",
       "      <td>95</td>\n",
       "      <td>home</td>\n",
       "      <td>Utah Jazz</td>\n",
       "      <td>69</td>\n",
       "      <td>W</td>\n",
       "    </tr>\n",
       "  </tbody>\n",
       "</table>\n",
       "</div>"
      ],
      "text/plain": [
       "                Date      Time             Team  Team_score Location  \\\n",
       "0  Sat, Apr 19, 2008  8:30p ET  Houston Rockets          82     home   \n",
       "1  Mon, Apr 21, 2008  8:30p ET  Houston Rockets          84     home   \n",
       "2  Thu, Apr 24, 2008  8:30p ET  Houston Rockets          94     away   \n",
       "3  Sat, Apr 26, 2008  8:30p ET  Houston Rockets          82     away   \n",
       "4  Tue, Apr 29, 2008  8:30p ET  Houston Rockets          95     home   \n",
       "\n",
       "    Opponent  Opponent_score Result  \n",
       "0  Utah Jazz              93      L  \n",
       "1  Utah Jazz              90      L  \n",
       "2  Utah Jazz              92      W  \n",
       "3  Utah Jazz              86      L  \n",
       "4  Utah Jazz              69      W  "
      ]
     },
     "execution_count": 26,
     "metadata": {},
     "output_type": "execute_result"
    }
   ],
   "source": [
    "hou_rockets.head()"
   ]
  },
  {
   "cell_type": "code",
   "execution_count": 27,
   "metadata": {},
   "outputs": [],
   "source": [
    "#day = hou_rockets['Date'].str.split(',').apply(lambda x: x[0])"
   ]
  },
  {
   "cell_type": "code",
   "execution_count": 28,
   "metadata": {},
   "outputs": [],
   "source": [
    "hou_rockets['Date'] = pd.to_datetime(hou_rockets['Date'])"
   ]
  },
  {
   "cell_type": "code",
   "execution_count": 29,
   "metadata": {},
   "outputs": [
    {
     "data": {
      "text/html": [
       "<div>\n",
       "<style scoped>\n",
       "    .dataframe tbody tr th:only-of-type {\n",
       "        vertical-align: middle;\n",
       "    }\n",
       "\n",
       "    .dataframe tbody tr th {\n",
       "        vertical-align: top;\n",
       "    }\n",
       "\n",
       "    .dataframe thead th {\n",
       "        text-align: right;\n",
       "    }\n",
       "</style>\n",
       "<table border=\"1\" class=\"dataframe\">\n",
       "  <thead>\n",
       "    <tr style=\"text-align: right;\">\n",
       "      <th></th>\n",
       "      <th>Date</th>\n",
       "      <th>Time</th>\n",
       "      <th>Team</th>\n",
       "      <th>Team_score</th>\n",
       "      <th>Location</th>\n",
       "      <th>Opponent</th>\n",
       "      <th>Opponent_score</th>\n",
       "      <th>Result</th>\n",
       "    </tr>\n",
       "  </thead>\n",
       "  <tbody>\n",
       "    <tr>\n",
       "      <th>0</th>\n",
       "      <td>2008-04-19</td>\n",
       "      <td>8:30p ET</td>\n",
       "      <td>Houston Rockets</td>\n",
       "      <td>82</td>\n",
       "      <td>home</td>\n",
       "      <td>Utah Jazz</td>\n",
       "      <td>93</td>\n",
       "      <td>L</td>\n",
       "    </tr>\n",
       "    <tr>\n",
       "      <th>1</th>\n",
       "      <td>2008-04-21</td>\n",
       "      <td>8:30p ET</td>\n",
       "      <td>Houston Rockets</td>\n",
       "      <td>84</td>\n",
       "      <td>home</td>\n",
       "      <td>Utah Jazz</td>\n",
       "      <td>90</td>\n",
       "      <td>L</td>\n",
       "    </tr>\n",
       "    <tr>\n",
       "      <th>2</th>\n",
       "      <td>2008-04-24</td>\n",
       "      <td>8:30p ET</td>\n",
       "      <td>Houston Rockets</td>\n",
       "      <td>94</td>\n",
       "      <td>away</td>\n",
       "      <td>Utah Jazz</td>\n",
       "      <td>92</td>\n",
       "      <td>W</td>\n",
       "    </tr>\n",
       "    <tr>\n",
       "      <th>3</th>\n",
       "      <td>2008-04-26</td>\n",
       "      <td>8:30p ET</td>\n",
       "      <td>Houston Rockets</td>\n",
       "      <td>82</td>\n",
       "      <td>away</td>\n",
       "      <td>Utah Jazz</td>\n",
       "      <td>86</td>\n",
       "      <td>L</td>\n",
       "    </tr>\n",
       "    <tr>\n",
       "      <th>4</th>\n",
       "      <td>2008-04-29</td>\n",
       "      <td>8:30p ET</td>\n",
       "      <td>Houston Rockets</td>\n",
       "      <td>95</td>\n",
       "      <td>home</td>\n",
       "      <td>Utah Jazz</td>\n",
       "      <td>69</td>\n",
       "      <td>W</td>\n",
       "    </tr>\n",
       "  </tbody>\n",
       "</table>\n",
       "</div>"
      ],
      "text/plain": [
       "        Date      Time             Team  Team_score Location   Opponent  \\\n",
       "0 2008-04-19  8:30p ET  Houston Rockets          82     home  Utah Jazz   \n",
       "1 2008-04-21  8:30p ET  Houston Rockets          84     home  Utah Jazz   \n",
       "2 2008-04-24  8:30p ET  Houston Rockets          94     away  Utah Jazz   \n",
       "3 2008-04-26  8:30p ET  Houston Rockets          82     away  Utah Jazz   \n",
       "4 2008-04-29  8:30p ET  Houston Rockets          95     home  Utah Jazz   \n",
       "\n",
       "   Opponent_score Result  \n",
       "0              93      L  \n",
       "1              90      L  \n",
       "2              92      W  \n",
       "3              86      L  \n",
       "4              69      W  "
      ]
     },
     "execution_count": 29,
     "metadata": {},
     "output_type": "execute_result"
    }
   ],
   "source": [
    "hou_rockets.head()"
   ]
  },
  {
   "cell_type": "code",
   "execution_count": 30,
   "metadata": {},
   "outputs": [],
   "source": [
    "hou_rockets = hou_rockets.set_index('Date').sort_index(ascending=True)"
   ]
  },
  {
   "cell_type": "code",
   "execution_count": 31,
   "metadata": {},
   "outputs": [
    {
     "name": "stdout",
     "output_type": "stream",
     "text": [
      "<class 'pandas.core.frame.DataFrame'>\n",
      "DatetimeIndex: 868 entries, 2007-10-30 to 2017-05-11\n",
      "Data columns (total 7 columns):\n",
      "Time              868 non-null object\n",
      "Team              868 non-null object\n",
      "Team_score        868 non-null int64\n",
      "Location          868 non-null object\n",
      "Opponent          868 non-null object\n",
      "Opponent_score    868 non-null int64\n",
      "Result            868 non-null object\n",
      "dtypes: int64(2), object(5)\n",
      "memory usage: 54.2+ KB\n"
     ]
    }
   ],
   "source": [
    "hou_rockets.info()"
   ]
  },
  {
   "cell_type": "code",
   "execution_count": 32,
   "metadata": {},
   "outputs": [
    {
     "data": {
      "text/html": [
       "<div>\n",
       "<style scoped>\n",
       "    .dataframe tbody tr th:only-of-type {\n",
       "        vertical-align: middle;\n",
       "    }\n",
       "\n",
       "    .dataframe tbody tr th {\n",
       "        vertical-align: top;\n",
       "    }\n",
       "\n",
       "    .dataframe thead th {\n",
       "        text-align: right;\n",
       "    }\n",
       "</style>\n",
       "<table border=\"1\" class=\"dataframe\">\n",
       "  <thead>\n",
       "    <tr style=\"text-align: right;\">\n",
       "      <th></th>\n",
       "      <th>Time</th>\n",
       "      <th>Team</th>\n",
       "      <th>Team_score</th>\n",
       "      <th>Location</th>\n",
       "      <th>Opponent</th>\n",
       "      <th>Opponent_score</th>\n",
       "      <th>Result</th>\n",
       "    </tr>\n",
       "    <tr>\n",
       "      <th>Date</th>\n",
       "      <th></th>\n",
       "      <th></th>\n",
       "      <th></th>\n",
       "      <th></th>\n",
       "      <th></th>\n",
       "      <th></th>\n",
       "      <th></th>\n",
       "    </tr>\n",
       "  </thead>\n",
       "  <tbody>\n",
       "    <tr>\n",
       "      <th>2007-10-30</th>\n",
       "      <td>7:30p ET</td>\n",
       "      <td>Houston Rockets</td>\n",
       "      <td>95</td>\n",
       "      <td>away</td>\n",
       "      <td>Los Angeles Lakers</td>\n",
       "      <td>93</td>\n",
       "      <td>W</td>\n",
       "    </tr>\n",
       "    <tr>\n",
       "      <th>2007-11-01</th>\n",
       "      <td>7:00p ET</td>\n",
       "      <td>Houston Rockets</td>\n",
       "      <td>106</td>\n",
       "      <td>away</td>\n",
       "      <td>Utah Jazz</td>\n",
       "      <td>95</td>\n",
       "      <td>W</td>\n",
       "    </tr>\n",
       "    <tr>\n",
       "      <th>2007-11-03</th>\n",
       "      <td>7:30p ET</td>\n",
       "      <td>Houston Rockets</td>\n",
       "      <td>89</td>\n",
       "      <td>home</td>\n",
       "      <td>Portland Trail Blazers</td>\n",
       "      <td>80</td>\n",
       "      <td>W</td>\n",
       "    </tr>\n",
       "    <tr>\n",
       "      <th>2007-11-05</th>\n",
       "      <td>7:30p ET</td>\n",
       "      <td>Houston Rockets</td>\n",
       "      <td>98</td>\n",
       "      <td>away</td>\n",
       "      <td>Dallas Mavericks</td>\n",
       "      <td>107</td>\n",
       "      <td>L</td>\n",
       "    </tr>\n",
       "    <tr>\n",
       "      <th>2007-11-06</th>\n",
       "      <td>7:30p ET</td>\n",
       "      <td>Houston Rockets</td>\n",
       "      <td>89</td>\n",
       "      <td>home</td>\n",
       "      <td>San Antonio Spurs</td>\n",
       "      <td>81</td>\n",
       "      <td>W</td>\n",
       "    </tr>\n",
       "  </tbody>\n",
       "</table>\n",
       "</div>"
      ],
      "text/plain": [
       "                Time             Team  Team_score Location  \\\n",
       "Date                                                         \n",
       "2007-10-30  7:30p ET  Houston Rockets          95     away   \n",
       "2007-11-01  7:00p ET  Houston Rockets         106     away   \n",
       "2007-11-03  7:30p ET  Houston Rockets          89     home   \n",
       "2007-11-05  7:30p ET  Houston Rockets          98     away   \n",
       "2007-11-06  7:30p ET  Houston Rockets          89     home   \n",
       "\n",
       "                          Opponent  Opponent_score Result  \n",
       "Date                                                       \n",
       "2007-10-30      Los Angeles Lakers              93      W  \n",
       "2007-11-01               Utah Jazz              95      W  \n",
       "2007-11-03  Portland Trail Blazers              80      W  \n",
       "2007-11-05        Dallas Mavericks             107      L  \n",
       "2007-11-06       San Antonio Spurs              81      W  "
      ]
     },
     "execution_count": 32,
     "metadata": {},
     "output_type": "execute_result"
    }
   ],
   "source": [
    "hou_rockets.head()"
   ]
  },
  {
   "cell_type": "markdown",
   "metadata": {},
   "source": [
    "## Save clean data to  to csv"
   ]
  },
  {
   "cell_type": "code",
   "execution_count": 33,
   "metadata": {},
   "outputs": [],
   "source": [
    "hou_rockets.to_csv('sports_data_clean/hou_rockets_08_17_clean.csv')"
   ]
  },
  {
   "cell_type": "code",
   "execution_count": 34,
   "metadata": {},
   "outputs": [
    {
     "name": "stdout",
     "output_type": "stream",
     "text": [
      "\u001b[0m\u001b[01;32mastros_08_17_clean.csv\u001b[0m*  \u001b[01;32mdynamo_08_17_clean.csv\u001b[0m*  \u001b[01;32mhou_rockets_08_17_clean.csv\u001b[0m*\r\n"
     ]
    }
   ],
   "source": [
    "ls sports_data_clean/"
   ]
  },
  {
   "cell_type": "code",
   "execution_count": 35,
   "metadata": {},
   "outputs": [],
   "source": [
    "## Finish"
   ]
  }
 ],
 "metadata": {
  "kernelspec": {
   "display_name": "Python 3",
   "language": "python",
   "name": "python3"
  },
  "language_info": {
   "codemirror_mode": {
    "name": "ipython",
    "version": 3
   },
   "file_extension": ".py",
   "mimetype": "text/x-python",
   "name": "python",
   "nbconvert_exporter": "python",
   "pygments_lexer": "ipython3",
   "version": "3.6.4"
  }
 },
 "nbformat": 4,
 "nbformat_minor": 2
}
