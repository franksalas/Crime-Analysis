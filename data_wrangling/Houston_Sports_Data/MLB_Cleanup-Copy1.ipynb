{
 "cells": [
  {
   "cell_type": "code",
   "execution_count": 1,
   "metadata": {},
   "outputs": [],
   "source": [
    "import pandas as pd\n",
    "import numpy as np\n",
    "import glob, os\n",
    "import re"
   ]
  },
  {
   "cell_type": "markdown",
   "metadata": {},
   "source": [
    "## Source\n",
    "\n",
    "####  baseball-reference.com\n",
    "\n",
    "https://www.baseball-reference.com/teams/HOU/2018-schedule-scores.shtml\n",
    "\n",
    "- saved regular seasons from 2008 - 2017 to csv"
   ]
  },
  {
   "cell_type": "code",
   "execution_count": 3,
   "metadata": {},
   "outputs": [
    {
     "name": "stdout",
     "output_type": "stream",
     "text": [
      "\u001b[0m\u001b[01;32mmlb_h10.csv\u001b[0m*  \u001b[01;32mmlb_h12.csv\u001b[0m*  \u001b[01;32mmlb_h14.csv\u001b[0m*  \u001b[01;32mmlb_h16.csv\u001b[0m*\r\n",
      "\u001b[01;32mmlb_h11.csv\u001b[0m*  \u001b[01;32mmlb_h13.csv\u001b[0m*  \u001b[01;32mmlb_h15.csv\u001b[0m*  \u001b[01;32mmlb_h17.csv\u001b[0m*\r\n"
     ]
    }
   ],
   "source": [
    "ls sports_data_raw/MLB/reg"
   ]
  },
  {
   "cell_type": "markdown",
   "metadata": {},
   "source": [
    "## get all data"
   ]
  },
  {
   "cell_type": "code",
   "execution_count": 4,
   "metadata": {},
   "outputs": [],
   "source": [
    "path = 'sports_data_raw/MLB/reg'\n",
    "all_files = glob.glob(os.path.join(path, \"*.csv\")) \n",
    "\n",
    "df_from_each_file = (pd.read_csv(f) for f in all_files)\n",
    "df   = pd.concat(df_from_each_file, ignore_index=True)"
   ]
  },
  {
   "cell_type": "code",
   "execution_count": 6,
   "metadata": {},
   "outputs": [
    {
     "name": "stdout",
     "output_type": "stream",
     "text": [
      "<class 'pandas.core.frame.DataFrame'>\n",
      "RangeIndex: 1296 entries, 0 to 1295\n",
      "Data columns (total 22 columns):\n",
      "Gm#                1296 non-null int64\n",
      "Year               1296 non-null int64\n",
      "Date               1296 non-null object\n",
      "Unnamed: 3         1296 non-null object\n",
      "Tm                 1296 non-null object\n",
      "Unnamed: 5         648 non-null object\n",
      "Opp                1296 non-null object\n",
      "W/L                1296 non-null object\n",
      "R                  1296 non-null int64\n",
      "RA                 1296 non-null int64\n",
      "Inn                107 non-null float64\n",
      "W-L                1296 non-null object\n",
      "Rank               1296 non-null int64\n",
      "GB                 1296 non-null object\n",
      "Win                1296 non-null object\n",
      "Loss               1296 non-null object\n",
      "Save               648 non-null object\n",
      "Time               1296 non-null object\n",
      "D/N                1296 non-null object\n",
      "Attendance         1295 non-null float64\n",
      "Streak             1296 non-null object\n",
      "Orig. Scheduled    1 non-null object\n",
      "dtypes: float64(2), int64(5), object(15)\n",
      "memory usage: 222.8+ KB\n"
     ]
    }
   ],
   "source": [
    "df.info()"
   ]
  },
  {
   "cell_type": "code",
   "execution_count": 7,
   "metadata": {},
   "outputs": [
    {
     "data": {
      "text/html": [
       "<div>\n",
       "<style scoped>\n",
       "    .dataframe tbody tr th:only-of-type {\n",
       "        vertical-align: middle;\n",
       "    }\n",
       "\n",
       "    .dataframe tbody tr th {\n",
       "        vertical-align: top;\n",
       "    }\n",
       "\n",
       "    .dataframe thead th {\n",
       "        text-align: right;\n",
       "    }\n",
       "</style>\n",
       "<table border=\"1\" class=\"dataframe\">\n",
       "  <thead>\n",
       "    <tr style=\"text-align: right;\">\n",
       "      <th></th>\n",
       "      <th>Gm#</th>\n",
       "      <th>Year</th>\n",
       "      <th>Date</th>\n",
       "      <th>Unnamed: 3</th>\n",
       "      <th>Tm</th>\n",
       "      <th>Unnamed: 5</th>\n",
       "      <th>Opp</th>\n",
       "      <th>W/L</th>\n",
       "      <th>R</th>\n",
       "      <th>RA</th>\n",
       "      <th>...</th>\n",
       "      <th>Rank</th>\n",
       "      <th>GB</th>\n",
       "      <th>Win</th>\n",
       "      <th>Loss</th>\n",
       "      <th>Save</th>\n",
       "      <th>Time</th>\n",
       "      <th>D/N</th>\n",
       "      <th>Attendance</th>\n",
       "      <th>Streak</th>\n",
       "      <th>Orig. Scheduled</th>\n",
       "    </tr>\n",
       "  </thead>\n",
       "  <tbody>\n",
       "    <tr>\n",
       "      <th>0</th>\n",
       "      <td>1</td>\n",
       "      <td>2010</td>\n",
       "      <td>Monday Apr 5</td>\n",
       "      <td>boxscore</td>\n",
       "      <td>HOU</td>\n",
       "      <td>NaN</td>\n",
       "      <td>SFG</td>\n",
       "      <td>L</td>\n",
       "      <td>2</td>\n",
       "      <td>5</td>\n",
       "      <td>...</td>\n",
       "      <td>3</td>\n",
       "      <td>1</td>\n",
       "      <td>Lincecum</td>\n",
       "      <td>Oswalt</td>\n",
       "      <td>Wilson</td>\n",
       "      <td>2:34</td>\n",
       "      <td>N</td>\n",
       "      <td>43836.0</td>\n",
       "      <td>-</td>\n",
       "      <td>NaN</td>\n",
       "    </tr>\n",
       "    <tr>\n",
       "      <th>1</th>\n",
       "      <td>2</td>\n",
       "      <td>2010</td>\n",
       "      <td>Tuesday Apr 6</td>\n",
       "      <td>boxscore</td>\n",
       "      <td>HOU</td>\n",
       "      <td>NaN</td>\n",
       "      <td>SFG</td>\n",
       "      <td>L</td>\n",
       "      <td>0</td>\n",
       "      <td>3</td>\n",
       "      <td>...</td>\n",
       "      <td>6</td>\n",
       "      <td>1.5</td>\n",
       "      <td>Zito</td>\n",
       "      <td>Rodriguez</td>\n",
       "      <td>Wilson</td>\n",
       "      <td>2:38</td>\n",
       "      <td>N</td>\n",
       "      <td>24237.0</td>\n",
       "      <td>--</td>\n",
       "      <td>NaN</td>\n",
       "    </tr>\n",
       "    <tr>\n",
       "      <th>2</th>\n",
       "      <td>3</td>\n",
       "      <td>2010</td>\n",
       "      <td>Wednesday Apr 7</td>\n",
       "      <td>boxscore</td>\n",
       "      <td>HOU</td>\n",
       "      <td>NaN</td>\n",
       "      <td>SFG</td>\n",
       "      <td>L</td>\n",
       "      <td>4</td>\n",
       "      <td>10</td>\n",
       "      <td>...</td>\n",
       "      <td>6</td>\n",
       "      <td>2.5</td>\n",
       "      <td>Affeldt</td>\n",
       "      <td>Gervacio</td>\n",
       "      <td>NaN</td>\n",
       "      <td>3:01</td>\n",
       "      <td>D</td>\n",
       "      <td>21599.0</td>\n",
       "      <td>---</td>\n",
       "      <td>NaN</td>\n",
       "    </tr>\n",
       "    <tr>\n",
       "      <th>3</th>\n",
       "      <td>4</td>\n",
       "      <td>2010</td>\n",
       "      <td>Friday Apr 9</td>\n",
       "      <td>boxscore</td>\n",
       "      <td>HOU</td>\n",
       "      <td>NaN</td>\n",
       "      <td>PHI</td>\n",
       "      <td>L</td>\n",
       "      <td>0</td>\n",
       "      <td>8</td>\n",
       "      <td>...</td>\n",
       "      <td>6</td>\n",
       "      <td>3</td>\n",
       "      <td>Happ</td>\n",
       "      <td>Norris</td>\n",
       "      <td>NaN</td>\n",
       "      <td>3:17</td>\n",
       "      <td>N</td>\n",
       "      <td>27288.0</td>\n",
       "      <td>----</td>\n",
       "      <td>NaN</td>\n",
       "    </tr>\n",
       "    <tr>\n",
       "      <th>4</th>\n",
       "      <td>5</td>\n",
       "      <td>2010</td>\n",
       "      <td>Saturday Apr 10</td>\n",
       "      <td>boxscore</td>\n",
       "      <td>HOU</td>\n",
       "      <td>NaN</td>\n",
       "      <td>PHI</td>\n",
       "      <td>L</td>\n",
       "      <td>6</td>\n",
       "      <td>9</td>\n",
       "      <td>...</td>\n",
       "      <td>6</td>\n",
       "      <td>4</td>\n",
       "      <td>Moyer</td>\n",
       "      <td>Lyon</td>\n",
       "      <td>NaN</td>\n",
       "      <td>3:04</td>\n",
       "      <td>N</td>\n",
       "      <td>35138.0</td>\n",
       "      <td>-----</td>\n",
       "      <td>NaN</td>\n",
       "    </tr>\n",
       "  </tbody>\n",
       "</table>\n",
       "<p>5 rows × 22 columns</p>\n",
       "</div>"
      ],
      "text/plain": [
       "   Gm#  Year             Date Unnamed: 3   Tm Unnamed: 5  Opp W/L  R  RA  \\\n",
       "0    1  2010     Monday Apr 5   boxscore  HOU        NaN  SFG   L  2   5   \n",
       "1    2  2010    Tuesday Apr 6   boxscore  HOU        NaN  SFG   L  0   3   \n",
       "2    3  2010  Wednesday Apr 7   boxscore  HOU        NaN  SFG   L  4  10   \n",
       "3    4  2010     Friday Apr 9   boxscore  HOU        NaN  PHI   L  0   8   \n",
       "4    5  2010  Saturday Apr 10   boxscore  HOU        NaN  PHI   L  6   9   \n",
       "\n",
       "        ...         Rank   GB       Win       Loss    Save  Time D/N  \\\n",
       "0       ...            3    1  Lincecum     Oswalt  Wilson  2:34   N   \n",
       "1       ...            6  1.5      Zito  Rodriguez  Wilson  2:38   N   \n",
       "2       ...            6  2.5   Affeldt   Gervacio     NaN  3:01   D   \n",
       "3       ...            6    3      Happ     Norris     NaN  3:17   N   \n",
       "4       ...            6    4     Moyer       Lyon     NaN  3:04   N   \n",
       "\n",
       "  Attendance Streak  Orig. Scheduled  \n",
       "0    43836.0      -              NaN  \n",
       "1    24237.0     --              NaN  \n",
       "2    21599.0    ---              NaN  \n",
       "3    27288.0   ----              NaN  \n",
       "4    35138.0  -----              NaN  \n",
       "\n",
       "[5 rows x 22 columns]"
      ]
     },
     "execution_count": 7,
     "metadata": {},
     "output_type": "execute_result"
    }
   ],
   "source": [
    "df.head()"
   ]
  },
  {
   "cell_type": "markdown",
   "metadata": {},
   "source": [
    "## Create slice with only needed columns"
   ]
  },
  {
   "cell_type": "code",
   "execution_count": 8,
   "metadata": {},
   "outputs": [],
   "source": [
    "mlb = df[['Date','Year','Tm','R','Unnamed: 5','Opp','RA','W/L', 'Attendance']]"
   ]
  },
  {
   "cell_type": "code",
   "execution_count": 9,
   "metadata": {},
   "outputs": [
    {
     "data": {
      "text/html": [
       "<div>\n",
       "<style scoped>\n",
       "    .dataframe tbody tr th:only-of-type {\n",
       "        vertical-align: middle;\n",
       "    }\n",
       "\n",
       "    .dataframe tbody tr th {\n",
       "        vertical-align: top;\n",
       "    }\n",
       "\n",
       "    .dataframe thead th {\n",
       "        text-align: right;\n",
       "    }\n",
       "</style>\n",
       "<table border=\"1\" class=\"dataframe\">\n",
       "  <thead>\n",
       "    <tr style=\"text-align: right;\">\n",
       "      <th></th>\n",
       "      <th>Date</th>\n",
       "      <th>Year</th>\n",
       "      <th>Tm</th>\n",
       "      <th>R</th>\n",
       "      <th>Unnamed: 5</th>\n",
       "      <th>Opp</th>\n",
       "      <th>RA</th>\n",
       "      <th>W/L</th>\n",
       "      <th>Attendance</th>\n",
       "    </tr>\n",
       "  </thead>\n",
       "  <tbody>\n",
       "    <tr>\n",
       "      <th>0</th>\n",
       "      <td>Monday Apr 5</td>\n",
       "      <td>2010</td>\n",
       "      <td>HOU</td>\n",
       "      <td>2</td>\n",
       "      <td>NaN</td>\n",
       "      <td>SFG</td>\n",
       "      <td>5</td>\n",
       "      <td>L</td>\n",
       "      <td>43836.0</td>\n",
       "    </tr>\n",
       "    <tr>\n",
       "      <th>1</th>\n",
       "      <td>Tuesday Apr 6</td>\n",
       "      <td>2010</td>\n",
       "      <td>HOU</td>\n",
       "      <td>0</td>\n",
       "      <td>NaN</td>\n",
       "      <td>SFG</td>\n",
       "      <td>3</td>\n",
       "      <td>L</td>\n",
       "      <td>24237.0</td>\n",
       "    </tr>\n",
       "    <tr>\n",
       "      <th>2</th>\n",
       "      <td>Wednesday Apr 7</td>\n",
       "      <td>2010</td>\n",
       "      <td>HOU</td>\n",
       "      <td>4</td>\n",
       "      <td>NaN</td>\n",
       "      <td>SFG</td>\n",
       "      <td>10</td>\n",
       "      <td>L</td>\n",
       "      <td>21599.0</td>\n",
       "    </tr>\n",
       "    <tr>\n",
       "      <th>3</th>\n",
       "      <td>Friday Apr 9</td>\n",
       "      <td>2010</td>\n",
       "      <td>HOU</td>\n",
       "      <td>0</td>\n",
       "      <td>NaN</td>\n",
       "      <td>PHI</td>\n",
       "      <td>8</td>\n",
       "      <td>L</td>\n",
       "      <td>27288.0</td>\n",
       "    </tr>\n",
       "    <tr>\n",
       "      <th>4</th>\n",
       "      <td>Saturday Apr 10</td>\n",
       "      <td>2010</td>\n",
       "      <td>HOU</td>\n",
       "      <td>6</td>\n",
       "      <td>NaN</td>\n",
       "      <td>PHI</td>\n",
       "      <td>9</td>\n",
       "      <td>L</td>\n",
       "      <td>35138.0</td>\n",
       "    </tr>\n",
       "  </tbody>\n",
       "</table>\n",
       "</div>"
      ],
      "text/plain": [
       "              Date  Year   Tm  R Unnamed: 5  Opp  RA W/L  Attendance\n",
       "0     Monday Apr 5  2010  HOU  2        NaN  SFG   5   L     43836.0\n",
       "1    Tuesday Apr 6  2010  HOU  0        NaN  SFG   3   L     24237.0\n",
       "2  Wednesday Apr 7  2010  HOU  4        NaN  SFG  10   L     21599.0\n",
       "3     Friday Apr 9  2010  HOU  0        NaN  PHI   8   L     27288.0\n",
       "4  Saturday Apr 10  2010  HOU  6        NaN  PHI   9   L     35138.0"
      ]
     },
     "execution_count": 9,
     "metadata": {},
     "output_type": "execute_result"
    }
   ],
   "source": [
    "mlb.head()"
   ]
  },
  {
   "cell_type": "code",
   "execution_count": 10,
   "metadata": {},
   "outputs": [
    {
     "name": "stdout",
     "output_type": "stream",
     "text": [
      "<class 'pandas.core.frame.DataFrame'>\n",
      "RangeIndex: 1296 entries, 0 to 1295\n",
      "Data columns (total 9 columns):\n",
      "Date          1296 non-null object\n",
      "Year          1296 non-null int64\n",
      "Tm            1296 non-null object\n",
      "R             1296 non-null int64\n",
      "Unnamed: 5    648 non-null object\n",
      "Opp           1296 non-null object\n",
      "RA            1296 non-null int64\n",
      "W/L           1296 non-null object\n",
      "Attendance    1295 non-null float64\n",
      "dtypes: float64(1), int64(3), object(5)\n",
      "memory usage: 91.2+ KB\n"
     ]
    }
   ],
   "source": [
    "mlb.info()"
   ]
  },
  {
   "cell_type": "markdown",
   "metadata": {},
   "source": [
    "## convert year column to string"
   ]
  },
  {
   "cell_type": "code",
   "execution_count": 11,
   "metadata": {},
   "outputs": [
    {
     "name": "stderr",
     "output_type": "stream",
     "text": [
      "/home/salas/miniconda3/envs/springboard/lib/python3.6/site-packages/ipykernel_launcher.py:1: SettingWithCopyWarning: \n",
      "A value is trying to be set on a copy of a slice from a DataFrame.\n",
      "Try using .loc[row_indexer,col_indexer] = value instead\n",
      "\n",
      "See the caveats in the documentation: http://pandas.pydata.org/pandas-docs/stable/indexing.html#indexing-view-versus-copy\n",
      "  \"\"\"Entry point for launching an IPython kernel.\n"
     ]
    }
   ],
   "source": [
    "mlb['Year'] = mlb['Year'].astype(str)"
   ]
  },
  {
   "cell_type": "code",
   "execution_count": 12,
   "metadata": {},
   "outputs": [
    {
     "name": "stdout",
     "output_type": "stream",
     "text": [
      "<class 'pandas.core.frame.DataFrame'>\n",
      "RangeIndex: 1296 entries, 0 to 1295\n",
      "Data columns (total 9 columns):\n",
      "Date          1296 non-null object\n",
      "Year          1296 non-null object\n",
      "Tm            1296 non-null object\n",
      "R             1296 non-null int64\n",
      "Unnamed: 5    648 non-null object\n",
      "Opp           1296 non-null object\n",
      "RA            1296 non-null int64\n",
      "W/L           1296 non-null object\n",
      "Attendance    1295 non-null float64\n",
      "dtypes: float64(1), int64(2), object(6)\n",
      "memory usage: 91.2+ KB\n"
     ]
    }
   ],
   "source": [
    "mlb.info()"
   ]
  },
  {
   "cell_type": "markdown",
   "metadata": {},
   "source": [
    "## Create new column with full date"
   ]
  },
  {
   "cell_type": "code",
   "execution_count": 13,
   "metadata": {},
   "outputs": [
    {
     "name": "stderr",
     "output_type": "stream",
     "text": [
      "/home/salas/miniconda3/envs/springboard/lib/python3.6/site-packages/ipykernel_launcher.py:1: SettingWithCopyWarning: \n",
      "A value is trying to be set on a copy of a slice from a DataFrame.\n",
      "Try using .loc[row_indexer,col_indexer] = value instead\n",
      "\n",
      "See the caveats in the documentation: http://pandas.pydata.org/pandas-docs/stable/indexing.html#indexing-view-versus-copy\n",
      "  \"\"\"Entry point for launching an IPython kernel.\n"
     ]
    }
   ],
   "source": [
    "mlb['full_date'] = mlb['Date']+' '+ mlb['Year']"
   ]
  },
  {
   "cell_type": "code",
   "execution_count": 14,
   "metadata": {},
   "outputs": [
    {
     "data": {
      "text/html": [
       "<div>\n",
       "<style scoped>\n",
       "    .dataframe tbody tr th:only-of-type {\n",
       "        vertical-align: middle;\n",
       "    }\n",
       "\n",
       "    .dataframe tbody tr th {\n",
       "        vertical-align: top;\n",
       "    }\n",
       "\n",
       "    .dataframe thead th {\n",
       "        text-align: right;\n",
       "    }\n",
       "</style>\n",
       "<table border=\"1\" class=\"dataframe\">\n",
       "  <thead>\n",
       "    <tr style=\"text-align: right;\">\n",
       "      <th></th>\n",
       "      <th>Date</th>\n",
       "      <th>Year</th>\n",
       "      <th>Tm</th>\n",
       "      <th>R</th>\n",
       "      <th>Unnamed: 5</th>\n",
       "      <th>Opp</th>\n",
       "      <th>RA</th>\n",
       "      <th>W/L</th>\n",
       "      <th>Attendance</th>\n",
       "      <th>full_date</th>\n",
       "    </tr>\n",
       "  </thead>\n",
       "  <tbody>\n",
       "    <tr>\n",
       "      <th>0</th>\n",
       "      <td>Monday Apr 5</td>\n",
       "      <td>2010</td>\n",
       "      <td>HOU</td>\n",
       "      <td>2</td>\n",
       "      <td>NaN</td>\n",
       "      <td>SFG</td>\n",
       "      <td>5</td>\n",
       "      <td>L</td>\n",
       "      <td>43836.0</td>\n",
       "      <td>Monday Apr 5 2010</td>\n",
       "    </tr>\n",
       "    <tr>\n",
       "      <th>1</th>\n",
       "      <td>Tuesday Apr 6</td>\n",
       "      <td>2010</td>\n",
       "      <td>HOU</td>\n",
       "      <td>0</td>\n",
       "      <td>NaN</td>\n",
       "      <td>SFG</td>\n",
       "      <td>3</td>\n",
       "      <td>L</td>\n",
       "      <td>24237.0</td>\n",
       "      <td>Tuesday Apr 6 2010</td>\n",
       "    </tr>\n",
       "    <tr>\n",
       "      <th>2</th>\n",
       "      <td>Wednesday Apr 7</td>\n",
       "      <td>2010</td>\n",
       "      <td>HOU</td>\n",
       "      <td>4</td>\n",
       "      <td>NaN</td>\n",
       "      <td>SFG</td>\n",
       "      <td>10</td>\n",
       "      <td>L</td>\n",
       "      <td>21599.0</td>\n",
       "      <td>Wednesday Apr 7 2010</td>\n",
       "    </tr>\n",
       "    <tr>\n",
       "      <th>3</th>\n",
       "      <td>Friday Apr 9</td>\n",
       "      <td>2010</td>\n",
       "      <td>HOU</td>\n",
       "      <td>0</td>\n",
       "      <td>NaN</td>\n",
       "      <td>PHI</td>\n",
       "      <td>8</td>\n",
       "      <td>L</td>\n",
       "      <td>27288.0</td>\n",
       "      <td>Friday Apr 9 2010</td>\n",
       "    </tr>\n",
       "    <tr>\n",
       "      <th>4</th>\n",
       "      <td>Saturday Apr 10</td>\n",
       "      <td>2010</td>\n",
       "      <td>HOU</td>\n",
       "      <td>6</td>\n",
       "      <td>NaN</td>\n",
       "      <td>PHI</td>\n",
       "      <td>9</td>\n",
       "      <td>L</td>\n",
       "      <td>35138.0</td>\n",
       "      <td>Saturday Apr 10 2010</td>\n",
       "    </tr>\n",
       "  </tbody>\n",
       "</table>\n",
       "</div>"
      ],
      "text/plain": [
       "              Date  Year   Tm  R Unnamed: 5  Opp  RA W/L  Attendance  \\\n",
       "0     Monday Apr 5  2010  HOU  2        NaN  SFG   5   L     43836.0   \n",
       "1    Tuesday Apr 6  2010  HOU  0        NaN  SFG   3   L     24237.0   \n",
       "2  Wednesday Apr 7  2010  HOU  4        NaN  SFG  10   L     21599.0   \n",
       "3     Friday Apr 9  2010  HOU  0        NaN  PHI   8   L     27288.0   \n",
       "4  Saturday Apr 10  2010  HOU  6        NaN  PHI   9   L     35138.0   \n",
       "\n",
       "              full_date  \n",
       "0     Monday Apr 5 2010  \n",
       "1    Tuesday Apr 6 2010  \n",
       "2  Wednesday Apr 7 2010  \n",
       "3     Friday Apr 9 2010  \n",
       "4  Saturday Apr 10 2010  "
      ]
     },
     "execution_count": 14,
     "metadata": {},
     "output_type": "execute_result"
    }
   ],
   "source": [
    "mlb.head()"
   ]
  },
  {
   "cell_type": "markdown",
   "metadata": {},
   "source": [
    "## Remove parenthesis from dates from double  games"
   ]
  },
  {
   "cell_type": "code",
   "execution_count": 15,
   "metadata": {},
   "outputs": [
    {
     "name": "stderr",
     "output_type": "stream",
     "text": [
      "/home/salas/miniconda3/envs/springboard/lib/python3.6/site-packages/ipykernel_launcher.py:1: SettingWithCopyWarning: \n",
      "A value is trying to be set on a copy of a slice from a DataFrame.\n",
      "Try using .loc[row_indexer,col_indexer] = value instead\n",
      "\n",
      "See the caveats in the documentation: http://pandas.pydata.org/pandas-docs/stable/indexing.html#indexing-view-versus-copy\n",
      "  \"\"\"Entry point for launching an IPython kernel.\n"
     ]
    }
   ],
   "source": [
    "mlb['full_date'] = mlb['full_date'].str.replace(r\"\\(.*\\)\",\" \")"
   ]
  },
  {
   "cell_type": "code",
   "execution_count": 16,
   "metadata": {},
   "outputs": [
    {
     "ename": "KeyError",
     "evalue": "'None of [[1590]] are in the [index]'",
     "output_type": "error",
     "traceback": [
      "\u001b[0;31m---------------------------------------------------------------------------\u001b[0m",
      "\u001b[0;31mKeyError\u001b[0m                                  Traceback (most recent call last)",
      "\u001b[0;32m<ipython-input-16-c60d4bd89913>\u001b[0m in \u001b[0;36m<module>\u001b[0;34m()\u001b[0m\n\u001b[0;32m----> 1\u001b[0;31m \u001b[0mmlb\u001b[0m\u001b[0;34m.\u001b[0m\u001b[0mloc\u001b[0m\u001b[0;34m[\u001b[0m\u001b[0;34m[\u001b[0m\u001b[0;36m1590\u001b[0m\u001b[0;34m]\u001b[0m\u001b[0;34m]\u001b[0m\u001b[0;34m\u001b[0m\u001b[0m\n\u001b[0m",
      "\u001b[0;32m~/miniconda3/envs/springboard/lib/python3.6/site-packages/pandas/core/indexing.py\u001b[0m in \u001b[0;36m__getitem__\u001b[0;34m(self, key)\u001b[0m\n\u001b[1;32m   1371\u001b[0m \u001b[0;34m\u001b[0m\u001b[0m\n\u001b[1;32m   1372\u001b[0m             \u001b[0mmaybe_callable\u001b[0m \u001b[0;34m=\u001b[0m \u001b[0mcom\u001b[0m\u001b[0;34m.\u001b[0m\u001b[0m_apply_if_callable\u001b[0m\u001b[0;34m(\u001b[0m\u001b[0mkey\u001b[0m\u001b[0;34m,\u001b[0m \u001b[0mself\u001b[0m\u001b[0;34m.\u001b[0m\u001b[0mobj\u001b[0m\u001b[0;34m)\u001b[0m\u001b[0;34m\u001b[0m\u001b[0m\n\u001b[0;32m-> 1373\u001b[0;31m             \u001b[0;32mreturn\u001b[0m \u001b[0mself\u001b[0m\u001b[0;34m.\u001b[0m\u001b[0m_getitem_axis\u001b[0m\u001b[0;34m(\u001b[0m\u001b[0mmaybe_callable\u001b[0m\u001b[0;34m,\u001b[0m \u001b[0maxis\u001b[0m\u001b[0;34m=\u001b[0m\u001b[0maxis\u001b[0m\u001b[0;34m)\u001b[0m\u001b[0;34m\u001b[0m\u001b[0m\n\u001b[0m\u001b[1;32m   1374\u001b[0m \u001b[0;34m\u001b[0m\u001b[0m\n\u001b[1;32m   1375\u001b[0m     \u001b[0;32mdef\u001b[0m \u001b[0m_is_scalar_access\u001b[0m\u001b[0;34m(\u001b[0m\u001b[0mself\u001b[0m\u001b[0;34m,\u001b[0m \u001b[0mkey\u001b[0m\u001b[0;34m)\u001b[0m\u001b[0;34m:\u001b[0m\u001b[0;34m\u001b[0m\u001b[0m\n",
      "\u001b[0;32m~/miniconda3/envs/springboard/lib/python3.6/site-packages/pandas/core/indexing.py\u001b[0m in \u001b[0;36m_getitem_axis\u001b[0;34m(self, key, axis)\u001b[0m\n\u001b[1;32m   1614\u001b[0m                     \u001b[0;32mraise\u001b[0m \u001b[0mValueError\u001b[0m\u001b[0;34m(\u001b[0m\u001b[0;34m'Cannot index with multidimensional key'\u001b[0m\u001b[0;34m)\u001b[0m\u001b[0;34m\u001b[0m\u001b[0m\n\u001b[1;32m   1615\u001b[0m \u001b[0;34m\u001b[0m\u001b[0m\n\u001b[0;32m-> 1616\u001b[0;31m                 \u001b[0;32mreturn\u001b[0m \u001b[0mself\u001b[0m\u001b[0;34m.\u001b[0m\u001b[0m_getitem_iterable\u001b[0m\u001b[0;34m(\u001b[0m\u001b[0mkey\u001b[0m\u001b[0;34m,\u001b[0m \u001b[0maxis\u001b[0m\u001b[0;34m=\u001b[0m\u001b[0maxis\u001b[0m\u001b[0;34m)\u001b[0m\u001b[0;34m\u001b[0m\u001b[0m\n\u001b[0m\u001b[1;32m   1617\u001b[0m \u001b[0;34m\u001b[0m\u001b[0m\n\u001b[1;32m   1618\u001b[0m             \u001b[0;31m# nested tuple slicing\u001b[0m\u001b[0;34m\u001b[0m\u001b[0;34m\u001b[0m\u001b[0m\n",
      "\u001b[0;32m~/miniconda3/envs/springboard/lib/python3.6/site-packages/pandas/core/indexing.py\u001b[0m in \u001b[0;36m_getitem_iterable\u001b[0;34m(self, key, axis)\u001b[0m\n\u001b[1;32m   1113\u001b[0m \u001b[0;34m\u001b[0m\u001b[0m\n\u001b[1;32m   1114\u001b[0m         \u001b[0;32mif\u001b[0m \u001b[0mself\u001b[0m\u001b[0;34m.\u001b[0m\u001b[0m_should_validate_iterable\u001b[0m\u001b[0;34m(\u001b[0m\u001b[0maxis\u001b[0m\u001b[0;34m)\u001b[0m\u001b[0;34m:\u001b[0m\u001b[0;34m\u001b[0m\u001b[0m\n\u001b[0;32m-> 1115\u001b[0;31m             \u001b[0mself\u001b[0m\u001b[0;34m.\u001b[0m\u001b[0m_has_valid_type\u001b[0m\u001b[0;34m(\u001b[0m\u001b[0mkey\u001b[0m\u001b[0;34m,\u001b[0m \u001b[0maxis\u001b[0m\u001b[0;34m)\u001b[0m\u001b[0;34m\u001b[0m\u001b[0m\n\u001b[0m\u001b[1;32m   1116\u001b[0m \u001b[0;34m\u001b[0m\u001b[0m\n\u001b[1;32m   1117\u001b[0m         \u001b[0mlabels\u001b[0m \u001b[0;34m=\u001b[0m \u001b[0mself\u001b[0m\u001b[0;34m.\u001b[0m\u001b[0mobj\u001b[0m\u001b[0;34m.\u001b[0m\u001b[0m_get_axis\u001b[0m\u001b[0;34m(\u001b[0m\u001b[0maxis\u001b[0m\u001b[0;34m)\u001b[0m\u001b[0;34m\u001b[0m\u001b[0m\n",
      "\u001b[0;32m~/miniconda3/envs/springboard/lib/python3.6/site-packages/pandas/core/indexing.py\u001b[0m in \u001b[0;36m_has_valid_type\u001b[0;34m(self, key, axis)\u001b[0m\n\u001b[1;32m   1470\u001b[0m                         raise KeyError(\n\u001b[1;32m   1471\u001b[0m                             u\"None of [{key}] are in the [{axis}]\".format(\n\u001b[0;32m-> 1472\u001b[0;31m                                 key=key, axis=self.obj._get_axis_name(axis)))\n\u001b[0m\u001b[1;32m   1473\u001b[0m                     \u001b[0;32melse\u001b[0m\u001b[0;34m:\u001b[0m\u001b[0;34m\u001b[0m\u001b[0m\n\u001b[1;32m   1474\u001b[0m \u001b[0;34m\u001b[0m\u001b[0m\n",
      "\u001b[0;31mKeyError\u001b[0m: 'None of [[1590]] are in the [index]'"
     ]
    }
   ],
   "source": [
    "mlb.loc[[1590]]"
   ]
  },
  {
   "cell_type": "markdown",
   "metadata": {},
   "source": [
    "## convert full_date to datetime"
   ]
  },
  {
   "cell_type": "code",
   "execution_count": 17,
   "metadata": {},
   "outputs": [
    {
     "name": "stderr",
     "output_type": "stream",
     "text": [
      "/home/salas/miniconda3/envs/springboard/lib/python3.6/site-packages/ipykernel_launcher.py:1: SettingWithCopyWarning: \n",
      "A value is trying to be set on a copy of a slice from a DataFrame.\n",
      "Try using .loc[row_indexer,col_indexer] = value instead\n",
      "\n",
      "See the caveats in the documentation: http://pandas.pydata.org/pandas-docs/stable/indexing.html#indexing-view-versus-copy\n",
      "  \"\"\"Entry point for launching an IPython kernel.\n"
     ]
    }
   ],
   "source": [
    "mlb['full_date'] = pd.to_datetime(mlb['full_date'])"
   ]
  },
  {
   "cell_type": "code",
   "execution_count": 18,
   "metadata": {},
   "outputs": [
    {
     "data": {
      "text/html": [
       "<div>\n",
       "<style scoped>\n",
       "    .dataframe tbody tr th:only-of-type {\n",
       "        vertical-align: middle;\n",
       "    }\n",
       "\n",
       "    .dataframe tbody tr th {\n",
       "        vertical-align: top;\n",
       "    }\n",
       "\n",
       "    .dataframe thead th {\n",
       "        text-align: right;\n",
       "    }\n",
       "</style>\n",
       "<table border=\"1\" class=\"dataframe\">\n",
       "  <thead>\n",
       "    <tr style=\"text-align: right;\">\n",
       "      <th></th>\n",
       "      <th>Date</th>\n",
       "      <th>Year</th>\n",
       "      <th>Tm</th>\n",
       "      <th>R</th>\n",
       "      <th>Unnamed: 5</th>\n",
       "      <th>Opp</th>\n",
       "      <th>RA</th>\n",
       "      <th>W/L</th>\n",
       "      <th>Attendance</th>\n",
       "      <th>full_date</th>\n",
       "    </tr>\n",
       "  </thead>\n",
       "  <tbody>\n",
       "    <tr>\n",
       "      <th>0</th>\n",
       "      <td>Monday Apr 5</td>\n",
       "      <td>2010</td>\n",
       "      <td>HOU</td>\n",
       "      <td>2</td>\n",
       "      <td>NaN</td>\n",
       "      <td>SFG</td>\n",
       "      <td>5</td>\n",
       "      <td>L</td>\n",
       "      <td>43836.0</td>\n",
       "      <td>2010-04-05</td>\n",
       "    </tr>\n",
       "    <tr>\n",
       "      <th>1</th>\n",
       "      <td>Tuesday Apr 6</td>\n",
       "      <td>2010</td>\n",
       "      <td>HOU</td>\n",
       "      <td>0</td>\n",
       "      <td>NaN</td>\n",
       "      <td>SFG</td>\n",
       "      <td>3</td>\n",
       "      <td>L</td>\n",
       "      <td>24237.0</td>\n",
       "      <td>2010-04-06</td>\n",
       "    </tr>\n",
       "    <tr>\n",
       "      <th>2</th>\n",
       "      <td>Wednesday Apr 7</td>\n",
       "      <td>2010</td>\n",
       "      <td>HOU</td>\n",
       "      <td>4</td>\n",
       "      <td>NaN</td>\n",
       "      <td>SFG</td>\n",
       "      <td>10</td>\n",
       "      <td>L</td>\n",
       "      <td>21599.0</td>\n",
       "      <td>2010-04-07</td>\n",
       "    </tr>\n",
       "    <tr>\n",
       "      <th>3</th>\n",
       "      <td>Friday Apr 9</td>\n",
       "      <td>2010</td>\n",
       "      <td>HOU</td>\n",
       "      <td>0</td>\n",
       "      <td>NaN</td>\n",
       "      <td>PHI</td>\n",
       "      <td>8</td>\n",
       "      <td>L</td>\n",
       "      <td>27288.0</td>\n",
       "      <td>2010-04-09</td>\n",
       "    </tr>\n",
       "    <tr>\n",
       "      <th>4</th>\n",
       "      <td>Saturday Apr 10</td>\n",
       "      <td>2010</td>\n",
       "      <td>HOU</td>\n",
       "      <td>6</td>\n",
       "      <td>NaN</td>\n",
       "      <td>PHI</td>\n",
       "      <td>9</td>\n",
       "      <td>L</td>\n",
       "      <td>35138.0</td>\n",
       "      <td>2010-04-10</td>\n",
       "    </tr>\n",
       "  </tbody>\n",
       "</table>\n",
       "</div>"
      ],
      "text/plain": [
       "              Date  Year   Tm  R Unnamed: 5  Opp  RA W/L  Attendance  \\\n",
       "0     Monday Apr 5  2010  HOU  2        NaN  SFG   5   L     43836.0   \n",
       "1    Tuesday Apr 6  2010  HOU  0        NaN  SFG   3   L     24237.0   \n",
       "2  Wednesday Apr 7  2010  HOU  4        NaN  SFG  10   L     21599.0   \n",
       "3     Friday Apr 9  2010  HOU  0        NaN  PHI   8   L     27288.0   \n",
       "4  Saturday Apr 10  2010  HOU  6        NaN  PHI   9   L     35138.0   \n",
       "\n",
       "   full_date  \n",
       "0 2010-04-05  \n",
       "1 2010-04-06  \n",
       "2 2010-04-07  \n",
       "3 2010-04-09  \n",
       "4 2010-04-10  "
      ]
     },
     "execution_count": 18,
     "metadata": {},
     "output_type": "execute_result"
    }
   ],
   "source": [
    "mlb.head()"
   ]
  },
  {
   "cell_type": "markdown",
   "metadata": {},
   "source": [
    "## Select columns\n"
   ]
  },
  {
   "cell_type": "code",
   "execution_count": 19,
   "metadata": {},
   "outputs": [],
   "source": [
    "astros = mlb[['full_date','Tm','R','Unnamed: 5','Opp','RA','W/L','Attendance']]"
   ]
  },
  {
   "cell_type": "code",
   "execution_count": 20,
   "metadata": {},
   "outputs": [
    {
     "data": {
      "text/html": [
       "<div>\n",
       "<style scoped>\n",
       "    .dataframe tbody tr th:only-of-type {\n",
       "        vertical-align: middle;\n",
       "    }\n",
       "\n",
       "    .dataframe tbody tr th {\n",
       "        vertical-align: top;\n",
       "    }\n",
       "\n",
       "    .dataframe thead th {\n",
       "        text-align: right;\n",
       "    }\n",
       "</style>\n",
       "<table border=\"1\" class=\"dataframe\">\n",
       "  <thead>\n",
       "    <tr style=\"text-align: right;\">\n",
       "      <th></th>\n",
       "      <th>full_date</th>\n",
       "      <th>Tm</th>\n",
       "      <th>R</th>\n",
       "      <th>Unnamed: 5</th>\n",
       "      <th>Opp</th>\n",
       "      <th>RA</th>\n",
       "      <th>W/L</th>\n",
       "      <th>Attendance</th>\n",
       "    </tr>\n",
       "  </thead>\n",
       "  <tbody>\n",
       "    <tr>\n",
       "      <th>0</th>\n",
       "      <td>2010-04-05</td>\n",
       "      <td>HOU</td>\n",
       "      <td>2</td>\n",
       "      <td>NaN</td>\n",
       "      <td>SFG</td>\n",
       "      <td>5</td>\n",
       "      <td>L</td>\n",
       "      <td>43836.0</td>\n",
       "    </tr>\n",
       "    <tr>\n",
       "      <th>1</th>\n",
       "      <td>2010-04-06</td>\n",
       "      <td>HOU</td>\n",
       "      <td>0</td>\n",
       "      <td>NaN</td>\n",
       "      <td>SFG</td>\n",
       "      <td>3</td>\n",
       "      <td>L</td>\n",
       "      <td>24237.0</td>\n",
       "    </tr>\n",
       "    <tr>\n",
       "      <th>2</th>\n",
       "      <td>2010-04-07</td>\n",
       "      <td>HOU</td>\n",
       "      <td>4</td>\n",
       "      <td>NaN</td>\n",
       "      <td>SFG</td>\n",
       "      <td>10</td>\n",
       "      <td>L</td>\n",
       "      <td>21599.0</td>\n",
       "    </tr>\n",
       "    <tr>\n",
       "      <th>3</th>\n",
       "      <td>2010-04-09</td>\n",
       "      <td>HOU</td>\n",
       "      <td>0</td>\n",
       "      <td>NaN</td>\n",
       "      <td>PHI</td>\n",
       "      <td>8</td>\n",
       "      <td>L</td>\n",
       "      <td>27288.0</td>\n",
       "    </tr>\n",
       "    <tr>\n",
       "      <th>4</th>\n",
       "      <td>2010-04-10</td>\n",
       "      <td>HOU</td>\n",
       "      <td>6</td>\n",
       "      <td>NaN</td>\n",
       "      <td>PHI</td>\n",
       "      <td>9</td>\n",
       "      <td>L</td>\n",
       "      <td>35138.0</td>\n",
       "    </tr>\n",
       "  </tbody>\n",
       "</table>\n",
       "</div>"
      ],
      "text/plain": [
       "   full_date   Tm  R Unnamed: 5  Opp  RA W/L  Attendance\n",
       "0 2010-04-05  HOU  2        NaN  SFG   5   L     43836.0\n",
       "1 2010-04-06  HOU  0        NaN  SFG   3   L     24237.0\n",
       "2 2010-04-07  HOU  4        NaN  SFG  10   L     21599.0\n",
       "3 2010-04-09  HOU  0        NaN  PHI   8   L     27288.0\n",
       "4 2010-04-10  HOU  6        NaN  PHI   9   L     35138.0"
      ]
     },
     "execution_count": 20,
     "metadata": {},
     "output_type": "execute_result"
    }
   ],
   "source": [
    "astros.head()"
   ]
  },
  {
   "cell_type": "markdown",
   "metadata": {},
   "source": [
    "## Rename columns"
   ]
  },
  {
   "cell_type": "code",
   "execution_count": 21,
   "metadata": {},
   "outputs": [
    {
     "name": "stderr",
     "output_type": "stream",
     "text": [
      "/home/salas/miniconda3/envs/springboard/lib/python3.6/site-packages/pandas/core/frame.py:3027: SettingWithCopyWarning: \n",
      "A value is trying to be set on a copy of a slice from a DataFrame\n",
      "\n",
      "See the caveats in the documentation: http://pandas.pydata.org/pandas-docs/stable/indexing.html#indexing-view-versus-copy\n",
      "  return super(DataFrame, self).rename(**kwargs)\n"
     ]
    }
   ],
   "source": [
    "astros.rename(columns={'full_date': 'date',\n",
    "                       'Tm': 'team',\n",
    "                       'R':'team_score',\n",
    "                       'Unnamed: 5':'home_away',\n",
    "                      'Opp': 'opposing',\n",
    "                      'RA':'opp_score',\n",
    "                      'W/L':'win_lost',\n",
    "                      'Attendance':'attendance'}, inplace=True)\n"
   ]
  },
  {
   "cell_type": "code",
   "execution_count": 22,
   "metadata": {},
   "outputs": [
    {
     "data": {
      "text/html": [
       "<div>\n",
       "<style scoped>\n",
       "    .dataframe tbody tr th:only-of-type {\n",
       "        vertical-align: middle;\n",
       "    }\n",
       "\n",
       "    .dataframe tbody tr th {\n",
       "        vertical-align: top;\n",
       "    }\n",
       "\n",
       "    .dataframe thead th {\n",
       "        text-align: right;\n",
       "    }\n",
       "</style>\n",
       "<table border=\"1\" class=\"dataframe\">\n",
       "  <thead>\n",
       "    <tr style=\"text-align: right;\">\n",
       "      <th></th>\n",
       "      <th>date</th>\n",
       "      <th>team</th>\n",
       "      <th>team_score</th>\n",
       "      <th>home_away</th>\n",
       "      <th>opposing</th>\n",
       "      <th>opp_score</th>\n",
       "      <th>win_lost</th>\n",
       "      <th>attendance</th>\n",
       "    </tr>\n",
       "  </thead>\n",
       "  <tbody>\n",
       "    <tr>\n",
       "      <th>0</th>\n",
       "      <td>2010-04-05</td>\n",
       "      <td>HOU</td>\n",
       "      <td>2</td>\n",
       "      <td>NaN</td>\n",
       "      <td>SFG</td>\n",
       "      <td>5</td>\n",
       "      <td>L</td>\n",
       "      <td>43836.0</td>\n",
       "    </tr>\n",
       "    <tr>\n",
       "      <th>1</th>\n",
       "      <td>2010-04-06</td>\n",
       "      <td>HOU</td>\n",
       "      <td>0</td>\n",
       "      <td>NaN</td>\n",
       "      <td>SFG</td>\n",
       "      <td>3</td>\n",
       "      <td>L</td>\n",
       "      <td>24237.0</td>\n",
       "    </tr>\n",
       "    <tr>\n",
       "      <th>2</th>\n",
       "      <td>2010-04-07</td>\n",
       "      <td>HOU</td>\n",
       "      <td>4</td>\n",
       "      <td>NaN</td>\n",
       "      <td>SFG</td>\n",
       "      <td>10</td>\n",
       "      <td>L</td>\n",
       "      <td>21599.0</td>\n",
       "    </tr>\n",
       "    <tr>\n",
       "      <th>3</th>\n",
       "      <td>2010-04-09</td>\n",
       "      <td>HOU</td>\n",
       "      <td>0</td>\n",
       "      <td>NaN</td>\n",
       "      <td>PHI</td>\n",
       "      <td>8</td>\n",
       "      <td>L</td>\n",
       "      <td>27288.0</td>\n",
       "    </tr>\n",
       "    <tr>\n",
       "      <th>4</th>\n",
       "      <td>2010-04-10</td>\n",
       "      <td>HOU</td>\n",
       "      <td>6</td>\n",
       "      <td>NaN</td>\n",
       "      <td>PHI</td>\n",
       "      <td>9</td>\n",
       "      <td>L</td>\n",
       "      <td>35138.0</td>\n",
       "    </tr>\n",
       "  </tbody>\n",
       "</table>\n",
       "</div>"
      ],
      "text/plain": [
       "        date team  team_score home_away opposing  opp_score win_lost  \\\n",
       "0 2010-04-05  HOU           2       NaN      SFG          5        L   \n",
       "1 2010-04-06  HOU           0       NaN      SFG          3        L   \n",
       "2 2010-04-07  HOU           4       NaN      SFG         10        L   \n",
       "3 2010-04-09  HOU           0       NaN      PHI          8        L   \n",
       "4 2010-04-10  HOU           6       NaN      PHI          9        L   \n",
       "\n",
       "   attendance  \n",
       "0     43836.0  \n",
       "1     24237.0  \n",
       "2     21599.0  \n",
       "3     27288.0  \n",
       "4     35138.0  "
      ]
     },
     "execution_count": 22,
     "metadata": {},
     "output_type": "execute_result"
    }
   ],
   "source": [
    "astros.head()"
   ]
  },
  {
   "cell_type": "markdown",
   "metadata": {},
   "source": [
    "## Reindex dataframe by date\n",
    "\n",
    "- reindex the dataframe and sort the dates"
   ]
  },
  {
   "cell_type": "code",
   "execution_count": 23,
   "metadata": {},
   "outputs": [],
   "source": [
    "astros = astros.set_index('date').sort_index(ascending=True)"
   ]
  },
  {
   "cell_type": "code",
   "execution_count": 24,
   "metadata": {},
   "outputs": [
    {
     "data": {
      "text/html": [
       "<div>\n",
       "<style scoped>\n",
       "    .dataframe tbody tr th:only-of-type {\n",
       "        vertical-align: middle;\n",
       "    }\n",
       "\n",
       "    .dataframe tbody tr th {\n",
       "        vertical-align: top;\n",
       "    }\n",
       "\n",
       "    .dataframe thead th {\n",
       "        text-align: right;\n",
       "    }\n",
       "</style>\n",
       "<table border=\"1\" class=\"dataframe\">\n",
       "  <thead>\n",
       "    <tr style=\"text-align: right;\">\n",
       "      <th></th>\n",
       "      <th>team</th>\n",
       "      <th>team_score</th>\n",
       "      <th>home_away</th>\n",
       "      <th>opposing</th>\n",
       "      <th>opp_score</th>\n",
       "      <th>win_lost</th>\n",
       "      <th>attendance</th>\n",
       "    </tr>\n",
       "    <tr>\n",
       "      <th>date</th>\n",
       "      <th></th>\n",
       "      <th></th>\n",
       "      <th></th>\n",
       "      <th></th>\n",
       "      <th></th>\n",
       "      <th></th>\n",
       "      <th></th>\n",
       "    </tr>\n",
       "  </thead>\n",
       "  <tbody>\n",
       "    <tr>\n",
       "      <th>2010-04-05</th>\n",
       "      <td>HOU</td>\n",
       "      <td>2</td>\n",
       "      <td>NaN</td>\n",
       "      <td>SFG</td>\n",
       "      <td>5</td>\n",
       "      <td>L</td>\n",
       "      <td>43836.0</td>\n",
       "    </tr>\n",
       "    <tr>\n",
       "      <th>2010-04-06</th>\n",
       "      <td>HOU</td>\n",
       "      <td>0</td>\n",
       "      <td>NaN</td>\n",
       "      <td>SFG</td>\n",
       "      <td>3</td>\n",
       "      <td>L</td>\n",
       "      <td>24237.0</td>\n",
       "    </tr>\n",
       "    <tr>\n",
       "      <th>2010-04-07</th>\n",
       "      <td>HOU</td>\n",
       "      <td>4</td>\n",
       "      <td>NaN</td>\n",
       "      <td>SFG</td>\n",
       "      <td>10</td>\n",
       "      <td>L</td>\n",
       "      <td>21599.0</td>\n",
       "    </tr>\n",
       "    <tr>\n",
       "      <th>2010-04-09</th>\n",
       "      <td>HOU</td>\n",
       "      <td>0</td>\n",
       "      <td>NaN</td>\n",
       "      <td>PHI</td>\n",
       "      <td>8</td>\n",
       "      <td>L</td>\n",
       "      <td>27288.0</td>\n",
       "    </tr>\n",
       "    <tr>\n",
       "      <th>2010-04-10</th>\n",
       "      <td>HOU</td>\n",
       "      <td>6</td>\n",
       "      <td>NaN</td>\n",
       "      <td>PHI</td>\n",
       "      <td>9</td>\n",
       "      <td>L</td>\n",
       "      <td>35138.0</td>\n",
       "    </tr>\n",
       "  </tbody>\n",
       "</table>\n",
       "</div>"
      ],
      "text/plain": [
       "           team  team_score home_away opposing  opp_score win_lost  attendance\n",
       "date                                                                          \n",
       "2010-04-05  HOU           2       NaN      SFG          5        L     43836.0\n",
       "2010-04-06  HOU           0       NaN      SFG          3        L     24237.0\n",
       "2010-04-07  HOU           4       NaN      SFG         10        L     21599.0\n",
       "2010-04-09  HOU           0       NaN      PHI          8        L     27288.0\n",
       "2010-04-10  HOU           6       NaN      PHI          9        L     35138.0"
      ]
     },
     "execution_count": 24,
     "metadata": {},
     "output_type": "execute_result"
    }
   ],
   "source": [
    "astros.head()"
   ]
  },
  {
   "cell_type": "code",
   "execution_count": 25,
   "metadata": {},
   "outputs": [
    {
     "name": "stdout",
     "output_type": "stream",
     "text": [
      "           home_away opposing\n",
      "date                         \n",
      "2010-04-05       NaN      SFG\n",
      "2010-04-06       NaN      SFG\n",
      "2010-04-07       NaN      SFG\n",
      "2010-04-09       NaN      PHI\n",
      "2010-04-10       NaN      PHI\n"
     ]
    }
   ],
   "source": [
    "print(astros[['home_away', 'opposing']].head())"
   ]
  },
  {
   "cell_type": "code",
   "execution_count": 26,
   "metadata": {},
   "outputs": [
    {
     "data": {
      "text/plain": [
       "array([nan, '@'], dtype=object)"
      ]
     },
     "execution_count": 26,
     "metadata": {},
     "output_type": "execute_result"
    }
   ],
   "source": [
    "astros['home_away'].unique()"
   ]
  },
  {
   "cell_type": "code",
   "execution_count": 27,
   "metadata": {},
   "outputs": [
    {
     "data": {
      "text/plain": [
       "@      648\n",
       "NaN    648\n",
       "Name: home_away, dtype: int64"
      ]
     },
     "execution_count": 27,
     "metadata": {},
     "output_type": "execute_result"
    }
   ],
   "source": [
    "astros['home_away'].value_counts(dropna=False)"
   ]
  },
  {
   "cell_type": "markdown",
   "metadata": {},
   "source": [
    "## Change column\n",
    "- change home_away values to  home or away"
   ]
  },
  {
   "cell_type": "code",
   "execution_count": null,
   "metadata": {},
   "outputs": [],
   "source": []
  },
  {
   "cell_type": "code",
   "execution_count": 28,
   "metadata": {},
   "outputs": [],
   "source": [
    "astros['home_away'] = np.where(astros['home_away'] =='@', 'AWAY', 'HOME')"
   ]
  },
  {
   "cell_type": "code",
   "execution_count": 29,
   "metadata": {},
   "outputs": [
    {
     "data": {
      "text/html": [
       "<div>\n",
       "<style scoped>\n",
       "    .dataframe tbody tr th:only-of-type {\n",
       "        vertical-align: middle;\n",
       "    }\n",
       "\n",
       "    .dataframe tbody tr th {\n",
       "        vertical-align: top;\n",
       "    }\n",
       "\n",
       "    .dataframe thead th {\n",
       "        text-align: right;\n",
       "    }\n",
       "</style>\n",
       "<table border=\"1\" class=\"dataframe\">\n",
       "  <thead>\n",
       "    <tr style=\"text-align: right;\">\n",
       "      <th></th>\n",
       "      <th>home_away</th>\n",
       "      <th>opposing</th>\n",
       "    </tr>\n",
       "    <tr>\n",
       "      <th>date</th>\n",
       "      <th></th>\n",
       "      <th></th>\n",
       "    </tr>\n",
       "  </thead>\n",
       "  <tbody>\n",
       "    <tr>\n",
       "      <th>2010-04-05</th>\n",
       "      <td>HOME</td>\n",
       "      <td>SFG</td>\n",
       "    </tr>\n",
       "    <tr>\n",
       "      <th>2010-04-06</th>\n",
       "      <td>HOME</td>\n",
       "      <td>SFG</td>\n",
       "    </tr>\n",
       "    <tr>\n",
       "      <th>2010-04-07</th>\n",
       "      <td>HOME</td>\n",
       "      <td>SFG</td>\n",
       "    </tr>\n",
       "    <tr>\n",
       "      <th>2010-04-09</th>\n",
       "      <td>HOME</td>\n",
       "      <td>PHI</td>\n",
       "    </tr>\n",
       "    <tr>\n",
       "      <th>2010-04-10</th>\n",
       "      <td>HOME</td>\n",
       "      <td>PHI</td>\n",
       "    </tr>\n",
       "  </tbody>\n",
       "</table>\n",
       "</div>"
      ],
      "text/plain": [
       "           home_away opposing\n",
       "date                         \n",
       "2010-04-05      HOME      SFG\n",
       "2010-04-06      HOME      SFG\n",
       "2010-04-07      HOME      SFG\n",
       "2010-04-09      HOME      PHI\n",
       "2010-04-10      HOME      PHI"
      ]
     },
     "execution_count": 29,
     "metadata": {},
     "output_type": "execute_result"
    }
   ],
   "source": [
    "astros[['home_away', 'opposing']].head()"
   ]
  },
  {
   "cell_type": "code",
   "execution_count": 30,
   "metadata": {},
   "outputs": [
    {
     "data": {
      "text/html": [
       "<div>\n",
       "<style scoped>\n",
       "    .dataframe tbody tr th:only-of-type {\n",
       "        vertical-align: middle;\n",
       "    }\n",
       "\n",
       "    .dataframe tbody tr th {\n",
       "        vertical-align: top;\n",
       "    }\n",
       "\n",
       "    .dataframe thead th {\n",
       "        text-align: right;\n",
       "    }\n",
       "</style>\n",
       "<table border=\"1\" class=\"dataframe\">\n",
       "  <thead>\n",
       "    <tr style=\"text-align: right;\">\n",
       "      <th></th>\n",
       "      <th>team</th>\n",
       "      <th>team_score</th>\n",
       "      <th>home_away</th>\n",
       "      <th>opposing</th>\n",
       "      <th>opp_score</th>\n",
       "      <th>win_lost</th>\n",
       "      <th>attendance</th>\n",
       "    </tr>\n",
       "    <tr>\n",
       "      <th>date</th>\n",
       "      <th></th>\n",
       "      <th></th>\n",
       "      <th></th>\n",
       "      <th></th>\n",
       "      <th></th>\n",
       "      <th></th>\n",
       "      <th></th>\n",
       "    </tr>\n",
       "  </thead>\n",
       "  <tbody>\n",
       "    <tr>\n",
       "      <th>2010-04-05</th>\n",
       "      <td>HOU</td>\n",
       "      <td>2</td>\n",
       "      <td>HOME</td>\n",
       "      <td>SFG</td>\n",
       "      <td>5</td>\n",
       "      <td>L</td>\n",
       "      <td>43836.0</td>\n",
       "    </tr>\n",
       "    <tr>\n",
       "      <th>2010-04-06</th>\n",
       "      <td>HOU</td>\n",
       "      <td>0</td>\n",
       "      <td>HOME</td>\n",
       "      <td>SFG</td>\n",
       "      <td>3</td>\n",
       "      <td>L</td>\n",
       "      <td>24237.0</td>\n",
       "    </tr>\n",
       "    <tr>\n",
       "      <th>2010-04-07</th>\n",
       "      <td>HOU</td>\n",
       "      <td>4</td>\n",
       "      <td>HOME</td>\n",
       "      <td>SFG</td>\n",
       "      <td>10</td>\n",
       "      <td>L</td>\n",
       "      <td>21599.0</td>\n",
       "    </tr>\n",
       "    <tr>\n",
       "      <th>2010-04-09</th>\n",
       "      <td>HOU</td>\n",
       "      <td>0</td>\n",
       "      <td>HOME</td>\n",
       "      <td>PHI</td>\n",
       "      <td>8</td>\n",
       "      <td>L</td>\n",
       "      <td>27288.0</td>\n",
       "    </tr>\n",
       "    <tr>\n",
       "      <th>2010-04-10</th>\n",
       "      <td>HOU</td>\n",
       "      <td>6</td>\n",
       "      <td>HOME</td>\n",
       "      <td>PHI</td>\n",
       "      <td>9</td>\n",
       "      <td>L</td>\n",
       "      <td>35138.0</td>\n",
       "    </tr>\n",
       "  </tbody>\n",
       "</table>\n",
       "</div>"
      ],
      "text/plain": [
       "           team  team_score home_away opposing  opp_score win_lost  attendance\n",
       "date                                                                          \n",
       "2010-04-05  HOU           2      HOME      SFG          5        L     43836.0\n",
       "2010-04-06  HOU           0      HOME      SFG          3        L     24237.0\n",
       "2010-04-07  HOU           4      HOME      SFG         10        L     21599.0\n",
       "2010-04-09  HOU           0      HOME      PHI          8        L     27288.0\n",
       "2010-04-10  HOU           6      HOME      PHI          9        L     35138.0"
      ]
     },
     "execution_count": 30,
     "metadata": {},
     "output_type": "execute_result"
    }
   ],
   "source": [
    "astros.head()"
   ]
  },
  {
   "cell_type": "code",
   "execution_count": 31,
   "metadata": {},
   "outputs": [
    {
     "data": {
      "text/plain": [
       "array(['L', 'W', 'W-wo', 'L-wo', 'W &H'], dtype=object)"
      ]
     },
     "execution_count": 31,
     "metadata": {},
     "output_type": "execute_result"
    }
   ],
   "source": [
    "astros.win_lost.unique()"
   ]
  },
  {
   "cell_type": "markdown",
   "metadata": {},
   "source": [
    "## Find and replace\n",
    " - replace 'W-wo' : 'W'\n",
    " - replace  'L-wo': 'L'\n",
    " - replace 'W &H' : 'W"
   ]
  },
  {
   "cell_type": "code",
   "execution_count": 32,
   "metadata": {},
   "outputs": [],
   "source": [
    "astros['win_lost'] = astros['win_lost'].str.replace('L-wo','L')\n",
    "astros['win_lost'] = astros['win_lost'].str.replace('W-wo','W')\n",
    "astros['win_lost'] = astros['win_lost'].str.replace('W &H','W')"
   ]
  },
  {
   "cell_type": "code",
   "execution_count": 33,
   "metadata": {},
   "outputs": [
    {
     "data": {
      "text/plain": [
       "array(['L', 'W'], dtype=object)"
      ]
     },
     "execution_count": 33,
     "metadata": {},
     "output_type": "execute_result"
    }
   ],
   "source": [
    "astros.win_lost.unique()"
   ]
  },
  {
   "cell_type": "code",
   "execution_count": 34,
   "metadata": {},
   "outputs": [
    {
     "name": "stdout",
     "output_type": "stream",
     "text": [
      "<class 'pandas.core.frame.DataFrame'>\n",
      "DatetimeIndex: 1296 entries, 2010-04-05 to 2017-10-01\n",
      "Data columns (total 7 columns):\n",
      "team          1296 non-null object\n",
      "team_score    1296 non-null int64\n",
      "home_away     1296 non-null object\n",
      "opposing      1296 non-null object\n",
      "opp_score     1296 non-null int64\n",
      "win_lost      1296 non-null object\n",
      "attendance    1295 non-null float64\n",
      "dtypes: float64(1), int64(2), object(4)\n",
      "memory usage: 81.0+ KB\n"
     ]
    }
   ],
   "source": [
    "astros.info()"
   ]
  },
  {
   "cell_type": "code",
   "execution_count": 35,
   "metadata": {},
   "outputs": [],
   "source": [
    "astros['season'] = 'reg'"
   ]
  },
  {
   "cell_type": "code",
   "execution_count": 36,
   "metadata": {},
   "outputs": [
    {
     "data": {
      "text/html": [
       "<div>\n",
       "<style scoped>\n",
       "    .dataframe tbody tr th:only-of-type {\n",
       "        vertical-align: middle;\n",
       "    }\n",
       "\n",
       "    .dataframe tbody tr th {\n",
       "        vertical-align: top;\n",
       "    }\n",
       "\n",
       "    .dataframe thead th {\n",
       "        text-align: right;\n",
       "    }\n",
       "</style>\n",
       "<table border=\"1\" class=\"dataframe\">\n",
       "  <thead>\n",
       "    <tr style=\"text-align: right;\">\n",
       "      <th></th>\n",
       "      <th>team</th>\n",
       "      <th>team_score</th>\n",
       "      <th>home_away</th>\n",
       "      <th>opposing</th>\n",
       "      <th>opp_score</th>\n",
       "      <th>win_lost</th>\n",
       "      <th>attendance</th>\n",
       "      <th>season</th>\n",
       "    </tr>\n",
       "    <tr>\n",
       "      <th>date</th>\n",
       "      <th></th>\n",
       "      <th></th>\n",
       "      <th></th>\n",
       "      <th></th>\n",
       "      <th></th>\n",
       "      <th></th>\n",
       "      <th></th>\n",
       "      <th></th>\n",
       "    </tr>\n",
       "  </thead>\n",
       "  <tbody>\n",
       "    <tr>\n",
       "      <th>2010-04-05</th>\n",
       "      <td>HOU</td>\n",
       "      <td>2</td>\n",
       "      <td>HOME</td>\n",
       "      <td>SFG</td>\n",
       "      <td>5</td>\n",
       "      <td>L</td>\n",
       "      <td>43836.0</td>\n",
       "      <td>reg</td>\n",
       "    </tr>\n",
       "    <tr>\n",
       "      <th>2010-04-06</th>\n",
       "      <td>HOU</td>\n",
       "      <td>0</td>\n",
       "      <td>HOME</td>\n",
       "      <td>SFG</td>\n",
       "      <td>3</td>\n",
       "      <td>L</td>\n",
       "      <td>24237.0</td>\n",
       "      <td>reg</td>\n",
       "    </tr>\n",
       "    <tr>\n",
       "      <th>2010-04-07</th>\n",
       "      <td>HOU</td>\n",
       "      <td>4</td>\n",
       "      <td>HOME</td>\n",
       "      <td>SFG</td>\n",
       "      <td>10</td>\n",
       "      <td>L</td>\n",
       "      <td>21599.0</td>\n",
       "      <td>reg</td>\n",
       "    </tr>\n",
       "    <tr>\n",
       "      <th>2010-04-09</th>\n",
       "      <td>HOU</td>\n",
       "      <td>0</td>\n",
       "      <td>HOME</td>\n",
       "      <td>PHI</td>\n",
       "      <td>8</td>\n",
       "      <td>L</td>\n",
       "      <td>27288.0</td>\n",
       "      <td>reg</td>\n",
       "    </tr>\n",
       "    <tr>\n",
       "      <th>2010-04-10</th>\n",
       "      <td>HOU</td>\n",
       "      <td>6</td>\n",
       "      <td>HOME</td>\n",
       "      <td>PHI</td>\n",
       "      <td>9</td>\n",
       "      <td>L</td>\n",
       "      <td>35138.0</td>\n",
       "      <td>reg</td>\n",
       "    </tr>\n",
       "  </tbody>\n",
       "</table>\n",
       "</div>"
      ],
      "text/plain": [
       "           team  team_score home_away opposing  opp_score win_lost  \\\n",
       "date                                                                 \n",
       "2010-04-05  HOU           2      HOME      SFG          5        L   \n",
       "2010-04-06  HOU           0      HOME      SFG          3        L   \n",
       "2010-04-07  HOU           4      HOME      SFG         10        L   \n",
       "2010-04-09  HOU           0      HOME      PHI          8        L   \n",
       "2010-04-10  HOU           6      HOME      PHI          9        L   \n",
       "\n",
       "            attendance season  \n",
       "date                           \n",
       "2010-04-05     43836.0    reg  \n",
       "2010-04-06     24237.0    reg  \n",
       "2010-04-07     21599.0    reg  \n",
       "2010-04-09     27288.0    reg  \n",
       "2010-04-10     35138.0    reg  "
      ]
     },
     "execution_count": 36,
     "metadata": {},
     "output_type": "execute_result"
    }
   ],
   "source": [
    "astros.head()"
   ]
  },
  {
   "cell_type": "markdown",
   "metadata": {},
   "source": [
    "## Save clean data to  to csv"
   ]
  },
  {
   "cell_type": "code",
   "execution_count": 37,
   "metadata": {},
   "outputs": [],
   "source": [
    "astros.to_csv('sports_data_clean/astros_10_17_reg_clean.csv')"
   ]
  },
  {
   "cell_type": "code",
   "execution_count": 38,
   "metadata": {},
   "outputs": [
    {
     "name": "stdout",
     "output_type": "stream",
     "text": [
      "astros_08_17_clean.csv\t     hou_rockets_10_17_reg_plo_clean.csv\r\n",
      "astros_10_17_clean.csv\t     nfl_08_17_clean.csv\r\n",
      "astros_10_17_reg_clean.csv   nfl10clean.csv\r\n",
      "dynamo_08_17_clean.csv\t     nfl10yearsfull.csv\r\n",
      "dynamo_10_17_clean.csv\t     nfl17years_clean.csv\r\n",
      "dynamo_10_17_plo.csv\t     nfl17years_PST_clean.csv\r\n",
      "dynamo_10_17__reg_clean.csv  rice_08_17_clean.csv\r\n",
      "hou_home_10_17_clean.csv     tsu_08_17_clean.csv\r\n",
      "hou_rockets_08_17_clean.csv  uh_08_17_clean.csv\r\n"
     ]
    }
   ],
   "source": [
    "!ls sports_data_clean/"
   ]
  },
  {
   "cell_type": "code",
   "execution_count": null,
   "metadata": {},
   "outputs": [],
   "source": [
    "# finish"
   ]
  },
  {
   "cell_type": "code",
   "execution_count": null,
   "metadata": {},
   "outputs": [],
   "source": [
    "astros.info()"
   ]
  },
  {
   "cell_type": "code",
   "execution_count": null,
   "metadata": {},
   "outputs": [],
   "source": []
  }
 ],
 "metadata": {
  "kernelspec": {
   "display_name": "Python 3",
   "language": "python",
   "name": "python3"
  },
  "language_info": {
   "codemirror_mode": {
    "name": "ipython",
    "version": 3
   },
   "file_extension": ".py",
   "mimetype": "text/x-python",
   "name": "python",
   "nbconvert_exporter": "python",
   "pygments_lexer": "ipython3",
   "version": "3.6.4"
  }
 },
 "nbformat": 4,
 "nbformat_minor": 2
}
