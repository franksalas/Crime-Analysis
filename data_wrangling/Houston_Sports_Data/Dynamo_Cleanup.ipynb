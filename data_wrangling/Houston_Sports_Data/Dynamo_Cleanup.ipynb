{
 "cells": [
  {
   "cell_type": "code",
   "execution_count": 1,
   "metadata": {},
   "outputs": [],
   "source": [
    "import pandas as pd\n",
    "import numpy as np\n",
    "import glob, os\n",
    "import re"
   ]
  },
  {
   "cell_type": "markdown",
   "metadata": {},
   "source": [
    "# Location\n",
    "- repo\n",
    "[FoodballData repo](https://github.com/jokecamp/FootballData)"
   ]
  },
  {
   "cell_type": "markdown",
   "metadata": {},
   "source": [
    "# Problem\n",
    "\n",
    "- data does not contain year\n",
    "- needs cleaning\n",
    "\n",
    "### Solution\n",
    "\n",
    "- Create function that does:\n",
    "    1. create a column for given year\n",
    "    2. create a full_year column that appends date and year column\n",
    "    3. convert full_year column to datetime\n",
    "    4. split result column with two colums given score of each team\n",
    "    5. organize dataframe\n",
    "    6. create winner column based on score of teams\n",
    "    7. set and sort index to full_date column \n",
    "\n",
    "-  dataframes will be loaded one at a time given year"
   ]
  },
  {
   "cell_type": "code",
   "execution_count": 2,
   "metadata": {},
   "outputs": [
    {
     "name": "stdout",
     "output_type": "stream",
     "text": [
      "\u001b[0m\u001b[01;32mHOU_08.csv\u001b[0m*  \u001b[01;32mHOU_10.csv\u001b[0m*  \u001b[01;32mHOU_12.csv\u001b[0m*  \u001b[01;32mHOU_14.csv\u001b[0m*  \u001b[01;32mHOU_16.csv\u001b[0m*\r\n",
      "\u001b[01;32mHOU_09.csv\u001b[0m*  \u001b[01;32mHOU_11.csv\u001b[0m*  \u001b[01;32mHOU_13.csv\u001b[0m*  \u001b[01;32mHOU_15.csv\u001b[0m*  \u001b[01;32mHOU_17.csv\u001b[0m*\r\n"
     ]
    }
   ],
   "source": [
    "ls sports_data_raw/MLS/HOU/"
   ]
  },
  {
   "cell_type": "code",
   "execution_count": 3,
   "metadata": {},
   "outputs": [],
   "source": [
    "h08 = 'sports_data_raw/MLS/HOU/HOU_08.csv'\n",
    "h09 = 'sports_data_raw/MLS/HOU/HOU_09.csv'\n",
    "h10 = 'sports_data_raw//MLS/HOU/HOU_10.csv'\n",
    "h11 = 'sports_data_raw/MLS/HOU/HOU_11.csv'\n",
    "h12 = 'sports_data_raw/MLS/HOU/HOU_12.csv'\n",
    "h13 = 'sports_data_raw/MLS/HOU/HOU_13.csv'\n",
    "h14 = 'sports_data_raw/MLS/HOU/HOU_14.csv'\n",
    "h15 = 'sports_data_raw/MLS/HOU/HOU_15.csv'\n",
    "h16 = 'sports_data_raw/MLS/HOU/HOU_16.csv'\n",
    "h17 = 'sports_data_raw/MLS/HOU/HOU_17.csv'"
   ]
  },
  {
   "cell_type": "code",
   "execution_count": 4,
   "metadata": {},
   "outputs": [],
   "source": [
    "df08 = pd.read_csv(h08)\n",
    "df09 = pd.read_csv(h09)\n",
    "df10 = pd.read_csv(h10)\n",
    "df11 = pd.read_csv(h11)\n",
    "df12 = pd.read_csv(h12)\n",
    "df13 = pd.read_csv(h13)\n",
    "df14 = pd.read_csv(h14)\n",
    "df15 = pd.read_csv(h15)\n",
    "df16 = pd.read_csv(h16)\n",
    "df17 = pd.read_csv(h17)"
   ]
  },
  {
   "cell_type": "code",
   "execution_count": 5,
   "metadata": {},
   "outputs": [],
   "source": [
    "def cleanup(df,year):\n",
    "    '''function that clean up dataframe'''\n",
    "    df['year'] = year  # create col with var year\n",
    "    df['full_date'] = df['date'] + ' ' + df['year']  # append date and year cols\n",
    "    df['full_date'] =  pd.to_datetime(df['full_date'])  # convert full_date to datetime\n",
    "    df['home_score']= df['result'].str.split('-').apply(lambda x: x[0])  # split score vals\n",
    "    df['away_score']= df['result'].str.split('-').apply(lambda x: x[1])  # split score vals\n",
    "    df = df[['full_date','home_team','home_score','away_team','away_score']]  # org df\n",
    "    # winner cols given value scores\n",
    "    df['winner'] = np.where(df['home_score'] > df['away_score'], df['home_team'], df['away_team']) \n",
    "    df = df.set_index('full_date').sort_index(ascending=True)  # set full_date as index\n",
    "    return df"
   ]
  },
  {
   "cell_type": "code",
   "execution_count": 6,
   "metadata": {},
   "outputs": [
    {
     "name": "stderr",
     "output_type": "stream",
     "text": [
      "/home/salas/miniconda3/envs/springboard/lib/python3.6/site-packages/ipykernel_launcher.py:10: SettingWithCopyWarning: \n",
      "A value is trying to be set on a copy of a slice from a DataFrame.\n",
      "Try using .loc[row_indexer,col_indexer] = value instead\n",
      "\n",
      "See the caveats in the documentation: http://pandas.pydata.org/pandas-docs/stable/indexing.html#indexing-view-versus-copy\n",
      "  # Remove the CWD from sys.path while we load stuff.\n"
     ]
    }
   ],
   "source": [
    "dy_08 = cleanup(df08,'2008')\n",
    "dy_09 = cleanup(df09,'2009')\n",
    "dy_10 = cleanup(df10,'2010')\n",
    "dy_11 = cleanup(df11,'2011')\n",
    "dy_12 = cleanup(df12,'2012')\n",
    "dy_13 = cleanup(df13,'2013')\n",
    "dy_14 = cleanup(df14,'2014')\n",
    "dy_15 = cleanup(df15,'2015')\n",
    "dy_16 = cleanup(df16,'2016')\n",
    "dy_17 = cleanup(df17,'2017')"
   ]
  },
  {
   "cell_type": "markdown",
   "metadata": {},
   "source": [
    "# Combine add dataframes"
   ]
  },
  {
   "cell_type": "code",
   "execution_count": 7,
   "metadata": {
    "scrolled": true
   },
   "outputs": [],
   "source": [
    "frames = [dy_08,dy_09,dy_10,\n",
    "          dy_11,dy_12,dy_13,\n",
    "          dy_14,dy_15,dy_16,\n",
    "          dy_17]\n",
    "\n",
    "dynamo08_17 = pd.concat(frames)"
   ]
  },
  {
   "cell_type": "code",
   "execution_count": 8,
   "metadata": {},
   "outputs": [
    {
     "name": "stdout",
     "output_type": "stream",
     "text": [
      "<class 'pandas.core.frame.DataFrame'>\n",
      "DatetimeIndex: 329 entries, 2008-03-29 to 2017-10-22\n",
      "Data columns (total 5 columns):\n",
      "home_team     329 non-null object\n",
      "home_score    329 non-null object\n",
      "away_team     329 non-null object\n",
      "away_score    329 non-null object\n",
      "winner        329 non-null object\n",
      "dtypes: object(5)\n",
      "memory usage: 15.4+ KB\n"
     ]
    }
   ],
   "source": [
    "dynamo08_17.info()"
   ]
  },
  {
   "cell_type": "code",
   "execution_count": 9,
   "metadata": {},
   "outputs": [
    {
     "data": {
      "text/html": [
       "<div>\n",
       "<style scoped>\n",
       "    .dataframe tbody tr th:only-of-type {\n",
       "        vertical-align: middle;\n",
       "    }\n",
       "\n",
       "    .dataframe tbody tr th {\n",
       "        vertical-align: top;\n",
       "    }\n",
       "\n",
       "    .dataframe thead th {\n",
       "        text-align: right;\n",
       "    }\n",
       "</style>\n",
       "<table border=\"1\" class=\"dataframe\">\n",
       "  <thead>\n",
       "    <tr style=\"text-align: right;\">\n",
       "      <th></th>\n",
       "      <th>home_team</th>\n",
       "      <th>home_score</th>\n",
       "      <th>away_team</th>\n",
       "      <th>away_score</th>\n",
       "      <th>winner</th>\n",
       "    </tr>\n",
       "    <tr>\n",
       "      <th>full_date</th>\n",
       "      <th></th>\n",
       "      <th></th>\n",
       "      <th></th>\n",
       "      <th></th>\n",
       "      <th></th>\n",
       "    </tr>\n",
       "  </thead>\n",
       "  <tbody>\n",
       "    <tr>\n",
       "      <th>2008-03-29</th>\n",
       "      <td>New England</td>\n",
       "      <td>3</td>\n",
       "      <td>HOU</td>\n",
       "      <td>0</td>\n",
       "      <td>New England</td>\n",
       "    </tr>\n",
       "    <tr>\n",
       "      <th>2008-04-06</th>\n",
       "      <td>HOU</td>\n",
       "      <td>3</td>\n",
       "      <td>FC Dallas</td>\n",
       "      <td>3</td>\n",
       "      <td>FC Dallas</td>\n",
       "    </tr>\n",
       "    <tr>\n",
       "      <th>2008-04-12</th>\n",
       "      <td>Sporting KC</td>\n",
       "      <td>0</td>\n",
       "      <td>HOU</td>\n",
       "      <td>0</td>\n",
       "      <td>HOU</td>\n",
       "    </tr>\n",
       "    <tr>\n",
       "      <th>2008-04-19</th>\n",
       "      <td>LA Galaxy</td>\n",
       "      <td>2</td>\n",
       "      <td>HOU</td>\n",
       "      <td>2</td>\n",
       "      <td>HOU</td>\n",
       "    </tr>\n",
       "    <tr>\n",
       "      <th>2008-04-26</th>\n",
       "      <td>Columbus</td>\n",
       "      <td>1</td>\n",
       "      <td>HOU</td>\n",
       "      <td>0</td>\n",
       "      <td>Columbus</td>\n",
       "    </tr>\n",
       "  </tbody>\n",
       "</table>\n",
       "</div>"
      ],
      "text/plain": [
       "              home_team home_score  away_team away_score       winner\n",
       "full_date                                                            \n",
       "2008-03-29  New England          3        HOU          0  New England\n",
       "2008-04-06          HOU          3  FC Dallas          3    FC Dallas\n",
       "2008-04-12  Sporting KC          0        HOU          0          HOU\n",
       "2008-04-19    LA Galaxy          2        HOU          2          HOU\n",
       "2008-04-26     Columbus          1        HOU          0     Columbus"
      ]
     },
     "execution_count": 9,
     "metadata": {},
     "output_type": "execute_result"
    }
   ],
   "source": [
    "dynamo08_17.head()"
   ]
  },
  {
   "cell_type": "markdown",
   "metadata": {},
   "source": [
    "## Save clean data to  to csv"
   ]
  },
  {
   "cell_type": "code",
   "execution_count": 10,
   "metadata": {},
   "outputs": [],
   "source": [
    "dynamo08_17.to_csv('sports_data_clean/dynamo_08_17_clean.csv')"
   ]
  },
  {
   "cell_type": "code",
   "execution_count": 11,
   "metadata": {},
   "outputs": [
    {
     "name": "stdout",
     "output_type": "stream",
     "text": [
      "\u001b[0m\u001b[01;32mastros_08_17_clean.csv\u001b[0m*  \u001b[01;32mdynamo_08_17_clean.csv\u001b[0m*\r\n"
     ]
    }
   ],
   "source": [
    "ls sports_data_clean/"
   ]
  },
  {
   "cell_type": "code",
   "execution_count": 12,
   "metadata": {},
   "outputs": [],
   "source": [
    "## Finish"
   ]
  },
  {
   "cell_type": "code",
   "execution_count": null,
   "metadata": {},
   "outputs": [],
   "source": []
  }
 ],
 "metadata": {
  "kernelspec": {
   "display_name": "Python 3",
   "language": "python",
   "name": "python3"
  },
  "language_info": {
   "codemirror_mode": {
    "name": "ipython",
    "version": 3
   },
   "file_extension": ".py",
   "mimetype": "text/x-python",
   "name": "python",
   "nbconvert_exporter": "python",
   "pygments_lexer": "ipython3",
   "version": "3.6.4"
  }
 },
 "nbformat": 4,
 "nbformat_minor": 2
}
