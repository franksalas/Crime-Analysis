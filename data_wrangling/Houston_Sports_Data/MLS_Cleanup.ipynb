{
 "cells": [
  {
   "cell_type": "code",
   "execution_count": 1,
   "metadata": {},
   "outputs": [],
   "source": [
    "import pandas as pd\n",
    "import numpy as np\n",
    "import glob, os\n",
    "import re"
   ]
  },
  {
   "cell_type": "markdown",
   "metadata": {},
   "source": [
    "# "
   ]
  },
  {
   "cell_type": "code",
   "execution_count": 6,
   "metadata": {},
   "outputs": [
    {
     "name": "stdout",
     "output_type": "stream",
     "text": [
      "\u001b[0m\u001b[01;36;40mHOU\u001b[0m/  \u001b[01;32mmls.csv\u001b[0m*\r\n"
     ]
    }
   ],
   "source": [
    "ls sports_data_raw/MLS"
   ]
  },
  {
   "cell_type": "code",
   "execution_count": 7,
   "metadata": {},
   "outputs": [],
   "source": [
    "path = 'sports_data_raw/MLS/mls.csv'\n",
    "df = pd.read_csv(path)"
   ]
  },
  {
   "cell_type": "code",
   "execution_count": 8,
   "metadata": {},
   "outputs": [
    {
     "name": "stdout",
     "output_type": "stream",
     "text": [
      "<class 'pandas.core.frame.DataFrame'>\n",
      "RangeIndex: 4995 entries, 0 to 4994\n",
      "Data columns (total 16 columns):\n",
      "Date        4995 non-null object\n",
      "Season      4995 non-null int64\n",
      "home        4995 non-null object\n",
      "visitor     4995 non-null object\n",
      "FT          4995 non-null object\n",
      "hgoal       4995 non-null int64\n",
      "vgoal       4995 non-null int64\n",
      "hconf       4995 non-null object\n",
      "vconf       4995 non-null object\n",
      "totgoal     4995 non-null int64\n",
      "round       4995 non-null object\n",
      "leg         237 non-null float64\n",
      "hgoalaet    47 non-null float64\n",
      "vgoalaet    47 non-null float64\n",
      "hpen        23 non-null float64\n",
      "vpen        23 non-null float64\n",
      "dtypes: float64(5), int64(4), object(7)\n",
      "memory usage: 624.5+ KB\n"
     ]
    }
   ],
   "source": [
    "df.info()"
   ]
  },
  {
   "cell_type": "code",
   "execution_count": 9,
   "metadata": {},
   "outputs": [
    {
     "data": {
      "text/html": [
       "<div>\n",
       "<style scoped>\n",
       "    .dataframe tbody tr th:only-of-type {\n",
       "        vertical-align: middle;\n",
       "    }\n",
       "\n",
       "    .dataframe tbody tr th {\n",
       "        vertical-align: top;\n",
       "    }\n",
       "\n",
       "    .dataframe thead th {\n",
       "        text-align: right;\n",
       "    }\n",
       "</style>\n",
       "<table border=\"1\" class=\"dataframe\">\n",
       "  <thead>\n",
       "    <tr style=\"text-align: right;\">\n",
       "      <th></th>\n",
       "      <th>Date</th>\n",
       "      <th>Season</th>\n",
       "      <th>home</th>\n",
       "      <th>visitor</th>\n",
       "      <th>FT</th>\n",
       "      <th>hgoal</th>\n",
       "      <th>vgoal</th>\n",
       "      <th>hconf</th>\n",
       "      <th>vconf</th>\n",
       "      <th>totgoal</th>\n",
       "      <th>round</th>\n",
       "      <th>leg</th>\n",
       "      <th>hgoalaet</th>\n",
       "      <th>vgoalaet</th>\n",
       "      <th>hpen</th>\n",
       "      <th>vpen</th>\n",
       "    </tr>\n",
       "  </thead>\n",
       "  <tbody>\n",
       "    <tr>\n",
       "      <th>0</th>\n",
       "      <td>1996-04-06</td>\n",
       "      <td>1996</td>\n",
       "      <td>San Jose Earthquakes</td>\n",
       "      <td>DC United</td>\n",
       "      <td>1-0</td>\n",
       "      <td>1</td>\n",
       "      <td>0</td>\n",
       "      <td>West</td>\n",
       "      <td>East</td>\n",
       "      <td>1</td>\n",
       "      <td>regular</td>\n",
       "      <td>NaN</td>\n",
       "      <td>NaN</td>\n",
       "      <td>NaN</td>\n",
       "      <td>NaN</td>\n",
       "      <td>NaN</td>\n",
       "    </tr>\n",
       "    <tr>\n",
       "      <th>1</th>\n",
       "      <td>1996-04-13</td>\n",
       "      <td>1996</td>\n",
       "      <td>LA Galaxy</td>\n",
       "      <td>New York Red Bulls</td>\n",
       "      <td>2-1</td>\n",
       "      <td>2</td>\n",
       "      <td>1</td>\n",
       "      <td>West</td>\n",
       "      <td>East</td>\n",
       "      <td>3</td>\n",
       "      <td>regular</td>\n",
       "      <td>NaN</td>\n",
       "      <td>NaN</td>\n",
       "      <td>NaN</td>\n",
       "      <td>NaN</td>\n",
       "      <td>NaN</td>\n",
       "    </tr>\n",
       "    <tr>\n",
       "      <th>2</th>\n",
       "      <td>1996-04-13</td>\n",
       "      <td>1996</td>\n",
       "      <td>Tampa Bay Mutiny</td>\n",
       "      <td>New England Revolution</td>\n",
       "      <td>3-2</td>\n",
       "      <td>3</td>\n",
       "      <td>2</td>\n",
       "      <td>East</td>\n",
       "      <td>East</td>\n",
       "      <td>5</td>\n",
       "      <td>regular</td>\n",
       "      <td>NaN</td>\n",
       "      <td>NaN</td>\n",
       "      <td>NaN</td>\n",
       "      <td>NaN</td>\n",
       "      <td>NaN</td>\n",
       "    </tr>\n",
       "    <tr>\n",
       "      <th>3</th>\n",
       "      <td>1996-04-13</td>\n",
       "      <td>1996</td>\n",
       "      <td>Columbus Crew</td>\n",
       "      <td>DC United</td>\n",
       "      <td>4-0</td>\n",
       "      <td>4</td>\n",
       "      <td>0</td>\n",
       "      <td>East</td>\n",
       "      <td>East</td>\n",
       "      <td>4</td>\n",
       "      <td>regular</td>\n",
       "      <td>NaN</td>\n",
       "      <td>NaN</td>\n",
       "      <td>NaN</td>\n",
       "      <td>NaN</td>\n",
       "      <td>NaN</td>\n",
       "    </tr>\n",
       "    <tr>\n",
       "      <th>4</th>\n",
       "      <td>1996-04-13</td>\n",
       "      <td>1996</td>\n",
       "      <td>Sporting Kansas City</td>\n",
       "      <td>Colorado Rapids</td>\n",
       "      <td>3-0</td>\n",
       "      <td>3</td>\n",
       "      <td>0</td>\n",
       "      <td>West</td>\n",
       "      <td>West</td>\n",
       "      <td>3</td>\n",
       "      <td>regular</td>\n",
       "      <td>NaN</td>\n",
       "      <td>NaN</td>\n",
       "      <td>NaN</td>\n",
       "      <td>NaN</td>\n",
       "      <td>NaN</td>\n",
       "    </tr>\n",
       "  </tbody>\n",
       "</table>\n",
       "</div>"
      ],
      "text/plain": [
       "         Date  Season                  home                 visitor   FT  \\\n",
       "0  1996-04-06    1996  San Jose Earthquakes               DC United  1-0   \n",
       "1  1996-04-13    1996             LA Galaxy      New York Red Bulls  2-1   \n",
       "2  1996-04-13    1996      Tampa Bay Mutiny  New England Revolution  3-2   \n",
       "3  1996-04-13    1996         Columbus Crew               DC United  4-0   \n",
       "4  1996-04-13    1996  Sporting Kansas City         Colorado Rapids  3-0   \n",
       "\n",
       "   hgoal  vgoal hconf vconf  totgoal    round  leg  hgoalaet  vgoalaet  hpen  \\\n",
       "0      1      0  West  East        1  regular  NaN       NaN       NaN   NaN   \n",
       "1      2      1  West  East        3  regular  NaN       NaN       NaN   NaN   \n",
       "2      3      2  East  East        5  regular  NaN       NaN       NaN   NaN   \n",
       "3      4      0  East  East        4  regular  NaN       NaN       NaN   NaN   \n",
       "4      3      0  West  West        3  regular  NaN       NaN       NaN   NaN   \n",
       "\n",
       "   vpen  \n",
       "0   NaN  \n",
       "1   NaN  \n",
       "2   NaN  \n",
       "3   NaN  \n",
       "4   NaN  "
      ]
     },
     "execution_count": 9,
     "metadata": {},
     "output_type": "execute_result"
    }
   ],
   "source": [
    "df.head()"
   ]
  },
  {
   "cell_type": "markdown",
   "metadata": {},
   "source": [
    "## Create slice with only needed columns"
   ]
  },
  {
   "cell_type": "code",
   "execution_count": 10,
   "metadata": {},
   "outputs": [],
   "source": [
    "mls = df[['Date','Season','home','hgoal' , 'visitor','vgoal']]"
   ]
  },
  {
   "cell_type": "code",
   "execution_count": 11,
   "metadata": {},
   "outputs": [
    {
     "name": "stdout",
     "output_type": "stream",
     "text": [
      "<class 'pandas.core.frame.DataFrame'>\n",
      "RangeIndex: 4995 entries, 0 to 4994\n",
      "Data columns (total 6 columns):\n",
      "Date       4995 non-null object\n",
      "Season     4995 non-null int64\n",
      "home       4995 non-null object\n",
      "hgoal      4995 non-null int64\n",
      "visitor    4995 non-null object\n",
      "vgoal      4995 non-null int64\n",
      "dtypes: int64(3), object(3)\n",
      "memory usage: 234.2+ KB\n"
     ]
    }
   ],
   "source": [
    "mls.info()"
   ]
  },
  {
   "cell_type": "code",
   "execution_count": 12,
   "metadata": {},
   "outputs": [
    {
     "data": {
      "text/html": [
       "<div>\n",
       "<style scoped>\n",
       "    .dataframe tbody tr th:only-of-type {\n",
       "        vertical-align: middle;\n",
       "    }\n",
       "\n",
       "    .dataframe tbody tr th {\n",
       "        vertical-align: top;\n",
       "    }\n",
       "\n",
       "    .dataframe thead th {\n",
       "        text-align: right;\n",
       "    }\n",
       "</style>\n",
       "<table border=\"1\" class=\"dataframe\">\n",
       "  <thead>\n",
       "    <tr style=\"text-align: right;\">\n",
       "      <th></th>\n",
       "      <th>Date</th>\n",
       "      <th>Season</th>\n",
       "      <th>home</th>\n",
       "      <th>hgoal</th>\n",
       "      <th>visitor</th>\n",
       "      <th>vgoal</th>\n",
       "    </tr>\n",
       "  </thead>\n",
       "  <tbody>\n",
       "    <tr>\n",
       "      <th>0</th>\n",
       "      <td>1996-04-06</td>\n",
       "      <td>1996</td>\n",
       "      <td>San Jose Earthquakes</td>\n",
       "      <td>1</td>\n",
       "      <td>DC United</td>\n",
       "      <td>0</td>\n",
       "    </tr>\n",
       "    <tr>\n",
       "      <th>1</th>\n",
       "      <td>1996-04-13</td>\n",
       "      <td>1996</td>\n",
       "      <td>LA Galaxy</td>\n",
       "      <td>2</td>\n",
       "      <td>New York Red Bulls</td>\n",
       "      <td>1</td>\n",
       "    </tr>\n",
       "    <tr>\n",
       "      <th>2</th>\n",
       "      <td>1996-04-13</td>\n",
       "      <td>1996</td>\n",
       "      <td>Tampa Bay Mutiny</td>\n",
       "      <td>3</td>\n",
       "      <td>New England Revolution</td>\n",
       "      <td>2</td>\n",
       "    </tr>\n",
       "    <tr>\n",
       "      <th>3</th>\n",
       "      <td>1996-04-13</td>\n",
       "      <td>1996</td>\n",
       "      <td>Columbus Crew</td>\n",
       "      <td>4</td>\n",
       "      <td>DC United</td>\n",
       "      <td>0</td>\n",
       "    </tr>\n",
       "    <tr>\n",
       "      <th>4</th>\n",
       "      <td>1996-04-13</td>\n",
       "      <td>1996</td>\n",
       "      <td>Sporting Kansas City</td>\n",
       "      <td>3</td>\n",
       "      <td>Colorado Rapids</td>\n",
       "      <td>0</td>\n",
       "    </tr>\n",
       "  </tbody>\n",
       "</table>\n",
       "</div>"
      ],
      "text/plain": [
       "         Date  Season                  home  hgoal                 visitor  \\\n",
       "0  1996-04-06    1996  San Jose Earthquakes      1               DC United   \n",
       "1  1996-04-13    1996             LA Galaxy      2      New York Red Bulls   \n",
       "2  1996-04-13    1996      Tampa Bay Mutiny      3  New England Revolution   \n",
       "3  1996-04-13    1996         Columbus Crew      4               DC United   \n",
       "4  1996-04-13    1996  Sporting Kansas City      3         Colorado Rapids   \n",
       "\n",
       "   vgoal  \n",
       "0      0  \n",
       "1      1  \n",
       "2      2  \n",
       "3      0  \n",
       "4      0  "
      ]
     },
     "execution_count": 12,
     "metadata": {},
     "output_type": "execute_result"
    }
   ],
   "source": [
    "mls.head()"
   ]
  },
  {
   "cell_type": "markdown",
   "metadata": {},
   "source": [
    "## Inspect Data"
   ]
  },
  {
   "cell_type": "code",
   "execution_count": 13,
   "metadata": {},
   "outputs": [
    {
     "data": {
      "text/plain": [
       "array(['1996-04-06', '1996-04-13', '1996-04-14', ..., '2016-11-27',\n",
       "       '2016-11-30', '2016-12-10'], dtype=object)"
      ]
     },
     "execution_count": 13,
     "metadata": {},
     "output_type": "execute_result"
    }
   ],
   "source": [
    "mls.Date.unique()"
   ]
  },
  {
   "cell_type": "code",
   "execution_count": 14,
   "metadata": {},
   "outputs": [
    {
     "data": {
      "text/plain": [
       "array([1996, 1997, 1998, 1999, 2000, 2001, 2002, 2003, 2004, 2005, 2006,\n",
       "       2007, 2008, 2009, 2010, 2011, 2012, 2013, 2014, 2015, 2016])"
      ]
     },
     "execution_count": 14,
     "metadata": {},
     "output_type": "execute_result"
    }
   ],
   "source": [
    "mls.Season.unique()"
   ]
  },
  {
   "cell_type": "code",
   "execution_count": 15,
   "metadata": {},
   "outputs": [
    {
     "data": {
      "text/plain": [
       "array(['San Jose Earthquakes', 'LA Galaxy', 'Tampa Bay Mutiny',\n",
       "       'Columbus Crew', 'Sporting Kansas City', 'FC Dallas', 'DC United',\n",
       "       'New York Red Bulls', 'Colorado Rapids', 'New England Revolution',\n",
       "       'Miami Fusion', 'Chicago Fire', 'CD Chivas USA', 'Real Salt Lake',\n",
       "       'Houston Dynamo', 'Toronto FC', 'Seattle Sounders',\n",
       "       'Philadelphia Union', 'Vancouver Whitecaps', 'Portland Timbers',\n",
       "       'Montreal Impact', 'Orlando City', 'New York City FC'],\n",
       "      dtype=object)"
      ]
     },
     "execution_count": 15,
     "metadata": {},
     "output_type": "execute_result"
    }
   ],
   "source": [
    "mls.home.unique()"
   ]
  },
  {
   "cell_type": "code",
   "execution_count": 16,
   "metadata": {},
   "outputs": [
    {
     "data": {
      "text/plain": [
       "LA Galaxy                 370\n",
       "DC United                 358\n",
       "FC Dallas                 353\n",
       "New York Red Bulls        353\n",
       "Sporting Kansas City      352\n",
       "New England Revolution    352\n",
       "Colorado Rapids           351\n",
       "Columbus Crew             350\n",
       "Chicago Fire              324\n",
       "San Jose Earthquakes      309\n",
       "Real Salt Lake            203\n",
       "Houston Dynamo            191\n",
       "Toronto FC                166\n",
       "CD Chivas USA             164\n",
       "Seattle Sounders          146\n",
       "Philadelphia Union        118\n",
       "Portland Timbers          107\n",
       "Vancouver Whitecaps       103\n",
       "Tampa Bay Mutiny          100\n",
       "Montreal Impact            89\n",
       "Miami Fusion               67\n",
       "New York City FC           35\n",
       "Orlando City               34\n",
       "Name: home, dtype: int64"
      ]
     },
     "execution_count": 16,
     "metadata": {},
     "output_type": "execute_result"
    }
   ],
   "source": [
    "mls.home.value_counts(dropna=False)"
   ]
  },
  {
   "cell_type": "code",
   "execution_count": 17,
   "metadata": {},
   "outputs": [
    {
     "data": {
      "text/plain": [
       "array([1, 2, 3, 4, 0, 6, 5, 7])"
      ]
     },
     "execution_count": 17,
     "metadata": {},
     "output_type": "execute_result"
    }
   ],
   "source": [
    "mls.hgoal.unique()"
   ]
  },
  {
   "cell_type": "code",
   "execution_count": 18,
   "metadata": {},
   "outputs": [
    {
     "data": {
      "text/plain": [
       "array(['DC United', 'New York Red Bulls', 'New England Revolution',\n",
       "       'Colorado Rapids', 'San Jose Earthquakes', 'Sporting Kansas City',\n",
       "       'LA Galaxy', 'Tampa Bay Mutiny', 'FC Dallas', 'Columbus Crew',\n",
       "       'Chicago Fire', 'Miami Fusion', 'Real Salt Lake', 'CD Chivas USA',\n",
       "       'Houston Dynamo', 'Toronto FC', 'Seattle Sounders',\n",
       "       'Philadelphia Union', 'Portland Timbers', 'Vancouver Whitecaps',\n",
       "       'Montreal Impact', 'New York City FC', 'Orlando City'],\n",
       "      dtype=object)"
      ]
     },
     "execution_count": 18,
     "metadata": {},
     "output_type": "execute_result"
    }
   ],
   "source": [
    "mls.visitor.unique()"
   ]
  },
  {
   "cell_type": "code",
   "execution_count": 19,
   "metadata": {},
   "outputs": [
    {
     "data": {
      "text/plain": [
       "LA Galaxy                 365\n",
       "Sporting Kansas City      356\n",
       "New York Red Bulls        356\n",
       "Columbus Crew             354\n",
       "New England Revolution    353\n",
       "FC Dallas                 352\n",
       "Colorado Rapids           351\n",
       "DC United                 350\n",
       "Chicago Fire              318\n",
       "San Jose Earthquakes      314\n",
       "Real Salt Lake            208\n",
       "Houston Dynamo            193\n",
       "Toronto FC                165\n",
       "CD Chivas USA             164\n",
       "Seattle Sounders          144\n",
       "Philadelphia Union        119\n",
       "Portland Timbers          107\n",
       "Vancouver Whitecaps       104\n",
       "Tampa Bay Mutiny           98\n",
       "Montreal Impact            90\n",
       "Miami Fusion               65\n",
       "New York City FC           35\n",
       "Orlando City               34\n",
       "Name: visitor, dtype: int64"
      ]
     },
     "execution_count": 19,
     "metadata": {},
     "output_type": "execute_result"
    }
   ],
   "source": [
    "mls.visitor.value_counts(dropna=False)"
   ]
  },
  {
   "cell_type": "code",
   "execution_count": 20,
   "metadata": {},
   "outputs": [
    {
     "data": {
      "text/plain": [
       "array([0, 1, 2, 3, 4, 5, 8, 6, 7])"
      ]
     },
     "execution_count": 20,
     "metadata": {},
     "output_type": "execute_result"
    }
   ],
   "source": [
    "mls.vgoal.unique()"
   ]
  },
  {
   "cell_type": "markdown",
   "metadata": {},
   "source": [
    "## Date column\n",
    "\n"
   ]
  },
  {
   "cell_type": "code",
   "execution_count": 21,
   "metadata": {},
   "outputs": [
    {
     "name": "stderr",
     "output_type": "stream",
     "text": [
      "/home/salas/miniconda3/envs/springboard/lib/python3.6/site-packages/ipykernel_launcher.py:1: SettingWithCopyWarning: \n",
      "A value is trying to be set on a copy of a slice from a DataFrame.\n",
      "Try using .loc[row_indexer,col_indexer] = value instead\n",
      "\n",
      "See the caveats in the documentation: http://pandas.pydata.org/pandas-docs/stable/indexing.html#indexing-view-versus-copy\n",
      "  \"\"\"Entry point for launching an IPython kernel.\n"
     ]
    }
   ],
   "source": [
    "mls['Date'] = pd.to_datetime(mls['Date'])\n",
    "\n",
    "mls = mls.set_index('Date').sort_index(ascending=True)"
   ]
  },
  {
   "cell_type": "code",
   "execution_count": 22,
   "metadata": {},
   "outputs": [],
   "source": [
    "#mls.loc['2008':'2015']"
   ]
  },
  {
   "cell_type": "code",
   "execution_count": 23,
   "metadata": {},
   "outputs": [
    {
     "name": "stdout",
     "output_type": "stream",
     "text": [
      "<class 'pandas.core.frame.DataFrame'>\n",
      "DatetimeIndex: 4995 entries, 1996-04-06 to 2016-12-10\n",
      "Data columns (total 5 columns):\n",
      "Season     4995 non-null int64\n",
      "home       4995 non-null object\n",
      "hgoal      4995 non-null int64\n",
      "visitor    4995 non-null object\n",
      "vgoal      4995 non-null int64\n",
      "dtypes: int64(3), object(2)\n",
      "memory usage: 234.1+ KB\n"
     ]
    }
   ],
   "source": [
    "mls.info()"
   ]
  },
  {
   "cell_type": "markdown",
   "metadata": {},
   "source": [
    "## Winner column\n",
    "- create new colum with the winner value"
   ]
  },
  {
   "cell_type": "code",
   "execution_count": 24,
   "metadata": {},
   "outputs": [],
   "source": [
    "mls['winner'] = np.where(mls['hgoal'] > mls['vgoal'], mls['home'], mls['visitor'])"
   ]
  },
  {
   "cell_type": "code",
   "execution_count": 25,
   "metadata": {},
   "outputs": [
    {
     "data": {
      "text/html": [
       "<div>\n",
       "<style scoped>\n",
       "    .dataframe tbody tr th:only-of-type {\n",
       "        vertical-align: middle;\n",
       "    }\n",
       "\n",
       "    .dataframe tbody tr th {\n",
       "        vertical-align: top;\n",
       "    }\n",
       "\n",
       "    .dataframe thead th {\n",
       "        text-align: right;\n",
       "    }\n",
       "</style>\n",
       "<table border=\"1\" class=\"dataframe\">\n",
       "  <thead>\n",
       "    <tr style=\"text-align: right;\">\n",
       "      <th></th>\n",
       "      <th>Season</th>\n",
       "      <th>home</th>\n",
       "      <th>hgoal</th>\n",
       "      <th>visitor</th>\n",
       "      <th>vgoal</th>\n",
       "      <th>winner</th>\n",
       "    </tr>\n",
       "    <tr>\n",
       "      <th>Date</th>\n",
       "      <th></th>\n",
       "      <th></th>\n",
       "      <th></th>\n",
       "      <th></th>\n",
       "      <th></th>\n",
       "      <th></th>\n",
       "    </tr>\n",
       "  </thead>\n",
       "  <tbody>\n",
       "    <tr>\n",
       "      <th>1996-04-06</th>\n",
       "      <td>1996</td>\n",
       "      <td>San Jose Earthquakes</td>\n",
       "      <td>1</td>\n",
       "      <td>DC United</td>\n",
       "      <td>0</td>\n",
       "      <td>San Jose Earthquakes</td>\n",
       "    </tr>\n",
       "    <tr>\n",
       "      <th>1996-04-13</th>\n",
       "      <td>1996</td>\n",
       "      <td>LA Galaxy</td>\n",
       "      <td>2</td>\n",
       "      <td>New York Red Bulls</td>\n",
       "      <td>1</td>\n",
       "      <td>LA Galaxy</td>\n",
       "    </tr>\n",
       "    <tr>\n",
       "      <th>1996-04-13</th>\n",
       "      <td>1996</td>\n",
       "      <td>Tampa Bay Mutiny</td>\n",
       "      <td>3</td>\n",
       "      <td>New England Revolution</td>\n",
       "      <td>2</td>\n",
       "      <td>Tampa Bay Mutiny</td>\n",
       "    </tr>\n",
       "    <tr>\n",
       "      <th>1996-04-13</th>\n",
       "      <td>1996</td>\n",
       "      <td>Columbus Crew</td>\n",
       "      <td>4</td>\n",
       "      <td>DC United</td>\n",
       "      <td>0</td>\n",
       "      <td>Columbus Crew</td>\n",
       "    </tr>\n",
       "    <tr>\n",
       "      <th>1996-04-13</th>\n",
       "      <td>1996</td>\n",
       "      <td>Sporting Kansas City</td>\n",
       "      <td>3</td>\n",
       "      <td>Colorado Rapids</td>\n",
       "      <td>0</td>\n",
       "      <td>Sporting Kansas City</td>\n",
       "    </tr>\n",
       "  </tbody>\n",
       "</table>\n",
       "</div>"
      ],
      "text/plain": [
       "            Season                  home  hgoal                 visitor  \\\n",
       "Date                                                                      \n",
       "1996-04-06    1996  San Jose Earthquakes      1               DC United   \n",
       "1996-04-13    1996             LA Galaxy      2      New York Red Bulls   \n",
       "1996-04-13    1996      Tampa Bay Mutiny      3  New England Revolution   \n",
       "1996-04-13    1996         Columbus Crew      4               DC United   \n",
       "1996-04-13    1996  Sporting Kansas City      3         Colorado Rapids   \n",
       "\n",
       "            vgoal                winner  \n",
       "Date                                     \n",
       "1996-04-06      0  San Jose Earthquakes  \n",
       "1996-04-13      1             LA Galaxy  \n",
       "1996-04-13      2      Tampa Bay Mutiny  \n",
       "1996-04-13      0         Columbus Crew  \n",
       "1996-04-13      0  Sporting Kansas City  "
      ]
     },
     "execution_count": 25,
     "metadata": {},
     "output_type": "execute_result"
    }
   ],
   "source": [
    "mls.head()"
   ]
  },
  {
   "cell_type": "code",
   "execution_count": null,
   "metadata": {},
   "outputs": [],
   "source": [
    "mls.info()"
   ]
  },
  {
   "cell_type": "markdown",
   "metadata": {},
   "source": [
    "## Save clean version to csv"
   ]
  },
  {
   "cell_type": "code",
   "execution_count": null,
   "metadata": {},
   "outputs": [],
   "source": [
    "mls.to_csv('clean_data/mls_clean.csv')"
   ]
  },
  {
   "cell_type": "markdown",
   "metadata": {},
   "source": [
    "## Select from 2008: 2016"
   ]
  },
  {
   "cell_type": "code",
   "execution_count": null,
   "metadata": {},
   "outputs": [],
   "source": [
    "mls_08_16 = mls.loc['2008':'2016']"
   ]
  },
  {
   "cell_type": "code",
   "execution_count": null,
   "metadata": {},
   "outputs": [],
   "source": [
    "mls_08_16.info()"
   ]
  },
  {
   "cell_type": "markdown",
   "metadata": {},
   "source": [
    "## Save clean version to csv"
   ]
  },
  {
   "cell_type": "code",
   "execution_count": null,
   "metadata": {},
   "outputs": [],
   "source": [
    "mls_08_16.to_csv('clean_data/mls_08_16_clean.csv')"
   ]
  },
  {
   "cell_type": "code",
   "execution_count": null,
   "metadata": {},
   "outputs": [],
   "source": [
    "ls clean_data/"
   ]
  },
  {
   "cell_type": "code",
   "execution_count": null,
   "metadata": {},
   "outputs": [],
   "source": [
    "## Finish"
   ]
  },
  {
   "cell_type": "code",
   "execution_count": null,
   "metadata": {},
   "outputs": [],
   "source": [
    "mls_08_16"
   ]
  },
  {
   "cell_type": "code",
   "execution_count": null,
   "metadata": {},
   "outputs": [],
   "source": []
  }
 ],
 "metadata": {
  "kernelspec": {
   "display_name": "Python 3",
   "language": "python",
   "name": "python3"
  },
  "language_info": {
   "codemirror_mode": {
    "name": "ipython",
    "version": 3
   },
   "file_extension": ".py",
   "mimetype": "text/x-python",
   "name": "python",
   "nbconvert_exporter": "python",
   "pygments_lexer": "ipython3",
   "version": "3.6.4"
  }
 },
 "nbformat": 4,
 "nbformat_minor": 2
}
