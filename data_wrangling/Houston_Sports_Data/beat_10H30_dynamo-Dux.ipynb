{
 "cells": [
  {
   "cell_type": "code",
   "execution_count": 1,
   "metadata": {},
   "outputs": [],
   "source": [
    "import pandas as pd"
   ]
  },
  {
   "cell_type": "code",
   "execution_count": 2,
   "metadata": {},
   "outputs": [
    {
     "name": "stdout",
     "output_type": "stream",
     "text": [
      "\u001b[0m\u001b[01;32mastros_10_17_plo_clean.csv\u001b[0m*       \u001b[01;32mnfl_08_17_clean.csv\u001b[0m*\r\n",
      "\u001b[01;32mastros_10_17_reg_clean.csv\u001b[0m*       \u001b[01;32mnfl10clean.csv\u001b[0m*\r\n",
      "\u001b[01;32mastros_1A10.csv\u001b[0m*                  \u001b[01;32mnfl10yearsfull.csv\u001b[0m*\r\n",
      "\u001b[01;32mdynamo_10_17_plo.csv\u001b[0m*             \u001b[01;32mnfl17years_clean.csv\u001b[0m*\r\n",
      "\u001b[01;32mdynamo_10_17__reg.csv\u001b[0m*            \u001b[01;32mnfl17years_PST_clean.csv\u001b[0m*\r\n",
      "\u001b[01;32mdynamo_10H30.csv\u001b[0m*                 \u001b[01;32mrice_08_17_clean.csv\u001b[0m*\r\n",
      "\u001b[01;32mhou_nfl_1017_post.csv\u001b[0m*            \u001b[01;32mRice_10H80.csv\u001b[0m*\r\n",
      "\u001b[01;32mhou_nfl_1017_reg.csv\u001b[0m*             \u001b[01;32mrockets_1A10.csv\u001b[0m*\r\n",
      "\u001b[01;32mhou_rockets_08_17_clean.csv\u001b[0m*      \u001b[01;32mTex_15E40.csv\u001b[0m*\r\n",
      "\u001b[01;32mhou_rockets_10_17_plo_clean.csv\u001b[0m*  \u001b[01;32muh_08_17_clean.csv\u001b[0m*\r\n",
      "\u001b[01;32mhou_rockets_10_17_reg_clean.csv\u001b[0m*  \u001b[01;32mUH_10H50.csv\u001b[0m*\r\n"
     ]
    }
   ],
   "source": [
    "ls sports_data_clean/"
   ]
  },
  {
   "cell_type": "code",
   "execution_count": 3,
   "metadata": {},
   "outputs": [],
   "source": [
    "# 1A10\n",
    "hou_reg = 'sports_data_clean/dynamo_10_17__reg.csv'\n",
    "hou_pos = 'sports_data_clean/dynamo_10_17_plo.csv'"
   ]
  },
  {
   "cell_type": "code",
   "execution_count": 4,
   "metadata": {},
   "outputs": [],
   "source": [
    "df_reg = pd.read_csv(hou_reg)\n",
    "df_pos = pd.read_csv(hou_pos)"
   ]
  },
  {
   "cell_type": "markdown",
   "metadata": {},
   "source": [
    "## Regualr season"
   ]
  },
  {
   "cell_type": "code",
   "execution_count": 5,
   "metadata": {},
   "outputs": [
    {
     "data": {
      "text/html": [
       "<div>\n",
       "<style scoped>\n",
       "    .dataframe tbody tr th:only-of-type {\n",
       "        vertical-align: middle;\n",
       "    }\n",
       "\n",
       "    .dataframe tbody tr th {\n",
       "        vertical-align: top;\n",
       "    }\n",
       "\n",
       "    .dataframe thead th {\n",
       "        text-align: right;\n",
       "    }\n",
       "</style>\n",
       "<table border=\"1\" class=\"dataframe\">\n",
       "  <thead>\n",
       "    <tr style=\"text-align: right;\">\n",
       "      <th></th>\n",
       "      <th>full_date</th>\n",
       "      <th>home_team</th>\n",
       "      <th>home_score</th>\n",
       "      <th>away_team</th>\n",
       "      <th>away_score</th>\n",
       "      <th>winner</th>\n",
       "      <th>season</th>\n",
       "    </tr>\n",
       "  </thead>\n",
       "  <tbody>\n",
       "    <tr>\n",
       "      <th>0</th>\n",
       "      <td>2010-03-27</td>\n",
       "      <td>FC Dallas</td>\n",
       "      <td>1</td>\n",
       "      <td>HOU</td>\n",
       "      <td>1</td>\n",
       "      <td>HOU</td>\n",
       "      <td>reg</td>\n",
       "    </tr>\n",
       "    <tr>\n",
       "      <th>1</th>\n",
       "      <td>2010-04-01</td>\n",
       "      <td>HOU</td>\n",
       "      <td>2</td>\n",
       "      <td>Real Salt Lake</td>\n",
       "      <td>1</td>\n",
       "      <td>HOU</td>\n",
       "      <td>reg</td>\n",
       "    </tr>\n",
       "    <tr>\n",
       "      <th>2</th>\n",
       "      <td>2010-04-10</td>\n",
       "      <td>HOU</td>\n",
       "      <td>0</td>\n",
       "      <td>LA Galaxy</td>\n",
       "      <td>2</td>\n",
       "      <td>LA Galaxy</td>\n",
       "      <td>reg</td>\n",
       "    </tr>\n",
       "    <tr>\n",
       "      <th>3</th>\n",
       "      <td>2010-04-17</td>\n",
       "      <td>HOU</td>\n",
       "      <td>3</td>\n",
       "      <td>Chivas USA</td>\n",
       "      <td>0</td>\n",
       "      <td>HOU</td>\n",
       "      <td>reg</td>\n",
       "    </tr>\n",
       "    <tr>\n",
       "      <th>4</th>\n",
       "      <td>2010-04-24</td>\n",
       "      <td>Chicago</td>\n",
       "      <td>2</td>\n",
       "      <td>HOU</td>\n",
       "      <td>0</td>\n",
       "      <td>Chicago</td>\n",
       "      <td>reg</td>\n",
       "    </tr>\n",
       "  </tbody>\n",
       "</table>\n",
       "</div>"
      ],
      "text/plain": [
       "    full_date  home_team  home_score       away_team  away_score     winner  \\\n",
       "0  2010-03-27  FC Dallas           1             HOU           1        HOU   \n",
       "1  2010-04-01        HOU           2  Real Salt Lake           1        HOU   \n",
       "2  2010-04-10        HOU           0       LA Galaxy           2  LA Galaxy   \n",
       "3  2010-04-17        HOU           3      Chivas USA           0        HOU   \n",
       "4  2010-04-24    Chicago           2             HOU           0    Chicago   \n",
       "\n",
       "  season  \n",
       "0    reg  \n",
       "1    reg  \n",
       "2    reg  \n",
       "3    reg  \n",
       "4    reg  "
      ]
     },
     "execution_count": 5,
     "metadata": {},
     "output_type": "execute_result"
    }
   ],
   "source": [
    "df_reg.head()"
   ]
  },
  {
   "cell_type": "code",
   "execution_count": 6,
   "metadata": {},
   "outputs": [
    {
     "data": {
      "text/plain": [
       "23"
      ]
     },
     "execution_count": 6,
     "metadata": {},
     "output_type": "execute_result"
    }
   ],
   "source": [
    "len(df_reg.home_team.unique())"
   ]
  },
  {
   "cell_type": "code",
   "execution_count": 7,
   "metadata": {},
   "outputs": [
    {
     "data": {
      "text/plain": [
       "array(['FC Dallas', 'HOU', 'Chicago', 'Chivas USA', 'Real Salt Lake',\n",
       "       'NY Red Bulls', 'LA Galaxy', 'Toronto FC', 'Columbus', 'Seattle',\n",
       "       'New England', 'Colorado', 'Sporting KC', 'D.C. United',\n",
       "       'Philadelphia', 'San Jose', 'Vancouver', 'Portland', 'Montreal',\n",
       "       'NYCFC', 'Orlando', 'Atlanta', 'Minnesota'], dtype=object)"
      ]
     },
     "execution_count": 7,
     "metadata": {},
     "output_type": "execute_result"
    }
   ],
   "source": [
    "df_reg.home_team.unique()"
   ]
  },
  {
   "cell_type": "code",
   "execution_count": 8,
   "metadata": {},
   "outputs": [],
   "source": [
    "df_reg.home_team = df_reg.home_team.str.strip()"
   ]
  },
  {
   "cell_type": "code",
   "execution_count": 9,
   "metadata": {},
   "outputs": [
    {
     "data": {
      "text/plain": [
       "23"
      ]
     },
     "execution_count": 9,
     "metadata": {},
     "output_type": "execute_result"
    }
   ],
   "source": [
    "len(df_reg.home_team.unique())"
   ]
  },
  {
   "cell_type": "code",
   "execution_count": 10,
   "metadata": {},
   "outputs": [],
   "source": [
    "df_reg.home_team.replace( 'HOU', 'Houston Dynamo', inplace=True)"
   ]
  },
  {
   "cell_type": "code",
   "execution_count": 12,
   "metadata": {},
   "outputs": [
    {
     "data": {
      "text/html": [
       "<div>\n",
       "<style scoped>\n",
       "    .dataframe tbody tr th:only-of-type {\n",
       "        vertical-align: middle;\n",
       "    }\n",
       "\n",
       "    .dataframe tbody tr th {\n",
       "        vertical-align: top;\n",
       "    }\n",
       "\n",
       "    .dataframe thead th {\n",
       "        text-align: right;\n",
       "    }\n",
       "</style>\n",
       "<table border=\"1\" class=\"dataframe\">\n",
       "  <thead>\n",
       "    <tr style=\"text-align: right;\">\n",
       "      <th></th>\n",
       "      <th>full_date</th>\n",
       "      <th>home_team</th>\n",
       "      <th>home_score</th>\n",
       "      <th>away_team</th>\n",
       "      <th>away_score</th>\n",
       "      <th>winner</th>\n",
       "      <th>season</th>\n",
       "    </tr>\n",
       "  </thead>\n",
       "  <tbody>\n",
       "    <tr>\n",
       "      <th>0</th>\n",
       "      <td>2010-03-27</td>\n",
       "      <td>FC Dallas</td>\n",
       "      <td>1</td>\n",
       "      <td>HOU</td>\n",
       "      <td>1</td>\n",
       "      <td>HOU</td>\n",
       "      <td>reg</td>\n",
       "    </tr>\n",
       "    <tr>\n",
       "      <th>1</th>\n",
       "      <td>2010-04-01</td>\n",
       "      <td>Houston Dynamo</td>\n",
       "      <td>2</td>\n",
       "      <td>Real Salt Lake</td>\n",
       "      <td>1</td>\n",
       "      <td>HOU</td>\n",
       "      <td>reg</td>\n",
       "    </tr>\n",
       "    <tr>\n",
       "      <th>2</th>\n",
       "      <td>2010-04-10</td>\n",
       "      <td>Houston Dynamo</td>\n",
       "      <td>0</td>\n",
       "      <td>LA Galaxy</td>\n",
       "      <td>2</td>\n",
       "      <td>LA Galaxy</td>\n",
       "      <td>reg</td>\n",
       "    </tr>\n",
       "    <tr>\n",
       "      <th>3</th>\n",
       "      <td>2010-04-17</td>\n",
       "      <td>Houston Dynamo</td>\n",
       "      <td>3</td>\n",
       "      <td>Chivas USA</td>\n",
       "      <td>0</td>\n",
       "      <td>HOU</td>\n",
       "      <td>reg</td>\n",
       "    </tr>\n",
       "    <tr>\n",
       "      <th>4</th>\n",
       "      <td>2010-04-24</td>\n",
       "      <td>Chicago</td>\n",
       "      <td>2</td>\n",
       "      <td>HOU</td>\n",
       "      <td>0</td>\n",
       "      <td>Chicago</td>\n",
       "      <td>reg</td>\n",
       "    </tr>\n",
       "  </tbody>\n",
       "</table>\n",
       "</div>"
      ],
      "text/plain": [
       "    full_date       home_team  home_score       away_team  away_score  \\\n",
       "0  2010-03-27       FC Dallas           1             HOU           1   \n",
       "1  2010-04-01  Houston Dynamo           2  Real Salt Lake           1   \n",
       "2  2010-04-10  Houston Dynamo           0       LA Galaxy           2   \n",
       "3  2010-04-17  Houston Dynamo           3      Chivas USA           0   \n",
       "4  2010-04-24         Chicago           2             HOU           0   \n",
       "\n",
       "      winner season  \n",
       "0        HOU    reg  \n",
       "1        HOU    reg  \n",
       "2  LA Galaxy    reg  \n",
       "3        HOU    reg  \n",
       "4    Chicago    reg  "
      ]
     },
     "execution_count": 12,
     "metadata": {},
     "output_type": "execute_result"
    }
   ],
   "source": [
    "df_reg.head()"
   ]
  },
  {
   "cell_type": "code",
   "execution_count": null,
   "metadata": {},
   "outputs": [],
   "source": []
  },
  {
   "cell_type": "code",
   "execution_count": 13,
   "metadata": {},
   "outputs": [],
   "source": [
    "df_reg = df_reg[df_reg.home_team =='Houston Dynamo']"
   ]
  },
  {
   "cell_type": "code",
   "execution_count": 14,
   "metadata": {},
   "outputs": [
    {
     "data": {
      "text/html": [
       "<div>\n",
       "<style scoped>\n",
       "    .dataframe tbody tr th:only-of-type {\n",
       "        vertical-align: middle;\n",
       "    }\n",
       "\n",
       "    .dataframe tbody tr th {\n",
       "        vertical-align: top;\n",
       "    }\n",
       "\n",
       "    .dataframe thead th {\n",
       "        text-align: right;\n",
       "    }\n",
       "</style>\n",
       "<table border=\"1\" class=\"dataframe\">\n",
       "  <thead>\n",
       "    <tr style=\"text-align: right;\">\n",
       "      <th></th>\n",
       "      <th>full_date</th>\n",
       "      <th>home_team</th>\n",
       "      <th>home_score</th>\n",
       "      <th>away_team</th>\n",
       "      <th>away_score</th>\n",
       "      <th>season</th>\n",
       "    </tr>\n",
       "  </thead>\n",
       "  <tbody>\n",
       "    <tr>\n",
       "      <th>1</th>\n",
       "      <td>2010-04-01</td>\n",
       "      <td>Houston Dynamo</td>\n",
       "      <td>2</td>\n",
       "      <td>Real Salt Lake</td>\n",
       "      <td>1</td>\n",
       "      <td>reg</td>\n",
       "    </tr>\n",
       "    <tr>\n",
       "      <th>2</th>\n",
       "      <td>2010-04-10</td>\n",
       "      <td>Houston Dynamo</td>\n",
       "      <td>0</td>\n",
       "      <td>LA Galaxy</td>\n",
       "      <td>2</td>\n",
       "      <td>reg</td>\n",
       "    </tr>\n",
       "    <tr>\n",
       "      <th>3</th>\n",
       "      <td>2010-04-17</td>\n",
       "      <td>Houston Dynamo</td>\n",
       "      <td>3</td>\n",
       "      <td>Chivas USA</td>\n",
       "      <td>0</td>\n",
       "      <td>reg</td>\n",
       "    </tr>\n",
       "    <tr>\n",
       "      <th>5</th>\n",
       "      <td>2010-05-01</td>\n",
       "      <td>Houston Dynamo</td>\n",
       "      <td>3</td>\n",
       "      <td>Sporting KC</td>\n",
       "      <td>0</td>\n",
       "      <td>reg</td>\n",
       "    </tr>\n",
       "    <tr>\n",
       "      <th>6</th>\n",
       "      <td>2010-05-05</td>\n",
       "      <td>Houston Dynamo</td>\n",
       "      <td>0</td>\n",
       "      <td>FC Dallas</td>\n",
       "      <td>1</td>\n",
       "      <td>reg</td>\n",
       "    </tr>\n",
       "  </tbody>\n",
       "</table>\n",
       "</div>"
      ],
      "text/plain": [
       "    full_date       home_team  home_score       away_team  away_score season\n",
       "1  2010-04-01  Houston Dynamo           2  Real Salt Lake           1    reg\n",
       "2  2010-04-10  Houston Dynamo           0       LA Galaxy           2    reg\n",
       "3  2010-04-17  Houston Dynamo           3      Chivas USA           0    reg\n",
       "5  2010-05-01  Houston Dynamo           3     Sporting KC           0    reg\n",
       "6  2010-05-05  Houston Dynamo           0       FC Dallas           1    reg"
      ]
     },
     "execution_count": 14,
     "metadata": {},
     "output_type": "execute_result"
    }
   ],
   "source": [
    "df_reg = df_reg[['full_date','home_team','home_score','away_team','away_score','season']]\n",
    "df_reg.head()"
   ]
  },
  {
   "cell_type": "code",
   "execution_count": null,
   "metadata": {},
   "outputs": [],
   "source": []
  },
  {
   "cell_type": "markdown",
   "metadata": {},
   "source": [
    "## Post season"
   ]
  },
  {
   "cell_type": "code",
   "execution_count": 15,
   "metadata": {},
   "outputs": [
    {
     "data": {
      "text/html": [
       "<div>\n",
       "<style scoped>\n",
       "    .dataframe tbody tr th:only-of-type {\n",
       "        vertical-align: middle;\n",
       "    }\n",
       "\n",
       "    .dataframe tbody tr th {\n",
       "        vertical-align: top;\n",
       "    }\n",
       "\n",
       "    .dataframe thead th {\n",
       "        text-align: right;\n",
       "    }\n",
       "</style>\n",
       "<table border=\"1\" class=\"dataframe\">\n",
       "  <thead>\n",
       "    <tr style=\"text-align: right;\">\n",
       "      <th></th>\n",
       "      <th>full_date</th>\n",
       "      <th>home_team</th>\n",
       "      <th>home_score</th>\n",
       "      <th>away_team</th>\n",
       "      <th>away_score</th>\n",
       "      <th>season</th>\n",
       "    </tr>\n",
       "  </thead>\n",
       "  <tbody>\n",
       "    <tr>\n",
       "      <th>0</th>\n",
       "      <td>2011-10-30</td>\n",
       "      <td>Philadelphia Union</td>\n",
       "      <td>1</td>\n",
       "      <td>Houston Dynamo</td>\n",
       "      <td>2</td>\n",
       "      <td>plo</td>\n",
       "    </tr>\n",
       "    <tr>\n",
       "      <th>1</th>\n",
       "      <td>2011-11-03</td>\n",
       "      <td>Houston Dynamo</td>\n",
       "      <td>1</td>\n",
       "      <td>Philadelphia Union</td>\n",
       "      <td>0</td>\n",
       "      <td>plo</td>\n",
       "    </tr>\n",
       "    <tr>\n",
       "      <th>2</th>\n",
       "      <td>2011-11-06</td>\n",
       "      <td>Sporting Kansas City</td>\n",
       "      <td>0</td>\n",
       "      <td>Houston Dynamo</td>\n",
       "      <td>2</td>\n",
       "      <td>plo</td>\n",
       "    </tr>\n",
       "    <tr>\n",
       "      <th>3</th>\n",
       "      <td>2011-11-20</td>\n",
       "      <td>Los Angeles Galaxy</td>\n",
       "      <td>1</td>\n",
       "      <td>Houston Dynamo</td>\n",
       "      <td>0</td>\n",
       "      <td>plo</td>\n",
       "    </tr>\n",
       "    <tr>\n",
       "      <th>4</th>\n",
       "      <td>2012-10-31</td>\n",
       "      <td>Chicago Fire</td>\n",
       "      <td>1</td>\n",
       "      <td>Houston Dynamo</td>\n",
       "      <td>2</td>\n",
       "      <td>plo</td>\n",
       "    </tr>\n",
       "  </tbody>\n",
       "</table>\n",
       "</div>"
      ],
      "text/plain": [
       "    full_date               home_team  home_score           away_team  \\\n",
       "0  2011-10-30    Philadelphia Union             1      Houston Dynamo   \n",
       "1  2011-11-03         Houston Dynamo            1  Philadelphia Union   \n",
       "2  2011-11-06   Sporting Kansas City            0      Houston Dynamo   \n",
       "3  2011-11-20   Los Angeles Galaxy              1      Houston Dynamo   \n",
       "4  2012-10-31           Chicago Fire            1      Houston Dynamo   \n",
       "\n",
       "   away_score season  \n",
       "0           2    plo  \n",
       "1           0    plo  \n",
       "2           2    plo  \n",
       "3           0    plo  \n",
       "4           2    plo  "
      ]
     },
     "execution_count": 15,
     "metadata": {},
     "output_type": "execute_result"
    }
   ],
   "source": [
    "df_pos.head()"
   ]
  },
  {
   "cell_type": "code",
   "execution_count": 16,
   "metadata": {},
   "outputs": [
    {
     "data": {
      "text/plain": [
       "16"
      ]
     },
     "execution_count": 16,
     "metadata": {},
     "output_type": "execute_result"
    }
   ],
   "source": [
    "len(df_pos.home_team.unique())"
   ]
  },
  {
   "cell_type": "code",
   "execution_count": 17,
   "metadata": {},
   "outputs": [
    {
     "data": {
      "text/plain": [
       "array([' Philadelphia Union  ', 'Houston Dynamo ',\n",
       "       'Sporting Kansas City ', ' Los Angeles Galaxy   ', 'Chicago Fire ',\n",
       "       'Houston Dynamo   ', 'Sporting Kansas City  ', 'Houston Dynamo  ',\n",
       "       'Washington D.C. United    ', ' Los Angeles Galaxy          ',\n",
       "       ' Houston Dynamo   ', 'Houston Dynamo       ',\n",
       "       ' New York Red Bull', 'Sporting Kansas City     ',\n",
       "       'Portland Tumbers', 'Seattle'], dtype=object)"
      ]
     },
     "execution_count": 17,
     "metadata": {},
     "output_type": "execute_result"
    }
   ],
   "source": [
    "df_pos.home_team.unique()"
   ]
  },
  {
   "cell_type": "code",
   "execution_count": 18,
   "metadata": {},
   "outputs": [],
   "source": [
    "df_pos.home_team = df_pos.home_team.str.strip()"
   ]
  },
  {
   "cell_type": "code",
   "execution_count": 19,
   "metadata": {},
   "outputs": [
    {
     "data": {
      "text/plain": [
       "9"
      ]
     },
     "execution_count": 19,
     "metadata": {},
     "output_type": "execute_result"
    }
   ],
   "source": [
    "len(df_pos.home_team.unique())"
   ]
  },
  {
   "cell_type": "code",
   "execution_count": 20,
   "metadata": {},
   "outputs": [
    {
     "data": {
      "text/plain": [
       "array(['Philadelphia Union', 'Houston Dynamo', 'Sporting Kansas City',\n",
       "       'Los Angeles Galaxy', 'Chicago Fire', 'Washington D.C. United',\n",
       "       'New York Red Bull', 'Portland Tumbers', 'Seattle'], dtype=object)"
      ]
     },
     "execution_count": 20,
     "metadata": {},
     "output_type": "execute_result"
    }
   ],
   "source": [
    "df_pos.home_team.unique()"
   ]
  },
  {
   "cell_type": "code",
   "execution_count": 21,
   "metadata": {},
   "outputs": [],
   "source": [
    "df_pos = df_pos[df_pos.home_team =='Houston Dynamo']"
   ]
  },
  {
   "cell_type": "code",
   "execution_count": 22,
   "metadata": {},
   "outputs": [
    {
     "data": {
      "text/html": [
       "<div>\n",
       "<style scoped>\n",
       "    .dataframe tbody tr th:only-of-type {\n",
       "        vertical-align: middle;\n",
       "    }\n",
       "\n",
       "    .dataframe tbody tr th {\n",
       "        vertical-align: top;\n",
       "    }\n",
       "\n",
       "    .dataframe thead th {\n",
       "        text-align: right;\n",
       "    }\n",
       "</style>\n",
       "<table border=\"1\" class=\"dataframe\">\n",
       "  <thead>\n",
       "    <tr style=\"text-align: right;\">\n",
       "      <th></th>\n",
       "      <th>full_date</th>\n",
       "      <th>home_team</th>\n",
       "      <th>home_score</th>\n",
       "      <th>away_team</th>\n",
       "      <th>away_score</th>\n",
       "      <th>season</th>\n",
       "    </tr>\n",
       "  </thead>\n",
       "  <tbody>\n",
       "    <tr>\n",
       "      <th>1</th>\n",
       "      <td>2011-11-03</td>\n",
       "      <td>Houston Dynamo</td>\n",
       "      <td>1</td>\n",
       "      <td>Philadelphia Union</td>\n",
       "      <td>0</td>\n",
       "      <td>plo</td>\n",
       "    </tr>\n",
       "    <tr>\n",
       "      <th>5</th>\n",
       "      <td>2012-11-04</td>\n",
       "      <td>Houston Dynamo</td>\n",
       "      <td>2</td>\n",
       "      <td>Sporting Kansas City</td>\n",
       "      <td>0</td>\n",
       "      <td>plo</td>\n",
       "    </tr>\n",
       "    <tr>\n",
       "      <th>7</th>\n",
       "      <td>2012-11-11</td>\n",
       "      <td>Houston Dynamo</td>\n",
       "      <td>3</td>\n",
       "      <td>Washington D.C. United</td>\n",
       "      <td>1</td>\n",
       "      <td>plo</td>\n",
       "    </tr>\n",
       "    <tr>\n",
       "      <th>10</th>\n",
       "      <td>2013-10-31</td>\n",
       "      <td>Houston Dynamo</td>\n",
       "      <td>3</td>\n",
       "      <td>Montreal Impact</td>\n",
       "      <td>0</td>\n",
       "      <td>plo</td>\n",
       "    </tr>\n",
       "    <tr>\n",
       "      <th>11</th>\n",
       "      <td>2013-11-03</td>\n",
       "      <td>Houston Dynamo</td>\n",
       "      <td>2</td>\n",
       "      <td>New York Red Bulls</td>\n",
       "      <td>2</td>\n",
       "      <td>plo</td>\n",
       "    </tr>\n",
       "    <tr>\n",
       "      <th>13</th>\n",
       "      <td>2013-11-09</td>\n",
       "      <td>Houston Dynamo</td>\n",
       "      <td>0</td>\n",
       "      <td>Sporting Kansas City</td>\n",
       "      <td>0</td>\n",
       "      <td>plo</td>\n",
       "    </tr>\n",
       "    <tr>\n",
       "      <th>15</th>\n",
       "      <td>2017-10-26</td>\n",
       "      <td>Houston Dynamo</td>\n",
       "      <td>1</td>\n",
       "      <td>Kansas City</td>\n",
       "      <td>0</td>\n",
       "      <td>plo</td>\n",
       "    </tr>\n",
       "    <tr>\n",
       "      <th>16</th>\n",
       "      <td>2017-10-30</td>\n",
       "      <td>Houston Dynamo</td>\n",
       "      <td>0</td>\n",
       "      <td>Portland Tumbers</td>\n",
       "      <td>0</td>\n",
       "      <td>plo</td>\n",
       "    </tr>\n",
       "    <tr>\n",
       "      <th>18</th>\n",
       "      <td>2017-11-21</td>\n",
       "      <td>Houston Dynamo</td>\n",
       "      <td>0</td>\n",
       "      <td>Seattle</td>\n",
       "      <td>2</td>\n",
       "      <td>plo</td>\n",
       "    </tr>\n",
       "  </tbody>\n",
       "</table>\n",
       "</div>"
      ],
      "text/plain": [
       "     full_date       home_team  home_score                away_team  \\\n",
       "1   2011-11-03  Houston Dynamo           1       Philadelphia Union   \n",
       "5   2012-11-04  Houston Dynamo           2     Sporting Kansas City   \n",
       "7   2012-11-11  Houston Dynamo           3   Washington D.C. United   \n",
       "10  2013-10-31  Houston Dynamo           3          Montreal Impact   \n",
       "11  2013-11-03  Houston Dynamo           2       New York Red Bulls   \n",
       "13  2013-11-09  Houston Dynamo           0     Sporting Kansas City   \n",
       "15  2017-10-26  Houston Dynamo           1              Kansas City   \n",
       "16  2017-10-30  Houston Dynamo           0         Portland Tumbers   \n",
       "18  2017-11-21  Houston Dynamo           0                  Seattle   \n",
       "\n",
       "    away_score season  \n",
       "1            0    plo  \n",
       "5            0    plo  \n",
       "7            1    plo  \n",
       "10           0    plo  \n",
       "11           2    plo  \n",
       "13           0    plo  \n",
       "15           0    plo  \n",
       "16           0    plo  \n",
       "18           2    plo  "
      ]
     },
     "execution_count": 22,
     "metadata": {},
     "output_type": "execute_result"
    }
   ],
   "source": [
    "df_pos"
   ]
  },
  {
   "cell_type": "code",
   "execution_count": null,
   "metadata": {},
   "outputs": [],
   "source": []
  },
  {
   "cell_type": "code",
   "execution_count": null,
   "metadata": {},
   "outputs": [],
   "source": []
  },
  {
   "cell_type": "code",
   "execution_count": null,
   "metadata": {},
   "outputs": [],
   "source": []
  },
  {
   "cell_type": "code",
   "execution_count": 23,
   "metadata": {},
   "outputs": [],
   "source": [
    "frames = [df_reg,df_pos]\n",
    "\n",
    "dynamo = pd.concat(frames)"
   ]
  },
  {
   "cell_type": "code",
   "execution_count": 24,
   "metadata": {},
   "outputs": [
    {
     "name": "stdout",
     "output_type": "stream",
     "text": [
      "<class 'pandas.core.frame.DataFrame'>\n",
      "Int64Index: 137 entries, 1 to 18\n",
      "Data columns (total 6 columns):\n",
      "full_date     137 non-null object\n",
      "home_team     137 non-null object\n",
      "home_score    137 non-null int64\n",
      "away_team     137 non-null object\n",
      "away_score    137 non-null int64\n",
      "season        137 non-null object\n",
      "dtypes: int64(2), object(4)\n",
      "memory usage: 7.5+ KB\n"
     ]
    }
   ],
   "source": [
    "dynamo.info()"
   ]
  },
  {
   "cell_type": "code",
   "execution_count": 25,
   "metadata": {},
   "outputs": [
    {
     "data": {
      "text/html": [
       "<div>\n",
       "<style scoped>\n",
       "    .dataframe tbody tr th:only-of-type {\n",
       "        vertical-align: middle;\n",
       "    }\n",
       "\n",
       "    .dataframe tbody tr th {\n",
       "        vertical-align: top;\n",
       "    }\n",
       "\n",
       "    .dataframe thead th {\n",
       "        text-align: right;\n",
       "    }\n",
       "</style>\n",
       "<table border=\"1\" class=\"dataframe\">\n",
       "  <thead>\n",
       "    <tr style=\"text-align: right;\">\n",
       "      <th></th>\n",
       "      <th>full_date</th>\n",
       "      <th>home_team</th>\n",
       "      <th>home_score</th>\n",
       "      <th>away_team</th>\n",
       "      <th>away_score</th>\n",
       "      <th>season</th>\n",
       "    </tr>\n",
       "  </thead>\n",
       "  <tbody>\n",
       "    <tr>\n",
       "      <th>1</th>\n",
       "      <td>2010-04-01</td>\n",
       "      <td>Houston Dynamo</td>\n",
       "      <td>2</td>\n",
       "      <td>Real Salt Lake</td>\n",
       "      <td>1</td>\n",
       "      <td>reg</td>\n",
       "    </tr>\n",
       "    <tr>\n",
       "      <th>2</th>\n",
       "      <td>2010-04-10</td>\n",
       "      <td>Houston Dynamo</td>\n",
       "      <td>0</td>\n",
       "      <td>LA Galaxy</td>\n",
       "      <td>2</td>\n",
       "      <td>reg</td>\n",
       "    </tr>\n",
       "    <tr>\n",
       "      <th>3</th>\n",
       "      <td>2010-04-17</td>\n",
       "      <td>Houston Dynamo</td>\n",
       "      <td>3</td>\n",
       "      <td>Chivas USA</td>\n",
       "      <td>0</td>\n",
       "      <td>reg</td>\n",
       "    </tr>\n",
       "    <tr>\n",
       "      <th>5</th>\n",
       "      <td>2010-05-01</td>\n",
       "      <td>Houston Dynamo</td>\n",
       "      <td>3</td>\n",
       "      <td>Sporting KC</td>\n",
       "      <td>0</td>\n",
       "      <td>reg</td>\n",
       "    </tr>\n",
       "    <tr>\n",
       "      <th>6</th>\n",
       "      <td>2010-05-05</td>\n",
       "      <td>Houston Dynamo</td>\n",
       "      <td>0</td>\n",
       "      <td>FC Dallas</td>\n",
       "      <td>1</td>\n",
       "      <td>reg</td>\n",
       "    </tr>\n",
       "  </tbody>\n",
       "</table>\n",
       "</div>"
      ],
      "text/plain": [
       "    full_date       home_team  home_score       away_team  away_score season\n",
       "1  2010-04-01  Houston Dynamo           2  Real Salt Lake           1    reg\n",
       "2  2010-04-10  Houston Dynamo           0       LA Galaxy           2    reg\n",
       "3  2010-04-17  Houston Dynamo           3      Chivas USA           0    reg\n",
       "5  2010-05-01  Houston Dynamo           3     Sporting KC           0    reg\n",
       "6  2010-05-05  Houston Dynamo           0       FC Dallas           1    reg"
      ]
     },
     "execution_count": 25,
     "metadata": {},
     "output_type": "execute_result"
    }
   ],
   "source": [
    "dynamo.head()"
   ]
  },
  {
   "cell_type": "code",
   "execution_count": 26,
   "metadata": {},
   "outputs": [],
   "source": [
    "dynamo['beat'] = '10H30'"
   ]
  },
  {
   "cell_type": "code",
   "execution_count": 27,
   "metadata": {},
   "outputs": [
    {
     "name": "stdout",
     "output_type": "stream",
     "text": [
      "<class 'pandas.core.frame.DataFrame'>\n",
      "Int64Index: 137 entries, 1 to 18\n",
      "Data columns (total 7 columns):\n",
      "full_date     137 non-null object\n",
      "home_team     137 non-null object\n",
      "home_score    137 non-null int64\n",
      "away_team     137 non-null object\n",
      "away_score    137 non-null int64\n",
      "season        137 non-null object\n",
      "beat          137 non-null object\n",
      "dtypes: int64(2), object(5)\n",
      "memory usage: 8.6+ KB\n"
     ]
    }
   ],
   "source": [
    "dynamo.info()"
   ]
  },
  {
   "cell_type": "code",
   "execution_count": 28,
   "metadata": {},
   "outputs": [],
   "source": [
    "dynamo.to_csv('sports_data_clean/dynamo_10H30.csv')"
   ]
  },
  {
   "cell_type": "code",
   "execution_count": 29,
   "metadata": {},
   "outputs": [
    {
     "name": "stdout",
     "output_type": "stream",
     "text": [
      "\u001b[0m\u001b[01;32mastros_10_17_plo_clean.csv\u001b[0m*       \u001b[01;32mnfl_08_17_clean.csv\u001b[0m*\r\n",
      "\u001b[01;32mastros_10_17_reg_clean.csv\u001b[0m*       \u001b[01;32mnfl10clean.csv\u001b[0m*\r\n",
      "\u001b[01;32mastros_1A10.csv\u001b[0m*                  \u001b[01;32mnfl10yearsfull.csv\u001b[0m*\r\n",
      "\u001b[01;32mdynamo_10_17_plo.csv\u001b[0m*             \u001b[01;32mnfl17years_clean.csv\u001b[0m*\r\n",
      "\u001b[01;32mdynamo_10_17__reg.csv\u001b[0m*            \u001b[01;32mnfl17years_PST_clean.csv\u001b[0m*\r\n",
      "\u001b[01;32mdynamo_10H30.csv\u001b[0m*                 \u001b[01;32mrice_08_17_clean.csv\u001b[0m*\r\n",
      "\u001b[01;32mhou_nfl_1017_post.csv\u001b[0m*            \u001b[01;32mRice_10H80.csv\u001b[0m*\r\n",
      "\u001b[01;32mhou_nfl_1017_reg.csv\u001b[0m*             \u001b[01;32mrockets_1A10.csv\u001b[0m*\r\n",
      "\u001b[01;32mhou_rockets_08_17_clean.csv\u001b[0m*      \u001b[01;32mTex_15E40.csv\u001b[0m*\r\n",
      "\u001b[01;32mhou_rockets_10_17_plo_clean.csv\u001b[0m*  \u001b[01;32muh_08_17_clean.csv\u001b[0m*\r\n",
      "\u001b[01;32mhou_rockets_10_17_reg_clean.csv\u001b[0m*  \u001b[01;32mUH_10H50.csv\u001b[0m*\r\n"
     ]
    }
   ],
   "source": [
    "ls sports_data_clean/"
   ]
  },
  {
   "cell_type": "code",
   "execution_count": null,
   "metadata": {},
   "outputs": [],
   "source": []
  }
 ],
 "metadata": {
  "kernelspec": {
   "display_name": "Python 3",
   "language": "python",
   "name": "python3"
  },
  "language_info": {
   "codemirror_mode": {
    "name": "ipython",
    "version": 3
   },
   "file_extension": ".py",
   "mimetype": "text/x-python",
   "name": "python",
   "nbconvert_exporter": "python",
   "pygments_lexer": "ipython3",
   "version": "3.6.4"
  }
 },
 "nbformat": 4,
 "nbformat_minor": 2
}
