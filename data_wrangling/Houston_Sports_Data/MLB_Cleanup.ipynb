{
 "cells": [
  {
   "cell_type": "code",
   "execution_count": 1,
   "metadata": {},
   "outputs": [],
   "source": [
    "import pandas as pd\n",
    "import numpy as np\n",
    "import glob, os\n",
    "import re"
   ]
  },
  {
   "cell_type": "markdown",
   "metadata": {},
   "source": [
    "## Source\n",
    "\n",
    "####  baseball-reference.com\n",
    "\n",
    "https://www.baseball-reference.com/teams/HOU/2018-schedule-scores.shtml\n",
    "\n",
    "- saved regular seasons from 2008 - 2017 to csv"
   ]
  },
  {
   "cell_type": "code",
   "execution_count": 2,
   "metadata": {},
   "outputs": [
    {
     "name": "stdout",
     "output_type": "stream",
     "text": [
      "\u001b[0m\u001b[01;32mmlb_h08.csv\u001b[0m*  \u001b[01;32mmlb_h10.csv\u001b[0m*  \u001b[01;32mmlb_h12.csv\u001b[0m*  \u001b[01;32mmlb_h14.csv\u001b[0m*  \u001b[01;32mmlb_h16.csv\u001b[0m*\r\n",
      "\u001b[01;32mmlb_h09.csv\u001b[0m*  \u001b[01;32mmlb_h11.csv\u001b[0m*  \u001b[01;32mmlb_h13.csv\u001b[0m*  \u001b[01;32mmlb_h15.csv\u001b[0m*  \u001b[01;32mmlb_h17.csv\u001b[0m*\r\n"
     ]
    }
   ],
   "source": [
    "ls sports_data_raw/MLB"
   ]
  },
  {
   "cell_type": "markdown",
   "metadata": {},
   "source": [
    "## get all data"
   ]
  },
  {
   "cell_type": "code",
   "execution_count": 3,
   "metadata": {},
   "outputs": [],
   "source": [
    "path = 'sports_data_raw/MLB'\n",
    "all_files = glob.glob(os.path.join(path, \"*.csv\")) \n",
    "\n",
    "df_from_each_file = (pd.read_csv(f) for f in all_files)\n",
    "df   = pd.concat(df_from_each_file, ignore_index=True)"
   ]
  },
  {
   "cell_type": "code",
   "execution_count": 4,
   "metadata": {},
   "outputs": [
    {
     "name": "stdout",
     "output_type": "stream",
     "text": [
      "<class 'pandas.core.frame.DataFrame'>\n",
      "RangeIndex: 1619 entries, 0 to 1618\n",
      "Data columns (total 22 columns):\n",
      "Gm#                1619 non-null int64\n",
      "Year               1619 non-null int64\n",
      "Date               1619 non-null object\n",
      "Unnamed: 3         1619 non-null object\n",
      "Tm                 1619 non-null object\n",
      "Unnamed: 5         810 non-null object\n",
      "Opp                1619 non-null object\n",
      "W/L                1619 non-null object\n",
      "R                  1619 non-null int64\n",
      "RA                 1619 non-null int64\n",
      "Inn                126 non-null float64\n",
      "W-L                1619 non-null object\n",
      "Rank               1619 non-null int64\n",
      "GB                 1619 non-null object\n",
      "Win                1619 non-null object\n",
      "Loss               1619 non-null object\n",
      "Save               811 non-null object\n",
      "Time               1619 non-null object\n",
      "D/N                1619 non-null object\n",
      "Attendance         1618 non-null object\n",
      "Streak             1619 non-null object\n",
      "Orig. Scheduled    1 non-null object\n",
      "dtypes: float64(1), int64(5), object(16)\n",
      "memory usage: 278.3+ KB\n"
     ]
    }
   ],
   "source": [
    "df.info()"
   ]
  },
  {
   "cell_type": "code",
   "execution_count": 5,
   "metadata": {},
   "outputs": [
    {
     "data": {
      "text/html": [
       "<div>\n",
       "<style scoped>\n",
       "    .dataframe tbody tr th:only-of-type {\n",
       "        vertical-align: middle;\n",
       "    }\n",
       "\n",
       "    .dataframe tbody tr th {\n",
       "        vertical-align: top;\n",
       "    }\n",
       "\n",
       "    .dataframe thead th {\n",
       "        text-align: right;\n",
       "    }\n",
       "</style>\n",
       "<table border=\"1\" class=\"dataframe\">\n",
       "  <thead>\n",
       "    <tr style=\"text-align: right;\">\n",
       "      <th></th>\n",
       "      <th>Gm#</th>\n",
       "      <th>Year</th>\n",
       "      <th>Date</th>\n",
       "      <th>Unnamed: 3</th>\n",
       "      <th>Tm</th>\n",
       "      <th>Unnamed: 5</th>\n",
       "      <th>Opp</th>\n",
       "      <th>W/L</th>\n",
       "      <th>R</th>\n",
       "      <th>RA</th>\n",
       "      <th>...</th>\n",
       "      <th>Rank</th>\n",
       "      <th>GB</th>\n",
       "      <th>Win</th>\n",
       "      <th>Loss</th>\n",
       "      <th>Save</th>\n",
       "      <th>Time</th>\n",
       "      <th>D/N</th>\n",
       "      <th>Attendance</th>\n",
       "      <th>Streak</th>\n",
       "      <th>Orig. Scheduled</th>\n",
       "    </tr>\n",
       "  </thead>\n",
       "  <tbody>\n",
       "    <tr>\n",
       "      <th>0</th>\n",
       "      <td>1</td>\n",
       "      <td>2008</td>\n",
       "      <td>Monday, Mar 31</td>\n",
       "      <td>boxscore</td>\n",
       "      <td>HOU</td>\n",
       "      <td>@</td>\n",
       "      <td>SDP</td>\n",
       "      <td>L</td>\n",
       "      <td>0</td>\n",
       "      <td>4</td>\n",
       "      <td>...</td>\n",
       "      <td>4</td>\n",
       "      <td>1</td>\n",
       "      <td>Peavy</td>\n",
       "      <td>Oswalt</td>\n",
       "      <td>NaN</td>\n",
       "      <td>2:53</td>\n",
       "      <td>N</td>\n",
       "      <td>44,965</td>\n",
       "      <td>-</td>\n",
       "      <td>NaN</td>\n",
       "    </tr>\n",
       "    <tr>\n",
       "      <th>1</th>\n",
       "      <td>2</td>\n",
       "      <td>2008</td>\n",
       "      <td>Tuesday, Apr 1</td>\n",
       "      <td>boxscore</td>\n",
       "      <td>HOU</td>\n",
       "      <td>@</td>\n",
       "      <td>SDP</td>\n",
       "      <td>L</td>\n",
       "      <td>1</td>\n",
       "      <td>2</td>\n",
       "      <td>...</td>\n",
       "      <td>6</td>\n",
       "      <td>1.5</td>\n",
       "      <td>Young</td>\n",
       "      <td>Backe</td>\n",
       "      <td>Hoffman</td>\n",
       "      <td>2:49</td>\n",
       "      <td>N</td>\n",
       "      <td>20,825</td>\n",
       "      <td>--</td>\n",
       "      <td>NaN</td>\n",
       "    </tr>\n",
       "    <tr>\n",
       "      <th>2</th>\n",
       "      <td>3</td>\n",
       "      <td>2008</td>\n",
       "      <td>Wednesday, Apr 2</td>\n",
       "      <td>boxscore</td>\n",
       "      <td>HOU</td>\n",
       "      <td>@</td>\n",
       "      <td>SDP</td>\n",
       "      <td>W</td>\n",
       "      <td>9</td>\n",
       "      <td>6</td>\n",
       "      <td>...</td>\n",
       "      <td>5</td>\n",
       "      <td>1.5</td>\n",
       "      <td>Valverde</td>\n",
       "      <td>Hoffman</td>\n",
       "      <td>NaN</td>\n",
       "      <td>2:53</td>\n",
       "      <td>N</td>\n",
       "      <td>18,714</td>\n",
       "      <td>+</td>\n",
       "      <td>NaN</td>\n",
       "    </tr>\n",
       "    <tr>\n",
       "      <th>3</th>\n",
       "      <td>4</td>\n",
       "      <td>2008</td>\n",
       "      <td>Thursday, Apr 3</td>\n",
       "      <td>boxscore</td>\n",
       "      <td>HOU</td>\n",
       "      <td>@</td>\n",
       "      <td>SDP</td>\n",
       "      <td>L</td>\n",
       "      <td>2</td>\n",
       "      <td>3</td>\n",
       "      <td>...</td>\n",
       "      <td>6</td>\n",
       "      <td>1.5</td>\n",
       "      <td>Gonzalez</td>\n",
       "      <td>Villarreal</td>\n",
       "      <td>Hoffman</td>\n",
       "      <td>2:29</td>\n",
       "      <td>D</td>\n",
       "      <td>24,432</td>\n",
       "      <td>-</td>\n",
       "      <td>NaN</td>\n",
       "    </tr>\n",
       "    <tr>\n",
       "      <th>4</th>\n",
       "      <td>5</td>\n",
       "      <td>2008</td>\n",
       "      <td>Friday, Apr 4</td>\n",
       "      <td>boxscore</td>\n",
       "      <td>HOU</td>\n",
       "      <td>@</td>\n",
       "      <td>CHC</td>\n",
       "      <td>W</td>\n",
       "      <td>4</td>\n",
       "      <td>3</td>\n",
       "      <td>...</td>\n",
       "      <td>5</td>\n",
       "      <td>1.5</td>\n",
       "      <td>Wright</td>\n",
       "      <td>Lieber</td>\n",
       "      <td>Valverde</td>\n",
       "      <td>2:26</td>\n",
       "      <td>D</td>\n",
       "      <td>37,812</td>\n",
       "      <td>+</td>\n",
       "      <td>NaN</td>\n",
       "    </tr>\n",
       "  </tbody>\n",
       "</table>\n",
       "<p>5 rows × 22 columns</p>\n",
       "</div>"
      ],
      "text/plain": [
       "   Gm#  Year              Date Unnamed: 3   Tm Unnamed: 5  Opp W/L  R  RA  \\\n",
       "0    1  2008    Monday, Mar 31   boxscore  HOU          @  SDP   L  0   4   \n",
       "1    2  2008    Tuesday, Apr 1   boxscore  HOU          @  SDP   L  1   2   \n",
       "2    3  2008  Wednesday, Apr 2   boxscore  HOU          @  SDP   W  9   6   \n",
       "3    4  2008   Thursday, Apr 3   boxscore  HOU          @  SDP   L  2   3   \n",
       "4    5  2008     Friday, Apr 4   boxscore  HOU          @  CHC   W  4   3   \n",
       "\n",
       "        ...        Rank   GB       Win        Loss      Save  Time D/N  \\\n",
       "0       ...           4    1     Peavy      Oswalt       NaN  2:53   N   \n",
       "1       ...           6  1.5     Young       Backe   Hoffman  2:49   N   \n",
       "2       ...           5  1.5  Valverde     Hoffman       NaN  2:53   N   \n",
       "3       ...           6  1.5  Gonzalez  Villarreal   Hoffman  2:29   D   \n",
       "4       ...           5  1.5    Wright      Lieber  Valverde  2:26   D   \n",
       "\n",
       "  Attendance Streak Orig. Scheduled  \n",
       "0     44,965      -             NaN  \n",
       "1     20,825     --             NaN  \n",
       "2     18,714      +             NaN  \n",
       "3     24,432      -             NaN  \n",
       "4     37,812      +             NaN  \n",
       "\n",
       "[5 rows x 22 columns]"
      ]
     },
     "execution_count": 5,
     "metadata": {},
     "output_type": "execute_result"
    }
   ],
   "source": [
    "df.head()"
   ]
  },
  {
   "cell_type": "markdown",
   "metadata": {},
   "source": [
    "## Create slice with only needed columns"
   ]
  },
  {
   "cell_type": "code",
   "execution_count": 6,
   "metadata": {},
   "outputs": [],
   "source": [
    "mlb = df[['Date','Year','Tm','R','Unnamed: 5','Opp','RA','W/L', 'Attendance']]"
   ]
  },
  {
   "cell_type": "code",
   "execution_count": 7,
   "metadata": {},
   "outputs": [
    {
     "data": {
      "text/html": [
       "<div>\n",
       "<style scoped>\n",
       "    .dataframe tbody tr th:only-of-type {\n",
       "        vertical-align: middle;\n",
       "    }\n",
       "\n",
       "    .dataframe tbody tr th {\n",
       "        vertical-align: top;\n",
       "    }\n",
       "\n",
       "    .dataframe thead th {\n",
       "        text-align: right;\n",
       "    }\n",
       "</style>\n",
       "<table border=\"1\" class=\"dataframe\">\n",
       "  <thead>\n",
       "    <tr style=\"text-align: right;\">\n",
       "      <th></th>\n",
       "      <th>Date</th>\n",
       "      <th>Year</th>\n",
       "      <th>Tm</th>\n",
       "      <th>R</th>\n",
       "      <th>Unnamed: 5</th>\n",
       "      <th>Opp</th>\n",
       "      <th>RA</th>\n",
       "      <th>W/L</th>\n",
       "      <th>Attendance</th>\n",
       "    </tr>\n",
       "  </thead>\n",
       "  <tbody>\n",
       "    <tr>\n",
       "      <th>0</th>\n",
       "      <td>Monday, Mar 31</td>\n",
       "      <td>2008</td>\n",
       "      <td>HOU</td>\n",
       "      <td>0</td>\n",
       "      <td>@</td>\n",
       "      <td>SDP</td>\n",
       "      <td>4</td>\n",
       "      <td>L</td>\n",
       "      <td>44,965</td>\n",
       "    </tr>\n",
       "    <tr>\n",
       "      <th>1</th>\n",
       "      <td>Tuesday, Apr 1</td>\n",
       "      <td>2008</td>\n",
       "      <td>HOU</td>\n",
       "      <td>1</td>\n",
       "      <td>@</td>\n",
       "      <td>SDP</td>\n",
       "      <td>2</td>\n",
       "      <td>L</td>\n",
       "      <td>20,825</td>\n",
       "    </tr>\n",
       "    <tr>\n",
       "      <th>2</th>\n",
       "      <td>Wednesday, Apr 2</td>\n",
       "      <td>2008</td>\n",
       "      <td>HOU</td>\n",
       "      <td>9</td>\n",
       "      <td>@</td>\n",
       "      <td>SDP</td>\n",
       "      <td>6</td>\n",
       "      <td>W</td>\n",
       "      <td>18,714</td>\n",
       "    </tr>\n",
       "    <tr>\n",
       "      <th>3</th>\n",
       "      <td>Thursday, Apr 3</td>\n",
       "      <td>2008</td>\n",
       "      <td>HOU</td>\n",
       "      <td>2</td>\n",
       "      <td>@</td>\n",
       "      <td>SDP</td>\n",
       "      <td>3</td>\n",
       "      <td>L</td>\n",
       "      <td>24,432</td>\n",
       "    </tr>\n",
       "    <tr>\n",
       "      <th>4</th>\n",
       "      <td>Friday, Apr 4</td>\n",
       "      <td>2008</td>\n",
       "      <td>HOU</td>\n",
       "      <td>4</td>\n",
       "      <td>@</td>\n",
       "      <td>CHC</td>\n",
       "      <td>3</td>\n",
       "      <td>W</td>\n",
       "      <td>37,812</td>\n",
       "    </tr>\n",
       "  </tbody>\n",
       "</table>\n",
       "</div>"
      ],
      "text/plain": [
       "               Date  Year   Tm  R Unnamed: 5  Opp  RA W/L Attendance\n",
       "0    Monday, Mar 31  2008  HOU  0          @  SDP   4   L     44,965\n",
       "1    Tuesday, Apr 1  2008  HOU  1          @  SDP   2   L     20,825\n",
       "2  Wednesday, Apr 2  2008  HOU  9          @  SDP   6   W     18,714\n",
       "3   Thursday, Apr 3  2008  HOU  2          @  SDP   3   L     24,432\n",
       "4     Friday, Apr 4  2008  HOU  4          @  CHC   3   W     37,812"
      ]
     },
     "execution_count": 7,
     "metadata": {},
     "output_type": "execute_result"
    }
   ],
   "source": [
    "mlb.head()"
   ]
  },
  {
   "cell_type": "code",
   "execution_count": 8,
   "metadata": {},
   "outputs": [
    {
     "name": "stdout",
     "output_type": "stream",
     "text": [
      "<class 'pandas.core.frame.DataFrame'>\n",
      "RangeIndex: 1619 entries, 0 to 1618\n",
      "Data columns (total 9 columns):\n",
      "Date          1619 non-null object\n",
      "Year          1619 non-null int64\n",
      "Tm            1619 non-null object\n",
      "R             1619 non-null int64\n",
      "Unnamed: 5    810 non-null object\n",
      "Opp           1619 non-null object\n",
      "RA            1619 non-null int64\n",
      "W/L           1619 non-null object\n",
      "Attendance    1618 non-null object\n",
      "dtypes: int64(3), object(6)\n",
      "memory usage: 113.9+ KB\n"
     ]
    }
   ],
   "source": [
    "mlb.info()"
   ]
  },
  {
   "cell_type": "markdown",
   "metadata": {},
   "source": [
    "## convert year column to string"
   ]
  },
  {
   "cell_type": "code",
   "execution_count": 9,
   "metadata": {},
   "outputs": [
    {
     "name": "stderr",
     "output_type": "stream",
     "text": [
      "/home/salas/miniconda3/envs/springboard/lib/python3.6/site-packages/ipykernel_launcher.py:1: SettingWithCopyWarning: \n",
      "A value is trying to be set on a copy of a slice from a DataFrame.\n",
      "Try using .loc[row_indexer,col_indexer] = value instead\n",
      "\n",
      "See the caveats in the documentation: http://pandas.pydata.org/pandas-docs/stable/indexing.html#indexing-view-versus-copy\n",
      "  \"\"\"Entry point for launching an IPython kernel.\n"
     ]
    }
   ],
   "source": [
    "mlb['Year'] = mlb['Year'].astype(str)"
   ]
  },
  {
   "cell_type": "code",
   "execution_count": 10,
   "metadata": {},
   "outputs": [
    {
     "name": "stdout",
     "output_type": "stream",
     "text": [
      "<class 'pandas.core.frame.DataFrame'>\n",
      "RangeIndex: 1619 entries, 0 to 1618\n",
      "Data columns (total 9 columns):\n",
      "Date          1619 non-null object\n",
      "Year          1619 non-null object\n",
      "Tm            1619 non-null object\n",
      "R             1619 non-null int64\n",
      "Unnamed: 5    810 non-null object\n",
      "Opp           1619 non-null object\n",
      "RA            1619 non-null int64\n",
      "W/L           1619 non-null object\n",
      "Attendance    1618 non-null object\n",
      "dtypes: int64(2), object(7)\n",
      "memory usage: 113.9+ KB\n"
     ]
    }
   ],
   "source": [
    "mlb.info()"
   ]
  },
  {
   "cell_type": "markdown",
   "metadata": {},
   "source": [
    "## Create new column with full date"
   ]
  },
  {
   "cell_type": "code",
   "execution_count": 11,
   "metadata": {},
   "outputs": [
    {
     "name": "stderr",
     "output_type": "stream",
     "text": [
      "/home/salas/miniconda3/envs/springboard/lib/python3.6/site-packages/ipykernel_launcher.py:1: SettingWithCopyWarning: \n",
      "A value is trying to be set on a copy of a slice from a DataFrame.\n",
      "Try using .loc[row_indexer,col_indexer] = value instead\n",
      "\n",
      "See the caveats in the documentation: http://pandas.pydata.org/pandas-docs/stable/indexing.html#indexing-view-versus-copy\n",
      "  \"\"\"Entry point for launching an IPython kernel.\n"
     ]
    }
   ],
   "source": [
    "mlb['full_date'] = mlb['Date']+' '+ mlb['Year']"
   ]
  },
  {
   "cell_type": "code",
   "execution_count": 12,
   "metadata": {},
   "outputs": [
    {
     "data": {
      "text/html": [
       "<div>\n",
       "<style scoped>\n",
       "    .dataframe tbody tr th:only-of-type {\n",
       "        vertical-align: middle;\n",
       "    }\n",
       "\n",
       "    .dataframe tbody tr th {\n",
       "        vertical-align: top;\n",
       "    }\n",
       "\n",
       "    .dataframe thead th {\n",
       "        text-align: right;\n",
       "    }\n",
       "</style>\n",
       "<table border=\"1\" class=\"dataframe\">\n",
       "  <thead>\n",
       "    <tr style=\"text-align: right;\">\n",
       "      <th></th>\n",
       "      <th>Date</th>\n",
       "      <th>Year</th>\n",
       "      <th>Tm</th>\n",
       "      <th>R</th>\n",
       "      <th>Unnamed: 5</th>\n",
       "      <th>Opp</th>\n",
       "      <th>RA</th>\n",
       "      <th>W/L</th>\n",
       "      <th>Attendance</th>\n",
       "      <th>full_date</th>\n",
       "    </tr>\n",
       "  </thead>\n",
       "  <tbody>\n",
       "    <tr>\n",
       "      <th>0</th>\n",
       "      <td>Monday, Mar 31</td>\n",
       "      <td>2008</td>\n",
       "      <td>HOU</td>\n",
       "      <td>0</td>\n",
       "      <td>@</td>\n",
       "      <td>SDP</td>\n",
       "      <td>4</td>\n",
       "      <td>L</td>\n",
       "      <td>44,965</td>\n",
       "      <td>Monday, Mar 31 2008</td>\n",
       "    </tr>\n",
       "    <tr>\n",
       "      <th>1</th>\n",
       "      <td>Tuesday, Apr 1</td>\n",
       "      <td>2008</td>\n",
       "      <td>HOU</td>\n",
       "      <td>1</td>\n",
       "      <td>@</td>\n",
       "      <td>SDP</td>\n",
       "      <td>2</td>\n",
       "      <td>L</td>\n",
       "      <td>20,825</td>\n",
       "      <td>Tuesday, Apr 1 2008</td>\n",
       "    </tr>\n",
       "    <tr>\n",
       "      <th>2</th>\n",
       "      <td>Wednesday, Apr 2</td>\n",
       "      <td>2008</td>\n",
       "      <td>HOU</td>\n",
       "      <td>9</td>\n",
       "      <td>@</td>\n",
       "      <td>SDP</td>\n",
       "      <td>6</td>\n",
       "      <td>W</td>\n",
       "      <td>18,714</td>\n",
       "      <td>Wednesday, Apr 2 2008</td>\n",
       "    </tr>\n",
       "    <tr>\n",
       "      <th>3</th>\n",
       "      <td>Thursday, Apr 3</td>\n",
       "      <td>2008</td>\n",
       "      <td>HOU</td>\n",
       "      <td>2</td>\n",
       "      <td>@</td>\n",
       "      <td>SDP</td>\n",
       "      <td>3</td>\n",
       "      <td>L</td>\n",
       "      <td>24,432</td>\n",
       "      <td>Thursday, Apr 3 2008</td>\n",
       "    </tr>\n",
       "    <tr>\n",
       "      <th>4</th>\n",
       "      <td>Friday, Apr 4</td>\n",
       "      <td>2008</td>\n",
       "      <td>HOU</td>\n",
       "      <td>4</td>\n",
       "      <td>@</td>\n",
       "      <td>CHC</td>\n",
       "      <td>3</td>\n",
       "      <td>W</td>\n",
       "      <td>37,812</td>\n",
       "      <td>Friday, Apr 4 2008</td>\n",
       "    </tr>\n",
       "  </tbody>\n",
       "</table>\n",
       "</div>"
      ],
      "text/plain": [
       "               Date  Year   Tm  R Unnamed: 5  Opp  RA W/L Attendance  \\\n",
       "0    Monday, Mar 31  2008  HOU  0          @  SDP   4   L     44,965   \n",
       "1    Tuesday, Apr 1  2008  HOU  1          @  SDP   2   L     20,825   \n",
       "2  Wednesday, Apr 2  2008  HOU  9          @  SDP   6   W     18,714   \n",
       "3   Thursday, Apr 3  2008  HOU  2          @  SDP   3   L     24,432   \n",
       "4     Friday, Apr 4  2008  HOU  4          @  CHC   3   W     37,812   \n",
       "\n",
       "               full_date  \n",
       "0    Monday, Mar 31 2008  \n",
       "1    Tuesday, Apr 1 2008  \n",
       "2  Wednesday, Apr 2 2008  \n",
       "3   Thursday, Apr 3 2008  \n",
       "4     Friday, Apr 4 2008  "
      ]
     },
     "execution_count": 12,
     "metadata": {},
     "output_type": "execute_result"
    }
   ],
   "source": [
    "mlb.head()"
   ]
  },
  {
   "cell_type": "markdown",
   "metadata": {},
   "source": [
    "## Remove parenthesis from dates from double  games"
   ]
  },
  {
   "cell_type": "code",
   "execution_count": 13,
   "metadata": {},
   "outputs": [
    {
     "name": "stderr",
     "output_type": "stream",
     "text": [
      "/home/salas/miniconda3/envs/springboard/lib/python3.6/site-packages/ipykernel_launcher.py:1: SettingWithCopyWarning: \n",
      "A value is trying to be set on a copy of a slice from a DataFrame.\n",
      "Try using .loc[row_indexer,col_indexer] = value instead\n",
      "\n",
      "See the caveats in the documentation: http://pandas.pydata.org/pandas-docs/stable/indexing.html#indexing-view-versus-copy\n",
      "  \"\"\"Entry point for launching an IPython kernel.\n"
     ]
    }
   ],
   "source": [
    "mlb['full_date'] = mlb['full_date'].str.replace(r\"\\(.*\\)\",\" \")"
   ]
  },
  {
   "cell_type": "code",
   "execution_count": 14,
   "metadata": {},
   "outputs": [
    {
     "data": {
      "text/html": [
       "<div>\n",
       "<style scoped>\n",
       "    .dataframe tbody tr th:only-of-type {\n",
       "        vertical-align: middle;\n",
       "    }\n",
       "\n",
       "    .dataframe tbody tr th {\n",
       "        vertical-align: top;\n",
       "    }\n",
       "\n",
       "    .dataframe thead th {\n",
       "        text-align: right;\n",
       "    }\n",
       "</style>\n",
       "<table border=\"1\" class=\"dataframe\">\n",
       "  <thead>\n",
       "    <tr style=\"text-align: right;\">\n",
       "      <th></th>\n",
       "      <th>Date</th>\n",
       "      <th>Year</th>\n",
       "      <th>Tm</th>\n",
       "      <th>R</th>\n",
       "      <th>Unnamed: 5</th>\n",
       "      <th>Opp</th>\n",
       "      <th>RA</th>\n",
       "      <th>W/L</th>\n",
       "      <th>Attendance</th>\n",
       "      <th>full_date</th>\n",
       "    </tr>\n",
       "  </thead>\n",
       "  <tbody>\n",
       "    <tr>\n",
       "      <th>1590</th>\n",
       "      <td>Saturday Sep 2 (1)</td>\n",
       "      <td>2017</td>\n",
       "      <td>HOU</td>\n",
       "      <td>12</td>\n",
       "      <td>NaN</td>\n",
       "      <td>NYM</td>\n",
       "      <td>8</td>\n",
       "      <td>W</td>\n",
       "      <td>30319</td>\n",
       "      <td>Saturday Sep 2   2017</td>\n",
       "    </tr>\n",
       "  </tbody>\n",
       "</table>\n",
       "</div>"
      ],
      "text/plain": [
       "                    Date  Year   Tm   R Unnamed: 5  Opp  RA W/L Attendance  \\\n",
       "1590  Saturday Sep 2 (1)  2017  HOU  12        NaN  NYM   8   W      30319   \n",
       "\n",
       "                  full_date  \n",
       "1590  Saturday Sep 2   2017  "
      ]
     },
     "execution_count": 14,
     "metadata": {},
     "output_type": "execute_result"
    }
   ],
   "source": [
    "mlb.loc[[1590]]"
   ]
  },
  {
   "cell_type": "markdown",
   "metadata": {},
   "source": [
    "## convert full_date to datetime"
   ]
  },
  {
   "cell_type": "code",
   "execution_count": 15,
   "metadata": {},
   "outputs": [
    {
     "name": "stderr",
     "output_type": "stream",
     "text": [
      "/home/salas/miniconda3/envs/springboard/lib/python3.6/site-packages/ipykernel_launcher.py:1: SettingWithCopyWarning: \n",
      "A value is trying to be set on a copy of a slice from a DataFrame.\n",
      "Try using .loc[row_indexer,col_indexer] = value instead\n",
      "\n",
      "See the caveats in the documentation: http://pandas.pydata.org/pandas-docs/stable/indexing.html#indexing-view-versus-copy\n",
      "  \"\"\"Entry point for launching an IPython kernel.\n"
     ]
    }
   ],
   "source": [
    "mlb['full_date'] = pd.to_datetime(mlb['full_date'])"
   ]
  },
  {
   "cell_type": "code",
   "execution_count": 16,
   "metadata": {},
   "outputs": [
    {
     "data": {
      "text/html": [
       "<div>\n",
       "<style scoped>\n",
       "    .dataframe tbody tr th:only-of-type {\n",
       "        vertical-align: middle;\n",
       "    }\n",
       "\n",
       "    .dataframe tbody tr th {\n",
       "        vertical-align: top;\n",
       "    }\n",
       "\n",
       "    .dataframe thead th {\n",
       "        text-align: right;\n",
       "    }\n",
       "</style>\n",
       "<table border=\"1\" class=\"dataframe\">\n",
       "  <thead>\n",
       "    <tr style=\"text-align: right;\">\n",
       "      <th></th>\n",
       "      <th>Date</th>\n",
       "      <th>Year</th>\n",
       "      <th>Tm</th>\n",
       "      <th>R</th>\n",
       "      <th>Unnamed: 5</th>\n",
       "      <th>Opp</th>\n",
       "      <th>RA</th>\n",
       "      <th>W/L</th>\n",
       "      <th>Attendance</th>\n",
       "      <th>full_date</th>\n",
       "    </tr>\n",
       "  </thead>\n",
       "  <tbody>\n",
       "    <tr>\n",
       "      <th>0</th>\n",
       "      <td>Monday, Mar 31</td>\n",
       "      <td>2008</td>\n",
       "      <td>HOU</td>\n",
       "      <td>0</td>\n",
       "      <td>@</td>\n",
       "      <td>SDP</td>\n",
       "      <td>4</td>\n",
       "      <td>L</td>\n",
       "      <td>44,965</td>\n",
       "      <td>2008-03-31</td>\n",
       "    </tr>\n",
       "    <tr>\n",
       "      <th>1</th>\n",
       "      <td>Tuesday, Apr 1</td>\n",
       "      <td>2008</td>\n",
       "      <td>HOU</td>\n",
       "      <td>1</td>\n",
       "      <td>@</td>\n",
       "      <td>SDP</td>\n",
       "      <td>2</td>\n",
       "      <td>L</td>\n",
       "      <td>20,825</td>\n",
       "      <td>2008-04-01</td>\n",
       "    </tr>\n",
       "    <tr>\n",
       "      <th>2</th>\n",
       "      <td>Wednesday, Apr 2</td>\n",
       "      <td>2008</td>\n",
       "      <td>HOU</td>\n",
       "      <td>9</td>\n",
       "      <td>@</td>\n",
       "      <td>SDP</td>\n",
       "      <td>6</td>\n",
       "      <td>W</td>\n",
       "      <td>18,714</td>\n",
       "      <td>2008-04-02</td>\n",
       "    </tr>\n",
       "    <tr>\n",
       "      <th>3</th>\n",
       "      <td>Thursday, Apr 3</td>\n",
       "      <td>2008</td>\n",
       "      <td>HOU</td>\n",
       "      <td>2</td>\n",
       "      <td>@</td>\n",
       "      <td>SDP</td>\n",
       "      <td>3</td>\n",
       "      <td>L</td>\n",
       "      <td>24,432</td>\n",
       "      <td>2008-04-03</td>\n",
       "    </tr>\n",
       "    <tr>\n",
       "      <th>4</th>\n",
       "      <td>Friday, Apr 4</td>\n",
       "      <td>2008</td>\n",
       "      <td>HOU</td>\n",
       "      <td>4</td>\n",
       "      <td>@</td>\n",
       "      <td>CHC</td>\n",
       "      <td>3</td>\n",
       "      <td>W</td>\n",
       "      <td>37,812</td>\n",
       "      <td>2008-04-04</td>\n",
       "    </tr>\n",
       "  </tbody>\n",
       "</table>\n",
       "</div>"
      ],
      "text/plain": [
       "               Date  Year   Tm  R Unnamed: 5  Opp  RA W/L Attendance  \\\n",
       "0    Monday, Mar 31  2008  HOU  0          @  SDP   4   L     44,965   \n",
       "1    Tuesday, Apr 1  2008  HOU  1          @  SDP   2   L     20,825   \n",
       "2  Wednesday, Apr 2  2008  HOU  9          @  SDP   6   W     18,714   \n",
       "3   Thursday, Apr 3  2008  HOU  2          @  SDP   3   L     24,432   \n",
       "4     Friday, Apr 4  2008  HOU  4          @  CHC   3   W     37,812   \n",
       "\n",
       "   full_date  \n",
       "0 2008-03-31  \n",
       "1 2008-04-01  \n",
       "2 2008-04-02  \n",
       "3 2008-04-03  \n",
       "4 2008-04-04  "
      ]
     },
     "execution_count": 16,
     "metadata": {},
     "output_type": "execute_result"
    }
   ],
   "source": [
    "mlb.head()"
   ]
  },
  {
   "cell_type": "markdown",
   "metadata": {},
   "source": [
    "## Select columns\n"
   ]
  },
  {
   "cell_type": "code",
   "execution_count": 17,
   "metadata": {},
   "outputs": [],
   "source": [
    "astros = mlb[['full_date','Tm','R','Unnamed: 5','Opp','RA','W/L','Attendance']]"
   ]
  },
  {
   "cell_type": "code",
   "execution_count": 18,
   "metadata": {},
   "outputs": [
    {
     "data": {
      "text/html": [
       "<div>\n",
       "<style scoped>\n",
       "    .dataframe tbody tr th:only-of-type {\n",
       "        vertical-align: middle;\n",
       "    }\n",
       "\n",
       "    .dataframe tbody tr th {\n",
       "        vertical-align: top;\n",
       "    }\n",
       "\n",
       "    .dataframe thead th {\n",
       "        text-align: right;\n",
       "    }\n",
       "</style>\n",
       "<table border=\"1\" class=\"dataframe\">\n",
       "  <thead>\n",
       "    <tr style=\"text-align: right;\">\n",
       "      <th></th>\n",
       "      <th>full_date</th>\n",
       "      <th>Tm</th>\n",
       "      <th>R</th>\n",
       "      <th>Unnamed: 5</th>\n",
       "      <th>Opp</th>\n",
       "      <th>RA</th>\n",
       "      <th>W/L</th>\n",
       "      <th>Attendance</th>\n",
       "    </tr>\n",
       "  </thead>\n",
       "  <tbody>\n",
       "    <tr>\n",
       "      <th>0</th>\n",
       "      <td>2008-03-31</td>\n",
       "      <td>HOU</td>\n",
       "      <td>0</td>\n",
       "      <td>@</td>\n",
       "      <td>SDP</td>\n",
       "      <td>4</td>\n",
       "      <td>L</td>\n",
       "      <td>44,965</td>\n",
       "    </tr>\n",
       "    <tr>\n",
       "      <th>1</th>\n",
       "      <td>2008-04-01</td>\n",
       "      <td>HOU</td>\n",
       "      <td>1</td>\n",
       "      <td>@</td>\n",
       "      <td>SDP</td>\n",
       "      <td>2</td>\n",
       "      <td>L</td>\n",
       "      <td>20,825</td>\n",
       "    </tr>\n",
       "    <tr>\n",
       "      <th>2</th>\n",
       "      <td>2008-04-02</td>\n",
       "      <td>HOU</td>\n",
       "      <td>9</td>\n",
       "      <td>@</td>\n",
       "      <td>SDP</td>\n",
       "      <td>6</td>\n",
       "      <td>W</td>\n",
       "      <td>18,714</td>\n",
       "    </tr>\n",
       "    <tr>\n",
       "      <th>3</th>\n",
       "      <td>2008-04-03</td>\n",
       "      <td>HOU</td>\n",
       "      <td>2</td>\n",
       "      <td>@</td>\n",
       "      <td>SDP</td>\n",
       "      <td>3</td>\n",
       "      <td>L</td>\n",
       "      <td>24,432</td>\n",
       "    </tr>\n",
       "    <tr>\n",
       "      <th>4</th>\n",
       "      <td>2008-04-04</td>\n",
       "      <td>HOU</td>\n",
       "      <td>4</td>\n",
       "      <td>@</td>\n",
       "      <td>CHC</td>\n",
       "      <td>3</td>\n",
       "      <td>W</td>\n",
       "      <td>37,812</td>\n",
       "    </tr>\n",
       "  </tbody>\n",
       "</table>\n",
       "</div>"
      ],
      "text/plain": [
       "   full_date   Tm  R Unnamed: 5  Opp  RA W/L Attendance\n",
       "0 2008-03-31  HOU  0          @  SDP   4   L     44,965\n",
       "1 2008-04-01  HOU  1          @  SDP   2   L     20,825\n",
       "2 2008-04-02  HOU  9          @  SDP   6   W     18,714\n",
       "3 2008-04-03  HOU  2          @  SDP   3   L     24,432\n",
       "4 2008-04-04  HOU  4          @  CHC   3   W     37,812"
      ]
     },
     "execution_count": 18,
     "metadata": {},
     "output_type": "execute_result"
    }
   ],
   "source": [
    "astros.head()"
   ]
  },
  {
   "cell_type": "markdown",
   "metadata": {},
   "source": [
    "## Rename columns"
   ]
  },
  {
   "cell_type": "code",
   "execution_count": 19,
   "metadata": {},
   "outputs": [
    {
     "name": "stderr",
     "output_type": "stream",
     "text": [
      "/home/salas/miniconda3/envs/springboard/lib/python3.6/site-packages/pandas/core/frame.py:3027: SettingWithCopyWarning: \n",
      "A value is trying to be set on a copy of a slice from a DataFrame\n",
      "\n",
      "See the caveats in the documentation: http://pandas.pydata.org/pandas-docs/stable/indexing.html#indexing-view-versus-copy\n",
      "  return super(DataFrame, self).rename(**kwargs)\n"
     ]
    }
   ],
   "source": [
    "astros.rename(columns={'full_date': 'date',\n",
    "                       'Tm': 'team',\n",
    "                       'R':'team_score',\n",
    "                       'Unnamed: 5':'home_away',\n",
    "                      'Opp': 'opposing',\n",
    "                      'RA':'opp_score',\n",
    "                      'W/L':'win_lost',\n",
    "                      'Attendance':'attendance'}, inplace=True)\n"
   ]
  },
  {
   "cell_type": "code",
   "execution_count": 20,
   "metadata": {},
   "outputs": [
    {
     "data": {
      "text/html": [
       "<div>\n",
       "<style scoped>\n",
       "    .dataframe tbody tr th:only-of-type {\n",
       "        vertical-align: middle;\n",
       "    }\n",
       "\n",
       "    .dataframe tbody tr th {\n",
       "        vertical-align: top;\n",
       "    }\n",
       "\n",
       "    .dataframe thead th {\n",
       "        text-align: right;\n",
       "    }\n",
       "</style>\n",
       "<table border=\"1\" class=\"dataframe\">\n",
       "  <thead>\n",
       "    <tr style=\"text-align: right;\">\n",
       "      <th></th>\n",
       "      <th>date</th>\n",
       "      <th>team</th>\n",
       "      <th>team_score</th>\n",
       "      <th>home_away</th>\n",
       "      <th>opposing</th>\n",
       "      <th>opp_score</th>\n",
       "      <th>win_lost</th>\n",
       "      <th>attendance</th>\n",
       "    </tr>\n",
       "  </thead>\n",
       "  <tbody>\n",
       "    <tr>\n",
       "      <th>0</th>\n",
       "      <td>2008-03-31</td>\n",
       "      <td>HOU</td>\n",
       "      <td>0</td>\n",
       "      <td>@</td>\n",
       "      <td>SDP</td>\n",
       "      <td>4</td>\n",
       "      <td>L</td>\n",
       "      <td>44,965</td>\n",
       "    </tr>\n",
       "    <tr>\n",
       "      <th>1</th>\n",
       "      <td>2008-04-01</td>\n",
       "      <td>HOU</td>\n",
       "      <td>1</td>\n",
       "      <td>@</td>\n",
       "      <td>SDP</td>\n",
       "      <td>2</td>\n",
       "      <td>L</td>\n",
       "      <td>20,825</td>\n",
       "    </tr>\n",
       "    <tr>\n",
       "      <th>2</th>\n",
       "      <td>2008-04-02</td>\n",
       "      <td>HOU</td>\n",
       "      <td>9</td>\n",
       "      <td>@</td>\n",
       "      <td>SDP</td>\n",
       "      <td>6</td>\n",
       "      <td>W</td>\n",
       "      <td>18,714</td>\n",
       "    </tr>\n",
       "    <tr>\n",
       "      <th>3</th>\n",
       "      <td>2008-04-03</td>\n",
       "      <td>HOU</td>\n",
       "      <td>2</td>\n",
       "      <td>@</td>\n",
       "      <td>SDP</td>\n",
       "      <td>3</td>\n",
       "      <td>L</td>\n",
       "      <td>24,432</td>\n",
       "    </tr>\n",
       "    <tr>\n",
       "      <th>4</th>\n",
       "      <td>2008-04-04</td>\n",
       "      <td>HOU</td>\n",
       "      <td>4</td>\n",
       "      <td>@</td>\n",
       "      <td>CHC</td>\n",
       "      <td>3</td>\n",
       "      <td>W</td>\n",
       "      <td>37,812</td>\n",
       "    </tr>\n",
       "  </tbody>\n",
       "</table>\n",
       "</div>"
      ],
      "text/plain": [
       "        date team  team_score home_away opposing  opp_score win_lost  \\\n",
       "0 2008-03-31  HOU           0         @      SDP          4        L   \n",
       "1 2008-04-01  HOU           1         @      SDP          2        L   \n",
       "2 2008-04-02  HOU           9         @      SDP          6        W   \n",
       "3 2008-04-03  HOU           2         @      SDP          3        L   \n",
       "4 2008-04-04  HOU           4         @      CHC          3        W   \n",
       "\n",
       "  attendance  \n",
       "0     44,965  \n",
       "1     20,825  \n",
       "2     18,714  \n",
       "3     24,432  \n",
       "4     37,812  "
      ]
     },
     "execution_count": 20,
     "metadata": {},
     "output_type": "execute_result"
    }
   ],
   "source": [
    "astros.head()"
   ]
  },
  {
   "cell_type": "markdown",
   "metadata": {},
   "source": [
    "## Reindex dataframe by date\n",
    "\n",
    "- reindex the dataframe and sort the dates"
   ]
  },
  {
   "cell_type": "code",
   "execution_count": 21,
   "metadata": {},
   "outputs": [],
   "source": [
    "astros = astros.set_index('date').sort_index(ascending=True)"
   ]
  },
  {
   "cell_type": "code",
   "execution_count": 22,
   "metadata": {},
   "outputs": [
    {
     "data": {
      "text/html": [
       "<div>\n",
       "<style scoped>\n",
       "    .dataframe tbody tr th:only-of-type {\n",
       "        vertical-align: middle;\n",
       "    }\n",
       "\n",
       "    .dataframe tbody tr th {\n",
       "        vertical-align: top;\n",
       "    }\n",
       "\n",
       "    .dataframe thead th {\n",
       "        text-align: right;\n",
       "    }\n",
       "</style>\n",
       "<table border=\"1\" class=\"dataframe\">\n",
       "  <thead>\n",
       "    <tr style=\"text-align: right;\">\n",
       "      <th></th>\n",
       "      <th>team</th>\n",
       "      <th>team_score</th>\n",
       "      <th>home_away</th>\n",
       "      <th>opposing</th>\n",
       "      <th>opp_score</th>\n",
       "      <th>win_lost</th>\n",
       "      <th>attendance</th>\n",
       "    </tr>\n",
       "    <tr>\n",
       "      <th>date</th>\n",
       "      <th></th>\n",
       "      <th></th>\n",
       "      <th></th>\n",
       "      <th></th>\n",
       "      <th></th>\n",
       "      <th></th>\n",
       "      <th></th>\n",
       "    </tr>\n",
       "  </thead>\n",
       "  <tbody>\n",
       "    <tr>\n",
       "      <th>2008-03-31</th>\n",
       "      <td>HOU</td>\n",
       "      <td>0</td>\n",
       "      <td>@</td>\n",
       "      <td>SDP</td>\n",
       "      <td>4</td>\n",
       "      <td>L</td>\n",
       "      <td>44,965</td>\n",
       "    </tr>\n",
       "    <tr>\n",
       "      <th>2008-04-01</th>\n",
       "      <td>HOU</td>\n",
       "      <td>1</td>\n",
       "      <td>@</td>\n",
       "      <td>SDP</td>\n",
       "      <td>2</td>\n",
       "      <td>L</td>\n",
       "      <td>20,825</td>\n",
       "    </tr>\n",
       "    <tr>\n",
       "      <th>2008-04-02</th>\n",
       "      <td>HOU</td>\n",
       "      <td>9</td>\n",
       "      <td>@</td>\n",
       "      <td>SDP</td>\n",
       "      <td>6</td>\n",
       "      <td>W</td>\n",
       "      <td>18,714</td>\n",
       "    </tr>\n",
       "    <tr>\n",
       "      <th>2008-04-03</th>\n",
       "      <td>HOU</td>\n",
       "      <td>2</td>\n",
       "      <td>@</td>\n",
       "      <td>SDP</td>\n",
       "      <td>3</td>\n",
       "      <td>L</td>\n",
       "      <td>24,432</td>\n",
       "    </tr>\n",
       "    <tr>\n",
       "      <th>2008-04-04</th>\n",
       "      <td>HOU</td>\n",
       "      <td>4</td>\n",
       "      <td>@</td>\n",
       "      <td>CHC</td>\n",
       "      <td>3</td>\n",
       "      <td>W</td>\n",
       "      <td>37,812</td>\n",
       "    </tr>\n",
       "  </tbody>\n",
       "</table>\n",
       "</div>"
      ],
      "text/plain": [
       "           team  team_score home_away opposing  opp_score win_lost attendance\n",
       "date                                                                         \n",
       "2008-03-31  HOU           0         @      SDP          4        L     44,965\n",
       "2008-04-01  HOU           1         @      SDP          2        L     20,825\n",
       "2008-04-02  HOU           9         @      SDP          6        W     18,714\n",
       "2008-04-03  HOU           2         @      SDP          3        L     24,432\n",
       "2008-04-04  HOU           4         @      CHC          3        W     37,812"
      ]
     },
     "execution_count": 22,
     "metadata": {},
     "output_type": "execute_result"
    }
   ],
   "source": [
    "astros.head()"
   ]
  },
  {
   "cell_type": "markdown",
   "metadata": {},
   "source": [
    "## Change column\n",
    "- change home_away values to  home or away"
   ]
  },
  {
   "cell_type": "code",
   "execution_count": 23,
   "metadata": {},
   "outputs": [],
   "source": [
    "astros['home_away'] = np.where(astros['home_away'] =='@', 'AWAY', 'HOME')"
   ]
  },
  {
   "cell_type": "code",
   "execution_count": 24,
   "metadata": {},
   "outputs": [
    {
     "data": {
      "text/html": [
       "<div>\n",
       "<style scoped>\n",
       "    .dataframe tbody tr th:only-of-type {\n",
       "        vertical-align: middle;\n",
       "    }\n",
       "\n",
       "    .dataframe tbody tr th {\n",
       "        vertical-align: top;\n",
       "    }\n",
       "\n",
       "    .dataframe thead th {\n",
       "        text-align: right;\n",
       "    }\n",
       "</style>\n",
       "<table border=\"1\" class=\"dataframe\">\n",
       "  <thead>\n",
       "    <tr style=\"text-align: right;\">\n",
       "      <th></th>\n",
       "      <th>team</th>\n",
       "      <th>team_score</th>\n",
       "      <th>home_away</th>\n",
       "      <th>opposing</th>\n",
       "      <th>opp_score</th>\n",
       "      <th>win_lost</th>\n",
       "      <th>attendance</th>\n",
       "    </tr>\n",
       "    <tr>\n",
       "      <th>date</th>\n",
       "      <th></th>\n",
       "      <th></th>\n",
       "      <th></th>\n",
       "      <th></th>\n",
       "      <th></th>\n",
       "      <th></th>\n",
       "      <th></th>\n",
       "    </tr>\n",
       "  </thead>\n",
       "  <tbody>\n",
       "    <tr>\n",
       "      <th>2008-03-31</th>\n",
       "      <td>HOU</td>\n",
       "      <td>0</td>\n",
       "      <td>AWAY</td>\n",
       "      <td>SDP</td>\n",
       "      <td>4</td>\n",
       "      <td>L</td>\n",
       "      <td>44,965</td>\n",
       "    </tr>\n",
       "    <tr>\n",
       "      <th>2008-04-01</th>\n",
       "      <td>HOU</td>\n",
       "      <td>1</td>\n",
       "      <td>AWAY</td>\n",
       "      <td>SDP</td>\n",
       "      <td>2</td>\n",
       "      <td>L</td>\n",
       "      <td>20,825</td>\n",
       "    </tr>\n",
       "    <tr>\n",
       "      <th>2008-04-02</th>\n",
       "      <td>HOU</td>\n",
       "      <td>9</td>\n",
       "      <td>AWAY</td>\n",
       "      <td>SDP</td>\n",
       "      <td>6</td>\n",
       "      <td>W</td>\n",
       "      <td>18,714</td>\n",
       "    </tr>\n",
       "    <tr>\n",
       "      <th>2008-04-03</th>\n",
       "      <td>HOU</td>\n",
       "      <td>2</td>\n",
       "      <td>AWAY</td>\n",
       "      <td>SDP</td>\n",
       "      <td>3</td>\n",
       "      <td>L</td>\n",
       "      <td>24,432</td>\n",
       "    </tr>\n",
       "    <tr>\n",
       "      <th>2008-04-04</th>\n",
       "      <td>HOU</td>\n",
       "      <td>4</td>\n",
       "      <td>AWAY</td>\n",
       "      <td>CHC</td>\n",
       "      <td>3</td>\n",
       "      <td>W</td>\n",
       "      <td>37,812</td>\n",
       "    </tr>\n",
       "  </tbody>\n",
       "</table>\n",
       "</div>"
      ],
      "text/plain": [
       "           team  team_score home_away opposing  opp_score win_lost attendance\n",
       "date                                                                         \n",
       "2008-03-31  HOU           0      AWAY      SDP          4        L     44,965\n",
       "2008-04-01  HOU           1      AWAY      SDP          2        L     20,825\n",
       "2008-04-02  HOU           9      AWAY      SDP          6        W     18,714\n",
       "2008-04-03  HOU           2      AWAY      SDP          3        L     24,432\n",
       "2008-04-04  HOU           4      AWAY      CHC          3        W     37,812"
      ]
     },
     "execution_count": 24,
     "metadata": {},
     "output_type": "execute_result"
    }
   ],
   "source": [
    "astros.head()"
   ]
  },
  {
   "cell_type": "code",
   "execution_count": 25,
   "metadata": {},
   "outputs": [
    {
     "data": {
      "text/plain": [
       "array(['L', 'W', 'W-wo', 'L-wo', 'W &H'], dtype=object)"
      ]
     },
     "execution_count": 25,
     "metadata": {},
     "output_type": "execute_result"
    }
   ],
   "source": [
    "astros.win_lost.unique()"
   ]
  },
  {
   "cell_type": "markdown",
   "metadata": {},
   "source": [
    "## Find and replace\n",
    " - replace 'W-wo' : 'W'\n",
    " - replace  'L-wo': 'L'\n",
    " - replace 'W &H' : 'W"
   ]
  },
  {
   "cell_type": "code",
   "execution_count": 26,
   "metadata": {},
   "outputs": [],
   "source": [
    "astros['win_lost'] = astros['win_lost'].str.replace('L-wo','L')\n",
    "astros['win_lost'] = astros['win_lost'].str.replace('W-wo','W')\n",
    "astros['win_lost'] = astros['win_lost'].str.replace('W &H','W')"
   ]
  },
  {
   "cell_type": "code",
   "execution_count": 27,
   "metadata": {},
   "outputs": [
    {
     "data": {
      "text/plain": [
       "array(['L', 'W'], dtype=object)"
      ]
     },
     "execution_count": 27,
     "metadata": {},
     "output_type": "execute_result"
    }
   ],
   "source": [
    "astros.win_lost.unique()"
   ]
  },
  {
   "cell_type": "code",
   "execution_count": 28,
   "metadata": {},
   "outputs": [
    {
     "name": "stdout",
     "output_type": "stream",
     "text": [
      "<class 'pandas.core.frame.DataFrame'>\n",
      "DatetimeIndex: 1619 entries, 2008-03-31 to 2017-10-01\n",
      "Data columns (total 7 columns):\n",
      "team          1619 non-null object\n",
      "team_score    1619 non-null int64\n",
      "home_away     1619 non-null object\n",
      "opposing      1619 non-null object\n",
      "opp_score     1619 non-null int64\n",
      "win_lost      1619 non-null object\n",
      "attendance    1618 non-null object\n",
      "dtypes: int64(2), object(5)\n",
      "memory usage: 101.2+ KB\n"
     ]
    }
   ],
   "source": [
    "astros.info()"
   ]
  },
  {
   "cell_type": "markdown",
   "metadata": {},
   "source": [
    "## Save clean data to  to csv"
   ]
  },
  {
   "cell_type": "code",
   "execution_count": 29,
   "metadata": {},
   "outputs": [],
   "source": [
    "astros.to_csv('sports_data_clean/astros_08_17_clean.csv')"
   ]
  },
  {
   "cell_type": "code",
   "execution_count": 32,
   "metadata": {},
   "outputs": [
    {
     "name": "stdout",
     "output_type": "stream",
     "text": [
      "astros_08_17_clean.csv\r\n"
     ]
    }
   ],
   "source": [
    "!ls sports_data_clean/"
   ]
  },
  {
   "cell_type": "code",
   "execution_count": 31,
   "metadata": {},
   "outputs": [],
   "source": [
    "# finish"
   ]
  },
  {
   "cell_type": "code",
   "execution_count": null,
   "metadata": {},
   "outputs": [],
   "source": []
  },
  {
   "cell_type": "code",
   "execution_count": null,
   "metadata": {},
   "outputs": [],
   "source": []
  }
 ],
 "metadata": {
  "kernelspec": {
   "display_name": "Python 3",
   "language": "python",
   "name": "python3"
  },
  "language_info": {
   "codemirror_mode": {
    "name": "ipython",
    "version": 3
   },
   "file_extension": ".py",
   "mimetype": "text/x-python",
   "name": "python",
   "nbconvert_exporter": "python",
   "pygments_lexer": "ipython3",
   "version": "3.6.4"
  }
 },
 "nbformat": 4,
 "nbformat_minor": 2
}
