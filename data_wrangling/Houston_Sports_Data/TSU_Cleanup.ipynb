{
 "cells": [
  {
   "cell_type": "code",
   "execution_count": 1,
   "metadata": {},
   "outputs": [],
   "source": [
    "import pandas as pd\n",
    "import numpy as np\n",
    "import glob, os\n",
    "import re"
   ]
  },
  {
   "cell_type": "markdown",
   "metadata": {},
   "source": [
    "# Source\n",
    "\n",
    "Stripped from site:\n",
    "http://www.espn.com/college-football/team/schedule/_/id/2640/year/2017\n",
    "\n",
    "- appended scores & schedule from 2008 - 2017\n",
    "- `tsu_08_17.csv`"
   ]
  },
  {
   "cell_type": "code",
   "execution_count": 2,
   "metadata": {},
   "outputs": [
    {
     "name": "stdout",
     "output_type": "stream",
     "text": [
      "\u001b[0m\u001b[01;32mRU08_17.csv\u001b[0m*  \u001b[01;32mtsu08_11.csv\u001b[0m*  \u001b[01;32mtsu08_17.csv\u001b[0m*  \u001b[01;32mtsu12_17.csv\u001b[0m*  \u001b[01;32muh08_17.csv\u001b[0m*\r\n"
     ]
    }
   ],
   "source": [
    "ls sports_data_raw/NCAA/"
   ]
  },
  {
   "cell_type": "markdown",
   "metadata": {},
   "source": [
    "## Load Data"
   ]
  },
  {
   "cell_type": "code",
   "execution_count": 3,
   "metadata": {},
   "outputs": [],
   "source": [
    "path = 'sports_data_raw/NCAA/tsu08_17.csv'\n",
    "df = pd.read_csv(path)"
   ]
  },
  {
   "cell_type": "code",
   "execution_count": 4,
   "metadata": {},
   "outputs": [
    {
     "data": {
      "text/html": [
       "<div>\n",
       "<style scoped>\n",
       "    .dataframe tbody tr th:only-of-type {\n",
       "        vertical-align: middle;\n",
       "    }\n",
       "\n",
       "    .dataframe tbody tr th {\n",
       "        vertical-align: top;\n",
       "    }\n",
       "\n",
       "    .dataframe thead th {\n",
       "        text-align: right;\n",
       "    }\n",
       "</style>\n",
       "<table border=\"1\" class=\"dataframe\">\n",
       "  <thead>\n",
       "    <tr style=\"text-align: right;\">\n",
       "      <th></th>\n",
       "      <th>YEAR</th>\n",
       "      <th>DATE</th>\n",
       "      <th>OPPONENT</th>\n",
       "      <th>RESULT/TIME</th>\n",
       "      <th>RECORD/TICKETS</th>\n",
       "    </tr>\n",
       "  </thead>\n",
       "  <tbody>\n",
       "    <tr>\n",
       "      <th>0</th>\n",
       "      <td>2017</td>\n",
       "      <td>Sat, Aug 26</td>\n",
       "      <td>@Florida A&amp;M</td>\n",
       "      <td>L29-7</td>\n",
       "      <td>0-1 (0-0)</td>\n",
       "    </tr>\n",
       "    <tr>\n",
       "      <th>1</th>\n",
       "      <td>2017</td>\n",
       "      <td>Thu, Sept 7</td>\n",
       "      <td>vsHouston Baptist</td>\n",
       "      <td>L24-17</td>\n",
       "      <td>0-2 (0-0)</td>\n",
       "    </tr>\n",
       "    <tr>\n",
       "      <th>2</th>\n",
       "      <td>2017</td>\n",
       "      <td>Sat, Sept 23</td>\n",
       "      <td>@Alabama A&amp;M</td>\n",
       "      <td>L30-13</td>\n",
       "      <td>0-3 (0-1)</td>\n",
       "    </tr>\n",
       "    <tr>\n",
       "      <th>3</th>\n",
       "      <td>2017</td>\n",
       "      <td>Fri, Sept 29</td>\n",
       "      <td>vsAlcorn State</td>\n",
       "      <td>L24-17</td>\n",
       "      <td>0-4 (0-2)</td>\n",
       "    </tr>\n",
       "    <tr>\n",
       "      <th>4</th>\n",
       "      <td>2017</td>\n",
       "      <td>Sat, Oct 7</td>\n",
       "      <td>@Kennesaw St</td>\n",
       "      <td>L48-3</td>\n",
       "      <td>0-5 (0-2)</td>\n",
       "    </tr>\n",
       "  </tbody>\n",
       "</table>\n",
       "</div>"
      ],
      "text/plain": [
       "   YEAR          DATE            OPPONENT RESULT/TIME RECORD/TICKETS\n",
       "0  2017   Sat, Aug 26      @Florida A&M         L29-7      0-1 (0-0)\n",
       "1  2017   Thu, Sept 7  vsHouston Baptist       L24-17      0-2 (0-0)\n",
       "2  2017  Sat, Sept 23        @Alabama A&M     L30-13       0-3 (0-1)\n",
       "3  2017  Fri, Sept 29     vsAlcorn State       L24-17      0-4 (0-2)\n",
       "4  2017    Sat, Oct 7        @Kennesaw St       L48-3      0-5 (0-2)"
      ]
     },
     "execution_count": 4,
     "metadata": {},
     "output_type": "execute_result"
    }
   ],
   "source": [
    "df.head()"
   ]
  },
  {
   "cell_type": "code",
   "execution_count": 5,
   "metadata": {},
   "outputs": [
    {
     "name": "stdout",
     "output_type": "stream",
     "text": [
      "<class 'pandas.core.frame.DataFrame'>\n",
      "RangeIndex: 112 entries, 0 to 111\n",
      "Data columns (total 5 columns):\n",
      "YEAR              112 non-null int64\n",
      "DATE              112 non-null object\n",
      "OPPONENT          112 non-null object\n",
      "RESULT/TIME       112 non-null object\n",
      "RECORD/TICKETS    111 non-null object\n",
      "dtypes: int64(1), object(4)\n",
      "memory usage: 4.5+ KB\n"
     ]
    }
   ],
   "source": [
    "df.info()"
   ]
  },
  {
   "cell_type": "markdown",
   "metadata": {},
   "source": [
    "## Create slice with only needed columns"
   ]
  },
  {
   "cell_type": "code",
   "execution_count": 6,
   "metadata": {},
   "outputs": [],
   "source": [
    "tsu1 = df[['DATE','YEAR','OPPONENT','RESULT/TIME']]"
   ]
  },
  {
   "cell_type": "code",
   "execution_count": 7,
   "metadata": {},
   "outputs": [
    {
     "name": "stdout",
     "output_type": "stream",
     "text": [
      "<class 'pandas.core.frame.DataFrame'>\n",
      "RangeIndex: 112 entries, 0 to 111\n",
      "Data columns (total 4 columns):\n",
      "DATE           112 non-null object\n",
      "YEAR           112 non-null int64\n",
      "OPPONENT       112 non-null object\n",
      "RESULT/TIME    112 non-null object\n",
      "dtypes: int64(1), object(3)\n",
      "memory usage: 3.6+ KB\n"
     ]
    }
   ],
   "source": [
    "tsu1.info()"
   ]
  },
  {
   "cell_type": "markdown",
   "metadata": {},
   "source": [
    "## inspect data from Df"
   ]
  },
  {
   "cell_type": "code",
   "execution_count": 8,
   "metadata": {},
   "outputs": [
    {
     "data": {
      "text/plain": [
       "array([2017, 2016, 2015, 2014, 2013, 2012, 2011, 2010, 2009, 2008])"
      ]
     },
     "execution_count": 8,
     "metadata": {},
     "output_type": "execute_result"
    }
   ],
   "source": [
    "tsu1.YEAR.unique()  # need to convert to str"
   ]
  },
  {
   "cell_type": "code",
   "execution_count": 9,
   "metadata": {},
   "outputs": [
    {
     "data": {
      "text/plain": [
       "array(['Sat, Aug 26', 'Thu, Sept 7', 'Sat, Sept 23', 'Fri, Sept 29',\n",
       "       'Sat, Oct 7', 'Sat, Oct 14', 'Sat, Oct 28', 'Sat, Nov 4',\n",
       "       'Sat, Nov 11', 'Sat, Nov 18', 'Sat, Nov 25', 'Sun, Sept 4',\n",
       "       'Sat, Sept 10', 'Sat, Sept 17', 'Sat, Sept 24', 'Sat, Oct 1',\n",
       "       'Sat, Oct 15', 'Sat, Oct 22', 'Sat, Oct 29     ', 'Sat, Nov 5',\n",
       "       'Sat, Nov 12', 'Sat, Nov 19', 'Sat, Sept 5    ', 'Fri, Sept 11',\n",
       "       'Sat, Sept 19', 'Sat, Sept 26 ', 'Thu, Oct 1', 'Sat, Oct 17',\n",
       "       'Sat, Oct 24', 'Sat, Oct 31', 'Sat, Nov 7', 'Sat, Nov 14',\n",
       "       'Sat, Nov 28', 'Sun, Aug 31', 'Thu, Sept 4', 'Sat, Sept 13',\n",
       "       'Sat, Sept 20', 'Sat, Sept 27', 'Sat, Oct 4', 'Sat, Oct 18',\n",
       "       'Sat, Oct 25', 'Sat, Nov 1', 'Sat, Nov 8', 'Sat, Nov 15',\n",
       "       'Sat, Aug 31', 'Sat, Sept 14', 'Thu, Sept 19', 'Sat, Sept 28',\n",
       "       'Sat, Oct 5', 'Sat, Oct 12', 'Sat, Oct 19', 'Sat, Oct 26',\n",
       "       'Fri, Nov 1', 'Sat, Nov 9', 'Sat, Nov 16', 'Sat, Sept 1',\n",
       "       'Sat, Sept 8', 'Sat, Sept 15', 'Sat, Sept 22', 'Thu, Sept 27',\n",
       "       'Sat, Oct 6', 'Sat, Oct 13', 'Sat, Oct 27', 'Sat, Nov 3',\n",
       "       'Sat, Nov 10', 'Sat, Nov 17', 'Thu, Sept 29', 'Sat, Oct 8',\n",
       "       'Thu, Oct 13', 'Sat, Oct 29', 'Sun, Sept 5', 'Sat, Sept 11',\n",
       "       'Sat, Sept 18', 'Sat, Sept 25', 'Sat, Oct 2', 'Sat, Oct 9',\n",
       "       'Sat, Oct 23', 'Sat, Oct 30', 'Sat, Nov 6', 'Thu, Nov 11',\n",
       "       'Sat, Nov 20', 'Sat, Dec 11', 'Sat, Sept 5', 'Sat, Sept 12',\n",
       "       'Sat, Sept 26', 'Sat, Oct 10', 'Thu, Nov 12', 'Sat, Dec 5',\n",
       "       'Sat, Aug 30', 'Sat, Sept 6', 'Sat, Oct 11', 'Thu, Nov 20',\n",
       "       'Sat, Nov 29'], dtype=object)"
      ]
     },
     "execution_count": 9,
     "metadata": {},
     "output_type": "execute_result"
    }
   ],
   "source": [
    "tsu1.DATE.unique()  # need to strip, day, month numdate"
   ]
  },
  {
   "cell_type": "code",
   "execution_count": 10,
   "metadata": {},
   "outputs": [
    {
     "data": {
      "text/plain": [
       "array(['@Florida A&M  ', 'vsHouston Baptist ', '@Alabama A&M',\n",
       "       'vsAlcorn State ', '@Kennesaw St', 'vsAlabama State',\n",
       "       '@Grambling  ', '@Miss Valley St', 'vsSouthern',\n",
       "       'vsAR-Pine Bluff*', 'vsPV A&M ', '@PV A&M', '@Houston Baptist ',\n",
       "       'vsMiss Valley St', '@Alabama State', 'vsAlabama A&M',\n",
       "       '@Alcorn State', 'vsJackson State', '@Sam Houston ', '@Southern ',\n",
       "       'vsAR-Pine Bluff', 'vsGrambling', ' vsPV A&M ', 'vsBacone College',\n",
       "       '@AR-Pine Bluff', '@Jackson State', '    vsAlabama State',\n",
       "       '    @Miss Valley St', '    vsSouthern', '    vsFaith-Arkansas ',\n",
       "       '    @Grambling', '    vsAlcorn State', '    @Alabama A&M',\n",
       "       'vsPV A&M*', 'vsTexas College', 'vsCentral St*', '@Southern',\n",
       "       'vsPV A&M', '@Sam Houston', 'vsAlcorn State', '@Grambling',\n",
       "       'vsHoward', '@North Texas', 'vsSam Houston', 'vsTexas College ',\n",
       "       'vsCentral St', '@UConn', 'vsTuskegee*', 'vsAlabama State*',\n",
       "       '@UL Monroe', '@Texas State', '@Rutgers', 'vsAR-Pine Bluff* ',\n",
       "       '@Arkansas State', '@Shaw', '@Texas College', 'vsConcordia Col.',\n",
       "       'vsGrambling*'], dtype=object)"
      ]
     },
     "execution_count": 10,
     "metadata": {},
     "output_type": "execute_result"
    }
   ],
   "source": [
    "tsu1.OPPONENT.unique()  # need to strip @, vs, strip"
   ]
  },
  {
   "cell_type": "code",
   "execution_count": 11,
   "metadata": {},
   "outputs": [
    {
     "data": {
      "text/plain": [
       "array([' L29-7', ' L24-17', 'L30-13 ', 'L48-3', 'L23-16', 'L50-24',\n",
       "       'W38-21  ', 'L33-7  ', 'W24-10 ', '   L30-16  ', 'L29-25 ',\n",
       "       'L24-20', 'W31-0', 'W31-27', 'W34-31', 'L23-20', 'L21-13',\n",
       "       'L66-17', 'L26-10', 'W27-10', 'L47-28', 'L38-11', 'W63-0',\n",
       "       'W24-20', 'L34-30', 'L41-23', 'W49-21', 'L40-21  ', 'Canceled',\n",
       "       'L41-15', 'L65-13', 'L38-7', 'W37-35', 'W52-14', 'W30-16',\n",
       "       'W45-23', 'L38-3', 'W20-16', 'L40-25', 'L38-37', 'L35-7', 'L30-20',\n",
       "       'L15-10', 'L37-13', 'L55-17', 'L12-10', 'L34-2', 'W41-28',\n",
       "       'L20-13', 'W23-17 OT', 'L31-24', 'L20-17', 'L40-6', 'W44-41',\n",
       "       'L34-7', 'L45-35', 'L42-13', 'L50-6', 'L45-0', 'W23-20', 'L49-3',\n",
       "       'L34-24', 'L34-3', ' L37-34', 'W49-6 ', 'W14-7', 'L58-13',\n",
       "       'L43-29', 'L24-21', 'W42-11', 'L12-9', 'W29-15', 'L29-25', 'L42-6',\n",
       "       'L16-14', 'L62-3', 'W32-9', 'L21-14', 'W21-7', 'W30-20', 'W21-18',\n",
       "       'W38-7', 'W54-7', 'W41-34 OT', 'W20-13', 'W11-6', 'L17-7', 'L58-0',\n",
       "       'W75-6', 'L52-18', 'L42-0', 'W19-17', 'W51-21', 'W30-7', 'L47-33',\n",
       "       'W14-10', 'W30-25', ' L34-14', 'L83-10', 'W40-29', 'W28-13',\n",
       "       'W45-27', 'L63-39', 'L45-14', 'L30-14 ', 'W30-29 ', 'L58-44 ',\n",
       "       'L33-7 ', 'L28-7 '], dtype=object)"
      ]
     },
     "execution_count": 11,
     "metadata": {},
     "output_type": "execute_result"
    }
   ],
   "source": [
    "tsu1['RESULT/TIME'].unique()  # need split  letter from score, strip extra stpaces"
   ]
  },
  {
   "cell_type": "markdown",
   "metadata": {},
   "source": [
    "# Clean data"
   ]
  },
  {
   "cell_type": "markdown",
   "metadata": {},
   "source": [
    "## Date clean"
   ]
  },
  {
   "cell_type": "code",
   "execution_count": 12,
   "metadata": {},
   "outputs": [
    {
     "name": "stderr",
     "output_type": "stream",
     "text": [
      "/home/salas/miniconda3/envs/springboard/lib/python3.6/site-packages/ipykernel_launcher.py:1: SettingWithCopyWarning: \n",
      "A value is trying to be set on a copy of a slice from a DataFrame.\n",
      "Try using .loc[row_indexer,col_indexer] = value instead\n",
      "\n",
      "See the caveats in the documentation: http://pandas.pydata.org/pandas-docs/stable/indexing.html#indexing-view-versus-copy\n",
      "  \"\"\"Entry point for launching an IPython kernel.\n"
     ]
    }
   ],
   "source": [
    "tsu1['YEAR'] = tsu1['YEAR'].astype(str)  # change year value to str"
   ]
  },
  {
   "cell_type": "code",
   "execution_count": 13,
   "metadata": {},
   "outputs": [],
   "source": [
    "tsu1['full_date'] = tsu1['DATE'] + ' ' + tsu1['YEAR']"
   ]
  },
  {
   "cell_type": "code",
   "execution_count": 14,
   "metadata": {},
   "outputs": [
    {
     "data": {
      "text/plain": [
       "0     [Sat,  Aug 26 2017]\n",
       "1     [Thu,  Sept 7 2017]\n",
       "2    [Sat,  Sept 23 2017]\n",
       "3    [Fri,  Sept 29 2017]\n",
       "4      [Sat,  Oct 7 2017]\n",
       "Name: full_date, dtype: object"
      ]
     },
     "execution_count": 14,
     "metadata": {},
     "output_type": "execute_result"
    }
   ],
   "source": [
    "tsu1['full_date'].str.split(',').head()"
   ]
  },
  {
   "cell_type": "markdown",
   "metadata": {},
   "source": [
    "### create new colum for date, and cleanup for full_date"
   ]
  },
  {
   "cell_type": "code",
   "execution_count": 15,
   "metadata": {},
   "outputs": [],
   "source": [
    "tsu1['Day']= tsu1['full_date'].str.split(',').apply(lambda x: x[0])\n",
    "tsu1['full_date']= tsu1['full_date'].str.split(',').apply(lambda x: x[1])"
   ]
  },
  {
   "cell_type": "code",
   "execution_count": 16,
   "metadata": {},
   "outputs": [
    {
     "data": {
      "text/html": [
       "<div>\n",
       "<style scoped>\n",
       "    .dataframe tbody tr th:only-of-type {\n",
       "        vertical-align: middle;\n",
       "    }\n",
       "\n",
       "    .dataframe tbody tr th {\n",
       "        vertical-align: top;\n",
       "    }\n",
       "\n",
       "    .dataframe thead th {\n",
       "        text-align: right;\n",
       "    }\n",
       "</style>\n",
       "<table border=\"1\" class=\"dataframe\">\n",
       "  <thead>\n",
       "    <tr style=\"text-align: right;\">\n",
       "      <th></th>\n",
       "      <th>DATE</th>\n",
       "      <th>YEAR</th>\n",
       "      <th>OPPONENT</th>\n",
       "      <th>RESULT/TIME</th>\n",
       "      <th>full_date</th>\n",
       "      <th>Day</th>\n",
       "    </tr>\n",
       "  </thead>\n",
       "  <tbody>\n",
       "    <tr>\n",
       "      <th>0</th>\n",
       "      <td>Sat, Aug 26</td>\n",
       "      <td>2017</td>\n",
       "      <td>@Florida A&amp;M</td>\n",
       "      <td>L29-7</td>\n",
       "      <td>Aug 26 2017</td>\n",
       "      <td>Sat</td>\n",
       "    </tr>\n",
       "    <tr>\n",
       "      <th>1</th>\n",
       "      <td>Thu, Sept 7</td>\n",
       "      <td>2017</td>\n",
       "      <td>vsHouston Baptist</td>\n",
       "      <td>L24-17</td>\n",
       "      <td>Sept 7 2017</td>\n",
       "      <td>Thu</td>\n",
       "    </tr>\n",
       "    <tr>\n",
       "      <th>2</th>\n",
       "      <td>Sat, Sept 23</td>\n",
       "      <td>2017</td>\n",
       "      <td>@Alabama A&amp;M</td>\n",
       "      <td>L30-13</td>\n",
       "      <td>Sept 23 2017</td>\n",
       "      <td>Sat</td>\n",
       "    </tr>\n",
       "    <tr>\n",
       "      <th>3</th>\n",
       "      <td>Fri, Sept 29</td>\n",
       "      <td>2017</td>\n",
       "      <td>vsAlcorn State</td>\n",
       "      <td>L24-17</td>\n",
       "      <td>Sept 29 2017</td>\n",
       "      <td>Fri</td>\n",
       "    </tr>\n",
       "    <tr>\n",
       "      <th>4</th>\n",
       "      <td>Sat, Oct 7</td>\n",
       "      <td>2017</td>\n",
       "      <td>@Kennesaw St</td>\n",
       "      <td>L48-3</td>\n",
       "      <td>Oct 7 2017</td>\n",
       "      <td>Sat</td>\n",
       "    </tr>\n",
       "  </tbody>\n",
       "</table>\n",
       "</div>"
      ],
      "text/plain": [
       "           DATE  YEAR            OPPONENT RESULT/TIME      full_date  Day\n",
       "0   Sat, Aug 26  2017      @Florida A&M         L29-7    Aug 26 2017  Sat\n",
       "1   Thu, Sept 7  2017  vsHouston Baptist       L24-17    Sept 7 2017  Thu\n",
       "2  Sat, Sept 23  2017        @Alabama A&M     L30-13    Sept 23 2017  Sat\n",
       "3  Fri, Sept 29  2017     vsAlcorn State       L24-17   Sept 29 2017  Fri\n",
       "4    Sat, Oct 7  2017        @Kennesaw St       L48-3     Oct 7 2017  Sat"
      ]
     },
     "execution_count": 16,
     "metadata": {},
     "output_type": "execute_result"
    }
   ],
   "source": [
    "tsu1.head()"
   ]
  },
  {
   "cell_type": "markdown",
   "metadata": {},
   "source": [
    "### Convert DATE to datetime"
   ]
  },
  {
   "cell_type": "code",
   "execution_count": 17,
   "metadata": {},
   "outputs": [],
   "source": [
    "tsu1['full_date'] = pd.to_datetime(tsu1['full_date'])"
   ]
  },
  {
   "cell_type": "code",
   "execution_count": 18,
   "metadata": {},
   "outputs": [
    {
     "data": {
      "text/html": [
       "<div>\n",
       "<style scoped>\n",
       "    .dataframe tbody tr th:only-of-type {\n",
       "        vertical-align: middle;\n",
       "    }\n",
       "\n",
       "    .dataframe tbody tr th {\n",
       "        vertical-align: top;\n",
       "    }\n",
       "\n",
       "    .dataframe thead th {\n",
       "        text-align: right;\n",
       "    }\n",
       "</style>\n",
       "<table border=\"1\" class=\"dataframe\">\n",
       "  <thead>\n",
       "    <tr style=\"text-align: right;\">\n",
       "      <th></th>\n",
       "      <th>DATE</th>\n",
       "      <th>YEAR</th>\n",
       "      <th>OPPONENT</th>\n",
       "      <th>RESULT/TIME</th>\n",
       "      <th>full_date</th>\n",
       "      <th>Day</th>\n",
       "    </tr>\n",
       "  </thead>\n",
       "  <tbody>\n",
       "    <tr>\n",
       "      <th>0</th>\n",
       "      <td>Sat, Aug 26</td>\n",
       "      <td>2017</td>\n",
       "      <td>@Florida A&amp;M</td>\n",
       "      <td>L29-7</td>\n",
       "      <td>2017-08-26</td>\n",
       "      <td>Sat</td>\n",
       "    </tr>\n",
       "    <tr>\n",
       "      <th>1</th>\n",
       "      <td>Thu, Sept 7</td>\n",
       "      <td>2017</td>\n",
       "      <td>vsHouston Baptist</td>\n",
       "      <td>L24-17</td>\n",
       "      <td>2017-09-07</td>\n",
       "      <td>Thu</td>\n",
       "    </tr>\n",
       "    <tr>\n",
       "      <th>2</th>\n",
       "      <td>Sat, Sept 23</td>\n",
       "      <td>2017</td>\n",
       "      <td>@Alabama A&amp;M</td>\n",
       "      <td>L30-13</td>\n",
       "      <td>2017-09-23</td>\n",
       "      <td>Sat</td>\n",
       "    </tr>\n",
       "    <tr>\n",
       "      <th>3</th>\n",
       "      <td>Fri, Sept 29</td>\n",
       "      <td>2017</td>\n",
       "      <td>vsAlcorn State</td>\n",
       "      <td>L24-17</td>\n",
       "      <td>2017-09-29</td>\n",
       "      <td>Fri</td>\n",
       "    </tr>\n",
       "    <tr>\n",
       "      <th>4</th>\n",
       "      <td>Sat, Oct 7</td>\n",
       "      <td>2017</td>\n",
       "      <td>@Kennesaw St</td>\n",
       "      <td>L48-3</td>\n",
       "      <td>2017-10-07</td>\n",
       "      <td>Sat</td>\n",
       "    </tr>\n",
       "  </tbody>\n",
       "</table>\n",
       "</div>"
      ],
      "text/plain": [
       "           DATE  YEAR            OPPONENT RESULT/TIME  full_date  Day\n",
       "0   Sat, Aug 26  2017      @Florida A&M         L29-7 2017-08-26  Sat\n",
       "1   Thu, Sept 7  2017  vsHouston Baptist       L24-17 2017-09-07  Thu\n",
       "2  Sat, Sept 23  2017        @Alabama A&M     L30-13  2017-09-23  Sat\n",
       "3  Fri, Sept 29  2017     vsAlcorn State       L24-17 2017-09-29  Fri\n",
       "4    Sat, Oct 7  2017        @Kennesaw St       L48-3 2017-10-07  Sat"
      ]
     },
     "execution_count": 18,
     "metadata": {},
     "output_type": "execute_result"
    }
   ],
   "source": [
    "tsu1.head()"
   ]
  },
  {
   "cell_type": "code",
   "execution_count": 19,
   "metadata": {},
   "outputs": [],
   "source": [
    "tsu = tsu1[['full_date','Day','OPPONENT','RESULT/TIME']]"
   ]
  },
  {
   "cell_type": "code",
   "execution_count": 20,
   "metadata": {},
   "outputs": [
    {
     "data": {
      "text/html": [
       "<div>\n",
       "<style scoped>\n",
       "    .dataframe tbody tr th:only-of-type {\n",
       "        vertical-align: middle;\n",
       "    }\n",
       "\n",
       "    .dataframe tbody tr th {\n",
       "        vertical-align: top;\n",
       "    }\n",
       "\n",
       "    .dataframe thead th {\n",
       "        text-align: right;\n",
       "    }\n",
       "</style>\n",
       "<table border=\"1\" class=\"dataframe\">\n",
       "  <thead>\n",
       "    <tr style=\"text-align: right;\">\n",
       "      <th></th>\n",
       "      <th>full_date</th>\n",
       "      <th>Day</th>\n",
       "      <th>OPPONENT</th>\n",
       "      <th>RESULT/TIME</th>\n",
       "    </tr>\n",
       "  </thead>\n",
       "  <tbody>\n",
       "    <tr>\n",
       "      <th>0</th>\n",
       "      <td>2017-08-26</td>\n",
       "      <td>Sat</td>\n",
       "      <td>@Florida A&amp;M</td>\n",
       "      <td>L29-7</td>\n",
       "    </tr>\n",
       "    <tr>\n",
       "      <th>1</th>\n",
       "      <td>2017-09-07</td>\n",
       "      <td>Thu</td>\n",
       "      <td>vsHouston Baptist</td>\n",
       "      <td>L24-17</td>\n",
       "    </tr>\n",
       "    <tr>\n",
       "      <th>2</th>\n",
       "      <td>2017-09-23</td>\n",
       "      <td>Sat</td>\n",
       "      <td>@Alabama A&amp;M</td>\n",
       "      <td>L30-13</td>\n",
       "    </tr>\n",
       "    <tr>\n",
       "      <th>3</th>\n",
       "      <td>2017-09-29</td>\n",
       "      <td>Fri</td>\n",
       "      <td>vsAlcorn State</td>\n",
       "      <td>L24-17</td>\n",
       "    </tr>\n",
       "    <tr>\n",
       "      <th>4</th>\n",
       "      <td>2017-10-07</td>\n",
       "      <td>Sat</td>\n",
       "      <td>@Kennesaw St</td>\n",
       "      <td>L48-3</td>\n",
       "    </tr>\n",
       "  </tbody>\n",
       "</table>\n",
       "</div>"
      ],
      "text/plain": [
       "   full_date  Day            OPPONENT RESULT/TIME\n",
       "0 2017-08-26  Sat      @Florida A&M         L29-7\n",
       "1 2017-09-07  Thu  vsHouston Baptist       L24-17\n",
       "2 2017-09-23  Sat        @Alabama A&M     L30-13 \n",
       "3 2017-09-29  Fri     vsAlcorn State       L24-17\n",
       "4 2017-10-07  Sat        @Kennesaw St       L48-3"
      ]
     },
     "execution_count": 20,
     "metadata": {},
     "output_type": "execute_result"
    }
   ],
   "source": [
    "tsu.head()"
   ]
  },
  {
   "cell_type": "markdown",
   "metadata": {},
   "source": [
    "## Reindex dataframe by date\n",
    "\n",
    "- reindex the dataframe and sort the dates"
   ]
  },
  {
   "cell_type": "code",
   "execution_count": 21,
   "metadata": {},
   "outputs": [],
   "source": [
    "tsu = tsu.set_index('full_date').sort_index(ascending=True)"
   ]
  },
  {
   "cell_type": "code",
   "execution_count": 22,
   "metadata": {},
   "outputs": [
    {
     "data": {
      "text/html": [
       "<div>\n",
       "<style scoped>\n",
       "    .dataframe tbody tr th:only-of-type {\n",
       "        vertical-align: middle;\n",
       "    }\n",
       "\n",
       "    .dataframe tbody tr th {\n",
       "        vertical-align: top;\n",
       "    }\n",
       "\n",
       "    .dataframe thead th {\n",
       "        text-align: right;\n",
       "    }\n",
       "</style>\n",
       "<table border=\"1\" class=\"dataframe\">\n",
       "  <thead>\n",
       "    <tr style=\"text-align: right;\">\n",
       "      <th></th>\n",
       "      <th>Day</th>\n",
       "      <th>OPPONENT</th>\n",
       "      <th>RESULT/TIME</th>\n",
       "    </tr>\n",
       "    <tr>\n",
       "      <th>full_date</th>\n",
       "      <th></th>\n",
       "      <th></th>\n",
       "      <th></th>\n",
       "    </tr>\n",
       "  </thead>\n",
       "  <tbody>\n",
       "    <tr>\n",
       "      <th>2008-08-30</th>\n",
       "      <td>Sat</td>\n",
       "      <td>vsPV A&amp;M*</td>\n",
       "      <td>L34-14</td>\n",
       "    </tr>\n",
       "    <tr>\n",
       "      <th>2008-09-06</th>\n",
       "      <td>Sat</td>\n",
       "      <td>@Arkansas State</td>\n",
       "      <td>L83-10</td>\n",
       "    </tr>\n",
       "    <tr>\n",
       "      <th>2008-09-13</th>\n",
       "      <td>Sat</td>\n",
       "      <td>@Shaw</td>\n",
       "      <td>W40-29</td>\n",
       "    </tr>\n",
       "    <tr>\n",
       "      <th>2008-09-20</th>\n",
       "      <td>Sat</td>\n",
       "      <td>@Texas College</td>\n",
       "      <td>W28-13</td>\n",
       "    </tr>\n",
       "    <tr>\n",
       "      <th>2008-09-27</th>\n",
       "      <td>Sat</td>\n",
       "      <td>vsConcordia Col.</td>\n",
       "      <td>W45-27</td>\n",
       "    </tr>\n",
       "  </tbody>\n",
       "</table>\n",
       "</div>"
      ],
      "text/plain": [
       "            Day          OPPONENT RESULT/TIME\n",
       "full_date                                    \n",
       "2008-08-30  Sat         vsPV A&M*      L34-14\n",
       "2008-09-06  Sat   @Arkansas State      L83-10\n",
       "2008-09-13  Sat             @Shaw      W40-29\n",
       "2008-09-20  Sat    @Texas College      W28-13\n",
       "2008-09-27  Sat  vsConcordia Col.      W45-27"
      ]
     },
     "execution_count": 22,
     "metadata": {},
     "output_type": "execute_result"
    }
   ],
   "source": [
    "tsu.head()"
   ]
  },
  {
   "cell_type": "code",
   "execution_count": 23,
   "metadata": {},
   "outputs": [
    {
     "name": "stdout",
     "output_type": "stream",
     "text": [
      "<class 'pandas.core.frame.DataFrame'>\n",
      "DatetimeIndex: 112 entries, 2008-08-30 to 2017-11-25\n",
      "Data columns (total 3 columns):\n",
      "Day            112 non-null object\n",
      "OPPONENT       112 non-null object\n",
      "RESULT/TIME    112 non-null object\n",
      "dtypes: object(3)\n",
      "memory usage: 3.5+ KB\n"
     ]
    }
   ],
   "source": [
    "tsu.info()"
   ]
  },
  {
   "cell_type": "markdown",
   "metadata": {},
   "source": [
    "# Create new column\n",
    "- home_away given values of OPPONENT column"
   ]
  },
  {
   "cell_type": "code",
   "execution_count": 24,
   "metadata": {},
   "outputs": [],
   "source": [
    "tsu['away_home'] = np.where(tsu['OPPONENT'].str.contains('@'),'away', 'home')"
   ]
  },
  {
   "cell_type": "code",
   "execution_count": 25,
   "metadata": {},
   "outputs": [
    {
     "data": {
      "text/html": [
       "<div>\n",
       "<style scoped>\n",
       "    .dataframe tbody tr th:only-of-type {\n",
       "        vertical-align: middle;\n",
       "    }\n",
       "\n",
       "    .dataframe tbody tr th {\n",
       "        vertical-align: top;\n",
       "    }\n",
       "\n",
       "    .dataframe thead th {\n",
       "        text-align: right;\n",
       "    }\n",
       "</style>\n",
       "<table border=\"1\" class=\"dataframe\">\n",
       "  <thead>\n",
       "    <tr style=\"text-align: right;\">\n",
       "      <th></th>\n",
       "      <th>Day</th>\n",
       "      <th>OPPONENT</th>\n",
       "      <th>RESULT/TIME</th>\n",
       "      <th>away_home</th>\n",
       "    </tr>\n",
       "    <tr>\n",
       "      <th>full_date</th>\n",
       "      <th></th>\n",
       "      <th></th>\n",
       "      <th></th>\n",
       "      <th></th>\n",
       "    </tr>\n",
       "  </thead>\n",
       "  <tbody>\n",
       "    <tr>\n",
       "      <th>2008-08-30</th>\n",
       "      <td>Sat</td>\n",
       "      <td>vsPV A&amp;M*</td>\n",
       "      <td>L34-14</td>\n",
       "      <td>home</td>\n",
       "    </tr>\n",
       "    <tr>\n",
       "      <th>2008-09-06</th>\n",
       "      <td>Sat</td>\n",
       "      <td>@Arkansas State</td>\n",
       "      <td>L83-10</td>\n",
       "      <td>away</td>\n",
       "    </tr>\n",
       "    <tr>\n",
       "      <th>2008-09-13</th>\n",
       "      <td>Sat</td>\n",
       "      <td>@Shaw</td>\n",
       "      <td>W40-29</td>\n",
       "      <td>away</td>\n",
       "    </tr>\n",
       "    <tr>\n",
       "      <th>2008-09-20</th>\n",
       "      <td>Sat</td>\n",
       "      <td>@Texas College</td>\n",
       "      <td>W28-13</td>\n",
       "      <td>away</td>\n",
       "    </tr>\n",
       "    <tr>\n",
       "      <th>2008-09-27</th>\n",
       "      <td>Sat</td>\n",
       "      <td>vsConcordia Col.</td>\n",
       "      <td>W45-27</td>\n",
       "      <td>home</td>\n",
       "    </tr>\n",
       "  </tbody>\n",
       "</table>\n",
       "</div>"
      ],
      "text/plain": [
       "            Day          OPPONENT RESULT/TIME away_home\n",
       "full_date                                              \n",
       "2008-08-30  Sat         vsPV A&M*      L34-14      home\n",
       "2008-09-06  Sat   @Arkansas State      L83-10      away\n",
       "2008-09-13  Sat             @Shaw      W40-29      away\n",
       "2008-09-20  Sat    @Texas College      W28-13      away\n",
       "2008-09-27  Sat  vsConcordia Col.      W45-27      home"
      ]
     },
     "execution_count": 25,
     "metadata": {},
     "output_type": "execute_result"
    }
   ],
   "source": [
    "tsu.head()"
   ]
  },
  {
   "cell_type": "markdown",
   "metadata": {},
   "source": [
    "## remove extra str values from OPPONENT\n",
    "- vs\n",
    "- @\n"
   ]
  },
  {
   "cell_type": "code",
   "execution_count": 26,
   "metadata": {},
   "outputs": [],
   "source": [
    "tsu['OPPONENT']= tsu['OPPONENT'].str.replace('vs','')\n",
    "\n",
    "tsu['OPPONENT']= tsu['OPPONENT'].str.replace('@','')"
   ]
  },
  {
   "cell_type": "code",
   "execution_count": 27,
   "metadata": {},
   "outputs": [
    {
     "data": {
      "text/html": [
       "<div>\n",
       "<style scoped>\n",
       "    .dataframe tbody tr th:only-of-type {\n",
       "        vertical-align: middle;\n",
       "    }\n",
       "\n",
       "    .dataframe tbody tr th {\n",
       "        vertical-align: top;\n",
       "    }\n",
       "\n",
       "    .dataframe thead th {\n",
       "        text-align: right;\n",
       "    }\n",
       "</style>\n",
       "<table border=\"1\" class=\"dataframe\">\n",
       "  <thead>\n",
       "    <tr style=\"text-align: right;\">\n",
       "      <th></th>\n",
       "      <th>Day</th>\n",
       "      <th>OPPONENT</th>\n",
       "      <th>RESULT/TIME</th>\n",
       "      <th>away_home</th>\n",
       "    </tr>\n",
       "    <tr>\n",
       "      <th>full_date</th>\n",
       "      <th></th>\n",
       "      <th></th>\n",
       "      <th></th>\n",
       "      <th></th>\n",
       "    </tr>\n",
       "  </thead>\n",
       "  <tbody>\n",
       "    <tr>\n",
       "      <th>2008-08-30</th>\n",
       "      <td>Sat</td>\n",
       "      <td>PV A&amp;M*</td>\n",
       "      <td>L34-14</td>\n",
       "      <td>home</td>\n",
       "    </tr>\n",
       "    <tr>\n",
       "      <th>2008-09-06</th>\n",
       "      <td>Sat</td>\n",
       "      <td>Arkansas State</td>\n",
       "      <td>L83-10</td>\n",
       "      <td>away</td>\n",
       "    </tr>\n",
       "    <tr>\n",
       "      <th>2008-09-13</th>\n",
       "      <td>Sat</td>\n",
       "      <td>Shaw</td>\n",
       "      <td>W40-29</td>\n",
       "      <td>away</td>\n",
       "    </tr>\n",
       "    <tr>\n",
       "      <th>2008-09-20</th>\n",
       "      <td>Sat</td>\n",
       "      <td>Texas College</td>\n",
       "      <td>W28-13</td>\n",
       "      <td>away</td>\n",
       "    </tr>\n",
       "    <tr>\n",
       "      <th>2008-09-27</th>\n",
       "      <td>Sat</td>\n",
       "      <td>Concordia Col.</td>\n",
       "      <td>W45-27</td>\n",
       "      <td>home</td>\n",
       "    </tr>\n",
       "  </tbody>\n",
       "</table>\n",
       "</div>"
      ],
      "text/plain": [
       "            Day        OPPONENT RESULT/TIME away_home\n",
       "full_date                                            \n",
       "2008-08-30  Sat         PV A&M*      L34-14      home\n",
       "2008-09-06  Sat  Arkansas State      L83-10      away\n",
       "2008-09-13  Sat            Shaw      W40-29      away\n",
       "2008-09-20  Sat   Texas College      W28-13      away\n",
       "2008-09-27  Sat  Concordia Col.      W45-27      home"
      ]
     },
     "execution_count": 27,
     "metadata": {},
     "output_type": "execute_result"
    }
   ],
   "source": [
    "tsu.head()"
   ]
  },
  {
   "cell_type": "markdown",
   "metadata": {},
   "source": [
    "## create new col for RESULT/TIME"
   ]
  },
  {
   "cell_type": "code",
   "execution_count": 28,
   "metadata": {},
   "outputs": [],
   "source": [
    "tsu['win_lost'] = np.where(tsu['RESULT/TIME'].str.contains('L'),'L', 'W')"
   ]
  },
  {
   "cell_type": "code",
   "execution_count": 29,
   "metadata": {},
   "outputs": [
    {
     "data": {
      "text/html": [
       "<div>\n",
       "<style scoped>\n",
       "    .dataframe tbody tr th:only-of-type {\n",
       "        vertical-align: middle;\n",
       "    }\n",
       "\n",
       "    .dataframe tbody tr th {\n",
       "        vertical-align: top;\n",
       "    }\n",
       "\n",
       "    .dataframe thead th {\n",
       "        text-align: right;\n",
       "    }\n",
       "</style>\n",
       "<table border=\"1\" class=\"dataframe\">\n",
       "  <thead>\n",
       "    <tr style=\"text-align: right;\">\n",
       "      <th></th>\n",
       "      <th>Day</th>\n",
       "      <th>OPPONENT</th>\n",
       "      <th>RESULT/TIME</th>\n",
       "      <th>away_home</th>\n",
       "      <th>win_lost</th>\n",
       "    </tr>\n",
       "    <tr>\n",
       "      <th>full_date</th>\n",
       "      <th></th>\n",
       "      <th></th>\n",
       "      <th></th>\n",
       "      <th></th>\n",
       "      <th></th>\n",
       "    </tr>\n",
       "  </thead>\n",
       "  <tbody>\n",
       "    <tr>\n",
       "      <th>2008-08-30</th>\n",
       "      <td>Sat</td>\n",
       "      <td>PV A&amp;M*</td>\n",
       "      <td>L34-14</td>\n",
       "      <td>home</td>\n",
       "      <td>L</td>\n",
       "    </tr>\n",
       "    <tr>\n",
       "      <th>2008-09-06</th>\n",
       "      <td>Sat</td>\n",
       "      <td>Arkansas State</td>\n",
       "      <td>L83-10</td>\n",
       "      <td>away</td>\n",
       "      <td>L</td>\n",
       "    </tr>\n",
       "    <tr>\n",
       "      <th>2008-09-13</th>\n",
       "      <td>Sat</td>\n",
       "      <td>Shaw</td>\n",
       "      <td>W40-29</td>\n",
       "      <td>away</td>\n",
       "      <td>W</td>\n",
       "    </tr>\n",
       "    <tr>\n",
       "      <th>2008-09-20</th>\n",
       "      <td>Sat</td>\n",
       "      <td>Texas College</td>\n",
       "      <td>W28-13</td>\n",
       "      <td>away</td>\n",
       "      <td>W</td>\n",
       "    </tr>\n",
       "    <tr>\n",
       "      <th>2008-09-27</th>\n",
       "      <td>Sat</td>\n",
       "      <td>Concordia Col.</td>\n",
       "      <td>W45-27</td>\n",
       "      <td>home</td>\n",
       "      <td>W</td>\n",
       "    </tr>\n",
       "  </tbody>\n",
       "</table>\n",
       "</div>"
      ],
      "text/plain": [
       "            Day        OPPONENT RESULT/TIME away_home win_lost\n",
       "full_date                                                     \n",
       "2008-08-30  Sat         PV A&M*      L34-14      home        L\n",
       "2008-09-06  Sat  Arkansas State      L83-10      away        L\n",
       "2008-09-13  Sat            Shaw      W40-29      away        W\n",
       "2008-09-20  Sat   Texas College      W28-13      away        W\n",
       "2008-09-27  Sat  Concordia Col.      W45-27      home        W"
      ]
     },
     "execution_count": 29,
     "metadata": {},
     "output_type": "execute_result"
    }
   ],
   "source": [
    "tsu.head()"
   ]
  },
  {
   "cell_type": "markdown",
   "metadata": {},
   "source": [
    "## remove extra str values from  RESULT/TIME\n",
    "- L\n",
    "- W"
   ]
  },
  {
   "cell_type": "code",
   "execution_count": 30,
   "metadata": {},
   "outputs": [],
   "source": [
    "tsu['RESULT/TIME']= tsu['RESULT/TIME'].str.replace('L','')\n",
    "\n",
    "tsu['RESULT/TIME']= tsu['RESULT/TIME'].str.replace('W','')\n",
    "tsu['RESULT/TIME'] = tsu['RESULT/TIME'].str.strip()"
   ]
  },
  {
   "cell_type": "code",
   "execution_count": 31,
   "metadata": {},
   "outputs": [
    {
     "data": {
      "text/html": [
       "<div>\n",
       "<style scoped>\n",
       "    .dataframe tbody tr th:only-of-type {\n",
       "        vertical-align: middle;\n",
       "    }\n",
       "\n",
       "    .dataframe tbody tr th {\n",
       "        vertical-align: top;\n",
       "    }\n",
       "\n",
       "    .dataframe thead th {\n",
       "        text-align: right;\n",
       "    }\n",
       "</style>\n",
       "<table border=\"1\" class=\"dataframe\">\n",
       "  <thead>\n",
       "    <tr style=\"text-align: right;\">\n",
       "      <th></th>\n",
       "      <th>Day</th>\n",
       "      <th>OPPONENT</th>\n",
       "      <th>RESULT/TIME</th>\n",
       "      <th>away_home</th>\n",
       "      <th>win_lost</th>\n",
       "    </tr>\n",
       "    <tr>\n",
       "      <th>full_date</th>\n",
       "      <th></th>\n",
       "      <th></th>\n",
       "      <th></th>\n",
       "      <th></th>\n",
       "      <th></th>\n",
       "    </tr>\n",
       "  </thead>\n",
       "  <tbody>\n",
       "    <tr>\n",
       "      <th>2008-08-30</th>\n",
       "      <td>Sat</td>\n",
       "      <td>PV A&amp;M*</td>\n",
       "      <td>34-14</td>\n",
       "      <td>home</td>\n",
       "      <td>L</td>\n",
       "    </tr>\n",
       "    <tr>\n",
       "      <th>2008-09-06</th>\n",
       "      <td>Sat</td>\n",
       "      <td>Arkansas State</td>\n",
       "      <td>83-10</td>\n",
       "      <td>away</td>\n",
       "      <td>L</td>\n",
       "    </tr>\n",
       "    <tr>\n",
       "      <th>2008-09-13</th>\n",
       "      <td>Sat</td>\n",
       "      <td>Shaw</td>\n",
       "      <td>40-29</td>\n",
       "      <td>away</td>\n",
       "      <td>W</td>\n",
       "    </tr>\n",
       "    <tr>\n",
       "      <th>2008-09-20</th>\n",
       "      <td>Sat</td>\n",
       "      <td>Texas College</td>\n",
       "      <td>28-13</td>\n",
       "      <td>away</td>\n",
       "      <td>W</td>\n",
       "    </tr>\n",
       "    <tr>\n",
       "      <th>2008-09-27</th>\n",
       "      <td>Sat</td>\n",
       "      <td>Concordia Col.</td>\n",
       "      <td>45-27</td>\n",
       "      <td>home</td>\n",
       "      <td>W</td>\n",
       "    </tr>\n",
       "  </tbody>\n",
       "</table>\n",
       "</div>"
      ],
      "text/plain": [
       "            Day        OPPONENT RESULT/TIME away_home win_lost\n",
       "full_date                                                     \n",
       "2008-08-30  Sat         PV A&M*       34-14      home        L\n",
       "2008-09-06  Sat  Arkansas State       83-10      away        L\n",
       "2008-09-13  Sat            Shaw       40-29      away        W\n",
       "2008-09-20  Sat   Texas College       28-13      away        W\n",
       "2008-09-27  Sat  Concordia Col.       45-27      home        W"
      ]
     },
     "execution_count": 31,
     "metadata": {},
     "output_type": "execute_result"
    }
   ],
   "source": [
    "tsu.head()"
   ]
  },
  {
   "cell_type": "markdown",
   "metadata": {},
   "source": [
    "## Rename columns"
   ]
  },
  {
   "cell_type": "code",
   "execution_count": 32,
   "metadata": {},
   "outputs": [],
   "source": [
    "tsu.rename(columns={'OPPONENT':'Opponent',\n",
    "                  'RESULT/TIME':'Result'}, inplace=True)"
   ]
  },
  {
   "cell_type": "code",
   "execution_count": 33,
   "metadata": {},
   "outputs": [
    {
     "name": "stdout",
     "output_type": "stream",
     "text": [
      "<class 'pandas.core.frame.DataFrame'>\n",
      "DatetimeIndex: 112 entries, 2008-08-30 to 2017-11-25\n",
      "Data columns (total 5 columns):\n",
      "Day          112 non-null object\n",
      "Opponent     112 non-null object\n",
      "Result       112 non-null object\n",
      "away_home    112 non-null object\n",
      "win_lost     112 non-null object\n",
      "dtypes: object(5)\n",
      "memory usage: 5.2+ KB\n"
     ]
    }
   ],
   "source": [
    "tsu.info()"
   ]
  },
  {
   "cell_type": "code",
   "execution_count": 34,
   "metadata": {},
   "outputs": [
    {
     "data": {
      "text/plain": [
       "array(['Sat', 'Thu', 'Sun', 'Fri'], dtype=object)"
      ]
     },
     "execution_count": 34,
     "metadata": {},
     "output_type": "execute_result"
    }
   ],
   "source": [
    "tsu['Day'].unique()"
   ]
  },
  {
   "cell_type": "code",
   "execution_count": 35,
   "metadata": {},
   "outputs": [
    {
     "data": {
      "text/plain": [
       "array(['PV A&M*', 'Arkansas State', 'Shaw', 'Texas College',\n",
       "       'Concordia Col.', 'Texas State', 'Southern', 'Jackson State',\n",
       "       'Alcorn State', 'Miss Valley St', 'Grambling*', 'AR-Pine Bluff',\n",
       "       'PV A&M', 'UL Monroe', 'Rutgers', 'Grambling', 'AR-Pine Bluff* ',\n",
       "       'UConn', 'Alabama A&M', 'Tuskegee*', 'Alabama State',\n",
       "       'Alabama State*', 'Texas College ', 'Central St', 'North Texas',\n",
       "       'Sam Houston', 'Howard', 'Central St*', ' PV A&M ',\n",
       "       'Bacone College', '    Alabama State', '    Miss Valley St',\n",
       "       '    Southern', '    Faith-Arkansas ', '    Grambling',\n",
       "       '    Alcorn State', '    Alabama A&M', 'Houston Baptist ',\n",
       "       'Sam Houston ', 'Southern ', 'Florida A&M  ', 'Alcorn State ',\n",
       "       'Kennesaw St', 'Grambling  ', 'AR-Pine Bluff*', 'PV A&M '],\n",
       "      dtype=object)"
      ]
     },
     "execution_count": 35,
     "metadata": {},
     "output_type": "execute_result"
    }
   ],
   "source": [
    "tsu['Opponent'].unique()  # need to clean up"
   ]
  },
  {
   "cell_type": "code",
   "execution_count": 36,
   "metadata": {},
   "outputs": [
    {
     "data": {
      "text/plain": [
       "array(['34-14', '83-10', '40-29', '28-13', '45-27', '63-39', '45-14',\n",
       "       '30-14', '30-29', '58-44', '33-7', '28-7', '17-7', '58-0', '75-6',\n",
       "       '52-18', '42-0', '19-17', '51-21', '30-7', '47-33', '14-10',\n",
       "       '30-25', '16-14', '62-3', '32-9', '21-14', '21-7', '30-20',\n",
       "       '21-18', '38-7', '54-7', '41-34 OT', '20-13', '11-6', '37-34',\n",
       "       '49-6', '14-7', '58-13', '43-29', '24-21', '42-11', '12-9',\n",
       "       '29-15', '29-25', '42-6', '44-41', '34-7', '45-35', '42-13',\n",
       "       '50-6', '45-0', '23-20', '49-3', '34-24', '34-3', '37-13', '55-17',\n",
       "       '35-7', '12-10', '34-2', '41-28', '23-17 OT', '31-24', '20-17',\n",
       "       '40-6', '37-35', '52-14', '30-16', '45-23', '38-3', '20-16',\n",
       "       '40-25', '38-37', '15-10', '38-11', '63-0', '24-20', '34-30',\n",
       "       '41-23', '49-21', '40-21', 'Canceled', '41-15', '65-13', '31-0',\n",
       "       '31-27', '34-31', '21-13', '66-17', '26-10', '27-10', '47-28',\n",
       "       '29-7', '24-17', '30-13', '48-3', '23-16', '50-24', '38-21',\n",
       "       '24-10'], dtype=object)"
      ]
     },
     "execution_count": 36,
     "metadata": {},
     "output_type": "execute_result"
    }
   ],
   "source": [
    "tsu['Result'].unique()"
   ]
  },
  {
   "cell_type": "code",
   "execution_count": 37,
   "metadata": {},
   "outputs": [
    {
     "data": {
      "text/plain": [
       "array(['home', 'away'], dtype=object)"
      ]
     },
     "execution_count": 37,
     "metadata": {},
     "output_type": "execute_result"
    }
   ],
   "source": [
    "tsu['away_home'].unique()"
   ]
  },
  {
   "cell_type": "code",
   "execution_count": 38,
   "metadata": {},
   "outputs": [
    {
     "data": {
      "text/plain": [
       "array(['L', 'W'], dtype=object)"
      ]
     },
     "execution_count": 38,
     "metadata": {},
     "output_type": "execute_result"
    }
   ],
   "source": [
    "tsu['win_lost'].unique()"
   ]
  },
  {
   "cell_type": "markdown",
   "metadata": {},
   "source": [
    "## cleanup Opponenet column\n",
    "- remove '*' from values"
   ]
  },
  {
   "cell_type": "code",
   "execution_count": 39,
   "metadata": {},
   "outputs": [
    {
     "data": {
      "text/plain": [
       "array(['PV A&M*', 'Arkansas State', 'Shaw', 'Texas College',\n",
       "       'Concordia Col.', 'Texas State', 'Southern', 'Jackson State',\n",
       "       'Alcorn State', 'Miss Valley St', 'Grambling*', 'AR-Pine Bluff',\n",
       "       'PV A&M', 'UL Monroe', 'Rutgers', 'Grambling', 'AR-Pine Bluff* ',\n",
       "       'UConn', 'Alabama A&M', 'Tuskegee*', 'Alabama State',\n",
       "       'Alabama State*', 'Texas College ', 'Central St', 'North Texas',\n",
       "       'Sam Houston', 'Howard', 'Central St*', ' PV A&M ',\n",
       "       'Bacone College', '    Alabama State', '    Miss Valley St',\n",
       "       '    Southern', '    Faith-Arkansas ', '    Grambling',\n",
       "       '    Alcorn State', '    Alabama A&M', 'Houston Baptist ',\n",
       "       'Sam Houston ', 'Southern ', 'Florida A&M  ', 'Alcorn State ',\n",
       "       'Kennesaw St', 'Grambling  ', 'AR-Pine Bluff*', 'PV A&M '],\n",
       "      dtype=object)"
      ]
     },
     "execution_count": 39,
     "metadata": {},
     "output_type": "execute_result"
    }
   ],
   "source": [
    "tsu['Opponent'].unique()"
   ]
  },
  {
   "cell_type": "code",
   "execution_count": 40,
   "metadata": {},
   "outputs": [],
   "source": [
    "tsu['Opponent']= tsu['Opponent'].str.replace('*','')\n",
    "tsu['Opponent'] = tsu['Opponent'].str.strip()"
   ]
  },
  {
   "cell_type": "code",
   "execution_count": 41,
   "metadata": {},
   "outputs": [
    {
     "data": {
      "text/plain": [
       "Grambling          10\n",
       "PV A&M             10\n",
       "Alcorn State       10\n",
       "Miss Valley St     10\n",
       "AR-Pine Bluff      10\n",
       "Southern           10\n",
       "Jackson State       9\n",
       "Alabama State       9\n",
       "Alabama A&M         8\n",
       "Texas College       4\n",
       "Sam Houston         3\n",
       "Central St          2\n",
       "Houston Baptist     2\n",
       "Texas State         2\n",
       "Faith-Arkansas      1\n",
       "Rutgers             1\n",
       "Howard              1\n",
       "UConn               1\n",
       "Kennesaw St         1\n",
       "UL Monroe           1\n",
       "North Texas         1\n",
       "Shaw                1\n",
       "Bacone College      1\n",
       "Concordia Col.      1\n",
       "Arkansas State      1\n",
       "Florida A&M         1\n",
       "Tuskegee            1\n",
       "Name: Opponent, dtype: int64"
      ]
     },
     "execution_count": 41,
     "metadata": {},
     "output_type": "execute_result"
    }
   ],
   "source": [
    "tsu['Opponent'].value_counts(dropna=False)"
   ]
  },
  {
   "cell_type": "code",
   "execution_count": 42,
   "metadata": {},
   "outputs": [
    {
     "data": {
      "text/html": [
       "<div>\n",
       "<style scoped>\n",
       "    .dataframe tbody tr th:only-of-type {\n",
       "        vertical-align: middle;\n",
       "    }\n",
       "\n",
       "    .dataframe tbody tr th {\n",
       "        vertical-align: top;\n",
       "    }\n",
       "\n",
       "    .dataframe thead th {\n",
       "        text-align: right;\n",
       "    }\n",
       "</style>\n",
       "<table border=\"1\" class=\"dataframe\">\n",
       "  <thead>\n",
       "    <tr style=\"text-align: right;\">\n",
       "      <th></th>\n",
       "      <th>Day</th>\n",
       "      <th>Opponent</th>\n",
       "      <th>Result</th>\n",
       "      <th>away_home</th>\n",
       "      <th>win_lost</th>\n",
       "    </tr>\n",
       "    <tr>\n",
       "      <th>full_date</th>\n",
       "      <th></th>\n",
       "      <th></th>\n",
       "      <th></th>\n",
       "      <th></th>\n",
       "      <th></th>\n",
       "    </tr>\n",
       "  </thead>\n",
       "  <tbody>\n",
       "    <tr>\n",
       "      <th>2008-08-30</th>\n",
       "      <td>Sat</td>\n",
       "      <td>PV A&amp;M</td>\n",
       "      <td>34-14</td>\n",
       "      <td>home</td>\n",
       "      <td>L</td>\n",
       "    </tr>\n",
       "    <tr>\n",
       "      <th>2008-09-06</th>\n",
       "      <td>Sat</td>\n",
       "      <td>Arkansas State</td>\n",
       "      <td>83-10</td>\n",
       "      <td>away</td>\n",
       "      <td>L</td>\n",
       "    </tr>\n",
       "    <tr>\n",
       "      <th>2008-09-13</th>\n",
       "      <td>Sat</td>\n",
       "      <td>Shaw</td>\n",
       "      <td>40-29</td>\n",
       "      <td>away</td>\n",
       "      <td>W</td>\n",
       "    </tr>\n",
       "    <tr>\n",
       "      <th>2008-09-20</th>\n",
       "      <td>Sat</td>\n",
       "      <td>Texas College</td>\n",
       "      <td>28-13</td>\n",
       "      <td>away</td>\n",
       "      <td>W</td>\n",
       "    </tr>\n",
       "    <tr>\n",
       "      <th>2008-09-27</th>\n",
       "      <td>Sat</td>\n",
       "      <td>Concordia Col.</td>\n",
       "      <td>45-27</td>\n",
       "      <td>home</td>\n",
       "      <td>W</td>\n",
       "    </tr>\n",
       "  </tbody>\n",
       "</table>\n",
       "</div>"
      ],
      "text/plain": [
       "            Day        Opponent Result away_home win_lost\n",
       "full_date                                                \n",
       "2008-08-30  Sat          PV A&M  34-14      home        L\n",
       "2008-09-06  Sat  Arkansas State  83-10      away        L\n",
       "2008-09-13  Sat            Shaw  40-29      away        W\n",
       "2008-09-20  Sat   Texas College  28-13      away        W\n",
       "2008-09-27  Sat  Concordia Col.  45-27      home        W"
      ]
     },
     "execution_count": 42,
     "metadata": {},
     "output_type": "execute_result"
    }
   ],
   "source": [
    "tsu.head()"
   ]
  },
  {
   "cell_type": "markdown",
   "metadata": {},
   "source": [
    "## Save clean data to  to csv"
   ]
  },
  {
   "cell_type": "code",
   "execution_count": 43,
   "metadata": {},
   "outputs": [],
   "source": [
    "tsu.to_csv('sports_data_clean/tsu_08_17_clean.csv')"
   ]
  },
  {
   "cell_type": "code",
   "execution_count": 44,
   "metadata": {},
   "outputs": [
    {
     "name": "stdout",
     "output_type": "stream",
     "text": [
      "\u001b[0m\u001b[01;32mastros_08_17_clean.csv\u001b[0m*       \u001b[01;32mnfl_08_17_clean.csv\u001b[0m*  \u001b[01;32mrice_08_17_clean.csv\u001b[0m*\r\n",
      "\u001b[01;32mdynamo_08_17_clean.csv\u001b[0m*       \u001b[01;32mnfl10clean.csv\u001b[0m*       \u001b[01;32mtsu_08_17_clean.csv\u001b[0m*\r\n",
      "\u001b[01;32mhou_rockets_08_17_clean.csv\u001b[0m*  \u001b[01;32mnfl10yearsfull.csv\u001b[0m*\r\n"
     ]
    }
   ],
   "source": [
    "ls sports_data_clean/"
   ]
  },
  {
   "cell_type": "code",
   "execution_count": 45,
   "metadata": {},
   "outputs": [],
   "source": [
    "## finish"
   ]
  },
  {
   "cell_type": "code",
   "execution_count": null,
   "metadata": {},
   "outputs": [],
   "source": []
  }
 ],
 "metadata": {
  "kernelspec": {
   "display_name": "Python 3",
   "language": "python",
   "name": "python3"
  },
  "language_info": {
   "codemirror_mode": {
    "name": "ipython",
    "version": 3
   },
   "file_extension": ".py",
   "mimetype": "text/x-python",
   "name": "python",
   "nbconvert_exporter": "python",
   "pygments_lexer": "ipython3",
   "version": "3.6.4"
  }
 },
 "nbformat": 4,
 "nbformat_minor": 2
}
