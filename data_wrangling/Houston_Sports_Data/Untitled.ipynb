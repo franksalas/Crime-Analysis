{
 "cells": [
  {
   "cell_type": "code",
   "execution_count": 42,
   "metadata": {},
   "outputs": [],
   "source": [
    "import pandas as pd\n",
    "import numpy as np\n",
    "import matplotlib.pyplot as plt\n",
    "import seaborn as sns"
   ]
  },
  {
   "cell_type": "code",
   "execution_count": 43,
   "metadata": {},
   "outputs": [
    {
     "name": "stdout",
     "output_type": "stream",
     "text": [
      "\u001b[0m\u001b[01;32mnfl10clean.csv\u001b[0m*      \u001b[01;32mnfl17yearsfull_PST_raw.csv\u001b[0m*\r\n",
      "\u001b[01;32mnfl10yearsfull.csv\u001b[0m*  \u001b[01;32mnfl17yearsfull_raw.csv\u001b[0m*\r\n"
     ]
    }
   ],
   "source": [
    "ls sports_data_raw/NFL/"
   ]
  },
  {
   "cell_type": "code",
   "execution_count": 44,
   "metadata": {},
   "outputs": [],
   "source": [
    "# path_reg = 'sports_data_clean/nfl17years_clean.csv'\n",
    "# path_pst = 'sports_data_clean/nfl17years_PST_clean.csv'\n",
    "# df_reg = pd.read_csv(path_reg,index_col='scheduled')\n",
    "# df_pst = pd.read_csv(path_pst, index_col='scheduled')"
   ]
  },
  {
   "cell_type": "code",
   "execution_count": 45,
   "metadata": {},
   "outputs": [],
   "source": [
    "path_reg = 'sports_data_raw/NFL/nfl17yearsfull_raw.csv'\n",
    "path_pst = 'sports_data_raw/NFL/nfl17yearsfull_PST_raw.csv'\n",
    "df_reg = pd.read_csv(path_reg,index_col='scheduled')\n",
    "df_pst = pd.read_csv(path_pst, index_col='scheduled')"
   ]
  },
  {
   "cell_type": "code",
   "execution_count": 46,
   "metadata": {},
   "outputs": [
    {
     "name": "stdout",
     "output_type": "stream",
     "text": [
      "<class 'pandas.core.frame.DataFrame'>\n",
      "Index: 4593 entries, 2000-09-03T18:03:36+00:00 to 2017-12-31T21:25:00+00:00\n",
      "Data columns (total 33 columns):\n",
      "Unnamed: 0             4593 non-null int64\n",
      "attendance             4592 non-null float64\n",
      "away.alias             4593 non-null object\n",
      "away.game_number       4593 non-null int64\n",
      "away.id                4593 non-null object\n",
      "away.name              4593 non-null object\n",
      "broadcast.internet     81 non-null object\n",
      "broadcast.network      1536 non-null object\n",
      "broadcast.satellite    801 non-null float64\n",
      "entry_mode             4593 non-null object\n",
      "home.alias             4593 non-null object\n",
      "home.game_number       4593 non-null int64\n",
      "home.id                4593 non-null object\n",
      "home.name              4593 non-null object\n",
      "id                     4593 non-null object\n",
      "number                 1537 non-null float64\n",
      "reference              1537 non-null float64\n",
      "scoring.away_points    4592 non-null float64\n",
      "scoring.home_points    4592 non-null float64\n",
      "scoring.periods        4592 non-null object\n",
      "status                 4593 non-null object\n",
      "utc_offset             4592 non-null float64\n",
      "venue.address          4593 non-null object\n",
      "venue.capacity         4593 non-null int64\n",
      "venue.city             4593 non-null object\n",
      "venue.country          4145 non-null object\n",
      "venue.id               4593 non-null object\n",
      "venue.name             4593 non-null object\n",
      "venue.roof_type        4593 non-null object\n",
      "venue.state            4569 non-null object\n",
      "venue.surface          4593 non-null object\n",
      "venue.zip              4587 non-null object\n",
      "weather                2307 non-null object\n",
      "dtypes: float64(7), int64(4), object(22)\n",
      "memory usage: 1.2+ MB\n"
     ]
    }
   ],
   "source": [
    "df_reg.info()"
   ]
  },
  {
   "cell_type": "code",
   "execution_count": 47,
   "metadata": {},
   "outputs": [
    {
     "name": "stdout",
     "output_type": "stream",
     "text": [
      "<class 'pandas.core.frame.DataFrame'>\n",
      "Index: 201 entries, 2000-12-30T17:32:48+00:00 to 2018-01-28T20:00:00+00:00\n",
      "Data columns (total 33 columns):\n",
      "Unnamed: 0             201 non-null int64\n",
      "attendance             201 non-null int64\n",
      "away.alias             201 non-null object\n",
      "away.game_number       187 non-null float64\n",
      "away.id                201 non-null object\n",
      "away.name              201 non-null object\n",
      "broadcast.internet     6 non-null object\n",
      "broadcast.network      68 non-null object\n",
      "broadcast.satellite    4 non-null float64\n",
      "entry_mode             201 non-null object\n",
      "home.alias             201 non-null object\n",
      "home.game_number       187 non-null float64\n",
      "home.id                201 non-null object\n",
      "home.name              201 non-null object\n",
      "id                     201 non-null object\n",
      "number                 68 non-null float64\n",
      "reference              68 non-null float64\n",
      "scoring.away_points    201 non-null int64\n",
      "scoring.home_points    201 non-null int64\n",
      "scoring.periods        201 non-null object\n",
      "status                 201 non-null object\n",
      "utc_offset             201 non-null int64\n",
      "venue.address          201 non-null object\n",
      "venue.capacity         201 non-null int64\n",
      "venue.city             201 non-null object\n",
      "venue.country          184 non-null object\n",
      "venue.id               201 non-null object\n",
      "venue.name             201 non-null object\n",
      "venue.roof_type        201 non-null object\n",
      "venue.state            201 non-null object\n",
      "venue.surface          201 non-null object\n",
      "venue.zip              199 non-null float64\n",
      "weather                110 non-null object\n",
      "dtypes: float64(6), int64(6), object(21)\n",
      "memory usage: 53.4+ KB\n"
     ]
    }
   ],
   "source": [
    "df_pst.info()"
   ]
  },
  {
   "cell_type": "markdown",
   "metadata": {},
   "source": [
    "## Team with the most wins\n",
    "- reg\n",
    "- post"
   ]
  },
  {
   "cell_type": "code",
   "execution_count": 50,
   "metadata": {},
   "outputs": [
    {
     "data": {
      "text/html": [
       "<div>\n",
       "<style scoped>\n",
       "    .dataframe tbody tr th:only-of-type {\n",
       "        vertical-align: middle;\n",
       "    }\n",
       "\n",
       "    .dataframe tbody tr th {\n",
       "        vertical-align: top;\n",
       "    }\n",
       "\n",
       "    .dataframe thead th {\n",
       "        text-align: right;\n",
       "    }\n",
       "</style>\n",
       "<table border=\"1\" class=\"dataframe\">\n",
       "  <thead>\n",
       "    <tr style=\"text-align: right;\">\n",
       "      <th></th>\n",
       "      <th>Unnamed: 0</th>\n",
       "      <th>attendance</th>\n",
       "      <th>away.alias</th>\n",
       "      <th>away.game_number</th>\n",
       "      <th>away.id</th>\n",
       "      <th>away.name</th>\n",
       "      <th>broadcast.internet</th>\n",
       "      <th>broadcast.network</th>\n",
       "      <th>broadcast.satellite</th>\n",
       "      <th>entry_mode</th>\n",
       "      <th>...</th>\n",
       "      <th>venue.capacity</th>\n",
       "      <th>venue.city</th>\n",
       "      <th>venue.country</th>\n",
       "      <th>venue.id</th>\n",
       "      <th>venue.name</th>\n",
       "      <th>venue.roof_type</th>\n",
       "      <th>venue.state</th>\n",
       "      <th>venue.surface</th>\n",
       "      <th>venue.zip</th>\n",
       "      <th>weather</th>\n",
       "    </tr>\n",
       "    <tr>\n",
       "      <th>scheduled</th>\n",
       "      <th></th>\n",
       "      <th></th>\n",
       "      <th></th>\n",
       "      <th></th>\n",
       "      <th></th>\n",
       "      <th></th>\n",
       "      <th></th>\n",
       "      <th></th>\n",
       "      <th></th>\n",
       "      <th></th>\n",
       "      <th></th>\n",
       "      <th></th>\n",
       "      <th></th>\n",
       "      <th></th>\n",
       "      <th></th>\n",
       "      <th></th>\n",
       "      <th></th>\n",
       "      <th></th>\n",
       "      <th></th>\n",
       "      <th></th>\n",
       "      <th></th>\n",
       "    </tr>\n",
       "  </thead>\n",
       "  <tbody>\n",
       "    <tr>\n",
       "      <th>2000-09-03T18:03:36+00:00</th>\n",
       "      <td>0</td>\n",
       "      <td>64900.0</td>\n",
       "      <td>DET</td>\n",
       "      <td>1</td>\n",
       "      <td>c5a59daa-53a7-4de0-851f-fb12be893e9e</td>\n",
       "      <td>Detroit Lions</td>\n",
       "      <td>NaN</td>\n",
       "      <td>NaN</td>\n",
       "      <td>NaN</td>\n",
       "      <td>INGEST</td>\n",
       "      <td>...</td>\n",
       "      <td>76468</td>\n",
       "      <td>New Orleans</td>\n",
       "      <td>USA</td>\n",
       "      <td>3c85d89a-ec66-4983-acd5-1381d6c8673a</td>\n",
       "      <td>Mercedes-Benz Superdome</td>\n",
       "      <td>dome</td>\n",
       "      <td>LA</td>\n",
       "      <td>artificial</td>\n",
       "      <td>70112</td>\n",
       "      <td>Partly Cloudly Temp: 89 F, Wind: West 10 mph</td>\n",
       "    </tr>\n",
       "  </tbody>\n",
       "</table>\n",
       "<p>1 rows × 33 columns</p>\n",
       "</div>"
      ],
      "text/plain": [
       "                           Unnamed: 0  attendance away.alias  \\\n",
       "scheduled                                                      \n",
       "2000-09-03T18:03:36+00:00           0     64900.0        DET   \n",
       "\n",
       "                           away.game_number  \\\n",
       "scheduled                                     \n",
       "2000-09-03T18:03:36+00:00                 1   \n",
       "\n",
       "                                                        away.id  \\\n",
       "scheduled                                                         \n",
       "2000-09-03T18:03:36+00:00  c5a59daa-53a7-4de0-851f-fb12be893e9e   \n",
       "\n",
       "                               away.name broadcast.internet broadcast.network  \\\n",
       "scheduled                                                                       \n",
       "2000-09-03T18:03:36+00:00  Detroit Lions                NaN               NaN   \n",
       "\n",
       "                           broadcast.satellite entry_mode  \\\n",
       "scheduled                                                   \n",
       "2000-09-03T18:03:36+00:00                  NaN     INGEST   \n",
       "\n",
       "                                               ...                       \\\n",
       "scheduled                                      ...                        \n",
       "2000-09-03T18:03:36+00:00                      ...                        \n",
       "\n",
       "                          venue.capacity   venue.city venue.country  \\\n",
       "scheduled                                                             \n",
       "2000-09-03T18:03:36+00:00          76468  New Orleans           USA   \n",
       "\n",
       "                                                       venue.id  \\\n",
       "scheduled                                                         \n",
       "2000-09-03T18:03:36+00:00  3c85d89a-ec66-4983-acd5-1381d6c8673a   \n",
       "\n",
       "                                        venue.name  venue.roof_type  \\\n",
       "scheduled                                                             \n",
       "2000-09-03T18:03:36+00:00  Mercedes-Benz Superdome             dome   \n",
       "\n",
       "                           venue.state  venue.surface  venue.zip  \\\n",
       "scheduled                                                          \n",
       "2000-09-03T18:03:36+00:00           LA     artificial      70112   \n",
       "\n",
       "                                                                weather  \n",
       "scheduled                                                                \n",
       "2000-09-03T18:03:36+00:00  Partly Cloudly Temp: 89 F, Wind: West 10 mph  \n",
       "\n",
       "[1 rows x 33 columns]"
      ]
     },
     "execution_count": 50,
     "metadata": {},
     "output_type": "execute_result"
    }
   ],
   "source": [
    "df_reg.head(1)"
   ]
  },
  {
   "cell_type": "code",
   "execution_count": null,
   "metadata": {},
   "outputs": [],
   "source": []
  },
  {
   "cell_type": "code",
   "execution_count": 65,
   "metadata": {},
   "outputs": [
    {
     "data": {
      "text/html": [
       "<div>\n",
       "<style scoped>\n",
       "    .dataframe tbody tr th:only-of-type {\n",
       "        vertical-align: middle;\n",
       "    }\n",
       "\n",
       "    .dataframe tbody tr th {\n",
       "        vertical-align: top;\n",
       "    }\n",
       "\n",
       "    .dataframe thead th {\n",
       "        text-align: right;\n",
       "    }\n",
       "</style>\n",
       "<table border=\"1\" class=\"dataframe\">\n",
       "  <thead>\n",
       "    <tr style=\"text-align: right;\">\n",
       "      <th></th>\n",
       "      <th>home.alias</th>\n",
       "      <th>venue.capacity</th>\n",
       "      <th>attendance</th>\n",
       "    </tr>\n",
       "    <tr>\n",
       "      <th>scheduled</th>\n",
       "      <th></th>\n",
       "      <th></th>\n",
       "      <th></th>\n",
       "    </tr>\n",
       "  </thead>\n",
       "  <tbody>\n",
       "    <tr>\n",
       "      <th>2000-09-03T18:03:36+00:00</th>\n",
       "      <td>NO</td>\n",
       "      <td>76468</td>\n",
       "      <td>64900.0</td>\n",
       "    </tr>\n",
       "    <tr>\n",
       "      <th>2000-09-03T18:04:35+00:00</th>\n",
       "      <td>NE</td>\n",
       "      <td>60292</td>\n",
       "      <td>60292.0</td>\n",
       "    </tr>\n",
       "    <tr>\n",
       "      <th>2000-09-03T21:15:54+00:00</th>\n",
       "      <td>MIA</td>\n",
       "      <td>76100</td>\n",
       "      <td>72949.0</td>\n",
       "    </tr>\n",
       "    <tr>\n",
       "      <th>2000-09-03T21:20:12+00:00</th>\n",
       "      <td>GB</td>\n",
       "      <td>80750</td>\n",
       "      <td>59870.0</td>\n",
       "    </tr>\n",
       "    <tr>\n",
       "      <th>2000-09-03T19:02:58+00:00</th>\n",
       "      <td>WAS</td>\n",
       "      <td>83000</td>\n",
       "      <td>80257.0</td>\n",
       "    </tr>\n",
       "  </tbody>\n",
       "</table>\n",
       "</div>"
      ],
      "text/plain": [
       "                          home.alias  venue.capacity  attendance\n",
       "scheduled                                                       \n",
       "2000-09-03T18:03:36+00:00         NO           76468     64900.0\n",
       "2000-09-03T18:04:35+00:00         NE           60292     60292.0\n",
       "2000-09-03T21:15:54+00:00        MIA           76100     72949.0\n",
       "2000-09-03T21:20:12+00:00         GB           80750     59870.0\n",
       "2000-09-03T19:02:58+00:00        WAS           83000     80257.0"
      ]
     },
     "execution_count": 65,
     "metadata": {},
     "output_type": "execute_result"
    }
   ],
   "source": [
    "df_reg[['home.alias','venue.capacity', 'attendance']].head()"
   ]
  },
  {
   "cell_type": "code",
   "execution_count": 66,
   "metadata": {},
   "outputs": [
    {
     "data": {
      "text/plain": [
       "Index(['Unnamed: 0', 'attendance', 'away.alias', 'away.game_number', 'away.id',\n",
       "       'away.name', 'broadcast.internet', 'broadcast.network',\n",
       "       'broadcast.satellite', 'entry_mode', 'home.alias', 'home.game_number',\n",
       "       'home.id', 'home.name', 'id', 'number', 'reference',\n",
       "       'scoring.away_points', 'scoring.home_points', 'scoring.periods',\n",
       "       'status', 'utc_offset', 'venue.address', 'venue.capacity', 'venue.city',\n",
       "       'venue.country', 'venue.id', 'venue.name', 'venue.roof_type',\n",
       "       'venue.state', 'venue.surface', 'venue.zip', 'weather'],\n",
       "      dtype='object')"
      ]
     },
     "execution_count": 66,
     "metadata": {},
     "output_type": "execute_result"
    }
   ],
   "source": [
    "df_reg.columns"
   ]
  },
  {
   "cell_type": "code",
   "execution_count": 68,
   "metadata": {},
   "outputs": [
    {
     "data": {
      "text/plain": [
       "array(['Mercedes-Benz Superdome', 'Foxboro Stadium', 'Hard Rock Stadium',\n",
       "       'Lambeau Field', 'FedExField', 'Three Rivers Stadium',\n",
       "       'Georgia Dome', 'Oakland Alameda Coliseum', 'Arrowhead Stadium',\n",
       "       'Giants Stadium', 'New Era Field', 'Texas Stadium',\n",
       "       'Edward Jones Dome', 'Mall of America Field',\n",
       "       'FirstEnergy Stadium', 'Husky Stadium', 'Raymond James Stadium',\n",
       "       'M&T Bank Stadium', 'Pontiac Silverdome', 'Veterans Stadium',\n",
       "       'Sun Devil Stadium', 'Qualcomm Stadium', 'Paul Brown Stadium',\n",
       "       'Mile High Stadium', 'RCA Dome', 'Nissan Stadium',\n",
       "       'Candlestick Park', 'Soldier Field', 'EverBank Field',\n",
       "       'Bank of America Stadium', 'Sports Authority Field at Mile High',\n",
       "       'Heinz Field', 'Gillette Stadium', 'Memorial Stadium (Champaign)',\n",
       "       'NRG Stadium', 'CenturyLink Field', 'Ford Field',\n",
       "       'Lincoln Financial Field', 'Aztec Stadium', 'Alamodome',\n",
       "       'Tiger Stadium (LSU)', 'University of Phoenix Stadium',\n",
       "       'Wembley Stadium', 'Lucas Oil Stadium', 'Rogers Centre',\n",
       "       'AT&T Stadium', 'MetLife Stadium', 'TCF Bank Stadium',\n",
       "       \"Levi's Stadium\", 'Los Angeles Memorial Coliseum',\n",
       "       'U.S. Bank Stadium', 'Twickenham Stadium', 'Mercedes-Benz Stadium',\n",
       "       'StubHub Center'], dtype=object)"
      ]
     },
     "execution_count": 68,
     "metadata": {},
     "output_type": "execute_result"
    }
   ],
   "source": [
    "df_reg['venue.name'].unique()"
   ]
  },
  {
   "cell_type": "code",
   "execution_count": 96,
   "metadata": {},
   "outputs": [
    {
     "data": {
      "text/plain": [
       "Giants Stadium             161\n",
       "Lambeau Field              144\n",
       "Bank of America Stadium    144\n",
       "Nissan Stadium             144\n",
       "FedExField                 144\n",
       "Name: venue.name, dtype: int64"
      ]
     },
     "execution_count": 96,
     "metadata": {},
     "output_type": "execute_result"
    }
   ],
   "source": [
    "df_reg['venue.name'].value_counts(dropna=False).head()"
   ]
  },
  {
   "cell_type": "code",
   "execution_count": 106,
   "metadata": {},
   "outputs": [
    {
     "data": {
      "text/plain": [
       "East Rutherford    289\n",
       "Charlotte          144\n",
       "Foxborough         144\n",
       "Landover           144\n",
       "Baltimore          144\n",
       "Denver             144\n",
       "Pittsburgh         144\n",
       "Green Bay          144\n",
       "Nashville          144\n",
       "Seattle            144\n",
       "Philadelphia       144\n",
       "Indianapolis       144\n",
       "Kansas City        143\n",
       "Cleveland          143\n",
       "Cincinnati         143\n",
       "Atlanta            143\n",
       "Miami Gardens      142\n",
       "Tampa              142\n",
       "Minneapolis        142\n",
       "Oakland            141\n",
       "Name: venue.city, dtype: int64"
      ]
     },
     "execution_count": 106,
     "metadata": {},
     "output_type": "execute_result"
    }
   ],
   "source": [
    "df_reg['venue.city'].value_counts(dropna=False).head(20)"
   ]
  },
  {
   "cell_type": "code",
   "execution_count": 109,
   "metadata": {},
   "outputs": [
    {
     "data": {
      "text/plain": [
       "TEN    144\n",
       "Name: home.alias, dtype: int64"
      ]
     },
     "execution_count": 109,
     "metadata": {},
     "output_type": "execute_result"
    }
   ],
   "source": [
    "df_reg[df_reg['venue.city'] == 'Nashville']['home.alias'].value_counts()"
   ]
  },
  {
   "cell_type": "code",
   "execution_count": 88,
   "metadata": {},
   "outputs": [
    {
     "data": {
      "text/plain": [
       "CA     441\n",
       "FL     423\n",
       "NJ     289\n",
       "MD     288\n",
       "PA     288\n",
       "OH     286\n",
       "TX     275\n",
       "MO     270\n",
       "MI     146\n",
       "IL     144\n",
       "IN     144\n",
       "MA     144\n",
       "AZ     144\n",
       "WA     144\n",
       "TN     144\n",
       "NC     144\n",
       "WI     144\n",
       "CO     144\n",
       "GA     143\n",
       "MN     142\n",
       "LA     139\n",
       "NY     137\n",
       "NaN     24\n",
       "ON       6\n",
       "Name: venue.state, dtype: int64"
      ]
     },
     "execution_count": 88,
     "metadata": {},
     "output_type": "execute_result"
    }
   ],
   "source": [
    "df_reg['venue.state'].value_counts(dropna=False)"
   ]
  },
  {
   "cell_type": "code",
   "execution_count": null,
   "metadata": {},
   "outputs": [],
   "source": []
  }
 ],
 "metadata": {
  "kernelspec": {
   "display_name": "Python 3",
   "language": "python",
   "name": "python3"
  },
  "language_info": {
   "codemirror_mode": {
    "name": "ipython",
    "version": 3
   },
   "file_extension": ".py",
   "mimetype": "text/x-python",
   "name": "python",
   "nbconvert_exporter": "python",
   "pygments_lexer": "ipython3",
   "version": "3.6.4"
  }
 },
 "nbformat": 4,
 "nbformat_minor": 2
}
