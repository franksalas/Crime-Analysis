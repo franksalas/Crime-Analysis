{
 "cells": [
  {
   "cell_type": "code",
   "execution_count": 1,
   "metadata": {},
   "outputs": [],
   "source": [
    "import pandas as pd\n",
    "import numpy as np\n",
    "import glob, os\n",
    "import re"
   ]
  },
  {
   "cell_type": "markdown",
   "metadata": {},
   "source": [
    "# Source\n",
    "\n",
    "#### basketball-reference.com\n",
    "https://www.basketball-reference.com/teams/HOU/2017_games.html\n",
    "\n",
    "- saved regular and playoff seasons from 2010 - 2017 to csv"
   ]
  },
  {
   "cell_type": "code",
   "execution_count": 2,
   "metadata": {},
   "outputs": [
    {
     "name": "stdout",
     "output_type": "stream",
     "text": [
      "\u001b[0m\u001b[01;36;40mplo\u001b[0m/  \u001b[01;36;40mreg\u001b[0m/\r\n"
     ]
    }
   ],
   "source": [
    "ls sports_data_raw/NBA/"
   ]
  },
  {
   "cell_type": "code",
   "execution_count": null,
   "metadata": {},
   "outputs": [],
   "source": [
    "path = 'sports_data_raw/NBA/reg'\n",
    "all_files = glob.glob(os.path.join(path, \"*.csv\")) \n",
    "\n",
    "df_from_each_file = (pd.read_csv(f) for f in all_files)\n",
    "df_reg   = pd.concat(df_from_each_file, ignore_index=True)"
   ]
  },
  {
   "cell_type": "code",
   "execution_count": 3,
   "metadata": {},
   "outputs": [],
   "source": [
    "path = 'sports_data_raw/NBA/plo'\n",
    "all_files = glob.glob(os.path.join(path, \"*.csv\")) \n",
    "\n",
    "df_from_each_file = (pd.read_csv(f) for f in all_files)\n",
    "df_plo   = pd.concat(df_from_each_file, ignore_index=True)"
   ]
  },
  {
   "cell_type": "code",
   "execution_count": 4,
   "metadata": {},
   "outputs": [
    {
     "ename": "NameError",
     "evalue": "name 'df_reg' is not defined",
     "output_type": "error",
     "traceback": [
      "\u001b[0;31m---------------------------------------------------------------------------\u001b[0m",
      "\u001b[0;31mNameError\u001b[0m                                 Traceback (most recent call last)",
      "\u001b[0;32m<ipython-input-4-a90e36ddf0b8>\u001b[0m in \u001b[0;36m<module>\u001b[0;34m()\u001b[0m\n\u001b[0;32m----> 1\u001b[0;31m \u001b[0mdf_reg\u001b[0m\u001b[0;34m.\u001b[0m\u001b[0minfo\u001b[0m\u001b[0;34m(\u001b[0m\u001b[0;34m)\u001b[0m\u001b[0;34m\u001b[0m\u001b[0m\n\u001b[0m",
      "\u001b[0;31mNameError\u001b[0m: name 'df_reg' is not defined"
     ]
    }
   ],
   "source": [
    "df_reg.info()"
   ]
  },
  {
   "cell_type": "code",
   "execution_count": 5,
   "metadata": {},
   "outputs": [
    {
     "data": {
      "text/html": [
       "<div>\n",
       "<style scoped>\n",
       "    .dataframe tbody tr th:only-of-type {\n",
       "        vertical-align: middle;\n",
       "    }\n",
       "\n",
       "    .dataframe tbody tr th {\n",
       "        vertical-align: top;\n",
       "    }\n",
       "\n",
       "    .dataframe thead th {\n",
       "        text-align: right;\n",
       "    }\n",
       "</style>\n",
       "<table border=\"1\" class=\"dataframe\">\n",
       "  <thead>\n",
       "    <tr style=\"text-align: right;\">\n",
       "      <th></th>\n",
       "      <th>G</th>\n",
       "      <th>Date</th>\n",
       "      <th>Unnamed: 2</th>\n",
       "      <th>Unnamed: 3</th>\n",
       "      <th>Unnamed: 4</th>\n",
       "      <th>Unnamed: 5</th>\n",
       "      <th>Opponent</th>\n",
       "      <th>Unnamed: 7</th>\n",
       "      <th>Unnamed: 8</th>\n",
       "      <th>Tm</th>\n",
       "      <th>Opp</th>\n",
       "      <th>W</th>\n",
       "      <th>L</th>\n",
       "      <th>Streak</th>\n",
       "      <th>Notes</th>\n",
       "    </tr>\n",
       "  </thead>\n",
       "  <tbody>\n",
       "    <tr>\n",
       "      <th>0</th>\n",
       "      <td>1</td>\n",
       "      <td>Sun, Apr 21, 2013</td>\n",
       "      <td>9:30p ET</td>\n",
       "      <td>NaN</td>\n",
       "      <td>Box Score</td>\n",
       "      <td>@</td>\n",
       "      <td>Oklahoma City Thunder</td>\n",
       "      <td>L</td>\n",
       "      <td>NaN</td>\n",
       "      <td>91</td>\n",
       "      <td>120</td>\n",
       "      <td>0</td>\n",
       "      <td>1</td>\n",
       "      <td>L 1</td>\n",
       "      <td>NaN</td>\n",
       "    </tr>\n",
       "    <tr>\n",
       "      <th>1</th>\n",
       "      <td>2</td>\n",
       "      <td>Wed, Apr 24, 2013</td>\n",
       "      <td>7:00p ET</td>\n",
       "      <td>NaN</td>\n",
       "      <td>Box Score</td>\n",
       "      <td>@</td>\n",
       "      <td>Oklahoma City Thunder</td>\n",
       "      <td>L</td>\n",
       "      <td>NaN</td>\n",
       "      <td>102</td>\n",
       "      <td>105</td>\n",
       "      <td>0</td>\n",
       "      <td>2</td>\n",
       "      <td>L 2</td>\n",
       "      <td>NaN</td>\n",
       "    </tr>\n",
       "    <tr>\n",
       "      <th>2</th>\n",
       "      <td>3</td>\n",
       "      <td>Sat, Apr 27, 2013</td>\n",
       "      <td>9:30p ET</td>\n",
       "      <td>NaN</td>\n",
       "      <td>Box Score</td>\n",
       "      <td>NaN</td>\n",
       "      <td>Oklahoma City Thunder</td>\n",
       "      <td>L</td>\n",
       "      <td>NaN</td>\n",
       "      <td>101</td>\n",
       "      <td>104</td>\n",
       "      <td>0</td>\n",
       "      <td>3</td>\n",
       "      <td>L 3</td>\n",
       "      <td>NaN</td>\n",
       "    </tr>\n",
       "    <tr>\n",
       "      <th>3</th>\n",
       "      <td>4</td>\n",
       "      <td>Mon, Apr 29, 2013</td>\n",
       "      <td>9:30p ET</td>\n",
       "      <td>NaN</td>\n",
       "      <td>Box Score</td>\n",
       "      <td>NaN</td>\n",
       "      <td>Oklahoma City Thunder</td>\n",
       "      <td>W</td>\n",
       "      <td>NaN</td>\n",
       "      <td>105</td>\n",
       "      <td>103</td>\n",
       "      <td>1</td>\n",
       "      <td>3</td>\n",
       "      <td>W 1</td>\n",
       "      <td>NaN</td>\n",
       "    </tr>\n",
       "    <tr>\n",
       "      <th>4</th>\n",
       "      <td>5</td>\n",
       "      <td>Wed, May 1, 2013</td>\n",
       "      <td>9:30p ET</td>\n",
       "      <td>NaN</td>\n",
       "      <td>Box Score</td>\n",
       "      <td>@</td>\n",
       "      <td>Oklahoma City Thunder</td>\n",
       "      <td>W</td>\n",
       "      <td>NaN</td>\n",
       "      <td>107</td>\n",
       "      <td>100</td>\n",
       "      <td>2</td>\n",
       "      <td>3</td>\n",
       "      <td>W 2</td>\n",
       "      <td>NaN</td>\n",
       "    </tr>\n",
       "  </tbody>\n",
       "</table>\n",
       "</div>"
      ],
      "text/plain": [
       "   G               Date Unnamed: 2  Unnamed: 3 Unnamed: 4 Unnamed: 5  \\\n",
       "0  1  Sun, Apr 21, 2013   9:30p ET         NaN  Box Score          @   \n",
       "1  2  Wed, Apr 24, 2013   7:00p ET         NaN  Box Score          @   \n",
       "2  3  Sat, Apr 27, 2013   9:30p ET         NaN  Box Score        NaN   \n",
       "3  4  Mon, Apr 29, 2013   9:30p ET         NaN  Box Score        NaN   \n",
       "4  5   Wed, May 1, 2013   9:30p ET         NaN  Box Score          @   \n",
       "\n",
       "                Opponent Unnamed: 7 Unnamed: 8   Tm  Opp  W  L Streak  Notes  \n",
       "0  Oklahoma City Thunder          L        NaN   91  120  0  1    L 1    NaN  \n",
       "1  Oklahoma City Thunder          L        NaN  102  105  0  2    L 2    NaN  \n",
       "2  Oklahoma City Thunder          L        NaN  101  104  0  3    L 3    NaN  \n",
       "3  Oklahoma City Thunder          W        NaN  105  103  1  3    W 1    NaN  \n",
       "4  Oklahoma City Thunder          W        NaN  107  100  2  3    W 2    NaN  "
      ]
     },
     "execution_count": 5,
     "metadata": {},
     "output_type": "execute_result"
    }
   ],
   "source": [
    "df_plo.head()"
   ]
  },
  {
   "cell_type": "markdown",
   "metadata": {},
   "source": [
    "## Create column base on regular season or playoffs"
   ]
  },
  {
   "cell_type": "code",
   "execution_count": 6,
   "metadata": {},
   "outputs": [],
   "source": [
    "\n",
    "df_plo['season'] = 'plo'"
   ]
  },
  {
   "cell_type": "code",
   "execution_count": null,
   "metadata": {},
   "outputs": [],
   "source": []
  },
  {
   "cell_type": "markdown",
   "metadata": {},
   "source": [
    "## Join the two dataframes "
   ]
  },
  {
   "cell_type": "code",
   "execution_count": null,
   "metadata": {},
   "outputs": [],
   "source": [
    "#df = pd.concat([df_reg, df_plo])"
   ]
  },
  {
   "cell_type": "code",
   "execution_count": null,
   "metadata": {},
   "outputs": [],
   "source": [
    "#df.info()"
   ]
  },
  {
   "cell_type": "code",
   "execution_count": null,
   "metadata": {},
   "outputs": [],
   "source": [
    "df_reg.info()"
   ]
  },
  {
   "cell_type": "code",
   "execution_count": 7,
   "metadata": {},
   "outputs": [],
   "source": [
    "df = df_plo"
   ]
  },
  {
   "cell_type": "code",
   "execution_count": 8,
   "metadata": {},
   "outputs": [
    {
     "name": "stdout",
     "output_type": "stream",
     "text": [
      "<class 'pandas.core.frame.DataFrame'>\n",
      "RangeIndex: 45 entries, 0 to 44\n",
      "Data columns (total 16 columns):\n",
      "G             45 non-null int64\n",
      "Date          45 non-null object\n",
      "Unnamed: 2    45 non-null object\n",
      "Unnamed: 3    0 non-null float64\n",
      "Unnamed: 4    45 non-null object\n",
      "Unnamed: 5    22 non-null object\n",
      "Opponent      45 non-null object\n",
      "Unnamed: 7    45 non-null object\n",
      "Unnamed: 8    4 non-null object\n",
      "Tm            45 non-null int64\n",
      "Opp           45 non-null int64\n",
      "W             45 non-null int64\n",
      "L             45 non-null int64\n",
      "Streak        45 non-null object\n",
      "Notes         0 non-null float64\n",
      "season        45 non-null object\n",
      "dtypes: float64(2), int64(5), object(9)\n",
      "memory usage: 5.7+ KB\n"
     ]
    }
   ],
   "source": [
    "df.info()"
   ]
  },
  {
   "cell_type": "code",
   "execution_count": null,
   "metadata": {},
   "outputs": [],
   "source": []
  },
  {
   "cell_type": "code",
   "execution_count": null,
   "metadata": {},
   "outputs": [],
   "source": []
  },
  {
   "cell_type": "code",
   "execution_count": null,
   "metadata": {},
   "outputs": [],
   "source": []
  },
  {
   "cell_type": "markdown",
   "metadata": {},
   "source": [
    "## Create slice with only needed columns"
   ]
  },
  {
   "cell_type": "code",
   "execution_count": 9,
   "metadata": {},
   "outputs": [],
   "source": [
    "hou_rockets = df[['Date','Unnamed: 2','Unnamed: 5','Opponent','Unnamed: 7','Tm','Opp','season']]"
   ]
  },
  {
   "cell_type": "markdown",
   "metadata": {},
   "source": [
    "## Create a column with Houston Rockets"
   ]
  },
  {
   "cell_type": "code",
   "execution_count": 10,
   "metadata": {},
   "outputs": [
    {
     "name": "stderr",
     "output_type": "stream",
     "text": [
      "/home/salas/miniconda3/envs/springboard/lib/python3.6/site-packages/ipykernel_launcher.py:1: SettingWithCopyWarning: \n",
      "A value is trying to be set on a copy of a slice from a DataFrame.\n",
      "Try using .loc[row_indexer,col_indexer] = value instead\n",
      "\n",
      "See the caveats in the documentation: http://pandas.pydata.org/pandas-docs/stable/indexing.html#indexing-view-versus-copy\n",
      "  \"\"\"Entry point for launching an IPython kernel.\n"
     ]
    }
   ],
   "source": [
    "hou_rockets['team'] ='Houston Rockets'"
   ]
  },
  {
   "cell_type": "code",
   "execution_count": null,
   "metadata": {},
   "outputs": [],
   "source": []
  },
  {
   "cell_type": "code",
   "execution_count": 11,
   "metadata": {},
   "outputs": [],
   "source": [
    "hou_rockets = hou_rockets[['Date','Unnamed: 2', 'team','Tm','Unnamed: 5','Opponent','Opp','Unnamed: 7','season']]"
   ]
  },
  {
   "cell_type": "code",
   "execution_count": 12,
   "metadata": {},
   "outputs": [
    {
     "data": {
      "text/html": [
       "<div>\n",
       "<style scoped>\n",
       "    .dataframe tbody tr th:only-of-type {\n",
       "        vertical-align: middle;\n",
       "    }\n",
       "\n",
       "    .dataframe tbody tr th {\n",
       "        vertical-align: top;\n",
       "    }\n",
       "\n",
       "    .dataframe thead th {\n",
       "        text-align: right;\n",
       "    }\n",
       "</style>\n",
       "<table border=\"1\" class=\"dataframe\">\n",
       "  <thead>\n",
       "    <tr style=\"text-align: right;\">\n",
       "      <th></th>\n",
       "      <th>Date</th>\n",
       "      <th>Unnamed: 2</th>\n",
       "      <th>team</th>\n",
       "      <th>Tm</th>\n",
       "      <th>Unnamed: 5</th>\n",
       "      <th>Opponent</th>\n",
       "      <th>Opp</th>\n",
       "      <th>Unnamed: 7</th>\n",
       "      <th>season</th>\n",
       "    </tr>\n",
       "  </thead>\n",
       "  <tbody>\n",
       "    <tr>\n",
       "      <th>0</th>\n",
       "      <td>Sun, Apr 21, 2013</td>\n",
       "      <td>9:30p ET</td>\n",
       "      <td>Houston Rockets</td>\n",
       "      <td>91</td>\n",
       "      <td>@</td>\n",
       "      <td>Oklahoma City Thunder</td>\n",
       "      <td>120</td>\n",
       "      <td>L</td>\n",
       "      <td>plo</td>\n",
       "    </tr>\n",
       "    <tr>\n",
       "      <th>1</th>\n",
       "      <td>Wed, Apr 24, 2013</td>\n",
       "      <td>7:00p ET</td>\n",
       "      <td>Houston Rockets</td>\n",
       "      <td>102</td>\n",
       "      <td>@</td>\n",
       "      <td>Oklahoma City Thunder</td>\n",
       "      <td>105</td>\n",
       "      <td>L</td>\n",
       "      <td>plo</td>\n",
       "    </tr>\n",
       "    <tr>\n",
       "      <th>2</th>\n",
       "      <td>Sat, Apr 27, 2013</td>\n",
       "      <td>9:30p ET</td>\n",
       "      <td>Houston Rockets</td>\n",
       "      <td>101</td>\n",
       "      <td>NaN</td>\n",
       "      <td>Oklahoma City Thunder</td>\n",
       "      <td>104</td>\n",
       "      <td>L</td>\n",
       "      <td>plo</td>\n",
       "    </tr>\n",
       "    <tr>\n",
       "      <th>3</th>\n",
       "      <td>Mon, Apr 29, 2013</td>\n",
       "      <td>9:30p ET</td>\n",
       "      <td>Houston Rockets</td>\n",
       "      <td>105</td>\n",
       "      <td>NaN</td>\n",
       "      <td>Oklahoma City Thunder</td>\n",
       "      <td>103</td>\n",
       "      <td>W</td>\n",
       "      <td>plo</td>\n",
       "    </tr>\n",
       "    <tr>\n",
       "      <th>4</th>\n",
       "      <td>Wed, May 1, 2013</td>\n",
       "      <td>9:30p ET</td>\n",
       "      <td>Houston Rockets</td>\n",
       "      <td>107</td>\n",
       "      <td>@</td>\n",
       "      <td>Oklahoma City Thunder</td>\n",
       "      <td>100</td>\n",
       "      <td>W</td>\n",
       "      <td>plo</td>\n",
       "    </tr>\n",
       "  </tbody>\n",
       "</table>\n",
       "</div>"
      ],
      "text/plain": [
       "                Date Unnamed: 2             team   Tm Unnamed: 5  \\\n",
       "0  Sun, Apr 21, 2013   9:30p ET  Houston Rockets   91          @   \n",
       "1  Wed, Apr 24, 2013   7:00p ET  Houston Rockets  102          @   \n",
       "2  Sat, Apr 27, 2013   9:30p ET  Houston Rockets  101        NaN   \n",
       "3  Mon, Apr 29, 2013   9:30p ET  Houston Rockets  105        NaN   \n",
       "4   Wed, May 1, 2013   9:30p ET  Houston Rockets  107          @   \n",
       "\n",
       "                Opponent  Opp Unnamed: 7 season  \n",
       "0  Oklahoma City Thunder  120          L    plo  \n",
       "1  Oklahoma City Thunder  105          L    plo  \n",
       "2  Oklahoma City Thunder  104          L    plo  \n",
       "3  Oklahoma City Thunder  103          W    plo  \n",
       "4  Oklahoma City Thunder  100          W    plo  "
      ]
     },
     "execution_count": 12,
     "metadata": {},
     "output_type": "execute_result"
    }
   ],
   "source": [
    "hou_rockets.head()"
   ]
  },
  {
   "cell_type": "markdown",
   "metadata": {},
   "source": [
    "## Rename Columns"
   ]
  },
  {
   "cell_type": "code",
   "execution_count": 13,
   "metadata": {},
   "outputs": [],
   "source": [
    "hou_rockets.rename(columns={\n",
    "    'Unnamed: 2':'Time',\n",
    "    'team': 'Team',\n",
    "    'Tm': 'Team_score',\n",
    "    'Unnamed: 5': 'Location',\n",
    "    'Opp': 'Opponent_score',\n",
    "    'Unnamed: 7': 'Result'\n",
    "},inplace=True)"
   ]
  },
  {
   "cell_type": "code",
   "execution_count": 14,
   "metadata": {},
   "outputs": [
    {
     "data": {
      "text/html": [
       "<div>\n",
       "<style scoped>\n",
       "    .dataframe tbody tr th:only-of-type {\n",
       "        vertical-align: middle;\n",
       "    }\n",
       "\n",
       "    .dataframe tbody tr th {\n",
       "        vertical-align: top;\n",
       "    }\n",
       "\n",
       "    .dataframe thead th {\n",
       "        text-align: right;\n",
       "    }\n",
       "</style>\n",
       "<table border=\"1\" class=\"dataframe\">\n",
       "  <thead>\n",
       "    <tr style=\"text-align: right;\">\n",
       "      <th></th>\n",
       "      <th>Date</th>\n",
       "      <th>Time</th>\n",
       "      <th>Team</th>\n",
       "      <th>Team_score</th>\n",
       "      <th>Location</th>\n",
       "      <th>Opponent</th>\n",
       "      <th>Opponent_score</th>\n",
       "      <th>Result</th>\n",
       "      <th>season</th>\n",
       "    </tr>\n",
       "  </thead>\n",
       "  <tbody>\n",
       "    <tr>\n",
       "      <th>0</th>\n",
       "      <td>Sun, Apr 21, 2013</td>\n",
       "      <td>9:30p ET</td>\n",
       "      <td>Houston Rockets</td>\n",
       "      <td>91</td>\n",
       "      <td>@</td>\n",
       "      <td>Oklahoma City Thunder</td>\n",
       "      <td>120</td>\n",
       "      <td>L</td>\n",
       "      <td>plo</td>\n",
       "    </tr>\n",
       "    <tr>\n",
       "      <th>1</th>\n",
       "      <td>Wed, Apr 24, 2013</td>\n",
       "      <td>7:00p ET</td>\n",
       "      <td>Houston Rockets</td>\n",
       "      <td>102</td>\n",
       "      <td>@</td>\n",
       "      <td>Oklahoma City Thunder</td>\n",
       "      <td>105</td>\n",
       "      <td>L</td>\n",
       "      <td>plo</td>\n",
       "    </tr>\n",
       "    <tr>\n",
       "      <th>2</th>\n",
       "      <td>Sat, Apr 27, 2013</td>\n",
       "      <td>9:30p ET</td>\n",
       "      <td>Houston Rockets</td>\n",
       "      <td>101</td>\n",
       "      <td>NaN</td>\n",
       "      <td>Oklahoma City Thunder</td>\n",
       "      <td>104</td>\n",
       "      <td>L</td>\n",
       "      <td>plo</td>\n",
       "    </tr>\n",
       "    <tr>\n",
       "      <th>3</th>\n",
       "      <td>Mon, Apr 29, 2013</td>\n",
       "      <td>9:30p ET</td>\n",
       "      <td>Houston Rockets</td>\n",
       "      <td>105</td>\n",
       "      <td>NaN</td>\n",
       "      <td>Oklahoma City Thunder</td>\n",
       "      <td>103</td>\n",
       "      <td>W</td>\n",
       "      <td>plo</td>\n",
       "    </tr>\n",
       "    <tr>\n",
       "      <th>4</th>\n",
       "      <td>Wed, May 1, 2013</td>\n",
       "      <td>9:30p ET</td>\n",
       "      <td>Houston Rockets</td>\n",
       "      <td>107</td>\n",
       "      <td>@</td>\n",
       "      <td>Oklahoma City Thunder</td>\n",
       "      <td>100</td>\n",
       "      <td>W</td>\n",
       "      <td>plo</td>\n",
       "    </tr>\n",
       "  </tbody>\n",
       "</table>\n",
       "</div>"
      ],
      "text/plain": [
       "                Date      Time             Team  Team_score Location  \\\n",
       "0  Sun, Apr 21, 2013  9:30p ET  Houston Rockets          91        @   \n",
       "1  Wed, Apr 24, 2013  7:00p ET  Houston Rockets         102        @   \n",
       "2  Sat, Apr 27, 2013  9:30p ET  Houston Rockets         101      NaN   \n",
       "3  Mon, Apr 29, 2013  9:30p ET  Houston Rockets         105      NaN   \n",
       "4   Wed, May 1, 2013  9:30p ET  Houston Rockets         107        @   \n",
       "\n",
       "                Opponent  Opponent_score Result season  \n",
       "0  Oklahoma City Thunder             120      L    plo  \n",
       "1  Oklahoma City Thunder             105      L    plo  \n",
       "2  Oklahoma City Thunder             104      L    plo  \n",
       "3  Oklahoma City Thunder             103      W    plo  \n",
       "4  Oklahoma City Thunder             100      W    plo  "
      ]
     },
     "execution_count": 14,
     "metadata": {},
     "output_type": "execute_result"
    }
   ],
   "source": [
    "hou_rockets.head()"
   ]
  },
  {
   "cell_type": "markdown",
   "metadata": {},
   "source": [
    "## Inspect Data"
   ]
  },
  {
   "cell_type": "code",
   "execution_count": null,
   "metadata": {},
   "outputs": [],
   "source": [
    "#hou_rockets.Date.unique()  # need split day"
   ]
  },
  {
   "cell_type": "code",
   "execution_count": 15,
   "metadata": {},
   "outputs": [
    {
     "data": {
      "text/plain": [
       "array(['9:30p ET', '7:00p ET', '10:30p ET', '9:00p ET', '8:00p ET',\n",
       "       '8:30p ET', '3:30p ET'], dtype=object)"
      ]
     },
     "execution_count": 15,
     "metadata": {},
     "output_type": "execute_result"
    }
   ],
   "source": [
    "hou_rockets.Time.unique()  # need correct time"
   ]
  },
  {
   "cell_type": "code",
   "execution_count": 16,
   "metadata": {},
   "outputs": [
    {
     "data": {
      "text/plain": [
       "array(['Houston Rockets'], dtype=object)"
      ]
     },
     "execution_count": 16,
     "metadata": {},
     "output_type": "execute_result"
    }
   ],
   "source": [
    "hou_rockets.Team.unique()  # ok"
   ]
  },
  {
   "cell_type": "code",
   "execution_count": 17,
   "metadata": {},
   "outputs": [
    {
     "data": {
      "text/plain": [
       "array([ 91, 102, 101, 105, 107,  94, 120, 121, 108,  98, 118, 111, 130,\n",
       "       109, 103, 115,  99,  95, 124, 119, 113, 106,  80, 128,  90,  78,\n",
       "        97,  81, 126,  96,  92, 125,  75])"
      ]
     },
     "execution_count": 17,
     "metadata": {},
     "output_type": "execute_result"
    }
   ],
   "source": [
    "hou_rockets.Team_score.unique()  # ok"
   ]
  },
  {
   "cell_type": "code",
   "execution_count": 18,
   "metadata": {},
   "outputs": [
    {
     "data": {
      "text/plain": [
       "array(['@', nan], dtype=object)"
      ]
     },
     "execution_count": 18,
     "metadata": {},
     "output_type": "execute_result"
    }
   ],
   "source": [
    "hou_rockets.Location.unique()  # "
   ]
  },
  {
   "cell_type": "code",
   "execution_count": 19,
   "metadata": {},
   "outputs": [
    {
     "data": {
      "text/plain": [
       "array(['Oklahoma City Thunder', 'Portland Trail Blazers',\n",
       "       'Dallas Mavericks', 'Los Angeles Clippers',\n",
       "       'Golden State Warriors', 'San Antonio Spurs'], dtype=object)"
      ]
     },
     "execution_count": 19,
     "metadata": {},
     "output_type": "execute_result"
    }
   ],
   "source": [
    "hou_rockets.Opponent.unique()  # ok"
   ]
  },
  {
   "cell_type": "code",
   "execution_count": 20,
   "metadata": {},
   "outputs": [
    {
     "data": {
      "text/plain": [
       "Oklahoma City Thunder     11\n",
       "Golden State Warriors     10\n",
       "Los Angeles Clippers       7\n",
       "San Antonio Spurs          6\n",
       "Portland Trail Blazers     6\n",
       "Dallas Mavericks           5\n",
       "Name: Opponent, dtype: int64"
      ]
     },
     "execution_count": 20,
     "metadata": {},
     "output_type": "execute_result"
    }
   ],
   "source": [
    "hou_rockets.Opponent.value_counts(dropna=False)  # ok"
   ]
  },
  {
   "cell_type": "code",
   "execution_count": 21,
   "metadata": {},
   "outputs": [
    {
     "data": {
      "text/plain": [
       "array([120, 105, 104, 103, 100, 122, 112, 116, 123,  98,  99, 108, 128,\n",
       "       121,  94, 117, 109, 124, 107, 110, 115,  96, 114,  87, 111])"
      ]
     },
     "execution_count": 21,
     "metadata": {},
     "output_type": "execute_result"
    }
   ],
   "source": [
    "hou_rockets.Opponent_score.unique()  # ok"
   ]
  },
  {
   "cell_type": "code",
   "execution_count": 22,
   "metadata": {},
   "outputs": [
    {
     "data": {
      "text/plain": [
       "array(['L', 'W'], dtype=object)"
      ]
     },
     "execution_count": 22,
     "metadata": {},
     "output_type": "execute_result"
    }
   ],
   "source": [
    "hou_rockets.Result.unique()  # ok"
   ]
  },
  {
   "cell_type": "markdown",
   "metadata": {},
   "source": [
    "## Location Column\n",
    "\n",
    "- change @ to away, nan to home"
   ]
  },
  {
   "cell_type": "code",
   "execution_count": 23,
   "metadata": {},
   "outputs": [
    {
     "data": {
      "text/plain": [
       "NaN    23\n",
       "@      22\n",
       "Name: Location, dtype: int64"
      ]
     },
     "execution_count": 23,
     "metadata": {},
     "output_type": "execute_result"
    }
   ],
   "source": [
    "hou_rockets.Location.value_counts(dropna=False)"
   ]
  },
  {
   "cell_type": "code",
   "execution_count": 24,
   "metadata": {},
   "outputs": [],
   "source": [
    "hou_rockets['Location'] = np.where(hou_rockets['Location'] =='@', 'away', 'home')"
   ]
  },
  {
   "cell_type": "code",
   "execution_count": 25,
   "metadata": {},
   "outputs": [
    {
     "data": {
      "text/plain": [
       "home    23\n",
       "away    22\n",
       "Name: Location, dtype: int64"
      ]
     },
     "execution_count": 25,
     "metadata": {},
     "output_type": "execute_result"
    }
   ],
   "source": [
    "hou_rockets.Location.value_counts(dropna=False)"
   ]
  },
  {
   "cell_type": "code",
   "execution_count": 26,
   "metadata": {},
   "outputs": [
    {
     "data": {
      "text/html": [
       "<div>\n",
       "<style scoped>\n",
       "    .dataframe tbody tr th:only-of-type {\n",
       "        vertical-align: middle;\n",
       "    }\n",
       "\n",
       "    .dataframe tbody tr th {\n",
       "        vertical-align: top;\n",
       "    }\n",
       "\n",
       "    .dataframe thead th {\n",
       "        text-align: right;\n",
       "    }\n",
       "</style>\n",
       "<table border=\"1\" class=\"dataframe\">\n",
       "  <thead>\n",
       "    <tr style=\"text-align: right;\">\n",
       "      <th></th>\n",
       "      <th>Date</th>\n",
       "      <th>Time</th>\n",
       "      <th>Team</th>\n",
       "      <th>Team_score</th>\n",
       "      <th>Location</th>\n",
       "      <th>Opponent</th>\n",
       "      <th>Opponent_score</th>\n",
       "      <th>Result</th>\n",
       "      <th>season</th>\n",
       "    </tr>\n",
       "  </thead>\n",
       "  <tbody>\n",
       "    <tr>\n",
       "      <th>0</th>\n",
       "      <td>Sun, Apr 21, 2013</td>\n",
       "      <td>9:30p ET</td>\n",
       "      <td>Houston Rockets</td>\n",
       "      <td>91</td>\n",
       "      <td>away</td>\n",
       "      <td>Oklahoma City Thunder</td>\n",
       "      <td>120</td>\n",
       "      <td>L</td>\n",
       "      <td>plo</td>\n",
       "    </tr>\n",
       "    <tr>\n",
       "      <th>1</th>\n",
       "      <td>Wed, Apr 24, 2013</td>\n",
       "      <td>7:00p ET</td>\n",
       "      <td>Houston Rockets</td>\n",
       "      <td>102</td>\n",
       "      <td>away</td>\n",
       "      <td>Oklahoma City Thunder</td>\n",
       "      <td>105</td>\n",
       "      <td>L</td>\n",
       "      <td>plo</td>\n",
       "    </tr>\n",
       "    <tr>\n",
       "      <th>2</th>\n",
       "      <td>Sat, Apr 27, 2013</td>\n",
       "      <td>9:30p ET</td>\n",
       "      <td>Houston Rockets</td>\n",
       "      <td>101</td>\n",
       "      <td>home</td>\n",
       "      <td>Oklahoma City Thunder</td>\n",
       "      <td>104</td>\n",
       "      <td>L</td>\n",
       "      <td>plo</td>\n",
       "    </tr>\n",
       "    <tr>\n",
       "      <th>3</th>\n",
       "      <td>Mon, Apr 29, 2013</td>\n",
       "      <td>9:30p ET</td>\n",
       "      <td>Houston Rockets</td>\n",
       "      <td>105</td>\n",
       "      <td>home</td>\n",
       "      <td>Oklahoma City Thunder</td>\n",
       "      <td>103</td>\n",
       "      <td>W</td>\n",
       "      <td>plo</td>\n",
       "    </tr>\n",
       "    <tr>\n",
       "      <th>4</th>\n",
       "      <td>Wed, May 1, 2013</td>\n",
       "      <td>9:30p ET</td>\n",
       "      <td>Houston Rockets</td>\n",
       "      <td>107</td>\n",
       "      <td>away</td>\n",
       "      <td>Oklahoma City Thunder</td>\n",
       "      <td>100</td>\n",
       "      <td>W</td>\n",
       "      <td>plo</td>\n",
       "    </tr>\n",
       "  </tbody>\n",
       "</table>\n",
       "</div>"
      ],
      "text/plain": [
       "                Date      Time             Team  Team_score Location  \\\n",
       "0  Sun, Apr 21, 2013  9:30p ET  Houston Rockets          91     away   \n",
       "1  Wed, Apr 24, 2013  7:00p ET  Houston Rockets         102     away   \n",
       "2  Sat, Apr 27, 2013  9:30p ET  Houston Rockets         101     home   \n",
       "3  Mon, Apr 29, 2013  9:30p ET  Houston Rockets         105     home   \n",
       "4   Wed, May 1, 2013  9:30p ET  Houston Rockets         107     away   \n",
       "\n",
       "                Opponent  Opponent_score Result season  \n",
       "0  Oklahoma City Thunder             120      L    plo  \n",
       "1  Oklahoma City Thunder             105      L    plo  \n",
       "2  Oklahoma City Thunder             104      L    plo  \n",
       "3  Oklahoma City Thunder             103      W    plo  \n",
       "4  Oklahoma City Thunder             100      W    plo  "
      ]
     },
     "execution_count": 26,
     "metadata": {},
     "output_type": "execute_result"
    }
   ],
   "source": [
    "hou_rockets.head()"
   ]
  },
  {
   "cell_type": "markdown",
   "metadata": {},
   "source": [
    "## Date column\n",
    "\n",
    "- split Date:\n",
    "    - Day : Sun\n",
    "    - Date : Month, day, Year"
   ]
  },
  {
   "cell_type": "code",
   "execution_count": null,
   "metadata": {},
   "outputs": [],
   "source": [
    "# hou_rockets['Day'] = hou_rockets['Date'].str.split(',').apply(lambda x: x[0])\n",
    "# hou_rockets['Date'] = hou_rockets['Date'].str.split(',').apply(lambda x: x[1:])"
   ]
  },
  {
   "cell_type": "code",
   "execution_count": 27,
   "metadata": {},
   "outputs": [
    {
     "data": {
      "text/html": [
       "<div>\n",
       "<style scoped>\n",
       "    .dataframe tbody tr th:only-of-type {\n",
       "        vertical-align: middle;\n",
       "    }\n",
       "\n",
       "    .dataframe tbody tr th {\n",
       "        vertical-align: top;\n",
       "    }\n",
       "\n",
       "    .dataframe thead th {\n",
       "        text-align: right;\n",
       "    }\n",
       "</style>\n",
       "<table border=\"1\" class=\"dataframe\">\n",
       "  <thead>\n",
       "    <tr style=\"text-align: right;\">\n",
       "      <th></th>\n",
       "      <th>Date</th>\n",
       "      <th>Time</th>\n",
       "      <th>Team</th>\n",
       "      <th>Team_score</th>\n",
       "      <th>Location</th>\n",
       "      <th>Opponent</th>\n",
       "      <th>Opponent_score</th>\n",
       "      <th>Result</th>\n",
       "      <th>season</th>\n",
       "    </tr>\n",
       "  </thead>\n",
       "  <tbody>\n",
       "    <tr>\n",
       "      <th>0</th>\n",
       "      <td>Sun, Apr 21, 2013</td>\n",
       "      <td>9:30p ET</td>\n",
       "      <td>Houston Rockets</td>\n",
       "      <td>91</td>\n",
       "      <td>away</td>\n",
       "      <td>Oklahoma City Thunder</td>\n",
       "      <td>120</td>\n",
       "      <td>L</td>\n",
       "      <td>plo</td>\n",
       "    </tr>\n",
       "    <tr>\n",
       "      <th>1</th>\n",
       "      <td>Wed, Apr 24, 2013</td>\n",
       "      <td>7:00p ET</td>\n",
       "      <td>Houston Rockets</td>\n",
       "      <td>102</td>\n",
       "      <td>away</td>\n",
       "      <td>Oklahoma City Thunder</td>\n",
       "      <td>105</td>\n",
       "      <td>L</td>\n",
       "      <td>plo</td>\n",
       "    </tr>\n",
       "    <tr>\n",
       "      <th>2</th>\n",
       "      <td>Sat, Apr 27, 2013</td>\n",
       "      <td>9:30p ET</td>\n",
       "      <td>Houston Rockets</td>\n",
       "      <td>101</td>\n",
       "      <td>home</td>\n",
       "      <td>Oklahoma City Thunder</td>\n",
       "      <td>104</td>\n",
       "      <td>L</td>\n",
       "      <td>plo</td>\n",
       "    </tr>\n",
       "    <tr>\n",
       "      <th>3</th>\n",
       "      <td>Mon, Apr 29, 2013</td>\n",
       "      <td>9:30p ET</td>\n",
       "      <td>Houston Rockets</td>\n",
       "      <td>105</td>\n",
       "      <td>home</td>\n",
       "      <td>Oklahoma City Thunder</td>\n",
       "      <td>103</td>\n",
       "      <td>W</td>\n",
       "      <td>plo</td>\n",
       "    </tr>\n",
       "    <tr>\n",
       "      <th>4</th>\n",
       "      <td>Wed, May 1, 2013</td>\n",
       "      <td>9:30p ET</td>\n",
       "      <td>Houston Rockets</td>\n",
       "      <td>107</td>\n",
       "      <td>away</td>\n",
       "      <td>Oklahoma City Thunder</td>\n",
       "      <td>100</td>\n",
       "      <td>W</td>\n",
       "      <td>plo</td>\n",
       "    </tr>\n",
       "  </tbody>\n",
       "</table>\n",
       "</div>"
      ],
      "text/plain": [
       "                Date      Time             Team  Team_score Location  \\\n",
       "0  Sun, Apr 21, 2013  9:30p ET  Houston Rockets          91     away   \n",
       "1  Wed, Apr 24, 2013  7:00p ET  Houston Rockets         102     away   \n",
       "2  Sat, Apr 27, 2013  9:30p ET  Houston Rockets         101     home   \n",
       "3  Mon, Apr 29, 2013  9:30p ET  Houston Rockets         105     home   \n",
       "4   Wed, May 1, 2013  9:30p ET  Houston Rockets         107     away   \n",
       "\n",
       "                Opponent  Opponent_score Result season  \n",
       "0  Oklahoma City Thunder             120      L    plo  \n",
       "1  Oklahoma City Thunder             105      L    plo  \n",
       "2  Oklahoma City Thunder             104      L    plo  \n",
       "3  Oklahoma City Thunder             103      W    plo  \n",
       "4  Oklahoma City Thunder             100      W    plo  "
      ]
     },
     "execution_count": 27,
     "metadata": {},
     "output_type": "execute_result"
    }
   ],
   "source": [
    "hou_rockets.head()"
   ]
  },
  {
   "cell_type": "code",
   "execution_count": null,
   "metadata": {},
   "outputs": [],
   "source": [
    "#day = hou_rockets['Date'].str.split(',').apply(lambda x: x[0])"
   ]
  },
  {
   "cell_type": "code",
   "execution_count": 28,
   "metadata": {},
   "outputs": [],
   "source": [
    "hou_rockets['Date'] = pd.to_datetime(hou_rockets['Date'])"
   ]
  },
  {
   "cell_type": "code",
   "execution_count": 29,
   "metadata": {},
   "outputs": [
    {
     "data": {
      "text/html": [
       "<div>\n",
       "<style scoped>\n",
       "    .dataframe tbody tr th:only-of-type {\n",
       "        vertical-align: middle;\n",
       "    }\n",
       "\n",
       "    .dataframe tbody tr th {\n",
       "        vertical-align: top;\n",
       "    }\n",
       "\n",
       "    .dataframe thead th {\n",
       "        text-align: right;\n",
       "    }\n",
       "</style>\n",
       "<table border=\"1\" class=\"dataframe\">\n",
       "  <thead>\n",
       "    <tr style=\"text-align: right;\">\n",
       "      <th></th>\n",
       "      <th>Date</th>\n",
       "      <th>Time</th>\n",
       "      <th>Team</th>\n",
       "      <th>Team_score</th>\n",
       "      <th>Location</th>\n",
       "      <th>Opponent</th>\n",
       "      <th>Opponent_score</th>\n",
       "      <th>Result</th>\n",
       "      <th>season</th>\n",
       "    </tr>\n",
       "  </thead>\n",
       "  <tbody>\n",
       "    <tr>\n",
       "      <th>0</th>\n",
       "      <td>2013-04-21</td>\n",
       "      <td>9:30p ET</td>\n",
       "      <td>Houston Rockets</td>\n",
       "      <td>91</td>\n",
       "      <td>away</td>\n",
       "      <td>Oklahoma City Thunder</td>\n",
       "      <td>120</td>\n",
       "      <td>L</td>\n",
       "      <td>plo</td>\n",
       "    </tr>\n",
       "    <tr>\n",
       "      <th>1</th>\n",
       "      <td>2013-04-24</td>\n",
       "      <td>7:00p ET</td>\n",
       "      <td>Houston Rockets</td>\n",
       "      <td>102</td>\n",
       "      <td>away</td>\n",
       "      <td>Oklahoma City Thunder</td>\n",
       "      <td>105</td>\n",
       "      <td>L</td>\n",
       "      <td>plo</td>\n",
       "    </tr>\n",
       "    <tr>\n",
       "      <th>2</th>\n",
       "      <td>2013-04-27</td>\n",
       "      <td>9:30p ET</td>\n",
       "      <td>Houston Rockets</td>\n",
       "      <td>101</td>\n",
       "      <td>home</td>\n",
       "      <td>Oklahoma City Thunder</td>\n",
       "      <td>104</td>\n",
       "      <td>L</td>\n",
       "      <td>plo</td>\n",
       "    </tr>\n",
       "    <tr>\n",
       "      <th>3</th>\n",
       "      <td>2013-04-29</td>\n",
       "      <td>9:30p ET</td>\n",
       "      <td>Houston Rockets</td>\n",
       "      <td>105</td>\n",
       "      <td>home</td>\n",
       "      <td>Oklahoma City Thunder</td>\n",
       "      <td>103</td>\n",
       "      <td>W</td>\n",
       "      <td>plo</td>\n",
       "    </tr>\n",
       "    <tr>\n",
       "      <th>4</th>\n",
       "      <td>2013-05-01</td>\n",
       "      <td>9:30p ET</td>\n",
       "      <td>Houston Rockets</td>\n",
       "      <td>107</td>\n",
       "      <td>away</td>\n",
       "      <td>Oklahoma City Thunder</td>\n",
       "      <td>100</td>\n",
       "      <td>W</td>\n",
       "      <td>plo</td>\n",
       "    </tr>\n",
       "  </tbody>\n",
       "</table>\n",
       "</div>"
      ],
      "text/plain": [
       "        Date      Time             Team  Team_score Location  \\\n",
       "0 2013-04-21  9:30p ET  Houston Rockets          91     away   \n",
       "1 2013-04-24  7:00p ET  Houston Rockets         102     away   \n",
       "2 2013-04-27  9:30p ET  Houston Rockets         101     home   \n",
       "3 2013-04-29  9:30p ET  Houston Rockets         105     home   \n",
       "4 2013-05-01  9:30p ET  Houston Rockets         107     away   \n",
       "\n",
       "                Opponent  Opponent_score Result season  \n",
       "0  Oklahoma City Thunder             120      L    plo  \n",
       "1  Oklahoma City Thunder             105      L    plo  \n",
       "2  Oklahoma City Thunder             104      L    plo  \n",
       "3  Oklahoma City Thunder             103      W    plo  \n",
       "4  Oklahoma City Thunder             100      W    plo  "
      ]
     },
     "execution_count": 29,
     "metadata": {},
     "output_type": "execute_result"
    }
   ],
   "source": [
    "hou_rockets.head()"
   ]
  },
  {
   "cell_type": "code",
   "execution_count": 30,
   "metadata": {},
   "outputs": [],
   "source": [
    "hou_rockets = hou_rockets.set_index('Date').sort_index(ascending=True)"
   ]
  },
  {
   "cell_type": "code",
   "execution_count": 31,
   "metadata": {},
   "outputs": [
    {
     "name": "stdout",
     "output_type": "stream",
     "text": [
      "<class 'pandas.core.frame.DataFrame'>\n",
      "DatetimeIndex: 45 entries, 2013-04-21 to 2017-05-11\n",
      "Data columns (total 8 columns):\n",
      "Time              45 non-null object\n",
      "Team              45 non-null object\n",
      "Team_score        45 non-null int64\n",
      "Location          45 non-null object\n",
      "Opponent          45 non-null object\n",
      "Opponent_score    45 non-null int64\n",
      "Result            45 non-null object\n",
      "season            45 non-null object\n",
      "dtypes: int64(2), object(6)\n",
      "memory usage: 3.2+ KB\n"
     ]
    }
   ],
   "source": [
    "hou_rockets.info()"
   ]
  },
  {
   "cell_type": "code",
   "execution_count": 32,
   "metadata": {},
   "outputs": [
    {
     "data": {
      "text/plain": [
       "plo    45\n",
       "Name: season, dtype: int64"
      ]
     },
     "execution_count": 32,
     "metadata": {},
     "output_type": "execute_result"
    }
   ],
   "source": [
    "hou_rockets.season.value_counts(dropna=False)"
   ]
  },
  {
   "cell_type": "code",
   "execution_count": 33,
   "metadata": {},
   "outputs": [
    {
     "data": {
      "text/html": [
       "<div>\n",
       "<style scoped>\n",
       "    .dataframe tbody tr th:only-of-type {\n",
       "        vertical-align: middle;\n",
       "    }\n",
       "\n",
       "    .dataframe tbody tr th {\n",
       "        vertical-align: top;\n",
       "    }\n",
       "\n",
       "    .dataframe thead th {\n",
       "        text-align: right;\n",
       "    }\n",
       "</style>\n",
       "<table border=\"1\" class=\"dataframe\">\n",
       "  <thead>\n",
       "    <tr style=\"text-align: right;\">\n",
       "      <th></th>\n",
       "      <th>Time</th>\n",
       "      <th>Team</th>\n",
       "      <th>Team_score</th>\n",
       "      <th>Location</th>\n",
       "      <th>Opponent</th>\n",
       "      <th>Opponent_score</th>\n",
       "      <th>Result</th>\n",
       "      <th>season</th>\n",
       "    </tr>\n",
       "    <tr>\n",
       "      <th>Date</th>\n",
       "      <th></th>\n",
       "      <th></th>\n",
       "      <th></th>\n",
       "      <th></th>\n",
       "      <th></th>\n",
       "      <th></th>\n",
       "      <th></th>\n",
       "      <th></th>\n",
       "    </tr>\n",
       "  </thead>\n",
       "  <tbody>\n",
       "    <tr>\n",
       "      <th>2013-04-21</th>\n",
       "      <td>9:30p ET</td>\n",
       "      <td>Houston Rockets</td>\n",
       "      <td>91</td>\n",
       "      <td>away</td>\n",
       "      <td>Oklahoma City Thunder</td>\n",
       "      <td>120</td>\n",
       "      <td>L</td>\n",
       "      <td>plo</td>\n",
       "    </tr>\n",
       "    <tr>\n",
       "      <th>2013-04-24</th>\n",
       "      <td>7:00p ET</td>\n",
       "      <td>Houston Rockets</td>\n",
       "      <td>102</td>\n",
       "      <td>away</td>\n",
       "      <td>Oklahoma City Thunder</td>\n",
       "      <td>105</td>\n",
       "      <td>L</td>\n",
       "      <td>plo</td>\n",
       "    </tr>\n",
       "    <tr>\n",
       "      <th>2013-04-27</th>\n",
       "      <td>9:30p ET</td>\n",
       "      <td>Houston Rockets</td>\n",
       "      <td>101</td>\n",
       "      <td>home</td>\n",
       "      <td>Oklahoma City Thunder</td>\n",
       "      <td>104</td>\n",
       "      <td>L</td>\n",
       "      <td>plo</td>\n",
       "    </tr>\n",
       "    <tr>\n",
       "      <th>2013-04-29</th>\n",
       "      <td>9:30p ET</td>\n",
       "      <td>Houston Rockets</td>\n",
       "      <td>105</td>\n",
       "      <td>home</td>\n",
       "      <td>Oklahoma City Thunder</td>\n",
       "      <td>103</td>\n",
       "      <td>W</td>\n",
       "      <td>plo</td>\n",
       "    </tr>\n",
       "    <tr>\n",
       "      <th>2013-05-01</th>\n",
       "      <td>9:30p ET</td>\n",
       "      <td>Houston Rockets</td>\n",
       "      <td>107</td>\n",
       "      <td>away</td>\n",
       "      <td>Oklahoma City Thunder</td>\n",
       "      <td>100</td>\n",
       "      <td>W</td>\n",
       "      <td>plo</td>\n",
       "    </tr>\n",
       "  </tbody>\n",
       "</table>\n",
       "</div>"
      ],
      "text/plain": [
       "                Time             Team  Team_score Location  \\\n",
       "Date                                                         \n",
       "2013-04-21  9:30p ET  Houston Rockets          91     away   \n",
       "2013-04-24  7:00p ET  Houston Rockets         102     away   \n",
       "2013-04-27  9:30p ET  Houston Rockets         101     home   \n",
       "2013-04-29  9:30p ET  Houston Rockets         105     home   \n",
       "2013-05-01  9:30p ET  Houston Rockets         107     away   \n",
       "\n",
       "                         Opponent  Opponent_score Result season  \n",
       "Date                                                             \n",
       "2013-04-21  Oklahoma City Thunder             120      L    plo  \n",
       "2013-04-24  Oklahoma City Thunder             105      L    plo  \n",
       "2013-04-27  Oklahoma City Thunder             104      L    plo  \n",
       "2013-04-29  Oklahoma City Thunder             103      W    plo  \n",
       "2013-05-01  Oklahoma City Thunder             100      W    plo  "
      ]
     },
     "execution_count": 33,
     "metadata": {},
     "output_type": "execute_result"
    }
   ],
   "source": [
    "hou_rockets.head()"
   ]
  },
  {
   "cell_type": "markdown",
   "metadata": {},
   "source": [
    "## Save clean data to  to csv"
   ]
  },
  {
   "cell_type": "code",
   "execution_count": 34,
   "metadata": {},
   "outputs": [],
   "source": [
    "hou_rockets.to_csv('sports_data_clean/hou_rockets_10_17_plo_clean.csv')"
   ]
  },
  {
   "cell_type": "code",
   "execution_count": 35,
   "metadata": {},
   "outputs": [
    {
     "name": "stdout",
     "output_type": "stream",
     "text": [
      "\u001b[0m\u001b[01;32mastros_08_17_clean.csv\u001b[0m*       \u001b[01;32mhou_rockets_10_17_plo_clean.csv\u001b[0m*\r\n",
      "\u001b[01;32mastros_10_17_clean.csv\u001b[0m*       \u001b[01;32mhou_rockets_10_17_reg_plo_clean.csv\u001b[0m*\r\n",
      "\u001b[01;32mastros_10_17_plo_clean.csv\u001b[0m*   \u001b[01;32mnfl_08_17_clean.csv\u001b[0m*\r\n",
      "\u001b[01;32mastros_10_17_reg_clean.csv\u001b[0m*   \u001b[01;32mnfl10clean.csv\u001b[0m*\r\n",
      "\u001b[01;32mdynamo_08_17_clean.csv\u001b[0m*       \u001b[01;32mnfl10yearsfull.csv\u001b[0m*\r\n",
      "\u001b[01;32mdynamo_10_17_clean.csv\u001b[0m*       \u001b[01;32mnfl17years_clean.csv\u001b[0m*\r\n",
      "\u001b[01;32mdynamo_10_17_plo.csv\u001b[0m*         \u001b[01;32mnfl17years_PST_clean.csv\u001b[0m*\r\n",
      "\u001b[01;32mdynamo_10_17__reg_clean.csv\u001b[0m*  \u001b[01;32mrice_08_17_clean.csv\u001b[0m*\r\n",
      "\u001b[01;32mhou_home_10_17_clean.csv\u001b[0m*     \u001b[01;32mtsu_08_17_clean.csv\u001b[0m*\r\n",
      "\u001b[01;32mhou_rockets_08_17_clean.csv\u001b[0m*  \u001b[01;32muh_08_17_clean.csv\u001b[0m*\r\n"
     ]
    }
   ],
   "source": [
    "ls sports_data_clean/"
   ]
  },
  {
   "cell_type": "code",
   "execution_count": null,
   "metadata": {},
   "outputs": [],
   "source": [
    "## Finish"
   ]
  }
 ],
 "metadata": {
  "kernelspec": {
   "display_name": "Python 3",
   "language": "python",
   "name": "python3"
  },
  "language_info": {
   "codemirror_mode": {
    "name": "ipython",
    "version": 3
   },
   "file_extension": ".py",
   "mimetype": "text/x-python",
   "name": "python",
   "nbconvert_exporter": "python",
   "pygments_lexer": "ipython3",
   "version": "3.6.4"
  }
 },
 "nbformat": 4,
 "nbformat_minor": 2
}
