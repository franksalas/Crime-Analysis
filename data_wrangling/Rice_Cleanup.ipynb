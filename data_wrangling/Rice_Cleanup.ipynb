{
 "cells": [
  {
   "cell_type": "code",
   "execution_count": 1,
   "metadata": {},
   "outputs": [],
   "source": [
    "import pandas as pd\n",
    "import numpy as np\n",
    "import glob, os\n",
    "import re"
   ]
  },
  {
   "cell_type": "markdown",
   "metadata": {},
   "source": [
    "## Location"
   ]
  },
  {
   "cell_type": "code",
   "execution_count": 2,
   "metadata": {},
   "outputs": [
    {
     "name": "stdout",
     "output_type": "stream",
     "text": [
      "\u001b[0m\u001b[01;32mRU08_17.csv\u001b[0m*  \u001b[01;32mtsu08_11.csv\u001b[0m*  \u001b[01;32mtsu12_17.csv\u001b[0m*  \u001b[01;32muh08_17.csv\u001b[0m*\r\n"
     ]
    }
   ],
   "source": [
    "ls sports_data/NCAA/"
   ]
  },
  {
   "cell_type": "markdown",
   "metadata": {},
   "source": [
    "## Load Data"
   ]
  },
  {
   "cell_type": "code",
   "execution_count": 5,
   "metadata": {},
   "outputs": [],
   "source": [
    "path = 'sports_data/NCAA/RU08_17.csv'\n",
    "df = pd.read_csv(path)"
   ]
  },
  {
   "cell_type": "code",
   "execution_count": 7,
   "metadata": {},
   "outputs": [
    {
     "name": "stdout",
     "output_type": "stream",
     "text": [
      "<class 'pandas.core.frame.DataFrame'>\n",
      "RangeIndex: 125 entries, 0 to 124\n",
      "Data columns (total 16 columns):\n",
      "G              125 non-null int64\n",
      "Date           125 non-null object\n",
      "Time           63 non-null object\n",
      "Day            125 non-null object\n",
      "School         125 non-null object\n",
      "Unnamed: 5     67 non-null object\n",
      "Opponent       125 non-null object\n",
      "Conf           125 non-null object\n",
      "Unnamed: 8     125 non-null object\n",
      "Pts            125 non-null int64\n",
      "Opp            125 non-null int64\n",
      "W              125 non-null int64\n",
      "L              125 non-null int64\n",
      "Streak         125 non-null object\n",
      "Notes          26 non-null object\n",
      "Unnamed: 15    1 non-null object\n",
      "dtypes: int64(5), object(11)\n",
      "memory usage: 15.7+ KB\n"
     ]
    }
   ],
   "source": [
    "df.info()"
   ]
  },
  {
   "cell_type": "code",
   "execution_count": 135,
   "metadata": {},
   "outputs": [
    {
     "data": {
      "text/html": [
       "<div>\n",
       "<style scoped>\n",
       "    .dataframe tbody tr th:only-of-type {\n",
       "        vertical-align: middle;\n",
       "    }\n",
       "\n",
       "    .dataframe tbody tr th {\n",
       "        vertical-align: top;\n",
       "    }\n",
       "\n",
       "    .dataframe thead th {\n",
       "        text-align: right;\n",
       "    }\n",
       "</style>\n",
       "<table border=\"1\" class=\"dataframe\">\n",
       "  <thead>\n",
       "    <tr style=\"text-align: right;\">\n",
       "      <th></th>\n",
       "      <th>G</th>\n",
       "      <th>Date</th>\n",
       "      <th>Time</th>\n",
       "      <th>Day</th>\n",
       "      <th>School</th>\n",
       "      <th>Unnamed: 5</th>\n",
       "      <th>Opponent</th>\n",
       "      <th>Conf</th>\n",
       "      <th>Unnamed: 8</th>\n",
       "      <th>Pts</th>\n",
       "      <th>Opp</th>\n",
       "      <th>W</th>\n",
       "      <th>L</th>\n",
       "      <th>Streak</th>\n",
       "      <th>Notes</th>\n",
       "      <th>Unnamed: 15</th>\n",
       "    </tr>\n",
       "  </thead>\n",
       "  <tbody>\n",
       "    <tr>\n",
       "      <th>0</th>\n",
       "      <td>1</td>\n",
       "      <td>Aug 29 2008</td>\n",
       "      <td>NaN</td>\n",
       "      <td>Fri</td>\n",
       "      <td>Rice</td>\n",
       "      <td>NaN</td>\n",
       "      <td>SMU</td>\n",
       "      <td>CUSA</td>\n",
       "      <td>W</td>\n",
       "      <td>56</td>\n",
       "      <td>27</td>\n",
       "      <td>1</td>\n",
       "      <td>0</td>\n",
       "      <td>W 1</td>\n",
       "      <td>NaN</td>\n",
       "      <td>NaN</td>\n",
       "    </tr>\n",
       "    <tr>\n",
       "      <th>1</th>\n",
       "      <td>2</td>\n",
       "      <td>Sep 6 2008</td>\n",
       "      <td>NaN</td>\n",
       "      <td>Sat</td>\n",
       "      <td>Rice</td>\n",
       "      <td>@</td>\n",
       "      <td>Memphis</td>\n",
       "      <td>CUSA</td>\n",
       "      <td>W</td>\n",
       "      <td>42</td>\n",
       "      <td>35</td>\n",
       "      <td>2</td>\n",
       "      <td>0</td>\n",
       "      <td>W 2</td>\n",
       "      <td>NaN</td>\n",
       "      <td>NaN</td>\n",
       "    </tr>\n",
       "    <tr>\n",
       "      <th>2</th>\n",
       "      <td>3</td>\n",
       "      <td>Sep 13 2008</td>\n",
       "      <td>NaN</td>\n",
       "      <td>Sat</td>\n",
       "      <td>Rice</td>\n",
       "      <td>@</td>\n",
       "      <td>Vanderbilt</td>\n",
       "      <td>SEC</td>\n",
       "      <td>L</td>\n",
       "      <td>21</td>\n",
       "      <td>38</td>\n",
       "      <td>2</td>\n",
       "      <td>1</td>\n",
       "      <td>L 1</td>\n",
       "      <td>NaN</td>\n",
       "      <td>NaN</td>\n",
       "    </tr>\n",
       "    <tr>\n",
       "      <th>3</th>\n",
       "      <td>4</td>\n",
       "      <td>Sep 20 2008</td>\n",
       "      <td>NaN</td>\n",
       "      <td>Sat</td>\n",
       "      <td>Rice</td>\n",
       "      <td>@</td>\n",
       "      <td>(7) Texas</td>\n",
       "      <td>Big 12</td>\n",
       "      <td>L</td>\n",
       "      <td>10</td>\n",
       "      <td>52</td>\n",
       "      <td>2</td>\n",
       "      <td>2</td>\n",
       "      <td>L 2</td>\n",
       "      <td>NaN</td>\n",
       "      <td>NaN</td>\n",
       "    </tr>\n",
       "    <tr>\n",
       "      <th>4</th>\n",
       "      <td>5</td>\n",
       "      <td>Sep 27 2008</td>\n",
       "      <td>NaN</td>\n",
       "      <td>Sat</td>\n",
       "      <td>Rice</td>\n",
       "      <td>NaN</td>\n",
       "      <td>North Texas</td>\n",
       "      <td>Sun Belt</td>\n",
       "      <td>W</td>\n",
       "      <td>77</td>\n",
       "      <td>20</td>\n",
       "      <td>3</td>\n",
       "      <td>2</td>\n",
       "      <td>W 1</td>\n",
       "      <td>NaN</td>\n",
       "      <td>NaN</td>\n",
       "    </tr>\n",
       "  </tbody>\n",
       "</table>\n",
       "</div>"
      ],
      "text/plain": [
       "   G         Date Time  Day School Unnamed: 5     Opponent      Conf  \\\n",
       "0  1  Aug 29 2008  NaN  Fri   Rice        NaN          SMU      CUSA   \n",
       "1  2   Sep 6 2008  NaN  Sat   Rice          @      Memphis      CUSA   \n",
       "2  3  Sep 13 2008  NaN  Sat   Rice          @   Vanderbilt       SEC   \n",
       "3  4  Sep 20 2008  NaN  Sat   Rice          @    (7) Texas    Big 12   \n",
       "4  5  Sep 27 2008  NaN  Sat   Rice        NaN  North Texas  Sun Belt   \n",
       "\n",
       "  Unnamed: 8  Pts  Opp  W  L Streak Notes Unnamed: 15  \n",
       "0          W   56   27  1  0    W 1   NaN         NaN  \n",
       "1          W   42   35  2  0    W 2   NaN         NaN  \n",
       "2          L   21   38  2  1    L 1   NaN         NaN  \n",
       "3          L   10   52  2  2    L 2   NaN         NaN  \n",
       "4          W   77   20  3  2    W 1   NaN         NaN  "
      ]
     },
     "execution_count": 135,
     "metadata": {},
     "output_type": "execute_result"
    }
   ],
   "source": [
    "df.head()"
   ]
  },
  {
   "cell_type": "code",
   "execution_count": 137,
   "metadata": {},
   "outputs": [
    {
     "data": {
      "text/plain": [
       "array([nan, 'Texas Bowl (Texas Bowl (Houston TX))', 'Houston TX',\n",
       "       'Armed Forces Bowl (Armed Forces Bowl (Fort Worth TX))',\n",
       "       'Reliant Stadium - Houston TX', 'CUSA Championship Game',\n",
       "       'Liberty Bowl (Memphis TN)', 'NBC', 'ESPN 2', 'FSN MSG+ ROOT-RM',\n",
       "       'FCS', 'ASN CSN-BAY TCN-PHI', 'CBSSN', 'FSN MSG ROOT-PIT RM',\n",
       "       'American Sports Network', 'FSN-OH DET MSG+ MASN2',\n",
       "       'FSN MSG+ ROOT-PITT', 'FS1', 'ESPN', 'ESPN3'], dtype=object)"
      ]
     },
     "execution_count": 137,
     "metadata": {},
     "output_type": "execute_result"
    }
   ],
   "source": [
    "df['Notes'].unique()"
   ]
  },
  {
   "cell_type": "markdown",
   "metadata": {},
   "source": [
    "## Create slice with only needed columns"
   ]
  },
  {
   "cell_type": "code",
   "execution_count": 104,
   "metadata": {},
   "outputs": [],
   "source": [
    "rice = df[['Date','Day','School','Pts','Unnamed: 5','Opponent','Opp','Unnamed: 8']]"
   ]
  },
  {
   "cell_type": "code",
   "execution_count": 105,
   "metadata": {},
   "outputs": [
    {
     "name": "stdout",
     "output_type": "stream",
     "text": [
      "<class 'pandas.core.frame.DataFrame'>\n",
      "RangeIndex: 125 entries, 0 to 124\n",
      "Data columns (total 8 columns):\n",
      "Date          125 non-null object\n",
      "Day           125 non-null object\n",
      "School        125 non-null object\n",
      "Pts           125 non-null int64\n",
      "Unnamed: 5    67 non-null object\n",
      "Opponent      125 non-null object\n",
      "Opp           125 non-null int64\n",
      "Unnamed: 8    125 non-null object\n",
      "dtypes: int64(2), object(6)\n",
      "memory usage: 7.9+ KB\n"
     ]
    }
   ],
   "source": [
    "rice.info()"
   ]
  },
  {
   "cell_type": "code",
   "execution_count": 106,
   "metadata": {},
   "outputs": [
    {
     "data": {
      "text/html": [
       "<div>\n",
       "<style scoped>\n",
       "    .dataframe tbody tr th:only-of-type {\n",
       "        vertical-align: middle;\n",
       "    }\n",
       "\n",
       "    .dataframe tbody tr th {\n",
       "        vertical-align: top;\n",
       "    }\n",
       "\n",
       "    .dataframe thead th {\n",
       "        text-align: right;\n",
       "    }\n",
       "</style>\n",
       "<table border=\"1\" class=\"dataframe\">\n",
       "  <thead>\n",
       "    <tr style=\"text-align: right;\">\n",
       "      <th></th>\n",
       "      <th>Date</th>\n",
       "      <th>Day</th>\n",
       "      <th>School</th>\n",
       "      <th>Pts</th>\n",
       "      <th>Unnamed: 5</th>\n",
       "      <th>Opponent</th>\n",
       "      <th>Opp</th>\n",
       "      <th>Unnamed: 8</th>\n",
       "    </tr>\n",
       "  </thead>\n",
       "  <tbody>\n",
       "    <tr>\n",
       "      <th>0</th>\n",
       "      <td>Aug 29 2008</td>\n",
       "      <td>Fri</td>\n",
       "      <td>Rice</td>\n",
       "      <td>56</td>\n",
       "      <td>NaN</td>\n",
       "      <td>SMU</td>\n",
       "      <td>27</td>\n",
       "      <td>W</td>\n",
       "    </tr>\n",
       "    <tr>\n",
       "      <th>1</th>\n",
       "      <td>Sep 6 2008</td>\n",
       "      <td>Sat</td>\n",
       "      <td>Rice</td>\n",
       "      <td>42</td>\n",
       "      <td>@</td>\n",
       "      <td>Memphis</td>\n",
       "      <td>35</td>\n",
       "      <td>W</td>\n",
       "    </tr>\n",
       "    <tr>\n",
       "      <th>2</th>\n",
       "      <td>Sep 13 2008</td>\n",
       "      <td>Sat</td>\n",
       "      <td>Rice</td>\n",
       "      <td>21</td>\n",
       "      <td>@</td>\n",
       "      <td>Vanderbilt</td>\n",
       "      <td>38</td>\n",
       "      <td>L</td>\n",
       "    </tr>\n",
       "    <tr>\n",
       "      <th>3</th>\n",
       "      <td>Sep 20 2008</td>\n",
       "      <td>Sat</td>\n",
       "      <td>Rice</td>\n",
       "      <td>10</td>\n",
       "      <td>@</td>\n",
       "      <td>(7) Texas</td>\n",
       "      <td>52</td>\n",
       "      <td>L</td>\n",
       "    </tr>\n",
       "    <tr>\n",
       "      <th>4</th>\n",
       "      <td>Sep 27 2008</td>\n",
       "      <td>Sat</td>\n",
       "      <td>Rice</td>\n",
       "      <td>77</td>\n",
       "      <td>NaN</td>\n",
       "      <td>North Texas</td>\n",
       "      <td>20</td>\n",
       "      <td>W</td>\n",
       "    </tr>\n",
       "  </tbody>\n",
       "</table>\n",
       "</div>"
      ],
      "text/plain": [
       "          Date  Day School  Pts Unnamed: 5     Opponent  Opp Unnamed: 8\n",
       "0  Aug 29 2008  Fri   Rice   56        NaN          SMU   27          W\n",
       "1   Sep 6 2008  Sat   Rice   42          @      Memphis   35          W\n",
       "2  Sep 13 2008  Sat   Rice   21          @   Vanderbilt   38          L\n",
       "3  Sep 20 2008  Sat   Rice   10          @    (7) Texas   52          L\n",
       "4  Sep 27 2008  Sat   Rice   77        NaN  North Texas   20          W"
      ]
     },
     "execution_count": 106,
     "metadata": {},
     "output_type": "execute_result"
    }
   ],
   "source": [
    "rice.head()"
   ]
  },
  {
   "cell_type": "markdown",
   "metadata": {},
   "source": [
    "## Inspect data"
   ]
  },
  {
   "cell_type": "code",
   "execution_count": 107,
   "metadata": {},
   "outputs": [
    {
     "data": {
      "text/plain": [
       "array(['Aug 29 2008', 'Sep 6 2008', 'Sep 13 2008', 'Sep 20 2008',\n",
       "       'Sep 27 2008', 'Oct 4 2008', 'Oct 18 2008', 'Oct 25 2008',\n",
       "       'Nov 1 2008', 'Nov 8 2008', 'Nov 22 2008', 'Nov 29 2008',\n",
       "       'Dec 30 2008', 'Sep 5 2009', 'Sep 12 2009', 'Sep 19 2009',\n",
       "       'Sep 26 2009', 'Oct 3 2009', 'Oct 10 2009', 'Oct 17 2009',\n",
       "       'Oct 24 2009', 'Nov 7 2009', 'Nov 14 2009', 'Nov 21 2009',\n",
       "       'Nov 28 2009', 'Sep 4 2010', 'Sep 11 2010', 'Sep 18 2010',\n",
       "       'Sep 25 2010', 'Oct 2 2010', 'Oct 9 2010', 'Oct 16 2010',\n",
       "       'Oct 23 2010', 'Nov 6 2010', 'Nov 13 2010', 'Nov 20 2010',\n",
       "       'Nov 27 2010', 'Sep 3 2011', 'Sep 10 2011', 'Sep 24 2011',\n",
       "       'Oct 1 2011', 'Oct 8 2011', 'Oct 15 2011', 'Oct 22 2011',\n",
       "       'Oct 27 2011', 'Nov 5 2011', 'Nov 12 2011', 'Nov 19 2011',\n",
       "       'Nov 26 2011', 'Aug 30 2012', 'Sep 8 2012', 'Sep 15 2012',\n",
       "       'Sep 22 2012', 'Sep 29 2012', 'Oct 6 2012', 'Oct 13 2012',\n",
       "       'Oct 20 2012', 'Oct 27 2012', 'Nov 3 2012', 'Nov 17 2012',\n",
       "       'Nov 24 2012', 'Dec 29 2012', 'Aug 31 2013', 'Sep 14 2013',\n",
       "       'Sep 21 2013', 'Sep 28 2013', 'Oct 5 2013', 'Oct 12 2013',\n",
       "       'Oct 19 2013', 'Oct 26 2013', 'Oct 31 2013', 'Nov 16 2013',\n",
       "       'Nov 21 2013', 'Nov 30 2013', 'Dec 7 2013', 'Dec 31 2013',\n",
       "       'Aug 30 2014', 'Sep 13 2014', 'Sep 20 2014', 'Sep 27 2014',\n",
       "       'Oct 4 2014', 'Oct 11 2014', 'Oct 25 2014', 'Nov 1 2014',\n",
       "       'Nov 8 2014', 'Nov 15 2014', 'Nov 21 2014', 'Nov 29 2014',\n",
       "       'Dec 24 2014', 'Sep 5 2015', 'Sep 12 2015', 'Sep 19 2015',\n",
       "       'Sep 26 2015', 'Oct 3 2015', 'Oct 10 2015', 'Oct 24 2015',\n",
       "       'Oct 30 2015', 'Nov 6 2015', 'Nov 14 2015', 'Nov 21 2015',\n",
       "       'Nov 28 2015', 'Sep 1 2016', 'Sep 10 2016', 'Sep 16 2016',\n",
       "       'Sep 24 2016', 'Oct 1 2016', 'Oct 15 2016', 'Oct 22 2016',\n",
       "       'Oct 29 2016', 'Nov 5 2016', 'Nov 12 2016', 'Nov 19 2016',\n",
       "       'Nov 26 2016', 'Aug 26 2017', 'Sep 9 2017', 'Sep 16 2017',\n",
       "       'Sep 23 2017', 'Sep 30 2017', 'Oct 7 2017', 'Oct 21 2017',\n",
       "       'Oct 28 2017', 'Nov 4 2017', 'Nov 11 2017', 'Nov 18 2017',\n",
       "       'Nov 25 2017'], dtype=object)"
      ]
     },
     "execution_count": 107,
     "metadata": {},
     "output_type": "execute_result"
    }
   ],
   "source": [
    "rice.Date.unique()  #ok"
   ]
  },
  {
   "cell_type": "code",
   "execution_count": 108,
   "metadata": {},
   "outputs": [
    {
     "data": {
      "text/plain": [
       "array(['Fri', 'Sat', 'Tue', 'Thu', 'Wed'], dtype=object)"
      ]
     },
     "execution_count": 108,
     "metadata": {},
     "output_type": "execute_result"
    }
   ],
   "source": [
    "rice.Day.unique()  # ok"
   ]
  },
  {
   "cell_type": "code",
   "execution_count": 109,
   "metadata": {},
   "outputs": [
    {
     "data": {
      "text/plain": [
       "array(['Rice'], dtype=object)"
      ]
     },
     "execution_count": 109,
     "metadata": {},
     "output_type": "execute_result"
    }
   ],
   "source": [
    "rice.School.unique()  # OK"
   ]
  },
  {
   "cell_type": "code",
   "execution_count": 110,
   "metadata": {},
   "outputs": [
    {
     "data": {
      "text/plain": [
       "array([56, 42, 21, 10, 77, 28, 45, 49, 38, 35, 24, 17, 14, 13,  7, 30, 32,\n",
       "       31, 34, 27, 62,  9, 20, 41,  6, 19, 25, 37, 51, 44, 36, 33, 23, 26,\n",
       "       18, 16, 52, 65, 22,  3, 12])"
      ]
     },
     "execution_count": 110,
     "metadata": {},
     "output_type": "execute_result"
    }
   ],
   "source": [
    "rice.Pts.unique()  # OK"
   ]
  },
  {
   "cell_type": "code",
   "execution_count": 111,
   "metadata": {},
   "outputs": [
    {
     "data": {
      "text/plain": [
       "array([nan, '@', 'N'], dtype=object)"
      ]
     },
     "execution_count": 111,
     "metadata": {},
     "output_type": "execute_result"
    }
   ],
   "source": [
    "rice['Unnamed: 5'].unique()  # need fix"
   ]
  },
  {
   "cell_type": "code",
   "execution_count": 112,
   "metadata": {},
   "outputs": [
    {
     "data": {
      "text/plain": [
       "array(['SMU', 'Memphis', 'Vanderbilt', '(7) Texas', 'North Texas',\n",
       "       'Tulsa', 'Southern Mississippi', 'Tulane', 'UTEP', 'Army',\n",
       "       'Marshall', 'Houston', 'Western Michigan', 'UAB', 'Texas Tech',\n",
       "       '(16) Oklahoma State', 'Navy', 'East Carolina', 'UCF',\n",
       "       '(25) Houston', '(5) Texas', 'Northwestern', 'Baylor', 'Texas',\n",
       "       'Purdue', '(17) Baylor', '(18) Houston', 'UCLA', 'Kansas',\n",
       "       'Louisiana Tech', 'UTSA', 'Air Force', '(7) Texas A&M',\n",
       "       'Florida Atlantic', 'New Mexico State', 'Mississippi State',\n",
       "       '(17) Notre Dame', 'Old Dominion', 'Hawaii',\n",
       "       'Florida International', '(21) Marshall', 'Fresno State', 'Wagner',\n",
       "       '(5) Baylor', 'Western Kentucky', 'Charlotte', '(21) Baylor',\n",
       "       'Prairie View A&M', 'Stanford', '(14) Stanford', 'Pitt'],\n",
       "      dtype=object)"
      ]
     },
     "execution_count": 112,
     "metadata": {},
     "output_type": "execute_result"
    }
   ],
   "source": [
    "rice.Opponent.unique()  # need fix"
   ]
  },
  {
   "cell_type": "code",
   "execution_count": 113,
   "metadata": {},
   "outputs": [
    {
     "data": {
      "text/plain": [
       "array([27, 35, 38, 52, 20, 63, 40, 17, 44, 31, 10, 42, 14, 55, 41, 36, 49,\n",
       "       29, 73, 34, 30, 64, 54, 23, 22, 56, 48,  6, 24, 37, 28,  7, 47, 21,\n",
       "       19, 13, 45, 76, 16, 70, 26, 65, 46, 61, 62, 43])"
      ]
     },
     "execution_count": 113,
     "metadata": {},
     "output_type": "execute_result"
    }
   ],
   "source": [
    "rice.Opp.unique()  # ok"
   ]
  },
  {
   "cell_type": "code",
   "execution_count": 114,
   "metadata": {},
   "outputs": [
    {
     "data": {
      "text/plain": [
       "array(['W', 'L'], dtype=object)"
      ]
     },
     "execution_count": 114,
     "metadata": {},
     "output_type": "execute_result"
    }
   ],
   "source": [
    "rice['Unnamed: 8'].unique()  # ok"
   ]
  },
  {
   "cell_type": "markdown",
   "metadata": {},
   "source": [
    "## Cleanup columns\n",
    "- Opponent: remove (#), and extra space"
   ]
  },
  {
   "cell_type": "code",
   "execution_count": 115,
   "metadata": {},
   "outputs": [
    {
     "data": {
      "text/plain": [
       "array(['SMU', 'Memphis', 'Vanderbilt', '(7) Texas', 'North Texas',\n",
       "       'Tulsa', 'Southern Mississippi', 'Tulane', 'UTEP', 'Army',\n",
       "       'Marshall', 'Houston', 'Western Michigan', 'UAB', 'Texas Tech',\n",
       "       '(16) Oklahoma State', 'Navy', 'East Carolina', 'UCF',\n",
       "       '(25) Houston', '(5) Texas', 'Northwestern', 'Baylor', 'Texas',\n",
       "       'Purdue', '(17) Baylor', '(18) Houston', 'UCLA', 'Kansas',\n",
       "       'Louisiana Tech', 'UTSA', 'Air Force', '(7) Texas A&M',\n",
       "       'Florida Atlantic', 'New Mexico State', 'Mississippi State',\n",
       "       '(17) Notre Dame', 'Old Dominion', 'Hawaii',\n",
       "       'Florida International', '(21) Marshall', 'Fresno State', 'Wagner',\n",
       "       '(5) Baylor', 'Western Kentucky', 'Charlotte', '(21) Baylor',\n",
       "       'Prairie View A&M', 'Stanford', '(14) Stanford', 'Pitt'],\n",
       "      dtype=object)"
      ]
     },
     "execution_count": 115,
     "metadata": {},
     "output_type": "execute_result"
    }
   ],
   "source": [
    "rice.Opponent.unique()"
   ]
  },
  {
   "cell_type": "code",
   "execution_count": 116,
   "metadata": {},
   "outputs": [
    {
     "name": "stderr",
     "output_type": "stream",
     "text": [
      "/home/salas/miniconda3/envs/springboard/lib/python3.6/site-packages/ipykernel_launcher.py:1: SettingWithCopyWarning: \n",
      "A value is trying to be set on a copy of a slice from a DataFrame.\n",
      "Try using .loc[row_indexer,col_indexer] = value instead\n",
      "\n",
      "See the caveats in the documentation: http://pandas.pydata.org/pandas-docs/stable/indexing.html#indexing-view-versus-copy\n",
      "  \"\"\"Entry point for launching an IPython kernel.\n"
     ]
    }
   ],
   "source": [
    "rice['Opponent'] = rice['Opponent'].str.replace(r\"\\(.*\\)\",\" \")"
   ]
  },
  {
   "cell_type": "code",
   "execution_count": 117,
   "metadata": {},
   "outputs": [
    {
     "data": {
      "text/plain": [
       "array(['SMU', 'Memphis', 'Vanderbilt', '  Texas', 'North Texas', 'Tulsa',\n",
       "       'Southern Mississippi', 'Tulane', 'UTEP', 'Army', 'Marshall',\n",
       "       'Houston', 'Western Michigan', 'UAB', 'Texas Tech',\n",
       "       '  Oklahoma State', 'Navy', 'East Carolina', 'UCF', '  Houston',\n",
       "       'Northwestern', 'Baylor', 'Texas', 'Purdue', '  Baylor', 'UCLA',\n",
       "       'Kansas', 'Louisiana Tech', 'UTSA', 'Air Force', '  Texas A&M',\n",
       "       'Florida Atlantic', 'New Mexico State', 'Mississippi State',\n",
       "       '  Notre Dame', 'Old Dominion', 'Hawaii', 'Florida International',\n",
       "       '  Marshall', 'Fresno State', 'Wagner', 'Western Kentucky',\n",
       "       'Charlotte', 'Prairie View A&M', 'Stanford', '  Stanford', 'Pitt'],\n",
       "      dtype=object)"
      ]
     },
     "execution_count": 117,
     "metadata": {},
     "output_type": "execute_result"
    }
   ],
   "source": [
    "rice.Opponent.unique()"
   ]
  },
  {
   "cell_type": "code",
   "execution_count": 119,
   "metadata": {},
   "outputs": [
    {
     "name": "stderr",
     "output_type": "stream",
     "text": [
      "/home/salas/miniconda3/envs/springboard/lib/python3.6/site-packages/ipykernel_launcher.py:1: SettingWithCopyWarning: \n",
      "A value is trying to be set on a copy of a slice from a DataFrame.\n",
      "Try using .loc[row_indexer,col_indexer] = value instead\n",
      "\n",
      "See the caveats in the documentation: http://pandas.pydata.org/pandas-docs/stable/indexing.html#indexing-view-versus-copy\n",
      "  \"\"\"Entry point for launching an IPython kernel.\n"
     ]
    }
   ],
   "source": [
    "rice['Opponent'] = rice['Opponent'].str.strip()"
   ]
  },
  {
   "cell_type": "code",
   "execution_count": 120,
   "metadata": {},
   "outputs": [
    {
     "data": {
      "text/plain": [
       "array(['SMU', 'Memphis', 'Vanderbilt', 'Texas', 'North Texas', 'Tulsa',\n",
       "       'Southern Mississippi', 'Tulane', 'UTEP', 'Army', 'Marshall',\n",
       "       'Houston', 'Western Michigan', 'UAB', 'Texas Tech',\n",
       "       'Oklahoma State', 'Navy', 'East Carolina', 'UCF', 'Northwestern',\n",
       "       'Baylor', 'Purdue', 'UCLA', 'Kansas', 'Louisiana Tech', 'UTSA',\n",
       "       'Air Force', 'Texas A&M', 'Florida Atlantic', 'New Mexico State',\n",
       "       'Mississippi State', 'Notre Dame', 'Old Dominion', 'Hawaii',\n",
       "       'Florida International', 'Fresno State', 'Wagner',\n",
       "       'Western Kentucky', 'Charlotte', 'Prairie View A&M', 'Stanford',\n",
       "       'Pitt'], dtype=object)"
      ]
     },
     "execution_count": 120,
     "metadata": {},
     "output_type": "execute_result"
    }
   ],
   "source": [
    "rice.Opponent.unique()"
   ]
  },
  {
   "cell_type": "markdown",
   "metadata": {},
   "source": [
    "## fix "
   ]
  },
  {
   "cell_type": "code",
   "execution_count": 121,
   "metadata": {},
   "outputs": [
    {
     "data": {
      "text/plain": [
       "array([nan, '@', 'N'], dtype=object)"
      ]
     },
     "execution_count": 121,
     "metadata": {},
     "output_type": "execute_result"
    }
   ],
   "source": [
    "rice['Unnamed: 5'].unique()  # need fix"
   ]
  },
  {
   "cell_type": "code",
   "execution_count": 122,
   "metadata": {},
   "outputs": [
    {
     "data": {
      "text/plain": [
       "@      61\n",
       "NaN    58\n",
       "N       6\n",
       "Name: Unnamed: 5, dtype: int64"
      ]
     },
     "execution_count": 122,
     "metadata": {},
     "output_type": "execute_result"
    }
   ],
   "source": [
    "rice['Unnamed: 5'].value_counts(dropna=False)"
   ]
  },
  {
   "cell_type": "markdown",
   "metadata": {},
   "source": [
    "## Change values of '@` to 'Away\n",
    "- create boolean mask to find rows whose value is '@"
   ]
  },
  {
   "cell_type": "code",
   "execution_count": 129,
   "metadata": {},
   "outputs": [
    {
     "name": "stderr",
     "output_type": "stream",
     "text": [
      "/home/salas/miniconda3/envs/springboard/lib/python3.6/site-packages/ipykernel_launcher.py:1: SettingWithCopyWarning: \n",
      "A value is trying to be set on a copy of a slice from a DataFrame.\n",
      "Try using .loc[row_indexer,col_indexer] = value instead\n",
      "\n",
      "See the caveats in the documentation: http://pandas.pydata.org/pandas-docs/stable/indexing.html#indexing-view-versus-copy\n",
      "  \"\"\"Entry point for launching an IPython kernel.\n"
     ]
    }
   ],
   "source": [
    "rice['Unnamed: 5'] = rice['Unnamed: 5'].replace('@','away')"
   ]
  },
  {
   "cell_type": "code",
   "execution_count": 132,
   "metadata": {},
   "outputs": [
    {
     "name": "stderr",
     "output_type": "stream",
     "text": [
      "/home/salas/miniconda3/envs/springboard/lib/python3.6/site-packages/ipykernel_launcher.py:1: SettingWithCopyWarning: \n",
      "A value is trying to be set on a copy of a slice from a DataFrame.\n",
      "Try using .loc[row_indexer,col_indexer] = value instead\n",
      "\n",
      "See the caveats in the documentation: http://pandas.pydata.org/pandas-docs/stable/indexing.html#indexing-view-versus-copy\n",
      "  \"\"\"Entry point for launching an IPython kernel.\n"
     ]
    }
   ],
   "source": [
    "rice['Unnamed: 5'] = rice['Unnamed: 5'].fillna('home')"
   ]
  },
  {
   "cell_type": "code",
   "execution_count": 133,
   "metadata": {},
   "outputs": [
    {
     "data": {
      "text/plain": [
       "away    61\n",
       "home    58\n",
       "N        6\n",
       "Name: Unnamed: 5, dtype: int64"
      ]
     },
     "execution_count": 133,
     "metadata": {},
     "output_type": "execute_result"
    }
   ],
   "source": [
    "rice['Unnamed: 5'].value_counts(dropna=False)"
   ]
  },
  {
   "cell_type": "markdown",
   "metadata": {},
   "source": [
    "#### Show values of 'N'\n",
    "\n",
    "- create boolean mask to find rows whose value is 'N"
   ]
  },
  {
   "cell_type": "code",
   "execution_count": 134,
   "metadata": {},
   "outputs": [
    {
     "data": {
      "text/html": [
       "<div>\n",
       "<style scoped>\n",
       "    .dataframe tbody tr th:only-of-type {\n",
       "        vertical-align: middle;\n",
       "    }\n",
       "\n",
       "    .dataframe tbody tr th {\n",
       "        vertical-align: top;\n",
       "    }\n",
       "\n",
       "    .dataframe thead th {\n",
       "        text-align: right;\n",
       "    }\n",
       "</style>\n",
       "<table border=\"1\" class=\"dataframe\">\n",
       "  <thead>\n",
       "    <tr style=\"text-align: right;\">\n",
       "      <th></th>\n",
       "      <th>Date</th>\n",
       "      <th>Day</th>\n",
       "      <th>School</th>\n",
       "      <th>Pts</th>\n",
       "      <th>Unnamed: 5</th>\n",
       "      <th>Opponent</th>\n",
       "      <th>Opp</th>\n",
       "      <th>Unnamed: 8</th>\n",
       "    </tr>\n",
       "  </thead>\n",
       "  <tbody>\n",
       "    <tr>\n",
       "      <th>53</th>\n",
       "      <td>Sep 29 2012</td>\n",
       "      <td>Sat</td>\n",
       "      <td>Rice</td>\n",
       "      <td>14</td>\n",
       "      <td>N</td>\n",
       "      <td>Houston</td>\n",
       "      <td>35</td>\n",
       "      <td>L</td>\n",
       "    </tr>\n",
       "    <tr>\n",
       "      <th>61</th>\n",
       "      <td>Dec 29 2012</td>\n",
       "      <td>Sat</td>\n",
       "      <td>Rice</td>\n",
       "      <td>33</td>\n",
       "      <td>N</td>\n",
       "      <td>Air Force</td>\n",
       "      <td>14</td>\n",
       "      <td>W</td>\n",
       "    </tr>\n",
       "    <tr>\n",
       "      <th>64</th>\n",
       "      <td>Sep 21 2013</td>\n",
       "      <td>Sat</td>\n",
       "      <td>Rice</td>\n",
       "      <td>26</td>\n",
       "      <td>N</td>\n",
       "      <td>Houston</td>\n",
       "      <td>31</td>\n",
       "      <td>L</td>\n",
       "    </tr>\n",
       "    <tr>\n",
       "      <th>75</th>\n",
       "      <td>Dec 31 2013</td>\n",
       "      <td>Tue</td>\n",
       "      <td>Rice</td>\n",
       "      <td>7</td>\n",
       "      <td>N</td>\n",
       "      <td>Mississippi State</td>\n",
       "      <td>44</td>\n",
       "      <td>L</td>\n",
       "    </tr>\n",
       "    <tr>\n",
       "      <th>88</th>\n",
       "      <td>Dec 24 2014</td>\n",
       "      <td>Wed</td>\n",
       "      <td>Rice</td>\n",
       "      <td>30</td>\n",
       "      <td>N</td>\n",
       "      <td>Fresno State</td>\n",
       "      <td>6</td>\n",
       "      <td>W</td>\n",
       "    </tr>\n",
       "    <tr>\n",
       "      <th>113</th>\n",
       "      <td>Aug 26 2017</td>\n",
       "      <td>Sat</td>\n",
       "      <td>Rice</td>\n",
       "      <td>7</td>\n",
       "      <td>N</td>\n",
       "      <td>Stanford</td>\n",
       "      <td>62</td>\n",
       "      <td>L</td>\n",
       "    </tr>\n",
       "  </tbody>\n",
       "</table>\n",
       "</div>"
      ],
      "text/plain": [
       "            Date  Day School  Pts Unnamed: 5           Opponent  Opp  \\\n",
       "53   Sep 29 2012  Sat   Rice   14          N            Houston   35   \n",
       "61   Dec 29 2012  Sat   Rice   33          N          Air Force   14   \n",
       "64   Sep 21 2013  Sat   Rice   26          N            Houston   31   \n",
       "75   Dec 31 2013  Tue   Rice    7          N  Mississippi State   44   \n",
       "88   Dec 24 2014  Wed   Rice   30          N       Fresno State    6   \n",
       "113  Aug 26 2017  Sat   Rice    7          N           Stanford   62   \n",
       "\n",
       "    Unnamed: 8  \n",
       "53           L  \n",
       "61           W  \n",
       "64           L  \n",
       "75           L  \n",
       "88           W  \n",
       "113          L  "
      ]
     },
     "execution_count": 134,
     "metadata": {},
     "output_type": "execute_result"
    }
   ],
   "source": [
    "n_val = rice['Unnamed: 5']  =='N'\n",
    "rice[n_val]"
   ]
  },
  {
   "cell_type": "markdown",
   "metadata": {},
   "source": [
    "## google search\n",
    "- rice v houston : away\n",
    "- rice v air force : away\n",
    "- rice v houston : away (reliant stadium)\n",
    "- rice v Mississippi State : away (MEMPHIS)\n",
    "- rice v Frenso State : away (HAWAI'I BOWL)\n",
    "- rice v Stanford : away (sydney)"
   ]
  },
  {
   "cell_type": "code",
   "execution_count": 138,
   "metadata": {},
   "outputs": [
    {
     "name": "stderr",
     "output_type": "stream",
     "text": [
      "/home/salas/miniconda3/envs/springboard/lib/python3.6/site-packages/ipykernel_launcher.py:1: SettingWithCopyWarning: \n",
      "A value is trying to be set on a copy of a slice from a DataFrame.\n",
      "Try using .loc[row_indexer,col_indexer] = value instead\n",
      "\n",
      "See the caveats in the documentation: http://pandas.pydata.org/pandas-docs/stable/indexing.html#indexing-view-versus-copy\n",
      "  \"\"\"Entry point for launching an IPython kernel.\n"
     ]
    }
   ],
   "source": [
    "rice['Unnamed: 5'] = rice['Unnamed: 5'].replace('N','away')"
   ]
  },
  {
   "cell_type": "code",
   "execution_count": 139,
   "metadata": {},
   "outputs": [
    {
     "data": {
      "text/plain": [
       "away    67\n",
       "home    58\n",
       "Name: Unnamed: 5, dtype: int64"
      ]
     },
     "execution_count": 139,
     "metadata": {},
     "output_type": "execute_result"
    }
   ],
   "source": [
    "rice['Unnamed: 5'].value_counts(dropna=False)"
   ]
  },
  {
   "cell_type": "code",
   "execution_count": 140,
   "metadata": {},
   "outputs": [
    {
     "data": {
      "text/html": [
       "<div>\n",
       "<style scoped>\n",
       "    .dataframe tbody tr th:only-of-type {\n",
       "        vertical-align: middle;\n",
       "    }\n",
       "\n",
       "    .dataframe tbody tr th {\n",
       "        vertical-align: top;\n",
       "    }\n",
       "\n",
       "    .dataframe thead th {\n",
       "        text-align: right;\n",
       "    }\n",
       "</style>\n",
       "<table border=\"1\" class=\"dataframe\">\n",
       "  <thead>\n",
       "    <tr style=\"text-align: right;\">\n",
       "      <th></th>\n",
       "      <th>Date</th>\n",
       "      <th>Day</th>\n",
       "      <th>School</th>\n",
       "      <th>Pts</th>\n",
       "      <th>Unnamed: 5</th>\n",
       "      <th>Opponent</th>\n",
       "      <th>Opp</th>\n",
       "      <th>Unnamed: 8</th>\n",
       "    </tr>\n",
       "  </thead>\n",
       "  <tbody>\n",
       "    <tr>\n",
       "      <th>0</th>\n",
       "      <td>Aug 29 2008</td>\n",
       "      <td>Fri</td>\n",
       "      <td>Rice</td>\n",
       "      <td>56</td>\n",
       "      <td>home</td>\n",
       "      <td>SMU</td>\n",
       "      <td>27</td>\n",
       "      <td>W</td>\n",
       "    </tr>\n",
       "    <tr>\n",
       "      <th>1</th>\n",
       "      <td>Sep 6 2008</td>\n",
       "      <td>Sat</td>\n",
       "      <td>Rice</td>\n",
       "      <td>42</td>\n",
       "      <td>away</td>\n",
       "      <td>Memphis</td>\n",
       "      <td>35</td>\n",
       "      <td>W</td>\n",
       "    </tr>\n",
       "    <tr>\n",
       "      <th>2</th>\n",
       "      <td>Sep 13 2008</td>\n",
       "      <td>Sat</td>\n",
       "      <td>Rice</td>\n",
       "      <td>21</td>\n",
       "      <td>away</td>\n",
       "      <td>Vanderbilt</td>\n",
       "      <td>38</td>\n",
       "      <td>L</td>\n",
       "    </tr>\n",
       "    <tr>\n",
       "      <th>3</th>\n",
       "      <td>Sep 20 2008</td>\n",
       "      <td>Sat</td>\n",
       "      <td>Rice</td>\n",
       "      <td>10</td>\n",
       "      <td>away</td>\n",
       "      <td>Texas</td>\n",
       "      <td>52</td>\n",
       "      <td>L</td>\n",
       "    </tr>\n",
       "    <tr>\n",
       "      <th>4</th>\n",
       "      <td>Sep 27 2008</td>\n",
       "      <td>Sat</td>\n",
       "      <td>Rice</td>\n",
       "      <td>77</td>\n",
       "      <td>home</td>\n",
       "      <td>North Texas</td>\n",
       "      <td>20</td>\n",
       "      <td>W</td>\n",
       "    </tr>\n",
       "  </tbody>\n",
       "</table>\n",
       "</div>"
      ],
      "text/plain": [
       "          Date  Day School  Pts Unnamed: 5     Opponent  Opp Unnamed: 8\n",
       "0  Aug 29 2008  Fri   Rice   56       home          SMU   27          W\n",
       "1   Sep 6 2008  Sat   Rice   42       away      Memphis   35          W\n",
       "2  Sep 13 2008  Sat   Rice   21       away   Vanderbilt   38          L\n",
       "3  Sep 20 2008  Sat   Rice   10       away        Texas   52          L\n",
       "4  Sep 27 2008  Sat   Rice   77       home  North Texas   20          W"
      ]
     },
     "execution_count": 140,
     "metadata": {},
     "output_type": "execute_result"
    }
   ],
   "source": [
    "rice.head()"
   ]
  },
  {
   "cell_type": "code",
   "execution_count": 141,
   "metadata": {},
   "outputs": [
    {
     "name": "stderr",
     "output_type": "stream",
     "text": [
      "/home/salas/miniconda3/envs/springboard/lib/python3.6/site-packages/pandas/core/frame.py:3027: SettingWithCopyWarning: \n",
      "A value is trying to be set on a copy of a slice from a DataFrame\n",
      "\n",
      "See the caveats in the documentation: http://pandas.pydata.org/pandas-docs/stable/indexing.html#indexing-view-versus-copy\n",
      "  return super(DataFrame, self).rename(**kwargs)\n"
     ]
    }
   ],
   "source": [
    "rice.rename(columns={'Unnamed: 8':'win_lost',\n",
    "                  'Unnamed: 5':'home_away'}, inplace=True)"
   ]
  },
  {
   "cell_type": "code",
   "execution_count": 142,
   "metadata": {},
   "outputs": [
    {
     "data": {
      "text/html": [
       "<div>\n",
       "<style scoped>\n",
       "    .dataframe tbody tr th:only-of-type {\n",
       "        vertical-align: middle;\n",
       "    }\n",
       "\n",
       "    .dataframe tbody tr th {\n",
       "        vertical-align: top;\n",
       "    }\n",
       "\n",
       "    .dataframe thead th {\n",
       "        text-align: right;\n",
       "    }\n",
       "</style>\n",
       "<table border=\"1\" class=\"dataframe\">\n",
       "  <thead>\n",
       "    <tr style=\"text-align: right;\">\n",
       "      <th></th>\n",
       "      <th>Date</th>\n",
       "      <th>Day</th>\n",
       "      <th>School</th>\n",
       "      <th>Pts</th>\n",
       "      <th>home_away</th>\n",
       "      <th>Opponent</th>\n",
       "      <th>Opp</th>\n",
       "      <th>win_lost</th>\n",
       "    </tr>\n",
       "  </thead>\n",
       "  <tbody>\n",
       "    <tr>\n",
       "      <th>0</th>\n",
       "      <td>Aug 29 2008</td>\n",
       "      <td>Fri</td>\n",
       "      <td>Rice</td>\n",
       "      <td>56</td>\n",
       "      <td>home</td>\n",
       "      <td>SMU</td>\n",
       "      <td>27</td>\n",
       "      <td>W</td>\n",
       "    </tr>\n",
       "    <tr>\n",
       "      <th>1</th>\n",
       "      <td>Sep 6 2008</td>\n",
       "      <td>Sat</td>\n",
       "      <td>Rice</td>\n",
       "      <td>42</td>\n",
       "      <td>away</td>\n",
       "      <td>Memphis</td>\n",
       "      <td>35</td>\n",
       "      <td>W</td>\n",
       "    </tr>\n",
       "    <tr>\n",
       "      <th>2</th>\n",
       "      <td>Sep 13 2008</td>\n",
       "      <td>Sat</td>\n",
       "      <td>Rice</td>\n",
       "      <td>21</td>\n",
       "      <td>away</td>\n",
       "      <td>Vanderbilt</td>\n",
       "      <td>38</td>\n",
       "      <td>L</td>\n",
       "    </tr>\n",
       "    <tr>\n",
       "      <th>3</th>\n",
       "      <td>Sep 20 2008</td>\n",
       "      <td>Sat</td>\n",
       "      <td>Rice</td>\n",
       "      <td>10</td>\n",
       "      <td>away</td>\n",
       "      <td>Texas</td>\n",
       "      <td>52</td>\n",
       "      <td>L</td>\n",
       "    </tr>\n",
       "    <tr>\n",
       "      <th>4</th>\n",
       "      <td>Sep 27 2008</td>\n",
       "      <td>Sat</td>\n",
       "      <td>Rice</td>\n",
       "      <td>77</td>\n",
       "      <td>home</td>\n",
       "      <td>North Texas</td>\n",
       "      <td>20</td>\n",
       "      <td>W</td>\n",
       "    </tr>\n",
       "  </tbody>\n",
       "</table>\n",
       "</div>"
      ],
      "text/plain": [
       "          Date  Day School  Pts home_away     Opponent  Opp win_lost\n",
       "0  Aug 29 2008  Fri   Rice   56      home          SMU   27        W\n",
       "1   Sep 6 2008  Sat   Rice   42      away      Memphis   35        W\n",
       "2  Sep 13 2008  Sat   Rice   21      away   Vanderbilt   38        L\n",
       "3  Sep 20 2008  Sat   Rice   10      away        Texas   52        L\n",
       "4  Sep 27 2008  Sat   Rice   77      home  North Texas   20        W"
      ]
     },
     "execution_count": 142,
     "metadata": {},
     "output_type": "execute_result"
    }
   ],
   "source": [
    "rice.head()"
   ]
  },
  {
   "cell_type": "markdown",
   "metadata": {},
   "source": [
    "## Convert Date to datetime"
   ]
  },
  {
   "cell_type": "code",
   "execution_count": 145,
   "metadata": {},
   "outputs": [
    {
     "name": "stderr",
     "output_type": "stream",
     "text": [
      "/home/salas/miniconda3/envs/springboard/lib/python3.6/site-packages/ipykernel_launcher.py:1: SettingWithCopyWarning: \n",
      "A value is trying to be set on a copy of a slice from a DataFrame.\n",
      "Try using .loc[row_indexer,col_indexer] = value instead\n",
      "\n",
      "See the caveats in the documentation: http://pandas.pydata.org/pandas-docs/stable/indexing.html#indexing-view-versus-copy\n",
      "  \"\"\"Entry point for launching an IPython kernel.\n"
     ]
    }
   ],
   "source": [
    "rice['Date'] = pd.to_datetime(rice['Date'])"
   ]
  },
  {
   "cell_type": "code",
   "execution_count": 146,
   "metadata": {},
   "outputs": [
    {
     "name": "stdout",
     "output_type": "stream",
     "text": [
      "<class 'pandas.core.frame.DataFrame'>\n",
      "RangeIndex: 125 entries, 0 to 124\n",
      "Data columns (total 8 columns):\n",
      "Date         125 non-null datetime64[ns]\n",
      "Day          125 non-null object\n",
      "School       125 non-null object\n",
      "Pts          125 non-null int64\n",
      "home_away    125 non-null object\n",
      "Opponent     125 non-null object\n",
      "Opp          125 non-null int64\n",
      "win_lost     125 non-null object\n",
      "dtypes: datetime64[ns](1), int64(2), object(5)\n",
      "memory usage: 7.9+ KB\n"
     ]
    }
   ],
   "source": [
    "rice.info()"
   ]
  },
  {
   "cell_type": "markdown",
   "metadata": {},
   "source": [
    "## Reindex dataframe by date\n",
    "\n",
    "- reindex the dataframe and sort the dates"
   ]
  },
  {
   "cell_type": "code",
   "execution_count": 147,
   "metadata": {},
   "outputs": [],
   "source": [
    "rice = rice.set_index('Date').sort_index(ascending=True)"
   ]
  },
  {
   "cell_type": "code",
   "execution_count": 148,
   "metadata": {},
   "outputs": [
    {
     "name": "stdout",
     "output_type": "stream",
     "text": [
      "<class 'pandas.core.frame.DataFrame'>\n",
      "DatetimeIndex: 125 entries, 2008-08-29 to 2017-11-25\n",
      "Data columns (total 7 columns):\n",
      "Day          125 non-null object\n",
      "School       125 non-null object\n",
      "Pts          125 non-null int64\n",
      "home_away    125 non-null object\n",
      "Opponent     125 non-null object\n",
      "Opp          125 non-null int64\n",
      "win_lost     125 non-null object\n",
      "dtypes: int64(2), object(5)\n",
      "memory usage: 7.8+ KB\n"
     ]
    }
   ],
   "source": [
    "rice.info()"
   ]
  },
  {
   "cell_type": "code",
   "execution_count": 150,
   "metadata": {},
   "outputs": [
    {
     "data": {
      "text/html": [
       "<div>\n",
       "<style scoped>\n",
       "    .dataframe tbody tr th:only-of-type {\n",
       "        vertical-align: middle;\n",
       "    }\n",
       "\n",
       "    .dataframe tbody tr th {\n",
       "        vertical-align: top;\n",
       "    }\n",
       "\n",
       "    .dataframe thead th {\n",
       "        text-align: right;\n",
       "    }\n",
       "</style>\n",
       "<table border=\"1\" class=\"dataframe\">\n",
       "  <thead>\n",
       "    <tr style=\"text-align: right;\">\n",
       "      <th></th>\n",
       "      <th>Day</th>\n",
       "      <th>School</th>\n",
       "      <th>Pts</th>\n",
       "      <th>home_away</th>\n",
       "      <th>Opponent</th>\n",
       "      <th>Opp</th>\n",
       "      <th>win_lost</th>\n",
       "    </tr>\n",
       "    <tr>\n",
       "      <th>Date</th>\n",
       "      <th></th>\n",
       "      <th></th>\n",
       "      <th></th>\n",
       "      <th></th>\n",
       "      <th></th>\n",
       "      <th></th>\n",
       "      <th></th>\n",
       "    </tr>\n",
       "  </thead>\n",
       "  <tbody>\n",
       "    <tr>\n",
       "      <th>2008-08-29</th>\n",
       "      <td>Fri</td>\n",
       "      <td>Rice</td>\n",
       "      <td>56</td>\n",
       "      <td>home</td>\n",
       "      <td>SMU</td>\n",
       "      <td>27</td>\n",
       "      <td>W</td>\n",
       "    </tr>\n",
       "    <tr>\n",
       "      <th>2008-09-06</th>\n",
       "      <td>Sat</td>\n",
       "      <td>Rice</td>\n",
       "      <td>42</td>\n",
       "      <td>away</td>\n",
       "      <td>Memphis</td>\n",
       "      <td>35</td>\n",
       "      <td>W</td>\n",
       "    </tr>\n",
       "    <tr>\n",
       "      <th>2008-09-13</th>\n",
       "      <td>Sat</td>\n",
       "      <td>Rice</td>\n",
       "      <td>21</td>\n",
       "      <td>away</td>\n",
       "      <td>Vanderbilt</td>\n",
       "      <td>38</td>\n",
       "      <td>L</td>\n",
       "    </tr>\n",
       "    <tr>\n",
       "      <th>2008-09-20</th>\n",
       "      <td>Sat</td>\n",
       "      <td>Rice</td>\n",
       "      <td>10</td>\n",
       "      <td>away</td>\n",
       "      <td>Texas</td>\n",
       "      <td>52</td>\n",
       "      <td>L</td>\n",
       "    </tr>\n",
       "    <tr>\n",
       "      <th>2008-09-27</th>\n",
       "      <td>Sat</td>\n",
       "      <td>Rice</td>\n",
       "      <td>77</td>\n",
       "      <td>home</td>\n",
       "      <td>North Texas</td>\n",
       "      <td>20</td>\n",
       "      <td>W</td>\n",
       "    </tr>\n",
       "  </tbody>\n",
       "</table>\n",
       "</div>"
      ],
      "text/plain": [
       "            Day School  Pts home_away     Opponent  Opp win_lost\n",
       "Date                                                            \n",
       "2008-08-29  Fri   Rice   56      home          SMU   27        W\n",
       "2008-09-06  Sat   Rice   42      away      Memphis   35        W\n",
       "2008-09-13  Sat   Rice   21      away   Vanderbilt   38        L\n",
       "2008-09-20  Sat   Rice   10      away        Texas   52        L\n",
       "2008-09-27  Sat   Rice   77      home  North Texas   20        W"
      ]
     },
     "execution_count": 150,
     "metadata": {},
     "output_type": "execute_result"
    }
   ],
   "source": [
    "rice.head()"
   ]
  },
  {
   "cell_type": "markdown",
   "metadata": {},
   "source": [
    "## Save clean data to  to csv"
   ]
  },
  {
   "cell_type": "code",
   "execution_count": 151,
   "metadata": {},
   "outputs": [],
   "source": [
    "rice.to_csv('clean_data/rice_08_17_clean.csv')"
   ]
  },
  {
   "cell_type": "code",
   "execution_count": 152,
   "metadata": {},
   "outputs": [
    {
     "name": "stdout",
     "output_type": "stream",
     "text": [
      "\u001b[0m\u001b[01;32mastros_08_17_clean.csv\u001b[0m*  \u001b[01;32mrice_08_17_clean.csv\u001b[0m*  \u001b[01;32muh_08_17_clean.csv\u001b[0m*\r\n"
     ]
    }
   ],
   "source": [
    "ls clean_data/"
   ]
  },
  {
   "cell_type": "code",
   "execution_count": 153,
   "metadata": {},
   "outputs": [],
   "source": [
    "## finish"
   ]
  },
  {
   "cell_type": "code",
   "execution_count": null,
   "metadata": {},
   "outputs": [],
   "source": []
  }
 ],
 "metadata": {
  "kernelspec": {
   "display_name": "Python 3",
   "language": "python",
   "name": "python3"
  },
  "language_info": {
   "codemirror_mode": {
    "name": "ipython",
    "version": 3
   },
   "file_extension": ".py",
   "mimetype": "text/x-python",
   "name": "python",
   "nbconvert_exporter": "python",
   "pygments_lexer": "ipython3",
   "version": "3.6.4"
  }
 },
 "nbformat": 4,
 "nbformat_minor": 2
}
