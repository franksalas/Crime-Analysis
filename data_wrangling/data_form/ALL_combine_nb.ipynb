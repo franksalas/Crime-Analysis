{
 "cells": [
  {
   "cell_type": "code",
   "execution_count": 1,
   "metadata": {},
   "outputs": [],
   "source": [
    "import pandas as pd\n",
    "import numpy as np\n",
    "import datetime as dt"
   ]
  },
  {
   "cell_type": "code",
   "execution_count": null,
   "metadata": {},
   "outputs": [],
   "source": [
    "ls data/sports_scores/"
   ]
  },
  {
   "cell_type": "code",
   "execution_count": null,
   "metadata": {},
   "outputs": [],
   "source": [
    "ls data/crime_beat/"
   ]
  },
  {
   "cell_type": "code",
   "execution_count": null,
   "metadata": {},
   "outputs": [],
   "source": [
    "# # Astros\n",
    "# games = 'data/sports_scores/astros_1A10.csv'\n",
    "# crime = 'data/crime_beat/crime_1A10_10_17.csv'\n",
    "# sport = 'MLB'"
   ]
  },
  {
   "cell_type": "code",
   "execution_count": null,
   "metadata": {},
   "outputs": [],
   "source": [
    "# # Dynamo\n",
    "# games = 'data/sports_scores/dynamo_10H30.csv'\n",
    "# crime = 'data/crime_beat/crime_10H30_10_17.csv'\n",
    "# sport = 'MLS'"
   ]
  },
  {
   "cell_type": "code",
   "execution_count": null,
   "metadata": {},
   "outputs": [],
   "source": [
    "# # Rice\n",
    "# games = 'data/sports_scores/Rice_10H80.csv'\n",
    "# crime = 'data/crime_beat/crime_10H80_10_17.csv'\n",
    "# sport = 'CFB'"
   ]
  },
  {
   "cell_type": "code",
   "execution_count": null,
   "metadata": {},
   "outputs": [],
   "source": [
    "# # Rockets\n",
    "# games = 'data/sports_scores/rockets_1A10.csv'\n",
    "# crime = 'data/crime_beat/crime_1A10_10_17.csv'\n",
    "# sport = 'NBA'"
   ]
  },
  {
   "cell_type": "code",
   "execution_count": null,
   "metadata": {},
   "outputs": [],
   "source": [
    "# # Texans\n",
    "# games = 'data/sports_scores/Tex_15E40.csv'\n",
    "# crime = 'data/crime_beat/crime_15E40_10_17.csv'\n",
    "# sport = 'NFL'"
   ]
  },
  {
   "cell_type": "code",
   "execution_count": 2,
   "metadata": {},
   "outputs": [],
   "source": [
    "# UH\n",
    "games = 'data/sports_scores/UH_10H50.csv'\n",
    "\n",
    "crime = 'data/crime_beat/crime_10H50_10_17.csv'\n",
    "sport = 'CFB'"
   ]
  },
  {
   "cell_type": "markdown",
   "metadata": {},
   "source": [
    "# scores df"
   ]
  },
  {
   "cell_type": "code",
   "execution_count": 5,
   "metadata": {},
   "outputs": [
    {
     "data": {
      "text/html": [
       "<div>\n",
       "<style scoped>\n",
       "    .dataframe tbody tr th:only-of-type {\n",
       "        vertical-align: middle;\n",
       "    }\n",
       "\n",
       "    .dataframe tbody tr th {\n",
       "        vertical-align: top;\n",
       "    }\n",
       "\n",
       "    .dataframe thead th {\n",
       "        text-align: right;\n",
       "    }\n",
       "</style>\n",
       "<table border=\"1\" class=\"dataframe\">\n",
       "  <thead>\n",
       "    <tr style=\"text-align: right;\">\n",
       "      <th></th>\n",
       "      <th>win</th>\n",
       "      <th>beat</th>\n",
       "    </tr>\n",
       "    <tr>\n",
       "      <th>Date</th>\n",
       "      <th></th>\n",
       "      <th></th>\n",
       "    </tr>\n",
       "  </thead>\n",
       "  <tbody>\n",
       "    <tr>\n",
       "      <th>2010-09-04</th>\n",
       "      <td>1</td>\n",
       "      <td>10H50</td>\n",
       "    </tr>\n",
       "    <tr>\n",
       "      <th>2010-09-10</th>\n",
       "      <td>1</td>\n",
       "      <td>10H50</td>\n",
       "    </tr>\n",
       "    <tr>\n",
       "      <th>2010-09-25</th>\n",
       "      <td>1</td>\n",
       "      <td>10H50</td>\n",
       "    </tr>\n",
       "    <tr>\n",
       "      <th>2010-10-09</th>\n",
       "      <td>0</td>\n",
       "      <td>10H50</td>\n",
       "    </tr>\n",
       "    <tr>\n",
       "      <th>2010-11-05</th>\n",
       "      <td>0</td>\n",
       "      <td>10H50</td>\n",
       "    </tr>\n",
       "  </tbody>\n",
       "</table>\n",
       "</div>"
      ],
      "text/plain": [
       "            win   beat\n",
       "Date                  \n",
       "2010-09-04    1  10H50\n",
       "2010-09-10    1  10H50\n",
       "2010-09-25    1  10H50\n",
       "2010-10-09    0  10H50\n",
       "2010-11-05    0  10H50"
      ]
     },
     "execution_count": 5,
     "metadata": {},
     "output_type": "execute_result"
    }
   ],
   "source": [
    "# # df = pd.read_csv(games,index_col=0,parse_dates=True).sort_index(ascending=True)\n",
    "\n",
    "\n",
    "\n",
    "# # ## win column\n",
    "# # df['win'] =  np.where(df['team_score'] > df['opp_score'],1,0)\n",
    "\n",
    "# # # only oposing name and win boolean\n",
    "# # df = df[['win','beat']]\n",
    "\n",
    "# # # bb = str(df['beat'].unique()[0])\n",
    "# # # # show\n",
    "\n",
    "# # # df.head()\n",
    "# # ## win column\n",
    "# # # df['win'] =  np.where(df['home_score'] > df['away_score'],1,0)\n",
    "\n",
    "# # # # only oposing name and win boolean\n",
    "# # # df = df[['win','beat']]\n",
    "\n",
    "# # # # show\n",
    "\n",
    "# # df.head()\n",
    "# df = pd.read_csv(games,index_col='Date').sort_index(ascending=True)\n",
    "\n",
    "# ## win column\n",
    "# df['win'] =  np.where(df['Pts'] > df['Opp'],1,0)\n",
    "\n",
    "# # only oposing name and win boolean\n",
    "# # df = df[['Opponent','win','beat']]\n",
    "# df = df[['win','beat']]\n",
    "\n",
    "# # show\n",
    "\n",
    "# # df.head()\n",
    "# df = pd.read_csv(games,index_col='Date').sort_index(ascending=True)\n",
    "\n",
    "# ## win column\n",
    "# df['win'] =  np.where(df['Team_score'] > df['Opponent_score'],1,0)\n",
    "\n",
    "# # only oposing name and win boolean\n",
    "# df = df[['win','beat']]\n",
    "\n",
    "# # show\n",
    "\n",
    "# df.head()\n",
    "\n",
    "df = pd.read_csv(games)\n",
    "\n",
    "\n",
    "# ## split date and time from column scheduled\n",
    "# s_date = pd.DatetimeIndex(df['scheduled'])\n",
    "# df['Date'] = s_date.date\n",
    "# df['time'] = s_date.time\n",
    "# del df['scheduled']\n",
    "\n",
    "# # set date as datetime and index\n",
    "# df.Date = pd.to_datetime(df.Date)\n",
    "# df = df.set_index('Date').sort_index(ascending=True)\n",
    "\n",
    "\n",
    "\n",
    "\n",
    "\n",
    "\n",
    "# ## win column\n",
    "# df['win'] =  np.where(df['scoring.home_points'] > df['scoring.away_points'],1,0)\n",
    "\n",
    "# # only oposing name and win boolean\n",
    "# df = df[['win','beat']]\n",
    "# df['beat'] = '15E40'\n",
    "# # show\n",
    "\n",
    "# df.head()\n",
    "\n",
    "df = pd.read_csv(games,index_col='Date').sort_index(ascending=True)\n",
    "\n",
    "## win column\n",
    "df['win'] =  np.where(df['Pts'] > df['Opp'],1,0)\n",
    "\n",
    "# only oposing name and win boolean\n",
    "df = df[['win','beat']]\n",
    "\n",
    "# show\n",
    "\n",
    "df.head()"
   ]
  },
  {
   "cell_type": "code",
   "execution_count": 6,
   "metadata": {},
   "outputs": [
    {
     "data": {
      "text/plain": [
       "'10H50'"
      ]
     },
     "execution_count": 6,
     "metadata": {},
     "output_type": "execute_result"
    }
   ],
   "source": [
    "bb = str(df['beat'].unique()[0])\n",
    "bb"
   ]
  },
  {
   "cell_type": "markdown",
   "metadata": {},
   "source": [
    "# Crime df"
   ]
  },
  {
   "cell_type": "code",
   "execution_count": 7,
   "metadata": {},
   "outputs": [
    {
     "data": {
      "text/html": [
       "<div>\n",
       "<style scoped>\n",
       "    .dataframe tbody tr th:only-of-type {\n",
       "        vertical-align: middle;\n",
       "    }\n",
       "\n",
       "    .dataframe tbody tr th {\n",
       "        vertical-align: top;\n",
       "    }\n",
       "\n",
       "    .dataframe thead th {\n",
       "        text-align: right;\n",
       "    }\n",
       "</style>\n",
       "<table border=\"1\" class=\"dataframe\">\n",
       "  <thead>\n",
       "    <tr style=\"text-align: right;\">\n",
       "      <th></th>\n",
       "      <th>OffenseType</th>\n",
       "    </tr>\n",
       "    <tr>\n",
       "      <th>Date_Hour</th>\n",
       "      <th></th>\n",
       "    </tr>\n",
       "  </thead>\n",
       "  <tbody>\n",
       "    <tr>\n",
       "      <th>2010-01-01</th>\n",
       "      <td>5</td>\n",
       "    </tr>\n",
       "    <tr>\n",
       "      <th>2010-01-03</th>\n",
       "      <td>1</td>\n",
       "    </tr>\n",
       "    <tr>\n",
       "      <th>2010-01-04</th>\n",
       "      <td>6</td>\n",
       "    </tr>\n",
       "    <tr>\n",
       "      <th>2010-01-05</th>\n",
       "      <td>1</td>\n",
       "    </tr>\n",
       "    <tr>\n",
       "      <th>2010-01-06</th>\n",
       "      <td>2</td>\n",
       "    </tr>\n",
       "  </tbody>\n",
       "</table>\n",
       "</div>"
      ],
      "text/plain": [
       "            OffenseType\n",
       "Date_Hour              \n",
       "2010-01-01            5\n",
       "2010-01-03            1\n",
       "2010-01-04            6\n",
       "2010-01-05            1\n",
       "2010-01-06            2"
      ]
     },
     "execution_count": 7,
     "metadata": {},
     "output_type": "execute_result"
    }
   ],
   "source": [
    "crime_df = pd.read_csv(crime).sort_index(ascending=True)\n",
    "\n",
    "crime_df['Date_Hour'] = pd.to_datetime(crime_df['Date_Hour'])\n",
    "crime_df['Date_Hour'] = crime_df['Date_Hour'].dt.date\n",
    "\n",
    "crime_df = crime_df.set_index('Date_Hour')\n",
    "\n",
    "\n",
    "# # selectd columns\n",
    "crime_df = crime_df[['OffenseType']]\n",
    "\n",
    "# count Offense type given date\n",
    "date_crimes = crime_df.groupby(crime_df.index)['OffenseType',].count()\n",
    "\n",
    "## show\n",
    "date_crimes.head()"
   ]
  },
  {
   "cell_type": "markdown",
   "metadata": {},
   "source": [
    "# Days Df\n",
    "- create a df with everyday timestamp from Jan 2010 to Dec 2017"
   ]
  },
  {
   "cell_type": "code",
   "execution_count": 8,
   "metadata": {},
   "outputs": [
    {
     "data": {
      "text/html": [
       "<div>\n",
       "<style scoped>\n",
       "    .dataframe tbody tr th:only-of-type {\n",
       "        vertical-align: middle;\n",
       "    }\n",
       "\n",
       "    .dataframe tbody tr th {\n",
       "        vertical-align: top;\n",
       "    }\n",
       "\n",
       "    .dataframe thead th {\n",
       "        text-align: right;\n",
       "    }\n",
       "</style>\n",
       "<table border=\"1\" class=\"dataframe\">\n",
       "  <thead>\n",
       "    <tr style=\"text-align: right;\">\n",
       "      <th></th>\n",
       "    </tr>\n",
       "    <tr>\n",
       "      <th>days</th>\n",
       "    </tr>\n",
       "  </thead>\n",
       "  <tbody>\n",
       "    <tr>\n",
       "      <th>2010-01-01</th>\n",
       "    </tr>\n",
       "    <tr>\n",
       "      <th>2010-01-02</th>\n",
       "    </tr>\n",
       "    <tr>\n",
       "      <th>2010-01-03</th>\n",
       "    </tr>\n",
       "    <tr>\n",
       "      <th>2010-01-04</th>\n",
       "    </tr>\n",
       "    <tr>\n",
       "      <th>2010-01-05</th>\n",
       "    </tr>\n",
       "  </tbody>\n",
       "</table>\n",
       "</div>"
      ],
      "text/plain": [
       "Empty DataFrame\n",
       "Columns: []\n",
       "Index: [2010-01-01 00:00:00, 2010-01-02 00:00:00, 2010-01-03 00:00:00, 2010-01-04 00:00:00, 2010-01-05 00:00:00]"
      ]
     },
     "execution_count": 8,
     "metadata": {},
     "output_type": "execute_result"
    }
   ],
   "source": [
    "days = pd.date_range(start='01/01/2010', end='12/31/2017')\n",
    "days = pd.DataFrame(days)\n",
    "\n",
    "days.columns = ['days']\n",
    "days = days.set_index('days').sort_index(ascending=True)\n",
    "days.head()"
   ]
  },
  {
   "cell_type": "markdown",
   "metadata": {},
   "source": [
    "# Merge days df with crimes_df"
   ]
  },
  {
   "cell_type": "code",
   "execution_count": 9,
   "metadata": {},
   "outputs": [
    {
     "data": {
      "text/html": [
       "<div>\n",
       "<style scoped>\n",
       "    .dataframe tbody tr th:only-of-type {\n",
       "        vertical-align: middle;\n",
       "    }\n",
       "\n",
       "    .dataframe tbody tr th {\n",
       "        vertical-align: top;\n",
       "    }\n",
       "\n",
       "    .dataframe thead th {\n",
       "        text-align: right;\n",
       "    }\n",
       "</style>\n",
       "<table border=\"1\" class=\"dataframe\">\n",
       "  <thead>\n",
       "    <tr style=\"text-align: right;\">\n",
       "      <th></th>\n",
       "      <th>OffenseType</th>\n",
       "    </tr>\n",
       "    <tr>\n",
       "      <th>days</th>\n",
       "      <th></th>\n",
       "    </tr>\n",
       "  </thead>\n",
       "  <tbody>\n",
       "    <tr>\n",
       "      <th>2010-01-01</th>\n",
       "      <td>5.0</td>\n",
       "    </tr>\n",
       "    <tr>\n",
       "      <th>2010-01-02</th>\n",
       "      <td>NaN</td>\n",
       "    </tr>\n",
       "    <tr>\n",
       "      <th>2010-01-03</th>\n",
       "      <td>1.0</td>\n",
       "    </tr>\n",
       "    <tr>\n",
       "      <th>2010-01-04</th>\n",
       "      <td>6.0</td>\n",
       "    </tr>\n",
       "    <tr>\n",
       "      <th>2010-01-05</th>\n",
       "      <td>1.0</td>\n",
       "    </tr>\n",
       "  </tbody>\n",
       "</table>\n",
       "</div>"
      ],
      "text/plain": [
       "            OffenseType\n",
       "days                   \n",
       "2010-01-01          5.0\n",
       "2010-01-02          NaN\n",
       "2010-01-03          1.0\n",
       "2010-01-04          6.0\n",
       "2010-01-05          1.0"
      ]
     },
     "execution_count": 9,
     "metadata": {},
     "output_type": "execute_result"
    }
   ],
   "source": [
    "calendar_crimes = pd.merge(days,date_crimes,  left_index=True, right_index=True, how='left')\n",
    "calendar_crimes.head()"
   ]
  },
  {
   "cell_type": "code",
   "execution_count": 10,
   "metadata": {},
   "outputs": [
    {
     "name": "stdout",
     "output_type": "stream",
     "text": [
      "<class 'pandas.core.frame.DataFrame'>\n",
      "DatetimeIndex: 2922 entries, 2010-01-01 to 2017-12-31\n",
      "Data columns (total 1 columns):\n",
      "OffenseType    2714 non-null float64\n",
      "dtypes: float64(1)\n",
      "memory usage: 125.7 KB\n"
     ]
    }
   ],
   "source": [
    "calendar_crimes.info()"
   ]
  },
  {
   "cell_type": "code",
   "execution_count": 11,
   "metadata": {},
   "outputs": [
    {
     "data": {
      "text/plain": [
       " 2.0     707\n",
       " 3.0     598\n",
       " 1.0     551\n",
       " 4.0     416\n",
       " 5.0     224\n",
       "NaN      208\n",
       " 6.0     129\n",
       " 7.0      46\n",
       " 8.0      28\n",
       " 9.0       7\n",
       " 12.0      3\n",
       " 10.0      3\n",
       "Name: OffenseType, dtype: int64"
      ]
     },
     "execution_count": 11,
     "metadata": {},
     "output_type": "execute_result"
    }
   ],
   "source": [
    "calendar_crimes.OffenseType.value_counts(dropna=False)[:10]"
   ]
  },
  {
   "cell_type": "markdown",
   "metadata": {},
   "source": [
    "## Change nans with 0"
   ]
  },
  {
   "cell_type": "code",
   "execution_count": 12,
   "metadata": {},
   "outputs": [],
   "source": [
    "calendar_crimes.OffenseType.replace( np.nan,0, inplace=True)"
   ]
  },
  {
   "cell_type": "code",
   "execution_count": 13,
   "metadata": {},
   "outputs": [
    {
     "data": {
      "text/plain": [
       "2.0     707\n",
       "3.0     598\n",
       "1.0     551\n",
       "4.0     416\n",
       "5.0     224\n",
       "0.0     208\n",
       "6.0     129\n",
       "7.0      46\n",
       "8.0      28\n",
       "9.0       7\n",
       "12.0      3\n",
       "10.0      3\n",
       "Name: OffenseType, dtype: int64"
      ]
     },
     "execution_count": 13,
     "metadata": {},
     "output_type": "execute_result"
    }
   ],
   "source": [
    "calendar_crimes.OffenseType.value_counts(dropna=False)[:10]"
   ]
  },
  {
   "cell_type": "code",
   "execution_count": 14,
   "metadata": {},
   "outputs": [
    {
     "data": {
      "text/html": [
       "<div>\n",
       "<style scoped>\n",
       "    .dataframe tbody tr th:only-of-type {\n",
       "        vertical-align: middle;\n",
       "    }\n",
       "\n",
       "    .dataframe tbody tr th {\n",
       "        vertical-align: top;\n",
       "    }\n",
       "\n",
       "    .dataframe thead th {\n",
       "        text-align: right;\n",
       "    }\n",
       "</style>\n",
       "<table border=\"1\" class=\"dataframe\">\n",
       "  <thead>\n",
       "    <tr style=\"text-align: right;\">\n",
       "      <th></th>\n",
       "      <th>OffenseType</th>\n",
       "    </tr>\n",
       "    <tr>\n",
       "      <th>days</th>\n",
       "      <th></th>\n",
       "    </tr>\n",
       "  </thead>\n",
       "  <tbody>\n",
       "    <tr>\n",
       "      <th>2010-01-01</th>\n",
       "      <td>5.0</td>\n",
       "    </tr>\n",
       "    <tr>\n",
       "      <th>2010-01-02</th>\n",
       "      <td>0.0</td>\n",
       "    </tr>\n",
       "    <tr>\n",
       "      <th>2010-01-03</th>\n",
       "      <td>1.0</td>\n",
       "    </tr>\n",
       "    <tr>\n",
       "      <th>2010-01-04</th>\n",
       "      <td>6.0</td>\n",
       "    </tr>\n",
       "    <tr>\n",
       "      <th>2010-01-05</th>\n",
       "      <td>1.0</td>\n",
       "    </tr>\n",
       "  </tbody>\n",
       "</table>\n",
       "</div>"
      ],
      "text/plain": [
       "            OffenseType\n",
       "days                   \n",
       "2010-01-01          5.0\n",
       "2010-01-02          0.0\n",
       "2010-01-03          1.0\n",
       "2010-01-04          6.0\n",
       "2010-01-05          1.0"
      ]
     },
     "execution_count": 14,
     "metadata": {},
     "output_type": "execute_result"
    }
   ],
   "source": [
    "calendar_crimes.head()"
   ]
  },
  {
   "cell_type": "markdown",
   "metadata": {},
   "source": [
    "# merge calendar_crimes with score"
   ]
  },
  {
   "cell_type": "code",
   "execution_count": 15,
   "metadata": {},
   "outputs": [],
   "source": [
    "merge_data = pd.merge(calendar_crimes,df,  left_index=True, right_index=True, how='left')\n",
    "merge_data.index.rename('days', inplace=True)"
   ]
  },
  {
   "cell_type": "code",
   "execution_count": 16,
   "metadata": {},
   "outputs": [
    {
     "data": {
      "text/html": [
       "<div>\n",
       "<style scoped>\n",
       "    .dataframe tbody tr th:only-of-type {\n",
       "        vertical-align: middle;\n",
       "    }\n",
       "\n",
       "    .dataframe tbody tr th {\n",
       "        vertical-align: top;\n",
       "    }\n",
       "\n",
       "    .dataframe thead th {\n",
       "        text-align: right;\n",
       "    }\n",
       "</style>\n",
       "<table border=\"1\" class=\"dataframe\">\n",
       "  <thead>\n",
       "    <tr style=\"text-align: right;\">\n",
       "      <th></th>\n",
       "      <th>OffenseType</th>\n",
       "      <th>win</th>\n",
       "      <th>beat</th>\n",
       "    </tr>\n",
       "    <tr>\n",
       "      <th>days</th>\n",
       "      <th></th>\n",
       "      <th></th>\n",
       "      <th></th>\n",
       "    </tr>\n",
       "  </thead>\n",
       "  <tbody>\n",
       "    <tr>\n",
       "      <th>2010-01-01</th>\n",
       "      <td>5.0</td>\n",
       "      <td>NaN</td>\n",
       "      <td>NaN</td>\n",
       "    </tr>\n",
       "    <tr>\n",
       "      <th>2010-01-02</th>\n",
       "      <td>0.0</td>\n",
       "      <td>NaN</td>\n",
       "      <td>NaN</td>\n",
       "    </tr>\n",
       "    <tr>\n",
       "      <th>2010-01-03</th>\n",
       "      <td>1.0</td>\n",
       "      <td>NaN</td>\n",
       "      <td>NaN</td>\n",
       "    </tr>\n",
       "    <tr>\n",
       "      <th>2010-01-04</th>\n",
       "      <td>6.0</td>\n",
       "      <td>NaN</td>\n",
       "      <td>NaN</td>\n",
       "    </tr>\n",
       "    <tr>\n",
       "      <th>2010-01-05</th>\n",
       "      <td>1.0</td>\n",
       "      <td>NaN</td>\n",
       "      <td>NaN</td>\n",
       "    </tr>\n",
       "  </tbody>\n",
       "</table>\n",
       "</div>"
      ],
      "text/plain": [
       "            OffenseType  win beat\n",
       "days                             \n",
       "2010-01-01          5.0  NaN  NaN\n",
       "2010-01-02          0.0  NaN  NaN\n",
       "2010-01-03          1.0  NaN  NaN\n",
       "2010-01-04          6.0  NaN  NaN\n",
       "2010-01-05          1.0  NaN  NaN"
      ]
     },
     "execution_count": 16,
     "metadata": {},
     "output_type": "execute_result"
    }
   ],
   "source": [
    "merge_data.head()"
   ]
  },
  {
   "cell_type": "markdown",
   "metadata": {},
   "source": [
    "## Change nan value on beat to beat value"
   ]
  },
  {
   "cell_type": "code",
   "execution_count": 17,
   "metadata": {},
   "outputs": [
    {
     "data": {
      "text/plain": [
       "NaN      2873\n",
       "10H50      49\n",
       "Name: beat, dtype: int64"
      ]
     },
     "execution_count": 17,
     "metadata": {},
     "output_type": "execute_result"
    }
   ],
   "source": [
    "merge_data.beat.value_counts(dropna=False)"
   ]
  },
  {
   "cell_type": "code",
   "execution_count": 18,
   "metadata": {},
   "outputs": [],
   "source": [
    "merge_data.beat.replace( np.nan,bb, inplace=True)"
   ]
  },
  {
   "cell_type": "code",
   "execution_count": 19,
   "metadata": {},
   "outputs": [
    {
     "data": {
      "text/plain": [
       "10H50    2922\n",
       "Name: beat, dtype: int64"
      ]
     },
     "execution_count": 19,
     "metadata": {},
     "output_type": "execute_result"
    }
   ],
   "source": [
    "merge_data.beat.value_counts(dropna=False)"
   ]
  },
  {
   "cell_type": "markdown",
   "metadata": {},
   "source": [
    "## Cleanup colums"
   ]
  },
  {
   "cell_type": "code",
   "execution_count": 20,
   "metadata": {},
   "outputs": [],
   "source": [
    "merge_data.columns  = ['crime', 'win','beat']"
   ]
  },
  {
   "cell_type": "code",
   "execution_count": 21,
   "metadata": {},
   "outputs": [
    {
     "data": {
      "text/html": [
       "<div>\n",
       "<style scoped>\n",
       "    .dataframe tbody tr th:only-of-type {\n",
       "        vertical-align: middle;\n",
       "    }\n",
       "\n",
       "    .dataframe tbody tr th {\n",
       "        vertical-align: top;\n",
       "    }\n",
       "\n",
       "    .dataframe thead th {\n",
       "        text-align: right;\n",
       "    }\n",
       "</style>\n",
       "<table border=\"1\" class=\"dataframe\">\n",
       "  <thead>\n",
       "    <tr style=\"text-align: right;\">\n",
       "      <th></th>\n",
       "      <th>crime</th>\n",
       "      <th>win</th>\n",
       "      <th>beat</th>\n",
       "    </tr>\n",
       "    <tr>\n",
       "      <th>days</th>\n",
       "      <th></th>\n",
       "      <th></th>\n",
       "      <th></th>\n",
       "    </tr>\n",
       "  </thead>\n",
       "  <tbody>\n",
       "    <tr>\n",
       "      <th>2010-01-01</th>\n",
       "      <td>5.0</td>\n",
       "      <td>NaN</td>\n",
       "      <td>10H50</td>\n",
       "    </tr>\n",
       "    <tr>\n",
       "      <th>2010-01-02</th>\n",
       "      <td>0.0</td>\n",
       "      <td>NaN</td>\n",
       "      <td>10H50</td>\n",
       "    </tr>\n",
       "    <tr>\n",
       "      <th>2010-01-03</th>\n",
       "      <td>1.0</td>\n",
       "      <td>NaN</td>\n",
       "      <td>10H50</td>\n",
       "    </tr>\n",
       "    <tr>\n",
       "      <th>2010-01-04</th>\n",
       "      <td>6.0</td>\n",
       "      <td>NaN</td>\n",
       "      <td>10H50</td>\n",
       "    </tr>\n",
       "    <tr>\n",
       "      <th>2010-01-05</th>\n",
       "      <td>1.0</td>\n",
       "      <td>NaN</td>\n",
       "      <td>10H50</td>\n",
       "    </tr>\n",
       "  </tbody>\n",
       "</table>\n",
       "</div>"
      ],
      "text/plain": [
       "            crime  win   beat\n",
       "days                         \n",
       "2010-01-01    5.0  NaN  10H50\n",
       "2010-01-02    0.0  NaN  10H50\n",
       "2010-01-03    1.0  NaN  10H50\n",
       "2010-01-04    6.0  NaN  10H50\n",
       "2010-01-05    1.0  NaN  10H50"
      ]
     },
     "execution_count": 21,
     "metadata": {},
     "output_type": "execute_result"
    }
   ],
   "source": [
    "merge_data.head()"
   ]
  },
  {
   "cell_type": "code",
   "execution_count": 22,
   "metadata": {},
   "outputs": [
    {
     "name": "stdout",
     "output_type": "stream",
     "text": [
      "<class 'pandas.core.frame.DataFrame'>\n",
      "DatetimeIndex: 2922 entries, 2010-01-01 to 2017-12-31\n",
      "Data columns (total 3 columns):\n",
      "crime    2922 non-null float64\n",
      "win      49 non-null float64\n",
      "beat     2922 non-null object\n",
      "dtypes: float64(2), object(1)\n",
      "memory usage: 171.3+ KB\n"
     ]
    }
   ],
   "source": [
    "merge_data.info()"
   ]
  },
  {
   "cell_type": "code",
   "execution_count": 23,
   "metadata": {},
   "outputs": [
    {
     "data": {
      "text/plain": [
       "2.0     707\n",
       "3.0     598\n",
       "1.0     551\n",
       "4.0     416\n",
       "5.0     224\n",
       "0.0     208\n",
       "6.0     129\n",
       "7.0      46\n",
       "8.0      28\n",
       "9.0       7\n",
       "12.0      3\n",
       "10.0      3\n",
       "Name: crime, dtype: int64"
      ]
     },
     "execution_count": 23,
     "metadata": {},
     "output_type": "execute_result"
    }
   ],
   "source": [
    "merge_data.crime.value_counts(dropna=False)[:10]"
   ]
  },
  {
   "cell_type": "code",
   "execution_count": 24,
   "metadata": {},
   "outputs": [],
   "source": [
    "merge_data.crime = merge_data.crime.astype(int)"
   ]
  },
  {
   "cell_type": "code",
   "execution_count": 25,
   "metadata": {},
   "outputs": [
    {
     "data": {
      "text/plain": [
       "2    707\n",
       "3    598\n",
       "1    551\n",
       "4    416\n",
       "5    224\n",
       "0    208\n",
       "6    129\n",
       "7     46\n",
       "8     28\n",
       "9      7\n",
       "Name: crime, dtype: int64"
      ]
     },
     "execution_count": 25,
     "metadata": {},
     "output_type": "execute_result"
    }
   ],
   "source": [
    "merge_data.crime.value_counts(dropna=False)[:10]"
   ]
  },
  {
   "cell_type": "code",
   "execution_count": 26,
   "metadata": {},
   "outputs": [
    {
     "data": {
      "text/html": [
       "<div>\n",
       "<style scoped>\n",
       "    .dataframe tbody tr th:only-of-type {\n",
       "        vertical-align: middle;\n",
       "    }\n",
       "\n",
       "    .dataframe tbody tr th {\n",
       "        vertical-align: top;\n",
       "    }\n",
       "\n",
       "    .dataframe thead th {\n",
       "        text-align: right;\n",
       "    }\n",
       "</style>\n",
       "<table border=\"1\" class=\"dataframe\">\n",
       "  <thead>\n",
       "    <tr style=\"text-align: right;\">\n",
       "      <th></th>\n",
       "      <th>crime</th>\n",
       "      <th>win</th>\n",
       "      <th>beat</th>\n",
       "    </tr>\n",
       "    <tr>\n",
       "      <th>days</th>\n",
       "      <th></th>\n",
       "      <th></th>\n",
       "      <th></th>\n",
       "    </tr>\n",
       "  </thead>\n",
       "  <tbody>\n",
       "    <tr>\n",
       "      <th>2010-01-01</th>\n",
       "      <td>5</td>\n",
       "      <td>NaN</td>\n",
       "      <td>10H50</td>\n",
       "    </tr>\n",
       "    <tr>\n",
       "      <th>2010-01-02</th>\n",
       "      <td>0</td>\n",
       "      <td>NaN</td>\n",
       "      <td>10H50</td>\n",
       "    </tr>\n",
       "    <tr>\n",
       "      <th>2010-01-03</th>\n",
       "      <td>1</td>\n",
       "      <td>NaN</td>\n",
       "      <td>10H50</td>\n",
       "    </tr>\n",
       "    <tr>\n",
       "      <th>2010-01-04</th>\n",
       "      <td>6</td>\n",
       "      <td>NaN</td>\n",
       "      <td>10H50</td>\n",
       "    </tr>\n",
       "    <tr>\n",
       "      <th>2010-01-05</th>\n",
       "      <td>1</td>\n",
       "      <td>NaN</td>\n",
       "      <td>10H50</td>\n",
       "    </tr>\n",
       "  </tbody>\n",
       "</table>\n",
       "</div>"
      ],
      "text/plain": [
       "            crime  win   beat\n",
       "days                         \n",
       "2010-01-01      5  NaN  10H50\n",
       "2010-01-02      0  NaN  10H50\n",
       "2010-01-03      1  NaN  10H50\n",
       "2010-01-04      6  NaN  10H50\n",
       "2010-01-05      1  NaN  10H50"
      ]
     },
     "execution_count": 26,
     "metadata": {},
     "output_type": "execute_result"
    }
   ],
   "source": [
    "merge_data.head()"
   ]
  },
  {
   "cell_type": "code",
   "execution_count": 27,
   "metadata": {},
   "outputs": [
    {
     "name": "stdout",
     "output_type": "stream",
     "text": [
      "<class 'pandas.core.frame.DataFrame'>\n",
      "DatetimeIndex: 2922 entries, 2010-01-01 to 2017-12-31\n",
      "Data columns (total 3 columns):\n",
      "crime    2922 non-null int64\n",
      "win      49 non-null float64\n",
      "beat     2922 non-null object\n",
      "dtypes: float64(1), int64(1), object(1)\n",
      "memory usage: 171.3+ KB\n"
     ]
    }
   ],
   "source": [
    "merge_data.info()"
   ]
  },
  {
   "cell_type": "markdown",
   "metadata": {},
   "source": [
    "# Display non-nans"
   ]
  },
  {
   "cell_type": "code",
   "execution_count": 28,
   "metadata": {},
   "outputs": [],
   "source": [
    "#merge_data.dropna(subset=['win'])"
   ]
  },
  {
   "cell_type": "markdown",
   "metadata": {},
   "source": [
    "## Add sport col"
   ]
  },
  {
   "cell_type": "code",
   "execution_count": 29,
   "metadata": {},
   "outputs": [],
   "source": [
    "merge_data['sport'] = sport"
   ]
  },
  {
   "cell_type": "code",
   "execution_count": 30,
   "metadata": {},
   "outputs": [
    {
     "data": {
      "text/html": [
       "<div>\n",
       "<style scoped>\n",
       "    .dataframe tbody tr th:only-of-type {\n",
       "        vertical-align: middle;\n",
       "    }\n",
       "\n",
       "    .dataframe tbody tr th {\n",
       "        vertical-align: top;\n",
       "    }\n",
       "\n",
       "    .dataframe thead th {\n",
       "        text-align: right;\n",
       "    }\n",
       "</style>\n",
       "<table border=\"1\" class=\"dataframe\">\n",
       "  <thead>\n",
       "    <tr style=\"text-align: right;\">\n",
       "      <th></th>\n",
       "      <th>crime</th>\n",
       "      <th>win</th>\n",
       "      <th>beat</th>\n",
       "      <th>sport</th>\n",
       "    </tr>\n",
       "    <tr>\n",
       "      <th>days</th>\n",
       "      <th></th>\n",
       "      <th></th>\n",
       "      <th></th>\n",
       "      <th></th>\n",
       "    </tr>\n",
       "  </thead>\n",
       "  <tbody>\n",
       "    <tr>\n",
       "      <th>2010-01-01</th>\n",
       "      <td>5</td>\n",
       "      <td>NaN</td>\n",
       "      <td>10H50</td>\n",
       "      <td>CFB</td>\n",
       "    </tr>\n",
       "    <tr>\n",
       "      <th>2010-01-02</th>\n",
       "      <td>0</td>\n",
       "      <td>NaN</td>\n",
       "      <td>10H50</td>\n",
       "      <td>CFB</td>\n",
       "    </tr>\n",
       "    <tr>\n",
       "      <th>2010-01-03</th>\n",
       "      <td>1</td>\n",
       "      <td>NaN</td>\n",
       "      <td>10H50</td>\n",
       "      <td>CFB</td>\n",
       "    </tr>\n",
       "    <tr>\n",
       "      <th>2010-01-04</th>\n",
       "      <td>6</td>\n",
       "      <td>NaN</td>\n",
       "      <td>10H50</td>\n",
       "      <td>CFB</td>\n",
       "    </tr>\n",
       "    <tr>\n",
       "      <th>2010-01-05</th>\n",
       "      <td>1</td>\n",
       "      <td>NaN</td>\n",
       "      <td>10H50</td>\n",
       "      <td>CFB</td>\n",
       "    </tr>\n",
       "  </tbody>\n",
       "</table>\n",
       "</div>"
      ],
      "text/plain": [
       "            crime  win   beat sport\n",
       "days                               \n",
       "2010-01-01      5  NaN  10H50   CFB\n",
       "2010-01-02      0  NaN  10H50   CFB\n",
       "2010-01-03      1  NaN  10H50   CFB\n",
       "2010-01-04      6  NaN  10H50   CFB\n",
       "2010-01-05      1  NaN  10H50   CFB"
      ]
     },
     "execution_count": 30,
     "metadata": {},
     "output_type": "execute_result"
    }
   ],
   "source": [
    "merge_data.head()"
   ]
  },
  {
   "cell_type": "code",
   "execution_count": 31,
   "metadata": {},
   "outputs": [],
   "source": [
    "#merge_data = merge_data[['crime','won','beat', 'sport']]"
   ]
  },
  {
   "cell_type": "code",
   "execution_count": null,
   "metadata": {},
   "outputs": [],
   "source": []
  },
  {
   "cell_type": "code",
   "execution_count": 32,
   "metadata": {},
   "outputs": [],
   "source": [
    "def game_feature(df,*args):\n",
    "    if df.win == 1:\n",
    "        val = 'Won_{}'.format(sport)\n",
    "    elif df.win == 0:\n",
    "        val = 'Lost_{}'.format(sport)\n",
    "    else:\n",
    "        val = 'None_{}'.format(sport)\n",
    "    return val\n",
    "\n",
    "merge_data['game'] = merge_data.apply(game_feature,args=(sport,),axis=1)"
   ]
  },
  {
   "cell_type": "code",
   "execution_count": 33,
   "metadata": {},
   "outputs": [
    {
     "data": {
      "text/html": [
       "<div>\n",
       "<style scoped>\n",
       "    .dataframe tbody tr th:only-of-type {\n",
       "        vertical-align: middle;\n",
       "    }\n",
       "\n",
       "    .dataframe tbody tr th {\n",
       "        vertical-align: top;\n",
       "    }\n",
       "\n",
       "    .dataframe thead th {\n",
       "        text-align: right;\n",
       "    }\n",
       "</style>\n",
       "<table border=\"1\" class=\"dataframe\">\n",
       "  <thead>\n",
       "    <tr style=\"text-align: right;\">\n",
       "      <th></th>\n",
       "      <th>crime</th>\n",
       "      <th>win</th>\n",
       "      <th>beat</th>\n",
       "      <th>sport</th>\n",
       "      <th>game</th>\n",
       "    </tr>\n",
       "    <tr>\n",
       "      <th>days</th>\n",
       "      <th></th>\n",
       "      <th></th>\n",
       "      <th></th>\n",
       "      <th></th>\n",
       "      <th></th>\n",
       "    </tr>\n",
       "  </thead>\n",
       "  <tbody>\n",
       "    <tr>\n",
       "      <th>2010-01-01</th>\n",
       "      <td>5</td>\n",
       "      <td>NaN</td>\n",
       "      <td>10H50</td>\n",
       "      <td>CFB</td>\n",
       "      <td>None_CFB</td>\n",
       "    </tr>\n",
       "    <tr>\n",
       "      <th>2010-01-02</th>\n",
       "      <td>0</td>\n",
       "      <td>NaN</td>\n",
       "      <td>10H50</td>\n",
       "      <td>CFB</td>\n",
       "      <td>None_CFB</td>\n",
       "    </tr>\n",
       "    <tr>\n",
       "      <th>2010-01-03</th>\n",
       "      <td>1</td>\n",
       "      <td>NaN</td>\n",
       "      <td>10H50</td>\n",
       "      <td>CFB</td>\n",
       "      <td>None_CFB</td>\n",
       "    </tr>\n",
       "    <tr>\n",
       "      <th>2010-01-04</th>\n",
       "      <td>6</td>\n",
       "      <td>NaN</td>\n",
       "      <td>10H50</td>\n",
       "      <td>CFB</td>\n",
       "      <td>None_CFB</td>\n",
       "    </tr>\n",
       "    <tr>\n",
       "      <th>2010-01-05</th>\n",
       "      <td>1</td>\n",
       "      <td>NaN</td>\n",
       "      <td>10H50</td>\n",
       "      <td>CFB</td>\n",
       "      <td>None_CFB</td>\n",
       "    </tr>\n",
       "  </tbody>\n",
       "</table>\n",
       "</div>"
      ],
      "text/plain": [
       "            crime  win   beat sport      game\n",
       "days                                         \n",
       "2010-01-01      5  NaN  10H50   CFB  None_CFB\n",
       "2010-01-02      0  NaN  10H50   CFB  None_CFB\n",
       "2010-01-03      1  NaN  10H50   CFB  None_CFB\n",
       "2010-01-04      6  NaN  10H50   CFB  None_CFB\n",
       "2010-01-05      1  NaN  10H50   CFB  None_CFB"
      ]
     },
     "execution_count": 33,
     "metadata": {},
     "output_type": "execute_result"
    }
   ],
   "source": [
    "merge_data.head()"
   ]
  },
  {
   "cell_type": "code",
   "execution_count": 34,
   "metadata": {},
   "outputs": [
    {
     "data": {
      "text/plain": [
       "NaN     2873\n",
       " 1.0      37\n",
       " 0.0      12\n",
       "Name: win, dtype: int64"
      ]
     },
     "execution_count": 34,
     "metadata": {},
     "output_type": "execute_result"
    }
   ],
   "source": [
    "merge_data.win.value_counts(dropna=False)"
   ]
  },
  {
   "cell_type": "code",
   "execution_count": 35,
   "metadata": {},
   "outputs": [
    {
     "data": {
      "text/plain": [
       "None_CFB    2873\n",
       "Won_CFB       37\n",
       "Lost_CFB      12\n",
       "Name: game, dtype: int64"
      ]
     },
     "execution_count": 35,
     "metadata": {},
     "output_type": "execute_result"
    }
   ],
   "source": [
    "merge_data.game.value_counts(dropna=False)"
   ]
  },
  {
   "cell_type": "code",
   "execution_count": 36,
   "metadata": {},
   "outputs": [],
   "source": [
    "merge_data = merge_data[['crime','beat','sport','game']]"
   ]
  },
  {
   "cell_type": "code",
   "execution_count": 37,
   "metadata": {},
   "outputs": [],
   "source": [
    "#merge_data.to_csv('data/final/redo_Astros1017_final.csv')"
   ]
  },
  {
   "cell_type": "code",
   "execution_count": 38,
   "metadata": {},
   "outputs": [],
   "source": [
    "merge_data.head()\n",
    "merge_data.columns = ['crime','beat','sports','game']"
   ]
  },
  {
   "cell_type": "code",
   "execution_count": 39,
   "metadata": {},
   "outputs": [
    {
     "data": {
      "text/html": [
       "<div>\n",
       "<style scoped>\n",
       "    .dataframe tbody tr th:only-of-type {\n",
       "        vertical-align: middle;\n",
       "    }\n",
       "\n",
       "    .dataframe tbody tr th {\n",
       "        vertical-align: top;\n",
       "    }\n",
       "\n",
       "    .dataframe thead th {\n",
       "        text-align: right;\n",
       "    }\n",
       "</style>\n",
       "<table border=\"1\" class=\"dataframe\">\n",
       "  <thead>\n",
       "    <tr style=\"text-align: right;\">\n",
       "      <th></th>\n",
       "      <th>crime</th>\n",
       "      <th>beat</th>\n",
       "      <th>sports</th>\n",
       "      <th>game</th>\n",
       "    </tr>\n",
       "    <tr>\n",
       "      <th>days</th>\n",
       "      <th></th>\n",
       "      <th></th>\n",
       "      <th></th>\n",
       "      <th></th>\n",
       "    </tr>\n",
       "  </thead>\n",
       "  <tbody>\n",
       "    <tr>\n",
       "      <th>2010-01-01</th>\n",
       "      <td>5</td>\n",
       "      <td>10H50</td>\n",
       "      <td>CFB</td>\n",
       "      <td>None_CFB</td>\n",
       "    </tr>\n",
       "    <tr>\n",
       "      <th>2010-01-02</th>\n",
       "      <td>0</td>\n",
       "      <td>10H50</td>\n",
       "      <td>CFB</td>\n",
       "      <td>None_CFB</td>\n",
       "    </tr>\n",
       "    <tr>\n",
       "      <th>2010-01-03</th>\n",
       "      <td>1</td>\n",
       "      <td>10H50</td>\n",
       "      <td>CFB</td>\n",
       "      <td>None_CFB</td>\n",
       "    </tr>\n",
       "    <tr>\n",
       "      <th>2010-01-04</th>\n",
       "      <td>6</td>\n",
       "      <td>10H50</td>\n",
       "      <td>CFB</td>\n",
       "      <td>None_CFB</td>\n",
       "    </tr>\n",
       "    <tr>\n",
       "      <th>2010-01-05</th>\n",
       "      <td>1</td>\n",
       "      <td>10H50</td>\n",
       "      <td>CFB</td>\n",
       "      <td>None_CFB</td>\n",
       "    </tr>\n",
       "  </tbody>\n",
       "</table>\n",
       "</div>"
      ],
      "text/plain": [
       "            crime   beat sports      game\n",
       "days                                     \n",
       "2010-01-01      5  10H50    CFB  None_CFB\n",
       "2010-01-02      0  10H50    CFB  None_CFB\n",
       "2010-01-03      1  10H50    CFB  None_CFB\n",
       "2010-01-04      6  10H50    CFB  None_CFB\n",
       "2010-01-05      1  10H50    CFB  None_CFB"
      ]
     },
     "execution_count": 39,
     "metadata": {},
     "output_type": "execute_result"
    }
   ],
   "source": [
    "merge_data.head()"
   ]
  },
  {
   "cell_type": "code",
   "execution_count": 40,
   "metadata": {},
   "outputs": [
    {
     "data": {
      "text/html": [
       "<div>\n",
       "<style scoped>\n",
       "    .dataframe tbody tr th:only-of-type {\n",
       "        vertical-align: middle;\n",
       "    }\n",
       "\n",
       "    .dataframe tbody tr th {\n",
       "        vertical-align: top;\n",
       "    }\n",
       "\n",
       "    .dataframe thead th {\n",
       "        text-align: right;\n",
       "    }\n",
       "</style>\n",
       "<table border=\"1\" class=\"dataframe\">\n",
       "  <thead>\n",
       "    <tr style=\"text-align: right;\">\n",
       "      <th></th>\n",
       "      <th>10H50_crime</th>\n",
       "      <th>10H50_beat</th>\n",
       "      <th>10H50_sports</th>\n",
       "      <th>10H50_game</th>\n",
       "    </tr>\n",
       "    <tr>\n",
       "      <th>days</th>\n",
       "      <th></th>\n",
       "      <th></th>\n",
       "      <th></th>\n",
       "      <th></th>\n",
       "    </tr>\n",
       "  </thead>\n",
       "  <tbody>\n",
       "    <tr>\n",
       "      <th>2010-01-01</th>\n",
       "      <td>5</td>\n",
       "      <td>10H50</td>\n",
       "      <td>CFB</td>\n",
       "      <td>None_CFB</td>\n",
       "    </tr>\n",
       "    <tr>\n",
       "      <th>2010-01-02</th>\n",
       "      <td>0</td>\n",
       "      <td>10H50</td>\n",
       "      <td>CFB</td>\n",
       "      <td>None_CFB</td>\n",
       "    </tr>\n",
       "    <tr>\n",
       "      <th>2010-01-03</th>\n",
       "      <td>1</td>\n",
       "      <td>10H50</td>\n",
       "      <td>CFB</td>\n",
       "      <td>None_CFB</td>\n",
       "    </tr>\n",
       "    <tr>\n",
       "      <th>2010-01-04</th>\n",
       "      <td>6</td>\n",
       "      <td>10H50</td>\n",
       "      <td>CFB</td>\n",
       "      <td>None_CFB</td>\n",
       "    </tr>\n",
       "    <tr>\n",
       "      <th>2010-01-05</th>\n",
       "      <td>1</td>\n",
       "      <td>10H50</td>\n",
       "      <td>CFB</td>\n",
       "      <td>None_CFB</td>\n",
       "    </tr>\n",
       "  </tbody>\n",
       "</table>\n",
       "</div>"
      ],
      "text/plain": [
       "            10H50_crime 10H50_beat 10H50_sports 10H50_game\n",
       "days                                                      \n",
       "2010-01-01            5      10H50          CFB   None_CFB\n",
       "2010-01-02            0      10H50          CFB   None_CFB\n",
       "2010-01-03            1      10H50          CFB   None_CFB\n",
       "2010-01-04            6      10H50          CFB   None_CFB\n",
       "2010-01-05            1      10H50          CFB   None_CFB"
      ]
     },
     "execution_count": 40,
     "metadata": {},
     "output_type": "execute_result"
    }
   ],
   "source": [
    "mlb = merge_data.add_prefix('{}_'.format(bb))\n",
    "mlb.head()"
   ]
  },
  {
   "cell_type": "code",
   "execution_count": 41,
   "metadata": {},
   "outputs": [
    {
     "name": "stdout",
     "output_type": "stream",
     "text": [
      "<class 'pandas.core.frame.DataFrame'>\n",
      "DatetimeIndex: 2922 entries, 2010-01-01 to 2017-12-31\n",
      "Data columns (total 4 columns):\n",
      "10H50_crime     2922 non-null int64\n",
      "10H50_beat      2922 non-null object\n",
      "10H50_sports    2922 non-null object\n",
      "10H50_game      2922 non-null object\n",
      "dtypes: int64(1), object(3)\n",
      "memory usage: 114.1+ KB\n"
     ]
    }
   ],
   "source": [
    "#pd.get_dummies(dd)\n",
    "mlb.info()"
   ]
  },
  {
   "cell_type": "code",
   "execution_count": 46,
   "metadata": {},
   "outputs": [],
   "source": [
    "#merge_data.add_prefix('1A10_')\n",
    "#pd.get_dummies(mlb)\n"
   ]
  },
  {
   "cell_type": "code",
   "execution_count": 42,
   "metadata": {},
   "outputs": [
    {
     "data": {
      "text/html": [
       "<div>\n",
       "<style scoped>\n",
       "    .dataframe tbody tr th:only-of-type {\n",
       "        vertical-align: middle;\n",
       "    }\n",
       "\n",
       "    .dataframe tbody tr th {\n",
       "        vertical-align: top;\n",
       "    }\n",
       "\n",
       "    .dataframe thead th {\n",
       "        text-align: right;\n",
       "    }\n",
       "</style>\n",
       "<table border=\"1\" class=\"dataframe\">\n",
       "  <thead>\n",
       "    <tr style=\"text-align: right;\">\n",
       "      <th></th>\n",
       "      <th>10H50_crime</th>\n",
       "      <th>10H50_beat</th>\n",
       "      <th>10H50_sports</th>\n",
       "      <th>10H50_game</th>\n",
       "    </tr>\n",
       "    <tr>\n",
       "      <th>days</th>\n",
       "      <th></th>\n",
       "      <th></th>\n",
       "      <th></th>\n",
       "      <th></th>\n",
       "    </tr>\n",
       "  </thead>\n",
       "  <tbody>\n",
       "    <tr>\n",
       "      <th>2010-01-01</th>\n",
       "      <td>5</td>\n",
       "      <td>10H50</td>\n",
       "      <td>CFB</td>\n",
       "      <td>None_CFB</td>\n",
       "    </tr>\n",
       "    <tr>\n",
       "      <th>2010-01-02</th>\n",
       "      <td>0</td>\n",
       "      <td>10H50</td>\n",
       "      <td>CFB</td>\n",
       "      <td>None_CFB</td>\n",
       "    </tr>\n",
       "    <tr>\n",
       "      <th>2010-01-03</th>\n",
       "      <td>1</td>\n",
       "      <td>10H50</td>\n",
       "      <td>CFB</td>\n",
       "      <td>None_CFB</td>\n",
       "    </tr>\n",
       "    <tr>\n",
       "      <th>2010-01-04</th>\n",
       "      <td>6</td>\n",
       "      <td>10H50</td>\n",
       "      <td>CFB</td>\n",
       "      <td>None_CFB</td>\n",
       "    </tr>\n",
       "    <tr>\n",
       "      <th>2010-01-05</th>\n",
       "      <td>1</td>\n",
       "      <td>10H50</td>\n",
       "      <td>CFB</td>\n",
       "      <td>None_CFB</td>\n",
       "    </tr>\n",
       "  </tbody>\n",
       "</table>\n",
       "</div>"
      ],
      "text/plain": [
       "            10H50_crime 10H50_beat 10H50_sports 10H50_game\n",
       "days                                                      \n",
       "2010-01-01            5      10H50          CFB   None_CFB\n",
       "2010-01-02            0      10H50          CFB   None_CFB\n",
       "2010-01-03            1      10H50          CFB   None_CFB\n",
       "2010-01-04            6      10H50          CFB   None_CFB\n",
       "2010-01-05            1      10H50          CFB   None_CFB"
      ]
     },
     "execution_count": 42,
     "metadata": {},
     "output_type": "execute_result"
    }
   ],
   "source": [
    "mlb.head()"
   ]
  },
  {
   "cell_type": "code",
   "execution_count": 43,
   "metadata": {},
   "outputs": [
    {
     "data": {
      "text/plain": [
       "'data/ready/UHCFB.csv'"
      ]
     },
     "execution_count": 43,
     "metadata": {},
     "output_type": "execute_result"
    }
   ],
   "source": [
    "save = 'data/ready/UH{}.csv'.format(sport)\n",
    "save"
   ]
  },
  {
   "cell_type": "code",
   "execution_count": 47,
   "metadata": {},
   "outputs": [],
   "source": [
    "mlb.to_csv(save)"
   ]
  },
  {
   "cell_type": "code",
   "execution_count": 48,
   "metadata": {},
   "outputs": [
    {
     "name": "stdout",
     "output_type": "stream",
     "text": [
      "\u001b[0m\u001b[01;32mAstros_clean.csv\u001b[0m*        \u001b[01;32mDUMMY_Rockets_final.csv\u001b[0m*  \u001b[01;32mNFL.csv\u001b[0m*\r\n",
      "\u001b[01;32mbas.csv\u001b[0m*                 \u001b[01;32mDUMMY_Texans_final.csv\u001b[0m*   \u001b[01;32mRice_clean.csv\u001b[0m*\r\n",
      "\u001b[01;32mbkb.csv\u001b[0m*                 \u001b[01;32mDUMMY_UH_final.csv\u001b[0m*       \u001b[01;32mRockets_clean.csv\u001b[0m*\r\n",
      "\u001b[01;32mcfbRU.csv\u001b[0m*               \u001b[01;32mdynamo_clean.csv\u001b[0m*         \u001b[01;32msoc.csv\u001b[0m*\r\n",
      "\u001b[01;32mcfbUH.csv\u001b[0m*               \u001b[01;32mfb.csv\u001b[0m*                   \u001b[01;32mTexans_clean.csv\u001b[0m*\r\n",
      "\u001b[01;32mDUMMY_Astros_final.csv\u001b[0m*  \u001b[01;32mMLB.csv\u001b[0m*                  \u001b[01;32mUHCFB.csv\u001b[0m*\r\n",
      "\u001b[01;32mDUMMY_Dynamo_final.csv\u001b[0m*  \u001b[01;32mMLS.csv\u001b[0m*                  \u001b[01;32mUH_clean.csv\u001b[0m*\r\n",
      "\u001b[01;32mDUMMY_Rice_final.csv\u001b[0m*    \u001b[01;32mNBA.csv\u001b[0m*\r\n"
     ]
    }
   ],
   "source": [
    "ls data/ready/"
   ]
  },
  {
   "cell_type": "code",
   "execution_count": 49,
   "metadata": {},
   "outputs": [
    {
     "data": {
      "text/html": [
       "<div>\n",
       "<style scoped>\n",
       "    .dataframe tbody tr th:only-of-type {\n",
       "        vertical-align: middle;\n",
       "    }\n",
       "\n",
       "    .dataframe tbody tr th {\n",
       "        vertical-align: top;\n",
       "    }\n",
       "\n",
       "    .dataframe thead th {\n",
       "        text-align: right;\n",
       "    }\n",
       "</style>\n",
       "<table border=\"1\" class=\"dataframe\">\n",
       "  <thead>\n",
       "    <tr style=\"text-align: right;\">\n",
       "      <th></th>\n",
       "      <th>10H50_crime</th>\n",
       "      <th>10H50_beat</th>\n",
       "      <th>10H50_sports</th>\n",
       "      <th>10H50_game</th>\n",
       "    </tr>\n",
       "    <tr>\n",
       "      <th>days</th>\n",
       "      <th></th>\n",
       "      <th></th>\n",
       "      <th></th>\n",
       "      <th></th>\n",
       "    </tr>\n",
       "  </thead>\n",
       "  <tbody>\n",
       "    <tr>\n",
       "      <th>2010-01-01</th>\n",
       "      <td>5</td>\n",
       "      <td>10H50</td>\n",
       "      <td>CFB</td>\n",
       "      <td>None_CFB</td>\n",
       "    </tr>\n",
       "    <tr>\n",
       "      <th>2010-01-02</th>\n",
       "      <td>0</td>\n",
       "      <td>10H50</td>\n",
       "      <td>CFB</td>\n",
       "      <td>None_CFB</td>\n",
       "    </tr>\n",
       "    <tr>\n",
       "      <th>2010-01-03</th>\n",
       "      <td>1</td>\n",
       "      <td>10H50</td>\n",
       "      <td>CFB</td>\n",
       "      <td>None_CFB</td>\n",
       "    </tr>\n",
       "    <tr>\n",
       "      <th>2010-01-04</th>\n",
       "      <td>6</td>\n",
       "      <td>10H50</td>\n",
       "      <td>CFB</td>\n",
       "      <td>None_CFB</td>\n",
       "    </tr>\n",
       "    <tr>\n",
       "      <th>2010-01-05</th>\n",
       "      <td>1</td>\n",
       "      <td>10H50</td>\n",
       "      <td>CFB</td>\n",
       "      <td>None_CFB</td>\n",
       "    </tr>\n",
       "  </tbody>\n",
       "</table>\n",
       "</div>"
      ],
      "text/plain": [
       "            10H50_crime 10H50_beat 10H50_sports 10H50_game\n",
       "days                                                      \n",
       "2010-01-01            5      10H50          CFB   None_CFB\n",
       "2010-01-02            0      10H50          CFB   None_CFB\n",
       "2010-01-03            1      10H50          CFB   None_CFB\n",
       "2010-01-04            6      10H50          CFB   None_CFB\n",
       "2010-01-05            1      10H50          CFB   None_CFB"
      ]
     },
     "execution_count": 49,
     "metadata": {},
     "output_type": "execute_result"
    }
   ],
   "source": [
    "tt = pd.read_csv(save, index_col='days',parse_dates=True).head()\n",
    "tt"
   ]
  },
  {
   "cell_type": "code",
   "execution_count": null,
   "metadata": {},
   "outputs": [],
   "source": []
  },
  {
   "cell_type": "code",
   "execution_count": null,
   "metadata": {},
   "outputs": [],
   "source": []
  }
 ],
 "metadata": {
  "kernelspec": {
   "display_name": "Python 3",
   "language": "python",
   "name": "python3"
  },
  "language_info": {
   "codemirror_mode": {
    "name": "ipython",
    "version": 3
   },
   "file_extension": ".py",
   "mimetype": "text/x-python",
   "name": "python",
   "nbconvert_exporter": "python",
   "pygments_lexer": "ipython3",
   "version": "3.6.4"
  }
 },
 "nbformat": 4,
 "nbformat_minor": 2
}
