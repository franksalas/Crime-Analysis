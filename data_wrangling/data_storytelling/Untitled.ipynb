{
 "cells": [
  {
   "cell_type": "code",
   "execution_count": 1,
   "metadata": {},
   "outputs": [],
   "source": [
    "import pandas as pd\n",
    "import numpy as np\n"
   ]
  },
  {
   "cell_type": "code",
   "execution_count": 2,
   "metadata": {},
   "outputs": [],
   "source": [
    "# load nfl data"
   ]
  },
  {
   "cell_type": "code",
   "execution_count": 3,
   "metadata": {},
   "outputs": [
    {
     "name": "stdout",
     "output_type": "stream",
     "text": [
      "\u001b[0m\u001b[01;32mPlotting with categorical data.ipynb\u001b[0m*\r\n",
      "\u001b[01;32mSeaborn_Tutorial.ipynb\u001b[0m*\r\n",
      "\u001b[01;32mUntitled.ipynb\u001b[0m*\r\n",
      "\u001b[01;32mVisualizing the distribution of a dataset.ipynb\u001b[0m*\r\n"
     ]
    }
   ],
   "source": [
    "ls"
   ]
  },
  {
   "cell_type": "code",
   "execution_count": 17,
   "metadata": {},
   "outputs": [
    {
     "name": "stdout",
     "output_type": "stream",
     "text": [
      "ls: cannot access './Houston_Sports_Data/': No such file or directory\r\n",
      "..:\r\n",
      "Capstone_Project_1.md  Houston_Crime_Data\r\n",
      "data_storytelling      Houston_Sports_Data\r\n"
     ]
    }
   ],
   "source": [
    "!ls .. ./Houston_Sports_Data/"
   ]
  },
  {
   "cell_type": "code",
   "execution_count": 16,
   "metadata": {},
   "outputs": [
    {
     "name": "stdout",
     "output_type": "stream",
     "text": [
      "\u001b[0m\u001b[01;32mPlotting with categorical data.ipynb\u001b[0m*\r\n",
      "\u001b[01;32mSeaborn_Tutorial.ipynb\u001b[0m*\r\n",
      "\u001b[01;32mUntitled.ipynb\u001b[0m*\r\n",
      "\u001b[01;32mVisualizing the distribution of a dataset.ipynb\u001b[0m*\r\n"
     ]
    }
   ],
   "source": [
    "df = pd.read_csv('.. Houston')"
   ]
  },
  {
   "cell_type": "code",
   "execution_count": 18,
   "metadata": {},
   "outputs": [
    {
     "name": "stdout",
     "output_type": "stream",
     "text": [
      "/mnt/c/Users/frank/Documents/linux_dev/springboardCapstone/data_wrangling/data_storytelling\r\n"
     ]
    }
   ],
   "source": [
    "! pwd"
   ]
  },
  {
   "cell_type": "code",
   "execution_count": 24,
   "metadata": {},
   "outputs": [
    {
     "name": "stdout",
     "output_type": "stream",
     "text": [
      "ls: cannot access '/Houston_Crime_Data/': No such file or directory\r\n",
      "..:\r\n",
      "\u001b[0m\u001b[01;32mCapstone_Project_1.md\u001b[0m*  \u001b[01;36;40mHouston_Crime_Data\u001b[0m/\r\n",
      "\u001b[01;36;40mdata_storytelling\u001b[0m/      \u001b[01;36;40mHouston_Sports_Data\u001b[0m/\r\n"
     ]
    }
   ],
   "source": [
    "ls .. /Houston_Crime_Data/"
   ]
  },
  {
   "cell_type": "code",
   "execution_count": null,
   "metadata": {},
   "outputs": [],
   "source": []
  }
 ],
 "metadata": {
  "kernelspec": {
   "display_name": "Python 3",
   "language": "python",
   "name": "python3"
  },
  "language_info": {
   "codemirror_mode": {
    "name": "ipython",
    "version": 3
   },
   "file_extension": ".py",
   "mimetype": "text/x-python",
   "name": "python",
   "nbconvert_exporter": "python",
   "pygments_lexer": "ipython3",
   "version": "3.6.4"
  }
 },
 "nbformat": 4,
 "nbformat_minor": 2
}
