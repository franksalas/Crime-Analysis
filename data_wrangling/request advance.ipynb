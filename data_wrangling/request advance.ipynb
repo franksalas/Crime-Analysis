{
 "cells": [
  {
   "cell_type": "markdown",
   "metadata": {},
   "source": [
    "# Session Objects\n",
    "The Session object allows you to persist certain parameters across requests. It also persists cookies across all requests made from the Session instance, and will use urllib3's connection pooling. So if you're making several requests to the same host, the underlying TCP connection will be reused, which can result in a significant performance increase (see HTTP persistent connection).\n",
    "\n",
    "A Session object has all the methods of the main Requests API.\n",
    "\n",
    "Let's persist some cookies across requests:"
   ]
  },
  {
   "cell_type": "code",
   "execution_count": 30,
   "metadata": {},
   "outputs": [],
   "source": [
    "import requests\n",
    "import json\n",
    "import pprint"
   ]
  },
  {
   "cell_type": "code",
   "execution_count": 2,
   "metadata": {},
   "outputs": [
    {
     "name": "stdout",
     "output_type": "stream",
     "text": [
      "{\n",
      "  \"cookies\": {\n",
      "    \"sessioncookie\": \"123456789\"\n",
      "  }\n",
      "}\n",
      "\n"
     ]
    }
   ],
   "source": [
    "s = requests.Session()\n",
    "\n",
    "s.get('http://httpbin.org/cookies/set/sessioncookie/123456789')\n",
    "r = s.get('http://httpbin.org/cookies')\n",
    "\n",
    "print(r.text)"
   ]
  },
  {
   "cell_type": "markdown",
   "metadata": {},
   "source": [
    "Sessions can also be used to provide default data to the request methods. This is done by providing data to the properties on a Session object:"
   ]
  },
  {
   "cell_type": "code",
   "execution_count": 3,
   "metadata": {},
   "outputs": [
    {
     "data": {
      "text/plain": [
       "<Response [200]>"
      ]
     },
     "execution_count": 3,
     "metadata": {},
     "output_type": "execute_result"
    }
   ],
   "source": [
    "s = requests.Session()\n",
    "s.auth = ('user', 'pass')\n",
    "s.headers.update({'x-test': 'true'})\n",
    "\n",
    "# both 'x-test' and 'x-test2' are sent\n",
    "s.get('http://httpbin.org/headers', headers={'x-test2': 'true'})"
   ]
  },
  {
   "cell_type": "markdown",
   "metadata": {},
   "source": [
    "Any dictionaries that you pass to a request method will be merged with the session-level values that are set. The method-level parameters override session parameters.\n",
    "\n",
    "Note, however, that method-level parameters will not be persisted across requests, even if using a session. This example will only send the cookies with the first request, but not the second:"
   ]
  },
  {
   "cell_type": "code",
   "execution_count": 4,
   "metadata": {},
   "outputs": [
    {
     "name": "stdout",
     "output_type": "stream",
     "text": [
      "{\n",
      "  \"cookies\": {\n",
      "    \"from-my\": \"browser\"\n",
      "  }\n",
      "}\n",
      "\n",
      "{\n",
      "  \"cookies\": {}\n",
      "}\n",
      "\n"
     ]
    }
   ],
   "source": [
    "s = requests.Session()\n",
    "\n",
    "r = s.get('http://httpbin.org/cookies', cookies={'from-my': 'browser'})\n",
    "print(r.text)\n",
    "# '{\"cookies\": {\"from-my\": \"browser\"}}'\n",
    "\n",
    "r = s.get('http://httpbin.org/cookies')\n",
    "print(r.text)"
   ]
  },
  {
   "cell_type": "markdown",
   "metadata": {},
   "source": [
    "# Request and Response Objects\n",
    "\n",
    "\n",
    "Whenever a call is made to `requests.get()` and friends, you are doing two major things. First, you are constructing a Request object which will be sent off to a server to request or query some resource. Second, a Response object is generated once Requests gets a response back from the server. The Response object contains all of the information returned by the server and also contains the Request object you created originally. Here is a simple request to get some very important information from Wikipedia's servers:"
   ]
  },
  {
   "cell_type": "code",
   "execution_count": 5,
   "metadata": {},
   "outputs": [],
   "source": [
    " r = requests.get('http://en.wikipedia.org/wiki/Monty_Python')"
   ]
  },
  {
   "cell_type": "markdown",
   "metadata": {},
   "source": [
    "If we want to access the headers the server sent back to us, we do this:\n",
    "\n"
   ]
  },
  {
   "cell_type": "code",
   "execution_count": 7,
   "metadata": {},
   "outputs": [
    {
     "data": {
      "text/plain": [
       "{'Date': 'Fri, 30 Mar 2018 00:47:13 GMT', 'Content-Type': 'text/html; charset=UTF-8', 'Content-Length': '73503', 'Connection': 'keep-alive', 'Server': 'mw1262.eqiad.wmnet', 'Vary': 'Accept-Encoding,Cookie,Authorization', 'X-Powered-By': 'HHVM/3.18.6-dev', 'Link': '</static/images/project-logos/enwiki.png>;rel=preload;as=image;media=not all and (min-resolution: 1.5dppx),</static/images/project-logos/enwiki-1.5x.png>;rel=preload;as=image;media=(min-resolution: 1.5dppx) and (max-resolution: 1.999999dppx),</static/images/project-logos/enwiki-2x.png>;rel=preload;as=image;media=(min-resolution: 2dppx)', 'X-UA-Compatible': 'IE=Edge', 'Content-language': 'en', 'P3P': 'CP=\"This is not a P3P policy! See https://en.wikipedia.org/wiki/Special:CentralAutoLogin/P3P for more info.\"', 'X-Content-Type-Options': 'nosniff', 'Last-Modified': 'Wed, 28 Mar 2018 13:25:58 GMT', 'Backend-Timing': 'D=142366 t=1522243699331958', 'Content-Encoding': 'gzip', 'X-Varnish': '419632814 356747693, 202075172 203209078, 524508101 387076282', 'Via': '1.1 varnish (Varnish/5.1), 1.1 varnish (Varnish/5.1), 1.1 varnish (Varnish/5.1)', 'Age': '44356', 'X-Cache': 'cp1065 hit/3, cp2007 hit/1, cp2016 hit/10', 'X-Cache-Status': 'hit-front', 'Strict-Transport-Security': 'max-age=106384710; includeSubDomains; preload', 'X-Analytics': 'ns=0;page_id=18942;WMF-Last-Access=30-Mar-2018;WMF-Last-Access-Global=30-Mar-2018;https=1', 'X-Client-IP': '2601:2c0:8880:524:650a:6345:1813:1c32', 'Cache-Control': 'private, s-maxage=0, max-age=0, must-revalidate', 'Set-Cookie': 'GeoIP=US:TX:Houston:29.70:-95.59:v4; Path=/; secure; Domain=.wikipedia.org', 'Accept-Ranges': 'bytes'}"
      ]
     },
     "execution_count": 7,
     "metadata": {},
     "output_type": "execute_result"
    }
   ],
   "source": [
    "r.headers"
   ]
  },
  {
   "cell_type": "code",
   "execution_count": 8,
   "metadata": {},
   "outputs": [
    {
     "data": {
      "text/plain": [
       "requests.models.Response"
      ]
     },
     "execution_count": 8,
     "metadata": {},
     "output_type": "execute_result"
    }
   ],
   "source": [
    "type(r)"
   ]
  },
  {
   "cell_type": "markdown",
   "metadata": {},
   "source": [
    "However, if we want to get the headers we sent the server, we simply access the request, and then the request's headers:"
   ]
  },
  {
   "cell_type": "code",
   "execution_count": 9,
   "metadata": {},
   "outputs": [
    {
     "data": {
      "text/plain": [
       "{'User-Agent': 'python-requests/2.18.4', 'Accept-Encoding': 'gzip, deflate', 'Accept': '*/*', 'Connection': 'keep-alive', 'Cookie': 'WMF-Last-Access=30-Mar-2018; WMF-Last-Access-Global=30-Mar-2018'}"
      ]
     },
     "execution_count": 9,
     "metadata": {},
     "output_type": "execute_result"
    }
   ],
   "source": [
    "r.request.headers"
   ]
  },
  {
   "cell_type": "code",
   "execution_count": 11,
   "metadata": {},
   "outputs": [
    {
     "data": {
      "text/plain": [
       "200"
      ]
     },
     "execution_count": 11,
     "metadata": {},
     "output_type": "execute_result"
    }
   ],
   "source": [
    "r = requests.get('https://api.github.com/repos/requests/requests/issues/482')\n",
    "r.status_code"
   ]
  },
  {
   "cell_type": "code",
   "execution_count": 14,
   "metadata": {},
   "outputs": [
    {
     "name": "stdout",
     "output_type": "stream",
     "text": [
      "Feature any http verb in docs\n"
     ]
    }
   ],
   "source": [
    "issue = json.loads(r.text)\n",
    "\n",
    "print(issue[u'title'])"
   ]
  },
  {
   "cell_type": "code",
   "execution_count": 31,
   "metadata": {},
   "outputs": [
    {
     "name": "stdout",
     "output_type": "stream",
     "text": [
      "{'assignee': None,\n",
      " 'assignees': [],\n",
      " 'author_association': 'OWNER',\n",
      " 'body': '',\n",
      " 'closed_at': '2012-05-29T23:50:05Z',\n",
      " 'closed_by': {'avatar_url': 'https://avatars2.githubusercontent.com/u/119893?v=4',\n",
      "               'events_url': 'https://api.github.com/users/kennethreitz/events{/privacy}',\n",
      "               'followers_url': 'https://api.github.com/users/kennethreitz/followers',\n",
      "               'following_url': 'https://api.github.com/users/kennethreitz/following{/other_user}',\n",
      "               'gists_url': 'https://api.github.com/users/kennethreitz/gists{/gist_id}',\n",
      "               'gravatar_id': '',\n",
      "               'html_url': 'https://github.com/kennethreitz',\n",
      "               'id': 119893,\n",
      "               'login': 'kennethreitz',\n",
      "               'organizations_url': 'https://api.github.com/users/kennethreitz/orgs',\n",
      "               'received_events_url': 'https://api.github.com/users/kennethreitz/received_events',\n",
      "               'repos_url': 'https://api.github.com/users/kennethreitz/repos',\n",
      "               'site_admin': False,\n",
      "               'starred_url': 'https://api.github.com/users/kennethreitz/starred{/owner}{/repo}',\n",
      "               'subscriptions_url': 'https://api.github.com/users/kennethreitz/subscriptions',\n",
      "               'type': 'User',\n",
      "               'url': 'https://api.github.com/users/kennethreitz'},\n",
      " 'comments': 10,\n",
      " 'comments_url': 'https://api.github.com/repos/requests/requests/issues/482/comments',\n",
      " 'created_at': '2012-03-13T20:18:37Z',\n",
      " 'events_url': 'https://api.github.com/repos/requests/requests/issues/482/events',\n",
      " 'html_url': 'https://github.com/requests/requests/issues/482',\n",
      " 'id': 3637512,\n",
      " 'labels': [{'color': '0b02e1',\n",
      "             'default': False,\n",
      "             'id': 191274,\n",
      "             'name': 'Contributor Friendly',\n",
      "             'url': 'https://api.github.com/repos/requests/requests/labels/Contributor%20Friendly'}],\n",
      " 'labels_url': 'https://api.github.com/repos/requests/requests/issues/482/labels{/name}',\n",
      " 'locked': True,\n",
      " 'milestone': None,\n",
      " 'number': 482,\n",
      " 'repository_url': 'https://api.github.com/repos/requests/requests',\n",
      " 'state': 'closed',\n",
      " 'title': 'Feature any http verb in docs',\n",
      " 'updated_at': '2014-06-26T01:47:26Z',\n",
      " 'url': 'https://api.github.com/repos/requests/requests/issues/482',\n",
      " 'user': {'avatar_url': 'https://avatars2.githubusercontent.com/u/119893?v=4',\n",
      "          'events_url': 'https://api.github.com/users/kennethreitz/events{/privacy}',\n",
      "          'followers_url': 'https://api.github.com/users/kennethreitz/followers',\n",
      "          'following_url': 'https://api.github.com/users/kennethreitz/following{/other_user}',\n",
      "          'gists_url': 'https://api.github.com/users/kennethreitz/gists{/gist_id}',\n",
      "          'gravatar_id': '',\n",
      "          'html_url': 'https://github.com/kennethreitz',\n",
      "          'id': 119893,\n",
      "          'login': 'kennethreitz',\n",
      "          'organizations_url': 'https://api.github.com/users/kennethreitz/orgs',\n",
      "          'received_events_url': 'https://api.github.com/users/kennethreitz/received_events',\n",
      "          'repos_url': 'https://api.github.com/users/kennethreitz/repos',\n",
      "          'site_admin': False,\n",
      "          'starred_url': 'https://api.github.com/users/kennethreitz/starred{/owner}{/repo}',\n",
      "          'subscriptions_url': 'https://api.github.com/users/kennethreitz/subscriptions',\n",
      "          'type': 'User',\n",
      "          'url': 'https://api.github.com/users/kennethreitz'}}\n"
     ]
    }
   ],
   "source": [
    "pprint.pprint(issue)"
   ]
  },
  {
   "cell_type": "code",
   "execution_count": 33,
   "metadata": {},
   "outputs": [
    {
     "data": {
      "text/plain": [
       "'https://api.github.com/repos/requests/requests/issues/482/comments'"
      ]
     },
     "execution_count": 33,
     "metadata": {},
     "output_type": "execute_result"
    }
   ],
   "source": [
    "r.url"
   ]
  },
  {
   "cell_type": "code",
   "execution_count": 15,
   "metadata": {},
   "outputs": [
    {
     "name": "stdout",
     "output_type": "stream",
     "text": [
      "10\n"
     ]
    }
   ],
   "source": [
    "print(issue[u'comments'])\n"
   ]
  },
  {
   "cell_type": "code",
   "execution_count": 17,
   "metadata": {},
   "outputs": [
    {
     "data": {
      "text/plain": [
       "dict"
      ]
     },
     "execution_count": 17,
     "metadata": {},
     "output_type": "execute_result"
    }
   ],
   "source": [
    "type(issue)"
   ]
  },
  {
   "cell_type": "code",
   "execution_count": 19,
   "metadata": {},
   "outputs": [
    {
     "data": {
      "text/plain": [
       "10"
      ]
     },
     "execution_count": 19,
     "metadata": {},
     "output_type": "execute_result"
    }
   ],
   "source": [
    "issue['comments']"
   ]
  },
  {
   "cell_type": "code",
   "execution_count": 20,
   "metadata": {},
   "outputs": [
    {
     "data": {
      "text/plain": [
       "200"
      ]
     },
     "execution_count": 20,
     "metadata": {},
     "output_type": "execute_result"
    }
   ],
   "source": [
    "r = requests.get(r.url + u'/comments')\n",
    "r.status_code"
   ]
  },
  {
   "cell_type": "code",
   "execution_count": 22,
   "metadata": {},
   "outputs": [
    {
     "name": "stdout",
     "output_type": "stream",
     "text": [
      "dict_keys(['url', 'html_url', 'issue_url', 'id', 'user', 'created_at', 'updated_at', 'author_association', 'body'])\n"
     ]
    }
   ],
   "source": [
    "comments = r.json()\n",
    "print(comments[0].keys())"
   ]
  },
  {
   "cell_type": "code",
   "execution_count": 38,
   "metadata": {},
   "outputs": [
    {
     "name": "stdout",
     "output_type": "stream",
     "text": [
      "{'author_association': 'OWNER',\n",
      " 'body': \"As @kennethreitz knows, I'm preparing to use requests in a different \"\n",
      "         'project, and was testing out the GitHub API. The following is '\n",
      "         'something I did from the python command line interpreter:\\n'\n",
      "         '\\n'\n",
      "         '``` python\\n'\n",
      "         'import requests\\n'\n",
      "         \"a = ('sigmavirus24', 'not_my_real_password')\\n\"\n",
      "         'url = '\n",
      "         \"'https://api.github.com/repos/sigmavirus24/issues.py/issues/comments/4524692'  \"\n",
      "         \"# This no longer exists, you'll see why\\n\"\n",
      "         'data = u\\'{\"body\": \"Amend comment.\"}\\'\\n'\n",
      "         'r = requests.patch(url, data, auth=a)\\n'\n",
      "         '# Checked what GitHub returned (response code 200)\\n'\n",
      "         \"r = requests.request('DELETE', url, auth=a)\\n\"\n",
      "         '# GitHub responded with code 204 -- successful deletion of a comment '\n",
      "         'on an issue.\\n'\n",
      "         '```\\n',\n",
      " 'created_at': '2012-03-15T17:42:58Z',\n",
      " 'html_url': 'https://github.com/requests/requests/issues/482#issuecomment-4524879',\n",
      " 'id': 4524879,\n",
      " 'issue_url': 'https://api.github.com/repos/requests/requests/issues/482',\n",
      " 'updated_at': '2012-03-15T17:42:58Z',\n",
      " 'url': 'https://api.github.com/repos/requests/requests/issues/comments/4524879',\n",
      " 'user': {'avatar_url': 'https://avatars3.githubusercontent.com/u/240830?v=4',\n",
      "          'events_url': 'https://api.github.com/users/sigmavirus24/events{/privacy}',\n",
      "          'followers_url': 'https://api.github.com/users/sigmavirus24/followers',\n",
      "          'following_url': 'https://api.github.com/users/sigmavirus24/following{/other_user}',\n",
      "          'gists_url': 'https://api.github.com/users/sigmavirus24/gists{/gist_id}',\n",
      "          'gravatar_id': '',\n",
      "          'html_url': 'https://github.com/sigmavirus24',\n",
      "          'id': 240830,\n",
      "          'login': 'sigmavirus24',\n",
      "          'organizations_url': 'https://api.github.com/users/sigmavirus24/orgs',\n",
      "          'received_events_url': 'https://api.github.com/users/sigmavirus24/received_events',\n",
      "          'repos_url': 'https://api.github.com/users/sigmavirus24/repos',\n",
      "          'site_admin': False,\n",
      "          'starred_url': 'https://api.github.com/users/sigmavirus24/starred{/owner}{/repo}',\n",
      "          'subscriptions_url': 'https://api.github.com/users/sigmavirus24/subscriptions',\n",
      "          'type': 'User',\n",
      "          'url': 'https://api.github.com/users/sigmavirus24'}}\n"
     ]
    }
   ],
   "source": [
    "pprint.pprint(comments[0])"
   ]
  },
  {
   "cell_type": "code",
   "execution_count": 26,
   "metadata": {},
   "outputs": [
    {
     "name": "stdout",
     "output_type": "stream",
     "text": [
      "Probably in the \"advanced\" section\n",
      "\n"
     ]
    }
   ],
   "source": [
    " print(comments[2][u'body'])"
   ]
  },
  {
   "cell_type": "code",
   "execution_count": 27,
   "metadata": {},
   "outputs": [
    {
     "name": "stdout",
     "output_type": "stream",
     "text": [
      "kennethreitz\n"
     ]
    }
   ],
   "source": [
    "print(comments[2][u'user'][u'login'])"
   ]
  },
  {
   "cell_type": "code",
   "execution_count": null,
   "metadata": {},
   "outputs": [],
   "source": []
  }
 ],
 "metadata": {
  "kernelspec": {
   "display_name": "Python 3",
   "language": "python",
   "name": "python3"
  },
  "language_info": {
   "codemirror_mode": {
    "name": "ipython",
    "version": 3
   },
   "file_extension": ".py",
   "mimetype": "text/x-python",
   "name": "python",
   "nbconvert_exporter": "python",
   "pygments_lexer": "ipython3",
   "version": "3.6.4"
  }
 },
 "nbformat": 4,
 "nbformat_minor": 2
}
