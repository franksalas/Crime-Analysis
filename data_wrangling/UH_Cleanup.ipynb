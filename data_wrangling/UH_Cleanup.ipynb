{
 "cells": [
  {
   "cell_type": "code",
   "execution_count": 1,
   "metadata": {},
   "outputs": [],
   "source": [
    "import pandas as pd\n",
    "import numpy as np\n",
    "import glob, os\n",
    "import re"
   ]
  },
  {
   "cell_type": "markdown",
   "metadata": {},
   "source": [
    "## Location"
   ]
  },
  {
   "cell_type": "code",
   "execution_count": 2,
   "metadata": {},
   "outputs": [
    {
     "name": "stdout",
     "output_type": "stream",
     "text": [
      "\u001b[0m\u001b[01;32mRU08_17.csv\u001b[0m*  \u001b[01;32mtsu08_11.csv\u001b[0m*  \u001b[01;32mtsu12_17.csv\u001b[0m*  \u001b[01;32muh08_17.csv\u001b[0m*\r\n"
     ]
    }
   ],
   "source": [
    "ls sports_data/NCAA/"
   ]
  },
  {
   "cell_type": "markdown",
   "metadata": {},
   "source": [
    "## Load Data"
   ]
  },
  {
   "cell_type": "code",
   "execution_count": 3,
   "metadata": {},
   "outputs": [],
   "source": [
    "path = 'sports_data/NCAA/uh08_17.csv'\n",
    "df = pd.read_csv(path)"
   ]
  },
  {
   "cell_type": "code",
   "execution_count": 4,
   "metadata": {},
   "outputs": [
    {
     "name": "stdout",
     "output_type": "stream",
     "text": [
      "<class 'pandas.core.frame.DataFrame'>\n",
      "RangeIndex: 130 entries, 0 to 129\n",
      "Data columns (total 16 columns):\n",
      "G             130 non-null int64\n",
      "Date          130 non-null object\n",
      "Time          65 non-null object\n",
      "Day           130 non-null object\n",
      "School        130 non-null object\n",
      "Unnamed: 5    69 non-null object\n",
      "Opponent      130 non-null object\n",
      "Conf          130 non-null object\n",
      "Unnamed: 8    130 non-null object\n",
      "Pts           130 non-null int64\n",
      "Opp           130 non-null int64\n",
      "W             130 non-null int64\n",
      "L             130 non-null int64\n",
      "Streak        130 non-null object\n",
      "TV            31 non-null object\n",
      "Notes         6 non-null object\n",
      "dtypes: int64(5), object(11)\n",
      "memory usage: 16.3+ KB\n"
     ]
    }
   ],
   "source": [
    "df.info()"
   ]
  },
  {
   "cell_type": "code",
   "execution_count": 5,
   "metadata": {},
   "outputs": [
    {
     "data": {
      "text/html": [
       "<div>\n",
       "<style scoped>\n",
       "    .dataframe tbody tr th:only-of-type {\n",
       "        vertical-align: middle;\n",
       "    }\n",
       "\n",
       "    .dataframe tbody tr th {\n",
       "        vertical-align: top;\n",
       "    }\n",
       "\n",
       "    .dataframe thead th {\n",
       "        text-align: right;\n",
       "    }\n",
       "</style>\n",
       "<table border=\"1\" class=\"dataframe\">\n",
       "  <thead>\n",
       "    <tr style=\"text-align: right;\">\n",
       "      <th></th>\n",
       "      <th>G</th>\n",
       "      <th>Date</th>\n",
       "      <th>Time</th>\n",
       "      <th>Day</th>\n",
       "      <th>School</th>\n",
       "      <th>Unnamed: 5</th>\n",
       "      <th>Opponent</th>\n",
       "      <th>Conf</th>\n",
       "      <th>Unnamed: 8</th>\n",
       "      <th>Pts</th>\n",
       "      <th>Opp</th>\n",
       "      <th>W</th>\n",
       "      <th>L</th>\n",
       "      <th>Streak</th>\n",
       "      <th>TV</th>\n",
       "      <th>Notes</th>\n",
       "    </tr>\n",
       "  </thead>\n",
       "  <tbody>\n",
       "    <tr>\n",
       "      <th>0</th>\n",
       "      <td>1</td>\n",
       "      <td>Sep 9 2017</td>\n",
       "      <td>10:30 PM</td>\n",
       "      <td>Sat</td>\n",
       "      <td>Houston</td>\n",
       "      <td>@</td>\n",
       "      <td>Arizona</td>\n",
       "      <td>Pac-12</td>\n",
       "      <td>W</td>\n",
       "      <td>19</td>\n",
       "      <td>16</td>\n",
       "      <td>1</td>\n",
       "      <td>0</td>\n",
       "      <td>W 1</td>\n",
       "      <td>NaN</td>\n",
       "      <td>NaN</td>\n",
       "    </tr>\n",
       "    <tr>\n",
       "      <th>1</th>\n",
       "      <td>2</td>\n",
       "      <td>Sep 16 2017</td>\n",
       "      <td>8:00 PM</td>\n",
       "      <td>Sat</td>\n",
       "      <td>Houston</td>\n",
       "      <td>NaN</td>\n",
       "      <td>Rice</td>\n",
       "      <td>CUSA</td>\n",
       "      <td>W</td>\n",
       "      <td>38</td>\n",
       "      <td>3</td>\n",
       "      <td>2</td>\n",
       "      <td>0</td>\n",
       "      <td>W 2</td>\n",
       "      <td>NaN</td>\n",
       "      <td>NaN</td>\n",
       "    </tr>\n",
       "    <tr>\n",
       "      <th>2</th>\n",
       "      <td>3</td>\n",
       "      <td>Sep 23 2017</td>\n",
       "      <td>12:00 PM</td>\n",
       "      <td>Sat</td>\n",
       "      <td>Houston</td>\n",
       "      <td>NaN</td>\n",
       "      <td>Texas Tech</td>\n",
       "      <td>Big 12</td>\n",
       "      <td>L</td>\n",
       "      <td>24</td>\n",
       "      <td>27</td>\n",
       "      <td>2</td>\n",
       "      <td>1</td>\n",
       "      <td>L 1</td>\n",
       "      <td>NaN</td>\n",
       "      <td>NaN</td>\n",
       "    </tr>\n",
       "    <tr>\n",
       "      <th>3</th>\n",
       "      <td>4</td>\n",
       "      <td>Sep 30 2017</td>\n",
       "      <td>12:00 PM</td>\n",
       "      <td>Sat</td>\n",
       "      <td>Houston</td>\n",
       "      <td>@</td>\n",
       "      <td>Temple</td>\n",
       "      <td>American</td>\n",
       "      <td>W</td>\n",
       "      <td>20</td>\n",
       "      <td>13</td>\n",
       "      <td>3</td>\n",
       "      <td>1</td>\n",
       "      <td>W 1</td>\n",
       "      <td>NaN</td>\n",
       "      <td>NaN</td>\n",
       "    </tr>\n",
       "    <tr>\n",
       "      <th>4</th>\n",
       "      <td>5</td>\n",
       "      <td>Oct 7 2017</td>\n",
       "      <td>7:00 PM</td>\n",
       "      <td>Sat</td>\n",
       "      <td>Houston</td>\n",
       "      <td>NaN</td>\n",
       "      <td>SMU</td>\n",
       "      <td>American</td>\n",
       "      <td>W</td>\n",
       "      <td>35</td>\n",
       "      <td>22</td>\n",
       "      <td>4</td>\n",
       "      <td>1</td>\n",
       "      <td>W 2</td>\n",
       "      <td>NaN</td>\n",
       "      <td>NaN</td>\n",
       "    </tr>\n",
       "  </tbody>\n",
       "</table>\n",
       "</div>"
      ],
      "text/plain": [
       "   G         Date      Time  Day   School Unnamed: 5    Opponent      Conf  \\\n",
       "0  1   Sep 9 2017  10:30 PM  Sat  Houston          @     Arizona    Pac-12   \n",
       "1  2  Sep 16 2017   8:00 PM  Sat  Houston        NaN        Rice      CUSA   \n",
       "2  3  Sep 23 2017  12:00 PM  Sat  Houston        NaN  Texas Tech    Big 12   \n",
       "3  4  Sep 30 2017  12:00 PM  Sat  Houston          @      Temple  American   \n",
       "4  5   Oct 7 2017   7:00 PM  Sat  Houston        NaN         SMU  American   \n",
       "\n",
       "  Unnamed: 8  Pts  Opp  W  L Streak   TV Notes  \n",
       "0          W   19   16  1  0    W 1  NaN   NaN  \n",
       "1          W   38    3  2  0    W 2  NaN   NaN  \n",
       "2          L   24   27  2  1    L 1  NaN   NaN  \n",
       "3          W   20   13  3  1    W 1  NaN   NaN  \n",
       "4          W   35   22  4  1    W 2  NaN   NaN  "
      ]
     },
     "execution_count": 5,
     "metadata": {},
     "output_type": "execute_result"
    }
   ],
   "source": [
    "df.head()"
   ]
  },
  {
   "cell_type": "code",
   "execution_count": 6,
   "metadata": {},
   "outputs": [
    {
     "data": {
      "text/plain": [
       "array([nan, 'Hawaii Bowl', 'Las Vegas Bowl', 'American Championship Game',\n",
       "       'Peach Bowl (Atlanta GA)', 'Paul Brown Stadium - Cincinnati OH',\n",
       "       'Armed Forces Bowl (Fort Worth TX)'], dtype=object)"
      ]
     },
     "execution_count": 6,
     "metadata": {},
     "output_type": "execute_result"
    }
   ],
   "source": [
    "df['Notes'].unique()"
   ]
  },
  {
   "cell_type": "markdown",
   "metadata": {},
   "source": [
    "## Create slice with only needed columns"
   ]
  },
  {
   "cell_type": "code",
   "execution_count": 7,
   "metadata": {},
   "outputs": [],
   "source": [
    "uh = df[['Date','Day','School','Pts','Unnamed: 5','Opponent','Opp','Unnamed: 8','Notes']]"
   ]
  },
  {
   "cell_type": "code",
   "execution_count": 8,
   "metadata": {},
   "outputs": [
    {
     "name": "stdout",
     "output_type": "stream",
     "text": [
      "<class 'pandas.core.frame.DataFrame'>\n",
      "RangeIndex: 130 entries, 0 to 129\n",
      "Data columns (total 9 columns):\n",
      "Date          130 non-null object\n",
      "Day           130 non-null object\n",
      "School        130 non-null object\n",
      "Pts           130 non-null int64\n",
      "Unnamed: 5    69 non-null object\n",
      "Opponent      130 non-null object\n",
      "Opp           130 non-null int64\n",
      "Unnamed: 8    130 non-null object\n",
      "Notes         6 non-null object\n",
      "dtypes: int64(2), object(7)\n",
      "memory usage: 9.2+ KB\n"
     ]
    }
   ],
   "source": [
    "uh.info()"
   ]
  },
  {
   "cell_type": "markdown",
   "metadata": {},
   "source": [
    "## Inspect data"
   ]
  },
  {
   "cell_type": "code",
   "execution_count": 10,
   "metadata": {},
   "outputs": [
    {
     "data": {
      "text/plain": [
       "array(['Houston', '(15) Houston', '(6) Houston', '(13) Houston',\n",
       "       '(11) Houston', '(18) Houston', '(24) Houston', '(21) Houston',\n",
       "       '(16) Houston', '(17) Houston', '(14) Houston', '(8) Houston',\n",
       "       '(7) Houston', '(20) Houston', '(23) Houston', '(12) Houston',\n",
       "       '(25) Houston'], dtype=object)"
      ]
     },
     "execution_count": 10,
     "metadata": {},
     "output_type": "execute_result"
    }
   ],
   "source": [
    "uh.School.unique()  # need fix"
   ]
  },
  {
   "cell_type": "code",
   "execution_count": 12,
   "metadata": {},
   "outputs": [
    {
     "data": {
      "text/plain": [
       "array(['W', 'L'], dtype=object)"
      ]
     },
     "execution_count": 12,
     "metadata": {},
     "output_type": "execute_result"
    }
   ],
   "source": [
    "uh['Unnamed: 8'].unique()  # ok"
   ]
  },
  {
   "cell_type": "code",
   "execution_count": 14,
   "metadata": {},
   "outputs": [
    {
     "data": {
      "text/plain": [
       "array(['@', nan, 'N'], dtype=object)"
      ]
     },
     "execution_count": 14,
     "metadata": {},
     "output_type": "execute_result"
    }
   ],
   "source": [
    "uh['Unnamed: 5'].unique()  # need fix"
   ]
  },
  {
   "cell_type": "code",
   "execution_count": 16,
   "metadata": {},
   "outputs": [
    {
     "data": {
      "text/plain": [
       "array(['Arizona', 'Rice', 'Texas Tech', 'Temple', 'SMU', 'Tulsa',\n",
       "       '(25) Memphis', '(17) South Florida', 'East Carolina', 'Tulane',\n",
       "       'Navy', 'Fresno State', '(3) Oklahoma', 'Lamar', 'Cincinnati',\n",
       "       'Texas State', 'Connecticut', 'UCF', '(3) Louisville', 'Memphis',\n",
       "       'San Diego State', 'Tennessee Tech', 'Louisville', 'Vanderbilt',\n",
       "       '(16) Navy', '(20) Temple', '(9) Florida State', 'UTSA',\n",
       "       'Grambling State', '(25) Brigham Young', 'Nevada-Las Vegas',\n",
       "       'South Florida', 'Pitt', 'Southern', 'Brigham Young', 'Rutgers',\n",
       "       '(19) UCF', '(19) Louisville', 'Louisiana Tech', '(22) UCLA',\n",
       "       'North Texas', 'UAB', 'UTEP', 'Marshall', 'UCLA', 'Georgia State',\n",
       "       '(24) Southern Mississippi', '(24) Penn State',\n",
       "       'Mississippi State', 'Southern Mississippi', 'Northwestern State',\n",
       "       '(5) Oklahoma State', 'Air Force', 'Oklahoma State',\n",
       "       'Colorado State', '(23) East Carolina', '(25) Tulsa'], dtype=object)"
      ]
     },
     "execution_count": 16,
     "metadata": {},
     "output_type": "execute_result"
    }
   ],
   "source": [
    "uh['Opponent'].unique()  # need fix"
   ]
  },
  {
   "cell_type": "markdown",
   "metadata": {},
   "source": [
    "## Change School values to just Houston"
   ]
  },
  {
   "cell_type": "code",
   "execution_count": 17,
   "metadata": {},
   "outputs": [
    {
     "data": {
      "text/plain": [
       "Houston         93\n",
       "(6) Houston      5\n",
       "(18) Houston     5\n",
       "(13) Houston     4\n",
       "(11) Houston     3\n",
       "(21) Houston     3\n",
       "(17) Houston     3\n",
       "(24) Houston     2\n",
       "(23) Houston     2\n",
       "(14) Houston     2\n",
       "(15) Houston     2\n",
       "(8) Houston      1\n",
       "(25) Houston     1\n",
       "(16) Houston     1\n",
       "(20) Houston     1\n",
       "(7) Houston      1\n",
       "(12) Houston     1\n",
       "Name: School, dtype: int64"
      ]
     },
     "execution_count": 17,
     "metadata": {},
     "output_type": "execute_result"
    }
   ],
   "source": [
    "uh['School'].value_counts()"
   ]
  },
  {
   "cell_type": "code",
   "execution_count": 18,
   "metadata": {},
   "outputs": [
    {
     "name": "stderr",
     "output_type": "stream",
     "text": [
      "/home/salas/miniconda3/envs/springboard/lib/python3.6/site-packages/ipykernel_launcher.py:1: SettingWithCopyWarning: \n",
      "A value is trying to be set on a copy of a slice from a DataFrame.\n",
      "Try using .loc[row_indexer,col_indexer] = value instead\n",
      "\n",
      "See the caveats in the documentation: http://pandas.pydata.org/pandas-docs/stable/indexing.html#indexing-view-versus-copy\n",
      "  \"\"\"Entry point for launching an IPython kernel.\n"
     ]
    }
   ],
   "source": [
    "uh['School'] = 'Houston'"
   ]
  },
  {
   "cell_type": "code",
   "execution_count": 19,
   "metadata": {},
   "outputs": [
    {
     "data": {
      "text/plain": [
       "Houston    130\n",
       "Name: School, dtype: int64"
      ]
     },
     "execution_count": 19,
     "metadata": {},
     "output_type": "execute_result"
    }
   ],
   "source": [
    "uh['School'].value_counts()"
   ]
  },
  {
   "cell_type": "markdown",
   "metadata": {},
   "source": [
    "## Rename columns\n",
    "- Unnamed: 5 : win_lost"
   ]
  },
  {
   "cell_type": "code",
   "execution_count": 20,
   "metadata": {},
   "outputs": [
    {
     "name": "stderr",
     "output_type": "stream",
     "text": [
      "/home/salas/miniconda3/envs/springboard/lib/python3.6/site-packages/pandas/core/frame.py:3027: SettingWithCopyWarning: \n",
      "A value is trying to be set on a copy of a slice from a DataFrame\n",
      "\n",
      "See the caveats in the documentation: http://pandas.pydata.org/pandas-docs/stable/indexing.html#indexing-view-versus-copy\n",
      "  return super(DataFrame, self).rename(**kwargs)\n"
     ]
    }
   ],
   "source": [
    "uh.rename(columns={'Unnamed: 8':'win_lost',\n",
    "                  'Unnamed: 5':'home_away'}, inplace=True)"
   ]
  },
  {
   "cell_type": "code",
   "execution_count": 21,
   "metadata": {},
   "outputs": [
    {
     "data": {
      "text/html": [
       "<div>\n",
       "<style scoped>\n",
       "    .dataframe tbody tr th:only-of-type {\n",
       "        vertical-align: middle;\n",
       "    }\n",
       "\n",
       "    .dataframe tbody tr th {\n",
       "        vertical-align: top;\n",
       "    }\n",
       "\n",
       "    .dataframe thead th {\n",
       "        text-align: right;\n",
       "    }\n",
       "</style>\n",
       "<table border=\"1\" class=\"dataframe\">\n",
       "  <thead>\n",
       "    <tr style=\"text-align: right;\">\n",
       "      <th></th>\n",
       "      <th>Date</th>\n",
       "      <th>Day</th>\n",
       "      <th>School</th>\n",
       "      <th>Pts</th>\n",
       "      <th>home_away</th>\n",
       "      <th>Opponent</th>\n",
       "      <th>Opp</th>\n",
       "      <th>win_lost</th>\n",
       "      <th>Notes</th>\n",
       "    </tr>\n",
       "  </thead>\n",
       "  <tbody>\n",
       "    <tr>\n",
       "      <th>0</th>\n",
       "      <td>Sep 9 2017</td>\n",
       "      <td>Sat</td>\n",
       "      <td>Houston</td>\n",
       "      <td>19</td>\n",
       "      <td>@</td>\n",
       "      <td>Arizona</td>\n",
       "      <td>16</td>\n",
       "      <td>W</td>\n",
       "      <td>NaN</td>\n",
       "    </tr>\n",
       "    <tr>\n",
       "      <th>1</th>\n",
       "      <td>Sep 16 2017</td>\n",
       "      <td>Sat</td>\n",
       "      <td>Houston</td>\n",
       "      <td>38</td>\n",
       "      <td>NaN</td>\n",
       "      <td>Rice</td>\n",
       "      <td>3</td>\n",
       "      <td>W</td>\n",
       "      <td>NaN</td>\n",
       "    </tr>\n",
       "    <tr>\n",
       "      <th>2</th>\n",
       "      <td>Sep 23 2017</td>\n",
       "      <td>Sat</td>\n",
       "      <td>Houston</td>\n",
       "      <td>24</td>\n",
       "      <td>NaN</td>\n",
       "      <td>Texas Tech</td>\n",
       "      <td>27</td>\n",
       "      <td>L</td>\n",
       "      <td>NaN</td>\n",
       "    </tr>\n",
       "    <tr>\n",
       "      <th>3</th>\n",
       "      <td>Sep 30 2017</td>\n",
       "      <td>Sat</td>\n",
       "      <td>Houston</td>\n",
       "      <td>20</td>\n",
       "      <td>@</td>\n",
       "      <td>Temple</td>\n",
       "      <td>13</td>\n",
       "      <td>W</td>\n",
       "      <td>NaN</td>\n",
       "    </tr>\n",
       "    <tr>\n",
       "      <th>4</th>\n",
       "      <td>Oct 7 2017</td>\n",
       "      <td>Sat</td>\n",
       "      <td>Houston</td>\n",
       "      <td>35</td>\n",
       "      <td>NaN</td>\n",
       "      <td>SMU</td>\n",
       "      <td>22</td>\n",
       "      <td>W</td>\n",
       "      <td>NaN</td>\n",
       "    </tr>\n",
       "  </tbody>\n",
       "</table>\n",
       "</div>"
      ],
      "text/plain": [
       "          Date  Day   School  Pts home_away    Opponent  Opp win_lost Notes\n",
       "0   Sep 9 2017  Sat  Houston   19         @     Arizona   16        W   NaN\n",
       "1  Sep 16 2017  Sat  Houston   38       NaN        Rice    3        W   NaN\n",
       "2  Sep 23 2017  Sat  Houston   24       NaN  Texas Tech   27        L   NaN\n",
       "3  Sep 30 2017  Sat  Houston   20         @      Temple   13        W   NaN\n",
       "4   Oct 7 2017  Sat  Houston   35       NaN         SMU   22        W   NaN"
      ]
     },
     "execution_count": 21,
     "metadata": {},
     "output_type": "execute_result"
    }
   ],
   "source": [
    "uh.head()"
   ]
  },
  {
   "cell_type": "markdown",
   "metadata": {},
   "source": [
    "## Change column\n",
    "- change home_away values to  home or away"
   ]
  },
  {
   "cell_type": "code",
   "execution_count": null,
   "metadata": {},
   "outputs": [],
   "source": [
    "#uh['home_away'] = np.where(uh['home_away'] =='@', 'AWAY', 'HOME')"
   ]
  },
  {
   "cell_type": "code",
   "execution_count": 22,
   "metadata": {},
   "outputs": [
    {
     "data": {
      "text/plain": [
       "array(['@', nan, 'N'], dtype=object)"
      ]
     },
     "execution_count": 22,
     "metadata": {},
     "output_type": "execute_result"
    }
   ],
   "source": [
    "uh['home_away'].unique()"
   ]
  },
  {
   "cell_type": "markdown",
   "metadata": {},
   "source": [
    "## Change values of '@` to 'Away\n",
    "- create boolean mask to find rows whose value is '@`m"
   ]
  },
  {
   "cell_type": "code",
   "execution_count": 26,
   "metadata": {},
   "outputs": [
    {
     "name": "stderr",
     "output_type": "stream",
     "text": [
      "/home/salas/miniconda3/envs/springboard/lib/python3.6/site-packages/ipykernel_launcher.py:1: SettingWithCopyWarning: \n",
      "A value is trying to be set on a copy of a slice from a DataFrame.\n",
      "Try using .loc[row_indexer,col_indexer] = value instead\n",
      "\n",
      "See the caveats in the documentation: http://pandas.pydata.org/pandas-docs/stable/indexing.html#indexing-view-versus-copy\n",
      "  \"\"\"Entry point for launching an IPython kernel.\n"
     ]
    }
   ],
   "source": [
    "uh['home_away'] = uh['home_away'].replace('@','away')"
   ]
  },
  {
   "cell_type": "code",
   "execution_count": 27,
   "metadata": {},
   "outputs": [
    {
     "name": "stderr",
     "output_type": "stream",
     "text": [
      "/home/salas/miniconda3/envs/springboard/lib/python3.6/site-packages/ipykernel_launcher.py:1: SettingWithCopyWarning: \n",
      "A value is trying to be set on a copy of a slice from a DataFrame.\n",
      "Try using .loc[row_indexer,col_indexer] = value instead\n",
      "\n",
      "See the caveats in the documentation: http://pandas.pydata.org/pandas-docs/stable/indexing.html#indexing-view-versus-copy\n",
      "  \"\"\"Entry point for launching an IPython kernel.\n"
     ]
    }
   ],
   "source": [
    "uh['home_away'] = uh['home_away'].fillna('home')"
   ]
  },
  {
   "cell_type": "code",
   "execution_count": 29,
   "metadata": {},
   "outputs": [
    {
     "data": {
      "text/plain": [
       "home    61\n",
       "away    53\n",
       "N       16\n",
       "Name: home_away, dtype: int64"
      ]
     },
     "execution_count": 29,
     "metadata": {},
     "output_type": "execute_result"
    }
   ],
   "source": [
    "uh['home_away'].value_counts()"
   ]
  },
  {
   "cell_type": "markdown",
   "metadata": {},
   "source": [
    "## Show values of 'N'\n",
    "\n",
    "- create boolean mask to find rows whose value is 'N"
   ]
  },
  {
   "cell_type": "code",
   "execution_count": 30,
   "metadata": {},
   "outputs": [
    {
     "data": {
      "text/html": [
       "<div>\n",
       "<style scoped>\n",
       "    .dataframe tbody tr th:only-of-type {\n",
       "        vertical-align: middle;\n",
       "    }\n",
       "\n",
       "    .dataframe tbody tr th {\n",
       "        vertical-align: top;\n",
       "    }\n",
       "\n",
       "    .dataframe thead th {\n",
       "        text-align: right;\n",
       "    }\n",
       "</style>\n",
       "<table border=\"1\" class=\"dataframe\">\n",
       "  <thead>\n",
       "    <tr style=\"text-align: right;\">\n",
       "      <th></th>\n",
       "      <th>Date</th>\n",
       "      <th>Day</th>\n",
       "      <th>School</th>\n",
       "      <th>Pts</th>\n",
       "      <th>home_away</th>\n",
       "      <th>Opponent</th>\n",
       "      <th>Opp</th>\n",
       "      <th>win_lost</th>\n",
       "      <th>Notes</th>\n",
       "    </tr>\n",
       "  </thead>\n",
       "  <tbody>\n",
       "    <tr>\n",
       "      <th>11</th>\n",
       "      <td>Dec 24 2017</td>\n",
       "      <td>Sun</td>\n",
       "      <td>Houston</td>\n",
       "      <td>27</td>\n",
       "      <td>N</td>\n",
       "      <td>Fresno State</td>\n",
       "      <td>33</td>\n",
       "      <td>L</td>\n",
       "      <td>Hawaii Bowl</td>\n",
       "    </tr>\n",
       "    <tr>\n",
       "      <th>12</th>\n",
       "      <td>Sep 3 2016</td>\n",
       "      <td>Sat</td>\n",
       "      <td>Houston</td>\n",
       "      <td>33</td>\n",
       "      <td>N</td>\n",
       "      <td>(3) Oklahoma</td>\n",
       "      <td>23</td>\n",
       "      <td>W</td>\n",
       "      <td>NaN</td>\n",
       "    </tr>\n",
       "    <tr>\n",
       "      <th>24</th>\n",
       "      <td>Dec 17 2016</td>\n",
       "      <td>Sat</td>\n",
       "      <td>Houston</td>\n",
       "      <td>10</td>\n",
       "      <td>N</td>\n",
       "      <td>San Diego State</td>\n",
       "      <td>34</td>\n",
       "      <td>L</td>\n",
       "      <td>Las Vegas Bowl</td>\n",
       "    </tr>\n",
       "    <tr>\n",
       "      <th>38</th>\n",
       "      <td>Dec 31 2015</td>\n",
       "      <td>Thu</td>\n",
       "      <td>Houston</td>\n",
       "      <td>38</td>\n",
       "      <td>N</td>\n",
       "      <td>(9) Florida State</td>\n",
       "      <td>24</td>\n",
       "      <td>W</td>\n",
       "      <td>Peach Bowl (Atlanta GA)</td>\n",
       "    </tr>\n",
       "    <tr>\n",
       "      <th>50</th>\n",
       "      <td>Dec 6 2014</td>\n",
       "      <td>Sat</td>\n",
       "      <td>Houston</td>\n",
       "      <td>31</td>\n",
       "      <td>N</td>\n",
       "      <td>Cincinnati</td>\n",
       "      <td>38</td>\n",
       "      <td>L</td>\n",
       "      <td>Paul Brown Stadium - Cincinnati OH</td>\n",
       "    </tr>\n",
       "    <tr>\n",
       "      <th>51</th>\n",
       "      <td>Jan 2 2015</td>\n",
       "      <td>Fri</td>\n",
       "      <td>Houston</td>\n",
       "      <td>35</td>\n",
       "      <td>N</td>\n",
       "      <td>Pitt</td>\n",
       "      <td>34</td>\n",
       "      <td>W</td>\n",
       "      <td>Armed Forces Bowl (Fort Worth TX)</td>\n",
       "    </tr>\n",
       "    <tr>\n",
       "      <th>54</th>\n",
       "      <td>Sep 21 2013</td>\n",
       "      <td>Sat</td>\n",
       "      <td>Houston</td>\n",
       "      <td>31</td>\n",
       "      <td>N</td>\n",
       "      <td>Rice</td>\n",
       "      <td>26</td>\n",
       "      <td>W</td>\n",
       "      <td>NaN</td>\n",
       "    </tr>\n",
       "    <tr>\n",
       "      <th>56</th>\n",
       "      <td>Oct 12 2013</td>\n",
       "      <td>Sat</td>\n",
       "      <td>Houston</td>\n",
       "      <td>25</td>\n",
       "      <td>N</td>\n",
       "      <td>Memphis</td>\n",
       "      <td>15</td>\n",
       "      <td>W</td>\n",
       "      <td>NaN</td>\n",
       "    </tr>\n",
       "    <tr>\n",
       "      <th>57</th>\n",
       "      <td>Oct 19 2013</td>\n",
       "      <td>Sat</td>\n",
       "      <td>Houston</td>\n",
       "      <td>46</td>\n",
       "      <td>N</td>\n",
       "      <td>Brigham Young</td>\n",
       "      <td>47</td>\n",
       "      <td>L</td>\n",
       "      <td>NaN</td>\n",
       "    </tr>\n",
       "    <tr>\n",
       "      <th>62</th>\n",
       "      <td>Nov 23 2013</td>\n",
       "      <td>Sat</td>\n",
       "      <td>Houston</td>\n",
       "      <td>17</td>\n",
       "      <td>N</td>\n",
       "      <td>Cincinnati</td>\n",
       "      <td>24</td>\n",
       "      <td>L</td>\n",
       "      <td>NaN</td>\n",
       "    </tr>\n",
       "    <tr>\n",
       "      <th>63</th>\n",
       "      <td>Nov 29 2013</td>\n",
       "      <td>Fri</td>\n",
       "      <td>Houston</td>\n",
       "      <td>34</td>\n",
       "      <td>N</td>\n",
       "      <td>SMU</td>\n",
       "      <td>0</td>\n",
       "      <td>W</td>\n",
       "      <td>NaN</td>\n",
       "    </tr>\n",
       "    <tr>\n",
       "      <th>64</th>\n",
       "      <td>Jan 4 2014</td>\n",
       "      <td>Sat</td>\n",
       "      <td>Houston</td>\n",
       "      <td>24</td>\n",
       "      <td>N</td>\n",
       "      <td>Vanderbilt</td>\n",
       "      <td>41</td>\n",
       "      <td>L</td>\n",
       "      <td>NaN</td>\n",
       "    </tr>\n",
       "    <tr>\n",
       "      <th>68</th>\n",
       "      <td>Sep 29 2012</td>\n",
       "      <td>Sat</td>\n",
       "      <td>Houston</td>\n",
       "      <td>35</td>\n",
       "      <td>N</td>\n",
       "      <td>Rice</td>\n",
       "      <td>14</td>\n",
       "      <td>W</td>\n",
       "      <td>NaN</td>\n",
       "    </tr>\n",
       "    <tr>\n",
       "      <th>90</th>\n",
       "      <td>Jan 2 2012</td>\n",
       "      <td>Mon</td>\n",
       "      <td>Houston</td>\n",
       "      <td>30</td>\n",
       "      <td>N</td>\n",
       "      <td>(24) Penn State</td>\n",
       "      <td>14</td>\n",
       "      <td>W</td>\n",
       "      <td>NaN</td>\n",
       "    </tr>\n",
       "    <tr>\n",
       "      <th>116</th>\n",
       "      <td>Dec 31 2009</td>\n",
       "      <td>Thu</td>\n",
       "      <td>Houston</td>\n",
       "      <td>20</td>\n",
       "      <td>N</td>\n",
       "      <td>Air Force</td>\n",
       "      <td>47</td>\n",
       "      <td>L</td>\n",
       "      <td>NaN</td>\n",
       "    </tr>\n",
       "    <tr>\n",
       "      <th>129</th>\n",
       "      <td>Dec 31 2008</td>\n",
       "      <td>Wed</td>\n",
       "      <td>Houston</td>\n",
       "      <td>34</td>\n",
       "      <td>N</td>\n",
       "      <td>Air Force</td>\n",
       "      <td>28</td>\n",
       "      <td>W</td>\n",
       "      <td>NaN</td>\n",
       "    </tr>\n",
       "  </tbody>\n",
       "</table>\n",
       "</div>"
      ],
      "text/plain": [
       "            Date  Day   School  Pts home_away           Opponent  Opp  \\\n",
       "11   Dec 24 2017  Sun  Houston   27         N       Fresno State   33   \n",
       "12    Sep 3 2016  Sat  Houston   33         N       (3) Oklahoma   23   \n",
       "24   Dec 17 2016  Sat  Houston   10         N    San Diego State   34   \n",
       "38   Dec 31 2015  Thu  Houston   38         N  (9) Florida State   24   \n",
       "50    Dec 6 2014  Sat  Houston   31         N         Cincinnati   38   \n",
       "51    Jan 2 2015  Fri  Houston   35         N               Pitt   34   \n",
       "54   Sep 21 2013  Sat  Houston   31         N               Rice   26   \n",
       "56   Oct 12 2013  Sat  Houston   25         N            Memphis   15   \n",
       "57   Oct 19 2013  Sat  Houston   46         N      Brigham Young   47   \n",
       "62   Nov 23 2013  Sat  Houston   17         N         Cincinnati   24   \n",
       "63   Nov 29 2013  Fri  Houston   34         N                SMU    0   \n",
       "64    Jan 4 2014  Sat  Houston   24         N         Vanderbilt   41   \n",
       "68   Sep 29 2012  Sat  Houston   35         N               Rice   14   \n",
       "90    Jan 2 2012  Mon  Houston   30         N    (24) Penn State   14   \n",
       "116  Dec 31 2009  Thu  Houston   20         N          Air Force   47   \n",
       "129  Dec 31 2008  Wed  Houston   34         N          Air Force   28   \n",
       "\n",
       "    win_lost                               Notes  \n",
       "11         L                         Hawaii Bowl  \n",
       "12         W                                 NaN  \n",
       "24         L                      Las Vegas Bowl  \n",
       "38         W             Peach Bowl (Atlanta GA)  \n",
       "50         L  Paul Brown Stadium - Cincinnati OH  \n",
       "51         W   Armed Forces Bowl (Fort Worth TX)  \n",
       "54         W                                 NaN  \n",
       "56         W                                 NaN  \n",
       "57         L                                 NaN  \n",
       "62         L                                 NaN  \n",
       "63         W                                 NaN  \n",
       "64         L                                 NaN  \n",
       "68         W                                 NaN  \n",
       "90         W                                 NaN  \n",
       "116        L                                 NaN  \n",
       "129        W                                 NaN  "
      ]
     },
     "execution_count": 30,
     "metadata": {},
     "output_type": "execute_result"
    }
   ],
   "source": [
    "n_val = uh['home_away']  =='N'\n",
    "uh[n_val]"
   ]
  },
  {
   "cell_type": "markdown",
   "metadata": {},
   "source": [
    "### They seem to be all away games "
   ]
  },
  {
   "cell_type": "code",
   "execution_count": 31,
   "metadata": {},
   "outputs": [
    {
     "name": "stderr",
     "output_type": "stream",
     "text": [
      "/home/salas/miniconda3/envs/springboard/lib/python3.6/site-packages/ipykernel_launcher.py:1: SettingWithCopyWarning: \n",
      "A value is trying to be set on a copy of a slice from a DataFrame.\n",
      "Try using .loc[row_indexer,col_indexer] = value instead\n",
      "\n",
      "See the caveats in the documentation: http://pandas.pydata.org/pandas-docs/stable/indexing.html#indexing-view-versus-copy\n",
      "  \"\"\"Entry point for launching an IPython kernel.\n"
     ]
    }
   ],
   "source": [
    "uh['home_away'] = uh['home_away'].replace('N','away')"
   ]
  },
  {
   "cell_type": "code",
   "execution_count": 32,
   "metadata": {},
   "outputs": [
    {
     "data": {
      "text/plain": [
       "away    69\n",
       "home    61\n",
       "Name: home_away, dtype: int64"
      ]
     },
     "execution_count": 32,
     "metadata": {},
     "output_type": "execute_result"
    }
   ],
   "source": [
    "uh['home_away'].value_counts()"
   ]
  },
  {
   "cell_type": "markdown",
   "metadata": {},
   "source": [
    "## Clean up some columns"
   ]
  },
  {
   "cell_type": "code",
   "execution_count": 33,
   "metadata": {},
   "outputs": [
    {
     "name": "stdout",
     "output_type": "stream",
     "text": [
      "<class 'pandas.core.frame.DataFrame'>\n",
      "RangeIndex: 130 entries, 0 to 129\n",
      "Data columns (total 9 columns):\n",
      "Date         130 non-null object\n",
      "Day          130 non-null object\n",
      "School       130 non-null object\n",
      "Pts          130 non-null int64\n",
      "home_away    130 non-null object\n",
      "Opponent     130 non-null object\n",
      "Opp          130 non-null int64\n",
      "win_lost     130 non-null object\n",
      "Notes        6 non-null object\n",
      "dtypes: int64(2), object(7)\n",
      "memory usage: 9.2+ KB\n"
     ]
    }
   ],
   "source": [
    "uh.info()"
   ]
  },
  {
   "cell_type": "code",
   "execution_count": 37,
   "metadata": {},
   "outputs": [
    {
     "data": {
      "text/plain": [
       "array(['Arizona', 'Rice', 'Texas Tech', 'Temple', 'SMU', 'Tulsa',\n",
       "       '(25) Memphis', '(17) South Florida', 'East Carolina', 'Tulane',\n",
       "       'Navy', 'Fresno State', '(3) Oklahoma', 'Lamar', 'Cincinnati',\n",
       "       'Texas State', 'Connecticut', 'UCF', '(3) Louisville', 'Memphis',\n",
       "       'San Diego State', 'Tennessee Tech', 'Louisville', 'Vanderbilt',\n",
       "       '(16) Navy', '(20) Temple', '(9) Florida State', 'UTSA',\n",
       "       'Grambling State', '(25) Brigham Young', 'Nevada-Las Vegas',\n",
       "       'South Florida', 'Pitt', 'Southern', 'Brigham Young', 'Rutgers',\n",
       "       '(19) UCF', '(19) Louisville', 'Louisiana Tech', '(22) UCLA',\n",
       "       'North Texas', 'UAB', 'UTEP', 'Marshall', 'UCLA', 'Georgia State',\n",
       "       '(24) Southern Mississippi', '(24) Penn State',\n",
       "       'Mississippi State', 'Southern Mississippi', 'Northwestern State',\n",
       "       '(5) Oklahoma State', 'Air Force', 'Oklahoma State',\n",
       "       'Colorado State', '(23) East Carolina', '(25) Tulsa'], dtype=object)"
      ]
     },
     "execution_count": 37,
     "metadata": {},
     "output_type": "execute_result"
    }
   ],
   "source": [
    "uh['Opponent'].unique()"
   ]
  },
  {
   "cell_type": "markdown",
   "metadata": {},
   "source": [
    "## Remove parenthesis from `uh['Opponent']`"
   ]
  },
  {
   "cell_type": "code",
   "execution_count": 38,
   "metadata": {},
   "outputs": [
    {
     "name": "stderr",
     "output_type": "stream",
     "text": [
      "/home/salas/miniconda3/envs/springboard/lib/python3.6/site-packages/ipykernel_launcher.py:1: SettingWithCopyWarning: \n",
      "A value is trying to be set on a copy of a slice from a DataFrame.\n",
      "Try using .loc[row_indexer,col_indexer] = value instead\n",
      "\n",
      "See the caveats in the documentation: http://pandas.pydata.org/pandas-docs/stable/indexing.html#indexing-view-versus-copy\n",
      "  \"\"\"Entry point for launching an IPython kernel.\n"
     ]
    }
   ],
   "source": [
    "uh['Opponent']= uh['Opponent'].str.replace(r\"\\(.*\\)\",\" \")"
   ]
  },
  {
   "cell_type": "code",
   "execution_count": 39,
   "metadata": {},
   "outputs": [
    {
     "data": {
      "text/plain": [
       "array(['Arizona', 'Rice', 'Texas Tech', 'Temple', 'SMU', 'Tulsa',\n",
       "       '  Memphis', '  South Florida', 'East Carolina', 'Tulane', 'Navy',\n",
       "       'Fresno State', '  Oklahoma', 'Lamar', 'Cincinnati', 'Texas State',\n",
       "       'Connecticut', 'UCF', '  Louisville', 'Memphis', 'San Diego State',\n",
       "       'Tennessee Tech', 'Louisville', 'Vanderbilt', '  Navy', '  Temple',\n",
       "       '  Florida State', 'UTSA', 'Grambling State', '  Brigham Young',\n",
       "       'Nevada-Las Vegas', 'South Florida', 'Pitt', 'Southern',\n",
       "       'Brigham Young', 'Rutgers', '  UCF', 'Louisiana Tech', '  UCLA',\n",
       "       'North Texas', 'UAB', 'UTEP', 'Marshall', 'UCLA', 'Georgia State',\n",
       "       '  Southern Mississippi', '  Penn State', 'Mississippi State',\n",
       "       'Southern Mississippi', 'Northwestern State', '  Oklahoma State',\n",
       "       'Air Force', 'Oklahoma State', 'Colorado State', '  East Carolina',\n",
       "       '  Tulsa'], dtype=object)"
      ]
     },
     "execution_count": 39,
     "metadata": {},
     "output_type": "execute_result"
    }
   ],
   "source": [
    "uh['Opponent'].unique()"
   ]
  },
  {
   "cell_type": "markdown",
   "metadata": {},
   "source": [
    "## Remove extra spaces"
   ]
  },
  {
   "cell_type": "code",
   "execution_count": 40,
   "metadata": {},
   "outputs": [
    {
     "name": "stderr",
     "output_type": "stream",
     "text": [
      "/home/salas/miniconda3/envs/springboard/lib/python3.6/site-packages/ipykernel_launcher.py:1: SettingWithCopyWarning: \n",
      "A value is trying to be set on a copy of a slice from a DataFrame.\n",
      "Try using .loc[row_indexer,col_indexer] = value instead\n",
      "\n",
      "See the caveats in the documentation: http://pandas.pydata.org/pandas-docs/stable/indexing.html#indexing-view-versus-copy\n",
      "  \"\"\"Entry point for launching an IPython kernel.\n"
     ]
    }
   ],
   "source": [
    "uh['Opponent'] = uh['Opponent'].str.strip()"
   ]
  },
  {
   "cell_type": "code",
   "execution_count": 41,
   "metadata": {},
   "outputs": [
    {
     "data": {
      "text/plain": [
       "array(['Arizona', 'Rice', 'Texas Tech', 'Temple', 'SMU', 'Tulsa',\n",
       "       'Memphis', 'South Florida', 'East Carolina', 'Tulane', 'Navy',\n",
       "       'Fresno State', 'Oklahoma', 'Lamar', 'Cincinnati', 'Texas State',\n",
       "       'Connecticut', 'UCF', 'Louisville', 'San Diego State',\n",
       "       'Tennessee Tech', 'Vanderbilt', 'Florida State', 'UTSA',\n",
       "       'Grambling State', 'Brigham Young', 'Nevada-Las Vegas', 'Pitt',\n",
       "       'Southern', 'Rutgers', 'Louisiana Tech', 'UCLA', 'North Texas',\n",
       "       'UAB', 'UTEP', 'Marshall', 'Georgia State', 'Southern Mississippi',\n",
       "       'Penn State', 'Mississippi State', 'Northwestern State',\n",
       "       'Oklahoma State', 'Air Force', 'Colorado State'], dtype=object)"
      ]
     },
     "execution_count": 41,
     "metadata": {},
     "output_type": "execute_result"
    }
   ],
   "source": [
    "uh['Opponent'].unique()"
   ]
  },
  {
   "cell_type": "markdown",
   "metadata": {},
   "source": [
    "## convert Date to datetime"
   ]
  },
  {
   "cell_type": "code",
   "execution_count": 42,
   "metadata": {},
   "outputs": [
    {
     "name": "stderr",
     "output_type": "stream",
     "text": [
      "/home/salas/miniconda3/envs/springboard/lib/python3.6/site-packages/ipykernel_launcher.py:1: SettingWithCopyWarning: \n",
      "A value is trying to be set on a copy of a slice from a DataFrame.\n",
      "Try using .loc[row_indexer,col_indexer] = value instead\n",
      "\n",
      "See the caveats in the documentation: http://pandas.pydata.org/pandas-docs/stable/indexing.html#indexing-view-versus-copy\n",
      "  \"\"\"Entry point for launching an IPython kernel.\n"
     ]
    }
   ],
   "source": [
    "uh['Date']= pd.to_datetime(uh['Date'])"
   ]
  },
  {
   "cell_type": "code",
   "execution_count": 43,
   "metadata": {},
   "outputs": [
    {
     "data": {
      "text/html": [
       "<div>\n",
       "<style scoped>\n",
       "    .dataframe tbody tr th:only-of-type {\n",
       "        vertical-align: middle;\n",
       "    }\n",
       "\n",
       "    .dataframe tbody tr th {\n",
       "        vertical-align: top;\n",
       "    }\n",
       "\n",
       "    .dataframe thead th {\n",
       "        text-align: right;\n",
       "    }\n",
       "</style>\n",
       "<table border=\"1\" class=\"dataframe\">\n",
       "  <thead>\n",
       "    <tr style=\"text-align: right;\">\n",
       "      <th></th>\n",
       "      <th>Date</th>\n",
       "      <th>Day</th>\n",
       "      <th>School</th>\n",
       "      <th>Pts</th>\n",
       "      <th>home_away</th>\n",
       "      <th>Opponent</th>\n",
       "      <th>Opp</th>\n",
       "      <th>win_lost</th>\n",
       "      <th>Notes</th>\n",
       "    </tr>\n",
       "  </thead>\n",
       "  <tbody>\n",
       "    <tr>\n",
       "      <th>0</th>\n",
       "      <td>2017-09-09</td>\n",
       "      <td>Sat</td>\n",
       "      <td>Houston</td>\n",
       "      <td>19</td>\n",
       "      <td>away</td>\n",
       "      <td>Arizona</td>\n",
       "      <td>16</td>\n",
       "      <td>W</td>\n",
       "      <td>NaN</td>\n",
       "    </tr>\n",
       "    <tr>\n",
       "      <th>1</th>\n",
       "      <td>2017-09-16</td>\n",
       "      <td>Sat</td>\n",
       "      <td>Houston</td>\n",
       "      <td>38</td>\n",
       "      <td>home</td>\n",
       "      <td>Rice</td>\n",
       "      <td>3</td>\n",
       "      <td>W</td>\n",
       "      <td>NaN</td>\n",
       "    </tr>\n",
       "    <tr>\n",
       "      <th>2</th>\n",
       "      <td>2017-09-23</td>\n",
       "      <td>Sat</td>\n",
       "      <td>Houston</td>\n",
       "      <td>24</td>\n",
       "      <td>home</td>\n",
       "      <td>Texas Tech</td>\n",
       "      <td>27</td>\n",
       "      <td>L</td>\n",
       "      <td>NaN</td>\n",
       "    </tr>\n",
       "    <tr>\n",
       "      <th>3</th>\n",
       "      <td>2017-09-30</td>\n",
       "      <td>Sat</td>\n",
       "      <td>Houston</td>\n",
       "      <td>20</td>\n",
       "      <td>away</td>\n",
       "      <td>Temple</td>\n",
       "      <td>13</td>\n",
       "      <td>W</td>\n",
       "      <td>NaN</td>\n",
       "    </tr>\n",
       "    <tr>\n",
       "      <th>4</th>\n",
       "      <td>2017-10-07</td>\n",
       "      <td>Sat</td>\n",
       "      <td>Houston</td>\n",
       "      <td>35</td>\n",
       "      <td>home</td>\n",
       "      <td>SMU</td>\n",
       "      <td>22</td>\n",
       "      <td>W</td>\n",
       "      <td>NaN</td>\n",
       "    </tr>\n",
       "  </tbody>\n",
       "</table>\n",
       "</div>"
      ],
      "text/plain": [
       "        Date  Day   School  Pts home_away    Opponent  Opp win_lost Notes\n",
       "0 2017-09-09  Sat  Houston   19      away     Arizona   16        W   NaN\n",
       "1 2017-09-16  Sat  Houston   38      home        Rice    3        W   NaN\n",
       "2 2017-09-23  Sat  Houston   24      home  Texas Tech   27        L   NaN\n",
       "3 2017-09-30  Sat  Houston   20      away      Temple   13        W   NaN\n",
       "4 2017-10-07  Sat  Houston   35      home         SMU   22        W   NaN"
      ]
     },
     "execution_count": 43,
     "metadata": {},
     "output_type": "execute_result"
    }
   ],
   "source": [
    "uh.head()"
   ]
  },
  {
   "cell_type": "markdown",
   "metadata": {},
   "source": [
    "## Reindex dataframe by date\n",
    "\n",
    "- reindex the dataframe and sort the dates"
   ]
  },
  {
   "cell_type": "code",
   "execution_count": 44,
   "metadata": {},
   "outputs": [],
   "source": [
    "uh = uh.set_index('Date').sort_index(ascending=True)"
   ]
  },
  {
   "cell_type": "code",
   "execution_count": 45,
   "metadata": {},
   "outputs": [
    {
     "data": {
      "text/html": [
       "<div>\n",
       "<style scoped>\n",
       "    .dataframe tbody tr th:only-of-type {\n",
       "        vertical-align: middle;\n",
       "    }\n",
       "\n",
       "    .dataframe tbody tr th {\n",
       "        vertical-align: top;\n",
       "    }\n",
       "\n",
       "    .dataframe thead th {\n",
       "        text-align: right;\n",
       "    }\n",
       "</style>\n",
       "<table border=\"1\" class=\"dataframe\">\n",
       "  <thead>\n",
       "    <tr style=\"text-align: right;\">\n",
       "      <th></th>\n",
       "      <th>Day</th>\n",
       "      <th>School</th>\n",
       "      <th>Pts</th>\n",
       "      <th>home_away</th>\n",
       "      <th>Opponent</th>\n",
       "      <th>Opp</th>\n",
       "      <th>win_lost</th>\n",
       "      <th>Notes</th>\n",
       "    </tr>\n",
       "    <tr>\n",
       "      <th>Date</th>\n",
       "      <th></th>\n",
       "      <th></th>\n",
       "      <th></th>\n",
       "      <th></th>\n",
       "      <th></th>\n",
       "      <th></th>\n",
       "      <th></th>\n",
       "      <th></th>\n",
       "    </tr>\n",
       "  </thead>\n",
       "  <tbody>\n",
       "    <tr>\n",
       "      <th>2008-08-30</th>\n",
       "      <td>Sat</td>\n",
       "      <td>Houston</td>\n",
       "      <td>55</td>\n",
       "      <td>home</td>\n",
       "      <td>Southern</td>\n",
       "      <td>3</td>\n",
       "      <td>W</td>\n",
       "      <td>NaN</td>\n",
       "    </tr>\n",
       "    <tr>\n",
       "      <th>2008-09-06</th>\n",
       "      <td>Sat</td>\n",
       "      <td>Houston</td>\n",
       "      <td>37</td>\n",
       "      <td>away</td>\n",
       "      <td>Oklahoma State</td>\n",
       "      <td>56</td>\n",
       "      <td>L</td>\n",
       "      <td>NaN</td>\n",
       "    </tr>\n",
       "    <tr>\n",
       "      <th>2008-09-13</th>\n",
       "      <td>Sat</td>\n",
       "      <td>Houston</td>\n",
       "      <td>28</td>\n",
       "      <td>home</td>\n",
       "      <td>Air Force</td>\n",
       "      <td>31</td>\n",
       "      <td>L</td>\n",
       "      <td>NaN</td>\n",
       "    </tr>\n",
       "    <tr>\n",
       "      <th>2008-09-20</th>\n",
       "      <td>Sat</td>\n",
       "      <td>Houston</td>\n",
       "      <td>25</td>\n",
       "      <td>away</td>\n",
       "      <td>Colorado State</td>\n",
       "      <td>28</td>\n",
       "      <td>L</td>\n",
       "      <td>NaN</td>\n",
       "    </tr>\n",
       "    <tr>\n",
       "      <th>2008-09-27</th>\n",
       "      <td>Sat</td>\n",
       "      <td>Houston</td>\n",
       "      <td>41</td>\n",
       "      <td>away</td>\n",
       "      <td>East Carolina</td>\n",
       "      <td>24</td>\n",
       "      <td>W</td>\n",
       "      <td>NaN</td>\n",
       "    </tr>\n",
       "  </tbody>\n",
       "</table>\n",
       "</div>"
      ],
      "text/plain": [
       "            Day   School  Pts home_away        Opponent  Opp win_lost Notes\n",
       "Date                                                                       \n",
       "2008-08-30  Sat  Houston   55      home        Southern    3        W   NaN\n",
       "2008-09-06  Sat  Houston   37      away  Oklahoma State   56        L   NaN\n",
       "2008-09-13  Sat  Houston   28      home       Air Force   31        L   NaN\n",
       "2008-09-20  Sat  Houston   25      away  Colorado State   28        L   NaN\n",
       "2008-09-27  Sat  Houston   41      away   East Carolina   24        W   NaN"
      ]
     },
     "execution_count": 45,
     "metadata": {},
     "output_type": "execute_result"
    }
   ],
   "source": [
    "uh.head()"
   ]
  },
  {
   "cell_type": "markdown",
   "metadata": {},
   "source": [
    "## Save clean data to  to csv"
   ]
  },
  {
   "cell_type": "code",
   "execution_count": 46,
   "metadata": {},
   "outputs": [],
   "source": [
    "uh.to_csv('clean_data/uh_08_17_clean.csv')"
   ]
  },
  {
   "cell_type": "code",
   "execution_count": 47,
   "metadata": {},
   "outputs": [
    {
     "name": "stdout",
     "output_type": "stream",
     "text": [
      "\u001b[0m\u001b[01;32mastros_08_17_clean.csv\u001b[0m*  \u001b[01;32mrice_08_17_clean.csv\u001b[0m*  \u001b[01;32muh_08_17_clean.csv\u001b[0m*\r\n"
     ]
    }
   ],
   "source": [
    "ls clean_data/"
   ]
  },
  {
   "cell_type": "code",
   "execution_count": 48,
   "metadata": {},
   "outputs": [],
   "source": [
    "##Finish"
   ]
  },
  {
   "cell_type": "code",
   "execution_count": null,
   "metadata": {},
   "outputs": [],
   "source": []
  }
 ],
 "metadata": {
  "kernelspec": {
   "display_name": "Python 3",
   "language": "python",
   "name": "python3"
  },
  "language_info": {
   "codemirror_mode": {
    "name": "ipython",
    "version": 3
   },
   "file_extension": ".py",
   "mimetype": "text/x-python",
   "name": "python",
   "nbconvert_exporter": "python",
   "pygments_lexer": "ipython3",
   "version": "3.6.4"
  }
 },
 "nbformat": 4,
 "nbformat_minor": 2
}
