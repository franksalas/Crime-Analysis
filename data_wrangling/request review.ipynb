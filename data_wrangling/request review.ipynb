{
 "cells": [
  {
   "cell_type": "markdown",
   "metadata": {},
   "source": [
    "# Requests: HTTP for Humans\n",
    "\n",
    "## Quickstart\n"
   ]
  },
  {
   "cell_type": "code",
   "execution_count": 4,
   "metadata": {},
   "outputs": [],
   "source": [
    "import requests"
   ]
  },
  {
   "cell_type": "code",
   "execution_count": 5,
   "metadata": {},
   "outputs": [],
   "source": [
    "r = requests.get('https://api.github.com/events')"
   ]
  },
  {
   "cell_type": "code",
   "execution_count": 7,
   "metadata": {},
   "outputs": [
    {
     "data": {
      "text/plain": [
       "<Response [200]>"
      ]
     },
     "execution_count": 7,
     "metadata": {},
     "output_type": "execute_result"
    }
   ],
   "source": [
    "r"
   ]
  },
  {
   "cell_type": "code",
   "execution_count": 9,
   "metadata": {},
   "outputs": [],
   "source": [
    "r = requests.post('http://httpbin.org/post', data = {'key':'value'})"
   ]
  },
  {
   "cell_type": "code",
   "execution_count": 10,
   "metadata": {},
   "outputs": [
    {
     "data": {
      "text/plain": [
       "<Response [200]>"
      ]
     },
     "execution_count": 10,
     "metadata": {},
     "output_type": "execute_result"
    }
   ],
   "source": [
    "r"
   ]
  },
  {
   "cell_type": "markdown",
   "metadata": {},
   "source": [
    "# Passing Parameters In URLs\n"
   ]
  },
  {
   "cell_type": "code",
   "execution_count": 11,
   "metadata": {},
   "outputs": [],
   "source": [
    "payload = {'key1': 'value1', 'key2': 'value2'}\n",
    "r = requests.get('http://httpbin.org/get', params=payload)"
   ]
  },
  {
   "cell_type": "code",
   "execution_count": 12,
   "metadata": {},
   "outputs": [
    {
     "data": {
      "text/plain": [
       "'http://httpbin.org/get?key1=value1&key2=value2'"
      ]
     },
     "execution_count": 12,
     "metadata": {},
     "output_type": "execute_result"
    }
   ],
   "source": [
    "r.url"
   ]
  },
  {
   "cell_type": "markdown",
   "metadata": {},
   "source": [
    "You can also pass a list of items as a value:\n",
    "\n"
   ]
  },
  {
   "cell_type": "code",
   "execution_count": 13,
   "metadata": {},
   "outputs": [
    {
     "data": {
      "text/plain": [
       "'http://httpbin.org/get?key1=value1&key2=value2&key2=value3'"
      ]
     },
     "execution_count": 13,
     "metadata": {},
     "output_type": "execute_result"
    }
   ],
   "source": [
    "payload = {'key1': 'value1', 'key2': ['value2', 'value3']}\n",
    "r = requests.get('http://httpbin.org/get', params=payload)\n",
    "r.url"
   ]
  },
  {
   "cell_type": "markdown",
   "metadata": {},
   "source": [
    "## Response Content\n"
   ]
  },
  {
   "cell_type": "code",
   "execution_count": 14,
   "metadata": {},
   "outputs": [
    {
     "data": {
      "text/plain": [
       "'[{\"id\":\"7456911384\",\"type\":\"WatchEvent\",\"actor\":{\"id\":13096,\"login\":\"niw\",\"display_login\":\"niw\",\"gravatar_id\":\"\",\"url\":\"https://api.github.com/users/niw\",\"avatar_url\":\"https://avatars.githubusercontent.com/u/13096?\"},\"repo\":{\"id\":103700907,\"name\":\"GoogleCloudPlatform/metacontroller\",\"url\":\"https://api.github.com/repos/GoogleCloudPlatform/metacontroller\"},\"payload\":{\"action\":\"started\"},\"public\":true,\"created_at\":\"2018-03-30T00:26:46Z\",\"org\":{\"id\":2810941,\"login\":\"GoogleCloudPlatform\",\"gravatar_id\":\"\",\"url\":\"https://api.github.com/orgs/GoogleCloudPlatform\",\"avatar_url\":\"https://avatars.githubusercontent.com/u/2810941?\"}},{\"id\":\"7456911383\",\"type\":\"PushEvent\",\"actor\":{\"id\":11704878,\"login\":\"libbylg\",\"display_login\":\"libbylg\",\"gravatar_id\":\"\",\"url\":\"https://api.github.com/users/libbylg\",\"avatar_url\":\"https://avatars.githubusercontent.com/u/11704878?\"},\"repo\":{\"id\":126342287,\"name\":\"libbylg/smq\",\"url\":\"https://api.github.com/repos/libbylg/smq\"},\"payload\":{\"push_id\":2444645331,\"size\":1,\"distinct_size\":1,\"ref\":\"refs/heads/master\",\"head\":\"fd78866bc5b77eb6e37008eca41dbcd0ba0d0845\",\"before\":\"e4c8fd1f67deb9b6d61105a3d0ddb70266819714\",\"commits\":[{\"sha\":\"fd78866bc5b77eb6e37008eca41dbcd0ba0d0845\",\"author\":{\"email\":\"libbylg@126.com\",\"name\":\"libbylg\"},\"message\":\"消息的创建和销毁完成\",\"distinct\":true,\"url\":\"https://api.github.com/repos/libbylg/smq/commits/fd78866bc5b77eb6e37008eca41dbcd0ba0d0845\"}]},\"public\":true,\"created_at\":\"2018-03-30T00:26:46Z\"},{\"id\":\"7456911378\",\"type\":\"PushEvent\",\"actor\":{\"id\":13323303,\"login\":\"suzuki-shunsuke\",\"display_login\":\"suzuki-shunsuke\",\"gravatar_id\":\"\",\"url\":\"https://api.github.com/users/suzuki-shunsuke\",\"avatar_url\":\"https://avatars.githubusercontent.com/u/13323303?\"},\"repo\":{\"id\":127004532,\"name\":\"suzuki-shunsuke/go-set\",\"url\":\"https://api.github.com/repos/suzuki-shunsuke/go-set\"},\"payload\":{\"push_id\":2444645326,\"size\":5,\"distinct_size\":1,\"ref\":\"refs/heads/master\",\"head\":\"373e20e1e6bf68ca52a37396908d48ab10c514a7\",\"before\":\"360bd68baaa884d620b4f0f4ad5ff42c16f6ac1f\",\"commits\":[{\"sha\":\"9f6a18bc5f5b31137e51570cdf1a866ca1bfb3b3\",\"author\":{\"email\":\"suzuki.shunsuke.1989@gmail.com\",\"name\":\"Suzuki Shunsuke\"},\"message\":\"perf: improve MapstructureDecodeHookFromListToStrSet\",\"distinct\":false,\"url\":\"https://api.github.com/repos/suzuki-shunsuke/go-set/commits/9f6a18bc5f5b31137e51570cdf1a866ca1bfb3b3\"},{\"sha\":\"e2ec3c64b73bcb1562a33bea2048b0bc43861ee8\",\"author\":{\"email\":\"suzuki.shunsuke.1989@gmail.com\",\"name\":\"Suzuki Shunsuke\"},\"message\":\"fix: fix comment\",\"distinct\":false,\"url\":\"https://api.github.com/repos/suzuki-shunsuke/go-set/commits/e2ec3c64b73bcb1562a33bea2048b0bc43861ee8\"},{\"sha\":\"69c7a34ce62096007d0c7d365ffb4e43f6707127\",\"author\":{\"email\":\"suzuki.shunsuke.1989@gmail.com\",\"name\":\"Suzuki Shunsuke\"},\"message\":\"refactor: refactor with gofmt\",\"distinct\":false,\"url\":\"https://api.github.com/repos/suzuki-shunsuke/go-set/commits/69c7a34ce62096007d0c7d365ffb4e43f6707127\"},{\"sha\":\"a4b07217482165f918191754d85d5ae93b29a6af\",\"author\":{\"email\":\"suzuki.shunsuke.1989@gmail.com\",\"name\":\"Suzuki Shunsuke\"},\"message\":\"docs: add the status badge of Go Report Card\\\\n\\\\nhttps://goreportcard.com/report/github.com/suzuki-shunsuke/go-set\",\"distinct\":false,\"url\":\"https://api.github.com/repos/suzuki-shunsuke/go-set/commits/a4b07217482165f918191754d85d5ae93b29a6af\"},{\"sha\":\"373e20e1e6bf68ca52a37396908d48ab10c514a7\",\"author\":{\"email\":\"suzuki-shunsuke@users.noreply.github.com\",\"name\":\"Suzuki Shunsuke\"},\"message\":\"Merge pull request #8 from suzuki-shunsuke/perf-decodehook\\\\n\\\\nPerf decodehook\",\"distinct\":true,\"url\":\"https://api.github.com/repos/suzuki-shunsuke/go-set/commits/373e20e1e6bf68ca52a37396908d48ab10c514a7\"}]},\"public\":true,\"created_at\":\"2018-03-30T00:26:46Z\"},{\"id\":\"7456911374\",\"type\":\"IssueCommentEvent\",\"actor\":{\"id\":11889765,\"login\":\"ashleytqy\",\"display_login\":\"ashleytqy\",\"gravatar_id\":\"\",\"url\":\"https://api.github.com/users/ashleytqy\",\"avatar_url\":\"https://avatars.githubusercontent.com/u/11889765?\"},\"repo\":{\"id\":21781890,\"name\":\"TechAtNYU/intranet\",\"url\":\"https://api.github.com/repos/TechAtNYU/intranet\"},\"payload\":{\"action\":\"created\",\"issue\":{\"url\":\"https://api.github.com/repos/TechAtNYU/intranet/issues/200\",\"repository_url\":\"https://api.github.com/repos/TechAtNYU/intranet\",\"labels_url\":\"https://api.github.com/repos/TechAtNYU/intranet/issues/200/labels{/name}\",\"comments_url\":\"https://api.github.com/repos/TechAtNYU/intranet/issues/200/comments\",\"events_url\":\"https://api.github.com/repos/TechAtNYU/intranet/issues/200/events\",\"html_url\":\"https://github.com/TechAtNYU/intranet/pull/200\",\"id\":309572576,\"number\":200,\"title\":\"Converting Date/Time to EST\",\"user\":{\"login\":\"ashley\",\"id\":2825071,\"avatar_url\":\"https://avatars0.githubusercontent.com/u/2825071?v=4\",\"gravatar_id\":\"\",\"url\":\"https://api.github.com/users/ashley\",\"html_url\":\"https://github.com/ashley\",\"followers_url\":\"https://api.github.com/users/ashley/followers\",\"following_url\":\"https://api.github.com/users/ashley/following{/other_user}\",\"gists_url\":\"https://api.github.com/users/ashley/gists{/gist_id}\",\"starred_url\":\"https://api.github.com/users/ashley/starred{/owner}{/repo}\",\"subscriptions_url\":\"https://api.github.com/users/ashley/subscriptions\",\"organizations_url\":\"https://api.github.com/users/ashley/orgs\",\"repos_url\":\"https://api.github.com/users/ashley/repos\",\"events_url\":\"https://api.github.com/users/ashley/events{/privacy}\",\"received_events_url\":\"https://api.github.com/users/ashley/received_events\",\"type\":\"User\",\"site_admin\":false},\"labels\":[],\"state\":\"open\",\"locked\":false,\"assignee\":null,\"assignees\":[],\"milestone\":null,\"comments\":0,\"created_at\":\"2018-03-28T23:53:16Z\",\"updated_at\":\"2018-03-30T00:26:46Z\",\"closed_at\":null,\"author_association\":\"MEMBER\",\"pull_request\":{\"url\":\"https://api.github.com/repos/TechAtNYU/intranet/pulls/200\",\"html_url\":\"https://github.com/TechAtNYU/intranet/pull/200\",\"diff_url\":\"https://github.com/TechAtNYU/intranet/pull/200.diff\",\"patch_url\":\"https://github.com/TechAtNYU/intranet/pull/200.patch\"},\"body\":\"For Issue #170 \\\\r\\\\n* Created functions in preProcess to reformat dates and times to EST.\\\\r\\\\n* Implemented this function to created and modified fields for all forms (including default controller)\\\\r\\\\n\\\\r\\\\nQuestion: preProcess.prettifyDate() can be replaced with moment functions. Should I refactored that?\"},\"comment\":{\"url\":\"https://api.github.com/repos/TechAtNYU/intranet/issues/comments/377411407\",\"html_url\":\"https://github.com/TechAtNYU/intranet/pull/200#issuecomment-377411407\",\"issue_url\":\"https://api.github.com/repos/TechAtNYU/intranet/issues/200\",\"id\":377411407,\"user\":{\"login\":\"ashleytqy\",\"id\":11889765,\"avatar_url\":\"https://avatars3.githubusercontent.com/u/11889765?v=4\",\"gravatar_id\":\"\",\"url\":\"https://api.github.com/users/ashleytqy\",\"html_url\":\"https://github.com/ashleytqy\",\"followers_url\":\"https://api.github.com/users/ashleytqy/followers\",\"following_url\":\"https://api.github.com/users/ashleytqy/following{/other_user}\",\"gists_url\":\"https://api.github.com/users/ashleytqy/gists{/gist_id}\",\"starred_url\":\"https://api.github.com/users/ashleytqy/starred{/owner}{/repo}\",\"subscriptions_url\":\"https://api.github.com/users/ashleytqy/subscriptions\",\"organizations_url\":\"https://api.github.com/users/ashleytqy/orgs\",\"repos_url\":\"https://api.github.com/users/ashleytqy/repos\",\"events_url\":\"https://api.github.com/users/ashleytqy/events{/privacy}\",\"received_events_url\":\"https://api.github.com/users/ashleytqy/received_events\",\"type\":\"User\",\"site_admin\":false},\"created_at\":\"2018-03-30T00:26:46Z\",\"updated_at\":\"2018-03-30T00:26:46Z\",\"author_association\":\"CONTRIBUTOR\",\"body\":\"> Question: preProcess.prettifyDate() can be replaced with moment functions. Should I refactored that?\\\\r\\\\n\\\\r\\\\nSure, go ahead!\"}},\"public\":true,\"created_at\":\"2018-03-30T00:26:46Z\",\"org\":{\"id\":1698981,\"login\":\"TechAtNYU\",\"gravatar_id\":\"\",\"url\":\"https://api.github.com/orgs/TechAtNYU\",\"avatar_url\":\"https://avatars.githubusercontent.com/u/1698981?\"}},{\"id\":\"7456911372\",\"type\":\"PushEvent\",\"actor\":{\"id\":12628315,\"login\":\"weiqin61\",\"display_login\":\"weiqin61\",\"gravatar_id\":\"\",\"url\":\"https://api.github.com/users/weiqin61\",\"avatar_url\":\"https://avatars.githubusercontent.com/u/12628315?\"},\"repo\":{\"id\":121178914,\"name\":\"terraref/laser3d\",\"url\":\"https://api.github.com/repos/terraref/laser3d\"},\"payload\":{\"push_id\":2444645324,\"size\":12,\"distinct_size\":1,\"ref\":\"refs/heads/lasmerge\",\"head\":\"d4e9fdc8d5b185c51ad00b51a93ee239102455f2\",\"before\":\"43607fe9e6abb9f8f278ad7a56e114e1d4507f4a\",\"commits\":[{\"sha\":\"e7963f9e0990ed78e6f86e85500fd2d6a671ccd5\",\"author\":{\"email\":\"mburnet2@illinois.com\",\"name\":\"Max Burnette\"},\"message\":\"remove LAStools and extractor files\",\"distinct\":false,\"url\":\"https://api.github.com/repos/terraref/laser3d/commits/e7963f9e0990ed78e6f86e85500fd2d6a671ccd5\"},{\"sha\":\"799d8afc4f509c8c0e75f582499c61cfa9e128c6\",\"author\":{\"email\":\"mburnet2@illinois.com\",\"name\":\"Max Burnette\"},\"message\":\"combine code into one file\",\"distinct\":false,\"url\":\"https://api.github.com/repos/terraref/laser3d/commits/799d8afc4f509c8c0e75f582499c61cfa9e128c6\"},{\"sha\":\"359d4a47428e1010a81df98ee0dad2eb197396cd\",\"author\":{\"email\":\"mburnet2@illinois.com\",\"name\":\"Max Burnette\"},\"message\":\"remove lasmerge\",\"distinct\":false,\"url\":\"https://api.github.com/repos/terraref/laser3d/commits/359d4a47428e1010a81df98ee0dad2eb197396cd\"},{\"sha\":\"e821965c8a0afa156ef0630a1ad351995577a37b\",\"author\":{\"email\":\"mburnet2@illinois.com\",\"name\":\"Max Burnette\"},\"message\":\"add replacements for lasmerge, las2dem\",\"distinct\":false,\"url\":\"https://api.github.com/repos/terraref/laser3d/commits/e821965c8a0afa156ef0630a1ad351995577a37b\"},{\"sha\":\"1d68d0f2e2bd5600fe4953bee6adec371ecc2fbb\",\"author\":{\"email\":\"mburnet2@illinois.com\",\"name\":\"Max Burnette\"},\"message\":\"add stub for generating slope code\",\"distinct\":false,\"url\":\"https://api.github.com/repos/terraref/laser3d/commits/1d68d0f2e2bd5600fe4953bee6adec371ecc2fbb\"},{\"sha\":\"403a99f0f921bc3aa9c3c5d63a4863ccffb4dea6\",\"author\":{\"email\":\"mburnet2@illinois.com\",\"name\":\"Max Burnette\"},\"message\":\"Update readme with install instructions\",\"distinct\":false,\"url\":\"https://api.github.com/repos/terraref/laser3d/commits/403a99f0f921bc3aa9c3c5d63a4863ccffb4dea6\"},{\"sha\":\"c9928ea2f8a8e683f6185bfed857ce143bec5c8c\",\"author\":{\"email\":\"mburnet2@illinois.com\",\"name\":\"Max Burnette\"},\"message\":\"fix init for pipit\",\"distinct\":false,\"url\":\"https://api.github.com/repos/terraref/laser3d/commits/c9928ea2f8a8e683f6185bfed857ce143bec5c8c\"},{\"sha\":\"d7fcfde3b757b5f4435997d3dd0a0cc36b210ef4\",\"author\":{\"email\":\"mburnet2@illinois.com\",\"name\":\"Max Burnette\"},\"message\":\"change nodata to -1 instead of 0\",\"distinct\":false,\"url\":\"https://api.github.com/repos/terraref/laser3d/commits/d7fcfde3b757b5f4435997d3dd0a0cc36b210ef4\"},{\"sha\":\"5ed65160a50d007c1a910f7e7eafc9b009d38e84\",\"author\":{\"email\":\"mburnet2@illinois.com\",\"name\":\"Max Burnette\"},\"message\":\"update setup file\",\"distinct\":false,\"url\":\"https://api.github.com/repos/terraref/laser3d/commits/5ed65160a50d007c1a910f7e7eafc9b009d38e84\"},{\"sha\":\"a9f16f9e9914bce6808b0da556422ef0ea263de2\",\"author\":{\"email\":\"mburnet2@illinois.com\",\"name\":\"Max Burnette\"},\"message\":\"simplify readme\",\"distinct\":false,\"url\":\"https://api.github.com/repos/terraref/laser3d/commits/a9f16f9e9914bce6808b0da556422ef0ea263de2\"},{\"sha\":\"06753f2292f9183ff8c80764b45af1f19956708c\",\"author\":{\"email\":\"mburnet2@illinois.com\",\"name\":\"Max Burnette\"},\"message\":\"update readme\",\"distinct\":false,\"url\":\"https://api.github.com/repos/terraref/laser3d/commits/06753f2292f9183ff8c80764b45af1f19956708c\"},{\"sha\":\"d4e9fdc8d5b185c51ad00b51a93ee239102455f2\",\"author\":{\"email\":\"wei@agrible.com\",\"name\":\"WEI QIN\"},\"message\":\"Merge pull request #4 from terraref/lasmerge_no_lastools\\\\n\\\\nlaser3d functions without LAStools, everything works now on my end, I will compile the test based on the new function, also we can think of the next step.\",\"distinct\":true,\"url\":\"https://api.github.com/repos/terraref/laser3d/commits/d4e9fdc8d5b185c51ad00b51a93ee239102455f2\"}]},\"public\":true,\"created_at\":\"2018-03-30T00:26:46Z\",\"org\":{\"id\":12563787,\"login\":\"terraref\",\"gravatar_id\":\"\",\"url\":\"https://api.github.com/orgs/terraref\",\"avatar_url\":\"https://avatars.githubusercontent.com/u/12563787?\"}},{\"id\":\"7456911367\",\"type\":\"PushEvent\",\"actor\":{\"id\":17859728,\"login\":\"evalle07\",\"display_login\":\"evalle07\",\"gravatar_id\":\"\",\"url\":\"https://api.github.com/users/evalle07\",\"avatar_url\":\"https://avatars.githubusercontent.com/u/17859728?\"},\"repo\":{\"id\":121296054,\"name\":\"evalle07/tesis\",\"url\":\"https://api.github.com/repos/evalle07/tesis\"},\"payload\":{\"push_id\":2444645322,\"size\":1,\"distinct_size\":1,\"ref\":\"refs/heads/master\",\"head\":\"af15b94f841b11e3251b056244f0cf87da42027b\",\"before\":\"abdc1012ad133e20b011c24544bf828e9196ba59\",\"commits\":[{\"sha\":\"af15b94f841b11e3251b056244f0cf87da42027b\",\"author\":{\"email\":\"edgarvallemr@gmail.com\",\"name\":\"Unknown\"},\"message\":\"fix: validar que usuario administrador pueda eliminar comentario\",\"distinct\":true,\"url\":\"https://api.github.com/repos/evalle07/tesis/commits/af15b94f841b11e3251b056244f0cf87da42027b\"}]},\"public\":true,\"created_at\":\"2018-03-30T00:26:46Z\"},{\"id\":\"7456911361\",\"type\":\"PushEvent\",\"actor\":{\"id\":545960,\"login\":\"strehlst\",\"display_login\":\"strehlst\",\"gravatar_id\":\"\",\"url\":\"https://api.github.com/users/strehlst\",\"avatar_url\":\"https://avatars.githubusercontent.com/u/545960?\"},\"repo\":{\"id\":122850440,\"name\":\"strehlst/what-would-you-do\",\"url\":\"https://api.github.com/repos/strehlst/what-would-you-do\"},\"payload\":{\"push_id\":2444645319,\"size\":4,\"distinct_size\":4,\"ref\":\"refs/heads/46-User-avatar-upload\",\"head\":\"38f17771de8892ab90c3ddd4dd13706fa6f750f3\",\"before\":\"315f85757ff36b7478451408b44922489a4c6a0a\",\"commits\":[{\"sha\":\"f3334781c4579c7367b0cdc38ca53703b6bc2d9c\",\"author\":{\"email\":\"strehl@szenar.io\",\"name\":\"strehlst\"},\"message\":\"Update views\",\"distinct\":true,\"url\":\"https://api.github.com/repos/strehlst/what-would-you-do/commits/f3334781c4579c7367b0cdc38ca53703b6bc2d9c\"},{\"sha\":\"6555ae71648c940a2b877ad62ea92517c7217383\",\"author\":{\"email\":\"strehl@szenar.io\",\"name\":\"strehlst\"},\"message\":\"Manage authorization with CanCan\",\"distinct\":true,\"url\":\"https://api.github.com/repos/strehlst/what-would-you-do/commits/6555ae71648c940a2b877ad62ea92517c7217383\"},{\"sha\":\"9341266d0707a4fa30b820bcfe4758c64495edab\",\"author\":{\"email\":\"strehl@szenar.io\",\"name\":\"strehlst\"},\"message\":\"Upload logic\",\"distinct\":true,\"url\":\"https://api.github.com/repos/strehlst/what-would-you-do/commits/9341266d0707a4fa30b820bcfe4758c64495edab\"},{\"sha\":\"38f17771de8892ab90c3ddd4dd13706fa6f750f3\",\"author\":{\"email\":\"strehl@szenar.io\",\"name\":\"strehlst\"},\"message\":\"Update translations\",\"distinct\":true,\"url\":\"https://api.github.com/repos/strehlst/what-would-you-do/commits/38f17771de8892ab90c3ddd4dd13706fa6f750f3\"}]},\"public\":true,\"created_at\":\"2018-03-30T00:26:46Z\"},{\"id\":\"7456911359\",\"type\":\"PushEvent\",\"actor\":{\"id\":7451578,\"login\":\"davidjoffe\",\"display_login\":\"davidjoffe\",\"gravatar_id\":\"\",\"url\":\"https://api.github.com/users/davidjoffe\",\"avatar_url\":\"https://avatars.githubusercontent.com/u/7451578?\"},\"repo\":{\"id\":70349686,\"name\":\"davidjoffe/dave_gnukem\",\"url\":\"https://api.github.com/repos/davidjoffe/dave_gnukem\"},\"payload\":{\"push_id\":2444645318,\"size\":1,\"distinct_size\":1,\"ref\":\"refs/heads/master\",\"head\":\"4189d3c2d5e807a3a11e94c95a601eeaa350f644\",\"before\":\"f432cb10a0d529dae85d0b922c73f5f2fc907e44\",\"commits\":[{\"sha\":\"4189d3c2d5e807a3a11e94c95a601eeaa350f644\",\"author\":{\"email\":\"david.joffe@tshwanedje.com\",\"name\":\"davidjoffe\"},\"message\":\"Remove fixme saying the shoot-all-cameras bonus is \\'not implemented\\' (I just tested, it is - though what isn\\'t tested is that within the levels there aren\\'t cameras impossible to reach)\",\"distinct\":true,\"url\":\"https://api.github.com/repos/davidjoffe/dave_gnukem/commits/4189d3c2d5e807a3a11e94c95a601eeaa350f644\"}]},\"public\":true,\"created_at\":\"2018-03-30T00:26:46Z\"},{\"id\":\"7456911358\",\"type\":\"PushEvent\",\"actor\":{\"id\":5718823,\"login\":\"meganukebmp\",\"display_login\":\"meganukebmp\",\"gravatar_id\":\"\",\"url\":\"https://api.github.com/users/meganukebmp\",\"avatar_url\":\"https://avatars.githubusercontent.com/u/5718823?\"},\"repo\":{\"id\":126895417,\"name\":\"TeamMoskvich/android_device_motorola_msm8226-common\",\"url\":\"https://api.github.com/repos/TeamMoskvich/android_device_motorola_msm8226-common\"},\"payload\":{\"push_id\":2444645317,\"size\":1,\"distinct_size\":1,\"ref\":\"refs/heads/lineage-15.1\",\"head\":\"d8a21fea5529ea830f8da11de7e9d1f5d5b13edb\",\"before\":\"533f9433e7ab2fffbec1940f42ca6ea5deb68571\",\"commits\":[{\"sha\":\"d8a21fea5529ea830f8da11de7e9d1f5d5b13edb\",\"author\":{\"email\":\"dan.pasanen@gmail.com\",\"name\":\"Dan Pasanen\"},\"message\":\"titan: add shim for wifi_qsap_set_tx_power\\\\n\\\\nChange-Id: I9ef277db6f4e068e7b92710f6039b4f261d72282\",\"distinct\":true,\"url\":\"https://api.github.com/repos/TeamMoskvich/android_device_motorola_msm8226-common/commits/d8a21fea5529ea830f8da11de7e9d1f5d5b13edb\"}]},\"public\":true,\"created_at\":\"2018-03-30T00:26:46Z\",\"org\":{\"id\":37814171,\"login\":\"TeamMoskvich\",\"gravatar_id\":\"\",\"url\":\"https://api.github.com/orgs/TeamMoskvich\",\"avatar_url\":\"https://avatars.githubusercontent.com/u/37814171?\"}},{\"id\":\"7456911357\",\"type\":\"PullRequestEvent\",\"actor\":{\"id\":13323303,\"login\":\"suzuki-shunsuke\",\"display_login\":\"suzuki-shunsuke\",\"gravatar_id\":\"\",\"url\":\"https://api.github.com/users/suzuki-shunsuke\",\"avatar_url\":\"https://avatars.githubusercontent.com/u/13323303?\"},\"repo\":{\"id\":127004532,\"name\":\"suzuki-shunsuke/go-set\",\"url\":\"https://api.github.com/repos/suzuki-shunsuke/go-set\"},\"payload\":{\"action\":\"closed\",\"number\":8,\"pull_request\":{\"url\":\"https://api.github.com/repos/suzuki-shunsuke/go-set/pulls/8\",\"id\":178467982,\"html_url\":\"https://github.com/suzuki-shunsuke/go-set/pull/8\",\"diff_url\":\"https://github.com/suzuki-shunsuke/go-set/pull/8.diff\",\"patch_url\":\"https://github.com/suzuki-shunsuke/go-set/pull/8.patch\",\"issue_url\":\"https://api.github.com/repos/suzuki-shunsuke/go-set/issues/8\",\"number\":8,\"state\":\"closed\",\"locked\":false,\"title\":\"Perf decodehook\",\"user\":{\"login\":\"suzuki-shunsuke\",\"id\":13323303,\"avatar_url\":\"https://avatars1.githubusercontent.com/u/13323303?v=4\",\"gravatar_id\":\"\",\"url\":\"https://api.github.com/users/suzuki-shunsuke\",\"html_url\":\"https://github.com/suzuki-shunsuke\",\"followers_url\":\"https://api.github.com/users/suzuki-shunsuke/followers\",\"following_url\":\"https://api.github.com/users/suzuki-shunsuke/following{/other_user}\",\"gists_url\":\"https://api.github.com/users/suzuki-shunsuke/gists{/gist_id}\",\"starred_url\":\"https://api.github.com/users/suzuki-shunsuke/starred{/owner}{/repo}\",\"subscriptions_url\":\"https://api.github.com/users/suzuki-shunsuke/subscriptions\",\"organizations_url\":\"https://api.github.com/users/suzuki-shunsuke/orgs\",\"repos_url\":\"https://api.github.com/users/suzuki-shunsuke/repos\",\"events_url\":\"https://api.github.com/users/suzuki-shunsuke/events{/privacy}\",\"received_events_url\":\"https://api.github.com/users/suzuki-shunsuke/received_events\",\"type\":\"User\",\"site_admin\":false},\"body\":\"\",\"created_at\":\"2018-03-29T23:52:14Z\",\"updated_at\":\"2018-03-30T00:26:45Z\",\"closed_at\":\"2018-03-30T00:26:45Z\",\"merged_at\":\"2018-03-30T00:26:45Z\",\"merge_commit_sha\":\"373e20e1e6bf68ca52a37396908d48ab10c514a7\",\"assignee\":null,\"assignees\":[],\"requested_reviewers\":[],\"requested_teams\":[],\"labels\":[],\"milestone\":null,\"commits_url\":\"https://api.github.com/repos/suzuki-shunsuke/go-set/pulls/8/commits\",\"review_comments_url\":\"https://api.github.com/repos/suzuki-shunsuke/go-set/pulls/8/comments\",\"review_comment_url\":\"https://api.github.com/repos/suzuki-shunsuke/go-set/pulls/comments{/number}\",\"comments_url\":\"https://api.github.com/repos/suzuki-shunsuke/go-set/issues/8/comments\",\"statuses_url\":\"https://api.github.com/repos/suzuki-shunsuke/go-set/statuses/a4b07217482165f918191754d85d5ae93b29a6af\",\"head\":{\"label\":\"suzuki-shunsuke:perf-decodehook\",\"ref\":\"perf-decodehook\",\"sha\":\"a4b07217482165f918191754d85d5ae93b29a6af\",\"user\":{\"login\":\"suzuki-shunsuke\",\"id\":13323303,\"avatar_url\":\"https://avatars1.githubusercontent.com/u/13323303?v=4\",\"gravatar_id\":\"\",\"url\":\"https://api.github.com/users/suzuki-shunsuke\",\"html_url\":\"https://github.com/suzuki-shunsuke\",\"followers_url\":\"https://api.github.com/users/suzuki-shunsuke/followers\",\"following_url\":\"https://api.github.com/users/suzuki-shunsuke/following{/other_user}\",\"gists_url\":\"https://api.github.com/users/suzuki-shunsuke/gists{/gist_id}\",\"starred_url\":\"https://api.github.com/users/suzuki-shunsuke/starred{/owner}{/repo}\",\"subscriptions_url\":\"https://api.github.com/users/suzuki-shunsuke/subscriptions\",\"organizations_url\":\"https://api.github.com/users/suzuki-shunsuke/orgs\",\"repos_url\":\"https://api.github.com/users/suzuki-shunsuke/repos\",\"events_url\":\"https://api.github.com/users/suzuki-shunsuke/events{/privacy}\",\"received_events_url\":\"https://api.github.com/users/suzuki-shunsuke/received_events\",\"type\":\"User\",\"site_admin\":false},\"repo\":{\"id\":127004532,\"name\":\"go-set\",\"full_name\":\"suzuki-shunsuke/go-set\",\"owner\":{\"login\":\"suzuki-shunsuke\",\"id\":13323303,\"avatar_url\":\"https://avatars1.githubusercontent.com/u/13323303?v=4\",\"gravatar_id\":\"\",\"url\":\"https://api.github.com/users/suzuki-shunsuke\",\"html_url\":\"https://github.com/suzuki-shunsuke\",\"followers_url\":\"https://api.github.com/users/suzuki-shunsuke/followers\",\"following_url\":\"https://api.github.com/users/suzuki-shunsuke/following{/other_user}\",\"gists_url\":\"https://api.github.com/users/suzuki-shunsuke/gists{/gist_id}\",\"starred_url\":\"https://api.github.com/users/suzuki-shunsuke/starred{/owner}{/repo}\",\"subscriptions_url\":\"https://api.github.com/users/suzuki-shunsuke/subscriptions\",\"organizations_url\":\"https://api.github.com/users/suzuki-shunsuke/orgs\",\"repos_url\":\"https://api.github.com/users/suzuki-shunsuke/repos\",\"events_url\":\"https://api.github.com/users/suzuki-shunsuke/events{/privacy}\",\"received_events_url\":\"https://api.github.com/users/suzuki-shunsuke/received_events\",\"type\":\"User\",\"site_admin\":false},\"private\":false,\"html_url\":\"https://github.com/suzuki-shunsuke/go-set\",\"description\":\"set data structure for golang\",\"fork\":false,\"url\":\"https://api.github.com/repos/suzuki-shunsuke/go-set\",\"forks_url\":\"https://api.github.com/repos/suzuki-shunsuke/go-set/forks\",\"keys_url\":\"https://api.github.com/repos/suzuki-shunsuke/go-set/keys{/key_id}\",\"collaborators_url\":\"https://api.github.com/repos/suzuki-shunsuke/go-set/collaborators{/collaborator}\",\"teams_url\":\"https://api.github.com/repos/suzuki-shunsuke/go-set/teams\",\"hooks_url\":\"https://api.github.com/repos/suzuki-shunsuke/go-set/hooks\",\"issue_events_url\":\"https://api.github.com/repos/suzuki-shunsuke/go-set/issues/events{/number}\",\"events_url\":\"https://api.github.com/repos/suzuki-shunsuke/go-set/events\",\"assignees_url\":\"https://api.github.com/repos/suzuki-shunsuke/go-set/assignees{/user}\",\"branches_url\":\"https://api.github.com/repos/suzuki-shunsuke/go-set/branches{/branch}\",\"tags_url\":\"https://api.github.com/repos/suzuki-shunsuke/go-set/tags\",\"blobs_url\":\"https://api.github.com/repos/suzuki-shunsuke/go-set/git/blobs{/sha}\",\"git_tags_url\":\"https://api.github.com/repos/suzuki-shunsuke/go-set/git/tags{/sha}\",\"git_refs_url\":\"https://api.github.com/repos/suzuki-shunsuke/go-set/git/refs{/sha}\",\"trees_url\":\"https://api.github.com/repos/suzuki-shunsuke/go-set/git/trees{/sha}\",\"statuses_url\":\"https://api.github.com/repos/suzuki-shunsuke/go-set/statuses/{sha}\",\"languages_url\":\"https://api.github.com/repos/suzuki-shunsuke/go-set/languages\",\"stargazers_url\":\"https://api.github.com/repos/suzuki-shunsuke/go-set/stargazers\",\"contributors_url\":\"https://api.github.com/repos/suzuki-shunsuke/go-set/contributors\",\"subscribers_url\":\"https://api.github.com/repos/suzuki-shunsuke/go-set/subscribers\",\"subscription_url\":\"https://api.github.com/repos/suzuki-shunsuke/go-set/subscription\",\"commits_url\":\"https://api.github.com/repos/suzuki-shunsuke/go-set/commits{/sha}\",\"git_commits_url\":\"https://api.github.com/repos/suzuki-shunsuke/go-set/git/commits{/sha}\",\"comments_url\":\"https://api.github.com/repos/suzuki-shunsuke/go-set/comments{/number}\",\"issue_comment_url\":\"https://api.github.com/repos/suzuki-shunsuke/go-set/issues/comments{/number}\",\"contents_url\":\"https://api.github.com/repos/suzuki-shunsuke/go-set/contents/{+path}\",\"compare_url\":\"https://api.github.com/repos/suzuki-shunsuke/go-set/compare/{base}...{head}\",\"merges_url\":\"https://api.github.com/repos/suzuki-shunsuke/go-set/merges\",\"archive_url\":\"https://api.github.com/repos/suzuki-shunsuke/go-set/{archive_format}{/ref}\",\"downloads_url\":\"https://api.github.com/repos/suzuki-shunsuke/go-set/downloads\",\"issues_url\":\"https://api.github.com/repos/suzuki-shunsuke/go-set/issues{/number}\",\"pulls_url\":\"https://api.github.com/repos/suzuki-shunsuke/go-set/pulls{/number}\",\"milestones_url\":\"https://api.github.com/repos/suzuki-shunsuke/go-set/milestones{/number}\",\"notifications_url\":\"https://api.github.com/repos/suzuki-shunsuke/go-set/notifications{?since,all,participating}\",\"labels_url\":\"https://api.github.com/repos/suzuki-shunsuke/go-set/labels{/name}\",\"releases_url\":\"https://api.github.com/repos/suzuki-shunsuke/go-set/releases{/id}\",\"deployments_url\":\"https://api.github.com/repos/suzuki-shunsuke/go-set/deployments\",\"created_at\":\"2018-03-27T15:04:45Z\",\"updated_at\":\"2018-03-29T13:34:41Z\",\"pushed_at\":\"2018-03-30T00:26:45Z\",\"git_url\":\"git://github.com/suzuki-shunsuke/go-set.git\",\"ssh_url\":\"git@github.com:suzuki-shunsuke/go-set.git\",\"clone_url\":\"https://github.com/suzuki-shunsuke/go-set.git\",\"svn_url\":\"https://github.com/suzuki-shunsuke/go-set\",\"homepage\":null,\"size\":112,\"stargazers_count\":0,\"watchers_count\":0,\"language\":\"Go\",\"has_issues\":true,\"has_projects\":true,\"has_downloads\":true,\"has_wiki\":true,\"has_pages\":false,\"forks_count\":0,\"mirror_url\":null,\"archived\":false,\"open_issues_count\":0,\"license\":{\"key\":\"mit\",\"name\":\"MIT License\",\"spdx_id\":\"MIT\",\"url\":\"https://api.github.com/licenses/mit\"},\"forks\":0,\"open_issues\":0,\"watchers\":0,\"default_branch\":\"master\"}},\"base\":{\"label\":\"suzuki-shunsuke:master\",\"ref\":\"master\",\"sha\":\"360bd68baaa884d620b4f0f4ad5ff42c16f6ac1f\",\"user\":{\"login\":\"suzuki-shunsuke\",\"id\":13323303,\"avatar_url\":\"https://avatars1.githubusercontent.com/u/13323303?v=4\",\"gravatar_id\":\"\",\"url\":\"https://api.github.com/users/suzuki-shunsuke\",\"html_url\":\"https://github.com/suzuki-shunsuke\",\"followers_url\":\"https://api.github.com/users/suzuki-shunsuke/followers\",\"following_url\":\"https://api.github.com/users/suzuki-shunsuke/following{/other_user}\",\"gists_url\":\"https://api.github.com/users/suzuki-shunsuke/gists{/gist_id}\",\"starred_url\":\"https://api.github.com/users/suzuki-shunsuke/starred{/owner}{/repo}\",\"subscriptions_url\":\"https://api.github.com/users/suzuki-shunsuke/subscriptions\",\"organizations_url\":\"https://api.github.com/users/suzuki-shunsuke/orgs\",\"repos_url\":\"https://api.github.com/users/suzuki-shunsuke/repos\",\"events_url\":\"https://api.github.com/users/suzuki-shunsuke/events{/privacy}\",\"received_events_url\":\"https://api.github.com/users/suzuki-shunsuke/received_events\",\"type\":\"User\",\"site_admin\":false},\"repo\":{\"id\":127004532,\"name\":\"go-set\",\"full_name\":\"suzuki-shunsuke/go-set\",\"owner\":{\"login\":\"suzuki-shunsuke\",\"id\":13323303,\"avatar_url\":\"https://avatars1.githubusercontent.com/u/13323303?v=4\",\"gravatar_id\":\"\",\"url\":\"https://api.github.com/users/suzuki-shunsuke\",\"html_url\":\"https://github.com/suzuki-shunsuke\",\"followers_url\":\"https://api.github.com/users/suzuki-shunsuke/followers\",\"following_url\":\"https://api.github.com/users/suzuki-shunsuke/following{/other_user}\",\"gists_url\":\"https://api.github.com/users/suzuki-shunsuke/gists{/gist_id}\",\"starred_url\":\"https://api.github.com/users/suzuki-shunsuke/starred{/owner}{/repo}\",\"subscriptions_url\":\"https://api.github.com/users/suzuki-shunsuke/subscriptions\",\"organizations_url\":\"https://api.github.com/users/suzuki-shunsuke/orgs\",\"repos_url\":\"https://api.github.com/users/suzuki-shunsuke/repos\",\"events_url\":\"https://api.github.com/users/suzuki-shunsuke/events{/privacy}\",\"received_events_url\":\"https://api.github.com/users/suzuki-shunsuke/received_events\",\"type\":\"User\",\"site_admin\":false},\"private\":false,\"html_url\":\"https://github.com/suzuki-shunsuke/go-set\",\"description\":\"set data structure for golang\",\"fork\":false,\"url\":\"https://api.github.com/repos/suzuki-shunsuke/go-set\",\"forks_url\":\"https://api.github.com/repos/suzuki-shunsuke/go-set/forks\",\"keys_url\":\"https://api.github.com/repos/suzuki-shunsuke/go-set/keys{/key_id}\",\"collaborators_url\":\"https://api.github.com/repos/suzuki-shunsuke/go-set/collaborators{/collaborator}\",\"teams_url\":\"https://api.github.com/repos/suzuki-shunsuke/go-set/teams\",\"hooks_url\":\"https://api.github.com/repos/suzuki-shunsuke/go-set/hooks\",\"issue_events_url\":\"https://api.github.com/repos/suzuki-shunsuke/go-set/issues/events{/number}\",\"events_url\":\"https://api.github.com/repos/suzuki-shunsuke/go-set/events\",\"assignees_url\":\"https://api.github.com/repos/suzuki-shunsuke/go-set/assignees{/user}\",\"branches_url\":\"https://api.github.com/repos/suzuki-shunsuke/go-set/branches{/branch}\",\"tags_url\":\"https://api.github.com/repos/suzuki-shunsuke/go-set/tags\",\"blobs_url\":\"https://api.github.com/repos/suzuki-shunsuke/go-set/git/blobs{/sha}\",\"git_tags_url\":\"https://api.github.com/repos/suzuki-shunsuke/go-set/git/tags{/sha}\",\"git_refs_url\":\"https://api.github.com/repos/suzuki-shunsuke/go-set/git/refs{/sha}\",\"trees_url\":\"https://api.github.com/repos/suzuki-shunsuke/go-set/git/trees{/sha}\",\"statuses_url\":\"https://api.github.com/repos/suzuki-shunsuke/go-set/statuses/{sha}\",\"languages_url\":\"https://api.github.com/repos/suzuki-shunsuke/go-set/languages\",\"stargazers_url\":\"https://api.github.com/repos/suzuki-shunsuke/go-set/stargazers\",\"contributors_url\":\"https://api.github.com/repos/suzuki-shunsuke/go-set/contributors\",\"subscribers_url\":\"https://api.github.com/repos/suzuki-shunsuke/go-set/subscribers\",\"subscription_url\":\"https://api.github.com/repos/suzuki-shunsuke/go-set/subscription\",\"commits_url\":\"https://api.github.com/repos/suzuki-shunsuke/go-set/commits{/sha}\",\"git_commits_url\":\"https://api.github.com/repos/suzuki-shunsuke/go-set/git/commits{/sha}\",\"comments_url\":\"https://api.github.com/repos/suzuki-shunsuke/go-set/comments{/number}\",\"issue_comment_url\":\"https://api.github.com/repos/suzuki-shunsuke/go-set/issues/comments{/number}\",\"contents_url\":\"https://api.github.com/repos/suzuki-shunsuke/go-set/contents/{+path}\",\"compare_url\":\"https://api.github.com/repos/suzuki-shunsuke/go-set/compare/{base}...{head}\",\"merges_url\":\"https://api.github.com/repos/suzuki-shunsuke/go-set/merges\",\"archive_url\":\"https://api.github.com/repos/suzuki-shunsuke/go-set/{archive_format}{/ref}\",\"downloads_url\":\"https://api.github.com/repos/suzuki-shunsuke/go-set/downloads\",\"issues_url\":\"https://api.github.com/repos/suzuki-shunsuke/go-set/issues{/number}\",\"pulls_url\":\"https://api.github.com/repos/suzuki-shunsuke/go-set/pulls{/number}\",\"milestones_url\":\"https://api.github.com/repos/suzuki-shunsuke/go-set/milestones{/number}\",\"notifications_url\":\"https://api.github.com/repos/suzuki-shunsuke/go-set/notifications{?since,all,participating}\",\"labels_url\":\"https://api.github.com/repos/suzuki-shunsuke/go-set/labels{/name}\",\"releases_url\":\"https://api.github.com/repos/suzuki-shunsuke/go-set/releases{/id}\",\"deployments_url\":\"https://api.github.com/repos/suzuki-shunsuke/go-set/deployments\",\"created_at\":\"2018-03-27T15:04:45Z\",\"updated_at\":\"2018-03-29T13:34:41Z\",\"pushed_at\":\"2018-03-30T00:26:45Z\",\"git_url\":\"git://github.com/suzuki-shunsuke/go-set.git\",\"ssh_url\":\"git@github.com:suzuki-shunsuke/go-set.git\",\"clone_url\":\"https://github.com/suzuki-shunsuke/go-set.git\",\"svn_url\":\"https://github.com/suzuki-shunsuke/go-set\",\"homepage\":null,\"size\":112,\"stargazers_count\":0,\"watchers_count\":0,\"language\":\"Go\",\"has_issues\":true,\"has_projects\":true,\"has_downloads\":true,\"has_wiki\":true,\"has_pages\":false,\"forks_count\":0,\"mirror_url\":null,\"archived\":false,\"open_issues_count\":0,\"license\":{\"key\":\"mit\",\"name\":\"MIT License\",\"spdx_id\":\"MIT\",\"url\":\"https://api.github.com/licenses/mit\"},\"forks\":0,\"open_issues\":0,\"watchers\":0,\"default_branch\":\"master\"}},\"_links\":{\"self\":{\"href\":\"https://api.github.com/repos/suzuki-shunsuke/go-set/pulls/8\"},\"html\":{\"href\":\"https://github.com/suzuki-shunsuke/go-set/pull/8\"},\"issue\":{\"href\":\"https://api.github.com/repos/suzuki-shunsuke/go-set/issues/8\"},\"comments\":{\"href\":\"https://api.github.com/repos/suzuki-shunsuke/go-set/issues/8/comments\"},\"review_comments\":{\"href\":\"https://api.github.com/repos/suzuki-shunsuke/go-set/pulls/8/comments\"},\"review_comment\":{\"href\":\"https://api.github.com/repos/suzuki-shunsuke/go-set/pulls/comments{/number}\"},\"commits\":{\"href\":\"https://api.github.com/repos/suzuki-shunsuke/go-set/pulls/8/commits\"},\"statuses\":{\"href\":\"https://api.github.com/repos/suzuki-shunsuke/go-set/statuses/a4b07217482165f918191754d85d5ae93b29a6af\"}},\"author_association\":\"OWNER\",\"merged\":true,\"mergeable\":null,\"rebaseable\":null,\"mergeable_state\":\"unknown\",\"merged_by\":{\"login\":\"suzuki-shunsuke\",\"id\":13323303,\"avatar_url\":\"https://avatars1.githubusercontent.com/u/13323303?v=4\",\"gravatar_id\":\"\",\"url\":\"https://api.github.com/users/suzuki-shunsuke\",\"html_url\":\"https://github.com/suzuki-shunsuke\",\"followers_url\":\"https://api.github.com/users/suzuki-shunsuke/followers\",\"following_url\":\"https://api.github.com/users/suzuki-shunsuke/following{/other_user}\",\"gists_url\":\"https://api.github.com/users/suzuki-shunsuke/gists{/gist_id}\",\"starred_url\":\"https://api.github.com/users/suzuki-shunsuke/starred{/owner}{/repo}\",\"subscriptions_url\":\"https://api.github.com/users/suzuki-shunsuke/subscriptions\",\"organizations_url\":\"https://api.github.com/users/suzuki-shunsuke/orgs\",\"repos_url\":\"https://api.github.com/users/suzuki-shunsuke/repos\",\"events_url\":\"https://api.github.com/users/suzuki-shunsuke/events{/privacy}\",\"received_events_url\":\"https://api.github.com/users/suzuki-shunsuke/received_events\",\"type\":\"User\",\"site_admin\":false},\"comments\":1,\"review_comments\":0,\"maintainer_can_modify\":false,\"commits\":4,\"additions\":12,\"deletions\":8,\"changed_files\":4}},\"public\":true,\"created_at\":\"2018-03-30T00:26:45Z\"},{\"id\":\"7456911356\",\"type\":\"CreateEvent\",\"actor\":{\"id\":14100207,\"login\":\"takutotacos\",\"display_login\":\"takutotacos\",\"gravatar_id\":\"\",\"url\":\"https://api.github.com/users/takutotacos\",\"avatar_url\":\"https://avatars.githubusercontent.com/u/14100207?\"},\"repo\":{\"id\":125837825,\"name\":\"takutotacos/automate_scripts\",\"url\":\"https://api.github.com/repos/takutotacos/automate_scripts\"},\"payload\":{\"ref\":\"feature/create_github_pr_on_push\",\"ref_type\":\"branch\",\"master_branch\":\"get_remote_branch\",\"description\":null,\"pusher_type\":\"user\"},\"public\":true,\"created_at\":\"2018-03-30T00:26:45Z\"},{\"id\":\"7456911354\",\"type\":\"PushEvent\",\"actor\":{\"id\":13438538,\"login\":\"ocerri\",\"display_login\":\"ocerri\",\"gravatar_id\":\"\",\"url\":\"https://api.github.com/users/ocerri\",\"avatar_url\":\"https://avatars.githubusercontent.com/u/13438538?\"},\"repo\":{\"id\":125961522,\"name\":\"CaltechPrecisionTiming/TimingDAQ\",\"url\":\"https://api.github.com/repos/CaltechPrecisionTiming/TimingDAQ\"},\"payload\":{\"push_id\":2444645315,\"size\":1,\"distinct_size\":1,\"ref\":\"refs/heads/master\",\"head\":\"ba6e8d948c66fc2c6599fed59f48b5e0f713faf1\",\"before\":\"737a575165df8387dc14f6cc86d56453d30fff08\",\"commits\":[{\"sha\":\"ba6e8d948c66fc2c6599fed59f48b5e0f713faf1\",\"author\":{\"email\":\"olmo.cerri@gmail.com\",\"name\":\"Olmo Cerri\"},\"message\":\"Safety add for debud imgs output\",\"distinct\":true,\"url\":\"https://api.github.com/repos/CaltechPrecisionTiming/TimingDAQ/commits/ba6e8d948c66fc2c6599fed59f48b5e0f713faf1\"}]},\"public\":true,\"created_at\":\"2018-03-30T00:26:45Z\",\"org\":{\"id\":7052971,\"login\":\"CaltechPrecisionTiming\",\"gravatar_id\":\"\",\"url\":\"https://api.github.com/orgs/CaltechPrecisionTiming\",\"avatar_url\":\"https://avatars.githubusercontent.com/u/7052971?\"}},{\"id\":\"7456911350\",\"type\":\"PushEvent\",\"actor\":{\"id\":28373718,\"login\":\"philfoster\",\"display_login\":\"philfoster\",\"gravatar_id\":\"\",\"url\":\"https://api.github.com/users/philfoster\",\"avatar_url\":\"https://avatars.githubusercontent.com/u/28373718?\"},\"repo\":{\"id\":102283450,\"name\":\"philfoster/option_screener\",\"url\":\"https://api.github.com/repos/philfoster/option_screener\"},\"payload\":{\"push_id\":2444645312,\"size\":3,\"distinct_size\":3,\"ref\":\"refs/heads/develop\",\"head\":\"99b3df576399fab13097fecd616a423e871d1ceb\",\"before\":\"b5cc3e79f314a769abf62bf5fdf3ebdb76273551\",\"commits\":[{\"sha\":\"571bfbb1b7c973e1dce591ba5eec89c2f78793d1\",\"author\":{\"email\":\"phil@the-fosters.net\",\"name\":\"Philip Foster\"},\"message\":\"finishing .csv\",\"distinct\":true,\"url\":\"https://api.github.com/repos/philfoster/option_screener/commits/571bfbb1b7c973e1dce591ba5eec89c2f78793d1\"},{\"sha\":\"aadc5ed5e3a23381d38454fb29f449fe07d2693d\",\"author\":{\"email\":\"phil@the-fosters.net\",\"name\":\"Philip Foster\"},\"message\":\"Finishing .csv\",\"distinct\":true,\"url\":\"https://api.github.com/repos/philfoster/option_screener/commits/aadc5ed5e3a23381d38454fb29f449fe07d2693d\"},{\"sha\":\"99b3df576399fab13097fecd616a423e871d1ceb\",\"author\":{\"email\":\"phil@the-fosters.net\",\"name\":\"Philip Foster\"},\"message\":\"Merge branch \\'develop\\' of https://github.com/philfoster/option_screener.git into develop\",\"distinct\":true,\"url\":\"https://api.github.com/repos/philfoster/option_screener/commits/99b3df576399fab13097fecd616a423e871d1ceb\"}]},\"public\":true,\"created_at\":\"2018-03-30T00:26:45Z\"},{\"id\":\"7456911349\",\"type\":\"PullRequestReviewCommentEvent\",\"actor\":{\"id\":4370550,\"login\":\"wilzbach\",\"display_login\":\"wilzbach\",\"gravatar_id\":\"\",\"url\":\"https://api.github.com/users/wilzbach\",\"avatar_url\":\"https://avatars.githubusercontent.com/u/4370550?\"},\"repo\":{\"id\":1257084,\"name\":\"dlang/phobos\",\"url\":\"https://api.github.com/repos/dlang/phobos\"},\"payload\":{\"action\":\"created\",\"comment\":{\"url\":\"https://api.github.com/repos/dlang/phobos/pulls/comments/178212439\",\"pull_request_review_id\":108240905,\"id\":178212439,\"diff_hunk\":\"@@ -2477,13 +2477,19 @@ public:\\\\n             assert(!errorSet.isSet(testPair[1]));\\\\n \\\\n             ubyte[1] b;\\\\n-            testPair[0].send(b[]);\\\\n+            // std.socket isn\\'t fully @safe anymore - see https://github.com/dlang/phobos/pull/6204\",\"path\":\"std/socket.d\",\"position\":null,\"original_position\":5,\"commit_id\":\"9953f02fa09fd1dc45516cb46b350fb6a8a03f9b\",\"original_commit_id\":\"e9a4b6acc5ff6658c90d52118e391983dc223e6f\",\"user\":{\"login\":\"wilzbach\",\"id\":4370550,\"avatar_url\":\"https://avatars3.githubusercontent.com/u/4370550?v=4\",\"gravatar_id\":\"\",\"url\":\"https://api.github.com/users/wilzbach\",\"html_url\":\"https://github.com/wilzbach\",\"followers_url\":\"https://api.github.com/users/wilzbach/followers\",\"following_url\":\"https://api.github.com/users/wilzbach/following{/other_user}\",\"gists_url\":\"https://api.github.com/users/wilzbach/gists{/gist_id}\",\"starred_url\":\"https://api.github.com/users/wilzbach/starred{/owner}{/repo}\",\"subscriptions_url\":\"https://api.github.com/users/wilzbach/subscriptions\",\"organizations_url\":\"https://api.github.com/users/wilzbach/orgs\",\"repos_url\":\"https://api.github.com/users/wilzbach/repos\",\"events_url\":\"https://api.github.com/users/wilzbach/events{/privacy}\",\"received_events_url\":\"https://api.github.com/users/wilzbach/received_events\",\"type\":\"User\",\"site_admin\":false},\"body\":\"Ok. Tried to improve the wording.\",\"created_at\":\"2018-03-30T00:26:45Z\",\"updated_at\":\"2018-03-30T00:26:45Z\",\"html_url\":\"https://github.com/dlang/phobos/pull/6384#discussion_r178212439\",\"pull_request_url\":\"https://api.github.com/repos/dlang/phobos/pulls/6384\",\"author_association\":\"MEMBER\",\"_links\":{\"self\":{\"href\":\"https://api.github.com/repos/dlang/phobos/pulls/comments/178212439\"},\"html\":{\"href\":\"https://github.com/dlang/phobos/pull/6384#discussion_r178212439\"},\"pull_request\":{\"href\":\"https://api.github.com/repos/dlang/phobos/pulls/6384\"}},\"in_reply_to_id\":178210381},\"pull_request\":{\"url\":\"https://api.github.com/repos/dlang/phobos/pulls/6384\",\"id\":178448751,\"html_url\":\"https://github.com/dlang/phobos/pull/6384\",\"diff_url\":\"https://github.com/dlang/phobos/pull/6384.diff\",\"patch_url\":\"https://github.com/dlang/phobos/pull/6384.patch\",\"issue_url\":\"https://api.github.com/repos/dlang/phobos/issues/6384\",\"number\":6384,\"state\":\"open\",\"locked\":false,\"title\":\"Make std.socket DIP1000 compatible\",\"user\":{\"login\":\"wilzbach\",\"id\":4370550,\"avatar_url\":\"https://avatars3.githubusercontent.com/u/4370550?v=4\",\"gravatar_id\":\"\",\"url\":\"https://api.github.com/users/wilzbach\",\"html_url\":\"https://github.com/wilzbach\",\"followers_url\":\"https://api.github.com/users/wilzbach/followers\",\"following_url\":\"https://api.github.com/users/wilzbach/following{/other_user}\",\"gists_url\":\"https://api.github.com/users/wilzbach/gists{/gist_id}\",\"starred_url\":\"https://api.github.com/users/wilzbach/starred{/owner}{/repo}\",\"subscriptions_url\":\"https://api.github.com/users/wilzbach/subscriptions\",\"organizations_url\":\"https://api.github.com/users/wilzbach/orgs\",\"repos_url\":\"https://api.github.com/users/wilzbach/repos\",\"events_url\":\"https://api.github.com/users/wilzbach/events{/privacy}\",\"received_events_url\":\"https://api.github.com/users/wilzbach/received_events\",\"type\":\"User\",\"site_admin\":false},\"body\":\"From @WalterBright:\\\\n\\\\n> How about simply making std.socket @System so it will compile with -dip1000 and move on?\\\\n\\\\nhttps://github.com/dlang/phobos/pull/6204#discussion_r177646821\",\"created_at\":\"2018-03-29T21:40:07Z\",\"updated_at\":\"2018-03-30T00:26:45Z\",\"closed_at\":null,\"merged_at\":null,\"merge_commit_sha\":\"dba732c7b94ed1b0beb632a263a4a79830a419aa\",\"assignee\":null,\"assignees\":[],\"requested_reviewers\":[{\"login\":\"CyberShadow\",\"id\":160894,\"avatar_url\":\"https://avatars0.githubusercontent.com/u/160894?v=4\",\"gravatar_id\":\"\",\"url\":\"https://api.github.com/users/CyberShadow\",\"html_url\":\"https://github.com/CyberShadow\",\"followers_url\":\"https://api.github.com/users/CyberShadow/followers\",\"following_url\":\"https://api.github.com/users/CyberShadow/following{/other_user}\",\"gists_url\":\"https://api.github.com/users/CyberShadow/gists{/gist_id}\",\"starred_url\":\"https://api.github.com/users/CyberShadow/starred{/owner}{/repo}\",\"subscriptions_url\":\"https://api.github.com/users/CyberShadow/subscriptions\",\"organizations_url\":\"https://api.github.com/users/CyberShadow/orgs\",\"repos_url\":\"https://api.github.com/users/CyberShadow/repos\",\"events_url\":\"https://api.github.com/users/CyberShadow/events{/privacy}\",\"received_events_url\":\"https://api.github.com/users/CyberShadow/received_events\",\"type\":\"User\",\"site_admin\":false}],\"requested_teams\":[],\"labels\":[{\"id\":876573869,\"url\":\"https://api.github.com/repos/dlang/phobos/labels/Vision\",\"name\":\"Vision\",\"color\":\"aafc07\",\"default\":false}],\"milestone\":null,\"commits_url\":\"https://api.github.com/repos/dlang/phobos/pulls/6384/commits\",\"review_comments_url\":\"https://api.github.com/repos/dlang/phobos/pulls/6384/comments\",\"review_comment_url\":\"https://api.github.com/repos/dlang/phobos/pulls/comments{/number}\",\"comments_url\":\"https://api.github.com/repos/dlang/phobos/issues/6384/comments\",\"statuses_url\":\"https://api.github.com/repos/dlang/phobos/statuses/9953f02fa09fd1dc45516cb46b350fb6a8a03f9b\",\"head\":{\"label\":\"wilzbach:pr-6204\",\"ref\":\"pr-6204\",\"sha\":\"9953f02fa09fd1dc45516cb46b350fb6a8a03f9b\",\"user\":{\"login\":\"wilzbach\",\"id\":4370550,\"avatar_url\":\"https://avatars3.githubusercontent.com/u/4370550?v=4\",\"gravatar_id\":\"\",\"url\":\"https://api.github.com/users/wilzbach\",\"html_url\":\"https://github.com/wilzbach\",\"followers_url\":\"https://api.github.com/users/wilzbach/followers\",\"following_url\":\"https://api.github.com/users/wilzbach/following{/other_user}\",\"gists_url\":\"https://api.github.com/users/wilzbach/gists{/gist_id}\",\"starred_url\":\"https://api.github.com/users/wilzbach/starred{/owner}{/repo}\",\"subscriptions_url\":\"https://api.github.com/users/wilzbach/subscriptions\",\"organizations_url\":\"https://api.github.com/users/wilzbach/orgs\",\"repos_url\":\"https://api.github.com/users/wilzbach/repos\",\"events_url\":\"https://api.github.com/users/wilzbach/events{/privacy}\",\"received_events_url\":\"https://api.github.com/users/wilzbach/received_events\",\"type\":\"User\",\"site_admin\":false},\"repo\":{\"id\":52009651,\"name\":\"phobos\",\"full_name\":\"wilzbach/phobos\",\"owner\":{\"login\":\"wilzbach\",\"id\":4370550,\"avatar_url\":\"https://avatars3.githubusercontent.com/u/4370550?v=4\",\"gravatar_id\":\"\",\"url\":\"https://api.github.com/users/wilzbach\",\"html_url\":\"https://github.com/wilzbach\",\"followers_url\":\"https://api.github.com/users/wilzbach/followers\",\"following_url\":\"https://api.github.com/users/wilzbach/following{/other_user}\",\"gists_url\":\"https://api.github.com/users/wilzbach/gists{/gist_id}\",\"starred_url\":\"https://api.github.com/users/wilzbach/starred{/owner}{/repo}\",\"subscriptions_url\":\"https://api.github.com/users/wilzbach/subscriptions\",\"organizations_url\":\"https://api.github.com/users/wilzbach/orgs\",\"repos_url\":\"https://api.github.com/users/wilzbach/repos\",\"events_url\":\"https://api.github.com/users/wilzbach/events{/privacy}\",\"received_events_url\":\"https://api.github.com/users/wilzbach/received_events\",\"type\":\"User\",\"site_admin\":false},\"private\":false,\"html_url\":\"https://github.com/wilzbach/phobos\",\"description\":\"The standard library of the D programming language\",\"fork\":true,\"url\":\"https://api.github.com/repos/wilzbach/phobos\",\"forks_url\":\"https://api.github.com/repos/wilzbach/phobos/forks\",\"keys_url\":\"https://api.github.com/repos/wilzbach/phobos/keys{/key_id}\",\"collaborators_url\":\"https://api.github.com/repos/wilzbach/phobos/collaborators{/collaborator}\",\"teams_url\":\"https://api.github.com/repos/wilzbach/phobos/teams\",\"hooks_url\":\"https://api.github.com/repos/wilzbach/phobos/hooks\",\"issue_events_url\":\"https://api.github.com/repos/wilzbach/phobos/issues/events{/number}\",\"events_url\":\"https://api.github.com/repos/wilzbach/phobos/events\",\"assignees_url\":\"https://api.github.com/repos/wilzbach/phobos/assignees{/user}\",\"branches_url\":\"https://api.github.com/repos/wilzbach/phobos/branches{/branch}\",\"tags_url\":\"https://api.github.com/repos/wilzbach/phobos/tags\",\"blobs_url\":\"https://api.github.com/repos/wilzbach/phobos/git/blobs{/sha}\",\"git_tags_url\":\"https://api.github.com/repos/wilzbach/phobos/git/tags{/sha}\",\"git_refs_url\":\"https://api.github.com/repos/wilzbach/phobos/git/refs{/sha}\",\"trees_url\":\"https://api.github.com/repos/wilzbach/phobos/git/trees{/sha}\",\"statuses_url\":\"https://api.github.com/repos/wilzbach/phobos/statuses/{sha}\",\"languages_url\":\"https://api.github.com/repos/wilzbach/phobos/languages\",\"stargazers_url\":\"https://api.github.com/repos/wilzbach/phobos/stargazers\",\"contributors_url\":\"https://api.github.com/repos/wilzbach/phobos/contributors\",\"subscribers_url\":\"https://api.github.com/repos/wilzbach/phobos/subscribers\",\"subscription_url\":\"https://api.github.com/repos/wilzbach/phobos/subscription\",\"commits_url\":\"https://api.github.com/repos/wilzbach/phobos/commits{/sha}\",\"git_commits_url\":\"https://api.github.com/repos/wilzbach/phobos/git/commits{/sha}\",\"comments_url\":\"https://api.github.com/repos/wilzbach/phobos/comments{/number}\",\"issue_comment_url\":\"https://api.github.com/repos/wilzbach/phobos/issues/comments{/number}\",\"contents_url\":\"https://api.github.com/repos/wilzbach/phobos/contents/{+path}\",\"compare_url\":\"https://api.github.com/repos/wilzbach/phobos/compare/{base}...{head}\",\"merges_url\":\"https://api.github.com/repos/wilzbach/phobos/merges\",\"archive_url\":\"https://api.github.com/repos/wilzbach/phobos/{archive_format}{/ref}\",\"downloads_url\":\"https://api.github.com/repos/wilzbach/phobos/downloads\",\"issues_url\":\"https://api.github.com/repos/wilzbach/phobos/issues{/number}\",\"pulls_url\":\"https://api.github.com/repos/wilzbach/phobos/pulls{/number}\",\"milestones_url\":\"https://api.github.com/repos/wilzbach/phobos/milestones{/number}\",\"notifications_url\":\"https://api.github.com/repos/wilzbach/phobos/notifications{?since,all,participating}\",\"labels_url\":\"https://api.github.com/repos/wilzbach/phobos/labels{/name}\",\"releases_url\":\"https://api.github.com/repos/wilzbach/phobos/releases{/id}\",\"deployments_url\":\"https://api.github.com/repos/wilzbach/phobos/deployments\",\"created_at\":\"2016-02-18T13:38:55Z\",\"updated_at\":\"2018-03-29T01:36:34Z\",\"pushed_at\":\"2018-03-30T00:17:31Z\",\"git_url\":\"git://github.com/wilzbach/phobos.git\",\"ssh_url\":\"git@github.com:wilzbach/phobos.git\",\"clone_url\":\"https://github.com/wilzbach/phobos.git\",\"svn_url\":\"https://github.com/wilzbach/phobos\",\"homepage\":\"dlang.org/phobos\",\"size\":48394,\"stargazers_count\":1,\"watchers_count\":1,\"language\":\"D\",\"has_issues\":false,\"has_projects\":true,\"has_downloads\":true,\"has_wiki\":false,\"has_pages\":false,\"forks_count\":0,\"mirror_url\":null,\"archived\":false,\"open_issues_count\":4,\"license\":{\"key\":\"bsl-1.0\",\"name\":\"Boost Software License 1.0\",\"spdx_id\":\"BSL-1.0\",\"url\":\"https://api.github.com/licenses/bsl-1.0\"},\"forks\":0,\"open_issues\":4,\"watchers\":1,\"default_branch\":\"master\"}},\"base\":{\"label\":\"dlang:master\",\"ref\":\"master\",\"sha\":\"0372d48dc00c2f4e6c7b9fa5ac101a43810e3222\",\"user\":{\"login\":\"dlang\",\"id\":565913,\"avatar_url\":\"https://avatars3.githubusercontent.com/u/565913?v=4\",\"gravatar_id\":\"\",\"url\":\"https://api.github.com/users/dlang\",\"html_url\":\"https://github.com/dlang\",\"followers_url\":\"https://api.github.com/users/dlang/followers\",\"following_url\":\"https://api.github.com/users/dlang/following{/other_user}\",\"gists_url\":\"https://api.github.com/users/dlang/gists{/gist_id}\",\"starred_url\":\"https://api.github.com/users/dlang/starred{/owner}{/repo}\",\"subscriptions_url\":\"https://api.github.com/users/dlang/subscriptions\",\"organizations_url\":\"https://api.github.com/users/dlang/orgs\",\"repos_url\":\"https://api.github.com/users/dlang/repos\",\"events_url\":\"https://api.github.com/users/dlang/events{/privacy}\",\"received_events_url\":\"https://api.github.com/users/dlang/received_events\",\"type\":\"Organization\",\"site_admin\":false},\"repo\":{\"id\":1257084,\"name\":\"phobos\",\"full_name\":\"dlang/phobos\",\"owner\":{\"login\":\"dlang\",\"id\":565913,\"avatar_url\":\"https://avatars3.githubusercontent.com/u/565913?v=4\",\"gravatar_id\":\"\",\"url\":\"https://api.github.com/users/dlang\",\"html_url\":\"https://github.com/dlang\",\"followers_url\":\"https://api.github.com/users/dlang/followers\",\"following_url\":\"https://api.github.com/users/dlang/following{/other_user}\",\"gists_url\":\"https://api.github.com/users/dlang/gists{/gist_id}\",\"starred_url\":\"https://api.github.com/users/dlang/starred{/owner}{/repo}\",\"subscriptions_url\":\"https://api.github.com/users/dlang/subscriptions\",\"organizations_url\":\"https://api.github.com/users/dlang/orgs\",\"repos_url\":\"https://api.github.com/users/dlang/repos\",\"events_url\":\"https://api.github.com/users/dlang/events{/privacy}\",\"received_events_url\":\"https://api.github.com/users/dlang/received_events\",\"type\":\"Organization\",\"site_admin\":false},\"private\":false,\"html_url\":\"https://github.com/dlang/phobos\",\"description\":\"The standard library of the D programming language\",\"fork\":false,\"url\":\"https://api.github.com/repos/dlang/phobos\",\"forks_url\":\"https://api.github.com/repos/dlang/phobos/forks\",\"keys_url\":\"https://api.github.com/repos/dlang/phobos/keys{/key_id}\",\"collaborators_url\":\"https://api.github.com/repos/dlang/phobos/collaborators{/collaborator}\",\"teams_url\":\"https://api.github.com/repos/dlang/phobos/teams\",\"hooks_url\":\"https://api.github.com/repos/dlang/phobos/hooks\",\"issue_events_url\":\"https://api.github.com/repos/dlang/phobos/issues/events{/number}\",\"events_url\":\"https://api.github.com/repos/dlang/phobos/events\",\"assignees_url\":\"https://api.github.com/repos/dlang/phobos/assignees{/user}\",\"branches_url\":\"https://api.github.com/repos/dlang/phobos/branches{/branch}\",\"tags_url\":\"https://api.github.com/repos/dlang/phobos/tags\",\"blobs_url\":\"https://api.github.com/repos/dlang/phobos/git/blobs{/sha}\",\"git_tags_url\":\"https://api.github.com/repos/dlang/phobos/git/tags{/sha}\",\"git_refs_url\":\"https://api.github.com/repos/dlang/phobos/git/refs{/sha}\",\"trees_url\":\"https://api.github.com/repos/dlang/phobos/git/trees{/sha}\",\"statuses_url\":\"https://api.github.com/repos/dlang/phobos/statuses/{sha}\",\"languages_url\":\"https://api.github.com/repos/dlang/phobos/languages\",\"stargazers_url\":\"https://api.github.com/repos/dlang/phobos/stargazers\",\"contributors_url\":\"https://api.github.com/repos/dlang/phobos/contributors\",\"subscribers_url\":\"https://api.github.com/repos/dlang/phobos/subscribers\",\"subscription_url\":\"https://api.github.com/repos/dlang/phobos/subscription\",\"commits_url\":\"https://api.github.com/repos/dlang/phobos/commits{/sha}\",\"git_commits_url\":\"https://api.github.com/repos/dlang/phobos/git/commits{/sha}\",\"comments_url\":\"https://api.github.com/repos/dlang/phobos/comments{/number}\",\"issue_comment_url\":\"https://api.github.com/repos/dlang/phobos/issues/comments{/number}\",\"contents_url\":\"https://api.github.com/repos/dlang/phobos/contents/{+path}\",\"compare_url\":\"https://api.github.com/repos/dlang/phobos/compare/{base}...{head}\",\"merges_url\":\"https://api.github.com/repos/dlang/phobos/merges\",\"archive_url\":\"https://api.github.com/repos/dlang/phobos/{archive_format}{/ref}\",\"downloads_url\":\"https://api.github.com/repos/dlang/phobos/downloads\",\"issues_url\":\"https://api.github.com/repos/dlang/phobos/issues{/number}\",\"pulls_url\":\"https://api.github.com/repos/dlang/phobos/pulls{/number}\",\"milestones_url\":\"https://api.github.com/repos/dlang/phobos/milestones{/number}\",\"notifications_url\":\"https://api.github.com/repos/dlang/phobos/notifications{?since,all,participating}\",\"labels_url\":\"https://api.github.com/repos/dlang/phobos/labels{/name}\",\"releases_url\":\"https://api.github.com/repos/dlang/phobos/releases{/id}\",\"deployments_url\":\"https://api.github.com/repos/dlang/phobos/deployments\",\"created_at\":\"2011-01-15T07:00:06Z\",\"updated_at\":\"2018-03-29T23:53:19Z\",\"pushed_at\":\"2018-03-30T00:17:33Z\",\"git_url\":\"git://github.com/dlang/phobos.git\",\"ssh_url\":\"git@github.com:dlang/phobos.git\",\"clone_url\":\"https://github.com/dlang/phobos.git\",\"svn_url\":\"https://github.com/dlang/phobos\",\"homepage\":\"dlang.org/phobos\",\"size\":47847,\"stargazers_count\":867,\"watchers_count\":867,\"language\":\"D\",\"has_issues\":false,\"has_projects\":true,\"has_downloads\":true,\"has_wiki\":false,\"has_pages\":false,\"forks_count\":596,\"mirror_url\":null,\"archived\":false,\"open_issues_count\":117,\"license\":{\"key\":\"bsl-1.0\",\"name\":\"Boost Software License 1.0\",\"spdx_id\":\"BSL-1.0\",\"url\":\"https://api.github.com/licenses/bsl-1.0\"},\"forks\":596,\"open_issues\":117,\"watchers\":867,\"default_branch\":\"master\"}},\"_links\":{\"self\":{\"href\":\"https://api.github.com/repos/dlang/phobos/pulls/6384\"},\"html\":{\"href\":\"https://github.com/dlang/phobos/pull/6384\"},\"issue\":{\"href\":\"https://api.github.com/repos/dlang/phobos/issues/6384\"},\"comments\":{\"href\":\"https://api.github.com/repos/dlang/phobos/issues/6384/comments\"},\"review_comments\":{\"href\":\"https://api.github.com/repos/dlang/phobos/pulls/6384/comments\"},\"review_comment\":{\"href\":\"https://api.github.com/repos/dlang/phobos/pulls/comments{/number}\"},\"commits\":{\"href\":\"https://api.github.com/repos/dlang/phobos/pulls/6384/commits\"},\"statuses\":{\"href\":\"https://api.github.com/repos/dlang/phobos/statuses/9953f02fa09fd1dc45516cb46b350fb6a8a03f9b\"}},\"author_association\":\"MEMBER\"}},\"public\":true,\"created_at\":\"2018-03-30T00:26:45Z\",\"org\":{\"id\":565913,\"login\":\"dlang\",\"gravatar_id\":\"\",\"url\":\"https://api.github.com/orgs/dlang\",\"avatar_url\":\"https://avatars.githubusercontent.com/u/565913?\"}},{\"id\":\"7456911347\",\"type\":\"PushEvent\",\"actor\":{\"id\":16447060,\"login\":\"GuitarMusashi616\",\"display_login\":\"GuitarMusashi616\",\"gravatar_id\":\"\",\"url\":\"https://api.github.com/users/GuitarMusashi616\",\"avatar_url\":\"https://avatars.githubusercontent.com/u/16447060?\"},\"repo\":{\"id\":122447920,\"name\":\"GuitarMusashi616/CS202\",\"url\":\"https://api.github.com/repos/GuitarMusashi616/CS202\"},\"payload\":{\"push_id\":2444645311,\"size\":2,\"distinct_size\":2,\"ref\":\"refs/heads/master\",\"head\":\"ff509569aa49d0c48c8afb8d8d9dff34c6a6751f\",\"before\":\"9faa67316bc0882875f700eb0bea066ce8457880\",\"commits\":[{\"sha\":\"91f3f9ec9fbe1a9fc2ff99d3aa2d8cb9a8cab5b1\",\"author\":{\"email\":\"guitarmusashi@gmail.com\",\"name\":\"GuitarMusashi616\"},\"message\":\"Boxes3 Print Complete\\\\n\\\\nWorking :)\",\"distinct\":true,\"url\":\"https://api.github.com/repos/GuitarMusashi616/CS202/commits/91f3f9ec9fbe1a9fc2ff99d3aa2d8cb9a8cab5b1\"},{\"sha\":\"ff509569aa49d0c48c8afb8d8d9dff34c6a6751f\",\"author\":{\"email\":\"guitarmusashi@gmail.com\",\"name\":\"GuitarMusashi616\"},\"message\":\"Boxes3 Complete\\\\n\\\\nFinal Version\",\"distinct\":true,\"url\":\"https://api.github.com/repos/GuitarMusashi616/CS202/commits/ff509569aa49d0c48c8afb8d8d9dff34c6a6751f\"}]},\"public\":true,\"created_at\":\"2018-03-30T00:26:45Z\"},{\"id\":\"7456911346\",\"type\":\"PushEvent\",\"actor\":{\"id\":4163828,\"login\":\"mtribone\",\"display_login\":\"mtribone\",\"gravatar_id\":\"\",\"url\":\"https://api.github.com/users/mtribone\",\"avatar_url\":\"https://avatars.githubusercontent.com/u/4163828?\"},\"repo\":{\"id\":2481963,\"name\":\"psu-stewardship/scholarsphere\",\"url\":\"https://api.github.com/repos/psu-stewardship/scholarsphere\"},\"payload\":{\"push_id\":2444645310,\"size\":5,\"distinct_size\":1,\"ref\":\"refs/heads/works-294\",\"head\":\"56cc43217c9ebf973c62e15ca8e57ffccd56f8e1\",\"before\":\"558b2ee74521feb5ddfa1d0fb4191ed725915159\",\"commits\":[{\"sha\":\"b79d17ce92910bccdc5cfc66001ec783a940114a\",\"author\":{\"email\":\"amsterdamos@gmail.com\",\"name\":\"Adam Wead\"},\"message\":\"Downloading an entire collection, ref #624\\\\n\\\\nUsing WorkZipService as a basis, create a zip file from a collection\\\\ncontaining individual zip files of each work.\",\"distinct\":false,\"url\":\"https://api.github.com/repos/psu-stewardship/scholarsphere/commits/b79d17ce92910bccdc5cfc66001ec783a940114a\"},{\"sha\":\"a3959bf934bb68aa4a05cccc8f237bfcbc43f136\",\"author\":{\"email\":\"mtribone@psu.edu\",\"name\":\"mtribone\"},\"message\":\"Breaks hex colors into variables, switches to Sass comments, and adds some skip declarations for the linter when you have to override very specific CSS from other gems.\\\\n\\\\nReworks the application.css file to load files in a specific order so that the variables load first and then the rest of the files.\",\"distinct\":false,\"url\":\"https://api.github.com/repos/psu-stewardship/scholarsphere/commits/a3959bf934bb68aa4a05cccc8f237bfcbc43f136\"},{\"sha\":\"61c260d450561769d86376a78e07c3c2618715c4\",\"author\":{\"email\":\"awead@users.noreply.github.com\",\"name\":\"Adam Wead\"},\"message\":\"Merge pull request #1199 from psu-stewardship/i#624\\\\n\\\\nDownloading an entire collection, ref #624\",\"distinct\":false,\"url\":\"https://api.github.com/repos/psu-stewardship/scholarsphere/commits/61c260d450561769d86376a78e07c3c2618715c4\"},{\"sha\":\"3727b22d9dc6c6f2d8a8818db10803f6f0535695\",\"author\":{\"email\":\"awead@users.noreply.github.com\",\"name\":\"Adam Wead\"},\"message\":\"Merge pull request #1209 from psu-stewardship/scss-lint\\\\n\\\\nRefactor Stylesheet Syntax - SCSS Lint\",\"distinct\":false,\"url\":\"https://api.github.com/repos/psu-stewardship/scholarsphere/commits/3727b22d9dc6c6f2d8a8818db10803f6f0535695\"},{\"sha\":\"56cc43217c9ebf973c62e15ca8e57ffccd56f8e1\",\"author\":{\"email\":\"mtribone@psu.edu\",\"name\":\"mtribone\"},\"message\":\"Reuses the collection presenter from the work show page to display an inline list of collecions. Adding the if statement back into the block just like in the work show view so that works without collections do not show the part of statement..\",\"distinct\":true,\"url\":\"https://api.github.com/repos/psu-stewardship/scholarsphere/commits/56cc43217c9ebf973c62e15ca8e57ffccd56f8e1\"}]},\"public\":true,\"created_at\":\"2018-03-30T00:26:45Z\",\"org\":{\"id\":653493,\"login\":\"psu-stewardship\",\"gravatar_id\":\"\",\"url\":\"https://api.github.com/orgs/psu-stewardship\",\"avatar_url\":\"https://avatars.githubusercontent.com/u/653493?\"}},{\"id\":\"7456911342\",\"type\":\"DeleteEvent\",\"actor\":{\"id\":33500718,\"login\":\"dipper-github-icn-bom-cdg\",\"display_login\":\"dipper-github-icn-bom-cdg\",\"gravatar_id\":\"\",\"url\":\"https://api.github.com/users/dipper-github-icn-bom-cdg\",\"avatar_url\":\"https://avatars.githubusercontent.com/u/33500718?\"},\"repo\":{\"id\":112368276,\"name\":\"dipper-github-icn-bom-cdg/test-python-sample\",\"url\":\"https://api.github.com/repos/dipper-github-icn-bom-cdg/test-python-sample\"},\"payload\":{\"ref\":\"canary-test-f80c6948-e410-449e-9a67-1272f87c5fff\",\"ref_type\":\"branch\",\"pusher_type\":\"user\"},\"public\":true,\"created_at\":\"2018-03-30T00:26:45Z\"},{\"id\":\"7456911339\",\"type\":\"PullRequestEvent\",\"actor\":{\"id\":2289147,\"login\":\"dandevs\",\"display_login\":\"dandevs\",\"gravatar_id\":\"\",\"url\":\"https://api.github.com/users/dandevs\",\"avatar_url\":\"https://avatars.githubusercontent.com/u/2289147?\"},\"repo\":{\"id\":44720822,\"name\":\"thegrb93/StarfallEx\",\"url\":\"https://api.github.com/repos/thegrb93/StarfallEx\"},\"payload\":{\"action\":\"opened\",\"number\":384,\"pull_request\":{\"url\":\"https://api.github.com/repos/thegrb93/StarfallEx/pulls/384\",\"id\":178471566,\"html_url\":\"https://github.com/thegrb93/StarfallEx/pull/384\",\"diff_url\":\"https://github.com/thegrb93/StarfallEx/pull/384.diff\",\"patch_url\":\"https://github.com/thegrb93/StarfallEx/pull/384.patch\",\"issue_url\":\"https://api.github.com/repos/thegrb93/StarfallEx/issues/384\",\"number\":384,\"state\":\"open\",\"locked\":false,\"title\":\"Only send code that has changed\",\"user\":{\"login\":\"dandevs\",\"id\":2289147,\"avatar_url\":\"https://avatars2.githubusercontent.com/u/2289147?v=4\",\"gravatar_id\":\"\",\"url\":\"https://api.github.com/users/dandevs\",\"html_url\":\"https://github.com/dandevs\",\"followers_url\":\"https://api.github.com/users/dandevs/followers\",\"following_url\":\"https://api.github.com/users/dandevs/following{/other_user}\",\"gists_url\":\"https://api.github.com/users/dandevs/gists{/gist_id}\",\"starred_url\":\"https://api.github.com/users/dandevs/starred{/owner}{/repo}\",\"subscriptions_url\":\"https://api.github.com/users/dandevs/subscriptions\",\"organizations_url\":\"https://api.github.com/users/dandevs/orgs\",\"repos_url\":\"https://api.github.com/users/dandevs/repos\",\"events_url\":\"https://api.github.com/users/dandevs/events{/privacy}\",\"received_events_url\":\"https://api.github.com/users/dandevs/received_events\",\"type\":\"User\",\"site_admin\":false},\"body\":\"Player will only send files that have changed (via checksum).\\\\r\\\\nAll uploaded code is stored in the already existing `self.files`\",\"created_at\":\"2018-03-30T00:26:45Z\",\"updated_at\":\"2018-03-30T00:26:45Z\",\"closed_at\":null,\"merged_at\":null,\"merge_commit_sha\":null,\"assignee\":null,\"assignees\":[],\"requested_reviewers\":[],\"requested_teams\":[],\"labels\":[],\"milestone\":null,\"commits_url\":\"https://api.github.com/repos/thegrb93/StarfallEx/pulls/384/commits\",\"review_comments_url\":\"https://api.github.com/repos/thegrb93/StarfallEx/pulls/384/comments\",\"review_comment_url\":\"https://api.github.com/repos/thegrb93/StarfallEx/pulls/comments{/number}\",\"comments_url\":\"https://api.github.com/repos/thegrb93/StarfallEx/issues/384/comments\",\"statuses_url\":\"https://api.github.com/repos/thegrb93/StarfallEx/statuses/ec73e41b1bb23cced4e582ce1366d9b1c7738a33\",\"head\":{\"label\":\"dandevs:cache\",\"ref\":\"cache\",\"sha\":\"ec73e41b1bb23cced4e582ce1366d9b1c7738a33\",\"user\":{\"login\":\"dandevs\",\"id\":2289147,\"avatar_url\":\"https://avatars2.githubusercontent.com/u/2289147?v=4\",\"gravatar_id\":\"\",\"url\":\"https://api.github.com/users/dandevs\",\"html_url\":\"https://github.com/dandevs\",\"followers_url\":\"https://api.github.com/users/dandevs/followers\",\"following_url\":\"https://api.github.com/users/dandevs/following{/other_user}\",\"gists_url\":\"https://api.github.com/users/dandevs/gists{/gist_id}\",\"starred_url\":\"https://api.github.com/users/dandevs/starred{/owner}{/repo}\",\"subscriptions_url\":\"https://api.github.com/users/dandevs/subscriptions\",\"organizations_url\":\"https://api.github.com/users/dandevs/orgs\",\"repos_url\":\"https://api.github.com/users/dandevs/repos\",\"events_url\":\"https://api.github.com/users/dandevs/events{/privacy}\",\"received_events_url\":\"https://api.github.com/users/dandevs/received_events\",\"type\":\"User\",\"site_admin\":false},\"repo\":{\"id\":127360781,\"name\":\"StarfallEx\",\"full_name\":\"dandevs/StarfallEx\",\"owner\":{\"login\":\"dandevs\",\"id\":2289147,\"avatar_url\":\"https://avatars2.githubusercontent.com/u/2289147?v=4\",\"gravatar_id\":\"\",\"url\":\"https://api.github.com/users/dandevs\",\"html_url\":\"https://github.com/dandevs\",\"followers_url\":\"https://api.github.com/users/dandevs/followers\",\"following_url\":\"https://api.github.com/users/dandevs/following{/other_user}\",\"gists_url\":\"https://api.github.com/users/dandevs/gists{/gist_id}\",\"starred_url\":\"https://api.github.com/users/dandevs/starred{/owner}{/repo}\",\"subscriptions_url\":\"https://api.github.com/users/dandevs/subscriptions\",\"organizations_url\":\"https://api.github.com/users/dandevs/orgs\",\"repos_url\":\"https://api.github.com/users/dandevs/repos\",\"events_url\":\"https://api.github.com/users/dandevs/events{/privacy}\",\"received_events_url\":\"https://api.github.com/users/dandevs/received_events\",\"type\":\"User\",\"site_admin\":false},\"private\":false,\"html_url\":\"https://github.com/dandevs/StarfallEx\",\"description\":\"Starfall, but with active development and more features.\",\"fork\":true,\"url\":\"https://api.github.com/repos/dandevs/StarfallEx\",\"forks_url\":\"https://api.github.com/repos/dandevs/StarfallEx/forks\",\"keys_url\":\"https://api.github.com/repos/dandevs/StarfallEx/keys{/key_id}\",\"collaborators_url\":\"https://api.github.com/repos/dandevs/StarfallEx/collaborators{/collaborator}\",\"teams_url\":\"https://api.github.com/repos/dandevs/StarfallEx/teams\",\"hooks_url\":\"https://api.github.com/repos/dandevs/StarfallEx/hooks\",\"issue_events_url\":\"https://api.github.com/repos/dandevs/StarfallEx/issues/events{/number}\",\"events_url\":\"https://api.github.com/repos/dandevs/StarfallEx/events\",\"assignees_url\":\"https://api.github.com/repos/dandevs/StarfallEx/assignees{/user}\",\"branches_url\":\"https://api.github.com/repos/dandevs/StarfallEx/branches{/branch}\",\"tags_url\":\"https://api.github.com/repos/dandevs/StarfallEx/tags\",\"blobs_url\":\"https://api.github.com/repos/dandevs/StarfallEx/git/blobs{/sha}\",\"git_tags_url\":\"https://api.github.com/repos/dandevs/StarfallEx/git/tags{/sha}\",\"git_refs_url\":\"https://api.github.com/repos/dandevs/StarfallEx/git/refs{/sha}\",\"trees_url\":\"https://api.github.com/repos/dandevs/StarfallEx/git/trees{/sha}\",\"statuses_url\":\"https://api.github.com/repos/dandevs/StarfallEx/statuses/{sha}\",\"languages_url\":\"https://api.github.com/repos/dandevs/StarfallEx/languages\",\"stargazers_url\":\"https://api.github.com/repos/dandevs/StarfallEx/stargazers\",\"contributors_url\":\"https://api.github.com/repos/dandevs/StarfallEx/contributors\",\"subscribers_url\":\"https://api.github.com/repos/dandevs/StarfallEx/subscribers\",\"subscription_url\":\"https://api.github.com/repos/dandevs/StarfallEx/subscription\",\"commits_url\":\"https://api.github.com/repos/dandevs/StarfallEx/commits{/sha}\",\"git_commits_url\":\"https://api.github.com/repos/dandevs/StarfallEx/git/commits{/sha}\",\"comments_url\":\"https://api.github.com/repos/dandevs/StarfallEx/comments{/number}\",\"issue_comment_url\":\"https://api.github.com/repos/dandevs/StarfallEx/issues/comments{/number}\",\"contents_url\":\"https://api.github.com/repos/dandevs/StarfallEx/contents/{+path}\",\"compare_url\":\"https://api.github.com/repos/dandevs/StarfallEx/compare/{base}...{head}\",\"merges_url\":\"https://api.github.com/repos/dandevs/StarfallEx/merges\",\"archive_url\":\"https://api.github.com/repos/dandevs/StarfallEx/{archive_format}{/ref}\",\"downloads_url\":\"https://api.github.com/repos/dandevs/StarfallEx/downloads\",\"issues_url\":\"https://api.github.com/repos/dandevs/StarfallEx/issues{/number}\",\"pulls_url\":\"https://api.github.com/repos/dandevs/StarfallEx/pulls{/number}\",\"milestones_url\":\"https://api.github.com/repos/dandevs/StarfallEx/milestones{/number}\",\"notifications_url\":\"https://api.github.com/repos/dandevs/StarfallEx/notifications{?since,all,participating}\",\"labels_url\":\"https://api.github.com/repos/dandevs/StarfallEx/labels{/name}\",\"releases_url\":\"https://api.github.com/repos/dandevs/StarfallEx/releases{/id}\",\"deployments_url\":\"https://api.github.com/repos/dandevs/StarfallEx/deployments\",\"created_at\":\"2018-03-30T00:21:58Z\",\"updated_at\":\"2018-03-30T00:22:00Z\",\"pushed_at\":\"2018-03-30T00:23:38Z\",\"git_url\":\"git://github.com/dandevs/StarfallEx.git\",\"ssh_url\":\"git@github.com:dandevs/StarfallEx.git\",\"clone_url\":\"https://github.com/dandevs/StarfallEx.git\",\"svn_url\":\"https://github.com/dandevs/StarfallEx\",\"homepage\":null,\"size\":7598,\"stargazers_count\":0,\"watchers_count\":0,\"language\":\"Lua\",\"has_issues\":false,\"has_projects\":true,\"has_downloads\":true,\"has_wiki\":true,\"has_pages\":false,\"forks_count\":0,\"mirror_url\":null,\"archived\":false,\"open_issues_count\":0,\"license\":{\"key\":\"other\",\"name\":\"Other\",\"spdx_id\":null,\"url\":null},\"forks\":0,\"open_issues\":0,\"watchers\":0,\"default_branch\":\"master\"}},\"base\":{\"label\":\"thegrb93:master\",\"ref\":\"master\",\"sha\":\"578a207249249fb83333eb5c02ac011a9ca567c3\",\"user\":{\"login\":\"thegrb93\",\"id\":6713261,\"avatar_url\":\"https://avatars1.githubusercontent.com/u/6713261?v=4\",\"gravatar_id\":\"\",\"url\":\"https://api.github.com/users/thegrb93\",\"html_url\":\"https://github.com/thegrb93\",\"followers_url\":\"https://api.github.com/users/thegrb93/followers\",\"following_url\":\"https://api.github.com/users/thegrb93/following{/other_user}\",\"gists_url\":\"https://api.github.com/users/thegrb93/gists{/gist_id}\",\"starred_url\":\"https://api.github.com/users/thegrb93/starred{/owner}{/repo}\",\"subscriptions_url\":\"https://api.github.com/users/thegrb93/subscriptions\",\"organizations_url\":\"https://api.github.com/users/thegrb93/orgs\",\"repos_url\":\"https://api.github.com/users/thegrb93/repos\",\"events_url\":\"https://api.github.com/users/thegrb93/events{/privacy}\",\"received_events_url\":\"https://api.github.com/users/thegrb93/received_events\",\"type\":\"User\",\"site_admin\":false},\"repo\":{\"id\":44720822,\"name\":\"StarfallEx\",\"full_name\":\"thegrb93/StarfallEx\",\"owner\":{\"login\":\"thegrb93\",\"id\":6713261,\"avatar_url\":\"https://avatars1.githubusercontent.com/u/6713261?v=4\",\"gravatar_id\":\"\",\"url\":\"https://api.github.com/users/thegrb93\",\"html_url\":\"https://github.com/thegrb93\",\"followers_url\":\"https://api.github.com/users/thegrb93/followers\",\"following_url\":\"https://api.github.com/users/thegrb93/following{/other_user}\",\"gists_url\":\"https://api.github.com/users/thegrb93/gists{/gist_id}\",\"starred_url\":\"https://api.github.com/users/thegrb93/starred{/owner}{/repo}\",\"subscriptions_url\":\"https://api.github.com/users/thegrb93/subscriptions\",\"organizations_url\":\"https://api.github.com/users/thegrb93/orgs\",\"repos_url\":\"https://api.github.com/users/thegrb93/repos\",\"events_url\":\"https://api.github.com/users/thegrb93/events{/privacy}\",\"received_events_url\":\"https://api.github.com/users/thegrb93/received_events\",\"type\":\"User\",\"site_admin\":false},\"private\":false,\"html_url\":\"https://github.com/thegrb93/StarfallEx\",\"description\":\"Starfall, but with active development and more features.\",\"fork\":false,\"url\":\"https://api.github.com/repos/thegrb93/StarfallEx\",\"forks_url\":\"https://api.github.com/repos/thegrb93/StarfallEx/forks\",\"keys_url\":\"https://api.github.com/repos/thegrb93/StarfallEx/keys{/key_id}\",\"collaborators_url\":\"https://api.github.com/repos/thegrb93/StarfallEx/collaborators{/collaborator}\",\"teams_url\":\"https://api.github.com/repos/thegrb93/StarfallEx/teams\",\"hooks_url\":\"https://api.github.com/repos/thegrb93/StarfallEx/hooks\",\"issue_events_url\":\"https://api.github.com/repos/thegrb93/StarfallEx/issues/events{/number}\",\"events_url\":\"https://api.github.com/repos/thegrb93/StarfallEx/events\",\"assignees_url\":\"https://api.github.com/repos/thegrb93/StarfallEx/assignees{/user}\",\"branches_url\":\"https://api.github.com/repos/thegrb93/StarfallEx/branches{/branch}\",\"tags_url\":\"https://api.github.com/repos/thegrb93/StarfallEx/tags\",\"blobs_url\":\"https://api.github.com/repos/thegrb93/StarfallEx/git/blobs{/sha}\",\"git_tags_url\":\"https://api.github.com/repos/thegrb93/StarfallEx/git/tags{/sha}\",\"git_refs_url\":\"https://api.github.com/repos/thegrb93/StarfallEx/git/refs{/sha}\",\"trees_url\":\"https://api.github.com/repos/thegrb93/StarfallEx/git/trees{/sha}\",\"statuses_url\":\"https://api.github.com/repos/thegrb93/StarfallEx/statuses/{sha}\",\"languages_url\":\"https://api.github.com/repos/thegrb93/StarfallEx/languages\",\"stargazers_url\":\"https://api.github.com/repos/thegrb93/StarfallEx/stargazers\",\"contributors_url\":\"https://api.github.com/repos/thegrb93/StarfallEx/contributors\",\"subscribers_url\":\"https://api.github.com/repos/thegrb93/StarfallEx/subscribers\",\"subscription_url\":\"https://api.github.com/repos/thegrb93/StarfallEx/subscription\",\"commits_url\":\"https://api.github.com/repos/thegrb93/StarfallEx/commits{/sha}\",\"git_commits_url\":\"https://api.github.com/repos/thegrb93/StarfallEx/git/commits{/sha}\",\"comments_url\":\"https://api.github.com/repos/thegrb93/StarfallEx/comments{/number}\",\"issue_comment_url\":\"https://api.github.com/repos/thegrb93/StarfallEx/issues/comments{/number}\",\"contents_url\":\"https://api.github.com/repos/thegrb93/StarfallEx/contents/{+path}\",\"compare_url\":\"https://api.github.com/repos/thegrb93/StarfallEx/compare/{base}...{head}\",\"merges_url\":\"https://api.github.com/repos/thegrb93/StarfallEx/merges\",\"archive_url\":\"https://api.github.com/repos/thegrb93/StarfallEx/{archive_format}{/ref}\",\"downloads_url\":\"https://api.github.com/repos/thegrb93/StarfallEx/downloads\",\"issues_url\":\"https://api.github.com/repos/thegrb93/StarfallEx/issues{/number}\",\"pulls_url\":\"https://api.github.com/repos/thegrb93/StarfallEx/pulls{/number}\",\"milestones_url\":\"https://api.github.com/repos/thegrb93/StarfallEx/milestones{/number}\",\"notifications_url\":\"https://api.github.com/repos/thegrb93/StarfallEx/notifications{?since,all,participating}\",\"labels_url\":\"https://api.github.com/repos/thegrb93/StarfallEx/labels{/name}\",\"releases_url\":\"https://api.github.com/repos/thegrb93/StarfallEx/releases{/id}\",\"deployments_url\":\"https://api.github.com/repos/thegrb93/StarfallEx/deployments\",\"created_at\":\"2015-10-22T03:51:09Z\",\"updated_at\":\"2018-03-29T09:32:16Z\",\"pushed_at\":\"2018-03-29T09:32:14Z\",\"git_url\":\"git://github.com/thegrb93/StarfallEx.git\",\"ssh_url\":\"git@github.com:thegrb93/StarfallEx.git\",\"clone_url\":\"https://github.com/thegrb93/StarfallEx.git\",\"svn_url\":\"https://github.com/thegrb93/StarfallEx\",\"homepage\":null,\"size\":7598,\"stargazers_count\":30,\"watchers_count\":30,\"language\":\"Lua\",\"has_issues\":true,\"has_projects\":true,\"has_downloads\":true,\"has_wiki\":true,\"has_pages\":true,\"forks_count\":31,\"mirror_url\":null,\"archived\":false,\"open_issues_count\":22,\"license\":{\"key\":\"other\",\"name\":\"Other\",\"spdx_id\":null,\"url\":null},\"forks\":31,\"open_issues\":22,\"watchers\":30,\"default_branch\":\"master\"}},\"_links\":{\"self\":{\"href\":\"https://api.github.com/repos/thegrb93/StarfallEx/pulls/384\"},\"html\":{\"href\":\"https://github.com/thegrb93/StarfallEx/pull/384\"},\"issue\":{\"href\":\"https://api.github.com/repos/thegrb93/StarfallEx/issues/384\"},\"comments\":{\"href\":\"https://api.github.com/repos/thegrb93/StarfallEx/issues/384/comments\"},\"review_comments\":{\"href\":\"https://api.github.com/repos/thegrb93/StarfallEx/pulls/384/comments\"},\"review_comment\":{\"href\":\"https://api.github.com/repos/thegrb93/StarfallEx/pulls/comments{/number}\"},\"commits\":{\"href\":\"https://api.github.com/repos/thegrb93/StarfallEx/pulls/384/commits\"},\"statuses\":{\"href\":\"https://api.github.com/repos/thegrb93/StarfallEx/statuses/ec73e41b1bb23cced4e582ce1366d9b1c7738a33\"}},\"author_association\":\"NONE\",\"merged\":false,\"mergeable\":null,\"rebaseable\":null,\"mergeable_state\":\"unknown\",\"merged_by\":null,\"comments\":0,\"review_comments\":0,\"maintainer_can_modify\":true,\"commits\":1,\"additions\":73,\"deletions\":22,\"changed_files\":5}},\"public\":true,\"created_at\":\"2018-03-30T00:26:45Z\"},{\"id\":\"7456911338\",\"type\":\"PushEvent\",\"actor\":{\"id\":10750173,\"login\":\"Freakazoidile\",\"display_login\":\"Freakazoidile\",\"gravatar_id\":\"\",\"url\":\"https://api.github.com/users/Freakazoidile\",\"avatar_url\":\"https://avatars.githubusercontent.com/u/10750173?\"},\"repo\":{\"id\":105302602,\"name\":\"Freakazoidile/scripts\",\"url\":\"https://api.github.com/repos/Freakazoidile/scripts\"},\"payload\":{\"push_id\":2444645304,\"size\":1,\"distinct_size\":1,\"ref\":\"refs/heads/master\",\"head\":\"300e1f90e7317be1dbfb42099d0d9d5fce8a8873\",\"before\":\"9b3081b495a1e59fe240e4365a0d5d775fb5d784\",\"commits\":[{\"sha\":\"300e1f90e7317be1dbfb42099d0d9d5fce8a8873\",\"author\":{\"email\":\"freakazoidile@gmail.com\",\"name\":\"Thomas Reid Zuk\"},\"message\":\"update nmap_host_extractor\",\"distinct\":true,\"url\":\"https://api.github.com/repos/Freakazoidile/scripts/commits/300e1f90e7317be1dbfb42099d0d9d5fce8a8873\"}]},\"public\":true,\"created_at\":\"2018-03-30T00:26:45Z\"},{\"id\":\"7456911332\",\"type\":\"PushEvent\",\"actor\":{\"id\":848522,\"login\":\"jtdoepke\",\"display_login\":\"jtdoepke\",\"gravatar_id\":\"\",\"url\":\"https://api.github.com/users/jtdoepke\",\"avatar_url\":\"https://avatars.githubusercontent.com/u/848522?\"},\"repo\":{\"id\":124443435,\"name\":\"jtdoepke/dotfiles\",\"url\":\"https://api.github.com/repos/jtdoepke/dotfiles\"},\"payload\":{\"push_id\":2444645302,\"size\":1,\"distinct_size\":1,\"ref\":\"refs/heads/master\",\"head\":\"c44212c6158edacfac761a3d4335ff709829864b\",\"before\":\"0675786e36c23f512b3cf877172e8ababe8ad19d\",\"commits\":[{\"sha\":\"c44212c6158edacfac761a3d4335ff709829864b\",\"author\":{\"email\":\"jtdoepke12@gmail.com\",\"name\":\"Jaye Doepke\"},\"message\":\"Up to Python 3.6.5\",\"distinct\":true,\"url\":\"https://api.github.com/repos/jtdoepke/dotfiles/commits/c44212c6158edacfac761a3d4335ff709829864b\"}]},\"public\":true,\"created_at\":\"2018-03-30T00:26:45Z\"},{\"id\":\"7456911331\",\"type\":\"PushEvent\",\"actor\":{\"id\":5604675,\"login\":\"slocker3\",\"display_login\":\"slocker3\",\"gravatar_id\":\"\",\"url\":\"https://api.github.com/users/slocker3\",\"avatar_url\":\"https://avatars.githubusercontent.com/u/5604675?\"},\"repo\":{\"id\":104141405,\"name\":\"washingtonstateuniversity/news.wsu.edu-internal\",\"url\":\"https://api.github.com/repos/washingtonstateuniversity/news.wsu.edu-internal\"},\"payload\":{\"push_id\":2444645300,\"size\":1,\"distinct_size\":1,\"ref\":\"refs/heads/givemeafooter\",\"head\":\"6595464941d0a0b4f92e8e8746972b46f914748a\",\"before\":\"c6df1e38a847fcddab36b39acfe80049cc0c3fd8\",\"commits\":[{\"sha\":\"6595464941d0a0b4f92e8e8746972b46f914748a\",\"author\":{\"email\":\"slocker@wsu.edu\",\"name\":\"slocker\"},\"message\":\"Footer, newlestter signup, logo link\",\"distinct\":true,\"url\":\"https://api.github.com/repos/washingtonstateuniversity/news.wsu.edu-internal/commits/6595464941d0a0b4f92e8e8746972b46f914748a\"}]},\"public\":true,\"created_at\":\"2018-03-30T00:26:45Z\",\"org\":{\"id\":5225228,\"login\":\"washingtonstateuniversity\",\"gravatar_id\":\"\",\"url\":\"https://api.github.com/orgs/washingtonstateuniversity\",\"avatar_url\":\"https://avatars.githubusercontent.com/u/5225228?\"}},{\"id\":\"7456911328\",\"type\":\"PushEvent\",\"actor\":{\"id\":5351,\"login\":\"thingles\",\"display_login\":\"thingles\",\"gravatar_id\":\"\",\"url\":\"https://api.github.com/users/thingles\",\"avatar_url\":\"https://avatars.githubusercontent.com/u/5351?\"},\"repo\":{\"id\":100132534,\"name\":\"thingles/micro.thingelstad.com\",\"url\":\"https://api.github.com/repos/thingles/micro.thingelstad.com\"},\"payload\":{\"push_id\":2444645295,\"size\":1,\"distinct_size\":1,\"ref\":\"refs/heads/master\",\"head\":\"2b91d247b8f8ab9f8fefac2513326402ebbd31f7\",\"before\":\"fd588f1ec04f7239f40e668610e2c107c0a995c9\",\"commits\":[{\"sha\":\"2b91d247b8f8ab9f8fefac2513326402ebbd31f7\",\"author\":{\"email\":\"jamie@thingelstad.com\",\"name\":\"Jamie Thingelstad\"},\"message\":\"Mirroring from Micro.blog.\",\"distinct\":true,\"url\":\"https://api.github.com/repos/thingles/micro.thingelstad.com/commits/2b91d247b8f8ab9f8fefac2513326402ebbd31f7\"}]},\"public\":true,\"created_at\":\"2018-03-30T00:26:45Z\"},{\"id\":\"7456911320\",\"type\":\"CreateEvent\",\"actor\":{\"id\":37820527,\"login\":\"PulsingPressure\",\"display_login\":\"PulsingPressure\",\"gravatar_id\":\"\",\"url\":\"https://api.github.com/users/PulsingPressure\",\"avatar_url\":\"https://avatars.githubusercontent.com/u/37820527?\"},\"repo\":{\"id\":127361088,\"name\":\"PulsingPressure/test\",\"url\":\"https://api.github.com/repos/PulsingPressure/test\"},\"payload\":{\"ref\":null,\"ref_type\":\"repository\",\"master_branch\":\"master\",\"description\":null,\"pusher_type\":\"user\"},\"public\":true,\"created_at\":\"2018-03-30T00:26:44Z\"},{\"id\":\"7456911319\",\"type\":\"ForkEvent\",\"actor\":{\"id\":34641496,\"login\":\"dyeooop\",\"display_login\":\"dyeooop\",\"gravatar_id\":\"\",\"url\":\"https://api.github.com/users/dyeooop\",\"avatar_url\":\"https://avatars.githubusercontent.com/u/34641496?\"},\"repo\":{\"id\":66283743,\"name\":\"HyunSeob/hexo-theme-overdose\",\"url\":\"https://api.github.com/repos/HyunSeob/hexo-theme-overdose\"},\"payload\":{\"forkee\":{\"id\":127361087,\"name\":\"hexo-theme-overdose\",\"full_name\":\"dyeooop/hexo-theme-overdose\",\"owner\":{\"login\":\"dyeooop\",\"id\":34641496,\"avatar_url\":\"https://avatars0.githubusercontent.com/u/34641496?v=4\",\"gravatar_id\":\"\",\"url\":\"https://api.github.com/users/dyeooop\",\"html_url\":\"https://github.com/dyeooop\",\"followers_url\":\"https://api.github.com/users/dyeooop/followers\",\"following_url\":\"https://api.github.com/users/dyeooop/following{/other_user}\",\"gists_url\":\"https://api.github.com/users/dyeooop/gists{/gist_id}\",\"starred_url\":\"https://api.github.com/users/dyeooop/starred{/owner}{/repo}\",\"subscriptions_url\":\"https://api.github.com/users/dyeooop/subscriptions\",\"organizations_url\":\"https://api.github.com/users/dyeooop/orgs\",\"repos_url\":\"https://api.github.com/users/dyeooop/repos\",\"events_url\":\"https://api.github.com/users/dyeooop/events{/privacy}\",\"received_events_url\":\"https://api.github.com/users/dyeooop/received_events\",\"type\":\"User\",\"site_admin\":false},\"private\":false,\"html_url\":\"https://github.com/dyeooop/hexo-theme-overdose\",\"description\":\"⚠  Caution: you could be overdosed with this theme.\",\"fork\":true,\"url\":\"https://api.github.com/repos/dyeooop/hexo-theme-overdose\",\"forks_url\":\"https://api.github.com/repos/dyeooop/hexo-theme-overdose/forks\",\"keys_url\":\"https://api.github.com/repos/dyeooop/hexo-theme-overdose/keys{/key_id}\",\"collaborators_url\":\"https://api.github.com/repos/dyeooop/hexo-theme-overdose/collaborators{/collaborator}\",\"teams_url\":\"https://api.github.com/repos/dyeooop/hexo-theme-overdose/teams\",\"hooks_url\":\"https://api.github.com/repos/dyeooop/hexo-theme-overdose/hooks\",\"issue_events_url\":\"https://api.github.com/repos/dyeooop/hexo-theme-overdose/issues/events{/number}\",\"events_url\":\"https://api.github.com/repos/dyeooop/hexo-theme-overdose/events\",\"assignees_url\":\"https://api.github.com/repos/dyeooop/hexo-theme-overdose/assignees{/user}\",\"branches_url\":\"https://api.github.com/repos/dyeooop/hexo-theme-overdose/branches{/branch}\",\"tags_url\":\"https://api.github.com/repos/dyeooop/hexo-theme-overdose/tags\",\"blobs_url\":\"https://api.github.com/repos/dyeooop/hexo-theme-overdose/git/blobs{/sha}\",\"git_tags_url\":\"https://api.github.com/repos/dyeooop/hexo-theme-overdose/git/tags{/sha}\",\"git_refs_url\":\"https://api.github.com/repos/dyeooop/hexo-theme-overdose/git/refs{/sha}\",\"trees_url\":\"https://api.github.com/repos/dyeooop/hexo-theme-overdose/git/trees{/sha}\",\"statuses_url\":\"https://api.github.com/repos/dyeooop/hexo-theme-overdose/statuses/{sha}\",\"languages_url\":\"https://api.github.com/repos/dyeooop/hexo-theme-overdose/languages\",\"stargazers_url\":\"https://api.github.com/repos/dyeooop/hexo-theme-overdose/stargazers\",\"contributors_url\":\"https://api.github.com/repos/dyeooop/hexo-theme-overdose/contributors\",\"subscribers_url\":\"https://api.github.com/repos/dyeooop/hexo-theme-overdose/subscribers\",\"subscription_url\":\"https://api.github.com/repos/dyeooop/hexo-theme-overdose/subscription\",\"commits_url\":\"https://api.github.com/repos/dyeooop/hexo-theme-overdose/commits{/sha}\",\"git_commits_url\":\"https://api.github.com/repos/dyeooop/hexo-theme-overdose/git/commits{/sha}\",\"comments_url\":\"https://api.github.com/repos/dyeooop/hexo-theme-overdose/comments{/number}\",\"issue_comment_url\":\"https://api.github.com/repos/dyeooop/hexo-theme-overdose/issues/comments{/number}\",\"contents_url\":\"https://api.github.com/repos/dyeooop/hexo-theme-overdose/contents/{+path}\",\"compare_url\":\"https://api.github.com/repos/dyeooop/hexo-theme-overdose/compare/{base}...{head}\",\"merges_url\":\"https://api.github.com/repos/dyeooop/hexo-theme-overdose/merges\",\"archive_url\":\"https://api.github.com/repos/dyeooop/hexo-theme-overdose/{archive_format}{/ref}\",\"downloads_url\":\"https://api.github.com/repos/dyeooop/hexo-theme-overdose/downloads\",\"issues_url\":\"https://api.github.com/repos/dyeooop/hexo-theme-overdose/issues{/number}\",\"pulls_url\":\"https://api.github.com/repos/dyeooop/hexo-theme-overdose/pulls{/number}\",\"milestones_url\":\"https://api.github.com/repos/dyeooop/hexo-theme-overdose/milestones{/number}\",\"notifications_url\":\"https://api.github.com/repos/dyeooop/hexo-theme-overdose/notifications{?since,all,participating}\",\"labels_url\":\"https://api.github.com/repos/dyeooop/hexo-theme-overdose/labels{/name}\",\"releases_url\":\"https://api.github.com/repos/dyeooop/hexo-theme-overdose/releases{/id}\",\"deployments_url\":\"https://api.github.com/repos/dyeooop/hexo-theme-overdose/deployments\",\"created_at\":\"2018-03-30T00:26:44Z\",\"updated_at\":\"2018-03-19T11:49:30Z\",\"pushed_at\":\"2018-03-16T02:44:25Z\",\"git_url\":\"git://github.com/dyeooop/hexo-theme-overdose.git\",\"ssh_url\":\"git@github.com:dyeooop/hexo-theme-overdose.git\",\"clone_url\":\"https://github.com/dyeooop/hexo-theme-overdose.git\",\"svn_url\":\"https://github.com/dyeooop/hexo-theme-overdose\",\"homepage\":\"\",\"size\":39491,\"stargazers_count\":0,\"watchers_count\":0,\"language\":null,\"has_issues\":false,\"has_projects\":true,\"has_downloads\":true,\"has_wiki\":true,\"has_pages\":false,\"forks_count\":0,\"mirror_url\":null,\"archived\":false,\"open_issues_count\":0,\"license\":{\"key\":\"mit\",\"name\":\"MIT License\",\"spdx_id\":\"MIT\",\"url\":\"https://api.github.com/licenses/mit\"},\"forks\":0,\"open_issues\":0,\"watchers\":0,\"default_branch\":\"master\",\"public\":true}},\"public\":true,\"created_at\":\"2018-03-30T00:26:44Z\"},{\"id\":\"7456911315\",\"type\":\"PushEvent\",\"actor\":{\"id\":37131793,\"login\":\"whdghks\",\"display_login\":\"whdghks\",\"gravatar_id\":\"\",\"url\":\"https://api.github.com/users/whdghks\",\"avatar_url\":\"https://avatars.githubusercontent.com/u/37131793?\"},\"repo\":{\"id\":124179482,\"name\":\"whdghks/smoke\",\"url\":\"https://api.github.com/repos/whdghks/smoke\"},\"payload\":{\"push_id\":2444645291,\"size\":1,\"distinct_size\":1,\"ref\":\"refs/heads/master\",\"head\":\"51e7216d5939f3698f36b1135d58f2935ad4a20f\",\"before\":\"4055c4add5968a00bce7e206a9913d76f35e0b4e\",\"commits\":[{\"sha\":\"51e7216d5939f3698f36b1135d58f2935ad4a20f\",\"author\":{\"email\":\"37131793+whdghks@users.noreply.github.com\",\"name\":\"whdghks\"},\"message\":\"Update README.md\",\"distinct\":true,\"url\":\"https://api.github.com/repos/whdghks/smoke/commits/51e7216d5939f3698f36b1135d58f2935ad4a20f\"}]},\"public\":true,\"created_at\":\"2018-03-30T00:26:44Z\"},{\"id\":\"7456911313\",\"type\":\"PushEvent\",\"actor\":{\"id\":18709905,\"login\":\"aarondr77\",\"display_login\":\"aarondr77\",\"gravatar_id\":\"\",\"url\":\"https://api.github.com/users/aarondr77\",\"avatar_url\":\"https://avatars.githubusercontent.com/u/18709905?\"},\"repo\":{\"id\":127360937,\"name\":\"aarondr77/QuadTreeCompression\",\"url\":\"https://api.github.com/repos/aarondr77/QuadTreeCompression\"},\"payload\":{\"push_id\":2444645288,\"size\":1,\"distinct_size\":1,\"ref\":\"refs/heads/master\",\"head\":\"e544597117bc932ecaefd3390f8da19abb5774e3\",\"before\":\"5503dfd2ceed38c4b954aa725dcf076d8caadb08\",\"commits\":[{\"sha\":\"e544597117bc932ecaefd3390f8da19abb5774e3\",\"author\":{\"email\":\"aarondia@wharton.upenn.edu\",\"name\":\"Aaron Diamond-Reivich\"},\"message\":\"Create QuadTreeImpl\",\"distinct\":true,\"url\":\"https://api.github.com/repos/aarondr77/QuadTreeCompression/commits/e544597117bc932ecaefd3390f8da19abb5774e3\"}]},\"public\":true,\"created_at\":\"2018-03-30T00:26:44Z\"},{\"id\":\"7456911312\",\"type\":\"PushEvent\",\"actor\":{\"id\":5680873,\"login\":\"choisukjune\",\"display_login\":\"choisukjune\",\"gravatar_id\":\"\",\"url\":\"https://api.github.com/users/choisukjune\",\"avatar_url\":\"https://avatars.githubusercontent.com/u/5680873?\"},\"repo\":{\"id\":108496436,\"name\":\"choisukjune/httpServer_csj\",\"url\":\"https://api.github.com/repos/choisukjune/httpServer_csj\"},\"payload\":{\"push_id\":2444645287,\"size\":1,\"distinct_size\":1,\"ref\":\"refs/heads/master\",\"head\":\"ba5154870c629c691f21b73bb241c969108d0400\",\"before\":\"ef96969702ed963d5f61687feaaf36b3290d4b66\",\"commits\":[{\"sha\":\"ba5154870c629c691f21b73bb241c969108d0400\",\"author\":{\"email\":\"sukjune.choi@gmail.com\",\"name\":\"choisukjune\"},\"message\":\"sdfsdf\",\"distinct\":true,\"url\":\"https://api.github.com/repos/choisukjune/httpServer_csj/commits/ba5154870c629c691f21b73bb241c969108d0400\"}]},\"public\":true,\"created_at\":\"2018-03-30T00:26:44Z\"},{\"id\":\"7456911308\",\"type\":\"PushEvent\",\"actor\":{\"id\":8935018,\"login\":\"fannbrian\",\"display_login\":\"fannbrian\",\"gravatar_id\":\"\",\"url\":\"https://api.github.com/users/fannbrian\",\"avatar_url\":\"https://avatars.githubusercontent.com/u/8935018?\"},\"repo\":{\"id\":115482141,\"name\":\"fannbrian/GetUsGrub\",\"url\":\"https://api.github.com/repos/fannbrian/GetUsGrub\"},\"payload\":{\"push_id\":2444645286,\"size\":3,\"distinct_size\":1,\"ref\":\"refs/heads/master\",\"head\":\"ca6f76a6e4770cf25d9530fe9ec154fb5781d30d\",\"before\":\"043774b940ecd307e38d2c596393ee0df990cf95\",\"commits\":[{\"sha\":\"8545189eab0a81f619c06eef32bd712290e22f44\",\"author\":{\"email\":\"fannbrian@gmail.com\",\"name\":\"Unknown\"},\"message\":\"Merge branch \\'master\\' into BrianFann\",\"distinct\":false,\"url\":\"https://api.github.com/repos/fannbrian/GetUsGrub/commits/8545189eab0a81f619c06eef32bd712290e22f44\"},{\"sha\":\"ebbc88de1fadff7193b7e8fd4d4313eb1de4252d\",\"author\":{\"email\":\"fannbrian@gmail.com\",\"name\":\"fannbrian\"},\"message\":\"Renamed Timezone => TimeZone\\\\n\\\\nJenn requested this change, and she\\'s the only other developer that is currently using the time zone service so it shouldn\\'t break anyone\\'s code.\",\"distinct\":false,\"url\":\"https://api.github.com/repos/fannbrian/GetUsGrub/commits/ebbc88de1fadff7193b7e8fd4d4313eb1de4252d\"},{\"sha\":\"ca6f76a6e4770cf25d9530fe9ec154fb5781d30d\",\"author\":{\"email\":\"fannbrian@gmail.com\",\"name\":\"fannbrian\"},\"message\":\"Merge branch \\'BrianFann\\'\",\"distinct\":true,\"url\":\"https://api.github.com/repos/fannbrian/GetUsGrub/commits/ca6f76a6e4770cf25d9530fe9ec154fb5781d30d\"}]},\"public\":true,\"created_at\":\"2018-03-30T00:26:44Z\"},{\"id\":\"7456911305\",\"type\":\"PushEvent\",\"actor\":{\"id\":30882650,\"login\":\"MatthewFavela\",\"display_login\":\"MatthewFavela\",\"gravatar_id\":\"\",\"url\":\"https://api.github.com/users/MatthewFavela\",\"avatar_url\":\"https://avatars.githubusercontent.com/u/30882650?\"},\"repo\":{\"id\":124158149,\"name\":\"MatthewFavela/whack-a-mole\",\"url\":\"https://api.github.com/repos/MatthewFavela/whack-a-mole\"},\"payload\":{\"push_id\":2444645284,\"size\":1,\"distinct_size\":1,\"ref\":\"refs/heads/master\",\"head\":\"ebfd4effbbbddba9149213938230800617618eae\",\"before\":\"b251bbee5d98f680866424d6f6119329a3099bab\",\"commits\":[{\"sha\":\"ebfd4effbbbddba9149213938230800617618eae\",\"author\":{\"email\":\"mfavela3508@myhta.org\",\"name\":\"MatthewFavela\"},\"message\":\"what a mole\",\"distinct\":true,\"url\":\"https://api.github.com/repos/MatthewFavela/whack-a-mole/commits/ebfd4effbbbddba9149213938230800617618eae\"}]},\"public\":true,\"created_at\":\"2018-03-30T00:26:44Z\"},{\"id\":\"7456911302\",\"type\":\"CreateEvent\",\"actor\":{\"id\":37917517,\"login\":\"ppgt\",\"display_login\":\"ppgt\",\"gravatar_id\":\"\",\"url\":\"https://api.github.com/users/ppgt\",\"avatar_url\":\"https://avatars.githubusercontent.com/u/37917517?\"},\"repo\":{\"id\":127361086,\"name\":\"ppgt/eeqd\",\"url\":\"https://api.github.com/repos/ppgt/eeqd\"},\"payload\":{\"ref\":null,\"ref_type\":\"repository\",\"master_branch\":\"master\",\"description\":null,\"pusher_type\":\"user\"},\"public\":true,\"created_at\":\"2018-03-30T00:26:44Z\"}]'"
      ]
     },
     "execution_count": 14,
     "metadata": {},
     "output_type": "execute_result"
    }
   ],
   "source": [
    "r = requests.get('https://api.github.com/events')\n",
    "r.text"
   ]
  },
  {
   "cell_type": "markdown",
   "metadata": {},
   "source": [
    "Requests will automatically decode content from the server. Most unicode charsets are seamlessly decoded.\n",
    "\n",
    "When you make a request, Requests makes educated guesses about the encoding of the response based on the HTTP headers. The text encoding guessed by Requests is used when you access r.text. You can find out what encoding Requests is using, and change it, using the r.encoding property:"
   ]
  },
  {
   "cell_type": "code",
   "execution_count": 15,
   "metadata": {},
   "outputs": [
    {
     "data": {
      "text/plain": [
       "'utf-8'"
      ]
     },
     "execution_count": 15,
     "metadata": {},
     "output_type": "execute_result"
    }
   ],
   "source": [
    "r.encoding"
   ]
  },
  {
   "cell_type": "code",
   "execution_count": 16,
   "metadata": {},
   "outputs": [],
   "source": [
    "r.encoding = 'ISO-8859-1'"
   ]
  },
  {
   "cell_type": "markdown",
   "metadata": {},
   "source": [
    "If you change the encoding, Requests will use the new value of r.encoding whenever you call r.text. You might want to do this in any situation where you can apply special logic to work out what the encoding of the content will be. For example, HTML and XML have the ability to specify their encoding in their body. In situations like this, you should use r.content to find the encoding, and then set r.encoding. This will let you use r.text with the correct encoding.\n",
    "\n",
    "Requests will also use custom encodings in the event that you need them. If you have created your own encoding and registered it with the codecs module, you can simply use the codec name as the value of r.encoding and Requests will handle the decoding for you."
   ]
  },
  {
   "cell_type": "markdown",
   "metadata": {},
   "source": [
    "## Binary Response Content\n",
    "You can also access the response body as bytes, for non-text requests:"
   ]
  },
  {
   "cell_type": "code",
   "execution_count": 17,
   "metadata": {},
   "outputs": [
    {
     "data": {
      "text/plain": [
       "b'[{\"id\":\"7456911384\",\"type\":\"WatchEvent\",\"actor\":{\"id\":13096,\"login\":\"niw\",\"display_login\":\"niw\",\"gravatar_id\":\"\",\"url\":\"https://api.github.com/users/niw\",\"avatar_url\":\"https://avatars.githubusercontent.com/u/13096?\"},\"repo\":{\"id\":103700907,\"name\":\"GoogleCloudPlatform/metacontroller\",\"url\":\"https://api.github.com/repos/GoogleCloudPlatform/metacontroller\"},\"payload\":{\"action\":\"started\"},\"public\":true,\"created_at\":\"2018-03-30T00:26:46Z\",\"org\":{\"id\":2810941,\"login\":\"GoogleCloudPlatform\",\"gravatar_id\":\"\",\"url\":\"https://api.github.com/orgs/GoogleCloudPlatform\",\"avatar_url\":\"https://avatars.githubusercontent.com/u/2810941?\"}},{\"id\":\"7456911383\",\"type\":\"PushEvent\",\"actor\":{\"id\":11704878,\"login\":\"libbylg\",\"display_login\":\"libbylg\",\"gravatar_id\":\"\",\"url\":\"https://api.github.com/users/libbylg\",\"avatar_url\":\"https://avatars.githubusercontent.com/u/11704878?\"},\"repo\":{\"id\":126342287,\"name\":\"libbylg/smq\",\"url\":\"https://api.github.com/repos/libbylg/smq\"},\"payload\":{\"push_id\":2444645331,\"size\":1,\"distinct_size\":1,\"ref\":\"refs/heads/master\",\"head\":\"fd78866bc5b77eb6e37008eca41dbcd0ba0d0845\",\"before\":\"e4c8fd1f67deb9b6d61105a3d0ddb70266819714\",\"commits\":[{\"sha\":\"fd78866bc5b77eb6e37008eca41dbcd0ba0d0845\",\"author\":{\"email\":\"libbylg@126.com\",\"name\":\"libbylg\"},\"message\":\"\\xe6\\xb6\\x88\\xe6\\x81\\xaf\\xe7\\x9a\\x84\\xe5\\x88\\x9b\\xe5\\xbb\\xba\\xe5\\x92\\x8c\\xe9\\x94\\x80\\xe6\\xaf\\x81\\xe5\\xae\\x8c\\xe6\\x88\\x90\",\"distinct\":true,\"url\":\"https://api.github.com/repos/libbylg/smq/commits/fd78866bc5b77eb6e37008eca41dbcd0ba0d0845\"}]},\"public\":true,\"created_at\":\"2018-03-30T00:26:46Z\"},{\"id\":\"7456911378\",\"type\":\"PushEvent\",\"actor\":{\"id\":13323303,\"login\":\"suzuki-shunsuke\",\"display_login\":\"suzuki-shunsuke\",\"gravatar_id\":\"\",\"url\":\"https://api.github.com/users/suzuki-shunsuke\",\"avatar_url\":\"https://avatars.githubusercontent.com/u/13323303?\"},\"repo\":{\"id\":127004532,\"name\":\"suzuki-shunsuke/go-set\",\"url\":\"https://api.github.com/repos/suzuki-shunsuke/go-set\"},\"payload\":{\"push_id\":2444645326,\"size\":5,\"distinct_size\":1,\"ref\":\"refs/heads/master\",\"head\":\"373e20e1e6bf68ca52a37396908d48ab10c514a7\",\"before\":\"360bd68baaa884d620b4f0f4ad5ff42c16f6ac1f\",\"commits\":[{\"sha\":\"9f6a18bc5f5b31137e51570cdf1a866ca1bfb3b3\",\"author\":{\"email\":\"suzuki.shunsuke.1989@gmail.com\",\"name\":\"Suzuki Shunsuke\"},\"message\":\"perf: improve MapstructureDecodeHookFromListToStrSet\",\"distinct\":false,\"url\":\"https://api.github.com/repos/suzuki-shunsuke/go-set/commits/9f6a18bc5f5b31137e51570cdf1a866ca1bfb3b3\"},{\"sha\":\"e2ec3c64b73bcb1562a33bea2048b0bc43861ee8\",\"author\":{\"email\":\"suzuki.shunsuke.1989@gmail.com\",\"name\":\"Suzuki Shunsuke\"},\"message\":\"fix: fix comment\",\"distinct\":false,\"url\":\"https://api.github.com/repos/suzuki-shunsuke/go-set/commits/e2ec3c64b73bcb1562a33bea2048b0bc43861ee8\"},{\"sha\":\"69c7a34ce62096007d0c7d365ffb4e43f6707127\",\"author\":{\"email\":\"suzuki.shunsuke.1989@gmail.com\",\"name\":\"Suzuki Shunsuke\"},\"message\":\"refactor: refactor with gofmt\",\"distinct\":false,\"url\":\"https://api.github.com/repos/suzuki-shunsuke/go-set/commits/69c7a34ce62096007d0c7d365ffb4e43f6707127\"},{\"sha\":\"a4b07217482165f918191754d85d5ae93b29a6af\",\"author\":{\"email\":\"suzuki.shunsuke.1989@gmail.com\",\"name\":\"Suzuki Shunsuke\"},\"message\":\"docs: add the status badge of Go Report Card\\\\n\\\\nhttps://goreportcard.com/report/github.com/suzuki-shunsuke/go-set\",\"distinct\":false,\"url\":\"https://api.github.com/repos/suzuki-shunsuke/go-set/commits/a4b07217482165f918191754d85d5ae93b29a6af\"},{\"sha\":\"373e20e1e6bf68ca52a37396908d48ab10c514a7\",\"author\":{\"email\":\"suzuki-shunsuke@users.noreply.github.com\",\"name\":\"Suzuki Shunsuke\"},\"message\":\"Merge pull request #8 from suzuki-shunsuke/perf-decodehook\\\\n\\\\nPerf decodehook\",\"distinct\":true,\"url\":\"https://api.github.com/repos/suzuki-shunsuke/go-set/commits/373e20e1e6bf68ca52a37396908d48ab10c514a7\"}]},\"public\":true,\"created_at\":\"2018-03-30T00:26:46Z\"},{\"id\":\"7456911374\",\"type\":\"IssueCommentEvent\",\"actor\":{\"id\":11889765,\"login\":\"ashleytqy\",\"display_login\":\"ashleytqy\",\"gravatar_id\":\"\",\"url\":\"https://api.github.com/users/ashleytqy\",\"avatar_url\":\"https://avatars.githubusercontent.com/u/11889765?\"},\"repo\":{\"id\":21781890,\"name\":\"TechAtNYU/intranet\",\"url\":\"https://api.github.com/repos/TechAtNYU/intranet\"},\"payload\":{\"action\":\"created\",\"issue\":{\"url\":\"https://api.github.com/repos/TechAtNYU/intranet/issues/200\",\"repository_url\":\"https://api.github.com/repos/TechAtNYU/intranet\",\"labels_url\":\"https://api.github.com/repos/TechAtNYU/intranet/issues/200/labels{/name}\",\"comments_url\":\"https://api.github.com/repos/TechAtNYU/intranet/issues/200/comments\",\"events_url\":\"https://api.github.com/repos/TechAtNYU/intranet/issues/200/events\",\"html_url\":\"https://github.com/TechAtNYU/intranet/pull/200\",\"id\":309572576,\"number\":200,\"title\":\"Converting Date/Time to EST\",\"user\":{\"login\":\"ashley\",\"id\":2825071,\"avatar_url\":\"https://avatars0.githubusercontent.com/u/2825071?v=4\",\"gravatar_id\":\"\",\"url\":\"https://api.github.com/users/ashley\",\"html_url\":\"https://github.com/ashley\",\"followers_url\":\"https://api.github.com/users/ashley/followers\",\"following_url\":\"https://api.github.com/users/ashley/following{/other_user}\",\"gists_url\":\"https://api.github.com/users/ashley/gists{/gist_id}\",\"starred_url\":\"https://api.github.com/users/ashley/starred{/owner}{/repo}\",\"subscriptions_url\":\"https://api.github.com/users/ashley/subscriptions\",\"organizations_url\":\"https://api.github.com/users/ashley/orgs\",\"repos_url\":\"https://api.github.com/users/ashley/repos\",\"events_url\":\"https://api.github.com/users/ashley/events{/privacy}\",\"received_events_url\":\"https://api.github.com/users/ashley/received_events\",\"type\":\"User\",\"site_admin\":false},\"labels\":[],\"state\":\"open\",\"locked\":false,\"assignee\":null,\"assignees\":[],\"milestone\":null,\"comments\":0,\"created_at\":\"2018-03-28T23:53:16Z\",\"updated_at\":\"2018-03-30T00:26:46Z\",\"closed_at\":null,\"author_association\":\"MEMBER\",\"pull_request\":{\"url\":\"https://api.github.com/repos/TechAtNYU/intranet/pulls/200\",\"html_url\":\"https://github.com/TechAtNYU/intranet/pull/200\",\"diff_url\":\"https://github.com/TechAtNYU/intranet/pull/200.diff\",\"patch_url\":\"https://github.com/TechAtNYU/intranet/pull/200.patch\"},\"body\":\"For Issue #170 \\\\r\\\\n* Created functions in preProcess to reformat dates and times to EST.\\\\r\\\\n* Implemented this function to created and modified fields for all forms (including default controller)\\\\r\\\\n\\\\r\\\\nQuestion: preProcess.prettifyDate() can be replaced with moment functions. Should I refactored that?\"},\"comment\":{\"url\":\"https://api.github.com/repos/TechAtNYU/intranet/issues/comments/377411407\",\"html_url\":\"https://github.com/TechAtNYU/intranet/pull/200#issuecomment-377411407\",\"issue_url\":\"https://api.github.com/repos/TechAtNYU/intranet/issues/200\",\"id\":377411407,\"user\":{\"login\":\"ashleytqy\",\"id\":11889765,\"avatar_url\":\"https://avatars3.githubusercontent.com/u/11889765?v=4\",\"gravatar_id\":\"\",\"url\":\"https://api.github.com/users/ashleytqy\",\"html_url\":\"https://github.com/ashleytqy\",\"followers_url\":\"https://api.github.com/users/ashleytqy/followers\",\"following_url\":\"https://api.github.com/users/ashleytqy/following{/other_user}\",\"gists_url\":\"https://api.github.com/users/ashleytqy/gists{/gist_id}\",\"starred_url\":\"https://api.github.com/users/ashleytqy/starred{/owner}{/repo}\",\"subscriptions_url\":\"https://api.github.com/users/ashleytqy/subscriptions\",\"organizations_url\":\"https://api.github.com/users/ashleytqy/orgs\",\"repos_url\":\"https://api.github.com/users/ashleytqy/repos\",\"events_url\":\"https://api.github.com/users/ashleytqy/events{/privacy}\",\"received_events_url\":\"https://api.github.com/users/ashleytqy/received_events\",\"type\":\"User\",\"site_admin\":false},\"created_at\":\"2018-03-30T00:26:46Z\",\"updated_at\":\"2018-03-30T00:26:46Z\",\"author_association\":\"CONTRIBUTOR\",\"body\":\"> Question: preProcess.prettifyDate() can be replaced with moment functions. Should I refactored that?\\\\r\\\\n\\\\r\\\\nSure, go ahead!\"}},\"public\":true,\"created_at\":\"2018-03-30T00:26:46Z\",\"org\":{\"id\":1698981,\"login\":\"TechAtNYU\",\"gravatar_id\":\"\",\"url\":\"https://api.github.com/orgs/TechAtNYU\",\"avatar_url\":\"https://avatars.githubusercontent.com/u/1698981?\"}},{\"id\":\"7456911372\",\"type\":\"PushEvent\",\"actor\":{\"id\":12628315,\"login\":\"weiqin61\",\"display_login\":\"weiqin61\",\"gravatar_id\":\"\",\"url\":\"https://api.github.com/users/weiqin61\",\"avatar_url\":\"https://avatars.githubusercontent.com/u/12628315?\"},\"repo\":{\"id\":121178914,\"name\":\"terraref/laser3d\",\"url\":\"https://api.github.com/repos/terraref/laser3d\"},\"payload\":{\"push_id\":2444645324,\"size\":12,\"distinct_size\":1,\"ref\":\"refs/heads/lasmerge\",\"head\":\"d4e9fdc8d5b185c51ad00b51a93ee239102455f2\",\"before\":\"43607fe9e6abb9f8f278ad7a56e114e1d4507f4a\",\"commits\":[{\"sha\":\"e7963f9e0990ed78e6f86e85500fd2d6a671ccd5\",\"author\":{\"email\":\"mburnet2@illinois.com\",\"name\":\"Max Burnette\"},\"message\":\"remove LAStools and extractor files\",\"distinct\":false,\"url\":\"https://api.github.com/repos/terraref/laser3d/commits/e7963f9e0990ed78e6f86e85500fd2d6a671ccd5\"},{\"sha\":\"799d8afc4f509c8c0e75f582499c61cfa9e128c6\",\"author\":{\"email\":\"mburnet2@illinois.com\",\"name\":\"Max Burnette\"},\"message\":\"combine code into one file\",\"distinct\":false,\"url\":\"https://api.github.com/repos/terraref/laser3d/commits/799d8afc4f509c8c0e75f582499c61cfa9e128c6\"},{\"sha\":\"359d4a47428e1010a81df98ee0dad2eb197396cd\",\"author\":{\"email\":\"mburnet2@illinois.com\",\"name\":\"Max Burnette\"},\"message\":\"remove lasmerge\",\"distinct\":false,\"url\":\"https://api.github.com/repos/terraref/laser3d/commits/359d4a47428e1010a81df98ee0dad2eb197396cd\"},{\"sha\":\"e821965c8a0afa156ef0630a1ad351995577a37b\",\"author\":{\"email\":\"mburnet2@illinois.com\",\"name\":\"Max Burnette\"},\"message\":\"add replacements for lasmerge, las2dem\",\"distinct\":false,\"url\":\"https://api.github.com/repos/terraref/laser3d/commits/e821965c8a0afa156ef0630a1ad351995577a37b\"},{\"sha\":\"1d68d0f2e2bd5600fe4953bee6adec371ecc2fbb\",\"author\":{\"email\":\"mburnet2@illinois.com\",\"name\":\"Max Burnette\"},\"message\":\"add stub for generating slope code\",\"distinct\":false,\"url\":\"https://api.github.com/repos/terraref/laser3d/commits/1d68d0f2e2bd5600fe4953bee6adec371ecc2fbb\"},{\"sha\":\"403a99f0f921bc3aa9c3c5d63a4863ccffb4dea6\",\"author\":{\"email\":\"mburnet2@illinois.com\",\"name\":\"Max Burnette\"},\"message\":\"Update readme with install instructions\",\"distinct\":false,\"url\":\"https://api.github.com/repos/terraref/laser3d/commits/403a99f0f921bc3aa9c3c5d63a4863ccffb4dea6\"},{\"sha\":\"c9928ea2f8a8e683f6185bfed857ce143bec5c8c\",\"author\":{\"email\":\"mburnet2@illinois.com\",\"name\":\"Max Burnette\"},\"message\":\"fix init for pipit\",\"distinct\":false,\"url\":\"https://api.github.com/repos/terraref/laser3d/commits/c9928ea2f8a8e683f6185bfed857ce143bec5c8c\"},{\"sha\":\"d7fcfde3b757b5f4435997d3dd0a0cc36b210ef4\",\"author\":{\"email\":\"mburnet2@illinois.com\",\"name\":\"Max Burnette\"},\"message\":\"change nodata to -1 instead of 0\",\"distinct\":false,\"url\":\"https://api.github.com/repos/terraref/laser3d/commits/d7fcfde3b757b5f4435997d3dd0a0cc36b210ef4\"},{\"sha\":\"5ed65160a50d007c1a910f7e7eafc9b009d38e84\",\"author\":{\"email\":\"mburnet2@illinois.com\",\"name\":\"Max Burnette\"},\"message\":\"update setup file\",\"distinct\":false,\"url\":\"https://api.github.com/repos/terraref/laser3d/commits/5ed65160a50d007c1a910f7e7eafc9b009d38e84\"},{\"sha\":\"a9f16f9e9914bce6808b0da556422ef0ea263de2\",\"author\":{\"email\":\"mburnet2@illinois.com\",\"name\":\"Max Burnette\"},\"message\":\"simplify readme\",\"distinct\":false,\"url\":\"https://api.github.com/repos/terraref/laser3d/commits/a9f16f9e9914bce6808b0da556422ef0ea263de2\"},{\"sha\":\"06753f2292f9183ff8c80764b45af1f19956708c\",\"author\":{\"email\":\"mburnet2@illinois.com\",\"name\":\"Max Burnette\"},\"message\":\"update readme\",\"distinct\":false,\"url\":\"https://api.github.com/repos/terraref/laser3d/commits/06753f2292f9183ff8c80764b45af1f19956708c\"},{\"sha\":\"d4e9fdc8d5b185c51ad00b51a93ee239102455f2\",\"author\":{\"email\":\"wei@agrible.com\",\"name\":\"WEI QIN\"},\"message\":\"Merge pull request #4 from terraref/lasmerge_no_lastools\\\\n\\\\nlaser3d functions without LAStools, everything works now on my end, I will compile the test based on the new function, also we can think of the next step.\",\"distinct\":true,\"url\":\"https://api.github.com/repos/terraref/laser3d/commits/d4e9fdc8d5b185c51ad00b51a93ee239102455f2\"}]},\"public\":true,\"created_at\":\"2018-03-30T00:26:46Z\",\"org\":{\"id\":12563787,\"login\":\"terraref\",\"gravatar_id\":\"\",\"url\":\"https://api.github.com/orgs/terraref\",\"avatar_url\":\"https://avatars.githubusercontent.com/u/12563787?\"}},{\"id\":\"7456911367\",\"type\":\"PushEvent\",\"actor\":{\"id\":17859728,\"login\":\"evalle07\",\"display_login\":\"evalle07\",\"gravatar_id\":\"\",\"url\":\"https://api.github.com/users/evalle07\",\"avatar_url\":\"https://avatars.githubusercontent.com/u/17859728?\"},\"repo\":{\"id\":121296054,\"name\":\"evalle07/tesis\",\"url\":\"https://api.github.com/repos/evalle07/tesis\"},\"payload\":{\"push_id\":2444645322,\"size\":1,\"distinct_size\":1,\"ref\":\"refs/heads/master\",\"head\":\"af15b94f841b11e3251b056244f0cf87da42027b\",\"before\":\"abdc1012ad133e20b011c24544bf828e9196ba59\",\"commits\":[{\"sha\":\"af15b94f841b11e3251b056244f0cf87da42027b\",\"author\":{\"email\":\"edgarvallemr@gmail.com\",\"name\":\"Unknown\"},\"message\":\"fix: validar que usuario administrador pueda eliminar comentario\",\"distinct\":true,\"url\":\"https://api.github.com/repos/evalle07/tesis/commits/af15b94f841b11e3251b056244f0cf87da42027b\"}]},\"public\":true,\"created_at\":\"2018-03-30T00:26:46Z\"},{\"id\":\"7456911361\",\"type\":\"PushEvent\",\"actor\":{\"id\":545960,\"login\":\"strehlst\",\"display_login\":\"strehlst\",\"gravatar_id\":\"\",\"url\":\"https://api.github.com/users/strehlst\",\"avatar_url\":\"https://avatars.githubusercontent.com/u/545960?\"},\"repo\":{\"id\":122850440,\"name\":\"strehlst/what-would-you-do\",\"url\":\"https://api.github.com/repos/strehlst/what-would-you-do\"},\"payload\":{\"push_id\":2444645319,\"size\":4,\"distinct_size\":4,\"ref\":\"refs/heads/46-User-avatar-upload\",\"head\":\"38f17771de8892ab90c3ddd4dd13706fa6f750f3\",\"before\":\"315f85757ff36b7478451408b44922489a4c6a0a\",\"commits\":[{\"sha\":\"f3334781c4579c7367b0cdc38ca53703b6bc2d9c\",\"author\":{\"email\":\"strehl@szenar.io\",\"name\":\"strehlst\"},\"message\":\"Update views\",\"distinct\":true,\"url\":\"https://api.github.com/repos/strehlst/what-would-you-do/commits/f3334781c4579c7367b0cdc38ca53703b6bc2d9c\"},{\"sha\":\"6555ae71648c940a2b877ad62ea92517c7217383\",\"author\":{\"email\":\"strehl@szenar.io\",\"name\":\"strehlst\"},\"message\":\"Manage authorization with CanCan\",\"distinct\":true,\"url\":\"https://api.github.com/repos/strehlst/what-would-you-do/commits/6555ae71648c940a2b877ad62ea92517c7217383\"},{\"sha\":\"9341266d0707a4fa30b820bcfe4758c64495edab\",\"author\":{\"email\":\"strehl@szenar.io\",\"name\":\"strehlst\"},\"message\":\"Upload logic\",\"distinct\":true,\"url\":\"https://api.github.com/repos/strehlst/what-would-you-do/commits/9341266d0707a4fa30b820bcfe4758c64495edab\"},{\"sha\":\"38f17771de8892ab90c3ddd4dd13706fa6f750f3\",\"author\":{\"email\":\"strehl@szenar.io\",\"name\":\"strehlst\"},\"message\":\"Update translations\",\"distinct\":true,\"url\":\"https://api.github.com/repos/strehlst/what-would-you-do/commits/38f17771de8892ab90c3ddd4dd13706fa6f750f3\"}]},\"public\":true,\"created_at\":\"2018-03-30T00:26:46Z\"},{\"id\":\"7456911359\",\"type\":\"PushEvent\",\"actor\":{\"id\":7451578,\"login\":\"davidjoffe\",\"display_login\":\"davidjoffe\",\"gravatar_id\":\"\",\"url\":\"https://api.github.com/users/davidjoffe\",\"avatar_url\":\"https://avatars.githubusercontent.com/u/7451578?\"},\"repo\":{\"id\":70349686,\"name\":\"davidjoffe/dave_gnukem\",\"url\":\"https://api.github.com/repos/davidjoffe/dave_gnukem\"},\"payload\":{\"push_id\":2444645318,\"size\":1,\"distinct_size\":1,\"ref\":\"refs/heads/master\",\"head\":\"4189d3c2d5e807a3a11e94c95a601eeaa350f644\",\"before\":\"f432cb10a0d529dae85d0b922c73f5f2fc907e44\",\"commits\":[{\"sha\":\"4189d3c2d5e807a3a11e94c95a601eeaa350f644\",\"author\":{\"email\":\"david.joffe@tshwanedje.com\",\"name\":\"davidjoffe\"},\"message\":\"Remove fixme saying the shoot-all-cameras bonus is \\'not implemented\\' (I just tested, it is - though what isn\\'t tested is that within the levels there aren\\'t cameras impossible to reach)\",\"distinct\":true,\"url\":\"https://api.github.com/repos/davidjoffe/dave_gnukem/commits/4189d3c2d5e807a3a11e94c95a601eeaa350f644\"}]},\"public\":true,\"created_at\":\"2018-03-30T00:26:46Z\"},{\"id\":\"7456911358\",\"type\":\"PushEvent\",\"actor\":{\"id\":5718823,\"login\":\"meganukebmp\",\"display_login\":\"meganukebmp\",\"gravatar_id\":\"\",\"url\":\"https://api.github.com/users/meganukebmp\",\"avatar_url\":\"https://avatars.githubusercontent.com/u/5718823?\"},\"repo\":{\"id\":126895417,\"name\":\"TeamMoskvich/android_device_motorola_msm8226-common\",\"url\":\"https://api.github.com/repos/TeamMoskvich/android_device_motorola_msm8226-common\"},\"payload\":{\"push_id\":2444645317,\"size\":1,\"distinct_size\":1,\"ref\":\"refs/heads/lineage-15.1\",\"head\":\"d8a21fea5529ea830f8da11de7e9d1f5d5b13edb\",\"before\":\"533f9433e7ab2fffbec1940f42ca6ea5deb68571\",\"commits\":[{\"sha\":\"d8a21fea5529ea830f8da11de7e9d1f5d5b13edb\",\"author\":{\"email\":\"dan.pasanen@gmail.com\",\"name\":\"Dan Pasanen\"},\"message\":\"titan: add shim for wifi_qsap_set_tx_power\\\\n\\\\nChange-Id: I9ef277db6f4e068e7b92710f6039b4f261d72282\",\"distinct\":true,\"url\":\"https://api.github.com/repos/TeamMoskvich/android_device_motorola_msm8226-common/commits/d8a21fea5529ea830f8da11de7e9d1f5d5b13edb\"}]},\"public\":true,\"created_at\":\"2018-03-30T00:26:46Z\",\"org\":{\"id\":37814171,\"login\":\"TeamMoskvich\",\"gravatar_id\":\"\",\"url\":\"https://api.github.com/orgs/TeamMoskvich\",\"avatar_url\":\"https://avatars.githubusercontent.com/u/37814171?\"}},{\"id\":\"7456911357\",\"type\":\"PullRequestEvent\",\"actor\":{\"id\":13323303,\"login\":\"suzuki-shunsuke\",\"display_login\":\"suzuki-shunsuke\",\"gravatar_id\":\"\",\"url\":\"https://api.github.com/users/suzuki-shunsuke\",\"avatar_url\":\"https://avatars.githubusercontent.com/u/13323303?\"},\"repo\":{\"id\":127004532,\"name\":\"suzuki-shunsuke/go-set\",\"url\":\"https://api.github.com/repos/suzuki-shunsuke/go-set\"},\"payload\":{\"action\":\"closed\",\"number\":8,\"pull_request\":{\"url\":\"https://api.github.com/repos/suzuki-shunsuke/go-set/pulls/8\",\"id\":178467982,\"html_url\":\"https://github.com/suzuki-shunsuke/go-set/pull/8\",\"diff_url\":\"https://github.com/suzuki-shunsuke/go-set/pull/8.diff\",\"patch_url\":\"https://github.com/suzuki-shunsuke/go-set/pull/8.patch\",\"issue_url\":\"https://api.github.com/repos/suzuki-shunsuke/go-set/issues/8\",\"number\":8,\"state\":\"closed\",\"locked\":false,\"title\":\"Perf decodehook\",\"user\":{\"login\":\"suzuki-shunsuke\",\"id\":13323303,\"avatar_url\":\"https://avatars1.githubusercontent.com/u/13323303?v=4\",\"gravatar_id\":\"\",\"url\":\"https://api.github.com/users/suzuki-shunsuke\",\"html_url\":\"https://github.com/suzuki-shunsuke\",\"followers_url\":\"https://api.github.com/users/suzuki-shunsuke/followers\",\"following_url\":\"https://api.github.com/users/suzuki-shunsuke/following{/other_user}\",\"gists_url\":\"https://api.github.com/users/suzuki-shunsuke/gists{/gist_id}\",\"starred_url\":\"https://api.github.com/users/suzuki-shunsuke/starred{/owner}{/repo}\",\"subscriptions_url\":\"https://api.github.com/users/suzuki-shunsuke/subscriptions\",\"organizations_url\":\"https://api.github.com/users/suzuki-shunsuke/orgs\",\"repos_url\":\"https://api.github.com/users/suzuki-shunsuke/repos\",\"events_url\":\"https://api.github.com/users/suzuki-shunsuke/events{/privacy}\",\"received_events_url\":\"https://api.github.com/users/suzuki-shunsuke/received_events\",\"type\":\"User\",\"site_admin\":false},\"body\":\"\",\"created_at\":\"2018-03-29T23:52:14Z\",\"updated_at\":\"2018-03-30T00:26:45Z\",\"closed_at\":\"2018-03-30T00:26:45Z\",\"merged_at\":\"2018-03-30T00:26:45Z\",\"merge_commit_sha\":\"373e20e1e6bf68ca52a37396908d48ab10c514a7\",\"assignee\":null,\"assignees\":[],\"requested_reviewers\":[],\"requested_teams\":[],\"labels\":[],\"milestone\":null,\"commits_url\":\"https://api.github.com/repos/suzuki-shunsuke/go-set/pulls/8/commits\",\"review_comments_url\":\"https://api.github.com/repos/suzuki-shunsuke/go-set/pulls/8/comments\",\"review_comment_url\":\"https://api.github.com/repos/suzuki-shunsuke/go-set/pulls/comments{/number}\",\"comments_url\":\"https://api.github.com/repos/suzuki-shunsuke/go-set/issues/8/comments\",\"statuses_url\":\"https://api.github.com/repos/suzuki-shunsuke/go-set/statuses/a4b07217482165f918191754d85d5ae93b29a6af\",\"head\":{\"label\":\"suzuki-shunsuke:perf-decodehook\",\"ref\":\"perf-decodehook\",\"sha\":\"a4b07217482165f918191754d85d5ae93b29a6af\",\"user\":{\"login\":\"suzuki-shunsuke\",\"id\":13323303,\"avatar_url\":\"https://avatars1.githubusercontent.com/u/13323303?v=4\",\"gravatar_id\":\"\",\"url\":\"https://api.github.com/users/suzuki-shunsuke\",\"html_url\":\"https://github.com/suzuki-shunsuke\",\"followers_url\":\"https://api.github.com/users/suzuki-shunsuke/followers\",\"following_url\":\"https://api.github.com/users/suzuki-shunsuke/following{/other_user}\",\"gists_url\":\"https://api.github.com/users/suzuki-shunsuke/gists{/gist_id}\",\"starred_url\":\"https://api.github.com/users/suzuki-shunsuke/starred{/owner}{/repo}\",\"subscriptions_url\":\"https://api.github.com/users/suzuki-shunsuke/subscriptions\",\"organizations_url\":\"https://api.github.com/users/suzuki-shunsuke/orgs\",\"repos_url\":\"https://api.github.com/users/suzuki-shunsuke/repos\",\"events_url\":\"https://api.github.com/users/suzuki-shunsuke/events{/privacy}\",\"received_events_url\":\"https://api.github.com/users/suzuki-shunsuke/received_events\",\"type\":\"User\",\"site_admin\":false},\"repo\":{\"id\":127004532,\"name\":\"go-set\",\"full_name\":\"suzuki-shunsuke/go-set\",\"owner\":{\"login\":\"suzuki-shunsuke\",\"id\":13323303,\"avatar_url\":\"https://avatars1.githubusercontent.com/u/13323303?v=4\",\"gravatar_id\":\"\",\"url\":\"https://api.github.com/users/suzuki-shunsuke\",\"html_url\":\"https://github.com/suzuki-shunsuke\",\"followers_url\":\"https://api.github.com/users/suzuki-shunsuke/followers\",\"following_url\":\"https://api.github.com/users/suzuki-shunsuke/following{/other_user}\",\"gists_url\":\"https://api.github.com/users/suzuki-shunsuke/gists{/gist_id}\",\"starred_url\":\"https://api.github.com/users/suzuki-shunsuke/starred{/owner}{/repo}\",\"subscriptions_url\":\"https://api.github.com/users/suzuki-shunsuke/subscriptions\",\"organizations_url\":\"https://api.github.com/users/suzuki-shunsuke/orgs\",\"repos_url\":\"https://api.github.com/users/suzuki-shunsuke/repos\",\"events_url\":\"https://api.github.com/users/suzuki-shunsuke/events{/privacy}\",\"received_events_url\":\"https://api.github.com/users/suzuki-shunsuke/received_events\",\"type\":\"User\",\"site_admin\":false},\"private\":false,\"html_url\":\"https://github.com/suzuki-shunsuke/go-set\",\"description\":\"set data structure for golang\",\"fork\":false,\"url\":\"https://api.github.com/repos/suzuki-shunsuke/go-set\",\"forks_url\":\"https://api.github.com/repos/suzuki-shunsuke/go-set/forks\",\"keys_url\":\"https://api.github.com/repos/suzuki-shunsuke/go-set/keys{/key_id}\",\"collaborators_url\":\"https://api.github.com/repos/suzuki-shunsuke/go-set/collaborators{/collaborator}\",\"teams_url\":\"https://api.github.com/repos/suzuki-shunsuke/go-set/teams\",\"hooks_url\":\"https://api.github.com/repos/suzuki-shunsuke/go-set/hooks\",\"issue_events_url\":\"https://api.github.com/repos/suzuki-shunsuke/go-set/issues/events{/number}\",\"events_url\":\"https://api.github.com/repos/suzuki-shunsuke/go-set/events\",\"assignees_url\":\"https://api.github.com/repos/suzuki-shunsuke/go-set/assignees{/user}\",\"branches_url\":\"https://api.github.com/repos/suzuki-shunsuke/go-set/branches{/branch}\",\"tags_url\":\"https://api.github.com/repos/suzuki-shunsuke/go-set/tags\",\"blobs_url\":\"https://api.github.com/repos/suzuki-shunsuke/go-set/git/blobs{/sha}\",\"git_tags_url\":\"https://api.github.com/repos/suzuki-shunsuke/go-set/git/tags{/sha}\",\"git_refs_url\":\"https://api.github.com/repos/suzuki-shunsuke/go-set/git/refs{/sha}\",\"trees_url\":\"https://api.github.com/repos/suzuki-shunsuke/go-set/git/trees{/sha}\",\"statuses_url\":\"https://api.github.com/repos/suzuki-shunsuke/go-set/statuses/{sha}\",\"languages_url\":\"https://api.github.com/repos/suzuki-shunsuke/go-set/languages\",\"stargazers_url\":\"https://api.github.com/repos/suzuki-shunsuke/go-set/stargazers\",\"contributors_url\":\"https://api.github.com/repos/suzuki-shunsuke/go-set/contributors\",\"subscribers_url\":\"https://api.github.com/repos/suzuki-shunsuke/go-set/subscribers\",\"subscription_url\":\"https://api.github.com/repos/suzuki-shunsuke/go-set/subscription\",\"commits_url\":\"https://api.github.com/repos/suzuki-shunsuke/go-set/commits{/sha}\",\"git_commits_url\":\"https://api.github.com/repos/suzuki-shunsuke/go-set/git/commits{/sha}\",\"comments_url\":\"https://api.github.com/repos/suzuki-shunsuke/go-set/comments{/number}\",\"issue_comment_url\":\"https://api.github.com/repos/suzuki-shunsuke/go-set/issues/comments{/number}\",\"contents_url\":\"https://api.github.com/repos/suzuki-shunsuke/go-set/contents/{+path}\",\"compare_url\":\"https://api.github.com/repos/suzuki-shunsuke/go-set/compare/{base}...{head}\",\"merges_url\":\"https://api.github.com/repos/suzuki-shunsuke/go-set/merges\",\"archive_url\":\"https://api.github.com/repos/suzuki-shunsuke/go-set/{archive_format}{/ref}\",\"downloads_url\":\"https://api.github.com/repos/suzuki-shunsuke/go-set/downloads\",\"issues_url\":\"https://api.github.com/repos/suzuki-shunsuke/go-set/issues{/number}\",\"pulls_url\":\"https://api.github.com/repos/suzuki-shunsuke/go-set/pulls{/number}\",\"milestones_url\":\"https://api.github.com/repos/suzuki-shunsuke/go-set/milestones{/number}\",\"notifications_url\":\"https://api.github.com/repos/suzuki-shunsuke/go-set/notifications{?since,all,participating}\",\"labels_url\":\"https://api.github.com/repos/suzuki-shunsuke/go-set/labels{/name}\",\"releases_url\":\"https://api.github.com/repos/suzuki-shunsuke/go-set/releases{/id}\",\"deployments_url\":\"https://api.github.com/repos/suzuki-shunsuke/go-set/deployments\",\"created_at\":\"2018-03-27T15:04:45Z\",\"updated_at\":\"2018-03-29T13:34:41Z\",\"pushed_at\":\"2018-03-30T00:26:45Z\",\"git_url\":\"git://github.com/suzuki-shunsuke/go-set.git\",\"ssh_url\":\"git@github.com:suzuki-shunsuke/go-set.git\",\"clone_url\":\"https://github.com/suzuki-shunsuke/go-set.git\",\"svn_url\":\"https://github.com/suzuki-shunsuke/go-set\",\"homepage\":null,\"size\":112,\"stargazers_count\":0,\"watchers_count\":0,\"language\":\"Go\",\"has_issues\":true,\"has_projects\":true,\"has_downloads\":true,\"has_wiki\":true,\"has_pages\":false,\"forks_count\":0,\"mirror_url\":null,\"archived\":false,\"open_issues_count\":0,\"license\":{\"key\":\"mit\",\"name\":\"MIT License\",\"spdx_id\":\"MIT\",\"url\":\"https://api.github.com/licenses/mit\"},\"forks\":0,\"open_issues\":0,\"watchers\":0,\"default_branch\":\"master\"}},\"base\":{\"label\":\"suzuki-shunsuke:master\",\"ref\":\"master\",\"sha\":\"360bd68baaa884d620b4f0f4ad5ff42c16f6ac1f\",\"user\":{\"login\":\"suzuki-shunsuke\",\"id\":13323303,\"avatar_url\":\"https://avatars1.githubusercontent.com/u/13323303?v=4\",\"gravatar_id\":\"\",\"url\":\"https://api.github.com/users/suzuki-shunsuke\",\"html_url\":\"https://github.com/suzuki-shunsuke\",\"followers_url\":\"https://api.github.com/users/suzuki-shunsuke/followers\",\"following_url\":\"https://api.github.com/users/suzuki-shunsuke/following{/other_user}\",\"gists_url\":\"https://api.github.com/users/suzuki-shunsuke/gists{/gist_id}\",\"starred_url\":\"https://api.github.com/users/suzuki-shunsuke/starred{/owner}{/repo}\",\"subscriptions_url\":\"https://api.github.com/users/suzuki-shunsuke/subscriptions\",\"organizations_url\":\"https://api.github.com/users/suzuki-shunsuke/orgs\",\"repos_url\":\"https://api.github.com/users/suzuki-shunsuke/repos\",\"events_url\":\"https://api.github.com/users/suzuki-shunsuke/events{/privacy}\",\"received_events_url\":\"https://api.github.com/users/suzuki-shunsuke/received_events\",\"type\":\"User\",\"site_admin\":false},\"repo\":{\"id\":127004532,\"name\":\"go-set\",\"full_name\":\"suzuki-shunsuke/go-set\",\"owner\":{\"login\":\"suzuki-shunsuke\",\"id\":13323303,\"avatar_url\":\"https://avatars1.githubusercontent.com/u/13323303?v=4\",\"gravatar_id\":\"\",\"url\":\"https://api.github.com/users/suzuki-shunsuke\",\"html_url\":\"https://github.com/suzuki-shunsuke\",\"followers_url\":\"https://api.github.com/users/suzuki-shunsuke/followers\",\"following_url\":\"https://api.github.com/users/suzuki-shunsuke/following{/other_user}\",\"gists_url\":\"https://api.github.com/users/suzuki-shunsuke/gists{/gist_id}\",\"starred_url\":\"https://api.github.com/users/suzuki-shunsuke/starred{/owner}{/repo}\",\"subscriptions_url\":\"https://api.github.com/users/suzuki-shunsuke/subscriptions\",\"organizations_url\":\"https://api.github.com/users/suzuki-shunsuke/orgs\",\"repos_url\":\"https://api.github.com/users/suzuki-shunsuke/repos\",\"events_url\":\"https://api.github.com/users/suzuki-shunsuke/events{/privacy}\",\"received_events_url\":\"https://api.github.com/users/suzuki-shunsuke/received_events\",\"type\":\"User\",\"site_admin\":false},\"private\":false,\"html_url\":\"https://github.com/suzuki-shunsuke/go-set\",\"description\":\"set data structure for golang\",\"fork\":false,\"url\":\"https://api.github.com/repos/suzuki-shunsuke/go-set\",\"forks_url\":\"https://api.github.com/repos/suzuki-shunsuke/go-set/forks\",\"keys_url\":\"https://api.github.com/repos/suzuki-shunsuke/go-set/keys{/key_id}\",\"collaborators_url\":\"https://api.github.com/repos/suzuki-shunsuke/go-set/collaborators{/collaborator}\",\"teams_url\":\"https://api.github.com/repos/suzuki-shunsuke/go-set/teams\",\"hooks_url\":\"https://api.github.com/repos/suzuki-shunsuke/go-set/hooks\",\"issue_events_url\":\"https://api.github.com/repos/suzuki-shunsuke/go-set/issues/events{/number}\",\"events_url\":\"https://api.github.com/repos/suzuki-shunsuke/go-set/events\",\"assignees_url\":\"https://api.github.com/repos/suzuki-shunsuke/go-set/assignees{/user}\",\"branches_url\":\"https://api.github.com/repos/suzuki-shunsuke/go-set/branches{/branch}\",\"tags_url\":\"https://api.github.com/repos/suzuki-shunsuke/go-set/tags\",\"blobs_url\":\"https://api.github.com/repos/suzuki-shunsuke/go-set/git/blobs{/sha}\",\"git_tags_url\":\"https://api.github.com/repos/suzuki-shunsuke/go-set/git/tags{/sha}\",\"git_refs_url\":\"https://api.github.com/repos/suzuki-shunsuke/go-set/git/refs{/sha}\",\"trees_url\":\"https://api.github.com/repos/suzuki-shunsuke/go-set/git/trees{/sha}\",\"statuses_url\":\"https://api.github.com/repos/suzuki-shunsuke/go-set/statuses/{sha}\",\"languages_url\":\"https://api.github.com/repos/suzuki-shunsuke/go-set/languages\",\"stargazers_url\":\"https://api.github.com/repos/suzuki-shunsuke/go-set/stargazers\",\"contributors_url\":\"https://api.github.com/repos/suzuki-shunsuke/go-set/contributors\",\"subscribers_url\":\"https://api.github.com/repos/suzuki-shunsuke/go-set/subscribers\",\"subscription_url\":\"https://api.github.com/repos/suzuki-shunsuke/go-set/subscription\",\"commits_url\":\"https://api.github.com/repos/suzuki-shunsuke/go-set/commits{/sha}\",\"git_commits_url\":\"https://api.github.com/repos/suzuki-shunsuke/go-set/git/commits{/sha}\",\"comments_url\":\"https://api.github.com/repos/suzuki-shunsuke/go-set/comments{/number}\",\"issue_comment_url\":\"https://api.github.com/repos/suzuki-shunsuke/go-set/issues/comments{/number}\",\"contents_url\":\"https://api.github.com/repos/suzuki-shunsuke/go-set/contents/{+path}\",\"compare_url\":\"https://api.github.com/repos/suzuki-shunsuke/go-set/compare/{base}...{head}\",\"merges_url\":\"https://api.github.com/repos/suzuki-shunsuke/go-set/merges\",\"archive_url\":\"https://api.github.com/repos/suzuki-shunsuke/go-set/{archive_format}{/ref}\",\"downloads_url\":\"https://api.github.com/repos/suzuki-shunsuke/go-set/downloads\",\"issues_url\":\"https://api.github.com/repos/suzuki-shunsuke/go-set/issues{/number}\",\"pulls_url\":\"https://api.github.com/repos/suzuki-shunsuke/go-set/pulls{/number}\",\"milestones_url\":\"https://api.github.com/repos/suzuki-shunsuke/go-set/milestones{/number}\",\"notifications_url\":\"https://api.github.com/repos/suzuki-shunsuke/go-set/notifications{?since,all,participating}\",\"labels_url\":\"https://api.github.com/repos/suzuki-shunsuke/go-set/labels{/name}\",\"releases_url\":\"https://api.github.com/repos/suzuki-shunsuke/go-set/releases{/id}\",\"deployments_url\":\"https://api.github.com/repos/suzuki-shunsuke/go-set/deployments\",\"created_at\":\"2018-03-27T15:04:45Z\",\"updated_at\":\"2018-03-29T13:34:41Z\",\"pushed_at\":\"2018-03-30T00:26:45Z\",\"git_url\":\"git://github.com/suzuki-shunsuke/go-set.git\",\"ssh_url\":\"git@github.com:suzuki-shunsuke/go-set.git\",\"clone_url\":\"https://github.com/suzuki-shunsuke/go-set.git\",\"svn_url\":\"https://github.com/suzuki-shunsuke/go-set\",\"homepage\":null,\"size\":112,\"stargazers_count\":0,\"watchers_count\":0,\"language\":\"Go\",\"has_issues\":true,\"has_projects\":true,\"has_downloads\":true,\"has_wiki\":true,\"has_pages\":false,\"forks_count\":0,\"mirror_url\":null,\"archived\":false,\"open_issues_count\":0,\"license\":{\"key\":\"mit\",\"name\":\"MIT License\",\"spdx_id\":\"MIT\",\"url\":\"https://api.github.com/licenses/mit\"},\"forks\":0,\"open_issues\":0,\"watchers\":0,\"default_branch\":\"master\"}},\"_links\":{\"self\":{\"href\":\"https://api.github.com/repos/suzuki-shunsuke/go-set/pulls/8\"},\"html\":{\"href\":\"https://github.com/suzuki-shunsuke/go-set/pull/8\"},\"issue\":{\"href\":\"https://api.github.com/repos/suzuki-shunsuke/go-set/issues/8\"},\"comments\":{\"href\":\"https://api.github.com/repos/suzuki-shunsuke/go-set/issues/8/comments\"},\"review_comments\":{\"href\":\"https://api.github.com/repos/suzuki-shunsuke/go-set/pulls/8/comments\"},\"review_comment\":{\"href\":\"https://api.github.com/repos/suzuki-shunsuke/go-set/pulls/comments{/number}\"},\"commits\":{\"href\":\"https://api.github.com/repos/suzuki-shunsuke/go-set/pulls/8/commits\"},\"statuses\":{\"href\":\"https://api.github.com/repos/suzuki-shunsuke/go-set/statuses/a4b07217482165f918191754d85d5ae93b29a6af\"}},\"author_association\":\"OWNER\",\"merged\":true,\"mergeable\":null,\"rebaseable\":null,\"mergeable_state\":\"unknown\",\"merged_by\":{\"login\":\"suzuki-shunsuke\",\"id\":13323303,\"avatar_url\":\"https://avatars1.githubusercontent.com/u/13323303?v=4\",\"gravatar_id\":\"\",\"url\":\"https://api.github.com/users/suzuki-shunsuke\",\"html_url\":\"https://github.com/suzuki-shunsuke\",\"followers_url\":\"https://api.github.com/users/suzuki-shunsuke/followers\",\"following_url\":\"https://api.github.com/users/suzuki-shunsuke/following{/other_user}\",\"gists_url\":\"https://api.github.com/users/suzuki-shunsuke/gists{/gist_id}\",\"starred_url\":\"https://api.github.com/users/suzuki-shunsuke/starred{/owner}{/repo}\",\"subscriptions_url\":\"https://api.github.com/users/suzuki-shunsuke/subscriptions\",\"organizations_url\":\"https://api.github.com/users/suzuki-shunsuke/orgs\",\"repos_url\":\"https://api.github.com/users/suzuki-shunsuke/repos\",\"events_url\":\"https://api.github.com/users/suzuki-shunsuke/events{/privacy}\",\"received_events_url\":\"https://api.github.com/users/suzuki-shunsuke/received_events\",\"type\":\"User\",\"site_admin\":false},\"comments\":1,\"review_comments\":0,\"maintainer_can_modify\":false,\"commits\":4,\"additions\":12,\"deletions\":8,\"changed_files\":4}},\"public\":true,\"created_at\":\"2018-03-30T00:26:45Z\"},{\"id\":\"7456911356\",\"type\":\"CreateEvent\",\"actor\":{\"id\":14100207,\"login\":\"takutotacos\",\"display_login\":\"takutotacos\",\"gravatar_id\":\"\",\"url\":\"https://api.github.com/users/takutotacos\",\"avatar_url\":\"https://avatars.githubusercontent.com/u/14100207?\"},\"repo\":{\"id\":125837825,\"name\":\"takutotacos/automate_scripts\",\"url\":\"https://api.github.com/repos/takutotacos/automate_scripts\"},\"payload\":{\"ref\":\"feature/create_github_pr_on_push\",\"ref_type\":\"branch\",\"master_branch\":\"get_remote_branch\",\"description\":null,\"pusher_type\":\"user\"},\"public\":true,\"created_at\":\"2018-03-30T00:26:45Z\"},{\"id\":\"7456911354\",\"type\":\"PushEvent\",\"actor\":{\"id\":13438538,\"login\":\"ocerri\",\"display_login\":\"ocerri\",\"gravatar_id\":\"\",\"url\":\"https://api.github.com/users/ocerri\",\"avatar_url\":\"https://avatars.githubusercontent.com/u/13438538?\"},\"repo\":{\"id\":125961522,\"name\":\"CaltechPrecisionTiming/TimingDAQ\",\"url\":\"https://api.github.com/repos/CaltechPrecisionTiming/TimingDAQ\"},\"payload\":{\"push_id\":2444645315,\"size\":1,\"distinct_size\":1,\"ref\":\"refs/heads/master\",\"head\":\"ba6e8d948c66fc2c6599fed59f48b5e0f713faf1\",\"before\":\"737a575165df8387dc14f6cc86d56453d30fff08\",\"commits\":[{\"sha\":\"ba6e8d948c66fc2c6599fed59f48b5e0f713faf1\",\"author\":{\"email\":\"olmo.cerri@gmail.com\",\"name\":\"Olmo Cerri\"},\"message\":\"Safety add for debud imgs output\",\"distinct\":true,\"url\":\"https://api.github.com/repos/CaltechPrecisionTiming/TimingDAQ/commits/ba6e8d948c66fc2c6599fed59f48b5e0f713faf1\"}]},\"public\":true,\"created_at\":\"2018-03-30T00:26:45Z\",\"org\":{\"id\":7052971,\"login\":\"CaltechPrecisionTiming\",\"gravatar_id\":\"\",\"url\":\"https://api.github.com/orgs/CaltechPrecisionTiming\",\"avatar_url\":\"https://avatars.githubusercontent.com/u/7052971?\"}},{\"id\":\"7456911350\",\"type\":\"PushEvent\",\"actor\":{\"id\":28373718,\"login\":\"philfoster\",\"display_login\":\"philfoster\",\"gravatar_id\":\"\",\"url\":\"https://api.github.com/users/philfoster\",\"avatar_url\":\"https://avatars.githubusercontent.com/u/28373718?\"},\"repo\":{\"id\":102283450,\"name\":\"philfoster/option_screener\",\"url\":\"https://api.github.com/repos/philfoster/option_screener\"},\"payload\":{\"push_id\":2444645312,\"size\":3,\"distinct_size\":3,\"ref\":\"refs/heads/develop\",\"head\":\"99b3df576399fab13097fecd616a423e871d1ceb\",\"before\":\"b5cc3e79f314a769abf62bf5fdf3ebdb76273551\",\"commits\":[{\"sha\":\"571bfbb1b7c973e1dce591ba5eec89c2f78793d1\",\"author\":{\"email\":\"phil@the-fosters.net\",\"name\":\"Philip Foster\"},\"message\":\"finishing .csv\",\"distinct\":true,\"url\":\"https://api.github.com/repos/philfoster/option_screener/commits/571bfbb1b7c973e1dce591ba5eec89c2f78793d1\"},{\"sha\":\"aadc5ed5e3a23381d38454fb29f449fe07d2693d\",\"author\":{\"email\":\"phil@the-fosters.net\",\"name\":\"Philip Foster\"},\"message\":\"Finishing .csv\",\"distinct\":true,\"url\":\"https://api.github.com/repos/philfoster/option_screener/commits/aadc5ed5e3a23381d38454fb29f449fe07d2693d\"},{\"sha\":\"99b3df576399fab13097fecd616a423e871d1ceb\",\"author\":{\"email\":\"phil@the-fosters.net\",\"name\":\"Philip Foster\"},\"message\":\"Merge branch \\'develop\\' of https://github.com/philfoster/option_screener.git into develop\",\"distinct\":true,\"url\":\"https://api.github.com/repos/philfoster/option_screener/commits/99b3df576399fab13097fecd616a423e871d1ceb\"}]},\"public\":true,\"created_at\":\"2018-03-30T00:26:45Z\"},{\"id\":\"7456911349\",\"type\":\"PullRequestReviewCommentEvent\",\"actor\":{\"id\":4370550,\"login\":\"wilzbach\",\"display_login\":\"wilzbach\",\"gravatar_id\":\"\",\"url\":\"https://api.github.com/users/wilzbach\",\"avatar_url\":\"https://avatars.githubusercontent.com/u/4370550?\"},\"repo\":{\"id\":1257084,\"name\":\"dlang/phobos\",\"url\":\"https://api.github.com/repos/dlang/phobos\"},\"payload\":{\"action\":\"created\",\"comment\":{\"url\":\"https://api.github.com/repos/dlang/phobos/pulls/comments/178212439\",\"pull_request_review_id\":108240905,\"id\":178212439,\"diff_hunk\":\"@@ -2477,13 +2477,19 @@ public:\\\\n             assert(!errorSet.isSet(testPair[1]));\\\\n \\\\n             ubyte[1] b;\\\\n-            testPair[0].send(b[]);\\\\n+            // std.socket isn\\'t fully @safe anymore - see https://github.com/dlang/phobos/pull/6204\",\"path\":\"std/socket.d\",\"position\":null,\"original_position\":5,\"commit_id\":\"9953f02fa09fd1dc45516cb46b350fb6a8a03f9b\",\"original_commit_id\":\"e9a4b6acc5ff6658c90d52118e391983dc223e6f\",\"user\":{\"login\":\"wilzbach\",\"id\":4370550,\"avatar_url\":\"https://avatars3.githubusercontent.com/u/4370550?v=4\",\"gravatar_id\":\"\",\"url\":\"https://api.github.com/users/wilzbach\",\"html_url\":\"https://github.com/wilzbach\",\"followers_url\":\"https://api.github.com/users/wilzbach/followers\",\"following_url\":\"https://api.github.com/users/wilzbach/following{/other_user}\",\"gists_url\":\"https://api.github.com/users/wilzbach/gists{/gist_id}\",\"starred_url\":\"https://api.github.com/users/wilzbach/starred{/owner}{/repo}\",\"subscriptions_url\":\"https://api.github.com/users/wilzbach/subscriptions\",\"organizations_url\":\"https://api.github.com/users/wilzbach/orgs\",\"repos_url\":\"https://api.github.com/users/wilzbach/repos\",\"events_url\":\"https://api.github.com/users/wilzbach/events{/privacy}\",\"received_events_url\":\"https://api.github.com/users/wilzbach/received_events\",\"type\":\"User\",\"site_admin\":false},\"body\":\"Ok. Tried to improve the wording.\",\"created_at\":\"2018-03-30T00:26:45Z\",\"updated_at\":\"2018-03-30T00:26:45Z\",\"html_url\":\"https://github.com/dlang/phobos/pull/6384#discussion_r178212439\",\"pull_request_url\":\"https://api.github.com/repos/dlang/phobos/pulls/6384\",\"author_association\":\"MEMBER\",\"_links\":{\"self\":{\"href\":\"https://api.github.com/repos/dlang/phobos/pulls/comments/178212439\"},\"html\":{\"href\":\"https://github.com/dlang/phobos/pull/6384#discussion_r178212439\"},\"pull_request\":{\"href\":\"https://api.github.com/repos/dlang/phobos/pulls/6384\"}},\"in_reply_to_id\":178210381},\"pull_request\":{\"url\":\"https://api.github.com/repos/dlang/phobos/pulls/6384\",\"id\":178448751,\"html_url\":\"https://github.com/dlang/phobos/pull/6384\",\"diff_url\":\"https://github.com/dlang/phobos/pull/6384.diff\",\"patch_url\":\"https://github.com/dlang/phobos/pull/6384.patch\",\"issue_url\":\"https://api.github.com/repos/dlang/phobos/issues/6384\",\"number\":6384,\"state\":\"open\",\"locked\":false,\"title\":\"Make std.socket DIP1000 compatible\",\"user\":{\"login\":\"wilzbach\",\"id\":4370550,\"avatar_url\":\"https://avatars3.githubusercontent.com/u/4370550?v=4\",\"gravatar_id\":\"\",\"url\":\"https://api.github.com/users/wilzbach\",\"html_url\":\"https://github.com/wilzbach\",\"followers_url\":\"https://api.github.com/users/wilzbach/followers\",\"following_url\":\"https://api.github.com/users/wilzbach/following{/other_user}\",\"gists_url\":\"https://api.github.com/users/wilzbach/gists{/gist_id}\",\"starred_url\":\"https://api.github.com/users/wilzbach/starred{/owner}{/repo}\",\"subscriptions_url\":\"https://api.github.com/users/wilzbach/subscriptions\",\"organizations_url\":\"https://api.github.com/users/wilzbach/orgs\",\"repos_url\":\"https://api.github.com/users/wilzbach/repos\",\"events_url\":\"https://api.github.com/users/wilzbach/events{/privacy}\",\"received_events_url\":\"https://api.github.com/users/wilzbach/received_events\",\"type\":\"User\",\"site_admin\":false},\"body\":\"From @WalterBright:\\\\n\\\\n> How about simply making std.socket @System so it will compile with -dip1000 and move on?\\\\n\\\\nhttps://github.com/dlang/phobos/pull/6204#discussion_r177646821\",\"created_at\":\"2018-03-29T21:40:07Z\",\"updated_at\":\"2018-03-30T00:26:45Z\",\"closed_at\":null,\"merged_at\":null,\"merge_commit_sha\":\"dba732c7b94ed1b0beb632a263a4a79830a419aa\",\"assignee\":null,\"assignees\":[],\"requested_reviewers\":[{\"login\":\"CyberShadow\",\"id\":160894,\"avatar_url\":\"https://avatars0.githubusercontent.com/u/160894?v=4\",\"gravatar_id\":\"\",\"url\":\"https://api.github.com/users/CyberShadow\",\"html_url\":\"https://github.com/CyberShadow\",\"followers_url\":\"https://api.github.com/users/CyberShadow/followers\",\"following_url\":\"https://api.github.com/users/CyberShadow/following{/other_user}\",\"gists_url\":\"https://api.github.com/users/CyberShadow/gists{/gist_id}\",\"starred_url\":\"https://api.github.com/users/CyberShadow/starred{/owner}{/repo}\",\"subscriptions_url\":\"https://api.github.com/users/CyberShadow/subscriptions\",\"organizations_url\":\"https://api.github.com/users/CyberShadow/orgs\",\"repos_url\":\"https://api.github.com/users/CyberShadow/repos\",\"events_url\":\"https://api.github.com/users/CyberShadow/events{/privacy}\",\"received_events_url\":\"https://api.github.com/users/CyberShadow/received_events\",\"type\":\"User\",\"site_admin\":false}],\"requested_teams\":[],\"labels\":[{\"id\":876573869,\"url\":\"https://api.github.com/repos/dlang/phobos/labels/Vision\",\"name\":\"Vision\",\"color\":\"aafc07\",\"default\":false}],\"milestone\":null,\"commits_url\":\"https://api.github.com/repos/dlang/phobos/pulls/6384/commits\",\"review_comments_url\":\"https://api.github.com/repos/dlang/phobos/pulls/6384/comments\",\"review_comment_url\":\"https://api.github.com/repos/dlang/phobos/pulls/comments{/number}\",\"comments_url\":\"https://api.github.com/repos/dlang/phobos/issues/6384/comments\",\"statuses_url\":\"https://api.github.com/repos/dlang/phobos/statuses/9953f02fa09fd1dc45516cb46b350fb6a8a03f9b\",\"head\":{\"label\":\"wilzbach:pr-6204\",\"ref\":\"pr-6204\",\"sha\":\"9953f02fa09fd1dc45516cb46b350fb6a8a03f9b\",\"user\":{\"login\":\"wilzbach\",\"id\":4370550,\"avatar_url\":\"https://avatars3.githubusercontent.com/u/4370550?v=4\",\"gravatar_id\":\"\",\"url\":\"https://api.github.com/users/wilzbach\",\"html_url\":\"https://github.com/wilzbach\",\"followers_url\":\"https://api.github.com/users/wilzbach/followers\",\"following_url\":\"https://api.github.com/users/wilzbach/following{/other_user}\",\"gists_url\":\"https://api.github.com/users/wilzbach/gists{/gist_id}\",\"starred_url\":\"https://api.github.com/users/wilzbach/starred{/owner}{/repo}\",\"subscriptions_url\":\"https://api.github.com/users/wilzbach/subscriptions\",\"organizations_url\":\"https://api.github.com/users/wilzbach/orgs\",\"repos_url\":\"https://api.github.com/users/wilzbach/repos\",\"events_url\":\"https://api.github.com/users/wilzbach/events{/privacy}\",\"received_events_url\":\"https://api.github.com/users/wilzbach/received_events\",\"type\":\"User\",\"site_admin\":false},\"repo\":{\"id\":52009651,\"name\":\"phobos\",\"full_name\":\"wilzbach/phobos\",\"owner\":{\"login\":\"wilzbach\",\"id\":4370550,\"avatar_url\":\"https://avatars3.githubusercontent.com/u/4370550?v=4\",\"gravatar_id\":\"\",\"url\":\"https://api.github.com/users/wilzbach\",\"html_url\":\"https://github.com/wilzbach\",\"followers_url\":\"https://api.github.com/users/wilzbach/followers\",\"following_url\":\"https://api.github.com/users/wilzbach/following{/other_user}\",\"gists_url\":\"https://api.github.com/users/wilzbach/gists{/gist_id}\",\"starred_url\":\"https://api.github.com/users/wilzbach/starred{/owner}{/repo}\",\"subscriptions_url\":\"https://api.github.com/users/wilzbach/subscriptions\",\"organizations_url\":\"https://api.github.com/users/wilzbach/orgs\",\"repos_url\":\"https://api.github.com/users/wilzbach/repos\",\"events_url\":\"https://api.github.com/users/wilzbach/events{/privacy}\",\"received_events_url\":\"https://api.github.com/users/wilzbach/received_events\",\"type\":\"User\",\"site_admin\":false},\"private\":false,\"html_url\":\"https://github.com/wilzbach/phobos\",\"description\":\"The standard library of the D programming language\",\"fork\":true,\"url\":\"https://api.github.com/repos/wilzbach/phobos\",\"forks_url\":\"https://api.github.com/repos/wilzbach/phobos/forks\",\"keys_url\":\"https://api.github.com/repos/wilzbach/phobos/keys{/key_id}\",\"collaborators_url\":\"https://api.github.com/repos/wilzbach/phobos/collaborators{/collaborator}\",\"teams_url\":\"https://api.github.com/repos/wilzbach/phobos/teams\",\"hooks_url\":\"https://api.github.com/repos/wilzbach/phobos/hooks\",\"issue_events_url\":\"https://api.github.com/repos/wilzbach/phobos/issues/events{/number}\",\"events_url\":\"https://api.github.com/repos/wilzbach/phobos/events\",\"assignees_url\":\"https://api.github.com/repos/wilzbach/phobos/assignees{/user}\",\"branches_url\":\"https://api.github.com/repos/wilzbach/phobos/branches{/branch}\",\"tags_url\":\"https://api.github.com/repos/wilzbach/phobos/tags\",\"blobs_url\":\"https://api.github.com/repos/wilzbach/phobos/git/blobs{/sha}\",\"git_tags_url\":\"https://api.github.com/repos/wilzbach/phobos/git/tags{/sha}\",\"git_refs_url\":\"https://api.github.com/repos/wilzbach/phobos/git/refs{/sha}\",\"trees_url\":\"https://api.github.com/repos/wilzbach/phobos/git/trees{/sha}\",\"statuses_url\":\"https://api.github.com/repos/wilzbach/phobos/statuses/{sha}\",\"languages_url\":\"https://api.github.com/repos/wilzbach/phobos/languages\",\"stargazers_url\":\"https://api.github.com/repos/wilzbach/phobos/stargazers\",\"contributors_url\":\"https://api.github.com/repos/wilzbach/phobos/contributors\",\"subscribers_url\":\"https://api.github.com/repos/wilzbach/phobos/subscribers\",\"subscription_url\":\"https://api.github.com/repos/wilzbach/phobos/subscription\",\"commits_url\":\"https://api.github.com/repos/wilzbach/phobos/commits{/sha}\",\"git_commits_url\":\"https://api.github.com/repos/wilzbach/phobos/git/commits{/sha}\",\"comments_url\":\"https://api.github.com/repos/wilzbach/phobos/comments{/number}\",\"issue_comment_url\":\"https://api.github.com/repos/wilzbach/phobos/issues/comments{/number}\",\"contents_url\":\"https://api.github.com/repos/wilzbach/phobos/contents/{+path}\",\"compare_url\":\"https://api.github.com/repos/wilzbach/phobos/compare/{base}...{head}\",\"merges_url\":\"https://api.github.com/repos/wilzbach/phobos/merges\",\"archive_url\":\"https://api.github.com/repos/wilzbach/phobos/{archive_format}{/ref}\",\"downloads_url\":\"https://api.github.com/repos/wilzbach/phobos/downloads\",\"issues_url\":\"https://api.github.com/repos/wilzbach/phobos/issues{/number}\",\"pulls_url\":\"https://api.github.com/repos/wilzbach/phobos/pulls{/number}\",\"milestones_url\":\"https://api.github.com/repos/wilzbach/phobos/milestones{/number}\",\"notifications_url\":\"https://api.github.com/repos/wilzbach/phobos/notifications{?since,all,participating}\",\"labels_url\":\"https://api.github.com/repos/wilzbach/phobos/labels{/name}\",\"releases_url\":\"https://api.github.com/repos/wilzbach/phobos/releases{/id}\",\"deployments_url\":\"https://api.github.com/repos/wilzbach/phobos/deployments\",\"created_at\":\"2016-02-18T13:38:55Z\",\"updated_at\":\"2018-03-29T01:36:34Z\",\"pushed_at\":\"2018-03-30T00:17:31Z\",\"git_url\":\"git://github.com/wilzbach/phobos.git\",\"ssh_url\":\"git@github.com:wilzbach/phobos.git\",\"clone_url\":\"https://github.com/wilzbach/phobos.git\",\"svn_url\":\"https://github.com/wilzbach/phobos\",\"homepage\":\"dlang.org/phobos\",\"size\":48394,\"stargazers_count\":1,\"watchers_count\":1,\"language\":\"D\",\"has_issues\":false,\"has_projects\":true,\"has_downloads\":true,\"has_wiki\":false,\"has_pages\":false,\"forks_count\":0,\"mirror_url\":null,\"archived\":false,\"open_issues_count\":4,\"license\":{\"key\":\"bsl-1.0\",\"name\":\"Boost Software License 1.0\",\"spdx_id\":\"BSL-1.0\",\"url\":\"https://api.github.com/licenses/bsl-1.0\"},\"forks\":0,\"open_issues\":4,\"watchers\":1,\"default_branch\":\"master\"}},\"base\":{\"label\":\"dlang:master\",\"ref\":\"master\",\"sha\":\"0372d48dc00c2f4e6c7b9fa5ac101a43810e3222\",\"user\":{\"login\":\"dlang\",\"id\":565913,\"avatar_url\":\"https://avatars3.githubusercontent.com/u/565913?v=4\",\"gravatar_id\":\"\",\"url\":\"https://api.github.com/users/dlang\",\"html_url\":\"https://github.com/dlang\",\"followers_url\":\"https://api.github.com/users/dlang/followers\",\"following_url\":\"https://api.github.com/users/dlang/following{/other_user}\",\"gists_url\":\"https://api.github.com/users/dlang/gists{/gist_id}\",\"starred_url\":\"https://api.github.com/users/dlang/starred{/owner}{/repo}\",\"subscriptions_url\":\"https://api.github.com/users/dlang/subscriptions\",\"organizations_url\":\"https://api.github.com/users/dlang/orgs\",\"repos_url\":\"https://api.github.com/users/dlang/repos\",\"events_url\":\"https://api.github.com/users/dlang/events{/privacy}\",\"received_events_url\":\"https://api.github.com/users/dlang/received_events\",\"type\":\"Organization\",\"site_admin\":false},\"repo\":{\"id\":1257084,\"name\":\"phobos\",\"full_name\":\"dlang/phobos\",\"owner\":{\"login\":\"dlang\",\"id\":565913,\"avatar_url\":\"https://avatars3.githubusercontent.com/u/565913?v=4\",\"gravatar_id\":\"\",\"url\":\"https://api.github.com/users/dlang\",\"html_url\":\"https://github.com/dlang\",\"followers_url\":\"https://api.github.com/users/dlang/followers\",\"following_url\":\"https://api.github.com/users/dlang/following{/other_user}\",\"gists_url\":\"https://api.github.com/users/dlang/gists{/gist_id}\",\"starred_url\":\"https://api.github.com/users/dlang/starred{/owner}{/repo}\",\"subscriptions_url\":\"https://api.github.com/users/dlang/subscriptions\",\"organizations_url\":\"https://api.github.com/users/dlang/orgs\",\"repos_url\":\"https://api.github.com/users/dlang/repos\",\"events_url\":\"https://api.github.com/users/dlang/events{/privacy}\",\"received_events_url\":\"https://api.github.com/users/dlang/received_events\",\"type\":\"Organization\",\"site_admin\":false},\"private\":false,\"html_url\":\"https://github.com/dlang/phobos\",\"description\":\"The standard library of the D programming language\",\"fork\":false,\"url\":\"https://api.github.com/repos/dlang/phobos\",\"forks_url\":\"https://api.github.com/repos/dlang/phobos/forks\",\"keys_url\":\"https://api.github.com/repos/dlang/phobos/keys{/key_id}\",\"collaborators_url\":\"https://api.github.com/repos/dlang/phobos/collaborators{/collaborator}\",\"teams_url\":\"https://api.github.com/repos/dlang/phobos/teams\",\"hooks_url\":\"https://api.github.com/repos/dlang/phobos/hooks\",\"issue_events_url\":\"https://api.github.com/repos/dlang/phobos/issues/events{/number}\",\"events_url\":\"https://api.github.com/repos/dlang/phobos/events\",\"assignees_url\":\"https://api.github.com/repos/dlang/phobos/assignees{/user}\",\"branches_url\":\"https://api.github.com/repos/dlang/phobos/branches{/branch}\",\"tags_url\":\"https://api.github.com/repos/dlang/phobos/tags\",\"blobs_url\":\"https://api.github.com/repos/dlang/phobos/git/blobs{/sha}\",\"git_tags_url\":\"https://api.github.com/repos/dlang/phobos/git/tags{/sha}\",\"git_refs_url\":\"https://api.github.com/repos/dlang/phobos/git/refs{/sha}\",\"trees_url\":\"https://api.github.com/repos/dlang/phobos/git/trees{/sha}\",\"statuses_url\":\"https://api.github.com/repos/dlang/phobos/statuses/{sha}\",\"languages_url\":\"https://api.github.com/repos/dlang/phobos/languages\",\"stargazers_url\":\"https://api.github.com/repos/dlang/phobos/stargazers\",\"contributors_url\":\"https://api.github.com/repos/dlang/phobos/contributors\",\"subscribers_url\":\"https://api.github.com/repos/dlang/phobos/subscribers\",\"subscription_url\":\"https://api.github.com/repos/dlang/phobos/subscription\",\"commits_url\":\"https://api.github.com/repos/dlang/phobos/commits{/sha}\",\"git_commits_url\":\"https://api.github.com/repos/dlang/phobos/git/commits{/sha}\",\"comments_url\":\"https://api.github.com/repos/dlang/phobos/comments{/number}\",\"issue_comment_url\":\"https://api.github.com/repos/dlang/phobos/issues/comments{/number}\",\"contents_url\":\"https://api.github.com/repos/dlang/phobos/contents/{+path}\",\"compare_url\":\"https://api.github.com/repos/dlang/phobos/compare/{base}...{head}\",\"merges_url\":\"https://api.github.com/repos/dlang/phobos/merges\",\"archive_url\":\"https://api.github.com/repos/dlang/phobos/{archive_format}{/ref}\",\"downloads_url\":\"https://api.github.com/repos/dlang/phobos/downloads\",\"issues_url\":\"https://api.github.com/repos/dlang/phobos/issues{/number}\",\"pulls_url\":\"https://api.github.com/repos/dlang/phobos/pulls{/number}\",\"milestones_url\":\"https://api.github.com/repos/dlang/phobos/milestones{/number}\",\"notifications_url\":\"https://api.github.com/repos/dlang/phobos/notifications{?since,all,participating}\",\"labels_url\":\"https://api.github.com/repos/dlang/phobos/labels{/name}\",\"releases_url\":\"https://api.github.com/repos/dlang/phobos/releases{/id}\",\"deployments_url\":\"https://api.github.com/repos/dlang/phobos/deployments\",\"created_at\":\"2011-01-15T07:00:06Z\",\"updated_at\":\"2018-03-29T23:53:19Z\",\"pushed_at\":\"2018-03-30T00:17:33Z\",\"git_url\":\"git://github.com/dlang/phobos.git\",\"ssh_url\":\"git@github.com:dlang/phobos.git\",\"clone_url\":\"https://github.com/dlang/phobos.git\",\"svn_url\":\"https://github.com/dlang/phobos\",\"homepage\":\"dlang.org/phobos\",\"size\":47847,\"stargazers_count\":867,\"watchers_count\":867,\"language\":\"D\",\"has_issues\":false,\"has_projects\":true,\"has_downloads\":true,\"has_wiki\":false,\"has_pages\":false,\"forks_count\":596,\"mirror_url\":null,\"archived\":false,\"open_issues_count\":117,\"license\":{\"key\":\"bsl-1.0\",\"name\":\"Boost Software License 1.0\",\"spdx_id\":\"BSL-1.0\",\"url\":\"https://api.github.com/licenses/bsl-1.0\"},\"forks\":596,\"open_issues\":117,\"watchers\":867,\"default_branch\":\"master\"}},\"_links\":{\"self\":{\"href\":\"https://api.github.com/repos/dlang/phobos/pulls/6384\"},\"html\":{\"href\":\"https://github.com/dlang/phobos/pull/6384\"},\"issue\":{\"href\":\"https://api.github.com/repos/dlang/phobos/issues/6384\"},\"comments\":{\"href\":\"https://api.github.com/repos/dlang/phobos/issues/6384/comments\"},\"review_comments\":{\"href\":\"https://api.github.com/repos/dlang/phobos/pulls/6384/comments\"},\"review_comment\":{\"href\":\"https://api.github.com/repos/dlang/phobos/pulls/comments{/number}\"},\"commits\":{\"href\":\"https://api.github.com/repos/dlang/phobos/pulls/6384/commits\"},\"statuses\":{\"href\":\"https://api.github.com/repos/dlang/phobos/statuses/9953f02fa09fd1dc45516cb46b350fb6a8a03f9b\"}},\"author_association\":\"MEMBER\"}},\"public\":true,\"created_at\":\"2018-03-30T00:26:45Z\",\"org\":{\"id\":565913,\"login\":\"dlang\",\"gravatar_id\":\"\",\"url\":\"https://api.github.com/orgs/dlang\",\"avatar_url\":\"https://avatars.githubusercontent.com/u/565913?\"}},{\"id\":\"7456911347\",\"type\":\"PushEvent\",\"actor\":{\"id\":16447060,\"login\":\"GuitarMusashi616\",\"display_login\":\"GuitarMusashi616\",\"gravatar_id\":\"\",\"url\":\"https://api.github.com/users/GuitarMusashi616\",\"avatar_url\":\"https://avatars.githubusercontent.com/u/16447060?\"},\"repo\":{\"id\":122447920,\"name\":\"GuitarMusashi616/CS202\",\"url\":\"https://api.github.com/repos/GuitarMusashi616/CS202\"},\"payload\":{\"push_id\":2444645311,\"size\":2,\"distinct_size\":2,\"ref\":\"refs/heads/master\",\"head\":\"ff509569aa49d0c48c8afb8d8d9dff34c6a6751f\",\"before\":\"9faa67316bc0882875f700eb0bea066ce8457880\",\"commits\":[{\"sha\":\"91f3f9ec9fbe1a9fc2ff99d3aa2d8cb9a8cab5b1\",\"author\":{\"email\":\"guitarmusashi@gmail.com\",\"name\":\"GuitarMusashi616\"},\"message\":\"Boxes3 Print Complete\\\\n\\\\nWorking :)\",\"distinct\":true,\"url\":\"https://api.github.com/repos/GuitarMusashi616/CS202/commits/91f3f9ec9fbe1a9fc2ff99d3aa2d8cb9a8cab5b1\"},{\"sha\":\"ff509569aa49d0c48c8afb8d8d9dff34c6a6751f\",\"author\":{\"email\":\"guitarmusashi@gmail.com\",\"name\":\"GuitarMusashi616\"},\"message\":\"Boxes3 Complete\\\\n\\\\nFinal Version\",\"distinct\":true,\"url\":\"https://api.github.com/repos/GuitarMusashi616/CS202/commits/ff509569aa49d0c48c8afb8d8d9dff34c6a6751f\"}]},\"public\":true,\"created_at\":\"2018-03-30T00:26:45Z\"},{\"id\":\"7456911346\",\"type\":\"PushEvent\",\"actor\":{\"id\":4163828,\"login\":\"mtribone\",\"display_login\":\"mtribone\",\"gravatar_id\":\"\",\"url\":\"https://api.github.com/users/mtribone\",\"avatar_url\":\"https://avatars.githubusercontent.com/u/4163828?\"},\"repo\":{\"id\":2481963,\"name\":\"psu-stewardship/scholarsphere\",\"url\":\"https://api.github.com/repos/psu-stewardship/scholarsphere\"},\"payload\":{\"push_id\":2444645310,\"size\":5,\"distinct_size\":1,\"ref\":\"refs/heads/works-294\",\"head\":\"56cc43217c9ebf973c62e15ca8e57ffccd56f8e1\",\"before\":\"558b2ee74521feb5ddfa1d0fb4191ed725915159\",\"commits\":[{\"sha\":\"b79d17ce92910bccdc5cfc66001ec783a940114a\",\"author\":{\"email\":\"amsterdamos@gmail.com\",\"name\":\"Adam Wead\"},\"message\":\"Downloading an entire collection, ref #624\\\\n\\\\nUsing WorkZipService as a basis, create a zip file from a collection\\\\ncontaining individual zip files of each work.\",\"distinct\":false,\"url\":\"https://api.github.com/repos/psu-stewardship/scholarsphere/commits/b79d17ce92910bccdc5cfc66001ec783a940114a\"},{\"sha\":\"a3959bf934bb68aa4a05cccc8f237bfcbc43f136\",\"author\":{\"email\":\"mtribone@psu.edu\",\"name\":\"mtribone\"},\"message\":\"Breaks hex colors into variables, switches to Sass comments, and adds some skip declarations for the linter when you have to override very specific CSS from other gems.\\\\n\\\\nReworks the application.css file to load files in a specific order so that the variables load first and then the rest of the files.\",\"distinct\":false,\"url\":\"https://api.github.com/repos/psu-stewardship/scholarsphere/commits/a3959bf934bb68aa4a05cccc8f237bfcbc43f136\"},{\"sha\":\"61c260d450561769d86376a78e07c3c2618715c4\",\"author\":{\"email\":\"awead@users.noreply.github.com\",\"name\":\"Adam Wead\"},\"message\":\"Merge pull request #1199 from psu-stewardship/i#624\\\\n\\\\nDownloading an entire collection, ref #624\",\"distinct\":false,\"url\":\"https://api.github.com/repos/psu-stewardship/scholarsphere/commits/61c260d450561769d86376a78e07c3c2618715c4\"},{\"sha\":\"3727b22d9dc6c6f2d8a8818db10803f6f0535695\",\"author\":{\"email\":\"awead@users.noreply.github.com\",\"name\":\"Adam Wead\"},\"message\":\"Merge pull request #1209 from psu-stewardship/scss-lint\\\\n\\\\nRefactor Stylesheet Syntax - SCSS Lint\",\"distinct\":false,\"url\":\"https://api.github.com/repos/psu-stewardship/scholarsphere/commits/3727b22d9dc6c6f2d8a8818db10803f6f0535695\"},{\"sha\":\"56cc43217c9ebf973c62e15ca8e57ffccd56f8e1\",\"author\":{\"email\":\"mtribone@psu.edu\",\"name\":\"mtribone\"},\"message\":\"Reuses the collection presenter from the work show page to display an inline list of collecions. Adding the if statement back into the block just like in the work show view so that works without collections do not show the part of statement..\",\"distinct\":true,\"url\":\"https://api.github.com/repos/psu-stewardship/scholarsphere/commits/56cc43217c9ebf973c62e15ca8e57ffccd56f8e1\"}]},\"public\":true,\"created_at\":\"2018-03-30T00:26:45Z\",\"org\":{\"id\":653493,\"login\":\"psu-stewardship\",\"gravatar_id\":\"\",\"url\":\"https://api.github.com/orgs/psu-stewardship\",\"avatar_url\":\"https://avatars.githubusercontent.com/u/653493?\"}},{\"id\":\"7456911342\",\"type\":\"DeleteEvent\",\"actor\":{\"id\":33500718,\"login\":\"dipper-github-icn-bom-cdg\",\"display_login\":\"dipper-github-icn-bom-cdg\",\"gravatar_id\":\"\",\"url\":\"https://api.github.com/users/dipper-github-icn-bom-cdg\",\"avatar_url\":\"https://avatars.githubusercontent.com/u/33500718?\"},\"repo\":{\"id\":112368276,\"name\":\"dipper-github-icn-bom-cdg/test-python-sample\",\"url\":\"https://api.github.com/repos/dipper-github-icn-bom-cdg/test-python-sample\"},\"payload\":{\"ref\":\"canary-test-f80c6948-e410-449e-9a67-1272f87c5fff\",\"ref_type\":\"branch\",\"pusher_type\":\"user\"},\"public\":true,\"created_at\":\"2018-03-30T00:26:45Z\"},{\"id\":\"7456911339\",\"type\":\"PullRequestEvent\",\"actor\":{\"id\":2289147,\"login\":\"dandevs\",\"display_login\":\"dandevs\",\"gravatar_id\":\"\",\"url\":\"https://api.github.com/users/dandevs\",\"avatar_url\":\"https://avatars.githubusercontent.com/u/2289147?\"},\"repo\":{\"id\":44720822,\"name\":\"thegrb93/StarfallEx\",\"url\":\"https://api.github.com/repos/thegrb93/StarfallEx\"},\"payload\":{\"action\":\"opened\",\"number\":384,\"pull_request\":{\"url\":\"https://api.github.com/repos/thegrb93/StarfallEx/pulls/384\",\"id\":178471566,\"html_url\":\"https://github.com/thegrb93/StarfallEx/pull/384\",\"diff_url\":\"https://github.com/thegrb93/StarfallEx/pull/384.diff\",\"patch_url\":\"https://github.com/thegrb93/StarfallEx/pull/384.patch\",\"issue_url\":\"https://api.github.com/repos/thegrb93/StarfallEx/issues/384\",\"number\":384,\"state\":\"open\",\"locked\":false,\"title\":\"Only send code that has changed\",\"user\":{\"login\":\"dandevs\",\"id\":2289147,\"avatar_url\":\"https://avatars2.githubusercontent.com/u/2289147?v=4\",\"gravatar_id\":\"\",\"url\":\"https://api.github.com/users/dandevs\",\"html_url\":\"https://github.com/dandevs\",\"followers_url\":\"https://api.github.com/users/dandevs/followers\",\"following_url\":\"https://api.github.com/users/dandevs/following{/other_user}\",\"gists_url\":\"https://api.github.com/users/dandevs/gists{/gist_id}\",\"starred_url\":\"https://api.github.com/users/dandevs/starred{/owner}{/repo}\",\"subscriptions_url\":\"https://api.github.com/users/dandevs/subscriptions\",\"organizations_url\":\"https://api.github.com/users/dandevs/orgs\",\"repos_url\":\"https://api.github.com/users/dandevs/repos\",\"events_url\":\"https://api.github.com/users/dandevs/events{/privacy}\",\"received_events_url\":\"https://api.github.com/users/dandevs/received_events\",\"type\":\"User\",\"site_admin\":false},\"body\":\"Player will only send files that have changed (via checksum).\\\\r\\\\nAll uploaded code is stored in the already existing `self.files`\",\"created_at\":\"2018-03-30T00:26:45Z\",\"updated_at\":\"2018-03-30T00:26:45Z\",\"closed_at\":null,\"merged_at\":null,\"merge_commit_sha\":null,\"assignee\":null,\"assignees\":[],\"requested_reviewers\":[],\"requested_teams\":[],\"labels\":[],\"milestone\":null,\"commits_url\":\"https://api.github.com/repos/thegrb93/StarfallEx/pulls/384/commits\",\"review_comments_url\":\"https://api.github.com/repos/thegrb93/StarfallEx/pulls/384/comments\",\"review_comment_url\":\"https://api.github.com/repos/thegrb93/StarfallEx/pulls/comments{/number}\",\"comments_url\":\"https://api.github.com/repos/thegrb93/StarfallEx/issues/384/comments\",\"statuses_url\":\"https://api.github.com/repos/thegrb93/StarfallEx/statuses/ec73e41b1bb23cced4e582ce1366d9b1c7738a33\",\"head\":{\"label\":\"dandevs:cache\",\"ref\":\"cache\",\"sha\":\"ec73e41b1bb23cced4e582ce1366d9b1c7738a33\",\"user\":{\"login\":\"dandevs\",\"id\":2289147,\"avatar_url\":\"https://avatars2.githubusercontent.com/u/2289147?v=4\",\"gravatar_id\":\"\",\"url\":\"https://api.github.com/users/dandevs\",\"html_url\":\"https://github.com/dandevs\",\"followers_url\":\"https://api.github.com/users/dandevs/followers\",\"following_url\":\"https://api.github.com/users/dandevs/following{/other_user}\",\"gists_url\":\"https://api.github.com/users/dandevs/gists{/gist_id}\",\"starred_url\":\"https://api.github.com/users/dandevs/starred{/owner}{/repo}\",\"subscriptions_url\":\"https://api.github.com/users/dandevs/subscriptions\",\"organizations_url\":\"https://api.github.com/users/dandevs/orgs\",\"repos_url\":\"https://api.github.com/users/dandevs/repos\",\"events_url\":\"https://api.github.com/users/dandevs/events{/privacy}\",\"received_events_url\":\"https://api.github.com/users/dandevs/received_events\",\"type\":\"User\",\"site_admin\":false},\"repo\":{\"id\":127360781,\"name\":\"StarfallEx\",\"full_name\":\"dandevs/StarfallEx\",\"owner\":{\"login\":\"dandevs\",\"id\":2289147,\"avatar_url\":\"https://avatars2.githubusercontent.com/u/2289147?v=4\",\"gravatar_id\":\"\",\"url\":\"https://api.github.com/users/dandevs\",\"html_url\":\"https://github.com/dandevs\",\"followers_url\":\"https://api.github.com/users/dandevs/followers\",\"following_url\":\"https://api.github.com/users/dandevs/following{/other_user}\",\"gists_url\":\"https://api.github.com/users/dandevs/gists{/gist_id}\",\"starred_url\":\"https://api.github.com/users/dandevs/starred{/owner}{/repo}\",\"subscriptions_url\":\"https://api.github.com/users/dandevs/subscriptions\",\"organizations_url\":\"https://api.github.com/users/dandevs/orgs\",\"repos_url\":\"https://api.github.com/users/dandevs/repos\",\"events_url\":\"https://api.github.com/users/dandevs/events{/privacy}\",\"received_events_url\":\"https://api.github.com/users/dandevs/received_events\",\"type\":\"User\",\"site_admin\":false},\"private\":false,\"html_url\":\"https://github.com/dandevs/StarfallEx\",\"description\":\"Starfall, but with active development and more features.\",\"fork\":true,\"url\":\"https://api.github.com/repos/dandevs/StarfallEx\",\"forks_url\":\"https://api.github.com/repos/dandevs/StarfallEx/forks\",\"keys_url\":\"https://api.github.com/repos/dandevs/StarfallEx/keys{/key_id}\",\"collaborators_url\":\"https://api.github.com/repos/dandevs/StarfallEx/collaborators{/collaborator}\",\"teams_url\":\"https://api.github.com/repos/dandevs/StarfallEx/teams\",\"hooks_url\":\"https://api.github.com/repos/dandevs/StarfallEx/hooks\",\"issue_events_url\":\"https://api.github.com/repos/dandevs/StarfallEx/issues/events{/number}\",\"events_url\":\"https://api.github.com/repos/dandevs/StarfallEx/events\",\"assignees_url\":\"https://api.github.com/repos/dandevs/StarfallEx/assignees{/user}\",\"branches_url\":\"https://api.github.com/repos/dandevs/StarfallEx/branches{/branch}\",\"tags_url\":\"https://api.github.com/repos/dandevs/StarfallEx/tags\",\"blobs_url\":\"https://api.github.com/repos/dandevs/StarfallEx/git/blobs{/sha}\",\"git_tags_url\":\"https://api.github.com/repos/dandevs/StarfallEx/git/tags{/sha}\",\"git_refs_url\":\"https://api.github.com/repos/dandevs/StarfallEx/git/refs{/sha}\",\"trees_url\":\"https://api.github.com/repos/dandevs/StarfallEx/git/trees{/sha}\",\"statuses_url\":\"https://api.github.com/repos/dandevs/StarfallEx/statuses/{sha}\",\"languages_url\":\"https://api.github.com/repos/dandevs/StarfallEx/languages\",\"stargazers_url\":\"https://api.github.com/repos/dandevs/StarfallEx/stargazers\",\"contributors_url\":\"https://api.github.com/repos/dandevs/StarfallEx/contributors\",\"subscribers_url\":\"https://api.github.com/repos/dandevs/StarfallEx/subscribers\",\"subscription_url\":\"https://api.github.com/repos/dandevs/StarfallEx/subscription\",\"commits_url\":\"https://api.github.com/repos/dandevs/StarfallEx/commits{/sha}\",\"git_commits_url\":\"https://api.github.com/repos/dandevs/StarfallEx/git/commits{/sha}\",\"comments_url\":\"https://api.github.com/repos/dandevs/StarfallEx/comments{/number}\",\"issue_comment_url\":\"https://api.github.com/repos/dandevs/StarfallEx/issues/comments{/number}\",\"contents_url\":\"https://api.github.com/repos/dandevs/StarfallEx/contents/{+path}\",\"compare_url\":\"https://api.github.com/repos/dandevs/StarfallEx/compare/{base}...{head}\",\"merges_url\":\"https://api.github.com/repos/dandevs/StarfallEx/merges\",\"archive_url\":\"https://api.github.com/repos/dandevs/StarfallEx/{archive_format}{/ref}\",\"downloads_url\":\"https://api.github.com/repos/dandevs/StarfallEx/downloads\",\"issues_url\":\"https://api.github.com/repos/dandevs/StarfallEx/issues{/number}\",\"pulls_url\":\"https://api.github.com/repos/dandevs/StarfallEx/pulls{/number}\",\"milestones_url\":\"https://api.github.com/repos/dandevs/StarfallEx/milestones{/number}\",\"notifications_url\":\"https://api.github.com/repos/dandevs/StarfallEx/notifications{?since,all,participating}\",\"labels_url\":\"https://api.github.com/repos/dandevs/StarfallEx/labels{/name}\",\"releases_url\":\"https://api.github.com/repos/dandevs/StarfallEx/releases{/id}\",\"deployments_url\":\"https://api.github.com/repos/dandevs/StarfallEx/deployments\",\"created_at\":\"2018-03-30T00:21:58Z\",\"updated_at\":\"2018-03-30T00:22:00Z\",\"pushed_at\":\"2018-03-30T00:23:38Z\",\"git_url\":\"git://github.com/dandevs/StarfallEx.git\",\"ssh_url\":\"git@github.com:dandevs/StarfallEx.git\",\"clone_url\":\"https://github.com/dandevs/StarfallEx.git\",\"svn_url\":\"https://github.com/dandevs/StarfallEx\",\"homepage\":null,\"size\":7598,\"stargazers_count\":0,\"watchers_count\":0,\"language\":\"Lua\",\"has_issues\":false,\"has_projects\":true,\"has_downloads\":true,\"has_wiki\":true,\"has_pages\":false,\"forks_count\":0,\"mirror_url\":null,\"archived\":false,\"open_issues_count\":0,\"license\":{\"key\":\"other\",\"name\":\"Other\",\"spdx_id\":null,\"url\":null},\"forks\":0,\"open_issues\":0,\"watchers\":0,\"default_branch\":\"master\"}},\"base\":{\"label\":\"thegrb93:master\",\"ref\":\"master\",\"sha\":\"578a207249249fb83333eb5c02ac011a9ca567c3\",\"user\":{\"login\":\"thegrb93\",\"id\":6713261,\"avatar_url\":\"https://avatars1.githubusercontent.com/u/6713261?v=4\",\"gravatar_id\":\"\",\"url\":\"https://api.github.com/users/thegrb93\",\"html_url\":\"https://github.com/thegrb93\",\"followers_url\":\"https://api.github.com/users/thegrb93/followers\",\"following_url\":\"https://api.github.com/users/thegrb93/following{/other_user}\",\"gists_url\":\"https://api.github.com/users/thegrb93/gists{/gist_id}\",\"starred_url\":\"https://api.github.com/users/thegrb93/starred{/owner}{/repo}\",\"subscriptions_url\":\"https://api.github.com/users/thegrb93/subscriptions\",\"organizations_url\":\"https://api.github.com/users/thegrb93/orgs\",\"repos_url\":\"https://api.github.com/users/thegrb93/repos\",\"events_url\":\"https://api.github.com/users/thegrb93/events{/privacy}\",\"received_events_url\":\"https://api.github.com/users/thegrb93/received_events\",\"type\":\"User\",\"site_admin\":false},\"repo\":{\"id\":44720822,\"name\":\"StarfallEx\",\"full_name\":\"thegrb93/StarfallEx\",\"owner\":{\"login\":\"thegrb93\",\"id\":6713261,\"avatar_url\":\"https://avatars1.githubusercontent.com/u/6713261?v=4\",\"gravatar_id\":\"\",\"url\":\"https://api.github.com/users/thegrb93\",\"html_url\":\"https://github.com/thegrb93\",\"followers_url\":\"https://api.github.com/users/thegrb93/followers\",\"following_url\":\"https://api.github.com/users/thegrb93/following{/other_user}\",\"gists_url\":\"https://api.github.com/users/thegrb93/gists{/gist_id}\",\"starred_url\":\"https://api.github.com/users/thegrb93/starred{/owner}{/repo}\",\"subscriptions_url\":\"https://api.github.com/users/thegrb93/subscriptions\",\"organizations_url\":\"https://api.github.com/users/thegrb93/orgs\",\"repos_url\":\"https://api.github.com/users/thegrb93/repos\",\"events_url\":\"https://api.github.com/users/thegrb93/events{/privacy}\",\"received_events_url\":\"https://api.github.com/users/thegrb93/received_events\",\"type\":\"User\",\"site_admin\":false},\"private\":false,\"html_url\":\"https://github.com/thegrb93/StarfallEx\",\"description\":\"Starfall, but with active development and more features.\",\"fork\":false,\"url\":\"https://api.github.com/repos/thegrb93/StarfallEx\",\"forks_url\":\"https://api.github.com/repos/thegrb93/StarfallEx/forks\",\"keys_url\":\"https://api.github.com/repos/thegrb93/StarfallEx/keys{/key_id}\",\"collaborators_url\":\"https://api.github.com/repos/thegrb93/StarfallEx/collaborators{/collaborator}\",\"teams_url\":\"https://api.github.com/repos/thegrb93/StarfallEx/teams\",\"hooks_url\":\"https://api.github.com/repos/thegrb93/StarfallEx/hooks\",\"issue_events_url\":\"https://api.github.com/repos/thegrb93/StarfallEx/issues/events{/number}\",\"events_url\":\"https://api.github.com/repos/thegrb93/StarfallEx/events\",\"assignees_url\":\"https://api.github.com/repos/thegrb93/StarfallEx/assignees{/user}\",\"branches_url\":\"https://api.github.com/repos/thegrb93/StarfallEx/branches{/branch}\",\"tags_url\":\"https://api.github.com/repos/thegrb93/StarfallEx/tags\",\"blobs_url\":\"https://api.github.com/repos/thegrb93/StarfallEx/git/blobs{/sha}\",\"git_tags_url\":\"https://api.github.com/repos/thegrb93/StarfallEx/git/tags{/sha}\",\"git_refs_url\":\"https://api.github.com/repos/thegrb93/StarfallEx/git/refs{/sha}\",\"trees_url\":\"https://api.github.com/repos/thegrb93/StarfallEx/git/trees{/sha}\",\"statuses_url\":\"https://api.github.com/repos/thegrb93/StarfallEx/statuses/{sha}\",\"languages_url\":\"https://api.github.com/repos/thegrb93/StarfallEx/languages\",\"stargazers_url\":\"https://api.github.com/repos/thegrb93/StarfallEx/stargazers\",\"contributors_url\":\"https://api.github.com/repos/thegrb93/StarfallEx/contributors\",\"subscribers_url\":\"https://api.github.com/repos/thegrb93/StarfallEx/subscribers\",\"subscription_url\":\"https://api.github.com/repos/thegrb93/StarfallEx/subscription\",\"commits_url\":\"https://api.github.com/repos/thegrb93/StarfallEx/commits{/sha}\",\"git_commits_url\":\"https://api.github.com/repos/thegrb93/StarfallEx/git/commits{/sha}\",\"comments_url\":\"https://api.github.com/repos/thegrb93/StarfallEx/comments{/number}\",\"issue_comment_url\":\"https://api.github.com/repos/thegrb93/StarfallEx/issues/comments{/number}\",\"contents_url\":\"https://api.github.com/repos/thegrb93/StarfallEx/contents/{+path}\",\"compare_url\":\"https://api.github.com/repos/thegrb93/StarfallEx/compare/{base}...{head}\",\"merges_url\":\"https://api.github.com/repos/thegrb93/StarfallEx/merges\",\"archive_url\":\"https://api.github.com/repos/thegrb93/StarfallEx/{archive_format}{/ref}\",\"downloads_url\":\"https://api.github.com/repos/thegrb93/StarfallEx/downloads\",\"issues_url\":\"https://api.github.com/repos/thegrb93/StarfallEx/issues{/number}\",\"pulls_url\":\"https://api.github.com/repos/thegrb93/StarfallEx/pulls{/number}\",\"milestones_url\":\"https://api.github.com/repos/thegrb93/StarfallEx/milestones{/number}\",\"notifications_url\":\"https://api.github.com/repos/thegrb93/StarfallEx/notifications{?since,all,participating}\",\"labels_url\":\"https://api.github.com/repos/thegrb93/StarfallEx/labels{/name}\",\"releases_url\":\"https://api.github.com/repos/thegrb93/StarfallEx/releases{/id}\",\"deployments_url\":\"https://api.github.com/repos/thegrb93/StarfallEx/deployments\",\"created_at\":\"2015-10-22T03:51:09Z\",\"updated_at\":\"2018-03-29T09:32:16Z\",\"pushed_at\":\"2018-03-29T09:32:14Z\",\"git_url\":\"git://github.com/thegrb93/StarfallEx.git\",\"ssh_url\":\"git@github.com:thegrb93/StarfallEx.git\",\"clone_url\":\"https://github.com/thegrb93/StarfallEx.git\",\"svn_url\":\"https://github.com/thegrb93/StarfallEx\",\"homepage\":null,\"size\":7598,\"stargazers_count\":30,\"watchers_count\":30,\"language\":\"Lua\",\"has_issues\":true,\"has_projects\":true,\"has_downloads\":true,\"has_wiki\":true,\"has_pages\":true,\"forks_count\":31,\"mirror_url\":null,\"archived\":false,\"open_issues_count\":22,\"license\":{\"key\":\"other\",\"name\":\"Other\",\"spdx_id\":null,\"url\":null},\"forks\":31,\"open_issues\":22,\"watchers\":30,\"default_branch\":\"master\"}},\"_links\":{\"self\":{\"href\":\"https://api.github.com/repos/thegrb93/StarfallEx/pulls/384\"},\"html\":{\"href\":\"https://github.com/thegrb93/StarfallEx/pull/384\"},\"issue\":{\"href\":\"https://api.github.com/repos/thegrb93/StarfallEx/issues/384\"},\"comments\":{\"href\":\"https://api.github.com/repos/thegrb93/StarfallEx/issues/384/comments\"},\"review_comments\":{\"href\":\"https://api.github.com/repos/thegrb93/StarfallEx/pulls/384/comments\"},\"review_comment\":{\"href\":\"https://api.github.com/repos/thegrb93/StarfallEx/pulls/comments{/number}\"},\"commits\":{\"href\":\"https://api.github.com/repos/thegrb93/StarfallEx/pulls/384/commits\"},\"statuses\":{\"href\":\"https://api.github.com/repos/thegrb93/StarfallEx/statuses/ec73e41b1bb23cced4e582ce1366d9b1c7738a33\"}},\"author_association\":\"NONE\",\"merged\":false,\"mergeable\":null,\"rebaseable\":null,\"mergeable_state\":\"unknown\",\"merged_by\":null,\"comments\":0,\"review_comments\":0,\"maintainer_can_modify\":true,\"commits\":1,\"additions\":73,\"deletions\":22,\"changed_files\":5}},\"public\":true,\"created_at\":\"2018-03-30T00:26:45Z\"},{\"id\":\"7456911338\",\"type\":\"PushEvent\",\"actor\":{\"id\":10750173,\"login\":\"Freakazoidile\",\"display_login\":\"Freakazoidile\",\"gravatar_id\":\"\",\"url\":\"https://api.github.com/users/Freakazoidile\",\"avatar_url\":\"https://avatars.githubusercontent.com/u/10750173?\"},\"repo\":{\"id\":105302602,\"name\":\"Freakazoidile/scripts\",\"url\":\"https://api.github.com/repos/Freakazoidile/scripts\"},\"payload\":{\"push_id\":2444645304,\"size\":1,\"distinct_size\":1,\"ref\":\"refs/heads/master\",\"head\":\"300e1f90e7317be1dbfb42099d0d9d5fce8a8873\",\"before\":\"9b3081b495a1e59fe240e4365a0d5d775fb5d784\",\"commits\":[{\"sha\":\"300e1f90e7317be1dbfb42099d0d9d5fce8a8873\",\"author\":{\"email\":\"freakazoidile@gmail.com\",\"name\":\"Thomas Reid Zuk\"},\"message\":\"update nmap_host_extractor\",\"distinct\":true,\"url\":\"https://api.github.com/repos/Freakazoidile/scripts/commits/300e1f90e7317be1dbfb42099d0d9d5fce8a8873\"}]},\"public\":true,\"created_at\":\"2018-03-30T00:26:45Z\"},{\"id\":\"7456911332\",\"type\":\"PushEvent\",\"actor\":{\"id\":848522,\"login\":\"jtdoepke\",\"display_login\":\"jtdoepke\",\"gravatar_id\":\"\",\"url\":\"https://api.github.com/users/jtdoepke\",\"avatar_url\":\"https://avatars.githubusercontent.com/u/848522?\"},\"repo\":{\"id\":124443435,\"name\":\"jtdoepke/dotfiles\",\"url\":\"https://api.github.com/repos/jtdoepke/dotfiles\"},\"payload\":{\"push_id\":2444645302,\"size\":1,\"distinct_size\":1,\"ref\":\"refs/heads/master\",\"head\":\"c44212c6158edacfac761a3d4335ff709829864b\",\"before\":\"0675786e36c23f512b3cf877172e8ababe8ad19d\",\"commits\":[{\"sha\":\"c44212c6158edacfac761a3d4335ff709829864b\",\"author\":{\"email\":\"jtdoepke12@gmail.com\",\"name\":\"Jaye Doepke\"},\"message\":\"Up to Python 3.6.5\",\"distinct\":true,\"url\":\"https://api.github.com/repos/jtdoepke/dotfiles/commits/c44212c6158edacfac761a3d4335ff709829864b\"}]},\"public\":true,\"created_at\":\"2018-03-30T00:26:45Z\"},{\"id\":\"7456911331\",\"type\":\"PushEvent\",\"actor\":{\"id\":5604675,\"login\":\"slocker3\",\"display_login\":\"slocker3\",\"gravatar_id\":\"\",\"url\":\"https://api.github.com/users/slocker3\",\"avatar_url\":\"https://avatars.githubusercontent.com/u/5604675?\"},\"repo\":{\"id\":104141405,\"name\":\"washingtonstateuniversity/news.wsu.edu-internal\",\"url\":\"https://api.github.com/repos/washingtonstateuniversity/news.wsu.edu-internal\"},\"payload\":{\"push_id\":2444645300,\"size\":1,\"distinct_size\":1,\"ref\":\"refs/heads/givemeafooter\",\"head\":\"6595464941d0a0b4f92e8e8746972b46f914748a\",\"before\":\"c6df1e38a847fcddab36b39acfe80049cc0c3fd8\",\"commits\":[{\"sha\":\"6595464941d0a0b4f92e8e8746972b46f914748a\",\"author\":{\"email\":\"slocker@wsu.edu\",\"name\":\"slocker\"},\"message\":\"Footer, newlestter signup, logo link\",\"distinct\":true,\"url\":\"https://api.github.com/repos/washingtonstateuniversity/news.wsu.edu-internal/commits/6595464941d0a0b4f92e8e8746972b46f914748a\"}]},\"public\":true,\"created_at\":\"2018-03-30T00:26:45Z\",\"org\":{\"id\":5225228,\"login\":\"washingtonstateuniversity\",\"gravatar_id\":\"\",\"url\":\"https://api.github.com/orgs/washingtonstateuniversity\",\"avatar_url\":\"https://avatars.githubusercontent.com/u/5225228?\"}},{\"id\":\"7456911328\",\"type\":\"PushEvent\",\"actor\":{\"id\":5351,\"login\":\"thingles\",\"display_login\":\"thingles\",\"gravatar_id\":\"\",\"url\":\"https://api.github.com/users/thingles\",\"avatar_url\":\"https://avatars.githubusercontent.com/u/5351?\"},\"repo\":{\"id\":100132534,\"name\":\"thingles/micro.thingelstad.com\",\"url\":\"https://api.github.com/repos/thingles/micro.thingelstad.com\"},\"payload\":{\"push_id\":2444645295,\"size\":1,\"distinct_size\":1,\"ref\":\"refs/heads/master\",\"head\":\"2b91d247b8f8ab9f8fefac2513326402ebbd31f7\",\"before\":\"fd588f1ec04f7239f40e668610e2c107c0a995c9\",\"commits\":[{\"sha\":\"2b91d247b8f8ab9f8fefac2513326402ebbd31f7\",\"author\":{\"email\":\"jamie@thingelstad.com\",\"name\":\"Jamie Thingelstad\"},\"message\":\"Mirroring from Micro.blog.\",\"distinct\":true,\"url\":\"https://api.github.com/repos/thingles/micro.thingelstad.com/commits/2b91d247b8f8ab9f8fefac2513326402ebbd31f7\"}]},\"public\":true,\"created_at\":\"2018-03-30T00:26:45Z\"},{\"id\":\"7456911320\",\"type\":\"CreateEvent\",\"actor\":{\"id\":37820527,\"login\":\"PulsingPressure\",\"display_login\":\"PulsingPressure\",\"gravatar_id\":\"\",\"url\":\"https://api.github.com/users/PulsingPressure\",\"avatar_url\":\"https://avatars.githubusercontent.com/u/37820527?\"},\"repo\":{\"id\":127361088,\"name\":\"PulsingPressure/test\",\"url\":\"https://api.github.com/repos/PulsingPressure/test\"},\"payload\":{\"ref\":null,\"ref_type\":\"repository\",\"master_branch\":\"master\",\"description\":null,\"pusher_type\":\"user\"},\"public\":true,\"created_at\":\"2018-03-30T00:26:44Z\"},{\"id\":\"7456911319\",\"type\":\"ForkEvent\",\"actor\":{\"id\":34641496,\"login\":\"dyeooop\",\"display_login\":\"dyeooop\",\"gravatar_id\":\"\",\"url\":\"https://api.github.com/users/dyeooop\",\"avatar_url\":\"https://avatars.githubusercontent.com/u/34641496?\"},\"repo\":{\"id\":66283743,\"name\":\"HyunSeob/hexo-theme-overdose\",\"url\":\"https://api.github.com/repos/HyunSeob/hexo-theme-overdose\"},\"payload\":{\"forkee\":{\"id\":127361087,\"name\":\"hexo-theme-overdose\",\"full_name\":\"dyeooop/hexo-theme-overdose\",\"owner\":{\"login\":\"dyeooop\",\"id\":34641496,\"avatar_url\":\"https://avatars0.githubusercontent.com/u/34641496?v=4\",\"gravatar_id\":\"\",\"url\":\"https://api.github.com/users/dyeooop\",\"html_url\":\"https://github.com/dyeooop\",\"followers_url\":\"https://api.github.com/users/dyeooop/followers\",\"following_url\":\"https://api.github.com/users/dyeooop/following{/other_user}\",\"gists_url\":\"https://api.github.com/users/dyeooop/gists{/gist_id}\",\"starred_url\":\"https://api.github.com/users/dyeooop/starred{/owner}{/repo}\",\"subscriptions_url\":\"https://api.github.com/users/dyeooop/subscriptions\",\"organizations_url\":\"https://api.github.com/users/dyeooop/orgs\",\"repos_url\":\"https://api.github.com/users/dyeooop/repos\",\"events_url\":\"https://api.github.com/users/dyeooop/events{/privacy}\",\"received_events_url\":\"https://api.github.com/users/dyeooop/received_events\",\"type\":\"User\",\"site_admin\":false},\"private\":false,\"html_url\":\"https://github.com/dyeooop/hexo-theme-overdose\",\"description\":\"\\xe2\\x9a\\xa0  Caution: you could be overdosed with this theme.\",\"fork\":true,\"url\":\"https://api.github.com/repos/dyeooop/hexo-theme-overdose\",\"forks_url\":\"https://api.github.com/repos/dyeooop/hexo-theme-overdose/forks\",\"keys_url\":\"https://api.github.com/repos/dyeooop/hexo-theme-overdose/keys{/key_id}\",\"collaborators_url\":\"https://api.github.com/repos/dyeooop/hexo-theme-overdose/collaborators{/collaborator}\",\"teams_url\":\"https://api.github.com/repos/dyeooop/hexo-theme-overdose/teams\",\"hooks_url\":\"https://api.github.com/repos/dyeooop/hexo-theme-overdose/hooks\",\"issue_events_url\":\"https://api.github.com/repos/dyeooop/hexo-theme-overdose/issues/events{/number}\",\"events_url\":\"https://api.github.com/repos/dyeooop/hexo-theme-overdose/events\",\"assignees_url\":\"https://api.github.com/repos/dyeooop/hexo-theme-overdose/assignees{/user}\",\"branches_url\":\"https://api.github.com/repos/dyeooop/hexo-theme-overdose/branches{/branch}\",\"tags_url\":\"https://api.github.com/repos/dyeooop/hexo-theme-overdose/tags\",\"blobs_url\":\"https://api.github.com/repos/dyeooop/hexo-theme-overdose/git/blobs{/sha}\",\"git_tags_url\":\"https://api.github.com/repos/dyeooop/hexo-theme-overdose/git/tags{/sha}\",\"git_refs_url\":\"https://api.github.com/repos/dyeooop/hexo-theme-overdose/git/refs{/sha}\",\"trees_url\":\"https://api.github.com/repos/dyeooop/hexo-theme-overdose/git/trees{/sha}\",\"statuses_url\":\"https://api.github.com/repos/dyeooop/hexo-theme-overdose/statuses/{sha}\",\"languages_url\":\"https://api.github.com/repos/dyeooop/hexo-theme-overdose/languages\",\"stargazers_url\":\"https://api.github.com/repos/dyeooop/hexo-theme-overdose/stargazers\",\"contributors_url\":\"https://api.github.com/repos/dyeooop/hexo-theme-overdose/contributors\",\"subscribers_url\":\"https://api.github.com/repos/dyeooop/hexo-theme-overdose/subscribers\",\"subscription_url\":\"https://api.github.com/repos/dyeooop/hexo-theme-overdose/subscription\",\"commits_url\":\"https://api.github.com/repos/dyeooop/hexo-theme-overdose/commits{/sha}\",\"git_commits_url\":\"https://api.github.com/repos/dyeooop/hexo-theme-overdose/git/commits{/sha}\",\"comments_url\":\"https://api.github.com/repos/dyeooop/hexo-theme-overdose/comments{/number}\",\"issue_comment_url\":\"https://api.github.com/repos/dyeooop/hexo-theme-overdose/issues/comments{/number}\",\"contents_url\":\"https://api.github.com/repos/dyeooop/hexo-theme-overdose/contents/{+path}\",\"compare_url\":\"https://api.github.com/repos/dyeooop/hexo-theme-overdose/compare/{base}...{head}\",\"merges_url\":\"https://api.github.com/repos/dyeooop/hexo-theme-overdose/merges\",\"archive_url\":\"https://api.github.com/repos/dyeooop/hexo-theme-overdose/{archive_format}{/ref}\",\"downloads_url\":\"https://api.github.com/repos/dyeooop/hexo-theme-overdose/downloads\",\"issues_url\":\"https://api.github.com/repos/dyeooop/hexo-theme-overdose/issues{/number}\",\"pulls_url\":\"https://api.github.com/repos/dyeooop/hexo-theme-overdose/pulls{/number}\",\"milestones_url\":\"https://api.github.com/repos/dyeooop/hexo-theme-overdose/milestones{/number}\",\"notifications_url\":\"https://api.github.com/repos/dyeooop/hexo-theme-overdose/notifications{?since,all,participating}\",\"labels_url\":\"https://api.github.com/repos/dyeooop/hexo-theme-overdose/labels{/name}\",\"releases_url\":\"https://api.github.com/repos/dyeooop/hexo-theme-overdose/releases{/id}\",\"deployments_url\":\"https://api.github.com/repos/dyeooop/hexo-theme-overdose/deployments\",\"created_at\":\"2018-03-30T00:26:44Z\",\"updated_at\":\"2018-03-19T11:49:30Z\",\"pushed_at\":\"2018-03-16T02:44:25Z\",\"git_url\":\"git://github.com/dyeooop/hexo-theme-overdose.git\",\"ssh_url\":\"git@github.com:dyeooop/hexo-theme-overdose.git\",\"clone_url\":\"https://github.com/dyeooop/hexo-theme-overdose.git\",\"svn_url\":\"https://github.com/dyeooop/hexo-theme-overdose\",\"homepage\":\"\",\"size\":39491,\"stargazers_count\":0,\"watchers_count\":0,\"language\":null,\"has_issues\":false,\"has_projects\":true,\"has_downloads\":true,\"has_wiki\":true,\"has_pages\":false,\"forks_count\":0,\"mirror_url\":null,\"archived\":false,\"open_issues_count\":0,\"license\":{\"key\":\"mit\",\"name\":\"MIT License\",\"spdx_id\":\"MIT\",\"url\":\"https://api.github.com/licenses/mit\"},\"forks\":0,\"open_issues\":0,\"watchers\":0,\"default_branch\":\"master\",\"public\":true}},\"public\":true,\"created_at\":\"2018-03-30T00:26:44Z\"},{\"id\":\"7456911315\",\"type\":\"PushEvent\",\"actor\":{\"id\":37131793,\"login\":\"whdghks\",\"display_login\":\"whdghks\",\"gravatar_id\":\"\",\"url\":\"https://api.github.com/users/whdghks\",\"avatar_url\":\"https://avatars.githubusercontent.com/u/37131793?\"},\"repo\":{\"id\":124179482,\"name\":\"whdghks/smoke\",\"url\":\"https://api.github.com/repos/whdghks/smoke\"},\"payload\":{\"push_id\":2444645291,\"size\":1,\"distinct_size\":1,\"ref\":\"refs/heads/master\",\"head\":\"51e7216d5939f3698f36b1135d58f2935ad4a20f\",\"before\":\"4055c4add5968a00bce7e206a9913d76f35e0b4e\",\"commits\":[{\"sha\":\"51e7216d5939f3698f36b1135d58f2935ad4a20f\",\"author\":{\"email\":\"37131793+whdghks@users.noreply.github.com\",\"name\":\"whdghks\"},\"message\":\"Update README.md\",\"distinct\":true,\"url\":\"https://api.github.com/repos/whdghks/smoke/commits/51e7216d5939f3698f36b1135d58f2935ad4a20f\"}]},\"public\":true,\"created_at\":\"2018-03-30T00:26:44Z\"},{\"id\":\"7456911313\",\"type\":\"PushEvent\",\"actor\":{\"id\":18709905,\"login\":\"aarondr77\",\"display_login\":\"aarondr77\",\"gravatar_id\":\"\",\"url\":\"https://api.github.com/users/aarondr77\",\"avatar_url\":\"https://avatars.githubusercontent.com/u/18709905?\"},\"repo\":{\"id\":127360937,\"name\":\"aarondr77/QuadTreeCompression\",\"url\":\"https://api.github.com/repos/aarondr77/QuadTreeCompression\"},\"payload\":{\"push_id\":2444645288,\"size\":1,\"distinct_size\":1,\"ref\":\"refs/heads/master\",\"head\":\"e544597117bc932ecaefd3390f8da19abb5774e3\",\"before\":\"5503dfd2ceed38c4b954aa725dcf076d8caadb08\",\"commits\":[{\"sha\":\"e544597117bc932ecaefd3390f8da19abb5774e3\",\"author\":{\"email\":\"aarondia@wharton.upenn.edu\",\"name\":\"Aaron Diamond-Reivich\"},\"message\":\"Create QuadTreeImpl\",\"distinct\":true,\"url\":\"https://api.github.com/repos/aarondr77/QuadTreeCompression/commits/e544597117bc932ecaefd3390f8da19abb5774e3\"}]},\"public\":true,\"created_at\":\"2018-03-30T00:26:44Z\"},{\"id\":\"7456911312\",\"type\":\"PushEvent\",\"actor\":{\"id\":5680873,\"login\":\"choisukjune\",\"display_login\":\"choisukjune\",\"gravatar_id\":\"\",\"url\":\"https://api.github.com/users/choisukjune\",\"avatar_url\":\"https://avatars.githubusercontent.com/u/5680873?\"},\"repo\":{\"id\":108496436,\"name\":\"choisukjune/httpServer_csj\",\"url\":\"https://api.github.com/repos/choisukjune/httpServer_csj\"},\"payload\":{\"push_id\":2444645287,\"size\":1,\"distinct_size\":1,\"ref\":\"refs/heads/master\",\"head\":\"ba5154870c629c691f21b73bb241c969108d0400\",\"before\":\"ef96969702ed963d5f61687feaaf36b3290d4b66\",\"commits\":[{\"sha\":\"ba5154870c629c691f21b73bb241c969108d0400\",\"author\":{\"email\":\"sukjune.choi@gmail.com\",\"name\":\"choisukjune\"},\"message\":\"sdfsdf\",\"distinct\":true,\"url\":\"https://api.github.com/repos/choisukjune/httpServer_csj/commits/ba5154870c629c691f21b73bb241c969108d0400\"}]},\"public\":true,\"created_at\":\"2018-03-30T00:26:44Z\"},{\"id\":\"7456911308\",\"type\":\"PushEvent\",\"actor\":{\"id\":8935018,\"login\":\"fannbrian\",\"display_login\":\"fannbrian\",\"gravatar_id\":\"\",\"url\":\"https://api.github.com/users/fannbrian\",\"avatar_url\":\"https://avatars.githubusercontent.com/u/8935018?\"},\"repo\":{\"id\":115482141,\"name\":\"fannbrian/GetUsGrub\",\"url\":\"https://api.github.com/repos/fannbrian/GetUsGrub\"},\"payload\":{\"push_id\":2444645286,\"size\":3,\"distinct_size\":1,\"ref\":\"refs/heads/master\",\"head\":\"ca6f76a6e4770cf25d9530fe9ec154fb5781d30d\",\"before\":\"043774b940ecd307e38d2c596393ee0df990cf95\",\"commits\":[{\"sha\":\"8545189eab0a81f619c06eef32bd712290e22f44\",\"author\":{\"email\":\"fannbrian@gmail.com\",\"name\":\"Unknown\"},\"message\":\"Merge branch \\'master\\' into BrianFann\",\"distinct\":false,\"url\":\"https://api.github.com/repos/fannbrian/GetUsGrub/commits/8545189eab0a81f619c06eef32bd712290e22f44\"},{\"sha\":\"ebbc88de1fadff7193b7e8fd4d4313eb1de4252d\",\"author\":{\"email\":\"fannbrian@gmail.com\",\"name\":\"fannbrian\"},\"message\":\"Renamed Timezone => TimeZone\\\\n\\\\nJenn requested this change, and she\\'s the only other developer that is currently using the time zone service so it shouldn\\'t break anyone\\'s code.\",\"distinct\":false,\"url\":\"https://api.github.com/repos/fannbrian/GetUsGrub/commits/ebbc88de1fadff7193b7e8fd4d4313eb1de4252d\"},{\"sha\":\"ca6f76a6e4770cf25d9530fe9ec154fb5781d30d\",\"author\":{\"email\":\"fannbrian@gmail.com\",\"name\":\"fannbrian\"},\"message\":\"Merge branch \\'BrianFann\\'\",\"distinct\":true,\"url\":\"https://api.github.com/repos/fannbrian/GetUsGrub/commits/ca6f76a6e4770cf25d9530fe9ec154fb5781d30d\"}]},\"public\":true,\"created_at\":\"2018-03-30T00:26:44Z\"},{\"id\":\"7456911305\",\"type\":\"PushEvent\",\"actor\":{\"id\":30882650,\"login\":\"MatthewFavela\",\"display_login\":\"MatthewFavela\",\"gravatar_id\":\"\",\"url\":\"https://api.github.com/users/MatthewFavela\",\"avatar_url\":\"https://avatars.githubusercontent.com/u/30882650?\"},\"repo\":{\"id\":124158149,\"name\":\"MatthewFavela/whack-a-mole\",\"url\":\"https://api.github.com/repos/MatthewFavela/whack-a-mole\"},\"payload\":{\"push_id\":2444645284,\"size\":1,\"distinct_size\":1,\"ref\":\"refs/heads/master\",\"head\":\"ebfd4effbbbddba9149213938230800617618eae\",\"before\":\"b251bbee5d98f680866424d6f6119329a3099bab\",\"commits\":[{\"sha\":\"ebfd4effbbbddba9149213938230800617618eae\",\"author\":{\"email\":\"mfavela3508@myhta.org\",\"name\":\"MatthewFavela\"},\"message\":\"what a mole\",\"distinct\":true,\"url\":\"https://api.github.com/repos/MatthewFavela/whack-a-mole/commits/ebfd4effbbbddba9149213938230800617618eae\"}]},\"public\":true,\"created_at\":\"2018-03-30T00:26:44Z\"},{\"id\":\"7456911302\",\"type\":\"CreateEvent\",\"actor\":{\"id\":37917517,\"login\":\"ppgt\",\"display_login\":\"ppgt\",\"gravatar_id\":\"\",\"url\":\"https://api.github.com/users/ppgt\",\"avatar_url\":\"https://avatars.githubusercontent.com/u/37917517?\"},\"repo\":{\"id\":127361086,\"name\":\"ppgt/eeqd\",\"url\":\"https://api.github.com/repos/ppgt/eeqd\"},\"payload\":{\"ref\":null,\"ref_type\":\"repository\",\"master_branch\":\"master\",\"description\":null,\"pusher_type\":\"user\"},\"public\":true,\"created_at\":\"2018-03-30T00:26:44Z\"}]'"
      ]
     },
     "execution_count": 17,
     "metadata": {},
     "output_type": "execute_result"
    }
   ],
   "source": [
    "r.content"
   ]
  },
  {
   "cell_type": "markdown",
   "metadata": {},
   "source": [
    "The `gzip` and `deflate` transfer-encodings are automatically decoded for you.\n",
    "\n",
    "For example, to create an image from binary data returned by a request, you can use the following code:"
   ]
  },
  {
   "cell_type": "code",
   "execution_count": 18,
   "metadata": {},
   "outputs": [
    {
     "ename": "ModuleNotFoundError",
     "evalue": "No module named 'PIL'",
     "output_type": "error",
     "traceback": [
      "\u001b[0;31m---------------------------------------------------------------------------\u001b[0m",
      "\u001b[0;31mModuleNotFoundError\u001b[0m                       Traceback (most recent call last)",
      "\u001b[0;32m<ipython-input-18-6046fc30d298>\u001b[0m in \u001b[0;36m<module>\u001b[0;34m()\u001b[0m\n\u001b[0;32m----> 1\u001b[0;31m \u001b[0;32mfrom\u001b[0m \u001b[0mPIL\u001b[0m \u001b[0;32mimport\u001b[0m \u001b[0mImage\u001b[0m\u001b[0;34m\u001b[0m\u001b[0m\n\u001b[0m\u001b[1;32m      2\u001b[0m \u001b[0;32mfrom\u001b[0m \u001b[0mio\u001b[0m \u001b[0;32mimport\u001b[0m \u001b[0mBytesIO\u001b[0m\u001b[0;34m\u001b[0m\u001b[0m\n\u001b[1;32m      3\u001b[0m \u001b[0;34m\u001b[0m\u001b[0m\n\u001b[1;32m      4\u001b[0m \u001b[0;34m\u001b[0m\u001b[0m\n\u001b[1;32m      5\u001b[0m \u001b[0mi\u001b[0m \u001b[0;34m=\u001b[0m \u001b[0mImage\u001b[0m\u001b[0;34m.\u001b[0m\u001b[0mopen\u001b[0m\u001b[0;34m(\u001b[0m\u001b[0mBytesIO\u001b[0m\u001b[0;34m(\u001b[0m\u001b[0mr\u001b[0m\u001b[0;34m.\u001b[0m\u001b[0mcontent\u001b[0m\u001b[0;34m)\u001b[0m\u001b[0;34m)\u001b[0m\u001b[0;34m\u001b[0m\u001b[0m\n",
      "\u001b[0;31mModuleNotFoundError\u001b[0m: No module named 'PIL'"
     ]
    }
   ],
   "source": [
    "from PIL import Image\n",
    "from io import BytesIO\n",
    "\n",
    "\n",
    "i = Image.open(BytesIO(r.content))"
   ]
  },
  {
   "cell_type": "markdown",
   "metadata": {},
   "source": [
    "## JSON Response Content\n",
    "There's also a builtin JSON decoder, in case you're dealing with JSON data:"
   ]
  },
  {
   "cell_type": "code",
   "execution_count": 19,
   "metadata": {},
   "outputs": [
    {
     "data": {
      "text/plain": [
       "[{'actor': {'avatar_url': 'https://avatars.githubusercontent.com/u/8517910?',\n",
       "   'display_login': 'LombiqBot',\n",
       "   'gravatar_id': '',\n",
       "   'id': 8517910,\n",
       "   'login': 'LombiqBot',\n",
       "   'url': 'https://api.github.com/users/LombiqBot'},\n",
       "  'created_at': '2018-03-30T00:29:35Z',\n",
       "  'id': '7456917747',\n",
       "  'org': {'avatar_url': 'https://avatars.githubusercontent.com/u/8158177?',\n",
       "   'gravatar_id': '',\n",
       "   'id': 8158177,\n",
       "   'login': 'Lombiq',\n",
       "   'url': 'https://api.github.com/orgs/Lombiq'},\n",
       "  'payload': {'before': '3eb9ab392cfca13b859ff57eb6c075625ae5967d',\n",
       "   'commits': [],\n",
       "   'distinct_size': 0,\n",
       "   'head': '3eb9ab392cfca13b859ff57eb6c075625ae5967d',\n",
       "   'push_id': 2444648736,\n",
       "   'ref': 'refs/heads/master',\n",
       "   'size': 0},\n",
       "  'public': True,\n",
       "  'repo': {'id': 46624662,\n",
       "   'name': 'Lombiq/Orchard-External-Pages',\n",
       "   'url': 'https://api.github.com/repos/Lombiq/Orchard-External-Pages'},\n",
       "  'type': 'PushEvent'},\n",
       " {'actor': {'avatar_url': 'https://avatars.githubusercontent.com/u/2491855?',\n",
       "   'display_login': 'NguyenMinhDung',\n",
       "   'gravatar_id': '',\n",
       "   'id': 2491855,\n",
       "   'login': 'NguyenMinhDung',\n",
       "   'url': 'https://api.github.com/users/NguyenMinhDung'},\n",
       "  'created_at': '2018-03-30T00:29:35Z',\n",
       "  'id': '7456917748',\n",
       "  'payload': {'before': 'b802d14e5a95cbb4f6cd9cbcba10763e7f0feeee',\n",
       "   'commits': [{'author': {'email': 'nmdung1105@gmail.com', 'name': 'Admin'},\n",
       "     'distinct': True,\n",
       "     'message': '- Fix natural reader handshake, Fix get video status error by unique',\n",
       "     'sha': '5d1fd5334d90891d88ca2b500020bc0db944c2f9',\n",
       "     'url': 'https://api.github.com/repos/NguyenMinhDung/ClipMaker/commits/5d1fd5334d90891d88ca2b500020bc0db944c2f9'}],\n",
       "   'distinct_size': 1,\n",
       "   'head': '5d1fd5334d90891d88ca2b500020bc0db944c2f9',\n",
       "   'push_id': 2444648737,\n",
       "   'ref': 'refs/heads/master',\n",
       "   'size': 1},\n",
       "  'public': True,\n",
       "  'repo': {'id': 125782754,\n",
       "   'name': 'NguyenMinhDung/ClipMaker',\n",
       "   'url': 'https://api.github.com/repos/NguyenMinhDung/ClipMaker'},\n",
       "  'type': 'PushEvent'},\n",
       " {'actor': {'avatar_url': 'https://avatars.githubusercontent.com/u/31977283?',\n",
       "   'display_login': 'fuchsia-infra-bot',\n",
       "   'gravatar_id': '',\n",
       "   'id': 31977283,\n",
       "   'login': 'fuchsia-infra-bot',\n",
       "   'url': 'https://api.github.com/users/fuchsia-infra-bot'},\n",
       "  'created_at': '2018-03-30T00:29:35Z',\n",
       "  'id': '7456917744',\n",
       "  'org': {'avatar_url': 'https://avatars.githubusercontent.com/u/12826430?',\n",
       "   'gravatar_id': '',\n",
       "   'id': 12826430,\n",
       "   'login': 'fuchsia-mirror',\n",
       "   'url': 'https://api.github.com/orgs/fuchsia-mirror'},\n",
       "  'payload': {'before': '72b0fb5153765fef92290a7c3eb816201bbd20fd',\n",
       "   'commits': [{'author': {'email': 'rnd0x00@gmail.com', 'name': 'mewmew'},\n",
       "     'distinct': True,\n",
       "     'message': 'fmt: document the behaviour of %p on slices\\n\\nFixes #23291.\\n\\nChange-Id: I9bb3b8246968693871d4800e2cdb2c8390f4b6a6\\nGitHub-Last-Rev: bc3444206764016b730d770a8c71a49c214ae824\\nGitHub-Pull-Request: golang/go#24600\\nReviewed-on: https://go-review.googlesource.com/103516\\nReviewed-by: Rob Pike <r@golang.org>',\n",
       "     'sha': 'b8620afb8d17a2b884f20535ccbc21b192b75b3a',\n",
       "     'url': 'https://api.github.com/repos/fuchsia-mirror/third_party-go/commits/b8620afb8d17a2b884f20535ccbc21b192b75b3a'}],\n",
       "   'distinct_size': 1,\n",
       "   'head': 'b8620afb8d17a2b884f20535ccbc21b192b75b3a',\n",
       "   'push_id': 2444648734,\n",
       "   'ref': 'refs/heads/upstream/master',\n",
       "   'size': 1},\n",
       "  'public': True,\n",
       "  'repo': {'id': 67647661,\n",
       "   'name': 'fuchsia-mirror/third_party-go',\n",
       "   'url': 'https://api.github.com/repos/fuchsia-mirror/third_party-go'},\n",
       "  'type': 'PushEvent'},\n",
       " {'actor': {'avatar_url': 'https://avatars.githubusercontent.com/u/37917184?',\n",
       "   'display_login': '1x0',\n",
       "   'gravatar_id': '',\n",
       "   'id': 37917184,\n",
       "   'login': '1x0',\n",
       "   'url': 'https://api.github.com/users/1x0'},\n",
       "  'created_at': '2018-03-30T00:29:35Z',\n",
       "  'id': '7456917745',\n",
       "  'payload': {'action': 'started'},\n",
       "  'public': True,\n",
       "  'repo': {'id': 75729827,\n",
       "   'name': 'diogomoretti/awesome-stylus',\n",
       "   'url': 'https://api.github.com/repos/diogomoretti/awesome-stylus'},\n",
       "  'type': 'WatchEvent'},\n",
       " {'actor': {'avatar_url': 'https://avatars.githubusercontent.com/u/13840545?',\n",
       "   'display_login': 'luispadron',\n",
       "   'gravatar_id': '',\n",
       "   'id': 13840545,\n",
       "   'login': 'luispadron',\n",
       "   'url': 'https://api.github.com/users/luispadron'},\n",
       "  'created_at': '2018-03-30T00:29:35Z',\n",
       "  'id': '7456917742',\n",
       "  'payload': {'action': 'started'},\n",
       "  'public': True,\n",
       "  'repo': {'id': 115882847,\n",
       "   'name': 'meugur/discord-music-bot',\n",
       "   'url': 'https://api.github.com/repos/meugur/discord-music-bot'},\n",
       "  'type': 'WatchEvent'},\n",
       " {'actor': {'avatar_url': 'https://avatars.githubusercontent.com/u/33715766?',\n",
       "   'display_login': 'ASC90',\n",
       "   'gravatar_id': '',\n",
       "   'id': 33715766,\n",
       "   'login': 'ASC90',\n",
       "   'url': 'https://api.github.com/users/ASC90'},\n",
       "  'created_at': '2018-03-30T00:29:35Z',\n",
       "  'id': '7456917738',\n",
       "  'payload': {'before': '0485339b620da73c56f92d3e3668b6e4fa82ebd1',\n",
       "   'commits': [{'author': {'email': 'arnausantoscabre@gmail.com',\n",
       "      'name': 'Unknown'},\n",
       "     'distinct': True,\n",
       "     'message': 'Mapeado de las acciones',\n",
       "     'sha': 'a64e1f48d6b0561abfa548891ca879c218dd54ad',\n",
       "     'url': 'https://api.github.com/repos/ASC90/StocksProject/commits/a64e1f48d6b0561abfa548891ca879c218dd54ad'}],\n",
       "   'distinct_size': 1,\n",
       "   'head': 'a64e1f48d6b0561abfa548891ca879c218dd54ad',\n",
       "   'push_id': 2444648728,\n",
       "   'ref': 'refs/heads/master',\n",
       "   'size': 1},\n",
       "  'public': True,\n",
       "  'repo': {'id': 126600023,\n",
       "   'name': 'ASC90/StocksProject',\n",
       "   'url': 'https://api.github.com/repos/ASC90/StocksProject'},\n",
       "  'type': 'PushEvent'},\n",
       " {'actor': {'avatar_url': 'https://avatars.githubusercontent.com/u/16689974?',\n",
       "   'display_login': 'robertDurst',\n",
       "   'gravatar_id': '',\n",
       "   'id': 16689974,\n",
       "   'login': 'robertDurst',\n",
       "   'url': 'https://api.github.com/users/robertDurst'},\n",
       "  'created_at': '2018-03-30T00:29:35Z',\n",
       "  'id': '7456917733',\n",
       "  'org': {'avatar_url': 'https://avatars.githubusercontent.com/u/37380002?',\n",
       "   'gravatar_id': '',\n",
       "   'id': 37380002,\n",
       "   'login': 'not-Stellar',\n",
       "   'url': 'https://api.github.com/orgs/not-Stellar'},\n",
       "  'payload': {'action': 'created',\n",
       "   'comment': {'author_association': 'CONTRIBUTOR',\n",
       "    'body': '123',\n",
       "    'created_at': '2018-03-30T00:29:35Z',\n",
       "    'html_url': 'https://github.com/not-Stellar/test/issues/13#issuecomment-377411784',\n",
       "    'id': 377411784,\n",
       "    'issue_url': 'https://api.github.com/repos/not-Stellar/test/issues/13',\n",
       "    'updated_at': '2018-03-30T00:29:35Z',\n",
       "    'url': 'https://api.github.com/repos/not-Stellar/test/issues/comments/377411784',\n",
       "    'user': {'avatar_url': 'https://avatars3.githubusercontent.com/u/16689974?v=4',\n",
       "     'events_url': 'https://api.github.com/users/robertDurst/events{/privacy}',\n",
       "     'followers_url': 'https://api.github.com/users/robertDurst/followers',\n",
       "     'following_url': 'https://api.github.com/users/robertDurst/following{/other_user}',\n",
       "     'gists_url': 'https://api.github.com/users/robertDurst/gists{/gist_id}',\n",
       "     'gravatar_id': '',\n",
       "     'html_url': 'https://github.com/robertDurst',\n",
       "     'id': 16689974,\n",
       "     'login': 'robertDurst',\n",
       "     'organizations_url': 'https://api.github.com/users/robertDurst/orgs',\n",
       "     'received_events_url': 'https://api.github.com/users/robertDurst/received_events',\n",
       "     'repos_url': 'https://api.github.com/users/robertDurst/repos',\n",
       "     'site_admin': False,\n",
       "     'starred_url': 'https://api.github.com/users/robertDurst/starred{/owner}{/repo}',\n",
       "     'subscriptions_url': 'https://api.github.com/users/robertDurst/subscriptions',\n",
       "     'type': 'User',\n",
       "     'url': 'https://api.github.com/users/robertDurst'}},\n",
       "   'issue': {'assignee': None,\n",
       "    'assignees': [],\n",
       "    'author_association': 'CONTRIBUTOR',\n",
       "    'body': '',\n",
       "    'closed_at': None,\n",
       "    'comments': 64,\n",
       "    'comments_url': 'https://api.github.com/repos/not-Stellar/test/issues/13/comments',\n",
       "    'created_at': '2018-03-29T22:47:42Z',\n",
       "    'events_url': 'https://api.github.com/repos/not-Stellar/test/issues/13/events',\n",
       "    'html_url': 'https://github.com/not-Stellar/test/issues/13',\n",
       "    'id': 309927311,\n",
       "    'labels': [],\n",
       "    'labels_url': 'https://api.github.com/repos/not-Stellar/test/issues/13/labels{/name}',\n",
       "    'locked': False,\n",
       "    'milestone': None,\n",
       "    'number': 13,\n",
       "    'repository_url': 'https://api.github.com/repos/not-Stellar/test',\n",
       "    'state': 'open',\n",
       "    'title': 'test',\n",
       "    'updated_at': '2018-03-30T00:29:35Z',\n",
       "    'url': 'https://api.github.com/repos/not-Stellar/test/issues/13',\n",
       "    'user': {'avatar_url': 'https://avatars3.githubusercontent.com/u/16689974?v=4',\n",
       "     'events_url': 'https://api.github.com/users/robertDurst/events{/privacy}',\n",
       "     'followers_url': 'https://api.github.com/users/robertDurst/followers',\n",
       "     'following_url': 'https://api.github.com/users/robertDurst/following{/other_user}',\n",
       "     'gists_url': 'https://api.github.com/users/robertDurst/gists{/gist_id}',\n",
       "     'gravatar_id': '',\n",
       "     'html_url': 'https://github.com/robertDurst',\n",
       "     'id': 16689974,\n",
       "     'login': 'robertDurst',\n",
       "     'organizations_url': 'https://api.github.com/users/robertDurst/orgs',\n",
       "     'received_events_url': 'https://api.github.com/users/robertDurst/received_events',\n",
       "     'repos_url': 'https://api.github.com/users/robertDurst/repos',\n",
       "     'site_admin': False,\n",
       "     'starred_url': 'https://api.github.com/users/robertDurst/starred{/owner}{/repo}',\n",
       "     'subscriptions_url': 'https://api.github.com/users/robertDurst/subscriptions',\n",
       "     'type': 'User',\n",
       "     'url': 'https://api.github.com/users/robertDurst'}}},\n",
       "  'public': True,\n",
       "  'repo': {'id': 125257441,\n",
       "   'name': 'not-Stellar/test',\n",
       "   'url': 'https://api.github.com/repos/not-Stellar/test'},\n",
       "  'type': 'IssueCommentEvent'},\n",
       " {'actor': {'avatar_url': 'https://avatars.githubusercontent.com/u/37917184?',\n",
       "   'display_login': '1x0',\n",
       "   'gravatar_id': '',\n",
       "   'id': 37917184,\n",
       "   'login': '1x0',\n",
       "   'url': 'https://api.github.com/users/1x0'},\n",
       "  'created_at': '2018-03-30T00:29:35Z',\n",
       "  'id': '7456917732',\n",
       "  'payload': {'action': 'started'},\n",
       "  'public': True,\n",
       "  'repo': {'id': 46472606,\n",
       "   'name': 'anykeyanykey/vk',\n",
       "   'url': 'https://api.github.com/repos/anykeyanykey/vk'},\n",
       "  'type': 'WatchEvent'},\n",
       " {'actor': {'avatar_url': 'https://avatars.githubusercontent.com/u/31553027?',\n",
       "   'display_login': 'CrazyGeeks',\n",
       "   'gravatar_id': '',\n",
       "   'id': 31553027,\n",
       "   'login': 'CrazyGeeks',\n",
       "   'url': 'https://api.github.com/users/CrazyGeeks'},\n",
       "  'created_at': '2018-03-30T00:29:35Z',\n",
       "  'id': '7456917728',\n",
       "  'payload': {'forkee': {'archive_url': 'https://api.github.com/repos/CrazyGeeks/S1Game-config-files/{archive_format}{/ref}',\n",
       "    'archived': False,\n",
       "    'assignees_url': 'https://api.github.com/repos/CrazyGeeks/S1Game-config-files/assignees{/user}',\n",
       "    'blobs_url': 'https://api.github.com/repos/CrazyGeeks/S1Game-config-files/git/blobs{/sha}',\n",
       "    'branches_url': 'https://api.github.com/repos/CrazyGeeks/S1Game-config-files/branches{/branch}',\n",
       "    'clone_url': 'https://github.com/CrazyGeeks/S1Game-config-files.git',\n",
       "    'collaborators_url': 'https://api.github.com/repos/CrazyGeeks/S1Game-config-files/collaborators{/collaborator}',\n",
       "    'comments_url': 'https://api.github.com/repos/CrazyGeeks/S1Game-config-files/comments{/number}',\n",
       "    'commits_url': 'https://api.github.com/repos/CrazyGeeks/S1Game-config-files/commits{/sha}',\n",
       "    'compare_url': 'https://api.github.com/repos/CrazyGeeks/S1Game-config-files/compare/{base}...{head}',\n",
       "    'contents_url': 'https://api.github.com/repos/CrazyGeeks/S1Game-config-files/contents/{+path}',\n",
       "    'contributors_url': 'https://api.github.com/repos/CrazyGeeks/S1Game-config-files/contributors',\n",
       "    'created_at': '2018-03-30T00:29:35Z',\n",
       "    'default_branch': 'master',\n",
       "    'deployments_url': 'https://api.github.com/repos/CrazyGeeks/S1Game-config-files/deployments',\n",
       "    'description': 'S1Game/Config files for personal use in TERA',\n",
       "    'downloads_url': 'https://api.github.com/repos/CrazyGeeks/S1Game-config-files/downloads',\n",
       "    'events_url': 'https://api.github.com/repos/CrazyGeeks/S1Game-config-files/events',\n",
       "    'fork': True,\n",
       "    'forks': 0,\n",
       "    'forks_count': 0,\n",
       "    'forks_url': 'https://api.github.com/repos/CrazyGeeks/S1Game-config-files/forks',\n",
       "    'full_name': 'CrazyGeeks/S1Game-config-files',\n",
       "    'git_commits_url': 'https://api.github.com/repos/CrazyGeeks/S1Game-config-files/git/commits{/sha}',\n",
       "    'git_refs_url': 'https://api.github.com/repos/CrazyGeeks/S1Game-config-files/git/refs{/sha}',\n",
       "    'git_tags_url': 'https://api.github.com/repos/CrazyGeeks/S1Game-config-files/git/tags{/sha}',\n",
       "    'git_url': 'git://github.com/CrazyGeeks/S1Game-config-files.git',\n",
       "    'has_downloads': True,\n",
       "    'has_issues': False,\n",
       "    'has_pages': False,\n",
       "    'has_projects': True,\n",
       "    'has_wiki': True,\n",
       "    'homepage': None,\n",
       "    'hooks_url': 'https://api.github.com/repos/CrazyGeeks/S1Game-config-files/hooks',\n",
       "    'html_url': 'https://github.com/CrazyGeeks/S1Game-config-files',\n",
       "    'id': 127361256,\n",
       "    'issue_comment_url': 'https://api.github.com/repos/CrazyGeeks/S1Game-config-files/issues/comments{/number}',\n",
       "    'issue_events_url': 'https://api.github.com/repos/CrazyGeeks/S1Game-config-files/issues/events{/number}',\n",
       "    'issues_url': 'https://api.github.com/repos/CrazyGeeks/S1Game-config-files/issues{/number}',\n",
       "    'keys_url': 'https://api.github.com/repos/CrazyGeeks/S1Game-config-files/keys{/key_id}',\n",
       "    'labels_url': 'https://api.github.com/repos/CrazyGeeks/S1Game-config-files/labels{/name}',\n",
       "    'language': None,\n",
       "    'languages_url': 'https://api.github.com/repos/CrazyGeeks/S1Game-config-files/languages',\n",
       "    'license': None,\n",
       "    'merges_url': 'https://api.github.com/repos/CrazyGeeks/S1Game-config-files/merges',\n",
       "    'milestones_url': 'https://api.github.com/repos/CrazyGeeks/S1Game-config-files/milestones{/number}',\n",
       "    'mirror_url': None,\n",
       "    'name': 'S1Game-config-files',\n",
       "    'notifications_url': 'https://api.github.com/repos/CrazyGeeks/S1Game-config-files/notifications{?since,all,participating}',\n",
       "    'open_issues': 0,\n",
       "    'open_issues_count': 0,\n",
       "    'owner': {'avatar_url': 'https://avatars3.githubusercontent.com/u/31553027?v=4',\n",
       "     'events_url': 'https://api.github.com/users/CrazyGeeks/events{/privacy}',\n",
       "     'followers_url': 'https://api.github.com/users/CrazyGeeks/followers',\n",
       "     'following_url': 'https://api.github.com/users/CrazyGeeks/following{/other_user}',\n",
       "     'gists_url': 'https://api.github.com/users/CrazyGeeks/gists{/gist_id}',\n",
       "     'gravatar_id': '',\n",
       "     'html_url': 'https://github.com/CrazyGeeks',\n",
       "     'id': 31553027,\n",
       "     'login': 'CrazyGeeks',\n",
       "     'organizations_url': 'https://api.github.com/users/CrazyGeeks/orgs',\n",
       "     'received_events_url': 'https://api.github.com/users/CrazyGeeks/received_events',\n",
       "     'repos_url': 'https://api.github.com/users/CrazyGeeks/repos',\n",
       "     'site_admin': False,\n",
       "     'starred_url': 'https://api.github.com/users/CrazyGeeks/starred{/owner}{/repo}',\n",
       "     'subscriptions_url': 'https://api.github.com/users/CrazyGeeks/subscriptions',\n",
       "     'type': 'User',\n",
       "     'url': 'https://api.github.com/users/CrazyGeeks'},\n",
       "    'private': False,\n",
       "    'public': True,\n",
       "    'pulls_url': 'https://api.github.com/repos/CrazyGeeks/S1Game-config-files/pulls{/number}',\n",
       "    'pushed_at': '2017-12-07T03:59:47Z',\n",
       "    'releases_url': 'https://api.github.com/repos/CrazyGeeks/S1Game-config-files/releases{/id}',\n",
       "    'size': 48,\n",
       "    'ssh_url': 'git@github.com:CrazyGeeks/S1Game-config-files.git',\n",
       "    'stargazers_count': 0,\n",
       "    'stargazers_url': 'https://api.github.com/repos/CrazyGeeks/S1Game-config-files/stargazers',\n",
       "    'statuses_url': 'https://api.github.com/repos/CrazyGeeks/S1Game-config-files/statuses/{sha}',\n",
       "    'subscribers_url': 'https://api.github.com/repos/CrazyGeeks/S1Game-config-files/subscribers',\n",
       "    'subscription_url': 'https://api.github.com/repos/CrazyGeeks/S1Game-config-files/subscription',\n",
       "    'svn_url': 'https://github.com/CrazyGeeks/S1Game-config-files',\n",
       "    'tags_url': 'https://api.github.com/repos/CrazyGeeks/S1Game-config-files/tags',\n",
       "    'teams_url': 'https://api.github.com/repos/CrazyGeeks/S1Game-config-files/teams',\n",
       "    'trees_url': 'https://api.github.com/repos/CrazyGeeks/S1Game-config-files/git/trees{/sha}',\n",
       "    'updated_at': '2017-12-08T02:01:49Z',\n",
       "    'url': 'https://api.github.com/repos/CrazyGeeks/S1Game-config-files',\n",
       "    'watchers': 0,\n",
       "    'watchers_count': 0}},\n",
       "  'public': True,\n",
       "  'repo': {'id': 113400706,\n",
       "   'name': 'seraphinush-gaming/S1Game-config-files',\n",
       "   'url': 'https://api.github.com/repos/seraphinush-gaming/S1Game-config-files'},\n",
       "  'type': 'ForkEvent'},\n",
       " {'actor': {'avatar_url': 'https://avatars.githubusercontent.com/u/37390533?',\n",
       "   'display_login': 'melodyilin',\n",
       "   'gravatar_id': '',\n",
       "   'id': 37390533,\n",
       "   'login': 'melodyilin',\n",
       "   'url': 'https://api.github.com/users/melodyilin'},\n",
       "  'created_at': '2018-03-30T00:29:35Z',\n",
       "  'id': '7456917726',\n",
       "  'payload': {'before': '48d95d4834384ecdd88d37f71968f224ed920220',\n",
       "   'commits': [{'author': {'email': 'melody.i.lin@nasa.gov',\n",
       "      'name': 'Melody Lin'},\n",
       "     'distinct': True,\n",
       "     'message': 'New color wheel from Jeremy to replace old colors; updated name',\n",
       "     'sha': '188f51eb965c76822607bf06537b6a1850f86862',\n",
       "     'url': 'https://api.github.com/repos/jeremycoupe/queue_analysis/commits/188f51eb965c76822607bf06537b6a1850f86862'}],\n",
       "   'distinct_size': 1,\n",
       "   'head': '188f51eb965c76822607bf06537b6a1850f86862',\n",
       "   'push_id': 2444648722,\n",
       "   'ref': 'refs/heads/master',\n",
       "   'size': 1},\n",
       "  'public': True,\n",
       "  'repo': {'id': 124599242,\n",
       "   'name': 'jeremycoupe/queue_analysis',\n",
       "   'url': 'https://api.github.com/repos/jeremycoupe/queue_analysis'},\n",
       "  'type': 'PushEvent'},\n",
       " {'actor': {'avatar_url': 'https://avatars.githubusercontent.com/u/8517910?',\n",
       "   'display_login': 'LombiqBot',\n",
       "   'gravatar_id': '',\n",
       "   'id': 8517910,\n",
       "   'login': 'LombiqBot',\n",
       "   'url': 'https://api.github.com/users/LombiqBot'},\n",
       "  'created_at': '2018-03-30T00:29:35Z',\n",
       "  'id': '7456917723',\n",
       "  'org': {'avatar_url': 'https://avatars.githubusercontent.com/u/8158177?',\n",
       "   'gravatar_id': '',\n",
       "   'id': 8158177,\n",
       "   'login': 'Lombiq',\n",
       "   'url': 'https://api.github.com/orgs/Lombiq'},\n",
       "  'payload': {'before': '8be940fe8da9aec448359d49a98ded796e5df881',\n",
       "   'commits': [],\n",
       "   'distinct_size': 0,\n",
       "   'head': '8be940fe8da9aec448359d49a98ded796e5df881',\n",
       "   'push_id': 2444648721,\n",
       "   'ref': 'refs/heads/feature/sqlite',\n",
       "   'size': 0},\n",
       "  'public': True,\n",
       "  'repo': {'id': 86929735,\n",
       "   'name': 'Lombiq/Orchard',\n",
       "   'url': 'https://api.github.com/repos/Lombiq/Orchard'},\n",
       "  'type': 'PushEvent'},\n",
       " {'actor': {'avatar_url': 'https://avatars.githubusercontent.com/u/31771?',\n",
       "   'display_login': 'djoyner',\n",
       "   'gravatar_id': '',\n",
       "   'id': 31771,\n",
       "   'login': 'djoyner',\n",
       "   'url': 'https://api.github.com/users/djoyner'},\n",
       "  'created_at': '2018-03-30T00:29:35Z',\n",
       "  'id': '7456917721',\n",
       "  'org': {'avatar_url': 'https://avatars.githubusercontent.com/u/9370365?',\n",
       "   'gravatar_id': '',\n",
       "   'id': 9370365,\n",
       "   'login': 'SpirentOrion',\n",
       "   'url': 'https://api.github.com/orgs/SpirentOrion'},\n",
       "  'payload': {'action': 'opened',\n",
       "   'number': 4,\n",
       "   'pull_request': {'_links': {'comments': {'href': 'https://api.github.com/repos/SpirentOrion/luddite.v2/issues/4/comments'},\n",
       "     'commits': {'href': 'https://api.github.com/repos/SpirentOrion/luddite.v2/pulls/4/commits'},\n",
       "     'html': {'href': 'https://github.com/SpirentOrion/luddite.v2/pull/4'},\n",
       "     'issue': {'href': 'https://api.github.com/repos/SpirentOrion/luddite.v2/issues/4'},\n",
       "     'review_comment': {'href': 'https://api.github.com/repos/SpirentOrion/luddite.v2/pulls/comments{/number}'},\n",
       "     'review_comments': {'href': 'https://api.github.com/repos/SpirentOrion/luddite.v2/pulls/4/comments'},\n",
       "     'self': {'href': 'https://api.github.com/repos/SpirentOrion/luddite.v2/pulls/4'},\n",
       "     'statuses': {'href': 'https://api.github.com/repos/SpirentOrion/luddite.v2/statuses/6a1ef94d98dd650651c8261c36d34390c131ecc4'}},\n",
       "    'additions': 52,\n",
       "    'assignee': None,\n",
       "    'assignees': [],\n",
       "    'author_association': 'OWNER',\n",
       "    'base': {'label': 'SpirentOrion:master',\n",
       "     'ref': 'master',\n",
       "     'repo': {'archive_url': 'https://api.github.com/repos/SpirentOrion/luddite.v2/{archive_format}{/ref}',\n",
       "      'archived': False,\n",
       "      'assignees_url': 'https://api.github.com/repos/SpirentOrion/luddite.v2/assignees{/user}',\n",
       "      'blobs_url': 'https://api.github.com/repos/SpirentOrion/luddite.v2/git/blobs{/sha}',\n",
       "      'branches_url': 'https://api.github.com/repos/SpirentOrion/luddite.v2/branches{/branch}',\n",
       "      'clone_url': 'https://github.com/SpirentOrion/luddite.v2.git',\n",
       "      'collaborators_url': 'https://api.github.com/repos/SpirentOrion/luddite.v2/collaborators{/collaborator}',\n",
       "      'comments_url': 'https://api.github.com/repos/SpirentOrion/luddite.v2/comments{/number}',\n",
       "      'commits_url': 'https://api.github.com/repos/SpirentOrion/luddite.v2/commits{/sha}',\n",
       "      'compare_url': 'https://api.github.com/repos/SpirentOrion/luddite.v2/compare/{base}...{head}',\n",
       "      'contents_url': 'https://api.github.com/repos/SpirentOrion/luddite.v2/contents/{+path}',\n",
       "      'contributors_url': 'https://api.github.com/repos/SpirentOrion/luddite.v2/contributors',\n",
       "      'created_at': '2018-02-12T22:00:11Z',\n",
       "      'default_branch': 'master',\n",
       "      'deployments_url': 'https://api.github.com/repos/SpirentOrion/luddite.v2/deployments',\n",
       "      'description': 'A golang package that provides a micro-framework for RESTful web services',\n",
       "      'downloads_url': 'https://api.github.com/repos/SpirentOrion/luddite.v2/downloads',\n",
       "      'events_url': 'https://api.github.com/repos/SpirentOrion/luddite.v2/events',\n",
       "      'fork': False,\n",
       "      'forks': 0,\n",
       "      'forks_count': 0,\n",
       "      'forks_url': 'https://api.github.com/repos/SpirentOrion/luddite.v2/forks',\n",
       "      'full_name': 'SpirentOrion/luddite.v2',\n",
       "      'git_commits_url': 'https://api.github.com/repos/SpirentOrion/luddite.v2/git/commits{/sha}',\n",
       "      'git_refs_url': 'https://api.github.com/repos/SpirentOrion/luddite.v2/git/refs{/sha}',\n",
       "      'git_tags_url': 'https://api.github.com/repos/SpirentOrion/luddite.v2/git/tags{/sha}',\n",
       "      'git_url': 'git://github.com/SpirentOrion/luddite.v2.git',\n",
       "      'has_downloads': True,\n",
       "      'has_issues': True,\n",
       "      'has_pages': False,\n",
       "      'has_projects': True,\n",
       "      'has_wiki': True,\n",
       "      'homepage': None,\n",
       "      'hooks_url': 'https://api.github.com/repos/SpirentOrion/luddite.v2/hooks',\n",
       "      'html_url': 'https://github.com/SpirentOrion/luddite.v2',\n",
       "      'id': 121307451,\n",
       "      'issue_comment_url': 'https://api.github.com/repos/SpirentOrion/luddite.v2/issues/comments{/number}',\n",
       "      'issue_events_url': 'https://api.github.com/repos/SpirentOrion/luddite.v2/issues/events{/number}',\n",
       "      'issues_url': 'https://api.github.com/repos/SpirentOrion/luddite.v2/issues{/number}',\n",
       "      'keys_url': 'https://api.github.com/repos/SpirentOrion/luddite.v2/keys{/key_id}',\n",
       "      'labels_url': 'https://api.github.com/repos/SpirentOrion/luddite.v2/labels{/name}',\n",
       "      'language': 'Go',\n",
       "      'languages_url': 'https://api.github.com/repos/SpirentOrion/luddite.v2/languages',\n",
       "      'license': {'key': 'mit',\n",
       "       'name': 'MIT License',\n",
       "       'spdx_id': 'MIT',\n",
       "       'url': 'https://api.github.com/licenses/mit'},\n",
       "      'merges_url': 'https://api.github.com/repos/SpirentOrion/luddite.v2/merges',\n",
       "      'milestones_url': 'https://api.github.com/repos/SpirentOrion/luddite.v2/milestones{/number}',\n",
       "      'mirror_url': None,\n",
       "      'name': 'luddite.v2',\n",
       "      'notifications_url': 'https://api.github.com/repos/SpirentOrion/luddite.v2/notifications{?since,all,participating}',\n",
       "      'open_issues': 1,\n",
       "      'open_issues_count': 1,\n",
       "      'owner': {'avatar_url': 'https://avatars0.githubusercontent.com/u/9370365?v=4',\n",
       "       'events_url': 'https://api.github.com/users/SpirentOrion/events{/privacy}',\n",
       "       'followers_url': 'https://api.github.com/users/SpirentOrion/followers',\n",
       "       'following_url': 'https://api.github.com/users/SpirentOrion/following{/other_user}',\n",
       "       'gists_url': 'https://api.github.com/users/SpirentOrion/gists{/gist_id}',\n",
       "       'gravatar_id': '',\n",
       "       'html_url': 'https://github.com/SpirentOrion',\n",
       "       'id': 9370365,\n",
       "       'login': 'SpirentOrion',\n",
       "       'organizations_url': 'https://api.github.com/users/SpirentOrion/orgs',\n",
       "       'received_events_url': 'https://api.github.com/users/SpirentOrion/received_events',\n",
       "       'repos_url': 'https://api.github.com/users/SpirentOrion/repos',\n",
       "       'site_admin': False,\n",
       "       'starred_url': 'https://api.github.com/users/SpirentOrion/starred{/owner}{/repo}',\n",
       "       'subscriptions_url': 'https://api.github.com/users/SpirentOrion/subscriptions',\n",
       "       'type': 'Organization',\n",
       "       'url': 'https://api.github.com/users/SpirentOrion'},\n",
       "      'private': False,\n",
       "      'pulls_url': 'https://api.github.com/repos/SpirentOrion/luddite.v2/pulls{/number}',\n",
       "      'pushed_at': '2018-03-30T00:29:13Z',\n",
       "      'releases_url': 'https://api.github.com/repos/SpirentOrion/luddite.v2/releases{/id}',\n",
       "      'size': 1117,\n",
       "      'ssh_url': 'git@github.com:SpirentOrion/luddite.v2.git',\n",
       "      'stargazers_count': 0,\n",
       "      'stargazers_url': 'https://api.github.com/repos/SpirentOrion/luddite.v2/stargazers',\n",
       "      'statuses_url': 'https://api.github.com/repos/SpirentOrion/luddite.v2/statuses/{sha}',\n",
       "      'subscribers_url': 'https://api.github.com/repos/SpirentOrion/luddite.v2/subscribers',\n",
       "      'subscription_url': 'https://api.github.com/repos/SpirentOrion/luddite.v2/subscription',\n",
       "      'svn_url': 'https://github.com/SpirentOrion/luddite.v2',\n",
       "      'tags_url': 'https://api.github.com/repos/SpirentOrion/luddite.v2/tags',\n",
       "      'teams_url': 'https://api.github.com/repos/SpirentOrion/luddite.v2/teams',\n",
       "      'trees_url': 'https://api.github.com/repos/SpirentOrion/luddite.v2/git/trees{/sha}',\n",
       "      'updated_at': '2018-03-15T16:37:27Z',\n",
       "      'url': 'https://api.github.com/repos/SpirentOrion/luddite.v2',\n",
       "      'watchers': 0,\n",
       "      'watchers_count': 0},\n",
       "     'sha': '1e27b1aabc49e6cc3a37c9da8ab923cb11e66229',\n",
       "     'user': {'avatar_url': 'https://avatars0.githubusercontent.com/u/9370365?v=4',\n",
       "      'events_url': 'https://api.github.com/users/SpirentOrion/events{/privacy}',\n",
       "      'followers_url': 'https://api.github.com/users/SpirentOrion/followers',\n",
       "      'following_url': 'https://api.github.com/users/SpirentOrion/following{/other_user}',\n",
       "      'gists_url': 'https://api.github.com/users/SpirentOrion/gists{/gist_id}',\n",
       "      'gravatar_id': '',\n",
       "      'html_url': 'https://github.com/SpirentOrion',\n",
       "      'id': 9370365,\n",
       "      'login': 'SpirentOrion',\n",
       "      'organizations_url': 'https://api.github.com/users/SpirentOrion/orgs',\n",
       "      'received_events_url': 'https://api.github.com/users/SpirentOrion/received_events',\n",
       "      'repos_url': 'https://api.github.com/users/SpirentOrion/repos',\n",
       "      'site_admin': False,\n",
       "      'starred_url': 'https://api.github.com/users/SpirentOrion/starred{/owner}{/repo}',\n",
       "      'subscriptions_url': 'https://api.github.com/users/SpirentOrion/subscriptions',\n",
       "      'type': 'Organization',\n",
       "      'url': 'https://api.github.com/users/SpirentOrion'}},\n",
       "    'body': \"* Luddite has a design flaw where the list of accepted response formats is\\r\\n  essentially fixed. This means that if/when resource handlers want to do\\r\\n  something special like handling `Accept: text/csv`, then cannot do so.\\r\\n\\r\\n* As described in the comment block, this change gives handlers a way to perform\\r\\n  this special handling. If content negotation fails and the handler doesn't\\r\\n  override, then the response will still contain a 406 via a fallback code path.\",\n",
       "    'changed_files': 3,\n",
       "    'closed_at': None,\n",
       "    'comments': 0,\n",
       "    'comments_url': 'https://api.github.com/repos/SpirentOrion/luddite.v2/issues/4/comments',\n",
       "    'commits': 1,\n",
       "    'commits_url': 'https://api.github.com/repos/SpirentOrion/luddite.v2/pulls/4/commits',\n",
       "    'created_at': '2018-03-30T00:29:34Z',\n",
       "    'deletions': 8,\n",
       "    'diff_url': 'https://github.com/SpirentOrion/luddite.v2/pull/4.diff',\n",
       "    'head': {'label': 'SpirentOrion:content-negging',\n",
       "     'ref': 'content-negging',\n",
       "     'repo': {'archive_url': 'https://api.github.com/repos/SpirentOrion/luddite.v2/{archive_format}{/ref}',\n",
       "      'archived': False,\n",
       "      'assignees_url': 'https://api.github.com/repos/SpirentOrion/luddite.v2/assignees{/user}',\n",
       "      'blobs_url': 'https://api.github.com/repos/SpirentOrion/luddite.v2/git/blobs{/sha}',\n",
       "      'branches_url': 'https://api.github.com/repos/SpirentOrion/luddite.v2/branches{/branch}',\n",
       "      'clone_url': 'https://github.com/SpirentOrion/luddite.v2.git',\n",
       "      'collaborators_url': 'https://api.github.com/repos/SpirentOrion/luddite.v2/collaborators{/collaborator}',\n",
       "      'comments_url': 'https://api.github.com/repos/SpirentOrion/luddite.v2/comments{/number}',\n",
       "      'commits_url': 'https://api.github.com/repos/SpirentOrion/luddite.v2/commits{/sha}',\n",
       "      'compare_url': 'https://api.github.com/repos/SpirentOrion/luddite.v2/compare/{base}...{head}',\n",
       "      'contents_url': 'https://api.github.com/repos/SpirentOrion/luddite.v2/contents/{+path}',\n",
       "      'contributors_url': 'https://api.github.com/repos/SpirentOrion/luddite.v2/contributors',\n",
       "      'created_at': '2018-02-12T22:00:11Z',\n",
       "      'default_branch': 'master',\n",
       "      'deployments_url': 'https://api.github.com/repos/SpirentOrion/luddite.v2/deployments',\n",
       "      'description': 'A golang package that provides a micro-framework for RESTful web services',\n",
       "      'downloads_url': 'https://api.github.com/repos/SpirentOrion/luddite.v2/downloads',\n",
       "      'events_url': 'https://api.github.com/repos/SpirentOrion/luddite.v2/events',\n",
       "      'fork': False,\n",
       "      'forks': 0,\n",
       "      'forks_count': 0,\n",
       "      'forks_url': 'https://api.github.com/repos/SpirentOrion/luddite.v2/forks',\n",
       "      'full_name': 'SpirentOrion/luddite.v2',\n",
       "      'git_commits_url': 'https://api.github.com/repos/SpirentOrion/luddite.v2/git/commits{/sha}',\n",
       "      'git_refs_url': 'https://api.github.com/repos/SpirentOrion/luddite.v2/git/refs{/sha}',\n",
       "      'git_tags_url': 'https://api.github.com/repos/SpirentOrion/luddite.v2/git/tags{/sha}',\n",
       "      'git_url': 'git://github.com/SpirentOrion/luddite.v2.git',\n",
       "      'has_downloads': True,\n",
       "      'has_issues': True,\n",
       "      'has_pages': False,\n",
       "      'has_projects': True,\n",
       "      'has_wiki': True,\n",
       "      'homepage': None,\n",
       "      'hooks_url': 'https://api.github.com/repos/SpirentOrion/luddite.v2/hooks',\n",
       "      'html_url': 'https://github.com/SpirentOrion/luddite.v2',\n",
       "      'id': 121307451,\n",
       "      'issue_comment_url': 'https://api.github.com/repos/SpirentOrion/luddite.v2/issues/comments{/number}',\n",
       "      'issue_events_url': 'https://api.github.com/repos/SpirentOrion/luddite.v2/issues/events{/number}',\n",
       "      'issues_url': 'https://api.github.com/repos/SpirentOrion/luddite.v2/issues{/number}',\n",
       "      'keys_url': 'https://api.github.com/repos/SpirentOrion/luddite.v2/keys{/key_id}',\n",
       "      'labels_url': 'https://api.github.com/repos/SpirentOrion/luddite.v2/labels{/name}',\n",
       "      'language': 'Go',\n",
       "      'languages_url': 'https://api.github.com/repos/SpirentOrion/luddite.v2/languages',\n",
       "      'license': {'key': 'mit',\n",
       "       'name': 'MIT License',\n",
       "       'spdx_id': 'MIT',\n",
       "       'url': 'https://api.github.com/licenses/mit'},\n",
       "      'merges_url': 'https://api.github.com/repos/SpirentOrion/luddite.v2/merges',\n",
       "      'milestones_url': 'https://api.github.com/repos/SpirentOrion/luddite.v2/milestones{/number}',\n",
       "      'mirror_url': None,\n",
       "      'name': 'luddite.v2',\n",
       "      'notifications_url': 'https://api.github.com/repos/SpirentOrion/luddite.v2/notifications{?since,all,participating}',\n",
       "      'open_issues': 1,\n",
       "      'open_issues_count': 1,\n",
       "      'owner': {'avatar_url': 'https://avatars0.githubusercontent.com/u/9370365?v=4',\n",
       "       'events_url': 'https://api.github.com/users/SpirentOrion/events{/privacy}',\n",
       "       'followers_url': 'https://api.github.com/users/SpirentOrion/followers',\n",
       "       'following_url': 'https://api.github.com/users/SpirentOrion/following{/other_user}',\n",
       "       'gists_url': 'https://api.github.com/users/SpirentOrion/gists{/gist_id}',\n",
       "       'gravatar_id': '',\n",
       "       'html_url': 'https://github.com/SpirentOrion',\n",
       "       'id': 9370365,\n",
       "       'login': 'SpirentOrion',\n",
       "       'organizations_url': 'https://api.github.com/users/SpirentOrion/orgs',\n",
       "       'received_events_url': 'https://api.github.com/users/SpirentOrion/received_events',\n",
       "       'repos_url': 'https://api.github.com/users/SpirentOrion/repos',\n",
       "       'site_admin': False,\n",
       "       'starred_url': 'https://api.github.com/users/SpirentOrion/starred{/owner}{/repo}',\n",
       "       'subscriptions_url': 'https://api.github.com/users/SpirentOrion/subscriptions',\n",
       "       'type': 'Organization',\n",
       "       'url': 'https://api.github.com/users/SpirentOrion'},\n",
       "      'private': False,\n",
       "      'pulls_url': 'https://api.github.com/repos/SpirentOrion/luddite.v2/pulls{/number}',\n",
       "      'pushed_at': '2018-03-30T00:29:13Z',\n",
       "      'releases_url': 'https://api.github.com/repos/SpirentOrion/luddite.v2/releases{/id}',\n",
       "      'size': 1117,\n",
       "      'ssh_url': 'git@github.com:SpirentOrion/luddite.v2.git',\n",
       "      'stargazers_count': 0,\n",
       "      'stargazers_url': 'https://api.github.com/repos/SpirentOrion/luddite.v2/stargazers',\n",
       "      'statuses_url': 'https://api.github.com/repos/SpirentOrion/luddite.v2/statuses/{sha}',\n",
       "      'subscribers_url': 'https://api.github.com/repos/SpirentOrion/luddite.v2/subscribers',\n",
       "      'subscription_url': 'https://api.github.com/repos/SpirentOrion/luddite.v2/subscription',\n",
       "      'svn_url': 'https://github.com/SpirentOrion/luddite.v2',\n",
       "      'tags_url': 'https://api.github.com/repos/SpirentOrion/luddite.v2/tags',\n",
       "      'teams_url': 'https://api.github.com/repos/SpirentOrion/luddite.v2/teams',\n",
       "      'trees_url': 'https://api.github.com/repos/SpirentOrion/luddite.v2/git/trees{/sha}',\n",
       "      'updated_at': '2018-03-15T16:37:27Z',\n",
       "      'url': 'https://api.github.com/repos/SpirentOrion/luddite.v2',\n",
       "      'watchers': 0,\n",
       "      'watchers_count': 0},\n",
       "     'sha': '6a1ef94d98dd650651c8261c36d34390c131ecc4',\n",
       "     'user': {'avatar_url': 'https://avatars0.githubusercontent.com/u/9370365?v=4',\n",
       "      'events_url': 'https://api.github.com/users/SpirentOrion/events{/privacy}',\n",
       "      'followers_url': 'https://api.github.com/users/SpirentOrion/followers',\n",
       "      'following_url': 'https://api.github.com/users/SpirentOrion/following{/other_user}',\n",
       "      'gists_url': 'https://api.github.com/users/SpirentOrion/gists{/gist_id}',\n",
       "      'gravatar_id': '',\n",
       "      'html_url': 'https://github.com/SpirentOrion',\n",
       "      'id': 9370365,\n",
       "      'login': 'SpirentOrion',\n",
       "      'organizations_url': 'https://api.github.com/users/SpirentOrion/orgs',\n",
       "      'received_events_url': 'https://api.github.com/users/SpirentOrion/received_events',\n",
       "      'repos_url': 'https://api.github.com/users/SpirentOrion/repos',\n",
       "      'site_admin': False,\n",
       "      'starred_url': 'https://api.github.com/users/SpirentOrion/starred{/owner}{/repo}',\n",
       "      'subscriptions_url': 'https://api.github.com/users/SpirentOrion/subscriptions',\n",
       "      'type': 'Organization',\n",
       "      'url': 'https://api.github.com/users/SpirentOrion'}},\n",
       "    'html_url': 'https://github.com/SpirentOrion/luddite.v2/pull/4',\n",
       "    'id': 178471827,\n",
       "    'issue_url': 'https://api.github.com/repos/SpirentOrion/luddite.v2/issues/4',\n",
       "    'labels': [],\n",
       "    'locked': False,\n",
       "    'maintainer_can_modify': False,\n",
       "    'merge_commit_sha': None,\n",
       "    'mergeable': None,\n",
       "    'mergeable_state': 'unknown',\n",
       "    'merged': False,\n",
       "    'merged_at': None,\n",
       "    'merged_by': None,\n",
       "    'milestone': None,\n",
       "    'number': 4,\n",
       "    'patch_url': 'https://github.com/SpirentOrion/luddite.v2/pull/4.patch',\n",
       "    'rebaseable': None,\n",
       "    'requested_reviewers': [],\n",
       "    'requested_teams': [],\n",
       "    'review_comment_url': 'https://api.github.com/repos/SpirentOrion/luddite.v2/pulls/comments{/number}',\n",
       "    'review_comments': 0,\n",
       "    'review_comments_url': 'https://api.github.com/repos/SpirentOrion/luddite.v2/pulls/4/comments',\n",
       "    'state': 'open',\n",
       "    'statuses_url': 'https://api.github.com/repos/SpirentOrion/luddite.v2/statuses/6a1ef94d98dd650651c8261c36d34390c131ecc4',\n",
       "    'title': \"Don't insist on content negotation\",\n",
       "    'updated_at': '2018-03-30T00:29:34Z',\n",
       "    'url': 'https://api.github.com/repos/SpirentOrion/luddite.v2/pulls/4',\n",
       "    'user': {'avatar_url': 'https://avatars3.githubusercontent.com/u/31771?v=4',\n",
       "     'events_url': 'https://api.github.com/users/djoyner/events{/privacy}',\n",
       "     'followers_url': 'https://api.github.com/users/djoyner/followers',\n",
       "     'following_url': 'https://api.github.com/users/djoyner/following{/other_user}',\n",
       "     'gists_url': 'https://api.github.com/users/djoyner/gists{/gist_id}',\n",
       "     'gravatar_id': '',\n",
       "     'html_url': 'https://github.com/djoyner',\n",
       "     'id': 31771,\n",
       "     'login': 'djoyner',\n",
       "     'organizations_url': 'https://api.github.com/users/djoyner/orgs',\n",
       "     'received_events_url': 'https://api.github.com/users/djoyner/received_events',\n",
       "     'repos_url': 'https://api.github.com/users/djoyner/repos',\n",
       "     'site_admin': False,\n",
       "     'starred_url': 'https://api.github.com/users/djoyner/starred{/owner}{/repo}',\n",
       "     'subscriptions_url': 'https://api.github.com/users/djoyner/subscriptions',\n",
       "     'type': 'User',\n",
       "     'url': 'https://api.github.com/users/djoyner'}}},\n",
       "  'public': True,\n",
       "  'repo': {'id': 121307451,\n",
       "   'name': 'SpirentOrion/luddite.v2',\n",
       "   'url': 'https://api.github.com/repos/SpirentOrion/luddite.v2'},\n",
       "  'type': 'PullRequestEvent'},\n",
       " {'actor': {'avatar_url': 'https://avatars.githubusercontent.com/u/1667316?',\n",
       "   'display_login': 'derekzhang79',\n",
       "   'gravatar_id': '',\n",
       "   'id': 1667316,\n",
       "   'login': 'derekzhang79',\n",
       "   'url': 'https://api.github.com/users/derekzhang79'},\n",
       "  'created_at': '2018-03-30T00:29:35Z',\n",
       "  'id': '7456917720',\n",
       "  'payload': {'forkee': {'archive_url': 'https://api.github.com/repos/derekzhang79/zuihou-admin-cloud/{archive_format}{/ref}',\n",
       "    'archived': False,\n",
       "    'assignees_url': 'https://api.github.com/repos/derekzhang79/zuihou-admin-cloud/assignees{/user}',\n",
       "    'blobs_url': 'https://api.github.com/repos/derekzhang79/zuihou-admin-cloud/git/blobs{/sha}',\n",
       "    'branches_url': 'https://api.github.com/repos/derekzhang79/zuihou-admin-cloud/branches{/branch}',\n",
       "    'clone_url': 'https://github.com/derekzhang79/zuihou-admin-cloud.git',\n",
       "    'collaborators_url': 'https://api.github.com/repos/derekzhang79/zuihou-admin-cloud/collaborators{/collaborator}',\n",
       "    'comments_url': 'https://api.github.com/repos/derekzhang79/zuihou-admin-cloud/comments{/number}',\n",
       "    'commits_url': 'https://api.github.com/repos/derekzhang79/zuihou-admin-cloud/commits{/sha}',\n",
       "    'compare_url': 'https://api.github.com/repos/derekzhang79/zuihou-admin-cloud/compare/{base}...{head}',\n",
       "    'contents_url': 'https://api.github.com/repos/derekzhang79/zuihou-admin-cloud/contents/{+path}',\n",
       "    'contributors_url': 'https://api.github.com/repos/derekzhang79/zuihou-admin-cloud/contributors',\n",
       "    'created_at': '2018-03-30T00:29:34Z',\n",
       "    'default_branch': 'master',\n",
       "    'deployments_url': 'https://api.github.com/repos/derekzhang79/zuihou-admin-cloud/deployments',\n",
       "    'description': '基于SpringCloud(Finchley.M2) + SpringBoot(2.0.0.M2) 的微服务 SaaS 开发平台，具有统一授权、认证后台管理系统，其中包含具备用户管理、资源权限管理、网关API、OpenAPI管理等多个模块，支持多业务系统并行开发，可以作为后端服务的开发脚手架。代码简洁，架构清晰，适合学习和直接项目中使用。核心技术采用Eureka、Fegin、Ribbon、Zuul、Hystrix、JWT Token、Mybatis、SpringBoot、Redis、等主要框架和中间件。',\n",
       "    'downloads_url': 'https://api.github.com/repos/derekzhang79/zuihou-admin-cloud/downloads',\n",
       "    'events_url': 'https://api.github.com/repos/derekzhang79/zuihou-admin-cloud/events',\n",
       "    'fork': True,\n",
       "    'forks': 0,\n",
       "    'forks_count': 0,\n",
       "    'forks_url': 'https://api.github.com/repos/derekzhang79/zuihou-admin-cloud/forks',\n",
       "    'full_name': 'derekzhang79/zuihou-admin-cloud',\n",
       "    'git_commits_url': 'https://api.github.com/repos/derekzhang79/zuihou-admin-cloud/git/commits{/sha}',\n",
       "    'git_refs_url': 'https://api.github.com/repos/derekzhang79/zuihou-admin-cloud/git/refs{/sha}',\n",
       "    'git_tags_url': 'https://api.github.com/repos/derekzhang79/zuihou-admin-cloud/git/tags{/sha}',\n",
       "    'git_url': 'git://github.com/derekzhang79/zuihou-admin-cloud.git',\n",
       "    'has_downloads': True,\n",
       "    'has_issues': False,\n",
       "    'has_pages': False,\n",
       "    'has_projects': True,\n",
       "    'has_wiki': True,\n",
       "    'homepage': 'https://gitee.com/zuihou111/zuihou-admin-cloud',\n",
       "    'hooks_url': 'https://api.github.com/repos/derekzhang79/zuihou-admin-cloud/hooks',\n",
       "    'html_url': 'https://github.com/derekzhang79/zuihou-admin-cloud',\n",
       "    'id': 127361255,\n",
       "    'issue_comment_url': 'https://api.github.com/repos/derekzhang79/zuihou-admin-cloud/issues/comments{/number}',\n",
       "    'issue_events_url': 'https://api.github.com/repos/derekzhang79/zuihou-admin-cloud/issues/events{/number}',\n",
       "    'issues_url': 'https://api.github.com/repos/derekzhang79/zuihou-admin-cloud/issues{/number}',\n",
       "    'keys_url': 'https://api.github.com/repos/derekzhang79/zuihou-admin-cloud/keys{/key_id}',\n",
       "    'labels_url': 'https://api.github.com/repos/derekzhang79/zuihou-admin-cloud/labels{/name}',\n",
       "    'language': None,\n",
       "    'languages_url': 'https://api.github.com/repos/derekzhang79/zuihou-admin-cloud/languages',\n",
       "    'license': None,\n",
       "    'merges_url': 'https://api.github.com/repos/derekzhang79/zuihou-admin-cloud/merges',\n",
       "    'milestones_url': 'https://api.github.com/repos/derekzhang79/zuihou-admin-cloud/milestones{/number}',\n",
       "    'mirror_url': None,\n",
       "    'name': 'zuihou-admin-cloud',\n",
       "    'notifications_url': 'https://api.github.com/repos/derekzhang79/zuihou-admin-cloud/notifications{?since,all,participating}',\n",
       "    'open_issues': 0,\n",
       "    'open_issues_count': 0,\n",
       "    'owner': {'avatar_url': 'https://avatars3.githubusercontent.com/u/1667316?v=4',\n",
       "     'events_url': 'https://api.github.com/users/derekzhang79/events{/privacy}',\n",
       "     'followers_url': 'https://api.github.com/users/derekzhang79/followers',\n",
       "     'following_url': 'https://api.github.com/users/derekzhang79/following{/other_user}',\n",
       "     'gists_url': 'https://api.github.com/users/derekzhang79/gists{/gist_id}',\n",
       "     'gravatar_id': '',\n",
       "     'html_url': 'https://github.com/derekzhang79',\n",
       "     'id': 1667316,\n",
       "     'login': 'derekzhang79',\n",
       "     'organizations_url': 'https://api.github.com/users/derekzhang79/orgs',\n",
       "     'received_events_url': 'https://api.github.com/users/derekzhang79/received_events',\n",
       "     'repos_url': 'https://api.github.com/users/derekzhang79/repos',\n",
       "     'site_admin': False,\n",
       "     'starred_url': 'https://api.github.com/users/derekzhang79/starred{/owner}{/repo}',\n",
       "     'subscriptions_url': 'https://api.github.com/users/derekzhang79/subscriptions',\n",
       "     'type': 'User',\n",
       "     'url': 'https://api.github.com/users/derekzhang79'},\n",
       "    'private': False,\n",
       "    'public': True,\n",
       "    'pulls_url': 'https://api.github.com/repos/derekzhang79/zuihou-admin-cloud/pulls{/number}',\n",
       "    'pushed_at': '2018-03-09T13:49:08Z',\n",
       "    'releases_url': 'https://api.github.com/repos/derekzhang79/zuihou-admin-cloud/releases{/id}',\n",
       "    'size': 2187,\n",
       "    'ssh_url': 'git@github.com:derekzhang79/zuihou-admin-cloud.git',\n",
       "    'stargazers_count': 0,\n",
       "    'stargazers_url': 'https://api.github.com/repos/derekzhang79/zuihou-admin-cloud/stargazers',\n",
       "    'statuses_url': 'https://api.github.com/repos/derekzhang79/zuihou-admin-cloud/statuses/{sha}',\n",
       "    'subscribers_url': 'https://api.github.com/repos/derekzhang79/zuihou-admin-cloud/subscribers',\n",
       "    'subscription_url': 'https://api.github.com/repos/derekzhang79/zuihou-admin-cloud/subscription',\n",
       "    'svn_url': 'https://github.com/derekzhang79/zuihou-admin-cloud',\n",
       "    'tags_url': 'https://api.github.com/repos/derekzhang79/zuihou-admin-cloud/tags',\n",
       "    'teams_url': 'https://api.github.com/repos/derekzhang79/zuihou-admin-cloud/teams',\n",
       "    'trees_url': 'https://api.github.com/repos/derekzhang79/zuihou-admin-cloud/git/trees{/sha}',\n",
       "    'updated_at': '2018-03-27T12:07:04Z',\n",
       "    'url': 'https://api.github.com/repos/derekzhang79/zuihou-admin-cloud',\n",
       "    'watchers': 0,\n",
       "    'watchers_count': 0}},\n",
       "  'public': True,\n",
       "  'repo': {'id': 117774290,\n",
       "   'name': 'zuihou/zuihou-admin-cloud',\n",
       "   'url': 'https://api.github.com/repos/zuihou/zuihou-admin-cloud'},\n",
       "  'type': 'ForkEvent'},\n",
       " {'actor': {'avatar_url': 'https://avatars.githubusercontent.com/u/37917184?',\n",
       "   'display_login': '1x0',\n",
       "   'gravatar_id': '',\n",
       "   'id': 37917184,\n",
       "   'login': '1x0',\n",
       "   'url': 'https://api.github.com/users/1x0'},\n",
       "  'created_at': '2018-03-30T00:29:35Z',\n",
       "  'id': '7456917719',\n",
       "  'org': {'avatar_url': 'https://avatars.githubusercontent.com/u/202732?',\n",
       "   'gravatar_id': '',\n",
       "   'id': 202732,\n",
       "   'login': 'KnpLabs',\n",
       "   'url': 'https://api.github.com/orgs/KnpLabs'},\n",
       "  'payload': {'action': 'started'},\n",
       "  'public': True,\n",
       "  'repo': {'id': 3948501,\n",
       "   'name': 'KnpLabs/php-github-api',\n",
       "   'url': 'https://api.github.com/repos/KnpLabs/php-github-api'},\n",
       "  'type': 'WatchEvent'},\n",
       " {'actor': {'avatar_url': 'https://avatars.githubusercontent.com/u/26902010?',\n",
       "   'display_login': 'HungNguyen007',\n",
       "   'gravatar_id': '',\n",
       "   'id': 26902010,\n",
       "   'login': 'HungNguyen007',\n",
       "   'url': 'https://api.github.com/users/HungNguyen007'},\n",
       "  'created_at': '2018-03-30T00:29:35Z',\n",
       "  'id': '7456917718',\n",
       "  'payload': {'before': '9e4382bf1f5a73fee8bce3228e0f93b919c925f5',\n",
       "   'commits': [{'author': {'email': 'goon2006@gmail.com',\n",
       "      'name': 'HungNguyen007'},\n",
       "     'distinct': True,\n",
       "     'message': 'Add randombytes module to dependencies',\n",
       "     'sha': 'd18494788b81abb01a2c084b2e53cc4d0efaa0e1',\n",
       "     'url': 'https://api.github.com/repos/HungNguyen007/trustbook/commits/d18494788b81abb01a2c084b2e53cc4d0efaa0e1'}],\n",
       "   'distinct_size': 1,\n",
       "   'head': 'd18494788b81abb01a2c084b2e53cc4d0efaa0e1',\n",
       "   'push_id': 2444648720,\n",
       "   'ref': 'refs/heads/master',\n",
       "   'size': 1},\n",
       "  'public': True,\n",
       "  'repo': {'id': 106906199,\n",
       "   'name': 'HungNguyen007/trustbook',\n",
       "   'url': 'https://api.github.com/repos/HungNguyen007/trustbook'},\n",
       "  'type': 'PushEvent'},\n",
       " {'actor': {'avatar_url': 'https://avatars.githubusercontent.com/u/8517910?',\n",
       "   'display_login': 'LombiqBot',\n",
       "   'gravatar_id': '',\n",
       "   'id': 8517910,\n",
       "   'login': 'LombiqBot',\n",
       "   'url': 'https://api.github.com/users/LombiqBot'},\n",
       "  'created_at': '2018-03-30T00:29:34Z',\n",
       "  'id': '7456917715',\n",
       "  'org': {'avatar_url': 'https://avatars.githubusercontent.com/u/8158177?',\n",
       "   'gravatar_id': '',\n",
       "   'id': 8158177,\n",
       "   'login': 'Lombiq',\n",
       "   'url': 'https://api.github.com/orgs/Lombiq'},\n",
       "  'payload': {'before': 'b5a68c3810b9f6ab68693fd507a92dabf543431f',\n",
       "   'commits': [],\n",
       "   'distinct_size': 0,\n",
       "   'head': 'b5a68c3810b9f6ab68693fd507a92dabf543431f',\n",
       "   'push_id': 2444648718,\n",
       "   'ref': 'refs/heads/orchard-upgrade-1.11',\n",
       "   'size': 0},\n",
       "  'public': True,\n",
       "  'repo': {'id': 46597790,\n",
       "   'name': 'Lombiq/Helpful-Extensions',\n",
       "   'url': 'https://api.github.com/repos/Lombiq/Helpful-Extensions'},\n",
       "  'type': 'PushEvent'},\n",
       " {'actor': {'avatar_url': 'https://avatars.githubusercontent.com/u/866980?',\n",
       "   'display_login': 'rmansoor',\n",
       "   'gravatar_id': '',\n",
       "   'id': 866980,\n",
       "   'login': 'rmansoor',\n",
       "   'url': 'https://api.github.com/users/rmansoor'},\n",
       "  'created_at': '2018-03-30T00:29:34Z',\n",
       "  'id': '7456917712',\n",
       "  'org': {'avatar_url': 'https://avatars.githubusercontent.com/u/1022787?',\n",
       "   'gravatar_id': '',\n",
       "   'id': 1022787,\n",
       "   'login': 'pentaho',\n",
       "   'url': 'https://api.github.com/orgs/pentaho'},\n",
       "  'payload': {'before': 'aedd555a7a48d8a3af2a81f1aeb6d3e5a4ddc173',\n",
       "   'commits': [{'author': {'email': 'tkafalas@pentaho.com',\n",
       "      'name': 'Tim Kafalas tkafalas'},\n",
       "     'distinct': True,\n",
       "     'message': '[BACKLOG-21321] Avro Streaming enhancments ( pass fields from prior step, handle multiple rows containing avro content, add seperator bar and fix Mac UI )',\n",
       "     'sha': '063205affa3dd5f7fc99965d76d63246f23843b0',\n",
       "     'url': 'https://api.github.com/repos/pentaho/pentaho-kettle/commits/063205affa3dd5f7fc99965d76d63246f23843b0'},\n",
       "    {'author': {'email': 'rmansoor@pentaho.com', 'name': 'Ramaiz Mansoor'},\n",
       "     'distinct': True,\n",
       "     'message': 'Merge pull request #5166 from tkafalas/feature\\n\\n[BACKLOG-21321] Avro Streaming enhancments ( pass fields from prior s…',\n",
       "     'sha': '516a991a8d7a74b89d03102105fb15917f1f90cf',\n",
       "     'url': 'https://api.github.com/repos/pentaho/pentaho-kettle/commits/516a991a8d7a74b89d03102105fb15917f1f90cf'}],\n",
       "   'distinct_size': 2,\n",
       "   'head': '516a991a8d7a74b89d03102105fb15917f1f90cf',\n",
       "   'push_id': 2444648716,\n",
       "   'ref': 'refs/heads/master',\n",
       "   'size': 2},\n",
       "  'public': True,\n",
       "  'repo': {'id': 13421878,\n",
       "   'name': 'pentaho/pentaho-kettle',\n",
       "   'url': 'https://api.github.com/repos/pentaho/pentaho-kettle'},\n",
       "  'type': 'PushEvent'},\n",
       " {'actor': {'avatar_url': 'https://avatars.githubusercontent.com/u/8517910?',\n",
       "   'display_login': 'LombiqBot',\n",
       "   'gravatar_id': '',\n",
       "   'id': 8517910,\n",
       "   'login': 'LombiqBot',\n",
       "   'url': 'https://api.github.com/users/LombiqBot'},\n",
       "  'created_at': '2018-03-30T00:29:34Z',\n",
       "  'id': '7456917709',\n",
       "  'org': {'avatar_url': 'https://avatars.githubusercontent.com/u/8158177?',\n",
       "   'gravatar_id': '',\n",
       "   'id': 8158177,\n",
       "   'login': 'Lombiq',\n",
       "   'url': 'https://api.github.com/orgs/Lombiq'},\n",
       "  'payload': {'before': '5b4f24cc5f5e609a22c2eac64caaebbaeecce3a8',\n",
       "   'commits': [],\n",
       "   'distinct_size': 0,\n",
       "   'head': '5b4f24cc5f5e609a22c2eac64caaebbaeecce3a8',\n",
       "   'push_id': 2444648715,\n",
       "   'ref': 'refs/heads/1.7',\n",
       "   'size': 0},\n",
       "  'public': True,\n",
       "  'repo': {'id': 46593003,\n",
       "   'name': 'Lombiq/Associativy-Extensions',\n",
       "   'url': 'https://api.github.com/repos/Lombiq/Associativy-Extensions'},\n",
       "  'type': 'PushEvent'},\n",
       " {'actor': {'avatar_url': 'https://avatars.githubusercontent.com/u/8563453?',\n",
       "   'display_login': 'mattfel1',\n",
       "   'gravatar_id': '',\n",
       "   'id': 8563453,\n",
       "   'login': 'mattfel1',\n",
       "   'url': 'https://api.github.com/users/mattfel1'},\n",
       "  'created_at': '2018-03-30T00:29:34Z',\n",
       "  'id': '7456917708',\n",
       "  'payload': {'before': '8c4044b63124b600f8d7194d3b9a64baeec1bd9f',\n",
       "   'commits': [{'author': {'email': 'mattfel@stanford.edu',\n",
       "      'name': 'Matthew Feldman'},\n",
       "     'distinct': True,\n",
       "     'message': 'upd8',\n",
       "     'sha': '9e3a1ddbee512970cc42bb51f2f7fd9fc0eb2f40',\n",
       "     'url': 'https://api.github.com/repos/mattfel1/Window/commits/9e3a1ddbee512970cc42bb51f2f7fd9fc0eb2f40'}],\n",
       "   'distinct_size': 1,\n",
       "   'head': '9e3a1ddbee512970cc42bb51f2f7fd9fc0eb2f40',\n",
       "   'push_id': 2444648714,\n",
       "   'ref': 'refs/heads/master',\n",
       "   'size': 1},\n",
       "  'public': True,\n",
       "  'repo': {'id': 97888700,\n",
       "   'name': 'mattfel1/Window',\n",
       "   'url': 'https://api.github.com/repos/mattfel1/Window'},\n",
       "  'type': 'PushEvent'},\n",
       " {'actor': {'avatar_url': 'https://avatars.githubusercontent.com/u/37917184?',\n",
       "   'display_login': '1x0',\n",
       "   'gravatar_id': '',\n",
       "   'id': 37917184,\n",
       "   'login': '1x0',\n",
       "   'url': 'https://api.github.com/users/1x0'},\n",
       "  'created_at': '2018-03-30T00:29:34Z',\n",
       "  'id': '7456917705',\n",
       "  'org': {'avatar_url': 'https://avatars.githubusercontent.com/u/14214240?',\n",
       "   'gravatar_id': '',\n",
       "   'id': 14214240,\n",
       "   'login': 'infernojs',\n",
       "   'url': 'https://api.github.com/orgs/infernojs'},\n",
       "  'payload': {'action': 'started'},\n",
       "  'public': True,\n",
       "  'repo': {'id': 30161665,\n",
       "   'name': 'infernojs/inferno',\n",
       "   'url': 'https://api.github.com/repos/infernojs/inferno'},\n",
       "  'type': 'WatchEvent'},\n",
       " {'actor': {'avatar_url': 'https://avatars.githubusercontent.com/u/1128403?',\n",
       "   'display_login': 'eternalharvest',\n",
       "   'gravatar_id': '',\n",
       "   'id': 1128403,\n",
       "   'login': 'eternalharvest',\n",
       "   'url': 'https://api.github.com/users/eternalharvest'},\n",
       "  'created_at': '2018-03-30T00:29:34Z',\n",
       "  'id': '7456917699',\n",
       "  'org': {'avatar_url': 'https://avatars.githubusercontent.com/u/34930108?',\n",
       "   'gravatar_id': '',\n",
       "   'id': 34930108,\n",
       "   'login': 'qrtl',\n",
       "   'url': 'https://api.github.com/orgs/qrtl'},\n",
       "  'payload': {'action': 'started'},\n",
       "  'public': True,\n",
       "  'repo': {'id': 49263941,\n",
       "   'name': 'qrtl/qrtl-addons',\n",
       "   'url': 'https://api.github.com/repos/qrtl/qrtl-addons'},\n",
       "  'type': 'WatchEvent'},\n",
       " {'actor': {'avatar_url': 'https://avatars.githubusercontent.com/u/32576714?',\n",
       "   'display_login': 'webbydon29',\n",
       "   'gravatar_id': '',\n",
       "   'id': 32576714,\n",
       "   'login': 'webbydon29',\n",
       "   'url': 'https://api.github.com/users/webbydon29'},\n",
       "  'created_at': '2018-03-30T00:29:34Z',\n",
       "  'id': '7456917697',\n",
       "  'payload': {'before': '85bb94f8b51317bbc6e979acaaddb9f5b5d779ed',\n",
       "   'commits': [{'author': {'email': 'amazingmardon@gmail.com',\n",
       "      'name': 'Don aldrich Tamayo'},\n",
       "     'distinct': True,\n",
       "     'message': 'more work',\n",
       "     'sha': '88c093e1e89af19b4a8bf9e22cd7997e57e00de1',\n",
       "     'url': 'https://api.github.com/repos/webbydon29/Capstone_koolReviews/commits/88c093e1e89af19b4a8bf9e22cd7997e57e00de1'}],\n",
       "   'distinct_size': 1,\n",
       "   'head': '88c093e1e89af19b4a8bf9e22cd7997e57e00de1',\n",
       "   'push_id': 2444648712,\n",
       "   'ref': 'refs/heads/master',\n",
       "   'size': 1},\n",
       "  'public': True,\n",
       "  'repo': {'id': 126530765,\n",
       "   'name': 'webbydon29/Capstone_koolReviews',\n",
       "   'url': 'https://api.github.com/repos/webbydon29/Capstone_koolReviews'},\n",
       "  'type': 'PushEvent'},\n",
       " {'actor': {'avatar_url': 'https://avatars.githubusercontent.com/u/37917184?',\n",
       "   'display_login': '1x0',\n",
       "   'gravatar_id': '',\n",
       "   'id': 37917184,\n",
       "   'login': '1x0',\n",
       "   'url': 'https://api.github.com/users/1x0'},\n",
       "  'created_at': '2018-03-30T00:29:34Z',\n",
       "  'id': '7456917690',\n",
       "  'payload': {'action': 'started'},\n",
       "  'public': True,\n",
       "  'repo': {'id': 87449035,\n",
       "   'name': 'Zurga/modelscraper',\n",
       "   'url': 'https://api.github.com/repos/Zurga/modelscraper'},\n",
       "  'type': 'WatchEvent'},\n",
       " {'actor': {'avatar_url': 'https://avatars.githubusercontent.com/u/37917184?',\n",
       "   'display_login': '1x0',\n",
       "   'gravatar_id': '',\n",
       "   'id': 37917184,\n",
       "   'login': '1x0',\n",
       "   'url': 'https://api.github.com/users/1x0'},\n",
       "  'created_at': '2018-03-30T00:29:34Z',\n",
       "  'id': '7456917687',\n",
       "  'org': {'avatar_url': 'https://avatars.githubusercontent.com/u/22965283?',\n",
       "   'gravatar_id': '',\n",
       "   'id': 22965283,\n",
       "   'login': 'bootstrap-vue',\n",
       "   'url': 'https://api.github.com/orgs/bootstrap-vue'},\n",
       "  'payload': {'action': 'started'},\n",
       "  'public': True,\n",
       "  'repo': {'id': 70342215,\n",
       "   'name': 'bootstrap-vue/bootstrap-vue',\n",
       "   'url': 'https://api.github.com/repos/bootstrap-vue/bootstrap-vue'},\n",
       "  'type': 'WatchEvent'},\n",
       " {'actor': {'avatar_url': 'https://avatars.githubusercontent.com/u/1778577?',\n",
       "   'display_login': 'sergiofbsilva',\n",
       "   'gravatar_id': '',\n",
       "   'id': 1778577,\n",
       "   'login': 'sergiofbsilva',\n",
       "   'url': 'https://api.github.com/users/sergiofbsilva'},\n",
       "  'created_at': '2018-03-30T00:29:34Z',\n",
       "  'id': '7456917686',\n",
       "  'payload': {'before': '7d4981745c8c8e1947744e55ff5a9228180336a2',\n",
       "   'commits': [{'author': {'email': 'sergiofbsilva@gmail.com',\n",
       "      'name': 'sergiofbsilva'},\n",
       "     'distinct': True,\n",
       "     'message': 'Parent and/or top can be null at this point. CMS-103 #resolve',\n",
       "     'sha': '530feb30462ce8f2d34e363c64e675f49ff8fdc5',\n",
       "     'url': 'https://api.github.com/repos/sergiofbsilva/fenixedu-cms/commits/530feb30462ce8f2d34e363c64e675f49ff8fdc5'}],\n",
       "   'distinct_size': 1,\n",
       "   'head': '530feb30462ce8f2d34e363c64e675f49ff8fdc5',\n",
       "   'push_id': 2444648706,\n",
       "   'ref': 'refs/heads/CMS-103',\n",
       "   'size': 1},\n",
       "  'public': True,\n",
       "  'repo': {'id': 85347740,\n",
       "   'name': 'sergiofbsilva/fenixedu-cms',\n",
       "   'url': 'https://api.github.com/repos/sergiofbsilva/fenixedu-cms'},\n",
       "  'type': 'PushEvent'},\n",
       " {'actor': {'avatar_url': 'https://avatars.githubusercontent.com/u/31749527?',\n",
       "   'display_login': 'crazyknight14',\n",
       "   'gravatar_id': '',\n",
       "   'id': 31749527,\n",
       "   'login': 'crazyknight14',\n",
       "   'url': 'https://api.github.com/users/crazyknight14'},\n",
       "  'created_at': '2018-03-30T00:29:34Z',\n",
       "  'id': '7456917682',\n",
       "  'payload': {'description': None,\n",
       "   'master_branch': 'master',\n",
       "   'pusher_type': 'user',\n",
       "   'ref': 'emojis',\n",
       "   'ref_type': 'branch'},\n",
       "  'public': True,\n",
       "  'repo': {'id': 102797155,\n",
       "   'name': 'crazyknight14/Git-tut',\n",
       "   'url': 'https://api.github.com/repos/crazyknight14/Git-tut'},\n",
       "  'type': 'CreateEvent'},\n",
       " {'actor': {'avatar_url': 'https://avatars.githubusercontent.com/u/2316687?',\n",
       "   'display_login': 'henry40408',\n",
       "   'gravatar_id': '',\n",
       "   'id': 2316687,\n",
       "   'login': 'henry40408',\n",
       "   'url': 'https://api.github.com/users/henry40408'},\n",
       "  'created_at': '2018-03-30T00:29:34Z',\n",
       "  'id': '7456917681',\n",
       "  'org': {'avatar_url': 'https://avatars.githubusercontent.com/u/20284426?',\n",
       "   'gravatar_id': '',\n",
       "   'id': 20284426,\n",
       "   'login': 'oxequa',\n",
       "   'url': 'https://api.github.com/orgs/oxequa'},\n",
       "  'payload': {'action': 'started'},\n",
       "  'public': True,\n",
       "  'repo': {'id': 123841792,\n",
       "   'name': 'oxequa/grace',\n",
       "   'url': 'https://api.github.com/repos/oxequa/grace'},\n",
       "  'type': 'WatchEvent'},\n",
       " {'actor': {'avatar_url': 'https://avatars.githubusercontent.com/u/8517910?',\n",
       "   'display_login': 'LombiqBot',\n",
       "   'gravatar_id': '',\n",
       "   'id': 8517910,\n",
       "   'login': 'LombiqBot',\n",
       "   'url': 'https://api.github.com/users/LombiqBot'},\n",
       "  'created_at': '2018-03-30T00:29:34Z',\n",
       "  'id': '7456917680',\n",
       "  'org': {'avatar_url': 'https://avatars.githubusercontent.com/u/8158177?',\n",
       "   'gravatar_id': '',\n",
       "   'id': 8158177,\n",
       "   'login': 'Lombiq',\n",
       "   'url': 'https://api.github.com/orgs/Lombiq'},\n",
       "  'payload': {'before': 'e622c5f6a1c9f5cc5ebcd2bc24b6b219b9747352',\n",
       "   'commits': [],\n",
       "   'distinct_size': 0,\n",
       "   'head': 'e622c5f6a1c9f5cc5ebcd2bc24b6b219b9747352',\n",
       "   'push_id': 2444648702,\n",
       "   'ref': 'refs/heads/orchard-upgrade-1.10.1',\n",
       "   'size': 0},\n",
       "  'public': True,\n",
       "  'repo': {'id': 46594653,\n",
       "   'name': 'Lombiq/Associativy-Tags-Adapter',\n",
       "   'url': 'https://api.github.com/repos/Lombiq/Associativy-Tags-Adapter'},\n",
       "  'type': 'PushEvent'},\n",
       " {'actor': {'avatar_url': 'https://avatars.githubusercontent.com/u/33500718?',\n",
       "   'display_login': 'dipper-github-icn-bom-cdg',\n",
       "   'gravatar_id': '',\n",
       "   'id': 33500718,\n",
       "   'login': 'dipper-github-icn-bom-cdg',\n",
       "   'url': 'https://api.github.com/users/dipper-github-icn-bom-cdg'},\n",
       "  'created_at': '2018-03-30T00:29:34Z',\n",
       "  'id': '7456917679',\n",
       "  'payload': {'pusher_type': 'user',\n",
       "   'ref': 'canary-test-a4430a77-87f2-40fa-aabc-2371b360e53d',\n",
       "   'ref_type': 'branch'},\n",
       "  'public': True,\n",
       "  'repo': {'id': 112368276,\n",
       "   'name': 'dipper-github-icn-bom-cdg/test-python-sample',\n",
       "   'url': 'https://api.github.com/repos/dipper-github-icn-bom-cdg/test-python-sample'},\n",
       "  'type': 'DeleteEvent'},\n",
       " {'actor': {'avatar_url': 'https://avatars.githubusercontent.com/u/2340305?',\n",
       "   'display_login': 'RaniAlJeshi',\n",
       "   'gravatar_id': '',\n",
       "   'id': 2340305,\n",
       "   'login': 'RaniAlJeshi',\n",
       "   'url': 'https://api.github.com/users/RaniAlJeshi'},\n",
       "  'created_at': '2018-03-30T00:29:34Z',\n",
       "  'id': '7456917675',\n",
       "  'payload': {'before': 'd4d0cb1252bfd7b7bf5bad8f8e6c1b609a02a2fa',\n",
       "   'commits': [{'author': {'email': 'rani.aljeshi@gmail.com',\n",
       "      'name': 'Rani Al Jeshi'},\n",
       "     'distinct': True,\n",
       "     'message': 'initial commit',\n",
       "     'sha': 'a1d301cc6c1f7f4ed7499c18338d81c00777c9ce',\n",
       "     'url': 'https://api.github.com/repos/RaniAlJeshi/RandomRecipeGenerator/commits/a1d301cc6c1f7f4ed7499c18338d81c00777c9ce'}],\n",
       "   'distinct_size': 1,\n",
       "   'head': 'a1d301cc6c1f7f4ed7499c18338d81c00777c9ce',\n",
       "   'push_id': 2444648699,\n",
       "   'ref': 'refs/heads/master',\n",
       "   'size': 1},\n",
       "  'public': True,\n",
       "  'repo': {'id': 127359537,\n",
       "   'name': 'RaniAlJeshi/RandomRecipeGenerator',\n",
       "   'url': 'https://api.github.com/repos/RaniAlJeshi/RandomRecipeGenerator'},\n",
       "  'type': 'PushEvent'}]"
      ]
     },
     "execution_count": 19,
     "metadata": {},
     "output_type": "execute_result"
    }
   ],
   "source": [
    "r = requests.get('https://api.github.com/events')\n",
    "r.json()"
   ]
  },
  {
   "cell_type": "markdown",
   "metadata": {},
   "source": [
    "In case the JSON decoding fails, `r.json()` raises an exception. For example, if the response gets a 204 (No Content), or if the response contains invalid JSON, attempting `r.json()` raises `ValueError: No JSON object could be decoded.`\n",
    "\n",
    "It should be noted that the success of the call to r.json() does not indicate the success of the response. Some servers may return a JSON object in a failed response (e.g. error details with HTTP 500). Such JSON will be decoded and returned. To check that a request is successful, use r.raise_for_status() or check r.status_code is what you expect."
   ]
  },
  {
   "cell_type": "markdown",
   "metadata": {},
   "source": [
    "## Raw Response Content\n",
    "In the rare case that you'd like to get the raw socket response from the server, you can access `r.raw`. \n",
    "\n",
    "If you want to do this, make sure you set `stream=True` in your initial request. Once you do, you can do this"
   ]
  },
  {
   "cell_type": "code",
   "execution_count": 20,
   "metadata": {},
   "outputs": [
    {
     "data": {
      "text/plain": [
       "<urllib3.response.HTTPResponse at 0x7f9d505182e8>"
      ]
     },
     "execution_count": 20,
     "metadata": {},
     "output_type": "execute_result"
    }
   ],
   "source": [
    "r = requests.get('https://api.github.com/events', stream=True)\n",
    "r.raw"
   ]
  },
  {
   "cell_type": "code",
   "execution_count": 21,
   "metadata": {},
   "outputs": [
    {
     "data": {
      "text/plain": [
       "b'\\x1f\\x8b\\x08\\x00\\x00\\x00\\x00\\x00\\x00\\x03'"
      ]
     },
     "execution_count": 21,
     "metadata": {},
     "output_type": "execute_result"
    }
   ],
   "source": [
    "r.raw.read(10)"
   ]
  },
  {
   "cell_type": "markdown",
   "metadata": {},
   "source": [
    "In general, however, you should use a pattern like this to save what is being streamed to a file:\n",
    "\n"
   ]
  },
  {
   "cell_type": "code",
   "execution_count": 22,
   "metadata": {},
   "outputs": [
    {
     "ename": "NameError",
     "evalue": "name 'filename' is not defined",
     "output_type": "error",
     "traceback": [
      "\u001b[0;31m---------------------------------------------------------------------------\u001b[0m",
      "\u001b[0;31mNameError\u001b[0m                                 Traceback (most recent call last)",
      "\u001b[0;32m<ipython-input-22-3e203b663e73>\u001b[0m in \u001b[0;36m<module>\u001b[0;34m()\u001b[0m\n\u001b[0;32m----> 1\u001b[0;31m \u001b[0;32mwith\u001b[0m \u001b[0mopen\u001b[0m\u001b[0;34m(\u001b[0m\u001b[0mfilename\u001b[0m\u001b[0;34m,\u001b[0m \u001b[0;34m'wb'\u001b[0m\u001b[0;34m)\u001b[0m \u001b[0;32mas\u001b[0m \u001b[0mfd\u001b[0m\u001b[0;34m:\u001b[0m\u001b[0;34m\u001b[0m\u001b[0m\n\u001b[0m\u001b[1;32m      2\u001b[0m     \u001b[0;32mfor\u001b[0m \u001b[0mchunk\u001b[0m \u001b[0;32min\u001b[0m \u001b[0mr\u001b[0m\u001b[0;34m.\u001b[0m\u001b[0miter_content\u001b[0m\u001b[0;34m(\u001b[0m\u001b[0mchunk_size\u001b[0m\u001b[0;34m=\u001b[0m\u001b[0;36m128\u001b[0m\u001b[0;34m)\u001b[0m\u001b[0;34m:\u001b[0m\u001b[0;34m\u001b[0m\u001b[0m\n\u001b[1;32m      3\u001b[0m         \u001b[0mfd\u001b[0m\u001b[0;34m.\u001b[0m\u001b[0mwrite\u001b[0m\u001b[0;34m(\u001b[0m\u001b[0mchunk\u001b[0m\u001b[0;34m)\u001b[0m\u001b[0;34m\u001b[0m\u001b[0m\n",
      "\u001b[0;31mNameError\u001b[0m: name 'filename' is not defined"
     ]
    }
   ],
   "source": [
    "with open(filename, 'wb') as fd:\n",
    "    for chunk in r.iter_content(chunk_size=128):\n",
    "        fd.write(chunk)"
   ]
  },
  {
   "cell_type": "markdown",
   "metadata": {},
   "source": [
    "## Custom Headers\n",
    "If you'd like to add HTTP headers to a request, simply pass in a dict to the headers parameter.\n",
    "\n",
    "For example, we didn't specify our user-agent in the previous example:"
   ]
  },
  {
   "cell_type": "code",
   "execution_count": 23,
   "metadata": {},
   "outputs": [],
   "source": [
    "url = 'https://api.github.com/some/endpoint'\n",
    "headers = {'user-agent': 'my-app/0.0.1'}\n",
    "r = requests.get(url, headers=headers)"
   ]
  },
  {
   "cell_type": "code",
   "execution_count": 24,
   "metadata": {},
   "outputs": [
    {
     "data": {
      "text/plain": [
       "<Response [404]>"
      ]
     },
     "execution_count": 24,
     "metadata": {},
     "output_type": "execute_result"
    }
   ],
   "source": []
  },
  {
   "cell_type": "markdown",
   "metadata": {},
   "source": [
    "Note: Custom headers are given less precedence than more specific sources of information. For instance:\n",
    "\n",
    "- Authorization headers set with headers= will be overridden if credentials are specified in .netrc, which in turn will be overridden by the auth= parameter.\n",
    "- Authorization headers will be removed if you get redirected off-host.\n",
    "- Proxy-Authorization headers will be overridden by proxy credentials provided in the URL.\n",
    "- Content-Length headers will be overridden when we can determine the length of the content.\n",
    "\n",
    "Furthermore, Requests does not change its behavior at all based on which custom headers are specified. The headers are simply passed on into the final request.\n",
    "\n",
    "Note: All header values must be a string, bytestring, or unicode. While permitted, it's advised to avoid passing unicode header values."
   ]
  },
  {
   "cell_type": "markdown",
   "metadata": {},
   "source": [
    "## More complicated POST requests\n",
    "Typically, you want to send some form-encoded data — much like an HTML form. To do this, simply pass a dictionary to the `data` argument.\n",
    "\n",
    "Your dictionary of data will automatically be form-encoded when the request is made:"
   ]
  },
  {
   "cell_type": "code",
   "execution_count": 25,
   "metadata": {},
   "outputs": [
    {
     "name": "stdout",
     "output_type": "stream",
     "text": [
      "{\n",
      "  \"args\": {}, \n",
      "  \"data\": \"\", \n",
      "  \"files\": {}, \n",
      "  \"form\": {\n",
      "    \"key1\": \"value1\", \n",
      "    \"key2\": \"value2\"\n",
      "  }, \n",
      "  \"headers\": {\n",
      "    \"Accept\": \"*/*\", \n",
      "    \"Accept-Encoding\": \"gzip, deflate\", \n",
      "    \"Connection\": \"close\", \n",
      "    \"Content-Length\": \"23\", \n",
      "    \"Content-Type\": \"application/x-www-form-urlencoded\", \n",
      "    \"Host\": \"httpbin.org\", \n",
      "    \"User-Agent\": \"python-requests/2.18.4\"\n",
      "  }, \n",
      "  \"json\": null, \n",
      "  \"origin\": \"73.183.199.97\", \n",
      "  \"url\": \"http://httpbin.org/post\"\n",
      "}\n",
      "\n"
     ]
    }
   ],
   "source": [
    "payload = {'key1': 'value1', 'key2': 'value2'}\n",
    "r = requests.post(\"http://httpbin.org/post\", data=payload)\n",
    "\n",
    "print(r.text)"
   ]
  },
  {
   "cell_type": "markdown",
   "metadata": {},
   "source": [
    "You can also pass a list of tuples to the data argument. This is particularly useful when the form has multiple elements that use the same key:"
   ]
  },
  {
   "cell_type": "code",
   "execution_count": 26,
   "metadata": {},
   "outputs": [
    {
     "name": "stdout",
     "output_type": "stream",
     "text": [
      "{\n",
      "  \"args\": {}, \n",
      "  \"data\": \"\", \n",
      "  \"files\": {}, \n",
      "  \"form\": {\n",
      "    \"key1\": [\n",
      "      \"value1\", \n",
      "      \"value2\"\n",
      "    ]\n",
      "  }, \n",
      "  \"headers\": {\n",
      "    \"Accept\": \"*/*\", \n",
      "    \"Accept-Encoding\": \"gzip, deflate\", \n",
      "    \"Connection\": \"close\", \n",
      "    \"Content-Length\": \"23\", \n",
      "    \"Content-Type\": \"application/x-www-form-urlencoded\", \n",
      "    \"Host\": \"httpbin.org\", \n",
      "    \"User-Agent\": \"python-requests/2.18.4\"\n",
      "  }, \n",
      "  \"json\": null, \n",
      "  \"origin\": \"73.183.199.97\", \n",
      "  \"url\": \"http://httpbin.org/post\"\n",
      "}\n",
      "\n"
     ]
    }
   ],
   "source": [
    "payload = (('key1', 'value1'), ('key1', 'value2'))\n",
    "\n",
    "r = requests.post(\"http://httpbin.org/post\", data=payload)\n",
    "\n",
    "print(r.text)"
   ]
  },
  {
   "cell_type": "markdown",
   "metadata": {},
   "source": [
    "There are times that you may want to send data that is not form-encoded. If you pass in a `string` instead of a `dict`, that data will be posted directly.\n",
    "\n",
    "For example, the GitHub API v3 accepts JSON-Encoded POST/PATCH data:"
   ]
  },
  {
   "cell_type": "code",
   "execution_count": 27,
   "metadata": {},
   "outputs": [],
   "source": [
    "import json\n",
    "\n",
    "url = 'https://api.github.com/some/endpoint'\n",
    "payload = {'some': 'data'}\n",
    "\n",
    "r = requests.post(url, data=json.dumps(payload))"
   ]
  },
  {
   "cell_type": "code",
   "execution_count": 30,
   "metadata": {},
   "outputs": [
    {
     "name": "stdout",
     "output_type": "stream",
     "text": [
      "{\"message\":\"Not Found\",\"documentation_url\":\"https://developer.github.com/v3\"}\n"
     ]
    }
   ],
   "source": [
    "print(r.text)"
   ]
  },
  {
   "cell_type": "markdown",
   "metadata": {},
   "source": [
    "Instead of encoding the dict yourself, you can also pass it directly using the json parameter (added in version 2.4.2) and it will be encoded automatically:"
   ]
  },
  {
   "cell_type": "code",
   "execution_count": 31,
   "metadata": {},
   "outputs": [],
   "source": [
    "url = 'https://api.github.com/some/endpoint'\n",
    "payload = {'some': 'data'}\n",
    "\n",
    "r = requests.post(url, json=payload)"
   ]
  },
  {
   "cell_type": "markdown",
   "metadata": {},
   "source": [
    "## Response Status Codes\n",
    "We can check the response status code:\n",
    "\n"
   ]
  },
  {
   "cell_type": "code",
   "execution_count": 34,
   "metadata": {},
   "outputs": [
    {
     "data": {
      "text/plain": [
       "200"
      ]
     },
     "execution_count": 34,
     "metadata": {},
     "output_type": "execute_result"
    }
   ],
   "source": [
    "r = requests.get('http://httpbin.org/get')\n",
    "r.status_code"
   ]
  },
  {
   "cell_type": "markdown",
   "metadata": {},
   "source": [
    "Requests also comes with a built-in status code lookup object for easy reference:\n",
    "\n"
   ]
  },
  {
   "cell_type": "code",
   "execution_count": 36,
   "metadata": {},
   "outputs": [
    {
     "data": {
      "text/plain": [
       "True"
      ]
     },
     "execution_count": 36,
     "metadata": {},
     "output_type": "execute_result"
    }
   ],
   "source": [
    "r.status_code == requests.codes.ok\n"
   ]
  },
  {
   "cell_type": "markdown",
   "metadata": {},
   "source": [
    "If we made a bad request (a 4XX client error or 5XX server error response), we can raise it with \n",
    "\n",
    "**Response.raise_for_status():**"
   ]
  },
  {
   "cell_type": "code",
   "execution_count": 40,
   "metadata": {},
   "outputs": [
    {
     "data": {
      "text/plain": [
       "404"
      ]
     },
     "execution_count": 40,
     "metadata": {},
     "output_type": "execute_result"
    }
   ],
   "source": [
    "bad_r = requests.get('http://httpbin.org/status/404')\n",
    "bad_r.status_code\n"
   ]
  },
  {
   "cell_type": "code",
   "execution_count": 41,
   "metadata": {},
   "outputs": [
    {
     "ename": "HTTPError",
     "evalue": "404 Client Error: NOT FOUND for url: http://httpbin.org/status/404",
     "output_type": "error",
     "traceback": [
      "\u001b[0;31m---------------------------------------------------------------------------\u001b[0m",
      "\u001b[0;31mHTTPError\u001b[0m                                 Traceback (most recent call last)",
      "\u001b[0;32m<ipython-input-41-6039039840f0>\u001b[0m in \u001b[0;36m<module>\u001b[0;34m()\u001b[0m\n\u001b[0;32m----> 1\u001b[0;31m \u001b[0mbad_r\u001b[0m\u001b[0;34m.\u001b[0m\u001b[0mraise_for_status\u001b[0m\u001b[0;34m(\u001b[0m\u001b[0;34m)\u001b[0m\u001b[0;34m\u001b[0m\u001b[0m\n\u001b[0m",
      "\u001b[0;32m~/miniconda3/envs/sbc/lib/python3.6/site-packages/requests/models.py\u001b[0m in \u001b[0;36mraise_for_status\u001b[0;34m(self)\u001b[0m\n\u001b[1;32m    933\u001b[0m \u001b[0;34m\u001b[0m\u001b[0m\n\u001b[1;32m    934\u001b[0m         \u001b[0;32mif\u001b[0m \u001b[0mhttp_error_msg\u001b[0m\u001b[0;34m:\u001b[0m\u001b[0;34m\u001b[0m\u001b[0m\n\u001b[0;32m--> 935\u001b[0;31m             \u001b[0;32mraise\u001b[0m \u001b[0mHTTPError\u001b[0m\u001b[0;34m(\u001b[0m\u001b[0mhttp_error_msg\u001b[0m\u001b[0;34m,\u001b[0m \u001b[0mresponse\u001b[0m\u001b[0;34m=\u001b[0m\u001b[0mself\u001b[0m\u001b[0;34m)\u001b[0m\u001b[0;34m\u001b[0m\u001b[0m\n\u001b[0m\u001b[1;32m    936\u001b[0m \u001b[0;34m\u001b[0m\u001b[0m\n\u001b[1;32m    937\u001b[0m     \u001b[0;32mdef\u001b[0m \u001b[0mclose\u001b[0m\u001b[0;34m(\u001b[0m\u001b[0mself\u001b[0m\u001b[0;34m)\u001b[0m\u001b[0;34m:\u001b[0m\u001b[0;34m\u001b[0m\u001b[0m\n",
      "\u001b[0;31mHTTPError\u001b[0m: 404 Client Error: NOT FOUND for url: http://httpbin.org/status/404"
     ]
    }
   ],
   "source": [
    "bad_r.raise_for_status()"
   ]
  },
  {
   "cell_type": "markdown",
   "metadata": {},
   "source": [
    "But, since our `status_code` for `r` was `200`, when we call`raise_for_status()` we get:\n",
    "\n"
   ]
  },
  {
   "cell_type": "code",
   "execution_count": 42,
   "metadata": {},
   "outputs": [],
   "source": [
    "r.raise_for_status()"
   ]
  },
  {
   "cell_type": "markdown",
   "metadata": {},
   "source": [
    "## Response Headers\n",
    "We can view the server's response headers using a Python dictionary:"
   ]
  },
  {
   "cell_type": "code",
   "execution_count": 46,
   "metadata": {},
   "outputs": [
    {
     "data": {
      "text/plain": [
       "{'Connection': 'keep-alive', 'Server': 'meinheld/0.6.1', 'Date': 'Fri, 30 Mar 2018 00:39:56 GMT', 'Content-Type': 'application/json', 'Access-Control-Allow-Origin': '*', 'Access-Control-Allow-Credentials': 'true', 'X-Powered-By': 'Flask', 'X-Processed-Time': '0', 'Content-Length': '266', 'Via': '1.1 vegur'}"
      ]
     },
     "execution_count": 46,
     "metadata": {},
     "output_type": "execute_result"
    }
   ],
   "source": [
    "r.headers"
   ]
  },
  {
   "cell_type": "markdown",
   "metadata": {},
   "source": [
    "The dictionary is special, though: it's made just for HTTP headers. According to RFC 7230, HTTP Header names are case-insensitive.\n",
    "\n",
    "So, we can access the headers using any capitalization we want:"
   ]
  },
  {
   "cell_type": "code",
   "execution_count": 47,
   "metadata": {},
   "outputs": [
    {
     "data": {
      "text/plain": [
       "'application/json'"
      ]
     },
     "execution_count": 47,
     "metadata": {},
     "output_type": "execute_result"
    }
   ],
   "source": [
    "r.headers['Content-Type']"
   ]
  },
  {
   "cell_type": "code",
   "execution_count": 48,
   "metadata": {},
   "outputs": [
    {
     "data": {
      "text/plain": [
       "'application/json'"
      ]
     },
     "execution_count": 48,
     "metadata": {},
     "output_type": "execute_result"
    }
   ],
   "source": [
    " r.headers.get('content-type')"
   ]
  },
  {
   "cell_type": "code",
   "execution_count": null,
   "metadata": {},
   "outputs": [],
   "source": []
  }
 ],
 "metadata": {
  "kernelspec": {
   "display_name": "Python 3",
   "language": "python",
   "name": "python3"
  },
  "language_info": {
   "codemirror_mode": {
    "name": "ipython",
    "version": 3
   },
   "file_extension": ".py",
   "mimetype": "text/x-python",
   "name": "python",
   "nbconvert_exporter": "python",
   "pygments_lexer": "ipython3",
   "version": "3.6.4"
  }
 },
 "nbformat": 4,
 "nbformat_minor": 2
}
