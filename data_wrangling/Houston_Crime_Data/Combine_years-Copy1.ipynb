{
 "cells": [
  {
   "cell_type": "code",
   "execution_count": 1,
   "metadata": {},
   "outputs": [],
   "source": [
    "import pandas as pd\n",
    "import glob, os\n",
    "import numpy as np\n",
    "\n",
    "import matplotlib.pyplot as plt\n",
    "import seaborn as sns\n",
    "import datetime as dt\n",
    "import missingno as msno"
   ]
  },
  {
   "cell_type": "code",
   "execution_count": 2,
   "metadata": {},
   "outputs": [
    {
     "name": "stdout",
     "output_type": "stream",
     "text": [
      "\u001b[0m\u001b[01;32mFinal_crime10_clean.csv\u001b[0m*  \u001b[01;32mFinal_crime13_clean.csv\u001b[0m*  \u001b[01;32mFinal_crime16_clean.csv\u001b[0m*\r\n",
      "\u001b[01;32mFinal_crime11_clean.csv\u001b[0m*  \u001b[01;32mFinal_crime14_clean.csv\u001b[0m*  \u001b[01;32mFinal_crime17_clean.csv\u001b[0m*\r\n",
      "\u001b[01;32mFinal_crime12_clean.csv\u001b[0m*  \u001b[01;32mFinal_crime15_clean.csv\u001b[0m*\r\n"
     ]
    }
   ],
   "source": [
    "ls crime_data_clean/new/"
   ]
  },
  {
   "cell_type": "code",
   "execution_count": 3,
   "metadata": {},
   "outputs": [],
   "source": [
    "path = 'crime_data_clean/new/'"
   ]
  },
  {
   "cell_type": "code",
   "execution_count": 4,
   "metadata": {},
   "outputs": [
    {
     "name": "stderr",
     "output_type": "stream",
     "text": [
      "/home/salas/miniconda3/envs/springboard/lib/python3.6/site-packages/ipykernel_launcher.py:4: DtypeWarning: Columns (8,11) have mixed types. Specify dtype option on import or set low_memory=False.\n",
      "  after removing the cwd from sys.path.\n"
     ]
    }
   ],
   "source": [
    "all_files = glob.glob(os.path.join(path, \"*.csv\")) \n",
    "\n",
    "df_from_each_file = (pd.read_csv(f) for f in all_files)\n",
    "df   = pd.concat(df_from_each_file, ignore_index=True)"
   ]
  },
  {
   "cell_type": "code",
   "execution_count": 5,
   "metadata": {},
   "outputs": [
    {
     "data": {
      "text/html": [
       "<div>\n",
       "<style scoped>\n",
       "    .dataframe tbody tr th:only-of-type {\n",
       "        vertical-align: middle;\n",
       "    }\n",
       "\n",
       "    .dataframe tbody tr th {\n",
       "        vertical-align: top;\n",
       "    }\n",
       "\n",
       "    .dataframe thead th {\n",
       "        text-align: right;\n",
       "    }\n",
       "</style>\n",
       "<table border=\"1\" class=\"dataframe\">\n",
       "  <thead>\n",
       "    <tr style=\"text-align: right;\">\n",
       "      <th></th>\n",
       "      <th>Date</th>\n",
       "      <th>Beat</th>\n",
       "      <th>BlockRange</th>\n",
       "      <th>StreetName</th>\n",
       "      <th>OffenseType</th>\n",
       "      <th>Premise</th>\n",
       "      <th>NumOffenses</th>\n",
       "      <th>Hour</th>\n",
       "      <th>day</th>\n",
       "      <th>weekday</th>\n",
       "      <th>month</th>\n",
       "      <th>year</th>\n",
       "    </tr>\n",
       "  </thead>\n",
       "  <tbody>\n",
       "    <tr>\n",
       "      <th>0</th>\n",
       "      <td>1959-06-06</td>\n",
       "      <td>18F20</td>\n",
       "      <td>5100-5199</td>\n",
       "      <td>RICHMOND</td>\n",
       "      <td>Theft</td>\n",
       "      <td>DEPARTMENT/DISCOUNT STORE</td>\n",
       "      <td>1.0</td>\n",
       "      <td>14.0</td>\n",
       "      <td>6</td>\n",
       "      <td>Saturday</td>\n",
       "      <td>Jun</td>\n",
       "      <td>1959</td>\n",
       "    </tr>\n",
       "    <tr>\n",
       "      <th>1</th>\n",
       "      <td>1966-01-01</td>\n",
       "      <td>10H50</td>\n",
       "      <td>3300-3399</td>\n",
       "      <td>ALABAMA</td>\n",
       "      <td>Rape</td>\n",
       "      <td>APARTMENT</td>\n",
       "      <td>1.0</td>\n",
       "      <td>0.0</td>\n",
       "      <td>1</td>\n",
       "      <td>Saturday</td>\n",
       "      <td>Jan</td>\n",
       "      <td>1966</td>\n",
       "    </tr>\n",
       "    <tr>\n",
       "      <th>2</th>\n",
       "      <td>1966-07-18</td>\n",
       "      <td>13D40</td>\n",
       "      <td>10200-10299</td>\n",
       "      <td>TELEPHONE</td>\n",
       "      <td>Auto Theft</td>\n",
       "      <td>APARTMENT PARKING LOT</td>\n",
       "      <td>1.0</td>\n",
       "      <td>13.0</td>\n",
       "      <td>18</td>\n",
       "      <td>Monday</td>\n",
       "      <td>Jul</td>\n",
       "      <td>1966</td>\n",
       "    </tr>\n",
       "    <tr>\n",
       "      <th>3</th>\n",
       "      <td>1969-07-22</td>\n",
       "      <td>2A30</td>\n",
       "      <td>1500-1599</td>\n",
       "      <td>NICHOLSON</td>\n",
       "      <td>Theft</td>\n",
       "      <td>RESIDENCE/HOUSE</td>\n",
       "      <td>1.0</td>\n",
       "      <td>0.0</td>\n",
       "      <td>22</td>\n",
       "      <td>Tuesday</td>\n",
       "      <td>Jul</td>\n",
       "      <td>1969</td>\n",
       "    </tr>\n",
       "    <tr>\n",
       "      <th>4</th>\n",
       "      <td>1969-11-26</td>\n",
       "      <td>3B50</td>\n",
       "      <td>7100-7199</td>\n",
       "      <td>IRVINGTON</td>\n",
       "      <td>Theft</td>\n",
       "      <td>ROAD/STREET/SIDEWALK</td>\n",
       "      <td>1.0</td>\n",
       "      <td>15.0</td>\n",
       "      <td>26</td>\n",
       "      <td>Wednesday</td>\n",
       "      <td>Nov</td>\n",
       "      <td>1969</td>\n",
       "    </tr>\n",
       "  </tbody>\n",
       "</table>\n",
       "</div>"
      ],
      "text/plain": [
       "         Date   Beat   BlockRange StreetName OffenseType  \\\n",
       "0  1959-06-06  18F20    5100-5199   RICHMOND       Theft   \n",
       "1  1966-01-01  10H50    3300-3399    ALABAMA        Rape   \n",
       "2  1966-07-18  13D40  10200-10299  TELEPHONE  Auto Theft   \n",
       "3  1969-07-22   2A30    1500-1599  NICHOLSON       Theft   \n",
       "4  1969-11-26   3B50    7100-7199  IRVINGTON       Theft   \n",
       "\n",
       "                     Premise  NumOffenses  Hour day    weekday month  year  \n",
       "0  DEPARTMENT/DISCOUNT STORE          1.0  14.0   6   Saturday   Jun  1959  \n",
       "1                  APARTMENT          1.0   0.0   1   Saturday   Jan  1966  \n",
       "2      APARTMENT PARKING LOT          1.0  13.0  18     Monday   Jul  1966  \n",
       "3            RESIDENCE/HOUSE          1.0   0.0  22    Tuesday   Jul  1969  \n",
       "4       ROAD/STREET/SIDEWALK          1.0  15.0  26  Wednesday   Nov  1969  "
      ]
     },
     "execution_count": 5,
     "metadata": {},
     "output_type": "execute_result"
    }
   ],
   "source": [
    "df.head()"
   ]
  },
  {
   "cell_type": "code",
   "execution_count": 6,
   "metadata": {},
   "outputs": [
    {
     "data": {
      "text/plain": [
       "74"
      ]
     },
     "execution_count": 6,
     "metadata": {},
     "output_type": "execute_result"
    }
   ],
   "source": [
    "len(df.year.unique())"
   ]
  },
  {
   "cell_type": "code",
   "execution_count": 7,
   "metadata": {},
   "outputs": [
    {
     "data": {
      "text/plain": [
       "array([1959, 1966, 1969, 1974, 1977, 1980, 1983, 1985, 1990, 1991, 1995,\n",
       "       1996, 1998, 1999, 2000, 2001, 2002, 2003, 2004, 2005, 2006, 2007,\n",
       "       2008, 2009, 2010, 2011, 1964, 1965, 1970, 1971, 1972, 1976, 1978,\n",
       "       1979, 1981, 1988, 1992, 1993, 1973, 1975, 1982, 1987, 1989, 1994,\n",
       "       1997, 2012, 2013, 2014, 2020, 2021, 2029, 1963, 1986, 2019, 2033,\n",
       "       1914, 1920, 1924, 1984, '2014', '2019', 'NaT', 1915, 1916, 2015,\n",
       "       1918, 1919, 1921, 1926, 2016, 1917, 1927, 1953, 2017], dtype=object)"
      ]
     },
     "execution_count": 7,
     "metadata": {},
     "output_type": "execute_result"
    }
   ],
   "source": [
    "df.year.unique()"
   ]
  },
  {
   "cell_type": "code",
   "execution_count": 8,
   "metadata": {},
   "outputs": [
    {
     "data": {
      "text/plain": [
       "array(['Jun', 'Jan', 'Jul', 'Nov', 'Feb', 'Apr', 'May', 'Oct', 'Sep',\n",
       "       'Aug', 'Dec', 'Mar', 'NaT'], dtype=object)"
      ]
     },
     "execution_count": 8,
     "metadata": {},
     "output_type": "execute_result"
    }
   ],
   "source": [
    "df.month.unique()"
   ]
  },
  {
   "cell_type": "code",
   "execution_count": 9,
   "metadata": {},
   "outputs": [
    {
     "data": {
      "text/plain": [
       "2010    136357\n",
       "2013    130200\n",
       "2012    127486\n",
       "2011    127168\n",
       "2016    122423\n",
       "Name: year, dtype: int64"
      ]
     },
     "execution_count": 9,
     "metadata": {},
     "output_type": "execute_result"
    }
   ],
   "source": [
    "df.year.value_counts(dropna=False).head()"
   ]
  },
  {
   "cell_type": "code",
   "execution_count": 10,
   "metadata": {},
   "outputs": [
    {
     "data": {
      "text/plain": [
       "Friday       154377\n",
       "Monday       148218\n",
       "Thursday     144822\n",
       "Wednesday    144241\n",
       "Tuesday      143440\n",
       "Saturday     142584\n",
       "Sunday       128644\n",
       "NaT               4\n",
       "Name: weekday, dtype: int64"
      ]
     },
     "execution_count": 10,
     "metadata": {},
     "output_type": "execute_result"
    }
   ],
   "source": [
    "df.weekday.value_counts(dropna=False)"
   ]
  },
  {
   "cell_type": "code",
   "execution_count": 11,
   "metadata": {},
   "outputs": [
    {
     "data": {
      "text/plain": [
       "Jul    88958\n",
       "May    88471\n",
       "Aug    88283\n",
       "Dec    86742\n",
       "Jan    85867\n",
       "Oct    85075\n",
       "Apr    83205\n",
       "Jun    83013\n",
       "Sep    81957\n",
       "Nov    81739\n",
       "Mar    81307\n",
       "Feb    71709\n",
       "NaT        4\n",
       "Name: month, dtype: int64"
      ]
     },
     "execution_count": 11,
     "metadata": {},
     "output_type": "execute_result"
    }
   ],
   "source": [
    "df.month.value_counts(dropna=False)"
   ]
  },
  {
   "cell_type": "code",
   "execution_count": 12,
   "metadata": {},
   "outputs": [
    {
     "data": {
      "text/plain": [
       "1     34753\n",
       "15    32135\n",
       "20    31828\n",
       "16    31651\n",
       "2     31584\n",
       "Name: day, dtype: int64"
      ]
     },
     "execution_count": 12,
     "metadata": {},
     "output_type": "execute_result"
    }
   ],
   "source": [
    "df.day.value_counts(dropna=False).head()"
   ]
  },
  {
   "cell_type": "code",
   "execution_count": null,
   "metadata": {},
   "outputs": [],
   "source": []
  },
  {
   "cell_type": "code",
   "execution_count": null,
   "metadata": {},
   "outputs": [],
   "source": []
  },
  {
   "cell_type": "code",
   "execution_count": 13,
   "metadata": {},
   "outputs": [
    {
     "data": {
      "text/plain": [
       "<matplotlib.axes._subplots.AxesSubplot at 0x7fcd554c4e80>"
      ]
     },
     "execution_count": 13,
     "metadata": {},
     "output_type": "execute_result"
    },
    {
     "data": {
      "image/png": "[encoded data removed]",
      "text/plain": [
       "<Figure size 1800x720 with 2 Axes>"
      ]
     },
     "metadata": {},
     "output_type": "display_data"
    }
   ],
   "source": [
    "sorted_data = msno.nullity_sort(df, sort='descending')\n",
    "msno.matrix(sorted_data)"
   ]
  },
  {
   "cell_type": "code",
   "execution_count": 14,
   "metadata": {},
   "outputs": [
    {
     "name": "stdout",
     "output_type": "stream",
     "text": [
      "<class 'pandas.core.frame.DataFrame'>\n",
      "RangeIndex: 1006330 entries, 0 to 1006329\n",
      "Data columns (total 12 columns):\n",
      "Date           1006326 non-null object\n",
      "Beat           1006330 non-null object\n",
      "BlockRange     1006173 non-null object\n",
      "StreetName     1006304 non-null object\n",
      "OffenseType    1006330 non-null object\n",
      "Premise        1006330 non-null object\n",
      "NumOffenses    1006330 non-null float64\n",
      "Hour           1006330 non-null float64\n",
      "day            1006330 non-null object\n",
      "weekday        1006330 non-null object\n",
      "month          1006330 non-null object\n",
      "year           1006330 non-null object\n",
      "dtypes: float64(2), object(10)\n",
      "memory usage: 92.1+ MB\n"
     ]
    }
   ],
   "source": [
    "df.info()"
   ]
  },
  {
   "cell_type": "code",
   "execution_count": 15,
   "metadata": {},
   "outputs": [
    {
     "data": {
      "text/plain": [
       "array(['1959-06-06', '1966-01-01', '1966-07-18', ..., '2017-12-29',\n",
       "       '2017-12-30', '2017-12-31'], dtype=object)"
      ]
     },
     "execution_count": 15,
     "metadata": {},
     "output_type": "execute_result"
    }
   ],
   "source": [
    "df.Date.unique()"
   ]
  },
  {
   "cell_type": "code",
   "execution_count": 16,
   "metadata": {},
   "outputs": [
    {
     "data": {
      "text/plain": [
       "4"
      ]
     },
     "execution_count": 16,
     "metadata": {},
     "output_type": "execute_result"
    }
   ],
   "source": [
    "len(df[df.Date.isnull()])"
   ]
  },
  {
   "cell_type": "code",
   "execution_count": 17,
   "metadata": {},
   "outputs": [
    {
     "data": {
      "text/plain": [
       "1006326"
      ]
     },
     "execution_count": 17,
     "metadata": {},
     "output_type": "execute_result"
    }
   ],
   "source": [
    "len(df[df.Date.notnull()])"
   ]
  },
  {
   "cell_type": "code",
   "execution_count": 18,
   "metadata": {},
   "outputs": [
    {
     "data": {
      "text/html": [
       "<div>\n",
       "<style scoped>\n",
       "    .dataframe tbody tr th:only-of-type {\n",
       "        vertical-align: middle;\n",
       "    }\n",
       "\n",
       "    .dataframe tbody tr th {\n",
       "        vertical-align: top;\n",
       "    }\n",
       "\n",
       "    .dataframe thead th {\n",
       "        text-align: right;\n",
       "    }\n",
       "</style>\n",
       "<table border=\"1\" class=\"dataframe\">\n",
       "  <thead>\n",
       "    <tr style=\"text-align: right;\">\n",
       "      <th></th>\n",
       "      <th>Date</th>\n",
       "      <th>Beat</th>\n",
       "      <th>BlockRange</th>\n",
       "      <th>StreetName</th>\n",
       "      <th>OffenseType</th>\n",
       "      <th>Premise</th>\n",
       "      <th>NumOffenses</th>\n",
       "      <th>Hour</th>\n",
       "      <th>day</th>\n",
       "      <th>weekday</th>\n",
       "      <th>month</th>\n",
       "      <th>year</th>\n",
       "    </tr>\n",
       "  </thead>\n",
       "  <tbody>\n",
       "    <tr>\n",
       "      <th>643897</th>\n",
       "      <td>NaN</td>\n",
       "      <td>13D40</td>\n",
       "      <td>8500-8599</td>\n",
       "      <td>SAM HOUSTON</td>\n",
       "      <td>Theft</td>\n",
       "      <td>No label</td>\n",
       "      <td>1.0</td>\n",
       "      <td>15.0</td>\n",
       "      <td>NaT</td>\n",
       "      <td>NaT</td>\n",
       "      <td>NaT</td>\n",
       "      <td>NaT</td>\n",
       "    </tr>\n",
       "    <tr>\n",
       "      <th>643898</th>\n",
       "      <td>NaN</td>\n",
       "      <td>18F40</td>\n",
       "      <td>2700-2799</td>\n",
       "      <td>DUNVALE</td>\n",
       "      <td>Robbery</td>\n",
       "      <td>No label</td>\n",
       "      <td>1.0</td>\n",
       "      <td>14.0</td>\n",
       "      <td>NaT</td>\n",
       "      <td>NaT</td>\n",
       "      <td>NaT</td>\n",
       "      <td>NaT</td>\n",
       "    </tr>\n",
       "    <tr>\n",
       "      <th>643899</th>\n",
       "      <td>NaN</td>\n",
       "      <td>14D40</td>\n",
       "      <td>5600-5699</td>\n",
       "      <td>SELINSKY</td>\n",
       "      <td>Burglary</td>\n",
       "      <td>No label</td>\n",
       "      <td>1.0</td>\n",
       "      <td>8.0</td>\n",
       "      <td>NaT</td>\n",
       "      <td>NaT</td>\n",
       "      <td>NaT</td>\n",
       "      <td>NaT</td>\n",
       "    </tr>\n",
       "    <tr>\n",
       "      <th>643900</th>\n",
       "      <td>NaN</td>\n",
       "      <td>7C20</td>\n",
       "      <td>3900-3999</td>\n",
       "      <td>CAVALCADE</td>\n",
       "      <td>Theft</td>\n",
       "      <td>No label</td>\n",
       "      <td>1.0</td>\n",
       "      <td>11.0</td>\n",
       "      <td>NaT</td>\n",
       "      <td>NaT</td>\n",
       "      <td>NaT</td>\n",
       "      <td>NaT</td>\n",
       "    </tr>\n",
       "  </tbody>\n",
       "</table>\n",
       "</div>"
      ],
      "text/plain": [
       "       Date   Beat BlockRange   StreetName OffenseType   Premise  NumOffenses  \\\n",
       "643897  NaN  13D40  8500-8599  SAM HOUSTON       Theft  No label          1.0   \n",
       "643898  NaN  18F40  2700-2799      DUNVALE     Robbery  No label          1.0   \n",
       "643899  NaN  14D40  5600-5699     SELINSKY    Burglary  No label          1.0   \n",
       "643900  NaN   7C20  3900-3999    CAVALCADE       Theft  No label          1.0   \n",
       "\n",
       "        Hour  day weekday month year  \n",
       "643897  15.0  NaT     NaT   NaT  NaT  \n",
       "643898  14.0  NaT     NaT   NaT  NaT  \n",
       "643899   8.0  NaT     NaT   NaT  NaT  \n",
       "643900  11.0  NaT     NaT   NaT  NaT  "
      ]
     },
     "execution_count": 18,
     "metadata": {},
     "output_type": "execute_result"
    }
   ],
   "source": [
    "df[df.Date.isnull()]"
   ]
  },
  {
   "cell_type": "code",
   "execution_count": 19,
   "metadata": {},
   "outputs": [],
   "source": [
    "df = df[df.Date.notnull()]"
   ]
  },
  {
   "cell_type": "code",
   "execution_count": 20,
   "metadata": {},
   "outputs": [
    {
     "data": {
      "text/plain": [
       "0"
      ]
     },
     "execution_count": 20,
     "metadata": {},
     "output_type": "execute_result"
    }
   ],
   "source": [
    "len(df[df.Date.isnull()])"
   ]
  },
  {
   "cell_type": "markdown",
   "metadata": {},
   "source": [
    "## Set Date as index"
   ]
  },
  {
   "cell_type": "code",
   "execution_count": 21,
   "metadata": {},
   "outputs": [],
   "source": [
    "df['Date'] = pd.to_datetime(df['Date'])\n",
    "\n",
    "df = df.set_index('Date').sort_index(ascending=True)"
   ]
  },
  {
   "cell_type": "code",
   "execution_count": 22,
   "metadata": {},
   "outputs": [
    {
     "name": "stdout",
     "output_type": "stream",
     "text": [
      "<class 'pandas.core.frame.DataFrame'>\n",
      "DatetimeIndex: 1006326 entries, 1914-09-08 to 2033-04-21\n",
      "Data columns (total 11 columns):\n",
      "Beat           1006326 non-null object\n",
      "BlockRange     1006169 non-null object\n",
      "StreetName     1006300 non-null object\n",
      "OffenseType    1006326 non-null object\n",
      "Premise        1006326 non-null object\n",
      "NumOffenses    1006326 non-null float64\n",
      "Hour           1006326 non-null float64\n",
      "day            1006326 non-null object\n",
      "weekday        1006326 non-null object\n",
      "month          1006326 non-null object\n",
      "year           1006326 non-null object\n",
      "dtypes: float64(2), object(9)\n",
      "memory usage: 92.1+ MB\n"
     ]
    }
   ],
   "source": [
    "df.info()"
   ]
  },
  {
   "cell_type": "markdown",
   "metadata": {},
   "source": [
    "## Clenup index"
   ]
  },
  {
   "cell_type": "code",
   "execution_count": 23,
   "metadata": {},
   "outputs": [
    {
     "data": {
      "text/html": [
       "<div>\n",
       "<style scoped>\n",
       "    .dataframe tbody tr th:only-of-type {\n",
       "        vertical-align: middle;\n",
       "    }\n",
       "\n",
       "    .dataframe tbody tr th {\n",
       "        vertical-align: top;\n",
       "    }\n",
       "\n",
       "    .dataframe thead th {\n",
       "        text-align: right;\n",
       "    }\n",
       "</style>\n",
       "<table border=\"1\" class=\"dataframe\">\n",
       "  <thead>\n",
       "    <tr style=\"text-align: right;\">\n",
       "      <th></th>\n",
       "      <th>Beat</th>\n",
       "      <th>BlockRange</th>\n",
       "      <th>StreetName</th>\n",
       "      <th>OffenseType</th>\n",
       "      <th>Premise</th>\n",
       "      <th>NumOffenses</th>\n",
       "      <th>Hour</th>\n",
       "      <th>day</th>\n",
       "      <th>weekday</th>\n",
       "      <th>month</th>\n",
       "      <th>year</th>\n",
       "    </tr>\n",
       "    <tr>\n",
       "      <th>Date</th>\n",
       "      <th></th>\n",
       "      <th></th>\n",
       "      <th></th>\n",
       "      <th></th>\n",
       "      <th></th>\n",
       "      <th></th>\n",
       "      <th></th>\n",
       "      <th></th>\n",
       "      <th></th>\n",
       "      <th></th>\n",
       "      <th></th>\n",
       "    </tr>\n",
       "  </thead>\n",
       "  <tbody>\n",
       "    <tr>\n",
       "      <th>2019-12-25</th>\n",
       "      <td>10H20</td>\n",
       "      <td>4600-4699</td>\n",
       "      <td>BELL</td>\n",
       "      <td>Auto Theft</td>\n",
       "      <td>DRIVEWAY</td>\n",
       "      <td>1.0</td>\n",
       "      <td>19.0</td>\n",
       "      <td>25</td>\n",
       "      <td>Wednesday</td>\n",
       "      <td>Dec</td>\n",
       "      <td>2019</td>\n",
       "    </tr>\n",
       "    <tr>\n",
       "      <th>2020-10-11</th>\n",
       "      <td>16E40</td>\n",
       "      <td>13900-13999</td>\n",
       "      <td>FONDREN</td>\n",
       "      <td>Theft</td>\n",
       "      <td>SERVICE/GAS STATION</td>\n",
       "      <td>1.0</td>\n",
       "      <td>22.0</td>\n",
       "      <td>11</td>\n",
       "      <td>Sunday</td>\n",
       "      <td>Oct</td>\n",
       "      <td>2020</td>\n",
       "    </tr>\n",
       "    <tr>\n",
       "      <th>2021-01-03</th>\n",
       "      <td>15E40</td>\n",
       "      <td>2100-2199</td>\n",
       "      <td>EL PASEO</td>\n",
       "      <td>Theft</td>\n",
       "      <td>APARTMENT</td>\n",
       "      <td>1.0</td>\n",
       "      <td>0.0</td>\n",
       "      <td>3</td>\n",
       "      <td>Sunday</td>\n",
       "      <td>Jan</td>\n",
       "      <td>2021</td>\n",
       "    </tr>\n",
       "    <tr>\n",
       "      <th>2029-05-26</th>\n",
       "      <td>2A50</td>\n",
       "      <td>5400-5499</td>\n",
       "      <td>PETTY</td>\n",
       "      <td>Theft</td>\n",
       "      <td>OTHER/UNKNOWN</td>\n",
       "      <td>1.0</td>\n",
       "      <td>3.0</td>\n",
       "      <td>26</td>\n",
       "      <td>Saturday</td>\n",
       "      <td>May</td>\n",
       "      <td>2029</td>\n",
       "    </tr>\n",
       "    <tr>\n",
       "      <th>2033-04-21</th>\n",
       "      <td>2A60</td>\n",
       "      <td>900-999</td>\n",
       "      <td>T C JESTER</td>\n",
       "      <td>Theft</td>\n",
       "      <td>RESIDENCE/HOUSE</td>\n",
       "      <td>1.0</td>\n",
       "      <td>0.0</td>\n",
       "      <td>21</td>\n",
       "      <td>Thursday</td>\n",
       "      <td>Apr</td>\n",
       "      <td>2033</td>\n",
       "    </tr>\n",
       "  </tbody>\n",
       "</table>\n",
       "</div>"
      ],
      "text/plain": [
       "             Beat   BlockRange  StreetName OffenseType              Premise  \\\n",
       "Date                                                                          \n",
       "2019-12-25  10H20    4600-4699        BELL  Auto Theft             DRIVEWAY   \n",
       "2020-10-11  16E40  13900-13999     FONDREN       Theft  SERVICE/GAS STATION   \n",
       "2021-01-03  15E40    2100-2199    EL PASEO       Theft            APARTMENT   \n",
       "2029-05-26   2A50    5400-5499       PETTY       Theft        OTHER/UNKNOWN   \n",
       "2033-04-21   2A60      900-999  T C JESTER       Theft      RESIDENCE/HOUSE   \n",
       "\n",
       "            NumOffenses  Hour day    weekday month  year  \n",
       "Date                                                      \n",
       "2019-12-25          1.0  19.0  25  Wednesday   Dec  2019  \n",
       "2020-10-11          1.0  22.0  11     Sunday   Oct  2020  \n",
       "2021-01-03          1.0   0.0   3     Sunday   Jan  2021  \n",
       "2029-05-26          1.0   3.0  26   Saturday   May  2029  \n",
       "2033-04-21          1.0   0.0  21   Thursday   Apr  2033  "
      ]
     },
     "execution_count": 23,
     "metadata": {},
     "output_type": "execute_result"
    }
   ],
   "source": [
    "df.tail()"
   ]
  },
  {
   "cell_type": "markdown",
   "metadata": {},
   "source": [
    "### Remove non days"
   ]
  },
  {
   "cell_type": "code",
   "execution_count": 24,
   "metadata": {},
   "outputs": [
    {
     "data": {
      "text/plain": [
       "0"
      ]
     },
     "execution_count": 24,
     "metadata": {},
     "output_type": "execute_result"
    }
   ],
   "source": [
    "len(df[df.index.isnull()])"
   ]
  },
  {
   "cell_type": "code",
   "execution_count": 25,
   "metadata": {},
   "outputs": [
    {
     "data": {
      "text/plain": [
       "1006326"
      ]
     },
     "execution_count": 25,
     "metadata": {},
     "output_type": "execute_result"
    }
   ],
   "source": [
    "len(df[df.index.notnull()])"
   ]
  },
  {
   "cell_type": "code",
   "execution_count": 26,
   "metadata": {},
   "outputs": [],
   "source": [
    "#df[df.index.isnull()]"
   ]
  },
  {
   "cell_type": "code",
   "execution_count": 27,
   "metadata": {},
   "outputs": [],
   "source": [
    "#df = df[df.index.notnull()]"
   ]
  },
  {
   "cell_type": "code",
   "execution_count": 28,
   "metadata": {},
   "outputs": [],
   "source": [
    "#len(df[df.index.isnull()])"
   ]
  },
  {
   "cell_type": "code",
   "execution_count": 29,
   "metadata": {},
   "outputs": [
    {
     "data": {
      "text/plain": [
       "1     34753\n",
       "15    32135\n",
       "20    31828\n",
       "16    31651\n",
       "2     31584\n",
       "Name: day, dtype: int64"
      ]
     },
     "execution_count": 29,
     "metadata": {},
     "output_type": "execute_result"
    }
   ],
   "source": [
    "df.day.value_counts(dropna=False).head()"
   ]
  },
  {
   "cell_type": "code",
   "execution_count": 30,
   "metadata": {},
   "outputs": [
    {
     "name": "stdout",
     "output_type": "stream",
     "text": [
      "<class 'pandas.core.frame.DataFrame'>\n",
      "DatetimeIndex: 1006326 entries, 1914-09-08 to 2033-04-21\n",
      "Data columns (total 11 columns):\n",
      "Beat           1006326 non-null object\n",
      "BlockRange     1006169 non-null object\n",
      "StreetName     1006300 non-null object\n",
      "OffenseType    1006326 non-null object\n",
      "Premise        1006326 non-null object\n",
      "NumOffenses    1006326 non-null float64\n",
      "Hour           1006326 non-null float64\n",
      "day            1006326 non-null object\n",
      "weekday        1006326 non-null object\n",
      "month          1006326 non-null object\n",
      "year           1006326 non-null object\n",
      "dtypes: float64(2), object(9)\n",
      "memory usage: 92.1+ MB\n"
     ]
    }
   ],
   "source": [
    "df.info()"
   ]
  },
  {
   "cell_type": "markdown",
   "metadata": {},
   "source": [
    "# Beat"
   ]
  },
  {
   "cell_type": "code",
   "execution_count": 31,
   "metadata": {},
   "outputs": [
    {
     "data": {
      "text/plain": [
       "127"
      ]
     },
     "execution_count": 31,
     "metadata": {},
     "output_type": "execute_result"
    }
   ],
   "source": [
    "len(df.Beat.unique())"
   ]
  },
  {
   "cell_type": "code",
   "execution_count": 32,
   "metadata": {},
   "outputs": [
    {
     "data": {
      "text/plain": [
       "array(['24C60', '18F60', '12D20', '3B10', '5F10', '1A20', '11H10',\n",
       "       '19G20', '9C40', '9C30', '6B30', '10H70', '4F20', '20G30', '19G40',\n",
       "       '18F20', '20G20', '17E20', '9C20', '19G10', '14D20', '8C20',\n",
       "       '8C30', '17E40', '6B50', '12D70', 'UNK', '1A40', '7C10', '1A50',\n",
       "       '10H40', '13D20', '18F10', '6B60', '10H50', '13D40', '2A30',\n",
       "       '3B50', '19G50', '14D50', '1A10', '15E30', '12D50', '14D30',\n",
       "       '8C60', '1A30', '18F40', '4F30', '20G50', '7C20', '3B30', '12D10',\n",
       "       '15E10', '18F50', '14D10', '11H20', '5F30', '15E20', '23J50',\n",
       "       '17E10', '6B10', '19G30', '18F30', '20G10', '2A40', '24C40',\n",
       "       '14D40', '4F10', '10H60', '3B40', '10H80', '5F20', '16E40',\n",
       "       '12D60', '6B40', '7C40', '13D30', '20G80', '10H20', '7C50',\n",
       "       '15E40', '2A50', '8C50', '24C10', '20G40', '13D10', '7C30', '2A20',\n",
       "       '20G70', '16E10', '12D30', '9C10', '16E30', '6B20', '2A10', '8C10',\n",
       "       '21I20', '11H30', '24C20', '17E30', '10H30', '5F40', '2A60',\n",
       "       '21I10', '10H10', '16E20', '11H50', '20G60', '12D40', '24C30',\n",
       "       '21I50', '8C40', '24C50', '21I30', '11H40', '21I70', '21I40',\n",
       "       '21I60', '23J40', '23J10', '7C60', '23J30', '23J20', 'HCSO', 'OOJ',\n",
       "       'UH-3P', '3B20'], dtype=object)"
      ]
     },
     "execution_count": 32,
     "metadata": {},
     "output_type": "execute_result"
    }
   ],
   "source": [
    "df.Beat.unique()"
   ]
  },
  {
   "cell_type": "markdown",
   "metadata": {},
   "source": [
    "# BlockRange"
   ]
  },
  {
   "cell_type": "code",
   "execution_count": 33,
   "metadata": {},
   "outputs": [
    {
     "data": {
      "text/plain": [
       "348"
      ]
     },
     "execution_count": 33,
     "metadata": {},
     "output_type": "execute_result"
    }
   ],
   "source": [
    "len(df.BlockRange.unique())"
   ]
  },
  {
   "cell_type": "markdown",
   "metadata": {},
   "source": [
    "# StreetName"
   ]
  },
  {
   "cell_type": "code",
   "execution_count": 34,
   "metadata": {},
   "outputs": [
    {
     "data": {
      "text/plain": [
       "24711"
      ]
     },
     "execution_count": 34,
     "metadata": {},
     "output_type": "execute_result"
    }
   ],
   "source": [
    "len(df.StreetName.unique())"
   ]
  },
  {
   "cell_type": "code",
   "execution_count": 35,
   "metadata": {},
   "outputs": [
    {
     "data": {
      "text/plain": [
       "array(['LAKE HOUSTON', 'BELLAIRE', 'GULF', ..., '32ND ST APT B',\n",
       "       'HORWOOD', '66TH ST APT 5204'], dtype=object)"
      ]
     },
     "execution_count": 35,
     "metadata": {},
     "output_type": "execute_result"
    }
   ],
   "source": [
    "df.StreetName.unique()"
   ]
  },
  {
   "cell_type": "markdown",
   "metadata": {},
   "source": [
    "# OffenseType"
   ]
  },
  {
   "cell_type": "code",
   "execution_count": 36,
   "metadata": {},
   "outputs": [
    {
     "data": {
      "text/plain": [
       "8"
      ]
     },
     "execution_count": 36,
     "metadata": {},
     "output_type": "execute_result"
    }
   ],
   "source": [
    "len(df.OffenseType.unique())"
   ]
  },
  {
   "cell_type": "code",
   "execution_count": 37,
   "metadata": {},
   "outputs": [
    {
     "data": {
      "text/plain": [
       "array(['Burglary', 'Auto Theft', 'Theft', 'Rape', 'Aggravated Assault',\n",
       "       'Robbery', 'Murder', 'UNK'], dtype=object)"
      ]
     },
     "execution_count": 37,
     "metadata": {},
     "output_type": "execute_result"
    }
   ],
   "source": [
    "df.OffenseType.unique()"
   ]
  },
  {
   "cell_type": "code",
   "execution_count": 38,
   "metadata": {},
   "outputs": [
    {
     "data": {
      "text/plain": [
       "Theft                 554369\n",
       "Burglary              182240\n",
       "Auto Theft            100894\n",
       "Aggravated Assault     82971\n",
       "Robbery                76783\n",
       "Rape                    7129\n",
       "Murder                  1926\n",
       "UNK                       14\n",
       "Name: OffenseType, dtype: int64"
      ]
     },
     "execution_count": 38,
     "metadata": {},
     "output_type": "execute_result"
    }
   ],
   "source": [
    "df.OffenseType.value_counts(dropna=False)"
   ]
  },
  {
   "cell_type": "markdown",
   "metadata": {},
   "source": [
    "# Premise"
   ]
  },
  {
   "cell_type": "code",
   "execution_count": 39,
   "metadata": {},
   "outputs": [
    {
     "data": {
      "text/plain": [
       "265"
      ]
     },
     "execution_count": 39,
     "metadata": {},
     "output_type": "execute_result"
    }
   ],
   "source": [
    "len(df.Premise.unique())"
   ]
  },
  {
   "cell_type": "code",
   "execution_count": 40,
   "metadata": {},
   "outputs": [
    {
     "data": {
      "text/plain": [
       "array(['Restaurant or Cafeteria', 'Miscellaneous Business (Non-Specific)',\n",
       "       'No label', 'Other Parking Lot', 'Apartment Parking Lot',\n",
       "       'Office Building', 'Other, Unknown, or Not Listed',\n",
       "       'Rental Storage Facility', 'Hotel or Motel Parking Lot',\n",
       "       'Commercial Building', 'Apartment', 'Residence or House',\n",
       "       'Road, Street, or Sidewalk',\n",
       "       'Vacant Storage Fac (Barn,Garage,Warehouse)',\n",
       "       'Commercial Parking Lot or Garage', 'Bar or Night Club',\n",
       "       'Department or Discount Store',\n",
       "       'Strip Business Center Parking Lot', 'DEPARTMENT/DISCOUNT STORE',\n",
       "       'REHABILITATION CENTER', 'OTHER PARKING LOT', 'Convenience Store',\n",
       "       'HOSPITAL', 'APARTMENT', 'APARTMENT PARKING LOT',\n",
       "       'RESTAURANT/CAFETERIA', 'RESIDENCE/HOUSE', 'ROAD/STREET/SIDEWALK',\n",
       "       'OTHER/UNKNOWN', 'Mobile Home', 'DRIVEWAY', '---',\n",
       "       'MALL PARKING LOT', 'Grocery Store or Supermarket',\n",
       "       'GROCERY/SUPERMARKET', 'AIRPORT TERMINAL',\n",
       "       'Church, Synagogue, or Temple', 'PRIVATE SCHOOL',\n",
       "       'OFFICE BUILDING', 'MAINTENANCE/BUILDING SERVICES',\n",
       "       'MULTI-PLEX HME(DUPLEX,TRIPLEX ETC)', 'BAR/NIGHT CLUB',\n",
       "       'HIGH SCHOOL', 'Railroad Track or Right Of Way',\n",
       "       'CONVENIENCE STORE', 'MALL COMMON AREA', 'Condominium',\n",
       "       'Mall Common Area', 'Pawn, Resale Shop, or Flea Market',\n",
       "       'CONSTRUCTION SITE', 'WAREHOUSE',\n",
       "       'GROCERY/SUPERMARKET PARKING LOT', 'BAR/NIGHT CLUB PARKING LOT',\n",
       "       'PARKS & RECREATION, ZOO, SWIM POOL',\n",
       "       'FURNITURE, APPLIANCES, RADIOS, TV', 'HOTEL/MOTEL PARKING LOT',\n",
       "       'COMMERCIAL PARKING LOT/GARAGE',\n",
       "       'VACANT SINGLE OCCUPANCY RESIDENCE (HOUSES,TOWNHOUSES,DUPLEXES, ETC.)',\n",
       "       'SPECIALTY STORE (NON-SPECIFIC)', 'COMMERCIAL BUILDING',\n",
       "       'UTILITY COMPANY,ELECTRIC,GAS,WATER', 'HOTEL/MOTEL/ETC.',\n",
       "       'CONDOMINIUM', 'CAR WASH', 'Apartment Rental Office',\n",
       "       'CONVENIENCE STORE PARKING LOT', 'ELEMENTARY SCHOOL',\n",
       "       'BOOK,RECORD,STATIONARY,OFFICE SUP.',\n",
       "       'RESTAURANT/CAFETERIA PARKING LOT',\n",
       "       'STRIP BUSINESS CENTER PARKING LOT', 'CHURCH/SYNAGOGUE/TEMPLE',\n",
       "       'AMUSE. PARK,BOWL. ALLEY,SKATE RINK', \"PHYSICIAN'S OFFICE\",\n",
       "       'SERVICE/GAS STATION', 'GARAGE/CARPORT', 'Driveway',\n",
       "       'Book, Record, Stationary, Office Supplies', 'FIELD/WOODS',\n",
       "       'Restaurant or Cafeteria Parking Lot',\n",
       "       'FACTORY/MANUFACTURING/INDUSTRIAL', 'RENTAL STORAGE FACILITY',\n",
       "       'VACANT OTHER RESIDENTIAL (APARTMENT,INN,DORMS,BOARDING HOUSE)',\n",
       "       'MISC. BUSINESS (NON-SPECIFIC)', 'Bar or Night Club Parking Lot',\n",
       "       'BUS STOP', 'University or College',\n",
       "       'THEATRES,DINNER THEATERS,AUDITOR.', 'POLICE STATION',\n",
       "       'GYM,RECREAT,CLUB HSE,INDR POOL,SPA',\n",
       "       'STADIUM/SPRTS ARENA/RACE TRACK', 'Government or Public Building',\n",
       "       'DAYCARE/CHILD CARE/KINDERGARTEN', 'Hotel, Motel, Inn, Etc.',\n",
       "       \"Physician, Doctor, Dentist's Office\", 'Bus Station', 'BANK',\n",
       "       'Parks and Recreation, Zoo, Swimming Pool',\n",
       "       'Field, Woods, Forest, Park', 'LAUNDRY/DRY CLEANERS/WASHATERIAS',\n",
       "       'HIGHWAY/FREEWAY', 'MIDDLE SCHOOL',\n",
       "       'Church, Synagogue, or Temple Parking Lot', 'Garage or Carport',\n",
       "       'DRUG STORE/MEDICAL SUPPLY', 'AUTO REPAIR',\n",
       "       'BARBER AND BEAUTY SHOPS', 'HIGH RISE', 'BUS STATION',\n",
       "       'CHECK CASHING PLACES', 'Grocery Store or Supermarket Parking Lot',\n",
       "       'JAIL/PRISON', 'GOVERNMENT/PUBLIC BUILDING',\n",
       "       'VACANT OTHER STRUCTURE (OUT BUILDINGS,MONUMENTS,BUILDINGS UNDER CONSTRUCTION,ETC.)',\n",
       "       'VACANT INDUSTRIAL/MANUFACTURING/INDUSTRIAL',\n",
       "       'HOSPITAL PARKING LOT', 'LIQUOR STORE', 'FREEWAY SERVICE ROAD',\n",
       "       'COMMERCIAL OR TRAINING SCHOOL', 'VACANT BUILDING (COMMERCIAL)',\n",
       "       'JEWELRY STORES', 'VEHICLE/AUTO SALES/LEASE/AUTO PARTS STORE',\n",
       "       'PAWN/RESALE SHOP/FLEA MARKET',\n",
       "       'ELECTRONICS STORE, ELECTRICAL SUP.', 'CLOTHING STORE',\n",
       "       'LAUNDRY/DRY CLEANERS PARKING LOT', 'MOBILE HOME', 'FIRE STATION',\n",
       "       'SOCIAL SERVICES/PUBLIC CHARITIES', 'APARTMENT/RENTAL OFFICE',\n",
       "       'UNIVERSITY/COLLEGE', 'CHURCH/SYNAGOGUE/TEMPLE PARKING LOT',\n",
       "       'VACANT STORAGE FACILITY (BARNS,GARAGES,WAREHOUSES,ETC.)',\n",
       "       'BANK/SAVING INSTITUTION PARKING LOT', 'LIBRARIES, MUSEUMS',\n",
       "       'POOL HALL/GAME ROOM', 'SEXUALLY ORIENTED CLUB', 'NURSING HOME',\n",
       "       'APARTMENT LAUNDRY', 'CREDIT UNION',\n",
       "       'SEXUALLY ORIENTED BUSINESS PARKING LOT',\n",
       "       'Gym, Recreat, Club House, Indoor Pool, Spa', 'BODY SHOP',\n",
       "       'CONVENTION CENTER/EXHIBIT HALLS',\n",
       "       'TOYS,ARTS & CRAFT,MUSICAL,BIKE,PET', 'TOLLWAY',\n",
       "       'GARDEN SUPPLY, NURSERY, FLORIST', 'VIDEO RENTAL & SALES',\n",
       "       'PARK & RIDE TERMINAL', 'VACANT CHURCH/SYNAGOGUE/TEMPLE',\n",
       "       'VACANT RESTAURANT', 'VACANT GROCERY/SUPERMARKET',\n",
       "       'SPORTING GOODS/GUN SHOPS', 'ADULT BOOK STORE/NEWSSTAND',\n",
       "       'VACANT HOTEL/MOTEL/ETC.', 'SAVINGS AND LOAN INSTITUTIONS',\n",
       "       'ALLEY', 'TRAIN TERMINAL', 'VACANT GOVERNMENT/PUBLIC BUILDING',\n",
       "       'LAKE/WATERWAY/BAYOU', 'LIGHT RAIL PLATFORM',\n",
       "       'LIQUOR STORE PARKING LOT', 'VACANT SCHOOL/COLLEGE',\n",
       "       'RAILROAD TRACK/RIGHT OF WAY', 'MARINE VEH. SALES,BOATS,SAILBOATS',\n",
       "       'VACANT HOSPITAL', '23C', 'RES', 'VACANT BANK', 'CONTRA-FLOW/HOV',\n",
       "       'LIGHT RAIL VEHICLE', 'Not Listed', 'Construction Site',\n",
       "       'Maintenance or Building Services',\n",
       "       'Theatres, Dinner Theaters, Auditoriums', '06', 'N',\n",
       "       'Amusement Park, Bowling Alley, Skate Rink', 'Bank', 'Warehouse',\n",
       "       'Clothing Store', 'Vehicle/Auto Sales/Lease/Auto Parts Store',\n",
       "       'Service or Gas Station', 'Specialty Store (Non-Specific)',\n",
       "       'Vacant Other Out Build/Monument/UnderConst', 'Auto Repair',\n",
       "       'Check Cashing Places', 'Nursing Home', 'Hospital Parking Lot',\n",
       "       'Bus Stop', 'Airport Terminal',\n",
       "       'Daycare, Child Care, or Kindergarten', 'Alley', 'Hospital',\n",
       "       'Highway or Freeway', 'Social Services or Public Charities',\n",
       "       'Vacant Building (Commercial)',\n",
       "       'Factory, Manufacturing, or Industrial',\n",
       "       'Commercial Or Training School', 'Body Shop',\n",
       "       'Garden Supply, Nursery, or Florist', 'Rehabilitation Center',\n",
       "       'Laundry or Dry Cleaners Parking Lot', 'Credit Union',\n",
       "       'Convenience Store Parking Lot',\n",
       "       'Furniture, Appliances, Radios, TV Store', 'Middle School',\n",
       "       'Liquor Store Parking Lot',\n",
       "       'Vacant Single Occ Resd(House,Townhs,Dplex)', 'Private School',\n",
       "       'Tollway', 'High Rise', 'Laundry, Dry Cleaners, Washaterias',\n",
       "       'Mall Parking Lot', 'Apartment Laundry',\n",
       "       'Sporting Goods or Gun Shops',\n",
       "       'Multi-Plex Home (Duplex,Triplex Etc.)', 'Police Station',\n",
       "       'Libraries, Museums', 'Convention Center or Exhibit Halls',\n",
       "       'Elementary School', 'Barber And Beauty Shops',\n",
       "       'Drug Store or Medical Supply',\n",
       "       'Vacant Other Residential (Apartment,Dorms)',\n",
       "       'Sexually Oriented Business Parking Lot',\n",
       "       'Bank or Savings Institution Parking Lot',\n",
       "       'Savings and Loan Institutions', 'Liquor Store', 'Car Wash',\n",
       "       'Pool Hall or Game Room', 'Sexually Oriented Club',\n",
       "       'Stadium, Sports Arena, Race Track',\n",
       "       'Electronics Store, Electrical Supplies',\n",
       "       'Lake, Pond, Waterway, Bayou, River',\n",
       "       'Vacant Government or Public Building', 'High School',\n",
       "       'Park and Ride Terminal', 'Video Rental & Sales',\n",
       "       'Utility Company, Electric, Gas, Water',\n",
       "       'Toys, Arts Craft,Musical, Bike,Pet Stores',\n",
       "       'Freeway Service Road', 'Jewelry Stores',\n",
       "       'Light Rail (Metro Rail) Vehicle',\n",
       "       'Vacant Grocery Store or Supermarket', 'Light Rail Platform',\n",
       "       'Adult Book Store or Newsstand',\n",
       "       'Marine Vehicle Sales, Boats, Sailboats',\n",
       "       'Vacant School or College/University',\n",
       "       'Vacant Industrial or Manufacturing Blding',\n",
       "       'Vacant Hotel, Motel, Etc.', 'Vacant Church, Synagogue, or Temple',\n",
       "       'Train (Not Metro) Terminal', 'Vacant Bank', 'Jail or Prison',\n",
       "       'Vacant Restaurant', 'Contra-Flow, Managed, or HOV Lanes',\n",
       "       'Fire Station', 'Vacant Hospital',\n",
       "       'Package Facility (FedEx,UPS,DHL)', 'Vacant Jail or Prison',\n",
       "       'Gym, Recreat, Club House, Indoor Pool', 'Adult Novelty Store',\n",
       "       'Cantina', 'Modeling Studio', 'Illicit Massage Parlor or Spa',\n",
       "       'Adult Theater/Arcade'], dtype=object)"
      ]
     },
     "execution_count": 40,
     "metadata": {},
     "output_type": "execute_result"
    }
   ],
   "source": [
    "df.Premise.unique()"
   ]
  },
  {
   "cell_type": "markdown",
   "metadata": {},
   "source": [
    "# NumOffenses"
   ]
  },
  {
   "cell_type": "code",
   "execution_count": 41,
   "metadata": {},
   "outputs": [
    {
     "data": {
      "text/plain": [
       "17"
      ]
     },
     "execution_count": 41,
     "metadata": {},
     "output_type": "execute_result"
    }
   ],
   "source": [
    "len(df.NumOffenses.unique())"
   ]
  },
  {
   "cell_type": "code",
   "execution_count": 42,
   "metadata": {},
   "outputs": [
    {
     "data": {
      "text/plain": [
       "array([ 1.,  2.,  4.,  3., 16.,  5.,  9.,  6., 13.,  7.,  8., 11., 29.,\n",
       "       12., 17., 33., 10.])"
      ]
     },
     "execution_count": 42,
     "metadata": {},
     "output_type": "execute_result"
    }
   ],
   "source": [
    "df.NumOffenses.unique()"
   ]
  },
  {
   "cell_type": "code",
   "execution_count": 43,
   "metadata": {},
   "outputs": [
    {
     "data": {
      "text/plain": [
       "1.0     993650\n",
       "2.0      10646\n",
       "3.0       1611\n",
       "4.0        247\n",
       "5.0         80\n",
       "6.0         46\n",
       "7.0         15\n",
       "8.0         10\n",
       "9.0          4\n",
       "13.0         4\n",
       "16.0         3\n",
       "10.0         3\n",
       "12.0         2\n",
       "17.0         2\n",
       "11.0         1\n",
       "33.0         1\n",
       "29.0         1\n",
       "Name: NumOffenses, dtype: int64"
      ]
     },
     "execution_count": 43,
     "metadata": {},
     "output_type": "execute_result"
    }
   ],
   "source": [
    "df.NumOffenses.value_counts(dropna=False)"
   ]
  },
  {
   "cell_type": "markdown",
   "metadata": {},
   "source": [
    "# Hour"
   ]
  },
  {
   "cell_type": "code",
   "execution_count": 44,
   "metadata": {},
   "outputs": [
    {
     "data": {
      "text/plain": [
       "25"
      ]
     },
     "execution_count": 44,
     "metadata": {},
     "output_type": "execute_result"
    }
   ],
   "source": [
    "len(df.Hour.unique())"
   ]
  },
  {
   "cell_type": "code",
   "execution_count": 45,
   "metadata": {},
   "outputs": [
    {
     "data": {
      "text/plain": [
       "array([ 7.,  3., 19., 22., 23., 10., 13., 16., 15., 17., 12.,  9., 14.,\n",
       "       11., 18.,  5.,  8.,  6.,  0., 20.,  2., 21.,  1.,  4., 24.])"
      ]
     },
     "execution_count": 45,
     "metadata": {},
     "output_type": "execute_result"
    }
   ],
   "source": [
    "df.Hour.unique()"
   ]
  },
  {
   "cell_type": "code",
   "execution_count": 46,
   "metadata": {},
   "outputs": [
    {
     "data": {
      "text/plain": [
       "18.0    57416\n",
       "12.0    57372\n",
       "17.0    55942\n",
       "15.0    55389\n",
       "16.0    53942\n",
       "19.0    52977\n",
       "14.0    52428\n",
       "20.0    51367\n",
       "13.0    49751\n",
       "22.0    48457\n",
       "10.0    48215\n",
       "11.0    47592\n",
       "21.0    47300\n",
       "9.0     45251\n",
       "8.0     44967\n",
       "0.0     43489\n",
       "23.0    39759\n",
       "7.0     36471\n",
       "1.0     24245\n",
       "6.0     24008\n",
       "2.0     22512\n",
       "3.0     17646\n",
       "5.0     15499\n",
       "4.0     14327\n",
       "24.0        4\n",
       "Name: Hour, dtype: int64"
      ]
     },
     "execution_count": 46,
     "metadata": {},
     "output_type": "execute_result"
    }
   ],
   "source": [
    "df.Hour.value_counts(dropna=False)  # need to  change 24 to 0"
   ]
  },
  {
   "cell_type": "markdown",
   "metadata": {},
   "source": [
    "### Cleanup Hour"
   ]
  },
  {
   "cell_type": "code",
   "execution_count": 47,
   "metadata": {},
   "outputs": [],
   "source": [
    "# change from 24 to 0\n",
    "\n",
    "df.Hour = df.Hour.replace(24,0)"
   ]
  },
  {
   "cell_type": "code",
   "execution_count": 48,
   "metadata": {},
   "outputs": [
    {
     "data": {
      "text/plain": [
       "24"
      ]
     },
     "execution_count": 48,
     "metadata": {},
     "output_type": "execute_result"
    }
   ],
   "source": [
    "len(df.Hour.unique())"
   ]
  },
  {
   "cell_type": "code",
   "execution_count": 49,
   "metadata": {},
   "outputs": [
    {
     "data": {
      "text/plain": [
       "array([ 7.,  3., 19., 22., 23., 10., 13., 16., 15., 17., 12.,  9., 14.,\n",
       "       11., 18.,  5.,  8.,  6.,  0., 20.,  2., 21.,  1.,  4.])"
      ]
     },
     "execution_count": 49,
     "metadata": {},
     "output_type": "execute_result"
    }
   ],
   "source": [
    "df.Hour.unique()"
   ]
  },
  {
   "cell_type": "code",
   "execution_count": 50,
   "metadata": {},
   "outputs": [
    {
     "data": {
      "text/plain": [
       "18.0    57416\n",
       "12.0    57372\n",
       "17.0    55942\n",
       "15.0    55389\n",
       "16.0    53942\n",
       "19.0    52977\n",
       "14.0    52428\n",
       "20.0    51367\n",
       "13.0    49751\n",
       "22.0    48457\n",
       "10.0    48215\n",
       "11.0    47592\n",
       "21.0    47300\n",
       "9.0     45251\n",
       "8.0     44967\n",
       "0.0     43493\n",
       "23.0    39759\n",
       "7.0     36471\n",
       "1.0     24245\n",
       "6.0     24008\n",
       "2.0     22512\n",
       "3.0     17646\n",
       "5.0     15499\n",
       "4.0     14327\n",
       "Name: Hour, dtype: int64"
      ]
     },
     "execution_count": 50,
     "metadata": {},
     "output_type": "execute_result"
    }
   ],
   "source": [
    "df.Hour.value_counts(dropna=False)"
   ]
  },
  {
   "cell_type": "markdown",
   "metadata": {},
   "source": [
    "# day"
   ]
  },
  {
   "cell_type": "code",
   "execution_count": 51,
   "metadata": {},
   "outputs": [
    {
     "data": {
      "text/plain": [
       "62"
      ]
     },
     "execution_count": 51,
     "metadata": {},
     "output_type": "execute_result"
    }
   ],
   "source": [
    "len(df.day.unique())"
   ]
  },
  {
   "cell_type": "code",
   "execution_count": 52,
   "metadata": {},
   "outputs": [
    {
     "data": {
      "text/plain": [
       "array([8, 2, 3, 5, 14, 24, 30, 29, 15, 25, 23, 6, 22, 20, 16, 18, 28, 26,\n",
       "       9, 31, 1, 27, 12, 17, 7, 21, 13, 10, 11, 19, 4, '16', '17', '18',\n",
       "       '19', '20', '21', '22', '23', '24', '25', '26', '27', '28', '29',\n",
       "       '30', '31', '01', '02', '03', '04', '05', '06', '07', '08', '09',\n",
       "       '10', '11', '12', '13', '14', '15'], dtype=object)"
      ]
     },
     "execution_count": 52,
     "metadata": {},
     "output_type": "execute_result"
    }
   ],
   "source": [
    "df.day.unique()"
   ]
  },
  {
   "cell_type": "code",
   "execution_count": 53,
   "metadata": {},
   "outputs": [
    {
     "data": {
      "text/plain": [
       "1     34753\n",
       "15    32135\n",
       "20    31828\n",
       "16    31651\n",
       "2     31584\n",
       "Name: day, dtype: int64"
      ]
     },
     "execution_count": 53,
     "metadata": {},
     "output_type": "execute_result"
    }
   ],
   "source": [
    "df.day.value_counts(dropna=False).head()"
   ]
  },
  {
   "cell_type": "code",
   "execution_count": 54,
   "metadata": {},
   "outputs": [],
   "source": [
    "df.day = pd.to_numeric(df.day)"
   ]
  },
  {
   "cell_type": "code",
   "execution_count": 55,
   "metadata": {},
   "outputs": [
    {
     "data": {
      "text/plain": [
       "31"
      ]
     },
     "execution_count": 55,
     "metadata": {},
     "output_type": "execute_result"
    }
   ],
   "source": [
    "len(df.day.unique())"
   ]
  },
  {
   "cell_type": "code",
   "execution_count": 56,
   "metadata": {},
   "outputs": [
    {
     "data": {
      "text/plain": [
       "array([ 8,  2,  3,  5, 14, 24, 30, 29, 15, 25, 23,  6, 22, 20, 16, 18, 28,\n",
       "       26,  9, 31,  1, 27, 12, 17,  7, 21, 13, 10, 11, 19,  4])"
      ]
     },
     "execution_count": 56,
     "metadata": {},
     "output_type": "execute_result"
    }
   ],
   "source": [
    "df.day.unique()"
   ]
  },
  {
   "cell_type": "code",
   "execution_count": 57,
   "metadata": {},
   "outputs": [
    {
     "data": {
      "text/plain": [
       "1     36483\n",
       "20    33865\n",
       "15    33814\n",
       "16    33367\n",
       "17    33318\n",
       "Name: day, dtype: int64"
      ]
     },
     "execution_count": 57,
     "metadata": {},
     "output_type": "execute_result"
    }
   ],
   "source": [
    "df.day.value_counts(dropna=False).head()"
   ]
  },
  {
   "cell_type": "markdown",
   "metadata": {},
   "source": [
    "# weekday"
   ]
  },
  {
   "cell_type": "code",
   "execution_count": 58,
   "metadata": {},
   "outputs": [
    {
     "data": {
      "text/plain": [
       "array(['Tuesday', 'Monday', 'Thursday', 'Saturday', 'Friday', 'Wednesday',\n",
       "       'Sunday'], dtype=object)"
      ]
     },
     "execution_count": 58,
     "metadata": {},
     "output_type": "execute_result"
    }
   ],
   "source": [
    "df.weekday.unique()"
   ]
  },
  {
   "cell_type": "code",
   "execution_count": 59,
   "metadata": {},
   "outputs": [
    {
     "data": {
      "text/plain": [
       "Friday       154377\n",
       "Monday       148218\n",
       "Thursday     144822\n",
       "Wednesday    144241\n",
       "Tuesday      143440\n",
       "Saturday     142584\n",
       "Sunday       128644\n",
       "Name: weekday, dtype: int64"
      ]
     },
     "execution_count": 59,
     "metadata": {},
     "output_type": "execute_result"
    }
   ],
   "source": [
    "df.weekday.value_counts(dropna=False)"
   ]
  },
  {
   "cell_type": "markdown",
   "metadata": {},
   "source": [
    "# month"
   ]
  },
  {
   "cell_type": "code",
   "execution_count": 60,
   "metadata": {},
   "outputs": [
    {
     "data": {
      "text/plain": [
       "array(['Sep', 'Nov', 'Dec', 'Jan', 'Apr', 'Jul', 'May', 'Jun', 'Aug',\n",
       "       'Oct', 'Feb', 'Mar'], dtype=object)"
      ]
     },
     "execution_count": 60,
     "metadata": {},
     "output_type": "execute_result"
    }
   ],
   "source": [
    "df.month.unique()"
   ]
  },
  {
   "cell_type": "code",
   "execution_count": 61,
   "metadata": {},
   "outputs": [
    {
     "data": {
      "text/plain": [
       "Jul    88958\n",
       "May    88471\n",
       "Aug    88283\n",
       "Dec    86742\n",
       "Jan    85867\n",
       "Oct    85075\n",
       "Apr    83205\n",
       "Jun    83013\n",
       "Sep    81957\n",
       "Nov    81739\n",
       "Mar    81307\n",
       "Feb    71709\n",
       "Name: month, dtype: int64"
      ]
     },
     "execution_count": 61,
     "metadata": {},
     "output_type": "execute_result"
    }
   ],
   "source": [
    "df.month.value_counts(dropna=False)"
   ]
  },
  {
   "cell_type": "markdown",
   "metadata": {},
   "source": [
    "# year"
   ]
  },
  {
   "cell_type": "code",
   "execution_count": 62,
   "metadata": {},
   "outputs": [
    {
     "data": {
      "text/plain": [
       "73"
      ]
     },
     "execution_count": 62,
     "metadata": {},
     "output_type": "execute_result"
    }
   ],
   "source": [
    "len(df.year.unique())"
   ]
  },
  {
   "cell_type": "code",
   "execution_count": 63,
   "metadata": {},
   "outputs": [
    {
     "data": {
      "text/plain": [
       "array([1914, 1915, 1916, 1917, 1918, 1919, 1920, 1921, 1924, 1926, 1927,\n",
       "       1953, 1959, 1963, 1964, 1965, 1966, 1969, 1970, 1971, 1972, 1973,\n",
       "       1974, 1975, 1976, 1977, 1978, 1979, 1980, 1981, 1982, 1983, 1984,\n",
       "       1985, 1986, 1987, 1988, 1989, 1990, 1991, 1992, 1993, 1994, 1995,\n",
       "       1996, 1997, 1998, 1999, 2000, 2001, 2002, 2003, 2004, 2005, 2006,\n",
       "       2007, 2008, 2009, 2010, 2011, 2012, 2013, 2014, '2014', 2015, 2016,\n",
       "       2017, 2019, '2019', 2020, 2021, 2029, 2033], dtype=object)"
      ]
     },
     "execution_count": 63,
     "metadata": {},
     "output_type": "execute_result"
    }
   ],
   "source": [
    "df.year.unique()"
   ]
  },
  {
   "cell_type": "code",
   "execution_count": 64,
   "metadata": {},
   "outputs": [
    {
     "data": {
      "text/plain": [
       "2010    136357\n",
       "2013    130200\n",
       "2012    127486\n",
       "2011    127168\n",
       "2016    122423\n",
       "2015    120079\n",
       "2017    118581\n",
       "2014     65242\n",
       "2014     56209\n",
       "2009      1596\n",
       "2008       195\n",
       "2001       146\n",
       "2007       109\n",
       "2005        98\n",
       "2006        87\n",
       "2000        56\n",
       "2004        53\n",
       "2003        40\n",
       "2002        28\n",
       "1999        12\n",
       "1993         9\n",
       "1980         9\n",
       "1915         8\n",
       "1995         8\n",
       "1998         7\n",
       "1916         6\n",
       "1992         6\n",
       "1977         6\n",
       "1990         6\n",
       "1989         5\n",
       "         ...  \n",
       "1987         3\n",
       "1974         2\n",
       "1982         2\n",
       "1997         2\n",
       "1969         2\n",
       "1973         2\n",
       "1965         2\n",
       "1976         2\n",
       "1978         2\n",
       "1986         2\n",
       "1985         2\n",
       "1981         2\n",
       "2033         1\n",
       "1924         1\n",
       "2029         1\n",
       "2021         1\n",
       "1918         1\n",
       "1919         1\n",
       "2020         1\n",
       "1921         1\n",
       "1984         1\n",
       "1926         1\n",
       "1927         1\n",
       "1953         1\n",
       "1959         1\n",
       "1963         1\n",
       "2019         1\n",
       "1970         1\n",
       "1975         1\n",
       "2019         1\n",
       "Name: year, Length: 73, dtype: int64"
      ]
     },
     "execution_count": 64,
     "metadata": {},
     "output_type": "execute_result"
    }
   ],
   "source": [
    "df.year.value_counts(dropna=False)"
   ]
  },
  {
   "cell_type": "code",
   "execution_count": 65,
   "metadata": {},
   "outputs": [],
   "source": [
    "df.year = pd.to_numeric(df.year)\n"
   ]
  },
  {
   "cell_type": "code",
   "execution_count": 66,
   "metadata": {},
   "outputs": [
    {
     "data": {
      "text/plain": [
       "71"
      ]
     },
     "execution_count": 66,
     "metadata": {},
     "output_type": "execute_result"
    }
   ],
   "source": [
    "len(df.year.unique())"
   ]
  },
  {
   "cell_type": "code",
   "execution_count": 67,
   "metadata": {},
   "outputs": [
    {
     "data": {
      "text/plain": [
       "array([1914, 1915, 1916, 1917, 1918, 1919, 1920, 1921, 1924, 1926, 1927,\n",
       "       1953, 1959, 1963, 1964, 1965, 1966, 1969, 1970, 1971, 1972, 1973,\n",
       "       1974, 1975, 1976, 1977, 1978, 1979, 1980, 1981, 1982, 1983, 1984,\n",
       "       1985, 1986, 1987, 1988, 1989, 1990, 1991, 1992, 1993, 1994, 1995,\n",
       "       1996, 1997, 1998, 1999, 2000, 2001, 2002, 2003, 2004, 2005, 2006,\n",
       "       2007, 2008, 2009, 2010, 2011, 2012, 2013, 2014, 2015, 2016, 2017,\n",
       "       2019, 2020, 2021, 2029, 2033])"
      ]
     },
     "execution_count": 67,
     "metadata": {},
     "output_type": "execute_result"
    }
   ],
   "source": [
    "df.year.unique()"
   ]
  },
  {
   "cell_type": "code",
   "execution_count": 68,
   "metadata": {},
   "outputs": [
    {
     "data": {
      "text/plain": [
       "2010    136357\n",
       "2013    130200\n",
       "2012    127486\n",
       "2011    127168\n",
       "2016    122423\n",
       "2014    121451\n",
       "2015    120079\n",
       "2017    118581\n",
       "2009      1596\n",
       "2008       195\n",
       "2001       146\n",
       "Name: year, dtype: int64"
      ]
     },
     "execution_count": 68,
     "metadata": {},
     "output_type": "execute_result"
    }
   ],
   "source": [
    "df.year.value_counts(dropna=False).head(11)"
   ]
  },
  {
   "cell_type": "code",
   "execution_count": 69,
   "metadata": {},
   "outputs": [
    {
     "name": "stdout",
     "output_type": "stream",
     "text": [
      "<class 'pandas.core.frame.DataFrame'>\n",
      "DatetimeIndex: 1006326 entries, 1914-09-08 to 2033-04-21\n",
      "Data columns (total 11 columns):\n",
      "Beat           1006326 non-null object\n",
      "BlockRange     1006169 non-null object\n",
      "StreetName     1006300 non-null object\n",
      "OffenseType    1006326 non-null object\n",
      "Premise        1006326 non-null object\n",
      "NumOffenses    1006326 non-null float64\n",
      "Hour           1006326 non-null float64\n",
      "day            1006326 non-null int64\n",
      "weekday        1006326 non-null object\n",
      "month          1006326 non-null object\n",
      "year           1006326 non-null int64\n",
      "dtypes: float64(2), int64(2), object(7)\n",
      "memory usage: 92.1+ MB\n"
     ]
    }
   ],
   "source": [
    "df.info()"
   ]
  },
  {
   "cell_type": "code",
   "execution_count": 70,
   "metadata": {},
   "outputs": [
    {
     "data": {
      "text/plain": [
       "180"
      ]
     },
     "execution_count": 70,
     "metadata": {},
     "output_type": "execute_result"
    }
   ],
   "source": [
    "len(df[df.isnull().any(axis=1)])"
   ]
  },
  {
   "cell_type": "code",
   "execution_count": 71,
   "metadata": {},
   "outputs": [
    {
     "data": {
      "text/html": [
       "<div>\n",
       "<style scoped>\n",
       "    .dataframe tbody tr th:only-of-type {\n",
       "        vertical-align: middle;\n",
       "    }\n",
       "\n",
       "    .dataframe tbody tr th {\n",
       "        vertical-align: top;\n",
       "    }\n",
       "\n",
       "    .dataframe thead th {\n",
       "        text-align: right;\n",
       "    }\n",
       "</style>\n",
       "<table border=\"1\" class=\"dataframe\">\n",
       "  <thead>\n",
       "    <tr style=\"text-align: right;\">\n",
       "      <th></th>\n",
       "      <th>Beat</th>\n",
       "      <th>BlockRange</th>\n",
       "      <th>StreetName</th>\n",
       "      <th>OffenseType</th>\n",
       "      <th>Premise</th>\n",
       "      <th>NumOffenses</th>\n",
       "      <th>Hour</th>\n",
       "      <th>day</th>\n",
       "      <th>weekday</th>\n",
       "      <th>month</th>\n",
       "      <th>year</th>\n",
       "    </tr>\n",
       "    <tr>\n",
       "      <th>Date</th>\n",
       "      <th></th>\n",
       "      <th></th>\n",
       "      <th></th>\n",
       "      <th></th>\n",
       "      <th></th>\n",
       "      <th></th>\n",
       "      <th></th>\n",
       "      <th></th>\n",
       "      <th></th>\n",
       "      <th></th>\n",
       "      <th></th>\n",
       "    </tr>\n",
       "  </thead>\n",
       "  <tbody>\n",
       "    <tr>\n",
       "      <th>2007-07-01</th>\n",
       "      <td>1A10</td>\n",
       "      <td>NaN</td>\n",
       "      <td>LITTLE YORK RD</td>\n",
       "      <td>Theft</td>\n",
       "      <td>No label</td>\n",
       "      <td>1.0</td>\n",
       "      <td>10.0</td>\n",
       "      <td>1</td>\n",
       "      <td>Sunday</td>\n",
       "      <td>Jul</td>\n",
       "      <td>2007</td>\n",
       "    </tr>\n",
       "    <tr>\n",
       "      <th>2013-06-11</th>\n",
       "      <td>1A10</td>\n",
       "      <td>NaN</td>\n",
       "      <td>HAYES</td>\n",
       "      <td>Theft</td>\n",
       "      <td>No label</td>\n",
       "      <td>1.0</td>\n",
       "      <td>11.0</td>\n",
       "      <td>11</td>\n",
       "      <td>Tuesday</td>\n",
       "      <td>Jun</td>\n",
       "      <td>2013</td>\n",
       "    </tr>\n",
       "    <tr>\n",
       "      <th>2013-06-29</th>\n",
       "      <td>1A10</td>\n",
       "      <td>NaN</td>\n",
       "      <td>RUSK</td>\n",
       "      <td>Theft</td>\n",
       "      <td>No label</td>\n",
       "      <td>1.0</td>\n",
       "      <td>15.0</td>\n",
       "      <td>29</td>\n",
       "      <td>Saturday</td>\n",
       "      <td>Jun</td>\n",
       "      <td>2013</td>\n",
       "    </tr>\n",
       "    <tr>\n",
       "      <th>2013-11-23</th>\n",
       "      <td>1A10</td>\n",
       "      <td>NaN</td>\n",
       "      <td>METROPOLITAN</td>\n",
       "      <td>Theft</td>\n",
       "      <td>No label</td>\n",
       "      <td>1.0</td>\n",
       "      <td>8.0</td>\n",
       "      <td>23</td>\n",
       "      <td>Saturday</td>\n",
       "      <td>Nov</td>\n",
       "      <td>2013</td>\n",
       "    </tr>\n",
       "    <tr>\n",
       "      <th>2014-01-01</th>\n",
       "      <td>1A10</td>\n",
       "      <td>NaN</td>\n",
       "      <td>TIDWELL RD</td>\n",
       "      <td>Theft</td>\n",
       "      <td>No label</td>\n",
       "      <td>1.0</td>\n",
       "      <td>13.0</td>\n",
       "      <td>1</td>\n",
       "      <td>Wednesday</td>\n",
       "      <td>Jan</td>\n",
       "      <td>2014</td>\n",
       "    </tr>\n",
       "    <tr>\n",
       "      <th>2014-04-21</th>\n",
       "      <td>1A10</td>\n",
       "      <td>NaN</td>\n",
       "      <td>HUNTINGTON VENTURE DR</td>\n",
       "      <td>Theft</td>\n",
       "      <td>No label</td>\n",
       "      <td>1.0</td>\n",
       "      <td>14.0</td>\n",
       "      <td>21</td>\n",
       "      <td>Monday</td>\n",
       "      <td>Apr</td>\n",
       "      <td>2014</td>\n",
       "    </tr>\n",
       "    <tr>\n",
       "      <th>2014-04-26</th>\n",
       "      <td>1A10</td>\n",
       "      <td>NaN</td>\n",
       "      <td>JENSEN DR / SAUNDERS</td>\n",
       "      <td>Theft</td>\n",
       "      <td>No label</td>\n",
       "      <td>1.0</td>\n",
       "      <td>11.0</td>\n",
       "      <td>26</td>\n",
       "      <td>Saturday</td>\n",
       "      <td>Apr</td>\n",
       "      <td>2014</td>\n",
       "    </tr>\n",
       "    <tr>\n",
       "      <th>2014-05-05</th>\n",
       "      <td>3B40</td>\n",
       "      <td>UNK</td>\n",
       "      <td>NaN</td>\n",
       "      <td>Theft</td>\n",
       "      <td>No label</td>\n",
       "      <td>1.0</td>\n",
       "      <td>11.0</td>\n",
       "      <td>5</td>\n",
       "      <td>Monday</td>\n",
       "      <td>May</td>\n",
       "      <td>2014</td>\n",
       "    </tr>\n",
       "    <tr>\n",
       "      <th>2014-05-08</th>\n",
       "      <td>1A10</td>\n",
       "      <td>NaN</td>\n",
       "      <td>LOCKWOOD</td>\n",
       "      <td>Theft</td>\n",
       "      <td>No label</td>\n",
       "      <td>1.0</td>\n",
       "      <td>12.0</td>\n",
       "      <td>8</td>\n",
       "      <td>Thursday</td>\n",
       "      <td>May</td>\n",
       "      <td>2014</td>\n",
       "    </tr>\n",
       "    <tr>\n",
       "      <th>2014-05-16</th>\n",
       "      <td>1A10</td>\n",
       "      <td>NaN</td>\n",
       "      <td>HOLLY HALL</td>\n",
       "      <td>Theft</td>\n",
       "      <td>No label</td>\n",
       "      <td>1.0</td>\n",
       "      <td>8.0</td>\n",
       "      <td>16</td>\n",
       "      <td>Friday</td>\n",
       "      <td>May</td>\n",
       "      <td>2014</td>\n",
       "    </tr>\n",
       "    <tr>\n",
       "      <th>2014-05-16</th>\n",
       "      <td>1A10</td>\n",
       "      <td>NaN</td>\n",
       "      <td>W SAM HOUSTON PKWY OB TO SOUTH</td>\n",
       "      <td>Theft</td>\n",
       "      <td>No label</td>\n",
       "      <td>1.0</td>\n",
       "      <td>12.0</td>\n",
       "      <td>16</td>\n",
       "      <td>Friday</td>\n",
       "      <td>May</td>\n",
       "      <td>2014</td>\n",
       "    </tr>\n",
       "    <tr>\n",
       "      <th>2014-05-26</th>\n",
       "      <td>1A10</td>\n",
       "      <td>NaN</td>\n",
       "      <td>HOMESTEAD</td>\n",
       "      <td>Theft</td>\n",
       "      <td>No label</td>\n",
       "      <td>1.0</td>\n",
       "      <td>12.0</td>\n",
       "      <td>26</td>\n",
       "      <td>Monday</td>\n",
       "      <td>May</td>\n",
       "      <td>2014</td>\n",
       "    </tr>\n",
       "    <tr>\n",
       "      <th>2014-05-29</th>\n",
       "      <td>1A10</td>\n",
       "      <td>NaN</td>\n",
       "      <td>AIRLINE DR / WEST</td>\n",
       "      <td>Theft</td>\n",
       "      <td>No label</td>\n",
       "      <td>1.0</td>\n",
       "      <td>12.0</td>\n",
       "      <td>29</td>\n",
       "      <td>Thursday</td>\n",
       "      <td>May</td>\n",
       "      <td>2014</td>\n",
       "    </tr>\n",
       "    <tr>\n",
       "      <th>2014-05-31</th>\n",
       "      <td>1A10</td>\n",
       "      <td>NaN</td>\n",
       "      <td>TIDWELL</td>\n",
       "      <td>Theft</td>\n",
       "      <td>No label</td>\n",
       "      <td>1.0</td>\n",
       "      <td>16.0</td>\n",
       "      <td>31</td>\n",
       "      <td>Saturday</td>\n",
       "      <td>May</td>\n",
       "      <td>2014</td>\n",
       "    </tr>\n",
       "    <tr>\n",
       "      <th>2014-06-03</th>\n",
       "      <td>1A10</td>\n",
       "      <td>NaN</td>\n",
       "      <td>SAM HOUSTON PKWY / POST OAK RD</td>\n",
       "      <td>Theft</td>\n",
       "      <td>No label</td>\n",
       "      <td>1.0</td>\n",
       "      <td>11.0</td>\n",
       "      <td>3</td>\n",
       "      <td>Tuesday</td>\n",
       "      <td>Jun</td>\n",
       "      <td>2014</td>\n",
       "    </tr>\n",
       "    <tr>\n",
       "      <th>2014-06-03</th>\n",
       "      <td>1A10</td>\n",
       "      <td>NaN</td>\n",
       "      <td>26TH ST / BEVIS ST</td>\n",
       "      <td>Theft</td>\n",
       "      <td>No label</td>\n",
       "      <td>1.0</td>\n",
       "      <td>17.0</td>\n",
       "      <td>3</td>\n",
       "      <td>Tuesday</td>\n",
       "      <td>Jun</td>\n",
       "      <td>2014</td>\n",
       "    </tr>\n",
       "    <tr>\n",
       "      <th>2014-06-04</th>\n",
       "      <td>1A10</td>\n",
       "      <td>NaN</td>\n",
       "      <td>RICHMOND AVE #112</td>\n",
       "      <td>Theft</td>\n",
       "      <td>No label</td>\n",
       "      <td>1.0</td>\n",
       "      <td>14.0</td>\n",
       "      <td>4</td>\n",
       "      <td>Wednesday</td>\n",
       "      <td>Jun</td>\n",
       "      <td>2014</td>\n",
       "    </tr>\n",
       "    <tr>\n",
       "      <th>2014-06-05</th>\n",
       "      <td>1A10</td>\n",
       "      <td>NaN</td>\n",
       "      <td>RECORD / TREMONT</td>\n",
       "      <td>Theft</td>\n",
       "      <td>No label</td>\n",
       "      <td>1.0</td>\n",
       "      <td>22.0</td>\n",
       "      <td>5</td>\n",
       "      <td>Thursday</td>\n",
       "      <td>Jun</td>\n",
       "      <td>2014</td>\n",
       "    </tr>\n",
       "    <tr>\n",
       "      <th>2014-06-06</th>\n",
       "      <td>1A10</td>\n",
       "      <td>NaN</td>\n",
       "      <td>EL CAMINO REAL / RESEDA</td>\n",
       "      <td>Theft</td>\n",
       "      <td>No label</td>\n",
       "      <td>1.0</td>\n",
       "      <td>14.0</td>\n",
       "      <td>6</td>\n",
       "      <td>Friday</td>\n",
       "      <td>Jun</td>\n",
       "      <td>2014</td>\n",
       "    </tr>\n",
       "    <tr>\n",
       "      <th>2014-06-07</th>\n",
       "      <td>1A10</td>\n",
       "      <td>NaN</td>\n",
       "      <td>WEAVER / LOCKWOOD DR</td>\n",
       "      <td>Theft</td>\n",
       "      <td>No label</td>\n",
       "      <td>1.0</td>\n",
       "      <td>12.0</td>\n",
       "      <td>7</td>\n",
       "      <td>Saturday</td>\n",
       "      <td>Jun</td>\n",
       "      <td>2014</td>\n",
       "    </tr>\n",
       "    <tr>\n",
       "      <th>2014-06-07</th>\n",
       "      <td>1A10</td>\n",
       "      <td>NaN</td>\n",
       "      <td>MCKINNEY ST / BAGBY ST</td>\n",
       "      <td>Theft</td>\n",
       "      <td>No label</td>\n",
       "      <td>1.0</td>\n",
       "      <td>12.0</td>\n",
       "      <td>7</td>\n",
       "      <td>Saturday</td>\n",
       "      <td>Jun</td>\n",
       "      <td>2014</td>\n",
       "    </tr>\n",
       "    <tr>\n",
       "      <th>2014-06-08</th>\n",
       "      <td>1A10</td>\n",
       "      <td>NaN</td>\n",
       "      <td>DEL RIO ST / DIXIE DR</td>\n",
       "      <td>Theft</td>\n",
       "      <td>No label</td>\n",
       "      <td>1.0</td>\n",
       "      <td>22.0</td>\n",
       "      <td>8</td>\n",
       "      <td>Sunday</td>\n",
       "      <td>Jun</td>\n",
       "      <td>2014</td>\n",
       "    </tr>\n",
       "    <tr>\n",
       "      <th>2014-06-08</th>\n",
       "      <td>1A10</td>\n",
       "      <td>NaN</td>\n",
       "      <td>DEL RIO ST / DIXIE DR</td>\n",
       "      <td>Theft</td>\n",
       "      <td>No label</td>\n",
       "      <td>1.0</td>\n",
       "      <td>15.0</td>\n",
       "      <td>8</td>\n",
       "      <td>Sunday</td>\n",
       "      <td>Jun</td>\n",
       "      <td>2014</td>\n",
       "    </tr>\n",
       "    <tr>\n",
       "      <th>2014-06-10</th>\n",
       "      <td>1A10</td>\n",
       "      <td>NaN</td>\n",
       "      <td>JENSEN</td>\n",
       "      <td>Theft</td>\n",
       "      <td>No label</td>\n",
       "      <td>1.0</td>\n",
       "      <td>13.0</td>\n",
       "      <td>10</td>\n",
       "      <td>Tuesday</td>\n",
       "      <td>Jun</td>\n",
       "      <td>2014</td>\n",
       "    </tr>\n",
       "    <tr>\n",
       "      <th>2014-06-10</th>\n",
       "      <td>1A10</td>\n",
       "      <td>NaN</td>\n",
       "      <td>CAMDEN #2030</td>\n",
       "      <td>Theft</td>\n",
       "      <td>No label</td>\n",
       "      <td>1.0</td>\n",
       "      <td>5.0</td>\n",
       "      <td>10</td>\n",
       "      <td>Tuesday</td>\n",
       "      <td>Jun</td>\n",
       "      <td>2014</td>\n",
       "    </tr>\n",
       "    <tr>\n",
       "      <th>2014-06-10</th>\n",
       "      <td>1A10</td>\n",
       "      <td>NaN</td>\n",
       "      <td>KATY FWY IB TO BLALOCK UTURN</td>\n",
       "      <td>Theft</td>\n",
       "      <td>No label</td>\n",
       "      <td>1.0</td>\n",
       "      <td>13.0</td>\n",
       "      <td>10</td>\n",
       "      <td>Tuesday</td>\n",
       "      <td>Jun</td>\n",
       "      <td>2014</td>\n",
       "    </tr>\n",
       "    <tr>\n",
       "      <th>2014-06-11</th>\n",
       "      <td>1A10</td>\n",
       "      <td>NaN</td>\n",
       "      <td>MAIN ST / CAPITOL ST</td>\n",
       "      <td>Theft</td>\n",
       "      <td>No label</td>\n",
       "      <td>1.0</td>\n",
       "      <td>16.0</td>\n",
       "      <td>11</td>\n",
       "      <td>Wednesday</td>\n",
       "      <td>Jun</td>\n",
       "      <td>2014</td>\n",
       "    </tr>\n",
       "    <tr>\n",
       "      <th>2014-06-11</th>\n",
       "      <td>1A10</td>\n",
       "      <td>NaN</td>\n",
       "      <td>CUMMINS ST</td>\n",
       "      <td>Theft</td>\n",
       "      <td>No label</td>\n",
       "      <td>1.0</td>\n",
       "      <td>19.0</td>\n",
       "      <td>11</td>\n",
       "      <td>Wednesday</td>\n",
       "      <td>Jun</td>\n",
       "      <td>2014</td>\n",
       "    </tr>\n",
       "    <tr>\n",
       "      <th>2014-06-12</th>\n",
       "      <td>1A10</td>\n",
       "      <td>NaN</td>\n",
       "      <td>WEST LANE</td>\n",
       "      <td>Theft</td>\n",
       "      <td>No label</td>\n",
       "      <td>1.0</td>\n",
       "      <td>13.0</td>\n",
       "      <td>12</td>\n",
       "      <td>Thursday</td>\n",
       "      <td>Jun</td>\n",
       "      <td>2014</td>\n",
       "    </tr>\n",
       "    <tr>\n",
       "      <th>2014-06-12</th>\n",
       "      <td>1A10</td>\n",
       "      <td>NaN</td>\n",
       "      <td>N LOOP E EXIT</td>\n",
       "      <td>Theft</td>\n",
       "      <td>No label</td>\n",
       "      <td>1.0</td>\n",
       "      <td>21.0</td>\n",
       "      <td>12</td>\n",
       "      <td>Thursday</td>\n",
       "      <td>Jun</td>\n",
       "      <td>2014</td>\n",
       "    </tr>\n",
       "    <tr>\n",
       "      <th>...</th>\n",
       "      <td>...</td>\n",
       "      <td>...</td>\n",
       "      <td>...</td>\n",
       "      <td>...</td>\n",
       "      <td>...</td>\n",
       "      <td>...</td>\n",
       "      <td>...</td>\n",
       "      <td>...</td>\n",
       "      <td>...</td>\n",
       "      <td>...</td>\n",
       "      <td>...</td>\n",
       "    </tr>\n",
       "    <tr>\n",
       "      <th>2014-07-23</th>\n",
       "      <td>1A10</td>\n",
       "      <td>NaN</td>\n",
       "      <td>HAYES #614</td>\n",
       "      <td>Burglary</td>\n",
       "      <td>No label</td>\n",
       "      <td>1.0</td>\n",
       "      <td>22.0</td>\n",
       "      <td>23</td>\n",
       "      <td>Wednesday</td>\n",
       "      <td>Jul</td>\n",
       "      <td>2014</td>\n",
       "    </tr>\n",
       "    <tr>\n",
       "      <th>2014-07-24</th>\n",
       "      <td>1A10</td>\n",
       "      <td>NaN</td>\n",
       "      <td>USENER</td>\n",
       "      <td>Theft</td>\n",
       "      <td>No label</td>\n",
       "      <td>1.0</td>\n",
       "      <td>7.0</td>\n",
       "      <td>24</td>\n",
       "      <td>Thursday</td>\n",
       "      <td>Jul</td>\n",
       "      <td>2014</td>\n",
       "    </tr>\n",
       "    <tr>\n",
       "      <th>2014-07-24</th>\n",
       "      <td>20G50</td>\n",
       "      <td>NaN</td>\n",
       "      <td>864A WAX MYRTLE</td>\n",
       "      <td>Theft</td>\n",
       "      <td>No label</td>\n",
       "      <td>1.0</td>\n",
       "      <td>20.0</td>\n",
       "      <td>24</td>\n",
       "      <td>Thursday</td>\n",
       "      <td>Jul</td>\n",
       "      <td>2014</td>\n",
       "    </tr>\n",
       "    <tr>\n",
       "      <th>2014-07-27</th>\n",
       "      <td>7C10</td>\n",
       "      <td>2600-2699</td>\n",
       "      <td>NaN</td>\n",
       "      <td>Theft</td>\n",
       "      <td>No label</td>\n",
       "      <td>1.0</td>\n",
       "      <td>9.0</td>\n",
       "      <td>27</td>\n",
       "      <td>Sunday</td>\n",
       "      <td>Jul</td>\n",
       "      <td>2014</td>\n",
       "    </tr>\n",
       "    <tr>\n",
       "      <th>2014-07-27</th>\n",
       "      <td>10H10</td>\n",
       "      <td>NaN</td>\n",
       "      <td>212.5 LENOX</td>\n",
       "      <td>Burglary</td>\n",
       "      <td>No label</td>\n",
       "      <td>1.0</td>\n",
       "      <td>7.0</td>\n",
       "      <td>27</td>\n",
       "      <td>Sunday</td>\n",
       "      <td>Jul</td>\n",
       "      <td>2014</td>\n",
       "    </tr>\n",
       "    <tr>\n",
       "      <th>2014-07-28</th>\n",
       "      <td>1A10</td>\n",
       "      <td>NaN</td>\n",
       "      <td>STELLA LINK</td>\n",
       "      <td>Theft</td>\n",
       "      <td>No label</td>\n",
       "      <td>1.0</td>\n",
       "      <td>11.0</td>\n",
       "      <td>28</td>\n",
       "      <td>Monday</td>\n",
       "      <td>Jul</td>\n",
       "      <td>2014</td>\n",
       "    </tr>\n",
       "    <tr>\n",
       "      <th>2014-07-28</th>\n",
       "      <td>2A50</td>\n",
       "      <td>NaN</td>\n",
       "      <td>HEIGHTS ENT</td>\n",
       "      <td>Theft</td>\n",
       "      <td>No label</td>\n",
       "      <td>1.0</td>\n",
       "      <td>23.0</td>\n",
       "      <td>28</td>\n",
       "      <td>Monday</td>\n",
       "      <td>Jul</td>\n",
       "      <td>2014</td>\n",
       "    </tr>\n",
       "    <tr>\n",
       "      <th>2014-07-29</th>\n",
       "      <td>1A10</td>\n",
       "      <td>NaN</td>\n",
       "      <td>JFK TO NBW8 UTURN</td>\n",
       "      <td>Theft</td>\n",
       "      <td>No label</td>\n",
       "      <td>1.0</td>\n",
       "      <td>21.0</td>\n",
       "      <td>29</td>\n",
       "      <td>Tuesday</td>\n",
       "      <td>Jul</td>\n",
       "      <td>2014</td>\n",
       "    </tr>\n",
       "    <tr>\n",
       "      <th>2014-07-31</th>\n",
       "      <td>1A10</td>\n",
       "      <td>NaN</td>\n",
       "      <td>BEECHNUT</td>\n",
       "      <td>Theft</td>\n",
       "      <td>No label</td>\n",
       "      <td>1.0</td>\n",
       "      <td>22.0</td>\n",
       "      <td>31</td>\n",
       "      <td>Thursday</td>\n",
       "      <td>Jul</td>\n",
       "      <td>2014</td>\n",
       "    </tr>\n",
       "    <tr>\n",
       "      <th>2014-07-31</th>\n",
       "      <td>12D10</td>\n",
       "      <td>NaN</td>\n",
       "      <td>EDGEBROOK</td>\n",
       "      <td>Theft</td>\n",
       "      <td>No label</td>\n",
       "      <td>1.0</td>\n",
       "      <td>17.0</td>\n",
       "      <td>31</td>\n",
       "      <td>Thursday</td>\n",
       "      <td>Jul</td>\n",
       "      <td>2014</td>\n",
       "    </tr>\n",
       "    <tr>\n",
       "      <th>2014-07-31</th>\n",
       "      <td>1A20</td>\n",
       "      <td>NaN</td>\n",
       "      <td>3408.5 ROSELAND</td>\n",
       "      <td>Robbery</td>\n",
       "      <td>No label</td>\n",
       "      <td>1.0</td>\n",
       "      <td>5.0</td>\n",
       "      <td>31</td>\n",
       "      <td>Thursday</td>\n",
       "      <td>Jul</td>\n",
       "      <td>2014</td>\n",
       "    </tr>\n",
       "    <tr>\n",
       "      <th>2014-08-06</th>\n",
       "      <td>1A20</td>\n",
       "      <td>UNK</td>\n",
       "      <td>NaN</td>\n",
       "      <td>Theft</td>\n",
       "      <td>No label</td>\n",
       "      <td>1.0</td>\n",
       "      <td>17.0</td>\n",
       "      <td>6</td>\n",
       "      <td>Wednesday</td>\n",
       "      <td>Aug</td>\n",
       "      <td>2014</td>\n",
       "    </tr>\n",
       "    <tr>\n",
       "      <th>2014-08-08</th>\n",
       "      <td>2A30</td>\n",
       "      <td>UNK</td>\n",
       "      <td>NaN</td>\n",
       "      <td>Theft</td>\n",
       "      <td>Residence or House</td>\n",
       "      <td>1.0</td>\n",
       "      <td>14.0</td>\n",
       "      <td>8</td>\n",
       "      <td>Friday</td>\n",
       "      <td>Aug</td>\n",
       "      <td>2014</td>\n",
       "    </tr>\n",
       "    <tr>\n",
       "      <th>2014-08-15</th>\n",
       "      <td>2A30</td>\n",
       "      <td>UNK</td>\n",
       "      <td>NaN</td>\n",
       "      <td>Burglary</td>\n",
       "      <td>Garage or Carport</td>\n",
       "      <td>1.0</td>\n",
       "      <td>6.0</td>\n",
       "      <td>15</td>\n",
       "      <td>Friday</td>\n",
       "      <td>Aug</td>\n",
       "      <td>2014</td>\n",
       "    </tr>\n",
       "    <tr>\n",
       "      <th>2014-08-15</th>\n",
       "      <td>2A30</td>\n",
       "      <td>UNK</td>\n",
       "      <td>NaN</td>\n",
       "      <td>Auto Theft</td>\n",
       "      <td>Apartment Parking Lot</td>\n",
       "      <td>1.0</td>\n",
       "      <td>15.0</td>\n",
       "      <td>15</td>\n",
       "      <td>Friday</td>\n",
       "      <td>Aug</td>\n",
       "      <td>2014</td>\n",
       "    </tr>\n",
       "    <tr>\n",
       "      <th>2014-08-18</th>\n",
       "      <td>2A30</td>\n",
       "      <td>UNK</td>\n",
       "      <td>NaN</td>\n",
       "      <td>Burglary</td>\n",
       "      <td>Residence or House</td>\n",
       "      <td>1.0</td>\n",
       "      <td>20.0</td>\n",
       "      <td>18</td>\n",
       "      <td>Monday</td>\n",
       "      <td>Aug</td>\n",
       "      <td>2014</td>\n",
       "    </tr>\n",
       "    <tr>\n",
       "      <th>2014-08-21</th>\n",
       "      <td>2A30</td>\n",
       "      <td>UNK</td>\n",
       "      <td>NaN</td>\n",
       "      <td>Theft</td>\n",
       "      <td>Residence or House</td>\n",
       "      <td>1.0</td>\n",
       "      <td>12.0</td>\n",
       "      <td>21</td>\n",
       "      <td>Thursday</td>\n",
       "      <td>Aug</td>\n",
       "      <td>2014</td>\n",
       "    </tr>\n",
       "    <tr>\n",
       "      <th>2014-09-04</th>\n",
       "      <td>2A30</td>\n",
       "      <td>UNK</td>\n",
       "      <td>NaN</td>\n",
       "      <td>Burglary</td>\n",
       "      <td>Residence or House</td>\n",
       "      <td>1.0</td>\n",
       "      <td>7.0</td>\n",
       "      <td>4</td>\n",
       "      <td>Thursday</td>\n",
       "      <td>Sep</td>\n",
       "      <td>2014</td>\n",
       "    </tr>\n",
       "    <tr>\n",
       "      <th>2014-09-13</th>\n",
       "      <td>3B40</td>\n",
       "      <td>UNK</td>\n",
       "      <td>NaN</td>\n",
       "      <td>Burglary</td>\n",
       "      <td>Residence or House</td>\n",
       "      <td>1.0</td>\n",
       "      <td>0.0</td>\n",
       "      <td>13</td>\n",
       "      <td>Saturday</td>\n",
       "      <td>Sep</td>\n",
       "      <td>2014</td>\n",
       "    </tr>\n",
       "    <tr>\n",
       "      <th>2014-09-25</th>\n",
       "      <td>2A30</td>\n",
       "      <td>UNK</td>\n",
       "      <td>NaN</td>\n",
       "      <td>Theft</td>\n",
       "      <td>Road, Street, or Sidewalk</td>\n",
       "      <td>1.0</td>\n",
       "      <td>8.0</td>\n",
       "      <td>25</td>\n",
       "      <td>Thursday</td>\n",
       "      <td>Sep</td>\n",
       "      <td>2014</td>\n",
       "    </tr>\n",
       "    <tr>\n",
       "      <th>2014-10-10</th>\n",
       "      <td>16E10</td>\n",
       "      <td>UNK</td>\n",
       "      <td>NaN</td>\n",
       "      <td>Theft</td>\n",
       "      <td>Residence or House</td>\n",
       "      <td>1.0</td>\n",
       "      <td>12.0</td>\n",
       "      <td>10</td>\n",
       "      <td>Friday</td>\n",
       "      <td>Oct</td>\n",
       "      <td>2014</td>\n",
       "    </tr>\n",
       "    <tr>\n",
       "      <th>2014-10-15</th>\n",
       "      <td>2A30</td>\n",
       "      <td>UNK</td>\n",
       "      <td>NaN</td>\n",
       "      <td>Theft</td>\n",
       "      <td>Residence or House</td>\n",
       "      <td>1.0</td>\n",
       "      <td>20.0</td>\n",
       "      <td>15</td>\n",
       "      <td>Wednesday</td>\n",
       "      <td>Oct</td>\n",
       "      <td>2014</td>\n",
       "    </tr>\n",
       "    <tr>\n",
       "      <th>2014-10-16</th>\n",
       "      <td>11H10</td>\n",
       "      <td>UNK</td>\n",
       "      <td>NaN</td>\n",
       "      <td>Burglary</td>\n",
       "      <td>Residence or House</td>\n",
       "      <td>1.0</td>\n",
       "      <td>21.0</td>\n",
       "      <td>16</td>\n",
       "      <td>Thursday</td>\n",
       "      <td>Oct</td>\n",
       "      <td>2014</td>\n",
       "    </tr>\n",
       "    <tr>\n",
       "      <th>2014-11-09</th>\n",
       "      <td>2A30</td>\n",
       "      <td>UNK</td>\n",
       "      <td>NaN</td>\n",
       "      <td>Theft</td>\n",
       "      <td>Road, Street, or Sidewalk</td>\n",
       "      <td>1.0</td>\n",
       "      <td>1.0</td>\n",
       "      <td>9</td>\n",
       "      <td>Sunday</td>\n",
       "      <td>Nov</td>\n",
       "      <td>2014</td>\n",
       "    </tr>\n",
       "    <tr>\n",
       "      <th>2014-11-11</th>\n",
       "      <td>2A30</td>\n",
       "      <td>UNK</td>\n",
       "      <td>NaN</td>\n",
       "      <td>Aggravated Assault</td>\n",
       "      <td>Road, Street, or Sidewalk</td>\n",
       "      <td>1.0</td>\n",
       "      <td>18.0</td>\n",
       "      <td>11</td>\n",
       "      <td>Tuesday</td>\n",
       "      <td>Nov</td>\n",
       "      <td>2014</td>\n",
       "    </tr>\n",
       "    <tr>\n",
       "      <th>2014-12-16</th>\n",
       "      <td>17E40</td>\n",
       "      <td>UNK</td>\n",
       "      <td>NaN</td>\n",
       "      <td>Aggravated Assault</td>\n",
       "      <td>Miscellaneous Business (Non-Specific)</td>\n",
       "      <td>1.0</td>\n",
       "      <td>15.0</td>\n",
       "      <td>16</td>\n",
       "      <td>Tuesday</td>\n",
       "      <td>Dec</td>\n",
       "      <td>2014</td>\n",
       "    </tr>\n",
       "    <tr>\n",
       "      <th>2014-12-22</th>\n",
       "      <td>2A30</td>\n",
       "      <td>UNK</td>\n",
       "      <td>NaN</td>\n",
       "      <td>Burglary</td>\n",
       "      <td>Residence or House</td>\n",
       "      <td>1.0</td>\n",
       "      <td>18.0</td>\n",
       "      <td>22</td>\n",
       "      <td>Monday</td>\n",
       "      <td>Dec</td>\n",
       "      <td>2014</td>\n",
       "    </tr>\n",
       "    <tr>\n",
       "      <th>2014-12-22</th>\n",
       "      <td>2A30</td>\n",
       "      <td>UNK</td>\n",
       "      <td>NaN</td>\n",
       "      <td>Burglary</td>\n",
       "      <td>Residence or House</td>\n",
       "      <td>1.0</td>\n",
       "      <td>17.0</td>\n",
       "      <td>22</td>\n",
       "      <td>Monday</td>\n",
       "      <td>Dec</td>\n",
       "      <td>2014</td>\n",
       "    </tr>\n",
       "    <tr>\n",
       "      <th>2017-05-04</th>\n",
       "      <td>8C10</td>\n",
       "      <td>9400-9499</td>\n",
       "      <td>NaN</td>\n",
       "      <td>Theft</td>\n",
       "      <td>Service or Gas Station</td>\n",
       "      <td>1.0</td>\n",
       "      <td>22.0</td>\n",
       "      <td>4</td>\n",
       "      <td>Thursday</td>\n",
       "      <td>May</td>\n",
       "      <td>2017</td>\n",
       "    </tr>\n",
       "    <tr>\n",
       "      <th>2017-05-13</th>\n",
       "      <td>20G10</td>\n",
       "      <td>10300-10399</td>\n",
       "      <td>NaN</td>\n",
       "      <td>Aggravated Assault</td>\n",
       "      <td>Restaurant or Cafeteria</td>\n",
       "      <td>1.0</td>\n",
       "      <td>9.0</td>\n",
       "      <td>13</td>\n",
       "      <td>Saturday</td>\n",
       "      <td>May</td>\n",
       "      <td>2017</td>\n",
       "    </tr>\n",
       "  </tbody>\n",
       "</table>\n",
       "<p>180 rows × 11 columns</p>\n",
       "</div>"
      ],
      "text/plain": [
       "             Beat   BlockRange                      StreetName  \\\n",
       "Date                                                             \n",
       "2007-07-01   1A10          NaN                  LITTLE YORK RD   \n",
       "2013-06-11   1A10          NaN                           HAYES   \n",
       "2013-06-29   1A10          NaN                            RUSK   \n",
       "2013-11-23   1A10          NaN                    METROPOLITAN   \n",
       "2014-01-01   1A10          NaN                      TIDWELL RD   \n",
       "2014-04-21   1A10          NaN           HUNTINGTON VENTURE DR   \n",
       "2014-04-26   1A10          NaN            JENSEN DR / SAUNDERS   \n",
       "2014-05-05   3B40          UNK                             NaN   \n",
       "2014-05-08   1A10          NaN                        LOCKWOOD   \n",
       "2014-05-16   1A10          NaN                      HOLLY HALL   \n",
       "2014-05-16   1A10          NaN  W SAM HOUSTON PKWY OB TO SOUTH   \n",
       "2014-05-26   1A10          NaN                       HOMESTEAD   \n",
       "2014-05-29   1A10          NaN               AIRLINE DR / WEST   \n",
       "2014-05-31   1A10          NaN                         TIDWELL   \n",
       "2014-06-03   1A10          NaN  SAM HOUSTON PKWY / POST OAK RD   \n",
       "2014-06-03   1A10          NaN              26TH ST / BEVIS ST   \n",
       "2014-06-04   1A10          NaN               RICHMOND AVE #112   \n",
       "2014-06-05   1A10          NaN                RECORD / TREMONT   \n",
       "2014-06-06   1A10          NaN         EL CAMINO REAL / RESEDA   \n",
       "2014-06-07   1A10          NaN            WEAVER / LOCKWOOD DR   \n",
       "2014-06-07   1A10          NaN          MCKINNEY ST / BAGBY ST   \n",
       "2014-06-08   1A10          NaN           DEL RIO ST / DIXIE DR   \n",
       "2014-06-08   1A10          NaN           DEL RIO ST / DIXIE DR   \n",
       "2014-06-10   1A10          NaN                          JENSEN   \n",
       "2014-06-10   1A10          NaN                    CAMDEN #2030   \n",
       "2014-06-10   1A10          NaN    KATY FWY IB TO BLALOCK UTURN   \n",
       "2014-06-11   1A10          NaN            MAIN ST / CAPITOL ST   \n",
       "2014-06-11   1A10          NaN                      CUMMINS ST   \n",
       "2014-06-12   1A10          NaN                       WEST LANE   \n",
       "2014-06-12   1A10          NaN                   N LOOP E EXIT   \n",
       "...           ...          ...                             ...   \n",
       "2014-07-23   1A10          NaN                      HAYES #614   \n",
       "2014-07-24   1A10          NaN                          USENER   \n",
       "2014-07-24  20G50          NaN                 864A WAX MYRTLE   \n",
       "2014-07-27   7C10    2600-2699                             NaN   \n",
       "2014-07-27  10H10          NaN                     212.5 LENOX   \n",
       "2014-07-28   1A10          NaN                     STELLA LINK   \n",
       "2014-07-28   2A50          NaN                     HEIGHTS ENT   \n",
       "2014-07-29   1A10          NaN               JFK TO NBW8 UTURN   \n",
       "2014-07-31   1A10          NaN                        BEECHNUT   \n",
       "2014-07-31  12D10          NaN                       EDGEBROOK   \n",
       "2014-07-31   1A20          NaN                 3408.5 ROSELAND   \n",
       "2014-08-06   1A20          UNK                             NaN   \n",
       "2014-08-08   2A30          UNK                             NaN   \n",
       "2014-08-15   2A30          UNK                             NaN   \n",
       "2014-08-15   2A30          UNK                             NaN   \n",
       "2014-08-18   2A30          UNK                             NaN   \n",
       "2014-08-21   2A30          UNK                             NaN   \n",
       "2014-09-04   2A30          UNK                             NaN   \n",
       "2014-09-13   3B40          UNK                             NaN   \n",
       "2014-09-25   2A30          UNK                             NaN   \n",
       "2014-10-10  16E10          UNK                             NaN   \n",
       "2014-10-15   2A30          UNK                             NaN   \n",
       "2014-10-16  11H10          UNK                             NaN   \n",
       "2014-11-09   2A30          UNK                             NaN   \n",
       "2014-11-11   2A30          UNK                             NaN   \n",
       "2014-12-16  17E40          UNK                             NaN   \n",
       "2014-12-22   2A30          UNK                             NaN   \n",
       "2014-12-22   2A30          UNK                             NaN   \n",
       "2017-05-04   8C10    9400-9499                             NaN   \n",
       "2017-05-13  20G10  10300-10399                             NaN   \n",
       "\n",
       "                   OffenseType                                Premise  \\\n",
       "Date                                                                    \n",
       "2007-07-01               Theft                               No label   \n",
       "2013-06-11               Theft                               No label   \n",
       "2013-06-29               Theft                               No label   \n",
       "2013-11-23               Theft                               No label   \n",
       "2014-01-01               Theft                               No label   \n",
       "2014-04-21               Theft                               No label   \n",
       "2014-04-26               Theft                               No label   \n",
       "2014-05-05               Theft                               No label   \n",
       "2014-05-08               Theft                               No label   \n",
       "2014-05-16               Theft                               No label   \n",
       "2014-05-16               Theft                               No label   \n",
       "2014-05-26               Theft                               No label   \n",
       "2014-05-29               Theft                               No label   \n",
       "2014-05-31               Theft                               No label   \n",
       "2014-06-03               Theft                               No label   \n",
       "2014-06-03               Theft                               No label   \n",
       "2014-06-04               Theft                               No label   \n",
       "2014-06-05               Theft                               No label   \n",
       "2014-06-06               Theft                               No label   \n",
       "2014-06-07               Theft                               No label   \n",
       "2014-06-07               Theft                               No label   \n",
       "2014-06-08               Theft                               No label   \n",
       "2014-06-08               Theft                               No label   \n",
       "2014-06-10               Theft                               No label   \n",
       "2014-06-10               Theft                               No label   \n",
       "2014-06-10               Theft                               No label   \n",
       "2014-06-11               Theft                               No label   \n",
       "2014-06-11               Theft                               No label   \n",
       "2014-06-12               Theft                               No label   \n",
       "2014-06-12               Theft                               No label   \n",
       "...                        ...                                    ...   \n",
       "2014-07-23            Burglary                               No label   \n",
       "2014-07-24               Theft                               No label   \n",
       "2014-07-24               Theft                               No label   \n",
       "2014-07-27               Theft                               No label   \n",
       "2014-07-27            Burglary                               No label   \n",
       "2014-07-28               Theft                               No label   \n",
       "2014-07-28               Theft                               No label   \n",
       "2014-07-29               Theft                               No label   \n",
       "2014-07-31               Theft                               No label   \n",
       "2014-07-31               Theft                               No label   \n",
       "2014-07-31             Robbery                               No label   \n",
       "2014-08-06               Theft                               No label   \n",
       "2014-08-08               Theft                     Residence or House   \n",
       "2014-08-15            Burglary                      Garage or Carport   \n",
       "2014-08-15          Auto Theft                  Apartment Parking Lot   \n",
       "2014-08-18            Burglary                     Residence or House   \n",
       "2014-08-21               Theft                     Residence or House   \n",
       "2014-09-04            Burglary                     Residence or House   \n",
       "2014-09-13            Burglary                     Residence or House   \n",
       "2014-09-25               Theft              Road, Street, or Sidewalk   \n",
       "2014-10-10               Theft                     Residence or House   \n",
       "2014-10-15               Theft                     Residence or House   \n",
       "2014-10-16            Burglary                     Residence or House   \n",
       "2014-11-09               Theft              Road, Street, or Sidewalk   \n",
       "2014-11-11  Aggravated Assault              Road, Street, or Sidewalk   \n",
       "2014-12-16  Aggravated Assault  Miscellaneous Business (Non-Specific)   \n",
       "2014-12-22            Burglary                     Residence or House   \n",
       "2014-12-22            Burglary                     Residence or House   \n",
       "2017-05-04               Theft                 Service or Gas Station   \n",
       "2017-05-13  Aggravated Assault                Restaurant or Cafeteria   \n",
       "\n",
       "            NumOffenses  Hour  day    weekday month  year  \n",
       "Date                                                       \n",
       "2007-07-01          1.0  10.0    1     Sunday   Jul  2007  \n",
       "2013-06-11          1.0  11.0   11    Tuesday   Jun  2013  \n",
       "2013-06-29          1.0  15.0   29   Saturday   Jun  2013  \n",
       "2013-11-23          1.0   8.0   23   Saturday   Nov  2013  \n",
       "2014-01-01          1.0  13.0    1  Wednesday   Jan  2014  \n",
       "2014-04-21          1.0  14.0   21     Monday   Apr  2014  \n",
       "2014-04-26          1.0  11.0   26   Saturday   Apr  2014  \n",
       "2014-05-05          1.0  11.0    5     Monday   May  2014  \n",
       "2014-05-08          1.0  12.0    8   Thursday   May  2014  \n",
       "2014-05-16          1.0   8.0   16     Friday   May  2014  \n",
       "2014-05-16          1.0  12.0   16     Friday   May  2014  \n",
       "2014-05-26          1.0  12.0   26     Monday   May  2014  \n",
       "2014-05-29          1.0  12.0   29   Thursday   May  2014  \n",
       "2014-05-31          1.0  16.0   31   Saturday   May  2014  \n",
       "2014-06-03          1.0  11.0    3    Tuesday   Jun  2014  \n",
       "2014-06-03          1.0  17.0    3    Tuesday   Jun  2014  \n",
       "2014-06-04          1.0  14.0    4  Wednesday   Jun  2014  \n",
       "2014-06-05          1.0  22.0    5   Thursday   Jun  2014  \n",
       "2014-06-06          1.0  14.0    6     Friday   Jun  2014  \n",
       "2014-06-07          1.0  12.0    7   Saturday   Jun  2014  \n",
       "2014-06-07          1.0  12.0    7   Saturday   Jun  2014  \n",
       "2014-06-08          1.0  22.0    8     Sunday   Jun  2014  \n",
       "2014-06-08          1.0  15.0    8     Sunday   Jun  2014  \n",
       "2014-06-10          1.0  13.0   10    Tuesday   Jun  2014  \n",
       "2014-06-10          1.0   5.0   10    Tuesday   Jun  2014  \n",
       "2014-06-10          1.0  13.0   10    Tuesday   Jun  2014  \n",
       "2014-06-11          1.0  16.0   11  Wednesday   Jun  2014  \n",
       "2014-06-11          1.0  19.0   11  Wednesday   Jun  2014  \n",
       "2014-06-12          1.0  13.0   12   Thursday   Jun  2014  \n",
       "2014-06-12          1.0  21.0   12   Thursday   Jun  2014  \n",
       "...                 ...   ...  ...        ...   ...   ...  \n",
       "2014-07-23          1.0  22.0   23  Wednesday   Jul  2014  \n",
       "2014-07-24          1.0   7.0   24   Thursday   Jul  2014  \n",
       "2014-07-24          1.0  20.0   24   Thursday   Jul  2014  \n",
       "2014-07-27          1.0   9.0   27     Sunday   Jul  2014  \n",
       "2014-07-27          1.0   7.0   27     Sunday   Jul  2014  \n",
       "2014-07-28          1.0  11.0   28     Monday   Jul  2014  \n",
       "2014-07-28          1.0  23.0   28     Monday   Jul  2014  \n",
       "2014-07-29          1.0  21.0   29    Tuesday   Jul  2014  \n",
       "2014-07-31          1.0  22.0   31   Thursday   Jul  2014  \n",
       "2014-07-31          1.0  17.0   31   Thursday   Jul  2014  \n",
       "2014-07-31          1.0   5.0   31   Thursday   Jul  2014  \n",
       "2014-08-06          1.0  17.0    6  Wednesday   Aug  2014  \n",
       "2014-08-08          1.0  14.0    8     Friday   Aug  2014  \n",
       "2014-08-15          1.0   6.0   15     Friday   Aug  2014  \n",
       "2014-08-15          1.0  15.0   15     Friday   Aug  2014  \n",
       "2014-08-18          1.0  20.0   18     Monday   Aug  2014  \n",
       "2014-08-21          1.0  12.0   21   Thursday   Aug  2014  \n",
       "2014-09-04          1.0   7.0    4   Thursday   Sep  2014  \n",
       "2014-09-13          1.0   0.0   13   Saturday   Sep  2014  \n",
       "2014-09-25          1.0   8.0   25   Thursday   Sep  2014  \n",
       "2014-10-10          1.0  12.0   10     Friday   Oct  2014  \n",
       "2014-10-15          1.0  20.0   15  Wednesday   Oct  2014  \n",
       "2014-10-16          1.0  21.0   16   Thursday   Oct  2014  \n",
       "2014-11-09          1.0   1.0    9     Sunday   Nov  2014  \n",
       "2014-11-11          1.0  18.0   11    Tuesday   Nov  2014  \n",
       "2014-12-16          1.0  15.0   16    Tuesday   Dec  2014  \n",
       "2014-12-22          1.0  18.0   22     Monday   Dec  2014  \n",
       "2014-12-22          1.0  17.0   22     Monday   Dec  2014  \n",
       "2017-05-04          1.0  22.0    4   Thursday   May  2017  \n",
       "2017-05-13          1.0   9.0   13   Saturday   May  2017  \n",
       "\n",
       "[180 rows x 11 columns]"
      ]
     },
     "execution_count": 71,
     "metadata": {},
     "output_type": "execute_result"
    }
   ],
   "source": [
    "df[df.isnull().any(axis=1)]"
   ]
  },
  {
   "cell_type": "markdown",
   "metadata": {},
   "source": [
    "# Save Final Clean Data"
   ]
  },
  {
   "cell_type": "code",
   "execution_count": 72,
   "metadata": {},
   "outputs": [],
   "source": [
    "df.to_csv('crime_data_clean/crime_final_clean10_17.csv')"
   ]
  },
  {
   "cell_type": "code",
   "execution_count": 73,
   "metadata": {},
   "outputs": [
    {
     "name": "stdout",
     "output_type": "stream",
     "text": [
      "\u001b[0m\u001b[01;32mcrime_final_clean10_17.csv\u001b[0m*  \u001b[01;36;40mnew\u001b[0m/\r\n"
     ]
    }
   ],
   "source": [
    "ls crime_data_clean/"
   ]
  },
  {
   "cell_type": "code",
   "execution_count": null,
   "metadata": {},
   "outputs": [],
   "source": []
  }
 ],
 "metadata": {
  "kernelspec": {
   "display_name": "Python 3",
   "language": "python",
   "name": "python3"
  },
  "language_info": {
   "codemirror_mode": {
    "name": "ipython",
    "version": 3
   },
   "file_extension": ".py",
   "mimetype": "text/x-python",
   "name": "python",
   "nbconvert_exporter": "python",
   "pygments_lexer": "ipython3",
   "version": "3.6.4"
  }
 },
 "nbformat": 4,
 "nbformat_minor": 2
}
