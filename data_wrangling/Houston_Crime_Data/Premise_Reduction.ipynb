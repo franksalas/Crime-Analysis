{
 "cells": [
  {
   "cell_type": "code",
   "execution_count": 1,
   "metadata": {},
   "outputs": [],
   "source": [
    "import pandas as pd\n",
    "import glob, os\n",
    "import numpy as np\n",
    "\n",
    "import matplotlib.pyplot as plt\n",
    "import seaborn as sns\n",
    "import datetime as dt"
   ]
  },
  {
   "cell_type": "code",
   "execution_count": 2,
   "metadata": {},
   "outputs": [],
   "source": [
    "path = 'crime_data_clean/crime_final_clean10_17.csv'"
   ]
  },
  {
   "cell_type": "code",
   "execution_count": 5,
   "metadata": {},
   "outputs": [],
   "source": [
    "df = pd.read_csv(path,index_col='Date_Hour', parse_dates=True)"
   ]
  },
  {
   "cell_type": "code",
   "execution_count": 6,
   "metadata": {},
   "outputs": [
    {
     "data": {
      "text/html": [
       "<div>\n",
       "<style scoped>\n",
       "    .dataframe tbody tr th:only-of-type {\n",
       "        vertical-align: middle;\n",
       "    }\n",
       "\n",
       "    .dataframe tbody tr th {\n",
       "        vertical-align: top;\n",
       "    }\n",
       "\n",
       "    .dataframe thead th {\n",
       "        text-align: right;\n",
       "    }\n",
       "</style>\n",
       "<table border=\"1\" class=\"dataframe\">\n",
       "  <thead>\n",
       "    <tr style=\"text-align: right;\">\n",
       "      <th></th>\n",
       "      <th>Beat</th>\n",
       "      <th>BlockRange</th>\n",
       "      <th>StreetName</th>\n",
       "      <th>OffenseType</th>\n",
       "      <th>Premise</th>\n",
       "      <th>NumOffenses</th>\n",
       "      <th>Hour</th>\n",
       "      <th>day</th>\n",
       "      <th>weekday</th>\n",
       "      <th>month</th>\n",
       "      <th>year</th>\n",
       "    </tr>\n",
       "    <tr>\n",
       "      <th>Date_Hour</th>\n",
       "      <th></th>\n",
       "      <th></th>\n",
       "      <th></th>\n",
       "      <th></th>\n",
       "      <th></th>\n",
       "      <th></th>\n",
       "      <th></th>\n",
       "      <th></th>\n",
       "      <th></th>\n",
       "      <th></th>\n",
       "      <th></th>\n",
       "    </tr>\n",
       "  </thead>\n",
       "  <tbody>\n",
       "    <tr>\n",
       "      <th>2010-01-01</th>\n",
       "      <td>10H10</td>\n",
       "      <td>500-599</td>\n",
       "      <td>EASTWOOD</td>\n",
       "      <td>Burglary</td>\n",
       "      <td>misc. business (non-specific)</td>\n",
       "      <td>1</td>\n",
       "      <td>0</td>\n",
       "      <td>1</td>\n",
       "      <td>Friday</td>\n",
       "      <td>Jan</td>\n",
       "      <td>2010</td>\n",
       "    </tr>\n",
       "    <tr>\n",
       "      <th>2010-01-01</th>\n",
       "      <td>4F20</td>\n",
       "      <td>4800-4899</td>\n",
       "      <td>LAURELDALE</td>\n",
       "      <td>Aggravated Assault</td>\n",
       "      <td>residence/house</td>\n",
       "      <td>1</td>\n",
       "      <td>0</td>\n",
       "      <td>1</td>\n",
       "      <td>Friday</td>\n",
       "      <td>Jan</td>\n",
       "      <td>2010</td>\n",
       "    </tr>\n",
       "    <tr>\n",
       "      <th>2010-01-01</th>\n",
       "      <td>1A10</td>\n",
       "      <td>300-399</td>\n",
       "      <td>HAMILTON</td>\n",
       "      <td>Auto Theft</td>\n",
       "      <td>bar/night club parking lot</td>\n",
       "      <td>1</td>\n",
       "      <td>0</td>\n",
       "      <td>1</td>\n",
       "      <td>Friday</td>\n",
       "      <td>Jan</td>\n",
       "      <td>2010</td>\n",
       "    </tr>\n",
       "    <tr>\n",
       "      <th>2010-01-01</th>\n",
       "      <td>24C40</td>\n",
       "      <td>24000-24099</td>\n",
       "      <td>LAKE HOUSTON</td>\n",
       "      <td>Auto Theft</td>\n",
       "      <td>road/street/sidewalk</td>\n",
       "      <td>1</td>\n",
       "      <td>0</td>\n",
       "      <td>1</td>\n",
       "      <td>Friday</td>\n",
       "      <td>Jan</td>\n",
       "      <td>2010</td>\n",
       "    </tr>\n",
       "    <tr>\n",
       "      <th>2010-01-01</th>\n",
       "      <td>24C10</td>\n",
       "      <td>21700-21799</td>\n",
       "      <td>LAKEPOINT</td>\n",
       "      <td>Theft</td>\n",
       "      <td>residence/house</td>\n",
       "      <td>1</td>\n",
       "      <td>0</td>\n",
       "      <td>1</td>\n",
       "      <td>Friday</td>\n",
       "      <td>Jan</td>\n",
       "      <td>2010</td>\n",
       "    </tr>\n",
       "  </tbody>\n",
       "</table>\n",
       "</div>"
      ],
      "text/plain": [
       "             Beat   BlockRange    StreetName         OffenseType  \\\n",
       "Date_Hour                                                          \n",
       "2010-01-01  10H10      500-599      EASTWOOD            Burglary   \n",
       "2010-01-01   4F20    4800-4899    LAURELDALE  Aggravated Assault   \n",
       "2010-01-01   1A10      300-399      HAMILTON          Auto Theft   \n",
       "2010-01-01  24C40  24000-24099  LAKE HOUSTON          Auto Theft   \n",
       "2010-01-01  24C10  21700-21799     LAKEPOINT               Theft   \n",
       "\n",
       "                                  Premise  NumOffenses  Hour  day weekday  \\\n",
       "Date_Hour                                                                   \n",
       "2010-01-01  misc. business (non-specific)            1     0    1  Friday   \n",
       "2010-01-01                residence/house            1     0    1  Friday   \n",
       "2010-01-01     bar/night club parking lot            1     0    1  Friday   \n",
       "2010-01-01           road/street/sidewalk            1     0    1  Friday   \n",
       "2010-01-01                residence/house            1     0    1  Friday   \n",
       "\n",
       "           month  year  \n",
       "Date_Hour               \n",
       "2010-01-01   Jan  2010  \n",
       "2010-01-01   Jan  2010  \n",
       "2010-01-01   Jan  2010  \n",
       "2010-01-01   Jan  2010  \n",
       "2010-01-01   Jan  2010  "
      ]
     },
     "execution_count": 6,
     "metadata": {},
     "output_type": "execute_result"
    }
   ],
   "source": [
    "df.head()"
   ]
  },
  {
   "cell_type": "markdown",
   "metadata": {},
   "source": [
    "## Find similar words in Premise Col"
   ]
  },
  {
   "cell_type": "code",
   "execution_count": 10,
   "metadata": {},
   "outputs": [
    {
     "data": {
      "text/plain": [
       "203"
      ]
     },
     "execution_count": 10,
     "metadata": {},
     "output_type": "execute_result"
    }
   ],
   "source": [
    "len(df.Premise.value_counts())"
   ]
  },
  {
   "cell_type": "code",
   "execution_count": 11,
   "metadata": {},
   "outputs": [
    {
     "data": {
      "text/plain": [
       "203"
      ]
     },
     "execution_count": 11,
     "metadata": {},
     "output_type": "execute_result"
    }
   ],
   "source": [
    "len(df.Premise.value_counts())"
   ]
  },
  {
   "cell_type": "code",
   "execution_count": 8,
   "metadata": {},
   "outputs": [
    {
     "data": {
      "text/plain": [
       "342"
      ]
     },
     "execution_count": 8,
     "metadata": {},
     "output_type": "execute_result"
    }
   ],
   "source": [
    "len(df.Premise.str.split(expand=True).stack().value_counts())"
   ]
  },
  {
   "cell_type": "code",
   "execution_count": 9,
   "metadata": {},
   "outputs": [
    {
     "data": {
      "text/plain": [
       "parking                  290640\n",
       "lot                      276799\n",
       "apartment                226336\n",
       "residence/house          129165\n",
       "store                     93397\n",
       "road/street/sidewalk      81687\n",
       "or                        72345\n",
       "driveway                  52623\n",
       "other                     45776\n",
       "restaurant/cafeteria      41529\n",
       "department/discount       38116\n",
       "business                  34769\n",
       "no                        33529\n",
       "label                     33529\n",
       "commercial                32250\n",
       "(non-specific)            23267\n",
       "club                      21632\n",
       "convenience               21402\n",
       "grocery/supermarket       19786\n",
       "center                    19022\n",
       "station                   18743\n",
       "strip                     18586\n",
       "other/unknown             16449\n",
       "building                  15136\n",
       "lot/garage                13841\n",
       "garage                    13489\n",
       "grocery                   13396\n",
       "supermarket               13396\n",
       "bar/night                 11700\n",
       "miscellaneous             10681\n",
       "                          ...  \n",
       "jail                         34\n",
       "metro)                       34\n",
       "prison                       34\n",
       "(not                         34\n",
       "package                      25\n",
       "(fedex,ups,dhl)              25\n",
       "blding                       24\n",
       "manufacturing                24\n",
       "school/college               23\n",
       "marine                       19\n",
       "novelty                      15\n",
       "parlor                       12\n",
       "illicit                      12\n",
       "massage                      12\n",
       "veh.                         11\n",
       "sales,boats,sailboats        11\n",
       "sales,                        8\n",
       "boats,                        8\n",
       "sailboats                     8\n",
       "theater/arcade                5\n",
       "23c                           5\n",
       "contra-flow/hov               5\n",
       "cantina                       4\n",
       "modeling                      2\n",
       "studio                        2\n",
       "managed,                      1\n",
       "res                           1\n",
       "contra-flow,                  1\n",
       "hov                           1\n",
       "lanes                         1\n",
       "Length: 342, dtype: int64"
      ]
     },
     "execution_count": 9,
     "metadata": {},
     "output_type": "execute_result"
    }
   ],
   "source": [
    "df.Premise.str.split(expand=True).stack().value_counts()"
   ]
  },
  {
   "cell_type": "code",
   "execution_count": null,
   "metadata": {},
   "outputs": [],
   "source": []
  }
 ],
 "metadata": {
  "kernelspec": {
   "display_name": "Python 3",
   "language": "python",
   "name": "python3"
  },
  "language_info": {
   "codemirror_mode": {
    "name": "ipython",
    "version": 3
   },
   "file_extension": ".py",
   "mimetype": "text/x-python",
   "name": "python",
   "nbconvert_exporter": "python",
   "pygments_lexer": "ipython3",
   "version": "3.6.4"
  }
 },
 "nbformat": 4,
 "nbformat_minor": 2
}
