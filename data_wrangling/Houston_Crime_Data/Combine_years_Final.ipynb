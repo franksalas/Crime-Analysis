{
 "cells": [
  {
   "cell_type": "code",
   "execution_count": 2,
   "metadata": {},
   "outputs": [],
   "source": [
    "import pandas as pd\n",
    "import glob, os\n",
    "import numpy as np\n",
    "\n",
    "import matplotlib.pyplot as plt\n",
    "import seaborn as sns\n",
    "import datetime as dt\n"
   ]
  },
  {
   "cell_type": "code",
   "execution_count": 3,
   "metadata": {},
   "outputs": [
    {
     "name": "stdout",
     "output_type": "stream",
     "text": [
      "\u001b[0m\u001b[01;32mFinal_crime10_clean.csv\u001b[0m*  \u001b[01;32mFinal_crime13_clean.csv\u001b[0m*  \u001b[01;32mFinal_crime16_clean.csv\u001b[0m*\r\n",
      "\u001b[01;32mFinal_crime11_clean.csv\u001b[0m*  \u001b[01;32mFinal_crime14_clean.csv\u001b[0m*  \u001b[01;32mFinal_crime17_clean.csv\u001b[0m*\r\n",
      "\u001b[01;32mFinal_crime12_clean.csv\u001b[0m*  \u001b[01;32mFinal_crime15_clean.csv\u001b[0m*\r\n"
     ]
    }
   ],
   "source": [
    "ls crime_data_clean/years/"
   ]
  },
  {
   "cell_type": "code",
   "execution_count": 4,
   "metadata": {},
   "outputs": [],
   "source": [
    "path = 'crime_data_clean/years/'"
   ]
  },
  {
   "cell_type": "code",
   "execution_count": null,
   "metadata": {},
   "outputs": [],
   "source": [
    "all_files = glob.glob(os.path.join(path, \"*.csv\")) \n",
    "\n",
    "df_from_each_file = (pd.read_csv(f) for f in all_files)\n",
    "df   = pd.concat(df_from_each_file, ignore_index=True)"
   ]
  },
  {
   "cell_type": "code",
   "execution_count": null,
   "metadata": {},
   "outputs": [],
   "source": [
    "df.info()"
   ]
  },
  {
   "cell_type": "code",
   "execution_count": null,
   "metadata": {},
   "outputs": [],
   "source": [
    "df.Date_Hour = pd.to_datetime(df.Date_Hour)\n",
    "df = df.set_index('Date_Hour').sort_index(ascending=True)"
   ]
  },
  {
   "cell_type": "code",
   "execution_count": null,
   "metadata": {},
   "outputs": [],
   "source": [
    "df.info()"
   ]
  },
  {
   "cell_type": "code",
   "execution_count": null,
   "metadata": {},
   "outputs": [],
   "source": [
    "df.Hour.value_counts()"
   ]
  },
  {
   "cell_type": "code",
   "execution_count": null,
   "metadata": {},
   "outputs": [],
   "source": []
  },
  {
   "cell_type": "code",
   "execution_count": 9,
   "metadata": {},
   "outputs": [
    {
     "data": {
      "text/plain": [
       "71"
      ]
     },
     "execution_count": 9,
     "metadata": {},
     "output_type": "execute_result"
    }
   ],
   "source": [
    "len(df.year.unique())"
   ]
  },
  {
   "cell_type": "code",
   "execution_count": 10,
   "metadata": {},
   "outputs": [
    {
     "data": {
      "text/plain": [
       "array([1914, 1915, 1916, 1917, 1918, 1919, 1920, 1921, 1924, 1926, 1927,\n",
       "       1953, 1959, 1963, 1964, 1965, 1966, 1969, 1970, 1971, 1972, 1973,\n",
       "       1974, 1975, 1976, 1977, 1978, 1979, 1980, 1981, 1982, 1983, 1984,\n",
       "       1985, 1986, 1987, 1988, 1989, 1990, 1991, 1992, 1993, 1994, 1995,\n",
       "       1996, 1997, 1998, 1999, 2000, 2001, 2002, 2003, 2004, 2005, 2006,\n",
       "       2007, 2008, 2009, 2010, 2011, 2012, 2013, 2014, 2015, 2016, 2017,\n",
       "       2019, 2020, 2021, 2029, 2033])"
      ]
     },
     "execution_count": 10,
     "metadata": {},
     "output_type": "execute_result"
    }
   ],
   "source": [
    "df.year.unique()"
   ]
  },
  {
   "cell_type": "code",
   "execution_count": 11,
   "metadata": {},
   "outputs": [
    {
     "data": {
      "text/plain": [
       "array(['Sep', 'Nov', 'Dec', 'Jan', 'Apr', 'Jul', 'May', 'Jun', 'Aug',\n",
       "       'Oct', 'Feb', 'Mar'], dtype=object)"
      ]
     },
     "execution_count": 11,
     "metadata": {},
     "output_type": "execute_result"
    }
   ],
   "source": [
    "df.month.unique()"
   ]
  },
  {
   "cell_type": "code",
   "execution_count": 20,
   "metadata": {},
   "outputs": [
    {
     "data": {
      "text/plain": [
       "2010    136357\n",
       "2013    130200\n",
       "2012    127486\n",
       "2011    127168\n",
       "2016    122423\n",
       "2014    121450\n",
       "2015    120079\n",
       "2017    118578\n",
       "Name: year, dtype: int64"
      ]
     },
     "execution_count": 20,
     "metadata": {},
     "output_type": "execute_result"
    }
   ],
   "source": [
    "df.year.value_counts(dropna=False)[:8]"
   ]
  },
  {
   "cell_type": "code",
   "execution_count": 13,
   "metadata": {},
   "outputs": [
    {
     "data": {
      "text/plain": [
       "Friday       154377\n",
       "Monday       148218\n",
       "Thursday     144822\n",
       "Wednesday    144241\n",
       "Tuesday      143437\n",
       "Saturday     142584\n",
       "Sunday       128643\n",
       "Name: weekday, dtype: int64"
      ]
     },
     "execution_count": 13,
     "metadata": {},
     "output_type": "execute_result"
    }
   ],
   "source": [
    "df.weekday.value_counts(dropna=False)"
   ]
  },
  {
   "cell_type": "code",
   "execution_count": 14,
   "metadata": {},
   "outputs": [
    {
     "data": {
      "text/plain": [
       "Jul    88957\n",
       "May    88471\n",
       "Aug    88283\n",
       "Dec    86742\n",
       "Jan    85865\n",
       "Oct    85075\n",
       "Apr    83205\n",
       "Jun    83013\n",
       "Sep    81957\n",
       "Nov    81738\n",
       "Mar    81307\n",
       "Feb    71709\n",
       "Name: month, dtype: int64"
      ]
     },
     "execution_count": 14,
     "metadata": {},
     "output_type": "execute_result"
    }
   ],
   "source": [
    "df.month.value_counts(dropna=False)"
   ]
  },
  {
   "cell_type": "code",
   "execution_count": 15,
   "metadata": {},
   "outputs": [
    {
     "data": {
      "text/plain": [
       "1     36483\n",
       "20    33865\n",
       "15    33814\n",
       "16    33367\n",
       "17    33318\n",
       "Name: day, dtype: int64"
      ]
     },
     "execution_count": 15,
     "metadata": {},
     "output_type": "execute_result"
    }
   ],
   "source": [
    "df.day.value_counts(dropna=False).head()"
   ]
  },
  {
   "cell_type": "code",
   "execution_count": 21,
   "metadata": {},
   "outputs": [
    {
     "data": {
      "image/png": "[encoded data removed]",
      "text/plain": [
       "<Figure size 432x288 with 1 Axes>"
      ]
     },
     "metadata": {},
     "output_type": "display_data"
    }
   ],
   "source": [
    "sns.heatmap(df.isnull(),yticklabels=False,cbar=False,cmap='viridis')\n",
    "plt.title('Nulls display')\n",
    "plt.show()"
   ]
  },
  {
   "cell_type": "code",
   "execution_count": null,
   "metadata": {},
   "outputs": [],
   "source": []
  },
  {
   "cell_type": "code",
   "execution_count": null,
   "metadata": {},
   "outputs": [],
   "source": []
  },
  {
   "cell_type": "code",
   "execution_count": 22,
   "metadata": {},
   "outputs": [
    {
     "name": "stdout",
     "output_type": "stream",
     "text": [
      "<class 'pandas.core.frame.DataFrame'>\n",
      "DatetimeIndex: 1006322 entries, 1914-09-08 07:00:00 to 2033-04-21 00:00:00\n",
      "Data columns (total 11 columns):\n",
      "Beat           1006322 non-null object\n",
      "BlockRange     1006165 non-null object\n",
      "StreetName     1006320 non-null object\n",
      "OffenseType    1006322 non-null object\n",
      "Premise        1006322 non-null object\n",
      "NumOffenses    1006322 non-null float64\n",
      "Hour           1006322 non-null int64\n",
      "day            1006322 non-null int64\n",
      "weekday        1006322 non-null object\n",
      "month          1006322 non-null object\n",
      "year           1006322 non-null int64\n",
      "dtypes: float64(1), int64(3), object(7)\n",
      "memory usage: 92.1+ MB\n"
     ]
    }
   ],
   "source": [
    "df.info()"
   ]
  },
  {
   "cell_type": "markdown",
   "metadata": {},
   "source": [
    "## Clenup index"
   ]
  },
  {
   "cell_type": "code",
   "execution_count": 25,
   "metadata": {},
   "outputs": [
    {
     "data": {
      "text/html": [
       "<div>\n",
       "<style scoped>\n",
       "    .dataframe tbody tr th:only-of-type {\n",
       "        vertical-align: middle;\n",
       "    }\n",
       "\n",
       "    .dataframe tbody tr th {\n",
       "        vertical-align: top;\n",
       "    }\n",
       "\n",
       "    .dataframe thead th {\n",
       "        text-align: right;\n",
       "    }\n",
       "</style>\n",
       "<table border=\"1\" class=\"dataframe\">\n",
       "  <thead>\n",
       "    <tr style=\"text-align: right;\">\n",
       "      <th></th>\n",
       "      <th>Beat</th>\n",
       "      <th>BlockRange</th>\n",
       "      <th>StreetName</th>\n",
       "      <th>OffenseType</th>\n",
       "      <th>Premise</th>\n",
       "      <th>NumOffenses</th>\n",
       "      <th>Hour</th>\n",
       "      <th>day</th>\n",
       "      <th>weekday</th>\n",
       "      <th>month</th>\n",
       "      <th>year</th>\n",
       "    </tr>\n",
       "    <tr>\n",
       "      <th>Date_Hour</th>\n",
       "      <th></th>\n",
       "      <th></th>\n",
       "      <th></th>\n",
       "      <th></th>\n",
       "      <th></th>\n",
       "      <th></th>\n",
       "      <th></th>\n",
       "      <th></th>\n",
       "      <th></th>\n",
       "      <th></th>\n",
       "      <th></th>\n",
       "    </tr>\n",
       "  </thead>\n",
       "  <tbody>\n",
       "    <tr>\n",
       "      <th>2019-12-25 19:00:00</th>\n",
       "      <td>10H20</td>\n",
       "      <td>4600-4699</td>\n",
       "      <td>BELL</td>\n",
       "      <td>Auto Theft</td>\n",
       "      <td>DRIVEWAY</td>\n",
       "      <td>1.0</td>\n",
       "      <td>19</td>\n",
       "      <td>25</td>\n",
       "      <td>Wednesday</td>\n",
       "      <td>Dec</td>\n",
       "      <td>2019</td>\n",
       "    </tr>\n",
       "    <tr>\n",
       "      <th>2020-10-11 22:00:00</th>\n",
       "      <td>16E40</td>\n",
       "      <td>13900-13999</td>\n",
       "      <td>FONDREN</td>\n",
       "      <td>Theft</td>\n",
       "      <td>SERVICE/GAS STATION</td>\n",
       "      <td>1.0</td>\n",
       "      <td>22</td>\n",
       "      <td>11</td>\n",
       "      <td>Sunday</td>\n",
       "      <td>Oct</td>\n",
       "      <td>2020</td>\n",
       "    </tr>\n",
       "    <tr>\n",
       "      <th>2021-01-03 00:00:00</th>\n",
       "      <td>15E40</td>\n",
       "      <td>2100-2199</td>\n",
       "      <td>EL PASEO</td>\n",
       "      <td>Theft</td>\n",
       "      <td>APARTMENT</td>\n",
       "      <td>1.0</td>\n",
       "      <td>0</td>\n",
       "      <td>3</td>\n",
       "      <td>Sunday</td>\n",
       "      <td>Jan</td>\n",
       "      <td>2021</td>\n",
       "    </tr>\n",
       "    <tr>\n",
       "      <th>2029-05-26 03:00:00</th>\n",
       "      <td>2A50</td>\n",
       "      <td>5400-5499</td>\n",
       "      <td>PETTY</td>\n",
       "      <td>Theft</td>\n",
       "      <td>OTHER/UNKNOWN</td>\n",
       "      <td>1.0</td>\n",
       "      <td>3</td>\n",
       "      <td>26</td>\n",
       "      <td>Saturday</td>\n",
       "      <td>May</td>\n",
       "      <td>2029</td>\n",
       "    </tr>\n",
       "    <tr>\n",
       "      <th>2033-04-21 00:00:00</th>\n",
       "      <td>2A60</td>\n",
       "      <td>900-999</td>\n",
       "      <td>T C JESTER</td>\n",
       "      <td>Theft</td>\n",
       "      <td>RESIDENCE/HOUSE</td>\n",
       "      <td>1.0</td>\n",
       "      <td>0</td>\n",
       "      <td>21</td>\n",
       "      <td>Thursday</td>\n",
       "      <td>Apr</td>\n",
       "      <td>2033</td>\n",
       "    </tr>\n",
       "  </tbody>\n",
       "</table>\n",
       "</div>"
      ],
      "text/plain": [
       "                      Beat   BlockRange  StreetName OffenseType  \\\n",
       "Date_Hour                                                         \n",
       "2019-12-25 19:00:00  10H20    4600-4699        BELL  Auto Theft   \n",
       "2020-10-11 22:00:00  16E40  13900-13999     FONDREN       Theft   \n",
       "2021-01-03 00:00:00  15E40    2100-2199    EL PASEO       Theft   \n",
       "2029-05-26 03:00:00   2A50    5400-5499       PETTY       Theft   \n",
       "2033-04-21 00:00:00   2A60      900-999  T C JESTER       Theft   \n",
       "\n",
       "                                 Premise  NumOffenses  Hour  day    weekday  \\\n",
       "Date_Hour                                                                     \n",
       "2019-12-25 19:00:00             DRIVEWAY          1.0    19   25  Wednesday   \n",
       "2020-10-11 22:00:00  SERVICE/GAS STATION          1.0    22   11     Sunday   \n",
       "2021-01-03 00:00:00            APARTMENT          1.0     0    3     Sunday   \n",
       "2029-05-26 03:00:00        OTHER/UNKNOWN          1.0     3   26   Saturday   \n",
       "2033-04-21 00:00:00      RESIDENCE/HOUSE          1.0     0   21   Thursday   \n",
       "\n",
       "                    month  year  \n",
       "Date_Hour                        \n",
       "2019-12-25 19:00:00   Dec  2019  \n",
       "2020-10-11 22:00:00   Oct  2020  \n",
       "2021-01-03 00:00:00   Jan  2021  \n",
       "2029-05-26 03:00:00   May  2029  \n",
       "2033-04-21 00:00:00   Apr  2033  "
      ]
     },
     "execution_count": 25,
     "metadata": {},
     "output_type": "execute_result"
    }
   ],
   "source": [
    "df.tail()"
   ]
  },
  {
   "cell_type": "markdown",
   "metadata": {},
   "source": [
    "### Remove non days"
   ]
  },
  {
   "cell_type": "code",
   "execution_count": 26,
   "metadata": {},
   "outputs": [
    {
     "data": {
      "text/plain": [
       "0"
      ]
     },
     "execution_count": 26,
     "metadata": {},
     "output_type": "execute_result"
    }
   ],
   "source": [
    "len(df[df.index.isnull()])"
   ]
  },
  {
   "cell_type": "code",
   "execution_count": 27,
   "metadata": {},
   "outputs": [
    {
     "data": {
      "text/plain": [
       "1006322"
      ]
     },
     "execution_count": 27,
     "metadata": {},
     "output_type": "execute_result"
    }
   ],
   "source": [
    "len(df[df.index.notnull()])"
   ]
  },
  {
   "cell_type": "code",
   "execution_count": null,
   "metadata": {},
   "outputs": [],
   "source": [
    "#df[df.index.isnull()]"
   ]
  },
  {
   "cell_type": "code",
   "execution_count": null,
   "metadata": {},
   "outputs": [],
   "source": [
    "#df = df[df.index.notnull()]"
   ]
  },
  {
   "cell_type": "code",
   "execution_count": null,
   "metadata": {},
   "outputs": [],
   "source": [
    "#len(df[df.index.isnull()])"
   ]
  },
  {
   "cell_type": "code",
   "execution_count": 28,
   "metadata": {},
   "outputs": [
    {
     "data": {
      "text/plain": [
       "1     36483\n",
       "20    33865\n",
       "15    33814\n",
       "16    33367\n",
       "17    33318\n",
       "Name: day, dtype: int64"
      ]
     },
     "execution_count": 28,
     "metadata": {},
     "output_type": "execute_result"
    }
   ],
   "source": [
    "df.day.value_counts(dropna=False).head()"
   ]
  },
  {
   "cell_type": "code",
   "execution_count": null,
   "metadata": {},
   "outputs": [],
   "source": [
    "df.info()"
   ]
  },
  {
   "cell_type": "markdown",
   "metadata": {},
   "source": [
    "# Beat"
   ]
  },
  {
   "cell_type": "code",
   "execution_count": 29,
   "metadata": {},
   "outputs": [
    {
     "data": {
      "text/plain": [
       "127"
      ]
     },
     "execution_count": 29,
     "metadata": {},
     "output_type": "execute_result"
    }
   ],
   "source": [
    "len(df.Beat.unique())"
   ]
  },
  {
   "cell_type": "code",
   "execution_count": 30,
   "metadata": {},
   "outputs": [
    {
     "data": {
      "text/plain": [
       "array(['24C60', '18F60', '12D20', '3B10', '5F10', '1A20', '11H10',\n",
       "       '19G20', '9C40', '9C30', '6B30', '10H70', '4F20', '18F20', '20G30',\n",
       "       '19G40', '20G20', '17E20', '9C20', '19G10', '14D20', '8C20',\n",
       "       '8C30', '17E40', '6B50', '12D70', 'UNK', '1A40', '7C10', '1A50',\n",
       "       '10H40', '13D20', '18F10', '6B60', '10H50', '13D40', '2A30',\n",
       "       '3B50', '19G50', '14D50', '1A10', '15E30', '12D50', '14D30',\n",
       "       '8C60', '1A30', '18F40', '4F30', '20G50', '7C20', '3B30', '12D10',\n",
       "       '15E10', '18F50', '14D10', '11H20', '5F30', '15E20', '23J50',\n",
       "       '17E10', '6B10', '19G30', '18F30', '20G10', '2A40', '24C40',\n",
       "       '14D40', '4F10', '10H60', '3B40', '10H80', '5F20', '16E40',\n",
       "       '12D60', '6B40', '7C40', '13D30', '20G80', '10H20', '7C50',\n",
       "       '15E40', '2A50', '8C50', '24C10', '20G40', '13D10', '2A20',\n",
       "       '20G70', '7C30', '16E10', '12D30', '9C10', '16E30', '6B20', '2A10',\n",
       "       '8C10', '21I20', '11H30', '24C20', '17E30', '10H30', '5F40',\n",
       "       '2A60', '21I10', '10H10', '16E20', '11H50', '20G60', '12D40',\n",
       "       '24C30', '21I50', '8C40', '24C50', '21I30', '11H40', '21I70',\n",
       "       '21I40', '21I60', '23J40', '23J10', '7C60', '23J30', '23J20',\n",
       "       'HCSO', 'OOJ', 'UH-3P', '3B20'], dtype=object)"
      ]
     },
     "execution_count": 30,
     "metadata": {},
     "output_type": "execute_result"
    }
   ],
   "source": [
    "df.Beat.unique()"
   ]
  },
  {
   "cell_type": "markdown",
   "metadata": {},
   "source": [
    "# BlockRange"
   ]
  },
  {
   "cell_type": "code",
   "execution_count": 31,
   "metadata": {},
   "outputs": [
    {
     "data": {
      "text/plain": [
       "348"
      ]
     },
     "execution_count": 31,
     "metadata": {},
     "output_type": "execute_result"
    }
   ],
   "source": [
    "len(df.BlockRange.unique())"
   ]
  },
  {
   "cell_type": "markdown",
   "metadata": {},
   "source": [
    "# StreetName"
   ]
  },
  {
   "cell_type": "code",
   "execution_count": 32,
   "metadata": {},
   "outputs": [
    {
     "data": {
      "text/plain": [
       "24719"
      ]
     },
     "execution_count": 32,
     "metadata": {},
     "output_type": "execute_result"
    }
   ],
   "source": [
    "len(df.StreetName.unique())"
   ]
  },
  {
   "cell_type": "code",
   "execution_count": 33,
   "metadata": {},
   "outputs": [
    {
     "data": {
      "text/plain": [
       "array(['LAKE HOUSTON', 'BELLAIRE', 'GULF', ..., 'IVY BUSH BEND',\n",
       "       'PO BOX 5124', 'LEHALL STREET'], dtype=object)"
      ]
     },
     "execution_count": 33,
     "metadata": {},
     "output_type": "execute_result"
    }
   ],
   "source": [
    "df.StreetName.unique()"
   ]
  },
  {
   "cell_type": "markdown",
   "metadata": {},
   "source": [
    "# OffenseType"
   ]
  },
  {
   "cell_type": "code",
   "execution_count": 34,
   "metadata": {},
   "outputs": [
    {
     "data": {
      "text/plain": [
       "8"
      ]
     },
     "execution_count": 34,
     "metadata": {},
     "output_type": "execute_result"
    }
   ],
   "source": [
    "len(df.OffenseType.unique())"
   ]
  },
  {
   "cell_type": "code",
   "execution_count": 35,
   "metadata": {},
   "outputs": [
    {
     "data": {
      "text/plain": [
       "array(['Burglary', 'Auto Theft', 'Theft', 'Rape', 'Aggravated Assault',\n",
       "       'Robbery', 'Murder', '1'], dtype=object)"
      ]
     },
     "execution_count": 35,
     "metadata": {},
     "output_type": "execute_result"
    }
   ],
   "source": [
    "df.OffenseType.unique()"
   ]
  },
  {
   "cell_type": "code",
   "execution_count": 36,
   "metadata": {},
   "outputs": [
    {
     "data": {
      "text/plain": [
       "Theft                 554365\n",
       "Burglary              182240\n",
       "Auto Theft            100894\n",
       "Aggravated Assault     82971\n",
       "Robbery                76783\n",
       "Rape                    7129\n",
       "Murder                  1926\n",
       "1                         14\n",
       "Name: OffenseType, dtype: int64"
      ]
     },
     "execution_count": 36,
     "metadata": {},
     "output_type": "execute_result"
    }
   ],
   "source": [
    "df.OffenseType.value_counts(dropna=False)"
   ]
  },
  {
   "cell_type": "markdown",
   "metadata": {},
   "source": [
    "# Premise"
   ]
  },
  {
   "cell_type": "code",
   "execution_count": 37,
   "metadata": {},
   "outputs": [
    {
     "data": {
      "text/plain": [
       "265"
      ]
     },
     "execution_count": 37,
     "metadata": {},
     "output_type": "execute_result"
    }
   ],
   "source": [
    "len(df.Premise.unique())"
   ]
  },
  {
   "cell_type": "code",
   "execution_count": 41,
   "metadata": {},
   "outputs": [
    {
     "data": {
      "text/plain": [
       "APARTMENT                74377\n",
       "RESIDENCE/HOUSE          74346\n",
       "APARTMENT PARKING LOT    65458\n",
       "Residence or House       55408\n",
       "Apartment Parking Lot    45677\n",
       "Name: Premise, dtype: int64"
      ]
     },
     "execution_count": 41,
     "metadata": {},
     "output_type": "execute_result"
    }
   ],
   "source": [
    "df.Premise.value_counts().head()"
   ]
  },
  {
   "cell_type": "markdown",
   "metadata": {},
   "source": [
    "# NumOffenses"
   ]
  },
  {
   "cell_type": "code",
   "execution_count": 42,
   "metadata": {},
   "outputs": [
    {
     "data": {
      "text/plain": [
       "17"
      ]
     },
     "execution_count": 42,
     "metadata": {},
     "output_type": "execute_result"
    }
   ],
   "source": [
    "len(df.NumOffenses.unique())"
   ]
  },
  {
   "cell_type": "code",
   "execution_count": 43,
   "metadata": {},
   "outputs": [
    {
     "data": {
      "text/plain": [
       "array([ 1.,  2.,  4.,  3., 16.,  5.,  9.,  6., 13.,  7.,  8., 11., 29.,\n",
       "       12., 17., 33., 10.])"
      ]
     },
     "execution_count": 43,
     "metadata": {},
     "output_type": "execute_result"
    }
   ],
   "source": [
    "df.NumOffenses.unique()"
   ]
  },
  {
   "cell_type": "code",
   "execution_count": 44,
   "metadata": {},
   "outputs": [
    {
     "data": {
      "text/plain": [
       "1.0     993646\n",
       "2.0      10646\n",
       "3.0       1611\n",
       "4.0        247\n",
       "5.0         80\n",
       "6.0         46\n",
       "7.0         15\n",
       "8.0         10\n",
       "9.0          4\n",
       "13.0         4\n",
       "16.0         3\n",
       "10.0         3\n",
       "12.0         2\n",
       "17.0         2\n",
       "11.0         1\n",
       "33.0         1\n",
       "29.0         1\n",
       "Name: NumOffenses, dtype: int64"
      ]
     },
     "execution_count": 44,
     "metadata": {},
     "output_type": "execute_result"
    }
   ],
   "source": [
    "df.NumOffenses.value_counts(dropna=False)"
   ]
  },
  {
   "cell_type": "markdown",
   "metadata": {},
   "source": [
    "# Hour"
   ]
  },
  {
   "cell_type": "code",
   "execution_count": 45,
   "metadata": {},
   "outputs": [
    {
     "data": {
      "text/plain": [
       "24"
      ]
     },
     "execution_count": 45,
     "metadata": {},
     "output_type": "execute_result"
    }
   ],
   "source": [
    "len(df.Hour.unique())"
   ]
  },
  {
   "cell_type": "code",
   "execution_count": 46,
   "metadata": {},
   "outputs": [
    {
     "data": {
      "text/plain": [
       "array([ 7,  3, 19, 22, 23, 10, 13, 16, 15, 17, 12,  9, 14, 11, 18,  5,  8,\n",
       "        6,  0, 20,  2, 21,  1,  4])"
      ]
     },
     "execution_count": 46,
     "metadata": {},
     "output_type": "execute_result"
    }
   ],
   "source": [
    "df.Hour.unique()"
   ]
  },
  {
   "cell_type": "code",
   "execution_count": 47,
   "metadata": {},
   "outputs": [
    {
     "data": {
      "text/plain": [
       "18    57416\n",
       "12    57372\n",
       "17    55942\n",
       "15    55389\n",
       "16    53942\n",
       "19    52977\n",
       "14    52428\n",
       "20    51367\n",
       "13    49751\n",
       "22    48457\n",
       "10    48215\n",
       "11    47592\n",
       "21    47300\n",
       "9     45251\n",
       "8     44967\n",
       "0     43489\n",
       "23    39759\n",
       "7     36471\n",
       "1     24245\n",
       "6     24008\n",
       "2     22512\n",
       "3     17646\n",
       "5     15499\n",
       "4     14327\n",
       "Name: Hour, dtype: int64"
      ]
     },
     "execution_count": 47,
     "metadata": {},
     "output_type": "execute_result"
    }
   ],
   "source": [
    "df.Hour.value_counts(dropna=False)  # need to  change 24 to 0"
   ]
  },
  {
   "cell_type": "code",
   "execution_count": 50,
   "metadata": {},
   "outputs": [
    {
     "data": {
      "text/plain": [
       "31"
      ]
     },
     "execution_count": 50,
     "metadata": {},
     "output_type": "execute_result"
    }
   ],
   "source": [
    "len(df.day.unique())"
   ]
  },
  {
   "cell_type": "code",
   "execution_count": 51,
   "metadata": {},
   "outputs": [
    {
     "data": {
      "text/plain": [
       "array([ 8,  2,  3,  5, 14, 24, 30, 29, 15, 25, 23,  6, 22, 20, 16, 18, 28,\n",
       "       26,  9, 31,  1, 27, 12, 17,  7, 21, 13, 10, 11, 19,  4])"
      ]
     },
     "execution_count": 51,
     "metadata": {},
     "output_type": "execute_result"
    }
   ],
   "source": [
    "df.day.unique()"
   ]
  },
  {
   "cell_type": "code",
   "execution_count": 52,
   "metadata": {},
   "outputs": [
    {
     "data": {
      "text/plain": [
       "1     36483\n",
       "20    33865\n",
       "15    33814\n",
       "16    33367\n",
       "17    33318\n",
       "Name: day, dtype: int64"
      ]
     },
     "execution_count": 52,
     "metadata": {},
     "output_type": "execute_result"
    }
   ],
   "source": [
    "df.day.value_counts(dropna=False).head()"
   ]
  },
  {
   "cell_type": "code",
   "execution_count": 53,
   "metadata": {},
   "outputs": [],
   "source": [
    "df.day = pd.to_numeric(df.day)"
   ]
  },
  {
   "cell_type": "code",
   "execution_count": 54,
   "metadata": {},
   "outputs": [
    {
     "data": {
      "text/plain": [
       "31"
      ]
     },
     "execution_count": 54,
     "metadata": {},
     "output_type": "execute_result"
    }
   ],
   "source": [
    "len(df.day.unique())"
   ]
  },
  {
   "cell_type": "code",
   "execution_count": 55,
   "metadata": {},
   "outputs": [
    {
     "data": {
      "text/plain": [
       "array([ 8,  2,  3,  5, 14, 24, 30, 29, 15, 25, 23,  6, 22, 20, 16, 18, 28,\n",
       "       26,  9, 31,  1, 27, 12, 17,  7, 21, 13, 10, 11, 19,  4])"
      ]
     },
     "execution_count": 55,
     "metadata": {},
     "output_type": "execute_result"
    }
   ],
   "source": [
    "df.day.unique()"
   ]
  },
  {
   "cell_type": "code",
   "execution_count": 56,
   "metadata": {},
   "outputs": [
    {
     "data": {
      "text/plain": [
       "1     36483\n",
       "20    33865\n",
       "15    33814\n",
       "16    33367\n",
       "17    33318\n",
       "Name: day, dtype: int64"
      ]
     },
     "execution_count": 56,
     "metadata": {},
     "output_type": "execute_result"
    }
   ],
   "source": [
    "df.day.value_counts(dropna=False).head()"
   ]
  },
  {
   "cell_type": "markdown",
   "metadata": {},
   "source": [
    "# weekday"
   ]
  },
  {
   "cell_type": "code",
   "execution_count": 57,
   "metadata": {},
   "outputs": [
    {
     "data": {
      "text/plain": [
       "array(['Tuesday', 'Monday', 'Thursday', 'Saturday', 'Friday', 'Wednesday',\n",
       "       'Sunday'], dtype=object)"
      ]
     },
     "execution_count": 57,
     "metadata": {},
     "output_type": "execute_result"
    }
   ],
   "source": [
    "df.weekday.unique()"
   ]
  },
  {
   "cell_type": "code",
   "execution_count": 58,
   "metadata": {},
   "outputs": [
    {
     "data": {
      "text/plain": [
       "Friday       154377\n",
       "Monday       148218\n",
       "Thursday     144822\n",
       "Wednesday    144241\n",
       "Tuesday      143437\n",
       "Saturday     142584\n",
       "Sunday       128643\n",
       "Name: weekday, dtype: int64"
      ]
     },
     "execution_count": 58,
     "metadata": {},
     "output_type": "execute_result"
    }
   ],
   "source": [
    "df.weekday.value_counts(dropna=False)"
   ]
  },
  {
   "cell_type": "markdown",
   "metadata": {},
   "source": [
    "# month"
   ]
  },
  {
   "cell_type": "code",
   "execution_count": 59,
   "metadata": {},
   "outputs": [
    {
     "data": {
      "text/plain": [
       "array(['Sep', 'Nov', 'Dec', 'Jan', 'Apr', 'Jul', 'May', 'Jun', 'Aug',\n",
       "       'Oct', 'Feb', 'Mar'], dtype=object)"
      ]
     },
     "execution_count": 59,
     "metadata": {},
     "output_type": "execute_result"
    }
   ],
   "source": [
    "df.month.unique()"
   ]
  },
  {
   "cell_type": "code",
   "execution_count": 60,
   "metadata": {},
   "outputs": [
    {
     "data": {
      "text/plain": [
       "Jul    88957\n",
       "May    88471\n",
       "Aug    88283\n",
       "Dec    86742\n",
       "Jan    85865\n",
       "Oct    85075\n",
       "Apr    83205\n",
       "Jun    83013\n",
       "Sep    81957\n",
       "Nov    81738\n",
       "Mar    81307\n",
       "Feb    71709\n",
       "Name: month, dtype: int64"
      ]
     },
     "execution_count": 60,
     "metadata": {},
     "output_type": "execute_result"
    }
   ],
   "source": [
    "df.month.value_counts(dropna=False)"
   ]
  },
  {
   "cell_type": "markdown",
   "metadata": {},
   "source": [
    "# year"
   ]
  },
  {
   "cell_type": "code",
   "execution_count": 61,
   "metadata": {},
   "outputs": [
    {
     "data": {
      "text/plain": [
       "71"
      ]
     },
     "execution_count": 61,
     "metadata": {},
     "output_type": "execute_result"
    }
   ],
   "source": [
    "len(df.year.unique())"
   ]
  },
  {
   "cell_type": "code",
   "execution_count": 62,
   "metadata": {},
   "outputs": [
    {
     "data": {
      "text/plain": [
       "array([1914, 1915, 1916, 1917, 1918, 1919, 1920, 1921, 1924, 1926, 1927,\n",
       "       1953, 1959, 1963, 1964, 1965, 1966, 1969, 1970, 1971, 1972, 1973,\n",
       "       1974, 1975, 1976, 1977, 1978, 1979, 1980, 1981, 1982, 1983, 1984,\n",
       "       1985, 1986, 1987, 1988, 1989, 1990, 1991, 1992, 1993, 1994, 1995,\n",
       "       1996, 1997, 1998, 1999, 2000, 2001, 2002, 2003, 2004, 2005, 2006,\n",
       "       2007, 2008, 2009, 2010, 2011, 2012, 2013, 2014, 2015, 2016, 2017,\n",
       "       2019, 2020, 2021, 2029, 2033])"
      ]
     },
     "execution_count": 62,
     "metadata": {},
     "output_type": "execute_result"
    }
   ],
   "source": [
    "df.year.unique()"
   ]
  },
  {
   "cell_type": "code",
   "execution_count": 63,
   "metadata": {},
   "outputs": [
    {
     "data": {
      "text/plain": [
       "2010    136357\n",
       "2013    130200\n",
       "2012    127486\n",
       "2011    127168\n",
       "2016    122423\n",
       "2014    121450\n",
       "2015    120079\n",
       "2017    118578\n",
       "2009      1596\n",
       "2008       195\n",
       "2001       146\n",
       "2007       109\n",
       "2005        98\n",
       "2006        87\n",
       "2000        56\n",
       "2004        53\n",
       "2003        40\n",
       "2002        28\n",
       "1999        12\n",
       "1993         9\n",
       "1980         9\n",
       "1995         8\n",
       "1915         8\n",
       "1998         7\n",
       "1992         6\n",
       "1990         6\n",
       "1916         6\n",
       "1977         6\n",
       "1972         5\n",
       "1989         5\n",
       "         ...  \n",
       "1991         3\n",
       "1988         3\n",
       "1982         2\n",
       "1973         2\n",
       "2019         2\n",
       "1997         2\n",
       "1981         2\n",
       "1969         2\n",
       "1965         2\n",
       "1976         2\n",
       "1986         2\n",
       "1978         2\n",
       "1974         2\n",
       "1985         2\n",
       "2029         1\n",
       "1921         1\n",
       "2021         1\n",
       "2020         1\n",
       "1984         1\n",
       "1918         1\n",
       "1919         1\n",
       "1927         1\n",
       "1924         1\n",
       "1926         1\n",
       "1953         1\n",
       "1959         1\n",
       "1963         1\n",
       "1975         1\n",
       "1970         1\n",
       "2033         1\n",
       "Name: year, Length: 71, dtype: int64"
      ]
     },
     "execution_count": 63,
     "metadata": {},
     "output_type": "execute_result"
    }
   ],
   "source": [
    "df.year.value_counts(dropna=False)"
   ]
  },
  {
   "cell_type": "code",
   "execution_count": 64,
   "metadata": {},
   "outputs": [],
   "source": [
    "df.year = pd.to_numeric(df.year)"
   ]
  },
  {
   "cell_type": "code",
   "execution_count": 65,
   "metadata": {},
   "outputs": [
    {
     "data": {
      "text/plain": [
       "71"
      ]
     },
     "execution_count": 65,
     "metadata": {},
     "output_type": "execute_result"
    }
   ],
   "source": [
    "len(df.year.unique())"
   ]
  },
  {
   "cell_type": "code",
   "execution_count": 66,
   "metadata": {},
   "outputs": [
    {
     "data": {
      "text/plain": [
       "array([1914, 1915, 1916, 1917, 1918, 1919, 1920, 1921, 1924, 1926, 1927,\n",
       "       1953, 1959, 1963, 1964, 1965, 1966, 1969, 1970, 1971, 1972, 1973,\n",
       "       1974, 1975, 1976, 1977, 1978, 1979, 1980, 1981, 1982, 1983, 1984,\n",
       "       1985, 1986, 1987, 1988, 1989, 1990, 1991, 1992, 1993, 1994, 1995,\n",
       "       1996, 1997, 1998, 1999, 2000, 2001, 2002, 2003, 2004, 2005, 2006,\n",
       "       2007, 2008, 2009, 2010, 2011, 2012, 2013, 2014, 2015, 2016, 2017,\n",
       "       2019, 2020, 2021, 2029, 2033])"
      ]
     },
     "execution_count": 66,
     "metadata": {},
     "output_type": "execute_result"
    }
   ],
   "source": [
    "df.year.unique()"
   ]
  },
  {
   "cell_type": "code",
   "execution_count": 67,
   "metadata": {},
   "outputs": [
    {
     "data": {
      "text/plain": [
       "2010    136357\n",
       "2013    130200\n",
       "2012    127486\n",
       "2011    127168\n",
       "2016    122423\n",
       "2014    121450\n",
       "2015    120079\n",
       "2017    118578\n",
       "2009      1596\n",
       "2008       195\n",
       "2001       146\n",
       "Name: year, dtype: int64"
      ]
     },
     "execution_count": 67,
     "metadata": {},
     "output_type": "execute_result"
    }
   ],
   "source": [
    "df.year.value_counts(dropna=False).head(11)"
   ]
  },
  {
   "cell_type": "code",
   "execution_count": 68,
   "metadata": {},
   "outputs": [
    {
     "name": "stdout",
     "output_type": "stream",
     "text": [
      "<class 'pandas.core.frame.DataFrame'>\n",
      "DatetimeIndex: 1006322 entries, 1914-09-08 07:00:00 to 2033-04-21 00:00:00\n",
      "Data columns (total 11 columns):\n",
      "Beat           1006322 non-null object\n",
      "BlockRange     1006165 non-null object\n",
      "StreetName     1006320 non-null object\n",
      "OffenseType    1006322 non-null object\n",
      "Premise        1006322 non-null object\n",
      "NumOffenses    1006322 non-null float64\n",
      "Hour           1006322 non-null int64\n",
      "day            1006322 non-null int64\n",
      "weekday        1006322 non-null object\n",
      "month          1006322 non-null object\n",
      "year           1006322 non-null int64\n",
      "dtypes: float64(1), int64(3), object(7)\n",
      "memory usage: 112.1+ MB\n"
     ]
    }
   ],
   "source": [
    "df.info()"
   ]
  },
  {
   "cell_type": "code",
   "execution_count": null,
   "metadata": {},
   "outputs": [],
   "source": [
    "len(df[df.isnull().any(axis=1)])"
   ]
  },
  {
   "cell_type": "code",
   "execution_count": null,
   "metadata": {},
   "outputs": [],
   "source": [
    "df[df.isnull().any(axis=1)]"
   ]
  },
  {
   "cell_type": "markdown",
   "metadata": {},
   "source": [
    "# Save Final Clean Data"
   ]
  },
  {
   "cell_type": "code",
   "execution_count": null,
   "metadata": {},
   "outputs": [],
   "source": []
  },
  {
   "cell_type": "code",
   "execution_count": null,
   "metadata": {},
   "outputs": [],
   "source": [
    "ls crime_data_clean/"
   ]
  },
  {
   "cell_type": "code",
   "execution_count": 70,
   "metadata": {},
   "outputs": [
    {
     "name": "stdout",
     "output_type": "stream",
     "text": [
      "<class 'pandas.core.frame.DataFrame'>\n",
      "DatetimeIndex: 1006322 entries, 1914-09-08 07:00:00 to 2033-04-21 00:00:00\n",
      "Data columns (total 11 columns):\n",
      "Beat           1006322 non-null object\n",
      "BlockRange     1006165 non-null object\n",
      "StreetName     1006320 non-null object\n",
      "OffenseType    1006322 non-null object\n",
      "Premise        1006322 non-null object\n",
      "NumOffenses    1006322 non-null float64\n",
      "Hour           1006322 non-null int64\n",
      "day            1006322 non-null int64\n",
      "weekday        1006322 non-null object\n",
      "month          1006322 non-null object\n",
      "year           1006322 non-null int64\n",
      "dtypes: float64(1), int64(3), object(7)\n",
      "memory usage: 112.1+ MB\n"
     ]
    }
   ],
   "source": [
    "df.info()"
   ]
  },
  {
   "cell_type": "code",
   "execution_count": 71,
   "metadata": {},
   "outputs": [
    {
     "data": {
      "text/html": [
       "<div>\n",
       "<style scoped>\n",
       "    .dataframe tbody tr th:only-of-type {\n",
       "        vertical-align: middle;\n",
       "    }\n",
       "\n",
       "    .dataframe tbody tr th {\n",
       "        vertical-align: top;\n",
       "    }\n",
       "\n",
       "    .dataframe thead th {\n",
       "        text-align: right;\n",
       "    }\n",
       "</style>\n",
       "<table border=\"1\" class=\"dataframe\">\n",
       "  <thead>\n",
       "    <tr style=\"text-align: right;\">\n",
       "      <th></th>\n",
       "      <th>Beat</th>\n",
       "      <th>BlockRange</th>\n",
       "      <th>StreetName</th>\n",
       "      <th>OffenseType</th>\n",
       "      <th>Premise</th>\n",
       "      <th>NumOffenses</th>\n",
       "      <th>Hour</th>\n",
       "      <th>day</th>\n",
       "      <th>weekday</th>\n",
       "      <th>month</th>\n",
       "      <th>year</th>\n",
       "    </tr>\n",
       "    <tr>\n",
       "      <th>Date_Hour</th>\n",
       "      <th></th>\n",
       "      <th></th>\n",
       "      <th></th>\n",
       "      <th></th>\n",
       "      <th></th>\n",
       "      <th></th>\n",
       "      <th></th>\n",
       "      <th></th>\n",
       "      <th></th>\n",
       "      <th></th>\n",
       "      <th></th>\n",
       "    </tr>\n",
       "  </thead>\n",
       "  <tbody>\n",
       "    <tr>\n",
       "      <th>1914-09-08 07:00:00</th>\n",
       "      <td>24C60</td>\n",
       "      <td>12700-12799</td>\n",
       "      <td>LAKE HOUSTON</td>\n",
       "      <td>Burglary</td>\n",
       "      <td>Restaurant or Cafeteria</td>\n",
       "      <td>1.0</td>\n",
       "      <td>7</td>\n",
       "      <td>8</td>\n",
       "      <td>Tuesday</td>\n",
       "      <td>Sep</td>\n",
       "      <td>1914</td>\n",
       "    </tr>\n",
       "    <tr>\n",
       "      <th>1914-11-02 03:00:00</th>\n",
       "      <td>18F60</td>\n",
       "      <td>8800-8899</td>\n",
       "      <td>BELLAIRE</td>\n",
       "      <td>Burglary</td>\n",
       "      <td>Miscellaneous Business (Non-Specific)</td>\n",
       "      <td>1.0</td>\n",
       "      <td>3</td>\n",
       "      <td>2</td>\n",
       "      <td>Monday</td>\n",
       "      <td>Nov</td>\n",
       "      <td>1914</td>\n",
       "    </tr>\n",
       "    <tr>\n",
       "      <th>1914-12-03 19:00:00</th>\n",
       "      <td>12D20</td>\n",
       "      <td>12800-12899</td>\n",
       "      <td>GULF</td>\n",
       "      <td>Auto Theft</td>\n",
       "      <td>No label</td>\n",
       "      <td>1.0</td>\n",
       "      <td>19</td>\n",
       "      <td>3</td>\n",
       "      <td>Thursday</td>\n",
       "      <td>Dec</td>\n",
       "      <td>1914</td>\n",
       "    </tr>\n",
       "    <tr>\n",
       "      <th>1915-01-05 22:00:00</th>\n",
       "      <td>3B10</td>\n",
       "      <td>3200-3299</td>\n",
       "      <td>MANGUM RD 180</td>\n",
       "      <td>Theft</td>\n",
       "      <td>Other Parking Lot</td>\n",
       "      <td>1.0</td>\n",
       "      <td>22</td>\n",
       "      <td>5</td>\n",
       "      <td>Tuesday</td>\n",
       "      <td>Jan</td>\n",
       "      <td>1915</td>\n",
       "    </tr>\n",
       "    <tr>\n",
       "      <th>1915-01-14 23:00:00</th>\n",
       "      <td>5F10</td>\n",
       "      <td>7000-7099</td>\n",
       "      <td>WESTVIEW</td>\n",
       "      <td>Auto Theft</td>\n",
       "      <td>Apartment Parking Lot</td>\n",
       "      <td>1.0</td>\n",
       "      <td>23</td>\n",
       "      <td>14</td>\n",
       "      <td>Thursday</td>\n",
       "      <td>Jan</td>\n",
       "      <td>1915</td>\n",
       "    </tr>\n",
       "  </tbody>\n",
       "</table>\n",
       "</div>"
      ],
      "text/plain": [
       "                      Beat   BlockRange     StreetName OffenseType  \\\n",
       "Date_Hour                                                            \n",
       "1914-09-08 07:00:00  24C60  12700-12799   LAKE HOUSTON    Burglary   \n",
       "1914-11-02 03:00:00  18F60    8800-8899       BELLAIRE    Burglary   \n",
       "1914-12-03 19:00:00  12D20  12800-12899           GULF  Auto Theft   \n",
       "1915-01-05 22:00:00   3B10    3200-3299  MANGUM RD 180       Theft   \n",
       "1915-01-14 23:00:00   5F10    7000-7099       WESTVIEW  Auto Theft   \n",
       "\n",
       "                                                   Premise  NumOffenses  Hour  \\\n",
       "Date_Hour                                                                       \n",
       "1914-09-08 07:00:00                Restaurant or Cafeteria          1.0     7   \n",
       "1914-11-02 03:00:00  Miscellaneous Business (Non-Specific)          1.0     3   \n",
       "1914-12-03 19:00:00                               No label          1.0    19   \n",
       "1915-01-05 22:00:00                      Other Parking Lot          1.0    22   \n",
       "1915-01-14 23:00:00                  Apartment Parking Lot          1.0    23   \n",
       "\n",
       "                     day   weekday month  year  \n",
       "Date_Hour                                       \n",
       "1914-09-08 07:00:00    8   Tuesday   Sep  1914  \n",
       "1914-11-02 03:00:00    2    Monday   Nov  1914  \n",
       "1914-12-03 19:00:00    3  Thursday   Dec  1914  \n",
       "1915-01-05 22:00:00    5   Tuesday   Jan  1915  \n",
       "1915-01-14 23:00:00   14  Thursday   Jan  1915  "
      ]
     },
     "execution_count": 71,
     "metadata": {},
     "output_type": "execute_result"
    }
   ],
   "source": [
    "df.head()"
   ]
  },
  {
   "cell_type": "code",
   "execution_count": 73,
   "metadata": {},
   "outputs": [
    {
     "data": {
      "text/plain": [
       "19G10    21454\n",
       "12D10    21269\n",
       "1A20     20997\n",
       "6B60     20110\n",
       "13D20    19194\n",
       "3B10     18251\n",
       "18F20    17604\n",
       "17E10    17494\n",
       "5F30     16528\n",
       "18F30    16521\n",
       "Name: Beat, dtype: int64"
      ]
     },
     "execution_count": 73,
     "metadata": {},
     "output_type": "execute_result"
    }
   ],
   "source": [
    "df.Beat.value_counts()[:10]"
   ]
  },
  {
   "cell_type": "code",
   "execution_count": 77,
   "metadata": {},
   "outputs": [
    {
     "data": {
      "text/plain": [
       "900-999      13868\n",
       "100-199      13831\n",
       "800-899      11944\n",
       "700-799      11737\n",
       "2400-2499    11510\n",
       "2300-2399    11431\n",
       "1000-1099    11268\n",
       "9400-9499    11255\n",
       "7900-7999    11138\n",
       "300-399      11007\n",
       "Name: BlockRange, dtype: int64"
      ]
     },
     "execution_count": 77,
     "metadata": {},
     "output_type": "execute_result"
    }
   ],
   "source": [
    "df.BlockRange.value_counts(dropna=False)[:10]"
   ]
  },
  {
   "cell_type": "code",
   "execution_count": 79,
   "metadata": {},
   "outputs": [
    {
     "data": {
      "text/plain": [
       "WESTHEIMER                     27611\n",
       "GULF                           14183\n",
       "GESSNER                        13952\n",
       "NORTH                          12673\n",
       "RICHMOND                       12406\n",
       "KATY                           10156\n",
       "SOUTHWEST                       9964\n",
       "MAIN                            9274\n",
       "BISSONNET                       9043\n",
       "NORTHWEST                       8873\n",
       "BELLAIRE                        8638\n",
       "BELLFORT                        7714\n",
       "FM 1960                         7451\n",
       "BEECHNUT                        7097\n",
       "GREENS                          7009\n",
       "FONDREN                         6932\n",
       "POST OAK                        6676\n",
       "TIDWELL                         6403\n",
       "LITTLE YORK                     6280\n",
       "BROADWAY                        6278\n",
       "EAST                            5776\n",
       "SHEPHERD                        5617\n",
       "WEST SAM HOUSTON                5559\n",
       "SAM HOUSTON                     5260\n",
       "AIRLINE                         5085\n",
       "KIRBY                           4917\n",
       "LOOP                            4676\n",
       "HILLCROFT                       4491\n",
       "FANNIN                          4474\n",
       "WAYSIDE                         4269\n",
       "                               ...  \n",
       "MILITARY                           1\n",
       "BOONRIDGE RD                       1\n",
       "P O BX 31032                       1\n",
       "ALMEDA IBOB                        1\n",
       "CULMORE STREET                     1\n",
       "RICHMOND AVE 1208                  1\n",
       "WESTCOTT 152                       1\n",
       "HERMANN MUSEUM CIRCLE DR SU        1\n",
       "PO BOX 891525                      1\n",
       "WANDA LANE                         1\n",
       "GRASS DANCER DRIVE                 1\n",
       "EL DORADO APT 513                  1\n",
       "2 BRINGHURST                       1\n",
       "WEST SHERRI CIRCLE                 1\n",
       "SYCAMORE LANE APT 1116             1\n",
       "I-45 SOUTH                         1\n",
       "S. PARK VIEW                       1\n",
       "VALLEY BREEZE DR                   1\n",
       "SAM ST                             1\n",
       "DURHAM DR.                         1\n",
       "EAST 12TH STREET                   1\n",
       "BISMARK ST                         1\n",
       "LEMOND DR                          1\n",
       "HOMELESSS                          1\n",
       "RHODES                             1\n",
       "DAVIS RD APT B112                  1\n",
       "VANFLEET                           1\n",
       "WIXFORD                            1\n",
       "OAK CLIFF                          1\n",
       "CLAREWOOD OAK ESTATE               1\n",
       "Name: StreetName, Length: 24719, dtype: int64"
      ]
     },
     "execution_count": 79,
     "metadata": {},
     "output_type": "execute_result"
    }
   ],
   "source": [
    "df.StreetName.value_counts(dropna=False)"
   ]
  },
  {
   "cell_type": "code",
   "execution_count": 81,
   "metadata": {},
   "outputs": [
    {
     "data": {
      "text/plain": [
       "Theft                 554365\n",
       "Burglary              182240\n",
       "Auto Theft            100894\n",
       "Aggravated Assault     82971\n",
       "Robbery                76783\n",
       "Rape                    7129\n",
       "Murder                  1926\n",
       "1                         14\n",
       "Name: OffenseType, dtype: int64"
      ]
     },
     "execution_count": 81,
     "metadata": {},
     "output_type": "execute_result"
    }
   ],
   "source": [
    "df.OffenseType.value_counts(dropna=False)"
   ]
  },
  {
   "cell_type": "code",
   "execution_count": 83,
   "metadata": {},
   "outputs": [
    {
     "data": {
      "text/plain": [
       "APARTMENT                                    74377\n",
       "RESIDENCE/HOUSE                              74346\n",
       "APARTMENT PARKING LOT                        65458\n",
       "Residence or House                           55408\n",
       "Apartment Parking Lot                        45677\n",
       "ROAD/STREET/SIDEWALK                         41659\n",
       "Road, Street, or Sidewalk                    40120\n",
       "Apartment                                    39825\n",
       "DRIVEWAY                                     37014\n",
       "No label                                     33591\n",
       "OTHER PARKING LOT                            30042\n",
       "DEPARTMENT/DISCOUNT STORE                    24960\n",
       "RESTAURANT/CAFETERIA PARKING LOT             16952\n",
       "OTHER/UNKNOWN                                16634\n",
       "Driveway                                     15731\n",
       "Restaurant or Cafeteria Parking Lot          15519\n",
       "Other Parking Lot                            14724\n",
       "COMMERCIAL PARKING LOT/GARAGE                13878\n",
       "Department or Discount Store                 13194\n",
       "GROCERY/SUPERMARKET                          13173\n",
       "STRIP BUSINESS CENTER PARKING LOT            11041\n",
       "Miscellaneous Business (Non-Specific)        10685\n",
       "Commercial Parking Lot or Garage             10452\n",
       "Service or Gas Station                        9570\n",
       "RESTAURANT/CAFETERIA                          9108\n",
       "Grocery Store or Supermarket                  7931\n",
       "SERVICE/GAS STATION                           7680\n",
       "Strip Business Center Parking Lot             7556\n",
       "HOTEL/MOTEL PARKING LOT                       7476\n",
       "Other, Unknown, or Not Listed                 7197\n",
       "                                             ...  \n",
       "VACANT HOTEL/MOTEL/ETC.                         36\n",
       "Not Listed                                      35\n",
       "Train (Not Metro) Terminal                      34\n",
       "Jail or Prison                                  33\n",
       "Credit Union                                    32\n",
       "VACANT GOVERNMENT/PUBLIC BUILDING               29\n",
       "Tollway                                         26\n",
       "Vacant Church, Synagogue, or Temple             25\n",
       "Package Facility (FedEx,UPS,DHL)                25\n",
       "Vacant Industrial or Manufacturing Blding       24\n",
       "VACANT SCHOOL/COLLEGE                           23\n",
       "LIGHT RAIL PLATFORM                             20\n",
       "Vacant Hospital                                 19\n",
       "Vacant Government or Public Building            18\n",
       "Adult Novelty Store                             15\n",
       "Illicit Massage Parlor or Spa                   12\n",
       "VACANT HOSPITAL                                 12\n",
       "MARINE VEH. SALES,BOATS,SAILBOATS               11\n",
       "Marine Vehicle Sales, Boats, Sailboats           8\n",
       "LIGHT RAIL VEHICLE                               6\n",
       "23C                                              5\n",
       "CONTRA-FLOW/HOV                                  5\n",
       "Adult Theater/Arcade                             5\n",
       "Cantina                                          4\n",
       "Vacant Bank                                      4\n",
       "Modeling Studio                                  2\n",
       "Vacant Jail or Prison                            1\n",
       "Contra-Flow, Managed, or HOV Lanes               1\n",
       "RES                                              1\n",
       "VACANT BANK                                      1\n",
       "Name: Premise, Length: 265, dtype: int64"
      ]
     },
     "execution_count": 83,
     "metadata": {},
     "output_type": "execute_result"
    }
   ],
   "source": [
    "df.Premise.value_counts(dropna=False)"
   ]
  },
  {
   "cell_type": "code",
   "execution_count": 86,
   "metadata": {},
   "outputs": [
    {
     "data": {
      "text/plain": [
       "1.0     993646\n",
       "2.0      10646\n",
       "3.0       1611\n",
       "4.0        247\n",
       "5.0         80\n",
       "6.0         46\n",
       "7.0         15\n",
       "8.0         10\n",
       "9.0          4\n",
       "13.0         4\n",
       "16.0         3\n",
       "10.0         3\n",
       "12.0         2\n",
       "17.0         2\n",
       "11.0         1\n",
       "33.0         1\n",
       "29.0         1\n",
       "Name: NumOffenses, dtype: int64"
      ]
     },
     "execution_count": 86,
     "metadata": {},
     "output_type": "execute_result"
    }
   ],
   "source": [
    "df.NumOffenses.value_counts(dropna=False)"
   ]
  },
  {
   "cell_type": "code",
   "execution_count": 89,
   "metadata": {},
   "outputs": [],
   "source": [
    "df.NumOffenses = df.NumOffenses.astype(int)"
   ]
  },
  {
   "cell_type": "code",
   "execution_count": 90,
   "metadata": {},
   "outputs": [
    {
     "data": {
      "text/plain": [
       "1     993646\n",
       "2      10646\n",
       "3       1611\n",
       "4        247\n",
       "5         80\n",
       "6         46\n",
       "7         15\n",
       "8         10\n",
       "9          4\n",
       "13         4\n",
       "10         3\n",
       "16         3\n",
       "12         2\n",
       "17         2\n",
       "29         1\n",
       "11         1\n",
       "33         1\n",
       "Name: NumOffenses, dtype: int64"
      ]
     },
     "execution_count": 90,
     "metadata": {},
     "output_type": "execute_result"
    }
   ],
   "source": [
    "df.NumOffenses.value_counts(dropna=False)"
   ]
  },
  {
   "cell_type": "code",
   "execution_count": 92,
   "metadata": {},
   "outputs": [
    {
     "data": {
      "text/plain": [
       "1     36483\n",
       "20    33865\n",
       "15    33814\n",
       "16    33367\n",
       "17    33318\n",
       "22    33266\n",
       "19    33235\n",
       "12    33234\n",
       "21    33231\n",
       "2     33193\n",
       "10    33141\n",
       "11    33136\n",
       "18    33096\n",
       "23    33079\n",
       "13    33043\n",
       "3     33031\n",
       "28    32980\n",
       "7     32939\n",
       "14    32854\n",
       "26    32693\n",
       "8     32631\n",
       "5     32578\n",
       "6     32500\n",
       "24    32464\n",
       "9     32457\n",
       "4     32275\n",
       "27    32219\n",
       "25    31875\n",
       "29    30875\n",
       "30    30381\n",
       "31    19069\n",
       "Name: day, dtype: int64"
      ]
     },
     "execution_count": 92,
     "metadata": {},
     "output_type": "execute_result"
    }
   ],
   "source": [
    "df.day.value_counts()"
   ]
  },
  {
   "cell_type": "code",
   "execution_count": 95,
   "metadata": {},
   "outputs": [
    {
     "data": {
      "text/plain": [
       "Friday       154377\n",
       "Monday       148218\n",
       "Thursday     144822\n",
       "Wednesday    144241\n",
       "Tuesday      143437\n",
       "Saturday     142584\n",
       "Sunday       128643\n",
       "Name: weekday, dtype: int64"
      ]
     },
     "execution_count": 95,
     "metadata": {},
     "output_type": "execute_result"
    }
   ],
   "source": [
    "df.weekday.value_counts(dropna=False)"
   ]
  },
  {
   "cell_type": "code",
   "execution_count": 99,
   "metadata": {},
   "outputs": [
    {
     "data": {
      "text/plain": [
       "Jul    88957\n",
       "May    88471\n",
       "Aug    88283\n",
       "Dec    86742\n",
       "Jan    85865\n",
       "Oct    85075\n",
       "Apr    83205\n",
       "Jun    83013\n",
       "Sep    81957\n",
       "Nov    81738\n",
       "Mar    81307\n",
       "Feb    71709\n",
       "Name: month, dtype: int64"
      ]
     },
     "execution_count": 99,
     "metadata": {},
     "output_type": "execute_result"
    }
   ],
   "source": [
    "df.month.value_counts(dropna=False)"
   ]
  },
  {
   "cell_type": "markdown",
   "metadata": {},
   "source": [
    "## Slice year from 2010-2017"
   ]
  },
  {
   "cell_type": "code",
   "execution_count": 131,
   "metadata": {},
   "outputs": [],
   "source": [
    "df = df['1/1/2010':'12/31/2017']"
   ]
  },
  {
   "cell_type": "code",
   "execution_count": 133,
   "metadata": {},
   "outputs": [
    {
     "data": {
      "text/html": [
       "<div>\n",
       "<style scoped>\n",
       "    .dataframe tbody tr th:only-of-type {\n",
       "        vertical-align: middle;\n",
       "    }\n",
       "\n",
       "    .dataframe tbody tr th {\n",
       "        vertical-align: top;\n",
       "    }\n",
       "\n",
       "    .dataframe thead th {\n",
       "        text-align: right;\n",
       "    }\n",
       "</style>\n",
       "<table border=\"1\" class=\"dataframe\">\n",
       "  <thead>\n",
       "    <tr style=\"text-align: right;\">\n",
       "      <th></th>\n",
       "      <th>Beat</th>\n",
       "      <th>BlockRange</th>\n",
       "      <th>StreetName</th>\n",
       "      <th>OffenseType</th>\n",
       "      <th>Premise</th>\n",
       "      <th>NumOffenses</th>\n",
       "      <th>Hour</th>\n",
       "      <th>day</th>\n",
       "      <th>weekday</th>\n",
       "      <th>month</th>\n",
       "      <th>year</th>\n",
       "    </tr>\n",
       "    <tr>\n",
       "      <th>Date_Hour</th>\n",
       "      <th></th>\n",
       "      <th></th>\n",
       "      <th></th>\n",
       "      <th></th>\n",
       "      <th></th>\n",
       "      <th></th>\n",
       "      <th></th>\n",
       "      <th></th>\n",
       "      <th></th>\n",
       "      <th></th>\n",
       "      <th></th>\n",
       "    </tr>\n",
       "  </thead>\n",
       "  <tbody>\n",
       "    <tr>\n",
       "      <th>2010-01-01</th>\n",
       "      <td>10H10</td>\n",
       "      <td>500-599</td>\n",
       "      <td>EASTWOOD</td>\n",
       "      <td>Burglary</td>\n",
       "      <td>MISC. BUSINESS (NON-SPECIFIC)</td>\n",
       "      <td>1</td>\n",
       "      <td>0</td>\n",
       "      <td>1</td>\n",
       "      <td>Friday</td>\n",
       "      <td>Jan</td>\n",
       "      <td>2010</td>\n",
       "    </tr>\n",
       "    <tr>\n",
       "      <th>2010-01-01</th>\n",
       "      <td>4F20</td>\n",
       "      <td>4800-4899</td>\n",
       "      <td>LAURELDALE</td>\n",
       "      <td>Aggravated Assault</td>\n",
       "      <td>RESIDENCE/HOUSE</td>\n",
       "      <td>1</td>\n",
       "      <td>0</td>\n",
       "      <td>1</td>\n",
       "      <td>Friday</td>\n",
       "      <td>Jan</td>\n",
       "      <td>2010</td>\n",
       "    </tr>\n",
       "    <tr>\n",
       "      <th>2010-01-01</th>\n",
       "      <td>1A10</td>\n",
       "      <td>300-399</td>\n",
       "      <td>HAMILTON</td>\n",
       "      <td>Auto Theft</td>\n",
       "      <td>BAR/NIGHT CLUB PARKING LOT</td>\n",
       "      <td>1</td>\n",
       "      <td>0</td>\n",
       "      <td>1</td>\n",
       "      <td>Friday</td>\n",
       "      <td>Jan</td>\n",
       "      <td>2010</td>\n",
       "    </tr>\n",
       "    <tr>\n",
       "      <th>2010-01-01</th>\n",
       "      <td>24C40</td>\n",
       "      <td>24000-24099</td>\n",
       "      <td>LAKE HOUSTON</td>\n",
       "      <td>Auto Theft</td>\n",
       "      <td>ROAD/STREET/SIDEWALK</td>\n",
       "      <td>1</td>\n",
       "      <td>0</td>\n",
       "      <td>1</td>\n",
       "      <td>Friday</td>\n",
       "      <td>Jan</td>\n",
       "      <td>2010</td>\n",
       "    </tr>\n",
       "    <tr>\n",
       "      <th>2010-01-01</th>\n",
       "      <td>24C10</td>\n",
       "      <td>21700-21799</td>\n",
       "      <td>LAKEPOINT</td>\n",
       "      <td>Theft</td>\n",
       "      <td>RESIDENCE/HOUSE</td>\n",
       "      <td>1</td>\n",
       "      <td>0</td>\n",
       "      <td>1</td>\n",
       "      <td>Friday</td>\n",
       "      <td>Jan</td>\n",
       "      <td>2010</td>\n",
       "    </tr>\n",
       "  </tbody>\n",
       "</table>\n",
       "</div>"
      ],
      "text/plain": [
       "             Beat   BlockRange    StreetName         OffenseType  \\\n",
       "Date_Hour                                                          \n",
       "2010-01-01  10H10      500-599      EASTWOOD            Burglary   \n",
       "2010-01-01   4F20    4800-4899    LAURELDALE  Aggravated Assault   \n",
       "2010-01-01   1A10      300-399      HAMILTON          Auto Theft   \n",
       "2010-01-01  24C40  24000-24099  LAKE HOUSTON          Auto Theft   \n",
       "2010-01-01  24C10  21700-21799     LAKEPOINT               Theft   \n",
       "\n",
       "                                  Premise  NumOffenses  Hour  day weekday  \\\n",
       "Date_Hour                                                                   \n",
       "2010-01-01  MISC. BUSINESS (NON-SPECIFIC)            1     0    1  Friday   \n",
       "2010-01-01                RESIDENCE/HOUSE            1     0    1  Friday   \n",
       "2010-01-01     BAR/NIGHT CLUB PARKING LOT            1     0    1  Friday   \n",
       "2010-01-01           ROAD/STREET/SIDEWALK            1     0    1  Friday   \n",
       "2010-01-01                RESIDENCE/HOUSE            1     0    1  Friday   \n",
       "\n",
       "           month  year  \n",
       "Date_Hour               \n",
       "2010-01-01   Jan  2010  \n",
       "2010-01-01   Jan  2010  \n",
       "2010-01-01   Jan  2010  \n",
       "2010-01-01   Jan  2010  \n",
       "2010-01-01   Jan  2010  "
      ]
     },
     "execution_count": 133,
     "metadata": {},
     "output_type": "execute_result"
    }
   ],
   "source": [
    "df.head()"
   ]
  },
  {
   "cell_type": "code",
   "execution_count": 136,
   "metadata": {},
   "outputs": [],
   "source": [
    "df.to_csv('crime_data_clean/crime_final_clean10_17.csv')"
   ]
  },
  {
   "cell_type": "code",
   "execution_count": null,
   "metadata": {},
   "outputs": [],
   "source": []
  }
 ],
 "metadata": {
  "kernelspec": {
   "display_name": "Python 3",
   "language": "python",
   "name": "python3"
  },
  "language_info": {
   "codemirror_mode": {
    "name": "ipython",
    "version": 3
   },
   "file_extension": ".py",
   "mimetype": "text/x-python",
   "name": "python",
   "nbconvert_exporter": "python",
   "pygments_lexer": "ipython3",
   "version": "3.6.4"
  }
 },
 "nbformat": 4,
 "nbformat_minor": 2
}
