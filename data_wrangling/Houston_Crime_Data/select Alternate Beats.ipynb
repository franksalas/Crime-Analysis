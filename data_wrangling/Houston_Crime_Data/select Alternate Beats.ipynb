{
 "cells": [
  {
   "cell_type": "code",
   "execution_count": 1,
   "metadata": {},
   "outputs": [],
   "source": [
    "import pandas as pd\n",
    "import numpy as np"
   ]
  },
  {
   "cell_type": "code",
   "execution_count": 2,
   "metadata": {},
   "outputs": [],
   "source": [
    "data =  'crime_data_clean/crime_final_clean10_17.csv'"
   ]
  },
  {
   "cell_type": "code",
   "execution_count": 3,
   "metadata": {},
   "outputs": [],
   "source": [
    "df = pd.read_csv(data)"
   ]
  },
  {
   "cell_type": "code",
   "execution_count": 4,
   "metadata": {},
   "outputs": [
    {
     "name": "stdout",
     "output_type": "stream",
     "text": [
      "<class 'pandas.core.frame.DataFrame'>\n",
      "RangeIndex: 1003727 entries, 0 to 1003726\n",
      "Data columns (total 12 columns):\n",
      "Date_Hour      1003727 non-null object\n",
      "Beat           1003727 non-null object\n",
      "BlockRange     1003571 non-null object\n",
      "StreetName     1003725 non-null object\n",
      "OffenseType    1003727 non-null object\n",
      "Premise        1003727 non-null object\n",
      "NumOffenses    1003727 non-null int64\n",
      "Hour           1003727 non-null int64\n",
      "day            1003727 non-null int64\n",
      "weekday        1003727 non-null object\n",
      "month          1003727 non-null object\n",
      "year           1003727 non-null int64\n",
      "dtypes: int64(4), object(8)\n",
      "memory usage: 91.9+ MB\n"
     ]
    }
   ],
   "source": [
    "df.info()"
   ]
  },
  {
   "cell_type": "code",
   "execution_count": 5,
   "metadata": {},
   "outputs": [
    {
     "name": "stderr",
     "output_type": "stream",
     "text": [
      "/home/salas/miniconda3/envs/springboard/lib/python3.6/site-packages/ipykernel_launcher.py:2: UserWarning: Pandas doesn't allow columns to be created via a new attribute name - see https://pandas.pydata.org/pandas-docs/stable/indexing.html#attribute-access\n",
      "  \n"
     ]
    }
   ],
   "source": [
    "# date\n",
    "df.Date = pd.to_datetime(df.Date_Hour)\n",
    "\n",
    "df = df.set_index('Date_Hour').sort_index(ascending=True)"
   ]
  },
  {
   "cell_type": "code",
   "execution_count": 6,
   "metadata": {},
   "outputs": [
    {
     "data": {
      "text/html": [
       "<div>\n",
       "<style scoped>\n",
       "    .dataframe tbody tr th:only-of-type {\n",
       "        vertical-align: middle;\n",
       "    }\n",
       "\n",
       "    .dataframe tbody tr th {\n",
       "        vertical-align: top;\n",
       "    }\n",
       "\n",
       "    .dataframe thead th {\n",
       "        text-align: right;\n",
       "    }\n",
       "</style>\n",
       "<table border=\"1\" class=\"dataframe\">\n",
       "  <thead>\n",
       "    <tr style=\"text-align: right;\">\n",
       "      <th></th>\n",
       "      <th>Beat</th>\n",
       "      <th>BlockRange</th>\n",
       "      <th>StreetName</th>\n",
       "      <th>OffenseType</th>\n",
       "      <th>Premise</th>\n",
       "      <th>NumOffenses</th>\n",
       "      <th>Hour</th>\n",
       "      <th>day</th>\n",
       "      <th>weekday</th>\n",
       "      <th>month</th>\n",
       "      <th>year</th>\n",
       "    </tr>\n",
       "    <tr>\n",
       "      <th>Date_Hour</th>\n",
       "      <th></th>\n",
       "      <th></th>\n",
       "      <th></th>\n",
       "      <th></th>\n",
       "      <th></th>\n",
       "      <th></th>\n",
       "      <th></th>\n",
       "      <th></th>\n",
       "      <th></th>\n",
       "      <th></th>\n",
       "      <th></th>\n",
       "    </tr>\n",
       "  </thead>\n",
       "  <tbody>\n",
       "    <tr>\n",
       "      <th>2010-01-01 00:00:00</th>\n",
       "      <td>10H10</td>\n",
       "      <td>500-599</td>\n",
       "      <td>EASTWOOD</td>\n",
       "      <td>Burglary</td>\n",
       "      <td>misc. business (non-specific)</td>\n",
       "      <td>1</td>\n",
       "      <td>0</td>\n",
       "      <td>1</td>\n",
       "      <td>Friday</td>\n",
       "      <td>Jan</td>\n",
       "      <td>2010</td>\n",
       "    </tr>\n",
       "    <tr>\n",
       "      <th>2010-01-01 00:00:00</th>\n",
       "      <td>4F20</td>\n",
       "      <td>4800-4899</td>\n",
       "      <td>LAURELDALE</td>\n",
       "      <td>Aggravated Assault</td>\n",
       "      <td>residence/house</td>\n",
       "      <td>1</td>\n",
       "      <td>0</td>\n",
       "      <td>1</td>\n",
       "      <td>Friday</td>\n",
       "      <td>Jan</td>\n",
       "      <td>2010</td>\n",
       "    </tr>\n",
       "    <tr>\n",
       "      <th>2010-01-01 00:00:00</th>\n",
       "      <td>1A10</td>\n",
       "      <td>300-399</td>\n",
       "      <td>HAMILTON</td>\n",
       "      <td>Auto Theft</td>\n",
       "      <td>bar/night club parking lot</td>\n",
       "      <td>1</td>\n",
       "      <td>0</td>\n",
       "      <td>1</td>\n",
       "      <td>Friday</td>\n",
       "      <td>Jan</td>\n",
       "      <td>2010</td>\n",
       "    </tr>\n",
       "    <tr>\n",
       "      <th>2010-01-01 00:00:00</th>\n",
       "      <td>24C40</td>\n",
       "      <td>24000-24099</td>\n",
       "      <td>LAKE HOUSTON</td>\n",
       "      <td>Auto Theft</td>\n",
       "      <td>road/street/sidewalk</td>\n",
       "      <td>1</td>\n",
       "      <td>0</td>\n",
       "      <td>1</td>\n",
       "      <td>Friday</td>\n",
       "      <td>Jan</td>\n",
       "      <td>2010</td>\n",
       "    </tr>\n",
       "    <tr>\n",
       "      <th>2010-01-01 00:00:00</th>\n",
       "      <td>24C10</td>\n",
       "      <td>21700-21799</td>\n",
       "      <td>LAKEPOINT</td>\n",
       "      <td>Theft</td>\n",
       "      <td>residence/house</td>\n",
       "      <td>1</td>\n",
       "      <td>0</td>\n",
       "      <td>1</td>\n",
       "      <td>Friday</td>\n",
       "      <td>Jan</td>\n",
       "      <td>2010</td>\n",
       "    </tr>\n",
       "  </tbody>\n",
       "</table>\n",
       "</div>"
      ],
      "text/plain": [
       "                      Beat   BlockRange    StreetName         OffenseType  \\\n",
       "Date_Hour                                                                   \n",
       "2010-01-01 00:00:00  10H10      500-599      EASTWOOD            Burglary   \n",
       "2010-01-01 00:00:00   4F20    4800-4899    LAURELDALE  Aggravated Assault   \n",
       "2010-01-01 00:00:00   1A10      300-399      HAMILTON          Auto Theft   \n",
       "2010-01-01 00:00:00  24C40  24000-24099  LAKE HOUSTON          Auto Theft   \n",
       "2010-01-01 00:00:00  24C10  21700-21799     LAKEPOINT               Theft   \n",
       "\n",
       "                                           Premise  NumOffenses  Hour  day  \\\n",
       "Date_Hour                                                                    \n",
       "2010-01-01 00:00:00  misc. business (non-specific)            1     0    1   \n",
       "2010-01-01 00:00:00                residence/house            1     0    1   \n",
       "2010-01-01 00:00:00     bar/night club parking lot            1     0    1   \n",
       "2010-01-01 00:00:00           road/street/sidewalk            1     0    1   \n",
       "2010-01-01 00:00:00                residence/house            1     0    1   \n",
       "\n",
       "                    weekday month  year  \n",
       "Date_Hour                                \n",
       "2010-01-01 00:00:00  Friday   Jan  2010  \n",
       "2010-01-01 00:00:00  Friday   Jan  2010  \n",
       "2010-01-01 00:00:00  Friday   Jan  2010  \n",
       "2010-01-01 00:00:00  Friday   Jan  2010  \n",
       "2010-01-01 00:00:00  Friday   Jan  2010  "
      ]
     },
     "execution_count": 6,
     "metadata": {},
     "output_type": "execute_result"
    }
   ],
   "source": [
    "df.head()"
   ]
  },
  {
   "cell_type": "markdown",
   "metadata": {},
   "source": [
    "## Select Beats\n",
    "- create list with select police beats where selected stadiums are located\n",
    "- filter dataframe with those beats"
   ]
  },
  {
   "cell_type": "code",
   "execution_count": 7,
   "metadata": {},
   "outputs": [],
   "source": [
    "selected_beats = ['10H40','10H60','10H70','10H10' ]"
   ]
  },
  {
   "cell_type": "code",
   "execution_count": 8,
   "metadata": {},
   "outputs": [],
   "source": [
    "sel_df = df[df['Beat'].isin(selected_beats)]"
   ]
  },
  {
   "cell_type": "code",
   "execution_count": 9,
   "metadata": {},
   "outputs": [
    {
     "name": "stdout",
     "output_type": "stream",
     "text": [
      "<class 'pandas.core.frame.DataFrame'>\n",
      "Index: 33652 entries, 2010-01-01 00:00:00 to 2017-12-31 18:00:00\n",
      "Data columns (total 11 columns):\n",
      "Beat           33652 non-null object\n",
      "BlockRange     33651 non-null object\n",
      "StreetName     33652 non-null object\n",
      "OffenseType    33652 non-null object\n",
      "Premise        33652 non-null object\n",
      "NumOffenses    33652 non-null int64\n",
      "Hour           33652 non-null int64\n",
      "day            33652 non-null int64\n",
      "weekday        33652 non-null object\n",
      "month          33652 non-null object\n",
      "year           33652 non-null int64\n",
      "dtypes: int64(4), object(7)\n",
      "memory usage: 3.1+ MB\n"
     ]
    }
   ],
   "source": [
    "sel_df.info()"
   ]
  },
  {
   "cell_type": "markdown",
   "metadata": {},
   "source": [
    "## Inspect BlockRange"
   ]
  },
  {
   "cell_type": "code",
   "execution_count": 10,
   "metadata": {},
   "outputs": [
    {
     "data": {
      "text/plain": [
       "1"
      ]
     },
     "execution_count": 10,
     "metadata": {},
     "output_type": "execute_result"
    }
   ],
   "source": [
    "len(sel_df[sel_df.BlockRange.isnull()])"
   ]
  },
  {
   "cell_type": "code",
   "execution_count": 11,
   "metadata": {},
   "outputs": [
    {
     "data": {
      "text/html": [
       "<div>\n",
       "<style scoped>\n",
       "    .dataframe tbody tr th:only-of-type {\n",
       "        vertical-align: middle;\n",
       "    }\n",
       "\n",
       "    .dataframe tbody tr th {\n",
       "        vertical-align: top;\n",
       "    }\n",
       "\n",
       "    .dataframe thead th {\n",
       "        text-align: right;\n",
       "    }\n",
       "</style>\n",
       "<table border=\"1\" class=\"dataframe\">\n",
       "  <thead>\n",
       "    <tr style=\"text-align: right;\">\n",
       "      <th></th>\n",
       "      <th>Beat</th>\n",
       "      <th>BlockRange</th>\n",
       "      <th>StreetName</th>\n",
       "      <th>OffenseType</th>\n",
       "      <th>Premise</th>\n",
       "      <th>NumOffenses</th>\n",
       "      <th>Hour</th>\n",
       "      <th>day</th>\n",
       "      <th>weekday</th>\n",
       "      <th>month</th>\n",
       "      <th>year</th>\n",
       "    </tr>\n",
       "    <tr>\n",
       "      <th>Date_Hour</th>\n",
       "      <th></th>\n",
       "      <th></th>\n",
       "      <th></th>\n",
       "      <th></th>\n",
       "      <th></th>\n",
       "      <th></th>\n",
       "      <th></th>\n",
       "      <th></th>\n",
       "      <th></th>\n",
       "      <th></th>\n",
       "      <th></th>\n",
       "    </tr>\n",
       "  </thead>\n",
       "  <tbody>\n",
       "    <tr>\n",
       "      <th>2014-07-27 07:00:00</th>\n",
       "      <td>10H10</td>\n",
       "      <td>NaN</td>\n",
       "      <td>212.5 LENOX</td>\n",
       "      <td>Burglary</td>\n",
       "      <td>no label</td>\n",
       "      <td>1</td>\n",
       "      <td>7</td>\n",
       "      <td>27</td>\n",
       "      <td>Sunday</td>\n",
       "      <td>Jul</td>\n",
       "      <td>2014</td>\n",
       "    </tr>\n",
       "  </tbody>\n",
       "</table>\n",
       "</div>"
      ],
      "text/plain": [
       "                      Beat BlockRange   StreetName OffenseType   Premise  \\\n",
       "Date_Hour                                                                  \n",
       "2014-07-27 07:00:00  10H10        NaN  212.5 LENOX    Burglary  no label   \n",
       "\n",
       "                     NumOffenses  Hour  day weekday month  year  \n",
       "Date_Hour                                                        \n",
       "2014-07-27 07:00:00            1     7   27  Sunday   Jul  2014  "
      ]
     },
     "execution_count": 11,
     "metadata": {},
     "output_type": "execute_result"
    }
   ],
   "source": [
    "sel_df[sel_df.BlockRange.isnull()].head()"
   ]
  },
  {
   "cell_type": "code",
   "execution_count": 12,
   "metadata": {},
   "outputs": [
    {
     "data": {
      "text/plain": [
       "10H70    11423\n",
       "10H40    10460\n",
       "10H60     7697\n",
       "10H10     4072\n",
       "Name: Beat, dtype: int64"
      ]
     },
     "execution_count": 12,
     "metadata": {},
     "output_type": "execute_result"
    }
   ],
   "source": [
    "sel_df.Beat.value_counts(dropna=False)"
   ]
  },
  {
   "cell_type": "code",
   "execution_count": 13,
   "metadata": {},
   "outputs": [],
   "source": [
    "sel_df = sel_df.dropna(subset=['BlockRange'])"
   ]
  },
  {
   "cell_type": "code",
   "execution_count": 14,
   "metadata": {},
   "outputs": [
    {
     "data": {
      "text/plain": [
       "0"
      ]
     },
     "execution_count": 14,
     "metadata": {},
     "output_type": "execute_result"
    }
   ],
   "source": [
    "len(sel_df[sel_df.BlockRange.isnull()])"
   ]
  },
  {
   "cell_type": "code",
   "execution_count": 15,
   "metadata": {},
   "outputs": [
    {
     "data": {
      "text/plain": [
       "10H70    11423\n",
       "10H40    10460\n",
       "10H60     7697\n",
       "10H10     4071\n",
       "Name: Beat, dtype: int64"
      ]
     },
     "execution_count": 15,
     "metadata": {},
     "output_type": "execute_result"
    }
   ],
   "source": [
    "sel_df.Beat.value_counts(dropna=False)"
   ]
  },
  {
   "cell_type": "markdown",
   "metadata": {},
   "source": [
    "----"
   ]
  },
  {
   "cell_type": "markdown",
   "metadata": {},
   "source": [
    "# Save Final Clean Data"
   ]
  },
  {
   "cell_type": "code",
   "execution_count": 16,
   "metadata": {},
   "outputs": [],
   "source": [
    "sel_df.to_csv('crime_data_clean/beats_alternate_10_17.csv')"
   ]
  },
  {
   "cell_type": "code",
   "execution_count": 17,
   "metadata": {},
   "outputs": [
    {
     "data": {
      "text/plain": [
       "array(['10H10', '10H60', '10H40', '10H70'], dtype=object)"
      ]
     },
     "execution_count": 17,
     "metadata": {},
     "output_type": "execute_result"
    }
   ],
   "source": [
    "sel_df.Beat.unique()"
   ]
  },
  {
   "cell_type": "code",
   "execution_count": 18,
   "metadata": {},
   "outputs": [],
   "source": [
    "crime_10H40_10_17 = sel_df[sel_df.Beat =='10H40']\n",
    "\n",
    "crime_10H10_10_17 = sel_df[sel_df.Beat =='10H10']\n",
    "crime_10H60_10_17 = sel_df[sel_df.Beat =='10H60']\n",
    "crime_10H70_10_17 = sel_df[sel_df.Beat =='10H70']"
   ]
  },
  {
   "cell_type": "markdown",
   "metadata": {},
   "source": [
    "# save beat data"
   ]
  },
  {
   "cell_type": "code",
   "execution_count": 19,
   "metadata": {},
   "outputs": [],
   "source": [
    "crime_10H40_10_17.to_csv('crime_data_clean/crime_10H40_10_17.csv')\n",
    "crime_10H10_10_17.to_csv('crime_data_clean/crime_10H10_10_17.csv')\n",
    "crime_10H60_10_17.to_csv('crime_data_clean/crime_10H60_10_17.csv')\n",
    "crime_10H70_10_17.to_csv('crime_data_clean/crime_10H70_10_17.csv')\n"
   ]
  },
  {
   "cell_type": "code",
   "execution_count": 20,
   "metadata": {},
   "outputs": [
    {
     "name": "stdout",
     "output_type": "stream",
     "text": [
      "\u001b[0m\u001b[01;32mbeats_alternate_10_17.csv\u001b[0m*   \u001b[01;32mcrime_15E40_10_17ADD.csv\u001b[0m*\r\n",
      "\u001b[01;32mbeats_filter_10_17.csv\u001b[0m*      \u001b[01;32mcrime_15E40_10_17.csv\u001b[0m*\r\n",
      "\u001b[01;32mcrime_10H10_10_17.csv\u001b[0m*       \u001b[01;32mcrime_15E40_10_17df_12000.csv\u001b[0m*\r\n",
      "\u001b[01;32mcrime_10H30_10_17ADD.csv\u001b[0m*    \u001b[01;32mcrime_15E40_10_17df_16281.csv\u001b[0m*\r\n",
      "\u001b[01;32mcrime_10H30_10_17.csv\u001b[0m*       \u001b[01;32mcrime_15E40_10_17df_4000.csv\u001b[0m*\r\n",
      "\u001b[01;32mcrime_10H30_10_17FINAL.csv\u001b[0m*  \u001b[01;32mcrime_15E40_10_17df_8000.csv\u001b[0m*\r\n",
      "\u001b[01;32mcrime_10H40_10_17.csv\u001b[0m*       \u001b[01;32mcrime_15E40_10_17FINAL.csv\u001b[0m*\r\n",
      "\u001b[01;32mcrime_10H50_10_17ADD.csv\u001b[0m*    \u001b[01;32mcrime_1A10_10_17.csv\u001b[0m*\r\n",
      "\u001b[01;32mcrime_10H50_10_17.csv\u001b[0m*       \u001b[01;32mcrime_1A10_10_17df_4000.csv\u001b[0m*\r\n",
      "\u001b[01;32mcrime_10H50_10_17FINAL.csv\u001b[0m*  \u001b[01;32mcrime_1A10_10_17df_8000.csv\u001b[0m*\r\n",
      "\u001b[01;32mcrime_10H60_10_17.csv\u001b[0m*       \u001b[01;32mcrime_final_clean10_17.csv\u001b[0m*\r\n",
      "\u001b[01;32mcrime_10H70_10_17.csv\u001b[0m*       \u001b[01;36;40mnew\u001b[0m/\r\n",
      "\u001b[01;32mcrime_10H80_10_17ADD.csv\u001b[0m*    \u001b[01;32mstadium_beats_geocode.csv\u001b[0m*\r\n",
      "\u001b[01;32mcrime_10H80_10_17.csv\u001b[0m*       \u001b[01;32mstadiums_final.csv\u001b[0m*\r\n",
      "\u001b[01;32mcrime_10H80_10_17FINAL.csv\u001b[0m*  \u001b[01;36;40myears\u001b[0m/\r\n"
     ]
    }
   ],
   "source": [
    "ls crime_data_clean/"
   ]
  },
  {
   "cell_type": "code",
   "execution_count": null,
   "metadata": {},
   "outputs": [],
   "source": []
  },
  {
   "cell_type": "code",
   "execution_count": null,
   "metadata": {},
   "outputs": [],
   "source": []
  },
  {
   "cell_type": "code",
   "execution_count": null,
   "metadata": {},
   "outputs": [],
   "source": []
  }
 ],
 "metadata": {
  "kernelspec": {
   "display_name": "Python 3",
   "language": "python",
   "name": "python3"
  },
  "language_info": {
   "codemirror_mode": {
    "name": "ipython",
    "version": 3
   },
   "file_extension": ".py",
   "mimetype": "text/x-python",
   "name": "python",
   "nbconvert_exporter": "python",
   "pygments_lexer": "ipython3",
   "version": "3.6.4"
  }
 },
 "nbformat": 4,
 "nbformat_minor": 2
}
