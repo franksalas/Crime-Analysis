{
 "cells": [
  {
   "cell_type": "code",
   "execution_count": 7,
   "metadata": {},
   "outputs": [],
   "source": [
    "import pandas as pd\n",
    "import numpy as np"
   ]
  },
  {
   "cell_type": "code",
   "execution_count": 8,
   "metadata": {},
   "outputs": [],
   "source": [
    "df = pd.read_csv('crime_data_clean/crime_1A10_10_17ADD.csv')"
   ]
  },
  {
   "cell_type": "code",
   "execution_count": 9,
   "metadata": {},
   "outputs": [
    {
     "name": "stdout",
     "output_type": "stream",
     "text": [
      "<class 'pandas.core.frame.DataFrame'>\n",
      "RangeIndex: 14978 entries, 0 to 14977\n",
      "Data columns (total 15 columns):\n",
      "Date_Hour      14978 non-null object\n",
      "Beat           14978 non-null object\n",
      "BlockRange     14978 non-null object\n",
      "StreetName     14978 non-null object\n",
      "OffenseType    14978 non-null object\n",
      "Premise        14978 non-null object\n",
      "NumOffenses    14978 non-null int64\n",
      "Hour           14978 non-null int64\n",
      "day            14978 non-null int64\n",
      "weekday        14978 non-null object\n",
      "month          14978 non-null object\n",
      "year           14978 non-null int64\n",
      "block          14978 non-null int64\n",
      "address        14978 non-null object\n",
      "tup_add        14978 non-null object\n",
      "dtypes: int64(5), object(10)\n",
      "memory usage: 1.7+ MB\n"
     ]
    }
   ],
   "source": [
    "df.info()"
   ]
  },
  {
   "cell_type": "code",
   "execution_count": 10,
   "metadata": {},
   "outputs": [
    {
     "data": {
      "text/html": [
       "<div>\n",
       "<style scoped>\n",
       "    .dataframe tbody tr th:only-of-type {\n",
       "        vertical-align: middle;\n",
       "    }\n",
       "\n",
       "    .dataframe tbody tr th {\n",
       "        vertical-align: top;\n",
       "    }\n",
       "\n",
       "    .dataframe thead th {\n",
       "        text-align: right;\n",
       "    }\n",
       "</style>\n",
       "<table border=\"1\" class=\"dataframe\">\n",
       "  <thead>\n",
       "    <tr style=\"text-align: right;\">\n",
       "      <th></th>\n",
       "      <th>Date_Hour</th>\n",
       "      <th>Beat</th>\n",
       "      <th>BlockRange</th>\n",
       "      <th>StreetName</th>\n",
       "      <th>OffenseType</th>\n",
       "      <th>Premise</th>\n",
       "      <th>NumOffenses</th>\n",
       "      <th>Hour</th>\n",
       "      <th>day</th>\n",
       "      <th>weekday</th>\n",
       "      <th>month</th>\n",
       "      <th>year</th>\n",
       "      <th>block</th>\n",
       "      <th>address</th>\n",
       "      <th>tup_add</th>\n",
       "    </tr>\n",
       "  </thead>\n",
       "  <tbody>\n",
       "    <tr>\n",
       "      <th>0</th>\n",
       "      <td>2010-01-01 00:00:00</td>\n",
       "      <td>1A10</td>\n",
       "      <td>300-399</td>\n",
       "      <td>HAMILTON</td>\n",
       "      <td>Auto Theft</td>\n",
       "      <td>bar/night club parking lot</td>\n",
       "      <td>1</td>\n",
       "      <td>0</td>\n",
       "      <td>1</td>\n",
       "      <td>Friday</td>\n",
       "      <td>Jan</td>\n",
       "      <td>2010</td>\n",
       "      <td>350</td>\n",
       "      <td>350 HAMILTON</td>\n",
       "      <td>[{'address_components': [{'long_name': '350', ...</td>\n",
       "    </tr>\n",
       "    <tr>\n",
       "      <th>1</th>\n",
       "      <td>2010-01-01 00:00:00</td>\n",
       "      <td>1A10</td>\n",
       "      <td>1200-1299</td>\n",
       "      <td>CAROLINE</td>\n",
       "      <td>Theft</td>\n",
       "      <td>bar/night club</td>\n",
       "      <td>1</td>\n",
       "      <td>0</td>\n",
       "      <td>1</td>\n",
       "      <td>Friday</td>\n",
       "      <td>Jan</td>\n",
       "      <td>2010</td>\n",
       "      <td>1250</td>\n",
       "      <td>1250 CAROLINE</td>\n",
       "      <td>[{'address_components': [{'long_name': '1250',...</td>\n",
       "    </tr>\n",
       "    <tr>\n",
       "      <th>2</th>\n",
       "      <td>2010-01-01 00:00:00</td>\n",
       "      <td>1A10</td>\n",
       "      <td>400-499</td>\n",
       "      <td>MAIN</td>\n",
       "      <td>Burglary</td>\n",
       "      <td>office building</td>\n",
       "      <td>1</td>\n",
       "      <td>0</td>\n",
       "      <td>1</td>\n",
       "      <td>Friday</td>\n",
       "      <td>Jan</td>\n",
       "      <td>2010</td>\n",
       "      <td>450</td>\n",
       "      <td>450 MAIN</td>\n",
       "      <td>[{'address_components': [{'long_name': '450', ...</td>\n",
       "    </tr>\n",
       "    <tr>\n",
       "      <th>3</th>\n",
       "      <td>2010-01-01 00:00:00</td>\n",
       "      <td>1A10</td>\n",
       "      <td>1200-1299</td>\n",
       "      <td>TRAVIS</td>\n",
       "      <td>Theft</td>\n",
       "      <td>other/unknown</td>\n",
       "      <td>1</td>\n",
       "      <td>0</td>\n",
       "      <td>1</td>\n",
       "      <td>Friday</td>\n",
       "      <td>Jan</td>\n",
       "      <td>2010</td>\n",
       "      <td>1250</td>\n",
       "      <td>1250 TRAVIS</td>\n",
       "      <td>[{'address_components': [{'long_name': '1250',...</td>\n",
       "    </tr>\n",
       "    <tr>\n",
       "      <th>4</th>\n",
       "      <td>2010-01-01 00:00:00</td>\n",
       "      <td>1A10</td>\n",
       "      <td>1000-1099</td>\n",
       "      <td>AVENIDA DE LAS AMERICAS</td>\n",
       "      <td>Theft</td>\n",
       "      <td>convention center/exhibit halls</td>\n",
       "      <td>1</td>\n",
       "      <td>0</td>\n",
       "      <td>1</td>\n",
       "      <td>Friday</td>\n",
       "      <td>Jan</td>\n",
       "      <td>2010</td>\n",
       "      <td>1050</td>\n",
       "      <td>1050 AVENIDA DE LAS AMERICAS</td>\n",
       "      <td>[{'address_components': [{'long_name': '1050',...</td>\n",
       "    </tr>\n",
       "  </tbody>\n",
       "</table>\n",
       "</div>"
      ],
      "text/plain": [
       "             Date_Hour  Beat BlockRange               StreetName OffenseType  \\\n",
       "0  2010-01-01 00:00:00  1A10    300-399                 HAMILTON  Auto Theft   \n",
       "1  2010-01-01 00:00:00  1A10  1200-1299                 CAROLINE       Theft   \n",
       "2  2010-01-01 00:00:00  1A10    400-499                     MAIN    Burglary   \n",
       "3  2010-01-01 00:00:00  1A10  1200-1299                   TRAVIS       Theft   \n",
       "4  2010-01-01 00:00:00  1A10  1000-1099  AVENIDA DE LAS AMERICAS       Theft   \n",
       "\n",
       "                           Premise  NumOffenses  Hour  day weekday month  \\\n",
       "0       bar/night club parking lot            1     0    1  Friday   Jan   \n",
       "1                   bar/night club            1     0    1  Friday   Jan   \n",
       "2                  office building            1     0    1  Friday   Jan   \n",
       "3                    other/unknown            1     0    1  Friday   Jan   \n",
       "4  convention center/exhibit halls            1     0    1  Friday   Jan   \n",
       "\n",
       "   year  block                       address  \\\n",
       "0  2010    350                  350 HAMILTON   \n",
       "1  2010   1250                 1250 CAROLINE   \n",
       "2  2010    450                      450 MAIN   \n",
       "3  2010   1250                   1250 TRAVIS   \n",
       "4  2010   1050  1050 AVENIDA DE LAS AMERICAS   \n",
       "\n",
       "                                             tup_add  \n",
       "0  [{'address_components': [{'long_name': '350', ...  \n",
       "1  [{'address_components': [{'long_name': '1250',...  \n",
       "2  [{'address_components': [{'long_name': '450', ...  \n",
       "3  [{'address_components': [{'long_name': '1250',...  \n",
       "4  [{'address_components': [{'long_name': '1050',...  "
      ]
     },
     "execution_count": 10,
     "metadata": {},
     "output_type": "execute_result"
    }
   ],
   "source": [
    "df.head()"
   ]
  },
  {
   "cell_type": "code",
   "execution_count": 18,
   "metadata": {},
   "outputs": [
    {
     "name": "stdout",
     "output_type": "stream",
     "text": [
      "[{'address_components': [{'long_name': '350', 'short_name': '350', 'types': ['street_number']}, {'long_name': 'Hamilton Street', 'short_name': 'Hamilton St', 'types': ['route']}, {'long_name': 'Downtown', 'short_name': 'Downtown', 'types': ['neighborhood', 'political']}, {'long_name': 'Houston', 'short_name': 'Houston', 'types': ['locality', 'political']}, {'long_name': 'Harris County', 'short_name': 'Harris County', 'types': ['administrative_area_level_2', 'political']}, {'long_name': 'Texas', 'short_name': 'TX', 'types': ['administrative_area_level_1', 'political']}, {'long_name': 'United States', 'short_name': 'US', 'types': ['country', 'political']}, {'long_name': '77002', 'short_name': '77002', 'types': ['postal_code']}], 'formatted_address': '350 Hamilton St, Houston, TX 77002, USA', 'geometry': {'location': {'lat': 29.7572118, 'lng': -95.3532941}, 'location_type': 'RANGE_INTERPOLATED', 'viewport': {'northeast': {'lat': 29.7585607802915, 'lng': -95.3519451197085}, 'southwest': {'lat': 29.7558628197085, 'lng': -95.35464308029151}}}, 'place_id': 'EiczNTAgSGFtaWx0b24gU3QsIEhvdXN0b24sIFRYIDc3MDAyLCBVU0EiGxIZChQKEgk15mI4J79AhhEV1jBBXhSKsxDeAg', 'types': ['street_address']}]\n"
     ]
    }
   ],
   "source": [
    "print(df.loc[0].tup_add)"
   ]
  },
  {
   "cell_type": "code",
   "execution_count": null,
   "metadata": {},
   "outputs": [],
   "source": [
    "works_data = json_normalize(data=d['programs'], record_path='works', \n",
    "                            meta=['id', 'orchestra','programID', 'season'])"
   ]
  }
 ],
 "metadata": {
  "kernelspec": {
   "display_name": "Python 3",
   "language": "python",
   "name": "python3"
  },
  "language_info": {
   "codemirror_mode": {
    "name": "ipython",
    "version": 3
   },
   "file_extension": ".py",
   "mimetype": "text/x-python",
   "name": "python",
   "nbconvert_exporter": "python",
   "pygments_lexer": "ipython3",
   "version": "3.6.4"
  }
 },
 "nbformat": 4,
 "nbformat_minor": 2
}
