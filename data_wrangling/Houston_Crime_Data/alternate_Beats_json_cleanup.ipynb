{
 "cells": [
  {
   "cell_type": "code",
   "execution_count": 13,
   "metadata": {},
   "outputs": [],
   "source": [
    "import pandas as pd\n",
    "import numpy as np\n",
    "import json\n",
    "from pandas.io.json import json_normalize\n",
    "import ast\n",
    "import pprint  # \"pretty-print\" arbitrary Python data structures"
   ]
  },
  {
   "cell_type": "code",
   "execution_count": 14,
   "metadata": {},
   "outputs": [
    {
     "name": "stdout",
     "output_type": "stream",
     "text": [
      "\u001b[0m\u001b[01;32mbeats_alternate_10_17.csv\u001b[0m*      \u001b[01;32mcrime_10H70_10_17df_2000.csv\u001b[0m*\r\n",
      "\u001b[01;32mbeats_filter_10_17.csv\u001b[0m*         \u001b[01;32mcrime_10H70_10_17df_3000.csv\u001b[0m*\r\n",
      "\u001b[01;32mcrime_10H10_10_17ADD.csv\u001b[0m*       \u001b[01;32mcrime_10H70_10_17df_4000.csv\u001b[0m*\r\n",
      "\u001b[01;32mcrime_10H10_10_17.csv\u001b[0m*          \u001b[01;32mcrime_10H70_10_17df_5000.csv\u001b[0m*\r\n",
      "\u001b[01;32mcrime_10H10_10_17df_1000.csv\u001b[0m*   \u001b[01;32mcrime_10H70_10_17df_6000.csv\u001b[0m*\r\n",
      "\u001b[01;32mcrime_10H10_10_17df_2000.csv\u001b[0m*   \u001b[01;32mcrime_10H70_10_17df_7000.csv\u001b[0m*\r\n",
      "\u001b[01;32mcrime_10H10_10_17df_3000.csv\u001b[0m*   \u001b[01;32mcrime_10H70_10_17df_8000.csv\u001b[0m*\r\n",
      "\u001b[01;32mcrime_10H10_10_17df_4000.csv\u001b[0m*   \u001b[01;32mcrime_10H70_10_17df_9000.csv\u001b[0m*\r\n",
      "\u001b[01;32mcrime_10H30_10_17ADD.csv\u001b[0m*       \u001b[01;32mcrime_10H80_10_17ADD.csv\u001b[0m*\r\n",
      "\u001b[01;32mcrime_10H30_10_17.csv\u001b[0m*          \u001b[01;32mcrime_10H80_10_17.csv\u001b[0m*\r\n",
      "\u001b[01;32mcrime_10H30_10_17FINAL.csv\u001b[0m*     \u001b[01;32mcrime_10H80_10_17FINAL.csv\u001b[0m*\r\n",
      "\u001b[01;32mcrime_10H40_10_17ADD.csv\u001b[0m*       \u001b[01;32mcrime_15E40_10_17ADD.csv\u001b[0m*\r\n",
      "\u001b[01;32mcrime_10H40_10_17.csv\u001b[0m*          \u001b[01;32mcrime_15E40_10_17.csv\u001b[0m*\r\n",
      "\u001b[01;32mcrime_10H40_10_17df_10000.csv\u001b[0m*  \u001b[01;32mcrime_15E40_10_17df_12000.csv\u001b[0m*\r\n",
      "\u001b[01;32mcrime_10H40_10_17df_1000.csv\u001b[0m*   \u001b[01;32mcrime_15E40_10_17df_16281.csv\u001b[0m*\r\n",
      "\u001b[01;32mcrime_10H40_10_17df_2000.csv\u001b[0m*   \u001b[01;32mcrime_15E40_10_17df_4000.csv\u001b[0m*\r\n",
      "\u001b[01;32mcrime_10H40_10_17df_3000.csv\u001b[0m*   \u001b[01;32mcrime_15E40_10_17df_8000.csv\u001b[0m*\r\n",
      "\u001b[01;32mcrime_10H40_10_17df_4000.csv\u001b[0m*   \u001b[01;32mcrime_15E40_10_17FINAL.csv\u001b[0m*\r\n",
      "\u001b[01;32mcrime_10H40_10_17df_5000.csv\u001b[0m*   \u001b[01;32mcrime_1A10_10_17ADD.csv\u001b[0m*\r\n",
      "\u001b[01;32mcrime_10H40_10_17df_6000.csv\u001b[0m*   \u001b[01;32mcrime_1A10_10_17.csv\u001b[0m*\r\n",
      "\u001b[01;32mcrime_10H40_10_17df_7000.csv\u001b[0m*   \u001b[01;32mcrime_1A10_10_17df_14978.csv\u001b[0m*\r\n",
      "\u001b[01;32mcrime_10H40_10_17df_8000.csv\u001b[0m*   \u001b[01;32mcrime_1A10_10_17df_4000.csv\u001b[0m*\r\n",
      "\u001b[01;32mcrime_10H40_10_17df_9000.csv\u001b[0m*   \u001b[01;32mcrime_1A10_10_17df_8000.csv\u001b[0m*\r\n",
      "\u001b[01;32mcrime_10H40_10_17LATLON.csv\u001b[0m*    \u001b[01;32mcrime_1A10_10_17df_p1.csv\u001b[0m*\r\n",
      "\u001b[01;32mcrime_10H50_10_17ADD.csv\u001b[0m*       \u001b[01;32mcrime_1A10_10_17df_p2.csv\u001b[0m*\r\n",
      "\u001b[01;32mcrime_10H50_10_17.csv\u001b[0m*          \u001b[01;32mcrime_1A10_10_17df_p3.csv\u001b[0m*\r\n",
      "\u001b[01;32mcrime_10H50_10_17FINAL.csv\u001b[0m*     \u001b[01;32mcrime_1A10_10_17df_p4.csv\u001b[0m*\r\n",
      "\u001b[01;32mcrime_10H60_10_17ADD.csv\u001b[0m*       \u001b[01;32mcrime_1A10_10_17FINAL.csv\u001b[0m*\r\n",
      "\u001b[01;32mcrime_10H60_10_17.csv\u001b[0m*          \u001b[01;32mcrime_1A10_10_17LATLON.csv\u001b[0m*\r\n",
      "\u001b[01;32mcrime_10H60_10_17df_1000.csv\u001b[0m*   \u001b[01;32mcrime_final_clean10_17.csv\u001b[0m*\r\n",
      "\u001b[01;32mcrime_10H60_10_17df_2000.csv\u001b[0m*   \u001b[01;32mdf_10H10FINAL.csv\u001b[0m*\r\n",
      "\u001b[01;32mcrime_10H60_10_17df_3000.csv\u001b[0m*   \u001b[01;32mdf_10H30FINAL.csv\u001b[0m*\r\n",
      "\u001b[01;32mcrime_10H60_10_17df_4000.csv\u001b[0m*   \u001b[01;32mdf_10H40FINAL.csv\u001b[0m*\r\n",
      "\u001b[01;32mcrime_10H60_10_17df_5000.csv\u001b[0m*   \u001b[01;32mdf_10H50FINAL.csv\u001b[0m*\r\n",
      "\u001b[01;32mcrime_10H60_10_17df_6000.csv\u001b[0m*   \u001b[01;32mdf_10H60FINAL.csv\u001b[0m*\r\n",
      "\u001b[01;32mcrime_10H60_10_17df_7000.csv\u001b[0m*   \u001b[01;32mdf_10H70FINAL.csv\u001b[0m*\r\n",
      "\u001b[01;32mcrime_10H60_10_17LATLON.csv\u001b[0m*    \u001b[01;32mdf_1A10FINAL.csv\u001b[0m*\r\n",
      "\u001b[01;32mcrime_10H70_10_17ADD.csv\u001b[0m*       \u001b[01;36;40mnew\u001b[0m/\r\n",
      "\u001b[01;32mcrime_10H70_10_17.csv\u001b[0m*          \u001b[01;32mstadium_beats_geocode.csv\u001b[0m*\r\n",
      "\u001b[01;32mcrime_10H70_10_17df_10000.csv\u001b[0m*  \u001b[01;32mstadiums_final.csv\u001b[0m*\r\n",
      "\u001b[01;32mcrime_10H70_10_17df_1000.csv\u001b[0m*   \u001b[01;36;40myears\u001b[0m/\r\n"
     ]
    }
   ],
   "source": [
    "ls crime_data_clean/"
   ]
  },
  {
   "cell_type": "markdown",
   "metadata": {},
   "source": [
    "##  ~~10H40~~ , ~~10H60~~, 10H70, ~~10H10~~"
   ]
  },
  {
   "cell_type": "markdown",
   "metadata": {},
   "source": [
    "# 10H60"
   ]
  },
  {
   "cell_type": "code",
   "execution_count": 15,
   "metadata": {},
   "outputs": [],
   "source": [
    "path = 'crime_data_clean/crime_10H60_10_17ADD.csv'"
   ]
  },
  {
   "cell_type": "code",
   "execution_count": 16,
   "metadata": {},
   "outputs": [],
   "source": [
    "df = pd.read_csv(path)"
   ]
  },
  {
   "cell_type": "code",
   "execution_count": 17,
   "metadata": {},
   "outputs": [
    {
     "name": "stdout",
     "output_type": "stream",
     "text": [
      "<class 'pandas.core.frame.DataFrame'>\n",
      "RangeIndex: 7672 entries, 0 to 7671\n",
      "Data columns (total 15 columns):\n",
      "Date_Hour      7672 non-null object\n",
      "Beat           7672 non-null object\n",
      "BlockRange     7672 non-null object\n",
      "StreetName     7672 non-null object\n",
      "OffenseType    7672 non-null object\n",
      "Premise        7672 non-null object\n",
      "NumOffenses    7672 non-null int64\n",
      "Hour           7672 non-null int64\n",
      "day            7672 non-null int64\n",
      "weekday        7672 non-null object\n",
      "month          7672 non-null object\n",
      "year           7672 non-null int64\n",
      "block          7672 non-null int64\n",
      "address        7672 non-null object\n",
      "tup_add        7672 non-null object\n",
      "dtypes: int64(5), object(10)\n",
      "memory usage: 899.1+ KB\n"
     ]
    }
   ],
   "source": [
    "df.info()"
   ]
  },
  {
   "cell_type": "code",
   "execution_count": 18,
   "metadata": {},
   "outputs": [
    {
     "data": {
      "text/html": [
       "<div>\n",
       "<style scoped>\n",
       "    .dataframe tbody tr th:only-of-type {\n",
       "        vertical-align: middle;\n",
       "    }\n",
       "\n",
       "    .dataframe tbody tr th {\n",
       "        vertical-align: top;\n",
       "    }\n",
       "\n",
       "    .dataframe thead th {\n",
       "        text-align: right;\n",
       "    }\n",
       "</style>\n",
       "<table border=\"1\" class=\"dataframe\">\n",
       "  <thead>\n",
       "    <tr style=\"text-align: right;\">\n",
       "      <th></th>\n",
       "      <th>Date_Hour</th>\n",
       "      <th>Beat</th>\n",
       "      <th>BlockRange</th>\n",
       "      <th>StreetName</th>\n",
       "      <th>OffenseType</th>\n",
       "      <th>Premise</th>\n",
       "      <th>NumOffenses</th>\n",
       "      <th>Hour</th>\n",
       "      <th>day</th>\n",
       "      <th>weekday</th>\n",
       "      <th>month</th>\n",
       "      <th>year</th>\n",
       "      <th>block</th>\n",
       "      <th>address</th>\n",
       "      <th>tup_add</th>\n",
       "    </tr>\n",
       "  </thead>\n",
       "  <tbody>\n",
       "    <tr>\n",
       "      <th>7667</th>\n",
       "      <td>2017-12-29 18:00:00</td>\n",
       "      <td>10H60</td>\n",
       "      <td>3800-3899</td>\n",
       "      <td>GERTIN</td>\n",
       "      <td>Theft</td>\n",
       "      <td>other, unknown, or not listed</td>\n",
       "      <td>1</td>\n",
       "      <td>18</td>\n",
       "      <td>29</td>\n",
       "      <td>Friday</td>\n",
       "      <td>Dec</td>\n",
       "      <td>2017</td>\n",
       "      <td>3850</td>\n",
       "      <td>3850 GERTIN</td>\n",
       "      <td>[{'address_components': [{'long_name': '3850',...</td>\n",
       "    </tr>\n",
       "    <tr>\n",
       "      <th>7668</th>\n",
       "      <td>2017-12-30 01:00:00</td>\n",
       "      <td>10H60</td>\n",
       "      <td>2500-2599</td>\n",
       "      <td>OAKDALE</td>\n",
       "      <td>Theft</td>\n",
       "      <td>apartment parking lot</td>\n",
       "      <td>1</td>\n",
       "      <td>1</td>\n",
       "      <td>30</td>\n",
       "      <td>Saturday</td>\n",
       "      <td>Dec</td>\n",
       "      <td>2017</td>\n",
       "      <td>2550</td>\n",
       "      <td>2550 OAKDALE</td>\n",
       "      <td>[{'address_components': [{'long_name': '2550',...</td>\n",
       "    </tr>\n",
       "    <tr>\n",
       "      <th>7669</th>\n",
       "      <td>2017-12-30 09:00:00</td>\n",
       "      <td>10H60</td>\n",
       "      <td>3300-3399</td>\n",
       "      <td>BLODGETT ST</td>\n",
       "      <td>Theft</td>\n",
       "      <td>driveway</td>\n",
       "      <td>1</td>\n",
       "      <td>9</td>\n",
       "      <td>30</td>\n",
       "      <td>Saturday</td>\n",
       "      <td>Dec</td>\n",
       "      <td>2017</td>\n",
       "      <td>3350</td>\n",
       "      <td>3350 BLODGETT ST</td>\n",
       "      <td>[{'address_components': [{'long_name': '3350',...</td>\n",
       "    </tr>\n",
       "    <tr>\n",
       "      <th>7670</th>\n",
       "      <td>2017-12-30 13:00:00</td>\n",
       "      <td>10H60</td>\n",
       "      <td>4400-4499</td>\n",
       "      <td>N MACGREGOR WAY</td>\n",
       "      <td>Theft</td>\n",
       "      <td>apartment parking lot</td>\n",
       "      <td>1</td>\n",
       "      <td>13</td>\n",
       "      <td>30</td>\n",
       "      <td>Saturday</td>\n",
       "      <td>Dec</td>\n",
       "      <td>2017</td>\n",
       "      <td>4450</td>\n",
       "      <td>4450 N MACGREGOR WAY</td>\n",
       "      <td>[{'address_components': [{'long_name': '4450',...</td>\n",
       "    </tr>\n",
       "    <tr>\n",
       "      <th>7671</th>\n",
       "      <td>2017-12-31 15:00:00</td>\n",
       "      <td>10H60</td>\n",
       "      <td>2400-2499</td>\n",
       "      <td>WENTWORTH ST</td>\n",
       "      <td>Theft</td>\n",
       "      <td>bar or night club parking lot</td>\n",
       "      <td>1</td>\n",
       "      <td>15</td>\n",
       "      <td>31</td>\n",
       "      <td>Sunday</td>\n",
       "      <td>Dec</td>\n",
       "      <td>2017</td>\n",
       "      <td>2450</td>\n",
       "      <td>2450 WENTWORTH ST</td>\n",
       "      <td>[{'address_components': [{'long_name': '2450',...</td>\n",
       "    </tr>\n",
       "  </tbody>\n",
       "</table>\n",
       "</div>"
      ],
      "text/plain": [
       "                Date_Hour   Beat BlockRange       StreetName OffenseType  \\\n",
       "7667  2017-12-29 18:00:00  10H60  3800-3899           GERTIN       Theft   \n",
       "7668  2017-12-30 01:00:00  10H60  2500-2599          OAKDALE       Theft   \n",
       "7669  2017-12-30 09:00:00  10H60  3300-3399      BLODGETT ST       Theft   \n",
       "7670  2017-12-30 13:00:00  10H60  4400-4499  N MACGREGOR WAY       Theft   \n",
       "7671  2017-12-31 15:00:00  10H60  2400-2499     WENTWORTH ST       Theft   \n",
       "\n",
       "                            Premise  NumOffenses  Hour  day   weekday month  \\\n",
       "7667  other, unknown, or not listed            1    18   29    Friday   Dec   \n",
       "7668          apartment parking lot            1     1   30  Saturday   Dec   \n",
       "7669                       driveway            1     9   30  Saturday   Dec   \n",
       "7670          apartment parking lot            1    13   30  Saturday   Dec   \n",
       "7671  bar or night club parking lot            1    15   31    Sunday   Dec   \n",
       "\n",
       "      year  block               address  \\\n",
       "7667  2017   3850           3850 GERTIN   \n",
       "7668  2017   2550          2550 OAKDALE   \n",
       "7669  2017   3350      3350 BLODGETT ST   \n",
       "7670  2017   4450  4450 N MACGREGOR WAY   \n",
       "7671  2017   2450     2450 WENTWORTH ST   \n",
       "\n",
       "                                                tup_add  \n",
       "7667  [{'address_components': [{'long_name': '3850',...  \n",
       "7668  [{'address_components': [{'long_name': '2550',...  \n",
       "7669  [{'address_components': [{'long_name': '3350',...  \n",
       "7670  [{'address_components': [{'long_name': '4450',...  \n",
       "7671  [{'address_components': [{'long_name': '2450',...  "
      ]
     },
     "execution_count": 18,
     "metadata": {},
     "output_type": "execute_result"
    }
   ],
   "source": [
    "df.tail()"
   ]
  },
  {
   "cell_type": "markdown",
   "metadata": {},
   "source": [
    "# Find rows with not json data"
   ]
  },
  {
   "cell_type": "code",
   "execution_count": null,
   "metadata": {},
   "outputs": [],
   "source": [
    "miss = df.tup_add == '[]'"
   ]
  },
  {
   "cell_type": "code",
   "execution_count": null,
   "metadata": {},
   "outputs": [],
   "source": [
    "df[miss]"
   ]
  },
  {
   "cell_type": "code",
   "execution_count": null,
   "metadata": {},
   "outputs": [],
   "source": [
    "df = df[~miss]"
   ]
  },
  {
   "cell_type": "code",
   "execution_count": null,
   "metadata": {},
   "outputs": [],
   "source": []
  },
  {
   "cell_type": "code",
   "execution_count": null,
   "metadata": {},
   "outputs": [],
   "source": []
  },
  {
   "cell_type": "code",
   "execution_count": 5,
   "metadata": {},
   "outputs": [],
   "source": [
    "def parse_json(col):\n",
    "    json_data = ast.literal_eval(col)\n",
    "    if json_data is None:\n",
    "        print('none')\n",
    "        \n",
    "    if len(json_data) == 0:\n",
    "        pass  \n",
    "    elif len(json_data) >=1:\n",
    "        json_data = ast.literal_eval(col)[0]\n",
    "        lat = json_data['geometry']['location']['lat']\n",
    "        lng = json_data['geometry']['location']['lng']\n",
    "        add = json_data['formatted_address']\n",
    "        #z_code = json_data['address_components'][7]['long_name']\n",
    "        data = [lat,lng,add]\n",
    "        return pd.Series(data)"
   ]
  },
  {
   "cell_type": "code",
   "execution_count": null,
   "metadata": {},
   "outputs": [],
   "source": [
    "zz = df['tup_add'].apply(parse_json)\n",
    "zz.columns = ['lat','lon','add']"
   ]
  },
  {
   "cell_type": "code",
   "execution_count": null,
   "metadata": {},
   "outputs": [],
   "source": [
    "df = df.join(zz)"
   ]
  },
  {
   "cell_type": "code",
   "execution_count": null,
   "metadata": {},
   "outputs": [],
   "source": [
    "df.head()"
   ]
  },
  {
   "cell_type": "markdown",
   "metadata": {},
   "source": [
    "# save"
   ]
  },
  {
   "cell_type": "code",
   "execution_count": null,
   "metadata": {},
   "outputs": [],
   "source": [
    "save = 'crime_data_clean/crime_10H60_10_17LATLON.csv'"
   ]
  },
  {
   "cell_type": "code",
   "execution_count": null,
   "metadata": {},
   "outputs": [],
   "source": [
    "df.to_csv(save)"
   ]
  },
  {
   "cell_type": "markdown",
   "metadata": {},
   "source": [
    "# 1A10"
   ]
  },
  {
   "cell_type": "code",
   "execution_count": null,
   "metadata": {},
   "outputs": [],
   "source": [
    "path = 'crime_data_clean/crime_1A10_10_17FINAL.csv'\n",
    "df1A = pd.read_csv(path)\n",
    "df1A.info()"
   ]
  },
  {
   "cell_type": "code",
   "execution_count": null,
   "metadata": {},
   "outputs": [],
   "source": [
    "df1A.head()"
   ]
  },
  {
   "cell_type": "markdown",
   "metadata": {},
   "source": [
    "## Find and drop missing value row"
   ]
  },
  {
   "cell_type": "code",
   "execution_count": null,
   "metadata": {},
   "outputs": [],
   "source": [
    "miss = df1A.tup_add == '[]'"
   ]
  },
  {
   "cell_type": "code",
   "execution_count": null,
   "metadata": {},
   "outputs": [],
   "source": [
    "df1A = df1A[~miss]\n",
    "df1A.info()"
   ]
  },
  {
   "cell_type": "code",
   "execution_count": null,
   "metadata": {},
   "outputs": [],
   "source": [
    "zz = df1A['tup_add'].apply(parse_json)\n",
    "zz.columns = ['lat','lon','add']"
   ]
  },
  {
   "cell_type": "code",
   "execution_count": null,
   "metadata": {},
   "outputs": [],
   "source": [
    "df1A = df1A.join(zz)"
   ]
  },
  {
   "cell_type": "code",
   "execution_count": null,
   "metadata": {},
   "outputs": [],
   "source": [
    "df1A"
   ]
  },
  {
   "cell_type": "code",
   "execution_count": null,
   "metadata": {},
   "outputs": [],
   "source": [
    "save = 'crime_data_clean/crime_1A10_10_17LATLON.csv'"
   ]
  },
  {
   "cell_type": "code",
   "execution_count": null,
   "metadata": {},
   "outputs": [],
   "source": [
    "df1A.to_csv(save)"
   ]
  },
  {
   "cell_type": "markdown",
   "metadata": {},
   "source": [
    "## 10H40"
   ]
  },
  {
   "cell_type": "code",
   "execution_count": null,
   "metadata": {},
   "outputs": [],
   "source": [
    "path = 'crime_data_clean/crime_10H40_10_17ADD.csv'"
   ]
  },
  {
   "cell_type": "code",
   "execution_count": null,
   "metadata": {},
   "outputs": [],
   "source": [
    "df = pd.read_csv(path)\n",
    "df.info()"
   ]
  },
  {
   "cell_type": "code",
   "execution_count": null,
   "metadata": {},
   "outputs": [],
   "source": [
    "df.head()"
   ]
  },
  {
   "cell_type": "code",
   "execution_count": null,
   "metadata": {},
   "outputs": [],
   "source": [
    "miss = df.tup_add == '[]'"
   ]
  },
  {
   "cell_type": "code",
   "execution_count": null,
   "metadata": {},
   "outputs": [],
   "source": [
    "df[miss]"
   ]
  },
  {
   "cell_type": "code",
   "execution_count": null,
   "metadata": {},
   "outputs": [],
   "source": [
    "df = df[~miss]"
   ]
  },
  {
   "cell_type": "code",
   "execution_count": null,
   "metadata": {},
   "outputs": [],
   "source": [
    "df.head()"
   ]
  },
  {
   "cell_type": "code",
   "execution_count": null,
   "metadata": {},
   "outputs": [],
   "source": [
    "zz = df['tup_add'].apply(parse_json)\n",
    "zz.columns = ['lat','lon','add']\n",
    "df = df.join(zz)"
   ]
  },
  {
   "cell_type": "code",
   "execution_count": null,
   "metadata": {},
   "outputs": [],
   "source": [
    "df.head()"
   ]
  },
  {
   "cell_type": "code",
   "execution_count": null,
   "metadata": {},
   "outputs": [],
   "source": [
    "save = 'crime_data_clean/crime_10H40_10_17LATLON.csv'"
   ]
  },
  {
   "cell_type": "code",
   "execution_count": null,
   "metadata": {},
   "outputs": [],
   "source": [
    "df.to_csv(save)"
   ]
  },
  {
   "cell_type": "markdown",
   "metadata": {},
   "source": [
    "## 10H10"
   ]
  },
  {
   "cell_type": "code",
   "execution_count": null,
   "metadata": {},
   "outputs": [],
   "source": [
    "path = 'crime_data_clean/crime_10H10_10_17ADD.csv'"
   ]
  },
  {
   "cell_type": "code",
   "execution_count": null,
   "metadata": {},
   "outputs": [],
   "source": [
    "df = pd.read_csv(path)\n",
    "df.head()"
   ]
  },
  {
   "cell_type": "code",
   "execution_count": null,
   "metadata": {},
   "outputs": [],
   "source": [
    "df.info()"
   ]
  },
  {
   "cell_type": "code",
   "execution_count": null,
   "metadata": {},
   "outputs": [],
   "source": [
    "miss = df.tup_add == '[]'"
   ]
  },
  {
   "cell_type": "code",
   "execution_count": null,
   "metadata": {},
   "outputs": [],
   "source": [
    "df[miss]"
   ]
  },
  {
   "cell_type": "code",
   "execution_count": null,
   "metadata": {},
   "outputs": [],
   "source": [
    "df = df[~miss]"
   ]
  },
  {
   "cell_type": "code",
   "execution_count": null,
   "metadata": {},
   "outputs": [],
   "source": []
  },
  {
   "cell_type": "code",
   "execution_count": null,
   "metadata": {},
   "outputs": [],
   "source": [
    "zz = df['tup_add'].apply(parse_json)\n",
    "zz.columns = ['lat','lon','add']\n",
    "df = df.join(zz)"
   ]
  },
  {
   "cell_type": "code",
   "execution_count": null,
   "metadata": {},
   "outputs": [],
   "source": [
    "df.info()"
   ]
  },
  {
   "cell_type": "code",
   "execution_count": null,
   "metadata": {},
   "outputs": [],
   "source": [
    "df.head()"
   ]
  },
  {
   "cell_type": "code",
   "execution_count": null,
   "metadata": {},
   "outputs": [],
   "source": [
    "save = 'crime_data_clean/crime_10H10_10_17LATLON.csv'"
   ]
  },
  {
   "cell_type": "code",
   "execution_count": null,
   "metadata": {},
   "outputs": [],
   "source": [
    "df.to_csv(path)"
   ]
  },
  {
   "cell_type": "markdown",
   "metadata": {},
   "source": [
    "# 10H70"
   ]
  },
  {
   "cell_type": "code",
   "execution_count": 6,
   "metadata": {},
   "outputs": [
    {
     "data": {
      "text/html": [
       "<div>\n",
       "<style scoped>\n",
       "    .dataframe tbody tr th:only-of-type {\n",
       "        vertical-align: middle;\n",
       "    }\n",
       "\n",
       "    .dataframe tbody tr th {\n",
       "        vertical-align: top;\n",
       "    }\n",
       "\n",
       "    .dataframe thead th {\n",
       "        text-align: right;\n",
       "    }\n",
       "</style>\n",
       "<table border=\"1\" class=\"dataframe\">\n",
       "  <thead>\n",
       "    <tr style=\"text-align: right;\">\n",
       "      <th></th>\n",
       "      <th>Unnamed: 0</th>\n",
       "      <th>Date_Hour</th>\n",
       "      <th>Beat</th>\n",
       "      <th>BlockRange</th>\n",
       "      <th>StreetName</th>\n",
       "      <th>OffenseType</th>\n",
       "      <th>Premise</th>\n",
       "      <th>NumOffenses</th>\n",
       "      <th>Hour</th>\n",
       "      <th>day</th>\n",
       "      <th>weekday</th>\n",
       "      <th>month</th>\n",
       "      <th>year</th>\n",
       "      <th>block</th>\n",
       "      <th>address</th>\n",
       "      <th>tup_add</th>\n",
       "      <th>lat</th>\n",
       "      <th>lon</th>\n",
       "      <th>add</th>\n",
       "    </tr>\n",
       "  </thead>\n",
       "  <tbody>\n",
       "    <tr>\n",
       "      <th>0</th>\n",
       "      <td>0</td>\n",
       "      <td>2010-01-01 19:00:00</td>\n",
       "      <td>10H70</td>\n",
       "      <td>6500-6599</td>\n",
       "      <td>FANNIN</td>\n",
       "      <td>Aggravated Assault</td>\n",
       "      <td>hospital</td>\n",
       "      <td>1</td>\n",
       "      <td>19</td>\n",
       "      <td>1</td>\n",
       "      <td>Friday</td>\n",
       "      <td>Jan</td>\n",
       "      <td>2010</td>\n",
       "      <td>6550</td>\n",
       "      <td>6550 FANNIN</td>\n",
       "      <td>[{'address_components': [{'long_name': '6550',...</td>\n",
       "      <td>29.711448</td>\n",
       "      <td>-95.399988</td>\n",
       "      <td>6550 Fannin St, Houston, TX 77030, USA</td>\n",
       "    </tr>\n",
       "    <tr>\n",
       "      <th>1</th>\n",
       "      <td>1</td>\n",
       "      <td>2010-01-01 21:00:00</td>\n",
       "      <td>10H70</td>\n",
       "      <td>4800-4899</td>\n",
       "      <td>AUSTIN</td>\n",
       "      <td>Burglary</td>\n",
       "      <td>residence/house</td>\n",
       "      <td>1</td>\n",
       "      <td>21</td>\n",
       "      <td>1</td>\n",
       "      <td>Friday</td>\n",
       "      <td>Jan</td>\n",
       "      <td>2010</td>\n",
       "      <td>4850</td>\n",
       "      <td>4850 AUSTIN</td>\n",
       "      <td>[{'address_components': [{'long_name': '4850',...</td>\n",
       "      <td>29.728541</td>\n",
       "      <td>-95.382676</td>\n",
       "      <td>4850 Austin St, Houston, TX 77004, USA</td>\n",
       "    </tr>\n",
       "    <tr>\n",
       "      <th>2</th>\n",
       "      <td>2</td>\n",
       "      <td>2010-01-01 23:00:00</td>\n",
       "      <td>10H70</td>\n",
       "      <td>1900-1999</td>\n",
       "      <td>WENTWORTH</td>\n",
       "      <td>Aggravated Assault</td>\n",
       "      <td>residence/house</td>\n",
       "      <td>1</td>\n",
       "      <td>23</td>\n",
       "      <td>1</td>\n",
       "      <td>Friday</td>\n",
       "      <td>Jan</td>\n",
       "      <td>2010</td>\n",
       "      <td>1950</td>\n",
       "      <td>1950 WENTWORTH</td>\n",
       "      <td>[{'address_components': [{'long_name': '1950',...</td>\n",
       "      <td>29.726239</td>\n",
       "      <td>-95.376586</td>\n",
       "      <td>1950 Wentworth St, Houston, TX 77004, USA</td>\n",
       "    </tr>\n",
       "    <tr>\n",
       "      <th>3</th>\n",
       "      <td>3</td>\n",
       "      <td>2010-01-02 15:00:00</td>\n",
       "      <td>10H70</td>\n",
       "      <td>6600-6699</td>\n",
       "      <td>FANNIN</td>\n",
       "      <td>Theft</td>\n",
       "      <td>hospital</td>\n",
       "      <td>1</td>\n",
       "      <td>15</td>\n",
       "      <td>2</td>\n",
       "      <td>Saturday</td>\n",
       "      <td>Jan</td>\n",
       "      <td>2010</td>\n",
       "      <td>6650</td>\n",
       "      <td>6650 FANNIN</td>\n",
       "      <td>[{'address_components': [{'long_name': '6650',...</td>\n",
       "      <td>29.707713</td>\n",
       "      <td>-95.403292</td>\n",
       "      <td>6650 Fannin St, Houston, TX 77030, USA</td>\n",
       "    </tr>\n",
       "    <tr>\n",
       "      <th>4</th>\n",
       "      <td>4</td>\n",
       "      <td>2010-01-02 15:00:00</td>\n",
       "      <td>10H70</td>\n",
       "      <td>6400-6499</td>\n",
       "      <td>FANNIN</td>\n",
       "      <td>Theft</td>\n",
       "      <td>hospital</td>\n",
       "      <td>1</td>\n",
       "      <td>15</td>\n",
       "      <td>2</td>\n",
       "      <td>Saturday</td>\n",
       "      <td>Jan</td>\n",
       "      <td>2010</td>\n",
       "      <td>6450</td>\n",
       "      <td>6450 FANNIN</td>\n",
       "      <td>[{'address_components': [{'long_name': '6450',...</td>\n",
       "      <td>29.712163</td>\n",
       "      <td>-95.399011</td>\n",
       "      <td>6450 Fannin St, Houston, TX 77030, USA</td>\n",
       "    </tr>\n",
       "  </tbody>\n",
       "</table>\n",
       "</div>"
      ],
      "text/plain": [
       "   Unnamed: 0            Date_Hour   Beat BlockRange StreetName  \\\n",
       "0           0  2010-01-01 19:00:00  10H70  6500-6599     FANNIN   \n",
       "1           1  2010-01-01 21:00:00  10H70  4800-4899     AUSTIN   \n",
       "2           2  2010-01-01 23:00:00  10H70  1900-1999  WENTWORTH   \n",
       "3           3  2010-01-02 15:00:00  10H70  6600-6699     FANNIN   \n",
       "4           4  2010-01-02 15:00:00  10H70  6400-6499     FANNIN   \n",
       "\n",
       "          OffenseType          Premise  NumOffenses  Hour  day   weekday  \\\n",
       "0  Aggravated Assault         hospital            1    19    1    Friday   \n",
       "1            Burglary  residence/house            1    21    1    Friday   \n",
       "2  Aggravated Assault  residence/house            1    23    1    Friday   \n",
       "3               Theft         hospital            1    15    2  Saturday   \n",
       "4               Theft         hospital            1    15    2  Saturday   \n",
       "\n",
       "  month  year  block         address  \\\n",
       "0   Jan  2010   6550     6550 FANNIN   \n",
       "1   Jan  2010   4850     4850 AUSTIN   \n",
       "2   Jan  2010   1950  1950 WENTWORTH   \n",
       "3   Jan  2010   6650     6650 FANNIN   \n",
       "4   Jan  2010   6450     6450 FANNIN   \n",
       "\n",
       "                                             tup_add        lat        lon  \\\n",
       "0  [{'address_components': [{'long_name': '6550',...  29.711448 -95.399988   \n",
       "1  [{'address_components': [{'long_name': '4850',...  29.728541 -95.382676   \n",
       "2  [{'address_components': [{'long_name': '1950',...  29.726239 -95.376586   \n",
       "3  [{'address_components': [{'long_name': '6650',...  29.707713 -95.403292   \n",
       "4  [{'address_components': [{'long_name': '6450',...  29.712163 -95.399011   \n",
       "\n",
       "                                         add  \n",
       "0     6550 Fannin St, Houston, TX 77030, USA  \n",
       "1     4850 Austin St, Houston, TX 77004, USA  \n",
       "2  1950 Wentworth St, Houston, TX 77004, USA  \n",
       "3     6650 Fannin St, Houston, TX 77030, USA  \n",
       "4     6450 Fannin St, Houston, TX 77030, USA  "
      ]
     },
     "execution_count": 6,
     "metadata": {},
     "output_type": "execute_result"
    }
   ],
   "source": [
    "path = 'crime_data_clean/crime_10H70_10_17ADD.csv'\n",
    "df = pd.read_csv(path)\n",
    "df.head()"
   ]
  },
  {
   "cell_type": "code",
   "execution_count": 7,
   "metadata": {},
   "outputs": [
    {
     "name": "stdout",
     "output_type": "stream",
     "text": [
      "<class 'pandas.core.frame.DataFrame'>\n",
      "RangeIndex: 11109 entries, 0 to 11108\n",
      "Data columns (total 19 columns):\n",
      "Unnamed: 0     11109 non-null int64\n",
      "Date_Hour      11109 non-null object\n",
      "Beat           11109 non-null object\n",
      "BlockRange     11109 non-null object\n",
      "StreetName     11109 non-null object\n",
      "OffenseType    11109 non-null object\n",
      "Premise        11109 non-null object\n",
      "NumOffenses    11109 non-null int64\n",
      "Hour           11109 non-null int64\n",
      "day            11109 non-null int64\n",
      "weekday        11109 non-null object\n",
      "month          11109 non-null object\n",
      "year           11109 non-null int64\n",
      "block          11109 non-null int64\n",
      "address        11109 non-null object\n",
      "tup_add        11109 non-null object\n",
      "lat            11109 non-null float64\n",
      "lon            11109 non-null float64\n",
      "add            11109 non-null object\n",
      "dtypes: float64(2), int64(6), object(11)\n",
      "memory usage: 1.6+ MB\n"
     ]
    }
   ],
   "source": [
    "df.info()"
   ]
  },
  {
   "cell_type": "code",
   "execution_count": 8,
   "metadata": {},
   "outputs": [],
   "source": [
    "miss = df.tup_add == '[]'"
   ]
  },
  {
   "cell_type": "code",
   "execution_count": 11,
   "metadata": {},
   "outputs": [
    {
     "data": {
      "text/html": [
       "<div>\n",
       "<style scoped>\n",
       "    .dataframe tbody tr th:only-of-type {\n",
       "        vertical-align: middle;\n",
       "    }\n",
       "\n",
       "    .dataframe tbody tr th {\n",
       "        vertical-align: top;\n",
       "    }\n",
       "\n",
       "    .dataframe thead th {\n",
       "        text-align: right;\n",
       "    }\n",
       "</style>\n",
       "<table border=\"1\" class=\"dataframe\">\n",
       "  <thead>\n",
       "    <tr style=\"text-align: right;\">\n",
       "      <th></th>\n",
       "      <th>Unnamed: 0</th>\n",
       "      <th>Date_Hour</th>\n",
       "      <th>Beat</th>\n",
       "      <th>BlockRange</th>\n",
       "      <th>StreetName</th>\n",
       "      <th>OffenseType</th>\n",
       "      <th>Premise</th>\n",
       "      <th>NumOffenses</th>\n",
       "      <th>Hour</th>\n",
       "      <th>day</th>\n",
       "      <th>weekday</th>\n",
       "      <th>month</th>\n",
       "      <th>year</th>\n",
       "      <th>block</th>\n",
       "      <th>address</th>\n",
       "      <th>tup_add</th>\n",
       "      <th>lat</th>\n",
       "      <th>lon</th>\n",
       "      <th>add</th>\n",
       "    </tr>\n",
       "  </thead>\n",
       "  <tbody>\n",
       "  </tbody>\n",
       "</table>\n",
       "</div>"
      ],
      "text/plain": [
       "Empty DataFrame\n",
       "Columns: [Unnamed: 0, Date_Hour, Beat, BlockRange, StreetName, OffenseType, Premise, NumOffenses, Hour, day, weekday, month, year, block, address, tup_add, lat, lon, add]\n",
       "Index: []"
      ]
     },
     "execution_count": 11,
     "metadata": {},
     "output_type": "execute_result"
    }
   ],
   "source": [
    "df[miss]"
   ]
  },
  {
   "cell_type": "code",
   "execution_count": 12,
   "metadata": {},
   "outputs": [
    {
     "data": {
      "text/html": [
       "<div>\n",
       "<style scoped>\n",
       "    .dataframe tbody tr th:only-of-type {\n",
       "        vertical-align: middle;\n",
       "    }\n",
       "\n",
       "    .dataframe tbody tr th {\n",
       "        vertical-align: top;\n",
       "    }\n",
       "\n",
       "    .dataframe thead th {\n",
       "        text-align: right;\n",
       "    }\n",
       "</style>\n",
       "<table border=\"1\" class=\"dataframe\">\n",
       "  <thead>\n",
       "    <tr style=\"text-align: right;\">\n",
       "      <th></th>\n",
       "      <th>Unnamed: 0</th>\n",
       "      <th>Date_Hour</th>\n",
       "      <th>Beat</th>\n",
       "      <th>BlockRange</th>\n",
       "      <th>StreetName</th>\n",
       "      <th>OffenseType</th>\n",
       "      <th>Premise</th>\n",
       "      <th>NumOffenses</th>\n",
       "      <th>Hour</th>\n",
       "      <th>day</th>\n",
       "      <th>weekday</th>\n",
       "      <th>month</th>\n",
       "      <th>year</th>\n",
       "      <th>block</th>\n",
       "      <th>address</th>\n",
       "      <th>tup_add</th>\n",
       "      <th>lat</th>\n",
       "      <th>lon</th>\n",
       "      <th>add</th>\n",
       "    </tr>\n",
       "  </thead>\n",
       "  <tbody>\n",
       "    <tr>\n",
       "      <th>0</th>\n",
       "      <td>0</td>\n",
       "      <td>2010-01-01 19:00:00</td>\n",
       "      <td>10H70</td>\n",
       "      <td>6500-6599</td>\n",
       "      <td>FANNIN</td>\n",
       "      <td>Aggravated Assault</td>\n",
       "      <td>hospital</td>\n",
       "      <td>1</td>\n",
       "      <td>19</td>\n",
       "      <td>1</td>\n",
       "      <td>Friday</td>\n",
       "      <td>Jan</td>\n",
       "      <td>2010</td>\n",
       "      <td>6550</td>\n",
       "      <td>6550 FANNIN</td>\n",
       "      <td>[{'address_components': [{'long_name': '6550',...</td>\n",
       "      <td>29.711448</td>\n",
       "      <td>-95.399988</td>\n",
       "      <td>6550 Fannin St, Houston, TX 77030, USA</td>\n",
       "    </tr>\n",
       "    <tr>\n",
       "      <th>1</th>\n",
       "      <td>1</td>\n",
       "      <td>2010-01-01 21:00:00</td>\n",
       "      <td>10H70</td>\n",
       "      <td>4800-4899</td>\n",
       "      <td>AUSTIN</td>\n",
       "      <td>Burglary</td>\n",
       "      <td>residence/house</td>\n",
       "      <td>1</td>\n",
       "      <td>21</td>\n",
       "      <td>1</td>\n",
       "      <td>Friday</td>\n",
       "      <td>Jan</td>\n",
       "      <td>2010</td>\n",
       "      <td>4850</td>\n",
       "      <td>4850 AUSTIN</td>\n",
       "      <td>[{'address_components': [{'long_name': '4850',...</td>\n",
       "      <td>29.728541</td>\n",
       "      <td>-95.382676</td>\n",
       "      <td>4850 Austin St, Houston, TX 77004, USA</td>\n",
       "    </tr>\n",
       "    <tr>\n",
       "      <th>2</th>\n",
       "      <td>2</td>\n",
       "      <td>2010-01-01 23:00:00</td>\n",
       "      <td>10H70</td>\n",
       "      <td>1900-1999</td>\n",
       "      <td>WENTWORTH</td>\n",
       "      <td>Aggravated Assault</td>\n",
       "      <td>residence/house</td>\n",
       "      <td>1</td>\n",
       "      <td>23</td>\n",
       "      <td>1</td>\n",
       "      <td>Friday</td>\n",
       "      <td>Jan</td>\n",
       "      <td>2010</td>\n",
       "      <td>1950</td>\n",
       "      <td>1950 WENTWORTH</td>\n",
       "      <td>[{'address_components': [{'long_name': '1950',...</td>\n",
       "      <td>29.726239</td>\n",
       "      <td>-95.376586</td>\n",
       "      <td>1950 Wentworth St, Houston, TX 77004, USA</td>\n",
       "    </tr>\n",
       "    <tr>\n",
       "      <th>3</th>\n",
       "      <td>3</td>\n",
       "      <td>2010-01-02 15:00:00</td>\n",
       "      <td>10H70</td>\n",
       "      <td>6600-6699</td>\n",
       "      <td>FANNIN</td>\n",
       "      <td>Theft</td>\n",
       "      <td>hospital</td>\n",
       "      <td>1</td>\n",
       "      <td>15</td>\n",
       "      <td>2</td>\n",
       "      <td>Saturday</td>\n",
       "      <td>Jan</td>\n",
       "      <td>2010</td>\n",
       "      <td>6650</td>\n",
       "      <td>6650 FANNIN</td>\n",
       "      <td>[{'address_components': [{'long_name': '6650',...</td>\n",
       "      <td>29.707713</td>\n",
       "      <td>-95.403292</td>\n",
       "      <td>6650 Fannin St, Houston, TX 77030, USA</td>\n",
       "    </tr>\n",
       "    <tr>\n",
       "      <th>4</th>\n",
       "      <td>4</td>\n",
       "      <td>2010-01-02 15:00:00</td>\n",
       "      <td>10H70</td>\n",
       "      <td>6400-6499</td>\n",
       "      <td>FANNIN</td>\n",
       "      <td>Theft</td>\n",
       "      <td>hospital</td>\n",
       "      <td>1</td>\n",
       "      <td>15</td>\n",
       "      <td>2</td>\n",
       "      <td>Saturday</td>\n",
       "      <td>Jan</td>\n",
       "      <td>2010</td>\n",
       "      <td>6450</td>\n",
       "      <td>6450 FANNIN</td>\n",
       "      <td>[{'address_components': [{'long_name': '6450',...</td>\n",
       "      <td>29.712163</td>\n",
       "      <td>-95.399011</td>\n",
       "      <td>6450 Fannin St, Houston, TX 77030, USA</td>\n",
       "    </tr>\n",
       "  </tbody>\n",
       "</table>\n",
       "</div>"
      ],
      "text/plain": [
       "   Unnamed: 0            Date_Hour   Beat BlockRange StreetName  \\\n",
       "0           0  2010-01-01 19:00:00  10H70  6500-6599     FANNIN   \n",
       "1           1  2010-01-01 21:00:00  10H70  4800-4899     AUSTIN   \n",
       "2           2  2010-01-01 23:00:00  10H70  1900-1999  WENTWORTH   \n",
       "3           3  2010-01-02 15:00:00  10H70  6600-6699     FANNIN   \n",
       "4           4  2010-01-02 15:00:00  10H70  6400-6499     FANNIN   \n",
       "\n",
       "          OffenseType          Premise  NumOffenses  Hour  day   weekday  \\\n",
       "0  Aggravated Assault         hospital            1    19    1    Friday   \n",
       "1            Burglary  residence/house            1    21    1    Friday   \n",
       "2  Aggravated Assault  residence/house            1    23    1    Friday   \n",
       "3               Theft         hospital            1    15    2  Saturday   \n",
       "4               Theft         hospital            1    15    2  Saturday   \n",
       "\n",
       "  month  year  block         address  \\\n",
       "0   Jan  2010   6550     6550 FANNIN   \n",
       "1   Jan  2010   4850     4850 AUSTIN   \n",
       "2   Jan  2010   1950  1950 WENTWORTH   \n",
       "3   Jan  2010   6650     6650 FANNIN   \n",
       "4   Jan  2010   6450     6450 FANNIN   \n",
       "\n",
       "                                             tup_add        lat        lon  \\\n",
       "0  [{'address_components': [{'long_name': '6550',...  29.711448 -95.399988   \n",
       "1  [{'address_components': [{'long_name': '4850',...  29.728541 -95.382676   \n",
       "2  [{'address_components': [{'long_name': '1950',...  29.726239 -95.376586   \n",
       "3  [{'address_components': [{'long_name': '6650',...  29.707713 -95.403292   \n",
       "4  [{'address_components': [{'long_name': '6450',...  29.712163 -95.399011   \n",
       "\n",
       "                                         add  \n",
       "0     6550 Fannin St, Houston, TX 77030, USA  \n",
       "1     4850 Austin St, Houston, TX 77004, USA  \n",
       "2  1950 Wentworth St, Houston, TX 77004, USA  \n",
       "3     6650 Fannin St, Houston, TX 77030, USA  \n",
       "4     6450 Fannin St, Houston, TX 77030, USA  "
      ]
     },
     "execution_count": 12,
     "metadata": {},
     "output_type": "execute_result"
    }
   ],
   "source": [
    "df.head()"
   ]
  },
  {
   "cell_type": "code",
   "execution_count": 10,
   "metadata": {},
   "outputs": [
    {
     "ename": "ValueError",
     "evalue": "columns overlap but no suffix specified: Index(['lat', 'lon', 'add'], dtype='object')",
     "output_type": "error",
     "traceback": [
      "\u001b[0;31m---------------------------------------------------------------------------\u001b[0m",
      "\u001b[0;31mValueError\u001b[0m                                Traceback (most recent call last)",
      "\u001b[0;32m<ipython-input-10-26fe0fce600c>\u001b[0m in \u001b[0;36m<module>\u001b[0;34m()\u001b[0m\n\u001b[1;32m      1\u001b[0m \u001b[0mzz\u001b[0m \u001b[0;34m=\u001b[0m \u001b[0mdf\u001b[0m\u001b[0;34m[\u001b[0m\u001b[0;34m'tup_add'\u001b[0m\u001b[0;34m]\u001b[0m\u001b[0;34m.\u001b[0m\u001b[0mapply\u001b[0m\u001b[0;34m(\u001b[0m\u001b[0mparse_json\u001b[0m\u001b[0;34m)\u001b[0m\u001b[0;34m\u001b[0m\u001b[0m\n\u001b[1;32m      2\u001b[0m \u001b[0mzz\u001b[0m\u001b[0;34m.\u001b[0m\u001b[0mcolumns\u001b[0m \u001b[0;34m=\u001b[0m \u001b[0;34m[\u001b[0m\u001b[0;34m'lat'\u001b[0m\u001b[0;34m,\u001b[0m\u001b[0;34m'lon'\u001b[0m\u001b[0;34m,\u001b[0m\u001b[0;34m'add'\u001b[0m\u001b[0;34m]\u001b[0m\u001b[0;34m\u001b[0m\u001b[0m\n\u001b[0;32m----> 3\u001b[0;31m \u001b[0mdf\u001b[0m \u001b[0;34m=\u001b[0m \u001b[0mdf\u001b[0m\u001b[0;34m.\u001b[0m\u001b[0mjoin\u001b[0m\u001b[0;34m(\u001b[0m\u001b[0mzz\u001b[0m\u001b[0;34m)\u001b[0m\u001b[0;34m\u001b[0m\u001b[0m\n\u001b[0m",
      "\u001b[0;32m~/miniconda3/envs/springboard/lib/python3.6/site-packages/pandas/core/frame.py\u001b[0m in \u001b[0;36mjoin\u001b[0;34m(self, other, on, how, lsuffix, rsuffix, sort)\u001b[0m\n\u001b[1;32m   5314\u001b[0m         \u001b[0;31m# For SparseDataFrame's benefit\u001b[0m\u001b[0;34m\u001b[0m\u001b[0;34m\u001b[0m\u001b[0m\n\u001b[1;32m   5315\u001b[0m         return self._join_compat(other, on=on, how=how, lsuffix=lsuffix,\n\u001b[0;32m-> 5316\u001b[0;31m                                  rsuffix=rsuffix, sort=sort)\n\u001b[0m\u001b[1;32m   5317\u001b[0m \u001b[0;34m\u001b[0m\u001b[0m\n\u001b[1;32m   5318\u001b[0m     def _join_compat(self, other, on=None, how='left', lsuffix='', rsuffix='',\n",
      "\u001b[0;32m~/miniconda3/envs/springboard/lib/python3.6/site-packages/pandas/core/frame.py\u001b[0m in \u001b[0;36m_join_compat\u001b[0;34m(self, other, on, how, lsuffix, rsuffix, sort)\u001b[0m\n\u001b[1;32m   5329\u001b[0m             return merge(self, other, left_on=on, how=how,\n\u001b[1;32m   5330\u001b[0m                          \u001b[0mleft_index\u001b[0m\u001b[0;34m=\u001b[0m\u001b[0mon\u001b[0m \u001b[0;32mis\u001b[0m \u001b[0;32mNone\u001b[0m\u001b[0;34m,\u001b[0m \u001b[0mright_index\u001b[0m\u001b[0;34m=\u001b[0m\u001b[0;32mTrue\u001b[0m\u001b[0;34m,\u001b[0m\u001b[0;34m\u001b[0m\u001b[0m\n\u001b[0;32m-> 5331\u001b[0;31m                          suffixes=(lsuffix, rsuffix), sort=sort)\n\u001b[0m\u001b[1;32m   5332\u001b[0m         \u001b[0;32melse\u001b[0m\u001b[0;34m:\u001b[0m\u001b[0;34m\u001b[0m\u001b[0m\n\u001b[1;32m   5333\u001b[0m             \u001b[0;32mif\u001b[0m \u001b[0mon\u001b[0m \u001b[0;32mis\u001b[0m \u001b[0;32mnot\u001b[0m \u001b[0;32mNone\u001b[0m\u001b[0;34m:\u001b[0m\u001b[0;34m\u001b[0m\u001b[0m\n",
      "\u001b[0;32m~/miniconda3/envs/springboard/lib/python3.6/site-packages/pandas/core/reshape/merge.py\u001b[0m in \u001b[0;36mmerge\u001b[0;34m(left, right, how, on, left_on, right_on, left_index, right_index, sort, suffixes, copy, indicator, validate)\u001b[0m\n\u001b[1;32m     56\u001b[0m                          \u001b[0mcopy\u001b[0m\u001b[0;34m=\u001b[0m\u001b[0mcopy\u001b[0m\u001b[0;34m,\u001b[0m \u001b[0mindicator\u001b[0m\u001b[0;34m=\u001b[0m\u001b[0mindicator\u001b[0m\u001b[0;34m,\u001b[0m\u001b[0;34m\u001b[0m\u001b[0m\n\u001b[1;32m     57\u001b[0m                          validate=validate)\n\u001b[0;32m---> 58\u001b[0;31m     \u001b[0;32mreturn\u001b[0m \u001b[0mop\u001b[0m\u001b[0;34m.\u001b[0m\u001b[0mget_result\u001b[0m\u001b[0;34m(\u001b[0m\u001b[0;34m)\u001b[0m\u001b[0;34m\u001b[0m\u001b[0m\n\u001b[0m\u001b[1;32m     59\u001b[0m \u001b[0;34m\u001b[0m\u001b[0m\n\u001b[1;32m     60\u001b[0m \u001b[0;34m\u001b[0m\u001b[0m\n",
      "\u001b[0;32m~/miniconda3/envs/springboard/lib/python3.6/site-packages/pandas/core/reshape/merge.py\u001b[0m in \u001b[0;36mget_result\u001b[0;34m(self)\u001b[0m\n\u001b[1;32m    586\u001b[0m \u001b[0;34m\u001b[0m\u001b[0m\n\u001b[1;32m    587\u001b[0m         llabels, rlabels = items_overlap_with_suffix(ldata.items, lsuf,\n\u001b[0;32m--> 588\u001b[0;31m                                                      rdata.items, rsuf)\n\u001b[0m\u001b[1;32m    589\u001b[0m \u001b[0;34m\u001b[0m\u001b[0m\n\u001b[1;32m    590\u001b[0m         \u001b[0mlindexers\u001b[0m \u001b[0;34m=\u001b[0m \u001b[0;34m{\u001b[0m\u001b[0;36m1\u001b[0m\u001b[0;34m:\u001b[0m \u001b[0mleft_indexer\u001b[0m\u001b[0;34m}\u001b[0m \u001b[0;32mif\u001b[0m \u001b[0mleft_indexer\u001b[0m \u001b[0;32mis\u001b[0m \u001b[0;32mnot\u001b[0m \u001b[0;32mNone\u001b[0m \u001b[0;32melse\u001b[0m \u001b[0;34m{\u001b[0m\u001b[0;34m}\u001b[0m\u001b[0;34m\u001b[0m\u001b[0m\n",
      "\u001b[0;32m~/miniconda3/envs/springboard/lib/python3.6/site-packages/pandas/core/internals.py\u001b[0m in \u001b[0;36mitems_overlap_with_suffix\u001b[0;34m(left, lsuffix, right, rsuffix)\u001b[0m\n\u001b[1;32m   5024\u001b[0m         \u001b[0;32mif\u001b[0m \u001b[0;32mnot\u001b[0m \u001b[0mlsuffix\u001b[0m \u001b[0;32mand\u001b[0m \u001b[0;32mnot\u001b[0m \u001b[0mrsuffix\u001b[0m\u001b[0;34m:\u001b[0m\u001b[0;34m\u001b[0m\u001b[0m\n\u001b[1;32m   5025\u001b[0m             raise ValueError('columns overlap but no suffix specified: %s' %\n\u001b[0;32m-> 5026\u001b[0;31m                              to_rename)\n\u001b[0m\u001b[1;32m   5027\u001b[0m \u001b[0;34m\u001b[0m\u001b[0m\n\u001b[1;32m   5028\u001b[0m         \u001b[0;32mdef\u001b[0m \u001b[0mlrenamer\u001b[0m\u001b[0;34m(\u001b[0m\u001b[0mx\u001b[0m\u001b[0;34m)\u001b[0m\u001b[0;34m:\u001b[0m\u001b[0;34m\u001b[0m\u001b[0m\n",
      "\u001b[0;31mValueError\u001b[0m: columns overlap but no suffix specified: Index(['lat', 'lon', 'add'], dtype='object')"
     ]
    }
   ],
   "source": [
    "zz = df['tup_add'].apply(parse_json)\n",
    "zz.columns = ['lat','lon','add']\n",
    "df = df.join(zz)"
   ]
  },
  {
   "cell_type": "code",
   "execution_count": null,
   "metadata": {},
   "outputs": [],
   "source": [
    "df.head()"
   ]
  },
  {
   "cell_type": "code",
   "execution_count": 3,
   "metadata": {},
   "outputs": [
    {
     "ename": "NameError",
     "evalue": "name 'df' is not defined",
     "output_type": "error",
     "traceback": [
      "\u001b[0;31m---------------------------------------------------------------------------\u001b[0m",
      "\u001b[0;31mNameError\u001b[0m                                 Traceback (most recent call last)",
      "\u001b[0;32m<ipython-input-3-4c72357aef1f>\u001b[0m in \u001b[0;36m<module>\u001b[0;34m()\u001b[0m\n\u001b[1;32m      1\u001b[0m \u001b[0msave\u001b[0m \u001b[0;34m=\u001b[0m \u001b[0;34m'crime_data_clean/CRIME_10H70_10_17LATLON.csv'\u001b[0m\u001b[0;34m\u001b[0m\u001b[0m\n\u001b[0;32m----> 2\u001b[0;31m \u001b[0mdf\u001b[0m\u001b[0;34m.\u001b[0m\u001b[0mto_csv\u001b[0m\u001b[0;34m(\u001b[0m\u001b[0mpath\u001b[0m\u001b[0;34m)\u001b[0m\u001b[0;34m\u001b[0m\u001b[0m\n\u001b[0m\u001b[1;32m      3\u001b[0m \u001b[0mdf\u001b[0m\u001b[0;34m.\u001b[0m\u001b[0mhead\u001b[0m\u001b[0;34m(\u001b[0m\u001b[0;34m)\u001b[0m\u001b[0;34m\u001b[0m\u001b[0m\n",
      "\u001b[0;31mNameError\u001b[0m: name 'df' is not defined"
     ]
    }
   ],
   "source": [
    "save = 'crime_data_clean/CRIME_10H70_10_17LATLON.csv'\n",
    "df.to_csv(path)\n",
    "df.head()"
   ]
  },
  {
   "cell_type": "code",
   "execution_count": null,
   "metadata": {},
   "outputs": [],
   "source": [
    "ls crime_data_clean"
   ]
  },
  {
   "cell_type": "code",
   "execution_count": null,
   "metadata": {},
   "outputs": [],
   "source": []
  }
 ],
 "metadata": {
  "kernelspec": {
   "display_name": "Python 3",
   "language": "python",
   "name": "python3"
  },
  "language_info": {
   "codemirror_mode": {
    "name": "ipython",
    "version": 3
   },
   "file_extension": ".py",
   "mimetype": "text/x-python",
   "name": "python",
   "nbconvert_exporter": "python",
   "pygments_lexer": "ipython3",
   "version": "3.6.4"
  }
 },
 "nbformat": 4,
 "nbformat_minor": 2
}
