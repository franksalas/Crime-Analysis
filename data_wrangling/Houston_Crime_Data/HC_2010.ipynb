{
 "cells": [
  {
   "cell_type": "code",
   "execution_count": null,
   "metadata": {},
   "outputs": [],
   "source": []
  },
  {
   "cell_type": "code",
   "execution_count": 1,
   "metadata": {},
   "outputs": [],
   "source": [
    "import pandas as pd\n",
    "import glob, os\n",
    "import numpy as np\n",
    "import matplotlib.pyplot as plt\n",
    "import datetime  as dt\n",
    "import seaborn as sns"
   ]
  },
  {
   "cell_type": "code",
   "execution_count": 2,
   "metadata": {},
   "outputs": [
    {
     "name": "stdout",
     "output_type": "stream",
     "text": [
      "\u001b[0m\u001b[01;32mapr10.xls\u001b[0m*  \u001b[01;32mdec10.xls\u001b[0m*  \u001b[01;32mjan10.xls\u001b[0m*  \u001b[01;32mjun10.xls\u001b[0m*  \u001b[01;32mmay10.xls\u001b[0m*  \u001b[01;32moct10.xls\u001b[0m*\r\n",
      "\u001b[01;32maug10.xls\u001b[0m*  \u001b[01;32mfeb10.xls\u001b[0m*  \u001b[01;32mjul10.xls\u001b[0m*  \u001b[01;32mmar10.xls\u001b[0m*  \u001b[01;32mnov10.xls\u001b[0m*  \u001b[01;32msep10.xls\u001b[0m*\r\n"
     ]
    }
   ],
   "source": [
    "ls crime_data_raw/2010"
   ]
  },
  {
   "cell_type": "code",
   "execution_count": 3,
   "metadata": {},
   "outputs": [],
   "source": [
    "path = 'crime_data_raw/2010'"
   ]
  },
  {
   "cell_type": "code",
   "execution_count": 4,
   "metadata": {},
   "outputs": [
    {
     "name": "stdout",
     "output_type": "stream",
     "text": [
      "\u001b[0m\u001b[01;36;40m10years\u001b[0m/    \u001b[01;36;40m2008\u001b[0m/          \u001b[01;32m2011_raw.csv\u001b[0m*  \u001b[01;36;40m2014\u001b[0m/          \u001b[01;32m2016_raw.csv\u001b[0m*\r\n",
      "\u001b[01;36;40m1985_2014\u001b[0m/  \u001b[01;36;40m2009\u001b[0m/          \u001b[01;36;40m2012\u001b[0m/          \u001b[01;32m2014_raw.csv\u001b[0m*  \u001b[01;36;40m2017\u001b[0m/\r\n",
      "\u001b[01;36;40m2005\u001b[0m/       \u001b[01;36;40m2010\u001b[0m/          \u001b[01;32m2012_raw.csv\u001b[0m*  \u001b[01;36;40m2015\u001b[0m/          \u001b[01;32m2017_raw.csv\u001b[0m*\r\n",
      "\u001b[01;36;40m2006\u001b[0m/       \u001b[01;32m2010_raw.csv\u001b[0m*  \u001b[01;36;40m2013\u001b[0m/          \u001b[01;32m2015_raw.csv\u001b[0m*  \u001b[01;32mpremise_codes.csv\u001b[0m*\r\n",
      "\u001b[01;36;40m2007\u001b[0m/       \u001b[01;36;40m2011\u001b[0m/          \u001b[01;32m2013_raw.csv\u001b[0m*  \u001b[01;36;40m2016\u001b[0m/\r\n"
     ]
    }
   ],
   "source": [
    "ls crime_data_raw/"
   ]
  },
  {
   "cell_type": "code",
   "execution_count": 5,
   "metadata": {},
   "outputs": [
    {
     "data": {
      "text/html": [
       "<div>\n",
       "<style scoped>\n",
       "    .dataframe tbody tr th:only-of-type {\n",
       "        vertical-align: middle;\n",
       "    }\n",
       "\n",
       "    .dataframe tbody tr th {\n",
       "        vertical-align: top;\n",
       "    }\n",
       "\n",
       "    .dataframe thead th {\n",
       "        text-align: right;\n",
       "    }\n",
       "</style>\n",
       "<table border=\"1\" class=\"dataframe\">\n",
       "  <thead>\n",
       "    <tr style=\"text-align: right;\">\n",
       "      <th></th>\n",
       "      <th>Premise Type</th>\n",
       "      <th>Premise Description</th>\n",
       "    </tr>\n",
       "  </thead>\n",
       "  <tbody>\n",
       "    <tr>\n",
       "      <th>0</th>\n",
       "      <td>01A</td>\n",
       "      <td>AIRPORT TERMINAL</td>\n",
       "    </tr>\n",
       "    <tr>\n",
       "      <th>1</th>\n",
       "      <td>01B</td>\n",
       "      <td>BUS STATION</td>\n",
       "    </tr>\n",
       "    <tr>\n",
       "      <th>2</th>\n",
       "      <td>01K</td>\n",
       "      <td>RAILROAD TRACK/RIGHT OF WAY</td>\n",
       "    </tr>\n",
       "    <tr>\n",
       "      <th>3</th>\n",
       "      <td>01P</td>\n",
       "      <td>PARK &amp; RIDE TERMINAL</td>\n",
       "    </tr>\n",
       "    <tr>\n",
       "      <th>4</th>\n",
       "      <td>01R</td>\n",
       "      <td>LIGHT RAIL VEHICLE</td>\n",
       "    </tr>\n",
       "  </tbody>\n",
       "</table>\n",
       "</div>"
      ],
      "text/plain": [
       "  Premise Type          Premise Description\n",
       "0          01A             AIRPORT TERMINAL\n",
       "1          01B                  BUS STATION\n",
       "2          01K  RAILROAD TRACK/RIGHT OF WAY\n",
       "3          01P         PARK & RIDE TERMINAL\n",
       "4          01R           LIGHT RAIL VEHICLE"
      ]
     },
     "execution_count": 5,
     "metadata": {},
     "output_type": "execute_result"
    }
   ],
   "source": [
    "# get premise codes\n",
    "\n",
    "pc = pd.read_csv('crime_data_raw/premise_codes.csv')\n",
    "pc.head()"
   ]
  },
  {
   "cell_type": "code",
   "execution_count": 6,
   "metadata": {},
   "outputs": [
    {
     "name": "stdout",
     "output_type": "stream",
     "text": [
      "<class 'pandas.core.frame.DataFrame'>\n",
      "RangeIndex: 126 entries, 0 to 125\n",
      "Data columns (total 2 columns):\n",
      "Premise                126 non-null object\n",
      "Premise Description    126 non-null object\n",
      "dtypes: object(2)\n",
      "memory usage: 2.0+ KB\n"
     ]
    }
   ],
   "source": [
    "# rename premise column for easy merge\n",
    "pc.rename(columns={'Premise Type': 'Premise',}, inplace=True)\n",
    "pc.info()"
   ]
  },
  {
   "cell_type": "code",
   "execution_count": 7,
   "metadata": {},
   "outputs": [
    {
     "name": "stdout",
     "output_type": "stream",
     "text": [
      "WARNING *** file size (2752234) not 512 + multiple of sector size (512)\n",
      "WARNING *** OLE2 inconsistency: SSCS size is 0 but SSAT size is non-zero\n"
     ]
    }
   ],
   "source": [
    "# combine all files into one df\n",
    "all_files = glob.glob(os.path.join(path, \"*.xls\")) \n",
    "\n",
    "df_from_each_file = (pd.read_excel(f) for f in all_files)\n",
    "df   = pd.concat(df_from_each_file, ignore_index=True)"
   ]
  },
  {
   "cell_type": "code",
   "execution_count": 8,
   "metadata": {},
   "outputs": [
    {
     "name": "stdout",
     "output_type": "stream",
     "text": [
      "<class 'pandas.core.frame.DataFrame'>\n",
      "RangeIndex: 136263 entries, 0 to 136262\n",
      "Data columns (total 12 columns):\n",
      "# Of Offenses    136262 non-null float64\n",
      "Beat             136262 non-null object\n",
      "Block Range      136262 non-null object\n",
      "Date             136262 non-null datetime64[ns]\n",
      "Field11          0 non-null float64\n",
      "Hour             136262 non-null float64\n",
      "Offense Type     136262 non-null object\n",
      "Premise          136262 non-null object\n",
      "Street Name      136262 non-null object\n",
      "Suffix           136262 non-null object\n",
      "Type             136262 non-null object\n",
      "Unnamed: 1       0 non-null float64\n",
      "dtypes: datetime64[ns](1), float64(4), object(7)\n",
      "memory usage: 12.5+ MB\n"
     ]
    }
   ],
   "source": [
    "df.info()"
   ]
  },
  {
   "cell_type": "code",
   "execution_count": 9,
   "metadata": {},
   "outputs": [
    {
     "data": {
      "text/plain": [
       " 18.0    8492\n",
       " 0.0     8491\n",
       " 22.0    8097\n",
       " 19.0    7870\n",
       " 17.0    7707\n",
       " 20.0    7662\n",
       " 12.0    7467\n",
       " 21.0    7288\n",
       " 15.0    6568\n",
       " 23.0    6480\n",
       " 16.0    6447\n",
       " 14.0    6065\n",
       " 13.0    5819\n",
       " 8.0     5496\n",
       " 11.0    5164\n",
       " 10.0    5138\n",
       " 9.0     4672\n",
       " 7.0     4596\n",
       " 1.0     3896\n",
       " 2.0     3332\n",
       " 6.0     2985\n",
       " 3.0     2636\n",
       " 5.0     1994\n",
       " 4.0     1900\n",
       "NaN         1\n",
       "Name: Hour, dtype: int64"
      ]
     },
     "execution_count": 9,
     "metadata": {},
     "output_type": "execute_result"
    }
   ],
   "source": [
    "df.Hour.value_counts(dropna=False)"
   ]
  },
  {
   "cell_type": "code",
   "execution_count": 10,
   "metadata": {},
   "outputs": [],
   "source": [
    "df = df.dropna(subset=['Hour'])"
   ]
  },
  {
   "cell_type": "code",
   "execution_count": 11,
   "metadata": {},
   "outputs": [
    {
     "data": {
      "text/plain": [
       "18.0    8492\n",
       "0.0     8491\n",
       "22.0    8097\n",
       "19.0    7870\n",
       "17.0    7707\n",
       "20.0    7662\n",
       "12.0    7467\n",
       "21.0    7288\n",
       "15.0    6568\n",
       "23.0    6480\n",
       "16.0    6447\n",
       "14.0    6065\n",
       "13.0    5819\n",
       "8.0     5496\n",
       "11.0    5164\n",
       "10.0    5138\n",
       "9.0     4672\n",
       "7.0     4596\n",
       "1.0     3896\n",
       "2.0     3332\n",
       "6.0     2985\n",
       "3.0     2636\n",
       "5.0     1994\n",
       "4.0     1900\n",
       "Name: Hour, dtype: int64"
      ]
     },
     "execution_count": 11,
     "metadata": {},
     "output_type": "execute_result"
    }
   ],
   "source": [
    "df.Hour.value_counts(dropna=False)"
   ]
  },
  {
   "cell_type": "code",
   "execution_count": 12,
   "metadata": {},
   "outputs": [],
   "source": [
    "df['Hour'] = df['Hour'].astype(int)"
   ]
  },
  {
   "cell_type": "code",
   "execution_count": 13,
   "metadata": {},
   "outputs": [],
   "source": [
    "df['Hour'] = df['Hour'].astype(str) + ':00'"
   ]
  },
  {
   "cell_type": "code",
   "execution_count": 14,
   "metadata": {},
   "outputs": [
    {
     "data": {
      "text/html": [
       "<div>\n",
       "<style scoped>\n",
       "    .dataframe tbody tr th:only-of-type {\n",
       "        vertical-align: middle;\n",
       "    }\n",
       "\n",
       "    .dataframe tbody tr th {\n",
       "        vertical-align: top;\n",
       "    }\n",
       "\n",
       "    .dataframe thead th {\n",
       "        text-align: right;\n",
       "    }\n",
       "</style>\n",
       "<table border=\"1\" class=\"dataframe\">\n",
       "  <thead>\n",
       "    <tr style=\"text-align: right;\">\n",
       "      <th></th>\n",
       "      <th># Of Offenses</th>\n",
       "      <th>Beat</th>\n",
       "      <th>Block Range</th>\n",
       "      <th>Date</th>\n",
       "      <th>Field11</th>\n",
       "      <th>Hour</th>\n",
       "      <th>Offense Type</th>\n",
       "      <th>Premise</th>\n",
       "      <th>Street Name</th>\n",
       "      <th>Suffix</th>\n",
       "      <th>Type</th>\n",
       "      <th>Unnamed: 1</th>\n",
       "    </tr>\n",
       "  </thead>\n",
       "  <tbody>\n",
       "    <tr>\n",
       "      <th>0</th>\n",
       "      <td>1.0</td>\n",
       "      <td>13D20</td>\n",
       "      <td>6600-6699</td>\n",
       "      <td>2010-04-17</td>\n",
       "      <td>NaN</td>\n",
       "      <td>0:00</td>\n",
       "      <td>Murder</td>\n",
       "      <td>05W</td>\n",
       "      <td>HEFFERNAN</td>\n",
       "      <td>-</td>\n",
       "      <td>-</td>\n",
       "      <td>NaN</td>\n",
       "    </tr>\n",
       "    <tr>\n",
       "      <th>1</th>\n",
       "      <td>1.0</td>\n",
       "      <td>11H40</td>\n",
       "      <td>10100-10199</td>\n",
       "      <td>2010-04-08</td>\n",
       "      <td>NaN</td>\n",
       "      <td>20:00</td>\n",
       "      <td>Murder</td>\n",
       "      <td>20R</td>\n",
       "      <td>LUCORE</td>\n",
       "      <td>-</td>\n",
       "      <td>-</td>\n",
       "      <td>NaN</td>\n",
       "    </tr>\n",
       "    <tr>\n",
       "      <th>2</th>\n",
       "      <td>2.0</td>\n",
       "      <td>19G20</td>\n",
       "      <td>11400-11499</td>\n",
       "      <td>2010-04-01</td>\n",
       "      <td>NaN</td>\n",
       "      <td>22:00</td>\n",
       "      <td>Murder</td>\n",
       "      <td>13R</td>\n",
       "      <td>CARVEL</td>\n",
       "      <td>-</td>\n",
       "      <td>LN</td>\n",
       "      <td>NaN</td>\n",
       "    </tr>\n",
       "    <tr>\n",
       "      <th>3</th>\n",
       "      <td>1.0</td>\n",
       "      <td>10H60</td>\n",
       "      <td>3700-3799</td>\n",
       "      <td>2010-04-17</td>\n",
       "      <td>NaN</td>\n",
       "      <td>1:00</td>\n",
       "      <td>Murder</td>\n",
       "      <td>13R</td>\n",
       "      <td>WHEELER</td>\n",
       "      <td>-</td>\n",
       "      <td>-</td>\n",
       "      <td>NaN</td>\n",
       "    </tr>\n",
       "    <tr>\n",
       "      <th>4</th>\n",
       "      <td>1.0</td>\n",
       "      <td>14D30</td>\n",
       "      <td>5100-5199</td>\n",
       "      <td>2010-04-08</td>\n",
       "      <td>NaN</td>\n",
       "      <td>23:00</td>\n",
       "      <td>Murder</td>\n",
       "      <td>20R</td>\n",
       "      <td>MYRTLEWOOD</td>\n",
       "      <td>-</td>\n",
       "      <td>DR</td>\n",
       "      <td>NaN</td>\n",
       "    </tr>\n",
       "  </tbody>\n",
       "</table>\n",
       "</div>"
      ],
      "text/plain": [
       "   # Of Offenses   Beat  Block Range       Date  Field11   Hour Offense Type  \\\n",
       "0            1.0  13D20    6600-6699 2010-04-17      NaN   0:00       Murder   \n",
       "1            1.0  11H40  10100-10199 2010-04-08      NaN  20:00       Murder   \n",
       "2            2.0  19G20  11400-11499 2010-04-01      NaN  22:00       Murder   \n",
       "3            1.0  10H60    3700-3799 2010-04-17      NaN   1:00       Murder   \n",
       "4            1.0  14D30    5100-5199 2010-04-08      NaN  23:00       Murder   \n",
       "\n",
       "  Premise Street Name Suffix Type  Unnamed: 1  \n",
       "0     05W   HEFFERNAN      -    -         NaN  \n",
       "1     20R      LUCORE      -    -         NaN  \n",
       "2     13R      CARVEL      -   LN         NaN  \n",
       "3     13R     WHEELER      -    -         NaN  \n",
       "4     20R  MYRTLEWOOD      -   DR         NaN  "
      ]
     },
     "execution_count": 14,
     "metadata": {},
     "output_type": "execute_result"
    }
   ],
   "source": [
    "df.head()"
   ]
  },
  {
   "cell_type": "code",
   "execution_count": null,
   "metadata": {},
   "outputs": [],
   "source": []
  },
  {
   "cell_type": "code",
   "execution_count": null,
   "metadata": {},
   "outputs": [],
   "source": []
  },
  {
   "cell_type": "code",
   "execution_count": 16,
   "metadata": {},
   "outputs": [
    {
     "data": {
      "text/html": [
       "<div>\n",
       "<style scoped>\n",
       "    .dataframe tbody tr th:only-of-type {\n",
       "        vertical-align: middle;\n",
       "    }\n",
       "\n",
       "    .dataframe tbody tr th {\n",
       "        vertical-align: top;\n",
       "    }\n",
       "\n",
       "    .dataframe thead th {\n",
       "        text-align: right;\n",
       "    }\n",
       "</style>\n",
       "<table border=\"1\" class=\"dataframe\">\n",
       "  <thead>\n",
       "    <tr style=\"text-align: right;\">\n",
       "      <th></th>\n",
       "      <th># Of Offenses</th>\n",
       "      <th>Beat</th>\n",
       "      <th>Block Range</th>\n",
       "      <th>Date</th>\n",
       "      <th>Field11</th>\n",
       "      <th>Hour</th>\n",
       "      <th>Offense Type</th>\n",
       "      <th>Premise</th>\n",
       "      <th>Street Name</th>\n",
       "      <th>Suffix</th>\n",
       "      <th>Type</th>\n",
       "      <th>Unnamed: 1</th>\n",
       "    </tr>\n",
       "  </thead>\n",
       "  <tbody>\n",
       "  </tbody>\n",
       "</table>\n",
       "</div>"
      ],
      "text/plain": [
       "Empty DataFrame\n",
       "Columns: [# Of Offenses, Beat, Block Range, Date, Field11, Hour, Offense Type, Premise, Street Name, Suffix, Type, Unnamed: 1]\n",
       "Index: []"
      ]
     },
     "execution_count": 16,
     "metadata": {},
     "output_type": "execute_result"
    }
   ],
   "source": [
    "df[df.Date.isnull()]"
   ]
  },
  {
   "cell_type": "code",
   "execution_count": 17,
   "metadata": {},
   "outputs": [],
   "source": [
    "df.to_csv('crime_data_raw/2010_raw.csv')"
   ]
  },
  {
   "cell_type": "code",
   "execution_count": 18,
   "metadata": {},
   "outputs": [],
   "source": [
    "path = 'crime_data_raw/2010_raw.csv'\n",
    "df = pd.read_csv(path,parse_dates=[['Date', 'Hour']])"
   ]
  },
  {
   "cell_type": "code",
   "execution_count": 19,
   "metadata": {},
   "outputs": [
    {
     "data": {
      "text/html": [
       "<div>\n",
       "<style scoped>\n",
       "    .dataframe tbody tr th:only-of-type {\n",
       "        vertical-align: middle;\n",
       "    }\n",
       "\n",
       "    .dataframe tbody tr th {\n",
       "        vertical-align: top;\n",
       "    }\n",
       "\n",
       "    .dataframe thead th {\n",
       "        text-align: right;\n",
       "    }\n",
       "</style>\n",
       "<table border=\"1\" class=\"dataframe\">\n",
       "  <thead>\n",
       "    <tr style=\"text-align: right;\">\n",
       "      <th></th>\n",
       "      <th>Date_Hour</th>\n",
       "      <th>Unnamed: 0</th>\n",
       "      <th># Of Offenses</th>\n",
       "      <th>Beat</th>\n",
       "      <th>Block Range</th>\n",
       "      <th>Field11</th>\n",
       "      <th>Offense Type</th>\n",
       "      <th>Premise</th>\n",
       "      <th>Street Name</th>\n",
       "      <th>Suffix</th>\n",
       "      <th>Type</th>\n",
       "      <th>Unnamed: 1</th>\n",
       "    </tr>\n",
       "  </thead>\n",
       "  <tbody>\n",
       "    <tr>\n",
       "      <th>0</th>\n",
       "      <td>2010-04-17 00:00:00</td>\n",
       "      <td>0</td>\n",
       "      <td>1.0</td>\n",
       "      <td>13D20</td>\n",
       "      <td>6600-6699</td>\n",
       "      <td>NaN</td>\n",
       "      <td>Murder</td>\n",
       "      <td>05W</td>\n",
       "      <td>HEFFERNAN</td>\n",
       "      <td>-</td>\n",
       "      <td>-</td>\n",
       "      <td>NaN</td>\n",
       "    </tr>\n",
       "    <tr>\n",
       "      <th>1</th>\n",
       "      <td>2010-04-08 20:00:00</td>\n",
       "      <td>1</td>\n",
       "      <td>1.0</td>\n",
       "      <td>11H40</td>\n",
       "      <td>10100-10199</td>\n",
       "      <td>NaN</td>\n",
       "      <td>Murder</td>\n",
       "      <td>20R</td>\n",
       "      <td>LUCORE</td>\n",
       "      <td>-</td>\n",
       "      <td>-</td>\n",
       "      <td>NaN</td>\n",
       "    </tr>\n",
       "    <tr>\n",
       "      <th>2</th>\n",
       "      <td>2010-04-01 22:00:00</td>\n",
       "      <td>2</td>\n",
       "      <td>2.0</td>\n",
       "      <td>19G20</td>\n",
       "      <td>11400-11499</td>\n",
       "      <td>NaN</td>\n",
       "      <td>Murder</td>\n",
       "      <td>13R</td>\n",
       "      <td>CARVEL</td>\n",
       "      <td>-</td>\n",
       "      <td>LN</td>\n",
       "      <td>NaN</td>\n",
       "    </tr>\n",
       "    <tr>\n",
       "      <th>3</th>\n",
       "      <td>2010-04-17 01:00:00</td>\n",
       "      <td>3</td>\n",
       "      <td>1.0</td>\n",
       "      <td>10H60</td>\n",
       "      <td>3700-3799</td>\n",
       "      <td>NaN</td>\n",
       "      <td>Murder</td>\n",
       "      <td>13R</td>\n",
       "      <td>WHEELER</td>\n",
       "      <td>-</td>\n",
       "      <td>-</td>\n",
       "      <td>NaN</td>\n",
       "    </tr>\n",
       "    <tr>\n",
       "      <th>4</th>\n",
       "      <td>2010-04-08 23:00:00</td>\n",
       "      <td>4</td>\n",
       "      <td>1.0</td>\n",
       "      <td>14D30</td>\n",
       "      <td>5100-5199</td>\n",
       "      <td>NaN</td>\n",
       "      <td>Murder</td>\n",
       "      <td>20R</td>\n",
       "      <td>MYRTLEWOOD</td>\n",
       "      <td>-</td>\n",
       "      <td>DR</td>\n",
       "      <td>NaN</td>\n",
       "    </tr>\n",
       "  </tbody>\n",
       "</table>\n",
       "</div>"
      ],
      "text/plain": [
       "            Date_Hour  Unnamed: 0  # Of Offenses   Beat  Block Range  Field11  \\\n",
       "0 2010-04-17 00:00:00           0            1.0  13D20    6600-6699      NaN   \n",
       "1 2010-04-08 20:00:00           1            1.0  11H40  10100-10199      NaN   \n",
       "2 2010-04-01 22:00:00           2            2.0  19G20  11400-11499      NaN   \n",
       "3 2010-04-17 01:00:00           3            1.0  10H60    3700-3799      NaN   \n",
       "4 2010-04-08 23:00:00           4            1.0  14D30    5100-5199      NaN   \n",
       "\n",
       "  Offense Type Premise Street Name Suffix Type  Unnamed: 1  \n",
       "0       Murder     05W   HEFFERNAN      -    -         NaN  \n",
       "1       Murder     20R      LUCORE      -    -         NaN  \n",
       "2       Murder     13R      CARVEL      -   LN         NaN  \n",
       "3       Murder     13R     WHEELER      -    -         NaN  \n",
       "4       Murder     20R  MYRTLEWOOD      -   DR         NaN  "
      ]
     },
     "execution_count": 19,
     "metadata": {},
     "output_type": "execute_result"
    }
   ],
   "source": [
    "df.head()"
   ]
  },
  {
   "cell_type": "markdown",
   "metadata": {},
   "source": [
    "## Inspect Premise col"
   ]
  },
  {
   "cell_type": "code",
   "execution_count": 20,
   "metadata": {},
   "outputs": [
    {
     "data": {
      "text/plain": [
       "128"
      ]
     },
     "execution_count": 20,
     "metadata": {},
     "output_type": "execute_result"
    }
   ],
   "source": [
    "len(df.Premise.value_counts(dropna=False))"
   ]
  },
  {
   "cell_type": "code",
   "execution_count": 21,
   "metadata": {},
   "outputs": [
    {
     "data": {
      "text/plain": [
       "20A    17848\n",
       "20R    17426\n",
       "18A    15614\n",
       "13R    10029\n",
       "20D     9793\n",
       "Name: Premise, dtype: int64"
      ]
     },
     "execution_count": 21,
     "metadata": {},
     "output_type": "execute_result"
    }
   ],
   "source": [
    "df.Premise.value_counts(dropna=False).head()"
   ]
  },
  {
   "cell_type": "code",
   "execution_count": 22,
   "metadata": {},
   "outputs": [
    {
     "data": {
      "text/plain": [
       "array(['05W', '20R', '13R', '20A', '18A', '100', '05E', '20D', '18T',\n",
       "       '250', '040', '13A', '20P', '22M', '140', '070', '14V', '05V',\n",
       "       '18R', '18C', '18G', '18O', '18M', '18S', '13B', '05D', '22E',\n",
       "       '240', '18U', '13S', '13H', '210', '120', '080', '24A', '24J',\n",
       "       '24E', '03B', '05Q', '05B', '05Z', '18N', '05L', '05C', '24F',\n",
       "       '09D', '24P', '23S', '18P', '18H', '01K', '20G', '05P', '05F',\n",
       "       '02B', '09P', '05R', '05O', '22P', '11R', '170', '20M', '20L',\n",
       "       '05M', '18B', '09H', '20V', '22D', '18L', '05X', '13T', '20W',\n",
       "       '03S', '18D', '20C', '150', '18W', '22H', '20N', '22C', '05Y',\n",
       "       '20H', '25V', '05A', '190', '24G', '24V', '24C', '05G', '12V',\n",
       "       '09R', '21V', '060', '19V', '05H', '05U', '11S', '05N', '11V',\n",
       "       '24S', '11G', '160', '05T', '01T', '01A', '05S', '01B', '22U',\n",
       "       '24B', '---', '24T', '11L', '02C', '11P', '24M', '02S', '11F',\n",
       "       '09V', '22V', '01P', '25R', '11C', '04V', '23C', '01R', 'RES',\n",
       "       '13C', '02V'], dtype=object)"
      ]
     },
     "execution_count": 22,
     "metadata": {},
     "output_type": "execute_result"
    }
   ],
   "source": [
    "df.Premise.unique()"
   ]
  },
  {
   "cell_type": "code",
   "execution_count": 23,
   "metadata": {},
   "outputs": [],
   "source": [
    "df.Premise = df.Premise.str.strip()"
   ]
  },
  {
   "cell_type": "code",
   "execution_count": 24,
   "metadata": {},
   "outputs": [
    {
     "data": {
      "text/plain": [
       "128"
      ]
     },
     "execution_count": 24,
     "metadata": {},
     "output_type": "execute_result"
    }
   ],
   "source": [
    "len(df.Premise.value_counts(dropna=False))"
   ]
  },
  {
   "cell_type": "code",
   "execution_count": 25,
   "metadata": {},
   "outputs": [
    {
     "data": {
      "text/plain": [
       "20A    17848\n",
       "20R    17426\n",
       "18A    15614\n",
       "13R    10029\n",
       "20D     9793\n",
       "Name: Premise, dtype: int64"
      ]
     },
     "execution_count": 25,
     "metadata": {},
     "output_type": "execute_result"
    }
   ],
   "source": [
    "df.Premise.value_counts(dropna=False).head()"
   ]
  },
  {
   "cell_type": "code",
   "execution_count": null,
   "metadata": {},
   "outputs": [],
   "source": []
  },
  {
   "cell_type": "code",
   "execution_count": 26,
   "metadata": {},
   "outputs": [
    {
     "data": {
      "text/plain": [
       "True"
      ]
     },
     "execution_count": 26,
     "metadata": {},
     "output_type": "execute_result"
    }
   ],
   "source": [
    "# check if  null values\n",
    "df.isnull().values.any().any()"
   ]
  },
  {
   "cell_type": "code",
   "execution_count": 27,
   "metadata": {},
   "outputs": [
    {
     "data": {
      "text/plain": [
       "272524"
      ]
     },
     "execution_count": 27,
     "metadata": {},
     "output_type": "execute_result"
    }
   ],
   "source": [
    "# check su, of null values\n",
    "df.isnull().values.sum()"
   ]
  },
  {
   "cell_type": "code",
   "execution_count": 28,
   "metadata": {},
   "outputs": [
    {
     "data": {
      "text/plain": [
       "136262"
      ]
     },
     "execution_count": 28,
     "metadata": {},
     "output_type": "execute_result"
    }
   ],
   "source": [
    "len(df[df.isnull().any(axis=1)])"
   ]
  },
  {
   "cell_type": "markdown",
   "metadata": {},
   "source": [
    "## Visualize our data"
   ]
  },
  {
   "cell_type": "code",
   "execution_count": 29,
   "metadata": {},
   "outputs": [
    {
     "data": {
      "image/png": "[encoded data removed]",
      "text/plain": [
       "<Figure size 432x288 with 1 Axes>"
      ]
     },
     "metadata": {},
     "output_type": "display_data"
    }
   ],
   "source": [
    "sns.heatmap(df.isnull(),yticklabels=False,cbar=False,cmap='viridis')\n",
    "plt.title('Nulls display')\n",
    "plt.show()"
   ]
  },
  {
   "cell_type": "markdown",
   "metadata": {},
   "source": [
    "## col cleaning\n",
    "\n",
    "- joining similar columns\n",
    "- renaming"
   ]
  },
  {
   "cell_type": "code",
   "execution_count": 30,
   "metadata": {},
   "outputs": [
    {
     "data": {
      "text/html": [
       "<div>\n",
       "<style scoped>\n",
       "    .dataframe tbody tr th:only-of-type {\n",
       "        vertical-align: middle;\n",
       "    }\n",
       "\n",
       "    .dataframe tbody tr th {\n",
       "        vertical-align: top;\n",
       "    }\n",
       "\n",
       "    .dataframe thead th {\n",
       "        text-align: right;\n",
       "    }\n",
       "</style>\n",
       "<table border=\"1\" class=\"dataframe\">\n",
       "  <thead>\n",
       "    <tr style=\"text-align: right;\">\n",
       "      <th></th>\n",
       "      <th>Date_Hour</th>\n",
       "      <th>Unnamed: 0</th>\n",
       "      <th># Of Offenses</th>\n",
       "      <th>Beat</th>\n",
       "      <th>Block Range</th>\n",
       "      <th>Field11</th>\n",
       "      <th>Offense Type</th>\n",
       "      <th>Premise</th>\n",
       "      <th>Street Name</th>\n",
       "      <th>Suffix</th>\n",
       "      <th>Type</th>\n",
       "      <th>Unnamed: 1</th>\n",
       "    </tr>\n",
       "  </thead>\n",
       "  <tbody>\n",
       "    <tr>\n",
       "      <th>0</th>\n",
       "      <td>2010-04-17 00:00:00</td>\n",
       "      <td>0</td>\n",
       "      <td>1.0</td>\n",
       "      <td>13D20</td>\n",
       "      <td>6600-6699</td>\n",
       "      <td>NaN</td>\n",
       "      <td>Murder</td>\n",
       "      <td>05W</td>\n",
       "      <td>HEFFERNAN</td>\n",
       "      <td>-</td>\n",
       "      <td>-</td>\n",
       "      <td>NaN</td>\n",
       "    </tr>\n",
       "    <tr>\n",
       "      <th>1</th>\n",
       "      <td>2010-04-08 20:00:00</td>\n",
       "      <td>1</td>\n",
       "      <td>1.0</td>\n",
       "      <td>11H40</td>\n",
       "      <td>10100-10199</td>\n",
       "      <td>NaN</td>\n",
       "      <td>Murder</td>\n",
       "      <td>20R</td>\n",
       "      <td>LUCORE</td>\n",
       "      <td>-</td>\n",
       "      <td>-</td>\n",
       "      <td>NaN</td>\n",
       "    </tr>\n",
       "    <tr>\n",
       "      <th>2</th>\n",
       "      <td>2010-04-01 22:00:00</td>\n",
       "      <td>2</td>\n",
       "      <td>2.0</td>\n",
       "      <td>19G20</td>\n",
       "      <td>11400-11499</td>\n",
       "      <td>NaN</td>\n",
       "      <td>Murder</td>\n",
       "      <td>13R</td>\n",
       "      <td>CARVEL</td>\n",
       "      <td>-</td>\n",
       "      <td>LN</td>\n",
       "      <td>NaN</td>\n",
       "    </tr>\n",
       "    <tr>\n",
       "      <th>3</th>\n",
       "      <td>2010-04-17 01:00:00</td>\n",
       "      <td>3</td>\n",
       "      <td>1.0</td>\n",
       "      <td>10H60</td>\n",
       "      <td>3700-3799</td>\n",
       "      <td>NaN</td>\n",
       "      <td>Murder</td>\n",
       "      <td>13R</td>\n",
       "      <td>WHEELER</td>\n",
       "      <td>-</td>\n",
       "      <td>-</td>\n",
       "      <td>NaN</td>\n",
       "    </tr>\n",
       "    <tr>\n",
       "      <th>4</th>\n",
       "      <td>2010-04-08 23:00:00</td>\n",
       "      <td>4</td>\n",
       "      <td>1.0</td>\n",
       "      <td>14D30</td>\n",
       "      <td>5100-5199</td>\n",
       "      <td>NaN</td>\n",
       "      <td>Murder</td>\n",
       "      <td>20R</td>\n",
       "      <td>MYRTLEWOOD</td>\n",
       "      <td>-</td>\n",
       "      <td>DR</td>\n",
       "      <td>NaN</td>\n",
       "    </tr>\n",
       "  </tbody>\n",
       "</table>\n",
       "</div>"
      ],
      "text/plain": [
       "            Date_Hour  Unnamed: 0  # Of Offenses   Beat  Block Range  Field11  \\\n",
       "0 2010-04-17 00:00:00           0            1.0  13D20    6600-6699      NaN   \n",
       "1 2010-04-08 20:00:00           1            1.0  11H40  10100-10199      NaN   \n",
       "2 2010-04-01 22:00:00           2            2.0  19G20  11400-11499      NaN   \n",
       "3 2010-04-17 01:00:00           3            1.0  10H60    3700-3799      NaN   \n",
       "4 2010-04-08 23:00:00           4            1.0  14D30    5100-5199      NaN   \n",
       "\n",
       "  Offense Type Premise Street Name Suffix Type  Unnamed: 1  \n",
       "0       Murder     05W   HEFFERNAN      -    -         NaN  \n",
       "1       Murder     20R      LUCORE      -    -         NaN  \n",
       "2       Murder     13R      CARVEL      -   LN         NaN  \n",
       "3       Murder     13R     WHEELER      -    -         NaN  \n",
       "4       Murder     20R  MYRTLEWOOD      -   DR         NaN  "
      ]
     },
     "execution_count": 30,
     "metadata": {},
     "output_type": "execute_result"
    }
   ],
   "source": [
    "df.head()"
   ]
  },
  {
   "cell_type": "code",
   "execution_count": null,
   "metadata": {},
   "outputs": [],
   "source": []
  },
  {
   "cell_type": "code",
   "execution_count": 31,
   "metadata": {},
   "outputs": [],
   "source": [
    "# # 2014\n",
    "# # if duplicate columns\n",
    "\n",
    "# df['BlockRange'] = pd.concat([df['Block Range'].dropna(),\n",
    "#                               df['BlockRange'].dropna()]).reindex_like(df)\n",
    "\n",
    "# df['StreetName'] = pd.concat([df['Street Name'].dropna(),\n",
    "#                               df['StreetName'].dropna()]).reindex_like(df)\n",
    "\n",
    "# df['# Of Offenses'] = pd.concat([df['# Of'].dropna(),\n",
    "#                               df['# Of Offenses'].dropna(),\n",
    "#                               df['# offenses'].dropna(),\n",
    "#                               df['# Offenses'].dropna()]).reindex_like(df)"
   ]
  },
  {
   "cell_type": "code",
   "execution_count": 32,
   "metadata": {},
   "outputs": [
    {
     "data": {
      "text/html": [
       "<div>\n",
       "<style scoped>\n",
       "    .dataframe tbody tr th:only-of-type {\n",
       "        vertical-align: middle;\n",
       "    }\n",
       "\n",
       "    .dataframe tbody tr th {\n",
       "        vertical-align: top;\n",
       "    }\n",
       "\n",
       "    .dataframe thead th {\n",
       "        text-align: right;\n",
       "    }\n",
       "</style>\n",
       "<table border=\"1\" class=\"dataframe\">\n",
       "  <thead>\n",
       "    <tr style=\"text-align: right;\">\n",
       "      <th></th>\n",
       "      <th>Date_Hour</th>\n",
       "      <th>Unnamed: 0</th>\n",
       "      <th># Of Offenses</th>\n",
       "      <th>Beat</th>\n",
       "      <th>Block Range</th>\n",
       "      <th>Field11</th>\n",
       "      <th>Offense Type</th>\n",
       "      <th>Premise</th>\n",
       "      <th>Street Name</th>\n",
       "      <th>Suffix</th>\n",
       "      <th>Type</th>\n",
       "      <th>Unnamed: 1</th>\n",
       "    </tr>\n",
       "  </thead>\n",
       "  <tbody>\n",
       "    <tr>\n",
       "      <th>0</th>\n",
       "      <td>2010-04-17 00:00:00</td>\n",
       "      <td>0</td>\n",
       "      <td>1.0</td>\n",
       "      <td>13D20</td>\n",
       "      <td>6600-6699</td>\n",
       "      <td>NaN</td>\n",
       "      <td>Murder</td>\n",
       "      <td>05W</td>\n",
       "      <td>HEFFERNAN</td>\n",
       "      <td>-</td>\n",
       "      <td>-</td>\n",
       "      <td>NaN</td>\n",
       "    </tr>\n",
       "    <tr>\n",
       "      <th>1</th>\n",
       "      <td>2010-04-08 20:00:00</td>\n",
       "      <td>1</td>\n",
       "      <td>1.0</td>\n",
       "      <td>11H40</td>\n",
       "      <td>10100-10199</td>\n",
       "      <td>NaN</td>\n",
       "      <td>Murder</td>\n",
       "      <td>20R</td>\n",
       "      <td>LUCORE</td>\n",
       "      <td>-</td>\n",
       "      <td>-</td>\n",
       "      <td>NaN</td>\n",
       "    </tr>\n",
       "    <tr>\n",
       "      <th>2</th>\n",
       "      <td>2010-04-01 22:00:00</td>\n",
       "      <td>2</td>\n",
       "      <td>2.0</td>\n",
       "      <td>19G20</td>\n",
       "      <td>11400-11499</td>\n",
       "      <td>NaN</td>\n",
       "      <td>Murder</td>\n",
       "      <td>13R</td>\n",
       "      <td>CARVEL</td>\n",
       "      <td>-</td>\n",
       "      <td>LN</td>\n",
       "      <td>NaN</td>\n",
       "    </tr>\n",
       "    <tr>\n",
       "      <th>3</th>\n",
       "      <td>2010-04-17 01:00:00</td>\n",
       "      <td>3</td>\n",
       "      <td>1.0</td>\n",
       "      <td>10H60</td>\n",
       "      <td>3700-3799</td>\n",
       "      <td>NaN</td>\n",
       "      <td>Murder</td>\n",
       "      <td>13R</td>\n",
       "      <td>WHEELER</td>\n",
       "      <td>-</td>\n",
       "      <td>-</td>\n",
       "      <td>NaN</td>\n",
       "    </tr>\n",
       "    <tr>\n",
       "      <th>4</th>\n",
       "      <td>2010-04-08 23:00:00</td>\n",
       "      <td>4</td>\n",
       "      <td>1.0</td>\n",
       "      <td>14D30</td>\n",
       "      <td>5100-5199</td>\n",
       "      <td>NaN</td>\n",
       "      <td>Murder</td>\n",
       "      <td>20R</td>\n",
       "      <td>MYRTLEWOOD</td>\n",
       "      <td>-</td>\n",
       "      <td>DR</td>\n",
       "      <td>NaN</td>\n",
       "    </tr>\n",
       "  </tbody>\n",
       "</table>\n",
       "</div>"
      ],
      "text/plain": [
       "            Date_Hour  Unnamed: 0  # Of Offenses   Beat  Block Range  Field11  \\\n",
       "0 2010-04-17 00:00:00           0            1.0  13D20    6600-6699      NaN   \n",
       "1 2010-04-08 20:00:00           1            1.0  11H40  10100-10199      NaN   \n",
       "2 2010-04-01 22:00:00           2            2.0  19G20  11400-11499      NaN   \n",
       "3 2010-04-17 01:00:00           3            1.0  10H60    3700-3799      NaN   \n",
       "4 2010-04-08 23:00:00           4            1.0  14D30    5100-5199      NaN   \n",
       "\n",
       "  Offense Type Premise Street Name Suffix Type  Unnamed: 1  \n",
       "0       Murder     05W   HEFFERNAN      -    -         NaN  \n",
       "1       Murder     20R      LUCORE      -    -         NaN  \n",
       "2       Murder     13R      CARVEL      -   LN         NaN  \n",
       "3       Murder     13R     WHEELER      -    -         NaN  \n",
       "4       Murder     20R  MYRTLEWOOD      -   DR         NaN  "
      ]
     },
     "execution_count": 32,
     "metadata": {},
     "output_type": "execute_result"
    }
   ],
   "source": [
    "df.head()"
   ]
  },
  {
   "cell_type": "code",
   "execution_count": 33,
   "metadata": {},
   "outputs": [],
   "source": [
    "# df.rename(columns={\n",
    "#     '# Of Offenses': 'NumOffenses',\n",
    "#      'Offense Type': 'OffenseType',\n",
    "# }, inplace=True)\n",
    "# df.info()"
   ]
  },
  {
   "cell_type": "code",
   "execution_count": 34,
   "metadata": {},
   "outputs": [
    {
     "name": "stdout",
     "output_type": "stream",
     "text": [
      "<class 'pandas.core.frame.DataFrame'>\n",
      "RangeIndex: 136262 entries, 0 to 136261\n",
      "Data columns (total 12 columns):\n",
      "Date_Hour      136262 non-null datetime64[ns]\n",
      "Unnamed: 0     136262 non-null int64\n",
      "NumOffenses    136262 non-null float64\n",
      "Beat           136262 non-null object\n",
      "BlockRange     136262 non-null object\n",
      "Field11        0 non-null float64\n",
      "OffenseType    136262 non-null object\n",
      "Premise        136262 non-null object\n",
      "StreetName     136262 non-null object\n",
      "Suffix         136262 non-null object\n",
      "Type           136262 non-null object\n",
      "Unnamed: 1     0 non-null float64\n",
      "dtypes: datetime64[ns](1), float64(3), int64(1), object(7)\n",
      "memory usage: 12.5+ MB\n"
     ]
    }
   ],
   "source": [
    "df.rename(columns={\n",
    "    '# Of Offenses': 'NumOffenses',\n",
    "     'Offense Type': 'OffenseType',\n",
    "    'Block Range': 'BlockRange',\n",
    "    'Street Name': 'StreetName'\n",
    "}, inplace=True)\n",
    "df.info()"
   ]
  },
  {
   "cell_type": "markdown",
   "metadata": {},
   "source": [
    "## Subset dataframe to work on "
   ]
  },
  {
   "cell_type": "code",
   "execution_count": 35,
   "metadata": {},
   "outputs": [
    {
     "name": "stdout",
     "output_type": "stream",
     "text": [
      "<class 'pandas.core.frame.DataFrame'>\n",
      "RangeIndex: 136262 entries, 0 to 136261\n",
      "Data columns (total 7 columns):\n",
      "Date_Hour      136262 non-null datetime64[ns]\n",
      "Beat           136262 non-null object\n",
      "BlockRange     136262 non-null object\n",
      "StreetName     136262 non-null object\n",
      "OffenseType    136262 non-null object\n",
      "Premise        136262 non-null object\n",
      "NumOffenses    136262 non-null float64\n",
      "dtypes: datetime64[ns](1), float64(1), object(5)\n",
      "memory usage: 7.3+ MB\n"
     ]
    }
   ],
   "source": [
    "crimes = df[['Date_Hour','Beat','BlockRange','StreetName','OffenseType','Premise','NumOffenses']]\n",
    "crimes.info()"
   ]
  },
  {
   "cell_type": "code",
   "execution_count": 36,
   "metadata": {},
   "outputs": [
    {
     "data": {
      "image/png": "[encoded data removed]",
      "text/plain": [
       "<Figure size 432x288 with 1 Axes>"
      ]
     },
     "metadata": {},
     "output_type": "display_data"
    }
   ],
   "source": [
    "sns.heatmap(crimes.isnull(),yticklabels=False,cbar=False,cmap='viridis')\n",
    "plt.title('Nulls display')\n",
    "plt.show()"
   ]
  },
  {
   "cell_type": "markdown",
   "metadata": {},
   "source": [
    "# FIND NAN onevery col"
   ]
  },
  {
   "cell_type": "code",
   "execution_count": 37,
   "metadata": {},
   "outputs": [
    {
     "data": {
      "text/plain": [
       "0"
      ]
     },
     "execution_count": 37,
     "metadata": {},
     "output_type": "execute_result"
    }
   ],
   "source": [
    "len(crimes[crimes.Date_Hour.isnull()])"
   ]
  },
  {
   "cell_type": "code",
   "execution_count": 38,
   "metadata": {},
   "outputs": [
    {
     "data": {
      "text/html": [
       "<div>\n",
       "<style scoped>\n",
       "    .dataframe tbody tr th:only-of-type {\n",
       "        vertical-align: middle;\n",
       "    }\n",
       "\n",
       "    .dataframe tbody tr th {\n",
       "        vertical-align: top;\n",
       "    }\n",
       "\n",
       "    .dataframe thead th {\n",
       "        text-align: right;\n",
       "    }\n",
       "</style>\n",
       "<table border=\"1\" class=\"dataframe\">\n",
       "  <thead>\n",
       "    <tr style=\"text-align: right;\">\n",
       "      <th></th>\n",
       "      <th>Date_Hour</th>\n",
       "      <th>Beat</th>\n",
       "      <th>BlockRange</th>\n",
       "      <th>StreetName</th>\n",
       "      <th>OffenseType</th>\n",
       "      <th>Premise</th>\n",
       "      <th>NumOffenses</th>\n",
       "    </tr>\n",
       "  </thead>\n",
       "  <tbody>\n",
       "  </tbody>\n",
       "</table>\n",
       "</div>"
      ],
      "text/plain": [
       "Empty DataFrame\n",
       "Columns: [Date_Hour, Beat, BlockRange, StreetName, OffenseType, Premise, NumOffenses]\n",
       "Index: []"
      ]
     },
     "execution_count": 38,
     "metadata": {},
     "output_type": "execute_result"
    }
   ],
   "source": [
    "crimes[crimes.Date_Hour.isnull()]"
   ]
  },
  {
   "cell_type": "code",
   "execution_count": 39,
   "metadata": {},
   "outputs": [
    {
     "data": {
      "text/plain": [
       "0"
      ]
     },
     "execution_count": 39,
     "metadata": {},
     "output_type": "execute_result"
    }
   ],
   "source": [
    "len(crimes[crimes.Beat.isnull()])"
   ]
  },
  {
   "cell_type": "code",
   "execution_count": 40,
   "metadata": {},
   "outputs": [
    {
     "data": {
      "text/html": [
       "<div>\n",
       "<style scoped>\n",
       "    .dataframe tbody tr th:only-of-type {\n",
       "        vertical-align: middle;\n",
       "    }\n",
       "\n",
       "    .dataframe tbody tr th {\n",
       "        vertical-align: top;\n",
       "    }\n",
       "\n",
       "    .dataframe thead th {\n",
       "        text-align: right;\n",
       "    }\n",
       "</style>\n",
       "<table border=\"1\" class=\"dataframe\">\n",
       "  <thead>\n",
       "    <tr style=\"text-align: right;\">\n",
       "      <th></th>\n",
       "      <th>Date_Hour</th>\n",
       "      <th>Beat</th>\n",
       "      <th>BlockRange</th>\n",
       "      <th>StreetName</th>\n",
       "      <th>OffenseType</th>\n",
       "      <th>Premise</th>\n",
       "      <th>NumOffenses</th>\n",
       "    </tr>\n",
       "  </thead>\n",
       "  <tbody>\n",
       "  </tbody>\n",
       "</table>\n",
       "</div>"
      ],
      "text/plain": [
       "Empty DataFrame\n",
       "Columns: [Date_Hour, Beat, BlockRange, StreetName, OffenseType, Premise, NumOffenses]\n",
       "Index: []"
      ]
     },
     "execution_count": 40,
     "metadata": {},
     "output_type": "execute_result"
    }
   ],
   "source": [
    "crimes[crimes.Beat.isnull()]"
   ]
  },
  {
   "cell_type": "code",
   "execution_count": 41,
   "metadata": {},
   "outputs": [
    {
     "data": {
      "text/plain": [
       "0"
      ]
     },
     "execution_count": 41,
     "metadata": {},
     "output_type": "execute_result"
    }
   ],
   "source": [
    "len(crimes[crimes.BlockRange.isnull()])"
   ]
  },
  {
   "cell_type": "code",
   "execution_count": 42,
   "metadata": {},
   "outputs": [
    {
     "data": {
      "text/html": [
       "<div>\n",
       "<style scoped>\n",
       "    .dataframe tbody tr th:only-of-type {\n",
       "        vertical-align: middle;\n",
       "    }\n",
       "\n",
       "    .dataframe tbody tr th {\n",
       "        vertical-align: top;\n",
       "    }\n",
       "\n",
       "    .dataframe thead th {\n",
       "        text-align: right;\n",
       "    }\n",
       "</style>\n",
       "<table border=\"1\" class=\"dataframe\">\n",
       "  <thead>\n",
       "    <tr style=\"text-align: right;\">\n",
       "      <th></th>\n",
       "      <th>Date_Hour</th>\n",
       "      <th>Beat</th>\n",
       "      <th>BlockRange</th>\n",
       "      <th>StreetName</th>\n",
       "      <th>OffenseType</th>\n",
       "      <th>Premise</th>\n",
       "      <th>NumOffenses</th>\n",
       "    </tr>\n",
       "  </thead>\n",
       "  <tbody>\n",
       "  </tbody>\n",
       "</table>\n",
       "</div>"
      ],
      "text/plain": [
       "Empty DataFrame\n",
       "Columns: [Date_Hour, Beat, BlockRange, StreetName, OffenseType, Premise, NumOffenses]\n",
       "Index: []"
      ]
     },
     "execution_count": 42,
     "metadata": {},
     "output_type": "execute_result"
    }
   ],
   "source": [
    "crimes[crimes.BlockRange.isnull()]"
   ]
  },
  {
   "cell_type": "code",
   "execution_count": 43,
   "metadata": {},
   "outputs": [
    {
     "data": {
      "text/plain": [
       "0"
      ]
     },
     "execution_count": 43,
     "metadata": {},
     "output_type": "execute_result"
    }
   ],
   "source": [
    "len(crimes[crimes.StreetName.isnull()])"
   ]
  },
  {
   "cell_type": "code",
   "execution_count": 44,
   "metadata": {},
   "outputs": [
    {
     "data": {
      "text/html": [
       "<div>\n",
       "<style scoped>\n",
       "    .dataframe tbody tr th:only-of-type {\n",
       "        vertical-align: middle;\n",
       "    }\n",
       "\n",
       "    .dataframe tbody tr th {\n",
       "        vertical-align: top;\n",
       "    }\n",
       "\n",
       "    .dataframe thead th {\n",
       "        text-align: right;\n",
       "    }\n",
       "</style>\n",
       "<table border=\"1\" class=\"dataframe\">\n",
       "  <thead>\n",
       "    <tr style=\"text-align: right;\">\n",
       "      <th></th>\n",
       "      <th>Date_Hour</th>\n",
       "      <th>Beat</th>\n",
       "      <th>BlockRange</th>\n",
       "      <th>StreetName</th>\n",
       "      <th>OffenseType</th>\n",
       "      <th>Premise</th>\n",
       "      <th>NumOffenses</th>\n",
       "    </tr>\n",
       "  </thead>\n",
       "  <tbody>\n",
       "  </tbody>\n",
       "</table>\n",
       "</div>"
      ],
      "text/plain": [
       "Empty DataFrame\n",
       "Columns: [Date_Hour, Beat, BlockRange, StreetName, OffenseType, Premise, NumOffenses]\n",
       "Index: []"
      ]
     },
     "execution_count": 44,
     "metadata": {},
     "output_type": "execute_result"
    }
   ],
   "source": [
    "crimes[crimes.StreetName.isnull()]"
   ]
  },
  {
   "cell_type": "code",
   "execution_count": 45,
   "metadata": {},
   "outputs": [
    {
     "data": {
      "text/plain": [
       "0"
      ]
     },
     "execution_count": 45,
     "metadata": {},
     "output_type": "execute_result"
    }
   ],
   "source": [
    "len(crimes[crimes.OffenseType.isnull()])"
   ]
  },
  {
   "cell_type": "code",
   "execution_count": 46,
   "metadata": {},
   "outputs": [
    {
     "data": {
      "text/html": [
       "<div>\n",
       "<style scoped>\n",
       "    .dataframe tbody tr th:only-of-type {\n",
       "        vertical-align: middle;\n",
       "    }\n",
       "\n",
       "    .dataframe tbody tr th {\n",
       "        vertical-align: top;\n",
       "    }\n",
       "\n",
       "    .dataframe thead th {\n",
       "        text-align: right;\n",
       "    }\n",
       "</style>\n",
       "<table border=\"1\" class=\"dataframe\">\n",
       "  <thead>\n",
       "    <tr style=\"text-align: right;\">\n",
       "      <th></th>\n",
       "      <th>Date_Hour</th>\n",
       "      <th>Beat</th>\n",
       "      <th>BlockRange</th>\n",
       "      <th>StreetName</th>\n",
       "      <th>OffenseType</th>\n",
       "      <th>Premise</th>\n",
       "      <th>NumOffenses</th>\n",
       "    </tr>\n",
       "  </thead>\n",
       "  <tbody>\n",
       "  </tbody>\n",
       "</table>\n",
       "</div>"
      ],
      "text/plain": [
       "Empty DataFrame\n",
       "Columns: [Date_Hour, Beat, BlockRange, StreetName, OffenseType, Premise, NumOffenses]\n",
       "Index: []"
      ]
     },
     "execution_count": 46,
     "metadata": {},
     "output_type": "execute_result"
    }
   ],
   "source": [
    "crimes[crimes.OffenseType.isnull()]"
   ]
  },
  {
   "cell_type": "code",
   "execution_count": 47,
   "metadata": {},
   "outputs": [
    {
     "data": {
      "text/plain": [
       "0"
      ]
     },
     "execution_count": 47,
     "metadata": {},
     "output_type": "execute_result"
    }
   ],
   "source": [
    "len(crimes[crimes.Premise.isnull()])"
   ]
  },
  {
   "cell_type": "code",
   "execution_count": 48,
   "metadata": {},
   "outputs": [
    {
     "data": {
      "text/html": [
       "<div>\n",
       "<style scoped>\n",
       "    .dataframe tbody tr th:only-of-type {\n",
       "        vertical-align: middle;\n",
       "    }\n",
       "\n",
       "    .dataframe tbody tr th {\n",
       "        vertical-align: top;\n",
       "    }\n",
       "\n",
       "    .dataframe thead th {\n",
       "        text-align: right;\n",
       "    }\n",
       "</style>\n",
       "<table border=\"1\" class=\"dataframe\">\n",
       "  <thead>\n",
       "    <tr style=\"text-align: right;\">\n",
       "      <th></th>\n",
       "      <th>Date_Hour</th>\n",
       "      <th>Beat</th>\n",
       "      <th>BlockRange</th>\n",
       "      <th>StreetName</th>\n",
       "      <th>OffenseType</th>\n",
       "      <th>Premise</th>\n",
       "      <th>NumOffenses</th>\n",
       "    </tr>\n",
       "  </thead>\n",
       "  <tbody>\n",
       "  </tbody>\n",
       "</table>\n",
       "</div>"
      ],
      "text/plain": [
       "Empty DataFrame\n",
       "Columns: [Date_Hour, Beat, BlockRange, StreetName, OffenseType, Premise, NumOffenses]\n",
       "Index: []"
      ]
     },
     "execution_count": 48,
     "metadata": {},
     "output_type": "execute_result"
    }
   ],
   "source": [
    "crimes[crimes.Premise.isnull()]"
   ]
  },
  {
   "cell_type": "code",
   "execution_count": 49,
   "metadata": {},
   "outputs": [
    {
     "data": {
      "text/plain": [
       "0"
      ]
     },
     "execution_count": 49,
     "metadata": {},
     "output_type": "execute_result"
    }
   ],
   "source": [
    "len(crimes[crimes.NumOffenses.isnull()])"
   ]
  },
  {
   "cell_type": "code",
   "execution_count": 50,
   "metadata": {},
   "outputs": [
    {
     "data": {
      "text/html": [
       "<div>\n",
       "<style scoped>\n",
       "    .dataframe tbody tr th:only-of-type {\n",
       "        vertical-align: middle;\n",
       "    }\n",
       "\n",
       "    .dataframe tbody tr th {\n",
       "        vertical-align: top;\n",
       "    }\n",
       "\n",
       "    .dataframe thead th {\n",
       "        text-align: right;\n",
       "    }\n",
       "</style>\n",
       "<table border=\"1\" class=\"dataframe\">\n",
       "  <thead>\n",
       "    <tr style=\"text-align: right;\">\n",
       "      <th></th>\n",
       "      <th>Date_Hour</th>\n",
       "      <th>Beat</th>\n",
       "      <th>BlockRange</th>\n",
       "      <th>StreetName</th>\n",
       "      <th>OffenseType</th>\n",
       "      <th>Premise</th>\n",
       "      <th>NumOffenses</th>\n",
       "    </tr>\n",
       "  </thead>\n",
       "  <tbody>\n",
       "  </tbody>\n",
       "</table>\n",
       "</div>"
      ],
      "text/plain": [
       "Empty DataFrame\n",
       "Columns: [Date_Hour, Beat, BlockRange, StreetName, OffenseType, Premise, NumOffenses]\n",
       "Index: []"
      ]
     },
     "execution_count": 50,
     "metadata": {},
     "output_type": "execute_result"
    }
   ],
   "source": [
    "crimes[crimes.NumOffenses.isnull()]"
   ]
  },
  {
   "cell_type": "code",
   "execution_count": null,
   "metadata": {},
   "outputs": [],
   "source": []
  },
  {
   "cell_type": "code",
   "execution_count": null,
   "metadata": {},
   "outputs": [],
   "source": []
  },
  {
   "cell_type": "markdown",
   "metadata": {},
   "source": [
    "## Find NaN\n",
    "- drop if > 2 nan"
   ]
  },
  {
   "cell_type": "code",
   "execution_count": null,
   "metadata": {},
   "outputs": [],
   "source": []
  },
  {
   "cell_type": "code",
   "execution_count": 52,
   "metadata": {},
   "outputs": [
    {
     "data": {
      "text/plain": [
       "0"
      ]
     },
     "execution_count": 52,
     "metadata": {},
     "output_type": "execute_result"
    }
   ],
   "source": [
    "len(crimes[crimes.isnull().any(axis=1)])"
   ]
  },
  {
   "cell_type": "code",
   "execution_count": 53,
   "metadata": {},
   "outputs": [
    {
     "data": {
      "text/html": [
       "<div>\n",
       "<style scoped>\n",
       "    .dataframe tbody tr th:only-of-type {\n",
       "        vertical-align: middle;\n",
       "    }\n",
       "\n",
       "    .dataframe tbody tr th {\n",
       "        vertical-align: top;\n",
       "    }\n",
       "\n",
       "    .dataframe thead th {\n",
       "        text-align: right;\n",
       "    }\n",
       "</style>\n",
       "<table border=\"1\" class=\"dataframe\">\n",
       "  <thead>\n",
       "    <tr style=\"text-align: right;\">\n",
       "      <th></th>\n",
       "      <th>Date_Hour</th>\n",
       "      <th>Beat</th>\n",
       "      <th>BlockRange</th>\n",
       "      <th>StreetName</th>\n",
       "      <th>OffenseType</th>\n",
       "      <th>Premise</th>\n",
       "      <th>NumOffenses</th>\n",
       "    </tr>\n",
       "  </thead>\n",
       "  <tbody>\n",
       "  </tbody>\n",
       "</table>\n",
       "</div>"
      ],
      "text/plain": [
       "Empty DataFrame\n",
       "Columns: [Date_Hour, Beat, BlockRange, StreetName, OffenseType, Premise, NumOffenses]\n",
       "Index: []"
      ]
     },
     "execution_count": 53,
     "metadata": {},
     "output_type": "execute_result"
    }
   ],
   "source": [
    "crimes[crimes.isnull().any(axis=1)]"
   ]
  },
  {
   "cell_type": "code",
   "execution_count": 54,
   "metadata": {},
   "outputs": [],
   "source": [
    "#crimes = crimes.dropna(thresh=2)"
   ]
  },
  {
   "cell_type": "code",
   "execution_count": 55,
   "metadata": {},
   "outputs": [],
   "source": [
    "#crimes[crimes.isnull().any(axis=1)]"
   ]
  },
  {
   "cell_type": "markdown",
   "metadata": {},
   "source": [
    "## Joint dataframes"
   ]
  },
  {
   "cell_type": "code",
   "execution_count": 56,
   "metadata": {},
   "outputs": [
    {
     "name": "stdout",
     "output_type": "stream",
     "text": [
      "<class 'pandas.core.frame.DataFrame'>\n",
      "Int64Index: 136263 entries, 0 to 136262\n",
      "Data columns (total 8 columns):\n",
      "Date_Hour              136262 non-null datetime64[ns]\n",
      "Beat                   136262 non-null object\n",
      "BlockRange             136262 non-null object\n",
      "StreetName             136262 non-null object\n",
      "OffenseType            136262 non-null object\n",
      "Premise                136263 non-null object\n",
      "NumOffenses            136262 non-null float64\n",
      "Premise Description    136214 non-null object\n",
      "dtypes: datetime64[ns](1), float64(1), object(6)\n",
      "memory usage: 9.4+ MB\n"
     ]
    }
   ],
   "source": [
    "# join two datarames\n",
    "crimes = pd.merge(crimes, pc, on='Premise', how='outer')\n",
    "crimes.info()"
   ]
  },
  {
   "cell_type": "code",
   "execution_count": 57,
   "metadata": {},
   "outputs": [
    {
     "data": {
      "text/html": [
       "<div>\n",
       "<style scoped>\n",
       "    .dataframe tbody tr th:only-of-type {\n",
       "        vertical-align: middle;\n",
       "    }\n",
       "\n",
       "    .dataframe tbody tr th {\n",
       "        vertical-align: top;\n",
       "    }\n",
       "\n",
       "    .dataframe thead th {\n",
       "        text-align: right;\n",
       "    }\n",
       "</style>\n",
       "<table border=\"1\" class=\"dataframe\">\n",
       "  <thead>\n",
       "    <tr style=\"text-align: right;\">\n",
       "      <th></th>\n",
       "      <th>Date_Hour</th>\n",
       "      <th>Beat</th>\n",
       "      <th>BlockRange</th>\n",
       "      <th>StreetName</th>\n",
       "      <th>OffenseType</th>\n",
       "      <th>Premise</th>\n",
       "      <th>NumOffenses</th>\n",
       "      <th>Premise Description</th>\n",
       "    </tr>\n",
       "  </thead>\n",
       "  <tbody>\n",
       "    <tr>\n",
       "      <th>0</th>\n",
       "      <td>2010-04-17 00:00:00</td>\n",
       "      <td>13D20</td>\n",
       "      <td>6600-6699</td>\n",
       "      <td>HEFFERNAN</td>\n",
       "      <td>Murder</td>\n",
       "      <td>05W</td>\n",
       "      <td>1.0</td>\n",
       "      <td>WAREHOUSE</td>\n",
       "    </tr>\n",
       "    <tr>\n",
       "      <th>1</th>\n",
       "      <td>2010-04-01 00:00:00</td>\n",
       "      <td>14D20</td>\n",
       "      <td>3400-3499</td>\n",
       "      <td>CORDER</td>\n",
       "      <td>Burglary</td>\n",
       "      <td>05W</td>\n",
       "      <td>1.0</td>\n",
       "      <td>WAREHOUSE</td>\n",
       "    </tr>\n",
       "    <tr>\n",
       "      <th>2</th>\n",
       "      <td>2010-04-08 23:00:00</td>\n",
       "      <td>6B40</td>\n",
       "      <td>10200-10299</td>\n",
       "      <td>NORTH</td>\n",
       "      <td>Burglary</td>\n",
       "      <td>05W</td>\n",
       "      <td>1.0</td>\n",
       "      <td>WAREHOUSE</td>\n",
       "    </tr>\n",
       "    <tr>\n",
       "      <th>3</th>\n",
       "      <td>2010-04-23 19:00:00</td>\n",
       "      <td>13D10</td>\n",
       "      <td>6100-6199</td>\n",
       "      <td>SOUTH LP E</td>\n",
       "      <td>Burglary</td>\n",
       "      <td>05W</td>\n",
       "      <td>1.0</td>\n",
       "      <td>WAREHOUSE</td>\n",
       "    </tr>\n",
       "    <tr>\n",
       "      <th>4</th>\n",
       "      <td>2010-04-06 17:00:00</td>\n",
       "      <td>3B10</td>\n",
       "      <td>5900-5999</td>\n",
       "      <td>CENTRALCREST</td>\n",
       "      <td>Burglary</td>\n",
       "      <td>05W</td>\n",
       "      <td>1.0</td>\n",
       "      <td>WAREHOUSE</td>\n",
       "    </tr>\n",
       "  </tbody>\n",
       "</table>\n",
       "</div>"
      ],
      "text/plain": [
       "            Date_Hour   Beat   BlockRange    StreetName OffenseType Premise  \\\n",
       "0 2010-04-17 00:00:00  13D20    6600-6699     HEFFERNAN      Murder     05W   \n",
       "1 2010-04-01 00:00:00  14D20    3400-3499        CORDER    Burglary     05W   \n",
       "2 2010-04-08 23:00:00   6B40  10200-10299         NORTH    Burglary     05W   \n",
       "3 2010-04-23 19:00:00  13D10    6100-6199    SOUTH LP E    Burglary     05W   \n",
       "4 2010-04-06 17:00:00   3B10    5900-5999  CENTRALCREST    Burglary     05W   \n",
       "\n",
       "   NumOffenses Premise Description  \n",
       "0          1.0           WAREHOUSE  \n",
       "1          1.0           WAREHOUSE  \n",
       "2          1.0           WAREHOUSE  \n",
       "3          1.0           WAREHOUSE  \n",
       "4          1.0           WAREHOUSE  "
      ]
     },
     "execution_count": 57,
     "metadata": {},
     "output_type": "execute_result"
    }
   ],
   "source": [
    "crimes.head()"
   ]
  },
  {
   "cell_type": "code",
   "execution_count": 58,
   "metadata": {},
   "outputs": [
    {
     "data": {
      "text/plain": [
       "49"
      ]
     },
     "execution_count": 58,
     "metadata": {},
     "output_type": "execute_result"
    }
   ],
   "source": [
    "len(crimes[crimes['Premise Description'].isnull()])"
   ]
  },
  {
   "cell_type": "code",
   "execution_count": 59,
   "metadata": {},
   "outputs": [
    {
     "data": {
      "text/html": [
       "<div>\n",
       "<style scoped>\n",
       "    .dataframe tbody tr th:only-of-type {\n",
       "        vertical-align: middle;\n",
       "    }\n",
       "\n",
       "    .dataframe tbody tr th {\n",
       "        vertical-align: top;\n",
       "    }\n",
       "\n",
       "    .dataframe thead th {\n",
       "        text-align: right;\n",
       "    }\n",
       "</style>\n",
       "<table border=\"1\" class=\"dataframe\">\n",
       "  <thead>\n",
       "    <tr style=\"text-align: right;\">\n",
       "      <th></th>\n",
       "      <th>Date_Hour</th>\n",
       "      <th>Beat</th>\n",
       "      <th>BlockRange</th>\n",
       "      <th>StreetName</th>\n",
       "      <th>OffenseType</th>\n",
       "      <th>Premise</th>\n",
       "      <th>NumOffenses</th>\n",
       "      <th>Premise Description</th>\n",
       "    </tr>\n",
       "  </thead>\n",
       "  <tbody>\n",
       "    <tr>\n",
       "      <th>135899</th>\n",
       "      <td>2010-04-29 21:00:00</td>\n",
       "      <td>18F50</td>\n",
       "      <td>3200-3299</td>\n",
       "      <td>GESSNER</td>\n",
       "      <td>Theft</td>\n",
       "      <td>---</td>\n",
       "      <td>1.0</td>\n",
       "      <td>NaN</td>\n",
       "    </tr>\n",
       "    <tr>\n",
       "      <th>135900</th>\n",
       "      <td>2010-07-29 18:00:00</td>\n",
       "      <td>19G10</td>\n",
       "      <td>8800-8899</td>\n",
       "      <td>BOONE</td>\n",
       "      <td>Rape</td>\n",
       "      <td>---</td>\n",
       "      <td>1.0</td>\n",
       "      <td>NaN</td>\n",
       "    </tr>\n",
       "    <tr>\n",
       "      <th>135901</th>\n",
       "      <td>2010-08-18 18:00:00</td>\n",
       "      <td>20G10</td>\n",
       "      <td>10000-10099</td>\n",
       "      <td>WESTPARK</td>\n",
       "      <td>Aggravated Assault</td>\n",
       "      <td>---</td>\n",
       "      <td>1.0</td>\n",
       "      <td>NaN</td>\n",
       "    </tr>\n",
       "    <tr>\n",
       "      <th>135902</th>\n",
       "      <td>2010-08-23 08:00:00</td>\n",
       "      <td>16E30</td>\n",
       "      <td>5100-5199</td>\n",
       "      <td>KELLING</td>\n",
       "      <td>Aggravated Assault</td>\n",
       "      <td>---</td>\n",
       "      <td>1.0</td>\n",
       "      <td>NaN</td>\n",
       "    </tr>\n",
       "    <tr>\n",
       "      <th>135903</th>\n",
       "      <td>2007-02-05 08:00:00</td>\n",
       "      <td>1A30</td>\n",
       "      <td>2400-2499</td>\n",
       "      <td>RICHMOND</td>\n",
       "      <td>Auto Theft</td>\n",
       "      <td>---</td>\n",
       "      <td>1.0</td>\n",
       "      <td>NaN</td>\n",
       "    </tr>\n",
       "  </tbody>\n",
       "</table>\n",
       "</div>"
      ],
      "text/plain": [
       "                 Date_Hour   Beat   BlockRange StreetName         OffenseType  \\\n",
       "135899 2010-04-29 21:00:00  18F50    3200-3299    GESSNER               Theft   \n",
       "135900 2010-07-29 18:00:00  19G10    8800-8899      BOONE                Rape   \n",
       "135901 2010-08-18 18:00:00  20G10  10000-10099   WESTPARK  Aggravated Assault   \n",
       "135902 2010-08-23 08:00:00  16E30    5100-5199    KELLING  Aggravated Assault   \n",
       "135903 2007-02-05 08:00:00   1A30    2400-2499   RICHMOND          Auto Theft   \n",
       "\n",
       "       Premise  NumOffenses Premise Description  \n",
       "135899     ---          1.0                 NaN  \n",
       "135900     ---          1.0                 NaN  \n",
       "135901     ---          1.0                 NaN  \n",
       "135902     ---          1.0                 NaN  \n",
       "135903     ---          1.0                 NaN  "
      ]
     },
     "execution_count": 59,
     "metadata": {},
     "output_type": "execute_result"
    }
   ],
   "source": [
    "crimes[crimes['Premise Description'].isnull()].head()"
   ]
  },
  {
   "cell_type": "markdown",
   "metadata": {},
   "source": [
    "## Problem\n",
    "- find nan values on one col, and copy related col"
   ]
  },
  {
   "cell_type": "code",
   "execution_count": 60,
   "metadata": {},
   "outputs": [
    {
     "data": {
      "text/plain": [
       "array(['05W', '20R', '13R', '20A', '18A', '100', '05E', '20D', '18T',\n",
       "       '250', '040', '13A', '20P', '22M', '140', '070', '14V', '05V',\n",
       "       '18R', '18C', '18G', '18O', '18M', '18S', '13B', '05D', '22E',\n",
       "       '240', '18U', '13S', '13H', '210', '120', '080', '24A', '24J',\n",
       "       '24E', '03B', '05Q', '05B', '05Z', '18N', '05L', '05C', '24F',\n",
       "       '09D', '24P', '23S', '18P', '18H', '01K', '20G', '05P', '05F',\n",
       "       '02B', '09P', '05R', '05O', '22P', '11R', '170', '20M', '20L',\n",
       "       '05M', '18B', '09H', '20V', '22D', '18L', '05X', '13T', '20W',\n",
       "       '03S', '18D', '20C', '150', '18W', '22H', '20N', '22C', '05Y',\n",
       "       '20H', '25V', '05A', '190', '24G', '24V', '24C', '05G', '12V',\n",
       "       '09R', '21V', '060', '19V', '05H', '05U', '11S', '05N', '11V',\n",
       "       '24S', '11G', '160', '05T', '01T', '01A', '05S', '01B', '22U',\n",
       "       '24B', '---', '24T', '11L', '02C', '11P', '24M', '02S', '11F',\n",
       "       '09V', '22V', '01P', '25R', '11C', '04V', '23C', '01R', 'RES',\n",
       "       '13C', '02V', '15V'], dtype=object)"
      ]
     },
     "execution_count": 60,
     "metadata": {},
     "output_type": "execute_result"
    }
   ],
   "source": [
    "crimes.Premise.unique()"
   ]
  },
  {
   "cell_type": "code",
   "execution_count": 61,
   "metadata": {},
   "outputs": [
    {
     "data": {
      "text/plain": [
       "45"
      ]
     },
     "execution_count": 61,
     "metadata": {},
     "output_type": "execute_result"
    }
   ],
   "source": [
    "len(crimes[crimes['Premise'] == '---'])"
   ]
  },
  {
   "cell_type": "code",
   "execution_count": 62,
   "metadata": {},
   "outputs": [
    {
     "data": {
      "text/plain": [
       "0"
      ]
     },
     "execution_count": 62,
     "metadata": {},
     "output_type": "execute_result"
    }
   ],
   "source": [
    "len(crimes[crimes['Premise'] == 'N'])"
   ]
  },
  {
   "cell_type": "code",
   "execution_count": 63,
   "metadata": {},
   "outputs": [
    {
     "data": {
      "text/html": [
       "<div>\n",
       "<style scoped>\n",
       "    .dataframe tbody tr th:only-of-type {\n",
       "        vertical-align: middle;\n",
       "    }\n",
       "\n",
       "    .dataframe tbody tr th {\n",
       "        vertical-align: top;\n",
       "    }\n",
       "\n",
       "    .dataframe thead th {\n",
       "        text-align: right;\n",
       "    }\n",
       "</style>\n",
       "<table border=\"1\" class=\"dataframe\">\n",
       "  <thead>\n",
       "    <tr style=\"text-align: right;\">\n",
       "      <th></th>\n",
       "      <th>Date_Hour</th>\n",
       "      <th>Beat</th>\n",
       "      <th>BlockRange</th>\n",
       "      <th>StreetName</th>\n",
       "      <th>OffenseType</th>\n",
       "      <th>Premise</th>\n",
       "      <th>NumOffenses</th>\n",
       "      <th>Premise Description</th>\n",
       "    </tr>\n",
       "  </thead>\n",
       "  <tbody>\n",
       "  </tbody>\n",
       "</table>\n",
       "</div>"
      ],
      "text/plain": [
       "Empty DataFrame\n",
       "Columns: [Date_Hour, Beat, BlockRange, StreetName, OffenseType, Premise, NumOffenses, Premise Description]\n",
       "Index: []"
      ]
     },
     "execution_count": 63,
     "metadata": {},
     "output_type": "execute_result"
    }
   ],
   "source": [
    "crimes[crimes['Premise'] == 'N']"
   ]
  },
  {
   "cell_type": "code",
   "execution_count": null,
   "metadata": {},
   "outputs": [],
   "source": []
  },
  {
   "cell_type": "code",
   "execution_count": 64,
   "metadata": {},
   "outputs": [],
   "source": [
    "crimes.loc[crimes['Premise Description'].isnull(),'Premise Description'] = crimes['Premise']"
   ]
  },
  {
   "cell_type": "code",
   "execution_count": 65,
   "metadata": {},
   "outputs": [
    {
     "data": {
      "text/plain": [
       "0"
      ]
     },
     "execution_count": 65,
     "metadata": {},
     "output_type": "execute_result"
    }
   ],
   "source": [
    "len(crimes[crimes['Premise Description'].isnull()])"
   ]
  },
  {
   "cell_type": "code",
   "execution_count": 66,
   "metadata": {},
   "outputs": [
    {
     "data": {
      "text/html": [
       "<div>\n",
       "<style scoped>\n",
       "    .dataframe tbody tr th:only-of-type {\n",
       "        vertical-align: middle;\n",
       "    }\n",
       "\n",
       "    .dataframe tbody tr th {\n",
       "        vertical-align: top;\n",
       "    }\n",
       "\n",
       "    .dataframe thead th {\n",
       "        text-align: right;\n",
       "    }\n",
       "</style>\n",
       "<table border=\"1\" class=\"dataframe\">\n",
       "  <thead>\n",
       "    <tr style=\"text-align: right;\">\n",
       "      <th></th>\n",
       "      <th>Date_Hour</th>\n",
       "      <th>Beat</th>\n",
       "      <th>BlockRange</th>\n",
       "      <th>StreetName</th>\n",
       "      <th>OffenseType</th>\n",
       "      <th>Premise</th>\n",
       "      <th>NumOffenses</th>\n",
       "      <th>Premise Description</th>\n",
       "    </tr>\n",
       "  </thead>\n",
       "  <tbody>\n",
       "  </tbody>\n",
       "</table>\n",
       "</div>"
      ],
      "text/plain": [
       "Empty DataFrame\n",
       "Columns: [Date_Hour, Beat, BlockRange, StreetName, OffenseType, Premise, NumOffenses, Premise Description]\n",
       "Index: []"
      ]
     },
     "execution_count": 66,
     "metadata": {},
     "output_type": "execute_result"
    }
   ],
   "source": [
    "\n",
    "crimes[crimes['Premise Description'].isnull()]"
   ]
  },
  {
   "cell_type": "code",
   "execution_count": null,
   "metadata": {},
   "outputs": [],
   "source": []
  },
  {
   "cell_type": "markdown",
   "metadata": {},
   "source": [
    "## Visualize data"
   ]
  },
  {
   "cell_type": "code",
   "execution_count": 67,
   "metadata": {},
   "outputs": [
    {
     "data": {
      "image/png": "[encoded data removed]",
      "text/plain": [
       "<Figure size 432x288 with 1 Axes>"
      ]
     },
     "metadata": {},
     "output_type": "display_data"
    }
   ],
   "source": [
    "sns.heatmap(crimes.isnull(),yticklabels=False,cbar=False,cmap='viridis')\n",
    "plt.title('Nulls display')\n",
    "plt.show()"
   ]
  },
  {
   "cell_type": "markdown",
   "metadata": {},
   "source": [
    "## Display any null values"
   ]
  },
  {
   "cell_type": "code",
   "execution_count": 68,
   "metadata": {},
   "outputs": [
    {
     "data": {
      "text/plain": [
       "1"
      ]
     },
     "execution_count": 68,
     "metadata": {},
     "output_type": "execute_result"
    }
   ],
   "source": [
    "len(crimes[crimes.isnull().any(axis=1)])"
   ]
  },
  {
   "cell_type": "code",
   "execution_count": 69,
   "metadata": {},
   "outputs": [
    {
     "data": {
      "text/html": [
       "<div>\n",
       "<style scoped>\n",
       "    .dataframe tbody tr th:only-of-type {\n",
       "        vertical-align: middle;\n",
       "    }\n",
       "\n",
       "    .dataframe tbody tr th {\n",
       "        vertical-align: top;\n",
       "    }\n",
       "\n",
       "    .dataframe thead th {\n",
       "        text-align: right;\n",
       "    }\n",
       "</style>\n",
       "<table border=\"1\" class=\"dataframe\">\n",
       "  <thead>\n",
       "    <tr style=\"text-align: right;\">\n",
       "      <th></th>\n",
       "      <th>Date_Hour</th>\n",
       "      <th>Beat</th>\n",
       "      <th>BlockRange</th>\n",
       "      <th>StreetName</th>\n",
       "      <th>OffenseType</th>\n",
       "      <th>Premise</th>\n",
       "      <th>NumOffenses</th>\n",
       "      <th>Premise Description</th>\n",
       "    </tr>\n",
       "  </thead>\n",
       "  <tbody>\n",
       "    <tr>\n",
       "      <th>136262</th>\n",
       "      <td>NaT</td>\n",
       "      <td>NaN</td>\n",
       "      <td>NaN</td>\n",
       "      <td>NaN</td>\n",
       "      <td>NaN</td>\n",
       "      <td>15V</td>\n",
       "      <td>NaN</td>\n",
       "      <td>VACANT JAIL/PRISON</td>\n",
       "    </tr>\n",
       "  </tbody>\n",
       "</table>\n",
       "</div>"
      ],
      "text/plain": [
       "       Date_Hour Beat BlockRange StreetName OffenseType Premise  NumOffenses  \\\n",
       "136262       NaT  NaN        NaN        NaN         NaN     15V          NaN   \n",
       "\n",
       "       Premise Description  \n",
       "136262  VACANT JAIL/PRISON  "
      ]
     },
     "execution_count": 69,
     "metadata": {},
     "output_type": "execute_result"
    }
   ],
   "source": [
    "crimes[crimes.isnull().any(axis=1)].tail()"
   ]
  },
  {
   "cell_type": "markdown",
   "metadata": {},
   "source": [
    "## drop rows with 2 or 3 or more NaN"
   ]
  },
  {
   "cell_type": "code",
   "execution_count": 70,
   "metadata": {},
   "outputs": [],
   "source": [
    "crimes = crimes.dropna(thresh=3)"
   ]
  },
  {
   "cell_type": "code",
   "execution_count": 71,
   "metadata": {},
   "outputs": [
    {
     "data": {
      "text/plain": [
       "0"
      ]
     },
     "execution_count": 71,
     "metadata": {},
     "output_type": "execute_result"
    }
   ],
   "source": [
    "len(crimes[crimes.isnull().any(axis=1)])"
   ]
  },
  {
   "cell_type": "code",
   "execution_count": 72,
   "metadata": {},
   "outputs": [
    {
     "data": {
      "text/html": [
       "<div>\n",
       "<style scoped>\n",
       "    .dataframe tbody tr th:only-of-type {\n",
       "        vertical-align: middle;\n",
       "    }\n",
       "\n",
       "    .dataframe tbody tr th {\n",
       "        vertical-align: top;\n",
       "    }\n",
       "\n",
       "    .dataframe thead th {\n",
       "        text-align: right;\n",
       "    }\n",
       "</style>\n",
       "<table border=\"1\" class=\"dataframe\">\n",
       "  <thead>\n",
       "    <tr style=\"text-align: right;\">\n",
       "      <th></th>\n",
       "      <th>Date_Hour</th>\n",
       "      <th>Beat</th>\n",
       "      <th>BlockRange</th>\n",
       "      <th>StreetName</th>\n",
       "      <th>OffenseType</th>\n",
       "      <th>Premise</th>\n",
       "      <th>NumOffenses</th>\n",
       "      <th>Premise Description</th>\n",
       "    </tr>\n",
       "  </thead>\n",
       "  <tbody>\n",
       "  </tbody>\n",
       "</table>\n",
       "</div>"
      ],
      "text/plain": [
       "Empty DataFrame\n",
       "Columns: [Date_Hour, Beat, BlockRange, StreetName, OffenseType, Premise, NumOffenses, Premise Description]\n",
       "Index: []"
      ]
     },
     "execution_count": 72,
     "metadata": {},
     "output_type": "execute_result"
    }
   ],
   "source": [
    "crimes[crimes.isnull().any(axis=1)].tail()"
   ]
  },
  {
   "cell_type": "markdown",
   "metadata": {},
   "source": [
    "## Inspect each column"
   ]
  },
  {
   "cell_type": "code",
   "execution_count": 73,
   "metadata": {},
   "outputs": [
    {
     "data": {
      "text/plain": [
       "Date_Hour              datetime64[ns]\n",
       "Beat                           object\n",
       "BlockRange                     object\n",
       "StreetName                     object\n",
       "OffenseType                    object\n",
       "Premise                        object\n",
       "NumOffenses                   float64\n",
       "Premise Description            object\n",
       "dtype: object"
      ]
     },
     "execution_count": 73,
     "metadata": {},
     "output_type": "execute_result"
    }
   ],
   "source": [
    "crimes.dtypes"
   ]
  },
  {
   "cell_type": "markdown",
   "metadata": {},
   "source": [
    "## Beat"
   ]
  },
  {
   "cell_type": "code",
   "execution_count": 74,
   "metadata": {},
   "outputs": [
    {
     "data": {
      "text/plain": [
       "122"
      ]
     },
     "execution_count": 74,
     "metadata": {},
     "output_type": "execute_result"
    }
   ],
   "source": [
    "len(crimes.Beat.value_counts())"
   ]
  },
  {
   "cell_type": "code",
   "execution_count": 75,
   "metadata": {},
   "outputs": [
    {
     "data": {
      "text/plain": [
       "122"
      ]
     },
     "execution_count": 75,
     "metadata": {},
     "output_type": "execute_result"
    }
   ],
   "source": [
    "len(crimes.Beat.value_counts(dropna=False))"
   ]
  },
  {
   "cell_type": "code",
   "execution_count": 76,
   "metadata": {},
   "outputs": [
    {
     "data": {
      "text/plain": [
       "array(['13D20', '14D20', '6B40', '13D10', '3B10', '10H10', '3B30',\n",
       "       '15E40', '3B50', '9C20', '10H70', '5F30', '9C10', '3B40', '4F30',\n",
       "       '14D10', '5F20', '13D30', '7C10', '6B30', '10H30', '14D50', '6B20',\n",
       "       '18F50', '2A60', '11H10', '19G50', '9C30', '7C20', '16E10',\n",
       "       '11H50', '10H20', '2A40', '20G10', '6B60', '11H20', '14D30',\n",
       "       '18F30', '20G30', '8C40', '13D40', '2A30', '18F10', '15E30',\n",
       "       '16E30', '2A20', '7C50', '7C30', '17E20', '2A10', '17E30', '16E20',\n",
       "       '15E20', '1A50', '5F10', '14D40', '4F20', '2A50', '19G40', '5F40',\n",
       "       '18F60', '20G40', '17E10', '10H50', '20G50', '8C20', '20G70',\n",
       "       '20G60', '7C40', '8C10', '6B10', '4F10', '18F40', '15E10', '12D40',\n",
       "       '11H40', '19G30', '16E40', 'UNK', '9C40', '12D10', '8C60', '10H80',\n",
       "       '8C50', '18F20', '17E40', '1A20', '24C10', '8C30', '11H30',\n",
       "       '24C40', '12D50', '10H60', '12D20', '24C30', '12D70', '20G20',\n",
       "       '20G80', '19G10', '19G20', '10H40', '6B50', '12D60', '1A30',\n",
       "       '23J40', '24C20', '12D30', '1A40', '24C50', '1A10', '21I50',\n",
       "       '21I20', '21I30', '21I10', '23J50', '21I40', '21I60', '23J10',\n",
       "       '23J30', '21I70', '23J20', '7C60'], dtype=object)"
      ]
     },
     "execution_count": 76,
     "metadata": {},
     "output_type": "execute_result"
    }
   ],
   "source": [
    "crimes.Beat.unique()"
   ]
  },
  {
   "cell_type": "code",
   "execution_count": 77,
   "metadata": {},
   "outputs": [],
   "source": [
    "# replace extra ' with empty space\n",
    "crimes['Beat'] = crimes.Beat.str.replace(\"'\", \" \")"
   ]
  },
  {
   "cell_type": "code",
   "execution_count": null,
   "metadata": {},
   "outputs": [],
   "source": []
  },
  {
   "cell_type": "code",
   "execution_count": 78,
   "metadata": {},
   "outputs": [
    {
     "data": {
      "text/plain": [
       "122"
      ]
     },
     "execution_count": 78,
     "metadata": {},
     "output_type": "execute_result"
    }
   ],
   "source": [
    "len(crimes.Beat.value_counts(dropna=False))"
   ]
  },
  {
   "cell_type": "code",
   "execution_count": null,
   "metadata": {},
   "outputs": [],
   "source": []
  },
  {
   "cell_type": "code",
   "execution_count": 79,
   "metadata": {},
   "outputs": [],
   "source": [
    "# strip empty spaces\n",
    "crimes.Beat = crimes.Beat.str.strip()"
   ]
  },
  {
   "cell_type": "code",
   "execution_count": 80,
   "metadata": {},
   "outputs": [
    {
     "data": {
      "text/plain": [
       "122"
      ]
     },
     "execution_count": 80,
     "metadata": {},
     "output_type": "execute_result"
    }
   ],
   "source": [
    "len(crimes.Beat.value_counts(dropna=False))  # get the total"
   ]
  },
  {
   "cell_type": "code",
   "execution_count": 81,
   "metadata": {},
   "outputs": [
    {
     "data": {
      "text/plain": [
       "array(['13D20', '14D20', '6B40', '13D10', '3B10', '10H10', '3B30',\n",
       "       '15E40', '3B50', '9C20', '10H70', '5F30', '9C10', '3B40', '4F30',\n",
       "       '14D10', '5F20', '13D30', '7C10', '6B30', '10H30', '14D50', '6B20',\n",
       "       '18F50', '2A60', '11H10', '19G50', '9C30', '7C20', '16E10',\n",
       "       '11H50', '10H20', '2A40', '20G10', '6B60', '11H20', '14D30',\n",
       "       '18F30', '20G30', '8C40', '13D40', '2A30', '18F10', '15E30',\n",
       "       '16E30', '2A20', '7C50', '7C30', '17E20', '2A10', '17E30', '16E20',\n",
       "       '15E20', '1A50', '5F10', '14D40', '4F20', '2A50', '19G40', '5F40',\n",
       "       '18F60', '20G40', '17E10', '10H50', '20G50', '8C20', '20G70',\n",
       "       '20G60', '7C40', '8C10', '6B10', '4F10', '18F40', '15E10', '12D40',\n",
       "       '11H40', '19G30', '16E40', 'UNK', '9C40', '12D10', '8C60', '10H80',\n",
       "       '8C50', '18F20', '17E40', '1A20', '24C10', '8C30', '11H30',\n",
       "       '24C40', '12D50', '10H60', '12D20', '24C30', '12D70', '20G20',\n",
       "       '20G80', '19G10', '19G20', '10H40', '6B50', '12D60', '1A30',\n",
       "       '23J40', '24C20', '12D30', '1A40', '24C50', '1A10', '21I50',\n",
       "       '21I20', '21I30', '21I10', '23J50', '21I40', '21I60', '23J10',\n",
       "       '23J30', '21I70', '23J20', '7C60'], dtype=object)"
      ]
     },
     "execution_count": 81,
     "metadata": {},
     "output_type": "execute_result"
    }
   ],
   "source": [
    "crimes.Beat.unique()"
   ]
  },
  {
   "cell_type": "code",
   "execution_count": 82,
   "metadata": {},
   "outputs": [
    {
     "data": {
      "text/plain": [
       "19G10    3010\n",
       "12D10    2889\n",
       "6B60     2732\n",
       "3B10     2702\n",
       "1A20     2612\n",
       "Name: Beat, dtype: int64"
      ]
     },
     "execution_count": 82,
     "metadata": {},
     "output_type": "execute_result"
    }
   ],
   "source": [
    "crimes.Beat.value_counts(dropna=False).head()"
   ]
  },
  {
   "cell_type": "markdown",
   "metadata": {},
   "source": [
    "## BlockRange"
   ]
  },
  {
   "cell_type": "code",
   "execution_count": 83,
   "metadata": {},
   "outputs": [
    {
     "data": {
      "text/plain": [
       "249"
      ]
     },
     "execution_count": 83,
     "metadata": {},
     "output_type": "execute_result"
    }
   ],
   "source": [
    "len(crimes.BlockRange.value_counts(dropna=False))"
   ]
  },
  {
   "cell_type": "code",
   "execution_count": 84,
   "metadata": {},
   "outputs": [
    {
     "data": {
      "text/plain": [
       "900-999      2079\n",
       "7900-7999    1741\n",
       "100-199      1734\n",
       "800-899      1679\n",
       "9400-9499    1669\n",
       "Name: BlockRange, dtype: int64"
      ]
     },
     "execution_count": 84,
     "metadata": {},
     "output_type": "execute_result"
    }
   ],
   "source": [
    "crimes.BlockRange.value_counts(dropna=False).head()"
   ]
  },
  {
   "cell_type": "code",
   "execution_count": null,
   "metadata": {},
   "outputs": [],
   "source": []
  },
  {
   "cell_type": "code",
   "execution_count": 85,
   "metadata": {},
   "outputs": [],
   "source": [
    "# strip\n",
    "crimes.BlockRange = crimes.BlockRange.str.strip()"
   ]
  },
  {
   "cell_type": "code",
   "execution_count": 86,
   "metadata": {},
   "outputs": [
    {
     "data": {
      "text/plain": [
       "249"
      ]
     },
     "execution_count": 86,
     "metadata": {},
     "output_type": "execute_result"
    }
   ],
   "source": [
    "len(crimes.BlockRange.value_counts(dropna=False))"
   ]
  },
  {
   "cell_type": "markdown",
   "metadata": {},
   "source": [
    "## StreetName"
   ]
  },
  {
   "cell_type": "code",
   "execution_count": 87,
   "metadata": {},
   "outputs": [
    {
     "name": "stdout",
     "output_type": "stream",
     "text": [
      "before:7832\n"
     ]
    }
   ],
   "source": [
    "print('before:{}'.format(len(crimes.StreetName.value_counts(dropna=False))))"
   ]
  },
  {
   "cell_type": "code",
   "execution_count": 88,
   "metadata": {},
   "outputs": [],
   "source": [
    "crimes.StreetName = crimes.StreetName.str.strip()"
   ]
  },
  {
   "cell_type": "code",
   "execution_count": 89,
   "metadata": {},
   "outputs": [
    {
     "name": "stdout",
     "output_type": "stream",
     "text": [
      "after:7832\n"
     ]
    }
   ],
   "source": [
    "print('after:{}'.format(len(crimes.StreetName.value_counts(dropna=False))))"
   ]
  },
  {
   "cell_type": "code",
   "execution_count": 90,
   "metadata": {},
   "outputs": [
    {
     "name": "stdout",
     "output_type": "stream",
     "text": [
      "WESTHEIMER    3716\n",
      "GESSNER       2226\n",
      "GULF          1931\n",
      "RICHMOND      1683\n",
      "SOUTHWEST     1515\n",
      "Name: StreetName, dtype: int64\n"
     ]
    }
   ],
   "source": [
    "print(crimes.StreetName.value_counts(dropna=False).head())"
   ]
  },
  {
   "cell_type": "markdown",
   "metadata": {},
   "source": [
    "## OffenseType"
   ]
  },
  {
   "cell_type": "code",
   "execution_count": 91,
   "metadata": {},
   "outputs": [
    {
     "name": "stdout",
     "output_type": "stream",
     "text": [
      "before:7\n"
     ]
    }
   ],
   "source": [
    "print('before:{}'.format(len(crimes.OffenseType.value_counts(dropna=False))))"
   ]
  },
  {
   "cell_type": "code",
   "execution_count": 92,
   "metadata": {},
   "outputs": [],
   "source": [
    "crimes.OffenseType = crimes.OffenseType.str.strip()"
   ]
  },
  {
   "cell_type": "code",
   "execution_count": 93,
   "metadata": {},
   "outputs": [
    {
     "name": "stdout",
     "output_type": "stream",
     "text": [
      "after:7\n"
     ]
    }
   ],
   "source": [
    "print('after:{}'.format(len(crimes.OffenseType.value_counts(dropna=False))))"
   ]
  },
  {
   "cell_type": "code",
   "execution_count": 94,
   "metadata": {},
   "outputs": [
    {
     "name": "stdout",
     "output_type": "stream",
     "text": [
      "Theft                 74581\n",
      "Burglary              27924\n",
      "Auto Theft            12424\n",
      "Aggravated Assault    10915\n",
      "Robbery                9449\n",
      "Rape                    709\n",
      "Murder                  260\n",
      "Name: OffenseType, dtype: int64\n"
     ]
    }
   ],
   "source": [
    "print(crimes.OffenseType.value_counts(dropna=False))"
   ]
  },
  {
   "cell_type": "markdown",
   "metadata": {},
   "source": [
    "## Premise"
   ]
  },
  {
   "cell_type": "code",
   "execution_count": 95,
   "metadata": {},
   "outputs": [
    {
     "name": "stdout",
     "output_type": "stream",
     "text": [
      "before:128\n"
     ]
    }
   ],
   "source": [
    "print('before:{}'.format(len(crimes.Premise.value_counts(dropna=False))))"
   ]
  },
  {
   "cell_type": "code",
   "execution_count": 96,
   "metadata": {},
   "outputs": [],
   "source": [
    "crimes.Premise = crimes.Premise.str.strip()"
   ]
  },
  {
   "cell_type": "code",
   "execution_count": 97,
   "metadata": {},
   "outputs": [
    {
     "name": "stdout",
     "output_type": "stream",
     "text": [
      "after:128\n"
     ]
    }
   ],
   "source": [
    "print('after:{}'.format(len(crimes.Premise.value_counts(dropna=False))))"
   ]
  },
  {
   "cell_type": "code",
   "execution_count": 98,
   "metadata": {},
   "outputs": [
    {
     "data": {
      "text/plain": [
       "20A    17848\n",
       "20R    17426\n",
       "18A    15614\n",
       "13R    10029\n",
       "20D     9793\n",
       "Name: Premise, dtype: int64"
      ]
     },
     "execution_count": 98,
     "metadata": {},
     "output_type": "execute_result"
    }
   ],
   "source": [
    "crimes.Premise.value_counts(dropna=False).head()"
   ]
  },
  {
   "cell_type": "markdown",
   "metadata": {},
   "source": [
    "## Premise Description"
   ]
  },
  {
   "cell_type": "code",
   "execution_count": 99,
   "metadata": {},
   "outputs": [
    {
     "name": "stdout",
     "output_type": "stream",
     "text": [
      "before:128\n"
     ]
    }
   ],
   "source": [
    "print('before:{}'.format(len(crimes['Premise Description'].value_counts(dropna=False))))"
   ]
  },
  {
   "cell_type": "code",
   "execution_count": 100,
   "metadata": {},
   "outputs": [],
   "source": [
    "#crimes.Beat = crimes.Beat.str.replace(r\"\\'(.+?)\\'\", ' ')\n",
    "crimes['Premise Description'] = crimes['Premise Description'].str.strip()"
   ]
  },
  {
   "cell_type": "code",
   "execution_count": 101,
   "metadata": {},
   "outputs": [
    {
     "name": "stdout",
     "output_type": "stream",
     "text": [
      "after:128\n"
     ]
    }
   ],
   "source": [
    "print('after:{}'.format(len(crimes['Premise Description'].value_counts(dropna=False))))"
   ]
  },
  {
   "cell_type": "code",
   "execution_count": 102,
   "metadata": {},
   "outputs": [
    {
     "name": "stdout",
     "output_type": "stream",
     "text": [
      "APARTMENT                17848\n",
      "RESIDENCE/HOUSE          17426\n",
      "APARTMENT PARKING LOT    15614\n",
      "ROAD/STREET/SIDEWALK     10029\n",
      "DRIVEWAY                  9793\n",
      "Name: Premise Description, dtype: int64\n"
     ]
    }
   ],
   "source": [
    "print(crimes['Premise Description'].value_counts(dropna=False).head())"
   ]
  },
  {
   "cell_type": "code",
   "execution_count": 108,
   "metadata": {},
   "outputs": [
    {
     "data": {
      "text/html": [
       "<div>\n",
       "<style scoped>\n",
       "    .dataframe tbody tr th:only-of-type {\n",
       "        vertical-align: middle;\n",
       "    }\n",
       "\n",
       "    .dataframe tbody tr th {\n",
       "        vertical-align: top;\n",
       "    }\n",
       "\n",
       "    .dataframe thead th {\n",
       "        text-align: right;\n",
       "    }\n",
       "</style>\n",
       "<table border=\"1\" class=\"dataframe\">\n",
       "  <thead>\n",
       "    <tr style=\"text-align: right;\">\n",
       "      <th></th>\n",
       "      <th>Beat</th>\n",
       "      <th>BlockRange</th>\n",
       "      <th>StreetName</th>\n",
       "      <th>OffenseType</th>\n",
       "      <th>Premise</th>\n",
       "      <th>NumOffenses</th>\n",
       "      <th>Premise Description</th>\n",
       "      <th>Hour</th>\n",
       "      <th>day</th>\n",
       "      <th>weekday</th>\n",
       "      <th>month</th>\n",
       "      <th>year</th>\n",
       "    </tr>\n",
       "    <tr>\n",
       "      <th>Date_Hour</th>\n",
       "      <th></th>\n",
       "      <th></th>\n",
       "      <th></th>\n",
       "      <th></th>\n",
       "      <th></th>\n",
       "      <th></th>\n",
       "      <th></th>\n",
       "      <th></th>\n",
       "      <th></th>\n",
       "      <th></th>\n",
       "      <th></th>\n",
       "      <th></th>\n",
       "    </tr>\n",
       "  </thead>\n",
       "  <tbody>\n",
       "    <tr>\n",
       "      <th>1959-06-06 14:00:00</th>\n",
       "      <td>18F20</td>\n",
       "      <td>5100-5199</td>\n",
       "      <td>RICHMOND</td>\n",
       "      <td>Theft</td>\n",
       "      <td>080</td>\n",
       "      <td>1.0</td>\n",
       "      <td>DEPARTMENT/DISCOUNT STORE</td>\n",
       "      <td>14</td>\n",
       "      <td>06</td>\n",
       "      <td>Saturday</td>\n",
       "      <td>Jun</td>\n",
       "      <td>1959</td>\n",
       "    </tr>\n",
       "    <tr>\n",
       "      <th>1966-01-01 00:00:00</th>\n",
       "      <td>10H50</td>\n",
       "      <td>3300-3399</td>\n",
       "      <td>ALABAMA</td>\n",
       "      <td>Rape</td>\n",
       "      <td>20A</td>\n",
       "      <td>1.0</td>\n",
       "      <td>APARTMENT</td>\n",
       "      <td>00</td>\n",
       "      <td>01</td>\n",
       "      <td>Saturday</td>\n",
       "      <td>Jan</td>\n",
       "      <td>1966</td>\n",
       "    </tr>\n",
       "    <tr>\n",
       "      <th>1966-07-18 13:00:00</th>\n",
       "      <td>13D40</td>\n",
       "      <td>10200-10299</td>\n",
       "      <td>TELEPHONE</td>\n",
       "      <td>Auto Theft</td>\n",
       "      <td>18A</td>\n",
       "      <td>1.0</td>\n",
       "      <td>APARTMENT PARKING LOT</td>\n",
       "      <td>13</td>\n",
       "      <td>18</td>\n",
       "      <td>Monday</td>\n",
       "      <td>Jul</td>\n",
       "      <td>1966</td>\n",
       "    </tr>\n",
       "    <tr>\n",
       "      <th>1969-07-22 00:00:00</th>\n",
       "      <td>2A30</td>\n",
       "      <td>1500-1599</td>\n",
       "      <td>NICHOLSON</td>\n",
       "      <td>Theft</td>\n",
       "      <td>20R</td>\n",
       "      <td>1.0</td>\n",
       "      <td>RESIDENCE/HOUSE</td>\n",
       "      <td>00</td>\n",
       "      <td>22</td>\n",
       "      <td>Tuesday</td>\n",
       "      <td>Jul</td>\n",
       "      <td>1969</td>\n",
       "    </tr>\n",
       "    <tr>\n",
       "      <th>1969-11-26 15:00:00</th>\n",
       "      <td>3B50</td>\n",
       "      <td>7100-7199</td>\n",
       "      <td>IRVINGTON</td>\n",
       "      <td>Theft</td>\n",
       "      <td>13R</td>\n",
       "      <td>1.0</td>\n",
       "      <td>ROAD/STREET/SIDEWALK</td>\n",
       "      <td>15</td>\n",
       "      <td>26</td>\n",
       "      <td>Wednesday</td>\n",
       "      <td>Nov</td>\n",
       "      <td>1969</td>\n",
       "    </tr>\n",
       "    <tr>\n",
       "      <th>1974-02-12 08:00:00</th>\n",
       "      <td>18F40</td>\n",
       "      <td>7900-7999</td>\n",
       "      <td>WESTHEIMER</td>\n",
       "      <td>Burglary</td>\n",
       "      <td>---</td>\n",
       "      <td>1.0</td>\n",
       "      <td>---</td>\n",
       "      <td>08</td>\n",
       "      <td>12</td>\n",
       "      <td>Tuesday</td>\n",
       "      <td>Feb</td>\n",
       "      <td>1974</td>\n",
       "    </tr>\n",
       "    <tr>\n",
       "      <th>1974-04-27 11:00:00</th>\n",
       "      <td>14D30</td>\n",
       "      <td>5900-5999</td>\n",
       "      <td>WESTOVER</td>\n",
       "      <td>Burglary</td>\n",
       "      <td>20R</td>\n",
       "      <td>1.0</td>\n",
       "      <td>RESIDENCE/HOUSE</td>\n",
       "      <td>11</td>\n",
       "      <td>27</td>\n",
       "      <td>Saturday</td>\n",
       "      <td>Apr</td>\n",
       "      <td>1974</td>\n",
       "    </tr>\n",
       "    <tr>\n",
       "      <th>1977-02-01 18:00:00</th>\n",
       "      <td>12D70</td>\n",
       "      <td>500-599</td>\n",
       "      <td>BAYBROOK MALL</td>\n",
       "      <td>Theft</td>\n",
       "      <td>18U</td>\n",
       "      <td>1.0</td>\n",
       "      <td>MALL PARKING LOT</td>\n",
       "      <td>18</td>\n",
       "      <td>01</td>\n",
       "      <td>Tuesday</td>\n",
       "      <td>Feb</td>\n",
       "      <td>1977</td>\n",
       "    </tr>\n",
       "    <tr>\n",
       "      <th>1980-05-14 00:00:00</th>\n",
       "      <td>23J50</td>\n",
       "      <td>7800-7899</td>\n",
       "      <td>AIRPORT</td>\n",
       "      <td>Theft</td>\n",
       "      <td>01A</td>\n",
       "      <td>1.0</td>\n",
       "      <td>AIRPORT TERMINAL</td>\n",
       "      <td>00</td>\n",
       "      <td>14</td>\n",
       "      <td>Wednesday</td>\n",
       "      <td>May</td>\n",
       "      <td>1980</td>\n",
       "    </tr>\n",
       "    <tr>\n",
       "      <th>1980-10-01 09:00:00</th>\n",
       "      <td>17E10</td>\n",
       "      <td>6500-6599</td>\n",
       "      <td>HILLCROFT</td>\n",
       "      <td>Burglary</td>\n",
       "      <td>20A</td>\n",
       "      <td>1.0</td>\n",
       "      <td>APARTMENT</td>\n",
       "      <td>09</td>\n",
       "      <td>01</td>\n",
       "      <td>Wednesday</td>\n",
       "      <td>Oct</td>\n",
       "      <td>1980</td>\n",
       "    </tr>\n",
       "    <tr>\n",
       "      <th>1983-07-01 07:00:00</th>\n",
       "      <td>3B10</td>\n",
       "      <td>5000-5099</td>\n",
       "      <td>LIDO</td>\n",
       "      <td>Auto Theft</td>\n",
       "      <td>20D</td>\n",
       "      <td>1.0</td>\n",
       "      <td>DRIVEWAY</td>\n",
       "      <td>07</td>\n",
       "      <td>01</td>\n",
       "      <td>Friday</td>\n",
       "      <td>Jul</td>\n",
       "      <td>1983</td>\n",
       "    </tr>\n",
       "    <tr>\n",
       "      <th>1983-07-01 08:00:00</th>\n",
       "      <td>3B10</td>\n",
       "      <td>5000-5099</td>\n",
       "      <td>LIDO</td>\n",
       "      <td>Auto Theft</td>\n",
       "      <td>20D</td>\n",
       "      <td>1.0</td>\n",
       "      <td>DRIVEWAY</td>\n",
       "      <td>08</td>\n",
       "      <td>01</td>\n",
       "      <td>Friday</td>\n",
       "      <td>Jul</td>\n",
       "      <td>1983</td>\n",
       "    </tr>\n",
       "    <tr>\n",
       "      <th>1985-01-01 00:00:00</th>\n",
       "      <td>20G10</td>\n",
       "      <td>5900-5999</td>\n",
       "      <td>RANCHESTER</td>\n",
       "      <td>Robbery</td>\n",
       "      <td>18A</td>\n",
       "      <td>1.0</td>\n",
       "      <td>APARTMENT PARKING LOT</td>\n",
       "      <td>00</td>\n",
       "      <td>01</td>\n",
       "      <td>Tuesday</td>\n",
       "      <td>Jan</td>\n",
       "      <td>1985</td>\n",
       "    </tr>\n",
       "    <tr>\n",
       "      <th>1990-01-01 00:00:00</th>\n",
       "      <td>14D40</td>\n",
       "      <td>11700-11799</td>\n",
       "      <td>SEGREST</td>\n",
       "      <td>Rape</td>\n",
       "      <td>20R</td>\n",
       "      <td>1.0</td>\n",
       "      <td>RESIDENCE/HOUSE</td>\n",
       "      <td>00</td>\n",
       "      <td>01</td>\n",
       "      <td>Monday</td>\n",
       "      <td>Jan</td>\n",
       "      <td>1990</td>\n",
       "    </tr>\n",
       "    <tr>\n",
       "      <th>1990-09-10 20:00:00</th>\n",
       "      <td>10H60</td>\n",
       "      <td>3700-3799</td>\n",
       "      <td>WHEELER</td>\n",
       "      <td>Theft</td>\n",
       "      <td>20R</td>\n",
       "      <td>1.0</td>\n",
       "      <td>RESIDENCE/HOUSE</td>\n",
       "      <td>20</td>\n",
       "      <td>10</td>\n",
       "      <td>Monday</td>\n",
       "      <td>Sep</td>\n",
       "      <td>1990</td>\n",
       "    </tr>\n",
       "    <tr>\n",
       "      <th>1991-01-01 08:00:00</th>\n",
       "      <td>3B40</td>\n",
       "      <td>3400-3499</td>\n",
       "      <td>AIRLINE</td>\n",
       "      <td>Rape</td>\n",
       "      <td>20R</td>\n",
       "      <td>1.0</td>\n",
       "      <td>RESIDENCE/HOUSE</td>\n",
       "      <td>08</td>\n",
       "      <td>01</td>\n",
       "      <td>Tuesday</td>\n",
       "      <td>Jan</td>\n",
       "      <td>1991</td>\n",
       "    </tr>\n",
       "    <tr>\n",
       "      <th>1995-01-01 12:00:00</th>\n",
       "      <td>14D40</td>\n",
       "      <td>11900-11999</td>\n",
       "      <td>MARTIN LUTHER KING</td>\n",
       "      <td>Aggravated Assault</td>\n",
       "      <td>20R</td>\n",
       "      <td>1.0</td>\n",
       "      <td>RESIDENCE/HOUSE</td>\n",
       "      <td>12</td>\n",
       "      <td>01</td>\n",
       "      <td>Sunday</td>\n",
       "      <td>Jan</td>\n",
       "      <td>1995</td>\n",
       "    </tr>\n",
       "    <tr>\n",
       "      <th>1995-08-07 22:00:00</th>\n",
       "      <td>9C40</td>\n",
       "      <td>800-899</td>\n",
       "      <td>UVALDE</td>\n",
       "      <td>Murder</td>\n",
       "      <td>070</td>\n",
       "      <td>1.0</td>\n",
       "      <td>CONVENIENCE STORE</td>\n",
       "      <td>22</td>\n",
       "      <td>07</td>\n",
       "      <td>Monday</td>\n",
       "      <td>Aug</td>\n",
       "      <td>1995</td>\n",
       "    </tr>\n",
       "    <tr>\n",
       "      <th>1995-11-29 00:00:00</th>\n",
       "      <td>16E40</td>\n",
       "      <td>15800-15899</td>\n",
       "      <td>RIDGECROFT</td>\n",
       "      <td>Rape</td>\n",
       "      <td>20R</td>\n",
       "      <td>1.0</td>\n",
       "      <td>RESIDENCE/HOUSE</td>\n",
       "      <td>00</td>\n",
       "      <td>29</td>\n",
       "      <td>Wednesday</td>\n",
       "      <td>Nov</td>\n",
       "      <td>1995</td>\n",
       "    </tr>\n",
       "    <tr>\n",
       "      <th>1996-06-15 00:00:00</th>\n",
       "      <td>17E40</td>\n",
       "      <td>6100-6199</td>\n",
       "      <td>WILLOWBEND</td>\n",
       "      <td>Rape</td>\n",
       "      <td>20R</td>\n",
       "      <td>1.0</td>\n",
       "      <td>RESIDENCE/HOUSE</td>\n",
       "      <td>00</td>\n",
       "      <td>15</td>\n",
       "      <td>Saturday</td>\n",
       "      <td>Jun</td>\n",
       "      <td>1996</td>\n",
       "    </tr>\n",
       "    <tr>\n",
       "      <th>1998-01-01 08:00:00</th>\n",
       "      <td>2A40</td>\n",
       "      <td>1400-1499</td>\n",
       "      <td>HOLLY</td>\n",
       "      <td>Theft</td>\n",
       "      <td>20R</td>\n",
       "      <td>1.0</td>\n",
       "      <td>RESIDENCE/HOUSE</td>\n",
       "      <td>08</td>\n",
       "      <td>01</td>\n",
       "      <td>Thursday</td>\n",
       "      <td>Jan</td>\n",
       "      <td>1998</td>\n",
       "    </tr>\n",
       "    <tr>\n",
       "      <th>1999-04-03 14:00:00</th>\n",
       "      <td>11H20</td>\n",
       "      <td>2500-2599</td>\n",
       "      <td>BROADWAY</td>\n",
       "      <td>Theft</td>\n",
       "      <td>070</td>\n",
       "      <td>1.0</td>\n",
       "      <td>CONVENIENCE STORE</td>\n",
       "      <td>14</td>\n",
       "      <td>03</td>\n",
       "      <td>Saturday</td>\n",
       "      <td>Apr</td>\n",
       "      <td>1999</td>\n",
       "    </tr>\n",
       "    <tr>\n",
       "      <th>2000-01-01 00:00:00</th>\n",
       "      <td>16E40</td>\n",
       "      <td>4700-4799</td>\n",
       "      <td>RIDGEROD</td>\n",
       "      <td>Rape</td>\n",
       "      <td>20R</td>\n",
       "      <td>1.0</td>\n",
       "      <td>RESIDENCE/HOUSE</td>\n",
       "      <td>00</td>\n",
       "      <td>01</td>\n",
       "      <td>Saturday</td>\n",
       "      <td>Jan</td>\n",
       "      <td>2000</td>\n",
       "    </tr>\n",
       "    <tr>\n",
       "      <th>2000-01-01 02:00:00</th>\n",
       "      <td>11H10</td>\n",
       "      <td>7000-7099</td>\n",
       "      <td>LAWNDALE</td>\n",
       "      <td>Theft</td>\n",
       "      <td>03B</td>\n",
       "      <td>1.0</td>\n",
       "      <td>BAR/NIGHT CLUB</td>\n",
       "      <td>02</td>\n",
       "      <td>01</td>\n",
       "      <td>Saturday</td>\n",
       "      <td>Jan</td>\n",
       "      <td>2000</td>\n",
       "    </tr>\n",
       "    <tr>\n",
       "      <th>2000-01-01 08:00:00</th>\n",
       "      <td>3B50</td>\n",
       "      <td>8200-8299</td>\n",
       "      <td>BAUMAN</td>\n",
       "      <td>Rape</td>\n",
       "      <td>20A</td>\n",
       "      <td>1.0</td>\n",
       "      <td>APARTMENT</td>\n",
       "      <td>08</td>\n",
       "      <td>01</td>\n",
       "      <td>Saturday</td>\n",
       "      <td>Jan</td>\n",
       "      <td>2000</td>\n",
       "    </tr>\n",
       "    <tr>\n",
       "      <th>2000-01-01 10:00:00</th>\n",
       "      <td>9C30</td>\n",
       "      <td>7700-7799</td>\n",
       "      <td>MESA</td>\n",
       "      <td>Theft</td>\n",
       "      <td>060</td>\n",
       "      <td>1.0</td>\n",
       "      <td>CONSTRUCTION SITE</td>\n",
       "      <td>10</td>\n",
       "      <td>01</td>\n",
       "      <td>Saturday</td>\n",
       "      <td>Jan</td>\n",
       "      <td>2000</td>\n",
       "    </tr>\n",
       "    <tr>\n",
       "      <th>2000-01-09 00:00:00</th>\n",
       "      <td>17E10</td>\n",
       "      <td>5700-5799</td>\n",
       "      <td>EDGEMOOR</td>\n",
       "      <td>Theft</td>\n",
       "      <td>20A</td>\n",
       "      <td>1.0</td>\n",
       "      <td>APARTMENT</td>\n",
       "      <td>00</td>\n",
       "      <td>09</td>\n",
       "      <td>Sunday</td>\n",
       "      <td>Jan</td>\n",
       "      <td>2000</td>\n",
       "    </tr>\n",
       "    <tr>\n",
       "      <th>2000-01-20 23:00:00</th>\n",
       "      <td>14D20</td>\n",
       "      <td>5000-5099</td>\n",
       "      <td>SUNFLOWER</td>\n",
       "      <td>Auto Theft</td>\n",
       "      <td>18A</td>\n",
       "      <td>1.0</td>\n",
       "      <td>APARTMENT PARKING LOT</td>\n",
       "      <td>23</td>\n",
       "      <td>20</td>\n",
       "      <td>Thursday</td>\n",
       "      <td>Jan</td>\n",
       "      <td>2000</td>\n",
       "    </tr>\n",
       "    <tr>\n",
       "      <th>2000-05-01 10:00:00</th>\n",
       "      <td>6B60</td>\n",
       "      <td>11100-11199</td>\n",
       "      <td>ELLA</td>\n",
       "      <td>Theft</td>\n",
       "      <td>250</td>\n",
       "      <td>1.0</td>\n",
       "      <td>OTHER/UNKNOWN</td>\n",
       "      <td>10</td>\n",
       "      <td>01</td>\n",
       "      <td>Monday</td>\n",
       "      <td>May</td>\n",
       "      <td>2000</td>\n",
       "    </tr>\n",
       "    <tr>\n",
       "      <th>2000-06-21 00:00:00</th>\n",
       "      <td>18F20</td>\n",
       "      <td>5300-5399</td>\n",
       "      <td>BEVERLYHILL</td>\n",
       "      <td>Theft</td>\n",
       "      <td>18A</td>\n",
       "      <td>1.0</td>\n",
       "      <td>APARTMENT PARKING LOT</td>\n",
       "      <td>00</td>\n",
       "      <td>21</td>\n",
       "      <td>Wednesday</td>\n",
       "      <td>Jun</td>\n",
       "      <td>2000</td>\n",
       "    </tr>\n",
       "    <tr>\n",
       "      <th>...</th>\n",
       "      <td>...</td>\n",
       "      <td>...</td>\n",
       "      <td>...</td>\n",
       "      <td>...</td>\n",
       "      <td>...</td>\n",
       "      <td>...</td>\n",
       "      <td>...</td>\n",
       "      <td>...</td>\n",
       "      <td>...</td>\n",
       "      <td>...</td>\n",
       "      <td>...</td>\n",
       "      <td>...</td>\n",
       "    </tr>\n",
       "    <tr>\n",
       "      <th>2010-12-31 19:00:00</th>\n",
       "      <td>18F40</td>\n",
       "      <td>2500-2599</td>\n",
       "      <td>WINROCK</td>\n",
       "      <td>Aggravated Assault</td>\n",
       "      <td>13R</td>\n",
       "      <td>1.0</td>\n",
       "      <td>ROAD/STREET/SIDEWALK</td>\n",
       "      <td>19</td>\n",
       "      <td>31</td>\n",
       "      <td>Friday</td>\n",
       "      <td>Dec</td>\n",
       "      <td>2010</td>\n",
       "    </tr>\n",
       "    <tr>\n",
       "      <th>2010-12-31 19:00:00</th>\n",
       "      <td>3B40</td>\n",
       "      <td>3800-3899</td>\n",
       "      <td>AJAX</td>\n",
       "      <td>Burglary</td>\n",
       "      <td>20A</td>\n",
       "      <td>1.0</td>\n",
       "      <td>APARTMENT</td>\n",
       "      <td>19</td>\n",
       "      <td>31</td>\n",
       "      <td>Friday</td>\n",
       "      <td>Dec</td>\n",
       "      <td>2010</td>\n",
       "    </tr>\n",
       "    <tr>\n",
       "      <th>2010-12-31 19:00:00</th>\n",
       "      <td>24C40</td>\n",
       "      <td>24400-24499</td>\n",
       "      <td>RED DEER</td>\n",
       "      <td>Burglary</td>\n",
       "      <td>20R</td>\n",
       "      <td>1.0</td>\n",
       "      <td>RESIDENCE/HOUSE</td>\n",
       "      <td>19</td>\n",
       "      <td>31</td>\n",
       "      <td>Friday</td>\n",
       "      <td>Dec</td>\n",
       "      <td>2010</td>\n",
       "    </tr>\n",
       "    <tr>\n",
       "      <th>2010-12-31 19:00:00</th>\n",
       "      <td>5F30</td>\n",
       "      <td>12900-12999</td>\n",
       "      <td>NORTHWEST</td>\n",
       "      <td>Theft</td>\n",
       "      <td>18R</td>\n",
       "      <td>1.0</td>\n",
       "      <td>RESTAURANT/CAFETERIA PARKING LOT</td>\n",
       "      <td>19</td>\n",
       "      <td>31</td>\n",
       "      <td>Friday</td>\n",
       "      <td>Dec</td>\n",
       "      <td>2010</td>\n",
       "    </tr>\n",
       "    <tr>\n",
       "      <th>2010-12-31 19:00:00</th>\n",
       "      <td>18F20</td>\n",
       "      <td>5000-5099</td>\n",
       "      <td>WESTHEIMER</td>\n",
       "      <td>Theft</td>\n",
       "      <td>24C</td>\n",
       "      <td>1.0</td>\n",
       "      <td>CLOTHING STORE</td>\n",
       "      <td>19</td>\n",
       "      <td>31</td>\n",
       "      <td>Friday</td>\n",
       "      <td>Dec</td>\n",
       "      <td>2010</td>\n",
       "    </tr>\n",
       "    <tr>\n",
       "      <th>2010-12-31 19:00:00</th>\n",
       "      <td>20G30</td>\n",
       "      <td>2700-2799</td>\n",
       "      <td>KIRKWOOD</td>\n",
       "      <td>Theft</td>\n",
       "      <td>080</td>\n",
       "      <td>1.0</td>\n",
       "      <td>DEPARTMENT/DISCOUNT STORE</td>\n",
       "      <td>19</td>\n",
       "      <td>31</td>\n",
       "      <td>Friday</td>\n",
       "      <td>Dec</td>\n",
       "      <td>2010</td>\n",
       "    </tr>\n",
       "    <tr>\n",
       "      <th>2010-12-31 20:00:00</th>\n",
       "      <td>20G10</td>\n",
       "      <td>2900-2999</td>\n",
       "      <td>ELMSIDE</td>\n",
       "      <td>Burglary</td>\n",
       "      <td>20A</td>\n",
       "      <td>1.0</td>\n",
       "      <td>APARTMENT</td>\n",
       "      <td>20</td>\n",
       "      <td>31</td>\n",
       "      <td>Friday</td>\n",
       "      <td>Dec</td>\n",
       "      <td>2010</td>\n",
       "    </tr>\n",
       "    <tr>\n",
       "      <th>2010-12-31 20:00:00</th>\n",
       "      <td>10H20</td>\n",
       "      <td>4800-4899</td>\n",
       "      <td>OAKLAND</td>\n",
       "      <td>Aggravated Assault</td>\n",
       "      <td>20A</td>\n",
       "      <td>1.0</td>\n",
       "      <td>APARTMENT</td>\n",
       "      <td>20</td>\n",
       "      <td>31</td>\n",
       "      <td>Friday</td>\n",
       "      <td>Dec</td>\n",
       "      <td>2010</td>\n",
       "    </tr>\n",
       "    <tr>\n",
       "      <th>2010-12-31 20:00:00</th>\n",
       "      <td>1A20</td>\n",
       "      <td>2700-2799</td>\n",
       "      <td>BAGBY</td>\n",
       "      <td>Theft</td>\n",
       "      <td>13R</td>\n",
       "      <td>1.0</td>\n",
       "      <td>ROAD/STREET/SIDEWALK</td>\n",
       "      <td>20</td>\n",
       "      <td>31</td>\n",
       "      <td>Friday</td>\n",
       "      <td>Dec</td>\n",
       "      <td>2010</td>\n",
       "    </tr>\n",
       "    <tr>\n",
       "      <th>2010-12-31 20:00:00</th>\n",
       "      <td>2A20</td>\n",
       "      <td>100-199</td>\n",
       "      <td>CAVALCADE</td>\n",
       "      <td>Theft</td>\n",
       "      <td>070</td>\n",
       "      <td>1.0</td>\n",
       "      <td>CONVENIENCE STORE</td>\n",
       "      <td>20</td>\n",
       "      <td>31</td>\n",
       "      <td>Friday</td>\n",
       "      <td>Dec</td>\n",
       "      <td>2010</td>\n",
       "    </tr>\n",
       "    <tr>\n",
       "      <th>2010-12-31 21:00:00</th>\n",
       "      <td>7C20</td>\n",
       "      <td>4800-4899</td>\n",
       "      <td>LOCKWOOD</td>\n",
       "      <td>Aggravated Assault</td>\n",
       "      <td>13R</td>\n",
       "      <td>1.0</td>\n",
       "      <td>ROAD/STREET/SIDEWALK</td>\n",
       "      <td>21</td>\n",
       "      <td>31</td>\n",
       "      <td>Friday</td>\n",
       "      <td>Dec</td>\n",
       "      <td>2010</td>\n",
       "    </tr>\n",
       "    <tr>\n",
       "      <th>2010-12-31 21:00:00</th>\n",
       "      <td>11H30</td>\n",
       "      <td>8400-8499</td>\n",
       "      <td>GARLAND</td>\n",
       "      <td>Aggravated Assault</td>\n",
       "      <td>13R</td>\n",
       "      <td>1.0</td>\n",
       "      <td>ROAD/STREET/SIDEWALK</td>\n",
       "      <td>21</td>\n",
       "      <td>31</td>\n",
       "      <td>Friday</td>\n",
       "      <td>Dec</td>\n",
       "      <td>2010</td>\n",
       "    </tr>\n",
       "    <tr>\n",
       "      <th>2010-12-31 21:00:00</th>\n",
       "      <td>13D10</td>\n",
       "      <td>6500-6599</td>\n",
       "      <td>CULMORE</td>\n",
       "      <td>Theft</td>\n",
       "      <td>20A</td>\n",
       "      <td>1.0</td>\n",
       "      <td>APARTMENT</td>\n",
       "      <td>21</td>\n",
       "      <td>31</td>\n",
       "      <td>Friday</td>\n",
       "      <td>Dec</td>\n",
       "      <td>2010</td>\n",
       "    </tr>\n",
       "    <tr>\n",
       "      <th>2010-12-31 21:00:00</th>\n",
       "      <td>12D70</td>\n",
       "      <td>1800-1899</td>\n",
       "      <td>BAY AREA</td>\n",
       "      <td>Robbery</td>\n",
       "      <td>080</td>\n",
       "      <td>1.0</td>\n",
       "      <td>DEPARTMENT/DISCOUNT STORE</td>\n",
       "      <td>21</td>\n",
       "      <td>31</td>\n",
       "      <td>Friday</td>\n",
       "      <td>Dec</td>\n",
       "      <td>2010</td>\n",
       "    </tr>\n",
       "    <tr>\n",
       "      <th>2010-12-31 21:00:00</th>\n",
       "      <td>15E40</td>\n",
       "      <td>3000-3099</td>\n",
       "      <td>MURWORTH</td>\n",
       "      <td>Robbery</td>\n",
       "      <td>18A</td>\n",
       "      <td>1.0</td>\n",
       "      <td>APARTMENT PARKING LOT</td>\n",
       "      <td>21</td>\n",
       "      <td>31</td>\n",
       "      <td>Friday</td>\n",
       "      <td>Dec</td>\n",
       "      <td>2010</td>\n",
       "    </tr>\n",
       "    <tr>\n",
       "      <th>2010-12-31 21:00:00</th>\n",
       "      <td>12D10</td>\n",
       "      <td>10900-10999</td>\n",
       "      <td>GULF</td>\n",
       "      <td>Theft</td>\n",
       "      <td>18A</td>\n",
       "      <td>1.0</td>\n",
       "      <td>APARTMENT PARKING LOT</td>\n",
       "      <td>21</td>\n",
       "      <td>31</td>\n",
       "      <td>Friday</td>\n",
       "      <td>Dec</td>\n",
       "      <td>2010</td>\n",
       "    </tr>\n",
       "    <tr>\n",
       "      <th>2010-12-31 22:00:00</th>\n",
       "      <td>1A10</td>\n",
       "      <td>900-999</td>\n",
       "      <td>COMMERCE</td>\n",
       "      <td>Aggravated Assault</td>\n",
       "      <td>13A</td>\n",
       "      <td>1.0</td>\n",
       "      <td>ALLEY</td>\n",
       "      <td>22</td>\n",
       "      <td>31</td>\n",
       "      <td>Friday</td>\n",
       "      <td>Dec</td>\n",
       "      <td>2010</td>\n",
       "    </tr>\n",
       "    <tr>\n",
       "      <th>2010-12-31 22:00:00</th>\n",
       "      <td>15E10</td>\n",
       "      <td>6200-6299</td>\n",
       "      <td>BEECHNUT</td>\n",
       "      <td>Theft</td>\n",
       "      <td>20R</td>\n",
       "      <td>1.0</td>\n",
       "      <td>RESIDENCE/HOUSE</td>\n",
       "      <td>22</td>\n",
       "      <td>31</td>\n",
       "      <td>Friday</td>\n",
       "      <td>Dec</td>\n",
       "      <td>2010</td>\n",
       "    </tr>\n",
       "    <tr>\n",
       "      <th>2010-12-31 22:00:00</th>\n",
       "      <td>4F10</td>\n",
       "      <td>1600-1699</td>\n",
       "      <td>WITTE</td>\n",
       "      <td>Aggravated Assault</td>\n",
       "      <td>13R</td>\n",
       "      <td>1.0</td>\n",
       "      <td>ROAD/STREET/SIDEWALK</td>\n",
       "      <td>22</td>\n",
       "      <td>31</td>\n",
       "      <td>Friday</td>\n",
       "      <td>Dec</td>\n",
       "      <td>2010</td>\n",
       "    </tr>\n",
       "    <tr>\n",
       "      <th>2010-12-31 22:00:00</th>\n",
       "      <td>5F20</td>\n",
       "      <td>9300-9399</td>\n",
       "      <td>SPRING BRANCH</td>\n",
       "      <td>Aggravated Assault</td>\n",
       "      <td>20R</td>\n",
       "      <td>1.0</td>\n",
       "      <td>RESIDENCE/HOUSE</td>\n",
       "      <td>22</td>\n",
       "      <td>31</td>\n",
       "      <td>Friday</td>\n",
       "      <td>Dec</td>\n",
       "      <td>2010</td>\n",
       "    </tr>\n",
       "    <tr>\n",
       "      <th>2010-12-31 22:00:00</th>\n",
       "      <td>17E10</td>\n",
       "      <td>5900-5999</td>\n",
       "      <td>GLENMONT</td>\n",
       "      <td>Auto Theft</td>\n",
       "      <td>23S</td>\n",
       "      <td>1.0</td>\n",
       "      <td>SERVICE/GAS STATION</td>\n",
       "      <td>22</td>\n",
       "      <td>31</td>\n",
       "      <td>Friday</td>\n",
       "      <td>Dec</td>\n",
       "      <td>2010</td>\n",
       "    </tr>\n",
       "    <tr>\n",
       "      <th>2010-12-31 22:00:00</th>\n",
       "      <td>4F20</td>\n",
       "      <td>10500-10599</td>\n",
       "      <td>HAMMERLY</td>\n",
       "      <td>Theft</td>\n",
       "      <td>20A</td>\n",
       "      <td>1.0</td>\n",
       "      <td>APARTMENT</td>\n",
       "      <td>22</td>\n",
       "      <td>31</td>\n",
       "      <td>Friday</td>\n",
       "      <td>Dec</td>\n",
       "      <td>2010</td>\n",
       "    </tr>\n",
       "    <tr>\n",
       "      <th>2010-12-31 22:00:00</th>\n",
       "      <td>19G20</td>\n",
       "      <td>11100-11199</td>\n",
       "      <td>SOMERFORD</td>\n",
       "      <td>Aggravated Assault</td>\n",
       "      <td>13R</td>\n",
       "      <td>1.0</td>\n",
       "      <td>ROAD/STREET/SIDEWALK</td>\n",
       "      <td>22</td>\n",
       "      <td>31</td>\n",
       "      <td>Friday</td>\n",
       "      <td>Dec</td>\n",
       "      <td>2010</td>\n",
       "    </tr>\n",
       "    <tr>\n",
       "      <th>2010-12-31 23:00:00</th>\n",
       "      <td>6B30</td>\n",
       "      <td>3100-3199</td>\n",
       "      <td>LITTLE YORK</td>\n",
       "      <td>Theft</td>\n",
       "      <td>18A</td>\n",
       "      <td>1.0</td>\n",
       "      <td>APARTMENT PARKING LOT</td>\n",
       "      <td>23</td>\n",
       "      <td>31</td>\n",
       "      <td>Friday</td>\n",
       "      <td>Dec</td>\n",
       "      <td>2010</td>\n",
       "    </tr>\n",
       "    <tr>\n",
       "      <th>2010-12-31 23:00:00</th>\n",
       "      <td>3B10</td>\n",
       "      <td>3400-3499</td>\n",
       "      <td>MANGUM</td>\n",
       "      <td>Aggravated Assault</td>\n",
       "      <td>09D</td>\n",
       "      <td>1.0</td>\n",
       "      <td>DRUG STORE/MEDICAL SUPPLY</td>\n",
       "      <td>23</td>\n",
       "      <td>31</td>\n",
       "      <td>Friday</td>\n",
       "      <td>Dec</td>\n",
       "      <td>2010</td>\n",
       "    </tr>\n",
       "    <tr>\n",
       "      <th>2010-12-31 23:00:00</th>\n",
       "      <td>3B10</td>\n",
       "      <td>3400-3499</td>\n",
       "      <td>MANGUM</td>\n",
       "      <td>Robbery</td>\n",
       "      <td>09D</td>\n",
       "      <td>1.0</td>\n",
       "      <td>DRUG STORE/MEDICAL SUPPLY</td>\n",
       "      <td>23</td>\n",
       "      <td>31</td>\n",
       "      <td>Friday</td>\n",
       "      <td>Dec</td>\n",
       "      <td>2010</td>\n",
       "    </tr>\n",
       "    <tr>\n",
       "      <th>2010-12-31 23:00:00</th>\n",
       "      <td>12D50</td>\n",
       "      <td>2800-2899</td>\n",
       "      <td>BAY AREA</td>\n",
       "      <td>Aggravated Assault</td>\n",
       "      <td>11P</td>\n",
       "      <td>1.0</td>\n",
       "      <td>POLICE STATION</td>\n",
       "      <td>23</td>\n",
       "      <td>31</td>\n",
       "      <td>Friday</td>\n",
       "      <td>Dec</td>\n",
       "      <td>2010</td>\n",
       "    </tr>\n",
       "    <tr>\n",
       "      <th>2010-12-31 23:00:00</th>\n",
       "      <td>18F50</td>\n",
       "      <td>9500-9599</td>\n",
       "      <td>RICHMOND</td>\n",
       "      <td>Aggravated Assault</td>\n",
       "      <td>13H</td>\n",
       "      <td>1.0</td>\n",
       "      <td>HIGHWAY/FREEWAY</td>\n",
       "      <td>23</td>\n",
       "      <td>31</td>\n",
       "      <td>Friday</td>\n",
       "      <td>Dec</td>\n",
       "      <td>2010</td>\n",
       "    </tr>\n",
       "    <tr>\n",
       "      <th>2011-01-01 00:00:00</th>\n",
       "      <td>15E10</td>\n",
       "      <td>5000-5099</td>\n",
       "      <td>YARWELL</td>\n",
       "      <td>Burglary</td>\n",
       "      <td>20R</td>\n",
       "      <td>1.0</td>\n",
       "      <td>RESIDENCE/HOUSE</td>\n",
       "      <td>00</td>\n",
       "      <td>01</td>\n",
       "      <td>Saturday</td>\n",
       "      <td>Jan</td>\n",
       "      <td>2011</td>\n",
       "    </tr>\n",
       "    <tr>\n",
       "      <th>2011-01-06 06:00:00</th>\n",
       "      <td>14D30</td>\n",
       "      <td>8300-8399</td>\n",
       "      <td>MYKAWA</td>\n",
       "      <td>Aggravated Assault</td>\n",
       "      <td>150</td>\n",
       "      <td>1.0</td>\n",
       "      <td>JAIL/PRISON</td>\n",
       "      <td>06</td>\n",
       "      <td>06</td>\n",
       "      <td>Thursday</td>\n",
       "      <td>Jan</td>\n",
       "      <td>2011</td>\n",
       "    </tr>\n",
       "  </tbody>\n",
       "</table>\n",
       "<p>136262 rows × 12 columns</p>\n",
       "</div>"
      ],
      "text/plain": [
       "                      Beat   BlockRange          StreetName  \\\n",
       "Date_Hour                                                     \n",
       "1959-06-06 14:00:00  18F20    5100-5199            RICHMOND   \n",
       "1966-01-01 00:00:00  10H50    3300-3399             ALABAMA   \n",
       "1966-07-18 13:00:00  13D40  10200-10299           TELEPHONE   \n",
       "1969-07-22 00:00:00   2A30    1500-1599           NICHOLSON   \n",
       "1969-11-26 15:00:00   3B50    7100-7199           IRVINGTON   \n",
       "1974-02-12 08:00:00  18F40    7900-7999          WESTHEIMER   \n",
       "1974-04-27 11:00:00  14D30    5900-5999            WESTOVER   \n",
       "1977-02-01 18:00:00  12D70      500-599       BAYBROOK MALL   \n",
       "1980-05-14 00:00:00  23J50    7800-7899             AIRPORT   \n",
       "1980-10-01 09:00:00  17E10    6500-6599           HILLCROFT   \n",
       "1983-07-01 07:00:00   3B10    5000-5099                LIDO   \n",
       "1983-07-01 08:00:00   3B10    5000-5099                LIDO   \n",
       "1985-01-01 00:00:00  20G10    5900-5999          RANCHESTER   \n",
       "1990-01-01 00:00:00  14D40  11700-11799             SEGREST   \n",
       "1990-09-10 20:00:00  10H60    3700-3799             WHEELER   \n",
       "1991-01-01 08:00:00   3B40    3400-3499             AIRLINE   \n",
       "1995-01-01 12:00:00  14D40  11900-11999  MARTIN LUTHER KING   \n",
       "1995-08-07 22:00:00   9C40      800-899              UVALDE   \n",
       "1995-11-29 00:00:00  16E40  15800-15899          RIDGECROFT   \n",
       "1996-06-15 00:00:00  17E40    6100-6199          WILLOWBEND   \n",
       "1998-01-01 08:00:00   2A40    1400-1499               HOLLY   \n",
       "1999-04-03 14:00:00  11H20    2500-2599            BROADWAY   \n",
       "2000-01-01 00:00:00  16E40    4700-4799            RIDGEROD   \n",
       "2000-01-01 02:00:00  11H10    7000-7099            LAWNDALE   \n",
       "2000-01-01 08:00:00   3B50    8200-8299              BAUMAN   \n",
       "2000-01-01 10:00:00   9C30    7700-7799                MESA   \n",
       "2000-01-09 00:00:00  17E10    5700-5799            EDGEMOOR   \n",
       "2000-01-20 23:00:00  14D20    5000-5099           SUNFLOWER   \n",
       "2000-05-01 10:00:00   6B60  11100-11199                ELLA   \n",
       "2000-06-21 00:00:00  18F20    5300-5399         BEVERLYHILL   \n",
       "...                    ...          ...                 ...   \n",
       "2010-12-31 19:00:00  18F40    2500-2599             WINROCK   \n",
       "2010-12-31 19:00:00   3B40    3800-3899                AJAX   \n",
       "2010-12-31 19:00:00  24C40  24400-24499            RED DEER   \n",
       "2010-12-31 19:00:00   5F30  12900-12999           NORTHWEST   \n",
       "2010-12-31 19:00:00  18F20    5000-5099          WESTHEIMER   \n",
       "2010-12-31 19:00:00  20G30    2700-2799            KIRKWOOD   \n",
       "2010-12-31 20:00:00  20G10    2900-2999             ELMSIDE   \n",
       "2010-12-31 20:00:00  10H20    4800-4899             OAKLAND   \n",
       "2010-12-31 20:00:00   1A20    2700-2799               BAGBY   \n",
       "2010-12-31 20:00:00   2A20      100-199           CAVALCADE   \n",
       "2010-12-31 21:00:00   7C20    4800-4899            LOCKWOOD   \n",
       "2010-12-31 21:00:00  11H30    8400-8499             GARLAND   \n",
       "2010-12-31 21:00:00  13D10    6500-6599             CULMORE   \n",
       "2010-12-31 21:00:00  12D70    1800-1899            BAY AREA   \n",
       "2010-12-31 21:00:00  15E40    3000-3099            MURWORTH   \n",
       "2010-12-31 21:00:00  12D10  10900-10999                GULF   \n",
       "2010-12-31 22:00:00   1A10      900-999            COMMERCE   \n",
       "2010-12-31 22:00:00  15E10    6200-6299            BEECHNUT   \n",
       "2010-12-31 22:00:00   4F10    1600-1699               WITTE   \n",
       "2010-12-31 22:00:00   5F20    9300-9399       SPRING BRANCH   \n",
       "2010-12-31 22:00:00  17E10    5900-5999            GLENMONT   \n",
       "2010-12-31 22:00:00   4F20  10500-10599            HAMMERLY   \n",
       "2010-12-31 22:00:00  19G20  11100-11199           SOMERFORD   \n",
       "2010-12-31 23:00:00   6B30    3100-3199         LITTLE YORK   \n",
       "2010-12-31 23:00:00   3B10    3400-3499              MANGUM   \n",
       "2010-12-31 23:00:00   3B10    3400-3499              MANGUM   \n",
       "2010-12-31 23:00:00  12D50    2800-2899            BAY AREA   \n",
       "2010-12-31 23:00:00  18F50    9500-9599            RICHMOND   \n",
       "2011-01-01 00:00:00  15E10    5000-5099             YARWELL   \n",
       "2011-01-06 06:00:00  14D30    8300-8399              MYKAWA   \n",
       "\n",
       "                            OffenseType Premise  NumOffenses  \\\n",
       "Date_Hour                                                      \n",
       "1959-06-06 14:00:00               Theft     080          1.0   \n",
       "1966-01-01 00:00:00                Rape     20A          1.0   \n",
       "1966-07-18 13:00:00          Auto Theft     18A          1.0   \n",
       "1969-07-22 00:00:00               Theft     20R          1.0   \n",
       "1969-11-26 15:00:00               Theft     13R          1.0   \n",
       "1974-02-12 08:00:00            Burglary     ---          1.0   \n",
       "1974-04-27 11:00:00            Burglary     20R          1.0   \n",
       "1977-02-01 18:00:00               Theft     18U          1.0   \n",
       "1980-05-14 00:00:00               Theft     01A          1.0   \n",
       "1980-10-01 09:00:00            Burglary     20A          1.0   \n",
       "1983-07-01 07:00:00          Auto Theft     20D          1.0   \n",
       "1983-07-01 08:00:00          Auto Theft     20D          1.0   \n",
       "1985-01-01 00:00:00             Robbery     18A          1.0   \n",
       "1990-01-01 00:00:00                Rape     20R          1.0   \n",
       "1990-09-10 20:00:00               Theft     20R          1.0   \n",
       "1991-01-01 08:00:00                Rape     20R          1.0   \n",
       "1995-01-01 12:00:00  Aggravated Assault     20R          1.0   \n",
       "1995-08-07 22:00:00              Murder     070          1.0   \n",
       "1995-11-29 00:00:00                Rape     20R          1.0   \n",
       "1996-06-15 00:00:00                Rape     20R          1.0   \n",
       "1998-01-01 08:00:00               Theft     20R          1.0   \n",
       "1999-04-03 14:00:00               Theft     070          1.0   \n",
       "2000-01-01 00:00:00                Rape     20R          1.0   \n",
       "2000-01-01 02:00:00               Theft     03B          1.0   \n",
       "2000-01-01 08:00:00                Rape     20A          1.0   \n",
       "2000-01-01 10:00:00               Theft     060          1.0   \n",
       "2000-01-09 00:00:00               Theft     20A          1.0   \n",
       "2000-01-20 23:00:00          Auto Theft     18A          1.0   \n",
       "2000-05-01 10:00:00               Theft     250          1.0   \n",
       "2000-06-21 00:00:00               Theft     18A          1.0   \n",
       "...                                 ...     ...          ...   \n",
       "2010-12-31 19:00:00  Aggravated Assault     13R          1.0   \n",
       "2010-12-31 19:00:00            Burglary     20A          1.0   \n",
       "2010-12-31 19:00:00            Burglary     20R          1.0   \n",
       "2010-12-31 19:00:00               Theft     18R          1.0   \n",
       "2010-12-31 19:00:00               Theft     24C          1.0   \n",
       "2010-12-31 19:00:00               Theft     080          1.0   \n",
       "2010-12-31 20:00:00            Burglary     20A          1.0   \n",
       "2010-12-31 20:00:00  Aggravated Assault     20A          1.0   \n",
       "2010-12-31 20:00:00               Theft     13R          1.0   \n",
       "2010-12-31 20:00:00               Theft     070          1.0   \n",
       "2010-12-31 21:00:00  Aggravated Assault     13R          1.0   \n",
       "2010-12-31 21:00:00  Aggravated Assault     13R          1.0   \n",
       "2010-12-31 21:00:00               Theft     20A          1.0   \n",
       "2010-12-31 21:00:00             Robbery     080          1.0   \n",
       "2010-12-31 21:00:00             Robbery     18A          1.0   \n",
       "2010-12-31 21:00:00               Theft     18A          1.0   \n",
       "2010-12-31 22:00:00  Aggravated Assault     13A          1.0   \n",
       "2010-12-31 22:00:00               Theft     20R          1.0   \n",
       "2010-12-31 22:00:00  Aggravated Assault     13R          1.0   \n",
       "2010-12-31 22:00:00  Aggravated Assault     20R          1.0   \n",
       "2010-12-31 22:00:00          Auto Theft     23S          1.0   \n",
       "2010-12-31 22:00:00               Theft     20A          1.0   \n",
       "2010-12-31 22:00:00  Aggravated Assault     13R          1.0   \n",
       "2010-12-31 23:00:00               Theft     18A          1.0   \n",
       "2010-12-31 23:00:00  Aggravated Assault     09D          1.0   \n",
       "2010-12-31 23:00:00             Robbery     09D          1.0   \n",
       "2010-12-31 23:00:00  Aggravated Assault     11P          1.0   \n",
       "2010-12-31 23:00:00  Aggravated Assault     13H          1.0   \n",
       "2011-01-01 00:00:00            Burglary     20R          1.0   \n",
       "2011-01-06 06:00:00  Aggravated Assault     150          1.0   \n",
       "\n",
       "                                  Premise Description Hour day    weekday  \\\n",
       "Date_Hour                                                                   \n",
       "1959-06-06 14:00:00         DEPARTMENT/DISCOUNT STORE   14  06   Saturday   \n",
       "1966-01-01 00:00:00                         APARTMENT   00  01   Saturday   \n",
       "1966-07-18 13:00:00             APARTMENT PARKING LOT   13  18     Monday   \n",
       "1969-07-22 00:00:00                   RESIDENCE/HOUSE   00  22    Tuesday   \n",
       "1969-11-26 15:00:00              ROAD/STREET/SIDEWALK   15  26  Wednesday   \n",
       "1974-02-12 08:00:00                               ---   08  12    Tuesday   \n",
       "1974-04-27 11:00:00                   RESIDENCE/HOUSE   11  27   Saturday   \n",
       "1977-02-01 18:00:00                  MALL PARKING LOT   18  01    Tuesday   \n",
       "1980-05-14 00:00:00                  AIRPORT TERMINAL   00  14  Wednesday   \n",
       "1980-10-01 09:00:00                         APARTMENT   09  01  Wednesday   \n",
       "1983-07-01 07:00:00                          DRIVEWAY   07  01     Friday   \n",
       "1983-07-01 08:00:00                          DRIVEWAY   08  01     Friday   \n",
       "1985-01-01 00:00:00             APARTMENT PARKING LOT   00  01    Tuesday   \n",
       "1990-01-01 00:00:00                   RESIDENCE/HOUSE   00  01     Monday   \n",
       "1990-09-10 20:00:00                   RESIDENCE/HOUSE   20  10     Monday   \n",
       "1991-01-01 08:00:00                   RESIDENCE/HOUSE   08  01    Tuesday   \n",
       "1995-01-01 12:00:00                   RESIDENCE/HOUSE   12  01     Sunday   \n",
       "1995-08-07 22:00:00                 CONVENIENCE STORE   22  07     Monday   \n",
       "1995-11-29 00:00:00                   RESIDENCE/HOUSE   00  29  Wednesday   \n",
       "1996-06-15 00:00:00                   RESIDENCE/HOUSE   00  15   Saturday   \n",
       "1998-01-01 08:00:00                   RESIDENCE/HOUSE   08  01   Thursday   \n",
       "1999-04-03 14:00:00                 CONVENIENCE STORE   14  03   Saturday   \n",
       "2000-01-01 00:00:00                   RESIDENCE/HOUSE   00  01   Saturday   \n",
       "2000-01-01 02:00:00                    BAR/NIGHT CLUB   02  01   Saturday   \n",
       "2000-01-01 08:00:00                         APARTMENT   08  01   Saturday   \n",
       "2000-01-01 10:00:00                 CONSTRUCTION SITE   10  01   Saturday   \n",
       "2000-01-09 00:00:00                         APARTMENT   00  09     Sunday   \n",
       "2000-01-20 23:00:00             APARTMENT PARKING LOT   23  20   Thursday   \n",
       "2000-05-01 10:00:00                     OTHER/UNKNOWN   10  01     Monday   \n",
       "2000-06-21 00:00:00             APARTMENT PARKING LOT   00  21  Wednesday   \n",
       "...                                               ...  ...  ..        ...   \n",
       "2010-12-31 19:00:00              ROAD/STREET/SIDEWALK   19  31     Friday   \n",
       "2010-12-31 19:00:00                         APARTMENT   19  31     Friday   \n",
       "2010-12-31 19:00:00                   RESIDENCE/HOUSE   19  31     Friday   \n",
       "2010-12-31 19:00:00  RESTAURANT/CAFETERIA PARKING LOT   19  31     Friday   \n",
       "2010-12-31 19:00:00                    CLOTHING STORE   19  31     Friday   \n",
       "2010-12-31 19:00:00         DEPARTMENT/DISCOUNT STORE   19  31     Friday   \n",
       "2010-12-31 20:00:00                         APARTMENT   20  31     Friday   \n",
       "2010-12-31 20:00:00                         APARTMENT   20  31     Friday   \n",
       "2010-12-31 20:00:00              ROAD/STREET/SIDEWALK   20  31     Friday   \n",
       "2010-12-31 20:00:00                 CONVENIENCE STORE   20  31     Friday   \n",
       "2010-12-31 21:00:00              ROAD/STREET/SIDEWALK   21  31     Friday   \n",
       "2010-12-31 21:00:00              ROAD/STREET/SIDEWALK   21  31     Friday   \n",
       "2010-12-31 21:00:00                         APARTMENT   21  31     Friday   \n",
       "2010-12-31 21:00:00         DEPARTMENT/DISCOUNT STORE   21  31     Friday   \n",
       "2010-12-31 21:00:00             APARTMENT PARKING LOT   21  31     Friday   \n",
       "2010-12-31 21:00:00             APARTMENT PARKING LOT   21  31     Friday   \n",
       "2010-12-31 22:00:00                             ALLEY   22  31     Friday   \n",
       "2010-12-31 22:00:00                   RESIDENCE/HOUSE   22  31     Friday   \n",
       "2010-12-31 22:00:00              ROAD/STREET/SIDEWALK   22  31     Friday   \n",
       "2010-12-31 22:00:00                   RESIDENCE/HOUSE   22  31     Friday   \n",
       "2010-12-31 22:00:00               SERVICE/GAS STATION   22  31     Friday   \n",
       "2010-12-31 22:00:00                         APARTMENT   22  31     Friday   \n",
       "2010-12-31 22:00:00              ROAD/STREET/SIDEWALK   22  31     Friday   \n",
       "2010-12-31 23:00:00             APARTMENT PARKING LOT   23  31     Friday   \n",
       "2010-12-31 23:00:00         DRUG STORE/MEDICAL SUPPLY   23  31     Friday   \n",
       "2010-12-31 23:00:00         DRUG STORE/MEDICAL SUPPLY   23  31     Friday   \n",
       "2010-12-31 23:00:00                    POLICE STATION   23  31     Friday   \n",
       "2010-12-31 23:00:00                   HIGHWAY/FREEWAY   23  31     Friday   \n",
       "2011-01-01 00:00:00                   RESIDENCE/HOUSE   00  01   Saturday   \n",
       "2011-01-06 06:00:00                       JAIL/PRISON   06  06   Thursday   \n",
       "\n",
       "                    month  year  \n",
       "Date_Hour                        \n",
       "1959-06-06 14:00:00   Jun  1959  \n",
       "1966-01-01 00:00:00   Jan  1966  \n",
       "1966-07-18 13:00:00   Jul  1966  \n",
       "1969-07-22 00:00:00   Jul  1969  \n",
       "1969-11-26 15:00:00   Nov  1969  \n",
       "1974-02-12 08:00:00   Feb  1974  \n",
       "1974-04-27 11:00:00   Apr  1974  \n",
       "1977-02-01 18:00:00   Feb  1977  \n",
       "1980-05-14 00:00:00   May  1980  \n",
       "1980-10-01 09:00:00   Oct  1980  \n",
       "1983-07-01 07:00:00   Jul  1983  \n",
       "1983-07-01 08:00:00   Jul  1983  \n",
       "1985-01-01 00:00:00   Jan  1985  \n",
       "1990-01-01 00:00:00   Jan  1990  \n",
       "1990-09-10 20:00:00   Sep  1990  \n",
       "1991-01-01 08:00:00   Jan  1991  \n",
       "1995-01-01 12:00:00   Jan  1995  \n",
       "1995-08-07 22:00:00   Aug  1995  \n",
       "1995-11-29 00:00:00   Nov  1995  \n",
       "1996-06-15 00:00:00   Jun  1996  \n",
       "1998-01-01 08:00:00   Jan  1998  \n",
       "1999-04-03 14:00:00   Apr  1999  \n",
       "2000-01-01 00:00:00   Jan  2000  \n",
       "2000-01-01 02:00:00   Jan  2000  \n",
       "2000-01-01 08:00:00   Jan  2000  \n",
       "2000-01-01 10:00:00   Jan  2000  \n",
       "2000-01-09 00:00:00   Jan  2000  \n",
       "2000-01-20 23:00:00   Jan  2000  \n",
       "2000-05-01 10:00:00   May  2000  \n",
       "2000-06-21 00:00:00   Jun  2000  \n",
       "...                   ...   ...  \n",
       "2010-12-31 19:00:00   Dec  2010  \n",
       "2010-12-31 19:00:00   Dec  2010  \n",
       "2010-12-31 19:00:00   Dec  2010  \n",
       "2010-12-31 19:00:00   Dec  2010  \n",
       "2010-12-31 19:00:00   Dec  2010  \n",
       "2010-12-31 19:00:00   Dec  2010  \n",
       "2010-12-31 20:00:00   Dec  2010  \n",
       "2010-12-31 20:00:00   Dec  2010  \n",
       "2010-12-31 20:00:00   Dec  2010  \n",
       "2010-12-31 20:00:00   Dec  2010  \n",
       "2010-12-31 21:00:00   Dec  2010  \n",
       "2010-12-31 21:00:00   Dec  2010  \n",
       "2010-12-31 21:00:00   Dec  2010  \n",
       "2010-12-31 21:00:00   Dec  2010  \n",
       "2010-12-31 21:00:00   Dec  2010  \n",
       "2010-12-31 21:00:00   Dec  2010  \n",
       "2010-12-31 22:00:00   Dec  2010  \n",
       "2010-12-31 22:00:00   Dec  2010  \n",
       "2010-12-31 22:00:00   Dec  2010  \n",
       "2010-12-31 22:00:00   Dec  2010  \n",
       "2010-12-31 22:00:00   Dec  2010  \n",
       "2010-12-31 22:00:00   Dec  2010  \n",
       "2010-12-31 22:00:00   Dec  2010  \n",
       "2010-12-31 23:00:00   Dec  2010  \n",
       "2010-12-31 23:00:00   Dec  2010  \n",
       "2010-12-31 23:00:00   Dec  2010  \n",
       "2010-12-31 23:00:00   Dec  2010  \n",
       "2010-12-31 23:00:00   Dec  2010  \n",
       "2011-01-01 00:00:00   Jan  2011  \n",
       "2011-01-06 06:00:00   Jan  2011  \n",
       "\n",
       "[136262 rows x 12 columns]"
      ]
     },
     "execution_count": 108,
     "metadata": {},
     "output_type": "execute_result"
    }
   ],
   "source": []
  },
  {
   "cell_type": "code",
   "execution_count": null,
   "metadata": {},
   "outputs": [],
   "source": []
  },
  {
   "cell_type": "code",
   "execution_count": null,
   "metadata": {},
   "outputs": [],
   "source": []
  },
  {
   "cell_type": "markdown",
   "metadata": {},
   "source": [
    "# Set Date as index"
   ]
  },
  {
   "cell_type": "code",
   "execution_count": 107,
   "metadata": {},
   "outputs": [
    {
     "ename": "AttributeError",
     "evalue": "'DataFrame' object has no attribute 'Date_Hour'",
     "output_type": "error",
     "traceback": [
      "\u001b[0;31m---------------------------------------------------------------------------\u001b[0m",
      "\u001b[0;31mAttributeError\u001b[0m                            Traceback (most recent call last)",
      "\u001b[0;32m<ipython-input-107-daa9659c6885>\u001b[0m in \u001b[0;36m<module>\u001b[0;34m()\u001b[0m\n\u001b[1;32m      1\u001b[0m \u001b[0;31m# date\u001b[0m\u001b[0;34m\u001b[0m\u001b[0;34m\u001b[0m\u001b[0m\n\u001b[0;32m----> 2\u001b[0;31m \u001b[0mcrimes\u001b[0m\u001b[0;34m.\u001b[0m\u001b[0mDate_Hour\u001b[0m \u001b[0;34m=\u001b[0m \u001b[0mpd\u001b[0m\u001b[0;34m.\u001b[0m\u001b[0mto_datetime\u001b[0m\u001b[0;34m(\u001b[0m\u001b[0mcrimes\u001b[0m\u001b[0;34m.\u001b[0m\u001b[0mDate_Hour\u001b[0m\u001b[0;34m)\u001b[0m\u001b[0;34m\u001b[0m\u001b[0m\n\u001b[0m\u001b[1;32m      3\u001b[0m \u001b[0;34m\u001b[0m\u001b[0m\n\u001b[1;32m      4\u001b[0m \u001b[0mcrimes\u001b[0m \u001b[0;34m=\u001b[0m \u001b[0mcrimes\u001b[0m\u001b[0;34m.\u001b[0m\u001b[0mset_index\u001b[0m\u001b[0;34m(\u001b[0m\u001b[0;34m'Date_Hour'\u001b[0m\u001b[0;34m)\u001b[0m\u001b[0;34m.\u001b[0m\u001b[0msort_index\u001b[0m\u001b[0;34m(\u001b[0m\u001b[0mascending\u001b[0m\u001b[0;34m=\u001b[0m\u001b[0;32mTrue\u001b[0m\u001b[0;34m)\u001b[0m\u001b[0;34m\u001b[0m\u001b[0m\n",
      "\u001b[0;32m~/miniconda3/envs/springboard/lib/python3.6/site-packages/pandas/core/generic.py\u001b[0m in \u001b[0;36m__getattr__\u001b[0;34m(self, name)\u001b[0m\n\u001b[1;32m   3612\u001b[0m             \u001b[0;32mif\u001b[0m \u001b[0mname\u001b[0m \u001b[0;32min\u001b[0m \u001b[0mself\u001b[0m\u001b[0;34m.\u001b[0m\u001b[0m_info_axis\u001b[0m\u001b[0;34m:\u001b[0m\u001b[0;34m\u001b[0m\u001b[0m\n\u001b[1;32m   3613\u001b[0m                 \u001b[0;32mreturn\u001b[0m \u001b[0mself\u001b[0m\u001b[0;34m[\u001b[0m\u001b[0mname\u001b[0m\u001b[0;34m]\u001b[0m\u001b[0;34m\u001b[0m\u001b[0m\n\u001b[0;32m-> 3614\u001b[0;31m             \u001b[0;32mreturn\u001b[0m \u001b[0mobject\u001b[0m\u001b[0;34m.\u001b[0m\u001b[0m__getattribute__\u001b[0m\u001b[0;34m(\u001b[0m\u001b[0mself\u001b[0m\u001b[0;34m,\u001b[0m \u001b[0mname\u001b[0m\u001b[0;34m)\u001b[0m\u001b[0;34m\u001b[0m\u001b[0m\n\u001b[0m\u001b[1;32m   3615\u001b[0m \u001b[0;34m\u001b[0m\u001b[0m\n\u001b[1;32m   3616\u001b[0m     \u001b[0;32mdef\u001b[0m \u001b[0m__setattr__\u001b[0m\u001b[0;34m(\u001b[0m\u001b[0mself\u001b[0m\u001b[0;34m,\u001b[0m \u001b[0mname\u001b[0m\u001b[0;34m,\u001b[0m \u001b[0mvalue\u001b[0m\u001b[0;34m)\u001b[0m\u001b[0;34m:\u001b[0m\u001b[0;34m\u001b[0m\u001b[0m\n",
      "\u001b[0;31mAttributeError\u001b[0m: 'DataFrame' object has no attribute 'Date_Hour'"
     ]
    }
   ],
   "source": [
    "# date\n",
    "crimes.Date_Hour = pd.to_datetime(crimes.Date_Hour)\n",
    "\n",
    "crimes = crimes.set_index('Date_Hour').sort_index(ascending=True)"
   ]
  },
  {
   "cell_type": "code",
   "execution_count": 105,
   "metadata": {},
   "outputs": [
    {
     "data": {
      "text/html": [
       "<div>\n",
       "<style scoped>\n",
       "    .dataframe tbody tr th:only-of-type {\n",
       "        vertical-align: middle;\n",
       "    }\n",
       "\n",
       "    .dataframe tbody tr th {\n",
       "        vertical-align: top;\n",
       "    }\n",
       "\n",
       "    .dataframe thead th {\n",
       "        text-align: right;\n",
       "    }\n",
       "</style>\n",
       "<table border=\"1\" class=\"dataframe\">\n",
       "  <thead>\n",
       "    <tr style=\"text-align: right;\">\n",
       "      <th></th>\n",
       "      <th>Beat</th>\n",
       "      <th>BlockRange</th>\n",
       "      <th>StreetName</th>\n",
       "      <th>OffenseType</th>\n",
       "      <th>Premise</th>\n",
       "      <th>NumOffenses</th>\n",
       "      <th>Premise Description</th>\n",
       "    </tr>\n",
       "    <tr>\n",
       "      <th>Date_Hour</th>\n",
       "      <th></th>\n",
       "      <th></th>\n",
       "      <th></th>\n",
       "      <th></th>\n",
       "      <th></th>\n",
       "      <th></th>\n",
       "      <th></th>\n",
       "    </tr>\n",
       "  </thead>\n",
       "  <tbody>\n",
       "    <tr>\n",
       "      <th>1959-06-06 14:00:00</th>\n",
       "      <td>18F20</td>\n",
       "      <td>5100-5199</td>\n",
       "      <td>RICHMOND</td>\n",
       "      <td>Theft</td>\n",
       "      <td>080</td>\n",
       "      <td>1.0</td>\n",
       "      <td>DEPARTMENT/DISCOUNT STORE</td>\n",
       "    </tr>\n",
       "    <tr>\n",
       "      <th>1966-01-01 00:00:00</th>\n",
       "      <td>10H50</td>\n",
       "      <td>3300-3399</td>\n",
       "      <td>ALABAMA</td>\n",
       "      <td>Rape</td>\n",
       "      <td>20A</td>\n",
       "      <td>1.0</td>\n",
       "      <td>APARTMENT</td>\n",
       "    </tr>\n",
       "    <tr>\n",
       "      <th>1966-07-18 13:00:00</th>\n",
       "      <td>13D40</td>\n",
       "      <td>10200-10299</td>\n",
       "      <td>TELEPHONE</td>\n",
       "      <td>Auto Theft</td>\n",
       "      <td>18A</td>\n",
       "      <td>1.0</td>\n",
       "      <td>APARTMENT PARKING LOT</td>\n",
       "    </tr>\n",
       "    <tr>\n",
       "      <th>1969-07-22 00:00:00</th>\n",
       "      <td>2A30</td>\n",
       "      <td>1500-1599</td>\n",
       "      <td>NICHOLSON</td>\n",
       "      <td>Theft</td>\n",
       "      <td>20R</td>\n",
       "      <td>1.0</td>\n",
       "      <td>RESIDENCE/HOUSE</td>\n",
       "    </tr>\n",
       "    <tr>\n",
       "      <th>1969-11-26 15:00:00</th>\n",
       "      <td>3B50</td>\n",
       "      <td>7100-7199</td>\n",
       "      <td>IRVINGTON</td>\n",
       "      <td>Theft</td>\n",
       "      <td>13R</td>\n",
       "      <td>1.0</td>\n",
       "      <td>ROAD/STREET/SIDEWALK</td>\n",
       "    </tr>\n",
       "  </tbody>\n",
       "</table>\n",
       "</div>"
      ],
      "text/plain": [
       "                      Beat   BlockRange StreetName OffenseType Premise  \\\n",
       "Date_Hour                                                                \n",
       "1959-06-06 14:00:00  18F20    5100-5199   RICHMOND       Theft     080   \n",
       "1966-01-01 00:00:00  10H50    3300-3399    ALABAMA        Rape     20A   \n",
       "1966-07-18 13:00:00  13D40  10200-10299  TELEPHONE  Auto Theft     18A   \n",
       "1969-07-22 00:00:00   2A30    1500-1599  NICHOLSON       Theft     20R   \n",
       "1969-11-26 15:00:00   3B50    7100-7199  IRVINGTON       Theft     13R   \n",
       "\n",
       "                     NumOffenses        Premise Description  \n",
       "Date_Hour                                                    \n",
       "1959-06-06 14:00:00          1.0  DEPARTMENT/DISCOUNT STORE  \n",
       "1966-01-01 00:00:00          1.0                  APARTMENT  \n",
       "1966-07-18 13:00:00          1.0      APARTMENT PARKING LOT  \n",
       "1969-07-22 00:00:00          1.0            RESIDENCE/HOUSE  \n",
       "1969-11-26 15:00:00          1.0       ROAD/STREET/SIDEWALK  "
      ]
     },
     "execution_count": 105,
     "metadata": {},
     "output_type": "execute_result"
    }
   ],
   "source": [
    "crimes.head()"
   ]
  },
  {
   "cell_type": "markdown",
   "metadata": {},
   "source": [
    "## Create Columns with day,weekday,month,year from date index"
   ]
  },
  {
   "cell_type": "code",
   "execution_count": 109,
   "metadata": {},
   "outputs": [],
   "source": [
    "# get day, weekday,month ,year\n",
    "crimes['Hour'] = crimes.index.strftime('%H')\n",
    "crimes['day'] = crimes.index.strftime('%d')\n",
    "crimes['weekday'] = crimes.index.strftime('%A')\n",
    "crimes['month'] = crimes.index.strftime('%b')\n",
    "crimes['year'] = crimes.index.strftime('%Y')"
   ]
  },
  {
   "cell_type": "code",
   "execution_count": 110,
   "metadata": {},
   "outputs": [
    {
     "data": {
      "text/html": [
       "<div>\n",
       "<style scoped>\n",
       "    .dataframe tbody tr th:only-of-type {\n",
       "        vertical-align: middle;\n",
       "    }\n",
       "\n",
       "    .dataframe tbody tr th {\n",
       "        vertical-align: top;\n",
       "    }\n",
       "\n",
       "    .dataframe thead th {\n",
       "        text-align: right;\n",
       "    }\n",
       "</style>\n",
       "<table border=\"1\" class=\"dataframe\">\n",
       "  <thead>\n",
       "    <tr style=\"text-align: right;\">\n",
       "      <th></th>\n",
       "      <th>Beat</th>\n",
       "      <th>BlockRange</th>\n",
       "      <th>StreetName</th>\n",
       "      <th>OffenseType</th>\n",
       "      <th>Premise</th>\n",
       "      <th>NumOffenses</th>\n",
       "      <th>Premise Description</th>\n",
       "      <th>Hour</th>\n",
       "      <th>day</th>\n",
       "      <th>weekday</th>\n",
       "      <th>month</th>\n",
       "      <th>year</th>\n",
       "    </tr>\n",
       "    <tr>\n",
       "      <th>Date_Hour</th>\n",
       "      <th></th>\n",
       "      <th></th>\n",
       "      <th></th>\n",
       "      <th></th>\n",
       "      <th></th>\n",
       "      <th></th>\n",
       "      <th></th>\n",
       "      <th></th>\n",
       "      <th></th>\n",
       "      <th></th>\n",
       "      <th></th>\n",
       "      <th></th>\n",
       "    </tr>\n",
       "  </thead>\n",
       "  <tbody>\n",
       "    <tr>\n",
       "      <th>1959-06-06 14:00:00</th>\n",
       "      <td>18F20</td>\n",
       "      <td>5100-5199</td>\n",
       "      <td>RICHMOND</td>\n",
       "      <td>Theft</td>\n",
       "      <td>080</td>\n",
       "      <td>1.0</td>\n",
       "      <td>DEPARTMENT/DISCOUNT STORE</td>\n",
       "      <td>14</td>\n",
       "      <td>06</td>\n",
       "      <td>Saturday</td>\n",
       "      <td>Jun</td>\n",
       "      <td>1959</td>\n",
       "    </tr>\n",
       "    <tr>\n",
       "      <th>1966-01-01 00:00:00</th>\n",
       "      <td>10H50</td>\n",
       "      <td>3300-3399</td>\n",
       "      <td>ALABAMA</td>\n",
       "      <td>Rape</td>\n",
       "      <td>20A</td>\n",
       "      <td>1.0</td>\n",
       "      <td>APARTMENT</td>\n",
       "      <td>00</td>\n",
       "      <td>01</td>\n",
       "      <td>Saturday</td>\n",
       "      <td>Jan</td>\n",
       "      <td>1966</td>\n",
       "    </tr>\n",
       "    <tr>\n",
       "      <th>1966-07-18 13:00:00</th>\n",
       "      <td>13D40</td>\n",
       "      <td>10200-10299</td>\n",
       "      <td>TELEPHONE</td>\n",
       "      <td>Auto Theft</td>\n",
       "      <td>18A</td>\n",
       "      <td>1.0</td>\n",
       "      <td>APARTMENT PARKING LOT</td>\n",
       "      <td>13</td>\n",
       "      <td>18</td>\n",
       "      <td>Monday</td>\n",
       "      <td>Jul</td>\n",
       "      <td>1966</td>\n",
       "    </tr>\n",
       "    <tr>\n",
       "      <th>1969-07-22 00:00:00</th>\n",
       "      <td>2A30</td>\n",
       "      <td>1500-1599</td>\n",
       "      <td>NICHOLSON</td>\n",
       "      <td>Theft</td>\n",
       "      <td>20R</td>\n",
       "      <td>1.0</td>\n",
       "      <td>RESIDENCE/HOUSE</td>\n",
       "      <td>00</td>\n",
       "      <td>22</td>\n",
       "      <td>Tuesday</td>\n",
       "      <td>Jul</td>\n",
       "      <td>1969</td>\n",
       "    </tr>\n",
       "    <tr>\n",
       "      <th>1969-11-26 15:00:00</th>\n",
       "      <td>3B50</td>\n",
       "      <td>7100-7199</td>\n",
       "      <td>IRVINGTON</td>\n",
       "      <td>Theft</td>\n",
       "      <td>13R</td>\n",
       "      <td>1.0</td>\n",
       "      <td>ROAD/STREET/SIDEWALK</td>\n",
       "      <td>15</td>\n",
       "      <td>26</td>\n",
       "      <td>Wednesday</td>\n",
       "      <td>Nov</td>\n",
       "      <td>1969</td>\n",
       "    </tr>\n",
       "  </tbody>\n",
       "</table>\n",
       "</div>"
      ],
      "text/plain": [
       "                      Beat   BlockRange StreetName OffenseType Premise  \\\n",
       "Date_Hour                                                                \n",
       "1959-06-06 14:00:00  18F20    5100-5199   RICHMOND       Theft     080   \n",
       "1966-01-01 00:00:00  10H50    3300-3399    ALABAMA        Rape     20A   \n",
       "1966-07-18 13:00:00  13D40  10200-10299  TELEPHONE  Auto Theft     18A   \n",
       "1969-07-22 00:00:00   2A30    1500-1599  NICHOLSON       Theft     20R   \n",
       "1969-11-26 15:00:00   3B50    7100-7199  IRVINGTON       Theft     13R   \n",
       "\n",
       "                     NumOffenses        Premise Description Hour day  \\\n",
       "Date_Hour                                                              \n",
       "1959-06-06 14:00:00          1.0  DEPARTMENT/DISCOUNT STORE   14  06   \n",
       "1966-01-01 00:00:00          1.0                  APARTMENT   00  01   \n",
       "1966-07-18 13:00:00          1.0      APARTMENT PARKING LOT   13  18   \n",
       "1969-07-22 00:00:00          1.0            RESIDENCE/HOUSE   00  22   \n",
       "1969-11-26 15:00:00          1.0       ROAD/STREET/SIDEWALK   15  26   \n",
       "\n",
       "                       weekday month  year  \n",
       "Date_Hour                                   \n",
       "1959-06-06 14:00:00   Saturday   Jun  1959  \n",
       "1966-01-01 00:00:00   Saturday   Jan  1966  \n",
       "1966-07-18 13:00:00     Monday   Jul  1966  \n",
       "1969-07-22 00:00:00    Tuesday   Jul  1969  \n",
       "1969-11-26 15:00:00  Wednesday   Nov  1969  "
      ]
     },
     "execution_count": 110,
     "metadata": {},
     "output_type": "execute_result"
    }
   ],
   "source": [
    "crimes.head()"
   ]
  },
  {
   "cell_type": "markdown",
   "metadata": {},
   "source": [
    "## null values\n",
    "\n",
    "- check\n",
    "- count\n",
    "- display"
   ]
  },
  {
   "cell_type": "code",
   "execution_count": 111,
   "metadata": {},
   "outputs": [
    {
     "data": {
      "text/plain": [
       "False"
      ]
     },
     "execution_count": 111,
     "metadata": {},
     "output_type": "execute_result"
    }
   ],
   "source": [
    "crimes.isnull().values.any().any()"
   ]
  },
  {
   "cell_type": "code",
   "execution_count": 112,
   "metadata": {},
   "outputs": [
    {
     "data": {
      "text/plain": [
       "0"
      ]
     },
     "execution_count": 112,
     "metadata": {},
     "output_type": "execute_result"
    }
   ],
   "source": [
    "# display any null\n",
    "\n",
    "len(crimes[crimes.isnull().any(axis=1)])"
   ]
  },
  {
   "cell_type": "code",
   "execution_count": 113,
   "metadata": {},
   "outputs": [
    {
     "data": {
      "text/html": [
       "<div>\n",
       "<style scoped>\n",
       "    .dataframe tbody tr th:only-of-type {\n",
       "        vertical-align: middle;\n",
       "    }\n",
       "\n",
       "    .dataframe tbody tr th {\n",
       "        vertical-align: top;\n",
       "    }\n",
       "\n",
       "    .dataframe thead th {\n",
       "        text-align: right;\n",
       "    }\n",
       "</style>\n",
       "<table border=\"1\" class=\"dataframe\">\n",
       "  <thead>\n",
       "    <tr style=\"text-align: right;\">\n",
       "      <th></th>\n",
       "      <th>Beat</th>\n",
       "      <th>BlockRange</th>\n",
       "      <th>StreetName</th>\n",
       "      <th>OffenseType</th>\n",
       "      <th>Premise</th>\n",
       "      <th>NumOffenses</th>\n",
       "      <th>Premise Description</th>\n",
       "      <th>Hour</th>\n",
       "      <th>day</th>\n",
       "      <th>weekday</th>\n",
       "      <th>month</th>\n",
       "      <th>year</th>\n",
       "    </tr>\n",
       "    <tr>\n",
       "      <th>Date_Hour</th>\n",
       "      <th></th>\n",
       "      <th></th>\n",
       "      <th></th>\n",
       "      <th></th>\n",
       "      <th></th>\n",
       "      <th></th>\n",
       "      <th></th>\n",
       "      <th></th>\n",
       "      <th></th>\n",
       "      <th></th>\n",
       "      <th></th>\n",
       "      <th></th>\n",
       "    </tr>\n",
       "  </thead>\n",
       "  <tbody>\n",
       "  </tbody>\n",
       "</table>\n",
       "</div>"
      ],
      "text/plain": [
       "Empty DataFrame\n",
       "Columns: [Beat, BlockRange, StreetName, OffenseType, Premise, NumOffenses, Premise Description, Hour, day, weekday, month, year]\n",
       "Index: []"
      ]
     },
     "execution_count": 113,
     "metadata": {},
     "output_type": "execute_result"
    }
   ],
   "source": [
    "crimes[crimes.isnull().any(axis=1)]"
   ]
  },
  {
   "cell_type": "code",
   "execution_count": 114,
   "metadata": {},
   "outputs": [
    {
     "name": "stdout",
     "output_type": "stream",
     "text": [
      "<class 'pandas.core.frame.DataFrame'>\n",
      "DatetimeIndex: 136262 entries, 1959-06-06 14:00:00 to 2011-01-06 06:00:00\n",
      "Data columns (total 12 columns):\n",
      "Beat                   136262 non-null object\n",
      "BlockRange             136262 non-null object\n",
      "StreetName             136262 non-null object\n",
      "OffenseType            136262 non-null object\n",
      "Premise                136262 non-null object\n",
      "NumOffenses            136262 non-null float64\n",
      "Premise Description    136262 non-null object\n",
      "Hour                   136262 non-null object\n",
      "day                    136262 non-null object\n",
      "weekday                136262 non-null object\n",
      "month                  136262 non-null object\n",
      "year                   136262 non-null object\n",
      "dtypes: float64(1), object(11)\n",
      "memory usage: 18.5+ MB\n"
     ]
    }
   ],
   "source": [
    "crimes.info()"
   ]
  },
  {
   "cell_type": "markdown",
   "metadata": {},
   "source": [
    "## New Dataframe\n",
    "- remove premise col\n",
    "- keep premise description"
   ]
  },
  {
   "cell_type": "code",
   "execution_count": 115,
   "metadata": {},
   "outputs": [
    {
     "data": {
      "text/html": [
       "<div>\n",
       "<style scoped>\n",
       "    .dataframe tbody tr th:only-of-type {\n",
       "        vertical-align: middle;\n",
       "    }\n",
       "\n",
       "    .dataframe tbody tr th {\n",
       "        vertical-align: top;\n",
       "    }\n",
       "\n",
       "    .dataframe thead th {\n",
       "        text-align: right;\n",
       "    }\n",
       "</style>\n",
       "<table border=\"1\" class=\"dataframe\">\n",
       "  <thead>\n",
       "    <tr style=\"text-align: right;\">\n",
       "      <th></th>\n",
       "      <th>Beat</th>\n",
       "      <th>BlockRange</th>\n",
       "      <th>StreetName</th>\n",
       "      <th>OffenseType</th>\n",
       "      <th>Premise Description</th>\n",
       "      <th>NumOffenses</th>\n",
       "      <th>Hour</th>\n",
       "      <th>day</th>\n",
       "      <th>weekday</th>\n",
       "      <th>month</th>\n",
       "      <th>year</th>\n",
       "    </tr>\n",
       "    <tr>\n",
       "      <th>Date_Hour</th>\n",
       "      <th></th>\n",
       "      <th></th>\n",
       "      <th></th>\n",
       "      <th></th>\n",
       "      <th></th>\n",
       "      <th></th>\n",
       "      <th></th>\n",
       "      <th></th>\n",
       "      <th></th>\n",
       "      <th></th>\n",
       "      <th></th>\n",
       "    </tr>\n",
       "  </thead>\n",
       "  <tbody>\n",
       "    <tr>\n",
       "      <th>1959-06-06 14:00:00</th>\n",
       "      <td>18F20</td>\n",
       "      <td>5100-5199</td>\n",
       "      <td>RICHMOND</td>\n",
       "      <td>Theft</td>\n",
       "      <td>DEPARTMENT/DISCOUNT STORE</td>\n",
       "      <td>1.0</td>\n",
       "      <td>14</td>\n",
       "      <td>06</td>\n",
       "      <td>Saturday</td>\n",
       "      <td>Jun</td>\n",
       "      <td>1959</td>\n",
       "    </tr>\n",
       "    <tr>\n",
       "      <th>1966-01-01 00:00:00</th>\n",
       "      <td>10H50</td>\n",
       "      <td>3300-3399</td>\n",
       "      <td>ALABAMA</td>\n",
       "      <td>Rape</td>\n",
       "      <td>APARTMENT</td>\n",
       "      <td>1.0</td>\n",
       "      <td>00</td>\n",
       "      <td>01</td>\n",
       "      <td>Saturday</td>\n",
       "      <td>Jan</td>\n",
       "      <td>1966</td>\n",
       "    </tr>\n",
       "    <tr>\n",
       "      <th>1966-07-18 13:00:00</th>\n",
       "      <td>13D40</td>\n",
       "      <td>10200-10299</td>\n",
       "      <td>TELEPHONE</td>\n",
       "      <td>Auto Theft</td>\n",
       "      <td>APARTMENT PARKING LOT</td>\n",
       "      <td>1.0</td>\n",
       "      <td>13</td>\n",
       "      <td>18</td>\n",
       "      <td>Monday</td>\n",
       "      <td>Jul</td>\n",
       "      <td>1966</td>\n",
       "    </tr>\n",
       "    <tr>\n",
       "      <th>1969-07-22 00:00:00</th>\n",
       "      <td>2A30</td>\n",
       "      <td>1500-1599</td>\n",
       "      <td>NICHOLSON</td>\n",
       "      <td>Theft</td>\n",
       "      <td>RESIDENCE/HOUSE</td>\n",
       "      <td>1.0</td>\n",
       "      <td>00</td>\n",
       "      <td>22</td>\n",
       "      <td>Tuesday</td>\n",
       "      <td>Jul</td>\n",
       "      <td>1969</td>\n",
       "    </tr>\n",
       "    <tr>\n",
       "      <th>1969-11-26 15:00:00</th>\n",
       "      <td>3B50</td>\n",
       "      <td>7100-7199</td>\n",
       "      <td>IRVINGTON</td>\n",
       "      <td>Theft</td>\n",
       "      <td>ROAD/STREET/SIDEWALK</td>\n",
       "      <td>1.0</td>\n",
       "      <td>15</td>\n",
       "      <td>26</td>\n",
       "      <td>Wednesday</td>\n",
       "      <td>Nov</td>\n",
       "      <td>1969</td>\n",
       "    </tr>\n",
       "  </tbody>\n",
       "</table>\n",
       "</div>"
      ],
      "text/plain": [
       "                      Beat   BlockRange StreetName OffenseType  \\\n",
       "Date_Hour                                                        \n",
       "1959-06-06 14:00:00  18F20    5100-5199   RICHMOND       Theft   \n",
       "1966-01-01 00:00:00  10H50    3300-3399    ALABAMA        Rape   \n",
       "1966-07-18 13:00:00  13D40  10200-10299  TELEPHONE  Auto Theft   \n",
       "1969-07-22 00:00:00   2A30    1500-1599  NICHOLSON       Theft   \n",
       "1969-11-26 15:00:00   3B50    7100-7199  IRVINGTON       Theft   \n",
       "\n",
       "                           Premise Description  NumOffenses Hour day  \\\n",
       "Date_Hour                                                              \n",
       "1959-06-06 14:00:00  DEPARTMENT/DISCOUNT STORE          1.0   14  06   \n",
       "1966-01-01 00:00:00                  APARTMENT          1.0   00  01   \n",
       "1966-07-18 13:00:00      APARTMENT PARKING LOT          1.0   13  18   \n",
       "1969-07-22 00:00:00            RESIDENCE/HOUSE          1.0   00  22   \n",
       "1969-11-26 15:00:00       ROAD/STREET/SIDEWALK          1.0   15  26   \n",
       "\n",
       "                       weekday month  year  \n",
       "Date_Hour                                   \n",
       "1959-06-06 14:00:00   Saturday   Jun  1959  \n",
       "1966-01-01 00:00:00   Saturday   Jan  1966  \n",
       "1966-07-18 13:00:00     Monday   Jul  1966  \n",
       "1969-07-22 00:00:00    Tuesday   Jul  1969  \n",
       "1969-11-26 15:00:00  Wednesday   Nov  1969  "
      ]
     },
     "execution_count": 115,
     "metadata": {},
     "output_type": "execute_result"
    }
   ],
   "source": [
    "crime_yr = crimes[['Beat','BlockRange','StreetName','OffenseType','Premise Description','NumOffenses','Hour','day','weekday','month','year']]\n",
    "crime_yr.head()"
   ]
  },
  {
   "cell_type": "code",
   "execution_count": 116,
   "metadata": {},
   "outputs": [
    {
     "data": {
      "text/plain": [
       "False"
      ]
     },
     "execution_count": 116,
     "metadata": {},
     "output_type": "execute_result"
    }
   ],
   "source": [
    "crime_yr.isnull().values.any().any()"
   ]
  },
  {
   "cell_type": "code",
   "execution_count": 117,
   "metadata": {},
   "outputs": [
    {
     "data": {
      "text/plain": [
       "0"
      ]
     },
     "execution_count": 117,
     "metadata": {},
     "output_type": "execute_result"
    }
   ],
   "source": [
    "# display any null\n",
    "\n",
    "len(crime_yr[crime_yr.isnull().any(axis=1)])"
   ]
  },
  {
   "cell_type": "code",
   "execution_count": 118,
   "metadata": {},
   "outputs": [
    {
     "data": {
      "text/html": [
       "<div>\n",
       "<style scoped>\n",
       "    .dataframe tbody tr th:only-of-type {\n",
       "        vertical-align: middle;\n",
       "    }\n",
       "\n",
       "    .dataframe tbody tr th {\n",
       "        vertical-align: top;\n",
       "    }\n",
       "\n",
       "    .dataframe thead th {\n",
       "        text-align: right;\n",
       "    }\n",
       "</style>\n",
       "<table border=\"1\" class=\"dataframe\">\n",
       "  <thead>\n",
       "    <tr style=\"text-align: right;\">\n",
       "      <th></th>\n",
       "      <th>Beat</th>\n",
       "      <th>BlockRange</th>\n",
       "      <th>StreetName</th>\n",
       "      <th>OffenseType</th>\n",
       "      <th>Premise Description</th>\n",
       "      <th>NumOffenses</th>\n",
       "      <th>Hour</th>\n",
       "      <th>day</th>\n",
       "      <th>weekday</th>\n",
       "      <th>month</th>\n",
       "      <th>year</th>\n",
       "    </tr>\n",
       "    <tr>\n",
       "      <th>Date_Hour</th>\n",
       "      <th></th>\n",
       "      <th></th>\n",
       "      <th></th>\n",
       "      <th></th>\n",
       "      <th></th>\n",
       "      <th></th>\n",
       "      <th></th>\n",
       "      <th></th>\n",
       "      <th></th>\n",
       "      <th></th>\n",
       "      <th></th>\n",
       "    </tr>\n",
       "  </thead>\n",
       "  <tbody>\n",
       "  </tbody>\n",
       "</table>\n",
       "</div>"
      ],
      "text/plain": [
       "Empty DataFrame\n",
       "Columns: [Beat, BlockRange, StreetName, OffenseType, Premise Description, NumOffenses, Hour, day, weekday, month, year]\n",
       "Index: []"
      ]
     },
     "execution_count": 118,
     "metadata": {},
     "output_type": "execute_result"
    }
   ],
   "source": [
    "crime_yr[crime_yr.isnull().any(axis=1)]"
   ]
  },
  {
   "cell_type": "markdown",
   "metadata": {},
   "source": [
    "# FIND NANS"
   ]
  },
  {
   "cell_type": "markdown",
   "metadata": {},
   "source": [
    "## INDEX"
   ]
  },
  {
   "cell_type": "code",
   "execution_count": 119,
   "metadata": {},
   "outputs": [
    {
     "data": {
      "text/plain": [
       "0"
      ]
     },
     "execution_count": 119,
     "metadata": {},
     "output_type": "execute_result"
    }
   ],
   "source": [
    "len(crime_yr[crime_yr.index.isnull()])"
   ]
  },
  {
   "cell_type": "code",
   "execution_count": 120,
   "metadata": {},
   "outputs": [
    {
     "data": {
      "text/html": [
       "<div>\n",
       "<style scoped>\n",
       "    .dataframe tbody tr th:only-of-type {\n",
       "        vertical-align: middle;\n",
       "    }\n",
       "\n",
       "    .dataframe tbody tr th {\n",
       "        vertical-align: top;\n",
       "    }\n",
       "\n",
       "    .dataframe thead th {\n",
       "        text-align: right;\n",
       "    }\n",
       "</style>\n",
       "<table border=\"1\" class=\"dataframe\">\n",
       "  <thead>\n",
       "    <tr style=\"text-align: right;\">\n",
       "      <th></th>\n",
       "      <th>Beat</th>\n",
       "      <th>BlockRange</th>\n",
       "      <th>StreetName</th>\n",
       "      <th>OffenseType</th>\n",
       "      <th>Premise Description</th>\n",
       "      <th>NumOffenses</th>\n",
       "      <th>Hour</th>\n",
       "      <th>day</th>\n",
       "      <th>weekday</th>\n",
       "      <th>month</th>\n",
       "      <th>year</th>\n",
       "    </tr>\n",
       "    <tr>\n",
       "      <th>Date_Hour</th>\n",
       "      <th></th>\n",
       "      <th></th>\n",
       "      <th></th>\n",
       "      <th></th>\n",
       "      <th></th>\n",
       "      <th></th>\n",
       "      <th></th>\n",
       "      <th></th>\n",
       "      <th></th>\n",
       "      <th></th>\n",
       "      <th></th>\n",
       "    </tr>\n",
       "  </thead>\n",
       "  <tbody>\n",
       "  </tbody>\n",
       "</table>\n",
       "</div>"
      ],
      "text/plain": [
       "Empty DataFrame\n",
       "Columns: [Beat, BlockRange, StreetName, OffenseType, Premise Description, NumOffenses, Hour, day, weekday, month, year]\n",
       "Index: []"
      ]
     },
     "execution_count": 120,
     "metadata": {},
     "output_type": "execute_result"
    }
   ],
   "source": [
    "crime_yr[crime_yr.index.isnull()]"
   ]
  },
  {
   "cell_type": "code",
   "execution_count": 121,
   "metadata": {},
   "outputs": [
    {
     "data": {
      "text/plain": [
       "DatetimeIndex(['1959-06-06 14:00:00', '1966-01-01 00:00:00',\n",
       "               '1966-07-18 13:00:00', '1969-07-22 00:00:00',\n",
       "               '1969-11-26 15:00:00', '1974-02-12 08:00:00',\n",
       "               '1974-04-27 11:00:00', '1977-02-01 18:00:00',\n",
       "               '1980-05-14 00:00:00', '1980-10-01 09:00:00',\n",
       "               ...\n",
       "               '2010-12-31 22:00:00', '2010-12-31 22:00:00',\n",
       "               '2010-12-31 22:00:00', '2010-12-31 23:00:00',\n",
       "               '2010-12-31 23:00:00', '2010-12-31 23:00:00',\n",
       "               '2010-12-31 23:00:00', '2010-12-31 23:00:00',\n",
       "               '2011-01-01 00:00:00', '2011-01-06 06:00:00'],\n",
       "              dtype='datetime64[ns]', name='Date_Hour', length=136262, freq=None)"
      ]
     },
     "execution_count": 121,
     "metadata": {},
     "output_type": "execute_result"
    }
   ],
   "source": [
    "# drop index nans\n",
    "crime_yr.index.dropna(how='any')"
   ]
  },
  {
   "cell_type": "code",
   "execution_count": 122,
   "metadata": {},
   "outputs": [
    {
     "data": {
      "text/plain": [
       "0"
      ]
     },
     "execution_count": 122,
     "metadata": {},
     "output_type": "execute_result"
    }
   ],
   "source": [
    "len(crime_yr[crime_yr.index.isnull()])"
   ]
  },
  {
   "cell_type": "markdown",
   "metadata": {},
   "source": [
    "## Beat"
   ]
  },
  {
   "cell_type": "code",
   "execution_count": null,
   "metadata": {},
   "outputs": [],
   "source": []
  },
  {
   "cell_type": "code",
   "execution_count": 123,
   "metadata": {},
   "outputs": [
    {
     "data": {
      "text/plain": [
       "0"
      ]
     },
     "execution_count": 123,
     "metadata": {},
     "output_type": "execute_result"
    }
   ],
   "source": [
    "len(crime_yr[crime_yr.Beat.isnull()])"
   ]
  },
  {
   "cell_type": "code",
   "execution_count": 124,
   "metadata": {},
   "outputs": [
    {
     "data": {
      "text/html": [
       "<div>\n",
       "<style scoped>\n",
       "    .dataframe tbody tr th:only-of-type {\n",
       "        vertical-align: middle;\n",
       "    }\n",
       "\n",
       "    .dataframe tbody tr th {\n",
       "        vertical-align: top;\n",
       "    }\n",
       "\n",
       "    .dataframe thead th {\n",
       "        text-align: right;\n",
       "    }\n",
       "</style>\n",
       "<table border=\"1\" class=\"dataframe\">\n",
       "  <thead>\n",
       "    <tr style=\"text-align: right;\">\n",
       "      <th></th>\n",
       "      <th>Beat</th>\n",
       "      <th>BlockRange</th>\n",
       "      <th>StreetName</th>\n",
       "      <th>OffenseType</th>\n",
       "      <th>Premise Description</th>\n",
       "      <th>NumOffenses</th>\n",
       "      <th>Hour</th>\n",
       "      <th>day</th>\n",
       "      <th>weekday</th>\n",
       "      <th>month</th>\n",
       "      <th>year</th>\n",
       "    </tr>\n",
       "    <tr>\n",
       "      <th>Date_Hour</th>\n",
       "      <th></th>\n",
       "      <th></th>\n",
       "      <th></th>\n",
       "      <th></th>\n",
       "      <th></th>\n",
       "      <th></th>\n",
       "      <th></th>\n",
       "      <th></th>\n",
       "      <th></th>\n",
       "      <th></th>\n",
       "      <th></th>\n",
       "    </tr>\n",
       "  </thead>\n",
       "  <tbody>\n",
       "  </tbody>\n",
       "</table>\n",
       "</div>"
      ],
      "text/plain": [
       "Empty DataFrame\n",
       "Columns: [Beat, BlockRange, StreetName, OffenseType, Premise Description, NumOffenses, Hour, day, weekday, month, year]\n",
       "Index: []"
      ]
     },
     "execution_count": 124,
     "metadata": {},
     "output_type": "execute_result"
    }
   ],
   "source": [
    "crime_yr[crime_yr.Beat.isnull()].head()"
   ]
  },
  {
   "cell_type": "code",
   "execution_count": 125,
   "metadata": {},
   "outputs": [
    {
     "name": "stderr",
     "output_type": "stream",
     "text": [
      "/home/frank/miniconda3/envs/springboard/lib/python3.6/site-packages/pandas/core/generic.py:3643: SettingWithCopyWarning: \n",
      "A value is trying to be set on a copy of a slice from a DataFrame.\n",
      "Try using .loc[row_indexer,col_indexer] = value instead\n",
      "\n",
      "See the caveats in the documentation: http://pandas.pydata.org/pandas-docs/stable/indexing.html#indexing-view-versus-copy\n",
      "  self[name] = value\n"
     ]
    }
   ],
   "source": [
    "crime_yr.Beat = crime_yr.Beat.replace(np.nan, 'UNK')"
   ]
  },
  {
   "cell_type": "code",
   "execution_count": 126,
   "metadata": {},
   "outputs": [
    {
     "data": {
      "text/plain": [
       "0"
      ]
     },
     "execution_count": 126,
     "metadata": {},
     "output_type": "execute_result"
    }
   ],
   "source": [
    "len(crime_yr[crime_yr.Beat.isnull()])"
   ]
  },
  {
   "cell_type": "code",
   "execution_count": 127,
   "metadata": {},
   "outputs": [
    {
     "data": {
      "text/html": [
       "<div>\n",
       "<style scoped>\n",
       "    .dataframe tbody tr th:only-of-type {\n",
       "        vertical-align: middle;\n",
       "    }\n",
       "\n",
       "    .dataframe tbody tr th {\n",
       "        vertical-align: top;\n",
       "    }\n",
       "\n",
       "    .dataframe thead th {\n",
       "        text-align: right;\n",
       "    }\n",
       "</style>\n",
       "<table border=\"1\" class=\"dataframe\">\n",
       "  <thead>\n",
       "    <tr style=\"text-align: right;\">\n",
       "      <th></th>\n",
       "      <th>Beat</th>\n",
       "      <th>BlockRange</th>\n",
       "      <th>StreetName</th>\n",
       "      <th>OffenseType</th>\n",
       "      <th>Premise Description</th>\n",
       "      <th>NumOffenses</th>\n",
       "      <th>Hour</th>\n",
       "      <th>day</th>\n",
       "      <th>weekday</th>\n",
       "      <th>month</th>\n",
       "      <th>year</th>\n",
       "    </tr>\n",
       "    <tr>\n",
       "      <th>Date_Hour</th>\n",
       "      <th></th>\n",
       "      <th></th>\n",
       "      <th></th>\n",
       "      <th></th>\n",
       "      <th></th>\n",
       "      <th></th>\n",
       "      <th></th>\n",
       "      <th></th>\n",
       "      <th></th>\n",
       "      <th></th>\n",
       "      <th></th>\n",
       "    </tr>\n",
       "  </thead>\n",
       "  <tbody>\n",
       "  </tbody>\n",
       "</table>\n",
       "</div>"
      ],
      "text/plain": [
       "Empty DataFrame\n",
       "Columns: [Beat, BlockRange, StreetName, OffenseType, Premise Description, NumOffenses, Hour, day, weekday, month, year]\n",
       "Index: []"
      ]
     },
     "execution_count": 127,
     "metadata": {},
     "output_type": "execute_result"
    }
   ],
   "source": [
    "crime_yr[crime_yr.Beat.isnull()]"
   ]
  },
  {
   "cell_type": "markdown",
   "metadata": {},
   "source": [
    "## BlockRAnge"
   ]
  },
  {
   "cell_type": "code",
   "execution_count": 128,
   "metadata": {},
   "outputs": [
    {
     "data": {
      "text/plain": [
       "0"
      ]
     },
     "execution_count": 128,
     "metadata": {},
     "output_type": "execute_result"
    }
   ],
   "source": [
    "len(crime_yr[crime_yr.BlockRange.isnull()])"
   ]
  },
  {
   "cell_type": "code",
   "execution_count": 129,
   "metadata": {},
   "outputs": [
    {
     "data": {
      "text/html": [
       "<div>\n",
       "<style scoped>\n",
       "    .dataframe tbody tr th:only-of-type {\n",
       "        vertical-align: middle;\n",
       "    }\n",
       "\n",
       "    .dataframe tbody tr th {\n",
       "        vertical-align: top;\n",
       "    }\n",
       "\n",
       "    .dataframe thead th {\n",
       "        text-align: right;\n",
       "    }\n",
       "</style>\n",
       "<table border=\"1\" class=\"dataframe\">\n",
       "  <thead>\n",
       "    <tr style=\"text-align: right;\">\n",
       "      <th></th>\n",
       "      <th>Beat</th>\n",
       "      <th>BlockRange</th>\n",
       "      <th>StreetName</th>\n",
       "      <th>OffenseType</th>\n",
       "      <th>Premise Description</th>\n",
       "      <th>NumOffenses</th>\n",
       "      <th>Hour</th>\n",
       "      <th>day</th>\n",
       "      <th>weekday</th>\n",
       "      <th>month</th>\n",
       "      <th>year</th>\n",
       "    </tr>\n",
       "    <tr>\n",
       "      <th>Date_Hour</th>\n",
       "      <th></th>\n",
       "      <th></th>\n",
       "      <th></th>\n",
       "      <th></th>\n",
       "      <th></th>\n",
       "      <th></th>\n",
       "      <th></th>\n",
       "      <th></th>\n",
       "      <th></th>\n",
       "      <th></th>\n",
       "      <th></th>\n",
       "    </tr>\n",
       "  </thead>\n",
       "  <tbody>\n",
       "  </tbody>\n",
       "</table>\n",
       "</div>"
      ],
      "text/plain": [
       "Empty DataFrame\n",
       "Columns: [Beat, BlockRange, StreetName, OffenseType, Premise Description, NumOffenses, Hour, day, weekday, month, year]\n",
       "Index: []"
      ]
     },
     "execution_count": 129,
     "metadata": {},
     "output_type": "execute_result"
    }
   ],
   "source": [
    "crime_yr[crime_yr.BlockRange.isnull()].head()"
   ]
  },
  {
   "cell_type": "markdown",
   "metadata": {},
   "source": [
    "## StreetName"
   ]
  },
  {
   "cell_type": "code",
   "execution_count": 130,
   "metadata": {},
   "outputs": [
    {
     "data": {
      "text/plain": [
       "0"
      ]
     },
     "execution_count": 130,
     "metadata": {},
     "output_type": "execute_result"
    }
   ],
   "source": [
    "len(crime_yr[crime_yr.StreetName.isnull()])"
   ]
  },
  {
   "cell_type": "code",
   "execution_count": 131,
   "metadata": {},
   "outputs": [
    {
     "data": {
      "text/html": [
       "<div>\n",
       "<style scoped>\n",
       "    .dataframe tbody tr th:only-of-type {\n",
       "        vertical-align: middle;\n",
       "    }\n",
       "\n",
       "    .dataframe tbody tr th {\n",
       "        vertical-align: top;\n",
       "    }\n",
       "\n",
       "    .dataframe thead th {\n",
       "        text-align: right;\n",
       "    }\n",
       "</style>\n",
       "<table border=\"1\" class=\"dataframe\">\n",
       "  <thead>\n",
       "    <tr style=\"text-align: right;\">\n",
       "      <th></th>\n",
       "      <th>Beat</th>\n",
       "      <th>BlockRange</th>\n",
       "      <th>StreetName</th>\n",
       "      <th>OffenseType</th>\n",
       "      <th>Premise Description</th>\n",
       "      <th>NumOffenses</th>\n",
       "      <th>Hour</th>\n",
       "      <th>day</th>\n",
       "      <th>weekday</th>\n",
       "      <th>month</th>\n",
       "      <th>year</th>\n",
       "    </tr>\n",
       "    <tr>\n",
       "      <th>Date_Hour</th>\n",
       "      <th></th>\n",
       "      <th></th>\n",
       "      <th></th>\n",
       "      <th></th>\n",
       "      <th></th>\n",
       "      <th></th>\n",
       "      <th></th>\n",
       "      <th></th>\n",
       "      <th></th>\n",
       "      <th></th>\n",
       "      <th></th>\n",
       "    </tr>\n",
       "  </thead>\n",
       "  <tbody>\n",
       "  </tbody>\n",
       "</table>\n",
       "</div>"
      ],
      "text/plain": [
       "Empty DataFrame\n",
       "Columns: [Beat, BlockRange, StreetName, OffenseType, Premise Description, NumOffenses, Hour, day, weekday, month, year]\n",
       "Index: []"
      ]
     },
     "execution_count": 131,
     "metadata": {},
     "output_type": "execute_result"
    }
   ],
   "source": [
    "crime_yr[crime_yr.StreetName.isnull()].head()"
   ]
  },
  {
   "cell_type": "markdown",
   "metadata": {},
   "source": [
    "## OffenseType"
   ]
  },
  {
   "cell_type": "code",
   "execution_count": 132,
   "metadata": {},
   "outputs": [
    {
     "data": {
      "text/plain": [
       "0"
      ]
     },
     "execution_count": 132,
     "metadata": {},
     "output_type": "execute_result"
    }
   ],
   "source": [
    "len(crime_yr[crime_yr.OffenseType.isnull()])"
   ]
  },
  {
   "cell_type": "code",
   "execution_count": 133,
   "metadata": {},
   "outputs": [
    {
     "data": {
      "text/html": [
       "<div>\n",
       "<style scoped>\n",
       "    .dataframe tbody tr th:only-of-type {\n",
       "        vertical-align: middle;\n",
       "    }\n",
       "\n",
       "    .dataframe tbody tr th {\n",
       "        vertical-align: top;\n",
       "    }\n",
       "\n",
       "    .dataframe thead th {\n",
       "        text-align: right;\n",
       "    }\n",
       "</style>\n",
       "<table border=\"1\" class=\"dataframe\">\n",
       "  <thead>\n",
       "    <tr style=\"text-align: right;\">\n",
       "      <th></th>\n",
       "      <th>Beat</th>\n",
       "      <th>BlockRange</th>\n",
       "      <th>StreetName</th>\n",
       "      <th>OffenseType</th>\n",
       "      <th>Premise Description</th>\n",
       "      <th>NumOffenses</th>\n",
       "      <th>Hour</th>\n",
       "      <th>day</th>\n",
       "      <th>weekday</th>\n",
       "      <th>month</th>\n",
       "      <th>year</th>\n",
       "    </tr>\n",
       "    <tr>\n",
       "      <th>Date_Hour</th>\n",
       "      <th></th>\n",
       "      <th></th>\n",
       "      <th></th>\n",
       "      <th></th>\n",
       "      <th></th>\n",
       "      <th></th>\n",
       "      <th></th>\n",
       "      <th></th>\n",
       "      <th></th>\n",
       "      <th></th>\n",
       "      <th></th>\n",
       "    </tr>\n",
       "  </thead>\n",
       "  <tbody>\n",
       "  </tbody>\n",
       "</table>\n",
       "</div>"
      ],
      "text/plain": [
       "Empty DataFrame\n",
       "Columns: [Beat, BlockRange, StreetName, OffenseType, Premise Description, NumOffenses, Hour, day, weekday, month, year]\n",
       "Index: []"
      ]
     },
     "execution_count": 133,
     "metadata": {},
     "output_type": "execute_result"
    }
   ],
   "source": [
    "crime_yr[crime_yr.OffenseType.isnull()]"
   ]
  },
  {
   "cell_type": "markdown",
   "metadata": {},
   "source": [
    "## Hour"
   ]
  },
  {
   "cell_type": "code",
   "execution_count": 134,
   "metadata": {},
   "outputs": [
    {
     "data": {
      "text/plain": [
       "0"
      ]
     },
     "execution_count": 134,
     "metadata": {},
     "output_type": "execute_result"
    }
   ],
   "source": [
    "len(crime_yr[crime_yr.Hour.isnull()])"
   ]
  },
  {
   "cell_type": "code",
   "execution_count": 135,
   "metadata": {},
   "outputs": [
    {
     "data": {
      "text/html": [
       "<div>\n",
       "<style scoped>\n",
       "    .dataframe tbody tr th:only-of-type {\n",
       "        vertical-align: middle;\n",
       "    }\n",
       "\n",
       "    .dataframe tbody tr th {\n",
       "        vertical-align: top;\n",
       "    }\n",
       "\n",
       "    .dataframe thead th {\n",
       "        text-align: right;\n",
       "    }\n",
       "</style>\n",
       "<table border=\"1\" class=\"dataframe\">\n",
       "  <thead>\n",
       "    <tr style=\"text-align: right;\">\n",
       "      <th></th>\n",
       "      <th>Beat</th>\n",
       "      <th>BlockRange</th>\n",
       "      <th>StreetName</th>\n",
       "      <th>OffenseType</th>\n",
       "      <th>Premise Description</th>\n",
       "      <th>NumOffenses</th>\n",
       "      <th>Hour</th>\n",
       "      <th>day</th>\n",
       "      <th>weekday</th>\n",
       "      <th>month</th>\n",
       "      <th>year</th>\n",
       "    </tr>\n",
       "    <tr>\n",
       "      <th>Date_Hour</th>\n",
       "      <th></th>\n",
       "      <th></th>\n",
       "      <th></th>\n",
       "      <th></th>\n",
       "      <th></th>\n",
       "      <th></th>\n",
       "      <th></th>\n",
       "      <th></th>\n",
       "      <th></th>\n",
       "      <th></th>\n",
       "      <th></th>\n",
       "    </tr>\n",
       "  </thead>\n",
       "  <tbody>\n",
       "  </tbody>\n",
       "</table>\n",
       "</div>"
      ],
      "text/plain": [
       "Empty DataFrame\n",
       "Columns: [Beat, BlockRange, StreetName, OffenseType, Premise Description, NumOffenses, Hour, day, weekday, month, year]\n",
       "Index: []"
      ]
     },
     "execution_count": 135,
     "metadata": {},
     "output_type": "execute_result"
    }
   ],
   "source": [
    "crime_yr[crime_yr.Hour.isnull()].head()"
   ]
  },
  {
   "cell_type": "markdown",
   "metadata": {},
   "source": [
    "## Premsie Description"
   ]
  },
  {
   "cell_type": "code",
   "execution_count": 136,
   "metadata": {},
   "outputs": [
    {
     "data": {
      "text/plain": [
       "0"
      ]
     },
     "execution_count": 136,
     "metadata": {},
     "output_type": "execute_result"
    }
   ],
   "source": [
    "len(crime_yr[crime_yr['Premise Description'].isnull()])"
   ]
  },
  {
   "cell_type": "code",
   "execution_count": 137,
   "metadata": {},
   "outputs": [
    {
     "data": {
      "text/html": [
       "<div>\n",
       "<style scoped>\n",
       "    .dataframe tbody tr th:only-of-type {\n",
       "        vertical-align: middle;\n",
       "    }\n",
       "\n",
       "    .dataframe tbody tr th {\n",
       "        vertical-align: top;\n",
       "    }\n",
       "\n",
       "    .dataframe thead th {\n",
       "        text-align: right;\n",
       "    }\n",
       "</style>\n",
       "<table border=\"1\" class=\"dataframe\">\n",
       "  <thead>\n",
       "    <tr style=\"text-align: right;\">\n",
       "      <th></th>\n",
       "      <th>Beat</th>\n",
       "      <th>BlockRange</th>\n",
       "      <th>StreetName</th>\n",
       "      <th>OffenseType</th>\n",
       "      <th>Premise Description</th>\n",
       "      <th>NumOffenses</th>\n",
       "      <th>Hour</th>\n",
       "      <th>day</th>\n",
       "      <th>weekday</th>\n",
       "      <th>month</th>\n",
       "      <th>year</th>\n",
       "    </tr>\n",
       "    <tr>\n",
       "      <th>Date_Hour</th>\n",
       "      <th></th>\n",
       "      <th></th>\n",
       "      <th></th>\n",
       "      <th></th>\n",
       "      <th></th>\n",
       "      <th></th>\n",
       "      <th></th>\n",
       "      <th></th>\n",
       "      <th></th>\n",
       "      <th></th>\n",
       "      <th></th>\n",
       "    </tr>\n",
       "  </thead>\n",
       "  <tbody>\n",
       "  </tbody>\n",
       "</table>\n",
       "</div>"
      ],
      "text/plain": [
       "Empty DataFrame\n",
       "Columns: [Beat, BlockRange, StreetName, OffenseType, Premise Description, NumOffenses, Hour, day, weekday, month, year]\n",
       "Index: []"
      ]
     },
     "execution_count": 137,
     "metadata": {},
     "output_type": "execute_result"
    }
   ],
   "source": [
    "crime_yr[crime_yr['Premise Description'].isnull()].head()"
   ]
  },
  {
   "cell_type": "code",
   "execution_count": 138,
   "metadata": {},
   "outputs": [
    {
     "name": "stderr",
     "output_type": "stream",
     "text": [
      "/home/frank/miniconda3/envs/springboard/lib/python3.6/site-packages/ipykernel_launcher.py:1: SettingWithCopyWarning: \n",
      "A value is trying to be set on a copy of a slice from a DataFrame.\n",
      "Try using .loc[row_indexer,col_indexer] = value instead\n",
      "\n",
      "See the caveats in the documentation: http://pandas.pydata.org/pandas-docs/stable/indexing.html#indexing-view-versus-copy\n",
      "  \"\"\"Entry point for launching an IPython kernel.\n"
     ]
    }
   ],
   "source": [
    "crime_yr['Premise Description'] = crime_yr['Premise Description'].replace(np.nan, 'No label')"
   ]
  },
  {
   "cell_type": "code",
   "execution_count": 139,
   "metadata": {},
   "outputs": [
    {
     "data": {
      "text/plain": [
       "0"
      ]
     },
     "execution_count": 139,
     "metadata": {},
     "output_type": "execute_result"
    }
   ],
   "source": [
    "len(crime_yr[crime_yr['Premise Description'].isnull()])"
   ]
  },
  {
   "cell_type": "code",
   "execution_count": 140,
   "metadata": {},
   "outputs": [
    {
     "data": {
      "text/html": [
       "<div>\n",
       "<style scoped>\n",
       "    .dataframe tbody tr th:only-of-type {\n",
       "        vertical-align: middle;\n",
       "    }\n",
       "\n",
       "    .dataframe tbody tr th {\n",
       "        vertical-align: top;\n",
       "    }\n",
       "\n",
       "    .dataframe thead th {\n",
       "        text-align: right;\n",
       "    }\n",
       "</style>\n",
       "<table border=\"1\" class=\"dataframe\">\n",
       "  <thead>\n",
       "    <tr style=\"text-align: right;\">\n",
       "      <th></th>\n",
       "      <th>Beat</th>\n",
       "      <th>BlockRange</th>\n",
       "      <th>StreetName</th>\n",
       "      <th>OffenseType</th>\n",
       "      <th>Premise Description</th>\n",
       "      <th>NumOffenses</th>\n",
       "      <th>Hour</th>\n",
       "      <th>day</th>\n",
       "      <th>weekday</th>\n",
       "      <th>month</th>\n",
       "      <th>year</th>\n",
       "    </tr>\n",
       "    <tr>\n",
       "      <th>Date_Hour</th>\n",
       "      <th></th>\n",
       "      <th></th>\n",
       "      <th></th>\n",
       "      <th></th>\n",
       "      <th></th>\n",
       "      <th></th>\n",
       "      <th></th>\n",
       "      <th></th>\n",
       "      <th></th>\n",
       "      <th></th>\n",
       "      <th></th>\n",
       "    </tr>\n",
       "  </thead>\n",
       "  <tbody>\n",
       "  </tbody>\n",
       "</table>\n",
       "</div>"
      ],
      "text/plain": [
       "Empty DataFrame\n",
       "Columns: [Beat, BlockRange, StreetName, OffenseType, Premise Description, NumOffenses, Hour, day, weekday, month, year]\n",
       "Index: []"
      ]
     },
     "execution_count": 140,
     "metadata": {},
     "output_type": "execute_result"
    }
   ],
   "source": [
    "crime_yr[crime_yr['Premise Description'].isnull()]"
   ]
  },
  {
   "cell_type": "markdown",
   "metadata": {},
   "source": []
  },
  {
   "cell_type": "code",
   "execution_count": null,
   "metadata": {},
   "outputs": [],
   "source": []
  },
  {
   "cell_type": "code",
   "execution_count": 141,
   "metadata": {},
   "outputs": [
    {
     "data": {
      "text/plain": [
       "0"
      ]
     },
     "execution_count": 141,
     "metadata": {},
     "output_type": "execute_result"
    }
   ],
   "source": [
    "# display any null\n",
    "\n",
    "len(crime_yr[crime_yr.isnull().any(axis=1)])"
   ]
  },
  {
   "cell_type": "code",
   "execution_count": 142,
   "metadata": {},
   "outputs": [
    {
     "data": {
      "text/html": [
       "<div>\n",
       "<style scoped>\n",
       "    .dataframe tbody tr th:only-of-type {\n",
       "        vertical-align: middle;\n",
       "    }\n",
       "\n",
       "    .dataframe tbody tr th {\n",
       "        vertical-align: top;\n",
       "    }\n",
       "\n",
       "    .dataframe thead th {\n",
       "        text-align: right;\n",
       "    }\n",
       "</style>\n",
       "<table border=\"1\" class=\"dataframe\">\n",
       "  <thead>\n",
       "    <tr style=\"text-align: right;\">\n",
       "      <th></th>\n",
       "      <th>Beat</th>\n",
       "      <th>BlockRange</th>\n",
       "      <th>StreetName</th>\n",
       "      <th>OffenseType</th>\n",
       "      <th>Premise Description</th>\n",
       "      <th>NumOffenses</th>\n",
       "      <th>Hour</th>\n",
       "      <th>day</th>\n",
       "      <th>weekday</th>\n",
       "      <th>month</th>\n",
       "      <th>year</th>\n",
       "    </tr>\n",
       "    <tr>\n",
       "      <th>Date_Hour</th>\n",
       "      <th></th>\n",
       "      <th></th>\n",
       "      <th></th>\n",
       "      <th></th>\n",
       "      <th></th>\n",
       "      <th></th>\n",
       "      <th></th>\n",
       "      <th></th>\n",
       "      <th></th>\n",
       "      <th></th>\n",
       "      <th></th>\n",
       "    </tr>\n",
       "  </thead>\n",
       "  <tbody>\n",
       "  </tbody>\n",
       "</table>\n",
       "</div>"
      ],
      "text/plain": [
       "Empty DataFrame\n",
       "Columns: [Beat, BlockRange, StreetName, OffenseType, Premise Description, NumOffenses, Hour, day, weekday, month, year]\n",
       "Index: []"
      ]
     },
     "execution_count": 142,
     "metadata": {},
     "output_type": "execute_result"
    }
   ],
   "source": [
    "crime_yr[crime_yr.isnull().any(axis=1)]"
   ]
  },
  {
   "cell_type": "markdown",
   "metadata": {},
   "source": [
    "## Save"
   ]
  },
  {
   "cell_type": "code",
   "execution_count": null,
   "metadata": {},
   "outputs": [],
   "source": []
  },
  {
   "cell_type": "code",
   "execution_count": 143,
   "metadata": {},
   "outputs": [
    {
     "name": "stdout",
     "output_type": "stream",
     "text": [
      "<class 'pandas.core.frame.DataFrame'>\n",
      "DatetimeIndex: 136262 entries, 1959-06-06 14:00:00 to 2011-01-06 06:00:00\n",
      "Data columns (total 11 columns):\n",
      "Beat           136262 non-null object\n",
      "BlockRange     136262 non-null object\n",
      "StreetName     136262 non-null object\n",
      "OffenseType    136262 non-null object\n",
      "Premise        136262 non-null object\n",
      "NumOffenses    136262 non-null float64\n",
      "Hour           136262 non-null object\n",
      "day            136262 non-null object\n",
      "weekday        136262 non-null object\n",
      "month          136262 non-null object\n",
      "year           136262 non-null object\n",
      "dtypes: float64(1), object(10)\n",
      "memory usage: 12.5+ MB\n"
     ]
    },
    {
     "name": "stderr",
     "output_type": "stream",
     "text": [
      "/home/frank/miniconda3/envs/springboard/lib/python3.6/site-packages/pandas/core/frame.py:3027: SettingWithCopyWarning: \n",
      "A value is trying to be set on a copy of a slice from a DataFrame\n",
      "\n",
      "See the caveats in the documentation: http://pandas.pydata.org/pandas-docs/stable/indexing.html#indexing-view-versus-copy\n",
      "  return super(DataFrame, self).rename(**kwargs)\n"
     ]
    }
   ],
   "source": [
    "# change column name from Premise Descriptionto Premise\n",
    "\n",
    "crime_yr.rename(columns={\n",
    "    'Premise Description': 'Premise',}, inplace=True)\n",
    "crime_yr.info()"
   ]
  },
  {
   "cell_type": "code",
   "execution_count": 144,
   "metadata": {},
   "outputs": [
    {
     "data": {
      "text/html": [
       "<div>\n",
       "<style scoped>\n",
       "    .dataframe tbody tr th:only-of-type {\n",
       "        vertical-align: middle;\n",
       "    }\n",
       "\n",
       "    .dataframe tbody tr th {\n",
       "        vertical-align: top;\n",
       "    }\n",
       "\n",
       "    .dataframe thead th {\n",
       "        text-align: right;\n",
       "    }\n",
       "</style>\n",
       "<table border=\"1\" class=\"dataframe\">\n",
       "  <thead>\n",
       "    <tr style=\"text-align: right;\">\n",
       "      <th></th>\n",
       "      <th>Beat</th>\n",
       "      <th>BlockRange</th>\n",
       "      <th>StreetName</th>\n",
       "      <th>OffenseType</th>\n",
       "      <th>Premise</th>\n",
       "      <th>NumOffenses</th>\n",
       "      <th>Hour</th>\n",
       "      <th>day</th>\n",
       "      <th>weekday</th>\n",
       "      <th>month</th>\n",
       "      <th>year</th>\n",
       "    </tr>\n",
       "    <tr>\n",
       "      <th>Date_Hour</th>\n",
       "      <th></th>\n",
       "      <th></th>\n",
       "      <th></th>\n",
       "      <th></th>\n",
       "      <th></th>\n",
       "      <th></th>\n",
       "      <th></th>\n",
       "      <th></th>\n",
       "      <th></th>\n",
       "      <th></th>\n",
       "      <th></th>\n",
       "    </tr>\n",
       "  </thead>\n",
       "  <tbody>\n",
       "    <tr>\n",
       "      <th>1959-06-06 14:00:00</th>\n",
       "      <td>18F20</td>\n",
       "      <td>5100-5199</td>\n",
       "      <td>RICHMOND</td>\n",
       "      <td>Theft</td>\n",
       "      <td>DEPARTMENT/DISCOUNT STORE</td>\n",
       "      <td>1.0</td>\n",
       "      <td>14</td>\n",
       "      <td>06</td>\n",
       "      <td>Saturday</td>\n",
       "      <td>Jun</td>\n",
       "      <td>1959</td>\n",
       "    </tr>\n",
       "    <tr>\n",
       "      <th>1966-01-01 00:00:00</th>\n",
       "      <td>10H50</td>\n",
       "      <td>3300-3399</td>\n",
       "      <td>ALABAMA</td>\n",
       "      <td>Rape</td>\n",
       "      <td>APARTMENT</td>\n",
       "      <td>1.0</td>\n",
       "      <td>00</td>\n",
       "      <td>01</td>\n",
       "      <td>Saturday</td>\n",
       "      <td>Jan</td>\n",
       "      <td>1966</td>\n",
       "    </tr>\n",
       "    <tr>\n",
       "      <th>1966-07-18 13:00:00</th>\n",
       "      <td>13D40</td>\n",
       "      <td>10200-10299</td>\n",
       "      <td>TELEPHONE</td>\n",
       "      <td>Auto Theft</td>\n",
       "      <td>APARTMENT PARKING LOT</td>\n",
       "      <td>1.0</td>\n",
       "      <td>13</td>\n",
       "      <td>18</td>\n",
       "      <td>Monday</td>\n",
       "      <td>Jul</td>\n",
       "      <td>1966</td>\n",
       "    </tr>\n",
       "    <tr>\n",
       "      <th>1969-07-22 00:00:00</th>\n",
       "      <td>2A30</td>\n",
       "      <td>1500-1599</td>\n",
       "      <td>NICHOLSON</td>\n",
       "      <td>Theft</td>\n",
       "      <td>RESIDENCE/HOUSE</td>\n",
       "      <td>1.0</td>\n",
       "      <td>00</td>\n",
       "      <td>22</td>\n",
       "      <td>Tuesday</td>\n",
       "      <td>Jul</td>\n",
       "      <td>1969</td>\n",
       "    </tr>\n",
       "    <tr>\n",
       "      <th>1969-11-26 15:00:00</th>\n",
       "      <td>3B50</td>\n",
       "      <td>7100-7199</td>\n",
       "      <td>IRVINGTON</td>\n",
       "      <td>Theft</td>\n",
       "      <td>ROAD/STREET/SIDEWALK</td>\n",
       "      <td>1.0</td>\n",
       "      <td>15</td>\n",
       "      <td>26</td>\n",
       "      <td>Wednesday</td>\n",
       "      <td>Nov</td>\n",
       "      <td>1969</td>\n",
       "    </tr>\n",
       "  </tbody>\n",
       "</table>\n",
       "</div>"
      ],
      "text/plain": [
       "                      Beat   BlockRange StreetName OffenseType  \\\n",
       "Date_Hour                                                        \n",
       "1959-06-06 14:00:00  18F20    5100-5199   RICHMOND       Theft   \n",
       "1966-01-01 00:00:00  10H50    3300-3399    ALABAMA        Rape   \n",
       "1966-07-18 13:00:00  13D40  10200-10299  TELEPHONE  Auto Theft   \n",
       "1969-07-22 00:00:00   2A30    1500-1599  NICHOLSON       Theft   \n",
       "1969-11-26 15:00:00   3B50    7100-7199  IRVINGTON       Theft   \n",
       "\n",
       "                                       Premise  NumOffenses Hour day  \\\n",
       "Date_Hour                                                              \n",
       "1959-06-06 14:00:00  DEPARTMENT/DISCOUNT STORE          1.0   14  06   \n",
       "1966-01-01 00:00:00                  APARTMENT          1.0   00  01   \n",
       "1966-07-18 13:00:00      APARTMENT PARKING LOT          1.0   13  18   \n",
       "1969-07-22 00:00:00            RESIDENCE/HOUSE          1.0   00  22   \n",
       "1969-11-26 15:00:00       ROAD/STREET/SIDEWALK          1.0   15  26   \n",
       "\n",
       "                       weekday month  year  \n",
       "Date_Hour                                   \n",
       "1959-06-06 14:00:00   Saturday   Jun  1959  \n",
       "1966-01-01 00:00:00   Saturday   Jan  1966  \n",
       "1966-07-18 13:00:00     Monday   Jul  1966  \n",
       "1969-07-22 00:00:00    Tuesday   Jul  1969  \n",
       "1969-11-26 15:00:00  Wednesday   Nov  1969  "
      ]
     },
     "execution_count": 144,
     "metadata": {},
     "output_type": "execute_result"
    }
   ],
   "source": [
    "crime_yr.head()"
   ]
  },
  {
   "cell_type": "code",
   "execution_count": 145,
   "metadata": {},
   "outputs": [
    {
     "data": {
      "text/plain": [
       "18    8492\n",
       "00    8491\n",
       "22    8097\n",
       "19    7870\n",
       "17    7707\n",
       "20    7662\n",
       "12    7467\n",
       "21    7288\n",
       "15    6568\n",
       "23    6480\n",
       "16    6447\n",
       "14    6065\n",
       "13    5819\n",
       "08    5496\n",
       "11    5164\n",
       "10    5138\n",
       "09    4672\n",
       "07    4596\n",
       "01    3896\n",
       "02    3332\n",
       "06    2985\n",
       "03    2636\n",
       "05    1994\n",
       "04    1900\n",
       "Name: Hour, dtype: int64"
      ]
     },
     "execution_count": 145,
     "metadata": {},
     "output_type": "execute_result"
    }
   ],
   "source": [
    "crime_yr.Hour.value_counts()"
   ]
  },
  {
   "cell_type": "code",
   "execution_count": 146,
   "metadata": {},
   "outputs": [
    {
     "name": "stdout",
     "output_type": "stream",
     "text": [
      "\u001b[0m\u001b[01;32mFinal_crime10_clean.csv\u001b[0m*  \u001b[01;32mFinal_crime13_clean.csv\u001b[0m*  \u001b[01;32mFinal_crime16_clean.csv\u001b[0m*\r\n",
      "\u001b[01;32mFinal_crime11_clean.csv\u001b[0m*  \u001b[01;32mFinal_crime14_clean.csv\u001b[0m*  \u001b[01;32mFinal_crime17_clean.csv\u001b[0m*\r\n",
      "\u001b[01;32mFinal_crime12_clean.csv\u001b[0m*  \u001b[01;32mFinal_crime15_clean.csv\u001b[0m*\r\n"
     ]
    }
   ],
   "source": [
    "ls crime_data_clean/years"
   ]
  },
  {
   "cell_type": "code",
   "execution_count": 147,
   "metadata": {},
   "outputs": [],
   "source": [
    "crime_yr.to_csv('crime_data_clean/years/Final_crime10_clean.csv')"
   ]
  },
  {
   "cell_type": "code",
   "execution_count": 148,
   "metadata": {},
   "outputs": [
    {
     "name": "stdout",
     "output_type": "stream",
     "text": [
      "\u001b[0m\u001b[01;32mFinal_crime10_clean.csv\u001b[0m*  \u001b[01;32mFinal_crime13_clean.csv\u001b[0m*  \u001b[01;32mFinal_crime16_clean.csv\u001b[0m*\r\n",
      "\u001b[01;32mFinal_crime11_clean.csv\u001b[0m*  \u001b[01;32mFinal_crime14_clean.csv\u001b[0m*  \u001b[01;32mFinal_crime17_clean.csv\u001b[0m*\r\n",
      "\u001b[01;32mFinal_crime12_clean.csv\u001b[0m*  \u001b[01;32mFinal_crime15_clean.csv\u001b[0m*\r\n"
     ]
    }
   ],
   "source": [
    "ls crime_data_clean/years"
   ]
  },
  {
   "cell_type": "code",
   "execution_count": null,
   "metadata": {},
   "outputs": [],
   "source": []
  },
  {
   "cell_type": "code",
   "execution_count": 151,
   "metadata": {},
   "outputs": [
    {
     "data": {
      "text/plain": [
       "18    8492\n",
       "00    8491\n",
       "22    8097\n",
       "19    7870\n",
       "17    7707\n",
       "20    7662\n",
       "12    7467\n",
       "21    7288\n",
       "15    6568\n",
       "23    6480\n",
       "16    6447\n",
       "14    6065\n",
       "13    5819\n",
       "08    5496\n",
       "11    5164\n",
       "10    5138\n",
       "09    4672\n",
       "07    4596\n",
       "01    3896\n",
       "02    3332\n",
       "06    2985\n",
       "03    2636\n",
       "05    1994\n",
       "04    1900\n",
       "Name: Hour, dtype: int64"
      ]
     },
     "execution_count": 151,
     "metadata": {},
     "output_type": "execute_result"
    }
   ],
   "source": [
    "crime_yr.Hour.value_counts()"
   ]
  },
  {
   "cell_type": "code",
   "execution_count": null,
   "metadata": {},
   "outputs": [],
   "source": []
  },
  {
   "cell_type": "code",
   "execution_count": null,
   "metadata": {},
   "outputs": [],
   "source": []
  },
  {
   "cell_type": "code",
   "execution_count": null,
   "metadata": {},
   "outputs": [],
   "source": []
  },
  {
   "cell_type": "code",
   "execution_count": null,
   "metadata": {},
   "outputs": [],
   "source": []
  },
  {
   "cell_type": "code",
   "execution_count": null,
   "metadata": {},
   "outputs": [],
   "source": []
  },
  {
   "cell_type": "code",
   "execution_count": null,
   "metadata": {},
   "outputs": [],
   "source": []
  },
  {
   "cell_type": "code",
   "execution_count": null,
   "metadata": {},
   "outputs": [],
   "source": []
  },
  {
   "cell_type": "code",
   "execution_count": null,
   "metadata": {},
   "outputs": [],
   "source": []
  },
  {
   "cell_type": "code",
   "execution_count": null,
   "metadata": {},
   "outputs": [],
   "source": []
  },
  {
   "cell_type": "code",
   "execution_count": null,
   "metadata": {},
   "outputs": [],
   "source": []
  },
  {
   "cell_type": "code",
   "execution_count": null,
   "metadata": {},
   "outputs": [],
   "source": []
  },
  {
   "cell_type": "code",
   "execution_count": null,
   "metadata": {},
   "outputs": [],
   "source": []
  },
  {
   "cell_type": "code",
   "execution_count": null,
   "metadata": {},
   "outputs": [],
   "source": []
  },
  {
   "cell_type": "code",
   "execution_count": null,
   "metadata": {},
   "outputs": [],
   "source": []
  }
 ],
 "metadata": {
  "kernelspec": {
   "display_name": "Python 3",
   "language": "python",
   "name": "python3"
  },
  "language_info": {
   "codemirror_mode": {
    "name": "ipython",
    "version": 3
   },
   "file_extension": ".py",
   "mimetype": "text/x-python",
   "name": "python",
   "nbconvert_exporter": "python",
   "pygments_lexer": "ipython3",
   "version": "3.6.4"
  }
 },
 "nbformat": 4,
 "nbformat_minor": 2
}
