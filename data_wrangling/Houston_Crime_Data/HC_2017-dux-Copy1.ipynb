{
 "cells": [
  {
   "cell_type": "code",
   "execution_count": null,
   "metadata": {},
   "outputs": [],
   "source": []
  },
  {
   "cell_type": "code",
   "execution_count": 1,
   "metadata": {},
   "outputs": [],
   "source": [
    "import pandas as pd\n",
    "import glob, os\n",
    "import numpy as np\n",
    "import matplotlib.pyplot as plt\n",
    "import datetime  as dt\n",
    "import seaborn as sns\n",
    "from datetime import datetime\n",
    "from dateutil.parser import parse"
   ]
  },
  {
   "cell_type": "code",
   "execution_count": null,
   "metadata": {},
   "outputs": [],
   "source": [
    "ls crime_data_raw/2017"
   ]
  },
  {
   "cell_type": "code",
   "execution_count": 2,
   "metadata": {},
   "outputs": [],
   "source": [
    "path = 'crime_data_raw/2017_raw.csv'"
   ]
  },
  {
   "cell_type": "code",
   "execution_count": 3,
   "metadata": {},
   "outputs": [],
   "source": [
    "df = pd.read_csv(path,parse_dates=[['Date', 'Hour']])"
   ]
  },
  {
   "cell_type": "code",
   "execution_count": 4,
   "metadata": {},
   "outputs": [
    {
     "data": {
      "text/html": [
       "<div>\n",
       "<style scoped>\n",
       "    .dataframe tbody tr th:only-of-type {\n",
       "        vertical-align: middle;\n",
       "    }\n",
       "\n",
       "    .dataframe tbody tr th {\n",
       "        vertical-align: top;\n",
       "    }\n",
       "\n",
       "    .dataframe thead th {\n",
       "        text-align: right;\n",
       "    }\n",
       "</style>\n",
       "<table border=\"1\" class=\"dataframe\">\n",
       "  <thead>\n",
       "    <tr style=\"text-align: right;\">\n",
       "      <th></th>\n",
       "      <th>Date_Hour</th>\n",
       "      <th>Unnamed: 0</th>\n",
       "      <th># offenses</th>\n",
       "      <th>Beat</th>\n",
       "      <th>Block Range</th>\n",
       "      <th>BlockRange</th>\n",
       "      <th>Offense Type</th>\n",
       "      <th>Offenses</th>\n",
       "      <th>Premise</th>\n",
       "      <th>Street Name</th>\n",
       "      <th>StreetName</th>\n",
       "      <th>Suffix</th>\n",
       "      <th>Type</th>\n",
       "    </tr>\n",
       "  </thead>\n",
       "  <tbody>\n",
       "    <tr>\n",
       "      <th>0</th>\n",
       "      <td>2017-04-10 15:00:00</td>\n",
       "      <td>0</td>\n",
       "      <td>1.0</td>\n",
       "      <td>10H10</td>\n",
       "      <td>NaN</td>\n",
       "      <td>200-299</td>\n",
       "      <td>Burglary</td>\n",
       "      <td>NaN</td>\n",
       "      <td>Residence or House</td>\n",
       "      <td>NaN</td>\n",
       "      <td>CLIFTON</td>\n",
       "      <td>-</td>\n",
       "      <td>-</td>\n",
       "    </tr>\n",
       "    <tr>\n",
       "      <th>1</th>\n",
       "      <td>2017-04-11 15:00:00</td>\n",
       "      <td>1</td>\n",
       "      <td>1.0</td>\n",
       "      <td>10H10</td>\n",
       "      <td>NaN</td>\n",
       "      <td>2300-2399</td>\n",
       "      <td>Theft</td>\n",
       "      <td>NaN</td>\n",
       "      <td>Restaurant or Cafeteria Parking Lot</td>\n",
       "      <td>NaN</td>\n",
       "      <td>CANAL</td>\n",
       "      <td>-</td>\n",
       "      <td>ST</td>\n",
       "    </tr>\n",
       "    <tr>\n",
       "      <th>2</th>\n",
       "      <td>2017-04-11 17:00:00</td>\n",
       "      <td>2</td>\n",
       "      <td>1.0</td>\n",
       "      <td>10H10</td>\n",
       "      <td>NaN</td>\n",
       "      <td>2300-2399</td>\n",
       "      <td>Theft</td>\n",
       "      <td>NaN</td>\n",
       "      <td>Restaurant or Cafeteria Parking Lot</td>\n",
       "      <td>NaN</td>\n",
       "      <td>CANAL</td>\n",
       "      <td>-</td>\n",
       "      <td>ST</td>\n",
       "    </tr>\n",
       "    <tr>\n",
       "      <th>3</th>\n",
       "      <td>2017-04-12 09:00:00</td>\n",
       "      <td>3</td>\n",
       "      <td>1.0</td>\n",
       "      <td>10H10</td>\n",
       "      <td>NaN</td>\n",
       "      <td>4600-4699</td>\n",
       "      <td>Burglary</td>\n",
       "      <td>NaN</td>\n",
       "      <td>Miscellaneous Business (Non-Specific)</td>\n",
       "      <td>NaN</td>\n",
       "      <td>CANAL</td>\n",
       "      <td>-</td>\n",
       "      <td>ST</td>\n",
       "    </tr>\n",
       "    <tr>\n",
       "      <th>4</th>\n",
       "      <td>2017-04-12 19:00:00</td>\n",
       "      <td>4</td>\n",
       "      <td>1.0</td>\n",
       "      <td>10H10</td>\n",
       "      <td>NaN</td>\n",
       "      <td>100-199</td>\n",
       "      <td>Theft</td>\n",
       "      <td>NaN</td>\n",
       "      <td>Other, Unknown, or Not Listed</td>\n",
       "      <td>NaN</td>\n",
       "      <td>ADAM</td>\n",
       "      <td>-</td>\n",
       "      <td>LN</td>\n",
       "    </tr>\n",
       "  </tbody>\n",
       "</table>\n",
       "</div>"
      ],
      "text/plain": [
       "            Date_Hour  Unnamed: 0  # offenses   Beat Block Range BlockRange  \\\n",
       "0 2017-04-10 15:00:00           0         1.0  10H10         NaN    200-299   \n",
       "1 2017-04-11 15:00:00           1         1.0  10H10         NaN  2300-2399   \n",
       "2 2017-04-11 17:00:00           2         1.0  10H10         NaN  2300-2399   \n",
       "3 2017-04-12 09:00:00           3         1.0  10H10         NaN  4600-4699   \n",
       "4 2017-04-12 19:00:00           4         1.0  10H10         NaN    100-199   \n",
       "\n",
       "  Offense Type  Offenses                                Premise Street Name  \\\n",
       "0     Burglary       NaN                     Residence or House         NaN   \n",
       "1        Theft       NaN    Restaurant or Cafeteria Parking Lot         NaN   \n",
       "2        Theft       NaN    Restaurant or Cafeteria Parking Lot         NaN   \n",
       "3     Burglary       NaN  Miscellaneous Business (Non-Specific)         NaN   \n",
       "4        Theft       NaN          Other, Unknown, or Not Listed         NaN   \n",
       "\n",
       "  StreetName Suffix Type  \n",
       "0    CLIFTON      -    -  \n",
       "1      CANAL      -   ST  \n",
       "2      CANAL      -   ST  \n",
       "3      CANAL      -   ST  \n",
       "4       ADAM      -   LN  "
      ]
     },
     "execution_count": 4,
     "metadata": {},
     "output_type": "execute_result"
    }
   ],
   "source": [
    "df.head()"
   ]
  },
  {
   "cell_type": "markdown",
   "metadata": {},
   "source": [
    "## Inspect Premise col"
   ]
  },
  {
   "cell_type": "code",
   "execution_count": 5,
   "metadata": {},
   "outputs": [
    {
     "data": {
      "text/plain": [
       "253"
      ]
     },
     "execution_count": 5,
     "metadata": {},
     "output_type": "execute_result"
    }
   ],
   "source": [
    "len(df.Premise.value_counts(dropna=False))"
   ]
  },
  {
   "cell_type": "code",
   "execution_count": 6,
   "metadata": {},
   "outputs": [
    {
     "data": {
      "text/plain": [
       "Residence or House           13967\n",
       "Apartment Parking Lot        12838\n",
       "Road, Street, or Sidewalk    11296\n",
       "Apartment                    10248\n",
       "Other Parking Lot             4864\n",
       "Name: Premise, dtype: int64"
      ]
     },
     "execution_count": 6,
     "metadata": {},
     "output_type": "execute_result"
    }
   ],
   "source": [
    "df.Premise.value_counts(dropna=False).head()"
   ]
  },
  {
   "cell_type": "code",
   "execution_count": 7,
   "metadata": {},
   "outputs": [
    {
     "data": {
      "text/plain": [
       "253"
      ]
     },
     "execution_count": 7,
     "metadata": {},
     "output_type": "execute_result"
    }
   ],
   "source": [
    "len(df.Premise.unique())"
   ]
  },
  {
   "cell_type": "code",
   "execution_count": 8,
   "metadata": {},
   "outputs": [],
   "source": [
    "df.Premise = df.Premise.str.strip()"
   ]
  },
  {
   "cell_type": "code",
   "execution_count": 9,
   "metadata": {},
   "outputs": [
    {
     "data": {
      "text/plain": [
       "133"
      ]
     },
     "execution_count": 9,
     "metadata": {},
     "output_type": "execute_result"
    }
   ],
   "source": [
    "len(df.Premise.value_counts(dropna=False))"
   ]
  },
  {
   "cell_type": "code",
   "execution_count": 10,
   "metadata": {},
   "outputs": [
    {
     "data": {
      "text/plain": [
       "Residence or House           15197\n",
       "Apartment Parking Lot        14009\n",
       "Road, Street, or Sidewalk    12408\n",
       "Apartment                    11301\n",
       "Other Parking Lot             5419\n",
       "Name: Premise, dtype: int64"
      ]
     },
     "execution_count": 10,
     "metadata": {},
     "output_type": "execute_result"
    }
   ],
   "source": [
    "df.Premise.value_counts(dropna=False).head()"
   ]
  },
  {
   "cell_type": "code",
   "execution_count": null,
   "metadata": {},
   "outputs": [],
   "source": []
  },
  {
   "cell_type": "code",
   "execution_count": 11,
   "metadata": {},
   "outputs": [
    {
     "data": {
      "text/plain": [
       "True"
      ]
     },
     "execution_count": 11,
     "metadata": {},
     "output_type": "execute_result"
    }
   ],
   "source": [
    "# check if  null values\n",
    "df.isnull().values.any().any()"
   ]
  },
  {
   "cell_type": "code",
   "execution_count": 12,
   "metadata": {},
   "outputs": [
    {
     "data": {
      "text/plain": [
       "359659"
      ]
     },
     "execution_count": 12,
     "metadata": {},
     "output_type": "execute_result"
    }
   ],
   "source": [
    "# check su, of null values\n",
    "df.isnull().values.sum()"
   ]
  },
  {
   "cell_type": "code",
   "execution_count": 13,
   "metadata": {},
   "outputs": [
    {
     "data": {
      "text/plain": [
       "119724"
      ]
     },
     "execution_count": 13,
     "metadata": {},
     "output_type": "execute_result"
    }
   ],
   "source": [
    "len(df[df.isnull().any(axis=1)])"
   ]
  },
  {
   "cell_type": "markdown",
   "metadata": {},
   "source": [
    "## Visualize our data"
   ]
  },
  {
   "cell_type": "code",
   "execution_count": 14,
   "metadata": {},
   "outputs": [
    {
     "data": {
      "image/png": "[encoded data removed]",
      "text/plain": [
       "<Figure size 432x288 with 1 Axes>"
      ]
     },
     "metadata": {},
     "output_type": "display_data"
    }
   ],
   "source": [
    "sns.heatmap(df.isnull(),yticklabels=False,cbar=False,cmap='viridis')\n",
    "plt.title('Nulls display')\n",
    "plt.show()"
   ]
  },
  {
   "cell_type": "markdown",
   "metadata": {},
   "source": [
    "## col cleaning\n",
    "\n",
    "- joining similar columns\n",
    "- renaming"
   ]
  },
  {
   "cell_type": "code",
   "execution_count": 15,
   "metadata": {},
   "outputs": [
    {
     "data": {
      "text/html": [
       "<div>\n",
       "<style scoped>\n",
       "    .dataframe tbody tr th:only-of-type {\n",
       "        vertical-align: middle;\n",
       "    }\n",
       "\n",
       "    .dataframe tbody tr th {\n",
       "        vertical-align: top;\n",
       "    }\n",
       "\n",
       "    .dataframe thead th {\n",
       "        text-align: right;\n",
       "    }\n",
       "</style>\n",
       "<table border=\"1\" class=\"dataframe\">\n",
       "  <thead>\n",
       "    <tr style=\"text-align: right;\">\n",
       "      <th></th>\n",
       "      <th>Date_Hour</th>\n",
       "      <th>Unnamed: 0</th>\n",
       "      <th># offenses</th>\n",
       "      <th>Beat</th>\n",
       "      <th>Block Range</th>\n",
       "      <th>BlockRange</th>\n",
       "      <th>Offense Type</th>\n",
       "      <th>Offenses</th>\n",
       "      <th>Premise</th>\n",
       "      <th>Street Name</th>\n",
       "      <th>StreetName</th>\n",
       "      <th>Suffix</th>\n",
       "      <th>Type</th>\n",
       "    </tr>\n",
       "  </thead>\n",
       "  <tbody>\n",
       "    <tr>\n",
       "      <th>0</th>\n",
       "      <td>2017-04-10 15:00:00</td>\n",
       "      <td>0</td>\n",
       "      <td>1.0</td>\n",
       "      <td>10H10</td>\n",
       "      <td>NaN</td>\n",
       "      <td>200-299</td>\n",
       "      <td>Burglary</td>\n",
       "      <td>NaN</td>\n",
       "      <td>Residence or House</td>\n",
       "      <td>NaN</td>\n",
       "      <td>CLIFTON</td>\n",
       "      <td>-</td>\n",
       "      <td>-</td>\n",
       "    </tr>\n",
       "    <tr>\n",
       "      <th>1</th>\n",
       "      <td>2017-04-11 15:00:00</td>\n",
       "      <td>1</td>\n",
       "      <td>1.0</td>\n",
       "      <td>10H10</td>\n",
       "      <td>NaN</td>\n",
       "      <td>2300-2399</td>\n",
       "      <td>Theft</td>\n",
       "      <td>NaN</td>\n",
       "      <td>Restaurant or Cafeteria Parking Lot</td>\n",
       "      <td>NaN</td>\n",
       "      <td>CANAL</td>\n",
       "      <td>-</td>\n",
       "      <td>ST</td>\n",
       "    </tr>\n",
       "    <tr>\n",
       "      <th>2</th>\n",
       "      <td>2017-04-11 17:00:00</td>\n",
       "      <td>2</td>\n",
       "      <td>1.0</td>\n",
       "      <td>10H10</td>\n",
       "      <td>NaN</td>\n",
       "      <td>2300-2399</td>\n",
       "      <td>Theft</td>\n",
       "      <td>NaN</td>\n",
       "      <td>Restaurant or Cafeteria Parking Lot</td>\n",
       "      <td>NaN</td>\n",
       "      <td>CANAL</td>\n",
       "      <td>-</td>\n",
       "      <td>ST</td>\n",
       "    </tr>\n",
       "    <tr>\n",
       "      <th>3</th>\n",
       "      <td>2017-04-12 09:00:00</td>\n",
       "      <td>3</td>\n",
       "      <td>1.0</td>\n",
       "      <td>10H10</td>\n",
       "      <td>NaN</td>\n",
       "      <td>4600-4699</td>\n",
       "      <td>Burglary</td>\n",
       "      <td>NaN</td>\n",
       "      <td>Miscellaneous Business (Non-Specific)</td>\n",
       "      <td>NaN</td>\n",
       "      <td>CANAL</td>\n",
       "      <td>-</td>\n",
       "      <td>ST</td>\n",
       "    </tr>\n",
       "    <tr>\n",
       "      <th>4</th>\n",
       "      <td>2017-04-12 19:00:00</td>\n",
       "      <td>4</td>\n",
       "      <td>1.0</td>\n",
       "      <td>10H10</td>\n",
       "      <td>NaN</td>\n",
       "      <td>100-199</td>\n",
       "      <td>Theft</td>\n",
       "      <td>NaN</td>\n",
       "      <td>Other, Unknown, or Not Listed</td>\n",
       "      <td>NaN</td>\n",
       "      <td>ADAM</td>\n",
       "      <td>-</td>\n",
       "      <td>LN</td>\n",
       "    </tr>\n",
       "  </tbody>\n",
       "</table>\n",
       "</div>"
      ],
      "text/plain": [
       "            Date_Hour  Unnamed: 0  # offenses   Beat Block Range BlockRange  \\\n",
       "0 2017-04-10 15:00:00           0         1.0  10H10         NaN    200-299   \n",
       "1 2017-04-11 15:00:00           1         1.0  10H10         NaN  2300-2399   \n",
       "2 2017-04-11 17:00:00           2         1.0  10H10         NaN  2300-2399   \n",
       "3 2017-04-12 09:00:00           3         1.0  10H10         NaN  4600-4699   \n",
       "4 2017-04-12 19:00:00           4         1.0  10H10         NaN    100-199   \n",
       "\n",
       "  Offense Type  Offenses                                Premise Street Name  \\\n",
       "0     Burglary       NaN                     Residence or House         NaN   \n",
       "1        Theft       NaN    Restaurant or Cafeteria Parking Lot         NaN   \n",
       "2        Theft       NaN    Restaurant or Cafeteria Parking Lot         NaN   \n",
       "3     Burglary       NaN  Miscellaneous Business (Non-Specific)         NaN   \n",
       "4        Theft       NaN          Other, Unknown, or Not Listed         NaN   \n",
       "\n",
       "  StreetName Suffix Type  \n",
       "0    CLIFTON      -    -  \n",
       "1      CANAL      -   ST  \n",
       "2      CANAL      -   ST  \n",
       "3      CANAL      -   ST  \n",
       "4       ADAM      -   LN  "
      ]
     },
     "execution_count": 15,
     "metadata": {},
     "output_type": "execute_result"
    }
   ],
   "source": [
    "df.head()"
   ]
  },
  {
   "cell_type": "code",
   "execution_count": 16,
   "metadata": {},
   "outputs": [],
   "source": [
    "# if duplicate columns\n",
    "df['BlockRange'] = pd.concat([df['Block Range'].dropna(),\n",
    "                              df['BlockRange'].dropna()]).reindex_like(df)\n",
    "\n",
    "df['StreetName'] = pd.concat([df['Street Name'].dropna(),\n",
    "                              df['StreetName'].dropna()]).reindex_like(df)\n",
    "\n",
    "df['# offenses'] = pd.concat([df['# offenses'].dropna(),\n",
    "                              df['Offenses'].dropna()]).reindex_like(df)"
   ]
  },
  {
   "cell_type": "code",
   "execution_count": 17,
   "metadata": {},
   "outputs": [
    {
     "data": {
      "text/html": [
       "<div>\n",
       "<style scoped>\n",
       "    .dataframe tbody tr th:only-of-type {\n",
       "        vertical-align: middle;\n",
       "    }\n",
       "\n",
       "    .dataframe tbody tr th {\n",
       "        vertical-align: top;\n",
       "    }\n",
       "\n",
       "    .dataframe thead th {\n",
       "        text-align: right;\n",
       "    }\n",
       "</style>\n",
       "<table border=\"1\" class=\"dataframe\">\n",
       "  <thead>\n",
       "    <tr style=\"text-align: right;\">\n",
       "      <th></th>\n",
       "      <th>Date_Hour</th>\n",
       "      <th>Unnamed: 0</th>\n",
       "      <th># offenses</th>\n",
       "      <th>Beat</th>\n",
       "      <th>Block Range</th>\n",
       "      <th>BlockRange</th>\n",
       "      <th>Offense Type</th>\n",
       "      <th>Offenses</th>\n",
       "      <th>Premise</th>\n",
       "      <th>Street Name</th>\n",
       "      <th>StreetName</th>\n",
       "      <th>Suffix</th>\n",
       "      <th>Type</th>\n",
       "    </tr>\n",
       "  </thead>\n",
       "  <tbody>\n",
       "    <tr>\n",
       "      <th>0</th>\n",
       "      <td>2017-04-10 15:00:00</td>\n",
       "      <td>0</td>\n",
       "      <td>1.0</td>\n",
       "      <td>10H10</td>\n",
       "      <td>NaN</td>\n",
       "      <td>200-299</td>\n",
       "      <td>Burglary</td>\n",
       "      <td>NaN</td>\n",
       "      <td>Residence or House</td>\n",
       "      <td>NaN</td>\n",
       "      <td>CLIFTON</td>\n",
       "      <td>-</td>\n",
       "      <td>-</td>\n",
       "    </tr>\n",
       "    <tr>\n",
       "      <th>1</th>\n",
       "      <td>2017-04-11 15:00:00</td>\n",
       "      <td>1</td>\n",
       "      <td>1.0</td>\n",
       "      <td>10H10</td>\n",
       "      <td>NaN</td>\n",
       "      <td>2300-2399</td>\n",
       "      <td>Theft</td>\n",
       "      <td>NaN</td>\n",
       "      <td>Restaurant or Cafeteria Parking Lot</td>\n",
       "      <td>NaN</td>\n",
       "      <td>CANAL</td>\n",
       "      <td>-</td>\n",
       "      <td>ST</td>\n",
       "    </tr>\n",
       "    <tr>\n",
       "      <th>2</th>\n",
       "      <td>2017-04-11 17:00:00</td>\n",
       "      <td>2</td>\n",
       "      <td>1.0</td>\n",
       "      <td>10H10</td>\n",
       "      <td>NaN</td>\n",
       "      <td>2300-2399</td>\n",
       "      <td>Theft</td>\n",
       "      <td>NaN</td>\n",
       "      <td>Restaurant or Cafeteria Parking Lot</td>\n",
       "      <td>NaN</td>\n",
       "      <td>CANAL</td>\n",
       "      <td>-</td>\n",
       "      <td>ST</td>\n",
       "    </tr>\n",
       "    <tr>\n",
       "      <th>3</th>\n",
       "      <td>2017-04-12 09:00:00</td>\n",
       "      <td>3</td>\n",
       "      <td>1.0</td>\n",
       "      <td>10H10</td>\n",
       "      <td>NaN</td>\n",
       "      <td>4600-4699</td>\n",
       "      <td>Burglary</td>\n",
       "      <td>NaN</td>\n",
       "      <td>Miscellaneous Business (Non-Specific)</td>\n",
       "      <td>NaN</td>\n",
       "      <td>CANAL</td>\n",
       "      <td>-</td>\n",
       "      <td>ST</td>\n",
       "    </tr>\n",
       "    <tr>\n",
       "      <th>4</th>\n",
       "      <td>2017-04-12 19:00:00</td>\n",
       "      <td>4</td>\n",
       "      <td>1.0</td>\n",
       "      <td>10H10</td>\n",
       "      <td>NaN</td>\n",
       "      <td>100-199</td>\n",
       "      <td>Theft</td>\n",
       "      <td>NaN</td>\n",
       "      <td>Other, Unknown, or Not Listed</td>\n",
       "      <td>NaN</td>\n",
       "      <td>ADAM</td>\n",
       "      <td>-</td>\n",
       "      <td>LN</td>\n",
       "    </tr>\n",
       "  </tbody>\n",
       "</table>\n",
       "</div>"
      ],
      "text/plain": [
       "            Date_Hour  Unnamed: 0  # offenses   Beat Block Range BlockRange  \\\n",
       "0 2017-04-10 15:00:00           0         1.0  10H10         NaN    200-299   \n",
       "1 2017-04-11 15:00:00           1         1.0  10H10         NaN  2300-2399   \n",
       "2 2017-04-11 17:00:00           2         1.0  10H10         NaN  2300-2399   \n",
       "3 2017-04-12 09:00:00           3         1.0  10H10         NaN  4600-4699   \n",
       "4 2017-04-12 19:00:00           4         1.0  10H10         NaN    100-199   \n",
       "\n",
       "  Offense Type  Offenses                                Premise Street Name  \\\n",
       "0     Burglary       NaN                     Residence or House         NaN   \n",
       "1        Theft       NaN    Restaurant or Cafeteria Parking Lot         NaN   \n",
       "2        Theft       NaN    Restaurant or Cafeteria Parking Lot         NaN   \n",
       "3     Burglary       NaN  Miscellaneous Business (Non-Specific)         NaN   \n",
       "4        Theft       NaN          Other, Unknown, or Not Listed         NaN   \n",
       "\n",
       "  StreetName Suffix Type  \n",
       "0    CLIFTON      -    -  \n",
       "1      CANAL      -   ST  \n",
       "2      CANAL      -   ST  \n",
       "3      CANAL      -   ST  \n",
       "4       ADAM      -   LN  "
      ]
     },
     "execution_count": 17,
     "metadata": {},
     "output_type": "execute_result"
    }
   ],
   "source": [
    "df.head()"
   ]
  },
  {
   "cell_type": "code",
   "execution_count": 18,
   "metadata": {},
   "outputs": [],
   "source": [
    "df.rename(columns={\n",
    "    '# offenses': 'NumOffenses',\n",
    "     'Offense Type': 'OffenseType',\n",
    "}, inplace=True)"
   ]
  },
  {
   "cell_type": "code",
   "execution_count": 19,
   "metadata": {},
   "outputs": [
    {
     "data": {
      "image/png": "[encoded data removed]",
      "text/plain": [
       "<Figure size 432x288 with 1 Axes>"
      ]
     },
     "metadata": {},
     "output_type": "display_data"
    }
   ],
   "source": [
    "sns.heatmap(df.isnull(),yticklabels=False,cbar=False,cmap='viridis')\n",
    "plt.title('Null dataset display')\n",
    "plt.show()"
   ]
  },
  {
   "cell_type": "markdown",
   "metadata": {},
   "source": [
    "## Subset dataframe to work on "
   ]
  },
  {
   "cell_type": "code",
   "execution_count": 20,
   "metadata": {},
   "outputs": [
    {
     "name": "stdout",
     "output_type": "stream",
     "text": [
      "<class 'pandas.core.frame.DataFrame'>\n",
      "RangeIndex: 119724 entries, 0 to 119723\n",
      "Data columns (total 7 columns):\n",
      "Date_Hour      119724 non-null datetime64[ns]\n",
      "Beat           119724 non-null object\n",
      "BlockRange     119724 non-null object\n",
      "StreetName     119724 non-null object\n",
      "OffenseType    119724 non-null object\n",
      "Premise        119237 non-null object\n",
      "NumOffenses    119724 non-null float64\n",
      "dtypes: datetime64[ns](1), float64(1), object(5)\n",
      "memory usage: 6.4+ MB\n"
     ]
    }
   ],
   "source": [
    "crimes = df[['Date_Hour','Beat','BlockRange','StreetName','OffenseType','Premise','NumOffenses']]\n",
    "crimes.info()"
   ]
  },
  {
   "cell_type": "code",
   "execution_count": 21,
   "metadata": {},
   "outputs": [
    {
     "data": {
      "image/png": "[encoded data removed]",
      "text/plain": [
       "<Figure size 432x288 with 1 Axes>"
      ]
     },
     "metadata": {},
     "output_type": "display_data"
    }
   ],
   "source": [
    "sns.heatmap(crimes.isnull(),yticklabels=False,cbar=False,cmap='viridis')\n",
    "plt.title('Null dataset display')\n",
    "plt.show()"
   ]
  },
  {
   "cell_type": "markdown",
   "metadata": {},
   "source": [
    "# FIND NAN onevery col"
   ]
  },
  {
   "cell_type": "code",
   "execution_count": 22,
   "metadata": {},
   "outputs": [
    {
     "data": {
      "text/plain": [
       "487"
      ]
     },
     "execution_count": 22,
     "metadata": {},
     "output_type": "execute_result"
    }
   ],
   "source": [
    "len(crimes[crimes.isnull().any(axis=1)])"
   ]
  },
  {
   "cell_type": "code",
   "execution_count": 23,
   "metadata": {},
   "outputs": [
    {
     "data": {
      "text/html": [
       "<div>\n",
       "<style scoped>\n",
       "    .dataframe tbody tr th:only-of-type {\n",
       "        vertical-align: middle;\n",
       "    }\n",
       "\n",
       "    .dataframe tbody tr th {\n",
       "        vertical-align: top;\n",
       "    }\n",
       "\n",
       "    .dataframe thead th {\n",
       "        text-align: right;\n",
       "    }\n",
       "</style>\n",
       "<table border=\"1\" class=\"dataframe\">\n",
       "  <thead>\n",
       "    <tr style=\"text-align: right;\">\n",
       "      <th></th>\n",
       "      <th>Date_Hour</th>\n",
       "      <th>Beat</th>\n",
       "      <th>BlockRange</th>\n",
       "      <th>StreetName</th>\n",
       "      <th>OffenseType</th>\n",
       "      <th>Premise</th>\n",
       "      <th>NumOffenses</th>\n",
       "    </tr>\n",
       "  </thead>\n",
       "  <tbody>\n",
       "    <tr>\n",
       "      <th>30</th>\n",
       "      <td>2017-04-29 21:00:00</td>\n",
       "      <td>10H10</td>\n",
       "      <td>4700-4799</td>\n",
       "      <td>HARRISBURG</td>\n",
       "      <td>Burglary</td>\n",
       "      <td>NaN</td>\n",
       "      <td>1.0</td>\n",
       "    </tr>\n",
       "    <tr>\n",
       "      <th>132</th>\n",
       "      <td>2017-04-16 07:00:00</td>\n",
       "      <td>10H40</td>\n",
       "      <td>2700-2799</td>\n",
       "      <td>TRAVIS</td>\n",
       "      <td>Burglary</td>\n",
       "      <td>NaN</td>\n",
       "      <td>1.0</td>\n",
       "    </tr>\n",
       "    <tr>\n",
       "      <th>185</th>\n",
       "      <td>2017-04-06 22:00:00</td>\n",
       "      <td>10H40</td>\n",
       "      <td>1500-1599</td>\n",
       "      <td>HADLEY</td>\n",
       "      <td>Theft</td>\n",
       "      <td>NaN</td>\n",
       "      <td>1.0</td>\n",
       "    </tr>\n",
       "    <tr>\n",
       "      <th>259</th>\n",
       "      <td>2017-04-18 01:00:00</td>\n",
       "      <td>10H50</td>\n",
       "      <td>3900-3999</td>\n",
       "      <td>DENNIS</td>\n",
       "      <td>Theft</td>\n",
       "      <td>NaN</td>\n",
       "      <td>1.0</td>\n",
       "    </tr>\n",
       "    <tr>\n",
       "      <th>391</th>\n",
       "      <td>2017-04-04 22:00:00</td>\n",
       "      <td>10H60</td>\n",
       "      <td>2800-2899</td>\n",
       "      <td>SOUTHMORE</td>\n",
       "      <td>Aggravated Assault</td>\n",
       "      <td>NaN</td>\n",
       "      <td>1.0</td>\n",
       "    </tr>\n",
       "  </tbody>\n",
       "</table>\n",
       "</div>"
      ],
      "text/plain": [
       "              Date_Hour   Beat BlockRange  StreetName         OffenseType  \\\n",
       "30  2017-04-29 21:00:00  10H10  4700-4799  HARRISBURG            Burglary   \n",
       "132 2017-04-16 07:00:00  10H40  2700-2799      TRAVIS            Burglary   \n",
       "185 2017-04-06 22:00:00  10H40  1500-1599      HADLEY               Theft   \n",
       "259 2017-04-18 01:00:00  10H50  3900-3999      DENNIS               Theft   \n",
       "391 2017-04-04 22:00:00  10H60  2800-2899   SOUTHMORE  Aggravated Assault   \n",
       "\n",
       "    Premise  NumOffenses  \n",
       "30      NaN          1.0  \n",
       "132     NaN          1.0  \n",
       "185     NaN          1.0  \n",
       "259     NaN          1.0  \n",
       "391     NaN          1.0  "
      ]
     },
     "execution_count": 23,
     "metadata": {},
     "output_type": "execute_result"
    }
   ],
   "source": [
    "crimes[crimes.isnull().any(axis=1)].head()"
   ]
  },
  {
   "cell_type": "markdown",
   "metadata": {},
   "source": [
    "## Find NaN\n",
    "- drop if > 2 nan"
   ]
  },
  {
   "cell_type": "code",
   "execution_count": 24,
   "metadata": {},
   "outputs": [
    {
     "name": "stdout",
     "output_type": "stream",
     "text": [
      "<class 'pandas.core.frame.DataFrame'>\n",
      "RangeIndex: 119724 entries, 0 to 119723\n",
      "Data columns (total 7 columns):\n",
      "Date_Hour      119724 non-null datetime64[ns]\n",
      "Beat           119724 non-null object\n",
      "BlockRange     119724 non-null object\n",
      "StreetName     119724 non-null object\n",
      "OffenseType    119724 non-null object\n",
      "Premise        119237 non-null object\n",
      "NumOffenses    119724 non-null float64\n",
      "dtypes: datetime64[ns](1), float64(1), object(5)\n",
      "memory usage: 6.4+ MB\n"
     ]
    }
   ],
   "source": [
    "crimes.info()"
   ]
  },
  {
   "cell_type": "code",
   "execution_count": 25,
   "metadata": {},
   "outputs": [
    {
     "data": {
      "text/plain": [
       "487"
      ]
     },
     "execution_count": 25,
     "metadata": {},
     "output_type": "execute_result"
    }
   ],
   "source": [
    "len(crimes[crimes.isnull().any(axis=1)])"
   ]
  },
  {
   "cell_type": "code",
   "execution_count": 26,
   "metadata": {},
   "outputs": [
    {
     "data": {
      "text/html": [
       "<div>\n",
       "<style scoped>\n",
       "    .dataframe tbody tr th:only-of-type {\n",
       "        vertical-align: middle;\n",
       "    }\n",
       "\n",
       "    .dataframe tbody tr th {\n",
       "        vertical-align: top;\n",
       "    }\n",
       "\n",
       "    .dataframe thead th {\n",
       "        text-align: right;\n",
       "    }\n",
       "</style>\n",
       "<table border=\"1\" class=\"dataframe\">\n",
       "  <thead>\n",
       "    <tr style=\"text-align: right;\">\n",
       "      <th></th>\n",
       "      <th>Date_Hour</th>\n",
       "      <th>Beat</th>\n",
       "      <th>BlockRange</th>\n",
       "      <th>StreetName</th>\n",
       "      <th>OffenseType</th>\n",
       "      <th>Premise</th>\n",
       "      <th>NumOffenses</th>\n",
       "    </tr>\n",
       "  </thead>\n",
       "  <tbody>\n",
       "    <tr>\n",
       "      <th>30</th>\n",
       "      <td>2017-04-29 21:00:00</td>\n",
       "      <td>10H10</td>\n",
       "      <td>4700-4799</td>\n",
       "      <td>HARRISBURG</td>\n",
       "      <td>Burglary</td>\n",
       "      <td>NaN</td>\n",
       "      <td>1.0</td>\n",
       "    </tr>\n",
       "    <tr>\n",
       "      <th>132</th>\n",
       "      <td>2017-04-16 07:00:00</td>\n",
       "      <td>10H40</td>\n",
       "      <td>2700-2799</td>\n",
       "      <td>TRAVIS</td>\n",
       "      <td>Burglary</td>\n",
       "      <td>NaN</td>\n",
       "      <td>1.0</td>\n",
       "    </tr>\n",
       "    <tr>\n",
       "      <th>185</th>\n",
       "      <td>2017-04-06 22:00:00</td>\n",
       "      <td>10H40</td>\n",
       "      <td>1500-1599</td>\n",
       "      <td>HADLEY</td>\n",
       "      <td>Theft</td>\n",
       "      <td>NaN</td>\n",
       "      <td>1.0</td>\n",
       "    </tr>\n",
       "    <tr>\n",
       "      <th>259</th>\n",
       "      <td>2017-04-18 01:00:00</td>\n",
       "      <td>10H50</td>\n",
       "      <td>3900-3999</td>\n",
       "      <td>DENNIS</td>\n",
       "      <td>Theft</td>\n",
       "      <td>NaN</td>\n",
       "      <td>1.0</td>\n",
       "    </tr>\n",
       "    <tr>\n",
       "      <th>391</th>\n",
       "      <td>2017-04-04 22:00:00</td>\n",
       "      <td>10H60</td>\n",
       "      <td>2800-2899</td>\n",
       "      <td>SOUTHMORE</td>\n",
       "      <td>Aggravated Assault</td>\n",
       "      <td>NaN</td>\n",
       "      <td>1.0</td>\n",
       "    </tr>\n",
       "  </tbody>\n",
       "</table>\n",
       "</div>"
      ],
      "text/plain": [
       "              Date_Hour   Beat BlockRange  StreetName         OffenseType  \\\n",
       "30  2017-04-29 21:00:00  10H10  4700-4799  HARRISBURG            Burglary   \n",
       "132 2017-04-16 07:00:00  10H40  2700-2799      TRAVIS            Burglary   \n",
       "185 2017-04-06 22:00:00  10H40  1500-1599      HADLEY               Theft   \n",
       "259 2017-04-18 01:00:00  10H50  3900-3999      DENNIS               Theft   \n",
       "391 2017-04-04 22:00:00  10H60  2800-2899   SOUTHMORE  Aggravated Assault   \n",
       "\n",
       "    Premise  NumOffenses  \n",
       "30      NaN          1.0  \n",
       "132     NaN          1.0  \n",
       "185     NaN          1.0  \n",
       "259     NaN          1.0  \n",
       "391     NaN          1.0  "
      ]
     },
     "execution_count": 26,
     "metadata": {},
     "output_type": "execute_result"
    }
   ],
   "source": [
    "crimes[crimes.isnull().any(axis=1)].head()"
   ]
  },
  {
   "cell_type": "markdown",
   "metadata": {},
   "source": [
    "## Inspect each column"
   ]
  },
  {
   "cell_type": "code",
   "execution_count": 27,
   "metadata": {},
   "outputs": [
    {
     "data": {
      "text/plain": [
       "Date_Hour      datetime64[ns]\n",
       "Beat                   object\n",
       "BlockRange             object\n",
       "StreetName             object\n",
       "OffenseType            object\n",
       "Premise                object\n",
       "NumOffenses           float64\n",
       "dtype: object"
      ]
     },
     "execution_count": 27,
     "metadata": {},
     "output_type": "execute_result"
    }
   ],
   "source": [
    "crimes.dtypes"
   ]
  },
  {
   "cell_type": "markdown",
   "metadata": {},
   "source": [
    "## Beat\n",
    "- 120 beats"
   ]
  },
  {
   "cell_type": "code",
   "execution_count": 28,
   "metadata": {},
   "outputs": [
    {
     "data": {
      "text/plain": [
       "237"
      ]
     },
     "execution_count": 28,
     "metadata": {},
     "output_type": "execute_result"
    }
   ],
   "source": [
    "len(crimes.Beat.value_counts())"
   ]
  },
  {
   "cell_type": "code",
   "execution_count": 29,
   "metadata": {},
   "outputs": [
    {
     "data": {
      "text/plain": [
       "237"
      ]
     },
     "execution_count": 29,
     "metadata": {},
     "output_type": "execute_result"
    }
   ],
   "source": [
    "len(crimes.Beat.value_counts(dropna=False))"
   ]
  },
  {
   "cell_type": "code",
   "execution_count": 30,
   "metadata": {},
   "outputs": [
    {
     "data": {
      "text/plain": [
       "array(['10H10', '10H20', '10H30', '10H40', '10H50', '10H60', '10H70',\n",
       "       '10H80', '11H10', '11H20', '11H30', '11H40', '11H50', '12D10',\n",
       "       '12D20', '12D30', '12D40', '12D50', '12D60', '12D70', '13D10',\n",
       "       '13D20', '13D30', '13D40', '14D10', '14D20', '14D30', '14D40',\n",
       "       '14D50', '15E10', '15E20', '15E30', '15E40', '16E10', '16E20',\n",
       "       '16E30', '16E40', '17E10', '17E20', '17E30', '17E40', '18F10',\n",
       "       '18F20', '18F30', '18F40', '18F50', '18F60', '19G10', '19G20',\n",
       "       '19G30', '19G40', '19G50', '1A10', '1A20', '1A30', '1A40', '1A50',\n",
       "       '20G10', '20G20', '20G30', '20G40', '20G50', '20G60', '20G70',\n",
       "       '20G80', '21I10', '21I20', '21I30', '21I40', '21I50', '21I60',\n",
       "       '21I70', '23J50', '24C10', '24C20', '24C30', '24C40', '24C50',\n",
       "       '24C60', '2A10', '2A20', '2A30', '2A40', '2A50', '2A60', '3B10',\n",
       "       '3B30', '3B40', '3B50', '4F10', '4F20', '4F30', '5F10', '5F20',\n",
       "       '5F30', '5F40', '6B10', '6B20', '6B30', '6B40', '6B50', '6B60',\n",
       "       '7C10', '7C20', '7C30', '7C40', '7C50', '8C10', '8C20', '8C30',\n",
       "       '8C40', '8C50', '8C60', '9C10', '9C20', '9C30', '9C40', 'UH-3P',\n",
       "       'UNK', '23J40', '10H10 ', '10H20 ', '10H30 ', '10H40 ', '10H50 ',\n",
       "       '10H60 ', '10H70 ', '10H80 ', '11H10 ', '11H20 ', '11H30 ',\n",
       "       '11H40 ', '11H50 ', '12D10 ', '12D20 ', '12D30 ', '12D40 ',\n",
       "       '12D50 ', '12D60 ', '12D70 ', '13D10 ', '13D20 ', '13D30 ',\n",
       "       '13D40 ', '14D10 ', '14D20 ', '14D30 ', '14D40 ', '14D50 ',\n",
       "       '15E10 ', '15E20 ', '15E30 ', '15E40 ', '16E10 ', '16E20 ',\n",
       "       '16E30 ', '16E40 ', '17E10 ', '17E20 ', '17E30 ', '17E40 ',\n",
       "       '18F10 ', '18F20 ', '18F30 ', '18F40 ', '18F50 ', '18F60 ',\n",
       "       '19G10 ', '19G20 ', '19G30 ', '19G40 ', '19G50 ', '1A10  ',\n",
       "       '1A20  ', '1A30  ', '1A40  ', '1A50  ', '20G10 ', '20G20 ',\n",
       "       '20G30 ', '20G40 ', '20G50 ', '20G60 ', '20G70 ', '20G80 ',\n",
       "       '21I10 ', '21I20 ', '21I40 ', '21I50 ', '21I60 ', '21I70 ',\n",
       "       '23J50 ', '24C10 ', '24C20 ', '24C30 ', '24C40 ', '24C50 ',\n",
       "       '24C60 ', '2A10  ', '2A20  ', '2A30  ', '2A40  ', '2A50  ',\n",
       "       '2A60  ', '3B10  ', '3B30  ', '3B40  ', '3B50  ', '4F10  ',\n",
       "       '4F20  ', '4F30  ', '5F10  ', '5F20  ', '5F30  ', '5F40  ',\n",
       "       '6B10  ', '6B20  ', '6B30  ', '6B40  ', '6B50  ', '6B60  ',\n",
       "       '7C10  ', '7C20  ', '7C30  ', '7C40  ', '7C50  ', '8C10  ',\n",
       "       '8C20  ', '8C30  ', '8C40  ', '8C50  ', '8C60  ', '9C10  ',\n",
       "       '9C20  ', '9C30  ', '9C40  ', 'UNK   '], dtype=object)"
      ]
     },
     "execution_count": 30,
     "metadata": {},
     "output_type": "execute_result"
    }
   ],
   "source": [
    "crimes.Beat.unique()"
   ]
  },
  {
   "cell_type": "code",
   "execution_count": 31,
   "metadata": {},
   "outputs": [
    {
     "name": "stderr",
     "output_type": "stream",
     "text": [
      "/home/frank/miniconda3/envs/springboard/lib/python3.6/site-packages/ipykernel_launcher.py:2: SettingWithCopyWarning: \n",
      "A value is trying to be set on a copy of a slice from a DataFrame.\n",
      "Try using .loc[row_indexer,col_indexer] = value instead\n",
      "\n",
      "See the caveats in the documentation: http://pandas.pydata.org/pandas-docs/stable/indexing.html#indexing-view-versus-copy\n",
      "  \n"
     ]
    }
   ],
   "source": [
    "# replace extra ' with empty space\n",
    "crimes['Beat'] = crimes.Beat.str.replace(\"'\", \" \")"
   ]
  },
  {
   "cell_type": "code",
   "execution_count": 32,
   "metadata": {},
   "outputs": [
    {
     "data": {
      "text/plain": [
       "237"
      ]
     },
     "execution_count": 32,
     "metadata": {},
     "output_type": "execute_result"
    }
   ],
   "source": [
    "len(crimes.Beat.value_counts(dropna=False))"
   ]
  },
  {
   "cell_type": "code",
   "execution_count": 33,
   "metadata": {},
   "outputs": [
    {
     "name": "stderr",
     "output_type": "stream",
     "text": [
      "/home/frank/miniconda3/envs/springboard/lib/python3.6/site-packages/pandas/core/generic.py:3643: SettingWithCopyWarning: \n",
      "A value is trying to be set on a copy of a slice from a DataFrame.\n",
      "Try using .loc[row_indexer,col_indexer] = value instead\n",
      "\n",
      "See the caveats in the documentation: http://pandas.pydata.org/pandas-docs/stable/indexing.html#indexing-view-versus-copy\n",
      "  self[name] = value\n"
     ]
    }
   ],
   "source": [
    "# strip empty spaces\n",
    "crimes.Beat = crimes.Beat.str.strip()"
   ]
  },
  {
   "cell_type": "code",
   "execution_count": 34,
   "metadata": {},
   "outputs": [
    {
     "data": {
      "text/plain": [
       "120"
      ]
     },
     "execution_count": 34,
     "metadata": {},
     "output_type": "execute_result"
    }
   ],
   "source": [
    "len(crimes.Beat.value_counts(dropna=False))  # get the total"
   ]
  },
  {
   "cell_type": "code",
   "execution_count": 35,
   "metadata": {},
   "outputs": [
    {
     "data": {
      "text/plain": [
       "array(['10H10', '10H20', '10H30', '10H40', '10H50', '10H60', '10H70',\n",
       "       '10H80', '11H10', '11H20', '11H30', '11H40', '11H50', '12D10',\n",
       "       '12D20', '12D30', '12D40', '12D50', '12D60', '12D70', '13D10',\n",
       "       '13D20', '13D30', '13D40', '14D10', '14D20', '14D30', '14D40',\n",
       "       '14D50', '15E10', '15E20', '15E30', '15E40', '16E10', '16E20',\n",
       "       '16E30', '16E40', '17E10', '17E20', '17E30', '17E40', '18F10',\n",
       "       '18F20', '18F30', '18F40', '18F50', '18F60', '19G10', '19G20',\n",
       "       '19G30', '19G40', '19G50', '1A10', '1A20', '1A30', '1A40', '1A50',\n",
       "       '20G10', '20G20', '20G30', '20G40', '20G50', '20G60', '20G70',\n",
       "       '20G80', '21I10', '21I20', '21I30', '21I40', '21I50', '21I60',\n",
       "       '21I70', '23J50', '24C10', '24C20', '24C30', '24C40', '24C50',\n",
       "       '24C60', '2A10', '2A20', '2A30', '2A40', '2A50', '2A60', '3B10',\n",
       "       '3B30', '3B40', '3B50', '4F10', '4F20', '4F30', '5F10', '5F20',\n",
       "       '5F30', '5F40', '6B10', '6B20', '6B30', '6B40', '6B50', '6B60',\n",
       "       '7C10', '7C20', '7C30', '7C40', '7C50', '8C10', '8C20', '8C30',\n",
       "       '8C40', '8C50', '8C60', '9C10', '9C20', '9C30', '9C40', 'UH-3P',\n",
       "       'UNK', '23J40'], dtype=object)"
      ]
     },
     "execution_count": 35,
     "metadata": {},
     "output_type": "execute_result"
    }
   ],
   "source": [
    "crimes.Beat.unique()"
   ]
  },
  {
   "cell_type": "code",
   "execution_count": 36,
   "metadata": {},
   "outputs": [
    {
     "data": {
      "text/plain": [
       "1A20     2852\n",
       "15E40    2443\n",
       "12D10    2430\n",
       "19G10    2205\n",
       "18F20    2202\n",
       "Name: Beat, dtype: int64"
      ]
     },
     "execution_count": 36,
     "metadata": {},
     "output_type": "execute_result"
    }
   ],
   "source": [
    "crimes.Beat.value_counts(dropna=False).head()"
   ]
  },
  {
   "cell_type": "markdown",
   "metadata": {},
   "source": [
    "## BlockRange"
   ]
  },
  {
   "cell_type": "code",
   "execution_count": 37,
   "metadata": {},
   "outputs": [
    {
     "data": {
      "text/plain": [
       "320"
      ]
     },
     "execution_count": 37,
     "metadata": {},
     "output_type": "execute_result"
    }
   ],
   "source": [
    "len(crimes.BlockRange.value_counts(dropna=False))"
   ]
  },
  {
   "cell_type": "code",
   "execution_count": 38,
   "metadata": {},
   "outputs": [
    {
     "data": {
      "text/plain": [
       "900-999      1652\n",
       "UNK          1629\n",
       "100-199      1605\n",
       "2400-2499    1553\n",
       "2300-2399    1472\n",
       "Name: BlockRange, dtype: int64"
      ]
     },
     "execution_count": 38,
     "metadata": {},
     "output_type": "execute_result"
    }
   ],
   "source": [
    "crimes.BlockRange.value_counts(dropna=False).head()"
   ]
  },
  {
   "cell_type": "code",
   "execution_count": 39,
   "metadata": {},
   "outputs": [
    {
     "name": "stderr",
     "output_type": "stream",
     "text": [
      "/home/frank/miniconda3/envs/springboard/lib/python3.6/site-packages/pandas/core/generic.py:3643: SettingWithCopyWarning: \n",
      "A value is trying to be set on a copy of a slice from a DataFrame.\n",
      "Try using .loc[row_indexer,col_indexer] = value instead\n",
      "\n",
      "See the caveats in the documentation: http://pandas.pydata.org/pandas-docs/stable/indexing.html#indexing-view-versus-copy\n",
      "  self[name] = value\n"
     ]
    }
   ],
   "source": [
    "# strip\n",
    "crimes.BlockRange =crimes.BlockRange.str.strip()"
   ]
  },
  {
   "cell_type": "code",
   "execution_count": 40,
   "metadata": {},
   "outputs": [
    {
     "data": {
      "text/plain": [
       "320"
      ]
     },
     "execution_count": 40,
     "metadata": {},
     "output_type": "execute_result"
    }
   ],
   "source": [
    "len(crimes.BlockRange.value_counts(dropna=False))"
   ]
  },
  {
   "cell_type": "markdown",
   "metadata": {},
   "source": [
    "## StreetName"
   ]
  },
  {
   "cell_type": "code",
   "execution_count": 41,
   "metadata": {},
   "outputs": [
    {
     "name": "stdout",
     "output_type": "stream",
     "text": [
      "before:21586\n"
     ]
    }
   ],
   "source": [
    "print('before:{}'.format(len(crimes.StreetName.value_counts(dropna=False))))"
   ]
  },
  {
   "cell_type": "code",
   "execution_count": 42,
   "metadata": {},
   "outputs": [
    {
     "name": "stderr",
     "output_type": "stream",
     "text": [
      "/home/frank/miniconda3/envs/springboard/lib/python3.6/site-packages/pandas/core/generic.py:3643: SettingWithCopyWarning: \n",
      "A value is trying to be set on a copy of a slice from a DataFrame.\n",
      "Try using .loc[row_indexer,col_indexer] = value instead\n",
      "\n",
      "See the caveats in the documentation: http://pandas.pydata.org/pandas-docs/stable/indexing.html#indexing-view-versus-copy\n",
      "  self[name] = value\n"
     ]
    }
   ],
   "source": [
    "crimes.StreetName = crimes.StreetName.str.strip()"
   ]
  },
  {
   "cell_type": "code",
   "execution_count": 43,
   "metadata": {},
   "outputs": [
    {
     "name": "stdout",
     "output_type": "stream",
     "text": [
      "after:18672\n"
     ]
    }
   ],
   "source": [
    "print('after:{}'.format(len(crimes.StreetName.value_counts(dropna=False))))"
   ]
  },
  {
   "cell_type": "code",
   "execution_count": 44,
   "metadata": {},
   "outputs": [
    {
     "name": "stdout",
     "output_type": "stream",
     "text": [
      "WESTHEIMER       2101\n",
      "WESTHEIMER RD    1438\n",
      "GESSNER          1028\n",
      "NORTH             882\n",
      "LOOP              833\n",
      "Name: StreetName, dtype: int64\n"
     ]
    }
   ],
   "source": [
    "print(crimes.StreetName.value_counts(dropna=False).head())"
   ]
  },
  {
   "cell_type": "markdown",
   "metadata": {},
   "source": [
    "## OffenseType"
   ]
  },
  {
   "cell_type": "code",
   "execution_count": 45,
   "metadata": {},
   "outputs": [
    {
     "name": "stdout",
     "output_type": "stream",
     "text": [
      "before:16\n"
     ]
    }
   ],
   "source": [
    "print('before:{}'.format(len(crimes.OffenseType.value_counts(dropna=False))))"
   ]
  },
  {
   "cell_type": "code",
   "execution_count": 46,
   "metadata": {},
   "outputs": [
    {
     "name": "stderr",
     "output_type": "stream",
     "text": [
      "/home/frank/miniconda3/envs/springboard/lib/python3.6/site-packages/pandas/core/generic.py:3643: SettingWithCopyWarning: \n",
      "A value is trying to be set on a copy of a slice from a DataFrame.\n",
      "Try using .loc[row_indexer,col_indexer] = value instead\n",
      "\n",
      "See the caveats in the documentation: http://pandas.pydata.org/pandas-docs/stable/indexing.html#indexing-view-versus-copy\n",
      "  self[name] = value\n"
     ]
    }
   ],
   "source": [
    "crimes.OffenseType = crimes.OffenseType.str.strip()"
   ]
  },
  {
   "cell_type": "code",
   "execution_count": 47,
   "metadata": {},
   "outputs": [
    {
     "name": "stdout",
     "output_type": "stream",
     "text": [
      "after:9\n"
     ]
    }
   ],
   "source": [
    "print('after:{}'.format(len(crimes.OffenseType.value_counts(dropna=False))))"
   ]
  },
  {
   "cell_type": "code",
   "execution_count": 48,
   "metadata": {},
   "outputs": [
    {
     "name": "stdout",
     "output_type": "stream",
     "text": [
      "Theft                 67419\n",
      "Burglary              17084\n",
      "Aggravated Assault    12314\n",
      "Robbery                9778\n",
      "AutoTheft              7627\n",
      "Auto Theft             3874\n",
      "Rape                   1368\n",
      "Murder                  258\n",
      "1                         2\n",
      "Name: OffenseType, dtype: int64\n"
     ]
    }
   ],
   "source": [
    "print(crimes.OffenseType.value_counts(dropna=False))"
   ]
  },
  {
   "cell_type": "code",
   "execution_count": 49,
   "metadata": {},
   "outputs": [
    {
     "name": "stderr",
     "output_type": "stream",
     "text": [
      "/home/frank/miniconda3/envs/springboard/lib/python3.6/site-packages/pandas/core/generic.py:3643: SettingWithCopyWarning: \n",
      "A value is trying to be set on a copy of a slice from a DataFrame.\n",
      "Try using .loc[row_indexer,col_indexer] = value instead\n",
      "\n",
      "See the caveats in the documentation: http://pandas.pydata.org/pandas-docs/stable/indexing.html#indexing-view-versus-copy\n",
      "  self[name] = value\n"
     ]
    }
   ],
   "source": [
    "# join Auto Theft & AutoTheft\n",
    "crimes.OffenseType = crimes.OffenseType.replace('AutoTheft','Auto Theft')"
   ]
  },
  {
   "cell_type": "code",
   "execution_count": 50,
   "metadata": {},
   "outputs": [
    {
     "name": "stdout",
     "output_type": "stream",
     "text": [
      "Theft                 67419\n",
      "Burglary              17084\n",
      "Aggravated Assault    12314\n",
      "Auto Theft            11501\n",
      "Robbery                9778\n",
      "Rape                   1368\n",
      "Murder                  258\n",
      "1                         2\n",
      "Name: OffenseType, dtype: int64\n"
     ]
    }
   ],
   "source": [
    "print(crimes.OffenseType.value_counts(dropna=False))"
   ]
  },
  {
   "cell_type": "code",
   "execution_count": null,
   "metadata": {},
   "outputs": [],
   "source": []
  },
  {
   "cell_type": "code",
   "execution_count": null,
   "metadata": {},
   "outputs": [],
   "source": []
  },
  {
   "cell_type": "markdown",
   "metadata": {},
   "source": [
    "## Premise"
   ]
  },
  {
   "cell_type": "code",
   "execution_count": 51,
   "metadata": {},
   "outputs": [
    {
     "name": "stdout",
     "output_type": "stream",
     "text": [
      "before:133\n"
     ]
    }
   ],
   "source": [
    "print('before:{}'.format(len(crimes.Premise.value_counts(dropna=False))))"
   ]
  },
  {
   "cell_type": "code",
   "execution_count": 52,
   "metadata": {},
   "outputs": [
    {
     "name": "stderr",
     "output_type": "stream",
     "text": [
      "/home/frank/miniconda3/envs/springboard/lib/python3.6/site-packages/pandas/core/generic.py:3643: SettingWithCopyWarning: \n",
      "A value is trying to be set on a copy of a slice from a DataFrame.\n",
      "Try using .loc[row_indexer,col_indexer] = value instead\n",
      "\n",
      "See the caveats in the documentation: http://pandas.pydata.org/pandas-docs/stable/indexing.html#indexing-view-versus-copy\n",
      "  self[name] = value\n"
     ]
    }
   ],
   "source": [
    "crimes.Premise = crimes.Premise.str.strip()"
   ]
  },
  {
   "cell_type": "code",
   "execution_count": 53,
   "metadata": {},
   "outputs": [
    {
     "name": "stdout",
     "output_type": "stream",
     "text": [
      "after:133\n"
     ]
    }
   ],
   "source": [
    "print('after:{}'.format(len(crimes.Premise.value_counts(dropna=False))))"
   ]
  },
  {
   "cell_type": "code",
   "execution_count": 54,
   "metadata": {},
   "outputs": [
    {
     "data": {
      "text/plain": [
       "Residence or House           15197\n",
       "Apartment Parking Lot        14009\n",
       "Road, Street, or Sidewalk    12408\n",
       "Apartment                    11301\n",
       "Other Parking Lot             5419\n",
       "Name: Premise, dtype: int64"
      ]
     },
     "execution_count": 54,
     "metadata": {},
     "output_type": "execute_result"
    }
   ],
   "source": [
    "crimes.Premise.value_counts(dropna=False).head()"
   ]
  },
  {
   "cell_type": "markdown",
   "metadata": {},
   "source": [
    "# Date as index"
   ]
  },
  {
   "cell_type": "code",
   "execution_count": 55,
   "metadata": {},
   "outputs": [
    {
     "name": "stdout",
     "output_type": "stream",
     "text": [
      "<class 'pandas.core.frame.DataFrame'>\n",
      "RangeIndex: 119724 entries, 0 to 119723\n",
      "Data columns (total 7 columns):\n",
      "Date_Hour      119724 non-null datetime64[ns]\n",
      "Beat           119724 non-null object\n",
      "BlockRange     119724 non-null object\n",
      "StreetName     119724 non-null object\n",
      "OffenseType    119724 non-null object\n",
      "Premise        119237 non-null object\n",
      "NumOffenses    119724 non-null float64\n",
      "dtypes: datetime64[ns](1), float64(1), object(5)\n",
      "memory usage: 6.4+ MB\n"
     ]
    }
   ],
   "source": [
    "crimes.info()"
   ]
  },
  {
   "cell_type": "code",
   "execution_count": 59,
   "metadata": {},
   "outputs": [
    {
     "name": "stderr",
     "output_type": "stream",
     "text": [
      "/home/frank/miniconda3/envs/springboard/lib/python3.6/site-packages/pandas/core/generic.py:3643: SettingWithCopyWarning: \n",
      "A value is trying to be set on a copy of a slice from a DataFrame.\n",
      "Try using .loc[row_indexer,col_indexer] = value instead\n",
      "\n",
      "See the caveats in the documentation: http://pandas.pydata.org/pandas-docs/stable/indexing.html#indexing-view-versus-copy\n",
      "  self[name] = value\n"
     ]
    }
   ],
   "source": [
    "# date\n",
    "crimes.Date_Hour = pd.to_datetime(crimes.Date_Hour)\n",
    "crimes = crimes.set_index('Date_Hour').sort_index(ascending=True)"
   ]
  },
  {
   "cell_type": "code",
   "execution_count": 60,
   "metadata": {},
   "outputs": [
    {
     "data": {
      "text/html": [
       "<div>\n",
       "<style scoped>\n",
       "    .dataframe tbody tr th:only-of-type {\n",
       "        vertical-align: middle;\n",
       "    }\n",
       "\n",
       "    .dataframe tbody tr th {\n",
       "        vertical-align: top;\n",
       "    }\n",
       "\n",
       "    .dataframe thead th {\n",
       "        text-align: right;\n",
       "    }\n",
       "</style>\n",
       "<table border=\"1\" class=\"dataframe\">\n",
       "  <thead>\n",
       "    <tr style=\"text-align: right;\">\n",
       "      <th></th>\n",
       "      <th>Beat</th>\n",
       "      <th>BlockRange</th>\n",
       "      <th>StreetName</th>\n",
       "      <th>OffenseType</th>\n",
       "      <th>Premise</th>\n",
       "      <th>NumOffenses</th>\n",
       "    </tr>\n",
       "    <tr>\n",
       "      <th>Date_Hour</th>\n",
       "      <th></th>\n",
       "      <th></th>\n",
       "      <th></th>\n",
       "      <th></th>\n",
       "      <th></th>\n",
       "      <th></th>\n",
       "    </tr>\n",
       "  </thead>\n",
       "  <tbody>\n",
       "    <tr>\n",
       "      <th>1917-01-20 12:00:00</th>\n",
       "      <td>20G20</td>\n",
       "      <td>2100-2199</td>\n",
       "      <td>GESSNER</td>\n",
       "      <td>Theft</td>\n",
       "      <td>Apartment Parking Lot</td>\n",
       "      <td>1.0</td>\n",
       "    </tr>\n",
       "    <tr>\n",
       "      <th>1917-02-20 15:00:00</th>\n",
       "      <td>17E20</td>\n",
       "      <td>9100-9199</td>\n",
       "      <td>FONDREN</td>\n",
       "      <td>Auto Theft</td>\n",
       "      <td>Road, Street, or Sidewalk</td>\n",
       "      <td>1.0</td>\n",
       "    </tr>\n",
       "    <tr>\n",
       "      <th>1917-02-20 16:00:00</th>\n",
       "      <td>10H70</td>\n",
       "      <td>7500-7599</td>\n",
       "      <td>ARDMORE</td>\n",
       "      <td>Theft</td>\n",
       "      <td>Other Parking Lot</td>\n",
       "      <td>1.0</td>\n",
       "    </tr>\n",
       "    <tr>\n",
       "      <th>1917-04-16 12:00:00</th>\n",
       "      <td>18F20</td>\n",
       "      <td>1100-1199</td>\n",
       "      <td>UPTOWN PARK</td>\n",
       "      <td>Rape</td>\n",
       "      <td>Bar or Night Club</td>\n",
       "      <td>1.0</td>\n",
       "    </tr>\n",
       "    <tr>\n",
       "      <th>1917-12-18 14:00:00</th>\n",
       "      <td>9C20</td>\n",
       "      <td>500-599</td>\n",
       "      <td>PORTWALL</td>\n",
       "      <td>Theft</td>\n",
       "      <td>Miscellaneous Business (Non-Specific)</td>\n",
       "      <td>1.0</td>\n",
       "    </tr>\n",
       "  </tbody>\n",
       "</table>\n",
       "</div>"
      ],
      "text/plain": [
       "                      Beat BlockRange   StreetName OffenseType  \\\n",
       "Date_Hour                                                        \n",
       "1917-01-20 12:00:00  20G20  2100-2199      GESSNER       Theft   \n",
       "1917-02-20 15:00:00  17E20  9100-9199      FONDREN  Auto Theft   \n",
       "1917-02-20 16:00:00  10H70  7500-7599      ARDMORE       Theft   \n",
       "1917-04-16 12:00:00  18F20  1100-1199  UPTOWN PARK        Rape   \n",
       "1917-12-18 14:00:00   9C20    500-599     PORTWALL       Theft   \n",
       "\n",
       "                                                   Premise  NumOffenses  \n",
       "Date_Hour                                                                \n",
       "1917-01-20 12:00:00                  Apartment Parking Lot          1.0  \n",
       "1917-02-20 15:00:00              Road, Street, or Sidewalk          1.0  \n",
       "1917-02-20 16:00:00                      Other Parking Lot          1.0  \n",
       "1917-04-16 12:00:00                      Bar or Night Club          1.0  \n",
       "1917-12-18 14:00:00  Miscellaneous Business (Non-Specific)          1.0  "
      ]
     },
     "execution_count": 60,
     "metadata": {},
     "output_type": "execute_result"
    }
   ],
   "source": [
    "crimes.head()"
   ]
  },
  {
   "cell_type": "code",
   "execution_count": 63,
   "metadata": {},
   "outputs": [
    {
     "data": {
      "text/plain": [
       "array(['12:00:00', '15:00:00', '16:00:00', ..., '23:00:00', '23:00:00',\n",
       "       '23:00:00'], dtype='<U8')"
      ]
     },
     "execution_count": 63,
     "metadata": {},
     "output_type": "execute_result"
    }
   ],
   "source": [
    "crimes.index.strftime('%T')"
   ]
  },
  {
   "cell_type": "code",
   "execution_count": null,
   "metadata": {},
   "outputs": [],
   "source": []
  },
  {
   "cell_type": "code",
   "execution_count": null,
   "metadata": {},
   "outputs": [],
   "source": []
  },
  {
   "cell_type": "markdown",
   "metadata": {},
   "source": [
    "## Create Columns with day,weekday,month,year from date index"
   ]
  },
  {
   "cell_type": "code",
   "execution_count": 64,
   "metadata": {},
   "outputs": [],
   "source": [
    "# get day, weekday,month ,year\n",
    "\n",
    "crimes['day'] = crimes.index.strftime('%d')\n",
    "crimes['weekday'] = crimes.index.strftime('%A')\n",
    "crimes['month'] = crimes.index.strftime('%b')\n",
    "crimes['year'] = crimes.index.strftime('%Y')\n",
    "crimes['Hour'] = crimes.index.strftime('%T')"
   ]
  },
  {
   "cell_type": "code",
   "execution_count": 65,
   "metadata": {},
   "outputs": [
    {
     "data": {
      "text/html": [
       "<div>\n",
       "<style scoped>\n",
       "    .dataframe tbody tr th:only-of-type {\n",
       "        vertical-align: middle;\n",
       "    }\n",
       "\n",
       "    .dataframe tbody tr th {\n",
       "        vertical-align: top;\n",
       "    }\n",
       "\n",
       "    .dataframe thead th {\n",
       "        text-align: right;\n",
       "    }\n",
       "</style>\n",
       "<table border=\"1\" class=\"dataframe\">\n",
       "  <thead>\n",
       "    <tr style=\"text-align: right;\">\n",
       "      <th></th>\n",
       "      <th>Beat</th>\n",
       "      <th>BlockRange</th>\n",
       "      <th>StreetName</th>\n",
       "      <th>OffenseType</th>\n",
       "      <th>Premise</th>\n",
       "      <th>NumOffenses</th>\n",
       "      <th>day</th>\n",
       "      <th>weekday</th>\n",
       "      <th>month</th>\n",
       "      <th>year</th>\n",
       "      <th>Hour</th>\n",
       "    </tr>\n",
       "    <tr>\n",
       "      <th>Date_Hour</th>\n",
       "      <th></th>\n",
       "      <th></th>\n",
       "      <th></th>\n",
       "      <th></th>\n",
       "      <th></th>\n",
       "      <th></th>\n",
       "      <th></th>\n",
       "      <th></th>\n",
       "      <th></th>\n",
       "      <th></th>\n",
       "      <th></th>\n",
       "    </tr>\n",
       "  </thead>\n",
       "  <tbody>\n",
       "    <tr>\n",
       "      <th>1917-01-20 12:00:00</th>\n",
       "      <td>20G20</td>\n",
       "      <td>2100-2199</td>\n",
       "      <td>GESSNER</td>\n",
       "      <td>Theft</td>\n",
       "      <td>Apartment Parking Lot</td>\n",
       "      <td>1.0</td>\n",
       "      <td>20</td>\n",
       "      <td>Saturday</td>\n",
       "      <td>Jan</td>\n",
       "      <td>1917</td>\n",
       "      <td>12:00:00</td>\n",
       "    </tr>\n",
       "    <tr>\n",
       "      <th>1917-02-20 15:00:00</th>\n",
       "      <td>17E20</td>\n",
       "      <td>9100-9199</td>\n",
       "      <td>FONDREN</td>\n",
       "      <td>Auto Theft</td>\n",
       "      <td>Road, Street, or Sidewalk</td>\n",
       "      <td>1.0</td>\n",
       "      <td>20</td>\n",
       "      <td>Tuesday</td>\n",
       "      <td>Feb</td>\n",
       "      <td>1917</td>\n",
       "      <td>15:00:00</td>\n",
       "    </tr>\n",
       "    <tr>\n",
       "      <th>1917-02-20 16:00:00</th>\n",
       "      <td>10H70</td>\n",
       "      <td>7500-7599</td>\n",
       "      <td>ARDMORE</td>\n",
       "      <td>Theft</td>\n",
       "      <td>Other Parking Lot</td>\n",
       "      <td>1.0</td>\n",
       "      <td>20</td>\n",
       "      <td>Tuesday</td>\n",
       "      <td>Feb</td>\n",
       "      <td>1917</td>\n",
       "      <td>16:00:00</td>\n",
       "    </tr>\n",
       "    <tr>\n",
       "      <th>1917-04-16 12:00:00</th>\n",
       "      <td>18F20</td>\n",
       "      <td>1100-1199</td>\n",
       "      <td>UPTOWN PARK</td>\n",
       "      <td>Rape</td>\n",
       "      <td>Bar or Night Club</td>\n",
       "      <td>1.0</td>\n",
       "      <td>16</td>\n",
       "      <td>Monday</td>\n",
       "      <td>Apr</td>\n",
       "      <td>1917</td>\n",
       "      <td>12:00:00</td>\n",
       "    </tr>\n",
       "    <tr>\n",
       "      <th>1917-12-18 14:00:00</th>\n",
       "      <td>9C20</td>\n",
       "      <td>500-599</td>\n",
       "      <td>PORTWALL</td>\n",
       "      <td>Theft</td>\n",
       "      <td>Miscellaneous Business (Non-Specific)</td>\n",
       "      <td>1.0</td>\n",
       "      <td>18</td>\n",
       "      <td>Tuesday</td>\n",
       "      <td>Dec</td>\n",
       "      <td>1917</td>\n",
       "      <td>14:00:00</td>\n",
       "    </tr>\n",
       "  </tbody>\n",
       "</table>\n",
       "</div>"
      ],
      "text/plain": [
       "                      Beat BlockRange   StreetName OffenseType  \\\n",
       "Date_Hour                                                        \n",
       "1917-01-20 12:00:00  20G20  2100-2199      GESSNER       Theft   \n",
       "1917-02-20 15:00:00  17E20  9100-9199      FONDREN  Auto Theft   \n",
       "1917-02-20 16:00:00  10H70  7500-7599      ARDMORE       Theft   \n",
       "1917-04-16 12:00:00  18F20  1100-1199  UPTOWN PARK        Rape   \n",
       "1917-12-18 14:00:00   9C20    500-599     PORTWALL       Theft   \n",
       "\n",
       "                                                   Premise  NumOffenses day  \\\n",
       "Date_Hour                                                                     \n",
       "1917-01-20 12:00:00                  Apartment Parking Lot          1.0  20   \n",
       "1917-02-20 15:00:00              Road, Street, or Sidewalk          1.0  20   \n",
       "1917-02-20 16:00:00                      Other Parking Lot          1.0  20   \n",
       "1917-04-16 12:00:00                      Bar or Night Club          1.0  16   \n",
       "1917-12-18 14:00:00  Miscellaneous Business (Non-Specific)          1.0  18   \n",
       "\n",
       "                      weekday month  year      Hour  \n",
       "Date_Hour                                            \n",
       "1917-01-20 12:00:00  Saturday   Jan  1917  12:00:00  \n",
       "1917-02-20 15:00:00   Tuesday   Feb  1917  15:00:00  \n",
       "1917-02-20 16:00:00   Tuesday   Feb  1917  16:00:00  \n",
       "1917-04-16 12:00:00    Monday   Apr  1917  12:00:00  \n",
       "1917-12-18 14:00:00   Tuesday   Dec  1917  14:00:00  "
      ]
     },
     "execution_count": 65,
     "metadata": {},
     "output_type": "execute_result"
    }
   ],
   "source": [
    "crimes.head()"
   ]
  },
  {
   "cell_type": "code",
   "execution_count": 66,
   "metadata": {},
   "outputs": [
    {
     "data": {
      "text/plain": [
       "array(['20', '16', '18', '29', '26', '06', '31', '03', '01', '24', '15',\n",
       "       '13', '21', '04', '09', '25', '30', '07', '08', '11', '23', '10',\n",
       "       '28', '02', '27', '19', '17', '14', '22', '12', '05'], dtype=object)"
      ]
     },
     "execution_count": 66,
     "metadata": {},
     "output_type": "execute_result"
    }
   ],
   "source": [
    "crimes.day.unique()"
   ]
  },
  {
   "cell_type": "code",
   "execution_count": 67,
   "metadata": {},
   "outputs": [
    {
     "data": {
      "text/plain": [
       "31"
      ]
     },
     "execution_count": 67,
     "metadata": {},
     "output_type": "execute_result"
    }
   ],
   "source": [
    "len(crimes.day.unique())"
   ]
  },
  {
   "cell_type": "code",
   "execution_count": 68,
   "metadata": {},
   "outputs": [
    {
     "data": {
      "text/plain": [
       "13    4153\n",
       "01    4092\n",
       "05    4089\n",
       "06    4072\n",
       "20    4049\n",
       "17    4037\n",
       "18    3997\n",
       "26    3990\n",
       "22    3975\n",
       "07    3974\n",
       "04    3950\n",
       "14    3943\n",
       "15    3934\n",
       "21    3924\n",
       "11    3922\n",
       "10    3922\n",
       "24    3916\n",
       "19    3902\n",
       "16    3866\n",
       "27    3864\n",
       "03    3864\n",
       "02    3859\n",
       "08    3857\n",
       "12    3835\n",
       "23    3809\n",
       "28    3806\n",
       "09    3786\n",
       "25    3743\n",
       "30    3723\n",
       "29    3471\n",
       "31    2400\n",
       "Name: day, dtype: int64"
      ]
     },
     "execution_count": 68,
     "metadata": {},
     "output_type": "execute_result"
    }
   ],
   "source": [
    "crimes.day.value_counts(dropna=False)"
   ]
  },
  {
   "cell_type": "code",
   "execution_count": 69,
   "metadata": {},
   "outputs": [
    {
     "data": {
      "text/plain": [
       "array(['Saturday', 'Tuesday', 'Monday', 'Sunday', 'Wednesday', 'Thursday',\n",
       "       'Friday'], dtype=object)"
      ]
     },
     "execution_count": 69,
     "metadata": {},
     "output_type": "execute_result"
    }
   ],
   "source": [
    "crimes.weekday.unique()"
   ]
  },
  {
   "cell_type": "code",
   "execution_count": 70,
   "metadata": {},
   "outputs": [
    {
     "data": {
      "text/plain": [
       "Monday       18202\n",
       "Friday       17919\n",
       "Thursday     17736\n",
       "Tuesday      17336\n",
       "Wednesday    17329\n",
       "Saturday     16317\n",
       "Sunday       14885\n",
       "Name: weekday, dtype: int64"
      ]
     },
     "execution_count": 70,
     "metadata": {},
     "output_type": "execute_result"
    }
   ],
   "source": [
    "crimes.weekday.value_counts(dropna=False)"
   ]
  },
  {
   "cell_type": "code",
   "execution_count": 71,
   "metadata": {},
   "outputs": [
    {
     "data": {
      "text/plain": [
       "Jan    10544\n",
       "May    10530\n",
       "Dec    10491\n",
       "Jul    10470\n",
       "Jun    10367\n",
       "Aug    10085\n",
       "Mar     9837\n",
       "Oct     9817\n",
       "Nov     9748\n",
       "Feb     9716\n",
       "Apr     9504\n",
       "Sep     8615\n",
       "Name: month, dtype: int64"
      ]
     },
     "execution_count": 71,
     "metadata": {},
     "output_type": "execute_result"
    }
   ],
   "source": [
    "crimes.month.value_counts(dropna=False)"
   ]
  },
  {
   "cell_type": "code",
   "execution_count": 72,
   "metadata": {},
   "outputs": [
    {
     "data": {
      "text/plain": [
       "2017    118578\n",
       "2016      1002\n",
       "2015        51\n",
       "2014        31\n",
       "2013        10\n",
       "2010         8\n",
       "2007         7\n",
       "1917         5\n",
       "2011         5\n",
       "2009         3\n",
       "2012         3\n",
       "2006         2\n",
       "1993         2\n",
       "2005         2\n",
       "1983         2\n",
       "2008         2\n",
       "1920         2\n",
       "2002         2\n",
       "1976         1\n",
       "1953         1\n",
       "2001         1\n",
       "2000         1\n",
       "1927         1\n",
       "1964         1\n",
       "1990         1\n",
       "Name: year, dtype: int64"
      ]
     },
     "execution_count": 72,
     "metadata": {},
     "output_type": "execute_result"
    }
   ],
   "source": [
    "crimes.year.value_counts(dropna=False)"
   ]
  },
  {
   "cell_type": "code",
   "execution_count": null,
   "metadata": {},
   "outputs": [],
   "source": []
  },
  {
   "cell_type": "markdown",
   "metadata": {},
   "source": [
    "## null values\n",
    "\n",
    "- check\n",
    "- count\n",
    "- display"
   ]
  },
  {
   "cell_type": "code",
   "execution_count": 73,
   "metadata": {},
   "outputs": [
    {
     "data": {
      "text/plain": [
       "True"
      ]
     },
     "execution_count": 73,
     "metadata": {},
     "output_type": "execute_result"
    }
   ],
   "source": [
    "crimes.isnull().values.any().any()"
   ]
  },
  {
   "cell_type": "code",
   "execution_count": 74,
   "metadata": {},
   "outputs": [
    {
     "data": {
      "text/plain": [
       "487"
      ]
     },
     "execution_count": 74,
     "metadata": {},
     "output_type": "execute_result"
    }
   ],
   "source": [
    "# display any null\n",
    "\n",
    "len(crimes[crimes.isnull().any(axis=1)])"
   ]
  },
  {
   "cell_type": "code",
   "execution_count": 75,
   "metadata": {},
   "outputs": [
    {
     "data": {
      "text/html": [
       "<div>\n",
       "<style scoped>\n",
       "    .dataframe tbody tr th:only-of-type {\n",
       "        vertical-align: middle;\n",
       "    }\n",
       "\n",
       "    .dataframe tbody tr th {\n",
       "        vertical-align: top;\n",
       "    }\n",
       "\n",
       "    .dataframe thead th {\n",
       "        text-align: right;\n",
       "    }\n",
       "</style>\n",
       "<table border=\"1\" class=\"dataframe\">\n",
       "  <thead>\n",
       "    <tr style=\"text-align: right;\">\n",
       "      <th></th>\n",
       "      <th>Beat</th>\n",
       "      <th>BlockRange</th>\n",
       "      <th>StreetName</th>\n",
       "      <th>OffenseType</th>\n",
       "      <th>Premise</th>\n",
       "      <th>NumOffenses</th>\n",
       "      <th>day</th>\n",
       "      <th>weekday</th>\n",
       "      <th>month</th>\n",
       "      <th>year</th>\n",
       "      <th>Hour</th>\n",
       "    </tr>\n",
       "    <tr>\n",
       "      <th>Date_Hour</th>\n",
       "      <th></th>\n",
       "      <th></th>\n",
       "      <th></th>\n",
       "      <th></th>\n",
       "      <th></th>\n",
       "      <th></th>\n",
       "      <th></th>\n",
       "      <th></th>\n",
       "      <th></th>\n",
       "      <th></th>\n",
       "      <th></th>\n",
       "    </tr>\n",
       "  </thead>\n",
       "  <tbody>\n",
       "    <tr>\n",
       "      <th>2007-12-30 16:00:00</th>\n",
       "      <td>3B30</td>\n",
       "      <td>2000-2099</td>\n",
       "      <td>43RD</td>\n",
       "      <td>Theft</td>\n",
       "      <td>NaN</td>\n",
       "      <td>1.0</td>\n",
       "      <td>30</td>\n",
       "      <td>Sunday</td>\n",
       "      <td>Dec</td>\n",
       "      <td>2007</td>\n",
       "      <td>16:00:00</td>\n",
       "    </tr>\n",
       "    <tr>\n",
       "      <th>2014-01-08 12:00:00</th>\n",
       "      <td>6B60</td>\n",
       "      <td>800-899</td>\n",
       "      <td>GREENS</td>\n",
       "      <td>Rape</td>\n",
       "      <td>NaN</td>\n",
       "      <td>1.0</td>\n",
       "      <td>08</td>\n",
       "      <td>Wednesday</td>\n",
       "      <td>Jan</td>\n",
       "      <td>2014</td>\n",
       "      <td>12:00:00</td>\n",
       "    </tr>\n",
       "    <tr>\n",
       "      <th>2016-10-07 22:00:00</th>\n",
       "      <td>4F30</td>\n",
       "      <td>2100-2199</td>\n",
       "      <td>HIGHWAY 6</td>\n",
       "      <td>Aggravated Assault</td>\n",
       "      <td>NaN</td>\n",
       "      <td>1.0</td>\n",
       "      <td>07</td>\n",
       "      <td>Friday</td>\n",
       "      <td>Oct</td>\n",
       "      <td>2016</td>\n",
       "      <td>22:00:00</td>\n",
       "    </tr>\n",
       "    <tr>\n",
       "      <th>2016-10-09 08:00:00</th>\n",
       "      <td>19G10</td>\n",
       "      <td>9700-9799</td>\n",
       "      <td>BISSONNET</td>\n",
       "      <td>Rape</td>\n",
       "      <td>NaN</td>\n",
       "      <td>1.0</td>\n",
       "      <td>09</td>\n",
       "      <td>Sunday</td>\n",
       "      <td>Oct</td>\n",
       "      <td>2016</td>\n",
       "      <td>08:00:00</td>\n",
       "    </tr>\n",
       "    <tr>\n",
       "      <th>2016-10-15 17:00:00</th>\n",
       "      <td>17E30</td>\n",
       "      <td>9000-9099</td>\n",
       "      <td>BELLFORT</td>\n",
       "      <td>Theft</td>\n",
       "      <td>NaN</td>\n",
       "      <td>1.0</td>\n",
       "      <td>15</td>\n",
       "      <td>Saturday</td>\n",
       "      <td>Oct</td>\n",
       "      <td>2016</td>\n",
       "      <td>17:00:00</td>\n",
       "    </tr>\n",
       "  </tbody>\n",
       "</table>\n",
       "</div>"
      ],
      "text/plain": [
       "                      Beat BlockRange StreetName         OffenseType Premise  \\\n",
       "Date_Hour                                                                      \n",
       "2007-12-30 16:00:00   3B30  2000-2099       43RD               Theft     NaN   \n",
       "2014-01-08 12:00:00   6B60    800-899     GREENS                Rape     NaN   \n",
       "2016-10-07 22:00:00   4F30  2100-2199  HIGHWAY 6  Aggravated Assault     NaN   \n",
       "2016-10-09 08:00:00  19G10  9700-9799  BISSONNET                Rape     NaN   \n",
       "2016-10-15 17:00:00  17E30  9000-9099   BELLFORT               Theft     NaN   \n",
       "\n",
       "                     NumOffenses day    weekday month  year      Hour  \n",
       "Date_Hour                                                              \n",
       "2007-12-30 16:00:00          1.0  30     Sunday   Dec  2007  16:00:00  \n",
       "2014-01-08 12:00:00          1.0  08  Wednesday   Jan  2014  12:00:00  \n",
       "2016-10-07 22:00:00          1.0  07     Friday   Oct  2016  22:00:00  \n",
       "2016-10-09 08:00:00          1.0  09     Sunday   Oct  2016  08:00:00  \n",
       "2016-10-15 17:00:00          1.0  15   Saturday   Oct  2016  17:00:00  "
      ]
     },
     "execution_count": 75,
     "metadata": {},
     "output_type": "execute_result"
    }
   ],
   "source": [
    "crimes[crimes.isnull().any(axis=1)].head()"
   ]
  },
  {
   "cell_type": "code",
   "execution_count": null,
   "metadata": {},
   "outputs": [],
   "source": [
    "crimes.info()"
   ]
  },
  {
   "cell_type": "markdown",
   "metadata": {},
   "source": [
    "## New Dataframe\n",
    "- remove premise col\n",
    "- keep premise description"
   ]
  },
  {
   "cell_type": "code",
   "execution_count": 76,
   "metadata": {},
   "outputs": [
    {
     "data": {
      "text/html": [
       "<div>\n",
       "<style scoped>\n",
       "    .dataframe tbody tr th:only-of-type {\n",
       "        vertical-align: middle;\n",
       "    }\n",
       "\n",
       "    .dataframe tbody tr th {\n",
       "        vertical-align: top;\n",
       "    }\n",
       "\n",
       "    .dataframe thead th {\n",
       "        text-align: right;\n",
       "    }\n",
       "</style>\n",
       "<table border=\"1\" class=\"dataframe\">\n",
       "  <thead>\n",
       "    <tr style=\"text-align: right;\">\n",
       "      <th></th>\n",
       "      <th>Beat</th>\n",
       "      <th>BlockRange</th>\n",
       "      <th>StreetName</th>\n",
       "      <th>OffenseType</th>\n",
       "      <th>Premise</th>\n",
       "      <th>NumOffenses</th>\n",
       "      <th>Hour</th>\n",
       "      <th>day</th>\n",
       "      <th>weekday</th>\n",
       "      <th>month</th>\n",
       "      <th>year</th>\n",
       "    </tr>\n",
       "    <tr>\n",
       "      <th>Date_Hour</th>\n",
       "      <th></th>\n",
       "      <th></th>\n",
       "      <th></th>\n",
       "      <th></th>\n",
       "      <th></th>\n",
       "      <th></th>\n",
       "      <th></th>\n",
       "      <th></th>\n",
       "      <th></th>\n",
       "      <th></th>\n",
       "      <th></th>\n",
       "    </tr>\n",
       "  </thead>\n",
       "  <tbody>\n",
       "    <tr>\n",
       "      <th>1917-01-20 12:00:00</th>\n",
       "      <td>20G20</td>\n",
       "      <td>2100-2199</td>\n",
       "      <td>GESSNER</td>\n",
       "      <td>Theft</td>\n",
       "      <td>Apartment Parking Lot</td>\n",
       "      <td>1.0</td>\n",
       "      <td>12:00:00</td>\n",
       "      <td>20</td>\n",
       "      <td>Saturday</td>\n",
       "      <td>Jan</td>\n",
       "      <td>1917</td>\n",
       "    </tr>\n",
       "    <tr>\n",
       "      <th>1917-02-20 15:00:00</th>\n",
       "      <td>17E20</td>\n",
       "      <td>9100-9199</td>\n",
       "      <td>FONDREN</td>\n",
       "      <td>Auto Theft</td>\n",
       "      <td>Road, Street, or Sidewalk</td>\n",
       "      <td>1.0</td>\n",
       "      <td>15:00:00</td>\n",
       "      <td>20</td>\n",
       "      <td>Tuesday</td>\n",
       "      <td>Feb</td>\n",
       "      <td>1917</td>\n",
       "    </tr>\n",
       "    <tr>\n",
       "      <th>1917-02-20 16:00:00</th>\n",
       "      <td>10H70</td>\n",
       "      <td>7500-7599</td>\n",
       "      <td>ARDMORE</td>\n",
       "      <td>Theft</td>\n",
       "      <td>Other Parking Lot</td>\n",
       "      <td>1.0</td>\n",
       "      <td>16:00:00</td>\n",
       "      <td>20</td>\n",
       "      <td>Tuesday</td>\n",
       "      <td>Feb</td>\n",
       "      <td>1917</td>\n",
       "    </tr>\n",
       "    <tr>\n",
       "      <th>1917-04-16 12:00:00</th>\n",
       "      <td>18F20</td>\n",
       "      <td>1100-1199</td>\n",
       "      <td>UPTOWN PARK</td>\n",
       "      <td>Rape</td>\n",
       "      <td>Bar or Night Club</td>\n",
       "      <td>1.0</td>\n",
       "      <td>12:00:00</td>\n",
       "      <td>16</td>\n",
       "      <td>Monday</td>\n",
       "      <td>Apr</td>\n",
       "      <td>1917</td>\n",
       "    </tr>\n",
       "    <tr>\n",
       "      <th>1917-12-18 14:00:00</th>\n",
       "      <td>9C20</td>\n",
       "      <td>500-599</td>\n",
       "      <td>PORTWALL</td>\n",
       "      <td>Theft</td>\n",
       "      <td>Miscellaneous Business (Non-Specific)</td>\n",
       "      <td>1.0</td>\n",
       "      <td>14:00:00</td>\n",
       "      <td>18</td>\n",
       "      <td>Tuesday</td>\n",
       "      <td>Dec</td>\n",
       "      <td>1917</td>\n",
       "    </tr>\n",
       "  </tbody>\n",
       "</table>\n",
       "</div>"
      ],
      "text/plain": [
       "                      Beat BlockRange   StreetName OffenseType  \\\n",
       "Date_Hour                                                        \n",
       "1917-01-20 12:00:00  20G20  2100-2199      GESSNER       Theft   \n",
       "1917-02-20 15:00:00  17E20  9100-9199      FONDREN  Auto Theft   \n",
       "1917-02-20 16:00:00  10H70  7500-7599      ARDMORE       Theft   \n",
       "1917-04-16 12:00:00  18F20  1100-1199  UPTOWN PARK        Rape   \n",
       "1917-12-18 14:00:00   9C20    500-599     PORTWALL       Theft   \n",
       "\n",
       "                                                   Premise  NumOffenses  \\\n",
       "Date_Hour                                                                 \n",
       "1917-01-20 12:00:00                  Apartment Parking Lot          1.0   \n",
       "1917-02-20 15:00:00              Road, Street, or Sidewalk          1.0   \n",
       "1917-02-20 16:00:00                      Other Parking Lot          1.0   \n",
       "1917-04-16 12:00:00                      Bar or Night Club          1.0   \n",
       "1917-12-18 14:00:00  Miscellaneous Business (Non-Specific)          1.0   \n",
       "\n",
       "                         Hour day   weekday month  year  \n",
       "Date_Hour                                                \n",
       "1917-01-20 12:00:00  12:00:00  20  Saturday   Jan  1917  \n",
       "1917-02-20 15:00:00  15:00:00  20   Tuesday   Feb  1917  \n",
       "1917-02-20 16:00:00  16:00:00  20   Tuesday   Feb  1917  \n",
       "1917-04-16 12:00:00  12:00:00  16    Monday   Apr  1917  \n",
       "1917-12-18 14:00:00  14:00:00  18   Tuesday   Dec  1917  "
      ]
     },
     "execution_count": 76,
     "metadata": {},
     "output_type": "execute_result"
    }
   ],
   "source": [
    "crime_yr = crimes[['Beat','BlockRange','StreetName','OffenseType','Premise','NumOffenses','Hour','day','weekday','month','year']]\n",
    "crime_yr.head()"
   ]
  },
  {
   "cell_type": "code",
   "execution_count": 77,
   "metadata": {},
   "outputs": [
    {
     "data": {
      "text/plain": [
       "True"
      ]
     },
     "execution_count": 77,
     "metadata": {},
     "output_type": "execute_result"
    }
   ],
   "source": [
    "crime_yr.isnull().values.any().any()"
   ]
  },
  {
   "cell_type": "code",
   "execution_count": 78,
   "metadata": {},
   "outputs": [
    {
     "data": {
      "text/plain": [
       "487"
      ]
     },
     "execution_count": 78,
     "metadata": {},
     "output_type": "execute_result"
    }
   ],
   "source": [
    "# display any null\n",
    "\n",
    "len(crime_yr[crime_yr.isnull().any(axis=1)])"
   ]
  },
  {
   "cell_type": "code",
   "execution_count": 79,
   "metadata": {},
   "outputs": [
    {
     "data": {
      "text/html": [
       "<div>\n",
       "<style scoped>\n",
       "    .dataframe tbody tr th:only-of-type {\n",
       "        vertical-align: middle;\n",
       "    }\n",
       "\n",
       "    .dataframe tbody tr th {\n",
       "        vertical-align: top;\n",
       "    }\n",
       "\n",
       "    .dataframe thead th {\n",
       "        text-align: right;\n",
       "    }\n",
       "</style>\n",
       "<table border=\"1\" class=\"dataframe\">\n",
       "  <thead>\n",
       "    <tr style=\"text-align: right;\">\n",
       "      <th></th>\n",
       "      <th>Beat</th>\n",
       "      <th>BlockRange</th>\n",
       "      <th>StreetName</th>\n",
       "      <th>OffenseType</th>\n",
       "      <th>Premise</th>\n",
       "      <th>NumOffenses</th>\n",
       "      <th>Hour</th>\n",
       "      <th>day</th>\n",
       "      <th>weekday</th>\n",
       "      <th>month</th>\n",
       "      <th>year</th>\n",
       "    </tr>\n",
       "    <tr>\n",
       "      <th>Date_Hour</th>\n",
       "      <th></th>\n",
       "      <th></th>\n",
       "      <th></th>\n",
       "      <th></th>\n",
       "      <th></th>\n",
       "      <th></th>\n",
       "      <th></th>\n",
       "      <th></th>\n",
       "      <th></th>\n",
       "      <th></th>\n",
       "      <th></th>\n",
       "    </tr>\n",
       "  </thead>\n",
       "  <tbody>\n",
       "    <tr>\n",
       "      <th>2017-04-28 18:00:00</th>\n",
       "      <td>14D40</td>\n",
       "      <td>12300-12399</td>\n",
       "      <td>MARTIN LUTHER KING</td>\n",
       "      <td>Aggravated Assault</td>\n",
       "      <td>NaN</td>\n",
       "      <td>1.0</td>\n",
       "      <td>18:00:00</td>\n",
       "      <td>28</td>\n",
       "      <td>Friday</td>\n",
       "      <td>Apr</td>\n",
       "      <td>2017</td>\n",
       "    </tr>\n",
       "    <tr>\n",
       "      <th>2017-04-28 22:00:00</th>\n",
       "      <td>7C20</td>\n",
       "      <td>2100-2199</td>\n",
       "      <td>KIRK</td>\n",
       "      <td>Robbery</td>\n",
       "      <td>NaN</td>\n",
       "      <td>1.0</td>\n",
       "      <td>22:00:00</td>\n",
       "      <td>28</td>\n",
       "      <td>Friday</td>\n",
       "      <td>Apr</td>\n",
       "      <td>2017</td>\n",
       "    </tr>\n",
       "    <tr>\n",
       "      <th>2017-04-29 12:00:00</th>\n",
       "      <td>2A30</td>\n",
       "      <td>200-299</td>\n",
       "      <td>20TH</td>\n",
       "      <td>Robbery</td>\n",
       "      <td>NaN</td>\n",
       "      <td>1.0</td>\n",
       "      <td>12:00:00</td>\n",
       "      <td>29</td>\n",
       "      <td>Saturday</td>\n",
       "      <td>Apr</td>\n",
       "      <td>2017</td>\n",
       "    </tr>\n",
       "    <tr>\n",
       "      <th>2017-04-29 18:00:00</th>\n",
       "      <td>5F40</td>\n",
       "      <td>7700-7799</td>\n",
       "      <td>WILLOW CHASE</td>\n",
       "      <td>Theft</td>\n",
       "      <td>NaN</td>\n",
       "      <td>1.0</td>\n",
       "      <td>18:00:00</td>\n",
       "      <td>29</td>\n",
       "      <td>Saturday</td>\n",
       "      <td>Apr</td>\n",
       "      <td>2017</td>\n",
       "    </tr>\n",
       "    <tr>\n",
       "      <th>2017-04-29 21:00:00</th>\n",
       "      <td>10H10</td>\n",
       "      <td>4700-4799</td>\n",
       "      <td>HARRISBURG</td>\n",
       "      <td>Burglary</td>\n",
       "      <td>NaN</td>\n",
       "      <td>1.0</td>\n",
       "      <td>21:00:00</td>\n",
       "      <td>29</td>\n",
       "      <td>Saturday</td>\n",
       "      <td>Apr</td>\n",
       "      <td>2017</td>\n",
       "    </tr>\n",
       "  </tbody>\n",
       "</table>\n",
       "</div>"
      ],
      "text/plain": [
       "                      Beat   BlockRange          StreetName  \\\n",
       "Date_Hour                                                     \n",
       "2017-04-28 18:00:00  14D40  12300-12399  MARTIN LUTHER KING   \n",
       "2017-04-28 22:00:00   7C20    2100-2199                KIRK   \n",
       "2017-04-29 12:00:00   2A30      200-299                20TH   \n",
       "2017-04-29 18:00:00   5F40    7700-7799        WILLOW CHASE   \n",
       "2017-04-29 21:00:00  10H10    4700-4799          HARRISBURG   \n",
       "\n",
       "                            OffenseType Premise  NumOffenses      Hour day  \\\n",
       "Date_Hour                                                                    \n",
       "2017-04-28 18:00:00  Aggravated Assault     NaN          1.0  18:00:00  28   \n",
       "2017-04-28 22:00:00             Robbery     NaN          1.0  22:00:00  28   \n",
       "2017-04-29 12:00:00             Robbery     NaN          1.0  12:00:00  29   \n",
       "2017-04-29 18:00:00               Theft     NaN          1.0  18:00:00  29   \n",
       "2017-04-29 21:00:00            Burglary     NaN          1.0  21:00:00  29   \n",
       "\n",
       "                      weekday month  year  \n",
       "Date_Hour                                  \n",
       "2017-04-28 18:00:00    Friday   Apr  2017  \n",
       "2017-04-28 22:00:00    Friday   Apr  2017  \n",
       "2017-04-29 12:00:00  Saturday   Apr  2017  \n",
       "2017-04-29 18:00:00  Saturday   Apr  2017  \n",
       "2017-04-29 21:00:00  Saturday   Apr  2017  "
      ]
     },
     "execution_count": 79,
     "metadata": {},
     "output_type": "execute_result"
    }
   ],
   "source": [
    "crime_yr[crime_yr.isnull().any(axis=1)].tail()"
   ]
  },
  {
   "cell_type": "markdown",
   "metadata": {},
   "source": [
    "# FIND NANS"
   ]
  },
  {
   "cell_type": "markdown",
   "metadata": {},
   "source": [
    "## INDEX"
   ]
  },
  {
   "cell_type": "code",
   "execution_count": 80,
   "metadata": {},
   "outputs": [
    {
     "data": {
      "text/plain": [
       "0"
      ]
     },
     "execution_count": 80,
     "metadata": {},
     "output_type": "execute_result"
    }
   ],
   "source": [
    "len(crime_yr[crime_yr.index.isnull()])"
   ]
  },
  {
   "cell_type": "code",
   "execution_count": 81,
   "metadata": {},
   "outputs": [
    {
     "data": {
      "text/html": [
       "<div>\n",
       "<style scoped>\n",
       "    .dataframe tbody tr th:only-of-type {\n",
       "        vertical-align: middle;\n",
       "    }\n",
       "\n",
       "    .dataframe tbody tr th {\n",
       "        vertical-align: top;\n",
       "    }\n",
       "\n",
       "    .dataframe thead th {\n",
       "        text-align: right;\n",
       "    }\n",
       "</style>\n",
       "<table border=\"1\" class=\"dataframe\">\n",
       "  <thead>\n",
       "    <tr style=\"text-align: right;\">\n",
       "      <th></th>\n",
       "      <th>Beat</th>\n",
       "      <th>BlockRange</th>\n",
       "      <th>StreetName</th>\n",
       "      <th>OffenseType</th>\n",
       "      <th>Premise</th>\n",
       "      <th>NumOffenses</th>\n",
       "      <th>Hour</th>\n",
       "      <th>day</th>\n",
       "      <th>weekday</th>\n",
       "      <th>month</th>\n",
       "      <th>year</th>\n",
       "    </tr>\n",
       "    <tr>\n",
       "      <th>Date_Hour</th>\n",
       "      <th></th>\n",
       "      <th></th>\n",
       "      <th></th>\n",
       "      <th></th>\n",
       "      <th></th>\n",
       "      <th></th>\n",
       "      <th></th>\n",
       "      <th></th>\n",
       "      <th></th>\n",
       "      <th></th>\n",
       "      <th></th>\n",
       "    </tr>\n",
       "  </thead>\n",
       "  <tbody>\n",
       "  </tbody>\n",
       "</table>\n",
       "</div>"
      ],
      "text/plain": [
       "Empty DataFrame\n",
       "Columns: [Beat, BlockRange, StreetName, OffenseType, Premise, NumOffenses, Hour, day, weekday, month, year]\n",
       "Index: []"
      ]
     },
     "execution_count": 81,
     "metadata": {},
     "output_type": "execute_result"
    }
   ],
   "source": [
    "crime_yr[crime_yr.index.isnull()]"
   ]
  },
  {
   "cell_type": "code",
   "execution_count": 82,
   "metadata": {},
   "outputs": [
    {
     "data": {
      "text/plain": [
       "DatetimeIndex(['1917-01-20 12:00:00', '1917-02-20 15:00:00',\n",
       "               '1917-02-20 16:00:00', '1917-04-16 12:00:00',\n",
       "               '1917-12-18 14:00:00', '1920-02-29 18:00:00',\n",
       "               '1920-04-26 13:00:00', '1927-04-06 18:00:00',\n",
       "               '1953-07-20 19:00:00', '1964-10-31 08:00:00',\n",
       "               ...\n",
       "               '2017-12-31 22:00:00', '2017-12-31 22:00:00',\n",
       "               '2017-12-31 23:00:00', '2017-12-31 23:00:00',\n",
       "               '2017-12-31 23:00:00', '2017-12-31 23:00:00',\n",
       "               '2017-12-31 23:00:00', '2017-12-31 23:00:00',\n",
       "               '2017-12-31 23:00:00', '2017-12-31 23:00:00'],\n",
       "              dtype='datetime64[ns]', name='Date_Hour', length=119724, freq=None)"
      ]
     },
     "execution_count": 82,
     "metadata": {},
     "output_type": "execute_result"
    }
   ],
   "source": [
    "# drop index nans\n",
    "crime_yr.index.dropna(how='any')"
   ]
  },
  {
   "cell_type": "code",
   "execution_count": 83,
   "metadata": {},
   "outputs": [
    {
     "data": {
      "text/plain": [
       "0"
      ]
     },
     "execution_count": 83,
     "metadata": {},
     "output_type": "execute_result"
    }
   ],
   "source": [
    "len(crime_yr[crime_yr.index.isnull()])"
   ]
  },
  {
   "cell_type": "markdown",
   "metadata": {},
   "source": [
    "## Beat"
   ]
  },
  {
   "cell_type": "code",
   "execution_count": null,
   "metadata": {},
   "outputs": [],
   "source": []
  },
  {
   "cell_type": "code",
   "execution_count": 84,
   "metadata": {},
   "outputs": [
    {
     "data": {
      "text/plain": [
       "0"
      ]
     },
     "execution_count": 84,
     "metadata": {},
     "output_type": "execute_result"
    }
   ],
   "source": [
    "len(crime_yr[crime_yr.Beat.isnull()])"
   ]
  },
  {
   "cell_type": "code",
   "execution_count": 85,
   "metadata": {},
   "outputs": [
    {
     "data": {
      "text/html": [
       "<div>\n",
       "<style scoped>\n",
       "    .dataframe tbody tr th:only-of-type {\n",
       "        vertical-align: middle;\n",
       "    }\n",
       "\n",
       "    .dataframe tbody tr th {\n",
       "        vertical-align: top;\n",
       "    }\n",
       "\n",
       "    .dataframe thead th {\n",
       "        text-align: right;\n",
       "    }\n",
       "</style>\n",
       "<table border=\"1\" class=\"dataframe\">\n",
       "  <thead>\n",
       "    <tr style=\"text-align: right;\">\n",
       "      <th></th>\n",
       "      <th>Beat</th>\n",
       "      <th>BlockRange</th>\n",
       "      <th>StreetName</th>\n",
       "      <th>OffenseType</th>\n",
       "      <th>Premise</th>\n",
       "      <th>NumOffenses</th>\n",
       "      <th>Hour</th>\n",
       "      <th>day</th>\n",
       "      <th>weekday</th>\n",
       "      <th>month</th>\n",
       "      <th>year</th>\n",
       "    </tr>\n",
       "    <tr>\n",
       "      <th>Date_Hour</th>\n",
       "      <th></th>\n",
       "      <th></th>\n",
       "      <th></th>\n",
       "      <th></th>\n",
       "      <th></th>\n",
       "      <th></th>\n",
       "      <th></th>\n",
       "      <th></th>\n",
       "      <th></th>\n",
       "      <th></th>\n",
       "      <th></th>\n",
       "    </tr>\n",
       "  </thead>\n",
       "  <tbody>\n",
       "  </tbody>\n",
       "</table>\n",
       "</div>"
      ],
      "text/plain": [
       "Empty DataFrame\n",
       "Columns: [Beat, BlockRange, StreetName, OffenseType, Premise, NumOffenses, Hour, day, weekday, month, year]\n",
       "Index: []"
      ]
     },
     "execution_count": 85,
     "metadata": {},
     "output_type": "execute_result"
    }
   ],
   "source": [
    "crime_yr[crime_yr.Beat.isnull()].head()"
   ]
  },
  {
   "cell_type": "code",
   "execution_count": 86,
   "metadata": {},
   "outputs": [],
   "source": [
    "crime_yr.Beat = crime_yr.Beat.replace(np.nan, 'UNK')"
   ]
  },
  {
   "cell_type": "code",
   "execution_count": 87,
   "metadata": {},
   "outputs": [
    {
     "data": {
      "text/plain": [
       "0"
      ]
     },
     "execution_count": 87,
     "metadata": {},
     "output_type": "execute_result"
    }
   ],
   "source": [
    "len(crime_yr[crime_yr.Beat.isnull()])"
   ]
  },
  {
   "cell_type": "code",
   "execution_count": 88,
   "metadata": {},
   "outputs": [
    {
     "data": {
      "text/html": [
       "<div>\n",
       "<style scoped>\n",
       "    .dataframe tbody tr th:only-of-type {\n",
       "        vertical-align: middle;\n",
       "    }\n",
       "\n",
       "    .dataframe tbody tr th {\n",
       "        vertical-align: top;\n",
       "    }\n",
       "\n",
       "    .dataframe thead th {\n",
       "        text-align: right;\n",
       "    }\n",
       "</style>\n",
       "<table border=\"1\" class=\"dataframe\">\n",
       "  <thead>\n",
       "    <tr style=\"text-align: right;\">\n",
       "      <th></th>\n",
       "      <th>Beat</th>\n",
       "      <th>BlockRange</th>\n",
       "      <th>StreetName</th>\n",
       "      <th>OffenseType</th>\n",
       "      <th>Premise</th>\n",
       "      <th>NumOffenses</th>\n",
       "      <th>Hour</th>\n",
       "      <th>day</th>\n",
       "      <th>weekday</th>\n",
       "      <th>month</th>\n",
       "      <th>year</th>\n",
       "    </tr>\n",
       "    <tr>\n",
       "      <th>Date_Hour</th>\n",
       "      <th></th>\n",
       "      <th></th>\n",
       "      <th></th>\n",
       "      <th></th>\n",
       "      <th></th>\n",
       "      <th></th>\n",
       "      <th></th>\n",
       "      <th></th>\n",
       "      <th></th>\n",
       "      <th></th>\n",
       "      <th></th>\n",
       "    </tr>\n",
       "  </thead>\n",
       "  <tbody>\n",
       "  </tbody>\n",
       "</table>\n",
       "</div>"
      ],
      "text/plain": [
       "Empty DataFrame\n",
       "Columns: [Beat, BlockRange, StreetName, OffenseType, Premise, NumOffenses, Hour, day, weekday, month, year]\n",
       "Index: []"
      ]
     },
     "execution_count": 88,
     "metadata": {},
     "output_type": "execute_result"
    }
   ],
   "source": [
    "crime_yr[crime_yr.Beat.isnull()]"
   ]
  },
  {
   "cell_type": "markdown",
   "metadata": {},
   "source": [
    "## BlockRAnge"
   ]
  },
  {
   "cell_type": "code",
   "execution_count": 89,
   "metadata": {},
   "outputs": [
    {
     "data": {
      "text/plain": [
       "0"
      ]
     },
     "execution_count": 89,
     "metadata": {},
     "output_type": "execute_result"
    }
   ],
   "source": [
    "len(crime_yr[crime_yr.BlockRange.isnull()])"
   ]
  },
  {
   "cell_type": "code",
   "execution_count": 90,
   "metadata": {},
   "outputs": [
    {
     "data": {
      "text/html": [
       "<div>\n",
       "<style scoped>\n",
       "    .dataframe tbody tr th:only-of-type {\n",
       "        vertical-align: middle;\n",
       "    }\n",
       "\n",
       "    .dataframe tbody tr th {\n",
       "        vertical-align: top;\n",
       "    }\n",
       "\n",
       "    .dataframe thead th {\n",
       "        text-align: right;\n",
       "    }\n",
       "</style>\n",
       "<table border=\"1\" class=\"dataframe\">\n",
       "  <thead>\n",
       "    <tr style=\"text-align: right;\">\n",
       "      <th></th>\n",
       "      <th>Beat</th>\n",
       "      <th>BlockRange</th>\n",
       "      <th>StreetName</th>\n",
       "      <th>OffenseType</th>\n",
       "      <th>Premise</th>\n",
       "      <th>NumOffenses</th>\n",
       "      <th>Hour</th>\n",
       "      <th>day</th>\n",
       "      <th>weekday</th>\n",
       "      <th>month</th>\n",
       "      <th>year</th>\n",
       "    </tr>\n",
       "    <tr>\n",
       "      <th>Date_Hour</th>\n",
       "      <th></th>\n",
       "      <th></th>\n",
       "      <th></th>\n",
       "      <th></th>\n",
       "      <th></th>\n",
       "      <th></th>\n",
       "      <th></th>\n",
       "      <th></th>\n",
       "      <th></th>\n",
       "      <th></th>\n",
       "      <th></th>\n",
       "    </tr>\n",
       "  </thead>\n",
       "  <tbody>\n",
       "  </tbody>\n",
       "</table>\n",
       "</div>"
      ],
      "text/plain": [
       "Empty DataFrame\n",
       "Columns: [Beat, BlockRange, StreetName, OffenseType, Premise, NumOffenses, Hour, day, weekday, month, year]\n",
       "Index: []"
      ]
     },
     "execution_count": 90,
     "metadata": {},
     "output_type": "execute_result"
    }
   ],
   "source": [
    "crime_yr[crime_yr.BlockRange.isnull()].head()"
   ]
  },
  {
   "cell_type": "markdown",
   "metadata": {},
   "source": [
    "## StreetName"
   ]
  },
  {
   "cell_type": "code",
   "execution_count": 91,
   "metadata": {},
   "outputs": [
    {
     "data": {
      "text/plain": [
       "0"
      ]
     },
     "execution_count": 91,
     "metadata": {},
     "output_type": "execute_result"
    }
   ],
   "source": [
    "len(crime_yr[crime_yr.StreetName.isnull()])"
   ]
  },
  {
   "cell_type": "code",
   "execution_count": 92,
   "metadata": {},
   "outputs": [
    {
     "data": {
      "text/html": [
       "<div>\n",
       "<style scoped>\n",
       "    .dataframe tbody tr th:only-of-type {\n",
       "        vertical-align: middle;\n",
       "    }\n",
       "\n",
       "    .dataframe tbody tr th {\n",
       "        vertical-align: top;\n",
       "    }\n",
       "\n",
       "    .dataframe thead th {\n",
       "        text-align: right;\n",
       "    }\n",
       "</style>\n",
       "<table border=\"1\" class=\"dataframe\">\n",
       "  <thead>\n",
       "    <tr style=\"text-align: right;\">\n",
       "      <th></th>\n",
       "      <th>Beat</th>\n",
       "      <th>BlockRange</th>\n",
       "      <th>StreetName</th>\n",
       "      <th>OffenseType</th>\n",
       "      <th>Premise</th>\n",
       "      <th>NumOffenses</th>\n",
       "      <th>Hour</th>\n",
       "      <th>day</th>\n",
       "      <th>weekday</th>\n",
       "      <th>month</th>\n",
       "      <th>year</th>\n",
       "    </tr>\n",
       "    <tr>\n",
       "      <th>Date_Hour</th>\n",
       "      <th></th>\n",
       "      <th></th>\n",
       "      <th></th>\n",
       "      <th></th>\n",
       "      <th></th>\n",
       "      <th></th>\n",
       "      <th></th>\n",
       "      <th></th>\n",
       "      <th></th>\n",
       "      <th></th>\n",
       "      <th></th>\n",
       "    </tr>\n",
       "  </thead>\n",
       "  <tbody>\n",
       "  </tbody>\n",
       "</table>\n",
       "</div>"
      ],
      "text/plain": [
       "Empty DataFrame\n",
       "Columns: [Beat, BlockRange, StreetName, OffenseType, Premise, NumOffenses, Hour, day, weekday, month, year]\n",
       "Index: []"
      ]
     },
     "execution_count": 92,
     "metadata": {},
     "output_type": "execute_result"
    }
   ],
   "source": [
    "crime_yr[crime_yr.StreetName.isnull()].head()"
   ]
  },
  {
   "cell_type": "code",
   "execution_count": 93,
   "metadata": {},
   "outputs": [],
   "source": [
    "crime_yr.StreetName = crime_yr.StreetName.replace(np.nan, 'UNK')"
   ]
  },
  {
   "cell_type": "code",
   "execution_count": 94,
   "metadata": {},
   "outputs": [
    {
     "data": {
      "text/plain": [
       "0"
      ]
     },
     "execution_count": 94,
     "metadata": {},
     "output_type": "execute_result"
    }
   ],
   "source": [
    "len(crime_yr[crime_yr.StreetName.isnull()])"
   ]
  },
  {
   "cell_type": "code",
   "execution_count": null,
   "metadata": {},
   "outputs": [],
   "source": []
  },
  {
   "cell_type": "markdown",
   "metadata": {},
   "source": [
    "## OffenseType"
   ]
  },
  {
   "cell_type": "code",
   "execution_count": 95,
   "metadata": {},
   "outputs": [
    {
     "data": {
      "text/plain": [
       "0"
      ]
     },
     "execution_count": 95,
     "metadata": {},
     "output_type": "execute_result"
    }
   ],
   "source": [
    "len(crime_yr[crime_yr.OffenseType.isnull()])"
   ]
  },
  {
   "cell_type": "code",
   "execution_count": 96,
   "metadata": {},
   "outputs": [
    {
     "data": {
      "text/html": [
       "<div>\n",
       "<style scoped>\n",
       "    .dataframe tbody tr th:only-of-type {\n",
       "        vertical-align: middle;\n",
       "    }\n",
       "\n",
       "    .dataframe tbody tr th {\n",
       "        vertical-align: top;\n",
       "    }\n",
       "\n",
       "    .dataframe thead th {\n",
       "        text-align: right;\n",
       "    }\n",
       "</style>\n",
       "<table border=\"1\" class=\"dataframe\">\n",
       "  <thead>\n",
       "    <tr style=\"text-align: right;\">\n",
       "      <th></th>\n",
       "      <th>Beat</th>\n",
       "      <th>BlockRange</th>\n",
       "      <th>StreetName</th>\n",
       "      <th>OffenseType</th>\n",
       "      <th>Premise</th>\n",
       "      <th>NumOffenses</th>\n",
       "      <th>Hour</th>\n",
       "      <th>day</th>\n",
       "      <th>weekday</th>\n",
       "      <th>month</th>\n",
       "      <th>year</th>\n",
       "    </tr>\n",
       "    <tr>\n",
       "      <th>Date_Hour</th>\n",
       "      <th></th>\n",
       "      <th></th>\n",
       "      <th></th>\n",
       "      <th></th>\n",
       "      <th></th>\n",
       "      <th></th>\n",
       "      <th></th>\n",
       "      <th></th>\n",
       "      <th></th>\n",
       "      <th></th>\n",
       "      <th></th>\n",
       "    </tr>\n",
       "  </thead>\n",
       "  <tbody>\n",
       "  </tbody>\n",
       "</table>\n",
       "</div>"
      ],
      "text/plain": [
       "Empty DataFrame\n",
       "Columns: [Beat, BlockRange, StreetName, OffenseType, Premise, NumOffenses, Hour, day, weekday, month, year]\n",
       "Index: []"
      ]
     },
     "execution_count": 96,
     "metadata": {},
     "output_type": "execute_result"
    }
   ],
   "source": [
    "crime_yr[crime_yr.OffenseType.isnull()]"
   ]
  },
  {
   "cell_type": "code",
   "execution_count": 97,
   "metadata": {},
   "outputs": [],
   "source": [
    "crime_yr.OffenseType = crime_yr.OffenseType.replace(np.nan, 'UNK')"
   ]
  },
  {
   "cell_type": "code",
   "execution_count": 98,
   "metadata": {},
   "outputs": [
    {
     "data": {
      "text/plain": [
       "0"
      ]
     },
     "execution_count": 98,
     "metadata": {},
     "output_type": "execute_result"
    }
   ],
   "source": [
    "len(crime_yr[crime_yr.OffenseType.isnull()])"
   ]
  },
  {
   "cell_type": "markdown",
   "metadata": {},
   "source": [
    "## Hour"
   ]
  },
  {
   "cell_type": "code",
   "execution_count": 99,
   "metadata": {},
   "outputs": [
    {
     "data": {
      "text/plain": [
       "0"
      ]
     },
     "execution_count": 99,
     "metadata": {},
     "output_type": "execute_result"
    }
   ],
   "source": [
    "len(crime_yr[crime_yr.Hour.isnull()])"
   ]
  },
  {
   "cell_type": "code",
   "execution_count": 100,
   "metadata": {},
   "outputs": [
    {
     "data": {
      "text/html": [
       "<div>\n",
       "<style scoped>\n",
       "    .dataframe tbody tr th:only-of-type {\n",
       "        vertical-align: middle;\n",
       "    }\n",
       "\n",
       "    .dataframe tbody tr th {\n",
       "        vertical-align: top;\n",
       "    }\n",
       "\n",
       "    .dataframe thead th {\n",
       "        text-align: right;\n",
       "    }\n",
       "</style>\n",
       "<table border=\"1\" class=\"dataframe\">\n",
       "  <thead>\n",
       "    <tr style=\"text-align: right;\">\n",
       "      <th></th>\n",
       "      <th>Beat</th>\n",
       "      <th>BlockRange</th>\n",
       "      <th>StreetName</th>\n",
       "      <th>OffenseType</th>\n",
       "      <th>Premise</th>\n",
       "      <th>NumOffenses</th>\n",
       "      <th>Hour</th>\n",
       "      <th>day</th>\n",
       "      <th>weekday</th>\n",
       "      <th>month</th>\n",
       "      <th>year</th>\n",
       "    </tr>\n",
       "    <tr>\n",
       "      <th>Date_Hour</th>\n",
       "      <th></th>\n",
       "      <th></th>\n",
       "      <th></th>\n",
       "      <th></th>\n",
       "      <th></th>\n",
       "      <th></th>\n",
       "      <th></th>\n",
       "      <th></th>\n",
       "      <th></th>\n",
       "      <th></th>\n",
       "      <th></th>\n",
       "    </tr>\n",
       "  </thead>\n",
       "  <tbody>\n",
       "  </tbody>\n",
       "</table>\n",
       "</div>"
      ],
      "text/plain": [
       "Empty DataFrame\n",
       "Columns: [Beat, BlockRange, StreetName, OffenseType, Premise, NumOffenses, Hour, day, weekday, month, year]\n",
       "Index: []"
      ]
     },
     "execution_count": 100,
     "metadata": {},
     "output_type": "execute_result"
    }
   ],
   "source": [
    "crime_yr[crime_yr.Hour.isnull()].head()"
   ]
  },
  {
   "cell_type": "markdown",
   "metadata": {},
   "source": [
    "## Premsie "
   ]
  },
  {
   "cell_type": "code",
   "execution_count": 101,
   "metadata": {},
   "outputs": [
    {
     "data": {
      "text/plain": [
       "487"
      ]
     },
     "execution_count": 101,
     "metadata": {},
     "output_type": "execute_result"
    }
   ],
   "source": [
    "len(crime_yr[crime_yr['Premise'].isnull()])"
   ]
  },
  {
   "cell_type": "code",
   "execution_count": 102,
   "metadata": {},
   "outputs": [
    {
     "data": {
      "text/html": [
       "<div>\n",
       "<style scoped>\n",
       "    .dataframe tbody tr th:only-of-type {\n",
       "        vertical-align: middle;\n",
       "    }\n",
       "\n",
       "    .dataframe tbody tr th {\n",
       "        vertical-align: top;\n",
       "    }\n",
       "\n",
       "    .dataframe thead th {\n",
       "        text-align: right;\n",
       "    }\n",
       "</style>\n",
       "<table border=\"1\" class=\"dataframe\">\n",
       "  <thead>\n",
       "    <tr style=\"text-align: right;\">\n",
       "      <th></th>\n",
       "      <th>Beat</th>\n",
       "      <th>BlockRange</th>\n",
       "      <th>StreetName</th>\n",
       "      <th>OffenseType</th>\n",
       "      <th>Premise</th>\n",
       "      <th>NumOffenses</th>\n",
       "      <th>Hour</th>\n",
       "      <th>day</th>\n",
       "      <th>weekday</th>\n",
       "      <th>month</th>\n",
       "      <th>year</th>\n",
       "    </tr>\n",
       "    <tr>\n",
       "      <th>Date_Hour</th>\n",
       "      <th></th>\n",
       "      <th></th>\n",
       "      <th></th>\n",
       "      <th></th>\n",
       "      <th></th>\n",
       "      <th></th>\n",
       "      <th></th>\n",
       "      <th></th>\n",
       "      <th></th>\n",
       "      <th></th>\n",
       "      <th></th>\n",
       "    </tr>\n",
       "  </thead>\n",
       "  <tbody>\n",
       "    <tr>\n",
       "      <th>2007-12-30 16:00:00</th>\n",
       "      <td>3B30</td>\n",
       "      <td>2000-2099</td>\n",
       "      <td>43RD</td>\n",
       "      <td>Theft</td>\n",
       "      <td>NaN</td>\n",
       "      <td>1.0</td>\n",
       "      <td>16:00:00</td>\n",
       "      <td>30</td>\n",
       "      <td>Sunday</td>\n",
       "      <td>Dec</td>\n",
       "      <td>2007</td>\n",
       "    </tr>\n",
       "    <tr>\n",
       "      <th>2014-01-08 12:00:00</th>\n",
       "      <td>6B60</td>\n",
       "      <td>800-899</td>\n",
       "      <td>GREENS</td>\n",
       "      <td>Rape</td>\n",
       "      <td>NaN</td>\n",
       "      <td>1.0</td>\n",
       "      <td>12:00:00</td>\n",
       "      <td>08</td>\n",
       "      <td>Wednesday</td>\n",
       "      <td>Jan</td>\n",
       "      <td>2014</td>\n",
       "    </tr>\n",
       "    <tr>\n",
       "      <th>2016-10-07 22:00:00</th>\n",
       "      <td>4F30</td>\n",
       "      <td>2100-2199</td>\n",
       "      <td>HIGHWAY 6</td>\n",
       "      <td>Aggravated Assault</td>\n",
       "      <td>NaN</td>\n",
       "      <td>1.0</td>\n",
       "      <td>22:00:00</td>\n",
       "      <td>07</td>\n",
       "      <td>Friday</td>\n",
       "      <td>Oct</td>\n",
       "      <td>2016</td>\n",
       "    </tr>\n",
       "    <tr>\n",
       "      <th>2016-10-09 08:00:00</th>\n",
       "      <td>19G10</td>\n",
       "      <td>9700-9799</td>\n",
       "      <td>BISSONNET</td>\n",
       "      <td>Rape</td>\n",
       "      <td>NaN</td>\n",
       "      <td>1.0</td>\n",
       "      <td>08:00:00</td>\n",
       "      <td>09</td>\n",
       "      <td>Sunday</td>\n",
       "      <td>Oct</td>\n",
       "      <td>2016</td>\n",
       "    </tr>\n",
       "    <tr>\n",
       "      <th>2016-10-15 17:00:00</th>\n",
       "      <td>17E30</td>\n",
       "      <td>9000-9099</td>\n",
       "      <td>BELLFORT</td>\n",
       "      <td>Theft</td>\n",
       "      <td>NaN</td>\n",
       "      <td>1.0</td>\n",
       "      <td>17:00:00</td>\n",
       "      <td>15</td>\n",
       "      <td>Saturday</td>\n",
       "      <td>Oct</td>\n",
       "      <td>2016</td>\n",
       "    </tr>\n",
       "  </tbody>\n",
       "</table>\n",
       "</div>"
      ],
      "text/plain": [
       "                      Beat BlockRange StreetName         OffenseType Premise  \\\n",
       "Date_Hour                                                                      \n",
       "2007-12-30 16:00:00   3B30  2000-2099       43RD               Theft     NaN   \n",
       "2014-01-08 12:00:00   6B60    800-899     GREENS                Rape     NaN   \n",
       "2016-10-07 22:00:00   4F30  2100-2199  HIGHWAY 6  Aggravated Assault     NaN   \n",
       "2016-10-09 08:00:00  19G10  9700-9799  BISSONNET                Rape     NaN   \n",
       "2016-10-15 17:00:00  17E30  9000-9099   BELLFORT               Theft     NaN   \n",
       "\n",
       "                     NumOffenses      Hour day    weekday month  year  \n",
       "Date_Hour                                                              \n",
       "2007-12-30 16:00:00          1.0  16:00:00  30     Sunday   Dec  2007  \n",
       "2014-01-08 12:00:00          1.0  12:00:00  08  Wednesday   Jan  2014  \n",
       "2016-10-07 22:00:00          1.0  22:00:00  07     Friday   Oct  2016  \n",
       "2016-10-09 08:00:00          1.0  08:00:00  09     Sunday   Oct  2016  \n",
       "2016-10-15 17:00:00          1.0  17:00:00  15   Saturday   Oct  2016  "
      ]
     },
     "execution_count": 102,
     "metadata": {},
     "output_type": "execute_result"
    }
   ],
   "source": [
    "crime_yr[crime_yr['Premise'].isnull()].head()"
   ]
  },
  {
   "cell_type": "code",
   "execution_count": 103,
   "metadata": {},
   "outputs": [],
   "source": [
    "crime_yr['Premise'] = crime_yr['Premise'].replace(np.nan, 'No label')"
   ]
  },
  {
   "cell_type": "code",
   "execution_count": 104,
   "metadata": {},
   "outputs": [
    {
     "data": {
      "text/plain": [
       "0"
      ]
     },
     "execution_count": 104,
     "metadata": {},
     "output_type": "execute_result"
    }
   ],
   "source": [
    "len(crime_yr[crime_yr['Premise'].isnull()])"
   ]
  },
  {
   "cell_type": "code",
   "execution_count": 105,
   "metadata": {},
   "outputs": [
    {
     "data": {
      "text/html": [
       "<div>\n",
       "<style scoped>\n",
       "    .dataframe tbody tr th:only-of-type {\n",
       "        vertical-align: middle;\n",
       "    }\n",
       "\n",
       "    .dataframe tbody tr th {\n",
       "        vertical-align: top;\n",
       "    }\n",
       "\n",
       "    .dataframe thead th {\n",
       "        text-align: right;\n",
       "    }\n",
       "</style>\n",
       "<table border=\"1\" class=\"dataframe\">\n",
       "  <thead>\n",
       "    <tr style=\"text-align: right;\">\n",
       "      <th></th>\n",
       "      <th>Beat</th>\n",
       "      <th>BlockRange</th>\n",
       "      <th>StreetName</th>\n",
       "      <th>OffenseType</th>\n",
       "      <th>Premise</th>\n",
       "      <th>NumOffenses</th>\n",
       "      <th>Hour</th>\n",
       "      <th>day</th>\n",
       "      <th>weekday</th>\n",
       "      <th>month</th>\n",
       "      <th>year</th>\n",
       "    </tr>\n",
       "    <tr>\n",
       "      <th>Date_Hour</th>\n",
       "      <th></th>\n",
       "      <th></th>\n",
       "      <th></th>\n",
       "      <th></th>\n",
       "      <th></th>\n",
       "      <th></th>\n",
       "      <th></th>\n",
       "      <th></th>\n",
       "      <th></th>\n",
       "      <th></th>\n",
       "      <th></th>\n",
       "    </tr>\n",
       "  </thead>\n",
       "  <tbody>\n",
       "  </tbody>\n",
       "</table>\n",
       "</div>"
      ],
      "text/plain": [
       "Empty DataFrame\n",
       "Columns: [Beat, BlockRange, StreetName, OffenseType, Premise, NumOffenses, Hour, day, weekday, month, year]\n",
       "Index: []"
      ]
     },
     "execution_count": 105,
     "metadata": {},
     "output_type": "execute_result"
    }
   ],
   "source": [
    "crime_yr[crime_yr['Premise'].isnull()]"
   ]
  },
  {
   "cell_type": "markdown",
   "metadata": {},
   "source": []
  },
  {
   "cell_type": "code",
   "execution_count": null,
   "metadata": {},
   "outputs": [],
   "source": []
  },
  {
   "cell_type": "code",
   "execution_count": 106,
   "metadata": {},
   "outputs": [
    {
     "data": {
      "text/plain": [
       "0"
      ]
     },
     "execution_count": 106,
     "metadata": {},
     "output_type": "execute_result"
    }
   ],
   "source": [
    "# display any null\n",
    "\n",
    "len(crime_yr[crime_yr.isnull().any(axis=1)])"
   ]
  },
  {
   "cell_type": "code",
   "execution_count": 107,
   "metadata": {},
   "outputs": [
    {
     "data": {
      "text/html": [
       "<div>\n",
       "<style scoped>\n",
       "    .dataframe tbody tr th:only-of-type {\n",
       "        vertical-align: middle;\n",
       "    }\n",
       "\n",
       "    .dataframe tbody tr th {\n",
       "        vertical-align: top;\n",
       "    }\n",
       "\n",
       "    .dataframe thead th {\n",
       "        text-align: right;\n",
       "    }\n",
       "</style>\n",
       "<table border=\"1\" class=\"dataframe\">\n",
       "  <thead>\n",
       "    <tr style=\"text-align: right;\">\n",
       "      <th></th>\n",
       "      <th>Beat</th>\n",
       "      <th>BlockRange</th>\n",
       "      <th>StreetName</th>\n",
       "      <th>OffenseType</th>\n",
       "      <th>Premise</th>\n",
       "      <th>NumOffenses</th>\n",
       "      <th>Hour</th>\n",
       "      <th>day</th>\n",
       "      <th>weekday</th>\n",
       "      <th>month</th>\n",
       "      <th>year</th>\n",
       "    </tr>\n",
       "    <tr>\n",
       "      <th>Date_Hour</th>\n",
       "      <th></th>\n",
       "      <th></th>\n",
       "      <th></th>\n",
       "      <th></th>\n",
       "      <th></th>\n",
       "      <th></th>\n",
       "      <th></th>\n",
       "      <th></th>\n",
       "      <th></th>\n",
       "      <th></th>\n",
       "      <th></th>\n",
       "    </tr>\n",
       "  </thead>\n",
       "  <tbody>\n",
       "  </tbody>\n",
       "</table>\n",
       "</div>"
      ],
      "text/plain": [
       "Empty DataFrame\n",
       "Columns: [Beat, BlockRange, StreetName, OffenseType, Premise, NumOffenses, Hour, day, weekday, month, year]\n",
       "Index: []"
      ]
     },
     "execution_count": 107,
     "metadata": {},
     "output_type": "execute_result"
    }
   ],
   "source": [
    "crime_yr[crime_yr.isnull().any(axis=1)]"
   ]
  },
  {
   "cell_type": "markdown",
   "metadata": {},
   "source": [
    "## Save"
   ]
  },
  {
   "cell_type": "code",
   "execution_count": 108,
   "metadata": {},
   "outputs": [
    {
     "data": {
      "image/png": "[encoded data removed]",
      "text/plain": [
       "<Figure size 432x288 with 1 Axes>"
      ]
     },
     "metadata": {},
     "output_type": "display_data"
    }
   ],
   "source": [
    "sns.heatmap(crime_yr.isnull(),yticklabels=False,cbar=False,cmap='viridis')\n",
    "plt.title('Null dataset display')\n",
    "plt.show()"
   ]
  },
  {
   "cell_type": "code",
   "execution_count": null,
   "metadata": {},
   "outputs": [],
   "source": []
  },
  {
   "cell_type": "code",
   "execution_count": null,
   "metadata": {},
   "outputs": [],
   "source": [
    "crime_yr.head()"
   ]
  },
  {
   "cell_type": "code",
   "execution_count": null,
   "metadata": {},
   "outputs": [],
   "source": [
    "ls crime_data_clean/new"
   ]
  },
  {
   "cell_type": "code",
   "execution_count": 109,
   "metadata": {},
   "outputs": [],
   "source": [
    "crime_yr.to_csv('crime_data_clean/years/Final_crime17_clean.csv')"
   ]
  },
  {
   "cell_type": "code",
   "execution_count": 110,
   "metadata": {},
   "outputs": [
    {
     "name": "stdout",
     "output_type": "stream",
     "text": [
      "\u001b[0m\u001b[01;32mFinal_crime17_clean.csv\u001b[0m*\r\n"
     ]
    }
   ],
   "source": [
    "ls crime_data_clean/years"
   ]
  },
  {
   "cell_type": "code",
   "execution_count": null,
   "metadata": {},
   "outputs": [],
   "source": []
  }
 ],
 "metadata": {
  "kernelspec": {
   "display_name": "Python 3",
   "language": "python",
   "name": "python3"
  },
  "language_info": {
   "codemirror_mode": {
    "name": "ipython",
    "version": 3
   },
   "file_extension": ".py",
   "mimetype": "text/x-python",
   "name": "python",
   "nbconvert_exporter": "python",
   "pygments_lexer": "ipython3",
   "version": "3.6.4"
  }
 },
 "nbformat": 4,
 "nbformat_minor": 2
}
