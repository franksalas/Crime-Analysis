{
 "cells": [
  {
   "cell_type": "code",
   "execution_count": 1,
   "metadata": {},
   "outputs": [],
   "source": [
    "import pandas as pd\n",
    "import glob, os\n",
    "import numpy as np\n",
    "\n",
    "import matplotlib.pyplot as plt\n",
    "import seaborn as sns\n",
    "import datetime as dt"
   ]
  },
  {
   "cell_type": "code",
   "execution_count": 2,
   "metadata": {},
   "outputs": [],
   "source": [
    "path = 'crime_data_clean/crime_final_clean10_17.csv'"
   ]
  },
  {
   "cell_type": "code",
   "execution_count": null,
   "metadata": {},
   "outputs": [],
   "source": []
  },
  {
   "cell_type": "code",
   "execution_count": 3,
   "metadata": {},
   "outputs": [],
   "source": [
    "df = pd.read_csv(path)"
   ]
  },
  {
   "cell_type": "code",
   "execution_count": 4,
   "metadata": {},
   "outputs": [
    {
     "name": "stdout",
     "output_type": "stream",
     "text": [
      "<class 'pandas.core.frame.DataFrame'>\n",
      "RangeIndex: 1003741 entries, 0 to 1003740\n",
      "Data columns (total 12 columns):\n",
      "Date_Hour      1003741 non-null object\n",
      "Beat           1003741 non-null object\n",
      "BlockRange     1003585 non-null object\n",
      "StreetName     1003739 non-null object\n",
      "OffenseType    1003741 non-null object\n",
      "Premise        1003741 non-null object\n",
      "NumOffenses    1003741 non-null int64\n",
      "Hour           1003741 non-null int64\n",
      "day            1003741 non-null int64\n",
      "weekday        1003741 non-null object\n",
      "month          1003741 non-null object\n",
      "year           1003741 non-null int64\n",
      "dtypes: int64(4), object(8)\n",
      "memory usage: 91.9+ MB\n"
     ]
    }
   ],
   "source": [
    "df.info()"
   ]
  },
  {
   "cell_type": "code",
   "execution_count": 5,
   "metadata": {},
   "outputs": [],
   "source": [
    "df.Date_Hour = pd.to_datetime(df.Date_Hour)\n",
    "df = df.set_index('Date_Hour').sort_index(ascending=True)"
   ]
  },
  {
   "cell_type": "code",
   "execution_count": 6,
   "metadata": {},
   "outputs": [
    {
     "data": {
      "text/html": [
       "<div>\n",
       "<style scoped>\n",
       "    .dataframe tbody tr th:only-of-type {\n",
       "        vertical-align: middle;\n",
       "    }\n",
       "\n",
       "    .dataframe tbody tr th {\n",
       "        vertical-align: top;\n",
       "    }\n",
       "\n",
       "    .dataframe thead th {\n",
       "        text-align: right;\n",
       "    }\n",
       "</style>\n",
       "<table border=\"1\" class=\"dataframe\">\n",
       "  <thead>\n",
       "    <tr style=\"text-align: right;\">\n",
       "      <th></th>\n",
       "      <th>Beat</th>\n",
       "      <th>BlockRange</th>\n",
       "      <th>StreetName</th>\n",
       "      <th>OffenseType</th>\n",
       "      <th>Premise</th>\n",
       "      <th>NumOffenses</th>\n",
       "      <th>Hour</th>\n",
       "      <th>day</th>\n",
       "      <th>weekday</th>\n",
       "      <th>month</th>\n",
       "      <th>year</th>\n",
       "    </tr>\n",
       "    <tr>\n",
       "      <th>Date_Hour</th>\n",
       "      <th></th>\n",
       "      <th></th>\n",
       "      <th></th>\n",
       "      <th></th>\n",
       "      <th></th>\n",
       "      <th></th>\n",
       "      <th></th>\n",
       "      <th></th>\n",
       "      <th></th>\n",
       "      <th></th>\n",
       "      <th></th>\n",
       "    </tr>\n",
       "  </thead>\n",
       "  <tbody>\n",
       "    <tr>\n",
       "      <th>2010-01-01</th>\n",
       "      <td>10H10</td>\n",
       "      <td>500-599</td>\n",
       "      <td>EASTWOOD</td>\n",
       "      <td>Burglary</td>\n",
       "      <td>misc. business (non-specific)</td>\n",
       "      <td>1</td>\n",
       "      <td>0</td>\n",
       "      <td>1</td>\n",
       "      <td>Friday</td>\n",
       "      <td>Jan</td>\n",
       "      <td>2010</td>\n",
       "    </tr>\n",
       "    <tr>\n",
       "      <th>2010-01-01</th>\n",
       "      <td>4F20</td>\n",
       "      <td>4800-4899</td>\n",
       "      <td>LAURELDALE</td>\n",
       "      <td>Aggravated Assault</td>\n",
       "      <td>residence/house</td>\n",
       "      <td>1</td>\n",
       "      <td>0</td>\n",
       "      <td>1</td>\n",
       "      <td>Friday</td>\n",
       "      <td>Jan</td>\n",
       "      <td>2010</td>\n",
       "    </tr>\n",
       "    <tr>\n",
       "      <th>2010-01-01</th>\n",
       "      <td>1A10</td>\n",
       "      <td>300-399</td>\n",
       "      <td>HAMILTON</td>\n",
       "      <td>Auto Theft</td>\n",
       "      <td>bar/night club parking lot</td>\n",
       "      <td>1</td>\n",
       "      <td>0</td>\n",
       "      <td>1</td>\n",
       "      <td>Friday</td>\n",
       "      <td>Jan</td>\n",
       "      <td>2010</td>\n",
       "    </tr>\n",
       "    <tr>\n",
       "      <th>2010-01-01</th>\n",
       "      <td>24C40</td>\n",
       "      <td>24000-24099</td>\n",
       "      <td>LAKE HOUSTON</td>\n",
       "      <td>Auto Theft</td>\n",
       "      <td>road/street/sidewalk</td>\n",
       "      <td>1</td>\n",
       "      <td>0</td>\n",
       "      <td>1</td>\n",
       "      <td>Friday</td>\n",
       "      <td>Jan</td>\n",
       "      <td>2010</td>\n",
       "    </tr>\n",
       "    <tr>\n",
       "      <th>2010-01-01</th>\n",
       "      <td>24C10</td>\n",
       "      <td>21700-21799</td>\n",
       "      <td>LAKEPOINT</td>\n",
       "      <td>Theft</td>\n",
       "      <td>residence/house</td>\n",
       "      <td>1</td>\n",
       "      <td>0</td>\n",
       "      <td>1</td>\n",
       "      <td>Friday</td>\n",
       "      <td>Jan</td>\n",
       "      <td>2010</td>\n",
       "    </tr>\n",
       "  </tbody>\n",
       "</table>\n",
       "</div>"
      ],
      "text/plain": [
       "             Beat   BlockRange    StreetName         OffenseType  \\\n",
       "Date_Hour                                                          \n",
       "2010-01-01  10H10      500-599      EASTWOOD            Burglary   \n",
       "2010-01-01   4F20    4800-4899    LAURELDALE  Aggravated Assault   \n",
       "2010-01-01   1A10      300-399      HAMILTON          Auto Theft   \n",
       "2010-01-01  24C40  24000-24099  LAKE HOUSTON          Auto Theft   \n",
       "2010-01-01  24C10  21700-21799     LAKEPOINT               Theft   \n",
       "\n",
       "                                  Premise  NumOffenses  Hour  day weekday  \\\n",
       "Date_Hour                                                                   \n",
       "2010-01-01  misc. business (non-specific)            1     0    1  Friday   \n",
       "2010-01-01                residence/house            1     0    1  Friday   \n",
       "2010-01-01     bar/night club parking lot            1     0    1  Friday   \n",
       "2010-01-01           road/street/sidewalk            1     0    1  Friday   \n",
       "2010-01-01                residence/house            1     0    1  Friday   \n",
       "\n",
       "           month  year  \n",
       "Date_Hour               \n",
       "2010-01-01   Jan  2010  \n",
       "2010-01-01   Jan  2010  \n",
       "2010-01-01   Jan  2010  \n",
       "2010-01-01   Jan  2010  \n",
       "2010-01-01   Jan  2010  "
      ]
     },
     "execution_count": 6,
     "metadata": {},
     "output_type": "execute_result"
    }
   ],
   "source": [
    "df.head()"
   ]
  },
  {
   "cell_type": "markdown",
   "metadata": {},
   "source": [
    "# Cleanup Premise"
   ]
  },
  {
   "cell_type": "code",
   "execution_count": 7,
   "metadata": {},
   "outputs": [
    {
     "data": {
      "text/html": [
       "<div>\n",
       "<style scoped>\n",
       "    .dataframe tbody tr th:only-of-type {\n",
       "        vertical-align: middle;\n",
       "    }\n",
       "\n",
       "    .dataframe tbody tr th {\n",
       "        vertical-align: top;\n",
       "    }\n",
       "\n",
       "    .dataframe thead th {\n",
       "        text-align: right;\n",
       "    }\n",
       "</style>\n",
       "<table border=\"1\" class=\"dataframe\">\n",
       "  <thead>\n",
       "    <tr style=\"text-align: right;\">\n",
       "      <th></th>\n",
       "      <th>Beat</th>\n",
       "      <th>BlockRange</th>\n",
       "      <th>StreetName</th>\n",
       "      <th>OffenseType</th>\n",
       "      <th>Premise</th>\n",
       "      <th>NumOffenses</th>\n",
       "      <th>Hour</th>\n",
       "      <th>day</th>\n",
       "      <th>weekday</th>\n",
       "      <th>month</th>\n",
       "      <th>year</th>\n",
       "    </tr>\n",
       "    <tr>\n",
       "      <th>Date_Hour</th>\n",
       "      <th></th>\n",
       "      <th></th>\n",
       "      <th></th>\n",
       "      <th></th>\n",
       "      <th></th>\n",
       "      <th></th>\n",
       "      <th></th>\n",
       "      <th></th>\n",
       "      <th></th>\n",
       "      <th></th>\n",
       "      <th></th>\n",
       "    </tr>\n",
       "  </thead>\n",
       "  <tbody>\n",
       "    <tr>\n",
       "      <th>2010-01-01</th>\n",
       "      <td>10H10</td>\n",
       "      <td>500-599</td>\n",
       "      <td>EASTWOOD</td>\n",
       "      <td>Burglary</td>\n",
       "      <td>misc. business (non-specific)</td>\n",
       "      <td>1</td>\n",
       "      <td>0</td>\n",
       "      <td>1</td>\n",
       "      <td>Friday</td>\n",
       "      <td>Jan</td>\n",
       "      <td>2010</td>\n",
       "    </tr>\n",
       "    <tr>\n",
       "      <th>2010-01-01</th>\n",
       "      <td>4F20</td>\n",
       "      <td>4800-4899</td>\n",
       "      <td>LAURELDALE</td>\n",
       "      <td>Aggravated Assault</td>\n",
       "      <td>residence/house</td>\n",
       "      <td>1</td>\n",
       "      <td>0</td>\n",
       "      <td>1</td>\n",
       "      <td>Friday</td>\n",
       "      <td>Jan</td>\n",
       "      <td>2010</td>\n",
       "    </tr>\n",
       "    <tr>\n",
       "      <th>2010-01-01</th>\n",
       "      <td>1A10</td>\n",
       "      <td>300-399</td>\n",
       "      <td>HAMILTON</td>\n",
       "      <td>Auto Theft</td>\n",
       "      <td>bar/night club parking lot</td>\n",
       "      <td>1</td>\n",
       "      <td>0</td>\n",
       "      <td>1</td>\n",
       "      <td>Friday</td>\n",
       "      <td>Jan</td>\n",
       "      <td>2010</td>\n",
       "    </tr>\n",
       "    <tr>\n",
       "      <th>2010-01-01</th>\n",
       "      <td>24C40</td>\n",
       "      <td>24000-24099</td>\n",
       "      <td>LAKE HOUSTON</td>\n",
       "      <td>Auto Theft</td>\n",
       "      <td>road/street/sidewalk</td>\n",
       "      <td>1</td>\n",
       "      <td>0</td>\n",
       "      <td>1</td>\n",
       "      <td>Friday</td>\n",
       "      <td>Jan</td>\n",
       "      <td>2010</td>\n",
       "    </tr>\n",
       "    <tr>\n",
       "      <th>2010-01-01</th>\n",
       "      <td>24C10</td>\n",
       "      <td>21700-21799</td>\n",
       "      <td>LAKEPOINT</td>\n",
       "      <td>Theft</td>\n",
       "      <td>residence/house</td>\n",
       "      <td>1</td>\n",
       "      <td>0</td>\n",
       "      <td>1</td>\n",
       "      <td>Friday</td>\n",
       "      <td>Jan</td>\n",
       "      <td>2010</td>\n",
       "    </tr>\n",
       "  </tbody>\n",
       "</table>\n",
       "</div>"
      ],
      "text/plain": [
       "             Beat   BlockRange    StreetName         OffenseType  \\\n",
       "Date_Hour                                                          \n",
       "2010-01-01  10H10      500-599      EASTWOOD            Burglary   \n",
       "2010-01-01   4F20    4800-4899    LAURELDALE  Aggravated Assault   \n",
       "2010-01-01   1A10      300-399      HAMILTON          Auto Theft   \n",
       "2010-01-01  24C40  24000-24099  LAKE HOUSTON          Auto Theft   \n",
       "2010-01-01  24C10  21700-21799     LAKEPOINT               Theft   \n",
       "\n",
       "                                  Premise  NumOffenses  Hour  day weekday  \\\n",
       "Date_Hour                                                                   \n",
       "2010-01-01  misc. business (non-specific)            1     0    1  Friday   \n",
       "2010-01-01                residence/house            1     0    1  Friday   \n",
       "2010-01-01     bar/night club parking lot            1     0    1  Friday   \n",
       "2010-01-01           road/street/sidewalk            1     0    1  Friday   \n",
       "2010-01-01                residence/house            1     0    1  Friday   \n",
       "\n",
       "           month  year  \n",
       "Date_Hour               \n",
       "2010-01-01   Jan  2010  \n",
       "2010-01-01   Jan  2010  \n",
       "2010-01-01   Jan  2010  \n",
       "2010-01-01   Jan  2010  \n",
       "2010-01-01   Jan  2010  "
      ]
     },
     "execution_count": 7,
     "metadata": {},
     "output_type": "execute_result"
    }
   ],
   "source": [
    "df.head()"
   ]
  },
  {
   "cell_type": "code",
   "execution_count": 8,
   "metadata": {},
   "outputs": [
    {
     "data": {
      "text/plain": [
       "residence/house                              129169\n",
       "apartment                                    113819\n",
       "apartment parking lot                        111005\n",
       "road/street/sidewalk                          81688\n",
       "driveway                                      52623\n",
       "other parking lot                             44685\n",
       "department/discount store                     38116\n",
       "no label                                      33531\n",
       "restaurant/cafeteria parking lot              32447\n",
       "strip business center parking lot             18586\n",
       "other/unknown                                 16449\n",
       "commercial parking lot/garage                 13841\n",
       "grocery/supermarket                           13156\n",
       "convenience store                             12940\n",
       "miscellaneous business (non-specific)         10681\n",
       "commercial parking lot or garage              10449\n",
       "service or gas station                         9570\n",
       "restaurant/cafeteria                           9082\n",
       "convenience store parking lot                  8462\n",
       "grocery store or supermarket                   7927\n",
       "specialty store (non-specific)                 7742\n",
       "commercial building                            7740\n",
       "service/gas station                            7671\n",
       "hotel/motel parking lot                        7464\n",
       "mall parking lot                               7433\n",
       "other, unknown, or not listed                  7187\n",
       "grocery/supermarket parking lot                6591\n",
       "restaurant or cafeteria                        6194\n",
       "bar/night club parking lot                     6164\n",
       "hotel or motel parking lot                     5923\n",
       "                                              ...  \n",
       "railroad track/right of way                      45\n",
       "vacant school or college/university              41\n",
       "vacant hotel, motel, etc.                        40\n",
       "vacant grocery/supermarket                       39\n",
       "lake/waterway/bayou                              39\n",
       "vacant hotel/motel/etc.                          36\n",
       "not listed                                       35\n",
       "train (not metro) terminal                       34\n",
       "jail or prison                                   33\n",
       "vacant hospital                                  31\n",
       "vacant government/public building                29\n",
       "vacant church, synagogue, or temple              25\n",
       "package facility (fedex,ups,dhl)                 25\n",
       "vacant industrial or manufacturing blding        24\n",
       "vacant school/college                            23\n",
       "vacant government or public building             18\n",
       "adult novelty store                              15\n",
       "illicit massage parlor or spa                    12\n",
       "marine veh. sales,boats,sailboats                11\n",
       "marine vehicle sales, boats, sailboats            8\n",
       "light rail vehicle                                6\n",
       "23c                                               5\n",
       "contra-flow/hov                                   5\n",
       "vacant bank                                       5\n",
       "adult theater/arcade                              5\n",
       "cantina                                           4\n",
       "modeling studio                                   2\n",
       "contra-flow, managed, or hov lanes                1\n",
       "res                                               1\n",
       "vacant jail or prison                             1\n",
       "Name: Premise, Length: 203, dtype: int64"
      ]
     },
     "execution_count": 8,
     "metadata": {},
     "output_type": "execute_result"
    }
   ],
   "source": [
    "df.Premise.value_counts(dropna=False)"
   ]
  },
  {
   "cell_type": "code",
   "execution_count": 9,
   "metadata": {},
   "outputs": [],
   "source": [
    "df.Premise = df.Premise.str.lower()"
   ]
  },
  {
   "cell_type": "code",
   "execution_count": 10,
   "metadata": {},
   "outputs": [
    {
     "data": {
      "text/plain": [
       "residence/house                              129169\n",
       "apartment                                    113819\n",
       "apartment parking lot                        111005\n",
       "road/street/sidewalk                          81688\n",
       "driveway                                      52623\n",
       "other parking lot                             44685\n",
       "department/discount store                     38116\n",
       "no label                                      33531\n",
       "restaurant/cafeteria parking lot              32447\n",
       "strip business center parking lot             18586\n",
       "other/unknown                                 16449\n",
       "commercial parking lot/garage                 13841\n",
       "grocery/supermarket                           13156\n",
       "convenience store                             12940\n",
       "miscellaneous business (non-specific)         10681\n",
       "commercial parking lot or garage              10449\n",
       "service or gas station                         9570\n",
       "restaurant/cafeteria                           9082\n",
       "convenience store parking lot                  8462\n",
       "grocery store or supermarket                   7927\n",
       "specialty store (non-specific)                 7742\n",
       "commercial building                            7740\n",
       "service/gas station                            7671\n",
       "hotel/motel parking lot                        7464\n",
       "mall parking lot                               7433\n",
       "other, unknown, or not listed                  7187\n",
       "grocery/supermarket parking lot                6591\n",
       "restaurant or cafeteria                        6194\n",
       "bar/night club parking lot                     6164\n",
       "hotel or motel parking lot                     5923\n",
       "                                              ...  \n",
       "railroad track/right of way                      45\n",
       "vacant school or college/university              41\n",
       "vacant hotel, motel, etc.                        40\n",
       "vacant grocery/supermarket                       39\n",
       "lake/waterway/bayou                              39\n",
       "vacant hotel/motel/etc.                          36\n",
       "not listed                                       35\n",
       "train (not metro) terminal                       34\n",
       "jail or prison                                   33\n",
       "vacant hospital                                  31\n",
       "vacant government/public building                29\n",
       "vacant church, synagogue, or temple              25\n",
       "package facility (fedex,ups,dhl)                 25\n",
       "vacant industrial or manufacturing blding        24\n",
       "vacant school/college                            23\n",
       "vacant government or public building             18\n",
       "adult novelty store                              15\n",
       "illicit massage parlor or spa                    12\n",
       "marine veh. sales,boats,sailboats                11\n",
       "marine vehicle sales, boats, sailboats            8\n",
       "light rail vehicle                                6\n",
       "23c                                               5\n",
       "contra-flow/hov                                   5\n",
       "vacant bank                                       5\n",
       "adult theater/arcade                              5\n",
       "cantina                                           4\n",
       "modeling studio                                   2\n",
       "contra-flow, managed, or hov lanes                1\n",
       "res                                               1\n",
       "vacant jail or prison                             1\n",
       "Name: Premise, Length: 203, dtype: int64"
      ]
     },
     "execution_count": 10,
     "metadata": {},
     "output_type": "execute_result"
    }
   ],
   "source": [
    "df.Premise.value_counts(dropna=False)"
   ]
  },
  {
   "cell_type": "markdown",
   "metadata": {},
   "source": [
    "## Combine similar values"
   ]
  },
  {
   "cell_type": "code",
   "execution_count": 11,
   "metadata": {},
   "outputs": [],
   "source": [
    "df.Premise.replace( 'residence or house', 'residence/house', inplace=True)"
   ]
  },
  {
   "cell_type": "code",
   "execution_count": 12,
   "metadata": {},
   "outputs": [
    {
     "data": {
      "text/plain": [
       "residence/house                              129169\n",
       "apartment                                    113819\n",
       "apartment parking lot                        111005\n",
       "road/street/sidewalk                          81688\n",
       "driveway                                      52623\n",
       "other parking lot                             44685\n",
       "department/discount store                     38116\n",
       "no label                                      33531\n",
       "restaurant/cafeteria parking lot              32447\n",
       "strip business center parking lot             18586\n",
       "other/unknown                                 16449\n",
       "commercial parking lot/garage                 13841\n",
       "grocery/supermarket                           13156\n",
       "convenience store                             12940\n",
       "miscellaneous business (non-specific)         10681\n",
       "commercial parking lot or garage              10449\n",
       "service or gas station                         9570\n",
       "restaurant/cafeteria                           9082\n",
       "convenience store parking lot                  8462\n",
       "grocery store or supermarket                   7927\n",
       "specialty store (non-specific)                 7742\n",
       "commercial building                            7740\n",
       "service/gas station                            7671\n",
       "hotel/motel parking lot                        7464\n",
       "mall parking lot                               7433\n",
       "other, unknown, or not listed                  7187\n",
       "grocery/supermarket parking lot                6591\n",
       "restaurant or cafeteria                        6194\n",
       "bar/night club parking lot                     6164\n",
       "hotel or motel parking lot                     5923\n",
       "                                              ...  \n",
       "railroad track/right of way                      45\n",
       "vacant school or college/university              41\n",
       "vacant hotel, motel, etc.                        40\n",
       "vacant grocery/supermarket                       39\n",
       "lake/waterway/bayou                              39\n",
       "vacant hotel/motel/etc.                          36\n",
       "not listed                                       35\n",
       "train (not metro) terminal                       34\n",
       "jail or prison                                   33\n",
       "vacant hospital                                  31\n",
       "vacant government/public building                29\n",
       "vacant church, synagogue, or temple              25\n",
       "package facility (fedex,ups,dhl)                 25\n",
       "vacant industrial or manufacturing blding        24\n",
       "vacant school/college                            23\n",
       "vacant government or public building             18\n",
       "adult novelty store                              15\n",
       "illicit massage parlor or spa                    12\n",
       "marine veh. sales,boats,sailboats                11\n",
       "marine vehicle sales, boats, sailboats            8\n",
       "light rail vehicle                                6\n",
       "23c                                               5\n",
       "contra-flow/hov                                   5\n",
       "vacant bank                                       5\n",
       "adult theater/arcade                              5\n",
       "cantina                                           4\n",
       "modeling studio                                   2\n",
       "contra-flow, managed, or hov lanes                1\n",
       "res                                               1\n",
       "vacant jail or prison                             1\n",
       "Name: Premise, Length: 203, dtype: int64"
      ]
     },
     "execution_count": 12,
     "metadata": {},
     "output_type": "execute_result"
    }
   ],
   "source": [
    "df.Premise.value_counts(dropna=False)"
   ]
  },
  {
   "cell_type": "code",
   "execution_count": 13,
   "metadata": {},
   "outputs": [],
   "source": [
    "df.Premise.replace( 'road, street, or sidewalk', 'road/street/sidewalk', inplace=True)"
   ]
  },
  {
   "cell_type": "code",
   "execution_count": 14,
   "metadata": {},
   "outputs": [
    {
     "data": {
      "text/plain": [
       "residence/house                              129169\n",
       "apartment                                    113819\n",
       "apartment parking lot                        111005\n",
       "road/street/sidewalk                          81688\n",
       "driveway                                      52623\n",
       "other parking lot                             44685\n",
       "department/discount store                     38116\n",
       "no label                                      33531\n",
       "restaurant/cafeteria parking lot              32447\n",
       "strip business center parking lot             18586\n",
       "other/unknown                                 16449\n",
       "commercial parking lot/garage                 13841\n",
       "grocery/supermarket                           13156\n",
       "convenience store                             12940\n",
       "miscellaneous business (non-specific)         10681\n",
       "commercial parking lot or garage              10449\n",
       "service or gas station                         9570\n",
       "restaurant/cafeteria                           9082\n",
       "convenience store parking lot                  8462\n",
       "grocery store or supermarket                   7927\n",
       "specialty store (non-specific)                 7742\n",
       "commercial building                            7740\n",
       "service/gas station                            7671\n",
       "hotel/motel parking lot                        7464\n",
       "mall parking lot                               7433\n",
       "other, unknown, or not listed                  7187\n",
       "grocery/supermarket parking lot                6591\n",
       "restaurant or cafeteria                        6194\n",
       "bar/night club parking lot                     6164\n",
       "hotel or motel parking lot                     5923\n",
       "                                              ...  \n",
       "railroad track/right of way                      45\n",
       "vacant school or college/university              41\n",
       "vacant hotel, motel, etc.                        40\n",
       "vacant grocery/supermarket                       39\n",
       "lake/waterway/bayou                              39\n",
       "vacant hotel/motel/etc.                          36\n",
       "not listed                                       35\n",
       "train (not metro) terminal                       34\n",
       "jail or prison                                   33\n",
       "vacant hospital                                  31\n",
       "vacant government/public building                29\n",
       "vacant church, synagogue, or temple              25\n",
       "package facility (fedex,ups,dhl)                 25\n",
       "vacant industrial or manufacturing blding        24\n",
       "vacant school/college                            23\n",
       "vacant government or public building             18\n",
       "adult novelty store                              15\n",
       "illicit massage parlor or spa                    12\n",
       "marine veh. sales,boats,sailboats                11\n",
       "marine vehicle sales, boats, sailboats            8\n",
       "light rail vehicle                                6\n",
       "23c                                               5\n",
       "contra-flow/hov                                   5\n",
       "vacant bank                                       5\n",
       "adult theater/arcade                              5\n",
       "cantina                                           4\n",
       "modeling studio                                   2\n",
       "contra-flow, managed, or hov lanes                1\n",
       "res                                               1\n",
       "vacant jail or prison                             1\n",
       "Name: Premise, Length: 203, dtype: int64"
      ]
     },
     "execution_count": 14,
     "metadata": {},
     "output_type": "execute_result"
    }
   ],
   "source": [
    "df.Premise.value_counts(dropna=False)"
   ]
  },
  {
   "cell_type": "code",
   "execution_count": 15,
   "metadata": {},
   "outputs": [],
   "source": [
    "df.Premise.replace( 'restaurant or cafeteria parking lot', 'restaurant/cafeteria parking lot', inplace=True)"
   ]
  },
  {
   "cell_type": "code",
   "execution_count": 16,
   "metadata": {},
   "outputs": [
    {
     "data": {
      "text/plain": [
       "residence/house                              129169\n",
       "apartment                                    113819\n",
       "apartment parking lot                        111005\n",
       "road/street/sidewalk                          81688\n",
       "driveway                                      52623\n",
       "other parking lot                             44685\n",
       "department/discount store                     38116\n",
       "no label                                      33531\n",
       "restaurant/cafeteria parking lot              32447\n",
       "strip business center parking lot             18586\n",
       "other/unknown                                 16449\n",
       "commercial parking lot/garage                 13841\n",
       "grocery/supermarket                           13156\n",
       "convenience store                             12940\n",
       "miscellaneous business (non-specific)         10681\n",
       "commercial parking lot or garage              10449\n",
       "service or gas station                         9570\n",
       "restaurant/cafeteria                           9082\n",
       "convenience store parking lot                  8462\n",
       "grocery store or supermarket                   7927\n",
       "specialty store (non-specific)                 7742\n",
       "commercial building                            7740\n",
       "service/gas station                            7671\n",
       "hotel/motel parking lot                        7464\n",
       "mall parking lot                               7433\n",
       "other, unknown, or not listed                  7187\n",
       "grocery/supermarket parking lot                6591\n",
       "restaurant or cafeteria                        6194\n",
       "bar/night club parking lot                     6164\n",
       "hotel or motel parking lot                     5923\n",
       "                                              ...  \n",
       "railroad track/right of way                      45\n",
       "vacant school or college/university              41\n",
       "vacant hotel, motel, etc.                        40\n",
       "vacant grocery/supermarket                       39\n",
       "lake/waterway/bayou                              39\n",
       "vacant hotel/motel/etc.                          36\n",
       "not listed                                       35\n",
       "train (not metro) terminal                       34\n",
       "jail or prison                                   33\n",
       "vacant hospital                                  31\n",
       "vacant government/public building                29\n",
       "vacant church, synagogue, or temple              25\n",
       "package facility (fedex,ups,dhl)                 25\n",
       "vacant industrial or manufacturing blding        24\n",
       "vacant school/college                            23\n",
       "vacant government or public building             18\n",
       "adult novelty store                              15\n",
       "illicit massage parlor or spa                    12\n",
       "marine veh. sales,boats,sailboats                11\n",
       "marine vehicle sales, boats, sailboats            8\n",
       "light rail vehicle                                6\n",
       "23c                                               5\n",
       "contra-flow/hov                                   5\n",
       "vacant bank                                       5\n",
       "adult theater/arcade                              5\n",
       "cantina                                           4\n",
       "modeling studio                                   2\n",
       "contra-flow, managed, or hov lanes                1\n",
       "res                                               1\n",
       "vacant jail or prison                             1\n",
       "Name: Premise, Length: 203, dtype: int64"
      ]
     },
     "execution_count": 16,
     "metadata": {},
     "output_type": "execute_result"
    }
   ],
   "source": [
    "df.Premise.value_counts(dropna=False)"
   ]
  },
  {
   "cell_type": "code",
   "execution_count": 17,
   "metadata": {},
   "outputs": [],
   "source": [
    "df.Premise.replace( 'department or discount store', 'department/discount store', inplace=True)"
   ]
  },
  {
   "cell_type": "code",
   "execution_count": 18,
   "metadata": {},
   "outputs": [
    {
     "data": {
      "text/plain": [
       "residence/house                              129169\n",
       "apartment                                    113819\n",
       "apartment parking lot                        111005\n",
       "road/street/sidewalk                          81688\n",
       "driveway                                      52623\n",
       "other parking lot                             44685\n",
       "department/discount store                     38116\n",
       "no label                                      33531\n",
       "restaurant/cafeteria parking lot              32447\n",
       "strip business center parking lot             18586\n",
       "other/unknown                                 16449\n",
       "commercial parking lot/garage                 13841\n",
       "grocery/supermarket                           13156\n",
       "convenience store                             12940\n",
       "miscellaneous business (non-specific)         10681\n",
       "commercial parking lot or garage              10449\n",
       "service or gas station                         9570\n",
       "restaurant/cafeteria                           9082\n",
       "convenience store parking lot                  8462\n",
       "grocery store or supermarket                   7927\n",
       "specialty store (non-specific)                 7742\n",
       "commercial building                            7740\n",
       "service/gas station                            7671\n",
       "hotel/motel parking lot                        7464\n",
       "mall parking lot                               7433\n",
       "other, unknown, or not listed                  7187\n",
       "grocery/supermarket parking lot                6591\n",
       "restaurant or cafeteria                        6194\n",
       "bar/night club parking lot                     6164\n",
       "hotel or motel parking lot                     5923\n",
       "                                              ...  \n",
       "railroad track/right of way                      45\n",
       "vacant school or college/university              41\n",
       "vacant hotel, motel, etc.                        40\n",
       "vacant grocery/supermarket                       39\n",
       "lake/waterway/bayou                              39\n",
       "vacant hotel/motel/etc.                          36\n",
       "not listed                                       35\n",
       "train (not metro) terminal                       34\n",
       "jail or prison                                   33\n",
       "vacant hospital                                  31\n",
       "vacant government/public building                29\n",
       "vacant church, synagogue, or temple              25\n",
       "package facility (fedex,ups,dhl)                 25\n",
       "vacant industrial or manufacturing blding        24\n",
       "vacant school/college                            23\n",
       "vacant government or public building             18\n",
       "adult novelty store                              15\n",
       "illicit massage parlor or spa                    12\n",
       "marine veh. sales,boats,sailboats                11\n",
       "marine vehicle sales, boats, sailboats            8\n",
       "light rail vehicle                                6\n",
       "23c                                               5\n",
       "contra-flow/hov                                   5\n",
       "vacant bank                                       5\n",
       "adult theater/arcade                              5\n",
       "cantina                                           4\n",
       "modeling studio                                   2\n",
       "contra-flow, managed, or hov lanes                1\n",
       "res                                               1\n",
       "vacant jail or prison                             1\n",
       "Name: Premise, Length: 203, dtype: int64"
      ]
     },
     "execution_count": 18,
     "metadata": {},
     "output_type": "execute_result"
    }
   ],
   "source": [
    "df.Premise.value_counts(dropna=False)"
   ]
  },
  {
   "cell_type": "code",
   "execution_count": 27,
   "metadata": {},
   "outputs": [
    {
     "name": "stdout",
     "output_type": "stream",
     "text": [
      "<class 'pandas.core.frame.DataFrame'>\n",
      "DatetimeIndex: 1003741 entries, 2010-01-01 00:00:00 to 2017-12-31 23:00:00\n",
      "Data columns (total 11 columns):\n",
      "Beat           1003741 non-null object\n",
      "BlockRange     1003585 non-null object\n",
      "StreetName     1003739 non-null object\n",
      "OffenseType    1003741 non-null object\n",
      "Premise        1003741 non-null object\n",
      "NumOffenses    1003741 non-null int64\n",
      "Hour           1003741 non-null int64\n",
      "day            1003741 non-null int64\n",
      "weekday        1003741 non-null object\n",
      "month          1003741 non-null object\n",
      "year           1003741 non-null int64\n",
      "dtypes: int64(4), object(7)\n",
      "memory usage: 91.9+ MB\n"
     ]
    }
   ],
   "source": [
    "#df.to_csv(path)\n",
    "df.info()"
   ]
  },
  {
   "cell_type": "code",
   "execution_count": 21,
   "metadata": {},
   "outputs": [
    {
     "data": {
      "text/plain": [
       "Theft                 552798\n",
       "Burglary              181858\n",
       "Auto Theft            100730\n",
       "Aggravated Assault     82865\n",
       "Robbery                76712\n",
       "Rape                    6861\n",
       "Murder                  1903\n",
       "1                         14\n",
       "Name: OffenseType, dtype: int64"
      ]
     },
     "execution_count": 21,
     "metadata": {},
     "output_type": "execute_result"
    }
   ],
   "source": [
    "df.OffenseType.value_counts()"
   ]
  },
  {
   "cell_type": "markdown",
   "metadata": {},
   "source": [
    "## Drop  1 value"
   ]
  },
  {
   "cell_type": "code",
   "execution_count": 24,
   "metadata": {},
   "outputs": [],
   "source": [
    "d1 = df.OffenseType == '1'"
   ]
  },
  {
   "cell_type": "code",
   "execution_count": 28,
   "metadata": {},
   "outputs": [],
   "source": [
    "df = df[~d1]"
   ]
  },
  {
   "cell_type": "code",
   "execution_count": 30,
   "metadata": {},
   "outputs": [
    {
     "data": {
      "text/plain": [
       "Theft                 552798\n",
       "Burglary              181858\n",
       "Auto Theft            100730\n",
       "Aggravated Assault     82865\n",
       "Robbery                76712\n",
       "Rape                    6861\n",
       "Murder                  1903\n",
       "Name: OffenseType, dtype: int64"
      ]
     },
     "execution_count": 30,
     "metadata": {},
     "output_type": "execute_result"
    }
   ],
   "source": [
    "df.OffenseType.value_counts()"
   ]
  },
  {
   "cell_type": "code",
   "execution_count": 29,
   "metadata": {},
   "outputs": [
    {
     "name": "stdout",
     "output_type": "stream",
     "text": [
      "<class 'pandas.core.frame.DataFrame'>\n",
      "DatetimeIndex: 1003727 entries, 2010-01-01 00:00:00 to 2017-12-31 23:00:00\n",
      "Data columns (total 11 columns):\n",
      "Beat           1003727 non-null object\n",
      "BlockRange     1003571 non-null object\n",
      "StreetName     1003725 non-null object\n",
      "OffenseType    1003727 non-null object\n",
      "Premise        1003727 non-null object\n",
      "NumOffenses    1003727 non-null int64\n",
      "Hour           1003727 non-null int64\n",
      "day            1003727 non-null int64\n",
      "weekday        1003727 non-null object\n",
      "month          1003727 non-null object\n",
      "year           1003727 non-null int64\n",
      "dtypes: int64(4), object(7)\n",
      "memory usage: 91.9+ MB\n"
     ]
    }
   ],
   "source": [
    "df.info()"
   ]
  },
  {
   "cell_type": "code",
   "execution_count": 31,
   "metadata": {},
   "outputs": [],
   "source": [
    "df.to_csv(path)"
   ]
  },
  {
   "cell_type": "code",
   "execution_count": null,
   "metadata": {},
   "outputs": [],
   "source": []
  }
 ],
 "metadata": {
  "kernelspec": {
   "display_name": "Python 3",
   "language": "python",
   "name": "python3"
  },
  "language_info": {
   "codemirror_mode": {
    "name": "ipython",
    "version": 3
   },
   "file_extension": ".py",
   "mimetype": "text/x-python",
   "name": "python",
   "nbconvert_exporter": "python",
   "pygments_lexer": "ipython3",
   "version": "3.6.4"
  }
 },
 "nbformat": 4,
 "nbformat_minor": 2
}
