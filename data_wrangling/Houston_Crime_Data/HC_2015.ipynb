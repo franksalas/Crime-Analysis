{
 "cells": [
  {
   "cell_type": "code",
   "execution_count": null,
   "metadata": {},
   "outputs": [],
   "source": [
    "#!pip install missingno"
   ]
  },
  {
   "cell_type": "code",
   "execution_count": 1,
   "metadata": {},
   "outputs": [],
   "source": [
    "import pandas as pd\n",
    "import glob, os\n",
    "import numpy as np\n",
    "import matplotlib.pyplot as plt\n",
    "import datetime  as dt\n",
    "import missingno as msno"
   ]
  },
  {
   "cell_type": "code",
   "execution_count": 2,
   "metadata": {},
   "outputs": [
    {
     "name": "stdout",
     "output_type": "stream",
     "text": [
      "\u001b[0m\u001b[01;32mapr15.xls\u001b[0m*  \u001b[01;32mdec15.xls\u001b[0m*  \u001b[01;32mjan15.xls\u001b[0m*  \u001b[01;32mjun15.xls\u001b[0m*  \u001b[01;32mmay15.xls\u001b[0m*  \u001b[01;32moct15.xls\u001b[0m*\r\n",
      "\u001b[01;32maug15.xls\u001b[0m*  \u001b[01;32mfeb15.xls\u001b[0m*  \u001b[01;32mjul15.xls\u001b[0m*  \u001b[01;32mmar15.xls\u001b[0m*  \u001b[01;32mnov15.xls\u001b[0m*  \u001b[01;32msep15.xls\u001b[0m*\r\n"
     ]
    }
   ],
   "source": [
    "ls crime_data_raw/2015"
   ]
  },
  {
   "cell_type": "code",
   "execution_count": 3,
   "metadata": {},
   "outputs": [],
   "source": [
    "path = 'crime_data_raw/2015'"
   ]
  },
  {
   "cell_type": "code",
   "execution_count": null,
   "metadata": {},
   "outputs": [],
   "source": [
    "#ls crime_data_raw/"
   ]
  },
  {
   "cell_type": "code",
   "execution_count": null,
   "metadata": {},
   "outputs": [],
   "source": [
    "# # get premise codes\n",
    "\n",
    "# pc = pd.read_csv('crime_data_raw/premise_codes.csv')\n",
    "# pc.head()"
   ]
  },
  {
   "cell_type": "code",
   "execution_count": null,
   "metadata": {},
   "outputs": [],
   "source": [
    "# # rename premise column for easy merge\n",
    "# pc.rename(columns={'Premise Type': 'Premise',}, inplace=True)\n",
    "# pc.info()"
   ]
  },
  {
   "cell_type": "code",
   "execution_count": 4,
   "metadata": {},
   "outputs": [],
   "source": [
    "# combine all files into one df\n",
    "all_files = glob.glob(os.path.join(path, \"*.xls\")) \n",
    "\n",
    "df_from_each_file = (pd.read_excel(f) for f in all_files)\n",
    "df   = pd.concat(df_from_each_file, ignore_index=True)"
   ]
  },
  {
   "cell_type": "code",
   "execution_count": 5,
   "metadata": {},
   "outputs": [
    {
     "data": {
      "text/html": [
       "<div>\n",
       "<style scoped>\n",
       "    .dataframe tbody tr th:only-of-type {\n",
       "        vertical-align: middle;\n",
       "    }\n",
       "\n",
       "    .dataframe tbody tr th {\n",
       "        vertical-align: top;\n",
       "    }\n",
       "\n",
       "    .dataframe thead th {\n",
       "        text-align: right;\n",
       "    }\n",
       "</style>\n",
       "<table border=\"1\" class=\"dataframe\">\n",
       "  <thead>\n",
       "    <tr style=\"text-align: right;\">\n",
       "      <th></th>\n",
       "      <th>Date</th>\n",
       "      <th>Hour</th>\n",
       "      <th>Offense Type</th>\n",
       "      <th>Beat</th>\n",
       "      <th>Premise</th>\n",
       "      <th>BlockRange</th>\n",
       "      <th>StreetName</th>\n",
       "      <th>Type</th>\n",
       "      <th>Suffix</th>\n",
       "      <th># offenses</th>\n",
       "    </tr>\n",
       "  </thead>\n",
       "  <tbody>\n",
       "    <tr>\n",
       "      <th>0</th>\n",
       "      <td>2015-02-26</td>\n",
       "      <td>12</td>\n",
       "      <td>Theft</td>\n",
       "      <td>10H10</td>\n",
       "      <td>Road, Street, or Sidewalk</td>\n",
       "      <td>4900-4999</td>\n",
       "      <td>CANAL</td>\n",
       "      <td>ST</td>\n",
       "      <td>-</td>\n",
       "      <td>1</td>\n",
       "    </tr>\n",
       "    <tr>\n",
       "      <th>1</th>\n",
       "      <td>2015-04-05</td>\n",
       "      <td>16</td>\n",
       "      <td>Burglary</td>\n",
       "      <td>10H10</td>\n",
       "      <td>Residence or House</td>\n",
       "      <td>100-199</td>\n",
       "      <td>YORK</td>\n",
       "      <td>-</td>\n",
       "      <td>-</td>\n",
       "      <td>1</td>\n",
       "    </tr>\n",
       "    <tr>\n",
       "      <th>2</th>\n",
       "      <td>2015-04-06</td>\n",
       "      <td>20</td>\n",
       "      <td>Rape</td>\n",
       "      <td>10H10</td>\n",
       "      <td>Residence or House</td>\n",
       "      <td>UNK</td>\n",
       "      <td>CANAL</td>\n",
       "      <td>CT</td>\n",
       "      <td>-</td>\n",
       "      <td>1</td>\n",
       "    </tr>\n",
       "    <tr>\n",
       "      <th>3</th>\n",
       "      <td>2015-04-16</td>\n",
       "      <td>8</td>\n",
       "      <td>Theft</td>\n",
       "      <td>10H10</td>\n",
       "      <td>Construction Site</td>\n",
       "      <td>400-499</td>\n",
       "      <td>ENNIS</td>\n",
       "      <td>ST</td>\n",
       "      <td>-</td>\n",
       "      <td>1</td>\n",
       "    </tr>\n",
       "    <tr>\n",
       "      <th>4</th>\n",
       "      <td>2015-04-01</td>\n",
       "      <td>19</td>\n",
       "      <td>Theft</td>\n",
       "      <td>10H10</td>\n",
       "      <td>NaN</td>\n",
       "      <td>UNK</td>\n",
       "      <td>SIDNEY</td>\n",
       "      <td>-</td>\n",
       "      <td>-</td>\n",
       "      <td>1</td>\n",
       "    </tr>\n",
       "  </tbody>\n",
       "</table>\n",
       "</div>"
      ],
      "text/plain": [
       "        Date  Hour Offense Type   Beat                    Premise BlockRange  \\\n",
       "0 2015-02-26    12        Theft  10H10  Road, Street, or Sidewalk  4900-4999   \n",
       "1 2015-04-05    16     Burglary  10H10         Residence or House    100-199   \n",
       "2 2015-04-06    20         Rape  10H10         Residence or House        UNK   \n",
       "3 2015-04-16     8        Theft  10H10          Construction Site    400-499   \n",
       "4 2015-04-01    19        Theft  10H10                        NaN        UNK   \n",
       "\n",
       "  StreetName Type Suffix  # offenses  \n",
       "0      CANAL   ST      -           1  \n",
       "1       YORK    -      -           1  \n",
       "2      CANAL   CT      -           1  \n",
       "3      ENNIS   ST      -           1  \n",
       "4     SIDNEY    -      -           1  "
      ]
     },
     "execution_count": 5,
     "metadata": {},
     "output_type": "execute_result"
    }
   ],
   "source": [
    "df.head()"
   ]
  },
  {
   "cell_type": "code",
   "execution_count": 6,
   "metadata": {},
   "outputs": [
    {
     "name": "stdout",
     "output_type": "stream",
     "text": [
      "<class 'pandas.core.frame.DataFrame'>\n",
      "RangeIndex: 120009 entries, 0 to 120008\n",
      "Data columns (total 10 columns):\n",
      "Date            120009 non-null datetime64[ns]\n",
      "Hour            120009 non-null int64\n",
      "Offense Type    120009 non-null object\n",
      "Beat            120009 non-null object\n",
      "Premise         117881 non-null object\n",
      "BlockRange      120009 non-null object\n",
      "StreetName      120009 non-null object\n",
      "Type            120009 non-null object\n",
      "Suffix          120009 non-null object\n",
      "# offenses      120009 non-null int64\n",
      "dtypes: datetime64[ns](1), int64(2), object(7)\n",
      "memory usage: 9.2+ MB\n"
     ]
    }
   ],
   "source": [
    "df.info()"
   ]
  },
  {
   "cell_type": "code",
   "execution_count": 7,
   "metadata": {},
   "outputs": [
    {
     "data": {
      "text/html": [
       "<div>\n",
       "<style scoped>\n",
       "    .dataframe tbody tr th:only-of-type {\n",
       "        vertical-align: middle;\n",
       "    }\n",
       "\n",
       "    .dataframe tbody tr th {\n",
       "        vertical-align: top;\n",
       "    }\n",
       "\n",
       "    .dataframe thead th {\n",
       "        text-align: right;\n",
       "    }\n",
       "</style>\n",
       "<table border=\"1\" class=\"dataframe\">\n",
       "  <thead>\n",
       "    <tr style=\"text-align: right;\">\n",
       "      <th></th>\n",
       "      <th>Date</th>\n",
       "      <th>Hour</th>\n",
       "      <th>Offense Type</th>\n",
       "      <th>Beat</th>\n",
       "      <th>Premise</th>\n",
       "      <th>BlockRange</th>\n",
       "      <th>StreetName</th>\n",
       "      <th>Type</th>\n",
       "      <th>Suffix</th>\n",
       "      <th># offenses</th>\n",
       "    </tr>\n",
       "  </thead>\n",
       "  <tbody>\n",
       "  </tbody>\n",
       "</table>\n",
       "</div>"
      ],
      "text/plain": [
       "Empty DataFrame\n",
       "Columns: [Date, Hour, Offense Type, Beat, Premise, BlockRange, StreetName, Type, Suffix, # offenses]\n",
       "Index: []"
      ]
     },
     "execution_count": 7,
     "metadata": {},
     "output_type": "execute_result"
    }
   ],
   "source": [
    "df[df.Date.isnull()]"
   ]
  },
  {
   "cell_type": "markdown",
   "metadata": {},
   "source": [
    "## Inspect Premise col"
   ]
  },
  {
   "cell_type": "code",
   "execution_count": 8,
   "metadata": {},
   "outputs": [
    {
     "data": {
      "text/plain": [
       "125"
      ]
     },
     "execution_count": 8,
     "metadata": {},
     "output_type": "execute_result"
    }
   ],
   "source": [
    "len(df.Premise.value_counts(dropna=False))"
   ]
  },
  {
   "cell_type": "code",
   "execution_count": 9,
   "metadata": {},
   "outputs": [
    {
     "data": {
      "text/plain": [
       "Residence or House                     16814\n",
       "Apartment Parking Lot                  13220\n",
       "Apartment                              11815\n",
       "Road, Street, or Sidewalk              11390\n",
       "Restaurant or Cafeteria Parking Lot     4897\n",
       "Name: Premise, dtype: int64"
      ]
     },
     "execution_count": 9,
     "metadata": {},
     "output_type": "execute_result"
    }
   ],
   "source": [
    "df.Premise.value_counts(dropna=False).head()"
   ]
  },
  {
   "cell_type": "code",
   "execution_count": 10,
   "metadata": {},
   "outputs": [
    {
     "data": {
      "text/plain": [
       "array(['Road, Street, or Sidewalk', 'Residence or House',\n",
       "       'Construction Site', nan, 'Apartment', 'Other Parking Lot',\n",
       "       \"Physician, Doctor, Dentist's Office\", 'Apartment Parking Lot',\n",
       "       'Driveway', 'Warehouse', 'Commercial Parking Lot or Garage',\n",
       "       'Service or Gas Station', 'Bus Stop',\n",
       "       'Convenience Store Parking Lot',\n",
       "       'Parks and Recreation, Zoo, Swimming Pool', 'Hospital',\n",
       "       'Miscellaneous Business (Non-Specific)',\n",
       "       'Vacant Single Occ Resd(House,Townhs,Dplex)',\n",
       "       'Other, Unknown, or Not Listed', 'Convenience Store',\n",
       "       'Bar or Night Club Parking Lot', 'Field, Woods, Forest, Park',\n",
       "       'Restaurant or Cafeteria', 'Auto Repair',\n",
       "       'Stadium, Sports Arena, Race Track',\n",
       "       'Government or Public Building', 'Bar or Night Club',\n",
       "       'Commercial Building', 'Factory, Manufacturing, or Industrial',\n",
       "       'Grocery Store or Supermarket', 'Light Rail Platform',\n",
       "       'Office Building', 'Garage or Carport', 'Bus Station',\n",
       "       'Multi-Plex Home (Duplex,Triplex Etc.)', 'Hotel, Motel, Inn, Etc.',\n",
       "       'Clothing Store', 'Social Services or Public Charities',\n",
       "       'Department or Discount Store',\n",
       "       'Vacant School or College/University', 'University or College',\n",
       "       'Vacant Church, Synagogue, or Temple',\n",
       "       'Vehicle/Auto Sales/Lease/Auto Parts Store',\n",
       "       'Church, Synagogue, or Temple Parking Lot',\n",
       "       'Rental Storage Facility', 'Drug Store or Medical Supply',\n",
       "       'Park and Ride Terminal', 'Liquor Store',\n",
       "       'Specialty Store (Non-Specific)', 'Hospital Parking Lot',\n",
       "       'Restaurant or Cafeteria Parking Lot',\n",
       "       'Hotel or Motel Parking Lot',\n",
       "       'Gym, Recreat, Club House, Indoor Pool, Spa', 'Private School',\n",
       "       'Strip Business Center Parking Lot',\n",
       "       'Laundry, Dry Cleaners, Washaterias', 'Barber And Beauty Shops',\n",
       "       'Furniture, Appliances, Radios, TV Store',\n",
       "       'Church, Synagogue, or Temple',\n",
       "       'Grocery Store or Supermarket Parking Lot',\n",
       "       'Electronics Store, Electrical Supplies', 'Pool Hall or Game Room',\n",
       "       'Vacant Restaurant', 'Pawn, Resale Shop, or Flea Market',\n",
       "       'Daycare, Child Care, or Kindergarten', 'Check Cashing Places',\n",
       "       'Maintenance or Building Services', 'Body Shop',\n",
       "       'Apartment Rental Office', 'Highway or Freeway',\n",
       "       'Vacant Storage Fac (Barn,Garage,Warehouse)', 'High School',\n",
       "       'Mobile Home', 'Car Wash', 'Mall Parking Lot', 'Police Station',\n",
       "       'Utility Company, Electric, Gas, Water',\n",
       "       'Adult Book Store or Newsstand', 'Bank',\n",
       "       'Theatres, Dinner Theaters, Auditoriums',\n",
       "       'Amusement Park, Bowling Alley, Skate Rink', 'Mall Common Area',\n",
       "       'Condominium', 'Nursing Home',\n",
       "       'Vacant Other Residential (Apartment,Dorms)',\n",
       "       'Laundry or Dry Cleaners Parking Lot', 'Sexually Oriented Club',\n",
       "       'Bank or Savings Institution Parking Lot',\n",
       "       'Commercial Or Training School', 'Vacant Building (Commercial)',\n",
       "       'Convention Center or Exhibit Halls',\n",
       "       'Sexually Oriented Business Parking Lot', 'Freeway Service Road',\n",
       "       'Jail or Prison', 'Apartment Laundry',\n",
       "       'Garden Supply, Nursery, or Florist',\n",
       "       'Sporting Goods or Gun Shops',\n",
       "       'Vacant Other Out Build/Monument/UnderConst',\n",
       "       'Video Rental & Sales', 'Alley', 'Middle School',\n",
       "       'Savings and Loan Institutions', 'Libraries, Museums', 'High Rise',\n",
       "       'Rehabilitation Center', 'Liquor Store Parking Lot',\n",
       "       'Toys, Arts Craft,Musical, Bike,Pet Stores', 'Elementary School',\n",
       "       'Book, Record, Stationary, Office Supplies', 'Airport Terminal',\n",
       "       'Lake, Pond, Waterway, Bayou, River', 'Fire Station',\n",
       "       'Light Rail (Metro Rail) Vehicle', 'Credit Union',\n",
       "       'Jewelry Stores', 'Vacant Grocery Store or Supermarket',\n",
       "       'Vacant Hotel, Motel, Etc.', 'Railroad Track or Right Of Way',\n",
       "       'Train (Not Metro) Terminal', 'Vacant Hospital',\n",
       "       'Vacant Industrial or Manufacturing Blding',\n",
       "       'Vacant Government or Public Building',\n",
       "       'Marine Vehicle Sales, Boats, Sailboats', 'Tollway', 'Vacant Bank'],\n",
       "      dtype=object)"
      ]
     },
     "execution_count": 10,
     "metadata": {},
     "output_type": "execute_result"
    }
   ],
   "source": [
    "df.Premise.unique()"
   ]
  },
  {
   "cell_type": "code",
   "execution_count": 11,
   "metadata": {},
   "outputs": [],
   "source": [
    "df.Premise = df.Premise.str.strip()"
   ]
  },
  {
   "cell_type": "code",
   "execution_count": 12,
   "metadata": {},
   "outputs": [
    {
     "data": {
      "text/plain": [
       "125"
      ]
     },
     "execution_count": 12,
     "metadata": {},
     "output_type": "execute_result"
    }
   ],
   "source": [
    "len(df.Premise.value_counts(dropna=False))"
   ]
  },
  {
   "cell_type": "code",
   "execution_count": 13,
   "metadata": {},
   "outputs": [
    {
     "data": {
      "text/plain": [
       "Residence or House                     16814\n",
       "Apartment Parking Lot                  13220\n",
       "Apartment                              11815\n",
       "Road, Street, or Sidewalk              11390\n",
       "Restaurant or Cafeteria Parking Lot     4897\n",
       "Name: Premise, dtype: int64"
      ]
     },
     "execution_count": 13,
     "metadata": {},
     "output_type": "execute_result"
    }
   ],
   "source": [
    "df.Premise.value_counts(dropna=False).head()"
   ]
  },
  {
   "cell_type": "code",
   "execution_count": null,
   "metadata": {},
   "outputs": [],
   "source": []
  },
  {
   "cell_type": "code",
   "execution_count": 14,
   "metadata": {},
   "outputs": [
    {
     "data": {
      "text/plain": [
       "True"
      ]
     },
     "execution_count": 14,
     "metadata": {},
     "output_type": "execute_result"
    }
   ],
   "source": [
    "# check if  null values\n",
    "df.isnull().values.any().any()"
   ]
  },
  {
   "cell_type": "code",
   "execution_count": 15,
   "metadata": {},
   "outputs": [
    {
     "data": {
      "text/plain": [
       "2128"
      ]
     },
     "execution_count": 15,
     "metadata": {},
     "output_type": "execute_result"
    }
   ],
   "source": [
    "# check su, of null values\n",
    "df.isnull().values.sum()"
   ]
  },
  {
   "cell_type": "code",
   "execution_count": 16,
   "metadata": {},
   "outputs": [
    {
     "data": {
      "text/plain": [
       "2128"
      ]
     },
     "execution_count": 16,
     "metadata": {},
     "output_type": "execute_result"
    }
   ],
   "source": [
    "len(df[df.isnull().any(axis=1)])"
   ]
  },
  {
   "cell_type": "markdown",
   "metadata": {},
   "source": [
    "## Visualize our data"
   ]
  },
  {
   "cell_type": "code",
   "execution_count": 17,
   "metadata": {},
   "outputs": [
    {
     "data": {
      "text/plain": [
       "<matplotlib.axes._subplots.AxesSubplot at 0x7f72c1507f28>"
      ]
     },
     "execution_count": 17,
     "metadata": {},
     "output_type": "execute_result"
    },
    {
     "data": {
      "image/png": "[encoded data removed]",
      "text/plain": [
       "<Figure size 1800x720 with 2 Axes>"
      ]
     },
     "metadata": {},
     "output_type": "display_data"
    }
   ],
   "source": [
    "#data = df.replace(\"nan\", np.nan)\n",
    "\n",
    "\n",
    "sorted_data = msno.nullity_sort(df, sort='descending')\n",
    "msno.matrix(sorted_data)"
   ]
  },
  {
   "cell_type": "markdown",
   "metadata": {},
   "source": [
    "## col cleaning\n",
    "\n",
    "- joining similar columns\n",
    "- renaming"
   ]
  },
  {
   "cell_type": "code",
   "execution_count": 18,
   "metadata": {},
   "outputs": [
    {
     "data": {
      "text/html": [
       "<div>\n",
       "<style scoped>\n",
       "    .dataframe tbody tr th:only-of-type {\n",
       "        vertical-align: middle;\n",
       "    }\n",
       "\n",
       "    .dataframe tbody tr th {\n",
       "        vertical-align: top;\n",
       "    }\n",
       "\n",
       "    .dataframe thead th {\n",
       "        text-align: right;\n",
       "    }\n",
       "</style>\n",
       "<table border=\"1\" class=\"dataframe\">\n",
       "  <thead>\n",
       "    <tr style=\"text-align: right;\">\n",
       "      <th></th>\n",
       "      <th>Date</th>\n",
       "      <th>Hour</th>\n",
       "      <th>Offense Type</th>\n",
       "      <th>Beat</th>\n",
       "      <th>Premise</th>\n",
       "      <th>BlockRange</th>\n",
       "      <th>StreetName</th>\n",
       "      <th>Type</th>\n",
       "      <th>Suffix</th>\n",
       "      <th># offenses</th>\n",
       "    </tr>\n",
       "  </thead>\n",
       "  <tbody>\n",
       "    <tr>\n",
       "      <th>0</th>\n",
       "      <td>2015-02-26</td>\n",
       "      <td>12</td>\n",
       "      <td>Theft</td>\n",
       "      <td>10H10</td>\n",
       "      <td>Road, Street, or Sidewalk</td>\n",
       "      <td>4900-4999</td>\n",
       "      <td>CANAL</td>\n",
       "      <td>ST</td>\n",
       "      <td>-</td>\n",
       "      <td>1</td>\n",
       "    </tr>\n",
       "    <tr>\n",
       "      <th>1</th>\n",
       "      <td>2015-04-05</td>\n",
       "      <td>16</td>\n",
       "      <td>Burglary</td>\n",
       "      <td>10H10</td>\n",
       "      <td>Residence or House</td>\n",
       "      <td>100-199</td>\n",
       "      <td>YORK</td>\n",
       "      <td>-</td>\n",
       "      <td>-</td>\n",
       "      <td>1</td>\n",
       "    </tr>\n",
       "    <tr>\n",
       "      <th>2</th>\n",
       "      <td>2015-04-06</td>\n",
       "      <td>20</td>\n",
       "      <td>Rape</td>\n",
       "      <td>10H10</td>\n",
       "      <td>Residence or House</td>\n",
       "      <td>UNK</td>\n",
       "      <td>CANAL</td>\n",
       "      <td>CT</td>\n",
       "      <td>-</td>\n",
       "      <td>1</td>\n",
       "    </tr>\n",
       "    <tr>\n",
       "      <th>3</th>\n",
       "      <td>2015-04-16</td>\n",
       "      <td>8</td>\n",
       "      <td>Theft</td>\n",
       "      <td>10H10</td>\n",
       "      <td>Construction Site</td>\n",
       "      <td>400-499</td>\n",
       "      <td>ENNIS</td>\n",
       "      <td>ST</td>\n",
       "      <td>-</td>\n",
       "      <td>1</td>\n",
       "    </tr>\n",
       "    <tr>\n",
       "      <th>4</th>\n",
       "      <td>2015-04-01</td>\n",
       "      <td>19</td>\n",
       "      <td>Theft</td>\n",
       "      <td>10H10</td>\n",
       "      <td>NaN</td>\n",
       "      <td>UNK</td>\n",
       "      <td>SIDNEY</td>\n",
       "      <td>-</td>\n",
       "      <td>-</td>\n",
       "      <td>1</td>\n",
       "    </tr>\n",
       "  </tbody>\n",
       "</table>\n",
       "</div>"
      ],
      "text/plain": [
       "        Date  Hour Offense Type   Beat                    Premise BlockRange  \\\n",
       "0 2015-02-26    12        Theft  10H10  Road, Street, or Sidewalk  4900-4999   \n",
       "1 2015-04-05    16     Burglary  10H10         Residence or House    100-199   \n",
       "2 2015-04-06    20         Rape  10H10         Residence or House        UNK   \n",
       "3 2015-04-16     8        Theft  10H10          Construction Site    400-499   \n",
       "4 2015-04-01    19        Theft  10H10                        NaN        UNK   \n",
       "\n",
       "  StreetName Type Suffix  # offenses  \n",
       "0      CANAL   ST      -           1  \n",
       "1       YORK    -      -           1  \n",
       "2      CANAL   CT      -           1  \n",
       "3      ENNIS   ST      -           1  \n",
       "4     SIDNEY    -      -           1  "
      ]
     },
     "execution_count": 18,
     "metadata": {},
     "output_type": "execute_result"
    }
   ],
   "source": [
    "df.head()"
   ]
  },
  {
   "cell_type": "code",
   "execution_count": null,
   "metadata": {},
   "outputs": [],
   "source": []
  },
  {
   "cell_type": "code",
   "execution_count": null,
   "metadata": {},
   "outputs": [],
   "source": [
    "# # 2014\n",
    "# # if duplicate columns\n",
    "\n",
    "# df['BlockRange'] = pd.concat([df['Block Range'].dropna(),\n",
    "#                               df['BlockRange'].dropna()]).reindex_like(df)\n",
    "\n",
    "# df['StreetName'] = pd.concat([df['Street Name'].dropna(),\n",
    "#                               df['StreetName'].dropna()]).reindex_like(df)\n",
    "\n",
    "# df['# Of Offenses'] = pd.concat([df['# Of'].dropna(),\n",
    "#                               df['# Of Offenses'].dropna(),\n",
    "#                               df['# offenses'].dropna(),\n",
    "#                               df['# Offenses'].dropna()]).reindex_like(df)"
   ]
  },
  {
   "cell_type": "code",
   "execution_count": 19,
   "metadata": {},
   "outputs": [
    {
     "data": {
      "text/html": [
       "<div>\n",
       "<style scoped>\n",
       "    .dataframe tbody tr th:only-of-type {\n",
       "        vertical-align: middle;\n",
       "    }\n",
       "\n",
       "    .dataframe tbody tr th {\n",
       "        vertical-align: top;\n",
       "    }\n",
       "\n",
       "    .dataframe thead th {\n",
       "        text-align: right;\n",
       "    }\n",
       "</style>\n",
       "<table border=\"1\" class=\"dataframe\">\n",
       "  <thead>\n",
       "    <tr style=\"text-align: right;\">\n",
       "      <th></th>\n",
       "      <th>Date</th>\n",
       "      <th>Hour</th>\n",
       "      <th>Offense Type</th>\n",
       "      <th>Beat</th>\n",
       "      <th>Premise</th>\n",
       "      <th>BlockRange</th>\n",
       "      <th>StreetName</th>\n",
       "      <th>Type</th>\n",
       "      <th>Suffix</th>\n",
       "      <th># offenses</th>\n",
       "    </tr>\n",
       "  </thead>\n",
       "  <tbody>\n",
       "    <tr>\n",
       "      <th>0</th>\n",
       "      <td>2015-02-26</td>\n",
       "      <td>12</td>\n",
       "      <td>Theft</td>\n",
       "      <td>10H10</td>\n",
       "      <td>Road, Street, or Sidewalk</td>\n",
       "      <td>4900-4999</td>\n",
       "      <td>CANAL</td>\n",
       "      <td>ST</td>\n",
       "      <td>-</td>\n",
       "      <td>1</td>\n",
       "    </tr>\n",
       "    <tr>\n",
       "      <th>1</th>\n",
       "      <td>2015-04-05</td>\n",
       "      <td>16</td>\n",
       "      <td>Burglary</td>\n",
       "      <td>10H10</td>\n",
       "      <td>Residence or House</td>\n",
       "      <td>100-199</td>\n",
       "      <td>YORK</td>\n",
       "      <td>-</td>\n",
       "      <td>-</td>\n",
       "      <td>1</td>\n",
       "    </tr>\n",
       "    <tr>\n",
       "      <th>2</th>\n",
       "      <td>2015-04-06</td>\n",
       "      <td>20</td>\n",
       "      <td>Rape</td>\n",
       "      <td>10H10</td>\n",
       "      <td>Residence or House</td>\n",
       "      <td>UNK</td>\n",
       "      <td>CANAL</td>\n",
       "      <td>CT</td>\n",
       "      <td>-</td>\n",
       "      <td>1</td>\n",
       "    </tr>\n",
       "    <tr>\n",
       "      <th>3</th>\n",
       "      <td>2015-04-16</td>\n",
       "      <td>8</td>\n",
       "      <td>Theft</td>\n",
       "      <td>10H10</td>\n",
       "      <td>Construction Site</td>\n",
       "      <td>400-499</td>\n",
       "      <td>ENNIS</td>\n",
       "      <td>ST</td>\n",
       "      <td>-</td>\n",
       "      <td>1</td>\n",
       "    </tr>\n",
       "    <tr>\n",
       "      <th>4</th>\n",
       "      <td>2015-04-01</td>\n",
       "      <td>19</td>\n",
       "      <td>Theft</td>\n",
       "      <td>10H10</td>\n",
       "      <td>NaN</td>\n",
       "      <td>UNK</td>\n",
       "      <td>SIDNEY</td>\n",
       "      <td>-</td>\n",
       "      <td>-</td>\n",
       "      <td>1</td>\n",
       "    </tr>\n",
       "  </tbody>\n",
       "</table>\n",
       "</div>"
      ],
      "text/plain": [
       "        Date  Hour Offense Type   Beat                    Premise BlockRange  \\\n",
       "0 2015-02-26    12        Theft  10H10  Road, Street, or Sidewalk  4900-4999   \n",
       "1 2015-04-05    16     Burglary  10H10         Residence or House    100-199   \n",
       "2 2015-04-06    20         Rape  10H10         Residence or House        UNK   \n",
       "3 2015-04-16     8        Theft  10H10          Construction Site    400-499   \n",
       "4 2015-04-01    19        Theft  10H10                        NaN        UNK   \n",
       "\n",
       "  StreetName Type Suffix  # offenses  \n",
       "0      CANAL   ST      -           1  \n",
       "1       YORK    -      -           1  \n",
       "2      CANAL   CT      -           1  \n",
       "3      ENNIS   ST      -           1  \n",
       "4     SIDNEY    -      -           1  "
      ]
     },
     "execution_count": 19,
     "metadata": {},
     "output_type": "execute_result"
    }
   ],
   "source": [
    "df.head()"
   ]
  },
  {
   "cell_type": "code",
   "execution_count": null,
   "metadata": {},
   "outputs": [],
   "source": [
    "# df.rename(columns={\n",
    "#     '# Of Offenses': 'NumOffenses',\n",
    "#      'Offense Type': 'OffenseType',\n",
    "# }, inplace=True)\n",
    "# df.info()"
   ]
  },
  {
   "cell_type": "code",
   "execution_count": 20,
   "metadata": {},
   "outputs": [
    {
     "name": "stdout",
     "output_type": "stream",
     "text": [
      "<class 'pandas.core.frame.DataFrame'>\n",
      "RangeIndex: 120009 entries, 0 to 120008\n",
      "Data columns (total 10 columns):\n",
      "Date           120009 non-null datetime64[ns]\n",
      "Hour           120009 non-null int64\n",
      "OffenseType    120009 non-null object\n",
      "Beat           120009 non-null object\n",
      "Premise        117881 non-null object\n",
      "BlockRange     120009 non-null object\n",
      "StreetName     120009 non-null object\n",
      "Type           120009 non-null object\n",
      "Suffix         120009 non-null object\n",
      "NumOffenses    120009 non-null int64\n",
      "dtypes: datetime64[ns](1), int64(2), object(7)\n",
      "memory usage: 9.2+ MB\n"
     ]
    }
   ],
   "source": [
    "df.rename(columns={\n",
    "    '# offenses': 'NumOffenses',\n",
    "     'Offense Type': 'OffenseType',\n",
    "}, inplace=True)\n",
    "df.info()"
   ]
  },
  {
   "cell_type": "markdown",
   "metadata": {},
   "source": [
    "## Subset dataframe to work on "
   ]
  },
  {
   "cell_type": "code",
   "execution_count": 21,
   "metadata": {},
   "outputs": [
    {
     "name": "stdout",
     "output_type": "stream",
     "text": [
      "<class 'pandas.core.frame.DataFrame'>\n",
      "RangeIndex: 120009 entries, 0 to 120008\n",
      "Data columns (total 8 columns):\n",
      "Date           120009 non-null datetime64[ns]\n",
      "Beat           120009 non-null object\n",
      "BlockRange     120009 non-null object\n",
      "StreetName     120009 non-null object\n",
      "OffenseType    120009 non-null object\n",
      "Premise        117881 non-null object\n",
      "NumOffenses    120009 non-null int64\n",
      "Hour           120009 non-null int64\n",
      "dtypes: datetime64[ns](1), int64(2), object(5)\n",
      "memory usage: 7.3+ MB\n"
     ]
    }
   ],
   "source": [
    "crimes = df[['Date','Beat','BlockRange','StreetName','OffenseType','Premise','NumOffenses','Hour']]\n",
    "crimes.info()"
   ]
  },
  {
   "cell_type": "code",
   "execution_count": 22,
   "metadata": {},
   "outputs": [
    {
     "data": {
      "text/plain": [
       "<matplotlib.axes._subplots.AxesSubplot at 0x7f72c0953668>"
      ]
     },
     "execution_count": 22,
     "metadata": {},
     "output_type": "execute_result"
    },
    {
     "data": {
      "image/png": "[encoded data removed]",
      "text/plain": [
       "<Figure size 1800x720 with 2 Axes>"
      ]
     },
     "metadata": {},
     "output_type": "display_data"
    }
   ],
   "source": [
    "\n",
    "sorted_data = msno.nullity_sort(crimes, sort='descending')\n",
    "msno.matrix(sorted_data)"
   ]
  },
  {
   "cell_type": "markdown",
   "metadata": {},
   "source": [
    "# FIND NAN onevery col"
   ]
  },
  {
   "cell_type": "code",
   "execution_count": 23,
   "metadata": {},
   "outputs": [
    {
     "data": {
      "text/plain": [
       "0"
      ]
     },
     "execution_count": 23,
     "metadata": {},
     "output_type": "execute_result"
    }
   ],
   "source": [
    "len(crimes[crimes.Date.isnull()])"
   ]
  },
  {
   "cell_type": "code",
   "execution_count": 24,
   "metadata": {},
   "outputs": [
    {
     "data": {
      "text/html": [
       "<div>\n",
       "<style scoped>\n",
       "    .dataframe tbody tr th:only-of-type {\n",
       "        vertical-align: middle;\n",
       "    }\n",
       "\n",
       "    .dataframe tbody tr th {\n",
       "        vertical-align: top;\n",
       "    }\n",
       "\n",
       "    .dataframe thead th {\n",
       "        text-align: right;\n",
       "    }\n",
       "</style>\n",
       "<table border=\"1\" class=\"dataframe\">\n",
       "  <thead>\n",
       "    <tr style=\"text-align: right;\">\n",
       "      <th></th>\n",
       "      <th>Date</th>\n",
       "      <th>Beat</th>\n",
       "      <th>BlockRange</th>\n",
       "      <th>StreetName</th>\n",
       "      <th>OffenseType</th>\n",
       "      <th>Premise</th>\n",
       "      <th>NumOffenses</th>\n",
       "      <th>Hour</th>\n",
       "    </tr>\n",
       "  </thead>\n",
       "  <tbody>\n",
       "  </tbody>\n",
       "</table>\n",
       "</div>"
      ],
      "text/plain": [
       "Empty DataFrame\n",
       "Columns: [Date, Beat, BlockRange, StreetName, OffenseType, Premise, NumOffenses, Hour]\n",
       "Index: []"
      ]
     },
     "execution_count": 24,
     "metadata": {},
     "output_type": "execute_result"
    }
   ],
   "source": [
    "crimes[crimes.Date.isnull()]"
   ]
  },
  {
   "cell_type": "code",
   "execution_count": 25,
   "metadata": {},
   "outputs": [
    {
     "data": {
      "text/plain": [
       "0"
      ]
     },
     "execution_count": 25,
     "metadata": {},
     "output_type": "execute_result"
    }
   ],
   "source": [
    "len(crimes[crimes.Beat.isnull()])"
   ]
  },
  {
   "cell_type": "code",
   "execution_count": 26,
   "metadata": {},
   "outputs": [
    {
     "data": {
      "text/html": [
       "<div>\n",
       "<style scoped>\n",
       "    .dataframe tbody tr th:only-of-type {\n",
       "        vertical-align: middle;\n",
       "    }\n",
       "\n",
       "    .dataframe tbody tr th {\n",
       "        vertical-align: top;\n",
       "    }\n",
       "\n",
       "    .dataframe thead th {\n",
       "        text-align: right;\n",
       "    }\n",
       "</style>\n",
       "<table border=\"1\" class=\"dataframe\">\n",
       "  <thead>\n",
       "    <tr style=\"text-align: right;\">\n",
       "      <th></th>\n",
       "      <th>Date</th>\n",
       "      <th>Beat</th>\n",
       "      <th>BlockRange</th>\n",
       "      <th>StreetName</th>\n",
       "      <th>OffenseType</th>\n",
       "      <th>Premise</th>\n",
       "      <th>NumOffenses</th>\n",
       "      <th>Hour</th>\n",
       "    </tr>\n",
       "  </thead>\n",
       "  <tbody>\n",
       "  </tbody>\n",
       "</table>\n",
       "</div>"
      ],
      "text/plain": [
       "Empty DataFrame\n",
       "Columns: [Date, Beat, BlockRange, StreetName, OffenseType, Premise, NumOffenses, Hour]\n",
       "Index: []"
      ]
     },
     "execution_count": 26,
     "metadata": {},
     "output_type": "execute_result"
    }
   ],
   "source": [
    "crimes[crimes.Beat.isnull()]"
   ]
  },
  {
   "cell_type": "code",
   "execution_count": 27,
   "metadata": {},
   "outputs": [
    {
     "data": {
      "text/plain": [
       "0"
      ]
     },
     "execution_count": 27,
     "metadata": {},
     "output_type": "execute_result"
    }
   ],
   "source": [
    "len(crimes[crimes.BlockRange.isnull()])"
   ]
  },
  {
   "cell_type": "code",
   "execution_count": 28,
   "metadata": {},
   "outputs": [
    {
     "data": {
      "text/html": [
       "<div>\n",
       "<style scoped>\n",
       "    .dataframe tbody tr th:only-of-type {\n",
       "        vertical-align: middle;\n",
       "    }\n",
       "\n",
       "    .dataframe tbody tr th {\n",
       "        vertical-align: top;\n",
       "    }\n",
       "\n",
       "    .dataframe thead th {\n",
       "        text-align: right;\n",
       "    }\n",
       "</style>\n",
       "<table border=\"1\" class=\"dataframe\">\n",
       "  <thead>\n",
       "    <tr style=\"text-align: right;\">\n",
       "      <th></th>\n",
       "      <th>Date</th>\n",
       "      <th>Beat</th>\n",
       "      <th>BlockRange</th>\n",
       "      <th>StreetName</th>\n",
       "      <th>OffenseType</th>\n",
       "      <th>Premise</th>\n",
       "      <th>NumOffenses</th>\n",
       "      <th>Hour</th>\n",
       "    </tr>\n",
       "  </thead>\n",
       "  <tbody>\n",
       "  </tbody>\n",
       "</table>\n",
       "</div>"
      ],
      "text/plain": [
       "Empty DataFrame\n",
       "Columns: [Date, Beat, BlockRange, StreetName, OffenseType, Premise, NumOffenses, Hour]\n",
       "Index: []"
      ]
     },
     "execution_count": 28,
     "metadata": {},
     "output_type": "execute_result"
    }
   ],
   "source": [
    "crimes[crimes.BlockRange.isnull()]"
   ]
  },
  {
   "cell_type": "code",
   "execution_count": 29,
   "metadata": {},
   "outputs": [
    {
     "data": {
      "text/plain": [
       "0"
      ]
     },
     "execution_count": 29,
     "metadata": {},
     "output_type": "execute_result"
    }
   ],
   "source": [
    "len(crimes[crimes.StreetName.isnull()])"
   ]
  },
  {
   "cell_type": "code",
   "execution_count": 30,
   "metadata": {},
   "outputs": [
    {
     "data": {
      "text/html": [
       "<div>\n",
       "<style scoped>\n",
       "    .dataframe tbody tr th:only-of-type {\n",
       "        vertical-align: middle;\n",
       "    }\n",
       "\n",
       "    .dataframe tbody tr th {\n",
       "        vertical-align: top;\n",
       "    }\n",
       "\n",
       "    .dataframe thead th {\n",
       "        text-align: right;\n",
       "    }\n",
       "</style>\n",
       "<table border=\"1\" class=\"dataframe\">\n",
       "  <thead>\n",
       "    <tr style=\"text-align: right;\">\n",
       "      <th></th>\n",
       "      <th>Date</th>\n",
       "      <th>Beat</th>\n",
       "      <th>BlockRange</th>\n",
       "      <th>StreetName</th>\n",
       "      <th>OffenseType</th>\n",
       "      <th>Premise</th>\n",
       "      <th>NumOffenses</th>\n",
       "      <th>Hour</th>\n",
       "    </tr>\n",
       "  </thead>\n",
       "  <tbody>\n",
       "  </tbody>\n",
       "</table>\n",
       "</div>"
      ],
      "text/plain": [
       "Empty DataFrame\n",
       "Columns: [Date, Beat, BlockRange, StreetName, OffenseType, Premise, NumOffenses, Hour]\n",
       "Index: []"
      ]
     },
     "execution_count": 30,
     "metadata": {},
     "output_type": "execute_result"
    }
   ],
   "source": [
    "crimes[crimes.StreetName.isnull()]"
   ]
  },
  {
   "cell_type": "code",
   "execution_count": 31,
   "metadata": {},
   "outputs": [
    {
     "data": {
      "text/plain": [
       "0"
      ]
     },
     "execution_count": 31,
     "metadata": {},
     "output_type": "execute_result"
    }
   ],
   "source": [
    "len(crimes[crimes.OffenseType.isnull()])"
   ]
  },
  {
   "cell_type": "code",
   "execution_count": 32,
   "metadata": {},
   "outputs": [
    {
     "data": {
      "text/html": [
       "<div>\n",
       "<style scoped>\n",
       "    .dataframe tbody tr th:only-of-type {\n",
       "        vertical-align: middle;\n",
       "    }\n",
       "\n",
       "    .dataframe tbody tr th {\n",
       "        vertical-align: top;\n",
       "    }\n",
       "\n",
       "    .dataframe thead th {\n",
       "        text-align: right;\n",
       "    }\n",
       "</style>\n",
       "<table border=\"1\" class=\"dataframe\">\n",
       "  <thead>\n",
       "    <tr style=\"text-align: right;\">\n",
       "      <th></th>\n",
       "      <th>Date</th>\n",
       "      <th>Beat</th>\n",
       "      <th>BlockRange</th>\n",
       "      <th>StreetName</th>\n",
       "      <th>OffenseType</th>\n",
       "      <th>Premise</th>\n",
       "      <th>NumOffenses</th>\n",
       "      <th>Hour</th>\n",
       "    </tr>\n",
       "  </thead>\n",
       "  <tbody>\n",
       "  </tbody>\n",
       "</table>\n",
       "</div>"
      ],
      "text/plain": [
       "Empty DataFrame\n",
       "Columns: [Date, Beat, BlockRange, StreetName, OffenseType, Premise, NumOffenses, Hour]\n",
       "Index: []"
      ]
     },
     "execution_count": 32,
     "metadata": {},
     "output_type": "execute_result"
    }
   ],
   "source": [
    "crimes[crimes.OffenseType.isnull()]"
   ]
  },
  {
   "cell_type": "code",
   "execution_count": 33,
   "metadata": {},
   "outputs": [
    {
     "data": {
      "text/plain": [
       "2128"
      ]
     },
     "execution_count": 33,
     "metadata": {},
     "output_type": "execute_result"
    }
   ],
   "source": [
    "len(crimes[crimes.Premise.isnull()])"
   ]
  },
  {
   "cell_type": "code",
   "execution_count": 34,
   "metadata": {},
   "outputs": [
    {
     "data": {
      "text/html": [
       "<div>\n",
       "<style scoped>\n",
       "    .dataframe tbody tr th:only-of-type {\n",
       "        vertical-align: middle;\n",
       "    }\n",
       "\n",
       "    .dataframe tbody tr th {\n",
       "        vertical-align: top;\n",
       "    }\n",
       "\n",
       "    .dataframe thead th {\n",
       "        text-align: right;\n",
       "    }\n",
       "</style>\n",
       "<table border=\"1\" class=\"dataframe\">\n",
       "  <thead>\n",
       "    <tr style=\"text-align: right;\">\n",
       "      <th></th>\n",
       "      <th>Date</th>\n",
       "      <th>Beat</th>\n",
       "      <th>BlockRange</th>\n",
       "      <th>StreetName</th>\n",
       "      <th>OffenseType</th>\n",
       "      <th>Premise</th>\n",
       "      <th>NumOffenses</th>\n",
       "      <th>Hour</th>\n",
       "    </tr>\n",
       "  </thead>\n",
       "  <tbody>\n",
       "    <tr>\n",
       "      <th>4</th>\n",
       "      <td>2015-04-01</td>\n",
       "      <td>10H10</td>\n",
       "      <td>UNK</td>\n",
       "      <td>SIDNEY</td>\n",
       "      <td>Theft</td>\n",
       "      <td>NaN</td>\n",
       "      <td>1</td>\n",
       "      <td>19</td>\n",
       "    </tr>\n",
       "    <tr>\n",
       "      <th>14</th>\n",
       "      <td>2009-05-18</td>\n",
       "      <td>10H10</td>\n",
       "      <td>4500-4599</td>\n",
       "      <td>CANAL</td>\n",
       "      <td>Theft</td>\n",
       "      <td>NaN</td>\n",
       "      <td>1</td>\n",
       "      <td>11</td>\n",
       "    </tr>\n",
       "    <tr>\n",
       "      <th>27</th>\n",
       "      <td>2015-04-21</td>\n",
       "      <td>10H10</td>\n",
       "      <td>3300-3399</td>\n",
       "      <td>NAVIGATION</td>\n",
       "      <td>Theft</td>\n",
       "      <td>NaN</td>\n",
       "      <td>1</td>\n",
       "      <td>13</td>\n",
       "    </tr>\n",
       "    <tr>\n",
       "      <th>39</th>\n",
       "      <td>2015-04-02</td>\n",
       "      <td>10H20</td>\n",
       "      <td>3800-3899</td>\n",
       "      <td>LAMAR</td>\n",
       "      <td>Burglary</td>\n",
       "      <td>NaN</td>\n",
       "      <td>1</td>\n",
       "      <td>0</td>\n",
       "    </tr>\n",
       "    <tr>\n",
       "      <th>56</th>\n",
       "      <td>2015-04-07</td>\n",
       "      <td>10H20</td>\n",
       "      <td>4300-4399</td>\n",
       "      <td>COYLE</td>\n",
       "      <td>Theft</td>\n",
       "      <td>NaN</td>\n",
       "      <td>1</td>\n",
       "      <td>14</td>\n",
       "    </tr>\n",
       "    <tr>\n",
       "      <th>91</th>\n",
       "      <td>2015-04-23</td>\n",
       "      <td>10H30</td>\n",
       "      <td>2800-2899</td>\n",
       "      <td>RUSK</td>\n",
       "      <td>Theft</td>\n",
       "      <td>NaN</td>\n",
       "      <td>1</td>\n",
       "      <td>18</td>\n",
       "    </tr>\n",
       "    <tr>\n",
       "      <th>134</th>\n",
       "      <td>2015-04-07</td>\n",
       "      <td>10H40</td>\n",
       "      <td>1400-1499</td>\n",
       "      <td>TUAM</td>\n",
       "      <td>Theft</td>\n",
       "      <td>NaN</td>\n",
       "      <td>1</td>\n",
       "      <td>14</td>\n",
       "    </tr>\n",
       "    <tr>\n",
       "      <th>135</th>\n",
       "      <td>2015-04-09</td>\n",
       "      <td>10H40</td>\n",
       "      <td>2700-2799</td>\n",
       "      <td>TRAVIS</td>\n",
       "      <td>Theft</td>\n",
       "      <td>NaN</td>\n",
       "      <td>1</td>\n",
       "      <td>18</td>\n",
       "    </tr>\n",
       "    <tr>\n",
       "      <th>145</th>\n",
       "      <td>2015-04-07</td>\n",
       "      <td>10H40</td>\n",
       "      <td>1500-1599</td>\n",
       "      <td>ANITA</td>\n",
       "      <td>Burglary</td>\n",
       "      <td>NaN</td>\n",
       "      <td>1</td>\n",
       "      <td>19</td>\n",
       "    </tr>\n",
       "    <tr>\n",
       "      <th>285</th>\n",
       "      <td>2015-04-14</td>\n",
       "      <td>10H50</td>\n",
       "      <td>3000-3099</td>\n",
       "      <td>CHARTRES</td>\n",
       "      <td>Theft</td>\n",
       "      <td>NaN</td>\n",
       "      <td>1</td>\n",
       "      <td>22</td>\n",
       "    </tr>\n",
       "    <tr>\n",
       "      <th>337</th>\n",
       "      <td>2015-04-29</td>\n",
       "      <td>10H60</td>\n",
       "      <td>3400-3499</td>\n",
       "      <td>BLODGETT</td>\n",
       "      <td>Auto Theft</td>\n",
       "      <td>NaN</td>\n",
       "      <td>1</td>\n",
       "      <td>18</td>\n",
       "    </tr>\n",
       "    <tr>\n",
       "      <th>492</th>\n",
       "      <td>2015-04-26</td>\n",
       "      <td>10H70</td>\n",
       "      <td>1900-1999</td>\n",
       "      <td>OLD SPANISH</td>\n",
       "      <td>Auto Theft</td>\n",
       "      <td>NaN</td>\n",
       "      <td>1</td>\n",
       "      <td>17</td>\n",
       "    </tr>\n",
       "    <tr>\n",
       "      <th>576</th>\n",
       "      <td>2015-04-29</td>\n",
       "      <td>10H80</td>\n",
       "      <td>2100-2199</td>\n",
       "      <td>HOLCOMBE</td>\n",
       "      <td>Theft</td>\n",
       "      <td>NaN</td>\n",
       "      <td>1</td>\n",
       "      <td>9</td>\n",
       "    </tr>\n",
       "    <tr>\n",
       "      <th>748</th>\n",
       "      <td>2015-04-18</td>\n",
       "      <td>11H10</td>\n",
       "      <td>2000-2099</td>\n",
       "      <td>PASADENA</td>\n",
       "      <td>Theft</td>\n",
       "      <td>NaN</td>\n",
       "      <td>1</td>\n",
       "      <td>17</td>\n",
       "    </tr>\n",
       "    <tr>\n",
       "      <th>769</th>\n",
       "      <td>2015-04-18</td>\n",
       "      <td>11H10</td>\n",
       "      <td>2300-2399</td>\n",
       "      <td>WAYSIDE</td>\n",
       "      <td>Robbery</td>\n",
       "      <td>NaN</td>\n",
       "      <td>1</td>\n",
       "      <td>11</td>\n",
       "    </tr>\n",
       "    <tr>\n",
       "      <th>808</th>\n",
       "      <td>2015-04-13</td>\n",
       "      <td>11H20</td>\n",
       "      <td>7600-7699</td>\n",
       "      <td>OFFICE CITY</td>\n",
       "      <td>Burglary</td>\n",
       "      <td>NaN</td>\n",
       "      <td>1</td>\n",
       "      <td>8</td>\n",
       "    </tr>\n",
       "    <tr>\n",
       "      <th>925</th>\n",
       "      <td>2015-04-24</td>\n",
       "      <td>11H50</td>\n",
       "      <td>5900-5999</td>\n",
       "      <td>SANTA CECILIA</td>\n",
       "      <td>Theft</td>\n",
       "      <td>NaN</td>\n",
       "      <td>1</td>\n",
       "      <td>16</td>\n",
       "    </tr>\n",
       "    <tr>\n",
       "      <th>1050</th>\n",
       "      <td>2015-04-25</td>\n",
       "      <td>12D10</td>\n",
       "      <td>1100-1199</td>\n",
       "      <td>EDGEBROOK</td>\n",
       "      <td>Aggravated Assault</td>\n",
       "      <td>NaN</td>\n",
       "      <td>1</td>\n",
       "      <td>15</td>\n",
       "    </tr>\n",
       "    <tr>\n",
       "      <th>1082</th>\n",
       "      <td>2015-04-26</td>\n",
       "      <td>12D10</td>\n",
       "      <td>9900-9999</td>\n",
       "      <td>KLECKLEY</td>\n",
       "      <td>Aggravated Assault</td>\n",
       "      <td>NaN</td>\n",
       "      <td>1</td>\n",
       "      <td>1</td>\n",
       "    </tr>\n",
       "    <tr>\n",
       "      <th>1087</th>\n",
       "      <td>2015-04-08</td>\n",
       "      <td>12D10</td>\n",
       "      <td>10000-10099</td>\n",
       "      <td>GULF</td>\n",
       "      <td>Theft</td>\n",
       "      <td>NaN</td>\n",
       "      <td>1</td>\n",
       "      <td>1</td>\n",
       "    </tr>\n",
       "    <tr>\n",
       "      <th>1102</th>\n",
       "      <td>2015-04-22</td>\n",
       "      <td>12D10</td>\n",
       "      <td>10000-10099</td>\n",
       "      <td>RADIO</td>\n",
       "      <td>Burglary</td>\n",
       "      <td>NaN</td>\n",
       "      <td>1</td>\n",
       "      <td>10</td>\n",
       "    </tr>\n",
       "    <tr>\n",
       "      <th>1190</th>\n",
       "      <td>2015-04-03</td>\n",
       "      <td>12D20</td>\n",
       "      <td>12300-12399</td>\n",
       "      <td>GULF</td>\n",
       "      <td>Theft</td>\n",
       "      <td>NaN</td>\n",
       "      <td>1</td>\n",
       "      <td>14</td>\n",
       "    </tr>\n",
       "    <tr>\n",
       "      <th>1264</th>\n",
       "      <td>2015-04-14</td>\n",
       "      <td>12D20</td>\n",
       "      <td>12800-12899</td>\n",
       "      <td>GULF</td>\n",
       "      <td>Auto Theft</td>\n",
       "      <td>NaN</td>\n",
       "      <td>1</td>\n",
       "      <td>14</td>\n",
       "    </tr>\n",
       "    <tr>\n",
       "      <th>1468</th>\n",
       "      <td>2015-04-16</td>\n",
       "      <td>12D70</td>\n",
       "      <td>200-299</td>\n",
       "      <td>EL DORADO</td>\n",
       "      <td>Auto Theft</td>\n",
       "      <td>NaN</td>\n",
       "      <td>2</td>\n",
       "      <td>6</td>\n",
       "    </tr>\n",
       "    <tr>\n",
       "      <th>1517</th>\n",
       "      <td>2015-04-19</td>\n",
       "      <td>13D10</td>\n",
       "      <td>6400-6499</td>\n",
       "      <td>GULF</td>\n",
       "      <td>Theft</td>\n",
       "      <td>NaN</td>\n",
       "      <td>1</td>\n",
       "      <td>10</td>\n",
       "    </tr>\n",
       "    <tr>\n",
       "      <th>1613</th>\n",
       "      <td>2015-04-17</td>\n",
       "      <td>13D20</td>\n",
       "      <td>7000-7099</td>\n",
       "      <td>DIXIE</td>\n",
       "      <td>Theft</td>\n",
       "      <td>NaN</td>\n",
       "      <td>1</td>\n",
       "      <td>8</td>\n",
       "    </tr>\n",
       "    <tr>\n",
       "      <th>1616</th>\n",
       "      <td>2015-04-06</td>\n",
       "      <td>13D20</td>\n",
       "      <td>8700-8799</td>\n",
       "      <td>GULF</td>\n",
       "      <td>Theft</td>\n",
       "      <td>NaN</td>\n",
       "      <td>1</td>\n",
       "      <td>21</td>\n",
       "    </tr>\n",
       "    <tr>\n",
       "      <th>1622</th>\n",
       "      <td>2015-04-11</td>\n",
       "      <td>13D20</td>\n",
       "      <td>8700-8799</td>\n",
       "      <td>AIRPORT</td>\n",
       "      <td>Theft</td>\n",
       "      <td>NaN</td>\n",
       "      <td>1</td>\n",
       "      <td>8</td>\n",
       "    </tr>\n",
       "    <tr>\n",
       "      <th>1734</th>\n",
       "      <td>2015-04-23</td>\n",
       "      <td>13D20</td>\n",
       "      <td>UNK</td>\n",
       "      <td>AIRPORT BLVD</td>\n",
       "      <td>Theft</td>\n",
       "      <td>NaN</td>\n",
       "      <td>1</td>\n",
       "      <td>14</td>\n",
       "    </tr>\n",
       "    <tr>\n",
       "      <th>1771</th>\n",
       "      <td>2015-04-10</td>\n",
       "      <td>13D20</td>\n",
       "      <td>6200-6299</td>\n",
       "      <td>LUCE</td>\n",
       "      <td>Theft</td>\n",
       "      <td>NaN</td>\n",
       "      <td>1</td>\n",
       "      <td>12</td>\n",
       "    </tr>\n",
       "    <tr>\n",
       "      <th>...</th>\n",
       "      <td>...</td>\n",
       "      <td>...</td>\n",
       "      <td>...</td>\n",
       "      <td>...</td>\n",
       "      <td>...</td>\n",
       "      <td>...</td>\n",
       "      <td>...</td>\n",
       "      <td>...</td>\n",
       "    </tr>\n",
       "    <tr>\n",
       "      <th>117983</th>\n",
       "      <td>2015-07-01</td>\n",
       "      <td>5F30</td>\n",
       "      <td>UNK</td>\n",
       "      <td>GUHN</td>\n",
       "      <td>Theft</td>\n",
       "      <td>NaN</td>\n",
       "      <td>1</td>\n",
       "      <td>15</td>\n",
       "    </tr>\n",
       "    <tr>\n",
       "      <th>118005</th>\n",
       "      <td>2015-09-21</td>\n",
       "      <td>5F30</td>\n",
       "      <td>14100-14199</td>\n",
       "      <td>NORTHWEST</td>\n",
       "      <td>Theft</td>\n",
       "      <td>NaN</td>\n",
       "      <td>1</td>\n",
       "      <td>11</td>\n",
       "    </tr>\n",
       "    <tr>\n",
       "      <th>118113</th>\n",
       "      <td>2015-09-01</td>\n",
       "      <td>5F40</td>\n",
       "      <td>2000-2099</td>\n",
       "      <td>WILLOWBROOK MALL</td>\n",
       "      <td>Theft</td>\n",
       "      <td>NaN</td>\n",
       "      <td>1</td>\n",
       "      <td>14</td>\n",
       "    </tr>\n",
       "    <tr>\n",
       "      <th>118121</th>\n",
       "      <td>2015-09-14</td>\n",
       "      <td>5F40</td>\n",
       "      <td>7300-7399</td>\n",
       "      <td>GREENS</td>\n",
       "      <td>Theft</td>\n",
       "      <td>NaN</td>\n",
       "      <td>1</td>\n",
       "      <td>7</td>\n",
       "    </tr>\n",
       "    <tr>\n",
       "      <th>118159</th>\n",
       "      <td>2015-09-08</td>\n",
       "      <td>6B10</td>\n",
       "      <td>100-199</td>\n",
       "      <td>LITTLE YORK</td>\n",
       "      <td>Theft</td>\n",
       "      <td>NaN</td>\n",
       "      <td>1</td>\n",
       "      <td>14</td>\n",
       "    </tr>\n",
       "    <tr>\n",
       "      <th>118314</th>\n",
       "      <td>2015-09-12</td>\n",
       "      <td>6B20</td>\n",
       "      <td>900-999</td>\n",
       "      <td>TIDWELL</td>\n",
       "      <td>Robbery</td>\n",
       "      <td>NaN</td>\n",
       "      <td>1</td>\n",
       "      <td>0</td>\n",
       "    </tr>\n",
       "    <tr>\n",
       "      <th>118336</th>\n",
       "      <td>2015-09-14</td>\n",
       "      <td>6B20</td>\n",
       "      <td>700-799</td>\n",
       "      <td>MANSFIELD</td>\n",
       "      <td>Theft</td>\n",
       "      <td>NaN</td>\n",
       "      <td>1</td>\n",
       "      <td>10</td>\n",
       "    </tr>\n",
       "    <tr>\n",
       "      <th>118350</th>\n",
       "      <td>2014-10-05</td>\n",
       "      <td>6B20</td>\n",
       "      <td>7400-7499</td>\n",
       "      <td>SHEPHERD</td>\n",
       "      <td>Rape</td>\n",
       "      <td>NaN</td>\n",
       "      <td>1</td>\n",
       "      <td>9</td>\n",
       "    </tr>\n",
       "    <tr>\n",
       "      <th>118474</th>\n",
       "      <td>2015-09-02</td>\n",
       "      <td>6B30</td>\n",
       "      <td>6600-6699</td>\n",
       "      <td>INWOOD WEST</td>\n",
       "      <td>Theft</td>\n",
       "      <td>NaN</td>\n",
       "      <td>1</td>\n",
       "      <td>18</td>\n",
       "    </tr>\n",
       "    <tr>\n",
       "      <th>118529</th>\n",
       "      <td>2015-09-25</td>\n",
       "      <td>6B40</td>\n",
       "      <td>1400-1499</td>\n",
       "      <td>LITTLE YORK</td>\n",
       "      <td>Theft</td>\n",
       "      <td>NaN</td>\n",
       "      <td>1</td>\n",
       "      <td>15</td>\n",
       "    </tr>\n",
       "    <tr>\n",
       "      <th>118626</th>\n",
       "      <td>2015-09-13</td>\n",
       "      <td>6B50</td>\n",
       "      <td>100-199</td>\n",
       "      <td>ALDINE BENDER</td>\n",
       "      <td>Murder</td>\n",
       "      <td>NaN</td>\n",
       "      <td>1</td>\n",
       "      <td>17</td>\n",
       "    </tr>\n",
       "    <tr>\n",
       "      <th>118804</th>\n",
       "      <td>2015-09-17</td>\n",
       "      <td>6B60</td>\n",
       "      <td>12300-12399</td>\n",
       "      <td>NORTH</td>\n",
       "      <td>Theft</td>\n",
       "      <td>NaN</td>\n",
       "      <td>1</td>\n",
       "      <td>13</td>\n",
       "    </tr>\n",
       "    <tr>\n",
       "      <th>118823</th>\n",
       "      <td>2015-09-18</td>\n",
       "      <td>6B60</td>\n",
       "      <td>500-599</td>\n",
       "      <td>GREENS</td>\n",
       "      <td>Aggravated Assault</td>\n",
       "      <td>NaN</td>\n",
       "      <td>1</td>\n",
       "      <td>11</td>\n",
       "    </tr>\n",
       "    <tr>\n",
       "      <th>118870</th>\n",
       "      <td>2015-09-27</td>\n",
       "      <td>6B60</td>\n",
       "      <td>17100-17199</td>\n",
       "      <td>IMPERIAL VALLEY</td>\n",
       "      <td>Theft</td>\n",
       "      <td>NaN</td>\n",
       "      <td>1</td>\n",
       "      <td>6</td>\n",
       "    </tr>\n",
       "    <tr>\n",
       "      <th>118886</th>\n",
       "      <td>2015-08-31</td>\n",
       "      <td>7C10</td>\n",
       "      <td>2900-2999</td>\n",
       "      <td>CLINTON</td>\n",
       "      <td>Theft</td>\n",
       "      <td>NaN</td>\n",
       "      <td>1</td>\n",
       "      <td>8</td>\n",
       "    </tr>\n",
       "    <tr>\n",
       "      <th>118944</th>\n",
       "      <td>2015-09-14</td>\n",
       "      <td>7C10</td>\n",
       "      <td>1500-1599</td>\n",
       "      <td>LOCKWOOD</td>\n",
       "      <td>Burglary</td>\n",
       "      <td>NaN</td>\n",
       "      <td>1</td>\n",
       "      <td>3</td>\n",
       "    </tr>\n",
       "    <tr>\n",
       "      <th>119099</th>\n",
       "      <td>2015-09-01</td>\n",
       "      <td>7C30</td>\n",
       "      <td>8900-8999</td>\n",
       "      <td>JENSEN</td>\n",
       "      <td>Burglary</td>\n",
       "      <td>NaN</td>\n",
       "      <td>1</td>\n",
       "      <td>10</td>\n",
       "    </tr>\n",
       "    <tr>\n",
       "      <th>119119</th>\n",
       "      <td>2015-09-15</td>\n",
       "      <td>7C30</td>\n",
       "      <td>9400-9499</td>\n",
       "      <td>JENSEN</td>\n",
       "      <td>Theft</td>\n",
       "      <td>NaN</td>\n",
       "      <td>1</td>\n",
       "      <td>14</td>\n",
       "    </tr>\n",
       "    <tr>\n",
       "      <th>119160</th>\n",
       "      <td>2015-09-04</td>\n",
       "      <td>7C30</td>\n",
       "      <td>7100-7199</td>\n",
       "      <td>SCHNEIDER</td>\n",
       "      <td>Theft</td>\n",
       "      <td>NaN</td>\n",
       "      <td>1</td>\n",
       "      <td>20</td>\n",
       "    </tr>\n",
       "    <tr>\n",
       "      <th>119346</th>\n",
       "      <td>2015-08-21</td>\n",
       "      <td>8C10</td>\n",
       "      <td>8700-8799</td>\n",
       "      <td>HOMESTEAD</td>\n",
       "      <td>Theft</td>\n",
       "      <td>NaN</td>\n",
       "      <td>1</td>\n",
       "      <td>7</td>\n",
       "    </tr>\n",
       "    <tr>\n",
       "      <th>119414</th>\n",
       "      <td>2015-09-19</td>\n",
       "      <td>8C10</td>\n",
       "      <td>7100-7199</td>\n",
       "      <td>TIDWELL</td>\n",
       "      <td>Theft</td>\n",
       "      <td>NaN</td>\n",
       "      <td>1</td>\n",
       "      <td>22</td>\n",
       "    </tr>\n",
       "    <tr>\n",
       "      <th>119606</th>\n",
       "      <td>2015-09-16</td>\n",
       "      <td>8C50</td>\n",
       "      <td>8700-8799</td>\n",
       "      <td>TIDWELL</td>\n",
       "      <td>Burglary</td>\n",
       "      <td>NaN</td>\n",
       "      <td>1</td>\n",
       "      <td>8</td>\n",
       "    </tr>\n",
       "    <tr>\n",
       "      <th>119608</th>\n",
       "      <td>2015-09-03</td>\n",
       "      <td>8C50</td>\n",
       "      <td>9500-9599</td>\n",
       "      <td>MESA</td>\n",
       "      <td>Theft</td>\n",
       "      <td>NaN</td>\n",
       "      <td>1</td>\n",
       "      <td>13</td>\n",
       "    </tr>\n",
       "    <tr>\n",
       "      <th>119705</th>\n",
       "      <td>2015-09-01</td>\n",
       "      <td>9C10</td>\n",
       "      <td>9000-9099</td>\n",
       "      <td>CLINTON</td>\n",
       "      <td>Auto Theft</td>\n",
       "      <td>NaN</td>\n",
       "      <td>1</td>\n",
       "      <td>12</td>\n",
       "    </tr>\n",
       "    <tr>\n",
       "      <th>119708</th>\n",
       "      <td>2015-09-25</td>\n",
       "      <td>9C10</td>\n",
       "      <td>UNK</td>\n",
       "      <td>FLAGSHIP</td>\n",
       "      <td>Theft</td>\n",
       "      <td>NaN</td>\n",
       "      <td>1</td>\n",
       "      <td>10</td>\n",
       "    </tr>\n",
       "    <tr>\n",
       "      <th>119838</th>\n",
       "      <td>2014-09-30</td>\n",
       "      <td>9C40</td>\n",
       "      <td>13100-13199</td>\n",
       "      <td>EAST</td>\n",
       "      <td>Rape</td>\n",
       "      <td>NaN</td>\n",
       "      <td>1</td>\n",
       "      <td>4</td>\n",
       "    </tr>\n",
       "    <tr>\n",
       "      <th>119846</th>\n",
       "      <td>2015-09-24</td>\n",
       "      <td>9C40</td>\n",
       "      <td>1200-1299</td>\n",
       "      <td>FEDERAL</td>\n",
       "      <td>Burglary</td>\n",
       "      <td>NaN</td>\n",
       "      <td>1</td>\n",
       "      <td>5</td>\n",
       "    </tr>\n",
       "    <tr>\n",
       "      <th>119885</th>\n",
       "      <td>2015-09-18</td>\n",
       "      <td>9C40</td>\n",
       "      <td>12400-12499</td>\n",
       "      <td>EAST</td>\n",
       "      <td>Theft</td>\n",
       "      <td>NaN</td>\n",
       "      <td>1</td>\n",
       "      <td>16</td>\n",
       "    </tr>\n",
       "    <tr>\n",
       "      <th>119909</th>\n",
       "      <td>2015-09-18</td>\n",
       "      <td>9C40</td>\n",
       "      <td>12600-12699</td>\n",
       "      <td>IH 10</td>\n",
       "      <td>Auto Theft</td>\n",
       "      <td>NaN</td>\n",
       "      <td>1</td>\n",
       "      <td>21</td>\n",
       "    </tr>\n",
       "    <tr>\n",
       "      <th>119920</th>\n",
       "      <td>2015-09-10</td>\n",
       "      <td>9C40</td>\n",
       "      <td>12200-12299</td>\n",
       "      <td>EAST</td>\n",
       "      <td>Theft</td>\n",
       "      <td>NaN</td>\n",
       "      <td>1</td>\n",
       "      <td>20</td>\n",
       "    </tr>\n",
       "  </tbody>\n",
       "</table>\n",
       "<p>2128 rows × 8 columns</p>\n",
       "</div>"
      ],
      "text/plain": [
       "             Date   Beat   BlockRange        StreetName         OffenseType  \\\n",
       "4      2015-04-01  10H10          UNK            SIDNEY               Theft   \n",
       "14     2009-05-18  10H10    4500-4599             CANAL               Theft   \n",
       "27     2015-04-21  10H10    3300-3399        NAVIGATION               Theft   \n",
       "39     2015-04-02  10H20    3800-3899             LAMAR            Burglary   \n",
       "56     2015-04-07  10H20    4300-4399             COYLE               Theft   \n",
       "91     2015-04-23  10H30    2800-2899              RUSK               Theft   \n",
       "134    2015-04-07  10H40    1400-1499              TUAM               Theft   \n",
       "135    2015-04-09  10H40    2700-2799            TRAVIS               Theft   \n",
       "145    2015-04-07  10H40    1500-1599             ANITA            Burglary   \n",
       "285    2015-04-14  10H50    3000-3099          CHARTRES               Theft   \n",
       "337    2015-04-29  10H60    3400-3499          BLODGETT          Auto Theft   \n",
       "492    2015-04-26  10H70    1900-1999       OLD SPANISH          Auto Theft   \n",
       "576    2015-04-29  10H80    2100-2199          HOLCOMBE               Theft   \n",
       "748    2015-04-18  11H10    2000-2099          PASADENA               Theft   \n",
       "769    2015-04-18  11H10    2300-2399           WAYSIDE             Robbery   \n",
       "808    2015-04-13  11H20    7600-7699       OFFICE CITY            Burglary   \n",
       "925    2015-04-24  11H50    5900-5999     SANTA CECILIA               Theft   \n",
       "1050   2015-04-25  12D10    1100-1199         EDGEBROOK  Aggravated Assault   \n",
       "1082   2015-04-26  12D10    9900-9999          KLECKLEY  Aggravated Assault   \n",
       "1087   2015-04-08  12D10  10000-10099              GULF               Theft   \n",
       "1102   2015-04-22  12D10  10000-10099             RADIO            Burglary   \n",
       "1190   2015-04-03  12D20  12300-12399              GULF               Theft   \n",
       "1264   2015-04-14  12D20  12800-12899              GULF          Auto Theft   \n",
       "1468   2015-04-16  12D70      200-299         EL DORADO          Auto Theft   \n",
       "1517   2015-04-19  13D10    6400-6499              GULF               Theft   \n",
       "1613   2015-04-17  13D20    7000-7099             DIXIE               Theft   \n",
       "1616   2015-04-06  13D20    8700-8799              GULF               Theft   \n",
       "1622   2015-04-11  13D20    8700-8799           AIRPORT               Theft   \n",
       "1734   2015-04-23  13D20          UNK      AIRPORT BLVD               Theft   \n",
       "1771   2015-04-10  13D20    6200-6299              LUCE               Theft   \n",
       "...           ...    ...          ...               ...                 ...   \n",
       "117983 2015-07-01   5F30          UNK              GUHN               Theft   \n",
       "118005 2015-09-21   5F30  14100-14199         NORTHWEST               Theft   \n",
       "118113 2015-09-01   5F40    2000-2099  WILLOWBROOK MALL               Theft   \n",
       "118121 2015-09-14   5F40    7300-7399            GREENS               Theft   \n",
       "118159 2015-09-08   6B10      100-199       LITTLE YORK               Theft   \n",
       "118314 2015-09-12   6B20      900-999           TIDWELL             Robbery   \n",
       "118336 2015-09-14   6B20      700-799         MANSFIELD               Theft   \n",
       "118350 2014-10-05   6B20    7400-7499          SHEPHERD                Rape   \n",
       "118474 2015-09-02   6B30    6600-6699       INWOOD WEST               Theft   \n",
       "118529 2015-09-25   6B40    1400-1499       LITTLE YORK               Theft   \n",
       "118626 2015-09-13   6B50      100-199     ALDINE BENDER              Murder   \n",
       "118804 2015-09-17   6B60  12300-12399             NORTH               Theft   \n",
       "118823 2015-09-18   6B60      500-599            GREENS  Aggravated Assault   \n",
       "118870 2015-09-27   6B60  17100-17199   IMPERIAL VALLEY               Theft   \n",
       "118886 2015-08-31   7C10    2900-2999           CLINTON               Theft   \n",
       "118944 2015-09-14   7C10    1500-1599          LOCKWOOD            Burglary   \n",
       "119099 2015-09-01   7C30    8900-8999            JENSEN            Burglary   \n",
       "119119 2015-09-15   7C30    9400-9499            JENSEN               Theft   \n",
       "119160 2015-09-04   7C30    7100-7199         SCHNEIDER               Theft   \n",
       "119346 2015-08-21   8C10    8700-8799         HOMESTEAD               Theft   \n",
       "119414 2015-09-19   8C10    7100-7199           TIDWELL               Theft   \n",
       "119606 2015-09-16   8C50    8700-8799           TIDWELL            Burglary   \n",
       "119608 2015-09-03   8C50    9500-9599              MESA               Theft   \n",
       "119705 2015-09-01   9C10    9000-9099           CLINTON          Auto Theft   \n",
       "119708 2015-09-25   9C10          UNK          FLAGSHIP               Theft   \n",
       "119838 2014-09-30   9C40  13100-13199              EAST                Rape   \n",
       "119846 2015-09-24   9C40    1200-1299           FEDERAL            Burglary   \n",
       "119885 2015-09-18   9C40  12400-12499              EAST               Theft   \n",
       "119909 2015-09-18   9C40  12600-12699             IH 10          Auto Theft   \n",
       "119920 2015-09-10   9C40  12200-12299              EAST               Theft   \n",
       "\n",
       "       Premise  NumOffenses  Hour  \n",
       "4          NaN            1    19  \n",
       "14         NaN            1    11  \n",
       "27         NaN            1    13  \n",
       "39         NaN            1     0  \n",
       "56         NaN            1    14  \n",
       "91         NaN            1    18  \n",
       "134        NaN            1    14  \n",
       "135        NaN            1    18  \n",
       "145        NaN            1    19  \n",
       "285        NaN            1    22  \n",
       "337        NaN            1    18  \n",
       "492        NaN            1    17  \n",
       "576        NaN            1     9  \n",
       "748        NaN            1    17  \n",
       "769        NaN            1    11  \n",
       "808        NaN            1     8  \n",
       "925        NaN            1    16  \n",
       "1050       NaN            1    15  \n",
       "1082       NaN            1     1  \n",
       "1087       NaN            1     1  \n",
       "1102       NaN            1    10  \n",
       "1190       NaN            1    14  \n",
       "1264       NaN            1    14  \n",
       "1468       NaN            2     6  \n",
       "1517       NaN            1    10  \n",
       "1613       NaN            1     8  \n",
       "1616       NaN            1    21  \n",
       "1622       NaN            1     8  \n",
       "1734       NaN            1    14  \n",
       "1771       NaN            1    12  \n",
       "...        ...          ...   ...  \n",
       "117983     NaN            1    15  \n",
       "118005     NaN            1    11  \n",
       "118113     NaN            1    14  \n",
       "118121     NaN            1     7  \n",
       "118159     NaN            1    14  \n",
       "118314     NaN            1     0  \n",
       "118336     NaN            1    10  \n",
       "118350     NaN            1     9  \n",
       "118474     NaN            1    18  \n",
       "118529     NaN            1    15  \n",
       "118626     NaN            1    17  \n",
       "118804     NaN            1    13  \n",
       "118823     NaN            1    11  \n",
       "118870     NaN            1     6  \n",
       "118886     NaN            1     8  \n",
       "118944     NaN            1     3  \n",
       "119099     NaN            1    10  \n",
       "119119     NaN            1    14  \n",
       "119160     NaN            1    20  \n",
       "119346     NaN            1     7  \n",
       "119414     NaN            1    22  \n",
       "119606     NaN            1     8  \n",
       "119608     NaN            1    13  \n",
       "119705     NaN            1    12  \n",
       "119708     NaN            1    10  \n",
       "119838     NaN            1     4  \n",
       "119846     NaN            1     5  \n",
       "119885     NaN            1    16  \n",
       "119909     NaN            1    21  \n",
       "119920     NaN            1    20  \n",
       "\n",
       "[2128 rows x 8 columns]"
      ]
     },
     "execution_count": 34,
     "metadata": {},
     "output_type": "execute_result"
    }
   ],
   "source": [
    "crimes[crimes.Premise.isnull()]"
   ]
  },
  {
   "cell_type": "code",
   "execution_count": 36,
   "metadata": {},
   "outputs": [
    {
     "data": {
      "text/plain": [
       "0"
      ]
     },
     "execution_count": 36,
     "metadata": {},
     "output_type": "execute_result"
    }
   ],
   "source": [
    "len(crimes[crimes.NumOffenses.isnull()])"
   ]
  },
  {
   "cell_type": "code",
   "execution_count": 37,
   "metadata": {},
   "outputs": [
    {
     "data": {
      "text/html": [
       "<div>\n",
       "<style scoped>\n",
       "    .dataframe tbody tr th:only-of-type {\n",
       "        vertical-align: middle;\n",
       "    }\n",
       "\n",
       "    .dataframe tbody tr th {\n",
       "        vertical-align: top;\n",
       "    }\n",
       "\n",
       "    .dataframe thead th {\n",
       "        text-align: right;\n",
       "    }\n",
       "</style>\n",
       "<table border=\"1\" class=\"dataframe\">\n",
       "  <thead>\n",
       "    <tr style=\"text-align: right;\">\n",
       "      <th></th>\n",
       "      <th>Date</th>\n",
       "      <th>Beat</th>\n",
       "      <th>BlockRange</th>\n",
       "      <th>StreetName</th>\n",
       "      <th>OffenseType</th>\n",
       "      <th>Premise</th>\n",
       "      <th>NumOffenses</th>\n",
       "      <th>Hour</th>\n",
       "    </tr>\n",
       "  </thead>\n",
       "  <tbody>\n",
       "  </tbody>\n",
       "</table>\n",
       "</div>"
      ],
      "text/plain": [
       "Empty DataFrame\n",
       "Columns: [Date, Beat, BlockRange, StreetName, OffenseType, Premise, NumOffenses, Hour]\n",
       "Index: []"
      ]
     },
     "execution_count": 37,
     "metadata": {},
     "output_type": "execute_result"
    }
   ],
   "source": [
    "crimes[crimes.NumOffenses.isnull()]"
   ]
  },
  {
   "cell_type": "code",
   "execution_count": 38,
   "metadata": {},
   "outputs": [
    {
     "data": {
      "text/plain": [
       "0"
      ]
     },
     "execution_count": 38,
     "metadata": {},
     "output_type": "execute_result"
    }
   ],
   "source": [
    "len(crimes[crimes.Hour.isnull()])"
   ]
  },
  {
   "cell_type": "code",
   "execution_count": 39,
   "metadata": {},
   "outputs": [
    {
     "data": {
      "text/html": [
       "<div>\n",
       "<style scoped>\n",
       "    .dataframe tbody tr th:only-of-type {\n",
       "        vertical-align: middle;\n",
       "    }\n",
       "\n",
       "    .dataframe tbody tr th {\n",
       "        vertical-align: top;\n",
       "    }\n",
       "\n",
       "    .dataframe thead th {\n",
       "        text-align: right;\n",
       "    }\n",
       "</style>\n",
       "<table border=\"1\" class=\"dataframe\">\n",
       "  <thead>\n",
       "    <tr style=\"text-align: right;\">\n",
       "      <th></th>\n",
       "      <th>Date</th>\n",
       "      <th>Beat</th>\n",
       "      <th>BlockRange</th>\n",
       "      <th>StreetName</th>\n",
       "      <th>OffenseType</th>\n",
       "      <th>Premise</th>\n",
       "      <th>NumOffenses</th>\n",
       "      <th>Hour</th>\n",
       "    </tr>\n",
       "  </thead>\n",
       "  <tbody>\n",
       "  </tbody>\n",
       "</table>\n",
       "</div>"
      ],
      "text/plain": [
       "Empty DataFrame\n",
       "Columns: [Date, Beat, BlockRange, StreetName, OffenseType, Premise, NumOffenses, Hour]\n",
       "Index: []"
      ]
     },
     "execution_count": 39,
     "metadata": {},
     "output_type": "execute_result"
    }
   ],
   "source": [
    "crimes[crimes.Hour.isnull()]"
   ]
  },
  {
   "cell_type": "markdown",
   "metadata": {},
   "source": [
    "## Find NaN\n",
    "- drop if > 2 nan"
   ]
  },
  {
   "cell_type": "code",
   "execution_count": 40,
   "metadata": {},
   "outputs": [
    {
     "data": {
      "text/plain": [
       "2128"
      ]
     },
     "execution_count": 40,
     "metadata": {},
     "output_type": "execute_result"
    }
   ],
   "source": [
    "len(crimes[crimes.isnull().any(axis=1)])"
   ]
  },
  {
   "cell_type": "code",
   "execution_count": 41,
   "metadata": {},
   "outputs": [
    {
     "data": {
      "text/html": [
       "<div>\n",
       "<style scoped>\n",
       "    .dataframe tbody tr th:only-of-type {\n",
       "        vertical-align: middle;\n",
       "    }\n",
       "\n",
       "    .dataframe tbody tr th {\n",
       "        vertical-align: top;\n",
       "    }\n",
       "\n",
       "    .dataframe thead th {\n",
       "        text-align: right;\n",
       "    }\n",
       "</style>\n",
       "<table border=\"1\" class=\"dataframe\">\n",
       "  <thead>\n",
       "    <tr style=\"text-align: right;\">\n",
       "      <th></th>\n",
       "      <th>Date</th>\n",
       "      <th>Beat</th>\n",
       "      <th>BlockRange</th>\n",
       "      <th>StreetName</th>\n",
       "      <th>OffenseType</th>\n",
       "      <th>Premise</th>\n",
       "      <th>NumOffenses</th>\n",
       "      <th>Hour</th>\n",
       "    </tr>\n",
       "  </thead>\n",
       "  <tbody>\n",
       "    <tr>\n",
       "      <th>4</th>\n",
       "      <td>2015-04-01</td>\n",
       "      <td>10H10</td>\n",
       "      <td>UNK</td>\n",
       "      <td>SIDNEY</td>\n",
       "      <td>Theft</td>\n",
       "      <td>NaN</td>\n",
       "      <td>1</td>\n",
       "      <td>19</td>\n",
       "    </tr>\n",
       "    <tr>\n",
       "      <th>14</th>\n",
       "      <td>2009-05-18</td>\n",
       "      <td>10H10</td>\n",
       "      <td>4500-4599</td>\n",
       "      <td>CANAL</td>\n",
       "      <td>Theft</td>\n",
       "      <td>NaN</td>\n",
       "      <td>1</td>\n",
       "      <td>11</td>\n",
       "    </tr>\n",
       "    <tr>\n",
       "      <th>27</th>\n",
       "      <td>2015-04-21</td>\n",
       "      <td>10H10</td>\n",
       "      <td>3300-3399</td>\n",
       "      <td>NAVIGATION</td>\n",
       "      <td>Theft</td>\n",
       "      <td>NaN</td>\n",
       "      <td>1</td>\n",
       "      <td>13</td>\n",
       "    </tr>\n",
       "    <tr>\n",
       "      <th>39</th>\n",
       "      <td>2015-04-02</td>\n",
       "      <td>10H20</td>\n",
       "      <td>3800-3899</td>\n",
       "      <td>LAMAR</td>\n",
       "      <td>Burglary</td>\n",
       "      <td>NaN</td>\n",
       "      <td>1</td>\n",
       "      <td>0</td>\n",
       "    </tr>\n",
       "    <tr>\n",
       "      <th>56</th>\n",
       "      <td>2015-04-07</td>\n",
       "      <td>10H20</td>\n",
       "      <td>4300-4399</td>\n",
       "      <td>COYLE</td>\n",
       "      <td>Theft</td>\n",
       "      <td>NaN</td>\n",
       "      <td>1</td>\n",
       "      <td>14</td>\n",
       "    </tr>\n",
       "  </tbody>\n",
       "</table>\n",
       "</div>"
      ],
      "text/plain": [
       "         Date   Beat BlockRange  StreetName OffenseType Premise  NumOffenses  \\\n",
       "4  2015-04-01  10H10        UNK      SIDNEY       Theft     NaN            1   \n",
       "14 2009-05-18  10H10  4500-4599       CANAL       Theft     NaN            1   \n",
       "27 2015-04-21  10H10  3300-3399  NAVIGATION       Theft     NaN            1   \n",
       "39 2015-04-02  10H20  3800-3899       LAMAR    Burglary     NaN            1   \n",
       "56 2015-04-07  10H20  4300-4399       COYLE       Theft     NaN            1   \n",
       "\n",
       "    Hour  \n",
       "4     19  \n",
       "14    11  \n",
       "27    13  \n",
       "39     0  \n",
       "56    14  "
      ]
     },
     "execution_count": 41,
     "metadata": {},
     "output_type": "execute_result"
    }
   ],
   "source": [
    "crimes[crimes.isnull().any(axis=1)].head()"
   ]
  },
  {
   "cell_type": "code",
   "execution_count": null,
   "metadata": {},
   "outputs": [],
   "source": [
    "#crimes = crimes.dropna(thresh=2)"
   ]
  },
  {
   "cell_type": "code",
   "execution_count": null,
   "metadata": {},
   "outputs": [],
   "source": [
    "#crimes[crimes.isnull().any(axis=1)]"
   ]
  },
  {
   "cell_type": "markdown",
   "metadata": {},
   "source": [
    "## Joint dataframes"
   ]
  },
  {
   "cell_type": "code",
   "execution_count": null,
   "metadata": {},
   "outputs": [],
   "source": [
    "# # join two datarames\n",
    "# crimes = pd.merge(crimes, pc, on='Premise', how='outer')\n",
    "# crimes.info()"
   ]
  },
  {
   "cell_type": "code",
   "execution_count": null,
   "metadata": {},
   "outputs": [],
   "source": [
    "#crimes.head()"
   ]
  },
  {
   "cell_type": "code",
   "execution_count": null,
   "metadata": {},
   "outputs": [],
   "source": [
    "#len(crimes[crimes['Premise Description'].isnull()])"
   ]
  },
  {
   "cell_type": "code",
   "execution_count": null,
   "metadata": {},
   "outputs": [],
   "source": [
    "#crimes[crimes['Premise Description'].isnull()].head()"
   ]
  },
  {
   "cell_type": "markdown",
   "metadata": {},
   "source": [
    "## Problem\n",
    "- find nan values on one col, and copy related col"
   ]
  },
  {
   "cell_type": "code",
   "execution_count": null,
   "metadata": {},
   "outputs": [],
   "source": [
    "#crimes.Premise.unique()"
   ]
  },
  {
   "cell_type": "code",
   "execution_count": null,
   "metadata": {},
   "outputs": [],
   "source": [
    "#len(crimes[crimes['Premise'] == '---'])"
   ]
  },
  {
   "cell_type": "code",
   "execution_count": null,
   "metadata": {},
   "outputs": [],
   "source": [
    "#len(crimes[crimes['Premise'] == 'N'])"
   ]
  },
  {
   "cell_type": "code",
   "execution_count": null,
   "metadata": {},
   "outputs": [],
   "source": [
    "#crimes[crimes['Premise'] == 'N']"
   ]
  },
  {
   "cell_type": "code",
   "execution_count": null,
   "metadata": {},
   "outputs": [],
   "source": []
  },
  {
   "cell_type": "code",
   "execution_count": null,
   "metadata": {},
   "outputs": [],
   "source": [
    "#crimes.loc[crimes['Premise Description'].isnull(),'Premise Description'] = crimes['Premise']"
   ]
  },
  {
   "cell_type": "code",
   "execution_count": null,
   "metadata": {},
   "outputs": [],
   "source": [
    "#len(crimes[crimes['Premise Description'].isnull()])"
   ]
  },
  {
   "cell_type": "code",
   "execution_count": null,
   "metadata": {},
   "outputs": [],
   "source": [
    "\n",
    "#crimes[crimes['Premise Description'].isnull()]"
   ]
  },
  {
   "cell_type": "code",
   "execution_count": null,
   "metadata": {},
   "outputs": [],
   "source": []
  },
  {
   "cell_type": "markdown",
   "metadata": {},
   "source": [
    "## Visualize data"
   ]
  },
  {
   "cell_type": "code",
   "execution_count": 42,
   "metadata": {},
   "outputs": [
    {
     "data": {
      "text/plain": [
       "<matplotlib.axes._subplots.AxesSubplot at 0x7f72c08625f8>"
      ]
     },
     "execution_count": 42,
     "metadata": {},
     "output_type": "execute_result"
    },
    {
     "data": {
      "image/png": "[encoded data removed]",
      "text/plain": [
       "<Figure size 1800x720 with 2 Axes>"
      ]
     },
     "metadata": {},
     "output_type": "display_data"
    }
   ],
   "source": [
    "sorted_data = msno.nullity_sort(crimes, sort='descending')\n",
    "msno.matrix(sorted_data)"
   ]
  },
  {
   "cell_type": "markdown",
   "metadata": {},
   "source": [
    "## Display any null values"
   ]
  },
  {
   "cell_type": "code",
   "execution_count": 43,
   "metadata": {},
   "outputs": [
    {
     "data": {
      "text/plain": [
       "2128"
      ]
     },
     "execution_count": 43,
     "metadata": {},
     "output_type": "execute_result"
    }
   ],
   "source": [
    "len(crimes[crimes.isnull().any(axis=1)])"
   ]
  },
  {
   "cell_type": "code",
   "execution_count": 44,
   "metadata": {},
   "outputs": [
    {
     "data": {
      "text/html": [
       "<div>\n",
       "<style scoped>\n",
       "    .dataframe tbody tr th:only-of-type {\n",
       "        vertical-align: middle;\n",
       "    }\n",
       "\n",
       "    .dataframe tbody tr th {\n",
       "        vertical-align: top;\n",
       "    }\n",
       "\n",
       "    .dataframe thead th {\n",
       "        text-align: right;\n",
       "    }\n",
       "</style>\n",
       "<table border=\"1\" class=\"dataframe\">\n",
       "  <thead>\n",
       "    <tr style=\"text-align: right;\">\n",
       "      <th></th>\n",
       "      <th>Date</th>\n",
       "      <th>Beat</th>\n",
       "      <th>BlockRange</th>\n",
       "      <th>StreetName</th>\n",
       "      <th>OffenseType</th>\n",
       "      <th>Premise</th>\n",
       "      <th>NumOffenses</th>\n",
       "      <th>Hour</th>\n",
       "    </tr>\n",
       "  </thead>\n",
       "  <tbody>\n",
       "    <tr>\n",
       "      <th>119838</th>\n",
       "      <td>2014-09-30</td>\n",
       "      <td>9C40</td>\n",
       "      <td>13100-13199</td>\n",
       "      <td>EAST</td>\n",
       "      <td>Rape</td>\n",
       "      <td>NaN</td>\n",
       "      <td>1</td>\n",
       "      <td>4</td>\n",
       "    </tr>\n",
       "    <tr>\n",
       "      <th>119846</th>\n",
       "      <td>2015-09-24</td>\n",
       "      <td>9C40</td>\n",
       "      <td>1200-1299</td>\n",
       "      <td>FEDERAL</td>\n",
       "      <td>Burglary</td>\n",
       "      <td>NaN</td>\n",
       "      <td>1</td>\n",
       "      <td>5</td>\n",
       "    </tr>\n",
       "    <tr>\n",
       "      <th>119885</th>\n",
       "      <td>2015-09-18</td>\n",
       "      <td>9C40</td>\n",
       "      <td>12400-12499</td>\n",
       "      <td>EAST</td>\n",
       "      <td>Theft</td>\n",
       "      <td>NaN</td>\n",
       "      <td>1</td>\n",
       "      <td>16</td>\n",
       "    </tr>\n",
       "    <tr>\n",
       "      <th>119909</th>\n",
       "      <td>2015-09-18</td>\n",
       "      <td>9C40</td>\n",
       "      <td>12600-12699</td>\n",
       "      <td>IH 10</td>\n",
       "      <td>Auto Theft</td>\n",
       "      <td>NaN</td>\n",
       "      <td>1</td>\n",
       "      <td>21</td>\n",
       "    </tr>\n",
       "    <tr>\n",
       "      <th>119920</th>\n",
       "      <td>2015-09-10</td>\n",
       "      <td>9C40</td>\n",
       "      <td>12200-12299</td>\n",
       "      <td>EAST</td>\n",
       "      <td>Theft</td>\n",
       "      <td>NaN</td>\n",
       "      <td>1</td>\n",
       "      <td>20</td>\n",
       "    </tr>\n",
       "  </tbody>\n",
       "</table>\n",
       "</div>"
      ],
      "text/plain": [
       "             Date  Beat   BlockRange StreetName OffenseType Premise  \\\n",
       "119838 2014-09-30  9C40  13100-13199       EAST        Rape     NaN   \n",
       "119846 2015-09-24  9C40    1200-1299    FEDERAL    Burglary     NaN   \n",
       "119885 2015-09-18  9C40  12400-12499       EAST       Theft     NaN   \n",
       "119909 2015-09-18  9C40  12600-12699      IH 10  Auto Theft     NaN   \n",
       "119920 2015-09-10  9C40  12200-12299       EAST       Theft     NaN   \n",
       "\n",
       "        NumOffenses  Hour  \n",
       "119838            1     4  \n",
       "119846            1     5  \n",
       "119885            1    16  \n",
       "119909            1    21  \n",
       "119920            1    20  "
      ]
     },
     "execution_count": 44,
     "metadata": {},
     "output_type": "execute_result"
    }
   ],
   "source": [
    "crimes[crimes.isnull().any(axis=1)].tail()"
   ]
  },
  {
   "cell_type": "markdown",
   "metadata": {},
   "source": [
    "## drop rows with 2 or 3 or more NaN"
   ]
  },
  {
   "cell_type": "code",
   "execution_count": 45,
   "metadata": {},
   "outputs": [],
   "source": [
    "crimes = crimes.dropna(thresh=3)"
   ]
  },
  {
   "cell_type": "code",
   "execution_count": 46,
   "metadata": {},
   "outputs": [
    {
     "data": {
      "text/plain": [
       "2128"
      ]
     },
     "execution_count": 46,
     "metadata": {},
     "output_type": "execute_result"
    }
   ],
   "source": [
    "len(crimes[crimes.isnull().any(axis=1)])"
   ]
  },
  {
   "cell_type": "code",
   "execution_count": 47,
   "metadata": {},
   "outputs": [
    {
     "data": {
      "text/html": [
       "<div>\n",
       "<style scoped>\n",
       "    .dataframe tbody tr th:only-of-type {\n",
       "        vertical-align: middle;\n",
       "    }\n",
       "\n",
       "    .dataframe tbody tr th {\n",
       "        vertical-align: top;\n",
       "    }\n",
       "\n",
       "    .dataframe thead th {\n",
       "        text-align: right;\n",
       "    }\n",
       "</style>\n",
       "<table border=\"1\" class=\"dataframe\">\n",
       "  <thead>\n",
       "    <tr style=\"text-align: right;\">\n",
       "      <th></th>\n",
       "      <th>Date</th>\n",
       "      <th>Beat</th>\n",
       "      <th>BlockRange</th>\n",
       "      <th>StreetName</th>\n",
       "      <th>OffenseType</th>\n",
       "      <th>Premise</th>\n",
       "      <th>NumOffenses</th>\n",
       "      <th>Hour</th>\n",
       "    </tr>\n",
       "  </thead>\n",
       "  <tbody>\n",
       "    <tr>\n",
       "      <th>119838</th>\n",
       "      <td>2014-09-30</td>\n",
       "      <td>9C40</td>\n",
       "      <td>13100-13199</td>\n",
       "      <td>EAST</td>\n",
       "      <td>Rape</td>\n",
       "      <td>NaN</td>\n",
       "      <td>1</td>\n",
       "      <td>4</td>\n",
       "    </tr>\n",
       "    <tr>\n",
       "      <th>119846</th>\n",
       "      <td>2015-09-24</td>\n",
       "      <td>9C40</td>\n",
       "      <td>1200-1299</td>\n",
       "      <td>FEDERAL</td>\n",
       "      <td>Burglary</td>\n",
       "      <td>NaN</td>\n",
       "      <td>1</td>\n",
       "      <td>5</td>\n",
       "    </tr>\n",
       "    <tr>\n",
       "      <th>119885</th>\n",
       "      <td>2015-09-18</td>\n",
       "      <td>9C40</td>\n",
       "      <td>12400-12499</td>\n",
       "      <td>EAST</td>\n",
       "      <td>Theft</td>\n",
       "      <td>NaN</td>\n",
       "      <td>1</td>\n",
       "      <td>16</td>\n",
       "    </tr>\n",
       "    <tr>\n",
       "      <th>119909</th>\n",
       "      <td>2015-09-18</td>\n",
       "      <td>9C40</td>\n",
       "      <td>12600-12699</td>\n",
       "      <td>IH 10</td>\n",
       "      <td>Auto Theft</td>\n",
       "      <td>NaN</td>\n",
       "      <td>1</td>\n",
       "      <td>21</td>\n",
       "    </tr>\n",
       "    <tr>\n",
       "      <th>119920</th>\n",
       "      <td>2015-09-10</td>\n",
       "      <td>9C40</td>\n",
       "      <td>12200-12299</td>\n",
       "      <td>EAST</td>\n",
       "      <td>Theft</td>\n",
       "      <td>NaN</td>\n",
       "      <td>1</td>\n",
       "      <td>20</td>\n",
       "    </tr>\n",
       "  </tbody>\n",
       "</table>\n",
       "</div>"
      ],
      "text/plain": [
       "             Date  Beat   BlockRange StreetName OffenseType Premise  \\\n",
       "119838 2014-09-30  9C40  13100-13199       EAST        Rape     NaN   \n",
       "119846 2015-09-24  9C40    1200-1299    FEDERAL    Burglary     NaN   \n",
       "119885 2015-09-18  9C40  12400-12499       EAST       Theft     NaN   \n",
       "119909 2015-09-18  9C40  12600-12699      IH 10  Auto Theft     NaN   \n",
       "119920 2015-09-10  9C40  12200-12299       EAST       Theft     NaN   \n",
       "\n",
       "        NumOffenses  Hour  \n",
       "119838            1     4  \n",
       "119846            1     5  \n",
       "119885            1    16  \n",
       "119909            1    21  \n",
       "119920            1    20  "
      ]
     },
     "execution_count": 47,
     "metadata": {},
     "output_type": "execute_result"
    }
   ],
   "source": [
    "crimes[crimes.isnull().any(axis=1)].tail()"
   ]
  },
  {
   "cell_type": "markdown",
   "metadata": {},
   "source": [
    "## Inspect each column"
   ]
  },
  {
   "cell_type": "code",
   "execution_count": 48,
   "metadata": {},
   "outputs": [
    {
     "data": {
      "text/plain": [
       "Date           datetime64[ns]\n",
       "Beat                   object\n",
       "BlockRange             object\n",
       "StreetName             object\n",
       "OffenseType            object\n",
       "Premise                object\n",
       "NumOffenses             int64\n",
       "Hour                    int64\n",
       "dtype: object"
      ]
     },
     "execution_count": 48,
     "metadata": {},
     "output_type": "execute_result"
    }
   ],
   "source": [
    "crimes.dtypes"
   ]
  },
  {
   "cell_type": "markdown",
   "metadata": {},
   "source": [
    "## Beat"
   ]
  },
  {
   "cell_type": "code",
   "execution_count": 49,
   "metadata": {},
   "outputs": [
    {
     "data": {
      "text/plain": [
       "119"
      ]
     },
     "execution_count": 49,
     "metadata": {},
     "output_type": "execute_result"
    }
   ],
   "source": [
    "len(crimes.Beat.value_counts())"
   ]
  },
  {
   "cell_type": "code",
   "execution_count": 50,
   "metadata": {},
   "outputs": [
    {
     "data": {
      "text/plain": [
       "119"
      ]
     },
     "execution_count": 50,
     "metadata": {},
     "output_type": "execute_result"
    }
   ],
   "source": [
    "len(crimes.Beat.value_counts(dropna=False))"
   ]
  },
  {
   "cell_type": "code",
   "execution_count": 51,
   "metadata": {},
   "outputs": [
    {
     "data": {
      "text/plain": [
       "array(['10H10', '10H20', '10H30', '10H40', '10H50', '10H60', '10H70',\n",
       "       '10H80', '11H10', '11H20', '11H30', '11H40', '11H50', '12D10',\n",
       "       '12D20', '12D30', '12D40', '12D50', '12D60', '12D70', '13D10',\n",
       "       '13D20', '13D30', '13D40', '14D10', '14D20', '14D30', '14D40',\n",
       "       '14D50', '15E10', '15E20', '15E30', '15E40', '16E10', '16E20',\n",
       "       '16E30', '16E40', '17E10', '17E20', '17E30', '17E40', '18F10',\n",
       "       '18F20', '18F30', '18F40', '18F50', '18F60', '19G10', '19G20',\n",
       "       '19G30', '19G40', '19G50', '1A10', '1A20', '1A30', '1A40', '1A50',\n",
       "       '20G10', '20G20', '20G30', '20G40', '20G50', '20G60', '20G70',\n",
       "       '20G80', '21I10', '21I30', '21I50', '23J50', '24C10', '24C20',\n",
       "       '24C30', '24C40', '24C50', '24C60', '2A10', '2A20', '2A30', '2A40',\n",
       "       '2A50', '2A60', '3B10', '3B30', '3B40', '3B50', '4F10', '4F20',\n",
       "       '4F30', '5F10', '5F20', '5F30', '5F40', '6B10', '6B20', '6B30',\n",
       "       '6B40', '6B50', '6B60', '7C10', '7C20', '7C30', '7C40', '7C50',\n",
       "       '8C10', '8C20', '8C30', '8C40', '8C50', '8C60', '9C10', '9C20',\n",
       "       '9C30', '9C40', 'UNK', '21I40', '21I60', '21I20', '3B20', '21I70'],\n",
       "      dtype=object)"
      ]
     },
     "execution_count": 51,
     "metadata": {},
     "output_type": "execute_result"
    }
   ],
   "source": [
    "crimes.Beat.unique()"
   ]
  },
  {
   "cell_type": "code",
   "execution_count": 52,
   "metadata": {},
   "outputs": [],
   "source": [
    "# replace extra ' with empty space\n",
    "crimes['Beat'] = crimes.Beat.str.replace(\"'\", \" \")"
   ]
  },
  {
   "cell_type": "code",
   "execution_count": 53,
   "metadata": {},
   "outputs": [
    {
     "data": {
      "text/plain": [
       "119"
      ]
     },
     "execution_count": 53,
     "metadata": {},
     "output_type": "execute_result"
    }
   ],
   "source": [
    "len(crimes.Beat.value_counts(dropna=False))"
   ]
  },
  {
   "cell_type": "code",
   "execution_count": null,
   "metadata": {},
   "outputs": [],
   "source": []
  },
  {
   "cell_type": "code",
   "execution_count": 54,
   "metadata": {},
   "outputs": [],
   "source": [
    "# strip empty spaces\n",
    "crimes.Beat = crimes.Beat.str.strip()"
   ]
  },
  {
   "cell_type": "code",
   "execution_count": 55,
   "metadata": {},
   "outputs": [
    {
     "data": {
      "text/plain": [
       "119"
      ]
     },
     "execution_count": 55,
     "metadata": {},
     "output_type": "execute_result"
    }
   ],
   "source": [
    "len(crimes.Beat.value_counts(dropna=False))  # get the total"
   ]
  },
  {
   "cell_type": "code",
   "execution_count": 56,
   "metadata": {},
   "outputs": [
    {
     "data": {
      "text/plain": [
       "array(['10H10', '10H20', '10H30', '10H40', '10H50', '10H60', '10H70',\n",
       "       '10H80', '11H10', '11H20', '11H30', '11H40', '11H50', '12D10',\n",
       "       '12D20', '12D30', '12D40', '12D50', '12D60', '12D70', '13D10',\n",
       "       '13D20', '13D30', '13D40', '14D10', '14D20', '14D30', '14D40',\n",
       "       '14D50', '15E10', '15E20', '15E30', '15E40', '16E10', '16E20',\n",
       "       '16E30', '16E40', '17E10', '17E20', '17E30', '17E40', '18F10',\n",
       "       '18F20', '18F30', '18F40', '18F50', '18F60', '19G10', '19G20',\n",
       "       '19G30', '19G40', '19G50', '1A10', '1A20', '1A30', '1A40', '1A50',\n",
       "       '20G10', '20G20', '20G30', '20G40', '20G50', '20G60', '20G70',\n",
       "       '20G80', '21I10', '21I30', '21I50', '23J50', '24C10', '24C20',\n",
       "       '24C30', '24C40', '24C50', '24C60', '2A10', '2A20', '2A30', '2A40',\n",
       "       '2A50', '2A60', '3B10', '3B30', '3B40', '3B50', '4F10', '4F20',\n",
       "       '4F30', '5F10', '5F20', '5F30', '5F40', '6B10', '6B20', '6B30',\n",
       "       '6B40', '6B50', '6B60', '7C10', '7C20', '7C30', '7C40', '7C50',\n",
       "       '8C10', '8C20', '8C30', '8C40', '8C50', '8C60', '9C10', '9C20',\n",
       "       '9C30', '9C40', 'UNK', '21I40', '21I60', '21I20', '3B20', '21I70'],\n",
       "      dtype=object)"
      ]
     },
     "execution_count": 56,
     "metadata": {},
     "output_type": "execute_result"
    }
   ],
   "source": [
    "crimes.Beat.unique()"
   ]
  },
  {
   "cell_type": "code",
   "execution_count": 57,
   "metadata": {},
   "outputs": [
    {
     "data": {
      "text/plain": [
       "1A20     2716\n",
       "13D20    2667\n",
       "19G10    2548\n",
       "6B60     2493\n",
       "12D10    2466\n",
       "Name: Beat, dtype: int64"
      ]
     },
     "execution_count": 57,
     "metadata": {},
     "output_type": "execute_result"
    }
   ],
   "source": [
    "crimes.Beat.value_counts(dropna=False).head()"
   ]
  },
  {
   "cell_type": "markdown",
   "metadata": {},
   "source": [
    "## BlockRange"
   ]
  },
  {
   "cell_type": "code",
   "execution_count": 58,
   "metadata": {},
   "outputs": [
    {
     "data": {
      "text/plain": [
       "245"
      ]
     },
     "execution_count": 58,
     "metadata": {},
     "output_type": "execute_result"
    }
   ],
   "source": [
    "len(crimes.BlockRange.value_counts(dropna=False))"
   ]
  },
  {
   "cell_type": "code",
   "execution_count": 59,
   "metadata": {},
   "outputs": [
    {
     "data": {
      "text/plain": [
       "2300-2399    1678\n",
       "100-199      1663\n",
       "900-999      1577\n",
       "UNK          1560\n",
       "800-899      1496\n",
       "Name: BlockRange, dtype: int64"
      ]
     },
     "execution_count": 59,
     "metadata": {},
     "output_type": "execute_result"
    }
   ],
   "source": [
    "crimes.BlockRange.value_counts(dropna=False).head()"
   ]
  },
  {
   "cell_type": "code",
   "execution_count": 60,
   "metadata": {},
   "outputs": [],
   "source": [
    "# strip\n",
    "crimes.BlockRange = crimes.BlockRange.str.strip()"
   ]
  },
  {
   "cell_type": "code",
   "execution_count": 61,
   "metadata": {},
   "outputs": [
    {
     "data": {
      "text/plain": [
       "245"
      ]
     },
     "execution_count": 61,
     "metadata": {},
     "output_type": "execute_result"
    }
   ],
   "source": [
    "len(crimes.BlockRange.value_counts(dropna=False))"
   ]
  },
  {
   "cell_type": "markdown",
   "metadata": {},
   "source": [
    "## StreetName"
   ]
  },
  {
   "cell_type": "code",
   "execution_count": 62,
   "metadata": {},
   "outputs": [
    {
     "name": "stdout",
     "output_type": "stream",
     "text": [
      "before:7918\n"
     ]
    }
   ],
   "source": [
    "print('before:{}'.format(len(crimes.StreetName.value_counts(dropna=False))))"
   ]
  },
  {
   "cell_type": "code",
   "execution_count": 63,
   "metadata": {},
   "outputs": [],
   "source": [
    "crimes.StreetName = crimes.StreetName.str.strip()"
   ]
  },
  {
   "cell_type": "code",
   "execution_count": 64,
   "metadata": {},
   "outputs": [
    {
     "name": "stdout",
     "output_type": "stream",
     "text": [
      "after:7913\n"
     ]
    }
   ],
   "source": [
    "print('after:{}'.format(len(crimes.StreetName.value_counts(dropna=False))))"
   ]
  },
  {
   "cell_type": "code",
   "execution_count": 65,
   "metadata": {},
   "outputs": [
    {
     "name": "stdout",
     "output_type": "stream",
     "text": [
      "WESTHEIMER     3623\n",
      "GULF           2138\n",
      "SAM HOUSTON    1718\n",
      "NORTH          1701\n",
      "LOOP           1573\n",
      "Name: StreetName, dtype: int64\n"
     ]
    }
   ],
   "source": [
    "print(crimes.StreetName.value_counts(dropna=False).head())"
   ]
  },
  {
   "cell_type": "markdown",
   "metadata": {},
   "source": [
    "## OffenseType"
   ]
  },
  {
   "cell_type": "code",
   "execution_count": 66,
   "metadata": {},
   "outputs": [
    {
     "name": "stdout",
     "output_type": "stream",
     "text": [
      "before:8\n"
     ]
    }
   ],
   "source": [
    "print('before:{}'.format(len(crimes.OffenseType.value_counts(dropna=False))))"
   ]
  },
  {
   "cell_type": "code",
   "execution_count": 67,
   "metadata": {},
   "outputs": [],
   "source": [
    "crimes.OffenseType = crimes.OffenseType.str.strip()"
   ]
  },
  {
   "cell_type": "code",
   "execution_count": 68,
   "metadata": {},
   "outputs": [
    {
     "name": "stdout",
     "output_type": "stream",
     "text": [
      "after:8\n"
     ]
    }
   ],
   "source": [
    "print('after:{}'.format(len(crimes.OffenseType.value_counts(dropna=False))))"
   ]
  },
  {
   "cell_type": "code",
   "execution_count": 69,
   "metadata": {},
   "outputs": [
    {
     "name": "stdout",
     "output_type": "stream",
     "text": [
      "Theft                 66309\n",
      "Burglary              19824\n",
      "Auto Theft            13113\n",
      "Robbery               10274\n",
      "Aggravated Assault     9209\n",
      "Rape                    985\n",
      "Murder                  287\n",
      "NaN                       8\n",
      "Name: OffenseType, dtype: int64\n"
     ]
    }
   ],
   "source": [
    "print(crimes.OffenseType.value_counts(dropna=False))"
   ]
  },
  {
   "cell_type": "markdown",
   "metadata": {},
   "source": [
    "## Premise"
   ]
  },
  {
   "cell_type": "code",
   "execution_count": 70,
   "metadata": {},
   "outputs": [
    {
     "name": "stdout",
     "output_type": "stream",
     "text": [
      "before:125\n"
     ]
    }
   ],
   "source": [
    "print('before:{}'.format(len(crimes.Premise.value_counts(dropna=False))))"
   ]
  },
  {
   "cell_type": "code",
   "execution_count": 71,
   "metadata": {},
   "outputs": [],
   "source": [
    "crimes.Premise = crimes.Premise.str.strip()"
   ]
  },
  {
   "cell_type": "code",
   "execution_count": 72,
   "metadata": {},
   "outputs": [
    {
     "name": "stdout",
     "output_type": "stream",
     "text": [
      "after:125\n"
     ]
    }
   ],
   "source": [
    "print('after:{}'.format(len(crimes.Premise.value_counts(dropna=False))))"
   ]
  },
  {
   "cell_type": "code",
   "execution_count": 73,
   "metadata": {},
   "outputs": [
    {
     "data": {
      "text/plain": [
       "Residence or House                     16814\n",
       "Apartment Parking Lot                  13220\n",
       "Apartment                              11815\n",
       "Road, Street, or Sidewalk              11390\n",
       "Restaurant or Cafeteria Parking Lot     4897\n",
       "Name: Premise, dtype: int64"
      ]
     },
     "execution_count": 73,
     "metadata": {},
     "output_type": "execute_result"
    }
   ],
   "source": [
    "crimes.Premise.value_counts(dropna=False).head()"
   ]
  },
  {
   "cell_type": "markdown",
   "metadata": {},
   "source": [
    "## Premise Description"
   ]
  },
  {
   "cell_type": "code",
   "execution_count": null,
   "metadata": {},
   "outputs": [],
   "source": [
    "#print('before:{}'.format(len(crimes['Premise Description'].value_counts(dropna=False))))"
   ]
  },
  {
   "cell_type": "code",
   "execution_count": null,
   "metadata": {},
   "outputs": [],
   "source": [
    "#crimes.Beat = crimes.Beat.str.replace(r\"\\'(.+?)\\'\", ' ')\n",
    "#crimes['Premise Description'] = crimes['Premise Description'].str.strip()"
   ]
  },
  {
   "cell_type": "code",
   "execution_count": null,
   "metadata": {},
   "outputs": [],
   "source": [
    "#print('after:{}'.format(len(crimes['Premise Description'].value_counts(dropna=False))))"
   ]
  },
  {
   "cell_type": "code",
   "execution_count": null,
   "metadata": {},
   "outputs": [],
   "source": [
    "#print(crimes['Premise Description'].value_counts(dropna=False).head())"
   ]
  },
  {
   "cell_type": "code",
   "execution_count": null,
   "metadata": {},
   "outputs": [],
   "source": []
  },
  {
   "cell_type": "code",
   "execution_count": null,
   "metadata": {},
   "outputs": [],
   "source": []
  },
  {
   "cell_type": "code",
   "execution_count": null,
   "metadata": {},
   "outputs": [],
   "source": []
  },
  {
   "cell_type": "markdown",
   "metadata": {},
   "source": [
    "# Set Date as index"
   ]
  },
  {
   "cell_type": "code",
   "execution_count": 74,
   "metadata": {},
   "outputs": [],
   "source": [
    "# date\n",
    "crimes.Date = pd.to_datetime(crimes.Date)\n",
    "\n",
    "crimes = crimes.set_index('Date').sort_index(ascending=True)"
   ]
  },
  {
   "cell_type": "code",
   "execution_count": 75,
   "metadata": {},
   "outputs": [
    {
     "data": {
      "text/html": [
       "<div>\n",
       "<style scoped>\n",
       "    .dataframe tbody tr th:only-of-type {\n",
       "        vertical-align: middle;\n",
       "    }\n",
       "\n",
       "    .dataframe tbody tr th {\n",
       "        vertical-align: top;\n",
       "    }\n",
       "\n",
       "    .dataframe thead th {\n",
       "        text-align: right;\n",
       "    }\n",
       "</style>\n",
       "<table border=\"1\" class=\"dataframe\">\n",
       "  <thead>\n",
       "    <tr style=\"text-align: right;\">\n",
       "      <th></th>\n",
       "      <th>Beat</th>\n",
       "      <th>BlockRange</th>\n",
       "      <th>StreetName</th>\n",
       "      <th>OffenseType</th>\n",
       "      <th>Premise</th>\n",
       "      <th>NumOffenses</th>\n",
       "      <th>Hour</th>\n",
       "    </tr>\n",
       "    <tr>\n",
       "      <th>Date</th>\n",
       "      <th></th>\n",
       "      <th></th>\n",
       "      <th></th>\n",
       "      <th></th>\n",
       "      <th></th>\n",
       "      <th></th>\n",
       "      <th></th>\n",
       "    </tr>\n",
       "  </thead>\n",
       "  <tbody>\n",
       "    <tr>\n",
       "      <th>1915-01-05</th>\n",
       "      <td>3B10</td>\n",
       "      <td>3200-3299</td>\n",
       "      <td>MANGUM RD 180</td>\n",
       "      <td>Theft</td>\n",
       "      <td>Other Parking Lot</td>\n",
       "      <td>1</td>\n",
       "      <td>22</td>\n",
       "    </tr>\n",
       "    <tr>\n",
       "      <th>1915-01-14</th>\n",
       "      <td>5F10</td>\n",
       "      <td>7000-7099</td>\n",
       "      <td>WESTVIEW</td>\n",
       "      <td>Auto Theft</td>\n",
       "      <td>Apartment Parking Lot</td>\n",
       "      <td>1</td>\n",
       "      <td>23</td>\n",
       "    </tr>\n",
       "    <tr>\n",
       "      <th>1915-04-24</th>\n",
       "      <td>1A20</td>\n",
       "      <td>3100-3199</td>\n",
       "      <td>SMITH</td>\n",
       "      <td>Burglary</td>\n",
       "      <td>Office Building</td>\n",
       "      <td>1</td>\n",
       "      <td>7</td>\n",
       "    </tr>\n",
       "    <tr>\n",
       "      <th>1915-07-30</th>\n",
       "      <td>11H10</td>\n",
       "      <td>5600-5699</td>\n",
       "      <td>TRUETT</td>\n",
       "      <td>Rape</td>\n",
       "      <td>Other, Unknown, or Not Listed</td>\n",
       "      <td>1</td>\n",
       "      <td>10</td>\n",
       "    </tr>\n",
       "    <tr>\n",
       "      <th>1915-09-03</th>\n",
       "      <td>19G20</td>\n",
       "      <td>11700-11799</td>\n",
       "      <td>BEECHNUT</td>\n",
       "      <td>Burglary</td>\n",
       "      <td>Rental Storage Facility</td>\n",
       "      <td>1</td>\n",
       "      <td>13</td>\n",
       "    </tr>\n",
       "  </tbody>\n",
       "</table>\n",
       "</div>"
      ],
      "text/plain": [
       "             Beat   BlockRange     StreetName OffenseType  \\\n",
       "Date                                                        \n",
       "1915-01-05   3B10    3200-3299  MANGUM RD 180       Theft   \n",
       "1915-01-14   5F10    7000-7099       WESTVIEW  Auto Theft   \n",
       "1915-04-24   1A20    3100-3199          SMITH    Burglary   \n",
       "1915-07-30  11H10    5600-5699         TRUETT        Rape   \n",
       "1915-09-03  19G20  11700-11799       BEECHNUT    Burglary   \n",
       "\n",
       "                                  Premise  NumOffenses  Hour  \n",
       "Date                                                          \n",
       "1915-01-05              Other Parking Lot            1    22  \n",
       "1915-01-14          Apartment Parking Lot            1    23  \n",
       "1915-04-24                Office Building            1     7  \n",
       "1915-07-30  Other, Unknown, or Not Listed            1    10  \n",
       "1915-09-03        Rental Storage Facility            1    13  "
      ]
     },
     "execution_count": 75,
     "metadata": {},
     "output_type": "execute_result"
    }
   ],
   "source": [
    "crimes.head()"
   ]
  },
  {
   "cell_type": "markdown",
   "metadata": {},
   "source": [
    "## Create Columns with day,weekday,month,year from date index"
   ]
  },
  {
   "cell_type": "code",
   "execution_count": 76,
   "metadata": {},
   "outputs": [],
   "source": [
    "# get day, weekday,month ,year\n",
    "\n",
    "crimes['day'] = crimes.index.strftime('%d')\n",
    "crimes['weekday'] = crimes.index.strftime('%A')\n",
    "crimes['month'] = crimes.index.strftime('%b')\n",
    "crimes['year'] = crimes.index.strftime('%Y')"
   ]
  },
  {
   "cell_type": "code",
   "execution_count": 77,
   "metadata": {},
   "outputs": [
    {
     "data": {
      "text/html": [
       "<div>\n",
       "<style scoped>\n",
       "    .dataframe tbody tr th:only-of-type {\n",
       "        vertical-align: middle;\n",
       "    }\n",
       "\n",
       "    .dataframe tbody tr th {\n",
       "        vertical-align: top;\n",
       "    }\n",
       "\n",
       "    .dataframe thead th {\n",
       "        text-align: right;\n",
       "    }\n",
       "</style>\n",
       "<table border=\"1\" class=\"dataframe\">\n",
       "  <thead>\n",
       "    <tr style=\"text-align: right;\">\n",
       "      <th></th>\n",
       "      <th>Beat</th>\n",
       "      <th>BlockRange</th>\n",
       "      <th>StreetName</th>\n",
       "      <th>OffenseType</th>\n",
       "      <th>Premise</th>\n",
       "      <th>NumOffenses</th>\n",
       "      <th>Hour</th>\n",
       "      <th>day</th>\n",
       "      <th>weekday</th>\n",
       "      <th>month</th>\n",
       "      <th>year</th>\n",
       "    </tr>\n",
       "    <tr>\n",
       "      <th>Date</th>\n",
       "      <th></th>\n",
       "      <th></th>\n",
       "      <th></th>\n",
       "      <th></th>\n",
       "      <th></th>\n",
       "      <th></th>\n",
       "      <th></th>\n",
       "      <th></th>\n",
       "      <th></th>\n",
       "      <th></th>\n",
       "      <th></th>\n",
       "    </tr>\n",
       "  </thead>\n",
       "  <tbody>\n",
       "    <tr>\n",
       "      <th>1915-01-05</th>\n",
       "      <td>3B10</td>\n",
       "      <td>3200-3299</td>\n",
       "      <td>MANGUM RD 180</td>\n",
       "      <td>Theft</td>\n",
       "      <td>Other Parking Lot</td>\n",
       "      <td>1</td>\n",
       "      <td>22</td>\n",
       "      <td>05</td>\n",
       "      <td>Tuesday</td>\n",
       "      <td>Jan</td>\n",
       "      <td>1915</td>\n",
       "    </tr>\n",
       "    <tr>\n",
       "      <th>1915-01-14</th>\n",
       "      <td>5F10</td>\n",
       "      <td>7000-7099</td>\n",
       "      <td>WESTVIEW</td>\n",
       "      <td>Auto Theft</td>\n",
       "      <td>Apartment Parking Lot</td>\n",
       "      <td>1</td>\n",
       "      <td>23</td>\n",
       "      <td>14</td>\n",
       "      <td>Thursday</td>\n",
       "      <td>Jan</td>\n",
       "      <td>1915</td>\n",
       "    </tr>\n",
       "    <tr>\n",
       "      <th>1915-04-24</th>\n",
       "      <td>1A20</td>\n",
       "      <td>3100-3199</td>\n",
       "      <td>SMITH</td>\n",
       "      <td>Burglary</td>\n",
       "      <td>Office Building</td>\n",
       "      <td>1</td>\n",
       "      <td>7</td>\n",
       "      <td>24</td>\n",
       "      <td>Saturday</td>\n",
       "      <td>Apr</td>\n",
       "      <td>1915</td>\n",
       "    </tr>\n",
       "    <tr>\n",
       "      <th>1915-07-30</th>\n",
       "      <td>11H10</td>\n",
       "      <td>5600-5699</td>\n",
       "      <td>TRUETT</td>\n",
       "      <td>Rape</td>\n",
       "      <td>Other, Unknown, or Not Listed</td>\n",
       "      <td>1</td>\n",
       "      <td>10</td>\n",
       "      <td>30</td>\n",
       "      <td>Friday</td>\n",
       "      <td>Jul</td>\n",
       "      <td>1915</td>\n",
       "    </tr>\n",
       "    <tr>\n",
       "      <th>1915-09-03</th>\n",
       "      <td>19G20</td>\n",
       "      <td>11700-11799</td>\n",
       "      <td>BEECHNUT</td>\n",
       "      <td>Burglary</td>\n",
       "      <td>Rental Storage Facility</td>\n",
       "      <td>1</td>\n",
       "      <td>13</td>\n",
       "      <td>03</td>\n",
       "      <td>Friday</td>\n",
       "      <td>Sep</td>\n",
       "      <td>1915</td>\n",
       "    </tr>\n",
       "  </tbody>\n",
       "</table>\n",
       "</div>"
      ],
      "text/plain": [
       "             Beat   BlockRange     StreetName OffenseType  \\\n",
       "Date                                                        \n",
       "1915-01-05   3B10    3200-3299  MANGUM RD 180       Theft   \n",
       "1915-01-14   5F10    7000-7099       WESTVIEW  Auto Theft   \n",
       "1915-04-24   1A20    3100-3199          SMITH    Burglary   \n",
       "1915-07-30  11H10    5600-5699         TRUETT        Rape   \n",
       "1915-09-03  19G20  11700-11799       BEECHNUT    Burglary   \n",
       "\n",
       "                                  Premise  NumOffenses  Hour day   weekday  \\\n",
       "Date                                                                         \n",
       "1915-01-05              Other Parking Lot            1    22  05   Tuesday   \n",
       "1915-01-14          Apartment Parking Lot            1    23  14  Thursday   \n",
       "1915-04-24                Office Building            1     7  24  Saturday   \n",
       "1915-07-30  Other, Unknown, or Not Listed            1    10  30    Friday   \n",
       "1915-09-03        Rental Storage Facility            1    13  03    Friday   \n",
       "\n",
       "           month  year  \n",
       "Date                    \n",
       "1915-01-05   Jan  1915  \n",
       "1915-01-14   Jan  1915  \n",
       "1915-04-24   Apr  1915  \n",
       "1915-07-30   Jul  1915  \n",
       "1915-09-03   Sep  1915  "
      ]
     },
     "execution_count": 77,
     "metadata": {},
     "output_type": "execute_result"
    }
   ],
   "source": [
    "crimes.head()"
   ]
  },
  {
   "cell_type": "markdown",
   "metadata": {},
   "source": [
    "## null values\n",
    "\n",
    "- check\n",
    "- count\n",
    "- display"
   ]
  },
  {
   "cell_type": "code",
   "execution_count": 78,
   "metadata": {},
   "outputs": [
    {
     "data": {
      "text/plain": [
       "True"
      ]
     },
     "execution_count": 78,
     "metadata": {},
     "output_type": "execute_result"
    }
   ],
   "source": [
    "crimes.isnull().values.any().any()"
   ]
  },
  {
   "cell_type": "code",
   "execution_count": 79,
   "metadata": {},
   "outputs": [
    {
     "data": {
      "text/plain": [
       "2162"
      ]
     },
     "execution_count": 79,
     "metadata": {},
     "output_type": "execute_result"
    }
   ],
   "source": [
    "# display any null\n",
    "\n",
    "len(crimes[crimes.isnull().any(axis=1)])"
   ]
  },
  {
   "cell_type": "code",
   "execution_count": 80,
   "metadata": {},
   "outputs": [
    {
     "data": {
      "text/html": [
       "<div>\n",
       "<style scoped>\n",
       "    .dataframe tbody tr th:only-of-type {\n",
       "        vertical-align: middle;\n",
       "    }\n",
       "\n",
       "    .dataframe tbody tr th {\n",
       "        vertical-align: top;\n",
       "    }\n",
       "\n",
       "    .dataframe thead th {\n",
       "        text-align: right;\n",
       "    }\n",
       "</style>\n",
       "<table border=\"1\" class=\"dataframe\">\n",
       "  <thead>\n",
       "    <tr style=\"text-align: right;\">\n",
       "      <th></th>\n",
       "      <th>Beat</th>\n",
       "      <th>BlockRange</th>\n",
       "      <th>StreetName</th>\n",
       "      <th>OffenseType</th>\n",
       "      <th>Premise</th>\n",
       "      <th>NumOffenses</th>\n",
       "      <th>Hour</th>\n",
       "      <th>day</th>\n",
       "      <th>weekday</th>\n",
       "      <th>month</th>\n",
       "      <th>year</th>\n",
       "    </tr>\n",
       "    <tr>\n",
       "      <th>Date</th>\n",
       "      <th></th>\n",
       "      <th></th>\n",
       "      <th></th>\n",
       "      <th></th>\n",
       "      <th></th>\n",
       "      <th></th>\n",
       "      <th></th>\n",
       "      <th></th>\n",
       "      <th></th>\n",
       "      <th></th>\n",
       "      <th></th>\n",
       "    </tr>\n",
       "  </thead>\n",
       "  <tbody>\n",
       "    <tr>\n",
       "      <th>1991-05-23</th>\n",
       "      <td>17E10</td>\n",
       "      <td>6700-6799</td>\n",
       "      <td>HORNWOOD</td>\n",
       "      <td>Rape</td>\n",
       "      <td>NaN</td>\n",
       "      <td>1</td>\n",
       "      <td>21</td>\n",
       "      <td>23</td>\n",
       "      <td>Thursday</td>\n",
       "      <td>May</td>\n",
       "      <td>1991</td>\n",
       "    </tr>\n",
       "    <tr>\n",
       "      <th>1993-04-01</th>\n",
       "      <td>5F20</td>\n",
       "      <td>3900-3999</td>\n",
       "      <td>HOLLISTER</td>\n",
       "      <td>Rape</td>\n",
       "      <td>NaN</td>\n",
       "      <td>1</td>\n",
       "      <td>13</td>\n",
       "      <td>01</td>\n",
       "      <td>Thursday</td>\n",
       "      <td>Apr</td>\n",
       "      <td>1993</td>\n",
       "    </tr>\n",
       "    <tr>\n",
       "      <th>1998-01-01</th>\n",
       "      <td>17E10</td>\n",
       "      <td>6100-6199</td>\n",
       "      <td>GLENMONT</td>\n",
       "      <td>Rape</td>\n",
       "      <td>NaN</td>\n",
       "      <td>1</td>\n",
       "      <td>23</td>\n",
       "      <td>01</td>\n",
       "      <td>Thursday</td>\n",
       "      <td>Jan</td>\n",
       "      <td>1998</td>\n",
       "    </tr>\n",
       "    <tr>\n",
       "      <th>1999-01-01</th>\n",
       "      <td>UNK</td>\n",
       "      <td>8400-8499</td>\n",
       "      <td>STONE</td>\n",
       "      <td>Rape</td>\n",
       "      <td>NaN</td>\n",
       "      <td>1</td>\n",
       "      <td>14</td>\n",
       "      <td>01</td>\n",
       "      <td>Friday</td>\n",
       "      <td>Jan</td>\n",
       "      <td>1999</td>\n",
       "    </tr>\n",
       "    <tr>\n",
       "      <th>2000-05-01</th>\n",
       "      <td>18F20</td>\n",
       "      <td>5000-5099</td>\n",
       "      <td>WESTHEIMER</td>\n",
       "      <td>Theft</td>\n",
       "      <td>NaN</td>\n",
       "      <td>1</td>\n",
       "      <td>11</td>\n",
       "      <td>01</td>\n",
       "      <td>Monday</td>\n",
       "      <td>May</td>\n",
       "      <td>2000</td>\n",
       "    </tr>\n",
       "  </tbody>\n",
       "</table>\n",
       "</div>"
      ],
      "text/plain": [
       "             Beat BlockRange  StreetName OffenseType Premise  NumOffenses  \\\n",
       "Date                                                                        \n",
       "1991-05-23  17E10  6700-6799    HORNWOOD        Rape     NaN            1   \n",
       "1993-04-01   5F20  3900-3999   HOLLISTER        Rape     NaN            1   \n",
       "1998-01-01  17E10  6100-6199    GLENMONT        Rape     NaN            1   \n",
       "1999-01-01    UNK  8400-8499       STONE        Rape     NaN            1   \n",
       "2000-05-01  18F20  5000-5099  WESTHEIMER       Theft     NaN            1   \n",
       "\n",
       "            Hour day   weekday month  year  \n",
       "Date                                        \n",
       "1991-05-23    21  23  Thursday   May  1991  \n",
       "1993-04-01    13  01  Thursday   Apr  1993  \n",
       "1998-01-01    23  01  Thursday   Jan  1998  \n",
       "1999-01-01    14  01    Friday   Jan  1999  \n",
       "2000-05-01    11  01    Monday   May  2000  "
      ]
     },
     "execution_count": 80,
     "metadata": {},
     "output_type": "execute_result"
    }
   ],
   "source": [
    "crimes[crimes.isnull().any(axis=1)].head()"
   ]
  },
  {
   "cell_type": "code",
   "execution_count": 81,
   "metadata": {},
   "outputs": [
    {
     "name": "stdout",
     "output_type": "stream",
     "text": [
      "<class 'pandas.core.frame.DataFrame'>\n",
      "DatetimeIndex: 120009 entries, 1915-01-05 to 2015-12-31\n",
      "Data columns (total 11 columns):\n",
      "Beat           120009 non-null object\n",
      "BlockRange     120009 non-null object\n",
      "StreetName     119981 non-null object\n",
      "OffenseType    120001 non-null object\n",
      "Premise        117881 non-null object\n",
      "NumOffenses    120009 non-null int64\n",
      "Hour           120009 non-null int64\n",
      "day            120009 non-null object\n",
      "weekday        120009 non-null object\n",
      "month          120009 non-null object\n",
      "year           120009 non-null object\n",
      "dtypes: int64(2), object(9)\n",
      "memory usage: 13.5+ MB\n"
     ]
    }
   ],
   "source": [
    "crimes.info()"
   ]
  },
  {
   "cell_type": "markdown",
   "metadata": {},
   "source": [
    "## New Dataframe\n",
    "- remove premise col\n",
    "- keep premise description"
   ]
  },
  {
   "cell_type": "code",
   "execution_count": 82,
   "metadata": {},
   "outputs": [
    {
     "data": {
      "text/html": [
       "<div>\n",
       "<style scoped>\n",
       "    .dataframe tbody tr th:only-of-type {\n",
       "        vertical-align: middle;\n",
       "    }\n",
       "\n",
       "    .dataframe tbody tr th {\n",
       "        vertical-align: top;\n",
       "    }\n",
       "\n",
       "    .dataframe thead th {\n",
       "        text-align: right;\n",
       "    }\n",
       "</style>\n",
       "<table border=\"1\" class=\"dataframe\">\n",
       "  <thead>\n",
       "    <tr style=\"text-align: right;\">\n",
       "      <th></th>\n",
       "      <th>Beat</th>\n",
       "      <th>BlockRange</th>\n",
       "      <th>StreetName</th>\n",
       "      <th>OffenseType</th>\n",
       "      <th>Premise</th>\n",
       "      <th>NumOffenses</th>\n",
       "      <th>Hour</th>\n",
       "      <th>day</th>\n",
       "      <th>weekday</th>\n",
       "      <th>month</th>\n",
       "      <th>year</th>\n",
       "    </tr>\n",
       "    <tr>\n",
       "      <th>Date</th>\n",
       "      <th></th>\n",
       "      <th></th>\n",
       "      <th></th>\n",
       "      <th></th>\n",
       "      <th></th>\n",
       "      <th></th>\n",
       "      <th></th>\n",
       "      <th></th>\n",
       "      <th></th>\n",
       "      <th></th>\n",
       "      <th></th>\n",
       "    </tr>\n",
       "  </thead>\n",
       "  <tbody>\n",
       "    <tr>\n",
       "      <th>1915-01-05</th>\n",
       "      <td>3B10</td>\n",
       "      <td>3200-3299</td>\n",
       "      <td>MANGUM RD 180</td>\n",
       "      <td>Theft</td>\n",
       "      <td>Other Parking Lot</td>\n",
       "      <td>1</td>\n",
       "      <td>22</td>\n",
       "      <td>05</td>\n",
       "      <td>Tuesday</td>\n",
       "      <td>Jan</td>\n",
       "      <td>1915</td>\n",
       "    </tr>\n",
       "    <tr>\n",
       "      <th>1915-01-14</th>\n",
       "      <td>5F10</td>\n",
       "      <td>7000-7099</td>\n",
       "      <td>WESTVIEW</td>\n",
       "      <td>Auto Theft</td>\n",
       "      <td>Apartment Parking Lot</td>\n",
       "      <td>1</td>\n",
       "      <td>23</td>\n",
       "      <td>14</td>\n",
       "      <td>Thursday</td>\n",
       "      <td>Jan</td>\n",
       "      <td>1915</td>\n",
       "    </tr>\n",
       "    <tr>\n",
       "      <th>1915-04-24</th>\n",
       "      <td>1A20</td>\n",
       "      <td>3100-3199</td>\n",
       "      <td>SMITH</td>\n",
       "      <td>Burglary</td>\n",
       "      <td>Office Building</td>\n",
       "      <td>1</td>\n",
       "      <td>7</td>\n",
       "      <td>24</td>\n",
       "      <td>Saturday</td>\n",
       "      <td>Apr</td>\n",
       "      <td>1915</td>\n",
       "    </tr>\n",
       "    <tr>\n",
       "      <th>1915-07-30</th>\n",
       "      <td>11H10</td>\n",
       "      <td>5600-5699</td>\n",
       "      <td>TRUETT</td>\n",
       "      <td>Rape</td>\n",
       "      <td>Other, Unknown, or Not Listed</td>\n",
       "      <td>1</td>\n",
       "      <td>10</td>\n",
       "      <td>30</td>\n",
       "      <td>Friday</td>\n",
       "      <td>Jul</td>\n",
       "      <td>1915</td>\n",
       "    </tr>\n",
       "    <tr>\n",
       "      <th>1915-09-03</th>\n",
       "      <td>19G20</td>\n",
       "      <td>11700-11799</td>\n",
       "      <td>BEECHNUT</td>\n",
       "      <td>Burglary</td>\n",
       "      <td>Rental Storage Facility</td>\n",
       "      <td>1</td>\n",
       "      <td>13</td>\n",
       "      <td>03</td>\n",
       "      <td>Friday</td>\n",
       "      <td>Sep</td>\n",
       "      <td>1915</td>\n",
       "    </tr>\n",
       "  </tbody>\n",
       "</table>\n",
       "</div>"
      ],
      "text/plain": [
       "             Beat   BlockRange     StreetName OffenseType  \\\n",
       "Date                                                        \n",
       "1915-01-05   3B10    3200-3299  MANGUM RD 180       Theft   \n",
       "1915-01-14   5F10    7000-7099       WESTVIEW  Auto Theft   \n",
       "1915-04-24   1A20    3100-3199          SMITH    Burglary   \n",
       "1915-07-30  11H10    5600-5699         TRUETT        Rape   \n",
       "1915-09-03  19G20  11700-11799       BEECHNUT    Burglary   \n",
       "\n",
       "                                  Premise  NumOffenses  Hour day   weekday  \\\n",
       "Date                                                                         \n",
       "1915-01-05              Other Parking Lot            1    22  05   Tuesday   \n",
       "1915-01-14          Apartment Parking Lot            1    23  14  Thursday   \n",
       "1915-04-24                Office Building            1     7  24  Saturday   \n",
       "1915-07-30  Other, Unknown, or Not Listed            1    10  30    Friday   \n",
       "1915-09-03        Rental Storage Facility            1    13  03    Friday   \n",
       "\n",
       "           month  year  \n",
       "Date                    \n",
       "1915-01-05   Jan  1915  \n",
       "1915-01-14   Jan  1915  \n",
       "1915-04-24   Apr  1915  \n",
       "1915-07-30   Jul  1915  \n",
       "1915-09-03   Sep  1915  "
      ]
     },
     "execution_count": 82,
     "metadata": {},
     "output_type": "execute_result"
    }
   ],
   "source": [
    "crime_yr = crimes[['Beat','BlockRange','StreetName','OffenseType','Premise','NumOffenses','Hour','day','weekday','month','year']]\n",
    "crime_yr.head()"
   ]
  },
  {
   "cell_type": "code",
   "execution_count": 83,
   "metadata": {},
   "outputs": [
    {
     "data": {
      "text/plain": [
       "True"
      ]
     },
     "execution_count": 83,
     "metadata": {},
     "output_type": "execute_result"
    }
   ],
   "source": [
    "crime_yr.isnull().values.any().any()"
   ]
  },
  {
   "cell_type": "code",
   "execution_count": 84,
   "metadata": {},
   "outputs": [
    {
     "data": {
      "text/plain": [
       "2162"
      ]
     },
     "execution_count": 84,
     "metadata": {},
     "output_type": "execute_result"
    }
   ],
   "source": [
    "# display any null\n",
    "\n",
    "len(crime_yr[crime_yr.isnull().any(axis=1)])"
   ]
  },
  {
   "cell_type": "code",
   "execution_count": 85,
   "metadata": {},
   "outputs": [
    {
     "data": {
      "text/html": [
       "<div>\n",
       "<style scoped>\n",
       "    .dataframe tbody tr th:only-of-type {\n",
       "        vertical-align: middle;\n",
       "    }\n",
       "\n",
       "    .dataframe tbody tr th {\n",
       "        vertical-align: top;\n",
       "    }\n",
       "\n",
       "    .dataframe thead th {\n",
       "        text-align: right;\n",
       "    }\n",
       "</style>\n",
       "<table border=\"1\" class=\"dataframe\">\n",
       "  <thead>\n",
       "    <tr style=\"text-align: right;\">\n",
       "      <th></th>\n",
       "      <th>Beat</th>\n",
       "      <th>BlockRange</th>\n",
       "      <th>StreetName</th>\n",
       "      <th>OffenseType</th>\n",
       "      <th>Premise</th>\n",
       "      <th>NumOffenses</th>\n",
       "      <th>Hour</th>\n",
       "      <th>day</th>\n",
       "      <th>weekday</th>\n",
       "      <th>month</th>\n",
       "      <th>year</th>\n",
       "    </tr>\n",
       "    <tr>\n",
       "      <th>Date</th>\n",
       "      <th></th>\n",
       "      <th></th>\n",
       "      <th></th>\n",
       "      <th></th>\n",
       "      <th></th>\n",
       "      <th></th>\n",
       "      <th></th>\n",
       "      <th></th>\n",
       "      <th></th>\n",
       "      <th></th>\n",
       "      <th></th>\n",
       "    </tr>\n",
       "  </thead>\n",
       "  <tbody>\n",
       "    <tr>\n",
       "      <th>2015-12-30</th>\n",
       "      <td>19G50</td>\n",
       "      <td>9600-9699</td>\n",
       "      <td>BISSONNET</td>\n",
       "      <td>Theft</td>\n",
       "      <td>NaN</td>\n",
       "      <td>1</td>\n",
       "      <td>21</td>\n",
       "      <td>30</td>\n",
       "      <td>Wednesday</td>\n",
       "      <td>Dec</td>\n",
       "      <td>2015</td>\n",
       "    </tr>\n",
       "    <tr>\n",
       "      <th>2015-12-30</th>\n",
       "      <td>1A30</td>\n",
       "      <td>3600-3699</td>\n",
       "      <td>SHEPHERD</td>\n",
       "      <td>Theft</td>\n",
       "      <td>NaN</td>\n",
       "      <td>1</td>\n",
       "      <td>23</td>\n",
       "      <td>30</td>\n",
       "      <td>Wednesday</td>\n",
       "      <td>Dec</td>\n",
       "      <td>2015</td>\n",
       "    </tr>\n",
       "    <tr>\n",
       "      <th>2015-12-30</th>\n",
       "      <td>6B50</td>\n",
       "      <td>11400-11499</td>\n",
       "      <td>NORTH</td>\n",
       "      <td>Theft</td>\n",
       "      <td>NaN</td>\n",
       "      <td>1</td>\n",
       "      <td>23</td>\n",
       "      <td>30</td>\n",
       "      <td>Wednesday</td>\n",
       "      <td>Dec</td>\n",
       "      <td>2015</td>\n",
       "    </tr>\n",
       "    <tr>\n",
       "      <th>2015-12-30</th>\n",
       "      <td>10H30</td>\n",
       "      <td>800-899</td>\n",
       "      <td>SAINT EMANUEL</td>\n",
       "      <td>Theft</td>\n",
       "      <td>NaN</td>\n",
       "      <td>1</td>\n",
       "      <td>2</td>\n",
       "      <td>30</td>\n",
       "      <td>Wednesday</td>\n",
       "      <td>Dec</td>\n",
       "      <td>2015</td>\n",
       "    </tr>\n",
       "    <tr>\n",
       "      <th>2015-12-31</th>\n",
       "      <td>20G50</td>\n",
       "      <td>700-799</td>\n",
       "      <td>SAM HOUSTON</td>\n",
       "      <td>Theft</td>\n",
       "      <td>NaN</td>\n",
       "      <td>1</td>\n",
       "      <td>8</td>\n",
       "      <td>31</td>\n",
       "      <td>Thursday</td>\n",
       "      <td>Dec</td>\n",
       "      <td>2015</td>\n",
       "    </tr>\n",
       "  </tbody>\n",
       "</table>\n",
       "</div>"
      ],
      "text/plain": [
       "             Beat   BlockRange     StreetName OffenseType Premise  \\\n",
       "Date                                                                \n",
       "2015-12-30  19G50    9600-9699      BISSONNET       Theft     NaN   \n",
       "2015-12-30   1A30    3600-3699       SHEPHERD       Theft     NaN   \n",
       "2015-12-30   6B50  11400-11499          NORTH       Theft     NaN   \n",
       "2015-12-30  10H30      800-899  SAINT EMANUEL       Theft     NaN   \n",
       "2015-12-31  20G50      700-799    SAM HOUSTON       Theft     NaN   \n",
       "\n",
       "            NumOffenses  Hour day    weekday month  year  \n",
       "Date                                                      \n",
       "2015-12-30            1    21  30  Wednesday   Dec  2015  \n",
       "2015-12-30            1    23  30  Wednesday   Dec  2015  \n",
       "2015-12-30            1    23  30  Wednesday   Dec  2015  \n",
       "2015-12-30            1     2  30  Wednesday   Dec  2015  \n",
       "2015-12-31            1     8  31   Thursday   Dec  2015  "
      ]
     },
     "execution_count": 85,
     "metadata": {},
     "output_type": "execute_result"
    }
   ],
   "source": [
    "crime_yr[crime_yr.isnull().any(axis=1)].tail()"
   ]
  },
  {
   "cell_type": "markdown",
   "metadata": {},
   "source": [
    "# FIND NANS"
   ]
  },
  {
   "cell_type": "markdown",
   "metadata": {},
   "source": [
    "## INDEX"
   ]
  },
  {
   "cell_type": "code",
   "execution_count": 86,
   "metadata": {},
   "outputs": [
    {
     "data": {
      "text/plain": [
       "0"
      ]
     },
     "execution_count": 86,
     "metadata": {},
     "output_type": "execute_result"
    }
   ],
   "source": [
    "len(crime_yr[crime_yr.index.isnull()])"
   ]
  },
  {
   "cell_type": "code",
   "execution_count": 87,
   "metadata": {},
   "outputs": [
    {
     "data": {
      "text/html": [
       "<div>\n",
       "<style scoped>\n",
       "    .dataframe tbody tr th:only-of-type {\n",
       "        vertical-align: middle;\n",
       "    }\n",
       "\n",
       "    .dataframe tbody tr th {\n",
       "        vertical-align: top;\n",
       "    }\n",
       "\n",
       "    .dataframe thead th {\n",
       "        text-align: right;\n",
       "    }\n",
       "</style>\n",
       "<table border=\"1\" class=\"dataframe\">\n",
       "  <thead>\n",
       "    <tr style=\"text-align: right;\">\n",
       "      <th></th>\n",
       "      <th>Beat</th>\n",
       "      <th>BlockRange</th>\n",
       "      <th>StreetName</th>\n",
       "      <th>OffenseType</th>\n",
       "      <th>Premise</th>\n",
       "      <th>NumOffenses</th>\n",
       "      <th>Hour</th>\n",
       "      <th>day</th>\n",
       "      <th>weekday</th>\n",
       "      <th>month</th>\n",
       "      <th>year</th>\n",
       "    </tr>\n",
       "    <tr>\n",
       "      <th>Date</th>\n",
       "      <th></th>\n",
       "      <th></th>\n",
       "      <th></th>\n",
       "      <th></th>\n",
       "      <th></th>\n",
       "      <th></th>\n",
       "      <th></th>\n",
       "      <th></th>\n",
       "      <th></th>\n",
       "      <th></th>\n",
       "      <th></th>\n",
       "    </tr>\n",
       "  </thead>\n",
       "  <tbody>\n",
       "  </tbody>\n",
       "</table>\n",
       "</div>"
      ],
      "text/plain": [
       "Empty DataFrame\n",
       "Columns: [Beat, BlockRange, StreetName, OffenseType, Premise, NumOffenses, Hour, day, weekday, month, year]\n",
       "Index: []"
      ]
     },
     "execution_count": 87,
     "metadata": {},
     "output_type": "execute_result"
    }
   ],
   "source": [
    "crime_yr[crime_yr.index.isnull()]"
   ]
  },
  {
   "cell_type": "code",
   "execution_count": 88,
   "metadata": {},
   "outputs": [
    {
     "data": {
      "text/plain": [
       "DatetimeIndex(['1915-01-05', '1915-01-14', '1915-04-24', '1915-07-30',\n",
       "               '1915-09-03', '1915-09-29', '1915-12-15', '1915-12-25',\n",
       "               '1916-06-24', '1964-03-23',\n",
       "               ...\n",
       "               '2015-12-31', '2015-12-31', '2015-12-31', '2015-12-31',\n",
       "               '2015-12-31', '2015-12-31', '2015-12-31', '2015-12-31',\n",
       "               '2015-12-31', '2015-12-31'],\n",
       "              dtype='datetime64[ns]', name='Date', length=120009, freq=None)"
      ]
     },
     "execution_count": 88,
     "metadata": {},
     "output_type": "execute_result"
    }
   ],
   "source": [
    "# drop index nans\n",
    "crime_yr.index.dropna(how='any')"
   ]
  },
  {
   "cell_type": "code",
   "execution_count": 89,
   "metadata": {},
   "outputs": [
    {
     "data": {
      "text/plain": [
       "0"
      ]
     },
     "execution_count": 89,
     "metadata": {},
     "output_type": "execute_result"
    }
   ],
   "source": [
    "len(crime_yr[crime_yr.index.isnull()])"
   ]
  },
  {
   "cell_type": "markdown",
   "metadata": {},
   "source": [
    "## Beat"
   ]
  },
  {
   "cell_type": "code",
   "execution_count": 90,
   "metadata": {},
   "outputs": [
    {
     "data": {
      "text/plain": [
       "0"
      ]
     },
     "execution_count": 90,
     "metadata": {},
     "output_type": "execute_result"
    }
   ],
   "source": [
    "len(crime_yr[crime_yr.Beat.isnull()])"
   ]
  },
  {
   "cell_type": "code",
   "execution_count": 91,
   "metadata": {},
   "outputs": [
    {
     "data": {
      "text/html": [
       "<div>\n",
       "<style scoped>\n",
       "    .dataframe tbody tr th:only-of-type {\n",
       "        vertical-align: middle;\n",
       "    }\n",
       "\n",
       "    .dataframe tbody tr th {\n",
       "        vertical-align: top;\n",
       "    }\n",
       "\n",
       "    .dataframe thead th {\n",
       "        text-align: right;\n",
       "    }\n",
       "</style>\n",
       "<table border=\"1\" class=\"dataframe\">\n",
       "  <thead>\n",
       "    <tr style=\"text-align: right;\">\n",
       "      <th></th>\n",
       "      <th>Beat</th>\n",
       "      <th>BlockRange</th>\n",
       "      <th>StreetName</th>\n",
       "      <th>OffenseType</th>\n",
       "      <th>Premise</th>\n",
       "      <th>NumOffenses</th>\n",
       "      <th>Hour</th>\n",
       "      <th>day</th>\n",
       "      <th>weekday</th>\n",
       "      <th>month</th>\n",
       "      <th>year</th>\n",
       "    </tr>\n",
       "    <tr>\n",
       "      <th>Date</th>\n",
       "      <th></th>\n",
       "      <th></th>\n",
       "      <th></th>\n",
       "      <th></th>\n",
       "      <th></th>\n",
       "      <th></th>\n",
       "      <th></th>\n",
       "      <th></th>\n",
       "      <th></th>\n",
       "      <th></th>\n",
       "      <th></th>\n",
       "    </tr>\n",
       "  </thead>\n",
       "  <tbody>\n",
       "  </tbody>\n",
       "</table>\n",
       "</div>"
      ],
      "text/plain": [
       "Empty DataFrame\n",
       "Columns: [Beat, BlockRange, StreetName, OffenseType, Premise, NumOffenses, Hour, day, weekday, month, year]\n",
       "Index: []"
      ]
     },
     "execution_count": 91,
     "metadata": {},
     "output_type": "execute_result"
    }
   ],
   "source": [
    "crime_yr[crime_yr.Beat.isnull()].head()"
   ]
  },
  {
   "cell_type": "code",
   "execution_count": 92,
   "metadata": {},
   "outputs": [],
   "source": [
    "crime_yr.Beat = crime_yr.Beat.replace(np.nan, 'UNK')"
   ]
  },
  {
   "cell_type": "code",
   "execution_count": 93,
   "metadata": {},
   "outputs": [
    {
     "data": {
      "text/plain": [
       "0"
      ]
     },
     "execution_count": 93,
     "metadata": {},
     "output_type": "execute_result"
    }
   ],
   "source": [
    "len(crime_yr[crime_yr.Beat.isnull()])"
   ]
  },
  {
   "cell_type": "code",
   "execution_count": 94,
   "metadata": {},
   "outputs": [
    {
     "data": {
      "text/html": [
       "<div>\n",
       "<style scoped>\n",
       "    .dataframe tbody tr th:only-of-type {\n",
       "        vertical-align: middle;\n",
       "    }\n",
       "\n",
       "    .dataframe tbody tr th {\n",
       "        vertical-align: top;\n",
       "    }\n",
       "\n",
       "    .dataframe thead th {\n",
       "        text-align: right;\n",
       "    }\n",
       "</style>\n",
       "<table border=\"1\" class=\"dataframe\">\n",
       "  <thead>\n",
       "    <tr style=\"text-align: right;\">\n",
       "      <th></th>\n",
       "      <th>Beat</th>\n",
       "      <th>BlockRange</th>\n",
       "      <th>StreetName</th>\n",
       "      <th>OffenseType</th>\n",
       "      <th>Premise</th>\n",
       "      <th>NumOffenses</th>\n",
       "      <th>Hour</th>\n",
       "      <th>day</th>\n",
       "      <th>weekday</th>\n",
       "      <th>month</th>\n",
       "      <th>year</th>\n",
       "    </tr>\n",
       "    <tr>\n",
       "      <th>Date</th>\n",
       "      <th></th>\n",
       "      <th></th>\n",
       "      <th></th>\n",
       "      <th></th>\n",
       "      <th></th>\n",
       "      <th></th>\n",
       "      <th></th>\n",
       "      <th></th>\n",
       "      <th></th>\n",
       "      <th></th>\n",
       "      <th></th>\n",
       "    </tr>\n",
       "  </thead>\n",
       "  <tbody>\n",
       "  </tbody>\n",
       "</table>\n",
       "</div>"
      ],
      "text/plain": [
       "Empty DataFrame\n",
       "Columns: [Beat, BlockRange, StreetName, OffenseType, Premise, NumOffenses, Hour, day, weekday, month, year]\n",
       "Index: []"
      ]
     },
     "execution_count": 94,
     "metadata": {},
     "output_type": "execute_result"
    }
   ],
   "source": [
    "crime_yr[crime_yr.Beat.isnull()]"
   ]
  },
  {
   "cell_type": "markdown",
   "metadata": {},
   "source": [
    "## BlockRAnge"
   ]
  },
  {
   "cell_type": "code",
   "execution_count": 95,
   "metadata": {},
   "outputs": [
    {
     "data": {
      "text/plain": [
       "0"
      ]
     },
     "execution_count": 95,
     "metadata": {},
     "output_type": "execute_result"
    }
   ],
   "source": [
    "len(crime_yr[crime_yr.BlockRange.isnull()])"
   ]
  },
  {
   "cell_type": "code",
   "execution_count": 96,
   "metadata": {},
   "outputs": [
    {
     "data": {
      "text/html": [
       "<div>\n",
       "<style scoped>\n",
       "    .dataframe tbody tr th:only-of-type {\n",
       "        vertical-align: middle;\n",
       "    }\n",
       "\n",
       "    .dataframe tbody tr th {\n",
       "        vertical-align: top;\n",
       "    }\n",
       "\n",
       "    .dataframe thead th {\n",
       "        text-align: right;\n",
       "    }\n",
       "</style>\n",
       "<table border=\"1\" class=\"dataframe\">\n",
       "  <thead>\n",
       "    <tr style=\"text-align: right;\">\n",
       "      <th></th>\n",
       "      <th>Beat</th>\n",
       "      <th>BlockRange</th>\n",
       "      <th>StreetName</th>\n",
       "      <th>OffenseType</th>\n",
       "      <th>Premise</th>\n",
       "      <th>NumOffenses</th>\n",
       "      <th>Hour</th>\n",
       "      <th>day</th>\n",
       "      <th>weekday</th>\n",
       "      <th>month</th>\n",
       "      <th>year</th>\n",
       "    </tr>\n",
       "    <tr>\n",
       "      <th>Date</th>\n",
       "      <th></th>\n",
       "      <th></th>\n",
       "      <th></th>\n",
       "      <th></th>\n",
       "      <th></th>\n",
       "      <th></th>\n",
       "      <th></th>\n",
       "      <th></th>\n",
       "      <th></th>\n",
       "      <th></th>\n",
       "      <th></th>\n",
       "    </tr>\n",
       "  </thead>\n",
       "  <tbody>\n",
       "  </tbody>\n",
       "</table>\n",
       "</div>"
      ],
      "text/plain": [
       "Empty DataFrame\n",
       "Columns: [Beat, BlockRange, StreetName, OffenseType, Premise, NumOffenses, Hour, day, weekday, month, year]\n",
       "Index: []"
      ]
     },
     "execution_count": 96,
     "metadata": {},
     "output_type": "execute_result"
    }
   ],
   "source": [
    "crime_yr[crime_yr.BlockRange.isnull()].head()"
   ]
  },
  {
   "cell_type": "markdown",
   "metadata": {},
   "source": [
    "## StreetName"
   ]
  },
  {
   "cell_type": "code",
   "execution_count": 97,
   "metadata": {},
   "outputs": [
    {
     "data": {
      "text/plain": [
       "28"
      ]
     },
     "execution_count": 97,
     "metadata": {},
     "output_type": "execute_result"
    }
   ],
   "source": [
    "len(crime_yr[crime_yr.StreetName.isnull()])"
   ]
  },
  {
   "cell_type": "code",
   "execution_count": 98,
   "metadata": {},
   "outputs": [
    {
     "data": {
      "text/html": [
       "<div>\n",
       "<style scoped>\n",
       "    .dataframe tbody tr th:only-of-type {\n",
       "        vertical-align: middle;\n",
       "    }\n",
       "\n",
       "    .dataframe tbody tr th {\n",
       "        vertical-align: top;\n",
       "    }\n",
       "\n",
       "    .dataframe thead th {\n",
       "        text-align: right;\n",
       "    }\n",
       "</style>\n",
       "<table border=\"1\" class=\"dataframe\">\n",
       "  <thead>\n",
       "    <tr style=\"text-align: right;\">\n",
       "      <th></th>\n",
       "      <th>Beat</th>\n",
       "      <th>BlockRange</th>\n",
       "      <th>StreetName</th>\n",
       "      <th>OffenseType</th>\n",
       "      <th>Premise</th>\n",
       "      <th>NumOffenses</th>\n",
       "      <th>Hour</th>\n",
       "      <th>day</th>\n",
       "      <th>weekday</th>\n",
       "      <th>month</th>\n",
       "      <th>year</th>\n",
       "    </tr>\n",
       "    <tr>\n",
       "      <th>Date</th>\n",
       "      <th></th>\n",
       "      <th></th>\n",
       "      <th></th>\n",
       "      <th></th>\n",
       "      <th></th>\n",
       "      <th></th>\n",
       "      <th></th>\n",
       "      <th></th>\n",
       "      <th></th>\n",
       "      <th></th>\n",
       "      <th></th>\n",
       "    </tr>\n",
       "  </thead>\n",
       "  <tbody>\n",
       "    <tr>\n",
       "      <th>2014-12-27</th>\n",
       "      <td>21I10</td>\n",
       "      <td>UNK</td>\n",
       "      <td>NaN</td>\n",
       "      <td>Theft</td>\n",
       "      <td>Airport Terminal</td>\n",
       "      <td>1</td>\n",
       "      <td>9</td>\n",
       "      <td>27</td>\n",
       "      <td>Saturday</td>\n",
       "      <td>Dec</td>\n",
       "      <td>2014</td>\n",
       "    </tr>\n",
       "    <tr>\n",
       "      <th>2015-01-03</th>\n",
       "      <td>13D40</td>\n",
       "      <td>UNK</td>\n",
       "      <td>NaN</td>\n",
       "      <td>Burglary</td>\n",
       "      <td>Residence or House</td>\n",
       "      <td>1</td>\n",
       "      <td>20</td>\n",
       "      <td>03</td>\n",
       "      <td>Saturday</td>\n",
       "      <td>Jan</td>\n",
       "      <td>2015</td>\n",
       "    </tr>\n",
       "    <tr>\n",
       "      <th>2015-01-05</th>\n",
       "      <td>2A30</td>\n",
       "      <td>UNK</td>\n",
       "      <td>NaN</td>\n",
       "      <td>Theft</td>\n",
       "      <td>Driveway</td>\n",
       "      <td>1</td>\n",
       "      <td>15</td>\n",
       "      <td>05</td>\n",
       "      <td>Monday</td>\n",
       "      <td>Jan</td>\n",
       "      <td>2015</td>\n",
       "    </tr>\n",
       "    <tr>\n",
       "      <th>2015-04-04</th>\n",
       "      <td>2A30</td>\n",
       "      <td>UNK</td>\n",
       "      <td>NaN</td>\n",
       "      <td>Theft</td>\n",
       "      <td>Road, Street, or Sidewalk</td>\n",
       "      <td>1</td>\n",
       "      <td>0</td>\n",
       "      <td>04</td>\n",
       "      <td>Saturday</td>\n",
       "      <td>Apr</td>\n",
       "      <td>2015</td>\n",
       "    </tr>\n",
       "    <tr>\n",
       "      <th>2015-04-05</th>\n",
       "      <td>2A30</td>\n",
       "      <td>UNK</td>\n",
       "      <td>NaN</td>\n",
       "      <td>Theft</td>\n",
       "      <td>Road, Street, or Sidewalk</td>\n",
       "      <td>1</td>\n",
       "      <td>7</td>\n",
       "      <td>05</td>\n",
       "      <td>Sunday</td>\n",
       "      <td>Apr</td>\n",
       "      <td>2015</td>\n",
       "    </tr>\n",
       "  </tbody>\n",
       "</table>\n",
       "</div>"
      ],
      "text/plain": [
       "             Beat BlockRange StreetName OffenseType  \\\n",
       "Date                                                  \n",
       "2014-12-27  21I10        UNK        NaN       Theft   \n",
       "2015-01-03  13D40        UNK        NaN    Burglary   \n",
       "2015-01-05   2A30        UNK        NaN       Theft   \n",
       "2015-04-04   2A30        UNK        NaN       Theft   \n",
       "2015-04-05   2A30        UNK        NaN       Theft   \n",
       "\n",
       "                              Premise  NumOffenses  Hour day   weekday month  \\\n",
       "Date                                                                           \n",
       "2014-12-27           Airport Terminal            1     9  27  Saturday   Dec   \n",
       "2015-01-03         Residence or House            1    20  03  Saturday   Jan   \n",
       "2015-01-05                   Driveway            1    15  05    Monday   Jan   \n",
       "2015-04-04  Road, Street, or Sidewalk            1     0  04  Saturday   Apr   \n",
       "2015-04-05  Road, Street, or Sidewalk            1     7  05    Sunday   Apr   \n",
       "\n",
       "            year  \n",
       "Date              \n",
       "2014-12-27  2014  \n",
       "2015-01-03  2015  \n",
       "2015-01-05  2015  \n",
       "2015-04-04  2015  \n",
       "2015-04-05  2015  "
      ]
     },
     "execution_count": 98,
     "metadata": {},
     "output_type": "execute_result"
    }
   ],
   "source": [
    "crime_yr[crime_yr.StreetName.isnull()].head()"
   ]
  },
  {
   "cell_type": "code",
   "execution_count": 99,
   "metadata": {},
   "outputs": [],
   "source": [
    "crime_yr.StreetName = crime_yr.StreetName.replace(np.nan, 'UNK')"
   ]
  },
  {
   "cell_type": "code",
   "execution_count": 100,
   "metadata": {},
   "outputs": [
    {
     "data": {
      "text/plain": [
       "0"
      ]
     },
     "execution_count": 100,
     "metadata": {},
     "output_type": "execute_result"
    }
   ],
   "source": [
    "len(crime_yr[crime_yr.StreetName.isnull()])"
   ]
  },
  {
   "cell_type": "markdown",
   "metadata": {},
   "source": [
    "## OffenseType"
   ]
  },
  {
   "cell_type": "code",
   "execution_count": 101,
   "metadata": {},
   "outputs": [
    {
     "data": {
      "text/plain": [
       "8"
      ]
     },
     "execution_count": 101,
     "metadata": {},
     "output_type": "execute_result"
    }
   ],
   "source": [
    "len(crime_yr[crime_yr.OffenseType.isnull()])"
   ]
  },
  {
   "cell_type": "code",
   "execution_count": 102,
   "metadata": {},
   "outputs": [
    {
     "data": {
      "text/html": [
       "<div>\n",
       "<style scoped>\n",
       "    .dataframe tbody tr th:only-of-type {\n",
       "        vertical-align: middle;\n",
       "    }\n",
       "\n",
       "    .dataframe tbody tr th {\n",
       "        vertical-align: top;\n",
       "    }\n",
       "\n",
       "    .dataframe thead th {\n",
       "        text-align: right;\n",
       "    }\n",
       "</style>\n",
       "<table border=\"1\" class=\"dataframe\">\n",
       "  <thead>\n",
       "    <tr style=\"text-align: right;\">\n",
       "      <th></th>\n",
       "      <th>Beat</th>\n",
       "      <th>BlockRange</th>\n",
       "      <th>StreetName</th>\n",
       "      <th>OffenseType</th>\n",
       "      <th>Premise</th>\n",
       "      <th>NumOffenses</th>\n",
       "      <th>Hour</th>\n",
       "      <th>day</th>\n",
       "      <th>weekday</th>\n",
       "      <th>month</th>\n",
       "      <th>year</th>\n",
       "    </tr>\n",
       "    <tr>\n",
       "      <th>Date</th>\n",
       "      <th></th>\n",
       "      <th></th>\n",
       "      <th></th>\n",
       "      <th></th>\n",
       "      <th></th>\n",
       "      <th></th>\n",
       "      <th></th>\n",
       "      <th></th>\n",
       "      <th></th>\n",
       "      <th></th>\n",
       "      <th></th>\n",
       "    </tr>\n",
       "  </thead>\n",
       "  <tbody>\n",
       "    <tr>\n",
       "      <th>2013-08-31</th>\n",
       "      <td>8C50</td>\n",
       "      <td>9200-9299</td>\n",
       "      <td>NYSSA</td>\n",
       "      <td>NaN</td>\n",
       "      <td>NaN</td>\n",
       "      <td>1</td>\n",
       "      <td>0</td>\n",
       "      <td>31</td>\n",
       "      <td>Saturday</td>\n",
       "      <td>Aug</td>\n",
       "      <td>2013</td>\n",
       "    </tr>\n",
       "    <tr>\n",
       "      <th>2013-09-27</th>\n",
       "      <td>UNK</td>\n",
       "      <td>1500-1599</td>\n",
       "      <td>BAILEY ST 424</td>\n",
       "      <td>NaN</td>\n",
       "      <td>Apartment</td>\n",
       "      <td>1</td>\n",
       "      <td>6</td>\n",
       "      <td>27</td>\n",
       "      <td>Friday</td>\n",
       "      <td>Sep</td>\n",
       "      <td>2013</td>\n",
       "    </tr>\n",
       "    <tr>\n",
       "      <th>2015-01-01</th>\n",
       "      <td>12D10</td>\n",
       "      <td>800-899</td>\n",
       "      <td>EASTLAKE</td>\n",
       "      <td>NaN</td>\n",
       "      <td>NaN</td>\n",
       "      <td>1</td>\n",
       "      <td>0</td>\n",
       "      <td>01</td>\n",
       "      <td>Thursday</td>\n",
       "      <td>Jan</td>\n",
       "      <td>2015</td>\n",
       "    </tr>\n",
       "    <tr>\n",
       "      <th>2015-03-19</th>\n",
       "      <td>4F10</td>\n",
       "      <td>9300-9399</td>\n",
       "      <td>LONG POINT</td>\n",
       "      <td>NaN</td>\n",
       "      <td>Apartment</td>\n",
       "      <td>1</td>\n",
       "      <td>21</td>\n",
       "      <td>19</td>\n",
       "      <td>Thursday</td>\n",
       "      <td>Mar</td>\n",
       "      <td>2015</td>\n",
       "    </tr>\n",
       "    <tr>\n",
       "      <th>2015-04-05</th>\n",
       "      <td>10H20</td>\n",
       "      <td>4900-4999</td>\n",
       "      <td>MCKINNEY</td>\n",
       "      <td>NaN</td>\n",
       "      <td>Road, Street, or Sidewalk</td>\n",
       "      <td>1</td>\n",
       "      <td>20</td>\n",
       "      <td>05</td>\n",
       "      <td>Sunday</td>\n",
       "      <td>Apr</td>\n",
       "      <td>2015</td>\n",
       "    </tr>\n",
       "    <tr>\n",
       "      <th>2015-04-10</th>\n",
       "      <td>17E40</td>\n",
       "      <td>11200-11299</td>\n",
       "      <td>FONDREN</td>\n",
       "      <td>NaN</td>\n",
       "      <td>Service or Gas Station</td>\n",
       "      <td>1</td>\n",
       "      <td>18</td>\n",
       "      <td>10</td>\n",
       "      <td>Friday</td>\n",
       "      <td>Apr</td>\n",
       "      <td>2015</td>\n",
       "    </tr>\n",
       "    <tr>\n",
       "      <th>2015-07-30</th>\n",
       "      <td>13D40</td>\n",
       "      <td>8400-8499</td>\n",
       "      <td>TAVENOR</td>\n",
       "      <td>NaN</td>\n",
       "      <td>Residence or House</td>\n",
       "      <td>1</td>\n",
       "      <td>16</td>\n",
       "      <td>30</td>\n",
       "      <td>Thursday</td>\n",
       "      <td>Jul</td>\n",
       "      <td>2015</td>\n",
       "    </tr>\n",
       "    <tr>\n",
       "      <th>2015-12-04</th>\n",
       "      <td>17E40</td>\n",
       "      <td>7800-7899</td>\n",
       "      <td>AIRPORT</td>\n",
       "      <td>NaN</td>\n",
       "      <td>Apartment</td>\n",
       "      <td>1</td>\n",
       "      <td>13</td>\n",
       "      <td>04</td>\n",
       "      <td>Friday</td>\n",
       "      <td>Dec</td>\n",
       "      <td>2015</td>\n",
       "    </tr>\n",
       "  </tbody>\n",
       "</table>\n",
       "</div>"
      ],
      "text/plain": [
       "             Beat   BlockRange     StreetName OffenseType  \\\n",
       "Date                                                        \n",
       "2013-08-31   8C50    9200-9299          NYSSA         NaN   \n",
       "2013-09-27    UNK    1500-1599  BAILEY ST 424         NaN   \n",
       "2015-01-01  12D10      800-899       EASTLAKE         NaN   \n",
       "2015-03-19   4F10    9300-9399     LONG POINT         NaN   \n",
       "2015-04-05  10H20    4900-4999       MCKINNEY         NaN   \n",
       "2015-04-10  17E40  11200-11299        FONDREN         NaN   \n",
       "2015-07-30  13D40    8400-8499        TAVENOR         NaN   \n",
       "2015-12-04  17E40    7800-7899        AIRPORT         NaN   \n",
       "\n",
       "                              Premise  NumOffenses  Hour day   weekday month  \\\n",
       "Date                                                                           \n",
       "2013-08-31                        NaN            1     0  31  Saturday   Aug   \n",
       "2013-09-27                  Apartment            1     6  27    Friday   Sep   \n",
       "2015-01-01                        NaN            1     0  01  Thursday   Jan   \n",
       "2015-03-19                  Apartment            1    21  19  Thursday   Mar   \n",
       "2015-04-05  Road, Street, or Sidewalk            1    20  05    Sunday   Apr   \n",
       "2015-04-10     Service or Gas Station            1    18  10    Friday   Apr   \n",
       "2015-07-30         Residence or House            1    16  30  Thursday   Jul   \n",
       "2015-12-04                  Apartment            1    13  04    Friday   Dec   \n",
       "\n",
       "            year  \n",
       "Date              \n",
       "2013-08-31  2013  \n",
       "2013-09-27  2013  \n",
       "2015-01-01  2015  \n",
       "2015-03-19  2015  \n",
       "2015-04-05  2015  \n",
       "2015-04-10  2015  \n",
       "2015-07-30  2015  \n",
       "2015-12-04  2015  "
      ]
     },
     "execution_count": 102,
     "metadata": {},
     "output_type": "execute_result"
    }
   ],
   "source": [
    "crime_yr[crime_yr.OffenseType.isnull()]"
   ]
  },
  {
   "cell_type": "code",
   "execution_count": 103,
   "metadata": {},
   "outputs": [],
   "source": [
    "crime_yr.OffenseType = crime_yr.OffenseType.replace(np.nan, 'UNK')"
   ]
  },
  {
   "cell_type": "code",
   "execution_count": 104,
   "metadata": {},
   "outputs": [
    {
     "data": {
      "text/plain": [
       "0"
      ]
     },
     "execution_count": 104,
     "metadata": {},
     "output_type": "execute_result"
    }
   ],
   "source": [
    "len(crime_yr[crime_yr.OffenseType.isnull()])"
   ]
  },
  {
   "cell_type": "markdown",
   "metadata": {},
   "source": [
    "## Hour"
   ]
  },
  {
   "cell_type": "code",
   "execution_count": 105,
   "metadata": {},
   "outputs": [
    {
     "data": {
      "text/plain": [
       "0"
      ]
     },
     "execution_count": 105,
     "metadata": {},
     "output_type": "execute_result"
    }
   ],
   "source": [
    "len(crime_yr[crime_yr.Hour.isnull()])"
   ]
  },
  {
   "cell_type": "code",
   "execution_count": 106,
   "metadata": {},
   "outputs": [
    {
     "data": {
      "text/html": [
       "<div>\n",
       "<style scoped>\n",
       "    .dataframe tbody tr th:only-of-type {\n",
       "        vertical-align: middle;\n",
       "    }\n",
       "\n",
       "    .dataframe tbody tr th {\n",
       "        vertical-align: top;\n",
       "    }\n",
       "\n",
       "    .dataframe thead th {\n",
       "        text-align: right;\n",
       "    }\n",
       "</style>\n",
       "<table border=\"1\" class=\"dataframe\">\n",
       "  <thead>\n",
       "    <tr style=\"text-align: right;\">\n",
       "      <th></th>\n",
       "      <th>Beat</th>\n",
       "      <th>BlockRange</th>\n",
       "      <th>StreetName</th>\n",
       "      <th>OffenseType</th>\n",
       "      <th>Premise</th>\n",
       "      <th>NumOffenses</th>\n",
       "      <th>Hour</th>\n",
       "      <th>day</th>\n",
       "      <th>weekday</th>\n",
       "      <th>month</th>\n",
       "      <th>year</th>\n",
       "    </tr>\n",
       "    <tr>\n",
       "      <th>Date</th>\n",
       "      <th></th>\n",
       "      <th></th>\n",
       "      <th></th>\n",
       "      <th></th>\n",
       "      <th></th>\n",
       "      <th></th>\n",
       "      <th></th>\n",
       "      <th></th>\n",
       "      <th></th>\n",
       "      <th></th>\n",
       "      <th></th>\n",
       "    </tr>\n",
       "  </thead>\n",
       "  <tbody>\n",
       "  </tbody>\n",
       "</table>\n",
       "</div>"
      ],
      "text/plain": [
       "Empty DataFrame\n",
       "Columns: [Beat, BlockRange, StreetName, OffenseType, Premise, NumOffenses, Hour, day, weekday, month, year]\n",
       "Index: []"
      ]
     },
     "execution_count": 106,
     "metadata": {},
     "output_type": "execute_result"
    }
   ],
   "source": [
    "crime_yr[crime_yr.Hour.isnull()].head()"
   ]
  },
  {
   "cell_type": "markdown",
   "metadata": {},
   "source": [
    "## Premsie "
   ]
  },
  {
   "cell_type": "code",
   "execution_count": 107,
   "metadata": {},
   "outputs": [
    {
     "data": {
      "text/plain": [
       "2128"
      ]
     },
     "execution_count": 107,
     "metadata": {},
     "output_type": "execute_result"
    }
   ],
   "source": [
    "len(crime_yr[crime_yr['Premise'].isnull()])"
   ]
  },
  {
   "cell_type": "code",
   "execution_count": 108,
   "metadata": {},
   "outputs": [
    {
     "data": {
      "text/html": [
       "<div>\n",
       "<style scoped>\n",
       "    .dataframe tbody tr th:only-of-type {\n",
       "        vertical-align: middle;\n",
       "    }\n",
       "\n",
       "    .dataframe tbody tr th {\n",
       "        vertical-align: top;\n",
       "    }\n",
       "\n",
       "    .dataframe thead th {\n",
       "        text-align: right;\n",
       "    }\n",
       "</style>\n",
       "<table border=\"1\" class=\"dataframe\">\n",
       "  <thead>\n",
       "    <tr style=\"text-align: right;\">\n",
       "      <th></th>\n",
       "      <th>Beat</th>\n",
       "      <th>BlockRange</th>\n",
       "      <th>StreetName</th>\n",
       "      <th>OffenseType</th>\n",
       "      <th>Premise</th>\n",
       "      <th>NumOffenses</th>\n",
       "      <th>Hour</th>\n",
       "      <th>day</th>\n",
       "      <th>weekday</th>\n",
       "      <th>month</th>\n",
       "      <th>year</th>\n",
       "    </tr>\n",
       "    <tr>\n",
       "      <th>Date</th>\n",
       "      <th></th>\n",
       "      <th></th>\n",
       "      <th></th>\n",
       "      <th></th>\n",
       "      <th></th>\n",
       "      <th></th>\n",
       "      <th></th>\n",
       "      <th></th>\n",
       "      <th></th>\n",
       "      <th></th>\n",
       "      <th></th>\n",
       "    </tr>\n",
       "  </thead>\n",
       "  <tbody>\n",
       "    <tr>\n",
       "      <th>1991-05-23</th>\n",
       "      <td>17E10</td>\n",
       "      <td>6700-6799</td>\n",
       "      <td>HORNWOOD</td>\n",
       "      <td>Rape</td>\n",
       "      <td>NaN</td>\n",
       "      <td>1</td>\n",
       "      <td>21</td>\n",
       "      <td>23</td>\n",
       "      <td>Thursday</td>\n",
       "      <td>May</td>\n",
       "      <td>1991</td>\n",
       "    </tr>\n",
       "    <tr>\n",
       "      <th>1993-04-01</th>\n",
       "      <td>5F20</td>\n",
       "      <td>3900-3999</td>\n",
       "      <td>HOLLISTER</td>\n",
       "      <td>Rape</td>\n",
       "      <td>NaN</td>\n",
       "      <td>1</td>\n",
       "      <td>13</td>\n",
       "      <td>01</td>\n",
       "      <td>Thursday</td>\n",
       "      <td>Apr</td>\n",
       "      <td>1993</td>\n",
       "    </tr>\n",
       "    <tr>\n",
       "      <th>1998-01-01</th>\n",
       "      <td>17E10</td>\n",
       "      <td>6100-6199</td>\n",
       "      <td>GLENMONT</td>\n",
       "      <td>Rape</td>\n",
       "      <td>NaN</td>\n",
       "      <td>1</td>\n",
       "      <td>23</td>\n",
       "      <td>01</td>\n",
       "      <td>Thursday</td>\n",
       "      <td>Jan</td>\n",
       "      <td>1998</td>\n",
       "    </tr>\n",
       "    <tr>\n",
       "      <th>1999-01-01</th>\n",
       "      <td>UNK</td>\n",
       "      <td>8400-8499</td>\n",
       "      <td>STONE</td>\n",
       "      <td>Rape</td>\n",
       "      <td>NaN</td>\n",
       "      <td>1</td>\n",
       "      <td>14</td>\n",
       "      <td>01</td>\n",
       "      <td>Friday</td>\n",
       "      <td>Jan</td>\n",
       "      <td>1999</td>\n",
       "    </tr>\n",
       "    <tr>\n",
       "      <th>2000-05-01</th>\n",
       "      <td>18F20</td>\n",
       "      <td>5000-5099</td>\n",
       "      <td>WESTHEIMER</td>\n",
       "      <td>Theft</td>\n",
       "      <td>NaN</td>\n",
       "      <td>1</td>\n",
       "      <td>11</td>\n",
       "      <td>01</td>\n",
       "      <td>Monday</td>\n",
       "      <td>May</td>\n",
       "      <td>2000</td>\n",
       "    </tr>\n",
       "  </tbody>\n",
       "</table>\n",
       "</div>"
      ],
      "text/plain": [
       "             Beat BlockRange  StreetName OffenseType Premise  NumOffenses  \\\n",
       "Date                                                                        \n",
       "1991-05-23  17E10  6700-6799    HORNWOOD        Rape     NaN            1   \n",
       "1993-04-01   5F20  3900-3999   HOLLISTER        Rape     NaN            1   \n",
       "1998-01-01  17E10  6100-6199    GLENMONT        Rape     NaN            1   \n",
       "1999-01-01    UNK  8400-8499       STONE        Rape     NaN            1   \n",
       "2000-05-01  18F20  5000-5099  WESTHEIMER       Theft     NaN            1   \n",
       "\n",
       "            Hour day   weekday month  year  \n",
       "Date                                        \n",
       "1991-05-23    21  23  Thursday   May  1991  \n",
       "1993-04-01    13  01  Thursday   Apr  1993  \n",
       "1998-01-01    23  01  Thursday   Jan  1998  \n",
       "1999-01-01    14  01    Friday   Jan  1999  \n",
       "2000-05-01    11  01    Monday   May  2000  "
      ]
     },
     "execution_count": 108,
     "metadata": {},
     "output_type": "execute_result"
    }
   ],
   "source": [
    "crime_yr[crime_yr['Premise'].isnull()].head()"
   ]
  },
  {
   "cell_type": "code",
   "execution_count": 109,
   "metadata": {},
   "outputs": [],
   "source": [
    "crime_yr['Premise'] = crime_yr['Premise'].replace(np.nan, 'No label')"
   ]
  },
  {
   "cell_type": "code",
   "execution_count": 110,
   "metadata": {},
   "outputs": [
    {
     "data": {
      "text/plain": [
       "0"
      ]
     },
     "execution_count": 110,
     "metadata": {},
     "output_type": "execute_result"
    }
   ],
   "source": [
    "len(crime_yr[crime_yr['Premise'].isnull()])"
   ]
  },
  {
   "cell_type": "code",
   "execution_count": 111,
   "metadata": {},
   "outputs": [
    {
     "data": {
      "text/html": [
       "<div>\n",
       "<style scoped>\n",
       "    .dataframe tbody tr th:only-of-type {\n",
       "        vertical-align: middle;\n",
       "    }\n",
       "\n",
       "    .dataframe tbody tr th {\n",
       "        vertical-align: top;\n",
       "    }\n",
       "\n",
       "    .dataframe thead th {\n",
       "        text-align: right;\n",
       "    }\n",
       "</style>\n",
       "<table border=\"1\" class=\"dataframe\">\n",
       "  <thead>\n",
       "    <tr style=\"text-align: right;\">\n",
       "      <th></th>\n",
       "      <th>Beat</th>\n",
       "      <th>BlockRange</th>\n",
       "      <th>StreetName</th>\n",
       "      <th>OffenseType</th>\n",
       "      <th>Premise</th>\n",
       "      <th>NumOffenses</th>\n",
       "      <th>Hour</th>\n",
       "      <th>day</th>\n",
       "      <th>weekday</th>\n",
       "      <th>month</th>\n",
       "      <th>year</th>\n",
       "    </tr>\n",
       "    <tr>\n",
       "      <th>Date</th>\n",
       "      <th></th>\n",
       "      <th></th>\n",
       "      <th></th>\n",
       "      <th></th>\n",
       "      <th></th>\n",
       "      <th></th>\n",
       "      <th></th>\n",
       "      <th></th>\n",
       "      <th></th>\n",
       "      <th></th>\n",
       "      <th></th>\n",
       "    </tr>\n",
       "  </thead>\n",
       "  <tbody>\n",
       "  </tbody>\n",
       "</table>\n",
       "</div>"
      ],
      "text/plain": [
       "Empty DataFrame\n",
       "Columns: [Beat, BlockRange, StreetName, OffenseType, Premise, NumOffenses, Hour, day, weekday, month, year]\n",
       "Index: []"
      ]
     },
     "execution_count": 111,
     "metadata": {},
     "output_type": "execute_result"
    }
   ],
   "source": [
    "crime_yr[crime_yr['Premise'].isnull()]"
   ]
  },
  {
   "cell_type": "code",
   "execution_count": 112,
   "metadata": {},
   "outputs": [
    {
     "data": {
      "text/plain": [
       "0"
      ]
     },
     "execution_count": 112,
     "metadata": {},
     "output_type": "execute_result"
    }
   ],
   "source": [
    "# display any null\n",
    "\n",
    "len(crime_yr[crime_yr.isnull().any(axis=1)])"
   ]
  },
  {
   "cell_type": "code",
   "execution_count": 113,
   "metadata": {},
   "outputs": [
    {
     "data": {
      "text/html": [
       "<div>\n",
       "<style scoped>\n",
       "    .dataframe tbody tr th:only-of-type {\n",
       "        vertical-align: middle;\n",
       "    }\n",
       "\n",
       "    .dataframe tbody tr th {\n",
       "        vertical-align: top;\n",
       "    }\n",
       "\n",
       "    .dataframe thead th {\n",
       "        text-align: right;\n",
       "    }\n",
       "</style>\n",
       "<table border=\"1\" class=\"dataframe\">\n",
       "  <thead>\n",
       "    <tr style=\"text-align: right;\">\n",
       "      <th></th>\n",
       "      <th>Beat</th>\n",
       "      <th>BlockRange</th>\n",
       "      <th>StreetName</th>\n",
       "      <th>OffenseType</th>\n",
       "      <th>Premise</th>\n",
       "      <th>NumOffenses</th>\n",
       "      <th>Hour</th>\n",
       "      <th>day</th>\n",
       "      <th>weekday</th>\n",
       "      <th>month</th>\n",
       "      <th>year</th>\n",
       "    </tr>\n",
       "    <tr>\n",
       "      <th>Date</th>\n",
       "      <th></th>\n",
       "      <th></th>\n",
       "      <th></th>\n",
       "      <th></th>\n",
       "      <th></th>\n",
       "      <th></th>\n",
       "      <th></th>\n",
       "      <th></th>\n",
       "      <th></th>\n",
       "      <th></th>\n",
       "      <th></th>\n",
       "    </tr>\n",
       "  </thead>\n",
       "  <tbody>\n",
       "  </tbody>\n",
       "</table>\n",
       "</div>"
      ],
      "text/plain": [
       "Empty DataFrame\n",
       "Columns: [Beat, BlockRange, StreetName, OffenseType, Premise, NumOffenses, Hour, day, weekday, month, year]\n",
       "Index: []"
      ]
     },
     "execution_count": 113,
     "metadata": {},
     "output_type": "execute_result"
    }
   ],
   "source": [
    "crime_yr[crime_yr.isnull().any(axis=1)]"
   ]
  },
  {
   "cell_type": "markdown",
   "metadata": {},
   "source": [
    "## Save"
   ]
  },
  {
   "cell_type": "code",
   "execution_count": null,
   "metadata": {},
   "outputs": [],
   "source": []
  },
  {
   "cell_type": "code",
   "execution_count": 115,
   "metadata": {},
   "outputs": [
    {
     "name": "stdout",
     "output_type": "stream",
     "text": [
      "<class 'pandas.core.frame.DataFrame'>\n",
      "DatetimeIndex: 120009 entries, 1915-01-05 to 2015-12-31\n",
      "Data columns (total 11 columns):\n",
      "Beat           120009 non-null object\n",
      "BlockRange     120009 non-null object\n",
      "StreetName     120009 non-null object\n",
      "OffenseType    120009 non-null object\n",
      "Premise        120009 non-null object\n",
      "NumOffenses    120009 non-null int64\n",
      "Hour           120009 non-null int64\n",
      "day            120009 non-null object\n",
      "weekday        120009 non-null object\n",
      "month          120009 non-null object\n",
      "year           120009 non-null object\n",
      "dtypes: int64(2), object(9)\n",
      "memory usage: 13.5+ MB\n"
     ]
    }
   ],
   "source": [
    "crime_yr.info()"
   ]
  },
  {
   "cell_type": "code",
   "execution_count": 114,
   "metadata": {},
   "outputs": [
    {
     "data": {
      "text/html": [
       "<div>\n",
       "<style scoped>\n",
       "    .dataframe tbody tr th:only-of-type {\n",
       "        vertical-align: middle;\n",
       "    }\n",
       "\n",
       "    .dataframe tbody tr th {\n",
       "        vertical-align: top;\n",
       "    }\n",
       "\n",
       "    .dataframe thead th {\n",
       "        text-align: right;\n",
       "    }\n",
       "</style>\n",
       "<table border=\"1\" class=\"dataframe\">\n",
       "  <thead>\n",
       "    <tr style=\"text-align: right;\">\n",
       "      <th></th>\n",
       "      <th>Beat</th>\n",
       "      <th>BlockRange</th>\n",
       "      <th>StreetName</th>\n",
       "      <th>OffenseType</th>\n",
       "      <th>Premise</th>\n",
       "      <th>NumOffenses</th>\n",
       "      <th>Hour</th>\n",
       "      <th>day</th>\n",
       "      <th>weekday</th>\n",
       "      <th>month</th>\n",
       "      <th>year</th>\n",
       "    </tr>\n",
       "    <tr>\n",
       "      <th>Date</th>\n",
       "      <th></th>\n",
       "      <th></th>\n",
       "      <th></th>\n",
       "      <th></th>\n",
       "      <th></th>\n",
       "      <th></th>\n",
       "      <th></th>\n",
       "      <th></th>\n",
       "      <th></th>\n",
       "      <th></th>\n",
       "      <th></th>\n",
       "    </tr>\n",
       "  </thead>\n",
       "  <tbody>\n",
       "    <tr>\n",
       "      <th>1915-01-05</th>\n",
       "      <td>3B10</td>\n",
       "      <td>3200-3299</td>\n",
       "      <td>MANGUM RD 180</td>\n",
       "      <td>Theft</td>\n",
       "      <td>Other Parking Lot</td>\n",
       "      <td>1</td>\n",
       "      <td>22</td>\n",
       "      <td>05</td>\n",
       "      <td>Tuesday</td>\n",
       "      <td>Jan</td>\n",
       "      <td>1915</td>\n",
       "    </tr>\n",
       "    <tr>\n",
       "      <th>1915-01-14</th>\n",
       "      <td>5F10</td>\n",
       "      <td>7000-7099</td>\n",
       "      <td>WESTVIEW</td>\n",
       "      <td>Auto Theft</td>\n",
       "      <td>Apartment Parking Lot</td>\n",
       "      <td>1</td>\n",
       "      <td>23</td>\n",
       "      <td>14</td>\n",
       "      <td>Thursday</td>\n",
       "      <td>Jan</td>\n",
       "      <td>1915</td>\n",
       "    </tr>\n",
       "    <tr>\n",
       "      <th>1915-04-24</th>\n",
       "      <td>1A20</td>\n",
       "      <td>3100-3199</td>\n",
       "      <td>SMITH</td>\n",
       "      <td>Burglary</td>\n",
       "      <td>Office Building</td>\n",
       "      <td>1</td>\n",
       "      <td>7</td>\n",
       "      <td>24</td>\n",
       "      <td>Saturday</td>\n",
       "      <td>Apr</td>\n",
       "      <td>1915</td>\n",
       "    </tr>\n",
       "    <tr>\n",
       "      <th>1915-07-30</th>\n",
       "      <td>11H10</td>\n",
       "      <td>5600-5699</td>\n",
       "      <td>TRUETT</td>\n",
       "      <td>Rape</td>\n",
       "      <td>Other, Unknown, or Not Listed</td>\n",
       "      <td>1</td>\n",
       "      <td>10</td>\n",
       "      <td>30</td>\n",
       "      <td>Friday</td>\n",
       "      <td>Jul</td>\n",
       "      <td>1915</td>\n",
       "    </tr>\n",
       "    <tr>\n",
       "      <th>1915-09-03</th>\n",
       "      <td>19G20</td>\n",
       "      <td>11700-11799</td>\n",
       "      <td>BEECHNUT</td>\n",
       "      <td>Burglary</td>\n",
       "      <td>Rental Storage Facility</td>\n",
       "      <td>1</td>\n",
       "      <td>13</td>\n",
       "      <td>03</td>\n",
       "      <td>Friday</td>\n",
       "      <td>Sep</td>\n",
       "      <td>1915</td>\n",
       "    </tr>\n",
       "  </tbody>\n",
       "</table>\n",
       "</div>"
      ],
      "text/plain": [
       "             Beat   BlockRange     StreetName OffenseType  \\\n",
       "Date                                                        \n",
       "1915-01-05   3B10    3200-3299  MANGUM RD 180       Theft   \n",
       "1915-01-14   5F10    7000-7099       WESTVIEW  Auto Theft   \n",
       "1915-04-24   1A20    3100-3199          SMITH    Burglary   \n",
       "1915-07-30  11H10    5600-5699         TRUETT        Rape   \n",
       "1915-09-03  19G20  11700-11799       BEECHNUT    Burglary   \n",
       "\n",
       "                                  Premise  NumOffenses  Hour day   weekday  \\\n",
       "Date                                                                         \n",
       "1915-01-05              Other Parking Lot            1    22  05   Tuesday   \n",
       "1915-01-14          Apartment Parking Lot            1    23  14  Thursday   \n",
       "1915-04-24                Office Building            1     7  24  Saturday   \n",
       "1915-07-30  Other, Unknown, or Not Listed            1    10  30    Friday   \n",
       "1915-09-03        Rental Storage Facility            1    13  03    Friday   \n",
       "\n",
       "           month  year  \n",
       "Date                    \n",
       "1915-01-05   Jan  1915  \n",
       "1915-01-14   Jan  1915  \n",
       "1915-04-24   Apr  1915  \n",
       "1915-07-30   Jul  1915  \n",
       "1915-09-03   Sep  1915  "
      ]
     },
     "execution_count": 114,
     "metadata": {},
     "output_type": "execute_result"
    }
   ],
   "source": [
    "crime_yr.head()"
   ]
  },
  {
   "cell_type": "code",
   "execution_count": 116,
   "metadata": {},
   "outputs": [
    {
     "name": "stdout",
     "output_type": "stream",
     "text": [
      "\u001b[0m\u001b[01;32mcrime10_clean.csv\u001b[0m*  \u001b[01;32mcrime14_clean.csv\u001b[0m*  \u001b[01;32mFinal_crime10_clean.csv\u001b[0m*\r\n",
      "\u001b[01;32mcrime11_clean.csv\u001b[0m*  \u001b[01;32mcrime15_clean.csv\u001b[0m*  \u001b[01;32mFinal_crime11_clean.csv\u001b[0m*\r\n",
      "\u001b[01;32mcrime12_clean.csv\u001b[0m*  \u001b[01;32mcrime16_clean.csv\u001b[0m*  \u001b[01;32mFinal_crime12_clean.csv\u001b[0m*\r\n",
      "\u001b[01;32mcrime13_clean.csv\u001b[0m*  \u001b[01;32mcrime17_clean.csv\u001b[0m*  \u001b[01;32mFinal_crime13_clean.csv\u001b[0m*\r\n"
     ]
    }
   ],
   "source": [
    "ls crime_data_clean/new"
   ]
  },
  {
   "cell_type": "code",
   "execution_count": 117,
   "metadata": {},
   "outputs": [],
   "source": [
    "crime_yr.to_csv('crime_data_clean/new/Final_crime15_clean.csv')"
   ]
  },
  {
   "cell_type": "code",
   "execution_count": 118,
   "metadata": {},
   "outputs": [
    {
     "name": "stdout",
     "output_type": "stream",
     "text": [
      "\u001b[0m\u001b[01;32mcrime10_clean.csv\u001b[0m*  \u001b[01;32mcrime15_clean.csv\u001b[0m*        \u001b[01;32mFinal_crime12_clean.csv\u001b[0m*\r\n",
      "\u001b[01;32mcrime11_clean.csv\u001b[0m*  \u001b[01;32mcrime16_clean.csv\u001b[0m*        \u001b[01;32mFinal_crime13_clean.csv\u001b[0m*\r\n",
      "\u001b[01;32mcrime12_clean.csv\u001b[0m*  \u001b[01;32mcrime17_clean.csv\u001b[0m*        \u001b[01;32mFinal_crime15_clean.csv\u001b[0m*\r\n",
      "\u001b[01;32mcrime13_clean.csv\u001b[0m*  \u001b[01;32mFinal_crime10_clean.csv\u001b[0m*\r\n",
      "\u001b[01;32mcrime14_clean.csv\u001b[0m*  \u001b[01;32mFinal_crime11_clean.csv\u001b[0m*\r\n"
     ]
    }
   ],
   "source": [
    "ls crime_data_clean/new"
   ]
  },
  {
   "cell_type": "code",
   "execution_count": null,
   "metadata": {},
   "outputs": [],
   "source": []
  }
 ],
 "metadata": {
  "kernelspec": {
   "display_name": "Python 3",
   "language": "python",
   "name": "python3"
  },
  "language_info": {
   "codemirror_mode": {
    "name": "ipython",
    "version": 3
   },
   "file_extension": ".py",
   "mimetype": "text/x-python",
   "name": "python",
   "nbconvert_exporter": "python",
   "pygments_lexer": "ipython3",
   "version": "3.6.4"
  }
 },
 "nbformat": 4,
 "nbformat_minor": 2
}
