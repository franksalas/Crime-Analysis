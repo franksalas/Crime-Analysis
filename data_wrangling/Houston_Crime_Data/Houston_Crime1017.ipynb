{
 "cells": [
  {
   "cell_type": "markdown",
   "metadata": {},
   "source": [
    "# NOT DONE"
   ]
  },
  {
   "cell_type": "code",
   "execution_count": 5,
   "metadata": {},
   "outputs": [],
   "source": [
    "import pandas as pd\n",
    "import glob, os\n",
    "import numpy as np\n",
    "import matplotlib.pyplot as plt"
   ]
  },
  {
   "cell_type": "markdown",
   "metadata": {},
   "source": [
    "## Source\n",
    "- [Houston Police Department Crime Statistics](http://www.houstontx.gov/police/cs/crime-stats-archives.htm)\n",
    "\t- years: 2008 - 2017\n",
    "\t- format: Access or Excel"
   ]
  },
  {
   "cell_type": "code",
   "execution_count": 6,
   "metadata": {},
   "outputs": [
    {
     "name": "stdout",
     "output_type": "stream",
     "text": [
      "\u001b[0m\u001b[01;32mapr10.xls\u001b[0m*  \u001b[01;32mdec10.xls\u001b[0m*  \u001b[01;32mjan10.xls\u001b[0m*  \u001b[01;32mjun10.xls\u001b[0m*  \u001b[01;32mmay10.xls\u001b[0m*  \u001b[01;32moct10.xls\u001b[0m*\r\n",
      "\u001b[01;32mapr11.xls\u001b[0m*  \u001b[01;32mdec11.xls\u001b[0m*  \u001b[01;32mjan11.xls\u001b[0m*  \u001b[01;32mjun11.xls\u001b[0m*  \u001b[01;32mmay11.xls\u001b[0m*  \u001b[01;32moct11.xls\u001b[0m*\r\n",
      "\u001b[01;32mapr12.xls\u001b[0m*  \u001b[01;32mdec12.xls\u001b[0m*  \u001b[01;32mjan12.xls\u001b[0m*  \u001b[01;32mjun12.xls\u001b[0m*  \u001b[01;32mmay12.xls\u001b[0m*  \u001b[01;32moct12.xls\u001b[0m*\r\n",
      "\u001b[01;32mapr13.xls\u001b[0m*  \u001b[01;32mdec13.xls\u001b[0m*  \u001b[01;32mjan13.xls\u001b[0m*  \u001b[01;32mjun13.xls\u001b[0m*  \u001b[01;32mmay13.xls\u001b[0m*  \u001b[01;32moct13.xls\u001b[0m*\r\n",
      "\u001b[01;32mapr14.xls\u001b[0m*  \u001b[01;32mdec14.xls\u001b[0m*  \u001b[01;32mjan14.xls\u001b[0m*  \u001b[01;32mjun14.xls\u001b[0m*  \u001b[01;32mmay14.xls\u001b[0m*  \u001b[01;32moct14.xls\u001b[0m*\r\n",
      "\u001b[01;32mapr15.xls\u001b[0m*  \u001b[01;32mdec15.xls\u001b[0m*  \u001b[01;32mjan15.xls\u001b[0m*  \u001b[01;32mjun15.xls\u001b[0m*  \u001b[01;32mmay15.xls\u001b[0m*  \u001b[01;32moct15.xls\u001b[0m*\r\n",
      "\u001b[01;32mapr16.xls\u001b[0m*  \u001b[01;32mdec16.xls\u001b[0m*  \u001b[01;32mjan16.xls\u001b[0m*  \u001b[01;32mjun16.xls\u001b[0m*  \u001b[01;32mmay16.xls\u001b[0m*  \u001b[01;32moct16.xls\u001b[0m*\r\n",
      "\u001b[01;32mapr17.xls\u001b[0m*  \u001b[01;32mdec17.xls\u001b[0m*  \u001b[01;32mjan17.xls\u001b[0m*  \u001b[01;32mjun17.xls\u001b[0m*  \u001b[01;32mmay17.xls\u001b[0m*  \u001b[01;32moct17.xls\u001b[0m*\r\n",
      "\u001b[01;32maug10.xls\u001b[0m*  \u001b[01;32mfeb10.xls\u001b[0m*  \u001b[01;32mjul10.xls\u001b[0m*  \u001b[01;32mmar10.xls\u001b[0m*  \u001b[01;32mnov10.xls\u001b[0m*  \u001b[01;32msep10.xls\u001b[0m*\r\n",
      "\u001b[01;32maug11.xls\u001b[0m*  \u001b[01;32mfeb11.xls\u001b[0m*  \u001b[01;32mjul11.xls\u001b[0m*  \u001b[01;32mmar11.xls\u001b[0m*  \u001b[01;32mnov11.xls\u001b[0m*  \u001b[01;32msep11.xls\u001b[0m*\r\n",
      "\u001b[01;32maug12.xls\u001b[0m*  \u001b[01;32mfeb12.xls\u001b[0m*  \u001b[01;32mjul12.xls\u001b[0m*  \u001b[01;32mmar12.xls\u001b[0m*  \u001b[01;32mnov12.xls\u001b[0m*  \u001b[01;32msep12.xls\u001b[0m*\r\n",
      "\u001b[01;32maug13.xls\u001b[0m*  \u001b[01;32mfeb13.xls\u001b[0m*  \u001b[01;32mjul13.xls\u001b[0m*  \u001b[01;32mmar13.xls\u001b[0m*  \u001b[01;32mnov13.xls\u001b[0m*  \u001b[01;32msep13.xls\u001b[0m*\r\n",
      "\u001b[01;32maug14.xls\u001b[0m*  \u001b[01;32mfeb14.xls\u001b[0m*  \u001b[01;32mjul14.xls\u001b[0m*  \u001b[01;32mmar14.xls\u001b[0m*  \u001b[01;32mnov14.xls\u001b[0m*  \u001b[01;32msep14.xls\u001b[0m*\r\n",
      "\u001b[01;32maug15.xls\u001b[0m*  \u001b[01;32mfeb15.xls\u001b[0m*  \u001b[01;32mjul15.xls\u001b[0m*  \u001b[01;32mmar15.xls\u001b[0m*  \u001b[01;32mnov15.xls\u001b[0m*  \u001b[01;32msep15.xls\u001b[0m*\r\n",
      "\u001b[01;32maug16.xls\u001b[0m*  \u001b[01;32mfeb16.xls\u001b[0m*  \u001b[01;32mjul16.xls\u001b[0m*  \u001b[01;32mmar16.xls\u001b[0m*  \u001b[01;32mnov16.xls\u001b[0m*  \u001b[01;32msep16.xls\u001b[0m*\r\n",
      "\u001b[01;32maug17.xls\u001b[0m*  \u001b[01;32mfeb17.xls\u001b[0m*  \u001b[01;32mjul17.xls\u001b[0m*  \u001b[01;32mmar17.xls\u001b[0m*  \u001b[01;32mnov17.xls\u001b[0m*  \u001b[01;32msep17.xls\u001b[0m*\r\n"
     ]
    }
   ],
   "source": [
    "ls crime_data_raw/10years"
   ]
  },
  {
   "cell_type": "markdown",
   "metadata": {},
   "source": [
    "## combine all files into one dataframe"
   ]
  },
  {
   "cell_type": "code",
   "execution_count": 7,
   "metadata": {},
   "outputs": [
    {
     "name": "stdout",
     "output_type": "stream",
     "text": [
      "WARNING *** file size (3078551) not 512 + multiple of sector size (512)\n",
      "WARNING *** OLE2 inconsistency: SSCS size is 0 but SSAT size is non-zero\n",
      "WARNING *** file size (2752234) not 512 + multiple of sector size (512)\n",
      "WARNING *** OLE2 inconsistency: SSCS size is 0 but SSAT size is non-zero\n"
     ]
    }
   ],
   "source": [
    "path = 'crime_data_raw/10years'\n",
    "all_files = glob.glob(os.path.join(path, \"*.xls\")) \n",
    "\n",
    "df_from_each_file = (pd.read_excel(f) for f in all_files)\n",
    "df   = pd.concat(df_from_each_file, ignore_index=True)"
   ]
  },
  {
   "cell_type": "code",
   "execution_count": 8,
   "metadata": {},
   "outputs": [
    {
     "name": "stdout",
     "output_type": "stream",
     "text": [
      "<class 'pandas.core.frame.DataFrame'>\n",
      "RangeIndex: 1006331 entries, 0 to 1006330\n",
      "Data columns (total 18 columns):\n",
      "# Of             7613 non-null float64\n",
      "# Of Offenses    574365 non-null float64\n",
      "# Offenses       10319 non-null float64\n",
      "# offenses       334684 non-null float64\n",
      "Beat             1006314 non-null object\n",
      "Block Range      671489 non-null object\n",
      "BlockRange       334684 non-null object\n",
      "Date             1006326 non-null object\n",
      "Field11          0 non-null float64\n",
      "Hour             1006330 non-null object\n",
      "Offense Type     1006330 non-null object\n",
      "Offenses         79349 non-null float64\n",
      "Premise          972734 non-null object\n",
      "Street Name      671646 non-null object\n",
      "StreetName       334684 non-null object\n",
      "Suffix           1006330 non-null object\n",
      "Type             1006330 non-null object\n",
      "Unnamed: 1       0 non-null float64\n",
      "dtypes: float64(7), object(11)\n",
      "memory usage: 138.2+ MB\n"
     ]
    }
   ],
   "source": [
    "df.info()"
   ]
  },
  {
   "cell_type": "code",
   "execution_count": 9,
   "metadata": {},
   "outputs": [
    {
     "data": {
      "text/html": [
       "<div>\n",
       "<style scoped>\n",
       "    .dataframe tbody tr th:only-of-type {\n",
       "        vertical-align: middle;\n",
       "    }\n",
       "\n",
       "    .dataframe tbody tr th {\n",
       "        vertical-align: top;\n",
       "    }\n",
       "\n",
       "    .dataframe thead th {\n",
       "        text-align: right;\n",
       "    }\n",
       "</style>\n",
       "<table border=\"1\" class=\"dataframe\">\n",
       "  <thead>\n",
       "    <tr style=\"text-align: right;\">\n",
       "      <th></th>\n",
       "      <th># Of</th>\n",
       "      <th># Of Offenses</th>\n",
       "      <th># Offenses</th>\n",
       "      <th># offenses</th>\n",
       "      <th>Beat</th>\n",
       "      <th>Block Range</th>\n",
       "      <th>BlockRange</th>\n",
       "      <th>Date</th>\n",
       "      <th>Field11</th>\n",
       "      <th>Hour</th>\n",
       "      <th>Offense Type</th>\n",
       "      <th>Offenses</th>\n",
       "      <th>Premise</th>\n",
       "      <th>Street Name</th>\n",
       "      <th>StreetName</th>\n",
       "      <th>Suffix</th>\n",
       "      <th>Type</th>\n",
       "      <th>Unnamed: 1</th>\n",
       "    </tr>\n",
       "  </thead>\n",
       "  <tbody>\n",
       "    <tr>\n",
       "      <th>0</th>\n",
       "      <td>NaN</td>\n",
       "      <td>1.0</td>\n",
       "      <td>NaN</td>\n",
       "      <td>NaN</td>\n",
       "      <td>13D20</td>\n",
       "      <td>6600-6699</td>\n",
       "      <td>NaN</td>\n",
       "      <td>2010-04-17 00:00:00</td>\n",
       "      <td>NaN</td>\n",
       "      <td>0</td>\n",
       "      <td>Murder</td>\n",
       "      <td>NaN</td>\n",
       "      <td>05W</td>\n",
       "      <td>HEFFERNAN</td>\n",
       "      <td>NaN</td>\n",
       "      <td>-</td>\n",
       "      <td>-</td>\n",
       "      <td>NaN</td>\n",
       "    </tr>\n",
       "    <tr>\n",
       "      <th>1</th>\n",
       "      <td>NaN</td>\n",
       "      <td>1.0</td>\n",
       "      <td>NaN</td>\n",
       "      <td>NaN</td>\n",
       "      <td>11H40</td>\n",
       "      <td>10100-10199</td>\n",
       "      <td>NaN</td>\n",
       "      <td>2010-04-08 00:00:00</td>\n",
       "      <td>NaN</td>\n",
       "      <td>20</td>\n",
       "      <td>Murder</td>\n",
       "      <td>NaN</td>\n",
       "      <td>20R</td>\n",
       "      <td>LUCORE</td>\n",
       "      <td>NaN</td>\n",
       "      <td>-</td>\n",
       "      <td>-</td>\n",
       "      <td>NaN</td>\n",
       "    </tr>\n",
       "    <tr>\n",
       "      <th>2</th>\n",
       "      <td>NaN</td>\n",
       "      <td>2.0</td>\n",
       "      <td>NaN</td>\n",
       "      <td>NaN</td>\n",
       "      <td>19G20</td>\n",
       "      <td>11400-11499</td>\n",
       "      <td>NaN</td>\n",
       "      <td>2010-04-01 00:00:00</td>\n",
       "      <td>NaN</td>\n",
       "      <td>22</td>\n",
       "      <td>Murder</td>\n",
       "      <td>NaN</td>\n",
       "      <td>13R</td>\n",
       "      <td>CARVEL</td>\n",
       "      <td>NaN</td>\n",
       "      <td>-</td>\n",
       "      <td>LN</td>\n",
       "      <td>NaN</td>\n",
       "    </tr>\n",
       "    <tr>\n",
       "      <th>3</th>\n",
       "      <td>NaN</td>\n",
       "      <td>1.0</td>\n",
       "      <td>NaN</td>\n",
       "      <td>NaN</td>\n",
       "      <td>10H60</td>\n",
       "      <td>3700-3799</td>\n",
       "      <td>NaN</td>\n",
       "      <td>2010-04-17 00:00:00</td>\n",
       "      <td>NaN</td>\n",
       "      <td>1</td>\n",
       "      <td>Murder</td>\n",
       "      <td>NaN</td>\n",
       "      <td>13R</td>\n",
       "      <td>WHEELER</td>\n",
       "      <td>NaN</td>\n",
       "      <td>-</td>\n",
       "      <td>-</td>\n",
       "      <td>NaN</td>\n",
       "    </tr>\n",
       "    <tr>\n",
       "      <th>4</th>\n",
       "      <td>NaN</td>\n",
       "      <td>1.0</td>\n",
       "      <td>NaN</td>\n",
       "      <td>NaN</td>\n",
       "      <td>14D30</td>\n",
       "      <td>5100-5199</td>\n",
       "      <td>NaN</td>\n",
       "      <td>2010-04-08 00:00:00</td>\n",
       "      <td>NaN</td>\n",
       "      <td>23</td>\n",
       "      <td>Murder</td>\n",
       "      <td>NaN</td>\n",
       "      <td>20R</td>\n",
       "      <td>MYRTLEWOOD</td>\n",
       "      <td>NaN</td>\n",
       "      <td>-</td>\n",
       "      <td>DR</td>\n",
       "      <td>NaN</td>\n",
       "    </tr>\n",
       "  </tbody>\n",
       "</table>\n",
       "</div>"
      ],
      "text/plain": [
       "   # Of  # Of Offenses  # Offenses  # offenses   Beat  Block Range BlockRange  \\\n",
       "0   NaN            1.0         NaN         NaN  13D20    6600-6699        NaN   \n",
       "1   NaN            1.0         NaN         NaN  11H40  10100-10199        NaN   \n",
       "2   NaN            2.0         NaN         NaN  19G20  11400-11499        NaN   \n",
       "3   NaN            1.0         NaN         NaN  10H60    3700-3799        NaN   \n",
       "4   NaN            1.0         NaN         NaN  14D30    5100-5199        NaN   \n",
       "\n",
       "                  Date  Field11 Hour Offense Type  Offenses Premise  \\\n",
       "0  2010-04-17 00:00:00      NaN    0       Murder       NaN     05W   \n",
       "1  2010-04-08 00:00:00      NaN   20       Murder       NaN     20R   \n",
       "2  2010-04-01 00:00:00      NaN   22       Murder       NaN     13R   \n",
       "3  2010-04-17 00:00:00      NaN    1       Murder       NaN     13R   \n",
       "4  2010-04-08 00:00:00      NaN   23       Murder       NaN     20R   \n",
       "\n",
       "  Street Name StreetName Suffix Type  Unnamed: 1  \n",
       "0   HEFFERNAN        NaN      -    -         NaN  \n",
       "1      LUCORE        NaN      -    -         NaN  \n",
       "2      CARVEL        NaN      -   LN         NaN  \n",
       "3     WHEELER        NaN      -    -         NaN  \n",
       "4  MYRTLEWOOD        NaN      -   DR         NaN  "
      ]
     },
     "execution_count": 9,
     "metadata": {},
     "output_type": "execute_result"
    }
   ],
   "source": [
    "df.head(5)"
   ]
  },
  {
   "cell_type": "markdown",
   "metadata": {},
   "source": [
    "## Lets create a copy"
   ]
  },
  {
   "cell_type": "code",
   "execution_count": 12,
   "metadata": {},
   "outputs": [],
   "source": [
    "df1 = df.copy()"
   ]
  },
  {
   "cell_type": "code",
   "execution_count": 13,
   "metadata": {},
   "outputs": [
    {
     "data": {
      "text/plain": [
       "Index(['# Of', '# Of Offenses', '# Offenses', '# offenses', 'Beat',\n",
       "       'Block Range', 'BlockRange', 'Date', 'Field11', 'Hour', 'Offense Type',\n",
       "       'Offenses', 'Premise', 'Street Name', 'StreetName', 'Suffix', 'Type',\n",
       "       'Unnamed: 1'],\n",
       "      dtype='object')"
      ]
     },
     "execution_count": 13,
     "metadata": {},
     "output_type": "execute_result"
    }
   ],
   "source": [
    "df1.columns"
   ]
  },
  {
   "cell_type": "code",
   "execution_count": 15,
   "metadata": {},
   "outputs": [
    {
     "data": {
      "text/html": [
       "<div>\n",
       "<style scoped>\n",
       "    .dataframe tbody tr th:only-of-type {\n",
       "        vertical-align: middle;\n",
       "    }\n",
       "\n",
       "    .dataframe tbody tr th {\n",
       "        vertical-align: top;\n",
       "    }\n",
       "\n",
       "    .dataframe thead th {\n",
       "        text-align: right;\n",
       "    }\n",
       "</style>\n",
       "<table border=\"1\" class=\"dataframe\">\n",
       "  <thead>\n",
       "    <tr style=\"text-align: right;\">\n",
       "      <th></th>\n",
       "      <th># Of</th>\n",
       "      <th># Of Offenses</th>\n",
       "      <th># Offenses</th>\n",
       "      <th># offenses</th>\n",
       "      <th>Beat</th>\n",
       "      <th>Block Range</th>\n",
       "      <th>BlockRange</th>\n",
       "      <th>Date</th>\n",
       "      <th>Field11</th>\n",
       "      <th>Hour</th>\n",
       "      <th>Offense Type</th>\n",
       "      <th>Offenses</th>\n",
       "      <th>Premise</th>\n",
       "      <th>Street Name</th>\n",
       "      <th>StreetName</th>\n",
       "      <th>Suffix</th>\n",
       "      <th>Type</th>\n",
       "      <th>Unnamed: 1</th>\n",
       "    </tr>\n",
       "  </thead>\n",
       "  <tbody>\n",
       "    <tr>\n",
       "      <th>0</th>\n",
       "      <td>NaN</td>\n",
       "      <td>1.0</td>\n",
       "      <td>NaN</td>\n",
       "      <td>NaN</td>\n",
       "      <td>13D20</td>\n",
       "      <td>6600-6699</td>\n",
       "      <td>NaN</td>\n",
       "      <td>2010-04-17 00:00:00</td>\n",
       "      <td>NaN</td>\n",
       "      <td>0</td>\n",
       "      <td>Murder</td>\n",
       "      <td>NaN</td>\n",
       "      <td>05W</td>\n",
       "      <td>HEFFERNAN</td>\n",
       "      <td>NaN</td>\n",
       "      <td>-</td>\n",
       "      <td>-</td>\n",
       "      <td>NaN</td>\n",
       "    </tr>\n",
       "  </tbody>\n",
       "</table>\n",
       "</div>"
      ],
      "text/plain": [
       "   # Of  # Of Offenses  # Offenses  # offenses   Beat Block Range BlockRange  \\\n",
       "0   NaN            1.0         NaN         NaN  13D20   6600-6699        NaN   \n",
       "\n",
       "                  Date  Field11 Hour Offense Type  Offenses Premise  \\\n",
       "0  2010-04-17 00:00:00      NaN    0       Murder       NaN     05W   \n",
       "\n",
       "  Street Name StreetName Suffix Type  Unnamed: 1  \n",
       "0   HEFFERNAN        NaN      -    -         NaN  "
      ]
     },
     "execution_count": 15,
     "metadata": {},
     "output_type": "execute_result"
    }
   ],
   "source": [
    "df1.head(1)"
   ]
  },
  {
   "cell_type": "markdown",
   "metadata": {},
   "source": [
    "## Duplicate columns\n",
    "We have duplicate columns with diffrent names\n",
    "- `Block Range` & `BlockRange`\n",
    "- `StreetName`  & `Street Name`\n",
    "- `Offenses`  & `# offenses`\n",
    "\n",
    "lets concat the columns remove nan values and reindex"
   ]
  },
  {
   "cell_type": "code",
   "execution_count": 16,
   "metadata": {},
   "outputs": [],
   "source": [
    "df1['# offenses'] = pd.concat([df1['# Of'].dropna(),\n",
    "                               df1['# Of Offenses'].dropna(),\n",
    "                               df1['# offenses'].dropna(),\n",
    "                               df1['Offenses'].dropna()]).reindex_like(df1)\n",
    "\n",
    "df1['BlockRange'] = pd.concat([df1['Block Range'].dropna(),\n",
    "                               df1['BlockRange'].dropna()]).reindex_like(df1)\n",
    "\n",
    "df1['StreetName'] = pd.concat([df1['Street Name'].dropna(),\n",
    "                               df1['StreetName'].dropna()]).reindex_like(df1)"
   ]
  },
  {
   "cell_type": "code",
   "execution_count": 18,
   "metadata": {},
   "outputs": [
    {
     "name": "stdout",
     "output_type": "stream",
     "text": [
      "<class 'pandas.core.frame.DataFrame'>\n",
      "RangeIndex: 1006331 entries, 0 to 1006330\n",
      "Data columns (total 18 columns):\n",
      "# Of             7613 non-null float64\n",
      "# Of Offenses    574365 non-null float64\n",
      "# Offenses       10319 non-null float64\n",
      "# offenses       996011 non-null float64\n",
      "Beat             1006314 non-null object\n",
      "Block Range      671489 non-null object\n",
      "BlockRange       1006173 non-null object\n",
      "Date             1006326 non-null object\n",
      "Field11          0 non-null float64\n",
      "Hour             1006330 non-null object\n",
      "Offense Type     1006330 non-null object\n",
      "Offenses         79349 non-null float64\n",
      "Premise          972734 non-null object\n",
      "Street Name      671646 non-null object\n",
      "StreetName       1006330 non-null object\n",
      "Suffix           1006330 non-null object\n",
      "Type             1006330 non-null object\n",
      "Unnamed: 1       0 non-null float64\n",
      "dtypes: float64(7), object(11)\n",
      "memory usage: 138.2+ MB\n"
     ]
    }
   ],
   "source": [
    "df1.info()"
   ]
  },
  {
   "cell_type": "markdown",
   "metadata": {},
   "source": [
    "## Rename columns"
   ]
  },
  {
   "cell_type": "code",
   "execution_count": null,
   "metadata": {},
   "outputs": [],
   "source": [
    "# df1.rename(columns={\n",
    "#     '# Of Offenses': '# offenses',\n",
    "#     'Block Range': 'BlockRange',\n",
    "#     'Street Name': 'StreetName',}, inplace=True)"
   ]
  },
  {
   "cell_type": "code",
   "execution_count": null,
   "metadata": {},
   "outputs": [],
   "source": [
    "df1.info()"
   ]
  },
  {
   "cell_type": "code",
   "execution_count": null,
   "metadata": {},
   "outputs": [],
   "source": [
    "df1.head(5)"
   ]
  },
  {
   "cell_type": "markdown",
   "metadata": {},
   "source": [
    "## create a subdataframe with the columns that we want"
   ]
  },
  {
   "cell_type": "code",
   "execution_count": 19,
   "metadata": {},
   "outputs": [],
   "source": [
    "df1017 = df1[['Date','Beat','BlockRange','StreetName','Offense Type','Premise','# offenses','Hour']]"
   ]
  },
  {
   "cell_type": "code",
   "execution_count": 20,
   "metadata": {},
   "outputs": [
    {
     "name": "stdout",
     "output_type": "stream",
     "text": [
      "<class 'pandas.core.frame.DataFrame'>\n",
      "RangeIndex: 1006331 entries, 0 to 1006330\n",
      "Data columns (total 8 columns):\n",
      "Date            1006326 non-null object\n",
      "Beat            1006314 non-null object\n",
      "BlockRange      1006173 non-null object\n",
      "StreetName      1006330 non-null object\n",
      "Offense Type    1006330 non-null object\n",
      "Premise         972734 non-null object\n",
      "# offenses      996011 non-null float64\n",
      "Hour            1006330 non-null object\n",
      "dtypes: float64(1), object(7)\n",
      "memory usage: 61.4+ MB\n"
     ]
    }
   ],
   "source": [
    "df1017.info()"
   ]
  },
  {
   "cell_type": "code",
   "execution_count": 21,
   "metadata": {},
   "outputs": [
    {
     "data": {
      "text/html": [
       "<div>\n",
       "<style scoped>\n",
       "    .dataframe tbody tr th:only-of-type {\n",
       "        vertical-align: middle;\n",
       "    }\n",
       "\n",
       "    .dataframe tbody tr th {\n",
       "        vertical-align: top;\n",
       "    }\n",
       "\n",
       "    .dataframe thead th {\n",
       "        text-align: right;\n",
       "    }\n",
       "</style>\n",
       "<table border=\"1\" class=\"dataframe\">\n",
       "  <thead>\n",
       "    <tr style=\"text-align: right;\">\n",
       "      <th></th>\n",
       "      <th>Date</th>\n",
       "      <th>Beat</th>\n",
       "      <th>BlockRange</th>\n",
       "      <th>StreetName</th>\n",
       "      <th>Offense Type</th>\n",
       "      <th>Premise</th>\n",
       "      <th># offenses</th>\n",
       "      <th>Hour</th>\n",
       "    </tr>\n",
       "  </thead>\n",
       "  <tbody>\n",
       "    <tr>\n",
       "      <th>1006326</th>\n",
       "      <td>09/29/2017</td>\n",
       "      <td>UNK</td>\n",
       "      <td>12600-12699</td>\n",
       "      <td>STAFFORD RD</td>\n",
       "      <td>Robbery</td>\n",
       "      <td>Road, Street, or Sidewalk</td>\n",
       "      <td>1.0</td>\n",
       "      <td>1</td>\n",
       "    </tr>\n",
       "    <tr>\n",
       "      <th>1006327</th>\n",
       "      <td>09/30/2017</td>\n",
       "      <td>UNK</td>\n",
       "      <td>10600-10699</td>\n",
       "      <td>BROOKLET</td>\n",
       "      <td>Theft</td>\n",
       "      <td>Road, Street, or Sidewalk</td>\n",
       "      <td>1.0</td>\n",
       "      <td>13</td>\n",
       "    </tr>\n",
       "    <tr>\n",
       "      <th>1006328</th>\n",
       "      <td>09/30/2017</td>\n",
       "      <td>UNK</td>\n",
       "      <td>12300-12399</td>\n",
       "      <td>WESTHEIMER RD</td>\n",
       "      <td>Robbery</td>\n",
       "      <td>Restaurant or Cafeteria Parking Lot</td>\n",
       "      <td>1.0</td>\n",
       "      <td>19</td>\n",
       "    </tr>\n",
       "    <tr>\n",
       "      <th>1006329</th>\n",
       "      <td>09/30/2017</td>\n",
       "      <td>UNK</td>\n",
       "      <td>13200-13299</td>\n",
       "      <td>BEECHNUT ST</td>\n",
       "      <td>Aggravated Assault</td>\n",
       "      <td>Highway or Freeway</td>\n",
       "      <td>1.0</td>\n",
       "      <td>17</td>\n",
       "    </tr>\n",
       "    <tr>\n",
       "      <th>1006330</th>\n",
       "      <td>11/10/2015</td>\n",
       "      <td>UNK</td>\n",
       "      <td>4900-4999</td>\n",
       "      <td>TEALGATE</td>\n",
       "      <td>Rape</td>\n",
       "      <td>Residence or House</td>\n",
       "      <td>1.0</td>\n",
       "      <td>22</td>\n",
       "    </tr>\n",
       "  </tbody>\n",
       "</table>\n",
       "</div>"
      ],
      "text/plain": [
       "               Date Beat   BlockRange     StreetName        Offense Type  \\\n",
       "1006326  09/29/2017  UNK  12600-12699    STAFFORD RD             Robbery   \n",
       "1006327  09/30/2017  UNK  10600-10699       BROOKLET               Theft   \n",
       "1006328  09/30/2017  UNK  12300-12399  WESTHEIMER RD             Robbery   \n",
       "1006329  09/30/2017  UNK  13200-13299    BEECHNUT ST  Aggravated Assault   \n",
       "1006330  11/10/2015  UNK    4900-4999       TEALGATE                Rape   \n",
       "\n",
       "                                     Premise  # offenses Hour  \n",
       "1006326            Road, Street, or Sidewalk         1.0    1  \n",
       "1006327            Road, Street, or Sidewalk         1.0   13  \n",
       "1006328  Restaurant or Cafeteria Parking Lot         1.0   19  \n",
       "1006329                   Highway or Freeway         1.0   17  \n",
       "1006330                   Residence or House         1.0   22  "
      ]
     },
     "execution_count": 21,
     "metadata": {},
     "output_type": "execute_result"
    }
   ],
   "source": [
    "df1017.tail()"
   ]
  },
  {
   "cell_type": "markdown",
   "metadata": {},
   "source": [
    "## Now we can inspect df"
   ]
  },
  {
   "cell_type": "code",
   "execution_count": 22,
   "metadata": {},
   "outputs": [
    {
     "data": {
      "text/plain": [
       "array([Timestamp('2010-04-17 00:00:00'), Timestamp('2010-04-08 00:00:00'),\n",
       "       Timestamp('2010-04-01 00:00:00'), ..., '04/06/2017', '03/24/2017',\n",
       "       '11/10/2015'], dtype=object)"
      ]
     },
     "execution_count": 22,
     "metadata": {},
     "output_type": "execute_result"
    }
   ],
   "source": [
    "df1017.Date.unique() ## timestamp string date"
   ]
  },
  {
   "cell_type": "code",
   "execution_count": 23,
   "metadata": {},
   "outputs": [
    {
     "data": {
      "text/plain": [
       "array(['13D20', '11H40', '19G20', '10H60', '14D30', '17E30', '20G40',\n",
       "       '18F40', '10H20', '9C20', '11H10', '19G30', '16E40', '19G10',\n",
       "       '16E20', '19G50', '15E10', '13D40', '14D10', 'UNK', '9C40',\n",
       "       '10H80', '5F30', '18F50', '7C30', '3B50', '12D10', '20G10',\n",
       "       '14D20', '17E20', '10H40', '6B60', '3B10', '8C20', '5F20', '7C50',\n",
       "       '15E30', '16E30', '12D40', '17E40', '18F30', '7C20', '8C60',\n",
       "       '8C30', '11H50', '20G60', '20G70', '17E10', '3B30', '11H30',\n",
       "       '2A60', '9C10', '6B10', '6B30', '6B20', '10H50', '12D20', '12D70',\n",
       "       '6B50', '1A10', '20G30', '6B40', '5F10', '2A20', '13D10', '4F10',\n",
       "       '9C30', '18F60', '1A30', '19G40', '1A20', '2A10', '7C10', '3B40',\n",
       "       '7C40', '1A50', '24C30', '14D50', '10H10', '15E20', '10H70',\n",
       "       '8C10', '20G50', '2A50', '20G80', '15E40', '24C50', '5F40',\n",
       "       '12D60', '2A30', '4F20', '8C50', '4F30', '18F20', '14D40', '24C10',\n",
       "       '18F10', '11H20', '10H30', '16E10', '24C40', '12D30', '20G20',\n",
       "       '12D50', '2A40', '1A40', '24C20', '8C40', '21I30', '23J40',\n",
       "       '13D30', '21I50', '23J50', '21I40', '21I60', '23J30', '21I70',\n",
       "       '21I20', '21I10', '23J20', '24C60', 'UH-3P', '7C60', '23J10', nan,\n",
       "       'HCSO', 'OOJ', \"'18F20\", \"'1A30\", \"'14D10\", \"'6B20\", \"'3B40\",\n",
       "       \"'2A50\", \"'2A30\", \"'18F30\", \"'13D10\", \"'8C30\", \"'24C10\", \"'20G10\",\n",
       "       \"'19G30\", \"'18F40\", \"'11H30\", \"'12D10\", \"'10H10\", \"'5F40\", \"'7C50\",\n",
       "       \"'21I50\", \"'8C20\", \"'8C60\", \"'1A50\", \"'20G20\", \"'17E30\", \"'16E20\",\n",
       "       \"'20G70\", \"'24C40\", \"'15E40\", \"'20G30\", \"'1A40\", \"'19G10\",\n",
       "       \"'19G50\", \"'4F10\", \"'4F20\", \"'15E30\", \"'1A20\", \"'8C10\", \"'11H10\",\n",
       "       \"'9C20\", \"'6B60\", \"'3B10\", \"'20G40\", \"'2A20\", \"'10H20\", \"'12D60\",\n",
       "       \"'9C40\", \"'UNK\", \"'8C40\", \"'2A40\", \"'19G20\", \"'6B10\", \"'10H50\",\n",
       "       \"'18F60\", \"'16E40\", \"'10H40\", \"'6B40\", \"'7C30\", \"'6B30\", \"'5F30\",\n",
       "       \"'8C50\", \"'1A10\", \"'10H30\", \"'21I10\", \"'13D40\", \"'19G40\", \"'2A60\",\n",
       "       \"'5F20\", \"'17E20\", \"'17E10\", \"'10H60\", \"'24C30\", \"'11H50\", \"'7C40\",\n",
       "       \"'14D20\", \"'12D50\", \"'12D20\", \"'3B50\", \"'18F50\", \"'13D20\", \"'7C20\",\n",
       "       \"'7C10\", \"'24C50\", \"'15E10\", \"'15E20\", \"'9C10\", \"'12D30\", \"'10H70\",\n",
       "       \"'3B30\", \"'16E10\", \"'17E40\", \"'6B50\", \"'9C30\", \"'10H80\", \"'20G50\",\n",
       "       \"'18F10\", \"'14D40\", \"'11H20\", \"'14D30\", \"'16E30\", \"'2A10\",\n",
       "       \"'20G60\", \"'5F10\", \"'20G80\", \"'12D40\", \"'12D70\", \"'11H40\",\n",
       "       \"'24C20\", \"'14D50\", \"'4F30\", \"'23J50\", '3B20', '10H10 ', '10H20 ',\n",
       "       '10H30 ', '10H40 ', '10H50 ', '10H60 ', '10H70 ', '10H80 ',\n",
       "       '11H10 ', '11H20 ', '11H30 ', '11H40 ', '11H50 ', '12D10 ',\n",
       "       '12D20 ', '12D30 ', '12D40 ', '12D50 ', '12D60 ', '12D70 ',\n",
       "       '13D10 ', '13D20 ', '13D30 ', '13D40 ', '14D10 ', '14D20 ',\n",
       "       '14D30 ', '14D40 ', '14D50 ', '15E10 ', '15E20 ', '15E30 ',\n",
       "       '15E40 ', '16E10 ', '16E20 ', '16E30 ', '16E40 ', '17E10 ',\n",
       "       '17E20 ', '17E30 ', '17E40 ', '18F10 ', '18F20 ', '18F30 ',\n",
       "       '18F40 ', '18F50 ', '18F60 ', '19G10 ', '19G20 ', '19G30 ',\n",
       "       '19G40 ', '19G50 ', '1A10  ', '1A20  ', '1A30  ', '1A40  ',\n",
       "       '1A50  ', '20G10 ', '20G20 ', '20G30 ', '20G40 ', '20G50 ',\n",
       "       '20G60 ', '20G70 ', '20G80 ', '21I10 ', '21I20 ', '21I40 ',\n",
       "       '21I50 ', '21I60 ', '21I70 ', '23J50 ', '24C10 ', '24C20 ',\n",
       "       '24C30 ', '24C40 ', '24C50 ', '24C60 ', '2A10  ', '2A20  ',\n",
       "       '2A30  ', '2A40  ', '2A50  ', '2A60  ', '3B10  ', '3B30  ',\n",
       "       '3B40  ', '3B50  ', '4F10  ', '4F20  ', '4F30  ', '5F10  ',\n",
       "       '5F20  ', '5F30  ', '5F40  ', '6B10  ', '6B20  ', '6B30  ',\n",
       "       '6B40  ', '6B50  ', '6B60  ', '7C10  ', '7C20  ', '7C30  ',\n",
       "       '7C40  ', '7C50  ', '8C10  ', '8C20  ', '8C30  ', '8C40  ',\n",
       "       '8C50  ', '8C60  ', '9C10  ', '9C20  ', '9C30  ', '9C40  ',\n",
       "       'UNK   '], dtype=object)"
      ]
     },
     "execution_count": 23,
     "metadata": {},
     "output_type": "execute_result"
    }
   ],
   "source": [
    "df1017.Beat.unique()  ##"
   ]
  },
  {
   "cell_type": "code",
   "execution_count": 25,
   "metadata": {},
   "outputs": [
    {
     "data": {
      "text/plain": [
       "19G10     21243\n",
       "12D10     21022\n",
       "1A20      20731\n",
       "6B60      19887\n",
       "13D20     19019\n",
       "3B10      18077\n",
       "18F20     17395\n",
       "17E10     17303\n",
       "5F30      16366\n",
       "18F30     16327\n",
       "18F40     16260\n",
       "1A30      16233\n",
       "15E40     16216\n",
       "14D20     15894\n",
       "20G30     15481\n",
       "20G50     15380\n",
       "1A10      15266\n",
       "2A50      15247\n",
       "17E40     15116\n",
       "1A50      14774\n",
       "6B10      14283\n",
       "18F50     14171\n",
       "5F40      13904\n",
       "7C20      13772\n",
       "9C40      13253\n",
       "3B50      12774\n",
       "6B30      12751\n",
       "2A30      12669\n",
       "20G10     12645\n",
       "19G40     11837\n",
       "          ...  \n",
       "'2A40         3\n",
       "23J20         3\n",
       "21I40         3\n",
       "'5F10         3\n",
       "'24C10        3\n",
       "'3B30         3\n",
       "'16E40        3\n",
       "'4F10         3\n",
       "21I20         3\n",
       "'11H50        3\n",
       "'UNK          3\n",
       "'11H20        2\n",
       "23J10         2\n",
       "'21I10        2\n",
       "'14D50        2\n",
       "'12D40        2\n",
       "'21I50        2\n",
       "'24C30        2\n",
       "'24C20        1\n",
       "'1A40         1\n",
       "'24C50        1\n",
       "3B20          1\n",
       "'24C40        1\n",
       "'16E30        1\n",
       "'11H40        1\n",
       "7C60          1\n",
       "'8C40         1\n",
       "'23J50        1\n",
       "'8C50         1\n",
       "21I70         1\n",
       "Name: Beat, Length: 356, dtype: int64"
      ]
     },
     "execution_count": 25,
     "metadata": {},
     "output_type": "execute_result"
    }
   ],
   "source": [
    "df1017.Beat.value_counts(dropna=False)  #"
   ]
  },
  {
   "cell_type": "code",
   "execution_count": 26,
   "metadata": {},
   "outputs": [
    {
     "data": {
      "text/plain": [
       "array(['6600-6699', '10100-10199', '11400-11499', '3700-3799',\n",
       "       '5100-5199', '11500-11599', '6400-6499', '2300-2399', '7900-7999',\n",
       "       '8000-8099', '1100-1199', '7300-7399', '6700-6799', '7400-7499',\n",
       "       '7100-7199', '16300-16399', '15800-15899', '10000-10099',\n",
       "       '8100-8199', '3100-3199', '10400-10499', '8900-8999', '6300-6399',\n",
       "       '12600-12699', '1900-1999', '5000-5099', '5800-5899', '5900-5999',\n",
       "       '2700-2799', '1200-1299', '9800-9899', '4300-4399', '7600-7699',\n",
       "       '3000-3099', '7200-7299', '1300-1399', '4200-4299', '9000-9099',\n",
       "       '100-199', '14800-14899', '13300-13399', '0-99', '4800-4899',\n",
       "       '2200-2299', '11800-11899', '3800-3899', '8300-8399', '7500-7599',\n",
       "       '12700-12799', '6100-6199', '10200-10299', '14400-14499',\n",
       "       '8800-8899', '4100-4199', '15500-15599', '9200-9299', '5700-5799',\n",
       "       '6000-6099', '2000-2099', '6200-6299', '9400-9499', '13200-13299',\n",
       "       '7800-7899', '5500-5599', '2400-2499', '12800-12899', '1700-1799',\n",
       "       '900-999', '11000-11099', '12000-12099', '3600-3699', '6500-6599',\n",
       "       '3400-3499', '9900-9999', '15200-15299', '8500-8599',\n",
       "       '10800-10899', '7000-7099', '8400-8499', '4700-4799', '2600-2699',\n",
       "       '6800-6899', '2900-2999', '800-899', '4500-4599', '9300-9399',\n",
       "       '13500-13599', '600-699', '13000-13099', '3900-3999', '5600-5699',\n",
       "       '2100-2199', '8700-8799', '2800-2899', '4900-4999', '1000-1099',\n",
       "       '300-399', '4400-4499', '1800-1899', '3500-3599', '11100-11199',\n",
       "       '400-499', '15600-15699', '200-299', '10300-10399', '2500-2599',\n",
       "       '8200-8299', '700-799', '1500-1599', '7700-7799', '6900-6999',\n",
       "       '10500-10599', '14700-14799', '500-599', '4000-4099', '1400-1499',\n",
       "       '12400-12499', '12300-12399', '5200-5299', '9700-9799',\n",
       "       '11300-11399', '16900-16999', '1600-1699', '14300-14399',\n",
       "       '16200-16299', '14600-14699', '9500-9599', '8600-8699',\n",
       "       '11700-11799', '5400-5499', '9600-9699', '14900-14999',\n",
       "       '3300-3399', '3200-3299', '12900-12999', '10600-10699',\n",
       "       '9100-9199', '10900-10999', '14200-14299', '16400-16499',\n",
       "       '16100-16199', '12200-12299', '11900-11999', '13400-13499',\n",
       "       '11200-11299', '17000-17099', '16000-16099', '5300-5399',\n",
       "       '4600-4699', '12500-12599', '14100-14199', '14000-14099',\n",
       "       '13700-13799', '17400-17499', '15300-15399', '10700-10799',\n",
       "       '19200-19299', '13100-13199', '11600-11699', '17200-17299',\n",
       "       '15900-15999', '24000-24099', '12100-12199', '17300-17399',\n",
       "       '15400-15499', '27800-27899', '13800-13899', '18200-18299',\n",
       "       '18100-18199', '17500-17599', '13600-13699', '17100-17199',\n",
       "       '23200-23299', '20900-20999', '14500-14599', '23400-23499',\n",
       "       '15100-15199', '17600-17699', '15700-15799', '19600-19699',\n",
       "       '22300-22399', '19100-19199', '13900-13999', '18800-18899',\n",
       "       '15000-15099', '16800-16899', '24500-24599', '18300-18399',\n",
       "       '16500-16599', '22600-22699', '17700-17799', '19400-19499',\n",
       "       '17900-17999', '17800-17899', '16600-16699', '22200-22299',\n",
       "       '19000-19099', '22700-22799', '18700-18799', '16700-16799',\n",
       "       '22900-22999', '24100-24199', '18000-18099', '23800-23899',\n",
       "       '22100-22199', '18600-18699', '19500-19599', '23000-23099',\n",
       "       '22500-22599', '21800-21899', '20700-20799', '29500-29599',\n",
       "       '25000-25099', '24800-24899', '21400-21499', '23500-23599',\n",
       "       '23300-23399', '21900-21999', '20000-20099', '18500-18599',\n",
       "       '18400-18499', '21100-21199', '29800-29899', '23700-23799',\n",
       "       '24200-24299', '20800-20899', '22400-22499', '22800-22899',\n",
       "       '23100-23199', '21200-21299', '20300-20399', '21500-21599',\n",
       "       '22000-22099', '24600-24699', 'UNK', '18900-18999', '21600-21699',\n",
       "       '24400-24499', '23900-23999', '26200-26299', '19300-19399',\n",
       "       '19900-19999', '24300-24399', '20100-20199', '27900-27999',\n",
       "       '25300-25399', '20500-20599', '26000-26099', '34200-34299',\n",
       "       '27600-27699', '19700-19799', '26800-26899', '21000-21099',\n",
       "       '19800-19899', '23600-23699', '24900-24999', '20200-20299',\n",
       "       '21700-21799', '31700-31799', '25800-25899', '272000-272099',\n",
       "       '26400-26499', '20400-20499', '27500-27599', '29100-29199',\n",
       "       '20600-20699', '27100-27199', '83000-83099', '42000-42099',\n",
       "       '31300-31399', '28400-28499', '77300-77399', '21300-21399',\n",
       "       '99900-99999', '29900-29999', '27400-27499', '26700-26799',\n",
       "       '25600-25699', '100000-100099', '25400-25499', '37000-37099',\n",
       "       '27700-27799', '30900-30999', '26600-26699', '30000-30099',\n",
       "       '25900-25999', '25200-25299', '133300-133399', '25500-25599',\n",
       "       '29600-29699', '57000-57099', '111500-111599', '80300-80399',\n",
       "       '74000-74099', '96000-96099', '27200-27299', '25100-25199', nan,\n",
       "       '124000-124099', '83100-83199', '32600-32699', '140500-140599',\n",
       "       '31000-31099', '31400-31499', '34800-34899', '38700-38799',\n",
       "       '33400-33499', '33000-33099', '35000-35099', '28000-28099',\n",
       "       '105800-105899', '27000-27099', '24700-24799', '29300-29399',\n",
       "       '30500-30599', '28800-28899', '49000-49099', '27300-27399',\n",
       "       '72200-72299', '29000-29099', '26900-26999', '171300-171399',\n",
       "       '50000-50099', '61400-61499', '28200-28299', '202600-202699',\n",
       "       '28600-28699', '28100-28199', '26300-26399', '79000-79099',\n",
       "       '33100-33199', '55000-55099', '60000-60099', '125100-125199',\n",
       "       '31900-31999', '30400-30499', '32100-32199', '29200-29299',\n",
       "       '32000-32099', '30600-30699', '25700-25799', '66200-66299',\n",
       "       '111100-111199', '112600-112699', '110600-110699',\n",
       "       '1.1103e+006-1.1104e+006', '28900-28999', '175500-175599'],\n",
       "      dtype=object)"
      ]
     },
     "execution_count": 26,
     "metadata": {},
     "output_type": "execute_result"
    }
   ],
   "source": [
    "df1017.BlockRange.unique()  #"
   ]
  },
  {
   "cell_type": "code",
   "execution_count": 27,
   "metadata": {},
   "outputs": [
    {
     "data": {
      "text/plain": [
       "900-999          13868\n",
       "100-199          13831\n",
       "800-899          11944\n",
       "700-799          11737\n",
       "2400-2499        11510\n",
       "2300-2399        11431\n",
       "1000-1099        11268\n",
       "9400-9499        11255\n",
       "7900-7999        11138\n",
       "300-399          11007\n",
       "4400-4499        10895\n",
       "200-299          10876\n",
       "500-599          10511\n",
       "9500-9599        10510\n",
       "1500-1599        10386\n",
       "2500-2599        10176\n",
       "1300-1399        10121\n",
       "7500-7599        10042\n",
       "2700-2799         9920\n",
       "1100-1199         9854\n",
       "600-699           9645\n",
       "1400-1499         9608\n",
       "1200-1299         9558\n",
       "5000-5099         9527\n",
       "5800-5899         9339\n",
       "2100-2199         9114\n",
       "2000-2099         8992\n",
       "5900-5999         8981\n",
       "6000-6099         8962\n",
       "400-499           8957\n",
       "                 ...  \n",
       "28400-28499          1\n",
       "110600-110699        1\n",
       "77300-77399          1\n",
       "35000-35099          1\n",
       "31300-31399          1\n",
       "60000-60099          1\n",
       "175500-175599        1\n",
       "111100-111199        1\n",
       "105800-105899        1\n",
       "31400-31499          1\n",
       "30500-30599          1\n",
       "79000-79099          1\n",
       "42000-42099          1\n",
       "112600-112699        1\n",
       "80300-80399          1\n",
       "202600-202699        1\n",
       "55000-55099          1\n",
       "26800-26899          1\n",
       "140500-140599        1\n",
       "61400-61499          1\n",
       "33000-33099          1\n",
       "25900-25999          1\n",
       "32600-32699          1\n",
       "29900-29999          1\n",
       "26700-26799          1\n",
       "83100-83199          1\n",
       "125100-125199        1\n",
       "171300-171399        1\n",
       "57000-57099          1\n",
       "32000-32099          1\n",
       "Name: BlockRange, Length: 348, dtype: int64"
      ]
     },
     "execution_count": 27,
     "metadata": {},
     "output_type": "execute_result"
    }
   ],
   "source": [
    "df1017.BlockRange.value_counts(dropna=False)  #"
   ]
  },
  {
   "cell_type": "code",
   "execution_count": 28,
   "metadata": {},
   "outputs": [
    {
     "data": {
      "text/plain": [
       "array(['HEFFERNAN', 'LUCORE', 'CARVEL', ..., 'GREEN LAKER', 'STAFFORD RD',\n",
       "       'TEALGATE'], dtype=object)"
      ]
     },
     "execution_count": 28,
     "metadata": {},
     "output_type": "execute_result"
    }
   ],
   "source": [
    "df1017.StreetName.unique()  #"
   ]
  },
  {
   "cell_type": "code",
   "execution_count": 29,
   "metadata": {},
   "outputs": [
    {
     "data": {
      "text/plain": [
       "WESTHEIMER                                                                                                                                                27503\n",
       "GULF                                                                                                                                                      14140\n",
       "GESSNER                                                                                                                                                   13904\n",
       "NORTH                                                                                                                                                     12630\n",
       "RICHMOND                                                                                                                                                  12376\n",
       "KATY                                                                                                                                                      10126\n",
       "SOUTHWEST                                                                                                                                                  9929\n",
       "MAIN                                                                                                                                                       9240\n",
       "BISSONNET                                                                                                                                                  9010\n",
       "NORTHWEST                                                                                                                                                  8830\n",
       "BELLAIRE                                                                                                                                                   8612\n",
       "BELLFORT                                                                                                                                                   7693\n",
       "FM 1960                                                                                                                                                    7428\n",
       "BEECHNUT                                                                                                                                                   7066\n",
       "GREENS                                                                                                                                                     6999\n",
       "FONDREN                                                                                                                                                    6908\n",
       "POST OAK                                                                                                                                                   6658\n",
       "TIDWELL                                                                                                                                                    6374\n",
       "BROADWAY                                                                                                                                                   6254\n",
       "LITTLE YORK                                                                                                                                                6253\n",
       "EAST                                                                                                                                                       5762\n",
       "SHEPHERD                                                                                                                                                   5591\n",
       "WEST SAM HOUSTON                                                                                                                                           5559\n",
       "SAM HOUSTON                                                                                                                                                5213\n",
       "AIRLINE                                                                                                                                                    5062\n",
       "KIRBY                                                                                                                                                      4905\n",
       "LOOP                                                                                                                                                       4621\n",
       "HILLCROFT                                                                                                                                                  4472\n",
       "FANNIN                                                                                                                                                     4463\n",
       "WAYSIDE                                                                                                                                                    4251\n",
       "                                                                                                                                                          ...  \n",
       "HAMMERLY BLVD APT 290                                                                                                                                         1\n",
       "ENCHANTED OAKS DRIVE                                                                                                                                          1\n",
       "CASSELBERRY                                                                                                                                                   1\n",
       "2 ERIE ST APT 131                                                                                                                                             1\n",
       "HEMBREE PARK DR STE                                                                                                                                           1\n",
       "JOPLIN                                                                                                                                                        1\n",
       "ALLEN PKWY LEASING OFFICE                                                                                                                                     1\n",
       "FLINT RIDGE                                                                                                                                                   1\n",
       "1023 W 15TH 1                                                                                                                                                 1\n",
       "MERRITT LANE                                                                                                                                                  1\n",
       "BRIARGATE LN.                                                                                                                                                 1\n",
       "KENSWICK PARK DRIVE                                                                                                                                           1\n",
       "BLACK CHERRY BEND                                                                                                                                             1\n",
       "NORTH WAYSIDE DR APT 130                                                                                                                                      1\n",
       "MARONEAL                                                                                                                                                      1\n",
       "ENGLESIDE                                                                                                                                                     1\n",
       "ROSHARON                                                                                                                                                      1\n",
       "NORTHPOINT DR 1407                                                                                                                                            1\n",
       "JOHANNA APT 12                                                                                                                                                1\n",
       "BANDELL DR                                                                                                                                                    1\n",
       "BEARDEN PLACE                                                                                                                                                 1\n",
       "OXFORD ST.                                                                                                                                                    1\n",
       "MALL                                                                                                                                                          1\n",
       "MURRY                                                                                                                                                         1\n",
       "DYER LAKE                                                                                                                                                     1\n",
       "FLEMING                                                                                                                                                       1\n",
       "TWIN OAKS ST                                                                                                                                                  1\n",
       "VALLEY VIEW LN                                                                                                                                                1\n",
       "DAWN VALE                                                                                                                                                     1\n",
       "NaN                                                                                                                                                           1\n",
       "Name: StreetName, Length: 27796, dtype: int64"
      ]
     },
     "execution_count": 29,
     "metadata": {},
     "output_type": "execute_result"
    }
   ],
   "source": [
    "df1017.StreetName.value_counts(dropna=False)  # name cleanup too!"
   ]
  },
  {
   "cell_type": "code",
   "execution_count": 30,
   "metadata": {},
   "outputs": [
    {
     "data": {
      "text/plain": [
       "array(['Murder', 'Rape', 'Robbery', 'Aggravated Assault', 'Burglary',\n",
       "       'Auto Theft', 'Theft', 1, 'AutoTheft', 'Burglary                 ',\n",
       "       'Robbery                  ', 'Theft                    ',\n",
       "       'AutoTheft                ', 'Aggravated Assault       ',\n",
       "       'Rape                     ', 'Murder                   ', nan],\n",
       "      dtype=object)"
      ]
     },
     "execution_count": 30,
     "metadata": {},
     "output_type": "execute_result"
    }
   ],
   "source": [
    "df1017['Offense Type'].unique()  # good"
   ]
  },
  {
   "cell_type": "code",
   "execution_count": 31,
   "metadata": {},
   "outputs": [
    {
     "data": {
      "text/plain": [
       "Theft                        548360\n",
       "Burglary                     180870\n",
       "Auto Theft                    93267\n",
       "Aggravated Assault            81813\n",
       "Robbery                       75962\n",
       "Rape                           7000\n",
       "AutoTheft                      6649\n",
       "Theft                          6011\n",
       "Murder                         1903\n",
       "Burglary                       1371\n",
       "Aggravated Assault             1158\n",
       "AutoTheft                       978\n",
       "Robbery                         822\n",
       "Rape                            129\n",
       "Murder                           23\n",
       "1                                14\n",
       "NaN                               1\n",
       "Name: Offense Type, dtype: int64"
      ]
     },
     "execution_count": 31,
     "metadata": {},
     "output_type": "execute_result"
    }
   ],
   "source": [
    "df1017['Offense Type'].value_counts(dropna=False) # good, that its clean not that there were 73591 thefts!! "
   ]
  },
  {
   "cell_type": "code",
   "execution_count": 32,
   "metadata": {},
   "outputs": [
    {
     "data": {
      "text/plain": [
       "array(['05W', '20R', '13R', '20A', '18A', '100', '05E', '20D', '18T',\n",
       "       '250', '040', '13A', '20P', '22M', '140', '070', '14V', '05V',\n",
       "       '18R', '18C', '18G', '18O', '18M', '18S', '13B', '05D', '22E',\n",
       "       '240', '18U', '13S', '13H', '210', '120', '080', '24A', '24J',\n",
       "       '24E', '03B', '05Q', '05B', '05Z', '18N', '05L', '05C', '24F',\n",
       "       '09D', '24P', '23S', '18P', '18H', '01K', '20G', '05P', '05F',\n",
       "       '02B', '09P', '05R', '05O', '22P', '11R', '170', '20M', '20L',\n",
       "       '05M', '18B', '09H', '20V', '22D', '18L', '05X', '13T', '20W',\n",
       "       '03S', '18D', '20C', '150', '18W', '22H', '20N', '22C', '05Y',\n",
       "       '20H', '25V', '05A', '190', '24G', '24V', '24C', '05G', '12V',\n",
       "       '09R', '21V', '060', '19V', '05H', '05U', '11S', '05N', '11V',\n",
       "       '24S', '11G', '160', '05T', '01T', '01A', '05S', '01B', '22U',\n",
       "       '24B', '---', '24T', '11L', '02C', '11P', '24M', '01P', '02S',\n",
       "       '25R', '04V', '11F', '22V', '01R', '11C', 'N', '06', '09V', '23C',\n",
       "       'Road, Street, or Sidewalk', 'Residence or House',\n",
       "       'Construction Site', nan, 'Apartment', 'Other Parking Lot',\n",
       "       \"Physician, Doctor, Dentist's Office\", 'Apartment Parking Lot',\n",
       "       'Driveway', 'Warehouse', 'Commercial Parking Lot or Garage',\n",
       "       'Service or Gas Station', 'Bus Stop',\n",
       "       'Convenience Store Parking Lot',\n",
       "       'Parks and Recreation, Zoo, Swimming Pool', 'Hospital',\n",
       "       'Miscellaneous Business (Non-Specific)',\n",
       "       'Vacant Single Occ Resd(House,Townhs,Dplex)',\n",
       "       'Other, Unknown, or Not Listed', 'Convenience Store',\n",
       "       'Bar or Night Club Parking Lot', 'Field, Woods, Forest, Park',\n",
       "       'Restaurant or Cafeteria', 'Auto Repair',\n",
       "       'Stadium, Sports Arena, Race Track',\n",
       "       'Government or Public Building', 'Bar or Night Club',\n",
       "       'Commercial Building', 'Factory, Manufacturing, or Industrial',\n",
       "       'Grocery Store or Supermarket', 'Light Rail Platform',\n",
       "       'Office Building', 'Garage or Carport', 'Bus Station',\n",
       "       'Multi-Plex Home (Duplex,Triplex Etc.)', 'Hotel, Motel, Inn, Etc.',\n",
       "       'Clothing Store', 'Social Services or Public Charities',\n",
       "       'Department or Discount Store',\n",
       "       'Vacant School or College/University', 'University or College',\n",
       "       'Vacant Church, Synagogue, or Temple',\n",
       "       'Vehicle/Auto Sales/Lease/Auto Parts Store',\n",
       "       'Church, Synagogue, or Temple Parking Lot',\n",
       "       'Rental Storage Facility', 'Drug Store or Medical Supply',\n",
       "       'Park and Ride Terminal', 'Liquor Store',\n",
       "       'Specialty Store (Non-Specific)', 'Hospital Parking Lot',\n",
       "       'Restaurant or Cafeteria Parking Lot',\n",
       "       'Hotel or Motel Parking Lot',\n",
       "       'Gym, Recreat, Club House, Indoor Pool, Spa', 'Private School',\n",
       "       'Strip Business Center Parking Lot',\n",
       "       'Laundry, Dry Cleaners, Washaterias', 'Barber And Beauty Shops',\n",
       "       'Furniture, Appliances, Radios, TV Store',\n",
       "       'Church, Synagogue, or Temple',\n",
       "       'Grocery Store or Supermarket Parking Lot',\n",
       "       'Electronics Store, Electrical Supplies', 'Pool Hall or Game Room',\n",
       "       'Vacant Restaurant', 'Pawn, Resale Shop, or Flea Market',\n",
       "       'Daycare, Child Care, or Kindergarten', 'Check Cashing Places',\n",
       "       'Maintenance or Building Services', 'Body Shop',\n",
       "       'Apartment Rental Office', 'Highway or Freeway',\n",
       "       'Vacant Storage Fac (Barn,Garage,Warehouse)', 'High School',\n",
       "       'Mobile Home', 'Car Wash', 'Mall Parking Lot', 'Police Station',\n",
       "       'Utility Company, Electric, Gas, Water',\n",
       "       'Adult Book Store or Newsstand', 'Bank',\n",
       "       'Theatres, Dinner Theaters, Auditoriums',\n",
       "       'Amusement Park, Bowling Alley, Skate Rink', 'Mall Common Area',\n",
       "       'Condominium', 'Nursing Home',\n",
       "       'Vacant Other Residential (Apartment,Dorms)',\n",
       "       'Laundry or Dry Cleaners Parking Lot', 'Sexually Oriented Club',\n",
       "       'Bank or Savings Institution Parking Lot',\n",
       "       'Commercial Or Training School', 'Vacant Building (Commercial)',\n",
       "       'Convention Center or Exhibit Halls',\n",
       "       'Sexually Oriented Business Parking Lot', 'Freeway Service Road',\n",
       "       'Jail or Prison', 'Apartment Laundry',\n",
       "       'Garden Supply, Nursery, or Florist',\n",
       "       'Sporting Goods or Gun Shops',\n",
       "       'Vacant Other Out Build/Monument/UnderConst',\n",
       "       'Video Rental & Sales', 'Alley', 'Middle School',\n",
       "       'Savings and Loan Institutions', 'Libraries, Museums', 'High Rise',\n",
       "       'Rehabilitation Center', 'Liquor Store Parking Lot',\n",
       "       'Toys, Arts Craft,Musical, Bike,Pet Stores', 'Elementary School',\n",
       "       'Book, Record, Stationary, Office Supplies', 'Airport Terminal',\n",
       "       'Lake, Pond, Waterway, Bayou, River', 'Fire Station',\n",
       "       'Light Rail (Metro Rail) Vehicle', 'Credit Union',\n",
       "       'Jewelry Stores', 'Vacant Grocery Store or Supermarket',\n",
       "       'Vacant Hotel, Motel, Etc.', 'Railroad Track or Right Of Way',\n",
       "       'Package Facility (FedEx,UPS,DHL)',\n",
       "       'Vacant Government or Public Building',\n",
       "       'Train (Not Metro) Terminal', 'Tollway',\n",
       "       'Vacant Industrial or Manufacturing Blding',\n",
       "       'Gym, Recreat, Club House, Indoor Pool',\n",
       "       'Marine Vehicle Sales, Boats, Sailboats', 'Vacant Hospital',\n",
       "       'Adult Novelty Store', 'Illicit Massage Parlor or Spa',\n",
       "       'Not Listed', 'Adult Theater/Arcade', 'Modeling Studio', 'Cantina',\n",
       "       'Vacant Jail or Prison', '13C',\n",
       "       'Barber And Beauty Shops                                                                                                                               ',\n",
       "       'Laundry, Dry Cleaners, Washaterias                                                                                                                    ',\n",
       "       'Light Rail Platform                                                                                                                                   ',\n",
       "       'Church, Synagogue, or Temple                                                                                                                          ',\n",
       "       'Commercial Parking Lot or Garage                                                                                                                      ',\n",
       "       'Other, Unknown, or Not Listed                                                                                                                         ',\n",
       "       'Specialty Store (Non-Specific)                                                                                                                        ',\n",
       "       'Residence or House                                                                                                                                    ',\n",
       "       'Road, Street, or Sidewalk                                                                                                                             ',\n",
       "       'Auto Repair                                                                                                                                           ',\n",
       "       'Miscellaneous Business (Non-Specific)                                                                                                                 ',\n",
       "       'Apartment                                                                                                                                             ',\n",
       "       'Other Parking Lot                                                                                                                                     ',\n",
       "       'Restaurant or Cafeteria Parking Lot                                                                                                                   ',\n",
       "       'Convenience Store                                                                                                                                     ',\n",
       "       'Construction Site                                                                                                                                     ',\n",
       "       'Condominium                                                                                                                                           ',\n",
       "       'Liquor Store Parking Lot                                                                                                                              ',\n",
       "       'Commercial Building                                                                                                                                   ',\n",
       "       'Parks and Recreation, Zoo, Swimming Pool                                                                                                              ',\n",
       "       'Apartment Parking Lot                                                                                                                                 ',\n",
       "       'Strip Business Center Parking Lot                                                                                                                     ',\n",
       "       'Service or Gas Station                                                                                                                                ',\n",
       "       'Garage or Carport                                                                                                                                     ',\n",
       "       'Driveway                                                                                                                                              ',\n",
       "       'Restaurant or Cafeteria                                                                                                                               ',\n",
       "       'Convenience Store Parking Lot                                                                                                                         ',\n",
       "       'Department or Discount Store                                                                                                                          ',\n",
       "       'Light Rail (Metro Rail) Vehicle                                                                                                                       ',\n",
       "       'Bar or Night Club                                                                                                                                     ',\n",
       "       'Vacant Industrial or Manufacturing Blding                                                                                                             ',\n",
       "       'Bar or Night Club Parking Lot                                                                                                                         ',\n",
       "       'Grocery Store or Supermarket                                                                                                                          ',\n",
       "       'Freeway Service Road                                                                                                                                  ',\n",
       "       'Bus Station                                                                                                                                           ',\n",
       "       'Bank                                                                                                                                                  ',\n",
       "       'Vehicle/Auto Sales/Lease/Auto Parts Store                                                                                                             ',\n",
       "       'Apartment Rental Office                                                                                                                               ',\n",
       "       'Vacant School or College/University                                                                                                                   ',\n",
       "       'Bus Stop                                                                                                                                              ',\n",
       "       'Grocery Store or Supermarket Parking Lot                                                                                                              ',\n",
       "       'Gym, Recreat, Club House, Indoor Pool                                                                                                                 ',\n",
       "       'Park and Ride Terminal                                                                                                                                ',\n",
       "       'Hotel or Motel Parking Lot                                                                                                                            ',\n",
       "       'Multi-Plex Home (Duplex,Triplex Etc.)                                                                                                                 ',\n",
       "       'Liquor Store                                                                                                                                          ',\n",
       "       'High School                                                                                                                                           ',\n",
       "       'Vacant Single Occ Resd(House,Townhs,Dplex)                                                                                                            ',\n",
       "       'Bank or Savings Institution Parking Lot                                                                                                               ',\n",
       "       'Field, Woods, Forest, Park                                                                                                                            ',\n",
       "       'Nursing Home                                                                                                                                          ',\n",
       "       'University or College                                                                                                                                 ',\n",
       "       'Hospital Parking Lot                                                                                                                                  ',\n",
       "       'Hospital                                                                                                                                              ',\n",
       "       'Highway or Freeway                                                                                                                                    ',\n",
       "       'Hotel, Motel, Inn, Etc.                                                                                                                               ',\n",
       "       'Warehouse                                                                                                                                             ',\n",
       "       'Drug Store or Medical Supply                                                                                                                          ',\n",
       "       'Amusement Park, Bowling Alley, Skate Rink                                                                                                             ',\n",
       "       'Government or Public Building                                                                                                                         ',\n",
       "       'Libraries, Museums                                                                                                                                    ',\n",
       "       'Daycare, Child Care, or Kindergarten                                                                                                                  ',\n",
       "       'Pawn, Resale Shop, or Flea Market                                                                                                                     ',\n",
       "       'Clothing Store                                                                                                                                        ',\n",
       "       \"Physician, Doctor, Dentist's Office                                                                                                                   \",\n",
       "       'Mall Parking Lot                                                                                                                                      ',\n",
       "       'Maintenance or Building Services                                                                                                                      ',\n",
       "       'Check Cashing Places                                                                                                                                  ',\n",
       "       'Factory, Manufacturing, or Industrial                                                                                                                 ',\n",
       "       'Electronics Store, Electrical Supplies                                                                                                                ',\n",
       "       'Office Building                                                                                                                                       ',\n",
       "       'Car Wash                                                                                                                                              ',\n",
       "       'Vacant Other Residential (Apartment,Dorms)                                                                                                            ',\n",
       "       'Laundry or Dry Cleaners Parking Lot                                                                                                                   ',\n",
       "       'Pool Hall or Game Room                                                                                                                                ',\n",
       "       'Railroad Track or Right Of Way                                                                                                                        ',\n",
       "       ' Not Listed',\n",
       "       'Airport Terminal                                                                                                                                      ',\n",
       "       'Church, Synagogue, or Temple Parking Lot                                                                                                              ',\n",
       "       'Savings and Loan Institutions                                                                                                                         ',\n",
       "       'Sporting Goods or Gun Shops                                                                                                                           ',\n",
       "       'Body Shop                                                                                                                                             ',\n",
       "       'Mall Common Area                                                                                                                                      ',\n",
       "       'Rental Storage Facility                                                                                                                               ',\n",
       "       'Theatres, Dinner Theaters, Auditoriums                                                                                                                ',\n",
       "       'Mobile Home                                                                                                                                           ',\n",
       "       'Vacant Church, Synagogue, or Temple                                                                                                                   ',\n",
       "       'Vacant Storage Fac (Barn,Garage,Warehouse)                                                                                                            ',\n",
       "       'Elementary School                                                                                                                                     ',\n",
       "       'Alley                                                                                                                                                 ',\n",
       "       'Lake, Pond, Waterway, Bayou, River                                                                                                                    ',\n",
       "       'Middle School                                                                                                                                         ',\n",
       "       'Private School                                                                                                                                        ',\n",
       "       'Stadium, Sports Arena, Race Track                                                                                                                     ',\n",
       "       'Vacant Building (Commercial)                                                                                                                          ',\n",
       "       'Apartment Laundry                                                                                                                                     ',\n",
       "       'Jewelry Stores                                                                                                                                        ',\n",
       "       'Adult Novelty Store                                                                                                                                   ',\n",
       "       'Book, Record, Stationary, Office Supplies                                                                                                             ',\n",
       "       'Sexually Oriented Club                                                                                                                                ',\n",
       "       'Commercial Or Training School                                                                                                                         ',\n",
       "       'Toys, Arts Craft,Musical, Bike,Pet Stores                                                                                                             ',\n",
       "       'Adult Book Store or Newsstand                                                                                                                         ',\n",
       "       'Vacant Grocery Store or Supermarket                                                                                                                   ',\n",
       "       'Garden Supply, Nursery, or Florist                                                                                                                    ',\n",
       "       'Rehabilitation Center                                                                                                                                 ',\n",
       "       'Convention Center or Exhibit Halls                                                                                                                    ',\n",
       "       'Social Services or Public Charities                                                                                                                   ',\n",
       "       'Jail or Prison                                                                                                                                        ',\n",
       "       'Vacant Other Out Build/Monument/UnderConst                                                                                                            ',\n",
       "       'Vacant Restaurant                                                                                                                                     ',\n",
       "       'Sexually Oriented Business Parking Lot                                                                                                                ',\n",
       "       'Utility Company, Electric, Gas, Water                                                                                                                 ',\n",
       "       'Police Station                                                                                                                                        ',\n",
       "       'Train (Not Metro) Terminal                                                                                                                            ',\n",
       "       'Vacant Government or Public Building                                                                                                                  ',\n",
       "       'Furniture, Appliances, Radios, TV Store                                                                                                               ',\n",
       "       'Vacant Hotel, Motel, Etc.                                                                                                                             ',\n",
       "       'High Rise                                                                                                                                             ',\n",
       "       'Package Facility (FedEx,UPS,DHL)                                                                                                                      ',\n",
       "       'Contra-Flow, Managed, or HOV Lanes', 'Vacant Bank', 'RES', '02V'],\n",
       "      dtype=object)"
      ]
     },
     "execution_count": 32,
     "metadata": {},
     "output_type": "execute_result"
    }
   ],
   "source": [
    "df1017.Premise.unique()  # lots of weird values"
   ]
  },
  {
   "cell_type": "code",
   "execution_count": 34,
   "metadata": {},
   "outputs": [
    {
     "data": {
      "text/plain": [
       "20A                                                                                                                                                       74377\n",
       "20R                                                                                                                                                       74346\n",
       "18A                                                                                                                                                       65458\n",
       "Residence or House                                                                                                                                        54178\n",
       "Apartment Parking Lot                                                                                                                                     44506\n",
       "13R                                                                                                                                                       41659\n",
       "Road, Street, or Sidewalk                                                                                                                                 39009\n",
       "Apartment                                                                                                                                                 38773\n",
       "20D                                                                                                                                                       37014\n",
       "NaN                                                                                                                                                       33597\n",
       "18O                                                                                                                                                       30042\n",
       "080                                                                                                                                                       24960\n",
       "18R                                                                                                                                                       16952\n",
       "250                                                                                                                                                       16634\n",
       "Driveway                                                                                                                                                  15262\n",
       "Restaurant or Cafeteria Parking Lot                                                                                                                       15169\n",
       "Other Parking Lot                                                                                                                                         14169\n",
       "18P                                                                                                                                                       13878\n",
       "120                                                                                                                                                       13173\n",
       "Department or Discount Store                                                                                                                              12866\n",
       "18T                                                                                                                                                       11041\n",
       "Miscellaneous Business (Non-Specific)                                                                                                                     10409\n",
       "Commercial Parking Lot or Garage                                                                                                                          10087\n",
       "Service or Gas Station                                                                                                                                     9294\n",
       "210                                                                                                                                                        9108\n",
       "Grocery Store or Supermarket                                                                                                                               7773\n",
       "23S                                                                                                                                                        7680\n",
       "18M                                                                                                                                                        7476\n",
       "Strip Business Center Parking Lot                                                                                                                          7351\n",
       "Other, Unknown, or Not Listed                                                                                                                              6943\n",
       "                                                                                                                                                          ...  \n",
       "Utility Company, Electric, Gas, Water                                                                                                                         3\n",
       "Garden Supply, Nursery, or Florist                                                                                                                            3\n",
       "Vacant School or College/University                                                                                                                           3\n",
       "Adult Book Store or Newsstand                                                                                                                                 3\n",
       "Social Services or Public Charities                                                                                                                           2\n",
       "Vacant Grocery Store or Supermarket                                                                                                                           2\n",
       "Savings and Loan Institutions                                                                                                                                 2\n",
       "Jail or Prison                                                                                                                                                2\n",
       "University or College                                                                                                                                         2\n",
       "Railroad Track or Right Of Way                                                                                                                                2\n",
       "Police Station                                                                                                                                                2\n",
       "Vacant Other Out Build/Monument/UnderConst                                                                                                                    2\n",
       "Modeling Studio                                                                                                                                               2\n",
       "Vacant Restaurant                                                                                                                                             2\n",
       "Vacant Hotel, Motel, Etc.                                                                                                                                     1\n",
       "Sexually Oriented Business Parking Lot                                                                                                                        1\n",
       "Book, Record, Stationary, Office Supplies                                                                                                                     1\n",
       "Contra-Flow, Managed, or HOV Lanes                                                                                                                            1\n",
       "Rehabilitation Center                                                                                                                                         1\n",
       "Vacant Church, Synagogue, or Temple                                                                                                                           1\n",
       "RES                                                                                                                                                           1\n",
       "Toys, Arts Craft,Musical, Bike,Pet Stores                                                                                                                     1\n",
       "Train (Not Metro) Terminal                                                                                                                                    1\n",
       "Adult Novelty Store                                                                                                                                           1\n",
       "High Rise                                                                                                                                                     1\n",
       "Vacant Jail or Prison                                                                                                                                         1\n",
       "Vacant Government or Public Building                                                                                                                          1\n",
       "Vacant Industrial or Manufacturing Blding                                                                                                                     1\n",
       "Package Facility (FedEx,UPS,DHL)                                                                                                                              1\n",
       "02V                                                                                                                                                           1\n",
       "Name: Premise, Length: 385, dtype: int64"
      ]
     },
     "execution_count": 34,
     "metadata": {},
     "output_type": "execute_result"
    }
   ],
   "source": [
    "df1017.Premise.value_counts(dropna=False)  #"
   ]
  },
  {
   "cell_type": "code",
   "execution_count": 35,
   "metadata": {},
   "outputs": [
    {
     "data": {
      "text/plain": [
       "array([ 1.,  2.,  3.,  4.,  7.,  5.,  6., 12.,  8., 17., 10., 16., 11.,\n",
       "        9., nan, 33., 13., 29.])"
      ]
     },
     "execution_count": 35,
     "metadata": {},
     "output_type": "execute_result"
    }
   ],
   "source": [
    "df1017['# offenses'].unique()"
   ]
  },
  {
   "cell_type": "code",
   "execution_count": 37,
   "metadata": {},
   "outputs": [
    {
     "data": {
      "text/plain": [
       " 1.0     983540\n",
       " 2.0      10459\n",
       "NaN       10320\n",
       " 3.0       1600\n",
       " 4.0        243\n",
       " 5.0         79\n",
       " 6.0         45\n",
       " 7.0         15\n",
       " 8.0         10\n",
       " 9.0          4\n",
       " 13.0         4\n",
       " 16.0         3\n",
       " 10.0         3\n",
       " 17.0         2\n",
       " 33.0         1\n",
       " 29.0         1\n",
       " 11.0         1\n",
       " 12.0         1\n",
       "Name: # offenses, dtype: int64"
      ]
     },
     "execution_count": 37,
     "metadata": {},
     "output_type": "execute_result"
    }
   ],
   "source": [
    "df1017['# offenses'].value_counts(dropna=False)  # "
   ]
  },
  {
   "cell_type": "code",
   "execution_count": 38,
   "metadata": {},
   "outputs": [
    {
     "data": {
      "text/plain": [
       "array([0, 20, 22, 1, 23, 12, 8, 16, 17, 14, 2, 19, 6, 7, 5, 18, 9, 4, 11,\n",
       "       13, 21, 10, 3, 15, 24, '07', '05', '22', '15', '10', '19', '09',\n",
       "       '08', '14', \"'15\", '02', '12', \"'07\", '16', \"'19\", \"'18\", '21',\n",
       "       '17', '11', '13', '18', '06', \"'00\", \"'05\", \"'13\", \"'14\", \"'22\",\n",
       "       \"'23\", '04', '03', '23', '20', '00', \"'20\", \"'16\", '01', \"'17\",\n",
       "       \"'06\", \"'03\", \"'01\", \"'09\", \"'02\", \"'10\", \"'11\", \"'12\", \"'21\",\n",
       "       \"'08\", \"'04\", nan], dtype=object)"
      ]
     },
     "execution_count": 38,
     "metadata": {},
     "output_type": "execute_result"
    }
   ],
   "source": [
    "df1017.Hour.unique()"
   ]
  },
  {
   "cell_type": "code",
   "execution_count": 39,
   "metadata": {},
   "outputs": [
    {
     "data": {
      "text/plain": [
       "18     57008\n",
       "12     56922\n",
       "17     55531\n",
       "15     54937\n",
       "16     53489\n",
       "19     52654\n",
       "14     51973\n",
       "20     51060\n",
       "13     49339\n",
       "22     48165\n",
       "10     47803\n",
       "11     47177\n",
       "21     47031\n",
       "9      44821\n",
       "8      44571\n",
       "0      43223\n",
       "23     39525\n",
       "7      36164\n",
       "1      24106\n",
       "6      23777\n",
       "2      22343\n",
       "3      17517\n",
       "5      15354\n",
       "4      14223\n",
       "14       412\n",
       "15       410\n",
       "09       405\n",
       "16       400\n",
       "11       383\n",
       "12       377\n",
       "       ...  \n",
       "05       129\n",
       "03       117\n",
       "01       115\n",
       "04        94\n",
       "'00       91\n",
       "'12       73\n",
       "'18       69\n",
       "'22       64\n",
       "'17       56\n",
       "'16       53\n",
       "'20       51\n",
       "'23       48\n",
       "'19       48\n",
       "'21       48\n",
       "'14       44\n",
       "'15       43\n",
       "'08       43\n",
       "'10       40\n",
       "'13       38\n",
       "'11       33\n",
       "'07       29\n",
       "'09       25\n",
       "'02       25\n",
       "'01       24\n",
       "'06       17\n",
       "'05       16\n",
       "'03       12\n",
       "'04       10\n",
       "24         4\n",
       "NaN        1\n",
       "Name: Hour, Length: 74, dtype: int64"
      ]
     },
     "execution_count": 39,
     "metadata": {},
     "output_type": "execute_result"
    }
   ],
   "source": [
    "df1017.Hour.value_counts(dropna=False)"
   ]
  },
  {
   "cell_type": "markdown",
   "metadata": {},
   "source": [
    "# Cleanup\n",
    "## Premise Column\n",
    "\n",
    "- strip empty spaces :not needed"
   ]
  },
  {
   "cell_type": "code",
   "execution_count": 40,
   "metadata": {},
   "outputs": [
    {
     "data": {
      "text/plain": [
       "385"
      ]
     },
     "execution_count": 40,
     "metadata": {},
     "output_type": "execute_result"
    }
   ],
   "source": [
    "len(df1017.Premise.unique())"
   ]
  },
  {
   "cell_type": "code",
   "execution_count": 41,
   "metadata": {},
   "outputs": [
    {
     "name": "stderr",
     "output_type": "stream",
     "text": [
      "/home/salas/miniconda3/envs/springboard/lib/python3.6/site-packages/ipykernel_launcher.py:1: SettingWithCopyWarning: \n",
      "A value is trying to be set on a copy of a slice from a DataFrame.\n",
      "Try using .loc[row_indexer,col_indexer] = value instead\n",
      "\n",
      "See the caveats in the documentation: http://pandas.pydata.org/pandas-docs/stable/indexing.html#indexing-view-versus-copy\n",
      "  \"\"\"Entry point for launching an IPython kernel.\n"
     ]
    }
   ],
   "source": [
    "df1017['Premise'] = df1017['Premise'].str.strip()"
   ]
  },
  {
   "cell_type": "code",
   "execution_count": 42,
   "metadata": {},
   "outputs": [
    {
     "data": {
      "text/plain": [
       "265"
      ]
     },
     "execution_count": 42,
     "metadata": {},
     "output_type": "execute_result"
    }
   ],
   "source": [
    "len(df1017.Premise.unique())"
   ]
  },
  {
   "cell_type": "code",
   "execution_count": 43,
   "metadata": {},
   "outputs": [
    {
     "data": {
      "text/plain": [
       "20A                                          74377\n",
       "20R                                          74346\n",
       "18A                                          65458\n",
       "Residence or House                           55408\n",
       "Apartment Parking Lot                        45677\n",
       "13R                                          41659\n",
       "Road, Street, or Sidewalk                    40121\n",
       "Apartment                                    39826\n",
       "20D                                          37014\n",
       "NaN                                          33597\n",
       "18O                                          30042\n",
       "080                                          24960\n",
       "18R                                          16952\n",
       "250                                          16634\n",
       "Driveway                                     15731\n",
       "Restaurant or Cafeteria Parking Lot          15519\n",
       "Other Parking Lot                            14724\n",
       "18P                                          13878\n",
       "Department or Discount Store                 13194\n",
       "120                                          13173\n",
       "18T                                          11041\n",
       "Miscellaneous Business (Non-Specific)        10685\n",
       "Commercial Parking Lot or Garage             10452\n",
       "Service or Gas Station                        9570\n",
       "210                                           9108\n",
       "Grocery Store or Supermarket                  7931\n",
       "23S                                           7680\n",
       "Strip Business Center Parking Lot             7556\n",
       "18M                                           7476\n",
       "Other, Unknown, or Not Listed                 7197\n",
       "                                             ...  \n",
       "14V                                             36\n",
       "Not Listed                                      35\n",
       "Train (Not Metro) Terminal                      34\n",
       "Jail or Prison                                  33\n",
       "Credit Union                                    32\n",
       "11V                                             29\n",
       "Tollway                                         26\n",
       "Package Facility (FedEx,UPS,DHL)                25\n",
       "Vacant Church, Synagogue, or Temple             25\n",
       "Vacant Industrial or Manufacturing Blding       24\n",
       "22V                                             23\n",
       "25R                                             20\n",
       "Vacant Hospital                                 19\n",
       "Vacant Government or Public Building            18\n",
       "Adult Novelty Store                             15\n",
       "Illicit Massage Parlor or Spa                   12\n",
       "09V                                             12\n",
       "24M                                             11\n",
       "Marine Vehicle Sales, Boats, Sailboats           8\n",
       "01R                                              6\n",
       "Adult Theater/Arcade                             5\n",
       "13C                                              5\n",
       "23C                                              5\n",
       "Cantina                                          4\n",
       "Vacant Bank                                      4\n",
       "Modeling Studio                                  2\n",
       "Vacant Jail or Prison                            1\n",
       "02V                                              1\n",
       "RES                                              1\n",
       "Contra-Flow, Managed, or HOV Lanes               1\n",
       "Name: Premise, Length: 265, dtype: int64"
      ]
     },
     "execution_count": 43,
     "metadata": {},
     "output_type": "execute_result"
    }
   ],
   "source": [
    "df1017.Premise.value_counts(dropna=False)"
   ]
  },
  {
   "cell_type": "markdown",
   "metadata": {},
   "source": [
    "# Cleanup\n",
    "## Offense Type Column\n",
    "\n",
    "preatty clean!\n"
   ]
  },
  {
   "cell_type": "code",
   "execution_count": 44,
   "metadata": {},
   "outputs": [
    {
     "data": {
      "text/plain": [
       "Theft                        548360\n",
       "Burglary                     180870\n",
       "Auto Theft                    93267\n",
       "Aggravated Assault            81813\n",
       "Robbery                       75962\n",
       "Rape                           7000\n",
       "AutoTheft                      6649\n",
       "Theft                          6011\n",
       "Murder                         1903\n",
       "Burglary                       1371\n",
       "Aggravated Assault             1158\n",
       "AutoTheft                       978\n",
       "Robbery                         822\n",
       "Rape                            129\n",
       "Murder                           23\n",
       "1                                14\n",
       "NaN                               1\n",
       "Name: Offense Type, dtype: int64"
      ]
     },
     "execution_count": 44,
     "metadata": {},
     "output_type": "execute_result"
    }
   ],
   "source": [
    "df1017['Offense Type'].value_counts(dropna=False)"
   ]
  },
  {
   "cell_type": "code",
   "execution_count": 45,
   "metadata": {},
   "outputs": [
    {
     "data": {
      "text/plain": [
       "array(['Murder', 'Rape', 'Robbery', 'Aggravated Assault', 'Burglary',\n",
       "       'Auto Theft', 'Theft', 1, 'AutoTheft', 'Burglary                 ',\n",
       "       'Robbery                  ', 'Theft                    ',\n",
       "       'AutoTheft                ', 'Aggravated Assault       ',\n",
       "       'Rape                     ', 'Murder                   ', nan],\n",
       "      dtype=object)"
      ]
     },
     "execution_count": 45,
     "metadata": {},
     "output_type": "execute_result"
    }
   ],
   "source": [
    "df1017['Offense Type'].unique()"
   ]
  },
  {
   "cell_type": "code",
   "execution_count": 46,
   "metadata": {},
   "outputs": [
    {
     "data": {
      "text/plain": [
       "17"
      ]
     },
     "execution_count": 46,
     "metadata": {},
     "output_type": "execute_result"
    }
   ],
   "source": [
    "len(df1017['Offense Type'].unique())"
   ]
  },
  {
   "cell_type": "code",
   "execution_count": 47,
   "metadata": {},
   "outputs": [
    {
     "name": "stderr",
     "output_type": "stream",
     "text": [
      "/home/salas/miniconda3/envs/springboard/lib/python3.6/site-packages/ipykernel_launcher.py:1: SettingWithCopyWarning: \n",
      "A value is trying to be set on a copy of a slice from a DataFrame.\n",
      "Try using .loc[row_indexer,col_indexer] = value instead\n",
      "\n",
      "See the caveats in the documentation: http://pandas.pydata.org/pandas-docs/stable/indexing.html#indexing-view-versus-copy\n",
      "  \"\"\"Entry point for launching an IPython kernel.\n"
     ]
    }
   ],
   "source": [
    "df1017['Offense Type'] = df1017['Offense Type'].str.strip()"
   ]
  },
  {
   "cell_type": "code",
   "execution_count": 48,
   "metadata": {},
   "outputs": [
    {
     "data": {
      "text/plain": [
       "Theft                 554371\n",
       "Burglary              182241\n",
       "Auto Theft             93267\n",
       "Aggravated Assault     82971\n",
       "Robbery                76784\n",
       "AutoTheft               7627\n",
       "Rape                    7129\n",
       "Murder                  1926\n",
       "NaN                       15\n",
       "Name: Offense Type, dtype: int64"
      ]
     },
     "execution_count": 48,
     "metadata": {},
     "output_type": "execute_result"
    }
   ],
   "source": [
    "df1017['Offense Type'].value_counts(dropna=False)"
   ]
  },
  {
   "cell_type": "code",
   "execution_count": 49,
   "metadata": {},
   "outputs": [
    {
     "data": {
      "text/plain": [
       "9"
      ]
     },
     "execution_count": 49,
     "metadata": {},
     "output_type": "execute_result"
    }
   ],
   "source": [
    "len(df1017['Offense Type'].unique())"
   ]
  },
  {
   "cell_type": "markdown",
   "metadata": {},
   "source": [
    "# Cleanup\n",
    "## StreetName Column\n",
    "\n"
   ]
  },
  {
   "cell_type": "code",
   "execution_count": 50,
   "metadata": {},
   "outputs": [
    {
     "data": {
      "text/plain": [
       "WESTHEIMER    27503\n",
       "GULF          14140\n",
       "GESSNER       13904\n",
       "NORTH         12630\n",
       "RICHMOND      12376\n",
       "Name: StreetName, dtype: int64"
      ]
     },
     "execution_count": 50,
     "metadata": {},
     "output_type": "execute_result"
    }
   ],
   "source": [
    "df1017.StreetName.value_counts(dropna=False).head()"
   ]
  },
  {
   "cell_type": "code",
   "execution_count": 51,
   "metadata": {},
   "outputs": [
    {
     "data": {
      "text/plain": [
       "27796"
      ]
     },
     "execution_count": 51,
     "metadata": {},
     "output_type": "execute_result"
    }
   ],
   "source": [
    "len(df1017.StreetName.unique())"
   ]
  },
  {
   "cell_type": "code",
   "execution_count": 52,
   "metadata": {},
   "outputs": [
    {
     "name": "stderr",
     "output_type": "stream",
     "text": [
      "/home/salas/miniconda3/envs/springboard/lib/python3.6/site-packages/ipykernel_launcher.py:1: SettingWithCopyWarning: \n",
      "A value is trying to be set on a copy of a slice from a DataFrame.\n",
      "Try using .loc[row_indexer,col_indexer] = value instead\n",
      "\n",
      "See the caveats in the documentation: http://pandas.pydata.org/pandas-docs/stable/indexing.html#indexing-view-versus-copy\n",
      "  \"\"\"Entry point for launching an IPython kernel.\n"
     ]
    }
   ],
   "source": [
    "df1017['StreetName'] = df1017['StreetName'].str.strip()"
   ]
  },
  {
   "cell_type": "code",
   "execution_count": 53,
   "metadata": {},
   "outputs": [
    {
     "data": {
      "text/plain": [
       "24712"
      ]
     },
     "execution_count": 53,
     "metadata": {},
     "output_type": "execute_result"
    }
   ],
   "source": [
    "len(df1017.StreetName.unique())"
   ]
  },
  {
   "cell_type": "code",
   "execution_count": 54,
   "metadata": {},
   "outputs": [
    {
     "data": {
      "text/html": [
       "<div>\n",
       "<style scoped>\n",
       "    .dataframe tbody tr th:only-of-type {\n",
       "        vertical-align: middle;\n",
       "    }\n",
       "\n",
       "    .dataframe tbody tr th {\n",
       "        vertical-align: top;\n",
       "    }\n",
       "\n",
       "    .dataframe thead th {\n",
       "        text-align: right;\n",
       "    }\n",
       "</style>\n",
       "<table border=\"1\" class=\"dataframe\">\n",
       "  <thead>\n",
       "    <tr style=\"text-align: right;\">\n",
       "      <th></th>\n",
       "      <th>Date</th>\n",
       "      <th>Beat</th>\n",
       "      <th>BlockRange</th>\n",
       "      <th>StreetName</th>\n",
       "      <th>Offense Type</th>\n",
       "      <th>Premise</th>\n",
       "      <th># offenses</th>\n",
       "      <th>Hour</th>\n",
       "    </tr>\n",
       "  </thead>\n",
       "  <tbody>\n",
       "    <tr>\n",
       "      <th>60297</th>\n",
       "      <td>2015-04-10 00:00:00</td>\n",
       "      <td>2A20</td>\n",
       "      <td>3200-3299</td>\n",
       "      <td>NaN</td>\n",
       "      <td>Aggravated Assault</td>\n",
       "      <td>Road, Street, or Sidewalk</td>\n",
       "      <td>1.0</td>\n",
       "      <td>12</td>\n",
       "    </tr>\n",
       "    <tr>\n",
       "      <th>60389</th>\n",
       "      <td>2015-04-04 00:00:00</td>\n",
       "      <td>2A30</td>\n",
       "      <td>UNK</td>\n",
       "      <td>NaN</td>\n",
       "      <td>Theft</td>\n",
       "      <td>Road, Street, or Sidewalk</td>\n",
       "      <td>1.0</td>\n",
       "      <td>0</td>\n",
       "    </tr>\n",
       "    <tr>\n",
       "      <th>60404</th>\n",
       "      <td>2015-04-05 00:00:00</td>\n",
       "      <td>2A30</td>\n",
       "      <td>UNK</td>\n",
       "      <td>NaN</td>\n",
       "      <td>Theft</td>\n",
       "      <td>Road, Street, or Sidewalk</td>\n",
       "      <td>1.0</td>\n",
       "      <td>7</td>\n",
       "    </tr>\n",
       "    <tr>\n",
       "      <th>60438</th>\n",
       "      <td>2015-04-15 00:00:00</td>\n",
       "      <td>2A30</td>\n",
       "      <td>UNK</td>\n",
       "      <td>NaN</td>\n",
       "      <td>Burglary</td>\n",
       "      <td>Residence or House</td>\n",
       "      <td>1.0</td>\n",
       "      <td>16</td>\n",
       "    </tr>\n",
       "    <tr>\n",
       "      <th>70342</th>\n",
       "      <td>2016-04-15 00:00:00</td>\n",
       "      <td>2A30</td>\n",
       "      <td>UNK</td>\n",
       "      <td>NaN</td>\n",
       "      <td>Theft</td>\n",
       "      <td>Construction Site</td>\n",
       "      <td>1.0</td>\n",
       "      <td>13</td>\n",
       "    </tr>\n",
       "  </tbody>\n",
       "</table>\n",
       "</div>"
      ],
      "text/plain": [
       "                      Date  Beat BlockRange StreetName        Offense Type  \\\n",
       "60297  2015-04-10 00:00:00  2A20  3200-3299        NaN  Aggravated Assault   \n",
       "60389  2015-04-04 00:00:00  2A30        UNK        NaN               Theft   \n",
       "60404  2015-04-05 00:00:00  2A30        UNK        NaN               Theft   \n",
       "60438  2015-04-15 00:00:00  2A30        UNK        NaN            Burglary   \n",
       "70342  2016-04-15 00:00:00  2A30        UNK        NaN               Theft   \n",
       "\n",
       "                         Premise  # offenses Hour  \n",
       "60297  Road, Street, or Sidewalk         1.0   12  \n",
       "60389  Road, Street, or Sidewalk         1.0    0  \n",
       "60404  Road, Street, or Sidewalk         1.0    7  \n",
       "60438         Residence or House         1.0   16  \n",
       "70342          Construction Site         1.0   13  "
      ]
     },
     "execution_count": 54,
     "metadata": {},
     "output_type": "execute_result"
    }
   ],
   "source": [
    "df1017[df1017.StreetName.isnull()].head()"
   ]
  },
  {
   "cell_type": "code",
   "execution_count": 55,
   "metadata": {},
   "outputs": [
    {
     "data": {
      "text/plain": [
       "WESTHEIMER    27611\n",
       "GULF          14183\n",
       "GESSNER       13952\n",
       "NORTH         12673\n",
       "RICHMOND      12406\n",
       "Name: StreetName, dtype: int64"
      ]
     },
     "execution_count": 55,
     "metadata": {},
     "output_type": "execute_result"
    }
   ],
   "source": [
    "df1017.StreetName.value_counts(dropna=False).head()"
   ]
  },
  {
   "cell_type": "markdown",
   "metadata": {},
   "source": [
    "# Cleanup\n",
    "## BlockRange Column\n",
    "\n"
   ]
  },
  {
   "cell_type": "code",
   "execution_count": 56,
   "metadata": {},
   "outputs": [
    {
     "data": {
      "text/plain": [
       "900-999      13868\n",
       "100-199      13831\n",
       "800-899      11944\n",
       "700-799      11737\n",
       "2400-2499    11510\n",
       "Name: BlockRange, dtype: int64"
      ]
     },
     "execution_count": 56,
     "metadata": {},
     "output_type": "execute_result"
    }
   ],
   "source": [
    "df1017.BlockRange.value_counts(dropna=False).head()  # "
   ]
  },
  {
   "cell_type": "code",
   "execution_count": 57,
   "metadata": {},
   "outputs": [],
   "source": [
    "unk = df1017.BlockRange == 'UNK'  # boolean mask"
   ]
  },
  {
   "cell_type": "code",
   "execution_count": 62,
   "metadata": {},
   "outputs": [
    {
     "data": {
      "text/html": [
       "<div>\n",
       "<style scoped>\n",
       "    .dataframe tbody tr th:only-of-type {\n",
       "        vertical-align: middle;\n",
       "    }\n",
       "\n",
       "    .dataframe tbody tr th {\n",
       "        vertical-align: top;\n",
       "    }\n",
       "\n",
       "    .dataframe thead th {\n",
       "        text-align: right;\n",
       "    }\n",
       "</style>\n",
       "<table border=\"1\" class=\"dataframe\">\n",
       "  <thead>\n",
       "    <tr style=\"text-align: right;\">\n",
       "      <th></th>\n",
       "      <th>Date</th>\n",
       "      <th>Beat</th>\n",
       "      <th>BlockRange</th>\n",
       "      <th>StreetName</th>\n",
       "      <th>Offense Type</th>\n",
       "      <th>Premise</th>\n",
       "      <th># offenses</th>\n",
       "      <th>Hour</th>\n",
       "    </tr>\n",
       "  </thead>\n",
       "  <tbody>\n",
       "    <tr>\n",
       "      <th>53730</th>\n",
       "      <td>2015-04-06 00:00:00</td>\n",
       "      <td>10H10</td>\n",
       "      <td>UNK</td>\n",
       "      <td>CANAL</td>\n",
       "      <td>Rape</td>\n",
       "      <td>Residence or House</td>\n",
       "      <td>1.0</td>\n",
       "      <td>20</td>\n",
       "    </tr>\n",
       "    <tr>\n",
       "      <th>53732</th>\n",
       "      <td>2015-04-01 00:00:00</td>\n",
       "      <td>10H10</td>\n",
       "      <td>UNK</td>\n",
       "      <td>SIDNEY</td>\n",
       "      <td>Theft</td>\n",
       "      <td>NaN</td>\n",
       "      <td>1.0</td>\n",
       "      <td>19</td>\n",
       "    </tr>\n",
       "    <tr>\n",
       "      <th>53735</th>\n",
       "      <td>2015-04-18 00:00:00</td>\n",
       "      <td>10H10</td>\n",
       "      <td>UNK</td>\n",
       "      <td>ENNIS</td>\n",
       "      <td>Rape</td>\n",
       "      <td>Residence or House</td>\n",
       "      <td>1.0</td>\n",
       "      <td>10</td>\n",
       "    </tr>\n",
       "    <tr>\n",
       "      <th>53741</th>\n",
       "      <td>2015-04-24 00:00:00</td>\n",
       "      <td>10H10</td>\n",
       "      <td>UNK</td>\n",
       "      <td>MARSDEN</td>\n",
       "      <td>Burglary</td>\n",
       "      <td>Residence or House</td>\n",
       "      <td>1.0</td>\n",
       "      <td>18</td>\n",
       "    </tr>\n",
       "    <tr>\n",
       "      <th>53746</th>\n",
       "      <td>2015-04-23 00:00:00</td>\n",
       "      <td>10H10</td>\n",
       "      <td>UNK</td>\n",
       "      <td>STILES</td>\n",
       "      <td>Theft</td>\n",
       "      <td>Other Parking Lot</td>\n",
       "      <td>1.0</td>\n",
       "      <td>17</td>\n",
       "    </tr>\n",
       "  </tbody>\n",
       "</table>\n",
       "</div>"
      ],
      "text/plain": [
       "                      Date   Beat BlockRange StreetName Offense Type  \\\n",
       "53730  2015-04-06 00:00:00  10H10        UNK      CANAL         Rape   \n",
       "53732  2015-04-01 00:00:00  10H10        UNK     SIDNEY        Theft   \n",
       "53735  2015-04-18 00:00:00  10H10        UNK      ENNIS         Rape   \n",
       "53741  2015-04-24 00:00:00  10H10        UNK    MARSDEN     Burglary   \n",
       "53746  2015-04-23 00:00:00  10H10        UNK     STILES        Theft   \n",
       "\n",
       "                  Premise  # offenses Hour  \n",
       "53730  Residence or House         1.0   20  \n",
       "53732                 NaN         1.0   19  \n",
       "53735  Residence or House         1.0   10  \n",
       "53741  Residence or House         1.0   18  \n",
       "53746   Other Parking Lot         1.0   17  "
      ]
     },
     "execution_count": 62,
     "metadata": {},
     "output_type": "execute_result"
    }
   ],
   "source": [
    "df1017[unk].head()  # 5406"
   ]
  },
  {
   "cell_type": "code",
   "execution_count": 66,
   "metadata": {},
   "outputs": [
    {
     "data": {
      "text/html": [
       "<div>\n",
       "<style scoped>\n",
       "    .dataframe tbody tr th:only-of-type {\n",
       "        vertical-align: middle;\n",
       "    }\n",
       "\n",
       "    .dataframe tbody tr th {\n",
       "        vertical-align: top;\n",
       "    }\n",
       "\n",
       "    .dataframe thead th {\n",
       "        text-align: right;\n",
       "    }\n",
       "</style>\n",
       "<table border=\"1\" class=\"dataframe\">\n",
       "  <thead>\n",
       "    <tr style=\"text-align: right;\">\n",
       "      <th></th>\n",
       "      <th>Date</th>\n",
       "      <th>Beat</th>\n",
       "      <th>BlockRange</th>\n",
       "      <th>StreetName</th>\n",
       "      <th>Offense Type</th>\n",
       "      <th>Premise</th>\n",
       "      <th># offenses</th>\n",
       "      <th>Hour</th>\n",
       "    </tr>\n",
       "  </thead>\n",
       "  <tbody>\n",
       "    <tr>\n",
       "      <th>463032</th>\n",
       "      <td>2014-07-22 00:00:00</td>\n",
       "      <td>NaN</td>\n",
       "      <td>NaN</td>\n",
       "      <td>WALKER</td>\n",
       "      <td>Theft</td>\n",
       "      <td>NaN</td>\n",
       "      <td>NaN</td>\n",
       "      <td>20</td>\n",
       "    </tr>\n",
       "    <tr>\n",
       "      <th>463034</th>\n",
       "      <td>2014-07-16 00:00:00</td>\n",
       "      <td>NaN</td>\n",
       "      <td>NaN</td>\n",
       "      <td>PEASE</td>\n",
       "      <td>Theft</td>\n",
       "      <td>NaN</td>\n",
       "      <td>NaN</td>\n",
       "      <td>13</td>\n",
       "    </tr>\n",
       "    <tr>\n",
       "      <th>463053</th>\n",
       "      <td>2014-07-27 00:00:00</td>\n",
       "      <td>10H10</td>\n",
       "      <td>NaN</td>\n",
       "      <td>212.5 LENOX</td>\n",
       "      <td>Burglary</td>\n",
       "      <td>NaN</td>\n",
       "      <td>NaN</td>\n",
       "      <td>7</td>\n",
       "    </tr>\n",
       "    <tr>\n",
       "      <th>463599</th>\n",
       "      <td>2014-07-02 00:00:00</td>\n",
       "      <td>10H80</td>\n",
       "      <td>NaN</td>\n",
       "      <td>2600 DUNLAVY + WESTHEIMER</td>\n",
       "      <td>Auto Theft</td>\n",
       "      <td>NaN</td>\n",
       "      <td>NaN</td>\n",
       "      <td>12</td>\n",
       "    </tr>\n",
       "    <tr>\n",
       "      <th>463917</th>\n",
       "      <td>2014-07-12 00:00:00</td>\n",
       "      <td>12D10</td>\n",
       "      <td>NaN</td>\n",
       "      <td>EDGEBROOK</td>\n",
       "      <td>Theft</td>\n",
       "      <td>NaN</td>\n",
       "      <td>NaN</td>\n",
       "      <td>11</td>\n",
       "    </tr>\n",
       "  </tbody>\n",
       "</table>\n",
       "</div>"
      ],
      "text/plain": [
       "                       Date   Beat BlockRange                 StreetName  \\\n",
       "463032  2014-07-22 00:00:00    NaN        NaN                     WALKER   \n",
       "463034  2014-07-16 00:00:00    NaN        NaN                      PEASE   \n",
       "463053  2014-07-27 00:00:00  10H10        NaN                212.5 LENOX   \n",
       "463599  2014-07-02 00:00:00  10H80        NaN  2600 DUNLAVY + WESTHEIMER   \n",
       "463917  2014-07-12 00:00:00  12D10        NaN                  EDGEBROOK   \n",
       "\n",
       "       Offense Type Premise  # offenses Hour  \n",
       "463032        Theft     NaN         NaN   20  \n",
       "463034        Theft     NaN         NaN   13  \n",
       "463053     Burglary     NaN         NaN    7  \n",
       "463599   Auto Theft     NaN         NaN   12  \n",
       "463917        Theft     NaN         NaN   11  "
      ]
     },
     "execution_count": 66,
     "metadata": {},
     "output_type": "execute_result"
    }
   ],
   "source": [
    "df1017[df1017.BlockRange.isnull()].head()  # 158"
   ]
  },
  {
   "cell_type": "markdown",
   "metadata": {},
   "source": [
    "# Cleanup\n",
    "## Beat Column\n",
    "\n"
   ]
  },
  {
   "cell_type": "code",
   "execution_count": 67,
   "metadata": {},
   "outputs": [
    {
     "data": {
      "text/plain": [
       "array(['13D20', '11H40', '19G20', '10H60', '14D30', '17E30', '20G40',\n",
       "       '18F40', '10H20', '9C20', '11H10', '19G30', '16E40', '19G10',\n",
       "       '16E20', '19G50', '15E10', '13D40', '14D10', 'UNK', '9C40',\n",
       "       '10H80', '5F30', '18F50', '7C30', '3B50', '12D10', '20G10',\n",
       "       '14D20', '17E20', '10H40', '6B60', '3B10', '8C20', '5F20', '7C50',\n",
       "       '15E30', '16E30', '12D40', '17E40', '18F30', '7C20', '8C60',\n",
       "       '8C30', '11H50', '20G60', '20G70', '17E10', '3B30', '11H30',\n",
       "       '2A60', '9C10', '6B10', '6B30', '6B20', '10H50', '12D20', '12D70',\n",
       "       '6B50', '1A10', '20G30', '6B40', '5F10', '2A20', '13D10', '4F10',\n",
       "       '9C30', '18F60', '1A30', '19G40', '1A20', '2A10', '7C10', '3B40',\n",
       "       '7C40', '1A50', '24C30', '14D50', '10H10', '15E20', '10H70',\n",
       "       '8C10', '20G50', '2A50', '20G80', '15E40', '24C50', '5F40',\n",
       "       '12D60', '2A30', '4F20', '8C50', '4F30', '18F20', '14D40', '24C10',\n",
       "       '18F10', '11H20', '10H30', '16E10', '24C40', '12D30', '20G20',\n",
       "       '12D50', '2A40', '1A40', '24C20', '8C40', '21I30', '23J40',\n",
       "       '13D30', '21I50', '23J50', '21I40', '21I60', '23J30', '21I70',\n",
       "       '21I20', '21I10', '23J20', '24C60', 'UH-3P', '7C60', '23J10', nan,\n",
       "       'HCSO', 'OOJ', \"'18F20\", \"'1A30\", \"'14D10\", \"'6B20\", \"'3B40\",\n",
       "       \"'2A50\", \"'2A30\", \"'18F30\", \"'13D10\", \"'8C30\", \"'24C10\", \"'20G10\",\n",
       "       \"'19G30\", \"'18F40\", \"'11H30\", \"'12D10\", \"'10H10\", \"'5F40\", \"'7C50\",\n",
       "       \"'21I50\", \"'8C20\", \"'8C60\", \"'1A50\", \"'20G20\", \"'17E30\", \"'16E20\",\n",
       "       \"'20G70\", \"'24C40\", \"'15E40\", \"'20G30\", \"'1A40\", \"'19G10\",\n",
       "       \"'19G50\", \"'4F10\", \"'4F20\", \"'15E30\", \"'1A20\", \"'8C10\", \"'11H10\",\n",
       "       \"'9C20\", \"'6B60\", \"'3B10\", \"'20G40\", \"'2A20\", \"'10H20\", \"'12D60\",\n",
       "       \"'9C40\", \"'UNK\", \"'8C40\", \"'2A40\", \"'19G20\", \"'6B10\", \"'10H50\",\n",
       "       \"'18F60\", \"'16E40\", \"'10H40\", \"'6B40\", \"'7C30\", \"'6B30\", \"'5F30\",\n",
       "       \"'8C50\", \"'1A10\", \"'10H30\", \"'21I10\", \"'13D40\", \"'19G40\", \"'2A60\",\n",
       "       \"'5F20\", \"'17E20\", \"'17E10\", \"'10H60\", \"'24C30\", \"'11H50\", \"'7C40\",\n",
       "       \"'14D20\", \"'12D50\", \"'12D20\", \"'3B50\", \"'18F50\", \"'13D20\", \"'7C20\",\n",
       "       \"'7C10\", \"'24C50\", \"'15E10\", \"'15E20\", \"'9C10\", \"'12D30\", \"'10H70\",\n",
       "       \"'3B30\", \"'16E10\", \"'17E40\", \"'6B50\", \"'9C30\", \"'10H80\", \"'20G50\",\n",
       "       \"'18F10\", \"'14D40\", \"'11H20\", \"'14D30\", \"'16E30\", \"'2A10\",\n",
       "       \"'20G60\", \"'5F10\", \"'20G80\", \"'12D40\", \"'12D70\", \"'11H40\",\n",
       "       \"'24C20\", \"'14D50\", \"'4F30\", \"'23J50\", '3B20', '10H10 ', '10H20 ',\n",
       "       '10H30 ', '10H40 ', '10H50 ', '10H60 ', '10H70 ', '10H80 ',\n",
       "       '11H10 ', '11H20 ', '11H30 ', '11H40 ', '11H50 ', '12D10 ',\n",
       "       '12D20 ', '12D30 ', '12D40 ', '12D50 ', '12D60 ', '12D70 ',\n",
       "       '13D10 ', '13D20 ', '13D30 ', '13D40 ', '14D10 ', '14D20 ',\n",
       "       '14D30 ', '14D40 ', '14D50 ', '15E10 ', '15E20 ', '15E30 ',\n",
       "       '15E40 ', '16E10 ', '16E20 ', '16E30 ', '16E40 ', '17E10 ',\n",
       "       '17E20 ', '17E30 ', '17E40 ', '18F10 ', '18F20 ', '18F30 ',\n",
       "       '18F40 ', '18F50 ', '18F60 ', '19G10 ', '19G20 ', '19G30 ',\n",
       "       '19G40 ', '19G50 ', '1A10  ', '1A20  ', '1A30  ', '1A40  ',\n",
       "       '1A50  ', '20G10 ', '20G20 ', '20G30 ', '20G40 ', '20G50 ',\n",
       "       '20G60 ', '20G70 ', '20G80 ', '21I10 ', '21I20 ', '21I40 ',\n",
       "       '21I50 ', '21I60 ', '21I70 ', '23J50 ', '24C10 ', '24C20 ',\n",
       "       '24C30 ', '24C40 ', '24C50 ', '24C60 ', '2A10  ', '2A20  ',\n",
       "       '2A30  ', '2A40  ', '2A50  ', '2A60  ', '3B10  ', '3B30  ',\n",
       "       '3B40  ', '3B50  ', '4F10  ', '4F20  ', '4F30  ', '5F10  ',\n",
       "       '5F20  ', '5F30  ', '5F40  ', '6B10  ', '6B20  ', '6B30  ',\n",
       "       '6B40  ', '6B50  ', '6B60  ', '7C10  ', '7C20  ', '7C30  ',\n",
       "       '7C40  ', '7C50  ', '8C10  ', '8C20  ', '8C30  ', '8C40  ',\n",
       "       '8C50  ', '8C60  ', '9C10  ', '9C20  ', '9C30  ', '9C40  ',\n",
       "       'UNK   '], dtype=object)"
      ]
     },
     "execution_count": 67,
     "metadata": {},
     "output_type": "execute_result"
    }
   ],
   "source": [
    "df1017.Beat.unique()"
   ]
  },
  {
   "cell_type": "code",
   "execution_count": 68,
   "metadata": {},
   "outputs": [
    {
     "data": {
      "text/plain": [
       "356"
      ]
     },
     "execution_count": 68,
     "metadata": {},
     "output_type": "execute_result"
    }
   ],
   "source": [
    "len(df1017.Beat.unique())"
   ]
  },
  {
   "cell_type": "code",
   "execution_count": 69,
   "metadata": {},
   "outputs": [
    {
     "name": "stderr",
     "output_type": "stream",
     "text": [
      "/home/salas/miniconda3/envs/springboard/lib/python3.6/site-packages/ipykernel_launcher.py:1: SettingWithCopyWarning: \n",
      "A value is trying to be set on a copy of a slice from a DataFrame.\n",
      "Try using .loc[row_indexer,col_indexer] = value instead\n",
      "\n",
      "See the caveats in the documentation: http://pandas.pydata.org/pandas-docs/stable/indexing.html#indexing-view-versus-copy\n",
      "  \"\"\"Entry point for launching an IPython kernel.\n"
     ]
    }
   ],
   "source": [
    "df1017['Beat'] = df1017['Beat'].str.strip()"
   ]
  },
  {
   "cell_type": "code",
   "execution_count": 70,
   "metadata": {},
   "outputs": [
    {
     "data": {
      "text/plain": [
       "239"
      ]
     },
     "execution_count": 70,
     "metadata": {},
     "output_type": "execute_result"
    }
   ],
   "source": [
    "len(df1017.Beat.unique())"
   ]
  },
  {
   "cell_type": "code",
   "execution_count": 71,
   "metadata": {},
   "outputs": [
    {
     "data": {
      "text/html": [
       "<div>\n",
       "<style scoped>\n",
       "    .dataframe tbody tr th:only-of-type {\n",
       "        vertical-align: middle;\n",
       "    }\n",
       "\n",
       "    .dataframe tbody tr th {\n",
       "        vertical-align: top;\n",
       "    }\n",
       "\n",
       "    .dataframe thead th {\n",
       "        text-align: right;\n",
       "    }\n",
       "</style>\n",
       "<table border=\"1\" class=\"dataframe\">\n",
       "  <thead>\n",
       "    <tr style=\"text-align: right;\">\n",
       "      <th></th>\n",
       "      <th>Date</th>\n",
       "      <th>Beat</th>\n",
       "      <th>BlockRange</th>\n",
       "      <th>StreetName</th>\n",
       "      <th>Offense Type</th>\n",
       "      <th>Premise</th>\n",
       "      <th># offenses</th>\n",
       "      <th>Hour</th>\n",
       "    </tr>\n",
       "  </thead>\n",
       "  <tbody>\n",
       "    <tr>\n",
       "      <th>463027</th>\n",
       "      <td>2014-07-19 00:00:00</td>\n",
       "      <td>NaN</td>\n",
       "      <td>2100-2199</td>\n",
       "      <td>VINTAGE</td>\n",
       "      <td>Theft</td>\n",
       "      <td>NaN</td>\n",
       "      <td>NaN</td>\n",
       "      <td>11</td>\n",
       "    </tr>\n",
       "    <tr>\n",
       "      <th>463028</th>\n",
       "      <td>2014-07-13 00:00:00</td>\n",
       "      <td>NaN</td>\n",
       "      <td>500-599</td>\n",
       "      <td>W.38TH</td>\n",
       "      <td>Theft</td>\n",
       "      <td>NaN</td>\n",
       "      <td>NaN</td>\n",
       "      <td>8</td>\n",
       "    </tr>\n",
       "    <tr>\n",
       "      <th>463029</th>\n",
       "      <td>2014-07-26 00:00:00</td>\n",
       "      <td>NaN</td>\n",
       "      <td>6100-6199</td>\n",
       "      <td>ATTWATER</td>\n",
       "      <td>Rape</td>\n",
       "      <td>NaN</td>\n",
       "      <td>NaN</td>\n",
       "      <td>15</td>\n",
       "    </tr>\n",
       "    <tr>\n",
       "      <th>463030</th>\n",
       "      <td>2014-07-13 00:00:00</td>\n",
       "      <td>NaN</td>\n",
       "      <td>7800-7899</td>\n",
       "      <td>FM 1960</td>\n",
       "      <td>Theft</td>\n",
       "      <td>NaN</td>\n",
       "      <td>NaN</td>\n",
       "      <td>15</td>\n",
       "    </tr>\n",
       "    <tr>\n",
       "      <th>463031</th>\n",
       "      <td>2014-07-14 00:00:00</td>\n",
       "      <td>NaN</td>\n",
       "      <td>6600-6699</td>\n",
       "      <td>MERRY</td>\n",
       "      <td>Theft</td>\n",
       "      <td>NaN</td>\n",
       "      <td>NaN</td>\n",
       "      <td>9</td>\n",
       "    </tr>\n",
       "  </tbody>\n",
       "</table>\n",
       "</div>"
      ],
      "text/plain": [
       "                       Date Beat BlockRange StreetName Offense Type Premise  \\\n",
       "463027  2014-07-19 00:00:00  NaN  2100-2199    VINTAGE        Theft     NaN   \n",
       "463028  2014-07-13 00:00:00  NaN    500-599     W.38TH        Theft     NaN   \n",
       "463029  2014-07-26 00:00:00  NaN  6100-6199   ATTWATER         Rape     NaN   \n",
       "463030  2014-07-13 00:00:00  NaN  7800-7899    FM 1960        Theft     NaN   \n",
       "463031  2014-07-14 00:00:00  NaN  6600-6699      MERRY        Theft     NaN   \n",
       "\n",
       "        # offenses Hour  \n",
       "463027         NaN   11  \n",
       "463028         NaN    8  \n",
       "463029         NaN   15  \n",
       "463030         NaN   15  \n",
       "463031         NaN    9  "
      ]
     },
     "execution_count": 71,
     "metadata": {},
     "output_type": "execute_result"
    }
   ],
   "source": [
    "df1017[df1017.Beat.isnull()].head()"
   ]
  },
  {
   "cell_type": "code",
   "execution_count": 72,
   "metadata": {},
   "outputs": [
    {
     "data": {
      "text/plain": [
       "19G10    21440\n",
       "12D10    21252\n",
       "1A20     20961\n",
       "6B60     20083\n",
       "13D20    19181\n",
       "Name: Beat, dtype: int64"
      ]
     },
     "execution_count": 72,
     "metadata": {},
     "output_type": "execute_result"
    }
   ],
   "source": [
    "df1017.Beat.value_counts(dropna=False).head()"
   ]
  },
  {
   "cell_type": "code",
   "execution_count": 73,
   "metadata": {},
   "outputs": [
    {
     "name": "stdout",
     "output_type": "stream",
     "text": [
      "<class 'pandas.core.frame.DataFrame'>\n",
      "RangeIndex: 1006331 entries, 0 to 1006330\n",
      "Data columns (total 8 columns):\n",
      "Date            1006326 non-null object\n",
      "Beat            1006314 non-null object\n",
      "BlockRange      1006173 non-null object\n",
      "StreetName      1006231 non-null object\n",
      "Offense Type    1006316 non-null object\n",
      "Premise         972734 non-null object\n",
      "# offenses      996011 non-null float64\n",
      "Hour            1006330 non-null object\n",
      "dtypes: float64(1), object(7)\n",
      "memory usage: 61.4+ MB\n"
     ]
    }
   ],
   "source": [
    "df1017.info()"
   ]
  },
  {
   "cell_type": "markdown",
   "metadata": {},
   "source": [
    "## Cleanup\n",
    "\n",
    "### time column"
   ]
  },
  {
   "cell_type": "code",
   "execution_count": 74,
   "metadata": {},
   "outputs": [
    {
     "data": {
      "text/plain": [
       "array([0, 20, 22, 1, 23, 12, 8, 16, 17, 14, 2, 19, 6, 7, 5, 18, 9, 4, 11,\n",
       "       13, 21, 10, 3, 15, 24, '07', '05', '22', '15', '10', '19', '09',\n",
       "       '08', '14', \"'15\", '02', '12', \"'07\", '16', \"'19\", \"'18\", '21',\n",
       "       '17', '11', '13', '18', '06', \"'00\", \"'05\", \"'13\", \"'14\", \"'22\",\n",
       "       \"'23\", '04', '03', '23', '20', '00', \"'20\", \"'16\", '01', \"'17\",\n",
       "       \"'06\", \"'03\", \"'01\", \"'09\", \"'02\", \"'10\", \"'11\", \"'12\", \"'21\",\n",
       "       \"'08\", \"'04\", nan], dtype=object)"
      ]
     },
     "execution_count": 74,
     "metadata": {},
     "output_type": "execute_result"
    }
   ],
   "source": [
    "df1017.Hour.unique()"
   ]
  },
  {
   "cell_type": "code",
   "execution_count": 76,
   "metadata": {},
   "outputs": [
    {
     "data": {
      "text/plain": [
       "18    57008\n",
       "12    56922\n",
       "17    55531\n",
       "15    54937\n",
       "16    53489\n",
       "Name: Hour, dtype: int64"
      ]
     },
     "execution_count": 76,
     "metadata": {},
     "output_type": "execute_result"
    }
   ],
   "source": [
    "df1017.Hour.value_counts(dropna=False).head()  # "
   ]
  },
  {
   "cell_type": "code",
   "execution_count": null,
   "metadata": {},
   "outputs": [],
   "source": []
  },
  {
   "cell_type": "code",
   "execution_count": null,
   "metadata": {},
   "outputs": [],
   "source": []
  },
  {
   "cell_type": "markdown",
   "metadata": {},
   "source": [
    "## Cleanup\n",
    "\n",
    "### Date column\n",
    "- convert to datetime\n",
    "- index date colimn\n",
    "- sort index"
   ]
  },
  {
   "cell_type": "code",
   "execution_count": 77,
   "metadata": {},
   "outputs": [
    {
     "data": {
      "text/html": [
       "<div>\n",
       "<style scoped>\n",
       "    .dataframe tbody tr th:only-of-type {\n",
       "        vertical-align: middle;\n",
       "    }\n",
       "\n",
       "    .dataframe tbody tr th {\n",
       "        vertical-align: top;\n",
       "    }\n",
       "\n",
       "    .dataframe thead th {\n",
       "        text-align: right;\n",
       "    }\n",
       "</style>\n",
       "<table border=\"1\" class=\"dataframe\">\n",
       "  <thead>\n",
       "    <tr style=\"text-align: right;\">\n",
       "      <th></th>\n",
       "      <th>Date</th>\n",
       "      <th>Beat</th>\n",
       "      <th>BlockRange</th>\n",
       "      <th>StreetName</th>\n",
       "      <th>Offense Type</th>\n",
       "      <th>Premise</th>\n",
       "      <th># offenses</th>\n",
       "      <th>Hour</th>\n",
       "    </tr>\n",
       "  </thead>\n",
       "  <tbody>\n",
       "    <tr>\n",
       "      <th>0</th>\n",
       "      <td>2010-04-17 00:00:00</td>\n",
       "      <td>13D20</td>\n",
       "      <td>6600-6699</td>\n",
       "      <td>HEFFERNAN</td>\n",
       "      <td>Murder</td>\n",
       "      <td>05W</td>\n",
       "      <td>1.0</td>\n",
       "      <td>0</td>\n",
       "    </tr>\n",
       "    <tr>\n",
       "      <th>1</th>\n",
       "      <td>2010-04-08 00:00:00</td>\n",
       "      <td>11H40</td>\n",
       "      <td>10100-10199</td>\n",
       "      <td>LUCORE</td>\n",
       "      <td>Murder</td>\n",
       "      <td>20R</td>\n",
       "      <td>1.0</td>\n",
       "      <td>20</td>\n",
       "    </tr>\n",
       "    <tr>\n",
       "      <th>2</th>\n",
       "      <td>2010-04-01 00:00:00</td>\n",
       "      <td>19G20</td>\n",
       "      <td>11400-11499</td>\n",
       "      <td>CARVEL</td>\n",
       "      <td>Murder</td>\n",
       "      <td>13R</td>\n",
       "      <td>2.0</td>\n",
       "      <td>22</td>\n",
       "    </tr>\n",
       "    <tr>\n",
       "      <th>3</th>\n",
       "      <td>2010-04-17 00:00:00</td>\n",
       "      <td>10H60</td>\n",
       "      <td>3700-3799</td>\n",
       "      <td>WHEELER</td>\n",
       "      <td>Murder</td>\n",
       "      <td>13R</td>\n",
       "      <td>1.0</td>\n",
       "      <td>1</td>\n",
       "    </tr>\n",
       "    <tr>\n",
       "      <th>4</th>\n",
       "      <td>2010-04-08 00:00:00</td>\n",
       "      <td>14D30</td>\n",
       "      <td>5100-5199</td>\n",
       "      <td>MYRTLEWOOD</td>\n",
       "      <td>Murder</td>\n",
       "      <td>20R</td>\n",
       "      <td>1.0</td>\n",
       "      <td>23</td>\n",
       "    </tr>\n",
       "  </tbody>\n",
       "</table>\n",
       "</div>"
      ],
      "text/plain": [
       "                  Date   Beat   BlockRange  StreetName Offense Type Premise  \\\n",
       "0  2010-04-17 00:00:00  13D20    6600-6699   HEFFERNAN       Murder     05W   \n",
       "1  2010-04-08 00:00:00  11H40  10100-10199      LUCORE       Murder     20R   \n",
       "2  2010-04-01 00:00:00  19G20  11400-11499      CARVEL       Murder     13R   \n",
       "3  2010-04-17 00:00:00  10H60    3700-3799     WHEELER       Murder     13R   \n",
       "4  2010-04-08 00:00:00  14D30    5100-5199  MYRTLEWOOD       Murder     20R   \n",
       "\n",
       "   # offenses Hour  \n",
       "0         1.0    0  \n",
       "1         1.0   20  \n",
       "2         2.0   22  \n",
       "3         1.0    1  \n",
       "4         1.0   23  "
      ]
     },
     "execution_count": 77,
     "metadata": {},
     "output_type": "execute_result"
    }
   ],
   "source": [
    "df1017.head(5)"
   ]
  },
  {
   "cell_type": "code",
   "execution_count": 78,
   "metadata": {},
   "outputs": [
    {
     "name": "stderr",
     "output_type": "stream",
     "text": [
      "/home/salas/miniconda3/envs/springboard/lib/python3.6/site-packages/ipykernel_launcher.py:1: SettingWithCopyWarning: \n",
      "A value is trying to be set on a copy of a slice from a DataFrame.\n",
      "Try using .loc[row_indexer,col_indexer] = value instead\n",
      "\n",
      "See the caveats in the documentation: http://pandas.pydata.org/pandas-docs/stable/indexing.html#indexing-view-versus-copy\n",
      "  \"\"\"Entry point for launching an IPython kernel.\n"
     ]
    }
   ],
   "source": [
    "df1017['Date'] = pd.to_datetime(df1017['Date'])\n",
    "\n",
    "df1017 = df1017.set_index('Date').sort_index(ascending=True)"
   ]
  },
  {
   "cell_type": "code",
   "execution_count": 80,
   "metadata": {},
   "outputs": [
    {
     "data": {
      "text/html": [
       "<div>\n",
       "<style scoped>\n",
       "    .dataframe tbody tr th:only-of-type {\n",
       "        vertical-align: middle;\n",
       "    }\n",
       "\n",
       "    .dataframe tbody tr th {\n",
       "        vertical-align: top;\n",
       "    }\n",
       "\n",
       "    .dataframe thead th {\n",
       "        text-align: right;\n",
       "    }\n",
       "</style>\n",
       "<table border=\"1\" class=\"dataframe\">\n",
       "  <thead>\n",
       "    <tr style=\"text-align: right;\">\n",
       "      <th></th>\n",
       "      <th>Beat</th>\n",
       "      <th>BlockRange</th>\n",
       "      <th>StreetName</th>\n",
       "      <th>Offense Type</th>\n",
       "      <th>Premise</th>\n",
       "      <th># offenses</th>\n",
       "      <th>Hour</th>\n",
       "    </tr>\n",
       "    <tr>\n",
       "      <th>Date</th>\n",
       "      <th></th>\n",
       "      <th></th>\n",
       "      <th></th>\n",
       "      <th></th>\n",
       "      <th></th>\n",
       "      <th></th>\n",
       "      <th></th>\n",
       "    </tr>\n",
       "  </thead>\n",
       "  <tbody>\n",
       "    <tr>\n",
       "      <th>1914-09-08</th>\n",
       "      <td>24C60</td>\n",
       "      <td>12700-12799</td>\n",
       "      <td>LAKE HOUSTON</td>\n",
       "      <td>Burglary</td>\n",
       "      <td>Restaurant or Cafeteria</td>\n",
       "      <td>1.0</td>\n",
       "      <td>7</td>\n",
       "    </tr>\n",
       "    <tr>\n",
       "      <th>1914-11-02</th>\n",
       "      <td>18F60</td>\n",
       "      <td>8800-8899</td>\n",
       "      <td>BELLAIRE</td>\n",
       "      <td>Burglary</td>\n",
       "      <td>Miscellaneous Business (Non-Specific)</td>\n",
       "      <td>1.0</td>\n",
       "      <td>3</td>\n",
       "    </tr>\n",
       "    <tr>\n",
       "      <th>1914-12-03</th>\n",
       "      <td>12D20</td>\n",
       "      <td>12800-12899</td>\n",
       "      <td>GULF</td>\n",
       "      <td>Auto Theft</td>\n",
       "      <td>NaN</td>\n",
       "      <td>1.0</td>\n",
       "      <td>19</td>\n",
       "    </tr>\n",
       "    <tr>\n",
       "      <th>1915-01-05</th>\n",
       "      <td>3B10</td>\n",
       "      <td>3200-3299</td>\n",
       "      <td>MANGUM RD 180</td>\n",
       "      <td>Theft</td>\n",
       "      <td>Other Parking Lot</td>\n",
       "      <td>1.0</td>\n",
       "      <td>22</td>\n",
       "    </tr>\n",
       "    <tr>\n",
       "      <th>1915-01-14</th>\n",
       "      <td>5F10</td>\n",
       "      <td>7000-7099</td>\n",
       "      <td>WESTVIEW</td>\n",
       "      <td>Auto Theft</td>\n",
       "      <td>Apartment Parking Lot</td>\n",
       "      <td>1.0</td>\n",
       "      <td>23</td>\n",
       "    </tr>\n",
       "  </tbody>\n",
       "</table>\n",
       "</div>"
      ],
      "text/plain": [
       "             Beat   BlockRange     StreetName Offense Type  \\\n",
       "Date                                                         \n",
       "1914-09-08  24C60  12700-12799   LAKE HOUSTON     Burglary   \n",
       "1914-11-02  18F60    8800-8899       BELLAIRE     Burglary   \n",
       "1914-12-03  12D20  12800-12899           GULF   Auto Theft   \n",
       "1915-01-05   3B10    3200-3299  MANGUM RD 180        Theft   \n",
       "1915-01-14   5F10    7000-7099       WESTVIEW   Auto Theft   \n",
       "\n",
       "                                          Premise  # offenses Hour  \n",
       "Date                                                                \n",
       "1914-09-08                Restaurant or Cafeteria         1.0    7  \n",
       "1914-11-02  Miscellaneous Business (Non-Specific)         1.0    3  \n",
       "1914-12-03                                    NaN         1.0   19  \n",
       "1915-01-05                      Other Parking Lot         1.0   22  \n",
       "1915-01-14                  Apartment Parking Lot         1.0   23  "
      ]
     },
     "execution_count": 80,
     "metadata": {},
     "output_type": "execute_result"
    }
   ],
   "source": [
    "df1017.head(5)"
   ]
  },
  {
   "cell_type": "code",
   "execution_count": 81,
   "metadata": {},
   "outputs": [
    {
     "name": "stdout",
     "output_type": "stream",
     "text": [
      "<class 'pandas.core.frame.DataFrame'>\n",
      "DatetimeIndex: 1006331 entries, 1914-09-08 to NaT\n",
      "Data columns (total 7 columns):\n",
      "Beat            1006314 non-null object\n",
      "BlockRange      1006173 non-null object\n",
      "StreetName      1006231 non-null object\n",
      "Offense Type    1006316 non-null object\n",
      "Premise         972734 non-null object\n",
      "# offenses      996011 non-null float64\n",
      "Hour            1006330 non-null object\n",
      "dtypes: float64(1), object(6)\n",
      "memory usage: 61.4+ MB\n"
     ]
    }
   ],
   "source": [
    "df1017.info()"
   ]
  },
  {
   "cell_type": "markdown",
   "metadata": {},
   "source": [
    "## Odd dates\n",
    "`DatetimeIndex: 1006331 entries, 1914-09-08 to NaT`\n",
    "- some values are not from this year, lets look"
   ]
  },
  {
   "cell_type": "code",
   "execution_count": 87,
   "metadata": {},
   "outputs": [
    {
     "name": "stdout",
     "output_type": "stream",
     "text": [
      "<class 'pandas.core.frame.DataFrame'>\n",
      "DatetimeIndex: 1003745 entries, 2010-01-01 to 2017-12-31\n",
      "Data columns (total 7 columns):\n",
      "Beat            1003729 non-null object\n",
      "BlockRange      1003589 non-null object\n",
      "StreetName      1003646 non-null object\n",
      "Offense Type    1003731 non-null object\n",
      "Premise         970213 non-null object\n",
      "# offenses      993435 non-null float64\n",
      "Hour            1003745 non-null object\n",
      "dtypes: float64(1), object(6)\n",
      "memory usage: 61.3+ MB\n"
     ]
    }
   ],
   "source": [
    "ddf = df1017.loc['2010-01-01':'2017-12-31']  # rows with date from 01,01,10 - 12,31,17\n",
    "ddf.info()"
   ]
  },
  {
   "cell_type": "code",
   "execution_count": 84,
   "metadata": {},
   "outputs": [
    {
     "name": "stdout",
     "output_type": "stream",
     "text": [
      "<class 'pandas.core.frame.DataFrame'>\n",
      "DatetimeIndex: 2575 entries, 1914-09-08 to 2009-12-31\n",
      "Data columns (total 7 columns):\n",
      "Beat            2575 non-null object\n",
      "BlockRange      2574 non-null object\n",
      "StreetName      2575 non-null object\n",
      "Offense Type    2575 non-null object\n",
      "Premise         2515 non-null object\n",
      "# offenses      2568 non-null float64\n",
      "Hour            2575 non-null object\n",
      "dtypes: float64(1), object(6)\n",
      "memory usage: 160.9+ KB\n"
     ]
    }
   ],
   "source": [
    "dfwrong_date = df1017[:\"2009\"]  # rows with year 0  upto 2012\n",
    "dfwrong_date.info()"
   ]
  },
  {
   "cell_type": "code",
   "execution_count": 88,
   "metadata": {},
   "outputs": [
    {
     "data": {
      "text/html": [
       "<div>\n",
       "<style scoped>\n",
       "    .dataframe tbody tr th:only-of-type {\n",
       "        vertical-align: middle;\n",
       "    }\n",
       "\n",
       "    .dataframe tbody tr th {\n",
       "        vertical-align: top;\n",
       "    }\n",
       "\n",
       "    .dataframe thead th {\n",
       "        text-align: right;\n",
       "    }\n",
       "</style>\n",
       "<table border=\"1\" class=\"dataframe\">\n",
       "  <thead>\n",
       "    <tr style=\"text-align: right;\">\n",
       "      <th></th>\n",
       "      <th>Beat</th>\n",
       "      <th>BlockRange</th>\n",
       "      <th>StreetName</th>\n",
       "      <th>Offense Type</th>\n",
       "      <th>Premise</th>\n",
       "      <th># offenses</th>\n",
       "      <th>Hour</th>\n",
       "    </tr>\n",
       "    <tr>\n",
       "      <th>Date</th>\n",
       "      <th></th>\n",
       "      <th></th>\n",
       "      <th></th>\n",
       "      <th></th>\n",
       "      <th></th>\n",
       "      <th></th>\n",
       "      <th></th>\n",
       "    </tr>\n",
       "  </thead>\n",
       "  <tbody>\n",
       "    <tr>\n",
       "      <th>2010-01-01</th>\n",
       "      <td>14D50</td>\n",
       "      <td>5900-5999</td>\n",
       "      <td>SELINSKY</td>\n",
       "      <td>Theft</td>\n",
       "      <td>18A</td>\n",
       "      <td>1.0</td>\n",
       "      <td>20</td>\n",
       "    </tr>\n",
       "    <tr>\n",
       "      <th>2010-01-01</th>\n",
       "      <td>9C20</td>\n",
       "      <td>900-999</td>\n",
       "      <td>HOFFMAN</td>\n",
       "      <td>Robbery</td>\n",
       "      <td>20R</td>\n",
       "      <td>1.0</td>\n",
       "      <td>2</td>\n",
       "    </tr>\n",
       "    <tr>\n",
       "      <th>2010-01-01</th>\n",
       "      <td>9C20</td>\n",
       "      <td>6500-6599</td>\n",
       "      <td>TEXARKANA</td>\n",
       "      <td>Theft</td>\n",
       "      <td>20R</td>\n",
       "      <td>1.0</td>\n",
       "      <td>12</td>\n",
       "    </tr>\n",
       "    <tr>\n",
       "      <th>2010-01-01</th>\n",
       "      <td>20G30</td>\n",
       "      <td>12500-12599</td>\n",
       "      <td>RICHMOND</td>\n",
       "      <td>Theft</td>\n",
       "      <td>09D</td>\n",
       "      <td>1.0</td>\n",
       "      <td>7</td>\n",
       "    </tr>\n",
       "    <tr>\n",
       "      <th>2010-01-01</th>\n",
       "      <td>6B30</td>\n",
       "      <td>7200-7299</td>\n",
       "      <td>JADEWOOD</td>\n",
       "      <td>Rape</td>\n",
       "      <td>20R</td>\n",
       "      <td>1.0</td>\n",
       "      <td>11</td>\n",
       "    </tr>\n",
       "  </tbody>\n",
       "</table>\n",
       "</div>"
      ],
      "text/plain": [
       "             Beat   BlockRange StreetName Offense Type Premise  # offenses  \\\n",
       "Date                                                                         \n",
       "2010-01-01  14D50    5900-5999   SELINSKY        Theft     18A         1.0   \n",
       "2010-01-01   9C20      900-999    HOFFMAN      Robbery     20R         1.0   \n",
       "2010-01-01   9C20    6500-6599  TEXARKANA        Theft     20R         1.0   \n",
       "2010-01-01  20G30  12500-12599   RICHMOND        Theft     09D         1.0   \n",
       "2010-01-01   6B30    7200-7299   JADEWOOD         Rape     20R         1.0   \n",
       "\n",
       "           Hour  \n",
       "Date             \n",
       "2010-01-01   20  \n",
       "2010-01-01    2  \n",
       "2010-01-01   12  \n",
       "2010-01-01    7  \n",
       "2010-01-01   11  "
      ]
     },
     "execution_count": 88,
     "metadata": {},
     "output_type": "execute_result"
    }
   ],
   "source": [
    "ddf.head()"
   ]
  },
  {
   "cell_type": "markdown",
   "metadata": {},
   "source": [
    "# NAN values\n",
    "\n",
    "- Beat: 16\n",
    "- BlockRange: 156\n",
    "- StreetName: 99\n",
    "- Offense Type: 14\n",
    "- #offenses : 10310\n",
    "- Premise: 33532\n",
    "- Hour: 0"
   ]
  },
  {
   "cell_type": "code",
   "execution_count": 90,
   "metadata": {},
   "outputs": [],
   "source": [
    "beat_nan = ddf.Beat.isnull()\n",
    "block_nan = ddf.BlockRange.isnull()\n",
    "str_nan = ddf.StreetName.isnull()\n",
    "off_nan = ddf['Offense Type'].isnull()\n",
    "premise_nan = ddf.Premise.isnull()  #\n",
    "offnum_nan = ddf['# offenses'].isnull()  #\n",
    "hour_nan = ddf.Hour.isnull()  #"
   ]
  },
  {
   "cell_type": "code",
   "execution_count": 93,
   "metadata": {},
   "outputs": [
    {
     "data": {
      "text/plain": [
       "16"
      ]
     },
     "execution_count": 93,
     "metadata": {},
     "output_type": "execute_result"
    }
   ],
   "source": [
    "len(ddf[beat_nan])"
   ]
  },
  {
   "cell_type": "code",
   "execution_count": 94,
   "metadata": {},
   "outputs": [
    {
     "data": {
      "text/plain": [
       "156"
      ]
     },
     "execution_count": 94,
     "metadata": {},
     "output_type": "execute_result"
    }
   ],
   "source": [
    "len(ddf[block_nan])"
   ]
  },
  {
   "cell_type": "code",
   "execution_count": 95,
   "metadata": {},
   "outputs": [
    {
     "data": {
      "text/plain": [
       "99"
      ]
     },
     "execution_count": 95,
     "metadata": {},
     "output_type": "execute_result"
    }
   ],
   "source": [
    "len(ddf[str_nan])"
   ]
  },
  {
   "cell_type": "code",
   "execution_count": 96,
   "metadata": {},
   "outputs": [
    {
     "data": {
      "text/plain": [
       "14"
      ]
     },
     "execution_count": 96,
     "metadata": {},
     "output_type": "execute_result"
    }
   ],
   "source": [
    "len(ddf[off_nan])"
   ]
  },
  {
   "cell_type": "code",
   "execution_count": 97,
   "metadata": {},
   "outputs": [
    {
     "data": {
      "text/plain": [
       "10310"
      ]
     },
     "execution_count": 97,
     "metadata": {},
     "output_type": "execute_result"
    }
   ],
   "source": [
    "len(ddf[offnum_nan])"
   ]
  },
  {
   "cell_type": "code",
   "execution_count": 98,
   "metadata": {},
   "outputs": [
    {
     "data": {
      "text/plain": [
       "33532"
      ]
     },
     "execution_count": 98,
     "metadata": {},
     "output_type": "execute_result"
    }
   ],
   "source": [
    "len(ddf[premise_nan])"
   ]
  },
  {
   "cell_type": "code",
   "execution_count": 99,
   "metadata": {},
   "outputs": [
    {
     "data": {
      "text/plain": [
       "0"
      ]
     },
     "execution_count": 99,
     "metadata": {},
     "output_type": "execute_result"
    }
   ],
   "source": [
    "len(ddf[hour_nan])"
   ]
  },
  {
   "cell_type": "code",
   "execution_count": 100,
   "metadata": {},
   "outputs": [
    {
     "data": {
      "text/html": [
       "<div>\n",
       "<style scoped>\n",
       "    .dataframe tbody tr th:only-of-type {\n",
       "        vertical-align: middle;\n",
       "    }\n",
       "\n",
       "    .dataframe tbody tr th {\n",
       "        vertical-align: top;\n",
       "    }\n",
       "\n",
       "    .dataframe thead th {\n",
       "        text-align: right;\n",
       "    }\n",
       "</style>\n",
       "<table border=\"1\" class=\"dataframe\">\n",
       "  <thead>\n",
       "    <tr style=\"text-align: right;\">\n",
       "      <th></th>\n",
       "      <th>Beat</th>\n",
       "      <th>BlockRange</th>\n",
       "      <th>StreetName</th>\n",
       "      <th>Offense Type</th>\n",
       "      <th>Premise</th>\n",
       "      <th># offenses</th>\n",
       "      <th>Hour</th>\n",
       "    </tr>\n",
       "    <tr>\n",
       "      <th>Date</th>\n",
       "      <th></th>\n",
       "      <th></th>\n",
       "      <th></th>\n",
       "      <th></th>\n",
       "      <th></th>\n",
       "      <th></th>\n",
       "      <th></th>\n",
       "    </tr>\n",
       "  </thead>\n",
       "  <tbody>\n",
       "    <tr>\n",
       "      <th>2010-01-01</th>\n",
       "      <td>14D50</td>\n",
       "      <td>5900-5999</td>\n",
       "      <td>SELINSKY</td>\n",
       "      <td>Theft</td>\n",
       "      <td>18A</td>\n",
       "      <td>1.0</td>\n",
       "      <td>20</td>\n",
       "    </tr>\n",
       "    <tr>\n",
       "      <th>2010-01-01</th>\n",
       "      <td>9C20</td>\n",
       "      <td>900-999</td>\n",
       "      <td>HOFFMAN</td>\n",
       "      <td>Robbery</td>\n",
       "      <td>20R</td>\n",
       "      <td>1.0</td>\n",
       "      <td>2</td>\n",
       "    </tr>\n",
       "    <tr>\n",
       "      <th>2010-01-01</th>\n",
       "      <td>9C20</td>\n",
       "      <td>6500-6599</td>\n",
       "      <td>TEXARKANA</td>\n",
       "      <td>Theft</td>\n",
       "      <td>20R</td>\n",
       "      <td>1.0</td>\n",
       "      <td>12</td>\n",
       "    </tr>\n",
       "    <tr>\n",
       "      <th>2010-01-01</th>\n",
       "      <td>20G30</td>\n",
       "      <td>12500-12599</td>\n",
       "      <td>RICHMOND</td>\n",
       "      <td>Theft</td>\n",
       "      <td>09D</td>\n",
       "      <td>1.0</td>\n",
       "      <td>7</td>\n",
       "    </tr>\n",
       "    <tr>\n",
       "      <th>2010-01-01</th>\n",
       "      <td>6B30</td>\n",
       "      <td>7200-7299</td>\n",
       "      <td>JADEWOOD</td>\n",
       "      <td>Rape</td>\n",
       "      <td>20R</td>\n",
       "      <td>1.0</td>\n",
       "      <td>11</td>\n",
       "    </tr>\n",
       "  </tbody>\n",
       "</table>\n",
       "</div>"
      ],
      "text/plain": [
       "             Beat   BlockRange StreetName Offense Type Premise  # offenses  \\\n",
       "Date                                                                         \n",
       "2010-01-01  14D50    5900-5999   SELINSKY        Theft     18A         1.0   \n",
       "2010-01-01   9C20      900-999    HOFFMAN      Robbery     20R         1.0   \n",
       "2010-01-01   9C20    6500-6599  TEXARKANA        Theft     20R         1.0   \n",
       "2010-01-01  20G30  12500-12599   RICHMOND        Theft     09D         1.0   \n",
       "2010-01-01   6B30    7200-7299   JADEWOOD         Rape     20R         1.0   \n",
       "\n",
       "           Hour  \n",
       "Date             \n",
       "2010-01-01   20  \n",
       "2010-01-01    2  \n",
       "2010-01-01   12  \n",
       "2010-01-01    7  \n",
       "2010-01-01   11  "
      ]
     },
     "execution_count": 100,
     "metadata": {},
     "output_type": "execute_result"
    }
   ],
   "source": [
    "ddf.head()"
   ]
  },
  {
   "cell_type": "code",
   "execution_count": 101,
   "metadata": {},
   "outputs": [
    {
     "data": {
      "text/plain": [
       "array(['14D50', '9C20', '20G30', '6B30', '20G10', '17E10', '1A10',\n",
       "       '16E40', '6B40', '7C30', '10H10', '7C10', '17E30', '2A30', '11H10',\n",
       "       '2A10', '3B50', '8C60', '18F50', '20G50', '11H30', '5F40', '5F30',\n",
       "       '8C10', '4F30', '19G10', '20G80', '6B50', '7C40', '10H30', '13D10',\n",
       "       '7C20', '6B20', '12D70', '6B10', '21I30', '4F10', '5F10', '24C10',\n",
       "       '16E20', '14D30', '20G40', '3B40', '21I20', '19G50', '17E40',\n",
       "       '15E30', '12D20', '19G40', '4F20', '18F40', '16E10', '12D10',\n",
       "       '9C40', '17E20', '14D20', '18F20', '15E10', '16E30', '15E40',\n",
       "       '3B10', '10H40', '18F60', '8C30', '13D20', '11H20', '24C40',\n",
       "       '6B60', '1A30', '20G20', '8C20', '5F20', '10H50', '10H60', '19G20',\n",
       "       '12D30', '2A50', '14D10', '18F30', '8C50', '14D40', '2A60', '3B30',\n",
       "       '8C40', '10H70', '2A20', '20G60', '13D40', '9C10', '2A40', '18F10',\n",
       "       '13D30', '1A50', '1A20', '7C50', '11H40', '20G70', '12D50',\n",
       "       '24C20', '21I50', '9C30', '15E20', '12D60', '12D40', '24C30',\n",
       "       'UNK', '19G30', '11H50', '21I10', '10H80', '1A40', '24C50',\n",
       "       '21I40', '10H20', '23J50', '21I60', '21I70', '23J40', '23J10',\n",
       "       '7C60', '23J30', \"'12D10\", '23J20', '24C60', \"'18F50\", \"'15E20\",\n",
       "       \"'20G30\", \"'20G50\", nan, \"'16E20\", \"'10H80\", \"'6B60\", \"'18F20\",\n",
       "       \"'24C10\", \"'6B20\", \"'2A50\", \"'10H30\", \"'10H70\", \"'10H60\", \"'13D10\",\n",
       "       \"'18F60\", \"'5F20\", \"'2A30\", \"'6B40\", \"'12D60\", \"'1A50\", \"'14D30\",\n",
       "       \"'19G40\", \"'13D40\", \"'18F40\", \"'20G80\", \"'15E30\", \"'17E10\",\n",
       "       \"'10H40\", \"'10H50\", \"'1A30\", \"'11H50\", \"'11H30\", \"'6B30\", \"'8C30\",\n",
       "       \"'18F30\", \"'3B10\", \"'20G40\", \"'17E30\", \"'20G10\", \"'21I50\", \"'5F40\",\n",
       "       \"'9C20\", \"'16E10\", \"'11H10\", \"'19G30\", \"'9C40\", \"'12D70\", \"'18F10\",\n",
       "       \"'6B50\", \"'14D40\", \"'7C30\", \"'3B30\", \"'19G50\", \"'5F30\", \"'20G20\",\n",
       "       \"'1A10\", \"'13D20\", \"'15E40\", \"'7C40\", \"'2A40\", \"'12D30\", \"'12D20\",\n",
       "       \"'4F30\", \"'21I10\", \"'3B40\", \"'7C50\", \"'1A20\", \"'14D20\", \"'2A20\",\n",
       "       \"'20G60\", \"'14D50\", \"'17E20\", \"'10H20\", \"'20G70\", \"'17E40\",\n",
       "       \"'3B50\", \"'7C20\", \"'19G10\", \"'24C30\", \"'1A40\", \"'9C30\", \"'2A60\",\n",
       "       \"'8C10\", \"'9C10\", \"'14D10\", \"'10H10\", \"'15E10\", \"'6B10\", \"'5F10\",\n",
       "       \"'8C60\", \"'2A10\", \"'4F10\", \"'12D40\", \"'8C20\", \"'19G20\", \"'7C10\",\n",
       "       \"'4F20\", \"'11H40\", \"'11H20\", \"'24C20\", \"'UNK\", \"'12D50\", \"'24C40\",\n",
       "       \"'23J50\", \"'16E40\", \"'8C40\", \"'16E30\", \"'24C50\", \"'8C50\", 'HCSO',\n",
       "       'OOJ', 'UH-3P', '3B20'], dtype=object)"
      ]
     },
     "execution_count": 101,
     "metadata": {},
     "output_type": "execute_result"
    }
   ],
   "source": [
    "ddf.Beat.unique()"
   ]
  },
  {
   "cell_type": "code",
   "execution_count": 102,
   "metadata": {},
   "outputs": [
    {
     "data": {
      "text/html": [
       "<div>\n",
       "<style scoped>\n",
       "    .dataframe tbody tr th:only-of-type {\n",
       "        vertical-align: middle;\n",
       "    }\n",
       "\n",
       "    .dataframe tbody tr th {\n",
       "        vertical-align: top;\n",
       "    }\n",
       "\n",
       "    .dataframe thead th {\n",
       "        text-align: right;\n",
       "    }\n",
       "</style>\n",
       "<table border=\"1\" class=\"dataframe\">\n",
       "  <thead>\n",
       "    <tr style=\"text-align: right;\">\n",
       "      <th></th>\n",
       "      <th>Beat</th>\n",
       "      <th>BlockRange</th>\n",
       "      <th>StreetName</th>\n",
       "      <th>Offense Type</th>\n",
       "      <th>Premise</th>\n",
       "      <th># offenses</th>\n",
       "      <th>Hour</th>\n",
       "    </tr>\n",
       "    <tr>\n",
       "      <th>Date</th>\n",
       "      <th></th>\n",
       "      <th></th>\n",
       "      <th></th>\n",
       "      <th></th>\n",
       "      <th></th>\n",
       "      <th></th>\n",
       "      <th></th>\n",
       "    </tr>\n",
       "  </thead>\n",
       "  <tbody>\n",
       "    <tr>\n",
       "      <th>2013-06-11</th>\n",
       "      <td>NaN</td>\n",
       "      <td>2200-2299</td>\n",
       "      <td>W. DALLAS</td>\n",
       "      <td>Burglary</td>\n",
       "      <td>NaN</td>\n",
       "      <td>1.0</td>\n",
       "      <td>22</td>\n",
       "    </tr>\n",
       "    <tr>\n",
       "      <th>2013-12-01</th>\n",
       "      <td>NaN</td>\n",
       "      <td>700-799</td>\n",
       "      <td>W. DONOVAN</td>\n",
       "      <td>Theft</td>\n",
       "      <td>NaN</td>\n",
       "      <td>1.0</td>\n",
       "      <td>11</td>\n",
       "    </tr>\n",
       "    <tr>\n",
       "      <th>2014-06-05</th>\n",
       "      <td>NaN</td>\n",
       "      <td>2600-2699</td>\n",
       "      <td>LP W 405</td>\n",
       "      <td>Theft</td>\n",
       "      <td>NaN</td>\n",
       "      <td>1.0</td>\n",
       "      <td>13</td>\n",
       "    </tr>\n",
       "    <tr>\n",
       "      <th>2014-06-11</th>\n",
       "      <td>NaN</td>\n",
       "      <td>400-499</td>\n",
       "      <td>MAIN</td>\n",
       "      <td>Theft</td>\n",
       "      <td>NaN</td>\n",
       "      <td>1.0</td>\n",
       "      <td>14</td>\n",
       "    </tr>\n",
       "    <tr>\n",
       "      <th>2014-06-13</th>\n",
       "      <td>NaN</td>\n",
       "      <td>5400-5499</td>\n",
       "      <td>WEST LOOP S SER</td>\n",
       "      <td>Theft</td>\n",
       "      <td>NaN</td>\n",
       "      <td>1.0</td>\n",
       "      <td>14</td>\n",
       "    </tr>\n",
       "    <tr>\n",
       "      <th>2014-06-25</th>\n",
       "      <td>NaN</td>\n",
       "      <td>2100-2199</td>\n",
       "      <td>MAIN</td>\n",
       "      <td>Theft</td>\n",
       "      <td>NaN</td>\n",
       "      <td>1.0</td>\n",
       "      <td>14</td>\n",
       "    </tr>\n",
       "    <tr>\n",
       "      <th>2014-07-03</th>\n",
       "      <td>NaN</td>\n",
       "      <td>8400-8499</td>\n",
       "      <td>S. GESSNER</td>\n",
       "      <td>Theft</td>\n",
       "      <td>NaN</td>\n",
       "      <td>NaN</td>\n",
       "      <td>2</td>\n",
       "    </tr>\n",
       "    <tr>\n",
       "      <th>2014-07-10</th>\n",
       "      <td>NaN</td>\n",
       "      <td>800-899</td>\n",
       "      <td>GESSNER SUITE 970</td>\n",
       "      <td>Theft</td>\n",
       "      <td>NaN</td>\n",
       "      <td>NaN</td>\n",
       "      <td>20</td>\n",
       "    </tr>\n",
       "    <tr>\n",
       "      <th>2014-07-13</th>\n",
       "      <td>NaN</td>\n",
       "      <td>7800-7899</td>\n",
       "      <td>FM 1960</td>\n",
       "      <td>Theft</td>\n",
       "      <td>NaN</td>\n",
       "      <td>NaN</td>\n",
       "      <td>15</td>\n",
       "    </tr>\n",
       "    <tr>\n",
       "      <th>2014-07-13</th>\n",
       "      <td>NaN</td>\n",
       "      <td>500-599</td>\n",
       "      <td>W.38TH</td>\n",
       "      <td>Theft</td>\n",
       "      <td>NaN</td>\n",
       "      <td>NaN</td>\n",
       "      <td>8</td>\n",
       "    </tr>\n",
       "    <tr>\n",
       "      <th>2014-07-14</th>\n",
       "      <td>NaN</td>\n",
       "      <td>6600-6699</td>\n",
       "      <td>MERRY</td>\n",
       "      <td>Theft</td>\n",
       "      <td>NaN</td>\n",
       "      <td>NaN</td>\n",
       "      <td>9</td>\n",
       "    </tr>\n",
       "    <tr>\n",
       "      <th>2014-07-16</th>\n",
       "      <td>NaN</td>\n",
       "      <td>NaN</td>\n",
       "      <td>PEASE</td>\n",
       "      <td>Theft</td>\n",
       "      <td>NaN</td>\n",
       "      <td>NaN</td>\n",
       "      <td>13</td>\n",
       "    </tr>\n",
       "    <tr>\n",
       "      <th>2014-07-19</th>\n",
       "      <td>NaN</td>\n",
       "      <td>2100-2199</td>\n",
       "      <td>VINTAGE</td>\n",
       "      <td>Theft</td>\n",
       "      <td>NaN</td>\n",
       "      <td>NaN</td>\n",
       "      <td>11</td>\n",
       "    </tr>\n",
       "    <tr>\n",
       "      <th>2014-07-22</th>\n",
       "      <td>NaN</td>\n",
       "      <td>NaN</td>\n",
       "      <td>WALKER</td>\n",
       "      <td>Theft</td>\n",
       "      <td>NaN</td>\n",
       "      <td>NaN</td>\n",
       "      <td>20</td>\n",
       "    </tr>\n",
       "    <tr>\n",
       "      <th>2014-07-26</th>\n",
       "      <td>NaN</td>\n",
       "      <td>6100-6199</td>\n",
       "      <td>ATTWATER</td>\n",
       "      <td>Rape</td>\n",
       "      <td>NaN</td>\n",
       "      <td>NaN</td>\n",
       "      <td>14</td>\n",
       "    </tr>\n",
       "    <tr>\n",
       "      <th>2014-07-26</th>\n",
       "      <td>NaN</td>\n",
       "      <td>6100-6199</td>\n",
       "      <td>ATTWATER</td>\n",
       "      <td>Rape</td>\n",
       "      <td>NaN</td>\n",
       "      <td>NaN</td>\n",
       "      <td>15</td>\n",
       "    </tr>\n",
       "  </tbody>\n",
       "</table>\n",
       "</div>"
      ],
      "text/plain": [
       "           Beat BlockRange         StreetName Offense Type Premise  \\\n",
       "Date                                                                 \n",
       "2013-06-11  NaN  2200-2299          W. DALLAS     Burglary     NaN   \n",
       "2013-12-01  NaN    700-799         W. DONOVAN        Theft     NaN   \n",
       "2014-06-05  NaN  2600-2699           LP W 405        Theft     NaN   \n",
       "2014-06-11  NaN    400-499               MAIN        Theft     NaN   \n",
       "2014-06-13  NaN  5400-5499    WEST LOOP S SER        Theft     NaN   \n",
       "2014-06-25  NaN  2100-2199               MAIN        Theft     NaN   \n",
       "2014-07-03  NaN  8400-8499         S. GESSNER        Theft     NaN   \n",
       "2014-07-10  NaN    800-899  GESSNER SUITE 970        Theft     NaN   \n",
       "2014-07-13  NaN  7800-7899            FM 1960        Theft     NaN   \n",
       "2014-07-13  NaN    500-599             W.38TH        Theft     NaN   \n",
       "2014-07-14  NaN  6600-6699              MERRY        Theft     NaN   \n",
       "2014-07-16  NaN        NaN              PEASE        Theft     NaN   \n",
       "2014-07-19  NaN  2100-2199            VINTAGE        Theft     NaN   \n",
       "2014-07-22  NaN        NaN             WALKER        Theft     NaN   \n",
       "2014-07-26  NaN  6100-6199           ATTWATER         Rape     NaN   \n",
       "2014-07-26  NaN  6100-6199           ATTWATER         Rape     NaN   \n",
       "\n",
       "            # offenses Hour  \n",
       "Date                         \n",
       "2013-06-11         1.0   22  \n",
       "2013-12-01         1.0   11  \n",
       "2014-06-05         1.0   13  \n",
       "2014-06-11         1.0   14  \n",
       "2014-06-13         1.0   14  \n",
       "2014-06-25         1.0   14  \n",
       "2014-07-03         NaN    2  \n",
       "2014-07-10         NaN   20  \n",
       "2014-07-13         NaN   15  \n",
       "2014-07-13         NaN    8  \n",
       "2014-07-14         NaN    9  \n",
       "2014-07-16         NaN   13  \n",
       "2014-07-19         NaN   11  \n",
       "2014-07-22         NaN   20  \n",
       "2014-07-26         NaN   14  \n",
       "2014-07-26         NaN   15  "
      ]
     },
     "execution_count": 102,
     "metadata": {},
     "output_type": "execute_result"
    }
   ],
   "source": [
    "ddf[beat_nan]"
   ]
  },
  {
   "cell_type": "code",
   "execution_count": null,
   "metadata": {},
   "outputs": [],
   "source": []
  },
  {
   "cell_type": "code",
   "execution_count": null,
   "metadata": {},
   "outputs": [],
   "source": []
  },
  {
   "cell_type": "code",
   "execution_count": null,
   "metadata": {},
   "outputs": [],
   "source": []
  },
  {
   "cell_type": "code",
   "execution_count": null,
   "metadata": {},
   "outputs": [],
   "source": []
  },
  {
   "cell_type": "code",
   "execution_count": null,
   "metadata": {},
   "outputs": [],
   "source": []
  }
 ],
 "metadata": {
  "kernelspec": {
   "display_name": "Python 3",
   "language": "python",
   "name": "python3"
  },
  "language_info": {
   "codemirror_mode": {
    "name": "ipython",
    "version": 3
   },
   "file_extension": ".py",
   "mimetype": "text/x-python",
   "name": "python",
   "nbconvert_exporter": "python",
   "pygments_lexer": "ipython3",
   "version": "3.6.4"
  }
 },
 "nbformat": 4,
 "nbformat_minor": 2
}
