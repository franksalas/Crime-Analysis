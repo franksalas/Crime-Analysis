{
 "cells": [
  {
   "cell_type": "code",
   "execution_count": 1,
   "metadata": {},
   "outputs": [],
   "source": [
    "import warnings\n",
    "warnings.filterwarnings('ignore')"
   ]
  },
  {
   "cell_type": "code",
   "execution_count": 2,
   "metadata": {},
   "outputs": [],
   "source": [
    "import pandas as pd\n",
    "import glob, os\n",
    "import numpy as np\n",
    "import matplotlib.pyplot as plt\n",
    "import datetime  as dt\n",
    "import seaborn as sns"
   ]
  },
  {
   "cell_type": "code",
   "execution_count": 3,
   "metadata": {},
   "outputs": [],
   "source": [
    "data_folder = 'merge_data'"
   ]
  },
  {
   "cell_type": "code",
   "execution_count": 4,
   "metadata": {},
   "outputs": [],
   "source": [
    "# data folder path\n",
    "data_directory = os.path.join('..','data','clean_data/{}/crime_beats.csv'.format(data_folder))\n",
    "data_directory_saves = os.path.join( '..','data','clean_data','merge_data/')"
   ]
  },
  {
   "cell_type": "code",
   "execution_count": 5,
   "metadata": {},
   "outputs": [],
   "source": [
    "df = pd.read_csv(data_directory)"
   ]
  },
  {
   "cell_type": "code",
   "execution_count": 6,
   "metadata": {},
   "outputs": [
    {
     "name": "stdout",
     "output_type": "stream",
     "text": [
      "<class 'pandas.core.frame.DataFrame'>\n",
      "RangeIndex: 85578 entries, 0 to 85577\n",
      "Data columns (total 8 columns):\n",
      "date            85578 non-null object\n",
      "hour            85578 non-null int64\n",
      "beat            85578 non-null object\n",
      "offense_type    85578 non-null object\n",
      "block_range     85578 non-null object\n",
      "street_name     85578 non-null object\n",
      "premise         85578 non-null object\n",
      "num_offenses    85578 non-null int64\n",
      "dtypes: int64(2), object(6)\n",
      "memory usage: 5.2+ MB\n"
     ]
    }
   ],
   "source": [
    "df.info()"
   ]
  },
  {
   "cell_type": "code",
   "execution_count": 8,
   "metadata": {},
   "outputs": [
    {
     "data": {
      "text/html": [
       "<div>\n",
       "<style scoped>\n",
       "    .dataframe tbody tr th:only-of-type {\n",
       "        vertical-align: middle;\n",
       "    }\n",
       "\n",
       "    .dataframe tbody tr th {\n",
       "        vertical-align: top;\n",
       "    }\n",
       "\n",
       "    .dataframe thead th {\n",
       "        text-align: right;\n",
       "    }\n",
       "</style>\n",
       "<table border=\"1\" class=\"dataframe\">\n",
       "  <thead>\n",
       "    <tr style=\"text-align: right;\">\n",
       "      <th></th>\n",
       "      <th>date</th>\n",
       "      <th>hour</th>\n",
       "      <th>beat</th>\n",
       "      <th>offense_type</th>\n",
       "      <th>block_range</th>\n",
       "      <th>street_name</th>\n",
       "      <th>premise</th>\n",
       "      <th>num_offenses</th>\n",
       "    </tr>\n",
       "  </thead>\n",
       "  <tbody>\n",
       "    <tr>\n",
       "      <th>0</th>\n",
       "      <td>1916-05-23</td>\n",
       "      <td>19</td>\n",
       "      <td>10H70</td>\n",
       "      <td>Aggravated Assault</td>\n",
       "      <td>UNK</td>\n",
       "      <td>LIBERTY ROAD</td>\n",
       "      <td>Residence or House</td>\n",
       "      <td>1</td>\n",
       "    </tr>\n",
       "    <tr>\n",
       "      <th>1</th>\n",
       "      <td>1917-02-20</td>\n",
       "      <td>16</td>\n",
       "      <td>10H70</td>\n",
       "      <td>Theft</td>\n",
       "      <td>7500-7599</td>\n",
       "      <td>ARDMORE</td>\n",
       "      <td>Other Parking Lot</td>\n",
       "      <td>1</td>\n",
       "    </tr>\n",
       "    <tr>\n",
       "      <th>2</th>\n",
       "      <td>1963-02-02</td>\n",
       "      <td>13</td>\n",
       "      <td>10H40</td>\n",
       "      <td>Theft</td>\n",
       "      <td>3800-3899</td>\n",
       "      <td>MAIN</td>\n",
       "      <td>REHABILITATION CENTER</td>\n",
       "      <td>1</td>\n",
       "    </tr>\n",
       "    <tr>\n",
       "      <th>3</th>\n",
       "      <td>1966-01-01</td>\n",
       "      <td>0</td>\n",
       "      <td>10H50</td>\n",
       "      <td>Rape</td>\n",
       "      <td>3300-3399</td>\n",
       "      <td>ALABAMA</td>\n",
       "      <td>APARTMENT</td>\n",
       "      <td>1</td>\n",
       "    </tr>\n",
       "    <tr>\n",
       "      <th>4</th>\n",
       "      <td>1971-02-03</td>\n",
       "      <td>6</td>\n",
       "      <td>1A10</td>\n",
       "      <td>Theft</td>\n",
       "      <td>1200-1299</td>\n",
       "      <td>TRAVIS</td>\n",
       "      <td>Residence or House</td>\n",
       "      <td>1</td>\n",
       "    </tr>\n",
       "  </tbody>\n",
       "</table>\n",
       "</div>"
      ],
      "text/plain": [
       "         date  hour   beat        offense_type block_range   street_name  \\\n",
       "0  1916-05-23    19  10H70  Aggravated Assault         UNK  LIBERTY ROAD   \n",
       "1  1917-02-20    16  10H70               Theft   7500-7599       ARDMORE   \n",
       "2  1963-02-02    13  10H40               Theft   3800-3899          MAIN   \n",
       "3  1966-01-01     0  10H50                Rape   3300-3399       ALABAMA   \n",
       "4  1971-02-03     6   1A10               Theft   1200-1299        TRAVIS   \n",
       "\n",
       "                 premise  num_offenses  \n",
       "0     Residence or House             1  \n",
       "1      Other Parking Lot             1  \n",
       "2  REHABILITATION CENTER             1  \n",
       "3              APARTMENT             1  \n",
       "4     Residence or House             1  "
      ]
     },
     "execution_count": 8,
     "metadata": {},
     "output_type": "execute_result"
    }
   ],
   "source": [
    "df.head()"
   ]
  },
  {
   "cell_type": "markdown",
   "metadata": {},
   "source": [
    "## cleanup premise column"
   ]
  },
  {
   "cell_type": "code",
   "execution_count": 9,
   "metadata": {},
   "outputs": [
    {
     "data": {
      "text/plain": [
       "335"
      ]
     },
     "execution_count": 9,
     "metadata": {},
     "output_type": "execute_result"
    }
   ],
   "source": [
    "len(df.premise.unique())"
   ]
  },
  {
   "cell_type": "code",
   "execution_count": 10,
   "metadata": {},
   "outputs": [
    {
     "data": {
      "text/plain": [
       "Road, Street, or Sidewalk        7325\n",
       "ROAD/STREET/SIDEWALK             7063\n",
       "APARTMENT                        3982\n",
       "APARTMENT PARKING LOT            3681\n",
       "RESIDENCE/HOUSE                  3605\n",
       "UNK                              3598\n",
       "Residence or House               3229\n",
       "OTHER PARKING LOT                3101\n",
       "COMMERCIAL PARKING LOT/GARAGE    2541\n",
       "Apartment Parking Lot            2492\n",
       "Name: premise, dtype: int64"
      ]
     },
     "execution_count": 10,
     "metadata": {},
     "output_type": "execute_result"
    }
   ],
   "source": [
    "df.premise.value_counts()[:10]"
   ]
  },
  {
   "cell_type": "markdown",
   "metadata": {},
   "source": [
    "## lowercase all"
   ]
  },
  {
   "cell_type": "code",
   "execution_count": 11,
   "metadata": {},
   "outputs": [],
   "source": [
    "df.premise = df.premise.str.lower()"
   ]
  },
  {
   "cell_type": "code",
   "execution_count": 12,
   "metadata": {},
   "outputs": [
    {
     "data": {
      "text/plain": [
       "278"
      ]
     },
     "execution_count": 12,
     "metadata": {},
     "output_type": "execute_result"
    }
   ],
   "source": [
    "len(df.premise.unique())"
   ]
  },
  {
   "cell_type": "code",
   "execution_count": 13,
   "metadata": {},
   "outputs": [
    {
     "data": {
      "text/plain": [
       "road, street, or sidewalk        7325\n",
       "road/street/sidewalk             7063\n",
       "apartment parking lot            6173\n",
       "apartment                        6159\n",
       "other parking lot                4891\n",
       "residence/house                  3605\n",
       "unk                              3598\n",
       "residence or house               3229\n",
       "commercial parking lot/garage    2541\n",
       "hospital                         2162\n",
       "Name: premise, dtype: int64"
      ]
     },
     "execution_count": 13,
     "metadata": {},
     "output_type": "execute_result"
    }
   ],
   "source": [
    "df.premise.value_counts()[:10]"
   ]
  },
  {
   "cell_type": "code",
   "execution_count": null,
   "metadata": {},
   "outputs": [],
   "source": []
  },
  {
   "cell_type": "code",
   "execution_count": null,
   "metadata": {},
   "outputs": [],
   "source": []
  },
  {
   "cell_type": "code",
   "execution_count": 14,
   "metadata": {},
   "outputs": [],
   "source": [
    "def clean_premise(pat,df):\n",
    "    fil = df.premise.str.contains(pat,regex=True)\n",
    "    result = df[fil].premise.value_counts()\n",
    "    return result"
   ]
  },
  {
   "cell_type": "code",
   "execution_count": 15,
   "metadata": {},
   "outputs": [],
   "source": [
    "def change_premise(pat,df,new_premise):\n",
    "    df.premise = df.premise.str.replace(pat,new_premise,regex=True)"
   ]
  },
  {
   "cell_type": "markdown",
   "metadata": {},
   "source": [
    "## road"
   ]
  },
  {
   "cell_type": "code",
   "execution_count": 20,
   "metadata": {},
   "outputs": [],
   "source": [
    "word1 = 'road'\n",
    "word2 = 'street'"
   ]
  },
  {
   "cell_type": "code",
   "execution_count": 21,
   "metadata": {},
   "outputs": [
    {
     "data": {
      "text/plain": [
       "road, street, or sidewalk                                                                                                                                 7325\n",
       "road/street/sidewalk                                                                                                                                      7063\n",
       "road, street, or sidewalk                                                                                                                                  220\n",
       "Name: premise, dtype: int64"
      ]
     },
     "execution_count": 21,
     "metadata": {},
     "output_type": "execute_result"
    }
   ],
   "source": [
    "pat = r\"^(?=.*\\b{}\\b)(?=.*\\b{}\\b).*$\".format(word1,word2)\n",
    "clean_premise(pat,df)"
   ]
  },
  {
   "cell_type": "code",
   "execution_count": 22,
   "metadata": {},
   "outputs": [],
   "source": [
    "change_premise(pat,df,'road_street_sidewalk')"
   ]
  },
  {
   "cell_type": "code",
   "execution_count": 23,
   "metadata": {},
   "outputs": [
    {
     "data": {
      "text/plain": [
       "road_street_sidewalk             14608\n",
       "apartment parking lot             6173\n",
       "apartment                         6159\n",
       "other parking lot                 4891\n",
       "residence/house                   3605\n",
       "unk                               3598\n",
       "residence or house                3229\n",
       "commercial parking lot/garage     2541\n",
       "hospital                          2162\n",
       "other/unknown                     1967\n",
       "Name: premise, dtype: int64"
      ]
     },
     "execution_count": 23,
     "metadata": {},
     "output_type": "execute_result"
    }
   ],
   "source": [
    "df.premise.value_counts()[:10]"
   ]
  },
  {
   "cell_type": "markdown",
   "metadata": {},
   "source": [
    "## apartment parking"
   ]
  },
  {
   "cell_type": "code",
   "execution_count": 24,
   "metadata": {},
   "outputs": [],
   "source": [
    "word1 = 'apartment'\n",
    "word2 = 'parking'"
   ]
  },
  {
   "cell_type": "code",
   "execution_count": 25,
   "metadata": {},
   "outputs": [
    {
     "data": {
      "text/plain": [
       "apartment parking lot                                                                                                                                     6173\n",
       "apartment parking lot                                                                                                                                       75\n",
       "Name: premise, dtype: int64"
      ]
     },
     "execution_count": 25,
     "metadata": {},
     "output_type": "execute_result"
    }
   ],
   "source": [
    "pat = r\"^(?=.*\\b{}\\b)(?=.*\\b{}\\b).*$\".format(word1,word2)\n",
    "clean_premise(pat,df)"
   ]
  },
  {
   "cell_type": "code",
   "execution_count": 26,
   "metadata": {},
   "outputs": [],
   "source": [
    "change_premise(pat,df,'apartment_parking')"
   ]
  },
  {
   "cell_type": "code",
   "execution_count": 27,
   "metadata": {},
   "outputs": [
    {
     "data": {
      "text/plain": [
       "road_street_sidewalk             14608\n",
       "apartment_parking                 6248\n",
       "apartment                         6159\n",
       "other parking lot                 4891\n",
       "residence/house                   3605\n",
       "unk                               3598\n",
       "residence or house                3229\n",
       "commercial parking lot/garage     2541\n",
       "hospital                          2162\n",
       "other/unknown                     1967\n",
       "Name: premise, dtype: int64"
      ]
     },
     "execution_count": 27,
     "metadata": {},
     "output_type": "execute_result"
    }
   ],
   "source": [
    "df.premise.value_counts()[:10]"
   ]
  },
  {
   "cell_type": "markdown",
   "metadata": {},
   "source": [
    "## residence"
   ]
  },
  {
   "cell_type": "code",
   "execution_count": 28,
   "metadata": {},
   "outputs": [
    {
     "data": {
      "text/plain": [
       "residence/house                                                                                                                                           3605\n",
       "residence or house                                                                                                                                        3229\n",
       "vacant single occupancy residence (houses,townhouses,duplexes, etc.)                                                                                       187\n",
       "residence or house                                                                                                                                          73\n",
       "Name: premise, dtype: int64"
      ]
     },
     "execution_count": 28,
     "metadata": {},
     "output_type": "execute_result"
    }
   ],
   "source": [
    "word1 = 'residence'\n",
    "pat = r\"^(?=.*\\b{}\\b).*$\".format(word1)\n",
    "clean_premise(pat,df)"
   ]
  },
  {
   "cell_type": "code",
   "execution_count": 29,
   "metadata": {},
   "outputs": [],
   "source": [
    "change_premise(pat,df,'residence')"
   ]
  },
  {
   "cell_type": "code",
   "execution_count": 30,
   "metadata": {},
   "outputs": [
    {
     "data": {
      "text/plain": [
       "road_street_sidewalk             14608\n",
       "residence                         7094\n",
       "apartment_parking                 6248\n",
       "apartment                         6159\n",
       "other parking lot                 4891\n",
       "unk                               3598\n",
       "commercial parking lot/garage     2541\n",
       "hospital                          2162\n",
       "other/unknown                     1967\n",
       "driveway                          1857\n",
       "Name: premise, dtype: int64"
      ]
     },
     "execution_count": 30,
     "metadata": {},
     "output_type": "execute_result"
    }
   ],
   "source": [
    "df.premise.value_counts()[:10]"
   ]
  },
  {
   "cell_type": "markdown",
   "metadata": {},
   "source": [
    "## commercial parking"
   ]
  },
  {
   "cell_type": "code",
   "execution_count": 31,
   "metadata": {},
   "outputs": [
    {
     "data": {
      "text/plain": [
       "commercial parking lot/garage                                                                                                                             2541\n",
       "commercial parking lot or garage                                                                                                                          1794\n",
       "commercial parking lot or garage                                                                                                                            86\n",
       "Name: premise, dtype: int64"
      ]
     },
     "execution_count": 31,
     "metadata": {},
     "output_type": "execute_result"
    }
   ],
   "source": [
    "word1 = 'commercial'\n",
    "word2 = 'parking'\n",
    "\n",
    "pat = r\"^(?=.*\\b{}\\b)(?=.*\\b{}\\b).*$\".format(word1,word2)\n",
    "clean_premise(pat,df)"
   ]
  },
  {
   "cell_type": "code",
   "execution_count": 32,
   "metadata": {},
   "outputs": [],
   "source": [
    "change_premise(pat,df,'commercial_parking')"
   ]
  },
  {
   "cell_type": "code",
   "execution_count": 33,
   "metadata": {},
   "outputs": [
    {
     "data": {
      "text/plain": [
       "road_street_sidewalk    14608\n",
       "residence                7094\n",
       "apartment_parking        6248\n",
       "apartment                6159\n",
       "other parking lot        4891\n",
       "commercial_parking       4421\n",
       "unk                      3598\n",
       "hospital                 2162\n",
       "other/unknown            1967\n",
       "driveway                 1857\n",
       "Name: premise, dtype: int64"
      ]
     },
     "execution_count": 33,
     "metadata": {},
     "output_type": "execute_result"
    }
   ],
   "source": [
    "df.premise.value_counts()[:10]"
   ]
  },
  {
   "cell_type": "markdown",
   "metadata": {},
   "source": [
    "## restaurant parking"
   ]
  },
  {
   "cell_type": "code",
   "execution_count": 34,
   "metadata": {},
   "outputs": [
    {
     "data": {
      "text/plain": [
       "restaurant/cafeteria parking lot                                                                                                                          1077\n",
       "restaurant or cafeteria parking lot                                                                                                                       1060\n",
       "restaurant or cafeteria parking lot                                                                                                                         21\n",
       "Name: premise, dtype: int64"
      ]
     },
     "execution_count": 34,
     "metadata": {},
     "output_type": "execute_result"
    }
   ],
   "source": [
    "word1 = 'restaurant'\n",
    "word2 = 'parking'\n",
    "\n",
    "pat = r\"^(?=.*\\b{}\\b)(?=.*\\b{}\\b).*$\".format(word1,word2)\n",
    "clean_premise(pat,df)"
   ]
  },
  {
   "cell_type": "code",
   "execution_count": 35,
   "metadata": {},
   "outputs": [],
   "source": [
    "change_premise(pat,df,'restaurant_parking')"
   ]
  },
  {
   "cell_type": "code",
   "execution_count": 36,
   "metadata": {},
   "outputs": [
    {
     "data": {
      "text/plain": [
       "road_street_sidewalk    14608\n",
       "residence                7094\n",
       "apartment_parking        6248\n",
       "apartment                6159\n",
       "other parking lot        4891\n",
       "commercial_parking       4421\n",
       "unk                      3598\n",
       "hospital                 2162\n",
       "restaurant_parking       2158\n",
       "other/unknown            1967\n",
       "Name: premise, dtype: int64"
      ]
     },
     "execution_count": 36,
     "metadata": {},
     "output_type": "execute_result"
    }
   ],
   "source": [
    "df.premise.value_counts()[:10]"
   ]
  },
  {
   "cell_type": "code",
   "execution_count": 39,
   "metadata": {},
   "outputs": [
    {
     "data": {
      "text/plain": [
       "bar/night club parking lot                                                                                                                                690\n",
       "bar or night club parking lot                                                                                                                             559\n",
       "bar or night club parking lot                                                                                                                              13\n",
       "Name: premise, dtype: int64"
      ]
     },
     "execution_count": 39,
     "metadata": {},
     "output_type": "execute_result"
    }
   ],
   "source": [
    "word1 = 'club'\n",
    "word2 = 'parking'\n",
    "\n",
    "pat = r\"^(?=.*\\b{}\\b)(?=.*\\b{}\\b).*$\".format(word1,word2)\n",
    "clean_premise(pat,df)"
   ]
  },
  {
   "cell_type": "code",
   "execution_count": 40,
   "metadata": {},
   "outputs": [],
   "source": [
    "change_premise(pat,df,'bar_club_parking')"
   ]
  },
  {
   "cell_type": "code",
   "execution_count": 41,
   "metadata": {},
   "outputs": [
    {
     "data": {
      "text/plain": [
       "road_street_sidewalk    14608\n",
       "residence                7094\n",
       "apartment_parking        6248\n",
       "apartment                6159\n",
       "other parking lot        4891\n",
       "commercial_parking       4421\n",
       "unk                      3598\n",
       "hospital                 2162\n",
       "restaurant_parking       2158\n",
       "other/unknown            1967\n",
       "Name: premise, dtype: int64"
      ]
     },
     "execution_count": 41,
     "metadata": {},
     "output_type": "execute_result"
    }
   ],
   "source": [
    "df.premise.value_counts()[:10]"
   ]
  },
  {
   "cell_type": "code",
   "execution_count": 42,
   "metadata": {},
   "outputs": [
    {
     "data": {
      "text/plain": [
       "bar/night club                                                                                                                                            1036\n",
       "bar or night club                                                                                                                                          707\n",
       "bar or night club                                                                                                                                           18\n",
       "Name: premise, dtype: int64"
      ]
     },
     "execution_count": 42,
     "metadata": {},
     "output_type": "execute_result"
    }
   ],
   "source": [
    "word1 = 'club'\n",
    "word2 = 'bar'\n",
    "\n",
    "pat = r\"^(?=.*\\b{}\\b)(?=.*\\b{}\\b).*$\".format(word1,word2)\n",
    "clean_premise(pat,df)"
   ]
  },
  {
   "cell_type": "code",
   "execution_count": 43,
   "metadata": {},
   "outputs": [],
   "source": [
    "change_premise(pat,df,'bar_club')"
   ]
  },
  {
   "cell_type": "code",
   "execution_count": 44,
   "metadata": {},
   "outputs": [
    {
     "data": {
      "text/plain": [
       "road_street_sidewalk    14608\n",
       "residence                7094\n",
       "apartment_parking        6248\n",
       "apartment                6159\n",
       "other parking lot        4891\n",
       "commercial_parking       4421\n",
       "unk                      3598\n",
       "hospital                 2162\n",
       "restaurant_parking       2158\n",
       "other/unknown            1967\n",
       "Name: premise, dtype: int64"
      ]
     },
     "execution_count": 44,
     "metadata": {},
     "output_type": "execute_result"
    }
   ],
   "source": [
    "df.premise.value_counts()[:10]"
   ]
  },
  {
   "cell_type": "code",
   "execution_count": 47,
   "metadata": {},
   "outputs": [
    {
     "data": {
      "text/plain": [
       "grocery/supermarket parking lot                                                                                                                           226\n",
       "grocery store or supermarket parking lot                                                                                                                  208\n",
       "grocery store or supermarket parking lot                                                                                                                    4\n",
       "Name: premise, dtype: int64"
      ]
     },
     "execution_count": 47,
     "metadata": {},
     "output_type": "execute_result"
    }
   ],
   "source": [
    "word1 = 'grocery'\n",
    "word2 = 'parking'\n",
    "\n",
    "pat = r\"^(?=.*\\b{}\\b)(?=.*\\b{}\\b).*$\".format(word1,word2)\n",
    "clean_premise(pat,df)"
   ]
  },
  {
   "cell_type": "code",
   "execution_count": 48,
   "metadata": {},
   "outputs": [],
   "source": [
    "change_premise(pat,df,'supermarket_parking')"
   ]
  },
  {
   "cell_type": "code",
   "execution_count": 49,
   "metadata": {},
   "outputs": [
    {
     "data": {
      "text/plain": [
       "road_street_sidewalk    14608\n",
       "residence                7094\n",
       "apartment_parking        6248\n",
       "apartment                6159\n",
       "other parking lot        4891\n",
       "commercial_parking       4421\n",
       "unk                      3598\n",
       "hospital                 2162\n",
       "restaurant_parking       2158\n",
       "other/unknown            1967\n",
       "Name: premise, dtype: int64"
      ]
     },
     "execution_count": 49,
     "metadata": {},
     "output_type": "execute_result"
    }
   ],
   "source": [
    "df.premise.value_counts()[:10]"
   ]
  },
  {
   "cell_type": "code",
   "execution_count": 50,
   "metadata": {},
   "outputs": [
    {
     "data": {
      "text/plain": [
       "grocery/supermarket                                                                                                                                       954\n",
       "grocery store or supermarket                                                                                                                              515\n",
       "vacant grocery store or supermarket                                                                                                                        10\n",
       "grocery store or supermarket                                                                                                                                6\n",
       "vacant grocery/supermarket                                                                                                                                  1\n",
       "Name: premise, dtype: int64"
      ]
     },
     "execution_count": 50,
     "metadata": {},
     "output_type": "execute_result"
    }
   ],
   "source": [
    "word1 = 'grocery'\n",
    "word2 = 'supermarket'\n",
    "\n",
    "pat = r\"^(?=.*\\b{}\\b)(?=.*\\b{}\\b).*$\".format(word1,word2)\n",
    "clean_premise(pat,df)"
   ]
  },
  {
   "cell_type": "code",
   "execution_count": 51,
   "metadata": {},
   "outputs": [],
   "source": [
    "change_premise(pat,df,'supermarket')"
   ]
  },
  {
   "cell_type": "code",
   "execution_count": 52,
   "metadata": {},
   "outputs": [
    {
     "data": {
      "text/plain": [
       "road_street_sidewalk    14608\n",
       "residence                7094\n",
       "apartment_parking        6248\n",
       "apartment                6159\n",
       "other parking lot        4891\n",
       "commercial_parking       4421\n",
       "unk                      3598\n",
       "hospital                 2162\n",
       "restaurant_parking       2158\n",
       "other/unknown            1967\n",
       "Name: premise, dtype: int64"
      ]
     },
     "execution_count": 52,
     "metadata": {},
     "output_type": "execute_result"
    }
   ],
   "source": [
    "df.premise.value_counts()[:10]"
   ]
  },
  {
   "cell_type": "code",
   "execution_count": 53,
   "metadata": {},
   "outputs": [
    {
     "data": {
      "text/plain": [
       "department/discount store                                                                                                                                 1027\n",
       "department or discount store                                                                                                                               336\n",
       "department or discount store                                                                                                                                10\n",
       "Name: premise, dtype: int64"
      ]
     },
     "execution_count": 53,
     "metadata": {},
     "output_type": "execute_result"
    }
   ],
   "source": [
    "word1 = 'department'\n",
    "word2 = 'discount'\n",
    "\n",
    "pat = r\"^(?=.*\\b{}\\b)(?=.*\\b{}\\b).*$\".format(word1,word2)\n",
    "clean_premise(pat,df)"
   ]
  },
  {
   "cell_type": "code",
   "execution_count": 54,
   "metadata": {},
   "outputs": [],
   "source": [
    "change_premise(pat,df,'department_store')"
   ]
  },
  {
   "cell_type": "code",
   "execution_count": 55,
   "metadata": {},
   "outputs": [
    {
     "data": {
      "text/plain": [
       "road_street_sidewalk    14608\n",
       "residence                7094\n",
       "apartment_parking        6248\n",
       "apartment                6159\n",
       "other parking lot        4891\n",
       "commercial_parking       4421\n",
       "unk                      3598\n",
       "hospital                 2162\n",
       "restaurant_parking       2158\n",
       "other/unknown            1967\n",
       "Name: premise, dtype: int64"
      ]
     },
     "execution_count": 55,
     "metadata": {},
     "output_type": "execute_result"
    }
   ],
   "source": [
    "df.premise.value_counts()[:10]"
   ]
  },
  {
   "cell_type": "code",
   "execution_count": 56,
   "metadata": {},
   "outputs": [
    {
     "data": {
      "text/plain": [
       "hotel/motel parking lot                                                                                                                                   682\n",
       "hotel or motel parking lot                                                                                                                                528\n",
       "hotel or motel parking lot                                                                                                                                 25\n",
       "Name: premise, dtype: int64"
      ]
     },
     "execution_count": 56,
     "metadata": {},
     "output_type": "execute_result"
    }
   ],
   "source": [
    "word1 = 'hotel'\n",
    "word2 = 'parking'\n",
    "\n",
    "pat = r\"^(?=.*\\b{}\\b)(?=.*\\b{}\\b).*$\".format(word1,word2)\n",
    "clean_premise(pat,df)"
   ]
  },
  {
   "cell_type": "code",
   "execution_count": 57,
   "metadata": {},
   "outputs": [],
   "source": [
    "change_premise(pat,df,'hotel_motel_parking')"
   ]
  },
  {
   "cell_type": "code",
   "execution_count": 58,
   "metadata": {},
   "outputs": [
    {
     "data": {
      "text/plain": [
       "road_street_sidewalk    14608\n",
       "residence                7094\n",
       "apartment_parking        6248\n",
       "apartment                6159\n",
       "other parking lot        4891\n",
       "commercial_parking       4421\n",
       "unk                      3598\n",
       "hospital                 2162\n",
       "restaurant_parking       2158\n",
       "other/unknown            1967\n",
       "Name: premise, dtype: int64"
      ]
     },
     "execution_count": 58,
     "metadata": {},
     "output_type": "execute_result"
    }
   ],
   "source": [
    "df.premise.value_counts()[:10]"
   ]
  },
  {
   "cell_type": "code",
   "execution_count": 59,
   "metadata": {},
   "outputs": [
    {
     "data": {
      "text/plain": [
       "hotel/motel/etc.                                                                                                                                          623\n",
       "hotel, motel, inn, etc.                                                                                                                                   562\n",
       "hotel, motel, inn, etc.                                                                                                                                    14\n",
       "vacant hotel/motel/etc.                                                                                                                                     6\n",
       "vacant hotel, motel, etc.                                                                                                                                   2\n",
       "Name: premise, dtype: int64"
      ]
     },
     "execution_count": 59,
     "metadata": {},
     "output_type": "execute_result"
    }
   ],
   "source": [
    "word1 = 'hotel'\n",
    "word2 = 'motel'\n",
    "\n",
    "pat = r\"^(?=.*\\b{}\\b)(?=.*\\b{}\\b).*$\".format(word1,word2)\n",
    "clean_premise(pat,df)"
   ]
  },
  {
   "cell_type": "code",
   "execution_count": 60,
   "metadata": {},
   "outputs": [],
   "source": [
    "change_premise(pat,df,'hotel_motel')"
   ]
  },
  {
   "cell_type": "code",
   "execution_count": 61,
   "metadata": {},
   "outputs": [
    {
     "data": {
      "text/plain": [
       "road_street_sidewalk    14608\n",
       "residence                7094\n",
       "apartment_parking        6248\n",
       "apartment                6159\n",
       "other parking lot        4891\n",
       "commercial_parking       4421\n",
       "unk                      3598\n",
       "hospital                 2162\n",
       "restaurant_parking       2158\n",
       "other/unknown            1967\n",
       "Name: premise, dtype: int64"
      ]
     },
     "execution_count": 61,
     "metadata": {},
     "output_type": "execute_result"
    }
   ],
   "source": [
    "df.premise.value_counts()[:10]"
   ]
  },
  {
   "cell_type": "code",
   "execution_count": 63,
   "metadata": {},
   "outputs": [
    {
     "data": {
      "text/plain": [
       "restaurant/cafeteria                                                                                                                                      781\n",
       "restaurant or cafeteria                                                                                                                                   623\n",
       "restaurant or cafeteria                                                                                                                                    13\n",
       "Name: premise, dtype: int64"
      ]
     },
     "execution_count": 63,
     "metadata": {},
     "output_type": "execute_result"
    }
   ],
   "source": [
    "word1 = 'restaurant'\n",
    "word2 = 'cafeteria'\n",
    "\n",
    "pat = r\"^(?=.*\\b{}\\b)(?=.*\\b{}\\b).*$\".format(word1,word2)\n",
    "clean_premise(pat,df)"
   ]
  },
  {
   "cell_type": "code",
   "execution_count": 64,
   "metadata": {},
   "outputs": [],
   "source": [
    "change_premise(pat,df,'restaurant')"
   ]
  },
  {
   "cell_type": "code",
   "execution_count": 65,
   "metadata": {},
   "outputs": [
    {
     "data": {
      "text/plain": [
       "road_street_sidewalk    14608\n",
       "residence                7094\n",
       "apartment_parking        6248\n",
       "apartment                6159\n",
       "other parking lot        4891\n",
       "commercial_parking       4421\n",
       "unk                      3598\n",
       "hospital                 2162\n",
       "restaurant_parking       2158\n",
       "other/unknown            1967\n",
       "Name: premise, dtype: int64"
      ]
     },
     "execution_count": 65,
     "metadata": {},
     "output_type": "execute_result"
    }
   ],
   "source": [
    "df.premise.value_counts()[:10]"
   ]
  },
  {
   "cell_type": "code",
   "execution_count": 66,
   "metadata": {},
   "outputs": [
    {
     "data": {
      "text/plain": [
       "service or gas station                                                                                                                                    763\n",
       "service/gas station                                                                                                                                       556\n",
       "service or gas station                                                                                                                                     15\n",
       "Name: premise, dtype: int64"
      ]
     },
     "execution_count": 66,
     "metadata": {},
     "output_type": "execute_result"
    }
   ],
   "source": [
    "word1 = 'gas'\n",
    "word2 = 'station'\n",
    "\n",
    "pat = r\"^(?=.*\\b{}\\b)(?=.*\\b{}\\b).*$\".format(word1,word2)\n",
    "clean_premise(pat,df)"
   ]
  },
  {
   "cell_type": "code",
   "execution_count": 67,
   "metadata": {},
   "outputs": [],
   "source": [
    "change_premise(pat,df,'gas_station')"
   ]
  },
  {
   "cell_type": "code",
   "execution_count": 68,
   "metadata": {},
   "outputs": [
    {
     "data": {
      "text/plain": [
       "road_street_sidewalk    14608\n",
       "residence                7094\n",
       "apartment_parking        6248\n",
       "apartment                6159\n",
       "other parking lot        4891\n",
       "commercial_parking       4421\n",
       "unk                      3598\n",
       "hospital                 2162\n",
       "restaurant_parking       2158\n",
       "other/unknown            1967\n",
       "Name: premise, dtype: int64"
      ]
     },
     "execution_count": 68,
     "metadata": {},
     "output_type": "execute_result"
    }
   ],
   "source": [
    "df.premise.value_counts()[:10]"
   ]
  },
  {
   "cell_type": "code",
   "execution_count": 69,
   "metadata": {},
   "outputs": [
    {
     "data": {
      "text/plain": [
       "hospital parking lot                                                                                                                                      545\n",
       "hospital parking lot                                                                                                                                        7\n",
       "Name: premise, dtype: int64"
      ]
     },
     "execution_count": 69,
     "metadata": {},
     "output_type": "execute_result"
    }
   ],
   "source": [
    "word1 = 'hospital'\n",
    "word2 = 'parking'\n",
    "\n",
    "pat = r\"^(?=.*\\b{}\\b)(?=.*\\b{}\\b).*$\".format(word1,word2)\n",
    "clean_premise(pat,df)"
   ]
  },
  {
   "cell_type": "code",
   "execution_count": 70,
   "metadata": {},
   "outputs": [],
   "source": [
    "change_premise(pat,df,'hospital_parking')"
   ]
  },
  {
   "cell_type": "code",
   "execution_count": 72,
   "metadata": {},
   "outputs": [
    {
     "data": {
      "text/plain": [
       "driveway               1857\n",
       "bar_club               1761\n",
       "supermarket            1486\n",
       "restaurant             1417\n",
       "department_store       1373\n",
       "gas_station            1334\n",
       "bar_club_parking       1262\n",
       "hotel_motel_parking    1235\n",
       "hotel_motel            1207\n",
       "convenience store       911\n",
       "Name: premise, dtype: int64"
      ]
     },
     "execution_count": 72,
     "metadata": {},
     "output_type": "execute_result"
    }
   ],
   "source": [
    "df.premise.value_counts()[10:20]"
   ]
  },
  {
   "cell_type": "code",
   "execution_count": 74,
   "metadata": {},
   "outputs": [
    {
     "data": {
      "text/plain": [
       "convenience store parking lot                                                                                                                             568\n",
       "convenience store parking lot                                                                                                                               3\n",
       "Name: premise, dtype: int64"
      ]
     },
     "execution_count": 74,
     "metadata": {},
     "output_type": "execute_result"
    }
   ],
   "source": [
    "word1 = 'convenience'\n",
    "word2 = 'store'\n",
    "word3 = 'parking'\n",
    "pat = r\"^(?=.*\\b{}\\b)(?=.*\\b{}\\b)(?=.*\\b{}\\b).*$\".format(word1,word2,word3)\n",
    "clean_premise(pat,df)"
   ]
  },
  {
   "cell_type": "code",
   "execution_count": 75,
   "metadata": {},
   "outputs": [],
   "source": [
    "change_premise(pat,df,'convenience_store_parking')"
   ]
  },
  {
   "cell_type": "code",
   "execution_count": 76,
   "metadata": {},
   "outputs": [
    {
     "data": {
      "text/plain": [
       "convenience store                                                                                                                                         911\n",
       "convenience store                                                                                                                                           7\n",
       "Name: premise, dtype: int64"
      ]
     },
     "execution_count": 76,
     "metadata": {},
     "output_type": "execute_result"
    }
   ],
   "source": [
    "word1 = 'convenience'\n",
    "word2 = 'store'\n",
    "pat = r\"^(?=.*\\b{}\\b)(?=.*\\b{}\\b).*$\".format(word1,word2)\n",
    "clean_premise(pat,df)"
   ]
  },
  {
   "cell_type": "code",
   "execution_count": 77,
   "metadata": {},
   "outputs": [],
   "source": [
    "change_premise(pat,df,'convenience_store')"
   ]
  },
  {
   "cell_type": "code",
   "execution_count": 79,
   "metadata": {},
   "outputs": [
    {
     "data": {
      "text/plain": [
       "office building                             827\n",
       "commercial building                         789\n",
       "other, unknown, or not listed               778\n",
       "miscellaneous business (non-specific)       680\n",
       "strip business center parking lot           632\n",
       "convenience_store_parking                   571\n",
       "hospital_parking                            552\n",
       "construction site                           532\n",
       "parks and recreation, zoo, swimming pool    514\n",
       "parks & recreation, zoo, swim pool          504\n",
       "Name: premise, dtype: int64"
      ]
     },
     "execution_count": 79,
     "metadata": {},
     "output_type": "execute_result"
    }
   ],
   "source": [
    "df.premise.value_counts()[20:30]"
   ]
  },
  {
   "cell_type": "code",
   "execution_count": 81,
   "metadata": {},
   "outputs": [
    {
     "data": {
      "text/plain": [
       "office building                                                                                                                                           827\n",
       "commercial building                                                                                                                                       789\n",
       "government/public building                                                                                                                                124\n",
       "vacant building (commercial)                                                                                                                              121\n",
       "government or public building                                                                                                                              96\n",
       "maintenance/building services                                                                                                                              18\n",
       "maintenance or building services                                                                                                                           16\n",
       "commercial building                                                                                                                                         7\n",
       "vacant government/public building                                                                                                                           6\n",
       "vacant government or public building                                                                                                                        6\n",
       "office building                                                                                                                                             5\n",
       "government or public building                                                                                                                               2\n",
       "Name: premise, dtype: int64"
      ]
     },
     "execution_count": 81,
     "metadata": {},
     "output_type": "execute_result"
    }
   ],
   "source": [
    "word1 = 'building'\n",
    "pat = r\"^(?=.*\\b{}\\b).*$\".format(word1)\n",
    "clean_premise(pat,df)"
   ]
  },
  {
   "cell_type": "code",
   "execution_count": 82,
   "metadata": {},
   "outputs": [],
   "source": [
    "change_premise(pat,df,'building')"
   ]
  },
  {
   "cell_type": "code",
   "execution_count": 83,
   "metadata": {},
   "outputs": [
    {
     "data": {
      "text/plain": [
       "convenience_store                           918\n",
       "other, unknown, or not listed               778\n",
       "miscellaneous business (non-specific)       680\n",
       "strip business center parking lot           632\n",
       "convenience_store_parking                   571\n",
       "hospital_parking                            552\n",
       "construction site                           532\n",
       "parks and recreation, zoo, swimming pool    514\n",
       "parks & recreation, zoo, swim pool          504\n",
       "condominium                                 478\n",
       "Name: premise, dtype: int64"
      ]
     },
     "execution_count": 83,
     "metadata": {},
     "output_type": "execute_result"
    }
   ],
   "source": [
    "df.premise.value_counts()[20:30]"
   ]
  },
  {
   "cell_type": "code",
   "execution_count": 87,
   "metadata": {},
   "outputs": [
    {
     "data": {
      "text/plain": [
       "construction site                                                                                                                                         532\n",
       "construction site                                                                                                                                          12\n",
       "Name: premise, dtype: int64"
      ]
     },
     "execution_count": 87,
     "metadata": {},
     "output_type": "execute_result"
    }
   ],
   "source": [
    "word1 = 'construction'\n",
    "word2 = 'site'\n",
    "pat = r\"^(?=.*\\b{}\\b)(?=.*\\b{}\\b).*$\".format(word1,word2)\n",
    "clean_premise(pat,df)"
   ]
  },
  {
   "cell_type": "code",
   "execution_count": 88,
   "metadata": {},
   "outputs": [],
   "source": [
    "change_premise(pat,df,'construction_site')"
   ]
  },
  {
   "cell_type": "code",
   "execution_count": 89,
   "metadata": {},
   "outputs": [
    {
     "data": {
      "text/plain": [
       "convenience_store                           918\n",
       "other, unknown, or not listed               778\n",
       "miscellaneous business (non-specific)       680\n",
       "strip business center parking lot           632\n",
       "convenience_store_parking                   571\n",
       "hospital_parking                            552\n",
       "construction_site                           544\n",
       "parks and recreation, zoo, swimming pool    514\n",
       "parks & recreation, zoo, swim pool          504\n",
       "condominium                                 478\n",
       "Name: premise, dtype: int64"
      ]
     },
     "execution_count": 89,
     "metadata": {},
     "output_type": "execute_result"
    }
   ],
   "source": [
    "df.premise.value_counts()[20:30]"
   ]
  },
  {
   "cell_type": "code",
   "execution_count": 90,
   "metadata": {},
   "outputs": [
    {
     "data": {
      "text/plain": [
       "bus station                                                                                                                                               427\n",
       "bus stop                                                                                                                                                  425\n",
       "bus stop                                                                                                                                                    7\n",
       "bus station                                                                                                                                                 4\n",
       "Name: premise, dtype: int64"
      ]
     },
     "execution_count": 90,
     "metadata": {},
     "output_type": "execute_result"
    }
   ],
   "source": [
    "word1 = 'bus'\n",
    "pat = r\"^(?=.*\\b{}\\b).*$\".format(word1)\n",
    "clean_premise(pat,df)"
   ]
  },
  {
   "cell_type": "code",
   "execution_count": 91,
   "metadata": {},
   "outputs": [],
   "source": [
    "change_premise(pat,df,'bus_stop_station')"
   ]
  },
  {
   "cell_type": "code",
   "execution_count": 92,
   "metadata": {},
   "outputs": [
    {
     "data": {
      "text/plain": [
       "convenience_store                           918\n",
       "bus_stop_station                            863\n",
       "other, unknown, or not listed               778\n",
       "miscellaneous business (non-specific)       680\n",
       "strip business center parking lot           632\n",
       "convenience_store_parking                   571\n",
       "hospital_parking                            552\n",
       "construction_site                           544\n",
       "parks and recreation, zoo, swimming pool    514\n",
       "parks & recreation, zoo, swim pool          504\n",
       "Name: premise, dtype: int64"
      ]
     },
     "execution_count": 92,
     "metadata": {},
     "output_type": "execute_result"
    }
   ],
   "source": [
    "df.premise.value_counts()[20:30]"
   ]
  },
  {
   "cell_type": "code",
   "execution_count": 93,
   "metadata": {},
   "outputs": [
    {
     "data": {
      "text/plain": [
       "parks and recreation, zoo, swimming pool                                                                                                                  514\n",
       "parks & recreation, zoo, swim pool                                                                                                                        504\n",
       "parks and recreation, zoo, swimming pool                                                                                                                   25\n",
       "Name: premise, dtype: int64"
      ]
     },
     "execution_count": 93,
     "metadata": {},
     "output_type": "execute_result"
    }
   ],
   "source": [
    "word1 = 'parks'\n",
    "pat = r\"^(?=.*\\b{}\\b).*$\".format(word1)\n",
    "clean_premise(pat,df)"
   ]
  },
  {
   "cell_type": "code",
   "execution_count": 94,
   "metadata": {},
   "outputs": [],
   "source": [
    "change_premise(pat,df,'park_rec_pool')"
   ]
  },
  {
   "cell_type": "code",
   "execution_count": 95,
   "metadata": {},
   "outputs": [
    {
     "data": {
      "text/plain": [
       "park_rec_pool                            1043\n",
       "convenience_store                         918\n",
       "bus_stop_station                          863\n",
       "other, unknown, or not listed             778\n",
       "miscellaneous business (non-specific)     680\n",
       "strip business center parking lot         632\n",
       "convenience_store_parking                 571\n",
       "hospital_parking                          552\n",
       "construction_site                         544\n",
       "condominium                               478\n",
       "Name: premise, dtype: int64"
      ]
     },
     "execution_count": 95,
     "metadata": {},
     "output_type": "execute_result"
    }
   ],
   "source": [
    "df.premise.value_counts()[20:30]"
   ]
  },
  {
   "cell_type": "code",
   "execution_count": 98,
   "metadata": {},
   "outputs": [
    {
     "data": {
      "text/plain": [
       "sexually oriented club                    28\n",
       "sexually oriented business parking lot    24\n",
       "Name: premise, dtype: int64"
      ]
     },
     "execution_count": 98,
     "metadata": {},
     "output_type": "execute_result"
    }
   ],
   "source": [
    "word1 = 'sexually'\n",
    "pat = r\"^(?=.*\\b{}\\b).*$\".format(word1)\n",
    "clean_premise(pat,df)"
   ]
  },
  {
   "cell_type": "code",
   "execution_count": 99,
   "metadata": {},
   "outputs": [],
   "source": [
    "change_premise(pat,df,'sexually_oriented_business')"
   ]
  },
  {
   "cell_type": "code",
   "execution_count": 101,
   "metadata": {},
   "outputs": [
    {
     "data": {
      "text/plain": [
       "strip business center parking lot                                                                                                                         632\n",
       "strip business center parking lot                                                                                                                           6\n",
       "Name: premise, dtype: int64"
      ]
     },
     "execution_count": 101,
     "metadata": {},
     "output_type": "execute_result"
    }
   ],
   "source": [
    "word1 = 'business'\n",
    "word2 = 'parking'\n",
    "pat = r\"^(?=.*\\b{}\\b)(?=.*\\b{}\\b).*$\".format(word1,word2)\n",
    "clean_premise(pat,df)"
   ]
  },
  {
   "cell_type": "code",
   "execution_count": 102,
   "metadata": {},
   "outputs": [],
   "source": [
    "change_premise(pat,df,'business_center_parking')"
   ]
  },
  {
   "cell_type": "code",
   "execution_count": null,
   "metadata": {},
   "outputs": [],
   "source": []
  },
  {
   "cell_type": "code",
   "execution_count": null,
   "metadata": {},
   "outputs": [],
   "source": []
  },
  {
   "cell_type": "code",
   "execution_count": 103,
   "metadata": {},
   "outputs": [
    {
     "data": {
      "text/plain": [
       "miscellaneous business (non-specific)                                                                                                                     680\n",
       "misc. business (non-specific)                                                                                                                             349\n",
       "miscellaneous business (non-specific)                                                                                                                      22\n",
       "Name: premise, dtype: int64"
      ]
     },
     "execution_count": 103,
     "metadata": {},
     "output_type": "execute_result"
    }
   ],
   "source": [
    "word1 = 'business'\n",
    "pat = r\"^(?=.*\\b{}\\b).*$\".format(word1)\n",
    "clean_premise(pat,df)"
   ]
  },
  {
   "cell_type": "code",
   "execution_count": 104,
   "metadata": {},
   "outputs": [],
   "source": [
    "change_premise(pat,df,'business')"
   ]
  },
  {
   "cell_type": "code",
   "execution_count": 106,
   "metadata": {},
   "outputs": [
    {
     "data": {
      "text/plain": [
       "garage or carport                            445\n",
       "supermarket_parking                          438\n",
       "multi-plex hme(duplex,triplex etc)           422\n",
       "specialty store (non-specific)               391\n",
       "stadium, sports arena, race track            353\n",
       "stadium/sprts arena/race track               328\n",
       "garage/carport                               322\n",
       "drug store/medical supply                    316\n",
       "clothing store                               287\n",
       "vehicle/auto sales/lease/auto parts store    255\n",
       "Name: premise, dtype: int64"
      ]
     },
     "execution_count": 106,
     "metadata": {},
     "output_type": "execute_result"
    }
   ],
   "source": [
    "df.premise.value_counts()[30:40]"
   ]
  },
  {
   "cell_type": "code",
   "execution_count": 108,
   "metadata": {},
   "outputs": [
    {
     "data": {
      "text/plain": [
       "stadium, sports arena, race track                                                                                                                         353\n",
       "stadium/sprts arena/race track                                                                                                                            328\n",
       "stadium, sports arena, race track                                                                                                                          12\n",
       "Name: premise, dtype: int64"
      ]
     },
     "execution_count": 108,
     "metadata": {},
     "output_type": "execute_result"
    }
   ],
   "source": [
    "word1 = 'stadium'\n",
    "pat = r\"^(?=.*\\b{}\\b).*$\".format(word1)\n",
    "clean_premise(pat,df)"
   ]
  },
  {
   "cell_type": "code",
   "execution_count": 109,
   "metadata": {},
   "outputs": [],
   "source": [
    "change_premise(pat,df,'stadium_arena_track')"
   ]
  },
  {
   "cell_type": "code",
   "execution_count": 110,
   "metadata": {},
   "outputs": [
    {
     "data": {
      "text/plain": [
       "condominium                                  478\n",
       "garage or carport                            445\n",
       "supermarket_parking                          438\n",
       "multi-plex hme(duplex,triplex etc)           422\n",
       "specialty store (non-specific)               391\n",
       "garage/carport                               322\n",
       "drug store/medical supply                    316\n",
       "clothing store                               287\n",
       "vehicle/auto sales/lease/auto parts store    255\n",
       "libraries, museums                           215\n",
       "Name: premise, dtype: int64"
      ]
     },
     "execution_count": 110,
     "metadata": {},
     "output_type": "execute_result"
    }
   ],
   "source": [
    "df.premise.value_counts()[30:40]"
   ]
  },
  {
   "cell_type": "code",
   "execution_count": 111,
   "metadata": {},
   "outputs": [
    {
     "data": {
      "text/plain": [
       "drug store/medical supply                                                                                                                                 316\n",
       "drug store or medical supply                                                                                                                              162\n",
       "drug store or medical supply                                                                                                                                3\n",
       "Name: premise, dtype: int64"
      ]
     },
     "execution_count": 111,
     "metadata": {},
     "output_type": "execute_result"
    }
   ],
   "source": [
    "word1 = 'drug'\n",
    "pat = r\"^(?=.*\\b{}\\b).*$\".format(word1)\n",
    "clean_premise(pat,df)"
   ]
  },
  {
   "cell_type": "code",
   "execution_count": 112,
   "metadata": {},
   "outputs": [],
   "source": [
    "change_premise(pat,df,'drug_store')"
   ]
  },
  {
   "cell_type": "code",
   "execution_count": 113,
   "metadata": {},
   "outputs": [
    {
     "data": {
      "text/plain": [
       "drug_store                                   481\n",
       "condominium                                  478\n",
       "garage or carport                            445\n",
       "supermarket_parking                          438\n",
       "multi-plex hme(duplex,triplex etc)           422\n",
       "specialty store (non-specific)               391\n",
       "garage/carport                               322\n",
       "clothing store                               287\n",
       "vehicle/auto sales/lease/auto parts store    255\n",
       "libraries, museums                           215\n",
       "Name: premise, dtype: int64"
      ]
     },
     "execution_count": 113,
     "metadata": {},
     "output_type": "execute_result"
    }
   ],
   "source": [
    "df.premise.value_counts()[30:40]"
   ]
  },
  {
   "cell_type": "code",
   "execution_count": 116,
   "metadata": {},
   "outputs": [
    {
     "data": {
      "text/plain": [
       "liquor store                                                                                                                                              67\n",
       "liquor store parking lot                                                                                                                                  24\n",
       "liquor store                                                                                                                                               3\n",
       "liquor store parking lot                                                                                                                                   2\n",
       "Name: premise, dtype: int64"
      ]
     },
     "execution_count": 116,
     "metadata": {},
     "output_type": "execute_result"
    }
   ],
   "source": [
    "word1 = 'liquor'\n",
    "pat = r\"^(?=.*\\b{}\\b).*$\".format(word1)\n",
    "clean_premise(pat,df)"
   ]
  },
  {
   "cell_type": "code",
   "execution_count": 117,
   "metadata": {},
   "outputs": [],
   "source": [
    "change_premise(pat,df,'liquor_store')"
   ]
  },
  {
   "cell_type": "code",
   "execution_count": 118,
   "metadata": {},
   "outputs": [
    {
     "data": {
      "text/plain": [
       "drug_store                                   481\n",
       "condominium                                  478\n",
       "garage or carport                            445\n",
       "supermarket_parking                          438\n",
       "multi-plex hme(duplex,triplex etc)           422\n",
       "specialty store (non-specific)               391\n",
       "garage/carport                               322\n",
       "clothing store                               287\n",
       "vehicle/auto sales/lease/auto parts store    255\n",
       "libraries, museums                           215\n",
       "Name: premise, dtype: int64"
      ]
     },
     "execution_count": 118,
     "metadata": {},
     "output_type": "execute_result"
    }
   ],
   "source": [
    "df.premise.value_counts()[30:40]"
   ]
  },
  {
   "cell_type": "code",
   "execution_count": 121,
   "metadata": {},
   "outputs": [
    {
     "data": {
      "text/plain": [
       "auto repair                                                                                                                                               115\n",
       "auto repair                                                                                                                                                 1\n",
       "Name: premise, dtype: int64"
      ]
     },
     "execution_count": 121,
     "metadata": {},
     "output_type": "execute_result"
    }
   ],
   "source": [
    "word1 = 'auto'\n",
    "word2 = 'repair'\n",
    "pat = r\"^(?=.*\\b{}\\b)(?=.*\\b{}\\b).*$\".format(word1,word2)\n",
    "clean_premise(pat,df)"
   ]
  },
  {
   "cell_type": "code",
   "execution_count": 122,
   "metadata": {},
   "outputs": [],
   "source": [
    "change_premise(pat,df,'auto_repair')"
   ]
  },
  {
   "cell_type": "code",
   "execution_count": 123,
   "metadata": {},
   "outputs": [
    {
     "data": {
      "text/plain": [
       "vehicle/auto sales/lease/auto parts store                                                                                                                 255\n",
       "vehicle/auto sales/lease/auto parts store                                                                                                                   2\n",
       "Name: premise, dtype: int64"
      ]
     },
     "execution_count": 123,
     "metadata": {},
     "output_type": "execute_result"
    }
   ],
   "source": [
    "word1 = 'auto'\n",
    "pat = r\"^(?=.*\\b{}\\b).*$\".format(word1)\n",
    "clean_premise(pat,df)"
   ]
  },
  {
   "cell_type": "code",
   "execution_count": 124,
   "metadata": {},
   "outputs": [],
   "source": [
    "change_premise(pat,df,'auto_sale_parts_store')"
   ]
  },
  {
   "cell_type": "code",
   "execution_count": 125,
   "metadata": {},
   "outputs": [
    {
     "data": {
      "text/plain": [
       "drug_store                            481\n",
       "condominium                           478\n",
       "garage or carport                     445\n",
       "supermarket_parking                   438\n",
       "multi-plex hme(duplex,triplex etc)    422\n",
       "specialty store (non-specific)        391\n",
       "garage/carport                        322\n",
       "clothing store                        287\n",
       "auto_sale_parts_store                 257\n",
       "libraries, museums                    215\n",
       "Name: premise, dtype: int64"
      ]
     },
     "execution_count": 125,
     "metadata": {},
     "output_type": "execute_result"
    }
   ],
   "source": [
    "df.premise.value_counts()[30:40]"
   ]
  },
  {
   "cell_type": "code",
   "execution_count": 126,
   "metadata": {},
   "outputs": [
    {
     "data": {
      "text/plain": [
       "high school                                                                                                                                               141\n",
       "elementary school                                                                                                                                          50\n",
       "private school                                                                                                                                             36\n",
       "middle school                                                                                                                                              23\n",
       "commercial or training school                                                                                                                              20\n",
       "vacant school or college/university                                                                                                                        17\n",
       "vacant school/college                                                                                                                                       2\n",
       "vacant school or college/university                                                                                                                         1\n",
       "high school                                                                                                                                                 1\n",
       "Name: premise, dtype: int64"
      ]
     },
     "execution_count": 126,
     "metadata": {},
     "output_type": "execute_result"
    }
   ],
   "source": [
    "word1 = 'school'\n",
    "pat = r\"^(?=.*\\b{}\\b).*$\".format(word1)\n",
    "clean_premise(pat,df)"
   ]
  },
  {
   "cell_type": "code",
   "execution_count": 127,
   "metadata": {},
   "outputs": [],
   "source": [
    "change_premise(pat,df,'school')"
   ]
  },
  {
   "cell_type": "code",
   "execution_count": 129,
   "metadata": {},
   "outputs": [
    {
     "data": {
      "text/plain": [
       "libraries, museums                                                                                                                                        215\n",
       "libraries, museums                                                                                                                                          3\n",
       "Name: premise, dtype: int64"
      ]
     },
     "execution_count": 129,
     "metadata": {},
     "output_type": "execute_result"
    }
   ],
   "source": [
    "word1 = 'libraries'\n",
    "pat = r\"^(?=.*\\b{}\\b).*$\".format(word1)\n",
    "clean_premise(pat,df)"
   ]
  },
  {
   "cell_type": "code",
   "execution_count": 130,
   "metadata": {},
   "outputs": [],
   "source": [
    "change_premise(pat,df,'libraries_museums')"
   ]
  },
  {
   "cell_type": "code",
   "execution_count": 132,
   "metadata": {},
   "outputs": [
    {
     "data": {
      "text/plain": [
       "libraries_museums                             218\n",
       "church/synagogue/temple                       198\n",
       "vacant single occ resd(house,townhs,dplex)    185\n",
       "rental storage facility                       176\n",
       "warehouse                                     171\n",
       "gym,recreat,club hse,indr pool,spa            164\n",
       "university/college                            146\n",
       "gym, recreat, club house, indoor pool, spa    140\n",
       "convention center/exhibit halls               136\n",
       "church/synagogue/temple parking lot           130\n",
       "Name: premise, dtype: int64"
      ]
     },
     "execution_count": 132,
     "metadata": {},
     "output_type": "execute_result"
    }
   ],
   "source": [
    "df.premise.value_counts()[40:50]"
   ]
  },
  {
   "cell_type": "code",
   "execution_count": 134,
   "metadata": {},
   "outputs": [
    {
     "data": {
      "text/plain": [
       "church/synagogue/temple parking lot         130\n",
       "church, synagogue, or temple parking lot    106\n",
       "Name: premise, dtype: int64"
      ]
     },
     "execution_count": 134,
     "metadata": {},
     "output_type": "execute_result"
    }
   ],
   "source": [
    "word1 = 'church'\n",
    "word2 = 'parking'\n",
    "pat = r\"^(?=.*\\b{}\\b)(?=.*\\b{}\\b).*$\".format(word1,word2)\n",
    "clean_premise(pat,df)"
   ]
  },
  {
   "cell_type": "code",
   "execution_count": 135,
   "metadata": {},
   "outputs": [],
   "source": [
    "change_premise(pat,df,'church_temple_parking')"
   ]
  },
  {
   "cell_type": "code",
   "execution_count": 136,
   "metadata": {},
   "outputs": [
    {
     "data": {
      "text/plain": [
       "church/synagogue/temple                                                                                                                                   198\n",
       "church, synagogue, or temple                                                                                                                               85\n",
       "vacant church/synagogue/temple                                                                                                                              5\n",
       "vacant church, synagogue, or temple                                                                                                                         4\n",
       "church, synagogue, or temple                                                                                                                                2\n",
       "Name: premise, dtype: int64"
      ]
     },
     "execution_count": 136,
     "metadata": {},
     "output_type": "execute_result"
    }
   ],
   "source": [
    "word1 = 'church'\n",
    "pat = r\"^(?=.*\\b{}\\b).*$\".format(word1)\n",
    "clean_premise(pat,df)"
   ]
  },
  {
   "cell_type": "code",
   "execution_count": 137,
   "metadata": {},
   "outputs": [],
   "source": [
    "change_premise(pat,df,'church_temple')"
   ]
  },
  {
   "cell_type": "code",
   "execution_count": 138,
   "metadata": {},
   "outputs": [
    {
     "data": {
      "text/plain": [
       "auto_sale_parts_store                         257\n",
       "church_temple_parking                         236\n",
       "libraries_museums                             218\n",
       "vacant single occ resd(house,townhs,dplex)    185\n",
       "rental storage facility                       176\n",
       "warehouse                                     171\n",
       "gym,recreat,club hse,indr pool,spa            164\n",
       "university/college                            146\n",
       "gym, recreat, club house, indoor pool, spa    140\n",
       "convention center/exhibit halls               136\n",
       "Name: premise, dtype: int64"
      ]
     },
     "execution_count": 138,
     "metadata": {},
     "output_type": "execute_result"
    }
   ],
   "source": [
    "df.premise.value_counts()[40:50]"
   ]
  },
  {
   "cell_type": "code",
   "execution_count": 139,
   "metadata": {},
   "outputs": [
    {
     "data": {
      "text/plain": [
       "gym,recreat,club hse,indr pool,spa                                                                                                                        164\n",
       "gym, recreat, club house, indoor pool, spa                                                                                                                140\n",
       "gym, recreat, club house, indoor pool                                                                                                                      41\n",
       "gym, recreat, club house, indoor pool                                                                                                                       6\n",
       "Name: premise, dtype: int64"
      ]
     },
     "execution_count": 139,
     "metadata": {},
     "output_type": "execute_result"
    }
   ],
   "source": [
    "word1 = 'gym'\n",
    "pat = r\"^(?=.*\\b{}\\b).*$\".format(word1)\n",
    "clean_premise(pat,df)"
   ]
  },
  {
   "cell_type": "code",
   "execution_count": 140,
   "metadata": {},
   "outputs": [],
   "source": [
    "change_premise(pat,df,'gym_club_house')"
   ]
  },
  {
   "cell_type": "code",
   "execution_count": 141,
   "metadata": {},
   "outputs": [
    {
     "data": {
      "text/plain": [
       "clothing store                                287\n",
       "auto_sale_parts_store                         257\n",
       "church_temple_parking                         236\n",
       "libraries_museums                             218\n",
       "vacant single occ resd(house,townhs,dplex)    185\n",
       "rental storage facility                       176\n",
       "warehouse                                     171\n",
       "university/college                            146\n",
       "convention center/exhibit halls               136\n",
       "convention center or exhibit halls            128\n",
       "Name: premise, dtype: int64"
      ]
     },
     "execution_count": 141,
     "metadata": {},
     "output_type": "execute_result"
    }
   ],
   "source": [
    "df.premise.value_counts()[40:50]"
   ]
  },
  {
   "cell_type": "code",
   "execution_count": 142,
   "metadata": {},
   "outputs": [
    {
     "data": {
      "text/plain": [
       "rental storage facility                                                                                                                                   176\n",
       "vacant storage fac (barn,garage,warehouse)                                                                                                                 12\n",
       "vacant storage facility (barns,garages,warehouses,etc.)                                                                                                     4\n",
       "rental storage facility                                                                                                                                     4\n",
       "vacant storage fac (barn,garage,warehouse)                                                                                                                  1\n",
       "Name: premise, dtype: int64"
      ]
     },
     "execution_count": 142,
     "metadata": {},
     "output_type": "execute_result"
    }
   ],
   "source": [
    "word1 = 'storage'\n",
    "pat = r\"^(?=.*\\b{}\\b).*$\".format(word1)\n",
    "clean_premise(pat,df)"
   ]
  },
  {
   "cell_type": "code",
   "execution_count": 143,
   "metadata": {},
   "outputs": [],
   "source": [
    "change_premise(pat,df,'storage_facility')"
   ]
  },
  {
   "cell_type": "code",
   "execution_count": 144,
   "metadata": {},
   "outputs": [
    {
     "data": {
      "text/plain": [
       "clothing store                                287\n",
       "auto_sale_parts_store                         257\n",
       "church_temple_parking                         236\n",
       "libraries_museums                             218\n",
       "storage_facility                              197\n",
       "vacant single occ resd(house,townhs,dplex)    185\n",
       "warehouse                                     171\n",
       "university/college                            146\n",
       "convention center/exhibit halls               136\n",
       "convention center or exhibit halls            128\n",
       "Name: premise, dtype: int64"
      ]
     },
     "execution_count": 144,
     "metadata": {},
     "output_type": "execute_result"
    }
   ],
   "source": [
    "df.premise.value_counts()[40:50]"
   ]
  },
  {
   "cell_type": "code",
   "execution_count": 145,
   "metadata": {},
   "outputs": [
    {
     "data": {
      "text/plain": [
       "convention center/exhibit halls                                                                                                                           136\n",
       "convention center or exhibit halls                                                                                                                        128\n",
       "convention center or exhibit halls                                                                                                                          8\n",
       "Name: premise, dtype: int64"
      ]
     },
     "execution_count": 145,
     "metadata": {},
     "output_type": "execute_result"
    }
   ],
   "source": [
    "word1 = 'convention'\n",
    "pat = r\"^(?=.*\\b{}\\b).*$\".format(word1)\n",
    "clean_premise(pat,df)"
   ]
  },
  {
   "cell_type": "code",
   "execution_count": 146,
   "metadata": {},
   "outputs": [],
   "source": [
    "change_premise(pat,df,'convention_center')"
   ]
  },
  {
   "cell_type": "code",
   "execution_count": 148,
   "metadata": {},
   "outputs": [
    {
     "data": {
      "text/plain": [
       "auto_repair                              116\n",
       "multi-plex home (duplex,triplex etc.)    113\n",
       "highway/freeway                          112\n",
       "bank                                     112\n",
       "light rail (metro rail) vehicle          111\n",
       "physician's office                       107\n",
       "barber and beauty shops                  100\n",
       "liquor_store                              96\n",
       "field, woods, forest, park                87\n",
       "bank/saving institution parking lot       77\n",
       "Name: premise, dtype: int64"
      ]
     },
     "execution_count": 148,
     "metadata": {},
     "output_type": "execute_result"
    }
   ],
   "source": [
    "df.premise.value_counts()[50:60]"
   ]
  },
  {
   "cell_type": "code",
   "execution_count": 150,
   "metadata": {},
   "outputs": [
    {
     "data": {
      "text/plain": [
       "bank/saving institution parking lot                                                                                                                       77\n",
       "bank or savings institution parking lot                                                                                                                   42\n",
       "bank or savings institution parking lot                                                                                                                    2\n",
       "Name: premise, dtype: int64"
      ]
     },
     "execution_count": 150,
     "metadata": {},
     "output_type": "execute_result"
    }
   ],
   "source": [
    "word1 = 'bank'\n",
    "word2 = 'parking'\n",
    "pat = r\"^(?=.*\\b{}\\b)(?=.*\\b{}\\b).*$\".format(word1,word2)\n",
    "clean_premise(pat,df)"
   ]
  },
  {
   "cell_type": "code",
   "execution_count": 151,
   "metadata": {},
   "outputs": [],
   "source": [
    "change_premise(pat,df,'bank_parking')"
   ]
  },
  {
   "cell_type": "code",
   "execution_count": 152,
   "metadata": {},
   "outputs": [
    {
     "data": {
      "text/plain": [
       "bank                                                                                                                                                      112\n",
       "bank                                                                                                                                                        2\n",
       "Name: premise, dtype: int64"
      ]
     },
     "execution_count": 152,
     "metadata": {},
     "output_type": "execute_result"
    }
   ],
   "source": [
    "word1 = 'bank'\n",
    "pat = r\"^(?=.*\\b{}\\b).*$\".format(word1)\n",
    "clean_premise(pat,df)"
   ]
  },
  {
   "cell_type": "code",
   "execution_count": 153,
   "metadata": {},
   "outputs": [],
   "source": [
    "change_premise(pat,df,'bank')"
   ]
  },
  {
   "cell_type": "code",
   "execution_count": 154,
   "metadata": {},
   "outputs": [
    {
     "data": {
      "text/plain": [
       "bank_parking                             121\n",
       "auto_repair                              116\n",
       "bank                                     114\n",
       "multi-plex home (duplex,triplex etc.)    113\n",
       "highway/freeway                          112\n",
       "light rail (metro rail) vehicle          111\n",
       "physician's office                       107\n",
       "barber and beauty shops                  100\n",
       "liquor_store                              96\n",
       "field, woods, forest, park                87\n",
       "Name: premise, dtype: int64"
      ]
     },
     "execution_count": 154,
     "metadata": {},
     "output_type": "execute_result"
    }
   ],
   "source": [
    "df.premise.value_counts()[50:60]"
   ]
  },
  {
   "cell_type": "code",
   "execution_count": 157,
   "metadata": {},
   "outputs": [
    {
     "data": {
      "text/plain": [
       "light rail (metro rail) vehicle                                                                                                                           111\n",
       "light rail (metro rail) vehicle                                                                                                                             6\n",
       "light rail vehicle                                                                                                                                          6\n",
       "Name: premise, dtype: int64"
      ]
     },
     "execution_count": 157,
     "metadata": {},
     "output_type": "execute_result"
    }
   ],
   "source": [
    "word1 = 'rail'\n",
    "word2 = 'vehicle'\n",
    "pat = r\"^(?=.*\\b{}\\b)(?=.*\\b{}\\b).*$\".format(word1,word2)\n",
    "clean_premise(pat,df)"
   ]
  },
  {
   "cell_type": "code",
   "execution_count": 158,
   "metadata": {},
   "outputs": [],
   "source": [
    "change_premise(pat,df,'rail_vehicle')"
   ]
  },
  {
   "cell_type": "code",
   "execution_count": 159,
   "metadata": {},
   "outputs": [
    {
     "data": {
      "text/plain": [
       "light rail platform                                                                                                                                       125\n",
       "light rail platform                                                                                                                                         4\n",
       "Name: premise, dtype: int64"
      ]
     },
     "execution_count": 159,
     "metadata": {},
     "output_type": "execute_result"
    }
   ],
   "source": [
    "word1 = 'rail'\n",
    "pat = r\"^(?=.*\\b{}\\b).*$\".format(word1)\n",
    "clean_premise(pat,df)"
   ]
  },
  {
   "cell_type": "code",
   "execution_count": 160,
   "metadata": {},
   "outputs": [],
   "source": [
    "change_premise(pat,df,'rail_platform')"
   ]
  },
  {
   "cell_type": "code",
   "execution_count": 162,
   "metadata": {},
   "outputs": [
    {
     "data": {
      "text/plain": [
       "road_street_sidewalk                          14608\n",
       "residence                                      7094\n",
       "apartment_parking                              6248\n",
       "apartment                                      6159\n",
       "other parking lot                              4891\n",
       "commercial_parking                             4421\n",
       "unk                                            3598\n",
       "hospital                                       2162\n",
       "restaurant_parking                             2158\n",
       "building                                       2017\n",
       "other/unknown                                  1967\n",
       "driveway                                       1857\n",
       "bar_club                                       1761\n",
       "supermarket                                    1486\n",
       "restaurant                                     1417\n",
       "department_store                               1373\n",
       "gas_station                                    1334\n",
       "bar_club_parking                               1262\n",
       "hotel_motel_parking                            1235\n",
       "hotel_motel                                    1207\n",
       "business                                       1051\n",
       "park_rec_pool                                  1043\n",
       "convenience_store                               918\n",
       "bus_stop_station                                863\n",
       "other, unknown, or not listed                   778\n",
       "stadium_arena_track                             693\n",
       "business_center_parking                         638\n",
       "convenience_store_parking                       571\n",
       "hospital_parking                                552\n",
       "construction_site                               544\n",
       "drug_store                                      481\n",
       "condominium                                     478\n",
       "garage or carport                               445\n",
       "supermarket_parking                             438\n",
       "multi-plex hme(duplex,triplex etc)              422\n",
       "specialty store (non-specific)                  391\n",
       "gym_club_house                                  351\n",
       "garage/carport                                  322\n",
       "church_temple                                   294\n",
       "school                                          291\n",
       "clothing store                                  287\n",
       "convention_center                               272\n",
       "auto_sale_parts_store                           257\n",
       "church_temple_parking                           236\n",
       "libraries_museums                               218\n",
       "storage_facility                                197\n",
       "vacant single occ resd(house,townhs,dplex)      185\n",
       "warehouse                                       171\n",
       "university/college                              146\n",
       "rail_platform                                   129\n",
       "rail_vehicle                                    123\n",
       "bank_parking                                    121\n",
       "auto_repair                                     116\n",
       "bank                                            114\n",
       "multi-plex home (duplex,triplex etc.)           113\n",
       "highway/freeway                                 112\n",
       "physician's office                              107\n",
       "barber and beauty shops                         100\n",
       "liquor_store                                     96\n",
       "field, woods, forest, park                       87\n",
       "Name: premise, dtype: int64"
      ]
     },
     "execution_count": 162,
     "metadata": {},
     "output_type": "execute_result"
    }
   ],
   "source": [
    "df.premise.value_counts()[:60]"
   ]
  },
  {
   "cell_type": "code",
   "execution_count": 165,
   "metadata": {},
   "outputs": [
    {
     "data": {
      "text/plain": [
       "other/unknown                                                                                                                                             1967\n",
       "other, unknown, or not listed                                                                                                                              778\n",
       "other, unknown, or not listed                                                                                                                               22\n",
       "Name: premise, dtype: int64"
      ]
     },
     "execution_count": 165,
     "metadata": {},
     "output_type": "execute_result"
    }
   ],
   "source": [
    "word1 = 'unknown'\n",
    "pat = r\"^(?=.*\\b{}\\b).*$\".format(word1)\n",
    "clean_premise(pat,df)"
   ]
  },
  {
   "cell_type": "code",
   "execution_count": 166,
   "metadata": {},
   "outputs": [],
   "source": [
    "change_premise(pat,df,'unknown')"
   ]
  },
  {
   "cell_type": "code",
   "execution_count": 167,
   "metadata": {},
   "outputs": [
    {
     "data": {
      "text/plain": [
       "unk    3598\n",
       "Name: premise, dtype: int64"
      ]
     },
     "execution_count": 167,
     "metadata": {},
     "output_type": "execute_result"
    }
   ],
   "source": [
    "word1 = 'unk'\n",
    "pat = r\"^(?=.*\\b{}\\b).*$\".format(word1)\n",
    "clean_premise(pat,df)"
   ]
  },
  {
   "cell_type": "code",
   "execution_count": 168,
   "metadata": {},
   "outputs": [],
   "source": [
    "change_premise(pat,df,'unknown')"
   ]
  },
  {
   "cell_type": "code",
   "execution_count": 169,
   "metadata": {},
   "outputs": [
    {
     "data": {
      "text/plain": [
       "road_street_sidewalk                          14608\n",
       "residence                                      7094\n",
       "unknown                                        6365\n",
       "apartment_parking                              6248\n",
       "apartment                                      6159\n",
       "other parking lot                              4891\n",
       "commercial_parking                             4421\n",
       "hospital                                       2162\n",
       "restaurant_parking                             2158\n",
       "building                                       2017\n",
       "driveway                                       1857\n",
       "bar_club                                       1761\n",
       "supermarket                                    1486\n",
       "restaurant                                     1417\n",
       "department_store                               1373\n",
       "gas_station                                    1334\n",
       "bar_club_parking                               1262\n",
       "hotel_motel_parking                            1235\n",
       "hotel_motel                                    1207\n",
       "business                                       1051\n",
       "park_rec_pool                                  1043\n",
       "convenience_store                               918\n",
       "bus_stop_station                                863\n",
       "stadium_arena_track                             693\n",
       "business_center_parking                         638\n",
       "convenience_store_parking                       571\n",
       "hospital_parking                                552\n",
       "construction_site                               544\n",
       "drug_store                                      481\n",
       "condominium                                     478\n",
       "garage or carport                               445\n",
       "supermarket_parking                             438\n",
       "multi-plex hme(duplex,triplex etc)              422\n",
       "specialty store (non-specific)                  391\n",
       "gym_club_house                                  351\n",
       "garage/carport                                  322\n",
       "church_temple                                   294\n",
       "school                                          291\n",
       "clothing store                                  287\n",
       "convention_center                               272\n",
       "auto_sale_parts_store                           257\n",
       "church_temple_parking                           236\n",
       "libraries_museums                               218\n",
       "storage_facility                                197\n",
       "vacant single occ resd(house,townhs,dplex)      185\n",
       "warehouse                                       171\n",
       "university/college                              146\n",
       "rail_platform                                   129\n",
       "rail_vehicle                                    123\n",
       "bank_parking                                    121\n",
       "auto_repair                                     116\n",
       "bank                                            114\n",
       "multi-plex home (duplex,triplex etc.)           113\n",
       "highway/freeway                                 112\n",
       "physician's office                              107\n",
       "barber and beauty shops                         100\n",
       "liquor_store                                     96\n",
       "field, woods, forest, park                       87\n",
       "park and ride terminal                           77\n",
       "physician, doctor, dentist's office              77\n",
       "Name: premise, dtype: int64"
      ]
     },
     "execution_count": 169,
     "metadata": {},
     "output_type": "execute_result"
    }
   ],
   "source": [
    "df.premise.value_counts()[:60]"
   ]
  },
  {
   "cell_type": "code",
   "execution_count": 170,
   "metadata": {},
   "outputs": [
    {
     "data": {
      "text/plain": [
       "other parking lot                                                                                                                                         4891\n",
       "other parking lot                                                                                                                                           59\n",
       "mall parking lot                                                                                                                                            47\n",
       "laundry or dry cleaners parking lot                                                                                                                         17\n",
       "laundry/dry cleaners parking lot                                                                                                                            10\n",
       "mall parking lot                                                                                                                                             1\n",
       "Name: premise, dtype: int64"
      ]
     },
     "execution_count": 170,
     "metadata": {},
     "output_type": "execute_result"
    }
   ],
   "source": [
    "word1 = 'parking'\n",
    "pat = r\"^(?=.*\\b{}\\b).*$\".format(word1)\n",
    "clean_premise(pat,df)"
   ]
  },
  {
   "cell_type": "code",
   "execution_count": 171,
   "metadata": {},
   "outputs": [],
   "source": [
    "change_premise(pat,df,'other_parking')"
   ]
  },
  {
   "cell_type": "code",
   "execution_count": 172,
   "metadata": {},
   "outputs": [
    {
     "data": {
      "text/plain": [
       "road_street_sidewalk                          14608\n",
       "residence                                      7094\n",
       "unknown                                        6365\n",
       "apartment_parking                              6248\n",
       "apartment                                      6159\n",
       "other_parking                                  5025\n",
       "commercial_parking                             4421\n",
       "hospital                                       2162\n",
       "restaurant_parking                             2158\n",
       "building                                       2017\n",
       "driveway                                       1857\n",
       "bar_club                                       1761\n",
       "supermarket                                    1486\n",
       "restaurant                                     1417\n",
       "department_store                               1373\n",
       "gas_station                                    1334\n",
       "bar_club_parking                               1262\n",
       "hotel_motel_parking                            1235\n",
       "hotel_motel                                    1207\n",
       "business                                       1051\n",
       "park_rec_pool                                  1043\n",
       "convenience_store                               918\n",
       "bus_stop_station                                863\n",
       "stadium_arena_track                             693\n",
       "business_center_parking                         638\n",
       "convenience_store_parking                       571\n",
       "hospital_parking                                552\n",
       "construction_site                               544\n",
       "drug_store                                      481\n",
       "condominium                                     478\n",
       "garage or carport                               445\n",
       "supermarket_parking                             438\n",
       "multi-plex hme(duplex,triplex etc)              422\n",
       "specialty store (non-specific)                  391\n",
       "gym_club_house                                  351\n",
       "garage/carport                                  322\n",
       "church_temple                                   294\n",
       "school                                          291\n",
       "clothing store                                  287\n",
       "convention_center                               272\n",
       "auto_sale_parts_store                           257\n",
       "church_temple_parking                           236\n",
       "libraries_museums                               218\n",
       "storage_facility                                197\n",
       "vacant single occ resd(house,townhs,dplex)      185\n",
       "warehouse                                       171\n",
       "university/college                              146\n",
       "rail_platform                                   129\n",
       "rail_vehicle                                    123\n",
       "bank_parking                                    121\n",
       "auto_repair                                     116\n",
       "bank                                            114\n",
       "multi-plex home (duplex,triplex etc.)           113\n",
       "highway/freeway                                 112\n",
       "physician's office                              107\n",
       "barber and beauty shops                         100\n",
       "liquor_store                                     96\n",
       "field, woods, forest, park                       87\n",
       "physician, doctor, dentist's office              77\n",
       "park and ride terminal                           77\n",
       "Name: premise, dtype: int64"
      ]
     },
     "execution_count": 172,
     "metadata": {},
     "output_type": "execute_result"
    }
   ],
   "source": [
    "df.premise.value_counts()[:60]"
   ]
  },
  {
   "cell_type": "code",
   "execution_count": 174,
   "metadata": {},
   "outputs": [
    {
     "data": {
      "text/plain": [
       "garage or carport                                                                                                                                         445\n",
       "garage/carport                                                                                                                                            322\n",
       "garage or carport                                                                                                                                          17\n",
       "Name: premise, dtype: int64"
      ]
     },
     "execution_count": 174,
     "metadata": {},
     "output_type": "execute_result"
    }
   ],
   "source": [
    "word1 = 'garage'\n",
    "pat = r\"^(?=.*\\b{}\\b).*$\".format(word1)\n",
    "clean_premise(pat,df)"
   ]
  },
  {
   "cell_type": "code",
   "execution_count": 175,
   "metadata": {},
   "outputs": [],
   "source": [
    "change_premise(pat,df,'garage_carport')"
   ]
  },
  {
   "cell_type": "code",
   "execution_count": 176,
   "metadata": {},
   "outputs": [
    {
     "data": {
      "text/plain": [
       "road_street_sidewalk                          14608\n",
       "residence                                      7094\n",
       "unknown                                        6365\n",
       "apartment_parking                              6248\n",
       "apartment                                      6159\n",
       "other_parking                                  5025\n",
       "commercial_parking                             4421\n",
       "hospital                                       2162\n",
       "restaurant_parking                             2158\n",
       "building                                       2017\n",
       "driveway                                       1857\n",
       "bar_club                                       1761\n",
       "supermarket                                    1486\n",
       "restaurant                                     1417\n",
       "department_store                               1373\n",
       "gas_station                                    1334\n",
       "bar_club_parking                               1262\n",
       "hotel_motel_parking                            1235\n",
       "hotel_motel                                    1207\n",
       "business                                       1051\n",
       "park_rec_pool                                  1043\n",
       "convenience_store                               918\n",
       "bus_stop_station                                863\n",
       "garage_carport                                  784\n",
       "stadium_arena_track                             693\n",
       "business_center_parking                         638\n",
       "convenience_store_parking                       571\n",
       "hospital_parking                                552\n",
       "construction_site                               544\n",
       "drug_store                                      481\n",
       "condominium                                     478\n",
       "supermarket_parking                             438\n",
       "multi-plex hme(duplex,triplex etc)              422\n",
       "specialty store (non-specific)                  391\n",
       "gym_club_house                                  351\n",
       "church_temple                                   294\n",
       "school                                          291\n",
       "clothing store                                  287\n",
       "convention_center                               272\n",
       "auto_sale_parts_store                           257\n",
       "church_temple_parking                           236\n",
       "libraries_museums                               218\n",
       "storage_facility                                197\n",
       "vacant single occ resd(house,townhs,dplex)      185\n",
       "warehouse                                       171\n",
       "university/college                              146\n",
       "rail_platform                                   129\n",
       "rail_vehicle                                    123\n",
       "bank_parking                                    121\n",
       "auto_repair                                     116\n",
       "bank                                            114\n",
       "multi-plex home (duplex,triplex etc.)           113\n",
       "highway/freeway                                 112\n",
       "physician's office                              107\n",
       "barber and beauty shops                         100\n",
       "liquor_store                                     96\n",
       "field, woods, forest, park                       87\n",
       "park and ride terminal                           77\n",
       "physician, doctor, dentist's office              77\n",
       "field/woods                                      77\n",
       "Name: premise, dtype: int64"
      ]
     },
     "execution_count": 176,
     "metadata": {},
     "output_type": "execute_result"
    }
   ],
   "source": [
    "df.premise.value_counts()[:60]"
   ]
  },
  {
   "cell_type": "code",
   "execution_count": 178,
   "metadata": {},
   "outputs": [
    {
     "data": {
      "text/plain": [
       "condominium                                                                                                                                               478\n",
       "condominium                                                                                                                                                 2\n",
       "Name: premise, dtype: int64"
      ]
     },
     "execution_count": 178,
     "metadata": {},
     "output_type": "execute_result"
    }
   ],
   "source": [
    "word1 = 'condominium'\n",
    "pat = r\"^(?=.*\\b{}\\b).*$\".format(word1)\n",
    "clean_premise(pat,df)"
   ]
  },
  {
   "cell_type": "code",
   "execution_count": 179,
   "metadata": {},
   "outputs": [],
   "source": [
    "change_premise(pat,df,'apartment')"
   ]
  },
  {
   "cell_type": "code",
   "execution_count": 180,
   "metadata": {},
   "outputs": [
    {
     "data": {
      "text/plain": [
       "road_street_sidewalk                          14608\n",
       "residence                                      7094\n",
       "apartment                                      6639\n",
       "unknown                                        6365\n",
       "apartment_parking                              6248\n",
       "other_parking                                  5025\n",
       "commercial_parking                             4421\n",
       "hospital                                       2162\n",
       "restaurant_parking                             2158\n",
       "building                                       2017\n",
       "driveway                                       1857\n",
       "bar_club                                       1761\n",
       "supermarket                                    1486\n",
       "restaurant                                     1417\n",
       "department_store                               1373\n",
       "gas_station                                    1334\n",
       "bar_club_parking                               1262\n",
       "hotel_motel_parking                            1235\n",
       "hotel_motel                                    1207\n",
       "business                                       1051\n",
       "park_rec_pool                                  1043\n",
       "convenience_store                               918\n",
       "bus_stop_station                                863\n",
       "garage_carport                                  784\n",
       "stadium_arena_track                             693\n",
       "business_center_parking                         638\n",
       "convenience_store_parking                       571\n",
       "hospital_parking                                552\n",
       "construction_site                               544\n",
       "drug_store                                      481\n",
       "supermarket_parking                             438\n",
       "multi-plex hme(duplex,triplex etc)              422\n",
       "specialty store (non-specific)                  391\n",
       "gym_club_house                                  351\n",
       "church_temple                                   294\n",
       "school                                          291\n",
       "clothing store                                  287\n",
       "convention_center                               272\n",
       "auto_sale_parts_store                           257\n",
       "church_temple_parking                           236\n",
       "libraries_museums                               218\n",
       "storage_facility                                197\n",
       "vacant single occ resd(house,townhs,dplex)      185\n",
       "warehouse                                       171\n",
       "university/college                              146\n",
       "rail_platform                                   129\n",
       "rail_vehicle                                    123\n",
       "bank_parking                                    121\n",
       "auto_repair                                     116\n",
       "bank                                            114\n",
       "multi-plex home (duplex,triplex etc.)           113\n",
       "highway/freeway                                 112\n",
       "physician's office                              107\n",
       "barber and beauty shops                         100\n",
       "liquor_store                                     96\n",
       "field, woods, forest, park                       87\n",
       "field/woods                                      77\n",
       "physician, doctor, dentist's office              77\n",
       "park and ride terminal                           77\n",
       "police station                                   76\n",
       "Name: premise, dtype: int64"
      ]
     },
     "execution_count": 180,
     "metadata": {},
     "output_type": "execute_result"
    }
   ],
   "source": [
    "df.premise.value_counts()[:60]"
   ]
  },
  {
   "cell_type": "code",
   "execution_count": 191,
   "metadata": {},
   "outputs": [
    {
     "data": {
      "text/plain": [
       "adult book store/newsstand       1\n",
       "adult book store or newsstand    1\n",
       "Name: premise, dtype: int64"
      ]
     },
     "execution_count": 191,
     "metadata": {},
     "output_type": "execute_result"
    }
   ],
   "source": [
    "word1 = 'adult'\n",
    "word2 = 'store'\n",
    "pat = r\"^(?=.*\\b{}\\b)(?=.*\\b{}\\b).*$\".format(word1,word2)\n",
    "clean_premise(pat,df)"
   ]
  },
  {
   "cell_type": "code",
   "execution_count": 192,
   "metadata": {},
   "outputs": [],
   "source": [
    "change_premise(pat,df,'sexually_oriented_business')"
   ]
  },
  {
   "cell_type": "code",
   "execution_count": 195,
   "metadata": {},
   "outputs": [
    {
     "data": {
      "text/plain": [
       "specialty store (non-specific)                                                                                                                            391\n",
       "specialty store (non-specific)                                                                                                                              2\n",
       "Name: premise, dtype: int64"
      ]
     },
     "execution_count": 195,
     "metadata": {},
     "output_type": "execute_result"
    }
   ],
   "source": [
    "word1 = 'specialty'\n",
    "word2 = 'store'\n",
    "pat = r\"^(?=.*\\b{}\\b)(?=.*\\b{}\\b).*$\".format(word1,word2)\n",
    "clean_premise(pat,df)"
   ]
  },
  {
   "cell_type": "code",
   "execution_count": 196,
   "metadata": {},
   "outputs": [],
   "source": [
    "change_premise(pat,df,'specialty_store')"
   ]
  },
  {
   "cell_type": "code",
   "execution_count": 198,
   "metadata": {},
   "outputs": [
    {
     "data": {
      "text/plain": [
       "clothing store                                                                                                                                            287\n",
       "clothing store                                                                                                                                              3\n",
       "Name: premise, dtype: int64"
      ]
     },
     "execution_count": 198,
     "metadata": {},
     "output_type": "execute_result"
    }
   ],
   "source": [
    "word1 = 'clothing'\n",
    "word2 = 'store'\n",
    "pat = r\"^(?=.*\\b{}\\b)(?=.*\\b{}\\b).*$\".format(word1,word2)\n",
    "clean_premise(pat,df)"
   ]
  },
  {
   "cell_type": "code",
   "execution_count": 199,
   "metadata": {},
   "outputs": [],
   "source": [
    "change_premise(pat,df,'clothing_store')"
   ]
  },
  {
   "cell_type": "code",
   "execution_count": null,
   "metadata": {},
   "outputs": [],
   "source": []
  },
  {
   "cell_type": "code",
   "execution_count": 200,
   "metadata": {},
   "outputs": [
    {
     "data": {
      "text/plain": [
       "electronics store, electrical sup.        55\n",
       "electronics store, electrical supplies    33\n",
       "Name: premise, dtype: int64"
      ]
     },
     "execution_count": 200,
     "metadata": {},
     "output_type": "execute_result"
    }
   ],
   "source": [
    "word1 = 'electronics'\n",
    "word2 = 'store'\n",
    "pat = r\"^(?=.*\\b{}\\b)(?=.*\\b{}\\b).*$\".format(word1,word2)\n",
    "clean_premise(pat,df)"
   ]
  },
  {
   "cell_type": "code",
   "execution_count": 201,
   "metadata": {},
   "outputs": [],
   "source": [
    "change_premise(pat,df,'electronic_store')"
   ]
  },
  {
   "cell_type": "code",
   "execution_count": 202,
   "metadata": {},
   "outputs": [
    {
     "data": {
      "text/plain": [
       "furniture, appliances, radios, tv store    5\n",
       "Name: premise, dtype: int64"
      ]
     },
     "execution_count": 202,
     "metadata": {},
     "output_type": "execute_result"
    }
   ],
   "source": [
    "word1 = 'store'\n",
    "pat = r\"^(?=.*\\b{}\\b).*$\".format(word1)\n",
    "clean_premise(pat,df)"
   ]
  },
  {
   "cell_type": "code",
   "execution_count": 203,
   "metadata": {},
   "outputs": [],
   "source": [
    "change_premise(pat,df,'electronic_store')"
   ]
  },
  {
   "cell_type": "code",
   "execution_count": 204,
   "metadata": {},
   "outputs": [
    {
     "data": {
      "text/plain": [
       "road_street_sidewalk                          14608\n",
       "residence                                      7094\n",
       "apartment                                      6639\n",
       "unknown                                        6365\n",
       "apartment_parking                              6248\n",
       "other_parking                                  5025\n",
       "commercial_parking                             4421\n",
       "hospital                                       2162\n",
       "restaurant_parking                             2158\n",
       "building                                       2017\n",
       "driveway                                       1857\n",
       "bar_club                                       1761\n",
       "supermarket                                    1486\n",
       "restaurant                                     1417\n",
       "department_store                               1373\n",
       "gas_station                                    1334\n",
       "bar_club_parking                               1262\n",
       "hotel_motel_parking                            1235\n",
       "hotel_motel                                    1207\n",
       "business                                       1051\n",
       "park_rec_pool                                  1043\n",
       "convenience_store                               918\n",
       "bus_stop_station                                863\n",
       "garage_carport                                  784\n",
       "stadium_arena_track                             693\n",
       "business_center_parking                         638\n",
       "convenience_store_parking                       571\n",
       "hospital_parking                                552\n",
       "construction_site                               544\n",
       "drug_store                                      481\n",
       "supermarket_parking                             438\n",
       "multi-plex hme(duplex,triplex etc)              422\n",
       "specialty_store                                 393\n",
       "gym_club_house                                  351\n",
       "church_temple                                   294\n",
       "school                                          291\n",
       "clothing_store                                  290\n",
       "convention_center                               272\n",
       "auto_sale_parts_store                           257\n",
       "church_temple_parking                           236\n",
       "libraries_museums                               218\n",
       "storage_facility                                197\n",
       "vacant single occ resd(house,townhs,dplex)      185\n",
       "warehouse                                       171\n",
       "university/college                              146\n",
       "rail_platform                                   129\n",
       "rail_vehicle                                    123\n",
       "bank_parking                                    121\n",
       "auto_repair                                     116\n",
       "bank                                            114\n",
       "multi-plex home (duplex,triplex etc.)           113\n",
       "highway/freeway                                 112\n",
       "physician's office                              107\n",
       "barber and beauty shops                         100\n",
       "liquor_store                                     96\n",
       "electronic_store                                 93\n",
       "field, woods, forest, park                       87\n",
       "physician, doctor, dentist's office              77\n",
       "field/woods                                      77\n",
       "park and ride terminal                           77\n",
       "Name: premise, dtype: int64"
      ]
     },
     "execution_count": 204,
     "metadata": {},
     "output_type": "execute_result"
    }
   ],
   "source": [
    "df.premise.value_counts()[:60]"
   ]
  },
  {
   "cell_type": "code",
   "execution_count": 205,
   "metadata": {},
   "outputs": [
    {
     "data": {
      "text/plain": [
       "multi-plex hme(duplex,triplex etc)                                                                                                                        422\n",
       "multi-plex home (duplex,triplex etc.)                                                                                                                     113\n",
       "multi-plex home (duplex,triplex etc.)                                                                                                                       1\n",
       "Name: premise, dtype: int64"
      ]
     },
     "execution_count": 205,
     "metadata": {},
     "output_type": "execute_result"
    }
   ],
   "source": [
    "word1 = 'plex'\n",
    "pat = r\"^(?=.*\\b{}\\b).*$\".format(word1)\n",
    "clean_premise(pat,df)"
   ]
  },
  {
   "cell_type": "code",
   "execution_count": 206,
   "metadata": {},
   "outputs": [],
   "source": [
    "change_premise(pat,df,'multiplex_home')"
   ]
  },
  {
   "cell_type": "code",
   "execution_count": 207,
   "metadata": {},
   "outputs": [
    {
     "data": {
      "text/plain": [
       "road_street_sidewalk                          14608\n",
       "residence                                      7094\n",
       "apartment                                      6639\n",
       "unknown                                        6365\n",
       "apartment_parking                              6248\n",
       "other_parking                                  5025\n",
       "commercial_parking                             4421\n",
       "hospital                                       2162\n",
       "restaurant_parking                             2158\n",
       "building                                       2017\n",
       "driveway                                       1857\n",
       "bar_club                                       1761\n",
       "supermarket                                    1486\n",
       "restaurant                                     1417\n",
       "department_store                               1373\n",
       "gas_station                                    1334\n",
       "bar_club_parking                               1262\n",
       "hotel_motel_parking                            1235\n",
       "hotel_motel                                    1207\n",
       "business                                       1051\n",
       "park_rec_pool                                  1043\n",
       "convenience_store                               918\n",
       "bus_stop_station                                863\n",
       "garage_carport                                  784\n",
       "stadium_arena_track                             693\n",
       "business_center_parking                         638\n",
       "convenience_store_parking                       571\n",
       "hospital_parking                                552\n",
       "construction_site                               544\n",
       "multiplex_home                                  536\n",
       "drug_store                                      481\n",
       "supermarket_parking                             438\n",
       "specialty_store                                 393\n",
       "gym_club_house                                  351\n",
       "church_temple                                   294\n",
       "school                                          291\n",
       "clothing_store                                  290\n",
       "convention_center                               272\n",
       "auto_sale_parts_store                           257\n",
       "church_temple_parking                           236\n",
       "libraries_museums                               218\n",
       "storage_facility                                197\n",
       "vacant single occ resd(house,townhs,dplex)      185\n",
       "warehouse                                       171\n",
       "university/college                              146\n",
       "rail_platform                                   129\n",
       "rail_vehicle                                    123\n",
       "bank_parking                                    121\n",
       "auto_repair                                     116\n",
       "bank                                            114\n",
       "highway/freeway                                 112\n",
       "physician's office                              107\n",
       "barber and beauty shops                         100\n",
       "liquor_store                                     96\n",
       "electronic_store                                 93\n",
       "field, woods, forest, park                       87\n",
       "field/woods                                      77\n",
       "physician, doctor, dentist's office              77\n",
       "park and ride terminal                           77\n",
       "police station                                   76\n",
       "Name: premise, dtype: int64"
      ]
     },
     "execution_count": 207,
     "metadata": {},
     "output_type": "execute_result"
    }
   ],
   "source": [
    "df.premise.value_counts()[:60]"
   ]
  },
  {
   "cell_type": "code",
   "execution_count": 208,
   "metadata": {},
   "outputs": [
    {
     "data": {
      "text/plain": [
       "vacant single occ resd(house,townhs,dplex)                                                                                                                185\n",
       "vacant other residential (apartment,dorms)                                                                                                                 46\n",
       "vacant other residential (apartment,inn,dorms,boarding house)                                                                                              30\n",
       "vacant other structure (out buildings,monuments,buildings under construction,etc.)                                                                         23\n",
       "vacant restaurant                                                                                                                                          21\n",
       "vacant other out build/monument/underconst                                                                                                                 20\n",
       "vacant hospital                                                                                                                                            11\n",
       "vacant industrial or manufacturing blding                                                                                                                   6\n",
       "vacant industrial/manufacturing/industrial                                                                                                                  5\n",
       "vacant single occ resd(house,townhs,dplex)                                                                                                                  3\n",
       "vacant jail or prison                                                                                                                                       1\n",
       "vacant industrial or manufacturing blding                                                                                                                   1\n",
       "vacant other residential (apartment,dorms)                                                                                                                  1\n",
       "vacant other out build/monument/underconst                                                                                                                  1\n",
       "Name: premise, dtype: int64"
      ]
     },
     "execution_count": 208,
     "metadata": {},
     "output_type": "execute_result"
    }
   ],
   "source": [
    "word1 = 'vacant'\n",
    "pat = r\"^(?=.*\\b{}\\b).*$\".format(word1)\n",
    "clean_premise(pat,df)"
   ]
  },
  {
   "cell_type": "code",
   "execution_count": 209,
   "metadata": {},
   "outputs": [],
   "source": [
    "change_premise(pat,df,'vacant_structure')"
   ]
  },
  {
   "cell_type": "code",
   "execution_count": 210,
   "metadata": {},
   "outputs": [
    {
     "data": {
      "text/plain": [
       "road_street_sidewalk                   14608\n",
       "residence                               7094\n",
       "apartment                               6639\n",
       "unknown                                 6365\n",
       "apartment_parking                       6248\n",
       "other_parking                           5025\n",
       "commercial_parking                      4421\n",
       "hospital                                2162\n",
       "restaurant_parking                      2158\n",
       "building                                2017\n",
       "driveway                                1857\n",
       "bar_club                                1761\n",
       "supermarket                             1486\n",
       "restaurant                              1417\n",
       "department_store                        1373\n",
       "gas_station                             1334\n",
       "bar_club_parking                        1262\n",
       "hotel_motel_parking                     1235\n",
       "hotel_motel                             1207\n",
       "business                                1051\n",
       "park_rec_pool                           1043\n",
       "convenience_store                        918\n",
       "bus_stop_station                         863\n",
       "garage_carport                           784\n",
       "stadium_arena_track                      693\n",
       "business_center_parking                  638\n",
       "convenience_store_parking                571\n",
       "hospital_parking                         552\n",
       "construction_site                        544\n",
       "multiplex_home                           536\n",
       "drug_store                               481\n",
       "supermarket_parking                      438\n",
       "specialty_store                          393\n",
       "vacant_structure                         354\n",
       "gym_club_house                           351\n",
       "church_temple                            294\n",
       "school                                   291\n",
       "clothing_store                           290\n",
       "convention_center                        272\n",
       "auto_sale_parts_store                    257\n",
       "church_temple_parking                    236\n",
       "libraries_museums                        218\n",
       "storage_facility                         197\n",
       "warehouse                                171\n",
       "university/college                       146\n",
       "rail_platform                            129\n",
       "rail_vehicle                             123\n",
       "bank_parking                             121\n",
       "auto_repair                              116\n",
       "bank                                     114\n",
       "highway/freeway                          112\n",
       "physician's office                       107\n",
       "barber and beauty shops                  100\n",
       "liquor_store                              96\n",
       "electronic_store                          93\n",
       "field, woods, forest, park                87\n",
       "physician, doctor, dentist's office       77\n",
       "park and ride terminal                    77\n",
       "field/woods                               77\n",
       "police station                            76\n",
       "Name: premise, dtype: int64"
      ]
     },
     "execution_count": 210,
     "metadata": {},
     "output_type": "execute_result"
    }
   ],
   "source": [
    "df.premise.value_counts()[:60]"
   ]
  },
  {
   "cell_type": "code",
   "execution_count": 211,
   "metadata": {},
   "outputs": [
    {
     "data": {
      "text/plain": [
       "warehouse                                                                                                                                                 171\n",
       "warehouse                                                                                                                                                   1\n",
       "Name: premise, dtype: int64"
      ]
     },
     "execution_count": 211,
     "metadata": {},
     "output_type": "execute_result"
    }
   ],
   "source": [
    "word1 = 'warehouse'\n",
    "pat = r\"^(?=.*\\b{}\\b).*$\".format(word1)\n",
    "clean_premise(pat,df)"
   ]
  },
  {
   "cell_type": "code",
   "execution_count": 212,
   "metadata": {},
   "outputs": [],
   "source": [
    "change_premise(pat,df,'warehouse')"
   ]
  },
  {
   "cell_type": "code",
   "execution_count": 213,
   "metadata": {},
   "outputs": [
    {
     "data": {
      "text/plain": [
       "university/college                                                                                                                                        146\n",
       "university or college                                                                                                                                      75\n",
       "university or college                                                                                                                                       1\n",
       "Name: premise, dtype: int64"
      ]
     },
     "execution_count": 213,
     "metadata": {},
     "output_type": "execute_result"
    }
   ],
   "source": [
    "word1 = 'college'\n",
    "pat = r\"^(?=.*\\b{}\\b).*$\".format(word1)\n",
    "clean_premise(pat,df)"
   ]
  },
  {
   "cell_type": "code",
   "execution_count": 214,
   "metadata": {},
   "outputs": [],
   "source": [
    "change_premise(pat,df,'college')"
   ]
  },
  {
   "cell_type": "code",
   "execution_count": 215,
   "metadata": {},
   "outputs": [
    {
     "data": {
      "text/plain": [
       "highway/freeway                                                                                                                                           112\n",
       "highway or freeway                                                                                                                                         56\n",
       "highway or freeway                                                                                                                                          3\n",
       "Name: premise, dtype: int64"
      ]
     },
     "execution_count": 215,
     "metadata": {},
     "output_type": "execute_result"
    }
   ],
   "source": [
    "word1 = 'highway'\n",
    "pat = r\"^(?=.*\\b{}\\b).*$\".format(word1)\n",
    "clean_premise(pat,df)"
   ]
  },
  {
   "cell_type": "code",
   "execution_count": 216,
   "metadata": {},
   "outputs": [],
   "source": [
    "change_premise(pat,df,'highway_freeway')"
   ]
  },
  {
   "cell_type": "code",
   "execution_count": 218,
   "metadata": {},
   "outputs": [
    {
     "data": {
      "text/plain": [
       "apartment/rental office                                                                                                                                   64\n",
       "apartment rental office                                                                                                                                   61\n",
       "apartment rental office                                                                                                                                    2\n",
       "Name: premise, dtype: int64"
      ]
     },
     "execution_count": 218,
     "metadata": {},
     "output_type": "execute_result"
    }
   ],
   "source": [
    "word1 = 'rental'\n",
    "word2 = 'office'\n",
    "pat = r\"^(?=.*\\b{}\\b)(?=.*\\b{}\\b).*$\".format(word1,word2)\n",
    "clean_premise(pat,df)"
   ]
  },
  {
   "cell_type": "code",
   "execution_count": 219,
   "metadata": {},
   "outputs": [],
   "source": [
    "change_premise(pat,df,'rental_office')"
   ]
  },
  {
   "cell_type": "code",
   "execution_count": 221,
   "metadata": {},
   "outputs": [
    {
     "data": {
      "text/plain": [
       "physician, doctor, dentist's office                                                                                                                       77\n",
       "physician, doctor, dentist's office                                                                                                                        3\n",
       "Name: premise, dtype: int64"
      ]
     },
     "execution_count": 221,
     "metadata": {},
     "output_type": "execute_result"
    }
   ],
   "source": [
    "word1 = 'doctor'\n",
    "pat = r\"^(?=.*\\b{}\\b).*$\".format(word1)\n",
    "clean_premise(pat,df)"
   ]
  },
  {
   "cell_type": "code",
   "execution_count": 222,
   "metadata": {},
   "outputs": [],
   "source": [
    "change_premise(pat,df,'doctor_office')"
   ]
  },
  {
   "cell_type": "code",
   "execution_count": 228,
   "metadata": {},
   "outputs": [
    {
     "data": {
      "text/plain": [
       "physician's office    107\n",
       "Name: premise, dtype: int64"
      ]
     },
     "execution_count": 228,
     "metadata": {},
     "output_type": "execute_result"
    }
   ],
   "source": [
    "word1 = 'office'\n",
    "pat = r\"^(?=.*\\b{}\\b).*$\".format(word1)\n",
    "clean_premise(pat,df)"
   ]
  },
  {
   "cell_type": "code",
   "execution_count": 226,
   "metadata": {},
   "outputs": [
    {
     "data": {
      "text/plain": [
       "book,record,stationary,office sup.           13\n",
       "book, record, stationary, office supplies     3\n",
       "Name: premise, dtype: int64"
      ]
     },
     "execution_count": 226,
     "metadata": {},
     "output_type": "execute_result"
    }
   ],
   "source": [
    "word1 = 'book'\n",
    "word2 = 'office'\n",
    "pat = r\"^(?=.*\\b{}\\b)(?=.*\\b{}\\b).*$\".format(word1,word2)\n",
    "clean_premise(pat,df)"
   ]
  },
  {
   "cell_type": "code",
   "execution_count": 227,
   "metadata": {},
   "outputs": [],
   "source": [
    "change_premise(pat,df,'office_supplies')"
   ]
  },
  {
   "cell_type": "code",
   "execution_count": 229,
   "metadata": {},
   "outputs": [
    {
     "data": {
      "text/plain": [
       "physician's office    107\n",
       "Name: premise, dtype: int64"
      ]
     },
     "execution_count": 229,
     "metadata": {},
     "output_type": "execute_result"
    }
   ],
   "source": [
    "word1 = 'physician'\n",
    "word2 = 'office'\n",
    "pat = r\"^(?=.*\\b{}\\b)(?=.*\\b{}\\b).*$\".format(word1,word2)\n",
    "clean_premise(pat,df)"
   ]
  },
  {
   "cell_type": "code",
   "execution_count": 230,
   "metadata": {},
   "outputs": [],
   "source": [
    "change_premise(pat,df,'doctor_office')"
   ]
  },
  {
   "cell_type": "code",
   "execution_count": 235,
   "metadata": {},
   "outputs": [
    {
     "data": {
      "text/plain": [
       "laundry/dry cleaners/washaterias                                                                                                                          66\n",
       "alley                                                                                                                                                     65\n",
       "apartment                                                                                                                                                 64\n",
       "freeway service road                                                                                                                                      60\n",
       "amusement park, bowling alley, skate rink                                                                                                                 57\n",
       "sexually_oriented_business                                                                                                                                54\n",
       "high rise                                                                                                                                                 53\n",
       "car wash                                                                                                                                                  50\n",
       "theatres,dinner theaters,auditor.                                                                                                                         50\n",
       "---                                                                                                                                                       48\n",
       "nursing home                                                                                                                                              46\n",
       "theatres, dinner theaters, auditoriums                                                                                                                    44\n",
       "amuse. park,bowl. alley,skate rink                                                                                                                        43\n",
       "rehabilitation center                                                                                                                                     42\n",
       "social services or public charities                                                                                                                       38\n",
       "laundry, dry cleaners, washaterias                                                                                                                        37\n",
       "daycare/child care/kindergarten                                                                                                                           34\n",
       "mall common area                                                                                                                                          33\n",
       "factory/manufacturing/industrial                                                                                                                          32\n",
       "apartment laundry                                                                                                                                         31\n",
       "hospital                                                                                                                                                  30\n",
       "airport terminal                                                                                                                                          28\n",
       "train terminal                                                                                                                                            27\n",
       "park & ride terminal                                                                                                                                      25\n",
       "jewelry stores                                                                                                                                            22\n",
       "toys, arts craft,musical, bike,pet stores                                                                                                                 22\n",
       "factory, manufacturing, or industrial                                                                                                                     22\n",
       "fire station                                                                                                                                              22\n",
       "daycare, child care, or kindergarten                                                                                                                      20\n",
       "check cashing places                                                                                                                                      20\n",
       "                                                                                                                                                          ..\n",
       "park and ride terminal                                                                                                                                     6\n",
       "package facility (fedex,ups,dhl)                                                                                                                           5\n",
       "lake, pond, waterway, bayou, river                                                                                                                         5\n",
       "garden supply, nursery, florist                                                                                                                            5\n",
       "n                                                                                                                                                          4\n",
       "garden supply, nursery, or florist                                                                                                                         4\n",
       "pool hall or game room                                                                                                                                     3\n",
       "video rental & sales                                                                                                                                       3\n",
       "utility company, electric, gas, water                                                                                                                      3\n",
       "not listed                                                                                                                                                 3\n",
       " not listed                                                                                                                                                2\n",
       "amusement park, bowling alley, skate rink                                                                                                                  2\n",
       "contra-flow/hov                                                                                                                                            2\n",
       "theatres, dinner theaters, auditoriums                                                                                                                     2\n",
       "nursing home                                                                                                                                               2\n",
       "laundry, dry cleaners, washaterias                                                                                                                         2\n",
       "freeway service road                                                                                                                                       2\n",
       "tollway                                                                                                                                                    2\n",
       "pawn, resale shop, or flea market                                                                                                                          2\n",
       "sporting goods or gun shops                                                                                                                                2\n",
       "daycare, child care, or kindergarten                                                                                                                       2\n",
       "barber and beauty shops                                                                                                                                    1\n",
       "mall common area                                                                                                                                           1\n",
       "social services or public charities                                                                                                                        1\n",
       "06                                                                                                                                                         1\n",
       "jail or prison                                                                                                                                             1\n",
       "mobile home                                                                                                                                                1\n",
       "marine veh. sales,boats,sailboats                                                                                                                          1\n",
       "car wash                                                                                                                                                   1\n",
       "alley                                                                                                                                                      1\n",
       "Name: premise, Length: 79, dtype: int64"
      ]
     },
     "execution_count": 235,
     "metadata": {},
     "output_type": "execute_result"
    }
   ],
   "source": [
    "df.premise.value_counts()[60:]"
   ]
  },
  {
   "cell_type": "code",
   "execution_count": 232,
   "metadata": {},
   "outputs": [
    {
     "data": {
      "text/plain": [
       "field, woods, forest, park                                                                                                                                87\n",
       "field/woods                                                                                                                                               77\n",
       "field, woods, forest, park                                                                                                                                 3\n",
       "Name: premise, dtype: int64"
      ]
     },
     "execution_count": 232,
     "metadata": {},
     "output_type": "execute_result"
    }
   ],
   "source": [
    "word1 = 'field'\n",
    "pat = r\"^(?=.*\\b{}\\b).*$\".format(word1)\n",
    "clean_premise(pat,df)"
   ]
  },
  {
   "cell_type": "code",
   "execution_count": 233,
   "metadata": {},
   "outputs": [],
   "source": [
    "change_premise(pat,df,'field_woods_park')"
   ]
  },
  {
   "cell_type": "code",
   "execution_count": 234,
   "metadata": {},
   "outputs": [
    {
     "data": {
      "text/plain": [
       "road_street_sidewalk                14608\n",
       "residence                            7094\n",
       "apartment                            6639\n",
       "unknown                              6365\n",
       "apartment_parking                    6248\n",
       "other_parking                        5025\n",
       "commercial_parking                   4421\n",
       "hospital                             2162\n",
       "restaurant_parking                   2158\n",
       "building                             2017\n",
       "driveway                             1857\n",
       "bar_club                             1761\n",
       "supermarket                          1486\n",
       "restaurant                           1417\n",
       "department_store                     1373\n",
       "gas_station                          1334\n",
       "bar_club_parking                     1262\n",
       "hotel_motel_parking                  1235\n",
       "hotel_motel                          1207\n",
       "business                             1051\n",
       "park_rec_pool                        1043\n",
       "convenience_store                     918\n",
       "bus_stop_station                      863\n",
       "garage_carport                        784\n",
       "stadium_arena_track                   693\n",
       "business_center_parking               638\n",
       "convenience_store_parking             571\n",
       "hospital_parking                      552\n",
       "construction_site                     544\n",
       "multiplex_home                        536\n",
       "drug_store                            481\n",
       "supermarket_parking                   438\n",
       "specialty_store                       393\n",
       "vacant_structure                      354\n",
       "gym_club_house                        351\n",
       "church_temple                         294\n",
       "school                                291\n",
       "clothing_store                        290\n",
       "convention_center                     272\n",
       "auto_sale_parts_store                 257\n",
       "church_temple_parking                 236\n",
       "college                               222\n",
       "libraries_museums                     218\n",
       "storage_facility                      197\n",
       "doctor_office                         187\n",
       "warehouse                             172\n",
       "highway_freeway                       171\n",
       "field_woods_park                      167\n",
       "rail_platform                         129\n",
       "rental_office                         127\n",
       "rail_vehicle                          123\n",
       "bank_parking                          121\n",
       "auto_repair                           116\n",
       "bank                                  114\n",
       "barber and beauty shops               100\n",
       "liquor_store                           96\n",
       "electronic_store                       93\n",
       "park and ride terminal                 77\n",
       "police station                         76\n",
       "social services/public charities       71\n",
       "Name: premise, dtype: int64"
      ]
     },
     "execution_count": 234,
     "metadata": {},
     "output_type": "execute_result"
    }
   ],
   "source": [
    "df.premise.value_counts()[:60]"
   ]
  },
  {
   "cell_type": "code",
   "execution_count": 236,
   "metadata": {},
   "outputs": [
    {
     "data": {
      "text/plain": [
       "laundry/dry cleaners/washaterias                                                                                                                          66\n",
       "laundry, dry cleaners, washaterias                                                                                                                        37\n",
       "laundry, dry cleaners, washaterias                                                                                                                         2\n",
       "Name: premise, dtype: int64"
      ]
     },
     "execution_count": 236,
     "metadata": {},
     "output_type": "execute_result"
    }
   ],
   "source": [
    "word1 = 'cleaners'\n",
    "pat = r\"^(?=.*\\b{}\\b).*$\".format(word1)\n",
    "clean_premise(pat,df)"
   ]
  },
  {
   "cell_type": "code",
   "execution_count": 237,
   "metadata": {},
   "outputs": [],
   "source": [
    "change_premise(pat,df,'dry_cleaners')"
   ]
  },
  {
   "cell_type": "code",
   "execution_count": 241,
   "metadata": {},
   "outputs": [
    {
     "data": {
      "text/plain": [
       "park and ride terminal                                                                                                                                    77\n",
       "park & ride terminal                                                                                                                                      25\n",
       "park and ride terminal                                                                                                                                     6\n",
       "Name: premise, dtype: int64"
      ]
     },
     "execution_count": 241,
     "metadata": {},
     "output_type": "execute_result"
    }
   ],
   "source": [
    "word1 = 'park'\n",
    "word2 = 'ride'\n",
    "pat = r\"^(?=.*\\b{}\\b)(?=.*\\b{}\\b).*$\".format(word1,word2)\n",
    "clean_premise(pat,df)"
   ]
  },
  {
   "cell_type": "code",
   "execution_count": 242,
   "metadata": {},
   "outputs": [],
   "source": [
    "change_premise(pat,df,'park_ride')"
   ]
  },
  {
   "cell_type": "code",
   "execution_count": 244,
   "metadata": {},
   "outputs": [
    {
     "data": {
      "text/plain": [
       "police station    76\n",
       "Name: premise, dtype: int64"
      ]
     },
     "execution_count": 244,
     "metadata": {},
     "output_type": "execute_result"
    }
   ],
   "source": [
    "word1 = 'police'\n",
    "pat = r\"^(?=.*\\b{}\\b).*$\".format(word1)\n",
    "clean_premise(pat,df)"
   ]
  },
  {
   "cell_type": "code",
   "execution_count": 245,
   "metadata": {},
   "outputs": [],
   "source": [
    "change_premise(pat,df,'police_station')"
   ]
  },
  {
   "cell_type": "code",
   "execution_count": 246,
   "metadata": {},
   "outputs": [
    {
     "data": {
      "text/plain": [
       "credit union    7\n",
       "Name: premise, dtype: int64"
      ]
     },
     "execution_count": 246,
     "metadata": {},
     "output_type": "execute_result"
    }
   ],
   "source": [
    "word1 = 'credit'\n",
    "pat = r\"^(?=.*\\b{}\\b).*$\".format(word1)\n",
    "clean_premise(pat,df)"
   ]
  },
  {
   "cell_type": "code",
   "execution_count": 247,
   "metadata": {},
   "outputs": [],
   "source": [
    "change_premise(pat,df,'bank')"
   ]
  },
  {
   "cell_type": "code",
   "execution_count": 248,
   "metadata": {},
   "outputs": [
    {
     "data": {
      "text/plain": [
       "package facility (fedex,ups,dhl)    5\n",
       "Name: premise, dtype: int64"
      ]
     },
     "execution_count": 248,
     "metadata": {},
     "output_type": "execute_result"
    }
   ],
   "source": [
    "word1 = 'package'\n",
    "pat = r\"^(?=.*\\b{}\\b).*$\".format(word1)\n",
    "clean_premise(pat,df)"
   ]
  },
  {
   "cell_type": "code",
   "execution_count": 249,
   "metadata": {},
   "outputs": [],
   "source": [
    "change_premise(pat,df,'package_facility')"
   ]
  },
  {
   "cell_type": "code",
   "execution_count": 250,
   "metadata": {},
   "outputs": [
    {
     "data": {
      "text/plain": [
       "barber and beauty shops                                                                                                                                   100\n",
       "barber and beauty shops                                                                                                                                     1\n",
       "Name: premise, dtype: int64"
      ]
     },
     "execution_count": 250,
     "metadata": {},
     "output_type": "execute_result"
    }
   ],
   "source": [
    "word1 = 'barber'\n",
    "pat = r\"^(?=.*\\b{}\\b).*$\".format(word1)\n",
    "clean_premise(pat,df)"
   ]
  },
  {
   "cell_type": "code",
   "execution_count": 251,
   "metadata": {},
   "outputs": [],
   "source": [
    "change_premise(pat,df,'barber_shop')"
   ]
  },
  {
   "cell_type": "code",
   "execution_count": 252,
   "metadata": {},
   "outputs": [
    {
     "data": {
      "text/plain": [
       "pool hall/game room       9\n",
       "pool hall or game room    3\n",
       "Name: premise, dtype: int64"
      ]
     },
     "execution_count": 252,
     "metadata": {},
     "output_type": "execute_result"
    }
   ],
   "source": [
    "word1 = 'pool'\n",
    "pat = r\"^(?=.*\\b{}\\b).*$\".format(word1)\n",
    "clean_premise(pat,df)"
   ]
  },
  {
   "cell_type": "code",
   "execution_count": 253,
   "metadata": {},
   "outputs": [],
   "source": [
    "change_premise(pat,df,'pool_hall')"
   ]
  },
  {
   "cell_type": "code",
   "execution_count": 255,
   "metadata": {},
   "outputs": [
    {
     "data": {
      "text/plain": [
       "video rental & sales    3\n",
       "Name: premise, dtype: int64"
      ]
     },
     "execution_count": 255,
     "metadata": {},
     "output_type": "execute_result"
    }
   ],
   "source": [
    "word1 = 'video'\n",
    "pat = r\"^(?=.*\\b{}\\b).*$\".format(word1)\n",
    "clean_premise(pat,df)"
   ]
  },
  {
   "cell_type": "code",
   "execution_count": 256,
   "metadata": {},
   "outputs": [],
   "source": [
    "change_premise(pat,df,'video_rental')"
   ]
  },
  {
   "cell_type": "code",
   "execution_count": 257,
   "metadata": {},
   "outputs": [
    {
     "data": {
      "text/plain": [
       "daycare/child care/kindergarten                                                                                                                           34\n",
       "daycare, child care, or kindergarten                                                                                                                      20\n",
       "daycare, child care, or kindergarten                                                                                                                       2\n",
       "Name: premise, dtype: int64"
      ]
     },
     "execution_count": 257,
     "metadata": {},
     "output_type": "execute_result"
    }
   ],
   "source": [
    "word1 = 'care'\n",
    "pat = r\"^(?=.*\\b{}\\b).*$\".format(word1)\n",
    "clean_premise(pat,df)"
   ]
  },
  {
   "cell_type": "code",
   "execution_count": 258,
   "metadata": {},
   "outputs": [],
   "source": [
    "change_premise(pat,df,'daycare')"
   ]
  },
  {
   "cell_type": "code",
   "execution_count": null,
   "metadata": {},
   "outputs": [],
   "source": [
    "apartment                                                                                                                                                 "
   ]
  },
  {
   "cell_type": "code",
   "execution_count": null,
   "metadata": {},
   "outputs": [],
   "source": []
  },
  {
   "cell_type": "code",
   "execution_count": null,
   "metadata": {},
   "outputs": [],
   "source": []
  },
  {
   "cell_type": "code",
   "execution_count": null,
   "metadata": {},
   "outputs": [],
   "source": []
  },
  {
   "cell_type": "code",
   "execution_count": 260,
   "metadata": {},
   "outputs": [
    {
     "data": {
      "text/plain": [
       "social services/public charities                                                                                                                          71\n",
       "alley                                                                                                                                                     65\n",
       "apartment                                                                                                                                                 64\n",
       "freeway service road                                                                                                                                      60\n",
       "amusement park, bowling alley, skate rink                                                                                                                 57\n",
       "daycare                                                                                                                                                   56\n",
       "sexually_oriented_business                                                                                                                                54\n",
       "high rise                                                                                                                                                 53\n",
       "theatres,dinner theaters,auditor.                                                                                                                         50\n",
       "car wash                                                                                                                                                  50\n",
       "---                                                                                                                                                       48\n",
       "nursing home                                                                                                                                              46\n",
       "theatres, dinner theaters, auditoriums                                                                                                                    44\n",
       "amuse. park,bowl. alley,skate rink                                                                                                                        43\n",
       "rehabilitation center                                                                                                                                     42\n",
       "social services or public charities                                                                                                                       38\n",
       "mall common area                                                                                                                                          33\n",
       "factory/manufacturing/industrial                                                                                                                          32\n",
       "apartment laundry                                                                                                                                         31\n",
       "hospital                                                                                                                                                  30\n",
       "airport terminal                                                                                                                                          28\n",
       "train terminal                                                                                                                                            27\n",
       "toys, arts craft,musical, bike,pet stores                                                                                                                 22\n",
       "factory, manufacturing, or industrial                                                                                                                     22\n",
       "fire station                                                                                                                                              22\n",
       "jewelry stores                                                                                                                                            22\n",
       "pawn/resale shop/flea market                                                                                                                              20\n",
       "check cashing places                                                                                                                                      20\n",
       "jail/prison                                                                                                                                               19\n",
       "driveway                                                                                                                                                  19\n",
       "                                                                                                                                                          ..\n",
       "mobile home                                                                                                                                                8\n",
       "savings and loan institutions                                                                                                                              8\n",
       "sporting goods/gun shops                                                                                                                                   7\n",
       "furniture, appliances, radios, tv                                                                                                                          7\n",
       "railroad track or right of way                                                                                                                             7\n",
       "garden supply, nursery, florist                                                                                                                            5\n",
       "package_facility                                                                                                                                           5\n",
       "lake, pond, waterway, bayou, river                                                                                                                         5\n",
       "garden supply, nursery, or florist                                                                                                                         4\n",
       "n                                                                                                                                                          4\n",
       "video_rental                                                                                                                                               3\n",
       "not listed                                                                                                                                                 3\n",
       "utility company, electric, gas, water                                                                                                                      3\n",
       "pawn, resale shop, or flea market                                                                                                                          2\n",
       " not listed                                                                                                                                                2\n",
       "amusement park, bowling alley, skate rink                                                                                                                  2\n",
       "contra-flow/hov                                                                                                                                            2\n",
       "theatres, dinner theaters, auditoriums                                                                                                                     2\n",
       "sporting goods or gun shops                                                                                                                                2\n",
       "nursing home                                                                                                                                               2\n",
       "tollway                                                                                                                                                    2\n",
       "freeway service road                                                                                                                                       2\n",
       "alley                                                                                                                                                      1\n",
       "jail or prison                                                                                                                                             1\n",
       "06                                                                                                                                                         1\n",
       "social services or public charities                                                                                                                        1\n",
       "mobile home                                                                                                                                                1\n",
       "mall common area                                                                                                                                           1\n",
       "marine veh. sales,boats,sailboats                                                                                                                          1\n",
       "car wash                                                                                                                                                   1\n",
       "Name: premise, Length: 70, dtype: int64"
      ]
     },
     "execution_count": 260,
     "metadata": {},
     "output_type": "execute_result"
    }
   ],
   "source": [
    "df.premise.value_counts()[60:]"
   ]
  },
  {
   "cell_type": "code",
   "execution_count": null,
   "metadata": {},
   "outputs": [],
   "source": []
  }
 ],
 "metadata": {
  "kernelspec": {
   "display_name": "Python 3",
   "language": "python",
   "name": "python3"
  },
  "language_info": {
   "codemirror_mode": {
    "name": "ipython",
    "version": 3
   },
   "file_extension": ".py",
   "mimetype": "text/x-python",
   "name": "python",
   "nbconvert_exporter": "python",
   "pygments_lexer": "ipython3",
   "version": "3.6.3"
  }
 },
 "nbformat": 4,
 "nbformat_minor": 2
}
