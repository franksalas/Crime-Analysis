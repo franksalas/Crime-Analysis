{
 "cells": [
  {
   "cell_type": "code",
   "execution_count": 1,
   "metadata": {},
   "outputs": [],
   "source": [
    "import warnings\n",
    "warnings.filterwarnings('ignore')"
   ]
  },
  {
   "cell_type": "code",
   "execution_count": 2,
   "metadata": {},
   "outputs": [],
   "source": [
    "import pandas as pd\n",
    "import glob, os\n",
    "import numpy as np\n",
    "import matplotlib.pyplot as plt\n",
    "import datetime  as dt\n",
    "import seaborn as sns\n",
    "import re"
   ]
  },
  {
   "cell_type": "code",
   "execution_count": 3,
   "metadata": {},
   "outputs": [],
   "source": [
    "data_folder = 'merge_data'"
   ]
  },
  {
   "cell_type": "code",
   "execution_count": 4,
   "metadata": {},
   "outputs": [],
   "source": [
    "# data folder path\n",
    "data_directory = os.path.join('..','data','clean_data/{}/crime_beats.csv'.format(data_folder))\n",
    "data_directory_saves = os.path.join( '..','data','clean_data','merge_data/')"
   ]
  },
  {
   "cell_type": "code",
   "execution_count": 5,
   "metadata": {},
   "outputs": [],
   "source": [
    "df = pd.read_csv(data_directory)"
   ]
  },
  {
   "cell_type": "code",
   "execution_count": 6,
   "metadata": {},
   "outputs": [
    {
     "name": "stdout",
     "output_type": "stream",
     "text": [
      "<class 'pandas.core.frame.DataFrame'>\n",
      "RangeIndex: 85578 entries, 0 to 85577\n",
      "Data columns (total 9 columns):\n",
      "date            85578 non-null object\n",
      "hour            85578 non-null int64\n",
      "beat            85578 non-null object\n",
      "offense_type    85578 non-null object\n",
      "block_range     85578 non-null object\n",
      "street_name     85578 non-null object\n",
      "premise         85578 non-null object\n",
      "num_offenses    85578 non-null int64\n",
      "type            85578 non-null object\n",
      "dtypes: int64(2), object(7)\n",
      "memory usage: 5.9+ MB\n"
     ]
    }
   ],
   "source": [
    "df.info()"
   ]
  },
  {
   "cell_type": "code",
   "execution_count": 7,
   "metadata": {},
   "outputs": [
    {
     "data": {
      "text/html": [
       "<div>\n",
       "<style scoped>\n",
       "    .dataframe tbody tr th:only-of-type {\n",
       "        vertical-align: middle;\n",
       "    }\n",
       "\n",
       "    .dataframe tbody tr th {\n",
       "        vertical-align: top;\n",
       "    }\n",
       "\n",
       "    .dataframe thead th {\n",
       "        text-align: right;\n",
       "    }\n",
       "</style>\n",
       "<table border=\"1\" class=\"dataframe\">\n",
       "  <thead>\n",
       "    <tr style=\"text-align: right;\">\n",
       "      <th></th>\n",
       "      <th>date</th>\n",
       "      <th>hour</th>\n",
       "      <th>beat</th>\n",
       "      <th>offense_type</th>\n",
       "      <th>block_range</th>\n",
       "      <th>street_name</th>\n",
       "      <th>premise</th>\n",
       "      <th>num_offenses</th>\n",
       "      <th>type</th>\n",
       "    </tr>\n",
       "  </thead>\n",
       "  <tbody>\n",
       "    <tr>\n",
       "      <th>0</th>\n",
       "      <td>1916-05-23</td>\n",
       "      <td>19</td>\n",
       "      <td>10H70</td>\n",
       "      <td>Aggravated Assault</td>\n",
       "      <td>UNK</td>\n",
       "      <td>LIBERTY ROAD</td>\n",
       "      <td>Residence or House</td>\n",
       "      <td>1</td>\n",
       "      <td>-</td>\n",
       "    </tr>\n",
       "    <tr>\n",
       "      <th>1</th>\n",
       "      <td>1917-02-20</td>\n",
       "      <td>16</td>\n",
       "      <td>10H70</td>\n",
       "      <td>Theft</td>\n",
       "      <td>7500-7599</td>\n",
       "      <td>ARDMORE</td>\n",
       "      <td>Other Parking Lot</td>\n",
       "      <td>1</td>\n",
       "      <td>ST</td>\n",
       "    </tr>\n",
       "    <tr>\n",
       "      <th>2</th>\n",
       "      <td>1963-02-02</td>\n",
       "      <td>13</td>\n",
       "      <td>10H40</td>\n",
       "      <td>Theft</td>\n",
       "      <td>3800-3899</td>\n",
       "      <td>MAIN</td>\n",
       "      <td>REHABILITATION CENTER</td>\n",
       "      <td>1</td>\n",
       "      <td>ST</td>\n",
       "    </tr>\n",
       "    <tr>\n",
       "      <th>3</th>\n",
       "      <td>1966-01-01</td>\n",
       "      <td>0</td>\n",
       "      <td>10H50</td>\n",
       "      <td>Rape</td>\n",
       "      <td>3300-3399</td>\n",
       "      <td>ALABAMA</td>\n",
       "      <td>APARTMENT</td>\n",
       "      <td>1</td>\n",
       "      <td>ST</td>\n",
       "    </tr>\n",
       "    <tr>\n",
       "      <th>4</th>\n",
       "      <td>1971-02-03</td>\n",
       "      <td>6</td>\n",
       "      <td>1A10</td>\n",
       "      <td>Theft</td>\n",
       "      <td>1200-1299</td>\n",
       "      <td>TRAVIS</td>\n",
       "      <td>Residence or House</td>\n",
       "      <td>1</td>\n",
       "      <td>-</td>\n",
       "    </tr>\n",
       "  </tbody>\n",
       "</table>\n",
       "</div>"
      ],
      "text/plain": [
       "         date  hour   beat        offense_type block_range   street_name  \\\n",
       "0  1916-05-23    19  10H70  Aggravated Assault         UNK  LIBERTY ROAD   \n",
       "1  1917-02-20    16  10H70               Theft   7500-7599       ARDMORE   \n",
       "2  1963-02-02    13  10H40               Theft   3800-3899          MAIN   \n",
       "3  1966-01-01     0  10H50                Rape   3300-3399       ALABAMA   \n",
       "4  1971-02-03     6   1A10               Theft   1200-1299        TRAVIS   \n",
       "\n",
       "                 premise  num_offenses type  \n",
       "0     Residence or House             1    -  \n",
       "1      Other Parking Lot             1   ST  \n",
       "2  REHABILITATION CENTER             1   ST  \n",
       "3              APARTMENT             1   ST  \n",
       "4     Residence or House             1    -  "
      ]
     },
     "execution_count": 7,
     "metadata": {},
     "output_type": "execute_result"
    }
   ],
   "source": [
    "df.head()"
   ]
  },
  {
   "cell_type": "markdown",
   "metadata": {},
   "source": [
    "## cleanup premise column"
   ]
  },
  {
   "cell_type": "code",
   "execution_count": 8,
   "metadata": {},
   "outputs": [
    {
     "data": {
      "text/plain": [
       "335"
      ]
     },
     "execution_count": 8,
     "metadata": {},
     "output_type": "execute_result"
    }
   ],
   "source": [
    "len(df.premise.unique())"
   ]
  },
  {
   "cell_type": "code",
   "execution_count": 9,
   "metadata": {},
   "outputs": [
    {
     "data": {
      "text/plain": [
       "Road, Street, or Sidewalk        7325\n",
       "ROAD/STREET/SIDEWALK             7063\n",
       "APARTMENT                        3982\n",
       "APARTMENT PARKING LOT            3681\n",
       "RESIDENCE/HOUSE                  3605\n",
       "UNK                              3598\n",
       "Residence or House               3229\n",
       "OTHER PARKING LOT                3101\n",
       "COMMERCIAL PARKING LOT/GARAGE    2541\n",
       "Apartment Parking Lot            2492\n",
       "Name: premise, dtype: int64"
      ]
     },
     "execution_count": 9,
     "metadata": {},
     "output_type": "execute_result"
    }
   ],
   "source": [
    "df.premise.value_counts()[:10]"
   ]
  },
  {
   "cell_type": "markdown",
   "metadata": {},
   "source": [
    "## lowercase all"
   ]
  },
  {
   "cell_type": "code",
   "execution_count": 10,
   "metadata": {},
   "outputs": [],
   "source": [
    "df.premise = df.premise.str.lower()"
   ]
  },
  {
   "cell_type": "code",
   "execution_count": 11,
   "metadata": {},
   "outputs": [
    {
     "data": {
      "text/plain": [
       "278"
      ]
     },
     "execution_count": 11,
     "metadata": {},
     "output_type": "execute_result"
    }
   ],
   "source": [
    "len(df.premise.unique())"
   ]
  },
  {
   "cell_type": "code",
   "execution_count": 12,
   "metadata": {},
   "outputs": [
    {
     "data": {
      "text/plain": [
       "road, street, or sidewalk        7325\n",
       "road/street/sidewalk             7063\n",
       "apartment parking lot            6173\n",
       "apartment                        6159\n",
       "other parking lot                4891\n",
       "residence/house                  3605\n",
       "unk                              3598\n",
       "residence or house               3229\n",
       "commercial parking lot/garage    2541\n",
       "hospital                         2162\n",
       "Name: premise, dtype: int64"
      ]
     },
     "execution_count": 12,
     "metadata": {},
     "output_type": "execute_result"
    }
   ],
   "source": [
    "df.premise.value_counts()[:10]"
   ]
  },
  {
   "cell_type": "code",
   "execution_count": 13,
   "metadata": {},
   "outputs": [],
   "source": [
    "df.premise = df.premise.str.strip()"
   ]
  },
  {
   "cell_type": "code",
   "execution_count": 14,
   "metadata": {},
   "outputs": [
    {
     "data": {
      "text/plain": [
       "197"
      ]
     },
     "execution_count": 14,
     "metadata": {},
     "output_type": "execute_result"
    }
   ],
   "source": [
    "len(df.premise.unique())"
   ]
  },
  {
   "cell_type": "code",
   "execution_count": 15,
   "metadata": {},
   "outputs": [
    {
     "data": {
      "text/plain": [
       "road, street, or sidewalk        7545\n",
       "road/street/sidewalk             7063\n",
       "apartment parking lot            6248\n",
       "apartment                        6223\n",
       "other parking lot                4950\n",
       "residence/house                  3605\n",
       "unk                              3598\n",
       "residence or house               3302\n",
       "commercial parking lot/garage    2541\n",
       "hospital                         2192\n",
       "Name: premise, dtype: int64"
      ]
     },
     "execution_count": 15,
     "metadata": {},
     "output_type": "execute_result"
    }
   ],
   "source": [
    "df.premise.value_counts()[:10]"
   ]
  },
  {
   "cell_type": "code",
   "execution_count": null,
   "metadata": {},
   "outputs": [],
   "source": []
  },
  {
   "cell_type": "code",
   "execution_count": null,
   "metadata": {},
   "outputs": [],
   "source": []
  },
  {
   "cell_type": "code",
   "execution_count": 16,
   "metadata": {},
   "outputs": [
    {
     "name": "stdout",
     "output_type": "stream",
     "text": [
      "<class 'pandas.core.frame.DataFrame'>\n",
      "RangeIndex: 85578 entries, 0 to 85577\n",
      "Data columns (total 9 columns):\n",
      "date            85578 non-null object\n",
      "hour            85578 non-null int64\n",
      "beat            85578 non-null object\n",
      "offense_type    85578 non-null object\n",
      "block_range     85578 non-null object\n",
      "street_name     85578 non-null object\n",
      "premise         85578 non-null object\n",
      "num_offenses    85578 non-null int64\n",
      "type            85578 non-null object\n",
      "dtypes: int64(2), object(7)\n",
      "memory usage: 5.9+ MB\n"
     ]
    }
   ],
   "source": [
    "df.info()"
   ]
  },
  {
   "cell_type": "markdown",
   "metadata": {},
   "source": [
    "## Create two function\n",
    "- display results based on regex pattern\n",
    "- change results based on regex pattern to new value"
   ]
  },
  {
   "cell_type": "code",
   "execution_count": 17,
   "metadata": {},
   "outputs": [],
   "source": [
    "def clean_premise(pat,df):\n",
    "    fil = df.premise.str.contains(pat,regex=True)\n",
    "    result = df[fil].premise.value_counts()\n",
    "    return result"
   ]
  },
  {
   "cell_type": "code",
   "execution_count": 18,
   "metadata": {},
   "outputs": [],
   "source": [
    "def change_premise(pat,df,new_premise):\n",
    "    df.premise = df.premise.replace(pat,new_premise,regex=True)"
   ]
  },
  {
   "cell_type": "code",
   "execution_count": null,
   "metadata": {},
   "outputs": [],
   "source": []
  },
  {
   "cell_type": "code",
   "execution_count": null,
   "metadata": {},
   "outputs": [],
   "source": []
  },
  {
   "cell_type": "code",
   "execution_count": 19,
   "metadata": {},
   "outputs": [
    {
     "data": {
      "text/plain": [
       "vacant single occ resd(house,townhs,dplex)                                            188\n",
       "vacant single occupancy residence (houses,townhouses,duplexes, etc.)                  187\n",
       "vacant building (commercial)                                                          121\n",
       "vacant other residential (apartment,dorms)                                             47\n",
       "vacant other residential (apartment,inn,dorms,boarding house)                          30\n",
       "vacant other structure (out buildings,monuments,buildings under construction,etc.)     23\n",
       "vacant restaurant                                                                      21\n",
       "vacant other out build/monument/underconst                                             21\n",
       "vacant school or college/university                                                    18\n",
       "vacant storage fac (barn,garage,warehouse)                                             13\n",
       "vacant hospital                                                                        11\n",
       "vacant grocery store or supermarket                                                    10\n",
       "vacant industrial or manufacturing blding                                               7\n",
       "vacant government/public building                                                       6\n",
       "vacant government or public building                                                    6\n",
       "vacant hotel/motel/etc.                                                                 6\n",
       "vacant church/synagogue/temple                                                          5\n",
       "vacant industrial/manufacturing/industrial                                              5\n",
       "vacant storage facility (barns,garages,warehouses,etc.)                                 4\n",
       "vacant church, synagogue, or temple                                                     4\n",
       "vacant hotel, motel, etc.                                                               2\n",
       "vacant school/college                                                                   2\n",
       "vacant jail or prison                                                                   1\n",
       "vacant grocery/supermarket                                                              1\n",
       "Name: premise, dtype: int64"
      ]
     },
     "execution_count": 19,
     "metadata": {},
     "output_type": "execute_result"
    }
   ],
   "source": [
    "word1 = 'vacant'\n",
    "pat = r\"^(?=.*\\b{}\\b).*$\".format(word1)\n",
    "clean_premise(pat,df)"
   ]
  },
  {
   "cell_type": "code",
   "execution_count": 20,
   "metadata": {},
   "outputs": [],
   "source": [
    "change_premise(pat,df,'vacant_structure')"
   ]
  },
  {
   "cell_type": "code",
   "execution_count": null,
   "metadata": {},
   "outputs": [],
   "source": []
  },
  {
   "cell_type": "markdown",
   "metadata": {},
   "source": [
    "## road"
   ]
  },
  {
   "cell_type": "code",
   "execution_count": 21,
   "metadata": {},
   "outputs": [],
   "source": [
    "word1 = 'road'\n",
    "word2 = 'street'"
   ]
  },
  {
   "cell_type": "code",
   "execution_count": 22,
   "metadata": {},
   "outputs": [
    {
     "data": {
      "text/plain": [
       "road, street, or sidewalk    7545\n",
       "road/street/sidewalk         7063\n",
       "Name: premise, dtype: int64"
      ]
     },
     "execution_count": 22,
     "metadata": {},
     "output_type": "execute_result"
    }
   ],
   "source": [
    "pat = r\"^(?=.*\\b{}\\b)(?=.*\\b{}\\b).*$\".format(word1,word2)\n",
    "clean_premise(pat,df)"
   ]
  },
  {
   "cell_type": "code",
   "execution_count": 23,
   "metadata": {},
   "outputs": [],
   "source": [
    "change_premise(pat,df,'road_street_sidewalk')"
   ]
  },
  {
   "cell_type": "code",
   "execution_count": null,
   "metadata": {},
   "outputs": [],
   "source": []
  },
  {
   "cell_type": "code",
   "execution_count": 24,
   "metadata": {},
   "outputs": [
    {
     "data": {
      "text/plain": [
       "road_street_sidewalk             14608\n",
       "apartment parking lot             6248\n",
       "apartment                         6223\n",
       "other parking lot                 4950\n",
       "residence/house                   3605\n",
       "unk                               3598\n",
       "residence or house                3302\n",
       "commercial parking lot/garage     2541\n",
       "hospital                          2192\n",
       "other/unknown                     1967\n",
       "Name: premise, dtype: int64"
      ]
     },
     "execution_count": 24,
     "metadata": {},
     "output_type": "execute_result"
    }
   ],
   "source": [
    "df.premise.value_counts()[:10]"
   ]
  },
  {
   "cell_type": "markdown",
   "metadata": {},
   "source": [
    "## apartment parking"
   ]
  },
  {
   "cell_type": "code",
   "execution_count": 25,
   "metadata": {},
   "outputs": [],
   "source": [
    "word1 = 'apartment'\n",
    "word2 = 'parking'"
   ]
  },
  {
   "cell_type": "code",
   "execution_count": 26,
   "metadata": {},
   "outputs": [
    {
     "data": {
      "text/plain": [
       "apartment parking lot    6248\n",
       "Name: premise, dtype: int64"
      ]
     },
     "execution_count": 26,
     "metadata": {},
     "output_type": "execute_result"
    }
   ],
   "source": [
    "pat = r\"^(?=.*\\b{}\\b)(?=.*\\b{}\\b).*$\".format(word1,word2)\n",
    "clean_premise(pat,df)"
   ]
  },
  {
   "cell_type": "code",
   "execution_count": 27,
   "metadata": {},
   "outputs": [],
   "source": [
    "change_premise(pat,df,'apartment_parking')"
   ]
  },
  {
   "cell_type": "code",
   "execution_count": 28,
   "metadata": {},
   "outputs": [
    {
     "data": {
      "text/plain": [
       "road_street_sidewalk             14608\n",
       "apartment_parking                 6248\n",
       "apartment                         6223\n",
       "other parking lot                 4950\n",
       "residence/house                   3605\n",
       "unk                               3598\n",
       "residence or house                3302\n",
       "commercial parking lot/garage     2541\n",
       "hospital                          2192\n",
       "other/unknown                     1967\n",
       "Name: premise, dtype: int64"
      ]
     },
     "execution_count": 28,
     "metadata": {},
     "output_type": "execute_result"
    }
   ],
   "source": [
    "df.premise.value_counts()[:10]"
   ]
  },
  {
   "cell_type": "markdown",
   "metadata": {},
   "source": [
    "## residence"
   ]
  },
  {
   "cell_type": "code",
   "execution_count": 29,
   "metadata": {},
   "outputs": [
    {
     "data": {
      "text/plain": [
       "residence/house       3605\n",
       "residence or house    3302\n",
       "Name: premise, dtype: int64"
      ]
     },
     "execution_count": 29,
     "metadata": {},
     "output_type": "execute_result"
    }
   ],
   "source": [
    "word1 = 'residence'\n",
    "word2 = 'house'\n",
    "\n",
    "pat = r\"^(?=.*\\b{}\\b)(?=.*\\b{}\\b).*$\".format(word1,word2)\n",
    "clean_premise(pat,df)"
   ]
  },
  {
   "cell_type": "code",
   "execution_count": 30,
   "metadata": {},
   "outputs": [],
   "source": [
    "change_premise(pat,df,'house')"
   ]
  },
  {
   "cell_type": "code",
   "execution_count": 31,
   "metadata": {},
   "outputs": [
    {
     "data": {
      "text/plain": [
       "road_street_sidewalk                14608\n",
       "house                                6907\n",
       "apartment_parking                    6248\n",
       "apartment                            6223\n",
       "other parking lot                    4950\n",
       "unk                                  3598\n",
       "commercial parking lot/garage        2541\n",
       "hospital                             2192\n",
       "other/unknown                        1967\n",
       "commercial parking lot or garage     1880\n",
       "Name: premise, dtype: int64"
      ]
     },
     "execution_count": 31,
     "metadata": {},
     "output_type": "execute_result"
    }
   ],
   "source": [
    "df.premise.value_counts()[:10]"
   ]
  },
  {
   "cell_type": "markdown",
   "metadata": {},
   "source": [
    "## commercial parking"
   ]
  },
  {
   "cell_type": "code",
   "execution_count": 32,
   "metadata": {},
   "outputs": [
    {
     "data": {
      "text/plain": [
       "commercial parking lot/garage       2541\n",
       "commercial parking lot or garage    1880\n",
       "Name: premise, dtype: int64"
      ]
     },
     "execution_count": 32,
     "metadata": {},
     "output_type": "execute_result"
    }
   ],
   "source": [
    "word1 = 'commercial'\n",
    "word2 = 'parking'\n",
    "\n",
    "pat = r\"^(?=.*\\b{}\\b)(?=.*\\b{}\\b).*$\".format(word1,word2)\n",
    "clean_premise(pat,df)"
   ]
  },
  {
   "cell_type": "code",
   "execution_count": 33,
   "metadata": {},
   "outputs": [],
   "source": [
    "change_premise(pat,df,'commercial_parking')"
   ]
  },
  {
   "cell_type": "code",
   "execution_count": 34,
   "metadata": {},
   "outputs": [
    {
     "data": {
      "text/plain": [
       "road_street_sidewalk    14608\n",
       "house                    6907\n",
       "apartment_parking        6248\n",
       "apartment                6223\n",
       "other parking lot        4950\n",
       "commercial_parking       4421\n",
       "unk                      3598\n",
       "hospital                 2192\n",
       "other/unknown            1967\n",
       "driveway                 1876\n",
       "Name: premise, dtype: int64"
      ]
     },
     "execution_count": 34,
     "metadata": {},
     "output_type": "execute_result"
    }
   ],
   "source": [
    "df.premise.value_counts()[:10]"
   ]
  },
  {
   "cell_type": "markdown",
   "metadata": {},
   "source": [
    "## restaurant parking"
   ]
  },
  {
   "cell_type": "code",
   "execution_count": 35,
   "metadata": {},
   "outputs": [
    {
     "data": {
      "text/plain": [
       "restaurant or cafeteria parking lot    1081\n",
       "restaurant/cafeteria parking lot       1077\n",
       "Name: premise, dtype: int64"
      ]
     },
     "execution_count": 35,
     "metadata": {},
     "output_type": "execute_result"
    }
   ],
   "source": [
    "word1 = 'restaurant'\n",
    "word2 = 'parking'\n",
    "\n",
    "pat = r\"^(?=.*\\b{}\\b)(?=.*\\b{}\\b).*$\".format(word1,word2)\n",
    "clean_premise(pat,df)"
   ]
  },
  {
   "cell_type": "code",
   "execution_count": 36,
   "metadata": {},
   "outputs": [],
   "source": [
    "change_premise(pat,df,'restaurant_parking')"
   ]
  },
  {
   "cell_type": "code",
   "execution_count": 37,
   "metadata": {},
   "outputs": [
    {
     "data": {
      "text/plain": [
       "road_street_sidewalk    14608\n",
       "house                    6907\n",
       "apartment_parking        6248\n",
       "apartment                6223\n",
       "other parking lot        4950\n",
       "commercial_parking       4421\n",
       "unk                      3598\n",
       "hospital                 2192\n",
       "restaurant_parking       2158\n",
       "other/unknown            1967\n",
       "Name: premise, dtype: int64"
      ]
     },
     "execution_count": 37,
     "metadata": {},
     "output_type": "execute_result"
    }
   ],
   "source": [
    "df.premise.value_counts()[:10]"
   ]
  },
  {
   "cell_type": "code",
   "execution_count": 38,
   "metadata": {},
   "outputs": [
    {
     "data": {
      "text/plain": [
       "bar/night club parking lot       690\n",
       "bar or night club parking lot    572\n",
       "Name: premise, dtype: int64"
      ]
     },
     "execution_count": 38,
     "metadata": {},
     "output_type": "execute_result"
    }
   ],
   "source": [
    "word1 = 'club'\n",
    "word2 = 'parking'\n",
    "\n",
    "pat = r\"^(?=.*\\b{}\\b)(?=.*\\b{}\\b).*$\".format(word1,word2)\n",
    "clean_premise(pat,df)"
   ]
  },
  {
   "cell_type": "code",
   "execution_count": 39,
   "metadata": {},
   "outputs": [],
   "source": [
    "change_premise(pat,df,'bar_club_parking')"
   ]
  },
  {
   "cell_type": "code",
   "execution_count": 40,
   "metadata": {},
   "outputs": [
    {
     "data": {
      "text/plain": [
       "road_street_sidewalk    14608\n",
       "house                    6907\n",
       "apartment_parking        6248\n",
       "apartment                6223\n",
       "other parking lot        4950\n",
       "commercial_parking       4421\n",
       "unk                      3598\n",
       "hospital                 2192\n",
       "restaurant_parking       2158\n",
       "other/unknown            1967\n",
       "Name: premise, dtype: int64"
      ]
     },
     "execution_count": 40,
     "metadata": {},
     "output_type": "execute_result"
    }
   ],
   "source": [
    "df.premise.value_counts()[:10]"
   ]
  },
  {
   "cell_type": "code",
   "execution_count": 41,
   "metadata": {},
   "outputs": [
    {
     "data": {
      "text/plain": [
       "bar/night club       1036\n",
       "bar or night club     725\n",
       "Name: premise, dtype: int64"
      ]
     },
     "execution_count": 41,
     "metadata": {},
     "output_type": "execute_result"
    }
   ],
   "source": [
    "word1 = 'club'\n",
    "word2 = 'bar'\n",
    "\n",
    "pat = r\"^(?=.*\\b{}\\b)(?=.*\\b{}\\b).*$\".format(word1,word2)\n",
    "clean_premise(pat,df)"
   ]
  },
  {
   "cell_type": "code",
   "execution_count": 42,
   "metadata": {},
   "outputs": [],
   "source": [
    "change_premise(pat,df,'bar_club')"
   ]
  },
  {
   "cell_type": "code",
   "execution_count": 43,
   "metadata": {},
   "outputs": [
    {
     "data": {
      "text/plain": [
       "road_street_sidewalk    14608\n",
       "house                    6907\n",
       "apartment_parking        6248\n",
       "apartment                6223\n",
       "other parking lot        4950\n",
       "commercial_parking       4421\n",
       "unk                      3598\n",
       "hospital                 2192\n",
       "restaurant_parking       2158\n",
       "other/unknown            1967\n",
       "Name: premise, dtype: int64"
      ]
     },
     "execution_count": 43,
     "metadata": {},
     "output_type": "execute_result"
    }
   ],
   "source": [
    "df.premise.value_counts()[:10]"
   ]
  },
  {
   "cell_type": "code",
   "execution_count": 44,
   "metadata": {},
   "outputs": [
    {
     "data": {
      "text/plain": [
       "grocery/supermarket parking lot             226\n",
       "grocery store or supermarket parking lot    212\n",
       "Name: premise, dtype: int64"
      ]
     },
     "execution_count": 44,
     "metadata": {},
     "output_type": "execute_result"
    }
   ],
   "source": [
    "word1 = 'grocery'\n",
    "word2 = 'parking'\n",
    "\n",
    "pat = r\"^(?=.*\\b{}\\b)(?=.*\\b{}\\b).*$\".format(word1,word2)\n",
    "clean_premise(pat,df)"
   ]
  },
  {
   "cell_type": "code",
   "execution_count": 45,
   "metadata": {},
   "outputs": [],
   "source": [
    "change_premise(pat,df,'supermarket_parking')"
   ]
  },
  {
   "cell_type": "code",
   "execution_count": 46,
   "metadata": {},
   "outputs": [
    {
     "data": {
      "text/plain": [
       "road_street_sidewalk    14608\n",
       "house                    6907\n",
       "apartment_parking        6248\n",
       "apartment                6223\n",
       "other parking lot        4950\n",
       "commercial_parking       4421\n",
       "unk                      3598\n",
       "hospital                 2192\n",
       "restaurant_parking       2158\n",
       "other/unknown            1967\n",
       "Name: premise, dtype: int64"
      ]
     },
     "execution_count": 46,
     "metadata": {},
     "output_type": "execute_result"
    }
   ],
   "source": [
    "df.premise.value_counts()[:10]"
   ]
  },
  {
   "cell_type": "code",
   "execution_count": 47,
   "metadata": {},
   "outputs": [
    {
     "data": {
      "text/plain": [
       "grocery/supermarket             954\n",
       "grocery store or supermarket    521\n",
       "Name: premise, dtype: int64"
      ]
     },
     "execution_count": 47,
     "metadata": {},
     "output_type": "execute_result"
    }
   ],
   "source": [
    "word1 = 'grocery'\n",
    "word2 = 'supermarket'\n",
    "\n",
    "pat = r\"^(?=.*\\b{}\\b)(?=.*\\b{}\\b).*$\".format(word1,word2)\n",
    "clean_premise(pat,df)"
   ]
  },
  {
   "cell_type": "code",
   "execution_count": 48,
   "metadata": {},
   "outputs": [],
   "source": [
    "change_premise(pat,df,'supermarket')"
   ]
  },
  {
   "cell_type": "code",
   "execution_count": 49,
   "metadata": {},
   "outputs": [
    {
     "data": {
      "text/plain": [
       "road_street_sidewalk    14608\n",
       "house                    6907\n",
       "apartment_parking        6248\n",
       "apartment                6223\n",
       "other parking lot        4950\n",
       "commercial_parking       4421\n",
       "unk                      3598\n",
       "hospital                 2192\n",
       "restaurant_parking       2158\n",
       "other/unknown            1967\n",
       "Name: premise, dtype: int64"
      ]
     },
     "execution_count": 49,
     "metadata": {},
     "output_type": "execute_result"
    }
   ],
   "source": [
    "df.premise.value_counts()[:10]"
   ]
  },
  {
   "cell_type": "code",
   "execution_count": 50,
   "metadata": {},
   "outputs": [
    {
     "data": {
      "text/plain": [
       "department/discount store       1027\n",
       "department or discount store     346\n",
       "Name: premise, dtype: int64"
      ]
     },
     "execution_count": 50,
     "metadata": {},
     "output_type": "execute_result"
    }
   ],
   "source": [
    "\n",
    "\n",
    "\n",
    "word1 = 'department'\n",
    "word2 = 'discount'\n",
    "\n",
    "pat = r\"^(?=.*\\b{}\\b)(?=.*\\b{}\\b).*$\".format(word1,word2)\n",
    "clean_premise(pat,df)"
   ]
  },
  {
   "cell_type": "code",
   "execution_count": 51,
   "metadata": {},
   "outputs": [],
   "source": [
    "change_premise(pat,df,'department_store')"
   ]
  },
  {
   "cell_type": "code",
   "execution_count": 52,
   "metadata": {},
   "outputs": [
    {
     "data": {
      "text/plain": [
       "road_street_sidewalk    14608\n",
       "house                    6907\n",
       "apartment_parking        6248\n",
       "apartment                6223\n",
       "other parking lot        4950\n",
       "commercial_parking       4421\n",
       "unk                      3598\n",
       "hospital                 2192\n",
       "restaurant_parking       2158\n",
       "other/unknown            1967\n",
       "Name: premise, dtype: int64"
      ]
     },
     "execution_count": 52,
     "metadata": {},
     "output_type": "execute_result"
    }
   ],
   "source": [
    "df.premise.value_counts()[:10]"
   ]
  },
  {
   "cell_type": "code",
   "execution_count": 53,
   "metadata": {},
   "outputs": [
    {
     "data": {
      "text/plain": [
       "hotel/motel parking lot       682\n",
       "hotel or motel parking lot    553\n",
       "Name: premise, dtype: int64"
      ]
     },
     "execution_count": 53,
     "metadata": {},
     "output_type": "execute_result"
    }
   ],
   "source": [
    "word1 = 'hotel'\n",
    "word2 = 'parking'\n",
    "\n",
    "pat = r\"^(?=.*\\b{}\\b)(?=.*\\b{}\\b).*$\".format(word1,word2)\n",
    "clean_premise(pat,df)"
   ]
  },
  {
   "cell_type": "code",
   "execution_count": 54,
   "metadata": {},
   "outputs": [],
   "source": [
    "change_premise(pat,df,'hotel_motel_parking')"
   ]
  },
  {
   "cell_type": "code",
   "execution_count": 55,
   "metadata": {},
   "outputs": [
    {
     "data": {
      "text/plain": [
       "road_street_sidewalk    14608\n",
       "house                    6907\n",
       "apartment_parking        6248\n",
       "apartment                6223\n",
       "other parking lot        4950\n",
       "commercial_parking       4421\n",
       "unk                      3598\n",
       "hospital                 2192\n",
       "restaurant_parking       2158\n",
       "other/unknown            1967\n",
       "Name: premise, dtype: int64"
      ]
     },
     "execution_count": 55,
     "metadata": {},
     "output_type": "execute_result"
    }
   ],
   "source": [
    "df.premise.value_counts()[:10]"
   ]
  },
  {
   "cell_type": "code",
   "execution_count": 56,
   "metadata": {},
   "outputs": [
    {
     "data": {
      "text/plain": [
       "hotel/motel/etc.           623\n",
       "hotel, motel, inn, etc.    576\n",
       "Name: premise, dtype: int64"
      ]
     },
     "execution_count": 56,
     "metadata": {},
     "output_type": "execute_result"
    }
   ],
   "source": [
    "word1 = 'hotel'\n",
    "word2 = 'motel'\n",
    "\n",
    "pat = r\"^(?=.*\\b{}\\b)(?=.*\\b{}\\b).*$\".format(word1,word2)\n",
    "clean_premise(pat,df)"
   ]
  },
  {
   "cell_type": "code",
   "execution_count": 57,
   "metadata": {},
   "outputs": [],
   "source": [
    "change_premise(pat,df,'hotel_motel')"
   ]
  },
  {
   "cell_type": "code",
   "execution_count": 58,
   "metadata": {},
   "outputs": [
    {
     "data": {
      "text/plain": [
       "road_street_sidewalk    14608\n",
       "house                    6907\n",
       "apartment_parking        6248\n",
       "apartment                6223\n",
       "other parking lot        4950\n",
       "commercial_parking       4421\n",
       "unk                      3598\n",
       "hospital                 2192\n",
       "restaurant_parking       2158\n",
       "other/unknown            1967\n",
       "Name: premise, dtype: int64"
      ]
     },
     "execution_count": 58,
     "metadata": {},
     "output_type": "execute_result"
    }
   ],
   "source": [
    "df.premise.value_counts()[:10]"
   ]
  },
  {
   "cell_type": "code",
   "execution_count": 59,
   "metadata": {},
   "outputs": [
    {
     "data": {
      "text/plain": [
       "restaurant/cafeteria       781\n",
       "restaurant or cafeteria    636\n",
       "Name: premise, dtype: int64"
      ]
     },
     "execution_count": 59,
     "metadata": {},
     "output_type": "execute_result"
    }
   ],
   "source": [
    "word1 = 'restaurant'\n",
    "word2 = 'cafeteria'\n",
    "\n",
    "pat = r\"^(?=.*\\b{}\\b)(?=.*\\b{}\\b).*$\".format(word1,word2)\n",
    "clean_premise(pat,df)"
   ]
  },
  {
   "cell_type": "code",
   "execution_count": 60,
   "metadata": {},
   "outputs": [],
   "source": [
    "change_premise(pat,df,'restaurant')"
   ]
  },
  {
   "cell_type": "code",
   "execution_count": 61,
   "metadata": {},
   "outputs": [
    {
     "data": {
      "text/plain": [
       "road_street_sidewalk    14608\n",
       "house                    6907\n",
       "apartment_parking        6248\n",
       "apartment                6223\n",
       "other parking lot        4950\n",
       "commercial_parking       4421\n",
       "unk                      3598\n",
       "hospital                 2192\n",
       "restaurant_parking       2158\n",
       "other/unknown            1967\n",
       "Name: premise, dtype: int64"
      ]
     },
     "execution_count": 61,
     "metadata": {},
     "output_type": "execute_result"
    }
   ],
   "source": [
    "df.premise.value_counts()[:10]"
   ]
  },
  {
   "cell_type": "code",
   "execution_count": 62,
   "metadata": {},
   "outputs": [
    {
     "data": {
      "text/plain": [
       "service or gas station    778\n",
       "service/gas station       556\n",
       "Name: premise, dtype: int64"
      ]
     },
     "execution_count": 62,
     "metadata": {},
     "output_type": "execute_result"
    }
   ],
   "source": [
    "word1 = 'gas'\n",
    "word2 = 'station'\n",
    "\n",
    "pat = r\"^(?=.*\\b{}\\b)(?=.*\\b{}\\b).*$\".format(word1,word2)\n",
    "clean_premise(pat,df)"
   ]
  },
  {
   "cell_type": "code",
   "execution_count": 63,
   "metadata": {},
   "outputs": [],
   "source": [
    "change_premise(pat,df,'gas_station')"
   ]
  },
  {
   "cell_type": "code",
   "execution_count": 64,
   "metadata": {},
   "outputs": [
    {
     "data": {
      "text/plain": [
       "road_street_sidewalk    14608\n",
       "house                    6907\n",
       "apartment_parking        6248\n",
       "apartment                6223\n",
       "other parking lot        4950\n",
       "commercial_parking       4421\n",
       "unk                      3598\n",
       "hospital                 2192\n",
       "restaurant_parking       2158\n",
       "other/unknown            1967\n",
       "Name: premise, dtype: int64"
      ]
     },
     "execution_count": 64,
     "metadata": {},
     "output_type": "execute_result"
    }
   ],
   "source": [
    "df.premise.value_counts()[:10]"
   ]
  },
  {
   "cell_type": "code",
   "execution_count": 65,
   "metadata": {},
   "outputs": [
    {
     "data": {
      "text/plain": [
       "hospital parking lot    552\n",
       "Name: premise, dtype: int64"
      ]
     },
     "execution_count": 65,
     "metadata": {},
     "output_type": "execute_result"
    }
   ],
   "source": [
    "word1 = 'hospital'\n",
    "word2 = 'parking'\n",
    "\n",
    "pat = r\"^(?=.*\\b{}\\b)(?=.*\\b{}\\b).*$\".format(word1,word2)\n",
    "clean_premise(pat,df)"
   ]
  },
  {
   "cell_type": "code",
   "execution_count": 66,
   "metadata": {},
   "outputs": [],
   "source": [
    "change_premise(pat,df,'hospital_parking')"
   ]
  },
  {
   "cell_type": "code",
   "execution_count": 67,
   "metadata": {},
   "outputs": [
    {
     "data": {
      "text/plain": [
       "driveway               1876\n",
       "bar_club               1761\n",
       "supermarket            1475\n",
       "restaurant             1417\n",
       "department_store       1373\n",
       "gas_station            1334\n",
       "bar_club_parking       1262\n",
       "hotel_motel_parking    1235\n",
       "hotel_motel            1199\n",
       "convenience store       918\n",
       "Name: premise, dtype: int64"
      ]
     },
     "execution_count": 67,
     "metadata": {},
     "output_type": "execute_result"
    }
   ],
   "source": [
    "df.premise.value_counts()[10:20]"
   ]
  },
  {
   "cell_type": "code",
   "execution_count": 68,
   "metadata": {},
   "outputs": [
    {
     "data": {
      "text/plain": [
       "convenience store parking lot    571\n",
       "Name: premise, dtype: int64"
      ]
     },
     "execution_count": 68,
     "metadata": {},
     "output_type": "execute_result"
    }
   ],
   "source": [
    "word1 = 'convenience'\n",
    "word2 = 'store'\n",
    "word3 = 'parking'\n",
    "pat = r\"^(?=.*\\b{}\\b)(?=.*\\b{}\\b)(?=.*\\b{}\\b).*$\".format(word1,word2,word3)\n",
    "clean_premise(pat,df)"
   ]
  },
  {
   "cell_type": "code",
   "execution_count": 69,
   "metadata": {},
   "outputs": [],
   "source": [
    "change_premise(pat,df,'convenience_store_parking')"
   ]
  },
  {
   "cell_type": "code",
   "execution_count": 70,
   "metadata": {},
   "outputs": [
    {
     "data": {
      "text/plain": [
       "convenience store    918\n",
       "Name: premise, dtype: int64"
      ]
     },
     "execution_count": 70,
     "metadata": {},
     "output_type": "execute_result"
    }
   ],
   "source": [
    "word1 = 'convenience'\n",
    "word2 = 'store'\n",
    "pat = r\"^(?=.*\\b{}\\b)(?=.*\\b{}\\b).*$\".format(word1,word2)\n",
    "clean_premise(pat,df)"
   ]
  },
  {
   "cell_type": "code",
   "execution_count": 71,
   "metadata": {},
   "outputs": [],
   "source": [
    "change_premise(pat,df,'convenience_store')"
   ]
  },
  {
   "cell_type": "code",
   "execution_count": 72,
   "metadata": {},
   "outputs": [
    {
     "data": {
      "text/plain": [
       "office building                             832\n",
       "other, unknown, or not listed               800\n",
       "commercial building                         796\n",
       "vacant_structure                            739\n",
       "miscellaneous business (non-specific)       702\n",
       "strip business center parking lot           638\n",
       "convenience_store_parking                   571\n",
       "hospital_parking                            552\n",
       "construction site                           544\n",
       "parks and recreation, zoo, swimming pool    539\n",
       "Name: premise, dtype: int64"
      ]
     },
     "execution_count": 72,
     "metadata": {},
     "output_type": "execute_result"
    }
   ],
   "source": [
    "df.premise.value_counts()[20:30]"
   ]
  },
  {
   "cell_type": "code",
   "execution_count": 73,
   "metadata": {},
   "outputs": [
    {
     "data": {
      "text/plain": [
       "office building                     832\n",
       "commercial building                 796\n",
       "government/public building          124\n",
       "government or public building        98\n",
       "maintenance/building services        18\n",
       "maintenance or building services     16\n",
       "Name: premise, dtype: int64"
      ]
     },
     "execution_count": 73,
     "metadata": {},
     "output_type": "execute_result"
    }
   ],
   "source": [
    "word1 = 'building'\n",
    "pat = r\"^(?=.*\\b{}\\b).*$\".format(word1)\n",
    "clean_premise(pat,df)"
   ]
  },
  {
   "cell_type": "code",
   "execution_count": 74,
   "metadata": {},
   "outputs": [],
   "source": [
    "change_premise(pat,df,'building')"
   ]
  },
  {
   "cell_type": "code",
   "execution_count": 75,
   "metadata": {},
   "outputs": [
    {
     "data": {
      "text/plain": [
       "convenience_store                           918\n",
       "other, unknown, or not listed               800\n",
       "vacant_structure                            739\n",
       "miscellaneous business (non-specific)       702\n",
       "strip business center parking lot           638\n",
       "convenience_store_parking                   571\n",
       "hospital_parking                            552\n",
       "construction site                           544\n",
       "parks and recreation, zoo, swimming pool    539\n",
       "parks & recreation, zoo, swim pool          504\n",
       "Name: premise, dtype: int64"
      ]
     },
     "execution_count": 75,
     "metadata": {},
     "output_type": "execute_result"
    }
   ],
   "source": [
    "df.premise.value_counts()[20:30]"
   ]
  },
  {
   "cell_type": "code",
   "execution_count": 76,
   "metadata": {},
   "outputs": [
    {
     "data": {
      "text/plain": [
       "construction site    544\n",
       "Name: premise, dtype: int64"
      ]
     },
     "execution_count": 76,
     "metadata": {},
     "output_type": "execute_result"
    }
   ],
   "source": [
    "word1 = 'construction'\n",
    "word2 = 'site'\n",
    "pat = r\"^(?=.*\\b{}\\b)(?=.*\\b{}\\b).*$\".format(word1,word2)\n",
    "clean_premise(pat,df)"
   ]
  },
  {
   "cell_type": "code",
   "execution_count": 77,
   "metadata": {},
   "outputs": [],
   "source": [
    "change_premise(pat,df,'construction_site')"
   ]
  },
  {
   "cell_type": "code",
   "execution_count": 78,
   "metadata": {},
   "outputs": [
    {
     "data": {
      "text/plain": [
       "convenience_store                           918\n",
       "other, unknown, or not listed               800\n",
       "vacant_structure                            739\n",
       "miscellaneous business (non-specific)       702\n",
       "strip business center parking lot           638\n",
       "convenience_store_parking                   571\n",
       "hospital_parking                            552\n",
       "construction_site                           544\n",
       "parks and recreation, zoo, swimming pool    539\n",
       "parks & recreation, zoo, swim pool          504\n",
       "Name: premise, dtype: int64"
      ]
     },
     "execution_count": 78,
     "metadata": {},
     "output_type": "execute_result"
    }
   ],
   "source": [
    "df.premise.value_counts()[20:30]"
   ]
  },
  {
   "cell_type": "code",
   "execution_count": 79,
   "metadata": {},
   "outputs": [
    {
     "data": {
      "text/plain": [
       "bus stop       432\n",
       "bus station    431\n",
       "Name: premise, dtype: int64"
      ]
     },
     "execution_count": 79,
     "metadata": {},
     "output_type": "execute_result"
    }
   ],
   "source": [
    "word1 = 'bus'\n",
    "pat = r\"^(?=.*\\b{}\\b).*$\".format(word1)\n",
    "clean_premise(pat,df)"
   ]
  },
  {
   "cell_type": "code",
   "execution_count": 80,
   "metadata": {},
   "outputs": [],
   "source": [
    "change_premise(pat,df,'bus_stop_station')"
   ]
  },
  {
   "cell_type": "code",
   "execution_count": 81,
   "metadata": {},
   "outputs": [
    {
     "data": {
      "text/plain": [
       "convenience_store                           918\n",
       "bus_stop_station                            863\n",
       "other, unknown, or not listed               800\n",
       "vacant_structure                            739\n",
       "miscellaneous business (non-specific)       702\n",
       "strip business center parking lot           638\n",
       "convenience_store_parking                   571\n",
       "hospital_parking                            552\n",
       "construction_site                           544\n",
       "parks and recreation, zoo, swimming pool    539\n",
       "Name: premise, dtype: int64"
      ]
     },
     "execution_count": 81,
     "metadata": {},
     "output_type": "execute_result"
    }
   ],
   "source": [
    "df.premise.value_counts()[20:30]"
   ]
  },
  {
   "cell_type": "code",
   "execution_count": 82,
   "metadata": {},
   "outputs": [
    {
     "data": {
      "text/plain": [
       "parks and recreation, zoo, swimming pool    539\n",
       "parks & recreation, zoo, swim pool          504\n",
       "Name: premise, dtype: int64"
      ]
     },
     "execution_count": 82,
     "metadata": {},
     "output_type": "execute_result"
    }
   ],
   "source": [
    "word1 = 'parks'\n",
    "pat = r\"^(?=.*\\b{}\\b).*$\".format(word1)\n",
    "clean_premise(pat,df)"
   ]
  },
  {
   "cell_type": "code",
   "execution_count": 83,
   "metadata": {},
   "outputs": [],
   "source": [
    "change_premise(pat,df,'park_rec_pool')"
   ]
  },
  {
   "cell_type": "code",
   "execution_count": 84,
   "metadata": {},
   "outputs": [
    {
     "data": {
      "text/plain": [
       "park_rec_pool                            1043\n",
       "convenience_store                         918\n",
       "bus_stop_station                          863\n",
       "other, unknown, or not listed             800\n",
       "vacant_structure                          739\n",
       "miscellaneous business (non-specific)     702\n",
       "strip business center parking lot         638\n",
       "convenience_store_parking                 571\n",
       "hospital_parking                          552\n",
       "construction_site                         544\n",
       "Name: premise, dtype: int64"
      ]
     },
     "execution_count": 84,
     "metadata": {},
     "output_type": "execute_result"
    }
   ],
   "source": [
    "df.premise.value_counts()[20:30]"
   ]
  },
  {
   "cell_type": "code",
   "execution_count": 85,
   "metadata": {},
   "outputs": [
    {
     "data": {
      "text/plain": [
       "sexually oriented club                    28\n",
       "sexually oriented business parking lot    24\n",
       "Name: premise, dtype: int64"
      ]
     },
     "execution_count": 85,
     "metadata": {},
     "output_type": "execute_result"
    }
   ],
   "source": [
    "word1 = 'sexually'\n",
    "pat = r\"^(?=.*\\b{}\\b).*$\".format(word1)\n",
    "clean_premise(pat,df)"
   ]
  },
  {
   "cell_type": "code",
   "execution_count": 86,
   "metadata": {},
   "outputs": [],
   "source": [
    "change_premise(pat,df,'sexually_oriented_business')"
   ]
  },
  {
   "cell_type": "code",
   "execution_count": 87,
   "metadata": {},
   "outputs": [
    {
     "data": {
      "text/plain": [
       "strip business center parking lot    638\n",
       "Name: premise, dtype: int64"
      ]
     },
     "execution_count": 87,
     "metadata": {},
     "output_type": "execute_result"
    }
   ],
   "source": [
    "word1 = 'business'\n",
    "word2 = 'parking'\n",
    "pat = r\"^(?=.*\\b{}\\b)(?=.*\\b{}\\b).*$\".format(word1,word2)\n",
    "clean_premise(pat,df)"
   ]
  },
  {
   "cell_type": "code",
   "execution_count": 88,
   "metadata": {},
   "outputs": [],
   "source": [
    "change_premise(pat,df,'business_center_parking')"
   ]
  },
  {
   "cell_type": "code",
   "execution_count": null,
   "metadata": {},
   "outputs": [],
   "source": []
  },
  {
   "cell_type": "code",
   "execution_count": null,
   "metadata": {},
   "outputs": [],
   "source": []
  },
  {
   "cell_type": "code",
   "execution_count": 89,
   "metadata": {},
   "outputs": [
    {
     "data": {
      "text/plain": [
       "miscellaneous business (non-specific)    702\n",
       "misc. business (non-specific)            349\n",
       "Name: premise, dtype: int64"
      ]
     },
     "execution_count": 89,
     "metadata": {},
     "output_type": "execute_result"
    }
   ],
   "source": [
    "word1 = 'business'\n",
    "pat = r\"^(?=.*\\b{}\\b).*$\".format(word1)\n",
    "clean_premise(pat,df)"
   ]
  },
  {
   "cell_type": "code",
   "execution_count": 90,
   "metadata": {},
   "outputs": [],
   "source": [
    "change_premise(pat,df,'business')"
   ]
  },
  {
   "cell_type": "code",
   "execution_count": 91,
   "metadata": {},
   "outputs": [
    {
     "data": {
      "text/plain": [
       "condominium                           480\n",
       "garage or carport                     462\n",
       "supermarket_parking                   438\n",
       "multi-plex hme(duplex,triplex etc)    422\n",
       "specialty store (non-specific)        393\n",
       "stadium, sports arena, race track     365\n",
       "stadium/sprts arena/race track        328\n",
       "garage/carport                        322\n",
       "drug store/medical supply             316\n",
       "clothing store                        290\n",
       "Name: premise, dtype: int64"
      ]
     },
     "execution_count": 91,
     "metadata": {},
     "output_type": "execute_result"
    }
   ],
   "source": [
    "df.premise.value_counts()[30:40]"
   ]
  },
  {
   "cell_type": "code",
   "execution_count": 92,
   "metadata": {},
   "outputs": [
    {
     "data": {
      "text/plain": [
       "stadium, sports arena, race track    365\n",
       "stadium/sprts arena/race track       328\n",
       "Name: premise, dtype: int64"
      ]
     },
     "execution_count": 92,
     "metadata": {},
     "output_type": "execute_result"
    }
   ],
   "source": [
    "word1 = 'stadium'\n",
    "pat = r\"^(?=.*\\b{}\\b).*$\".format(word1)\n",
    "clean_premise(pat,df)"
   ]
  },
  {
   "cell_type": "code",
   "execution_count": 93,
   "metadata": {},
   "outputs": [],
   "source": [
    "change_premise(pat,df,'stadium_arena_track')"
   ]
  },
  {
   "cell_type": "code",
   "execution_count": 94,
   "metadata": {},
   "outputs": [
    {
     "data": {
      "text/plain": [
       "construction_site                            544\n",
       "condominium                                  480\n",
       "garage or carport                            462\n",
       "supermarket_parking                          438\n",
       "multi-plex hme(duplex,triplex etc)           422\n",
       "specialty store (non-specific)               393\n",
       "garage/carport                               322\n",
       "drug store/medical supply                    316\n",
       "clothing store                               290\n",
       "vehicle/auto sales/lease/auto parts store    257\n",
       "Name: premise, dtype: int64"
      ]
     },
     "execution_count": 94,
     "metadata": {},
     "output_type": "execute_result"
    }
   ],
   "source": [
    "df.premise.value_counts()[30:40]"
   ]
  },
  {
   "cell_type": "code",
   "execution_count": 95,
   "metadata": {},
   "outputs": [
    {
     "data": {
      "text/plain": [
       "drug store/medical supply       316\n",
       "drug store or medical supply    165\n",
       "Name: premise, dtype: int64"
      ]
     },
     "execution_count": 95,
     "metadata": {},
     "output_type": "execute_result"
    }
   ],
   "source": [
    "word1 = 'drug'\n",
    "pat = r\"^(?=.*\\b{}\\b).*$\".format(word1)\n",
    "clean_premise(pat,df)"
   ]
  },
  {
   "cell_type": "code",
   "execution_count": 96,
   "metadata": {},
   "outputs": [],
   "source": [
    "change_premise(pat,df,'drug_store')"
   ]
  },
  {
   "cell_type": "code",
   "execution_count": 97,
   "metadata": {},
   "outputs": [
    {
     "data": {
      "text/plain": [
       "construction_site                            544\n",
       "drug_store                                   481\n",
       "condominium                                  480\n",
       "garage or carport                            462\n",
       "supermarket_parking                          438\n",
       "multi-plex hme(duplex,triplex etc)           422\n",
       "specialty store (non-specific)               393\n",
       "garage/carport                               322\n",
       "clothing store                               290\n",
       "vehicle/auto sales/lease/auto parts store    257\n",
       "Name: premise, dtype: int64"
      ]
     },
     "execution_count": 97,
     "metadata": {},
     "output_type": "execute_result"
    }
   ],
   "source": [
    "df.premise.value_counts()[30:40]"
   ]
  },
  {
   "cell_type": "code",
   "execution_count": 98,
   "metadata": {},
   "outputs": [
    {
     "data": {
      "text/plain": [
       "liquor store                70\n",
       "liquor store parking lot    26\n",
       "Name: premise, dtype: int64"
      ]
     },
     "execution_count": 98,
     "metadata": {},
     "output_type": "execute_result"
    }
   ],
   "source": [
    "word1 = 'liquor'\n",
    "pat = r\"^(?=.*\\b{}\\b).*$\".format(word1)\n",
    "clean_premise(pat,df)"
   ]
  },
  {
   "cell_type": "code",
   "execution_count": 99,
   "metadata": {},
   "outputs": [],
   "source": [
    "change_premise(pat,df,'liquor_store')"
   ]
  },
  {
   "cell_type": "code",
   "execution_count": 100,
   "metadata": {},
   "outputs": [
    {
     "data": {
      "text/plain": [
       "construction_site                            544\n",
       "drug_store                                   481\n",
       "condominium                                  480\n",
       "garage or carport                            462\n",
       "supermarket_parking                          438\n",
       "multi-plex hme(duplex,triplex etc)           422\n",
       "specialty store (non-specific)               393\n",
       "garage/carport                               322\n",
       "clothing store                               290\n",
       "vehicle/auto sales/lease/auto parts store    257\n",
       "Name: premise, dtype: int64"
      ]
     },
     "execution_count": 100,
     "metadata": {},
     "output_type": "execute_result"
    }
   ],
   "source": [
    "df.premise.value_counts()[30:40]"
   ]
  },
  {
   "cell_type": "code",
   "execution_count": 101,
   "metadata": {},
   "outputs": [
    {
     "data": {
      "text/plain": [
       "auto repair    116\n",
       "Name: premise, dtype: int64"
      ]
     },
     "execution_count": 101,
     "metadata": {},
     "output_type": "execute_result"
    }
   ],
   "source": [
    "word1 = 'auto'\n",
    "word2 = 'repair'\n",
    "pat = r\"^(?=.*\\b{}\\b)(?=.*\\b{}\\b).*$\".format(word1,word2)\n",
    "clean_premise(pat,df)"
   ]
  },
  {
   "cell_type": "code",
   "execution_count": 102,
   "metadata": {},
   "outputs": [],
   "source": [
    "change_premise(pat,df,'auto_repair')"
   ]
  },
  {
   "cell_type": "code",
   "execution_count": 103,
   "metadata": {},
   "outputs": [
    {
     "data": {
      "text/plain": [
       "vehicle/auto sales/lease/auto parts store    257\n",
       "Name: premise, dtype: int64"
      ]
     },
     "execution_count": 103,
     "metadata": {},
     "output_type": "execute_result"
    }
   ],
   "source": [
    "word1 = 'auto'\n",
    "pat = r\"^(?=.*\\b{}\\b).*$\".format(word1)\n",
    "clean_premise(pat,df)"
   ]
  },
  {
   "cell_type": "code",
   "execution_count": 104,
   "metadata": {},
   "outputs": [],
   "source": [
    "change_premise(pat,df,'auto_sale_parts_store')"
   ]
  },
  {
   "cell_type": "code",
   "execution_count": 105,
   "metadata": {},
   "outputs": [
    {
     "data": {
      "text/plain": [
       "construction_site                     544\n",
       "drug_store                            481\n",
       "condominium                           480\n",
       "garage or carport                     462\n",
       "supermarket_parking                   438\n",
       "multi-plex hme(duplex,triplex etc)    422\n",
       "specialty store (non-specific)        393\n",
       "garage/carport                        322\n",
       "clothing store                        290\n",
       "auto_sale_parts_store                 257\n",
       "Name: premise, dtype: int64"
      ]
     },
     "execution_count": 105,
     "metadata": {},
     "output_type": "execute_result"
    }
   ],
   "source": [
    "df.premise.value_counts()[30:40]"
   ]
  },
  {
   "cell_type": "code",
   "execution_count": 106,
   "metadata": {},
   "outputs": [
    {
     "data": {
      "text/plain": [
       "high school                      142\n",
       "elementary school                 50\n",
       "private school                    36\n",
       "middle school                     23\n",
       "commercial or training school     20\n",
       "Name: premise, dtype: int64"
      ]
     },
     "execution_count": 106,
     "metadata": {},
     "output_type": "execute_result"
    }
   ],
   "source": [
    "word1 = 'school'\n",
    "pat = r\"^(?=.*\\b{}\\b).*$\".format(word1)\n",
    "clean_premise(pat,df)"
   ]
  },
  {
   "cell_type": "code",
   "execution_count": 107,
   "metadata": {},
   "outputs": [],
   "source": [
    "change_premise(pat,df,'school')"
   ]
  },
  {
   "cell_type": "code",
   "execution_count": 108,
   "metadata": {},
   "outputs": [
    {
     "data": {
      "text/plain": [
       "libraries, museums    218\n",
       "Name: premise, dtype: int64"
      ]
     },
     "execution_count": 108,
     "metadata": {},
     "output_type": "execute_result"
    }
   ],
   "source": [
    "word1 = 'libraries'\n",
    "pat = r\"^(?=.*\\b{}\\b).*$\".format(word1)\n",
    "clean_premise(pat,df)"
   ]
  },
  {
   "cell_type": "code",
   "execution_count": 109,
   "metadata": {},
   "outputs": [],
   "source": [
    "change_premise(pat,df,'libraries_museums')"
   ]
  },
  {
   "cell_type": "code",
   "execution_count": 110,
   "metadata": {},
   "outputs": [
    {
     "data": {
      "text/plain": [
       "auto_sale_parts_store                         257\n",
       "libraries_museums                             218\n",
       "church/synagogue/temple                       198\n",
       "rental storage facility                       180\n",
       "warehouse                                     172\n",
       "gym,recreat,club hse,indr pool,spa            164\n",
       "university/college                            146\n",
       "gym, recreat, club house, indoor pool, spa    140\n",
       "convention center or exhibit halls            136\n",
       "convention center/exhibit halls               136\n",
       "Name: premise, dtype: int64"
      ]
     },
     "execution_count": 110,
     "metadata": {},
     "output_type": "execute_result"
    }
   ],
   "source": [
    "df.premise.value_counts()[40:50]"
   ]
  },
  {
   "cell_type": "code",
   "execution_count": 111,
   "metadata": {},
   "outputs": [
    {
     "data": {
      "text/plain": [
       "church/synagogue/temple parking lot         130\n",
       "church, synagogue, or temple parking lot    106\n",
       "Name: premise, dtype: int64"
      ]
     },
     "execution_count": 111,
     "metadata": {},
     "output_type": "execute_result"
    }
   ],
   "source": [
    "word1 = 'church'\n",
    "word2 = 'parking'\n",
    "pat = r\"^(?=.*\\b{}\\b)(?=.*\\b{}\\b).*$\".format(word1,word2)\n",
    "clean_premise(pat,df)"
   ]
  },
  {
   "cell_type": "code",
   "execution_count": 112,
   "metadata": {},
   "outputs": [],
   "source": [
    "change_premise(pat,df,'church_temple_parking')"
   ]
  },
  {
   "cell_type": "code",
   "execution_count": 113,
   "metadata": {},
   "outputs": [
    {
     "data": {
      "text/plain": [
       "church/synagogue/temple         198\n",
       "church, synagogue, or temple     87\n",
       "Name: premise, dtype: int64"
      ]
     },
     "execution_count": 113,
     "metadata": {},
     "output_type": "execute_result"
    }
   ],
   "source": [
    "word1 = 'church'\n",
    "pat = r\"^(?=.*\\b{}\\b).*$\".format(word1)\n",
    "clean_premise(pat,df)"
   ]
  },
  {
   "cell_type": "code",
   "execution_count": 114,
   "metadata": {},
   "outputs": [],
   "source": [
    "change_premise(pat,df,'church_temple')"
   ]
  },
  {
   "cell_type": "code",
   "execution_count": 115,
   "metadata": {},
   "outputs": [
    {
     "data": {
      "text/plain": [
       "school                                        271\n",
       "auto_sale_parts_store                         257\n",
       "church_temple_parking                         236\n",
       "libraries_museums                             218\n",
       "rental storage facility                       180\n",
       "warehouse                                     172\n",
       "gym,recreat,club hse,indr pool,spa            164\n",
       "university/college                            146\n",
       "gym, recreat, club house, indoor pool, spa    140\n",
       "convention center or exhibit halls            136\n",
       "Name: premise, dtype: int64"
      ]
     },
     "execution_count": 115,
     "metadata": {},
     "output_type": "execute_result"
    }
   ],
   "source": [
    "df.premise.value_counts()[40:50]"
   ]
  },
  {
   "cell_type": "code",
   "execution_count": 116,
   "metadata": {},
   "outputs": [
    {
     "data": {
      "text/plain": [
       "gym,recreat,club hse,indr pool,spa            164\n",
       "gym, recreat, club house, indoor pool, spa    140\n",
       "gym, recreat, club house, indoor pool          47\n",
       "Name: premise, dtype: int64"
      ]
     },
     "execution_count": 116,
     "metadata": {},
     "output_type": "execute_result"
    }
   ],
   "source": [
    "word1 = 'gym'\n",
    "pat = r\"^(?=.*\\b{}\\b).*$\".format(word1)\n",
    "clean_premise(pat,df)"
   ]
  },
  {
   "cell_type": "code",
   "execution_count": 117,
   "metadata": {},
   "outputs": [],
   "source": [
    "change_premise(pat,df,'gym_club_house')"
   ]
  },
  {
   "cell_type": "code",
   "execution_count": 118,
   "metadata": {},
   "outputs": [
    {
     "data": {
      "text/plain": [
       "church_temple                         285\n",
       "school                                271\n",
       "auto_sale_parts_store                 257\n",
       "church_temple_parking                 236\n",
       "libraries_museums                     218\n",
       "rental storage facility               180\n",
       "warehouse                             172\n",
       "university/college                    146\n",
       "convention center/exhibit halls       136\n",
       "convention center or exhibit halls    136\n",
       "Name: premise, dtype: int64"
      ]
     },
     "execution_count": 118,
     "metadata": {},
     "output_type": "execute_result"
    }
   ],
   "source": [
    "df.premise.value_counts()[40:50]"
   ]
  },
  {
   "cell_type": "code",
   "execution_count": 119,
   "metadata": {},
   "outputs": [
    {
     "data": {
      "text/plain": [
       "rental storage facility    180\n",
       "Name: premise, dtype: int64"
      ]
     },
     "execution_count": 119,
     "metadata": {},
     "output_type": "execute_result"
    }
   ],
   "source": [
    "word1 = 'storage'\n",
    "pat = r\"^(?=.*\\b{}\\b).*$\".format(word1)\n",
    "clean_premise(pat,df)"
   ]
  },
  {
   "cell_type": "code",
   "execution_count": 120,
   "metadata": {},
   "outputs": [],
   "source": [
    "change_premise(pat,df,'storage_facility')"
   ]
  },
  {
   "cell_type": "code",
   "execution_count": 121,
   "metadata": {},
   "outputs": [
    {
     "data": {
      "text/plain": [
       "church_temple                         285\n",
       "school                                271\n",
       "auto_sale_parts_store                 257\n",
       "church_temple_parking                 236\n",
       "libraries_museums                     218\n",
       "storage_facility                      180\n",
       "warehouse                             172\n",
       "university/college                    146\n",
       "convention center/exhibit halls       136\n",
       "convention center or exhibit halls    136\n",
       "Name: premise, dtype: int64"
      ]
     },
     "execution_count": 121,
     "metadata": {},
     "output_type": "execute_result"
    }
   ],
   "source": [
    "df.premise.value_counts()[40:50]"
   ]
  },
  {
   "cell_type": "code",
   "execution_count": 122,
   "metadata": {},
   "outputs": [
    {
     "data": {
      "text/plain": [
       "convention center or exhibit halls    136\n",
       "convention center/exhibit halls       136\n",
       "Name: premise, dtype: int64"
      ]
     },
     "execution_count": 122,
     "metadata": {},
     "output_type": "execute_result"
    }
   ],
   "source": [
    "word1 = 'convention'\n",
    "pat = r\"^(?=.*\\b{}\\b).*$\".format(word1)\n",
    "clean_premise(pat,df)"
   ]
  },
  {
   "cell_type": "code",
   "execution_count": 123,
   "metadata": {},
   "outputs": [],
   "source": [
    "change_premise(pat,df,'convention_center')"
   ]
  },
  {
   "cell_type": "code",
   "execution_count": 124,
   "metadata": {},
   "outputs": [
    {
     "data": {
      "text/plain": [
       "light rail (metro rail) vehicle          117\n",
       "auto_repair                              116\n",
       "multi-plex home (duplex,triplex etc.)    114\n",
       "bank                                     114\n",
       "highway/freeway                          112\n",
       "physician's office                       107\n",
       "barber and beauty shops                  101\n",
       "liquor_store                              96\n",
       "field, woods, forest, park                90\n",
       "park and ride terminal                    83\n",
       "Name: premise, dtype: int64"
      ]
     },
     "execution_count": 124,
     "metadata": {},
     "output_type": "execute_result"
    }
   ],
   "source": [
    "df.premise.value_counts()[50:60]"
   ]
  },
  {
   "cell_type": "code",
   "execution_count": 125,
   "metadata": {},
   "outputs": [
    {
     "data": {
      "text/plain": [
       "bank/saving institution parking lot        77\n",
       "bank or savings institution parking lot    44\n",
       "Name: premise, dtype: int64"
      ]
     },
     "execution_count": 125,
     "metadata": {},
     "output_type": "execute_result"
    }
   ],
   "source": [
    "word1 = 'bank'\n",
    "word2 = 'parking'\n",
    "pat = r\"^(?=.*\\b{}\\b)(?=.*\\b{}\\b).*$\".format(word1,word2)\n",
    "clean_premise(pat,df)"
   ]
  },
  {
   "cell_type": "code",
   "execution_count": 126,
   "metadata": {},
   "outputs": [],
   "source": [
    "change_premise(pat,df,'bank_parking')"
   ]
  },
  {
   "cell_type": "code",
   "execution_count": 127,
   "metadata": {},
   "outputs": [
    {
     "data": {
      "text/plain": [
       "bank    114\n",
       "Name: premise, dtype: int64"
      ]
     },
     "execution_count": 127,
     "metadata": {},
     "output_type": "execute_result"
    }
   ],
   "source": [
    "word1 = 'bank'\n",
    "pat = r\"^(?=.*\\b{}\\b).*$\".format(word1)\n",
    "clean_premise(pat,df)"
   ]
  },
  {
   "cell_type": "code",
   "execution_count": 128,
   "metadata": {},
   "outputs": [],
   "source": [
    "change_premise(pat,df,'bank')"
   ]
  },
  {
   "cell_type": "code",
   "execution_count": 129,
   "metadata": {},
   "outputs": [
    {
     "data": {
      "text/plain": [
       "bank_parking                             121\n",
       "light rail (metro rail) vehicle          117\n",
       "auto_repair                              116\n",
       "multi-plex home (duplex,triplex etc.)    114\n",
       "bank                                     114\n",
       "highway/freeway                          112\n",
       "physician's office                       107\n",
       "barber and beauty shops                  101\n",
       "liquor_store                              96\n",
       "field, woods, forest, park                90\n",
       "Name: premise, dtype: int64"
      ]
     },
     "execution_count": 129,
     "metadata": {},
     "output_type": "execute_result"
    }
   ],
   "source": [
    "df.premise.value_counts()[50:60]"
   ]
  },
  {
   "cell_type": "code",
   "execution_count": 130,
   "metadata": {},
   "outputs": [
    {
     "data": {
      "text/plain": [
       "light rail (metro rail) vehicle    117\n",
       "light rail vehicle                   6\n",
       "Name: premise, dtype: int64"
      ]
     },
     "execution_count": 130,
     "metadata": {},
     "output_type": "execute_result"
    }
   ],
   "source": [
    "word1 = 'rail'\n",
    "word2 = 'vehicle'\n",
    "pat = r\"^(?=.*\\b{}\\b)(?=.*\\b{}\\b).*$\".format(word1,word2)\n",
    "clean_premise(pat,df)"
   ]
  },
  {
   "cell_type": "code",
   "execution_count": 131,
   "metadata": {},
   "outputs": [],
   "source": [
    "change_premise(pat,df,'rail_vehicle')"
   ]
  },
  {
   "cell_type": "code",
   "execution_count": 132,
   "metadata": {},
   "outputs": [
    {
     "data": {
      "text/plain": [
       "light rail platform    129\n",
       "Name: premise, dtype: int64"
      ]
     },
     "execution_count": 132,
     "metadata": {},
     "output_type": "execute_result"
    }
   ],
   "source": [
    "word1 = 'rail'\n",
    "pat = r\"^(?=.*\\b{}\\b).*$\".format(word1)\n",
    "clean_premise(pat,df)"
   ]
  },
  {
   "cell_type": "code",
   "execution_count": 133,
   "metadata": {},
   "outputs": [],
   "source": [
    "change_premise(pat,df,'rail_platform')"
   ]
  },
  {
   "cell_type": "code",
   "execution_count": 134,
   "metadata": {},
   "outputs": [
    {
     "data": {
      "text/plain": [
       "rail_vehicle                             123\n",
       "bank_parking                             121\n",
       "auto_repair                              116\n",
       "bank                                     114\n",
       "multi-plex home (duplex,triplex etc.)    114\n",
       "highway/freeway                          112\n",
       "physician's office                       107\n",
       "barber and beauty shops                  101\n",
       "liquor_store                              96\n",
       "field, woods, forest, park                90\n",
       "Name: premise, dtype: int64"
      ]
     },
     "execution_count": 134,
     "metadata": {},
     "output_type": "execute_result"
    }
   ],
   "source": [
    "df.premise.value_counts()[50:60]"
   ]
  },
  {
   "cell_type": "code",
   "execution_count": 135,
   "metadata": {},
   "outputs": [
    {
     "data": {
      "text/plain": [
       "other/unknown                    1967\n",
       "other, unknown, or not listed     800\n",
       "Name: premise, dtype: int64"
      ]
     },
     "execution_count": 135,
     "metadata": {},
     "output_type": "execute_result"
    }
   ],
   "source": [
    "word1 = 'unknown'\n",
    "pat = r\"^(?=.*\\b{}\\b).*$\".format(word1)\n",
    "clean_premise(pat,df)"
   ]
  },
  {
   "cell_type": "code",
   "execution_count": 136,
   "metadata": {},
   "outputs": [],
   "source": [
    "change_premise(pat,df,'unknown')"
   ]
  },
  {
   "cell_type": "code",
   "execution_count": 137,
   "metadata": {},
   "outputs": [
    {
     "data": {
      "text/plain": [
       "unk    3598\n",
       "Name: premise, dtype: int64"
      ]
     },
     "execution_count": 137,
     "metadata": {},
     "output_type": "execute_result"
    }
   ],
   "source": [
    "word1 = 'unk'\n",
    "pat = r\"^(?=.*\\b{}\\b).*$\".format(word1)\n",
    "clean_premise(pat,df)"
   ]
  },
  {
   "cell_type": "code",
   "execution_count": 138,
   "metadata": {},
   "outputs": [],
   "source": [
    "change_premise(pat,df,'unknown')"
   ]
  },
  {
   "cell_type": "code",
   "execution_count": 139,
   "metadata": {},
   "outputs": [
    {
     "data": {
      "text/plain": [
       "auto_repair                              116\n",
       "multi-plex home (duplex,triplex etc.)    114\n",
       "bank                                     114\n",
       "highway/freeway                          112\n",
       "physician's office                       107\n",
       "barber and beauty shops                  101\n",
       "liquor_store                              96\n",
       "field, woods, forest, park                90\n",
       "park and ride terminal                    83\n",
       "physician, doctor, dentist's office       80\n",
       "Name: premise, dtype: int64"
      ]
     },
     "execution_count": 139,
     "metadata": {},
     "output_type": "execute_result"
    }
   ],
   "source": [
    "df.premise.value_counts()[50:60]"
   ]
  },
  {
   "cell_type": "code",
   "execution_count": 140,
   "metadata": {},
   "outputs": [
    {
     "data": {
      "text/plain": [
       "other parking lot                      4950\n",
       "mall parking lot                         48\n",
       "laundry or dry cleaners parking lot      17\n",
       "laundry/dry cleaners parking lot         10\n",
       "Name: premise, dtype: int64"
      ]
     },
     "execution_count": 140,
     "metadata": {},
     "output_type": "execute_result"
    }
   ],
   "source": [
    "word1 = 'parking'\n",
    "pat = r\"^(?=.*\\b{}\\b).*$\".format(word1)\n",
    "clean_premise(pat,df)"
   ]
  },
  {
   "cell_type": "code",
   "execution_count": 141,
   "metadata": {},
   "outputs": [],
   "source": [
    "change_premise(pat,df,'other_parking')"
   ]
  },
  {
   "cell_type": "code",
   "execution_count": 142,
   "metadata": {},
   "outputs": [
    {
     "data": {
      "text/plain": [
       "auto_repair                              116\n",
       "bank                                     114\n",
       "multi-plex home (duplex,triplex etc.)    114\n",
       "highway/freeway                          112\n",
       "physician's office                       107\n",
       "barber and beauty shops                  101\n",
       "liquor_store                              96\n",
       "field, woods, forest, park                90\n",
       "park and ride terminal                    83\n",
       "physician, doctor, dentist's office       80\n",
       "Name: premise, dtype: int64"
      ]
     },
     "execution_count": 142,
     "metadata": {},
     "output_type": "execute_result"
    }
   ],
   "source": [
    "df.premise.value_counts()[50:60]"
   ]
  },
  {
   "cell_type": "code",
   "execution_count": 143,
   "metadata": {},
   "outputs": [
    {
     "data": {
      "text/plain": [
       "garage or carport    462\n",
       "garage/carport       322\n",
       "Name: premise, dtype: int64"
      ]
     },
     "execution_count": 143,
     "metadata": {},
     "output_type": "execute_result"
    }
   ],
   "source": [
    "word1 = 'garage'\n",
    "pat = r\"^(?=.*\\b{}\\b).*$\".format(word1)\n",
    "clean_premise(pat,df)"
   ]
  },
  {
   "cell_type": "code",
   "execution_count": 144,
   "metadata": {},
   "outputs": [],
   "source": [
    "change_premise(pat,df,'garage_carport')"
   ]
  },
  {
   "cell_type": "code",
   "execution_count": 145,
   "metadata": {},
   "outputs": [
    {
     "data": {
      "text/plain": [
       "bank                                     114\n",
       "multi-plex home (duplex,triplex etc.)    114\n",
       "highway/freeway                          112\n",
       "physician's office                       107\n",
       "barber and beauty shops                  101\n",
       "liquor_store                              96\n",
       "field, woods, forest, park                90\n",
       "park and ride terminal                    83\n",
       "physician, doctor, dentist's office       80\n",
       "field/woods                               77\n",
       "Name: premise, dtype: int64"
      ]
     },
     "execution_count": 145,
     "metadata": {},
     "output_type": "execute_result"
    }
   ],
   "source": [
    "df.premise.value_counts()[50:60]"
   ]
  },
  {
   "cell_type": "code",
   "execution_count": 146,
   "metadata": {},
   "outputs": [
    {
     "data": {
      "text/plain": [
       "condominium    480\n",
       "Name: premise, dtype: int64"
      ]
     },
     "execution_count": 146,
     "metadata": {},
     "output_type": "execute_result"
    }
   ],
   "source": [
    "word1 = 'condominium'\n",
    "pat = r\"^(?=.*\\b{}\\b).*$\".format(word1)\n",
    "clean_premise(pat,df)"
   ]
  },
  {
   "cell_type": "code",
   "execution_count": 147,
   "metadata": {},
   "outputs": [],
   "source": [
    "change_premise(pat,df,'apartment')"
   ]
  },
  {
   "cell_type": "code",
   "execution_count": 148,
   "metadata": {},
   "outputs": [
    {
     "data": {
      "text/plain": [
       "bank                                   114\n",
       "highway/freeway                        112\n",
       "physician's office                     107\n",
       "barber and beauty shops                101\n",
       "liquor_store                            96\n",
       "field, woods, forest, park              90\n",
       "park and ride terminal                  83\n",
       "physician, doctor, dentist's office     80\n",
       "field/woods                             77\n",
       "police station                          76\n",
       "Name: premise, dtype: int64"
      ]
     },
     "execution_count": 148,
     "metadata": {},
     "output_type": "execute_result"
    }
   ],
   "source": [
    "df.premise.value_counts()[50:60]"
   ]
  },
  {
   "cell_type": "code",
   "execution_count": 149,
   "metadata": {},
   "outputs": [
    {
     "data": {
      "text/plain": [
       "adult book store/newsstand       1\n",
       "adult book store or newsstand    1\n",
       "Name: premise, dtype: int64"
      ]
     },
     "execution_count": 149,
     "metadata": {},
     "output_type": "execute_result"
    }
   ],
   "source": [
    "word1 = 'adult'\n",
    "word2 = 'store'\n",
    "pat = r\"^(?=.*\\b{}\\b)(?=.*\\b{}\\b).*$\".format(word1,word2)\n",
    "clean_premise(pat,df)"
   ]
  },
  {
   "cell_type": "code",
   "execution_count": 150,
   "metadata": {},
   "outputs": [],
   "source": [
    "change_premise(pat,df,'sexually_oriented_business')"
   ]
  },
  {
   "cell_type": "code",
   "execution_count": 151,
   "metadata": {},
   "outputs": [
    {
     "data": {
      "text/plain": [
       "specialty store (non-specific)    393\n",
       "Name: premise, dtype: int64"
      ]
     },
     "execution_count": 151,
     "metadata": {},
     "output_type": "execute_result"
    }
   ],
   "source": [
    "word1 = 'specialty'\n",
    "word2 = 'store'\n",
    "pat = r\"^(?=.*\\b{}\\b)(?=.*\\b{}\\b).*$\".format(word1,word2)\n",
    "clean_premise(pat,df)"
   ]
  },
  {
   "cell_type": "code",
   "execution_count": 152,
   "metadata": {},
   "outputs": [],
   "source": [
    "change_premise(pat,df,'specialty_store')"
   ]
  },
  {
   "cell_type": "code",
   "execution_count": 153,
   "metadata": {},
   "outputs": [
    {
     "data": {
      "text/plain": [
       "clothing store    290\n",
       "Name: premise, dtype: int64"
      ]
     },
     "execution_count": 153,
     "metadata": {},
     "output_type": "execute_result"
    }
   ],
   "source": [
    "word1 = 'clothing'\n",
    "word2 = 'store'\n",
    "pat = r\"^(?=.*\\b{}\\b)(?=.*\\b{}\\b).*$\".format(word1,word2)\n",
    "clean_premise(pat,df)"
   ]
  },
  {
   "cell_type": "code",
   "execution_count": 154,
   "metadata": {},
   "outputs": [],
   "source": [
    "change_premise(pat,df,'clothing_store')"
   ]
  },
  {
   "cell_type": "code",
   "execution_count": null,
   "metadata": {},
   "outputs": [],
   "source": []
  },
  {
   "cell_type": "code",
   "execution_count": 155,
   "metadata": {},
   "outputs": [
    {
     "data": {
      "text/plain": [
       "electronics store, electrical sup.        55\n",
       "electronics store, electrical supplies    33\n",
       "Name: premise, dtype: int64"
      ]
     },
     "execution_count": 155,
     "metadata": {},
     "output_type": "execute_result"
    }
   ],
   "source": [
    "word1 = 'electronics'\n",
    "word2 = 'store'\n",
    "pat = r\"^(?=.*\\b{}\\b)(?=.*\\b{}\\b).*$\".format(word1,word2)\n",
    "clean_premise(pat,df)"
   ]
  },
  {
   "cell_type": "code",
   "execution_count": 156,
   "metadata": {},
   "outputs": [],
   "source": [
    "change_premise(pat,df,'electronic_store')"
   ]
  },
  {
   "cell_type": "code",
   "execution_count": 157,
   "metadata": {},
   "outputs": [
    {
     "data": {
      "text/plain": [
       "furniture, appliances, radios, tv store    5\n",
       "Name: premise, dtype: int64"
      ]
     },
     "execution_count": 157,
     "metadata": {},
     "output_type": "execute_result"
    }
   ],
   "source": [
    "word1 = 'store'\n",
    "pat = r\"^(?=.*\\b{}\\b).*$\".format(word1)\n",
    "clean_premise(pat,df)"
   ]
  },
  {
   "cell_type": "code",
   "execution_count": 158,
   "metadata": {},
   "outputs": [],
   "source": [
    "change_premise(pat,df,'electronic_store')"
   ]
  },
  {
   "cell_type": "code",
   "execution_count": 159,
   "metadata": {},
   "outputs": [
    {
     "data": {
      "text/plain": [
       "multi-plex home (duplex,triplex etc.)    114\n",
       "highway/freeway                          112\n",
       "physician's office                       107\n",
       "barber and beauty shops                  101\n",
       "liquor_store                              96\n",
       "electronic_store                          93\n",
       "field, woods, forest, park                90\n",
       "park and ride terminal                    83\n",
       "physician, doctor, dentist's office       80\n",
       "field/woods                               77\n",
       "Name: premise, dtype: int64"
      ]
     },
     "execution_count": 159,
     "metadata": {},
     "output_type": "execute_result"
    }
   ],
   "source": [
    "df.premise.value_counts()[50:60]"
   ]
  },
  {
   "cell_type": "code",
   "execution_count": 160,
   "metadata": {},
   "outputs": [
    {
     "data": {
      "text/plain": [
       "multi-plex hme(duplex,triplex etc)       422\n",
       "multi-plex home (duplex,triplex etc.)    114\n",
       "Name: premise, dtype: int64"
      ]
     },
     "execution_count": 160,
     "metadata": {},
     "output_type": "execute_result"
    }
   ],
   "source": [
    "word1 = 'plex'\n",
    "pat = r\"^(?=.*\\b{}\\b).*$\".format(word1)\n",
    "clean_premise(pat,df)"
   ]
  },
  {
   "cell_type": "code",
   "execution_count": 161,
   "metadata": {},
   "outputs": [],
   "source": [
    "change_premise(pat,df,'multiplex_home')"
   ]
  },
  {
   "cell_type": "code",
   "execution_count": 162,
   "metadata": {},
   "outputs": [
    {
     "data": {
      "text/plain": [
       "highway/freeway                        112\n",
       "physician's office                     107\n",
       "barber and beauty shops                101\n",
       "liquor_store                            96\n",
       "electronic_store                        93\n",
       "field, woods, forest, park              90\n",
       "park and ride terminal                  83\n",
       "physician, doctor, dentist's office     80\n",
       "field/woods                             77\n",
       "university or college                   76\n",
       "Name: premise, dtype: int64"
      ]
     },
     "execution_count": 162,
     "metadata": {},
     "output_type": "execute_result"
    }
   ],
   "source": [
    "df.premise.value_counts()[50:60]"
   ]
  },
  {
   "cell_type": "code",
   "execution_count": 163,
   "metadata": {},
   "outputs": [],
   "source": [
    "# word1 = 'vacant'\n",
    "# pat = r\"^(?=.*\\b{}\\b).*$\".format(word1)\n",
    "# clean_premise(pat,df)"
   ]
  },
  {
   "cell_type": "code",
   "execution_count": null,
   "metadata": {},
   "outputs": [],
   "source": []
  },
  {
   "cell_type": "code",
   "execution_count": 164,
   "metadata": {},
   "outputs": [
    {
     "data": {
      "text/plain": [
       "highway/freeway                        112\n",
       "physician's office                     107\n",
       "barber and beauty shops                101\n",
       "liquor_store                            96\n",
       "electronic_store                        93\n",
       "field, woods, forest, park              90\n",
       "park and ride terminal                  83\n",
       "physician, doctor, dentist's office     80\n",
       "field/woods                             77\n",
       "university or college                   76\n",
       "Name: premise, dtype: int64"
      ]
     },
     "execution_count": 164,
     "metadata": {},
     "output_type": "execute_result"
    }
   ],
   "source": [
    "df.premise.value_counts()[50:60]"
   ]
  },
  {
   "cell_type": "code",
   "execution_count": 165,
   "metadata": {},
   "outputs": [
    {
     "data": {
      "text/plain": [
       "warehouse    172\n",
       "Name: premise, dtype: int64"
      ]
     },
     "execution_count": 165,
     "metadata": {},
     "output_type": "execute_result"
    }
   ],
   "source": [
    "word1 = 'warehouse'\n",
    "pat = r\"^(?=.*\\b{}\\b).*$\".format(word1)\n",
    "clean_premise(pat,df)"
   ]
  },
  {
   "cell_type": "code",
   "execution_count": 166,
   "metadata": {},
   "outputs": [],
   "source": [
    "change_premise(pat,df,'warehouse')"
   ]
  },
  {
   "cell_type": "code",
   "execution_count": 167,
   "metadata": {},
   "outputs": [
    {
     "data": {
      "text/plain": [
       "university/college       146\n",
       "university or college     76\n",
       "Name: premise, dtype: int64"
      ]
     },
     "execution_count": 167,
     "metadata": {},
     "output_type": "execute_result"
    }
   ],
   "source": [
    "word1 = 'college'\n",
    "pat = r\"^(?=.*\\b{}\\b).*$\".format(word1)\n",
    "clean_premise(pat,df)"
   ]
  },
  {
   "cell_type": "code",
   "execution_count": 168,
   "metadata": {},
   "outputs": [],
   "source": [
    "change_premise(pat,df,'college')"
   ]
  },
  {
   "cell_type": "code",
   "execution_count": 169,
   "metadata": {},
   "outputs": [
    {
     "data": {
      "text/plain": [
       "highway/freeway       112\n",
       "highway or freeway     59\n",
       "Name: premise, dtype: int64"
      ]
     },
     "execution_count": 169,
     "metadata": {},
     "output_type": "execute_result"
    }
   ],
   "source": [
    "word1 = 'highway'\n",
    "pat = r\"^(?=.*\\b{}\\b).*$\".format(word1)\n",
    "clean_premise(pat,df)"
   ]
  },
  {
   "cell_type": "code",
   "execution_count": 170,
   "metadata": {},
   "outputs": [],
   "source": [
    "change_premise(pat,df,'highway_freeway')"
   ]
  },
  {
   "cell_type": "code",
   "execution_count": 171,
   "metadata": {},
   "outputs": [
    {
     "data": {
      "text/plain": [
       "apartment/rental office    64\n",
       "apartment rental office    63\n",
       "Name: premise, dtype: int64"
      ]
     },
     "execution_count": 171,
     "metadata": {},
     "output_type": "execute_result"
    }
   ],
   "source": [
    "word1 = 'rental'\n",
    "word2 = 'office'\n",
    "pat = r\"^(?=.*\\b{}\\b)(?=.*\\b{}\\b).*$\".format(word1,word2)\n",
    "clean_premise(pat,df)"
   ]
  },
  {
   "cell_type": "code",
   "execution_count": 172,
   "metadata": {},
   "outputs": [],
   "source": [
    "change_premise(pat,df,'rental_office')"
   ]
  },
  {
   "cell_type": "code",
   "execution_count": 173,
   "metadata": {},
   "outputs": [
    {
     "data": {
      "text/plain": [
       "physician, doctor, dentist's office    80\n",
       "Name: premise, dtype: int64"
      ]
     },
     "execution_count": 173,
     "metadata": {},
     "output_type": "execute_result"
    }
   ],
   "source": [
    "word1 = 'doctor'\n",
    "pat = r\"^(?=.*\\b{}\\b).*$\".format(word1)\n",
    "clean_premise(pat,df)"
   ]
  },
  {
   "cell_type": "code",
   "execution_count": 174,
   "metadata": {},
   "outputs": [],
   "source": [
    "change_premise(pat,df,'doctor_office')"
   ]
  },
  {
   "cell_type": "code",
   "execution_count": 175,
   "metadata": {},
   "outputs": [
    {
     "data": {
      "text/plain": [
       "physician's office                           107\n",
       "book,record,stationary,office sup.            13\n",
       "book, record, stationary, office supplies      3\n",
       "Name: premise, dtype: int64"
      ]
     },
     "execution_count": 175,
     "metadata": {},
     "output_type": "execute_result"
    }
   ],
   "source": [
    "word1 = 'office'\n",
    "pat = r\"^(?=.*\\b{}\\b).*$\".format(word1)\n",
    "clean_premise(pat,df)"
   ]
  },
  {
   "cell_type": "code",
   "execution_count": 176,
   "metadata": {},
   "outputs": [
    {
     "data": {
      "text/plain": [
       "book,record,stationary,office sup.           13\n",
       "book, record, stationary, office supplies     3\n",
       "Name: premise, dtype: int64"
      ]
     },
     "execution_count": 176,
     "metadata": {},
     "output_type": "execute_result"
    }
   ],
   "source": [
    "word1 = 'book'\n",
    "word2 = 'office'\n",
    "pat = r\"^(?=.*\\b{}\\b)(?=.*\\b{}\\b).*$\".format(word1,word2)\n",
    "clean_premise(pat,df)"
   ]
  },
  {
   "cell_type": "code",
   "execution_count": 177,
   "metadata": {},
   "outputs": [],
   "source": [
    "change_premise(pat,df,'office_supplies')"
   ]
  },
  {
   "cell_type": "code",
   "execution_count": 178,
   "metadata": {},
   "outputs": [
    {
     "data": {
      "text/plain": [
       "physician's office    107\n",
       "Name: premise, dtype: int64"
      ]
     },
     "execution_count": 178,
     "metadata": {},
     "output_type": "execute_result"
    }
   ],
   "source": [
    "word1 = 'physician'\n",
    "word2 = 'office'\n",
    "pat = r\"^(?=.*\\b{}\\b)(?=.*\\b{}\\b).*$\".format(word1,word2)\n",
    "clean_premise(pat,df)"
   ]
  },
  {
   "cell_type": "code",
   "execution_count": 179,
   "metadata": {},
   "outputs": [],
   "source": [
    "change_premise(pat,df,'doctor_office')"
   ]
  },
  {
   "cell_type": "code",
   "execution_count": 180,
   "metadata": {},
   "outputs": [
    {
     "data": {
      "text/plain": [
       "social services/public charities             71\n",
       "laundry/dry cleaners/washaterias             66\n",
       "alley                                        66\n",
       "freeway service road                         62\n",
       "amusement park, bowling alley, skate rink    59\n",
       "sexually_oriented_business                   54\n",
       "high rise                                    53\n",
       "car wash                                     51\n",
       "theatres,dinner theaters,auditor.            50\n",
       "---                                          48\n",
       "Name: premise, dtype: int64"
      ]
     },
     "execution_count": 180,
     "metadata": {},
     "output_type": "execute_result"
    }
   ],
   "source": [
    "df.premise.value_counts()[60:70]"
   ]
  },
  {
   "cell_type": "code",
   "execution_count": 181,
   "metadata": {},
   "outputs": [
    {
     "data": {
      "text/plain": [
       "field, woods, forest, park    90\n",
       "field/woods                   77\n",
       "Name: premise, dtype: int64"
      ]
     },
     "execution_count": 181,
     "metadata": {},
     "output_type": "execute_result"
    }
   ],
   "source": [
    "word1 = 'field'\n",
    "pat = r\"^(?=.*\\b{}\\b).*$\".format(word1)\n",
    "clean_premise(pat,df)"
   ]
  },
  {
   "cell_type": "code",
   "execution_count": 182,
   "metadata": {},
   "outputs": [],
   "source": [
    "change_premise(pat,df,'field_woods_park')"
   ]
  },
  {
   "cell_type": "code",
   "execution_count": 183,
   "metadata": {},
   "outputs": [
    {
     "data": {
      "text/plain": [
       "road_street_sidewalk                14608\n",
       "house                                6907\n",
       "apartment                            6703\n",
       "unknown                              6365\n",
       "apartment_parking                    6248\n",
       "other_parking                        5025\n",
       "commercial_parking                   4421\n",
       "hospital                             2192\n",
       "restaurant_parking                   2158\n",
       "building                             1884\n",
       "driveway                             1876\n",
       "bar_club                             1761\n",
       "supermarket                          1475\n",
       "restaurant                           1417\n",
       "department_store                     1373\n",
       "gas_station                          1334\n",
       "bar_club_parking                     1262\n",
       "hotel_motel_parking                  1235\n",
       "hotel_motel                          1199\n",
       "business                             1051\n",
       "park_rec_pool                        1043\n",
       "convenience_store                     918\n",
       "bus_stop_station                      863\n",
       "garage_carport                        784\n",
       "vacant_structure                      739\n",
       "stadium_arena_track                   693\n",
       "business_center_parking               638\n",
       "convenience_store_parking             571\n",
       "hospital_parking                      552\n",
       "construction_site                     544\n",
       "multiplex_home                        536\n",
       "drug_store                            481\n",
       "supermarket_parking                   438\n",
       "specialty_store                       393\n",
       "gym_club_house                        351\n",
       "clothing_store                        290\n",
       "church_temple                         285\n",
       "convention_center                     272\n",
       "school                                271\n",
       "auto_sale_parts_store                 257\n",
       "church_temple_parking                 236\n",
       "college                               222\n",
       "libraries_museums                     218\n",
       "doctor_office                         187\n",
       "storage_facility                      180\n",
       "warehouse                             172\n",
       "highway_freeway                       171\n",
       "field_woods_park                      167\n",
       "rail_platform                         129\n",
       "rental_office                         127\n",
       "rail_vehicle                          123\n",
       "bank_parking                          121\n",
       "auto_repair                           116\n",
       "bank                                  114\n",
       "barber and beauty shops               101\n",
       "liquor_store                           96\n",
       "electronic_store                       93\n",
       "park and ride terminal                 83\n",
       "police station                         76\n",
       "social services/public charities       71\n",
       "Name: premise, dtype: int64"
      ]
     },
     "execution_count": 183,
     "metadata": {},
     "output_type": "execute_result"
    }
   ],
   "source": [
    "df.premise.value_counts()[:60]"
   ]
  },
  {
   "cell_type": "code",
   "execution_count": 184,
   "metadata": {},
   "outputs": [
    {
     "data": {
      "text/plain": [
       "laundry/dry cleaners/washaterias      66\n",
       "laundry, dry cleaners, washaterias    39\n",
       "Name: premise, dtype: int64"
      ]
     },
     "execution_count": 184,
     "metadata": {},
     "output_type": "execute_result"
    }
   ],
   "source": [
    "word1 = 'cleaners'\n",
    "pat = r\"^(?=.*\\b{}\\b).*$\".format(word1)\n",
    "clean_premise(pat,df)"
   ]
  },
  {
   "cell_type": "code",
   "execution_count": 185,
   "metadata": {},
   "outputs": [],
   "source": [
    "change_premise(pat,df,'dry_cleaners')"
   ]
  },
  {
   "cell_type": "code",
   "execution_count": 186,
   "metadata": {},
   "outputs": [
    {
     "data": {
      "text/plain": [
       "park and ride terminal    83\n",
       "park & ride terminal      25\n",
       "Name: premise, dtype: int64"
      ]
     },
     "execution_count": 186,
     "metadata": {},
     "output_type": "execute_result"
    }
   ],
   "source": [
    "word1 = 'park'\n",
    "word2 = 'ride'\n",
    "pat = r\"^(?=.*\\b{}\\b)(?=.*\\b{}\\b).*$\".format(word1,word2)\n",
    "clean_premise(pat,df)"
   ]
  },
  {
   "cell_type": "code",
   "execution_count": 187,
   "metadata": {},
   "outputs": [],
   "source": [
    "change_premise(pat,df,'park_ride')"
   ]
  },
  {
   "cell_type": "code",
   "execution_count": 188,
   "metadata": {},
   "outputs": [
    {
     "data": {
      "text/plain": [
       "police station    76\n",
       "Name: premise, dtype: int64"
      ]
     },
     "execution_count": 188,
     "metadata": {},
     "output_type": "execute_result"
    }
   ],
   "source": [
    "word1 = 'police'\n",
    "pat = r\"^(?=.*\\b{}\\b).*$\".format(word1)\n",
    "clean_premise(pat,df)"
   ]
  },
  {
   "cell_type": "code",
   "execution_count": 189,
   "metadata": {},
   "outputs": [],
   "source": [
    "change_premise(pat,df,'police_station')"
   ]
  },
  {
   "cell_type": "code",
   "execution_count": 190,
   "metadata": {},
   "outputs": [
    {
     "data": {
      "text/plain": [
       "credit union    7\n",
       "Name: premise, dtype: int64"
      ]
     },
     "execution_count": 190,
     "metadata": {},
     "output_type": "execute_result"
    }
   ],
   "source": [
    "word1 = 'credit'\n",
    "pat = r\"^(?=.*\\b{}\\b).*$\".format(word1)\n",
    "clean_premise(pat,df)"
   ]
  },
  {
   "cell_type": "code",
   "execution_count": 191,
   "metadata": {},
   "outputs": [],
   "source": [
    "change_premise(pat,df,'bank')"
   ]
  },
  {
   "cell_type": "code",
   "execution_count": 192,
   "metadata": {},
   "outputs": [
    {
     "data": {
      "text/plain": [
       "package facility (fedex,ups,dhl)    5\n",
       "Name: premise, dtype: int64"
      ]
     },
     "execution_count": 192,
     "metadata": {},
     "output_type": "execute_result"
    }
   ],
   "source": [
    "word1 = 'package'\n",
    "pat = r\"^(?=.*\\b{}\\b).*$\".format(word1)\n",
    "clean_premise(pat,df)"
   ]
  },
  {
   "cell_type": "code",
   "execution_count": 193,
   "metadata": {},
   "outputs": [],
   "source": [
    "change_premise(pat,df,'package_facility')"
   ]
  },
  {
   "cell_type": "code",
   "execution_count": 194,
   "metadata": {},
   "outputs": [
    {
     "data": {
      "text/plain": [
       "barber and beauty shops    101\n",
       "Name: premise, dtype: int64"
      ]
     },
     "execution_count": 194,
     "metadata": {},
     "output_type": "execute_result"
    }
   ],
   "source": [
    "word1 = 'barber'\n",
    "pat = r\"^(?=.*\\b{}\\b).*$\".format(word1)\n",
    "clean_premise(pat,df)"
   ]
  },
  {
   "cell_type": "code",
   "execution_count": 195,
   "metadata": {},
   "outputs": [],
   "source": [
    "change_premise(pat,df,'barber_shop')"
   ]
  },
  {
   "cell_type": "code",
   "execution_count": 196,
   "metadata": {},
   "outputs": [
    {
     "data": {
      "text/plain": [
       "pool hall/game room       9\n",
       "pool hall or game room    3\n",
       "Name: premise, dtype: int64"
      ]
     },
     "execution_count": 196,
     "metadata": {},
     "output_type": "execute_result"
    }
   ],
   "source": [
    "word1 = 'pool'\n",
    "pat = r\"^(?=.*\\b{}\\b).*$\".format(word1)\n",
    "clean_premise(pat,df)"
   ]
  },
  {
   "cell_type": "code",
   "execution_count": 197,
   "metadata": {},
   "outputs": [],
   "source": [
    "change_premise(pat,df,'pool_hall')"
   ]
  },
  {
   "cell_type": "code",
   "execution_count": 198,
   "metadata": {},
   "outputs": [
    {
     "data": {
      "text/plain": [
       "video rental & sales    3\n",
       "Name: premise, dtype: int64"
      ]
     },
     "execution_count": 198,
     "metadata": {},
     "output_type": "execute_result"
    }
   ],
   "source": [
    "word1 = 'video'\n",
    "pat = r\"^(?=.*\\b{}\\b).*$\".format(word1)\n",
    "clean_premise(pat,df)"
   ]
  },
  {
   "cell_type": "code",
   "execution_count": 199,
   "metadata": {},
   "outputs": [],
   "source": [
    "change_premise(pat,df,'video_rental')"
   ]
  },
  {
   "cell_type": "code",
   "execution_count": 200,
   "metadata": {},
   "outputs": [
    {
     "data": {
      "text/plain": [
       "daycare/child care/kindergarten         34\n",
       "daycare, child care, or kindergarten    22\n",
       "Name: premise, dtype: int64"
      ]
     },
     "execution_count": 200,
     "metadata": {},
     "output_type": "execute_result"
    }
   ],
   "source": [
    "word1 = 'care'\n",
    "pat = r\"^(?=.*\\b{}\\b).*$\".format(word1)\n",
    "clean_premise(pat,df)"
   ]
  },
  {
   "cell_type": "code",
   "execution_count": 201,
   "metadata": {},
   "outputs": [],
   "source": [
    "change_premise(pat,df,'daycare')"
   ]
  },
  {
   "cell_type": "code",
   "execution_count": 202,
   "metadata": {},
   "outputs": [
    {
     "data": {
      "text/plain": [
       "115"
      ]
     },
     "execution_count": 202,
     "metadata": {},
     "output_type": "execute_result"
    }
   ],
   "source": [
    "len(df.premise.value_counts())"
   ]
  },
  {
   "cell_type": "code",
   "execution_count": 203,
   "metadata": {},
   "outputs": [
    {
     "data": {
      "text/plain": [
       "pawn/resale shop/flea market             20\n",
       "jail/prison                              19\n",
       "utility company,electric,gas,water       18\n",
       "office_supplies                          16\n",
       "pawn, resale shop, or flea market        16\n",
       "toys,arts & craft,musical,bike,pet       14\n",
       "body shop                                13\n",
       "pool_hall                                12\n",
       "jail or prison                           11\n",
       "train (not metro) terminal               10\n",
       "railroad track/right of way              10\n",
       "lake/waterway/bayou                       9\n",
       "mobile home                               9\n",
       "savings and loan institutions             8\n",
       "railroad track or right of way            7\n",
       "furniture, appliances, radios, tv         7\n",
       "sporting goods/gun shops                  7\n",
       "not listed                                5\n",
       "package_facility                          5\n",
       "garden supply, nursery, florist           5\n",
       "lake, pond, waterway, bayou, river        5\n",
       "garden supply, nursery, or florist        4\n",
       "n                                         4\n",
       "video_rental                              3\n",
       "utility company, electric, gas, water     3\n",
       "contra-flow/hov                           2\n",
       "tollway                                   2\n",
       "sporting goods or gun shops               2\n",
       "marine veh. sales,boats,sailboats         1\n",
       "06                                        1\n",
       "Name: premise, dtype: int64"
      ]
     },
     "execution_count": 203,
     "metadata": {},
     "output_type": "execute_result"
    }
   ],
   "source": [
    "df.premise.value_counts()[-30:]"
   ]
  },
  {
   "cell_type": "code",
   "execution_count": 204,
   "metadata": {},
   "outputs": [
    {
     "data": {
      "text/plain": [
       "jail/prison       19\n",
       "jail or prison    11\n",
       "Name: premise, dtype: int64"
      ]
     },
     "execution_count": 204,
     "metadata": {},
     "output_type": "execute_result"
    }
   ],
   "source": [
    "word1 = 'prison'\n",
    "pat = r\"^(?=.*\\b{}\\b).*$\".format(word1)\n",
    "clean_premise(pat,df)"
   ]
  },
  {
   "cell_type": "code",
   "execution_count": 205,
   "metadata": {},
   "outputs": [],
   "source": [
    "change_premise(pat,df,'jail_prison')"
   ]
  },
  {
   "cell_type": "code",
   "execution_count": 206,
   "metadata": {},
   "outputs": [
    {
     "data": {
      "text/plain": [
       "savings and loan institutions    8\n",
       "Name: premise, dtype: int64"
      ]
     },
     "execution_count": 206,
     "metadata": {},
     "output_type": "execute_result"
    }
   ],
   "source": [
    "word1 = 'loan'\n",
    "pat = r\"^(?=.*\\b{}\\b).*$\".format(word1)\n",
    "clean_premise(pat,df)"
   ]
  },
  {
   "cell_type": "code",
   "execution_count": 207,
   "metadata": {},
   "outputs": [],
   "source": [
    "change_premise(pat,df,'bank')"
   ]
  },
  {
   "cell_type": "code",
   "execution_count": 208,
   "metadata": {},
   "outputs": [
    {
     "data": {
      "text/plain": [
       "pawn/resale shop/flea market         20\n",
       "pawn, resale shop, or flea market    16\n",
       "Name: premise, dtype: int64"
      ]
     },
     "execution_count": 208,
     "metadata": {},
     "output_type": "execute_result"
    }
   ],
   "source": [
    "word1 = 'pawn'\n",
    "pat = r\"^(?=.*\\b{}\\b).*$\".format(word1)\n",
    "clean_premise(pat,df)"
   ]
  },
  {
   "cell_type": "code",
   "execution_count": 209,
   "metadata": {},
   "outputs": [],
   "source": [
    "change_premise(pat,df,'pawn_shop')"
   ]
  },
  {
   "cell_type": "code",
   "execution_count": 210,
   "metadata": {},
   "outputs": [
    {
     "data": {
      "text/plain": [
       "mobile home    9\n",
       "Name: premise, dtype: int64"
      ]
     },
     "execution_count": 210,
     "metadata": {},
     "output_type": "execute_result"
    }
   ],
   "source": [
    "word1 = 'mobile'\n",
    "pat = r\"^(?=.*\\b{}\\b).*$\".format(word1)\n",
    "clean_premise(pat,df)"
   ]
  },
  {
   "cell_type": "code",
   "execution_count": 211,
   "metadata": {},
   "outputs": [],
   "source": [
    "change_premise(pat,df,'mobile_home')"
   ]
  },
  {
   "cell_type": "code",
   "execution_count": 212,
   "metadata": {},
   "outputs": [
    {
     "data": {
      "text/plain": [
       "body shop    13\n",
       "Name: premise, dtype: int64"
      ]
     },
     "execution_count": 212,
     "metadata": {},
     "output_type": "execute_result"
    }
   ],
   "source": [
    "word1 = 'shop'\n",
    "pat = r\"^(?=.*\\b{}\\b).*$\".format(word1)\n",
    "clean_premise(pat,df)"
   ]
  },
  {
   "cell_type": "code",
   "execution_count": 213,
   "metadata": {},
   "outputs": [],
   "source": [
    "change_premise(pat,df,'body_shop')"
   ]
  },
  {
   "cell_type": "code",
   "execution_count": 214,
   "metadata": {},
   "outputs": [
    {
     "data": {
      "text/plain": [
       "social services/public charities             71\n",
       "alley                                        66\n",
       "freeway service road                         62\n",
       "amusement park, bowling alley, skate rink    59\n",
       "daycare                                      56\n",
       "sexually_oriented_business                   54\n",
       "high rise                                    53\n",
       "car wash                                     51\n",
       "theatres,dinner theaters,auditor.            50\n",
       "---                                          48\n",
       "nursing home                                 48\n",
       "theatres, dinner theaters, auditoriums       46\n",
       "amuse. park,bowl. alley,skate rink           43\n",
       "rehabilitation center                        42\n",
       "social services or public charities          39\n",
       "pawn_shop                                    36\n",
       "mall common area                             34\n",
       "factory/manufacturing/industrial             32\n",
       "apartment laundry                            31\n",
       "jail_prison                                  30\n",
       "airport terminal                             28\n",
       "train terminal                               27\n",
       "toys, arts craft,musical, bike,pet stores    22\n",
       "fire station                                 22\n",
       "jewelry stores                               22\n",
       "factory, manufacturing, or industrial        22\n",
       "check cashing places                         20\n",
       "utility company,electric,gas,water           18\n",
       "office_supplies                              16\n",
       "toys,arts & craft,musical,bike,pet           14\n",
       "body_shop                                    13\n",
       "pool_hall                                    12\n",
       "train (not metro) terminal                   10\n",
       "railroad track/right of way                  10\n",
       "mobile_home                                   9\n",
       "lake/waterway/bayou                           9\n",
       "furniture, appliances, radios, tv             7\n",
       "sporting goods/gun shops                      7\n",
       "railroad track or right of way                7\n",
       "lake, pond, waterway, bayou, river            5\n",
       "package_facility                              5\n",
       "not listed                                    5\n",
       "garden supply, nursery, florist               5\n",
       "n                                             4\n",
       "garden supply, nursery, or florist            4\n",
       "utility company, electric, gas, water         3\n",
       "video_rental                                  3\n",
       "contra-flow/hov                               2\n",
       "tollway                                       2\n",
       "sporting goods or gun shops                   2\n",
       "marine veh. sales,boats,sailboats             1\n",
       "06                                            1\n",
       "Name: premise, dtype: int64"
      ]
     },
     "execution_count": 214,
     "metadata": {},
     "output_type": "execute_result"
    }
   ],
   "source": [
    "df.premise.value_counts()[60:]"
   ]
  },
  {
   "cell_type": "code",
   "execution_count": 215,
   "metadata": {},
   "outputs": [
    {
     "data": {
      "text/plain": [
       "railroad track/right of way       10\n",
       "railroad track or right of way     7\n",
       "Name: premise, dtype: int64"
      ]
     },
     "execution_count": 215,
     "metadata": {},
     "output_type": "execute_result"
    }
   ],
   "source": [
    "word1 = 'railroad'\n",
    "pat = r\"^(?=.*\\b{}\\b).*$\".format(word1)\n",
    "clean_premise(pat,df)"
   ]
  },
  {
   "cell_type": "code",
   "execution_count": 216,
   "metadata": {},
   "outputs": [],
   "source": [
    "change_premise(pat,df,'rail_road')"
   ]
  },
  {
   "cell_type": "code",
   "execution_count": 217,
   "metadata": {},
   "outputs": [
    {
     "data": {
      "text/plain": [
       "high rise    53\n",
       "Name: premise, dtype: int64"
      ]
     },
     "execution_count": 217,
     "metadata": {},
     "output_type": "execute_result"
    }
   ],
   "source": [
    "word1 = 'rise'\n",
    "pat = r\"^(?=.*\\b{}\\b).*$\".format(word1)\n",
    "clean_premise(pat,df)"
   ]
  },
  {
   "cell_type": "code",
   "execution_count": 218,
   "metadata": {},
   "outputs": [],
   "source": [
    "change_premise(pat,df,'high_rise')"
   ]
  },
  {
   "cell_type": "code",
   "execution_count": 219,
   "metadata": {},
   "outputs": [
    {
     "data": {
      "text/plain": [
       "check cashing places    20\n",
       "Name: premise, dtype: int64"
      ]
     },
     "execution_count": 219,
     "metadata": {},
     "output_type": "execute_result"
    }
   ],
   "source": [
    "word1 = 'check'\n",
    "pat = r\"^(?=.*\\b{}\\b).*$\".format(word1)\n",
    "clean_premise(pat,df)"
   ]
  },
  {
   "cell_type": "code",
   "execution_count": 220,
   "metadata": {},
   "outputs": [],
   "source": [
    "change_premise(pat,df,'check_cash')"
   ]
  },
  {
   "cell_type": "code",
   "execution_count": 221,
   "metadata": {},
   "outputs": [
    {
     "data": {
      "text/plain": [
       "rehabilitation center    42\n",
       "Name: premise, dtype: int64"
      ]
     },
     "execution_count": 221,
     "metadata": {},
     "output_type": "execute_result"
    }
   ],
   "source": [
    "word1 = 'center'\n",
    "pat = r\"^(?=.*\\b{}\\b).*$\".format(word1)\n",
    "clean_premise(pat,df)"
   ]
  },
  {
   "cell_type": "code",
   "execution_count": 222,
   "metadata": {},
   "outputs": [],
   "source": [
    "change_premise(pat,df,'rehab_center')"
   ]
  },
  {
   "cell_type": "code",
   "execution_count": 223,
   "metadata": {},
   "outputs": [
    {
     "data": {
      "text/plain": [
       "111"
      ]
     },
     "execution_count": 223,
     "metadata": {},
     "output_type": "execute_result"
    }
   ],
   "source": [
    "len(df.premise.value_counts())"
   ]
  },
  {
   "cell_type": "code",
   "execution_count": 224,
   "metadata": {},
   "outputs": [
    {
     "data": {
      "text/html": [
       "<div>\n",
       "<style scoped>\n",
       "    .dataframe tbody tr th:only-of-type {\n",
       "        vertical-align: middle;\n",
       "    }\n",
       "\n",
       "    .dataframe tbody tr th {\n",
       "        vertical-align: top;\n",
       "    }\n",
       "\n",
       "    .dataframe thead th {\n",
       "        text-align: right;\n",
       "    }\n",
       "</style>\n",
       "<table border=\"1\" class=\"dataframe\">\n",
       "  <thead>\n",
       "    <tr style=\"text-align: right;\">\n",
       "      <th></th>\n",
       "      <th>date</th>\n",
       "      <th>hour</th>\n",
       "      <th>beat</th>\n",
       "      <th>offense_type</th>\n",
       "      <th>block_range</th>\n",
       "      <th>street_name</th>\n",
       "      <th>premise</th>\n",
       "      <th>num_offenses</th>\n",
       "      <th>type</th>\n",
       "    </tr>\n",
       "  </thead>\n",
       "  <tbody>\n",
       "    <tr>\n",
       "      <th>0</th>\n",
       "      <td>1916-05-23</td>\n",
       "      <td>19</td>\n",
       "      <td>10H70</td>\n",
       "      <td>Aggravated Assault</td>\n",
       "      <td>UNK</td>\n",
       "      <td>LIBERTY ROAD</td>\n",
       "      <td>house</td>\n",
       "      <td>1</td>\n",
       "      <td>-</td>\n",
       "    </tr>\n",
       "    <tr>\n",
       "      <th>1</th>\n",
       "      <td>1917-02-20</td>\n",
       "      <td>16</td>\n",
       "      <td>10H70</td>\n",
       "      <td>Theft</td>\n",
       "      <td>7500-7599</td>\n",
       "      <td>ARDMORE</td>\n",
       "      <td>other_parking</td>\n",
       "      <td>1</td>\n",
       "      <td>ST</td>\n",
       "    </tr>\n",
       "    <tr>\n",
       "      <th>2</th>\n",
       "      <td>1963-02-02</td>\n",
       "      <td>13</td>\n",
       "      <td>10H40</td>\n",
       "      <td>Theft</td>\n",
       "      <td>3800-3899</td>\n",
       "      <td>MAIN</td>\n",
       "      <td>rehab_center</td>\n",
       "      <td>1</td>\n",
       "      <td>ST</td>\n",
       "    </tr>\n",
       "    <tr>\n",
       "      <th>3</th>\n",
       "      <td>1966-01-01</td>\n",
       "      <td>0</td>\n",
       "      <td>10H50</td>\n",
       "      <td>Rape</td>\n",
       "      <td>3300-3399</td>\n",
       "      <td>ALABAMA</td>\n",
       "      <td>apartment</td>\n",
       "      <td>1</td>\n",
       "      <td>ST</td>\n",
       "    </tr>\n",
       "    <tr>\n",
       "      <th>4</th>\n",
       "      <td>1971-02-03</td>\n",
       "      <td>6</td>\n",
       "      <td>1A10</td>\n",
       "      <td>Theft</td>\n",
       "      <td>1200-1299</td>\n",
       "      <td>TRAVIS</td>\n",
       "      <td>house</td>\n",
       "      <td>1</td>\n",
       "      <td>-</td>\n",
       "    </tr>\n",
       "  </tbody>\n",
       "</table>\n",
       "</div>"
      ],
      "text/plain": [
       "         date  hour   beat        offense_type block_range   street_name  \\\n",
       "0  1916-05-23    19  10H70  Aggravated Assault         UNK  LIBERTY ROAD   \n",
       "1  1917-02-20    16  10H70               Theft   7500-7599       ARDMORE   \n",
       "2  1963-02-02    13  10H40               Theft   3800-3899          MAIN   \n",
       "3  1966-01-01     0  10H50                Rape   3300-3399       ALABAMA   \n",
       "4  1971-02-03     6   1A10               Theft   1200-1299        TRAVIS   \n",
       "\n",
       "         premise  num_offenses type  \n",
       "0          house             1    -  \n",
       "1  other_parking             1   ST  \n",
       "2   rehab_center             1   ST  \n",
       "3      apartment             1   ST  \n",
       "4          house             1    -  "
      ]
     },
     "execution_count": 224,
     "metadata": {},
     "output_type": "execute_result"
    }
   ],
   "source": [
    "df.head()"
   ]
  },
  {
   "cell_type": "code",
   "execution_count": 225,
   "metadata": {},
   "outputs": [],
   "source": [
    "df.to_csv(data_directory_saves+\"crime_beats_02.csv\")"
   ]
  },
  {
   "cell_type": "code",
   "execution_count": null,
   "metadata": {},
   "outputs": [],
   "source": []
  }
 ],
 "metadata": {
  "kernelspec": {
   "display_name": "Python 3",
   "language": "python",
   "name": "python3"
  },
  "language_info": {
   "codemirror_mode": {
    "name": "ipython",
    "version": 3
   },
   "file_extension": ".py",
   "mimetype": "text/x-python",
   "name": "python",
   "nbconvert_exporter": "python",
   "pygments_lexer": "ipython3",
   "version": "3.6.4"
  }
 },
 "nbformat": 4,
 "nbformat_minor": 2
}
