{
 "cells": [
  {
   "cell_type": "code",
   "execution_count": 1,
   "metadata": {},
   "outputs": [],
   "source": [
    "import warnings\n",
    "warnings.filterwarnings('ignore')"
   ]
  },
  {
   "cell_type": "code",
   "execution_count": 2,
   "metadata": {},
   "outputs": [],
   "source": [
    "import pandas as pd\n",
    "import glob, os\n",
    "import numpy as np\n",
    "import matplotlib.pyplot as plt\n",
    "import datetime  as dt\n",
    "import seaborn as sns"
   ]
  },
  {
   "cell_type": "markdown",
   "metadata": {},
   "source": [
    "## Data directory"
   ]
  },
  {
   "cell_type": "code",
   "execution_count": 3,
   "metadata": {},
   "outputs": [],
   "source": [
    "data_folder = 'merge_data'"
   ]
  },
  {
   "cell_type": "code",
   "execution_count": 4,
   "metadata": {},
   "outputs": [],
   "source": [
    "# data folder path\n",
    "data_directory = os.path.join('..','data','clean_data/{}/crime_clean_02.csv'.format(data_folder))\n",
    "data_directory_saves = os.path.join( '..','data','clean_data','merge_data/')"
   ]
  },
  {
   "cell_type": "code",
   "execution_count": 5,
   "metadata": {},
   "outputs": [],
   "source": [
    "df = pd.read_csv(data_directory)\n",
    "df.drop(['Unnamed: 0'],axis=1,inplace=True)"
   ]
  },
  {
   "cell_type": "code",
   "execution_count": 6,
   "metadata": {},
   "outputs": [
    {
     "name": "stdout",
     "output_type": "stream",
     "text": [
      "<class 'pandas.core.frame.DataFrame'>\n",
      "RangeIndex: 1006227 entries, 0 to 1006226\n",
      "Data columns (total 9 columns):\n",
      "date            1006227 non-null object\n",
      "hour            1006227 non-null int64\n",
      "beat            1006227 non-null object\n",
      "offense_type    1006227 non-null object\n",
      "block_range     1006227 non-null object\n",
      "street_name     1006225 non-null object\n",
      "premise         1006227 non-null object\n",
      "num_offenses    1006227 non-null int64\n",
      "type            1006227 non-null object\n",
      "dtypes: int64(2), object(7)\n",
      "memory usage: 69.1+ MB\n"
     ]
    }
   ],
   "source": [
    "df.info()"
   ]
  },
  {
   "cell_type": "code",
   "execution_count": 7,
   "metadata": {},
   "outputs": [
    {
     "data": {
      "text/html": [
       "<div>\n",
       "<style scoped>\n",
       "    .dataframe tbody tr th:only-of-type {\n",
       "        vertical-align: middle;\n",
       "    }\n",
       "\n",
       "    .dataframe tbody tr th {\n",
       "        vertical-align: top;\n",
       "    }\n",
       "\n",
       "    .dataframe thead th {\n",
       "        text-align: right;\n",
       "    }\n",
       "</style>\n",
       "<table border=\"1\" class=\"dataframe\">\n",
       "  <thead>\n",
       "    <tr style=\"text-align: right;\">\n",
       "      <th></th>\n",
       "      <th>date</th>\n",
       "      <th>hour</th>\n",
       "      <th>beat</th>\n",
       "      <th>offense_type</th>\n",
       "      <th>block_range</th>\n",
       "      <th>street_name</th>\n",
       "      <th>premise</th>\n",
       "      <th>num_offenses</th>\n",
       "      <th>type</th>\n",
       "    </tr>\n",
       "  </thead>\n",
       "  <tbody>\n",
       "    <tr>\n",
       "      <th>0</th>\n",
       "      <td>1914-09-08</td>\n",
       "      <td>7</td>\n",
       "      <td>24C60</td>\n",
       "      <td>Burglary</td>\n",
       "      <td>12700-12799</td>\n",
       "      <td>LAKE HOUSTON</td>\n",
       "      <td>restaurant</td>\n",
       "      <td>1</td>\n",
       "      <td>PKWY</td>\n",
       "    </tr>\n",
       "    <tr>\n",
       "      <th>1</th>\n",
       "      <td>1914-11-02</td>\n",
       "      <td>3</td>\n",
       "      <td>18F60</td>\n",
       "      <td>Burglary</td>\n",
       "      <td>8800-8899</td>\n",
       "      <td>BELLAIRE</td>\n",
       "      <td>business</td>\n",
       "      <td>1</td>\n",
       "      <td>BLVD</td>\n",
       "    </tr>\n",
       "    <tr>\n",
       "      <th>2</th>\n",
       "      <td>1914-12-03</td>\n",
       "      <td>19</td>\n",
       "      <td>12D20</td>\n",
       "      <td>Auto Theft</td>\n",
       "      <td>12800-12899</td>\n",
       "      <td>GULF</td>\n",
       "      <td>unknown</td>\n",
       "      <td>1</td>\n",
       "      <td>FWY</td>\n",
       "    </tr>\n",
       "    <tr>\n",
       "      <th>3</th>\n",
       "      <td>1915-01-05</td>\n",
       "      <td>22</td>\n",
       "      <td>3B10</td>\n",
       "      <td>Theft</td>\n",
       "      <td>3200-3299</td>\n",
       "      <td>MANGUM RD 180</td>\n",
       "      <td>other_parking</td>\n",
       "      <td>1</td>\n",
       "      <td>-</td>\n",
       "    </tr>\n",
       "    <tr>\n",
       "      <th>4</th>\n",
       "      <td>1915-01-14</td>\n",
       "      <td>23</td>\n",
       "      <td>5F10</td>\n",
       "      <td>Auto Theft</td>\n",
       "      <td>7000-7099</td>\n",
       "      <td>WESTVIEW</td>\n",
       "      <td>apartment_parking</td>\n",
       "      <td>1</td>\n",
       "      <td>DR</td>\n",
       "    </tr>\n",
       "  </tbody>\n",
       "</table>\n",
       "</div>"
      ],
      "text/plain": [
       "         date  hour   beat offense_type  block_range    street_name  \\\n",
       "0  1914-09-08     7  24C60     Burglary  12700-12799   LAKE HOUSTON   \n",
       "1  1914-11-02     3  18F60     Burglary    8800-8899       BELLAIRE   \n",
       "2  1914-12-03    19  12D20   Auto Theft  12800-12899           GULF   \n",
       "3  1915-01-05    22   3B10        Theft    3200-3299  MANGUM RD 180   \n",
       "4  1915-01-14    23   5F10   Auto Theft    7000-7099       WESTVIEW   \n",
       "\n",
       "             premise  num_offenses  type  \n",
       "0         restaurant             1  PKWY  \n",
       "1           business             1  BLVD  \n",
       "2            unknown             1   FWY  \n",
       "3      other_parking             1     -  \n",
       "4  apartment_parking             1    DR  "
      ]
     },
     "execution_count": 7,
     "metadata": {},
     "output_type": "execute_result"
    }
   ],
   "source": [
    "df.head()"
   ]
  },
  {
   "cell_type": "code",
   "execution_count": 8,
   "metadata": {},
   "outputs": [
    {
     "data": {
      "text/plain": [
       "date            0\n",
       "hour            0\n",
       "beat            0\n",
       "offense_type    0\n",
       "block_range     0\n",
       "street_name     2\n",
       "premise         0\n",
       "num_offenses    0\n",
       "type            0\n",
       "dtype: int64"
      ]
     },
     "execution_count": 8,
     "metadata": {},
     "output_type": "execute_result"
    }
   ],
   "source": [
    "df.apply(lambda x: sum(x.isnull()))"
   ]
  },
  {
   "cell_type": "code",
   "execution_count": 9,
   "metadata": {},
   "outputs": [
    {
     "data": {
      "text/html": [
       "<div>\n",
       "<style scoped>\n",
       "    .dataframe tbody tr th:only-of-type {\n",
       "        vertical-align: middle;\n",
       "    }\n",
       "\n",
       "    .dataframe tbody tr th {\n",
       "        vertical-align: top;\n",
       "    }\n",
       "\n",
       "    .dataframe thead th {\n",
       "        text-align: right;\n",
       "    }\n",
       "</style>\n",
       "<table border=\"1\" class=\"dataframe\">\n",
       "  <thead>\n",
       "    <tr style=\"text-align: right;\">\n",
       "      <th></th>\n",
       "      <th>date</th>\n",
       "      <th>hour</th>\n",
       "      <th>beat</th>\n",
       "      <th>offense_type</th>\n",
       "      <th>block_range</th>\n",
       "      <th>street_name</th>\n",
       "      <th>premise</th>\n",
       "      <th>num_offenses</th>\n",
       "      <th>type</th>\n",
       "    </tr>\n",
       "  </thead>\n",
       "  <tbody>\n",
       "    <tr>\n",
       "      <th>928138</th>\n",
       "      <td>2017-05-04</td>\n",
       "      <td>22</td>\n",
       "      <td>8C10</td>\n",
       "      <td>Theft</td>\n",
       "      <td>9400-9499</td>\n",
       "      <td>NaN</td>\n",
       "      <td>gas_station</td>\n",
       "      <td>1</td>\n",
       "      <td>-</td>\n",
       "    </tr>\n",
       "    <tr>\n",
       "      <th>931210</th>\n",
       "      <td>2017-05-13</td>\n",
       "      <td>9</td>\n",
       "      <td>20G10</td>\n",
       "      <td>Aggravated Assault</td>\n",
       "      <td>10300-10399</td>\n",
       "      <td>NaN</td>\n",
       "      <td>restaurant</td>\n",
       "      <td>1</td>\n",
       "      <td>-</td>\n",
       "    </tr>\n",
       "  </tbody>\n",
       "</table>\n",
       "</div>"
      ],
      "text/plain": [
       "              date  hour   beat        offense_type  block_range street_name  \\\n",
       "928138  2017-05-04    22   8C10               Theft    9400-9499         NaN   \n",
       "931210  2017-05-13     9  20G10  Aggravated Assault  10300-10399         NaN   \n",
       "\n",
       "            premise  num_offenses type  \n",
       "928138  gas_station             1    -  \n",
       "931210   restaurant             1    -  "
      ]
     },
     "execution_count": 9,
     "metadata": {},
     "output_type": "execute_result"
    }
   ],
   "source": [
    "df[df.isnull().any(axis=1)]"
   ]
  },
  {
   "cell_type": "markdown",
   "metadata": {},
   "source": [
    "## replace null streets with string `unknown street`"
   ]
  },
  {
   "cell_type": "code",
   "execution_count": 10,
   "metadata": {},
   "outputs": [],
   "source": [
    "df.street_name.fillna('unknown street',inplace=True)"
   ]
  },
  {
   "cell_type": "code",
   "execution_count": 11,
   "metadata": {},
   "outputs": [
    {
     "data": {
      "text/html": [
       "<div>\n",
       "<style scoped>\n",
       "    .dataframe tbody tr th:only-of-type {\n",
       "        vertical-align: middle;\n",
       "    }\n",
       "\n",
       "    .dataframe tbody tr th {\n",
       "        vertical-align: top;\n",
       "    }\n",
       "\n",
       "    .dataframe thead th {\n",
       "        text-align: right;\n",
       "    }\n",
       "</style>\n",
       "<table border=\"1\" class=\"dataframe\">\n",
       "  <thead>\n",
       "    <tr style=\"text-align: right;\">\n",
       "      <th></th>\n",
       "      <th>date</th>\n",
       "      <th>hour</th>\n",
       "      <th>beat</th>\n",
       "      <th>offense_type</th>\n",
       "      <th>block_range</th>\n",
       "      <th>street_name</th>\n",
       "      <th>premise</th>\n",
       "      <th>num_offenses</th>\n",
       "      <th>type</th>\n",
       "    </tr>\n",
       "  </thead>\n",
       "  <tbody>\n",
       "  </tbody>\n",
       "</table>\n",
       "</div>"
      ],
      "text/plain": [
       "Empty DataFrame\n",
       "Columns: [date, hour, beat, offense_type, block_range, street_name, premise, num_offenses, type]\n",
       "Index: []"
      ]
     },
     "execution_count": 11,
     "metadata": {},
     "output_type": "execute_result"
    }
   ],
   "source": [
    "df[df.isnull().any(axis=1)]"
   ]
  },
  {
   "cell_type": "markdown",
   "metadata": {},
   "source": [
    "## display unk block_rage"
   ]
  },
  {
   "cell_type": "code",
   "execution_count": 12,
   "metadata": {},
   "outputs": [],
   "source": [
    "unk_br = df.block_range == 'UNK'"
   ]
  },
  {
   "cell_type": "code",
   "execution_count": 13,
   "metadata": {},
   "outputs": [
    {
     "data": {
      "text/plain": [
       "5467"
      ]
     },
     "execution_count": 13,
     "metadata": {},
     "output_type": "execute_result"
    }
   ],
   "source": [
    "len(df[unk_br])"
   ]
  },
  {
   "cell_type": "code",
   "execution_count": 14,
   "metadata": {},
   "outputs": [
    {
     "data": {
      "text/html": [
       "<div>\n",
       "<style scoped>\n",
       "    .dataframe tbody tr th:only-of-type {\n",
       "        vertical-align: middle;\n",
       "    }\n",
       "\n",
       "    .dataframe tbody tr th {\n",
       "        vertical-align: top;\n",
       "    }\n",
       "\n",
       "    .dataframe thead th {\n",
       "        text-align: right;\n",
       "    }\n",
       "</style>\n",
       "<table border=\"1\" class=\"dataframe\">\n",
       "  <thead>\n",
       "    <tr style=\"text-align: right;\">\n",
       "      <th></th>\n",
       "      <th>date</th>\n",
       "      <th>hour</th>\n",
       "      <th>beat</th>\n",
       "      <th>offense_type</th>\n",
       "      <th>block_range</th>\n",
       "      <th>street_name</th>\n",
       "      <th>premise</th>\n",
       "      <th>num_offenses</th>\n",
       "      <th>type</th>\n",
       "    </tr>\n",
       "  </thead>\n",
       "  <tbody>\n",
       "    <tr>\n",
       "      <th>11</th>\n",
       "      <td>1916-05-23</td>\n",
       "      <td>19</td>\n",
       "      <td>10H70</td>\n",
       "      <td>Aggravated Assault</td>\n",
       "      <td>UNK</td>\n",
       "      <td>LIBERTY ROAD</td>\n",
       "      <td>house</td>\n",
       "      <td>1</td>\n",
       "      <td>-</td>\n",
       "    </tr>\n",
       "    <tr>\n",
       "      <th>95</th>\n",
       "      <td>1986-10-29</td>\n",
       "      <td>21</td>\n",
       "      <td>2A40</td>\n",
       "      <td>Rape</td>\n",
       "      <td>UNK</td>\n",
       "      <td>RIESNER</td>\n",
       "      <td>house</td>\n",
       "      <td>1</td>\n",
       "      <td>-</td>\n",
       "    </tr>\n",
       "    <tr>\n",
       "      <th>249</th>\n",
       "      <td>2001-03-07</td>\n",
       "      <td>15</td>\n",
       "      <td>16E30</td>\n",
       "      <td>Theft</td>\n",
       "      <td>UNK</td>\n",
       "      <td>DARLINGHURST</td>\n",
       "      <td>house</td>\n",
       "      <td>1</td>\n",
       "      <td>DR</td>\n",
       "    </tr>\n",
       "    <tr>\n",
       "      <th>399</th>\n",
       "      <td>2003-01-24</td>\n",
       "      <td>15</td>\n",
       "      <td>UNK</td>\n",
       "      <td>Murder</td>\n",
       "      <td>UNK</td>\n",
       "      <td>00705 32ND 1</td>\n",
       "      <td>house</td>\n",
       "      <td>1</td>\n",
       "      <td>-</td>\n",
       "    </tr>\n",
       "    <tr>\n",
       "      <th>415</th>\n",
       "      <td>2003-05-18</td>\n",
       "      <td>6</td>\n",
       "      <td>18F40</td>\n",
       "      <td>Theft</td>\n",
       "      <td>UNK</td>\n",
       "      <td>WESTHEIMER RD</td>\n",
       "      <td>apartment</td>\n",
       "      <td>1</td>\n",
       "      <td>-</td>\n",
       "    </tr>\n",
       "  </tbody>\n",
       "</table>\n",
       "</div>"
      ],
      "text/plain": [
       "           date  hour   beat        offense_type block_range    street_name  \\\n",
       "11   1916-05-23    19  10H70  Aggravated Assault         UNK   LIBERTY ROAD   \n",
       "95   1986-10-29    21   2A40                Rape         UNK        RIESNER   \n",
       "249  2001-03-07    15  16E30               Theft         UNK   DARLINGHURST   \n",
       "399  2003-01-24    15    UNK              Murder         UNK   00705 32ND 1   \n",
       "415  2003-05-18     6  18F40               Theft         UNK  WESTHEIMER RD   \n",
       "\n",
       "       premise  num_offenses type  \n",
       "11       house             1    -  \n",
       "95       house             1    -  \n",
       "249      house             1   DR  \n",
       "399      house             1    -  \n",
       "415  apartment             1    -  "
      ]
     },
     "execution_count": 14,
     "metadata": {},
     "output_type": "execute_result"
    }
   ],
   "source": [
    "ukdf = df[unk_br]\n",
    "ukdf.head()"
   ]
  },
  {
   "cell_type": "markdown",
   "metadata": {},
   "source": [
    "## will just pass street name  and not drop values "
   ]
  },
  {
   "cell_type": "markdown",
   "metadata": {},
   "source": [
    "# combine `street_name` and `street_type` for full address\n"
   ]
  },
  {
   "cell_type": "code",
   "execution_count": 15,
   "metadata": {},
   "outputs": [],
   "source": [
    "def combine_stname_sttype(row):\n",
    "    '''combines street_name and street_type\n",
    "    checks if it contains the value\n",
    "    otherwise it appends it'''\n",
    "    stname = row.street_name.split(' ')[-1] # last item, looking for RD,ST,BLVD..\n",
    "    sttype =row.type  # RD, BLVD,-,..\n",
    "    if row.type == '-':\n",
    "            return row.street_name  # unchanged\n",
    "    elif stname in sttype:\n",
    "        return row.street_name  #  unchanged\n",
    "    else:\n",
    "        return stname + ' ' + sttype  # street_name + street_type"
   ]
  },
  {
   "cell_type": "code",
   "execution_count": 16,
   "metadata": {},
   "outputs": [
    {
     "name": "stdout",
     "output_type": "stream",
     "text": [
      "CPU times: user 26.6 s, sys: 406 ms, total: 27 s\n",
      "Wall time: 27.2 s\n"
     ]
    }
   ],
   "source": [
    "%%time\n",
    "df['full_street_name'] = df.apply(combine_stname_sttype, axis=1)  # 25 seconds"
   ]
  },
  {
   "cell_type": "code",
   "execution_count": 17,
   "metadata": {},
   "outputs": [
    {
     "data": {
      "text/html": [
       "<div>\n",
       "<style scoped>\n",
       "    .dataframe tbody tr th:only-of-type {\n",
       "        vertical-align: middle;\n",
       "    }\n",
       "\n",
       "    .dataframe tbody tr th {\n",
       "        vertical-align: top;\n",
       "    }\n",
       "\n",
       "    .dataframe thead th {\n",
       "        text-align: right;\n",
       "    }\n",
       "</style>\n",
       "<table border=\"1\" class=\"dataframe\">\n",
       "  <thead>\n",
       "    <tr style=\"text-align: right;\">\n",
       "      <th></th>\n",
       "      <th>date</th>\n",
       "      <th>hour</th>\n",
       "      <th>beat</th>\n",
       "      <th>offense_type</th>\n",
       "      <th>block_range</th>\n",
       "      <th>street_name</th>\n",
       "      <th>premise</th>\n",
       "      <th>num_offenses</th>\n",
       "      <th>type</th>\n",
       "      <th>full_street_name</th>\n",
       "    </tr>\n",
       "  </thead>\n",
       "  <tbody>\n",
       "    <tr>\n",
       "      <th>0</th>\n",
       "      <td>1914-09-08</td>\n",
       "      <td>7</td>\n",
       "      <td>24C60</td>\n",
       "      <td>Burglary</td>\n",
       "      <td>12700-12799</td>\n",
       "      <td>LAKE HOUSTON</td>\n",
       "      <td>restaurant</td>\n",
       "      <td>1</td>\n",
       "      <td>PKWY</td>\n",
       "      <td>HOUSTON PKWY</td>\n",
       "    </tr>\n",
       "    <tr>\n",
       "      <th>1</th>\n",
       "      <td>1914-11-02</td>\n",
       "      <td>3</td>\n",
       "      <td>18F60</td>\n",
       "      <td>Burglary</td>\n",
       "      <td>8800-8899</td>\n",
       "      <td>BELLAIRE</td>\n",
       "      <td>business</td>\n",
       "      <td>1</td>\n",
       "      <td>BLVD</td>\n",
       "      <td>BELLAIRE BLVD</td>\n",
       "    </tr>\n",
       "    <tr>\n",
       "      <th>2</th>\n",
       "      <td>1914-12-03</td>\n",
       "      <td>19</td>\n",
       "      <td>12D20</td>\n",
       "      <td>Auto Theft</td>\n",
       "      <td>12800-12899</td>\n",
       "      <td>GULF</td>\n",
       "      <td>unknown</td>\n",
       "      <td>1</td>\n",
       "      <td>FWY</td>\n",
       "      <td>GULF FWY</td>\n",
       "    </tr>\n",
       "    <tr>\n",
       "      <th>3</th>\n",
       "      <td>1915-01-05</td>\n",
       "      <td>22</td>\n",
       "      <td>3B10</td>\n",
       "      <td>Theft</td>\n",
       "      <td>3200-3299</td>\n",
       "      <td>MANGUM RD 180</td>\n",
       "      <td>other_parking</td>\n",
       "      <td>1</td>\n",
       "      <td>-</td>\n",
       "      <td>MANGUM RD 180</td>\n",
       "    </tr>\n",
       "    <tr>\n",
       "      <th>4</th>\n",
       "      <td>1915-01-14</td>\n",
       "      <td>23</td>\n",
       "      <td>5F10</td>\n",
       "      <td>Auto Theft</td>\n",
       "      <td>7000-7099</td>\n",
       "      <td>WESTVIEW</td>\n",
       "      <td>apartment_parking</td>\n",
       "      <td>1</td>\n",
       "      <td>DR</td>\n",
       "      <td>WESTVIEW DR</td>\n",
       "    </tr>\n",
       "  </tbody>\n",
       "</table>\n",
       "</div>"
      ],
      "text/plain": [
       "         date  hour   beat offense_type  block_range    street_name  \\\n",
       "0  1914-09-08     7  24C60     Burglary  12700-12799   LAKE HOUSTON   \n",
       "1  1914-11-02     3  18F60     Burglary    8800-8899       BELLAIRE   \n",
       "2  1914-12-03    19  12D20   Auto Theft  12800-12899           GULF   \n",
       "3  1915-01-05    22   3B10        Theft    3200-3299  MANGUM RD 180   \n",
       "4  1915-01-14    23   5F10   Auto Theft    7000-7099       WESTVIEW   \n",
       "\n",
       "             premise  num_offenses  type full_street_name  \n",
       "0         restaurant             1  PKWY     HOUSTON PKWY  \n",
       "1           business             1  BLVD    BELLAIRE BLVD  \n",
       "2            unknown             1   FWY         GULF FWY  \n",
       "3      other_parking             1     -    MANGUM RD 180  \n",
       "4  apartment_parking             1    DR      WESTVIEW DR  "
      ]
     },
     "execution_count": 17,
     "metadata": {},
     "output_type": "execute_result"
    }
   ],
   "source": [
    "df.head()"
   ]
  },
  {
   "cell_type": "markdown",
   "metadata": {},
   "source": [
    "### replace large int  in blockrange"
   ]
  },
  {
   "cell_type": "code",
   "execution_count": 18,
   "metadata": {},
   "outputs": [
    {
     "data": {
      "text/plain": [
       "date                             2017-09-01\n",
       "hour                                     21\n",
       "beat                                   1A10\n",
       "offense_type                          Theft\n",
       "block_range         1.1103e+006-1.1104e+006\n",
       "street_name         AVENIDA DE LAS AMERICAS\n",
       "premise                   convention_center\n",
       "num_offenses                              1\n",
       "type                                      -\n",
       "full_street_name    AVENIDA DE LAS AMERICAS\n",
       "Name: 968433, dtype: object"
      ]
     },
     "execution_count": 18,
     "metadata": {},
     "output_type": "execute_result"
    }
   ],
   "source": [
    "df.loc[968433]"
   ]
  },
  {
   "cell_type": "code",
   "execution_count": 19,
   "metadata": {},
   "outputs": [],
   "source": [
    "df.replace({'block_range': {'1.1103e+006-1.1104e+006':'1001-1010'}},inplace=True)"
   ]
  },
  {
   "cell_type": "code",
   "execution_count": 20,
   "metadata": {},
   "outputs": [
    {
     "data": {
      "text/plain": [
       "date                             2017-09-01\n",
       "hour                                     21\n",
       "beat                                   1A10\n",
       "offense_type                          Theft\n",
       "block_range                       1001-1010\n",
       "street_name         AVENIDA DE LAS AMERICAS\n",
       "premise                   convention_center\n",
       "num_offenses                              1\n",
       "type                                      -\n",
       "full_street_name    AVENIDA DE LAS AMERICAS\n",
       "Name: 968433, dtype: object"
      ]
     },
     "execution_count": 20,
     "metadata": {},
     "output_type": "execute_result"
    }
   ],
   "source": [
    "df.loc[968433]"
   ]
  },
  {
   "cell_type": "markdown",
   "metadata": {},
   "source": [
    "## combine block_range with full_street_name\n"
   ]
  },
  {
   "cell_type": "code",
   "execution_count": 21,
   "metadata": {},
   "outputs": [],
   "source": [
    "def full_street_address(row):\n",
    "    '''input col with block_range values\n",
    "    its split, get med value then appended\n",
    "    to street name\n",
    "    return: full street address'''\n",
    "    if row.block_range == 'UNK':\n",
    "        return row.street_name\n",
    "    else:\n",
    "        st1 =  int(row.block_range.split('-')[0])\n",
    "        st2 = int(row.block_range.split('-')[1])\n",
    "        med =  np.median([st2,st1])\n",
    "        st_full =  int(np.ceil(med))\n",
    "        return str(st_full) + ' ' + row['full_street_name']"
   ]
  },
  {
   "cell_type": "code",
   "execution_count": 22,
   "metadata": {},
   "outputs": [
    {
     "name": "stdout",
     "output_type": "stream",
     "text": [
      "CPU times: user 1min 2s, sys: 1.56 s, total: 1min 4s\n",
      "Wall time: 1min 4s\n"
     ]
    }
   ],
   "source": [
    "%%time\n",
    "df['full_street_address'] = df.apply(full_street_address, axis=1)   # 1 minute"
   ]
  },
  {
   "cell_type": "code",
   "execution_count": 23,
   "metadata": {},
   "outputs": [
    {
     "data": {
      "text/html": [
       "<div>\n",
       "<style scoped>\n",
       "    .dataframe tbody tr th:only-of-type {\n",
       "        vertical-align: middle;\n",
       "    }\n",
       "\n",
       "    .dataframe tbody tr th {\n",
       "        vertical-align: top;\n",
       "    }\n",
       "\n",
       "    .dataframe thead th {\n",
       "        text-align: right;\n",
       "    }\n",
       "</style>\n",
       "<table border=\"1\" class=\"dataframe\">\n",
       "  <thead>\n",
       "    <tr style=\"text-align: right;\">\n",
       "      <th></th>\n",
       "      <th>date</th>\n",
       "      <th>hour</th>\n",
       "      <th>beat</th>\n",
       "      <th>offense_type</th>\n",
       "      <th>block_range</th>\n",
       "      <th>street_name</th>\n",
       "      <th>premise</th>\n",
       "      <th>num_offenses</th>\n",
       "      <th>type</th>\n",
       "      <th>full_street_name</th>\n",
       "      <th>full_street_address</th>\n",
       "    </tr>\n",
       "  </thead>\n",
       "  <tbody>\n",
       "    <tr>\n",
       "      <th>0</th>\n",
       "      <td>1914-09-08</td>\n",
       "      <td>7</td>\n",
       "      <td>24C60</td>\n",
       "      <td>Burglary</td>\n",
       "      <td>12700-12799</td>\n",
       "      <td>LAKE HOUSTON</td>\n",
       "      <td>restaurant</td>\n",
       "      <td>1</td>\n",
       "      <td>PKWY</td>\n",
       "      <td>HOUSTON PKWY</td>\n",
       "      <td>12750 HOUSTON PKWY</td>\n",
       "    </tr>\n",
       "    <tr>\n",
       "      <th>1</th>\n",
       "      <td>1914-11-02</td>\n",
       "      <td>3</td>\n",
       "      <td>18F60</td>\n",
       "      <td>Burglary</td>\n",
       "      <td>8800-8899</td>\n",
       "      <td>BELLAIRE</td>\n",
       "      <td>business</td>\n",
       "      <td>1</td>\n",
       "      <td>BLVD</td>\n",
       "      <td>BELLAIRE BLVD</td>\n",
       "      <td>8850 BELLAIRE BLVD</td>\n",
       "    </tr>\n",
       "    <tr>\n",
       "      <th>2</th>\n",
       "      <td>1914-12-03</td>\n",
       "      <td>19</td>\n",
       "      <td>12D20</td>\n",
       "      <td>Auto Theft</td>\n",
       "      <td>12800-12899</td>\n",
       "      <td>GULF</td>\n",
       "      <td>unknown</td>\n",
       "      <td>1</td>\n",
       "      <td>FWY</td>\n",
       "      <td>GULF FWY</td>\n",
       "      <td>12850 GULF FWY</td>\n",
       "    </tr>\n",
       "    <tr>\n",
       "      <th>3</th>\n",
       "      <td>1915-01-05</td>\n",
       "      <td>22</td>\n",
       "      <td>3B10</td>\n",
       "      <td>Theft</td>\n",
       "      <td>3200-3299</td>\n",
       "      <td>MANGUM RD 180</td>\n",
       "      <td>other_parking</td>\n",
       "      <td>1</td>\n",
       "      <td>-</td>\n",
       "      <td>MANGUM RD 180</td>\n",
       "      <td>3250 MANGUM RD 180</td>\n",
       "    </tr>\n",
       "    <tr>\n",
       "      <th>4</th>\n",
       "      <td>1915-01-14</td>\n",
       "      <td>23</td>\n",
       "      <td>5F10</td>\n",
       "      <td>Auto Theft</td>\n",
       "      <td>7000-7099</td>\n",
       "      <td>WESTVIEW</td>\n",
       "      <td>apartment_parking</td>\n",
       "      <td>1</td>\n",
       "      <td>DR</td>\n",
       "      <td>WESTVIEW DR</td>\n",
       "      <td>7050 WESTVIEW DR</td>\n",
       "    </tr>\n",
       "  </tbody>\n",
       "</table>\n",
       "</div>"
      ],
      "text/plain": [
       "         date  hour   beat offense_type  block_range    street_name  \\\n",
       "0  1914-09-08     7  24C60     Burglary  12700-12799   LAKE HOUSTON   \n",
       "1  1914-11-02     3  18F60     Burglary    8800-8899       BELLAIRE   \n",
       "2  1914-12-03    19  12D20   Auto Theft  12800-12899           GULF   \n",
       "3  1915-01-05    22   3B10        Theft    3200-3299  MANGUM RD 180   \n",
       "4  1915-01-14    23   5F10   Auto Theft    7000-7099       WESTVIEW   \n",
       "\n",
       "             premise  num_offenses  type full_street_name full_street_address  \n",
       "0         restaurant             1  PKWY     HOUSTON PKWY  12750 HOUSTON PKWY  \n",
       "1           business             1  BLVD    BELLAIRE BLVD  8850 BELLAIRE BLVD  \n",
       "2            unknown             1   FWY         GULF FWY      12850 GULF FWY  \n",
       "3      other_parking             1     -    MANGUM RD 180  3250 MANGUM RD 180  \n",
       "4  apartment_parking             1    DR      WESTVIEW DR    7050 WESTVIEW DR  "
      ]
     },
     "execution_count": 23,
     "metadata": {},
     "output_type": "execute_result"
    }
   ],
   "source": [
    "df.head()"
   ]
  },
  {
   "cell_type": "code",
   "execution_count": 24,
   "metadata": {},
   "outputs": [
    {
     "name": "stdout",
     "output_type": "stream",
     "text": [
      "<class 'pandas.core.frame.DataFrame'>\n",
      "RangeIndex: 1006227 entries, 0 to 1006226\n",
      "Data columns (total 11 columns):\n",
      "date                   1006227 non-null object\n",
      "hour                   1006227 non-null int64\n",
      "beat                   1006227 non-null object\n",
      "offense_type           1006227 non-null object\n",
      "block_range            1006227 non-null object\n",
      "street_name            1006227 non-null object\n",
      "premise                1006227 non-null object\n",
      "num_offenses           1006227 non-null int64\n",
      "type                   1006227 non-null object\n",
      "full_street_name       1006227 non-null object\n",
      "full_street_address    1006227 non-null object\n",
      "dtypes: int64(2), object(9)\n",
      "memory usage: 84.4+ MB\n"
     ]
    }
   ],
   "source": [
    "df.info()"
   ]
  },
  {
   "cell_type": "markdown",
   "metadata": {},
   "source": [
    "## drop unused columns"
   ]
  },
  {
   "cell_type": "code",
   "execution_count": 25,
   "metadata": {},
   "outputs": [],
   "source": [
    "df.drop(['block_range','street_name','type','full_street_name'],axis=1,inplace=True)"
   ]
  },
  {
   "cell_type": "code",
   "execution_count": 26,
   "metadata": {},
   "outputs": [
    {
     "data": {
      "text/html": [
       "<div>\n",
       "<style scoped>\n",
       "    .dataframe tbody tr th:only-of-type {\n",
       "        vertical-align: middle;\n",
       "    }\n",
       "\n",
       "    .dataframe tbody tr th {\n",
       "        vertical-align: top;\n",
       "    }\n",
       "\n",
       "    .dataframe thead th {\n",
       "        text-align: right;\n",
       "    }\n",
       "</style>\n",
       "<table border=\"1\" class=\"dataframe\">\n",
       "  <thead>\n",
       "    <tr style=\"text-align: right;\">\n",
       "      <th></th>\n",
       "      <th>date</th>\n",
       "      <th>hour</th>\n",
       "      <th>beat</th>\n",
       "      <th>offense_type</th>\n",
       "      <th>premise</th>\n",
       "      <th>num_offenses</th>\n",
       "      <th>full_street_address</th>\n",
       "    </tr>\n",
       "  </thead>\n",
       "  <tbody>\n",
       "    <tr>\n",
       "      <th>0</th>\n",
       "      <td>1914-09-08</td>\n",
       "      <td>7</td>\n",
       "      <td>24C60</td>\n",
       "      <td>Burglary</td>\n",
       "      <td>restaurant</td>\n",
       "      <td>1</td>\n",
       "      <td>12750 HOUSTON PKWY</td>\n",
       "    </tr>\n",
       "    <tr>\n",
       "      <th>1</th>\n",
       "      <td>1914-11-02</td>\n",
       "      <td>3</td>\n",
       "      <td>18F60</td>\n",
       "      <td>Burglary</td>\n",
       "      <td>business</td>\n",
       "      <td>1</td>\n",
       "      <td>8850 BELLAIRE BLVD</td>\n",
       "    </tr>\n",
       "    <tr>\n",
       "      <th>2</th>\n",
       "      <td>1914-12-03</td>\n",
       "      <td>19</td>\n",
       "      <td>12D20</td>\n",
       "      <td>Auto Theft</td>\n",
       "      <td>unknown</td>\n",
       "      <td>1</td>\n",
       "      <td>12850 GULF FWY</td>\n",
       "    </tr>\n",
       "    <tr>\n",
       "      <th>3</th>\n",
       "      <td>1915-01-05</td>\n",
       "      <td>22</td>\n",
       "      <td>3B10</td>\n",
       "      <td>Theft</td>\n",
       "      <td>other_parking</td>\n",
       "      <td>1</td>\n",
       "      <td>3250 MANGUM RD 180</td>\n",
       "    </tr>\n",
       "    <tr>\n",
       "      <th>4</th>\n",
       "      <td>1915-01-14</td>\n",
       "      <td>23</td>\n",
       "      <td>5F10</td>\n",
       "      <td>Auto Theft</td>\n",
       "      <td>apartment_parking</td>\n",
       "      <td>1</td>\n",
       "      <td>7050 WESTVIEW DR</td>\n",
       "    </tr>\n",
       "  </tbody>\n",
       "</table>\n",
       "</div>"
      ],
      "text/plain": [
       "         date  hour   beat offense_type            premise  num_offenses  \\\n",
       "0  1914-09-08     7  24C60     Burglary         restaurant             1   \n",
       "1  1914-11-02     3  18F60     Burglary           business             1   \n",
       "2  1914-12-03    19  12D20   Auto Theft            unknown             1   \n",
       "3  1915-01-05    22   3B10        Theft      other_parking             1   \n",
       "4  1915-01-14    23   5F10   Auto Theft  apartment_parking             1   \n",
       "\n",
       "  full_street_address  \n",
       "0  12750 HOUSTON PKWY  \n",
       "1  8850 BELLAIRE BLVD  \n",
       "2      12850 GULF FWY  \n",
       "3  3250 MANGUM RD 180  \n",
       "4    7050 WESTVIEW DR  "
      ]
     },
     "execution_count": 26,
     "metadata": {},
     "output_type": "execute_result"
    }
   ],
   "source": [
    "df.head()"
   ]
  },
  {
   "cell_type": "markdown",
   "metadata": {},
   "source": [
    "## save"
   ]
  },
  {
   "cell_type": "code",
   "execution_count": 27,
   "metadata": {},
   "outputs": [],
   "source": [
    "df.to_csv(data_directory_saves+\"crime_clean_03.csv\")"
   ]
  }
 ],
 "metadata": {
  "kernelspec": {
   "display_name": "Python 3",
   "language": "python",
   "name": "python3"
  },
  "language_info": {
   "codemirror_mode": {
    "name": "ipython",
    "version": 3
   },
   "file_extension": ".py",
   "mimetype": "text/x-python",
   "name": "python",
   "nbconvert_exporter": "python",
   "pygments_lexer": "ipython3",
   "version": "3.6.4"
  }
 },
 "nbformat": 4,
 "nbformat_minor": 2
}
