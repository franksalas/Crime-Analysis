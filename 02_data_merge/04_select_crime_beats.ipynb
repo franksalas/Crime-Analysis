{
 "cells": [
  {
   "cell_type": "code",
   "execution_count": 1,
   "metadata": {},
   "outputs": [],
   "source": [
    "import warnings\n",
    "warnings.filterwarnings('ignore')"
   ]
  },
  {
   "cell_type": "code",
   "execution_count": 2,
   "metadata": {},
   "outputs": [],
   "source": [
    "import pandas as pd\n",
    "import glob, os\n",
    "import numpy as np\n",
    "import matplotlib.pyplot as plt\n",
    "import datetime  as dt\n",
    "import seaborn as sns"
   ]
  },
  {
   "cell_type": "markdown",
   "metadata": {},
   "source": [
    "## Data directory"
   ]
  },
  {
   "cell_type": "code",
   "execution_count": 3,
   "metadata": {},
   "outputs": [],
   "source": [
    "data_folder = 'merge_data'"
   ]
  },
  {
   "cell_type": "code",
   "execution_count": 4,
   "metadata": {},
   "outputs": [],
   "source": [
    "# data folder path\n",
    "data_directory = os.path.join('..','data','clean_data/{}/crime_clean_03.csv'.format(data_folder))\n",
    "data_directory_saves = os.path.join( '..','data','clean_data','merge_data/')"
   ]
  },
  {
   "cell_type": "code",
   "execution_count": 5,
   "metadata": {},
   "outputs": [],
   "source": [
    "df = pd.read_csv(data_directory)\n",
    "df.drop(['Unnamed: 0'],axis=1,inplace=True)"
   ]
  },
  {
   "cell_type": "code",
   "execution_count": 6,
   "metadata": {},
   "outputs": [
    {
     "name": "stdout",
     "output_type": "stream",
     "text": [
      "<class 'pandas.core.frame.DataFrame'>\n",
      "RangeIndex: 1006227 entries, 0 to 1006226\n",
      "Data columns (total 7 columns):\n",
      "date                   1006227 non-null object\n",
      "hour                   1006227 non-null int64\n",
      "beat                   1006227 non-null object\n",
      "offense_type           1006227 non-null object\n",
      "premise                1006227 non-null object\n",
      "num_offenses           1006227 non-null int64\n",
      "full_street_address    1006227 non-null object\n",
      "dtypes: int64(2), object(5)\n",
      "memory usage: 53.7+ MB\n"
     ]
    }
   ],
   "source": [
    "df.info()"
   ]
  },
  {
   "cell_type": "code",
   "execution_count": 7,
   "metadata": {},
   "outputs": [
    {
     "data": {
      "text/html": [
       "<div>\n",
       "<style scoped>\n",
       "    .dataframe tbody tr th:only-of-type {\n",
       "        vertical-align: middle;\n",
       "    }\n",
       "\n",
       "    .dataframe tbody tr th {\n",
       "        vertical-align: top;\n",
       "    }\n",
       "\n",
       "    .dataframe thead th {\n",
       "        text-align: right;\n",
       "    }\n",
       "</style>\n",
       "<table border=\"1\" class=\"dataframe\">\n",
       "  <thead>\n",
       "    <tr style=\"text-align: right;\">\n",
       "      <th></th>\n",
       "      <th>date</th>\n",
       "      <th>hour</th>\n",
       "      <th>beat</th>\n",
       "      <th>offense_type</th>\n",
       "      <th>premise</th>\n",
       "      <th>num_offenses</th>\n",
       "      <th>full_street_address</th>\n",
       "    </tr>\n",
       "  </thead>\n",
       "  <tbody>\n",
       "    <tr>\n",
       "      <th>0</th>\n",
       "      <td>1914-09-08</td>\n",
       "      <td>7</td>\n",
       "      <td>24C60</td>\n",
       "      <td>Burglary</td>\n",
       "      <td>restaurant</td>\n",
       "      <td>1</td>\n",
       "      <td>12750 HOUSTON PKWY</td>\n",
       "    </tr>\n",
       "    <tr>\n",
       "      <th>1</th>\n",
       "      <td>1914-11-02</td>\n",
       "      <td>3</td>\n",
       "      <td>18F60</td>\n",
       "      <td>Burglary</td>\n",
       "      <td>business</td>\n",
       "      <td>1</td>\n",
       "      <td>8850 BELLAIRE BLVD</td>\n",
       "    </tr>\n",
       "    <tr>\n",
       "      <th>2</th>\n",
       "      <td>1914-12-03</td>\n",
       "      <td>19</td>\n",
       "      <td>12D20</td>\n",
       "      <td>Auto Theft</td>\n",
       "      <td>unknown</td>\n",
       "      <td>1</td>\n",
       "      <td>12850 GULF FWY</td>\n",
       "    </tr>\n",
       "    <tr>\n",
       "      <th>3</th>\n",
       "      <td>1915-01-05</td>\n",
       "      <td>22</td>\n",
       "      <td>3B10</td>\n",
       "      <td>Theft</td>\n",
       "      <td>other_parking</td>\n",
       "      <td>1</td>\n",
       "      <td>3250 MANGUM RD 180</td>\n",
       "    </tr>\n",
       "    <tr>\n",
       "      <th>4</th>\n",
       "      <td>1915-01-14</td>\n",
       "      <td>23</td>\n",
       "      <td>5F10</td>\n",
       "      <td>Auto Theft</td>\n",
       "      <td>apartment_parking</td>\n",
       "      <td>1</td>\n",
       "      <td>7050 WESTVIEW DR</td>\n",
       "    </tr>\n",
       "  </tbody>\n",
       "</table>\n",
       "</div>"
      ],
      "text/plain": [
       "         date  hour   beat offense_type            premise  num_offenses  \\\n",
       "0  1914-09-08     7  24C60     Burglary         restaurant             1   \n",
       "1  1914-11-02     3  18F60     Burglary           business             1   \n",
       "2  1914-12-03    19  12D20   Auto Theft            unknown             1   \n",
       "3  1915-01-05    22   3B10        Theft      other_parking             1   \n",
       "4  1915-01-14    23   5F10   Auto Theft  apartment_parking             1   \n",
       "\n",
       "  full_street_address  \n",
       "0  12750 HOUSTON PKWY  \n",
       "1  8850 BELLAIRE BLVD  \n",
       "2      12850 GULF FWY  \n",
       "3  3250 MANGUM RD 180  \n",
       "4    7050 WESTVIEW DR  "
      ]
     },
     "execution_count": 7,
     "metadata": {},
     "output_type": "execute_result"
    }
   ],
   "source": [
    "df.head()"
   ]
  },
  {
   "cell_type": "code",
   "execution_count": 8,
   "metadata": {},
   "outputs": [
    {
     "data": {
      "text/plain": [
       "date                   0\n",
       "hour                   0\n",
       "beat                   0\n",
       "offense_type           0\n",
       "premise                0\n",
       "num_offenses           0\n",
       "full_street_address    0\n",
       "dtype: int64"
      ]
     },
     "execution_count": 8,
     "metadata": {},
     "output_type": "execute_result"
    }
   ],
   "source": [
    "df.apply(lambda x: sum(x.isnull()))"
   ]
  },
  {
   "cell_type": "code",
   "execution_count": 9,
   "metadata": {},
   "outputs": [
    {
     "data": {
      "text/html": [
       "<div>\n",
       "<style scoped>\n",
       "    .dataframe tbody tr th:only-of-type {\n",
       "        vertical-align: middle;\n",
       "    }\n",
       "\n",
       "    .dataframe tbody tr th {\n",
       "        vertical-align: top;\n",
       "    }\n",
       "\n",
       "    .dataframe thead th {\n",
       "        text-align: right;\n",
       "    }\n",
       "</style>\n",
       "<table border=\"1\" class=\"dataframe\">\n",
       "  <thead>\n",
       "    <tr style=\"text-align: right;\">\n",
       "      <th></th>\n",
       "      <th>date</th>\n",
       "      <th>hour</th>\n",
       "      <th>beat</th>\n",
       "      <th>offense_type</th>\n",
       "      <th>premise</th>\n",
       "      <th>num_offenses</th>\n",
       "      <th>full_street_address</th>\n",
       "    </tr>\n",
       "  </thead>\n",
       "  <tbody>\n",
       "  </tbody>\n",
       "</table>\n",
       "</div>"
      ],
      "text/plain": [
       "Empty DataFrame\n",
       "Columns: [date, hour, beat, offense_type, premise, num_offenses, full_street_address]\n",
       "Index: []"
      ]
     },
     "execution_count": 9,
     "metadata": {},
     "output_type": "execute_result"
    }
   ],
   "source": [
    "df[df.isnull().any(axis=1)]"
   ]
  },
  {
   "cell_type": "markdown",
   "metadata": {},
   "source": [
    "## Select Beats"
   ]
  },
  {
   "cell_type": "code",
   "execution_count": 10,
   "metadata": {},
   "outputs": [],
   "source": [
    "beats = ['10H10','10H30', '10H40', '10H50', '10H60','10H70', '10H80', '15E40', '1A10']"
   ]
  },
  {
   "cell_type": "code",
   "execution_count": 11,
   "metadata": {},
   "outputs": [],
   "source": [
    "selected_beats = df.beat.isin(beats)"
   ]
  },
  {
   "cell_type": "code",
   "execution_count": 12,
   "metadata": {},
   "outputs": [],
   "source": [
    "data = df[selected_beats]"
   ]
  },
  {
   "cell_type": "code",
   "execution_count": 13,
   "metadata": {},
   "outputs": [
    {
     "name": "stdout",
     "output_type": "stream",
     "text": [
      "<class 'pandas.core.frame.DataFrame'>\n",
      "Int64Index: 85578 entries, 11 to 1006224\n",
      "Data columns (total 7 columns):\n",
      "date                   85578 non-null object\n",
      "hour                   85578 non-null int64\n",
      "beat                   85578 non-null object\n",
      "offense_type           85578 non-null object\n",
      "premise                85578 non-null object\n",
      "num_offenses           85578 non-null int64\n",
      "full_street_address    85578 non-null object\n",
      "dtypes: int64(2), object(5)\n",
      "memory usage: 5.2+ MB\n"
     ]
    }
   ],
   "source": [
    "data.info()"
   ]
  },
  {
   "cell_type": "code",
   "execution_count": 14,
   "metadata": {},
   "outputs": [
    {
     "data": {
      "text/html": [
       "<div>\n",
       "<style scoped>\n",
       "    .dataframe tbody tr th:only-of-type {\n",
       "        vertical-align: middle;\n",
       "    }\n",
       "\n",
       "    .dataframe tbody tr th {\n",
       "        vertical-align: top;\n",
       "    }\n",
       "\n",
       "    .dataframe thead th {\n",
       "        text-align: right;\n",
       "    }\n",
       "</style>\n",
       "<table border=\"1\" class=\"dataframe\">\n",
       "  <thead>\n",
       "    <tr style=\"text-align: right;\">\n",
       "      <th></th>\n",
       "      <th>date</th>\n",
       "      <th>hour</th>\n",
       "      <th>beat</th>\n",
       "      <th>offense_type</th>\n",
       "      <th>premise</th>\n",
       "      <th>num_offenses</th>\n",
       "      <th>full_street_address</th>\n",
       "    </tr>\n",
       "  </thead>\n",
       "  <tbody>\n",
       "    <tr>\n",
       "      <th>11</th>\n",
       "      <td>1916-05-23</td>\n",
       "      <td>19</td>\n",
       "      <td>10H70</td>\n",
       "      <td>Aggravated Assault</td>\n",
       "      <td>house</td>\n",
       "      <td>1</td>\n",
       "      <td>LIBERTY ROAD</td>\n",
       "    </tr>\n",
       "    <tr>\n",
       "      <th>19</th>\n",
       "      <td>1917-02-20</td>\n",
       "      <td>16</td>\n",
       "      <td>10H70</td>\n",
       "      <td>Theft</td>\n",
       "      <td>other_parking</td>\n",
       "      <td>1</td>\n",
       "      <td>7550 ARDMORE ST</td>\n",
       "    </tr>\n",
       "    <tr>\n",
       "      <th>34</th>\n",
       "      <td>1963-02-02</td>\n",
       "      <td>13</td>\n",
       "      <td>10H40</td>\n",
       "      <td>Theft</td>\n",
       "      <td>rehab_center</td>\n",
       "      <td>1</td>\n",
       "      <td>3850 MAIN ST</td>\n",
       "    </tr>\n",
       "    <tr>\n",
       "      <th>40</th>\n",
       "      <td>1966-01-01</td>\n",
       "      <td>0</td>\n",
       "      <td>10H50</td>\n",
       "      <td>Rape</td>\n",
       "      <td>apartment</td>\n",
       "      <td>1</td>\n",
       "      <td>3350 ALABAMA ST</td>\n",
       "    </tr>\n",
       "    <tr>\n",
       "      <th>47</th>\n",
       "      <td>1971-02-03</td>\n",
       "      <td>6</td>\n",
       "      <td>1A10</td>\n",
       "      <td>Theft</td>\n",
       "      <td>house</td>\n",
       "      <td>1</td>\n",
       "      <td>1250 TRAVIS</td>\n",
       "    </tr>\n",
       "  </tbody>\n",
       "</table>\n",
       "</div>"
      ],
      "text/plain": [
       "          date  hour   beat        offense_type        premise  num_offenses  \\\n",
       "11  1916-05-23    19  10H70  Aggravated Assault          house             1   \n",
       "19  1917-02-20    16  10H70               Theft  other_parking             1   \n",
       "34  1963-02-02    13  10H40               Theft   rehab_center             1   \n",
       "40  1966-01-01     0  10H50                Rape      apartment             1   \n",
       "47  1971-02-03     6   1A10               Theft          house             1   \n",
       "\n",
       "   full_street_address  \n",
       "11        LIBERTY ROAD  \n",
       "19     7550 ARDMORE ST  \n",
       "34        3850 MAIN ST  \n",
       "40     3350 ALABAMA ST  \n",
       "47         1250 TRAVIS  "
      ]
     },
     "execution_count": 14,
     "metadata": {},
     "output_type": "execute_result"
    }
   ],
   "source": [
    "data.head()"
   ]
  },
  {
   "cell_type": "code",
   "execution_count": 15,
   "metadata": {},
   "outputs": [],
   "source": [
    "data.reset_index(inplace=True)\n",
    "data.drop(['index'],axis=1,inplace=True)"
   ]
  },
  {
   "cell_type": "code",
   "execution_count": 16,
   "metadata": {},
   "outputs": [
    {
     "data": {
      "text/html": [
       "<div>\n",
       "<style scoped>\n",
       "    .dataframe tbody tr th:only-of-type {\n",
       "        vertical-align: middle;\n",
       "    }\n",
       "\n",
       "    .dataframe tbody tr th {\n",
       "        vertical-align: top;\n",
       "    }\n",
       "\n",
       "    .dataframe thead th {\n",
       "        text-align: right;\n",
       "    }\n",
       "</style>\n",
       "<table border=\"1\" class=\"dataframe\">\n",
       "  <thead>\n",
       "    <tr style=\"text-align: right;\">\n",
       "      <th></th>\n",
       "      <th>date</th>\n",
       "      <th>hour</th>\n",
       "      <th>beat</th>\n",
       "      <th>offense_type</th>\n",
       "      <th>premise</th>\n",
       "      <th>num_offenses</th>\n",
       "      <th>full_street_address</th>\n",
       "    </tr>\n",
       "  </thead>\n",
       "  <tbody>\n",
       "    <tr>\n",
       "      <th>0</th>\n",
       "      <td>1916-05-23</td>\n",
       "      <td>19</td>\n",
       "      <td>10H70</td>\n",
       "      <td>Aggravated Assault</td>\n",
       "      <td>house</td>\n",
       "      <td>1</td>\n",
       "      <td>LIBERTY ROAD</td>\n",
       "    </tr>\n",
       "    <tr>\n",
       "      <th>1</th>\n",
       "      <td>1917-02-20</td>\n",
       "      <td>16</td>\n",
       "      <td>10H70</td>\n",
       "      <td>Theft</td>\n",
       "      <td>other_parking</td>\n",
       "      <td>1</td>\n",
       "      <td>7550 ARDMORE ST</td>\n",
       "    </tr>\n",
       "    <tr>\n",
       "      <th>2</th>\n",
       "      <td>1963-02-02</td>\n",
       "      <td>13</td>\n",
       "      <td>10H40</td>\n",
       "      <td>Theft</td>\n",
       "      <td>rehab_center</td>\n",
       "      <td>1</td>\n",
       "      <td>3850 MAIN ST</td>\n",
       "    </tr>\n",
       "    <tr>\n",
       "      <th>3</th>\n",
       "      <td>1966-01-01</td>\n",
       "      <td>0</td>\n",
       "      <td>10H50</td>\n",
       "      <td>Rape</td>\n",
       "      <td>apartment</td>\n",
       "      <td>1</td>\n",
       "      <td>3350 ALABAMA ST</td>\n",
       "    </tr>\n",
       "    <tr>\n",
       "      <th>4</th>\n",
       "      <td>1971-02-03</td>\n",
       "      <td>6</td>\n",
       "      <td>1A10</td>\n",
       "      <td>Theft</td>\n",
       "      <td>house</td>\n",
       "      <td>1</td>\n",
       "      <td>1250 TRAVIS</td>\n",
       "    </tr>\n",
       "  </tbody>\n",
       "</table>\n",
       "</div>"
      ],
      "text/plain": [
       "         date  hour   beat        offense_type        premise  num_offenses  \\\n",
       "0  1916-05-23    19  10H70  Aggravated Assault          house             1   \n",
       "1  1917-02-20    16  10H70               Theft  other_parking             1   \n",
       "2  1963-02-02    13  10H40               Theft   rehab_center             1   \n",
       "3  1966-01-01     0  10H50                Rape      apartment             1   \n",
       "4  1971-02-03     6   1A10               Theft          house             1   \n",
       "\n",
       "  full_street_address  \n",
       "0        LIBERTY ROAD  \n",
       "1     7550 ARDMORE ST  \n",
       "2        3850 MAIN ST  \n",
       "3     3350 ALABAMA ST  \n",
       "4         1250 TRAVIS  "
      ]
     },
     "execution_count": 16,
     "metadata": {},
     "output_type": "execute_result"
    }
   ],
   "source": [
    "data.head()"
   ]
  },
  {
   "cell_type": "markdown",
   "metadata": {},
   "source": [
    "## Beats"
   ]
  },
  {
   "cell_type": "code",
   "execution_count": 17,
   "metadata": {},
   "outputs": [
    {
     "data": {
      "text/plain": [
       "15E40    16433\n",
       "1A10     15451\n",
       "10H70    11455\n",
       "10H40    10485\n",
       "10H50     8041\n",
       "10H60     7717\n",
       "10H80     7504\n",
       "10H30     4409\n",
       "10H10     4083\n",
       "Name: beat, dtype: int64"
      ]
     },
     "execution_count": 17,
     "metadata": {},
     "output_type": "execute_result"
    }
   ],
   "source": [
    "data.beat.value_counts()"
   ]
  },
  {
   "cell_type": "markdown",
   "metadata": {},
   "source": [
    "## save data"
   ]
  },
  {
   "cell_type": "code",
   "execution_count": 19,
   "metadata": {},
   "outputs": [],
   "source": [
    "data.to_csv(data_directory_saves+\"crime_beats_04.csv\")"
   ]
  },
  {
   "cell_type": "code",
   "execution_count": null,
   "metadata": {},
   "outputs": [],
   "source": []
  }
 ],
 "metadata": {
  "kernelspec": {
   "display_name": "Python 3",
   "language": "python",
   "name": "python3"
  },
  "language_info": {
   "codemirror_mode": {
    "name": "ipython",
    "version": 3
   },
   "file_extension": ".py",
   "mimetype": "text/x-python",
   "name": "python",
   "nbconvert_exporter": "python",
   "pygments_lexer": "ipython3",
   "version": "3.6.4"
  }
 },
 "nbformat": 4,
 "nbformat_minor": 2
}
