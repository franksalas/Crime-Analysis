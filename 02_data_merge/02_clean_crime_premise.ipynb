{
 "cells": [
  {
   "cell_type": "code",
   "execution_count": 1,
   "metadata": {},
   "outputs": [],
   "source": [
    "import warnings\n",
    "warnings.filterwarnings('ignore')"
   ]
  },
  {
   "cell_type": "code",
   "execution_count": 2,
   "metadata": {},
   "outputs": [],
   "source": [
    "import pandas as pd\n",
    "import glob, os\n",
    "import numpy as np\n",
    "import matplotlib.pyplot as plt\n",
    "import datetime  as dt\n",
    "import seaborn as sns\n",
    "import re"
   ]
  },
  {
   "cell_type": "code",
   "execution_count": 3,
   "metadata": {},
   "outputs": [],
   "source": [
    "data_folder = 'merge_data'"
   ]
  },
  {
   "cell_type": "code",
   "execution_count": 4,
   "metadata": {},
   "outputs": [],
   "source": [
    "# data folder path\n",
    "data_directory = os.path.join('..','data','clean_data/{}/crime_clean_01.csv'.format(data_folder))\n",
    "data_directory_saves = os.path.join( '..','data','clean_data','merge_data/')"
   ]
  },
  {
   "cell_type": "code",
   "execution_count": 5,
   "metadata": {},
   "outputs": [],
   "source": [
    "df = pd.read_csv(data_directory)"
   ]
  },
  {
   "cell_type": "code",
   "execution_count": 6,
   "metadata": {},
   "outputs": [
    {
     "name": "stdout",
     "output_type": "stream",
     "text": [
      "<class 'pandas.core.frame.DataFrame'>\n",
      "RangeIndex: 1006227 entries, 0 to 1006226\n",
      "Data columns (total 9 columns):\n",
      "date            1006227 non-null object\n",
      "hour            1006227 non-null int64\n",
      "beat            1006227 non-null object\n",
      "offense_type    1006227 non-null object\n",
      "block_range     1006227 non-null object\n",
      "street_name     1006225 non-null object\n",
      "premise         1006227 non-null object\n",
      "num_offenses    1006227 non-null int64\n",
      "type            1006227 non-null object\n",
      "dtypes: int64(2), object(7)\n",
      "memory usage: 69.1+ MB\n"
     ]
    }
   ],
   "source": [
    "df.info()"
   ]
  },
  {
   "cell_type": "code",
   "execution_count": 7,
   "metadata": {},
   "outputs": [
    {
     "data": {
      "text/html": [
       "<div>\n",
       "<style scoped>\n",
       "    .dataframe tbody tr th:only-of-type {\n",
       "        vertical-align: middle;\n",
       "    }\n",
       "\n",
       "    .dataframe tbody tr th {\n",
       "        vertical-align: top;\n",
       "    }\n",
       "\n",
       "    .dataframe thead th {\n",
       "        text-align: right;\n",
       "    }\n",
       "</style>\n",
       "<table border=\"1\" class=\"dataframe\">\n",
       "  <thead>\n",
       "    <tr style=\"text-align: right;\">\n",
       "      <th></th>\n",
       "      <th>date</th>\n",
       "      <th>hour</th>\n",
       "      <th>beat</th>\n",
       "      <th>offense_type</th>\n",
       "      <th>block_range</th>\n",
       "      <th>street_name</th>\n",
       "      <th>premise</th>\n",
       "      <th>num_offenses</th>\n",
       "      <th>type</th>\n",
       "    </tr>\n",
       "  </thead>\n",
       "  <tbody>\n",
       "    <tr>\n",
       "      <th>0</th>\n",
       "      <td>1914-09-08</td>\n",
       "      <td>7</td>\n",
       "      <td>24C60</td>\n",
       "      <td>Burglary</td>\n",
       "      <td>12700-12799</td>\n",
       "      <td>LAKE HOUSTON</td>\n",
       "      <td>Restaurant or Cafeteria</td>\n",
       "      <td>1</td>\n",
       "      <td>PKWY</td>\n",
       "    </tr>\n",
       "    <tr>\n",
       "      <th>1</th>\n",
       "      <td>1914-11-02</td>\n",
       "      <td>3</td>\n",
       "      <td>18F60</td>\n",
       "      <td>Burglary</td>\n",
       "      <td>8800-8899</td>\n",
       "      <td>BELLAIRE</td>\n",
       "      <td>Miscellaneous Business (Non-Specific)</td>\n",
       "      <td>1</td>\n",
       "      <td>BLVD</td>\n",
       "    </tr>\n",
       "    <tr>\n",
       "      <th>2</th>\n",
       "      <td>1914-12-03</td>\n",
       "      <td>19</td>\n",
       "      <td>12D20</td>\n",
       "      <td>Auto Theft</td>\n",
       "      <td>12800-12899</td>\n",
       "      <td>GULF</td>\n",
       "      <td>UNK</td>\n",
       "      <td>1</td>\n",
       "      <td>FWY</td>\n",
       "    </tr>\n",
       "    <tr>\n",
       "      <th>3</th>\n",
       "      <td>1915-01-05</td>\n",
       "      <td>22</td>\n",
       "      <td>3B10</td>\n",
       "      <td>Theft</td>\n",
       "      <td>3200-3299</td>\n",
       "      <td>MANGUM RD 180</td>\n",
       "      <td>Other Parking Lot</td>\n",
       "      <td>1</td>\n",
       "      <td>-</td>\n",
       "    </tr>\n",
       "    <tr>\n",
       "      <th>4</th>\n",
       "      <td>1915-01-14</td>\n",
       "      <td>23</td>\n",
       "      <td>5F10</td>\n",
       "      <td>Auto Theft</td>\n",
       "      <td>7000-7099</td>\n",
       "      <td>WESTVIEW</td>\n",
       "      <td>Apartment Parking Lot</td>\n",
       "      <td>1</td>\n",
       "      <td>DR</td>\n",
       "    </tr>\n",
       "  </tbody>\n",
       "</table>\n",
       "</div>"
      ],
      "text/plain": [
       "         date  hour   beat offense_type  block_range    street_name  \\\n",
       "0  1914-09-08     7  24C60     Burglary  12700-12799   LAKE HOUSTON   \n",
       "1  1914-11-02     3  18F60     Burglary    8800-8899       BELLAIRE   \n",
       "2  1914-12-03    19  12D20   Auto Theft  12800-12899           GULF   \n",
       "3  1915-01-05    22   3B10        Theft    3200-3299  MANGUM RD 180   \n",
       "4  1915-01-14    23   5F10   Auto Theft    7000-7099       WESTVIEW   \n",
       "\n",
       "                                 premise  num_offenses  type  \n",
       "0                Restaurant or Cafeteria             1  PKWY  \n",
       "1  Miscellaneous Business (Non-Specific)             1  BLVD  \n",
       "2                                    UNK             1   FWY  \n",
       "3                      Other Parking Lot             1     -  \n",
       "4                  Apartment Parking Lot             1    DR  "
      ]
     },
     "execution_count": 7,
     "metadata": {},
     "output_type": "execute_result"
    }
   ],
   "source": [
    "df.head()"
   ]
  },
  {
   "cell_type": "code",
   "execution_count": null,
   "metadata": {},
   "outputs": [],
   "source": []
  },
  {
   "cell_type": "code",
   "execution_count": null,
   "metadata": {},
   "outputs": [],
   "source": []
  },
  {
   "cell_type": "markdown",
   "metadata": {},
   "source": [
    "## cleanup premise column"
   ]
  },
  {
   "cell_type": "code",
   "execution_count": 8,
   "metadata": {},
   "outputs": [
    {
     "data": {
      "text/plain": [
       "384"
      ]
     },
     "execution_count": 8,
     "metadata": {},
     "output_type": "execute_result"
    }
   ],
   "source": [
    "len(df.premise.unique())"
   ]
  },
  {
   "cell_type": "code",
   "execution_count": 9,
   "metadata": {},
   "outputs": [
    {
     "data": {
      "text/plain": [
       "APARTMENT                    74377\n",
       "RESIDENCE/HOUSE              74346\n",
       "APARTMENT PARKING LOT        65458\n",
       "Residence or House           54141\n",
       "Apartment Parking Lot        44505\n",
       "ROAD/STREET/SIDEWALK         41659\n",
       "Road, Street, or Sidewalk    38983\n",
       "Apartment                    38773\n",
       "DRIVEWAY                     37014\n",
       "UNK                          35433\n",
       "Name: premise, dtype: int64"
      ]
     },
     "execution_count": 9,
     "metadata": {},
     "output_type": "execute_result"
    }
   ],
   "source": [
    "df.premise.value_counts()[:10]"
   ]
  },
  {
   "cell_type": "markdown",
   "metadata": {},
   "source": [
    "## lowercase all"
   ]
  },
  {
   "cell_type": "code",
   "execution_count": 10,
   "metadata": {},
   "outputs": [],
   "source": [
    "df.premise = df.premise.str.lower()"
   ]
  },
  {
   "cell_type": "code",
   "execution_count": 11,
   "metadata": {},
   "outputs": [
    {
     "data": {
      "text/plain": [
       "326"
      ]
     },
     "execution_count": 11,
     "metadata": {},
     "output_type": "execute_result"
    }
   ],
   "source": [
    "len(df.premise.unique())"
   ]
  },
  {
   "cell_type": "code",
   "execution_count": 12,
   "metadata": {},
   "outputs": [
    {
     "data": {
      "text/plain": [
       "apartment                    113150\n",
       "apartment parking lot        109963\n",
       "residence/house               74346\n",
       "residence or house            54141\n",
       "driveway                      52267\n",
       "other parking lot             44210\n",
       "road/street/sidewalk          41659\n",
       "road, street, or sidewalk     38983\n",
       "unk                           35433\n",
       "department/discount store     24960\n",
       "Name: premise, dtype: int64"
      ]
     },
     "execution_count": 12,
     "metadata": {},
     "output_type": "execute_result"
    }
   ],
   "source": [
    "df.premise.value_counts()[:10]"
   ]
  },
  {
   "cell_type": "code",
   "execution_count": 13,
   "metadata": {},
   "outputs": [],
   "source": [
    "df.premise = df.premise.str.strip()"
   ]
  },
  {
   "cell_type": "code",
   "execution_count": 14,
   "metadata": {},
   "outputs": [
    {
     "data": {
      "text/plain": [
       "206"
      ]
     },
     "execution_count": 14,
     "metadata": {},
     "output_type": "execute_result"
    }
   ],
   "source": [
    "len(df.premise.unique())"
   ]
  },
  {
   "cell_type": "code",
   "execution_count": 15,
   "metadata": {},
   "outputs": [
    {
     "data": {
      "text/plain": [
       "apartment                    114203\n",
       "apartment parking lot        111134\n",
       "residence/house               74346\n",
       "residence or house            55371\n",
       "driveway                      52736\n",
       "other parking lot             44765\n",
       "road/street/sidewalk          41659\n",
       "road, street, or sidewalk     40095\n",
       "unk                           35433\n",
       "department/discount store     24960\n",
       "Name: premise, dtype: int64"
      ]
     },
     "execution_count": 15,
     "metadata": {},
     "output_type": "execute_result"
    }
   ],
   "source": [
    "df.premise.value_counts()[:10]"
   ]
  },
  {
   "cell_type": "code",
   "execution_count": 16,
   "metadata": {},
   "outputs": [
    {
     "name": "stdout",
     "output_type": "stream",
     "text": [
      "<class 'pandas.core.frame.DataFrame'>\n",
      "RangeIndex: 1006227 entries, 0 to 1006226\n",
      "Data columns (total 9 columns):\n",
      "date            1006227 non-null object\n",
      "hour            1006227 non-null int64\n",
      "beat            1006227 non-null object\n",
      "offense_type    1006227 non-null object\n",
      "block_range     1006227 non-null object\n",
      "street_name     1006225 non-null object\n",
      "premise         1006227 non-null object\n",
      "num_offenses    1006227 non-null int64\n",
      "type            1006227 non-null object\n",
      "dtypes: int64(2), object(7)\n",
      "memory usage: 69.1+ MB\n"
     ]
    }
   ],
   "source": [
    "df.info()"
   ]
  },
  {
   "cell_type": "markdown",
   "metadata": {},
   "source": [
    "## Create two function\n",
    "- display results based on regex pattern\n",
    "- change results based on regex pattern to new value"
   ]
  },
  {
   "cell_type": "code",
   "execution_count": 17,
   "metadata": {},
   "outputs": [],
   "source": [
    "def clean_premise(pat,df):\n",
    "    fil = df.premise.str.contains(pat,regex=True)\n",
    "    result = df[fil].premise.value_counts()\n",
    "    return result"
   ]
  },
  {
   "cell_type": "code",
   "execution_count": 18,
   "metadata": {},
   "outputs": [],
   "source": [
    "def change_premise(pat,df,new_premise):\n",
    "    df.premise = df.premise.replace(pat,new_premise,regex=True)"
   ]
  },
  {
   "cell_type": "code",
   "execution_count": 19,
   "metadata": {},
   "outputs": [
    {
     "data": {
      "text/plain": [
       "vacant single occupancy residence (houses,townhouses,duplexes, etc.)                  2104\n",
       "vacant single occ resd(house,townhs,dplex)                                            1547\n",
       "vacant building (commercial)                                                           836\n",
       "vacant other residential (apartment,dorms)                                             420\n",
       "vacant other residential (apartment,inn,dorms,boarding house)                          382\n",
       "vacant storage fac (barn,garage,warehouse)                                             342\n",
       "vacant grocery store or supermarket                                                    172\n",
       "vacant storage facility (barns,garages,warehouses,etc.)                                159\n",
       "vacant other out build/monument/underconst                                             157\n",
       "vacant restaurant                                                                      151\n",
       "vacant other structure (out buildings,monuments,buildings under construction,etc.)     140\n",
       "vacant industrial/manufacturing/industrial                                              74\n",
       "vacant church/synagogue/temple                                                          55\n",
       "vacant school or college/university                                                     41\n",
       "vacant hotel, motel, etc.                                                               40\n",
       "vacant grocery/supermarket                                                              39\n",
       "vacant hotel/motel/etc.                                                                 36\n",
       "vacant hospital                                                                         31\n",
       "vacant government/public building                                                       29\n",
       "vacant church, synagogue, or temple                                                     25\n",
       "vacant industrial or manufacturing blding                                               24\n",
       "vacant school/college                                                                   23\n",
       "vacant government or public building                                                    18\n",
       "vacant bank                                                                              5\n",
       "vacant jail or prison                                                                    1\n",
       "Name: premise, dtype: int64"
      ]
     },
     "execution_count": 19,
     "metadata": {},
     "output_type": "execute_result"
    }
   ],
   "source": [
    "word1 = 'vacant'\n",
    "pat = r\"^(?=.*\\b{}\\b).*$\".format(word1)\n",
    "clean_premise(pat,df)"
   ]
  },
  {
   "cell_type": "code",
   "execution_count": 20,
   "metadata": {},
   "outputs": [],
   "source": [
    "change_premise(pat,df,'vacant_structure')"
   ]
  },
  {
   "cell_type": "code",
   "execution_count": null,
   "metadata": {},
   "outputs": [],
   "source": []
  },
  {
   "cell_type": "markdown",
   "metadata": {},
   "source": [
    "## road"
   ]
  },
  {
   "cell_type": "code",
   "execution_count": 21,
   "metadata": {},
   "outputs": [],
   "source": [
    "word1 = 'road'\n",
    "word2 = 'street'"
   ]
  },
  {
   "cell_type": "code",
   "execution_count": 22,
   "metadata": {},
   "outputs": [
    {
     "data": {
      "text/plain": [
       "road/street/sidewalk         41659\n",
       "road, street, or sidewalk    40095\n",
       "Name: premise, dtype: int64"
      ]
     },
     "execution_count": 22,
     "metadata": {},
     "output_type": "execute_result"
    }
   ],
   "source": [
    "pat = r\"^(?=.*\\b{}\\b)(?=.*\\b{}\\b).*$\".format(word1,word2)\n",
    "clean_premise(pat,df)"
   ]
  },
  {
   "cell_type": "code",
   "execution_count": 23,
   "metadata": {},
   "outputs": [],
   "source": [
    "change_premise(pat,df,'road_street_sidewalk')"
   ]
  },
  {
   "cell_type": "code",
   "execution_count": null,
   "metadata": {},
   "outputs": [],
   "source": []
  },
  {
   "cell_type": "code",
   "execution_count": 24,
   "metadata": {},
   "outputs": [
    {
     "data": {
      "text/plain": [
       "apartment                            114203\n",
       "apartment parking lot                111134\n",
       "road_street_sidewalk                  81754\n",
       "residence/house                       74346\n",
       "residence or house                    55371\n",
       "driveway                              52736\n",
       "other parking lot                     44765\n",
       "unk                                   35433\n",
       "department/discount store             24960\n",
       "strip business center parking lot     18597\n",
       "Name: premise, dtype: int64"
      ]
     },
     "execution_count": 24,
     "metadata": {},
     "output_type": "execute_result"
    }
   ],
   "source": [
    "df.premise.value_counts()[:10]"
   ]
  },
  {
   "cell_type": "markdown",
   "metadata": {},
   "source": [
    "## apartment parking"
   ]
  },
  {
   "cell_type": "code",
   "execution_count": 25,
   "metadata": {},
   "outputs": [],
   "source": [
    "word1 = 'apartment'\n",
    "word2 = 'parking'"
   ]
  },
  {
   "cell_type": "code",
   "execution_count": 26,
   "metadata": {},
   "outputs": [
    {
     "data": {
      "text/plain": [
       "apartment parking lot    111134\n",
       "Name: premise, dtype: int64"
      ]
     },
     "execution_count": 26,
     "metadata": {},
     "output_type": "execute_result"
    }
   ],
   "source": [
    "pat = r\"^(?=.*\\b{}\\b)(?=.*\\b{}\\b).*$\".format(word1,word2)\n",
    "clean_premise(pat,df)"
   ]
  },
  {
   "cell_type": "code",
   "execution_count": 27,
   "metadata": {},
   "outputs": [],
   "source": [
    "change_premise(pat,df,'apartment_parking')"
   ]
  },
  {
   "cell_type": "code",
   "execution_count": 28,
   "metadata": {},
   "outputs": [
    {
     "data": {
      "text/plain": [
       "apartment                            114203\n",
       "apartment_parking                    111134\n",
       "road_street_sidewalk                  81754\n",
       "residence/house                       74346\n",
       "residence or house                    55371\n",
       "driveway                              52736\n",
       "other parking lot                     44765\n",
       "unk                                   35433\n",
       "department/discount store             24960\n",
       "strip business center parking lot     18597\n",
       "Name: premise, dtype: int64"
      ]
     },
     "execution_count": 28,
     "metadata": {},
     "output_type": "execute_result"
    }
   ],
   "source": [
    "df.premise.value_counts()[:10]"
   ]
  },
  {
   "cell_type": "markdown",
   "metadata": {},
   "source": [
    "## residence"
   ]
  },
  {
   "cell_type": "code",
   "execution_count": 29,
   "metadata": {},
   "outputs": [
    {
     "data": {
      "text/plain": [
       "residence/house       74346\n",
       "residence or house    55371\n",
       "Name: premise, dtype: int64"
      ]
     },
     "execution_count": 29,
     "metadata": {},
     "output_type": "execute_result"
    }
   ],
   "source": [
    "word1 = 'residence'\n",
    "word2 = 'house'\n",
    "\n",
    "pat = r\"^(?=.*\\b{}\\b)(?=.*\\b{}\\b).*$\".format(word1,word2)\n",
    "clean_premise(pat,df)"
   ]
  },
  {
   "cell_type": "code",
   "execution_count": 30,
   "metadata": {},
   "outputs": [],
   "source": [
    "change_premise(pat,df,'house')"
   ]
  },
  {
   "cell_type": "code",
   "execution_count": 31,
   "metadata": {},
   "outputs": [
    {
     "data": {
      "text/plain": [
       "house                                129717\n",
       "apartment                            114203\n",
       "apartment_parking                    111134\n",
       "road_street_sidewalk                  81754\n",
       "driveway                              52736\n",
       "other parking lot                     44765\n",
       "unk                                   35433\n",
       "department/discount store             24960\n",
       "strip business center parking lot     18597\n",
       "restaurant/cafeteria parking lot      16952\n",
       "Name: premise, dtype: int64"
      ]
     },
     "execution_count": 31,
     "metadata": {},
     "output_type": "execute_result"
    }
   ],
   "source": [
    "df.premise.value_counts()[:10]"
   ]
  },
  {
   "cell_type": "markdown",
   "metadata": {},
   "source": [
    "## commercial parking"
   ]
  },
  {
   "cell_type": "code",
   "execution_count": 32,
   "metadata": {},
   "outputs": [
    {
     "data": {
      "text/plain": [
       "commercial parking lot/garage       13878\n",
       "commercial parking lot or garage    10451\n",
       "Name: premise, dtype: int64"
      ]
     },
     "execution_count": 32,
     "metadata": {},
     "output_type": "execute_result"
    }
   ],
   "source": [
    "word1 = 'commercial'\n",
    "word2 = 'parking'\n",
    "\n",
    "pat = r\"^(?=.*\\b{}\\b)(?=.*\\b{}\\b).*$\".format(word1,word2)\n",
    "clean_premise(pat,df)"
   ]
  },
  {
   "cell_type": "code",
   "execution_count": 33,
   "metadata": {},
   "outputs": [],
   "source": [
    "change_premise(pat,df,'commercial_parking')"
   ]
  },
  {
   "cell_type": "code",
   "execution_count": 34,
   "metadata": {},
   "outputs": [
    {
     "data": {
      "text/plain": [
       "house                                129717\n",
       "apartment                            114203\n",
       "apartment_parking                    111134\n",
       "road_street_sidewalk                  81754\n",
       "driveway                              52736\n",
       "other parking lot                     44765\n",
       "unk                                   35433\n",
       "department/discount store             24960\n",
       "commercial_parking                    24329\n",
       "strip business center parking lot     18597\n",
       "Name: premise, dtype: int64"
      ]
     },
     "execution_count": 34,
     "metadata": {},
     "output_type": "execute_result"
    }
   ],
   "source": [
    "df.premise.value_counts()[:10]"
   ]
  },
  {
   "cell_type": "markdown",
   "metadata": {},
   "source": [
    "## restaurant parking"
   ]
  },
  {
   "cell_type": "code",
   "execution_count": 35,
   "metadata": {},
   "outputs": [
    {
     "data": {
      "text/plain": [
       "restaurant/cafeteria parking lot       16952\n",
       "restaurant or cafeteria parking lot    15517\n",
       "Name: premise, dtype: int64"
      ]
     },
     "execution_count": 35,
     "metadata": {},
     "output_type": "execute_result"
    }
   ],
   "source": [
    "word1 = 'restaurant'\n",
    "word2 = 'parking'\n",
    "\n",
    "pat = r\"^(?=.*\\b{}\\b)(?=.*\\b{}\\b).*$\".format(word1,word2)\n",
    "clean_premise(pat,df)"
   ]
  },
  {
   "cell_type": "code",
   "execution_count": 36,
   "metadata": {},
   "outputs": [],
   "source": [
    "change_premise(pat,df,'restaurant_parking')"
   ]
  },
  {
   "cell_type": "code",
   "execution_count": 37,
   "metadata": {},
   "outputs": [
    {
     "data": {
      "text/plain": [
       "house                        129717\n",
       "apartment                    114203\n",
       "apartment_parking            111134\n",
       "road_street_sidewalk          81754\n",
       "driveway                      52736\n",
       "other parking lot             44765\n",
       "unk                           35433\n",
       "restaurant_parking            32469\n",
       "department/discount store     24960\n",
       "commercial_parking            24329\n",
       "Name: premise, dtype: int64"
      ]
     },
     "execution_count": 37,
     "metadata": {},
     "output_type": "execute_result"
    }
   ],
   "source": [
    "df.premise.value_counts()[:10]"
   ]
  },
  {
   "cell_type": "code",
   "execution_count": 38,
   "metadata": {},
   "outputs": [
    {
     "data": {
      "text/plain": [
       "bar/night club parking lot       6172\n",
       "bar or night club parking lot    3927\n",
       "Name: premise, dtype: int64"
      ]
     },
     "execution_count": 38,
     "metadata": {},
     "output_type": "execute_result"
    }
   ],
   "source": [
    "word1 = 'club'\n",
    "word2 = 'parking'\n",
    "\n",
    "pat = r\"^(?=.*\\b{}\\b)(?=.*\\b{}\\b).*$\".format(word1,word2)\n",
    "clean_premise(pat,df)"
   ]
  },
  {
   "cell_type": "code",
   "execution_count": 39,
   "metadata": {},
   "outputs": [],
   "source": [
    "change_premise(pat,df,'bar_club_parking')"
   ]
  },
  {
   "cell_type": "code",
   "execution_count": 40,
   "metadata": {},
   "outputs": [
    {
     "data": {
      "text/plain": [
       "house                        129717\n",
       "apartment                    114203\n",
       "apartment_parking            111134\n",
       "road_street_sidewalk          81754\n",
       "driveway                      52736\n",
       "other parking lot             44765\n",
       "unk                           35433\n",
       "restaurant_parking            32469\n",
       "department/discount store     24960\n",
       "commercial_parking            24329\n",
       "Name: premise, dtype: int64"
      ]
     },
     "execution_count": 40,
     "metadata": {},
     "output_type": "execute_result"
    }
   ],
   "source": [
    "df.premise.value_counts()[:10]"
   ]
  },
  {
   "cell_type": "code",
   "execution_count": 41,
   "metadata": {},
   "outputs": [
    {
     "data": {
      "text/plain": [
       "bar/night club       5603\n",
       "bar or night club    3403\n",
       "Name: premise, dtype: int64"
      ]
     },
     "execution_count": 41,
     "metadata": {},
     "output_type": "execute_result"
    }
   ],
   "source": [
    "word1 = 'club'\n",
    "word2 = 'bar'\n",
    "\n",
    "pat = r\"^(?=.*\\b{}\\b)(?=.*\\b{}\\b).*$\".format(word1,word2)\n",
    "clean_premise(pat,df)"
   ]
  },
  {
   "cell_type": "code",
   "execution_count": 42,
   "metadata": {},
   "outputs": [],
   "source": [
    "change_premise(pat,df,'bar_club')"
   ]
  },
  {
   "cell_type": "code",
   "execution_count": 43,
   "metadata": {},
   "outputs": [
    {
     "data": {
      "text/plain": [
       "house                        129717\n",
       "apartment                    114203\n",
       "apartment_parking            111134\n",
       "road_street_sidewalk          81754\n",
       "driveway                      52736\n",
       "other parking lot             44765\n",
       "unk                           35433\n",
       "restaurant_parking            32469\n",
       "department/discount store     24960\n",
       "commercial_parking            24329\n",
       "Name: premise, dtype: int64"
      ]
     },
     "execution_count": 43,
     "metadata": {},
     "output_type": "execute_result"
    }
   ],
   "source": [
    "df.premise.value_counts()[:10]"
   ]
  },
  {
   "cell_type": "code",
   "execution_count": 44,
   "metadata": {},
   "outputs": [
    {
     "data": {
      "text/plain": [
       "grocery/supermarket parking lot             6596\n",
       "grocery store or supermarket parking lot    5298\n",
       "Name: premise, dtype: int64"
      ]
     },
     "execution_count": 44,
     "metadata": {},
     "output_type": "execute_result"
    }
   ],
   "source": [
    "word1 = 'grocery'\n",
    "word2 = 'parking'\n",
    "\n",
    "pat = r\"^(?=.*\\b{}\\b)(?=.*\\b{}\\b).*$\".format(word1,word2)\n",
    "clean_premise(pat,df)"
   ]
  },
  {
   "cell_type": "code",
   "execution_count": 45,
   "metadata": {},
   "outputs": [],
   "source": [
    "change_premise(pat,df,'supermarket_parking')"
   ]
  },
  {
   "cell_type": "code",
   "execution_count": 46,
   "metadata": {},
   "outputs": [
    {
     "data": {
      "text/plain": [
       "house                        129717\n",
       "apartment                    114203\n",
       "apartment_parking            111134\n",
       "road_street_sidewalk          81754\n",
       "driveway                      52736\n",
       "other parking lot             44765\n",
       "unk                           35433\n",
       "restaurant_parking            32469\n",
       "department/discount store     24960\n",
       "commercial_parking            24329\n",
       "Name: premise, dtype: int64"
      ]
     },
     "execution_count": 46,
     "metadata": {},
     "output_type": "execute_result"
    }
   ],
   "source": [
    "df.premise.value_counts()[:10]"
   ]
  },
  {
   "cell_type": "code",
   "execution_count": 47,
   "metadata": {},
   "outputs": [
    {
     "data": {
      "text/plain": [
       "grocery/supermarket             13173\n",
       "grocery store or supermarket     7931\n",
       "Name: premise, dtype: int64"
      ]
     },
     "execution_count": 47,
     "metadata": {},
     "output_type": "execute_result"
    }
   ],
   "source": [
    "word1 = 'grocery'\n",
    "word2 = 'supermarket'\n",
    "\n",
    "pat = r\"^(?=.*\\b{}\\b)(?=.*\\b{}\\b).*$\".format(word1,word2)\n",
    "clean_premise(pat,df)"
   ]
  },
  {
   "cell_type": "code",
   "execution_count": 48,
   "metadata": {},
   "outputs": [],
   "source": [
    "change_premise(pat,df,'supermarket')"
   ]
  },
  {
   "cell_type": "code",
   "execution_count": 49,
   "metadata": {},
   "outputs": [
    {
     "data": {
      "text/plain": [
       "house                        129717\n",
       "apartment                    114203\n",
       "apartment_parking            111134\n",
       "road_street_sidewalk          81754\n",
       "driveway                      52736\n",
       "other parking lot             44765\n",
       "unk                           35433\n",
       "restaurant_parking            32469\n",
       "department/discount store     24960\n",
       "commercial_parking            24329\n",
       "Name: premise, dtype: int64"
      ]
     },
     "execution_count": 49,
     "metadata": {},
     "output_type": "execute_result"
    }
   ],
   "source": [
    "df.premise.value_counts()[:10]"
   ]
  },
  {
   "cell_type": "code",
   "execution_count": 50,
   "metadata": {},
   "outputs": [
    {
     "data": {
      "text/plain": [
       "department/discount store       24960\n",
       "department or discount store    13194\n",
       "Name: premise, dtype: int64"
      ]
     },
     "execution_count": 50,
     "metadata": {},
     "output_type": "execute_result"
    }
   ],
   "source": [
    "\n",
    "\n",
    "\n",
    "word1 = 'department'\n",
    "word2 = 'discount'\n",
    "\n",
    "pat = r\"^(?=.*\\b{}\\b)(?=.*\\b{}\\b).*$\".format(word1,word2)\n",
    "clean_premise(pat,df)"
   ]
  },
  {
   "cell_type": "code",
   "execution_count": 51,
   "metadata": {},
   "outputs": [],
   "source": [
    "change_premise(pat,df,'department_store')"
   ]
  },
  {
   "cell_type": "code",
   "execution_count": 52,
   "metadata": {},
   "outputs": [
    {
     "data": {
      "text/plain": [
       "house                   129717\n",
       "apartment               114203\n",
       "apartment_parking       111134\n",
       "road_street_sidewalk     81754\n",
       "driveway                 52736\n",
       "other parking lot        44765\n",
       "department_store         38154\n",
       "unk                      35433\n",
       "restaurant_parking       32469\n",
       "commercial_parking       24329\n",
       "Name: premise, dtype: int64"
      ]
     },
     "execution_count": 52,
     "metadata": {},
     "output_type": "execute_result"
    }
   ],
   "source": [
    "df.premise.value_counts()[:10]"
   ]
  },
  {
   "cell_type": "code",
   "execution_count": 53,
   "metadata": {},
   "outputs": [
    {
     "data": {
      "text/plain": [
       "hotel/motel parking lot       7476\n",
       "hotel or motel parking lot    5923\n",
       "Name: premise, dtype: int64"
      ]
     },
     "execution_count": 53,
     "metadata": {},
     "output_type": "execute_result"
    }
   ],
   "source": [
    "word1 = 'hotel'\n",
    "word2 = 'parking'\n",
    "\n",
    "pat = r\"^(?=.*\\b{}\\b)(?=.*\\b{}\\b).*$\".format(word1,word2)\n",
    "clean_premise(pat,df)"
   ]
  },
  {
   "cell_type": "code",
   "execution_count": 54,
   "metadata": {},
   "outputs": [],
   "source": [
    "change_premise(pat,df,'hotel_motel_parking')"
   ]
  },
  {
   "cell_type": "code",
   "execution_count": 55,
   "metadata": {},
   "outputs": [
    {
     "data": {
      "text/plain": [
       "house                   129717\n",
       "apartment               114203\n",
       "apartment_parking       111134\n",
       "road_street_sidewalk     81754\n",
       "driveway                 52736\n",
       "other parking lot        44765\n",
       "department_store         38154\n",
       "unk                      35433\n",
       "restaurant_parking       32469\n",
       "commercial_parking       24329\n",
       "Name: premise, dtype: int64"
      ]
     },
     "execution_count": 55,
     "metadata": {},
     "output_type": "execute_result"
    }
   ],
   "source": [
    "df.premise.value_counts()[:10]"
   ]
  },
  {
   "cell_type": "code",
   "execution_count": 56,
   "metadata": {},
   "outputs": [
    {
     "data": {
      "text/plain": [
       "hotel/motel/etc.           4630\n",
       "hotel, motel, inn, etc.    4150\n",
       "Name: premise, dtype: int64"
      ]
     },
     "execution_count": 56,
     "metadata": {},
     "output_type": "execute_result"
    }
   ],
   "source": [
    "word1 = 'hotel'\n",
    "word2 = 'motel'\n",
    "\n",
    "pat = r\"^(?=.*\\b{}\\b)(?=.*\\b{}\\b).*$\".format(word1,word2)\n",
    "clean_premise(pat,df)"
   ]
  },
  {
   "cell_type": "code",
   "execution_count": 57,
   "metadata": {},
   "outputs": [],
   "source": [
    "change_premise(pat,df,'hotel_motel')"
   ]
  },
  {
   "cell_type": "code",
   "execution_count": 58,
   "metadata": {},
   "outputs": [
    {
     "data": {
      "text/plain": [
       "house                   129717\n",
       "apartment               114203\n",
       "apartment_parking       111134\n",
       "road_street_sidewalk     81754\n",
       "driveway                 52736\n",
       "other parking lot        44765\n",
       "department_store         38154\n",
       "unk                      35433\n",
       "restaurant_parking       32469\n",
       "commercial_parking       24329\n",
       "Name: premise, dtype: int64"
      ]
     },
     "execution_count": 58,
     "metadata": {},
     "output_type": "execute_result"
    }
   ],
   "source": [
    "df.premise.value_counts()[:10]"
   ]
  },
  {
   "cell_type": "code",
   "execution_count": 59,
   "metadata": {},
   "outputs": [
    {
     "data": {
      "text/plain": [
       "restaurant/cafeteria       9108\n",
       "restaurant or cafeteria    6198\n",
       "Name: premise, dtype: int64"
      ]
     },
     "execution_count": 59,
     "metadata": {},
     "output_type": "execute_result"
    }
   ],
   "source": [
    "word1 = 'restaurant'\n",
    "word2 = 'cafeteria'\n",
    "\n",
    "pat = r\"^(?=.*\\b{}\\b)(?=.*\\b{}\\b).*$\".format(word1,word2)\n",
    "clean_premise(pat,df)"
   ]
  },
  {
   "cell_type": "code",
   "execution_count": 60,
   "metadata": {},
   "outputs": [],
   "source": [
    "change_premise(pat,df,'restaurant')"
   ]
  },
  {
   "cell_type": "code",
   "execution_count": 61,
   "metadata": {},
   "outputs": [
    {
     "data": {
      "text/plain": [
       "house                   129717\n",
       "apartment               114203\n",
       "apartment_parking       111134\n",
       "road_street_sidewalk     81754\n",
       "driveway                 52736\n",
       "other parking lot        44765\n",
       "department_store         38154\n",
       "unk                      35433\n",
       "restaurant_parking       32469\n",
       "commercial_parking       24329\n",
       "Name: premise, dtype: int64"
      ]
     },
     "execution_count": 61,
     "metadata": {},
     "output_type": "execute_result"
    }
   ],
   "source": [
    "df.premise.value_counts()[:10]"
   ]
  },
  {
   "cell_type": "code",
   "execution_count": 62,
   "metadata": {},
   "outputs": [
    {
     "data": {
      "text/plain": [
       "service or gas station    9570\n",
       "service/gas station       7680\n",
       "Name: premise, dtype: int64"
      ]
     },
     "execution_count": 62,
     "metadata": {},
     "output_type": "execute_result"
    }
   ],
   "source": [
    "word1 = 'gas'\n",
    "word2 = 'station'\n",
    "\n",
    "pat = r\"^(?=.*\\b{}\\b)(?=.*\\b{}\\b).*$\".format(word1,word2)\n",
    "clean_premise(pat,df)"
   ]
  },
  {
   "cell_type": "code",
   "execution_count": 63,
   "metadata": {},
   "outputs": [],
   "source": [
    "change_premise(pat,df,'gas_station')"
   ]
  },
  {
   "cell_type": "code",
   "execution_count": 64,
   "metadata": {},
   "outputs": [
    {
     "data": {
      "text/plain": [
       "house                   129717\n",
       "apartment               114203\n",
       "apartment_parking       111134\n",
       "road_street_sidewalk     81754\n",
       "driveway                 52736\n",
       "other parking lot        44765\n",
       "department_store         38154\n",
       "unk                      35433\n",
       "restaurant_parking       32469\n",
       "commercial_parking       24329\n",
       "Name: premise, dtype: int64"
      ]
     },
     "execution_count": 64,
     "metadata": {},
     "output_type": "execute_result"
    }
   ],
   "source": [
    "df.premise.value_counts()[:10]"
   ]
  },
  {
   "cell_type": "code",
   "execution_count": 65,
   "metadata": {},
   "outputs": [
    {
     "data": {
      "text/plain": [
       "hospital parking lot    2071\n",
       "Name: premise, dtype: int64"
      ]
     },
     "execution_count": 65,
     "metadata": {},
     "output_type": "execute_result"
    }
   ],
   "source": [
    "word1 = 'hospital'\n",
    "word2 = 'parking'\n",
    "\n",
    "pat = r\"^(?=.*\\b{}\\b)(?=.*\\b{}\\b).*$\".format(word1,word2)\n",
    "clean_premise(pat,df)"
   ]
  },
  {
   "cell_type": "code",
   "execution_count": 66,
   "metadata": {},
   "outputs": [],
   "source": [
    "change_premise(pat,df,'hospital_parking')"
   ]
  },
  {
   "cell_type": "code",
   "execution_count": 67,
   "metadata": {},
   "outputs": [
    {
     "data": {
      "text/plain": [
       "supermarket                              21104\n",
       "strip business center parking lot        18597\n",
       "gas_station                              17250\n",
       "other/unknown                            16634\n",
       "restaurant                               15306\n",
       "hotel_motel_parking                      13399\n",
       "convenience store                        12957\n",
       "supermarket_parking                      11894\n",
       "miscellaneous business (non-specific)    10682\n",
       "bar_club_parking                         10099\n",
       "Name: premise, dtype: int64"
      ]
     },
     "execution_count": 67,
     "metadata": {},
     "output_type": "execute_result"
    }
   ],
   "source": [
    "df.premise.value_counts()[10:20]"
   ]
  },
  {
   "cell_type": "code",
   "execution_count": 68,
   "metadata": {},
   "outputs": [
    {
     "data": {
      "text/plain": [
       "convenience store parking lot    8474\n",
       "Name: premise, dtype: int64"
      ]
     },
     "execution_count": 68,
     "metadata": {},
     "output_type": "execute_result"
    }
   ],
   "source": [
    "word1 = 'convenience'\n",
    "word2 = 'store'\n",
    "word3 = 'parking'\n",
    "pat = r\"^(?=.*\\b{}\\b)(?=.*\\b{}\\b)(?=.*\\b{}\\b).*$\".format(word1,word2,word3)\n",
    "clean_premise(pat,df)"
   ]
  },
  {
   "cell_type": "code",
   "execution_count": 69,
   "metadata": {},
   "outputs": [],
   "source": [
    "change_premise(pat,df,'convenience_store_parking')"
   ]
  },
  {
   "cell_type": "code",
   "execution_count": 70,
   "metadata": {},
   "outputs": [
    {
     "data": {
      "text/plain": [
       "convenience store    12957\n",
       "Name: premise, dtype: int64"
      ]
     },
     "execution_count": 70,
     "metadata": {},
     "output_type": "execute_result"
    }
   ],
   "source": [
    "word1 = 'convenience'\n",
    "word2 = 'store'\n",
    "pat = r\"^(?=.*\\b{}\\b)(?=.*\\b{}\\b).*$\".format(word1,word2)\n",
    "clean_premise(pat,df)"
   ]
  },
  {
   "cell_type": "code",
   "execution_count": 71,
   "metadata": {},
   "outputs": [],
   "source": [
    "change_premise(pat,df,'convenience_store')"
   ]
  },
  {
   "cell_type": "code",
   "execution_count": 72,
   "metadata": {},
   "outputs": [
    {
     "data": {
      "text/plain": [
       "bar_club                          9006\n",
       "hotel_motel                       8780\n",
       "convenience_store_parking         8474\n",
       "commercial building               7771\n",
       "specialty store (non-specific)    7757\n",
       "mall parking lot                  7445\n",
       "other, unknown, or not listed     7197\n",
       "vacant_structure                  6851\n",
       "office building                   5436\n",
       "clothing store                    4987\n",
       "Name: premise, dtype: int64"
      ]
     },
     "execution_count": 72,
     "metadata": {},
     "output_type": "execute_result"
    }
   ],
   "source": [
    "df.premise.value_counts()[20:30]"
   ]
  },
  {
   "cell_type": "code",
   "execution_count": 73,
   "metadata": {},
   "outputs": [
    {
     "data": {
      "text/plain": [
       "commercial building                 7771\n",
       "office building                     5436\n",
       "government/public building           497\n",
       "government or public building        406\n",
       "maintenance/building services        341\n",
       "maintenance or building services     238\n",
       "Name: premise, dtype: int64"
      ]
     },
     "execution_count": 73,
     "metadata": {},
     "output_type": "execute_result"
    }
   ],
   "source": [
    "word1 = 'building'\n",
    "pat = r\"^(?=.*\\b{}\\b).*$\".format(word1)\n",
    "clean_premise(pat,df)"
   ]
  },
  {
   "cell_type": "code",
   "execution_count": 74,
   "metadata": {},
   "outputs": [],
   "source": [
    "change_premise(pat,df,'building')"
   ]
  },
  {
   "cell_type": "code",
   "execution_count": 75,
   "metadata": {},
   "outputs": [
    {
     "data": {
      "text/plain": [
       "bar_club_parking                  10099\n",
       "bar_club                           9006\n",
       "hotel_motel                        8780\n",
       "convenience_store_parking          8474\n",
       "specialty store (non-specific)     7757\n",
       "mall parking lot                   7445\n",
       "other, unknown, or not listed      7197\n",
       "vacant_structure                   6851\n",
       "clothing store                     4987\n",
       "misc. business (non-specific)      4857\n",
       "Name: premise, dtype: int64"
      ]
     },
     "execution_count": 75,
     "metadata": {},
     "output_type": "execute_result"
    }
   ],
   "source": [
    "df.premise.value_counts()[20:30]"
   ]
  },
  {
   "cell_type": "code",
   "execution_count": 76,
   "metadata": {},
   "outputs": [
    {
     "data": {
      "text/plain": [
       "construction site    3849\n",
       "Name: premise, dtype: int64"
      ]
     },
     "execution_count": 76,
     "metadata": {},
     "output_type": "execute_result"
    }
   ],
   "source": [
    "word1 = 'construction'\n",
    "word2 = 'site'\n",
    "pat = r\"^(?=.*\\b{}\\b)(?=.*\\b{}\\b).*$\".format(word1,word2)\n",
    "clean_premise(pat,df)"
   ]
  },
  {
   "cell_type": "code",
   "execution_count": 77,
   "metadata": {},
   "outputs": [],
   "source": [
    "change_premise(pat,df,'construction_site')"
   ]
  },
  {
   "cell_type": "code",
   "execution_count": 78,
   "metadata": {},
   "outputs": [
    {
     "data": {
      "text/plain": [
       "bar_club_parking                  10099\n",
       "bar_club                           9006\n",
       "hotel_motel                        8780\n",
       "convenience_store_parking          8474\n",
       "specialty store (non-specific)     7757\n",
       "mall parking lot                   7445\n",
       "other, unknown, or not listed      7197\n",
       "vacant_structure                   6851\n",
       "clothing store                     4987\n",
       "misc. business (non-specific)      4857\n",
       "Name: premise, dtype: int64"
      ]
     },
     "execution_count": 78,
     "metadata": {},
     "output_type": "execute_result"
    }
   ],
   "source": [
    "df.premise.value_counts()[20:30]"
   ]
  },
  {
   "cell_type": "code",
   "execution_count": 79,
   "metadata": {},
   "outputs": [
    {
     "data": {
      "text/plain": [
       "bus stop       2169\n",
       "bus station    1006\n",
       "Name: premise, dtype: int64"
      ]
     },
     "execution_count": 79,
     "metadata": {},
     "output_type": "execute_result"
    }
   ],
   "source": [
    "word1 = 'bus'\n",
    "pat = r\"^(?=.*\\b{}\\b).*$\".format(word1)\n",
    "clean_premise(pat,df)"
   ]
  },
  {
   "cell_type": "code",
   "execution_count": 80,
   "metadata": {},
   "outputs": [],
   "source": [
    "change_premise(pat,df,'bus_stop_station')"
   ]
  },
  {
   "cell_type": "code",
   "execution_count": 81,
   "metadata": {},
   "outputs": [
    {
     "data": {
      "text/plain": [
       "bar_club_parking                  10099\n",
       "bar_club                           9006\n",
       "hotel_motel                        8780\n",
       "convenience_store_parking          8474\n",
       "specialty store (non-specific)     7757\n",
       "mall parking lot                   7445\n",
       "other, unknown, or not listed      7197\n",
       "vacant_structure                   6851\n",
       "clothing store                     4987\n",
       "misc. business (non-specific)      4857\n",
       "Name: premise, dtype: int64"
      ]
     },
     "execution_count": 81,
     "metadata": {},
     "output_type": "execute_result"
    }
   ],
   "source": [
    "df.premise.value_counts()[20:30]"
   ]
  },
  {
   "cell_type": "code",
   "execution_count": 82,
   "metadata": {},
   "outputs": [
    {
     "data": {
      "text/plain": [
       "parks and recreation, zoo, swimming pool    3336\n",
       "parks & recreation, zoo, swim pool          3023\n",
       "Name: premise, dtype: int64"
      ]
     },
     "execution_count": 82,
     "metadata": {},
     "output_type": "execute_result"
    }
   ],
   "source": [
    "word1 = 'parks'\n",
    "pat = r\"^(?=.*\\b{}\\b).*$\".format(word1)\n",
    "clean_premise(pat,df)"
   ]
  },
  {
   "cell_type": "code",
   "execution_count": 83,
   "metadata": {},
   "outputs": [],
   "source": [
    "change_premise(pat,df,'park_rec_pool')"
   ]
  },
  {
   "cell_type": "code",
   "execution_count": 84,
   "metadata": {},
   "outputs": [
    {
     "data": {
      "text/plain": [
       "bar_club_parking                  10099\n",
       "bar_club                           9006\n",
       "hotel_motel                        8780\n",
       "convenience_store_parking          8474\n",
       "specialty store (non-specific)     7757\n",
       "mall parking lot                   7445\n",
       "other, unknown, or not listed      7197\n",
       "vacant_structure                   6851\n",
       "park_rec_pool                      6359\n",
       "clothing store                     4987\n",
       "Name: premise, dtype: int64"
      ]
     },
     "execution_count": 84,
     "metadata": {},
     "output_type": "execute_result"
    }
   ],
   "source": [
    "df.premise.value_counts()[20:30]"
   ]
  },
  {
   "cell_type": "code",
   "execution_count": 85,
   "metadata": {},
   "outputs": [
    {
     "data": {
      "text/plain": [
       "sexually oriented club                    758\n",
       "sexually oriented business parking lot    659\n",
       "Name: premise, dtype: int64"
      ]
     },
     "execution_count": 85,
     "metadata": {},
     "output_type": "execute_result"
    }
   ],
   "source": [
    "word1 = 'sexually'\n",
    "pat = r\"^(?=.*\\b{}\\b).*$\".format(word1)\n",
    "clean_premise(pat,df)"
   ]
  },
  {
   "cell_type": "code",
   "execution_count": 86,
   "metadata": {},
   "outputs": [],
   "source": [
    "change_premise(pat,df,'sexually_oriented_business')"
   ]
  },
  {
   "cell_type": "code",
   "execution_count": 87,
   "metadata": {},
   "outputs": [
    {
     "data": {
      "text/plain": [
       "strip business center parking lot    18597\n",
       "Name: premise, dtype: int64"
      ]
     },
     "execution_count": 87,
     "metadata": {},
     "output_type": "execute_result"
    }
   ],
   "source": [
    "word1 = 'business'\n",
    "word2 = 'parking'\n",
    "pat = r\"^(?=.*\\b{}\\b)(?=.*\\b{}\\b).*$\".format(word1,word2)\n",
    "clean_premise(pat,df)"
   ]
  },
  {
   "cell_type": "code",
   "execution_count": 88,
   "metadata": {},
   "outputs": [],
   "source": [
    "change_premise(pat,df,'business_center_parking')"
   ]
  },
  {
   "cell_type": "code",
   "execution_count": 89,
   "metadata": {},
   "outputs": [
    {
     "data": {
      "text/plain": [
       "miscellaneous business (non-specific)    10682\n",
       "misc. business (non-specific)             4857\n",
       "Name: premise, dtype: int64"
      ]
     },
     "execution_count": 89,
     "metadata": {},
     "output_type": "execute_result"
    }
   ],
   "source": [
    "word1 = 'business'\n",
    "pat = r\"^(?=.*\\b{}\\b).*$\".format(word1)\n",
    "clean_premise(pat,df)"
   ]
  },
  {
   "cell_type": "code",
   "execution_count": 90,
   "metadata": {},
   "outputs": [],
   "source": [
    "change_premise(pat,df,'business')"
   ]
  },
  {
   "cell_type": "code",
   "execution_count": 91,
   "metadata": {},
   "outputs": [
    {
     "data": {
      "text/plain": [
       "vehicle/auto sales/lease/auto parts store    4447\n",
       "rental storage facility                      4120\n",
       "condominium                                  3882\n",
       "construction_site                            3849\n",
       "airport terminal                             3781\n",
       "garage/carport                               3720\n",
       "hospital                                     3498\n",
       "multi-plex hme(duplex,triplex etc)           3188\n",
       "bus_stop_station                             3175\n",
       "drug store/medical supply                    3126\n",
       "Name: premise, dtype: int64"
      ]
     },
     "execution_count": 91,
     "metadata": {},
     "output_type": "execute_result"
    }
   ],
   "source": [
    "df.premise.value_counts()[30:40]"
   ]
  },
  {
   "cell_type": "code",
   "execution_count": 92,
   "metadata": {},
   "outputs": [
    {
     "data": {
      "text/plain": [
       "stadium, sports arena, race track    449\n",
       "stadium/sprts arena/race track       423\n",
       "Name: premise, dtype: int64"
      ]
     },
     "execution_count": 92,
     "metadata": {},
     "output_type": "execute_result"
    }
   ],
   "source": [
    "word1 = 'stadium'\n",
    "pat = r\"^(?=.*\\b{}\\b).*$\".format(word1)\n",
    "clean_premise(pat,df)"
   ]
  },
  {
   "cell_type": "code",
   "execution_count": 93,
   "metadata": {},
   "outputs": [],
   "source": [
    "change_premise(pat,df,'stadium_arena_track')"
   ]
  },
  {
   "cell_type": "code",
   "execution_count": 94,
   "metadata": {},
   "outputs": [
    {
     "data": {
      "text/plain": [
       "vehicle/auto sales/lease/auto parts store    4447\n",
       "rental storage facility                      4120\n",
       "condominium                                  3882\n",
       "construction_site                            3849\n",
       "airport terminal                             3781\n",
       "garage/carport                               3720\n",
       "hospital                                     3498\n",
       "multi-plex hme(duplex,triplex etc)           3188\n",
       "bus_stop_station                             3175\n",
       "drug store/medical supply                    3126\n",
       "Name: premise, dtype: int64"
      ]
     },
     "execution_count": 94,
     "metadata": {},
     "output_type": "execute_result"
    }
   ],
   "source": [
    "df.premise.value_counts()[30:40]"
   ]
  },
  {
   "cell_type": "code",
   "execution_count": 95,
   "metadata": {},
   "outputs": [
    {
     "data": {
      "text/plain": [
       "drug store/medical supply       3126\n",
       "drug store or medical supply    1739\n",
       "Name: premise, dtype: int64"
      ]
     },
     "execution_count": 95,
     "metadata": {},
     "output_type": "execute_result"
    }
   ],
   "source": [
    "word1 = 'drug'\n",
    "pat = r\"^(?=.*\\b{}\\b).*$\".format(word1)\n",
    "clean_premise(pat,df)"
   ]
  },
  {
   "cell_type": "code",
   "execution_count": 96,
   "metadata": {},
   "outputs": [],
   "source": [
    "change_premise(pat,df,'drug_store')"
   ]
  },
  {
   "cell_type": "code",
   "execution_count": 97,
   "metadata": {},
   "outputs": [
    {
     "data": {
      "text/plain": [
       "drug_store                                   4865\n",
       "vehicle/auto sales/lease/auto parts store    4447\n",
       "rental storage facility                      4120\n",
       "condominium                                  3882\n",
       "construction_site                            3849\n",
       "airport terminal                             3781\n",
       "garage/carport                               3720\n",
       "hospital                                     3498\n",
       "multi-plex hme(duplex,triplex etc)           3188\n",
       "bus_stop_station                             3175\n",
       "Name: premise, dtype: int64"
      ]
     },
     "execution_count": 97,
     "metadata": {},
     "output_type": "execute_result"
    }
   ],
   "source": [
    "df.premise.value_counts()[30:40]"
   ]
  },
  {
   "cell_type": "code",
   "execution_count": 98,
   "metadata": {},
   "outputs": [
    {
     "data": {
      "text/plain": [
       "liquor store                971\n",
       "liquor store parking lot    289\n",
       "Name: premise, dtype: int64"
      ]
     },
     "execution_count": 98,
     "metadata": {},
     "output_type": "execute_result"
    }
   ],
   "source": [
    "word1 = 'liquor'\n",
    "pat = r\"^(?=.*\\b{}\\b).*$\".format(word1)\n",
    "clean_premise(pat,df)"
   ]
  },
  {
   "cell_type": "code",
   "execution_count": 99,
   "metadata": {},
   "outputs": [],
   "source": [
    "change_premise(pat,df,'liquor_store')"
   ]
  },
  {
   "cell_type": "code",
   "execution_count": 100,
   "metadata": {},
   "outputs": [
    {
     "data": {
      "text/plain": [
       "drug_store                                   4865\n",
       "vehicle/auto sales/lease/auto parts store    4447\n",
       "rental storage facility                      4120\n",
       "condominium                                  3882\n",
       "construction_site                            3849\n",
       "airport terminal                             3781\n",
       "garage/carport                               3720\n",
       "hospital                                     3498\n",
       "multi-plex hme(duplex,triplex etc)           3188\n",
       "bus_stop_station                             3175\n",
       "Name: premise, dtype: int64"
      ]
     },
     "execution_count": 100,
     "metadata": {},
     "output_type": "execute_result"
    }
   ],
   "source": [
    "df.premise.value_counts()[30:40]"
   ]
  },
  {
   "cell_type": "code",
   "execution_count": 101,
   "metadata": {},
   "outputs": [
    {
     "data": {
      "text/plain": [
       "auto repair    2816\n",
       "Name: premise, dtype: int64"
      ]
     },
     "execution_count": 101,
     "metadata": {},
     "output_type": "execute_result"
    }
   ],
   "source": [
    "word1 = 'auto'\n",
    "word2 = 'repair'\n",
    "pat = r\"^(?=.*\\b{}\\b)(?=.*\\b{}\\b).*$\".format(word1,word2)\n",
    "clean_premise(pat,df)"
   ]
  },
  {
   "cell_type": "code",
   "execution_count": 102,
   "metadata": {},
   "outputs": [],
   "source": [
    "change_premise(pat,df,'auto_repair')"
   ]
  },
  {
   "cell_type": "code",
   "execution_count": 103,
   "metadata": {},
   "outputs": [
    {
     "data": {
      "text/plain": [
       "vehicle/auto sales/lease/auto parts store    4447\n",
       "Name: premise, dtype: int64"
      ]
     },
     "execution_count": 103,
     "metadata": {},
     "output_type": "execute_result"
    }
   ],
   "source": [
    "word1 = 'auto'\n",
    "pat = r\"^(?=.*\\b{}\\b).*$\".format(word1)\n",
    "clean_premise(pat,df)"
   ]
  },
  {
   "cell_type": "code",
   "execution_count": 104,
   "metadata": {},
   "outputs": [],
   "source": [
    "change_premise(pat,df,'auto_sale_parts_store')"
   ]
  },
  {
   "cell_type": "code",
   "execution_count": 105,
   "metadata": {},
   "outputs": [
    {
     "data": {
      "text/plain": [
       "drug_store                            4865\n",
       "auto_sale_parts_store                 4447\n",
       "rental storage facility               4120\n",
       "condominium                           3882\n",
       "construction_site                     3849\n",
       "airport terminal                      3781\n",
       "garage/carport                        3720\n",
       "hospital                              3498\n",
       "multi-plex hme(duplex,triplex etc)    3188\n",
       "bus_stop_station                      3175\n",
       "Name: premise, dtype: int64"
      ]
     },
     "execution_count": 105,
     "metadata": {},
     "output_type": "execute_result"
    }
   ],
   "source": [
    "df.premise.value_counts()[30:40]"
   ]
  },
  {
   "cell_type": "code",
   "execution_count": 106,
   "metadata": {},
   "outputs": [
    {
     "data": {
      "text/plain": [
       "high school                      2061\n",
       "middle school                    1199\n",
       "elementary school                1102\n",
       "private school                    548\n",
       "commercial or training school     221\n",
       "Name: premise, dtype: int64"
      ]
     },
     "execution_count": 106,
     "metadata": {},
     "output_type": "execute_result"
    }
   ],
   "source": [
    "word1 = 'school'\n",
    "pat = r\"^(?=.*\\b{}\\b).*$\".format(word1)\n",
    "clean_premise(pat,df)"
   ]
  },
  {
   "cell_type": "code",
   "execution_count": 107,
   "metadata": {},
   "outputs": [],
   "source": [
    "change_premise(pat,df,'school')"
   ]
  },
  {
   "cell_type": "code",
   "execution_count": 108,
   "metadata": {},
   "outputs": [
    {
     "data": {
      "text/plain": [
       "libraries, museums    624\n",
       "Name: premise, dtype: int64"
      ]
     },
     "execution_count": 108,
     "metadata": {},
     "output_type": "execute_result"
    }
   ],
   "source": [
    "word1 = 'libraries'\n",
    "pat = r\"^(?=.*\\b{}\\b).*$\".format(word1)\n",
    "clean_premise(pat,df)"
   ]
  },
  {
   "cell_type": "code",
   "execution_count": 109,
   "metadata": {},
   "outputs": [],
   "source": [
    "change_premise(pat,df,'libraries_museums')"
   ]
  },
  {
   "cell_type": "code",
   "execution_count": 110,
   "metadata": {},
   "outputs": [
    {
     "data": {
      "text/plain": [
       "bus_stop_station                       3175\n",
       "garage or carport                      3038\n",
       "mall common area                       2937\n",
       "auto_repair                            2816\n",
       "warehouse                              2503\n",
       "barber and beauty shops                2136\n",
       "church/synagogue/temple                2073\n",
       "hospital_parking                       2071\n",
       "church/synagogue/temple parking lot    1871\n",
       "electronics store, electrical sup.     1787\n",
       "Name: premise, dtype: int64"
      ]
     },
     "execution_count": 110,
     "metadata": {},
     "output_type": "execute_result"
    }
   ],
   "source": [
    "df.premise.value_counts()[40:50]"
   ]
  },
  {
   "cell_type": "code",
   "execution_count": 111,
   "metadata": {},
   "outputs": [
    {
     "data": {
      "text/plain": [
       "church/synagogue/temple parking lot         1871\n",
       "church, synagogue, or temple parking lot    1037\n",
       "Name: premise, dtype: int64"
      ]
     },
     "execution_count": 111,
     "metadata": {},
     "output_type": "execute_result"
    }
   ],
   "source": [
    "word1 = 'church'\n",
    "word2 = 'parking'\n",
    "pat = r\"^(?=.*\\b{}\\b)(?=.*\\b{}\\b).*$\".format(word1,word2)\n",
    "clean_premise(pat,df)"
   ]
  },
  {
   "cell_type": "code",
   "execution_count": 112,
   "metadata": {},
   "outputs": [],
   "source": [
    "change_premise(pat,df,'church_temple_parking')"
   ]
  },
  {
   "cell_type": "code",
   "execution_count": 113,
   "metadata": {},
   "outputs": [
    {
     "data": {
      "text/plain": [
       "church/synagogue/temple         2073\n",
       "church, synagogue, or temple    1185\n",
       "Name: premise, dtype: int64"
      ]
     },
     "execution_count": 113,
     "metadata": {},
     "output_type": "execute_result"
    }
   ],
   "source": [
    "word1 = 'church'\n",
    "pat = r\"^(?=.*\\b{}\\b).*$\".format(word1)\n",
    "clean_premise(pat,df)"
   ]
  },
  {
   "cell_type": "code",
   "execution_count": 114,
   "metadata": {},
   "outputs": [],
   "source": [
    "change_premise(pat,df,'church_temple')"
   ]
  },
  {
   "cell_type": "code",
   "execution_count": 115,
   "metadata": {},
   "outputs": [
    {
     "data": {
      "text/plain": [
       "multi-plex hme(duplex,triplex etc)    3188\n",
       "bus_stop_station                      3175\n",
       "garage or carport                     3038\n",
       "mall common area                      2937\n",
       "church_temple_parking                 2908\n",
       "auto_repair                           2816\n",
       "warehouse                             2503\n",
       "barber and beauty shops               2136\n",
       "hospital_parking                      2071\n",
       "electronics store, electrical sup.    1787\n",
       "Name: premise, dtype: int64"
      ]
     },
     "execution_count": 115,
     "metadata": {},
     "output_type": "execute_result"
    }
   ],
   "source": [
    "df.premise.value_counts()[40:50]"
   ]
  },
  {
   "cell_type": "code",
   "execution_count": 116,
   "metadata": {},
   "outputs": [
    {
     "data": {
      "text/plain": [
       "gym,recreat,club hse,indr pool,spa            1545\n",
       "gym, recreat, club house, indoor pool, spa    1421\n",
       "gym, recreat, club house, indoor pool          428\n",
       "Name: premise, dtype: int64"
      ]
     },
     "execution_count": 116,
     "metadata": {},
     "output_type": "execute_result"
    }
   ],
   "source": [
    "word1 = 'gym'\n",
    "pat = r\"^(?=.*\\b{}\\b).*$\".format(word1)\n",
    "clean_premise(pat,df)"
   ]
  },
  {
   "cell_type": "code",
   "execution_count": 117,
   "metadata": {},
   "outputs": [],
   "source": [
    "change_premise(pat,df,'gym_club_house')"
   ]
  },
  {
   "cell_type": "code",
   "execution_count": 118,
   "metadata": {},
   "outputs": [
    {
     "data": {
      "text/plain": [
       "church_temple                         3258\n",
       "multi-plex hme(duplex,triplex etc)    3188\n",
       "bus_stop_station                      3175\n",
       "garage or carport                     3038\n",
       "mall common area                      2937\n",
       "church_temple_parking                 2908\n",
       "auto_repair                           2816\n",
       "warehouse                             2503\n",
       "barber and beauty shops               2136\n",
       "hospital_parking                      2071\n",
       "Name: premise, dtype: int64"
      ]
     },
     "execution_count": 118,
     "metadata": {},
     "output_type": "execute_result"
    }
   ],
   "source": [
    "df.premise.value_counts()[40:50]"
   ]
  },
  {
   "cell_type": "code",
   "execution_count": 119,
   "metadata": {},
   "outputs": [
    {
     "data": {
      "text/plain": [
       "rental storage facility    4120\n",
       "Name: premise, dtype: int64"
      ]
     },
     "execution_count": 119,
     "metadata": {},
     "output_type": "execute_result"
    }
   ],
   "source": [
    "word1 = 'storage'\n",
    "pat = r\"^(?=.*\\b{}\\b).*$\".format(word1)\n",
    "clean_premise(pat,df)"
   ]
  },
  {
   "cell_type": "code",
   "execution_count": 120,
   "metadata": {},
   "outputs": [],
   "source": [
    "change_premise(pat,df,'storage_facility')"
   ]
  },
  {
   "cell_type": "code",
   "execution_count": 121,
   "metadata": {},
   "outputs": [
    {
     "data": {
      "text/plain": [
       "church_temple                         3258\n",
       "multi-plex hme(duplex,triplex etc)    3188\n",
       "bus_stop_station                      3175\n",
       "garage or carport                     3038\n",
       "mall common area                      2937\n",
       "church_temple_parking                 2908\n",
       "auto_repair                           2816\n",
       "warehouse                             2503\n",
       "barber and beauty shops               2136\n",
       "hospital_parking                      2071\n",
       "Name: premise, dtype: int64"
      ]
     },
     "execution_count": 121,
     "metadata": {},
     "output_type": "execute_result"
    }
   ],
   "source": [
    "df.premise.value_counts()[40:50]"
   ]
  },
  {
   "cell_type": "code",
   "execution_count": 122,
   "metadata": {},
   "outputs": [
    {
     "data": {
      "text/plain": [
       "convention center or exhibit halls    187\n",
       "convention center/exhibit halls       164\n",
       "Name: premise, dtype: int64"
      ]
     },
     "execution_count": 122,
     "metadata": {},
     "output_type": "execute_result"
    }
   ],
   "source": [
    "word1 = 'convention'\n",
    "pat = r\"^(?=.*\\b{}\\b).*$\".format(word1)\n",
    "clean_premise(pat,df)"
   ]
  },
  {
   "cell_type": "code",
   "execution_count": 123,
   "metadata": {},
   "outputs": [],
   "source": [
    "change_premise(pat,df,'convention_center')"
   ]
  },
  {
   "cell_type": "code",
   "execution_count": 124,
   "metadata": {},
   "outputs": [
    {
     "data": {
      "text/plain": [
       "electronics store, electrical sup.        1787\n",
       "bank                                      1511\n",
       "sexually_oriented_business                1417\n",
       "car wash                                  1274\n",
       "liquor_store                              1260\n",
       "bank/saving institution parking lot       1135\n",
       "apartment/rental office                   1067\n",
       "electronics store, electrical supplies    1065\n",
       "laundry/dry cleaners/washaterias          1057\n",
       "mobile home                               1053\n",
       "Name: premise, dtype: int64"
      ]
     },
     "execution_count": 124,
     "metadata": {},
     "output_type": "execute_result"
    }
   ],
   "source": [
    "df.premise.value_counts()[50:60]"
   ]
  },
  {
   "cell_type": "code",
   "execution_count": 125,
   "metadata": {},
   "outputs": [
    {
     "data": {
      "text/plain": [
       "bank/saving institution parking lot        1135\n",
       "bank or savings institution parking lot     779\n",
       "Name: premise, dtype: int64"
      ]
     },
     "execution_count": 125,
     "metadata": {},
     "output_type": "execute_result"
    }
   ],
   "source": [
    "word1 = 'bank'\n",
    "word2 = 'parking'\n",
    "pat = r\"^(?=.*\\b{}\\b)(?=.*\\b{}\\b).*$\".format(word1,word2)\n",
    "clean_premise(pat,df)"
   ]
  },
  {
   "cell_type": "code",
   "execution_count": 126,
   "metadata": {},
   "outputs": [],
   "source": [
    "change_premise(pat,df,'bank_parking')"
   ]
  },
  {
   "cell_type": "code",
   "execution_count": 127,
   "metadata": {},
   "outputs": [
    {
     "data": {
      "text/plain": [
       "bank    1511\n",
       "Name: premise, dtype: int64"
      ]
     },
     "execution_count": 127,
     "metadata": {},
     "output_type": "execute_result"
    }
   ],
   "source": [
    "word1 = 'bank'\n",
    "pat = r\"^(?=.*\\b{}\\b).*$\".format(word1)\n",
    "clean_premise(pat,df)"
   ]
  },
  {
   "cell_type": "code",
   "execution_count": 128,
   "metadata": {},
   "outputs": [],
   "source": [
    "change_premise(pat,df,'bank')"
   ]
  },
  {
   "cell_type": "code",
   "execution_count": 129,
   "metadata": {},
   "outputs": [
    {
     "data": {
      "text/plain": [
       "bank_parking                              1914\n",
       "electronics store, electrical sup.        1787\n",
       "bank                                      1511\n",
       "sexually_oriented_business                1417\n",
       "car wash                                  1274\n",
       "liquor_store                              1260\n",
       "apartment/rental office                   1067\n",
       "electronics store, electrical supplies    1065\n",
       "laundry/dry cleaners/washaterias          1057\n",
       "mobile home                               1053\n",
       "Name: premise, dtype: int64"
      ]
     },
     "execution_count": 129,
     "metadata": {},
     "output_type": "execute_result"
    }
   ],
   "source": [
    "df.premise.value_counts()[50:60]"
   ]
  },
  {
   "cell_type": "code",
   "execution_count": 130,
   "metadata": {},
   "outputs": [
    {
     "data": {
      "text/plain": [
       "light rail (metro rail) vehicle    183\n",
       "light rail vehicle                   6\n",
       "Name: premise, dtype: int64"
      ]
     },
     "execution_count": 130,
     "metadata": {},
     "output_type": "execute_result"
    }
   ],
   "source": [
    "word1 = 'rail'\n",
    "word2 = 'vehicle'\n",
    "pat = r\"^(?=.*\\b{}\\b)(?=.*\\b{}\\b).*$\".format(word1,word2)\n",
    "clean_premise(pat,df)"
   ]
  },
  {
   "cell_type": "code",
   "execution_count": 131,
   "metadata": {},
   "outputs": [],
   "source": [
    "change_premise(pat,df,'rail_vehicle')"
   ]
  },
  {
   "cell_type": "code",
   "execution_count": 132,
   "metadata": {},
   "outputs": [
    {
     "data": {
      "text/plain": [
       "light rail platform    182\n",
       "Name: premise, dtype: int64"
      ]
     },
     "execution_count": 132,
     "metadata": {},
     "output_type": "execute_result"
    }
   ],
   "source": [
    "word1 = 'rail'\n",
    "pat = r\"^(?=.*\\b{}\\b).*$\".format(word1)\n",
    "clean_premise(pat,df)"
   ]
  },
  {
   "cell_type": "code",
   "execution_count": 133,
   "metadata": {},
   "outputs": [],
   "source": [
    "change_premise(pat,df,'rail_platform')"
   ]
  },
  {
   "cell_type": "code",
   "execution_count": 134,
   "metadata": {},
   "outputs": [
    {
     "data": {
      "text/plain": [
       "bank_parking                              1914\n",
       "electronics store, electrical sup.        1787\n",
       "bank                                      1511\n",
       "sexually_oriented_business                1417\n",
       "car wash                                  1274\n",
       "liquor_store                              1260\n",
       "apartment/rental office                   1067\n",
       "electronics store, electrical supplies    1065\n",
       "laundry/dry cleaners/washaterias          1057\n",
       "mobile home                               1053\n",
       "Name: premise, dtype: int64"
      ]
     },
     "execution_count": 134,
     "metadata": {},
     "output_type": "execute_result"
    }
   ],
   "source": [
    "df.premise.value_counts()[50:60]"
   ]
  },
  {
   "cell_type": "code",
   "execution_count": 135,
   "metadata": {},
   "outputs": [
    {
     "data": {
      "text/plain": [
       "other/unknown                    16634\n",
       "other, unknown, or not listed     7197\n",
       "Name: premise, dtype: int64"
      ]
     },
     "execution_count": 135,
     "metadata": {},
     "output_type": "execute_result"
    }
   ],
   "source": [
    "word1 = 'unknown'\n",
    "pat = r\"^(?=.*\\b{}\\b).*$\".format(word1)\n",
    "clean_premise(pat,df)"
   ]
  },
  {
   "cell_type": "code",
   "execution_count": 136,
   "metadata": {},
   "outputs": [],
   "source": [
    "change_premise(pat,df,'unknown')"
   ]
  },
  {
   "cell_type": "code",
   "execution_count": 137,
   "metadata": {},
   "outputs": [
    {
     "data": {
      "text/plain": [
       "unk    35433\n",
       "Name: premise, dtype: int64"
      ]
     },
     "execution_count": 137,
     "metadata": {},
     "output_type": "execute_result"
    }
   ],
   "source": [
    "word1 = 'unk'\n",
    "pat = r\"^(?=.*\\b{}\\b).*$\".format(word1)\n",
    "clean_premise(pat,df)"
   ]
  },
  {
   "cell_type": "code",
   "execution_count": 138,
   "metadata": {},
   "outputs": [],
   "source": [
    "change_premise(pat,df,'unknown')"
   ]
  },
  {
   "cell_type": "code",
   "execution_count": 139,
   "metadata": {},
   "outputs": [
    {
     "data": {
      "text/plain": [
       "bank                                      1511\n",
       "sexually_oriented_business                1417\n",
       "car wash                                  1274\n",
       "liquor_store                              1260\n",
       "apartment/rental office                   1067\n",
       "electronics store, electrical supplies    1065\n",
       "laundry/dry cleaners/washaterias          1057\n",
       "mobile home                               1053\n",
       "field, woods, forest, park                1003\n",
       "apartment rental office                    933\n",
       "Name: premise, dtype: int64"
      ]
     },
     "execution_count": 139,
     "metadata": {},
     "output_type": "execute_result"
    }
   ],
   "source": [
    "df.premise.value_counts()[50:60]"
   ]
  },
  {
   "cell_type": "code",
   "execution_count": 140,
   "metadata": {},
   "outputs": [
    {
     "data": {
      "text/plain": [
       "other parking lot                      44765\n",
       "mall parking lot                        7445\n",
       "laundry/dry cleaners parking lot         300\n",
       "laundry or dry cleaners parking lot      238\n",
       "Name: premise, dtype: int64"
      ]
     },
     "execution_count": 140,
     "metadata": {},
     "output_type": "execute_result"
    }
   ],
   "source": [
    "word1 = 'parking'\n",
    "pat = r\"^(?=.*\\b{}\\b).*$\".format(word1)\n",
    "clean_premise(pat,df)"
   ]
  },
  {
   "cell_type": "code",
   "execution_count": 141,
   "metadata": {},
   "outputs": [],
   "source": [
    "change_premise(pat,df,'other_parking')"
   ]
  },
  {
   "cell_type": "code",
   "execution_count": 142,
   "metadata": {},
   "outputs": [
    {
     "data": {
      "text/plain": [
       "sexually_oriented_business                1417\n",
       "car wash                                  1274\n",
       "liquor_store                              1260\n",
       "apartment/rental office                   1067\n",
       "electronics store, electrical supplies    1065\n",
       "laundry/dry cleaners/washaterias          1057\n",
       "mobile home                               1053\n",
       "field, woods, forest, park                1003\n",
       "apartment rental office                    933\n",
       "highway/freeway                            926\n",
       "Name: premise, dtype: int64"
      ]
     },
     "execution_count": 142,
     "metadata": {},
     "output_type": "execute_result"
    }
   ],
   "source": [
    "df.premise.value_counts()[50:60]"
   ]
  },
  {
   "cell_type": "code",
   "execution_count": 143,
   "metadata": {},
   "outputs": [
    {
     "data": {
      "text/plain": [
       "garage/carport       3720\n",
       "garage or carport    3038\n",
       "Name: premise, dtype: int64"
      ]
     },
     "execution_count": 143,
     "metadata": {},
     "output_type": "execute_result"
    }
   ],
   "source": [
    "word1 = 'garage'\n",
    "pat = r\"^(?=.*\\b{}\\b).*$\".format(word1)\n",
    "clean_premise(pat,df)"
   ]
  },
  {
   "cell_type": "code",
   "execution_count": 144,
   "metadata": {},
   "outputs": [],
   "source": [
    "change_premise(pat,df,'garage_carport')"
   ]
  },
  {
   "cell_type": "code",
   "execution_count": 145,
   "metadata": {},
   "outputs": [
    {
     "data": {
      "text/plain": [
       "car wash                                  1274\n",
       "liquor_store                              1260\n",
       "apartment/rental office                   1067\n",
       "electronics store, electrical supplies    1065\n",
       "laundry/dry cleaners/washaterias          1057\n",
       "mobile home                               1053\n",
       "field, woods, forest, park                1003\n",
       "apartment rental office                    933\n",
       "highway/freeway                            926\n",
       "freeway service road                       887\n",
       "Name: premise, dtype: int64"
      ]
     },
     "execution_count": 145,
     "metadata": {},
     "output_type": "execute_result"
    }
   ],
   "source": [
    "df.premise.value_counts()[50:60]"
   ]
  },
  {
   "cell_type": "code",
   "execution_count": 146,
   "metadata": {},
   "outputs": [
    {
     "data": {
      "text/plain": [
       "condominium    3882\n",
       "Name: premise, dtype: int64"
      ]
     },
     "execution_count": 146,
     "metadata": {},
     "output_type": "execute_result"
    }
   ],
   "source": [
    "word1 = 'condominium'\n",
    "pat = r\"^(?=.*\\b{}\\b).*$\".format(word1)\n",
    "clean_premise(pat,df)"
   ]
  },
  {
   "cell_type": "code",
   "execution_count": 147,
   "metadata": {},
   "outputs": [],
   "source": [
    "change_premise(pat,df,'apartment')"
   ]
  },
  {
   "cell_type": "code",
   "execution_count": 148,
   "metadata": {},
   "outputs": [
    {
     "data": {
      "text/plain": [
       "liquor_store                              1260\n",
       "apartment/rental office                   1067\n",
       "electronics store, electrical supplies    1065\n",
       "laundry/dry cleaners/washaterias          1057\n",
       "mobile home                               1053\n",
       "field, woods, forest, park                1003\n",
       "apartment rental office                    933\n",
       "highway/freeway                            926\n",
       "freeway service road                       887\n",
       "stadium_arena_track                        872\n",
       "Name: premise, dtype: int64"
      ]
     },
     "execution_count": 148,
     "metadata": {},
     "output_type": "execute_result"
    }
   ],
   "source": [
    "df.premise.value_counts()[50:60]"
   ]
  },
  {
   "cell_type": "code",
   "execution_count": 149,
   "metadata": {},
   "outputs": [
    {
     "data": {
      "text/plain": [
       "adult book store/newsstand       132\n",
       "adult book store or newsstand     83\n",
       "adult novelty store               15\n",
       "Name: premise, dtype: int64"
      ]
     },
     "execution_count": 149,
     "metadata": {},
     "output_type": "execute_result"
    }
   ],
   "source": [
    "word1 = 'adult'\n",
    "word2 = 'store'\n",
    "pat = r\"^(?=.*\\b{}\\b)(?=.*\\b{}\\b).*$\".format(word1,word2)\n",
    "clean_premise(pat,df)"
   ]
  },
  {
   "cell_type": "code",
   "execution_count": 150,
   "metadata": {},
   "outputs": [],
   "source": [
    "change_premise(pat,df,'sexually_oriented_business')"
   ]
  },
  {
   "cell_type": "code",
   "execution_count": 151,
   "metadata": {},
   "outputs": [
    {
     "data": {
      "text/plain": [
       "specialty store (non-specific)    7757\n",
       "Name: premise, dtype: int64"
      ]
     },
     "execution_count": 151,
     "metadata": {},
     "output_type": "execute_result"
    }
   ],
   "source": [
    "word1 = 'specialty'\n",
    "word2 = 'store'\n",
    "pat = r\"^(?=.*\\b{}\\b)(?=.*\\b{}\\b).*$\".format(word1,word2)\n",
    "clean_premise(pat,df)"
   ]
  },
  {
   "cell_type": "code",
   "execution_count": 152,
   "metadata": {},
   "outputs": [],
   "source": [
    "change_premise(pat,df,'specialty_store')"
   ]
  },
  {
   "cell_type": "code",
   "execution_count": 153,
   "metadata": {},
   "outputs": [
    {
     "data": {
      "text/plain": [
       "clothing store    4987\n",
       "Name: premise, dtype: int64"
      ]
     },
     "execution_count": 153,
     "metadata": {},
     "output_type": "execute_result"
    }
   ],
   "source": [
    "word1 = 'clothing'\n",
    "word2 = 'store'\n",
    "pat = r\"^(?=.*\\b{}\\b)(?=.*\\b{}\\b).*$\".format(word1,word2)\n",
    "clean_premise(pat,df)"
   ]
  },
  {
   "cell_type": "code",
   "execution_count": 154,
   "metadata": {},
   "outputs": [],
   "source": [
    "change_premise(pat,df,'clothing_store')"
   ]
  },
  {
   "cell_type": "code",
   "execution_count": null,
   "metadata": {},
   "outputs": [],
   "source": []
  },
  {
   "cell_type": "code",
   "execution_count": 155,
   "metadata": {},
   "outputs": [
    {
     "data": {
      "text/plain": [
       "electronics store, electrical sup.        1787\n",
       "electronics store, electrical supplies    1065\n",
       "Name: premise, dtype: int64"
      ]
     },
     "execution_count": 155,
     "metadata": {},
     "output_type": "execute_result"
    }
   ],
   "source": [
    "word1 = 'electronics'\n",
    "word2 = 'store'\n",
    "pat = r\"^(?=.*\\b{}\\b)(?=.*\\b{}\\b).*$\".format(word1,word2)\n",
    "clean_premise(pat,df)"
   ]
  },
  {
   "cell_type": "code",
   "execution_count": 156,
   "metadata": {},
   "outputs": [],
   "source": [
    "change_premise(pat,df,'electronic_store')"
   ]
  },
  {
   "cell_type": "code",
   "execution_count": 157,
   "metadata": {},
   "outputs": [
    {
     "data": {
      "text/plain": [
       "furniture, appliances, radios, tv store    226\n",
       "Name: premise, dtype: int64"
      ]
     },
     "execution_count": 157,
     "metadata": {},
     "output_type": "execute_result"
    }
   ],
   "source": [
    "word1 = 'store'\n",
    "pat = r\"^(?=.*\\b{}\\b).*$\".format(word1)\n",
    "clean_premise(pat,df)"
   ]
  },
  {
   "cell_type": "code",
   "execution_count": 158,
   "metadata": {},
   "outputs": [],
   "source": [
    "change_premise(pat,df,'electronic_store')"
   ]
  },
  {
   "cell_type": "code",
   "execution_count": 159,
   "metadata": {},
   "outputs": [
    {
     "data": {
      "text/plain": [
       "liquor_store                             1260\n",
       "apartment/rental office                  1067\n",
       "laundry/dry cleaners/washaterias         1057\n",
       "mobile home                              1053\n",
       "field, woods, forest, park               1003\n",
       "apartment rental office                   933\n",
       "highway/freeway                           926\n",
       "freeway service road                      887\n",
       "stadium_arena_track                       872\n",
       "multi-plex home (duplex,triplex etc.)     860\n",
       "Name: premise, dtype: int64"
      ]
     },
     "execution_count": 159,
     "metadata": {},
     "output_type": "execute_result"
    }
   ],
   "source": [
    "df.premise.value_counts()[50:60]"
   ]
  },
  {
   "cell_type": "code",
   "execution_count": 160,
   "metadata": {},
   "outputs": [
    {
     "data": {
      "text/plain": [
       "multi-plex hme(duplex,triplex etc)       3188\n",
       "multi-plex home (duplex,triplex etc.)     860\n",
       "Name: premise, dtype: int64"
      ]
     },
     "execution_count": 160,
     "metadata": {},
     "output_type": "execute_result"
    }
   ],
   "source": [
    "word1 = 'plex'\n",
    "pat = r\"^(?=.*\\b{}\\b).*$\".format(word1)\n",
    "clean_premise(pat,df)"
   ]
  },
  {
   "cell_type": "code",
   "execution_count": 161,
   "metadata": {},
   "outputs": [],
   "source": [
    "change_premise(pat,df,'multiplex_home')"
   ]
  },
  {
   "cell_type": "code",
   "execution_count": 162,
   "metadata": {},
   "outputs": [
    {
     "data": {
      "text/plain": [
       "liquor_store                         1260\n",
       "apartment/rental office              1067\n",
       "laundry/dry cleaners/washaterias     1057\n",
       "mobile home                          1053\n",
       "field, woods, forest, park           1003\n",
       "apartment rental office               933\n",
       "highway/freeway                       926\n",
       "freeway service road                  887\n",
       "stadium_arena_track                   872\n",
       "pawn, resale shop, or flea market     846\n",
       "Name: premise, dtype: int64"
      ]
     },
     "execution_count": 162,
     "metadata": {},
     "output_type": "execute_result"
    }
   ],
   "source": [
    "df.premise.value_counts()[50:60]"
   ]
  },
  {
   "cell_type": "code",
   "execution_count": 163,
   "metadata": {},
   "outputs": [],
   "source": [
    "# word1 = 'vacant'\n",
    "# pat = r\"^(?=.*\\b{}\\b).*$\".format(word1)\n",
    "# clean_premise(pat,df)"
   ]
  },
  {
   "cell_type": "code",
   "execution_count": null,
   "metadata": {},
   "outputs": [],
   "source": []
  },
  {
   "cell_type": "code",
   "execution_count": 164,
   "metadata": {},
   "outputs": [
    {
     "data": {
      "text/plain": [
       "liquor_store                         1260\n",
       "apartment/rental office              1067\n",
       "laundry/dry cleaners/washaterias     1057\n",
       "mobile home                          1053\n",
       "field, woods, forest, park           1003\n",
       "apartment rental office               933\n",
       "highway/freeway                       926\n",
       "freeway service road                  887\n",
       "stadium_arena_track                   872\n",
       "pawn, resale shop, or flea market     846\n",
       "Name: premise, dtype: int64"
      ]
     },
     "execution_count": 164,
     "metadata": {},
     "output_type": "execute_result"
    }
   ],
   "source": [
    "df.premise.value_counts()[50:60]"
   ]
  },
  {
   "cell_type": "code",
   "execution_count": 165,
   "metadata": {},
   "outputs": [
    {
     "data": {
      "text/plain": [
       "warehouse    2503\n",
       "Name: premise, dtype: int64"
      ]
     },
     "execution_count": 165,
     "metadata": {},
     "output_type": "execute_result"
    }
   ],
   "source": [
    "word1 = 'warehouse'\n",
    "pat = r\"^(?=.*\\b{}\\b).*$\".format(word1)\n",
    "clean_premise(pat,df)"
   ]
  },
  {
   "cell_type": "code",
   "execution_count": 166,
   "metadata": {},
   "outputs": [],
   "source": [
    "change_premise(pat,df,'warehouse')"
   ]
  },
  {
   "cell_type": "code",
   "execution_count": 167,
   "metadata": {},
   "outputs": [
    {
     "data": {
      "text/plain": [
       "university/college       289\n",
       "university or college    138\n",
       "Name: premise, dtype: int64"
      ]
     },
     "execution_count": 167,
     "metadata": {},
     "output_type": "execute_result"
    }
   ],
   "source": [
    "word1 = 'college'\n",
    "pat = r\"^(?=.*\\b{}\\b).*$\".format(word1)\n",
    "clean_premise(pat,df)"
   ]
  },
  {
   "cell_type": "code",
   "execution_count": 168,
   "metadata": {},
   "outputs": [],
   "source": [
    "change_premise(pat,df,'college')"
   ]
  },
  {
   "cell_type": "code",
   "execution_count": 169,
   "metadata": {},
   "outputs": [
    {
     "data": {
      "text/plain": [
       "highway/freeway       926\n",
       "highway or freeway    519\n",
       "Name: premise, dtype: int64"
      ]
     },
     "execution_count": 169,
     "metadata": {},
     "output_type": "execute_result"
    }
   ],
   "source": [
    "word1 = 'highway'\n",
    "pat = r\"^(?=.*\\b{}\\b).*$\".format(word1)\n",
    "clean_premise(pat,df)"
   ]
  },
  {
   "cell_type": "code",
   "execution_count": 170,
   "metadata": {},
   "outputs": [],
   "source": [
    "change_premise(pat,df,'highway_freeway')"
   ]
  },
  {
   "cell_type": "code",
   "execution_count": 171,
   "metadata": {},
   "outputs": [
    {
     "data": {
      "text/plain": [
       "apartment/rental office    1067\n",
       "apartment rental office     933\n",
       "Name: premise, dtype: int64"
      ]
     },
     "execution_count": 171,
     "metadata": {},
     "output_type": "execute_result"
    }
   ],
   "source": [
    "word1 = 'rental'\n",
    "word2 = 'office'\n",
    "pat = r\"^(?=.*\\b{}\\b)(?=.*\\b{}\\b).*$\".format(word1,word2)\n",
    "clean_premise(pat,df)"
   ]
  },
  {
   "cell_type": "code",
   "execution_count": 172,
   "metadata": {},
   "outputs": [],
   "source": [
    "change_premise(pat,df,'rental_office')"
   ]
  },
  {
   "cell_type": "code",
   "execution_count": 173,
   "metadata": {},
   "outputs": [
    {
     "data": {
      "text/plain": [
       "physician, doctor, dentist's office    639\n",
       "Name: premise, dtype: int64"
      ]
     },
     "execution_count": 173,
     "metadata": {},
     "output_type": "execute_result"
    }
   ],
   "source": [
    "word1 = 'doctor'\n",
    "pat = r\"^(?=.*\\b{}\\b).*$\".format(word1)\n",
    "clean_premise(pat,df)"
   ]
  },
  {
   "cell_type": "code",
   "execution_count": 174,
   "metadata": {},
   "outputs": [],
   "source": [
    "change_premise(pat,df,'doctor_office')"
   ]
  },
  {
   "cell_type": "code",
   "execution_count": 175,
   "metadata": {},
   "outputs": [
    {
     "data": {
      "text/plain": [
       "physician's office                           672\n",
       "book,record,stationary,office sup.            94\n",
       "book, record, stationary, office supplies     55\n",
       "Name: premise, dtype: int64"
      ]
     },
     "execution_count": 175,
     "metadata": {},
     "output_type": "execute_result"
    }
   ],
   "source": [
    "word1 = 'office'\n",
    "pat = r\"^(?=.*\\b{}\\b).*$\".format(word1)\n",
    "clean_premise(pat,df)"
   ]
  },
  {
   "cell_type": "code",
   "execution_count": 176,
   "metadata": {},
   "outputs": [
    {
     "data": {
      "text/plain": [
       "book,record,stationary,office sup.           94\n",
       "book, record, stationary, office supplies    55\n",
       "Name: premise, dtype: int64"
      ]
     },
     "execution_count": 176,
     "metadata": {},
     "output_type": "execute_result"
    }
   ],
   "source": [
    "word1 = 'book'\n",
    "word2 = 'office'\n",
    "pat = r\"^(?=.*\\b{}\\b)(?=.*\\b{}\\b).*$\".format(word1,word2)\n",
    "clean_premise(pat,df)"
   ]
  },
  {
   "cell_type": "code",
   "execution_count": 177,
   "metadata": {},
   "outputs": [],
   "source": [
    "change_premise(pat,df,'office_supplies')"
   ]
  },
  {
   "cell_type": "code",
   "execution_count": 178,
   "metadata": {},
   "outputs": [
    {
     "data": {
      "text/plain": [
       "physician's office    672\n",
       "Name: premise, dtype: int64"
      ]
     },
     "execution_count": 178,
     "metadata": {},
     "output_type": "execute_result"
    }
   ],
   "source": [
    "word1 = 'physician'\n",
    "word2 = 'office'\n",
    "pat = r\"^(?=.*\\b{}\\b)(?=.*\\b{}\\b).*$\".format(word1,word2)\n",
    "clean_premise(pat,df)"
   ]
  },
  {
   "cell_type": "code",
   "execution_count": 179,
   "metadata": {},
   "outputs": [],
   "source": [
    "change_premise(pat,df,'doctor_office')"
   ]
  },
  {
   "cell_type": "code",
   "execution_count": 180,
   "metadata": {},
   "outputs": [
    {
     "data": {
      "text/plain": [
       "laundry, dry cleaners, washaterias    767\n",
       "factory/manufacturing/industrial      729\n",
       "field/woods                           711\n",
       "nursing home                          703\n",
       "pawn/resale shop/flea market          700\n",
       "libraries_museums                     624\n",
       "check cashing places                  618\n",
       "apartment laundry                     589\n",
       "jewelry stores                        567\n",
       "---                                   492\n",
       "Name: premise, dtype: int64"
      ]
     },
     "execution_count": 180,
     "metadata": {},
     "output_type": "execute_result"
    }
   ],
   "source": [
    "df.premise.value_counts()[60:70]"
   ]
  },
  {
   "cell_type": "code",
   "execution_count": 181,
   "metadata": {},
   "outputs": [
    {
     "data": {
      "text/plain": [
       "field, woods, forest, park    1003\n",
       "field/woods                    711\n",
       "Name: premise, dtype: int64"
      ]
     },
     "execution_count": 181,
     "metadata": {},
     "output_type": "execute_result"
    }
   ],
   "source": [
    "word1 = 'field'\n",
    "pat = r\"^(?=.*\\b{}\\b).*$\".format(word1)\n",
    "clean_premise(pat,df)"
   ]
  },
  {
   "cell_type": "code",
   "execution_count": 182,
   "metadata": {},
   "outputs": [],
   "source": [
    "change_premise(pat,df,'field_woods_park')"
   ]
  },
  {
   "cell_type": "code",
   "execution_count": 183,
   "metadata": {},
   "outputs": [
    {
     "data": {
      "text/plain": [
       "house                                129717\n",
       "apartment                            118085\n",
       "apartment_parking                    111134\n",
       "road_street_sidewalk                  81754\n",
       "unknown                               59264\n",
       "other_parking                         52748\n",
       "driveway                              52736\n",
       "department_store                      38154\n",
       "restaurant_parking                    32469\n",
       "commercial_parking                    24329\n",
       "supermarket                           21104\n",
       "business_center_parking               18597\n",
       "gas_station                           17250\n",
       "business                              15539\n",
       "restaurant                            15306\n",
       "building                              14689\n",
       "hotel_motel_parking                   13399\n",
       "convenience_store                     12957\n",
       "supermarket_parking                   11894\n",
       "bar_club_parking                      10099\n",
       "bar_club                               9006\n",
       "hotel_motel                            8780\n",
       "convenience_store_parking              8474\n",
       "specialty_store                        7757\n",
       "vacant_structure                       6851\n",
       "garage_carport                         6758\n",
       "park_rec_pool                          6359\n",
       "school                                 5131\n",
       "clothing_store                         4987\n",
       "drug_store                             4865\n",
       "auto_sale_parts_store                  4447\n",
       "storage_facility                       4120\n",
       "multiplex_home                         4048\n",
       "construction_site                      3849\n",
       "airport terminal                       3781\n",
       "hospital                               3498\n",
       "gym_club_house                         3394\n",
       "church_temple                          3258\n",
       "bus_stop_station                       3175\n",
       "electronic_store                       3078\n",
       "mall common area                       2937\n",
       "church_temple_parking                  2908\n",
       "auto_repair                            2816\n",
       "warehouse                              2503\n",
       "barber and beauty shops                2136\n",
       "hospital_parking                       2071\n",
       "rental_office                          2000\n",
       "bank_parking                           1914\n",
       "field_woods_park                       1714\n",
       "sexually_oriented_business             1647\n",
       "bank                                   1511\n",
       "highway_freeway                        1445\n",
       "doctor_office                          1311\n",
       "car wash                               1274\n",
       "liquor_store                           1260\n",
       "laundry/dry cleaners/washaterias       1057\n",
       "mobile home                            1053\n",
       "freeway service road                    887\n",
       "stadium_arena_track                     872\n",
       "pawn, resale shop, or flea market       846\n",
       "Name: premise, dtype: int64"
      ]
     },
     "execution_count": 183,
     "metadata": {},
     "output_type": "execute_result"
    }
   ],
   "source": [
    "df.premise.value_counts()[:60]"
   ]
  },
  {
   "cell_type": "code",
   "execution_count": 184,
   "metadata": {},
   "outputs": [
    {
     "data": {
      "text/plain": [
       "laundry/dry cleaners/washaterias      1057\n",
       "laundry, dry cleaners, washaterias     767\n",
       "Name: premise, dtype: int64"
      ]
     },
     "execution_count": 184,
     "metadata": {},
     "output_type": "execute_result"
    }
   ],
   "source": [
    "word1 = 'cleaners'\n",
    "pat = r\"^(?=.*\\b{}\\b).*$\".format(word1)\n",
    "clean_premise(pat,df)"
   ]
  },
  {
   "cell_type": "code",
   "execution_count": 185,
   "metadata": {},
   "outputs": [],
   "source": [
    "change_premise(pat,df,'dry_cleaners')"
   ]
  },
  {
   "cell_type": "code",
   "execution_count": 186,
   "metadata": {},
   "outputs": [
    {
     "data": {
      "text/plain": [
       "park and ride terminal    412\n",
       "park & ride terminal      184\n",
       "Name: premise, dtype: int64"
      ]
     },
     "execution_count": 186,
     "metadata": {},
     "output_type": "execute_result"
    }
   ],
   "source": [
    "word1 = 'park'\n",
    "word2 = 'ride'\n",
    "pat = r\"^(?=.*\\b{}\\b)(?=.*\\b{}\\b).*$\".format(word1,word2)\n",
    "clean_premise(pat,df)"
   ]
  },
  {
   "cell_type": "code",
   "execution_count": 187,
   "metadata": {},
   "outputs": [],
   "source": [
    "change_premise(pat,df,'park_ride')"
   ]
  },
  {
   "cell_type": "code",
   "execution_count": 188,
   "metadata": {},
   "outputs": [
    {
     "data": {
      "text/plain": [
       "police station    351\n",
       "Name: premise, dtype: int64"
      ]
     },
     "execution_count": 188,
     "metadata": {},
     "output_type": "execute_result"
    }
   ],
   "source": [
    "word1 = 'police'\n",
    "pat = r\"^(?=.*\\b{}\\b).*$\".format(word1)\n",
    "clean_premise(pat,df)"
   ]
  },
  {
   "cell_type": "code",
   "execution_count": 189,
   "metadata": {},
   "outputs": [],
   "source": [
    "change_premise(pat,df,'police_station')"
   ]
  },
  {
   "cell_type": "code",
   "execution_count": 190,
   "metadata": {},
   "outputs": [
    {
     "data": {
      "text/plain": [
       "credit union    79\n",
       "Name: premise, dtype: int64"
      ]
     },
     "execution_count": 190,
     "metadata": {},
     "output_type": "execute_result"
    }
   ],
   "source": [
    "word1 = 'credit'\n",
    "pat = r\"^(?=.*\\b{}\\b).*$\".format(word1)\n",
    "clean_premise(pat,df)"
   ]
  },
  {
   "cell_type": "code",
   "execution_count": 191,
   "metadata": {},
   "outputs": [],
   "source": [
    "change_premise(pat,df,'bank')"
   ]
  },
  {
   "cell_type": "code",
   "execution_count": 192,
   "metadata": {},
   "outputs": [
    {
     "data": {
      "text/plain": [
       "package facility (fedex,ups,dhl)    25\n",
       "Name: premise, dtype: int64"
      ]
     },
     "execution_count": 192,
     "metadata": {},
     "output_type": "execute_result"
    }
   ],
   "source": [
    "word1 = 'package'\n",
    "pat = r\"^(?=.*\\b{}\\b).*$\".format(word1)\n",
    "clean_premise(pat,df)"
   ]
  },
  {
   "cell_type": "code",
   "execution_count": 193,
   "metadata": {},
   "outputs": [],
   "source": [
    "change_premise(pat,df,'package_facility')"
   ]
  },
  {
   "cell_type": "code",
   "execution_count": 194,
   "metadata": {},
   "outputs": [
    {
     "data": {
      "text/plain": [
       "barber and beauty shops    2136\n",
       "Name: premise, dtype: int64"
      ]
     },
     "execution_count": 194,
     "metadata": {},
     "output_type": "execute_result"
    }
   ],
   "source": [
    "word1 = 'barber'\n",
    "pat = r\"^(?=.*\\b{}\\b).*$\".format(word1)\n",
    "clean_premise(pat,df)"
   ]
  },
  {
   "cell_type": "code",
   "execution_count": 195,
   "metadata": {},
   "outputs": [],
   "source": [
    "change_premise(pat,df,'barber_shop')"
   ]
  },
  {
   "cell_type": "code",
   "execution_count": 196,
   "metadata": {},
   "outputs": [
    {
     "data": {
      "text/plain": [
       "pool hall/game room       277\n",
       "pool hall or game room    247\n",
       "Name: premise, dtype: int64"
      ]
     },
     "execution_count": 196,
     "metadata": {},
     "output_type": "execute_result"
    }
   ],
   "source": [
    "word1 = 'pool'\n",
    "pat = r\"^(?=.*\\b{}\\b).*$\".format(word1)\n",
    "clean_premise(pat,df)"
   ]
  },
  {
   "cell_type": "code",
   "execution_count": 197,
   "metadata": {},
   "outputs": [],
   "source": [
    "change_premise(pat,df,'pool_hall')"
   ]
  },
  {
   "cell_type": "code",
   "execution_count": 198,
   "metadata": {},
   "outputs": [
    {
     "data": {
      "text/plain": [
       "video rental & sales    133\n",
       "Name: premise, dtype: int64"
      ]
     },
     "execution_count": 198,
     "metadata": {},
     "output_type": "execute_result"
    }
   ],
   "source": [
    "word1 = 'video'\n",
    "pat = r\"^(?=.*\\b{}\\b).*$\".format(word1)\n",
    "clean_premise(pat,df)"
   ]
  },
  {
   "cell_type": "code",
   "execution_count": 199,
   "metadata": {},
   "outputs": [],
   "source": [
    "change_premise(pat,df,'video_rental')"
   ]
  },
  {
   "cell_type": "code",
   "execution_count": 200,
   "metadata": {},
   "outputs": [
    {
     "data": {
      "text/plain": [
       "daycare/child care/kindergarten         376\n",
       "daycare, child care, or kindergarten    300\n",
       "Name: premise, dtype: int64"
      ]
     },
     "execution_count": 200,
     "metadata": {},
     "output_type": "execute_result"
    }
   ],
   "source": [
    "word1 = 'care'\n",
    "pat = r\"^(?=.*\\b{}\\b).*$\".format(word1)\n",
    "clean_premise(pat,df)"
   ]
  },
  {
   "cell_type": "code",
   "execution_count": 201,
   "metadata": {},
   "outputs": [],
   "source": [
    "change_premise(pat,df,'daycare')"
   ]
  },
  {
   "cell_type": "code",
   "execution_count": 202,
   "metadata": {},
   "outputs": [
    {
     "data": {
      "text/plain": [
       "122"
      ]
     },
     "execution_count": 202,
     "metadata": {},
     "output_type": "execute_result"
    }
   ],
   "source": [
    "len(df.premise.value_counts())"
   ]
  },
  {
   "cell_type": "code",
   "execution_count": 203,
   "metadata": {},
   "outputs": [
    {
     "data": {
      "text/plain": [
       "amuse. park,bowl. alley,skate rink        150\n",
       "office_supplies                           149\n",
       "utility company, electric, gas, water     133\n",
       "video_rental                              133\n",
       "garden supply, nursery, florist           128\n",
       "toys,arts & craft,musical,bike,pet        105\n",
       "garden supply, nursery, or florist         99\n",
       "jail/prison                                90\n",
       "social services or public charities        78\n",
       "lake, pond, waterway, bayou, river         73\n",
       "tollway                                    63\n",
       "railroad track or right of way             46\n",
       "train terminal                             45\n",
       "railroad track/right of way                45\n",
       "lake/waterway/bayou                        39\n",
       "not listed                                 35\n",
       "train (not metro) terminal                 34\n",
       "jail or prison                             33\n",
       "package_facility                           25\n",
       "n                                          18\n",
       "illicit massage parlor or spa              12\n",
       "marine veh. sales,boats,sailboats          11\n",
       "06                                          8\n",
       "marine vehicle sales, boats, sailboats      8\n",
       "contra-flow/hov                             5\n",
       "adult theater/arcade                        5\n",
       "cantina                                     4\n",
       "modeling studio                             2\n",
       "contra-flow, managed, or hov lanes          1\n",
       "23c                                         1\n",
       "Name: premise, dtype: int64"
      ]
     },
     "execution_count": 203,
     "metadata": {},
     "output_type": "execute_result"
    }
   ],
   "source": [
    "df.premise.value_counts()[-30:]"
   ]
  },
  {
   "cell_type": "code",
   "execution_count": 204,
   "metadata": {},
   "outputs": [
    {
     "data": {
      "text/plain": [
       "jail/prison       90\n",
       "jail or prison    33\n",
       "Name: premise, dtype: int64"
      ]
     },
     "execution_count": 204,
     "metadata": {},
     "output_type": "execute_result"
    }
   ],
   "source": [
    "word1 = 'prison'\n",
    "pat = r\"^(?=.*\\b{}\\b).*$\".format(word1)\n",
    "clean_premise(pat,df)"
   ]
  },
  {
   "cell_type": "code",
   "execution_count": 205,
   "metadata": {},
   "outputs": [],
   "source": [
    "change_premise(pat,df,'jail_prison')"
   ]
  },
  {
   "cell_type": "code",
   "execution_count": 206,
   "metadata": {},
   "outputs": [
    {
     "data": {
      "text/plain": [
       "savings and loan institutions    150\n",
       "Name: premise, dtype: int64"
      ]
     },
     "execution_count": 206,
     "metadata": {},
     "output_type": "execute_result"
    }
   ],
   "source": [
    "word1 = 'loan'\n",
    "pat = r\"^(?=.*\\b{}\\b).*$\".format(word1)\n",
    "clean_premise(pat,df)"
   ]
  },
  {
   "cell_type": "code",
   "execution_count": 207,
   "metadata": {},
   "outputs": [],
   "source": [
    "change_premise(pat,df,'bank')"
   ]
  },
  {
   "cell_type": "code",
   "execution_count": 208,
   "metadata": {},
   "outputs": [
    {
     "data": {
      "text/plain": [
       "pawn, resale shop, or flea market    846\n",
       "pawn/resale shop/flea market         700\n",
       "Name: premise, dtype: int64"
      ]
     },
     "execution_count": 208,
     "metadata": {},
     "output_type": "execute_result"
    }
   ],
   "source": [
    "word1 = 'pawn'\n",
    "pat = r\"^(?=.*\\b{}\\b).*$\".format(word1)\n",
    "clean_premise(pat,df)"
   ]
  },
  {
   "cell_type": "code",
   "execution_count": 209,
   "metadata": {},
   "outputs": [],
   "source": [
    "change_premise(pat,df,'pawn_shop')"
   ]
  },
  {
   "cell_type": "code",
   "execution_count": 210,
   "metadata": {},
   "outputs": [
    {
     "data": {
      "text/plain": [
       "mobile home    1053\n",
       "Name: premise, dtype: int64"
      ]
     },
     "execution_count": 210,
     "metadata": {},
     "output_type": "execute_result"
    }
   ],
   "source": [
    "word1 = 'mobile'\n",
    "pat = r\"^(?=.*\\b{}\\b).*$\".format(word1)\n",
    "clean_premise(pat,df)"
   ]
  },
  {
   "cell_type": "code",
   "execution_count": 211,
   "metadata": {},
   "outputs": [],
   "source": [
    "change_premise(pat,df,'mobile_home')"
   ]
  },
  {
   "cell_type": "code",
   "execution_count": 212,
   "metadata": {},
   "outputs": [
    {
     "data": {
      "text/plain": [
       "body shop    410\n",
       "Name: premise, dtype: int64"
      ]
     },
     "execution_count": 212,
     "metadata": {},
     "output_type": "execute_result"
    }
   ],
   "source": [
    "word1 = 'shop'\n",
    "pat = r\"^(?=.*\\b{}\\b).*$\".format(word1)\n",
    "clean_premise(pat,df)"
   ]
  },
  {
   "cell_type": "code",
   "execution_count": 213,
   "metadata": {},
   "outputs": [],
   "source": [
    "change_premise(pat,df,'body_shop')"
   ]
  },
  {
   "cell_type": "code",
   "execution_count": 214,
   "metadata": {},
   "outputs": [
    {
     "data": {
      "text/plain": [
       "factory/manufacturing/industrial             729\n",
       "nursing home                                 703\n",
       "daycare                                      676\n",
       "libraries_museums                            624\n",
       "check cashing places                         618\n",
       "park_ride                                    596\n",
       "apartment laundry                            589\n",
       "jewelry stores                               567\n",
       "pool_hall                                    524\n",
       "---                                          492\n",
       "sporting goods/gun shops                     461\n",
       "college                                      427\n",
       "factory, manufacturing, or industrial        420\n",
       "alley                                        411\n",
       "body_shop                                    410\n",
       "theatres, dinner theaters, auditoriums       386\n",
       "convention_center                            351\n",
       "police_station                               351\n",
       "sporting goods or gun shops                  308\n",
       "theatres,dinner theaters,auditor.            306\n",
       "furniture, appliances, radios, tv            274\n",
       "amusement park, bowling alley, skate rink    253\n",
       "rehabilitation center                        250\n",
       "rail_vehicle                                 189\n",
       "fire station                                 187\n",
       "high rise                                    184\n",
       "rail_platform                                182\n",
       "social services/public charities             167\n",
       "utility company,electric,gas,water           165\n",
       "toys, arts craft,musical, bike,pet stores    151\n",
       "amuse. park,bowl. alley,skate rink           150\n",
       "office_supplies                              149\n",
       "utility company, electric, gas, water        133\n",
       "video_rental                                 133\n",
       "garden supply, nursery, florist              128\n",
       "jail_prison                                  123\n",
       "toys,arts & craft,musical,bike,pet           105\n",
       "garden supply, nursery, or florist            99\n",
       "social services or public charities           78\n",
       "lake, pond, waterway, bayou, river            73\n",
       "tollway                                       63\n",
       "railroad track or right of way                46\n",
       "railroad track/right of way                   45\n",
       "train terminal                                45\n",
       "lake/waterway/bayou                           39\n",
       "not listed                                    35\n",
       "train (not metro) terminal                    34\n",
       "package_facility                              25\n",
       "n                                             18\n",
       "illicit massage parlor or spa                 12\n",
       "marine veh. sales,boats,sailboats             11\n",
       "06                                             8\n",
       "marine vehicle sales, boats, sailboats         8\n",
       "contra-flow/hov                                5\n",
       "adult theater/arcade                           5\n",
       "cantina                                        4\n",
       "modeling studio                                2\n",
       "contra-flow, managed, or hov lanes             1\n",
       "23c                                            1\n",
       "Name: premise, dtype: int64"
      ]
     },
     "execution_count": 214,
     "metadata": {},
     "output_type": "execute_result"
    }
   ],
   "source": [
    "df.premise.value_counts()[60:]"
   ]
  },
  {
   "cell_type": "code",
   "execution_count": 215,
   "metadata": {},
   "outputs": [
    {
     "data": {
      "text/plain": [
       "railroad track or right of way    46\n",
       "railroad track/right of way       45\n",
       "Name: premise, dtype: int64"
      ]
     },
     "execution_count": 215,
     "metadata": {},
     "output_type": "execute_result"
    }
   ],
   "source": [
    "word1 = 'railroad'\n",
    "pat = r\"^(?=.*\\b{}\\b).*$\".format(word1)\n",
    "clean_premise(pat,df)"
   ]
  },
  {
   "cell_type": "code",
   "execution_count": 216,
   "metadata": {},
   "outputs": [],
   "source": [
    "change_premise(pat,df,'rail_road')"
   ]
  },
  {
   "cell_type": "code",
   "execution_count": 217,
   "metadata": {},
   "outputs": [
    {
     "data": {
      "text/plain": [
       "high rise    184\n",
       "Name: premise, dtype: int64"
      ]
     },
     "execution_count": 217,
     "metadata": {},
     "output_type": "execute_result"
    }
   ],
   "source": [
    "word1 = 'rise'\n",
    "pat = r\"^(?=.*\\b{}\\b).*$\".format(word1)\n",
    "clean_premise(pat,df)"
   ]
  },
  {
   "cell_type": "code",
   "execution_count": 218,
   "metadata": {},
   "outputs": [],
   "source": [
    "change_premise(pat,df,'high_rise')"
   ]
  },
  {
   "cell_type": "code",
   "execution_count": 219,
   "metadata": {},
   "outputs": [
    {
     "data": {
      "text/plain": [
       "check cashing places    618\n",
       "Name: premise, dtype: int64"
      ]
     },
     "execution_count": 219,
     "metadata": {},
     "output_type": "execute_result"
    }
   ],
   "source": [
    "word1 = 'check'\n",
    "pat = r\"^(?=.*\\b{}\\b).*$\".format(word1)\n",
    "clean_premise(pat,df)"
   ]
  },
  {
   "cell_type": "code",
   "execution_count": 220,
   "metadata": {},
   "outputs": [],
   "source": [
    "change_premise(pat,df,'check_cash')"
   ]
  },
  {
   "cell_type": "code",
   "execution_count": 221,
   "metadata": {},
   "outputs": [
    {
     "data": {
      "text/plain": [
       "rehabilitation center    250\n",
       "Name: premise, dtype: int64"
      ]
     },
     "execution_count": 221,
     "metadata": {},
     "output_type": "execute_result"
    }
   ],
   "source": [
    "word1 = 'center'\n",
    "pat = r\"^(?=.*\\b{}\\b).*$\".format(word1)\n",
    "clean_premise(pat,df)"
   ]
  },
  {
   "cell_type": "code",
   "execution_count": 222,
   "metadata": {},
   "outputs": [],
   "source": [
    "change_premise(pat,df,'rehab_center')"
   ]
  },
  {
   "cell_type": "code",
   "execution_count": 223,
   "metadata": {},
   "outputs": [
    {
     "data": {
      "text/plain": [
       "118"
      ]
     },
     "execution_count": 223,
     "metadata": {},
     "output_type": "execute_result"
    }
   ],
   "source": [
    "len(df.premise.value_counts())"
   ]
  },
  {
   "cell_type": "code",
   "execution_count": 224,
   "metadata": {},
   "outputs": [
    {
     "data": {
      "text/html": [
       "<div>\n",
       "<style scoped>\n",
       "    .dataframe tbody tr th:only-of-type {\n",
       "        vertical-align: middle;\n",
       "    }\n",
       "\n",
       "    .dataframe tbody tr th {\n",
       "        vertical-align: top;\n",
       "    }\n",
       "\n",
       "    .dataframe thead th {\n",
       "        text-align: right;\n",
       "    }\n",
       "</style>\n",
       "<table border=\"1\" class=\"dataframe\">\n",
       "  <thead>\n",
       "    <tr style=\"text-align: right;\">\n",
       "      <th></th>\n",
       "      <th>date</th>\n",
       "      <th>hour</th>\n",
       "      <th>beat</th>\n",
       "      <th>offense_type</th>\n",
       "      <th>block_range</th>\n",
       "      <th>street_name</th>\n",
       "      <th>premise</th>\n",
       "      <th>num_offenses</th>\n",
       "      <th>type</th>\n",
       "    </tr>\n",
       "  </thead>\n",
       "  <tbody>\n",
       "    <tr>\n",
       "      <th>0</th>\n",
       "      <td>1914-09-08</td>\n",
       "      <td>7</td>\n",
       "      <td>24C60</td>\n",
       "      <td>Burglary</td>\n",
       "      <td>12700-12799</td>\n",
       "      <td>LAKE HOUSTON</td>\n",
       "      <td>restaurant</td>\n",
       "      <td>1</td>\n",
       "      <td>PKWY</td>\n",
       "    </tr>\n",
       "    <tr>\n",
       "      <th>1</th>\n",
       "      <td>1914-11-02</td>\n",
       "      <td>3</td>\n",
       "      <td>18F60</td>\n",
       "      <td>Burglary</td>\n",
       "      <td>8800-8899</td>\n",
       "      <td>BELLAIRE</td>\n",
       "      <td>business</td>\n",
       "      <td>1</td>\n",
       "      <td>BLVD</td>\n",
       "    </tr>\n",
       "    <tr>\n",
       "      <th>2</th>\n",
       "      <td>1914-12-03</td>\n",
       "      <td>19</td>\n",
       "      <td>12D20</td>\n",
       "      <td>Auto Theft</td>\n",
       "      <td>12800-12899</td>\n",
       "      <td>GULF</td>\n",
       "      <td>unknown</td>\n",
       "      <td>1</td>\n",
       "      <td>FWY</td>\n",
       "    </tr>\n",
       "    <tr>\n",
       "      <th>3</th>\n",
       "      <td>1915-01-05</td>\n",
       "      <td>22</td>\n",
       "      <td>3B10</td>\n",
       "      <td>Theft</td>\n",
       "      <td>3200-3299</td>\n",
       "      <td>MANGUM RD 180</td>\n",
       "      <td>other_parking</td>\n",
       "      <td>1</td>\n",
       "      <td>-</td>\n",
       "    </tr>\n",
       "    <tr>\n",
       "      <th>4</th>\n",
       "      <td>1915-01-14</td>\n",
       "      <td>23</td>\n",
       "      <td>5F10</td>\n",
       "      <td>Auto Theft</td>\n",
       "      <td>7000-7099</td>\n",
       "      <td>WESTVIEW</td>\n",
       "      <td>apartment_parking</td>\n",
       "      <td>1</td>\n",
       "      <td>DR</td>\n",
       "    </tr>\n",
       "  </tbody>\n",
       "</table>\n",
       "</div>"
      ],
      "text/plain": [
       "         date  hour   beat offense_type  block_range    street_name  \\\n",
       "0  1914-09-08     7  24C60     Burglary  12700-12799   LAKE HOUSTON   \n",
       "1  1914-11-02     3  18F60     Burglary    8800-8899       BELLAIRE   \n",
       "2  1914-12-03    19  12D20   Auto Theft  12800-12899           GULF   \n",
       "3  1915-01-05    22   3B10        Theft    3200-3299  MANGUM RD 180   \n",
       "4  1915-01-14    23   5F10   Auto Theft    7000-7099       WESTVIEW   \n",
       "\n",
       "             premise  num_offenses  type  \n",
       "0         restaurant             1  PKWY  \n",
       "1           business             1  BLVD  \n",
       "2            unknown             1   FWY  \n",
       "3      other_parking             1     -  \n",
       "4  apartment_parking             1    DR  "
      ]
     },
     "execution_count": 224,
     "metadata": {},
     "output_type": "execute_result"
    }
   ],
   "source": [
    "df.head()"
   ]
  },
  {
   "cell_type": "code",
   "execution_count": 225,
   "metadata": {},
   "outputs": [],
   "source": [
    "#df.to_csv(data_directory_saves+\"crime_beats_02.csv\")"
   ]
  },
  {
   "cell_type": "code",
   "execution_count": 226,
   "metadata": {},
   "outputs": [
    {
     "data": {
      "text/plain": [
       "118"
      ]
     },
     "execution_count": 226,
     "metadata": {},
     "output_type": "execute_result"
    }
   ],
   "source": [
    "len(df.premise.value_counts())"
   ]
  },
  {
   "cell_type": "code",
   "execution_count": 227,
   "metadata": {},
   "outputs": [
    {
     "data": {
      "text/plain": [
       "house                        129717\n",
       "apartment                    118085\n",
       "apartment_parking            111134\n",
       "road_street_sidewalk          81754\n",
       "unknown                       59264\n",
       "other_parking                 52748\n",
       "driveway                      52736\n",
       "department_store              38154\n",
       "restaurant_parking            32469\n",
       "commercial_parking            24329\n",
       "supermarket                   21104\n",
       "business_center_parking       18597\n",
       "gas_station                   17250\n",
       "business                      15539\n",
       "restaurant                    15306\n",
       "building                      14689\n",
       "hotel_motel_parking           13399\n",
       "convenience_store             12957\n",
       "supermarket_parking           11894\n",
       "bar_club_parking              10099\n",
       "bar_club                       9006\n",
       "hotel_motel                    8780\n",
       "convenience_store_parking      8474\n",
       "specialty_store                7757\n",
       "vacant_structure               6851\n",
       "garage_carport                 6758\n",
       "park_rec_pool                  6359\n",
       "school                         5131\n",
       "clothing_store                 4987\n",
       "drug_store                     4865\n",
       "auto_sale_parts_store          4447\n",
       "storage_facility               4120\n",
       "multiplex_home                 4048\n",
       "construction_site              3849\n",
       "airport terminal               3781\n",
       "hospital                       3498\n",
       "gym_club_house                 3394\n",
       "church_temple                  3258\n",
       "bus_stop_station               3175\n",
       "electronic_store               3078\n",
       "mall common area               2937\n",
       "church_temple_parking          2908\n",
       "auto_repair                    2816\n",
       "warehouse                      2503\n",
       "barber_shop                    2136\n",
       "hospital_parking               2071\n",
       "rental_office                  2000\n",
       "bank_parking                   1914\n",
       "dry_cleaners                   1824\n",
       "bank                           1740\n",
       "Name: premise, dtype: int64"
      ]
     },
     "execution_count": 227,
     "metadata": {},
     "output_type": "execute_result"
    }
   ],
   "source": [
    "df.premise.value_counts()[:50]"
   ]
  },
  {
   "cell_type": "code",
   "execution_count": 228,
   "metadata": {},
   "outputs": [
    {
     "data": {
      "text/plain": [
       "field_woods_park                             1714\n",
       "sexually_oriented_business                   1647\n",
       "pawn_shop                                    1546\n",
       "highway_freeway                              1445\n",
       "doctor_office                                1311\n",
       "car wash                                     1274\n",
       "liquor_store                                 1260\n",
       "mobile_home                                  1053\n",
       "freeway service road                          887\n",
       "stadium_arena_track                           872\n",
       "factory/manufacturing/industrial              729\n",
       "nursing home                                  703\n",
       "daycare                                       676\n",
       "libraries_museums                             624\n",
       "check_cash                                    618\n",
       "park_ride                                     596\n",
       "apartment laundry                             589\n",
       "jewelry stores                                567\n",
       "pool_hall                                     524\n",
       "---                                           492\n",
       "sporting goods/gun shops                      461\n",
       "college                                       427\n",
       "factory, manufacturing, or industrial         420\n",
       "alley                                         411\n",
       "body_shop                                     410\n",
       "theatres, dinner theaters, auditoriums        386\n",
       "convention_center                             351\n",
       "police_station                                351\n",
       "sporting goods or gun shops                   308\n",
       "theatres,dinner theaters,auditor.             306\n",
       "                                             ... \n",
       "utility company,electric,gas,water            165\n",
       "toys, arts craft,musical, bike,pet stores     151\n",
       "amuse. park,bowl. alley,skate rink            150\n",
       "office_supplies                               149\n",
       "utility company, electric, gas, water         133\n",
       "video_rental                                  133\n",
       "garden supply, nursery, florist               128\n",
       "jail_prison                                   123\n",
       "toys,arts & craft,musical,bike,pet            105\n",
       "garden supply, nursery, or florist             99\n",
       "rail_road                                      91\n",
       "social services or public charities            78\n",
       "lake, pond, waterway, bayou, river             73\n",
       "tollway                                        63\n",
       "train terminal                                 45\n",
       "lake/waterway/bayou                            39\n",
       "not listed                                     35\n",
       "train (not metro) terminal                     34\n",
       "package_facility                               25\n",
       "n                                              18\n",
       "illicit massage parlor or spa                  12\n",
       "marine veh. sales,boats,sailboats              11\n",
       "06                                              8\n",
       "marine vehicle sales, boats, sailboats          8\n",
       "contra-flow/hov                                 5\n",
       "adult theater/arcade                            5\n",
       "cantina                                         4\n",
       "modeling studio                                 2\n",
       "contra-flow, managed, or hov lanes              1\n",
       "23c                                             1\n",
       "Name: premise, Length: 68, dtype: int64"
      ]
     },
     "execution_count": 228,
     "metadata": {},
     "output_type": "execute_result"
    }
   ],
   "source": [
    "df.premise.value_counts()[50:]"
   ]
  },
  {
   "cell_type": "code",
   "execution_count": 229,
   "metadata": {},
   "outputs": [
    {
     "data": {
      "text/plain": [
       "social services/public charities       167\n",
       "social services or public charities     78\n",
       "Name: premise, dtype: int64"
      ]
     },
     "execution_count": 229,
     "metadata": {},
     "output_type": "execute_result"
    }
   ],
   "source": [
    "word1 = 'social'\n",
    "pat = r\"^(?=.*\\b{}\\b).*$\".format(word1)\n",
    "clean_premise(pat,df)"
   ]
  },
  {
   "cell_type": "code",
   "execution_count": 230,
   "metadata": {},
   "outputs": [],
   "source": [
    "change_premise(pat,df,'social_service')"
   ]
  },
  {
   "cell_type": "code",
   "execution_count": 231,
   "metadata": {},
   "outputs": [
    {
     "data": {
      "text/plain": [
       "amusement park, bowling alley, skate rink    253\n",
       "amuse. park,bowl. alley,skate rink           150\n",
       "Name: premise, dtype: int64"
      ]
     },
     "execution_count": 231,
     "metadata": {},
     "output_type": "execute_result"
    }
   ],
   "source": [
    "word1 = 'skate'\n",
    "word2 = 'park'\n",
    "pat = r\"^(?=.*\\b{}\\b)(?=.*\\b{}\\b).*$\".format(word1,word2)\n",
    "clean_premise(pat,df)"
   ]
  },
  {
   "cell_type": "code",
   "execution_count": 232,
   "metadata": {},
   "outputs": [],
   "source": [
    "change_premise(pat,df,'bowling_skate')"
   ]
  },
  {
   "cell_type": "code",
   "execution_count": 233,
   "metadata": {},
   "outputs": [
    {
     "data": {
      "text/plain": [
       "car wash    1274\n",
       "Name: premise, dtype: int64"
      ]
     },
     "execution_count": 233,
     "metadata": {},
     "output_type": "execute_result"
    }
   ],
   "source": [
    "word1 = 'car'\n",
    "word2 = 'wash'\n",
    "pat = r\"^(?=.*\\b{}\\b)(?=.*\\b{}\\b).*$\".format(word1,word2)\n",
    "clean_premise(pat,df)"
   ]
  },
  {
   "cell_type": "code",
   "execution_count": 234,
   "metadata": {},
   "outputs": [],
   "source": [
    "change_premise(pat,df,'car_wash')"
   ]
  },
  {
   "cell_type": "code",
   "execution_count": 235,
   "metadata": {},
   "outputs": [
    {
     "data": {
      "text/plain": [
       "nursing home    703\n",
       "Name: premise, dtype: int64"
      ]
     },
     "execution_count": 235,
     "metadata": {},
     "output_type": "execute_result"
    }
   ],
   "source": [
    "word1 = 'nursing'\n",
    "pat = r\"^(?=.*\\b{}\\b).*$\".format(word1)\n",
    "clean_premise(pat,df)"
   ]
  },
  {
   "cell_type": "code",
   "execution_count": 236,
   "metadata": {},
   "outputs": [],
   "source": [
    "change_premise(pat,df,'nursing_home')"
   ]
  },
  {
   "cell_type": "code",
   "execution_count": 237,
   "metadata": {},
   "outputs": [
    {
     "data": {
      "text/plain": [
       "freeway service road    887\n",
       "Name: premise, dtype: int64"
      ]
     },
     "execution_count": 237,
     "metadata": {},
     "output_type": "execute_result"
    }
   ],
   "source": [
    "word1 = 'freeway'\n",
    "pat = r\"^(?=.*\\b{}\\b).*$\".format(word1)\n",
    "clean_premise(pat,df)"
   ]
  },
  {
   "cell_type": "code",
   "execution_count": 238,
   "metadata": {},
   "outputs": [],
   "source": [
    "change_premise(pat,df,'freeway_service_road')"
   ]
  },
  {
   "cell_type": "code",
   "execution_count": 239,
   "metadata": {},
   "outputs": [
    {
     "data": {
      "text/plain": [
       "fire station    187\n",
       "Name: premise, dtype: int64"
      ]
     },
     "execution_count": 239,
     "metadata": {},
     "output_type": "execute_result"
    }
   ],
   "source": [
    "word1 = 'fire'\n",
    "pat = r\"^(?=.*\\b{}\\b).*$\".format(word1)\n",
    "clean_premise(pat,df)"
   ]
  },
  {
   "cell_type": "code",
   "execution_count": 240,
   "metadata": {},
   "outputs": [],
   "source": [
    "change_premise(pat,df,'fire_station')"
   ]
  },
  {
   "cell_type": "code",
   "execution_count": 241,
   "metadata": {},
   "outputs": [
    {
     "data": {
      "text/plain": [
       "theatres, dinner theaters, auditoriums    386\n",
       "theatres,dinner theaters,auditor.         306\n",
       "Name: premise, dtype: int64"
      ]
     },
     "execution_count": 241,
     "metadata": {},
     "output_type": "execute_result"
    }
   ],
   "source": [
    "#theatres\n",
    "word1 = 'theatres'\n",
    "pat = r\"^(?=.*\\b{}\\b).*$\".format(word1)\n",
    "clean_premise(pat,df)"
   ]
  },
  {
   "cell_type": "code",
   "execution_count": 242,
   "metadata": {},
   "outputs": [],
   "source": [
    "change_premise(pat,df,'theatres_dinner')"
   ]
  },
  {
   "cell_type": "code",
   "execution_count": 243,
   "metadata": {},
   "outputs": [
    {
     "data": {
      "text/plain": [
       "mall common area    2937\n",
       "Name: premise, dtype: int64"
      ]
     },
     "execution_count": 243,
     "metadata": {},
     "output_type": "execute_result"
    }
   ],
   "source": [
    "#mall\n",
    "word1 = 'mall'\n",
    "pat = r\"^(?=.*\\b{}\\b).*$\".format(word1)\n",
    "clean_premise(pat,df)"
   ]
  },
  {
   "cell_type": "code",
   "execution_count": 244,
   "metadata": {},
   "outputs": [],
   "source": [
    "change_premise(pat,df,'mall_area')"
   ]
  },
  {
   "cell_type": "code",
   "execution_count": 245,
   "metadata": {},
   "outputs": [
    {
     "data": {
      "text/plain": [
       "factory/manufacturing/industrial         729\n",
       "factory, manufacturing, or industrial    420\n",
       "Name: premise, dtype: int64"
      ]
     },
     "execution_count": 245,
     "metadata": {},
     "output_type": "execute_result"
    }
   ],
   "source": [
    "#mall\n",
    "word1 = 'factory'\n",
    "pat = r\"^(?=.*\\b{}\\b).*$\".format(word1)\n",
    "clean_premise(pat,df)"
   ]
  },
  {
   "cell_type": "code",
   "execution_count": 246,
   "metadata": {},
   "outputs": [],
   "source": [
    "change_premise(pat,df,'factory_industrial')"
   ]
  },
  {
   "cell_type": "code",
   "execution_count": 247,
   "metadata": {},
   "outputs": [
    {
     "data": {
      "text/plain": [
       "jewelry stores    567\n",
       "Name: premise, dtype: int64"
      ]
     },
     "execution_count": 247,
     "metadata": {},
     "output_type": "execute_result"
    }
   ],
   "source": [
    "# jewelry\n",
    "#mall\n",
    "word1 = 'jewelry'\n",
    "pat = r\"^(?=.*\\b{}\\b).*$\".format(word1)\n",
    "clean_premise(pat,df)"
   ]
  },
  {
   "cell_type": "code",
   "execution_count": 248,
   "metadata": {},
   "outputs": [],
   "source": [
    "change_premise(pat,df,'jewelry_store')"
   ]
  },
  {
   "cell_type": "code",
   "execution_count": 249,
   "metadata": {},
   "outputs": [
    {
     "data": {
      "text/plain": [
       "illicit massage parlor or spa             12\n",
       "marine veh. sales,boats,sailboats         11\n",
       "marine vehicle sales, boats, sailboats     8\n",
       "06                                         8\n",
       "adult theater/arcade                       5\n",
       "contra-flow/hov                            5\n",
       "cantina                                    4\n",
       "modeling studio                            2\n",
       "contra-flow, managed, or hov lanes         1\n",
       "23c                                        1\n",
       "Name: premise, dtype: int64"
      ]
     },
     "execution_count": 249,
     "metadata": {},
     "output_type": "execute_result"
    }
   ],
   "source": [
    "df.premise.value_counts()[-10:]"
   ]
  },
  {
   "cell_type": "code",
   "execution_count": 250,
   "metadata": {},
   "outputs": [
    {
     "data": {
      "text/plain": [
       "garden supply, nursery, florist       128\n",
       "garden supply, nursery, or florist     99\n",
       "Name: premise, dtype: int64"
      ]
     },
     "execution_count": 250,
     "metadata": {},
     "output_type": "execute_result"
    }
   ],
   "source": [
    "word1 = 'garden'\n",
    "pat = r\"^(?=.*\\b{}\\b).*$\".format(word1)\n",
    "clean_premise(pat,df)"
   ]
  },
  {
   "cell_type": "code",
   "execution_count": 251,
   "metadata": {},
   "outputs": [],
   "source": [
    "change_premise(pat,df,'garden_florist')"
   ]
  },
  {
   "cell_type": "code",
   "execution_count": 252,
   "metadata": {},
   "outputs": [
    {
     "data": {
      "text/plain": [
       "utility company,electric,gas,water       165\n",
       "utility company, electric, gas, water    133\n",
       "Name: premise, dtype: int64"
      ]
     },
     "execution_count": 252,
     "metadata": {},
     "output_type": "execute_result"
    }
   ],
   "source": [
    "word1 = 'utility'\n",
    "pat = r\"^(?=.*\\b{}\\b).*$\".format(word1)\n",
    "clean_premise(pat,df)"
   ]
  },
  {
   "cell_type": "code",
   "execution_count": 253,
   "metadata": {},
   "outputs": [],
   "source": [
    "change_premise(pat,df,'utility_company')"
   ]
  },
  {
   "cell_type": "code",
   "execution_count": 254,
   "metadata": {},
   "outputs": [
    {
     "data": {
      "text/plain": [
       "sporting goods/gun shops       461\n",
       "sporting goods or gun shops    308\n",
       "Name: premise, dtype: int64"
      ]
     },
     "execution_count": 254,
     "metadata": {},
     "output_type": "execute_result"
    }
   ],
   "source": [
    "word1 = 'gun'\n",
    "pat = r\"^(?=.*\\b{}\\b).*$\".format(word1)\n",
    "clean_premise(pat,df)"
   ]
  },
  {
   "cell_type": "code",
   "execution_count": 255,
   "metadata": {},
   "outputs": [],
   "source": [
    "change_premise(pat,df,'gun_shop')"
   ]
  },
  {
   "cell_type": "code",
   "execution_count": 256,
   "metadata": {},
   "outputs": [
    {
     "data": {
      "text/plain": [
       "social_service                               245\n",
       "garden_florist                               227\n",
       "rail_vehicle                                 189\n",
       "fire_station                                 187\n",
       "high_rise                                    184\n",
       "rail_platform                                182\n",
       "toys, arts craft,musical, bike,pet stores    151\n",
       "office_supplies                              149\n",
       "video_rental                                 133\n",
       "jail_prison                                  123\n",
       "toys,arts & craft,musical,bike,pet           105\n",
       "rail_road                                     91\n",
       "lake, pond, waterway, bayou, river            73\n",
       "tollway                                       63\n",
       "train terminal                                45\n",
       "lake/waterway/bayou                           39\n",
       "not listed                                    35\n",
       "train (not metro) terminal                    34\n",
       "package_facility                              25\n",
       "n                                             18\n",
       "illicit massage parlor or spa                 12\n",
       "marine veh. sales,boats,sailboats             11\n",
       "marine vehicle sales, boats, sailboats         8\n",
       "06                                             8\n",
       "contra-flow/hov                                5\n",
       "adult theater/arcade                           5\n",
       "cantina                                        4\n",
       "modeling studio                                2\n",
       "contra-flow, managed, or hov lanes             1\n",
       "23c                                            1\n",
       "Name: premise, dtype: int64"
      ]
     },
     "execution_count": 256,
     "metadata": {},
     "output_type": "execute_result"
    }
   ],
   "source": [
    "df.premise.value_counts()[-30:]"
   ]
  },
  {
   "cell_type": "code",
   "execution_count": 257,
   "metadata": {},
   "outputs": [
    {
     "data": {
      "text/plain": [
       "lake, pond, waterway, bayou, river    73\n",
       "lake/waterway/bayou                   39\n",
       "Name: premise, dtype: int64"
      ]
     },
     "execution_count": 257,
     "metadata": {},
     "output_type": "execute_result"
    }
   ],
   "source": [
    "word1 = 'lake'\n",
    "pat = r\"^(?=.*\\b{}\\b).*$\".format(word1)\n",
    "clean_premise(pat,df)"
   ]
  },
  {
   "cell_type": "code",
   "execution_count": 258,
   "metadata": {},
   "outputs": [],
   "source": [
    "change_premise(pat,df,'lake_bayou_river')"
   ]
  },
  {
   "cell_type": "code",
   "execution_count": null,
   "metadata": {},
   "outputs": [],
   "source": []
  },
  {
   "cell_type": "code",
   "execution_count": 259,
   "metadata": {},
   "outputs": [],
   "source": [
    "change_premise(pat,df,'marine_veh')"
   ]
  },
  {
   "cell_type": "code",
   "execution_count": 260,
   "metadata": {},
   "outputs": [
    {
     "data": {
      "text/plain": [
       "Series([], Name: premise, dtype: int64)"
      ]
     },
     "execution_count": 260,
     "metadata": {},
     "output_type": "execute_result"
    }
   ],
   "source": [
    "rd1 = 'train'\n",
    "pat = r\"^(?=.*\\b{}\\b).*$\".format(word1)\n",
    "clean_premise(pat,df)"
   ]
  },
  {
   "cell_type": "code",
   "execution_count": 261,
   "metadata": {},
   "outputs": [
    {
     "data": {
      "text/plain": [
       "110"
      ]
     },
     "execution_count": 261,
     "metadata": {},
     "output_type": "execute_result"
    }
   ],
   "source": [
    "len(df.premise.unique())"
   ]
  },
  {
   "cell_type": "code",
   "execution_count": 262,
   "metadata": {},
   "outputs": [],
   "source": [
    "df.premise = df.premise.str.strip()"
   ]
  },
  {
   "cell_type": "code",
   "execution_count": 263,
   "metadata": {},
   "outputs": [
    {
     "data": {
      "text/plain": [
       "110"
      ]
     },
     "execution_count": 263,
     "metadata": {},
     "output_type": "execute_result"
    }
   ],
   "source": [
    "len(df.premise.unique())"
   ]
  },
  {
   "cell_type": "code",
   "execution_count": 264,
   "metadata": {},
   "outputs": [
    {
     "data": {
      "text/plain": [
       "house                        129717\n",
       "apartment                    118085\n",
       "apartment_parking            111134\n",
       "road_street_sidewalk          81754\n",
       "unknown                       59264\n",
       "other_parking                 52748\n",
       "driveway                      52736\n",
       "department_store              38154\n",
       "restaurant_parking            32469\n",
       "commercial_parking            24329\n",
       "supermarket                   21104\n",
       "business_center_parking       18597\n",
       "gas_station                   17250\n",
       "business                      15539\n",
       "restaurant                    15306\n",
       "building                      14689\n",
       "hotel_motel_parking           13399\n",
       "convenience_store             12957\n",
       "supermarket_parking           11894\n",
       "bar_club_parking              10099\n",
       "bar_club                       9006\n",
       "hotel_motel                    8780\n",
       "convenience_store_parking      8474\n",
       "specialty_store                7757\n",
       "vacant_structure               6851\n",
       "garage_carport                 6758\n",
       "park_rec_pool                  6359\n",
       "school                         5131\n",
       "clothing_store                 4987\n",
       "drug_store                     4865\n",
       "auto_sale_parts_store          4447\n",
       "storage_facility               4120\n",
       "multiplex_home                 4048\n",
       "construction_site              3849\n",
       "airport terminal               3781\n",
       "hospital                       3498\n",
       "gym_club_house                 3394\n",
       "church_temple                  3258\n",
       "bus_stop_station               3175\n",
       "electronic_store               3078\n",
       "mall_area                      2937\n",
       "church_temple_parking          2908\n",
       "auto_repair                    2816\n",
       "warehouse                      2503\n",
       "barber_shop                    2136\n",
       "hospital_parking               2071\n",
       "rental_office                  2000\n",
       "bank_parking                   1914\n",
       "dry_cleaners                   1824\n",
       "bank                           1740\n",
       "Name: premise, dtype: int64"
      ]
     },
     "execution_count": 264,
     "metadata": {},
     "output_type": "execute_result"
    }
   ],
   "source": [
    "df.premise.value_counts()[:50]"
   ]
  },
  {
   "cell_type": "code",
   "execution_count": 265,
   "metadata": {},
   "outputs": [
    {
     "data": {
      "text/plain": [
       "field_woods_park                             1714\n",
       "sexually_oriented_business                   1647\n",
       "pawn_shop                                    1546\n",
       "highway_freeway                              1445\n",
       "doctor_office                                1311\n",
       "car_wash                                     1274\n",
       "liquor_store                                 1260\n",
       "factory_industrial                           1149\n",
       "mobile_home                                  1053\n",
       "freeway_service_road                          887\n",
       "stadium_arena_track                           872\n",
       "gun_shop                                      769\n",
       "nursing_home                                  703\n",
       "theatres_dinner                               692\n",
       "daycare                                       676\n",
       "libraries_museums                             624\n",
       "check_cash                                    618\n",
       "park_ride                                     596\n",
       "apartment laundry                             589\n",
       "jewelry_store                                 567\n",
       "pool_hall                                     524\n",
       "---                                           492\n",
       "college                                       427\n",
       "alley                                         411\n",
       "body_shop                                     410\n",
       "bowling_skate                                 403\n",
       "police_station                                351\n",
       "convention_center                             351\n",
       "utility_company                               298\n",
       "furniture, appliances, radios, tv             274\n",
       "rehab_center                                  250\n",
       "social_service                                245\n",
       "garden_florist                                227\n",
       "rail_vehicle                                  189\n",
       "fire_station                                  187\n",
       "high_rise                                     184\n",
       "rail_platform                                 182\n",
       "toys, arts craft,musical, bike,pet stores     151\n",
       "office_supplies                               149\n",
       "video_rental                                  133\n",
       "jail_prison                                   123\n",
       "lake_bayou_river                              112\n",
       "toys,arts & craft,musical,bike,pet            105\n",
       "rail_road                                      91\n",
       "tollway                                        63\n",
       "train terminal                                 45\n",
       "not listed                                     35\n",
       "train (not metro) terminal                     34\n",
       "package_facility                               25\n",
       "n                                              18\n",
       "illicit massage parlor or spa                  12\n",
       "marine veh. sales,boats,sailboats              11\n",
       "06                                              8\n",
       "marine vehicle sales, boats, sailboats          8\n",
       "contra-flow/hov                                 5\n",
       "adult theater/arcade                            5\n",
       "cantina                                         4\n",
       "modeling studio                                 2\n",
       "contra-flow, managed, or hov lanes              1\n",
       "23c                                             1\n",
       "Name: premise, dtype: int64"
      ]
     },
     "execution_count": 265,
     "metadata": {},
     "output_type": "execute_result"
    }
   ],
   "source": [
    "df.premise.value_counts()[50:]"
   ]
  },
  {
   "cell_type": "code",
   "execution_count": 266,
   "metadata": {},
   "outputs": [
    {
     "data": {
      "text/plain": [
       "train (not metro) terminal    34\n",
       "Name: premise, dtype: int64"
      ]
     },
     "execution_count": 266,
     "metadata": {},
     "output_type": "execute_result"
    }
   ],
   "source": [
    "word1 = 'metro'\n",
    "word2 = 'train'\n",
    "\n",
    "pat = r\"^(?=.*\\b{}\\b)(?=.*\\b{}\\b).*$\".format(word1,word2)\n",
    "clean_premise(pat,df)"
   ]
  },
  {
   "cell_type": "code",
   "execution_count": 267,
   "metadata": {},
   "outputs": [],
   "source": [
    "change_premise(pat,df,'train_terminal')"
   ]
  },
  {
   "cell_type": "code",
   "execution_count": 268,
   "metadata": {},
   "outputs": [
    {
     "data": {
      "text/plain": [
       "train terminal    45\n",
       "Name: premise, dtype: int64"
      ]
     },
     "execution_count": 268,
     "metadata": {},
     "output_type": "execute_result"
    }
   ],
   "source": [
    "word1 = 'train'\n",
    "word2 = 'terminal'\n",
    "\n",
    "pat = r\"^(?=.*\\b{}\\b)(?=.*\\b{}\\b).*$\".format(word1,word2)\n",
    "clean_premise(pat,df)"
   ]
  },
  {
   "cell_type": "code",
   "execution_count": 269,
   "metadata": {},
   "outputs": [],
   "source": [
    "change_premise(pat,df,'train_terminal')"
   ]
  },
  {
   "cell_type": "code",
   "execution_count": 270,
   "metadata": {},
   "outputs": [
    {
     "data": {
      "text/plain": [
       "furniture, appliances, radios, tv    274\n",
       "Name: premise, dtype: int64"
      ]
     },
     "execution_count": 270,
     "metadata": {},
     "output_type": "execute_result"
    }
   ],
   "source": [
    "word1 = 'appliances'\n",
    "word2 = 'radios'\n",
    "\n",
    "pat = r\"^(?=.*\\b{}\\b)(?=.*\\b{}\\b).*$\".format(word1,word2)\n",
    "clean_premise(pat,df)"
   ]
  },
  {
   "cell_type": "code",
   "execution_count": 271,
   "metadata": {},
   "outputs": [],
   "source": [
    "change_premise(pat,df,'electronic_store')"
   ]
  },
  {
   "cell_type": "code",
   "execution_count": 272,
   "metadata": {},
   "outputs": [
    {
     "data": {
      "text/plain": [
       "airport terminal    3781\n",
       "Name: premise, dtype: int64"
      ]
     },
     "execution_count": 272,
     "metadata": {},
     "output_type": "execute_result"
    }
   ],
   "source": [
    "word1 = 'airport'\n",
    "word2 = 'terminal'\n",
    "\n",
    "pat = r\"^(?=.*\\b{}\\b)(?=.*\\b{}\\b).*$\".format(word1,word2)\n",
    "clean_premise(pat,df)"
   ]
  },
  {
   "cell_type": "code",
   "execution_count": 273,
   "metadata": {},
   "outputs": [],
   "source": [
    "change_premise(pat,df,'airport_terminal')"
   ]
  },
  {
   "cell_type": "code",
   "execution_count": 274,
   "metadata": {},
   "outputs": [
    {
     "data": {
      "text/plain": [
       "apartment laundry    589\n",
       "Name: premise, dtype: int64"
      ]
     },
     "execution_count": 274,
     "metadata": {},
     "output_type": "execute_result"
    }
   ],
   "source": [
    "word1 = 'apartment'\n",
    "word2 = 'laundry'\n",
    "\n",
    "pat = r\"^(?=.*\\b{}\\b)(?=.*\\b{}\\b).*$\".format(word1,word2)\n",
    "clean_premise(pat,df)"
   ]
  },
  {
   "cell_type": "code",
   "execution_count": 275,
   "metadata": {},
   "outputs": [],
   "source": [
    "change_premise(pat,df,'apartment_laundry')"
   ]
  },
  {
   "cell_type": "code",
   "execution_count": 276,
   "metadata": {
    "scrolled": true
   },
   "outputs": [
    {
     "data": {
      "text/plain": [
       "field_woods_park                             1714\n",
       "sexually_oriented_business                   1647\n",
       "pawn_shop                                    1546\n",
       "highway_freeway                              1445\n",
       "doctor_office                                1311\n",
       "car_wash                                     1274\n",
       "liquor_store                                 1260\n",
       "factory_industrial                           1149\n",
       "mobile_home                                  1053\n",
       "freeway_service_road                          887\n",
       "stadium_arena_track                           872\n",
       "gun_shop                                      769\n",
       "nursing_home                                  703\n",
       "theatres_dinner                               692\n",
       "daycare                                       676\n",
       "libraries_museums                             624\n",
       "check_cash                                    618\n",
       "park_ride                                     596\n",
       "apartment_laundry                             589\n",
       "jewelry_store                                 567\n",
       "pool_hall                                     524\n",
       "---                                           492\n",
       "college                                       427\n",
       "alley                                         411\n",
       "body_shop                                     410\n",
       "bowling_skate                                 403\n",
       "police_station                                351\n",
       "convention_center                             351\n",
       "utility_company                               298\n",
       "rehab_center                                  250\n",
       "social_service                                245\n",
       "garden_florist                                227\n",
       "rail_vehicle                                  189\n",
       "fire_station                                  187\n",
       "high_rise                                     184\n",
       "rail_platform                                 182\n",
       "toys, arts craft,musical, bike,pet stores     151\n",
       "office_supplies                               149\n",
       "video_rental                                  133\n",
       "jail_prison                                   123\n",
       "lake_bayou_river                              112\n",
       "toys,arts & craft,musical,bike,pet            105\n",
       "rail_road                                      91\n",
       "train_terminal                                 79\n",
       "tollway                                        63\n",
       "not listed                                     35\n",
       "package_facility                               25\n",
       "n                                              18\n",
       "illicit massage parlor or spa                  12\n",
       "marine veh. sales,boats,sailboats              11\n",
       "marine vehicle sales, boats, sailboats          8\n",
       "06                                              8\n",
       "contra-flow/hov                                 5\n",
       "adult theater/arcade                            5\n",
       "cantina                                         4\n",
       "modeling studio                                 2\n",
       "23c                                             1\n",
       "contra-flow, managed, or hov lanes              1\n",
       "Name: premise, dtype: int64"
      ]
     },
     "execution_count": 276,
     "metadata": {},
     "output_type": "execute_result"
    }
   ],
   "source": [
    "df.premise.value_counts()[50:]"
   ]
  },
  {
   "cell_type": "code",
   "execution_count": 277,
   "metadata": {},
   "outputs": [
    {
     "data": {
      "text/plain": [
       "toys, arts craft,musical, bike,pet stores    151\n",
       "toys,arts & craft,musical,bike,pet           105\n",
       "Name: premise, dtype: int64"
      ]
     },
     "execution_count": 277,
     "metadata": {},
     "output_type": "execute_result"
    }
   ],
   "source": [
    "# arts craft\n",
    "word1 = 'arts'\n",
    "word2 = 'craft'\n",
    "\n",
    "pat = r\"^(?=.*\\b{}\\b)(?=.*\\b{}\\b).*$\".format(word1,word2)\n",
    "clean_premise(pat,df)"
   ]
  },
  {
   "cell_type": "code",
   "execution_count": 278,
   "metadata": {},
   "outputs": [],
   "source": [
    "change_premise(pat,df,'arts_bike_pet_store')"
   ]
  },
  {
   "cell_type": "code",
   "execution_count": 279,
   "metadata": {},
   "outputs": [
    {
     "data": {
      "text/plain": [
       "not listed    35\n",
       "Name: premise, dtype: int64"
      ]
     },
     "execution_count": 279,
     "metadata": {},
     "output_type": "execute_result"
    }
   ],
   "source": [
    "# arts craft\n",
    "word1 = 'not'\n",
    "word2 = 'listed'\n",
    "\n",
    "pat = r\"^(?=.*\\b{}\\b)(?=.*\\b{}\\b).*$\".format(word1,word2)\n",
    "clean_premise(pat,df)"
   ]
  },
  {
   "cell_type": "code",
   "execution_count": 280,
   "metadata": {},
   "outputs": [],
   "source": [
    "change_premise(pat,df,'unknown')"
   ]
  },
  {
   "cell_type": "code",
   "execution_count": 281,
   "metadata": {},
   "outputs": [
    {
     "data": {
      "text/plain": [
       "house                                     129717\n",
       "apartment                                 118085\n",
       "apartment_parking                         111134\n",
       "road_street_sidewalk                       81754\n",
       "unknown                                    59299\n",
       "other_parking                              52748\n",
       "driveway                                   52736\n",
       "department_store                           38154\n",
       "restaurant_parking                         32469\n",
       "commercial_parking                         24329\n",
       "supermarket                                21104\n",
       "business_center_parking                    18597\n",
       "gas_station                                17250\n",
       "business                                   15539\n",
       "restaurant                                 15306\n",
       "building                                   14689\n",
       "hotel_motel_parking                        13399\n",
       "convenience_store                          12957\n",
       "supermarket_parking                        11894\n",
       "bar_club_parking                           10099\n",
       "bar_club                                    9006\n",
       "hotel_motel                                 8780\n",
       "convenience_store_parking                   8474\n",
       "specialty_store                             7757\n",
       "vacant_structure                            6851\n",
       "garage_carport                              6758\n",
       "park_rec_pool                               6359\n",
       "school                                      5131\n",
       "clothing_store                              4987\n",
       "drug_store                                  4865\n",
       "                                           ...  \n",
       "convention_center                            351\n",
       "police_station                               351\n",
       "utility_company                              298\n",
       "arts_bike_pet_store                          256\n",
       "rehab_center                                 250\n",
       "social_service                               245\n",
       "garden_florist                               227\n",
       "rail_vehicle                                 189\n",
       "fire_station                                 187\n",
       "high_rise                                    184\n",
       "rail_platform                                182\n",
       "office_supplies                              149\n",
       "video_rental                                 133\n",
       "jail_prison                                  123\n",
       "lake_bayou_river                             112\n",
       "rail_road                                     91\n",
       "train_terminal                                79\n",
       "tollway                                       63\n",
       "package_facility                              25\n",
       "n                                             18\n",
       "illicit massage parlor or spa                 12\n",
       "marine veh. sales,boats,sailboats             11\n",
       "marine vehicle sales, boats, sailboats         8\n",
       "06                                             8\n",
       "contra-flow/hov                                5\n",
       "adult theater/arcade                           5\n",
       "cantina                                        4\n",
       "modeling studio                                2\n",
       "contra-flow, managed, or hov lanes             1\n",
       "23c                                            1\n",
       "Name: premise, Length: 106, dtype: int64"
      ]
     },
     "execution_count": 281,
     "metadata": {},
     "output_type": "execute_result"
    }
   ],
   "source": [
    "df.premise.value_counts()"
   ]
  },
  {
   "cell_type": "code",
   "execution_count": 282,
   "metadata": {},
   "outputs": [
    {
     "data": {
      "text/plain": [
       "contra-flow/hov                       5\n",
       "contra-flow, managed, or hov lanes    1\n",
       "Name: premise, dtype: int64"
      ]
     },
     "execution_count": 282,
     "metadata": {},
     "output_type": "execute_result"
    }
   ],
   "source": [
    "word1 = 'contra'\n",
    "word2 = 'hov'\n",
    "pat = r\"^(?=.*\\b{}\\b)(?=.*\\b{}\\b).*$\".format(word1,word2)\n",
    "clean_premise(pat,df)"
   ]
  },
  {
   "cell_type": "code",
   "execution_count": 283,
   "metadata": {},
   "outputs": [],
   "source": [
    "change_premise(pat,df,'hov')"
   ]
  },
  {
   "cell_type": "code",
   "execution_count": 284,
   "metadata": {},
   "outputs": [
    {
     "data": {
      "text/plain": [
       "house                        129717\n",
       "apartment                    118085\n",
       "apartment_parking            111134\n",
       "road_street_sidewalk          81754\n",
       "unknown                       59299\n",
       "other_parking                 52748\n",
       "driveway                      52736\n",
       "department_store              38154\n",
       "restaurant_parking            32469\n",
       "commercial_parking            24329\n",
       "supermarket                   21104\n",
       "business_center_parking       18597\n",
       "gas_station                   17250\n",
       "business                      15539\n",
       "restaurant                    15306\n",
       "building                      14689\n",
       "hotel_motel_parking           13399\n",
       "convenience_store             12957\n",
       "supermarket_parking           11894\n",
       "bar_club_parking              10099\n",
       "bar_club                       9006\n",
       "hotel_motel                    8780\n",
       "convenience_store_parking      8474\n",
       "specialty_store                7757\n",
       "vacant_structure               6851\n",
       "garage_carport                 6758\n",
       "park_rec_pool                  6359\n",
       "school                         5131\n",
       "clothing_store                 4987\n",
       "drug_store                     4865\n",
       "auto_sale_parts_store          4447\n",
       "storage_facility               4120\n",
       "multiplex_home                 4048\n",
       "construction_site              3849\n",
       "airport_terminal               3781\n",
       "hospital                       3498\n",
       "gym_club_house                 3394\n",
       "electronic_store               3352\n",
       "church_temple                  3258\n",
       "bus_stop_station               3175\n",
       "mall_area                      2937\n",
       "church_temple_parking          2908\n",
       "auto_repair                    2816\n",
       "warehouse                      2503\n",
       "barber_shop                    2136\n",
       "hospital_parking               2071\n",
       "rental_office                  2000\n",
       "bank_parking                   1914\n",
       "dry_cleaners                   1824\n",
       "bank                           1740\n",
       "Name: premise, dtype: int64"
      ]
     },
     "execution_count": 284,
     "metadata": {},
     "output_type": "execute_result"
    }
   ],
   "source": [
    "df.premise.value_counts()[:50]"
   ]
  },
  {
   "cell_type": "code",
   "execution_count": 285,
   "metadata": {},
   "outputs": [
    {
     "data": {
      "text/plain": [
       "field_woods_park                          1714\n",
       "sexually_oriented_business                1647\n",
       "pawn_shop                                 1546\n",
       "highway_freeway                           1445\n",
       "doctor_office                             1311\n",
       "car_wash                                  1274\n",
       "liquor_store                              1260\n",
       "factory_industrial                        1149\n",
       "mobile_home                               1053\n",
       "freeway_service_road                       887\n",
       "stadium_arena_track                        872\n",
       "gun_shop                                   769\n",
       "nursing_home                               703\n",
       "theatres_dinner                            692\n",
       "daycare                                    676\n",
       "libraries_museums                          624\n",
       "check_cash                                 618\n",
       "park_ride                                  596\n",
       "apartment_laundry                          589\n",
       "jewelry_store                              567\n",
       "pool_hall                                  524\n",
       "---                                        492\n",
       "college                                    427\n",
       "alley                                      411\n",
       "body_shop                                  410\n",
       "bowling_skate                              403\n",
       "police_station                             351\n",
       "convention_center                          351\n",
       "utility_company                            298\n",
       "arts_bike_pet_store                        256\n",
       "rehab_center                               250\n",
       "social_service                             245\n",
       "garden_florist                             227\n",
       "rail_vehicle                               189\n",
       "fire_station                               187\n",
       "high_rise                                  184\n",
       "rail_platform                              182\n",
       "office_supplies                            149\n",
       "video_rental                               133\n",
       "jail_prison                                123\n",
       "lake_bayou_river                           112\n",
       "rail_road                                   91\n",
       "train_terminal                              79\n",
       "tollway                                     63\n",
       "package_facility                            25\n",
       "n                                           18\n",
       "illicit massage parlor or spa               12\n",
       "marine veh. sales,boats,sailboats           11\n",
       "06                                           8\n",
       "marine vehicle sales, boats, sailboats       8\n",
       "hov                                          6\n",
       "adult theater/arcade                         5\n",
       "cantina                                      4\n",
       "modeling studio                              2\n",
       "23c                                          1\n",
       "Name: premise, dtype: int64"
      ]
     },
     "execution_count": 285,
     "metadata": {},
     "output_type": "execute_result"
    }
   ],
   "source": [
    "df.premise.value_counts()[50:]"
   ]
  },
  {
   "cell_type": "markdown",
   "metadata": {},
   "source": [
    "## change odd values to unknown\n",
    "- `---`\n",
    "- `06`\n",
    "- `n`"
   ]
  },
  {
   "cell_type": "code",
   "execution_count": 286,
   "metadata": {},
   "outputs": [],
   "source": [
    "odd1 = df.premise =='---'"
   ]
  },
  {
   "cell_type": "code",
   "execution_count": 287,
   "metadata": {},
   "outputs": [
    {
     "data": {
      "text/html": [
       "<div>\n",
       "<style scoped>\n",
       "    .dataframe tbody tr th:only-of-type {\n",
       "        vertical-align: middle;\n",
       "    }\n",
       "\n",
       "    .dataframe tbody tr th {\n",
       "        vertical-align: top;\n",
       "    }\n",
       "\n",
       "    .dataframe thead th {\n",
       "        text-align: right;\n",
       "    }\n",
       "</style>\n",
       "<table border=\"1\" class=\"dataframe\">\n",
       "  <thead>\n",
       "    <tr style=\"text-align: right;\">\n",
       "      <th></th>\n",
       "      <th>date</th>\n",
       "      <th>hour</th>\n",
       "      <th>beat</th>\n",
       "      <th>offense_type</th>\n",
       "      <th>block_range</th>\n",
       "      <th>street_name</th>\n",
       "      <th>premise</th>\n",
       "      <th>num_offenses</th>\n",
       "      <th>type</th>\n",
       "    </tr>\n",
       "  </thead>\n",
       "  <tbody>\n",
       "    <tr>\n",
       "      <th>177</th>\n",
       "      <td>2000-02-12</td>\n",
       "      <td>14</td>\n",
       "      <td>10H80</td>\n",
       "      <td>Theft</td>\n",
       "      <td>2400-2499</td>\n",
       "      <td>TIMES</td>\n",
       "      <td>---</td>\n",
       "      <td>1</td>\n",
       "      <td>BLVD</td>\n",
       "    </tr>\n",
       "    <tr>\n",
       "      <th>298270</th>\n",
       "      <td>2012-04-09</td>\n",
       "      <td>16</td>\n",
       "      <td>3B40</td>\n",
       "      <td>Theft</td>\n",
       "      <td>900-999</td>\n",
       "      <td>NORTH LP</td>\n",
       "      <td>---</td>\n",
       "      <td>1</td>\n",
       "      <td>-</td>\n",
       "    </tr>\n",
       "    <tr>\n",
       "      <th>398988</th>\n",
       "      <td>2013-01-16</td>\n",
       "      <td>17</td>\n",
       "      <td>13D10</td>\n",
       "      <td>Theft</td>\n",
       "      <td>6200-6299</td>\n",
       "      <td>SOUTH LP E</td>\n",
       "      <td>---</td>\n",
       "      <td>1</td>\n",
       "      <td>-</td>\n",
       "    </tr>\n",
       "    <tr>\n",
       "      <th>422334</th>\n",
       "      <td>2013-03-25</td>\n",
       "      <td>12</td>\n",
       "      <td>2A30</td>\n",
       "      <td>Auto Theft</td>\n",
       "      <td>300-399</td>\n",
       "      <td>NORTH LP W</td>\n",
       "      <td>---</td>\n",
       "      <td>1</td>\n",
       "      <td>-</td>\n",
       "    </tr>\n",
       "    <tr>\n",
       "      <th>424556</th>\n",
       "      <td>2013-04-01</td>\n",
       "      <td>8</td>\n",
       "      <td>24C40</td>\n",
       "      <td>Theft</td>\n",
       "      <td>22600-22699</td>\n",
       "      <td>LAKE HOUSTON</td>\n",
       "      <td>---</td>\n",
       "      <td>1</td>\n",
       "      <td>-</td>\n",
       "    </tr>\n",
       "    <tr>\n",
       "      <th>440317</th>\n",
       "      <td>2013-05-15</td>\n",
       "      <td>21</td>\n",
       "      <td>8C20</td>\n",
       "      <td>Theft</td>\n",
       "      <td>7500-7599</td>\n",
       "      <td>HOMESTEAD</td>\n",
       "      <td>---</td>\n",
       "      <td>1</td>\n",
       "      <td>RD</td>\n",
       "    </tr>\n",
       "    <tr>\n",
       "      <th>444886</th>\n",
       "      <td>2013-05-27</td>\n",
       "      <td>12</td>\n",
       "      <td>14D20</td>\n",
       "      <td>Theft</td>\n",
       "      <td>1200-1299</td>\n",
       "      <td>SCOTT</td>\n",
       "      <td>---</td>\n",
       "      <td>1</td>\n",
       "      <td>-</td>\n",
       "    </tr>\n",
       "    <tr>\n",
       "      <th>495242</th>\n",
       "      <td>2013-10-12</td>\n",
       "      <td>22</td>\n",
       "      <td>20G10</td>\n",
       "      <td>Burglary</td>\n",
       "      <td>9600-9699</td>\n",
       "      <td>CLAREWOOD</td>\n",
       "      <td>---</td>\n",
       "      <td>1</td>\n",
       "      <td>DR</td>\n",
       "    </tr>\n",
       "    <tr>\n",
       "      <th>501947</th>\n",
       "      <td>2013-10-31</td>\n",
       "      <td>0</td>\n",
       "      <td>1A50</td>\n",
       "      <td>Theft</td>\n",
       "      <td>2200-2299</td>\n",
       "      <td>WEST LP S</td>\n",
       "      <td>---</td>\n",
       "      <td>1</td>\n",
       "      <td>SER</td>\n",
       "    </tr>\n",
       "    <tr>\n",
       "      <th>504437</th>\n",
       "      <td>2013-11-06</td>\n",
       "      <td>18</td>\n",
       "      <td>3B10</td>\n",
       "      <td>Theft</td>\n",
       "      <td>9500-9599</td>\n",
       "      <td>HEMPSTEAD</td>\n",
       "      <td>---</td>\n",
       "      <td>1</td>\n",
       "      <td>HWY</td>\n",
       "    </tr>\n",
       "  </tbody>\n",
       "</table>\n",
       "</div>"
      ],
      "text/plain": [
       "              date  hour   beat offense_type  block_range   street_name  \\\n",
       "177     2000-02-12    14  10H80        Theft    2400-2499         TIMES   \n",
       "298270  2012-04-09    16   3B40        Theft      900-999      NORTH LP   \n",
       "398988  2013-01-16    17  13D10        Theft    6200-6299    SOUTH LP E   \n",
       "422334  2013-03-25    12   2A30   Auto Theft      300-399    NORTH LP W   \n",
       "424556  2013-04-01     8  24C40        Theft  22600-22699  LAKE HOUSTON   \n",
       "440317  2013-05-15    21   8C20        Theft    7500-7599     HOMESTEAD   \n",
       "444886  2013-05-27    12  14D20        Theft    1200-1299         SCOTT   \n",
       "495242  2013-10-12    22  20G10     Burglary    9600-9699     CLAREWOOD   \n",
       "501947  2013-10-31     0   1A50        Theft    2200-2299     WEST LP S   \n",
       "504437  2013-11-06    18   3B10        Theft    9500-9599     HEMPSTEAD   \n",
       "\n",
       "       premise  num_offenses  type  \n",
       "177        ---             1  BLVD  \n",
       "298270     ---             1     -  \n",
       "398988     ---             1     -  \n",
       "422334     ---             1     -  \n",
       "424556     ---             1     -  \n",
       "440317     ---             1    RD  \n",
       "444886     ---             1     -  \n",
       "495242     ---             1    DR  \n",
       "501947     ---             1   SER  \n",
       "504437     ---             1   HWY  "
      ]
     },
     "execution_count": 287,
     "metadata": {},
     "output_type": "execute_result"
    }
   ],
   "source": [
    "df[odd1][:10]"
   ]
  },
  {
   "cell_type": "code",
   "execution_count": 288,
   "metadata": {},
   "outputs": [],
   "source": [
    "df.premise.replace({'---':'unknown'}, inplace=True)"
   ]
  },
  {
   "cell_type": "code",
   "execution_count": null,
   "metadata": {},
   "outputs": [],
   "source": []
  },
  {
   "cell_type": "code",
   "execution_count": 289,
   "metadata": {},
   "outputs": [
    {
     "data": {
      "text/html": [
       "<div>\n",
       "<style scoped>\n",
       "    .dataframe tbody tr th:only-of-type {\n",
       "        vertical-align: middle;\n",
       "    }\n",
       "\n",
       "    .dataframe tbody tr th {\n",
       "        vertical-align: top;\n",
       "    }\n",
       "\n",
       "    .dataframe thead th {\n",
       "        text-align: right;\n",
       "    }\n",
       "</style>\n",
       "<table border=\"1\" class=\"dataframe\">\n",
       "  <thead>\n",
       "    <tr style=\"text-align: right;\">\n",
       "      <th></th>\n",
       "      <th>date</th>\n",
       "      <th>hour</th>\n",
       "      <th>beat</th>\n",
       "      <th>offense_type</th>\n",
       "      <th>block_range</th>\n",
       "      <th>street_name</th>\n",
       "      <th>premise</th>\n",
       "      <th>num_offenses</th>\n",
       "      <th>type</th>\n",
       "    </tr>\n",
       "  </thead>\n",
       "  <tbody>\n",
       "    <tr>\n",
       "      <th>177</th>\n",
       "      <td>2000-02-12</td>\n",
       "      <td>14</td>\n",
       "      <td>10H80</td>\n",
       "      <td>Theft</td>\n",
       "      <td>2400-2499</td>\n",
       "      <td>TIMES</td>\n",
       "      <td>unknown</td>\n",
       "      <td>1</td>\n",
       "      <td>BLVD</td>\n",
       "    </tr>\n",
       "    <tr>\n",
       "      <th>298270</th>\n",
       "      <td>2012-04-09</td>\n",
       "      <td>16</td>\n",
       "      <td>3B40</td>\n",
       "      <td>Theft</td>\n",
       "      <td>900-999</td>\n",
       "      <td>NORTH LP</td>\n",
       "      <td>unknown</td>\n",
       "      <td>1</td>\n",
       "      <td>-</td>\n",
       "    </tr>\n",
       "    <tr>\n",
       "      <th>398988</th>\n",
       "      <td>2013-01-16</td>\n",
       "      <td>17</td>\n",
       "      <td>13D10</td>\n",
       "      <td>Theft</td>\n",
       "      <td>6200-6299</td>\n",
       "      <td>SOUTH LP E</td>\n",
       "      <td>unknown</td>\n",
       "      <td>1</td>\n",
       "      <td>-</td>\n",
       "    </tr>\n",
       "    <tr>\n",
       "      <th>422334</th>\n",
       "      <td>2013-03-25</td>\n",
       "      <td>12</td>\n",
       "      <td>2A30</td>\n",
       "      <td>Auto Theft</td>\n",
       "      <td>300-399</td>\n",
       "      <td>NORTH LP W</td>\n",
       "      <td>unknown</td>\n",
       "      <td>1</td>\n",
       "      <td>-</td>\n",
       "    </tr>\n",
       "    <tr>\n",
       "      <th>424556</th>\n",
       "      <td>2013-04-01</td>\n",
       "      <td>8</td>\n",
       "      <td>24C40</td>\n",
       "      <td>Theft</td>\n",
       "      <td>22600-22699</td>\n",
       "      <td>LAKE HOUSTON</td>\n",
       "      <td>unknown</td>\n",
       "      <td>1</td>\n",
       "      <td>-</td>\n",
       "    </tr>\n",
       "    <tr>\n",
       "      <th>440317</th>\n",
       "      <td>2013-05-15</td>\n",
       "      <td>21</td>\n",
       "      <td>8C20</td>\n",
       "      <td>Theft</td>\n",
       "      <td>7500-7599</td>\n",
       "      <td>HOMESTEAD</td>\n",
       "      <td>unknown</td>\n",
       "      <td>1</td>\n",
       "      <td>RD</td>\n",
       "    </tr>\n",
       "    <tr>\n",
       "      <th>444886</th>\n",
       "      <td>2013-05-27</td>\n",
       "      <td>12</td>\n",
       "      <td>14D20</td>\n",
       "      <td>Theft</td>\n",
       "      <td>1200-1299</td>\n",
       "      <td>SCOTT</td>\n",
       "      <td>unknown</td>\n",
       "      <td>1</td>\n",
       "      <td>-</td>\n",
       "    </tr>\n",
       "    <tr>\n",
       "      <th>495242</th>\n",
       "      <td>2013-10-12</td>\n",
       "      <td>22</td>\n",
       "      <td>20G10</td>\n",
       "      <td>Burglary</td>\n",
       "      <td>9600-9699</td>\n",
       "      <td>CLAREWOOD</td>\n",
       "      <td>unknown</td>\n",
       "      <td>1</td>\n",
       "      <td>DR</td>\n",
       "    </tr>\n",
       "    <tr>\n",
       "      <th>501947</th>\n",
       "      <td>2013-10-31</td>\n",
       "      <td>0</td>\n",
       "      <td>1A50</td>\n",
       "      <td>Theft</td>\n",
       "      <td>2200-2299</td>\n",
       "      <td>WEST LP S</td>\n",
       "      <td>unknown</td>\n",
       "      <td>1</td>\n",
       "      <td>SER</td>\n",
       "    </tr>\n",
       "    <tr>\n",
       "      <th>504437</th>\n",
       "      <td>2013-11-06</td>\n",
       "      <td>18</td>\n",
       "      <td>3B10</td>\n",
       "      <td>Theft</td>\n",
       "      <td>9500-9599</td>\n",
       "      <td>HEMPSTEAD</td>\n",
       "      <td>unknown</td>\n",
       "      <td>1</td>\n",
       "      <td>HWY</td>\n",
       "    </tr>\n",
       "  </tbody>\n",
       "</table>\n",
       "</div>"
      ],
      "text/plain": [
       "              date  hour   beat offense_type  block_range   street_name  \\\n",
       "177     2000-02-12    14  10H80        Theft    2400-2499         TIMES   \n",
       "298270  2012-04-09    16   3B40        Theft      900-999      NORTH LP   \n",
       "398988  2013-01-16    17  13D10        Theft    6200-6299    SOUTH LP E   \n",
       "422334  2013-03-25    12   2A30   Auto Theft      300-399    NORTH LP W   \n",
       "424556  2013-04-01     8  24C40        Theft  22600-22699  LAKE HOUSTON   \n",
       "440317  2013-05-15    21   8C20        Theft    7500-7599     HOMESTEAD   \n",
       "444886  2013-05-27    12  14D20        Theft    1200-1299         SCOTT   \n",
       "495242  2013-10-12    22  20G10     Burglary    9600-9699     CLAREWOOD   \n",
       "501947  2013-10-31     0   1A50        Theft    2200-2299     WEST LP S   \n",
       "504437  2013-11-06    18   3B10        Theft    9500-9599     HEMPSTEAD   \n",
       "\n",
       "        premise  num_offenses  type  \n",
       "177     unknown             1  BLVD  \n",
       "298270  unknown             1     -  \n",
       "398988  unknown             1     -  \n",
       "422334  unknown             1     -  \n",
       "424556  unknown             1     -  \n",
       "440317  unknown             1    RD  \n",
       "444886  unknown             1     -  \n",
       "495242  unknown             1    DR  \n",
       "501947  unknown             1   SER  \n",
       "504437  unknown             1   HWY  "
      ]
     },
     "execution_count": 289,
     "metadata": {},
     "output_type": "execute_result"
    }
   ],
   "source": [
    "df[odd1][:10]"
   ]
  },
  {
   "cell_type": "code",
   "execution_count": 290,
   "metadata": {},
   "outputs": [],
   "source": [
    "df.premise.replace({'06':'unknown'}, inplace=True)"
   ]
  },
  {
   "cell_type": "code",
   "execution_count": 291,
   "metadata": {},
   "outputs": [],
   "source": [
    "odd2 = df.premise =='n'"
   ]
  },
  {
   "cell_type": "code",
   "execution_count": 292,
   "metadata": {},
   "outputs": [
    {
     "data": {
      "text/html": [
       "<div>\n",
       "<style scoped>\n",
       "    .dataframe tbody tr th:only-of-type {\n",
       "        vertical-align: middle;\n",
       "    }\n",
       "\n",
       "    .dataframe tbody tr th {\n",
       "        vertical-align: top;\n",
       "    }\n",
       "\n",
       "    .dataframe thead th {\n",
       "        text-align: right;\n",
       "    }\n",
       "</style>\n",
       "<table border=\"1\" class=\"dataframe\">\n",
       "  <thead>\n",
       "    <tr style=\"text-align: right;\">\n",
       "      <th></th>\n",
       "      <th>date</th>\n",
       "      <th>hour</th>\n",
       "      <th>beat</th>\n",
       "      <th>offense_type</th>\n",
       "      <th>block_range</th>\n",
       "      <th>street_name</th>\n",
       "      <th>premise</th>\n",
       "      <th>num_offenses</th>\n",
       "      <th>type</th>\n",
       "    </tr>\n",
       "  </thead>\n",
       "  <tbody>\n",
       "    <tr>\n",
       "      <th>523829</th>\n",
       "      <td>2014-01-01</td>\n",
       "      <td>12</td>\n",
       "      <td>2A40</td>\n",
       "      <td>Theft</td>\n",
       "      <td>200-299</td>\n",
       "      <td>SABINE</td>\n",
       "      <td>n</td>\n",
       "      <td>1</td>\n",
       "      <td>-</td>\n",
       "    </tr>\n",
       "    <tr>\n",
       "      <th>533410</th>\n",
       "      <td>2014-01-27</td>\n",
       "      <td>8</td>\n",
       "      <td>2A10</td>\n",
       "      <td>Theft</td>\n",
       "      <td>1900-1999</td>\n",
       "      <td>MAURY</td>\n",
       "      <td>n</td>\n",
       "      <td>1</td>\n",
       "      <td>-</td>\n",
       "    </tr>\n",
       "    <tr>\n",
       "      <th>533950</th>\n",
       "      <td>2014-01-29</td>\n",
       "      <td>4</td>\n",
       "      <td>11H10</td>\n",
       "      <td>Burglary</td>\n",
       "      <td>7200-7299</td>\n",
       "      <td>HARRISBURG</td>\n",
       "      <td>n</td>\n",
       "      <td>1</td>\n",
       "      <td>BLVD</td>\n",
       "    </tr>\n",
       "    <tr>\n",
       "      <th>534558</th>\n",
       "      <td>2014-01-30</td>\n",
       "      <td>19</td>\n",
       "      <td>1A20</td>\n",
       "      <td>Theft</td>\n",
       "      <td>900-999</td>\n",
       "      <td>ALABAMA</td>\n",
       "      <td>n</td>\n",
       "      <td>1</td>\n",
       "      <td>ST</td>\n",
       "    </tr>\n",
       "    <tr>\n",
       "      <th>534951</th>\n",
       "      <td>2014-01-31</td>\n",
       "      <td>9</td>\n",
       "      <td>1A10</td>\n",
       "      <td>Burglary</td>\n",
       "      <td>1900-1999</td>\n",
       "      <td>MAIN</td>\n",
       "      <td>n</td>\n",
       "      <td>1</td>\n",
       "      <td>ST</td>\n",
       "    </tr>\n",
       "    <tr>\n",
       "      <th>538749</th>\n",
       "      <td>2014-02-11</td>\n",
       "      <td>16</td>\n",
       "      <td>19G30</td>\n",
       "      <td>Aggravated Assault</td>\n",
       "      <td>7800-7899</td>\n",
       "      <td>COOK</td>\n",
       "      <td>n</td>\n",
       "      <td>1</td>\n",
       "      <td>RD</td>\n",
       "    </tr>\n",
       "    <tr>\n",
       "      <th>539845</th>\n",
       "      <td>2014-02-14</td>\n",
       "      <td>15</td>\n",
       "      <td>19G10</td>\n",
       "      <td>Theft</td>\n",
       "      <td>9500-9599</td>\n",
       "      <td>SOUTHWEST</td>\n",
       "      <td>n</td>\n",
       "      <td>1</td>\n",
       "      <td>FWY SER</td>\n",
       "    </tr>\n",
       "    <tr>\n",
       "      <th>542452</th>\n",
       "      <td>2014-02-22</td>\n",
       "      <td>21</td>\n",
       "      <td>10H30</td>\n",
       "      <td>Theft</td>\n",
       "      <td>1000-1099</td>\n",
       "      <td>ST EMANUEL</td>\n",
       "      <td>n</td>\n",
       "      <td>1</td>\n",
       "      <td>-</td>\n",
       "    </tr>\n",
       "    <tr>\n",
       "      <th>547731</th>\n",
       "      <td>2014-03-11</td>\n",
       "      <td>0</td>\n",
       "      <td>10H30</td>\n",
       "      <td>Theft</td>\n",
       "      <td>1700-1799</td>\n",
       "      <td>SAMPSON</td>\n",
       "      <td>n</td>\n",
       "      <td>1</td>\n",
       "      <td>-</td>\n",
       "    </tr>\n",
       "    <tr>\n",
       "      <th>551143</th>\n",
       "      <td>2014-03-21</td>\n",
       "      <td>8</td>\n",
       "      <td>8C60</td>\n",
       "      <td>Auto Theft</td>\n",
       "      <td>6100-6199</td>\n",
       "      <td>ANNUNCIATION</td>\n",
       "      <td>n</td>\n",
       "      <td>1</td>\n",
       "      <td>ST</td>\n",
       "    </tr>\n",
       "    <tr>\n",
       "      <th>555065</th>\n",
       "      <td>2014-04-01</td>\n",
       "      <td>16</td>\n",
       "      <td>3B10</td>\n",
       "      <td>Theft</td>\n",
       "      <td>13400-13499</td>\n",
       "      <td>PINEMONT</td>\n",
       "      <td>n</td>\n",
       "      <td>1</td>\n",
       "      <td>DR</td>\n",
       "    </tr>\n",
       "    <tr>\n",
       "      <th>558193</th>\n",
       "      <td>2014-04-10</td>\n",
       "      <td>15</td>\n",
       "      <td>10H40</td>\n",
       "      <td>Theft</td>\n",
       "      <td>1000-1099</td>\n",
       "      <td>ELGIN</td>\n",
       "      <td>n</td>\n",
       "      <td>1</td>\n",
       "      <td>ST</td>\n",
       "    </tr>\n",
       "    <tr>\n",
       "      <th>566185</th>\n",
       "      <td>2014-05-03</td>\n",
       "      <td>13</td>\n",
       "      <td>3B40</td>\n",
       "      <td>Aggravated Assault</td>\n",
       "      <td>4400-4499</td>\n",
       "      <td>NORTH</td>\n",
       "      <td>n</td>\n",
       "      <td>1</td>\n",
       "      <td>FWY SER</td>\n",
       "    </tr>\n",
       "    <tr>\n",
       "      <th>567695</th>\n",
       "      <td>2014-05-08</td>\n",
       "      <td>17</td>\n",
       "      <td>19G10</td>\n",
       "      <td>Theft</td>\n",
       "      <td>9400-9499</td>\n",
       "      <td>WEST SAM HOUSTON</td>\n",
       "      <td>n</td>\n",
       "      <td>1</td>\n",
       "      <td>PKWY</td>\n",
       "    </tr>\n",
       "    <tr>\n",
       "      <th>568834</th>\n",
       "      <td>2014-05-11</td>\n",
       "      <td>20</td>\n",
       "      <td>2A10</td>\n",
       "      <td>Aggravated Assault</td>\n",
       "      <td>500-599</td>\n",
       "      <td>HARRINGTON</td>\n",
       "      <td>n</td>\n",
       "      <td>1</td>\n",
       "      <td>ST</td>\n",
       "    </tr>\n",
       "    <tr>\n",
       "      <th>570675</th>\n",
       "      <td>2014-05-16</td>\n",
       "      <td>18</td>\n",
       "      <td>24C40</td>\n",
       "      <td>Theft</td>\n",
       "      <td>10600-10699</td>\n",
       "      <td>FM 1960</td>\n",
       "      <td>n</td>\n",
       "      <td>1</td>\n",
       "      <td>-</td>\n",
       "    </tr>\n",
       "    <tr>\n",
       "      <th>573293</th>\n",
       "      <td>2014-05-24</td>\n",
       "      <td>12</td>\n",
       "      <td>16E30</td>\n",
       "      <td>Aggravated Assault</td>\n",
       "      <td>14800-14899</td>\n",
       "      <td>JOAN</td>\n",
       "      <td>n</td>\n",
       "      <td>1</td>\n",
       "      <td>-</td>\n",
       "    </tr>\n",
       "    <tr>\n",
       "      <th>573302</th>\n",
       "      <td>2014-05-24</td>\n",
       "      <td>14</td>\n",
       "      <td>3B50</td>\n",
       "      <td>Theft</td>\n",
       "      <td>300-399</td>\n",
       "      <td>BENNINGTON</td>\n",
       "      <td>n</td>\n",
       "      <td>1</td>\n",
       "      <td>ST</td>\n",
       "    </tr>\n",
       "  </tbody>\n",
       "</table>\n",
       "</div>"
      ],
      "text/plain": [
       "              date  hour   beat        offense_type  block_range  \\\n",
       "523829  2014-01-01    12   2A40               Theft      200-299   \n",
       "533410  2014-01-27     8   2A10               Theft    1900-1999   \n",
       "533950  2014-01-29     4  11H10            Burglary    7200-7299   \n",
       "534558  2014-01-30    19   1A20               Theft      900-999   \n",
       "534951  2014-01-31     9   1A10            Burglary    1900-1999   \n",
       "538749  2014-02-11    16  19G30  Aggravated Assault    7800-7899   \n",
       "539845  2014-02-14    15  19G10               Theft    9500-9599   \n",
       "542452  2014-02-22    21  10H30               Theft    1000-1099   \n",
       "547731  2014-03-11     0  10H30               Theft    1700-1799   \n",
       "551143  2014-03-21     8   8C60          Auto Theft    6100-6199   \n",
       "555065  2014-04-01    16   3B10               Theft  13400-13499   \n",
       "558193  2014-04-10    15  10H40               Theft    1000-1099   \n",
       "566185  2014-05-03    13   3B40  Aggravated Assault    4400-4499   \n",
       "567695  2014-05-08    17  19G10               Theft    9400-9499   \n",
       "568834  2014-05-11    20   2A10  Aggravated Assault      500-599   \n",
       "570675  2014-05-16    18  24C40               Theft  10600-10699   \n",
       "573293  2014-05-24    12  16E30  Aggravated Assault  14800-14899   \n",
       "573302  2014-05-24    14   3B50               Theft      300-399   \n",
       "\n",
       "             street_name premise  num_offenses     type  \n",
       "523829            SABINE       n             1        -  \n",
       "533410             MAURY       n             1        -  \n",
       "533950        HARRISBURG       n             1     BLVD  \n",
       "534558           ALABAMA       n             1       ST  \n",
       "534951              MAIN       n             1       ST  \n",
       "538749              COOK       n             1       RD  \n",
       "539845         SOUTHWEST       n             1  FWY SER  \n",
       "542452        ST EMANUEL       n             1        -  \n",
       "547731           SAMPSON       n             1        -  \n",
       "551143      ANNUNCIATION       n             1       ST  \n",
       "555065          PINEMONT       n             1       DR  \n",
       "558193             ELGIN       n             1       ST  \n",
       "566185             NORTH       n             1  FWY SER  \n",
       "567695  WEST SAM HOUSTON       n             1     PKWY  \n",
       "568834        HARRINGTON       n             1       ST  \n",
       "570675           FM 1960       n             1        -  \n",
       "573293              JOAN       n             1        -  \n",
       "573302        BENNINGTON       n             1       ST  "
      ]
     },
     "execution_count": 292,
     "metadata": {},
     "output_type": "execute_result"
    }
   ],
   "source": [
    "df[odd2]"
   ]
  },
  {
   "cell_type": "code",
   "execution_count": 293,
   "metadata": {},
   "outputs": [],
   "source": [
    "df.premise.replace({'n':'unknown'}, inplace=True)"
   ]
  },
  {
   "cell_type": "markdown",
   "metadata": {},
   "source": [
    "## finalize"
   ]
  },
  {
   "cell_type": "code",
   "execution_count": 294,
   "metadata": {},
   "outputs": [
    {
     "data": {
      "text/plain": [
       "alley                                     411\n",
       "body_shop                                 410\n",
       "bowling_skate                             403\n",
       "police_station                            351\n",
       "convention_center                         351\n",
       "utility_company                           298\n",
       "arts_bike_pet_store                       256\n",
       "rehab_center                              250\n",
       "social_service                            245\n",
       "garden_florist                            227\n",
       "rail_vehicle                              189\n",
       "fire_station                              187\n",
       "high_rise                                 184\n",
       "rail_platform                             182\n",
       "office_supplies                           149\n",
       "video_rental                              133\n",
       "jail_prison                               123\n",
       "lake_bayou_river                          112\n",
       "rail_road                                  91\n",
       "train_terminal                             79\n",
       "tollway                                    63\n",
       "package_facility                           25\n",
       "illicit massage parlor or spa              12\n",
       "marine veh. sales,boats,sailboats          11\n",
       "marine vehicle sales, boats, sailboats      8\n",
       "hov                                         6\n",
       "adult theater/arcade                        5\n",
       "cantina                                     4\n",
       "modeling studio                             2\n",
       "23c                                         1\n",
       "Name: premise, dtype: int64"
      ]
     },
     "execution_count": 294,
     "metadata": {},
     "output_type": "execute_result"
    }
   ],
   "source": [
    "df.premise.value_counts()[-30:]"
   ]
  },
  {
   "cell_type": "code",
   "execution_count": 295,
   "metadata": {},
   "outputs": [
    {
     "data": {
      "text/plain": [
       "adult theater/arcade    5\n",
       "Name: premise, dtype: int64"
      ]
     },
     "execution_count": 295,
     "metadata": {},
     "output_type": "execute_result"
    }
   ],
   "source": [
    "word1 = 'adult'\n",
    "word2 = 'theater'\n",
    "pat = r\"^(?=.*\\b{}\\b)(?=.*\\b{}\\b).*$\".format(word1,word2)\n",
    "clean_premise(pat,df)"
   ]
  },
  {
   "cell_type": "code",
   "execution_count": 296,
   "metadata": {},
   "outputs": [],
   "source": [
    "change_premise(pat,df,'sexually_oriented_business')"
   ]
  },
  {
   "cell_type": "code",
   "execution_count": 297,
   "metadata": {},
   "outputs": [
    {
     "data": {
      "text/plain": [
       "modeling studio    2\n",
       "Name: premise, dtype: int64"
      ]
     },
     "execution_count": 297,
     "metadata": {},
     "output_type": "execute_result"
    }
   ],
   "source": [
    "word1 = 'modeling'\n",
    "word2 = 'studio'\n",
    "pat = r\"^(?=.*\\b{}\\b)(?=.*\\b{}\\b).*$\".format(word1,word2)\n",
    "clean_premise(pat,df)"
   ]
  },
  {
   "cell_type": "code",
   "execution_count": 298,
   "metadata": {},
   "outputs": [],
   "source": [
    "change_premise(pat,df,'sexually_oriented_business')"
   ]
  },
  {
   "cell_type": "code",
   "execution_count": 299,
   "metadata": {},
   "outputs": [
    {
     "data": {
      "text/plain": [
       "marine veh. sales,boats,sailboats         11\n",
       "marine vehicle sales, boats, sailboats     8\n",
       "Name: premise, dtype: int64"
      ]
     },
     "execution_count": 299,
     "metadata": {},
     "output_type": "execute_result"
    }
   ],
   "source": [
    "word1 = 'marine'\n",
    "word2 = 'boats'\n",
    "pat = r\"^(?=.*\\b{}\\b)(?=.*\\b{}\\b).*$\".format(word1,word2)\n",
    "clean_premise(pat,df)"
   ]
  },
  {
   "cell_type": "code",
   "execution_count": 300,
   "metadata": {},
   "outputs": [],
   "source": [
    "change_premise(pat,df,'marine_veh')"
   ]
  },
  {
   "cell_type": "code",
   "execution_count": 301,
   "metadata": {},
   "outputs": [
    {
     "data": {
      "text/plain": [
       "cantina    4\n",
       "Name: premise, dtype: int64"
      ]
     },
     "execution_count": 301,
     "metadata": {},
     "output_type": "execute_result"
    }
   ],
   "source": [
    "#mall\n",
    "word1 = 'cantina'\n",
    "pat = r\"^(?=.*\\b{}\\b).*$\".format(word1)\n",
    "clean_premise(pat,df)"
   ]
  },
  {
   "cell_type": "code",
   "execution_count": 302,
   "metadata": {},
   "outputs": [],
   "source": [
    "change_premise(pat,df,'bar_club')"
   ]
  },
  {
   "cell_type": "code",
   "execution_count": 303,
   "metadata": {},
   "outputs": [
    {
     "data": {
      "text/plain": [
       "98"
      ]
     },
     "execution_count": 303,
     "metadata": {},
     "output_type": "execute_result"
    }
   ],
   "source": [
    "len(df.premise.value_counts())"
   ]
  },
  {
   "cell_type": "code",
   "execution_count": 304,
   "metadata": {},
   "outputs": [
    {
     "data": {
      "text/plain": [
       "house                        129717\n",
       "apartment                    118085\n",
       "apartment_parking            111134\n",
       "road_street_sidewalk          81754\n",
       "unknown                       59817\n",
       "other_parking                 52748\n",
       "driveway                      52736\n",
       "department_store              38154\n",
       "restaurant_parking            32469\n",
       "commercial_parking            24329\n",
       "supermarket                   21104\n",
       "business_center_parking       18597\n",
       "gas_station                   17250\n",
       "business                      15539\n",
       "restaurant                    15306\n",
       "building                      14689\n",
       "hotel_motel_parking           13399\n",
       "convenience_store             12957\n",
       "supermarket_parking           11894\n",
       "bar_club_parking              10099\n",
       "bar_club                       9010\n",
       "hotel_motel                    8780\n",
       "convenience_store_parking      8474\n",
       "specialty_store                7757\n",
       "vacant_structure               6851\n",
       "garage_carport                 6758\n",
       "park_rec_pool                  6359\n",
       "school                         5131\n",
       "clothing_store                 4987\n",
       "drug_store                     4865\n",
       "auto_sale_parts_store          4447\n",
       "storage_facility               4120\n",
       "multiplex_home                 4048\n",
       "construction_site              3849\n",
       "airport_terminal               3781\n",
       "hospital                       3498\n",
       "gym_club_house                 3394\n",
       "electronic_store               3352\n",
       "church_temple                  3258\n",
       "bus_stop_station               3175\n",
       "Name: premise, dtype: int64"
      ]
     },
     "execution_count": 304,
     "metadata": {},
     "output_type": "execute_result"
    }
   ],
   "source": [
    "df.premise.value_counts()[:40]"
   ]
  },
  {
   "cell_type": "code",
   "execution_count": 305,
   "metadata": {},
   "outputs": [
    {
     "data": {
      "text/plain": [
       "illicit massage parlor or spa    12\n",
       "Name: premise, dtype: int64"
      ]
     },
     "execution_count": 305,
     "metadata": {},
     "output_type": "execute_result"
    }
   ],
   "source": [
    "word1 = 'massage'\n",
    "word2 = 'parlor'\n",
    "pat = r\"^(?=.*\\b{}\\b)(?=.*\\b{}\\b).*$\".format(word1,word2)\n",
    "clean_premise(pat,df)"
   ]
  },
  {
   "cell_type": "code",
   "execution_count": 306,
   "metadata": {},
   "outputs": [],
   "source": [
    "change_premise(pat,df,'sexually_oriented_business')"
   ]
  },
  {
   "cell_type": "code",
   "execution_count": 307,
   "metadata": {},
   "outputs": [
    {
     "data": {
      "text/plain": [
       "97"
      ]
     },
     "execution_count": 307,
     "metadata": {},
     "output_type": "execute_result"
    }
   ],
   "source": [
    "len(df.premise.value_counts())"
   ]
  },
  {
   "cell_type": "code",
   "execution_count": 308,
   "metadata": {},
   "outputs": [],
   "source": [
    "df.premise.replace({'23c':'gas_station'}, inplace=True)"
   ]
  },
  {
   "cell_type": "code",
   "execution_count": null,
   "metadata": {},
   "outputs": [],
   "source": []
  },
  {
   "cell_type": "code",
   "execution_count": 309,
   "metadata": {},
   "outputs": [
    {
     "data": {
      "text/plain": [
       "house                        129717\n",
       "apartment                    118085\n",
       "apartment_parking            111134\n",
       "road_street_sidewalk          81754\n",
       "unknown                       59817\n",
       "other_parking                 52748\n",
       "driveway                      52736\n",
       "department_store              38154\n",
       "restaurant_parking            32469\n",
       "commercial_parking            24329\n",
       "supermarket                   21104\n",
       "business_center_parking       18597\n",
       "gas_station                   17251\n",
       "business                      15539\n",
       "restaurant                    15306\n",
       "building                      14689\n",
       "hotel_motel_parking           13399\n",
       "convenience_store             12957\n",
       "supermarket_parking           11894\n",
       "bar_club_parking              10099\n",
       "bar_club                       9010\n",
       "hotel_motel                    8780\n",
       "convenience_store_parking      8474\n",
       "specialty_store                7757\n",
       "vacant_structure               6851\n",
       "garage_carport                 6758\n",
       "park_rec_pool                  6359\n",
       "school                         5131\n",
       "clothing_store                 4987\n",
       "drug_store                     4865\n",
       "auto_sale_parts_store          4447\n",
       "storage_facility               4120\n",
       "multiplex_home                 4048\n",
       "construction_site              3849\n",
       "airport_terminal               3781\n",
       "hospital                       3498\n",
       "gym_club_house                 3394\n",
       "electronic_store               3352\n",
       "church_temple                  3258\n",
       "bus_stop_station               3175\n",
       "Name: premise, dtype: int64"
      ]
     },
     "execution_count": 309,
     "metadata": {},
     "output_type": "execute_result"
    }
   ],
   "source": [
    "df.premise.value_counts()[:40]"
   ]
  },
  {
   "cell_type": "code",
   "execution_count": 310,
   "metadata": {},
   "outputs": [
    {
     "data": {
      "text/plain": [
       "mall_area                     2937\n",
       "church_temple_parking         2908\n",
       "auto_repair                   2816\n",
       "warehouse                     2503\n",
       "barber_shop                   2136\n",
       "hospital_parking              2071\n",
       "rental_office                 2000\n",
       "bank_parking                  1914\n",
       "dry_cleaners                  1824\n",
       "bank                          1740\n",
       "field_woods_park              1714\n",
       "sexually_oriented_business    1666\n",
       "pawn_shop                     1546\n",
       "highway_freeway               1445\n",
       "doctor_office                 1311\n",
       "car_wash                      1274\n",
       "liquor_store                  1260\n",
       "factory_industrial            1149\n",
       "mobile_home                   1053\n",
       "freeway_service_road           887\n",
       "stadium_arena_track            872\n",
       "gun_shop                       769\n",
       "nursing_home                   703\n",
       "theatres_dinner                692\n",
       "daycare                        676\n",
       "libraries_museums              624\n",
       "check_cash                     618\n",
       "park_ride                      596\n",
       "apartment_laundry              589\n",
       "jewelry_store                  567\n",
       "pool_hall                      524\n",
       "college                        427\n",
       "alley                          411\n",
       "body_shop                      410\n",
       "bowling_skate                  403\n",
       "police_station                 351\n",
       "convention_center              351\n",
       "utility_company                298\n",
       "arts_bike_pet_store            256\n",
       "rehab_center                   250\n",
       "social_service                 245\n",
       "garden_florist                 227\n",
       "rail_vehicle                   189\n",
       "fire_station                   187\n",
       "high_rise                      184\n",
       "rail_platform                  182\n",
       "office_supplies                149\n",
       "video_rental                   133\n",
       "jail_prison                    123\n",
       "lake_bayou_river               112\n",
       "rail_road                       91\n",
       "train_terminal                  79\n",
       "tollway                         63\n",
       "package_facility                25\n",
       "marine_veh                      19\n",
       "hov                              6\n",
       "Name: premise, dtype: int64"
      ]
     },
     "execution_count": 310,
     "metadata": {},
     "output_type": "execute_result"
    }
   ],
   "source": [
    "df.premise.value_counts()[40:]"
   ]
  },
  {
   "cell_type": "markdown",
   "metadata": {},
   "source": [
    "# save data"
   ]
  },
  {
   "cell_type": "code",
   "execution_count": 311,
   "metadata": {},
   "outputs": [],
   "source": [
    "df.to_csv(data_directory_saves+\"crime_clean_02.csv\")"
   ]
  },
  {
   "cell_type": "code",
   "execution_count": null,
   "metadata": {},
   "outputs": [],
   "source": []
  }
 ],
 "metadata": {
  "kernelspec": {
   "display_name": "Python 3",
   "language": "python",
   "name": "python3"
  },
  "language_info": {
   "codemirror_mode": {
    "name": "ipython",
    "version": 3
   },
   "file_extension": ".py",
   "mimetype": "text/x-python",
   "name": "python",
   "nbconvert_exporter": "python",
   "pygments_lexer": "ipython3",
   "version": "3.6.4"
  }
 },
 "nbformat": 4,
 "nbformat_minor": 2
}
