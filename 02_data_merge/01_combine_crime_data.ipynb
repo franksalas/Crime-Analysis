{
 "cells": [
  {
   "cell_type": "code",
   "execution_count": null,
   "metadata": {},
   "outputs": [],
   "source": []
  },
  {
   "cell_type": "code",
   "execution_count": 1,
   "metadata": {},
   "outputs": [],
   "source": [
    "import warnings\n",
    "warnings.filterwarnings('ignore')"
   ]
  },
  {
   "cell_type": "code",
   "execution_count": 2,
   "metadata": {},
   "outputs": [],
   "source": [
    "import pandas as pd\n",
    "import glob, os\n",
    "import numpy as np\n",
    "import matplotlib.pyplot as plt\n",
    "import datetime  as dt\n",
    "import seaborn as sns"
   ]
  },
  {
   "cell_type": "markdown",
   "metadata": {},
   "source": [
    "## Data directory"
   ]
  },
  {
   "cell_type": "code",
   "execution_count": 3,
   "metadata": {},
   "outputs": [],
   "source": [
    "data_folder = 'crime'"
   ]
  },
  {
   "cell_type": "code",
   "execution_count": 4,
   "metadata": {},
   "outputs": [],
   "source": [
    "# data folder path\n",
    "data_directory = os.path.join('..','data','clean_data/{}'.format(data_folder))\n",
    "data_directory_saves = os.path.join( '..','data','clean_data','merge_data/')"
   ]
  },
  {
   "cell_type": "code",
   "execution_count": 5,
   "metadata": {},
   "outputs": [],
   "source": [
    "# combine all files into one df\n",
    "all_files = glob.glob(os.path.join(data_directory, \"*.csv\")) \n",
    "df_from_each_file = (pd.read_csv(f) for f in all_files)\n",
    "df   = pd.concat(df_from_each_file, ignore_index=True)\n",
    "df.drop(['Unnamed: 0'],axis=1,inplace=True)"
   ]
  },
  {
   "cell_type": "code",
   "execution_count": 6,
   "metadata": {},
   "outputs": [
    {
     "name": "stdout",
     "output_type": "stream",
     "text": [
      "<class 'pandas.core.frame.DataFrame'>\n",
      "RangeIndex: 1006231 entries, 0 to 1006230\n",
      "Data columns (total 9 columns):\n",
      "date            1006231 non-null object\n",
      "hour            1006231 non-null int64\n",
      "beat            1006231 non-null object\n",
      "offense_type    1006231 non-null object\n",
      "block_range     1006231 non-null object\n",
      "street_name     1006229 non-null object\n",
      "premise         1006231 non-null object\n",
      "num_offenses    1006231 non-null int64\n",
      "type            1006231 non-null object\n",
      "dtypes: int64(2), object(7)\n",
      "memory usage: 69.1+ MB\n"
     ]
    }
   ],
   "source": [
    "df.info()"
   ]
  },
  {
   "cell_type": "code",
   "execution_count": 7,
   "metadata": {},
   "outputs": [
    {
     "data": {
      "text/html": [
       "<div>\n",
       "<style scoped>\n",
       "    .dataframe tbody tr th:only-of-type {\n",
       "        vertical-align: middle;\n",
       "    }\n",
       "\n",
       "    .dataframe tbody tr th {\n",
       "        vertical-align: top;\n",
       "    }\n",
       "\n",
       "    .dataframe thead th {\n",
       "        text-align: right;\n",
       "    }\n",
       "</style>\n",
       "<table border=\"1\" class=\"dataframe\">\n",
       "  <thead>\n",
       "    <tr style=\"text-align: right;\">\n",
       "      <th></th>\n",
       "      <th>date</th>\n",
       "      <th>hour</th>\n",
       "      <th>beat</th>\n",
       "      <th>offense_type</th>\n",
       "      <th>block_range</th>\n",
       "      <th>street_name</th>\n",
       "      <th>premise</th>\n",
       "      <th>num_offenses</th>\n",
       "      <th>type</th>\n",
       "    </tr>\n",
       "  </thead>\n",
       "  <tbody>\n",
       "    <tr>\n",
       "      <th>0</th>\n",
       "      <td>2010-04-17</td>\n",
       "      <td>0</td>\n",
       "      <td>13D20</td>\n",
       "      <td>Murder</td>\n",
       "      <td>6600-6699</td>\n",
       "      <td>HEFFERNAN</td>\n",
       "      <td>WAREHOUSE</td>\n",
       "      <td>1</td>\n",
       "      <td>-</td>\n",
       "    </tr>\n",
       "    <tr>\n",
       "      <th>1</th>\n",
       "      <td>2010-04-01</td>\n",
       "      <td>0</td>\n",
       "      <td>14D20</td>\n",
       "      <td>Burglary</td>\n",
       "      <td>3400-3499</td>\n",
       "      <td>CORDER</td>\n",
       "      <td>WAREHOUSE</td>\n",
       "      <td>1</td>\n",
       "      <td>ST</td>\n",
       "    </tr>\n",
       "    <tr>\n",
       "      <th>2</th>\n",
       "      <td>2010-04-08</td>\n",
       "      <td>23</td>\n",
       "      <td>6B40</td>\n",
       "      <td>Burglary</td>\n",
       "      <td>10200-10299</td>\n",
       "      <td>NORTH</td>\n",
       "      <td>WAREHOUSE</td>\n",
       "      <td>1</td>\n",
       "      <td>FWY</td>\n",
       "    </tr>\n",
       "    <tr>\n",
       "      <th>3</th>\n",
       "      <td>2010-04-23</td>\n",
       "      <td>19</td>\n",
       "      <td>13D10</td>\n",
       "      <td>Burglary</td>\n",
       "      <td>6100-6199</td>\n",
       "      <td>SOUTH LP E</td>\n",
       "      <td>WAREHOUSE</td>\n",
       "      <td>1</td>\n",
       "      <td>SER</td>\n",
       "    </tr>\n",
       "    <tr>\n",
       "      <th>4</th>\n",
       "      <td>2010-04-06</td>\n",
       "      <td>17</td>\n",
       "      <td>3B10</td>\n",
       "      <td>Burglary</td>\n",
       "      <td>5900-5999</td>\n",
       "      <td>CENTRALCREST</td>\n",
       "      <td>WAREHOUSE</td>\n",
       "      <td>1</td>\n",
       "      <td>ST</td>\n",
       "    </tr>\n",
       "  </tbody>\n",
       "</table>\n",
       "</div>"
      ],
      "text/plain": [
       "         date  hour   beat offense_type  block_range   street_name    premise  \\\n",
       "0  2010-04-17     0  13D20       Murder    6600-6699     HEFFERNAN  WAREHOUSE   \n",
       "1  2010-04-01     0  14D20     Burglary    3400-3499        CORDER  WAREHOUSE   \n",
       "2  2010-04-08    23   6B40     Burglary  10200-10299         NORTH  WAREHOUSE   \n",
       "3  2010-04-23    19  13D10     Burglary    6100-6199    SOUTH LP E  WAREHOUSE   \n",
       "4  2010-04-06    17   3B10     Burglary    5900-5999  CENTRALCREST  WAREHOUSE   \n",
       "\n",
       "   num_offenses type  \n",
       "0             1    -  \n",
       "1             1   ST  \n",
       "2             1  FWY  \n",
       "3             1  SER  \n",
       "4             1   ST  "
      ]
     },
     "execution_count": 7,
     "metadata": {},
     "output_type": "execute_result"
    }
   ],
   "source": [
    "df.head()"
   ]
  },
  {
   "cell_type": "code",
   "execution_count": 8,
   "metadata": {},
   "outputs": [],
   "source": [
    "unk_date = df.date == 'UNK'"
   ]
  },
  {
   "cell_type": "code",
   "execution_count": 9,
   "metadata": {},
   "outputs": [
    {
     "data": {
      "text/html": [
       "<div>\n",
       "<style scoped>\n",
       "    .dataframe tbody tr th:only-of-type {\n",
       "        vertical-align: middle;\n",
       "    }\n",
       "\n",
       "    .dataframe tbody tr th {\n",
       "        vertical-align: top;\n",
       "    }\n",
       "\n",
       "    .dataframe thead th {\n",
       "        text-align: right;\n",
       "    }\n",
       "</style>\n",
       "<table border=\"1\" class=\"dataframe\">\n",
       "  <thead>\n",
       "    <tr style=\"text-align: right;\">\n",
       "      <th></th>\n",
       "      <th>date</th>\n",
       "      <th>hour</th>\n",
       "      <th>beat</th>\n",
       "      <th>offense_type</th>\n",
       "      <th>block_range</th>\n",
       "      <th>street_name</th>\n",
       "      <th>premise</th>\n",
       "      <th>num_offenses</th>\n",
       "      <th>type</th>\n",
       "    </tr>\n",
       "  </thead>\n",
       "  <tbody>\n",
       "    <tr>\n",
       "      <th>593244</th>\n",
       "      <td>UNK</td>\n",
       "      <td>15</td>\n",
       "      <td>13D40</td>\n",
       "      <td>Theft</td>\n",
       "      <td>8500-8599</td>\n",
       "      <td>SAM HOUSTON</td>\n",
       "      <td>UNK</td>\n",
       "      <td>1</td>\n",
       "      <td>PKWY</td>\n",
       "    </tr>\n",
       "    <tr>\n",
       "      <th>595358</th>\n",
       "      <td>UNK</td>\n",
       "      <td>14</td>\n",
       "      <td>18F40</td>\n",
       "      <td>Robbery</td>\n",
       "      <td>2700-2799</td>\n",
       "      <td>DUNVALE</td>\n",
       "      <td>UNK</td>\n",
       "      <td>1</td>\n",
       "      <td>RD</td>\n",
       "    </tr>\n",
       "    <tr>\n",
       "      <th>603375</th>\n",
       "      <td>UNK</td>\n",
       "      <td>8</td>\n",
       "      <td>14D40</td>\n",
       "      <td>Burglary</td>\n",
       "      <td>5600-5699</td>\n",
       "      <td>SELINSKY</td>\n",
       "      <td>UNK</td>\n",
       "      <td>1</td>\n",
       "      <td>RD</td>\n",
       "    </tr>\n",
       "    <tr>\n",
       "      <th>608019</th>\n",
       "      <td>UNK</td>\n",
       "      <td>11</td>\n",
       "      <td>7C20</td>\n",
       "      <td>Theft</td>\n",
       "      <td>3900-3999</td>\n",
       "      <td>CAVALCADE</td>\n",
       "      <td>UNK</td>\n",
       "      <td>1</td>\n",
       "      <td>-</td>\n",
       "    </tr>\n",
       "  </tbody>\n",
       "</table>\n",
       "</div>"
      ],
      "text/plain": [
       "       date  hour   beat offense_type block_range  street_name premise  \\\n",
       "593244  UNK    15  13D40        Theft   8500-8599  SAM HOUSTON     UNK   \n",
       "595358  UNK    14  18F40      Robbery   2700-2799      DUNVALE     UNK   \n",
       "603375  UNK     8  14D40     Burglary   5600-5699     SELINSKY     UNK   \n",
       "608019  UNK    11   7C20        Theft   3900-3999    CAVALCADE     UNK   \n",
       "\n",
       "        num_offenses  type  \n",
       "593244             1  PKWY  \n",
       "595358             1    RD  \n",
       "603375             1    RD  \n",
       "608019             1     -  "
      ]
     },
     "execution_count": 9,
     "metadata": {},
     "output_type": "execute_result"
    }
   ],
   "source": [
    "df[unk_date]"
   ]
  },
  {
   "cell_type": "code",
   "execution_count": 10,
   "metadata": {},
   "outputs": [
    {
     "data": {
      "text/plain": [
       "date                        2015-03-08\n",
       "hour                                 7\n",
       "beat                             20G30\n",
       "offense_type                     Theft\n",
       "block_range                10400-10499\n",
       "street_name                   RICHMOND\n",
       "premise         Service or Gas Station\n",
       "num_offenses                         1\n",
       "type                               AVE\n",
       "Name: 719933, dtype: object"
      ]
     },
     "execution_count": 10,
     "metadata": {},
     "output_type": "execute_result"
    }
   ],
   "source": [
    "df.loc[719933]"
   ]
  },
  {
   "cell_type": "markdown",
   "metadata": {},
   "source": [
    "## drop UNK dates"
   ]
  },
  {
   "cell_type": "code",
   "execution_count": 11,
   "metadata": {},
   "outputs": [],
   "source": [
    "df = df[df.date != 'UNK']"
   ]
  },
  {
   "cell_type": "code",
   "execution_count": null,
   "metadata": {},
   "outputs": [],
   "source": []
  },
  {
   "cell_type": "code",
   "execution_count": null,
   "metadata": {},
   "outputs": [],
   "source": []
  },
  {
   "cell_type": "markdown",
   "metadata": {},
   "source": [
    "## set date as datetime index"
   ]
  },
  {
   "cell_type": "code",
   "execution_count": 12,
   "metadata": {},
   "outputs": [
    {
     "name": "stdout",
     "output_type": "stream",
     "text": [
      "CPU times: user 266 ms, sys: 172 ms, total: 438 ms\n",
      "Wall time: 481 ms\n"
     ]
    }
   ],
   "source": [
    "%%time\n",
    "df.date = pd.to_datetime(df['date'])\n",
    "df = df.set_index('date').sort_index(ascending=True)"
   ]
  },
  {
   "cell_type": "code",
   "execution_count": 13,
   "metadata": {},
   "outputs": [
    {
     "data": {
      "text/html": [
       "<div>\n",
       "<style scoped>\n",
       "    .dataframe tbody tr th:only-of-type {\n",
       "        vertical-align: middle;\n",
       "    }\n",
       "\n",
       "    .dataframe tbody tr th {\n",
       "        vertical-align: top;\n",
       "    }\n",
       "\n",
       "    .dataframe thead th {\n",
       "        text-align: right;\n",
       "    }\n",
       "</style>\n",
       "<table border=\"1\" class=\"dataframe\">\n",
       "  <thead>\n",
       "    <tr style=\"text-align: right;\">\n",
       "      <th></th>\n",
       "      <th>hour</th>\n",
       "      <th>beat</th>\n",
       "      <th>offense_type</th>\n",
       "      <th>block_range</th>\n",
       "      <th>street_name</th>\n",
       "      <th>premise</th>\n",
       "      <th>num_offenses</th>\n",
       "      <th>type</th>\n",
       "    </tr>\n",
       "    <tr>\n",
       "      <th>date</th>\n",
       "      <th></th>\n",
       "      <th></th>\n",
       "      <th></th>\n",
       "      <th></th>\n",
       "      <th></th>\n",
       "      <th></th>\n",
       "      <th></th>\n",
       "      <th></th>\n",
       "    </tr>\n",
       "  </thead>\n",
       "  <tbody>\n",
       "    <tr>\n",
       "      <th>1914-09-08</th>\n",
       "      <td>7</td>\n",
       "      <td>24C60</td>\n",
       "      <td>Burglary</td>\n",
       "      <td>12700-12799</td>\n",
       "      <td>LAKE HOUSTON</td>\n",
       "      <td>Restaurant or Cafeteria</td>\n",
       "      <td>1</td>\n",
       "      <td>PKWY</td>\n",
       "    </tr>\n",
       "    <tr>\n",
       "      <th>1914-11-02</th>\n",
       "      <td>3</td>\n",
       "      <td>18F60</td>\n",
       "      <td>Burglary</td>\n",
       "      <td>8800-8899</td>\n",
       "      <td>BELLAIRE</td>\n",
       "      <td>Miscellaneous Business (Non-Specific)</td>\n",
       "      <td>1</td>\n",
       "      <td>BLVD</td>\n",
       "    </tr>\n",
       "    <tr>\n",
       "      <th>1914-12-03</th>\n",
       "      <td>19</td>\n",
       "      <td>12D20</td>\n",
       "      <td>Auto Theft</td>\n",
       "      <td>12800-12899</td>\n",
       "      <td>GULF</td>\n",
       "      <td>UNK</td>\n",
       "      <td>1</td>\n",
       "      <td>FWY</td>\n",
       "    </tr>\n",
       "    <tr>\n",
       "      <th>1915-01-05</th>\n",
       "      <td>22</td>\n",
       "      <td>3B10</td>\n",
       "      <td>Theft</td>\n",
       "      <td>3200-3299</td>\n",
       "      <td>MANGUM RD 180</td>\n",
       "      <td>Other Parking Lot</td>\n",
       "      <td>1</td>\n",
       "      <td>-</td>\n",
       "    </tr>\n",
       "    <tr>\n",
       "      <th>1915-01-14</th>\n",
       "      <td>23</td>\n",
       "      <td>5F10</td>\n",
       "      <td>Auto Theft</td>\n",
       "      <td>7000-7099</td>\n",
       "      <td>WESTVIEW</td>\n",
       "      <td>Apartment Parking Lot</td>\n",
       "      <td>1</td>\n",
       "      <td>DR</td>\n",
       "    </tr>\n",
       "  </tbody>\n",
       "</table>\n",
       "</div>"
      ],
      "text/plain": [
       "            hour   beat offense_type  block_range    street_name  \\\n",
       "date                                                               \n",
       "1914-09-08     7  24C60     Burglary  12700-12799   LAKE HOUSTON   \n",
       "1914-11-02     3  18F60     Burglary    8800-8899       BELLAIRE   \n",
       "1914-12-03    19  12D20   Auto Theft  12800-12899           GULF   \n",
       "1915-01-05    22   3B10        Theft    3200-3299  MANGUM RD 180   \n",
       "1915-01-14    23   5F10   Auto Theft    7000-7099       WESTVIEW   \n",
       "\n",
       "                                          premise  num_offenses  type  \n",
       "date                                                                   \n",
       "1914-09-08                Restaurant or Cafeteria             1  PKWY  \n",
       "1914-11-02  Miscellaneous Business (Non-Specific)             1  BLVD  \n",
       "1914-12-03                                    UNK             1   FWY  \n",
       "1915-01-05                      Other Parking Lot             1     -  \n",
       "1915-01-14                  Apartment Parking Lot             1    DR  "
      ]
     },
     "execution_count": 13,
     "metadata": {},
     "output_type": "execute_result"
    }
   ],
   "source": [
    "df.head()"
   ]
  },
  {
   "cell_type": "markdown",
   "metadata": {},
   "source": [
    "## Display null values"
   ]
  },
  {
   "cell_type": "code",
   "execution_count": 14,
   "metadata": {},
   "outputs": [
    {
     "data": {
      "text/plain": [
       "hour            0\n",
       "beat            0\n",
       "offense_type    0\n",
       "block_range     0\n",
       "street_name     2\n",
       "premise         0\n",
       "num_offenses    0\n",
       "type            0\n",
       "dtype: int64"
      ]
     },
     "execution_count": 14,
     "metadata": {},
     "output_type": "execute_result"
    }
   ],
   "source": [
    "df.apply(lambda x: sum(x.isnull()))"
   ]
  },
  {
   "cell_type": "markdown",
   "metadata": {},
   "source": [
    "# select beats"
   ]
  },
  {
   "cell_type": "code",
   "execution_count": 15,
   "metadata": {},
   "outputs": [
    {
     "data": {
      "text/plain": [
       "238"
      ]
     },
     "execution_count": 15,
     "metadata": {},
     "output_type": "execute_result"
    }
   ],
   "source": [
    "len(df.beat.unique())"
   ]
  },
  {
   "cell_type": "code",
   "execution_count": 16,
   "metadata": {},
   "outputs": [
    {
     "data": {
      "text/plain": [
       "array(['24C60', '18F60', '12D20', '3B10', '5F10', '1A20', '11H10',\n",
       "       '19G20', '9C40', '9C30', '6B30', '10H70', '4F20', '18F20', '20G30',\n",
       "       '19G40', '20G20', '17E20', '9C20', '19G10', '14D20', '8C20',\n",
       "       '8C30', '17E40', '6B50', '12D70', 'UNK', '1A40', '7C10', '1A50',\n",
       "       '10H40', '13D20', '18F10', '6B60', '10H50', '13D40', '2A30',\n",
       "       '3B50', '19G50', '14D50', '1A10', '15E30', '12D50', '14D30',\n",
       "       '8C60', '1A30', '18F40', '4F30', '20G50', '7C20', '3B30', '12D10',\n",
       "       '15E10', '18F50', '14D10', '11H20', '5F30', '15E20', '23J50',\n",
       "       '17E10', '6B10', '19G30', '18F30', '20G10', '2A40', '24C40',\n",
       "       '4F10', '14D40', '10H60', '3B40', '10H80', '5F20', '16E40',\n",
       "       '12D60', '6B40', '7C40', '13D30', '20G80', '10H20', '7C50',\n",
       "       '15E40', '2A50', '8C50', '24C10', '20G40', '13D10', '20G70',\n",
       "       '2A20', '7C30', '16E10', '12D30', '9C10', '16E30', '6B20', '2A10',\n",
       "       '8C10', '21I20', '11H30', '24C20', '17E30', '10H30', '5F40',\n",
       "       '2A60', '21I10', '10H10', '16E20', '11H50', '20G60', '12D40',\n",
       "       '24C30', \"'16E40\", '21I50', '8C40', '24C50', '21I30', '11H40',\n",
       "       '21I70', '21I40', '21I60', '23J40', '23J10', '7C60', '23J30',\n",
       "       \"'12D10\", '23J20', \"'18F50\", \"'15E20\", \"'20G30\", \"'20G50\",\n",
       "       \"'16E20\", \"'10H80\", \"'6B60\", \"'18F20\", \"'6B20\", \"'24C10\", \"'2A50\",\n",
       "       \"'10H30\", \"'10H70\", \"'10H60\", \"'13D10\", \"'18F60\", \"'5F20\", \"'2A30\",\n",
       "       \"'1A50\", \"'6B40\", \"'12D60\", \"'14D30\", \"'19G40\", \"'13D40\", \"'18F40\",\n",
       "       \"'20G80\", \"'17E10\", \"'15E30\", \"'10H40\", \"'10H50\", \"'1A30\",\n",
       "       \"'11H50\", \"'11H30\", \"'8C30\", \"'6B30\", \"'3B10\", \"'18F30\", \"'20G40\",\n",
       "       \"'17E30\", \"'20G10\", \"'21I50\", \"'5F40\", \"'9C20\", \"'16E10\", \"'11H10\",\n",
       "       \"'19G30\", \"'9C40\", \"'12D70\", \"'18F10\", \"'14D40\", \"'6B50\", \"'7C30\",\n",
       "       \"'3B30\", \"'19G50\", \"'20G20\", \"'1A10\", \"'5F30\", \"'13D20\", \"'15E40\",\n",
       "       \"'2A40\", \"'7C40\", \"'12D30\", \"'4F30\", \"'12D20\", \"'21I10\", \"'3B40\",\n",
       "       \"'7C50\", \"'1A20\", \"'14D20\", \"'14D50\", \"'20G60\", \"'2A20\", \"'17E40\",\n",
       "       \"'10H20\", \"'17E20\", \"'20G70\", \"'3B50\", \"'7C20\", \"'19G10\", \"'8C10\",\n",
       "       \"'24C30\", \"'9C30\", \"'2A60\", \"'1A40\", \"'9C10\", \"'6B10\", \"'8C60\",\n",
       "       \"'10H10\", \"'15E10\", \"'4F10\", \"'14D10\", \"'2A10\", \"'5F10\", \"'24C20\",\n",
       "       \"'11H20\", \"'19G20\", \"'UNK\", \"'8C20\", \"'12D40\", \"'12D50\", \"'4F20\",\n",
       "       \"'7C10\", \"'11H40\", \"'24C50\", \"'24C40\", \"'23J50\", \"'16E30\", \"'8C40\",\n",
       "       \"'8C50\", 'HCSO', 'OOJ', 'UH-3P', '3B20'], dtype=object)"
      ]
     },
     "execution_count": 16,
     "metadata": {},
     "output_type": "execute_result"
    }
   ],
   "source": [
    "df.beat.unique()"
   ]
  },
  {
   "cell_type": "markdown",
   "metadata": {},
   "source": [
    "## remove extra chars"
   ]
  },
  {
   "cell_type": "code",
   "execution_count": 17,
   "metadata": {},
   "outputs": [],
   "source": [
    "df.beat.replace(regex=True,inplace=True,to_replace=r'\\W',value=r'')"
   ]
  },
  {
   "cell_type": "code",
   "execution_count": 18,
   "metadata": {},
   "outputs": [
    {
     "data": {
      "text/plain": [
       "127"
      ]
     },
     "execution_count": 18,
     "metadata": {},
     "output_type": "execute_result"
    }
   ],
   "source": [
    "len(df.beat.unique())"
   ]
  },
  {
   "cell_type": "code",
   "execution_count": 19,
   "metadata": {},
   "outputs": [
    {
     "data": {
      "text/plain": [
       "array(['24C60', '18F60', '12D20', '3B10', '5F10', '1A20', '11H10',\n",
       "       '19G20', '9C40', '9C30', '6B30', '10H70', '4F20', '18F20', '20G30',\n",
       "       '19G40', '20G20', '17E20', '9C20', '19G10', '14D20', '8C20',\n",
       "       '8C30', '17E40', '6B50', '12D70', 'UNK', '1A40', '7C10', '1A50',\n",
       "       '10H40', '13D20', '18F10', '6B60', '10H50', '13D40', '2A30',\n",
       "       '3B50', '19G50', '14D50', '1A10', '15E30', '12D50', '14D30',\n",
       "       '8C60', '1A30', '18F40', '4F30', '20G50', '7C20', '3B30', '12D10',\n",
       "       '15E10', '18F50', '14D10', '11H20', '5F30', '15E20', '23J50',\n",
       "       '17E10', '6B10', '19G30', '18F30', '20G10', '2A40', '24C40',\n",
       "       '4F10', '14D40', '10H60', '3B40', '10H80', '5F20', '16E40',\n",
       "       '12D60', '6B40', '7C40', '13D30', '20G80', '10H20', '7C50',\n",
       "       '15E40', '2A50', '8C50', '24C10', '20G40', '13D10', '20G70',\n",
       "       '2A20', '7C30', '16E10', '12D30', '9C10', '16E30', '6B20', '2A10',\n",
       "       '8C10', '21I20', '11H30', '24C20', '17E30', '10H30', '5F40',\n",
       "       '2A60', '21I10', '10H10', '16E20', '11H50', '20G60', '12D40',\n",
       "       '24C30', '21I50', '8C40', '24C50', '21I30', '11H40', '21I70',\n",
       "       '21I40', '21I60', '23J40', '23J10', '7C60', '23J30', '23J20',\n",
       "       'HCSO', 'OOJ', 'UH3P', '3B20'], dtype=object)"
      ]
     },
     "execution_count": 19,
     "metadata": {},
     "output_type": "execute_result"
    }
   ],
   "source": [
    "df.beat.unique()"
   ]
  },
  {
   "cell_type": "markdown",
   "metadata": {},
   "source": [
    "## display null values"
   ]
  },
  {
   "cell_type": "code",
   "execution_count": 20,
   "metadata": {},
   "outputs": [
    {
     "data": {
      "text/plain": [
       "hour            0\n",
       "beat            0\n",
       "offense_type    0\n",
       "block_range     0\n",
       "street_name     2\n",
       "premise         0\n",
       "num_offenses    0\n",
       "type            0\n",
       "dtype: int64"
      ]
     },
     "execution_count": 20,
     "metadata": {},
     "output_type": "execute_result"
    }
   ],
   "source": [
    "df.apply(lambda x: sum(x.isnull()))"
   ]
  },
  {
   "cell_type": "markdown",
   "metadata": {},
   "source": [
    "## Inspect cols"
   ]
  },
  {
   "cell_type": "code",
   "execution_count": 21,
   "metadata": {},
   "outputs": [
    {
     "data": {
      "text/plain": [
       "Index(['hour', 'beat', 'offense_type', 'block_range', 'street_name', 'premise',\n",
       "       'num_offenses', 'type'],\n",
       "      dtype='object')"
      ]
     },
     "execution_count": 21,
     "metadata": {},
     "output_type": "execute_result"
    }
   ],
   "source": [
    "df.columns"
   ]
  },
  {
   "cell_type": "code",
   "execution_count": 22,
   "metadata": {},
   "outputs": [
    {
     "data": {
      "text/plain": [
       "array([ 7,  3, 19, 22, 23, 10, 13, 16, 15, 17, 12,  9, 14, 11, 18,  5,  8,\n",
       "        6,  0, 20,  2, 21,  1,  4, 24])"
      ]
     },
     "execution_count": 22,
     "metadata": {},
     "output_type": "execute_result"
    }
   ],
   "source": [
    "df.hour.unique()"
   ]
  },
  {
   "cell_type": "code",
   "execution_count": 23,
   "metadata": {},
   "outputs": [
    {
     "data": {
      "text/plain": [
       "array(['24C60', '18F60', '12D20', '3B10', '5F10', '1A20', '11H10',\n",
       "       '19G20', '9C40', '9C30', '6B30', '10H70', '4F20', '18F20', '20G30',\n",
       "       '19G40', '20G20', '17E20', '9C20', '19G10', '14D20', '8C20',\n",
       "       '8C30', '17E40', '6B50', '12D70', 'UNK', '1A40', '7C10', '1A50',\n",
       "       '10H40', '13D20', '18F10', '6B60', '10H50', '13D40', '2A30',\n",
       "       '3B50', '19G50', '14D50', '1A10', '15E30', '12D50', '14D30',\n",
       "       '8C60', '1A30', '18F40', '4F30', '20G50', '7C20', '3B30', '12D10',\n",
       "       '15E10', '18F50', '14D10', '11H20', '5F30', '15E20', '23J50',\n",
       "       '17E10', '6B10', '19G30', '18F30', '20G10', '2A40', '24C40',\n",
       "       '4F10', '14D40', '10H60', '3B40', '10H80', '5F20', '16E40',\n",
       "       '12D60', '6B40', '7C40', '13D30', '20G80', '10H20', '7C50',\n",
       "       '15E40', '2A50', '8C50', '24C10', '20G40', '13D10', '20G70',\n",
       "       '2A20', '7C30', '16E10', '12D30', '9C10', '16E30', '6B20', '2A10',\n",
       "       '8C10', '21I20', '11H30', '24C20', '17E30', '10H30', '5F40',\n",
       "       '2A60', '21I10', '10H10', '16E20', '11H50', '20G60', '12D40',\n",
       "       '24C30', '21I50', '8C40', '24C50', '21I30', '11H40', '21I70',\n",
       "       '21I40', '21I60', '23J40', '23J10', '7C60', '23J30', '23J20',\n",
       "       'HCSO', 'OOJ', 'UH3P', '3B20'], dtype=object)"
      ]
     },
     "execution_count": 23,
     "metadata": {},
     "output_type": "execute_result"
    }
   ],
   "source": [
    "df.beat.unique()"
   ]
  },
  {
   "cell_type": "code",
   "execution_count": 24,
   "metadata": {},
   "outputs": [
    {
     "data": {
      "text/plain": [
       "array(['Burglary', 'Auto Theft', 'Theft', 'Rape', 'Aggravated Assault',\n",
       "       'Robbery', 'Murder', '1'], dtype=object)"
      ]
     },
     "execution_count": 24,
     "metadata": {},
     "output_type": "execute_result"
    }
   ],
   "source": [
    "df.offense_type.unique()"
   ]
  },
  {
   "cell_type": "code",
   "execution_count": 25,
   "metadata": {},
   "outputs": [
    {
     "data": {
      "text/plain": [
       "array([ 1,  2,  4,  3, 16,  5,  9,  6, 13,  7,  8, 11, 29, 12, 17, 33, 10])"
      ]
     },
     "execution_count": 25,
     "metadata": {},
     "output_type": "execute_result"
    }
   ],
   "source": [
    "df.num_offenses.unique()"
   ]
  },
  {
   "cell_type": "code",
   "execution_count": 26,
   "metadata": {},
   "outputs": [
    {
     "name": "stdout",
     "output_type": "stream",
     "text": [
      "<class 'pandas.core.frame.DataFrame'>\n",
      "DatetimeIndex: 1006227 entries, 1914-09-08 to 2033-04-21\n",
      "Data columns (total 8 columns):\n",
      "hour            1006227 non-null int64\n",
      "beat            1006227 non-null object\n",
      "offense_type    1006227 non-null object\n",
      "block_range     1006227 non-null object\n",
      "street_name     1006225 non-null object\n",
      "premise         1006227 non-null object\n",
      "num_offenses    1006227 non-null int64\n",
      "type            1006227 non-null object\n",
      "dtypes: int64(2), object(6)\n",
      "memory usage: 69.1+ MB\n"
     ]
    }
   ],
   "source": [
    "df.info()"
   ]
  },
  {
   "cell_type": "code",
   "execution_count": null,
   "metadata": {},
   "outputs": [],
   "source": []
  },
  {
   "cell_type": "markdown",
   "metadata": {},
   "source": [
    "## save"
   ]
  },
  {
   "cell_type": "code",
   "execution_count": null,
   "metadata": {},
   "outputs": [],
   "source": []
  },
  {
   "cell_type": "code",
   "execution_count": 27,
   "metadata": {},
   "outputs": [],
   "source": [
    "df.to_csv(data_directory_saves+'crime_clean_01.csv')"
   ]
  },
  {
   "cell_type": "code",
   "execution_count": null,
   "metadata": {},
   "outputs": [],
   "source": []
  }
 ],
 "metadata": {
  "kernelspec": {
   "display_name": "Python 3",
   "language": "python",
   "name": "python3"
  },
  "language_info": {
   "codemirror_mode": {
    "name": "ipython",
    "version": 3
   },
   "file_extension": ".py",
   "mimetype": "text/x-python",
   "name": "python",
   "nbconvert_exporter": "python",
   "pygments_lexer": "ipython3",
   "version": "3.6.4"
  }
 },
 "nbformat": 4,
 "nbformat_minor": 2
}
