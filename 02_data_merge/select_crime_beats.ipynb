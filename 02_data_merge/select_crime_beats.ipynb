{
 "cells": [
  {
   "cell_type": "code",
   "execution_count": null,
   "metadata": {},
   "outputs": [],
   "source": []
  },
  {
   "cell_type": "code",
   "execution_count": 1,
   "metadata": {},
   "outputs": [],
   "source": [
    "import warnings\n",
    "warnings.filterwarnings('ignore')"
   ]
  },
  {
   "cell_type": "code",
   "execution_count": 2,
   "metadata": {},
   "outputs": [],
   "source": [
    "import pandas as pd\n",
    "import glob, os\n",
    "import numpy as np\n",
    "import matplotlib.pyplot as plt\n",
    "import datetime  as dt\n",
    "import seaborn as sns"
   ]
  },
  {
   "cell_type": "markdown",
   "metadata": {},
   "source": [
    "## Data directory"
   ]
  },
  {
   "cell_type": "code",
   "execution_count": 3,
   "metadata": {},
   "outputs": [],
   "source": [
    "data_folder = 'crime'"
   ]
  },
  {
   "cell_type": "code",
   "execution_count": 4,
   "metadata": {},
   "outputs": [],
   "source": [
    "# data folder path\n",
    "data_directory = os.path.join('..','data','clean_data/{}'.format(data_folder))\n",
    "data_directory_saves = os.path.join( '..','data','clean_data','merge_data/')"
   ]
  },
  {
   "cell_type": "code",
   "execution_count": 5,
   "metadata": {},
   "outputs": [],
   "source": [
    "# combine all files into one df\n",
    "all_files = glob.glob(os.path.join(data_directory, \"*.csv\")) \n",
    "df_from_each_file = (pd.read_csv(f) for f in all_files)\n",
    "df   = pd.concat(df_from_each_file, ignore_index=True)\n",
    "df.drop(['Unnamed: 0'],axis=1,inplace=True)"
   ]
  },
  {
   "cell_type": "code",
   "execution_count": 6,
   "metadata": {},
   "outputs": [
    {
     "name": "stdout",
     "output_type": "stream",
     "text": [
      "<class 'pandas.core.frame.DataFrame'>\n",
      "RangeIndex: 1006231 entries, 0 to 1006230\n",
      "Data columns (total 8 columns):\n",
      "date            1006231 non-null object\n",
      "hour            1006231 non-null int64\n",
      "beat            1006231 non-null object\n",
      "offense_type    1006231 non-null object\n",
      "block_range     1006231 non-null object\n",
      "street_name     1006229 non-null object\n",
      "premise         1006231 non-null object\n",
      "num_offenses    1006231 non-null int64\n",
      "dtypes: int64(2), object(6)\n",
      "memory usage: 61.4+ MB\n"
     ]
    }
   ],
   "source": [
    "df.info()"
   ]
  },
  {
   "cell_type": "code",
   "execution_count": 7,
   "metadata": {},
   "outputs": [
    {
     "data": {
      "text/html": [
       "<div>\n",
       "<style scoped>\n",
       "    .dataframe tbody tr th:only-of-type {\n",
       "        vertical-align: middle;\n",
       "    }\n",
       "\n",
       "    .dataframe tbody tr th {\n",
       "        vertical-align: top;\n",
       "    }\n",
       "\n",
       "    .dataframe thead th {\n",
       "        text-align: right;\n",
       "    }\n",
       "</style>\n",
       "<table border=\"1\" class=\"dataframe\">\n",
       "  <thead>\n",
       "    <tr style=\"text-align: right;\">\n",
       "      <th></th>\n",
       "      <th>date</th>\n",
       "      <th>hour</th>\n",
       "      <th>beat</th>\n",
       "      <th>offense_type</th>\n",
       "      <th>block_range</th>\n",
       "      <th>street_name</th>\n",
       "      <th>premise</th>\n",
       "      <th>num_offenses</th>\n",
       "    </tr>\n",
       "  </thead>\n",
       "  <tbody>\n",
       "    <tr>\n",
       "      <th>0</th>\n",
       "      <td>2017-04-10</td>\n",
       "      <td>15</td>\n",
       "      <td>10H10</td>\n",
       "      <td>Burglary</td>\n",
       "      <td>200-299</td>\n",
       "      <td>CLIFTON</td>\n",
       "      <td>Residence or House</td>\n",
       "      <td>1</td>\n",
       "    </tr>\n",
       "    <tr>\n",
       "      <th>1</th>\n",
       "      <td>2017-04-11</td>\n",
       "      <td>15</td>\n",
       "      <td>10H10</td>\n",
       "      <td>Theft</td>\n",
       "      <td>2300-2399</td>\n",
       "      <td>CANAL</td>\n",
       "      <td>Restaurant or Cafeteria Parking Lot</td>\n",
       "      <td>1</td>\n",
       "    </tr>\n",
       "    <tr>\n",
       "      <th>2</th>\n",
       "      <td>2017-04-11</td>\n",
       "      <td>17</td>\n",
       "      <td>10H10</td>\n",
       "      <td>Theft</td>\n",
       "      <td>2300-2399</td>\n",
       "      <td>CANAL</td>\n",
       "      <td>Restaurant or Cafeteria Parking Lot</td>\n",
       "      <td>1</td>\n",
       "    </tr>\n",
       "    <tr>\n",
       "      <th>3</th>\n",
       "      <td>2017-04-12</td>\n",
       "      <td>9</td>\n",
       "      <td>10H10</td>\n",
       "      <td>Burglary</td>\n",
       "      <td>4600-4699</td>\n",
       "      <td>CANAL</td>\n",
       "      <td>Miscellaneous Business (Non-Specific)</td>\n",
       "      <td>1</td>\n",
       "    </tr>\n",
       "    <tr>\n",
       "      <th>4</th>\n",
       "      <td>2017-04-12</td>\n",
       "      <td>19</td>\n",
       "      <td>10H10</td>\n",
       "      <td>Theft</td>\n",
       "      <td>100-199</td>\n",
       "      <td>ADAM</td>\n",
       "      <td>Other, Unknown, or Not Listed</td>\n",
       "      <td>1</td>\n",
       "    </tr>\n",
       "  </tbody>\n",
       "</table>\n",
       "</div>"
      ],
      "text/plain": [
       "         date  hour   beat offense_type block_range street_name  \\\n",
       "0  2017-04-10    15  10H10     Burglary     200-299     CLIFTON   \n",
       "1  2017-04-11    15  10H10        Theft   2300-2399       CANAL   \n",
       "2  2017-04-11    17  10H10        Theft   2300-2399       CANAL   \n",
       "3  2017-04-12     9  10H10     Burglary   4600-4699       CANAL   \n",
       "4  2017-04-12    19  10H10        Theft     100-199        ADAM   \n",
       "\n",
       "                                 premise  num_offenses  \n",
       "0                     Residence or House             1  \n",
       "1    Restaurant or Cafeteria Parking Lot             1  \n",
       "2    Restaurant or Cafeteria Parking Lot             1  \n",
       "3  Miscellaneous Business (Non-Specific)             1  \n",
       "4          Other, Unknown, or Not Listed             1  "
      ]
     },
     "execution_count": 7,
     "metadata": {},
     "output_type": "execute_result"
    }
   ],
   "source": [
    "df.head()"
   ]
  },
  {
   "cell_type": "code",
   "execution_count": 8,
   "metadata": {},
   "outputs": [],
   "source": [
    "unk_date = df.date == 'UNK'"
   ]
  },
  {
   "cell_type": "code",
   "execution_count": 9,
   "metadata": {},
   "outputs": [
    {
     "data": {
      "text/html": [
       "<div>\n",
       "<style scoped>\n",
       "    .dataframe tbody tr th:only-of-type {\n",
       "        vertical-align: middle;\n",
       "    }\n",
       "\n",
       "    .dataframe tbody tr th {\n",
       "        vertical-align: top;\n",
       "    }\n",
       "\n",
       "    .dataframe thead th {\n",
       "        text-align: right;\n",
       "    }\n",
       "</style>\n",
       "<table border=\"1\" class=\"dataframe\">\n",
       "  <thead>\n",
       "    <tr style=\"text-align: right;\">\n",
       "      <th></th>\n",
       "      <th>date</th>\n",
       "      <th>hour</th>\n",
       "      <th>beat</th>\n",
       "      <th>offense_type</th>\n",
       "      <th>block_range</th>\n",
       "      <th>street_name</th>\n",
       "      <th>premise</th>\n",
       "      <th>num_offenses</th>\n",
       "    </tr>\n",
       "  </thead>\n",
       "  <tbody>\n",
       "    <tr>\n",
       "      <th>705158</th>\n",
       "      <td>UNK</td>\n",
       "      <td>15</td>\n",
       "      <td>13D40</td>\n",
       "      <td>Theft</td>\n",
       "      <td>8500-8599</td>\n",
       "      <td>SAM HOUSTON</td>\n",
       "      <td>UNK</td>\n",
       "      <td>1</td>\n",
       "    </tr>\n",
       "    <tr>\n",
       "      <th>707272</th>\n",
       "      <td>UNK</td>\n",
       "      <td>14</td>\n",
       "      <td>18F40</td>\n",
       "      <td>Robbery</td>\n",
       "      <td>2700-2799</td>\n",
       "      <td>DUNVALE</td>\n",
       "      <td>UNK</td>\n",
       "      <td>1</td>\n",
       "    </tr>\n",
       "    <tr>\n",
       "      <th>715289</th>\n",
       "      <td>UNK</td>\n",
       "      <td>8</td>\n",
       "      <td>14D40</td>\n",
       "      <td>Burglary</td>\n",
       "      <td>5600-5699</td>\n",
       "      <td>SELINSKY</td>\n",
       "      <td>UNK</td>\n",
       "      <td>1</td>\n",
       "    </tr>\n",
       "    <tr>\n",
       "      <th>719933</th>\n",
       "      <td>UNK</td>\n",
       "      <td>11</td>\n",
       "      <td>7C20</td>\n",
       "      <td>Theft</td>\n",
       "      <td>3900-3999</td>\n",
       "      <td>CAVALCADE</td>\n",
       "      <td>UNK</td>\n",
       "      <td>1</td>\n",
       "    </tr>\n",
       "  </tbody>\n",
       "</table>\n",
       "</div>"
      ],
      "text/plain": [
       "       date  hour   beat offense_type block_range  street_name premise  \\\n",
       "705158  UNK    15  13D40        Theft   8500-8599  SAM HOUSTON     UNK   \n",
       "707272  UNK    14  18F40      Robbery   2700-2799      DUNVALE     UNK   \n",
       "715289  UNK     8  14D40     Burglary   5600-5699     SELINSKY     UNK   \n",
       "719933  UNK    11   7C20        Theft   3900-3999    CAVALCADE     UNK   \n",
       "\n",
       "        num_offenses  \n",
       "705158             1  \n",
       "707272             1  \n",
       "715289             1  \n",
       "719933             1  "
      ]
     },
     "execution_count": 9,
     "metadata": {},
     "output_type": "execute_result"
    }
   ],
   "source": [
    "df[unk_date]"
   ]
  },
  {
   "cell_type": "code",
   "execution_count": 10,
   "metadata": {},
   "outputs": [
    {
     "data": {
      "text/plain": [
       "date                  UNK\n",
       "hour                   11\n",
       "beat                 7C20\n",
       "offense_type        Theft\n",
       "block_range     3900-3999\n",
       "street_name     CAVALCADE\n",
       "premise               UNK\n",
       "num_offenses            1\n",
       "Name: 719933, dtype: object"
      ]
     },
     "execution_count": 10,
     "metadata": {},
     "output_type": "execute_result"
    }
   ],
   "source": [
    "df.loc[719933]"
   ]
  },
  {
   "cell_type": "markdown",
   "metadata": {},
   "source": [
    "## drop UNK dates"
   ]
  },
  {
   "cell_type": "code",
   "execution_count": 11,
   "metadata": {},
   "outputs": [],
   "source": [
    "df = df[df.date != 'UNK']"
   ]
  },
  {
   "cell_type": "markdown",
   "metadata": {},
   "source": [
    "## set date as datetime index"
   ]
  },
  {
   "cell_type": "code",
   "execution_count": 12,
   "metadata": {},
   "outputs": [
    {
     "name": "stdout",
     "output_type": "stream",
     "text": [
      "CPU times: user 432 ms, sys: 272 ms, total: 704 ms\n",
      "Wall time: 735 ms\n"
     ]
    }
   ],
   "source": [
    "%%time\n",
    "df.date = pd.to_datetime(df['date'])\n",
    "df = df.set_index('date').sort_index(ascending=True)"
   ]
  },
  {
   "cell_type": "code",
   "execution_count": 13,
   "metadata": {},
   "outputs": [
    {
     "data": {
      "text/html": [
       "<div>\n",
       "<style scoped>\n",
       "    .dataframe tbody tr th:only-of-type {\n",
       "        vertical-align: middle;\n",
       "    }\n",
       "\n",
       "    .dataframe tbody tr th {\n",
       "        vertical-align: top;\n",
       "    }\n",
       "\n",
       "    .dataframe thead th {\n",
       "        text-align: right;\n",
       "    }\n",
       "</style>\n",
       "<table border=\"1\" class=\"dataframe\">\n",
       "  <thead>\n",
       "    <tr style=\"text-align: right;\">\n",
       "      <th></th>\n",
       "      <th>hour</th>\n",
       "      <th>beat</th>\n",
       "      <th>offense_type</th>\n",
       "      <th>block_range</th>\n",
       "      <th>street_name</th>\n",
       "      <th>premise</th>\n",
       "      <th>num_offenses</th>\n",
       "    </tr>\n",
       "    <tr>\n",
       "      <th>date</th>\n",
       "      <th></th>\n",
       "      <th></th>\n",
       "      <th></th>\n",
       "      <th></th>\n",
       "      <th></th>\n",
       "      <th></th>\n",
       "      <th></th>\n",
       "    </tr>\n",
       "  </thead>\n",
       "  <tbody>\n",
       "    <tr>\n",
       "      <th>1914-09-08</th>\n",
       "      <td>7</td>\n",
       "      <td>24C60</td>\n",
       "      <td>Burglary</td>\n",
       "      <td>12700-12799</td>\n",
       "      <td>LAKE HOUSTON</td>\n",
       "      <td>Restaurant or Cafeteria</td>\n",
       "      <td>1</td>\n",
       "    </tr>\n",
       "    <tr>\n",
       "      <th>1914-11-02</th>\n",
       "      <td>3</td>\n",
       "      <td>18F60</td>\n",
       "      <td>Burglary</td>\n",
       "      <td>8800-8899</td>\n",
       "      <td>BELLAIRE</td>\n",
       "      <td>Miscellaneous Business (Non-Specific)</td>\n",
       "      <td>1</td>\n",
       "    </tr>\n",
       "    <tr>\n",
       "      <th>1914-12-03</th>\n",
       "      <td>19</td>\n",
       "      <td>12D20</td>\n",
       "      <td>Auto Theft</td>\n",
       "      <td>12800-12899</td>\n",
       "      <td>GULF</td>\n",
       "      <td>UNK</td>\n",
       "      <td>1</td>\n",
       "    </tr>\n",
       "    <tr>\n",
       "      <th>1915-01-05</th>\n",
       "      <td>22</td>\n",
       "      <td>3B10</td>\n",
       "      <td>Theft</td>\n",
       "      <td>3200-3299</td>\n",
       "      <td>MANGUM RD 180</td>\n",
       "      <td>Other Parking Lot</td>\n",
       "      <td>1</td>\n",
       "    </tr>\n",
       "    <tr>\n",
       "      <th>1915-01-14</th>\n",
       "      <td>23</td>\n",
       "      <td>5F10</td>\n",
       "      <td>Auto Theft</td>\n",
       "      <td>7000-7099</td>\n",
       "      <td>WESTVIEW</td>\n",
       "      <td>Apartment Parking Lot</td>\n",
       "      <td>1</td>\n",
       "    </tr>\n",
       "  </tbody>\n",
       "</table>\n",
       "</div>"
      ],
      "text/plain": [
       "            hour   beat offense_type  block_range    street_name  \\\n",
       "date                                                               \n",
       "1914-09-08     7  24C60     Burglary  12700-12799   LAKE HOUSTON   \n",
       "1914-11-02     3  18F60     Burglary    8800-8899       BELLAIRE   \n",
       "1914-12-03    19  12D20   Auto Theft  12800-12899           GULF   \n",
       "1915-01-05    22   3B10        Theft    3200-3299  MANGUM RD 180   \n",
       "1915-01-14    23   5F10   Auto Theft    7000-7099       WESTVIEW   \n",
       "\n",
       "                                          premise  num_offenses  \n",
       "date                                                             \n",
       "1914-09-08                Restaurant or Cafeteria             1  \n",
       "1914-11-02  Miscellaneous Business (Non-Specific)             1  \n",
       "1914-12-03                                    UNK             1  \n",
       "1915-01-05                      Other Parking Lot             1  \n",
       "1915-01-14                  Apartment Parking Lot             1  "
      ]
     },
     "execution_count": 13,
     "metadata": {},
     "output_type": "execute_result"
    }
   ],
   "source": [
    "df.head()"
   ]
  },
  {
   "cell_type": "markdown",
   "metadata": {},
   "source": [
    "## Display null values"
   ]
  },
  {
   "cell_type": "code",
   "execution_count": 14,
   "metadata": {},
   "outputs": [
    {
     "data": {
      "text/plain": [
       "hour            0\n",
       "beat            0\n",
       "offense_type    0\n",
       "block_range     0\n",
       "street_name     2\n",
       "premise         0\n",
       "num_offenses    0\n",
       "dtype: int64"
      ]
     },
     "execution_count": 14,
     "metadata": {},
     "output_type": "execute_result"
    }
   ],
   "source": [
    "df.apply(lambda x: sum(x.isnull()))"
   ]
  },
  {
   "cell_type": "markdown",
   "metadata": {},
   "source": [
    "# select beats"
   ]
  },
  {
   "cell_type": "code",
   "execution_count": 15,
   "metadata": {},
   "outputs": [
    {
     "data": {
      "text/plain": [
       "238"
      ]
     },
     "execution_count": 15,
     "metadata": {},
     "output_type": "execute_result"
    }
   ],
   "source": [
    "len(df.beat.unique())"
   ]
  },
  {
   "cell_type": "code",
   "execution_count": 16,
   "metadata": {},
   "outputs": [
    {
     "data": {
      "text/plain": [
       "array(['24C60', '18F60', '12D20', '3B10', '5F10', '1A20', '11H10',\n",
       "       '19G20', '9C40', '9C30', '6B30', '10H70', '4F20', '18F20', '19G40',\n",
       "       '20G30', '20G20', '17E20', '9C20', '19G10', '14D20', '8C20',\n",
       "       '8C30', '17E40', '6B50', '12D70', 'UNK', '1A40', '7C10', '1A50',\n",
       "       '10H40', '13D20', '6B60', '18F10', '10H50', '13D40', '2A30',\n",
       "       '3B50', '19G50', '14D50', '1A10', '15E30', '12D50', '14D30',\n",
       "       '8C60', '1A30', '18F40', '4F30', '20G50', '7C20', '3B30', '12D10',\n",
       "       '15E10', '18F50', '14D10', '11H20', '5F30', '15E20', '23J50',\n",
       "       '17E10', '6B10', '19G30', '18F30', '20G10', '2A40', '24C40',\n",
       "       '4F10', '14D40', '10H60', '3B40', '10H80', '5F20', '16E40',\n",
       "       '12D60', '6B40', '7C40', '13D30', '20G80', '10H20', '7C50',\n",
       "       '15E40', '2A50', '8C50', '24C10', '20G40', '13D10', '7C30',\n",
       "       '20G70', '2A20', '16E10', '12D30', '9C10', '16E30', '6B20', '2A10',\n",
       "       '8C10', '21I20', '11H30', '24C20', '17E30', '10H30', '5F40',\n",
       "       '2A60', '21I10', '10H10', '16E20', '11H50', '20G60', '12D40',\n",
       "       '24C30', \"'16E40\", '21I50', '8C40', '24C50', '21I30', '11H40',\n",
       "       '21I70', '21I40', '21I60', '23J40', '23J10', '7C60', '23J30',\n",
       "       \"'12D10\", '23J20', \"'18F50\", \"'15E20\", \"'20G30\", \"'20G50\",\n",
       "       \"'16E20\", \"'10H80\", \"'6B60\", \"'18F20\", \"'6B20\", \"'24C10\", \"'2A50\",\n",
       "       \"'10H30\", \"'10H70\", \"'10H60\", \"'13D10\", \"'18F60\", \"'5F20\", \"'2A30\",\n",
       "       \"'12D60\", \"'1A50\", \"'6B40\", \"'14D30\", \"'13D40\", \"'19G40\", \"'20G80\",\n",
       "       \"'18F40\", \"'17E10\", \"'15E30\", \"'10H40\", \"'10H50\", \"'1A30\",\n",
       "       \"'11H50\", \"'11H30\", \"'6B30\", \"'8C30\", \"'18F30\", \"'3B10\", \"'20G40\",\n",
       "       \"'17E30\", \"'20G10\", \"'21I50\", \"'5F40\", \"'9C20\", \"'16E10\", \"'11H10\",\n",
       "       \"'19G30\", \"'9C40\", \"'18F10\", \"'12D70\", \"'14D40\", \"'6B50\", \"'7C30\",\n",
       "       \"'3B30\", \"'19G50\", \"'20G20\", \"'1A10\", \"'5F30\", \"'7C40\", \"'15E40\",\n",
       "       \"'2A40\", \"'13D20\", \"'4F30\", \"'12D20\", \"'12D30\", \"'1A20\", \"'7C50\",\n",
       "       \"'3B40\", \"'21I10\", \"'14D20\", \"'20G60\", \"'2A20\", \"'14D50\", \"'20G70\",\n",
       "       \"'10H20\", \"'3B50\", \"'17E40\", \"'17E20\", \"'7C20\", \"'9C30\", \"'19G10\",\n",
       "       \"'1A40\", \"'8C10\", \"'24C30\", \"'2A60\", \"'14D10\", \"'8C60\", \"'6B10\",\n",
       "       \"'5F10\", \"'2A10\", \"'10H10\", \"'15E10\", \"'4F10\", \"'9C10\", \"'4F20\",\n",
       "       \"'7C10\", \"'11H40\", \"'8C20\", \"'19G20\", \"'12D40\", \"'UNK\", \"'24C20\",\n",
       "       \"'12D50\", \"'11H20\", \"'23J50\", \"'8C40\", \"'8C50\", \"'16E30\", \"'24C50\",\n",
       "       \"'24C40\", 'HCSO', 'OOJ', 'UH-3P', '3B20'], dtype=object)"
      ]
     },
     "execution_count": 16,
     "metadata": {},
     "output_type": "execute_result"
    }
   ],
   "source": [
    "df.beat.unique()"
   ]
  },
  {
   "cell_type": "markdown",
   "metadata": {},
   "source": [
    "## remove extra chars"
   ]
  },
  {
   "cell_type": "code",
   "execution_count": 17,
   "metadata": {},
   "outputs": [],
   "source": [
    "df.beat.replace(regex=True,inplace=True,to_replace=r'\\W',value=r'')"
   ]
  },
  {
   "cell_type": "code",
   "execution_count": 18,
   "metadata": {},
   "outputs": [
    {
     "data": {
      "text/plain": [
       "127"
      ]
     },
     "execution_count": 18,
     "metadata": {},
     "output_type": "execute_result"
    }
   ],
   "source": [
    "len(df.beat.unique())"
   ]
  },
  {
   "cell_type": "code",
   "execution_count": 19,
   "metadata": {},
   "outputs": [
    {
     "data": {
      "text/plain": [
       "array(['24C60', '18F60', '12D20', '3B10', '5F10', '1A20', '11H10',\n",
       "       '19G20', '9C40', '9C30', '6B30', '10H70', '4F20', '18F20', '19G40',\n",
       "       '20G30', '20G20', '17E20', '9C20', '19G10', '14D20', '8C20',\n",
       "       '8C30', '17E40', '6B50', '12D70', 'UNK', '1A40', '7C10', '1A50',\n",
       "       '10H40', '13D20', '6B60', '18F10', '10H50', '13D40', '2A30',\n",
       "       '3B50', '19G50', '14D50', '1A10', '15E30', '12D50', '14D30',\n",
       "       '8C60', '1A30', '18F40', '4F30', '20G50', '7C20', '3B30', '12D10',\n",
       "       '15E10', '18F50', '14D10', '11H20', '5F30', '15E20', '23J50',\n",
       "       '17E10', '6B10', '19G30', '18F30', '20G10', '2A40', '24C40',\n",
       "       '4F10', '14D40', '10H60', '3B40', '10H80', '5F20', '16E40',\n",
       "       '12D60', '6B40', '7C40', '13D30', '20G80', '10H20', '7C50',\n",
       "       '15E40', '2A50', '8C50', '24C10', '20G40', '13D10', '7C30',\n",
       "       '20G70', '2A20', '16E10', '12D30', '9C10', '16E30', '6B20', '2A10',\n",
       "       '8C10', '21I20', '11H30', '24C20', '17E30', '10H30', '5F40',\n",
       "       '2A60', '21I10', '10H10', '16E20', '11H50', '20G60', '12D40',\n",
       "       '24C30', '21I50', '8C40', '24C50', '21I30', '11H40', '21I70',\n",
       "       '21I40', '21I60', '23J40', '23J10', '7C60', '23J30', '23J20',\n",
       "       'HCSO', 'OOJ', 'UH3P', '3B20'], dtype=object)"
      ]
     },
     "execution_count": 19,
     "metadata": {},
     "output_type": "execute_result"
    }
   ],
   "source": [
    "df.beat.unique()"
   ]
  },
  {
   "cell_type": "code",
   "execution_count": 20,
   "metadata": {},
   "outputs": [],
   "source": [
    "beats = ['10H10','10H30', '10H40', '10H50', '10H60','10H70', '10H80', '15E40', '1A10']"
   ]
  },
  {
   "cell_type": "code",
   "execution_count": 21,
   "metadata": {},
   "outputs": [],
   "source": [
    "selected_beats = df.beat.isin(beats)"
   ]
  },
  {
   "cell_type": "code",
   "execution_count": 22,
   "metadata": {},
   "outputs": [],
   "source": [
    "data = df[selected_beats]"
   ]
  },
  {
   "cell_type": "code",
   "execution_count": 23,
   "metadata": {},
   "outputs": [
    {
     "name": "stdout",
     "output_type": "stream",
     "text": [
      "<class 'pandas.core.frame.DataFrame'>\n",
      "DatetimeIndex: 85578 entries, 1916-05-23 to 2021-01-03\n",
      "Data columns (total 7 columns):\n",
      "hour            85578 non-null int64\n",
      "beat            85578 non-null object\n",
      "offense_type    85578 non-null object\n",
      "block_range     85578 non-null object\n",
      "street_name     85578 non-null object\n",
      "premise         85578 non-null object\n",
      "num_offenses    85578 non-null int64\n",
      "dtypes: int64(2), object(5)\n",
      "memory usage: 5.2+ MB\n"
     ]
    }
   ],
   "source": [
    "data.info()"
   ]
  },
  {
   "cell_type": "code",
   "execution_count": 24,
   "metadata": {},
   "outputs": [
    {
     "data": {
      "text/html": [
       "<div>\n",
       "<style scoped>\n",
       "    .dataframe tbody tr th:only-of-type {\n",
       "        vertical-align: middle;\n",
       "    }\n",
       "\n",
       "    .dataframe tbody tr th {\n",
       "        vertical-align: top;\n",
       "    }\n",
       "\n",
       "    .dataframe thead th {\n",
       "        text-align: right;\n",
       "    }\n",
       "</style>\n",
       "<table border=\"1\" class=\"dataframe\">\n",
       "  <thead>\n",
       "    <tr style=\"text-align: right;\">\n",
       "      <th></th>\n",
       "      <th>hour</th>\n",
       "      <th>beat</th>\n",
       "      <th>offense_type</th>\n",
       "      <th>block_range</th>\n",
       "      <th>street_name</th>\n",
       "      <th>premise</th>\n",
       "      <th>num_offenses</th>\n",
       "    </tr>\n",
       "    <tr>\n",
       "      <th>date</th>\n",
       "      <th></th>\n",
       "      <th></th>\n",
       "      <th></th>\n",
       "      <th></th>\n",
       "      <th></th>\n",
       "      <th></th>\n",
       "      <th></th>\n",
       "    </tr>\n",
       "  </thead>\n",
       "  <tbody>\n",
       "    <tr>\n",
       "      <th>1916-05-23</th>\n",
       "      <td>19</td>\n",
       "      <td>10H70</td>\n",
       "      <td>Aggravated Assault</td>\n",
       "      <td>UNK</td>\n",
       "      <td>LIBERTY ROAD</td>\n",
       "      <td>Residence or House</td>\n",
       "      <td>1</td>\n",
       "    </tr>\n",
       "    <tr>\n",
       "      <th>1917-02-20</th>\n",
       "      <td>16</td>\n",
       "      <td>10H70</td>\n",
       "      <td>Theft</td>\n",
       "      <td>7500-7599</td>\n",
       "      <td>ARDMORE</td>\n",
       "      <td>Other Parking Lot</td>\n",
       "      <td>1</td>\n",
       "    </tr>\n",
       "    <tr>\n",
       "      <th>1963-02-02</th>\n",
       "      <td>13</td>\n",
       "      <td>10H40</td>\n",
       "      <td>Theft</td>\n",
       "      <td>3800-3899</td>\n",
       "      <td>MAIN</td>\n",
       "      <td>REHABILITATION CENTER</td>\n",
       "      <td>1</td>\n",
       "    </tr>\n",
       "    <tr>\n",
       "      <th>1966-01-01</th>\n",
       "      <td>0</td>\n",
       "      <td>10H50</td>\n",
       "      <td>Rape</td>\n",
       "      <td>3300-3399</td>\n",
       "      <td>ALABAMA</td>\n",
       "      <td>APARTMENT</td>\n",
       "      <td>1</td>\n",
       "    </tr>\n",
       "    <tr>\n",
       "      <th>1971-02-03</th>\n",
       "      <td>6</td>\n",
       "      <td>1A10</td>\n",
       "      <td>Theft</td>\n",
       "      <td>1200-1299</td>\n",
       "      <td>TRAVIS</td>\n",
       "      <td>Residence or House</td>\n",
       "      <td>1</td>\n",
       "    </tr>\n",
       "  </tbody>\n",
       "</table>\n",
       "</div>"
      ],
      "text/plain": [
       "            hour   beat        offense_type block_range   street_name  \\\n",
       "date                                                                    \n",
       "1916-05-23    19  10H70  Aggravated Assault         UNK  LIBERTY ROAD   \n",
       "1917-02-20    16  10H70               Theft   7500-7599       ARDMORE   \n",
       "1963-02-02    13  10H40               Theft   3800-3899          MAIN   \n",
       "1966-01-01     0  10H50                Rape   3300-3399       ALABAMA   \n",
       "1971-02-03     6   1A10               Theft   1200-1299        TRAVIS   \n",
       "\n",
       "                          premise  num_offenses  \n",
       "date                                             \n",
       "1916-05-23     Residence or House             1  \n",
       "1917-02-20      Other Parking Lot             1  \n",
       "1963-02-02  REHABILITATION CENTER             1  \n",
       "1966-01-01              APARTMENT             1  \n",
       "1971-02-03     Residence or House             1  "
      ]
     },
     "execution_count": 24,
     "metadata": {},
     "output_type": "execute_result"
    }
   ],
   "source": [
    "data.head()"
   ]
  },
  {
   "cell_type": "markdown",
   "metadata": {},
   "source": [
    "## display null values"
   ]
  },
  {
   "cell_type": "code",
   "execution_count": 25,
   "metadata": {},
   "outputs": [
    {
     "data": {
      "text/plain": [
       "hour            0\n",
       "beat            0\n",
       "offense_type    0\n",
       "block_range     0\n",
       "street_name     0\n",
       "premise         0\n",
       "num_offenses    0\n",
       "dtype: int64"
      ]
     },
     "execution_count": 25,
     "metadata": {},
     "output_type": "execute_result"
    }
   ],
   "source": [
    "data.apply(lambda x: sum(x.isnull()))"
   ]
  },
  {
   "cell_type": "markdown",
   "metadata": {},
   "source": [
    "## Inspect cols"
   ]
  },
  {
   "cell_type": "code",
   "execution_count": 26,
   "metadata": {},
   "outputs": [
    {
     "data": {
      "text/plain": [
       "Index(['hour', 'beat', 'offense_type', 'block_range', 'street_name', 'premise',\n",
       "       'num_offenses'],\n",
       "      dtype='object')"
      ]
     },
     "execution_count": 26,
     "metadata": {},
     "output_type": "execute_result"
    }
   ],
   "source": [
    "data.columns"
   ]
  },
  {
   "cell_type": "code",
   "execution_count": 27,
   "metadata": {},
   "outputs": [
    {
     "data": {
      "text/plain": [
       "array([19, 16, 13,  0,  6, 15, 12, 20, 22, 14, 18,  8,  2,  7, 11, 21, 10,\n",
       "        1, 17, 23,  4,  3,  9,  5, 24])"
      ]
     },
     "execution_count": 27,
     "metadata": {},
     "output_type": "execute_result"
    }
   ],
   "source": [
    "data.hour.unique()"
   ]
  },
  {
   "cell_type": "code",
   "execution_count": 28,
   "metadata": {},
   "outputs": [
    {
     "data": {
      "text/plain": [
       "array(['10H70', '10H40', '10H50', '1A10', '10H60', '10H80', '15E40',\n",
       "       '10H30', '10H10'], dtype=object)"
      ]
     },
     "execution_count": 28,
     "metadata": {},
     "output_type": "execute_result"
    }
   ],
   "source": [
    "data.beat.unique()"
   ]
  },
  {
   "cell_type": "code",
   "execution_count": 29,
   "metadata": {},
   "outputs": [
    {
     "data": {
      "text/plain": [
       "array(['Aggravated Assault', 'Theft', 'Rape', 'Burglary', 'Robbery',\n",
       "       'Auto Theft', 'Murder'], dtype=object)"
      ]
     },
     "execution_count": 29,
     "metadata": {},
     "output_type": "execute_result"
    }
   ],
   "source": [
    "data.offense_type.unique()"
   ]
  },
  {
   "cell_type": "code",
   "execution_count": 32,
   "metadata": {},
   "outputs": [
    {
     "data": {
      "text/plain": [
       "array([ 1,  2,  3, 16,  6,  4,  5,  8,  7, 13])"
      ]
     },
     "execution_count": 32,
     "metadata": {},
     "output_type": "execute_result"
    }
   ],
   "source": [
    "data.num_offenses.unique()"
   ]
  },
  {
   "cell_type": "code",
   "execution_count": 33,
   "metadata": {},
   "outputs": [
    {
     "name": "stdout",
     "output_type": "stream",
     "text": [
      "<class 'pandas.core.frame.DataFrame'>\n",
      "DatetimeIndex: 85578 entries, 1916-05-23 to 2021-01-03\n",
      "Data columns (total 7 columns):\n",
      "hour            85578 non-null int64\n",
      "beat            85578 non-null object\n",
      "offense_type    85578 non-null object\n",
      "block_range     85578 non-null object\n",
      "street_name     85578 non-null object\n",
      "premise         85578 non-null object\n",
      "num_offenses    85578 non-null int64\n",
      "dtypes: int64(2), object(5)\n",
      "memory usage: 5.2+ MB\n"
     ]
    }
   ],
   "source": [
    "data.info()"
   ]
  },
  {
   "cell_type": "markdown",
   "metadata": {},
   "source": [
    "## save"
   ]
  },
  {
   "cell_type": "code",
   "execution_count": 34,
   "metadata": {},
   "outputs": [],
   "source": [
    "data.to_csv(data_directory_saves+'crime_beats.csv')"
   ]
  },
  {
   "cell_type": "code",
   "execution_count": null,
   "metadata": {},
   "outputs": [],
   "source": []
  },
  {
   "cell_type": "code",
   "execution_count": null,
   "metadata": {},
   "outputs": [],
   "source": []
  },
  {
   "cell_type": "code",
   "execution_count": null,
   "metadata": {},
   "outputs": [],
   "source": []
  },
  {
   "cell_type": "code",
   "execution_count": null,
   "metadata": {},
   "outputs": [],
   "source": []
  },
  {
   "cell_type": "code",
   "execution_count": null,
   "metadata": {},
   "outputs": [],
   "source": []
  },
  {
   "cell_type": "code",
   "execution_count": null,
   "metadata": {},
   "outputs": [],
   "source": []
  },
  {
   "cell_type": "code",
   "execution_count": null,
   "metadata": {},
   "outputs": [],
   "source": []
  },
  {
   "cell_type": "markdown",
   "metadata": {},
   "source": [
    "## inspect premise"
   ]
  },
  {
   "cell_type": "code",
   "execution_count": 31,
   "metadata": {},
   "outputs": [
    {
     "data": {
      "text/plain": [
       "335"
      ]
     },
     "execution_count": 31,
     "metadata": {},
     "output_type": "execute_result"
    }
   ],
   "source": [
    "len(data.premise.unique())"
   ]
  },
  {
   "cell_type": "code",
   "execution_count": 32,
   "metadata": {},
   "outputs": [
    {
     "data": {
      "text/plain": [
       "Road, Street, or Sidewalk        7325\n",
       "ROAD/STREET/SIDEWALK             7063\n",
       "APARTMENT                        3982\n",
       "APARTMENT PARKING LOT            3681\n",
       "RESIDENCE/HOUSE                  3605\n",
       "UNK                              3598\n",
       "Residence or House               3229\n",
       "OTHER PARKING LOT                3101\n",
       "COMMERCIAL PARKING LOT/GARAGE    2541\n",
       "Apartment Parking Lot            2492\n",
       "Name: premise, dtype: int64"
      ]
     },
     "execution_count": 32,
     "metadata": {},
     "output_type": "execute_result"
    }
   ],
   "source": [
    "data.premise.value_counts(dropna=False)[:10]"
   ]
  },
  {
   "cell_type": "markdown",
   "metadata": {},
   "source": [
    "## lowercase all values"
   ]
  },
  {
   "cell_type": "code",
   "execution_count": 33,
   "metadata": {},
   "outputs": [],
   "source": [
    "data.premise = data.premise.str.lower()"
   ]
  },
  {
   "cell_type": "code",
   "execution_count": 34,
   "metadata": {},
   "outputs": [
    {
     "data": {
      "text/plain": [
       "278"
      ]
     },
     "execution_count": 34,
     "metadata": {},
     "output_type": "execute_result"
    }
   ],
   "source": [
    "len(data.premise.unique())"
   ]
  },
  {
   "cell_type": "code",
   "execution_count": 35,
   "metadata": {},
   "outputs": [
    {
     "data": {
      "text/plain": [
       "road, street, or sidewalk        7325\n",
       "road/street/sidewalk             7063\n",
       "apartment parking lot            6173\n",
       "apartment                        6159\n",
       "other parking lot                4891\n",
       "residence/house                  3605\n",
       "unk                              3598\n",
       "residence or house               3229\n",
       "commercial parking lot/garage    2541\n",
       "hospital                         2162\n",
       "Name: premise, dtype: int64"
      ]
     },
     "execution_count": 35,
     "metadata": {},
     "output_type": "execute_result"
    }
   ],
   "source": [
    "data.premise.value_counts(dropna=False)[:10]"
   ]
  },
  {
   "cell_type": "code",
   "execution_count": 36,
   "metadata": {},
   "outputs": [
    {
     "data": {
      "text/plain": [
       "vacant jail or prison                                                                                                                                     1\n",
       "vacant school or college/university                                                                                                                       1\n",
       "car wash                                                                                                                                                  1\n",
       "marine veh. sales,boats,sailboats                                                                                                                         1\n",
       "vacant industrial or manufacturing blding                                                                                                                 1\n",
       "mall parking lot                                                                                                                                          1\n",
       "university or college                                                                                                                                     1\n",
       "vacant other residential (apartment,dorms)                                                                                                                1\n",
       "warehouse                                                                                                                                                 1\n",
       "adult book store/newsstand                                                                                                                                1\n",
       "Name: premise, dtype: int64"
      ]
     },
     "execution_count": 36,
     "metadata": {},
     "output_type": "execute_result"
    }
   ],
   "source": [
    "data.premise.value_counts(dropna=False)[-10:]"
   ]
  },
  {
   "cell_type": "markdown",
   "metadata": {},
   "source": [
    "## combine similar"
   ]
  },
  {
   "cell_type": "code",
   "execution_count": 37,
   "metadata": {},
   "outputs": [],
   "source": [
    "pat1 = r\"^road(.*)\""
   ]
  },
  {
   "cell_type": "code",
   "execution_count": 38,
   "metadata": {},
   "outputs": [],
   "source": [
    "road = data.premise.str.contains(pat1,regex=True)"
   ]
  },
  {
   "cell_type": "code",
   "execution_count": 39,
   "metadata": {},
   "outputs": [
    {
     "data": {
      "text/plain": [
       "road, street, or sidewalk                                                                                                                                 7325\n",
       "road/street/sidewalk                                                                                                                                      7063\n",
       "road, street, or sidewalk                                                                                                                                  220\n",
       "Name: premise, dtype: int64"
      ]
     },
     "execution_count": 39,
     "metadata": {},
     "output_type": "execute_result"
    }
   ],
   "source": [
    "data[road].premise.value_counts()"
   ]
  },
  {
   "cell_type": "code",
   "execution_count": 40,
   "metadata": {},
   "outputs": [],
   "source": [
    "data.premise = data.premise.str.replace(pat1,'road_street_sidewalk',regex=True)"
   ]
  },
  {
   "cell_type": "code",
   "execution_count": 41,
   "metadata": {},
   "outputs": [
    {
     "data": {
      "text/plain": [
       "road_street_sidewalk             14608\n",
       "apartment parking lot             6173\n",
       "apartment                         6159\n",
       "other parking lot                 4891\n",
       "residence/house                   3605\n",
       "unk                               3598\n",
       "residence or house                3229\n",
       "commercial parking lot/garage     2541\n",
       "hospital                          2162\n",
       "other/unknown                     1967\n",
       "Name: premise, dtype: int64"
      ]
     },
     "execution_count": 41,
     "metadata": {},
     "output_type": "execute_result"
    }
   ],
   "source": [
    "data.premise.value_counts(dropna=False)[:10]"
   ]
  },
  {
   "cell_type": "code",
   "execution_count": 42,
   "metadata": {},
   "outputs": [],
   "source": [
    "pat2 = r'^apartment\\s\\bparking(.*)'  # apartment-space-parking\n",
    "#pat2 = r'^apartment\\s'"
   ]
  },
  {
   "cell_type": "code",
   "execution_count": 43,
   "metadata": {},
   "outputs": [],
   "source": [
    "apt = data.premise.str.contains(pat2,regex=True)"
   ]
  },
  {
   "cell_type": "code",
   "execution_count": 44,
   "metadata": {},
   "outputs": [
    {
     "data": {
      "text/plain": [
       "apartment parking lot                                                                                                                                     6173\n",
       "apartment parking lot                                                                                                                                       75\n",
       "Name: premise, dtype: int64"
      ]
     },
     "execution_count": 44,
     "metadata": {},
     "output_type": "execute_result"
    }
   ],
   "source": [
    "data[apt].premise.value_counts()"
   ]
  },
  {
   "cell_type": "code",
   "execution_count": 45,
   "metadata": {},
   "outputs": [],
   "source": [
    "data.premise = data.premise.str.replace(pat2,'apartment_parking',regex=True)"
   ]
  },
  {
   "cell_type": "code",
   "execution_count": 46,
   "metadata": {},
   "outputs": [
    {
     "data": {
      "text/plain": [
       "road_street_sidewalk             14608\n",
       "apartment_parking                 6248\n",
       "apartment                         6159\n",
       "other parking lot                 4891\n",
       "residence/house                   3605\n",
       "unk                               3598\n",
       "residence or house                3229\n",
       "commercial parking lot/garage     2541\n",
       "hospital                          2162\n",
       "other/unknown                     1967\n",
       "Name: premise, dtype: int64"
      ]
     },
     "execution_count": 46,
     "metadata": {},
     "output_type": "execute_result"
    }
   ],
   "source": [
    "data.premise.value_counts(dropna=False)[:10]"
   ]
  },
  {
   "cell_type": "markdown",
   "metadata": {},
   "source": [
    "## find house"
   ]
  },
  {
   "cell_type": "code",
   "execution_count": 47,
   "metadata": {},
   "outputs": [],
   "source": [
    "pat3 = r'\\bresidence(.*)'  #"
   ]
  },
  {
   "cell_type": "code",
   "execution_count": 48,
   "metadata": {},
   "outputs": [],
   "source": [
    "house  = data.premise.str.contains(pat3,regex=True)"
   ]
  },
  {
   "cell_type": "code",
   "execution_count": 49,
   "metadata": {},
   "outputs": [
    {
     "data": {
      "text/plain": [
       "residence/house                                                                                                                                           3605\n",
       "residence or house                                                                                                                                        3229\n",
       "vacant single occupancy residence (houses,townhouses,duplexes, etc.)                                                                                       187\n",
       "residence or house                                                                                                                                          73\n",
       "Name: premise, dtype: int64"
      ]
     },
     "execution_count": 49,
     "metadata": {},
     "output_type": "execute_result"
    }
   ],
   "source": [
    "data[house].premise.value_counts()"
   ]
  },
  {
   "cell_type": "code",
   "execution_count": 50,
   "metadata": {},
   "outputs": [],
   "source": [
    "data.premise = data.premise.str.replace(pat3,'house',regex=True)"
   ]
  },
  {
   "cell_type": "code",
   "execution_count": 51,
   "metadata": {},
   "outputs": [
    {
     "data": {
      "text/plain": [
       "road_street_sidewalk             14608\n",
       "house                             6907\n",
       "apartment_parking                 6248\n",
       "apartment                         6159\n",
       "other parking lot                 4891\n",
       "unk                               3598\n",
       "commercial parking lot/garage     2541\n",
       "hospital                          2162\n",
       "other/unknown                     1967\n",
       "driveway                          1857\n",
       "Name: premise, dtype: int64"
      ]
     },
     "execution_count": 51,
     "metadata": {},
     "output_type": "execute_result"
    }
   ],
   "source": [
    "data.premise.value_counts(dropna=False)[:10]"
   ]
  },
  {
   "cell_type": "markdown",
   "metadata": {},
   "source": [
    "## find parking"
   ]
  },
  {
   "cell_type": "code",
   "execution_count": 55,
   "metadata": {},
   "outputs": [],
   "source": [
    "pat4 = r\"commercial\\s\\bparking\\s+(.*)\""
   ]
  },
  {
   "cell_type": "code",
   "execution_count": 56,
   "metadata": {},
   "outputs": [],
   "source": [
    "pk  = data.premise.str.contains(pat4,regex=True)"
   ]
  },
  {
   "cell_type": "code",
   "execution_count": 57,
   "metadata": {},
   "outputs": [
    {
     "data": {
      "text/plain": [
       "commercial parking lot/garage                                                                                                                             2541\n",
       "commercial parking lot or garage                                                                                                                          1794\n",
       "commercial parking lot or garage                                                                                                                            86\n",
       "Name: premise, dtype: int64"
      ]
     },
     "execution_count": 57,
     "metadata": {},
     "output_type": "execute_result"
    }
   ],
   "source": [
    "data[pk].premise.value_counts()"
   ]
  },
  {
   "cell_type": "code",
   "execution_count": 58,
   "metadata": {},
   "outputs": [],
   "source": [
    "data.premise = data.premise.str.replace(pat4,'commercial_parking_garage',regex=True)"
   ]
  },
  {
   "cell_type": "code",
   "execution_count": 98,
   "metadata": {},
   "outputs": [
    {
     "data": {
      "text/plain": [
       "road_street_sidewalk                   14608\n",
       "house                                   6907\n",
       "apartment_parking                       6248\n",
       "apartment                               6159\n",
       "other parking lot                       4891\n",
       "commercial_parking_garage               4421\n",
       "unk                                     3598\n",
       "hospital                                2162\n",
       "other/unknown                           1967\n",
       "driveway                                1857\n",
       "restaurant/cafeteria parking lot        1077\n",
       "restaurant or cafeteria parking lot     1060\n",
       "bar/night club                          1036\n",
       "department/discount store               1027\n",
       "grocery/supermarket                      954\n",
       "convenience store                        911\n",
       "office building                          827\n",
       "commercial building                      789\n",
       "restaurant/cafeteria                     781\n",
       "other, unknown, or not listed            778\n",
       "Name: premise, dtype: int64"
      ]
     },
     "execution_count": 98,
     "metadata": {},
     "output_type": "execute_result"
    }
   ],
   "source": [
    "data.premise.value_counts(dropna=False)[:20]"
   ]
  },
  {
   "cell_type": "code",
   "execution_count": 61,
   "metadata": {},
   "outputs": [
    {
     "data": {
      "text/plain": [
       "271"
      ]
     },
     "execution_count": 61,
     "metadata": {},
     "output_type": "execute_result"
    }
   ],
   "source": [
    "len(data.premise.value_counts(dropna=False))"
   ]
  },
  {
   "cell_type": "markdown",
   "metadata": {},
   "source": [
    "## restaurant"
   ]
  },
  {
   "cell_type": "code",
   "execution_count": 138,
   "metadata": {},
   "outputs": [],
   "source": [
    "pat5 = r\"^(?=.*\\brestaurant\\b)(?=.*\\bparking\\b).*$\""
   ]
  },
  {
   "cell_type": "code",
   "execution_count": 139,
   "metadata": {},
   "outputs": [],
   "source": [
    "rest  = data.premise.str.contains(pat5,regex=True)"
   ]
  },
  {
   "cell_type": "code",
   "execution_count": 140,
   "metadata": {},
   "outputs": [
    {
     "data": {
      "text/plain": [
       "restaurant/cafeteria parking lot                                                                                                                          1077\n",
       "restaurant or cafeteria parking lot                                                                                                                       1060\n",
       "restaurant or cafeteria parking lot                                                                                                                         21\n",
       "Name: premise, dtype: int64"
      ]
     },
     "execution_count": 140,
     "metadata": {},
     "output_type": "execute_result"
    }
   ],
   "source": [
    "data[rest].premise.value_counts()"
   ]
  },
  {
   "cell_type": "code",
   "execution_count": 141,
   "metadata": {},
   "outputs": [],
   "source": [
    "data.premise = data.premise.str.replace(pat5,'restaurant_parking_lot',regex=True)"
   ]
  },
  {
   "cell_type": "code",
   "execution_count": 142,
   "metadata": {},
   "outputs": [
    {
     "data": {
      "text/plain": [
       "road_street_sidewalk             14608\n",
       "house                             6907\n",
       "apartment_parking                 6248\n",
       "apartment                         6159\n",
       "other parking lot                 4891\n",
       "commercial_parking_garage         4421\n",
       "unk                               3598\n",
       "hospital                          2162\n",
       "restaurant_parking_lot            2158\n",
       "other/unknown                     1967\n",
       "driveway                          1857\n",
       "bar/night club                    1036\n",
       "department/discount store         1027\n",
       "grocery/supermarket                954\n",
       "convenience store                  911\n",
       "office building                    827\n",
       "commercial building                789\n",
       "restaurant/cafeteria               781\n",
       "other, unknown, or not listed      778\n",
       "service or gas station             763\n",
       "Name: premise, dtype: int64"
      ]
     },
     "execution_count": 142,
     "metadata": {},
     "output_type": "execute_result"
    }
   ],
   "source": [
    "data.premise.value_counts(dropna=False)[:20]"
   ]
  },
  {
   "cell_type": "code",
   "execution_count": null,
   "metadata": {},
   "outputs": [],
   "source": []
  },
  {
   "cell_type": "code",
   "execution_count": 150,
   "metadata": {},
   "outputs": [],
   "source": [
    "pat6 = r\"^(?=.*\\bbar\\b)(?=.*\\bnight\\b)(?=.*\\bparking\\b).*$\""
   ]
  },
  {
   "cell_type": "code",
   "execution_count": 151,
   "metadata": {},
   "outputs": [],
   "source": [
    "bar  = data.premise.str.contains(pat6,regex=True)"
   ]
  },
  {
   "cell_type": "code",
   "execution_count": 154,
   "metadata": {},
   "outputs": [
    {
     "data": {
      "text/plain": [
       "bar_club_parking_lot    1262\n",
       "Name: premise, dtype: int64"
      ]
     },
     "execution_count": 154,
     "metadata": {},
     "output_type": "execute_result"
    }
   ],
   "source": [
    "data[bar].premise.value_counts()"
   ]
  },
  {
   "cell_type": "code",
   "execution_count": 153,
   "metadata": {},
   "outputs": [],
   "source": [
    "data.premise = data.premise.str.replace(pat6,'bar_club_parking_lot',regex=True)"
   ]
  },
  {
   "cell_type": "code",
   "execution_count": 155,
   "metadata": {},
   "outputs": [
    {
     "data": {
      "text/plain": [
       "road_street_sidewalk             14608\n",
       "house                             6907\n",
       "apartment_parking                 6248\n",
       "apartment                         6159\n",
       "other parking lot                 4891\n",
       "commercial_parking_garage         4421\n",
       "unk                               3598\n",
       "hospital                          2162\n",
       "restaurant_parking_lot            2158\n",
       "other/unknown                     1967\n",
       "driveway                          1857\n",
       "bar_club_parking_lot              1262\n",
       "bar/night club                    1036\n",
       "department/discount store         1027\n",
       "grocery/supermarket                954\n",
       "convenience store                  911\n",
       "office building                    827\n",
       "commercial building                789\n",
       "restaurant/cafeteria               781\n",
       "other, unknown, or not listed      778\n",
       "Name: premise, dtype: int64"
      ]
     },
     "execution_count": 155,
     "metadata": {},
     "output_type": "execute_result"
    }
   ],
   "source": [
    "data.premise.value_counts(dropna=False)[:20]"
   ]
  },
  {
   "cell_type": "code",
   "execution_count": null,
   "metadata": {},
   "outputs": [],
   "source": []
  },
  {
   "cell_type": "code",
   "execution_count": 156,
   "metadata": {},
   "outputs": [],
   "source": [
    "pat7 = r\"^(?=.*\\bbar\\b)(?=.*\\bnight\\b)(?=.*\\bclub\\b).*$\""
   ]
  },
  {
   "cell_type": "code",
   "execution_count": 157,
   "metadata": {},
   "outputs": [],
   "source": [
    "bar2  = data.premise.str.contains(pat7,regex=True)"
   ]
  },
  {
   "cell_type": "code",
   "execution_count": 158,
   "metadata": {},
   "outputs": [
    {
     "data": {
      "text/plain": [
       "bar/night club                                                                                                                                            1036\n",
       "bar or night club                                                                                                                                          707\n",
       "bar or night club                                                                                                                                           18\n",
       "Name: premise, dtype: int64"
      ]
     },
     "execution_count": 158,
     "metadata": {},
     "output_type": "execute_result"
    }
   ],
   "source": [
    "data[bar2].premise.value_counts()"
   ]
  },
  {
   "cell_type": "code",
   "execution_count": 159,
   "metadata": {},
   "outputs": [],
   "source": [
    "data.premise = data.premise.str.replace(pat7,'bar_club',regex=True)"
   ]
  },
  {
   "cell_type": "code",
   "execution_count": 160,
   "metadata": {},
   "outputs": [
    {
     "data": {
      "text/plain": [
       "road_street_sidewalk             14608\n",
       "house                             6907\n",
       "apartment_parking                 6248\n",
       "apartment                         6159\n",
       "other parking lot                 4891\n",
       "commercial_parking_garage         4421\n",
       "unk                               3598\n",
       "hospital                          2162\n",
       "restaurant_parking_lot            2158\n",
       "other/unknown                     1967\n",
       "driveway                          1857\n",
       "bar_club                          1761\n",
       "bar_club_parking_lot              1262\n",
       "department/discount store         1027\n",
       "grocery/supermarket                954\n",
       "convenience store                  911\n",
       "office building                    827\n",
       "commercial building                789\n",
       "restaurant/cafeteria               781\n",
       "other, unknown, or not listed      778\n",
       "Name: premise, dtype: int64"
      ]
     },
     "execution_count": 160,
     "metadata": {},
     "output_type": "execute_result"
    }
   ],
   "source": [
    "data.premise.value_counts(dropna=False)[:20]"
   ]
  },
  {
   "cell_type": "code",
   "execution_count": null,
   "metadata": {},
   "outputs": [],
   "source": []
  },
  {
   "cell_type": "code",
   "execution_count": null,
   "metadata": {},
   "outputs": [],
   "source": []
  },
  {
   "cell_type": "code",
   "execution_count": 164,
   "metadata": {},
   "outputs": [],
   "source": [
    "pat8 = r\"^(?=.*\\bgrocery\\b)(?=.*\\bparking\\b).*$\""
   ]
  },
  {
   "cell_type": "code",
   "execution_count": 165,
   "metadata": {},
   "outputs": [],
   "source": [
    "store  = data.premise.str.contains(pat8,regex=True)"
   ]
  },
  {
   "cell_type": "code",
   "execution_count": 166,
   "metadata": {},
   "outputs": [
    {
     "data": {
      "text/plain": [
       "grocery/supermarket parking lot                                                                                                                           226\n",
       "grocery store or supermarket parking lot                                                                                                                  208\n",
       "grocery store or supermarket parking lot                                                                                                                    4\n",
       "Name: premise, dtype: int64"
      ]
     },
     "execution_count": 166,
     "metadata": {},
     "output_type": "execute_result"
    }
   ],
   "source": [
    "data[store].premise.value_counts()"
   ]
  },
  {
   "cell_type": "code",
   "execution_count": 167,
   "metadata": {},
   "outputs": [],
   "source": [
    "data.premise = data.premise.str.replace(pat8,'supermarket_parking',regex=True)"
   ]
  },
  {
   "cell_type": "code",
   "execution_count": 168,
   "metadata": {},
   "outputs": [
    {
     "data": {
      "text/plain": [
       "road_street_sidewalk             14608\n",
       "house                             6907\n",
       "apartment_parking                 6248\n",
       "apartment                         6159\n",
       "other parking lot                 4891\n",
       "commercial_parking_garage         4421\n",
       "unk                               3598\n",
       "hospital                          2162\n",
       "restaurant_parking_lot            2158\n",
       "other/unknown                     1967\n",
       "driveway                          1857\n",
       "bar_club                          1761\n",
       "bar_club_parking_lot              1262\n",
       "department/discount store         1027\n",
       "grocery/supermarket                954\n",
       "convenience store                  911\n",
       "office building                    827\n",
       "commercial building                789\n",
       "restaurant/cafeteria               781\n",
       "other, unknown, or not listed      778\n",
       "Name: premise, dtype: int64"
      ]
     },
     "execution_count": 168,
     "metadata": {},
     "output_type": "execute_result"
    }
   ],
   "source": [
    "data.premise.value_counts(dropna=False)[:20]"
   ]
  },
  {
   "cell_type": "code",
   "execution_count": null,
   "metadata": {},
   "outputs": [],
   "source": []
  },
  {
   "cell_type": "code",
   "execution_count": 169,
   "metadata": {},
   "outputs": [],
   "source": [
    "pat9 = r\"^(?=.*\\bgrocery\\b)(?=.*\\bsupermarket\\b).*$\""
   ]
  },
  {
   "cell_type": "code",
   "execution_count": 170,
   "metadata": {},
   "outputs": [],
   "source": [
    "store2  = data.premise.str.contains(pat9,regex=True)"
   ]
  },
  {
   "cell_type": "code",
   "execution_count": 171,
   "metadata": {},
   "outputs": [
    {
     "data": {
      "text/plain": [
       "grocery/supermarket                                                                                                                                       954\n",
       "grocery store or supermarket                                                                                                                              515\n",
       "vacant grocery store or supermarket                                                                                                                        10\n",
       "grocery store or supermarket                                                                                                                                6\n",
       "vacant grocery/supermarket                                                                                                                                  1\n",
       "Name: premise, dtype: int64"
      ]
     },
     "execution_count": 171,
     "metadata": {},
     "output_type": "execute_result"
    }
   ],
   "source": [
    "data[store2].premise.value_counts()"
   ]
  },
  {
   "cell_type": "code",
   "execution_count": 172,
   "metadata": {},
   "outputs": [],
   "source": [
    "data.premise = data.premise.str.replace(pat9,'supermarket',regex=True)"
   ]
  },
  {
   "cell_type": "code",
   "execution_count": 173,
   "metadata": {},
   "outputs": [
    {
     "data": {
      "text/plain": [
       "road_street_sidewalk             14608\n",
       "house                             6907\n",
       "apartment_parking                 6248\n",
       "apartment                         6159\n",
       "other parking lot                 4891\n",
       "commercial_parking_garage         4421\n",
       "unk                               3598\n",
       "hospital                          2162\n",
       "restaurant_parking_lot            2158\n",
       "other/unknown                     1967\n",
       "driveway                          1857\n",
       "bar_club                          1761\n",
       "supermarket                       1486\n",
       "bar_club_parking_lot              1262\n",
       "department/discount store         1027\n",
       "convenience store                  911\n",
       "office building                    827\n",
       "commercial building                789\n",
       "restaurant/cafeteria               781\n",
       "other, unknown, or not listed      778\n",
       "Name: premise, dtype: int64"
      ]
     },
     "execution_count": 173,
     "metadata": {},
     "output_type": "execute_result"
    }
   ],
   "source": [
    "data.premise.value_counts(dropna=False)[:20]"
   ]
  },
  {
   "cell_type": "code",
   "execution_count": 174,
   "metadata": {},
   "outputs": [],
   "source": [
    "pat10 = r\"^(?=.*\\bdepartment\\b)(?=.*\\bdiscount\\b).*$\""
   ]
  },
  {
   "cell_type": "code",
   "execution_count": 175,
   "metadata": {},
   "outputs": [],
   "source": [
    "store3  = data.premise.str.contains(pat10,regex=True)"
   ]
  },
  {
   "cell_type": "code",
   "execution_count": 177,
   "metadata": {},
   "outputs": [
    {
     "data": {
      "text/plain": [
       "department/discount store                                                                                                                                 1027\n",
       "department or discount store                                                                                                                               336\n",
       "department or discount store                                                                                                                                10\n",
       "Name: premise, dtype: int64"
      ]
     },
     "execution_count": 177,
     "metadata": {},
     "output_type": "execute_result"
    }
   ],
   "source": [
    "data[store3].premise.value_counts()"
   ]
  },
  {
   "cell_type": "code",
   "execution_count": 178,
   "metadata": {},
   "outputs": [],
   "source": [
    "data.premise = data.premise.str.replace(pat10,'department_store',regex=True)"
   ]
  },
  {
   "cell_type": "code",
   "execution_count": 184,
   "metadata": {},
   "outputs": [
    {
     "data": {
      "text/plain": [
       "service or gas station                      763\n",
       "hotel/motel parking lot                     682\n",
       "miscellaneous business (non-specific)       680\n",
       "strip business center parking lot           632\n",
       "hotel/motel/etc.                            623\n",
       "restaurant or cafeteria                     623\n",
       "convenience store parking lot               568\n",
       "hotel, motel, inn, etc.                     562\n",
       "service/gas station                         556\n",
       "hospital parking lot                        545\n",
       "construction site                           532\n",
       "hotel or motel parking lot                  528\n",
       "parks and recreation, zoo, swimming pool    514\n",
       "parks & recreation, zoo, swim pool          504\n",
       "condominium                                 478\n",
       "garage or carport                           445\n",
       "supermarket_parking                         438\n",
       "bus station                                 427\n",
       "bus stop                                    425\n",
       "multi-plex hme(duplex,triplex etc)          422\n",
       "Name: premise, dtype: int64"
      ]
     },
     "execution_count": 184,
     "metadata": {},
     "output_type": "execute_result"
    }
   ],
   "source": [
    "data.premise.value_counts(dropna=False)[20:40]"
   ]
  },
  {
   "cell_type": "code",
   "execution_count": 180,
   "metadata": {},
   "outputs": [
    {
     "data": {
      "text/plain": [
       "257"
      ]
     },
     "execution_count": 180,
     "metadata": {},
     "output_type": "execute_result"
    }
   ],
   "source": [
    "len(data.premise.value_counts(dropna=False))"
   ]
  },
  {
   "cell_type": "code",
   "execution_count": 188,
   "metadata": {},
   "outputs": [],
   "source": [
    "pat11 = r\"^(?=.*\\bhotel\\b)(?=.*\\bmotel\\b)(?=.*\\bparking\\b).*$\""
   ]
  },
  {
   "cell_type": "code",
   "execution_count": 189,
   "metadata": {},
   "outputs": [],
   "source": [
    "bu  = data.premise.str.contains(pat11,regex=True)"
   ]
  },
  {
   "cell_type": "code",
   "execution_count": 190,
   "metadata": {},
   "outputs": [
    {
     "data": {
      "text/plain": [
       "hotel/motel parking lot                                                                                                                                   682\n",
       "hotel or motel parking lot                                                                                                                                528\n",
       "hotel or motel parking lot                                                                                                                                 25\n",
       "Name: premise, dtype: int64"
      ]
     },
     "execution_count": 190,
     "metadata": {},
     "output_type": "execute_result"
    }
   ],
   "source": [
    "data[bu].premise.value_counts()"
   ]
  },
  {
   "cell_type": "code",
   "execution_count": 191,
   "metadata": {},
   "outputs": [],
   "source": [
    "data.premise = data.premise.str.replace(pat11,'hotel_motel_parking',regex=True)"
   ]
  },
  {
   "cell_type": "code",
   "execution_count": 192,
   "metadata": {},
   "outputs": [
    {
     "data": {
      "text/plain": [
       "other, unknown, or not listed               778\n",
       "service or gas station                      763\n",
       "miscellaneous business (non-specific)       680\n",
       "strip business center parking lot           632\n",
       "hotel/motel/etc.                            623\n",
       "restaurant or cafeteria                     623\n",
       "convenience store parking lot               568\n",
       "hotel, motel, inn, etc.                     562\n",
       "service/gas station                         556\n",
       "hospital parking lot                        545\n",
       "construction site                           532\n",
       "parks and recreation, zoo, swimming pool    514\n",
       "parks & recreation, zoo, swim pool          504\n",
       "condominium                                 478\n",
       "garage or carport                           445\n",
       "supermarket_parking                         438\n",
       "bus station                                 427\n",
       "bus stop                                    425\n",
       "multi-plex hme(duplex,triplex etc)          422\n",
       "specialty store (non-specific)              391\n",
       "Name: premise, dtype: int64"
      ]
     },
     "execution_count": 192,
     "metadata": {},
     "output_type": "execute_result"
    }
   ],
   "source": [
    "data.premise.value_counts(dropna=False)[20:40]"
   ]
  },
  {
   "cell_type": "code",
   "execution_count": 193,
   "metadata": {},
   "outputs": [],
   "source": [
    "pat12 = r\"^(?=.*\\bhotel\\b)(?=.*\\bmotel\\b).*$\""
   ]
  },
  {
   "cell_type": "code",
   "execution_count": 194,
   "metadata": {},
   "outputs": [],
   "source": [
    "bu2  = data.premise.str.contains(pat12,regex=True)"
   ]
  },
  {
   "cell_type": "code",
   "execution_count": 195,
   "metadata": {},
   "outputs": [
    {
     "data": {
      "text/plain": [
       "hotel/motel/etc.                                                                                                                                          623\n",
       "hotel, motel, inn, etc.                                                                                                                                   562\n",
       "hotel, motel, inn, etc.                                                                                                                                    14\n",
       "vacant hotel/motel/etc.                                                                                                                                     6\n",
       "vacant hotel, motel, etc.                                                                                                                                   2\n",
       "Name: premise, dtype: int64"
      ]
     },
     "execution_count": 195,
     "metadata": {},
     "output_type": "execute_result"
    }
   ],
   "source": [
    "data[bu2].premise.value_counts()"
   ]
  },
  {
   "cell_type": "code",
   "execution_count": 196,
   "metadata": {},
   "outputs": [],
   "source": [
    "data.premise = data.premise.str.replace(pat12,'hotel_motel',regex=True)"
   ]
  },
  {
   "cell_type": "code",
   "execution_count": null,
   "metadata": {},
   "outputs": [],
   "source": []
  },
  {
   "cell_type": "code",
   "execution_count": 201,
   "metadata": {},
   "outputs": [
    {
     "data": {
      "text/plain": [
       "road_street_sidewalk                        14608\n",
       "house                                        6907\n",
       "apartment_parking                            6248\n",
       "apartment                                    6159\n",
       "other parking lot                            4891\n",
       "commercial_parking_garage                    4421\n",
       "unk                                          3598\n",
       "hospital                                     2162\n",
       "restaurant_parking_lot                       2158\n",
       "other/unknown                                1967\n",
       "driveway                                     1857\n",
       "bar_club                                     1761\n",
       "supermarket                                  1486\n",
       "department_store                             1373\n",
       "bar_club_parking_lot                         1262\n",
       "hotel_motel_parking                          1235\n",
       "hotel_motel                                  1207\n",
       "convenience store                             911\n",
       "office building                               827\n",
       "commercial building                           789\n",
       "restaurant/cafeteria                          781\n",
       "other, unknown, or not listed                 778\n",
       "service or gas station                        763\n",
       "miscellaneous business (non-specific)         680\n",
       "strip business center parking lot             632\n",
       "restaurant or cafeteria                       623\n",
       "convenience store parking lot                 568\n",
       "service/gas station                           556\n",
       "hospital parking lot                          545\n",
       "construction site                             532\n",
       "parks and recreation, zoo, swimming pool      514\n",
       "parks & recreation, zoo, swim pool            504\n",
       "condominium                                   478\n",
       "garage or carport                             445\n",
       "supermarket_parking                           438\n",
       "bus station                                   427\n",
       "bus stop                                      425\n",
       "multi-plex hme(duplex,triplex etc)            422\n",
       "specialty store (non-specific)                391\n",
       "stadium, sports arena, race track             353\n",
       "Name: premise, dtype: int64"
      ]
     },
     "execution_count": 201,
     "metadata": {},
     "output_type": "execute_result"
    }
   ],
   "source": [
    "data.premise.value_counts(dropna=False)[:40]"
   ]
  },
  {
   "cell_type": "code",
   "execution_count": 198,
   "metadata": {},
   "outputs": [],
   "source": [
    "pat13 = r\"^(?=.*\\brestaurant\\b)(?=.*\\bcafeteria\\b).*$\""
   ]
  },
  {
   "cell_type": "code",
   "execution_count": 199,
   "metadata": {},
   "outputs": [],
   "source": [
    "bu3  = data.premise.str.contains(pat13,regex=True)"
   ]
  },
  {
   "cell_type": "code",
   "execution_count": 200,
   "metadata": {},
   "outputs": [
    {
     "data": {
      "text/plain": [
       "restaurant/cafeteria                                                                                                                                      781\n",
       "restaurant or cafeteria                                                                                                                                   623\n",
       "restaurant or cafeteria                                                                                                                                    13\n",
       "Name: premise, dtype: int64"
      ]
     },
     "execution_count": 200,
     "metadata": {},
     "output_type": "execute_result"
    }
   ],
   "source": [
    "data[bu3].premise.value_counts()"
   ]
  },
  {
   "cell_type": "code",
   "execution_count": 202,
   "metadata": {},
   "outputs": [],
   "source": [
    "data.premise = data.premise.str.replace(pat13,'restaurant',regex=True)"
   ]
  },
  {
   "cell_type": "code",
   "execution_count": 203,
   "metadata": {},
   "outputs": [
    {
     "data": {
      "text/plain": [
       "road_street_sidewalk                        14608\n",
       "house                                        6907\n",
       "apartment_parking                            6248\n",
       "apartment                                    6159\n",
       "other parking lot                            4891\n",
       "commercial_parking_garage                    4421\n",
       "unk                                          3598\n",
       "hospital                                     2162\n",
       "restaurant_parking_lot                       2158\n",
       "other/unknown                                1967\n",
       "driveway                                     1857\n",
       "bar_club                                     1761\n",
       "supermarket                                  1486\n",
       "restaurant                                   1417\n",
       "department_store                             1373\n",
       "bar_club_parking_lot                         1262\n",
       "hotel_motel_parking                          1235\n",
       "hotel_motel                                  1207\n",
       "convenience store                             911\n",
       "office building                               827\n",
       "commercial building                           789\n",
       "other, unknown, or not listed                 778\n",
       "service or gas station                        763\n",
       "miscellaneous business (non-specific)         680\n",
       "strip business center parking lot             632\n",
       "convenience store parking lot                 568\n",
       "service/gas station                           556\n",
       "hospital parking lot                          545\n",
       "construction site                             532\n",
       "parks and recreation, zoo, swimming pool      514\n",
       "parks & recreation, zoo, swim pool            504\n",
       "condominium                                   478\n",
       "garage or carport                             445\n",
       "supermarket_parking                           438\n",
       "bus station                                   427\n",
       "bus stop                                      425\n",
       "multi-plex hme(duplex,triplex etc)            422\n",
       "specialty store (non-specific)                391\n",
       "stadium, sports arena, race track             353\n",
       "misc. business (non-specific)                 349\n",
       "Name: premise, dtype: int64"
      ]
     },
     "execution_count": 203,
     "metadata": {},
     "output_type": "execute_result"
    }
   ],
   "source": [
    "data.premise.value_counts(dropna=False)[:40]"
   ]
  },
  {
   "cell_type": "code",
   "execution_count": 207,
   "metadata": {},
   "outputs": [],
   "source": [
    "pat14 = r\"^(?=.*\\bgas\\b)(?=.*\\bstation\\b).*$\""
   ]
  },
  {
   "cell_type": "code",
   "execution_count": 208,
   "metadata": {},
   "outputs": [],
   "source": [
    "bu4  = data.premise.str.contains(pat14,regex=True)"
   ]
  },
  {
   "cell_type": "code",
   "execution_count": 209,
   "metadata": {},
   "outputs": [
    {
     "data": {
      "text/plain": [
       "service or gas station                                                                                                                                    763\n",
       "service/gas station                                                                                                                                       556\n",
       "service or gas station                                                                                                                                     15\n",
       "Name: premise, dtype: int64"
      ]
     },
     "execution_count": 209,
     "metadata": {},
     "output_type": "execute_result"
    }
   ],
   "source": [
    "data[bu4].premise.value_counts()"
   ]
  },
  {
   "cell_type": "code",
   "execution_count": 210,
   "metadata": {},
   "outputs": [],
   "source": [
    "data.premise = data.premise.str.replace(pat14,'gas_station',regex=True)"
   ]
  },
  {
   "cell_type": "code",
   "execution_count": 211,
   "metadata": {
    "scrolled": true
   },
   "outputs": [
    {
     "data": {
      "text/plain": [
       "road_street_sidewalk                        14608\n",
       "house                                        6907\n",
       "apartment_parking                            6248\n",
       "apartment                                    6159\n",
       "other parking lot                            4891\n",
       "commercial_parking_garage                    4421\n",
       "unk                                          3598\n",
       "hospital                                     2162\n",
       "restaurant_parking_lot                       2158\n",
       "other/unknown                                1967\n",
       "driveway                                     1857\n",
       "bar_club                                     1761\n",
       "supermarket                                  1486\n",
       "restaurant                                   1417\n",
       "department_store                             1373\n",
       "gas_station                                  1334\n",
       "bar_club_parking_lot                         1262\n",
       "hotel_motel_parking                          1235\n",
       "hotel_motel                                  1207\n",
       "convenience store                             911\n",
       "office building                               827\n",
       "commercial building                           789\n",
       "other, unknown, or not listed                 778\n",
       "miscellaneous business (non-specific)         680\n",
       "strip business center parking lot             632\n",
       "convenience store parking lot                 568\n",
       "hospital parking lot                          545\n",
       "construction site                             532\n",
       "parks and recreation, zoo, swimming pool      514\n",
       "parks & recreation, zoo, swim pool            504\n",
       "condominium                                   478\n",
       "garage or carport                             445\n",
       "supermarket_parking                           438\n",
       "bus station                                   427\n",
       "bus stop                                      425\n",
       "multi-plex hme(duplex,triplex etc)            422\n",
       "specialty store (non-specific)                391\n",
       "stadium, sports arena, race track             353\n",
       "misc. business (non-specific)                 349\n",
       "stadium/sprts arena/race track                328\n",
       "Name: premise, dtype: int64"
      ]
     },
     "execution_count": 211,
     "metadata": {},
     "output_type": "execute_result"
    }
   ],
   "source": [
    "data.premise.value_counts(dropna=False)[:40]"
   ]
  },
  {
   "cell_type": "code",
   "execution_count": 214,
   "metadata": {},
   "outputs": [],
   "source": [
    "pat15 = r\"^(?=.*\\bhospital\\b)(?=.*\\bparking\\b).*$\""
   ]
  },
  {
   "cell_type": "code",
   "execution_count": 215,
   "metadata": {},
   "outputs": [],
   "source": [
    "bu5  = data.premise.str.contains(pat15,regex=True)"
   ]
  },
  {
   "cell_type": "code",
   "execution_count": 216,
   "metadata": {},
   "outputs": [
    {
     "data": {
      "text/plain": [
       "hospital parking lot                                                                                                                                      545\n",
       "hospital parking lot                                                                                                                                        7\n",
       "Name: premise, dtype: int64"
      ]
     },
     "execution_count": 216,
     "metadata": {},
     "output_type": "execute_result"
    }
   ],
   "source": [
    "data[bu5].premise.value_counts()"
   ]
  },
  {
   "cell_type": "code",
   "execution_count": 217,
   "metadata": {},
   "outputs": [],
   "source": [
    "data.premise = data.premise.str.replace(pat15,'hospital_parking',regex=True)"
   ]
  },
  {
   "cell_type": "code",
   "execution_count": 218,
   "metadata": {},
   "outputs": [
    {
     "data": {
      "text/plain": [
       "road_street_sidewalk                        14608\n",
       "house                                        6907\n",
       "apartment_parking                            6248\n",
       "apartment                                    6159\n",
       "other parking lot                            4891\n",
       "commercial_parking_garage                    4421\n",
       "unk                                          3598\n",
       "hospital                                     2162\n",
       "restaurant_parking_lot                       2158\n",
       "other/unknown                                1967\n",
       "driveway                                     1857\n",
       "bar_club                                     1761\n",
       "supermarket                                  1486\n",
       "restaurant                                   1417\n",
       "department_store                             1373\n",
       "gas_station                                  1334\n",
       "bar_club_parking_lot                         1262\n",
       "hotel_motel_parking                          1235\n",
       "hotel_motel                                  1207\n",
       "convenience store                             911\n",
       "office building                               827\n",
       "commercial building                           789\n",
       "other, unknown, or not listed                 778\n",
       "miscellaneous business (non-specific)         680\n",
       "strip business center parking lot             632\n",
       "convenience store parking lot                 568\n",
       "hospital_parking                              552\n",
       "construction site                             532\n",
       "parks and recreation, zoo, swimming pool      514\n",
       "parks & recreation, zoo, swim pool            504\n",
       "condominium                                   478\n",
       "garage or carport                             445\n",
       "supermarket_parking                           438\n",
       "bus station                                   427\n",
       "bus stop                                      425\n",
       "multi-plex hme(duplex,triplex etc)            422\n",
       "specialty store (non-specific)                391\n",
       "stadium, sports arena, race track             353\n",
       "misc. business (non-specific)                 349\n",
       "stadium/sprts arena/race track                328\n",
       "Name: premise, dtype: int64"
      ]
     },
     "execution_count": 218,
     "metadata": {},
     "output_type": "execute_result"
    }
   ],
   "source": [
    "data.premise.value_counts(dropna=False)[:40]"
   ]
  },
  {
   "cell_type": "code",
   "execution_count": null,
   "metadata": {},
   "outputs": [],
   "source": []
  },
  {
   "cell_type": "code",
   "execution_count": 222,
   "metadata": {},
   "outputs": [],
   "source": [
    "pat16 = r\"^(?=.*\\bconvenience\\b)(?=.*\\bparking\\b)(?=.*\\bstore\\b).*$\""
   ]
  },
  {
   "cell_type": "code",
   "execution_count": 223,
   "metadata": {},
   "outputs": [],
   "source": [
    "bu6  = data.premise.str.contains(pat16,regex=True)"
   ]
  },
  {
   "cell_type": "code",
   "execution_count": 224,
   "metadata": {},
   "outputs": [
    {
     "data": {
      "text/plain": [
       "convenience store parking lot                                                                                                                             568\n",
       "convenience store parking lot                                                                                                                               3\n",
       "Name: premise, dtype: int64"
      ]
     },
     "execution_count": 224,
     "metadata": {},
     "output_type": "execute_result"
    }
   ],
   "source": [
    "data[bu6].premise.value_counts()"
   ]
  },
  {
   "cell_type": "code",
   "execution_count": 225,
   "metadata": {},
   "outputs": [],
   "source": [
    "data.premise = data.premise.str.replace(pat16,'convenience_store_parking',regex=True)"
   ]
  },
  {
   "cell_type": "code",
   "execution_count": 226,
   "metadata": {},
   "outputs": [
    {
     "data": {
      "text/plain": [
       "road_street_sidewalk                        14608\n",
       "house                                        6907\n",
       "apartment_parking                            6248\n",
       "apartment                                    6159\n",
       "other parking lot                            4891\n",
       "commercial_parking_garage                    4421\n",
       "unk                                          3598\n",
       "hospital                                     2162\n",
       "restaurant_parking_lot                       2158\n",
       "other/unknown                                1967\n",
       "driveway                                     1857\n",
       "bar_club                                     1761\n",
       "supermarket                                  1486\n",
       "restaurant                                   1417\n",
       "department_store                             1373\n",
       "gas_station                                  1334\n",
       "bar_club_parking_lot                         1262\n",
       "hotel_motel_parking                          1235\n",
       "hotel_motel                                  1207\n",
       "convenience store                             911\n",
       "office building                               827\n",
       "commercial building                           789\n",
       "other, unknown, or not listed                 778\n",
       "miscellaneous business (non-specific)         680\n",
       "strip business center parking lot             632\n",
       "convenience_store_parking                     571\n",
       "hospital_parking                              552\n",
       "construction site                             532\n",
       "parks and recreation, zoo, swimming pool      514\n",
       "parks & recreation, zoo, swim pool            504\n",
       "condominium                                   478\n",
       "garage or carport                             445\n",
       "supermarket_parking                           438\n",
       "bus station                                   427\n",
       "bus stop                                      425\n",
       "multi-plex hme(duplex,triplex etc)            422\n",
       "specialty store (non-specific)                391\n",
       "stadium, sports arena, race track             353\n",
       "misc. business (non-specific)                 349\n",
       "stadium/sprts arena/race track                328\n",
       "Name: premise, dtype: int64"
      ]
     },
     "execution_count": 226,
     "metadata": {},
     "output_type": "execute_result"
    }
   ],
   "source": [
    "data.premise.value_counts(dropna=False)[:40]"
   ]
  },
  {
   "cell_type": "code",
   "execution_count": 227,
   "metadata": {},
   "outputs": [],
   "source": [
    "pat17 = r\"^(?=.*\\bconvenience\\b)(?=.*\\bstore\\b).*$\""
   ]
  },
  {
   "cell_type": "code",
   "execution_count": 228,
   "metadata": {},
   "outputs": [],
   "source": [
    "bu7  = data.premise.str.contains(pat17,regex=True)"
   ]
  },
  {
   "cell_type": "code",
   "execution_count": 229,
   "metadata": {},
   "outputs": [
    {
     "data": {
      "text/plain": [
       "convenience store                                                                                                                                         911\n",
       "convenience store                                                                                                                                           7\n",
       "Name: premise, dtype: int64"
      ]
     },
     "execution_count": 229,
     "metadata": {},
     "output_type": "execute_result"
    }
   ],
   "source": [
    "data[bu7].premise.value_counts()"
   ]
  },
  {
   "cell_type": "code",
   "execution_count": 230,
   "metadata": {},
   "outputs": [],
   "source": [
    "data.premise = data.premise.str.replace(pat17,'convenience_store',regex=True)"
   ]
  },
  {
   "cell_type": "code",
   "execution_count": 231,
   "metadata": {},
   "outputs": [
    {
     "data": {
      "text/plain": [
       "road_street_sidewalk                        14608\n",
       "house                                        6907\n",
       "apartment_parking                            6248\n",
       "apartment                                    6159\n",
       "other parking lot                            4891\n",
       "commercial_parking_garage                    4421\n",
       "unk                                          3598\n",
       "hospital                                     2162\n",
       "restaurant_parking_lot                       2158\n",
       "other/unknown                                1967\n",
       "driveway                                     1857\n",
       "bar_club                                     1761\n",
       "supermarket                                  1486\n",
       "restaurant                                   1417\n",
       "department_store                             1373\n",
       "gas_station                                  1334\n",
       "bar_club_parking_lot                         1262\n",
       "hotel_motel_parking                          1235\n",
       "hotel_motel                                  1207\n",
       "convenience_store                             918\n",
       "office building                               827\n",
       "commercial building                           789\n",
       "other, unknown, or not listed                 778\n",
       "miscellaneous business (non-specific)         680\n",
       "strip business center parking lot             632\n",
       "convenience_store_parking                     571\n",
       "hospital_parking                              552\n",
       "construction site                             532\n",
       "parks and recreation, zoo, swimming pool      514\n",
       "parks & recreation, zoo, swim pool            504\n",
       "condominium                                   478\n",
       "garage or carport                             445\n",
       "supermarket_parking                           438\n",
       "bus station                                   427\n",
       "bus stop                                      425\n",
       "multi-plex hme(duplex,triplex etc)            422\n",
       "specialty store (non-specific)                391\n",
       "stadium, sports arena, race track             353\n",
       "misc. business (non-specific)                 349\n",
       "stadium/sprts arena/race track                328\n",
       "Name: premise, dtype: int64"
      ]
     },
     "execution_count": 231,
     "metadata": {},
     "output_type": "execute_result"
    }
   ],
   "source": [
    "data.premise.value_counts(dropna=False)[:40]"
   ]
  },
  {
   "cell_type": "code",
   "execution_count": 232,
   "metadata": {},
   "outputs": [],
   "source": [
    "pat18 = r\"^(?=.*\\bbuilding\\b).*$\""
   ]
  },
  {
   "cell_type": "code",
   "execution_count": 233,
   "metadata": {},
   "outputs": [],
   "source": [
    "bu8  = data.premise.str.contains(pat18,regex=True)"
   ]
  },
  {
   "cell_type": "code",
   "execution_count": 234,
   "metadata": {},
   "outputs": [
    {
     "data": {
      "text/plain": [
       "office building                                                                                                                                           827\n",
       "commercial building                                                                                                                                       789\n",
       "government/public building                                                                                                                                124\n",
       "vacant building (commercial)                                                                                                                              121\n",
       "government or public building                                                                                                                              96\n",
       "maintenance/building services                                                                                                                              18\n",
       "maintenance or building services                                                                                                                           16\n",
       "commercial building                                                                                                                                         7\n",
       "vacant government/public building                                                                                                                           6\n",
       "vacant government or public building                                                                                                                        6\n",
       "office building                                                                                                                                             5\n",
       "government or public building                                                                                                                               2\n",
       "Name: premise, dtype: int64"
      ]
     },
     "execution_count": 234,
     "metadata": {},
     "output_type": "execute_result"
    }
   ],
   "source": [
    "data[bu8].premise.value_counts()"
   ]
  },
  {
   "cell_type": "code",
   "execution_count": 235,
   "metadata": {},
   "outputs": [],
   "source": [
    "data.premise = data.premise.str.replace(pat18,'building',regex=True)"
   ]
  },
  {
   "cell_type": "code",
   "execution_count": 236,
   "metadata": {},
   "outputs": [
    {
     "data": {
      "text/plain": [
       "road_street_sidewalk                        14608\n",
       "house                                        6907\n",
       "apartment_parking                            6248\n",
       "apartment                                    6159\n",
       "other parking lot                            4891\n",
       "commercial_parking_garage                    4421\n",
       "unk                                          3598\n",
       "hospital                                     2162\n",
       "restaurant_parking_lot                       2158\n",
       "building                                     2017\n",
       "other/unknown                                1967\n",
       "driveway                                     1857\n",
       "bar_club                                     1761\n",
       "supermarket                                  1486\n",
       "restaurant                                   1417\n",
       "department_store                             1373\n",
       "gas_station                                  1334\n",
       "bar_club_parking_lot                         1262\n",
       "hotel_motel_parking                          1235\n",
       "hotel_motel                                  1207\n",
       "convenience_store                             918\n",
       "other, unknown, or not listed                 778\n",
       "miscellaneous business (non-specific)         680\n",
       "strip business center parking lot             632\n",
       "convenience_store_parking                     571\n",
       "hospital_parking                              552\n",
       "construction site                             532\n",
       "parks and recreation, zoo, swimming pool      514\n",
       "parks & recreation, zoo, swim pool            504\n",
       "condominium                                   478\n",
       "garage or carport                             445\n",
       "supermarket_parking                           438\n",
       "bus station                                   427\n",
       "bus stop                                      425\n",
       "multi-plex hme(duplex,triplex etc)            422\n",
       "specialty store (non-specific)                391\n",
       "stadium, sports arena, race track             353\n",
       "misc. business (non-specific)                 349\n",
       "stadium/sprts arena/race track                328\n",
       "garage/carport                                322\n",
       "Name: premise, dtype: int64"
      ]
     },
     "execution_count": 236,
     "metadata": {},
     "output_type": "execute_result"
    }
   ],
   "source": [
    "data.premise.value_counts(dropna=False)[:40]"
   ]
  },
  {
   "cell_type": "code",
   "execution_count": 239,
   "metadata": {},
   "outputs": [],
   "source": [
    "pat19 = r\"^(?=.*\\bconstruction\\b).*$\""
   ]
  },
  {
   "cell_type": "code",
   "execution_count": 240,
   "metadata": {},
   "outputs": [],
   "source": [
    "bu8  = data.premise.str.contains(pat19,regex=True)"
   ]
  },
  {
   "cell_type": "code",
   "execution_count": 241,
   "metadata": {},
   "outputs": [
    {
     "data": {
      "text/plain": [
       "construction site                                                                                                                                         532\n",
       "vacant other structure (out buildings,monuments,buildings under construction,etc.)                                                                         23\n",
       "construction site                                                                                                                                          12\n",
       "Name: premise, dtype: int64"
      ]
     },
     "execution_count": 241,
     "metadata": {},
     "output_type": "execute_result"
    }
   ],
   "source": [
    "data[bu8].premise.value_counts()"
   ]
  },
  {
   "cell_type": "code",
   "execution_count": 242,
   "metadata": {},
   "outputs": [],
   "source": [
    "data.premise = data.premise.str.replace(pat19,'construction_site',regex=True)"
   ]
  },
  {
   "cell_type": "code",
   "execution_count": 243,
   "metadata": {},
   "outputs": [
    {
     "data": {
      "text/plain": [
       "road_street_sidewalk                        14608\n",
       "house                                        6907\n",
       "apartment_parking                            6248\n",
       "apartment                                    6159\n",
       "other parking lot                            4891\n",
       "commercial_parking_garage                    4421\n",
       "unk                                          3598\n",
       "hospital                                     2162\n",
       "restaurant_parking_lot                       2158\n",
       "building                                     2017\n",
       "other/unknown                                1967\n",
       "driveway                                     1857\n",
       "bar_club                                     1761\n",
       "supermarket                                  1486\n",
       "restaurant                                   1417\n",
       "department_store                             1373\n",
       "gas_station                                  1334\n",
       "bar_club_parking_lot                         1262\n",
       "hotel_motel_parking                          1235\n",
       "hotel_motel                                  1207\n",
       "convenience_store                             918\n",
       "other, unknown, or not listed                 778\n",
       "miscellaneous business (non-specific)         680\n",
       "strip business center parking lot             632\n",
       "convenience_store_parking                     571\n",
       "construction_site                             567\n",
       "hospital_parking                              552\n",
       "parks and recreation, zoo, swimming pool      514\n",
       "parks & recreation, zoo, swim pool            504\n",
       "condominium                                   478\n",
       "garage or carport                             445\n",
       "supermarket_parking                           438\n",
       "bus station                                   427\n",
       "bus stop                                      425\n",
       "multi-plex hme(duplex,triplex etc)            422\n",
       "specialty store (non-specific)                391\n",
       "stadium, sports arena, race track             353\n",
       "misc. business (non-specific)                 349\n",
       "stadium/sprts arena/race track                328\n",
       "garage/carport                                322\n",
       "Name: premise, dtype: int64"
      ]
     },
     "execution_count": 243,
     "metadata": {},
     "output_type": "execute_result"
    }
   ],
   "source": [
    "data.premise.value_counts(dropna=False)[:40]"
   ]
  },
  {
   "cell_type": "code",
   "execution_count": 244,
   "metadata": {},
   "outputs": [
    {
     "data": {
      "text/plain": [
       "231"
      ]
     },
     "execution_count": 244,
     "metadata": {},
     "output_type": "execute_result"
    }
   ],
   "source": [
    "len(data.premise.value_counts(dropna=False))"
   ]
  },
  {
   "cell_type": "code",
   "execution_count": 245,
   "metadata": {},
   "outputs": [],
   "source": [
    "def clean_premise(pat,df):\n",
    "    fil = df.premise.str.contains(pat,regex=True)\n",
    "    result = df[fil].premise.value_counts()\n",
    "    return result"
   ]
  },
  {
   "cell_type": "code",
   "execution_count": 246,
   "metadata": {},
   "outputs": [],
   "source": [
    "p = r\"^(?=.*\\bbus\\b).*$\"\n",
    "\n",
    "\n",
    "test = clean_premise(p,data)"
   ]
  },
  {
   "cell_type": "code",
   "execution_count": 247,
   "metadata": {},
   "outputs": [
    {
     "data": {
      "text/plain": [
       "bus station                                                                                                                                               427\n",
       "bus stop                                                                                                                                                  425\n",
       "bus stop                                                                                                                                                    7\n",
       "bus station                                                                                                                                                 4\n",
       "Name: premise, dtype: int64"
      ]
     },
     "execution_count": 247,
     "metadata": {},
     "output_type": "execute_result"
    }
   ],
   "source": [
    "test"
   ]
  },
  {
   "cell_type": "code",
   "execution_count": null,
   "metadata": {},
   "outputs": [],
   "source": []
  }
 ],
 "metadata": {
  "kernelspec": {
   "display_name": "Python 3",
   "language": "python",
   "name": "python3"
  },
  "language_info": {
   "codemirror_mode": {
    "name": "ipython",
    "version": 3
   },
   "file_extension": ".py",
   "mimetype": "text/x-python",
   "name": "python",
   "nbconvert_exporter": "python",
   "pygments_lexer": "ipython3",
   "version": "3.6.3"
  }
 },
 "nbformat": 4,
 "nbformat_minor": 2
}
