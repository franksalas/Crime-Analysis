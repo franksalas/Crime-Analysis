{
 "cells": [
  {
   "cell_type": "code",
   "execution_count": 1,
   "metadata": {},
   "outputs": [],
   "source": [
    "import pandas as pd\n",
    "import numpy as np"
   ]
  },
  {
   "cell_type": "code",
   "execution_count": 2,
   "metadata": {},
   "outputs": [
    {
     "name": "stdout",
     "output_type": "stream",
     "text": [
      "\u001b[0m\u001b[01;32mDynamo_Cleanup-Copy1.ipynb\u001b[0m*    \u001b[01;32mNFP_POST_Cleanup.ipynb\u001b[0m*\r\n",
      "\u001b[01;32mDynamo_Cleanup.ipynb\u001b[0m*          \u001b[01;32mRice_Cleanup.ipynb\u001b[0m*\r\n",
      "\u001b[01;32mfolium.ipynb\u001b[0m*                  \u001b[01;36;40msports_data_clean\u001b[0m/\r\n",
      "\u001b[01;32mgeopandas_test.ipynb\u001b[0m*          \u001b[01;36;40msports_data_raw\u001b[0m/\r\n",
      "\u001b[01;32mHouston_Police_Beats.geojson\u001b[0m*  \u001b[01;32mstadium_beats_geocode.csv\u001b[0m*\r\n",
      "\u001b[01;32mMLB_Cleanup-Copy1.ipynb\u001b[0m*       \u001b[01;32mstadiums.csv\u001b[0m*\r\n",
      "\u001b[01;32mMLB_Cleanup.ipynb\u001b[0m*             \u001b[01;32mstadiums_final.csv\u001b[0m*\r\n",
      "\u001b[01;32mMLB_Cleanup-plo.ipynb\u001b[0m*         \u001b[01;32mstadiums.ipynb\u001b[0m*\r\n",
      "\u001b[01;32mMLS_Cleanup.ipynb\u001b[0m*             \u001b[01;32mstory_nfl.ipynb\u001b[0m*\r\n",
      "\u001b[01;32mMLS_new.ipynb\u001b[0m*                 \u001b[01;32mTexans-10-17.ipynb\u001b[0m*\r\n",
      "\u001b[01;32mNBA_Cleanup.ipynb\u001b[0m*             \u001b[01;32mTexans10_17_reg_pos.ipynb\u001b[0m*\r\n",
      "\u001b[01;32mNBA_Cleanup-plo.ipynb\u001b[0m*         \u001b[01;32mUH_Cleanup.ipynb\u001b[0m*\r\n",
      "\u001b[01;32mNBA_Cleanup-reg.ipynb\u001b[0m*         \u001b[01;32mUntitled1.ipynb\u001b[0m*\r\n",
      "\u001b[01;32mNFL_API_Cleanup.ipynb\u001b[0m*         \u001b[01;32mUntitled.ipynb\u001b[0m*\r\n",
      "\u001b[01;32mNFL_JSON_API_example.ipynb\u001b[0m*\r\n"
     ]
    }
   ],
   "source": [
    "ls"
   ]
  },
  {
   "cell_type": "code",
   "execution_count": 3,
   "metadata": {},
   "outputs": [],
   "source": [
    "post_season = 'sports_data_clean/nfl17years_PST_clean.csv'"
   ]
  },
  {
   "cell_type": "code",
   "execution_count": 4,
   "metadata": {},
   "outputs": [],
   "source": [
    "reg_season = 'sports_data_clean/nfl17years_clean.csv'"
   ]
  },
  {
   "cell_type": "code",
   "execution_count": 5,
   "metadata": {},
   "outputs": [],
   "source": [
    "df_reg = pd.read_csv(reg_season)\n",
    "df_post = pd.read_csv(post_season)"
   ]
  },
  {
   "cell_type": "code",
   "execution_count": null,
   "metadata": {},
   "outputs": [],
   "source": []
  },
  {
   "cell_type": "code",
   "execution_count": null,
   "metadata": {},
   "outputs": [],
   "source": []
  },
  {
   "cell_type": "code",
   "execution_count": 6,
   "metadata": {},
   "outputs": [],
   "source": [
    "df_reg = df_reg.set_index('scheduled').sort_index(ascending=True) # set and sort index\n",
    "df_post = df_post.set_index('scheduled').sort_index(ascending=True) # set and sort index"
   ]
  },
  {
   "cell_type": "code",
   "execution_count": null,
   "metadata": {},
   "outputs": [],
   "source": []
  },
  {
   "cell_type": "code",
   "execution_count": null,
   "metadata": {},
   "outputs": [],
   "source": []
  },
  {
   "cell_type": "code",
   "execution_count": 7,
   "metadata": {},
   "outputs": [],
   "source": [
    "texans_10_17_reg = df_reg.loc['2010':]\n",
    "texans_10_17_post = df_post.loc['2010':]"
   ]
  },
  {
   "cell_type": "code",
   "execution_count": 8,
   "metadata": {},
   "outputs": [
    {
     "name": "stdout",
     "output_type": "stream",
     "text": [
      "<class 'pandas.core.frame.DataFrame'>\n",
      "Index: 2065 entries, 2010-01-03 18:02:27 to 2017-12-31 21:25:00\n",
      "Data columns (total 5 columns):\n",
      "home.alias             2065 non-null object\n",
      "scoring.home_points    2064 non-null float64\n",
      "away.alias             2065 non-null object\n",
      "scoring.away_points    2064 non-null float64\n",
      "winner                 2065 non-null object\n",
      "dtypes: float64(2), object(3)\n",
      "memory usage: 96.8+ KB\n"
     ]
    }
   ],
   "source": [
    "texans_10_17_reg.info()"
   ]
  },
  {
   "cell_type": "code",
   "execution_count": 9,
   "metadata": {},
   "outputs": [
    {
     "name": "stderr",
     "output_type": "stream",
     "text": [
      "/home/salas/miniconda3/envs/springboard/lib/python3.6/site-packages/ipykernel_launcher.py:1: SettingWithCopyWarning: \n",
      "A value is trying to be set on a copy of a slice from a DataFrame.\n",
      "Try using .loc[row_indexer,col_indexer] = value instead\n",
      "\n",
      "See the caveats in the documentation: http://pandas.pydata.org/pandas-docs/stable/indexing.html#indexing-view-versus-copy\n",
      "  \"\"\"Entry point for launching an IPython kernel.\n",
      "/home/salas/miniconda3/envs/springboard/lib/python3.6/site-packages/ipykernel_launcher.py:2: SettingWithCopyWarning: \n",
      "A value is trying to be set on a copy of a slice from a DataFrame.\n",
      "Try using .loc[row_indexer,col_indexer] = value instead\n",
      "\n",
      "See the caveats in the documentation: http://pandas.pydata.org/pandas-docs/stable/indexing.html#indexing-view-versus-copy\n",
      "  \n"
     ]
    }
   ],
   "source": [
    "texans_10_17_reg['season'] ='reg'\n",
    "texans_10_17_post['season'] ='plo'"
   ]
  },
  {
   "cell_type": "code",
   "execution_count": 10,
   "metadata": {},
   "outputs": [],
   "source": [
    "home_10_17_reg = texans_10_17_reg[texans_10_17_reg['home.alias'] == 'HOU']\n",
    "home_10_17_pos = texans_10_17_post[texans_10_17_post['home.alias'] == 'HOU']"
   ]
  },
  {
   "cell_type": "code",
   "execution_count": null,
   "metadata": {},
   "outputs": [],
   "source": []
  },
  {
   "cell_type": "code",
   "execution_count": 11,
   "metadata": {},
   "outputs": [],
   "source": [
    "home_10_17_reg.to_csv('sports_data_clean/hou_nfl_1017_reg.csv')\n",
    "home_10_17_pos.to_csv('sports_data_clean/hou_nfl_1017_post.csv')"
   ]
  },
  {
   "cell_type": "code",
   "execution_count": 12,
   "metadata": {},
   "outputs": [
    {
     "name": "stdout",
     "output_type": "stream",
     "text": [
      "\u001b[0m\u001b[01;32mastros_08_17_clean.csv\u001b[0m*       \u001b[01;32mhou_rockets_10_17_plo_clean.csv\u001b[0m*\r\n",
      "\u001b[01;32mastros_10_17_plo_clean.csv\u001b[0m*   \u001b[01;32mhou_rockets_10_17_reg_clean.csv\u001b[0m*\r\n",
      "\u001b[01;32mastros_10_17_reg_clean.csv\u001b[0m*   \u001b[01;32mnfl_08_17_clean.csv\u001b[0m*\r\n",
      "\u001b[01;32mdynamo_08_17_clean.csv\u001b[0m*       \u001b[01;32mnfl10clean.csv\u001b[0m*\r\n",
      "\u001b[01;32mdynamo_10_17_plo.csv\u001b[0m*         \u001b[01;32mnfl10yearsfull.csv\u001b[0m*\r\n",
      "\u001b[01;32mdynamo_10_17__reg_clean.csv\u001b[0m*  \u001b[01;32mnfl17years_clean.csv\u001b[0m*\r\n",
      "\u001b[01;32mhou_nfl_1017_post.csv\u001b[0m*        \u001b[01;32mnfl17years_PST_clean.csv\u001b[0m*\r\n",
      "\u001b[01;32mhou_nfl_1017_reg.csv\u001b[0m*         \u001b[01;32mrice_08_17_clean.csv\u001b[0m*\r\n",
      "\u001b[01;32mhou_rockets_08_17_clean.csv\u001b[0m*  \u001b[01;32muh_08_17_clean.csv\u001b[0m*\r\n"
     ]
    }
   ],
   "source": [
    "ls sports_data_clean/"
   ]
  },
  {
   "cell_type": "code",
   "execution_count": null,
   "metadata": {},
   "outputs": [],
   "source": []
  }
 ],
 "metadata": {
  "kernelspec": {
   "display_name": "Python 3",
   "language": "python",
   "name": "python3"
  },
  "language_info": {
   "codemirror_mode": {
    "name": "ipython",
    "version": 3
   },
   "file_extension": ".py",
   "mimetype": "text/x-python",
   "name": "python",
   "nbconvert_exporter": "python",
   "pygments_lexer": "ipython3",
   "version": "3.6.4"
  }
 },
 "nbformat": 4,
 "nbformat_minor": 2
}
