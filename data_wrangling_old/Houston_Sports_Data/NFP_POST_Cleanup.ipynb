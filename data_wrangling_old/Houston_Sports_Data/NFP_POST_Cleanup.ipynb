{
 "cells": [
  {
   "cell_type": "markdown",
   "metadata": {},
   "source": [
    "## Preseason (PRE), Regular Season (REG), or Post-Season (PST).\n"
   ]
  },
  {
   "cell_type": "code",
   "execution_count": 1,
   "metadata": {},
   "outputs": [],
   "source": [
    "import pandas as pd\n",
    "import json\n",
    "from pandas.io.json import json_normalize\n",
    "import numpy as np\n",
    "from pprint import pprint\n",
    "import requests\n",
    "import time\n",
    "key = '5h567tf39qwsksfp9uxakxfc'"
   ]
  },
  {
   "cell_type": "code",
   "execution_count": 2,
   "metadata": {},
   "outputs": [
    {
     "name": "stdout",
     "output_type": "stream",
     "text": [
      "['2000', '2001', '2002', '2003', '2004', '2005', '2006', '2007', '2008', '2009', '2010', '2011', '2012', '2013', '2014', '2015', '2016', '2017']\n"
     ]
    }
   ],
   "source": [
    "years = []\n",
    "for i in range(2000,2018):\n",
    "    years.append(str(i))\n",
    "    \n",
    "print(years)"
   ]
  },
  {
   "cell_type": "code",
   "execution_count": 3,
   "metadata": {},
   "outputs": [],
   "source": [
    "def nfl_schedule(year,season,key):\n",
    "    '''returns json result from api call'''\n",
    "    #print('inside func: year:{}:season: {}'.format(year,season))  # debug\n",
    "    URL = 'https://api.sportradar.us/nfl-ot2/games/'\n",
    "    path = '{}/{}/schedule.json'.format(year,season)\n",
    "    payload = {'api_key':key}\n",
    "    r = requests.get(URL+path,params=payload)\n",
    "    return r.json()"
   ]
  },
  {
   "cell_type": "code",
   "execution_count": 4,
   "metadata": {},
   "outputs": [],
   "source": [
    "season = 'PST'\n",
    "\n",
    "df_list = []  # emplty list for our weekly dataframes\n",
    "\n",
    "for i in years:  # 2000 - 2017\n",
    "    #print('year:{}'.format(i))  # debug\n",
    "    json_yr = nfl_schedule(i,season,key)  # call func get json\n",
    "    time.sleep(1)  # sleep\n",
    "    for j in range(len(json_yr['weeks'])):  # loop over every week in that year\n",
    "        #print('year:{},week:{}'.format(i,j))  # debug\n",
    "        wk_df = json_normalize(json_yr['weeks'][j]['games'])  # df of that week\n",
    "        df_list.append(wk_df)  # append to empty list\n",
    "time.sleep(1)  # sleep\n",
    "nfl_schedule = pd.concat(df_list, axis=0)  # concat list of weekly dataframes"
   ]
  },
  {
   "cell_type": "code",
   "execution_count": 5,
   "metadata": {},
   "outputs": [
    {
     "name": "stdout",
     "output_type": "stream",
     "text": [
      "<class 'pandas.core.frame.DataFrame'>\n",
      "Int64Index: 201 entries, 0 to 0\n",
      "Data columns (total 33 columns):\n",
      "attendance             201 non-null int64\n",
      "away.alias             201 non-null object\n",
      "away.game_number       187 non-null float64\n",
      "away.id                201 non-null object\n",
      "away.name              201 non-null object\n",
      "broadcast.internet     6 non-null object\n",
      "broadcast.network      68 non-null object\n",
      "broadcast.satellite    4 non-null object\n",
      "entry_mode             201 non-null object\n",
      "home.alias             201 non-null object\n",
      "home.game_number       187 non-null float64\n",
      "home.id                201 non-null object\n",
      "home.name              201 non-null object\n",
      "id                     201 non-null object\n",
      "number                 68 non-null float64\n",
      "reference              68 non-null object\n",
      "scheduled              201 non-null object\n",
      "scoring.away_points    201 non-null int64\n",
      "scoring.home_points    201 non-null int64\n",
      "scoring.periods        201 non-null object\n",
      "status                 201 non-null object\n",
      "utc_offset             201 non-null int64\n",
      "venue.address          201 non-null object\n",
      "venue.capacity         201 non-null int64\n",
      "venue.city             201 non-null object\n",
      "venue.country          184 non-null object\n",
      "venue.id               201 non-null object\n",
      "venue.name             201 non-null object\n",
      "venue.roof_type        201 non-null object\n",
      "venue.state            201 non-null object\n",
      "venue.surface          201 non-null object\n",
      "venue.zip              199 non-null object\n",
      "weather                110 non-null object\n",
      "dtypes: float64(3), int64(5), object(25)\n",
      "memory usage: 53.4+ KB\n"
     ]
    }
   ],
   "source": [
    "nfl_schedule.info()"
   ]
  },
  {
   "cell_type": "code",
   "execution_count": 6,
   "metadata": {},
   "outputs": [
    {
     "data": {
      "text/html": [
       "<div>\n",
       "<style scoped>\n",
       "    .dataframe tbody tr th:only-of-type {\n",
       "        vertical-align: middle;\n",
       "    }\n",
       "\n",
       "    .dataframe tbody tr th {\n",
       "        vertical-align: top;\n",
       "    }\n",
       "\n",
       "    .dataframe thead th {\n",
       "        text-align: right;\n",
       "    }\n",
       "</style>\n",
       "<table border=\"1\" class=\"dataframe\">\n",
       "  <thead>\n",
       "    <tr style=\"text-align: right;\">\n",
       "      <th></th>\n",
       "      <th>attendance</th>\n",
       "      <th>away.alias</th>\n",
       "      <th>away.game_number</th>\n",
       "      <th>away.id</th>\n",
       "      <th>away.name</th>\n",
       "      <th>broadcast.internet</th>\n",
       "      <th>broadcast.network</th>\n",
       "      <th>broadcast.satellite</th>\n",
       "      <th>entry_mode</th>\n",
       "      <th>home.alias</th>\n",
       "      <th>...</th>\n",
       "      <th>venue.capacity</th>\n",
       "      <th>venue.city</th>\n",
       "      <th>venue.country</th>\n",
       "      <th>venue.id</th>\n",
       "      <th>venue.name</th>\n",
       "      <th>venue.roof_type</th>\n",
       "      <th>venue.state</th>\n",
       "      <th>venue.surface</th>\n",
       "      <th>venue.zip</th>\n",
       "      <th>weather</th>\n",
       "    </tr>\n",
       "  </thead>\n",
       "  <tbody>\n",
       "    <tr>\n",
       "      <th>0</th>\n",
       "      <td>73193</td>\n",
       "      <td>IND</td>\n",
       "      <td>1.0</td>\n",
       "      <td>82cf9565-6eb9-4f01-bdbd-5aa0d472fcd9</td>\n",
       "      <td>Indianapolis Colts</td>\n",
       "      <td>NaN</td>\n",
       "      <td>NaN</td>\n",
       "      <td>NaN</td>\n",
       "      <td>INGEST</td>\n",
       "      <td>MIA</td>\n",
       "      <td>...</td>\n",
       "      <td>76100</td>\n",
       "      <td>Miami Gardens</td>\n",
       "      <td>USA</td>\n",
       "      <td>50a5c833-1570-4c38-abc7-7914cf87dbde</td>\n",
       "      <td>Hard Rock Stadium</td>\n",
       "      <td>outdoor</td>\n",
       "      <td>FL</td>\n",
       "      <td>turf</td>\n",
       "      <td>33056</td>\n",
       "      <td>Mostly sunny. Temp: 59 F, Humidity: 58%, Wind:...</td>\n",
       "    </tr>\n",
       "    <tr>\n",
       "      <th>1</th>\n",
       "      <td>69638</td>\n",
       "      <td>DEN</td>\n",
       "      <td>1.0</td>\n",
       "      <td>ce92bd47-93d5-4fe9-ada4-0fc681e6caa0</td>\n",
       "      <td>Denver Broncos</td>\n",
       "      <td>NaN</td>\n",
       "      <td>NaN</td>\n",
       "      <td>NaN</td>\n",
       "      <td>INGEST</td>\n",
       "      <td>BAL</td>\n",
       "      <td>...</td>\n",
       "      <td>71008</td>\n",
       "      <td>Baltimore</td>\n",
       "      <td>USA</td>\n",
       "      <td>d54faae0-0314-484f-8604-9d8dd08e1149</td>\n",
       "      <td>M&amp;T Bank Stadium</td>\n",
       "      <td>outdoor</td>\n",
       "      <td>MD</td>\n",
       "      <td>turf</td>\n",
       "      <td>21230</td>\n",
       "      <td>Mostly sunny and blustery Temp: 22 F, Humidity...</td>\n",
       "    </tr>\n",
       "    <tr>\n",
       "      <th>2</th>\n",
       "      <td>64900</td>\n",
       "      <td>STL</td>\n",
       "      <td>1.0</td>\n",
       "      <td>39f349de-6463-4803-ad70-f1e0f144f5ed</td>\n",
       "      <td>St. Louis Rams</td>\n",
       "      <td>NaN</td>\n",
       "      <td>NaN</td>\n",
       "      <td>NaN</td>\n",
       "      <td>INGEST</td>\n",
       "      <td>NO</td>\n",
       "      <td>...</td>\n",
       "      <td>76468</td>\n",
       "      <td>New Orleans</td>\n",
       "      <td>USA</td>\n",
       "      <td>3c85d89a-ec66-4983-acd5-1381d6c8673a</td>\n",
       "      <td>Mercedes-Benz Superdome</td>\n",
       "      <td>dome</td>\n",
       "      <td>LA</td>\n",
       "      <td>artificial</td>\n",
       "      <td>70112</td>\n",
       "      <td>Temp: 37 F, Humidity: 26%, Wind: NW 10-15 mph</td>\n",
       "    </tr>\n",
       "    <tr>\n",
       "      <th>3</th>\n",
       "      <td>65813</td>\n",
       "      <td>TB</td>\n",
       "      <td>1.0</td>\n",
       "      <td>4254d319-1bc7-4f81-b4ab-b5e6f3402b69</td>\n",
       "      <td>Tampa Bay Buccaneers</td>\n",
       "      <td>NaN</td>\n",
       "      <td>NaN</td>\n",
       "      <td>NaN</td>\n",
       "      <td>INGEST</td>\n",
       "      <td>PHI</td>\n",
       "      <td>...</td>\n",
       "      <td>65352</td>\n",
       "      <td>Philadelphia</td>\n",
       "      <td>NaN</td>\n",
       "      <td>905f3091-107b-4e7d-af70-2e3822c09aee</td>\n",
       "      <td>Veterans Stadium</td>\n",
       "      <td>outdoor</td>\n",
       "      <td>PA</td>\n",
       "      <td>artificial</td>\n",
       "      <td>19148</td>\n",
       "      <td>Partly cloudy Temp: 34 F, Humidity: 44%, Wind:...</td>\n",
       "    </tr>\n",
       "    <tr>\n",
       "      <th>0</th>\n",
       "      <td>68527</td>\n",
       "      <td>BAL</td>\n",
       "      <td>2.0</td>\n",
       "      <td>ebd87119-b331-4469-9ea6-d51fe3ce2f1c</td>\n",
       "      <td>Baltimore Ravens</td>\n",
       "      <td>NaN</td>\n",
       "      <td>NaN</td>\n",
       "      <td>NaN</td>\n",
       "      <td>INGEST</td>\n",
       "      <td>TEN</td>\n",
       "      <td>...</td>\n",
       "      <td>69143</td>\n",
       "      <td>Nashville</td>\n",
       "      <td>USA</td>\n",
       "      <td>5295c1b7-c85c-49cb-9569-1707c65324e5</td>\n",
       "      <td>Nissan Stadium</td>\n",
       "      <td>outdoor</td>\n",
       "      <td>TN</td>\n",
       "      <td>turf</td>\n",
       "      <td>37213</td>\n",
       "      <td>Chilly &amp; Increasingly Cloudy Temp: 48 F, Humid...</td>\n",
       "    </tr>\n",
       "  </tbody>\n",
       "</table>\n",
       "<p>5 rows × 33 columns</p>\n",
       "</div>"
      ],
      "text/plain": [
       "   attendance away.alias  away.game_number  \\\n",
       "0       73193        IND               1.0   \n",
       "1       69638        DEN               1.0   \n",
       "2       64900        STL               1.0   \n",
       "3       65813         TB               1.0   \n",
       "0       68527        BAL               2.0   \n",
       "\n",
       "                                away.id             away.name  \\\n",
       "0  82cf9565-6eb9-4f01-bdbd-5aa0d472fcd9    Indianapolis Colts   \n",
       "1  ce92bd47-93d5-4fe9-ada4-0fc681e6caa0        Denver Broncos   \n",
       "2  39f349de-6463-4803-ad70-f1e0f144f5ed        St. Louis Rams   \n",
       "3  4254d319-1bc7-4f81-b4ab-b5e6f3402b69  Tampa Bay Buccaneers   \n",
       "0  ebd87119-b331-4469-9ea6-d51fe3ce2f1c      Baltimore Ravens   \n",
       "\n",
       "  broadcast.internet broadcast.network broadcast.satellite entry_mode  \\\n",
       "0                NaN               NaN                 NaN     INGEST   \n",
       "1                NaN               NaN                 NaN     INGEST   \n",
       "2                NaN               NaN                 NaN     INGEST   \n",
       "3                NaN               NaN                 NaN     INGEST   \n",
       "0                NaN               NaN                 NaN     INGEST   \n",
       "\n",
       "  home.alias                        ...                          \\\n",
       "0        MIA                        ...                           \n",
       "1        BAL                        ...                           \n",
       "2         NO                        ...                           \n",
       "3        PHI                        ...                           \n",
       "0        TEN                        ...                           \n",
       "\n",
       "   venue.capacity     venue.city venue.country  \\\n",
       "0           76100  Miami Gardens           USA   \n",
       "1           71008      Baltimore           USA   \n",
       "2           76468    New Orleans           USA   \n",
       "3           65352   Philadelphia           NaN   \n",
       "0           69143      Nashville           USA   \n",
       "\n",
       "                               venue.id               venue.name  \\\n",
       "0  50a5c833-1570-4c38-abc7-7914cf87dbde        Hard Rock Stadium   \n",
       "1  d54faae0-0314-484f-8604-9d8dd08e1149         M&T Bank Stadium   \n",
       "2  3c85d89a-ec66-4983-acd5-1381d6c8673a  Mercedes-Benz Superdome   \n",
       "3  905f3091-107b-4e7d-af70-2e3822c09aee         Veterans Stadium   \n",
       "0  5295c1b7-c85c-49cb-9569-1707c65324e5           Nissan Stadium   \n",
       "\n",
       "  venue.roof_type venue.state  venue.surface  venue.zip  \\\n",
       "0         outdoor          FL           turf      33056   \n",
       "1         outdoor          MD           turf      21230   \n",
       "2            dome          LA     artificial      70112   \n",
       "3         outdoor          PA     artificial      19148   \n",
       "0         outdoor          TN           turf      37213   \n",
       "\n",
       "                                             weather  \n",
       "0  Mostly sunny. Temp: 59 F, Humidity: 58%, Wind:...  \n",
       "1  Mostly sunny and blustery Temp: 22 F, Humidity...  \n",
       "2      Temp: 37 F, Humidity: 26%, Wind: NW 10-15 mph  \n",
       "3  Partly cloudy Temp: 34 F, Humidity: 44%, Wind:...  \n",
       "0  Chilly & Increasingly Cloudy Temp: 48 F, Humid...  \n",
       "\n",
       "[5 rows x 33 columns]"
      ]
     },
     "execution_count": 6,
     "metadata": {},
     "output_type": "execute_result"
    }
   ],
   "source": [
    "nfl_schedule.head(5)"
   ]
  },
  {
   "cell_type": "markdown",
   "metadata": {},
   "source": [
    "## Save this raw dataframe to csv"
   ]
  },
  {
   "cell_type": "code",
   "execution_count": 7,
   "metadata": {},
   "outputs": [
    {
     "name": "stdout",
     "output_type": "stream",
     "text": [
      "\u001b[0m\u001b[01;32mnfl10clean.csv\u001b[0m*  \u001b[01;32mnfl10yearsfull.csv\u001b[0m*  \u001b[01;32mnfl17yearsfull_raw.csv\u001b[0m*\r\n"
     ]
    }
   ],
   "source": [
    "ls sports_data_raw/NFL/"
   ]
  },
  {
   "cell_type": "code",
   "execution_count": 8,
   "metadata": {},
   "outputs": [],
   "source": [
    "nfl_schedule.to_csv('sports_data_raw/NFL/nfl17yearsfull_PST_raw.csv')"
   ]
  },
  {
   "cell_type": "code",
   "execution_count": 9,
   "metadata": {},
   "outputs": [],
   "source": [
    "nfl_df = nfl_schedule[['scheduled','home.alias','scoring.home_points','away.alias','scoring.away_points']]"
   ]
  },
  {
   "cell_type": "code",
   "execution_count": 10,
   "metadata": {},
   "outputs": [
    {
     "data": {
      "text/html": [
       "<div>\n",
       "<style scoped>\n",
       "    .dataframe tbody tr th:only-of-type {\n",
       "        vertical-align: middle;\n",
       "    }\n",
       "\n",
       "    .dataframe tbody tr th {\n",
       "        vertical-align: top;\n",
       "    }\n",
       "\n",
       "    .dataframe thead th {\n",
       "        text-align: right;\n",
       "    }\n",
       "</style>\n",
       "<table border=\"1\" class=\"dataframe\">\n",
       "  <thead>\n",
       "    <tr style=\"text-align: right;\">\n",
       "      <th></th>\n",
       "      <th>scheduled</th>\n",
       "      <th>home.alias</th>\n",
       "      <th>scoring.home_points</th>\n",
       "      <th>away.alias</th>\n",
       "      <th>scoring.away_points</th>\n",
       "    </tr>\n",
       "  </thead>\n",
       "  <tbody>\n",
       "    <tr>\n",
       "      <th>0</th>\n",
       "      <td>2000-12-30T17:32:48+00:00</td>\n",
       "      <td>MIA</td>\n",
       "      <td>23</td>\n",
       "      <td>IND</td>\n",
       "      <td>17</td>\n",
       "    </tr>\n",
       "    <tr>\n",
       "      <th>1</th>\n",
       "      <td>2000-12-31T17:35:38+00:00</td>\n",
       "      <td>BAL</td>\n",
       "      <td>21</td>\n",
       "      <td>DEN</td>\n",
       "      <td>3</td>\n",
       "    </tr>\n",
       "    <tr>\n",
       "      <th>2</th>\n",
       "      <td>2000-12-30T21:05:14+00:00</td>\n",
       "      <td>NO</td>\n",
       "      <td>31</td>\n",
       "      <td>STL</td>\n",
       "      <td>28</td>\n",
       "    </tr>\n",
       "    <tr>\n",
       "      <th>3</th>\n",
       "      <td>2000-12-31T21:17:49+00:00</td>\n",
       "      <td>PHI</td>\n",
       "      <td>21</td>\n",
       "      <td>TB</td>\n",
       "      <td>3</td>\n",
       "    </tr>\n",
       "    <tr>\n",
       "      <th>0</th>\n",
       "      <td>2001-01-07T17:36:34+00:00</td>\n",
       "      <td>TEN</td>\n",
       "      <td>10</td>\n",
       "      <td>BAL</td>\n",
       "      <td>24</td>\n",
       "    </tr>\n",
       "  </tbody>\n",
       "</table>\n",
       "</div>"
      ],
      "text/plain": [
       "                   scheduled home.alias  scoring.home_points away.alias  \\\n",
       "0  2000-12-30T17:32:48+00:00        MIA                   23        IND   \n",
       "1  2000-12-31T17:35:38+00:00        BAL                   21        DEN   \n",
       "2  2000-12-30T21:05:14+00:00         NO                   31        STL   \n",
       "3  2000-12-31T21:17:49+00:00        PHI                   21         TB   \n",
       "0  2001-01-07T17:36:34+00:00        TEN                   10        BAL   \n",
       "\n",
       "   scoring.away_points  \n",
       "0                   17  \n",
       "1                    3  \n",
       "2                   28  \n",
       "3                    3  \n",
       "0                   24  "
      ]
     },
     "execution_count": 10,
     "metadata": {},
     "output_type": "execute_result"
    }
   ],
   "source": [
    "nfl_df.head()"
   ]
  },
  {
   "cell_type": "code",
   "execution_count": 11,
   "metadata": {},
   "outputs": [
    {
     "name": "stderr",
     "output_type": "stream",
     "text": [
      "/home/salas/miniconda3/envs/springboard/lib/python3.6/site-packages/ipykernel_launcher.py:1: SettingWithCopyWarning: \n",
      "A value is trying to be set on a copy of a slice from a DataFrame.\n",
      "Try using .loc[row_indexer,col_indexer] = value instead\n",
      "\n",
      "See the caveats in the documentation: http://pandas.pydata.org/pandas-docs/stable/indexing.html#indexing-view-versus-copy\n",
      "  \"\"\"Entry point for launching an IPython kernel.\n"
     ]
    }
   ],
   "source": [
    "nfl_df['scheduled'] = pd.to_datetime(nfl_df['scheduled'])  # convert to datetime\n",
    "\n",
    "nfl_df = nfl_df.set_index('scheduled').sort_index(ascending=True) # set and sort index"
   ]
  },
  {
   "cell_type": "code",
   "execution_count": 12,
   "metadata": {},
   "outputs": [],
   "source": [
    "nfl_df['winner'] = np.where(nfl_df['scoring.home_points'] > nfl_df['scoring.away_points'],\n",
    "                            nfl_df['home.alias'],\n",
    "                            nfl_df['away.alias'])"
   ]
  },
  {
   "cell_type": "markdown",
   "metadata": {},
   "source": [
    "# Save clean version to csv"
   ]
  },
  {
   "cell_type": "code",
   "execution_count": 13,
   "metadata": {},
   "outputs": [
    {
     "name": "stdout",
     "output_type": "stream",
     "text": [
      "\u001b[0m\u001b[01;32mastros_08_17_clean.csv\u001b[0m*       \u001b[01;32mnfl_08_17_clean.csv\u001b[0m*   \u001b[01;32mrice_08_17_clean.csv\u001b[0m*\r\n",
      "\u001b[01;32mdynamo_08_17_clean.csv\u001b[0m*       \u001b[01;32mnfl10clean.csv\u001b[0m*        \u001b[01;32mtsu_08_17_clean.csv\u001b[0m*\r\n",
      "\u001b[01;32mhou_home_10_17_clean.csv\u001b[0m*     \u001b[01;32mnfl10yearsfull.csv\u001b[0m*    \u001b[01;32muh_08_17_clean.csv\u001b[0m*\r\n",
      "\u001b[01;32mhou_rockets_08_17_clean.csv\u001b[0m*  \u001b[01;32mnfl17years_clean.csv\u001b[0m*\r\n"
     ]
    }
   ],
   "source": [
    "ls sports_data_clean/"
   ]
  },
  {
   "cell_type": "code",
   "execution_count": 14,
   "metadata": {},
   "outputs": [],
   "source": [
    "nfl_df.to_csv('sports_data_clean/nfl17years_PST_clean.csv')"
   ]
  },
  {
   "cell_type": "code",
   "execution_count": null,
   "metadata": {},
   "outputs": [],
   "source": []
  }
 ],
 "metadata": {
  "kernelspec": {
   "display_name": "Python 3",
   "language": "python",
   "name": "python3"
  },
  "language_info": {
   "codemirror_mode": {
    "name": "ipython",
    "version": 3
   },
   "file_extension": ".py",
   "mimetype": "text/x-python",
   "name": "python",
   "nbconvert_exporter": "python",
   "pygments_lexer": "ipython3",
   "version": "3.6.4"
  }
 },
 "nbformat": 4,
 "nbformat_minor": 2
}
