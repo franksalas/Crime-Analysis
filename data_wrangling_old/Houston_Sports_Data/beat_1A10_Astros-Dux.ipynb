{
 "cells": [
  {
   "cell_type": "code",
   "execution_count": 1,
   "metadata": {},
   "outputs": [],
   "source": [
    "import pandas as pd"
   ]
  },
  {
   "cell_type": "code",
   "execution_count": 2,
   "metadata": {},
   "outputs": [
    {
     "name": "stdout",
     "output_type": "stream",
     "text": [
      "\u001b[0m\u001b[01;32mastros_10_17_plo_clean.csv\u001b[0m*       \u001b[01;32mnfl_08_17_clean.csv\u001b[0m*\r\n",
      "\u001b[01;32mastros_10_17_reg_clean.csv\u001b[0m*       \u001b[01;32mnfl10clean.csv\u001b[0m*\r\n",
      "\u001b[01;32mastros_1A10.csv\u001b[0m*                  \u001b[01;32mnfl10yearsfull.csv\u001b[0m*\r\n",
      "\u001b[01;32mdynamo_10_17_plo.csv\u001b[0m*             \u001b[01;32mnfl17years_clean.csv\u001b[0m*\r\n",
      "\u001b[01;32mdynamo_10_17__reg.csv\u001b[0m*            \u001b[01;32mnfl17years_PST_clean.csv\u001b[0m*\r\n",
      "\u001b[01;32mdynamo_10H30.csv\u001b[0m*                 \u001b[01;32mrice_08_17_clean.csv\u001b[0m*\r\n",
      "\u001b[01;32mhou_nfl_1017_post.csv\u001b[0m*            \u001b[01;32mRice_10H80.csv\u001b[0m*\r\n",
      "\u001b[01;32mhou_nfl_1017_reg.csv\u001b[0m*             \u001b[01;32mrockets_1A10.csv\u001b[0m*\r\n",
      "\u001b[01;32mhou_rockets_08_17_clean.csv\u001b[0m*      \u001b[01;32mTex_15E40.csv\u001b[0m*\r\n",
      "\u001b[01;32mhou_rockets_10_17_plo_clean.csv\u001b[0m*  \u001b[01;32muh_08_17_clean.csv\u001b[0m*\r\n",
      "\u001b[01;32mhou_rockets_10_17_reg_clean.csv\u001b[0m*  \u001b[01;32mUH_10H50.csv\u001b[0m*\r\n"
     ]
    }
   ],
   "source": [
    "ls sports_data_clean"
   ]
  },
  {
   "cell_type": "code",
   "execution_count": 4,
   "metadata": {},
   "outputs": [],
   "source": [
    "# 1A10\n",
    "hou_reg = 'sports_data_clean/astros_10_17_reg_clean.csv'\n",
    "hou_pos = 'sports_data_clean/astros_10_17_plo_clean.csv'"
   ]
  },
  {
   "cell_type": "code",
   "execution_count": 5,
   "metadata": {},
   "outputs": [],
   "source": [
    "df_reg = pd.read_csv(hou_reg)\n",
    "df_pos = pd.read_csv(hou_pos)"
   ]
  },
  {
   "cell_type": "code",
   "execution_count": 6,
   "metadata": {},
   "outputs": [],
   "source": [
    "astros_home_reg = df_reg[df_reg.home_away =='HOME']"
   ]
  },
  {
   "cell_type": "code",
   "execution_count": 7,
   "metadata": {
    "scrolled": true
   },
   "outputs": [],
   "source": [
    "astros_home_pos = df_pos[df_pos.location == 'Minute Maid Park']"
   ]
  },
  {
   "cell_type": "code",
   "execution_count": 9,
   "metadata": {},
   "outputs": [
    {
     "data": {
      "text/html": [
       "<div>\n",
       "<style scoped>\n",
       "    .dataframe tbody tr th:only-of-type {\n",
       "        vertical-align: middle;\n",
       "    }\n",
       "\n",
       "    .dataframe tbody tr th {\n",
       "        vertical-align: top;\n",
       "    }\n",
       "\n",
       "    .dataframe thead th {\n",
       "        text-align: right;\n",
       "    }\n",
       "</style>\n",
       "<table border=\"1\" class=\"dataframe\">\n",
       "  <thead>\n",
       "    <tr style=\"text-align: right;\">\n",
       "      <th></th>\n",
       "      <th>date</th>\n",
       "      <th>team</th>\n",
       "      <th>team_score</th>\n",
       "      <th>home_away</th>\n",
       "      <th>opposing</th>\n",
       "      <th>opp_score</th>\n",
       "      <th>win_lost</th>\n",
       "      <th>attendance</th>\n",
       "      <th>season</th>\n",
       "    </tr>\n",
       "  </thead>\n",
       "  <tbody>\n",
       "    <tr>\n",
       "      <th>0</th>\n",
       "      <td>2010-04-05</td>\n",
       "      <td>HOU</td>\n",
       "      <td>2</td>\n",
       "      <td>HOME</td>\n",
       "      <td>SFG</td>\n",
       "      <td>5</td>\n",
       "      <td>L</td>\n",
       "      <td>43836.0</td>\n",
       "      <td>reg</td>\n",
       "    </tr>\n",
       "    <tr>\n",
       "      <th>1</th>\n",
       "      <td>2010-04-06</td>\n",
       "      <td>HOU</td>\n",
       "      <td>0</td>\n",
       "      <td>HOME</td>\n",
       "      <td>SFG</td>\n",
       "      <td>3</td>\n",
       "      <td>L</td>\n",
       "      <td>24237.0</td>\n",
       "      <td>reg</td>\n",
       "    </tr>\n",
       "    <tr>\n",
       "      <th>2</th>\n",
       "      <td>2010-04-07</td>\n",
       "      <td>HOU</td>\n",
       "      <td>4</td>\n",
       "      <td>HOME</td>\n",
       "      <td>SFG</td>\n",
       "      <td>10</td>\n",
       "      <td>L</td>\n",
       "      <td>21599.0</td>\n",
       "      <td>reg</td>\n",
       "    </tr>\n",
       "    <tr>\n",
       "      <th>3</th>\n",
       "      <td>2010-04-09</td>\n",
       "      <td>HOU</td>\n",
       "      <td>0</td>\n",
       "      <td>HOME</td>\n",
       "      <td>PHI</td>\n",
       "      <td>8</td>\n",
       "      <td>L</td>\n",
       "      <td>27288.0</td>\n",
       "      <td>reg</td>\n",
       "    </tr>\n",
       "    <tr>\n",
       "      <th>4</th>\n",
       "      <td>2010-04-10</td>\n",
       "      <td>HOU</td>\n",
       "      <td>6</td>\n",
       "      <td>HOME</td>\n",
       "      <td>PHI</td>\n",
       "      <td>9</td>\n",
       "      <td>L</td>\n",
       "      <td>35138.0</td>\n",
       "      <td>reg</td>\n",
       "    </tr>\n",
       "  </tbody>\n",
       "</table>\n",
       "</div>"
      ],
      "text/plain": [
       "         date team  team_score home_away opposing  opp_score win_lost  \\\n",
       "0  2010-04-05  HOU           2      HOME      SFG          5        L   \n",
       "1  2010-04-06  HOU           0      HOME      SFG          3        L   \n",
       "2  2010-04-07  HOU           4      HOME      SFG         10        L   \n",
       "3  2010-04-09  HOU           0      HOME      PHI          8        L   \n",
       "4  2010-04-10  HOU           6      HOME      PHI          9        L   \n",
       "\n",
       "   attendance season  \n",
       "0     43836.0    reg  \n",
       "1     24237.0    reg  \n",
       "2     21599.0    reg  \n",
       "3     27288.0    reg  \n",
       "4     35138.0    reg  "
      ]
     },
     "execution_count": 9,
     "metadata": {},
     "output_type": "execute_result"
    }
   ],
   "source": [
    "astros_home_reg.head()"
   ]
  },
  {
   "cell_type": "code",
   "execution_count": 11,
   "metadata": {},
   "outputs": [
    {
     "data": {
      "text/html": [
       "<div>\n",
       "<style scoped>\n",
       "    .dataframe tbody tr th:only-of-type {\n",
       "        vertical-align: middle;\n",
       "    }\n",
       "\n",
       "    .dataframe tbody tr th {\n",
       "        vertical-align: top;\n",
       "    }\n",
       "\n",
       "    .dataframe thead th {\n",
       "        text-align: right;\n",
       "    }\n",
       "</style>\n",
       "<table border=\"1\" class=\"dataframe\">\n",
       "  <thead>\n",
       "    <tr style=\"text-align: right;\">\n",
       "      <th></th>\n",
       "      <th>date</th>\n",
       "      <th>time</th>\n",
       "      <th>location</th>\n",
       "      <th>team_1</th>\n",
       "      <th>score_1</th>\n",
       "      <th>team_2</th>\n",
       "      <th>score_2</th>\n",
       "      <th>home_away</th>\n",
       "      <th>season</th>\n",
       "    </tr>\n",
       "  </thead>\n",
       "  <tbody>\n",
       "    <tr>\n",
       "      <th>3</th>\n",
       "      <td>2015-10-11</td>\n",
       "      <td>3:10</td>\n",
       "      <td>Minute Maid Park</td>\n",
       "      <td>Kansas City</td>\n",
       "      <td>2</td>\n",
       "      <td>Houston</td>\n",
       "      <td>4</td>\n",
       "      <td>HOME</td>\n",
       "      <td>plo</td>\n",
       "    </tr>\n",
       "    <tr>\n",
       "      <th>4</th>\n",
       "      <td>2015-10-12</td>\n",
       "      <td>12:07</td>\n",
       "      <td>Minute Maid Park</td>\n",
       "      <td>Kansas City</td>\n",
       "      <td>9</td>\n",
       "      <td>Houston</td>\n",
       "      <td>6</td>\n",
       "      <td>HOME</td>\n",
       "      <td>plo</td>\n",
       "    </tr>\n",
       "    <tr>\n",
       "      <th>7</th>\n",
       "      <td>2017-10-06</td>\n",
       "      <td>2pm</td>\n",
       "      <td>Minute Maid Park</td>\n",
       "      <td>Boston</td>\n",
       "      <td>2</td>\n",
       "      <td>Houston</td>\n",
       "      <td>8</td>\n",
       "      <td>HOME</td>\n",
       "      <td>plo</td>\n",
       "    </tr>\n",
       "    <tr>\n",
       "      <th>10</th>\n",
       "      <td>2017-10-13</td>\n",
       "      <td>8:00</td>\n",
       "      <td>Minute Maid Park</td>\n",
       "      <td>New York</td>\n",
       "      <td>1</td>\n",
       "      <td>Houston</td>\n",
       "      <td>2</td>\n",
       "      <td>HOME</td>\n",
       "      <td>plo</td>\n",
       "    </tr>\n",
       "    <tr>\n",
       "      <th>11</th>\n",
       "      <td>2017-10-14</td>\n",
       "      <td>4:00</td>\n",
       "      <td>Minute Maid Park</td>\n",
       "      <td>New York</td>\n",
       "      <td>1</td>\n",
       "      <td>Houston</td>\n",
       "      <td>2</td>\n",
       "      <td>HOME</td>\n",
       "      <td>plo</td>\n",
       "    </tr>\n",
       "  </tbody>\n",
       "</table>\n",
       "</div>"
      ],
      "text/plain": [
       "          date   time          location       team_1  score_1   team_2  \\\n",
       "3   2015-10-11   3:10  Minute Maid Park  Kansas City        2  Houston   \n",
       "4   2015-10-12  12:07  Minute Maid Park  Kansas City        9  Houston   \n",
       "7   2017-10-06    2pm  Minute Maid Park       Boston        2  Houston   \n",
       "10  2017-10-13  8:00   Minute Maid Park     New York        1  Houston   \n",
       "11  2017-10-14   4:00  Minute Maid Park     New York        1  Houston   \n",
       "\n",
       "    score_2 home_away season  \n",
       "3         4      HOME    plo  \n",
       "4         6      HOME    plo  \n",
       "7         8      HOME    plo  \n",
       "10        2      HOME    plo  \n",
       "11        2      HOME    plo  "
      ]
     },
     "execution_count": 11,
     "metadata": {},
     "output_type": "execute_result"
    }
   ],
   "source": [
    "astros_home_pos.head()"
   ]
  },
  {
   "cell_type": "code",
   "execution_count": 12,
   "metadata": {},
   "outputs": [
    {
     "name": "stderr",
     "output_type": "stream",
     "text": [
      "/home/frank/miniconda3/envs/springboard/lib/python3.6/site-packages/pandas/core/frame.py:3027: SettingWithCopyWarning: \n",
      "A value is trying to be set on a copy of a slice from a DataFrame\n",
      "\n",
      "See the caveats in the documentation: http://pandas.pydata.org/pandas-docs/stable/indexing.html#indexing-view-versus-copy\n",
      "  return super(DataFrame, self).rename(**kwargs)\n"
     ]
    }
   ],
   "source": [
    "astros_home_pos = astros_home_pos[['date','team_2','score_2','home_away','team_1','score_1','season']]\n",
    "\n",
    "\n",
    "\n",
    "astros_home_pos.rename(columns = {'team_2':'team','score_2':'team_score','team_1':'opposing','score_1':'opp_score'}, inplace=True)"
   ]
  },
  {
   "cell_type": "code",
   "execution_count": 14,
   "metadata": {},
   "outputs": [
    {
     "data": {
      "text/html": [
       "<div>\n",
       "<style scoped>\n",
       "    .dataframe tbody tr th:only-of-type {\n",
       "        vertical-align: middle;\n",
       "    }\n",
       "\n",
       "    .dataframe tbody tr th {\n",
       "        vertical-align: top;\n",
       "    }\n",
       "\n",
       "    .dataframe thead th {\n",
       "        text-align: right;\n",
       "    }\n",
       "</style>\n",
       "<table border=\"1\" class=\"dataframe\">\n",
       "  <thead>\n",
       "    <tr style=\"text-align: right;\">\n",
       "      <th></th>\n",
       "      <th>date</th>\n",
       "      <th>team</th>\n",
       "      <th>team_score</th>\n",
       "      <th>home_away</th>\n",
       "      <th>opposing</th>\n",
       "      <th>opp_score</th>\n",
       "      <th>season</th>\n",
       "    </tr>\n",
       "  </thead>\n",
       "  <tbody>\n",
       "    <tr>\n",
       "      <th>3</th>\n",
       "      <td>2015-10-11</td>\n",
       "      <td>Houston</td>\n",
       "      <td>4</td>\n",
       "      <td>HOME</td>\n",
       "      <td>Kansas City</td>\n",
       "      <td>2</td>\n",
       "      <td>plo</td>\n",
       "    </tr>\n",
       "    <tr>\n",
       "      <th>4</th>\n",
       "      <td>2015-10-12</td>\n",
       "      <td>Houston</td>\n",
       "      <td>6</td>\n",
       "      <td>HOME</td>\n",
       "      <td>Kansas City</td>\n",
       "      <td>9</td>\n",
       "      <td>plo</td>\n",
       "    </tr>\n",
       "    <tr>\n",
       "      <th>7</th>\n",
       "      <td>2017-10-06</td>\n",
       "      <td>Houston</td>\n",
       "      <td>8</td>\n",
       "      <td>HOME</td>\n",
       "      <td>Boston</td>\n",
       "      <td>2</td>\n",
       "      <td>plo</td>\n",
       "    </tr>\n",
       "    <tr>\n",
       "      <th>10</th>\n",
       "      <td>2017-10-13</td>\n",
       "      <td>Houston</td>\n",
       "      <td>2</td>\n",
       "      <td>HOME</td>\n",
       "      <td>New York</td>\n",
       "      <td>1</td>\n",
       "      <td>plo</td>\n",
       "    </tr>\n",
       "    <tr>\n",
       "      <th>11</th>\n",
       "      <td>2017-10-14</td>\n",
       "      <td>Houston</td>\n",
       "      <td>2</td>\n",
       "      <td>HOME</td>\n",
       "      <td>New York</td>\n",
       "      <td>1</td>\n",
       "      <td>plo</td>\n",
       "    </tr>\n",
       "  </tbody>\n",
       "</table>\n",
       "</div>"
      ],
      "text/plain": [
       "          date     team  team_score home_away     opposing  opp_score season\n",
       "3   2015-10-11  Houston           4      HOME  Kansas City          2    plo\n",
       "4   2015-10-12  Houston           6      HOME  Kansas City          9    plo\n",
       "7   2017-10-06  Houston           8      HOME       Boston          2    plo\n",
       "10  2017-10-13  Houston           2      HOME     New York          1    plo\n",
       "11  2017-10-14  Houston           2      HOME     New York          1    plo"
      ]
     },
     "execution_count": 14,
     "metadata": {},
     "output_type": "execute_result"
    }
   ],
   "source": [
    "astros_home_pos.head()"
   ]
  },
  {
   "cell_type": "code",
   "execution_count": 15,
   "metadata": {},
   "outputs": [],
   "source": [
    "astros_home_reg = astros_home_reg[['date','team','team_score','home_away','opposing','opp_score' ,'season']]"
   ]
  },
  {
   "cell_type": "code",
   "execution_count": 16,
   "metadata": {},
   "outputs": [
    {
     "name": "stdout",
     "output_type": "stream",
     "text": [
      "<class 'pandas.core.frame.DataFrame'>\n",
      "Int64Index: 648 entries, 0 to 1288\n",
      "Data columns (total 7 columns):\n",
      "date          648 non-null object\n",
      "team          648 non-null object\n",
      "team_score    648 non-null int64\n",
      "home_away     648 non-null object\n",
      "opposing      648 non-null object\n",
      "opp_score     648 non-null int64\n",
      "season        648 non-null object\n",
      "dtypes: int64(2), object(5)\n",
      "memory usage: 40.5+ KB\n"
     ]
    }
   ],
   "source": [
    "astros_home_reg.info()"
   ]
  },
  {
   "cell_type": "code",
   "execution_count": 17,
   "metadata": {},
   "outputs": [
    {
     "name": "stdout",
     "output_type": "stream",
     "text": [
      "<class 'pandas.core.frame.DataFrame'>\n",
      "Int64Index: 10 entries, 3 to 21\n",
      "Data columns (total 7 columns):\n",
      "date          10 non-null object\n",
      "team          10 non-null object\n",
      "team_score    10 non-null int64\n",
      "home_away     10 non-null object\n",
      "opposing      10 non-null object\n",
      "opp_score     10 non-null int64\n",
      "season        10 non-null object\n",
      "dtypes: int64(2), object(5)\n",
      "memory usage: 640.0+ bytes\n"
     ]
    }
   ],
   "source": [
    "astros_home_pos.info()"
   ]
  },
  {
   "cell_type": "markdown",
   "metadata": {},
   "source": [
    "# join dataframes"
   ]
  },
  {
   "cell_type": "code",
   "execution_count": 18,
   "metadata": {},
   "outputs": [],
   "source": [
    "frames = [astros_home_pos,astros_home_reg]\n",
    "astros = pd.concat(frames)"
   ]
  },
  {
   "cell_type": "code",
   "execution_count": 19,
   "metadata": {},
   "outputs": [],
   "source": [
    "#beat_1A10_Astros"
   ]
  },
  {
   "cell_type": "code",
   "execution_count": 20,
   "metadata": {},
   "outputs": [],
   "source": [
    "astros['beat'] = '1A10'"
   ]
  },
  {
   "cell_type": "code",
   "execution_count": 21,
   "metadata": {},
   "outputs": [
    {
     "data": {
      "text/html": [
       "<div>\n",
       "<style scoped>\n",
       "    .dataframe tbody tr th:only-of-type {\n",
       "        vertical-align: middle;\n",
       "    }\n",
       "\n",
       "    .dataframe tbody tr th {\n",
       "        vertical-align: top;\n",
       "    }\n",
       "\n",
       "    .dataframe thead th {\n",
       "        text-align: right;\n",
       "    }\n",
       "</style>\n",
       "<table border=\"1\" class=\"dataframe\">\n",
       "  <thead>\n",
       "    <tr style=\"text-align: right;\">\n",
       "      <th></th>\n",
       "      <th>date</th>\n",
       "      <th>team</th>\n",
       "      <th>team_score</th>\n",
       "      <th>home_away</th>\n",
       "      <th>opposing</th>\n",
       "      <th>opp_score</th>\n",
       "      <th>season</th>\n",
       "      <th>beat</th>\n",
       "    </tr>\n",
       "  </thead>\n",
       "  <tbody>\n",
       "    <tr>\n",
       "      <th>3</th>\n",
       "      <td>2015-10-11</td>\n",
       "      <td>Houston</td>\n",
       "      <td>4</td>\n",
       "      <td>HOME</td>\n",
       "      <td>Kansas City</td>\n",
       "      <td>2</td>\n",
       "      <td>plo</td>\n",
       "      <td>1A10</td>\n",
       "    </tr>\n",
       "    <tr>\n",
       "      <th>4</th>\n",
       "      <td>2015-10-12</td>\n",
       "      <td>Houston</td>\n",
       "      <td>6</td>\n",
       "      <td>HOME</td>\n",
       "      <td>Kansas City</td>\n",
       "      <td>9</td>\n",
       "      <td>plo</td>\n",
       "      <td>1A10</td>\n",
       "    </tr>\n",
       "    <tr>\n",
       "      <th>7</th>\n",
       "      <td>2017-10-06</td>\n",
       "      <td>Houston</td>\n",
       "      <td>8</td>\n",
       "      <td>HOME</td>\n",
       "      <td>Boston</td>\n",
       "      <td>2</td>\n",
       "      <td>plo</td>\n",
       "      <td>1A10</td>\n",
       "    </tr>\n",
       "    <tr>\n",
       "      <th>10</th>\n",
       "      <td>2017-10-13</td>\n",
       "      <td>Houston</td>\n",
       "      <td>2</td>\n",
       "      <td>HOME</td>\n",
       "      <td>New York</td>\n",
       "      <td>1</td>\n",
       "      <td>plo</td>\n",
       "      <td>1A10</td>\n",
       "    </tr>\n",
       "    <tr>\n",
       "      <th>11</th>\n",
       "      <td>2017-10-14</td>\n",
       "      <td>Houston</td>\n",
       "      <td>2</td>\n",
       "      <td>HOME</td>\n",
       "      <td>New York</td>\n",
       "      <td>1</td>\n",
       "      <td>plo</td>\n",
       "      <td>1A10</td>\n",
       "    </tr>\n",
       "  </tbody>\n",
       "</table>\n",
       "</div>"
      ],
      "text/plain": [
       "          date     team  team_score home_away     opposing  opp_score season  \\\n",
       "3   2015-10-11  Houston           4      HOME  Kansas City          2    plo   \n",
       "4   2015-10-12  Houston           6      HOME  Kansas City          9    plo   \n",
       "7   2017-10-06  Houston           8      HOME       Boston          2    plo   \n",
       "10  2017-10-13  Houston           2      HOME     New York          1    plo   \n",
       "11  2017-10-14  Houston           2      HOME     New York          1    plo   \n",
       "\n",
       "    beat  \n",
       "3   1A10  \n",
       "4   1A10  \n",
       "7   1A10  \n",
       "10  1A10  \n",
       "11  1A10  "
      ]
     },
     "execution_count": 21,
     "metadata": {},
     "output_type": "execute_result"
    }
   ],
   "source": [
    "astros.head()"
   ]
  },
  {
   "cell_type": "code",
   "execution_count": 22,
   "metadata": {},
   "outputs": [],
   "source": [
    "astros.to_csv('sports_data_clean/astros_1A10.csv')"
   ]
  },
  {
   "cell_type": "code",
   "execution_count": 23,
   "metadata": {},
   "outputs": [
    {
     "name": "stdout",
     "output_type": "stream",
     "text": [
      "\u001b[0m\u001b[01;32mastros_10_17_plo_clean.csv\u001b[0m*       \u001b[01;32mnfl_08_17_clean.csv\u001b[0m*\r\n",
      "\u001b[01;32mastros_10_17_reg_clean.csv\u001b[0m*       \u001b[01;32mnfl10clean.csv\u001b[0m*\r\n",
      "\u001b[01;32mastros_1A10.csv\u001b[0m*                  \u001b[01;32mnfl10yearsfull.csv\u001b[0m*\r\n",
      "\u001b[01;32mdynamo_10_17_plo.csv\u001b[0m*             \u001b[01;32mnfl17years_clean.csv\u001b[0m*\r\n",
      "\u001b[01;32mdynamo_10_17__reg.csv\u001b[0m*            \u001b[01;32mnfl17years_PST_clean.csv\u001b[0m*\r\n",
      "\u001b[01;32mdynamo_10H30.csv\u001b[0m*                 \u001b[01;32mrice_08_17_clean.csv\u001b[0m*\r\n",
      "\u001b[01;32mhou_nfl_1017_post.csv\u001b[0m*            \u001b[01;32mRice_10H80.csv\u001b[0m*\r\n",
      "\u001b[01;32mhou_nfl_1017_reg.csv\u001b[0m*             \u001b[01;32mrockets_1A10.csv\u001b[0m*\r\n",
      "\u001b[01;32mhou_rockets_08_17_clean.csv\u001b[0m*      \u001b[01;32mTex_15E40.csv\u001b[0m*\r\n",
      "\u001b[01;32mhou_rockets_10_17_plo_clean.csv\u001b[0m*  \u001b[01;32muh_08_17_clean.csv\u001b[0m*\r\n",
      "\u001b[01;32mhou_rockets_10_17_reg_clean.csv\u001b[0m*  \u001b[01;32mUH_10H50.csv\u001b[0m*\r\n"
     ]
    }
   ],
   "source": [
    "ls sports_data_clean/"
   ]
  },
  {
   "cell_type": "code",
   "execution_count": null,
   "metadata": {},
   "outputs": [],
   "source": []
  }
 ],
 "metadata": {
  "kernelspec": {
   "display_name": "Python 3",
   "language": "python",
   "name": "python3"
  },
  "language_info": {
   "codemirror_mode": {
    "name": "ipython",
    "version": 3
   },
   "file_extension": ".py",
   "mimetype": "text/x-python",
   "name": "python",
   "nbconvert_exporter": "python",
   "pygments_lexer": "ipython3",
   "version": "3.6.4"
  }
 },
 "nbformat": 4,
 "nbformat_minor": 2
}
