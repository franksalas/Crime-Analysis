{
 "cells": [
  {
   "cell_type": "code",
   "execution_count": 1,
   "metadata": {},
   "outputs": [],
   "source": [
    "import pandas as pd\n",
    "import numpy as np\n",
    "import datetime as dt"
   ]
  },
  {
   "cell_type": "code",
   "execution_count": 2,
   "metadata": {},
   "outputs": [
    {
     "name": "stdout",
     "output_type": "stream",
     "text": [
      "\u001b[0m\u001b[01;32mastros_1A10.csv\u001b[0m*   \u001b[01;32mRice_10H80.csv\u001b[0m*    \u001b[01;32mTex_15E40.csv\u001b[0m*\r\n",
      "\u001b[01;32mdynamo_10H30.csv\u001b[0m*  \u001b[01;32mrockets_1A10.csv\u001b[0m*  \u001b[01;32mUH_10H50.csv\u001b[0m*\r\n"
     ]
    }
   ],
   "source": [
    "ls data/sports_scores/"
   ]
  },
  {
   "cell_type": "code",
   "execution_count": 3,
   "metadata": {},
   "outputs": [
    {
     "name": "stdout",
     "output_type": "stream",
     "text": [
      "\u001b[0m\u001b[01;32mcrime_10H30_10_17.csv\u001b[0m*  \u001b[01;32mcrime_10H80_10_17.csv\u001b[0m*  \u001b[01;32mcrime_1A10_10_17.csv\u001b[0m*\r\n",
      "\u001b[01;32mcrime_10H50_10_17.csv\u001b[0m*  \u001b[01;32mcrime_15E40_10_17.csv\u001b[0m*\r\n"
     ]
    }
   ],
   "source": [
    "ls data/crime_beat/"
   ]
  },
  {
   "cell_type": "code",
   "execution_count": 4,
   "metadata": {},
   "outputs": [],
   "source": [
    "games = 'data/sports_scores/rockets_1A10.csv'\n",
    "crime = 'data/crime_beat/crime_1A10_10_17.csv'"
   ]
  },
  {
   "cell_type": "markdown",
   "metadata": {},
   "source": [
    "# scores df"
   ]
  },
  {
   "cell_type": "code",
   "execution_count": 5,
   "metadata": {},
   "outputs": [
    {
     "data": {
      "text/html": [
       "<div>\n",
       "<style scoped>\n",
       "    .dataframe tbody tr th:only-of-type {\n",
       "        vertical-align: middle;\n",
       "    }\n",
       "\n",
       "    .dataframe tbody tr th {\n",
       "        vertical-align: top;\n",
       "    }\n",
       "\n",
       "    .dataframe thead th {\n",
       "        text-align: right;\n",
       "    }\n",
       "</style>\n",
       "<table border=\"1\" class=\"dataframe\">\n",
       "  <thead>\n",
       "    <tr style=\"text-align: right;\">\n",
       "      <th></th>\n",
       "      <th>win</th>\n",
       "      <th>beat</th>\n",
       "    </tr>\n",
       "    <tr>\n",
       "      <th>Date</th>\n",
       "      <th></th>\n",
       "      <th></th>\n",
       "    </tr>\n",
       "  </thead>\n",
       "  <tbody>\n",
       "    <tr>\n",
       "      <th>2009-10-31</th>\n",
       "      <td>1</td>\n",
       "      <td>1A10</td>\n",
       "    </tr>\n",
       "    <tr>\n",
       "      <th>2009-11-04</th>\n",
       "      <td>0</td>\n",
       "      <td>1A10</td>\n",
       "    </tr>\n",
       "    <tr>\n",
       "      <th>2009-11-06</th>\n",
       "      <td>1</td>\n",
       "      <td>1A10</td>\n",
       "    </tr>\n",
       "    <tr>\n",
       "      <th>2009-11-11</th>\n",
       "      <td>1</td>\n",
       "      <td>1A10</td>\n",
       "    </tr>\n",
       "    <tr>\n",
       "      <th>2009-11-17</th>\n",
       "      <td>0</td>\n",
       "      <td>1A10</td>\n",
       "    </tr>\n",
       "  </tbody>\n",
       "</table>\n",
       "</div>"
      ],
      "text/plain": [
       "            win  beat\n",
       "Date                 \n",
       "2009-10-31    1  1A10\n",
       "2009-11-04    0  1A10\n",
       "2009-11-06    1  1A10\n",
       "2009-11-11    1  1A10\n",
       "2009-11-17    0  1A10"
      ]
     },
     "execution_count": 5,
     "metadata": {},
     "output_type": "execute_result"
    }
   ],
   "source": [
    "df = pd.read_csv(games,index_col='Date').sort_index(ascending=True)\n",
    "\n",
    "## win column\n",
    "df['win'] =  np.where(df['Team_score'] > df['Opponent_score'],1,0)\n",
    "\n",
    "# only oposing name and win boolean\n",
    "df = df[['win','beat']]\n",
    "\n",
    "# show\n",
    "\n",
    "df.head()"
   ]
  },
  {
   "cell_type": "code",
   "execution_count": 6,
   "metadata": {},
   "outputs": [
    {
     "name": "stdout",
     "output_type": "stream",
     "text": [
      "<class 'pandas.core.frame.DataFrame'>\n",
      "Index: 343 entries, 2009-10-31 to 2017-05-11\n",
      "Data columns (total 2 columns):\n",
      "win     343 non-null int64\n",
      "beat    343 non-null object\n",
      "dtypes: int64(1), object(1)\n",
      "memory usage: 8.0+ KB\n"
     ]
    }
   ],
   "source": [
    "df.info()"
   ]
  },
  {
   "cell_type": "markdown",
   "metadata": {},
   "source": [
    "# Crime df"
   ]
  },
  {
   "cell_type": "code",
   "execution_count": 7,
   "metadata": {},
   "outputs": [],
   "source": [
    "crime_df = pd.read_csv(crime).sort_index(ascending=True)\n",
    "\n",
    "crime_df['Date_Hour'] = pd.to_datetime(crime_df['Date_Hour'])\n",
    "crime_df['Date_Hour'] = crime_df['Date_Hour'].dt.date\n",
    "\n",
    "crime_df = crime_df.set_index('Date_Hour')\n",
    "\n",
    "\n",
    "# selectd columns\n",
    "crime_df = crime_df[['OffenseType','Beat','Hour']]\n",
    "\n",
    "# # count Offense type given date\n",
    "# date_crimes = crime_df.groupby(crime_df.index)['OffenseType',].count()\n",
    "\n",
    "# ## show\n",
    "# date_crimes.head()"
   ]
  },
  {
   "cell_type": "code",
   "execution_count": 8,
   "metadata": {},
   "outputs": [],
   "source": [
    "crime_df = pd.get_dummies(crime_df)"
   ]
  },
  {
   "cell_type": "code",
   "execution_count": 9,
   "metadata": {},
   "outputs": [
    {
     "data": {
      "text/html": [
       "<div>\n",
       "<style scoped>\n",
       "    .dataframe tbody tr th:only-of-type {\n",
       "        vertical-align: middle;\n",
       "    }\n",
       "\n",
       "    .dataframe tbody tr th {\n",
       "        vertical-align: top;\n",
       "    }\n",
       "\n",
       "    .dataframe thead th {\n",
       "        text-align: right;\n",
       "    }\n",
       "</style>\n",
       "<table border=\"1\" class=\"dataframe\">\n",
       "  <thead>\n",
       "    <tr style=\"text-align: right;\">\n",
       "      <th></th>\n",
       "      <th>Hour</th>\n",
       "      <th>OffenseType_Aggravated Assault</th>\n",
       "      <th>OffenseType_Auto Theft</th>\n",
       "      <th>OffenseType_Burglary</th>\n",
       "      <th>OffenseType_Murder</th>\n",
       "      <th>OffenseType_Rape</th>\n",
       "      <th>OffenseType_Robbery</th>\n",
       "      <th>OffenseType_Theft</th>\n",
       "      <th>Beat_1A10</th>\n",
       "    </tr>\n",
       "    <tr>\n",
       "      <th>Date_Hour</th>\n",
       "      <th></th>\n",
       "      <th></th>\n",
       "      <th></th>\n",
       "      <th></th>\n",
       "      <th></th>\n",
       "      <th></th>\n",
       "      <th></th>\n",
       "      <th></th>\n",
       "      <th></th>\n",
       "    </tr>\n",
       "  </thead>\n",
       "  <tbody>\n",
       "    <tr>\n",
       "      <th>2010-01-01</th>\n",
       "      <td>0</td>\n",
       "      <td>0</td>\n",
       "      <td>1</td>\n",
       "      <td>0</td>\n",
       "      <td>0</td>\n",
       "      <td>0</td>\n",
       "      <td>0</td>\n",
       "      <td>0</td>\n",
       "      <td>1</td>\n",
       "    </tr>\n",
       "    <tr>\n",
       "      <th>2010-01-01</th>\n",
       "      <td>0</td>\n",
       "      <td>0</td>\n",
       "      <td>0</td>\n",
       "      <td>0</td>\n",
       "      <td>0</td>\n",
       "      <td>0</td>\n",
       "      <td>0</td>\n",
       "      <td>1</td>\n",
       "      <td>1</td>\n",
       "    </tr>\n",
       "    <tr>\n",
       "      <th>2010-01-01</th>\n",
       "      <td>0</td>\n",
       "      <td>0</td>\n",
       "      <td>0</td>\n",
       "      <td>1</td>\n",
       "      <td>0</td>\n",
       "      <td>0</td>\n",
       "      <td>0</td>\n",
       "      <td>0</td>\n",
       "      <td>1</td>\n",
       "    </tr>\n",
       "    <tr>\n",
       "      <th>2010-01-01</th>\n",
       "      <td>0</td>\n",
       "      <td>0</td>\n",
       "      <td>0</td>\n",
       "      <td>0</td>\n",
       "      <td>0</td>\n",
       "      <td>0</td>\n",
       "      <td>0</td>\n",
       "      <td>1</td>\n",
       "      <td>1</td>\n",
       "    </tr>\n",
       "    <tr>\n",
       "      <th>2010-01-01</th>\n",
       "      <td>0</td>\n",
       "      <td>0</td>\n",
       "      <td>0</td>\n",
       "      <td>0</td>\n",
       "      <td>0</td>\n",
       "      <td>0</td>\n",
       "      <td>0</td>\n",
       "      <td>1</td>\n",
       "      <td>1</td>\n",
       "    </tr>\n",
       "  </tbody>\n",
       "</table>\n",
       "</div>"
      ],
      "text/plain": [
       "            Hour  OffenseType_Aggravated Assault  OffenseType_Auto Theft  \\\n",
       "Date_Hour                                                                  \n",
       "2010-01-01     0                               0                       1   \n",
       "2010-01-01     0                               0                       0   \n",
       "2010-01-01     0                               0                       0   \n",
       "2010-01-01     0                               0                       0   \n",
       "2010-01-01     0                               0                       0   \n",
       "\n",
       "            OffenseType_Burglary  OffenseType_Murder  OffenseType_Rape  \\\n",
       "Date_Hour                                                                \n",
       "2010-01-01                     0                   0                 0   \n",
       "2010-01-01                     0                   0                 0   \n",
       "2010-01-01                     1                   0                 0   \n",
       "2010-01-01                     0                   0                 0   \n",
       "2010-01-01                     0                   0                 0   \n",
       "\n",
       "            OffenseType_Robbery  OffenseType_Theft  Beat_1A10  \n",
       "Date_Hour                                                      \n",
       "2010-01-01                    0                  0          1  \n",
       "2010-01-01                    0                  1          1  \n",
       "2010-01-01                    0                  0          1  \n",
       "2010-01-01                    0                  1          1  \n",
       "2010-01-01                    0                  1          1  "
      ]
     },
     "execution_count": 9,
     "metadata": {},
     "output_type": "execute_result"
    }
   ],
   "source": [
    "crime_df.head()"
   ]
  },
  {
   "cell_type": "code",
   "execution_count": 10,
   "metadata": {},
   "outputs": [
    {
     "name": "stdout",
     "output_type": "stream",
     "text": [
      "<class 'pandas.core.frame.DataFrame'>\n",
      "Index: 15204 entries, 2010-01-01 to 2017-12-31\n",
      "Data columns (total 9 columns):\n",
      "Hour                              15204 non-null int64\n",
      "OffenseType_Aggravated Assault    15204 non-null uint8\n",
      "OffenseType_Auto Theft            15204 non-null uint8\n",
      "OffenseType_Burglary              15204 non-null uint8\n",
      "OffenseType_Murder                15204 non-null uint8\n",
      "OffenseType_Rape                  15204 non-null uint8\n",
      "OffenseType_Robbery               15204 non-null uint8\n",
      "OffenseType_Theft                 15204 non-null uint8\n",
      "Beat_1A10                         15204 non-null uint8\n",
      "dtypes: int64(1), uint8(8)\n",
      "memory usage: 356.3+ KB\n"
     ]
    }
   ],
   "source": [
    "crime_df.info()"
   ]
  },
  {
   "cell_type": "markdown",
   "metadata": {},
   "source": [
    "# Days Df\n",
    "- create a df with everyday timestamp from Jan 2010 to Dec 2017"
   ]
  },
  {
   "cell_type": "code",
   "execution_count": 11,
   "metadata": {},
   "outputs": [
    {
     "data": {
      "text/html": [
       "<div>\n",
       "<style scoped>\n",
       "    .dataframe tbody tr th:only-of-type {\n",
       "        vertical-align: middle;\n",
       "    }\n",
       "\n",
       "    .dataframe tbody tr th {\n",
       "        vertical-align: top;\n",
       "    }\n",
       "\n",
       "    .dataframe thead th {\n",
       "        text-align: right;\n",
       "    }\n",
       "</style>\n",
       "<table border=\"1\" class=\"dataframe\">\n",
       "  <thead>\n",
       "    <tr style=\"text-align: right;\">\n",
       "      <th></th>\n",
       "    </tr>\n",
       "    <tr>\n",
       "      <th>days</th>\n",
       "    </tr>\n",
       "  </thead>\n",
       "  <tbody>\n",
       "    <tr>\n",
       "      <th>2010-01-01</th>\n",
       "    </tr>\n",
       "    <tr>\n",
       "      <th>2010-01-02</th>\n",
       "    </tr>\n",
       "    <tr>\n",
       "      <th>2010-01-03</th>\n",
       "    </tr>\n",
       "    <tr>\n",
       "      <th>2010-01-04</th>\n",
       "    </tr>\n",
       "    <tr>\n",
       "      <th>2010-01-05</th>\n",
       "    </tr>\n",
       "  </tbody>\n",
       "</table>\n",
       "</div>"
      ],
      "text/plain": [
       "Empty DataFrame\n",
       "Columns: []\n",
       "Index: [2010-01-01 00:00:00, 2010-01-02 00:00:00, 2010-01-03 00:00:00, 2010-01-04 00:00:00, 2010-01-05 00:00:00]"
      ]
     },
     "execution_count": 11,
     "metadata": {},
     "output_type": "execute_result"
    }
   ],
   "source": [
    "days = pd.date_range(start='01/01/2010', end='12/31/2017')\n",
    "days = pd.DataFrame(days)\n",
    "\n",
    "days.columns = ['days']\n",
    "days = days.set_index('days').sort_index(ascending=True)\n",
    "days.head()"
   ]
  },
  {
   "cell_type": "code",
   "execution_count": 12,
   "metadata": {},
   "outputs": [
    {
     "data": {
      "text/plain": [
       "2920"
      ]
     },
     "execution_count": 12,
     "metadata": {},
     "output_type": "execute_result"
    }
   ],
   "source": [
    "365 * 8"
   ]
  },
  {
   "cell_type": "code",
   "execution_count": 13,
   "metadata": {},
   "outputs": [
    {
     "data": {
      "text/plain": [
       "8.005479452054795"
      ]
     },
     "execution_count": 13,
     "metadata": {},
     "output_type": "execute_result"
    }
   ],
   "source": [
    "len(days)/365"
   ]
  },
  {
   "cell_type": "code",
   "execution_count": 14,
   "metadata": {},
   "outputs": [
    {
     "data": {
      "text/html": [
       "<div>\n",
       "<style scoped>\n",
       "    .dataframe tbody tr th:only-of-type {\n",
       "        vertical-align: middle;\n",
       "    }\n",
       "\n",
       "    .dataframe tbody tr th {\n",
       "        vertical-align: top;\n",
       "    }\n",
       "\n",
       "    .dataframe thead th {\n",
       "        text-align: right;\n",
       "    }\n",
       "</style>\n",
       "<table border=\"1\" class=\"dataframe\">\n",
       "  <thead>\n",
       "    <tr style=\"text-align: right;\">\n",
       "      <th></th>\n",
       "    </tr>\n",
       "    <tr>\n",
       "      <th>days</th>\n",
       "    </tr>\n",
       "  </thead>\n",
       "  <tbody>\n",
       "    <tr>\n",
       "      <th>2017-12-27</th>\n",
       "    </tr>\n",
       "    <tr>\n",
       "      <th>2017-12-28</th>\n",
       "    </tr>\n",
       "    <tr>\n",
       "      <th>2017-12-29</th>\n",
       "    </tr>\n",
       "    <tr>\n",
       "      <th>2017-12-30</th>\n",
       "    </tr>\n",
       "    <tr>\n",
       "      <th>2017-12-31</th>\n",
       "    </tr>\n",
       "  </tbody>\n",
       "</table>\n",
       "</div>"
      ],
      "text/plain": [
       "Empty DataFrame\n",
       "Columns: []\n",
       "Index: [2017-12-27 00:00:00, 2017-12-28 00:00:00, 2017-12-29 00:00:00, 2017-12-30 00:00:00, 2017-12-31 00:00:00]"
      ]
     },
     "execution_count": 14,
     "metadata": {},
     "output_type": "execute_result"
    }
   ],
   "source": [
    "days.tail()"
   ]
  },
  {
   "cell_type": "markdown",
   "metadata": {},
   "source": [
    "# Merge days df with crimes_df"
   ]
  },
  {
   "cell_type": "code",
   "execution_count": 15,
   "metadata": {},
   "outputs": [
    {
     "data": {
      "text/html": [
       "<div>\n",
       "<style scoped>\n",
       "    .dataframe tbody tr th:only-of-type {\n",
       "        vertical-align: middle;\n",
       "    }\n",
       "\n",
       "    .dataframe tbody tr th {\n",
       "        vertical-align: top;\n",
       "    }\n",
       "\n",
       "    .dataframe thead th {\n",
       "        text-align: right;\n",
       "    }\n",
       "</style>\n",
       "<table border=\"1\" class=\"dataframe\">\n",
       "  <thead>\n",
       "    <tr style=\"text-align: right;\">\n",
       "      <th></th>\n",
       "      <th>Hour</th>\n",
       "      <th>OffenseType_Aggravated Assault</th>\n",
       "      <th>OffenseType_Auto Theft</th>\n",
       "      <th>OffenseType_Burglary</th>\n",
       "      <th>OffenseType_Murder</th>\n",
       "      <th>OffenseType_Rape</th>\n",
       "      <th>OffenseType_Robbery</th>\n",
       "      <th>OffenseType_Theft</th>\n",
       "      <th>Beat_1A10</th>\n",
       "    </tr>\n",
       "  </thead>\n",
       "  <tbody>\n",
       "    <tr>\n",
       "      <th>2010-01-01</th>\n",
       "      <td>0.0</td>\n",
       "      <td>0.0</td>\n",
       "      <td>1.0</td>\n",
       "      <td>0.0</td>\n",
       "      <td>0.0</td>\n",
       "      <td>0.0</td>\n",
       "      <td>0.0</td>\n",
       "      <td>0.0</td>\n",
       "      <td>1.0</td>\n",
       "    </tr>\n",
       "    <tr>\n",
       "      <th>2010-01-01</th>\n",
       "      <td>0.0</td>\n",
       "      <td>0.0</td>\n",
       "      <td>0.0</td>\n",
       "      <td>0.0</td>\n",
       "      <td>0.0</td>\n",
       "      <td>0.0</td>\n",
       "      <td>0.0</td>\n",
       "      <td>1.0</td>\n",
       "      <td>1.0</td>\n",
       "    </tr>\n",
       "    <tr>\n",
       "      <th>2010-01-01</th>\n",
       "      <td>0.0</td>\n",
       "      <td>0.0</td>\n",
       "      <td>0.0</td>\n",
       "      <td>1.0</td>\n",
       "      <td>0.0</td>\n",
       "      <td>0.0</td>\n",
       "      <td>0.0</td>\n",
       "      <td>0.0</td>\n",
       "      <td>1.0</td>\n",
       "    </tr>\n",
       "    <tr>\n",
       "      <th>2010-01-01</th>\n",
       "      <td>0.0</td>\n",
       "      <td>0.0</td>\n",
       "      <td>0.0</td>\n",
       "      <td>0.0</td>\n",
       "      <td>0.0</td>\n",
       "      <td>0.0</td>\n",
       "      <td>0.0</td>\n",
       "      <td>1.0</td>\n",
       "      <td>1.0</td>\n",
       "    </tr>\n",
       "    <tr>\n",
       "      <th>2010-01-01</th>\n",
       "      <td>0.0</td>\n",
       "      <td>0.0</td>\n",
       "      <td>0.0</td>\n",
       "      <td>0.0</td>\n",
       "      <td>0.0</td>\n",
       "      <td>0.0</td>\n",
       "      <td>0.0</td>\n",
       "      <td>1.0</td>\n",
       "      <td>1.0</td>\n",
       "    </tr>\n",
       "  </tbody>\n",
       "</table>\n",
       "</div>"
      ],
      "text/plain": [
       "            Hour  OffenseType_Aggravated Assault  OffenseType_Auto Theft  \\\n",
       "2010-01-01   0.0                             0.0                     1.0   \n",
       "2010-01-01   0.0                             0.0                     0.0   \n",
       "2010-01-01   0.0                             0.0                     0.0   \n",
       "2010-01-01   0.0                             0.0                     0.0   \n",
       "2010-01-01   0.0                             0.0                     0.0   \n",
       "\n",
       "            OffenseType_Burglary  OffenseType_Murder  OffenseType_Rape  \\\n",
       "2010-01-01                   0.0                 0.0               0.0   \n",
       "2010-01-01                   0.0                 0.0               0.0   \n",
       "2010-01-01                   1.0                 0.0               0.0   \n",
       "2010-01-01                   0.0                 0.0               0.0   \n",
       "2010-01-01                   0.0                 0.0               0.0   \n",
       "\n",
       "            OffenseType_Robbery  OffenseType_Theft  Beat_1A10  \n",
       "2010-01-01                  0.0                0.0        1.0  \n",
       "2010-01-01                  0.0                1.0        1.0  \n",
       "2010-01-01                  0.0                0.0        1.0  \n",
       "2010-01-01                  0.0                1.0        1.0  \n",
       "2010-01-01                  0.0                1.0        1.0  "
      ]
     },
     "execution_count": 15,
     "metadata": {},
     "output_type": "execute_result"
    }
   ],
   "source": [
    "# calendar_crimes = pd.merge(days,date_crimes,  left_index=True, right_index=True, how='left')\n",
    "# calendar_crimes.head()\n",
    "calendar_crimes = pd.merge(days,crime_df,  left_index=True, right_index=True, how='left')\n",
    "calendar_crimes.head()"
   ]
  },
  {
   "cell_type": "code",
   "execution_count": 16,
   "metadata": {},
   "outputs": [
    {
     "name": "stdout",
     "output_type": "stream",
     "text": [
      "<class 'pandas.core.frame.DataFrame'>\n",
      "DatetimeIndex: 15235 entries, 2010-01-01 to 2017-12-31\n",
      "Data columns (total 9 columns):\n",
      "Hour                              15204 non-null float64\n",
      "OffenseType_Aggravated Assault    15204 non-null float64\n",
      "OffenseType_Auto Theft            15204 non-null float64\n",
      "OffenseType_Burglary              15204 non-null float64\n",
      "OffenseType_Murder                15204 non-null float64\n",
      "OffenseType_Rape                  15204 non-null float64\n",
      "OffenseType_Robbery               15204 non-null float64\n",
      "OffenseType_Theft                 15204 non-null float64\n",
      "Beat_1A10                         15204 non-null float64\n",
      "dtypes: float64(9)\n",
      "memory usage: 1.2 MB\n"
     ]
    }
   ],
   "source": [
    "calendar_crimes.info()"
   ]
  },
  {
   "cell_type": "code",
   "execution_count": null,
   "metadata": {},
   "outputs": [],
   "source": [
    "len(calendar_crimes[calendar_crimes.Hour.isnull()])"
   ]
  },
  {
   "cell_type": "code",
   "execution_count": null,
   "metadata": {},
   "outputs": [],
   "source": [
    "calendar_crimes[calendar_crimes.Hour.isnull()][:10]"
   ]
  },
  {
   "cell_type": "code",
   "execution_count": null,
   "metadata": {},
   "outputs": [],
   "source": [
    "calendar_crimes.OffenseType.value_counts(dropna=False)"
   ]
  },
  {
   "cell_type": "markdown",
   "metadata": {},
   "source": [
    "## Change nans with 0"
   ]
  },
  {
   "cell_type": "code",
   "execution_count": null,
   "metadata": {},
   "outputs": [],
   "source": [
    "calendar_crimes.OffenseType.replace( np.nan,0, inplace=True)"
   ]
  },
  {
   "cell_type": "code",
   "execution_count": null,
   "metadata": {},
   "outputs": [],
   "source": [
    "calendar_crimes.OffenseType.value_counts(dropna=False)"
   ]
  },
  {
   "cell_type": "code",
   "execution_count": null,
   "metadata": {},
   "outputs": [],
   "source": []
  },
  {
   "cell_type": "markdown",
   "metadata": {},
   "source": [
    "# merge calendar_crimes with score"
   ]
  },
  {
   "cell_type": "code",
   "execution_count": 17,
   "metadata": {},
   "outputs": [
    {
     "data": {
      "text/html": [
       "<div>\n",
       "<style scoped>\n",
       "    .dataframe tbody tr th:only-of-type {\n",
       "        vertical-align: middle;\n",
       "    }\n",
       "\n",
       "    .dataframe tbody tr th {\n",
       "        vertical-align: top;\n",
       "    }\n",
       "\n",
       "    .dataframe thead th {\n",
       "        text-align: right;\n",
       "    }\n",
       "</style>\n",
       "<table border=\"1\" class=\"dataframe\">\n",
       "  <thead>\n",
       "    <tr style=\"text-align: right;\">\n",
       "      <th></th>\n",
       "      <th>Hour</th>\n",
       "      <th>OffenseType_Aggravated Assault</th>\n",
       "      <th>OffenseType_Auto Theft</th>\n",
       "      <th>OffenseType_Burglary</th>\n",
       "      <th>OffenseType_Murder</th>\n",
       "      <th>OffenseType_Rape</th>\n",
       "      <th>OffenseType_Robbery</th>\n",
       "      <th>OffenseType_Theft</th>\n",
       "      <th>Beat_1A10</th>\n",
       "      <th>win</th>\n",
       "      <th>beat</th>\n",
       "    </tr>\n",
       "  </thead>\n",
       "  <tbody>\n",
       "    <tr>\n",
       "      <th>2010-01-01</th>\n",
       "      <td>0.0</td>\n",
       "      <td>0.0</td>\n",
       "      <td>1.0</td>\n",
       "      <td>0.0</td>\n",
       "      <td>0.0</td>\n",
       "      <td>0.0</td>\n",
       "      <td>0.0</td>\n",
       "      <td>0.0</td>\n",
       "      <td>1.0</td>\n",
       "      <td>NaN</td>\n",
       "      <td>NaN</td>\n",
       "    </tr>\n",
       "    <tr>\n",
       "      <th>2010-01-01</th>\n",
       "      <td>0.0</td>\n",
       "      <td>0.0</td>\n",
       "      <td>0.0</td>\n",
       "      <td>0.0</td>\n",
       "      <td>0.0</td>\n",
       "      <td>0.0</td>\n",
       "      <td>0.0</td>\n",
       "      <td>1.0</td>\n",
       "      <td>1.0</td>\n",
       "      <td>NaN</td>\n",
       "      <td>NaN</td>\n",
       "    </tr>\n",
       "    <tr>\n",
       "      <th>2010-01-01</th>\n",
       "      <td>0.0</td>\n",
       "      <td>0.0</td>\n",
       "      <td>0.0</td>\n",
       "      <td>1.0</td>\n",
       "      <td>0.0</td>\n",
       "      <td>0.0</td>\n",
       "      <td>0.0</td>\n",
       "      <td>0.0</td>\n",
       "      <td>1.0</td>\n",
       "      <td>NaN</td>\n",
       "      <td>NaN</td>\n",
       "    </tr>\n",
       "    <tr>\n",
       "      <th>2010-01-01</th>\n",
       "      <td>0.0</td>\n",
       "      <td>0.0</td>\n",
       "      <td>0.0</td>\n",
       "      <td>0.0</td>\n",
       "      <td>0.0</td>\n",
       "      <td>0.0</td>\n",
       "      <td>0.0</td>\n",
       "      <td>1.0</td>\n",
       "      <td>1.0</td>\n",
       "      <td>NaN</td>\n",
       "      <td>NaN</td>\n",
       "    </tr>\n",
       "    <tr>\n",
       "      <th>2010-01-01</th>\n",
       "      <td>0.0</td>\n",
       "      <td>0.0</td>\n",
       "      <td>0.0</td>\n",
       "      <td>0.0</td>\n",
       "      <td>0.0</td>\n",
       "      <td>0.0</td>\n",
       "      <td>0.0</td>\n",
       "      <td>1.0</td>\n",
       "      <td>1.0</td>\n",
       "      <td>NaN</td>\n",
       "      <td>NaN</td>\n",
       "    </tr>\n",
       "  </tbody>\n",
       "</table>\n",
       "</div>"
      ],
      "text/plain": [
       "            Hour  OffenseType_Aggravated Assault  OffenseType_Auto Theft  \\\n",
       "2010-01-01   0.0                             0.0                     1.0   \n",
       "2010-01-01   0.0                             0.0                     0.0   \n",
       "2010-01-01   0.0                             0.0                     0.0   \n",
       "2010-01-01   0.0                             0.0                     0.0   \n",
       "2010-01-01   0.0                             0.0                     0.0   \n",
       "\n",
       "            OffenseType_Burglary  OffenseType_Murder  OffenseType_Rape  \\\n",
       "2010-01-01                   0.0                 0.0               0.0   \n",
       "2010-01-01                   0.0                 0.0               0.0   \n",
       "2010-01-01                   1.0                 0.0               0.0   \n",
       "2010-01-01                   0.0                 0.0               0.0   \n",
       "2010-01-01                   0.0                 0.0               0.0   \n",
       "\n",
       "            OffenseType_Robbery  OffenseType_Theft  Beat_1A10  win beat  \n",
       "2010-01-01                  0.0                0.0        1.0  NaN  NaN  \n",
       "2010-01-01                  0.0                1.0        1.0  NaN  NaN  \n",
       "2010-01-01                  0.0                0.0        1.0  NaN  NaN  \n",
       "2010-01-01                  0.0                1.0        1.0  NaN  NaN  \n",
       "2010-01-01                  0.0                1.0        1.0  NaN  NaN  "
      ]
     },
     "execution_count": 17,
     "metadata": {},
     "output_type": "execute_result"
    }
   ],
   "source": [
    "merge_data = pd.merge(calendar_crimes,df,  left_index=True, right_index=True, how='left')\n",
    "\n",
    "# change column names\n",
    "#merge_data.columns = ['offenses','away_team','win']\n",
    "\n",
    "merge_data.head()"
   ]
  },
  {
   "cell_type": "markdown",
   "metadata": {},
   "source": [
    "## Change nan values on beat to beat value"
   ]
  },
  {
   "cell_type": "code",
   "execution_count": null,
   "metadata": {},
   "outputs": [],
   "source": [
    "merge_data.beat.value_counts(dropna=False)"
   ]
  },
  {
   "cell_type": "code",
   "execution_count": null,
   "metadata": {},
   "outputs": [],
   "source": [
    "merge_data.beat.replace( np.nan,'1A10', inplace=True)"
   ]
  },
  {
   "cell_type": "code",
   "execution_count": null,
   "metadata": {},
   "outputs": [],
   "source": [
    "merge_data.beat.value_counts(dropna=False)"
   ]
  },
  {
   "cell_type": "code",
   "execution_count": null,
   "metadata": {},
   "outputs": [],
   "source": [
    "merge_data.Opponent.value_counts(dropna=False)"
   ]
  },
  {
   "cell_type": "markdown",
   "metadata": {},
   "source": [
    "## Cleanup colums"
   ]
  },
  {
   "cell_type": "code",
   "execution_count": null,
   "metadata": {},
   "outputs": [],
   "source": [
    "merge_data.columns  = ['crime', 'away_team', 'won','beat']"
   ]
  },
  {
   "cell_type": "code",
   "execution_count": null,
   "metadata": {},
   "outputs": [],
   "source": [
    "merge_data.info()"
   ]
  },
  {
   "cell_type": "code",
   "execution_count": 18,
   "metadata": {},
   "outputs": [],
   "source": [
    "def game_feature(df):\n",
    "    if df.win == 1:\n",
    "        val = 'Won Game'\n",
    "    elif df.win == 0:\n",
    "        val = 'Lost Game'\n",
    "    else:\n",
    "        val = 'No Game'\n",
    "    return val\n",
    "\n",
    "merge_data['game'] = merge_data.apply(game_feature,axis=1)"
   ]
  },
  {
   "cell_type": "code",
   "execution_count": 19,
   "metadata": {},
   "outputs": [
    {
     "data": {
      "text/html": [
       "<div>\n",
       "<style scoped>\n",
       "    .dataframe tbody tr th:only-of-type {\n",
       "        vertical-align: middle;\n",
       "    }\n",
       "\n",
       "    .dataframe tbody tr th {\n",
       "        vertical-align: top;\n",
       "    }\n",
       "\n",
       "    .dataframe thead th {\n",
       "        text-align: right;\n",
       "    }\n",
       "</style>\n",
       "<table border=\"1\" class=\"dataframe\">\n",
       "  <thead>\n",
       "    <tr style=\"text-align: right;\">\n",
       "      <th></th>\n",
       "      <th>Hour</th>\n",
       "      <th>OffenseType_Aggravated Assault</th>\n",
       "      <th>OffenseType_Auto Theft</th>\n",
       "      <th>OffenseType_Burglary</th>\n",
       "      <th>OffenseType_Murder</th>\n",
       "      <th>OffenseType_Rape</th>\n",
       "      <th>OffenseType_Robbery</th>\n",
       "      <th>OffenseType_Theft</th>\n",
       "      <th>Beat_1A10</th>\n",
       "      <th>win</th>\n",
       "      <th>beat</th>\n",
       "      <th>game</th>\n",
       "    </tr>\n",
       "  </thead>\n",
       "  <tbody>\n",
       "    <tr>\n",
       "      <th>2010-01-01</th>\n",
       "      <td>0.0</td>\n",
       "      <td>0.0</td>\n",
       "      <td>1.0</td>\n",
       "      <td>0.0</td>\n",
       "      <td>0.0</td>\n",
       "      <td>0.0</td>\n",
       "      <td>0.0</td>\n",
       "      <td>0.0</td>\n",
       "      <td>1.0</td>\n",
       "      <td>NaN</td>\n",
       "      <td>NaN</td>\n",
       "      <td>No Game</td>\n",
       "    </tr>\n",
       "    <tr>\n",
       "      <th>2010-01-01</th>\n",
       "      <td>0.0</td>\n",
       "      <td>0.0</td>\n",
       "      <td>0.0</td>\n",
       "      <td>0.0</td>\n",
       "      <td>0.0</td>\n",
       "      <td>0.0</td>\n",
       "      <td>0.0</td>\n",
       "      <td>1.0</td>\n",
       "      <td>1.0</td>\n",
       "      <td>NaN</td>\n",
       "      <td>NaN</td>\n",
       "      <td>No Game</td>\n",
       "    </tr>\n",
       "    <tr>\n",
       "      <th>2010-01-01</th>\n",
       "      <td>0.0</td>\n",
       "      <td>0.0</td>\n",
       "      <td>0.0</td>\n",
       "      <td>1.0</td>\n",
       "      <td>0.0</td>\n",
       "      <td>0.0</td>\n",
       "      <td>0.0</td>\n",
       "      <td>0.0</td>\n",
       "      <td>1.0</td>\n",
       "      <td>NaN</td>\n",
       "      <td>NaN</td>\n",
       "      <td>No Game</td>\n",
       "    </tr>\n",
       "    <tr>\n",
       "      <th>2010-01-01</th>\n",
       "      <td>0.0</td>\n",
       "      <td>0.0</td>\n",
       "      <td>0.0</td>\n",
       "      <td>0.0</td>\n",
       "      <td>0.0</td>\n",
       "      <td>0.0</td>\n",
       "      <td>0.0</td>\n",
       "      <td>1.0</td>\n",
       "      <td>1.0</td>\n",
       "      <td>NaN</td>\n",
       "      <td>NaN</td>\n",
       "      <td>No Game</td>\n",
       "    </tr>\n",
       "    <tr>\n",
       "      <th>2010-01-01</th>\n",
       "      <td>0.0</td>\n",
       "      <td>0.0</td>\n",
       "      <td>0.0</td>\n",
       "      <td>0.0</td>\n",
       "      <td>0.0</td>\n",
       "      <td>0.0</td>\n",
       "      <td>0.0</td>\n",
       "      <td>1.0</td>\n",
       "      <td>1.0</td>\n",
       "      <td>NaN</td>\n",
       "      <td>NaN</td>\n",
       "      <td>No Game</td>\n",
       "    </tr>\n",
       "  </tbody>\n",
       "</table>\n",
       "</div>"
      ],
      "text/plain": [
       "            Hour  OffenseType_Aggravated Assault  OffenseType_Auto Theft  \\\n",
       "2010-01-01   0.0                             0.0                     1.0   \n",
       "2010-01-01   0.0                             0.0                     0.0   \n",
       "2010-01-01   0.0                             0.0                     0.0   \n",
       "2010-01-01   0.0                             0.0                     0.0   \n",
       "2010-01-01   0.0                             0.0                     0.0   \n",
       "\n",
       "            OffenseType_Burglary  OffenseType_Murder  OffenseType_Rape  \\\n",
       "2010-01-01                   0.0                 0.0               0.0   \n",
       "2010-01-01                   0.0                 0.0               0.0   \n",
       "2010-01-01                   1.0                 0.0               0.0   \n",
       "2010-01-01                   0.0                 0.0               0.0   \n",
       "2010-01-01                   0.0                 0.0               0.0   \n",
       "\n",
       "            OffenseType_Robbery  OffenseType_Theft  Beat_1A10  win beat  \\\n",
       "2010-01-01                  0.0                0.0        1.0  NaN  NaN   \n",
       "2010-01-01                  0.0                1.0        1.0  NaN  NaN   \n",
       "2010-01-01                  0.0                0.0        1.0  NaN  NaN   \n",
       "2010-01-01                  0.0                1.0        1.0  NaN  NaN   \n",
       "2010-01-01                  0.0                1.0        1.0  NaN  NaN   \n",
       "\n",
       "               game  \n",
       "2010-01-01  No Game  \n",
       "2010-01-01  No Game  \n",
       "2010-01-01  No Game  \n",
       "2010-01-01  No Game  \n",
       "2010-01-01  No Game  "
      ]
     },
     "execution_count": 19,
     "metadata": {},
     "output_type": "execute_result"
    }
   ],
   "source": [
    "merge_data.head()"
   ]
  },
  {
   "cell_type": "code",
   "execution_count": null,
   "metadata": {},
   "outputs": [],
   "source": [
    "merge_data.crime.value_counts(dropna=False)"
   ]
  },
  {
   "cell_type": "code",
   "execution_count": null,
   "metadata": {},
   "outputs": [],
   "source": [
    "merge_data.crime = merge_data.crime.astype(int)"
   ]
  },
  {
   "cell_type": "code",
   "execution_count": null,
   "metadata": {},
   "outputs": [],
   "source": [
    "merge_data.crime.value_counts(dropna=False)"
   ]
  },
  {
   "cell_type": "markdown",
   "metadata": {},
   "source": []
  },
  {
   "cell_type": "code",
   "execution_count": null,
   "metadata": {},
   "outputs": [],
   "source": [
    "merge_data"
   ]
  },
  {
   "cell_type": "markdown",
   "metadata": {},
   "source": [
    "# Display non-nans"
   ]
  },
  {
   "cell_type": "code",
   "execution_count": null,
   "metadata": {},
   "outputs": [],
   "source": [
    "merge_data.dropna(subset=['away_team', 'won'])"
   ]
  },
  {
   "cell_type": "markdown",
   "metadata": {},
   "source": [
    "## Add sport col"
   ]
  },
  {
   "cell_type": "code",
   "execution_count": null,
   "metadata": {},
   "outputs": [],
   "source": [
    "merge_data['sport'] = 'bkb'"
   ]
  },
  {
   "cell_type": "code",
   "execution_count": null,
   "metadata": {},
   "outputs": [],
   "source": [
    "merge_data.head()"
   ]
  },
  {
   "cell_type": "code",
   "execution_count": 20,
   "metadata": {},
   "outputs": [],
   "source": [
    "#merge_data.to_csv('data/final/Rockets1017_final.csv')\n",
    "merge_data.to_csv('data/final/DUMMYRockets1017_final.csv')"
   ]
  },
  {
   "cell_type": "code",
   "execution_count": null,
   "metadata": {},
   "outputs": [],
   "source": [
    "merge_data.info()"
   ]
  },
  {
   "cell_type": "code",
   "execution_count": null,
   "metadata": {},
   "outputs": [],
   "source": []
  },
  {
   "cell_type": "code",
   "execution_count": null,
   "metadata": {},
   "outputs": [],
   "source": []
  }
 ],
 "metadata": {
  "kernelspec": {
   "display_name": "Python 3",
   "language": "python",
   "name": "python3"
  },
  "language_info": {
   "codemirror_mode": {
    "name": "ipython",
    "version": 3
   },
   "file_extension": ".py",
   "mimetype": "text/x-python",
   "name": "python",
   "nbconvert_exporter": "python",
   "pygments_lexer": "ipython3",
   "version": "3.6.4"
  }
 },
 "nbformat": 4,
 "nbformat_minor": 2
}
