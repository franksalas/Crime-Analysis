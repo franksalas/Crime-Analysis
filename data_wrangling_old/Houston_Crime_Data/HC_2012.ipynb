{
 "cells": [
  {
   "cell_type": "code",
   "execution_count": null,
   "metadata": {},
   "outputs": [],
   "source": []
  },
  {
   "cell_type": "code",
   "execution_count": 1,
   "metadata": {},
   "outputs": [],
   "source": [
    "import pandas as pd\n",
    "import glob, os\n",
    "import numpy as np\n",
    "import matplotlib.pyplot as plt\n",
    "import datetime  as dt\n",
    "import seaborn as sns"
   ]
  },
  {
   "cell_type": "code",
   "execution_count": 2,
   "metadata": {},
   "outputs": [
    {
     "name": "stdout",
     "output_type": "stream",
     "text": [
      "\u001b[0m\u001b[01;32mapr12.xls\u001b[0m*  \u001b[01;32mdec12.xls\u001b[0m*  \u001b[01;32mjan12.xls\u001b[0m*  \u001b[01;32mjun12.xls\u001b[0m*  \u001b[01;32mmay12.xls\u001b[0m*  \u001b[01;32moct12.xls\u001b[0m*\r\n",
      "\u001b[01;32maug12.xls\u001b[0m*  \u001b[01;32mfeb12.xls\u001b[0m*  \u001b[01;32mjul12.xls\u001b[0m*  \u001b[01;32mmar12.xls\u001b[0m*  \u001b[01;32mnov12.xls\u001b[0m*  \u001b[01;32msep12.xls\u001b[0m*\r\n"
     ]
    }
   ],
   "source": [
    "ls crime_data_raw/2012"
   ]
  },
  {
   "cell_type": "code",
   "execution_count": 3,
   "metadata": {},
   "outputs": [],
   "source": [
    "path = 'crime_data_raw/2012'"
   ]
  },
  {
   "cell_type": "code",
   "execution_count": 4,
   "metadata": {},
   "outputs": [
    {
     "name": "stdout",
     "output_type": "stream",
     "text": [
      "\u001b[0m\u001b[01;36;40m10years\u001b[0m/    \u001b[01;36;40m2008\u001b[0m/  \u001b[01;36;40m2013\u001b[0m/          \u001b[01;32m2015_raw.csv\u001b[0m*  \u001b[01;32mpremise_codes.csv\u001b[0m*\r\n",
      "\u001b[01;36;40m1985_2014\u001b[0m/  \u001b[01;36;40m2009\u001b[0m/  \u001b[01;32m2013_raw.csv\u001b[0m*  \u001b[01;36;40m2016\u001b[0m/\r\n",
      "\u001b[01;36;40m2005\u001b[0m/       \u001b[01;36;40m2010\u001b[0m/  \u001b[01;36;40m2014\u001b[0m/          \u001b[01;32m2016_raw.csv\u001b[0m*\r\n",
      "\u001b[01;36;40m2006\u001b[0m/       \u001b[01;36;40m2011\u001b[0m/  \u001b[01;32m2014_raw.csv\u001b[0m*  \u001b[01;36;40m2017\u001b[0m/\r\n",
      "\u001b[01;36;40m2007\u001b[0m/       \u001b[01;36;40m2012\u001b[0m/  \u001b[01;36;40m2015\u001b[0m/          \u001b[01;32m2017_raw.csv\u001b[0m*\r\n"
     ]
    }
   ],
   "source": [
    "ls crime_data_raw/"
   ]
  },
  {
   "cell_type": "code",
   "execution_count": 5,
   "metadata": {},
   "outputs": [
    {
     "data": {
      "text/html": [
       "<div>\n",
       "<style scoped>\n",
       "    .dataframe tbody tr th:only-of-type {\n",
       "        vertical-align: middle;\n",
       "    }\n",
       "\n",
       "    .dataframe tbody tr th {\n",
       "        vertical-align: top;\n",
       "    }\n",
       "\n",
       "    .dataframe thead th {\n",
       "        text-align: right;\n",
       "    }\n",
       "</style>\n",
       "<table border=\"1\" class=\"dataframe\">\n",
       "  <thead>\n",
       "    <tr style=\"text-align: right;\">\n",
       "      <th></th>\n",
       "      <th>Premise Type</th>\n",
       "      <th>Premise Description</th>\n",
       "    </tr>\n",
       "  </thead>\n",
       "  <tbody>\n",
       "    <tr>\n",
       "      <th>0</th>\n",
       "      <td>01A</td>\n",
       "      <td>AIRPORT TERMINAL</td>\n",
       "    </tr>\n",
       "    <tr>\n",
       "      <th>1</th>\n",
       "      <td>01B</td>\n",
       "      <td>BUS STATION</td>\n",
       "    </tr>\n",
       "    <tr>\n",
       "      <th>2</th>\n",
       "      <td>01K</td>\n",
       "      <td>RAILROAD TRACK/RIGHT OF WAY</td>\n",
       "    </tr>\n",
       "    <tr>\n",
       "      <th>3</th>\n",
       "      <td>01P</td>\n",
       "      <td>PARK &amp; RIDE TERMINAL</td>\n",
       "    </tr>\n",
       "    <tr>\n",
       "      <th>4</th>\n",
       "      <td>01R</td>\n",
       "      <td>LIGHT RAIL VEHICLE</td>\n",
       "    </tr>\n",
       "  </tbody>\n",
       "</table>\n",
       "</div>"
      ],
      "text/plain": [
       "  Premise Type          Premise Description\n",
       "0          01A             AIRPORT TERMINAL\n",
       "1          01B                  BUS STATION\n",
       "2          01K  RAILROAD TRACK/RIGHT OF WAY\n",
       "3          01P         PARK & RIDE TERMINAL\n",
       "4          01R           LIGHT RAIL VEHICLE"
      ]
     },
     "execution_count": 5,
     "metadata": {},
     "output_type": "execute_result"
    }
   ],
   "source": [
    "# get premise codes\n",
    "\n",
    "pc = pd.read_csv('crime_data_raw/premise_codes.csv')\n",
    "pc.head()"
   ]
  },
  {
   "cell_type": "code",
   "execution_count": 6,
   "metadata": {},
   "outputs": [
    {
     "name": "stdout",
     "output_type": "stream",
     "text": [
      "<class 'pandas.core.frame.DataFrame'>\n",
      "RangeIndex: 126 entries, 0 to 125\n",
      "Data columns (total 2 columns):\n",
      "Premise                126 non-null object\n",
      "Premise Description    126 non-null object\n",
      "dtypes: object(2)\n",
      "memory usage: 2.0+ KB\n"
     ]
    }
   ],
   "source": [
    "# rename premise column for easy merge\n",
    "pc.rename(columns={'Premise Type': 'Premise',}, inplace=True)\n",
    "pc.info()"
   ]
  },
  {
   "cell_type": "code",
   "execution_count": 7,
   "metadata": {},
   "outputs": [],
   "source": [
    "# combine all files into one df\n",
    "all_files = glob.glob(os.path.join(path, \"*.xls\")) \n",
    "\n",
    "df_from_each_file = (pd.read_excel(f) for f in all_files)\n",
    "df   = pd.concat(df_from_each_file, ignore_index=True)"
   ]
  },
  {
   "cell_type": "code",
   "execution_count": 10,
   "metadata": {},
   "outputs": [
    {
     "data": {
      "text/plain": [
       "18    7907\n",
       "12    7408\n",
       "22    7305\n",
       "20    7210\n",
       "19    7199\n",
       "17    7079\n",
       "0     7056\n",
       "21    6885\n",
       "15    6212\n",
       "16    6041\n",
       "23    5770\n",
       "14    5692\n",
       "13    5430\n",
       "8     5238\n",
       "10    5082\n",
       "11    5058\n",
       "9     4735\n",
       "7     4217\n",
       "1     3535\n",
       "2     3349\n",
       "6     2876\n",
       "3     2538\n",
       "4     1981\n",
       "5     1968\n",
       "Name: Hour, dtype: int64"
      ]
     },
     "execution_count": 10,
     "metadata": {},
     "output_type": "execute_result"
    }
   ],
   "source": [
    "df.Hour.value_counts(dropna=False)"
   ]
  },
  {
   "cell_type": "code",
   "execution_count": 11,
   "metadata": {},
   "outputs": [],
   "source": [
    "df['Hour'] = df['Hour'].astype(str) + ':00'"
   ]
  },
  {
   "cell_type": "code",
   "execution_count": 13,
   "metadata": {},
   "outputs": [
    {
     "data": {
      "text/plain": [
       "18:00    7907\n",
       "12:00    7408\n",
       "22:00    7305\n",
       "20:00    7210\n",
       "19:00    7199\n",
       "17:00    7079\n",
       "0:00     7056\n",
       "21:00    6885\n",
       "15:00    6212\n",
       "16:00    6041\n",
       "23:00    5770\n",
       "14:00    5692\n",
       "13:00    5430\n",
       "8:00     5238\n",
       "10:00    5082\n",
       "11:00    5058\n",
       "9:00     4735\n",
       "7:00     4217\n",
       "1:00     3535\n",
       "2:00     3349\n",
       "6:00     2876\n",
       "3:00     2538\n",
       "4:00     1981\n",
       "5:00     1968\n",
       "Name: Hour, dtype: int64"
      ]
     },
     "execution_count": 13,
     "metadata": {},
     "output_type": "execute_result"
    }
   ],
   "source": [
    "df.Hour.value_counts(dropna=False)"
   ]
  },
  {
   "cell_type": "code",
   "execution_count": 14,
   "metadata": {},
   "outputs": [
    {
     "data": {
      "text/html": [
       "<div>\n",
       "<style scoped>\n",
       "    .dataframe tbody tr th:only-of-type {\n",
       "        vertical-align: middle;\n",
       "    }\n",
       "\n",
       "    .dataframe tbody tr th {\n",
       "        vertical-align: top;\n",
       "    }\n",
       "\n",
       "    .dataframe thead th {\n",
       "        text-align: right;\n",
       "    }\n",
       "</style>\n",
       "<table border=\"1\" class=\"dataframe\">\n",
       "  <thead>\n",
       "    <tr style=\"text-align: right;\">\n",
       "      <th></th>\n",
       "      <th>Date</th>\n",
       "      <th>Hour</th>\n",
       "      <th>Offense Type</th>\n",
       "      <th>Beat</th>\n",
       "      <th>Premise</th>\n",
       "      <th>Block Range</th>\n",
       "      <th>Street Name</th>\n",
       "      <th>Type</th>\n",
       "      <th>Suffix</th>\n",
       "      <th># Of Offenses</th>\n",
       "    </tr>\n",
       "  </thead>\n",
       "  <tbody>\n",
       "  </tbody>\n",
       "</table>\n",
       "</div>"
      ],
      "text/plain": [
       "Empty DataFrame\n",
       "Columns: [Date, Hour, Offense Type, Beat, Premise, Block Range, Street Name, Type, Suffix, # Of Offenses]\n",
       "Index: []"
      ]
     },
     "execution_count": 14,
     "metadata": {},
     "output_type": "execute_result"
    }
   ],
   "source": [
    "df[df.Date.isnull()]"
   ]
  },
  {
   "cell_type": "code",
   "execution_count": 15,
   "metadata": {},
   "outputs": [],
   "source": [
    "df.to_csv('crime_data_raw/2012_raw.csv')"
   ]
  },
  {
   "cell_type": "code",
   "execution_count": 16,
   "metadata": {},
   "outputs": [],
   "source": [
    "path = 'crime_data_raw/2012_raw.csv'\n",
    "df = pd.read_csv(path,parse_dates=[['Date', 'Hour']])"
   ]
  },
  {
   "cell_type": "code",
   "execution_count": 17,
   "metadata": {},
   "outputs": [
    {
     "data": {
      "text/html": [
       "<div>\n",
       "<style scoped>\n",
       "    .dataframe tbody tr th:only-of-type {\n",
       "        vertical-align: middle;\n",
       "    }\n",
       "\n",
       "    .dataframe tbody tr th {\n",
       "        vertical-align: top;\n",
       "    }\n",
       "\n",
       "    .dataframe thead th {\n",
       "        text-align: right;\n",
       "    }\n",
       "</style>\n",
       "<table border=\"1\" class=\"dataframe\">\n",
       "  <thead>\n",
       "    <tr style=\"text-align: right;\">\n",
       "      <th></th>\n",
       "      <th>Date_Hour</th>\n",
       "      <th>Unnamed: 0</th>\n",
       "      <th>Offense Type</th>\n",
       "      <th>Beat</th>\n",
       "      <th>Premise</th>\n",
       "      <th>Block Range</th>\n",
       "      <th>Street Name</th>\n",
       "      <th>Type</th>\n",
       "      <th>Suffix</th>\n",
       "      <th># Of Offenses</th>\n",
       "    </tr>\n",
       "  </thead>\n",
       "  <tbody>\n",
       "    <tr>\n",
       "      <th>0</th>\n",
       "      <td>2012-04-05 02:00:00</td>\n",
       "      <td>0</td>\n",
       "      <td>Murder</td>\n",
       "      <td>17E40</td>\n",
       "      <td>20R</td>\n",
       "      <td>6100-6199</td>\n",
       "      <td>CLARIDGE</td>\n",
       "      <td>DR</td>\n",
       "      <td>-</td>\n",
       "      <td>1</td>\n",
       "    </tr>\n",
       "    <tr>\n",
       "      <th>1</th>\n",
       "      <td>2012-04-04 22:00:00</td>\n",
       "      <td>1</td>\n",
       "      <td>Murder</td>\n",
       "      <td>3B10</td>\n",
       "      <td>18A</td>\n",
       "      <td>11700-11799</td>\n",
       "      <td>HEMPSTEAD</td>\n",
       "      <td>HWY</td>\n",
       "      <td>-</td>\n",
       "      <td>1</td>\n",
       "    </tr>\n",
       "    <tr>\n",
       "      <th>2</th>\n",
       "      <td>2012-04-01 23:00:00</td>\n",
       "      <td>2</td>\n",
       "      <td>Murder</td>\n",
       "      <td>19G10</td>\n",
       "      <td>20A</td>\n",
       "      <td>7500-7599</td>\n",
       "      <td>CORPORATE</td>\n",
       "      <td>DR</td>\n",
       "      <td>-</td>\n",
       "      <td>1</td>\n",
       "    </tr>\n",
       "    <tr>\n",
       "      <th>3</th>\n",
       "      <td>2012-04-21 23:00:00</td>\n",
       "      <td>3</td>\n",
       "      <td>Murder</td>\n",
       "      <td>8C10</td>\n",
       "      <td>20R</td>\n",
       "      <td>6200-6299</td>\n",
       "      <td>RIETTA</td>\n",
       "      <td>-</td>\n",
       "      <td>-</td>\n",
       "      <td>1</td>\n",
       "    </tr>\n",
       "    <tr>\n",
       "      <th>4</th>\n",
       "      <td>2012-04-01 06:00:00</td>\n",
       "      <td>4</td>\n",
       "      <td>Murder</td>\n",
       "      <td>3B10</td>\n",
       "      <td>20A</td>\n",
       "      <td>4200-4299</td>\n",
       "      <td>34TH</td>\n",
       "      <td>ST</td>\n",
       "      <td>W</td>\n",
       "      <td>1</td>\n",
       "    </tr>\n",
       "  </tbody>\n",
       "</table>\n",
       "</div>"
      ],
      "text/plain": [
       "            Date_Hour  Unnamed: 0 Offense Type   Beat Premise  Block Range  \\\n",
       "0 2012-04-05 02:00:00           0       Murder  17E40     20R    6100-6199   \n",
       "1 2012-04-04 22:00:00           1       Murder   3B10     18A  11700-11799   \n",
       "2 2012-04-01 23:00:00           2       Murder  19G10     20A    7500-7599   \n",
       "3 2012-04-21 23:00:00           3       Murder   8C10     20R    6200-6299   \n",
       "4 2012-04-01 06:00:00           4       Murder   3B10     20A    4200-4299   \n",
       "\n",
       "  Street Name Type Suffix  # Of Offenses  \n",
       "0    CLARIDGE   DR      -              1  \n",
       "1   HEMPSTEAD  HWY      -              1  \n",
       "2   CORPORATE   DR      -              1  \n",
       "3      RIETTA    -      -              1  \n",
       "4        34TH   ST      W              1  "
      ]
     },
     "execution_count": 17,
     "metadata": {},
     "output_type": "execute_result"
    }
   ],
   "source": [
    "df.head()"
   ]
  },
  {
   "cell_type": "code",
   "execution_count": null,
   "metadata": {},
   "outputs": [],
   "source": []
  },
  {
   "cell_type": "code",
   "execution_count": null,
   "metadata": {},
   "outputs": [],
   "source": []
  },
  {
   "cell_type": "markdown",
   "metadata": {},
   "source": [
    "## Inspect Premise col"
   ]
  },
  {
   "cell_type": "code",
   "execution_count": 18,
   "metadata": {},
   "outputs": [
    {
     "data": {
      "text/plain": [
       "126"
      ]
     },
     "execution_count": 18,
     "metadata": {},
     "output_type": "execute_result"
    }
   ],
   "source": [
    "len(df.Premise.value_counts(dropna=False))"
   ]
  },
  {
   "cell_type": "code",
   "execution_count": 19,
   "metadata": {},
   "outputs": [
    {
     "data": {
      "text/plain": [
       "array(['20R', '18A', '20A', '13R', '20D', '250', '18B', '20C', '20V',\n",
       "       '01B', '20P', '140', '18O', '11R', '22M', '18N', '080', '05D',\n",
       "       '24F', '02B', '24E', '05L', '24P', '05Z', '18C', '13B', '210',\n",
       "       '070', '18T', '05B', '120', '09D', '03B', '100', '24A', '23S',\n",
       "       '05O', '18R', '240', '24C', '02S', '18U', '18G', '22H', '18P',\n",
       "       '18M', '03S', '13H', '13S', '20G', '09P', 'N', '05C', '040', '05P',\n",
       "       '---', '05Q', '05R', '170', '09H', '12V', '22E', '05S', '11F',\n",
       "       '18W', '060', '11G', '20M', '18D', '160', '05E', '20N', '05H',\n",
       "       '22P', '05Y', '190', '25V', '05W', '22D', '24J', '24V', '20W',\n",
       "       '20L', '05F', '05G', '05N', '09R', '05V', '05X', '24M', '21V',\n",
       "       '11L', '19V', '24T', '11P', '18H', '18S', '01P', '01A', '24S',\n",
       "       '22U', '18L', '05M', '01K', '11C', '05A', '150', '24B', '05U',\n",
       "       '24G', '20H', '11S', '11V', '13A', '02C', '13T', '25R', '05T',\n",
       "       '06', '01T', '14V', '22C', '04V', '22V', '09V', '13C'],\n",
       "      dtype=object)"
      ]
     },
     "execution_count": 19,
     "metadata": {},
     "output_type": "execute_result"
    }
   ],
   "source": [
    "df.Premise.unique()"
   ]
  },
  {
   "cell_type": "code",
   "execution_count": 20,
   "metadata": {},
   "outputs": [
    {
     "data": {
      "text/plain": [
       "array(['20R', '18A', '20A', '13R', '20D', '250', '18B', '20C', '20V',\n",
       "       '01B', '20P', '140', '18O', '11R', '22M', '18N', '080', '05D',\n",
       "       '24F', '02B', '24E', '05L', '24P', '05Z', '18C', '13B', '210',\n",
       "       '070', '18T', '05B', '120', '09D', '03B', '100', '24A', '23S',\n",
       "       '05O', '18R', '240', '24C', '02S', '18U', '18G', '22H', '18P',\n",
       "       '18M', '03S', '13H', '13S', '20G', '09P', 'N', '05C', '040', '05P',\n",
       "       '---', '05Q', '05R', '170', '09H', '12V', '22E', '05S', '11F',\n",
       "       '18W', '060', '11G', '20M', '18D', '160', '05E', '20N', '05H',\n",
       "       '22P', '05Y', '190', '25V', '05W', '22D', '24J', '24V', '20W',\n",
       "       '20L', '05F', '05G', '05N', '09R', '05V', '05X', '24M', '21V',\n",
       "       '11L', '19V', '24T', '11P', '18H', '18S', '01P', '01A', '24S',\n",
       "       '22U', '18L', '05M', '01K', '11C', '05A', '150', '24B', '05U',\n",
       "       '24G', '20H', '11S', '11V', '13A', '02C', '13T', '25R', '05T',\n",
       "       '06', '01T', '14V', '22C', '04V', '22V', '09V', '13C'],\n",
       "      dtype=object)"
      ]
     },
     "execution_count": 20,
     "metadata": {},
     "output_type": "execute_result"
    }
   ],
   "source": [
    "df.Premise.unique()"
   ]
  },
  {
   "cell_type": "code",
   "execution_count": 21,
   "metadata": {},
   "outputs": [],
   "source": [
    "df.Premise = df.Premise.str.strip()"
   ]
  },
  {
   "cell_type": "code",
   "execution_count": 22,
   "metadata": {},
   "outputs": [
    {
     "data": {
      "text/plain": [
       "126"
      ]
     },
     "execution_count": 22,
     "metadata": {},
     "output_type": "execute_result"
    }
   ],
   "source": [
    "len(df.Premise.value_counts(dropna=False))"
   ]
  },
  {
   "cell_type": "code",
   "execution_count": 23,
   "metadata": {},
   "outputs": [
    {
     "data": {
      "text/plain": [
       "20A    16963\n",
       "20R    16740\n",
       "18A    15070\n",
       "13R     9323\n",
       "20D     7823\n",
       "Name: Premise, dtype: int64"
      ]
     },
     "execution_count": 23,
     "metadata": {},
     "output_type": "execute_result"
    }
   ],
   "source": [
    "df.Premise.value_counts(dropna=False).head()"
   ]
  },
  {
   "cell_type": "code",
   "execution_count": null,
   "metadata": {},
   "outputs": [],
   "source": []
  },
  {
   "cell_type": "code",
   "execution_count": 24,
   "metadata": {},
   "outputs": [
    {
     "data": {
      "text/plain": [
       "False"
      ]
     },
     "execution_count": 24,
     "metadata": {},
     "output_type": "execute_result"
    }
   ],
   "source": [
    "# check if  null values\n",
    "df.isnull().values.any().any()"
   ]
  },
  {
   "cell_type": "code",
   "execution_count": 25,
   "metadata": {},
   "outputs": [
    {
     "data": {
      "text/plain": [
       "0"
      ]
     },
     "execution_count": 25,
     "metadata": {},
     "output_type": "execute_result"
    }
   ],
   "source": [
    "# check su, of null values\n",
    "df.isnull().values.sum()"
   ]
  },
  {
   "cell_type": "code",
   "execution_count": 26,
   "metadata": {},
   "outputs": [
    {
     "data": {
      "text/plain": [
       "0"
      ]
     },
     "execution_count": 26,
     "metadata": {},
     "output_type": "execute_result"
    }
   ],
   "source": [
    "len(df[df.isnull().any(axis=1)])"
   ]
  },
  {
   "cell_type": "markdown",
   "metadata": {},
   "source": [
    "## Visualize our data"
   ]
  },
  {
   "cell_type": "code",
   "execution_count": 28,
   "metadata": {},
   "outputs": [
    {
     "data": {
      "image/png": "[encoded data removed]",
      "text/plain": [
       "<Figure size 432x288 with 1 Axes>"
      ]
     },
     "metadata": {},
     "output_type": "display_data"
    }
   ],
   "source": [
    "sns.heatmap(df.isnull(),yticklabels=False,cbar=False,cmap='viridis')\n",
    "plt.title('Nulls display')\n",
    "plt.show()"
   ]
  },
  {
   "cell_type": "markdown",
   "metadata": {},
   "source": [
    "## col cleaning\n",
    "\n",
    "- joining similar columns\n",
    "- renaming"
   ]
  },
  {
   "cell_type": "code",
   "execution_count": 29,
   "metadata": {},
   "outputs": [
    {
     "data": {
      "text/html": [
       "<div>\n",
       "<style scoped>\n",
       "    .dataframe tbody tr th:only-of-type {\n",
       "        vertical-align: middle;\n",
       "    }\n",
       "\n",
       "    .dataframe tbody tr th {\n",
       "        vertical-align: top;\n",
       "    }\n",
       "\n",
       "    .dataframe thead th {\n",
       "        text-align: right;\n",
       "    }\n",
       "</style>\n",
       "<table border=\"1\" class=\"dataframe\">\n",
       "  <thead>\n",
       "    <tr style=\"text-align: right;\">\n",
       "      <th></th>\n",
       "      <th>Date_Hour</th>\n",
       "      <th>Unnamed: 0</th>\n",
       "      <th>Offense Type</th>\n",
       "      <th>Beat</th>\n",
       "      <th>Premise</th>\n",
       "      <th>Block Range</th>\n",
       "      <th>Street Name</th>\n",
       "      <th>Type</th>\n",
       "      <th>Suffix</th>\n",
       "      <th># Of Offenses</th>\n",
       "    </tr>\n",
       "  </thead>\n",
       "  <tbody>\n",
       "    <tr>\n",
       "      <th>0</th>\n",
       "      <td>2012-04-05 02:00:00</td>\n",
       "      <td>0</td>\n",
       "      <td>Murder</td>\n",
       "      <td>17E40</td>\n",
       "      <td>20R</td>\n",
       "      <td>6100-6199</td>\n",
       "      <td>CLARIDGE</td>\n",
       "      <td>DR</td>\n",
       "      <td>-</td>\n",
       "      <td>1</td>\n",
       "    </tr>\n",
       "    <tr>\n",
       "      <th>1</th>\n",
       "      <td>2012-04-04 22:00:00</td>\n",
       "      <td>1</td>\n",
       "      <td>Murder</td>\n",
       "      <td>3B10</td>\n",
       "      <td>18A</td>\n",
       "      <td>11700-11799</td>\n",
       "      <td>HEMPSTEAD</td>\n",
       "      <td>HWY</td>\n",
       "      <td>-</td>\n",
       "      <td>1</td>\n",
       "    </tr>\n",
       "    <tr>\n",
       "      <th>2</th>\n",
       "      <td>2012-04-01 23:00:00</td>\n",
       "      <td>2</td>\n",
       "      <td>Murder</td>\n",
       "      <td>19G10</td>\n",
       "      <td>20A</td>\n",
       "      <td>7500-7599</td>\n",
       "      <td>CORPORATE</td>\n",
       "      <td>DR</td>\n",
       "      <td>-</td>\n",
       "      <td>1</td>\n",
       "    </tr>\n",
       "    <tr>\n",
       "      <th>3</th>\n",
       "      <td>2012-04-21 23:00:00</td>\n",
       "      <td>3</td>\n",
       "      <td>Murder</td>\n",
       "      <td>8C10</td>\n",
       "      <td>20R</td>\n",
       "      <td>6200-6299</td>\n",
       "      <td>RIETTA</td>\n",
       "      <td>-</td>\n",
       "      <td>-</td>\n",
       "      <td>1</td>\n",
       "    </tr>\n",
       "    <tr>\n",
       "      <th>4</th>\n",
       "      <td>2012-04-01 06:00:00</td>\n",
       "      <td>4</td>\n",
       "      <td>Murder</td>\n",
       "      <td>3B10</td>\n",
       "      <td>20A</td>\n",
       "      <td>4200-4299</td>\n",
       "      <td>34TH</td>\n",
       "      <td>ST</td>\n",
       "      <td>W</td>\n",
       "      <td>1</td>\n",
       "    </tr>\n",
       "  </tbody>\n",
       "</table>\n",
       "</div>"
      ],
      "text/plain": [
       "            Date_Hour  Unnamed: 0 Offense Type   Beat Premise  Block Range  \\\n",
       "0 2012-04-05 02:00:00           0       Murder  17E40     20R    6100-6199   \n",
       "1 2012-04-04 22:00:00           1       Murder   3B10     18A  11700-11799   \n",
       "2 2012-04-01 23:00:00           2       Murder  19G10     20A    7500-7599   \n",
       "3 2012-04-21 23:00:00           3       Murder   8C10     20R    6200-6299   \n",
       "4 2012-04-01 06:00:00           4       Murder   3B10     20A    4200-4299   \n",
       "\n",
       "  Street Name Type Suffix  # Of Offenses  \n",
       "0    CLARIDGE   DR      -              1  \n",
       "1   HEMPSTEAD  HWY      -              1  \n",
       "2   CORPORATE   DR      -              1  \n",
       "3      RIETTA    -      -              1  \n",
       "4        34TH   ST      W              1  "
      ]
     },
     "execution_count": 29,
     "metadata": {},
     "output_type": "execute_result"
    }
   ],
   "source": [
    "df.head()"
   ]
  },
  {
   "cell_type": "code",
   "execution_count": null,
   "metadata": {},
   "outputs": [],
   "source": []
  },
  {
   "cell_type": "code",
   "execution_count": null,
   "metadata": {},
   "outputs": [],
   "source": [
    "# # 2014\n",
    "# # if duplicate columns\n",
    "\n",
    "# df['BlockRange'] = pd.concat([df['Block Range'].dropna(),\n",
    "#                               df['BlockRange'].dropna()]).reindex_like(df)\n",
    "\n",
    "# df['StreetName'] = pd.concat([df['Street Name'].dropna(),\n",
    "#                               df['StreetName'].dropna()]).reindex_like(df)\n",
    "\n",
    "# df['# Of Offenses'] = pd.concat([df['# Of'].dropna(),\n",
    "#                               df['# Of Offenses'].dropna(),\n",
    "#                               df['# offenses'].dropna(),\n",
    "#                               df['# Offenses'].dropna()]).reindex_like(df)"
   ]
  },
  {
   "cell_type": "code",
   "execution_count": null,
   "metadata": {},
   "outputs": [],
   "source": [
    "df.head()"
   ]
  },
  {
   "cell_type": "code",
   "execution_count": null,
   "metadata": {},
   "outputs": [],
   "source": [
    "# df.rename(columns={\n",
    "#     '# Of Offenses': 'NumOffenses',\n",
    "#      'Offense Type': 'OffenseType',\n",
    "# }, inplace=True)\n",
    "# df.info()"
   ]
  },
  {
   "cell_type": "code",
   "execution_count": 30,
   "metadata": {},
   "outputs": [
    {
     "name": "stdout",
     "output_type": "stream",
     "text": [
      "<class 'pandas.core.frame.DataFrame'>\n",
      "RangeIndex: 127771 entries, 0 to 127770\n",
      "Data columns (total 10 columns):\n",
      "Date_Hour      127771 non-null datetime64[ns]\n",
      "Unnamed: 0     127771 non-null int64\n",
      "OffenseType    127771 non-null object\n",
      "Beat           127771 non-null object\n",
      "Premise        127771 non-null object\n",
      "BlockRange     127771 non-null object\n",
      "StreetName     127771 non-null object\n",
      "Type           127771 non-null object\n",
      "Suffix         127771 non-null object\n",
      "NumOffenses    127771 non-null int64\n",
      "dtypes: datetime64[ns](1), int64(2), object(7)\n",
      "memory usage: 9.7+ MB\n"
     ]
    }
   ],
   "source": [
    "df.rename(columns={\n",
    "    '# Of Offenses': 'NumOffenses',\n",
    "     'Offense Type': 'OffenseType',\n",
    "    'Block Range': 'BlockRange',\n",
    "    'Street Name': 'StreetName'\n",
    "}, inplace=True)\n",
    "df.info()"
   ]
  },
  {
   "cell_type": "markdown",
   "metadata": {},
   "source": [
    "## Subset dataframe to work on "
   ]
  },
  {
   "cell_type": "code",
   "execution_count": 31,
   "metadata": {},
   "outputs": [
    {
     "name": "stdout",
     "output_type": "stream",
     "text": [
      "<class 'pandas.core.frame.DataFrame'>\n",
      "RangeIndex: 127771 entries, 0 to 127770\n",
      "Data columns (total 7 columns):\n",
      "Date_Hour      127771 non-null datetime64[ns]\n",
      "Beat           127771 non-null object\n",
      "BlockRange     127771 non-null object\n",
      "StreetName     127771 non-null object\n",
      "OffenseType    127771 non-null object\n",
      "Premise        127771 non-null object\n",
      "NumOffenses    127771 non-null int64\n",
      "dtypes: datetime64[ns](1), int64(1), object(5)\n",
      "memory usage: 6.8+ MB\n"
     ]
    }
   ],
   "source": [
    "crimes = df[['Date_Hour','Beat','BlockRange','StreetName','OffenseType','Premise','NumOffenses']]\n",
    "crimes.info()"
   ]
  },
  {
   "cell_type": "code",
   "execution_count": 32,
   "metadata": {},
   "outputs": [
    {
     "data": {
      "image/png": "[encoded data removed]",
      "text/plain": [
       "<Figure size 432x288 with 1 Axes>"
      ]
     },
     "metadata": {},
     "output_type": "display_data"
    }
   ],
   "source": [
    "sns.heatmap(crimes.isnull(),yticklabels=False,cbar=False,cmap='viridis')\n",
    "plt.title('Nulls display')\n",
    "plt.show()"
   ]
  },
  {
   "cell_type": "markdown",
   "metadata": {},
   "source": [
    "# FIND NAN onevery col"
   ]
  },
  {
   "cell_type": "code",
   "execution_count": 35,
   "metadata": {},
   "outputs": [
    {
     "data": {
      "text/plain": [
       "0"
      ]
     },
     "execution_count": 35,
     "metadata": {},
     "output_type": "execute_result"
    }
   ],
   "source": [
    "len(crimes[crimes.Date_Hour.isnull()])"
   ]
  },
  {
   "cell_type": "code",
   "execution_count": 36,
   "metadata": {},
   "outputs": [
    {
     "data": {
      "text/html": [
       "<div>\n",
       "<style scoped>\n",
       "    .dataframe tbody tr th:only-of-type {\n",
       "        vertical-align: middle;\n",
       "    }\n",
       "\n",
       "    .dataframe tbody tr th {\n",
       "        vertical-align: top;\n",
       "    }\n",
       "\n",
       "    .dataframe thead th {\n",
       "        text-align: right;\n",
       "    }\n",
       "</style>\n",
       "<table border=\"1\" class=\"dataframe\">\n",
       "  <thead>\n",
       "    <tr style=\"text-align: right;\">\n",
       "      <th></th>\n",
       "      <th>Date_Hour</th>\n",
       "      <th>Beat</th>\n",
       "      <th>BlockRange</th>\n",
       "      <th>StreetName</th>\n",
       "      <th>OffenseType</th>\n",
       "      <th>Premise</th>\n",
       "      <th>NumOffenses</th>\n",
       "    </tr>\n",
       "  </thead>\n",
       "  <tbody>\n",
       "  </tbody>\n",
       "</table>\n",
       "</div>"
      ],
      "text/plain": [
       "Empty DataFrame\n",
       "Columns: [Date_Hour, Beat, BlockRange, StreetName, OffenseType, Premise, NumOffenses]\n",
       "Index: []"
      ]
     },
     "execution_count": 36,
     "metadata": {},
     "output_type": "execute_result"
    }
   ],
   "source": [
    "crimes[crimes.Date_Hour.isnull()]"
   ]
  },
  {
   "cell_type": "code",
   "execution_count": 37,
   "metadata": {},
   "outputs": [
    {
     "data": {
      "text/plain": [
       "0"
      ]
     },
     "execution_count": 37,
     "metadata": {},
     "output_type": "execute_result"
    }
   ],
   "source": [
    "len(crimes[crimes.Beat.isnull()])"
   ]
  },
  {
   "cell_type": "code",
   "execution_count": 38,
   "metadata": {},
   "outputs": [
    {
     "data": {
      "text/html": [
       "<div>\n",
       "<style scoped>\n",
       "    .dataframe tbody tr th:only-of-type {\n",
       "        vertical-align: middle;\n",
       "    }\n",
       "\n",
       "    .dataframe tbody tr th {\n",
       "        vertical-align: top;\n",
       "    }\n",
       "\n",
       "    .dataframe thead th {\n",
       "        text-align: right;\n",
       "    }\n",
       "</style>\n",
       "<table border=\"1\" class=\"dataframe\">\n",
       "  <thead>\n",
       "    <tr style=\"text-align: right;\">\n",
       "      <th></th>\n",
       "      <th>Date_Hour</th>\n",
       "      <th>Beat</th>\n",
       "      <th>BlockRange</th>\n",
       "      <th>StreetName</th>\n",
       "      <th>OffenseType</th>\n",
       "      <th>Premise</th>\n",
       "      <th>NumOffenses</th>\n",
       "    </tr>\n",
       "  </thead>\n",
       "  <tbody>\n",
       "  </tbody>\n",
       "</table>\n",
       "</div>"
      ],
      "text/plain": [
       "Empty DataFrame\n",
       "Columns: [Date_Hour, Beat, BlockRange, StreetName, OffenseType, Premise, NumOffenses]\n",
       "Index: []"
      ]
     },
     "execution_count": 38,
     "metadata": {},
     "output_type": "execute_result"
    }
   ],
   "source": [
    "crimes[crimes.Beat.isnull()]"
   ]
  },
  {
   "cell_type": "code",
   "execution_count": 39,
   "metadata": {},
   "outputs": [
    {
     "data": {
      "text/plain": [
       "0"
      ]
     },
     "execution_count": 39,
     "metadata": {},
     "output_type": "execute_result"
    }
   ],
   "source": [
    "len(crimes[crimes.BlockRange.isnull()])"
   ]
  },
  {
   "cell_type": "code",
   "execution_count": 40,
   "metadata": {},
   "outputs": [
    {
     "data": {
      "text/html": [
       "<div>\n",
       "<style scoped>\n",
       "    .dataframe tbody tr th:only-of-type {\n",
       "        vertical-align: middle;\n",
       "    }\n",
       "\n",
       "    .dataframe tbody tr th {\n",
       "        vertical-align: top;\n",
       "    }\n",
       "\n",
       "    .dataframe thead th {\n",
       "        text-align: right;\n",
       "    }\n",
       "</style>\n",
       "<table border=\"1\" class=\"dataframe\">\n",
       "  <thead>\n",
       "    <tr style=\"text-align: right;\">\n",
       "      <th></th>\n",
       "      <th>Date_Hour</th>\n",
       "      <th>Beat</th>\n",
       "      <th>BlockRange</th>\n",
       "      <th>StreetName</th>\n",
       "      <th>OffenseType</th>\n",
       "      <th>Premise</th>\n",
       "      <th>NumOffenses</th>\n",
       "    </tr>\n",
       "  </thead>\n",
       "  <tbody>\n",
       "  </tbody>\n",
       "</table>\n",
       "</div>"
      ],
      "text/plain": [
       "Empty DataFrame\n",
       "Columns: [Date_Hour, Beat, BlockRange, StreetName, OffenseType, Premise, NumOffenses]\n",
       "Index: []"
      ]
     },
     "execution_count": 40,
     "metadata": {},
     "output_type": "execute_result"
    }
   ],
   "source": [
    "crimes[crimes.BlockRange.isnull()]"
   ]
  },
  {
   "cell_type": "code",
   "execution_count": 41,
   "metadata": {},
   "outputs": [
    {
     "data": {
      "text/plain": [
       "0"
      ]
     },
     "execution_count": 41,
     "metadata": {},
     "output_type": "execute_result"
    }
   ],
   "source": [
    "len(crimes[crimes.StreetName.isnull()])"
   ]
  },
  {
   "cell_type": "code",
   "execution_count": 42,
   "metadata": {},
   "outputs": [
    {
     "data": {
      "text/html": [
       "<div>\n",
       "<style scoped>\n",
       "    .dataframe tbody tr th:only-of-type {\n",
       "        vertical-align: middle;\n",
       "    }\n",
       "\n",
       "    .dataframe tbody tr th {\n",
       "        vertical-align: top;\n",
       "    }\n",
       "\n",
       "    .dataframe thead th {\n",
       "        text-align: right;\n",
       "    }\n",
       "</style>\n",
       "<table border=\"1\" class=\"dataframe\">\n",
       "  <thead>\n",
       "    <tr style=\"text-align: right;\">\n",
       "      <th></th>\n",
       "      <th>Date_Hour</th>\n",
       "      <th>Beat</th>\n",
       "      <th>BlockRange</th>\n",
       "      <th>StreetName</th>\n",
       "      <th>OffenseType</th>\n",
       "      <th>Premise</th>\n",
       "      <th>NumOffenses</th>\n",
       "    </tr>\n",
       "  </thead>\n",
       "  <tbody>\n",
       "  </tbody>\n",
       "</table>\n",
       "</div>"
      ],
      "text/plain": [
       "Empty DataFrame\n",
       "Columns: [Date_Hour, Beat, BlockRange, StreetName, OffenseType, Premise, NumOffenses]\n",
       "Index: []"
      ]
     },
     "execution_count": 42,
     "metadata": {},
     "output_type": "execute_result"
    }
   ],
   "source": [
    "crimes[crimes.StreetName.isnull()]"
   ]
  },
  {
   "cell_type": "code",
   "execution_count": 43,
   "metadata": {},
   "outputs": [
    {
     "data": {
      "text/plain": [
       "0"
      ]
     },
     "execution_count": 43,
     "metadata": {},
     "output_type": "execute_result"
    }
   ],
   "source": [
    "len(crimes[crimes.OffenseType.isnull()])"
   ]
  },
  {
   "cell_type": "code",
   "execution_count": 44,
   "metadata": {},
   "outputs": [
    {
     "data": {
      "text/html": [
       "<div>\n",
       "<style scoped>\n",
       "    .dataframe tbody tr th:only-of-type {\n",
       "        vertical-align: middle;\n",
       "    }\n",
       "\n",
       "    .dataframe tbody tr th {\n",
       "        vertical-align: top;\n",
       "    }\n",
       "\n",
       "    .dataframe thead th {\n",
       "        text-align: right;\n",
       "    }\n",
       "</style>\n",
       "<table border=\"1\" class=\"dataframe\">\n",
       "  <thead>\n",
       "    <tr style=\"text-align: right;\">\n",
       "      <th></th>\n",
       "      <th>Date_Hour</th>\n",
       "      <th>Beat</th>\n",
       "      <th>BlockRange</th>\n",
       "      <th>StreetName</th>\n",
       "      <th>OffenseType</th>\n",
       "      <th>Premise</th>\n",
       "      <th>NumOffenses</th>\n",
       "    </tr>\n",
       "  </thead>\n",
       "  <tbody>\n",
       "  </tbody>\n",
       "</table>\n",
       "</div>"
      ],
      "text/plain": [
       "Empty DataFrame\n",
       "Columns: [Date_Hour, Beat, BlockRange, StreetName, OffenseType, Premise, NumOffenses]\n",
       "Index: []"
      ]
     },
     "execution_count": 44,
     "metadata": {},
     "output_type": "execute_result"
    }
   ],
   "source": [
    "crimes[crimes.OffenseType.isnull()]"
   ]
  },
  {
   "cell_type": "code",
   "execution_count": 45,
   "metadata": {},
   "outputs": [
    {
     "data": {
      "text/plain": [
       "0"
      ]
     },
     "execution_count": 45,
     "metadata": {},
     "output_type": "execute_result"
    }
   ],
   "source": [
    "len(crimes[crimes.Premise.isnull()])"
   ]
  },
  {
   "cell_type": "code",
   "execution_count": 46,
   "metadata": {},
   "outputs": [
    {
     "data": {
      "text/html": [
       "<div>\n",
       "<style scoped>\n",
       "    .dataframe tbody tr th:only-of-type {\n",
       "        vertical-align: middle;\n",
       "    }\n",
       "\n",
       "    .dataframe tbody tr th {\n",
       "        vertical-align: top;\n",
       "    }\n",
       "\n",
       "    .dataframe thead th {\n",
       "        text-align: right;\n",
       "    }\n",
       "</style>\n",
       "<table border=\"1\" class=\"dataframe\">\n",
       "  <thead>\n",
       "    <tr style=\"text-align: right;\">\n",
       "      <th></th>\n",
       "      <th>Date_Hour</th>\n",
       "      <th>Beat</th>\n",
       "      <th>BlockRange</th>\n",
       "      <th>StreetName</th>\n",
       "      <th>OffenseType</th>\n",
       "      <th>Premise</th>\n",
       "      <th>NumOffenses</th>\n",
       "    </tr>\n",
       "  </thead>\n",
       "  <tbody>\n",
       "  </tbody>\n",
       "</table>\n",
       "</div>"
      ],
      "text/plain": [
       "Empty DataFrame\n",
       "Columns: [Date_Hour, Beat, BlockRange, StreetName, OffenseType, Premise, NumOffenses]\n",
       "Index: []"
      ]
     },
     "execution_count": 46,
     "metadata": {},
     "output_type": "execute_result"
    }
   ],
   "source": [
    "crimes[crimes.Premise.isnull()]"
   ]
  },
  {
   "cell_type": "code",
   "execution_count": 47,
   "metadata": {},
   "outputs": [
    {
     "data": {
      "text/plain": [
       "0"
      ]
     },
     "execution_count": 47,
     "metadata": {},
     "output_type": "execute_result"
    }
   ],
   "source": [
    "len(crimes[crimes.NumOffenses.isnull()])"
   ]
  },
  {
   "cell_type": "code",
   "execution_count": 48,
   "metadata": {},
   "outputs": [
    {
     "data": {
      "text/html": [
       "<div>\n",
       "<style scoped>\n",
       "    .dataframe tbody tr th:only-of-type {\n",
       "        vertical-align: middle;\n",
       "    }\n",
       "\n",
       "    .dataframe tbody tr th {\n",
       "        vertical-align: top;\n",
       "    }\n",
       "\n",
       "    .dataframe thead th {\n",
       "        text-align: right;\n",
       "    }\n",
       "</style>\n",
       "<table border=\"1\" class=\"dataframe\">\n",
       "  <thead>\n",
       "    <tr style=\"text-align: right;\">\n",
       "      <th></th>\n",
       "      <th>Date_Hour</th>\n",
       "      <th>Beat</th>\n",
       "      <th>BlockRange</th>\n",
       "      <th>StreetName</th>\n",
       "      <th>OffenseType</th>\n",
       "      <th>Premise</th>\n",
       "      <th>NumOffenses</th>\n",
       "    </tr>\n",
       "  </thead>\n",
       "  <tbody>\n",
       "  </tbody>\n",
       "</table>\n",
       "</div>"
      ],
      "text/plain": [
       "Empty DataFrame\n",
       "Columns: [Date_Hour, Beat, BlockRange, StreetName, OffenseType, Premise, NumOffenses]\n",
       "Index: []"
      ]
     },
     "execution_count": 48,
     "metadata": {},
     "output_type": "execute_result"
    }
   ],
   "source": [
    "crimes[crimes.NumOffenses.isnull()]"
   ]
  },
  {
   "cell_type": "code",
   "execution_count": null,
   "metadata": {},
   "outputs": [],
   "source": []
  },
  {
   "cell_type": "code",
   "execution_count": null,
   "metadata": {},
   "outputs": [],
   "source": []
  },
  {
   "cell_type": "markdown",
   "metadata": {},
   "source": [
    "## Find NaN\n",
    "- drop if > 2 nan"
   ]
  },
  {
   "cell_type": "code",
   "execution_count": null,
   "metadata": {},
   "outputs": [],
   "source": []
  },
  {
   "cell_type": "code",
   "execution_count": 51,
   "metadata": {},
   "outputs": [
    {
     "data": {
      "text/plain": [
       "0"
      ]
     },
     "execution_count": 51,
     "metadata": {},
     "output_type": "execute_result"
    }
   ],
   "source": [
    "len(crimes[crimes.isnull().any(axis=1)])"
   ]
  },
  {
   "cell_type": "code",
   "execution_count": 52,
   "metadata": {},
   "outputs": [
    {
     "data": {
      "text/html": [
       "<div>\n",
       "<style scoped>\n",
       "    .dataframe tbody tr th:only-of-type {\n",
       "        vertical-align: middle;\n",
       "    }\n",
       "\n",
       "    .dataframe tbody tr th {\n",
       "        vertical-align: top;\n",
       "    }\n",
       "\n",
       "    .dataframe thead th {\n",
       "        text-align: right;\n",
       "    }\n",
       "</style>\n",
       "<table border=\"1\" class=\"dataframe\">\n",
       "  <thead>\n",
       "    <tr style=\"text-align: right;\">\n",
       "      <th></th>\n",
       "      <th>Date_Hour</th>\n",
       "      <th>Beat</th>\n",
       "      <th>BlockRange</th>\n",
       "      <th>StreetName</th>\n",
       "      <th>OffenseType</th>\n",
       "      <th>Premise</th>\n",
       "      <th>NumOffenses</th>\n",
       "    </tr>\n",
       "  </thead>\n",
       "  <tbody>\n",
       "  </tbody>\n",
       "</table>\n",
       "</div>"
      ],
      "text/plain": [
       "Empty DataFrame\n",
       "Columns: [Date_Hour, Beat, BlockRange, StreetName, OffenseType, Premise, NumOffenses]\n",
       "Index: []"
      ]
     },
     "execution_count": 52,
     "metadata": {},
     "output_type": "execute_result"
    }
   ],
   "source": [
    "crimes[crimes.isnull().any(axis=1)]"
   ]
  },
  {
   "cell_type": "code",
   "execution_count": 53,
   "metadata": {},
   "outputs": [],
   "source": [
    "#crimes = crimes.dropna(thresh=2)"
   ]
  },
  {
   "cell_type": "code",
   "execution_count": null,
   "metadata": {},
   "outputs": [],
   "source": [
    "#crimes[crimes.isnull().any(axis=1)]"
   ]
  },
  {
   "cell_type": "markdown",
   "metadata": {},
   "source": [
    "## Joint dataframes"
   ]
  },
  {
   "cell_type": "code",
   "execution_count": 54,
   "metadata": {},
   "outputs": [
    {
     "name": "stdout",
     "output_type": "stream",
     "text": [
      "<class 'pandas.core.frame.DataFrame'>\n",
      "Int64Index: 127774 entries, 0 to 127773\n",
      "Data columns (total 8 columns):\n",
      "Date_Hour              127771 non-null datetime64[ns]\n",
      "Beat                   127771 non-null object\n",
      "BlockRange             127771 non-null object\n",
      "StreetName             127771 non-null object\n",
      "OffenseType            127771 non-null object\n",
      "Premise                127774 non-null object\n",
      "NumOffenses            127771 non-null float64\n",
      "Premise Description    127148 non-null object\n",
      "dtypes: datetime64[ns](1), float64(1), object(6)\n",
      "memory usage: 8.8+ MB\n"
     ]
    }
   ],
   "source": [
    "# join two datarames\n",
    "crimes = pd.merge(crimes, pc, on='Premise', how='outer')\n",
    "crimes.info()"
   ]
  },
  {
   "cell_type": "code",
   "execution_count": 55,
   "metadata": {},
   "outputs": [
    {
     "data": {
      "text/html": [
       "<div>\n",
       "<style scoped>\n",
       "    .dataframe tbody tr th:only-of-type {\n",
       "        vertical-align: middle;\n",
       "    }\n",
       "\n",
       "    .dataframe tbody tr th {\n",
       "        vertical-align: top;\n",
       "    }\n",
       "\n",
       "    .dataframe thead th {\n",
       "        text-align: right;\n",
       "    }\n",
       "</style>\n",
       "<table border=\"1\" class=\"dataframe\">\n",
       "  <thead>\n",
       "    <tr style=\"text-align: right;\">\n",
       "      <th></th>\n",
       "      <th>Date_Hour</th>\n",
       "      <th>Beat</th>\n",
       "      <th>BlockRange</th>\n",
       "      <th>StreetName</th>\n",
       "      <th>OffenseType</th>\n",
       "      <th>Premise</th>\n",
       "      <th>NumOffenses</th>\n",
       "      <th>Premise Description</th>\n",
       "    </tr>\n",
       "  </thead>\n",
       "  <tbody>\n",
       "    <tr>\n",
       "      <th>0</th>\n",
       "      <td>2012-04-05 02:00:00</td>\n",
       "      <td>17E40</td>\n",
       "      <td>6100-6199</td>\n",
       "      <td>CLARIDGE</td>\n",
       "      <td>Murder</td>\n",
       "      <td>20R</td>\n",
       "      <td>1.0</td>\n",
       "      <td>RESIDENCE/HOUSE</td>\n",
       "    </tr>\n",
       "    <tr>\n",
       "      <th>1</th>\n",
       "      <td>2012-04-21 23:00:00</td>\n",
       "      <td>8C10</td>\n",
       "      <td>6200-6299</td>\n",
       "      <td>RIETTA</td>\n",
       "      <td>Murder</td>\n",
       "      <td>20R</td>\n",
       "      <td>1.0</td>\n",
       "      <td>RESIDENCE/HOUSE</td>\n",
       "    </tr>\n",
       "    <tr>\n",
       "      <th>2</th>\n",
       "      <td>2012-04-30 08:00:00</td>\n",
       "      <td>7C20</td>\n",
       "      <td>4000-4099</td>\n",
       "      <td>LIBERTY</td>\n",
       "      <td>Murder</td>\n",
       "      <td>20R</td>\n",
       "      <td>1.0</td>\n",
       "      <td>RESIDENCE/HOUSE</td>\n",
       "    </tr>\n",
       "    <tr>\n",
       "      <th>3</th>\n",
       "      <td>2012-04-12 04:00:00</td>\n",
       "      <td>7C50</td>\n",
       "      <td>19400-19499</td>\n",
       "      <td>BORDERS</td>\n",
       "      <td>Rape</td>\n",
       "      <td>20R</td>\n",
       "      <td>1.0</td>\n",
       "      <td>RESIDENCE/HOUSE</td>\n",
       "    </tr>\n",
       "    <tr>\n",
       "      <th>4</th>\n",
       "      <td>2012-04-23 08:00:00</td>\n",
       "      <td>16E20</td>\n",
       "      <td>4100-4199</td>\n",
       "      <td>KNOTTY OAKS</td>\n",
       "      <td>Rape</td>\n",
       "      <td>20R</td>\n",
       "      <td>1.0</td>\n",
       "      <td>RESIDENCE/HOUSE</td>\n",
       "    </tr>\n",
       "  </tbody>\n",
       "</table>\n",
       "</div>"
      ],
      "text/plain": [
       "            Date_Hour   Beat   BlockRange   StreetName OffenseType Premise  \\\n",
       "0 2012-04-05 02:00:00  17E40    6100-6199     CLARIDGE      Murder     20R   \n",
       "1 2012-04-21 23:00:00   8C10    6200-6299       RIETTA      Murder     20R   \n",
       "2 2012-04-30 08:00:00   7C20    4000-4099      LIBERTY      Murder     20R   \n",
       "3 2012-04-12 04:00:00   7C50  19400-19499      BORDERS        Rape     20R   \n",
       "4 2012-04-23 08:00:00  16E20    4100-4199  KNOTTY OAKS        Rape     20R   \n",
       "\n",
       "   NumOffenses Premise Description  \n",
       "0          1.0     RESIDENCE/HOUSE  \n",
       "1          1.0     RESIDENCE/HOUSE  \n",
       "2          1.0     RESIDENCE/HOUSE  \n",
       "3          1.0     RESIDENCE/HOUSE  \n",
       "4          1.0     RESIDENCE/HOUSE  "
      ]
     },
     "execution_count": 55,
     "metadata": {},
     "output_type": "execute_result"
    }
   ],
   "source": [
    "crimes.head()"
   ]
  },
  {
   "cell_type": "code",
   "execution_count": 56,
   "metadata": {},
   "outputs": [
    {
     "data": {
      "text/plain": [
       "626"
      ]
     },
     "execution_count": 56,
     "metadata": {},
     "output_type": "execute_result"
    }
   ],
   "source": [
    "len(crimes[crimes['Premise Description'].isnull()])"
   ]
  },
  {
   "cell_type": "code",
   "execution_count": 57,
   "metadata": {},
   "outputs": [
    {
     "data": {
      "text/html": [
       "<div>\n",
       "<style scoped>\n",
       "    .dataframe tbody tr th:only-of-type {\n",
       "        vertical-align: middle;\n",
       "    }\n",
       "\n",
       "    .dataframe tbody tr th {\n",
       "        vertical-align: top;\n",
       "    }\n",
       "\n",
       "    .dataframe thead th {\n",
       "        text-align: right;\n",
       "    }\n",
       "</style>\n",
       "<table border=\"1\" class=\"dataframe\">\n",
       "  <thead>\n",
       "    <tr style=\"text-align: right;\">\n",
       "      <th></th>\n",
       "      <th>Date_Hour</th>\n",
       "      <th>Beat</th>\n",
       "      <th>BlockRange</th>\n",
       "      <th>StreetName</th>\n",
       "      <th>OffenseType</th>\n",
       "      <th>Premise</th>\n",
       "      <th>NumOffenses</th>\n",
       "      <th>Premise Description</th>\n",
       "    </tr>\n",
       "  </thead>\n",
       "  <tbody>\n",
       "    <tr>\n",
       "      <th>118421</th>\n",
       "      <td>2012-04-22 02:00:00</td>\n",
       "      <td>2A10</td>\n",
       "      <td>1200-1299</td>\n",
       "      <td>HOGAN</td>\n",
       "      <td>Robbery</td>\n",
       "      <td>N</td>\n",
       "      <td>1.0</td>\n",
       "      <td>NaN</td>\n",
       "    </tr>\n",
       "    <tr>\n",
       "      <th>118422</th>\n",
       "      <td>2012-08-04 23:00:00</td>\n",
       "      <td>1A30</td>\n",
       "      <td>2000-2099</td>\n",
       "      <td>PORTSMOUTH</td>\n",
       "      <td>Theft</td>\n",
       "      <td>N</td>\n",
       "      <td>1.0</td>\n",
       "      <td>NaN</td>\n",
       "    </tr>\n",
       "    <tr>\n",
       "      <th>118423</th>\n",
       "      <td>2012-08-25 14:00:00</td>\n",
       "      <td>7C30</td>\n",
       "      <td>10300-10399</td>\n",
       "      <td>EASTEX</td>\n",
       "      <td>Theft</td>\n",
       "      <td>N</td>\n",
       "      <td>1.0</td>\n",
       "      <td>NaN</td>\n",
       "    </tr>\n",
       "    <tr>\n",
       "      <th>118424</th>\n",
       "      <td>2012-12-12 10:00:00</td>\n",
       "      <td>8C50</td>\n",
       "      <td>9300-9399</td>\n",
       "      <td>TIDWELL</td>\n",
       "      <td>Aggravated Assault</td>\n",
       "      <td>N</td>\n",
       "      <td>1.0</td>\n",
       "      <td>NaN</td>\n",
       "    </tr>\n",
       "    <tr>\n",
       "      <th>118425</th>\n",
       "      <td>2012-12-12 07:00:00</td>\n",
       "      <td>3B50</td>\n",
       "      <td>4400-4499</td>\n",
       "      <td>NORTH</td>\n",
       "      <td>Theft</td>\n",
       "      <td>N</td>\n",
       "      <td>1.0</td>\n",
       "      <td>NaN</td>\n",
       "    </tr>\n",
       "  </tbody>\n",
       "</table>\n",
       "</div>"
      ],
      "text/plain": [
       "                 Date_Hour  Beat   BlockRange  StreetName         OffenseType  \\\n",
       "118421 2012-04-22 02:00:00  2A10    1200-1299       HOGAN             Robbery   \n",
       "118422 2012-08-04 23:00:00  1A30    2000-2099  PORTSMOUTH               Theft   \n",
       "118423 2012-08-25 14:00:00  7C30  10300-10399      EASTEX               Theft   \n",
       "118424 2012-12-12 10:00:00  8C50    9300-9399     TIDWELL  Aggravated Assault   \n",
       "118425 2012-12-12 07:00:00  3B50    4400-4499       NORTH               Theft   \n",
       "\n",
       "       Premise  NumOffenses Premise Description  \n",
       "118421       N          1.0                 NaN  \n",
       "118422       N          1.0                 NaN  \n",
       "118423       N          1.0                 NaN  \n",
       "118424       N          1.0                 NaN  \n",
       "118425       N          1.0                 NaN  "
      ]
     },
     "execution_count": 57,
     "metadata": {},
     "output_type": "execute_result"
    }
   ],
   "source": [
    "crimes[crimes['Premise Description'].isnull()].head()"
   ]
  },
  {
   "cell_type": "markdown",
   "metadata": {},
   "source": [
    "## Problem\n",
    "- find nan values on one col, and copy related col"
   ]
  },
  {
   "cell_type": "code",
   "execution_count": 58,
   "metadata": {},
   "outputs": [
    {
     "data": {
      "text/plain": [
       "array(['20R', '18A', '20A', '13R', '20D', '250', '18B', '20C', '20V',\n",
       "       '01B', '20P', '140', '18O', '11R', '22M', '18N', '080', '05D',\n",
       "       '24F', '02B', '24E', '05L', '24P', '05Z', '18C', '13B', '210',\n",
       "       '070', '18T', '05B', '120', '09D', '03B', '100', '24A', '23S',\n",
       "       '05O', '18R', '240', '24C', '02S', '18U', '18G', '22H', '18P',\n",
       "       '18M', '03S', '13H', '13S', '20G', '09P', 'N', '05C', '040', '05P',\n",
       "       '---', '05Q', '05R', '170', '09H', '12V', '22E', '05S', '11F',\n",
       "       '18W', '060', '11G', '20M', '18D', '160', '05E', '20N', '05H',\n",
       "       '22P', '05Y', '190', '25V', '05W', '22D', '24J', '24V', '20W',\n",
       "       '20L', '05F', '05G', '05N', '09R', '05V', '05X', '24M', '21V',\n",
       "       '11L', '19V', '24T', '11P', '18H', '18S', '01P', '01A', '24S',\n",
       "       '22U', '18L', '05M', '01K', '11C', '05A', '150', '24B', '05U',\n",
       "       '24G', '20H', '11S', '11V', '13A', '02C', '13T', '25R', '05T',\n",
       "       '06', '01T', '14V', '22C', '04V', '22V', '09V', '13C', '01R',\n",
       "       '02V', '15V'], dtype=object)"
      ]
     },
     "execution_count": 58,
     "metadata": {},
     "output_type": "execute_result"
    }
   ],
   "source": [
    "crimes.Premise.unique()"
   ]
  },
  {
   "cell_type": "code",
   "execution_count": 59,
   "metadata": {},
   "outputs": [
    {
     "data": {
      "text/plain": [
       "582"
      ]
     },
     "execution_count": 59,
     "metadata": {},
     "output_type": "execute_result"
    }
   ],
   "source": [
    "len(crimes[crimes['Premise'] == '---'])"
   ]
  },
  {
   "cell_type": "code",
   "execution_count": 60,
   "metadata": {},
   "outputs": [
    {
     "data": {
      "text/plain": [
       "26"
      ]
     },
     "execution_count": 60,
     "metadata": {},
     "output_type": "execute_result"
    }
   ],
   "source": [
    "len(crimes[crimes['Premise'] == 'N'])"
   ]
  },
  {
   "cell_type": "code",
   "execution_count": 61,
   "metadata": {},
   "outputs": [
    {
     "data": {
      "text/html": [
       "<div>\n",
       "<style scoped>\n",
       "    .dataframe tbody tr th:only-of-type {\n",
       "        vertical-align: middle;\n",
       "    }\n",
       "\n",
       "    .dataframe tbody tr th {\n",
       "        vertical-align: top;\n",
       "    }\n",
       "\n",
       "    .dataframe thead th {\n",
       "        text-align: right;\n",
       "    }\n",
       "</style>\n",
       "<table border=\"1\" class=\"dataframe\">\n",
       "  <thead>\n",
       "    <tr style=\"text-align: right;\">\n",
       "      <th></th>\n",
       "      <th>Date_Hour</th>\n",
       "      <th>Beat</th>\n",
       "      <th>BlockRange</th>\n",
       "      <th>StreetName</th>\n",
       "      <th>OffenseType</th>\n",
       "      <th>Premise</th>\n",
       "      <th>NumOffenses</th>\n",
       "      <th>Premise Description</th>\n",
       "    </tr>\n",
       "  </thead>\n",
       "  <tbody>\n",
       "    <tr>\n",
       "      <th>118421</th>\n",
       "      <td>2012-04-22 02:00:00</td>\n",
       "      <td>2A10</td>\n",
       "      <td>1200-1299</td>\n",
       "      <td>HOGAN</td>\n",
       "      <td>Robbery</td>\n",
       "      <td>N</td>\n",
       "      <td>1.0</td>\n",
       "      <td>NaN</td>\n",
       "    </tr>\n",
       "    <tr>\n",
       "      <th>118422</th>\n",
       "      <td>2012-08-04 23:00:00</td>\n",
       "      <td>1A30</td>\n",
       "      <td>2000-2099</td>\n",
       "      <td>PORTSMOUTH</td>\n",
       "      <td>Theft</td>\n",
       "      <td>N</td>\n",
       "      <td>1.0</td>\n",
       "      <td>NaN</td>\n",
       "    </tr>\n",
       "    <tr>\n",
       "      <th>118423</th>\n",
       "      <td>2012-08-25 14:00:00</td>\n",
       "      <td>7C30</td>\n",
       "      <td>10300-10399</td>\n",
       "      <td>EASTEX</td>\n",
       "      <td>Theft</td>\n",
       "      <td>N</td>\n",
       "      <td>1.0</td>\n",
       "      <td>NaN</td>\n",
       "    </tr>\n",
       "    <tr>\n",
       "      <th>118424</th>\n",
       "      <td>2012-12-12 10:00:00</td>\n",
       "      <td>8C50</td>\n",
       "      <td>9300-9399</td>\n",
       "      <td>TIDWELL</td>\n",
       "      <td>Aggravated Assault</td>\n",
       "      <td>N</td>\n",
       "      <td>1.0</td>\n",
       "      <td>NaN</td>\n",
       "    </tr>\n",
       "    <tr>\n",
       "      <th>118425</th>\n",
       "      <td>2012-12-12 07:00:00</td>\n",
       "      <td>3B50</td>\n",
       "      <td>4400-4499</td>\n",
       "      <td>NORTH</td>\n",
       "      <td>Theft</td>\n",
       "      <td>N</td>\n",
       "      <td>1.0</td>\n",
       "      <td>NaN</td>\n",
       "    </tr>\n",
       "  </tbody>\n",
       "</table>\n",
       "</div>"
      ],
      "text/plain": [
       "                 Date_Hour  Beat   BlockRange  StreetName         OffenseType  \\\n",
       "118421 2012-04-22 02:00:00  2A10    1200-1299       HOGAN             Robbery   \n",
       "118422 2012-08-04 23:00:00  1A30    2000-2099  PORTSMOUTH               Theft   \n",
       "118423 2012-08-25 14:00:00  7C30  10300-10399      EASTEX               Theft   \n",
       "118424 2012-12-12 10:00:00  8C50    9300-9399     TIDWELL  Aggravated Assault   \n",
       "118425 2012-12-12 07:00:00  3B50    4400-4499       NORTH               Theft   \n",
       "\n",
       "       Premise  NumOffenses Premise Description  \n",
       "118421       N          1.0                 NaN  \n",
       "118422       N          1.0                 NaN  \n",
       "118423       N          1.0                 NaN  \n",
       "118424       N          1.0                 NaN  \n",
       "118425       N          1.0                 NaN  "
      ]
     },
     "execution_count": 61,
     "metadata": {},
     "output_type": "execute_result"
    }
   ],
   "source": [
    "crimes[crimes['Premise'] == 'N'].head()"
   ]
  },
  {
   "cell_type": "code",
   "execution_count": null,
   "metadata": {},
   "outputs": [],
   "source": []
  },
  {
   "cell_type": "code",
   "execution_count": 62,
   "metadata": {},
   "outputs": [],
   "source": [
    "crimes.loc[crimes['Premise Description'].isnull(),'Premise Description'] = crimes['Premise']"
   ]
  },
  {
   "cell_type": "code",
   "execution_count": 63,
   "metadata": {},
   "outputs": [
    {
     "data": {
      "text/plain": [
       "0"
      ]
     },
     "execution_count": 63,
     "metadata": {},
     "output_type": "execute_result"
    }
   ],
   "source": [
    "len(crimes[crimes['Premise Description'].isnull()])"
   ]
  },
  {
   "cell_type": "code",
   "execution_count": 64,
   "metadata": {},
   "outputs": [
    {
     "data": {
      "text/plain": [
       "582"
      ]
     },
     "execution_count": 64,
     "metadata": {},
     "output_type": "execute_result"
    }
   ],
   "source": [
    "\n",
    "len(crimes[crimes['Premise'] == '---'])"
   ]
  },
  {
   "cell_type": "code",
   "execution_count": 65,
   "metadata": {},
   "outputs": [
    {
     "data": {
      "text/html": [
       "<div>\n",
       "<style scoped>\n",
       "    .dataframe tbody tr th:only-of-type {\n",
       "        vertical-align: middle;\n",
       "    }\n",
       "\n",
       "    .dataframe tbody tr th {\n",
       "        vertical-align: top;\n",
       "    }\n",
       "\n",
       "    .dataframe thead th {\n",
       "        text-align: right;\n",
       "    }\n",
       "</style>\n",
       "<table border=\"1\" class=\"dataframe\">\n",
       "  <thead>\n",
       "    <tr style=\"text-align: right;\">\n",
       "      <th></th>\n",
       "      <th>Date_Hour</th>\n",
       "      <th>Beat</th>\n",
       "      <th>BlockRange</th>\n",
       "      <th>StreetName</th>\n",
       "      <th>OffenseType</th>\n",
       "      <th>Premise</th>\n",
       "      <th>NumOffenses</th>\n",
       "      <th>Premise Description</th>\n",
       "    </tr>\n",
       "  </thead>\n",
       "  <tbody>\n",
       "    <tr>\n",
       "      <th>120221</th>\n",
       "      <td>2012-04-26 22:00:00</td>\n",
       "      <td>19G40</td>\n",
       "      <td>12200-12299</td>\n",
       "      <td>DAIRY ASHFORD</td>\n",
       "      <td>Robbery</td>\n",
       "      <td>---</td>\n",
       "      <td>1.0</td>\n",
       "      <td>---</td>\n",
       "    </tr>\n",
       "    <tr>\n",
       "      <th>120222</th>\n",
       "      <td>2012-04-01 02:00:00</td>\n",
       "      <td>2A50</td>\n",
       "      <td>1300-1399</td>\n",
       "      <td>UTAH</td>\n",
       "      <td>Aggravated Assault</td>\n",
       "      <td>---</td>\n",
       "      <td>1.0</td>\n",
       "      <td>---</td>\n",
       "    </tr>\n",
       "    <tr>\n",
       "      <th>120223</th>\n",
       "      <td>2012-04-05 16:00:00</td>\n",
       "      <td>11H10</td>\n",
       "      <td>7700-7799</td>\n",
       "      <td>CAPITOL</td>\n",
       "      <td>Aggravated Assault</td>\n",
       "      <td>---</td>\n",
       "      <td>1.0</td>\n",
       "      <td>---</td>\n",
       "    </tr>\n",
       "    <tr>\n",
       "      <th>120224</th>\n",
       "      <td>2012-04-18 10:00:00</td>\n",
       "      <td>2A20</td>\n",
       "      <td>600-699</td>\n",
       "      <td>CAVALCADE</td>\n",
       "      <td>Aggravated Assault</td>\n",
       "      <td>---</td>\n",
       "      <td>1.0</td>\n",
       "      <td>---</td>\n",
       "    </tr>\n",
       "    <tr>\n",
       "      <th>120225</th>\n",
       "      <td>2012-04-11 19:00:00</td>\n",
       "      <td>17E40</td>\n",
       "      <td>6600-6699</td>\n",
       "      <td>BELLFORT</td>\n",
       "      <td>Aggravated Assault</td>\n",
       "      <td>---</td>\n",
       "      <td>1.0</td>\n",
       "      <td>---</td>\n",
       "    </tr>\n",
       "  </tbody>\n",
       "</table>\n",
       "</div>"
      ],
      "text/plain": [
       "                 Date_Hour   Beat   BlockRange     StreetName  \\\n",
       "120221 2012-04-26 22:00:00  19G40  12200-12299  DAIRY ASHFORD   \n",
       "120222 2012-04-01 02:00:00   2A50    1300-1399           UTAH   \n",
       "120223 2012-04-05 16:00:00  11H10    7700-7799        CAPITOL   \n",
       "120224 2012-04-18 10:00:00   2A20      600-699      CAVALCADE   \n",
       "120225 2012-04-11 19:00:00  17E40    6600-6699       BELLFORT   \n",
       "\n",
       "               OffenseType Premise  NumOffenses Premise Description  \n",
       "120221             Robbery     ---          1.0                 ---  \n",
       "120222  Aggravated Assault     ---          1.0                 ---  \n",
       "120223  Aggravated Assault     ---          1.0                 ---  \n",
       "120224  Aggravated Assault     ---          1.0                 ---  \n",
       "120225  Aggravated Assault     ---          1.0                 ---  "
      ]
     },
     "execution_count": 65,
     "metadata": {},
     "output_type": "execute_result"
    }
   ],
   "source": [
    "crimes[crimes['Premise'] == '---'].head()"
   ]
  },
  {
   "cell_type": "markdown",
   "metadata": {},
   "source": [
    "## Visualize data"
   ]
  },
  {
   "cell_type": "code",
   "execution_count": 66,
   "metadata": {},
   "outputs": [
    {
     "data": {
      "image/png": "[encoded data removed]",
      "text/plain": [
       "<Figure size 432x288 with 1 Axes>"
      ]
     },
     "metadata": {},
     "output_type": "display_data"
    }
   ],
   "source": [
    "sns.heatmap(crimes.isnull(),yticklabels=False,cbar=False,cmap='viridis')\n",
    "plt.title('Nulls display')\n",
    "plt.show()"
   ]
  },
  {
   "cell_type": "markdown",
   "metadata": {},
   "source": [
    "## Display any null values"
   ]
  },
  {
   "cell_type": "code",
   "execution_count": 67,
   "metadata": {},
   "outputs": [
    {
     "data": {
      "text/plain": [
       "3"
      ]
     },
     "execution_count": 67,
     "metadata": {},
     "output_type": "execute_result"
    }
   ],
   "source": [
    "len(crimes[crimes.isnull().any(axis=1)])"
   ]
  },
  {
   "cell_type": "code",
   "execution_count": 68,
   "metadata": {},
   "outputs": [
    {
     "data": {
      "text/html": [
       "<div>\n",
       "<style scoped>\n",
       "    .dataframe tbody tr th:only-of-type {\n",
       "        vertical-align: middle;\n",
       "    }\n",
       "\n",
       "    .dataframe tbody tr th {\n",
       "        vertical-align: top;\n",
       "    }\n",
       "\n",
       "    .dataframe thead th {\n",
       "        text-align: right;\n",
       "    }\n",
       "</style>\n",
       "<table border=\"1\" class=\"dataframe\">\n",
       "  <thead>\n",
       "    <tr style=\"text-align: right;\">\n",
       "      <th></th>\n",
       "      <th>Date_Hour</th>\n",
       "      <th>Beat</th>\n",
       "      <th>BlockRange</th>\n",
       "      <th>StreetName</th>\n",
       "      <th>OffenseType</th>\n",
       "      <th>Premise</th>\n",
       "      <th>NumOffenses</th>\n",
       "      <th>Premise Description</th>\n",
       "    </tr>\n",
       "  </thead>\n",
       "  <tbody>\n",
       "    <tr>\n",
       "      <th>127771</th>\n",
       "      <td>NaT</td>\n",
       "      <td>NaN</td>\n",
       "      <td>NaN</td>\n",
       "      <td>NaN</td>\n",
       "      <td>NaN</td>\n",
       "      <td>01R</td>\n",
       "      <td>NaN</td>\n",
       "      <td>LIGHT RAIL VEHICLE</td>\n",
       "    </tr>\n",
       "    <tr>\n",
       "      <th>127772</th>\n",
       "      <td>NaT</td>\n",
       "      <td>NaN</td>\n",
       "      <td>NaN</td>\n",
       "      <td>NaN</td>\n",
       "      <td>NaN</td>\n",
       "      <td>02V</td>\n",
       "      <td>NaN</td>\n",
       "      <td>VACANT BANK</td>\n",
       "    </tr>\n",
       "    <tr>\n",
       "      <th>127773</th>\n",
       "      <td>NaT</td>\n",
       "      <td>NaN</td>\n",
       "      <td>NaN</td>\n",
       "      <td>NaN</td>\n",
       "      <td>NaN</td>\n",
       "      <td>15V</td>\n",
       "      <td>NaN</td>\n",
       "      <td>VACANT JAIL/PRISON</td>\n",
       "    </tr>\n",
       "  </tbody>\n",
       "</table>\n",
       "</div>"
      ],
      "text/plain": [
       "       Date_Hour Beat BlockRange StreetName OffenseType Premise  NumOffenses  \\\n",
       "127771       NaT  NaN        NaN        NaN         NaN     01R          NaN   \n",
       "127772       NaT  NaN        NaN        NaN         NaN     02V          NaN   \n",
       "127773       NaT  NaN        NaN        NaN         NaN     15V          NaN   \n",
       "\n",
       "       Premise Description  \n",
       "127771  LIGHT RAIL VEHICLE  \n",
       "127772         VACANT BANK  \n",
       "127773  VACANT JAIL/PRISON  "
      ]
     },
     "execution_count": 68,
     "metadata": {},
     "output_type": "execute_result"
    }
   ],
   "source": [
    "crimes[crimes.isnull().any(axis=1)].tail()"
   ]
  },
  {
   "cell_type": "markdown",
   "metadata": {},
   "source": [
    "## drop rows with 2 or 3 or more NaN"
   ]
  },
  {
   "cell_type": "code",
   "execution_count": 69,
   "metadata": {},
   "outputs": [],
   "source": [
    "crimes = crimes.dropna(thresh=3)"
   ]
  },
  {
   "cell_type": "code",
   "execution_count": 70,
   "metadata": {},
   "outputs": [
    {
     "data": {
      "text/plain": [
       "0"
      ]
     },
     "execution_count": 70,
     "metadata": {},
     "output_type": "execute_result"
    }
   ],
   "source": [
    "len(crimes[crimes.isnull().any(axis=1)])"
   ]
  },
  {
   "cell_type": "code",
   "execution_count": 71,
   "metadata": {},
   "outputs": [
    {
     "data": {
      "text/html": [
       "<div>\n",
       "<style scoped>\n",
       "    .dataframe tbody tr th:only-of-type {\n",
       "        vertical-align: middle;\n",
       "    }\n",
       "\n",
       "    .dataframe tbody tr th {\n",
       "        vertical-align: top;\n",
       "    }\n",
       "\n",
       "    .dataframe thead th {\n",
       "        text-align: right;\n",
       "    }\n",
       "</style>\n",
       "<table border=\"1\" class=\"dataframe\">\n",
       "  <thead>\n",
       "    <tr style=\"text-align: right;\">\n",
       "      <th></th>\n",
       "      <th>Date_Hour</th>\n",
       "      <th>Beat</th>\n",
       "      <th>BlockRange</th>\n",
       "      <th>StreetName</th>\n",
       "      <th>OffenseType</th>\n",
       "      <th>Premise</th>\n",
       "      <th>NumOffenses</th>\n",
       "      <th>Premise Description</th>\n",
       "    </tr>\n",
       "  </thead>\n",
       "  <tbody>\n",
       "  </tbody>\n",
       "</table>\n",
       "</div>"
      ],
      "text/plain": [
       "Empty DataFrame\n",
       "Columns: [Date_Hour, Beat, BlockRange, StreetName, OffenseType, Premise, NumOffenses, Premise Description]\n",
       "Index: []"
      ]
     },
     "execution_count": 71,
     "metadata": {},
     "output_type": "execute_result"
    }
   ],
   "source": [
    "crimes[crimes.isnull().any(axis=1)].tail()"
   ]
  },
  {
   "cell_type": "markdown",
   "metadata": {},
   "source": [
    "## Inspect each column"
   ]
  },
  {
   "cell_type": "code",
   "execution_count": 72,
   "metadata": {},
   "outputs": [
    {
     "data": {
      "text/plain": [
       "Date_Hour              datetime64[ns]\n",
       "Beat                           object\n",
       "BlockRange                     object\n",
       "StreetName                     object\n",
       "OffenseType                    object\n",
       "Premise                        object\n",
       "NumOffenses                   float64\n",
       "Premise Description            object\n",
       "dtype: object"
      ]
     },
     "execution_count": 72,
     "metadata": {},
     "output_type": "execute_result"
    }
   ],
   "source": [
    "crimes.dtypes"
   ]
  },
  {
   "cell_type": "markdown",
   "metadata": {},
   "source": [
    "## Beat"
   ]
  },
  {
   "cell_type": "code",
   "execution_count": 73,
   "metadata": {},
   "outputs": [
    {
     "data": {
      "text/plain": [
       "121"
      ]
     },
     "execution_count": 73,
     "metadata": {},
     "output_type": "execute_result"
    }
   ],
   "source": [
    "len(crimes.Beat.value_counts())"
   ]
  },
  {
   "cell_type": "code",
   "execution_count": 74,
   "metadata": {},
   "outputs": [
    {
     "data": {
      "text/plain": [
       "121"
      ]
     },
     "execution_count": 74,
     "metadata": {},
     "output_type": "execute_result"
    }
   ],
   "source": [
    "len(crimes.Beat.value_counts(dropna=False))"
   ]
  },
  {
   "cell_type": "code",
   "execution_count": 75,
   "metadata": {},
   "outputs": [
    {
     "data": {
      "text/plain": [
       "array(['17E40', '8C10', '7C20', '7C50', '16E20', '10H10', '2A10', '6B10',\n",
       "       '7C10', '1A10', '3B10', '3B40', '6B30', '20G70', '3B50', '14D10',\n",
       "       '15E20', '14D30', '11H30', '10H50', '19G30', '12D10', '14D20',\n",
       "       '19G40', '16E10', '12D20', '3B30', '13D10', '17E20', '12D40',\n",
       "       '5F30', '6B20', '18F50', '8C40', '18F10', '5F20', '8C60', '6B40',\n",
       "       '12D60', '15E30', '8C30', '19G20', '8C50', '17E30', '14D40',\n",
       "       '12D70', '9C40', '8C20', '10H40', '20G80', '11H40', '20G40',\n",
       "       '2A30', '16E40', '7C30', '13D20', '2A20', '2A50', '10H20', '16E30',\n",
       "       '20G50', '15E10', '10H60', '6B50', '11H20', '11H10', '9C30',\n",
       "       '9C20', '13D40', '20G20', '18F60', '24C30', '4F20', '5F10', '4F30',\n",
       "       '1A20', '17E10', '19G50', '18F20', '24C10', '4F10', '2A40', '1A30',\n",
       "       '18F30', '20G30', '18F40', '24C60', '19G10', '1A40', '10H80',\n",
       "       '7C40', '5F40', '2A60', '9C10', '20G60', '14D50', '23J40', '10H70',\n",
       "       '13D30', '10H30', '11H50', '12D50', '6B60', '24C20', '1A50',\n",
       "       '20G10', '15E40', 'UNK', '24C40', '12D30', '23J50', '24C50',\n",
       "       '21I50', '23J30', '21I10', '23J20', '21I30', '21I60', '21I20',\n",
       "       '21I70', '21I40'], dtype=object)"
      ]
     },
     "execution_count": 75,
     "metadata": {},
     "output_type": "execute_result"
    }
   ],
   "source": [
    "crimes.Beat.unique()"
   ]
  },
  {
   "cell_type": "code",
   "execution_count": 76,
   "metadata": {},
   "outputs": [],
   "source": [
    "# replace extra ' with empty space\n",
    "crimes['Beat'] = crimes.Beat.str.replace(\"'\", \" \")"
   ]
  },
  {
   "cell_type": "code",
   "execution_count": null,
   "metadata": {},
   "outputs": [],
   "source": []
  },
  {
   "cell_type": "code",
   "execution_count": 77,
   "metadata": {},
   "outputs": [
    {
     "data": {
      "text/plain": [
       "121"
      ]
     },
     "execution_count": 77,
     "metadata": {},
     "output_type": "execute_result"
    }
   ],
   "source": [
    "len(crimes.Beat.value_counts(dropna=False))"
   ]
  },
  {
   "cell_type": "code",
   "execution_count": null,
   "metadata": {},
   "outputs": [],
   "source": []
  },
  {
   "cell_type": "code",
   "execution_count": 78,
   "metadata": {},
   "outputs": [],
   "source": [
    "# strip empty spaces\n",
    "crimes.Beat = crimes.Beat.str.strip()"
   ]
  },
  {
   "cell_type": "code",
   "execution_count": 79,
   "metadata": {},
   "outputs": [
    {
     "data": {
      "text/plain": [
       "121"
      ]
     },
     "execution_count": 79,
     "metadata": {},
     "output_type": "execute_result"
    }
   ],
   "source": [
    "len(crimes.Beat.value_counts(dropna=False))  # get the total"
   ]
  },
  {
   "cell_type": "code",
   "execution_count": 80,
   "metadata": {},
   "outputs": [
    {
     "data": {
      "text/plain": [
       "array(['17E40', '8C10', '7C20', '7C50', '16E20', '10H10', '2A10', '6B10',\n",
       "       '7C10', '1A10', '3B10', '3B40', '6B30', '20G70', '3B50', '14D10',\n",
       "       '15E20', '14D30', '11H30', '10H50', '19G30', '12D10', '14D20',\n",
       "       '19G40', '16E10', '12D20', '3B30', '13D10', '17E20', '12D40',\n",
       "       '5F30', '6B20', '18F50', '8C40', '18F10', '5F20', '8C60', '6B40',\n",
       "       '12D60', '15E30', '8C30', '19G20', '8C50', '17E30', '14D40',\n",
       "       '12D70', '9C40', '8C20', '10H40', '20G80', '11H40', '20G40',\n",
       "       '2A30', '16E40', '7C30', '13D20', '2A20', '2A50', '10H20', '16E30',\n",
       "       '20G50', '15E10', '10H60', '6B50', '11H20', '11H10', '9C30',\n",
       "       '9C20', '13D40', '20G20', '18F60', '24C30', '4F20', '5F10', '4F30',\n",
       "       '1A20', '17E10', '19G50', '18F20', '24C10', '4F10', '2A40', '1A30',\n",
       "       '18F30', '20G30', '18F40', '24C60', '19G10', '1A40', '10H80',\n",
       "       '7C40', '5F40', '2A60', '9C10', '20G60', '14D50', '23J40', '10H70',\n",
       "       '13D30', '10H30', '11H50', '12D50', '6B60', '24C20', '1A50',\n",
       "       '20G10', '15E40', 'UNK', '24C40', '12D30', '23J50', '24C50',\n",
       "       '21I50', '23J30', '21I10', '23J20', '21I30', '21I60', '21I20',\n",
       "       '21I70', '21I40'], dtype=object)"
      ]
     },
     "execution_count": 80,
     "metadata": {},
     "output_type": "execute_result"
    }
   ],
   "source": [
    "crimes.Beat.unique()"
   ]
  },
  {
   "cell_type": "code",
   "execution_count": 81,
   "metadata": {},
   "outputs": [
    {
     "data": {
      "text/plain": [
       "12D10    2973\n",
       "19G10    2832\n",
       "6B60     2797\n",
       "3B10     2476\n",
       "13D20    2397\n",
       "Name: Beat, dtype: int64"
      ]
     },
     "execution_count": 81,
     "metadata": {},
     "output_type": "execute_result"
    }
   ],
   "source": [
    "crimes.Beat.value_counts(dropna=False).head()"
   ]
  },
  {
   "cell_type": "markdown",
   "metadata": {},
   "source": [
    "## BlockRange"
   ]
  },
  {
   "cell_type": "code",
   "execution_count": 82,
   "metadata": {},
   "outputs": [
    {
     "data": {
      "text/plain": [
       "243"
      ]
     },
     "execution_count": 82,
     "metadata": {},
     "output_type": "execute_result"
    }
   ],
   "source": [
    "len(crimes.BlockRange.value_counts(dropna=False))"
   ]
  },
  {
   "cell_type": "code",
   "execution_count": 83,
   "metadata": {},
   "outputs": [
    {
     "data": {
      "text/plain": [
       "900-999      1828\n",
       "100-199      1725\n",
       "9400-9499    1681\n",
       "4400-4499    1534\n",
       "800-899      1503\n",
       "Name: BlockRange, dtype: int64"
      ]
     },
     "execution_count": 83,
     "metadata": {},
     "output_type": "execute_result"
    }
   ],
   "source": [
    "crimes.BlockRange.value_counts(dropna=False).head()"
   ]
  },
  {
   "cell_type": "code",
   "execution_count": null,
   "metadata": {},
   "outputs": [],
   "source": []
  },
  {
   "cell_type": "code",
   "execution_count": 84,
   "metadata": {},
   "outputs": [],
   "source": [
    "# strip\n",
    "crimes.BlockRange = crimes.BlockRange.str.strip()"
   ]
  },
  {
   "cell_type": "code",
   "execution_count": 85,
   "metadata": {},
   "outputs": [
    {
     "data": {
      "text/plain": [
       "243"
      ]
     },
     "execution_count": 85,
     "metadata": {},
     "output_type": "execute_result"
    }
   ],
   "source": [
    "len(crimes.BlockRange.value_counts(dropna=False))"
   ]
  },
  {
   "cell_type": "markdown",
   "metadata": {},
   "source": [
    "## StreetName"
   ]
  },
  {
   "cell_type": "code",
   "execution_count": 86,
   "metadata": {},
   "outputs": [
    {
     "name": "stdout",
     "output_type": "stream",
     "text": [
      "before:7553\n"
     ]
    }
   ],
   "source": [
    "print('before:{}'.format(len(crimes.StreetName.value_counts(dropna=False))))"
   ]
  },
  {
   "cell_type": "code",
   "execution_count": 87,
   "metadata": {},
   "outputs": [],
   "source": [
    "crimes.StreetName = crimes.StreetName.str.strip()"
   ]
  },
  {
   "cell_type": "code",
   "execution_count": 88,
   "metadata": {},
   "outputs": [
    {
     "name": "stdout",
     "output_type": "stream",
     "text": [
      "after:7553\n"
     ]
    }
   ],
   "source": [
    "print('after:{}'.format(len(crimes.StreetName.value_counts(dropna=False))))"
   ]
  },
  {
   "cell_type": "code",
   "execution_count": 89,
   "metadata": {},
   "outputs": [
    {
     "name": "stdout",
     "output_type": "stream",
     "text": [
      "WESTHEIMER    3534\n",
      "GESSNER       2000\n",
      "GULF          1909\n",
      "RICHMOND      1786\n",
      "NORTH         1738\n",
      "Name: StreetName, dtype: int64\n"
     ]
    }
   ],
   "source": [
    "print(crimes.StreetName.value_counts(dropna=False).head())"
   ]
  },
  {
   "cell_type": "markdown",
   "metadata": {},
   "source": [
    "## OffenseType"
   ]
  },
  {
   "cell_type": "code",
   "execution_count": 90,
   "metadata": {},
   "outputs": [
    {
     "name": "stdout",
     "output_type": "stream",
     "text": [
      "before:7\n"
     ]
    }
   ],
   "source": [
    "print('before:{}'.format(len(crimes.OffenseType.value_counts(dropna=False))))"
   ]
  },
  {
   "cell_type": "code",
   "execution_count": 91,
   "metadata": {},
   "outputs": [],
   "source": [
    "crimes.OffenseType = crimes.OffenseType.str.strip()"
   ]
  },
  {
   "cell_type": "code",
   "execution_count": 92,
   "metadata": {},
   "outputs": [
    {
     "name": "stdout",
     "output_type": "stream",
     "text": [
      "after:7\n"
     ]
    }
   ],
   "source": [
    "print('after:{}'.format(len(crimes.OffenseType.value_counts(dropna=False))))"
   ]
  },
  {
   "cell_type": "code",
   "execution_count": 93,
   "metadata": {},
   "outputs": [
    {
     "name": "stdout",
     "output_type": "stream",
     "text": [
      "Theft                 67978\n",
      "Burglary              26630\n",
      "Auto Theft            12672\n",
      "Aggravated Assault    10238\n",
      "Robbery                9385\n",
      "Rape                    663\n",
      "Murder                  205\n",
      "Name: OffenseType, dtype: int64\n"
     ]
    }
   ],
   "source": [
    "print(crimes.OffenseType.value_counts(dropna=False))"
   ]
  },
  {
   "cell_type": "markdown",
   "metadata": {},
   "source": [
    "## Premise"
   ]
  },
  {
   "cell_type": "code",
   "execution_count": 94,
   "metadata": {},
   "outputs": [
    {
     "name": "stdout",
     "output_type": "stream",
     "text": [
      "before:126\n"
     ]
    }
   ],
   "source": [
    "print('before:{}'.format(len(crimes.Premise.value_counts(dropna=False))))"
   ]
  },
  {
   "cell_type": "code",
   "execution_count": 95,
   "metadata": {},
   "outputs": [],
   "source": [
    "crimes.Premise = crimes.Premise.str.strip()"
   ]
  },
  {
   "cell_type": "code",
   "execution_count": 96,
   "metadata": {},
   "outputs": [
    {
     "name": "stdout",
     "output_type": "stream",
     "text": [
      "after:126\n"
     ]
    }
   ],
   "source": [
    "print('after:{}'.format(len(crimes.Premise.value_counts(dropna=False))))"
   ]
  },
  {
   "cell_type": "code",
   "execution_count": 97,
   "metadata": {},
   "outputs": [
    {
     "data": {
      "text/plain": [
       "20A    16963\n",
       "20R    16740\n",
       "18A    15070\n",
       "13R     9323\n",
       "20D     7823\n",
       "Name: Premise, dtype: int64"
      ]
     },
     "execution_count": 97,
     "metadata": {},
     "output_type": "execute_result"
    }
   ],
   "source": [
    "crimes.Premise.value_counts(dropna=False).head()"
   ]
  },
  {
   "cell_type": "markdown",
   "metadata": {},
   "source": [
    "## Premise Description"
   ]
  },
  {
   "cell_type": "code",
   "execution_count": 98,
   "metadata": {},
   "outputs": [
    {
     "name": "stdout",
     "output_type": "stream",
     "text": [
      "before:126\n"
     ]
    }
   ],
   "source": [
    "print('before:{}'.format(len(crimes['Premise Description'].value_counts(dropna=False))))"
   ]
  },
  {
   "cell_type": "code",
   "execution_count": 99,
   "metadata": {},
   "outputs": [],
   "source": [
    "#crimes.Beat = crimes.Beat.str.replace(r\"\\'(.+?)\\'\", ' ')\n",
    "crimes['Premise Description'] = crimes['Premise Description'].str.strip()"
   ]
  },
  {
   "cell_type": "code",
   "execution_count": 100,
   "metadata": {},
   "outputs": [
    {
     "name": "stdout",
     "output_type": "stream",
     "text": [
      "after:126\n"
     ]
    }
   ],
   "source": [
    "print('after:{}'.format(len(crimes['Premise Description'].value_counts(dropna=False))))"
   ]
  },
  {
   "cell_type": "code",
   "execution_count": 101,
   "metadata": {},
   "outputs": [
    {
     "name": "stdout",
     "output_type": "stream",
     "text": [
      "APARTMENT                16963\n",
      "RESIDENCE/HOUSE          16740\n",
      "APARTMENT PARKING LOT    15070\n",
      "ROAD/STREET/SIDEWALK      9323\n",
      "DRIVEWAY                  7823\n",
      "Name: Premise Description, dtype: int64\n"
     ]
    }
   ],
   "source": [
    "print(crimes['Premise Description'].value_counts(dropna=False).head())"
   ]
  },
  {
   "cell_type": "markdown",
   "metadata": {},
   "source": [
    "# Set Date as index"
   ]
  },
  {
   "cell_type": "code",
   "execution_count": 102,
   "metadata": {},
   "outputs": [],
   "source": [
    "# date\n",
    "crimes.Date_Hour = pd.to_datetime(crimes.Date_Hour)\n",
    "\n",
    "crimes = crimes.set_index('Date_Hour').sort_index(ascending=True)"
   ]
  },
  {
   "cell_type": "code",
   "execution_count": 103,
   "metadata": {},
   "outputs": [
    {
     "data": {
      "text/html": [
       "<div>\n",
       "<style scoped>\n",
       "    .dataframe tbody tr th:only-of-type {\n",
       "        vertical-align: middle;\n",
       "    }\n",
       "\n",
       "    .dataframe tbody tr th {\n",
       "        vertical-align: top;\n",
       "    }\n",
       "\n",
       "    .dataframe thead th {\n",
       "        text-align: right;\n",
       "    }\n",
       "</style>\n",
       "<table border=\"1\" class=\"dataframe\">\n",
       "  <thead>\n",
       "    <tr style=\"text-align: right;\">\n",
       "      <th></th>\n",
       "      <th>Beat</th>\n",
       "      <th>BlockRange</th>\n",
       "      <th>StreetName</th>\n",
       "      <th>OffenseType</th>\n",
       "      <th>Premise</th>\n",
       "      <th>NumOffenses</th>\n",
       "      <th>Premise Description</th>\n",
       "    </tr>\n",
       "    <tr>\n",
       "      <th>Date_Hour</th>\n",
       "      <th></th>\n",
       "      <th></th>\n",
       "      <th></th>\n",
       "      <th></th>\n",
       "      <th></th>\n",
       "      <th></th>\n",
       "      <th></th>\n",
       "    </tr>\n",
       "  </thead>\n",
       "  <tbody>\n",
       "    <tr>\n",
       "      <th>1973-11-16 13:00:00</th>\n",
       "      <td>1A30</td>\n",
       "      <td>2500-2599</td>\n",
       "      <td>RICHMOND</td>\n",
       "      <td>Theft</td>\n",
       "      <td>210</td>\n",
       "      <td>1.0</td>\n",
       "      <td>RESTAURANT/CAFETERIA</td>\n",
       "    </tr>\n",
       "    <tr>\n",
       "      <th>1975-05-17 15:00:00</th>\n",
       "      <td>4F30</td>\n",
       "      <td>1800-1899</td>\n",
       "      <td>BARKER CYPRESS</td>\n",
       "      <td>Robbery</td>\n",
       "      <td>20A</td>\n",
       "      <td>1.0</td>\n",
       "      <td>APARTMENT</td>\n",
       "    </tr>\n",
       "    <tr>\n",
       "      <th>1979-07-07 02:00:00</th>\n",
       "      <td>18F50</td>\n",
       "      <td>3400-3499</td>\n",
       "      <td>DUNVALE</td>\n",
       "      <td>Burglary</td>\n",
       "      <td>20A</td>\n",
       "      <td>1.0</td>\n",
       "      <td>APARTMENT</td>\n",
       "    </tr>\n",
       "    <tr>\n",
       "      <th>1982-01-01 15:00:00</th>\n",
       "      <td>19G30</td>\n",
       "      <td>13000-13099</td>\n",
       "      <td>LEADER</td>\n",
       "      <td>Rape</td>\n",
       "      <td>20A</td>\n",
       "      <td>1.0</td>\n",
       "      <td>APARTMENT</td>\n",
       "    </tr>\n",
       "    <tr>\n",
       "      <th>1987-03-20 00:00:00</th>\n",
       "      <td>18F30</td>\n",
       "      <td>6300-6399</td>\n",
       "      <td>WINDSWEPT</td>\n",
       "      <td>Theft</td>\n",
       "      <td>05N</td>\n",
       "      <td>1.0</td>\n",
       "      <td>MAINTENANCE/BUILDING SERVICES</td>\n",
       "    </tr>\n",
       "  </tbody>\n",
       "</table>\n",
       "</div>"
      ],
      "text/plain": [
       "                      Beat   BlockRange      StreetName OffenseType Premise  \\\n",
       "Date_Hour                                                                     \n",
       "1973-11-16 13:00:00   1A30    2500-2599        RICHMOND       Theft     210   \n",
       "1975-05-17 15:00:00   4F30    1800-1899  BARKER CYPRESS     Robbery     20A   \n",
       "1979-07-07 02:00:00  18F50    3400-3499         DUNVALE    Burglary     20A   \n",
       "1982-01-01 15:00:00  19G30  13000-13099          LEADER        Rape     20A   \n",
       "1987-03-20 00:00:00  18F30    6300-6399       WINDSWEPT       Theft     05N   \n",
       "\n",
       "                     NumOffenses            Premise Description  \n",
       "Date_Hour                                                        \n",
       "1973-11-16 13:00:00          1.0           RESTAURANT/CAFETERIA  \n",
       "1975-05-17 15:00:00          1.0                      APARTMENT  \n",
       "1979-07-07 02:00:00          1.0                      APARTMENT  \n",
       "1982-01-01 15:00:00          1.0                      APARTMENT  \n",
       "1987-03-20 00:00:00          1.0  MAINTENANCE/BUILDING SERVICES  "
      ]
     },
     "execution_count": 103,
     "metadata": {},
     "output_type": "execute_result"
    }
   ],
   "source": [
    "crimes.head()"
   ]
  },
  {
   "cell_type": "markdown",
   "metadata": {},
   "source": [
    "## Create Columns with day,weekday,month,year from date index"
   ]
  },
  {
   "cell_type": "code",
   "execution_count": 104,
   "metadata": {},
   "outputs": [],
   "source": [
    "# get day, weekday,month ,year\n",
    "crimes['Hour'] = crimes.index.strftime('%H')\n",
    "crimes['day'] = crimes.index.strftime('%d')\n",
    "crimes['weekday'] = crimes.index.strftime('%A')\n",
    "crimes['month'] = crimes.index.strftime('%b')\n",
    "crimes['year'] = crimes.index.strftime('%Y')"
   ]
  },
  {
   "cell_type": "code",
   "execution_count": 105,
   "metadata": {},
   "outputs": [
    {
     "data": {
      "text/html": [
       "<div>\n",
       "<style scoped>\n",
       "    .dataframe tbody tr th:only-of-type {\n",
       "        vertical-align: middle;\n",
       "    }\n",
       "\n",
       "    .dataframe tbody tr th {\n",
       "        vertical-align: top;\n",
       "    }\n",
       "\n",
       "    .dataframe thead th {\n",
       "        text-align: right;\n",
       "    }\n",
       "</style>\n",
       "<table border=\"1\" class=\"dataframe\">\n",
       "  <thead>\n",
       "    <tr style=\"text-align: right;\">\n",
       "      <th></th>\n",
       "      <th>Beat</th>\n",
       "      <th>BlockRange</th>\n",
       "      <th>StreetName</th>\n",
       "      <th>OffenseType</th>\n",
       "      <th>Premise</th>\n",
       "      <th>NumOffenses</th>\n",
       "      <th>Premise Description</th>\n",
       "      <th>Hour</th>\n",
       "      <th>day</th>\n",
       "      <th>weekday</th>\n",
       "      <th>month</th>\n",
       "      <th>year</th>\n",
       "    </tr>\n",
       "    <tr>\n",
       "      <th>Date_Hour</th>\n",
       "      <th></th>\n",
       "      <th></th>\n",
       "      <th></th>\n",
       "      <th></th>\n",
       "      <th></th>\n",
       "      <th></th>\n",
       "      <th></th>\n",
       "      <th></th>\n",
       "      <th></th>\n",
       "      <th></th>\n",
       "      <th></th>\n",
       "      <th></th>\n",
       "    </tr>\n",
       "  </thead>\n",
       "  <tbody>\n",
       "    <tr>\n",
       "      <th>1973-11-16 13:00:00</th>\n",
       "      <td>1A30</td>\n",
       "      <td>2500-2599</td>\n",
       "      <td>RICHMOND</td>\n",
       "      <td>Theft</td>\n",
       "      <td>210</td>\n",
       "      <td>1.0</td>\n",
       "      <td>RESTAURANT/CAFETERIA</td>\n",
       "      <td>13</td>\n",
       "      <td>16</td>\n",
       "      <td>Friday</td>\n",
       "      <td>Nov</td>\n",
       "      <td>1973</td>\n",
       "    </tr>\n",
       "    <tr>\n",
       "      <th>1975-05-17 15:00:00</th>\n",
       "      <td>4F30</td>\n",
       "      <td>1800-1899</td>\n",
       "      <td>BARKER CYPRESS</td>\n",
       "      <td>Robbery</td>\n",
       "      <td>20A</td>\n",
       "      <td>1.0</td>\n",
       "      <td>APARTMENT</td>\n",
       "      <td>15</td>\n",
       "      <td>17</td>\n",
       "      <td>Saturday</td>\n",
       "      <td>May</td>\n",
       "      <td>1975</td>\n",
       "    </tr>\n",
       "    <tr>\n",
       "      <th>1979-07-07 02:00:00</th>\n",
       "      <td>18F50</td>\n",
       "      <td>3400-3499</td>\n",
       "      <td>DUNVALE</td>\n",
       "      <td>Burglary</td>\n",
       "      <td>20A</td>\n",
       "      <td>1.0</td>\n",
       "      <td>APARTMENT</td>\n",
       "      <td>02</td>\n",
       "      <td>07</td>\n",
       "      <td>Saturday</td>\n",
       "      <td>Jul</td>\n",
       "      <td>1979</td>\n",
       "    </tr>\n",
       "    <tr>\n",
       "      <th>1982-01-01 15:00:00</th>\n",
       "      <td>19G30</td>\n",
       "      <td>13000-13099</td>\n",
       "      <td>LEADER</td>\n",
       "      <td>Rape</td>\n",
       "      <td>20A</td>\n",
       "      <td>1.0</td>\n",
       "      <td>APARTMENT</td>\n",
       "      <td>15</td>\n",
       "      <td>01</td>\n",
       "      <td>Friday</td>\n",
       "      <td>Jan</td>\n",
       "      <td>1982</td>\n",
       "    </tr>\n",
       "    <tr>\n",
       "      <th>1987-03-20 00:00:00</th>\n",
       "      <td>18F30</td>\n",
       "      <td>6300-6399</td>\n",
       "      <td>WINDSWEPT</td>\n",
       "      <td>Theft</td>\n",
       "      <td>05N</td>\n",
       "      <td>1.0</td>\n",
       "      <td>MAINTENANCE/BUILDING SERVICES</td>\n",
       "      <td>00</td>\n",
       "      <td>20</td>\n",
       "      <td>Friday</td>\n",
       "      <td>Mar</td>\n",
       "      <td>1987</td>\n",
       "    </tr>\n",
       "  </tbody>\n",
       "</table>\n",
       "</div>"
      ],
      "text/plain": [
       "                      Beat   BlockRange      StreetName OffenseType Premise  \\\n",
       "Date_Hour                                                                     \n",
       "1973-11-16 13:00:00   1A30    2500-2599        RICHMOND       Theft     210   \n",
       "1975-05-17 15:00:00   4F30    1800-1899  BARKER CYPRESS     Robbery     20A   \n",
       "1979-07-07 02:00:00  18F50    3400-3499         DUNVALE    Burglary     20A   \n",
       "1982-01-01 15:00:00  19G30  13000-13099          LEADER        Rape     20A   \n",
       "1987-03-20 00:00:00  18F30    6300-6399       WINDSWEPT       Theft     05N   \n",
       "\n",
       "                     NumOffenses            Premise Description Hour day  \\\n",
       "Date_Hour                                                                  \n",
       "1973-11-16 13:00:00          1.0           RESTAURANT/CAFETERIA   13  16   \n",
       "1975-05-17 15:00:00          1.0                      APARTMENT   15  17   \n",
       "1979-07-07 02:00:00          1.0                      APARTMENT   02  07   \n",
       "1982-01-01 15:00:00          1.0                      APARTMENT   15  01   \n",
       "1987-03-20 00:00:00          1.0  MAINTENANCE/BUILDING SERVICES   00  20   \n",
       "\n",
       "                      weekday month  year  \n",
       "Date_Hour                                  \n",
       "1973-11-16 13:00:00    Friday   Nov  1973  \n",
       "1975-05-17 15:00:00  Saturday   May  1975  \n",
       "1979-07-07 02:00:00  Saturday   Jul  1979  \n",
       "1982-01-01 15:00:00    Friday   Jan  1982  \n",
       "1987-03-20 00:00:00    Friday   Mar  1987  "
      ]
     },
     "execution_count": 105,
     "metadata": {},
     "output_type": "execute_result"
    }
   ],
   "source": [
    "crimes.head()"
   ]
  },
  {
   "cell_type": "markdown",
   "metadata": {},
   "source": [
    "## null values\n",
    "\n",
    "- check\n",
    "- count\n",
    "- display"
   ]
  },
  {
   "cell_type": "code",
   "execution_count": 106,
   "metadata": {},
   "outputs": [
    {
     "data": {
      "text/plain": [
       "False"
      ]
     },
     "execution_count": 106,
     "metadata": {},
     "output_type": "execute_result"
    }
   ],
   "source": [
    "crimes.isnull().values.any().any()"
   ]
  },
  {
   "cell_type": "code",
   "execution_count": 107,
   "metadata": {},
   "outputs": [
    {
     "data": {
      "text/plain": [
       "0"
      ]
     },
     "execution_count": 107,
     "metadata": {},
     "output_type": "execute_result"
    }
   ],
   "source": [
    "# display any null\n",
    "\n",
    "len(crimes[crimes.isnull().any(axis=1)])"
   ]
  },
  {
   "cell_type": "code",
   "execution_count": 108,
   "metadata": {},
   "outputs": [
    {
     "data": {
      "text/html": [
       "<div>\n",
       "<style scoped>\n",
       "    .dataframe tbody tr th:only-of-type {\n",
       "        vertical-align: middle;\n",
       "    }\n",
       "\n",
       "    .dataframe tbody tr th {\n",
       "        vertical-align: top;\n",
       "    }\n",
       "\n",
       "    .dataframe thead th {\n",
       "        text-align: right;\n",
       "    }\n",
       "</style>\n",
       "<table border=\"1\" class=\"dataframe\">\n",
       "  <thead>\n",
       "    <tr style=\"text-align: right;\">\n",
       "      <th></th>\n",
       "      <th>Beat</th>\n",
       "      <th>BlockRange</th>\n",
       "      <th>StreetName</th>\n",
       "      <th>OffenseType</th>\n",
       "      <th>Premise</th>\n",
       "      <th>NumOffenses</th>\n",
       "      <th>Premise Description</th>\n",
       "      <th>Hour</th>\n",
       "      <th>day</th>\n",
       "      <th>weekday</th>\n",
       "      <th>month</th>\n",
       "      <th>year</th>\n",
       "    </tr>\n",
       "    <tr>\n",
       "      <th>Date_Hour</th>\n",
       "      <th></th>\n",
       "      <th></th>\n",
       "      <th></th>\n",
       "      <th></th>\n",
       "      <th></th>\n",
       "      <th></th>\n",
       "      <th></th>\n",
       "      <th></th>\n",
       "      <th></th>\n",
       "      <th></th>\n",
       "      <th></th>\n",
       "      <th></th>\n",
       "    </tr>\n",
       "  </thead>\n",
       "  <tbody>\n",
       "  </tbody>\n",
       "</table>\n",
       "</div>"
      ],
      "text/plain": [
       "Empty DataFrame\n",
       "Columns: [Beat, BlockRange, StreetName, OffenseType, Premise, NumOffenses, Premise Description, Hour, day, weekday, month, year]\n",
       "Index: []"
      ]
     },
     "execution_count": 108,
     "metadata": {},
     "output_type": "execute_result"
    }
   ],
   "source": [
    "crimes[crimes.isnull().any(axis=1)]"
   ]
  },
  {
   "cell_type": "code",
   "execution_count": 109,
   "metadata": {},
   "outputs": [
    {
     "name": "stdout",
     "output_type": "stream",
     "text": [
      "<class 'pandas.core.frame.DataFrame'>\n",
      "DatetimeIndex: 127771 entries, 1973-11-16 13:00:00 to 2029-05-26 03:00:00\n",
      "Data columns (total 12 columns):\n",
      "Beat                   127771 non-null object\n",
      "BlockRange             127771 non-null object\n",
      "StreetName             127771 non-null object\n",
      "OffenseType            127771 non-null object\n",
      "Premise                127771 non-null object\n",
      "NumOffenses            127771 non-null float64\n",
      "Premise Description    127771 non-null object\n",
      "Hour                   127771 non-null object\n",
      "day                    127771 non-null object\n",
      "weekday                127771 non-null object\n",
      "month                  127771 non-null object\n",
      "year                   127771 non-null object\n",
      "dtypes: float64(1), object(11)\n",
      "memory usage: 15.2+ MB\n"
     ]
    }
   ],
   "source": [
    "crimes.info()"
   ]
  },
  {
   "cell_type": "markdown",
   "metadata": {},
   "source": [
    "## New Dataframe\n",
    "- remove premise col\n",
    "- keep premise description"
   ]
  },
  {
   "cell_type": "code",
   "execution_count": 110,
   "metadata": {},
   "outputs": [
    {
     "data": {
      "text/html": [
       "<div>\n",
       "<style scoped>\n",
       "    .dataframe tbody tr th:only-of-type {\n",
       "        vertical-align: middle;\n",
       "    }\n",
       "\n",
       "    .dataframe tbody tr th {\n",
       "        vertical-align: top;\n",
       "    }\n",
       "\n",
       "    .dataframe thead th {\n",
       "        text-align: right;\n",
       "    }\n",
       "</style>\n",
       "<table border=\"1\" class=\"dataframe\">\n",
       "  <thead>\n",
       "    <tr style=\"text-align: right;\">\n",
       "      <th></th>\n",
       "      <th>Beat</th>\n",
       "      <th>BlockRange</th>\n",
       "      <th>StreetName</th>\n",
       "      <th>OffenseType</th>\n",
       "      <th>Premise Description</th>\n",
       "      <th>NumOffenses</th>\n",
       "      <th>Hour</th>\n",
       "      <th>day</th>\n",
       "      <th>weekday</th>\n",
       "      <th>month</th>\n",
       "      <th>year</th>\n",
       "    </tr>\n",
       "    <tr>\n",
       "      <th>Date_Hour</th>\n",
       "      <th></th>\n",
       "      <th></th>\n",
       "      <th></th>\n",
       "      <th></th>\n",
       "      <th></th>\n",
       "      <th></th>\n",
       "      <th></th>\n",
       "      <th></th>\n",
       "      <th></th>\n",
       "      <th></th>\n",
       "      <th></th>\n",
       "    </tr>\n",
       "  </thead>\n",
       "  <tbody>\n",
       "    <tr>\n",
       "      <th>1973-11-16 13:00:00</th>\n",
       "      <td>1A30</td>\n",
       "      <td>2500-2599</td>\n",
       "      <td>RICHMOND</td>\n",
       "      <td>Theft</td>\n",
       "      <td>RESTAURANT/CAFETERIA</td>\n",
       "      <td>1.0</td>\n",
       "      <td>13</td>\n",
       "      <td>16</td>\n",
       "      <td>Friday</td>\n",
       "      <td>Nov</td>\n",
       "      <td>1973</td>\n",
       "    </tr>\n",
       "    <tr>\n",
       "      <th>1975-05-17 15:00:00</th>\n",
       "      <td>4F30</td>\n",
       "      <td>1800-1899</td>\n",
       "      <td>BARKER CYPRESS</td>\n",
       "      <td>Robbery</td>\n",
       "      <td>APARTMENT</td>\n",
       "      <td>1.0</td>\n",
       "      <td>15</td>\n",
       "      <td>17</td>\n",
       "      <td>Saturday</td>\n",
       "      <td>May</td>\n",
       "      <td>1975</td>\n",
       "    </tr>\n",
       "    <tr>\n",
       "      <th>1979-07-07 02:00:00</th>\n",
       "      <td>18F50</td>\n",
       "      <td>3400-3499</td>\n",
       "      <td>DUNVALE</td>\n",
       "      <td>Burglary</td>\n",
       "      <td>APARTMENT</td>\n",
       "      <td>1.0</td>\n",
       "      <td>02</td>\n",
       "      <td>07</td>\n",
       "      <td>Saturday</td>\n",
       "      <td>Jul</td>\n",
       "      <td>1979</td>\n",
       "    </tr>\n",
       "    <tr>\n",
       "      <th>1982-01-01 15:00:00</th>\n",
       "      <td>19G30</td>\n",
       "      <td>13000-13099</td>\n",
       "      <td>LEADER</td>\n",
       "      <td>Rape</td>\n",
       "      <td>APARTMENT</td>\n",
       "      <td>1.0</td>\n",
       "      <td>15</td>\n",
       "      <td>01</td>\n",
       "      <td>Friday</td>\n",
       "      <td>Jan</td>\n",
       "      <td>1982</td>\n",
       "    </tr>\n",
       "    <tr>\n",
       "      <th>1987-03-20 00:00:00</th>\n",
       "      <td>18F30</td>\n",
       "      <td>6300-6399</td>\n",
       "      <td>WINDSWEPT</td>\n",
       "      <td>Theft</td>\n",
       "      <td>MAINTENANCE/BUILDING SERVICES</td>\n",
       "      <td>1.0</td>\n",
       "      <td>00</td>\n",
       "      <td>20</td>\n",
       "      <td>Friday</td>\n",
       "      <td>Mar</td>\n",
       "      <td>1987</td>\n",
       "    </tr>\n",
       "  </tbody>\n",
       "</table>\n",
       "</div>"
      ],
      "text/plain": [
       "                      Beat   BlockRange      StreetName OffenseType  \\\n",
       "Date_Hour                                                             \n",
       "1973-11-16 13:00:00   1A30    2500-2599        RICHMOND       Theft   \n",
       "1975-05-17 15:00:00   4F30    1800-1899  BARKER CYPRESS     Robbery   \n",
       "1979-07-07 02:00:00  18F50    3400-3499         DUNVALE    Burglary   \n",
       "1982-01-01 15:00:00  19G30  13000-13099          LEADER        Rape   \n",
       "1987-03-20 00:00:00  18F30    6300-6399       WINDSWEPT       Theft   \n",
       "\n",
       "                               Premise Description  NumOffenses Hour day  \\\n",
       "Date_Hour                                                                  \n",
       "1973-11-16 13:00:00           RESTAURANT/CAFETERIA          1.0   13  16   \n",
       "1975-05-17 15:00:00                      APARTMENT          1.0   15  17   \n",
       "1979-07-07 02:00:00                      APARTMENT          1.0   02  07   \n",
       "1982-01-01 15:00:00                      APARTMENT          1.0   15  01   \n",
       "1987-03-20 00:00:00  MAINTENANCE/BUILDING SERVICES          1.0   00  20   \n",
       "\n",
       "                      weekday month  year  \n",
       "Date_Hour                                  \n",
       "1973-11-16 13:00:00    Friday   Nov  1973  \n",
       "1975-05-17 15:00:00  Saturday   May  1975  \n",
       "1979-07-07 02:00:00  Saturday   Jul  1979  \n",
       "1982-01-01 15:00:00    Friday   Jan  1982  \n",
       "1987-03-20 00:00:00    Friday   Mar  1987  "
      ]
     },
     "execution_count": 110,
     "metadata": {},
     "output_type": "execute_result"
    }
   ],
   "source": [
    "crime_yr = crimes[['Beat','BlockRange','StreetName','OffenseType','Premise Description','NumOffenses','Hour','day','weekday','month','year']]\n",
    "crime_yr.head()"
   ]
  },
  {
   "cell_type": "code",
   "execution_count": 111,
   "metadata": {},
   "outputs": [
    {
     "data": {
      "text/plain": [
       "False"
      ]
     },
     "execution_count": 111,
     "metadata": {},
     "output_type": "execute_result"
    }
   ],
   "source": [
    "crime_yr.isnull().values.any().any()"
   ]
  },
  {
   "cell_type": "code",
   "execution_count": 112,
   "metadata": {},
   "outputs": [
    {
     "data": {
      "text/plain": [
       "0"
      ]
     },
     "execution_count": 112,
     "metadata": {},
     "output_type": "execute_result"
    }
   ],
   "source": [
    "# display any null\n",
    "\n",
    "len(crime_yr[crime_yr.isnull().any(axis=1)])"
   ]
  },
  {
   "cell_type": "code",
   "execution_count": 113,
   "metadata": {},
   "outputs": [
    {
     "data": {
      "text/html": [
       "<div>\n",
       "<style scoped>\n",
       "    .dataframe tbody tr th:only-of-type {\n",
       "        vertical-align: middle;\n",
       "    }\n",
       "\n",
       "    .dataframe tbody tr th {\n",
       "        vertical-align: top;\n",
       "    }\n",
       "\n",
       "    .dataframe thead th {\n",
       "        text-align: right;\n",
       "    }\n",
       "</style>\n",
       "<table border=\"1\" class=\"dataframe\">\n",
       "  <thead>\n",
       "    <tr style=\"text-align: right;\">\n",
       "      <th></th>\n",
       "      <th>Beat</th>\n",
       "      <th>BlockRange</th>\n",
       "      <th>StreetName</th>\n",
       "      <th>OffenseType</th>\n",
       "      <th>Premise Description</th>\n",
       "      <th>NumOffenses</th>\n",
       "      <th>Hour</th>\n",
       "      <th>day</th>\n",
       "      <th>weekday</th>\n",
       "      <th>month</th>\n",
       "      <th>year</th>\n",
       "    </tr>\n",
       "    <tr>\n",
       "      <th>Date_Hour</th>\n",
       "      <th></th>\n",
       "      <th></th>\n",
       "      <th></th>\n",
       "      <th></th>\n",
       "      <th></th>\n",
       "      <th></th>\n",
       "      <th></th>\n",
       "      <th></th>\n",
       "      <th></th>\n",
       "      <th></th>\n",
       "      <th></th>\n",
       "    </tr>\n",
       "  </thead>\n",
       "  <tbody>\n",
       "  </tbody>\n",
       "</table>\n",
       "</div>"
      ],
      "text/plain": [
       "Empty DataFrame\n",
       "Columns: [Beat, BlockRange, StreetName, OffenseType, Premise Description, NumOffenses, Hour, day, weekday, month, year]\n",
       "Index: []"
      ]
     },
     "execution_count": 113,
     "metadata": {},
     "output_type": "execute_result"
    }
   ],
   "source": [
    "crime_yr[crime_yr.isnull().any(axis=1)]"
   ]
  },
  {
   "cell_type": "markdown",
   "metadata": {},
   "source": [
    "# FIND NANS"
   ]
  },
  {
   "cell_type": "markdown",
   "metadata": {},
   "source": [
    "## INDEX"
   ]
  },
  {
   "cell_type": "code",
   "execution_count": 114,
   "metadata": {},
   "outputs": [
    {
     "data": {
      "text/plain": [
       "0"
      ]
     },
     "execution_count": 114,
     "metadata": {},
     "output_type": "execute_result"
    }
   ],
   "source": [
    "len(crime_yr[crime_yr.index.isnull()])"
   ]
  },
  {
   "cell_type": "code",
   "execution_count": 115,
   "metadata": {},
   "outputs": [
    {
     "data": {
      "text/html": [
       "<div>\n",
       "<style scoped>\n",
       "    .dataframe tbody tr th:only-of-type {\n",
       "        vertical-align: middle;\n",
       "    }\n",
       "\n",
       "    .dataframe tbody tr th {\n",
       "        vertical-align: top;\n",
       "    }\n",
       "\n",
       "    .dataframe thead th {\n",
       "        text-align: right;\n",
       "    }\n",
       "</style>\n",
       "<table border=\"1\" class=\"dataframe\">\n",
       "  <thead>\n",
       "    <tr style=\"text-align: right;\">\n",
       "      <th></th>\n",
       "      <th>Beat</th>\n",
       "      <th>BlockRange</th>\n",
       "      <th>StreetName</th>\n",
       "      <th>OffenseType</th>\n",
       "      <th>Premise Description</th>\n",
       "      <th>NumOffenses</th>\n",
       "      <th>Hour</th>\n",
       "      <th>day</th>\n",
       "      <th>weekday</th>\n",
       "      <th>month</th>\n",
       "      <th>year</th>\n",
       "    </tr>\n",
       "    <tr>\n",
       "      <th>Date_Hour</th>\n",
       "      <th></th>\n",
       "      <th></th>\n",
       "      <th></th>\n",
       "      <th></th>\n",
       "      <th></th>\n",
       "      <th></th>\n",
       "      <th></th>\n",
       "      <th></th>\n",
       "      <th></th>\n",
       "      <th></th>\n",
       "      <th></th>\n",
       "    </tr>\n",
       "  </thead>\n",
       "  <tbody>\n",
       "  </tbody>\n",
       "</table>\n",
       "</div>"
      ],
      "text/plain": [
       "Empty DataFrame\n",
       "Columns: [Beat, BlockRange, StreetName, OffenseType, Premise Description, NumOffenses, Hour, day, weekday, month, year]\n",
       "Index: []"
      ]
     },
     "execution_count": 115,
     "metadata": {},
     "output_type": "execute_result"
    }
   ],
   "source": [
    "crime_yr[crime_yr.index.isnull()]"
   ]
  },
  {
   "cell_type": "code",
   "execution_count": 116,
   "metadata": {},
   "outputs": [
    {
     "data": {
      "text/plain": [
       "DatetimeIndex(['1973-11-16 13:00:00', '1975-05-17 15:00:00',\n",
       "               '1979-07-07 02:00:00', '1982-01-01 15:00:00',\n",
       "               '1987-03-20 00:00:00', '1988-04-26 21:00:00',\n",
       "               '1989-02-06 00:00:00', '1989-05-13 02:00:00',\n",
       "               '1993-12-05 20:00:00', '1994-03-01 00:00:00',\n",
       "               ...\n",
       "               '2012-12-31 23:00:00', '2012-12-31 23:00:00',\n",
       "               '2012-12-31 23:00:00', '2012-12-31 23:00:00',\n",
       "               '2013-01-01 00:00:00', '2013-01-03 10:00:00',\n",
       "               '2014-10-14 23:00:00', '2020-10-11 22:00:00',\n",
       "               '2021-01-03 00:00:00', '2029-05-26 03:00:00'],\n",
       "              dtype='datetime64[ns]', name='Date_Hour', length=127771, freq=None)"
      ]
     },
     "execution_count": 116,
     "metadata": {},
     "output_type": "execute_result"
    }
   ],
   "source": [
    "# drop index nans\n",
    "crime_yr.index.dropna(how='any')"
   ]
  },
  {
   "cell_type": "code",
   "execution_count": 117,
   "metadata": {},
   "outputs": [
    {
     "data": {
      "text/plain": [
       "0"
      ]
     },
     "execution_count": 117,
     "metadata": {},
     "output_type": "execute_result"
    }
   ],
   "source": [
    "len(crime_yr[crime_yr.index.isnull()])"
   ]
  },
  {
   "cell_type": "markdown",
   "metadata": {},
   "source": [
    "## Beat"
   ]
  },
  {
   "cell_type": "code",
   "execution_count": 118,
   "metadata": {},
   "outputs": [
    {
     "data": {
      "text/plain": [
       "0"
      ]
     },
     "execution_count": 118,
     "metadata": {},
     "output_type": "execute_result"
    }
   ],
   "source": [
    "len(crime_yr[crime_yr.Beat.isnull()])"
   ]
  },
  {
   "cell_type": "code",
   "execution_count": 119,
   "metadata": {},
   "outputs": [
    {
     "data": {
      "text/html": [
       "<div>\n",
       "<style scoped>\n",
       "    .dataframe tbody tr th:only-of-type {\n",
       "        vertical-align: middle;\n",
       "    }\n",
       "\n",
       "    .dataframe tbody tr th {\n",
       "        vertical-align: top;\n",
       "    }\n",
       "\n",
       "    .dataframe thead th {\n",
       "        text-align: right;\n",
       "    }\n",
       "</style>\n",
       "<table border=\"1\" class=\"dataframe\">\n",
       "  <thead>\n",
       "    <tr style=\"text-align: right;\">\n",
       "      <th></th>\n",
       "      <th>Beat</th>\n",
       "      <th>BlockRange</th>\n",
       "      <th>StreetName</th>\n",
       "      <th>OffenseType</th>\n",
       "      <th>Premise Description</th>\n",
       "      <th>NumOffenses</th>\n",
       "      <th>Hour</th>\n",
       "      <th>day</th>\n",
       "      <th>weekday</th>\n",
       "      <th>month</th>\n",
       "      <th>year</th>\n",
       "    </tr>\n",
       "    <tr>\n",
       "      <th>Date_Hour</th>\n",
       "      <th></th>\n",
       "      <th></th>\n",
       "      <th></th>\n",
       "      <th></th>\n",
       "      <th></th>\n",
       "      <th></th>\n",
       "      <th></th>\n",
       "      <th></th>\n",
       "      <th></th>\n",
       "      <th></th>\n",
       "      <th></th>\n",
       "    </tr>\n",
       "  </thead>\n",
       "  <tbody>\n",
       "  </tbody>\n",
       "</table>\n",
       "</div>"
      ],
      "text/plain": [
       "Empty DataFrame\n",
       "Columns: [Beat, BlockRange, StreetName, OffenseType, Premise Description, NumOffenses, Hour, day, weekday, month, year]\n",
       "Index: []"
      ]
     },
     "execution_count": 119,
     "metadata": {},
     "output_type": "execute_result"
    }
   ],
   "source": [
    "crime_yr[crime_yr.Beat.isnull()].head()"
   ]
  },
  {
   "cell_type": "code",
   "execution_count": 120,
   "metadata": {},
   "outputs": [
    {
     "name": "stderr",
     "output_type": "stream",
     "text": [
      "/home/frank/miniconda3/envs/springboard/lib/python3.6/site-packages/pandas/core/generic.py:3643: SettingWithCopyWarning: \n",
      "A value is trying to be set on a copy of a slice from a DataFrame.\n",
      "Try using .loc[row_indexer,col_indexer] = value instead\n",
      "\n",
      "See the caveats in the documentation: http://pandas.pydata.org/pandas-docs/stable/indexing.html#indexing-view-versus-copy\n",
      "  self[name] = value\n"
     ]
    }
   ],
   "source": [
    "crime_yr.Beat = crime_yr.Beat.replace(np.nan, 'UNK')"
   ]
  },
  {
   "cell_type": "code",
   "execution_count": 121,
   "metadata": {},
   "outputs": [
    {
     "data": {
      "text/plain": [
       "0"
      ]
     },
     "execution_count": 121,
     "metadata": {},
     "output_type": "execute_result"
    }
   ],
   "source": [
    "len(crime_yr[crime_yr.Beat.isnull()])"
   ]
  },
  {
   "cell_type": "code",
   "execution_count": 122,
   "metadata": {},
   "outputs": [
    {
     "data": {
      "text/html": [
       "<div>\n",
       "<style scoped>\n",
       "    .dataframe tbody tr th:only-of-type {\n",
       "        vertical-align: middle;\n",
       "    }\n",
       "\n",
       "    .dataframe tbody tr th {\n",
       "        vertical-align: top;\n",
       "    }\n",
       "\n",
       "    .dataframe thead th {\n",
       "        text-align: right;\n",
       "    }\n",
       "</style>\n",
       "<table border=\"1\" class=\"dataframe\">\n",
       "  <thead>\n",
       "    <tr style=\"text-align: right;\">\n",
       "      <th></th>\n",
       "      <th>Beat</th>\n",
       "      <th>BlockRange</th>\n",
       "      <th>StreetName</th>\n",
       "      <th>OffenseType</th>\n",
       "      <th>Premise Description</th>\n",
       "      <th>NumOffenses</th>\n",
       "      <th>Hour</th>\n",
       "      <th>day</th>\n",
       "      <th>weekday</th>\n",
       "      <th>month</th>\n",
       "      <th>year</th>\n",
       "    </tr>\n",
       "    <tr>\n",
       "      <th>Date_Hour</th>\n",
       "      <th></th>\n",
       "      <th></th>\n",
       "      <th></th>\n",
       "      <th></th>\n",
       "      <th></th>\n",
       "      <th></th>\n",
       "      <th></th>\n",
       "      <th></th>\n",
       "      <th></th>\n",
       "      <th></th>\n",
       "      <th></th>\n",
       "    </tr>\n",
       "  </thead>\n",
       "  <tbody>\n",
       "  </tbody>\n",
       "</table>\n",
       "</div>"
      ],
      "text/plain": [
       "Empty DataFrame\n",
       "Columns: [Beat, BlockRange, StreetName, OffenseType, Premise Description, NumOffenses, Hour, day, weekday, month, year]\n",
       "Index: []"
      ]
     },
     "execution_count": 122,
     "metadata": {},
     "output_type": "execute_result"
    }
   ],
   "source": [
    "crime_yr[crime_yr.Beat.isnull()]"
   ]
  },
  {
   "cell_type": "markdown",
   "metadata": {},
   "source": [
    "## BlockRAnge"
   ]
  },
  {
   "cell_type": "code",
   "execution_count": 123,
   "metadata": {},
   "outputs": [
    {
     "data": {
      "text/plain": [
       "0"
      ]
     },
     "execution_count": 123,
     "metadata": {},
     "output_type": "execute_result"
    }
   ],
   "source": [
    "len(crime_yr[crime_yr.BlockRange.isnull()])"
   ]
  },
  {
   "cell_type": "code",
   "execution_count": 124,
   "metadata": {},
   "outputs": [
    {
     "data": {
      "text/html": [
       "<div>\n",
       "<style scoped>\n",
       "    .dataframe tbody tr th:only-of-type {\n",
       "        vertical-align: middle;\n",
       "    }\n",
       "\n",
       "    .dataframe tbody tr th {\n",
       "        vertical-align: top;\n",
       "    }\n",
       "\n",
       "    .dataframe thead th {\n",
       "        text-align: right;\n",
       "    }\n",
       "</style>\n",
       "<table border=\"1\" class=\"dataframe\">\n",
       "  <thead>\n",
       "    <tr style=\"text-align: right;\">\n",
       "      <th></th>\n",
       "      <th>Beat</th>\n",
       "      <th>BlockRange</th>\n",
       "      <th>StreetName</th>\n",
       "      <th>OffenseType</th>\n",
       "      <th>Premise Description</th>\n",
       "      <th>NumOffenses</th>\n",
       "      <th>Hour</th>\n",
       "      <th>day</th>\n",
       "      <th>weekday</th>\n",
       "      <th>month</th>\n",
       "      <th>year</th>\n",
       "    </tr>\n",
       "    <tr>\n",
       "      <th>Date_Hour</th>\n",
       "      <th></th>\n",
       "      <th></th>\n",
       "      <th></th>\n",
       "      <th></th>\n",
       "      <th></th>\n",
       "      <th></th>\n",
       "      <th></th>\n",
       "      <th></th>\n",
       "      <th></th>\n",
       "      <th></th>\n",
       "      <th></th>\n",
       "    </tr>\n",
       "  </thead>\n",
       "  <tbody>\n",
       "  </tbody>\n",
       "</table>\n",
       "</div>"
      ],
      "text/plain": [
       "Empty DataFrame\n",
       "Columns: [Beat, BlockRange, StreetName, OffenseType, Premise Description, NumOffenses, Hour, day, weekday, month, year]\n",
       "Index: []"
      ]
     },
     "execution_count": 124,
     "metadata": {},
     "output_type": "execute_result"
    }
   ],
   "source": [
    "crime_yr[crime_yr.BlockRange.isnull()].head()"
   ]
  },
  {
   "cell_type": "markdown",
   "metadata": {},
   "source": [
    "## StreetName"
   ]
  },
  {
   "cell_type": "code",
   "execution_count": 125,
   "metadata": {},
   "outputs": [
    {
     "data": {
      "text/plain": [
       "0"
      ]
     },
     "execution_count": 125,
     "metadata": {},
     "output_type": "execute_result"
    }
   ],
   "source": [
    "len(crime_yr[crime_yr.StreetName.isnull()])"
   ]
  },
  {
   "cell_type": "code",
   "execution_count": 126,
   "metadata": {},
   "outputs": [
    {
     "data": {
      "text/html": [
       "<div>\n",
       "<style scoped>\n",
       "    .dataframe tbody tr th:only-of-type {\n",
       "        vertical-align: middle;\n",
       "    }\n",
       "\n",
       "    .dataframe tbody tr th {\n",
       "        vertical-align: top;\n",
       "    }\n",
       "\n",
       "    .dataframe thead th {\n",
       "        text-align: right;\n",
       "    }\n",
       "</style>\n",
       "<table border=\"1\" class=\"dataframe\">\n",
       "  <thead>\n",
       "    <tr style=\"text-align: right;\">\n",
       "      <th></th>\n",
       "      <th>Beat</th>\n",
       "      <th>BlockRange</th>\n",
       "      <th>StreetName</th>\n",
       "      <th>OffenseType</th>\n",
       "      <th>Premise Description</th>\n",
       "      <th>NumOffenses</th>\n",
       "      <th>Hour</th>\n",
       "      <th>day</th>\n",
       "      <th>weekday</th>\n",
       "      <th>month</th>\n",
       "      <th>year</th>\n",
       "    </tr>\n",
       "    <tr>\n",
       "      <th>Date_Hour</th>\n",
       "      <th></th>\n",
       "      <th></th>\n",
       "      <th></th>\n",
       "      <th></th>\n",
       "      <th></th>\n",
       "      <th></th>\n",
       "      <th></th>\n",
       "      <th></th>\n",
       "      <th></th>\n",
       "      <th></th>\n",
       "      <th></th>\n",
       "    </tr>\n",
       "  </thead>\n",
       "  <tbody>\n",
       "  </tbody>\n",
       "</table>\n",
       "</div>"
      ],
      "text/plain": [
       "Empty DataFrame\n",
       "Columns: [Beat, BlockRange, StreetName, OffenseType, Premise Description, NumOffenses, Hour, day, weekday, month, year]\n",
       "Index: []"
      ]
     },
     "execution_count": 126,
     "metadata": {},
     "output_type": "execute_result"
    }
   ],
   "source": [
    "crime_yr[crime_yr.StreetName.isnull()].head()"
   ]
  },
  {
   "cell_type": "markdown",
   "metadata": {},
   "source": [
    "## OffenseType"
   ]
  },
  {
   "cell_type": "code",
   "execution_count": 127,
   "metadata": {},
   "outputs": [
    {
     "data": {
      "text/plain": [
       "0"
      ]
     },
     "execution_count": 127,
     "metadata": {},
     "output_type": "execute_result"
    }
   ],
   "source": [
    "len(crime_yr[crime_yr.OffenseType.isnull()])"
   ]
  },
  {
   "cell_type": "code",
   "execution_count": 128,
   "metadata": {},
   "outputs": [
    {
     "data": {
      "text/html": [
       "<div>\n",
       "<style scoped>\n",
       "    .dataframe tbody tr th:only-of-type {\n",
       "        vertical-align: middle;\n",
       "    }\n",
       "\n",
       "    .dataframe tbody tr th {\n",
       "        vertical-align: top;\n",
       "    }\n",
       "\n",
       "    .dataframe thead th {\n",
       "        text-align: right;\n",
       "    }\n",
       "</style>\n",
       "<table border=\"1\" class=\"dataframe\">\n",
       "  <thead>\n",
       "    <tr style=\"text-align: right;\">\n",
       "      <th></th>\n",
       "      <th>Beat</th>\n",
       "      <th>BlockRange</th>\n",
       "      <th>StreetName</th>\n",
       "      <th>OffenseType</th>\n",
       "      <th>Premise Description</th>\n",
       "      <th>NumOffenses</th>\n",
       "      <th>Hour</th>\n",
       "      <th>day</th>\n",
       "      <th>weekday</th>\n",
       "      <th>month</th>\n",
       "      <th>year</th>\n",
       "    </tr>\n",
       "    <tr>\n",
       "      <th>Date_Hour</th>\n",
       "      <th></th>\n",
       "      <th></th>\n",
       "      <th></th>\n",
       "      <th></th>\n",
       "      <th></th>\n",
       "      <th></th>\n",
       "      <th></th>\n",
       "      <th></th>\n",
       "      <th></th>\n",
       "      <th></th>\n",
       "      <th></th>\n",
       "    </tr>\n",
       "  </thead>\n",
       "  <tbody>\n",
       "  </tbody>\n",
       "</table>\n",
       "</div>"
      ],
      "text/plain": [
       "Empty DataFrame\n",
       "Columns: [Beat, BlockRange, StreetName, OffenseType, Premise Description, NumOffenses, Hour, day, weekday, month, year]\n",
       "Index: []"
      ]
     },
     "execution_count": 128,
     "metadata": {},
     "output_type": "execute_result"
    }
   ],
   "source": [
    "crime_yr[crime_yr.OffenseType.isnull()]"
   ]
  },
  {
   "cell_type": "markdown",
   "metadata": {},
   "source": [
    "## Hour"
   ]
  },
  {
   "cell_type": "code",
   "execution_count": 129,
   "metadata": {},
   "outputs": [
    {
     "data": {
      "text/plain": [
       "0"
      ]
     },
     "execution_count": 129,
     "metadata": {},
     "output_type": "execute_result"
    }
   ],
   "source": [
    "len(crime_yr[crime_yr.Hour.isnull()])"
   ]
  },
  {
   "cell_type": "code",
   "execution_count": 130,
   "metadata": {},
   "outputs": [
    {
     "data": {
      "text/html": [
       "<div>\n",
       "<style scoped>\n",
       "    .dataframe tbody tr th:only-of-type {\n",
       "        vertical-align: middle;\n",
       "    }\n",
       "\n",
       "    .dataframe tbody tr th {\n",
       "        vertical-align: top;\n",
       "    }\n",
       "\n",
       "    .dataframe thead th {\n",
       "        text-align: right;\n",
       "    }\n",
       "</style>\n",
       "<table border=\"1\" class=\"dataframe\">\n",
       "  <thead>\n",
       "    <tr style=\"text-align: right;\">\n",
       "      <th></th>\n",
       "      <th>Beat</th>\n",
       "      <th>BlockRange</th>\n",
       "      <th>StreetName</th>\n",
       "      <th>OffenseType</th>\n",
       "      <th>Premise Description</th>\n",
       "      <th>NumOffenses</th>\n",
       "      <th>Hour</th>\n",
       "      <th>day</th>\n",
       "      <th>weekday</th>\n",
       "      <th>month</th>\n",
       "      <th>year</th>\n",
       "    </tr>\n",
       "    <tr>\n",
       "      <th>Date_Hour</th>\n",
       "      <th></th>\n",
       "      <th></th>\n",
       "      <th></th>\n",
       "      <th></th>\n",
       "      <th></th>\n",
       "      <th></th>\n",
       "      <th></th>\n",
       "      <th></th>\n",
       "      <th></th>\n",
       "      <th></th>\n",
       "      <th></th>\n",
       "    </tr>\n",
       "  </thead>\n",
       "  <tbody>\n",
       "  </tbody>\n",
       "</table>\n",
       "</div>"
      ],
      "text/plain": [
       "Empty DataFrame\n",
       "Columns: [Beat, BlockRange, StreetName, OffenseType, Premise Description, NumOffenses, Hour, day, weekday, month, year]\n",
       "Index: []"
      ]
     },
     "execution_count": 130,
     "metadata": {},
     "output_type": "execute_result"
    }
   ],
   "source": [
    "crime_yr[crime_yr.Hour.isnull()].head()"
   ]
  },
  {
   "cell_type": "markdown",
   "metadata": {},
   "source": [
    "## Premsie Description"
   ]
  },
  {
   "cell_type": "code",
   "execution_count": 131,
   "metadata": {},
   "outputs": [
    {
     "data": {
      "text/plain": [
       "0"
      ]
     },
     "execution_count": 131,
     "metadata": {},
     "output_type": "execute_result"
    }
   ],
   "source": [
    "len(crime_yr[crime_yr['Premise Description'].isnull()])"
   ]
  },
  {
   "cell_type": "code",
   "execution_count": 132,
   "metadata": {},
   "outputs": [
    {
     "data": {
      "text/html": [
       "<div>\n",
       "<style scoped>\n",
       "    .dataframe tbody tr th:only-of-type {\n",
       "        vertical-align: middle;\n",
       "    }\n",
       "\n",
       "    .dataframe tbody tr th {\n",
       "        vertical-align: top;\n",
       "    }\n",
       "\n",
       "    .dataframe thead th {\n",
       "        text-align: right;\n",
       "    }\n",
       "</style>\n",
       "<table border=\"1\" class=\"dataframe\">\n",
       "  <thead>\n",
       "    <tr style=\"text-align: right;\">\n",
       "      <th></th>\n",
       "      <th>Beat</th>\n",
       "      <th>BlockRange</th>\n",
       "      <th>StreetName</th>\n",
       "      <th>OffenseType</th>\n",
       "      <th>Premise Description</th>\n",
       "      <th>NumOffenses</th>\n",
       "      <th>Hour</th>\n",
       "      <th>day</th>\n",
       "      <th>weekday</th>\n",
       "      <th>month</th>\n",
       "      <th>year</th>\n",
       "    </tr>\n",
       "    <tr>\n",
       "      <th>Date_Hour</th>\n",
       "      <th></th>\n",
       "      <th></th>\n",
       "      <th></th>\n",
       "      <th></th>\n",
       "      <th></th>\n",
       "      <th></th>\n",
       "      <th></th>\n",
       "      <th></th>\n",
       "      <th></th>\n",
       "      <th></th>\n",
       "      <th></th>\n",
       "    </tr>\n",
       "  </thead>\n",
       "  <tbody>\n",
       "  </tbody>\n",
       "</table>\n",
       "</div>"
      ],
      "text/plain": [
       "Empty DataFrame\n",
       "Columns: [Beat, BlockRange, StreetName, OffenseType, Premise Description, NumOffenses, Hour, day, weekday, month, year]\n",
       "Index: []"
      ]
     },
     "execution_count": 132,
     "metadata": {},
     "output_type": "execute_result"
    }
   ],
   "source": [
    "crime_yr[crime_yr['Premise Description'].isnull()].head()"
   ]
  },
  {
   "cell_type": "code",
   "execution_count": 133,
   "metadata": {},
   "outputs": [
    {
     "name": "stderr",
     "output_type": "stream",
     "text": [
      "/home/frank/miniconda3/envs/springboard/lib/python3.6/site-packages/ipykernel_launcher.py:1: SettingWithCopyWarning: \n",
      "A value is trying to be set on a copy of a slice from a DataFrame.\n",
      "Try using .loc[row_indexer,col_indexer] = value instead\n",
      "\n",
      "See the caveats in the documentation: http://pandas.pydata.org/pandas-docs/stable/indexing.html#indexing-view-versus-copy\n",
      "  \"\"\"Entry point for launching an IPython kernel.\n"
     ]
    }
   ],
   "source": [
    "crime_yr['Premise Description'] = crime_yr['Premise Description'].replace(np.nan, 'No label')"
   ]
  },
  {
   "cell_type": "code",
   "execution_count": 134,
   "metadata": {},
   "outputs": [
    {
     "data": {
      "text/plain": [
       "0"
      ]
     },
     "execution_count": 134,
     "metadata": {},
     "output_type": "execute_result"
    }
   ],
   "source": [
    "len(crime_yr[crime_yr['Premise Description'].isnull()])"
   ]
  },
  {
   "cell_type": "code",
   "execution_count": 135,
   "metadata": {},
   "outputs": [
    {
     "data": {
      "text/html": [
       "<div>\n",
       "<style scoped>\n",
       "    .dataframe tbody tr th:only-of-type {\n",
       "        vertical-align: middle;\n",
       "    }\n",
       "\n",
       "    .dataframe tbody tr th {\n",
       "        vertical-align: top;\n",
       "    }\n",
       "\n",
       "    .dataframe thead th {\n",
       "        text-align: right;\n",
       "    }\n",
       "</style>\n",
       "<table border=\"1\" class=\"dataframe\">\n",
       "  <thead>\n",
       "    <tr style=\"text-align: right;\">\n",
       "      <th></th>\n",
       "      <th>Beat</th>\n",
       "      <th>BlockRange</th>\n",
       "      <th>StreetName</th>\n",
       "      <th>OffenseType</th>\n",
       "      <th>Premise Description</th>\n",
       "      <th>NumOffenses</th>\n",
       "      <th>Hour</th>\n",
       "      <th>day</th>\n",
       "      <th>weekday</th>\n",
       "      <th>month</th>\n",
       "      <th>year</th>\n",
       "    </tr>\n",
       "    <tr>\n",
       "      <th>Date_Hour</th>\n",
       "      <th></th>\n",
       "      <th></th>\n",
       "      <th></th>\n",
       "      <th></th>\n",
       "      <th></th>\n",
       "      <th></th>\n",
       "      <th></th>\n",
       "      <th></th>\n",
       "      <th></th>\n",
       "      <th></th>\n",
       "      <th></th>\n",
       "    </tr>\n",
       "  </thead>\n",
       "  <tbody>\n",
       "  </tbody>\n",
       "</table>\n",
       "</div>"
      ],
      "text/plain": [
       "Empty DataFrame\n",
       "Columns: [Beat, BlockRange, StreetName, OffenseType, Premise Description, NumOffenses, Hour, day, weekday, month, year]\n",
       "Index: []"
      ]
     },
     "execution_count": 135,
     "metadata": {},
     "output_type": "execute_result"
    }
   ],
   "source": [
    "crime_yr[crime_yr['Premise Description'].isnull()]"
   ]
  },
  {
   "cell_type": "markdown",
   "metadata": {},
   "source": []
  },
  {
   "cell_type": "code",
   "execution_count": 136,
   "metadata": {},
   "outputs": [
    {
     "data": {
      "text/plain": [
       "0"
      ]
     },
     "execution_count": 136,
     "metadata": {},
     "output_type": "execute_result"
    }
   ],
   "source": [
    "# display any null\n",
    "\n",
    "len(crime_yr[crime_yr.isnull().any(axis=1)])"
   ]
  },
  {
   "cell_type": "code",
   "execution_count": 137,
   "metadata": {},
   "outputs": [
    {
     "data": {
      "text/html": [
       "<div>\n",
       "<style scoped>\n",
       "    .dataframe tbody tr th:only-of-type {\n",
       "        vertical-align: middle;\n",
       "    }\n",
       "\n",
       "    .dataframe tbody tr th {\n",
       "        vertical-align: top;\n",
       "    }\n",
       "\n",
       "    .dataframe thead th {\n",
       "        text-align: right;\n",
       "    }\n",
       "</style>\n",
       "<table border=\"1\" class=\"dataframe\">\n",
       "  <thead>\n",
       "    <tr style=\"text-align: right;\">\n",
       "      <th></th>\n",
       "      <th>Beat</th>\n",
       "      <th>BlockRange</th>\n",
       "      <th>StreetName</th>\n",
       "      <th>OffenseType</th>\n",
       "      <th>Premise Description</th>\n",
       "      <th>NumOffenses</th>\n",
       "      <th>Hour</th>\n",
       "      <th>day</th>\n",
       "      <th>weekday</th>\n",
       "      <th>month</th>\n",
       "      <th>year</th>\n",
       "    </tr>\n",
       "    <tr>\n",
       "      <th>Date_Hour</th>\n",
       "      <th></th>\n",
       "      <th></th>\n",
       "      <th></th>\n",
       "      <th></th>\n",
       "      <th></th>\n",
       "      <th></th>\n",
       "      <th></th>\n",
       "      <th></th>\n",
       "      <th></th>\n",
       "      <th></th>\n",
       "      <th></th>\n",
       "    </tr>\n",
       "  </thead>\n",
       "  <tbody>\n",
       "  </tbody>\n",
       "</table>\n",
       "</div>"
      ],
      "text/plain": [
       "Empty DataFrame\n",
       "Columns: [Beat, BlockRange, StreetName, OffenseType, Premise Description, NumOffenses, Hour, day, weekday, month, year]\n",
       "Index: []"
      ]
     },
     "execution_count": 137,
     "metadata": {},
     "output_type": "execute_result"
    }
   ],
   "source": [
    "crime_yr[crime_yr.isnull().any(axis=1)]"
   ]
  },
  {
   "cell_type": "markdown",
   "metadata": {},
   "source": [
    "## Save"
   ]
  },
  {
   "cell_type": "code",
   "execution_count": 138,
   "metadata": {},
   "outputs": [
    {
     "name": "stdout",
     "output_type": "stream",
     "text": [
      "<class 'pandas.core.frame.DataFrame'>\n",
      "DatetimeIndex: 127771 entries, 1973-11-16 13:00:00 to 2029-05-26 03:00:00\n",
      "Data columns (total 11 columns):\n",
      "Beat           127771 non-null object\n",
      "BlockRange     127771 non-null object\n",
      "StreetName     127771 non-null object\n",
      "OffenseType    127771 non-null object\n",
      "Premise        127771 non-null object\n",
      "NumOffenses    127771 non-null float64\n",
      "Hour           127771 non-null object\n",
      "day            127771 non-null object\n",
      "weekday        127771 non-null object\n",
      "month          127771 non-null object\n",
      "year           127771 non-null object\n",
      "dtypes: float64(1), object(10)\n",
      "memory usage: 11.7+ MB\n"
     ]
    },
    {
     "name": "stderr",
     "output_type": "stream",
     "text": [
      "/home/frank/miniconda3/envs/springboard/lib/python3.6/site-packages/pandas/core/frame.py:3027: SettingWithCopyWarning: \n",
      "A value is trying to be set on a copy of a slice from a DataFrame\n",
      "\n",
      "See the caveats in the documentation: http://pandas.pydata.org/pandas-docs/stable/indexing.html#indexing-view-versus-copy\n",
      "  return super(DataFrame, self).rename(**kwargs)\n"
     ]
    }
   ],
   "source": [
    "# change column name from Premise Descriptionto Premise\n",
    "\n",
    "crime_yr.rename(columns={\n",
    "    'Premise Description': 'Premise',}, inplace=True)\n",
    "crime_yr.info()"
   ]
  },
  {
   "cell_type": "code",
   "execution_count": 139,
   "metadata": {},
   "outputs": [
    {
     "data": {
      "text/html": [
       "<div>\n",
       "<style scoped>\n",
       "    .dataframe tbody tr th:only-of-type {\n",
       "        vertical-align: middle;\n",
       "    }\n",
       "\n",
       "    .dataframe tbody tr th {\n",
       "        vertical-align: top;\n",
       "    }\n",
       "\n",
       "    .dataframe thead th {\n",
       "        text-align: right;\n",
       "    }\n",
       "</style>\n",
       "<table border=\"1\" class=\"dataframe\">\n",
       "  <thead>\n",
       "    <tr style=\"text-align: right;\">\n",
       "      <th></th>\n",
       "      <th>Beat</th>\n",
       "      <th>BlockRange</th>\n",
       "      <th>StreetName</th>\n",
       "      <th>OffenseType</th>\n",
       "      <th>Premise</th>\n",
       "      <th>NumOffenses</th>\n",
       "      <th>Hour</th>\n",
       "      <th>day</th>\n",
       "      <th>weekday</th>\n",
       "      <th>month</th>\n",
       "      <th>year</th>\n",
       "    </tr>\n",
       "    <tr>\n",
       "      <th>Date_Hour</th>\n",
       "      <th></th>\n",
       "      <th></th>\n",
       "      <th></th>\n",
       "      <th></th>\n",
       "      <th></th>\n",
       "      <th></th>\n",
       "      <th></th>\n",
       "      <th></th>\n",
       "      <th></th>\n",
       "      <th></th>\n",
       "      <th></th>\n",
       "    </tr>\n",
       "  </thead>\n",
       "  <tbody>\n",
       "    <tr>\n",
       "      <th>1973-11-16 13:00:00</th>\n",
       "      <td>1A30</td>\n",
       "      <td>2500-2599</td>\n",
       "      <td>RICHMOND</td>\n",
       "      <td>Theft</td>\n",
       "      <td>RESTAURANT/CAFETERIA</td>\n",
       "      <td>1.0</td>\n",
       "      <td>13</td>\n",
       "      <td>16</td>\n",
       "      <td>Friday</td>\n",
       "      <td>Nov</td>\n",
       "      <td>1973</td>\n",
       "    </tr>\n",
       "    <tr>\n",
       "      <th>1975-05-17 15:00:00</th>\n",
       "      <td>4F30</td>\n",
       "      <td>1800-1899</td>\n",
       "      <td>BARKER CYPRESS</td>\n",
       "      <td>Robbery</td>\n",
       "      <td>APARTMENT</td>\n",
       "      <td>1.0</td>\n",
       "      <td>15</td>\n",
       "      <td>17</td>\n",
       "      <td>Saturday</td>\n",
       "      <td>May</td>\n",
       "      <td>1975</td>\n",
       "    </tr>\n",
       "    <tr>\n",
       "      <th>1979-07-07 02:00:00</th>\n",
       "      <td>18F50</td>\n",
       "      <td>3400-3499</td>\n",
       "      <td>DUNVALE</td>\n",
       "      <td>Burglary</td>\n",
       "      <td>APARTMENT</td>\n",
       "      <td>1.0</td>\n",
       "      <td>02</td>\n",
       "      <td>07</td>\n",
       "      <td>Saturday</td>\n",
       "      <td>Jul</td>\n",
       "      <td>1979</td>\n",
       "    </tr>\n",
       "    <tr>\n",
       "      <th>1982-01-01 15:00:00</th>\n",
       "      <td>19G30</td>\n",
       "      <td>13000-13099</td>\n",
       "      <td>LEADER</td>\n",
       "      <td>Rape</td>\n",
       "      <td>APARTMENT</td>\n",
       "      <td>1.0</td>\n",
       "      <td>15</td>\n",
       "      <td>01</td>\n",
       "      <td>Friday</td>\n",
       "      <td>Jan</td>\n",
       "      <td>1982</td>\n",
       "    </tr>\n",
       "    <tr>\n",
       "      <th>1987-03-20 00:00:00</th>\n",
       "      <td>18F30</td>\n",
       "      <td>6300-6399</td>\n",
       "      <td>WINDSWEPT</td>\n",
       "      <td>Theft</td>\n",
       "      <td>MAINTENANCE/BUILDING SERVICES</td>\n",
       "      <td>1.0</td>\n",
       "      <td>00</td>\n",
       "      <td>20</td>\n",
       "      <td>Friday</td>\n",
       "      <td>Mar</td>\n",
       "      <td>1987</td>\n",
       "    </tr>\n",
       "  </tbody>\n",
       "</table>\n",
       "</div>"
      ],
      "text/plain": [
       "                      Beat   BlockRange      StreetName OffenseType  \\\n",
       "Date_Hour                                                             \n",
       "1973-11-16 13:00:00   1A30    2500-2599        RICHMOND       Theft   \n",
       "1975-05-17 15:00:00   4F30    1800-1899  BARKER CYPRESS     Robbery   \n",
       "1979-07-07 02:00:00  18F50    3400-3499         DUNVALE    Burglary   \n",
       "1982-01-01 15:00:00  19G30  13000-13099          LEADER        Rape   \n",
       "1987-03-20 00:00:00  18F30    6300-6399       WINDSWEPT       Theft   \n",
       "\n",
       "                                           Premise  NumOffenses Hour day  \\\n",
       "Date_Hour                                                                  \n",
       "1973-11-16 13:00:00           RESTAURANT/CAFETERIA          1.0   13  16   \n",
       "1975-05-17 15:00:00                      APARTMENT          1.0   15  17   \n",
       "1979-07-07 02:00:00                      APARTMENT          1.0   02  07   \n",
       "1982-01-01 15:00:00                      APARTMENT          1.0   15  01   \n",
       "1987-03-20 00:00:00  MAINTENANCE/BUILDING SERVICES          1.0   00  20   \n",
       "\n",
       "                      weekday month  year  \n",
       "Date_Hour                                  \n",
       "1973-11-16 13:00:00    Friday   Nov  1973  \n",
       "1975-05-17 15:00:00  Saturday   May  1975  \n",
       "1979-07-07 02:00:00  Saturday   Jul  1979  \n",
       "1982-01-01 15:00:00    Friday   Jan  1982  \n",
       "1987-03-20 00:00:00    Friday   Mar  1987  "
      ]
     },
     "execution_count": 139,
     "metadata": {},
     "output_type": "execute_result"
    }
   ],
   "source": [
    "crime_yr.head()"
   ]
  },
  {
   "cell_type": "code",
   "execution_count": 140,
   "metadata": {},
   "outputs": [
    {
     "name": "stdout",
     "output_type": "stream",
     "text": [
      "\u001b[0m\u001b[01;32mFinal_crime13_clean.csv\u001b[0m*  \u001b[01;32mFinal_crime15_clean.csv\u001b[0m*  \u001b[01;32mFinal_crime17_clean.csv\u001b[0m*\r\n",
      "\u001b[01;32mFinal_crime14_clean.csv\u001b[0m*  \u001b[01;32mFinal_crime16_clean.csv\u001b[0m*\r\n"
     ]
    }
   ],
   "source": [
    "ls crime_data_clean/years"
   ]
  },
  {
   "cell_type": "code",
   "execution_count": 141,
   "metadata": {},
   "outputs": [],
   "source": [
    "#crime_yr.to_csv('crime_data_clean/new/Final_crime12_clean.csv')\n",
    "crime_yr.to_csv('crime_data_clean/years/Final_crime12_clean.csv')"
   ]
  },
  {
   "cell_type": "code",
   "execution_count": 142,
   "metadata": {},
   "outputs": [
    {
     "name": "stdout",
     "output_type": "stream",
     "text": [
      "\u001b[0m\u001b[01;32mFinal_crime12_clean.csv\u001b[0m*  \u001b[01;32mFinal_crime14_clean.csv\u001b[0m*  \u001b[01;32mFinal_crime16_clean.csv\u001b[0m*\r\n",
      "\u001b[01;32mFinal_crime13_clean.csv\u001b[0m*  \u001b[01;32mFinal_crime15_clean.csv\u001b[0m*  \u001b[01;32mFinal_crime17_clean.csv\u001b[0m*\r\n"
     ]
    }
   ],
   "source": [
    "ls crime_data_clean/years"
   ]
  },
  {
   "cell_type": "code",
   "execution_count": null,
   "metadata": {},
   "outputs": [],
   "source": []
  }
 ],
 "metadata": {
  "kernelspec": {
   "display_name": "Python 3",
   "language": "python",
   "name": "python3"
  },
  "language_info": {
   "codemirror_mode": {
    "name": "ipython",
    "version": 3
   },
   "file_extension": ".py",
   "mimetype": "text/x-python",
   "name": "python",
   "nbconvert_exporter": "python",
   "pygments_lexer": "ipython3",
   "version": "3.6.4"
  }
 },
 "nbformat": 4,
 "nbformat_minor": 2
}
