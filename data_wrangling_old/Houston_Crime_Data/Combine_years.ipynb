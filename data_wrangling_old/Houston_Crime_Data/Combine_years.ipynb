{
 "cells": [
  {
   "cell_type": "code",
   "execution_count": 1,
   "metadata": {},
   "outputs": [],
   "source": [
    "import pandas as pd\n",
    "import glob, os\n",
    "import numpy as np\n",
    "\n",
    "import matplotlib.pyplot as plt\n",
    "import seaborn as sns\n",
    "import datetime as dt\n",
    "import missingno as msno"
   ]
  },
  {
   "cell_type": "code",
   "execution_count": 2,
   "metadata": {},
   "outputs": [
    {
     "name": "stdout",
     "output_type": "stream",
     "text": [
      "\u001b[0m\u001b[01;32mcrime10_clean.csv\u001b[0m*  \u001b[01;32mcrime12_clean.csv\u001b[0m*  \u001b[01;32mcrime14_clean.csv\u001b[0m*  \u001b[01;32mcrime16_clean.csv\u001b[0m*\r\n",
      "\u001b[01;32mcrime11_clean.csv\u001b[0m*  \u001b[01;32mcrime13_clean.csv\u001b[0m*  \u001b[01;32mcrime15_clean.csv\u001b[0m*  \u001b[01;32mcrime17_clean.csv\u001b[0m*\r\n"
     ]
    }
   ],
   "source": [
    "ls crime_data_clean/new/"
   ]
  },
  {
   "cell_type": "code",
   "execution_count": 3,
   "metadata": {},
   "outputs": [],
   "source": [
    "path = 'crime_data_clean/new/'"
   ]
  },
  {
   "cell_type": "code",
   "execution_count": 4,
   "metadata": {},
   "outputs": [
    {
     "name": "stderr",
     "output_type": "stream",
     "text": [
      "/home/salas/miniconda3/envs/springboard/lib/python3.6/site-packages/ipykernel_launcher.py:4: DtypeWarning: Columns (7,8,11) have mixed types. Specify dtype option on import or set low_memory=False.\n",
      "  after removing the cwd from sys.path.\n"
     ]
    }
   ],
   "source": [
    "all_files = glob.glob(os.path.join(path, \"*.csv\")) \n",
    "\n",
    "df_from_each_file = (pd.read_csv(f) for f in all_files)\n",
    "df   = pd.concat(df_from_each_file, ignore_index=True)"
   ]
  },
  {
   "cell_type": "code",
   "execution_count": 5,
   "metadata": {},
   "outputs": [
    {
     "data": {
      "text/html": [
       "<div>\n",
       "<style scoped>\n",
       "    .dataframe tbody tr th:only-of-type {\n",
       "        vertical-align: middle;\n",
       "    }\n",
       "\n",
       "    .dataframe tbody tr th {\n",
       "        vertical-align: top;\n",
       "    }\n",
       "\n",
       "    .dataframe thead th {\n",
       "        text-align: right;\n",
       "    }\n",
       "</style>\n",
       "<table border=\"1\" class=\"dataframe\">\n",
       "  <thead>\n",
       "    <tr style=\"text-align: right;\">\n",
       "      <th></th>\n",
       "      <th>Date</th>\n",
       "      <th>Beat</th>\n",
       "      <th>BlockRange</th>\n",
       "      <th>StreetName</th>\n",
       "      <th>OffenseType</th>\n",
       "      <th>Premise</th>\n",
       "      <th>NumOffenses</th>\n",
       "      <th>Hour</th>\n",
       "      <th>day</th>\n",
       "      <th>weekday</th>\n",
       "      <th>month</th>\n",
       "      <th>year</th>\n",
       "    </tr>\n",
       "  </thead>\n",
       "  <tbody>\n",
       "    <tr>\n",
       "      <th>0</th>\n",
       "      <td>1959-06-06</td>\n",
       "      <td>18F20</td>\n",
       "      <td>5100-5199</td>\n",
       "      <td>RICHMOND</td>\n",
       "      <td>Theft</td>\n",
       "      <td>DEPARTMENT/DISCOUNT STORE</td>\n",
       "      <td>1.0</td>\n",
       "      <td>14</td>\n",
       "      <td>6</td>\n",
       "      <td>Saturday</td>\n",
       "      <td>Jun</td>\n",
       "      <td>1959</td>\n",
       "    </tr>\n",
       "    <tr>\n",
       "      <th>1</th>\n",
       "      <td>1966-01-01</td>\n",
       "      <td>10H50</td>\n",
       "      <td>3300-3399</td>\n",
       "      <td>ALABAMA</td>\n",
       "      <td>Rape</td>\n",
       "      <td>APARTMENT</td>\n",
       "      <td>1.0</td>\n",
       "      <td>0</td>\n",
       "      <td>1</td>\n",
       "      <td>Saturday</td>\n",
       "      <td>Jan</td>\n",
       "      <td>1966</td>\n",
       "    </tr>\n",
       "    <tr>\n",
       "      <th>2</th>\n",
       "      <td>1966-07-18</td>\n",
       "      <td>13D40</td>\n",
       "      <td>10200-10299</td>\n",
       "      <td>TELEPHONE</td>\n",
       "      <td>Auto Theft</td>\n",
       "      <td>APARTMENT PARKING LOT</td>\n",
       "      <td>1.0</td>\n",
       "      <td>13</td>\n",
       "      <td>18</td>\n",
       "      <td>Monday</td>\n",
       "      <td>Jul</td>\n",
       "      <td>1966</td>\n",
       "    </tr>\n",
       "    <tr>\n",
       "      <th>3</th>\n",
       "      <td>1969-07-22</td>\n",
       "      <td>2A30</td>\n",
       "      <td>1500-1599</td>\n",
       "      <td>NICHOLSON</td>\n",
       "      <td>Theft</td>\n",
       "      <td>RESIDENCE/HOUSE</td>\n",
       "      <td>1.0</td>\n",
       "      <td>0</td>\n",
       "      <td>22</td>\n",
       "      <td>Tuesday</td>\n",
       "      <td>Jul</td>\n",
       "      <td>1969</td>\n",
       "    </tr>\n",
       "    <tr>\n",
       "      <th>4</th>\n",
       "      <td>1969-11-26</td>\n",
       "      <td>3B50</td>\n",
       "      <td>7100-7199</td>\n",
       "      <td>IRVINGTON</td>\n",
       "      <td>Theft</td>\n",
       "      <td>ROAD/STREET/SIDEWALK</td>\n",
       "      <td>1.0</td>\n",
       "      <td>15</td>\n",
       "      <td>26</td>\n",
       "      <td>Wednesday</td>\n",
       "      <td>Nov</td>\n",
       "      <td>1969</td>\n",
       "    </tr>\n",
       "  </tbody>\n",
       "</table>\n",
       "</div>"
      ],
      "text/plain": [
       "         Date   Beat   BlockRange StreetName OffenseType  \\\n",
       "0  1959-06-06  18F20    5100-5199   RICHMOND       Theft   \n",
       "1  1966-01-01  10H50    3300-3399    ALABAMA        Rape   \n",
       "2  1966-07-18  13D40  10200-10299  TELEPHONE  Auto Theft   \n",
       "3  1969-07-22   2A30    1500-1599  NICHOLSON       Theft   \n",
       "4  1969-11-26   3B50    7100-7199  IRVINGTON       Theft   \n",
       "\n",
       "                     Premise  NumOffenses Hour day    weekday month  year  \n",
       "0  DEPARTMENT/DISCOUNT STORE          1.0   14   6   Saturday   Jun  1959  \n",
       "1                  APARTMENT          1.0    0   1   Saturday   Jan  1966  \n",
       "2      APARTMENT PARKING LOT          1.0   13  18     Monday   Jul  1966  \n",
       "3            RESIDENCE/HOUSE          1.0    0  22    Tuesday   Jul  1969  \n",
       "4       ROAD/STREET/SIDEWALK          1.0   15  26  Wednesday   Nov  1969  "
      ]
     },
     "execution_count": 5,
     "metadata": {},
     "output_type": "execute_result"
    }
   ],
   "source": [
    "df.head()"
   ]
  },
  {
   "cell_type": "code",
   "execution_count": 8,
   "metadata": {},
   "outputs": [
    {
     "data": {
      "text/plain": [
       "74"
      ]
     },
     "execution_count": 8,
     "metadata": {},
     "output_type": "execute_result"
    }
   ],
   "source": [
    "len(df.year.unique())"
   ]
  },
  {
   "cell_type": "code",
   "execution_count": 9,
   "metadata": {},
   "outputs": [
    {
     "data": {
      "text/plain": [
       "array([1959, 1966, 1969, 1974, 1977, 1980, 1983, 1985, 1990, 1991, 1995,\n",
       "       1996, 1998, 1999, 2000, 2001, 2002, 2003, 2004, 2005, 2006, 2007,\n",
       "       2008, 2009, 2010, 2011, 1964, 1965, 1970, 1971, 1972, 1976, 1978,\n",
       "       1979, 1981, 1988, 1992, 1993, 1973, 1975, 1982, 1987, 1989, 1994,\n",
       "       1997, 2012, 2013, 2014, 2020, 2021, 2029, 1963, 1986, 2019, 2033,\n",
       "       1914, 1920, 1924, 1984, '2014', '2019', 'NaT', 1915, 1916, 2015,\n",
       "       1918, 1919, 1921, 1926, 2016, 1917, 1927, 1953, 2017], dtype=object)"
      ]
     },
     "execution_count": 9,
     "metadata": {},
     "output_type": "execute_result"
    }
   ],
   "source": [
    "df.year.unique()"
   ]
  },
  {
   "cell_type": "code",
   "execution_count": 10,
   "metadata": {},
   "outputs": [
    {
     "data": {
      "text/plain": [
       "array(['Jun', 'Jan', 'Jul', 'Nov', 'Feb', 'Apr', 'May', 'Oct', 'Sep',\n",
       "       'Aug', 'Dec', 'Mar', 'NaT'], dtype=object)"
      ]
     },
     "execution_count": 10,
     "metadata": {},
     "output_type": "execute_result"
    }
   ],
   "source": [
    "df.month.unique()"
   ]
  },
  {
   "cell_type": "code",
   "execution_count": 14,
   "metadata": {},
   "outputs": [
    {
     "data": {
      "text/plain": [
       "2010    136357\n",
       "2013    130200\n",
       "2012    127486\n",
       "2011    127168\n",
       "2016    122423\n",
       "Name: year, dtype: int64"
      ]
     },
     "execution_count": 14,
     "metadata": {},
     "output_type": "execute_result"
    }
   ],
   "source": [
    "df.year.value_counts(dropna=False).head()"
   ]
  },
  {
   "cell_type": "code",
   "execution_count": 16,
   "metadata": {},
   "outputs": [
    {
     "data": {
      "text/plain": [
       "Friday       154377\n",
       "Monday       148218\n",
       "Thursday     144822\n",
       "Wednesday    144241\n",
       "Tuesday      143440\n",
       "Saturday     142584\n",
       "Sunday       128644\n",
       "NaT               4\n",
       "Name: weekday, dtype: int64"
      ]
     },
     "execution_count": 16,
     "metadata": {},
     "output_type": "execute_result"
    }
   ],
   "source": [
    "df.weekday.value_counts(dropna=False)"
   ]
  },
  {
   "cell_type": "code",
   "execution_count": 12,
   "metadata": {},
   "outputs": [
    {
     "data": {
      "text/plain": [
       "Jul    88958\n",
       "May    88471\n",
       "Aug    88283\n",
       "Dec    86742\n",
       "Jan    85867\n",
       "Oct    85075\n",
       "Apr    83205\n",
       "Jun    83013\n",
       "Sep    81957\n",
       "Nov    81739\n",
       "Mar    81307\n",
       "Feb    71709\n",
       "NaT        4\n",
       "Name: month, dtype: int64"
      ]
     },
     "execution_count": 12,
     "metadata": {},
     "output_type": "execute_result"
    }
   ],
   "source": [
    "df.month.value_counts(dropna=False)"
   ]
  },
  {
   "cell_type": "code",
   "execution_count": 17,
   "metadata": {},
   "outputs": [
    {
     "data": {
      "text/plain": [
       "1     34753\n",
       "15    32135\n",
       "20    31828\n",
       "16    31651\n",
       "2     31584\n",
       "Name: day, dtype: int64"
      ]
     },
     "execution_count": 17,
     "metadata": {},
     "output_type": "execute_result"
    }
   ],
   "source": [
    "df.day.value_counts(dropna=False).head()"
   ]
  },
  {
   "cell_type": "code",
   "execution_count": null,
   "metadata": {},
   "outputs": [],
   "source": []
  },
  {
   "cell_type": "code",
   "execution_count": null,
   "metadata": {},
   "outputs": [],
   "source": []
  },
  {
   "cell_type": "code",
   "execution_count": 18,
   "metadata": {},
   "outputs": [
    {
     "data": {
      "text/plain": [
       "<matplotlib.axes._subplots.AxesSubplot at 0x7f4c33cb59b0>"
      ]
     },
     "execution_count": 18,
     "metadata": {},
     "output_type": "execute_result"
    },
    {
     "data": {
      "image/png": "[encoded data removed]",
      "text/plain": [
       "<Figure size 1800x720 with 2 Axes>"
      ]
     },
     "metadata": {},
     "output_type": "display_data"
    }
   ],
   "source": [
    "sorted_data = msno.nullity_sort(df, sort='descending')\n",
    "msno.matrix(sorted_data)"
   ]
  },
  {
   "cell_type": "code",
   "execution_count": 19,
   "metadata": {},
   "outputs": [
    {
     "name": "stdout",
     "output_type": "stream",
     "text": [
      "<class 'pandas.core.frame.DataFrame'>\n",
      "RangeIndex: 1006330 entries, 0 to 1006329\n",
      "Data columns (total 12 columns):\n",
      "Date           1006326 non-null object\n",
      "Beat           1006330 non-null object\n",
      "BlockRange     1006173 non-null object\n",
      "StreetName     1006304 non-null object\n",
      "OffenseType    1006330 non-null object\n",
      "Premise        1006330 non-null object\n",
      "NumOffenses    1006330 non-null float64\n",
      "Hour           1006330 non-null object\n",
      "day            1006330 non-null object\n",
      "weekday        1006330 non-null object\n",
      "month          1006330 non-null object\n",
      "year           1006330 non-null object\n",
      "dtypes: float64(1), object(11)\n",
      "memory usage: 92.1+ MB\n"
     ]
    }
   ],
   "source": [
    "df.info()"
   ]
  },
  {
   "cell_type": "code",
   "execution_count": 25,
   "metadata": {},
   "outputs": [
    {
     "data": {
      "text/plain": [
       "array(['1959-06-06', '1966-01-01', '1966-07-18', ..., '2017-12-29',\n",
       "       '2017-12-30', '2017-12-31'], dtype=object)"
      ]
     },
     "execution_count": 25,
     "metadata": {},
     "output_type": "execute_result"
    }
   ],
   "source": [
    "df.Date.unique()"
   ]
  },
  {
   "cell_type": "code",
   "execution_count": 23,
   "metadata": {},
   "outputs": [
    {
     "data": {
      "text/plain": [
       "4"
      ]
     },
     "execution_count": 23,
     "metadata": {},
     "output_type": "execute_result"
    }
   ],
   "source": [
    "len(df[df.Date.isnull()])"
   ]
  },
  {
   "cell_type": "code",
   "execution_count": 26,
   "metadata": {},
   "outputs": [
    {
     "data": {
      "text/plain": [
       "1006326"
      ]
     },
     "execution_count": 26,
     "metadata": {},
     "output_type": "execute_result"
    }
   ],
   "source": [
    "len(df[df.Date.notnull()])"
   ]
  },
  {
   "cell_type": "code",
   "execution_count": 24,
   "metadata": {},
   "outputs": [
    {
     "data": {
      "text/html": [
       "<div>\n",
       "<style scoped>\n",
       "    .dataframe tbody tr th:only-of-type {\n",
       "        vertical-align: middle;\n",
       "    }\n",
       "\n",
       "    .dataframe tbody tr th {\n",
       "        vertical-align: top;\n",
       "    }\n",
       "\n",
       "    .dataframe thead th {\n",
       "        text-align: right;\n",
       "    }\n",
       "</style>\n",
       "<table border=\"1\" class=\"dataframe\">\n",
       "  <thead>\n",
       "    <tr style=\"text-align: right;\">\n",
       "      <th></th>\n",
       "      <th>Date</th>\n",
       "      <th>Beat</th>\n",
       "      <th>BlockRange</th>\n",
       "      <th>StreetName</th>\n",
       "      <th>OffenseType</th>\n",
       "      <th>Premise</th>\n",
       "      <th>NumOffenses</th>\n",
       "      <th>Hour</th>\n",
       "      <th>day</th>\n",
       "      <th>weekday</th>\n",
       "      <th>month</th>\n",
       "      <th>year</th>\n",
       "    </tr>\n",
       "  </thead>\n",
       "  <tbody>\n",
       "    <tr>\n",
       "      <th>643897</th>\n",
       "      <td>NaN</td>\n",
       "      <td>13D40</td>\n",
       "      <td>8500-8599</td>\n",
       "      <td>SAM HOUSTON</td>\n",
       "      <td>Theft</td>\n",
       "      <td>No label</td>\n",
       "      <td>1.0</td>\n",
       "      <td>15</td>\n",
       "      <td>NaT</td>\n",
       "      <td>NaT</td>\n",
       "      <td>NaT</td>\n",
       "      <td>NaT</td>\n",
       "    </tr>\n",
       "    <tr>\n",
       "      <th>643898</th>\n",
       "      <td>NaN</td>\n",
       "      <td>18F40</td>\n",
       "      <td>2700-2799</td>\n",
       "      <td>DUNVALE</td>\n",
       "      <td>Robbery</td>\n",
       "      <td>No label</td>\n",
       "      <td>1.0</td>\n",
       "      <td>14</td>\n",
       "      <td>NaT</td>\n",
       "      <td>NaT</td>\n",
       "      <td>NaT</td>\n",
       "      <td>NaT</td>\n",
       "    </tr>\n",
       "    <tr>\n",
       "      <th>643899</th>\n",
       "      <td>NaN</td>\n",
       "      <td>14D40</td>\n",
       "      <td>5600-5699</td>\n",
       "      <td>SELINSKY</td>\n",
       "      <td>Burglary</td>\n",
       "      <td>No label</td>\n",
       "      <td>1.0</td>\n",
       "      <td>8</td>\n",
       "      <td>NaT</td>\n",
       "      <td>NaT</td>\n",
       "      <td>NaT</td>\n",
       "      <td>NaT</td>\n",
       "    </tr>\n",
       "    <tr>\n",
       "      <th>643900</th>\n",
       "      <td>NaN</td>\n",
       "      <td>7C20</td>\n",
       "      <td>3900-3999</td>\n",
       "      <td>CAVALCADE</td>\n",
       "      <td>Theft</td>\n",
       "      <td>No label</td>\n",
       "      <td>1.0</td>\n",
       "      <td>11</td>\n",
       "      <td>NaT</td>\n",
       "      <td>NaT</td>\n",
       "      <td>NaT</td>\n",
       "      <td>NaT</td>\n",
       "    </tr>\n",
       "  </tbody>\n",
       "</table>\n",
       "</div>"
      ],
      "text/plain": [
       "       Date   Beat BlockRange   StreetName OffenseType   Premise  NumOffenses  \\\n",
       "643897  NaN  13D40  8500-8599  SAM HOUSTON       Theft  No label          1.0   \n",
       "643898  NaN  18F40  2700-2799      DUNVALE     Robbery  No label          1.0   \n",
       "643899  NaN  14D40  5600-5699     SELINSKY    Burglary  No label          1.0   \n",
       "643900  NaN   7C20  3900-3999    CAVALCADE       Theft  No label          1.0   \n",
       "\n",
       "       Hour  day weekday month year  \n",
       "643897   15  NaT     NaT   NaT  NaT  \n",
       "643898   14  NaT     NaT   NaT  NaT  \n",
       "643899    8  NaT     NaT   NaT  NaT  \n",
       "643900   11  NaT     NaT   NaT  NaT  "
      ]
     },
     "execution_count": 24,
     "metadata": {},
     "output_type": "execute_result"
    }
   ],
   "source": [
    "df[df.Date.isnull()]"
   ]
  },
  {
   "cell_type": "code",
   "execution_count": 27,
   "metadata": {},
   "outputs": [],
   "source": [
    "df = df[df.Date.notnull()]"
   ]
  },
  {
   "cell_type": "code",
   "execution_count": 28,
   "metadata": {},
   "outputs": [
    {
     "data": {
      "text/plain": [
       "0"
      ]
     },
     "execution_count": 28,
     "metadata": {},
     "output_type": "execute_result"
    }
   ],
   "source": [
    "len(df[df.Date.isnull()])"
   ]
  },
  {
   "cell_type": "markdown",
   "metadata": {},
   "source": [
    "## Set Date as index"
   ]
  },
  {
   "cell_type": "code",
   "execution_count": 29,
   "metadata": {},
   "outputs": [
    {
     "name": "stderr",
     "output_type": "stream",
     "text": [
      "/home/salas/miniconda3/envs/springboard/lib/python3.6/site-packages/ipykernel_launcher.py:1: SettingWithCopyWarning: \n",
      "A value is trying to be set on a copy of a slice from a DataFrame.\n",
      "Try using .loc[row_indexer,col_indexer] = value instead\n",
      "\n",
      "See the caveats in the documentation: http://pandas.pydata.org/pandas-docs/stable/indexing.html#indexing-view-versus-copy\n",
      "  \"\"\"Entry point for launching an IPython kernel.\n"
     ]
    }
   ],
   "source": [
    "df['Date'] = pd.to_datetime(df['Date'])\n",
    "\n",
    "df = df.set_index('Date').sort_index(ascending=True)"
   ]
  },
  {
   "cell_type": "code",
   "execution_count": 30,
   "metadata": {},
   "outputs": [
    {
     "name": "stdout",
     "output_type": "stream",
     "text": [
      "<class 'pandas.core.frame.DataFrame'>\n",
      "DatetimeIndex: 1006326 entries, 1914-09-08 to 2033-04-21\n",
      "Data columns (total 11 columns):\n",
      "Beat           1006326 non-null object\n",
      "BlockRange     1006169 non-null object\n",
      "StreetName     1006300 non-null object\n",
      "OffenseType    1006326 non-null object\n",
      "Premise        1006326 non-null object\n",
      "NumOffenses    1006326 non-null float64\n",
      "Hour           1006326 non-null object\n",
      "day            1006326 non-null object\n",
      "weekday        1006326 non-null object\n",
      "month          1006326 non-null object\n",
      "year           1006326 non-null object\n",
      "dtypes: float64(1), object(10)\n",
      "memory usage: 92.1+ MB\n"
     ]
    }
   ],
   "source": [
    "df.info()"
   ]
  },
  {
   "cell_type": "markdown",
   "metadata": {},
   "source": [
    "## Clenup index"
   ]
  },
  {
   "cell_type": "code",
   "execution_count": 31,
   "metadata": {},
   "outputs": [
    {
     "data": {
      "text/html": [
       "<div>\n",
       "<style scoped>\n",
       "    .dataframe tbody tr th:only-of-type {\n",
       "        vertical-align: middle;\n",
       "    }\n",
       "\n",
       "    .dataframe tbody tr th {\n",
       "        vertical-align: top;\n",
       "    }\n",
       "\n",
       "    .dataframe thead th {\n",
       "        text-align: right;\n",
       "    }\n",
       "</style>\n",
       "<table border=\"1\" class=\"dataframe\">\n",
       "  <thead>\n",
       "    <tr style=\"text-align: right;\">\n",
       "      <th></th>\n",
       "      <th>Beat</th>\n",
       "      <th>BlockRange</th>\n",
       "      <th>StreetName</th>\n",
       "      <th>OffenseType</th>\n",
       "      <th>Premise</th>\n",
       "      <th>NumOffenses</th>\n",
       "      <th>Hour</th>\n",
       "      <th>day</th>\n",
       "      <th>weekday</th>\n",
       "      <th>month</th>\n",
       "      <th>year</th>\n",
       "    </tr>\n",
       "    <tr>\n",
       "      <th>Date</th>\n",
       "      <th></th>\n",
       "      <th></th>\n",
       "      <th></th>\n",
       "      <th></th>\n",
       "      <th></th>\n",
       "      <th></th>\n",
       "      <th></th>\n",
       "      <th></th>\n",
       "      <th></th>\n",
       "      <th></th>\n",
       "      <th></th>\n",
       "    </tr>\n",
       "  </thead>\n",
       "  <tbody>\n",
       "    <tr>\n",
       "      <th>2019-12-25</th>\n",
       "      <td>10H20</td>\n",
       "      <td>4600-4699</td>\n",
       "      <td>BELL</td>\n",
       "      <td>Auto Theft</td>\n",
       "      <td>DRIVEWAY</td>\n",
       "      <td>1.0</td>\n",
       "      <td>19</td>\n",
       "      <td>25</td>\n",
       "      <td>Wednesday</td>\n",
       "      <td>Dec</td>\n",
       "      <td>2019</td>\n",
       "    </tr>\n",
       "    <tr>\n",
       "      <th>2020-10-11</th>\n",
       "      <td>16E40</td>\n",
       "      <td>13900-13999</td>\n",
       "      <td>FONDREN</td>\n",
       "      <td>Theft</td>\n",
       "      <td>SERVICE/GAS STATION</td>\n",
       "      <td>1.0</td>\n",
       "      <td>22</td>\n",
       "      <td>11</td>\n",
       "      <td>Sunday</td>\n",
       "      <td>Oct</td>\n",
       "      <td>2020</td>\n",
       "    </tr>\n",
       "    <tr>\n",
       "      <th>2021-01-03</th>\n",
       "      <td>15E40</td>\n",
       "      <td>2100-2199</td>\n",
       "      <td>EL PASEO</td>\n",
       "      <td>Theft</td>\n",
       "      <td>APARTMENT</td>\n",
       "      <td>1.0</td>\n",
       "      <td>0</td>\n",
       "      <td>3</td>\n",
       "      <td>Sunday</td>\n",
       "      <td>Jan</td>\n",
       "      <td>2021</td>\n",
       "    </tr>\n",
       "    <tr>\n",
       "      <th>2029-05-26</th>\n",
       "      <td>2A50</td>\n",
       "      <td>5400-5499</td>\n",
       "      <td>PETTY</td>\n",
       "      <td>Theft</td>\n",
       "      <td>OTHER/UNKNOWN</td>\n",
       "      <td>1.0</td>\n",
       "      <td>3</td>\n",
       "      <td>26</td>\n",
       "      <td>Saturday</td>\n",
       "      <td>May</td>\n",
       "      <td>2029</td>\n",
       "    </tr>\n",
       "    <tr>\n",
       "      <th>2033-04-21</th>\n",
       "      <td>2A60</td>\n",
       "      <td>900-999</td>\n",
       "      <td>T C JESTER</td>\n",
       "      <td>Theft</td>\n",
       "      <td>RESIDENCE/HOUSE</td>\n",
       "      <td>1.0</td>\n",
       "      <td>0</td>\n",
       "      <td>21</td>\n",
       "      <td>Thursday</td>\n",
       "      <td>Apr</td>\n",
       "      <td>2033</td>\n",
       "    </tr>\n",
       "  </tbody>\n",
       "</table>\n",
       "</div>"
      ],
      "text/plain": [
       "             Beat   BlockRange  StreetName OffenseType              Premise  \\\n",
       "Date                                                                          \n",
       "2019-12-25  10H20    4600-4699        BELL  Auto Theft             DRIVEWAY   \n",
       "2020-10-11  16E40  13900-13999     FONDREN       Theft  SERVICE/GAS STATION   \n",
       "2021-01-03  15E40    2100-2199    EL PASEO       Theft            APARTMENT   \n",
       "2029-05-26   2A50    5400-5499       PETTY       Theft        OTHER/UNKNOWN   \n",
       "2033-04-21   2A60      900-999  T C JESTER       Theft      RESIDENCE/HOUSE   \n",
       "\n",
       "            NumOffenses Hour day    weekday month  year  \n",
       "Date                                                     \n",
       "2019-12-25          1.0   19  25  Wednesday   Dec  2019  \n",
       "2020-10-11          1.0   22  11     Sunday   Oct  2020  \n",
       "2021-01-03          1.0    0   3     Sunday   Jan  2021  \n",
       "2029-05-26          1.0    3  26   Saturday   May  2029  \n",
       "2033-04-21          1.0    0  21   Thursday   Apr  2033  "
      ]
     },
     "execution_count": 31,
     "metadata": {},
     "output_type": "execute_result"
    }
   ],
   "source": [
    "df.tail()"
   ]
  },
  {
   "cell_type": "markdown",
   "metadata": {},
   "source": [
    "### Remove non days"
   ]
  },
  {
   "cell_type": "code",
   "execution_count": 32,
   "metadata": {},
   "outputs": [
    {
     "data": {
      "text/plain": [
       "0"
      ]
     },
     "execution_count": 32,
     "metadata": {},
     "output_type": "execute_result"
    }
   ],
   "source": [
    "len(df[df.index.isnull()])"
   ]
  },
  {
   "cell_type": "code",
   "execution_count": 33,
   "metadata": {},
   "outputs": [
    {
     "data": {
      "text/plain": [
       "1006326"
      ]
     },
     "execution_count": 33,
     "metadata": {},
     "output_type": "execute_result"
    }
   ],
   "source": [
    "len(df[df.index.notnull()])"
   ]
  },
  {
   "cell_type": "code",
   "execution_count": null,
   "metadata": {},
   "outputs": [],
   "source": [
    "#df[df.index.isnull()]"
   ]
  },
  {
   "cell_type": "code",
   "execution_count": null,
   "metadata": {},
   "outputs": [],
   "source": [
    "#df = df[df.index.notnull()]"
   ]
  },
  {
   "cell_type": "code",
   "execution_count": null,
   "metadata": {},
   "outputs": [],
   "source": [
    "#len(df[df.index.isnull()])"
   ]
  },
  {
   "cell_type": "code",
   "execution_count": 37,
   "metadata": {},
   "outputs": [
    {
     "data": {
      "text/plain": [
       "1     34753\n",
       "15    32135\n",
       "20    31828\n",
       "16    31651\n",
       "2     31584\n",
       "Name: day, dtype: int64"
      ]
     },
     "execution_count": 37,
     "metadata": {},
     "output_type": "execute_result"
    }
   ],
   "source": [
    "df.day.value_counts(dropna=False).head()"
   ]
  },
  {
   "cell_type": "code",
   "execution_count": 34,
   "metadata": {},
   "outputs": [
    {
     "name": "stdout",
     "output_type": "stream",
     "text": [
      "<class 'pandas.core.frame.DataFrame'>\n",
      "DatetimeIndex: 1006326 entries, 1914-09-08 to 2033-04-21\n",
      "Data columns (total 11 columns):\n",
      "Beat           1006326 non-null object\n",
      "BlockRange     1006169 non-null object\n",
      "StreetName     1006300 non-null object\n",
      "OffenseType    1006326 non-null object\n",
      "Premise        1006326 non-null object\n",
      "NumOffenses    1006326 non-null float64\n",
      "Hour           1006326 non-null object\n",
      "day            1006326 non-null object\n",
      "weekday        1006326 non-null object\n",
      "month          1006326 non-null object\n",
      "year           1006326 non-null object\n",
      "dtypes: float64(1), object(10)\n",
      "memory usage: 92.1+ MB\n"
     ]
    }
   ],
   "source": [
    "df.info()"
   ]
  },
  {
   "cell_type": "markdown",
   "metadata": {},
   "source": [
    "# Beat"
   ]
  },
  {
   "cell_type": "code",
   "execution_count": 38,
   "metadata": {},
   "outputs": [
    {
     "data": {
      "text/plain": [
       "127"
      ]
     },
     "execution_count": 38,
     "metadata": {},
     "output_type": "execute_result"
    }
   ],
   "source": [
    "len(df.Beat.unique())"
   ]
  },
  {
   "cell_type": "code",
   "execution_count": 39,
   "metadata": {},
   "outputs": [
    {
     "data": {
      "text/plain": [
       "array(['24C60', '18F60', '12D20', '3B10', '5F10', '1A20', '11H10',\n",
       "       '19G20', '9C40', '9C30', '6B30', '10H70', '4F20', '20G30', '19G40',\n",
       "       '18F20', '20G20', '17E20', '9C20', '19G10', '14D20', '8C20',\n",
       "       '8C30', '17E40', '6B50', '12D70', 'UNK', '1A40', '7C10', '1A50',\n",
       "       '10H40', '13D20', '18F10', '6B60', '10H50', '13D40', '2A30',\n",
       "       '3B50', '19G50', '14D50', '1A10', '15E30', '12D50', '14D30',\n",
       "       '8C60', '1A30', '18F40', '4F30', '20G50', '7C20', '3B30', '12D10',\n",
       "       '15E10', '18F50', '14D10', '11H20', '5F30', '15E20', '23J50',\n",
       "       '17E10', '6B10', '19G30', '18F30', '20G10', '2A40', '24C40',\n",
       "       '14D40', '4F10', '10H60', '3B40', '10H80', '5F20', '16E40',\n",
       "       '12D60', '6B40', '7C40', '13D30', '20G80', '10H20', '7C50',\n",
       "       '15E40', '2A50', '8C50', '24C10', '20G40', '13D10', '7C30', '2A20',\n",
       "       '20G70', '16E10', '12D30', '9C10', '16E30', '6B20', '2A10', '8C10',\n",
       "       '21I20', '11H30', '24C20', '17E30', '10H30', '5F40', '2A60',\n",
       "       '21I10', '10H10', '16E20', '11H50', '20G60', '12D40', '24C30',\n",
       "       '21I50', '8C40', '24C50', '21I30', '11H40', '21I70', '21I40',\n",
       "       '21I60', '23J40', '23J10', '7C60', '23J30', '23J20', 'HCSO', 'OOJ',\n",
       "       'UH-3P', '3B20'], dtype=object)"
      ]
     },
     "execution_count": 39,
     "metadata": {},
     "output_type": "execute_result"
    }
   ],
   "source": [
    "df.Beat.unique()"
   ]
  },
  {
   "cell_type": "markdown",
   "metadata": {},
   "source": [
    "# BlockRange"
   ]
  },
  {
   "cell_type": "code",
   "execution_count": 40,
   "metadata": {},
   "outputs": [
    {
     "data": {
      "text/plain": [
       "348"
      ]
     },
     "execution_count": 40,
     "metadata": {},
     "output_type": "execute_result"
    }
   ],
   "source": [
    "len(df.BlockRange.unique())"
   ]
  },
  {
   "cell_type": "markdown",
   "metadata": {},
   "source": [
    "# StreetName"
   ]
  },
  {
   "cell_type": "code",
   "execution_count": 41,
   "metadata": {},
   "outputs": [
    {
     "data": {
      "text/plain": [
       "24711"
      ]
     },
     "execution_count": 41,
     "metadata": {},
     "output_type": "execute_result"
    }
   ],
   "source": [
    "len(df.StreetName.unique())"
   ]
  },
  {
   "cell_type": "code",
   "execution_count": 42,
   "metadata": {},
   "outputs": [
    {
     "data": {
      "text/plain": [
       "array(['LAKE HOUSTON', 'BELLAIRE', 'GULF', ..., '32ND ST APT B',\n",
       "       'HORWOOD', '66TH ST APT 5204'], dtype=object)"
      ]
     },
     "execution_count": 42,
     "metadata": {},
     "output_type": "execute_result"
    }
   ],
   "source": [
    "df.StreetName.unique()"
   ]
  },
  {
   "cell_type": "markdown",
   "metadata": {},
   "source": [
    "# OffenseType"
   ]
  },
  {
   "cell_type": "code",
   "execution_count": 43,
   "metadata": {},
   "outputs": [
    {
     "data": {
      "text/plain": [
       "8"
      ]
     },
     "execution_count": 43,
     "metadata": {},
     "output_type": "execute_result"
    }
   ],
   "source": [
    "len(df.OffenseType.unique())"
   ]
  },
  {
   "cell_type": "code",
   "execution_count": 44,
   "metadata": {},
   "outputs": [
    {
     "data": {
      "text/plain": [
       "array(['Burglary', 'Auto Theft', 'Theft', 'Rape', 'Aggravated Assault',\n",
       "       'Robbery', 'Murder', 'UNK'], dtype=object)"
      ]
     },
     "execution_count": 44,
     "metadata": {},
     "output_type": "execute_result"
    }
   ],
   "source": [
    "df.OffenseType.unique()"
   ]
  },
  {
   "cell_type": "code",
   "execution_count": 45,
   "metadata": {},
   "outputs": [
    {
     "data": {
      "text/plain": [
       "Theft                 554369\n",
       "Burglary              182240\n",
       "Auto Theft            100894\n",
       "Aggravated Assault     82971\n",
       "Robbery                76783\n",
       "Rape                    7129\n",
       "Murder                  1926\n",
       "UNK                       14\n",
       "Name: OffenseType, dtype: int64"
      ]
     },
     "execution_count": 45,
     "metadata": {},
     "output_type": "execute_result"
    }
   ],
   "source": [
    "df.OffenseType.value_counts(dropna=False)"
   ]
  },
  {
   "cell_type": "markdown",
   "metadata": {},
   "source": [
    "# PRemise"
   ]
  },
  {
   "cell_type": "code",
   "execution_count": 46,
   "metadata": {},
   "outputs": [
    {
     "data": {
      "text/plain": [
       "265"
      ]
     },
     "execution_count": 46,
     "metadata": {},
     "output_type": "execute_result"
    }
   ],
   "source": [
    "len(df.Premise.unique())"
   ]
  },
  {
   "cell_type": "code",
   "execution_count": 47,
   "metadata": {},
   "outputs": [
    {
     "data": {
      "text/plain": [
       "array(['Restaurant or Cafeteria', 'Miscellaneous Business (Non-Specific)',\n",
       "       'No label', 'Other Parking Lot', 'Apartment Parking Lot',\n",
       "       'Office Building', 'Other, Unknown, or Not Listed',\n",
       "       'Rental Storage Facility', 'Hotel or Motel Parking Lot',\n",
       "       'Commercial Building', 'Apartment', 'Residence or House',\n",
       "       'Road, Street, or Sidewalk',\n",
       "       'Vacant Storage Fac (Barn,Garage,Warehouse)',\n",
       "       'Commercial Parking Lot or Garage', 'Bar or Night Club',\n",
       "       'Department or Discount Store',\n",
       "       'Strip Business Center Parking Lot', 'DEPARTMENT/DISCOUNT STORE',\n",
       "       'REHABILITATION CENTER', 'OTHER PARKING LOT', 'Convenience Store',\n",
       "       'HOSPITAL', 'APARTMENT', 'APARTMENT PARKING LOT',\n",
       "       'RESTAURANT/CAFETERIA', 'RESIDENCE/HOUSE', 'ROAD/STREET/SIDEWALK',\n",
       "       'OTHER/UNKNOWN', 'Mobile Home', 'DRIVEWAY', '---',\n",
       "       'MALL PARKING LOT', 'Grocery Store or Supermarket',\n",
       "       'GROCERY/SUPERMARKET', 'AIRPORT TERMINAL',\n",
       "       'Church, Synagogue, or Temple', 'PRIVATE SCHOOL',\n",
       "       'OFFICE BUILDING', 'MAINTENANCE/BUILDING SERVICES',\n",
       "       'MULTI-PLEX HME(DUPLEX,TRIPLEX ETC)', 'BAR/NIGHT CLUB',\n",
       "       'HIGH SCHOOL', 'Railroad Track or Right Of Way',\n",
       "       'CONVENIENCE STORE', 'MALL COMMON AREA', 'Condominium',\n",
       "       'Mall Common Area', 'Pawn, Resale Shop, or Flea Market',\n",
       "       'CONSTRUCTION SITE', 'WAREHOUSE',\n",
       "       'GROCERY/SUPERMARKET PARKING LOT', 'BAR/NIGHT CLUB PARKING LOT',\n",
       "       'PARKS & RECREATION, ZOO, SWIM POOL',\n",
       "       'FURNITURE, APPLIANCES, RADIOS, TV', 'HOTEL/MOTEL PARKING LOT',\n",
       "       'COMMERCIAL PARKING LOT/GARAGE',\n",
       "       'VACANT SINGLE OCCUPANCY RESIDENCE (HOUSES,TOWNHOUSES,DUPLEXES, ETC.)',\n",
       "       'SPECIALTY STORE (NON-SPECIFIC)', 'COMMERCIAL BUILDING',\n",
       "       'UTILITY COMPANY,ELECTRIC,GAS,WATER', 'HOTEL/MOTEL/ETC.',\n",
       "       'CONDOMINIUM', 'CAR WASH', 'Apartment Rental Office',\n",
       "       'CONVENIENCE STORE PARKING LOT', 'ELEMENTARY SCHOOL',\n",
       "       'BOOK,RECORD,STATIONARY,OFFICE SUP.',\n",
       "       'RESTAURANT/CAFETERIA PARKING LOT',\n",
       "       'STRIP BUSINESS CENTER PARKING LOT', 'CHURCH/SYNAGOGUE/TEMPLE',\n",
       "       'AMUSE. PARK,BOWL. ALLEY,SKATE RINK', \"PHYSICIAN'S OFFICE\",\n",
       "       'SERVICE/GAS STATION', 'GARAGE/CARPORT', 'Driveway',\n",
       "       'Book, Record, Stationary, Office Supplies', 'FIELD/WOODS',\n",
       "       'Restaurant or Cafeteria Parking Lot',\n",
       "       'FACTORY/MANUFACTURING/INDUSTRIAL', 'RENTAL STORAGE FACILITY',\n",
       "       'VACANT OTHER RESIDENTIAL (APARTMENT,INN,DORMS,BOARDING HOUSE)',\n",
       "       'MISC. BUSINESS (NON-SPECIFIC)', 'Bar or Night Club Parking Lot',\n",
       "       'BUS STOP', 'University or College',\n",
       "       'THEATRES,DINNER THEATERS,AUDITOR.', 'POLICE STATION',\n",
       "       'GYM,RECREAT,CLUB HSE,INDR POOL,SPA',\n",
       "       'STADIUM/SPRTS ARENA/RACE TRACK', 'Government or Public Building',\n",
       "       'DAYCARE/CHILD CARE/KINDERGARTEN', 'Hotel, Motel, Inn, Etc.',\n",
       "       \"Physician, Doctor, Dentist's Office\", 'Bus Station', 'BANK',\n",
       "       'Parks and Recreation, Zoo, Swimming Pool',\n",
       "       'Field, Woods, Forest, Park', 'LAUNDRY/DRY CLEANERS/WASHATERIAS',\n",
       "       'HIGHWAY/FREEWAY', 'MIDDLE SCHOOL',\n",
       "       'Church, Synagogue, or Temple Parking Lot', 'Garage or Carport',\n",
       "       'DRUG STORE/MEDICAL SUPPLY', 'AUTO REPAIR',\n",
       "       'BARBER AND BEAUTY SHOPS', 'HIGH RISE', 'BUS STATION',\n",
       "       'CHECK CASHING PLACES', 'Grocery Store or Supermarket Parking Lot',\n",
       "       'JAIL/PRISON', 'GOVERNMENT/PUBLIC BUILDING',\n",
       "       'VACANT OTHER STRUCTURE (OUT BUILDINGS,MONUMENTS,BUILDINGS UNDER CONSTRUCTION,ETC.)',\n",
       "       'VACANT INDUSTRIAL/MANUFACTURING/INDUSTRIAL',\n",
       "       'HOSPITAL PARKING LOT', 'LIQUOR STORE', 'FREEWAY SERVICE ROAD',\n",
       "       'COMMERCIAL OR TRAINING SCHOOL', 'VACANT BUILDING (COMMERCIAL)',\n",
       "       'JEWELRY STORES', 'VEHICLE/AUTO SALES/LEASE/AUTO PARTS STORE',\n",
       "       'PAWN/RESALE SHOP/FLEA MARKET',\n",
       "       'ELECTRONICS STORE, ELECTRICAL SUP.', 'CLOTHING STORE',\n",
       "       'LAUNDRY/DRY CLEANERS PARKING LOT', 'MOBILE HOME', 'FIRE STATION',\n",
       "       'SOCIAL SERVICES/PUBLIC CHARITIES', 'APARTMENT/RENTAL OFFICE',\n",
       "       'UNIVERSITY/COLLEGE', 'CHURCH/SYNAGOGUE/TEMPLE PARKING LOT',\n",
       "       'VACANT STORAGE FACILITY (BARNS,GARAGES,WAREHOUSES,ETC.)',\n",
       "       'BANK/SAVING INSTITUTION PARKING LOT', 'LIBRARIES, MUSEUMS',\n",
       "       'POOL HALL/GAME ROOM', 'SEXUALLY ORIENTED CLUB', 'NURSING HOME',\n",
       "       'APARTMENT LAUNDRY', 'CREDIT UNION',\n",
       "       'SEXUALLY ORIENTED BUSINESS PARKING LOT',\n",
       "       'Gym, Recreat, Club House, Indoor Pool, Spa', 'BODY SHOP',\n",
       "       'CONVENTION CENTER/EXHIBIT HALLS',\n",
       "       'TOYS,ARTS & CRAFT,MUSICAL,BIKE,PET', 'TOLLWAY',\n",
       "       'GARDEN SUPPLY, NURSERY, FLORIST', 'VIDEO RENTAL & SALES',\n",
       "       'PARK & RIDE TERMINAL', 'VACANT CHURCH/SYNAGOGUE/TEMPLE',\n",
       "       'VACANT RESTAURANT', 'VACANT GROCERY/SUPERMARKET',\n",
       "       'SPORTING GOODS/GUN SHOPS', 'ADULT BOOK STORE/NEWSSTAND',\n",
       "       'VACANT HOTEL/MOTEL/ETC.', 'SAVINGS AND LOAN INSTITUTIONS',\n",
       "       'ALLEY', 'TRAIN TERMINAL', 'VACANT GOVERNMENT/PUBLIC BUILDING',\n",
       "       'LAKE/WATERWAY/BAYOU', 'LIGHT RAIL PLATFORM',\n",
       "       'LIQUOR STORE PARKING LOT', 'VACANT SCHOOL/COLLEGE',\n",
       "       'RAILROAD TRACK/RIGHT OF WAY', 'MARINE VEH. SALES,BOATS,SAILBOATS',\n",
       "       'VACANT HOSPITAL', '23C', 'RES', 'VACANT BANK', 'CONTRA-FLOW/HOV',\n",
       "       'LIGHT RAIL VEHICLE', 'Not Listed', 'Construction Site',\n",
       "       'Maintenance or Building Services',\n",
       "       'Theatres, Dinner Theaters, Auditoriums', '06', 'N',\n",
       "       'Amusement Park, Bowling Alley, Skate Rink', 'Bank', 'Warehouse',\n",
       "       'Clothing Store', 'Vehicle/Auto Sales/Lease/Auto Parts Store',\n",
       "       'Service or Gas Station', 'Specialty Store (Non-Specific)',\n",
       "       'Vacant Other Out Build/Monument/UnderConst', 'Auto Repair',\n",
       "       'Check Cashing Places', 'Nursing Home', 'Hospital Parking Lot',\n",
       "       'Bus Stop', 'Airport Terminal',\n",
       "       'Daycare, Child Care, or Kindergarten', 'Alley', 'Hospital',\n",
       "       'Highway or Freeway', 'Social Services or Public Charities',\n",
       "       'Vacant Building (Commercial)',\n",
       "       'Factory, Manufacturing, or Industrial',\n",
       "       'Commercial Or Training School', 'Body Shop',\n",
       "       'Garden Supply, Nursery, or Florist', 'Rehabilitation Center',\n",
       "       'Laundry or Dry Cleaners Parking Lot', 'Credit Union',\n",
       "       'Convenience Store Parking Lot',\n",
       "       'Furniture, Appliances, Radios, TV Store', 'Middle School',\n",
       "       'Liquor Store Parking Lot',\n",
       "       'Vacant Single Occ Resd(House,Townhs,Dplex)', 'Private School',\n",
       "       'Tollway', 'High Rise', 'Laundry, Dry Cleaners, Washaterias',\n",
       "       'Mall Parking Lot', 'Apartment Laundry',\n",
       "       'Sporting Goods or Gun Shops',\n",
       "       'Multi-Plex Home (Duplex,Triplex Etc.)', 'Police Station',\n",
       "       'Libraries, Museums', 'Convention Center or Exhibit Halls',\n",
       "       'Elementary School', 'Barber And Beauty Shops',\n",
       "       'Drug Store or Medical Supply',\n",
       "       'Vacant Other Residential (Apartment,Dorms)',\n",
       "       'Sexually Oriented Business Parking Lot',\n",
       "       'Bank or Savings Institution Parking Lot',\n",
       "       'Savings and Loan Institutions', 'Liquor Store', 'Car Wash',\n",
       "       'Pool Hall or Game Room', 'Sexually Oriented Club',\n",
       "       'Stadium, Sports Arena, Race Track',\n",
       "       'Electronics Store, Electrical Supplies',\n",
       "       'Lake, Pond, Waterway, Bayou, River',\n",
       "       'Vacant Government or Public Building', 'High School',\n",
       "       'Park and Ride Terminal', 'Video Rental & Sales',\n",
       "       'Utility Company, Electric, Gas, Water',\n",
       "       'Toys, Arts Craft,Musical, Bike,Pet Stores',\n",
       "       'Freeway Service Road', 'Jewelry Stores',\n",
       "       'Light Rail (Metro Rail) Vehicle',\n",
       "       'Vacant Grocery Store or Supermarket', 'Light Rail Platform',\n",
       "       'Adult Book Store or Newsstand',\n",
       "       'Marine Vehicle Sales, Boats, Sailboats',\n",
       "       'Vacant School or College/University',\n",
       "       'Vacant Industrial or Manufacturing Blding',\n",
       "       'Vacant Hotel, Motel, Etc.', 'Vacant Church, Synagogue, or Temple',\n",
       "       'Train (Not Metro) Terminal', 'Vacant Bank', 'Jail or Prison',\n",
       "       'Vacant Restaurant', 'Contra-Flow, Managed, or HOV Lanes',\n",
       "       'Fire Station', 'Vacant Hospital',\n",
       "       'Package Facility (FedEx,UPS,DHL)', 'Vacant Jail or Prison',\n",
       "       'Gym, Recreat, Club House, Indoor Pool', 'Adult Novelty Store',\n",
       "       'Cantina', 'Modeling Studio', 'Illicit Massage Parlor or Spa',\n",
       "       'Adult Theater/Arcade'], dtype=object)"
      ]
     },
     "execution_count": 47,
     "metadata": {},
     "output_type": "execute_result"
    }
   ],
   "source": [
    "df.Premise.unique()"
   ]
  },
  {
   "cell_type": "markdown",
   "metadata": {},
   "source": [
    "# NumOffenses"
   ]
  },
  {
   "cell_type": "code",
   "execution_count": 48,
   "metadata": {},
   "outputs": [
    {
     "data": {
      "text/plain": [
       "17"
      ]
     },
     "execution_count": 48,
     "metadata": {},
     "output_type": "execute_result"
    }
   ],
   "source": [
    "len(df.NumOffenses.unique())"
   ]
  },
  {
   "cell_type": "code",
   "execution_count": 49,
   "metadata": {},
   "outputs": [
    {
     "data": {
      "text/plain": [
       "array([ 1.,  2.,  4.,  3., 16.,  5.,  9.,  6., 13.,  7.,  8., 11., 29.,\n",
       "       12., 17., 33., 10.])"
      ]
     },
     "execution_count": 49,
     "metadata": {},
     "output_type": "execute_result"
    }
   ],
   "source": [
    "df.NumOffenses.unique()"
   ]
  },
  {
   "cell_type": "code",
   "execution_count": 50,
   "metadata": {},
   "outputs": [
    {
     "data": {
      "text/plain": [
       "1.0     993650\n",
       "2.0      10646\n",
       "3.0       1611\n",
       "4.0        247\n",
       "5.0         80\n",
       "6.0         46\n",
       "7.0         15\n",
       "8.0         10\n",
       "9.0          4\n",
       "13.0         4\n",
       "16.0         3\n",
       "10.0         3\n",
       "12.0         2\n",
       "17.0         2\n",
       "11.0         1\n",
       "33.0         1\n",
       "29.0         1\n",
       "Name: NumOffenses, dtype: int64"
      ]
     },
     "execution_count": 50,
     "metadata": {},
     "output_type": "execute_result"
    }
   ],
   "source": [
    "df.NumOffenses.value_counts(dropna=False)"
   ]
  },
  {
   "cell_type": "markdown",
   "metadata": {},
   "source": [
    "# Hour"
   ]
  },
  {
   "cell_type": "code",
   "execution_count": 51,
   "metadata": {},
   "outputs": [
    {
     "data": {
      "text/plain": [
       "84"
      ]
     },
     "execution_count": 51,
     "metadata": {},
     "output_type": "execute_result"
    }
   ],
   "source": [
    "len(df.Hour.unique())"
   ]
  },
  {
   "cell_type": "code",
   "execution_count": 52,
   "metadata": {},
   "outputs": [
    {
     "data": {
      "text/plain": [
       "array(['7', '3', '19', 22, 23, 7, 10, 13, 16, 15, 17, 19, 12, 9, 14, 11,\n",
       "       18, '16', '11', 5.0, 8, 6, 0.0, '6', 20.0, '23', 2.0, '0', 3.0,\n",
       "       '14', 21, 1.0, '13', '22', '12', '20', 4.0, '15', '21', '18', '8',\n",
       "       '10', '17', '2', \"'05\", '9', \"'12\", '1', \"'02\", '05', '5', \"'10\",\n",
       "       \"'00\", '06', '07', \"'09\", '08', '4', \"'16\", \"'07\", \"'13\", \"'08\",\n",
       "       \"'17\", '02', \"'01\", \"'23\", '09', \"'18\", \"'21\", \"'19\", \"'15\", \"'22\",\n",
       "       \"'06\", \"'14\", \"'11\", \"'20\", \"'03\", \"'04\", '00', '04', '01', '03',\n",
       "       '24', 24], dtype=object)"
      ]
     },
     "execution_count": 52,
     "metadata": {},
     "output_type": "execute_result"
    }
   ],
   "source": [
    "df.Hour.unique()"
   ]
  },
  {
   "cell_type": "code",
   "execution_count": 53,
   "metadata": {},
   "outputs": [
    {
     "data": {
      "text/plain": [
       "12      53751\n",
       "18      53204\n",
       "17      52177\n",
       "15      51881\n",
       "16      50408\n",
       "14      49222\n",
       "19      49139\n",
       "20.0    47522\n",
       "13      46792\n",
       "10      45330\n",
       "22      45062\n",
       "11      44757\n",
       "21      43969\n",
       "9       42685\n",
       "8       42430\n",
       "0.0     40150\n",
       "23      37193\n",
       "7       34420\n",
       "1.0     22769\n",
       "6       22546\n",
       "2.0     21018\n",
       "3.0     16492\n",
       "5.0     14485\n",
       "4.0     13385\n",
       "18       4143\n",
       "20       3794\n",
       "19       3790\n",
       "17       3709\n",
       "12       3548\n",
       "16       3481\n",
       "        ...  \n",
       "05        129\n",
       "03        117\n",
       "01        115\n",
       "04         94\n",
       "'00        91\n",
       "'12        73\n",
       "'18        69\n",
       "'22        64\n",
       "'17        56\n",
       "'16        53\n",
       "'20        51\n",
       "'21        48\n",
       "'19        48\n",
       "'23        48\n",
       "'14        44\n",
       "'15        43\n",
       "'08        43\n",
       "'10        40\n",
       "'13        38\n",
       "'11        33\n",
       "'07        29\n",
       "'02        25\n",
       "'09        25\n",
       "'01        24\n",
       "'06        17\n",
       "'05        16\n",
       "'03        12\n",
       "'04        10\n",
       "24          3\n",
       "24          1\n",
       "Name: Hour, Length: 84, dtype: int64"
      ]
     },
     "execution_count": 53,
     "metadata": {},
     "output_type": "execute_result"
    }
   ],
   "source": [
    "df.Hour.value_counts(dropna=False)"
   ]
  },
  {
   "cell_type": "markdown",
   "metadata": {},
   "source": [
    "### Cleanup Hour"
   ]
  },
  {
   "cell_type": "code",
   "execution_count": 54,
   "metadata": {},
   "outputs": [],
   "source": [
    "df.Hour = df.Hour.str.replace(\"'\", \" \")"
   ]
  },
  {
   "cell_type": "code",
   "execution_count": 55,
   "metadata": {},
   "outputs": [],
   "source": [
    "df.Hour = df.Hour.str.strip()"
   ]
  },
  {
   "cell_type": "code",
   "execution_count": 56,
   "metadata": {},
   "outputs": [],
   "source": [
    "df.Hour = pd.to_numeric(df.Hour,errors='coerce')"
   ]
  },
  {
   "cell_type": "code",
   "execution_count": 57,
   "metadata": {},
   "outputs": [
    {
     "data": {
      "text/plain": [
       "26"
      ]
     },
     "execution_count": 57,
     "metadata": {},
     "output_type": "execute_result"
    }
   ],
   "source": [
    "len(df.Hour.unique())"
   ]
  },
  {
   "cell_type": "code",
   "execution_count": 58,
   "metadata": {},
   "outputs": [
    {
     "data": {
      "text/plain": [
       "array([ 7.,  3., 19., nan, 16., 11.,  6., 23.,  0., 14., 13., 22., 12.,\n",
       "       20., 15., 21., 18.,  8., 10., 17.,  2.,  5.,  9.,  1.,  4., 24.])"
      ]
     },
     "execution_count": 58,
     "metadata": {},
     "output_type": "execute_result"
    }
   ],
   "source": [
    "df.Hour.unique()"
   ]
  },
  {
   "cell_type": "code",
   "execution_count": 59,
   "metadata": {},
   "outputs": [
    {
     "data": {
      "text/plain": [
       "NaN      940790\n",
       " 18.0      4212\n",
       " 20.0      3845\n",
       " 19.0      3838\n",
       " 17.0      3765\n",
       " 12.0      3621\n",
       " 16.0      3534\n",
       " 15.0      3508\n",
       " 22.0      3395\n",
       " 0.0       3339\n",
       " 21.0      3331\n",
       " 14.0      3206\n",
       " 13.0      2959\n",
       " 10.0      2885\n",
       " 11.0      2835\n",
       " 23.0      2566\n",
       " 9.0       2566\n",
       " 8.0       2537\n",
       " 7.0       2051\n",
       " 2.0       1494\n",
       " 1.0       1476\n",
       " 6.0       1462\n",
       " 3.0       1154\n",
       " 5.0       1014\n",
       " 4.0        942\n",
       " 24.0         1\n",
       "Name: Hour, dtype: int64"
      ]
     },
     "execution_count": 59,
     "metadata": {},
     "output_type": "execute_result"
    }
   ],
   "source": [
    "df.Hour.value_counts(dropna=False)"
   ]
  },
  {
   "cell_type": "code",
   "execution_count": null,
   "metadata": {},
   "outputs": [],
   "source": []
  },
  {
   "cell_type": "code",
   "execution_count": null,
   "metadata": {},
   "outputs": [],
   "source": []
  },
  {
   "cell_type": "code",
   "execution_count": null,
   "metadata": {},
   "outputs": [],
   "source": []
  },
  {
   "cell_type": "code",
   "execution_count": 71,
   "metadata": {},
   "outputs": [],
   "source": [
    "# change from 20 to 0\n",
    "\n",
    "df.Hour = df.Hour.replace(24,0)"
   ]
  },
  {
   "cell_type": "code",
   "execution_count": 72,
   "metadata": {},
   "outputs": [
    {
     "data": {
      "text/plain": [
       "25"
      ]
     },
     "execution_count": 72,
     "metadata": {},
     "output_type": "execute_result"
    }
   ],
   "source": [
    "len(df.Hour.unique())"
   ]
  },
  {
   "cell_type": "code",
   "execution_count": 73,
   "metadata": {},
   "outputs": [
    {
     "data": {
      "text/plain": [
       "array([ 7.,  3., 19., nan, 16., 11.,  6., 23.,  0., 14., 13., 22., 12.,\n",
       "       20., 15., 21., 18.,  8., 10., 17.,  2.,  5.,  9.,  1.,  4.])"
      ]
     },
     "execution_count": 73,
     "metadata": {},
     "output_type": "execute_result"
    }
   ],
   "source": [
    "df.Hour.unique()"
   ]
  },
  {
   "cell_type": "code",
   "execution_count": 74,
   "metadata": {},
   "outputs": [
    {
     "data": {
      "text/plain": [
       "NaN      940790\n",
       " 18.0      4212\n",
       " 20.0      3845\n",
       " 19.0      3838\n",
       " 17.0      3765\n",
       " 12.0      3621\n",
       " 16.0      3534\n",
       " 15.0      3508\n",
       " 22.0      3395\n",
       " 0.0       3340\n",
       " 21.0      3331\n",
       " 14.0      3206\n",
       " 13.0      2959\n",
       " 10.0      2885\n",
       " 11.0      2835\n",
       " 23.0      2566\n",
       " 9.0       2566\n",
       " 8.0       2537\n",
       " 7.0       2051\n",
       " 2.0       1494\n",
       " 1.0       1476\n",
       " 6.0       1462\n",
       " 3.0       1154\n",
       " 5.0       1014\n",
       " 4.0        942\n",
       "Name: Hour, dtype: int64"
      ]
     },
     "execution_count": 74,
     "metadata": {},
     "output_type": "execute_result"
    }
   ],
   "source": [
    "df.Hour.value_counts(dropna=False)"
   ]
  },
  {
   "cell_type": "markdown",
   "metadata": {},
   "source": [
    "# day"
   ]
  },
  {
   "cell_type": "code",
   "execution_count": 90,
   "metadata": {},
   "outputs": [
    {
     "data": {
      "text/plain": [
       "62"
      ]
     },
     "execution_count": 90,
     "metadata": {},
     "output_type": "execute_result"
    }
   ],
   "source": [
    "len(df.day.unique())"
   ]
  },
  {
   "cell_type": "code",
   "execution_count": 91,
   "metadata": {},
   "outputs": [
    {
     "data": {
      "text/plain": [
       "array([8, 2, 3, 5, 14, 24, 30, 29, 15, 25, 23, 6, 22, 20, 16, 18, 28, 26,\n",
       "       9, 31, 1, 27, 12, 17, 7, 21, 13, 10, 11, 19, 4, '16', '17', '18',\n",
       "       '19', '20', '21', '22', '23', '24', '25', '26', '27', '28', '29',\n",
       "       '30', '31', '01', '02', '03', '04', '05', '06', '07', '08', '09',\n",
       "       '10', '11', '12', '13', '14', '15'], dtype=object)"
      ]
     },
     "execution_count": 91,
     "metadata": {},
     "output_type": "execute_result"
    }
   ],
   "source": [
    "df.day.unique()"
   ]
  },
  {
   "cell_type": "code",
   "execution_count": 92,
   "metadata": {},
   "outputs": [
    {
     "data": {
      "text/plain": [
       "1     34753\n",
       "15    32135\n",
       "20    31828\n",
       "16    31651\n",
       "2     31584\n",
       "Name: day, dtype: int64"
      ]
     },
     "execution_count": 92,
     "metadata": {},
     "output_type": "execute_result"
    }
   ],
   "source": [
    "df.day.value_counts(dropna=False).head()"
   ]
  },
  {
   "cell_type": "code",
   "execution_count": 93,
   "metadata": {},
   "outputs": [],
   "source": [
    "df.day = pd.to_numeric(df.day)"
   ]
  },
  {
   "cell_type": "code",
   "execution_count": 94,
   "metadata": {},
   "outputs": [
    {
     "data": {
      "text/plain": [
       "31"
      ]
     },
     "execution_count": 94,
     "metadata": {},
     "output_type": "execute_result"
    }
   ],
   "source": [
    "len(df.day.unique())"
   ]
  },
  {
   "cell_type": "code",
   "execution_count": 95,
   "metadata": {},
   "outputs": [
    {
     "data": {
      "text/plain": [
       "array([ 8,  2,  3,  5, 14, 24, 30, 29, 15, 25, 23,  6, 22, 20, 16, 18, 28,\n",
       "       26,  9, 31,  1, 27, 12, 17,  7, 21, 13, 10, 11, 19,  4])"
      ]
     },
     "execution_count": 95,
     "metadata": {},
     "output_type": "execute_result"
    }
   ],
   "source": [
    "df.day.unique()"
   ]
  },
  {
   "cell_type": "markdown",
   "metadata": {},
   "source": [
    "# weekday"
   ]
  },
  {
   "cell_type": "code",
   "execution_count": 96,
   "metadata": {},
   "outputs": [
    {
     "data": {
      "text/plain": [
       "array(['Tuesday', 'Monday', 'Thursday', 'Saturday', 'Friday', 'Wednesday',\n",
       "       'Sunday'], dtype=object)"
      ]
     },
     "execution_count": 96,
     "metadata": {},
     "output_type": "execute_result"
    }
   ],
   "source": [
    "df.weekday.unique()"
   ]
  },
  {
   "cell_type": "code",
   "execution_count": 97,
   "metadata": {},
   "outputs": [
    {
     "data": {
      "text/plain": [
       "Friday       154377\n",
       "Monday       148218\n",
       "Thursday     144822\n",
       "Wednesday    144241\n",
       "Tuesday      143440\n",
       "Saturday     142584\n",
       "Sunday       128644\n",
       "Name: weekday, dtype: int64"
      ]
     },
     "execution_count": 97,
     "metadata": {},
     "output_type": "execute_result"
    }
   ],
   "source": [
    "df.weekday.value_counts(dropna=False)"
   ]
  },
  {
   "cell_type": "markdown",
   "metadata": {},
   "source": [
    "# month"
   ]
  },
  {
   "cell_type": "code",
   "execution_count": 98,
   "metadata": {},
   "outputs": [
    {
     "data": {
      "text/plain": [
       "array(['Sep', 'Nov', 'Dec', 'Jan', 'Apr', 'Jul', 'May', 'Jun', 'Aug',\n",
       "       'Oct', 'Feb', 'Mar'], dtype=object)"
      ]
     },
     "execution_count": 98,
     "metadata": {},
     "output_type": "execute_result"
    }
   ],
   "source": [
    "df.month.unique()"
   ]
  },
  {
   "cell_type": "code",
   "execution_count": 99,
   "metadata": {},
   "outputs": [
    {
     "data": {
      "text/plain": [
       "Jul    88958\n",
       "May    88471\n",
       "Aug    88283\n",
       "Dec    86742\n",
       "Jan    85867\n",
       "Oct    85075\n",
       "Apr    83205\n",
       "Jun    83013\n",
       "Sep    81957\n",
       "Nov    81739\n",
       "Mar    81307\n",
       "Feb    71709\n",
       "Name: month, dtype: int64"
      ]
     },
     "execution_count": 99,
     "metadata": {},
     "output_type": "execute_result"
    }
   ],
   "source": [
    "df.month.value_counts(dropna=False)"
   ]
  },
  {
   "cell_type": "markdown",
   "metadata": {},
   "source": [
    "# year"
   ]
  },
  {
   "cell_type": "code",
   "execution_count": 100,
   "metadata": {},
   "outputs": [
    {
     "data": {
      "text/plain": [
       "73"
      ]
     },
     "execution_count": 100,
     "metadata": {},
     "output_type": "execute_result"
    }
   ],
   "source": [
    "len(df.year.unique())"
   ]
  },
  {
   "cell_type": "code",
   "execution_count": 101,
   "metadata": {},
   "outputs": [
    {
     "data": {
      "text/plain": [
       "array([1914, 1915, 1916, 1917, 1918, 1919, 1920, 1921, 1924, 1926, 1927,\n",
       "       1953, 1959, 1963, 1964, 1965, 1966, 1969, 1970, 1971, 1972, 1973,\n",
       "       1974, 1975, 1976, 1977, 1978, 1979, 1980, 1981, 1982, 1983, 1984,\n",
       "       1985, 1986, 1987, 1988, 1989, 1990, 1991, 1992, 1993, 1994, 1995,\n",
       "       1996, 1997, 1998, 1999, 2000, 2001, 2002, 2003, 2004, 2005, 2006,\n",
       "       2007, 2008, 2009, 2010, 2011, 2012, 2013, 2014, '2014', 2015, 2016,\n",
       "       2017, 2019, '2019', 2020, 2021, 2029, 2033], dtype=object)"
      ]
     },
     "execution_count": 101,
     "metadata": {},
     "output_type": "execute_result"
    }
   ],
   "source": [
    "df.year.unique()"
   ]
  },
  {
   "cell_type": "code",
   "execution_count": 103,
   "metadata": {},
   "outputs": [
    {
     "data": {
      "text/plain": [
       "2010    136357\n",
       "2013    130200\n",
       "2012    127486\n",
       "2011    127168\n",
       "2016    122423\n",
       "2015    120079\n",
       "2017    118581\n",
       "2014     65242\n",
       "2014     56209\n",
       "2009      1596\n",
       "2008       195\n",
       "2001       146\n",
       "2007       109\n",
       "2005        98\n",
       "2006        87\n",
       "2000        56\n",
       "2004        53\n",
       "2003        40\n",
       "2002        28\n",
       "1999        12\n",
       "1993         9\n",
       "1980         9\n",
       "1915         8\n",
       "1995         8\n",
       "1998         7\n",
       "1916         6\n",
       "1992         6\n",
       "1977         6\n",
       "1990         6\n",
       "1989         5\n",
       "         ...  \n",
       "1987         3\n",
       "1974         2\n",
       "1982         2\n",
       "1997         2\n",
       "1969         2\n",
       "1973         2\n",
       "1965         2\n",
       "1976         2\n",
       "1978         2\n",
       "1986         2\n",
       "1985         2\n",
       "1981         2\n",
       "2033         1\n",
       "1924         1\n",
       "2029         1\n",
       "2021         1\n",
       "1918         1\n",
       "1919         1\n",
       "2020         1\n",
       "1921         1\n",
       "1984         1\n",
       "1926         1\n",
       "1927         1\n",
       "1953         1\n",
       "1959         1\n",
       "1963         1\n",
       "2019         1\n",
       "1970         1\n",
       "1975         1\n",
       "2019         1\n",
       "Name: year, Length: 73, dtype: int64"
      ]
     },
     "execution_count": 103,
     "metadata": {},
     "output_type": "execute_result"
    }
   ],
   "source": [
    "df.year.value_counts(dropna=False)"
   ]
  },
  {
   "cell_type": "code",
   "execution_count": 104,
   "metadata": {},
   "outputs": [],
   "source": [
    "df.year = pd.to_numeric(df.year)\n"
   ]
  },
  {
   "cell_type": "code",
   "execution_count": 105,
   "metadata": {},
   "outputs": [
    {
     "data": {
      "text/plain": [
       "71"
      ]
     },
     "execution_count": 105,
     "metadata": {},
     "output_type": "execute_result"
    }
   ],
   "source": [
    "len(df.year.unique())"
   ]
  },
  {
   "cell_type": "code",
   "execution_count": 106,
   "metadata": {},
   "outputs": [
    {
     "data": {
      "text/plain": [
       "array([1914, 1915, 1916, 1917, 1918, 1919, 1920, 1921, 1924, 1926, 1927,\n",
       "       1953, 1959, 1963, 1964, 1965, 1966, 1969, 1970, 1971, 1972, 1973,\n",
       "       1974, 1975, 1976, 1977, 1978, 1979, 1980, 1981, 1982, 1983, 1984,\n",
       "       1985, 1986, 1987, 1988, 1989, 1990, 1991, 1992, 1993, 1994, 1995,\n",
       "       1996, 1997, 1998, 1999, 2000, 2001, 2002, 2003, 2004, 2005, 2006,\n",
       "       2007, 2008, 2009, 2010, 2011, 2012, 2013, 2014, 2015, 2016, 2017,\n",
       "       2019, 2020, 2021, 2029, 2033])"
      ]
     },
     "execution_count": 106,
     "metadata": {},
     "output_type": "execute_result"
    }
   ],
   "source": [
    "df.year.unique()"
   ]
  },
  {
   "cell_type": "code",
   "execution_count": 107,
   "metadata": {},
   "outputs": [
    {
     "data": {
      "text/plain": [
       "2010    136357\n",
       "2013    130200\n",
       "2012    127486\n",
       "2011    127168\n",
       "2016    122423\n",
       "2014    121451\n",
       "2015    120079\n",
       "2017    118581\n",
       "2009      1596\n",
       "2008       195\n",
       "2001       146\n",
       "Name: year, dtype: int64"
      ]
     },
     "execution_count": 107,
     "metadata": {},
     "output_type": "execute_result"
    }
   ],
   "source": [
    "df.year.value_counts(dropna=False).head(11)"
   ]
  },
  {
   "cell_type": "code",
   "execution_count": 118,
   "metadata": {},
   "outputs": [
    {
     "name": "stdout",
     "output_type": "stream",
     "text": [
      "<class 'pandas.core.frame.DataFrame'>\n",
      "DatetimeIndex: 1006326 entries, 1914-09-08 to 2033-04-21\n",
      "Data columns (total 11 columns):\n",
      "Beat           1006326 non-null object\n",
      "BlockRange     1006169 non-null object\n",
      "StreetName     1006300 non-null object\n",
      "OffenseType    1006326 non-null object\n",
      "Premise        1006326 non-null object\n",
      "NumOffenses    1006326 non-null float64\n",
      "Hour           65536 non-null float64\n",
      "day            1006326 non-null int64\n",
      "weekday        1006326 non-null object\n",
      "month          1006326 non-null object\n",
      "year           1006326 non-null int64\n",
      "dtypes: float64(2), int64(2), object(7)\n",
      "memory usage: 92.1+ MB\n"
     ]
    }
   ],
   "source": [
    "df.info()"
   ]
  },
  {
   "cell_type": "code",
   "execution_count": 114,
   "metadata": {},
   "outputs": [
    {
     "data": {
      "text/plain": [
       "940919"
      ]
     },
     "execution_count": 114,
     "metadata": {},
     "output_type": "execute_result"
    }
   ],
   "source": [
    "len(df[df.isnull().any(axis=1)])"
   ]
  },
  {
   "cell_type": "code",
   "execution_count": 113,
   "metadata": {},
   "outputs": [
    {
     "data": {
      "text/html": [
       "<div>\n",
       "<style scoped>\n",
       "    .dataframe tbody tr th:only-of-type {\n",
       "        vertical-align: middle;\n",
       "    }\n",
       "\n",
       "    .dataframe tbody tr th {\n",
       "        vertical-align: top;\n",
       "    }\n",
       "\n",
       "    .dataframe thead th {\n",
       "        text-align: right;\n",
       "    }\n",
       "</style>\n",
       "<table border=\"1\" class=\"dataframe\">\n",
       "  <thead>\n",
       "    <tr style=\"text-align: right;\">\n",
       "      <th></th>\n",
       "      <th>Beat</th>\n",
       "      <th>BlockRange</th>\n",
       "      <th>StreetName</th>\n",
       "      <th>OffenseType</th>\n",
       "      <th>Premise</th>\n",
       "      <th>NumOffenses</th>\n",
       "      <th>Hour</th>\n",
       "      <th>day</th>\n",
       "      <th>weekday</th>\n",
       "      <th>month</th>\n",
       "      <th>year</th>\n",
       "    </tr>\n",
       "    <tr>\n",
       "      <th>Date</th>\n",
       "      <th></th>\n",
       "      <th></th>\n",
       "      <th></th>\n",
       "      <th></th>\n",
       "      <th></th>\n",
       "      <th></th>\n",
       "      <th></th>\n",
       "      <th></th>\n",
       "      <th></th>\n",
       "      <th></th>\n",
       "      <th></th>\n",
       "    </tr>\n",
       "  </thead>\n",
       "  <tbody>\n",
       "    <tr>\n",
       "      <th>1915-01-05</th>\n",
       "      <td>3B10</td>\n",
       "      <td>3200-3299</td>\n",
       "      <td>MANGUM RD 180</td>\n",
       "      <td>Theft</td>\n",
       "      <td>Other Parking Lot</td>\n",
       "      <td>1.0</td>\n",
       "      <td>NaN</td>\n",
       "      <td>5</td>\n",
       "      <td>Tuesday</td>\n",
       "      <td>Jan</td>\n",
       "      <td>1915</td>\n",
       "    </tr>\n",
       "    <tr>\n",
       "      <th>1915-01-14</th>\n",
       "      <td>5F10</td>\n",
       "      <td>7000-7099</td>\n",
       "      <td>WESTVIEW</td>\n",
       "      <td>Auto Theft</td>\n",
       "      <td>Apartment Parking Lot</td>\n",
       "      <td>1.0</td>\n",
       "      <td>NaN</td>\n",
       "      <td>14</td>\n",
       "      <td>Thursday</td>\n",
       "      <td>Jan</td>\n",
       "      <td>1915</td>\n",
       "    </tr>\n",
       "    <tr>\n",
       "      <th>1915-04-24</th>\n",
       "      <td>1A20</td>\n",
       "      <td>3100-3199</td>\n",
       "      <td>SMITH</td>\n",
       "      <td>Burglary</td>\n",
       "      <td>Office Building</td>\n",
       "      <td>1.0</td>\n",
       "      <td>NaN</td>\n",
       "      <td>24</td>\n",
       "      <td>Saturday</td>\n",
       "      <td>Apr</td>\n",
       "      <td>1915</td>\n",
       "    </tr>\n",
       "    <tr>\n",
       "      <th>1915-07-30</th>\n",
       "      <td>11H10</td>\n",
       "      <td>5600-5699</td>\n",
       "      <td>TRUETT</td>\n",
       "      <td>Rape</td>\n",
       "      <td>Other, Unknown, or Not Listed</td>\n",
       "      <td>1.0</td>\n",
       "      <td>NaN</td>\n",
       "      <td>30</td>\n",
       "      <td>Friday</td>\n",
       "      <td>Jul</td>\n",
       "      <td>1915</td>\n",
       "    </tr>\n",
       "    <tr>\n",
       "      <th>1915-09-03</th>\n",
       "      <td>19G20</td>\n",
       "      <td>11700-11799</td>\n",
       "      <td>BEECHNUT</td>\n",
       "      <td>Burglary</td>\n",
       "      <td>Rental Storage Facility</td>\n",
       "      <td>1.0</td>\n",
       "      <td>NaN</td>\n",
       "      <td>3</td>\n",
       "      <td>Friday</td>\n",
       "      <td>Sep</td>\n",
       "      <td>1915</td>\n",
       "    </tr>\n",
       "    <tr>\n",
       "      <th>1915-09-29</th>\n",
       "      <td>9C40</td>\n",
       "      <td>1000-1099</td>\n",
       "      <td>MAXEY</td>\n",
       "      <td>Theft</td>\n",
       "      <td>Hotel or Motel Parking Lot</td>\n",
       "      <td>1.0</td>\n",
       "      <td>NaN</td>\n",
       "      <td>29</td>\n",
       "      <td>Wednesday</td>\n",
       "      <td>Sep</td>\n",
       "      <td>1915</td>\n",
       "    </tr>\n",
       "    <tr>\n",
       "      <th>1915-12-15</th>\n",
       "      <td>9C30</td>\n",
       "      <td>10200-10299</td>\n",
       "      <td>LOOP</td>\n",
       "      <td>Burglary</td>\n",
       "      <td>Commercial Building</td>\n",
       "      <td>1.0</td>\n",
       "      <td>NaN</td>\n",
       "      <td>15</td>\n",
       "      <td>Wednesday</td>\n",
       "      <td>Dec</td>\n",
       "      <td>1915</td>\n",
       "    </tr>\n",
       "    <tr>\n",
       "      <th>1915-12-25</th>\n",
       "      <td>6B30</td>\n",
       "      <td>6400-6499</td>\n",
       "      <td>ANTOINE</td>\n",
       "      <td>Theft</td>\n",
       "      <td>Apartment</td>\n",
       "      <td>1.0</td>\n",
       "      <td>NaN</td>\n",
       "      <td>25</td>\n",
       "      <td>Saturday</td>\n",
       "      <td>Dec</td>\n",
       "      <td>1915</td>\n",
       "    </tr>\n",
       "    <tr>\n",
       "      <th>1916-05-23</th>\n",
       "      <td>10H70</td>\n",
       "      <td>UNK</td>\n",
       "      <td>LIBERTY ROAD</td>\n",
       "      <td>Aggravated Assault</td>\n",
       "      <td>Residence or House</td>\n",
       "      <td>1.0</td>\n",
       "      <td>NaN</td>\n",
       "      <td>23</td>\n",
       "      <td>Tuesday</td>\n",
       "      <td>May</td>\n",
       "      <td>1916</td>\n",
       "    </tr>\n",
       "    <tr>\n",
       "      <th>1916-06-24</th>\n",
       "      <td>4F20</td>\n",
       "      <td>9800-9899</td>\n",
       "      <td>KNOBOAK</td>\n",
       "      <td>Theft</td>\n",
       "      <td>Road, Street, or Sidewalk</td>\n",
       "      <td>1.0</td>\n",
       "      <td>NaN</td>\n",
       "      <td>24</td>\n",
       "      <td>Saturday</td>\n",
       "      <td>Jun</td>\n",
       "      <td>1916</td>\n",
       "    </tr>\n",
       "    <tr>\n",
       "      <th>1916-08-06</th>\n",
       "      <td>6B30</td>\n",
       "      <td>5800-5899</td>\n",
       "      <td>HOUSTON ROSSLYN</td>\n",
       "      <td>Burglary</td>\n",
       "      <td>Rental Storage Facility</td>\n",
       "      <td>1.0</td>\n",
       "      <td>NaN</td>\n",
       "      <td>6</td>\n",
       "      <td>Sunday</td>\n",
       "      <td>Aug</td>\n",
       "      <td>1916</td>\n",
       "    </tr>\n",
       "    <tr>\n",
       "      <th>1916-10-22</th>\n",
       "      <td>20G30</td>\n",
       "      <td>2900-2999</td>\n",
       "      <td>HAYES</td>\n",
       "      <td>Theft</td>\n",
       "      <td>Apartment</td>\n",
       "      <td>1.0</td>\n",
       "      <td>NaN</td>\n",
       "      <td>22</td>\n",
       "      <td>Sunday</td>\n",
       "      <td>Oct</td>\n",
       "      <td>1916</td>\n",
       "    </tr>\n",
       "    <tr>\n",
       "      <th>1916-10-22</th>\n",
       "      <td>19G40</td>\n",
       "      <td>8400-8499</td>\n",
       "      <td>COOK</td>\n",
       "      <td>Burglary</td>\n",
       "      <td>Vacant Storage Fac (Barn,Garage,Warehouse)</td>\n",
       "      <td>1.0</td>\n",
       "      <td>NaN</td>\n",
       "      <td>22</td>\n",
       "      <td>Sunday</td>\n",
       "      <td>Oct</td>\n",
       "      <td>1916</td>\n",
       "    </tr>\n",
       "    <tr>\n",
       "      <th>1916-10-22</th>\n",
       "      <td>18F20</td>\n",
       "      <td>5300-5399</td>\n",
       "      <td>ALABAMA</td>\n",
       "      <td>Theft</td>\n",
       "      <td>Commercial Parking Lot or Garage</td>\n",
       "      <td>1.0</td>\n",
       "      <td>NaN</td>\n",
       "      <td>22</td>\n",
       "      <td>Sunday</td>\n",
       "      <td>Oct</td>\n",
       "      <td>1916</td>\n",
       "    </tr>\n",
       "    <tr>\n",
       "      <th>1917-01-20</th>\n",
       "      <td>20G20</td>\n",
       "      <td>2100-2199</td>\n",
       "      <td>GESSNER</td>\n",
       "      <td>Theft</td>\n",
       "      <td>Apartment Parking Lot</td>\n",
       "      <td>1.0</td>\n",
       "      <td>NaN</td>\n",
       "      <td>20</td>\n",
       "      <td>Saturday</td>\n",
       "      <td>Jan</td>\n",
       "      <td>1917</td>\n",
       "    </tr>\n",
       "    <tr>\n",
       "      <th>1917-02-20</th>\n",
       "      <td>17E20</td>\n",
       "      <td>9100-9199</td>\n",
       "      <td>FONDREN</td>\n",
       "      <td>Auto Theft</td>\n",
       "      <td>Road, Street, or Sidewalk</td>\n",
       "      <td>1.0</td>\n",
       "      <td>NaN</td>\n",
       "      <td>20</td>\n",
       "      <td>Tuesday</td>\n",
       "      <td>Feb</td>\n",
       "      <td>1917</td>\n",
       "    </tr>\n",
       "    <tr>\n",
       "      <th>1917-02-20</th>\n",
       "      <td>10H70</td>\n",
       "      <td>7500-7599</td>\n",
       "      <td>ARDMORE</td>\n",
       "      <td>Theft</td>\n",
       "      <td>Other Parking Lot</td>\n",
       "      <td>1.0</td>\n",
       "      <td>NaN</td>\n",
       "      <td>20</td>\n",
       "      <td>Tuesday</td>\n",
       "      <td>Feb</td>\n",
       "      <td>1917</td>\n",
       "    </tr>\n",
       "    <tr>\n",
       "      <th>1917-04-16</th>\n",
       "      <td>18F20</td>\n",
       "      <td>1100-1199</td>\n",
       "      <td>UPTOWN PARK</td>\n",
       "      <td>Rape</td>\n",
       "      <td>Bar or Night Club</td>\n",
       "      <td>1.0</td>\n",
       "      <td>NaN</td>\n",
       "      <td>16</td>\n",
       "      <td>Monday</td>\n",
       "      <td>Apr</td>\n",
       "      <td>1917</td>\n",
       "    </tr>\n",
       "    <tr>\n",
       "      <th>1917-12-18</th>\n",
       "      <td>9C20</td>\n",
       "      <td>500-599</td>\n",
       "      <td>PORTWALL</td>\n",
       "      <td>Theft</td>\n",
       "      <td>Miscellaneous Business (Non-Specific)</td>\n",
       "      <td>1.0</td>\n",
       "      <td>NaN</td>\n",
       "      <td>18</td>\n",
       "      <td>Tuesday</td>\n",
       "      <td>Dec</td>\n",
       "      <td>1917</td>\n",
       "    </tr>\n",
       "    <tr>\n",
       "      <th>1918-11-18</th>\n",
       "      <td>19G10</td>\n",
       "      <td>9400-9499</td>\n",
       "      <td>SAM HOUSTON</td>\n",
       "      <td>Theft</td>\n",
       "      <td>Department or Discount Store</td>\n",
       "      <td>1.0</td>\n",
       "      <td>NaN</td>\n",
       "      <td>18</td>\n",
       "      <td>Monday</td>\n",
       "      <td>Nov</td>\n",
       "      <td>1918</td>\n",
       "    </tr>\n",
       "    <tr>\n",
       "      <th>1919-09-28</th>\n",
       "      <td>14D20</td>\n",
       "      <td>8600-8699</td>\n",
       "      <td>AMADWE</td>\n",
       "      <td>Burglary</td>\n",
       "      <td>Residence or House</td>\n",
       "      <td>1.0</td>\n",
       "      <td>NaN</td>\n",
       "      <td>28</td>\n",
       "      <td>Sunday</td>\n",
       "      <td>Sep</td>\n",
       "      <td>1919</td>\n",
       "    </tr>\n",
       "    <tr>\n",
       "      <th>1920-02-29</th>\n",
       "      <td>8C20</td>\n",
       "      <td>7400-7499</td>\n",
       "      <td>GLEN MANOR</td>\n",
       "      <td>Theft</td>\n",
       "      <td>Residence or House</td>\n",
       "      <td>1.0</td>\n",
       "      <td>NaN</td>\n",
       "      <td>29</td>\n",
       "      <td>Sunday</td>\n",
       "      <td>Feb</td>\n",
       "      <td>1920</td>\n",
       "    </tr>\n",
       "    <tr>\n",
       "      <th>1920-04-26</th>\n",
       "      <td>8C30</td>\n",
       "      <td>8300-8399</td>\n",
       "      <td>SUNBURY</td>\n",
       "      <td>Burglary</td>\n",
       "      <td>Residence or House</td>\n",
       "      <td>1.0</td>\n",
       "      <td>NaN</td>\n",
       "      <td>26</td>\n",
       "      <td>Monday</td>\n",
       "      <td>Apr</td>\n",
       "      <td>1920</td>\n",
       "    </tr>\n",
       "    <tr>\n",
       "      <th>1920-09-03</th>\n",
       "      <td>6B50</td>\n",
       "      <td>100-199</td>\n",
       "      <td>ALDINE BENDER</td>\n",
       "      <td>Auto Theft</td>\n",
       "      <td>Residence or House</td>\n",
       "      <td>1.0</td>\n",
       "      <td>NaN</td>\n",
       "      <td>3</td>\n",
       "      <td>Friday</td>\n",
       "      <td>Sep</td>\n",
       "      <td>1920</td>\n",
       "    </tr>\n",
       "    <tr>\n",
       "      <th>1921-09-06</th>\n",
       "      <td>12D70</td>\n",
       "      <td>100-199</td>\n",
       "      <td>EL DORADO</td>\n",
       "      <td>Theft</td>\n",
       "      <td>Commercial Parking Lot or Garage</td>\n",
       "      <td>1.0</td>\n",
       "      <td>NaN</td>\n",
       "      <td>6</td>\n",
       "      <td>Tuesday</td>\n",
       "      <td>Sep</td>\n",
       "      <td>1921</td>\n",
       "    </tr>\n",
       "    <tr>\n",
       "      <th>1926-06-16</th>\n",
       "      <td>1A40</td>\n",
       "      <td>2400-2499</td>\n",
       "      <td>BRENTWOOD</td>\n",
       "      <td>Burglary</td>\n",
       "      <td>Residence or House</td>\n",
       "      <td>1.0</td>\n",
       "      <td>NaN</td>\n",
       "      <td>16</td>\n",
       "      <td>Wednesday</td>\n",
       "      <td>Jun</td>\n",
       "      <td>1926</td>\n",
       "    </tr>\n",
       "    <tr>\n",
       "      <th>1927-04-06</th>\n",
       "      <td>7C10</td>\n",
       "      <td>2200-2299</td>\n",
       "      <td>SEMMES</td>\n",
       "      <td>Burglary</td>\n",
       "      <td>Residence or House</td>\n",
       "      <td>1.0</td>\n",
       "      <td>NaN</td>\n",
       "      <td>6</td>\n",
       "      <td>Wednesday</td>\n",
       "      <td>Apr</td>\n",
       "      <td>1927</td>\n",
       "    </tr>\n",
       "    <tr>\n",
       "      <th>1953-07-20</th>\n",
       "      <td>1A50</td>\n",
       "      <td>3100-3199</td>\n",
       "      <td>KETTERING</td>\n",
       "      <td>Theft</td>\n",
       "      <td>Other, Unknown, or Not Listed</td>\n",
       "      <td>1.0</td>\n",
       "      <td>NaN</td>\n",
       "      <td>20</td>\n",
       "      <td>Monday</td>\n",
       "      <td>Jul</td>\n",
       "      <td>1953</td>\n",
       "    </tr>\n",
       "    <tr>\n",
       "      <th>1959-06-06</th>\n",
       "      <td>18F20</td>\n",
       "      <td>5100-5199</td>\n",
       "      <td>RICHMOND</td>\n",
       "      <td>Theft</td>\n",
       "      <td>DEPARTMENT/DISCOUNT STORE</td>\n",
       "      <td>1.0</td>\n",
       "      <td>NaN</td>\n",
       "      <td>6</td>\n",
       "      <td>Saturday</td>\n",
       "      <td>Jun</td>\n",
       "      <td>1959</td>\n",
       "    </tr>\n",
       "    <tr>\n",
       "      <th>1963-02-02</th>\n",
       "      <td>10H40</td>\n",
       "      <td>3800-3899</td>\n",
       "      <td>MAIN</td>\n",
       "      <td>Theft</td>\n",
       "      <td>REHABILITATION CENTER</td>\n",
       "      <td>1.0</td>\n",
       "      <td>NaN</td>\n",
       "      <td>2</td>\n",
       "      <td>Saturday</td>\n",
       "      <td>Feb</td>\n",
       "      <td>1963</td>\n",
       "    </tr>\n",
       "    <tr>\n",
       "      <th>...</th>\n",
       "      <td>...</td>\n",
       "      <td>...</td>\n",
       "      <td>...</td>\n",
       "      <td>...</td>\n",
       "      <td>...</td>\n",
       "      <td>...</td>\n",
       "      <td>...</td>\n",
       "      <td>...</td>\n",
       "      <td>...</td>\n",
       "      <td>...</td>\n",
       "      <td>...</td>\n",
       "    </tr>\n",
       "    <tr>\n",
       "      <th>2017-12-31</th>\n",
       "      <td>17E10</td>\n",
       "      <td>6200-6299</td>\n",
       "      <td>GULFTON</td>\n",
       "      <td>Theft</td>\n",
       "      <td>Apartment</td>\n",
       "      <td>1.0</td>\n",
       "      <td>NaN</td>\n",
       "      <td>31</td>\n",
       "      <td>Sunday</td>\n",
       "      <td>Dec</td>\n",
       "      <td>2017</td>\n",
       "    </tr>\n",
       "    <tr>\n",
       "      <th>2017-12-31</th>\n",
       "      <td>17E10</td>\n",
       "      <td>7100-7199</td>\n",
       "      <td>SOUTHWEST FWY IB</td>\n",
       "      <td>Burglary</td>\n",
       "      <td>Miscellaneous Business (Non-Specific)</td>\n",
       "      <td>1.0</td>\n",
       "      <td>NaN</td>\n",
       "      <td>31</td>\n",
       "      <td>Sunday</td>\n",
       "      <td>Dec</td>\n",
       "      <td>2017</td>\n",
       "    </tr>\n",
       "    <tr>\n",
       "      <th>2017-12-31</th>\n",
       "      <td>17E10</td>\n",
       "      <td>5400-5499</td>\n",
       "      <td>RICE</td>\n",
       "      <td>Theft</td>\n",
       "      <td>Grocery Store or Supermarket</td>\n",
       "      <td>1.0</td>\n",
       "      <td>NaN</td>\n",
       "      <td>31</td>\n",
       "      <td>Sunday</td>\n",
       "      <td>Dec</td>\n",
       "      <td>2017</td>\n",
       "    </tr>\n",
       "    <tr>\n",
       "      <th>2017-12-31</th>\n",
       "      <td>8C50</td>\n",
       "      <td>9500-9599</td>\n",
       "      <td>N WAYSIDE DR</td>\n",
       "      <td>Aggravated Assault</td>\n",
       "      <td>Apartment</td>\n",
       "      <td>1.0</td>\n",
       "      <td>NaN</td>\n",
       "      <td>31</td>\n",
       "      <td>Sunday</td>\n",
       "      <td>Dec</td>\n",
       "      <td>2017</td>\n",
       "    </tr>\n",
       "    <tr>\n",
       "      <th>2017-12-31</th>\n",
       "      <td>8C50</td>\n",
       "      <td>9000-9099</td>\n",
       "      <td>STERLINGSHIRE</td>\n",
       "      <td>Aggravated Assault</td>\n",
       "      <td>Apartment</td>\n",
       "      <td>1.0</td>\n",
       "      <td>NaN</td>\n",
       "      <td>31</td>\n",
       "      <td>Sunday</td>\n",
       "      <td>Dec</td>\n",
       "      <td>2017</td>\n",
       "    </tr>\n",
       "    <tr>\n",
       "      <th>2017-12-31</th>\n",
       "      <td>17E10</td>\n",
       "      <td>5800-5899</td>\n",
       "      <td>HORWOOD</td>\n",
       "      <td>Auto Theft</td>\n",
       "      <td>Apartment Parking Lot</td>\n",
       "      <td>1.0</td>\n",
       "      <td>NaN</td>\n",
       "      <td>31</td>\n",
       "      <td>Sunday</td>\n",
       "      <td>Dec</td>\n",
       "      <td>2017</td>\n",
       "    </tr>\n",
       "    <tr>\n",
       "      <th>2017-12-31</th>\n",
       "      <td>12D10</td>\n",
       "      <td>10200-10299</td>\n",
       "      <td>WINDMILL LAKES BLVD</td>\n",
       "      <td>Aggravated Assault</td>\n",
       "      <td>Apartment</td>\n",
       "      <td>1.0</td>\n",
       "      <td>NaN</td>\n",
       "      <td>31</td>\n",
       "      <td>Sunday</td>\n",
       "      <td>Dec</td>\n",
       "      <td>2017</td>\n",
       "    </tr>\n",
       "    <tr>\n",
       "      <th>2017-12-31</th>\n",
       "      <td>17E10</td>\n",
       "      <td>6500-6599</td>\n",
       "      <td>HORNWOOD</td>\n",
       "      <td>Aggravated Assault</td>\n",
       "      <td>Hospital</td>\n",
       "      <td>1.0</td>\n",
       "      <td>NaN</td>\n",
       "      <td>31</td>\n",
       "      <td>Sunday</td>\n",
       "      <td>Dec</td>\n",
       "      <td>2017</td>\n",
       "    </tr>\n",
       "    <tr>\n",
       "      <th>2017-12-31</th>\n",
       "      <td>17E10</td>\n",
       "      <td>6200-6299</td>\n",
       "      <td>VALERIE</td>\n",
       "      <td>Theft</td>\n",
       "      <td>Road, Street, or Sidewalk</td>\n",
       "      <td>1.0</td>\n",
       "      <td>NaN</td>\n",
       "      <td>31</td>\n",
       "      <td>Sunday</td>\n",
       "      <td>Dec</td>\n",
       "      <td>2017</td>\n",
       "    </tr>\n",
       "    <tr>\n",
       "      <th>2017-12-31</th>\n",
       "      <td>17E10</td>\n",
       "      <td>6600-6699</td>\n",
       "      <td>DUNLAP ST</td>\n",
       "      <td>Auto Theft</td>\n",
       "      <td>Apartment Parking Lot</td>\n",
       "      <td>1.0</td>\n",
       "      <td>NaN</td>\n",
       "      <td>31</td>\n",
       "      <td>Sunday</td>\n",
       "      <td>Dec</td>\n",
       "      <td>2017</td>\n",
       "    </tr>\n",
       "    <tr>\n",
       "      <th>2017-12-31</th>\n",
       "      <td>16E20</td>\n",
       "      <td>13800-13899</td>\n",
       "      <td>REGG</td>\n",
       "      <td>Theft</td>\n",
       "      <td>Other, Unknown, or Not Listed</td>\n",
       "      <td>1.0</td>\n",
       "      <td>NaN</td>\n",
       "      <td>31</td>\n",
       "      <td>Sunday</td>\n",
       "      <td>Dec</td>\n",
       "      <td>2017</td>\n",
       "    </tr>\n",
       "    <tr>\n",
       "      <th>2017-12-31</th>\n",
       "      <td>5F20</td>\n",
       "      <td>9400-9499</td>\n",
       "      <td>KEMPWOOD</td>\n",
       "      <td>Burglary</td>\n",
       "      <td>Miscellaneous Business (Non-Specific)</td>\n",
       "      <td>1.0</td>\n",
       "      <td>NaN</td>\n",
       "      <td>31</td>\n",
       "      <td>Sunday</td>\n",
       "      <td>Dec</td>\n",
       "      <td>2017</td>\n",
       "    </tr>\n",
       "    <tr>\n",
       "      <th>2017-12-31</th>\n",
       "      <td>12D20</td>\n",
       "      <td>11400-11499</td>\n",
       "      <td>FUQUA ST</td>\n",
       "      <td>Robbery</td>\n",
       "      <td>Road, Street, or Sidewalk</td>\n",
       "      <td>1.0</td>\n",
       "      <td>NaN</td>\n",
       "      <td>31</td>\n",
       "      <td>Sunday</td>\n",
       "      <td>Dec</td>\n",
       "      <td>2017</td>\n",
       "    </tr>\n",
       "    <tr>\n",
       "      <th>2017-12-31</th>\n",
       "      <td>18F50</td>\n",
       "      <td>9600-9699</td>\n",
       "      <td>WESTHEIMER</td>\n",
       "      <td>Theft</td>\n",
       "      <td>Apartment</td>\n",
       "      <td>1.0</td>\n",
       "      <td>NaN</td>\n",
       "      <td>31</td>\n",
       "      <td>Sunday</td>\n",
       "      <td>Dec</td>\n",
       "      <td>2017</td>\n",
       "    </tr>\n",
       "    <tr>\n",
       "      <th>2017-12-31</th>\n",
       "      <td>5F20</td>\n",
       "      <td>8800-8899</td>\n",
       "      <td>LONG POINT</td>\n",
       "      <td>Burglary</td>\n",
       "      <td>Church, Synagogue, or Temple</td>\n",
       "      <td>1.0</td>\n",
       "      <td>NaN</td>\n",
       "      <td>31</td>\n",
       "      <td>Sunday</td>\n",
       "      <td>Dec</td>\n",
       "      <td>2017</td>\n",
       "    </tr>\n",
       "    <tr>\n",
       "      <th>2017-12-31</th>\n",
       "      <td>5F20</td>\n",
       "      <td>1500-1599</td>\n",
       "      <td>BIG BEND DR</td>\n",
       "      <td>Aggravated Assault</td>\n",
       "      <td>Road, Street, or Sidewalk</td>\n",
       "      <td>1.0</td>\n",
       "      <td>NaN</td>\n",
       "      <td>31</td>\n",
       "      <td>Sunday</td>\n",
       "      <td>Dec</td>\n",
       "      <td>2017</td>\n",
       "    </tr>\n",
       "    <tr>\n",
       "      <th>2017-12-31</th>\n",
       "      <td>5F20</td>\n",
       "      <td>8500-8599</td>\n",
       "      <td>PITNER RD</td>\n",
       "      <td>Robbery</td>\n",
       "      <td>Apartment Parking Lot</td>\n",
       "      <td>1.0</td>\n",
       "      <td>NaN</td>\n",
       "      <td>31</td>\n",
       "      <td>Sunday</td>\n",
       "      <td>Dec</td>\n",
       "      <td>2017</td>\n",
       "    </tr>\n",
       "    <tr>\n",
       "      <th>2017-12-31</th>\n",
       "      <td>7C20</td>\n",
       "      <td>3300-3399</td>\n",
       "      <td>SADLER</td>\n",
       "      <td>Aggravated Assault</td>\n",
       "      <td>Residence or House</td>\n",
       "      <td>1.0</td>\n",
       "      <td>NaN</td>\n",
       "      <td>31</td>\n",
       "      <td>Sunday</td>\n",
       "      <td>Dec</td>\n",
       "      <td>2017</td>\n",
       "    </tr>\n",
       "    <tr>\n",
       "      <th>2017-12-31</th>\n",
       "      <td>7C20</td>\n",
       "      <td>3200-3299</td>\n",
       "      <td>JOSEPHINE</td>\n",
       "      <td>Aggravated Assault</td>\n",
       "      <td>Residence or House</td>\n",
       "      <td>1.0</td>\n",
       "      <td>NaN</td>\n",
       "      <td>31</td>\n",
       "      <td>Sunday</td>\n",
       "      <td>Dec</td>\n",
       "      <td>2017</td>\n",
       "    </tr>\n",
       "    <tr>\n",
       "      <th>2017-12-31</th>\n",
       "      <td>12D20</td>\n",
       "      <td>200-299</td>\n",
       "      <td>66TH ST APT 5204</td>\n",
       "      <td>Auto Theft</td>\n",
       "      <td>Apartment Parking Lot</td>\n",
       "      <td>1.0</td>\n",
       "      <td>NaN</td>\n",
       "      <td>31</td>\n",
       "      <td>Sunday</td>\n",
       "      <td>Dec</td>\n",
       "      <td>2017</td>\n",
       "    </tr>\n",
       "    <tr>\n",
       "      <th>2017-12-31</th>\n",
       "      <td>16E20</td>\n",
       "      <td>5600-5699</td>\n",
       "      <td>DRAKESTONE</td>\n",
       "      <td>Theft</td>\n",
       "      <td>Other Parking Lot</td>\n",
       "      <td>1.0</td>\n",
       "      <td>NaN</td>\n",
       "      <td>31</td>\n",
       "      <td>Sunday</td>\n",
       "      <td>Dec</td>\n",
       "      <td>2017</td>\n",
       "    </tr>\n",
       "    <tr>\n",
       "      <th>2017-12-31</th>\n",
       "      <td>21I50</td>\n",
       "      <td>3100-3199</td>\n",
       "      <td>N TERMINAL RD</td>\n",
       "      <td>Theft</td>\n",
       "      <td>Airport Terminal</td>\n",
       "      <td>1.0</td>\n",
       "      <td>NaN</td>\n",
       "      <td>31</td>\n",
       "      <td>Sunday</td>\n",
       "      <td>Dec</td>\n",
       "      <td>2017</td>\n",
       "    </tr>\n",
       "    <tr>\n",
       "      <th>2017-12-31</th>\n",
       "      <td>7C20</td>\n",
       "      <td>6900-6999</td>\n",
       "      <td>JENSEN</td>\n",
       "      <td>Auto Theft</td>\n",
       "      <td>Residence or House</td>\n",
       "      <td>1.0</td>\n",
       "      <td>NaN</td>\n",
       "      <td>31</td>\n",
       "      <td>Sunday</td>\n",
       "      <td>Dec</td>\n",
       "      <td>2017</td>\n",
       "    </tr>\n",
       "    <tr>\n",
       "      <th>2017-12-31</th>\n",
       "      <td>18F30</td>\n",
       "      <td>1900-1999</td>\n",
       "      <td>PARK LODGE</td>\n",
       "      <td>Theft</td>\n",
       "      <td>Road, Street, or Sidewalk</td>\n",
       "      <td>1.0</td>\n",
       "      <td>NaN</td>\n",
       "      <td>31</td>\n",
       "      <td>Sunday</td>\n",
       "      <td>Dec</td>\n",
       "      <td>2017</td>\n",
       "    </tr>\n",
       "    <tr>\n",
       "      <th>2019-04-19</th>\n",
       "      <td>21I50</td>\n",
       "      <td>17300-17399</td>\n",
       "      <td>PINE CUT</td>\n",
       "      <td>Auto Theft</td>\n",
       "      <td>OTHER PARKING LOT</td>\n",
       "      <td>1.0</td>\n",
       "      <td>NaN</td>\n",
       "      <td>19</td>\n",
       "      <td>Friday</td>\n",
       "      <td>Apr</td>\n",
       "      <td>2019</td>\n",
       "    </tr>\n",
       "    <tr>\n",
       "      <th>2019-12-25</th>\n",
       "      <td>10H20</td>\n",
       "      <td>4600-4699</td>\n",
       "      <td>BELL</td>\n",
       "      <td>Auto Theft</td>\n",
       "      <td>DRIVEWAY</td>\n",
       "      <td>1.0</td>\n",
       "      <td>NaN</td>\n",
       "      <td>25</td>\n",
       "      <td>Wednesday</td>\n",
       "      <td>Dec</td>\n",
       "      <td>2019</td>\n",
       "    </tr>\n",
       "    <tr>\n",
       "      <th>2020-10-11</th>\n",
       "      <td>16E40</td>\n",
       "      <td>13900-13999</td>\n",
       "      <td>FONDREN</td>\n",
       "      <td>Theft</td>\n",
       "      <td>SERVICE/GAS STATION</td>\n",
       "      <td>1.0</td>\n",
       "      <td>NaN</td>\n",
       "      <td>11</td>\n",
       "      <td>Sunday</td>\n",
       "      <td>Oct</td>\n",
       "      <td>2020</td>\n",
       "    </tr>\n",
       "    <tr>\n",
       "      <th>2021-01-03</th>\n",
       "      <td>15E40</td>\n",
       "      <td>2100-2199</td>\n",
       "      <td>EL PASEO</td>\n",
       "      <td>Theft</td>\n",
       "      <td>APARTMENT</td>\n",
       "      <td>1.0</td>\n",
       "      <td>NaN</td>\n",
       "      <td>3</td>\n",
       "      <td>Sunday</td>\n",
       "      <td>Jan</td>\n",
       "      <td>2021</td>\n",
       "    </tr>\n",
       "    <tr>\n",
       "      <th>2029-05-26</th>\n",
       "      <td>2A50</td>\n",
       "      <td>5400-5499</td>\n",
       "      <td>PETTY</td>\n",
       "      <td>Theft</td>\n",
       "      <td>OTHER/UNKNOWN</td>\n",
       "      <td>1.0</td>\n",
       "      <td>NaN</td>\n",
       "      <td>26</td>\n",
       "      <td>Saturday</td>\n",
       "      <td>May</td>\n",
       "      <td>2029</td>\n",
       "    </tr>\n",
       "    <tr>\n",
       "      <th>2033-04-21</th>\n",
       "      <td>2A60</td>\n",
       "      <td>900-999</td>\n",
       "      <td>T C JESTER</td>\n",
       "      <td>Theft</td>\n",
       "      <td>RESIDENCE/HOUSE</td>\n",
       "      <td>1.0</td>\n",
       "      <td>NaN</td>\n",
       "      <td>21</td>\n",
       "      <td>Thursday</td>\n",
       "      <td>Apr</td>\n",
       "      <td>2033</td>\n",
       "    </tr>\n",
       "  </tbody>\n",
       "</table>\n",
       "<p>940919 rows × 11 columns</p>\n",
       "</div>"
      ],
      "text/plain": [
       "             Beat   BlockRange           StreetName         OffenseType  \\\n",
       "Date                                                                      \n",
       "1915-01-05   3B10    3200-3299        MANGUM RD 180               Theft   \n",
       "1915-01-14   5F10    7000-7099             WESTVIEW          Auto Theft   \n",
       "1915-04-24   1A20    3100-3199                SMITH            Burglary   \n",
       "1915-07-30  11H10    5600-5699               TRUETT                Rape   \n",
       "1915-09-03  19G20  11700-11799             BEECHNUT            Burglary   \n",
       "1915-09-29   9C40    1000-1099                MAXEY               Theft   \n",
       "1915-12-15   9C30  10200-10299                 LOOP            Burglary   \n",
       "1915-12-25   6B30    6400-6499              ANTOINE               Theft   \n",
       "1916-05-23  10H70          UNK         LIBERTY ROAD  Aggravated Assault   \n",
       "1916-06-24   4F20    9800-9899              KNOBOAK               Theft   \n",
       "1916-08-06   6B30    5800-5899      HOUSTON ROSSLYN            Burglary   \n",
       "1916-10-22  20G30    2900-2999                HAYES               Theft   \n",
       "1916-10-22  19G40    8400-8499                 COOK            Burglary   \n",
       "1916-10-22  18F20    5300-5399              ALABAMA               Theft   \n",
       "1917-01-20  20G20    2100-2199              GESSNER               Theft   \n",
       "1917-02-20  17E20    9100-9199              FONDREN          Auto Theft   \n",
       "1917-02-20  10H70    7500-7599              ARDMORE               Theft   \n",
       "1917-04-16  18F20    1100-1199          UPTOWN PARK                Rape   \n",
       "1917-12-18   9C20      500-599             PORTWALL               Theft   \n",
       "1918-11-18  19G10    9400-9499          SAM HOUSTON               Theft   \n",
       "1919-09-28  14D20    8600-8699               AMADWE            Burglary   \n",
       "1920-02-29   8C20    7400-7499           GLEN MANOR               Theft   \n",
       "1920-04-26   8C30    8300-8399              SUNBURY            Burglary   \n",
       "1920-09-03   6B50      100-199        ALDINE BENDER          Auto Theft   \n",
       "1921-09-06  12D70      100-199            EL DORADO               Theft   \n",
       "1926-06-16   1A40    2400-2499            BRENTWOOD            Burglary   \n",
       "1927-04-06   7C10    2200-2299               SEMMES            Burglary   \n",
       "1953-07-20   1A50    3100-3199            KETTERING               Theft   \n",
       "1959-06-06  18F20    5100-5199             RICHMOND               Theft   \n",
       "1963-02-02  10H40    3800-3899                 MAIN               Theft   \n",
       "...           ...          ...                  ...                 ...   \n",
       "2017-12-31  17E10    6200-6299              GULFTON               Theft   \n",
       "2017-12-31  17E10    7100-7199     SOUTHWEST FWY IB            Burglary   \n",
       "2017-12-31  17E10    5400-5499                 RICE               Theft   \n",
       "2017-12-31   8C50    9500-9599         N WAYSIDE DR  Aggravated Assault   \n",
       "2017-12-31   8C50    9000-9099        STERLINGSHIRE  Aggravated Assault   \n",
       "2017-12-31  17E10    5800-5899              HORWOOD          Auto Theft   \n",
       "2017-12-31  12D10  10200-10299  WINDMILL LAKES BLVD  Aggravated Assault   \n",
       "2017-12-31  17E10    6500-6599             HORNWOOD  Aggravated Assault   \n",
       "2017-12-31  17E10    6200-6299              VALERIE               Theft   \n",
       "2017-12-31  17E10    6600-6699            DUNLAP ST          Auto Theft   \n",
       "2017-12-31  16E20  13800-13899                 REGG               Theft   \n",
       "2017-12-31   5F20    9400-9499             KEMPWOOD            Burglary   \n",
       "2017-12-31  12D20  11400-11499             FUQUA ST             Robbery   \n",
       "2017-12-31  18F50    9600-9699           WESTHEIMER               Theft   \n",
       "2017-12-31   5F20    8800-8899           LONG POINT            Burglary   \n",
       "2017-12-31   5F20    1500-1599          BIG BEND DR  Aggravated Assault   \n",
       "2017-12-31   5F20    8500-8599            PITNER RD             Robbery   \n",
       "2017-12-31   7C20    3300-3399               SADLER  Aggravated Assault   \n",
       "2017-12-31   7C20    3200-3299            JOSEPHINE  Aggravated Assault   \n",
       "2017-12-31  12D20      200-299     66TH ST APT 5204          Auto Theft   \n",
       "2017-12-31  16E20    5600-5699           DRAKESTONE               Theft   \n",
       "2017-12-31  21I50    3100-3199        N TERMINAL RD               Theft   \n",
       "2017-12-31   7C20    6900-6999               JENSEN          Auto Theft   \n",
       "2017-12-31  18F30    1900-1999           PARK LODGE               Theft   \n",
       "2019-04-19  21I50  17300-17399             PINE CUT          Auto Theft   \n",
       "2019-12-25  10H20    4600-4699                 BELL          Auto Theft   \n",
       "2020-10-11  16E40  13900-13999              FONDREN               Theft   \n",
       "2021-01-03  15E40    2100-2199             EL PASEO               Theft   \n",
       "2029-05-26   2A50    5400-5499                PETTY               Theft   \n",
       "2033-04-21   2A60      900-999           T C JESTER               Theft   \n",
       "\n",
       "                                               Premise  NumOffenses  Hour  \\\n",
       "Date                                                                        \n",
       "1915-01-05                           Other Parking Lot          1.0   NaN   \n",
       "1915-01-14                       Apartment Parking Lot          1.0   NaN   \n",
       "1915-04-24                             Office Building          1.0   NaN   \n",
       "1915-07-30               Other, Unknown, or Not Listed          1.0   NaN   \n",
       "1915-09-03                     Rental Storage Facility          1.0   NaN   \n",
       "1915-09-29                  Hotel or Motel Parking Lot          1.0   NaN   \n",
       "1915-12-15                         Commercial Building          1.0   NaN   \n",
       "1915-12-25                                   Apartment          1.0   NaN   \n",
       "1916-05-23                          Residence or House          1.0   NaN   \n",
       "1916-06-24                   Road, Street, or Sidewalk          1.0   NaN   \n",
       "1916-08-06                     Rental Storage Facility          1.0   NaN   \n",
       "1916-10-22                                   Apartment          1.0   NaN   \n",
       "1916-10-22  Vacant Storage Fac (Barn,Garage,Warehouse)          1.0   NaN   \n",
       "1916-10-22            Commercial Parking Lot or Garage          1.0   NaN   \n",
       "1917-01-20                       Apartment Parking Lot          1.0   NaN   \n",
       "1917-02-20                   Road, Street, or Sidewalk          1.0   NaN   \n",
       "1917-02-20                           Other Parking Lot          1.0   NaN   \n",
       "1917-04-16                           Bar or Night Club          1.0   NaN   \n",
       "1917-12-18       Miscellaneous Business (Non-Specific)          1.0   NaN   \n",
       "1918-11-18                Department or Discount Store          1.0   NaN   \n",
       "1919-09-28                          Residence or House          1.0   NaN   \n",
       "1920-02-29                          Residence or House          1.0   NaN   \n",
       "1920-04-26                          Residence or House          1.0   NaN   \n",
       "1920-09-03                          Residence or House          1.0   NaN   \n",
       "1921-09-06            Commercial Parking Lot or Garage          1.0   NaN   \n",
       "1926-06-16                          Residence or House          1.0   NaN   \n",
       "1927-04-06                          Residence or House          1.0   NaN   \n",
       "1953-07-20               Other, Unknown, or Not Listed          1.0   NaN   \n",
       "1959-06-06                   DEPARTMENT/DISCOUNT STORE          1.0   NaN   \n",
       "1963-02-02                       REHABILITATION CENTER          1.0   NaN   \n",
       "...                                                ...          ...   ...   \n",
       "2017-12-31                                   Apartment          1.0   NaN   \n",
       "2017-12-31       Miscellaneous Business (Non-Specific)          1.0   NaN   \n",
       "2017-12-31                Grocery Store or Supermarket          1.0   NaN   \n",
       "2017-12-31                                   Apartment          1.0   NaN   \n",
       "2017-12-31                                   Apartment          1.0   NaN   \n",
       "2017-12-31                       Apartment Parking Lot          1.0   NaN   \n",
       "2017-12-31                                   Apartment          1.0   NaN   \n",
       "2017-12-31                                    Hospital          1.0   NaN   \n",
       "2017-12-31                   Road, Street, or Sidewalk          1.0   NaN   \n",
       "2017-12-31                       Apartment Parking Lot          1.0   NaN   \n",
       "2017-12-31               Other, Unknown, or Not Listed          1.0   NaN   \n",
       "2017-12-31       Miscellaneous Business (Non-Specific)          1.0   NaN   \n",
       "2017-12-31                   Road, Street, or Sidewalk          1.0   NaN   \n",
       "2017-12-31                                   Apartment          1.0   NaN   \n",
       "2017-12-31                Church, Synagogue, or Temple          1.0   NaN   \n",
       "2017-12-31                   Road, Street, or Sidewalk          1.0   NaN   \n",
       "2017-12-31                       Apartment Parking Lot          1.0   NaN   \n",
       "2017-12-31                          Residence or House          1.0   NaN   \n",
       "2017-12-31                          Residence or House          1.0   NaN   \n",
       "2017-12-31                       Apartment Parking Lot          1.0   NaN   \n",
       "2017-12-31                           Other Parking Lot          1.0   NaN   \n",
       "2017-12-31                            Airport Terminal          1.0   NaN   \n",
       "2017-12-31                          Residence or House          1.0   NaN   \n",
       "2017-12-31                   Road, Street, or Sidewalk          1.0   NaN   \n",
       "2019-04-19                           OTHER PARKING LOT          1.0   NaN   \n",
       "2019-12-25                                    DRIVEWAY          1.0   NaN   \n",
       "2020-10-11                         SERVICE/GAS STATION          1.0   NaN   \n",
       "2021-01-03                                   APARTMENT          1.0   NaN   \n",
       "2029-05-26                               OTHER/UNKNOWN          1.0   NaN   \n",
       "2033-04-21                             RESIDENCE/HOUSE          1.0   NaN   \n",
       "\n",
       "            day    weekday month  year  \n",
       "Date                                    \n",
       "1915-01-05    5    Tuesday   Jan  1915  \n",
       "1915-01-14   14   Thursday   Jan  1915  \n",
       "1915-04-24   24   Saturday   Apr  1915  \n",
       "1915-07-30   30     Friday   Jul  1915  \n",
       "1915-09-03    3     Friday   Sep  1915  \n",
       "1915-09-29   29  Wednesday   Sep  1915  \n",
       "1915-12-15   15  Wednesday   Dec  1915  \n",
       "1915-12-25   25   Saturday   Dec  1915  \n",
       "1916-05-23   23    Tuesday   May  1916  \n",
       "1916-06-24   24   Saturday   Jun  1916  \n",
       "1916-08-06    6     Sunday   Aug  1916  \n",
       "1916-10-22   22     Sunday   Oct  1916  \n",
       "1916-10-22   22     Sunday   Oct  1916  \n",
       "1916-10-22   22     Sunday   Oct  1916  \n",
       "1917-01-20   20   Saturday   Jan  1917  \n",
       "1917-02-20   20    Tuesday   Feb  1917  \n",
       "1917-02-20   20    Tuesday   Feb  1917  \n",
       "1917-04-16   16     Monday   Apr  1917  \n",
       "1917-12-18   18    Tuesday   Dec  1917  \n",
       "1918-11-18   18     Monday   Nov  1918  \n",
       "1919-09-28   28     Sunday   Sep  1919  \n",
       "1920-02-29   29     Sunday   Feb  1920  \n",
       "1920-04-26   26     Monday   Apr  1920  \n",
       "1920-09-03    3     Friday   Sep  1920  \n",
       "1921-09-06    6    Tuesday   Sep  1921  \n",
       "1926-06-16   16  Wednesday   Jun  1926  \n",
       "1927-04-06    6  Wednesday   Apr  1927  \n",
       "1953-07-20   20     Monday   Jul  1953  \n",
       "1959-06-06    6   Saturday   Jun  1959  \n",
       "1963-02-02    2   Saturday   Feb  1963  \n",
       "...         ...        ...   ...   ...  \n",
       "2017-12-31   31     Sunday   Dec  2017  \n",
       "2017-12-31   31     Sunday   Dec  2017  \n",
       "2017-12-31   31     Sunday   Dec  2017  \n",
       "2017-12-31   31     Sunday   Dec  2017  \n",
       "2017-12-31   31     Sunday   Dec  2017  \n",
       "2017-12-31   31     Sunday   Dec  2017  \n",
       "2017-12-31   31     Sunday   Dec  2017  \n",
       "2017-12-31   31     Sunday   Dec  2017  \n",
       "2017-12-31   31     Sunday   Dec  2017  \n",
       "2017-12-31   31     Sunday   Dec  2017  \n",
       "2017-12-31   31     Sunday   Dec  2017  \n",
       "2017-12-31   31     Sunday   Dec  2017  \n",
       "2017-12-31   31     Sunday   Dec  2017  \n",
       "2017-12-31   31     Sunday   Dec  2017  \n",
       "2017-12-31   31     Sunday   Dec  2017  \n",
       "2017-12-31   31     Sunday   Dec  2017  \n",
       "2017-12-31   31     Sunday   Dec  2017  \n",
       "2017-12-31   31     Sunday   Dec  2017  \n",
       "2017-12-31   31     Sunday   Dec  2017  \n",
       "2017-12-31   31     Sunday   Dec  2017  \n",
       "2017-12-31   31     Sunday   Dec  2017  \n",
       "2017-12-31   31     Sunday   Dec  2017  \n",
       "2017-12-31   31     Sunday   Dec  2017  \n",
       "2017-12-31   31     Sunday   Dec  2017  \n",
       "2019-04-19   19     Friday   Apr  2019  \n",
       "2019-12-25   25  Wednesday   Dec  2019  \n",
       "2020-10-11   11     Sunday   Oct  2020  \n",
       "2021-01-03    3     Sunday   Jan  2021  \n",
       "2029-05-26   26   Saturday   May  2029  \n",
       "2033-04-21   21   Thursday   Apr  2033  \n",
       "\n",
       "[940919 rows x 11 columns]"
      ]
     },
     "execution_count": 113,
     "metadata": {},
     "output_type": "execute_result"
    }
   ],
   "source": [
    "df[df.isnull().any(axis=1)]"
   ]
  },
  {
   "cell_type": "markdown",
   "metadata": {},
   "source": [
    "# Save Final Clean Data"
   ]
  },
  {
   "cell_type": "code",
   "execution_count": 116,
   "metadata": {},
   "outputs": [],
   "source": [
    "df.to_csv('crime_final_clean10_17.csv')"
   ]
  },
  {
   "cell_type": "code",
   "execution_count": null,
   "metadata": {},
   "outputs": [],
   "source": []
  },
  {
   "cell_type": "code",
   "execution_count": null,
   "metadata": {},
   "outputs": [],
   "source": []
  },
  {
   "cell_type": "code",
   "execution_count": null,
   "metadata": {},
   "outputs": [],
   "source": []
  },
  {
   "cell_type": "code",
   "execution_count": 117,
   "metadata": {},
   "outputs": [
    {
     "name": "stdout",
     "output_type": "stream",
     "text": [
      "\u001b[0m\u001b[01;32malternate_cleaning_way2010.ipynb\u001b[0m*   \u001b[01;32mGoogleMaps_Display_Location.ipynb\u001b[0m*\r\n",
      "\u001b[01;32malternate_cleaning_way2010N.ipynb\u001b[0m*  \u001b[01;32mGoogleMaps_Geocoding_Example.ipynb\u001b[0m*\r\n",
      "\u001b[01;32malternate_cleaning_way2011.ipynb\u001b[0m*   \u001b[01;32mHouston_Crime1017.ipynb\u001b[0m*\r\n",
      "\u001b[01;32malternate_cleaning_way2011N.ipynb\u001b[0m*  \u001b[01;32mHouston_Crime_2008_Clean.ipynb\u001b[0m*\r\n",
      "\u001b[01;32malternate_cleaning_way2012.ipynb\u001b[0m*   \u001b[01;32mHouston_Crime_2009_Clean.ipynb\u001b[0m*\r\n",
      "\u001b[01;32malternate_cleaning_way2012N.ipynb\u001b[0m*  \u001b[01;32mHouston_Crime_2010_Clean.ipynb\u001b[0m*\r\n",
      "\u001b[01;32malternate_cleaning_way2013.ipynb\u001b[0m*   \u001b[01;32mHouston_Crime_2011_Clean.ipynb\u001b[0m*\r\n",
      "\u001b[01;32malternate_cleaning_way2013N.ipynb\u001b[0m*  \u001b[01;32mHouston_Crime_2012_Clean.ipynb\u001b[0m*\r\n",
      "\u001b[01;32malternate_cleaning_way2014.ipynb\u001b[0m*   \u001b[01;32mHouston_Crime_2013_Clean.ipynb\u001b[0m*\r\n",
      "\u001b[01;32malternate_cleaning_way2015N.ipynb\u001b[0m*  \u001b[01;32mHouston_Crime_2014_Clean.ipynb\u001b[0m*\r\n",
      "\u001b[01;32malternate_cleaning_way2016N.ipynb\u001b[0m*  \u001b[01;32mHouston_Crime_2015_Clean.ipynb\u001b[0m*\r\n",
      "\u001b[01;32malternate_cleaning_way2017N.ipynb\u001b[0m*  \u001b[01;32mHouston_Crime_2016_Clean.ipynb\u001b[0m*\r\n",
      "\u001b[01;32mCombine_years.ipynb\u001b[0m*                \u001b[01;32mHouston_Crime_2017_Clean.ipynb\u001b[0m*\r\n",
      "\u001b[01;36;40mcrime_data_clean\u001b[0m/                   \u001b[01;36;40mimg\u001b[0m/\r\n",
      "\u001b[01;36;40mcrime_data_raw\u001b[0m/                     \u001b[01;32msevenYearsOfCrime.ipynb\u001b[0m*\r\n",
      "\u001b[01;32mcrime_final_clean10_17.csv\u001b[0m*         \u001b[01;36;40mUntitled Folder\u001b[0m/\r\n"
     ]
    }
   ],
   "source": [
    "ls"
   ]
  },
  {
   "cell_type": "code",
   "execution_count": null,
   "metadata": {},
   "outputs": [],
   "source": []
  }
 ],
 "metadata": {
  "kernelspec": {
   "display_name": "Python 3",
   "language": "python",
   "name": "python3"
  },
  "language_info": {
   "codemirror_mode": {
    "name": "ipython",
    "version": 3
   },
   "file_extension": ".py",
   "mimetype": "text/x-python",
   "name": "python",
   "nbconvert_exporter": "python",
   "pygments_lexer": "ipython3",
   "version": "3.6.4"
  }
 },
 "nbformat": 4,
 "nbformat_minor": 2
}
