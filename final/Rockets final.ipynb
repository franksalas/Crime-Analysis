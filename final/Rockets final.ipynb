{
 "cells": [
  {
   "cell_type": "code",
   "execution_count": 2,
   "metadata": {},
   "outputs": [],
   "source": [
    "%matplotlib inline\n",
    "import matplotlib.pyplot as plt\n",
    "import seaborn as sns; sns.set()\n",
    "import numpy as np\n",
    "import pandas as pd\n",
    "from collections import Counter\n",
    "from sklearn import preprocessing\n",
    "import scipy\n",
    "import statsmodels.api as sm\n",
    "from statsmodels.formula.api import ols\n",
    "sns.set_context(\"talk\")"
   ]
  },
  {
   "cell_type": "code",
   "execution_count": null,
   "metadata": {},
   "outputs": [],
   "source": [
    "ls data"
   ]
  },
  {
   "cell_type": "code",
   "execution_count": 3,
   "metadata": {},
   "outputs": [
    {
     "data": {
      "text/html": [
       "<div>\n",
       "<style scoped>\n",
       "    .dataframe tbody tr th:only-of-type {\n",
       "        vertical-align: middle;\n",
       "    }\n",
       "\n",
       "    .dataframe tbody tr th {\n",
       "        vertical-align: top;\n",
       "    }\n",
       "\n",
       "    .dataframe thead th {\n",
       "        text-align: right;\n",
       "    }\n",
       "</style>\n",
       "<table border=\"1\" class=\"dataframe\">\n",
       "  <thead>\n",
       "    <tr style=\"text-align: right;\">\n",
       "      <th></th>\n",
       "      <th>crime_total</th>\n",
       "      <th>weekday</th>\n",
       "      <th>month</th>\n",
       "      <th>year</th>\n",
       "      <th>dist_stadium_meadian</th>\n",
       "      <th>season</th>\n",
       "      <th>part_day_mode</th>\n",
       "      <th>hour_mode</th>\n",
       "      <th>premise_mode</th>\n",
       "      <th>offense_mode</th>\n",
       "      <th>game</th>\n",
       "    </tr>\n",
       "  </thead>\n",
       "  <tbody>\n",
       "    <tr>\n",
       "      <th>2</th>\n",
       "      <td>4</td>\n",
       "      <td>Sunday</td>\n",
       "      <td>Jan</td>\n",
       "      <td>2010</td>\n",
       "      <td>0.714016</td>\n",
       "      <td>Winter</td>\n",
       "      <td>Night</td>\n",
       "      <td>0</td>\n",
       "      <td>apartment prk</td>\n",
       "      <td>Auto Theft</td>\n",
       "      <td>Won Game</td>\n",
       "    </tr>\n",
       "    <tr>\n",
       "      <th>244</th>\n",
       "      <td>7</td>\n",
       "      <td>Sunday</td>\n",
       "      <td>Sep</td>\n",
       "      <td>2010</td>\n",
       "      <td>0.419502</td>\n",
       "      <td>Autumn</td>\n",
       "      <td>Morning</td>\n",
       "      <td>6</td>\n",
       "      <td>hotel prk</td>\n",
       "      <td>Theft</td>\n",
       "      <td>Won Game</td>\n",
       "    </tr>\n",
       "    <tr>\n",
       "      <th>257</th>\n",
       "      <td>18</td>\n",
       "      <td>Sunday</td>\n",
       "      <td>Sep</td>\n",
       "      <td>2010</td>\n",
       "      <td>0.405534</td>\n",
       "      <td>Autumn</td>\n",
       "      <td>Afternoon</td>\n",
       "      <td>0</td>\n",
       "      <td>prk</td>\n",
       "      <td>Theft</td>\n",
       "      <td>Lost Game</td>\n",
       "    </tr>\n",
       "    <tr>\n",
       "      <th>271</th>\n",
       "      <td>7</td>\n",
       "      <td>Sunday</td>\n",
       "      <td>Oct</td>\n",
       "      <td>2010</td>\n",
       "      <td>0.577510</td>\n",
       "      <td>Autumn</td>\n",
       "      <td>Evening</td>\n",
       "      <td>20</td>\n",
       "      <td>apartment</td>\n",
       "      <td>Theft</td>\n",
       "      <td>Lost Game</td>\n",
       "    </tr>\n",
       "    <tr>\n",
       "      <th>278</th>\n",
       "      <td>9</td>\n",
       "      <td>Sunday</td>\n",
       "      <td>Oct</td>\n",
       "      <td>2010</td>\n",
       "      <td>0.477608</td>\n",
       "      <td>Autumn</td>\n",
       "      <td>Afternoon</td>\n",
       "      <td>13</td>\n",
       "      <td>apartment prk</td>\n",
       "      <td>Theft</td>\n",
       "      <td>Won Game</td>\n",
       "    </tr>\n",
       "  </tbody>\n",
       "</table>\n",
       "</div>"
      ],
      "text/plain": [
       "     crime_total weekday month  year  dist_stadium_meadian  season  \\\n",
       "2              4  Sunday   Jan  2010              0.714016  Winter   \n",
       "244            7  Sunday   Sep  2010              0.419502  Autumn   \n",
       "257           18  Sunday   Sep  2010              0.405534  Autumn   \n",
       "271            7  Sunday   Oct  2010              0.577510  Autumn   \n",
       "278            9  Sunday   Oct  2010              0.477608  Autumn   \n",
       "\n",
       "    part_day_mode  hour_mode   premise_mode offense_mode       game  \n",
       "2           Night          0  apartment prk   Auto Theft   Won Game  \n",
       "244       Morning          6      hotel prk        Theft   Won Game  \n",
       "257     Afternoon          0            prk        Theft  Lost Game  \n",
       "271       Evening         20      apartment        Theft  Lost Game  \n",
       "278     Afternoon         13  apartment prk        Theft   Won Game  "
      ]
     },
     "execution_count": 3,
     "metadata": {},
     "output_type": "execute_result"
    }
   ],
   "source": [
    "path = 'data/crime_texans_finalB.csv'\n",
    "df = pd.read_csv(path)\n",
    "#df.drop(['date','dist_stadium_meadian','premise_mode'],axis=1,inplace=True)\n",
    "df.drop(['date'],axis=1,inplace=True)\n",
    "\n",
    "nogame = df.game =='No Game'\n",
    "df = df[~nogame]\n",
    "df.head()"
   ]
  },
  {
   "cell_type": "code",
   "execution_count": null,
   "metadata": {},
   "outputs": [],
   "source": [
    "#df.drop(['month','offense_mode'],axis=1,inplace=True) # 27\n",
    "df.drop(['month','offense_mode','premise_mode'],axis=1,inplace=True) # 19\n",
    "#df.drop(['month','offense_mode','season'],axis=1,inplace=True) # 26\n",
    "#df.drop(['offense_mode','season',],axis=1,inplace=True) # 32\n",
    "#df.drop(['offense_mode','dist_stadium_meadian'],axis=1,inplace=True) # 32\n",
    "# df.drop(['date','weekday','dist_stadium_meadian'],axis=1,inplace=True) # 25\n",
    "# df.drop(['date','weekday','dist_stadium_meadian','premise_mode'],axis=1,inplace=True) # 19\n",
    "# df.drop(['date','offense_mode','dist_stadium_meadian','premise_mode'],axis=1,inplace=True) # 25\n",
    "#df.drop(['date','offense_mode','premise_mode','season','dist_stadium_meadian'],axis=1,inplace=True) # 25\n",
    "\n",
    "#df.drop(['offense_mode','season','premise_mode'],axis=1,inplace=True) # 32\n",
    "#df.drop(['premise_mode','offense_mode'],axis=1,inplace=True)\n",
    "#df.drop(['weekday','dist_stadium_meadian','premise_mode'],axis=1,inplace=True) # 19\n",
    "df.head()"
   ]
  },
  {
   "cell_type": "code",
   "execution_count": null,
   "metadata": {},
   "outputs": [],
   "source": [
    "# df = df[['crime_total','season','weekday','offense_mode','part_day_mode','premise_mode']]  #208\n",
    "\n",
    "#df = df[['crime_total','weekday','offense_mode','part_day_mode','premise_mode']]  #207\n",
    "#df = df[['crime_total','offense_mode','part_day_mode','premise_mode']]  #17\n",
    "\n",
    "#df = df[['game','crime_total','weekday','offense_mode','part_day_mode','premise_mode']]  #21\n"
   ]
  },
  {
   "cell_type": "code",
   "execution_count": null,
   "metadata": {},
   "outputs": [],
   "source": [
    "df.game.unique()"
   ]
  },
  {
   "cell_type": "code",
   "execution_count": null,
   "metadata": {},
   "outputs": [],
   "source": []
  },
  {
   "cell_type": "code",
   "execution_count": 5,
   "metadata": {
    "scrolled": true
   },
   "outputs": [
    {
     "data": {
      "text/html": [
       "<div>\n",
       "<style scoped>\n",
       "    .dataframe tbody tr th:only-of-type {\n",
       "        vertical-align: middle;\n",
       "    }\n",
       "\n",
       "    .dataframe tbody tr th {\n",
       "        vertical-align: top;\n",
       "    }\n",
       "\n",
       "    .dataframe thead th {\n",
       "        text-align: right;\n",
       "    }\n",
       "</style>\n",
       "<table border=\"1\" class=\"dataframe\">\n",
       "  <thead>\n",
       "    <tr style=\"text-align: right;\">\n",
       "      <th></th>\n",
       "      <th>crime_total</th>\n",
       "      <th>year</th>\n",
       "      <th>dist_stadium_meadian</th>\n",
       "      <th>hour_mode</th>\n",
       "      <th>weekday_Monday</th>\n",
       "      <th>weekday_Saturday</th>\n",
       "      <th>weekday_Sunday</th>\n",
       "      <th>weekday_Tuesday</th>\n",
       "      <th>month_Jan</th>\n",
       "      <th>month_Nov</th>\n",
       "      <th>...</th>\n",
       "      <th>premise_mode_stadium</th>\n",
       "      <th>premise_mode_store</th>\n",
       "      <th>premise_mode_store_prk</th>\n",
       "      <th>premise_mode_street</th>\n",
       "      <th>premise_mode_unk</th>\n",
       "      <th>offense_mode_Auto_Theft</th>\n",
       "      <th>offense_mode_Burglary</th>\n",
       "      <th>offense_mode_Robbery</th>\n",
       "      <th>offense_mode_Theft</th>\n",
       "      <th>game_Won_Game</th>\n",
       "    </tr>\n",
       "  </thead>\n",
       "  <tbody>\n",
       "    <tr>\n",
       "      <th>2</th>\n",
       "      <td>4</td>\n",
       "      <td>2010</td>\n",
       "      <td>0.714016</td>\n",
       "      <td>0</td>\n",
       "      <td>0</td>\n",
       "      <td>0</td>\n",
       "      <td>1</td>\n",
       "      <td>0</td>\n",
       "      <td>1</td>\n",
       "      <td>0</td>\n",
       "      <td>...</td>\n",
       "      <td>0</td>\n",
       "      <td>0</td>\n",
       "      <td>0</td>\n",
       "      <td>0</td>\n",
       "      <td>0</td>\n",
       "      <td>1</td>\n",
       "      <td>0</td>\n",
       "      <td>0</td>\n",
       "      <td>0</td>\n",
       "      <td>1</td>\n",
       "    </tr>\n",
       "    <tr>\n",
       "      <th>244</th>\n",
       "      <td>7</td>\n",
       "      <td>2010</td>\n",
       "      <td>0.419502</td>\n",
       "      <td>6</td>\n",
       "      <td>0</td>\n",
       "      <td>0</td>\n",
       "      <td>1</td>\n",
       "      <td>0</td>\n",
       "      <td>0</td>\n",
       "      <td>0</td>\n",
       "      <td>...</td>\n",
       "      <td>0</td>\n",
       "      <td>0</td>\n",
       "      <td>0</td>\n",
       "      <td>0</td>\n",
       "      <td>0</td>\n",
       "      <td>0</td>\n",
       "      <td>0</td>\n",
       "      <td>0</td>\n",
       "      <td>1</td>\n",
       "      <td>1</td>\n",
       "    </tr>\n",
       "    <tr>\n",
       "      <th>257</th>\n",
       "      <td>18</td>\n",
       "      <td>2010</td>\n",
       "      <td>0.405534</td>\n",
       "      <td>0</td>\n",
       "      <td>0</td>\n",
       "      <td>0</td>\n",
       "      <td>1</td>\n",
       "      <td>0</td>\n",
       "      <td>0</td>\n",
       "      <td>0</td>\n",
       "      <td>...</td>\n",
       "      <td>0</td>\n",
       "      <td>0</td>\n",
       "      <td>0</td>\n",
       "      <td>0</td>\n",
       "      <td>0</td>\n",
       "      <td>0</td>\n",
       "      <td>0</td>\n",
       "      <td>0</td>\n",
       "      <td>1</td>\n",
       "      <td>0</td>\n",
       "    </tr>\n",
       "    <tr>\n",
       "      <th>271</th>\n",
       "      <td>7</td>\n",
       "      <td>2010</td>\n",
       "      <td>0.577510</td>\n",
       "      <td>20</td>\n",
       "      <td>0</td>\n",
       "      <td>0</td>\n",
       "      <td>1</td>\n",
       "      <td>0</td>\n",
       "      <td>0</td>\n",
       "      <td>0</td>\n",
       "      <td>...</td>\n",
       "      <td>0</td>\n",
       "      <td>0</td>\n",
       "      <td>0</td>\n",
       "      <td>0</td>\n",
       "      <td>0</td>\n",
       "      <td>0</td>\n",
       "      <td>0</td>\n",
       "      <td>0</td>\n",
       "      <td>1</td>\n",
       "      <td>0</td>\n",
       "    </tr>\n",
       "    <tr>\n",
       "      <th>278</th>\n",
       "      <td>9</td>\n",
       "      <td>2010</td>\n",
       "      <td>0.477608</td>\n",
       "      <td>13</td>\n",
       "      <td>0</td>\n",
       "      <td>0</td>\n",
       "      <td>1</td>\n",
       "      <td>0</td>\n",
       "      <td>0</td>\n",
       "      <td>0</td>\n",
       "      <td>...</td>\n",
       "      <td>0</td>\n",
       "      <td>0</td>\n",
       "      <td>0</td>\n",
       "      <td>0</td>\n",
       "      <td>0</td>\n",
       "      <td>0</td>\n",
       "      <td>0</td>\n",
       "      <td>0</td>\n",
       "      <td>1</td>\n",
       "      <td>1</td>\n",
       "    </tr>\n",
       "  </tbody>\n",
       "</table>\n",
       "<p>5 rows × 34 columns</p>\n",
       "</div>"
      ],
      "text/plain": [
       "     crime_total  year  dist_stadium_meadian  hour_mode  weekday_Monday  \\\n",
       "2              4  2010              0.714016          0               0   \n",
       "244            7  2010              0.419502          6               0   \n",
       "257           18  2010              0.405534          0               0   \n",
       "271            7  2010              0.577510         20               0   \n",
       "278            9  2010              0.477608         13               0   \n",
       "\n",
       "     weekday_Saturday  weekday_Sunday  weekday_Tuesday  month_Jan  month_Nov  \\\n",
       "2                   0               1                0          1          0   \n",
       "244                 0               1                0          0          0   \n",
       "257                 0               1                0          0          0   \n",
       "271                 0               1                0          0          0   \n",
       "278                 0               1                0          0          0   \n",
       "\n",
       "         ...        premise_mode_stadium  premise_mode_store  \\\n",
       "2        ...                           0                   0   \n",
       "244      ...                           0                   0   \n",
       "257      ...                           0                   0   \n",
       "271      ...                           0                   0   \n",
       "278      ...                           0                   0   \n",
       "\n",
       "     premise_mode_store_prk  premise_mode_street  premise_mode_unk  \\\n",
       "2                         0                    0                 0   \n",
       "244                       0                    0                 0   \n",
       "257                       0                    0                 0   \n",
       "271                       0                    0                 0   \n",
       "278                       0                    0                 0   \n",
       "\n",
       "     offense_mode_Auto_Theft  offense_mode_Burglary  offense_mode_Robbery  \\\n",
       "2                          1                      0                     0   \n",
       "244                        0                      0                     0   \n",
       "257                        0                      0                     0   \n",
       "271                        0                      0                     0   \n",
       "278                        0                      0                     0   \n",
       "\n",
       "     offense_mode_Theft  game_Won_Game  \n",
       "2                     0              1  \n",
       "244                   1              1  \n",
       "257                   1              0  \n",
       "271                   1              0  \n",
       "278                   1              1  \n",
       "\n",
       "[5 rows x 34 columns]"
      ]
     },
     "execution_count": 5,
     "metadata": {},
     "output_type": "execute_result"
    }
   ],
   "source": [
    "### get dummies\n",
    "dfd = pd.get_dummies(df,drop_first=True)\n",
    "dfd.columns = [c.replace(\"'\", '') for c in dfd.columns]\n",
    "dfd.columns = [c.replace(\".\", '') for c in dfd.columns]\n",
    "dfd.columns = [c.replace(\"&\", 'n') for c in dfd.columns]\n",
    "dfd.columns = [c.replace(' ', '_') for c in dfd.columns]\n",
    "dfd.head()"
   ]
  },
  {
   "cell_type": "code",
   "execution_count": null,
   "metadata": {},
   "outputs": [],
   "source": []
  },
  {
   "cell_type": "code",
   "execution_count": null,
   "metadata": {},
   "outputs": [],
   "source": [
    "#dfd.drop(['game_Won_Game'],axis=1,inplace=True)"
   ]
  },
  {
   "cell_type": "code",
   "execution_count": 6,
   "metadata": {},
   "outputs": [
    {
     "name": "stdout",
     "output_type": "stream",
     "text": [
      "                            OLS Regression Results                            \n",
      "==============================================================================\n",
      "Dep. Variable:            crime_total   R-squared:                       0.541\n",
      "Model:                            OLS   Adj. R-squared:                  0.145\n",
      "Method:                 Least Squares   F-statistic:                     1.367\n",
      "Date:                Tue, 17 Jul 2018   Prob (F-statistic):              0.182\n",
      "Time:                        15:37:49   Log-Likelihood:                -211.06\n",
      "No. Observations:                  68   AIC:                             486.1\n",
      "Df Residuals:                      36   BIC:                             557.1\n",
      "Df Model:                          31                                         \n",
      "Covariance Type:            nonrobust                                         \n",
      "==============================================================================================\n",
      "                                 coef    std err          t      P>|t|      [0.025      0.975]\n",
      "----------------------------------------------------------------------------------------------\n",
      "Intercept                   1886.4769    814.862      2.315      0.026     233.859    3539.094\n",
      "year                          -1.1665      0.505     -2.308      0.027      -2.192      -0.141\n",
      "dist_stadium_meadian          -9.9325      8.923     -1.113      0.273     -28.029       8.164\n",
      "hour_mode                      0.4171      0.278      1.502      0.142      -0.146       0.980\n",
      "weekday_Monday                -7.1580      9.447     -0.758      0.454     -26.318      12.002\n",
      "weekday_Saturday             -16.1724     11.504     -1.406      0.168     -39.503       7.159\n",
      "weekday_Sunday                -9.6243      8.908     -1.080      0.287     -27.691       8.443\n",
      "weekday_Tuesday              -24.7047     13.210     -1.870      0.070     -51.496       2.087\n",
      "month_Jan                      7.9462      5.446      1.459      0.153      -3.099      18.992\n",
      "month_Nov                    471.8700    203.467      2.319      0.026      59.220     884.520\n",
      "month_Oct                    473.1984    203.453      2.326      0.026      60.576     885.821\n",
      "month_Sep                    471.4520    203.913      2.312      0.027      57.897     885.006\n",
      "season_Winter                469.9565    204.081      2.303      0.027      56.061     883.852\n",
      "part_day_mode_Evening          8.0878      5.136      1.575      0.124      -2.328      18.504\n",
      "part_day_mode_Morning          3.5241      2.856      1.234      0.225      -2.267       9.315\n",
      "part_day_mode_Night            0.9953      4.334      0.230      0.820      -7.794       9.784\n",
      "premise_mode_apartment_prk     1.4403      3.950      0.365      0.718      -6.571       9.451\n",
      "premise_mode_bar_nc           -2.2674      9.119     -0.249      0.805     -20.762      16.227\n",
      "premise_mode_comm_prk          2.5548      4.899      0.521      0.605      -7.381      12.490\n",
      "premise_mode_hotel             1.6731      7.253      0.231      0.819     -13.037      16.383\n",
      "premise_mode_hotel_prk         5.5684      4.316      1.290      0.205      -3.185      14.322\n",
      "premise_mode_prk               7.8123      4.706      1.660      0.106      -1.732      17.357\n",
      "premise_mode_rest             11.8555     10.255      1.156      0.255      -8.942      32.653\n",
      "premise_mode_rest_prk          0.5829      7.338      0.079      0.937     -14.300      15.466\n",
      "premise_mode_stadium           1.6930      5.331      0.318      0.753      -9.119      12.505\n",
      "premise_mode_store            14.1444      9.159      1.544      0.131      -4.430      32.719\n",
      "premise_mode_store_prk         8.9216      7.298      1.223      0.229      -5.879      23.722\n",
      "premise_mode_street           -0.2889      5.248     -0.055      0.956     -10.932      10.354\n",
      "premise_mode_unk               2.2657      6.988      0.324      0.748     -11.907      16.438\n",
      "offense_mode_Auto_Theft        4.9340      7.503      0.658      0.515     -10.283      20.151\n",
      "offense_mode_Burglary         -5.0287      7.675     -0.655      0.517     -20.595      10.538\n",
      "offense_mode_Robbery           2.2559      5.027      0.449      0.656      -7.939      12.451\n",
      "offense_mode_Theft             6.9837      6.470      1.079      0.288      -6.137      20.104\n",
      "game_Won_Game                 -1.7632      2.480     -0.711      0.482      -6.793       3.267\n",
      "==============================================================================\n",
      "Omnibus:                        6.291   Durbin-Watson:                   2.090\n",
      "Prob(Omnibus):                  0.043   Jarque-Bera (JB):                8.479\n",
      "Skew:                           0.270   Prob(JB):                       0.0144\n",
      "Kurtosis:                       4.644   Cond. No.                     1.00e+16\n",
      "==============================================================================\n",
      "\n",
      "Warnings:\n",
      "[1] Standard Errors assume that the covariance matrix of the errors is correctly specified.\n",
      "[2] The smallest eigenvalue is 2.75e-24. This might indicate that there are\n",
      "strong multicollinearity problems or that the design matrix is singular.\n"
     ]
    }
   ],
   "source": [
    "X = dfd.drop(['crime_total'],axis=1)  # predictors\n",
    "\n",
    "#X = dfd[['dist_stadium_meadian']]\n",
    "cols = X.columns\n",
    "formula = '+'.join(list(cols))\n",
    "\n",
    "y = dfd.crime_total\n",
    "\n",
    "form = 'crime_total ~'+ formula\n",
    "#form = 'crime_total ~ hour_mode + year'\n",
    "m = ols(form,dfd).fit()\n",
    "print(m.summary())"
   ]
  },
  {
   "cell_type": "code",
   "execution_count": null,
   "metadata": {},
   "outputs": [],
   "source": [
    "df.head()"
   ]
  },
  {
   "cell_type": "markdown",
   "metadata": {},
   "source": [
    "## EDA & Summary Statistics"
   ]
  },
  {
   "cell_type": "code",
   "execution_count": null,
   "metadata": {},
   "outputs": [],
   "source": [
    "fig,ax = plt.subplots(figsize=(10,5))\n",
    "\n",
    "sns.distplot(m.fittedvalues)\n",
    "plt.show()"
   ]
  },
  {
   "cell_type": "code",
   "execution_count": null,
   "metadata": {},
   "outputs": [],
   "source": [
    "fig,ax = plt.subplots(figsize=(10,5))\n",
    "\n",
    "sns.distplot(dfd['crime_total'])\n",
    "plt.show()"
   ]
  },
  {
   "cell_type": "code",
   "execution_count": null,
   "metadata": {},
   "outputs": [],
   "source": []
  },
  {
   "cell_type": "code",
   "execution_count": 15,
   "metadata": {},
   "outputs": [
    {
     "data": {
      "image/png": "[encoded data removed]",
      "text/plain": [
       "<Figure size 1080x360 with 1 Axes>"
      ]
     },
     "metadata": {},
     "output_type": "display_data"
    }
   ],
   "source": [
    "fig,ax = plt.subplots(figsize=(15,5))\n",
    "\n",
    "sns.boxplot(x=\"weekday\", y=\"crime_total\", hue=\"game\", data=df, palette=\"PRGn\")\n",
    "sns.despine(offset=10, trim=True)\n",
    "plt.title('Sum Crimes  by weekday')\n",
    "plt.show()"
   ]
  },
  {
   "cell_type": "code",
   "execution_count": 16,
   "metadata": {},
   "outputs": [
    {
     "data": {
      "image/png": "[encoded data removed]",
      "text/plain": [
       "<Figure size 1080x360 with 1 Axes>"
      ]
     },
     "metadata": {},
     "output_type": "display_data"
    }
   ],
   "source": [
    "fig,ax = plt.subplots(figsize=(15,5))\n",
    "\n",
    "sns.boxplot(x=\"month\", y=\"crime_total\", hue=\"game\", data=df, palette=\"PRGn\")\n",
    "sns.despine(offset=10, trim=True)\n",
    "plt.title('Sum Crimes  by Month')\n",
    "plt.show()"
   ]
  },
  {
   "cell_type": "code",
   "execution_count": 17,
   "metadata": {},
   "outputs": [
    {
     "data": {
      "image/png": "[encoded data removed]",
      "text/plain": [
       "<Figure size 1080x360 with 1 Axes>"
      ]
     },
     "metadata": {},
     "output_type": "display_data"
    }
   ],
   "source": [
    "fig,ax = plt.subplots(figsize=(15,5))\n",
    "\n",
    "sns.boxplot(x=\"year\", y=\"crime_total\", hue=\"game\", data=df, palette=\"PRGn\")\n",
    "sns.despine(offset=10, trim=True)\n",
    "plt.title('Sum Crimes  by year')\n",
    "plt.show()"
   ]
  },
  {
   "cell_type": "code",
   "execution_count": 18,
   "metadata": {},
   "outputs": [
    {
     "data": {
      "image/png": "[encoded data removed]",
      "text/plain": [
       "<Figure size 1080x360 with 1 Axes>"
      ]
     },
     "metadata": {},
     "output_type": "display_data"
    }
   ],
   "source": [
    "fig,ax = plt.subplots(figsize=(15,5))\n",
    "\n",
    "sns.boxplot(x=\"weekday\", y=\"dist_stadium_meadian\", hue=\"game\", data=df, palette=\"PRGn\")\n",
    "sns.despine(offset=10, trim=True)\n",
    "plt.title('crimes distance by weekday')\n",
    "plt.show()"
   ]
  },
  {
   "cell_type": "code",
   "execution_count": 19,
   "metadata": {},
   "outputs": [
    {
     "data": {
      "image/png": "[encoded data removed]",
      "text/plain": [
       "<Figure size 1080x360 with 1 Axes>"
      ]
     },
     "metadata": {},
     "output_type": "display_data"
    }
   ],
   "source": [
    "fig,ax = plt.subplots(figsize=(15,5))\n",
    "\n",
    "sns.boxplot(x=\"season\", y=\"crime_total\", hue=\"game\", data=df, palette=\"PRGn\")\n",
    "sns.despine(offset=10, trim=True)\n",
    "plt.title('Sum Crimes  by Season')\n",
    "plt.show()"
   ]
  },
  {
   "cell_type": "markdown",
   "metadata": {},
   "source": [
    "## Relationships"
   ]
  },
  {
   "cell_type": "markdown",
   "metadata": {},
   "source": [
    "## linear regression"
   ]
  },
  {
   "cell_type": "code",
   "execution_count": null,
   "metadata": {},
   "outputs": [],
   "source": [
    "### get dummies\n",
    "\n",
    "dfd = pd.get_dummies(df,drop_first=True)\n",
    "dfd.columns = [c.replace(' ', '_') for c in dfd.columns]\n",
    "dfd.head()"
   ]
  },
  {
   "cell_type": "code",
   "execution_count": null,
   "metadata": {},
   "outputs": [],
   "source": [
    "X = dfd.drop(['crime_total'],axis=1)  # predictors\n",
    "\n",
    "#X = dfd[['dist_stadium_meadian']]\n",
    "cols = X.columns\n",
    "formula = '+'.join(list(cols))\n",
    "\n",
    "y = dfd.crime_total\n",
    "\n",
    "\n",
    "\n",
    "\n",
    "\n",
    "form = 'crime_total ~'+ formula\n",
    "\n",
    "m = ols(form,dfd).fit()\n",
    "print(m.summary())"
   ]
  },
  {
   "cell_type": "code",
   "execution_count": null,
   "metadata": {},
   "outputs": [],
   "source": [
    "pvals = pd.DataFrame(m.pvalues>0.05)\n",
    "terdx = pvals.index == 'Intercept'\n",
    "pvals = pvals[~terdx]\n",
    "pospval = pvals[pvals[0] == True] \n",
    "f_col1 = list(pospval.index)"
   ]
  },
  {
   "cell_type": "code",
   "execution_count": null,
   "metadata": {},
   "outputs": [],
   "source": [
    "#X = dfd.drop(['crime_total'],axis=1)  # predictors\n",
    "\n",
    "X = dfd[f_col1]\n",
    "\n",
    "cols = X.columns\n",
    "formula = '+'.join(list(cols))\n",
    "\n",
    "y = dfd.crime_total\n",
    "\n",
    "\n",
    "\n",
    "\n",
    "form = 'crime_total ~'+ formula\n",
    "\n",
    "m = ols(form,dfd).fit()\n",
    "print(m.summary())"
   ]
  },
  {
   "cell_type": "code",
   "execution_count": null,
   "metadata": {},
   "outputs": [],
   "source": []
  },
  {
   "cell_type": "code",
   "execution_count": null,
   "metadata": {},
   "outputs": [],
   "source": [
    "pvals = pd.DataFrame(m.pvalues<=0.05)\n",
    "terdx = pvals.index == 'Intercept'\n",
    "pvals = pvals[~terdx]\n",
    "pospval = pvals[pvals[0] == True]  \n",
    "\n",
    "f_col2 = list(pospval.index)\n",
    "\n",
    "#X = dfd.drop(['crime_total'],axis=1)  # predictors\n",
    "\n",
    "X = dfd[f_col2]\n",
    "\n",
    "cols = X.columns\n",
    "formula = '+'.join(list(cols))\n",
    "\n",
    "y = dfd.crime_total\n",
    "\n",
    "form = 'crime_total ~'+ formula\n",
    "\n",
    "m = ols(form,dfd).fit()\n",
    "print(m.summary())"
   ]
  },
  {
   "cell_type": "code",
   "execution_count": null,
   "metadata": {},
   "outputs": [],
   "source": [
    "pvals = pd.DataFrame(m.pvalues<=0.05)\n",
    "terdx = pvals.index == 'Intercept'\n",
    "pvals = pvals[~terdx]\n",
    "pospval = pvals[pvals[0] == True]  \n",
    "\n",
    "f_col2 = list(pospval.index)\n",
    "\n",
    "#X = dfd.drop(['crime_total'],axis=1)  # predictors\n",
    "\n",
    "X = dfd[f_col2]\n",
    "\n",
    "cols = X.columns\n",
    "formula = '+'.join(list(cols))\n",
    "\n",
    "y = dfd.crime_total\n",
    "\n",
    "form = 'crime_total ~'+ formula\n",
    "\n",
    "m = ols(form,dfd).fit()\n",
    "print(m.summary())"
   ]
  },
  {
   "cell_type": "code",
   "execution_count": null,
   "metadata": {},
   "outputs": [],
   "source": [
    "pvals = pd.DataFrame(m.pvalues<=0.05)\n",
    "terdx = pvals.index == 'Intercept'\n",
    "pvals = pvals[~terdx]\n",
    "pospval = pvals[pvals[0] == True]  \n",
    "\n",
    "f_col2 = list(pospval.index)\n",
    "\n",
    "#X = dfd.drop(['crime_total'],axis=1)  # predictors\n",
    "\n",
    "X = dfd[f_col2]\n",
    "\n",
    "cols = X.columns\n",
    "formula = '+'.join(list(cols))\n",
    "\n",
    "y = dfd.crime_total\n",
    "\n",
    "form = 'crime_total ~'+ formula\n",
    "\n",
    "m = ols(form,dfd).fit()\n",
    "print(m.summary())"
   ]
  },
  {
   "cell_type": "code",
   "execution_count": null,
   "metadata": {},
   "outputs": [],
   "source": [
    "pvals = pd.DataFrame(m.pvalues<=0.05)\n",
    "terdx = pvals.index == 'Intercept'\n",
    "pvals = pvals[~terdx]\n",
    "pospval = pvals[pvals[0] == True]  \n",
    "\n",
    "f_col2 = list(pospval.index)\n",
    "\n",
    "#X = dfd.drop(['crime_total'],axis=1)  # predictors\n",
    "\n",
    "X = dfd[f_col2]\n",
    "\n",
    "cols = X.columns\n",
    "formula = '+'.join(list(cols))\n",
    "\n",
    "y = dfd.crime_total\n",
    "\n",
    "form = 'crime_total ~'+ formula\n",
    "\n",
    "m = ols(form,dfd).fit()\n",
    "print(m.summary())"
   ]
  },
  {
   "cell_type": "code",
   "execution_count": null,
   "metadata": {},
   "outputs": [],
   "source": []
  },
  {
   "cell_type": "code",
   "execution_count": null,
   "metadata": {},
   "outputs": [],
   "source": []
  },
  {
   "cell_type": "code",
   "execution_count": null,
   "metadata": {},
   "outputs": [],
   "source": []
  },
  {
   "cell_type": "code",
   "execution_count": null,
   "metadata": {},
   "outputs": [],
   "source": []
  },
  {
   "cell_type": "code",
   "execution_count": 7,
   "metadata": {},
   "outputs": [],
   "source": [
    "from sklearn.linear_model import LinearRegression, Ridge, Lasso\n",
    "from sklearn.tree import DecisionTreeRegressor\n",
    "from sklearn.ensemble import RandomForestRegressor"
   ]
  },
  {
   "cell_type": "code",
   "execution_count": 8,
   "metadata": {},
   "outputs": [],
   "source": [
    "def fit_model(alg,X,y):\n",
    "    '''\n",
    "    model fit\n",
    "    '''\n",
    "    alg.fit(X,y)\n",
    "    prediction = alg.predict(X)\n",
    "    RSS = np.sum((y - prediction) ** 2)\n",
    "    ESS = np.sum(prediction - np.mean(y)) ** 2\n",
    "    R_sq = alg.score(X, y)\n",
    "    print('Residual Sum-of-Squares RSS       : {}'.format(RSS))\n",
    "    print('Explained Sum-of-Squares ESS      : {}'.format(ESS))\n",
    "    print('Coefficient of Determination R-sq : {}'.format(R_sq))"
   ]
  },
  {
   "cell_type": "code",
   "execution_count": 9,
   "metadata": {},
   "outputs": [],
   "source": [
    "alg1 = LinearRegression(normalize=True)\n",
    "alg2 = Ridge(alpha=0.05,normalize=True)\n",
    "alg3 = DecisionTreeRegressor(max_depth=5, min_samples_leaf=100)\n",
    "alg5 = RandomForestRegressor(n_estimators=50,max_depth=5, min_samples_leaf=100,n_jobs=4)\n",
    "alg6 = RandomForestRegressor(n_estimators=100,max_depth=6, min_samples_leaf=100,n_jobs=4)"
   ]
  },
  {
   "cell_type": "code",
   "execution_count": 10,
   "metadata": {},
   "outputs": [
    {
     "name": "stdout",
     "output_type": "stream",
     "text": [
      "Residual Sum-of-Squares RSS       : 1976.8549275958928\n",
      "Explained Sum-of-Squares ESS      : 6.793543898018518e-23\n",
      "Coefficient of Determination R-sq : 0.5407186660316763\n"
     ]
    }
   ],
   "source": [
    "fit_model(alg1,X,y)"
   ]
  },
  {
   "cell_type": "code",
   "execution_count": 11,
   "metadata": {},
   "outputs": [
    {
     "name": "stdout",
     "output_type": "stream",
     "text": [
      "Residual Sum-of-Squares RSS       : 2037.3081445552284\n",
      "Explained Sum-of-Squares ESS      : 5.888815103038644e-23\n",
      "Coefficient of Determination R-sq : 0.5266736120723927\n"
     ]
    }
   ],
   "source": [
    "fit_model(alg2,X,y)"
   ]
  },
  {
   "cell_type": "code",
   "execution_count": 12,
   "metadata": {},
   "outputs": [
    {
     "name": "stdout",
     "output_type": "stream",
     "text": [
      "Residual Sum-of-Squares RSS       : 4304.235294117647\n",
      "Explained Sum-of-Squares ESS      : 0.0\n",
      "Coefficient of Determination R-sq : 0.0\n"
     ]
    }
   ],
   "source": [
    "fit_model(alg3,X,y)"
   ]
  },
  {
   "cell_type": "code",
   "execution_count": 13,
   "metadata": {},
   "outputs": [
    {
     "name": "stdout",
     "output_type": "stream",
     "text": [
      "Residual Sum-of-Squares RSS       : 4304.815270588235\n",
      "Explained Sum-of-Squares ESS      : 39.438399999996534\n",
      "Coefficient of Determination R-sq : -0.00013474553107739595\n"
     ]
    }
   ],
   "source": [
    "fit_model(alg5,X,y)"
   ]
  },
  {
   "cell_type": "code",
   "execution_count": 14,
   "metadata": {},
   "outputs": [
    {
     "name": "stdout",
     "output_type": "stream",
     "text": [
      "Residual Sum-of-Squares RSS       : 4305.389700000001\n",
      "Explained Sum-of-Squares ESS      : 78.49959999999848\n",
      "Coefficient of Determination R-sq : -0.00026820231782664905\n"
     ]
    }
   ],
   "source": [
    "fit_model(alg6,X,y)"
   ]
  },
  {
   "cell_type": "code",
   "execution_count": null,
   "metadata": {},
   "outputs": [],
   "source": []
  },
  {
   "cell_type": "code",
   "execution_count": null,
   "metadata": {},
   "outputs": [],
   "source": []
  },
  {
   "cell_type": "code",
   "execution_count": null,
   "metadata": {},
   "outputs": [],
   "source": []
  },
  {
   "cell_type": "code",
   "execution_count": null,
   "metadata": {},
   "outputs": [],
   "source": []
  },
  {
   "cell_type": "code",
   "execution_count": null,
   "metadata": {},
   "outputs": [],
   "source": []
  },
  {
   "cell_type": "code",
   "execution_count": null,
   "metadata": {},
   "outputs": [],
   "source": []
  },
  {
   "cell_type": "code",
   "execution_count": null,
   "metadata": {},
   "outputs": [],
   "source": []
  },
  {
   "cell_type": "code",
   "execution_count": null,
   "metadata": {},
   "outputs": [],
   "source": [
    "rom sklearn import cross_validation, metrics\n",
    "from sklearn.model_selection import train_test_split\n",
    "\n",
    "\n",
    "def modelfit(alg, df):\n",
    "    '''\n",
    "    target = y\n",
    "    predictors = X\n",
    "    '''\n",
    "    X = df.drop('crime_total', axis=1).values\n",
    "    y = df['crime_total'].values\n",
    "\n",
    "    \n",
    "    X_train, X_test, y_train, y_test = train_test_split(X, y, test_size = 0.3, random_state=42)\n",
    "\n",
    "    \n",
    "    \n",
    "    #Fit the algorithm on the data\n",
    "    alg.fit(X_train,y_train)\n",
    "        \n",
    "    #Predict training set:\n",
    "    train_predictions = alg.predict(X_train)\n",
    "\n",
    "    #Perform cross-validation:\n",
    "    cv_score = cross_validation.cross_val_score(alg, X_train, y_train, cv=20, scoring='neg_mean_squared_error')\n",
    "    cv_score = np.sqrt(np.abs(cv_score))\n",
    "    \n",
    "    #Print model report:\n",
    "    print (\"\\nModel Report\")\n",
    "    print( \"RMSE : %.4g\" % np.sqrt(metrics.mean_squared_error(y_train, train_predictions)))\n",
    "    \n",
    "    print (\"CV Score : Mean - %.4g | Std - %.4g | Min - %.4g | Max - %.4g\" % (np.mean(cv_score),np.std(cv_score),np.min(cv_score),np.max(cv_score))\n",
    ")\n",
    "    #Predict on testing data:\n",
    "    y_test = alg.predict(X_test)\n",
    "\n",
    "    #Export submission file:\n",
    "#     IDcol.append(target)\n",
    "#     submission = pd.DataFrame({ x: dtest[x] for x in IDcol})\n",
    "#     submission.to_csv(filename, index=False)"
   ]
  }
 ],
 "metadata": {
  "kernelspec": {
   "display_name": "Python 3",
   "language": "python",
   "name": "python3"
  },
  "language_info": {
   "codemirror_mode": {
    "name": "ipython",
    "version": 3
   },
   "file_extension": ".py",
   "mimetype": "text/x-python",
   "name": "python",
   "nbconvert_exporter": "python",
   "pygments_lexer": "ipython3",
   "version": "3.6.4"
  }
 },
 "nbformat": 4,
 "nbformat_minor": 2
}
