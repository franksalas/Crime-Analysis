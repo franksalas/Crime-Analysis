{
 "cells": [
  {
   "cell_type": "code",
   "execution_count": 3,
   "metadata": {},
   "outputs": [],
   "source": [
    "%matplotlib inline\n",
    "import matplotlib.pyplot as plt\n",
    "import seaborn as sns; sns.set()\n",
    "import numpy as np\n",
    "import pandas as pd\n",
    "from collections import Counter\n",
    "from sklearn import preprocessing\n",
    "import scipy"
   ]
  },
  {
   "cell_type": "code",
   "execution_count": 4,
   "metadata": {},
   "outputs": [
    {
     "name": "stdout",
     "output_type": "stream",
     "text": [
      "\u001b[0m\u001b[01;32mcrime_astros_finalA.csv\u001b[0m*  \u001b[01;32mcrime_rockets_final.csv\u001b[0m*  \u001b[01;32mcrime_texans_final.csv\u001b[0m*\r\n",
      "\u001b[01;32mcrime_astros_final.csv\u001b[0m*   \u001b[01;32mcrime_ru_final.csv\u001b[0m*       \u001b[01;32mcrime_uh_finalA.csv\u001b[0m*\r\n",
      "\u001b[01;32mcrime_dynamo_finalA.csv\u001b[0m*  \u001b[01;32mcrime_ru_final.csvA.csv\u001b[0m*  \u001b[01;32mcrime_uh_final.csv\u001b[0m*\r\n",
      "\u001b[01;32mcrime_dynamo_final.csv\u001b[0m*   \u001b[01;32mcrime_texans_finalA.csv\u001b[0m*\r\n"
     ]
    }
   ],
   "source": [
    "ls data"
   ]
  },
  {
   "cell_type": "code",
   "execution_count": 5,
   "metadata": {},
   "outputs": [],
   "source": [
    "path = 'data/crime_rockets_final.csv'"
   ]
  },
  {
   "cell_type": "code",
   "execution_count": 6,
   "metadata": {},
   "outputs": [
    {
     "data": {
      "text/html": [
       "<div>\n",
       "<style scoped>\n",
       "    .dataframe tbody tr th:only-of-type {\n",
       "        vertical-align: middle;\n",
       "    }\n",
       "\n",
       "    .dataframe tbody tr th {\n",
       "        vertical-align: top;\n",
       "    }\n",
       "\n",
       "    .dataframe thead th {\n",
       "        text-align: right;\n",
       "    }\n",
       "</style>\n",
       "<table border=\"1\" class=\"dataframe\">\n",
       "  <thead>\n",
       "    <tr style=\"text-align: right;\">\n",
       "      <th></th>\n",
       "      <th>Beat</th>\n",
       "      <th>OffenseType</th>\n",
       "      <th>Premise</th>\n",
       "      <th>NumOffenses</th>\n",
       "      <th>hour</th>\n",
       "      <th>day</th>\n",
       "      <th>weekday</th>\n",
       "      <th>month</th>\n",
       "      <th>year</th>\n",
       "      <th>lat</th>\n",
       "      <th>lon</th>\n",
       "      <th>add</th>\n",
       "      <th>dist_stadium</th>\n",
       "      <th>game</th>\n",
       "    </tr>\n",
       "    <tr>\n",
       "      <th>date</th>\n",
       "      <th></th>\n",
       "      <th></th>\n",
       "      <th></th>\n",
       "      <th></th>\n",
       "      <th></th>\n",
       "      <th></th>\n",
       "      <th></th>\n",
       "      <th></th>\n",
       "      <th></th>\n",
       "      <th></th>\n",
       "      <th></th>\n",
       "      <th></th>\n",
       "      <th></th>\n",
       "      <th></th>\n",
       "    </tr>\n",
       "  </thead>\n",
       "  <tbody>\n",
       "    <tr>\n",
       "      <th>2010-01-01</th>\n",
       "      <td>1A10</td>\n",
       "      <td>Auto Theft</td>\n",
       "      <td>bar/night club parking lot</td>\n",
       "      <td>1</td>\n",
       "      <td>0</td>\n",
       "      <td>1</td>\n",
       "      <td>Friday</td>\n",
       "      <td>Jan</td>\n",
       "      <td>2010</td>\n",
       "      <td>29.757212</td>\n",
       "      <td>-95.353294</td>\n",
       "      <td>350 Hamilton St, Houston, TX 77002, USA</td>\n",
       "      <td>0.693506</td>\n",
       "      <td>No Game</td>\n",
       "    </tr>\n",
       "    <tr>\n",
       "      <th>2010-01-01</th>\n",
       "      <td>1A10</td>\n",
       "      <td>Theft</td>\n",
       "      <td>bar/night club</td>\n",
       "      <td>1</td>\n",
       "      <td>0</td>\n",
       "      <td>1</td>\n",
       "      <td>Friday</td>\n",
       "      <td>Jan</td>\n",
       "      <td>2010</td>\n",
       "      <td>29.753512</td>\n",
       "      <td>-95.363811</td>\n",
       "      <td>1250 Caroline St, Houston, TX 77002, USA</td>\n",
       "      <td>0.207741</td>\n",
       "      <td>No Game</td>\n",
       "    </tr>\n",
       "  </tbody>\n",
       "</table>\n",
       "</div>"
      ],
      "text/plain": [
       "            Beat OffenseType                     Premise  NumOffenses  hour  \\\n",
       "date                                                                          \n",
       "2010-01-01  1A10  Auto Theft  bar/night club parking lot            1     0   \n",
       "2010-01-01  1A10       Theft              bar/night club            1     0   \n",
       "\n",
       "            day weekday month  year        lat        lon  \\\n",
       "date                                                        \n",
       "2010-01-01    1  Friday   Jan  2010  29.757212 -95.353294   \n",
       "2010-01-01    1  Friday   Jan  2010  29.753512 -95.363811   \n",
       "\n",
       "                                                 add  dist_stadium     game  \n",
       "date                                                                         \n",
       "2010-01-01   350 Hamilton St, Houston, TX 77002, USA      0.693506  No Game  \n",
       "2010-01-01  1250 Caroline St, Houston, TX 77002, USA      0.207741  No Game  "
      ]
     },
     "execution_count": 6,
     "metadata": {},
     "output_type": "execute_result"
    }
   ],
   "source": [
    "df = pd.read_csv(path)\n",
    "df=df.rename(columns = {'Unnamed: 0':'date','Hour':'hour'})\n",
    "df.hour = df.hour.astype(int)\n",
    "df.day = df.day.astype(int)\n",
    "df.year = df.year.astype(int)\n",
    "df.date = pd.to_datetime(df.date)  # datetime index\n",
    "df = df.set_index('date').sort_index(ascending=True)\n",
    "#df['game_on'] = np.where(df.game =='No Game',0,1)\n",
    "#df.drop(['game'],axis=1,inplace=True)\n",
    "df.head(2)"
   ]
  },
  {
   "cell_type": "code",
   "execution_count": 7,
   "metadata": {},
   "outputs": [
    {
     "name": "stdout",
     "output_type": "stream",
     "text": [
      "<class 'pandas.core.frame.DataFrame'>\n",
      "DatetimeIndex: 39513 entries, 2010-01-01 to 2017-12-31\n",
      "Data columns (total 14 columns):\n",
      "Beat            39513 non-null object\n",
      "OffenseType     39513 non-null object\n",
      "Premise         39513 non-null object\n",
      "NumOffenses     39513 non-null int64\n",
      "hour            39513 non-null int64\n",
      "day             39513 non-null int64\n",
      "weekday         39513 non-null object\n",
      "month           39513 non-null object\n",
      "year            39513 non-null int64\n",
      "lat             39513 non-null float64\n",
      "lon             39513 non-null float64\n",
      "add             39513 non-null object\n",
      "dist_stadium    39513 non-null float64\n",
      "game            39513 non-null object\n",
      "dtypes: float64(3), int64(4), object(7)\n",
      "memory usage: 4.5+ MB\n"
     ]
    }
   ],
   "source": [
    "df.info()"
   ]
  },
  {
   "cell_type": "code",
   "execution_count": 8,
   "metadata": {},
   "outputs": [],
   "source": [
    "df = df[[ 'OffenseType', 'Premise', 'hour', 'weekday', 'month', 'year',  'dist_stadium', 'game']]"
   ]
  },
  {
   "cell_type": "code",
   "execution_count": 9,
   "metadata": {},
   "outputs": [
    {
     "data": {
      "text/plain": [
       "No Game      35025\n",
       "Won Game      2967\n",
       "Lost Game     1521\n",
       "Name: game, dtype: int64"
      ]
     },
     "execution_count": 9,
     "metadata": {},
     "output_type": "execute_result"
    }
   ],
   "source": [
    "df.game.value_counts()"
   ]
  },
  {
   "cell_type": "markdown",
   "metadata": {},
   "source": [
    "## Cleanup premise column"
   ]
  },
  {
   "cell_type": "code",
   "execution_count": 10,
   "metadata": {},
   "outputs": [
    {
     "data": {
      "text/plain": [
       "186"
      ]
     },
     "execution_count": 10,
     "metadata": {},
     "output_type": "execute_result"
    }
   ],
   "source": [
    "len(df.Premise.value_counts())"
   ]
  },
  {
   "cell_type": "code",
   "execution_count": 11,
   "metadata": {},
   "outputs": [
    {
     "data": {
      "text/plain": [
       "road/street/sidewalk                10171\n",
       "residence/house                      3020\n",
       "other parking lot                    2261\n",
       "no label                             1771\n",
       "commercial parking lot/garage        1759\n",
       "apartment                            1399\n",
       "commercial parking lot or garage     1136\n",
       "other/unknown                        1127\n",
       "apartment parking lot                1005\n",
       "bar/night club                        749\n",
       "Name: Premise, dtype: int64"
      ]
     },
     "execution_count": 11,
     "metadata": {},
     "output_type": "execute_result"
    }
   ],
   "source": [
    "df.Premise.value_counts()[:10]"
   ]
  },
  {
   "cell_type": "code",
   "execution_count": 12,
   "metadata": {},
   "outputs": [],
   "source": [
    "# remove slash, commas, parenthesis and empty spaces\n",
    "df.Premise = df.Premise.str.replace('/', ' ').str.replace(',', ' ').str.replace('(', '').str.replace(')', '').str.strip()"
   ]
  },
  {
   "cell_type": "code",
   "execution_count": 13,
   "metadata": {},
   "outputs": [
    {
     "data": {
      "text/plain": [
       "185"
      ]
     },
     "execution_count": 13,
     "metadata": {},
     "output_type": "execute_result"
    }
   ],
   "source": [
    "len(df.Premise.value_counts())"
   ]
  },
  {
   "cell_type": "code",
   "execution_count": 14,
   "metadata": {},
   "outputs": [
    {
     "data": {
      "text/plain": [
       "road street sidewalk                                     10171\n",
       "residence house                                           3020\n",
       "other parking lot                                         2261\n",
       "no label                                                  1771\n",
       "commercial parking lot garage                             1759\n",
       "apartment                                                 1399\n",
       "commercial parking lot or garage                          1136\n",
       "other unknown                                             1127\n",
       "apartment parking lot                                     1005\n",
       "bar night club                                             749\n",
       "grocery supermarket                                        711\n",
       "department discount store                                  687\n",
       "restaurant cafeteria parking lot                           686\n",
       "driveway                                                   599\n",
       "office building                                            525\n",
       "bar or night club                                          515\n",
       "commercial building                                        465\n",
       "convenience store                                          436\n",
       "other  unknown  or not listed                              414\n",
       "restaurant cafeteria                                       414\n",
       "bar night club parking lot                                 400\n",
       "bus station                                                382\n",
       "grocery store or supermarket                               348\n",
       "bus stop                                                   315\n",
       "hotel motel etc.                                           315\n",
       "hotel  motel  inn  etc.                                    292\n",
       "bar or night club parking lot                              282\n",
       "restaurant or cafeteria                                    277\n",
       "miscellaneous business non-specific                        268\n",
       "convenience store parking lot                              258\n",
       "                                                         ...  \n",
       "vacant hotel motel etc.                                      4\n",
       "not listed                                                   3\n",
       "vacant government public building                            3\n",
       "daycare  child care  or kindergarten                         3\n",
       "factory  manufacturing  or industrial                        3\n",
       "vacant storage facility barns garages warehouses etc.        2\n",
       "package facility fedex ups dhl                               2\n",
       "electronics store  electrical supplies                       2\n",
       "vacant grocery supermarket                                   2\n",
       "garden supply  nursery  or florist                           2\n",
       "laundry or dry cleaners parking lot                          2\n",
       "06                                                           2\n",
       "vacant industrial manufacturing industrial                   2\n",
       "pawn  resale shop  or flea market                            2\n",
       "vacant school college                                        2\n",
       "marine veh. sales boats sailboats                            1\n",
       "laundry dry cleaners parking lot                             1\n",
       "toys arts & craft musical bike pet                           1\n",
       "savings and loan institutions                                1\n",
       "vacant hotel  motel  etc.                                    1\n",
       "toys  arts craft musical  bike pet stores                    1\n",
       "garden supply  nursery  florist                              1\n",
       "contra-flow hov                                              1\n",
       "vacant jail or prison                                        1\n",
       "utility company  electric  gas  water                        1\n",
       "tollway                                                      1\n",
       "furniture  appliances  radios  tv store                      1\n",
       "lake  pond  waterway  bayou  river                           1\n",
       "sporting goods gun shops                                     1\n",
       "pool hall game room                                          1\n",
       "Name: Premise, Length: 185, dtype: int64"
      ]
     },
     "execution_count": 14,
     "metadata": {},
     "output_type": "execute_result"
    }
   ],
   "source": [
    "df.Premise.value_counts()"
   ]
  },
  {
   "cell_type": "code",
   "execution_count": 15,
   "metadata": {},
   "outputs": [
    {
     "data": {
      "text/plain": [
       "[('road', 10198),\n",
       " ('street', 10171),\n",
       " ('sidewalk', 10171),\n",
       " ('parking', 8570),\n",
       " ('lot', 8570),\n",
       " ('or', 4017),\n",
       " ('other', 3860),\n",
       " ('commercial', 3456),\n",
       " ('residence', 3156),\n",
       " ('garage', 3143),\n",
       " ('house', 3112),\n",
       " ('apartment', 2476),\n",
       " ('store', 2343),\n",
       " ('club', 2114),\n",
       " ('bar', 1946),\n",
       " ('night', 1946),\n",
       " ('no', 1771),\n",
       " ('label', 1771),\n",
       " ('unknown', 1541),\n",
       " ('restaurant', 1392),\n",
       " ('cafeteria', 1377),\n",
       " ('building', 1223),\n",
       " ('grocery', 1215),\n",
       " ('supermarket', 1215),\n",
       " ('hotel', 864),\n",
       " ('motel', 864),\n",
       " ('etc.', 824),\n",
       " ('station', 819),\n",
       " ('bus', 697),\n",
       " ('convenience', 694),\n",
       " ('department', 687),\n",
       " ('discount', 687),\n",
       " ('office', 610),\n",
       " ('driveway', 599),\n",
       " ('business', 590),\n",
       " ('non-specific', 570),\n",
       " ('pool', 515),\n",
       " ('vacant', 437),\n",
       " ('not', 423),\n",
       " ('service', 420),\n",
       " ('listed', 417),\n",
       " ('gas', 401),\n",
       " ('parks', 351),\n",
       " ('recreation', 351),\n",
       " ('zoo', 351),\n",
       " ('center', 347),\n",
       " ('stop', 315),\n",
       " ('inn', 305),\n",
       " ('multi-plex', 300),\n",
       " ('triplex', 300)]"
      ]
     },
     "execution_count": 15,
     "metadata": {},
     "output_type": "execute_result"
    }
   ],
   "source": [
    "Counter(\" \".join(df.Premise).split()).most_common(50)"
   ]
  },
  {
   "cell_type": "markdown",
   "metadata": {},
   "source": [
    "# cleanup"
   ]
  },
  {
   "cell_type": "code",
   "execution_count": 16,
   "metadata": {},
   "outputs": [
    {
     "data": {
      "text/plain": [
       "church synagogue temple                     134\n",
       "church  synagogue  or temple                 50\n",
       "church  synagogue  or temple parking lot     49\n",
       "church synagogue temple parking lot          42\n",
       "vacant church synagogue temple                5\n",
       "vacant church  synagogue  or temple           5\n",
       "Name: Premise, dtype: int64"
      ]
     },
     "execution_count": 16,
     "metadata": {},
     "output_type": "execute_result"
    }
   ],
   "source": [
    "com = df.Premise.str.contains('church')\n",
    "df[com].Premise.value_counts()"
   ]
  },
  {
   "cell_type": "code",
   "execution_count": 17,
   "metadata": {},
   "outputs": [
    {
     "data": {
      "text/plain": [
       "church        194\n",
       "church prk     91\n",
       "Name: Premise, dtype: int64"
      ]
     },
     "execution_count": 17,
     "metadata": {},
     "output_type": "execute_result"
    }
   ],
   "source": [
    "\n",
    "df.Premise = df.Premise.str.replace('church synagogue temple', 'church')\n",
    "df.Premise = df.Premise.str.replace('church  synagogue  or temple', 'church')\n",
    "df.Premise = df.Premise.str.replace('vacant church synagogue temple', 'church')\n",
    "df.Premise = df.Premise.str.replace('vacant church  synagogue  or temple', 'church')\n",
    "df.Premise = df.Premise.str.replace('vacant church', 'church')\n",
    "df.Premise = df.Premise.str.replace('church parking lot', 'church prk')\n",
    "\n",
    "com = df.Premise.str.contains('church')\n",
    "df[com].Premise.value_counts()"
   ]
  },
  {
   "cell_type": "code",
   "execution_count": null,
   "metadata": {},
   "outputs": [],
   "source": []
  },
  {
   "cell_type": "code",
   "execution_count": 18,
   "metadata": {},
   "outputs": [
    {
     "data": {
      "text/plain": [
       "road street sidewalk    10171\n",
       "Name: Premise, dtype: int64"
      ]
     },
     "execution_count": 18,
     "metadata": {},
     "output_type": "execute_result"
    }
   ],
   "source": [
    "com = df.Premise.str.contains('street')\n",
    "df[com].Premise.value_counts()"
   ]
  },
  {
   "cell_type": "code",
   "execution_count": 19,
   "metadata": {},
   "outputs": [],
   "source": [
    "df.Premise = df.Premise.str.replace('road street sidewalk', 'street')\n"
   ]
  },
  {
   "cell_type": "code",
   "execution_count": 20,
   "metadata": {},
   "outputs": [
    {
     "data": {
      "text/plain": [
       "commercial parking lot garage       1759\n",
       "commercial parking lot or garage    1136\n",
       "commercial building                  465\n",
       "vacant building commercial            80\n",
       "commercial or training school         16\n",
       "Name: Premise, dtype: int64"
      ]
     },
     "execution_count": 20,
     "metadata": {},
     "output_type": "execute_result"
    }
   ],
   "source": [
    "com = df.Premise.str.contains('commercial')\n",
    "df[com].Premise.value_counts()"
   ]
  },
  {
   "cell_type": "code",
   "execution_count": 21,
   "metadata": {},
   "outputs": [],
   "source": [
    "df.Premise = df.Premise.str.replace('commercial parking lot garage', 'comm prk')\n",
    "df.Premise = df.Premise.str.replace('commercial parking lot or garage', 'comm prk')\n",
    "df.Premise = df.Premise.str.replace('commercial building', 'comm bld')\n",
    "df.Premise = df.Premise.str.replace('vacant building commercial', 'comm bld')\n",
    "df.Premise = df.Premise.str.replace('commercial or training school', 'comm bld')"
   ]
  },
  {
   "cell_type": "code",
   "execution_count": 22,
   "metadata": {},
   "outputs": [
    {
     "data": {
      "text/plain": [
       "comm prk            2895\n",
       "comm bld             561\n",
       "mall common area      29\n",
       "Name: Premise, dtype: int64"
      ]
     },
     "execution_count": 22,
     "metadata": {},
     "output_type": "execute_result"
    }
   ],
   "source": [
    "com = df.Premise.str.contains('comm')\n",
    "df[com].Premise.value_counts()"
   ]
  },
  {
   "cell_type": "code",
   "execution_count": 23,
   "metadata": {},
   "outputs": [
    {
     "data": {
      "text/plain": [
       "hotel        612\n",
       "hotel prk    252\n",
       "Name: Premise, dtype: int64"
      ]
     },
     "execution_count": 23,
     "metadata": {},
     "output_type": "execute_result"
    }
   ],
   "source": [
    "## hotel/motel\n",
    "\n",
    "hot = df.Premise.str.contains('hotel')\n",
    "df[hot].Premise.value_counts()\n",
    "\n",
    "df.Premise = df.Premise.str.replace('hotel motel etc.', 'hotel')\n",
    "df.Premise = df.Premise.str.replace('hotel  motel  inn  etc.', 'hotel')\n",
    "df.Premise = df.Premise.str.replace('hotel or motel parking lot', 'hotel prk')\n",
    "df.Premise = df.Premise.str.replace('hotel motel parking lot', 'hotel prk')\n",
    "df.Premise = df.Premise.str.replace('vacant hotel motel etc.', 'hotel')\n",
    "df.Premise = df.Premise.str.replace('vacant hotel  motel  etc.', 'hotel')\n",
    "df.Premise = df.Premise.str.replace('vacant hotel', 'hotel')\n",
    "\n",
    "\n",
    "hot = df.Premise.str.contains('hotel')\n",
    "df[hot].Premise.value_counts()"
   ]
  },
  {
   "cell_type": "code",
   "execution_count": 24,
   "metadata": {},
   "outputs": [
    {
     "data": {
      "text/plain": [
       "apartment                                                      1399\n",
       "apartment parking lot                                          1005\n",
       "apartment rental office                                          31\n",
       "vacant other residential apartment dorms                         18\n",
       "vacant other residential apartment inn dorms boarding house      13\n",
       "apartment laundry                                                10\n",
       "Name: Premise, dtype: int64"
      ]
     },
     "execution_count": 24,
     "metadata": {},
     "output_type": "execute_result"
    }
   ],
   "source": [
    "## apartments\n",
    "wrd = df.Premise.str.contains('apartment')\n",
    "df[wrd].Premise.value_counts()"
   ]
  },
  {
   "cell_type": "code",
   "execution_count": 25,
   "metadata": {},
   "outputs": [
    {
     "data": {
      "text/plain": [
       "apartment        1471\n",
       "apartment prk    1005\n",
       "Name: Premise, dtype: int64"
      ]
     },
     "execution_count": 25,
     "metadata": {},
     "output_type": "execute_result"
    }
   ],
   "source": [
    "df.Premise = df.Premise.str.replace('apartment parking lot', 'apartment prk')\n",
    "df.Premise = df.Premise.str.replace('apartment rental office', 'apartment')\n",
    "df.Premise = df.Premise.str.replace('vacant other residential apartment dorms', 'apartment')\n",
    "df.Premise = df.Premise.str.replace('vacant other residential apartment inn dorms boarding house', 'apartment')\n",
    "df.Premise = df.Premise.str.replace('apartment laundry', 'apartment')\n",
    "\n",
    "wrd = df.Premise.str.contains('apartment')\n",
    "df[wrd].Premise.value_counts()"
   ]
  },
  {
   "cell_type": "code",
   "execution_count": 26,
   "metadata": {},
   "outputs": [
    {
     "data": {
      "text/plain": [
       "residence house                                                       3020\n",
       "vacant single occupancy residence houses townhouses duplexes  etc.     136\n",
       "vacant single occ resdhouse townhs dplex                                83\n",
       "gym  recreat  club house  indoor pool  spa                              61\n",
       "warehouse                                                               54\n",
       "gym  recreat  club house  indoor pool                                   18\n",
       "vacant storage fac barn garage warehouse                                 5\n",
       "vacant storage facility barns garages warehouses etc.                    2\n",
       "Name: Premise, dtype: int64"
      ]
     },
     "execution_count": 26,
     "metadata": {},
     "output_type": "execute_result"
    }
   ],
   "source": [
    "## house\n",
    "wrd = df.Premise.str.contains('house')\n",
    "df[wrd].Premise.value_counts()"
   ]
  },
  {
   "cell_type": "code",
   "execution_count": 27,
   "metadata": {},
   "outputs": [
    {
     "data": {
      "text/plain": [
       "house                                                    3239\n",
       "gym  recreat  club house  indoor pool  spa                 61\n",
       "warehouse                                                  54\n",
       "gym  recreat  club house  indoor pool                      18\n",
       "vacant storage fac barn garage warehouse                    5\n",
       "vacant storage facility barns garages warehouses etc.       2\n",
       "Name: Premise, dtype: int64"
      ]
     },
     "execution_count": 27,
     "metadata": {},
     "output_type": "execute_result"
    }
   ],
   "source": [
    "df.Premise = df.Premise.str.replace('residence house', 'house')\n",
    "df.Premise = df.Premise.str.replace('vacant single occupancy residence houses townhouses duplexes  etc.', 'house')\n",
    "df.Premise = df.Premise.str.replace('vacant single occ resdhouse townhs dplex', 'house')\n",
    "df.Premise = df.Premise.str.replace('vacant single occupancy houses townhouses duplexes  etc.', 'house')\n",
    "\n",
    "wrd = df.Premise.str.contains('house')\n",
    "df[wrd].Premise.value_counts()"
   ]
  },
  {
   "cell_type": "code",
   "execution_count": 28,
   "metadata": {},
   "outputs": [
    {
     "data": {
      "text/plain": [
       "warehouse                                                54\n",
       "vacant storage fac barn garage warehouse                  5\n",
       "vacant storage facility barns garages warehouses etc.     2\n",
       "Name: Premise, dtype: int64"
      ]
     },
     "execution_count": 28,
     "metadata": {},
     "output_type": "execute_result"
    }
   ],
   "source": [
    "# warehouse\n",
    "wrd = df.Premise.str.contains('warehouse')\n",
    "df[wrd].Premise.value_counts()\n"
   ]
  },
  {
   "cell_type": "code",
   "execution_count": 29,
   "metadata": {},
   "outputs": [
    {
     "data": {
      "text/plain": [
       "warehouse                                                59\n",
       "vacant storage facility barns garages warehouses etc.     2\n",
       "Name: Premise, dtype: int64"
      ]
     },
     "execution_count": 29,
     "metadata": {},
     "output_type": "execute_result"
    }
   ],
   "source": [
    "df.Premise = df.Premise.str.replace('vacant storage fac barn garage warehouse', 'warehouse')\n",
    "\n",
    "\n",
    "wrd = df.Premise.str.contains('warehouse')\n",
    "df[wrd].Premise.value_counts()"
   ]
  },
  {
   "cell_type": "code",
   "execution_count": 30,
   "metadata": {},
   "outputs": [
    {
     "data": {
      "text/plain": [
       "bar night club                                           749\n",
       "bar or night club                                        515\n",
       "bar night club parking lot                               400\n",
       "bar or night club parking lot                            282\n",
       "barber and beauty shops                                   24\n",
       "vacant storage facility barns garages warehouses etc.      2\n",
       "Name: Premise, dtype: int64"
      ]
     },
     "execution_count": 30,
     "metadata": {},
     "output_type": "execute_result"
    }
   ],
   "source": [
    "# bar\n",
    "wrd = df.Premise.str.contains('bar')\n",
    "df[wrd].Premise.value_counts()"
   ]
  },
  {
   "cell_type": "code",
   "execution_count": 31,
   "metadata": {},
   "outputs": [
    {
     "data": {
      "text/plain": [
       "bar_nc                                                   1264\n",
       "bar_nc parking lot                                        682\n",
       "barber and beauty shops                                    24\n",
       "vacant storage facility barns garages warehouses etc.       2\n",
       "Name: Premise, dtype: int64"
      ]
     },
     "execution_count": 31,
     "metadata": {},
     "output_type": "execute_result"
    }
   ],
   "source": [
    "#df.Premise = df.Premise.str.replace('', '')\n",
    "df.Premise = df.Premise.str.replace('bar night club', 'bar_nc')\n",
    "\n",
    "df.Premise = df.Premise.str.replace('bar or night club', 'bar_nc')\n",
    "\n",
    "df.Premise = df.Premise.str.replace('bar or night club parking lot', 'bar_nc prk')\n",
    "\n",
    "wrd = df.Premise.str.contains('bar')\n",
    "df[wrd].Premise.value_counts()"
   ]
  },
  {
   "cell_type": "code",
   "execution_count": 32,
   "metadata": {},
   "outputs": [
    {
     "data": {
      "text/plain": [
       "other parking lot                           2261\n",
       "restaurant cafeteria parking lot             686\n",
       "bar_nc parking lot                           682\n",
       "convenience store parking lot                258\n",
       "strip business center parking lot            139\n",
       "grocery store or supermarket parking lot      80\n",
       "grocery supermarket parking lot               67\n",
       "hospital parking lot                          65\n",
       "bank saving institution parking lot           29\n",
       "mall parking lot                              19\n",
       "liquor store parking lot                      15\n",
       "bank or savings institution parking lot       13\n",
       "sexually oriented business parking lot        10\n",
       "laundry or dry cleaners parking lot            2\n",
       "laundry dry cleaners parking lot               1\n",
       "Name: Premise, dtype: int64"
      ]
     },
     "execution_count": 32,
     "metadata": {},
     "output_type": "execute_result"
    }
   ],
   "source": [
    "# parking\n",
    "\n",
    "wrd = df.Premise.str.contains('parking')\n",
    "df[wrd].Premise.value_counts()"
   ]
  },
  {
   "cell_type": "code",
   "execution_count": 33,
   "metadata": {},
   "outputs": [
    {
     "data": {
      "text/plain": [
       "Series([], Name: Premise, dtype: int64)"
      ]
     },
     "execution_count": 33,
     "metadata": {},
     "output_type": "execute_result"
    }
   ],
   "source": [
    "#df.Premise = df.Premise.str.replace('', '')\n",
    "df.Premise = df.Premise.str.replace('other parking lot', 'prk')\n",
    "df.Premise = df.Premise.str.replace('restaurant cafeteria parking lot', 'rest prk')\n",
    "df.Premise = df.Premise.str.replace('convenience store parking lot', 'store prk')\n",
    "df.Premise = df.Premise.str.replace('strip business center parking lot', 'store prk')\n",
    "df.Premise = df.Premise.str.replace('hospital parking lot', 'prk')\n",
    "df.Premise = df.Premise.str.replace('grocery store or supermarket parking lot', 'store prk')\n",
    "df.Premise = df.Premise.str.replace('grocery supermarket parking lot', 'store prk')\n",
    "df.Premise = df.Premise.str.replace('church synagogue temple parking lot', 'church prk')\n",
    "df.Premise = df.Premise.str.replace('bank saving institution parking lot', 'bank prk')\n",
    "df.Premise = df.Premise.str.replace('bank or savings institution parking lot', 'bank prk')\n",
    "df.Premise = df.Premise.str.replace('mall parking lot', 'store prk')\n",
    "df.Premise = df.Premise.str.replace('sexually oriented business parking lot', 'store prk')\n",
    "df.Premise = df.Premise.str.replace('church  synagogue  or temple parking lot', 'church prk')\n",
    "df.Premise = df.Premise.str.replace('laundry or dry cleaners parking lot', 'store prk')\n",
    "df.Premise = df.Premise.str.replace('liquor store parking lot', 'store prk')\n",
    "df.Premise = df.Premise.str.replace('laundry dry cleaners parking lot', 'store prk')\n",
    "df.Premise = df.Premise.str.replace('bar_nc parking lot', 'bar_nc prk')\n",
    "\n",
    "wrd = df.Premise.str.contains('parking')\n",
    "df[wrd].Premise.value_counts()"
   ]
  },
  {
   "cell_type": "code",
   "execution_count": 34,
   "metadata": {},
   "outputs": [
    {
     "data": {
      "text/plain": [
       "office building                                                                     525\n",
       "government public building                                                           76\n",
       "government or public building                                                        60\n",
       "vacant other structure out buildings monuments buildings under construction etc.     13\n",
       "vacant government or public building                                                  5\n",
       "maintenance building services                                                         5\n",
       "maintenance or building services                                                      4\n",
       "vacant government public building                                                     3\n",
       "Name: Premise, dtype: int64"
      ]
     },
     "execution_count": 34,
     "metadata": {},
     "output_type": "execute_result"
    }
   ],
   "source": [
    "# building\n",
    "wrd = df.Premise.str.contains('building')\n",
    "df[wrd].Premise.value_counts()"
   ]
  },
  {
   "cell_type": "code",
   "execution_count": 35,
   "metadata": {},
   "outputs": [
    {
     "data": {
      "text/plain": [
       "Series([], Name: Premise, dtype: int64)"
      ]
     },
     "execution_count": 35,
     "metadata": {},
     "output_type": "execute_result"
    }
   ],
   "source": [
    "#df.Premise = df.Premise.str.replace('', '')\n",
    "df.Premise = df.Premise.str.replace('office building', 'office bld')\n",
    "df.Premise = df.Premise.str.replace('government public building', 'public bld')\n",
    "df.Premise = df.Premise.str.replace('government or public building', 'public bld')\n",
    "df.Premise = df.Premise.str.replace('maintenance building services', 'office bld')\n",
    "df.Premise = df.Premise.str.replace('maintenance or building services', 'office bld')\n",
    "\n",
    "df.Premise = df.Premise.str.replace('vacant government or public building', 'public bld')\n",
    "df.Premise = df.Premise.str.replace('vacant other structure out buildings monuments buildings under construction etc.', 'office bld')\n",
    "\n",
    "wrd = df.Premise.str.contains('building')\n",
    "df[wrd].Premise.value_counts()"
   ]
  },
  {
   "cell_type": "code",
   "execution_count": 36,
   "metadata": {},
   "outputs": [
    {
     "data": {
      "text/plain": [
       "department discount store                    687\n",
       "store prk                                    591\n",
       "convenience store                            436\n",
       "grocery store or supermarket                 348\n",
       "specialty store non-specific                 129\n",
       "drug store medical supply                    126\n",
       "clothing store                               101\n",
       "vehicle auto sales lease auto parts store     72\n",
       "drug store or medical supply                  32\n",
       "liquor store                                  26\n",
       "electronics store  electrical sup.            23\n",
       "vacant grocery store or supermarket            7\n",
       "jewelry stores                                 5\n",
       "electronics store  electrical supplies         2\n",
       "furniture  appliances  radios  tv store        1\n",
       "toys  arts craft musical  bike pet stores      1\n",
       "Name: Premise, dtype: int64"
      ]
     },
     "execution_count": 36,
     "metadata": {},
     "output_type": "execute_result"
    }
   ],
   "source": [
    "# store\n",
    "\n",
    "wrd = df.Premise.str.contains('store')\n",
    "df[wrd].Premise.value_counts()"
   ]
  },
  {
   "cell_type": "code",
   "execution_count": 37,
   "metadata": {},
   "outputs": [
    {
     "data": {
      "text/plain": [
       "store                                      1972\n",
       "store prk                                   591\n",
       "electronics store  electrical sup.           23\n",
       "furniture  appliances  radios  tv store       1\n",
       "Name: Premise, dtype: int64"
      ]
     },
     "execution_count": 37,
     "metadata": {},
     "output_type": "execute_result"
    }
   ],
   "source": [
    "#df.Premise = df.Premise.str.replace('', '')\n",
    "df.Premise = df.Premise.str.replace('department discount store', 'store')\n",
    "df.Premise = df.Premise.str.replace('convenience store', 'store')\n",
    "df.Premise = df.Premise.str.replace('clothing store', 'store')\n",
    "df.Premise = df.Premise.str.replace('specialty store non-specific', 'store')\n",
    "df.Premise = df.Premise.str.replace('vehicle auto sales lease auto parts store', 'store')\n",
    "df.Premise = df.Premise.str.replace('drug store medical supply', 'store')\n",
    "df.Premise = df.Premise.str.replace('liquor store', 'store')\n",
    "df.Premise = df.Premise.str.replace('electronics store  electrical supply.', 'store')\n",
    "df.Premise = df.Premise.str.replace('jewelry stores', 'store')\n",
    "df.Premise = df.Premise.str.replace('electronics store  electrical supplies', 'store')\n",
    "df.Premise = df.Premise.str.replace('vacant grocery store or supermarket', 'store')\n",
    "df.Premise = df.Premise.str.replace('toys  arts craft musical  bike pet stores', 'store')\n",
    "df.Premise = df.Premise.str.replace('grocery store or supermarket', 'store')\n",
    "df.Premise = df.Premise.str.replace('drug store or medical supply', 'store')\n",
    "#df.Premise = df.Premise.str.replace('storelies', 'store')\n",
    "\n",
    "wrd = df.Premise.str.contains('store')\n",
    "df[wrd].Premise.value_counts()"
   ]
  },
  {
   "cell_type": "code",
   "execution_count": 38,
   "metadata": {},
   "outputs": [
    {
     "data": {
      "text/plain": [
       "rest prk                      686\n",
       "restaurant cafeteria          414\n",
       "restaurant or cafeteria       277\n",
       "field  woods  forest  park     44\n",
       "vacant restaurant              15\n",
       "Name: Premise, dtype: int64"
      ]
     },
     "execution_count": 38,
     "metadata": {},
     "output_type": "execute_result"
    }
   ],
   "source": [
    "# restaurant\n",
    "wrd = df.Premise.str.contains('rest')\n",
    "df[wrd].Premise.value_counts()"
   ]
  },
  {
   "cell_type": "code",
   "execution_count": 39,
   "metadata": {},
   "outputs": [
    {
     "data": {
      "text/plain": [
       "rest                          706\n",
       "rest prk                      686\n",
       "field  woods  forest  park     44\n",
       "Name: Premise, dtype: int64"
      ]
     },
     "execution_count": 39,
     "metadata": {},
     "output_type": "execute_result"
    }
   ],
   "source": [
    "df.Premise = df.Premise.str.replace('restaurant cafeteria', 'rest')\n",
    "df.Premise = df.Premise.str.replace('restaurant or cafeteria', 'rest')\n",
    "df.Premise = df.Premise.str.replace('vacant restaurant', 'rest')\n",
    "\n",
    "wrd = df.Premise.str.contains('rest')\n",
    "df[wrd].Premise.value_counts()"
   ]
  },
  {
   "cell_type": "code",
   "execution_count": 40,
   "metadata": {},
   "outputs": [
    {
     "data": {
      "text/plain": [
       "other unknown                    1127\n",
       "other  unknown  or not listed     414\n",
       "Name: Premise, dtype: int64"
      ]
     },
     "execution_count": 40,
     "metadata": {},
     "output_type": "execute_result"
    }
   ],
   "source": [
    "#unk\n",
    "\n",
    "wrd = df.Premise.str.contains('unknown')\n",
    "df[wrd].Premise.value_counts()"
   ]
  },
  {
   "cell_type": "code",
   "execution_count": 41,
   "metadata": {},
   "outputs": [
    {
     "data": {
      "text/plain": [
       "Series([], Name: Premise, dtype: int64)"
      ]
     },
     "execution_count": 41,
     "metadata": {},
     "output_type": "execute_result"
    }
   ],
   "source": [
    "\n",
    "\n",
    "\n",
    "#df.Premise = df.Premise.str.replace('', '')\n",
    "df.Premise = df.Premise.str.replace('other unknown', 'unk')\n",
    "df.Premise = df.Premise.str.replace('other  unknown  or not listed', 'unk')\n",
    "df.Premise = df.Premise.str.replace('---', 'unk')\n",
    "\n",
    "wrd = df.Premise.str.contains('unknown')\n",
    "df[wrd].Premise.value_counts()"
   ]
  },
  {
   "cell_type": "code",
   "execution_count": 42,
   "metadata": {},
   "outputs": [
    {
     "data": {
      "text/plain": [
       "miscellaneous business non-specific    268\n",
       "misc. business non-specific            173\n",
       "Name: Premise, dtype: int64"
      ]
     },
     "execution_count": 42,
     "metadata": {},
     "output_type": "execute_result"
    }
   ],
   "source": [
    "# miscellaneous\n",
    "\n",
    "\n",
    "wrd = df.Premise.str.contains('misc')\n",
    "df[wrd].Premise.value_counts()"
   ]
  },
  {
   "cell_type": "code",
   "execution_count": 43,
   "metadata": {},
   "outputs": [
    {
     "data": {
      "text/plain": [
       "Series([], Name: Premise, dtype: int64)"
      ]
     },
     "execution_count": 43,
     "metadata": {},
     "output_type": "execute_result"
    }
   ],
   "source": [
    "#df.Premise = df.Premise.str.replace('', '')\n",
    "df.Premise = df.Premise.str.replace('miscellaneous business non-specific', 'store')\n",
    "df.Premise = df.Premise.str.replace('misc. business non-specific', 'store')\n",
    "\n",
    "\n",
    "\n",
    "wrd = df.Premise.str.contains('misc')\n",
    "df[wrd].Premise.value_counts()"
   ]
  },
  {
   "cell_type": "code",
   "execution_count": 44,
   "metadata": {},
   "outputs": [
    {
     "data": {
      "text/plain": [
       "stadium  sports arena  race track    135\n",
       "stadium sprts arena race track       105\n",
       "Name: Premise, dtype: int64"
      ]
     },
     "execution_count": 44,
     "metadata": {},
     "output_type": "execute_result"
    }
   ],
   "source": [
    "## stadium\n",
    "\n",
    "wrd = df.Premise.str.contains('stadium')\n",
    "df[wrd].Premise.value_counts()"
   ]
  },
  {
   "cell_type": "code",
   "execution_count": 45,
   "metadata": {},
   "outputs": [
    {
     "data": {
      "text/plain": [
       "stadium    240\n",
       "Name: Premise, dtype: int64"
      ]
     },
     "execution_count": 45,
     "metadata": {},
     "output_type": "execute_result"
    }
   ],
   "source": [
    "#df.Premise = df.Premise.str.replace('', '')\n",
    "df.Premise = df.Premise.str.replace('stadium  sports arena  race track', 'stadium')\n",
    "df.Premise = df.Premise.str.replace('stadium sprts arena race track', 'stadium')\n",
    "\n",
    "\n",
    "wrd = df.Premise.str.contains('stadium')\n",
    "df[wrd].Premise.value_counts()"
   ]
  },
  {
   "cell_type": "code",
   "execution_count": 46,
   "metadata": {},
   "outputs": [
    {
     "data": {
      "text/plain": [
       "no label                    1771\n",
       "train not metro terminal       6\n",
       "not listed                     3\n",
       "Name: Premise, dtype: int64"
      ]
     },
     "execution_count": 46,
     "metadata": {},
     "output_type": "execute_result"
    }
   ],
   "source": [
    "# no label\n",
    "\n",
    "wrd = df.Premise.str.contains('no')\n",
    "df[wrd].Premise.value_counts()"
   ]
  },
  {
   "cell_type": "code",
   "execution_count": 47,
   "metadata": {},
   "outputs": [
    {
     "data": {
      "text/plain": [
       "train not metro terminal    6\n",
       "Name: Premise, dtype: int64"
      ]
     },
     "execution_count": 47,
     "metadata": {},
     "output_type": "execute_result"
    }
   ],
   "source": [
    "\n",
    "#df.Premise = df.Premise.str.replace('', '')\n",
    "df.Premise = df.Premise.str.replace('no label', 'unk')\n",
    "df.Premise = df.Premise.str.replace('not listed', 'unk')\n",
    "\n",
    "\n",
    "wrd = df.Premise.str.contains('no')\n",
    "df[wrd].Premise.value_counts()"
   ]
  },
  {
   "cell_type": "code",
   "execution_count": 48,
   "metadata": {},
   "outputs": [
    {
     "data": {
      "text/plain": [
       "parks & recreation  zoo  swim pool           214\n",
       "parks and recreation  zoo  swimming pool     137\n",
       "field  woods  forest  park                    44\n",
       "park and ride terminal                        20\n",
       "amusement park  bowling alley  skate rink     15\n",
       "amuse. park bowl. alley skate rink            14\n",
       "park & ride terminal                           7\n",
       "Name: Premise, dtype: int64"
      ]
     },
     "execution_count": 48,
     "metadata": {},
     "output_type": "execute_result"
    }
   ],
   "source": [
    "# park\n",
    "\n",
    "wrd = df.Premise.str.contains('park')\n",
    "df[wrd].Premise.value_counts()\n"
   ]
  },
  {
   "cell_type": "code",
   "execution_count": 49,
   "metadata": {},
   "outputs": [
    {
     "data": {
      "text/plain": [
       "parks                     424\n",
       "park and ride terminal     20\n",
       "park & ride terminal        7\n",
       "Name: Premise, dtype: int64"
      ]
     },
     "execution_count": 49,
     "metadata": {},
     "output_type": "execute_result"
    }
   ],
   "source": [
    "#df.Premise = df.Premise.str.replace('', '')\n",
    "df.Premise = df.Premise.str.replace('parks & recreation  zoo  swim pool', 'parks')\n",
    "df.Premise = df.Premise.str.replace('parks and recreation  zoo  swimming pool', 'parks')\n",
    "df.Premise = df.Premise.str.replace('field  woods  forest  park', 'parks')\n",
    "\n",
    "df.Premise = df.Premise.str.replace('amuse. park bowl. alley skate rink', 'parks')\n",
    "df.Premise = df.Premise.str.replace('amusement park  bowling alley  skate rink', 'parks')\n",
    "\n",
    "\n",
    "\n",
    "wrd = df.Premise.str.contains('park')\n",
    "df[wrd].Premise.value_counts()"
   ]
  },
  {
   "cell_type": "code",
   "execution_count": 50,
   "metadata": {},
   "outputs": [
    {
     "data": {
      "text/plain": [
       "garage or carport                                        151\n",
       "garage carport                                            92\n",
       "vacant storage facility barns garages warehouses etc.      2\n",
       "Name: Premise, dtype: int64"
      ]
     },
     "execution_count": 50,
     "metadata": {},
     "output_type": "execute_result"
    }
   ],
   "source": [
    "# garage\n",
    "\n",
    "wrd = df.Premise.str.contains('garage')\n",
    "df[wrd].Premise.value_counts()"
   ]
  },
  {
   "cell_type": "code",
   "execution_count": 51,
   "metadata": {},
   "outputs": [
    {
     "data": {
      "text/plain": [
       "vacant storage facility barns garages warehouses etc.    2\n",
       "Name: Premise, dtype: int64"
      ]
     },
     "execution_count": 51,
     "metadata": {},
     "output_type": "execute_result"
    }
   ],
   "source": [
    "#df.Premise = df.Premise.str.replace('', '')\n",
    "df.Premise = df.Premise.str.replace('garage or carport', 'prk')\n",
    "df.Premise = df.Premise.str.replace('garage carport', 'prk')\n",
    "\n",
    "\n",
    "wrd = df.Premise.str.contains('garage')\n",
    "df[wrd].Premise.value_counts()"
   ]
  },
  {
   "cell_type": "code",
   "execution_count": 52,
   "metadata": {},
   "outputs": [
    {
     "data": {
      "text/plain": [
       "light rail platform               90\n",
       "light rail metro rail vehicle     76\n",
       "railroad track right of way        8\n",
       "railroad track or right of way     5\n",
       "light rail vehicle                 4\n",
       "Name: Premise, dtype: int64"
      ]
     },
     "execution_count": 52,
     "metadata": {},
     "output_type": "execute_result"
    }
   ],
   "source": [
    "# bus /metro\n",
    "\n",
    "wrd = df.Premise.str.contains('rail')\n",
    "df[wrd].Premise.value_counts()"
   ]
  },
  {
   "cell_type": "code",
   "execution_count": 53,
   "metadata": {},
   "outputs": [
    {
     "data": {
      "text/plain": [
       "university college                     92\n",
       "university or college                  38\n",
       "vacant school or college university    11\n",
       "Name: Premise, dtype: int64"
      ]
     },
     "execution_count": 53,
     "metadata": {},
     "output_type": "execute_result"
    }
   ],
   "source": [
    "wrd = df.Premise.str.contains('university')\n",
    "df[wrd].Premise.value_counts()"
   ]
  },
  {
   "cell_type": "code",
   "execution_count": 54,
   "metadata": {},
   "outputs": [
    {
     "data": {
      "text/plain": [
       "college                  141\n",
       "vacant school college      2\n",
       "Name: Premise, dtype: int64"
      ]
     },
     "execution_count": 54,
     "metadata": {},
     "output_type": "execute_result"
    }
   ],
   "source": [
    "#df.Premise = df.Premise.str.replace('', '')\n",
    "df.Premise = df.Premise.str.replace('university college', 'college')\n",
    "df.Premise = df.Premise.str.replace('university or college', 'college')\n",
    "df.Premise = df.Premise.str.replace('vacant school or college university', 'college')\n",
    "wrd = df.Premise.str.contains('college')\n",
    "df[wrd].Premise.value_counts()"
   ]
  },
  {
   "cell_type": "code",
   "execution_count": 55,
   "metadata": {},
   "outputs": [
    {
     "data": {
      "text/plain": [
       "high school              112\n",
       "elementary school         15\n",
       "private school            13\n",
       "middle school             10\n",
       "vacant school college      2\n",
       "Name: Premise, dtype: int64"
      ]
     },
     "execution_count": 55,
     "metadata": {},
     "output_type": "execute_result"
    }
   ],
   "source": [
    "wrd = df.Premise.str.contains('school')\n",
    "df[wrd].Premise.value_counts()"
   ]
  },
  {
   "cell_type": "code",
   "execution_count": 56,
   "metadata": {},
   "outputs": [
    {
     "data": {
      "text/plain": [
       "school                   150\n",
       "vacant school college      2\n",
       "Name: Premise, dtype: int64"
      ]
     },
     "execution_count": 56,
     "metadata": {},
     "output_type": "execute_result"
    }
   ],
   "source": [
    "\n",
    "df.Premise = df.Premise.str.replace('high school', 'school')\n",
    "df.Premise = df.Premise.str.replace('private school', 'school')\n",
    "df.Premise = df.Premise.str.replace('elementary school', 'school')\n",
    "df.Premise = df.Premise.str.replace('middle school', 'school')\n",
    "\n",
    "wrd = df.Premise.str.contains('school')\n",
    "df[wrd].Premise.value_counts()\n"
   ]
  },
  {
   "cell_type": "code",
   "execution_count": 57,
   "metadata": {},
   "outputs": [
    {
     "data": {
      "text/plain": [
       "bus_rail    913\n",
       "Name: Premise, dtype: int64"
      ]
     },
     "execution_count": 57,
     "metadata": {},
     "output_type": "execute_result"
    }
   ],
   "source": [
    "#df.Premise = df.Premise.str.replace('', '')\n",
    "df.Premise = df.Premise.str.replace('bus stop', 'bus_rail')\n",
    "df.Premise = df.Premise.str.replace('bus station', 'bus_rail')\n",
    "df.Premise = df.Premise.str.replace('light rail metro rail vehicle', 'bus_rail')\n",
    "df.Premise = df.Premise.str.replace('train not metro terminal', 'bus_rail')\n",
    "df.Premise = df.Premise.str.replace('light rail platform', 'bus_rail')\n",
    "df.Premise = df.Premise.str.replace('light rail metro rail vehicle', 'bus_rail')\n",
    "df.Premise = df.Premise.str.replace('railroad track right of way', 'bus_rail')\n",
    "df.Premise = df.Premise.str.replace('light rail vehicle', 'bus_rail')\n",
    "df.Premise = df.Premise.str.replace('railroad track or right of way', 'bus_rail')\n",
    "df.Premise = df.Premise.str.replace('park and ride terminal', 'bus_rail')\n",
    "df.Premise = df.Premise.str.replace('park & ride terminal', 'bus_rail')\n",
    "\n",
    "\n",
    "wrd = df.Premise.str.contains('rail')\n",
    "df[wrd].Premise.value_counts()"
   ]
  },
  {
   "cell_type": "code",
   "execution_count": 58,
   "metadata": {},
   "outputs": [
    {
     "data": {
      "text/plain": [
       "convention center or exhibit halls    98\n",
       "convention center exhibit halls       88\n",
       "Name: Premise, dtype: int64"
      ]
     },
     "execution_count": 58,
     "metadata": {},
     "output_type": "execute_result"
    }
   ],
   "source": [
    "## convention\n",
    "\n",
    "wrd = df.Premise.str.contains('conv')\n",
    "df[wrd].Premise.value_counts()"
   ]
  },
  {
   "cell_type": "code",
   "execution_count": null,
   "metadata": {},
   "outputs": [],
   "source": []
  },
  {
   "cell_type": "code",
   "execution_count": 59,
   "metadata": {},
   "outputs": [
    {
     "data": {
      "text/plain": [
       "convention    186\n",
       "Name: Premise, dtype: int64"
      ]
     },
     "execution_count": 59,
     "metadata": {},
     "output_type": "execute_result"
    }
   ],
   "source": [
    "#df.Premise = df.Premise.str.replace('', '')\n",
    "df.Premise = df.Premise.str.replace('convention center or exhibit halls', 'convention')\n",
    "df.Premise = df.Premise.str.replace('convention center exhibit halls', 'convention')\n",
    "\n",
    "\n",
    "wrd = df.Premise.str.contains('conv')\n",
    "df[wrd].Premise.value_counts()"
   ]
  },
  {
   "cell_type": "code",
   "execution_count": 60,
   "metadata": {},
   "outputs": [],
   "source": [
    "df.Premise = df.Premise.str.replace('libraries  museums', 'libraries')\n"
   ]
  },
  {
   "cell_type": "code",
   "execution_count": 61,
   "metadata": {},
   "outputs": [],
   "source": [
    "#df.Premise = df.Premise.str.replace('', '')\n",
    "df.Premise = df.Premise.str.replace('service gas station', 'store')\n",
    "df.Premise = df.Premise.str.replace('service or gas station', 'store')\n",
    "df.Premise = df.Premise.str.replace('utility company electric gas water', 'public bld')\n",
    "df.Premise = df.Premise.str.replace('utility company  electric  gas  water', 'public bld')\n",
    "\n",
    "\n",
    "#df.Premise = df.Premise.str.replace('', '')\n",
    "df.Premise = df.Premise.str.replace('condominium', 'house')\n",
    "\n",
    "\n",
    "\n",
    "#df.Premise = df.Premise.str.replace('', '')\n",
    "df.Premise = df.Premise.str.replace('multi-plex home duplex triplex etc.', 'house')\n",
    "df.Premise = df.Premise.str.replace('mobile home', 'house')\n",
    "df.Premise = df.Premise.str.replace('nursing home', 'house')\n",
    "df.Premise = df.Premise.str.replace('multi-plex hmeduplex triplex etc', 'house')\n",
    "\n",
    "\n",
    "#df.Premise = df.Premise.str.replace('', '')\n",
    "df.Premise = df.Premise.str.replace('gym recreat club hse indr pool spa', 'gym')\n",
    "df.Premise = df.Premise.str.replace('gym  recreat  club house  indoor pool  spa', 'gym')\n",
    "df.Premise = df.Premise.str.replace('gym  recreat  club house  indoor pool', 'gym')\n",
    "\n",
    "#df.Premise = df.Premise.str.replace('', '')\n",
    "df.Premise = df.Premise.str.replace('grocery supermarket', 'store')\n",
    "df.Premise = df.Premise.str.replace('pawn  resale shop  or flea market', 'store')\n",
    "df.Premise = df.Premise.str.replace('pawn resale shop flea market', 'store')\n",
    "\n",
    "df.Premise = df.Premise.str.replace('construction site', 'constr')\n"
   ]
  },
  {
   "cell_type": "code",
   "execution_count": 62,
   "metadata": {},
   "outputs": [
    {
     "data": {
      "text/plain": [
       "95"
      ]
     },
     "execution_count": 62,
     "metadata": {},
     "output_type": "execute_result"
    }
   ],
   "source": [
    "len(df.Premise.value_counts())"
   ]
  },
  {
   "cell_type": "code",
   "execution_count": 63,
   "metadata": {},
   "outputs": [
    {
     "data": {
      "text/plain": [
       "'data/crime_rockets_final.csv'"
      ]
     },
     "execution_count": 63,
     "metadata": {},
     "output_type": "execute_result"
    }
   ],
   "source": [
    "path "
   ]
  },
  {
   "cell_type": "code",
   "execution_count": 64,
   "metadata": {},
   "outputs": [],
   "source": [
    "df.to_csv('data/crime_rockets_finalA.csv')"
   ]
  },
  {
   "cell_type": "code",
   "execution_count": 65,
   "metadata": {},
   "outputs": [
    {
     "data": {
      "text/plain": [
       "street                                                   10171\n",
       "house                                                     3707\n",
       "store                                                     3519\n",
       "unk                                                       3432\n",
       "comm prk                                                  2895\n",
       "prk                                                       2569\n",
       "apartment                                                 1471\n",
       "bar_nc                                                    1264\n",
       "apartment prk                                             1005\n",
       "bus_rail                                                   913\n",
       "rest                                                       706\n",
       "rest prk                                                   686\n",
       "bar_nc prk                                                 682\n",
       "hotel                                                      612\n",
       "driveway                                                   599\n",
       "store prk                                                  591\n",
       "comm bld                                                   561\n",
       "office bld                                                 547\n",
       "parks                                                      424\n",
       "hotel prk                                                  252\n",
       "constr                                                     249\n",
       "stadium                                                    240\n",
       "church                                                     194\n",
       "convention                                                 186\n",
       "hospital                                                   164\n",
       "gym                                                        163\n",
       "school                                                     150\n",
       "public bld                                                 144\n",
       "college                                                    141\n",
       "libraries                                                  140\n",
       "                                                         ...  \n",
       "lake waterway bayou                                          7\n",
       "car wash                                                     7\n",
       "credit union                                                 6\n",
       "vacant industrial or manufacturing blding                    5\n",
       "furniture  appliances  radios  tv                            5\n",
       "check cashing places                                         5\n",
       "vacant hospital                                              5\n",
       "sexually oriented club                                       5\n",
       "body shop                                                    4\n",
       "daycare child care kindergarten                              4\n",
       "daycare  child care  or kindergarten                         3\n",
       "factory  manufacturing  or industrial                        3\n",
       "package facility fedex ups dhl                               2\n",
       "vacant school college                                        2\n",
       "garden supply  nursery  or florist                           2\n",
       "06                                                           2\n",
       "vacant store                                                 2\n",
       "vacant industrial manufacturing industrial                   2\n",
       "vacant storage facility barns garages warehouses etc.        2\n",
       "pool hall game room                                          1\n",
       "savings and loan institutions                                1\n",
       "lake  pond  waterway  bayou  river                           1\n",
       "garden supply  nursery  florist                              1\n",
       "contra-flow hov                                              1\n",
       "vacant jail or prison                                        1\n",
       "tollway                                                      1\n",
       "furniture  appliances  radios  tv store                      1\n",
       "toys arts & craft musical bike pet                           1\n",
       "marine veh. sales boats sailboats                            1\n",
       "sporting goods gun shops                                     1\n",
       "Name: Premise, Length: 95, dtype: int64"
      ]
     },
     "execution_count": 65,
     "metadata": {},
     "output_type": "execute_result"
    }
   ],
   "source": [
    "df.Premise.value_counts()"
   ]
  },
  {
   "cell_type": "code",
   "execution_count": null,
   "metadata": {},
   "outputs": [],
   "source": []
  },
  {
   "cell_type": "code",
   "execution_count": null,
   "metadata": {},
   "outputs": [],
   "source": []
  },
  {
   "cell_type": "code",
   "execution_count": null,
   "metadata": {},
   "outputs": [],
   "source": []
  }
 ],
 "metadata": {
  "kernelspec": {
   "display_name": "Python 3",
   "language": "python",
   "name": "python3"
  },
  "language_info": {
   "codemirror_mode": {
    "name": "ipython",
    "version": 3
   },
   "file_extension": ".py",
   "mimetype": "text/x-python",
   "name": "python",
   "nbconvert_exporter": "python",
   "pygments_lexer": "ipython3",
   "version": "3.6.4"
  }
 },
 "nbformat": 4,
 "nbformat_minor": 2
}
