{
 "cells": [
  {
   "cell_type": "markdown",
   "metadata": {},
   "source": [
    "# Questions\n",
    "## From a dataset of reported type 1 crimes in Houston Texas from 2010- 2017\n",
    "## only from selected police beats around stadiums\n",
    "\n",
    "- Type of offense  max values\n",
    "- Total crimes by week\n",
    "- Total crimes by Month\n",
    "- Total crimes by Year\n",
    "- Total crimes by the Hour\n",
    "- Total crimes by the top 10 Premise locations\n",
    "- Total crimes by the top 10 (Police) Beat location\n",
    "- Compare the two lowest offense types (rape & murder) by Year, Month, Weekday"
   ]
  },
  {
   "cell_type": "code",
   "execution_count": 1,
   "metadata": {},
   "outputs": [
    {
     "ename": "NameError",
     "evalue": "name 'df' is not defined",
     "output_type": "error",
     "traceback": [
      "\u001b[0;31m---------------------------------------------------------------------------\u001b[0m",
      "\u001b[0;31mNameError\u001b[0m                                 Traceback (most recent call last)",
      "\u001b[0;32m<ipython-input-1-e4df374cf6c3>\u001b[0m in \u001b[0;36m<module>\u001b[0;34m()\u001b[0m\n\u001b[1;32m     14\u001b[0m \u001b[0;34m\u001b[0m\u001b[0m\n\u001b[1;32m     15\u001b[0m \u001b[0mcurrent_palette\u001b[0m \u001b[0;34m=\u001b[0m \u001b[0msns\u001b[0m\u001b[0;34m.\u001b[0m\u001b[0mcolor_palette\u001b[0m\u001b[0;34m(\u001b[0m\u001b[0;34m\"hls\"\u001b[0m\u001b[0;34m,\u001b[0m \u001b[0;36m8\u001b[0m\u001b[0;34m)\u001b[0m\u001b[0;34m\u001b[0m\u001b[0m\n\u001b[0;32m---> 16\u001b[0;31m \u001b[0;32mimport\u001b[0m \u001b[0mplot_func\u001b[0m \u001b[0;32mas\u001b[0m \u001b[0mpf\u001b[0m\u001b[0;34m\u001b[0m\u001b[0m\n\u001b[0m",
      "\u001b[0;32m/mnt/c/Users/frank/Documents/linux_dev/SpringboardCapstone/data_exploration/plot_func.py\u001b[0m in \u001b[0;36m<module>\u001b[0;34m()\u001b[0m\n\u001b[1;32m      7\u001b[0m \u001b[0;34m\u001b[0m\u001b[0m\n\u001b[1;32m      8\u001b[0m \u001b[0;34m\u001b[0m\u001b[0m\n\u001b[0;32m----> 9\u001b[0;31m \u001b[0mdf\u001b[0m\u001b[0;34m[\u001b[0m\u001b[0;34m'address'\u001b[0m\u001b[0;34m]\u001b[0m  \u001b[0;34m=\u001b[0m \u001b[0mdf\u001b[0m\u001b[0;34m[\u001b[0m\u001b[0;34m[\u001b[0m\u001b[0;34m'block'\u001b[0m\u001b[0;34m,\u001b[0m \u001b[0;34m'StreetName'\u001b[0m\u001b[0;34m]\u001b[0m\u001b[0;34m]\u001b[0m\u001b[0;34m.\u001b[0m\u001b[0mapply\u001b[0m\u001b[0;34m(\u001b[0m\u001b[0;32mlambda\u001b[0m \u001b[0mx\u001b[0m\u001b[0;34m:\u001b[0m \u001b[0;34m' '\u001b[0m\u001b[0;34m.\u001b[0m\u001b[0mjoin\u001b[0m\u001b[0;34m(\u001b[0m\u001b[0mx\u001b[0m\u001b[0;34m)\u001b[0m\u001b[0;34m,\u001b[0m \u001b[0maxis\u001b[0m\u001b[0;34m=\u001b[0m\u001b[0;36m1\u001b[0m\u001b[0;34m)\u001b[0m\u001b[0;34m\u001b[0m\u001b[0m\n\u001b[0m\u001b[1;32m     10\u001b[0m \u001b[0;34m\u001b[0m\u001b[0m\n\u001b[1;32m     11\u001b[0m \u001b[0;34m\u001b[0m\u001b[0m\n",
      "\u001b[0;31mNameError\u001b[0m: name 'df' is not defined"
     ]
    }
   ],
   "source": [
    "import pandas as pd\n",
    "import numpy as np\n",
    "import glob, os\n",
    "import warnings\n",
    "warnings.filterwarnings('ignore')\n",
    "\n",
    "import matplotlib.pyplot as plt\n",
    "import seaborn as sns\n",
    "import datetime as dt\n",
    "sns.set_style(\"darkgrid\")\n",
    "#sns.set_context(\"paper\")\n",
    "#sns.despine()\n",
    "#sns.despine(left=True)\n",
    "\n",
    "current_palette = sns.color_palette(\"hls\", 8)\n",
    "import plot_func as pf"
   ]
  },
  {
   "cell_type": "code",
   "execution_count": null,
   "metadata": {},
   "outputs": [],
   "source": [
    "ls beat_crime/"
   ]
  },
  {
   "cell_type": "markdown",
   "metadata": {},
   "source": [
    "## Load Dataset"
   ]
  },
  {
   "cell_type": "code",
   "execution_count": null,
   "metadata": {},
   "outputs": [],
   "source": [
    "# path of files\n",
    "path = 'beat_crime/'\n",
    "# combine path files\n",
    "all_files = glob.glob(os.path.join(path, \"*.csv\")) \n",
    "# loop over\n",
    "df_from_each_file = (pd.read_csv(f) for f in all_files)\n",
    "df  = pd.concat(df_from_each_file, ignore_index=True)\n",
    "##  change date as datetime and index\n",
    "df['Date'] = pd.to_datetime(df['Date'])\n",
    "df = df.set_index('Date').sort_index(ascending=True)\n",
    "df.head()"
   ]
  },
  {
   "cell_type": "code",
   "execution_count": null,
   "metadata": {},
   "outputs": [],
   "source": [
    "df.info()"
   ]
  },
  {
   "cell_type": "code",
   "execution_count": null,
   "metadata": {},
   "outputs": [],
   "source": [
    "df.Hour.value_counts(dropna=False)"
   ]
  },
  {
   "cell_type": "markdown",
   "metadata": {},
   "source": [
    "## Selected police beats"
   ]
  },
  {
   "cell_type": "code",
   "execution_count": null,
   "metadata": {},
   "outputs": [],
   "source": [
    "print(df.Beat.value_counts(dropna=False))"
   ]
  },
  {
   "cell_type": "markdown",
   "metadata": {},
   "source": [
    "## Offense Type"
   ]
  },
  {
   "cell_type": "code",
   "execution_count": null,
   "metadata": {},
   "outputs": [],
   "source": [
    "df.OffenseType.value_counts(dropna=False)"
   ]
  },
  {
   "cell_type": "code",
   "execution_count": null,
   "metadata": {},
   "outputs": [],
   "source": [
    "def barplot(frame,col,title,nums=True,save=False):    \n",
    "    fig,ax = plt.subplots(figsize=(10,5))\n",
    "    ax = sns.countplot(x=col,data=frame,alpha=0.65, order=frame['{}'.format(col)].value_counts().index)\n",
    "    max_value = frame['{}'.format(col)].value_counts().max()\n",
    "\n",
    "    plt.ylim(0,max_value+(max_value/8))\n",
    "    ax.set_xticklabels(ax.get_xticklabels(), rotation=20, ha=\"right\")\n",
    "    ax.set_title(title)\n",
    "\n",
    "    height_factor=1.05\n",
    "    if nums == True:\n",
    "        for i in ax.patches:\n",
    "            height = i.get_height()\n",
    "            ax.text(i.get_x() + i.get_width()/2., height_factor*height,'%d' % int(height), ha='center', va='bottom')\n",
    "\n",
    "    if save==True:\n",
    "        plt.savefig('{}.png'.format(title))"
   ]
  },
  {
   "cell_type": "code",
   "execution_count": null,
   "metadata": {},
   "outputs": [],
   "source": [
    "print(plt.style.available)"
   ]
  },
  {
   "cell_type": "code",
   "execution_count": null,
   "metadata": {},
   "outputs": [],
   "source": [
    "plt.style.use(['ggplot'])\n",
    "#sns.set_style(\"darkgrid\", {\"axes.facecolor\": \".9\"})\n",
    "\n",
    "\n",
    "t='2010-2017 Total Offenses'\n",
    "\n",
    "\n",
    "pf.barplot(df,'OffenseType',t,save=True)"
   ]
  },
  {
   "cell_type": "markdown",
   "metadata": {},
   "source": [
    "## Offense Type & Year"
   ]
  },
  {
   "cell_type": "code",
   "execution_count": null,
   "metadata": {
    "scrolled": true
   },
   "outputs": [],
   "source": [
    "t='Total Offenses :Year'\n",
    "\n",
    "\n",
    "pf.barplot(df,'year',t,save=True)"
   ]
  },
  {
   "cell_type": "markdown",
   "metadata": {},
   "source": [
    "## OffenseType and Month"
   ]
  },
  {
   "cell_type": "code",
   "execution_count": null,
   "metadata": {},
   "outputs": [],
   "source": [
    "t='Total Offenses :Month'\n",
    "xlab = ''\n",
    "ylab = ''\n",
    "\n",
    "pf.barplot(df,'month',t,save=True)"
   ]
  },
  {
   "cell_type": "markdown",
   "metadata": {},
   "source": [
    "## Offensetype and Weekday"
   ]
  },
  {
   "cell_type": "code",
   "execution_count": null,
   "metadata": {},
   "outputs": [],
   "source": [
    "t='Total Offenses :Weekday'\n",
    "xlab = ''\n",
    "ylab = ''\n",
    "\n",
    "pf.barplot(df,'weekday',t,save=True)"
   ]
  },
  {
   "cell_type": "markdown",
   "metadata": {},
   "source": [
    "## OffenseType and Hour"
   ]
  },
  {
   "cell_type": "code",
   "execution_count": null,
   "metadata": {},
   "outputs": [],
   "source": [
    "t='Total Offenses :Hour'\n",
    "xlab = ''\n",
    "ylab = ''\n",
    "\n",
    "pf.barplot(df,'Hour',t,nums=False,save=True)"
   ]
  },
  {
   "cell_type": "markdown",
   "metadata": {},
   "source": [
    "## OffenseType & Day"
   ]
  },
  {
   "cell_type": "code",
   "execution_count": null,
   "metadata": {},
   "outputs": [],
   "source": [
    "t='Total Offenses :Day'\n",
    "xlab = ''\n",
    "ylab = ''\n",
    "\n",
    "pf.barplot(df,'day',t,xlab,ylab,nums=False,save=True)"
   ]
  },
  {
   "cell_type": "markdown",
   "metadata": {},
   "source": [
    "## List of top 10 premises, breats, street names"
   ]
  },
  {
   "cell_type": "code",
   "execution_count": null,
   "metadata": {},
   "outputs": [],
   "source": [
    "# list of top 10 premises, beats, street names\n",
    "premises = [premise for premise in df['Premise'].value_counts().head(10).reset_index()['index']]\n",
    "beats= [beat for beat in df['Beat'].value_counts().head(10).reset_index()['index']]\n",
    "streets = [street for street in df['StreetName'].value_counts().head(10).reset_index()['index']]"
   ]
  },
  {
   "cell_type": "markdown",
   "metadata": {},
   "source": [
    "## OffenseType & Beat(top10)"
   ]
  },
  {
   "cell_type": "code",
   "execution_count": null,
   "metadata": {},
   "outputs": [],
   "source": [
    "beats_10 = df[df.Beat.isin(beats)]\n",
    "beats_10.Beat.value_counts(dropna=False)"
   ]
  },
  {
   "cell_type": "code",
   "execution_count": null,
   "metadata": {},
   "outputs": [],
   "source": [
    "t='Offense type: Beat'\n",
    "xlab = ''\n",
    "ylab = 'Crimes'\n",
    "\n",
    "pf.barplot(beats_10,'Beat',t,save=True)"
   ]
  },
  {
   "cell_type": "markdown",
   "metadata": {},
   "source": [
    "## OffenseType & Premise (Top 10)"
   ]
  },
  {
   "cell_type": "code",
   "execution_count": null,
   "metadata": {},
   "outputs": [],
   "source": [
    "premise_10 = df[df.Premise.isin(premises)]\n",
    "premise_10.Premise.value_counts(dropna=False)"
   ]
  },
  {
   "cell_type": "code",
   "execution_count": null,
   "metadata": {},
   "outputs": [],
   "source": [
    "t='Offense type: Premise'\n",
    "xlab = ''\n",
    "ylab = 'Crimes'\n",
    "\n",
    "pf.barplot(premise_10,'Premise',t,save=True)"
   ]
  },
  {
   "cell_type": "markdown",
   "metadata": {},
   "source": [
    "## OffenseType & StreetName (top 10)"
   ]
  },
  {
   "cell_type": "code",
   "execution_count": null,
   "metadata": {},
   "outputs": [],
   "source": [
    "street_10 = df[df.StreetName.isin(streets)]\n",
    "street_10.StreetName.value_counts(dropna=False)"
   ]
  },
  {
   "cell_type": "code",
   "execution_count": null,
   "metadata": {},
   "outputs": [],
   "source": [
    "t='Offense type: StreetName'\n",
    "xlab = ''\n",
    "ylab = ''\n",
    "\n",
    "pf.barplot(street_10,'StreetName',t,save=True)"
   ]
  },
  {
   "cell_type": "markdown",
   "metadata": {},
   "source": [
    "## Comparison"
   ]
  },
  {
   "cell_type": "code",
   "execution_count": null,
   "metadata": {},
   "outputs": [],
   "source": [
    "# create a dataframe with just the two bottom offense types\n",
    "dfrm = df.loc[(df.OffenseType =='Rape') | (df.OffenseType =='Murder')]"
   ]
  },
  {
   "cell_type": "code",
   "execution_count": null,
   "metadata": {},
   "outputs": [],
   "source": [
    "t='Offense type: Rape & Murder by Year'\n",
    "xlab = ''\n",
    "ylab = 'Crimes'\n",
    "\n",
    "pf.couplot(dfrm,'year',t,xlab,ylab,nums=True,save=True)"
   ]
  },
  {
   "cell_type": "code",
   "execution_count": null,
   "metadata": {},
   "outputs": [],
   "source": [
    "t='Offense type: Rape & Murder by Month from 2010-2017'\n",
    "xlab = ''\n",
    "ylab = ''\n",
    "\n",
    "pf.couplot(dfrm,'month',t,xlab,ylab,save=True)"
   ]
  },
  {
   "cell_type": "code",
   "execution_count": null,
   "metadata": {},
   "outputs": [],
   "source": [
    "t='Offense type: Rape & Murder by Weekday from 2010-2017'\n",
    "xlab = ''\n",
    "ylab = ''\n",
    "\n",
    "pf.couplot(dfrm,'weekday',t,xlab,ylab,save=True)"
   ]
  },
  {
   "cell_type": "code",
   "execution_count": null,
   "metadata": {},
   "outputs": [],
   "source": [
    "t='Offense type: Rape & Murder by Hour from 2010-2017'\n",
    "xlab = ''\n",
    "ylab = ''\n",
    "\n",
    "pf.couplot(dfrm,'Hour',t,xlab,ylab,save=True)"
   ]
  },
  {
   "cell_type": "markdown",
   "metadata": {},
   "source": [
    "## Timeline"
   ]
  },
  {
   "cell_type": "code",
   "execution_count": null,
   "metadata": {},
   "outputs": [],
   "source": [
    "pt = pf.offense_df(df)\n",
    "df_aa = df[pt['Aggravated Assault']]\n",
    "df_b = df[pt['Burglary']]\n",
    "df_t = df[pt['Theft']]\n",
    "df_at = df[pt['Auto Theft']]\n",
    "df_ra = df[pt['Rape']]\n",
    "df_ro = df[pt['Robbery']]\n",
    "df_mu = df[pt['Murder']]"
   ]
  },
  {
   "cell_type": "markdown",
   "metadata": {},
   "source": [
    "## Timeline fo all Offenses"
   ]
  },
  {
   "cell_type": "code",
   "execution_count": null,
   "metadata": {},
   "outputs": [],
   "source": [
    "title = '2010- 2017 OffenseType Timeline ALL'\n",
    "xlab = 'hour'\n",
    "ylab= 'crimes'\n",
    "pf.time_plot6d(\n",
    "            df_aa,'Aggravated Assault',\n",
    "            df_b,'Burglary',\n",
    "            df_t,'Theft',\n",
    "            df_at,'Auto Theft',\n",
    "            df_ra,'Rape',\n",
    "            df_mu,'Murder','OffenseType',title,xlab,ylab,save=True)"
   ]
  },
  {
   "cell_type": "markdown",
   "metadata": {},
   "source": [
    "## Remove Theft"
   ]
  },
  {
   "cell_type": "code",
   "execution_count": null,
   "metadata": {},
   "outputs": [],
   "source": [
    "title = '2010- 2017 OffenseType Timeline'\n",
    "xlab = 'hour'\n",
    "ylab= 'crimes'\n",
    "pf.time_plot5d(\n",
    "            df_aa,'Aggravated Assault',\n",
    "            df_b,'Burglary',\n",
    "            df_at,'Auto Theft',\n",
    "            df_ra,'Rape',\n",
    "            df_mu,'Murder','OffenseType',title,xlab,ylab,save=True)"
   ]
  },
  {
   "cell_type": "code",
   "execution_count": null,
   "metadata": {},
   "outputs": [],
   "source": [
    "title = '2010- 2017 OffenseType Timeline: Rape & Murder'\n",
    "xlab = 'hour'\n",
    "ylab= 'crimes'\n",
    "pf.time_plot2d(\n",
    "            df_ra,'Rape',\n",
    "            df_mu,'Murder','OffenseType',title,xlab,ylab,save=True)"
   ]
  },
  {
   "cell_type": "markdown",
   "metadata": {},
   "source": [
    "# Answers\n",
    "## From a dataset of reported type 1 crimes in Houston Texas from 2010- 2017\n",
    "\n",
    "- Type of offense with the max values\n",
    "    - Theft $92112$\n",
    "\n",
    "- Total crimes by week\n",
    "    - Friday has the most events with $21,710$\n",
    "    - Sunday has the least with $18,446$\n",
    "- Total crimes by Month\n",
    "    - July  has the most events with $88,814$\n",
    "    - February has the least with 7165\n",
    "- Total crimes by Year\n",
    "    - 2010 has the most with $136,357$\n",
    "    - 2017 has the least with $118,580$\n",
    "- Total crimes by the Hour ( has several data missing)\n",
    "    - 6:00 pm is very popular with $4209$ events\n",
    "    - 04:00 am had only $942$\n",
    "    \n",
    "- Total crimes by the top 10 Premise locations\n",
    "    - Apartment and Apartment parking lot seem to be the most popular locations\n",
    "\n",
    "- Total crimes by the top 10 (Police) Beat location\n",
    "    - 19G10 with $21,422$\n",
    " \n",
    "- Compare the two lowest offense types (rape & murder) by Year, Month, Weekday\n",
    "    - rape was at its lowest on 2013 but it has double since  in only 4 years\n",
    "    - Saturday and Sunday is the most popular date for rape to occur\n",
    "    - Murder fluctuates between 200-300 every other year\n",
    "    - Sunday is the most popular day for murder."
   ]
  },
  {
   "cell_type": "code",
   "execution_count": null,
   "metadata": {},
   "outputs": [],
   "source": []
  },
  {
   "cell_type": "code",
   "execution_count": null,
   "metadata": {},
   "outputs": [],
   "source": []
  },
  {
   "cell_type": "code",
   "execution_count": null,
   "metadata": {},
   "outputs": [],
   "source": []
  }
 ],
 "metadata": {
  "kernelspec": {
   "display_name": "Python 3",
   "language": "python",
   "name": "python3"
  },
  "language_info": {
   "codemirror_mode": {
    "name": "ipython",
    "version": 3
   },
   "file_extension": ".py",
   "mimetype": "text/x-python",
   "name": "python",
   "nbconvert_exporter": "python",
   "pygments_lexer": "ipython3",
   "version": "3.6.4"
  }
 },
 "nbformat": 4,
 "nbformat_minor": 2
}
