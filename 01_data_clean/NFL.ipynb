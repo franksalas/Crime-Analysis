{
 "cells": [
  {
   "cell_type": "code",
   "execution_count": null,
   "metadata": {},
   "outputs": [],
   "source": []
  },
  {
   "cell_type": "code",
   "execution_count": 1,
   "metadata": {},
   "outputs": [],
   "source": [
    "import warnings\n",
    "warnings.filterwarnings('ignore')"
   ]
  },
  {
   "cell_type": "code",
   "execution_count": 2,
   "metadata": {},
   "outputs": [],
   "source": [
    "import pandas as pd\n",
    "import glob, os\n",
    "import numpy as np\n",
    "import matplotlib.pyplot as plt\n",
    "import datetime  as dt\n",
    "import seaborn as sns"
   ]
  },
  {
   "cell_type": "markdown",
   "metadata": {},
   "source": [
    "## Data directory"
   ]
  },
  {
   "cell_type": "code",
   "execution_count": 3,
   "metadata": {},
   "outputs": [],
   "source": [
    "sports = 'NFL'"
   ]
  },
  {
   "cell_type": "code",
   "execution_count": 4,
   "metadata": {},
   "outputs": [],
   "source": [
    "data_directory = os.path.join('..','data','sports_data/{}/nfl10clean.csv'.format(sports))\n",
    "data_directory_saves = os.path.join( '..','data','clean_data','sports_data/{}/'.format(sports))"
   ]
  },
  {
   "cell_type": "code",
   "execution_count": 5,
   "metadata": {},
   "outputs": [],
   "source": [
    "df = pd.read_csv(data_directory)"
   ]
  },
  {
   "cell_type": "code",
   "execution_count": 6,
   "metadata": {},
   "outputs": [
    {
     "name": "stdout",
     "output_type": "stream",
     "text": [
      "<class 'pandas.core.frame.DataFrame'>\n",
      "RangeIndex: 4593 entries, 0 to 4592\n",
      "Data columns (total 6 columns):\n",
      "scheduled              4593 non-null object\n",
      "home.alias             4593 non-null object\n",
      "scoring.home_points    4592 non-null float64\n",
      "away.alias             4593 non-null object\n",
      "scoring.away_points    4592 non-null float64\n",
      "WIN                    4593 non-null object\n",
      "dtypes: float64(2), object(4)\n",
      "memory usage: 215.4+ KB\n"
     ]
    }
   ],
   "source": [
    "df.info()"
   ]
  },
  {
   "cell_type": "code",
   "execution_count": 7,
   "metadata": {},
   "outputs": [
    {
     "data": {
      "text/html": [
       "<div>\n",
       "<style scoped>\n",
       "    .dataframe tbody tr th:only-of-type {\n",
       "        vertical-align: middle;\n",
       "    }\n",
       "\n",
       "    .dataframe tbody tr th {\n",
       "        vertical-align: top;\n",
       "    }\n",
       "\n",
       "    .dataframe thead th {\n",
       "        text-align: right;\n",
       "    }\n",
       "</style>\n",
       "<table border=\"1\" class=\"dataframe\">\n",
       "  <thead>\n",
       "    <tr style=\"text-align: right;\">\n",
       "      <th></th>\n",
       "      <th>scheduled</th>\n",
       "      <th>home.alias</th>\n",
       "      <th>scoring.home_points</th>\n",
       "      <th>away.alias</th>\n",
       "      <th>scoring.away_points</th>\n",
       "      <th>WIN</th>\n",
       "    </tr>\n",
       "  </thead>\n",
       "  <tbody>\n",
       "    <tr>\n",
       "      <th>0</th>\n",
       "      <td>2000-09-03 18:03:36</td>\n",
       "      <td>NO</td>\n",
       "      <td>10.0</td>\n",
       "      <td>DET</td>\n",
       "      <td>14.0</td>\n",
       "      <td>DET</td>\n",
       "    </tr>\n",
       "    <tr>\n",
       "      <th>1</th>\n",
       "      <td>2000-09-03 18:04:35</td>\n",
       "      <td>NE</td>\n",
       "      <td>16.0</td>\n",
       "      <td>TB</td>\n",
       "      <td>21.0</td>\n",
       "      <td>TB</td>\n",
       "    </tr>\n",
       "    <tr>\n",
       "      <th>2</th>\n",
       "      <td>2000-09-03 21:15:54</td>\n",
       "      <td>MIA</td>\n",
       "      <td>23.0</td>\n",
       "      <td>SEA</td>\n",
       "      <td>0.0</td>\n",
       "      <td>MIA</td>\n",
       "    </tr>\n",
       "    <tr>\n",
       "      <th>3</th>\n",
       "      <td>2000-09-03 21:20:12</td>\n",
       "      <td>GB</td>\n",
       "      <td>16.0</td>\n",
       "      <td>NYJ</td>\n",
       "      <td>20.0</td>\n",
       "      <td>NYJ</td>\n",
       "    </tr>\n",
       "    <tr>\n",
       "      <th>4</th>\n",
       "      <td>2000-09-03 19:02:58</td>\n",
       "      <td>WAS</td>\n",
       "      <td>20.0</td>\n",
       "      <td>CAR</td>\n",
       "      <td>17.0</td>\n",
       "      <td>WAS</td>\n",
       "    </tr>\n",
       "  </tbody>\n",
       "</table>\n",
       "</div>"
      ],
      "text/plain": [
       "             scheduled home.alias  scoring.home_points away.alias  \\\n",
       "0  2000-09-03 18:03:36         NO                 10.0        DET   \n",
       "1  2000-09-03 18:04:35         NE                 16.0         TB   \n",
       "2  2000-09-03 21:15:54        MIA                 23.0        SEA   \n",
       "3  2000-09-03 21:20:12         GB                 16.0        NYJ   \n",
       "4  2000-09-03 19:02:58        WAS                 20.0        CAR   \n",
       "\n",
       "   scoring.away_points  WIN  \n",
       "0                 14.0  DET  \n",
       "1                 21.0   TB  \n",
       "2                  0.0  MIA  \n",
       "3                 20.0  NYJ  \n",
       "4                 17.0  WAS  "
      ]
     },
     "execution_count": 7,
     "metadata": {},
     "output_type": "execute_result"
    }
   ],
   "source": [
    "df.head()"
   ]
  },
  {
   "cell_type": "markdown",
   "metadata": {},
   "source": [
    "## change scheduled to datetime"
   ]
  },
  {
   "cell_type": "code",
   "execution_count": 8,
   "metadata": {},
   "outputs": [],
   "source": [
    "df.scheduled = pd.to_datetime(df.scheduled)\n",
    "df = df.set_index('scheduled').sort_index(ascending=True)"
   ]
  },
  {
   "cell_type": "code",
   "execution_count": 9,
   "metadata": {},
   "outputs": [
    {
     "name": "stdout",
     "output_type": "stream",
     "text": [
      "<class 'pandas.core.frame.DataFrame'>\n",
      "DatetimeIndex: 4593 entries, 2000-09-03 00:00:00 to 2017-12-31 21:25:00\n",
      "Data columns (total 5 columns):\n",
      "home.alias             4593 non-null object\n",
      "scoring.home_points    4592 non-null float64\n",
      "away.alias             4593 non-null object\n",
      "scoring.away_points    4592 non-null float64\n",
      "WIN                    4593 non-null object\n",
      "dtypes: float64(2), object(3)\n",
      "memory usage: 215.3+ KB\n"
     ]
    }
   ],
   "source": [
    "df.info()"
   ]
  },
  {
   "cell_type": "code",
   "execution_count": 10,
   "metadata": {},
   "outputs": [
    {
     "data": {
      "text/html": [
       "<div>\n",
       "<style scoped>\n",
       "    .dataframe tbody tr th:only-of-type {\n",
       "        vertical-align: middle;\n",
       "    }\n",
       "\n",
       "    .dataframe tbody tr th {\n",
       "        vertical-align: top;\n",
       "    }\n",
       "\n",
       "    .dataframe thead th {\n",
       "        text-align: right;\n",
       "    }\n",
       "</style>\n",
       "<table border=\"1\" class=\"dataframe\">\n",
       "  <thead>\n",
       "    <tr style=\"text-align: right;\">\n",
       "      <th></th>\n",
       "      <th>home.alias</th>\n",
       "      <th>scoring.home_points</th>\n",
       "      <th>away.alias</th>\n",
       "      <th>scoring.away_points</th>\n",
       "      <th>WIN</th>\n",
       "    </tr>\n",
       "    <tr>\n",
       "      <th>scheduled</th>\n",
       "      <th></th>\n",
       "      <th></th>\n",
       "      <th></th>\n",
       "      <th></th>\n",
       "      <th></th>\n",
       "    </tr>\n",
       "  </thead>\n",
       "  <tbody>\n",
       "    <tr>\n",
       "      <th>2000-09-03 00:00:00</th>\n",
       "      <td>PIT</td>\n",
       "      <td>0.0</td>\n",
       "      <td>BAL</td>\n",
       "      <td>16.0</td>\n",
       "      <td>BAL</td>\n",
       "    </tr>\n",
       "    <tr>\n",
       "      <th>2000-09-03 00:00:00</th>\n",
       "      <td>OAK</td>\n",
       "      <td>9.0</td>\n",
       "      <td>SD</td>\n",
       "      <td>6.0</td>\n",
       "      <td>OAK</td>\n",
       "    </tr>\n",
       "    <tr>\n",
       "      <th>2000-09-03 18:02:00</th>\n",
       "      <td>ATL</td>\n",
       "      <td>36.0</td>\n",
       "      <td>SF</td>\n",
       "      <td>28.0</td>\n",
       "      <td>ATL</td>\n",
       "    </tr>\n",
       "    <tr>\n",
       "      <th>2000-09-03 18:03:33</th>\n",
       "      <td>NYG</td>\n",
       "      <td>21.0</td>\n",
       "      <td>ARI</td>\n",
       "      <td>16.0</td>\n",
       "      <td>NYG</td>\n",
       "    </tr>\n",
       "    <tr>\n",
       "      <th>2000-09-03 18:03:36</th>\n",
       "      <td>NO</td>\n",
       "      <td>10.0</td>\n",
       "      <td>DET</td>\n",
       "      <td>14.0</td>\n",
       "      <td>DET</td>\n",
       "    </tr>\n",
       "  </tbody>\n",
       "</table>\n",
       "</div>"
      ],
      "text/plain": [
       "                    home.alias  scoring.home_points away.alias  \\\n",
       "scheduled                                                        \n",
       "2000-09-03 00:00:00        PIT                  0.0        BAL   \n",
       "2000-09-03 00:00:00        OAK                  9.0         SD   \n",
       "2000-09-03 18:02:00        ATL                 36.0         SF   \n",
       "2000-09-03 18:03:33        NYG                 21.0        ARI   \n",
       "2000-09-03 18:03:36         NO                 10.0        DET   \n",
       "\n",
       "                     scoring.away_points  WIN  \n",
       "scheduled                                      \n",
       "2000-09-03 00:00:00                 16.0  BAL  \n",
       "2000-09-03 00:00:00                  6.0  OAK  \n",
       "2000-09-03 18:02:00                 28.0  ATL  \n",
       "2000-09-03 18:03:33                 16.0  NYG  \n",
       "2000-09-03 18:03:36                 14.0  DET  "
      ]
     },
     "execution_count": 10,
     "metadata": {},
     "output_type": "execute_result"
    }
   ],
   "source": [
    "df.head()"
   ]
  },
  {
   "cell_type": "markdown",
   "metadata": {},
   "source": [
    "## Select HOU home games"
   ]
  },
  {
   "cell_type": "code",
   "execution_count": 11,
   "metadata": {},
   "outputs": [],
   "source": [
    "home_games = df['home.alias'] == 'HOU'\n",
    "df = df[home_games]"
   ]
  },
  {
   "cell_type": "code",
   "execution_count": 12,
   "metadata": {},
   "outputs": [
    {
     "data": {
      "text/html": [
       "<div>\n",
       "<style scoped>\n",
       "    .dataframe tbody tr th:only-of-type {\n",
       "        vertical-align: middle;\n",
       "    }\n",
       "\n",
       "    .dataframe tbody tr th {\n",
       "        vertical-align: top;\n",
       "    }\n",
       "\n",
       "    .dataframe thead th {\n",
       "        text-align: right;\n",
       "    }\n",
       "</style>\n",
       "<table border=\"1\" class=\"dataframe\">\n",
       "  <thead>\n",
       "    <tr style=\"text-align: right;\">\n",
       "      <th></th>\n",
       "      <th>home.alias</th>\n",
       "      <th>scoring.home_points</th>\n",
       "      <th>away.alias</th>\n",
       "      <th>scoring.away_points</th>\n",
       "      <th>WIN</th>\n",
       "    </tr>\n",
       "    <tr>\n",
       "      <th>scheduled</th>\n",
       "      <th></th>\n",
       "      <th></th>\n",
       "      <th></th>\n",
       "      <th></th>\n",
       "      <th></th>\n",
       "    </tr>\n",
       "  </thead>\n",
       "  <tbody>\n",
       "    <tr>\n",
       "      <th>2002-09-09 00:36:34</th>\n",
       "      <td>HOU</td>\n",
       "      <td>19.0</td>\n",
       "      <td>DAL</td>\n",
       "      <td>10.0</td>\n",
       "      <td>HOU</td>\n",
       "    </tr>\n",
       "    <tr>\n",
       "      <th>2002-09-22 17:02:37</th>\n",
       "      <td>HOU</td>\n",
       "      <td>3.0</td>\n",
       "      <td>IND</td>\n",
       "      <td>23.0</td>\n",
       "      <td>IND</td>\n",
       "    </tr>\n",
       "    <tr>\n",
       "      <th>2002-10-13 17:02:21</th>\n",
       "      <td>HOU</td>\n",
       "      <td>24.0</td>\n",
       "      <td>BUF</td>\n",
       "      <td>31.0</td>\n",
       "      <td>BUF</td>\n",
       "    </tr>\n",
       "    <tr>\n",
       "      <th>2002-11-03 18:04:07</th>\n",
       "      <td>HOU</td>\n",
       "      <td>3.0</td>\n",
       "      <td>CIN</td>\n",
       "      <td>38.0</td>\n",
       "      <td>CIN</td>\n",
       "    </tr>\n",
       "    <tr>\n",
       "      <th>2002-11-17 18:02:29</th>\n",
       "      <td>HOU</td>\n",
       "      <td>21.0</td>\n",
       "      <td>JAC</td>\n",
       "      <td>24.0</td>\n",
       "      <td>JAC</td>\n",
       "    </tr>\n",
       "  </tbody>\n",
       "</table>\n",
       "</div>"
      ],
      "text/plain": [
       "                    home.alias  scoring.home_points away.alias  \\\n",
       "scheduled                                                        \n",
       "2002-09-09 00:36:34        HOU                 19.0        DAL   \n",
       "2002-09-22 17:02:37        HOU                  3.0        IND   \n",
       "2002-10-13 17:02:21        HOU                 24.0        BUF   \n",
       "2002-11-03 18:04:07        HOU                  3.0        CIN   \n",
       "2002-11-17 18:02:29        HOU                 21.0        JAC   \n",
       "\n",
       "                     scoring.away_points  WIN  \n",
       "scheduled                                      \n",
       "2002-09-09 00:36:34                 10.0  HOU  \n",
       "2002-09-22 17:02:37                 23.0  IND  \n",
       "2002-10-13 17:02:21                 31.0  BUF  \n",
       "2002-11-03 18:04:07                 38.0  CIN  \n",
       "2002-11-17 18:02:29                 24.0  JAC  "
      ]
     },
     "execution_count": 12,
     "metadata": {},
     "output_type": "execute_result"
    }
   ],
   "source": [
    "df.head()"
   ]
  },
  {
   "cell_type": "markdown",
   "metadata": {},
   "source": [
    "# select games from 2010-2017"
   ]
  },
  {
   "cell_type": "code",
   "execution_count": 13,
   "metadata": {},
   "outputs": [],
   "source": [
    "df = df['2010':'2017']"
   ]
  },
  {
   "cell_type": "code",
   "execution_count": 14,
   "metadata": {},
   "outputs": [
    {
     "name": "stdout",
     "output_type": "stream",
     "text": [
      "<class 'pandas.core.frame.DataFrame'>\n",
      "DatetimeIndex: 65 entries, 2010-01-03 18:02:38 to 2017-12-25 21:30:00\n",
      "Data columns (total 5 columns):\n",
      "home.alias             65 non-null object\n",
      "scoring.home_points    65 non-null float64\n",
      "away.alias             65 non-null object\n",
      "scoring.away_points    65 non-null float64\n",
      "WIN                    65 non-null object\n",
      "dtypes: float64(2), object(3)\n",
      "memory usage: 3.0+ KB\n"
     ]
    }
   ],
   "source": [
    "df.info()"
   ]
  },
  {
   "cell_type": "code",
   "execution_count": 15,
   "metadata": {},
   "outputs": [
    {
     "data": {
      "text/html": [
       "<div>\n",
       "<style scoped>\n",
       "    .dataframe tbody tr th:only-of-type {\n",
       "        vertical-align: middle;\n",
       "    }\n",
       "\n",
       "    .dataframe tbody tr th {\n",
       "        vertical-align: top;\n",
       "    }\n",
       "\n",
       "    .dataframe thead th {\n",
       "        text-align: right;\n",
       "    }\n",
       "</style>\n",
       "<table border=\"1\" class=\"dataframe\">\n",
       "  <thead>\n",
       "    <tr style=\"text-align: right;\">\n",
       "      <th></th>\n",
       "      <th>home.alias</th>\n",
       "      <th>scoring.home_points</th>\n",
       "      <th>away.alias</th>\n",
       "      <th>scoring.away_points</th>\n",
       "      <th>WIN</th>\n",
       "    </tr>\n",
       "    <tr>\n",
       "      <th>scheduled</th>\n",
       "      <th></th>\n",
       "      <th></th>\n",
       "      <th></th>\n",
       "      <th></th>\n",
       "      <th></th>\n",
       "    </tr>\n",
       "  </thead>\n",
       "  <tbody>\n",
       "    <tr>\n",
       "      <th>2010-01-03 18:02:38</th>\n",
       "      <td>HOU</td>\n",
       "      <td>34.0</td>\n",
       "      <td>NE</td>\n",
       "      <td>27.0</td>\n",
       "      <td>HOU</td>\n",
       "    </tr>\n",
       "    <tr>\n",
       "      <th>2010-09-12 17:02:50</th>\n",
       "      <td>HOU</td>\n",
       "      <td>34.0</td>\n",
       "      <td>IND</td>\n",
       "      <td>24.0</td>\n",
       "      <td>HOU</td>\n",
       "    </tr>\n",
       "    <tr>\n",
       "      <th>2010-09-26 17:03:12</th>\n",
       "      <td>HOU</td>\n",
       "      <td>13.0</td>\n",
       "      <td>DAL</td>\n",
       "      <td>27.0</td>\n",
       "      <td>DAL</td>\n",
       "    </tr>\n",
       "    <tr>\n",
       "      <th>2010-10-10 17:03:05</th>\n",
       "      <td>HOU</td>\n",
       "      <td>10.0</td>\n",
       "      <td>NYG</td>\n",
       "      <td>34.0</td>\n",
       "      <td>NYG</td>\n",
       "    </tr>\n",
       "    <tr>\n",
       "      <th>2010-10-17 17:03:31</th>\n",
       "      <td>HOU</td>\n",
       "      <td>35.0</td>\n",
       "      <td>KC</td>\n",
       "      <td>31.0</td>\n",
       "      <td>HOU</td>\n",
       "    </tr>\n",
       "  </tbody>\n",
       "</table>\n",
       "</div>"
      ],
      "text/plain": [
       "                    home.alias  scoring.home_points away.alias  \\\n",
       "scheduled                                                        \n",
       "2010-01-03 18:02:38        HOU                 34.0         NE   \n",
       "2010-09-12 17:02:50        HOU                 34.0        IND   \n",
       "2010-09-26 17:03:12        HOU                 13.0        DAL   \n",
       "2010-10-10 17:03:05        HOU                 10.0        NYG   \n",
       "2010-10-17 17:03:31        HOU                 35.0         KC   \n",
       "\n",
       "                     scoring.away_points  WIN  \n",
       "scheduled                                      \n",
       "2010-01-03 18:02:38                 27.0  HOU  \n",
       "2010-09-12 17:02:50                 24.0  HOU  \n",
       "2010-09-26 17:03:12                 27.0  DAL  \n",
       "2010-10-10 17:03:05                 34.0  NYG  \n",
       "2010-10-17 17:03:31                 31.0  HOU  "
      ]
     },
     "execution_count": 15,
     "metadata": {},
     "output_type": "execute_result"
    }
   ],
   "source": [
    "df.head()"
   ]
  },
  {
   "cell_type": "markdown",
   "metadata": {},
   "source": [
    "## display null values"
   ]
  },
  {
   "cell_type": "code",
   "execution_count": 16,
   "metadata": {},
   "outputs": [
    {
     "data": {
      "text/plain": [
       "home.alias             0\n",
       "scoring.home_points    0\n",
       "away.alias             0\n",
       "scoring.away_points    0\n",
       "WIN                    0\n",
       "dtype: int64"
      ]
     },
     "execution_count": 16,
     "metadata": {},
     "output_type": "execute_result"
    }
   ],
   "source": [
    "df.apply(lambda x: sum(x.isnull()))"
   ]
  },
  {
   "cell_type": "markdown",
   "metadata": {},
   "source": [
    "## save data"
   ]
  },
  {
   "cell_type": "code",
   "execution_count": 17,
   "metadata": {},
   "outputs": [],
   "source": [
    "df.to_csv(data_directory_saves+'NFL_2010_2017.csv')"
   ]
  },
  {
   "cell_type": "code",
   "execution_count": null,
   "metadata": {},
   "outputs": [],
   "source": []
  }
 ],
 "metadata": {
  "kernelspec": {
   "display_name": "Python 3",
   "language": "python",
   "name": "python3"
  },
  "language_info": {
   "codemirror_mode": {
    "name": "ipython",
    "version": 3
   },
   "file_extension": ".py",
   "mimetype": "text/x-python",
   "name": "python",
   "nbconvert_exporter": "python",
   "pygments_lexer": "ipython3",
   "version": "3.6.4"
  }
 },
 "nbformat": 4,
 "nbformat_minor": 2
}
