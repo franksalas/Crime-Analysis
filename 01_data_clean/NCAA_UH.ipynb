{
 "cells": [
  {
   "cell_type": "code",
   "execution_count": null,
   "metadata": {},
   "outputs": [],
   "source": []
  },
  {
   "cell_type": "code",
   "execution_count": 1,
   "metadata": {},
   "outputs": [],
   "source": [
    "import warnings\n",
    "warnings.filterwarnings('ignore')"
   ]
  },
  {
   "cell_type": "code",
   "execution_count": 2,
   "metadata": {},
   "outputs": [],
   "source": [
    "import pandas as pd\n",
    "import glob, os\n",
    "import numpy as np\n",
    "import matplotlib.pyplot as plt\n",
    "import datetime  as dt\n",
    "import seaborn as sns"
   ]
  },
  {
   "cell_type": "markdown",
   "metadata": {},
   "source": [
    "## Data Directory"
   ]
  },
  {
   "cell_type": "code",
   "execution_count": 3,
   "metadata": {},
   "outputs": [],
   "source": [
    "sports = 'NCAA'"
   ]
  },
  {
   "cell_type": "code",
   "execution_count": 4,
   "metadata": {},
   "outputs": [],
   "source": [
    "data_directory = os.path.join('..','data','sports_data/{}/uh08_17.csv'.format(sports))\n",
    "data_directory_saves = os.path.join( '..','data','clean_data','sports_data/{}/'.format(sports))"
   ]
  },
  {
   "cell_type": "code",
   "execution_count": 5,
   "metadata": {},
   "outputs": [],
   "source": [
    "df = pd.read_csv(data_directory)"
   ]
  },
  {
   "cell_type": "code",
   "execution_count": 6,
   "metadata": {},
   "outputs": [
    {
     "name": "stdout",
     "output_type": "stream",
     "text": [
      "<class 'pandas.core.frame.DataFrame'>\n",
      "RangeIndex: 130 entries, 0 to 129\n",
      "Data columns (total 16 columns):\n",
      "G             130 non-null int64\n",
      "Date          130 non-null object\n",
      "Time          65 non-null object\n",
      "Day           130 non-null object\n",
      "School        130 non-null object\n",
      "Unnamed: 5    69 non-null object\n",
      "Opponent      130 non-null object\n",
      "Conf          130 non-null object\n",
      "Unnamed: 8    130 non-null object\n",
      "Pts           130 non-null int64\n",
      "Opp           130 non-null int64\n",
      "W             130 non-null int64\n",
      "L             130 non-null int64\n",
      "Streak        130 non-null object\n",
      "TV            31 non-null object\n",
      "Notes         6 non-null object\n",
      "dtypes: int64(5), object(11)\n",
      "memory usage: 16.3+ KB\n"
     ]
    }
   ],
   "source": [
    "df.info()"
   ]
  },
  {
   "cell_type": "code",
   "execution_count": 7,
   "metadata": {},
   "outputs": [
    {
     "data": {
      "text/html": [
       "<div>\n",
       "<style scoped>\n",
       "    .dataframe tbody tr th:only-of-type {\n",
       "        vertical-align: middle;\n",
       "    }\n",
       "\n",
       "    .dataframe tbody tr th {\n",
       "        vertical-align: top;\n",
       "    }\n",
       "\n",
       "    .dataframe thead th {\n",
       "        text-align: right;\n",
       "    }\n",
       "</style>\n",
       "<table border=\"1\" class=\"dataframe\">\n",
       "  <thead>\n",
       "    <tr style=\"text-align: right;\">\n",
       "      <th></th>\n",
       "      <th>G</th>\n",
       "      <th>Date</th>\n",
       "      <th>Time</th>\n",
       "      <th>Day</th>\n",
       "      <th>School</th>\n",
       "      <th>Unnamed: 5</th>\n",
       "      <th>Opponent</th>\n",
       "      <th>Conf</th>\n",
       "      <th>Unnamed: 8</th>\n",
       "      <th>Pts</th>\n",
       "      <th>Opp</th>\n",
       "      <th>W</th>\n",
       "      <th>L</th>\n",
       "      <th>Streak</th>\n",
       "      <th>TV</th>\n",
       "      <th>Notes</th>\n",
       "    </tr>\n",
       "  </thead>\n",
       "  <tbody>\n",
       "    <tr>\n",
       "      <th>0</th>\n",
       "      <td>1</td>\n",
       "      <td>Sep 9 2017</td>\n",
       "      <td>10:30 PM</td>\n",
       "      <td>Sat</td>\n",
       "      <td>Houston</td>\n",
       "      <td>@</td>\n",
       "      <td>Arizona</td>\n",
       "      <td>Pac-12</td>\n",
       "      <td>W</td>\n",
       "      <td>19</td>\n",
       "      <td>16</td>\n",
       "      <td>1</td>\n",
       "      <td>0</td>\n",
       "      <td>W 1</td>\n",
       "      <td>NaN</td>\n",
       "      <td>NaN</td>\n",
       "    </tr>\n",
       "    <tr>\n",
       "      <th>1</th>\n",
       "      <td>2</td>\n",
       "      <td>Sep 16 2017</td>\n",
       "      <td>8:00 PM</td>\n",
       "      <td>Sat</td>\n",
       "      <td>Houston</td>\n",
       "      <td>NaN</td>\n",
       "      <td>Rice</td>\n",
       "      <td>CUSA</td>\n",
       "      <td>W</td>\n",
       "      <td>38</td>\n",
       "      <td>3</td>\n",
       "      <td>2</td>\n",
       "      <td>0</td>\n",
       "      <td>W 2</td>\n",
       "      <td>NaN</td>\n",
       "      <td>NaN</td>\n",
       "    </tr>\n",
       "    <tr>\n",
       "      <th>2</th>\n",
       "      <td>3</td>\n",
       "      <td>Sep 23 2017</td>\n",
       "      <td>12:00 PM</td>\n",
       "      <td>Sat</td>\n",
       "      <td>Houston</td>\n",
       "      <td>NaN</td>\n",
       "      <td>Texas Tech</td>\n",
       "      <td>Big 12</td>\n",
       "      <td>L</td>\n",
       "      <td>24</td>\n",
       "      <td>27</td>\n",
       "      <td>2</td>\n",
       "      <td>1</td>\n",
       "      <td>L 1</td>\n",
       "      <td>NaN</td>\n",
       "      <td>NaN</td>\n",
       "    </tr>\n",
       "    <tr>\n",
       "      <th>3</th>\n",
       "      <td>4</td>\n",
       "      <td>Sep 30 2017</td>\n",
       "      <td>12:00 PM</td>\n",
       "      <td>Sat</td>\n",
       "      <td>Houston</td>\n",
       "      <td>@</td>\n",
       "      <td>Temple</td>\n",
       "      <td>American</td>\n",
       "      <td>W</td>\n",
       "      <td>20</td>\n",
       "      <td>13</td>\n",
       "      <td>3</td>\n",
       "      <td>1</td>\n",
       "      <td>W 1</td>\n",
       "      <td>NaN</td>\n",
       "      <td>NaN</td>\n",
       "    </tr>\n",
       "    <tr>\n",
       "      <th>4</th>\n",
       "      <td>5</td>\n",
       "      <td>Oct 7 2017</td>\n",
       "      <td>7:00 PM</td>\n",
       "      <td>Sat</td>\n",
       "      <td>Houston</td>\n",
       "      <td>NaN</td>\n",
       "      <td>SMU</td>\n",
       "      <td>American</td>\n",
       "      <td>W</td>\n",
       "      <td>35</td>\n",
       "      <td>22</td>\n",
       "      <td>4</td>\n",
       "      <td>1</td>\n",
       "      <td>W 2</td>\n",
       "      <td>NaN</td>\n",
       "      <td>NaN</td>\n",
       "    </tr>\n",
       "  </tbody>\n",
       "</table>\n",
       "</div>"
      ],
      "text/plain": [
       "   G         Date      Time  Day   School Unnamed: 5    Opponent      Conf  \\\n",
       "0  1   Sep 9 2017  10:30 PM  Sat  Houston          @     Arizona    Pac-12   \n",
       "1  2  Sep 16 2017   8:00 PM  Sat  Houston        NaN        Rice      CUSA   \n",
       "2  3  Sep 23 2017  12:00 PM  Sat  Houston        NaN  Texas Tech    Big 12   \n",
       "3  4  Sep 30 2017  12:00 PM  Sat  Houston          @      Temple  American   \n",
       "4  5   Oct 7 2017   7:00 PM  Sat  Houston        NaN         SMU  American   \n",
       "\n",
       "  Unnamed: 8  Pts  Opp  W  L Streak   TV Notes  \n",
       "0          W   19   16  1  0    W 1  NaN   NaN  \n",
       "1          W   38    3  2  0    W 2  NaN   NaN  \n",
       "2          L   24   27  2  1    L 1  NaN   NaN  \n",
       "3          W   20   13  3  1    W 1  NaN   NaN  \n",
       "4          W   35   22  4  1    W 2  NaN   NaN  "
      ]
     },
     "execution_count": 7,
     "metadata": {},
     "output_type": "execute_result"
    }
   ],
   "source": [
    "df.head()"
   ]
  },
  {
   "cell_type": "markdown",
   "metadata": {},
   "source": [
    "## Drop columns"
   ]
  },
  {
   "cell_type": "code",
   "execution_count": 8,
   "metadata": {},
   "outputs": [
    {
     "data": {
      "text/plain": [
       "['G',\n",
       " 'Date',\n",
       " 'Time',\n",
       " 'Day',\n",
       " 'School',\n",
       " 'Unnamed: 5',\n",
       " 'Opponent',\n",
       " 'Conf',\n",
       " 'Unnamed: 8',\n",
       " 'Pts',\n",
       " 'Opp',\n",
       " 'W',\n",
       " 'L',\n",
       " 'Streak',\n",
       " 'TV',\n",
       " 'Notes']"
      ]
     },
     "execution_count": 8,
     "metadata": {},
     "output_type": "execute_result"
    }
   ],
   "source": [
    "list(df.columns)"
   ]
  },
  {
   "cell_type": "code",
   "execution_count": 9,
   "metadata": {},
   "outputs": [],
   "source": [
    "df.drop(['G','Time',\n",
    " 'Day',\n",
    " 'Conf',\n",
    " 'W',\n",
    " 'L',\n",
    " 'Streak',\n",
    " 'Notes',\n",
    " 'TV'],axis=1,inplace=True)"
   ]
  },
  {
   "cell_type": "code",
   "execution_count": 10,
   "metadata": {},
   "outputs": [
    {
     "data": {
      "text/html": [
       "<div>\n",
       "<style scoped>\n",
       "    .dataframe tbody tr th:only-of-type {\n",
       "        vertical-align: middle;\n",
       "    }\n",
       "\n",
       "    .dataframe tbody tr th {\n",
       "        vertical-align: top;\n",
       "    }\n",
       "\n",
       "    .dataframe thead th {\n",
       "        text-align: right;\n",
       "    }\n",
       "</style>\n",
       "<table border=\"1\" class=\"dataframe\">\n",
       "  <thead>\n",
       "    <tr style=\"text-align: right;\">\n",
       "      <th></th>\n",
       "      <th>Date</th>\n",
       "      <th>School</th>\n",
       "      <th>Unnamed: 5</th>\n",
       "      <th>Opponent</th>\n",
       "      <th>Unnamed: 8</th>\n",
       "      <th>Pts</th>\n",
       "      <th>Opp</th>\n",
       "    </tr>\n",
       "  </thead>\n",
       "  <tbody>\n",
       "    <tr>\n",
       "      <th>0</th>\n",
       "      <td>Sep 9 2017</td>\n",
       "      <td>Houston</td>\n",
       "      <td>@</td>\n",
       "      <td>Arizona</td>\n",
       "      <td>W</td>\n",
       "      <td>19</td>\n",
       "      <td>16</td>\n",
       "    </tr>\n",
       "    <tr>\n",
       "      <th>1</th>\n",
       "      <td>Sep 16 2017</td>\n",
       "      <td>Houston</td>\n",
       "      <td>NaN</td>\n",
       "      <td>Rice</td>\n",
       "      <td>W</td>\n",
       "      <td>38</td>\n",
       "      <td>3</td>\n",
       "    </tr>\n",
       "    <tr>\n",
       "      <th>2</th>\n",
       "      <td>Sep 23 2017</td>\n",
       "      <td>Houston</td>\n",
       "      <td>NaN</td>\n",
       "      <td>Texas Tech</td>\n",
       "      <td>L</td>\n",
       "      <td>24</td>\n",
       "      <td>27</td>\n",
       "    </tr>\n",
       "    <tr>\n",
       "      <th>3</th>\n",
       "      <td>Sep 30 2017</td>\n",
       "      <td>Houston</td>\n",
       "      <td>@</td>\n",
       "      <td>Temple</td>\n",
       "      <td>W</td>\n",
       "      <td>20</td>\n",
       "      <td>13</td>\n",
       "    </tr>\n",
       "    <tr>\n",
       "      <th>4</th>\n",
       "      <td>Oct 7 2017</td>\n",
       "      <td>Houston</td>\n",
       "      <td>NaN</td>\n",
       "      <td>SMU</td>\n",
       "      <td>W</td>\n",
       "      <td>35</td>\n",
       "      <td>22</td>\n",
       "    </tr>\n",
       "  </tbody>\n",
       "</table>\n",
       "</div>"
      ],
      "text/plain": [
       "          Date   School Unnamed: 5    Opponent Unnamed: 8  Pts  Opp\n",
       "0   Sep 9 2017  Houston          @     Arizona          W   19   16\n",
       "1  Sep 16 2017  Houston        NaN        Rice          W   38    3\n",
       "2  Sep 23 2017  Houston        NaN  Texas Tech          L   24   27\n",
       "3  Sep 30 2017  Houston          @      Temple          W   20   13\n",
       "4   Oct 7 2017  Houston        NaN         SMU          W   35   22"
      ]
     },
     "execution_count": 10,
     "metadata": {},
     "output_type": "execute_result"
    }
   ],
   "source": [
    "df.head()"
   ]
  },
  {
   "cell_type": "markdown",
   "metadata": {},
   "source": [
    "## change date to datetime index"
   ]
  },
  {
   "cell_type": "code",
   "execution_count": 11,
   "metadata": {},
   "outputs": [],
   "source": [
    "# Map the lowering function to all column names\n",
    "df.columns = map(str.lower, df.columns)"
   ]
  },
  {
   "cell_type": "code",
   "execution_count": 12,
   "metadata": {},
   "outputs": [],
   "source": [
    "df.date = pd.to_datetime(df['date'])\n",
    "df = df.set_index('date').sort_index(ascending=True)"
   ]
  },
  {
   "cell_type": "code",
   "execution_count": 13,
   "metadata": {},
   "outputs": [
    {
     "data": {
      "text/html": [
       "<div>\n",
       "<style scoped>\n",
       "    .dataframe tbody tr th:only-of-type {\n",
       "        vertical-align: middle;\n",
       "    }\n",
       "\n",
       "    .dataframe tbody tr th {\n",
       "        vertical-align: top;\n",
       "    }\n",
       "\n",
       "    .dataframe thead th {\n",
       "        text-align: right;\n",
       "    }\n",
       "</style>\n",
       "<table border=\"1\" class=\"dataframe\">\n",
       "  <thead>\n",
       "    <tr style=\"text-align: right;\">\n",
       "      <th></th>\n",
       "      <th>school</th>\n",
       "      <th>unnamed: 5</th>\n",
       "      <th>opponent</th>\n",
       "      <th>unnamed: 8</th>\n",
       "      <th>pts</th>\n",
       "      <th>opp</th>\n",
       "    </tr>\n",
       "    <tr>\n",
       "      <th>date</th>\n",
       "      <th></th>\n",
       "      <th></th>\n",
       "      <th></th>\n",
       "      <th></th>\n",
       "      <th></th>\n",
       "      <th></th>\n",
       "    </tr>\n",
       "  </thead>\n",
       "  <tbody>\n",
       "    <tr>\n",
       "      <th>2008-08-30</th>\n",
       "      <td>Houston</td>\n",
       "      <td>NaN</td>\n",
       "      <td>Southern</td>\n",
       "      <td>W</td>\n",
       "      <td>55</td>\n",
       "      <td>3</td>\n",
       "    </tr>\n",
       "    <tr>\n",
       "      <th>2008-09-06</th>\n",
       "      <td>Houston</td>\n",
       "      <td>@</td>\n",
       "      <td>Oklahoma State</td>\n",
       "      <td>L</td>\n",
       "      <td>37</td>\n",
       "      <td>56</td>\n",
       "    </tr>\n",
       "    <tr>\n",
       "      <th>2008-09-13</th>\n",
       "      <td>Houston</td>\n",
       "      <td>NaN</td>\n",
       "      <td>Air Force</td>\n",
       "      <td>L</td>\n",
       "      <td>28</td>\n",
       "      <td>31</td>\n",
       "    </tr>\n",
       "    <tr>\n",
       "      <th>2008-09-20</th>\n",
       "      <td>Houston</td>\n",
       "      <td>@</td>\n",
       "      <td>Colorado State</td>\n",
       "      <td>L</td>\n",
       "      <td>25</td>\n",
       "      <td>28</td>\n",
       "    </tr>\n",
       "    <tr>\n",
       "      <th>2008-09-27</th>\n",
       "      <td>Houston</td>\n",
       "      <td>@</td>\n",
       "      <td>(23) East Carolina</td>\n",
       "      <td>W</td>\n",
       "      <td>41</td>\n",
       "      <td>24</td>\n",
       "    </tr>\n",
       "  </tbody>\n",
       "</table>\n",
       "</div>"
      ],
      "text/plain": [
       "             school unnamed: 5            opponent unnamed: 8  pts  opp\n",
       "date                                                                   \n",
       "2008-08-30  Houston        NaN            Southern          W   55    3\n",
       "2008-09-06  Houston          @      Oklahoma State          L   37   56\n",
       "2008-09-13  Houston        NaN           Air Force          L   28   31\n",
       "2008-09-20  Houston          @      Colorado State          L   25   28\n",
       "2008-09-27  Houston          @  (23) East Carolina          W   41   24"
      ]
     },
     "execution_count": 13,
     "metadata": {},
     "output_type": "execute_result"
    }
   ],
   "source": [
    "df.head()"
   ]
  },
  {
   "cell_type": "markdown",
   "metadata": {},
   "source": [
    "## chane unnamed:5 to home_away"
   ]
  },
  {
   "cell_type": "code",
   "execution_count": 14,
   "metadata": {},
   "outputs": [],
   "source": [
    "df.rename(columns={\n",
    "    'unnamed: 5': 'home_away',\n",
    "    'unnamed: 8': 'win_lost',\n",
    "}, inplace=True)"
   ]
  },
  {
   "cell_type": "code",
   "execution_count": 15,
   "metadata": {},
   "outputs": [],
   "source": [
    "df.home_away.fillna('home',inplace=True)"
   ]
  },
  {
   "cell_type": "code",
   "execution_count": 16,
   "metadata": {},
   "outputs": [
    {
     "data": {
      "text/html": [
       "<div>\n",
       "<style scoped>\n",
       "    .dataframe tbody tr th:only-of-type {\n",
       "        vertical-align: middle;\n",
       "    }\n",
       "\n",
       "    .dataframe tbody tr th {\n",
       "        vertical-align: top;\n",
       "    }\n",
       "\n",
       "    .dataframe thead th {\n",
       "        text-align: right;\n",
       "    }\n",
       "</style>\n",
       "<table border=\"1\" class=\"dataframe\">\n",
       "  <thead>\n",
       "    <tr style=\"text-align: right;\">\n",
       "      <th></th>\n",
       "      <th>school</th>\n",
       "      <th>home_away</th>\n",
       "      <th>opponent</th>\n",
       "      <th>win_lost</th>\n",
       "      <th>pts</th>\n",
       "      <th>opp</th>\n",
       "    </tr>\n",
       "    <tr>\n",
       "      <th>date</th>\n",
       "      <th></th>\n",
       "      <th></th>\n",
       "      <th></th>\n",
       "      <th></th>\n",
       "      <th></th>\n",
       "      <th></th>\n",
       "    </tr>\n",
       "  </thead>\n",
       "  <tbody>\n",
       "    <tr>\n",
       "      <th>2008-08-30</th>\n",
       "      <td>Houston</td>\n",
       "      <td>home</td>\n",
       "      <td>Southern</td>\n",
       "      <td>W</td>\n",
       "      <td>55</td>\n",
       "      <td>3</td>\n",
       "    </tr>\n",
       "    <tr>\n",
       "      <th>2008-09-06</th>\n",
       "      <td>Houston</td>\n",
       "      <td>@</td>\n",
       "      <td>Oklahoma State</td>\n",
       "      <td>L</td>\n",
       "      <td>37</td>\n",
       "      <td>56</td>\n",
       "    </tr>\n",
       "    <tr>\n",
       "      <th>2008-09-13</th>\n",
       "      <td>Houston</td>\n",
       "      <td>home</td>\n",
       "      <td>Air Force</td>\n",
       "      <td>L</td>\n",
       "      <td>28</td>\n",
       "      <td>31</td>\n",
       "    </tr>\n",
       "    <tr>\n",
       "      <th>2008-09-20</th>\n",
       "      <td>Houston</td>\n",
       "      <td>@</td>\n",
       "      <td>Colorado State</td>\n",
       "      <td>L</td>\n",
       "      <td>25</td>\n",
       "      <td>28</td>\n",
       "    </tr>\n",
       "    <tr>\n",
       "      <th>2008-09-27</th>\n",
       "      <td>Houston</td>\n",
       "      <td>@</td>\n",
       "      <td>(23) East Carolina</td>\n",
       "      <td>W</td>\n",
       "      <td>41</td>\n",
       "      <td>24</td>\n",
       "    </tr>\n",
       "  </tbody>\n",
       "</table>\n",
       "</div>"
      ],
      "text/plain": [
       "             school home_away            opponent win_lost  pts  opp\n",
       "date                                                                \n",
       "2008-08-30  Houston      home            Southern        W   55    3\n",
       "2008-09-06  Houston         @      Oklahoma State        L   37   56\n",
       "2008-09-13  Houston      home           Air Force        L   28   31\n",
       "2008-09-20  Houston         @      Colorado State        L   25   28\n",
       "2008-09-27  Houston         @  (23) East Carolina        W   41   24"
      ]
     },
     "execution_count": 16,
     "metadata": {},
     "output_type": "execute_result"
    }
   ],
   "source": [
    "df.head()"
   ]
  },
  {
   "cell_type": "markdown",
   "metadata": {},
   "source": [
    "## select home games"
   ]
  },
  {
   "cell_type": "code",
   "execution_count": 17,
   "metadata": {},
   "outputs": [],
   "source": [
    "home_games = df.home_away == 'home'\n",
    "df = df[home_games]\n",
    "df.drop(['home_away'],axis=1,inplace=True)"
   ]
  },
  {
   "cell_type": "code",
   "execution_count": 18,
   "metadata": {},
   "outputs": [
    {
     "data": {
      "text/html": [
       "<div>\n",
       "<style scoped>\n",
       "    .dataframe tbody tr th:only-of-type {\n",
       "        vertical-align: middle;\n",
       "    }\n",
       "\n",
       "    .dataframe tbody tr th {\n",
       "        vertical-align: top;\n",
       "    }\n",
       "\n",
       "    .dataframe thead th {\n",
       "        text-align: right;\n",
       "    }\n",
       "</style>\n",
       "<table border=\"1\" class=\"dataframe\">\n",
       "  <thead>\n",
       "    <tr style=\"text-align: right;\">\n",
       "      <th></th>\n",
       "      <th>school</th>\n",
       "      <th>opponent</th>\n",
       "      <th>win_lost</th>\n",
       "      <th>pts</th>\n",
       "      <th>opp</th>\n",
       "    </tr>\n",
       "    <tr>\n",
       "      <th>date</th>\n",
       "      <th></th>\n",
       "      <th></th>\n",
       "      <th></th>\n",
       "      <th></th>\n",
       "      <th></th>\n",
       "    </tr>\n",
       "  </thead>\n",
       "  <tbody>\n",
       "    <tr>\n",
       "      <th>2008-08-30</th>\n",
       "      <td>Houston</td>\n",
       "      <td>Southern</td>\n",
       "      <td>W</td>\n",
       "      <td>55</td>\n",
       "      <td>3</td>\n",
       "    </tr>\n",
       "    <tr>\n",
       "      <th>2008-09-13</th>\n",
       "      <td>Houston</td>\n",
       "      <td>Air Force</td>\n",
       "      <td>L</td>\n",
       "      <td>28</td>\n",
       "      <td>31</td>\n",
       "    </tr>\n",
       "    <tr>\n",
       "      <th>2008-10-09</th>\n",
       "      <td>Houston</td>\n",
       "      <td>UAB</td>\n",
       "      <td>W</td>\n",
       "      <td>45</td>\n",
       "      <td>20</td>\n",
       "    </tr>\n",
       "    <tr>\n",
       "      <th>2008-11-08</th>\n",
       "      <td>Houston</td>\n",
       "      <td>Tulane</td>\n",
       "      <td>W</td>\n",
       "      <td>42</td>\n",
       "      <td>14</td>\n",
       "    </tr>\n",
       "    <tr>\n",
       "      <th>2008-11-15</th>\n",
       "      <td>Houston</td>\n",
       "      <td>(25) Tulsa</td>\n",
       "      <td>W</td>\n",
       "      <td>70</td>\n",
       "      <td>30</td>\n",
       "    </tr>\n",
       "  </tbody>\n",
       "</table>\n",
       "</div>"
      ],
      "text/plain": [
       "             school    opponent win_lost  pts  opp\n",
       "date                                              \n",
       "2008-08-30  Houston    Southern        W   55    3\n",
       "2008-09-13  Houston   Air Force        L   28   31\n",
       "2008-10-09  Houston         UAB        W   45   20\n",
       "2008-11-08  Houston      Tulane        W   42   14\n",
       "2008-11-15  Houston  (25) Tulsa        W   70   30"
      ]
     },
     "execution_count": 18,
     "metadata": {},
     "output_type": "execute_result"
    }
   ],
   "source": [
    "df.head()"
   ]
  },
  {
   "cell_type": "markdown",
   "metadata": {},
   "source": [
    "## clean columns"
   ]
  },
  {
   "cell_type": "code",
   "execution_count": 19,
   "metadata": {},
   "outputs": [
    {
     "data": {
      "text/plain": [
       "array(['Houston', '(17) Houston', '(15) Houston', '(24) Houston',\n",
       "       '(25) Houston', '(21) Houston', '(18) Houston', '(11) Houston',\n",
       "       '(7) Houston', '(16) Houston', '(6) Houston', '(13) Houston'],\n",
       "      dtype=object)"
      ]
     },
     "execution_count": 19,
     "metadata": {},
     "output_type": "execute_result"
    }
   ],
   "source": [
    "df.school.unique()"
   ]
  },
  {
   "cell_type": "code",
   "execution_count": 20,
   "metadata": {},
   "outputs": [
    {
     "data": {
      "text/plain": [
       "array(['Southern', 'Air Force', 'UAB', 'Tulane', '(25) Tulsa', 'UTEP',\n",
       "       'Northwestern State', 'Texas Tech', 'SMU', 'Southern Mississippi',\n",
       "       'Memphis', 'Rice', 'Texas State', 'Mississippi State', 'UCF',\n",
       "       'Tulsa', 'UCLA', 'Georgia State', 'East Carolina', 'Marshall',\n",
       "       '(24) Southern Mississippi', 'Louisiana Tech', 'North Texas',\n",
       "       'South Florida', 'UTSA', 'Grambling State', 'Nevada-Las Vegas',\n",
       "       'Temple', 'Tennessee Tech', 'Vanderbilt', 'Cincinnati',\n",
       "       '(25) Memphis', '(16) Navy', '(20) Temple', 'Lamar', 'Connecticut',\n",
       "       '(3) Louisville', 'Navy'], dtype=object)"
      ]
     },
     "execution_count": 20,
     "metadata": {},
     "output_type": "execute_result"
    }
   ],
   "source": [
    "df.opponent.unique()"
   ]
  },
  {
   "cell_type": "markdown",
   "metadata": {},
   "source": [
    "## remove extra characters line"
   ]
  },
  {
   "cell_type": "code",
   "execution_count": 21,
   "metadata": {},
   "outputs": [],
   "source": [
    "df.opponent = df.opponent.str.replace(r\"\\(.*\\)\",\" \")"
   ]
  },
  {
   "cell_type": "code",
   "execution_count": 22,
   "metadata": {},
   "outputs": [
    {
     "data": {
      "text/plain": [
       "array(['Southern', 'Air Force', 'UAB', 'Tulane', '  Tulsa', 'UTEP',\n",
       "       'Northwestern State', 'Texas Tech', 'SMU', 'Southern Mississippi',\n",
       "       'Memphis', 'Rice', 'Texas State', 'Mississippi State', 'UCF',\n",
       "       'Tulsa', 'UCLA', 'Georgia State', 'East Carolina', 'Marshall',\n",
       "       '  Southern Mississippi', 'Louisiana Tech', 'North Texas',\n",
       "       'South Florida', 'UTSA', 'Grambling State', 'Nevada-Las Vegas',\n",
       "       'Temple', 'Tennessee Tech', 'Vanderbilt', 'Cincinnati',\n",
       "       '  Memphis', '  Navy', '  Temple', 'Lamar', 'Connecticut',\n",
       "       '  Louisville', 'Navy'], dtype=object)"
      ]
     },
     "execution_count": 22,
     "metadata": {},
     "output_type": "execute_result"
    }
   ],
   "source": [
    "df.opponent.unique()"
   ]
  },
  {
   "cell_type": "code",
   "execution_count": 23,
   "metadata": {},
   "outputs": [
    {
     "data": {
      "text/plain": [
       "array(['W', 'L'], dtype=object)"
      ]
     },
     "execution_count": 23,
     "metadata": {},
     "output_type": "execute_result"
    }
   ],
   "source": [
    "df.win_lost.unique()"
   ]
  },
  {
   "cell_type": "code",
   "execution_count": 24,
   "metadata": {},
   "outputs": [
    {
     "data": {
      "text/plain": [
       "array([55, 28, 45, 42, 70, 29, 38, 50, 73, 68, 54, 24, 33, 25, 56, 63, 37,\n",
       "       13, 49, 44, 39,  7, 40, 62, 35, 47, 12, 31, 52, 59, 34, 30, 36])"
      ]
     },
     "execution_count": 24,
     "metadata": {},
     "output_type": "execute_result"
    }
   ],
   "source": [
    "df.pts.unique()"
   ]
  },
  {
   "cell_type": "code",
   "execution_count": 25,
   "metadata": {},
   "outputs": [
    {
     "data": {
      "text/plain": [
       "array([ 3, 31, 20, 14, 30, 37,  7, 28, 15, 43, 24, 23, 47, 40, 34,  0, 49,\n",
       "       56, 21, 17, 35, 41, 13, 27, 10, 18, 22, 42])"
      ]
     },
     "execution_count": 25,
     "metadata": {},
     "output_type": "execute_result"
    }
   ],
   "source": [
    "df.opp.unique()"
   ]
  },
  {
   "cell_type": "markdown",
   "metadata": {},
   "source": [
    "## display null values"
   ]
  },
  {
   "cell_type": "code",
   "execution_count": 26,
   "metadata": {},
   "outputs": [
    {
     "data": {
      "text/plain": [
       "school      0\n",
       "opponent    0\n",
       "win_lost    0\n",
       "pts         0\n",
       "opp         0\n",
       "dtype: int64"
      ]
     },
     "execution_count": 26,
     "metadata": {},
     "output_type": "execute_result"
    }
   ],
   "source": [
    "df.apply(lambda x: sum(x.isnull()))"
   ]
  },
  {
   "cell_type": "markdown",
   "metadata": {},
   "source": [
    "## save dataset"
   ]
  },
  {
   "cell_type": "code",
   "execution_count": 27,
   "metadata": {},
   "outputs": [],
   "source": [
    "df.to_csv(data_directory_saves+'Rice_2010_2017.csv')"
   ]
  },
  {
   "cell_type": "code",
   "execution_count": null,
   "metadata": {},
   "outputs": [],
   "source": []
  }
 ],
 "metadata": {
  "kernelspec": {
   "display_name": "Python 3",
   "language": "python",
   "name": "python3"
  },
  "language_info": {
   "codemirror_mode": {
    "name": "ipython",
    "version": 3
   },
   "file_extension": ".py",
   "mimetype": "text/x-python",
   "name": "python",
   "nbconvert_exporter": "python",
   "pygments_lexer": "ipython3",
   "version": "3.6.4"
  }
 },
 "nbformat": 4,
 "nbformat_minor": 2
}
