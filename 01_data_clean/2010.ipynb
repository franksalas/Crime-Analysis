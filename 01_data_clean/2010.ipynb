{
 "cells": [
  {
   "cell_type": "markdown",
   "metadata": {},
   "source": [
    "# Crime data from 2010\n",
    "\n",
    "http://www.houstontx.gov/police/cs/crime-stats-archives.htm"
   ]
  },
  {
   "cell_type": "code",
   "execution_count": 1,
   "metadata": {},
   "outputs": [],
   "source": [
    "import warnings\n",
    "warnings.filterwarnings('ignore')"
   ]
  },
  {
   "cell_type": "code",
   "execution_count": 2,
   "metadata": {},
   "outputs": [],
   "source": [
    "import pandas as pd\n",
    "import glob, os\n",
    "import numpy as np\n",
    "import matplotlib.pyplot as plt\n",
    "import datetime  as dt\n",
    "import seaborn as sns"
   ]
  },
  {
   "cell_type": "markdown",
   "metadata": {},
   "source": [
    "## Data directory"
   ]
  },
  {
   "cell_type": "code",
   "execution_count": 3,
   "metadata": {},
   "outputs": [],
   "source": [
    "year = '2010'"
   ]
  },
  {
   "cell_type": "code",
   "execution_count": 4,
   "metadata": {},
   "outputs": [],
   "source": [
    "# data folder path\n",
    "data_directory = os.path.join('..','data','crime_data/{}'.format(year))\n",
    "data_directory_saves = os.path.join( '..','data','clean_data','crime/')\n",
    "premise_dataset = os.path.join('..','data','crime_data/premise_codes.csv')"
   ]
  },
  {
   "cell_type": "markdown",
   "metadata": {},
   "source": [
    "# combine all files into one"
   ]
  },
  {
   "cell_type": "code",
   "execution_count": 5,
   "metadata": {},
   "outputs": [
    {
     "name": "stdout",
     "output_type": "stream",
     "text": [
      "WARNING *** file size (2752234) not 512 + multiple of sector size (512)\n",
      "WARNING *** OLE2 inconsistency: SSCS size is 0 but SSAT size is non-zero\n"
     ]
    }
   ],
   "source": [
    "# combine all files into one df\n",
    "all_files = glob.glob(os.path.join(data_directory, \"*.xls\")) \n",
    "df_from_each_file = (pd.read_excel(f) for f in all_files)\n",
    "df   = pd.concat(df_from_each_file, ignore_index=True)"
   ]
  },
  {
   "cell_type": "code",
   "execution_count": 6,
   "metadata": {},
   "outputs": [
    {
     "name": "stdout",
     "output_type": "stream",
     "text": [
      "<class 'pandas.core.frame.DataFrame'>\n",
      "RangeIndex: 136263 entries, 0 to 136262\n",
      "Data columns (total 12 columns):\n",
      "# Of Offenses    136262 non-null float64\n",
      "Beat             136262 non-null object\n",
      "Block Range      136262 non-null object\n",
      "Date             136262 non-null datetime64[ns]\n",
      "Field11          0 non-null float64\n",
      "Hour             136262 non-null float64\n",
      "Offense Type     136262 non-null object\n",
      "Premise          136262 non-null object\n",
      "Street Name      136262 non-null object\n",
      "Suffix           136262 non-null object\n",
      "Type             136262 non-null object\n",
      "Unnamed: 1       0 non-null float64\n",
      "dtypes: datetime64[ns](1), float64(4), object(7)\n",
      "memory usage: 12.5+ MB\n"
     ]
    }
   ],
   "source": [
    "df.info()"
   ]
  },
  {
   "cell_type": "code",
   "execution_count": 7,
   "metadata": {},
   "outputs": [
    {
     "data": {
      "text/html": [
       "<div>\n",
       "<style scoped>\n",
       "    .dataframe tbody tr th:only-of-type {\n",
       "        vertical-align: middle;\n",
       "    }\n",
       "\n",
       "    .dataframe tbody tr th {\n",
       "        vertical-align: top;\n",
       "    }\n",
       "\n",
       "    .dataframe thead th {\n",
       "        text-align: right;\n",
       "    }\n",
       "</style>\n",
       "<table border=\"1\" class=\"dataframe\">\n",
       "  <thead>\n",
       "    <tr style=\"text-align: right;\">\n",
       "      <th></th>\n",
       "      <th># Of Offenses</th>\n",
       "      <th>Beat</th>\n",
       "      <th>Block Range</th>\n",
       "      <th>Date</th>\n",
       "      <th>Field11</th>\n",
       "      <th>Hour</th>\n",
       "      <th>Offense Type</th>\n",
       "      <th>Premise</th>\n",
       "      <th>Street Name</th>\n",
       "      <th>Suffix</th>\n",
       "      <th>Type</th>\n",
       "      <th>Unnamed: 1</th>\n",
       "    </tr>\n",
       "  </thead>\n",
       "  <tbody>\n",
       "    <tr>\n",
       "      <th>0</th>\n",
       "      <td>1.0</td>\n",
       "      <td>13D20</td>\n",
       "      <td>6600-6699</td>\n",
       "      <td>2010-04-17</td>\n",
       "      <td>NaN</td>\n",
       "      <td>0.0</td>\n",
       "      <td>Murder</td>\n",
       "      <td>05W</td>\n",
       "      <td>HEFFERNAN</td>\n",
       "      <td>-</td>\n",
       "      <td>-</td>\n",
       "      <td>NaN</td>\n",
       "    </tr>\n",
       "    <tr>\n",
       "      <th>1</th>\n",
       "      <td>1.0</td>\n",
       "      <td>11H40</td>\n",
       "      <td>10100-10199</td>\n",
       "      <td>2010-04-08</td>\n",
       "      <td>NaN</td>\n",
       "      <td>20.0</td>\n",
       "      <td>Murder</td>\n",
       "      <td>20R</td>\n",
       "      <td>LUCORE</td>\n",
       "      <td>-</td>\n",
       "      <td>-</td>\n",
       "      <td>NaN</td>\n",
       "    </tr>\n",
       "  </tbody>\n",
       "</table>\n",
       "</div>"
      ],
      "text/plain": [
       "   # Of Offenses   Beat  Block Range       Date  Field11  Hour Offense Type  \\\n",
       "0            1.0  13D20    6600-6699 2010-04-17      NaN   0.0       Murder   \n",
       "1            1.0  11H40  10100-10199 2010-04-08      NaN  20.0       Murder   \n",
       "\n",
       "  Premise Street Name Suffix Type  Unnamed: 1  \n",
       "0     05W   HEFFERNAN      -    -         NaN  \n",
       "1     20R      LUCORE      -    -         NaN  "
      ]
     },
     "execution_count": 7,
     "metadata": {},
     "output_type": "execute_result"
    }
   ],
   "source": [
    "df.head(2)"
   ]
  },
  {
   "cell_type": "markdown",
   "metadata": {},
   "source": [
    "## Check for missing values"
   ]
  },
  {
   "cell_type": "code",
   "execution_count": 8,
   "metadata": {},
   "outputs": [
    {
     "data": {
      "text/plain": [
       "# Of Offenses         1\n",
       "Beat                  1\n",
       "Block Range           1\n",
       "Date                  1\n",
       "Field11          136263\n",
       "Hour                  1\n",
       "Offense Type          1\n",
       "Premise               1\n",
       "Street Name           1\n",
       "Suffix                1\n",
       "Type                  1\n",
       "Unnamed: 1       136263\n",
       "dtype: int64"
      ]
     },
     "execution_count": 8,
     "metadata": {},
     "output_type": "execute_result"
    }
   ],
   "source": [
    "df.apply(lambda x: sum(x.isnull()))"
   ]
  },
  {
   "cell_type": "code",
   "execution_count": 9,
   "metadata": {},
   "outputs": [
    {
     "data": {
      "image/png": "[encoded data removed]",
      "text/plain": [
       "<Figure size 432x288 with 1 Axes>"
      ]
     },
     "metadata": {},
     "output_type": "display_data"
    }
   ],
   "source": [
    "sns.heatmap(df.isnull(),yticklabels=False,cbar=False,cmap='viridis')\n",
    "plt.title('Null dataset display')\n",
    "plt.show()"
   ]
  },
  {
   "cell_type": "markdown",
   "metadata": {},
   "source": [
    "\n",
    "## Cleanup\n",
    "- lowercase column names\n",
    "- joining similar columns\n",
    "- renaming"
   ]
  },
  {
   "cell_type": "code",
   "execution_count": 10,
   "metadata": {},
   "outputs": [],
   "source": [
    "# Map the lowering function to all column names\n",
    "df.columns = map(str.lower, df.columns)"
   ]
  },
  {
   "cell_type": "code",
   "execution_count": 11,
   "metadata": {},
   "outputs": [
    {
     "data": {
      "text/html": [
       "<div>\n",
       "<style scoped>\n",
       "    .dataframe tbody tr th:only-of-type {\n",
       "        vertical-align: middle;\n",
       "    }\n",
       "\n",
       "    .dataframe tbody tr th {\n",
       "        vertical-align: top;\n",
       "    }\n",
       "\n",
       "    .dataframe thead th {\n",
       "        text-align: right;\n",
       "    }\n",
       "</style>\n",
       "<table border=\"1\" class=\"dataframe\">\n",
       "  <thead>\n",
       "    <tr style=\"text-align: right;\">\n",
       "      <th></th>\n",
       "      <th># of offenses</th>\n",
       "      <th>beat</th>\n",
       "      <th>block range</th>\n",
       "      <th>date</th>\n",
       "      <th>field11</th>\n",
       "      <th>hour</th>\n",
       "      <th>offense type</th>\n",
       "      <th>premise</th>\n",
       "      <th>street name</th>\n",
       "      <th>suffix</th>\n",
       "      <th>type</th>\n",
       "      <th>unnamed: 1</th>\n",
       "    </tr>\n",
       "  </thead>\n",
       "  <tbody>\n",
       "    <tr>\n",
       "      <th>0</th>\n",
       "      <td>1.0</td>\n",
       "      <td>13D20</td>\n",
       "      <td>6600-6699</td>\n",
       "      <td>2010-04-17</td>\n",
       "      <td>NaN</td>\n",
       "      <td>0.0</td>\n",
       "      <td>Murder</td>\n",
       "      <td>05W</td>\n",
       "      <td>HEFFERNAN</td>\n",
       "      <td>-</td>\n",
       "      <td>-</td>\n",
       "      <td>NaN</td>\n",
       "    </tr>\n",
       "    <tr>\n",
       "      <th>1</th>\n",
       "      <td>1.0</td>\n",
       "      <td>11H40</td>\n",
       "      <td>10100-10199</td>\n",
       "      <td>2010-04-08</td>\n",
       "      <td>NaN</td>\n",
       "      <td>20.0</td>\n",
       "      <td>Murder</td>\n",
       "      <td>20R</td>\n",
       "      <td>LUCORE</td>\n",
       "      <td>-</td>\n",
       "      <td>-</td>\n",
       "      <td>NaN</td>\n",
       "    </tr>\n",
       "    <tr>\n",
       "      <th>2</th>\n",
       "      <td>2.0</td>\n",
       "      <td>19G20</td>\n",
       "      <td>11400-11499</td>\n",
       "      <td>2010-04-01</td>\n",
       "      <td>NaN</td>\n",
       "      <td>22.0</td>\n",
       "      <td>Murder</td>\n",
       "      <td>13R</td>\n",
       "      <td>CARVEL</td>\n",
       "      <td>-</td>\n",
       "      <td>LN</td>\n",
       "      <td>NaN</td>\n",
       "    </tr>\n",
       "    <tr>\n",
       "      <th>3</th>\n",
       "      <td>1.0</td>\n",
       "      <td>10H60</td>\n",
       "      <td>3700-3799</td>\n",
       "      <td>2010-04-17</td>\n",
       "      <td>NaN</td>\n",
       "      <td>1.0</td>\n",
       "      <td>Murder</td>\n",
       "      <td>13R</td>\n",
       "      <td>WHEELER</td>\n",
       "      <td>-</td>\n",
       "      <td>-</td>\n",
       "      <td>NaN</td>\n",
       "    </tr>\n",
       "    <tr>\n",
       "      <th>4</th>\n",
       "      <td>1.0</td>\n",
       "      <td>14D30</td>\n",
       "      <td>5100-5199</td>\n",
       "      <td>2010-04-08</td>\n",
       "      <td>NaN</td>\n",
       "      <td>23.0</td>\n",
       "      <td>Murder</td>\n",
       "      <td>20R</td>\n",
       "      <td>MYRTLEWOOD</td>\n",
       "      <td>-</td>\n",
       "      <td>DR</td>\n",
       "      <td>NaN</td>\n",
       "    </tr>\n",
       "  </tbody>\n",
       "</table>\n",
       "</div>"
      ],
      "text/plain": [
       "   # of offenses   beat  block range       date  field11  hour offense type  \\\n",
       "0            1.0  13D20    6600-6699 2010-04-17      NaN   0.0       Murder   \n",
       "1            1.0  11H40  10100-10199 2010-04-08      NaN  20.0       Murder   \n",
       "2            2.0  19G20  11400-11499 2010-04-01      NaN  22.0       Murder   \n",
       "3            1.0  10H60    3700-3799 2010-04-17      NaN   1.0       Murder   \n",
       "4            1.0  14D30    5100-5199 2010-04-08      NaN  23.0       Murder   \n",
       "\n",
       "  premise street name suffix type  unnamed: 1  \n",
       "0     05W   HEFFERNAN      -    -         NaN  \n",
       "1     20R      LUCORE      -    -         NaN  \n",
       "2     13R      CARVEL      -   LN         NaN  \n",
       "3     13R     WHEELER      -    -         NaN  \n",
       "4     20R  MYRTLEWOOD      -   DR         NaN  "
      ]
     },
     "execution_count": 11,
     "metadata": {},
     "output_type": "execute_result"
    }
   ],
   "source": [
    "df.head()"
   ]
  },
  {
   "cell_type": "code",
   "execution_count": 12,
   "metadata": {},
   "outputs": [
    {
     "name": "stdout",
     "output_type": "stream",
     "text": [
      "<class 'pandas.core.frame.DataFrame'>\n",
      "RangeIndex: 136263 entries, 0 to 136262\n",
      "Data columns (total 12 columns):\n",
      "num_offenses    136262 non-null float64\n",
      "beat            136262 non-null object\n",
      "block_range     136262 non-null object\n",
      "date            136262 non-null datetime64[ns]\n",
      "field11         0 non-null float64\n",
      "hour            136262 non-null float64\n",
      "offense_type    136262 non-null object\n",
      "premise         136262 non-null object\n",
      "street_name     136262 non-null object\n",
      "suffix          136262 non-null object\n",
      "type            136262 non-null object\n",
      "unnamed: 1      0 non-null float64\n",
      "dtypes: datetime64[ns](1), float64(4), object(7)\n",
      "memory usage: 12.5+ MB\n"
     ]
    }
   ],
   "source": [
    "df.rename(columns={\n",
    "    '# of offenses': 'num_offenses',\n",
    "     'offense type': 'offense_type',\n",
    "    'block range': 'block_range',\n",
    "    'street name': 'street_name'\n",
    "}, inplace=True)\n",
    "df.info()"
   ]
  },
  {
   "cell_type": "code",
   "execution_count": 13,
   "metadata": {},
   "outputs": [
    {
     "data": {
      "text/html": [
       "<div>\n",
       "<style scoped>\n",
       "    .dataframe tbody tr th:only-of-type {\n",
       "        vertical-align: middle;\n",
       "    }\n",
       "\n",
       "    .dataframe tbody tr th {\n",
       "        vertical-align: top;\n",
       "    }\n",
       "\n",
       "    .dataframe thead th {\n",
       "        text-align: right;\n",
       "    }\n",
       "</style>\n",
       "<table border=\"1\" class=\"dataframe\">\n",
       "  <thead>\n",
       "    <tr style=\"text-align: right;\">\n",
       "      <th></th>\n",
       "      <th>num_offenses</th>\n",
       "      <th>beat</th>\n",
       "      <th>block_range</th>\n",
       "      <th>date</th>\n",
       "      <th>field11</th>\n",
       "      <th>hour</th>\n",
       "      <th>offense_type</th>\n",
       "      <th>premise</th>\n",
       "      <th>street_name</th>\n",
       "      <th>suffix</th>\n",
       "      <th>type</th>\n",
       "      <th>unnamed: 1</th>\n",
       "    </tr>\n",
       "  </thead>\n",
       "  <tbody>\n",
       "    <tr>\n",
       "      <th>0</th>\n",
       "      <td>1.0</td>\n",
       "      <td>13D20</td>\n",
       "      <td>6600-6699</td>\n",
       "      <td>2010-04-17</td>\n",
       "      <td>NaN</td>\n",
       "      <td>0.0</td>\n",
       "      <td>Murder</td>\n",
       "      <td>05W</td>\n",
       "      <td>HEFFERNAN</td>\n",
       "      <td>-</td>\n",
       "      <td>-</td>\n",
       "      <td>NaN</td>\n",
       "    </tr>\n",
       "    <tr>\n",
       "      <th>1</th>\n",
       "      <td>1.0</td>\n",
       "      <td>11H40</td>\n",
       "      <td>10100-10199</td>\n",
       "      <td>2010-04-08</td>\n",
       "      <td>NaN</td>\n",
       "      <td>20.0</td>\n",
       "      <td>Murder</td>\n",
       "      <td>20R</td>\n",
       "      <td>LUCORE</td>\n",
       "      <td>-</td>\n",
       "      <td>-</td>\n",
       "      <td>NaN</td>\n",
       "    </tr>\n",
       "    <tr>\n",
       "      <th>2</th>\n",
       "      <td>2.0</td>\n",
       "      <td>19G20</td>\n",
       "      <td>11400-11499</td>\n",
       "      <td>2010-04-01</td>\n",
       "      <td>NaN</td>\n",
       "      <td>22.0</td>\n",
       "      <td>Murder</td>\n",
       "      <td>13R</td>\n",
       "      <td>CARVEL</td>\n",
       "      <td>-</td>\n",
       "      <td>LN</td>\n",
       "      <td>NaN</td>\n",
       "    </tr>\n",
       "    <tr>\n",
       "      <th>3</th>\n",
       "      <td>1.0</td>\n",
       "      <td>10H60</td>\n",
       "      <td>3700-3799</td>\n",
       "      <td>2010-04-17</td>\n",
       "      <td>NaN</td>\n",
       "      <td>1.0</td>\n",
       "      <td>Murder</td>\n",
       "      <td>13R</td>\n",
       "      <td>WHEELER</td>\n",
       "      <td>-</td>\n",
       "      <td>-</td>\n",
       "      <td>NaN</td>\n",
       "    </tr>\n",
       "    <tr>\n",
       "      <th>4</th>\n",
       "      <td>1.0</td>\n",
       "      <td>14D30</td>\n",
       "      <td>5100-5199</td>\n",
       "      <td>2010-04-08</td>\n",
       "      <td>NaN</td>\n",
       "      <td>23.0</td>\n",
       "      <td>Murder</td>\n",
       "      <td>20R</td>\n",
       "      <td>MYRTLEWOOD</td>\n",
       "      <td>-</td>\n",
       "      <td>DR</td>\n",
       "      <td>NaN</td>\n",
       "    </tr>\n",
       "  </tbody>\n",
       "</table>\n",
       "</div>"
      ],
      "text/plain": [
       "   num_offenses   beat  block_range       date  field11  hour offense_type  \\\n",
       "0           1.0  13D20    6600-6699 2010-04-17      NaN   0.0       Murder   \n",
       "1           1.0  11H40  10100-10199 2010-04-08      NaN  20.0       Murder   \n",
       "2           2.0  19G20  11400-11499 2010-04-01      NaN  22.0       Murder   \n",
       "3           1.0  10H60    3700-3799 2010-04-17      NaN   1.0       Murder   \n",
       "4           1.0  14D30    5100-5199 2010-04-08      NaN  23.0       Murder   \n",
       "\n",
       "  premise street_name suffix type  unnamed: 1  \n",
       "0     05W   HEFFERNAN      -    -         NaN  \n",
       "1     20R      LUCORE      -    -         NaN  \n",
       "2     13R      CARVEL      -   LN         NaN  \n",
       "3     13R     WHEELER      -    -         NaN  \n",
       "4     20R  MYRTLEWOOD      -   DR         NaN  "
      ]
     },
     "execution_count": 13,
     "metadata": {},
     "output_type": "execute_result"
    }
   ],
   "source": [
    "df.head()"
   ]
  },
  {
   "cell_type": "markdown",
   "metadata": {},
   "source": [
    "## Drop columns"
   ]
  },
  {
   "cell_type": "code",
   "execution_count": 14,
   "metadata": {},
   "outputs": [],
   "source": [
    "df.drop(['field11','suffix','unnamed: 1'],axis=1, inplace=True)"
   ]
  },
  {
   "cell_type": "code",
   "execution_count": 15,
   "metadata": {},
   "outputs": [
    {
     "data": {
      "text/html": [
       "<div>\n",
       "<style scoped>\n",
       "    .dataframe tbody tr th:only-of-type {\n",
       "        vertical-align: middle;\n",
       "    }\n",
       "\n",
       "    .dataframe tbody tr th {\n",
       "        vertical-align: top;\n",
       "    }\n",
       "\n",
       "    .dataframe thead th {\n",
       "        text-align: right;\n",
       "    }\n",
       "</style>\n",
       "<table border=\"1\" class=\"dataframe\">\n",
       "  <thead>\n",
       "    <tr style=\"text-align: right;\">\n",
       "      <th></th>\n",
       "      <th>num_offenses</th>\n",
       "      <th>beat</th>\n",
       "      <th>block_range</th>\n",
       "      <th>date</th>\n",
       "      <th>hour</th>\n",
       "      <th>offense_type</th>\n",
       "      <th>premise</th>\n",
       "      <th>street_name</th>\n",
       "      <th>type</th>\n",
       "    </tr>\n",
       "  </thead>\n",
       "  <tbody>\n",
       "    <tr>\n",
       "      <th>0</th>\n",
       "      <td>1.0</td>\n",
       "      <td>13D20</td>\n",
       "      <td>6600-6699</td>\n",
       "      <td>2010-04-17</td>\n",
       "      <td>0.0</td>\n",
       "      <td>Murder</td>\n",
       "      <td>05W</td>\n",
       "      <td>HEFFERNAN</td>\n",
       "      <td>-</td>\n",
       "    </tr>\n",
       "    <tr>\n",
       "      <th>1</th>\n",
       "      <td>1.0</td>\n",
       "      <td>11H40</td>\n",
       "      <td>10100-10199</td>\n",
       "      <td>2010-04-08</td>\n",
       "      <td>20.0</td>\n",
       "      <td>Murder</td>\n",
       "      <td>20R</td>\n",
       "      <td>LUCORE</td>\n",
       "      <td>-</td>\n",
       "    </tr>\n",
       "    <tr>\n",
       "      <th>2</th>\n",
       "      <td>2.0</td>\n",
       "      <td>19G20</td>\n",
       "      <td>11400-11499</td>\n",
       "      <td>2010-04-01</td>\n",
       "      <td>22.0</td>\n",
       "      <td>Murder</td>\n",
       "      <td>13R</td>\n",
       "      <td>CARVEL</td>\n",
       "      <td>LN</td>\n",
       "    </tr>\n",
       "    <tr>\n",
       "      <th>3</th>\n",
       "      <td>1.0</td>\n",
       "      <td>10H60</td>\n",
       "      <td>3700-3799</td>\n",
       "      <td>2010-04-17</td>\n",
       "      <td>1.0</td>\n",
       "      <td>Murder</td>\n",
       "      <td>13R</td>\n",
       "      <td>WHEELER</td>\n",
       "      <td>-</td>\n",
       "    </tr>\n",
       "    <tr>\n",
       "      <th>4</th>\n",
       "      <td>1.0</td>\n",
       "      <td>14D30</td>\n",
       "      <td>5100-5199</td>\n",
       "      <td>2010-04-08</td>\n",
       "      <td>23.0</td>\n",
       "      <td>Murder</td>\n",
       "      <td>20R</td>\n",
       "      <td>MYRTLEWOOD</td>\n",
       "      <td>DR</td>\n",
       "    </tr>\n",
       "  </tbody>\n",
       "</table>\n",
       "</div>"
      ],
      "text/plain": [
       "   num_offenses   beat  block_range       date  hour offense_type premise  \\\n",
       "0           1.0  13D20    6600-6699 2010-04-17   0.0       Murder     05W   \n",
       "1           1.0  11H40  10100-10199 2010-04-08  20.0       Murder     20R   \n",
       "2           2.0  19G20  11400-11499 2010-04-01  22.0       Murder     13R   \n",
       "3           1.0  10H60    3700-3799 2010-04-17   1.0       Murder     13R   \n",
       "4           1.0  14D30    5100-5199 2010-04-08  23.0       Murder     20R   \n",
       "\n",
       "  street_name type  \n",
       "0   HEFFERNAN    -  \n",
       "1      LUCORE    -  \n",
       "2      CARVEL   LN  \n",
       "3     WHEELER    -  \n",
       "4  MYRTLEWOOD   DR  "
      ]
     },
     "execution_count": 15,
     "metadata": {},
     "output_type": "execute_result"
    }
   ],
   "source": [
    "df.head()"
   ]
  },
  {
   "cell_type": "markdown",
   "metadata": {},
   "source": [
    "## Premise"
   ]
  },
  {
   "cell_type": "code",
   "execution_count": 16,
   "metadata": {},
   "outputs": [
    {
     "data": {
      "text/html": [
       "<div>\n",
       "<style scoped>\n",
       "    .dataframe tbody tr th:only-of-type {\n",
       "        vertical-align: middle;\n",
       "    }\n",
       "\n",
       "    .dataframe tbody tr th {\n",
       "        vertical-align: top;\n",
       "    }\n",
       "\n",
       "    .dataframe thead th {\n",
       "        text-align: right;\n",
       "    }\n",
       "</style>\n",
       "<table border=\"1\" class=\"dataframe\">\n",
       "  <thead>\n",
       "    <tr style=\"text-align: right;\">\n",
       "      <th></th>\n",
       "      <th>premise</th>\n",
       "      <th>premise_description</th>\n",
       "    </tr>\n",
       "  </thead>\n",
       "  <tbody>\n",
       "    <tr>\n",
       "      <th>0</th>\n",
       "      <td>01A</td>\n",
       "      <td>AIRPORT TERMINAL</td>\n",
       "    </tr>\n",
       "    <tr>\n",
       "      <th>1</th>\n",
       "      <td>01B</td>\n",
       "      <td>BUS STATION</td>\n",
       "    </tr>\n",
       "    <tr>\n",
       "      <th>2</th>\n",
       "      <td>01K</td>\n",
       "      <td>RAILROAD TRACK/RIGHT OF WAY</td>\n",
       "    </tr>\n",
       "    <tr>\n",
       "      <th>3</th>\n",
       "      <td>01P</td>\n",
       "      <td>PARK &amp; RIDE TERMINAL</td>\n",
       "    </tr>\n",
       "    <tr>\n",
       "      <th>4</th>\n",
       "      <td>01R</td>\n",
       "      <td>LIGHT RAIL VEHICLE</td>\n",
       "    </tr>\n",
       "  </tbody>\n",
       "</table>\n",
       "</div>"
      ],
      "text/plain": [
       "  premise          premise_description\n",
       "0     01A             AIRPORT TERMINAL\n",
       "1     01B                  BUS STATION\n",
       "2     01K  RAILROAD TRACK/RIGHT OF WAY\n",
       "3     01P         PARK & RIDE TERMINAL\n",
       "4     01R           LIGHT RAIL VEHICLE"
      ]
     },
     "execution_count": 16,
     "metadata": {},
     "output_type": "execute_result"
    }
   ],
   "source": [
    "premise_data = pd.read_csv(premise_dataset)\n",
    "#premise_data.columns = map(str.lower, premise_data.columns)\n",
    "premise_data.columns = ['premise','premise_description']\n",
    "premise_data.head()"
   ]
  },
  {
   "cell_type": "code",
   "execution_count": 17,
   "metadata": {},
   "outputs": [
    {
     "data": {
      "text/html": [
       "<div>\n",
       "<style scoped>\n",
       "    .dataframe tbody tr th:only-of-type {\n",
       "        vertical-align: middle;\n",
       "    }\n",
       "\n",
       "    .dataframe tbody tr th {\n",
       "        vertical-align: top;\n",
       "    }\n",
       "\n",
       "    .dataframe thead th {\n",
       "        text-align: right;\n",
       "    }\n",
       "</style>\n",
       "<table border=\"1\" class=\"dataframe\">\n",
       "  <thead>\n",
       "    <tr style=\"text-align: right;\">\n",
       "      <th></th>\n",
       "      <th>num_offenses</th>\n",
       "      <th>beat</th>\n",
       "      <th>block_range</th>\n",
       "      <th>date</th>\n",
       "      <th>hour</th>\n",
       "      <th>offense_type</th>\n",
       "      <th>premise</th>\n",
       "      <th>street_name</th>\n",
       "      <th>type</th>\n",
       "    </tr>\n",
       "  </thead>\n",
       "  <tbody>\n",
       "    <tr>\n",
       "      <th>0</th>\n",
       "      <td>1.0</td>\n",
       "      <td>13D20</td>\n",
       "      <td>6600-6699</td>\n",
       "      <td>2010-04-17</td>\n",
       "      <td>0.0</td>\n",
       "      <td>Murder</td>\n",
       "      <td>05W</td>\n",
       "      <td>HEFFERNAN</td>\n",
       "      <td>-</td>\n",
       "    </tr>\n",
       "    <tr>\n",
       "      <th>1</th>\n",
       "      <td>1.0</td>\n",
       "      <td>11H40</td>\n",
       "      <td>10100-10199</td>\n",
       "      <td>2010-04-08</td>\n",
       "      <td>20.0</td>\n",
       "      <td>Murder</td>\n",
       "      <td>20R</td>\n",
       "      <td>LUCORE</td>\n",
       "      <td>-</td>\n",
       "    </tr>\n",
       "    <tr>\n",
       "      <th>2</th>\n",
       "      <td>2.0</td>\n",
       "      <td>19G20</td>\n",
       "      <td>11400-11499</td>\n",
       "      <td>2010-04-01</td>\n",
       "      <td>22.0</td>\n",
       "      <td>Murder</td>\n",
       "      <td>13R</td>\n",
       "      <td>CARVEL</td>\n",
       "      <td>LN</td>\n",
       "    </tr>\n",
       "    <tr>\n",
       "      <th>3</th>\n",
       "      <td>1.0</td>\n",
       "      <td>10H60</td>\n",
       "      <td>3700-3799</td>\n",
       "      <td>2010-04-17</td>\n",
       "      <td>1.0</td>\n",
       "      <td>Murder</td>\n",
       "      <td>13R</td>\n",
       "      <td>WHEELER</td>\n",
       "      <td>-</td>\n",
       "    </tr>\n",
       "    <tr>\n",
       "      <th>4</th>\n",
       "      <td>1.0</td>\n",
       "      <td>14D30</td>\n",
       "      <td>5100-5199</td>\n",
       "      <td>2010-04-08</td>\n",
       "      <td>23.0</td>\n",
       "      <td>Murder</td>\n",
       "      <td>20R</td>\n",
       "      <td>MYRTLEWOOD</td>\n",
       "      <td>DR</td>\n",
       "    </tr>\n",
       "  </tbody>\n",
       "</table>\n",
       "</div>"
      ],
      "text/plain": [
       "   num_offenses   beat  block_range       date  hour offense_type premise  \\\n",
       "0           1.0  13D20    6600-6699 2010-04-17   0.0       Murder     05W   \n",
       "1           1.0  11H40  10100-10199 2010-04-08  20.0       Murder     20R   \n",
       "2           2.0  19G20  11400-11499 2010-04-01  22.0       Murder     13R   \n",
       "3           1.0  10H60    3700-3799 2010-04-17   1.0       Murder     13R   \n",
       "4           1.0  14D30    5100-5199 2010-04-08  23.0       Murder     20R   \n",
       "\n",
       "  street_name type  \n",
       "0   HEFFERNAN    -  \n",
       "1      LUCORE    -  \n",
       "2      CARVEL   LN  \n",
       "3     WHEELER    -  \n",
       "4  MYRTLEWOOD   DR  "
      ]
     },
     "execution_count": 17,
     "metadata": {},
     "output_type": "execute_result"
    }
   ],
   "source": [
    "df.head()"
   ]
  },
  {
   "cell_type": "code",
   "execution_count": 18,
   "metadata": {},
   "outputs": [],
   "source": [
    "df = pd.merge(df, premise_data, on='premise', how='outer')"
   ]
  },
  {
   "cell_type": "code",
   "execution_count": 19,
   "metadata": {},
   "outputs": [
    {
     "data": {
      "text/html": [
       "<div>\n",
       "<style scoped>\n",
       "    .dataframe tbody tr th:only-of-type {\n",
       "        vertical-align: middle;\n",
       "    }\n",
       "\n",
       "    .dataframe tbody tr th {\n",
       "        vertical-align: top;\n",
       "    }\n",
       "\n",
       "    .dataframe thead th {\n",
       "        text-align: right;\n",
       "    }\n",
       "</style>\n",
       "<table border=\"1\" class=\"dataframe\">\n",
       "  <thead>\n",
       "    <tr style=\"text-align: right;\">\n",
       "      <th></th>\n",
       "      <th>num_offenses</th>\n",
       "      <th>beat</th>\n",
       "      <th>block_range</th>\n",
       "      <th>date</th>\n",
       "      <th>hour</th>\n",
       "      <th>offense_type</th>\n",
       "      <th>premise</th>\n",
       "      <th>street_name</th>\n",
       "      <th>type</th>\n",
       "      <th>premise_description</th>\n",
       "    </tr>\n",
       "  </thead>\n",
       "  <tbody>\n",
       "    <tr>\n",
       "      <th>0</th>\n",
       "      <td>1.0</td>\n",
       "      <td>13D20</td>\n",
       "      <td>6600-6699</td>\n",
       "      <td>2010-04-17</td>\n",
       "      <td>0.0</td>\n",
       "      <td>Murder</td>\n",
       "      <td>05W</td>\n",
       "      <td>HEFFERNAN</td>\n",
       "      <td>-</td>\n",
       "      <td>WAREHOUSE</td>\n",
       "    </tr>\n",
       "    <tr>\n",
       "      <th>1</th>\n",
       "      <td>1.0</td>\n",
       "      <td>14D20</td>\n",
       "      <td>3400-3499</td>\n",
       "      <td>2010-04-01</td>\n",
       "      <td>0.0</td>\n",
       "      <td>Burglary</td>\n",
       "      <td>05W</td>\n",
       "      <td>CORDER</td>\n",
       "      <td>ST</td>\n",
       "      <td>WAREHOUSE</td>\n",
       "    </tr>\n",
       "    <tr>\n",
       "      <th>2</th>\n",
       "      <td>1.0</td>\n",
       "      <td>6B40</td>\n",
       "      <td>10200-10299</td>\n",
       "      <td>2010-04-08</td>\n",
       "      <td>23.0</td>\n",
       "      <td>Burglary</td>\n",
       "      <td>05W</td>\n",
       "      <td>NORTH</td>\n",
       "      <td>FWY</td>\n",
       "      <td>WAREHOUSE</td>\n",
       "    </tr>\n",
       "    <tr>\n",
       "      <th>3</th>\n",
       "      <td>1.0</td>\n",
       "      <td>13D10</td>\n",
       "      <td>6100-6199</td>\n",
       "      <td>2010-04-23</td>\n",
       "      <td>19.0</td>\n",
       "      <td>Burglary</td>\n",
       "      <td>05W</td>\n",
       "      <td>SOUTH LP E</td>\n",
       "      <td>SER</td>\n",
       "      <td>WAREHOUSE</td>\n",
       "    </tr>\n",
       "    <tr>\n",
       "      <th>4</th>\n",
       "      <td>1.0</td>\n",
       "      <td>3B10</td>\n",
       "      <td>5900-5999</td>\n",
       "      <td>2010-04-06</td>\n",
       "      <td>17.0</td>\n",
       "      <td>Burglary</td>\n",
       "      <td>05W</td>\n",
       "      <td>CENTRALCREST</td>\n",
       "      <td>ST</td>\n",
       "      <td>WAREHOUSE</td>\n",
       "    </tr>\n",
       "  </tbody>\n",
       "</table>\n",
       "</div>"
      ],
      "text/plain": [
       "   num_offenses   beat  block_range       date  hour offense_type premise  \\\n",
       "0           1.0  13D20    6600-6699 2010-04-17   0.0       Murder     05W   \n",
       "1           1.0  14D20    3400-3499 2010-04-01   0.0     Burglary     05W   \n",
       "2           1.0   6B40  10200-10299 2010-04-08  23.0     Burglary     05W   \n",
       "3           1.0  13D10    6100-6199 2010-04-23  19.0     Burglary     05W   \n",
       "4           1.0   3B10    5900-5999 2010-04-06  17.0     Burglary     05W   \n",
       "\n",
       "    street_name type premise_description  \n",
       "0     HEFFERNAN    -           WAREHOUSE  \n",
       "1        CORDER   ST           WAREHOUSE  \n",
       "2         NORTH  FWY           WAREHOUSE  \n",
       "3    SOUTH LP E  SER           WAREHOUSE  \n",
       "4  CENTRALCREST   ST           WAREHOUSE  "
      ]
     },
     "execution_count": 19,
     "metadata": {},
     "output_type": "execute_result"
    }
   ],
   "source": [
    "df.head()"
   ]
  },
  {
   "cell_type": "markdown",
   "metadata": {},
   "source": [
    "## Drop premise column"
   ]
  },
  {
   "cell_type": "code",
   "execution_count": 20,
   "metadata": {},
   "outputs": [],
   "source": [
    "df.drop(['premise'],axis=1, inplace=True)"
   ]
  },
  {
   "cell_type": "markdown",
   "metadata": {},
   "source": [
    "## Rename premise_description to premise"
   ]
  },
  {
   "cell_type": "code",
   "execution_count": 21,
   "metadata": {},
   "outputs": [],
   "source": [
    "df.rename(columns={\n",
    "    'premise_description': 'premise',\n",
    "}, inplace=True)"
   ]
  },
  {
   "cell_type": "code",
   "execution_count": 22,
   "metadata": {},
   "outputs": [
    {
     "data": {
      "text/html": [
       "<div>\n",
       "<style scoped>\n",
       "    .dataframe tbody tr th:only-of-type {\n",
       "        vertical-align: middle;\n",
       "    }\n",
       "\n",
       "    .dataframe tbody tr th {\n",
       "        vertical-align: top;\n",
       "    }\n",
       "\n",
       "    .dataframe thead th {\n",
       "        text-align: right;\n",
       "    }\n",
       "</style>\n",
       "<table border=\"1\" class=\"dataframe\">\n",
       "  <thead>\n",
       "    <tr style=\"text-align: right;\">\n",
       "      <th></th>\n",
       "      <th>num_offenses</th>\n",
       "      <th>beat</th>\n",
       "      <th>block_range</th>\n",
       "      <th>date</th>\n",
       "      <th>hour</th>\n",
       "      <th>offense_type</th>\n",
       "      <th>street_name</th>\n",
       "      <th>type</th>\n",
       "      <th>premise</th>\n",
       "    </tr>\n",
       "  </thead>\n",
       "  <tbody>\n",
       "    <tr>\n",
       "      <th>0</th>\n",
       "      <td>1.0</td>\n",
       "      <td>13D20</td>\n",
       "      <td>6600-6699</td>\n",
       "      <td>2010-04-17</td>\n",
       "      <td>0.0</td>\n",
       "      <td>Murder</td>\n",
       "      <td>HEFFERNAN</td>\n",
       "      <td>-</td>\n",
       "      <td>WAREHOUSE</td>\n",
       "    </tr>\n",
       "    <tr>\n",
       "      <th>1</th>\n",
       "      <td>1.0</td>\n",
       "      <td>14D20</td>\n",
       "      <td>3400-3499</td>\n",
       "      <td>2010-04-01</td>\n",
       "      <td>0.0</td>\n",
       "      <td>Burglary</td>\n",
       "      <td>CORDER</td>\n",
       "      <td>ST</td>\n",
       "      <td>WAREHOUSE</td>\n",
       "    </tr>\n",
       "    <tr>\n",
       "      <th>2</th>\n",
       "      <td>1.0</td>\n",
       "      <td>6B40</td>\n",
       "      <td>10200-10299</td>\n",
       "      <td>2010-04-08</td>\n",
       "      <td>23.0</td>\n",
       "      <td>Burglary</td>\n",
       "      <td>NORTH</td>\n",
       "      <td>FWY</td>\n",
       "      <td>WAREHOUSE</td>\n",
       "    </tr>\n",
       "    <tr>\n",
       "      <th>3</th>\n",
       "      <td>1.0</td>\n",
       "      <td>13D10</td>\n",
       "      <td>6100-6199</td>\n",
       "      <td>2010-04-23</td>\n",
       "      <td>19.0</td>\n",
       "      <td>Burglary</td>\n",
       "      <td>SOUTH LP E</td>\n",
       "      <td>SER</td>\n",
       "      <td>WAREHOUSE</td>\n",
       "    </tr>\n",
       "    <tr>\n",
       "      <th>4</th>\n",
       "      <td>1.0</td>\n",
       "      <td>3B10</td>\n",
       "      <td>5900-5999</td>\n",
       "      <td>2010-04-06</td>\n",
       "      <td>17.0</td>\n",
       "      <td>Burglary</td>\n",
       "      <td>CENTRALCREST</td>\n",
       "      <td>ST</td>\n",
       "      <td>WAREHOUSE</td>\n",
       "    </tr>\n",
       "  </tbody>\n",
       "</table>\n",
       "</div>"
      ],
      "text/plain": [
       "   num_offenses   beat  block_range       date  hour offense_type  \\\n",
       "0           1.0  13D20    6600-6699 2010-04-17   0.0       Murder   \n",
       "1           1.0  14D20    3400-3499 2010-04-01   0.0     Burglary   \n",
       "2           1.0   6B40  10200-10299 2010-04-08  23.0     Burglary   \n",
       "3           1.0  13D10    6100-6199 2010-04-23  19.0     Burglary   \n",
       "4           1.0   3B10    5900-5999 2010-04-06  17.0     Burglary   \n",
       "\n",
       "    street_name type    premise  \n",
       "0     HEFFERNAN    -  WAREHOUSE  \n",
       "1        CORDER   ST  WAREHOUSE  \n",
       "2         NORTH  FWY  WAREHOUSE  \n",
       "3    SOUTH LP E  SER  WAREHOUSE  \n",
       "4  CENTRALCREST   ST  WAREHOUSE  "
      ]
     },
     "execution_count": 22,
     "metadata": {},
     "output_type": "execute_result"
    }
   ],
   "source": [
    "df.head()"
   ]
  },
  {
   "cell_type": "markdown",
   "metadata": {},
   "source": [
    "# Null values"
   ]
  },
  {
   "cell_type": "code",
   "execution_count": 23,
   "metadata": {},
   "outputs": [
    {
     "data": {
      "text/plain": [
       "num_offenses     2\n",
       "beat             2\n",
       "block_range      2\n",
       "date             2\n",
       "hour             2\n",
       "offense_type     2\n",
       "street_name      2\n",
       "type             2\n",
       "premise         50\n",
       "dtype: int64"
      ]
     },
     "execution_count": 23,
     "metadata": {},
     "output_type": "execute_result"
    }
   ],
   "source": [
    "df.apply(lambda x: sum(x.isnull()))"
   ]
  },
  {
   "cell_type": "code",
   "execution_count": 24,
   "metadata": {},
   "outputs": [
    {
     "data": {
      "text/html": [
       "<div>\n",
       "<style scoped>\n",
       "    .dataframe tbody tr th:only-of-type {\n",
       "        vertical-align: middle;\n",
       "    }\n",
       "\n",
       "    .dataframe tbody tr th {\n",
       "        vertical-align: top;\n",
       "    }\n",
       "\n",
       "    .dataframe thead th {\n",
       "        text-align: right;\n",
       "    }\n",
       "</style>\n",
       "<table border=\"1\" class=\"dataframe\">\n",
       "  <thead>\n",
       "    <tr style=\"text-align: right;\">\n",
       "      <th></th>\n",
       "      <th>num_offenses</th>\n",
       "      <th>beat</th>\n",
       "      <th>block_range</th>\n",
       "      <th>date</th>\n",
       "      <th>hour</th>\n",
       "      <th>offense_type</th>\n",
       "      <th>street_name</th>\n",
       "      <th>type</th>\n",
       "      <th>premise</th>\n",
       "    </tr>\n",
       "  </thead>\n",
       "  <tbody>\n",
       "    <tr>\n",
       "      <th>135940</th>\n",
       "      <td>1.0</td>\n",
       "      <td>19G40</td>\n",
       "      <td>12400-12499</td>\n",
       "      <td>2010-10-13</td>\n",
       "      <td>0.0</td>\n",
       "      <td>Aggravated Assault</td>\n",
       "      <td>DAIRY ASHFORD</td>\n",
       "      <td>-</td>\n",
       "      <td>NaN</td>\n",
       "    </tr>\n",
       "    <tr>\n",
       "      <th>135941</th>\n",
       "      <td>1.0</td>\n",
       "      <td>15E10</td>\n",
       "      <td>8900-8999</td>\n",
       "      <td>2010-10-07</td>\n",
       "      <td>0.0</td>\n",
       "      <td>Aggravated Assault</td>\n",
       "      <td>CHIMNEY ROCK</td>\n",
       "      <td>RD</td>\n",
       "      <td>NaN</td>\n",
       "    </tr>\n",
       "    <tr>\n",
       "      <th>135942</th>\n",
       "      <td>1.0</td>\n",
       "      <td>20G30</td>\n",
       "      <td>3200-3299</td>\n",
       "      <td>2010-11-09</td>\n",
       "      <td>8.0</td>\n",
       "      <td>Auto Theft</td>\n",
       "      <td>DAIRY ASHFORD</td>\n",
       "      <td>-</td>\n",
       "      <td>NaN</td>\n",
       "    </tr>\n",
       "    <tr>\n",
       "      <th>135943</th>\n",
       "      <td>1.0</td>\n",
       "      <td>20G30</td>\n",
       "      <td>2700-2799</td>\n",
       "      <td>2010-10-17</td>\n",
       "      <td>15.0</td>\n",
       "      <td>Theft</td>\n",
       "      <td>KIRKWOOD</td>\n",
       "      <td>DR</td>\n",
       "      <td>NaN</td>\n",
       "    </tr>\n",
       "    <tr>\n",
       "      <th>136255</th>\n",
       "      <td>1.0</td>\n",
       "      <td>7C20</td>\n",
       "      <td>5700-5799</td>\n",
       "      <td>2010-06-25</td>\n",
       "      <td>11.0</td>\n",
       "      <td>Theft</td>\n",
       "      <td>LOCKWOOD</td>\n",
       "      <td>DR</td>\n",
       "      <td>NaN</td>\n",
       "    </tr>\n",
       "    <tr>\n",
       "      <th>136256</th>\n",
       "      <td>1.0</td>\n",
       "      <td>8C10</td>\n",
       "      <td>9600-9699</td>\n",
       "      <td>2010-06-24</td>\n",
       "      <td>11.0</td>\n",
       "      <td>Theft</td>\n",
       "      <td>HOMESTEAD</td>\n",
       "      <td>RD</td>\n",
       "      <td>NaN</td>\n",
       "    </tr>\n",
       "    <tr>\n",
       "      <th>136257</th>\n",
       "      <td>1.0</td>\n",
       "      <td>11H10</td>\n",
       "      <td>7500-7599</td>\n",
       "      <td>2010-09-04</td>\n",
       "      <td>22.0</td>\n",
       "      <td>Theft</td>\n",
       "      <td>HARRISBURG</td>\n",
       "      <td>BLVD</td>\n",
       "      <td>NaN</td>\n",
       "    </tr>\n",
       "    <tr>\n",
       "      <th>136259</th>\n",
       "      <td>1.0</td>\n",
       "      <td>17E40</td>\n",
       "      <td>12300-12399</td>\n",
       "      <td>2010-09-09</td>\n",
       "      <td>0.0</td>\n",
       "      <td>Theft</td>\n",
       "      <td>FAIRMEADOW</td>\n",
       "      <td>DR</td>\n",
       "      <td>NaN</td>\n",
       "    </tr>\n",
       "    <tr>\n",
       "      <th>136262</th>\n",
       "      <td>NaN</td>\n",
       "      <td>NaN</td>\n",
       "      <td>NaN</td>\n",
       "      <td>NaT</td>\n",
       "      <td>NaN</td>\n",
       "      <td>NaN</td>\n",
       "      <td>NaN</td>\n",
       "      <td>NaN</td>\n",
       "      <td>NaN</td>\n",
       "    </tr>\n",
       "    <tr>\n",
       "      <th>136263</th>\n",
       "      <td>NaN</td>\n",
       "      <td>NaN</td>\n",
       "      <td>NaN</td>\n",
       "      <td>NaT</td>\n",
       "      <td>NaN</td>\n",
       "      <td>NaN</td>\n",
       "      <td>NaN</td>\n",
       "      <td>NaN</td>\n",
       "      <td>VACANT JAIL/PRISON</td>\n",
       "    </tr>\n",
       "  </tbody>\n",
       "</table>\n",
       "</div>"
      ],
      "text/plain": [
       "        num_offenses   beat  block_range       date  hour        offense_type  \\\n",
       "135940           1.0  19G40  12400-12499 2010-10-13   0.0  Aggravated Assault   \n",
       "135941           1.0  15E10    8900-8999 2010-10-07   0.0  Aggravated Assault   \n",
       "135942           1.0  20G30    3200-3299 2010-11-09   8.0          Auto Theft   \n",
       "135943           1.0  20G30    2700-2799 2010-10-17  15.0               Theft   \n",
       "136255           1.0   7C20    5700-5799 2010-06-25  11.0               Theft   \n",
       "136256           1.0   8C10    9600-9699 2010-06-24  11.0               Theft   \n",
       "136257           1.0  11H10    7500-7599 2010-09-04  22.0               Theft   \n",
       "136259           1.0  17E40  12300-12399 2010-09-09   0.0               Theft   \n",
       "136262           NaN    NaN          NaN        NaT   NaN                 NaN   \n",
       "136263           NaN    NaN          NaN        NaT   NaN                 NaN   \n",
       "\n",
       "          street_name  type             premise  \n",
       "135940  DAIRY ASHFORD     -                 NaN  \n",
       "135941   CHIMNEY ROCK    RD                 NaN  \n",
       "135942  DAIRY ASHFORD     -                 NaN  \n",
       "135943       KIRKWOOD    DR                 NaN  \n",
       "136255       LOCKWOOD    DR                 NaN  \n",
       "136256      HOMESTEAD    RD                 NaN  \n",
       "136257     HARRISBURG  BLVD                 NaN  \n",
       "136259     FAIRMEADOW    DR                 NaN  \n",
       "136262            NaN   NaN                 NaN  \n",
       "136263            NaN   NaN  VACANT JAIL/PRISON  "
      ]
     },
     "execution_count": 24,
     "metadata": {},
     "output_type": "execute_result"
    }
   ],
   "source": [
    "df[df.isnull().any(axis=1)][-10:]  # display last 10"
   ]
  },
  {
   "cell_type": "markdown",
   "metadata": {},
   "source": [
    "### Drop rows with more than 3 null values"
   ]
  },
  {
   "cell_type": "code",
   "execution_count": 25,
   "metadata": {},
   "outputs": [],
   "source": [
    "df.dropna(thresh=3,inplace=True)"
   ]
  },
  {
   "cell_type": "code",
   "execution_count": 26,
   "metadata": {},
   "outputs": [
    {
     "data": {
      "text/html": [
       "<div>\n",
       "<style scoped>\n",
       "    .dataframe tbody tr th:only-of-type {\n",
       "        vertical-align: middle;\n",
       "    }\n",
       "\n",
       "    .dataframe tbody tr th {\n",
       "        vertical-align: top;\n",
       "    }\n",
       "\n",
       "    .dataframe thead th {\n",
       "        text-align: right;\n",
       "    }\n",
       "</style>\n",
       "<table border=\"1\" class=\"dataframe\">\n",
       "  <thead>\n",
       "    <tr style=\"text-align: right;\">\n",
       "      <th></th>\n",
       "      <th>num_offenses</th>\n",
       "      <th>beat</th>\n",
       "      <th>block_range</th>\n",
       "      <th>date</th>\n",
       "      <th>hour</th>\n",
       "      <th>offense_type</th>\n",
       "      <th>street_name</th>\n",
       "      <th>type</th>\n",
       "      <th>premise</th>\n",
       "    </tr>\n",
       "  </thead>\n",
       "  <tbody>\n",
       "    <tr>\n",
       "      <th>135938</th>\n",
       "      <td>1.0</td>\n",
       "      <td>19G50</td>\n",
       "      <td>11700-11799</td>\n",
       "      <td>2010-03-05</td>\n",
       "      <td>0.0</td>\n",
       "      <td>Theft</td>\n",
       "      <td>WILCREST</td>\n",
       "      <td>DR</td>\n",
       "      <td>NaN</td>\n",
       "    </tr>\n",
       "    <tr>\n",
       "      <th>135939</th>\n",
       "      <td>1.0</td>\n",
       "      <td>9C40</td>\n",
       "      <td>800-899</td>\n",
       "      <td>2010-05-10</td>\n",
       "      <td>14.0</td>\n",
       "      <td>Theft</td>\n",
       "      <td>EVANSTON</td>\n",
       "      <td>ST</td>\n",
       "      <td>NaN</td>\n",
       "    </tr>\n",
       "    <tr>\n",
       "      <th>135940</th>\n",
       "      <td>1.0</td>\n",
       "      <td>19G40</td>\n",
       "      <td>12400-12499</td>\n",
       "      <td>2010-10-13</td>\n",
       "      <td>0.0</td>\n",
       "      <td>Aggravated Assault</td>\n",
       "      <td>DAIRY ASHFORD</td>\n",
       "      <td>-</td>\n",
       "      <td>NaN</td>\n",
       "    </tr>\n",
       "    <tr>\n",
       "      <th>135941</th>\n",
       "      <td>1.0</td>\n",
       "      <td>15E10</td>\n",
       "      <td>8900-8999</td>\n",
       "      <td>2010-10-07</td>\n",
       "      <td>0.0</td>\n",
       "      <td>Aggravated Assault</td>\n",
       "      <td>CHIMNEY ROCK</td>\n",
       "      <td>RD</td>\n",
       "      <td>NaN</td>\n",
       "    </tr>\n",
       "    <tr>\n",
       "      <th>135942</th>\n",
       "      <td>1.0</td>\n",
       "      <td>20G30</td>\n",
       "      <td>3200-3299</td>\n",
       "      <td>2010-11-09</td>\n",
       "      <td>8.0</td>\n",
       "      <td>Auto Theft</td>\n",
       "      <td>DAIRY ASHFORD</td>\n",
       "      <td>-</td>\n",
       "      <td>NaN</td>\n",
       "    </tr>\n",
       "    <tr>\n",
       "      <th>135943</th>\n",
       "      <td>1.0</td>\n",
       "      <td>20G30</td>\n",
       "      <td>2700-2799</td>\n",
       "      <td>2010-10-17</td>\n",
       "      <td>15.0</td>\n",
       "      <td>Theft</td>\n",
       "      <td>KIRKWOOD</td>\n",
       "      <td>DR</td>\n",
       "      <td>NaN</td>\n",
       "    </tr>\n",
       "    <tr>\n",
       "      <th>136255</th>\n",
       "      <td>1.0</td>\n",
       "      <td>7C20</td>\n",
       "      <td>5700-5799</td>\n",
       "      <td>2010-06-25</td>\n",
       "      <td>11.0</td>\n",
       "      <td>Theft</td>\n",
       "      <td>LOCKWOOD</td>\n",
       "      <td>DR</td>\n",
       "      <td>NaN</td>\n",
       "    </tr>\n",
       "    <tr>\n",
       "      <th>136256</th>\n",
       "      <td>1.0</td>\n",
       "      <td>8C10</td>\n",
       "      <td>9600-9699</td>\n",
       "      <td>2010-06-24</td>\n",
       "      <td>11.0</td>\n",
       "      <td>Theft</td>\n",
       "      <td>HOMESTEAD</td>\n",
       "      <td>RD</td>\n",
       "      <td>NaN</td>\n",
       "    </tr>\n",
       "    <tr>\n",
       "      <th>136257</th>\n",
       "      <td>1.0</td>\n",
       "      <td>11H10</td>\n",
       "      <td>7500-7599</td>\n",
       "      <td>2010-09-04</td>\n",
       "      <td>22.0</td>\n",
       "      <td>Theft</td>\n",
       "      <td>HARRISBURG</td>\n",
       "      <td>BLVD</td>\n",
       "      <td>NaN</td>\n",
       "    </tr>\n",
       "    <tr>\n",
       "      <th>136259</th>\n",
       "      <td>1.0</td>\n",
       "      <td>17E40</td>\n",
       "      <td>12300-12399</td>\n",
       "      <td>2010-09-09</td>\n",
       "      <td>0.0</td>\n",
       "      <td>Theft</td>\n",
       "      <td>FAIRMEADOW</td>\n",
       "      <td>DR</td>\n",
       "      <td>NaN</td>\n",
       "    </tr>\n",
       "  </tbody>\n",
       "</table>\n",
       "</div>"
      ],
      "text/plain": [
       "        num_offenses   beat  block_range       date  hour        offense_type  \\\n",
       "135938           1.0  19G50  11700-11799 2010-03-05   0.0               Theft   \n",
       "135939           1.0   9C40      800-899 2010-05-10  14.0               Theft   \n",
       "135940           1.0  19G40  12400-12499 2010-10-13   0.0  Aggravated Assault   \n",
       "135941           1.0  15E10    8900-8999 2010-10-07   0.0  Aggravated Assault   \n",
       "135942           1.0  20G30    3200-3299 2010-11-09   8.0          Auto Theft   \n",
       "135943           1.0  20G30    2700-2799 2010-10-17  15.0               Theft   \n",
       "136255           1.0   7C20    5700-5799 2010-06-25  11.0               Theft   \n",
       "136256           1.0   8C10    9600-9699 2010-06-24  11.0               Theft   \n",
       "136257           1.0  11H10    7500-7599 2010-09-04  22.0               Theft   \n",
       "136259           1.0  17E40  12300-12399 2010-09-09   0.0               Theft   \n",
       "\n",
       "          street_name  type premise  \n",
       "135938       WILCREST    DR     NaN  \n",
       "135939       EVANSTON    ST     NaN  \n",
       "135940  DAIRY ASHFORD     -     NaN  \n",
       "135941   CHIMNEY ROCK    RD     NaN  \n",
       "135942  DAIRY ASHFORD     -     NaN  \n",
       "135943       KIRKWOOD    DR     NaN  \n",
       "136255       LOCKWOOD    DR     NaN  \n",
       "136256      HOMESTEAD    RD     NaN  \n",
       "136257     HARRISBURG  BLVD     NaN  \n",
       "136259     FAIRMEADOW    DR     NaN  "
      ]
     },
     "execution_count": 26,
     "metadata": {},
     "output_type": "execute_result"
    }
   ],
   "source": [
    "df[df.isnull().any(axis=1)][-10:]  # display last 10"
   ]
  },
  {
   "cell_type": "markdown",
   "metadata": {},
   "source": [
    "### Replace null values on premise_code to 'none'"
   ]
  },
  {
   "cell_type": "code",
   "execution_count": 27,
   "metadata": {},
   "outputs": [],
   "source": [
    "df.premise.fillna('UNK',inplace=True)"
   ]
  },
  {
   "cell_type": "code",
   "execution_count": 28,
   "metadata": {},
   "outputs": [
    {
     "data": {
      "text/plain": [
       "num_offenses    0\n",
       "beat            0\n",
       "block_range     0\n",
       "date            0\n",
       "hour            0\n",
       "offense_type    0\n",
       "street_name     0\n",
       "type            0\n",
       "premise         0\n",
       "dtype: int64"
      ]
     },
     "execution_count": 28,
     "metadata": {},
     "output_type": "execute_result"
    }
   ],
   "source": [
    "df.apply(lambda x: sum(x.isnull()))"
   ]
  },
  {
   "cell_type": "code",
   "execution_count": null,
   "metadata": {},
   "outputs": [],
   "source": []
  },
  {
   "cell_type": "markdown",
   "metadata": {},
   "source": [
    "# Inspect each column"
   ]
  },
  {
   "cell_type": "markdown",
   "metadata": {},
   "source": [
    "## `num_offenses`"
   ]
  },
  {
   "cell_type": "code",
   "execution_count": 29,
   "metadata": {},
   "outputs": [
    {
     "data": {
      "text/plain": [
       "1.0     134987\n",
       "2.0       1046\n",
       "3.0        212\n",
       "4.0          9\n",
       "5.0          3\n",
       "6.0          2\n",
       "9.0          2\n",
       "16.0         1\n",
       "Name: num_offenses, dtype: int64"
      ]
     },
     "execution_count": 29,
     "metadata": {},
     "output_type": "execute_result"
    }
   ],
   "source": [
    "df.num_offenses.value_counts(dropna=False)"
   ]
  },
  {
   "cell_type": "code",
   "execution_count": 30,
   "metadata": {},
   "outputs": [
    {
     "data": {
      "text/plain": [
       "dtype('float64')"
      ]
     },
     "execution_count": 30,
     "metadata": {},
     "output_type": "execute_result"
    }
   ],
   "source": [
    "df.num_offenses.dtype"
   ]
  },
  {
   "cell_type": "markdown",
   "metadata": {},
   "source": [
    "### Change the type from float to integer"
   ]
  },
  {
   "cell_type": "code",
   "execution_count": 31,
   "metadata": {},
   "outputs": [],
   "source": [
    "df.num_offenses = df.num_offenses.astype('int')"
   ]
  },
  {
   "cell_type": "code",
   "execution_count": 32,
   "metadata": {},
   "outputs": [
    {
     "data": {
      "text/plain": [
       "dtype('int64')"
      ]
     },
     "execution_count": 32,
     "metadata": {},
     "output_type": "execute_result"
    }
   ],
   "source": [
    "df.num_offenses.dtype"
   ]
  },
  {
   "cell_type": "code",
   "execution_count": 33,
   "metadata": {},
   "outputs": [
    {
     "data": {
      "text/plain": [
       "1     134987\n",
       "2       1046\n",
       "3        212\n",
       "4          9\n",
       "5          3\n",
       "9          2\n",
       "6          2\n",
       "16         1\n",
       "Name: num_offenses, dtype: int64"
      ]
     },
     "execution_count": 33,
     "metadata": {},
     "output_type": "execute_result"
    }
   ],
   "source": [
    "df.num_offenses.value_counts(dropna=False)"
   ]
  },
  {
   "cell_type": "markdown",
   "metadata": {},
   "source": [
    "## `beat`"
   ]
  },
  {
   "cell_type": "code",
   "execution_count": 34,
   "metadata": {},
   "outputs": [
    {
     "data": {
      "text/plain": [
       "122"
      ]
     },
     "execution_count": 34,
     "metadata": {},
     "output_type": "execute_result"
    }
   ],
   "source": [
    "len(df.beat.value_counts(dropna='False'))"
   ]
  },
  {
   "cell_type": "code",
   "execution_count": 35,
   "metadata": {},
   "outputs": [
    {
     "data": {
      "text/plain": [
       "array(['13D20', '14D20', '6B40', '13D10', '3B10', '10H10', '3B30',\n",
       "       '15E40', '3B50', '9C20', '10H70', '5F30', '9C10', '3B40', '4F30',\n",
       "       '14D10', '5F20', '13D30', '7C10', '6B30', '10H30', '14D50', '6B20',\n",
       "       '18F50', '2A60', '11H10', '19G50', '9C30', '7C20', '16E10',\n",
       "       '11H50', '10H20', '2A40', '20G10', '6B60', '11H20', '14D30',\n",
       "       '18F30', '20G30', '8C40', '13D40', '2A30', '18F10', '15E30',\n",
       "       '16E30', '2A20', '7C50', '7C30', '17E20', '2A10', '17E30', '16E20',\n",
       "       '15E20', '1A50', '5F10', '14D40', '4F20', '2A50', '19G40', '5F40',\n",
       "       '18F60', '20G40', '17E10', '10H50', '20G50', '8C20', '20G70',\n",
       "       '20G60', '7C40', '8C10', '6B10', '4F10', '18F40', '15E10', '12D40',\n",
       "       '11H40', '19G30', '16E40', 'UNK', '9C40', '12D10', '8C60', '10H80',\n",
       "       '8C50', '18F20', '17E40', '1A20', '24C10', '8C30', '11H30',\n",
       "       '24C40', '12D50', '10H60', '12D20', '24C30', '12D70', '20G20',\n",
       "       '20G80', '19G10', '19G20', '10H40', '6B50', '12D60', '1A30',\n",
       "       '23J40', '24C20', '12D30', '1A40', '24C50', '1A10', '21I50',\n",
       "       '21I20', '21I30', '21I10', '23J50', '21I40', '21I60', '23J10',\n",
       "       '23J30', '21I70', '23J20', '7C60'], dtype=object)"
      ]
     },
     "execution_count": 35,
     "metadata": {},
     "output_type": "execute_result"
    }
   ],
   "source": [
    "df.beat.unique()"
   ]
  },
  {
   "cell_type": "code",
   "execution_count": 36,
   "metadata": {},
   "outputs": [],
   "source": [
    "df.beat = df.beat.str.strip()"
   ]
  },
  {
   "cell_type": "markdown",
   "metadata": {},
   "source": [
    "## `block_range`"
   ]
  },
  {
   "cell_type": "code",
   "execution_count": 37,
   "metadata": {},
   "outputs": [
    {
     "data": {
      "text/plain": [
       "249"
      ]
     },
     "execution_count": 37,
     "metadata": {},
     "output_type": "execute_result"
    }
   ],
   "source": [
    "len(df.block_range.unique())"
   ]
  },
  {
   "cell_type": "code",
   "execution_count": 38,
   "metadata": {},
   "outputs": [],
   "source": [
    "df.block_range = df.block_range.str.strip()"
   ]
  },
  {
   "cell_type": "code",
   "execution_count": 39,
   "metadata": {},
   "outputs": [
    {
     "data": {
      "text/plain": [
       "249"
      ]
     },
     "execution_count": 39,
     "metadata": {},
     "output_type": "execute_result"
    }
   ],
   "source": [
    "len(df.block_range.unique())"
   ]
  },
  {
   "cell_type": "markdown",
   "metadata": {},
   "source": [
    "## `date`"
   ]
  },
  {
   "cell_type": "code",
   "execution_count": 40,
   "metadata": {},
   "outputs": [
    {
     "data": {
      "text/plain": [
       "dtype('<M8[ns]')"
      ]
     },
     "execution_count": 40,
     "metadata": {},
     "output_type": "execute_result"
    }
   ],
   "source": [
    "df['date'].dtype"
   ]
  },
  {
   "cell_type": "markdown",
   "metadata": {},
   "source": [
    "## `hour`"
   ]
  },
  {
   "cell_type": "code",
   "execution_count": 41,
   "metadata": {},
   "outputs": [
    {
     "data": {
      "text/plain": [
       "18.0    8492\n",
       "0.0     8491\n",
       "22.0    8097\n",
       "19.0    7870\n",
       "17.0    7707\n",
       "20.0    7662\n",
       "12.0    7467\n",
       "21.0    7288\n",
       "15.0    6568\n",
       "23.0    6480\n",
       "16.0    6447\n",
       "14.0    6065\n",
       "13.0    5819\n",
       "8.0     5496\n",
       "11.0    5164\n",
       "10.0    5138\n",
       "9.0     4672\n",
       "7.0     4596\n",
       "1.0     3896\n",
       "2.0     3332\n",
       "6.0     2985\n",
       "3.0     2636\n",
       "5.0     1994\n",
       "4.0     1900\n",
       "Name: hour, dtype: int64"
      ]
     },
     "execution_count": 41,
     "metadata": {},
     "output_type": "execute_result"
    }
   ],
   "source": [
    "df.hour.value_counts(dropna=False)"
   ]
  },
  {
   "cell_type": "code",
   "execution_count": 42,
   "metadata": {},
   "outputs": [
    {
     "data": {
      "text/plain": [
       "dtype('float64')"
      ]
     },
     "execution_count": 42,
     "metadata": {},
     "output_type": "execute_result"
    }
   ],
   "source": [
    "df.hour.dtype"
   ]
  },
  {
   "cell_type": "markdown",
   "metadata": {},
   "source": [
    "## Change dtype "
   ]
  },
  {
   "cell_type": "code",
   "execution_count": 43,
   "metadata": {},
   "outputs": [],
   "source": [
    "df.hour = df.hour.astype('int')"
   ]
  },
  {
   "cell_type": "code",
   "execution_count": 44,
   "metadata": {},
   "outputs": [
    {
     "data": {
      "text/plain": [
       "dtype('int64')"
      ]
     },
     "execution_count": 44,
     "metadata": {},
     "output_type": "execute_result"
    }
   ],
   "source": [
    "df.hour.dtype"
   ]
  },
  {
   "cell_type": "code",
   "execution_count": 45,
   "metadata": {},
   "outputs": [
    {
     "data": {
      "text/plain": [
       "18    8492\n",
       "0     8491\n",
       "22    8097\n",
       "19    7870\n",
       "17    7707\n",
       "20    7662\n",
       "12    7467\n",
       "21    7288\n",
       "15    6568\n",
       "23    6480\n",
       "16    6447\n",
       "14    6065\n",
       "13    5819\n",
       "8     5496\n",
       "11    5164\n",
       "10    5138\n",
       "9     4672\n",
       "7     4596\n",
       "1     3896\n",
       "2     3332\n",
       "6     2985\n",
       "3     2636\n",
       "5     1994\n",
       "4     1900\n",
       "Name: hour, dtype: int64"
      ]
     },
     "execution_count": 45,
     "metadata": {},
     "output_type": "execute_result"
    }
   ],
   "source": [
    "df.hour.value_counts(dropna=False)"
   ]
  },
  {
   "cell_type": "markdown",
   "metadata": {},
   "source": [
    "## `offense_type`"
   ]
  },
  {
   "cell_type": "code",
   "execution_count": 46,
   "metadata": {},
   "outputs": [
    {
     "data": {
      "text/plain": [
       "Theft                 74581\n",
       "Burglary              27924\n",
       "Auto Theft            12424\n",
       "Aggravated Assault    10915\n",
       "Robbery                9449\n",
       "Rape                    709\n",
       "Murder                  260\n",
       "Name: offense_type, dtype: int64"
      ]
     },
     "execution_count": 46,
     "metadata": {},
     "output_type": "execute_result"
    }
   ],
   "source": [
    "df.offense_type.value_counts(dropna=False)"
   ]
  },
  {
   "cell_type": "code",
   "execution_count": 47,
   "metadata": {},
   "outputs": [
    {
     "data": {
      "text/plain": [
       "array(['Murder', 'Burglary', 'Theft', 'Aggravated Assault', 'Robbery',\n",
       "       'Auto Theft', 'Rape'], dtype=object)"
      ]
     },
     "execution_count": 47,
     "metadata": {},
     "output_type": "execute_result"
    }
   ],
   "source": [
    "df.offense_type.unique()"
   ]
  },
  {
   "cell_type": "markdown",
   "metadata": {},
   "source": [
    "## `street_name`"
   ]
  },
  {
   "cell_type": "code",
   "execution_count": 48,
   "metadata": {},
   "outputs": [
    {
     "data": {
      "text/plain": [
       "7832"
      ]
     },
     "execution_count": 48,
     "metadata": {},
     "output_type": "execute_result"
    }
   ],
   "source": [
    "len(df.street_name.value_counts(dropna=False))"
   ]
  },
  {
   "cell_type": "code",
   "execution_count": 49,
   "metadata": {},
   "outputs": [
    {
     "data": {
      "text/plain": [
       "WESTHEIMER          3716\n",
       "GESSNER             2226\n",
       "GULF                1931\n",
       "RICHMOND            1683\n",
       "SOUTHWEST           1515\n",
       "NORTH               1457\n",
       "KATY                1421\n",
       "WEST SAM HOUSTON    1403\n",
       "NORTHWEST           1291\n",
       "BISSONNET           1272\n",
       "Name: street_name, dtype: int64"
      ]
     },
     "execution_count": 49,
     "metadata": {},
     "output_type": "execute_result"
    }
   ],
   "source": [
    "df.street_name.value_counts(dropna=False)[:10]"
   ]
  },
  {
   "cell_type": "code",
   "execution_count": 50,
   "metadata": {},
   "outputs": [
    {
     "data": {
      "text/plain": [
       "array(['HEFFERNAN', 'CORDER', 'NORTH', ..., 'COMMUNITY COLLEGE',\n",
       "       'BITTERCREEK', 'BENS VIEW'], dtype=object)"
      ]
     },
     "execution_count": 50,
     "metadata": {},
     "output_type": "execute_result"
    }
   ],
   "source": [
    "df.street_name.unique()"
   ]
  },
  {
   "cell_type": "code",
   "execution_count": 51,
   "metadata": {},
   "outputs": [],
   "source": [
    "df.street_name = df.street_name.str.strip()  # no need"
   ]
  },
  {
   "cell_type": "code",
   "execution_count": 52,
   "metadata": {},
   "outputs": [
    {
     "data": {
      "text/plain": [
       "7832"
      ]
     },
     "execution_count": 52,
     "metadata": {},
     "output_type": "execute_result"
    }
   ],
   "source": [
    "len(df.street_name.value_counts(dropna=False))"
   ]
  },
  {
   "cell_type": "markdown",
   "metadata": {},
   "source": [
    "## Organiaze columns"
   ]
  },
  {
   "cell_type": "code",
   "execution_count": 53,
   "metadata": {},
   "outputs": [
    {
     "data": {
      "text/html": [
       "<div>\n",
       "<style scoped>\n",
       "    .dataframe tbody tr th:only-of-type {\n",
       "        vertical-align: middle;\n",
       "    }\n",
       "\n",
       "    .dataframe tbody tr th {\n",
       "        vertical-align: top;\n",
       "    }\n",
       "\n",
       "    .dataframe thead th {\n",
       "        text-align: right;\n",
       "    }\n",
       "</style>\n",
       "<table border=\"1\" class=\"dataframe\">\n",
       "  <thead>\n",
       "    <tr style=\"text-align: right;\">\n",
       "      <th></th>\n",
       "      <th>num_offenses</th>\n",
       "      <th>beat</th>\n",
       "      <th>block_range</th>\n",
       "      <th>date</th>\n",
       "      <th>hour</th>\n",
       "      <th>offense_type</th>\n",
       "      <th>street_name</th>\n",
       "      <th>type</th>\n",
       "      <th>premise</th>\n",
       "    </tr>\n",
       "  </thead>\n",
       "  <tbody>\n",
       "    <tr>\n",
       "      <th>0</th>\n",
       "      <td>1</td>\n",
       "      <td>13D20</td>\n",
       "      <td>6600-6699</td>\n",
       "      <td>2010-04-17</td>\n",
       "      <td>0</td>\n",
       "      <td>Murder</td>\n",
       "      <td>HEFFERNAN</td>\n",
       "      <td>-</td>\n",
       "      <td>WAREHOUSE</td>\n",
       "    </tr>\n",
       "    <tr>\n",
       "      <th>1</th>\n",
       "      <td>1</td>\n",
       "      <td>14D20</td>\n",
       "      <td>3400-3499</td>\n",
       "      <td>2010-04-01</td>\n",
       "      <td>0</td>\n",
       "      <td>Burglary</td>\n",
       "      <td>CORDER</td>\n",
       "      <td>ST</td>\n",
       "      <td>WAREHOUSE</td>\n",
       "    </tr>\n",
       "    <tr>\n",
       "      <th>2</th>\n",
       "      <td>1</td>\n",
       "      <td>6B40</td>\n",
       "      <td>10200-10299</td>\n",
       "      <td>2010-04-08</td>\n",
       "      <td>23</td>\n",
       "      <td>Burglary</td>\n",
       "      <td>NORTH</td>\n",
       "      <td>FWY</td>\n",
       "      <td>WAREHOUSE</td>\n",
       "    </tr>\n",
       "    <tr>\n",
       "      <th>3</th>\n",
       "      <td>1</td>\n",
       "      <td>13D10</td>\n",
       "      <td>6100-6199</td>\n",
       "      <td>2010-04-23</td>\n",
       "      <td>19</td>\n",
       "      <td>Burglary</td>\n",
       "      <td>SOUTH LP E</td>\n",
       "      <td>SER</td>\n",
       "      <td>WAREHOUSE</td>\n",
       "    </tr>\n",
       "    <tr>\n",
       "      <th>4</th>\n",
       "      <td>1</td>\n",
       "      <td>3B10</td>\n",
       "      <td>5900-5999</td>\n",
       "      <td>2010-04-06</td>\n",
       "      <td>17</td>\n",
       "      <td>Burglary</td>\n",
       "      <td>CENTRALCREST</td>\n",
       "      <td>ST</td>\n",
       "      <td>WAREHOUSE</td>\n",
       "    </tr>\n",
       "  </tbody>\n",
       "</table>\n",
       "</div>"
      ],
      "text/plain": [
       "   num_offenses   beat  block_range       date  hour offense_type  \\\n",
       "0             1  13D20    6600-6699 2010-04-17     0       Murder   \n",
       "1             1  14D20    3400-3499 2010-04-01     0     Burglary   \n",
       "2             1   6B40  10200-10299 2010-04-08    23     Burglary   \n",
       "3             1  13D10    6100-6199 2010-04-23    19     Burglary   \n",
       "4             1   3B10    5900-5999 2010-04-06    17     Burglary   \n",
       "\n",
       "    street_name type    premise  \n",
       "0     HEFFERNAN    -  WAREHOUSE  \n",
       "1        CORDER   ST  WAREHOUSE  \n",
       "2         NORTH  FWY  WAREHOUSE  \n",
       "3    SOUTH LP E  SER  WAREHOUSE  \n",
       "4  CENTRALCREST   ST  WAREHOUSE  "
      ]
     },
     "execution_count": 53,
     "metadata": {},
     "output_type": "execute_result"
    }
   ],
   "source": [
    "df.head()"
   ]
  },
  {
   "cell_type": "code",
   "execution_count": 54,
   "metadata": {},
   "outputs": [],
   "source": [
    "# order that I want\n",
    "cols = ['date','hour','beat','offense_type','block_range','street_name','premise','num_offenses','type']"
   ]
  },
  {
   "cell_type": "code",
   "execution_count": 55,
   "metadata": {},
   "outputs": [],
   "source": [
    "df = df.reindex(columns=cols)"
   ]
  },
  {
   "cell_type": "code",
   "execution_count": 56,
   "metadata": {},
   "outputs": [
    {
     "name": "stdout",
     "output_type": "stream",
     "text": [
      "<class 'pandas.core.frame.DataFrame'>\n",
      "Int64Index: 136262 entries, 0 to 136261\n",
      "Data columns (total 9 columns):\n",
      "date            136262 non-null datetime64[ns]\n",
      "hour            136262 non-null int64\n",
      "beat            136262 non-null object\n",
      "offense_type    136262 non-null object\n",
      "block_range     136262 non-null object\n",
      "street_name     136262 non-null object\n",
      "premise         136262 non-null object\n",
      "num_offenses    136262 non-null int64\n",
      "type            136262 non-null object\n",
      "dtypes: datetime64[ns](1), int64(2), object(6)\n",
      "memory usage: 10.4+ MB\n"
     ]
    }
   ],
   "source": [
    "df.info()"
   ]
  },
  {
   "cell_type": "code",
   "execution_count": 57,
   "metadata": {},
   "outputs": [
    {
     "data": {
      "text/html": [
       "<div>\n",
       "<style scoped>\n",
       "    .dataframe tbody tr th:only-of-type {\n",
       "        vertical-align: middle;\n",
       "    }\n",
       "\n",
       "    .dataframe tbody tr th {\n",
       "        vertical-align: top;\n",
       "    }\n",
       "\n",
       "    .dataframe thead th {\n",
       "        text-align: right;\n",
       "    }\n",
       "</style>\n",
       "<table border=\"1\" class=\"dataframe\">\n",
       "  <thead>\n",
       "    <tr style=\"text-align: right;\">\n",
       "      <th></th>\n",
       "      <th>date</th>\n",
       "      <th>hour</th>\n",
       "      <th>beat</th>\n",
       "      <th>offense_type</th>\n",
       "      <th>block_range</th>\n",
       "      <th>street_name</th>\n",
       "      <th>premise</th>\n",
       "      <th>num_offenses</th>\n",
       "      <th>type</th>\n",
       "    </tr>\n",
       "  </thead>\n",
       "  <tbody>\n",
       "    <tr>\n",
       "      <th>0</th>\n",
       "      <td>2010-04-17</td>\n",
       "      <td>0</td>\n",
       "      <td>13D20</td>\n",
       "      <td>Murder</td>\n",
       "      <td>6600-6699</td>\n",
       "      <td>HEFFERNAN</td>\n",
       "      <td>WAREHOUSE</td>\n",
       "      <td>1</td>\n",
       "      <td>-</td>\n",
       "    </tr>\n",
       "    <tr>\n",
       "      <th>1</th>\n",
       "      <td>2010-04-01</td>\n",
       "      <td>0</td>\n",
       "      <td>14D20</td>\n",
       "      <td>Burglary</td>\n",
       "      <td>3400-3499</td>\n",
       "      <td>CORDER</td>\n",
       "      <td>WAREHOUSE</td>\n",
       "      <td>1</td>\n",
       "      <td>ST</td>\n",
       "    </tr>\n",
       "    <tr>\n",
       "      <th>2</th>\n",
       "      <td>2010-04-08</td>\n",
       "      <td>23</td>\n",
       "      <td>6B40</td>\n",
       "      <td>Burglary</td>\n",
       "      <td>10200-10299</td>\n",
       "      <td>NORTH</td>\n",
       "      <td>WAREHOUSE</td>\n",
       "      <td>1</td>\n",
       "      <td>FWY</td>\n",
       "    </tr>\n",
       "    <tr>\n",
       "      <th>3</th>\n",
       "      <td>2010-04-23</td>\n",
       "      <td>19</td>\n",
       "      <td>13D10</td>\n",
       "      <td>Burglary</td>\n",
       "      <td>6100-6199</td>\n",
       "      <td>SOUTH LP E</td>\n",
       "      <td>WAREHOUSE</td>\n",
       "      <td>1</td>\n",
       "      <td>SER</td>\n",
       "    </tr>\n",
       "    <tr>\n",
       "      <th>4</th>\n",
       "      <td>2010-04-06</td>\n",
       "      <td>17</td>\n",
       "      <td>3B10</td>\n",
       "      <td>Burglary</td>\n",
       "      <td>5900-5999</td>\n",
       "      <td>CENTRALCREST</td>\n",
       "      <td>WAREHOUSE</td>\n",
       "      <td>1</td>\n",
       "      <td>ST</td>\n",
       "    </tr>\n",
       "  </tbody>\n",
       "</table>\n",
       "</div>"
      ],
      "text/plain": [
       "        date  hour   beat offense_type  block_range   street_name    premise  \\\n",
       "0 2010-04-17     0  13D20       Murder    6600-6699     HEFFERNAN  WAREHOUSE   \n",
       "1 2010-04-01     0  14D20     Burglary    3400-3499        CORDER  WAREHOUSE   \n",
       "2 2010-04-08    23   6B40     Burglary  10200-10299         NORTH  WAREHOUSE   \n",
       "3 2010-04-23    19  13D10     Burglary    6100-6199    SOUTH LP E  WAREHOUSE   \n",
       "4 2010-04-06    17   3B10     Burglary    5900-5999  CENTRALCREST  WAREHOUSE   \n",
       "\n",
       "   num_offenses type  \n",
       "0             1    -  \n",
       "1             1   ST  \n",
       "2             1  FWY  \n",
       "3             1  SER  \n",
       "4             1   ST  "
      ]
     },
     "execution_count": 57,
     "metadata": {},
     "output_type": "execute_result"
    }
   ],
   "source": [
    "df.head()"
   ]
  },
  {
   "cell_type": "markdown",
   "metadata": {},
   "source": [
    "## Display Null values"
   ]
  },
  {
   "cell_type": "code",
   "execution_count": 58,
   "metadata": {},
   "outputs": [
    {
     "data": {
      "text/plain": [
       "date            0\n",
       "hour            0\n",
       "beat            0\n",
       "offense_type    0\n",
       "block_range     0\n",
       "street_name     0\n",
       "premise         0\n",
       "num_offenses    0\n",
       "type            0\n",
       "dtype: int64"
      ]
     },
     "execution_count": 58,
     "metadata": {},
     "output_type": "execute_result"
    }
   ],
   "source": [
    "df.apply(lambda x: sum(x.isnull()))"
   ]
  },
  {
   "cell_type": "markdown",
   "metadata": {},
   "source": [
    "## Save clean data"
   ]
  },
  {
   "cell_type": "code",
   "execution_count": 59,
   "metadata": {},
   "outputs": [
    {
     "data": {
      "text/plain": [
       "'../data/clean_data/crime/'"
      ]
     },
     "execution_count": 59,
     "metadata": {},
     "output_type": "execute_result"
    }
   ],
   "source": [
    "data_directory_saves"
   ]
  },
  {
   "cell_type": "code",
   "execution_count": 60,
   "metadata": {},
   "outputs": [],
   "source": [
    "df.to_csv(data_directory_saves+'crime_2010.csv')"
   ]
  },
  {
   "cell_type": "code",
   "execution_count": null,
   "metadata": {},
   "outputs": [],
   "source": []
  }
 ],
 "metadata": {
  "kernelspec": {
   "display_name": "Python 3",
   "language": "python",
   "name": "python3"
  },
  "language_info": {
   "codemirror_mode": {
    "name": "ipython",
    "version": 3
   },
   "file_extension": ".py",
   "mimetype": "text/x-python",
   "name": "python",
   "nbconvert_exporter": "python",
   "pygments_lexer": "ipython3",
   "version": "3.6.4"
  }
 },
 "nbformat": 4,
 "nbformat_minor": 2
}
