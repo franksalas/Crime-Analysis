{
 "cells": [
  {
   "cell_type": "code",
   "execution_count": null,
   "metadata": {},
   "outputs": [],
   "source": []
  },
  {
   "cell_type": "code",
   "execution_count": 1,
   "metadata": {},
   "outputs": [],
   "source": [
    "import warnings\n",
    "warnings.filterwarnings('ignore')"
   ]
  },
  {
   "cell_type": "code",
   "execution_count": 2,
   "metadata": {},
   "outputs": [],
   "source": [
    "import pandas as pd\n",
    "import glob, os\n",
    "import numpy as np\n",
    "import matplotlib.pyplot as plt\n",
    "import datetime  as dt\n",
    "import seaborn as sns"
   ]
  },
  {
   "cell_type": "markdown",
   "metadata": {},
   "source": [
    "## Data Directory"
   ]
  },
  {
   "cell_type": "code",
   "execution_count": 3,
   "metadata": {},
   "outputs": [],
   "source": [
    "sports = 'NBA'\n",
    "season = 'reg'"
   ]
  },
  {
   "cell_type": "code",
   "execution_count": 4,
   "metadata": {},
   "outputs": [],
   "source": [
    "# data folder path\n",
    "data_directory = os.path.join('..','data','sports_data/{}/{}'.format(sports,season))\n",
    "data_directory_saves = os.path.join( '..','data','clean_data','sports_data/{}/'.format(sports))"
   ]
  },
  {
   "cell_type": "code",
   "execution_count": 5,
   "metadata": {},
   "outputs": [],
   "source": [
    "# combine all files into one df\n",
    "all_files = glob.glob(os.path.join(data_directory, \"*.csv\")) \n",
    "df_from_each_file = (pd.read_csv(f) for f in all_files)\n",
    "df   = pd.concat(df_from_each_file, ignore_index=True)"
   ]
  },
  {
   "cell_type": "code",
   "execution_count": 6,
   "metadata": {},
   "outputs": [],
   "source": [
    "season = 'plo'\n",
    "data_directory = os.path.join('..','data','sports_data/{}/{}'.format(sports,season))\n",
    "\n",
    "# combine all files into one df\n",
    "all_files = glob.glob(os.path.join(data_directory, \"*.csv\")) \n",
    "df_from_each_file = (pd.read_csv(f) for f in all_files)\n",
    "df_plo   = pd.concat(df_from_each_file, ignore_index=True)"
   ]
  },
  {
   "cell_type": "markdown",
   "metadata": {},
   "source": [
    "## add season col to each dataframe"
   ]
  },
  {
   "cell_type": "code",
   "execution_count": 7,
   "metadata": {},
   "outputs": [],
   "source": [
    "df['season'] = 'regular'\n",
    "df_plo['season'] = 'playoffs'"
   ]
  },
  {
   "cell_type": "code",
   "execution_count": 8,
   "metadata": {},
   "outputs": [
    {
     "data": {
      "text/html": [
       "<div>\n",
       "<style scoped>\n",
       "    .dataframe tbody tr th:only-of-type {\n",
       "        vertical-align: middle;\n",
       "    }\n",
       "\n",
       "    .dataframe tbody tr th {\n",
       "        vertical-align: top;\n",
       "    }\n",
       "\n",
       "    .dataframe thead th {\n",
       "        text-align: right;\n",
       "    }\n",
       "</style>\n",
       "<table border=\"1\" class=\"dataframe\">\n",
       "  <thead>\n",
       "    <tr style=\"text-align: right;\">\n",
       "      <th></th>\n",
       "      <th>G</th>\n",
       "      <th>Date</th>\n",
       "      <th>Unnamed: 2</th>\n",
       "      <th>Unnamed: 3</th>\n",
       "      <th>Unnamed: 4</th>\n",
       "      <th>Unnamed: 5</th>\n",
       "      <th>Opponent</th>\n",
       "      <th>Unnamed: 7</th>\n",
       "      <th>Unnamed: 8</th>\n",
       "      <th>Tm</th>\n",
       "      <th>Opp</th>\n",
       "      <th>W</th>\n",
       "      <th>L</th>\n",
       "      <th>Streak</th>\n",
       "      <th>Notes</th>\n",
       "      <th>season</th>\n",
       "    </tr>\n",
       "  </thead>\n",
       "  <tbody>\n",
       "    <tr>\n",
       "      <th>0</th>\n",
       "      <td>1</td>\n",
       "      <td>Tue, Oct 27, 2009</td>\n",
       "      <td>7:00p ET</td>\n",
       "      <td>NaN</td>\n",
       "      <td>Box Score</td>\n",
       "      <td>@</td>\n",
       "      <td>Portland Trail Blazers</td>\n",
       "      <td>L</td>\n",
       "      <td>NaN</td>\n",
       "      <td>87</td>\n",
       "      <td>96</td>\n",
       "      <td>0</td>\n",
       "      <td>1</td>\n",
       "      <td>L 1</td>\n",
       "      <td>NaN</td>\n",
       "      <td>regular</td>\n",
       "    </tr>\n",
       "    <tr>\n",
       "      <th>1</th>\n",
       "      <td>2</td>\n",
       "      <td>Wed, Oct 28, 2009</td>\n",
       "      <td>7:30p ET</td>\n",
       "      <td>NaN</td>\n",
       "      <td>Box Score</td>\n",
       "      <td>@</td>\n",
       "      <td>Golden State Warriors</td>\n",
       "      <td>W</td>\n",
       "      <td>NaN</td>\n",
       "      <td>108</td>\n",
       "      <td>107</td>\n",
       "      <td>1</td>\n",
       "      <td>1</td>\n",
       "      <td>W 1</td>\n",
       "      <td>NaN</td>\n",
       "      <td>regular</td>\n",
       "    </tr>\n",
       "  </tbody>\n",
       "</table>\n",
       "</div>"
      ],
      "text/plain": [
       "   G               Date Unnamed: 2 Unnamed: 3 Unnamed: 4 Unnamed: 5  \\\n",
       "0  1  Tue, Oct 27, 2009   7:00p ET        NaN  Box Score          @   \n",
       "1  2  Wed, Oct 28, 2009   7:30p ET        NaN  Box Score          @   \n",
       "\n",
       "                 Opponent Unnamed: 7 Unnamed: 8   Tm  Opp  W  L Streak Notes  \\\n",
       "0  Portland Trail Blazers          L        NaN   87   96  0  1    L 1   NaN   \n",
       "1   Golden State Warriors          W        NaN  108  107  1  1    W 1   NaN   \n",
       "\n",
       "    season  \n",
       "0  regular  \n",
       "1  regular  "
      ]
     },
     "execution_count": 8,
     "metadata": {},
     "output_type": "execute_result"
    }
   ],
   "source": [
    "df.head(2)"
   ]
  },
  {
   "cell_type": "code",
   "execution_count": 9,
   "metadata": {},
   "outputs": [
    {
     "data": {
      "text/html": [
       "<div>\n",
       "<style scoped>\n",
       "    .dataframe tbody tr th:only-of-type {\n",
       "        vertical-align: middle;\n",
       "    }\n",
       "\n",
       "    .dataframe tbody tr th {\n",
       "        vertical-align: top;\n",
       "    }\n",
       "\n",
       "    .dataframe thead th {\n",
       "        text-align: right;\n",
       "    }\n",
       "</style>\n",
       "<table border=\"1\" class=\"dataframe\">\n",
       "  <thead>\n",
       "    <tr style=\"text-align: right;\">\n",
       "      <th></th>\n",
       "      <th>G</th>\n",
       "      <th>Date</th>\n",
       "      <th>Unnamed: 2</th>\n",
       "      <th>Unnamed: 3</th>\n",
       "      <th>Unnamed: 4</th>\n",
       "      <th>Unnamed: 5</th>\n",
       "      <th>Opponent</th>\n",
       "      <th>Unnamed: 7</th>\n",
       "      <th>Unnamed: 8</th>\n",
       "      <th>Tm</th>\n",
       "      <th>Opp</th>\n",
       "      <th>W</th>\n",
       "      <th>L</th>\n",
       "      <th>Streak</th>\n",
       "      <th>Notes</th>\n",
       "      <th>season</th>\n",
       "    </tr>\n",
       "  </thead>\n",
       "  <tbody>\n",
       "    <tr>\n",
       "      <th>0</th>\n",
       "      <td>1</td>\n",
       "      <td>Sun, Apr 21, 2013</td>\n",
       "      <td>9:30p ET</td>\n",
       "      <td>NaN</td>\n",
       "      <td>Box Score</td>\n",
       "      <td>@</td>\n",
       "      <td>Oklahoma City Thunder</td>\n",
       "      <td>L</td>\n",
       "      <td>NaN</td>\n",
       "      <td>91</td>\n",
       "      <td>120</td>\n",
       "      <td>0</td>\n",
       "      <td>1</td>\n",
       "      <td>L 1</td>\n",
       "      <td>NaN</td>\n",
       "      <td>playoffs</td>\n",
       "    </tr>\n",
       "    <tr>\n",
       "      <th>1</th>\n",
       "      <td>2</td>\n",
       "      <td>Wed, Apr 24, 2013</td>\n",
       "      <td>7:00p ET</td>\n",
       "      <td>NaN</td>\n",
       "      <td>Box Score</td>\n",
       "      <td>@</td>\n",
       "      <td>Oklahoma City Thunder</td>\n",
       "      <td>L</td>\n",
       "      <td>NaN</td>\n",
       "      <td>102</td>\n",
       "      <td>105</td>\n",
       "      <td>0</td>\n",
       "      <td>2</td>\n",
       "      <td>L 2</td>\n",
       "      <td>NaN</td>\n",
       "      <td>playoffs</td>\n",
       "    </tr>\n",
       "  </tbody>\n",
       "</table>\n",
       "</div>"
      ],
      "text/plain": [
       "   G               Date Unnamed: 2  Unnamed: 3 Unnamed: 4 Unnamed: 5  \\\n",
       "0  1  Sun, Apr 21, 2013   9:30p ET         NaN  Box Score          @   \n",
       "1  2  Wed, Apr 24, 2013   7:00p ET         NaN  Box Score          @   \n",
       "\n",
       "                Opponent Unnamed: 7 Unnamed: 8   Tm  Opp  W  L Streak  Notes  \\\n",
       "0  Oklahoma City Thunder          L        NaN   91  120  0  1    L 1    NaN   \n",
       "1  Oklahoma City Thunder          L        NaN  102  105  0  2    L 2    NaN   \n",
       "\n",
       "     season  \n",
       "0  playoffs  \n",
       "1  playoffs  "
      ]
     },
     "execution_count": 9,
     "metadata": {},
     "output_type": "execute_result"
    }
   ],
   "source": [
    "df_plo.head(2)"
   ]
  },
  {
   "cell_type": "markdown",
   "metadata": {},
   "source": [
    "## merge the two dataframes"
   ]
  },
  {
   "cell_type": "code",
   "execution_count": 10,
   "metadata": {},
   "outputs": [],
   "source": [
    "df = df.append(df_plo)"
   ]
  },
  {
   "cell_type": "code",
   "execution_count": 11,
   "metadata": {},
   "outputs": [
    {
     "name": "stdout",
     "output_type": "stream",
     "text": [
      "<class 'pandas.core.frame.DataFrame'>\n",
      "Int64Index: 685 entries, 0 to 44\n",
      "Data columns (total 16 columns):\n",
      "G             685 non-null int64\n",
      "Date          685 non-null object\n",
      "Unnamed: 2    685 non-null object\n",
      "Unnamed: 3    8 non-null object\n",
      "Unnamed: 4    685 non-null object\n",
      "Unnamed: 5    342 non-null object\n",
      "Opponent      685 non-null object\n",
      "Unnamed: 7    685 non-null object\n",
      "Unnamed: 8    51 non-null object\n",
      "Tm            685 non-null int64\n",
      "Opp           685 non-null int64\n",
      "W             685 non-null int64\n",
      "L             685 non-null int64\n",
      "Streak        685 non-null object\n",
      "Notes         1 non-null object\n",
      "season        685 non-null object\n",
      "dtypes: int64(5), object(11)\n",
      "memory usage: 91.0+ KB\n"
     ]
    }
   ],
   "source": [
    "df.info()"
   ]
  },
  {
   "cell_type": "code",
   "execution_count": 12,
   "metadata": {},
   "outputs": [
    {
     "data": {
      "text/html": [
       "<div>\n",
       "<style scoped>\n",
       "    .dataframe tbody tr th:only-of-type {\n",
       "        vertical-align: middle;\n",
       "    }\n",
       "\n",
       "    .dataframe tbody tr th {\n",
       "        vertical-align: top;\n",
       "    }\n",
       "\n",
       "    .dataframe thead th {\n",
       "        text-align: right;\n",
       "    }\n",
       "</style>\n",
       "<table border=\"1\" class=\"dataframe\">\n",
       "  <thead>\n",
       "    <tr style=\"text-align: right;\">\n",
       "      <th></th>\n",
       "      <th>G</th>\n",
       "      <th>Date</th>\n",
       "      <th>Unnamed: 2</th>\n",
       "      <th>Unnamed: 3</th>\n",
       "      <th>Unnamed: 4</th>\n",
       "      <th>Unnamed: 5</th>\n",
       "      <th>Opponent</th>\n",
       "      <th>Unnamed: 7</th>\n",
       "      <th>Unnamed: 8</th>\n",
       "      <th>Tm</th>\n",
       "      <th>Opp</th>\n",
       "      <th>W</th>\n",
       "      <th>L</th>\n",
       "      <th>Streak</th>\n",
       "      <th>Notes</th>\n",
       "      <th>season</th>\n",
       "    </tr>\n",
       "  </thead>\n",
       "  <tbody>\n",
       "    <tr>\n",
       "      <th>0</th>\n",
       "      <td>1</td>\n",
       "      <td>Tue, Oct 27, 2009</td>\n",
       "      <td>7:00p ET</td>\n",
       "      <td>NaN</td>\n",
       "      <td>Box Score</td>\n",
       "      <td>@</td>\n",
       "      <td>Portland Trail Blazers</td>\n",
       "      <td>L</td>\n",
       "      <td>NaN</td>\n",
       "      <td>87</td>\n",
       "      <td>96</td>\n",
       "      <td>0</td>\n",
       "      <td>1</td>\n",
       "      <td>L 1</td>\n",
       "      <td>NaN</td>\n",
       "      <td>regular</td>\n",
       "    </tr>\n",
       "    <tr>\n",
       "      <th>1</th>\n",
       "      <td>2</td>\n",
       "      <td>Wed, Oct 28, 2009</td>\n",
       "      <td>7:30p ET</td>\n",
       "      <td>NaN</td>\n",
       "      <td>Box Score</td>\n",
       "      <td>@</td>\n",
       "      <td>Golden State Warriors</td>\n",
       "      <td>W</td>\n",
       "      <td>NaN</td>\n",
       "      <td>108</td>\n",
       "      <td>107</td>\n",
       "      <td>1</td>\n",
       "      <td>1</td>\n",
       "      <td>W 1</td>\n",
       "      <td>NaN</td>\n",
       "      <td>regular</td>\n",
       "    </tr>\n",
       "    <tr>\n",
       "      <th>2</th>\n",
       "      <td>3</td>\n",
       "      <td>Sat, Oct 31, 2009</td>\n",
       "      <td>7:30p ET</td>\n",
       "      <td>NaN</td>\n",
       "      <td>Box Score</td>\n",
       "      <td>NaN</td>\n",
       "      <td>Portland Trail Blazers</td>\n",
       "      <td>W</td>\n",
       "      <td>NaN</td>\n",
       "      <td>111</td>\n",
       "      <td>107</td>\n",
       "      <td>2</td>\n",
       "      <td>1</td>\n",
       "      <td>W 2</td>\n",
       "      <td>NaN</td>\n",
       "      <td>regular</td>\n",
       "    </tr>\n",
       "    <tr>\n",
       "      <th>3</th>\n",
       "      <td>4</td>\n",
       "      <td>Mon, Nov 2, 2009</td>\n",
       "      <td>7:00p ET</td>\n",
       "      <td>NaN</td>\n",
       "      <td>Box Score</td>\n",
       "      <td>@</td>\n",
       "      <td>Utah Jazz</td>\n",
       "      <td>W</td>\n",
       "      <td>NaN</td>\n",
       "      <td>113</td>\n",
       "      <td>96</td>\n",
       "      <td>3</td>\n",
       "      <td>1</td>\n",
       "      <td>W 3</td>\n",
       "      <td>NaN</td>\n",
       "      <td>regular</td>\n",
       "    </tr>\n",
       "    <tr>\n",
       "      <th>4</th>\n",
       "      <td>5</td>\n",
       "      <td>Wed, Nov 4, 2009</td>\n",
       "      <td>7:30p ET</td>\n",
       "      <td>NaN</td>\n",
       "      <td>Box Score</td>\n",
       "      <td>NaN</td>\n",
       "      <td>Los Angeles Lakers</td>\n",
       "      <td>L</td>\n",
       "      <td>OT</td>\n",
       "      <td>102</td>\n",
       "      <td>103</td>\n",
       "      <td>3</td>\n",
       "      <td>2</td>\n",
       "      <td>L 1</td>\n",
       "      <td>NaN</td>\n",
       "      <td>regular</td>\n",
       "    </tr>\n",
       "  </tbody>\n",
       "</table>\n",
       "</div>"
      ],
      "text/plain": [
       "   G               Date Unnamed: 2 Unnamed: 3 Unnamed: 4 Unnamed: 5  \\\n",
       "0  1  Tue, Oct 27, 2009   7:00p ET        NaN  Box Score          @   \n",
       "1  2  Wed, Oct 28, 2009   7:30p ET        NaN  Box Score          @   \n",
       "2  3  Sat, Oct 31, 2009   7:30p ET        NaN  Box Score        NaN   \n",
       "3  4   Mon, Nov 2, 2009   7:00p ET        NaN  Box Score          @   \n",
       "4  5   Wed, Nov 4, 2009   7:30p ET        NaN  Box Score        NaN   \n",
       "\n",
       "                 Opponent Unnamed: 7 Unnamed: 8   Tm  Opp  W  L Streak Notes  \\\n",
       "0  Portland Trail Blazers          L        NaN   87   96  0  1    L 1   NaN   \n",
       "1   Golden State Warriors          W        NaN  108  107  1  1    W 1   NaN   \n",
       "2  Portland Trail Blazers          W        NaN  111  107  2  1    W 2   NaN   \n",
       "3               Utah Jazz          W        NaN  113   96  3  1    W 3   NaN   \n",
       "4      Los Angeles Lakers          L         OT  102  103  3  2    L 1   NaN   \n",
       "\n",
       "    season  \n",
       "0  regular  \n",
       "1  regular  \n",
       "2  regular  \n",
       "3  regular  \n",
       "4  regular  "
      ]
     },
     "execution_count": 12,
     "metadata": {},
     "output_type": "execute_result"
    }
   ],
   "source": [
    "df.head()"
   ]
  },
  {
   "cell_type": "code",
   "execution_count": 13,
   "metadata": {},
   "outputs": [
    {
     "data": {
      "text/plain": [
       "G               0\n",
       "Date            0\n",
       "Unnamed: 2      0\n",
       "Unnamed: 3    677\n",
       "Unnamed: 4      0\n",
       "Unnamed: 5    343\n",
       "Opponent        0\n",
       "Unnamed: 7      0\n",
       "Unnamed: 8    634\n",
       "Tm              0\n",
       "Opp             0\n",
       "W               0\n",
       "L               0\n",
       "Streak          0\n",
       "Notes         684\n",
       "season          0\n",
       "dtype: int64"
      ]
     },
     "execution_count": 13,
     "metadata": {},
     "output_type": "execute_result"
    }
   ],
   "source": [
    "df.apply(lambda x: sum(x.isnull()))"
   ]
  },
  {
   "cell_type": "code",
   "execution_count": 14,
   "metadata": {},
   "outputs": [
    {
     "data": {
      "image/png": "[encoded data removed]",
      "text/plain": [
       "<Figure size 432x288 with 1 Axes>"
      ]
     },
     "metadata": {},
     "output_type": "display_data"
    }
   ],
   "source": [
    "sns.heatmap(df.isnull(),yticklabels=False,cbar=False,cmap='viridis')\n",
    "plt.title('Null dataset display')\n",
    "plt.show()"
   ]
  },
  {
   "cell_type": "code",
   "execution_count": null,
   "metadata": {},
   "outputs": [],
   "source": []
  },
  {
   "cell_type": "markdown",
   "metadata": {},
   "source": [
    "## Drop columns"
   ]
  },
  {
   "cell_type": "code",
   "execution_count": null,
   "metadata": {},
   "outputs": [],
   "source": []
  },
  {
   "cell_type": "code",
   "execution_count": 15,
   "metadata": {},
   "outputs": [],
   "source": [
    "df.drop(['G',\n",
    " 'Unnamed: 2',\n",
    " 'Unnamed: 3',\n",
    " 'Unnamed: 4',\n",
    " 'Unnamed: 8',\n",
    " 'W',\n",
    " 'L',\n",
    " 'Streak',\n",
    " 'Notes'],axis=1,inplace=True)"
   ]
  },
  {
   "cell_type": "code",
   "execution_count": 16,
   "metadata": {},
   "outputs": [
    {
     "data": {
      "text/html": [
       "<div>\n",
       "<style scoped>\n",
       "    .dataframe tbody tr th:only-of-type {\n",
       "        vertical-align: middle;\n",
       "    }\n",
       "\n",
       "    .dataframe tbody tr th {\n",
       "        vertical-align: top;\n",
       "    }\n",
       "\n",
       "    .dataframe thead th {\n",
       "        text-align: right;\n",
       "    }\n",
       "</style>\n",
       "<table border=\"1\" class=\"dataframe\">\n",
       "  <thead>\n",
       "    <tr style=\"text-align: right;\">\n",
       "      <th></th>\n",
       "      <th>Date</th>\n",
       "      <th>Unnamed: 5</th>\n",
       "      <th>Opponent</th>\n",
       "      <th>Unnamed: 7</th>\n",
       "      <th>Tm</th>\n",
       "      <th>Opp</th>\n",
       "      <th>season</th>\n",
       "    </tr>\n",
       "  </thead>\n",
       "  <tbody>\n",
       "    <tr>\n",
       "      <th>0</th>\n",
       "      <td>Tue, Oct 27, 2009</td>\n",
       "      <td>@</td>\n",
       "      <td>Portland Trail Blazers</td>\n",
       "      <td>L</td>\n",
       "      <td>87</td>\n",
       "      <td>96</td>\n",
       "      <td>regular</td>\n",
       "    </tr>\n",
       "    <tr>\n",
       "      <th>1</th>\n",
       "      <td>Wed, Oct 28, 2009</td>\n",
       "      <td>@</td>\n",
       "      <td>Golden State Warriors</td>\n",
       "      <td>W</td>\n",
       "      <td>108</td>\n",
       "      <td>107</td>\n",
       "      <td>regular</td>\n",
       "    </tr>\n",
       "    <tr>\n",
       "      <th>2</th>\n",
       "      <td>Sat, Oct 31, 2009</td>\n",
       "      <td>NaN</td>\n",
       "      <td>Portland Trail Blazers</td>\n",
       "      <td>W</td>\n",
       "      <td>111</td>\n",
       "      <td>107</td>\n",
       "      <td>regular</td>\n",
       "    </tr>\n",
       "    <tr>\n",
       "      <th>3</th>\n",
       "      <td>Mon, Nov 2, 2009</td>\n",
       "      <td>@</td>\n",
       "      <td>Utah Jazz</td>\n",
       "      <td>W</td>\n",
       "      <td>113</td>\n",
       "      <td>96</td>\n",
       "      <td>regular</td>\n",
       "    </tr>\n",
       "    <tr>\n",
       "      <th>4</th>\n",
       "      <td>Wed, Nov 4, 2009</td>\n",
       "      <td>NaN</td>\n",
       "      <td>Los Angeles Lakers</td>\n",
       "      <td>L</td>\n",
       "      <td>102</td>\n",
       "      <td>103</td>\n",
       "      <td>regular</td>\n",
       "    </tr>\n",
       "  </tbody>\n",
       "</table>\n",
       "</div>"
      ],
      "text/plain": [
       "                Date Unnamed: 5                Opponent Unnamed: 7   Tm  Opp  \\\n",
       "0  Tue, Oct 27, 2009          @  Portland Trail Blazers          L   87   96   \n",
       "1  Wed, Oct 28, 2009          @   Golden State Warriors          W  108  107   \n",
       "2  Sat, Oct 31, 2009        NaN  Portland Trail Blazers          W  111  107   \n",
       "3   Mon, Nov 2, 2009          @               Utah Jazz          W  113   96   \n",
       "4   Wed, Nov 4, 2009        NaN      Los Angeles Lakers          L  102  103   \n",
       "\n",
       "    season  \n",
       "0  regular  \n",
       "1  regular  \n",
       "2  regular  \n",
       "3  regular  \n",
       "4  regular  "
      ]
     },
     "execution_count": 16,
     "metadata": {},
     "output_type": "execute_result"
    }
   ],
   "source": [
    "df.head()"
   ]
  },
  {
   "cell_type": "markdown",
   "metadata": {},
   "source": [
    "## convert date column to datetime\n",
    "\n",
    "## add home value to nan on Unnamed: 5\n"
   ]
  },
  {
   "cell_type": "code",
   "execution_count": 17,
   "metadata": {},
   "outputs": [],
   "source": [
    "# Map the lowering function to all column names\n",
    "df.columns = map(str.lower, df.columns)"
   ]
  },
  {
   "cell_type": "code",
   "execution_count": 18,
   "metadata": {},
   "outputs": [],
   "source": [
    "df.date = pd.to_datetime(df['date'])"
   ]
  },
  {
   "cell_type": "code",
   "execution_count": 19,
   "metadata": {},
   "outputs": [],
   "source": [
    "df.rename(columns={\n",
    "    'unnamed: 5': 'home_away',\n",
    "    'unnamed: 7': 'win_lost',\n",
    "}, inplace=True)"
   ]
  },
  {
   "cell_type": "code",
   "execution_count": 20,
   "metadata": {},
   "outputs": [],
   "source": [
    "df.home_away.fillna('home',inplace=True)"
   ]
  },
  {
   "cell_type": "code",
   "execution_count": 21,
   "metadata": {},
   "outputs": [
    {
     "data": {
      "text/html": [
       "<div>\n",
       "<style scoped>\n",
       "    .dataframe tbody tr th:only-of-type {\n",
       "        vertical-align: middle;\n",
       "    }\n",
       "\n",
       "    .dataframe tbody tr th {\n",
       "        vertical-align: top;\n",
       "    }\n",
       "\n",
       "    .dataframe thead th {\n",
       "        text-align: right;\n",
       "    }\n",
       "</style>\n",
       "<table border=\"1\" class=\"dataframe\">\n",
       "  <thead>\n",
       "    <tr style=\"text-align: right;\">\n",
       "      <th></th>\n",
       "      <th>date</th>\n",
       "      <th>home_away</th>\n",
       "      <th>opponent</th>\n",
       "      <th>win_lost</th>\n",
       "      <th>tm</th>\n",
       "      <th>opp</th>\n",
       "      <th>season</th>\n",
       "    </tr>\n",
       "  </thead>\n",
       "  <tbody>\n",
       "    <tr>\n",
       "      <th>0</th>\n",
       "      <td>2009-10-27</td>\n",
       "      <td>@</td>\n",
       "      <td>Portland Trail Blazers</td>\n",
       "      <td>L</td>\n",
       "      <td>87</td>\n",
       "      <td>96</td>\n",
       "      <td>regular</td>\n",
       "    </tr>\n",
       "    <tr>\n",
       "      <th>1</th>\n",
       "      <td>2009-10-28</td>\n",
       "      <td>@</td>\n",
       "      <td>Golden State Warriors</td>\n",
       "      <td>W</td>\n",
       "      <td>108</td>\n",
       "      <td>107</td>\n",
       "      <td>regular</td>\n",
       "    </tr>\n",
       "    <tr>\n",
       "      <th>2</th>\n",
       "      <td>2009-10-31</td>\n",
       "      <td>home</td>\n",
       "      <td>Portland Trail Blazers</td>\n",
       "      <td>W</td>\n",
       "      <td>111</td>\n",
       "      <td>107</td>\n",
       "      <td>regular</td>\n",
       "    </tr>\n",
       "    <tr>\n",
       "      <th>3</th>\n",
       "      <td>2009-11-02</td>\n",
       "      <td>@</td>\n",
       "      <td>Utah Jazz</td>\n",
       "      <td>W</td>\n",
       "      <td>113</td>\n",
       "      <td>96</td>\n",
       "      <td>regular</td>\n",
       "    </tr>\n",
       "    <tr>\n",
       "      <th>4</th>\n",
       "      <td>2009-11-04</td>\n",
       "      <td>home</td>\n",
       "      <td>Los Angeles Lakers</td>\n",
       "      <td>L</td>\n",
       "      <td>102</td>\n",
       "      <td>103</td>\n",
       "      <td>regular</td>\n",
       "    </tr>\n",
       "  </tbody>\n",
       "</table>\n",
       "</div>"
      ],
      "text/plain": [
       "        date home_away                opponent win_lost   tm  opp   season\n",
       "0 2009-10-27         @  Portland Trail Blazers        L   87   96  regular\n",
       "1 2009-10-28         @   Golden State Warriors        W  108  107  regular\n",
       "2 2009-10-31      home  Portland Trail Blazers        W  111  107  regular\n",
       "3 2009-11-02         @               Utah Jazz        W  113   96  regular\n",
       "4 2009-11-04      home      Los Angeles Lakers        L  102  103  regular"
      ]
     },
     "execution_count": 21,
     "metadata": {},
     "output_type": "execute_result"
    }
   ],
   "source": [
    "df.head()"
   ]
  },
  {
   "cell_type": "markdown",
   "metadata": {},
   "source": [
    "## Create column called team"
   ]
  },
  {
   "cell_type": "code",
   "execution_count": 22,
   "metadata": {},
   "outputs": [],
   "source": [
    "df['team'] = \"Houston Rockets\" "
   ]
  },
  {
   "cell_type": "code",
   "execution_count": 23,
   "metadata": {},
   "outputs": [
    {
     "data": {
      "text/html": [
       "<div>\n",
       "<style scoped>\n",
       "    .dataframe tbody tr th:only-of-type {\n",
       "        vertical-align: middle;\n",
       "    }\n",
       "\n",
       "    .dataframe tbody tr th {\n",
       "        vertical-align: top;\n",
       "    }\n",
       "\n",
       "    .dataframe thead th {\n",
       "        text-align: right;\n",
       "    }\n",
       "</style>\n",
       "<table border=\"1\" class=\"dataframe\">\n",
       "  <thead>\n",
       "    <tr style=\"text-align: right;\">\n",
       "      <th></th>\n",
       "      <th>date</th>\n",
       "      <th>home_away</th>\n",
       "      <th>opponent</th>\n",
       "      <th>win_lost</th>\n",
       "      <th>tm</th>\n",
       "      <th>opp</th>\n",
       "      <th>season</th>\n",
       "      <th>team</th>\n",
       "    </tr>\n",
       "  </thead>\n",
       "  <tbody>\n",
       "    <tr>\n",
       "      <th>0</th>\n",
       "      <td>2009-10-27</td>\n",
       "      <td>@</td>\n",
       "      <td>Portland Trail Blazers</td>\n",
       "      <td>L</td>\n",
       "      <td>87</td>\n",
       "      <td>96</td>\n",
       "      <td>regular</td>\n",
       "      <td>Houston Rockets</td>\n",
       "    </tr>\n",
       "    <tr>\n",
       "      <th>1</th>\n",
       "      <td>2009-10-28</td>\n",
       "      <td>@</td>\n",
       "      <td>Golden State Warriors</td>\n",
       "      <td>W</td>\n",
       "      <td>108</td>\n",
       "      <td>107</td>\n",
       "      <td>regular</td>\n",
       "      <td>Houston Rockets</td>\n",
       "    </tr>\n",
       "    <tr>\n",
       "      <th>2</th>\n",
       "      <td>2009-10-31</td>\n",
       "      <td>home</td>\n",
       "      <td>Portland Trail Blazers</td>\n",
       "      <td>W</td>\n",
       "      <td>111</td>\n",
       "      <td>107</td>\n",
       "      <td>regular</td>\n",
       "      <td>Houston Rockets</td>\n",
       "    </tr>\n",
       "    <tr>\n",
       "      <th>3</th>\n",
       "      <td>2009-11-02</td>\n",
       "      <td>@</td>\n",
       "      <td>Utah Jazz</td>\n",
       "      <td>W</td>\n",
       "      <td>113</td>\n",
       "      <td>96</td>\n",
       "      <td>regular</td>\n",
       "      <td>Houston Rockets</td>\n",
       "    </tr>\n",
       "    <tr>\n",
       "      <th>4</th>\n",
       "      <td>2009-11-04</td>\n",
       "      <td>home</td>\n",
       "      <td>Los Angeles Lakers</td>\n",
       "      <td>L</td>\n",
       "      <td>102</td>\n",
       "      <td>103</td>\n",
       "      <td>regular</td>\n",
       "      <td>Houston Rockets</td>\n",
       "    </tr>\n",
       "  </tbody>\n",
       "</table>\n",
       "</div>"
      ],
      "text/plain": [
       "        date home_away                opponent win_lost   tm  opp   season  \\\n",
       "0 2009-10-27         @  Portland Trail Blazers        L   87   96  regular   \n",
       "1 2009-10-28         @   Golden State Warriors        W  108  107  regular   \n",
       "2 2009-10-31      home  Portland Trail Blazers        W  111  107  regular   \n",
       "3 2009-11-02         @               Utah Jazz        W  113   96  regular   \n",
       "4 2009-11-04      home      Los Angeles Lakers        L  102  103  regular   \n",
       "\n",
       "              team  \n",
       "0  Houston Rockets  \n",
       "1  Houston Rockets  \n",
       "2  Houston Rockets  \n",
       "3  Houston Rockets  \n",
       "4  Houston Rockets  "
      ]
     },
     "execution_count": 23,
     "metadata": {},
     "output_type": "execute_result"
    }
   ],
   "source": [
    "df.head()"
   ]
  },
  {
   "cell_type": "markdown",
   "metadata": {},
   "source": [
    "## change order"
   ]
  },
  {
   "cell_type": "code",
   "execution_count": 24,
   "metadata": {},
   "outputs": [],
   "source": [
    "cols = ['team','home_away','opponent','tm','opp','win_lost','season','date']\n",
    "df = df.reindex(columns=cols)"
   ]
  },
  {
   "cell_type": "code",
   "execution_count": 25,
   "metadata": {},
   "outputs": [
    {
     "data": {
      "text/html": [
       "<div>\n",
       "<style scoped>\n",
       "    .dataframe tbody tr th:only-of-type {\n",
       "        vertical-align: middle;\n",
       "    }\n",
       "\n",
       "    .dataframe tbody tr th {\n",
       "        vertical-align: top;\n",
       "    }\n",
       "\n",
       "    .dataframe thead th {\n",
       "        text-align: right;\n",
       "    }\n",
       "</style>\n",
       "<table border=\"1\" class=\"dataframe\">\n",
       "  <thead>\n",
       "    <tr style=\"text-align: right;\">\n",
       "      <th></th>\n",
       "      <th>team</th>\n",
       "      <th>home_away</th>\n",
       "      <th>opponent</th>\n",
       "      <th>tm</th>\n",
       "      <th>opp</th>\n",
       "      <th>win_lost</th>\n",
       "      <th>season</th>\n",
       "      <th>date</th>\n",
       "    </tr>\n",
       "  </thead>\n",
       "  <tbody>\n",
       "    <tr>\n",
       "      <th>0</th>\n",
       "      <td>Houston Rockets</td>\n",
       "      <td>@</td>\n",
       "      <td>Portland Trail Blazers</td>\n",
       "      <td>87</td>\n",
       "      <td>96</td>\n",
       "      <td>L</td>\n",
       "      <td>regular</td>\n",
       "      <td>2009-10-27</td>\n",
       "    </tr>\n",
       "    <tr>\n",
       "      <th>1</th>\n",
       "      <td>Houston Rockets</td>\n",
       "      <td>@</td>\n",
       "      <td>Golden State Warriors</td>\n",
       "      <td>108</td>\n",
       "      <td>107</td>\n",
       "      <td>W</td>\n",
       "      <td>regular</td>\n",
       "      <td>2009-10-28</td>\n",
       "    </tr>\n",
       "    <tr>\n",
       "      <th>2</th>\n",
       "      <td>Houston Rockets</td>\n",
       "      <td>home</td>\n",
       "      <td>Portland Trail Blazers</td>\n",
       "      <td>111</td>\n",
       "      <td>107</td>\n",
       "      <td>W</td>\n",
       "      <td>regular</td>\n",
       "      <td>2009-10-31</td>\n",
       "    </tr>\n",
       "    <tr>\n",
       "      <th>3</th>\n",
       "      <td>Houston Rockets</td>\n",
       "      <td>@</td>\n",
       "      <td>Utah Jazz</td>\n",
       "      <td>113</td>\n",
       "      <td>96</td>\n",
       "      <td>W</td>\n",
       "      <td>regular</td>\n",
       "      <td>2009-11-02</td>\n",
       "    </tr>\n",
       "    <tr>\n",
       "      <th>4</th>\n",
       "      <td>Houston Rockets</td>\n",
       "      <td>home</td>\n",
       "      <td>Los Angeles Lakers</td>\n",
       "      <td>102</td>\n",
       "      <td>103</td>\n",
       "      <td>L</td>\n",
       "      <td>regular</td>\n",
       "      <td>2009-11-04</td>\n",
       "    </tr>\n",
       "  </tbody>\n",
       "</table>\n",
       "</div>"
      ],
      "text/plain": [
       "              team home_away                opponent   tm  opp win_lost  \\\n",
       "0  Houston Rockets         @  Portland Trail Blazers   87   96        L   \n",
       "1  Houston Rockets         @   Golden State Warriors  108  107        W   \n",
       "2  Houston Rockets      home  Portland Trail Blazers  111  107        W   \n",
       "3  Houston Rockets         @               Utah Jazz  113   96        W   \n",
       "4  Houston Rockets      home      Los Angeles Lakers  102  103        L   \n",
       "\n",
       "    season       date  \n",
       "0  regular 2009-10-27  \n",
       "1  regular 2009-10-28  \n",
       "2  regular 2009-10-31  \n",
       "3  regular 2009-11-02  \n",
       "4  regular 2009-11-04  "
      ]
     },
     "execution_count": 25,
     "metadata": {},
     "output_type": "execute_result"
    }
   ],
   "source": [
    "df.head()"
   ]
  },
  {
   "cell_type": "markdown",
   "metadata": {},
   "source": [
    "## choose only home games"
   ]
  },
  {
   "cell_type": "code",
   "execution_count": 26,
   "metadata": {},
   "outputs": [],
   "source": [
    "home_games = df.home_away =='home'\n",
    "df = df[home_games]"
   ]
  },
  {
   "cell_type": "code",
   "execution_count": 27,
   "metadata": {},
   "outputs": [
    {
     "name": "stdout",
     "output_type": "stream",
     "text": [
      "<class 'pandas.core.frame.DataFrame'>\n",
      "Int64Index: 343 entries, 2 to 44\n",
      "Data columns (total 8 columns):\n",
      "team         343 non-null object\n",
      "home_away    343 non-null object\n",
      "opponent     343 non-null object\n",
      "tm           343 non-null int64\n",
      "opp          343 non-null int64\n",
      "win_lost     343 non-null object\n",
      "season       343 non-null object\n",
      "date         343 non-null datetime64[ns]\n",
      "dtypes: datetime64[ns](1), int64(2), object(5)\n",
      "memory usage: 24.1+ KB\n"
     ]
    }
   ],
   "source": [
    "df.info()"
   ]
  },
  {
   "cell_type": "code",
   "execution_count": 28,
   "metadata": {},
   "outputs": [
    {
     "data": {
      "text/html": [
       "<div>\n",
       "<style scoped>\n",
       "    .dataframe tbody tr th:only-of-type {\n",
       "        vertical-align: middle;\n",
       "    }\n",
       "\n",
       "    .dataframe tbody tr th {\n",
       "        vertical-align: top;\n",
       "    }\n",
       "\n",
       "    .dataframe thead th {\n",
       "        text-align: right;\n",
       "    }\n",
       "</style>\n",
       "<table border=\"1\" class=\"dataframe\">\n",
       "  <thead>\n",
       "    <tr style=\"text-align: right;\">\n",
       "      <th></th>\n",
       "      <th>team</th>\n",
       "      <th>home_away</th>\n",
       "      <th>opponent</th>\n",
       "      <th>tm</th>\n",
       "      <th>opp</th>\n",
       "      <th>win_lost</th>\n",
       "      <th>season</th>\n",
       "      <th>date</th>\n",
       "    </tr>\n",
       "  </thead>\n",
       "  <tbody>\n",
       "    <tr>\n",
       "      <th>2</th>\n",
       "      <td>Houston Rockets</td>\n",
       "      <td>home</td>\n",
       "      <td>Portland Trail Blazers</td>\n",
       "      <td>111</td>\n",
       "      <td>107</td>\n",
       "      <td>W</td>\n",
       "      <td>regular</td>\n",
       "      <td>2009-10-31</td>\n",
       "    </tr>\n",
       "    <tr>\n",
       "      <th>4</th>\n",
       "      <td>Houston Rockets</td>\n",
       "      <td>home</td>\n",
       "      <td>Los Angeles Lakers</td>\n",
       "      <td>102</td>\n",
       "      <td>103</td>\n",
       "      <td>L</td>\n",
       "      <td>regular</td>\n",
       "      <td>2009-11-04</td>\n",
       "    </tr>\n",
       "    <tr>\n",
       "      <th>5</th>\n",
       "      <td>Houston Rockets</td>\n",
       "      <td>home</td>\n",
       "      <td>Oklahoma City Thunder</td>\n",
       "      <td>105</td>\n",
       "      <td>94</td>\n",
       "      <td>W</td>\n",
       "      <td>regular</td>\n",
       "      <td>2009-11-06</td>\n",
       "    </tr>\n",
       "    <tr>\n",
       "      <th>7</th>\n",
       "      <td>Houston Rockets</td>\n",
       "      <td>home</td>\n",
       "      <td>Memphis Grizzlies</td>\n",
       "      <td>104</td>\n",
       "      <td>79</td>\n",
       "      <td>W</td>\n",
       "      <td>regular</td>\n",
       "      <td>2009-11-11</td>\n",
       "    </tr>\n",
       "    <tr>\n",
       "      <th>10</th>\n",
       "      <td>Houston Rockets</td>\n",
       "      <td>home</td>\n",
       "      <td>Phoenix Suns</td>\n",
       "      <td>105</td>\n",
       "      <td>111</td>\n",
       "      <td>L</td>\n",
       "      <td>regular</td>\n",
       "      <td>2009-11-17</td>\n",
       "    </tr>\n",
       "  </tbody>\n",
       "</table>\n",
       "</div>"
      ],
      "text/plain": [
       "               team home_away                opponent   tm  opp win_lost  \\\n",
       "2   Houston Rockets      home  Portland Trail Blazers  111  107        W   \n",
       "4   Houston Rockets      home      Los Angeles Lakers  102  103        L   \n",
       "5   Houston Rockets      home   Oklahoma City Thunder  105   94        W   \n",
       "7   Houston Rockets      home       Memphis Grizzlies  104   79        W   \n",
       "10  Houston Rockets      home            Phoenix Suns  105  111        L   \n",
       "\n",
       "     season       date  \n",
       "2   regular 2009-10-31  \n",
       "4   regular 2009-11-04  \n",
       "5   regular 2009-11-06  \n",
       "7   regular 2009-11-11  \n",
       "10  regular 2009-11-17  "
      ]
     },
     "execution_count": 28,
     "metadata": {},
     "output_type": "execute_result"
    }
   ],
   "source": [
    "df.head()"
   ]
  },
  {
   "cell_type": "markdown",
   "metadata": {},
   "source": [
    "## drop home_away column"
   ]
  },
  {
   "cell_type": "code",
   "execution_count": 29,
   "metadata": {},
   "outputs": [],
   "source": [
    "df.drop(['home_away'],axis=1, inplace=True)"
   ]
  },
  {
   "cell_type": "code",
   "execution_count": null,
   "metadata": {},
   "outputs": [],
   "source": []
  },
  {
   "cell_type": "markdown",
   "metadata": {},
   "source": [
    "## set datetime index"
   ]
  },
  {
   "cell_type": "code",
   "execution_count": 30,
   "metadata": {},
   "outputs": [],
   "source": [
    "df = df.set_index('date').sort_index(ascending=True)"
   ]
  },
  {
   "cell_type": "code",
   "execution_count": 31,
   "metadata": {},
   "outputs": [
    {
     "name": "stdout",
     "output_type": "stream",
     "text": [
      "<class 'pandas.core.frame.DataFrame'>\n",
      "DatetimeIndex: 343 entries, 2009-10-31 to 2017-05-11\n",
      "Data columns (total 6 columns):\n",
      "team        343 non-null object\n",
      "opponent    343 non-null object\n",
      "tm          343 non-null int64\n",
      "opp         343 non-null int64\n",
      "win_lost    343 non-null object\n",
      "season      343 non-null object\n",
      "dtypes: int64(2), object(4)\n",
      "memory usage: 18.8+ KB\n"
     ]
    }
   ],
   "source": [
    "df.info()"
   ]
  },
  {
   "cell_type": "code",
   "execution_count": 32,
   "metadata": {},
   "outputs": [
    {
     "data": {
      "text/html": [
       "<div>\n",
       "<style scoped>\n",
       "    .dataframe tbody tr th:only-of-type {\n",
       "        vertical-align: middle;\n",
       "    }\n",
       "\n",
       "    .dataframe tbody tr th {\n",
       "        vertical-align: top;\n",
       "    }\n",
       "\n",
       "    .dataframe thead th {\n",
       "        text-align: right;\n",
       "    }\n",
       "</style>\n",
       "<table border=\"1\" class=\"dataframe\">\n",
       "  <thead>\n",
       "    <tr style=\"text-align: right;\">\n",
       "      <th></th>\n",
       "      <th>team</th>\n",
       "      <th>opponent</th>\n",
       "      <th>tm</th>\n",
       "      <th>opp</th>\n",
       "      <th>win_lost</th>\n",
       "      <th>season</th>\n",
       "    </tr>\n",
       "    <tr>\n",
       "      <th>date</th>\n",
       "      <th></th>\n",
       "      <th></th>\n",
       "      <th></th>\n",
       "      <th></th>\n",
       "      <th></th>\n",
       "      <th></th>\n",
       "    </tr>\n",
       "  </thead>\n",
       "  <tbody>\n",
       "    <tr>\n",
       "      <th>2009-10-31</th>\n",
       "      <td>Houston Rockets</td>\n",
       "      <td>Portland Trail Blazers</td>\n",
       "      <td>111</td>\n",
       "      <td>107</td>\n",
       "      <td>W</td>\n",
       "      <td>regular</td>\n",
       "    </tr>\n",
       "    <tr>\n",
       "      <th>2009-11-04</th>\n",
       "      <td>Houston Rockets</td>\n",
       "      <td>Los Angeles Lakers</td>\n",
       "      <td>102</td>\n",
       "      <td>103</td>\n",
       "      <td>L</td>\n",
       "      <td>regular</td>\n",
       "    </tr>\n",
       "    <tr>\n",
       "      <th>2009-11-06</th>\n",
       "      <td>Houston Rockets</td>\n",
       "      <td>Oklahoma City Thunder</td>\n",
       "      <td>105</td>\n",
       "      <td>94</td>\n",
       "      <td>W</td>\n",
       "      <td>regular</td>\n",
       "    </tr>\n",
       "    <tr>\n",
       "      <th>2009-11-11</th>\n",
       "      <td>Houston Rockets</td>\n",
       "      <td>Memphis Grizzlies</td>\n",
       "      <td>104</td>\n",
       "      <td>79</td>\n",
       "      <td>W</td>\n",
       "      <td>regular</td>\n",
       "    </tr>\n",
       "    <tr>\n",
       "      <th>2009-11-17</th>\n",
       "      <td>Houston Rockets</td>\n",
       "      <td>Phoenix Suns</td>\n",
       "      <td>105</td>\n",
       "      <td>111</td>\n",
       "      <td>L</td>\n",
       "      <td>regular</td>\n",
       "    </tr>\n",
       "  </tbody>\n",
       "</table>\n",
       "</div>"
      ],
      "text/plain": [
       "                       team                opponent   tm  opp win_lost  \\\n",
       "date                                                                     \n",
       "2009-10-31  Houston Rockets  Portland Trail Blazers  111  107        W   \n",
       "2009-11-04  Houston Rockets      Los Angeles Lakers  102  103        L   \n",
       "2009-11-06  Houston Rockets   Oklahoma City Thunder  105   94        W   \n",
       "2009-11-11  Houston Rockets       Memphis Grizzlies  104   79        W   \n",
       "2009-11-17  Houston Rockets            Phoenix Suns  105  111        L   \n",
       "\n",
       "             season  \n",
       "date                 \n",
       "2009-10-31  regular  \n",
       "2009-11-04  regular  \n",
       "2009-11-06  regular  \n",
       "2009-11-11  regular  \n",
       "2009-11-17  regular  "
      ]
     },
     "execution_count": 32,
     "metadata": {},
     "output_type": "execute_result"
    }
   ],
   "source": [
    "df.head()"
   ]
  },
  {
   "cell_type": "markdown",
   "metadata": {},
   "source": [
    "## save data"
   ]
  },
  {
   "cell_type": "code",
   "execution_count": 33,
   "metadata": {},
   "outputs": [],
   "source": [
    "df.to_csv(data_directory_saves+'Rockets_2010_2017.csv')"
   ]
  },
  {
   "cell_type": "code",
   "execution_count": null,
   "metadata": {},
   "outputs": [],
   "source": []
  }
 ],
 "metadata": {
  "kernelspec": {
   "display_name": "Python 3",
   "language": "python",
   "name": "python3"
  },
  "language_info": {
   "codemirror_mode": {
    "name": "ipython",
    "version": 3
   },
   "file_extension": ".py",
   "mimetype": "text/x-python",
   "name": "python",
   "nbconvert_exporter": "python",
   "pygments_lexer": "ipython3",
   "version": "3.6.4"
  }
 },
 "nbformat": 4,
 "nbformat_minor": 2
}
