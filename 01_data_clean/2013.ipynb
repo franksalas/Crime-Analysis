{
 "cells": [
  {
   "cell_type": "markdown",
   "metadata": {},
   "source": [
    "# Crime data from 2013\n",
    "\n",
    "http://www.houstontx.gov/police/cs/crime-stats-archives.htm"
   ]
  },
  {
   "cell_type": "code",
   "execution_count": 1,
   "metadata": {},
   "outputs": [],
   "source": [
    "import warnings\n",
    "warnings.filterwarnings('ignore')"
   ]
  },
  {
   "cell_type": "code",
   "execution_count": 2,
   "metadata": {},
   "outputs": [],
   "source": [
    "import pandas as pd\n",
    "import glob, os\n",
    "import numpy as np\n",
    "import matplotlib.pyplot as plt\n",
    "import datetime  as dt\n",
    "import seaborn as sns"
   ]
  },
  {
   "cell_type": "markdown",
   "metadata": {},
   "source": [
    "## Data directory"
   ]
  },
  {
   "cell_type": "code",
   "execution_count": 3,
   "metadata": {},
   "outputs": [],
   "source": [
    "year = '2013'"
   ]
  },
  {
   "cell_type": "code",
   "execution_count": 4,
   "metadata": {},
   "outputs": [],
   "source": [
    "# data folder path\n",
    "data_directory = os.path.join('..','data','crime_data/{}'.format(year))\n",
    "data_directory_saves = os.path.join( '..','data','clean_data','crime/')\n",
    "premise_dataset = os.path.join('..','data','crime_data/premise_codes.csv')"
   ]
  },
  {
   "cell_type": "markdown",
   "metadata": {},
   "source": [
    "# combine all fines into one"
   ]
  },
  {
   "cell_type": "code",
   "execution_count": 5,
   "metadata": {},
   "outputs": [],
   "source": [
    "# combine all files into one df\n",
    "all_files = glob.glob(os.path.join(data_directory, \"*.xls\")) \n",
    "df_from_each_file = (pd.read_excel(f) for f in all_files)\n",
    "df   = pd.concat(df_from_each_file, ignore_index=True)"
   ]
  },
  {
   "cell_type": "code",
   "execution_count": 6,
   "metadata": {},
   "outputs": [
    {
     "name": "stdout",
     "output_type": "stream",
     "text": [
      "<class 'pandas.core.frame.DataFrame'>\n",
      "RangeIndex: 130459 entries, 0 to 130458\n",
      "Data columns (total 11 columns):\n",
      "# Of Offenses    130459 non-null int64\n",
      "Beat             130459 non-null object\n",
      "Block Range      130459 non-null object\n",
      "Date             130459 non-null datetime64[ns]\n",
      "Hour             130459 non-null int64\n",
      "Offense Type     130459 non-null object\n",
      "Premise          130459 non-null object\n",
      "Street Name      130459 non-null object\n",
      "Suffix           130459 non-null object\n",
      "Type             130459 non-null object\n",
      "Unnamed: 1       0 non-null float64\n",
      "dtypes: datetime64[ns](1), float64(1), int64(2), object(7)\n",
      "memory usage: 10.9+ MB\n"
     ]
    }
   ],
   "source": [
    "df.info()"
   ]
  },
  {
   "cell_type": "code",
   "execution_count": 7,
   "metadata": {},
   "outputs": [
    {
     "data": {
      "text/html": [
       "<div>\n",
       "<style scoped>\n",
       "    .dataframe tbody tr th:only-of-type {\n",
       "        vertical-align: middle;\n",
       "    }\n",
       "\n",
       "    .dataframe tbody tr th {\n",
       "        vertical-align: top;\n",
       "    }\n",
       "\n",
       "    .dataframe thead th {\n",
       "        text-align: right;\n",
       "    }\n",
       "</style>\n",
       "<table border=\"1\" class=\"dataframe\">\n",
       "  <thead>\n",
       "    <tr style=\"text-align: right;\">\n",
       "      <th></th>\n",
       "      <th># Of Offenses</th>\n",
       "      <th>Beat</th>\n",
       "      <th>Block Range</th>\n",
       "      <th>Date</th>\n",
       "      <th>Hour</th>\n",
       "      <th>Offense Type</th>\n",
       "      <th>Premise</th>\n",
       "      <th>Street Name</th>\n",
       "      <th>Suffix</th>\n",
       "      <th>Type</th>\n",
       "      <th>Unnamed: 1</th>\n",
       "    </tr>\n",
       "  </thead>\n",
       "  <tbody>\n",
       "    <tr>\n",
       "      <th>0</th>\n",
       "      <td>1</td>\n",
       "      <td>19G10</td>\n",
       "      <td>9400-9499</td>\n",
       "      <td>2013-04-25</td>\n",
       "      <td>5</td>\n",
       "      <td>Murder</td>\n",
       "      <td>13R</td>\n",
       "      <td>WOODFAIR</td>\n",
       "      <td>-</td>\n",
       "      <td>DR</td>\n",
       "      <td>NaN</td>\n",
       "    </tr>\n",
       "    <tr>\n",
       "      <th>1</th>\n",
       "      <td>1</td>\n",
       "      <td>17E40</td>\n",
       "      <td>6100-6199</td>\n",
       "      <td>2013-04-14</td>\n",
       "      <td>0</td>\n",
       "      <td>Murder</td>\n",
       "      <td>18A</td>\n",
       "      <td>BELLFORT</td>\n",
       "      <td>W</td>\n",
       "      <td>ST</td>\n",
       "      <td>NaN</td>\n",
       "    </tr>\n",
       "  </tbody>\n",
       "</table>\n",
       "</div>"
      ],
      "text/plain": [
       "   # Of Offenses   Beat Block Range       Date  Hour Offense Type Premise  \\\n",
       "0              1  19G10   9400-9499 2013-04-25     5       Murder     13R   \n",
       "1              1  17E40   6100-6199 2013-04-14     0       Murder     18A   \n",
       "\n",
       "  Street Name Suffix Type  Unnamed: 1  \n",
       "0    WOODFAIR      -   DR         NaN  \n",
       "1    BELLFORT      W   ST         NaN  "
      ]
     },
     "execution_count": 7,
     "metadata": {},
     "output_type": "execute_result"
    }
   ],
   "source": [
    "df.head(2)"
   ]
  },
  {
   "cell_type": "markdown",
   "metadata": {},
   "source": [
    "## Check for missing values"
   ]
  },
  {
   "cell_type": "code",
   "execution_count": 8,
   "metadata": {},
   "outputs": [
    {
     "data": {
      "text/plain": [
       "# Of Offenses         0\n",
       "Beat                  0\n",
       "Block Range           0\n",
       "Date                  0\n",
       "Hour                  0\n",
       "Offense Type          0\n",
       "Premise               0\n",
       "Street Name           0\n",
       "Suffix                0\n",
       "Type                  0\n",
       "Unnamed: 1       130459\n",
       "dtype: int64"
      ]
     },
     "execution_count": 8,
     "metadata": {},
     "output_type": "execute_result"
    }
   ],
   "source": [
    "df.apply(lambda x: sum(x.isnull()))"
   ]
  },
  {
   "cell_type": "code",
   "execution_count": 9,
   "metadata": {},
   "outputs": [
    {
     "data": {
      "image/png": "[encoded data removed]",
      "text/plain": [
       "<Figure size 432x288 with 1 Axes>"
      ]
     },
     "metadata": {},
     "output_type": "display_data"
    }
   ],
   "source": [
    "sns.heatmap(df.isnull(),yticklabels=False,cbar=False,cmap='viridis')\n",
    "plt.title('Null dataset display')\n",
    "plt.show()"
   ]
  },
  {
   "cell_type": "markdown",
   "metadata": {},
   "source": [
    "\n",
    "## Cleanup\n",
    "- lowercase column names\n",
    "- joining similar columns\n",
    "- renaming"
   ]
  },
  {
   "cell_type": "code",
   "execution_count": 10,
   "metadata": {},
   "outputs": [],
   "source": [
    "# Map the lowering function to all column names\n",
    "df.columns = map(str.lower, df.columns)"
   ]
  },
  {
   "cell_type": "code",
   "execution_count": 11,
   "metadata": {},
   "outputs": [
    {
     "data": {
      "text/html": [
       "<div>\n",
       "<style scoped>\n",
       "    .dataframe tbody tr th:only-of-type {\n",
       "        vertical-align: middle;\n",
       "    }\n",
       "\n",
       "    .dataframe tbody tr th {\n",
       "        vertical-align: top;\n",
       "    }\n",
       "\n",
       "    .dataframe thead th {\n",
       "        text-align: right;\n",
       "    }\n",
       "</style>\n",
       "<table border=\"1\" class=\"dataframe\">\n",
       "  <thead>\n",
       "    <tr style=\"text-align: right;\">\n",
       "      <th></th>\n",
       "      <th># of offenses</th>\n",
       "      <th>beat</th>\n",
       "      <th>block range</th>\n",
       "      <th>date</th>\n",
       "      <th>hour</th>\n",
       "      <th>offense type</th>\n",
       "      <th>premise</th>\n",
       "      <th>street name</th>\n",
       "      <th>suffix</th>\n",
       "      <th>type</th>\n",
       "      <th>unnamed: 1</th>\n",
       "    </tr>\n",
       "  </thead>\n",
       "  <tbody>\n",
       "    <tr>\n",
       "      <th>0</th>\n",
       "      <td>1</td>\n",
       "      <td>19G10</td>\n",
       "      <td>9400-9499</td>\n",
       "      <td>2013-04-25</td>\n",
       "      <td>5</td>\n",
       "      <td>Murder</td>\n",
       "      <td>13R</td>\n",
       "      <td>WOODFAIR</td>\n",
       "      <td>-</td>\n",
       "      <td>DR</td>\n",
       "      <td>NaN</td>\n",
       "    </tr>\n",
       "    <tr>\n",
       "      <th>1</th>\n",
       "      <td>1</td>\n",
       "      <td>17E40</td>\n",
       "      <td>6100-6199</td>\n",
       "      <td>2013-04-14</td>\n",
       "      <td>0</td>\n",
       "      <td>Murder</td>\n",
       "      <td>18A</td>\n",
       "      <td>BELLFORT</td>\n",
       "      <td>W</td>\n",
       "      <td>ST</td>\n",
       "      <td>NaN</td>\n",
       "    </tr>\n",
       "    <tr>\n",
       "      <th>2</th>\n",
       "      <td>1</td>\n",
       "      <td>20G10</td>\n",
       "      <td>9900-9999</td>\n",
       "      <td>2013-04-02</td>\n",
       "      <td>16</td>\n",
       "      <td>Murder</td>\n",
       "      <td>20A</td>\n",
       "      <td>RICHMOND</td>\n",
       "      <td>-</td>\n",
       "      <td>AVE</td>\n",
       "      <td>NaN</td>\n",
       "    </tr>\n",
       "    <tr>\n",
       "      <th>3</th>\n",
       "      <td>1</td>\n",
       "      <td>2A20</td>\n",
       "      <td>1300-1399</td>\n",
       "      <td>2013-04-19</td>\n",
       "      <td>22</td>\n",
       "      <td>Murder</td>\n",
       "      <td>13R</td>\n",
       "      <td>29TH</td>\n",
       "      <td>E</td>\n",
       "      <td>ST</td>\n",
       "      <td>NaN</td>\n",
       "    </tr>\n",
       "    <tr>\n",
       "      <th>4</th>\n",
       "      <td>1</td>\n",
       "      <td>1A10</td>\n",
       "      <td>500-599</td>\n",
       "      <td>2013-04-23</td>\n",
       "      <td>0</td>\n",
       "      <td>Murder</td>\n",
       "      <td>190</td>\n",
       "      <td>RUSK</td>\n",
       "      <td>-</td>\n",
       "      <td>-</td>\n",
       "      <td>NaN</td>\n",
       "    </tr>\n",
       "  </tbody>\n",
       "</table>\n",
       "</div>"
      ],
      "text/plain": [
       "   # of offenses   beat block range       date  hour offense type premise  \\\n",
       "0              1  19G10   9400-9499 2013-04-25     5       Murder     13R   \n",
       "1              1  17E40   6100-6199 2013-04-14     0       Murder     18A   \n",
       "2              1  20G10   9900-9999 2013-04-02    16       Murder     20A   \n",
       "3              1   2A20   1300-1399 2013-04-19    22       Murder     13R   \n",
       "4              1   1A10     500-599 2013-04-23     0       Murder     190   \n",
       "\n",
       "  street name suffix type  unnamed: 1  \n",
       "0    WOODFAIR      -   DR         NaN  \n",
       "1    BELLFORT      W   ST         NaN  \n",
       "2    RICHMOND      -  AVE         NaN  \n",
       "3        29TH      E   ST         NaN  \n",
       "4        RUSK      -    -         NaN  "
      ]
     },
     "execution_count": 11,
     "metadata": {},
     "output_type": "execute_result"
    }
   ],
   "source": [
    "df.head()"
   ]
  },
  {
   "cell_type": "code",
   "execution_count": 12,
   "metadata": {},
   "outputs": [
    {
     "name": "stdout",
     "output_type": "stream",
     "text": [
      "<class 'pandas.core.frame.DataFrame'>\n",
      "RangeIndex: 130459 entries, 0 to 130458\n",
      "Data columns (total 11 columns):\n",
      "num_offenses    130459 non-null int64\n",
      "beat            130459 non-null object\n",
      "block_range     130459 non-null object\n",
      "date            130459 non-null datetime64[ns]\n",
      "hour            130459 non-null int64\n",
      "offense_type    130459 non-null object\n",
      "premise         130459 non-null object\n",
      "street_name     130459 non-null object\n",
      "suffix          130459 non-null object\n",
      "type            130459 non-null object\n",
      "unnamed: 1      0 non-null float64\n",
      "dtypes: datetime64[ns](1), float64(1), int64(2), object(7)\n",
      "memory usage: 10.9+ MB\n"
     ]
    }
   ],
   "source": [
    "df.rename(columns={\n",
    "    '# of offenses': 'num_offenses',\n",
    "     'offense type': 'offense_type',\n",
    "    'block range': 'block_range',\n",
    "    'street name': 'street_name'\n",
    "}, inplace=True)\n",
    "df.info()"
   ]
  },
  {
   "cell_type": "code",
   "execution_count": 13,
   "metadata": {},
   "outputs": [
    {
     "data": {
      "text/html": [
       "<div>\n",
       "<style scoped>\n",
       "    .dataframe tbody tr th:only-of-type {\n",
       "        vertical-align: middle;\n",
       "    }\n",
       "\n",
       "    .dataframe tbody tr th {\n",
       "        vertical-align: top;\n",
       "    }\n",
       "\n",
       "    .dataframe thead th {\n",
       "        text-align: right;\n",
       "    }\n",
       "</style>\n",
       "<table border=\"1\" class=\"dataframe\">\n",
       "  <thead>\n",
       "    <tr style=\"text-align: right;\">\n",
       "      <th></th>\n",
       "      <th>num_offenses</th>\n",
       "      <th>beat</th>\n",
       "      <th>block_range</th>\n",
       "      <th>date</th>\n",
       "      <th>hour</th>\n",
       "      <th>offense_type</th>\n",
       "      <th>premise</th>\n",
       "      <th>street_name</th>\n",
       "      <th>suffix</th>\n",
       "      <th>type</th>\n",
       "      <th>unnamed: 1</th>\n",
       "    </tr>\n",
       "  </thead>\n",
       "  <tbody>\n",
       "    <tr>\n",
       "      <th>0</th>\n",
       "      <td>1</td>\n",
       "      <td>19G10</td>\n",
       "      <td>9400-9499</td>\n",
       "      <td>2013-04-25</td>\n",
       "      <td>5</td>\n",
       "      <td>Murder</td>\n",
       "      <td>13R</td>\n",
       "      <td>WOODFAIR</td>\n",
       "      <td>-</td>\n",
       "      <td>DR</td>\n",
       "      <td>NaN</td>\n",
       "    </tr>\n",
       "    <tr>\n",
       "      <th>1</th>\n",
       "      <td>1</td>\n",
       "      <td>17E40</td>\n",
       "      <td>6100-6199</td>\n",
       "      <td>2013-04-14</td>\n",
       "      <td>0</td>\n",
       "      <td>Murder</td>\n",
       "      <td>18A</td>\n",
       "      <td>BELLFORT</td>\n",
       "      <td>W</td>\n",
       "      <td>ST</td>\n",
       "      <td>NaN</td>\n",
       "    </tr>\n",
       "    <tr>\n",
       "      <th>2</th>\n",
       "      <td>1</td>\n",
       "      <td>20G10</td>\n",
       "      <td>9900-9999</td>\n",
       "      <td>2013-04-02</td>\n",
       "      <td>16</td>\n",
       "      <td>Murder</td>\n",
       "      <td>20A</td>\n",
       "      <td>RICHMOND</td>\n",
       "      <td>-</td>\n",
       "      <td>AVE</td>\n",
       "      <td>NaN</td>\n",
       "    </tr>\n",
       "    <tr>\n",
       "      <th>3</th>\n",
       "      <td>1</td>\n",
       "      <td>2A20</td>\n",
       "      <td>1300-1399</td>\n",
       "      <td>2013-04-19</td>\n",
       "      <td>22</td>\n",
       "      <td>Murder</td>\n",
       "      <td>13R</td>\n",
       "      <td>29TH</td>\n",
       "      <td>E</td>\n",
       "      <td>ST</td>\n",
       "      <td>NaN</td>\n",
       "    </tr>\n",
       "    <tr>\n",
       "      <th>4</th>\n",
       "      <td>1</td>\n",
       "      <td>1A10</td>\n",
       "      <td>500-599</td>\n",
       "      <td>2013-04-23</td>\n",
       "      <td>0</td>\n",
       "      <td>Murder</td>\n",
       "      <td>190</td>\n",
       "      <td>RUSK</td>\n",
       "      <td>-</td>\n",
       "      <td>-</td>\n",
       "      <td>NaN</td>\n",
       "    </tr>\n",
       "  </tbody>\n",
       "</table>\n",
       "</div>"
      ],
      "text/plain": [
       "   num_offenses   beat block_range       date  hour offense_type premise  \\\n",
       "0             1  19G10   9400-9499 2013-04-25     5       Murder     13R   \n",
       "1             1  17E40   6100-6199 2013-04-14     0       Murder     18A   \n",
       "2             1  20G10   9900-9999 2013-04-02    16       Murder     20A   \n",
       "3             1   2A20   1300-1399 2013-04-19    22       Murder     13R   \n",
       "4             1   1A10     500-599 2013-04-23     0       Murder     190   \n",
       "\n",
       "  street_name suffix type  unnamed: 1  \n",
       "0    WOODFAIR      -   DR         NaN  \n",
       "1    BELLFORT      W   ST         NaN  \n",
       "2    RICHMOND      -  AVE         NaN  \n",
       "3        29TH      E   ST         NaN  \n",
       "4        RUSK      -    -         NaN  "
      ]
     },
     "execution_count": 13,
     "metadata": {},
     "output_type": "execute_result"
    }
   ],
   "source": [
    "df.head()"
   ]
  },
  {
   "cell_type": "markdown",
   "metadata": {},
   "source": [
    "## Drop columns"
   ]
  },
  {
   "cell_type": "code",
   "execution_count": 14,
   "metadata": {},
   "outputs": [],
   "source": [
    "df.drop(['suffix','type','unnamed: 1'],axis=1, inplace=True)"
   ]
  },
  {
   "cell_type": "code",
   "execution_count": 15,
   "metadata": {},
   "outputs": [
    {
     "data": {
      "text/html": [
       "<div>\n",
       "<style scoped>\n",
       "    .dataframe tbody tr th:only-of-type {\n",
       "        vertical-align: middle;\n",
       "    }\n",
       "\n",
       "    .dataframe tbody tr th {\n",
       "        vertical-align: top;\n",
       "    }\n",
       "\n",
       "    .dataframe thead th {\n",
       "        text-align: right;\n",
       "    }\n",
       "</style>\n",
       "<table border=\"1\" class=\"dataframe\">\n",
       "  <thead>\n",
       "    <tr style=\"text-align: right;\">\n",
       "      <th></th>\n",
       "      <th>num_offenses</th>\n",
       "      <th>beat</th>\n",
       "      <th>block_range</th>\n",
       "      <th>date</th>\n",
       "      <th>hour</th>\n",
       "      <th>offense_type</th>\n",
       "      <th>premise</th>\n",
       "      <th>street_name</th>\n",
       "    </tr>\n",
       "  </thead>\n",
       "  <tbody>\n",
       "    <tr>\n",
       "      <th>0</th>\n",
       "      <td>1</td>\n",
       "      <td>19G10</td>\n",
       "      <td>9400-9499</td>\n",
       "      <td>2013-04-25</td>\n",
       "      <td>5</td>\n",
       "      <td>Murder</td>\n",
       "      <td>13R</td>\n",
       "      <td>WOODFAIR</td>\n",
       "    </tr>\n",
       "    <tr>\n",
       "      <th>1</th>\n",
       "      <td>1</td>\n",
       "      <td>17E40</td>\n",
       "      <td>6100-6199</td>\n",
       "      <td>2013-04-14</td>\n",
       "      <td>0</td>\n",
       "      <td>Murder</td>\n",
       "      <td>18A</td>\n",
       "      <td>BELLFORT</td>\n",
       "    </tr>\n",
       "    <tr>\n",
       "      <th>2</th>\n",
       "      <td>1</td>\n",
       "      <td>20G10</td>\n",
       "      <td>9900-9999</td>\n",
       "      <td>2013-04-02</td>\n",
       "      <td>16</td>\n",
       "      <td>Murder</td>\n",
       "      <td>20A</td>\n",
       "      <td>RICHMOND</td>\n",
       "    </tr>\n",
       "    <tr>\n",
       "      <th>3</th>\n",
       "      <td>1</td>\n",
       "      <td>2A20</td>\n",
       "      <td>1300-1399</td>\n",
       "      <td>2013-04-19</td>\n",
       "      <td>22</td>\n",
       "      <td>Murder</td>\n",
       "      <td>13R</td>\n",
       "      <td>29TH</td>\n",
       "    </tr>\n",
       "    <tr>\n",
       "      <th>4</th>\n",
       "      <td>1</td>\n",
       "      <td>1A10</td>\n",
       "      <td>500-599</td>\n",
       "      <td>2013-04-23</td>\n",
       "      <td>0</td>\n",
       "      <td>Murder</td>\n",
       "      <td>190</td>\n",
       "      <td>RUSK</td>\n",
       "    </tr>\n",
       "  </tbody>\n",
       "</table>\n",
       "</div>"
      ],
      "text/plain": [
       "   num_offenses   beat block_range       date  hour offense_type premise  \\\n",
       "0             1  19G10   9400-9499 2013-04-25     5       Murder     13R   \n",
       "1             1  17E40   6100-6199 2013-04-14     0       Murder     18A   \n",
       "2             1  20G10   9900-9999 2013-04-02    16       Murder     20A   \n",
       "3             1   2A20   1300-1399 2013-04-19    22       Murder     13R   \n",
       "4             1   1A10     500-599 2013-04-23     0       Murder     190   \n",
       "\n",
       "  street_name  \n",
       "0    WOODFAIR  \n",
       "1    BELLFORT  \n",
       "2    RICHMOND  \n",
       "3        29TH  \n",
       "4        RUSK  "
      ]
     },
     "execution_count": 15,
     "metadata": {},
     "output_type": "execute_result"
    }
   ],
   "source": [
    "df.head()"
   ]
  },
  {
   "cell_type": "code",
   "execution_count": 16,
   "metadata": {},
   "outputs": [
    {
     "data": {
      "text/plain": [
       "127"
      ]
     },
     "execution_count": 16,
     "metadata": {},
     "output_type": "execute_result"
    }
   ],
   "source": [
    "len(df.premise.unique())"
   ]
  },
  {
   "cell_type": "code",
   "execution_count": 17,
   "metadata": {},
   "outputs": [
    {
     "data": {
      "text/plain": [
       "array(['13R', '18A', '20A', '190', '250', '20D', '20R', '13S', '09H',\n",
       "       '05L', '18C', '05T', '11R', '18G', '140', '20C', '20P', '18R',\n",
       "       '02S', '18T', '05Z', '120', '05B', '13H', '02B', '18P', '18O',\n",
       "       '080', '070', '20G', '05Q', '13B', '23S', '03B', '22H', '18N',\n",
       "       '210', '03S', '11L', '01B', '13A', '05E', '240', '22E', '100',\n",
       "       '05D', '24J', '18U', '05C', '02C', '20N', '18W', '18M', '05M',\n",
       "       '05F', '22M', '24E', '20L', '170', '24A', '09D', '24C', '18B',\n",
       "       '01A', '05W', '---', '11S', '22P', '05G', '06', '05O', '18L',\n",
       "       '060', '05N', '18S', '05S', '040', '20W', '20V', '20M', '20H',\n",
       "       '22D', '09P', '19V', '21V', '05R', '05X', '24P', '24G', '11G',\n",
       "       '24F', '05H', '05Y', '12V', '01P', '18H', '05V', '05P', '24S',\n",
       "       '22U', '22V', '11P', '11F', '22C', '24T', '01T', '18D', '09R',\n",
       "       '150', '11C', '25R', '24B', 'N', '05U', '09V', '04V', '01K', '05A',\n",
       "       '24V', '160', '14V', '13T', '25V', '11V', '01R', '24M', '13C'],\n",
       "      dtype=object)"
      ]
     },
     "execution_count": 17,
     "metadata": {},
     "output_type": "execute_result"
    }
   ],
   "source": [
    "df.premise.unique()"
   ]
  },
  {
   "cell_type": "markdown",
   "metadata": {},
   "source": [
    "## Premise"
   ]
  },
  {
   "cell_type": "code",
   "execution_count": 18,
   "metadata": {},
   "outputs": [
    {
     "data": {
      "text/html": [
       "<div>\n",
       "<style scoped>\n",
       "    .dataframe tbody tr th:only-of-type {\n",
       "        vertical-align: middle;\n",
       "    }\n",
       "\n",
       "    .dataframe tbody tr th {\n",
       "        vertical-align: top;\n",
       "    }\n",
       "\n",
       "    .dataframe thead th {\n",
       "        text-align: right;\n",
       "    }\n",
       "</style>\n",
       "<table border=\"1\" class=\"dataframe\">\n",
       "  <thead>\n",
       "    <tr style=\"text-align: right;\">\n",
       "      <th></th>\n",
       "      <th>premise</th>\n",
       "      <th>premise_description</th>\n",
       "    </tr>\n",
       "  </thead>\n",
       "  <tbody>\n",
       "    <tr>\n",
       "      <th>0</th>\n",
       "      <td>01A</td>\n",
       "      <td>AIRPORT TERMINAL</td>\n",
       "    </tr>\n",
       "    <tr>\n",
       "      <th>1</th>\n",
       "      <td>01B</td>\n",
       "      <td>BUS STATION</td>\n",
       "    </tr>\n",
       "    <tr>\n",
       "      <th>2</th>\n",
       "      <td>01K</td>\n",
       "      <td>RAILROAD TRACK/RIGHT OF WAY</td>\n",
       "    </tr>\n",
       "    <tr>\n",
       "      <th>3</th>\n",
       "      <td>01P</td>\n",
       "      <td>PARK &amp; RIDE TERMINAL</td>\n",
       "    </tr>\n",
       "    <tr>\n",
       "      <th>4</th>\n",
       "      <td>01R</td>\n",
       "      <td>LIGHT RAIL VEHICLE</td>\n",
       "    </tr>\n",
       "  </tbody>\n",
       "</table>\n",
       "</div>"
      ],
      "text/plain": [
       "  premise          premise_description\n",
       "0     01A             AIRPORT TERMINAL\n",
       "1     01B                  BUS STATION\n",
       "2     01K  RAILROAD TRACK/RIGHT OF WAY\n",
       "3     01P         PARK & RIDE TERMINAL\n",
       "4     01R           LIGHT RAIL VEHICLE"
      ]
     },
     "execution_count": 18,
     "metadata": {},
     "output_type": "execute_result"
    }
   ],
   "source": [
    "premise_data = pd.read_csv(premise_dataset)\n",
    "#premise_data.columns = map(str.lower, premise_data.columns)\n",
    "premise_data.columns = ['premise','premise_description']\n",
    "premise_data.head()"
   ]
  },
  {
   "cell_type": "code",
   "execution_count": 19,
   "metadata": {},
   "outputs": [
    {
     "data": {
      "text/plain": [
       "126"
      ]
     },
     "execution_count": 19,
     "metadata": {},
     "output_type": "execute_result"
    }
   ],
   "source": [
    "len(premise_data.premise.unique())"
   ]
  },
  {
   "cell_type": "code",
   "execution_count": 20,
   "metadata": {},
   "outputs": [
    {
     "data": {
      "text/plain": [
       "array(['01A', '01B', '01K', '01P', '01R', '01T', '02B', '02C', '02S',\n",
       "       '02V', '03B', '03S', '040', '04V', '05A', '05B', '05C', '05D',\n",
       "       '05E', '05F', '05G', '05H', '05L', '05M', '05N', '05O', '05P',\n",
       "       '05Q', '05R', '05S', '05T', '05U', '05V', '05W', '05X', '05Y',\n",
       "       '05Z', '060', '070', '080', '09D', '09H', '09P', '09R', '09V',\n",
       "       '100', '11C', '11F', '11G', '11L', '11P', '11R', '11S', '11V',\n",
       "       '120', '12V', '13A', '13B', '13C', '13H', '13R', '13S', '13T',\n",
       "       '140', '14V', '150', '15V', '160', '170', '18A', '18B', '18C',\n",
       "       '18D', '18G', '18H', '18L', '18M', '18N', '18O', '18P', '18R',\n",
       "       '18S', '18T', '18U', '18W', '190', '19V', '20A', '20C', '20D',\n",
       "       '20G', '20H', '20L', '20M', '20N', '20P', '20R', '20V', '20W',\n",
       "       '210', '21V', '22C', '22D', '22E', '22H', '22M', '22P', '22U',\n",
       "       '22V', '23S', '240', '24A', '24B', '24C', '24E', '24F', '24G',\n",
       "       '24J', '24M', '24P', '24S', '24T', '24V', '250', '25R', '25V'],\n",
       "      dtype=object)"
      ]
     },
     "execution_count": 20,
     "metadata": {},
     "output_type": "execute_result"
    }
   ],
   "source": [
    "premise_data.premise.unique()"
   ]
  },
  {
   "cell_type": "code",
   "execution_count": 21,
   "metadata": {},
   "outputs": [
    {
     "data": {
      "text/html": [
       "<div>\n",
       "<style scoped>\n",
       "    .dataframe tbody tr th:only-of-type {\n",
       "        vertical-align: middle;\n",
       "    }\n",
       "\n",
       "    .dataframe tbody tr th {\n",
       "        vertical-align: top;\n",
       "    }\n",
       "\n",
       "    .dataframe thead th {\n",
       "        text-align: right;\n",
       "    }\n",
       "</style>\n",
       "<table border=\"1\" class=\"dataframe\">\n",
       "  <thead>\n",
       "    <tr style=\"text-align: right;\">\n",
       "      <th></th>\n",
       "      <th>num_offenses</th>\n",
       "      <th>beat</th>\n",
       "      <th>block_range</th>\n",
       "      <th>date</th>\n",
       "      <th>hour</th>\n",
       "      <th>offense_type</th>\n",
       "      <th>premise</th>\n",
       "      <th>street_name</th>\n",
       "    </tr>\n",
       "  </thead>\n",
       "  <tbody>\n",
       "    <tr>\n",
       "      <th>0</th>\n",
       "      <td>1</td>\n",
       "      <td>19G10</td>\n",
       "      <td>9400-9499</td>\n",
       "      <td>2013-04-25</td>\n",
       "      <td>5</td>\n",
       "      <td>Murder</td>\n",
       "      <td>13R</td>\n",
       "      <td>WOODFAIR</td>\n",
       "    </tr>\n",
       "    <tr>\n",
       "      <th>1</th>\n",
       "      <td>1</td>\n",
       "      <td>17E40</td>\n",
       "      <td>6100-6199</td>\n",
       "      <td>2013-04-14</td>\n",
       "      <td>0</td>\n",
       "      <td>Murder</td>\n",
       "      <td>18A</td>\n",
       "      <td>BELLFORT</td>\n",
       "    </tr>\n",
       "    <tr>\n",
       "      <th>2</th>\n",
       "      <td>1</td>\n",
       "      <td>20G10</td>\n",
       "      <td>9900-9999</td>\n",
       "      <td>2013-04-02</td>\n",
       "      <td>16</td>\n",
       "      <td>Murder</td>\n",
       "      <td>20A</td>\n",
       "      <td>RICHMOND</td>\n",
       "    </tr>\n",
       "    <tr>\n",
       "      <th>3</th>\n",
       "      <td>1</td>\n",
       "      <td>2A20</td>\n",
       "      <td>1300-1399</td>\n",
       "      <td>2013-04-19</td>\n",
       "      <td>22</td>\n",
       "      <td>Murder</td>\n",
       "      <td>13R</td>\n",
       "      <td>29TH</td>\n",
       "    </tr>\n",
       "    <tr>\n",
       "      <th>4</th>\n",
       "      <td>1</td>\n",
       "      <td>1A10</td>\n",
       "      <td>500-599</td>\n",
       "      <td>2013-04-23</td>\n",
       "      <td>0</td>\n",
       "      <td>Murder</td>\n",
       "      <td>190</td>\n",
       "      <td>RUSK</td>\n",
       "    </tr>\n",
       "  </tbody>\n",
       "</table>\n",
       "</div>"
      ],
      "text/plain": [
       "   num_offenses   beat block_range       date  hour offense_type premise  \\\n",
       "0             1  19G10   9400-9499 2013-04-25     5       Murder     13R   \n",
       "1             1  17E40   6100-6199 2013-04-14     0       Murder     18A   \n",
       "2             1  20G10   9900-9999 2013-04-02    16       Murder     20A   \n",
       "3             1   2A20   1300-1399 2013-04-19    22       Murder     13R   \n",
       "4             1   1A10     500-599 2013-04-23     0       Murder     190   \n",
       "\n",
       "  street_name  \n",
       "0    WOODFAIR  \n",
       "1    BELLFORT  \n",
       "2    RICHMOND  \n",
       "3        29TH  \n",
       "4        RUSK  "
      ]
     },
     "execution_count": 21,
     "metadata": {},
     "output_type": "execute_result"
    }
   ],
   "source": [
    "df.head()"
   ]
  },
  {
   "cell_type": "code",
   "execution_count": 22,
   "metadata": {},
   "outputs": [],
   "source": [
    "df = pd.merge(df, premise_data, on='premise', how='outer')"
   ]
  },
  {
   "cell_type": "code",
   "execution_count": 23,
   "metadata": {},
   "outputs": [
    {
     "data": {
      "text/html": [
       "<div>\n",
       "<style scoped>\n",
       "    .dataframe tbody tr th:only-of-type {\n",
       "        vertical-align: middle;\n",
       "    }\n",
       "\n",
       "    .dataframe tbody tr th {\n",
       "        vertical-align: top;\n",
       "    }\n",
       "\n",
       "    .dataframe thead th {\n",
       "        text-align: right;\n",
       "    }\n",
       "</style>\n",
       "<table border=\"1\" class=\"dataframe\">\n",
       "  <thead>\n",
       "    <tr style=\"text-align: right;\">\n",
       "      <th></th>\n",
       "      <th>num_offenses</th>\n",
       "      <th>beat</th>\n",
       "      <th>block_range</th>\n",
       "      <th>date</th>\n",
       "      <th>hour</th>\n",
       "      <th>offense_type</th>\n",
       "      <th>premise</th>\n",
       "      <th>street_name</th>\n",
       "      <th>premise_description</th>\n",
       "    </tr>\n",
       "  </thead>\n",
       "  <tbody>\n",
       "    <tr>\n",
       "      <th>0</th>\n",
       "      <td>1.0</td>\n",
       "      <td>19G10</td>\n",
       "      <td>9400-9499</td>\n",
       "      <td>2013-04-25</td>\n",
       "      <td>5.0</td>\n",
       "      <td>Murder</td>\n",
       "      <td>13R</td>\n",
       "      <td>WOODFAIR</td>\n",
       "      <td>ROAD/STREET/SIDEWALK</td>\n",
       "    </tr>\n",
       "    <tr>\n",
       "      <th>1</th>\n",
       "      <td>1.0</td>\n",
       "      <td>2A20</td>\n",
       "      <td>1300-1399</td>\n",
       "      <td>2013-04-19</td>\n",
       "      <td>22.0</td>\n",
       "      <td>Murder</td>\n",
       "      <td>13R</td>\n",
       "      <td>29TH</td>\n",
       "      <td>ROAD/STREET/SIDEWALK</td>\n",
       "    </tr>\n",
       "    <tr>\n",
       "      <th>2</th>\n",
       "      <td>1.0</td>\n",
       "      <td>14D20</td>\n",
       "      <td>4000-4099</td>\n",
       "      <td>2013-04-18</td>\n",
       "      <td>21.0</td>\n",
       "      <td>Murder</td>\n",
       "      <td>13R</td>\n",
       "      <td>REDBUD</td>\n",
       "      <td>ROAD/STREET/SIDEWALK</td>\n",
       "    </tr>\n",
       "    <tr>\n",
       "      <th>3</th>\n",
       "      <td>1.0</td>\n",
       "      <td>2A60</td>\n",
       "      <td>1900-1999</td>\n",
       "      <td>2013-04-20</td>\n",
       "      <td>20.0</td>\n",
       "      <td>Rape</td>\n",
       "      <td>13R</td>\n",
       "      <td>ELLA</td>\n",
       "      <td>ROAD/STREET/SIDEWALK</td>\n",
       "    </tr>\n",
       "    <tr>\n",
       "      <th>4</th>\n",
       "      <td>1.0</td>\n",
       "      <td>2A50</td>\n",
       "      <td>4200-4299</td>\n",
       "      <td>2013-04-06</td>\n",
       "      <td>4.0</td>\n",
       "      <td>Rape</td>\n",
       "      <td>13R</td>\n",
       "      <td>KOEHLER</td>\n",
       "      <td>ROAD/STREET/SIDEWALK</td>\n",
       "    </tr>\n",
       "  </tbody>\n",
       "</table>\n",
       "</div>"
      ],
      "text/plain": [
       "   num_offenses   beat block_range       date  hour offense_type premise  \\\n",
       "0           1.0  19G10   9400-9499 2013-04-25   5.0       Murder     13R   \n",
       "1           1.0   2A20   1300-1399 2013-04-19  22.0       Murder     13R   \n",
       "2           1.0  14D20   4000-4099 2013-04-18  21.0       Murder     13R   \n",
       "3           1.0   2A60   1900-1999 2013-04-20  20.0         Rape     13R   \n",
       "4           1.0   2A50   4200-4299 2013-04-06   4.0         Rape     13R   \n",
       "\n",
       "  street_name   premise_description  \n",
       "0    WOODFAIR  ROAD/STREET/SIDEWALK  \n",
       "1        29TH  ROAD/STREET/SIDEWALK  \n",
       "2      REDBUD  ROAD/STREET/SIDEWALK  \n",
       "3        ELLA  ROAD/STREET/SIDEWALK  \n",
       "4     KOEHLER  ROAD/STREET/SIDEWALK  "
      ]
     },
     "execution_count": 23,
     "metadata": {},
     "output_type": "execute_result"
    }
   ],
   "source": [
    "df.head()"
   ]
  },
  {
   "cell_type": "code",
   "execution_count": null,
   "metadata": {},
   "outputs": [],
   "source": []
  },
  {
   "cell_type": "code",
   "execution_count": 24,
   "metadata": {},
   "outputs": [
    {
     "data": {
      "image/png": "[encoded data removed]",
      "text/plain": [
       "<Figure size 432x288 with 1 Axes>"
      ]
     },
     "metadata": {},
     "output_type": "display_data"
    }
   ],
   "source": [
    "sns.heatmap(df.isnull(),yticklabels=False,cbar=False,cmap='viridis')\n",
    "plt.title('Null dataset display')\n",
    "plt.show()"
   ]
  },
  {
   "cell_type": "code",
   "execution_count": null,
   "metadata": {},
   "outputs": [],
   "source": []
  },
  {
   "cell_type": "code",
   "execution_count": null,
   "metadata": {},
   "outputs": [],
   "source": []
  },
  {
   "cell_type": "markdown",
   "metadata": {},
   "source": [
    "## Drop premise column"
   ]
  },
  {
   "cell_type": "code",
   "execution_count": 25,
   "metadata": {},
   "outputs": [],
   "source": [
    "df.drop(['premise'],axis=1, inplace=True)"
   ]
  },
  {
   "cell_type": "markdown",
   "metadata": {},
   "source": [
    "## Rename premise_description to premise"
   ]
  },
  {
   "cell_type": "code",
   "execution_count": 26,
   "metadata": {},
   "outputs": [],
   "source": [
    "df.rename(columns={\n",
    "    'premise_description': 'premise',\n",
    "}, inplace=True)"
   ]
  },
  {
   "cell_type": "code",
   "execution_count": 27,
   "metadata": {},
   "outputs": [
    {
     "data": {
      "text/html": [
       "<div>\n",
       "<style scoped>\n",
       "    .dataframe tbody tr th:only-of-type {\n",
       "        vertical-align: middle;\n",
       "    }\n",
       "\n",
       "    .dataframe tbody tr th {\n",
       "        vertical-align: top;\n",
       "    }\n",
       "\n",
       "    .dataframe thead th {\n",
       "        text-align: right;\n",
       "    }\n",
       "</style>\n",
       "<table border=\"1\" class=\"dataframe\">\n",
       "  <thead>\n",
       "    <tr style=\"text-align: right;\">\n",
       "      <th></th>\n",
       "      <th>num_offenses</th>\n",
       "      <th>beat</th>\n",
       "      <th>block_range</th>\n",
       "      <th>date</th>\n",
       "      <th>hour</th>\n",
       "      <th>offense_type</th>\n",
       "      <th>street_name</th>\n",
       "      <th>premise</th>\n",
       "    </tr>\n",
       "  </thead>\n",
       "  <tbody>\n",
       "    <tr>\n",
       "      <th>0</th>\n",
       "      <td>1.0</td>\n",
       "      <td>19G10</td>\n",
       "      <td>9400-9499</td>\n",
       "      <td>2013-04-25</td>\n",
       "      <td>5.0</td>\n",
       "      <td>Murder</td>\n",
       "      <td>WOODFAIR</td>\n",
       "      <td>ROAD/STREET/SIDEWALK</td>\n",
       "    </tr>\n",
       "    <tr>\n",
       "      <th>1</th>\n",
       "      <td>1.0</td>\n",
       "      <td>2A20</td>\n",
       "      <td>1300-1399</td>\n",
       "      <td>2013-04-19</td>\n",
       "      <td>22.0</td>\n",
       "      <td>Murder</td>\n",
       "      <td>29TH</td>\n",
       "      <td>ROAD/STREET/SIDEWALK</td>\n",
       "    </tr>\n",
       "    <tr>\n",
       "      <th>2</th>\n",
       "      <td>1.0</td>\n",
       "      <td>14D20</td>\n",
       "      <td>4000-4099</td>\n",
       "      <td>2013-04-18</td>\n",
       "      <td>21.0</td>\n",
       "      <td>Murder</td>\n",
       "      <td>REDBUD</td>\n",
       "      <td>ROAD/STREET/SIDEWALK</td>\n",
       "    </tr>\n",
       "    <tr>\n",
       "      <th>3</th>\n",
       "      <td>1.0</td>\n",
       "      <td>2A60</td>\n",
       "      <td>1900-1999</td>\n",
       "      <td>2013-04-20</td>\n",
       "      <td>20.0</td>\n",
       "      <td>Rape</td>\n",
       "      <td>ELLA</td>\n",
       "      <td>ROAD/STREET/SIDEWALK</td>\n",
       "    </tr>\n",
       "    <tr>\n",
       "      <th>4</th>\n",
       "      <td>1.0</td>\n",
       "      <td>2A50</td>\n",
       "      <td>4200-4299</td>\n",
       "      <td>2013-04-06</td>\n",
       "      <td>4.0</td>\n",
       "      <td>Rape</td>\n",
       "      <td>KOEHLER</td>\n",
       "      <td>ROAD/STREET/SIDEWALK</td>\n",
       "    </tr>\n",
       "  </tbody>\n",
       "</table>\n",
       "</div>"
      ],
      "text/plain": [
       "   num_offenses   beat block_range       date  hour offense_type street_name  \\\n",
       "0           1.0  19G10   9400-9499 2013-04-25   5.0       Murder    WOODFAIR   \n",
       "1           1.0   2A20   1300-1399 2013-04-19  22.0       Murder        29TH   \n",
       "2           1.0  14D20   4000-4099 2013-04-18  21.0       Murder      REDBUD   \n",
       "3           1.0   2A60   1900-1999 2013-04-20  20.0         Rape        ELLA   \n",
       "4           1.0   2A50   4200-4299 2013-04-06   4.0         Rape     KOEHLER   \n",
       "\n",
       "                premise  \n",
       "0  ROAD/STREET/SIDEWALK  \n",
       "1  ROAD/STREET/SIDEWALK  \n",
       "2  ROAD/STREET/SIDEWALK  \n",
       "3  ROAD/STREET/SIDEWALK  \n",
       "4  ROAD/STREET/SIDEWALK  "
      ]
     },
     "execution_count": 27,
     "metadata": {},
     "output_type": "execute_result"
    }
   ],
   "source": [
    "df.head()"
   ]
  },
  {
   "cell_type": "code",
   "execution_count": null,
   "metadata": {},
   "outputs": [],
   "source": []
  },
  {
   "cell_type": "code",
   "execution_count": null,
   "metadata": {},
   "outputs": [],
   "source": []
  },
  {
   "cell_type": "markdown",
   "metadata": {},
   "source": [
    "# Null values"
   ]
  },
  {
   "cell_type": "code",
   "execution_count": 28,
   "metadata": {},
   "outputs": [
    {
     "data": {
      "text/plain": [
       "num_offenses       2\n",
       "beat               2\n",
       "block_range        2\n",
       "date               2\n",
       "hour               2\n",
       "offense_type       2\n",
       "street_name        2\n",
       "premise         1103\n",
       "dtype: int64"
      ]
     },
     "execution_count": 28,
     "metadata": {},
     "output_type": "execute_result"
    }
   ],
   "source": [
    "df.apply(lambda x: sum(x.isnull()))"
   ]
  },
  {
   "cell_type": "code",
   "execution_count": 29,
   "metadata": {},
   "outputs": [
    {
     "data": {
      "text/html": [
       "<div>\n",
       "<style scoped>\n",
       "    .dataframe tbody tr th:only-of-type {\n",
       "        vertical-align: middle;\n",
       "    }\n",
       "\n",
       "    .dataframe tbody tr th {\n",
       "        vertical-align: top;\n",
       "    }\n",
       "\n",
       "    .dataframe thead th {\n",
       "        text-align: right;\n",
       "    }\n",
       "</style>\n",
       "<table border=\"1\" class=\"dataframe\">\n",
       "  <thead>\n",
       "    <tr style=\"text-align: right;\">\n",
       "      <th></th>\n",
       "      <th>num_offenses</th>\n",
       "      <th>beat</th>\n",
       "      <th>block_range</th>\n",
       "      <th>date</th>\n",
       "      <th>hour</th>\n",
       "      <th>offense_type</th>\n",
       "      <th>street_name</th>\n",
       "      <th>premise</th>\n",
       "    </tr>\n",
       "  </thead>\n",
       "  <tbody>\n",
       "    <tr>\n",
       "      <th>130301</th>\n",
       "      <td>1.0</td>\n",
       "      <td>20G30</td>\n",
       "      <td>11800-11899</td>\n",
       "      <td>2013-05-11</td>\n",
       "      <td>14.0</td>\n",
       "      <td>Theft</td>\n",
       "      <td>WESTHEIMER</td>\n",
       "      <td>NaN</td>\n",
       "    </tr>\n",
       "    <tr>\n",
       "      <th>130302</th>\n",
       "      <td>1.0</td>\n",
       "      <td>5F30</td>\n",
       "      <td>10100-10199</td>\n",
       "      <td>2013-05-11</td>\n",
       "      <td>8.0</td>\n",
       "      <td>Theft</td>\n",
       "      <td>ALGIERS</td>\n",
       "      <td>NaN</td>\n",
       "    </tr>\n",
       "    <tr>\n",
       "      <th>130303</th>\n",
       "      <td>1.0</td>\n",
       "      <td>18F40</td>\n",
       "      <td>2700-2799</td>\n",
       "      <td>2013-10-05</td>\n",
       "      <td>19.0</td>\n",
       "      <td>Theft</td>\n",
       "      <td>DUNVALE</td>\n",
       "      <td>NaN</td>\n",
       "    </tr>\n",
       "    <tr>\n",
       "      <th>130304</th>\n",
       "      <td>1.0</td>\n",
       "      <td>13D10</td>\n",
       "      <td>6400-6499</td>\n",
       "      <td>2013-10-23</td>\n",
       "      <td>10.0</td>\n",
       "      <td>Theft</td>\n",
       "      <td>EPPES</td>\n",
       "      <td>NaN</td>\n",
       "    </tr>\n",
       "    <tr>\n",
       "      <th>130305</th>\n",
       "      <td>1.0</td>\n",
       "      <td>2A10</td>\n",
       "      <td>4600-4699</td>\n",
       "      <td>2013-10-17</td>\n",
       "      <td>14.0</td>\n",
       "      <td>Theft</td>\n",
       "      <td>IRVINGTON</td>\n",
       "      <td>NaN</td>\n",
       "    </tr>\n",
       "    <tr>\n",
       "      <th>130306</th>\n",
       "      <td>1.0</td>\n",
       "      <td>2A40</td>\n",
       "      <td>1700-1799</td>\n",
       "      <td>2013-09-26</td>\n",
       "      <td>11.0</td>\n",
       "      <td>Theft</td>\n",
       "      <td>WEBER</td>\n",
       "      <td>NaN</td>\n",
       "    </tr>\n",
       "    <tr>\n",
       "      <th>130307</th>\n",
       "      <td>1.0</td>\n",
       "      <td>5F10</td>\n",
       "      <td>2000-2099</td>\n",
       "      <td>2013-09-13</td>\n",
       "      <td>17.0</td>\n",
       "      <td>Theft</td>\n",
       "      <td>AFTON</td>\n",
       "      <td>NaN</td>\n",
       "    </tr>\n",
       "    <tr>\n",
       "      <th>130308</th>\n",
       "      <td>1.0</td>\n",
       "      <td>10H60</td>\n",
       "      <td>3000-3099</td>\n",
       "      <td>2013-09-11</td>\n",
       "      <td>2.0</td>\n",
       "      <td>Theft</td>\n",
       "      <td>ROSEDALE</td>\n",
       "      <td>NaN</td>\n",
       "    </tr>\n",
       "    <tr>\n",
       "      <th>130459</th>\n",
       "      <td>NaN</td>\n",
       "      <td>NaN</td>\n",
       "      <td>NaN</td>\n",
       "      <td>NaT</td>\n",
       "      <td>NaN</td>\n",
       "      <td>NaN</td>\n",
       "      <td>NaN</td>\n",
       "      <td>VACANT BANK</td>\n",
       "    </tr>\n",
       "    <tr>\n",
       "      <th>130460</th>\n",
       "      <td>NaN</td>\n",
       "      <td>NaN</td>\n",
       "      <td>NaN</td>\n",
       "      <td>NaT</td>\n",
       "      <td>NaN</td>\n",
       "      <td>NaN</td>\n",
       "      <td>NaN</td>\n",
       "      <td>VACANT JAIL/PRISON</td>\n",
       "    </tr>\n",
       "  </tbody>\n",
       "</table>\n",
       "</div>"
      ],
      "text/plain": [
       "        num_offenses   beat  block_range       date  hour offense_type  \\\n",
       "130301           1.0  20G30  11800-11899 2013-05-11  14.0        Theft   \n",
       "130302           1.0   5F30  10100-10199 2013-05-11   8.0        Theft   \n",
       "130303           1.0  18F40    2700-2799 2013-10-05  19.0        Theft   \n",
       "130304           1.0  13D10    6400-6499 2013-10-23  10.0        Theft   \n",
       "130305           1.0   2A10    4600-4699 2013-10-17  14.0        Theft   \n",
       "130306           1.0   2A40    1700-1799 2013-09-26  11.0        Theft   \n",
       "130307           1.0   5F10    2000-2099 2013-09-13  17.0        Theft   \n",
       "130308           1.0  10H60    3000-3099 2013-09-11   2.0        Theft   \n",
       "130459           NaN    NaN          NaN        NaT   NaN          NaN   \n",
       "130460           NaN    NaN          NaN        NaT   NaN          NaN   \n",
       "\n",
       "       street_name             premise  \n",
       "130301  WESTHEIMER                 NaN  \n",
       "130302     ALGIERS                 NaN  \n",
       "130303     DUNVALE                 NaN  \n",
       "130304       EPPES                 NaN  \n",
       "130305   IRVINGTON                 NaN  \n",
       "130306       WEBER                 NaN  \n",
       "130307       AFTON                 NaN  \n",
       "130308    ROSEDALE                 NaN  \n",
       "130459         NaN         VACANT BANK  \n",
       "130460         NaN  VACANT JAIL/PRISON  "
      ]
     },
     "execution_count": 29,
     "metadata": {},
     "output_type": "execute_result"
    }
   ],
   "source": [
    "df[df.isnull().any(axis=1)][-10:]  # display last 10"
   ]
  },
  {
   "cell_type": "markdown",
   "metadata": {},
   "source": [
    "### Drop rows with more than 3 null values"
   ]
  },
  {
   "cell_type": "code",
   "execution_count": 30,
   "metadata": {},
   "outputs": [],
   "source": [
    "df.dropna(thresh=3,inplace=True)"
   ]
  },
  {
   "cell_type": "code",
   "execution_count": 31,
   "metadata": {},
   "outputs": [
    {
     "data": {
      "text/html": [
       "<div>\n",
       "<style scoped>\n",
       "    .dataframe tbody tr th:only-of-type {\n",
       "        vertical-align: middle;\n",
       "    }\n",
       "\n",
       "    .dataframe tbody tr th {\n",
       "        vertical-align: top;\n",
       "    }\n",
       "\n",
       "    .dataframe thead th {\n",
       "        text-align: right;\n",
       "    }\n",
       "</style>\n",
       "<table border=\"1\" class=\"dataframe\">\n",
       "  <thead>\n",
       "    <tr style=\"text-align: right;\">\n",
       "      <th></th>\n",
       "      <th>num_offenses</th>\n",
       "      <th>beat</th>\n",
       "      <th>block_range</th>\n",
       "      <th>date</th>\n",
       "      <th>hour</th>\n",
       "      <th>offense_type</th>\n",
       "      <th>street_name</th>\n",
       "      <th>premise</th>\n",
       "    </tr>\n",
       "  </thead>\n",
       "  <tbody>\n",
       "    <tr>\n",
       "      <th>130299</th>\n",
       "      <td>1.0</td>\n",
       "      <td>5F10</td>\n",
       "      <td>7600-7699</td>\n",
       "      <td>2013-05-23</td>\n",
       "      <td>20.0</td>\n",
       "      <td>Theft</td>\n",
       "      <td>KATY</td>\n",
       "      <td>NaN</td>\n",
       "    </tr>\n",
       "    <tr>\n",
       "      <th>130300</th>\n",
       "      <td>1.0</td>\n",
       "      <td>13D40</td>\n",
       "      <td>7500-7599</td>\n",
       "      <td>2013-05-30</td>\n",
       "      <td>10.0</td>\n",
       "      <td>Theft</td>\n",
       "      <td>OREM</td>\n",
       "      <td>NaN</td>\n",
       "    </tr>\n",
       "    <tr>\n",
       "      <th>130301</th>\n",
       "      <td>1.0</td>\n",
       "      <td>20G30</td>\n",
       "      <td>11800-11899</td>\n",
       "      <td>2013-05-11</td>\n",
       "      <td>14.0</td>\n",
       "      <td>Theft</td>\n",
       "      <td>WESTHEIMER</td>\n",
       "      <td>NaN</td>\n",
       "    </tr>\n",
       "    <tr>\n",
       "      <th>130302</th>\n",
       "      <td>1.0</td>\n",
       "      <td>5F30</td>\n",
       "      <td>10100-10199</td>\n",
       "      <td>2013-05-11</td>\n",
       "      <td>8.0</td>\n",
       "      <td>Theft</td>\n",
       "      <td>ALGIERS</td>\n",
       "      <td>NaN</td>\n",
       "    </tr>\n",
       "    <tr>\n",
       "      <th>130303</th>\n",
       "      <td>1.0</td>\n",
       "      <td>18F40</td>\n",
       "      <td>2700-2799</td>\n",
       "      <td>2013-10-05</td>\n",
       "      <td>19.0</td>\n",
       "      <td>Theft</td>\n",
       "      <td>DUNVALE</td>\n",
       "      <td>NaN</td>\n",
       "    </tr>\n",
       "    <tr>\n",
       "      <th>130304</th>\n",
       "      <td>1.0</td>\n",
       "      <td>13D10</td>\n",
       "      <td>6400-6499</td>\n",
       "      <td>2013-10-23</td>\n",
       "      <td>10.0</td>\n",
       "      <td>Theft</td>\n",
       "      <td>EPPES</td>\n",
       "      <td>NaN</td>\n",
       "    </tr>\n",
       "    <tr>\n",
       "      <th>130305</th>\n",
       "      <td>1.0</td>\n",
       "      <td>2A10</td>\n",
       "      <td>4600-4699</td>\n",
       "      <td>2013-10-17</td>\n",
       "      <td>14.0</td>\n",
       "      <td>Theft</td>\n",
       "      <td>IRVINGTON</td>\n",
       "      <td>NaN</td>\n",
       "    </tr>\n",
       "    <tr>\n",
       "      <th>130306</th>\n",
       "      <td>1.0</td>\n",
       "      <td>2A40</td>\n",
       "      <td>1700-1799</td>\n",
       "      <td>2013-09-26</td>\n",
       "      <td>11.0</td>\n",
       "      <td>Theft</td>\n",
       "      <td>WEBER</td>\n",
       "      <td>NaN</td>\n",
       "    </tr>\n",
       "    <tr>\n",
       "      <th>130307</th>\n",
       "      <td>1.0</td>\n",
       "      <td>5F10</td>\n",
       "      <td>2000-2099</td>\n",
       "      <td>2013-09-13</td>\n",
       "      <td>17.0</td>\n",
       "      <td>Theft</td>\n",
       "      <td>AFTON</td>\n",
       "      <td>NaN</td>\n",
       "    </tr>\n",
       "    <tr>\n",
       "      <th>130308</th>\n",
       "      <td>1.0</td>\n",
       "      <td>10H60</td>\n",
       "      <td>3000-3099</td>\n",
       "      <td>2013-09-11</td>\n",
       "      <td>2.0</td>\n",
       "      <td>Theft</td>\n",
       "      <td>ROSEDALE</td>\n",
       "      <td>NaN</td>\n",
       "    </tr>\n",
       "  </tbody>\n",
       "</table>\n",
       "</div>"
      ],
      "text/plain": [
       "        num_offenses   beat  block_range       date  hour offense_type  \\\n",
       "130299           1.0   5F10    7600-7699 2013-05-23  20.0        Theft   \n",
       "130300           1.0  13D40    7500-7599 2013-05-30  10.0        Theft   \n",
       "130301           1.0  20G30  11800-11899 2013-05-11  14.0        Theft   \n",
       "130302           1.0   5F30  10100-10199 2013-05-11   8.0        Theft   \n",
       "130303           1.0  18F40    2700-2799 2013-10-05  19.0        Theft   \n",
       "130304           1.0  13D10    6400-6499 2013-10-23  10.0        Theft   \n",
       "130305           1.0   2A10    4600-4699 2013-10-17  14.0        Theft   \n",
       "130306           1.0   2A40    1700-1799 2013-09-26  11.0        Theft   \n",
       "130307           1.0   5F10    2000-2099 2013-09-13  17.0        Theft   \n",
       "130308           1.0  10H60    3000-3099 2013-09-11   2.0        Theft   \n",
       "\n",
       "       street_name premise  \n",
       "130299        KATY     NaN  \n",
       "130300        OREM     NaN  \n",
       "130301  WESTHEIMER     NaN  \n",
       "130302     ALGIERS     NaN  \n",
       "130303     DUNVALE     NaN  \n",
       "130304       EPPES     NaN  \n",
       "130305   IRVINGTON     NaN  \n",
       "130306       WEBER     NaN  \n",
       "130307       AFTON     NaN  \n",
       "130308    ROSEDALE     NaN  "
      ]
     },
     "execution_count": 31,
     "metadata": {},
     "output_type": "execute_result"
    }
   ],
   "source": [
    "df[df.isnull().any(axis=1)][-10:]  # display last 10"
   ]
  },
  {
   "cell_type": "markdown",
   "metadata": {},
   "source": [
    "### Replace null values on premise_code to 'none'"
   ]
  },
  {
   "cell_type": "code",
   "execution_count": 32,
   "metadata": {},
   "outputs": [],
   "source": [
    "df.premise.fillna('UNK',inplace=True)"
   ]
  },
  {
   "cell_type": "code",
   "execution_count": 33,
   "metadata": {},
   "outputs": [
    {
     "data": {
      "text/plain": [
       "num_offenses    0\n",
       "beat            0\n",
       "block_range     0\n",
       "date            0\n",
       "hour            0\n",
       "offense_type    0\n",
       "street_name     0\n",
       "premise         0\n",
       "dtype: int64"
      ]
     },
     "execution_count": 33,
     "metadata": {},
     "output_type": "execute_result"
    }
   ],
   "source": [
    "df.apply(lambda x: sum(x.isnull()))"
   ]
  },
  {
   "cell_type": "markdown",
   "metadata": {},
   "source": [
    "# Inspect each column"
   ]
  },
  {
   "cell_type": "markdown",
   "metadata": {},
   "source": [
    "## `num_offenses`"
   ]
  },
  {
   "cell_type": "code",
   "execution_count": 34,
   "metadata": {},
   "outputs": [
    {
     "data": {
      "text/plain": [
       "1.0     129259\n",
       "2.0        994\n",
       "3.0        184\n",
       "4.0         13\n",
       "6.0          3\n",
       "7.0          2\n",
       "5.0          2\n",
       "11.0         1\n",
       "8.0          1\n",
       "Name: num_offenses, dtype: int64"
      ]
     },
     "execution_count": 34,
     "metadata": {},
     "output_type": "execute_result"
    }
   ],
   "source": [
    "df.num_offenses.value_counts(dropna=False)"
   ]
  },
  {
   "cell_type": "code",
   "execution_count": 35,
   "metadata": {},
   "outputs": [
    {
     "data": {
      "text/plain": [
       "dtype('float64')"
      ]
     },
     "execution_count": 35,
     "metadata": {},
     "output_type": "execute_result"
    }
   ],
   "source": [
    "df.num_offenses.dtype"
   ]
  },
  {
   "cell_type": "markdown",
   "metadata": {},
   "source": [
    "### Change the type from float to integer"
   ]
  },
  {
   "cell_type": "code",
   "execution_count": 36,
   "metadata": {},
   "outputs": [],
   "source": [
    "df.num_offenses = df.num_offenses.astype('int')"
   ]
  },
  {
   "cell_type": "code",
   "execution_count": 37,
   "metadata": {},
   "outputs": [
    {
     "data": {
      "text/plain": [
       "dtype('int64')"
      ]
     },
     "execution_count": 37,
     "metadata": {},
     "output_type": "execute_result"
    }
   ],
   "source": [
    "df.num_offenses.dtype"
   ]
  },
  {
   "cell_type": "code",
   "execution_count": 38,
   "metadata": {},
   "outputs": [
    {
     "data": {
      "text/plain": [
       "1     129259\n",
       "2        994\n",
       "3        184\n",
       "4         13\n",
       "6          3\n",
       "7          2\n",
       "5          2\n",
       "11         1\n",
       "8          1\n",
       "Name: num_offenses, dtype: int64"
      ]
     },
     "execution_count": 38,
     "metadata": {},
     "output_type": "execute_result"
    }
   ],
   "source": [
    "df.num_offenses.value_counts(dropna=False)"
   ]
  },
  {
   "cell_type": "markdown",
   "metadata": {},
   "source": [
    "## `beat`"
   ]
  },
  {
   "cell_type": "code",
   "execution_count": 39,
   "metadata": {},
   "outputs": [
    {
     "data": {
      "text/plain": [
       "120"
      ]
     },
     "execution_count": 39,
     "metadata": {},
     "output_type": "execute_result"
    }
   ],
   "source": [
    "len(df.beat.value_counts(dropna='False'))"
   ]
  },
  {
   "cell_type": "code",
   "execution_count": 40,
   "metadata": {},
   "outputs": [
    {
     "data": {
      "text/plain": [
       "array(['19G10', '2A20', '14D20', '2A60', '2A50', '19G20', '6B40', '8C10',\n",
       "       '17E30', '16E10', '9C40', '17E20', '7C10', '1A10', '8C40', '14D10',\n",
       "       '10H40', '10H50', '13D20', '3B10', '10H60', '3B50', '1A20',\n",
       "       '20G10', '6B60', '17E10', '15E20', '20G30', '16E20', '2A10',\n",
       "       '18F40', '19G30', '7C30', '20G70', '16E30', '18F50', '17E40',\n",
       "       '20G40', '6B10', '11H30', '20G20', '14D30', '7C20', '3B40',\n",
       "       '15E30', '18F30', '10H20', '6B20', '6B30', '11H10', '6B50', '5F20',\n",
       "       '1A30', '8C20', '2A30', '12D10', '19G50', '19G40', '13D10',\n",
       "       '10H10', '5F30', '12D70', '20G60', '14D40', '24C30', '5F40',\n",
       "       '1A40', '16E40', '3B30', '11H20', '8C60', '10H30', '9C30', '9C20',\n",
       "       '13D40', '8C30', '7C40', '8C50', '10H80', '12D50', '24C10',\n",
       "       '10H70', '9C10', '18F60', '4F10', '4F20', '11H50', '12D30', '1A50',\n",
       "       '20G80', '18F10', '7C50', '18F20', '12D20', '20G50', '2A40',\n",
       "       '24C40', 'UNK', '5F10', '21I50', '15E40', '12D60', '11H40',\n",
       "       '15E10', '12D40', '14D50', '4F30', '24C50', '24C60', '24C20',\n",
       "       '13D30', '23J50', '23J40', '21I60', '21I30', '21I10', '23J30',\n",
       "       '21I20', '21I70', '21I40'], dtype=object)"
      ]
     },
     "execution_count": 40,
     "metadata": {},
     "output_type": "execute_result"
    }
   ],
   "source": [
    "df.beat.unique()"
   ]
  },
  {
   "cell_type": "code",
   "execution_count": 41,
   "metadata": {},
   "outputs": [],
   "source": [
    "df.beat = df.beat.str.strip()"
   ]
  },
  {
   "cell_type": "code",
   "execution_count": 42,
   "metadata": {},
   "outputs": [
    {
     "data": {
      "text/plain": [
       "120"
      ]
     },
     "execution_count": 42,
     "metadata": {},
     "output_type": "execute_result"
    }
   ],
   "source": [
    "len(df.beat.unique())"
   ]
  },
  {
   "cell_type": "markdown",
   "metadata": {},
   "source": [
    "## `block_range`"
   ]
  },
  {
   "cell_type": "code",
   "execution_count": 43,
   "metadata": {},
   "outputs": [
    {
     "data": {
      "text/plain": [
       "249"
      ]
     },
     "execution_count": 43,
     "metadata": {},
     "output_type": "execute_result"
    }
   ],
   "source": [
    "len(df.block_range.unique())"
   ]
  },
  {
   "cell_type": "code",
   "execution_count": 44,
   "metadata": {},
   "outputs": [],
   "source": [
    "df.block_range = df.block_range.str.strip()"
   ]
  },
  {
   "cell_type": "code",
   "execution_count": 45,
   "metadata": {},
   "outputs": [
    {
     "data": {
      "text/plain": [
       "249"
      ]
     },
     "execution_count": 45,
     "metadata": {},
     "output_type": "execute_result"
    }
   ],
   "source": [
    "len(df.block_range.unique())"
   ]
  },
  {
   "cell_type": "markdown",
   "metadata": {},
   "source": [
    "## `date`"
   ]
  },
  {
   "cell_type": "code",
   "execution_count": 46,
   "metadata": {},
   "outputs": [
    {
     "data": {
      "text/plain": [
       "dtype('<M8[ns]')"
      ]
     },
     "execution_count": 46,
     "metadata": {},
     "output_type": "execute_result"
    }
   ],
   "source": [
    "df['date'].dtype"
   ]
  },
  {
   "cell_type": "markdown",
   "metadata": {},
   "source": [
    "## `hour`"
   ]
  },
  {
   "cell_type": "code",
   "execution_count": 47,
   "metadata": {},
   "outputs": [
    {
     "data": {
      "text/plain": [
       "18.0    8106\n",
       "22.0    7601\n",
       "19.0    7559\n",
       "12.0    7468\n",
       "20.0    7426\n",
       "17.0    7369\n",
       "21.0    7003\n",
       "15.0    6641\n",
       "0.0     6601\n",
       "16.0    6546\n",
       "14.0    6317\n",
       "23.0    5800\n",
       "13.0    5658\n",
       "10.0    5431\n",
       "11.0    5335\n",
       "8.0     5152\n",
       "9.0     4766\n",
       "7.0     4105\n",
       "1.0     3488\n",
       "2.0     3128\n",
       "6.0     2779\n",
       "3.0     2435\n",
       "5.0     1905\n",
       "4.0     1840\n",
       "Name: hour, dtype: int64"
      ]
     },
     "execution_count": 47,
     "metadata": {},
     "output_type": "execute_result"
    }
   ],
   "source": [
    "df.hour.value_counts(dropna=False)"
   ]
  },
  {
   "cell_type": "code",
   "execution_count": 48,
   "metadata": {},
   "outputs": [
    {
     "data": {
      "text/plain": [
       "dtype('float64')"
      ]
     },
     "execution_count": 48,
     "metadata": {},
     "output_type": "execute_result"
    }
   ],
   "source": [
    "df.hour.dtype"
   ]
  },
  {
   "cell_type": "markdown",
   "metadata": {},
   "source": [
    "## Change dtype "
   ]
  },
  {
   "cell_type": "code",
   "execution_count": 49,
   "metadata": {},
   "outputs": [],
   "source": [
    "df.hour = df.hour.astype('int')"
   ]
  },
  {
   "cell_type": "code",
   "execution_count": 50,
   "metadata": {},
   "outputs": [
    {
     "data": {
      "text/plain": [
       "dtype('int64')"
      ]
     },
     "execution_count": 50,
     "metadata": {},
     "output_type": "execute_result"
    }
   ],
   "source": [
    "df.hour.dtype"
   ]
  },
  {
   "cell_type": "code",
   "execution_count": 51,
   "metadata": {},
   "outputs": [
    {
     "data": {
      "text/plain": [
       "18    8106\n",
       "22    7601\n",
       "19    7559\n",
       "12    7468\n",
       "20    7426\n",
       "17    7369\n",
       "21    7003\n",
       "15    6641\n",
       "0     6601\n",
       "16    6546\n",
       "14    6317\n",
       "23    5800\n",
       "13    5658\n",
       "10    5431\n",
       "11    5335\n",
       "8     5152\n",
       "9     4766\n",
       "7     4105\n",
       "1     3488\n",
       "2     3128\n",
       "6     2779\n",
       "3     2435\n",
       "5     1905\n",
       "4     1840\n",
       "Name: hour, dtype: int64"
      ]
     },
     "execution_count": 51,
     "metadata": {},
     "output_type": "execute_result"
    }
   ],
   "source": [
    "df.hour.value_counts(dropna=False)"
   ]
  },
  {
   "cell_type": "markdown",
   "metadata": {},
   "source": [
    "## `offense_type`"
   ]
  },
  {
   "cell_type": "code",
   "execution_count": 52,
   "metadata": {},
   "outputs": [
    {
     "data": {
      "text/plain": [
       "Theft                 73591\n",
       "Burglary              23733\n",
       "Auto Theft            13147\n",
       "Robbery                9891\n",
       "Aggravated Assault     9274\n",
       "Rape                    614\n",
       "Murder                  209\n",
       "Name: offense_type, dtype: int64"
      ]
     },
     "execution_count": 52,
     "metadata": {},
     "output_type": "execute_result"
    }
   ],
   "source": [
    "df.offense_type.value_counts(dropna=False)"
   ]
  },
  {
   "cell_type": "code",
   "execution_count": 53,
   "metadata": {},
   "outputs": [
    {
     "data": {
      "text/plain": [
       "array(['Murder', 'Rape', 'Robbery', 'Aggravated Assault', 'Burglary',\n",
       "       'Auto Theft', 'Theft'], dtype=object)"
      ]
     },
     "execution_count": 53,
     "metadata": {},
     "output_type": "execute_result"
    }
   ],
   "source": [
    "df.offense_type.unique()"
   ]
  },
  {
   "cell_type": "markdown",
   "metadata": {},
   "source": [
    "## `street_name`"
   ]
  },
  {
   "cell_type": "code",
   "execution_count": 54,
   "metadata": {},
   "outputs": [
    {
     "data": {
      "text/plain": [
       "7540"
      ]
     },
     "execution_count": 54,
     "metadata": {},
     "output_type": "execute_result"
    }
   ],
   "source": [
    "len(df.street_name.value_counts(dropna=False))"
   ]
  },
  {
   "cell_type": "code",
   "execution_count": 55,
   "metadata": {},
   "outputs": [
    {
     "data": {
      "text/plain": [
       "WESTHEIMER    3824\n",
       "GULF          2035\n",
       "GESSNER       1925\n",
       "RICHMOND      1726\n",
       "NORTH         1679\n",
       "KATY          1337\n",
       "SOUTHWEST     1337\n",
       "MAIN          1337\n",
       "NORTHWEST     1302\n",
       "BELLAIRE      1300\n",
       "Name: street_name, dtype: int64"
      ]
     },
     "execution_count": 55,
     "metadata": {},
     "output_type": "execute_result"
    }
   ],
   "source": [
    "df.street_name.value_counts(dropna=False)[:10]"
   ]
  },
  {
   "cell_type": "code",
   "execution_count": 56,
   "metadata": {},
   "outputs": [
    {
     "data": {
      "text/plain": [
       "array(['WOODFAIR', '29TH', 'REDBUD', ..., 'GREENS CROSSING', 'ALLENSBY',\n",
       "       'WINGATE'], dtype=object)"
      ]
     },
     "execution_count": 56,
     "metadata": {},
     "output_type": "execute_result"
    }
   ],
   "source": [
    "df.street_name.unique()"
   ]
  },
  {
   "cell_type": "code",
   "execution_count": 57,
   "metadata": {},
   "outputs": [],
   "source": [
    "df.street_name = df.street_name.str.strip()  # no need"
   ]
  },
  {
   "cell_type": "code",
   "execution_count": 58,
   "metadata": {},
   "outputs": [
    {
     "data": {
      "text/plain": [
       "7540"
      ]
     },
     "execution_count": 58,
     "metadata": {},
     "output_type": "execute_result"
    }
   ],
   "source": [
    "len(df.street_name.value_counts(dropna=False))"
   ]
  },
  {
   "cell_type": "markdown",
   "metadata": {},
   "source": [
    "## Organiaze columns"
   ]
  },
  {
   "cell_type": "code",
   "execution_count": 59,
   "metadata": {},
   "outputs": [
    {
     "data": {
      "text/html": [
       "<div>\n",
       "<style scoped>\n",
       "    .dataframe tbody tr th:only-of-type {\n",
       "        vertical-align: middle;\n",
       "    }\n",
       "\n",
       "    .dataframe tbody tr th {\n",
       "        vertical-align: top;\n",
       "    }\n",
       "\n",
       "    .dataframe thead th {\n",
       "        text-align: right;\n",
       "    }\n",
       "</style>\n",
       "<table border=\"1\" class=\"dataframe\">\n",
       "  <thead>\n",
       "    <tr style=\"text-align: right;\">\n",
       "      <th></th>\n",
       "      <th>num_offenses</th>\n",
       "      <th>beat</th>\n",
       "      <th>block_range</th>\n",
       "      <th>date</th>\n",
       "      <th>hour</th>\n",
       "      <th>offense_type</th>\n",
       "      <th>street_name</th>\n",
       "      <th>premise</th>\n",
       "    </tr>\n",
       "  </thead>\n",
       "  <tbody>\n",
       "    <tr>\n",
       "      <th>0</th>\n",
       "      <td>1</td>\n",
       "      <td>19G10</td>\n",
       "      <td>9400-9499</td>\n",
       "      <td>2013-04-25</td>\n",
       "      <td>5</td>\n",
       "      <td>Murder</td>\n",
       "      <td>WOODFAIR</td>\n",
       "      <td>ROAD/STREET/SIDEWALK</td>\n",
       "    </tr>\n",
       "    <tr>\n",
       "      <th>1</th>\n",
       "      <td>1</td>\n",
       "      <td>2A20</td>\n",
       "      <td>1300-1399</td>\n",
       "      <td>2013-04-19</td>\n",
       "      <td>22</td>\n",
       "      <td>Murder</td>\n",
       "      <td>29TH</td>\n",
       "      <td>ROAD/STREET/SIDEWALK</td>\n",
       "    </tr>\n",
       "    <tr>\n",
       "      <th>2</th>\n",
       "      <td>1</td>\n",
       "      <td>14D20</td>\n",
       "      <td>4000-4099</td>\n",
       "      <td>2013-04-18</td>\n",
       "      <td>21</td>\n",
       "      <td>Murder</td>\n",
       "      <td>REDBUD</td>\n",
       "      <td>ROAD/STREET/SIDEWALK</td>\n",
       "    </tr>\n",
       "    <tr>\n",
       "      <th>3</th>\n",
       "      <td>1</td>\n",
       "      <td>2A60</td>\n",
       "      <td>1900-1999</td>\n",
       "      <td>2013-04-20</td>\n",
       "      <td>20</td>\n",
       "      <td>Rape</td>\n",
       "      <td>ELLA</td>\n",
       "      <td>ROAD/STREET/SIDEWALK</td>\n",
       "    </tr>\n",
       "    <tr>\n",
       "      <th>4</th>\n",
       "      <td>1</td>\n",
       "      <td>2A50</td>\n",
       "      <td>4200-4299</td>\n",
       "      <td>2013-04-06</td>\n",
       "      <td>4</td>\n",
       "      <td>Rape</td>\n",
       "      <td>KOEHLER</td>\n",
       "      <td>ROAD/STREET/SIDEWALK</td>\n",
       "    </tr>\n",
       "  </tbody>\n",
       "</table>\n",
       "</div>"
      ],
      "text/plain": [
       "   num_offenses   beat block_range       date  hour offense_type street_name  \\\n",
       "0             1  19G10   9400-9499 2013-04-25     5       Murder    WOODFAIR   \n",
       "1             1   2A20   1300-1399 2013-04-19    22       Murder        29TH   \n",
       "2             1  14D20   4000-4099 2013-04-18    21       Murder      REDBUD   \n",
       "3             1   2A60   1900-1999 2013-04-20    20         Rape        ELLA   \n",
       "4             1   2A50   4200-4299 2013-04-06     4         Rape     KOEHLER   \n",
       "\n",
       "                premise  \n",
       "0  ROAD/STREET/SIDEWALK  \n",
       "1  ROAD/STREET/SIDEWALK  \n",
       "2  ROAD/STREET/SIDEWALK  \n",
       "3  ROAD/STREET/SIDEWALK  \n",
       "4  ROAD/STREET/SIDEWALK  "
      ]
     },
     "execution_count": 59,
     "metadata": {},
     "output_type": "execute_result"
    }
   ],
   "source": [
    "df.head()"
   ]
  },
  {
   "cell_type": "code",
   "execution_count": 60,
   "metadata": {},
   "outputs": [],
   "source": [
    "# order that I want\n",
    "cols = ['date','hour','beat','offense_type','block_range','street_name','premise','num_offenses']"
   ]
  },
  {
   "cell_type": "code",
   "execution_count": 61,
   "metadata": {},
   "outputs": [],
   "source": [
    "df = df.reindex(columns=cols)"
   ]
  },
  {
   "cell_type": "code",
   "execution_count": 62,
   "metadata": {},
   "outputs": [
    {
     "name": "stdout",
     "output_type": "stream",
     "text": [
      "<class 'pandas.core.frame.DataFrame'>\n",
      "Int64Index: 130459 entries, 0 to 130458\n",
      "Data columns (total 8 columns):\n",
      "date            130459 non-null datetime64[ns]\n",
      "hour            130459 non-null int64\n",
      "beat            130459 non-null object\n",
      "offense_type    130459 non-null object\n",
      "block_range     130459 non-null object\n",
      "street_name     130459 non-null object\n",
      "premise         130459 non-null object\n",
      "num_offenses    130459 non-null int64\n",
      "dtypes: datetime64[ns](1), int64(2), object(5)\n",
      "memory usage: 9.0+ MB\n"
     ]
    }
   ],
   "source": [
    "df.info()"
   ]
  },
  {
   "cell_type": "code",
   "execution_count": 63,
   "metadata": {},
   "outputs": [
    {
     "data": {
      "text/html": [
       "<div>\n",
       "<style scoped>\n",
       "    .dataframe tbody tr th:only-of-type {\n",
       "        vertical-align: middle;\n",
       "    }\n",
       "\n",
       "    .dataframe tbody tr th {\n",
       "        vertical-align: top;\n",
       "    }\n",
       "\n",
       "    .dataframe thead th {\n",
       "        text-align: right;\n",
       "    }\n",
       "</style>\n",
       "<table border=\"1\" class=\"dataframe\">\n",
       "  <thead>\n",
       "    <tr style=\"text-align: right;\">\n",
       "      <th></th>\n",
       "      <th>date</th>\n",
       "      <th>hour</th>\n",
       "      <th>beat</th>\n",
       "      <th>offense_type</th>\n",
       "      <th>block_range</th>\n",
       "      <th>street_name</th>\n",
       "      <th>premise</th>\n",
       "      <th>num_offenses</th>\n",
       "    </tr>\n",
       "  </thead>\n",
       "  <tbody>\n",
       "    <tr>\n",
       "      <th>0</th>\n",
       "      <td>2013-04-25</td>\n",
       "      <td>5</td>\n",
       "      <td>19G10</td>\n",
       "      <td>Murder</td>\n",
       "      <td>9400-9499</td>\n",
       "      <td>WOODFAIR</td>\n",
       "      <td>ROAD/STREET/SIDEWALK</td>\n",
       "      <td>1</td>\n",
       "    </tr>\n",
       "    <tr>\n",
       "      <th>1</th>\n",
       "      <td>2013-04-19</td>\n",
       "      <td>22</td>\n",
       "      <td>2A20</td>\n",
       "      <td>Murder</td>\n",
       "      <td>1300-1399</td>\n",
       "      <td>29TH</td>\n",
       "      <td>ROAD/STREET/SIDEWALK</td>\n",
       "      <td>1</td>\n",
       "    </tr>\n",
       "    <tr>\n",
       "      <th>2</th>\n",
       "      <td>2013-04-18</td>\n",
       "      <td>21</td>\n",
       "      <td>14D20</td>\n",
       "      <td>Murder</td>\n",
       "      <td>4000-4099</td>\n",
       "      <td>REDBUD</td>\n",
       "      <td>ROAD/STREET/SIDEWALK</td>\n",
       "      <td>1</td>\n",
       "    </tr>\n",
       "    <tr>\n",
       "      <th>3</th>\n",
       "      <td>2013-04-20</td>\n",
       "      <td>20</td>\n",
       "      <td>2A60</td>\n",
       "      <td>Rape</td>\n",
       "      <td>1900-1999</td>\n",
       "      <td>ELLA</td>\n",
       "      <td>ROAD/STREET/SIDEWALK</td>\n",
       "      <td>1</td>\n",
       "    </tr>\n",
       "    <tr>\n",
       "      <th>4</th>\n",
       "      <td>2013-04-06</td>\n",
       "      <td>4</td>\n",
       "      <td>2A50</td>\n",
       "      <td>Rape</td>\n",
       "      <td>4200-4299</td>\n",
       "      <td>KOEHLER</td>\n",
       "      <td>ROAD/STREET/SIDEWALK</td>\n",
       "      <td>1</td>\n",
       "    </tr>\n",
       "  </tbody>\n",
       "</table>\n",
       "</div>"
      ],
      "text/plain": [
       "        date  hour   beat offense_type block_range street_name  \\\n",
       "0 2013-04-25     5  19G10       Murder   9400-9499    WOODFAIR   \n",
       "1 2013-04-19    22   2A20       Murder   1300-1399        29TH   \n",
       "2 2013-04-18    21  14D20       Murder   4000-4099      REDBUD   \n",
       "3 2013-04-20    20   2A60         Rape   1900-1999        ELLA   \n",
       "4 2013-04-06     4   2A50         Rape   4200-4299     KOEHLER   \n",
       "\n",
       "                premise  num_offenses  \n",
       "0  ROAD/STREET/SIDEWALK             1  \n",
       "1  ROAD/STREET/SIDEWALK             1  \n",
       "2  ROAD/STREET/SIDEWALK             1  \n",
       "3  ROAD/STREET/SIDEWALK             1  \n",
       "4  ROAD/STREET/SIDEWALK             1  "
      ]
     },
     "execution_count": 63,
     "metadata": {},
     "output_type": "execute_result"
    }
   ],
   "source": [
    "df.head()"
   ]
  },
  {
   "cell_type": "markdown",
   "metadata": {},
   "source": [
    "##  display null values"
   ]
  },
  {
   "cell_type": "code",
   "execution_count": null,
   "metadata": {},
   "outputs": [],
   "source": []
  },
  {
   "cell_type": "code",
   "execution_count": null,
   "metadata": {},
   "outputs": [],
   "source": []
  },
  {
   "cell_type": "code",
   "execution_count": 64,
   "metadata": {},
   "outputs": [
    {
     "data": {
      "text/plain": [
       "date            0\n",
       "hour            0\n",
       "beat            0\n",
       "offense_type    0\n",
       "block_range     0\n",
       "street_name     0\n",
       "premise         0\n",
       "num_offenses    0\n",
       "dtype: int64"
      ]
     },
     "execution_count": 64,
     "metadata": {},
     "output_type": "execute_result"
    }
   ],
   "source": [
    "df.apply(lambda x: sum(x.isnull()))"
   ]
  },
  {
   "cell_type": "markdown",
   "metadata": {},
   "source": [
    "## Save clean data"
   ]
  },
  {
   "cell_type": "code",
   "execution_count": 65,
   "metadata": {},
   "outputs": [
    {
     "data": {
      "text/plain": [
       "'../data/clean_data/crime/'"
      ]
     },
     "execution_count": 65,
     "metadata": {},
     "output_type": "execute_result"
    }
   ],
   "source": [
    "data_directory_saves"
   ]
  },
  {
   "cell_type": "code",
   "execution_count": 66,
   "metadata": {},
   "outputs": [],
   "source": [
    "df.to_csv(data_directory_saves+'crime_2013.csv')"
   ]
  },
  {
   "cell_type": "code",
   "execution_count": null,
   "metadata": {},
   "outputs": [],
   "source": []
  }
 ],
 "metadata": {
  "kernelspec": {
   "display_name": "Python 3",
   "language": "python",
   "name": "python3"
  },
  "language_info": {
   "codemirror_mode": {
    "name": "ipython",
    "version": 3
   },
   "file_extension": ".py",
   "mimetype": "text/x-python",
   "name": "python",
   "nbconvert_exporter": "python",
   "pygments_lexer": "ipython3",
   "version": "3.6.4"
  }
 },
 "nbformat": 4,
 "nbformat_minor": 2
}
