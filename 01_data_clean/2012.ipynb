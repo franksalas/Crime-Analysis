{
 "cells": [
  {
   "cell_type": "markdown",
   "metadata": {},
   "source": [
    "# Crime data from 2012\n",
    "\n",
    "http://www.houstontx.gov/police/cs/crime-stats-archives.htm"
   ]
  },
  {
   "cell_type": "code",
   "execution_count": 1,
   "metadata": {},
   "outputs": [],
   "source": [
    "import warnings\n",
    "warnings.filterwarnings('ignore')"
   ]
  },
  {
   "cell_type": "code",
   "execution_count": 2,
   "metadata": {},
   "outputs": [],
   "source": [
    "import pandas as pd\n",
    "import glob, os\n",
    "import numpy as np\n",
    "import matplotlib.pyplot as plt\n",
    "import datetime  as dt\n",
    "import seaborn as sns"
   ]
  },
  {
   "cell_type": "markdown",
   "metadata": {},
   "source": [
    "## Data directory"
   ]
  },
  {
   "cell_type": "code",
   "execution_count": 3,
   "metadata": {},
   "outputs": [],
   "source": [
    "year = '2012'"
   ]
  },
  {
   "cell_type": "code",
   "execution_count": 4,
   "metadata": {},
   "outputs": [],
   "source": [
    "# data folder path\n",
    "data_directory = os.path.join('..','data','crime_data/{}'.format(year))\n",
    "data_directory_saves = os.path.join( '..','data','clean_data/')\n",
    "premise_dataset = os.path.join('..','data','crime_data/premise_codes.csv')"
   ]
  },
  {
   "cell_type": "markdown",
   "metadata": {},
   "source": [
    "# combine all fines into one"
   ]
  },
  {
   "cell_type": "code",
   "execution_count": 5,
   "metadata": {},
   "outputs": [],
   "source": [
    "# combine all files into one df\n",
    "all_files = glob.glob(os.path.join(data_directory, \"*.xls\")) \n",
    "df_from_each_file = (pd.read_excel(f) for f in all_files)\n",
    "df   = pd.concat(df_from_each_file, ignore_index=True)"
   ]
  },
  {
   "cell_type": "code",
   "execution_count": 6,
   "metadata": {},
   "outputs": [
    {
     "name": "stdout",
     "output_type": "stream",
     "text": [
      "<class 'pandas.core.frame.DataFrame'>\n",
      "RangeIndex: 127771 entries, 0 to 127770\n",
      "Data columns (total 10 columns):\n",
      "Date             127771 non-null datetime64[ns]\n",
      "Hour             127771 non-null int64\n",
      "Offense Type     127771 non-null object\n",
      "Beat             127771 non-null object\n",
      "Premise          127771 non-null object\n",
      "Block Range      127771 non-null object\n",
      "Street Name      127771 non-null object\n",
      "Type             127771 non-null object\n",
      "Suffix           127771 non-null object\n",
      "# Of Offenses    127771 non-null int64\n",
      "dtypes: datetime64[ns](1), int64(2), object(7)\n",
      "memory usage: 9.7+ MB\n"
     ]
    }
   ],
   "source": [
    "df.info()"
   ]
  },
  {
   "cell_type": "code",
   "execution_count": 7,
   "metadata": {},
   "outputs": [
    {
     "data": {
      "text/html": [
       "<div>\n",
       "<style scoped>\n",
       "    .dataframe tbody tr th:only-of-type {\n",
       "        vertical-align: middle;\n",
       "    }\n",
       "\n",
       "    .dataframe tbody tr th {\n",
       "        vertical-align: top;\n",
       "    }\n",
       "\n",
       "    .dataframe thead th {\n",
       "        text-align: right;\n",
       "    }\n",
       "</style>\n",
       "<table border=\"1\" class=\"dataframe\">\n",
       "  <thead>\n",
       "    <tr style=\"text-align: right;\">\n",
       "      <th></th>\n",
       "      <th>Date</th>\n",
       "      <th>Hour</th>\n",
       "      <th>Offense Type</th>\n",
       "      <th>Beat</th>\n",
       "      <th>Premise</th>\n",
       "      <th>Block Range</th>\n",
       "      <th>Street Name</th>\n",
       "      <th>Type</th>\n",
       "      <th>Suffix</th>\n",
       "      <th># Of Offenses</th>\n",
       "    </tr>\n",
       "  </thead>\n",
       "  <tbody>\n",
       "    <tr>\n",
       "      <th>0</th>\n",
       "      <td>2012-04-05</td>\n",
       "      <td>2</td>\n",
       "      <td>Murder</td>\n",
       "      <td>17E40</td>\n",
       "      <td>20R</td>\n",
       "      <td>6100-6199</td>\n",
       "      <td>CLARIDGE</td>\n",
       "      <td>DR</td>\n",
       "      <td>-</td>\n",
       "      <td>1</td>\n",
       "    </tr>\n",
       "    <tr>\n",
       "      <th>1</th>\n",
       "      <td>2012-04-04</td>\n",
       "      <td>22</td>\n",
       "      <td>Murder</td>\n",
       "      <td>3B10</td>\n",
       "      <td>18A</td>\n",
       "      <td>11700-11799</td>\n",
       "      <td>HEMPSTEAD</td>\n",
       "      <td>HWY</td>\n",
       "      <td>-</td>\n",
       "      <td>1</td>\n",
       "    </tr>\n",
       "  </tbody>\n",
       "</table>\n",
       "</div>"
      ],
      "text/plain": [
       "        Date  Hour Offense Type   Beat Premise  Block Range Street Name Type  \\\n",
       "0 2012-04-05     2       Murder  17E40     20R    6100-6199    CLARIDGE   DR   \n",
       "1 2012-04-04    22       Murder   3B10     18A  11700-11799   HEMPSTEAD  HWY   \n",
       "\n",
       "  Suffix  # Of Offenses  \n",
       "0      -              1  \n",
       "1      -              1  "
      ]
     },
     "execution_count": 7,
     "metadata": {},
     "output_type": "execute_result"
    }
   ],
   "source": [
    "df.head(2)"
   ]
  },
  {
   "cell_type": "markdown",
   "metadata": {},
   "source": [
    "## Check for missing values"
   ]
  },
  {
   "cell_type": "code",
   "execution_count": 8,
   "metadata": {},
   "outputs": [
    {
     "data": {
      "text/plain": [
       "Date             0\n",
       "Hour             0\n",
       "Offense Type     0\n",
       "Beat             0\n",
       "Premise          0\n",
       "Block Range      0\n",
       "Street Name      0\n",
       "Type             0\n",
       "Suffix           0\n",
       "# Of Offenses    0\n",
       "dtype: int64"
      ]
     },
     "execution_count": 8,
     "metadata": {},
     "output_type": "execute_result"
    }
   ],
   "source": [
    "df.apply(lambda x: sum(x.isnull()))"
   ]
  },
  {
   "cell_type": "code",
   "execution_count": 9,
   "metadata": {},
   "outputs": [
    {
     "data": {
      "image/png": "[encoded data removed]",
      "text/plain": [
       "<Figure size 432x288 with 1 Axes>"
      ]
     },
     "metadata": {},
     "output_type": "display_data"
    }
   ],
   "source": [
    "sns.heatmap(df.isnull(),yticklabels=False,cbar=False,cmap='viridis')\n",
    "plt.title('Null dataset display')\n",
    "plt.show()"
   ]
  },
  {
   "cell_type": "markdown",
   "metadata": {},
   "source": [
    "\n",
    "## Cleanup\n",
    "- lowercase column names\n",
    "- joining similar columns\n",
    "- renaming"
   ]
  },
  {
   "cell_type": "code",
   "execution_count": 10,
   "metadata": {},
   "outputs": [],
   "source": [
    "# Map the lowering function to all column names\n",
    "df.columns = map(str.lower, df.columns)"
   ]
  },
  {
   "cell_type": "code",
   "execution_count": 11,
   "metadata": {},
   "outputs": [
    {
     "data": {
      "text/html": [
       "<div>\n",
       "<style scoped>\n",
       "    .dataframe tbody tr th:only-of-type {\n",
       "        vertical-align: middle;\n",
       "    }\n",
       "\n",
       "    .dataframe tbody tr th {\n",
       "        vertical-align: top;\n",
       "    }\n",
       "\n",
       "    .dataframe thead th {\n",
       "        text-align: right;\n",
       "    }\n",
       "</style>\n",
       "<table border=\"1\" class=\"dataframe\">\n",
       "  <thead>\n",
       "    <tr style=\"text-align: right;\">\n",
       "      <th></th>\n",
       "      <th>date</th>\n",
       "      <th>hour</th>\n",
       "      <th>offense type</th>\n",
       "      <th>beat</th>\n",
       "      <th>premise</th>\n",
       "      <th>block range</th>\n",
       "      <th>street name</th>\n",
       "      <th>type</th>\n",
       "      <th>suffix</th>\n",
       "      <th># of offenses</th>\n",
       "    </tr>\n",
       "  </thead>\n",
       "  <tbody>\n",
       "    <tr>\n",
       "      <th>0</th>\n",
       "      <td>2012-04-05</td>\n",
       "      <td>2</td>\n",
       "      <td>Murder</td>\n",
       "      <td>17E40</td>\n",
       "      <td>20R</td>\n",
       "      <td>6100-6199</td>\n",
       "      <td>CLARIDGE</td>\n",
       "      <td>DR</td>\n",
       "      <td>-</td>\n",
       "      <td>1</td>\n",
       "    </tr>\n",
       "    <tr>\n",
       "      <th>1</th>\n",
       "      <td>2012-04-04</td>\n",
       "      <td>22</td>\n",
       "      <td>Murder</td>\n",
       "      <td>3B10</td>\n",
       "      <td>18A</td>\n",
       "      <td>11700-11799</td>\n",
       "      <td>HEMPSTEAD</td>\n",
       "      <td>HWY</td>\n",
       "      <td>-</td>\n",
       "      <td>1</td>\n",
       "    </tr>\n",
       "    <tr>\n",
       "      <th>2</th>\n",
       "      <td>2012-04-01</td>\n",
       "      <td>23</td>\n",
       "      <td>Murder</td>\n",
       "      <td>19G10</td>\n",
       "      <td>20A</td>\n",
       "      <td>7500-7599</td>\n",
       "      <td>CORPORATE</td>\n",
       "      <td>DR</td>\n",
       "      <td>-</td>\n",
       "      <td>1</td>\n",
       "    </tr>\n",
       "    <tr>\n",
       "      <th>3</th>\n",
       "      <td>2012-04-21</td>\n",
       "      <td>23</td>\n",
       "      <td>Murder</td>\n",
       "      <td>8C10</td>\n",
       "      <td>20R</td>\n",
       "      <td>6200-6299</td>\n",
       "      <td>RIETTA</td>\n",
       "      <td>-</td>\n",
       "      <td>-</td>\n",
       "      <td>1</td>\n",
       "    </tr>\n",
       "    <tr>\n",
       "      <th>4</th>\n",
       "      <td>2012-04-01</td>\n",
       "      <td>6</td>\n",
       "      <td>Murder</td>\n",
       "      <td>3B10</td>\n",
       "      <td>20A</td>\n",
       "      <td>4200-4299</td>\n",
       "      <td>34TH</td>\n",
       "      <td>ST</td>\n",
       "      <td>W</td>\n",
       "      <td>1</td>\n",
       "    </tr>\n",
       "  </tbody>\n",
       "</table>\n",
       "</div>"
      ],
      "text/plain": [
       "        date  hour offense type   beat premise  block range street name type  \\\n",
       "0 2012-04-05     2       Murder  17E40     20R    6100-6199    CLARIDGE   DR   \n",
       "1 2012-04-04    22       Murder   3B10     18A  11700-11799   HEMPSTEAD  HWY   \n",
       "2 2012-04-01    23       Murder  19G10     20A    7500-7599   CORPORATE   DR   \n",
       "3 2012-04-21    23       Murder   8C10     20R    6200-6299      RIETTA    -   \n",
       "4 2012-04-01     6       Murder   3B10     20A    4200-4299        34TH   ST   \n",
       "\n",
       "  suffix  # of offenses  \n",
       "0      -              1  \n",
       "1      -              1  \n",
       "2      -              1  \n",
       "3      -              1  \n",
       "4      W              1  "
      ]
     },
     "execution_count": 11,
     "metadata": {},
     "output_type": "execute_result"
    }
   ],
   "source": [
    "df.head()"
   ]
  },
  {
   "cell_type": "code",
   "execution_count": 12,
   "metadata": {},
   "outputs": [
    {
     "name": "stdout",
     "output_type": "stream",
     "text": [
      "<class 'pandas.core.frame.DataFrame'>\n",
      "RangeIndex: 127771 entries, 0 to 127770\n",
      "Data columns (total 10 columns):\n",
      "date            127771 non-null datetime64[ns]\n",
      "hour            127771 non-null int64\n",
      "offense_type    127771 non-null object\n",
      "beat            127771 non-null object\n",
      "premise         127771 non-null object\n",
      "block_range     127771 non-null object\n",
      "street_name     127771 non-null object\n",
      "type            127771 non-null object\n",
      "suffix          127771 non-null object\n",
      "num_offenses    127771 non-null int64\n",
      "dtypes: datetime64[ns](1), int64(2), object(7)\n",
      "memory usage: 9.7+ MB\n"
     ]
    }
   ],
   "source": [
    "df.rename(columns={\n",
    "    '# of offenses': 'num_offenses',\n",
    "     'offense type': 'offense_type',\n",
    "    'block range': 'block_range',\n",
    "    'street name': 'street_name'\n",
    "}, inplace=True)\n",
    "df.info()"
   ]
  },
  {
   "cell_type": "code",
   "execution_count": 13,
   "metadata": {},
   "outputs": [
    {
     "data": {
      "text/html": [
       "<div>\n",
       "<style scoped>\n",
       "    .dataframe tbody tr th:only-of-type {\n",
       "        vertical-align: middle;\n",
       "    }\n",
       "\n",
       "    .dataframe tbody tr th {\n",
       "        vertical-align: top;\n",
       "    }\n",
       "\n",
       "    .dataframe thead th {\n",
       "        text-align: right;\n",
       "    }\n",
       "</style>\n",
       "<table border=\"1\" class=\"dataframe\">\n",
       "  <thead>\n",
       "    <tr style=\"text-align: right;\">\n",
       "      <th></th>\n",
       "      <th>date</th>\n",
       "      <th>hour</th>\n",
       "      <th>offense_type</th>\n",
       "      <th>beat</th>\n",
       "      <th>premise</th>\n",
       "      <th>block_range</th>\n",
       "      <th>street_name</th>\n",
       "      <th>type</th>\n",
       "      <th>suffix</th>\n",
       "      <th>num_offenses</th>\n",
       "    </tr>\n",
       "  </thead>\n",
       "  <tbody>\n",
       "    <tr>\n",
       "      <th>0</th>\n",
       "      <td>2012-04-05</td>\n",
       "      <td>2</td>\n",
       "      <td>Murder</td>\n",
       "      <td>17E40</td>\n",
       "      <td>20R</td>\n",
       "      <td>6100-6199</td>\n",
       "      <td>CLARIDGE</td>\n",
       "      <td>DR</td>\n",
       "      <td>-</td>\n",
       "      <td>1</td>\n",
       "    </tr>\n",
       "    <tr>\n",
       "      <th>1</th>\n",
       "      <td>2012-04-04</td>\n",
       "      <td>22</td>\n",
       "      <td>Murder</td>\n",
       "      <td>3B10</td>\n",
       "      <td>18A</td>\n",
       "      <td>11700-11799</td>\n",
       "      <td>HEMPSTEAD</td>\n",
       "      <td>HWY</td>\n",
       "      <td>-</td>\n",
       "      <td>1</td>\n",
       "    </tr>\n",
       "    <tr>\n",
       "      <th>2</th>\n",
       "      <td>2012-04-01</td>\n",
       "      <td>23</td>\n",
       "      <td>Murder</td>\n",
       "      <td>19G10</td>\n",
       "      <td>20A</td>\n",
       "      <td>7500-7599</td>\n",
       "      <td>CORPORATE</td>\n",
       "      <td>DR</td>\n",
       "      <td>-</td>\n",
       "      <td>1</td>\n",
       "    </tr>\n",
       "    <tr>\n",
       "      <th>3</th>\n",
       "      <td>2012-04-21</td>\n",
       "      <td>23</td>\n",
       "      <td>Murder</td>\n",
       "      <td>8C10</td>\n",
       "      <td>20R</td>\n",
       "      <td>6200-6299</td>\n",
       "      <td>RIETTA</td>\n",
       "      <td>-</td>\n",
       "      <td>-</td>\n",
       "      <td>1</td>\n",
       "    </tr>\n",
       "    <tr>\n",
       "      <th>4</th>\n",
       "      <td>2012-04-01</td>\n",
       "      <td>6</td>\n",
       "      <td>Murder</td>\n",
       "      <td>3B10</td>\n",
       "      <td>20A</td>\n",
       "      <td>4200-4299</td>\n",
       "      <td>34TH</td>\n",
       "      <td>ST</td>\n",
       "      <td>W</td>\n",
       "      <td>1</td>\n",
       "    </tr>\n",
       "  </tbody>\n",
       "</table>\n",
       "</div>"
      ],
      "text/plain": [
       "        date  hour offense_type   beat premise  block_range street_name type  \\\n",
       "0 2012-04-05     2       Murder  17E40     20R    6100-6199    CLARIDGE   DR   \n",
       "1 2012-04-04    22       Murder   3B10     18A  11700-11799   HEMPSTEAD  HWY   \n",
       "2 2012-04-01    23       Murder  19G10     20A    7500-7599   CORPORATE   DR   \n",
       "3 2012-04-21    23       Murder   8C10     20R    6200-6299      RIETTA    -   \n",
       "4 2012-04-01     6       Murder   3B10     20A    4200-4299        34TH   ST   \n",
       "\n",
       "  suffix  num_offenses  \n",
       "0      -             1  \n",
       "1      -             1  \n",
       "2      -             1  \n",
       "3      -             1  \n",
       "4      W             1  "
      ]
     },
     "execution_count": 13,
     "metadata": {},
     "output_type": "execute_result"
    }
   ],
   "source": [
    "df.head()"
   ]
  },
  {
   "cell_type": "markdown",
   "metadata": {},
   "source": [
    "## Drop columns"
   ]
  },
  {
   "cell_type": "code",
   "execution_count": 14,
   "metadata": {},
   "outputs": [],
   "source": [
    "df.drop(['suffix','type'],axis=1, inplace=True)"
   ]
  },
  {
   "cell_type": "code",
   "execution_count": 15,
   "metadata": {},
   "outputs": [
    {
     "data": {
      "text/html": [
       "<div>\n",
       "<style scoped>\n",
       "    .dataframe tbody tr th:only-of-type {\n",
       "        vertical-align: middle;\n",
       "    }\n",
       "\n",
       "    .dataframe tbody tr th {\n",
       "        vertical-align: top;\n",
       "    }\n",
       "\n",
       "    .dataframe thead th {\n",
       "        text-align: right;\n",
       "    }\n",
       "</style>\n",
       "<table border=\"1\" class=\"dataframe\">\n",
       "  <thead>\n",
       "    <tr style=\"text-align: right;\">\n",
       "      <th></th>\n",
       "      <th>date</th>\n",
       "      <th>hour</th>\n",
       "      <th>offense_type</th>\n",
       "      <th>beat</th>\n",
       "      <th>premise</th>\n",
       "      <th>block_range</th>\n",
       "      <th>street_name</th>\n",
       "      <th>num_offenses</th>\n",
       "    </tr>\n",
       "  </thead>\n",
       "  <tbody>\n",
       "    <tr>\n",
       "      <th>0</th>\n",
       "      <td>2012-04-05</td>\n",
       "      <td>2</td>\n",
       "      <td>Murder</td>\n",
       "      <td>17E40</td>\n",
       "      <td>20R</td>\n",
       "      <td>6100-6199</td>\n",
       "      <td>CLARIDGE</td>\n",
       "      <td>1</td>\n",
       "    </tr>\n",
       "    <tr>\n",
       "      <th>1</th>\n",
       "      <td>2012-04-04</td>\n",
       "      <td>22</td>\n",
       "      <td>Murder</td>\n",
       "      <td>3B10</td>\n",
       "      <td>18A</td>\n",
       "      <td>11700-11799</td>\n",
       "      <td>HEMPSTEAD</td>\n",
       "      <td>1</td>\n",
       "    </tr>\n",
       "    <tr>\n",
       "      <th>2</th>\n",
       "      <td>2012-04-01</td>\n",
       "      <td>23</td>\n",
       "      <td>Murder</td>\n",
       "      <td>19G10</td>\n",
       "      <td>20A</td>\n",
       "      <td>7500-7599</td>\n",
       "      <td>CORPORATE</td>\n",
       "      <td>1</td>\n",
       "    </tr>\n",
       "    <tr>\n",
       "      <th>3</th>\n",
       "      <td>2012-04-21</td>\n",
       "      <td>23</td>\n",
       "      <td>Murder</td>\n",
       "      <td>8C10</td>\n",
       "      <td>20R</td>\n",
       "      <td>6200-6299</td>\n",
       "      <td>RIETTA</td>\n",
       "      <td>1</td>\n",
       "    </tr>\n",
       "    <tr>\n",
       "      <th>4</th>\n",
       "      <td>2012-04-01</td>\n",
       "      <td>6</td>\n",
       "      <td>Murder</td>\n",
       "      <td>3B10</td>\n",
       "      <td>20A</td>\n",
       "      <td>4200-4299</td>\n",
       "      <td>34TH</td>\n",
       "      <td>1</td>\n",
       "    </tr>\n",
       "  </tbody>\n",
       "</table>\n",
       "</div>"
      ],
      "text/plain": [
       "        date  hour offense_type   beat premise  block_range street_name  \\\n",
       "0 2012-04-05     2       Murder  17E40     20R    6100-6199    CLARIDGE   \n",
       "1 2012-04-04    22       Murder   3B10     18A  11700-11799   HEMPSTEAD   \n",
       "2 2012-04-01    23       Murder  19G10     20A    7500-7599   CORPORATE   \n",
       "3 2012-04-21    23       Murder   8C10     20R    6200-6299      RIETTA   \n",
       "4 2012-04-01     6       Murder   3B10     20A    4200-4299        34TH   \n",
       "\n",
       "   num_offenses  \n",
       "0             1  \n",
       "1             1  \n",
       "2             1  \n",
       "3             1  \n",
       "4             1  "
      ]
     },
     "execution_count": 15,
     "metadata": {},
     "output_type": "execute_result"
    }
   ],
   "source": [
    "df.head()"
   ]
  },
  {
   "cell_type": "markdown",
   "metadata": {},
   "source": [
    "## Premise cleanup"
   ]
  },
  {
   "cell_type": "code",
   "execution_count": 16,
   "metadata": {},
   "outputs": [
    {
     "data": {
      "text/plain": [
       "array(['20R', '18A', '20A', '13R', '20D', '250', '18B', '20C', '20V',\n",
       "       '01B', '20P', '140', '18O', '11R', '22M', '18N', '080', '05D',\n",
       "       '24F', '02B', '24E', '05L', '24P', '05Z', '18C', '13B', '210',\n",
       "       '070', '18T', '05B', '120', '09D', '03B', '100', '24A', '23S',\n",
       "       '05O', '18R', '240', '24C', '02S', '18U', '18G', '22H', '18P',\n",
       "       '18M', '03S', '13H', '13S', '20G', '09P', 'N', '05C', '040', '05P',\n",
       "       '---', '05Q', '05R', '170', '09H', '12V', '22E', '05S', '11F',\n",
       "       '18W', '060', '11G', '20M', '18D', '160', '05E', '20N', '05H',\n",
       "       '22P', '05Y', '190', '25V', '05W', '22D', '24J', '24V', '20W',\n",
       "       '20L', '05F', '05G', '05N', '09R', '05V', '05X', '24M', '21V',\n",
       "       '11L', '19V', '24T', '11P', '18H', '18S', '01P', '01A', '24S',\n",
       "       '22U', '18L', '05M', '01K', '11C', '05A', '150', '24B', '05U',\n",
       "       '24G', '20H', '11S', '11V', '13A', '02C', '13T', '25R', '05T',\n",
       "       '06', '01T', '14V', '22C', '04V', '22V', '09V', '13C'],\n",
       "      dtype=object)"
      ]
     },
     "execution_count": 16,
     "metadata": {},
     "output_type": "execute_result"
    }
   ],
   "source": [
    "df.premise.unique()"
   ]
  },
  {
   "cell_type": "code",
   "execution_count": 17,
   "metadata": {},
   "outputs": [],
   "source": [
    "df.premise = df.premise.str.strip()"
   ]
  },
  {
   "cell_type": "code",
   "execution_count": 18,
   "metadata": {},
   "outputs": [
    {
     "data": {
      "text/plain": [
       "array(['20R', '18A', '20A', '13R', '20D', '250', '18B', '20C', '20V',\n",
       "       '01B', '20P', '140', '18O', '11R', '22M', '18N', '080', '05D',\n",
       "       '24F', '02B', '24E', '05L', '24P', '05Z', '18C', '13B', '210',\n",
       "       '070', '18T', '05B', '120', '09D', '03B', '100', '24A', '23S',\n",
       "       '05O', '18R', '240', '24C', '02S', '18U', '18G', '22H', '18P',\n",
       "       '18M', '03S', '13H', '13S', '20G', '09P', 'N', '05C', '040', '05P',\n",
       "       '---', '05Q', '05R', '170', '09H', '12V', '22E', '05S', '11F',\n",
       "       '18W', '060', '11G', '20M', '18D', '160', '05E', '20N', '05H',\n",
       "       '22P', '05Y', '190', '25V', '05W', '22D', '24J', '24V', '20W',\n",
       "       '20L', '05F', '05G', '05N', '09R', '05V', '05X', '24M', '21V',\n",
       "       '11L', '19V', '24T', '11P', '18H', '18S', '01P', '01A', '24S',\n",
       "       '22U', '18L', '05M', '01K', '11C', '05A', '150', '24B', '05U',\n",
       "       '24G', '20H', '11S', '11V', '13A', '02C', '13T', '25R', '05T',\n",
       "       '06', '01T', '14V', '22C', '04V', '22V', '09V', '13C'],\n",
       "      dtype=object)"
      ]
     },
     "execution_count": 18,
     "metadata": {},
     "output_type": "execute_result"
    }
   ],
   "source": [
    "df.premise.unique()"
   ]
  },
  {
   "cell_type": "markdown",
   "metadata": {},
   "source": [
    "## replace 06 with 060"
   ]
  },
  {
   "cell_type": "code",
   "execution_count": 19,
   "metadata": {},
   "outputs": [],
   "source": [
    "df.premise.replace({'06':'060'}, inplace=True)"
   ]
  },
  {
   "cell_type": "code",
   "execution_count": 20,
   "metadata": {},
   "outputs": [
    {
     "data": {
      "text/plain": [
       "125"
      ]
     },
     "execution_count": 20,
     "metadata": {},
     "output_type": "execute_result"
    }
   ],
   "source": [
    "len(df.premise.unique())"
   ]
  },
  {
   "cell_type": "code",
   "execution_count": 21,
   "metadata": {},
   "outputs": [
    {
     "data": {
      "text/plain": [
       "array(['20R', '18A', '20A', '13R', '20D', '250', '18B', '20C', '20V',\n",
       "       '01B', '20P', '140', '18O', '11R', '22M', '18N', '080', '05D',\n",
       "       '24F', '02B', '24E', '05L', '24P', '05Z', '18C', '13B', '210',\n",
       "       '070', '18T', '05B', '120', '09D', '03B', '100', '24A', '23S',\n",
       "       '05O', '18R', '240', '24C', '02S', '18U', '18G', '22H', '18P',\n",
       "       '18M', '03S', '13H', '13S', '20G', '09P', 'N', '05C', '040', '05P',\n",
       "       '---', '05Q', '05R', '170', '09H', '12V', '22E', '05S', '11F',\n",
       "       '18W', '060', '11G', '20M', '18D', '160', '05E', '20N', '05H',\n",
       "       '22P', '05Y', '190', '25V', '05W', '22D', '24J', '24V', '20W',\n",
       "       '20L', '05F', '05G', '05N', '09R', '05V', '05X', '24M', '21V',\n",
       "       '11L', '19V', '24T', '11P', '18H', '18S', '01P', '01A', '24S',\n",
       "       '22U', '18L', '05M', '01K', '11C', '05A', '150', '24B', '05U',\n",
       "       '24G', '20H', '11S', '11V', '13A', '02C', '13T', '25R', '05T',\n",
       "       '01T', '14V', '22C', '04V', '22V', '09V', '13C'], dtype=object)"
      ]
     },
     "execution_count": 21,
     "metadata": {},
     "output_type": "execute_result"
    }
   ],
   "source": [
    "df.premise.unique()"
   ]
  },
  {
   "cell_type": "markdown",
   "metadata": {},
   "source": [
    "## Premise"
   ]
  },
  {
   "cell_type": "code",
   "execution_count": 22,
   "metadata": {},
   "outputs": [
    {
     "data": {
      "text/html": [
       "<div>\n",
       "<style scoped>\n",
       "    .dataframe tbody tr th:only-of-type {\n",
       "        vertical-align: middle;\n",
       "    }\n",
       "\n",
       "    .dataframe tbody tr th {\n",
       "        vertical-align: top;\n",
       "    }\n",
       "\n",
       "    .dataframe thead th {\n",
       "        text-align: right;\n",
       "    }\n",
       "</style>\n",
       "<table border=\"1\" class=\"dataframe\">\n",
       "  <thead>\n",
       "    <tr style=\"text-align: right;\">\n",
       "      <th></th>\n",
       "      <th>premise</th>\n",
       "      <th>premise_description</th>\n",
       "    </tr>\n",
       "  </thead>\n",
       "  <tbody>\n",
       "    <tr>\n",
       "      <th>0</th>\n",
       "      <td>01A</td>\n",
       "      <td>AIRPORT TERMINAL</td>\n",
       "    </tr>\n",
       "    <tr>\n",
       "      <th>1</th>\n",
       "      <td>01B</td>\n",
       "      <td>BUS STATION</td>\n",
       "    </tr>\n",
       "    <tr>\n",
       "      <th>2</th>\n",
       "      <td>01K</td>\n",
       "      <td>RAILROAD TRACK/RIGHT OF WAY</td>\n",
       "    </tr>\n",
       "    <tr>\n",
       "      <th>3</th>\n",
       "      <td>01P</td>\n",
       "      <td>PARK &amp; RIDE TERMINAL</td>\n",
       "    </tr>\n",
       "    <tr>\n",
       "      <th>4</th>\n",
       "      <td>01R</td>\n",
       "      <td>LIGHT RAIL VEHICLE</td>\n",
       "    </tr>\n",
       "  </tbody>\n",
       "</table>\n",
       "</div>"
      ],
      "text/plain": [
       "  premise          premise_description\n",
       "0     01A             AIRPORT TERMINAL\n",
       "1     01B                  BUS STATION\n",
       "2     01K  RAILROAD TRACK/RIGHT OF WAY\n",
       "3     01P         PARK & RIDE TERMINAL\n",
       "4     01R           LIGHT RAIL VEHICLE"
      ]
     },
     "execution_count": 22,
     "metadata": {},
     "output_type": "execute_result"
    }
   ],
   "source": [
    "premise_data = pd.read_csv(premise_dataset)\n",
    "#premise_data.columns = map(str.lower, premise_data.columns)\n",
    "premise_data.columns = ['premise','premise_description']\n",
    "premise_data.head()"
   ]
  },
  {
   "cell_type": "code",
   "execution_count": 23,
   "metadata": {},
   "outputs": [
    {
     "data": {
      "text/plain": [
       "array(['01A', '01B', '01K', '01P', '01R', '01T', '02B', '02C', '02S',\n",
       "       '02V', '03B', '03S', '040', '04V', '05A', '05B', '05C', '05D',\n",
       "       '05E', '05F', '05G', '05H', '05L', '05M', '05N', '05O', '05P',\n",
       "       '05Q', '05R', '05S', '05T', '05U', '05V', '05W', '05X', '05Y',\n",
       "       '05Z', '060', '070', '080', '09D', '09H', '09P', '09R', '09V',\n",
       "       '100', '11C', '11F', '11G', '11L', '11P', '11R', '11S', '11V',\n",
       "       '120', '12V', '13A', '13B', '13C', '13H', '13R', '13S', '13T',\n",
       "       '140', '14V', '150', '15V', '160', '170', '18A', '18B', '18C',\n",
       "       '18D', '18G', '18H', '18L', '18M', '18N', '18O', '18P', '18R',\n",
       "       '18S', '18T', '18U', '18W', '190', '19V', '20A', '20C', '20D',\n",
       "       '20G', '20H', '20L', '20M', '20N', '20P', '20R', '20V', '20W',\n",
       "       '210', '21V', '22C', '22D', '22E', '22H', '22M', '22P', '22U',\n",
       "       '22V', '23S', '240', '24A', '24B', '24C', '24E', '24F', '24G',\n",
       "       '24J', '24M', '24P', '24S', '24T', '24V', '250', '25R', '25V'],\n",
       "      dtype=object)"
      ]
     },
     "execution_count": 23,
     "metadata": {},
     "output_type": "execute_result"
    }
   ],
   "source": [
    "premise_data.premise.unique()"
   ]
  },
  {
   "cell_type": "code",
   "execution_count": null,
   "metadata": {},
   "outputs": [],
   "source": []
  },
  {
   "cell_type": "code",
   "execution_count": null,
   "metadata": {},
   "outputs": [],
   "source": []
  },
  {
   "cell_type": "code",
   "execution_count": null,
   "metadata": {},
   "outputs": [],
   "source": [
    "df.head()"
   ]
  },
  {
   "cell_type": "code",
   "execution_count": 24,
   "metadata": {},
   "outputs": [],
   "source": [
    "df = pd.merge(df, premise_data, on='premise', how='outer')"
   ]
  },
  {
   "cell_type": "code",
   "execution_count": 25,
   "metadata": {},
   "outputs": [
    {
     "data": {
      "text/html": [
       "<div>\n",
       "<style scoped>\n",
       "    .dataframe tbody tr th:only-of-type {\n",
       "        vertical-align: middle;\n",
       "    }\n",
       "\n",
       "    .dataframe tbody tr th {\n",
       "        vertical-align: top;\n",
       "    }\n",
       "\n",
       "    .dataframe thead th {\n",
       "        text-align: right;\n",
       "    }\n",
       "</style>\n",
       "<table border=\"1\" class=\"dataframe\">\n",
       "  <thead>\n",
       "    <tr style=\"text-align: right;\">\n",
       "      <th></th>\n",
       "      <th>date</th>\n",
       "      <th>hour</th>\n",
       "      <th>offense_type</th>\n",
       "      <th>beat</th>\n",
       "      <th>premise</th>\n",
       "      <th>block_range</th>\n",
       "      <th>street_name</th>\n",
       "      <th>num_offenses</th>\n",
       "      <th>premise_description</th>\n",
       "    </tr>\n",
       "  </thead>\n",
       "  <tbody>\n",
       "    <tr>\n",
       "      <th>0</th>\n",
       "      <td>2012-04-05</td>\n",
       "      <td>2.0</td>\n",
       "      <td>Murder</td>\n",
       "      <td>17E40</td>\n",
       "      <td>20R</td>\n",
       "      <td>6100-6199</td>\n",
       "      <td>CLARIDGE</td>\n",
       "      <td>1.0</td>\n",
       "      <td>RESIDENCE/HOUSE</td>\n",
       "    </tr>\n",
       "    <tr>\n",
       "      <th>1</th>\n",
       "      <td>2012-04-21</td>\n",
       "      <td>23.0</td>\n",
       "      <td>Murder</td>\n",
       "      <td>8C10</td>\n",
       "      <td>20R</td>\n",
       "      <td>6200-6299</td>\n",
       "      <td>RIETTA</td>\n",
       "      <td>1.0</td>\n",
       "      <td>RESIDENCE/HOUSE</td>\n",
       "    </tr>\n",
       "    <tr>\n",
       "      <th>2</th>\n",
       "      <td>2012-04-30</td>\n",
       "      <td>8.0</td>\n",
       "      <td>Murder</td>\n",
       "      <td>7C20</td>\n",
       "      <td>20R</td>\n",
       "      <td>4000-4099</td>\n",
       "      <td>LIBERTY</td>\n",
       "      <td>1.0</td>\n",
       "      <td>RESIDENCE/HOUSE</td>\n",
       "    </tr>\n",
       "    <tr>\n",
       "      <th>3</th>\n",
       "      <td>2012-04-12</td>\n",
       "      <td>4.0</td>\n",
       "      <td>Rape</td>\n",
       "      <td>7C50</td>\n",
       "      <td>20R</td>\n",
       "      <td>19400-19499</td>\n",
       "      <td>BORDERS</td>\n",
       "      <td>1.0</td>\n",
       "      <td>RESIDENCE/HOUSE</td>\n",
       "    </tr>\n",
       "    <tr>\n",
       "      <th>4</th>\n",
       "      <td>2012-04-23</td>\n",
       "      <td>8.0</td>\n",
       "      <td>Rape</td>\n",
       "      <td>16E20</td>\n",
       "      <td>20R</td>\n",
       "      <td>4100-4199</td>\n",
       "      <td>KNOTTY OAKS</td>\n",
       "      <td>1.0</td>\n",
       "      <td>RESIDENCE/HOUSE</td>\n",
       "    </tr>\n",
       "  </tbody>\n",
       "</table>\n",
       "</div>"
      ],
      "text/plain": [
       "        date  hour offense_type   beat premise  block_range  street_name  \\\n",
       "0 2012-04-05   2.0       Murder  17E40     20R    6100-6199     CLARIDGE   \n",
       "1 2012-04-21  23.0       Murder   8C10     20R    6200-6299       RIETTA   \n",
       "2 2012-04-30   8.0       Murder   7C20     20R    4000-4099      LIBERTY   \n",
       "3 2012-04-12   4.0         Rape   7C50     20R  19400-19499      BORDERS   \n",
       "4 2012-04-23   8.0         Rape  16E20     20R    4100-4199  KNOTTY OAKS   \n",
       "\n",
       "   num_offenses premise_description  \n",
       "0           1.0     RESIDENCE/HOUSE  \n",
       "1           1.0     RESIDENCE/HOUSE  \n",
       "2           1.0     RESIDENCE/HOUSE  \n",
       "3           1.0     RESIDENCE/HOUSE  \n",
       "4           1.0     RESIDENCE/HOUSE  "
      ]
     },
     "execution_count": 25,
     "metadata": {},
     "output_type": "execute_result"
    }
   ],
   "source": [
    "df.head()"
   ]
  },
  {
   "cell_type": "code",
   "execution_count": null,
   "metadata": {},
   "outputs": [],
   "source": []
  },
  {
   "cell_type": "code",
   "execution_count": 26,
   "metadata": {},
   "outputs": [
    {
     "data": {
      "image/png": "[encoded data removed]",
      "text/plain": [
       "<Figure size 432x288 with 1 Axes>"
      ]
     },
     "metadata": {},
     "output_type": "display_data"
    }
   ],
   "source": [
    "sns.heatmap(df.isnull(),yticklabels=False,cbar=False,cmap='viridis')\n",
    "plt.title('Null dataset display')\n",
    "plt.show()"
   ]
  },
  {
   "cell_type": "code",
   "execution_count": null,
   "metadata": {},
   "outputs": [],
   "source": []
  },
  {
   "cell_type": "code",
   "execution_count": null,
   "metadata": {},
   "outputs": [],
   "source": [
    "df.premise.value_counts(dropna=False)"
   ]
  },
  {
   "cell_type": "markdown",
   "metadata": {},
   "source": [
    "## Drop premise column"
   ]
  },
  {
   "cell_type": "code",
   "execution_count": 27,
   "metadata": {},
   "outputs": [],
   "source": [
    "df.drop(['premise'],axis=1, inplace=True)"
   ]
  },
  {
   "cell_type": "markdown",
   "metadata": {},
   "source": [
    "## Rename premise_description to premise"
   ]
  },
  {
   "cell_type": "code",
   "execution_count": 28,
   "metadata": {},
   "outputs": [],
   "source": [
    "df.rename(columns={\n",
    "    'premise_description': 'premise',\n",
    "}, inplace=True)"
   ]
  },
  {
   "cell_type": "code",
   "execution_count": 29,
   "metadata": {},
   "outputs": [
    {
     "data": {
      "text/html": [
       "<div>\n",
       "<style scoped>\n",
       "    .dataframe tbody tr th:only-of-type {\n",
       "        vertical-align: middle;\n",
       "    }\n",
       "\n",
       "    .dataframe tbody tr th {\n",
       "        vertical-align: top;\n",
       "    }\n",
       "\n",
       "    .dataframe thead th {\n",
       "        text-align: right;\n",
       "    }\n",
       "</style>\n",
       "<table border=\"1\" class=\"dataframe\">\n",
       "  <thead>\n",
       "    <tr style=\"text-align: right;\">\n",
       "      <th></th>\n",
       "      <th>date</th>\n",
       "      <th>hour</th>\n",
       "      <th>offense_type</th>\n",
       "      <th>beat</th>\n",
       "      <th>block_range</th>\n",
       "      <th>street_name</th>\n",
       "      <th>num_offenses</th>\n",
       "      <th>premise</th>\n",
       "    </tr>\n",
       "  </thead>\n",
       "  <tbody>\n",
       "    <tr>\n",
       "      <th>0</th>\n",
       "      <td>2012-04-05</td>\n",
       "      <td>2.0</td>\n",
       "      <td>Murder</td>\n",
       "      <td>17E40</td>\n",
       "      <td>6100-6199</td>\n",
       "      <td>CLARIDGE</td>\n",
       "      <td>1.0</td>\n",
       "      <td>RESIDENCE/HOUSE</td>\n",
       "    </tr>\n",
       "    <tr>\n",
       "      <th>1</th>\n",
       "      <td>2012-04-21</td>\n",
       "      <td>23.0</td>\n",
       "      <td>Murder</td>\n",
       "      <td>8C10</td>\n",
       "      <td>6200-6299</td>\n",
       "      <td>RIETTA</td>\n",
       "      <td>1.0</td>\n",
       "      <td>RESIDENCE/HOUSE</td>\n",
       "    </tr>\n",
       "    <tr>\n",
       "      <th>2</th>\n",
       "      <td>2012-04-30</td>\n",
       "      <td>8.0</td>\n",
       "      <td>Murder</td>\n",
       "      <td>7C20</td>\n",
       "      <td>4000-4099</td>\n",
       "      <td>LIBERTY</td>\n",
       "      <td>1.0</td>\n",
       "      <td>RESIDENCE/HOUSE</td>\n",
       "    </tr>\n",
       "    <tr>\n",
       "      <th>3</th>\n",
       "      <td>2012-04-12</td>\n",
       "      <td>4.0</td>\n",
       "      <td>Rape</td>\n",
       "      <td>7C50</td>\n",
       "      <td>19400-19499</td>\n",
       "      <td>BORDERS</td>\n",
       "      <td>1.0</td>\n",
       "      <td>RESIDENCE/HOUSE</td>\n",
       "    </tr>\n",
       "    <tr>\n",
       "      <th>4</th>\n",
       "      <td>2012-04-23</td>\n",
       "      <td>8.0</td>\n",
       "      <td>Rape</td>\n",
       "      <td>16E20</td>\n",
       "      <td>4100-4199</td>\n",
       "      <td>KNOTTY OAKS</td>\n",
       "      <td>1.0</td>\n",
       "      <td>RESIDENCE/HOUSE</td>\n",
       "    </tr>\n",
       "  </tbody>\n",
       "</table>\n",
       "</div>"
      ],
      "text/plain": [
       "        date  hour offense_type   beat  block_range  street_name  \\\n",
       "0 2012-04-05   2.0       Murder  17E40    6100-6199     CLARIDGE   \n",
       "1 2012-04-21  23.0       Murder   8C10    6200-6299       RIETTA   \n",
       "2 2012-04-30   8.0       Murder   7C20    4000-4099      LIBERTY   \n",
       "3 2012-04-12   4.0         Rape   7C50  19400-19499      BORDERS   \n",
       "4 2012-04-23   8.0         Rape  16E20    4100-4199  KNOTTY OAKS   \n",
       "\n",
       "   num_offenses          premise  \n",
       "0           1.0  RESIDENCE/HOUSE  \n",
       "1           1.0  RESIDENCE/HOUSE  \n",
       "2           1.0  RESIDENCE/HOUSE  \n",
       "3           1.0  RESIDENCE/HOUSE  \n",
       "4           1.0  RESIDENCE/HOUSE  "
      ]
     },
     "execution_count": 29,
     "metadata": {},
     "output_type": "execute_result"
    }
   ],
   "source": [
    "df.head()"
   ]
  },
  {
   "cell_type": "markdown",
   "metadata": {},
   "source": [
    "# Null values"
   ]
  },
  {
   "cell_type": "code",
   "execution_count": 30,
   "metadata": {},
   "outputs": [
    {
     "data": {
      "text/plain": [
       "date              3\n",
       "hour              3\n",
       "offense_type      3\n",
       "beat              3\n",
       "block_range       3\n",
       "street_name       3\n",
       "num_offenses      3\n",
       "premise         608\n",
       "dtype: int64"
      ]
     },
     "execution_count": 30,
     "metadata": {},
     "output_type": "execute_result"
    }
   ],
   "source": [
    "df.apply(lambda x: sum(x.isnull()))"
   ]
  },
  {
   "cell_type": "code",
   "execution_count": 31,
   "metadata": {},
   "outputs": [
    {
     "data": {
      "text/html": [
       "<div>\n",
       "<style scoped>\n",
       "    .dataframe tbody tr th:only-of-type {\n",
       "        vertical-align: middle;\n",
       "    }\n",
       "\n",
       "    .dataframe tbody tr th {\n",
       "        vertical-align: top;\n",
       "    }\n",
       "\n",
       "    .dataframe thead th {\n",
       "        text-align: right;\n",
       "    }\n",
       "</style>\n",
       "<table border=\"1\" class=\"dataframe\">\n",
       "  <thead>\n",
       "    <tr style=\"text-align: right;\">\n",
       "      <th></th>\n",
       "      <th>date</th>\n",
       "      <th>hour</th>\n",
       "      <th>offense_type</th>\n",
       "      <th>beat</th>\n",
       "      <th>block_range</th>\n",
       "      <th>street_name</th>\n",
       "      <th>num_offenses</th>\n",
       "      <th>premise</th>\n",
       "    </tr>\n",
       "  </thead>\n",
       "  <tbody>\n",
       "    <tr>\n",
       "      <th>120796</th>\n",
       "      <td>2012-09-25</td>\n",
       "      <td>0.0</td>\n",
       "      <td>Theft</td>\n",
       "      <td>3B40</td>\n",
       "      <td>500-599</td>\n",
       "      <td>GARDEN OAKS</td>\n",
       "      <td>1.0</td>\n",
       "      <td>NaN</td>\n",
       "    </tr>\n",
       "    <tr>\n",
       "      <th>120797</th>\n",
       "      <td>2012-09-25</td>\n",
       "      <td>23.0</td>\n",
       "      <td>Theft</td>\n",
       "      <td>1A50</td>\n",
       "      <td>3900-3999</td>\n",
       "      <td>ALABAMA</td>\n",
       "      <td>1.0</td>\n",
       "      <td>NaN</td>\n",
       "    </tr>\n",
       "    <tr>\n",
       "      <th>120798</th>\n",
       "      <td>2012-09-28</td>\n",
       "      <td>8.0</td>\n",
       "      <td>Theft</td>\n",
       "      <td>1A50</td>\n",
       "      <td>4300-4399</td>\n",
       "      <td>SAN FELIPE</td>\n",
       "      <td>1.0</td>\n",
       "      <td>NaN</td>\n",
       "    </tr>\n",
       "    <tr>\n",
       "      <th>120799</th>\n",
       "      <td>2012-09-28</td>\n",
       "      <td>16.0</td>\n",
       "      <td>Theft</td>\n",
       "      <td>18F20</td>\n",
       "      <td>3100-3199</td>\n",
       "      <td>POST OAK</td>\n",
       "      <td>1.0</td>\n",
       "      <td>NaN</td>\n",
       "    </tr>\n",
       "    <tr>\n",
       "      <th>120800</th>\n",
       "      <td>2012-09-28</td>\n",
       "      <td>12.0</td>\n",
       "      <td>Theft</td>\n",
       "      <td>6B50</td>\n",
       "      <td>15900-15999</td>\n",
       "      <td>SELLERS</td>\n",
       "      <td>1.0</td>\n",
       "      <td>NaN</td>\n",
       "    </tr>\n",
       "    <tr>\n",
       "      <th>120801</th>\n",
       "      <td>2012-09-29</td>\n",
       "      <td>13.0</td>\n",
       "      <td>Theft</td>\n",
       "      <td>7C20</td>\n",
       "      <td>3300-3399</td>\n",
       "      <td>LOCKWOOD</td>\n",
       "      <td>1.0</td>\n",
       "      <td>NaN</td>\n",
       "    </tr>\n",
       "    <tr>\n",
       "      <th>120802</th>\n",
       "      <td>2012-09-29</td>\n",
       "      <td>17.0</td>\n",
       "      <td>Theft</td>\n",
       "      <td>10H80</td>\n",
       "      <td>2500-2599</td>\n",
       "      <td>DUNSTAN</td>\n",
       "      <td>1.0</td>\n",
       "      <td>NaN</td>\n",
       "    </tr>\n",
       "    <tr>\n",
       "      <th>127771</th>\n",
       "      <td>NaT</td>\n",
       "      <td>NaN</td>\n",
       "      <td>NaN</td>\n",
       "      <td>NaN</td>\n",
       "      <td>NaN</td>\n",
       "      <td>NaN</td>\n",
       "      <td>NaN</td>\n",
       "      <td>LIGHT RAIL VEHICLE</td>\n",
       "    </tr>\n",
       "    <tr>\n",
       "      <th>127772</th>\n",
       "      <td>NaT</td>\n",
       "      <td>NaN</td>\n",
       "      <td>NaN</td>\n",
       "      <td>NaN</td>\n",
       "      <td>NaN</td>\n",
       "      <td>NaN</td>\n",
       "      <td>NaN</td>\n",
       "      <td>VACANT BANK</td>\n",
       "    </tr>\n",
       "    <tr>\n",
       "      <th>127773</th>\n",
       "      <td>NaT</td>\n",
       "      <td>NaN</td>\n",
       "      <td>NaN</td>\n",
       "      <td>NaN</td>\n",
       "      <td>NaN</td>\n",
       "      <td>NaN</td>\n",
       "      <td>NaN</td>\n",
       "      <td>VACANT JAIL/PRISON</td>\n",
       "    </tr>\n",
       "  </tbody>\n",
       "</table>\n",
       "</div>"
      ],
      "text/plain": [
       "             date  hour offense_type   beat  block_range  street_name  \\\n",
       "120796 2012-09-25   0.0        Theft   3B40      500-599  GARDEN OAKS   \n",
       "120797 2012-09-25  23.0        Theft   1A50    3900-3999      ALABAMA   \n",
       "120798 2012-09-28   8.0        Theft   1A50    4300-4399   SAN FELIPE   \n",
       "120799 2012-09-28  16.0        Theft  18F20    3100-3199     POST OAK   \n",
       "120800 2012-09-28  12.0        Theft   6B50  15900-15999      SELLERS   \n",
       "120801 2012-09-29  13.0        Theft   7C20    3300-3399     LOCKWOOD   \n",
       "120802 2012-09-29  17.0        Theft  10H80    2500-2599      DUNSTAN   \n",
       "127771        NaT   NaN          NaN    NaN          NaN          NaN   \n",
       "127772        NaT   NaN          NaN    NaN          NaN          NaN   \n",
       "127773        NaT   NaN          NaN    NaN          NaN          NaN   \n",
       "\n",
       "        num_offenses             premise  \n",
       "120796           1.0                 NaN  \n",
       "120797           1.0                 NaN  \n",
       "120798           1.0                 NaN  \n",
       "120799           1.0                 NaN  \n",
       "120800           1.0                 NaN  \n",
       "120801           1.0                 NaN  \n",
       "120802           1.0                 NaN  \n",
       "127771           NaN  LIGHT RAIL VEHICLE  \n",
       "127772           NaN         VACANT BANK  \n",
       "127773           NaN  VACANT JAIL/PRISON  "
      ]
     },
     "execution_count": 31,
     "metadata": {},
     "output_type": "execute_result"
    }
   ],
   "source": [
    "df[df.isnull().any(axis=1)][-10:]  # display last 10"
   ]
  },
  {
   "cell_type": "markdown",
   "metadata": {},
   "source": [
    "### Drop rows with more than 3 null values"
   ]
  },
  {
   "cell_type": "code",
   "execution_count": 32,
   "metadata": {},
   "outputs": [],
   "source": [
    "df.dropna(thresh=3,inplace=True)"
   ]
  },
  {
   "cell_type": "code",
   "execution_count": null,
   "metadata": {},
   "outputs": [],
   "source": []
  },
  {
   "cell_type": "markdown",
   "metadata": {},
   "source": [
    "### Replace null values on premise_code to 'none'"
   ]
  },
  {
   "cell_type": "code",
   "execution_count": 34,
   "metadata": {},
   "outputs": [],
   "source": [
    "df.premise.fillna('UNK',inplace=True)"
   ]
  },
  {
   "cell_type": "code",
   "execution_count": 35,
   "metadata": {},
   "outputs": [
    {
     "data": {
      "text/plain": [
       "date            0\n",
       "hour            0\n",
       "offense_type    0\n",
       "beat            0\n",
       "block_range     0\n",
       "street_name     0\n",
       "num_offenses    0\n",
       "premise         0\n",
       "dtype: int64"
      ]
     },
     "execution_count": 35,
     "metadata": {},
     "output_type": "execute_result"
    }
   ],
   "source": [
    "df.apply(lambda x: sum(x.isnull()))"
   ]
  },
  {
   "cell_type": "markdown",
   "metadata": {},
   "source": [
    "# Inspect each column"
   ]
  },
  {
   "cell_type": "markdown",
   "metadata": {},
   "source": [
    "## `num_offenses`"
   ]
  },
  {
   "cell_type": "code",
   "execution_count": 36,
   "metadata": {},
   "outputs": [
    {
     "data": {
      "text/plain": [
       "1.0    126502\n",
       "2.0      1050\n",
       "3.0       202\n",
       "4.0        11\n",
       "5.0         3\n",
       "7.0         1\n",
       "6.0         1\n",
       "8.0         1\n",
       "Name: num_offenses, dtype: int64"
      ]
     },
     "execution_count": 36,
     "metadata": {},
     "output_type": "execute_result"
    }
   ],
   "source": [
    "df.num_offenses.value_counts(dropna=False)"
   ]
  },
  {
   "cell_type": "code",
   "execution_count": 37,
   "metadata": {},
   "outputs": [
    {
     "data": {
      "text/plain": [
       "dtype('float64')"
      ]
     },
     "execution_count": 37,
     "metadata": {},
     "output_type": "execute_result"
    }
   ],
   "source": [
    "df.num_offenses.dtype"
   ]
  },
  {
   "cell_type": "markdown",
   "metadata": {},
   "source": [
    "### Change the type from float to integer"
   ]
  },
  {
   "cell_type": "code",
   "execution_count": 38,
   "metadata": {},
   "outputs": [],
   "source": [
    "df.num_offenses = df.num_offenses.astype('int')"
   ]
  },
  {
   "cell_type": "code",
   "execution_count": 39,
   "metadata": {},
   "outputs": [
    {
     "data": {
      "text/plain": [
       "dtype('int64')"
      ]
     },
     "execution_count": 39,
     "metadata": {},
     "output_type": "execute_result"
    }
   ],
   "source": [
    "df.num_offenses.dtype"
   ]
  },
  {
   "cell_type": "code",
   "execution_count": 40,
   "metadata": {},
   "outputs": [
    {
     "data": {
      "text/plain": [
       "1    126502\n",
       "2      1050\n",
       "3       202\n",
       "4        11\n",
       "5         3\n",
       "8         1\n",
       "7         1\n",
       "6         1\n",
       "Name: num_offenses, dtype: int64"
      ]
     },
     "execution_count": 40,
     "metadata": {},
     "output_type": "execute_result"
    }
   ],
   "source": [
    "df.num_offenses.value_counts(dropna=False)"
   ]
  },
  {
   "cell_type": "markdown",
   "metadata": {},
   "source": [
    "## `beat`"
   ]
  },
  {
   "cell_type": "code",
   "execution_count": 41,
   "metadata": {},
   "outputs": [
    {
     "data": {
      "text/plain": [
       "121"
      ]
     },
     "execution_count": 41,
     "metadata": {},
     "output_type": "execute_result"
    }
   ],
   "source": [
    "len(df.beat.value_counts(dropna='False'))"
   ]
  },
  {
   "cell_type": "code",
   "execution_count": 42,
   "metadata": {},
   "outputs": [
    {
     "data": {
      "text/plain": [
       "array(['17E40', '8C10', '7C20', '7C50', '16E20', '10H10', '2A10', '6B10',\n",
       "       '7C10', '1A10', '3B10', '3B40', '6B30', '20G70', '3B50', '14D10',\n",
       "       '15E20', '14D30', '11H30', '10H50', '19G30', '12D10', '14D20',\n",
       "       '19G40', '16E10', '12D20', '3B30', '13D10', '17E20', '12D40',\n",
       "       '5F30', '6B20', '18F50', '8C40', '18F10', '5F20', '8C60', '6B40',\n",
       "       '12D60', '15E30', '8C30', '19G20', '8C50', '17E30', '14D40',\n",
       "       '12D70', '9C40', '8C20', '10H40', '20G80', '11H40', '20G40',\n",
       "       '2A30', '16E40', '7C30', '13D20', '2A20', '2A50', '10H20', '16E30',\n",
       "       '20G50', '15E10', '10H60', '6B50', '11H20', '11H10', '9C30',\n",
       "       '9C20', '13D40', '20G20', '18F60', '24C30', '4F20', '5F10', '4F30',\n",
       "       '1A20', '17E10', '19G50', '18F20', '24C10', '4F10', '2A40', '1A30',\n",
       "       '18F30', '20G30', '18F40', '24C60', '19G10', '1A40', '10H80',\n",
       "       '7C40', '5F40', '2A60', '9C10', '20G60', '14D50', '23J40', '10H70',\n",
       "       '13D30', '10H30', '11H50', '12D50', '6B60', '24C20', '1A50',\n",
       "       '20G10', '15E40', 'UNK', '24C40', '12D30', '23J50', '24C50',\n",
       "       '21I50', '23J30', '21I10', '23J20', '21I30', '21I60', '21I20',\n",
       "       '21I70', '21I40'], dtype=object)"
      ]
     },
     "execution_count": 42,
     "metadata": {},
     "output_type": "execute_result"
    }
   ],
   "source": [
    "df.beat.unique()"
   ]
  },
  {
   "cell_type": "code",
   "execution_count": 43,
   "metadata": {},
   "outputs": [],
   "source": [
    "df.beat = df.beat.str.strip()"
   ]
  },
  {
   "cell_type": "code",
   "execution_count": 44,
   "metadata": {},
   "outputs": [
    {
     "data": {
      "text/plain": [
       "121"
      ]
     },
     "execution_count": 44,
     "metadata": {},
     "output_type": "execute_result"
    }
   ],
   "source": [
    "len(df.beat.unique())"
   ]
  },
  {
   "cell_type": "markdown",
   "metadata": {},
   "source": [
    "## `block_range`"
   ]
  },
  {
   "cell_type": "code",
   "execution_count": 45,
   "metadata": {},
   "outputs": [
    {
     "data": {
      "text/plain": [
       "243"
      ]
     },
     "execution_count": 45,
     "metadata": {},
     "output_type": "execute_result"
    }
   ],
   "source": [
    "len(df.block_range.unique())"
   ]
  },
  {
   "cell_type": "code",
   "execution_count": 46,
   "metadata": {},
   "outputs": [],
   "source": [
    "df.block_range = df.block_range.str.strip()"
   ]
  },
  {
   "cell_type": "code",
   "execution_count": 47,
   "metadata": {},
   "outputs": [
    {
     "data": {
      "text/plain": [
       "243"
      ]
     },
     "execution_count": 47,
     "metadata": {},
     "output_type": "execute_result"
    }
   ],
   "source": [
    "len(df.block_range.unique())"
   ]
  },
  {
   "cell_type": "markdown",
   "metadata": {},
   "source": [
    "## `date`"
   ]
  },
  {
   "cell_type": "code",
   "execution_count": 48,
   "metadata": {},
   "outputs": [
    {
     "data": {
      "text/plain": [
       "dtype('<M8[ns]')"
      ]
     },
     "execution_count": 48,
     "metadata": {},
     "output_type": "execute_result"
    }
   ],
   "source": [
    "df['date'].dtype"
   ]
  },
  {
   "cell_type": "markdown",
   "metadata": {},
   "source": [
    "## `hour`"
   ]
  },
  {
   "cell_type": "code",
   "execution_count": 49,
   "metadata": {},
   "outputs": [
    {
     "data": {
      "text/plain": [
       "18.0    7907\n",
       "12.0    7408\n",
       "22.0    7305\n",
       "20.0    7210\n",
       "19.0    7199\n",
       "17.0    7079\n",
       "0.0     7056\n",
       "21.0    6885\n",
       "15.0    6212\n",
       "16.0    6041\n",
       "23.0    5770\n",
       "14.0    5692\n",
       "13.0    5430\n",
       "8.0     5238\n",
       "10.0    5082\n",
       "11.0    5058\n",
       "9.0     4735\n",
       "7.0     4217\n",
       "1.0     3535\n",
       "2.0     3349\n",
       "6.0     2876\n",
       "3.0     2538\n",
       "4.0     1981\n",
       "5.0     1968\n",
       "Name: hour, dtype: int64"
      ]
     },
     "execution_count": 49,
     "metadata": {},
     "output_type": "execute_result"
    }
   ],
   "source": [
    "df.hour.value_counts(dropna=False)"
   ]
  },
  {
   "cell_type": "code",
   "execution_count": 50,
   "metadata": {},
   "outputs": [
    {
     "data": {
      "text/plain": [
       "dtype('float64')"
      ]
     },
     "execution_count": 50,
     "metadata": {},
     "output_type": "execute_result"
    }
   ],
   "source": [
    "df.hour.dtype"
   ]
  },
  {
   "cell_type": "markdown",
   "metadata": {},
   "source": [
    "## Change dtype "
   ]
  },
  {
   "cell_type": "code",
   "execution_count": 51,
   "metadata": {},
   "outputs": [],
   "source": [
    "df.hour = df.hour.astype('int')"
   ]
  },
  {
   "cell_type": "code",
   "execution_count": 52,
   "metadata": {},
   "outputs": [
    {
     "data": {
      "text/plain": [
       "dtype('int64')"
      ]
     },
     "execution_count": 52,
     "metadata": {},
     "output_type": "execute_result"
    }
   ],
   "source": [
    "df.hour.dtype"
   ]
  },
  {
   "cell_type": "code",
   "execution_count": 53,
   "metadata": {},
   "outputs": [
    {
     "data": {
      "text/plain": [
       "18    7907\n",
       "12    7408\n",
       "22    7305\n",
       "20    7210\n",
       "19    7199\n",
       "17    7079\n",
       "0     7056\n",
       "21    6885\n",
       "15    6212\n",
       "16    6041\n",
       "23    5770\n",
       "14    5692\n",
       "13    5430\n",
       "8     5238\n",
       "10    5082\n",
       "11    5058\n",
       "9     4735\n",
       "7     4217\n",
       "1     3535\n",
       "2     3349\n",
       "6     2876\n",
       "3     2538\n",
       "4     1981\n",
       "5     1968\n",
       "Name: hour, dtype: int64"
      ]
     },
     "execution_count": 53,
     "metadata": {},
     "output_type": "execute_result"
    }
   ],
   "source": [
    "df.hour.value_counts(dropna=False)"
   ]
  },
  {
   "cell_type": "markdown",
   "metadata": {},
   "source": [
    "## `offense_type`"
   ]
  },
  {
   "cell_type": "code",
   "execution_count": 54,
   "metadata": {},
   "outputs": [
    {
     "data": {
      "text/plain": [
       "Theft                 67978\n",
       "Burglary              26630\n",
       "Auto Theft            12672\n",
       "Aggravated Assault    10238\n",
       "Robbery                9385\n",
       "Rape                    663\n",
       "Murder                  205\n",
       "Name: offense_type, dtype: int64"
      ]
     },
     "execution_count": 54,
     "metadata": {},
     "output_type": "execute_result"
    }
   ],
   "source": [
    "df.offense_type.value_counts(dropna=False)"
   ]
  },
  {
   "cell_type": "code",
   "execution_count": 55,
   "metadata": {},
   "outputs": [
    {
     "data": {
      "text/plain": [
       "array(['Murder', 'Rape', 'Robbery', 'Aggravated Assault', 'Burglary',\n",
       "       'Auto Theft', 'Theft'], dtype=object)"
      ]
     },
     "execution_count": 55,
     "metadata": {},
     "output_type": "execute_result"
    }
   ],
   "source": [
    "df.offense_type.unique()"
   ]
  },
  {
   "cell_type": "markdown",
   "metadata": {},
   "source": [
    "## `street_name`"
   ]
  },
  {
   "cell_type": "code",
   "execution_count": 56,
   "metadata": {},
   "outputs": [
    {
     "data": {
      "text/plain": [
       "7553"
      ]
     },
     "execution_count": 56,
     "metadata": {},
     "output_type": "execute_result"
    }
   ],
   "source": [
    "len(df.street_name.value_counts(dropna=False))"
   ]
  },
  {
   "cell_type": "code",
   "execution_count": 57,
   "metadata": {},
   "outputs": [
    {
     "data": {
      "text/plain": [
       "WESTHEIMER          3534\n",
       "GESSNER             2000\n",
       "GULF                1909\n",
       "RICHMOND            1786\n",
       "NORTH               1738\n",
       "SOUTHWEST           1312\n",
       "MAIN                1290\n",
       "WEST SAM HOUSTON    1242\n",
       "BELLAIRE            1242\n",
       "KATY                1236\n",
       "Name: street_name, dtype: int64"
      ]
     },
     "execution_count": 57,
     "metadata": {},
     "output_type": "execute_result"
    }
   ],
   "source": [
    "df.street_name.value_counts(dropna=False)[:10]"
   ]
  },
  {
   "cell_type": "code",
   "execution_count": 58,
   "metadata": {},
   "outputs": [
    {
     "data": {
      "text/plain": [
       "array(['CLARIDGE', 'RIETTA', 'LIBERTY', ..., 'DRYSDALE', 'FLETA',\n",
       "       'SPRUCE HILL'], dtype=object)"
      ]
     },
     "execution_count": 58,
     "metadata": {},
     "output_type": "execute_result"
    }
   ],
   "source": [
    "df.street_name.unique()"
   ]
  },
  {
   "cell_type": "code",
   "execution_count": 59,
   "metadata": {},
   "outputs": [],
   "source": [
    "df.street_name = df.street_name.str.strip()  # no need"
   ]
  },
  {
   "cell_type": "code",
   "execution_count": 60,
   "metadata": {},
   "outputs": [
    {
     "data": {
      "text/plain": [
       "7553"
      ]
     },
     "execution_count": 60,
     "metadata": {},
     "output_type": "execute_result"
    }
   ],
   "source": [
    "len(df.street_name.value_counts(dropna=False))"
   ]
  },
  {
   "cell_type": "markdown",
   "metadata": {},
   "source": [
    "## Organiaze columns"
   ]
  },
  {
   "cell_type": "code",
   "execution_count": 61,
   "metadata": {},
   "outputs": [
    {
     "data": {
      "text/html": [
       "<div>\n",
       "<style scoped>\n",
       "    .dataframe tbody tr th:only-of-type {\n",
       "        vertical-align: middle;\n",
       "    }\n",
       "\n",
       "    .dataframe tbody tr th {\n",
       "        vertical-align: top;\n",
       "    }\n",
       "\n",
       "    .dataframe thead th {\n",
       "        text-align: right;\n",
       "    }\n",
       "</style>\n",
       "<table border=\"1\" class=\"dataframe\">\n",
       "  <thead>\n",
       "    <tr style=\"text-align: right;\">\n",
       "      <th></th>\n",
       "      <th>date</th>\n",
       "      <th>hour</th>\n",
       "      <th>offense_type</th>\n",
       "      <th>beat</th>\n",
       "      <th>block_range</th>\n",
       "      <th>street_name</th>\n",
       "      <th>num_offenses</th>\n",
       "      <th>premise</th>\n",
       "    </tr>\n",
       "  </thead>\n",
       "  <tbody>\n",
       "    <tr>\n",
       "      <th>0</th>\n",
       "      <td>2012-04-05</td>\n",
       "      <td>2</td>\n",
       "      <td>Murder</td>\n",
       "      <td>17E40</td>\n",
       "      <td>6100-6199</td>\n",
       "      <td>CLARIDGE</td>\n",
       "      <td>1</td>\n",
       "      <td>RESIDENCE/HOUSE</td>\n",
       "    </tr>\n",
       "    <tr>\n",
       "      <th>1</th>\n",
       "      <td>2012-04-21</td>\n",
       "      <td>23</td>\n",
       "      <td>Murder</td>\n",
       "      <td>8C10</td>\n",
       "      <td>6200-6299</td>\n",
       "      <td>RIETTA</td>\n",
       "      <td>1</td>\n",
       "      <td>RESIDENCE/HOUSE</td>\n",
       "    </tr>\n",
       "    <tr>\n",
       "      <th>2</th>\n",
       "      <td>2012-04-30</td>\n",
       "      <td>8</td>\n",
       "      <td>Murder</td>\n",
       "      <td>7C20</td>\n",
       "      <td>4000-4099</td>\n",
       "      <td>LIBERTY</td>\n",
       "      <td>1</td>\n",
       "      <td>RESIDENCE/HOUSE</td>\n",
       "    </tr>\n",
       "    <tr>\n",
       "      <th>3</th>\n",
       "      <td>2012-04-12</td>\n",
       "      <td>4</td>\n",
       "      <td>Rape</td>\n",
       "      <td>7C50</td>\n",
       "      <td>19400-19499</td>\n",
       "      <td>BORDERS</td>\n",
       "      <td>1</td>\n",
       "      <td>RESIDENCE/HOUSE</td>\n",
       "    </tr>\n",
       "    <tr>\n",
       "      <th>4</th>\n",
       "      <td>2012-04-23</td>\n",
       "      <td>8</td>\n",
       "      <td>Rape</td>\n",
       "      <td>16E20</td>\n",
       "      <td>4100-4199</td>\n",
       "      <td>KNOTTY OAKS</td>\n",
       "      <td>1</td>\n",
       "      <td>RESIDENCE/HOUSE</td>\n",
       "    </tr>\n",
       "  </tbody>\n",
       "</table>\n",
       "</div>"
      ],
      "text/plain": [
       "        date  hour offense_type   beat  block_range  street_name  \\\n",
       "0 2012-04-05     2       Murder  17E40    6100-6199     CLARIDGE   \n",
       "1 2012-04-21    23       Murder   8C10    6200-6299       RIETTA   \n",
       "2 2012-04-30     8       Murder   7C20    4000-4099      LIBERTY   \n",
       "3 2012-04-12     4         Rape   7C50  19400-19499      BORDERS   \n",
       "4 2012-04-23     8         Rape  16E20    4100-4199  KNOTTY OAKS   \n",
       "\n",
       "   num_offenses          premise  \n",
       "0             1  RESIDENCE/HOUSE  \n",
       "1             1  RESIDENCE/HOUSE  \n",
       "2             1  RESIDENCE/HOUSE  \n",
       "3             1  RESIDENCE/HOUSE  \n",
       "4             1  RESIDENCE/HOUSE  "
      ]
     },
     "execution_count": 61,
     "metadata": {},
     "output_type": "execute_result"
    }
   ],
   "source": [
    "df.head()"
   ]
  },
  {
   "cell_type": "code",
   "execution_count": 63,
   "metadata": {},
   "outputs": [],
   "source": [
    "# order that I want\n",
    "cols = ['date','hour','beat','offense_type','block_range','street_name','premise','num_offenses']"
   ]
  },
  {
   "cell_type": "code",
   "execution_count": 64,
   "metadata": {},
   "outputs": [],
   "source": [
    "df = df.reindex(columns=cols)"
   ]
  },
  {
   "cell_type": "code",
   "execution_count": 65,
   "metadata": {},
   "outputs": [
    {
     "name": "stdout",
     "output_type": "stream",
     "text": [
      "<class 'pandas.core.frame.DataFrame'>\n",
      "Int64Index: 127771 entries, 0 to 127770\n",
      "Data columns (total 8 columns):\n",
      "date            127771 non-null datetime64[ns]\n",
      "hour            127771 non-null int64\n",
      "beat            127771 non-null object\n",
      "offense_type    127771 non-null object\n",
      "block_range     127771 non-null object\n",
      "street_name     127771 non-null object\n",
      "premise         127771 non-null object\n",
      "num_offenses    127771 non-null int64\n",
      "dtypes: datetime64[ns](1), int64(2), object(5)\n",
      "memory usage: 8.8+ MB\n"
     ]
    }
   ],
   "source": [
    "df.info()"
   ]
  },
  {
   "cell_type": "code",
   "execution_count": 67,
   "metadata": {},
   "outputs": [
    {
     "data": {
      "text/html": [
       "<div>\n",
       "<style scoped>\n",
       "    .dataframe tbody tr th:only-of-type {\n",
       "        vertical-align: middle;\n",
       "    }\n",
       "\n",
       "    .dataframe tbody tr th {\n",
       "        vertical-align: top;\n",
       "    }\n",
       "\n",
       "    .dataframe thead th {\n",
       "        text-align: right;\n",
       "    }\n",
       "</style>\n",
       "<table border=\"1\" class=\"dataframe\">\n",
       "  <thead>\n",
       "    <tr style=\"text-align: right;\">\n",
       "      <th></th>\n",
       "      <th>date</th>\n",
       "      <th>hour</th>\n",
       "      <th>beat</th>\n",
       "      <th>offense_type</th>\n",
       "      <th>block_range</th>\n",
       "      <th>street_name</th>\n",
       "      <th>premise</th>\n",
       "      <th>num_offenses</th>\n",
       "    </tr>\n",
       "  </thead>\n",
       "  <tbody>\n",
       "    <tr>\n",
       "      <th>0</th>\n",
       "      <td>2012-04-05</td>\n",
       "      <td>2</td>\n",
       "      <td>17E40</td>\n",
       "      <td>Murder</td>\n",
       "      <td>6100-6199</td>\n",
       "      <td>CLARIDGE</td>\n",
       "      <td>RESIDENCE/HOUSE</td>\n",
       "      <td>1</td>\n",
       "    </tr>\n",
       "    <tr>\n",
       "      <th>1</th>\n",
       "      <td>2012-04-21</td>\n",
       "      <td>23</td>\n",
       "      <td>8C10</td>\n",
       "      <td>Murder</td>\n",
       "      <td>6200-6299</td>\n",
       "      <td>RIETTA</td>\n",
       "      <td>RESIDENCE/HOUSE</td>\n",
       "      <td>1</td>\n",
       "    </tr>\n",
       "    <tr>\n",
       "      <th>2</th>\n",
       "      <td>2012-04-30</td>\n",
       "      <td>8</td>\n",
       "      <td>7C20</td>\n",
       "      <td>Murder</td>\n",
       "      <td>4000-4099</td>\n",
       "      <td>LIBERTY</td>\n",
       "      <td>RESIDENCE/HOUSE</td>\n",
       "      <td>1</td>\n",
       "    </tr>\n",
       "    <tr>\n",
       "      <th>3</th>\n",
       "      <td>2012-04-12</td>\n",
       "      <td>4</td>\n",
       "      <td>7C50</td>\n",
       "      <td>Rape</td>\n",
       "      <td>19400-19499</td>\n",
       "      <td>BORDERS</td>\n",
       "      <td>RESIDENCE/HOUSE</td>\n",
       "      <td>1</td>\n",
       "    </tr>\n",
       "    <tr>\n",
       "      <th>4</th>\n",
       "      <td>2012-04-23</td>\n",
       "      <td>8</td>\n",
       "      <td>16E20</td>\n",
       "      <td>Rape</td>\n",
       "      <td>4100-4199</td>\n",
       "      <td>KNOTTY OAKS</td>\n",
       "      <td>RESIDENCE/HOUSE</td>\n",
       "      <td>1</td>\n",
       "    </tr>\n",
       "  </tbody>\n",
       "</table>\n",
       "</div>"
      ],
      "text/plain": [
       "        date  hour   beat offense_type  block_range  street_name  \\\n",
       "0 2012-04-05     2  17E40       Murder    6100-6199     CLARIDGE   \n",
       "1 2012-04-21    23   8C10       Murder    6200-6299       RIETTA   \n",
       "2 2012-04-30     8   7C20       Murder    4000-4099      LIBERTY   \n",
       "3 2012-04-12     4   7C50         Rape  19400-19499      BORDERS   \n",
       "4 2012-04-23     8  16E20         Rape    4100-4199  KNOTTY OAKS   \n",
       "\n",
       "           premise  num_offenses  \n",
       "0  RESIDENCE/HOUSE             1  \n",
       "1  RESIDENCE/HOUSE             1  \n",
       "2  RESIDENCE/HOUSE             1  \n",
       "3  RESIDENCE/HOUSE             1  \n",
       "4  RESIDENCE/HOUSE             1  "
      ]
     },
     "execution_count": 67,
     "metadata": {},
     "output_type": "execute_result"
    }
   ],
   "source": [
    "df.head()"
   ]
  },
  {
   "cell_type": "markdown",
   "metadata": {},
   "source": [
    "## Display Null values"
   ]
  },
  {
   "cell_type": "code",
   "execution_count": 68,
   "metadata": {},
   "outputs": [
    {
     "data": {
      "text/plain": [
       "date            0\n",
       "hour            0\n",
       "beat            0\n",
       "offense_type    0\n",
       "block_range     0\n",
       "street_name     0\n",
       "premise         0\n",
       "num_offenses    0\n",
       "dtype: int64"
      ]
     },
     "execution_count": 68,
     "metadata": {},
     "output_type": "execute_result"
    }
   ],
   "source": [
    "df.apply(lambda x: sum(x.isnull()))"
   ]
  },
  {
   "cell_type": "markdown",
   "metadata": {},
   "source": [
    "## Save clean data"
   ]
  },
  {
   "cell_type": "code",
   "execution_count": 69,
   "metadata": {},
   "outputs": [
    {
     "data": {
      "text/plain": [
       "'../data/clean_data/'"
      ]
     },
     "execution_count": 69,
     "metadata": {},
     "output_type": "execute_result"
    }
   ],
   "source": [
    "data_directory_saves"
   ]
  },
  {
   "cell_type": "code",
   "execution_count": 70,
   "metadata": {},
   "outputs": [],
   "source": [
    "df.to_csv(data_directory_saves+'crime_2012.csv')"
   ]
  },
  {
   "cell_type": "code",
   "execution_count": null,
   "metadata": {},
   "outputs": [],
   "source": []
  }
 ],
 "metadata": {
  "kernelspec": {
   "display_name": "Python 3",
   "language": "python",
   "name": "python3"
  },
  "language_info": {
   "codemirror_mode": {
    "name": "ipython",
    "version": 3
   },
   "file_extension": ".py",
   "mimetype": "text/x-python",
   "name": "python",
   "nbconvert_exporter": "python",
   "pygments_lexer": "ipython3",
   "version": "3.6.4"
  }
 },
 "nbformat": 4,
 "nbformat_minor": 2
}
