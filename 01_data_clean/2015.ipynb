{
 "cells": [
  {
   "cell_type": "markdown",
   "metadata": {},
   "source": [
    "# Crime data from 2015\n",
    "\n",
    "http://www.houstontx.gov/police/cs/crime-stats-archives.htm"
   ]
  },
  {
   "cell_type": "code",
   "execution_count": 1,
   "metadata": {},
   "outputs": [],
   "source": [
    "import warnings\n",
    "warnings.filterwarnings('ignore')"
   ]
  },
  {
   "cell_type": "code",
   "execution_count": 2,
   "metadata": {},
   "outputs": [],
   "source": [
    "import pandas as pd\n",
    "import glob, os\n",
    "import numpy as np\n",
    "import matplotlib.pyplot as plt\n",
    "import datetime  as dt\n",
    "import seaborn as sns"
   ]
  },
  {
   "cell_type": "markdown",
   "metadata": {},
   "source": [
    "## Data directory"
   ]
  },
  {
   "cell_type": "code",
   "execution_count": 3,
   "metadata": {},
   "outputs": [],
   "source": [
    "year = '2015'"
   ]
  },
  {
   "cell_type": "code",
   "execution_count": 4,
   "metadata": {},
   "outputs": [],
   "source": [
    "# data folder path\n",
    "data_directory = os.path.join('..','data','crime_data/{}'.format(year))\n",
    "data_directory_saves = os.path.join( '..','data','clean_data/')\n",
    "premise_dataset = os.path.join('..','data','crime_data/premise_codes.csv')"
   ]
  },
  {
   "cell_type": "markdown",
   "metadata": {},
   "source": [
    "# combine all fines into one"
   ]
  },
  {
   "cell_type": "code",
   "execution_count": 5,
   "metadata": {},
   "outputs": [],
   "source": [
    "# combine all files into one df\n",
    "all_files = glob.glob(os.path.join(data_directory, \"*.xls\")) \n",
    "df_from_each_file = (pd.read_excel(f) for f in all_files)\n",
    "df   = pd.concat(df_from_each_file, ignore_index=True)"
   ]
  },
  {
   "cell_type": "code",
   "execution_count": 6,
   "metadata": {},
   "outputs": [
    {
     "name": "stdout",
     "output_type": "stream",
     "text": [
      "<class 'pandas.core.frame.DataFrame'>\n",
      "RangeIndex: 120009 entries, 0 to 120008\n",
      "Data columns (total 10 columns):\n",
      "Date            120009 non-null datetime64[ns]\n",
      "Hour            120009 non-null int64\n",
      "Offense Type    120009 non-null object\n",
      "Beat            120009 non-null object\n",
      "Premise         117881 non-null object\n",
      "BlockRange      120009 non-null object\n",
      "StreetName      120009 non-null object\n",
      "Type            120009 non-null object\n",
      "Suffix          120009 non-null object\n",
      "# offenses      120009 non-null int64\n",
      "dtypes: datetime64[ns](1), int64(2), object(7)\n",
      "memory usage: 9.2+ MB\n"
     ]
    }
   ],
   "source": [
    "df.info()"
   ]
  },
  {
   "cell_type": "code",
   "execution_count": 7,
   "metadata": {},
   "outputs": [
    {
     "data": {
      "text/html": [
       "<div>\n",
       "<style scoped>\n",
       "    .dataframe tbody tr th:only-of-type {\n",
       "        vertical-align: middle;\n",
       "    }\n",
       "\n",
       "    .dataframe tbody tr th {\n",
       "        vertical-align: top;\n",
       "    }\n",
       "\n",
       "    .dataframe thead th {\n",
       "        text-align: right;\n",
       "    }\n",
       "</style>\n",
       "<table border=\"1\" class=\"dataframe\">\n",
       "  <thead>\n",
       "    <tr style=\"text-align: right;\">\n",
       "      <th></th>\n",
       "      <th>Date</th>\n",
       "      <th>Hour</th>\n",
       "      <th>Offense Type</th>\n",
       "      <th>Beat</th>\n",
       "      <th>Premise</th>\n",
       "      <th>BlockRange</th>\n",
       "      <th>StreetName</th>\n",
       "      <th>Type</th>\n",
       "      <th>Suffix</th>\n",
       "      <th># offenses</th>\n",
       "    </tr>\n",
       "  </thead>\n",
       "  <tbody>\n",
       "    <tr>\n",
       "      <th>0</th>\n",
       "      <td>2015-02-26</td>\n",
       "      <td>12</td>\n",
       "      <td>Theft</td>\n",
       "      <td>10H10</td>\n",
       "      <td>Road, Street, or Sidewalk</td>\n",
       "      <td>4900-4999</td>\n",
       "      <td>CANAL</td>\n",
       "      <td>ST</td>\n",
       "      <td>-</td>\n",
       "      <td>1</td>\n",
       "    </tr>\n",
       "    <tr>\n",
       "      <th>1</th>\n",
       "      <td>2015-04-05</td>\n",
       "      <td>16</td>\n",
       "      <td>Burglary</td>\n",
       "      <td>10H10</td>\n",
       "      <td>Residence or House</td>\n",
       "      <td>100-199</td>\n",
       "      <td>YORK</td>\n",
       "      <td>-</td>\n",
       "      <td>-</td>\n",
       "      <td>1</td>\n",
       "    </tr>\n",
       "  </tbody>\n",
       "</table>\n",
       "</div>"
      ],
      "text/plain": [
       "        Date  Hour Offense Type   Beat                    Premise BlockRange  \\\n",
       "0 2015-02-26    12        Theft  10H10  Road, Street, or Sidewalk  4900-4999   \n",
       "1 2015-04-05    16     Burglary  10H10         Residence or House    100-199   \n",
       "\n",
       "  StreetName Type Suffix  # offenses  \n",
       "0      CANAL   ST      -           1  \n",
       "1       YORK    -      -           1  "
      ]
     },
     "execution_count": 7,
     "metadata": {},
     "output_type": "execute_result"
    }
   ],
   "source": [
    "df.head(2)"
   ]
  },
  {
   "cell_type": "markdown",
   "metadata": {},
   "source": [
    "## Check for missing values"
   ]
  },
  {
   "cell_type": "code",
   "execution_count": 8,
   "metadata": {},
   "outputs": [
    {
     "data": {
      "text/plain": [
       "Date               0\n",
       "Hour               0\n",
       "Offense Type       0\n",
       "Beat               0\n",
       "Premise         2128\n",
       "BlockRange         0\n",
       "StreetName         0\n",
       "Type               0\n",
       "Suffix             0\n",
       "# offenses         0\n",
       "dtype: int64"
      ]
     },
     "execution_count": 8,
     "metadata": {},
     "output_type": "execute_result"
    }
   ],
   "source": [
    "df.apply(lambda x: sum(x.isnull()))"
   ]
  },
  {
   "cell_type": "code",
   "execution_count": 9,
   "metadata": {},
   "outputs": [
    {
     "data": {
      "image/png": "[encoded data removed]",
      "text/plain": [
       "<Figure size 432x288 with 1 Axes>"
      ]
     },
     "metadata": {},
     "output_type": "display_data"
    }
   ],
   "source": [
    "sns.heatmap(df.isnull(),yticklabels=False,cbar=False,cmap='viridis')\n",
    "plt.title('Null dataset display')\n",
    "plt.show()"
   ]
  },
  {
   "cell_type": "markdown",
   "metadata": {},
   "source": [
    "\n",
    "## Cleanup\n",
    "- lowercase column names\n",
    "- renaming"
   ]
  },
  {
   "cell_type": "code",
   "execution_count": 10,
   "metadata": {},
   "outputs": [],
   "source": [
    "# Map the lowering function to all column names\n",
    "df.columns = map(str.lower, df.columns)"
   ]
  },
  {
   "cell_type": "code",
   "execution_count": 11,
   "metadata": {},
   "outputs": [
    {
     "data": {
      "text/html": [
       "<div>\n",
       "<style scoped>\n",
       "    .dataframe tbody tr th:only-of-type {\n",
       "        vertical-align: middle;\n",
       "    }\n",
       "\n",
       "    .dataframe tbody tr th {\n",
       "        vertical-align: top;\n",
       "    }\n",
       "\n",
       "    .dataframe thead th {\n",
       "        text-align: right;\n",
       "    }\n",
       "</style>\n",
       "<table border=\"1\" class=\"dataframe\">\n",
       "  <thead>\n",
       "    <tr style=\"text-align: right;\">\n",
       "      <th></th>\n",
       "      <th>date</th>\n",
       "      <th>hour</th>\n",
       "      <th>offense type</th>\n",
       "      <th>beat</th>\n",
       "      <th>premise</th>\n",
       "      <th>blockrange</th>\n",
       "      <th>streetname</th>\n",
       "      <th>type</th>\n",
       "      <th>suffix</th>\n",
       "      <th># offenses</th>\n",
       "    </tr>\n",
       "  </thead>\n",
       "  <tbody>\n",
       "    <tr>\n",
       "      <th>0</th>\n",
       "      <td>2015-02-26</td>\n",
       "      <td>12</td>\n",
       "      <td>Theft</td>\n",
       "      <td>10H10</td>\n",
       "      <td>Road, Street, or Sidewalk</td>\n",
       "      <td>4900-4999</td>\n",
       "      <td>CANAL</td>\n",
       "      <td>ST</td>\n",
       "      <td>-</td>\n",
       "      <td>1</td>\n",
       "    </tr>\n",
       "    <tr>\n",
       "      <th>1</th>\n",
       "      <td>2015-04-05</td>\n",
       "      <td>16</td>\n",
       "      <td>Burglary</td>\n",
       "      <td>10H10</td>\n",
       "      <td>Residence or House</td>\n",
       "      <td>100-199</td>\n",
       "      <td>YORK</td>\n",
       "      <td>-</td>\n",
       "      <td>-</td>\n",
       "      <td>1</td>\n",
       "    </tr>\n",
       "    <tr>\n",
       "      <th>2</th>\n",
       "      <td>2015-04-06</td>\n",
       "      <td>20</td>\n",
       "      <td>Rape</td>\n",
       "      <td>10H10</td>\n",
       "      <td>Residence or House</td>\n",
       "      <td>UNK</td>\n",
       "      <td>CANAL</td>\n",
       "      <td>CT</td>\n",
       "      <td>-</td>\n",
       "      <td>1</td>\n",
       "    </tr>\n",
       "    <tr>\n",
       "      <th>3</th>\n",
       "      <td>2015-04-16</td>\n",
       "      <td>8</td>\n",
       "      <td>Theft</td>\n",
       "      <td>10H10</td>\n",
       "      <td>Construction Site</td>\n",
       "      <td>400-499</td>\n",
       "      <td>ENNIS</td>\n",
       "      <td>ST</td>\n",
       "      <td>-</td>\n",
       "      <td>1</td>\n",
       "    </tr>\n",
       "    <tr>\n",
       "      <th>4</th>\n",
       "      <td>2015-04-01</td>\n",
       "      <td>19</td>\n",
       "      <td>Theft</td>\n",
       "      <td>10H10</td>\n",
       "      <td>NaN</td>\n",
       "      <td>UNK</td>\n",
       "      <td>SIDNEY</td>\n",
       "      <td>-</td>\n",
       "      <td>-</td>\n",
       "      <td>1</td>\n",
       "    </tr>\n",
       "  </tbody>\n",
       "</table>\n",
       "</div>"
      ],
      "text/plain": [
       "        date  hour offense type   beat                    premise blockrange  \\\n",
       "0 2015-02-26    12        Theft  10H10  Road, Street, or Sidewalk  4900-4999   \n",
       "1 2015-04-05    16     Burglary  10H10         Residence or House    100-199   \n",
       "2 2015-04-06    20         Rape  10H10         Residence or House        UNK   \n",
       "3 2015-04-16     8        Theft  10H10          Construction Site    400-499   \n",
       "4 2015-04-01    19        Theft  10H10                        NaN        UNK   \n",
       "\n",
       "  streetname type suffix  # offenses  \n",
       "0      CANAL   ST      -           1  \n",
       "1       YORK    -      -           1  \n",
       "2      CANAL   CT      -           1  \n",
       "3      ENNIS   ST      -           1  \n",
       "4     SIDNEY    -      -           1  "
      ]
     },
     "execution_count": 11,
     "metadata": {},
     "output_type": "execute_result"
    }
   ],
   "source": [
    "df.head()"
   ]
  },
  {
   "cell_type": "code",
   "execution_count": null,
   "metadata": {},
   "outputs": [],
   "source": []
  },
  {
   "cell_type": "code",
   "execution_count": 12,
   "metadata": {},
   "outputs": [
    {
     "name": "stdout",
     "output_type": "stream",
     "text": [
      "<class 'pandas.core.frame.DataFrame'>\n",
      "RangeIndex: 120009 entries, 0 to 120008\n",
      "Data columns (total 10 columns):\n",
      "date            120009 non-null datetime64[ns]\n",
      "hour            120009 non-null int64\n",
      "offense_type    120009 non-null object\n",
      "beat            120009 non-null object\n",
      "premise         117881 non-null object\n",
      "block_range     120009 non-null object\n",
      "street_name     120009 non-null object\n",
      "type            120009 non-null object\n",
      "suffix          120009 non-null object\n",
      "num_offenses    120009 non-null int64\n",
      "dtypes: datetime64[ns](1), int64(2), object(7)\n",
      "memory usage: 9.2+ MB\n"
     ]
    }
   ],
   "source": [
    "df.rename(columns={\n",
    "    '# offenses': 'num_offenses',\n",
    "     'offense type': 'offense_type',\n",
    "    'blockrange': 'block_range',\n",
    "    'streetname': 'street_name'\n",
    "}, inplace=True)\n",
    "df.info()"
   ]
  },
  {
   "cell_type": "code",
   "execution_count": 13,
   "metadata": {},
   "outputs": [
    {
     "data": {
      "text/html": [
       "<div>\n",
       "<style scoped>\n",
       "    .dataframe tbody tr th:only-of-type {\n",
       "        vertical-align: middle;\n",
       "    }\n",
       "\n",
       "    .dataframe tbody tr th {\n",
       "        vertical-align: top;\n",
       "    }\n",
       "\n",
       "    .dataframe thead th {\n",
       "        text-align: right;\n",
       "    }\n",
       "</style>\n",
       "<table border=\"1\" class=\"dataframe\">\n",
       "  <thead>\n",
       "    <tr style=\"text-align: right;\">\n",
       "      <th></th>\n",
       "      <th>date</th>\n",
       "      <th>hour</th>\n",
       "      <th>offense_type</th>\n",
       "      <th>beat</th>\n",
       "      <th>premise</th>\n",
       "      <th>block_range</th>\n",
       "      <th>street_name</th>\n",
       "      <th>type</th>\n",
       "      <th>suffix</th>\n",
       "      <th>num_offenses</th>\n",
       "    </tr>\n",
       "  </thead>\n",
       "  <tbody>\n",
       "    <tr>\n",
       "      <th>0</th>\n",
       "      <td>2015-02-26</td>\n",
       "      <td>12</td>\n",
       "      <td>Theft</td>\n",
       "      <td>10H10</td>\n",
       "      <td>Road, Street, or Sidewalk</td>\n",
       "      <td>4900-4999</td>\n",
       "      <td>CANAL</td>\n",
       "      <td>ST</td>\n",
       "      <td>-</td>\n",
       "      <td>1</td>\n",
       "    </tr>\n",
       "    <tr>\n",
       "      <th>1</th>\n",
       "      <td>2015-04-05</td>\n",
       "      <td>16</td>\n",
       "      <td>Burglary</td>\n",
       "      <td>10H10</td>\n",
       "      <td>Residence or House</td>\n",
       "      <td>100-199</td>\n",
       "      <td>YORK</td>\n",
       "      <td>-</td>\n",
       "      <td>-</td>\n",
       "      <td>1</td>\n",
       "    </tr>\n",
       "    <tr>\n",
       "      <th>2</th>\n",
       "      <td>2015-04-06</td>\n",
       "      <td>20</td>\n",
       "      <td>Rape</td>\n",
       "      <td>10H10</td>\n",
       "      <td>Residence or House</td>\n",
       "      <td>UNK</td>\n",
       "      <td>CANAL</td>\n",
       "      <td>CT</td>\n",
       "      <td>-</td>\n",
       "      <td>1</td>\n",
       "    </tr>\n",
       "    <tr>\n",
       "      <th>3</th>\n",
       "      <td>2015-04-16</td>\n",
       "      <td>8</td>\n",
       "      <td>Theft</td>\n",
       "      <td>10H10</td>\n",
       "      <td>Construction Site</td>\n",
       "      <td>400-499</td>\n",
       "      <td>ENNIS</td>\n",
       "      <td>ST</td>\n",
       "      <td>-</td>\n",
       "      <td>1</td>\n",
       "    </tr>\n",
       "    <tr>\n",
       "      <th>4</th>\n",
       "      <td>2015-04-01</td>\n",
       "      <td>19</td>\n",
       "      <td>Theft</td>\n",
       "      <td>10H10</td>\n",
       "      <td>NaN</td>\n",
       "      <td>UNK</td>\n",
       "      <td>SIDNEY</td>\n",
       "      <td>-</td>\n",
       "      <td>-</td>\n",
       "      <td>1</td>\n",
       "    </tr>\n",
       "  </tbody>\n",
       "</table>\n",
       "</div>"
      ],
      "text/plain": [
       "        date  hour offense_type   beat                    premise block_range  \\\n",
       "0 2015-02-26    12        Theft  10H10  Road, Street, or Sidewalk   4900-4999   \n",
       "1 2015-04-05    16     Burglary  10H10         Residence or House     100-199   \n",
       "2 2015-04-06    20         Rape  10H10         Residence or House         UNK   \n",
       "3 2015-04-16     8        Theft  10H10          Construction Site     400-499   \n",
       "4 2015-04-01    19        Theft  10H10                        NaN         UNK   \n",
       "\n",
       "  street_name type suffix  num_offenses  \n",
       "0       CANAL   ST      -             1  \n",
       "1        YORK    -      -             1  \n",
       "2       CANAL   CT      -             1  \n",
       "3       ENNIS   ST      -             1  \n",
       "4      SIDNEY    -      -             1  "
      ]
     },
     "execution_count": 13,
     "metadata": {},
     "output_type": "execute_result"
    }
   ],
   "source": [
    "df.head()"
   ]
  },
  {
   "cell_type": "markdown",
   "metadata": {},
   "source": [
    "## Drop columns"
   ]
  },
  {
   "cell_type": "code",
   "execution_count": 14,
   "metadata": {},
   "outputs": [],
   "source": [
    "df.drop(['suffix','type'],axis=1, inplace=True)"
   ]
  },
  {
   "cell_type": "code",
   "execution_count": 15,
   "metadata": {},
   "outputs": [
    {
     "name": "stdout",
     "output_type": "stream",
     "text": [
      "<class 'pandas.core.frame.DataFrame'>\n",
      "RangeIndex: 120009 entries, 0 to 120008\n",
      "Data columns (total 8 columns):\n",
      "date            120009 non-null datetime64[ns]\n",
      "hour            120009 non-null int64\n",
      "offense_type    120009 non-null object\n",
      "beat            120009 non-null object\n",
      "premise         117881 non-null object\n",
      "block_range     120009 non-null object\n",
      "street_name     120009 non-null object\n",
      "num_offenses    120009 non-null int64\n",
      "dtypes: datetime64[ns](1), int64(2), object(5)\n",
      "memory usage: 7.3+ MB\n"
     ]
    }
   ],
   "source": [
    "df.info()"
   ]
  },
  {
   "cell_type": "code",
   "execution_count": 16,
   "metadata": {},
   "outputs": [
    {
     "data": {
      "text/html": [
       "<div>\n",
       "<style scoped>\n",
       "    .dataframe tbody tr th:only-of-type {\n",
       "        vertical-align: middle;\n",
       "    }\n",
       "\n",
       "    .dataframe tbody tr th {\n",
       "        vertical-align: top;\n",
       "    }\n",
       "\n",
       "    .dataframe thead th {\n",
       "        text-align: right;\n",
       "    }\n",
       "</style>\n",
       "<table border=\"1\" class=\"dataframe\">\n",
       "  <thead>\n",
       "    <tr style=\"text-align: right;\">\n",
       "      <th></th>\n",
       "      <th>date</th>\n",
       "      <th>hour</th>\n",
       "      <th>offense_type</th>\n",
       "      <th>beat</th>\n",
       "      <th>premise</th>\n",
       "      <th>block_range</th>\n",
       "      <th>street_name</th>\n",
       "      <th>num_offenses</th>\n",
       "    </tr>\n",
       "  </thead>\n",
       "  <tbody>\n",
       "    <tr>\n",
       "      <th>0</th>\n",
       "      <td>2015-02-26</td>\n",
       "      <td>12</td>\n",
       "      <td>Theft</td>\n",
       "      <td>10H10</td>\n",
       "      <td>Road, Street, or Sidewalk</td>\n",
       "      <td>4900-4999</td>\n",
       "      <td>CANAL</td>\n",
       "      <td>1</td>\n",
       "    </tr>\n",
       "    <tr>\n",
       "      <th>1</th>\n",
       "      <td>2015-04-05</td>\n",
       "      <td>16</td>\n",
       "      <td>Burglary</td>\n",
       "      <td>10H10</td>\n",
       "      <td>Residence or House</td>\n",
       "      <td>100-199</td>\n",
       "      <td>YORK</td>\n",
       "      <td>1</td>\n",
       "    </tr>\n",
       "    <tr>\n",
       "      <th>2</th>\n",
       "      <td>2015-04-06</td>\n",
       "      <td>20</td>\n",
       "      <td>Rape</td>\n",
       "      <td>10H10</td>\n",
       "      <td>Residence or House</td>\n",
       "      <td>UNK</td>\n",
       "      <td>CANAL</td>\n",
       "      <td>1</td>\n",
       "    </tr>\n",
       "    <tr>\n",
       "      <th>3</th>\n",
       "      <td>2015-04-16</td>\n",
       "      <td>8</td>\n",
       "      <td>Theft</td>\n",
       "      <td>10H10</td>\n",
       "      <td>Construction Site</td>\n",
       "      <td>400-499</td>\n",
       "      <td>ENNIS</td>\n",
       "      <td>1</td>\n",
       "    </tr>\n",
       "    <tr>\n",
       "      <th>4</th>\n",
       "      <td>2015-04-01</td>\n",
       "      <td>19</td>\n",
       "      <td>Theft</td>\n",
       "      <td>10H10</td>\n",
       "      <td>NaN</td>\n",
       "      <td>UNK</td>\n",
       "      <td>SIDNEY</td>\n",
       "      <td>1</td>\n",
       "    </tr>\n",
       "  </tbody>\n",
       "</table>\n",
       "</div>"
      ],
      "text/plain": [
       "        date  hour offense_type   beat                    premise block_range  \\\n",
       "0 2015-02-26    12        Theft  10H10  Road, Street, or Sidewalk   4900-4999   \n",
       "1 2015-04-05    16     Burglary  10H10         Residence or House     100-199   \n",
       "2 2015-04-06    20         Rape  10H10         Residence or House         UNK   \n",
       "3 2015-04-16     8        Theft  10H10          Construction Site     400-499   \n",
       "4 2015-04-01    19        Theft  10H10                        NaN         UNK   \n",
       "\n",
       "  street_name  num_offenses  \n",
       "0       CANAL             1  \n",
       "1        YORK             1  \n",
       "2       CANAL             1  \n",
       "3       ENNIS             1  \n",
       "4      SIDNEY             1  "
      ]
     },
     "execution_count": 16,
     "metadata": {},
     "output_type": "execute_result"
    }
   ],
   "source": [
    "df.head()"
   ]
  },
  {
   "cell_type": "markdown",
   "metadata": {},
   "source": [
    "# Null values"
   ]
  },
  {
   "cell_type": "code",
   "execution_count": 17,
   "metadata": {},
   "outputs": [
    {
     "data": {
      "text/plain": [
       "date               0\n",
       "hour               0\n",
       "offense_type       0\n",
       "beat               0\n",
       "premise         2128\n",
       "block_range        0\n",
       "street_name        0\n",
       "num_offenses       0\n",
       "dtype: int64"
      ]
     },
     "execution_count": 17,
     "metadata": {},
     "output_type": "execute_result"
    }
   ],
   "source": [
    "df.apply(lambda x: sum(x.isnull()))"
   ]
  },
  {
   "cell_type": "code",
   "execution_count": 18,
   "metadata": {},
   "outputs": [
    {
     "data": {
      "text/html": [
       "<div>\n",
       "<style scoped>\n",
       "    .dataframe tbody tr th:only-of-type {\n",
       "        vertical-align: middle;\n",
       "    }\n",
       "\n",
       "    .dataframe tbody tr th {\n",
       "        vertical-align: top;\n",
       "    }\n",
       "\n",
       "    .dataframe thead th {\n",
       "        text-align: right;\n",
       "    }\n",
       "</style>\n",
       "<table border=\"1\" class=\"dataframe\">\n",
       "  <thead>\n",
       "    <tr style=\"text-align: right;\">\n",
       "      <th></th>\n",
       "      <th>date</th>\n",
       "      <th>hour</th>\n",
       "      <th>offense_type</th>\n",
       "      <th>beat</th>\n",
       "      <th>premise</th>\n",
       "      <th>block_range</th>\n",
       "      <th>street_name</th>\n",
       "      <th>num_offenses</th>\n",
       "    </tr>\n",
       "  </thead>\n",
       "  <tbody>\n",
       "    <tr>\n",
       "      <th>119414</th>\n",
       "      <td>2015-09-19</td>\n",
       "      <td>22</td>\n",
       "      <td>Theft</td>\n",
       "      <td>8C10</td>\n",
       "      <td>NaN</td>\n",
       "      <td>7100-7199</td>\n",
       "      <td>TIDWELL</td>\n",
       "      <td>1</td>\n",
       "    </tr>\n",
       "    <tr>\n",
       "      <th>119606</th>\n",
       "      <td>2015-09-16</td>\n",
       "      <td>8</td>\n",
       "      <td>Burglary</td>\n",
       "      <td>8C50</td>\n",
       "      <td>NaN</td>\n",
       "      <td>8700-8799</td>\n",
       "      <td>TIDWELL</td>\n",
       "      <td>1</td>\n",
       "    </tr>\n",
       "    <tr>\n",
       "      <th>119608</th>\n",
       "      <td>2015-09-03</td>\n",
       "      <td>13</td>\n",
       "      <td>Theft</td>\n",
       "      <td>8C50</td>\n",
       "      <td>NaN</td>\n",
       "      <td>9500-9599</td>\n",
       "      <td>MESA</td>\n",
       "      <td>1</td>\n",
       "    </tr>\n",
       "    <tr>\n",
       "      <th>119705</th>\n",
       "      <td>2015-09-01</td>\n",
       "      <td>12</td>\n",
       "      <td>Auto Theft</td>\n",
       "      <td>9C10</td>\n",
       "      <td>NaN</td>\n",
       "      <td>9000-9099</td>\n",
       "      <td>CLINTON</td>\n",
       "      <td>1</td>\n",
       "    </tr>\n",
       "    <tr>\n",
       "      <th>119708</th>\n",
       "      <td>2015-09-25</td>\n",
       "      <td>10</td>\n",
       "      <td>Theft</td>\n",
       "      <td>9C10</td>\n",
       "      <td>NaN</td>\n",
       "      <td>UNK</td>\n",
       "      <td>FLAGSHIP</td>\n",
       "      <td>1</td>\n",
       "    </tr>\n",
       "    <tr>\n",
       "      <th>119838</th>\n",
       "      <td>2014-09-30</td>\n",
       "      <td>4</td>\n",
       "      <td>Rape</td>\n",
       "      <td>9C40</td>\n",
       "      <td>NaN</td>\n",
       "      <td>13100-13199</td>\n",
       "      <td>EAST</td>\n",
       "      <td>1</td>\n",
       "    </tr>\n",
       "    <tr>\n",
       "      <th>119846</th>\n",
       "      <td>2015-09-24</td>\n",
       "      <td>5</td>\n",
       "      <td>Burglary</td>\n",
       "      <td>9C40</td>\n",
       "      <td>NaN</td>\n",
       "      <td>1200-1299</td>\n",
       "      <td>FEDERAL</td>\n",
       "      <td>1</td>\n",
       "    </tr>\n",
       "    <tr>\n",
       "      <th>119885</th>\n",
       "      <td>2015-09-18</td>\n",
       "      <td>16</td>\n",
       "      <td>Theft</td>\n",
       "      <td>9C40</td>\n",
       "      <td>NaN</td>\n",
       "      <td>12400-12499</td>\n",
       "      <td>EAST</td>\n",
       "      <td>1</td>\n",
       "    </tr>\n",
       "    <tr>\n",
       "      <th>119909</th>\n",
       "      <td>2015-09-18</td>\n",
       "      <td>21</td>\n",
       "      <td>Auto Theft</td>\n",
       "      <td>9C40</td>\n",
       "      <td>NaN</td>\n",
       "      <td>12600-12699</td>\n",
       "      <td>IH 10</td>\n",
       "      <td>1</td>\n",
       "    </tr>\n",
       "    <tr>\n",
       "      <th>119920</th>\n",
       "      <td>2015-09-10</td>\n",
       "      <td>20</td>\n",
       "      <td>Theft</td>\n",
       "      <td>9C40</td>\n",
       "      <td>NaN</td>\n",
       "      <td>12200-12299</td>\n",
       "      <td>EAST</td>\n",
       "      <td>1</td>\n",
       "    </tr>\n",
       "  </tbody>\n",
       "</table>\n",
       "</div>"
      ],
      "text/plain": [
       "             date  hour offense_type  beat premise  block_range street_name  \\\n",
       "119414 2015-09-19    22        Theft  8C10     NaN    7100-7199     TIDWELL   \n",
       "119606 2015-09-16     8     Burglary  8C50     NaN    8700-8799     TIDWELL   \n",
       "119608 2015-09-03    13        Theft  8C50     NaN    9500-9599        MESA   \n",
       "119705 2015-09-01    12   Auto Theft  9C10     NaN    9000-9099     CLINTON   \n",
       "119708 2015-09-25    10        Theft  9C10     NaN          UNK    FLAGSHIP   \n",
       "119838 2014-09-30     4         Rape  9C40     NaN  13100-13199        EAST   \n",
       "119846 2015-09-24     5     Burglary  9C40     NaN    1200-1299     FEDERAL   \n",
       "119885 2015-09-18    16        Theft  9C40     NaN  12400-12499        EAST   \n",
       "119909 2015-09-18    21   Auto Theft  9C40     NaN  12600-12699       IH 10   \n",
       "119920 2015-09-10    20        Theft  9C40     NaN  12200-12299        EAST   \n",
       "\n",
       "        num_offenses  \n",
       "119414             1  \n",
       "119606             1  \n",
       "119608             1  \n",
       "119705             1  \n",
       "119708             1  \n",
       "119838             1  \n",
       "119846             1  \n",
       "119885             1  \n",
       "119909             1  \n",
       "119920             1  "
      ]
     },
     "execution_count": 18,
     "metadata": {},
     "output_type": "execute_result"
    }
   ],
   "source": [
    "df[df.isnull().any(axis=1)][-10:]  # display last 10"
   ]
  },
  {
   "cell_type": "markdown",
   "metadata": {},
   "source": [
    "### Drop rows with more than 3 null values"
   ]
  },
  {
   "cell_type": "code",
   "execution_count": 19,
   "metadata": {},
   "outputs": [],
   "source": [
    "df.dropna(thresh=3,inplace=True)"
   ]
  },
  {
   "cell_type": "code",
   "execution_count": 20,
   "metadata": {},
   "outputs": [
    {
     "data": {
      "text/html": [
       "<div>\n",
       "<style scoped>\n",
       "    .dataframe tbody tr th:only-of-type {\n",
       "        vertical-align: middle;\n",
       "    }\n",
       "\n",
       "    .dataframe tbody tr th {\n",
       "        vertical-align: top;\n",
       "    }\n",
       "\n",
       "    .dataframe thead th {\n",
       "        text-align: right;\n",
       "    }\n",
       "</style>\n",
       "<table border=\"1\" class=\"dataframe\">\n",
       "  <thead>\n",
       "    <tr style=\"text-align: right;\">\n",
       "      <th></th>\n",
       "      <th>date</th>\n",
       "      <th>hour</th>\n",
       "      <th>offense_type</th>\n",
       "      <th>beat</th>\n",
       "      <th>premise</th>\n",
       "      <th>block_range</th>\n",
       "      <th>street_name</th>\n",
       "      <th>num_offenses</th>\n",
       "    </tr>\n",
       "  </thead>\n",
       "  <tbody>\n",
       "    <tr>\n",
       "      <th>119414</th>\n",
       "      <td>2015-09-19</td>\n",
       "      <td>22</td>\n",
       "      <td>Theft</td>\n",
       "      <td>8C10</td>\n",
       "      <td>NaN</td>\n",
       "      <td>7100-7199</td>\n",
       "      <td>TIDWELL</td>\n",
       "      <td>1</td>\n",
       "    </tr>\n",
       "    <tr>\n",
       "      <th>119606</th>\n",
       "      <td>2015-09-16</td>\n",
       "      <td>8</td>\n",
       "      <td>Burglary</td>\n",
       "      <td>8C50</td>\n",
       "      <td>NaN</td>\n",
       "      <td>8700-8799</td>\n",
       "      <td>TIDWELL</td>\n",
       "      <td>1</td>\n",
       "    </tr>\n",
       "    <tr>\n",
       "      <th>119608</th>\n",
       "      <td>2015-09-03</td>\n",
       "      <td>13</td>\n",
       "      <td>Theft</td>\n",
       "      <td>8C50</td>\n",
       "      <td>NaN</td>\n",
       "      <td>9500-9599</td>\n",
       "      <td>MESA</td>\n",
       "      <td>1</td>\n",
       "    </tr>\n",
       "    <tr>\n",
       "      <th>119705</th>\n",
       "      <td>2015-09-01</td>\n",
       "      <td>12</td>\n",
       "      <td>Auto Theft</td>\n",
       "      <td>9C10</td>\n",
       "      <td>NaN</td>\n",
       "      <td>9000-9099</td>\n",
       "      <td>CLINTON</td>\n",
       "      <td>1</td>\n",
       "    </tr>\n",
       "    <tr>\n",
       "      <th>119708</th>\n",
       "      <td>2015-09-25</td>\n",
       "      <td>10</td>\n",
       "      <td>Theft</td>\n",
       "      <td>9C10</td>\n",
       "      <td>NaN</td>\n",
       "      <td>UNK</td>\n",
       "      <td>FLAGSHIP</td>\n",
       "      <td>1</td>\n",
       "    </tr>\n",
       "    <tr>\n",
       "      <th>119838</th>\n",
       "      <td>2014-09-30</td>\n",
       "      <td>4</td>\n",
       "      <td>Rape</td>\n",
       "      <td>9C40</td>\n",
       "      <td>NaN</td>\n",
       "      <td>13100-13199</td>\n",
       "      <td>EAST</td>\n",
       "      <td>1</td>\n",
       "    </tr>\n",
       "    <tr>\n",
       "      <th>119846</th>\n",
       "      <td>2015-09-24</td>\n",
       "      <td>5</td>\n",
       "      <td>Burglary</td>\n",
       "      <td>9C40</td>\n",
       "      <td>NaN</td>\n",
       "      <td>1200-1299</td>\n",
       "      <td>FEDERAL</td>\n",
       "      <td>1</td>\n",
       "    </tr>\n",
       "    <tr>\n",
       "      <th>119885</th>\n",
       "      <td>2015-09-18</td>\n",
       "      <td>16</td>\n",
       "      <td>Theft</td>\n",
       "      <td>9C40</td>\n",
       "      <td>NaN</td>\n",
       "      <td>12400-12499</td>\n",
       "      <td>EAST</td>\n",
       "      <td>1</td>\n",
       "    </tr>\n",
       "    <tr>\n",
       "      <th>119909</th>\n",
       "      <td>2015-09-18</td>\n",
       "      <td>21</td>\n",
       "      <td>Auto Theft</td>\n",
       "      <td>9C40</td>\n",
       "      <td>NaN</td>\n",
       "      <td>12600-12699</td>\n",
       "      <td>IH 10</td>\n",
       "      <td>1</td>\n",
       "    </tr>\n",
       "    <tr>\n",
       "      <th>119920</th>\n",
       "      <td>2015-09-10</td>\n",
       "      <td>20</td>\n",
       "      <td>Theft</td>\n",
       "      <td>9C40</td>\n",
       "      <td>NaN</td>\n",
       "      <td>12200-12299</td>\n",
       "      <td>EAST</td>\n",
       "      <td>1</td>\n",
       "    </tr>\n",
       "  </tbody>\n",
       "</table>\n",
       "</div>"
      ],
      "text/plain": [
       "             date  hour offense_type  beat premise  block_range street_name  \\\n",
       "119414 2015-09-19    22        Theft  8C10     NaN    7100-7199     TIDWELL   \n",
       "119606 2015-09-16     8     Burglary  8C50     NaN    8700-8799     TIDWELL   \n",
       "119608 2015-09-03    13        Theft  8C50     NaN    9500-9599        MESA   \n",
       "119705 2015-09-01    12   Auto Theft  9C10     NaN    9000-9099     CLINTON   \n",
       "119708 2015-09-25    10        Theft  9C10     NaN          UNK    FLAGSHIP   \n",
       "119838 2014-09-30     4         Rape  9C40     NaN  13100-13199        EAST   \n",
       "119846 2015-09-24     5     Burglary  9C40     NaN    1200-1299     FEDERAL   \n",
       "119885 2015-09-18    16        Theft  9C40     NaN  12400-12499        EAST   \n",
       "119909 2015-09-18    21   Auto Theft  9C40     NaN  12600-12699       IH 10   \n",
       "119920 2015-09-10    20        Theft  9C40     NaN  12200-12299        EAST   \n",
       "\n",
       "        num_offenses  \n",
       "119414             1  \n",
       "119606             1  \n",
       "119608             1  \n",
       "119705             1  \n",
       "119708             1  \n",
       "119838             1  \n",
       "119846             1  \n",
       "119885             1  \n",
       "119909             1  \n",
       "119920             1  "
      ]
     },
     "execution_count": 20,
     "metadata": {},
     "output_type": "execute_result"
    }
   ],
   "source": [
    "df[df.isnull().any(axis=1)][-10:]  # display last 10"
   ]
  },
  {
   "cell_type": "code",
   "execution_count": null,
   "metadata": {},
   "outputs": [],
   "source": []
  },
  {
   "cell_type": "markdown",
   "metadata": {},
   "source": [
    "### Replace null values on premise_code to 'none'"
   ]
  },
  {
   "cell_type": "code",
   "execution_count": 21,
   "metadata": {},
   "outputs": [],
   "source": [
    "df.premise.fillna('UNK',inplace=True)"
   ]
  },
  {
   "cell_type": "code",
   "execution_count": 22,
   "metadata": {},
   "outputs": [
    {
     "data": {
      "text/plain": [
       "date            0\n",
       "hour            0\n",
       "offense_type    0\n",
       "beat            0\n",
       "premise         0\n",
       "block_range     0\n",
       "street_name     0\n",
       "num_offenses    0\n",
       "dtype: int64"
      ]
     },
     "execution_count": 22,
     "metadata": {},
     "output_type": "execute_result"
    }
   ],
   "source": [
    "df.apply(lambda x: sum(x.isnull()))"
   ]
  },
  {
   "cell_type": "markdown",
   "metadata": {},
   "source": [
    "# Inspect each column"
   ]
  },
  {
   "cell_type": "markdown",
   "metadata": {},
   "source": [
    "## `num_offenses`"
   ]
  },
  {
   "cell_type": "code",
   "execution_count": 23,
   "metadata": {},
   "outputs": [
    {
     "data": {
      "text/html": [
       "<div>\n",
       "<style scoped>\n",
       "    .dataframe tbody tr th:only-of-type {\n",
       "        vertical-align: middle;\n",
       "    }\n",
       "\n",
       "    .dataframe tbody tr th {\n",
       "        vertical-align: top;\n",
       "    }\n",
       "\n",
       "    .dataframe thead th {\n",
       "        text-align: right;\n",
       "    }\n",
       "</style>\n",
       "<table border=\"1\" class=\"dataframe\">\n",
       "  <thead>\n",
       "    <tr style=\"text-align: right;\">\n",
       "      <th></th>\n",
       "      <th>date</th>\n",
       "      <th>hour</th>\n",
       "      <th>offense_type</th>\n",
       "      <th>beat</th>\n",
       "      <th>premise</th>\n",
       "      <th>block_range</th>\n",
       "      <th>street_name</th>\n",
       "      <th>num_offenses</th>\n",
       "    </tr>\n",
       "  </thead>\n",
       "  <tbody>\n",
       "    <tr>\n",
       "      <th>0</th>\n",
       "      <td>2015-02-26</td>\n",
       "      <td>12</td>\n",
       "      <td>Theft</td>\n",
       "      <td>10H10</td>\n",
       "      <td>Road, Street, or Sidewalk</td>\n",
       "      <td>4900-4999</td>\n",
       "      <td>CANAL</td>\n",
       "      <td>1</td>\n",
       "    </tr>\n",
       "    <tr>\n",
       "      <th>1</th>\n",
       "      <td>2015-04-05</td>\n",
       "      <td>16</td>\n",
       "      <td>Burglary</td>\n",
       "      <td>10H10</td>\n",
       "      <td>Residence or House</td>\n",
       "      <td>100-199</td>\n",
       "      <td>YORK</td>\n",
       "      <td>1</td>\n",
       "    </tr>\n",
       "    <tr>\n",
       "      <th>2</th>\n",
       "      <td>2015-04-06</td>\n",
       "      <td>20</td>\n",
       "      <td>Rape</td>\n",
       "      <td>10H10</td>\n",
       "      <td>Residence or House</td>\n",
       "      <td>UNK</td>\n",
       "      <td>CANAL</td>\n",
       "      <td>1</td>\n",
       "    </tr>\n",
       "    <tr>\n",
       "      <th>3</th>\n",
       "      <td>2015-04-16</td>\n",
       "      <td>8</td>\n",
       "      <td>Theft</td>\n",
       "      <td>10H10</td>\n",
       "      <td>Construction Site</td>\n",
       "      <td>400-499</td>\n",
       "      <td>ENNIS</td>\n",
       "      <td>1</td>\n",
       "    </tr>\n",
       "    <tr>\n",
       "      <th>4</th>\n",
       "      <td>2015-04-01</td>\n",
       "      <td>19</td>\n",
       "      <td>Theft</td>\n",
       "      <td>10H10</td>\n",
       "      <td>UNK</td>\n",
       "      <td>UNK</td>\n",
       "      <td>SIDNEY</td>\n",
       "      <td>1</td>\n",
       "    </tr>\n",
       "  </tbody>\n",
       "</table>\n",
       "</div>"
      ],
      "text/plain": [
       "        date  hour offense_type   beat                    premise block_range  \\\n",
       "0 2015-02-26    12        Theft  10H10  Road, Street, or Sidewalk   4900-4999   \n",
       "1 2015-04-05    16     Burglary  10H10         Residence or House     100-199   \n",
       "2 2015-04-06    20         Rape  10H10         Residence or House         UNK   \n",
       "3 2015-04-16     8        Theft  10H10          Construction Site     400-499   \n",
       "4 2015-04-01    19        Theft  10H10                        UNK         UNK   \n",
       "\n",
       "  street_name  num_offenses  \n",
       "0       CANAL             1  \n",
       "1        YORK             1  \n",
       "2       CANAL             1  \n",
       "3       ENNIS             1  \n",
       "4      SIDNEY             1  "
      ]
     },
     "execution_count": 23,
     "metadata": {},
     "output_type": "execute_result"
    }
   ],
   "source": [
    "df.head()"
   ]
  },
  {
   "cell_type": "code",
   "execution_count": 24,
   "metadata": {},
   "outputs": [
    {
     "data": {
      "text/plain": [
       "1     118206\n",
       "2       1539\n",
       "3        183\n",
       "4         40\n",
       "5         14\n",
       "6         10\n",
       "8          5\n",
       "7          3\n",
       "17         2\n",
       "16         2\n",
       "9          2\n",
       "33         1\n",
       "13         1\n",
       "12         1\n",
       "Name: num_offenses, dtype: int64"
      ]
     },
     "execution_count": 24,
     "metadata": {},
     "output_type": "execute_result"
    }
   ],
   "source": [
    "df.num_offenses.value_counts(dropna=False)"
   ]
  },
  {
   "cell_type": "code",
   "execution_count": 25,
   "metadata": {},
   "outputs": [
    {
     "data": {
      "text/plain": [
       "dtype('int64')"
      ]
     },
     "execution_count": 25,
     "metadata": {},
     "output_type": "execute_result"
    }
   ],
   "source": [
    "df.num_offenses.dtype"
   ]
  },
  {
   "cell_type": "markdown",
   "metadata": {},
   "source": [
    "### Change the type from float to integer"
   ]
  },
  {
   "cell_type": "code",
   "execution_count": 26,
   "metadata": {},
   "outputs": [],
   "source": [
    "df.num_offenses = df.num_offenses.astype('int')"
   ]
  },
  {
   "cell_type": "code",
   "execution_count": 27,
   "metadata": {},
   "outputs": [
    {
     "data": {
      "text/plain": [
       "dtype('int64')"
      ]
     },
     "execution_count": 27,
     "metadata": {},
     "output_type": "execute_result"
    }
   ],
   "source": [
    "df.num_offenses.dtype"
   ]
  },
  {
   "cell_type": "code",
   "execution_count": 28,
   "metadata": {},
   "outputs": [
    {
     "data": {
      "text/plain": [
       "1     118206\n",
       "2       1539\n",
       "3        183\n",
       "4         40\n",
       "5         14\n",
       "6         10\n",
       "8          5\n",
       "7          3\n",
       "17         2\n",
       "16         2\n",
       "9          2\n",
       "33         1\n",
       "13         1\n",
       "12         1\n",
       "Name: num_offenses, dtype: int64"
      ]
     },
     "execution_count": 28,
     "metadata": {},
     "output_type": "execute_result"
    }
   ],
   "source": [
    "df.num_offenses.value_counts(dropna=False)"
   ]
  },
  {
   "cell_type": "markdown",
   "metadata": {},
   "source": [
    "## `beat`"
   ]
  },
  {
   "cell_type": "code",
   "execution_count": 29,
   "metadata": {},
   "outputs": [
    {
     "data": {
      "text/plain": [
       "119"
      ]
     },
     "execution_count": 29,
     "metadata": {},
     "output_type": "execute_result"
    }
   ],
   "source": [
    "len(df.beat.value_counts(dropna='False'))"
   ]
  },
  {
   "cell_type": "code",
   "execution_count": 30,
   "metadata": {},
   "outputs": [
    {
     "data": {
      "text/plain": [
       "array(['10H10', '10H20', '10H30', '10H40', '10H50', '10H60', '10H70',\n",
       "       '10H80', '11H10', '11H20', '11H30', '11H40', '11H50', '12D10',\n",
       "       '12D20', '12D30', '12D40', '12D50', '12D60', '12D70', '13D10',\n",
       "       '13D20', '13D30', '13D40', '14D10', '14D20', '14D30', '14D40',\n",
       "       '14D50', '15E10', '15E20', '15E30', '15E40', '16E10', '16E20',\n",
       "       '16E30', '16E40', '17E10', '17E20', '17E30', '17E40', '18F10',\n",
       "       '18F20', '18F30', '18F40', '18F50', '18F60', '19G10', '19G20',\n",
       "       '19G30', '19G40', '19G50', '1A10', '1A20', '1A30', '1A40', '1A50',\n",
       "       '20G10', '20G20', '20G30', '20G40', '20G50', '20G60', '20G70',\n",
       "       '20G80', '21I10', '21I30', '21I50', '23J50', '24C10', '24C20',\n",
       "       '24C30', '24C40', '24C50', '24C60', '2A10', '2A20', '2A30', '2A40',\n",
       "       '2A50', '2A60', '3B10', '3B30', '3B40', '3B50', '4F10', '4F20',\n",
       "       '4F30', '5F10', '5F20', '5F30', '5F40', '6B10', '6B20', '6B30',\n",
       "       '6B40', '6B50', '6B60', '7C10', '7C20', '7C30', '7C40', '7C50',\n",
       "       '8C10', '8C20', '8C30', '8C40', '8C50', '8C60', '9C10', '9C20',\n",
       "       '9C30', '9C40', 'UNK', '21I40', '21I60', '21I20', '3B20', '21I70'],\n",
       "      dtype=object)"
      ]
     },
     "execution_count": 30,
     "metadata": {},
     "output_type": "execute_result"
    }
   ],
   "source": [
    "df.beat.unique()"
   ]
  },
  {
   "cell_type": "code",
   "execution_count": 31,
   "metadata": {},
   "outputs": [],
   "source": [
    "df.beat = df.beat.str.strip()"
   ]
  },
  {
   "cell_type": "code",
   "execution_count": 32,
   "metadata": {},
   "outputs": [
    {
     "data": {
      "text/plain": [
       "119"
      ]
     },
     "execution_count": 32,
     "metadata": {},
     "output_type": "execute_result"
    }
   ],
   "source": [
    "len(df.beat.unique())"
   ]
  },
  {
   "cell_type": "markdown",
   "metadata": {},
   "source": [
    "## `block_range`"
   ]
  },
  {
   "cell_type": "code",
   "execution_count": 33,
   "metadata": {},
   "outputs": [
    {
     "data": {
      "text/plain": [
       "245"
      ]
     },
     "execution_count": 33,
     "metadata": {},
     "output_type": "execute_result"
    }
   ],
   "source": [
    "len(df.block_range.unique())"
   ]
  },
  {
   "cell_type": "code",
   "execution_count": 34,
   "metadata": {},
   "outputs": [],
   "source": [
    "df.block_range = df.block_range.str.strip()"
   ]
  },
  {
   "cell_type": "code",
   "execution_count": 35,
   "metadata": {},
   "outputs": [
    {
     "data": {
      "text/plain": [
       "245"
      ]
     },
     "execution_count": 35,
     "metadata": {},
     "output_type": "execute_result"
    }
   ],
   "source": [
    "len(df.block_range.unique())"
   ]
  },
  {
   "cell_type": "markdown",
   "metadata": {},
   "source": [
    "## `date`"
   ]
  },
  {
   "cell_type": "code",
   "execution_count": 36,
   "metadata": {},
   "outputs": [
    {
     "data": {
      "text/plain": [
       "dtype('<M8[ns]')"
      ]
     },
     "execution_count": 36,
     "metadata": {},
     "output_type": "execute_result"
    }
   ],
   "source": [
    "df['date'].dtype"
   ]
  },
  {
   "cell_type": "markdown",
   "metadata": {},
   "source": [
    "## `hour`"
   ]
  },
  {
   "cell_type": "code",
   "execution_count": 37,
   "metadata": {},
   "outputs": [
    {
     "data": {
      "text/plain": [
       "15    7474\n",
       "14    7352\n",
       "16    7325\n",
       "12    7061\n",
       "11    7032\n",
       "10    7025\n",
       "13    6950\n",
       "9     6790\n",
       "17    6680\n",
       "8     6151\n",
       "18    5998\n",
       "19    5571\n",
       "20    5300\n",
       "7     4825\n",
       "21    4547\n",
       "22    4326\n",
       "23    3749\n",
       "6     3064\n",
       "0     2889\n",
       "1     2434\n",
       "2     2216\n",
       "5     1831\n",
       "3     1796\n",
       "4     1623\n",
       "Name: hour, dtype: int64"
      ]
     },
     "execution_count": 37,
     "metadata": {},
     "output_type": "execute_result"
    }
   ],
   "source": [
    "df.hour.value_counts(dropna=False)"
   ]
  },
  {
   "cell_type": "code",
   "execution_count": 38,
   "metadata": {},
   "outputs": [
    {
     "data": {
      "text/plain": [
       "dtype('int64')"
      ]
     },
     "execution_count": 38,
     "metadata": {},
     "output_type": "execute_result"
    }
   ],
   "source": [
    "df.hour.dtype"
   ]
  },
  {
   "cell_type": "markdown",
   "metadata": {},
   "source": [
    "## Change dtype "
   ]
  },
  {
   "cell_type": "code",
   "execution_count": 39,
   "metadata": {},
   "outputs": [],
   "source": [
    "df.hour = df.hour.astype('int')"
   ]
  },
  {
   "cell_type": "code",
   "execution_count": 40,
   "metadata": {},
   "outputs": [
    {
     "data": {
      "text/plain": [
       "dtype('int64')"
      ]
     },
     "execution_count": 40,
     "metadata": {},
     "output_type": "execute_result"
    }
   ],
   "source": [
    "df.hour.dtype"
   ]
  },
  {
   "cell_type": "code",
   "execution_count": 41,
   "metadata": {},
   "outputs": [
    {
     "data": {
      "text/plain": [
       "15    7474\n",
       "14    7352\n",
       "16    7325\n",
       "12    7061\n",
       "11    7032\n",
       "10    7025\n",
       "13    6950\n",
       "9     6790\n",
       "17    6680\n",
       "8     6151\n",
       "18    5998\n",
       "19    5571\n",
       "20    5300\n",
       "7     4825\n",
       "21    4547\n",
       "22    4326\n",
       "23    3749\n",
       "6     3064\n",
       "0     2889\n",
       "1     2434\n",
       "2     2216\n",
       "5     1831\n",
       "3     1796\n",
       "4     1623\n",
       "Name: hour, dtype: int64"
      ]
     },
     "execution_count": 41,
     "metadata": {},
     "output_type": "execute_result"
    }
   ],
   "source": [
    "df.hour.value_counts(dropna=False)"
   ]
  },
  {
   "cell_type": "markdown",
   "metadata": {},
   "source": [
    "## `offense_type`"
   ]
  },
  {
   "cell_type": "code",
   "execution_count": 42,
   "metadata": {},
   "outputs": [
    {
     "data": {
      "text/plain": [
       "Theft                 66309\n",
       "Burglary              19824\n",
       "Auto Theft            13113\n",
       "Robbery               10274\n",
       "Aggravated Assault     9209\n",
       "Rape                    985\n",
       "Murder                  287\n",
       "1                         8\n",
       "Name: offense_type, dtype: int64"
      ]
     },
     "execution_count": 42,
     "metadata": {},
     "output_type": "execute_result"
    }
   ],
   "source": [
    "df.offense_type.value_counts(dropna=False)"
   ]
  },
  {
   "cell_type": "code",
   "execution_count": 43,
   "metadata": {},
   "outputs": [
    {
     "data": {
      "text/plain": [
       "array(['Theft', 'Burglary', 'Rape', 'Murder', 'Auto Theft',\n",
       "       'Aggravated Assault', 'Robbery', 1], dtype=object)"
      ]
     },
     "execution_count": 43,
     "metadata": {},
     "output_type": "execute_result"
    }
   ],
   "source": [
    "df.offense_type.unique()"
   ]
  },
  {
   "cell_type": "markdown",
   "metadata": {},
   "source": [
    "## `street_name`"
   ]
  },
  {
   "cell_type": "code",
   "execution_count": 44,
   "metadata": {},
   "outputs": [
    {
     "data": {
      "text/plain": [
       "date            0\n",
       "hour            0\n",
       "offense_type    0\n",
       "beat            0\n",
       "premise         0\n",
       "block_range     0\n",
       "street_name     0\n",
       "num_offenses    0\n",
       "dtype: int64"
      ]
     },
     "execution_count": 44,
     "metadata": {},
     "output_type": "execute_result"
    }
   ],
   "source": [
    "df.apply(lambda x: sum(x.isnull()))"
   ]
  },
  {
   "cell_type": "code",
   "execution_count": 45,
   "metadata": {},
   "outputs": [
    {
     "data": {
      "text/plain": [
       "7918"
      ]
     },
     "execution_count": 45,
     "metadata": {},
     "output_type": "execute_result"
    }
   ],
   "source": [
    "len(df.street_name.value_counts(dropna=False))"
   ]
  },
  {
   "cell_type": "code",
   "execution_count": 46,
   "metadata": {},
   "outputs": [
    {
     "data": {
      "text/plain": [
       "WESTHEIMER     3623\n",
       "GULF           2138\n",
       "SAM HOUSTON    1718\n",
       "NORTH          1701\n",
       "LOOP           1573\n",
       "GESSNER        1567\n",
       "RICHMOND       1432\n",
       "KATY           1378\n",
       "SOUTHWEST      1365\n",
       "MAIN           1135\n",
       "Name: street_name, dtype: int64"
      ]
     },
     "execution_count": 46,
     "metadata": {},
     "output_type": "execute_result"
    }
   ],
   "source": [
    "df.street_name.value_counts(dropna=False)[:10]"
   ]
  },
  {
   "cell_type": "code",
   "execution_count": 47,
   "metadata": {},
   "outputs": [
    {
     "data": {
      "text/plain": [
       "array(['CANAL', 'YORK', 'ENNIS', ..., 'LINBROOK', 'TEXAS LAUREL',\n",
       "       'KIRKSTALL'], dtype=object)"
      ]
     },
     "execution_count": 47,
     "metadata": {},
     "output_type": "execute_result"
    }
   ],
   "source": [
    "df.street_name.unique()"
   ]
  },
  {
   "cell_type": "code",
   "execution_count": 49,
   "metadata": {},
   "outputs": [],
   "source": [
    "df.street_name = df.street_name.str.strip()"
   ]
  },
  {
   "cell_type": "code",
   "execution_count": 50,
   "metadata": {},
   "outputs": [
    {
     "data": {
      "text/plain": [
       "date             0\n",
       "hour             0\n",
       "offense_type     0\n",
       "beat             0\n",
       "premise          0\n",
       "block_range      0\n",
       "street_name     28\n",
       "num_offenses     0\n",
       "dtype: int64"
      ]
     },
     "execution_count": 50,
     "metadata": {},
     "output_type": "execute_result"
    }
   ],
   "source": [
    "df.apply(lambda x: sum(x.isnull()))"
   ]
  },
  {
   "cell_type": "code",
   "execution_count": 51,
   "metadata": {},
   "outputs": [
    {
     "data": {
      "text/plain": [
       "7913"
      ]
     },
     "execution_count": 51,
     "metadata": {},
     "output_type": "execute_result"
    }
   ],
   "source": [
    "len(df.street_name.value_counts(dropna=False))"
   ]
  },
  {
   "cell_type": "code",
   "execution_count": 52,
   "metadata": {},
   "outputs": [],
   "source": [
    "df.street_name = df.street_name.str.upper()"
   ]
  },
  {
   "cell_type": "code",
   "execution_count": 53,
   "metadata": {},
   "outputs": [
    {
     "data": {
      "text/plain": [
       "7913"
      ]
     },
     "execution_count": 53,
     "metadata": {},
     "output_type": "execute_result"
    }
   ],
   "source": [
    "len(df.street_name.value_counts(dropna=False))"
   ]
  },
  {
   "cell_type": "code",
   "execution_count": 54,
   "metadata": {},
   "outputs": [
    {
     "data": {
      "text/html": [
       "<div>\n",
       "<style scoped>\n",
       "    .dataframe tbody tr th:only-of-type {\n",
       "        vertical-align: middle;\n",
       "    }\n",
       "\n",
       "    .dataframe tbody tr th {\n",
       "        vertical-align: top;\n",
       "    }\n",
       "\n",
       "    .dataframe thead th {\n",
       "        text-align: right;\n",
       "    }\n",
       "</style>\n",
       "<table border=\"1\" class=\"dataframe\">\n",
       "  <thead>\n",
       "    <tr style=\"text-align: right;\">\n",
       "      <th></th>\n",
       "      <th>date</th>\n",
       "      <th>hour</th>\n",
       "      <th>offense_type</th>\n",
       "      <th>beat</th>\n",
       "      <th>premise</th>\n",
       "      <th>block_range</th>\n",
       "      <th>street_name</th>\n",
       "      <th>num_offenses</th>\n",
       "    </tr>\n",
       "  </thead>\n",
       "  <tbody>\n",
       "    <tr>\n",
       "      <th>92898</th>\n",
       "      <td>2015-11-16</td>\n",
       "      <td>11</td>\n",
       "      <td>Theft</td>\n",
       "      <td>15E40</td>\n",
       "      <td>Miscellaneous Business (Non-Specific)</td>\n",
       "      <td>UNK</td>\n",
       "      <td>NaN</td>\n",
       "      <td>1</td>\n",
       "    </tr>\n",
       "    <tr>\n",
       "      <th>96913</th>\n",
       "      <td>2015-11-20</td>\n",
       "      <td>13</td>\n",
       "      <td>Theft</td>\n",
       "      <td>2A30</td>\n",
       "      <td>Commercial Parking Lot or Garage</td>\n",
       "      <td>UNK</td>\n",
       "      <td>NaN</td>\n",
       "      <td>1</td>\n",
       "    </tr>\n",
       "    <tr>\n",
       "      <th>97005</th>\n",
       "      <td>2015-11-03</td>\n",
       "      <td>3</td>\n",
       "      <td>Robbery</td>\n",
       "      <td>2A30</td>\n",
       "      <td>Road, Street, or Sidewalk</td>\n",
       "      <td>UNK</td>\n",
       "      <td>NaN</td>\n",
       "      <td>1</td>\n",
       "    </tr>\n",
       "    <tr>\n",
       "      <th>97538</th>\n",
       "      <td>2015-11-18</td>\n",
       "      <td>14</td>\n",
       "      <td>Aggravated Assault</td>\n",
       "      <td>3B40</td>\n",
       "      <td>Road, Street, or Sidewalk</td>\n",
       "      <td>UNK</td>\n",
       "      <td>NaN</td>\n",
       "      <td>2</td>\n",
       "    </tr>\n",
       "    <tr>\n",
       "      <th>97581</th>\n",
       "      <td>2015-11-26</td>\n",
       "      <td>23</td>\n",
       "      <td>Aggravated Assault</td>\n",
       "      <td>3B40</td>\n",
       "      <td>High Rise</td>\n",
       "      <td>UNK</td>\n",
       "      <td>NaN</td>\n",
       "      <td>1</td>\n",
       "    </tr>\n",
       "    <tr>\n",
       "      <th>102232</th>\n",
       "      <td>2015-10-15</td>\n",
       "      <td>11</td>\n",
       "      <td>Theft</td>\n",
       "      <td>14D20</td>\n",
       "      <td>Miscellaneous Business (Non-Specific)</td>\n",
       "      <td>UNK</td>\n",
       "      <td>NaN</td>\n",
       "      <td>1</td>\n",
       "    </tr>\n",
       "    <tr>\n",
       "      <th>107028</th>\n",
       "      <td>2015-10-16</td>\n",
       "      <td>12</td>\n",
       "      <td>Aggravated Assault</td>\n",
       "      <td>2A30</td>\n",
       "      <td>Residence or House</td>\n",
       "      <td>UNK</td>\n",
       "      <td>NaN</td>\n",
       "      <td>1</td>\n",
       "    </tr>\n",
       "    <tr>\n",
       "      <th>107600</th>\n",
       "      <td>2015-10-05</td>\n",
       "      <td>13</td>\n",
       "      <td>Theft</td>\n",
       "      <td>3B40</td>\n",
       "      <td>Residence or House</td>\n",
       "      <td>UNK</td>\n",
       "      <td>NaN</td>\n",
       "      <td>1</td>\n",
       "    </tr>\n",
       "    <tr>\n",
       "      <th>116764</th>\n",
       "      <td>2015-09-22</td>\n",
       "      <td>15</td>\n",
       "      <td>Theft</td>\n",
       "      <td>2A30</td>\n",
       "      <td>Road, Street, or Sidewalk</td>\n",
       "      <td>UNK</td>\n",
       "      <td>NaN</td>\n",
       "      <td>1</td>\n",
       "    </tr>\n",
       "    <tr>\n",
       "      <th>117410</th>\n",
       "      <td>2015-09-28</td>\n",
       "      <td>14</td>\n",
       "      <td>Aggravated Assault</td>\n",
       "      <td>3B40</td>\n",
       "      <td>Residence or House</td>\n",
       "      <td>UNK</td>\n",
       "      <td>NaN</td>\n",
       "      <td>1</td>\n",
       "    </tr>\n",
       "  </tbody>\n",
       "</table>\n",
       "</div>"
      ],
      "text/plain": [
       "             date  hour        offense_type   beat  \\\n",
       "92898  2015-11-16    11               Theft  15E40   \n",
       "96913  2015-11-20    13               Theft   2A30   \n",
       "97005  2015-11-03     3             Robbery   2A30   \n",
       "97538  2015-11-18    14  Aggravated Assault   3B40   \n",
       "97581  2015-11-26    23  Aggravated Assault   3B40   \n",
       "102232 2015-10-15    11               Theft  14D20   \n",
       "107028 2015-10-16    12  Aggravated Assault   2A30   \n",
       "107600 2015-10-05    13               Theft   3B40   \n",
       "116764 2015-09-22    15               Theft   2A30   \n",
       "117410 2015-09-28    14  Aggravated Assault   3B40   \n",
       "\n",
       "                                      premise block_range street_name  \\\n",
       "92898   Miscellaneous Business (Non-Specific)         UNK         NaN   \n",
       "96913        Commercial Parking Lot or Garage         UNK         NaN   \n",
       "97005               Road, Street, or Sidewalk         UNK         NaN   \n",
       "97538               Road, Street, or Sidewalk         UNK         NaN   \n",
       "97581                               High Rise         UNK         NaN   \n",
       "102232  Miscellaneous Business (Non-Specific)         UNK         NaN   \n",
       "107028                     Residence or House         UNK         NaN   \n",
       "107600                     Residence or House         UNK         NaN   \n",
       "116764              Road, Street, or Sidewalk         UNK         NaN   \n",
       "117410                     Residence or House         UNK         NaN   \n",
       "\n",
       "        num_offenses  \n",
       "92898              1  \n",
       "96913              1  \n",
       "97005              1  \n",
       "97538              2  \n",
       "97581              1  \n",
       "102232             1  \n",
       "107028             1  \n",
       "107600             1  \n",
       "116764             1  \n",
       "117410             1  "
      ]
     },
     "execution_count": 54,
     "metadata": {},
     "output_type": "execute_result"
    }
   ],
   "source": [
    "df[df.isnull().any(axis=1)][-10:]  # display last 10"
   ]
  },
  {
   "cell_type": "markdown",
   "metadata": {},
   "source": [
    "## Drop null street name"
   ]
  },
  {
   "cell_type": "code",
   "execution_count": 55,
   "metadata": {},
   "outputs": [],
   "source": [
    "df.dropna(subset=['street_name'],inplace=True)"
   ]
  },
  {
   "cell_type": "code",
   "execution_count": 56,
   "metadata": {},
   "outputs": [
    {
     "data": {
      "text/plain": [
       "date            0\n",
       "hour            0\n",
       "offense_type    0\n",
       "beat            0\n",
       "premise         0\n",
       "block_range     0\n",
       "street_name     0\n",
       "num_offenses    0\n",
       "dtype: int64"
      ]
     },
     "execution_count": 56,
     "metadata": {},
     "output_type": "execute_result"
    }
   ],
   "source": [
    "df.apply(lambda x: sum(x.isnull()))"
   ]
  },
  {
   "cell_type": "markdown",
   "metadata": {},
   "source": [
    "## Organiaze columns"
   ]
  },
  {
   "cell_type": "code",
   "execution_count": 57,
   "metadata": {},
   "outputs": [
    {
     "data": {
      "text/html": [
       "<div>\n",
       "<style scoped>\n",
       "    .dataframe tbody tr th:only-of-type {\n",
       "        vertical-align: middle;\n",
       "    }\n",
       "\n",
       "    .dataframe tbody tr th {\n",
       "        vertical-align: top;\n",
       "    }\n",
       "\n",
       "    .dataframe thead th {\n",
       "        text-align: right;\n",
       "    }\n",
       "</style>\n",
       "<table border=\"1\" class=\"dataframe\">\n",
       "  <thead>\n",
       "    <tr style=\"text-align: right;\">\n",
       "      <th></th>\n",
       "      <th>date</th>\n",
       "      <th>hour</th>\n",
       "      <th>offense_type</th>\n",
       "      <th>beat</th>\n",
       "      <th>premise</th>\n",
       "      <th>block_range</th>\n",
       "      <th>street_name</th>\n",
       "      <th>num_offenses</th>\n",
       "    </tr>\n",
       "  </thead>\n",
       "  <tbody>\n",
       "    <tr>\n",
       "      <th>0</th>\n",
       "      <td>2015-02-26</td>\n",
       "      <td>12</td>\n",
       "      <td>Theft</td>\n",
       "      <td>10H10</td>\n",
       "      <td>Road, Street, or Sidewalk</td>\n",
       "      <td>4900-4999</td>\n",
       "      <td>CANAL</td>\n",
       "      <td>1</td>\n",
       "    </tr>\n",
       "    <tr>\n",
       "      <th>1</th>\n",
       "      <td>2015-04-05</td>\n",
       "      <td>16</td>\n",
       "      <td>Burglary</td>\n",
       "      <td>10H10</td>\n",
       "      <td>Residence or House</td>\n",
       "      <td>100-199</td>\n",
       "      <td>YORK</td>\n",
       "      <td>1</td>\n",
       "    </tr>\n",
       "    <tr>\n",
       "      <th>2</th>\n",
       "      <td>2015-04-06</td>\n",
       "      <td>20</td>\n",
       "      <td>Rape</td>\n",
       "      <td>10H10</td>\n",
       "      <td>Residence or House</td>\n",
       "      <td>UNK</td>\n",
       "      <td>CANAL</td>\n",
       "      <td>1</td>\n",
       "    </tr>\n",
       "    <tr>\n",
       "      <th>3</th>\n",
       "      <td>2015-04-16</td>\n",
       "      <td>8</td>\n",
       "      <td>Theft</td>\n",
       "      <td>10H10</td>\n",
       "      <td>Construction Site</td>\n",
       "      <td>400-499</td>\n",
       "      <td>ENNIS</td>\n",
       "      <td>1</td>\n",
       "    </tr>\n",
       "    <tr>\n",
       "      <th>4</th>\n",
       "      <td>2015-04-01</td>\n",
       "      <td>19</td>\n",
       "      <td>Theft</td>\n",
       "      <td>10H10</td>\n",
       "      <td>UNK</td>\n",
       "      <td>UNK</td>\n",
       "      <td>SIDNEY</td>\n",
       "      <td>1</td>\n",
       "    </tr>\n",
       "  </tbody>\n",
       "</table>\n",
       "</div>"
      ],
      "text/plain": [
       "        date  hour offense_type   beat                    premise block_range  \\\n",
       "0 2015-02-26    12        Theft  10H10  Road, Street, or Sidewalk   4900-4999   \n",
       "1 2015-04-05    16     Burglary  10H10         Residence or House     100-199   \n",
       "2 2015-04-06    20         Rape  10H10         Residence or House         UNK   \n",
       "3 2015-04-16     8        Theft  10H10          Construction Site     400-499   \n",
       "4 2015-04-01    19        Theft  10H10                        UNK         UNK   \n",
       "\n",
       "  street_name  num_offenses  \n",
       "0       CANAL             1  \n",
       "1        YORK             1  \n",
       "2       CANAL             1  \n",
       "3       ENNIS             1  \n",
       "4      SIDNEY             1  "
      ]
     },
     "execution_count": 57,
     "metadata": {},
     "output_type": "execute_result"
    }
   ],
   "source": [
    "df.head()"
   ]
  },
  {
   "cell_type": "code",
   "execution_count": 58,
   "metadata": {},
   "outputs": [],
   "source": [
    "# order that I want\n",
    "cols = ['date','hour','beat','offense_type','block_range','street_name','premise','num_offenses']"
   ]
  },
  {
   "cell_type": "code",
   "execution_count": 59,
   "metadata": {},
   "outputs": [],
   "source": [
    "df = df.reindex(columns=cols)"
   ]
  },
  {
   "cell_type": "code",
   "execution_count": 60,
   "metadata": {},
   "outputs": [
    {
     "name": "stdout",
     "output_type": "stream",
     "text": [
      "<class 'pandas.core.frame.DataFrame'>\n",
      "Int64Index: 119981 entries, 0 to 120008\n",
      "Data columns (total 8 columns):\n",
      "date            119981 non-null datetime64[ns]\n",
      "hour            119981 non-null int64\n",
      "beat            119981 non-null object\n",
      "offense_type    119981 non-null object\n",
      "block_range     119981 non-null object\n",
      "street_name     119981 non-null object\n",
      "premise         119981 non-null object\n",
      "num_offenses    119981 non-null int64\n",
      "dtypes: datetime64[ns](1), int64(2), object(5)\n",
      "memory usage: 8.2+ MB\n"
     ]
    }
   ],
   "source": [
    "df.info()"
   ]
  },
  {
   "cell_type": "code",
   "execution_count": 61,
   "metadata": {},
   "outputs": [
    {
     "data": {
      "text/html": [
       "<div>\n",
       "<style scoped>\n",
       "    .dataframe tbody tr th:only-of-type {\n",
       "        vertical-align: middle;\n",
       "    }\n",
       "\n",
       "    .dataframe tbody tr th {\n",
       "        vertical-align: top;\n",
       "    }\n",
       "\n",
       "    .dataframe thead th {\n",
       "        text-align: right;\n",
       "    }\n",
       "</style>\n",
       "<table border=\"1\" class=\"dataframe\">\n",
       "  <thead>\n",
       "    <tr style=\"text-align: right;\">\n",
       "      <th></th>\n",
       "      <th>date</th>\n",
       "      <th>hour</th>\n",
       "      <th>beat</th>\n",
       "      <th>offense_type</th>\n",
       "      <th>block_range</th>\n",
       "      <th>street_name</th>\n",
       "      <th>premise</th>\n",
       "      <th>num_offenses</th>\n",
       "    </tr>\n",
       "  </thead>\n",
       "  <tbody>\n",
       "    <tr>\n",
       "      <th>0</th>\n",
       "      <td>2015-02-26</td>\n",
       "      <td>12</td>\n",
       "      <td>10H10</td>\n",
       "      <td>Theft</td>\n",
       "      <td>4900-4999</td>\n",
       "      <td>CANAL</td>\n",
       "      <td>Road, Street, or Sidewalk</td>\n",
       "      <td>1</td>\n",
       "    </tr>\n",
       "    <tr>\n",
       "      <th>1</th>\n",
       "      <td>2015-04-05</td>\n",
       "      <td>16</td>\n",
       "      <td>10H10</td>\n",
       "      <td>Burglary</td>\n",
       "      <td>100-199</td>\n",
       "      <td>YORK</td>\n",
       "      <td>Residence or House</td>\n",
       "      <td>1</td>\n",
       "    </tr>\n",
       "    <tr>\n",
       "      <th>2</th>\n",
       "      <td>2015-04-06</td>\n",
       "      <td>20</td>\n",
       "      <td>10H10</td>\n",
       "      <td>Rape</td>\n",
       "      <td>UNK</td>\n",
       "      <td>CANAL</td>\n",
       "      <td>Residence or House</td>\n",
       "      <td>1</td>\n",
       "    </tr>\n",
       "    <tr>\n",
       "      <th>3</th>\n",
       "      <td>2015-04-16</td>\n",
       "      <td>8</td>\n",
       "      <td>10H10</td>\n",
       "      <td>Theft</td>\n",
       "      <td>400-499</td>\n",
       "      <td>ENNIS</td>\n",
       "      <td>Construction Site</td>\n",
       "      <td>1</td>\n",
       "    </tr>\n",
       "    <tr>\n",
       "      <th>4</th>\n",
       "      <td>2015-04-01</td>\n",
       "      <td>19</td>\n",
       "      <td>10H10</td>\n",
       "      <td>Theft</td>\n",
       "      <td>UNK</td>\n",
       "      <td>SIDNEY</td>\n",
       "      <td>UNK</td>\n",
       "      <td>1</td>\n",
       "    </tr>\n",
       "  </tbody>\n",
       "</table>\n",
       "</div>"
      ],
      "text/plain": [
       "        date  hour   beat offense_type block_range street_name  \\\n",
       "0 2015-02-26    12  10H10        Theft   4900-4999       CANAL   \n",
       "1 2015-04-05    16  10H10     Burglary     100-199        YORK   \n",
       "2 2015-04-06    20  10H10         Rape         UNK       CANAL   \n",
       "3 2015-04-16     8  10H10        Theft     400-499       ENNIS   \n",
       "4 2015-04-01    19  10H10        Theft         UNK      SIDNEY   \n",
       "\n",
       "                     premise  num_offenses  \n",
       "0  Road, Street, or Sidewalk             1  \n",
       "1         Residence or House             1  \n",
       "2         Residence or House             1  \n",
       "3          Construction Site             1  \n",
       "4                        UNK             1  "
      ]
     },
     "execution_count": 61,
     "metadata": {},
     "output_type": "execute_result"
    }
   ],
   "source": [
    "df.head()"
   ]
  },
  {
   "cell_type": "code",
   "execution_count": null,
   "metadata": {},
   "outputs": [],
   "source": []
  },
  {
   "cell_type": "code",
   "execution_count": 62,
   "metadata": {},
   "outputs": [
    {
     "data": {
      "text/plain": [
       "date            0\n",
       "hour            0\n",
       "beat            0\n",
       "offense_type    0\n",
       "block_range     0\n",
       "street_name     0\n",
       "premise         0\n",
       "num_offenses    0\n",
       "dtype: int64"
      ]
     },
     "execution_count": 62,
     "metadata": {},
     "output_type": "execute_result"
    }
   ],
   "source": [
    "df.apply(lambda x: sum(x.isnull()))"
   ]
  },
  {
   "cell_type": "code",
   "execution_count": 63,
   "metadata": {},
   "outputs": [
    {
     "data": {
      "text/html": [
       "<div>\n",
       "<style scoped>\n",
       "    .dataframe tbody tr th:only-of-type {\n",
       "        vertical-align: middle;\n",
       "    }\n",
       "\n",
       "    .dataframe tbody tr th {\n",
       "        vertical-align: top;\n",
       "    }\n",
       "\n",
       "    .dataframe thead th {\n",
       "        text-align: right;\n",
       "    }\n",
       "</style>\n",
       "<table border=\"1\" class=\"dataframe\">\n",
       "  <thead>\n",
       "    <tr style=\"text-align: right;\">\n",
       "      <th></th>\n",
       "      <th>date</th>\n",
       "      <th>hour</th>\n",
       "      <th>beat</th>\n",
       "      <th>offense_type</th>\n",
       "      <th>block_range</th>\n",
       "      <th>street_name</th>\n",
       "      <th>premise</th>\n",
       "      <th>num_offenses</th>\n",
       "    </tr>\n",
       "  </thead>\n",
       "  <tbody>\n",
       "  </tbody>\n",
       "</table>\n",
       "</div>"
      ],
      "text/plain": [
       "Empty DataFrame\n",
       "Columns: [date, hour, beat, offense_type, block_range, street_name, premise, num_offenses]\n",
       "Index: []"
      ]
     },
     "execution_count": 63,
     "metadata": {},
     "output_type": "execute_result"
    }
   ],
   "source": [
    "df[df.isnull().any(axis=1)][-10:]  # display last 10"
   ]
  },
  {
   "cell_type": "markdown",
   "metadata": {},
   "source": [
    "## Save clean data"
   ]
  },
  {
   "cell_type": "code",
   "execution_count": 64,
   "metadata": {},
   "outputs": [
    {
     "data": {
      "text/plain": [
       "'../data/clean_data/'"
      ]
     },
     "execution_count": 64,
     "metadata": {},
     "output_type": "execute_result"
    }
   ],
   "source": [
    "data_directory_saves"
   ]
  },
  {
   "cell_type": "code",
   "execution_count": 65,
   "metadata": {},
   "outputs": [],
   "source": [
    "df.to_csv(data_directory_saves+'crime_2015.csv')"
   ]
  },
  {
   "cell_type": "markdown",
   "metadata": {},
   "source": [
    "offense_type as wrong value that neets to  be changed"
   ]
  },
  {
   "cell_type": "code",
   "execution_count": null,
   "metadata": {},
   "outputs": [],
   "source": []
  }
 ],
 "metadata": {
  "kernelspec": {
   "display_name": "Python 3",
   "language": "python",
   "name": "python3"
  },
  "language_info": {
   "codemirror_mode": {
    "name": "ipython",
    "version": 3
   },
   "file_extension": ".py",
   "mimetype": "text/x-python",
   "name": "python",
   "nbconvert_exporter": "python",
   "pygments_lexer": "ipython3",
   "version": "3.6.4"
  }
 },
 "nbformat": 4,
 "nbformat_minor": 2
}
