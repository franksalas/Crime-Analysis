{
 "cells": [
  {
   "cell_type": "markdown",
   "metadata": {},
   "source": [
    "# Crime data from 2014\n",
    "\n",
    "http://www.houstontx.gov/police/cs/crime-stats-archives.htm"
   ]
  },
  {
   "cell_type": "code",
   "execution_count": 1,
   "metadata": {},
   "outputs": [],
   "source": [
    "import warnings\n",
    "warnings.filterwarnings('ignore')"
   ]
  },
  {
   "cell_type": "code",
   "execution_count": 2,
   "metadata": {},
   "outputs": [],
   "source": [
    "import pandas as pd\n",
    "import glob, os\n",
    "import numpy as np\n",
    "import matplotlib.pyplot as plt\n",
    "import datetime  as dt\n",
    "import seaborn as sns"
   ]
  },
  {
   "cell_type": "markdown",
   "metadata": {},
   "source": [
    "## Data directory"
   ]
  },
  {
   "cell_type": "code",
   "execution_count": 3,
   "metadata": {},
   "outputs": [],
   "source": [
    "year = '2014'"
   ]
  },
  {
   "cell_type": "code",
   "execution_count": 4,
   "metadata": {},
   "outputs": [],
   "source": [
    "# data folder path\n",
    "data_directory = os.path.join('..','data','crime_data/{}'.format(year))\n",
    "data_directory_saves = os.path.join( '..','data','clean_data/')\n",
    "premise_dataset = os.path.join('..','data','crime_data/premise_codes.csv')"
   ]
  },
  {
   "cell_type": "markdown",
   "metadata": {},
   "source": [
    "# combine all fines into one"
   ]
  },
  {
   "cell_type": "code",
   "execution_count": 5,
   "metadata": {},
   "outputs": [],
   "source": [
    "# combine all files into one df\n",
    "all_files = glob.glob(os.path.join(data_directory, \"*.xls\")) \n",
    "df_from_each_file = (pd.read_excel(f) for f in all_files)\n",
    "df   = pd.concat(df_from_each_file, ignore_index=True)"
   ]
  },
  {
   "cell_type": "code",
   "execution_count": 6,
   "metadata": {},
   "outputs": [
    {
     "name": "stdout",
     "output_type": "stream",
     "text": [
      "<class 'pandas.core.frame.DataFrame'>\n",
      "RangeIndex: 121750 entries, 0 to 121749\n",
      "Data columns (total 15 columns):\n",
      "# Of             7613 non-null float64\n",
      "# Of Offenses    52214 non-null float64\n",
      "# Offenses       10319 non-null float64\n",
      "# offenses       51604 non-null float64\n",
      "Beat             121734 non-null object\n",
      "Block Range      69989 non-null object\n",
      "BlockRange       51604 non-null object\n",
      "Date             121746 non-null datetime64[ns]\n",
      "Hour             121750 non-null int64\n",
      "Offense Type     121750 non-null object\n",
      "Premise          92169 non-null object\n",
      "Street Name      70146 non-null object\n",
      "StreetName       51604 non-null object\n",
      "Suffix           121750 non-null object\n",
      "Type             121750 non-null object\n",
      "dtypes: datetime64[ns](1), float64(4), int64(1), object(9)\n",
      "memory usage: 13.9+ MB\n"
     ]
    }
   ],
   "source": [
    "df.info()"
   ]
  },
  {
   "cell_type": "code",
   "execution_count": 7,
   "metadata": {},
   "outputs": [
    {
     "data": {
      "text/html": [
       "<div>\n",
       "<style scoped>\n",
       "    .dataframe tbody tr th:only-of-type {\n",
       "        vertical-align: middle;\n",
       "    }\n",
       "\n",
       "    .dataframe tbody tr th {\n",
       "        vertical-align: top;\n",
       "    }\n",
       "\n",
       "    .dataframe thead th {\n",
       "        text-align: right;\n",
       "    }\n",
       "</style>\n",
       "<table border=\"1\" class=\"dataframe\">\n",
       "  <thead>\n",
       "    <tr style=\"text-align: right;\">\n",
       "      <th></th>\n",
       "      <th># Of</th>\n",
       "      <th># Of Offenses</th>\n",
       "      <th># Offenses</th>\n",
       "      <th># offenses</th>\n",
       "      <th>Beat</th>\n",
       "      <th>Block Range</th>\n",
       "      <th>BlockRange</th>\n",
       "      <th>Date</th>\n",
       "      <th>Hour</th>\n",
       "      <th>Offense Type</th>\n",
       "      <th>Premise</th>\n",
       "      <th>Street Name</th>\n",
       "      <th>StreetName</th>\n",
       "      <th>Suffix</th>\n",
       "      <th>Type</th>\n",
       "    </tr>\n",
       "  </thead>\n",
       "  <tbody>\n",
       "    <tr>\n",
       "      <th>0</th>\n",
       "      <td>NaN</td>\n",
       "      <td>1.0</td>\n",
       "      <td>NaN</td>\n",
       "      <td>NaN</td>\n",
       "      <td>14D30</td>\n",
       "      <td>8500-8599</td>\n",
       "      <td>NaN</td>\n",
       "      <td>2014-04-19</td>\n",
       "      <td>17</td>\n",
       "      <td>Murder</td>\n",
       "      <td>18D</td>\n",
       "      <td>MARTIN LUTHER KING</td>\n",
       "      <td>NaN</td>\n",
       "      <td>-</td>\n",
       "      <td>BLVD</td>\n",
       "    </tr>\n",
       "    <tr>\n",
       "      <th>1</th>\n",
       "      <td>NaN</td>\n",
       "      <td>1.0</td>\n",
       "      <td>NaN</td>\n",
       "      <td>NaN</td>\n",
       "      <td>10H20</td>\n",
       "      <td>3600-3699</td>\n",
       "      <td>NaN</td>\n",
       "      <td>2014-04-28</td>\n",
       "      <td>5</td>\n",
       "      <td>Murder</td>\n",
       "      <td>13R</td>\n",
       "      <td>MCKINNEY</td>\n",
       "      <td>NaN</td>\n",
       "      <td>-</td>\n",
       "      <td>ST</td>\n",
       "    </tr>\n",
       "  </tbody>\n",
       "</table>\n",
       "</div>"
      ],
      "text/plain": [
       "   # Of  # Of Offenses  # Offenses  # offenses   Beat Block Range BlockRange  \\\n",
       "0   NaN            1.0         NaN         NaN  14D30   8500-8599        NaN   \n",
       "1   NaN            1.0         NaN         NaN  10H20   3600-3699        NaN   \n",
       "\n",
       "        Date  Hour Offense Type Premise         Street Name StreetName Suffix  \\\n",
       "0 2014-04-19    17       Murder     18D  MARTIN LUTHER KING        NaN      -   \n",
       "1 2014-04-28     5       Murder     13R            MCKINNEY        NaN      -   \n",
       "\n",
       "   Type  \n",
       "0  BLVD  \n",
       "1    ST  "
      ]
     },
     "execution_count": 7,
     "metadata": {},
     "output_type": "execute_result"
    }
   ],
   "source": [
    "df.head(2)"
   ]
  },
  {
   "cell_type": "markdown",
   "metadata": {},
   "source": [
    "## Check for missing values"
   ]
  },
  {
   "cell_type": "code",
   "execution_count": 8,
   "metadata": {},
   "outputs": [
    {
     "data": {
      "text/plain": [
       "# Of             114137\n",
       "# Of Offenses     69536\n",
       "# Offenses       111431\n",
       "# offenses        70146\n",
       "Beat                 16\n",
       "Block Range       51761\n",
       "BlockRange        70146\n",
       "Date                  4\n",
       "Hour                  0\n",
       "Offense Type          0\n",
       "Premise           29581\n",
       "Street Name       51604\n",
       "StreetName        70146\n",
       "Suffix                0\n",
       "Type                  0\n",
       "dtype: int64"
      ]
     },
     "execution_count": 8,
     "metadata": {},
     "output_type": "execute_result"
    }
   ],
   "source": [
    "df.apply(lambda x: sum(x.isnull()))"
   ]
  },
  {
   "cell_type": "code",
   "execution_count": 9,
   "metadata": {},
   "outputs": [
    {
     "data": {
      "image/png": "[encoded data removed]",
      "text/plain": [
       "<Figure size 432x288 with 1 Axes>"
      ]
     },
     "metadata": {},
     "output_type": "display_data"
    }
   ],
   "source": [
    "sns.heatmap(df.isnull(),yticklabels=False,cbar=False,cmap='viridis')\n",
    "plt.title('Null dataset display')\n",
    "plt.show()"
   ]
  },
  {
   "cell_type": "markdown",
   "metadata": {},
   "source": [
    "\n",
    "## Cleanup\n",
    "- lowercase column names\n",
    "- joining similar columns\n",
    "- renaming"
   ]
  },
  {
   "cell_type": "code",
   "execution_count": 10,
   "metadata": {},
   "outputs": [],
   "source": [
    "# Map the lowering function to all column names\n",
    "#df.columns = map(str.lower, df.columns)"
   ]
  },
  {
   "cell_type": "code",
   "execution_count": 11,
   "metadata": {},
   "outputs": [
    {
     "data": {
      "text/html": [
       "<div>\n",
       "<style scoped>\n",
       "    .dataframe tbody tr th:only-of-type {\n",
       "        vertical-align: middle;\n",
       "    }\n",
       "\n",
       "    .dataframe tbody tr th {\n",
       "        vertical-align: top;\n",
       "    }\n",
       "\n",
       "    .dataframe thead th {\n",
       "        text-align: right;\n",
       "    }\n",
       "</style>\n",
       "<table border=\"1\" class=\"dataframe\">\n",
       "  <thead>\n",
       "    <tr style=\"text-align: right;\">\n",
       "      <th></th>\n",
       "      <th># Of</th>\n",
       "      <th># Of Offenses</th>\n",
       "      <th># Offenses</th>\n",
       "      <th># offenses</th>\n",
       "      <th>Beat</th>\n",
       "      <th>Block Range</th>\n",
       "      <th>BlockRange</th>\n",
       "      <th>Date</th>\n",
       "      <th>Hour</th>\n",
       "      <th>Offense Type</th>\n",
       "      <th>Premise</th>\n",
       "      <th>Street Name</th>\n",
       "      <th>StreetName</th>\n",
       "      <th>Suffix</th>\n",
       "      <th>Type</th>\n",
       "    </tr>\n",
       "  </thead>\n",
       "  <tbody>\n",
       "    <tr>\n",
       "      <th>0</th>\n",
       "      <td>NaN</td>\n",
       "      <td>1.0</td>\n",
       "      <td>NaN</td>\n",
       "      <td>NaN</td>\n",
       "      <td>14D30</td>\n",
       "      <td>8500-8599</td>\n",
       "      <td>NaN</td>\n",
       "      <td>2014-04-19</td>\n",
       "      <td>17</td>\n",
       "      <td>Murder</td>\n",
       "      <td>18D</td>\n",
       "      <td>MARTIN LUTHER KING</td>\n",
       "      <td>NaN</td>\n",
       "      <td>-</td>\n",
       "      <td>BLVD</td>\n",
       "    </tr>\n",
       "    <tr>\n",
       "      <th>1</th>\n",
       "      <td>NaN</td>\n",
       "      <td>1.0</td>\n",
       "      <td>NaN</td>\n",
       "      <td>NaN</td>\n",
       "      <td>10H20</td>\n",
       "      <td>3600-3699</td>\n",
       "      <td>NaN</td>\n",
       "      <td>2014-04-28</td>\n",
       "      <td>5</td>\n",
       "      <td>Murder</td>\n",
       "      <td>13R</td>\n",
       "      <td>MCKINNEY</td>\n",
       "      <td>NaN</td>\n",
       "      <td>-</td>\n",
       "      <td>ST</td>\n",
       "    </tr>\n",
       "    <tr>\n",
       "      <th>2</th>\n",
       "      <td>NaN</td>\n",
       "      <td>3.0</td>\n",
       "      <td>NaN</td>\n",
       "      <td>NaN</td>\n",
       "      <td>5F30</td>\n",
       "      <td>7400-7499</td>\n",
       "      <td>NaN</td>\n",
       "      <td>2014-04-27</td>\n",
       "      <td>18</td>\n",
       "      <td>Murder</td>\n",
       "      <td>20A</td>\n",
       "      <td>HILLMONT</td>\n",
       "      <td>NaN</td>\n",
       "      <td>-</td>\n",
       "      <td>-</td>\n",
       "    </tr>\n",
       "    <tr>\n",
       "      <th>3</th>\n",
       "      <td>NaN</td>\n",
       "      <td>2.0</td>\n",
       "      <td>NaN</td>\n",
       "      <td>NaN</td>\n",
       "      <td>17E10</td>\n",
       "      <td>5400-5499</td>\n",
       "      <td>NaN</td>\n",
       "      <td>2014-04-09</td>\n",
       "      <td>18</td>\n",
       "      <td>Murder</td>\n",
       "      <td>20A</td>\n",
       "      <td>RENWICK</td>\n",
       "      <td>NaN</td>\n",
       "      <td>-</td>\n",
       "      <td>-</td>\n",
       "    </tr>\n",
       "    <tr>\n",
       "      <th>4</th>\n",
       "      <td>NaN</td>\n",
       "      <td>1.0</td>\n",
       "      <td>NaN</td>\n",
       "      <td>NaN</td>\n",
       "      <td>18F50</td>\n",
       "      <td>9300-9399</td>\n",
       "      <td>NaN</td>\n",
       "      <td>2014-04-24</td>\n",
       "      <td>3</td>\n",
       "      <td>Murder</td>\n",
       "      <td>03B</td>\n",
       "      <td>RICHMOND</td>\n",
       "      <td>NaN</td>\n",
       "      <td>-</td>\n",
       "      <td>AVE</td>\n",
       "    </tr>\n",
       "  </tbody>\n",
       "</table>\n",
       "</div>"
      ],
      "text/plain": [
       "   # Of  # Of Offenses  # Offenses  # offenses   Beat Block Range BlockRange  \\\n",
       "0   NaN            1.0         NaN         NaN  14D30   8500-8599        NaN   \n",
       "1   NaN            1.0         NaN         NaN  10H20   3600-3699        NaN   \n",
       "2   NaN            3.0         NaN         NaN   5F30   7400-7499        NaN   \n",
       "3   NaN            2.0         NaN         NaN  17E10   5400-5499        NaN   \n",
       "4   NaN            1.0         NaN         NaN  18F50   9300-9399        NaN   \n",
       "\n",
       "        Date  Hour Offense Type Premise         Street Name StreetName Suffix  \\\n",
       "0 2014-04-19    17       Murder     18D  MARTIN LUTHER KING        NaN      -   \n",
       "1 2014-04-28     5       Murder     13R            MCKINNEY        NaN      -   \n",
       "2 2014-04-27    18       Murder     20A            HILLMONT        NaN      -   \n",
       "3 2014-04-09    18       Murder     20A             RENWICK        NaN      -   \n",
       "4 2014-04-24     3       Murder     03B            RICHMOND        NaN      -   \n",
       "\n",
       "   Type  \n",
       "0  BLVD  \n",
       "1    ST  \n",
       "2     -  \n",
       "3     -  \n",
       "4   AVE  "
      ]
     },
     "execution_count": 11,
     "metadata": {},
     "output_type": "execute_result"
    }
   ],
   "source": [
    "df.head()"
   ]
  },
  {
   "cell_type": "markdown",
   "metadata": {},
   "source": [
    "## combine multiple columns into similar"
   ]
  },
  {
   "cell_type": "code",
   "execution_count": 12,
   "metadata": {},
   "outputs": [],
   "source": [
    "df['BlockRange'] = pd.concat([df['Block Range'].dropna(),\n",
    "                              df['BlockRange'].dropna()]).reindex_like(df)\n",
    "\n",
    "df['StreetName'] = pd.concat([df['Street Name'].dropna(),\n",
    "                              df['StreetName'].dropna()]).reindex_like(df)\n",
    "\n",
    "df['# Of Offenses'] = pd.concat([df['# Of'].dropna(),\n",
    "                              df['# Of Offenses'].dropna(),\n",
    "                              df['# offenses'].dropna(),\n",
    "                              df['# Offenses'].dropna()]).reindex_like(df)"
   ]
  },
  {
   "cell_type": "code",
   "execution_count": 13,
   "metadata": {},
   "outputs": [
    {
     "data": {
      "text/html": [
       "<div>\n",
       "<style scoped>\n",
       "    .dataframe tbody tr th:only-of-type {\n",
       "        vertical-align: middle;\n",
       "    }\n",
       "\n",
       "    .dataframe tbody tr th {\n",
       "        vertical-align: top;\n",
       "    }\n",
       "\n",
       "    .dataframe thead th {\n",
       "        text-align: right;\n",
       "    }\n",
       "</style>\n",
       "<table border=\"1\" class=\"dataframe\">\n",
       "  <thead>\n",
       "    <tr style=\"text-align: right;\">\n",
       "      <th></th>\n",
       "      <th># Of</th>\n",
       "      <th># Of Offenses</th>\n",
       "      <th># Offenses</th>\n",
       "      <th># offenses</th>\n",
       "      <th>Beat</th>\n",
       "      <th>Block Range</th>\n",
       "      <th>BlockRange</th>\n",
       "      <th>Date</th>\n",
       "      <th>Hour</th>\n",
       "      <th>Offense Type</th>\n",
       "      <th>Premise</th>\n",
       "      <th>Street Name</th>\n",
       "      <th>StreetName</th>\n",
       "      <th>Suffix</th>\n",
       "      <th>Type</th>\n",
       "    </tr>\n",
       "  </thead>\n",
       "  <tbody>\n",
       "    <tr>\n",
       "      <th>0</th>\n",
       "      <td>NaN</td>\n",
       "      <td>1.0</td>\n",
       "      <td>NaN</td>\n",
       "      <td>NaN</td>\n",
       "      <td>14D30</td>\n",
       "      <td>8500-8599</td>\n",
       "      <td>8500-8599</td>\n",
       "      <td>2014-04-19</td>\n",
       "      <td>17</td>\n",
       "      <td>Murder</td>\n",
       "      <td>18D</td>\n",
       "      <td>MARTIN LUTHER KING</td>\n",
       "      <td>MARTIN LUTHER KING</td>\n",
       "      <td>-</td>\n",
       "      <td>BLVD</td>\n",
       "    </tr>\n",
       "    <tr>\n",
       "      <th>1</th>\n",
       "      <td>NaN</td>\n",
       "      <td>1.0</td>\n",
       "      <td>NaN</td>\n",
       "      <td>NaN</td>\n",
       "      <td>10H20</td>\n",
       "      <td>3600-3699</td>\n",
       "      <td>3600-3699</td>\n",
       "      <td>2014-04-28</td>\n",
       "      <td>5</td>\n",
       "      <td>Murder</td>\n",
       "      <td>13R</td>\n",
       "      <td>MCKINNEY</td>\n",
       "      <td>MCKINNEY</td>\n",
       "      <td>-</td>\n",
       "      <td>ST</td>\n",
       "    </tr>\n",
       "    <tr>\n",
       "      <th>2</th>\n",
       "      <td>NaN</td>\n",
       "      <td>3.0</td>\n",
       "      <td>NaN</td>\n",
       "      <td>NaN</td>\n",
       "      <td>5F30</td>\n",
       "      <td>7400-7499</td>\n",
       "      <td>7400-7499</td>\n",
       "      <td>2014-04-27</td>\n",
       "      <td>18</td>\n",
       "      <td>Murder</td>\n",
       "      <td>20A</td>\n",
       "      <td>HILLMONT</td>\n",
       "      <td>HILLMONT</td>\n",
       "      <td>-</td>\n",
       "      <td>-</td>\n",
       "    </tr>\n",
       "    <tr>\n",
       "      <th>3</th>\n",
       "      <td>NaN</td>\n",
       "      <td>2.0</td>\n",
       "      <td>NaN</td>\n",
       "      <td>NaN</td>\n",
       "      <td>17E10</td>\n",
       "      <td>5400-5499</td>\n",
       "      <td>5400-5499</td>\n",
       "      <td>2014-04-09</td>\n",
       "      <td>18</td>\n",
       "      <td>Murder</td>\n",
       "      <td>20A</td>\n",
       "      <td>RENWICK</td>\n",
       "      <td>RENWICK</td>\n",
       "      <td>-</td>\n",
       "      <td>-</td>\n",
       "    </tr>\n",
       "    <tr>\n",
       "      <th>4</th>\n",
       "      <td>NaN</td>\n",
       "      <td>1.0</td>\n",
       "      <td>NaN</td>\n",
       "      <td>NaN</td>\n",
       "      <td>18F50</td>\n",
       "      <td>9300-9399</td>\n",
       "      <td>9300-9399</td>\n",
       "      <td>2014-04-24</td>\n",
       "      <td>3</td>\n",
       "      <td>Murder</td>\n",
       "      <td>03B</td>\n",
       "      <td>RICHMOND</td>\n",
       "      <td>RICHMOND</td>\n",
       "      <td>-</td>\n",
       "      <td>AVE</td>\n",
       "    </tr>\n",
       "  </tbody>\n",
       "</table>\n",
       "</div>"
      ],
      "text/plain": [
       "   # Of  # Of Offenses  # Offenses  # offenses   Beat Block Range BlockRange  \\\n",
       "0   NaN            1.0         NaN         NaN  14D30   8500-8599  8500-8599   \n",
       "1   NaN            1.0         NaN         NaN  10H20   3600-3699  3600-3699   \n",
       "2   NaN            3.0         NaN         NaN   5F30   7400-7499  7400-7499   \n",
       "3   NaN            2.0         NaN         NaN  17E10   5400-5499  5400-5499   \n",
       "4   NaN            1.0         NaN         NaN  18F50   9300-9399  9300-9399   \n",
       "\n",
       "        Date  Hour Offense Type Premise         Street Name  \\\n",
       "0 2014-04-19    17       Murder     18D  MARTIN LUTHER KING   \n",
       "1 2014-04-28     5       Murder     13R            MCKINNEY   \n",
       "2 2014-04-27    18       Murder     20A            HILLMONT   \n",
       "3 2014-04-09    18       Murder     20A             RENWICK   \n",
       "4 2014-04-24     3       Murder     03B            RICHMOND   \n",
       "\n",
       "           StreetName Suffix  Type  \n",
       "0  MARTIN LUTHER KING      -  BLVD  \n",
       "1            MCKINNEY      -    ST  \n",
       "2            HILLMONT      -     -  \n",
       "3             RENWICK      -     -  \n",
       "4            RICHMOND      -   AVE  "
      ]
     },
     "execution_count": 13,
     "metadata": {},
     "output_type": "execute_result"
    }
   ],
   "source": [
    "df.head()"
   ]
  },
  {
   "cell_type": "code",
   "execution_count": 14,
   "metadata": {},
   "outputs": [],
   "source": [
    "# Map the lowering function to all column names\n",
    "df.columns = map(str.lower, df.columns)"
   ]
  },
  {
   "cell_type": "code",
   "execution_count": 15,
   "metadata": {},
   "outputs": [
    {
     "data": {
      "image/png": "[encoded data removed]",
      "text/plain": [
       "<Figure size 432x288 with 1 Axes>"
      ]
     },
     "metadata": {},
     "output_type": "display_data"
    }
   ],
   "source": [
    "sns.heatmap(df.isnull(),yticklabels=False,cbar=False,cmap='viridis')\n",
    "plt.title('Null dataset display')\n",
    "plt.show()"
   ]
  },
  {
   "cell_type": "code",
   "execution_count": 16,
   "metadata": {},
   "outputs": [
    {
     "data": {
      "text/html": [
       "<div>\n",
       "<style scoped>\n",
       "    .dataframe tbody tr th:only-of-type {\n",
       "        vertical-align: middle;\n",
       "    }\n",
       "\n",
       "    .dataframe tbody tr th {\n",
       "        vertical-align: top;\n",
       "    }\n",
       "\n",
       "    .dataframe thead th {\n",
       "        text-align: right;\n",
       "    }\n",
       "</style>\n",
       "<table border=\"1\" class=\"dataframe\">\n",
       "  <thead>\n",
       "    <tr style=\"text-align: right;\">\n",
       "      <th></th>\n",
       "      <th># of</th>\n",
       "      <th># of offenses</th>\n",
       "      <th># offenses</th>\n",
       "      <th># offenses</th>\n",
       "      <th>beat</th>\n",
       "      <th>block range</th>\n",
       "      <th>blockrange</th>\n",
       "      <th>date</th>\n",
       "      <th>hour</th>\n",
       "      <th>offense type</th>\n",
       "      <th>premise</th>\n",
       "      <th>street name</th>\n",
       "      <th>streetname</th>\n",
       "      <th>suffix</th>\n",
       "      <th>type</th>\n",
       "    </tr>\n",
       "  </thead>\n",
       "  <tbody>\n",
       "    <tr>\n",
       "      <th>0</th>\n",
       "      <td>NaN</td>\n",
       "      <td>1.0</td>\n",
       "      <td>NaN</td>\n",
       "      <td>NaN</td>\n",
       "      <td>14D30</td>\n",
       "      <td>8500-8599</td>\n",
       "      <td>8500-8599</td>\n",
       "      <td>2014-04-19</td>\n",
       "      <td>17</td>\n",
       "      <td>Murder</td>\n",
       "      <td>18D</td>\n",
       "      <td>MARTIN LUTHER KING</td>\n",
       "      <td>MARTIN LUTHER KING</td>\n",
       "      <td>-</td>\n",
       "      <td>BLVD</td>\n",
       "    </tr>\n",
       "    <tr>\n",
       "      <th>1</th>\n",
       "      <td>NaN</td>\n",
       "      <td>1.0</td>\n",
       "      <td>NaN</td>\n",
       "      <td>NaN</td>\n",
       "      <td>10H20</td>\n",
       "      <td>3600-3699</td>\n",
       "      <td>3600-3699</td>\n",
       "      <td>2014-04-28</td>\n",
       "      <td>5</td>\n",
       "      <td>Murder</td>\n",
       "      <td>13R</td>\n",
       "      <td>MCKINNEY</td>\n",
       "      <td>MCKINNEY</td>\n",
       "      <td>-</td>\n",
       "      <td>ST</td>\n",
       "    </tr>\n",
       "  </tbody>\n",
       "</table>\n",
       "</div>"
      ],
      "text/plain": [
       "   # of  # of offenses  # offenses  # offenses   beat block range blockrange  \\\n",
       "0   NaN            1.0         NaN         NaN  14D30   8500-8599  8500-8599   \n",
       "1   NaN            1.0         NaN         NaN  10H20   3600-3699  3600-3699   \n",
       "\n",
       "        date  hour offense type premise         street name  \\\n",
       "0 2014-04-19    17       Murder     18D  MARTIN LUTHER KING   \n",
       "1 2014-04-28     5       Murder     13R            MCKINNEY   \n",
       "\n",
       "           streetname suffix  type  \n",
       "0  MARTIN LUTHER KING      -  BLVD  \n",
       "1            MCKINNEY      -    ST  "
      ]
     },
     "execution_count": 16,
     "metadata": {},
     "output_type": "execute_result"
    }
   ],
   "source": [
    "df.head(2)"
   ]
  },
  {
   "cell_type": "code",
   "execution_count": 17,
   "metadata": {},
   "outputs": [
    {
     "name": "stdout",
     "output_type": "stream",
     "text": [
      "<class 'pandas.core.frame.DataFrame'>\n",
      "RangeIndex: 121750 entries, 0 to 121749\n",
      "Data columns (total 15 columns):\n",
      "# of            7613 non-null float64\n",
      "num_offenses    121750 non-null float64\n",
      "# offenses      10319 non-null float64\n",
      "# offenses      51604 non-null float64\n",
      "beat            121734 non-null object\n",
      "block range     69989 non-null object\n",
      "block_range     121593 non-null object\n",
      "date            121746 non-null datetime64[ns]\n",
      "hour            121750 non-null int64\n",
      "offense_type    121750 non-null object\n",
      "premise         92169 non-null object\n",
      "street name     70146 non-null object\n",
      "street_name     121750 non-null object\n",
      "suffix          121750 non-null object\n",
      "type            121750 non-null object\n",
      "dtypes: datetime64[ns](1), float64(4), int64(1), object(9)\n",
      "memory usage: 13.9+ MB\n"
     ]
    }
   ],
   "source": [
    "df.rename(columns={\n",
    "    '# of offenses': 'num_offenses',\n",
    "     'offense type': 'offense_type',\n",
    "    'blockrange': 'block_range',\n",
    "    'streetname': 'street_name'\n",
    "}, inplace=True)\n",
    "df.info()"
   ]
  },
  {
   "cell_type": "code",
   "execution_count": 18,
   "metadata": {},
   "outputs": [
    {
     "data": {
      "text/html": [
       "<div>\n",
       "<style scoped>\n",
       "    .dataframe tbody tr th:only-of-type {\n",
       "        vertical-align: middle;\n",
       "    }\n",
       "\n",
       "    .dataframe tbody tr th {\n",
       "        vertical-align: top;\n",
       "    }\n",
       "\n",
       "    .dataframe thead th {\n",
       "        text-align: right;\n",
       "    }\n",
       "</style>\n",
       "<table border=\"1\" class=\"dataframe\">\n",
       "  <thead>\n",
       "    <tr style=\"text-align: right;\">\n",
       "      <th></th>\n",
       "      <th># of</th>\n",
       "      <th>num_offenses</th>\n",
       "      <th># offenses</th>\n",
       "      <th># offenses</th>\n",
       "      <th>beat</th>\n",
       "      <th>block range</th>\n",
       "      <th>block_range</th>\n",
       "      <th>date</th>\n",
       "      <th>hour</th>\n",
       "      <th>offense_type</th>\n",
       "      <th>premise</th>\n",
       "      <th>street name</th>\n",
       "      <th>street_name</th>\n",
       "      <th>suffix</th>\n",
       "      <th>type</th>\n",
       "    </tr>\n",
       "  </thead>\n",
       "  <tbody>\n",
       "    <tr>\n",
       "      <th>0</th>\n",
       "      <td>NaN</td>\n",
       "      <td>1.0</td>\n",
       "      <td>NaN</td>\n",
       "      <td>NaN</td>\n",
       "      <td>14D30</td>\n",
       "      <td>8500-8599</td>\n",
       "      <td>8500-8599</td>\n",
       "      <td>2014-04-19</td>\n",
       "      <td>17</td>\n",
       "      <td>Murder</td>\n",
       "      <td>18D</td>\n",
       "      <td>MARTIN LUTHER KING</td>\n",
       "      <td>MARTIN LUTHER KING</td>\n",
       "      <td>-</td>\n",
       "      <td>BLVD</td>\n",
       "    </tr>\n",
       "    <tr>\n",
       "      <th>1</th>\n",
       "      <td>NaN</td>\n",
       "      <td>1.0</td>\n",
       "      <td>NaN</td>\n",
       "      <td>NaN</td>\n",
       "      <td>10H20</td>\n",
       "      <td>3600-3699</td>\n",
       "      <td>3600-3699</td>\n",
       "      <td>2014-04-28</td>\n",
       "      <td>5</td>\n",
       "      <td>Murder</td>\n",
       "      <td>13R</td>\n",
       "      <td>MCKINNEY</td>\n",
       "      <td>MCKINNEY</td>\n",
       "      <td>-</td>\n",
       "      <td>ST</td>\n",
       "    </tr>\n",
       "    <tr>\n",
       "      <th>2</th>\n",
       "      <td>NaN</td>\n",
       "      <td>3.0</td>\n",
       "      <td>NaN</td>\n",
       "      <td>NaN</td>\n",
       "      <td>5F30</td>\n",
       "      <td>7400-7499</td>\n",
       "      <td>7400-7499</td>\n",
       "      <td>2014-04-27</td>\n",
       "      <td>18</td>\n",
       "      <td>Murder</td>\n",
       "      <td>20A</td>\n",
       "      <td>HILLMONT</td>\n",
       "      <td>HILLMONT</td>\n",
       "      <td>-</td>\n",
       "      <td>-</td>\n",
       "    </tr>\n",
       "    <tr>\n",
       "      <th>3</th>\n",
       "      <td>NaN</td>\n",
       "      <td>2.0</td>\n",
       "      <td>NaN</td>\n",
       "      <td>NaN</td>\n",
       "      <td>17E10</td>\n",
       "      <td>5400-5499</td>\n",
       "      <td>5400-5499</td>\n",
       "      <td>2014-04-09</td>\n",
       "      <td>18</td>\n",
       "      <td>Murder</td>\n",
       "      <td>20A</td>\n",
       "      <td>RENWICK</td>\n",
       "      <td>RENWICK</td>\n",
       "      <td>-</td>\n",
       "      <td>-</td>\n",
       "    </tr>\n",
       "    <tr>\n",
       "      <th>4</th>\n",
       "      <td>NaN</td>\n",
       "      <td>1.0</td>\n",
       "      <td>NaN</td>\n",
       "      <td>NaN</td>\n",
       "      <td>18F50</td>\n",
       "      <td>9300-9399</td>\n",
       "      <td>9300-9399</td>\n",
       "      <td>2014-04-24</td>\n",
       "      <td>3</td>\n",
       "      <td>Murder</td>\n",
       "      <td>03B</td>\n",
       "      <td>RICHMOND</td>\n",
       "      <td>RICHMOND</td>\n",
       "      <td>-</td>\n",
       "      <td>AVE</td>\n",
       "    </tr>\n",
       "  </tbody>\n",
       "</table>\n",
       "</div>"
      ],
      "text/plain": [
       "   # of  num_offenses  # offenses  # offenses   beat block range block_range  \\\n",
       "0   NaN           1.0         NaN         NaN  14D30   8500-8599   8500-8599   \n",
       "1   NaN           1.0         NaN         NaN  10H20   3600-3699   3600-3699   \n",
       "2   NaN           3.0         NaN         NaN   5F30   7400-7499   7400-7499   \n",
       "3   NaN           2.0         NaN         NaN  17E10   5400-5499   5400-5499   \n",
       "4   NaN           1.0         NaN         NaN  18F50   9300-9399   9300-9399   \n",
       "\n",
       "        date  hour offense_type premise         street name  \\\n",
       "0 2014-04-19    17       Murder     18D  MARTIN LUTHER KING   \n",
       "1 2014-04-28     5       Murder     13R            MCKINNEY   \n",
       "2 2014-04-27    18       Murder     20A            HILLMONT   \n",
       "3 2014-04-09    18       Murder     20A             RENWICK   \n",
       "4 2014-04-24     3       Murder     03B            RICHMOND   \n",
       "\n",
       "          street_name suffix  type  \n",
       "0  MARTIN LUTHER KING      -  BLVD  \n",
       "1            MCKINNEY      -    ST  \n",
       "2            HILLMONT      -     -  \n",
       "3             RENWICK      -     -  \n",
       "4            RICHMOND      -   AVE  "
      ]
     },
     "execution_count": 18,
     "metadata": {},
     "output_type": "execute_result"
    }
   ],
   "source": [
    "df.head()"
   ]
  },
  {
   "cell_type": "markdown",
   "metadata": {},
   "source": [
    "## Drop columns"
   ]
  },
  {
   "cell_type": "code",
   "execution_count": 19,
   "metadata": {},
   "outputs": [
    {
     "data": {
      "text/plain": [
       "['# of',\n",
       " 'num_offenses',\n",
       " '# offenses',\n",
       " '# offenses',\n",
       " 'beat',\n",
       " 'block range',\n",
       " 'block_range',\n",
       " 'date',\n",
       " 'hour',\n",
       " 'offense_type',\n",
       " 'premise',\n",
       " 'street name',\n",
       " 'street_name',\n",
       " 'suffix',\n",
       " 'type']"
      ]
     },
     "execution_count": 19,
     "metadata": {},
     "output_type": "execute_result"
    }
   ],
   "source": [
    "list(df.columns)"
   ]
  },
  {
   "cell_type": "code",
   "execution_count": 20,
   "metadata": {},
   "outputs": [],
   "source": [
    "df = df[['date','hour','beat','offense_type','block_range','street_name','premise','num_offenses']]"
   ]
  },
  {
   "cell_type": "code",
   "execution_count": 21,
   "metadata": {},
   "outputs": [
    {
     "name": "stdout",
     "output_type": "stream",
     "text": [
      "<class 'pandas.core.frame.DataFrame'>\n",
      "RangeIndex: 121750 entries, 0 to 121749\n",
      "Data columns (total 8 columns):\n",
      "date            121746 non-null datetime64[ns]\n",
      "hour            121750 non-null int64\n",
      "beat            121734 non-null object\n",
      "offense_type    121750 non-null object\n",
      "block_range     121593 non-null object\n",
      "street_name     121750 non-null object\n",
      "premise         92169 non-null object\n",
      "num_offenses    121750 non-null float64\n",
      "dtypes: datetime64[ns](1), float64(1), int64(1), object(5)\n",
      "memory usage: 7.4+ MB\n"
     ]
    }
   ],
   "source": [
    "df.info()"
   ]
  },
  {
   "cell_type": "code",
   "execution_count": 22,
   "metadata": {},
   "outputs": [
    {
     "data": {
      "text/html": [
       "<div>\n",
       "<style scoped>\n",
       "    .dataframe tbody tr th:only-of-type {\n",
       "        vertical-align: middle;\n",
       "    }\n",
       "\n",
       "    .dataframe tbody tr th {\n",
       "        vertical-align: top;\n",
       "    }\n",
       "\n",
       "    .dataframe thead th {\n",
       "        text-align: right;\n",
       "    }\n",
       "</style>\n",
       "<table border=\"1\" class=\"dataframe\">\n",
       "  <thead>\n",
       "    <tr style=\"text-align: right;\">\n",
       "      <th></th>\n",
       "      <th>date</th>\n",
       "      <th>hour</th>\n",
       "      <th>beat</th>\n",
       "      <th>offense_type</th>\n",
       "      <th>block_range</th>\n",
       "      <th>street_name</th>\n",
       "      <th>premise</th>\n",
       "      <th>num_offenses</th>\n",
       "    </tr>\n",
       "  </thead>\n",
       "  <tbody>\n",
       "    <tr>\n",
       "      <th>0</th>\n",
       "      <td>2014-04-19</td>\n",
       "      <td>17</td>\n",
       "      <td>14D30</td>\n",
       "      <td>Murder</td>\n",
       "      <td>8500-8599</td>\n",
       "      <td>MARTIN LUTHER KING</td>\n",
       "      <td>18D</td>\n",
       "      <td>1.0</td>\n",
       "    </tr>\n",
       "    <tr>\n",
       "      <th>1</th>\n",
       "      <td>2014-04-28</td>\n",
       "      <td>5</td>\n",
       "      <td>10H20</td>\n",
       "      <td>Murder</td>\n",
       "      <td>3600-3699</td>\n",
       "      <td>MCKINNEY</td>\n",
       "      <td>13R</td>\n",
       "      <td>1.0</td>\n",
       "    </tr>\n",
       "    <tr>\n",
       "      <th>2</th>\n",
       "      <td>2014-04-27</td>\n",
       "      <td>18</td>\n",
       "      <td>5F30</td>\n",
       "      <td>Murder</td>\n",
       "      <td>7400-7499</td>\n",
       "      <td>HILLMONT</td>\n",
       "      <td>20A</td>\n",
       "      <td>3.0</td>\n",
       "    </tr>\n",
       "    <tr>\n",
       "      <th>3</th>\n",
       "      <td>2014-04-09</td>\n",
       "      <td>18</td>\n",
       "      <td>17E10</td>\n",
       "      <td>Murder</td>\n",
       "      <td>5400-5499</td>\n",
       "      <td>RENWICK</td>\n",
       "      <td>20A</td>\n",
       "      <td>2.0</td>\n",
       "    </tr>\n",
       "    <tr>\n",
       "      <th>4</th>\n",
       "      <td>2014-04-24</td>\n",
       "      <td>3</td>\n",
       "      <td>18F50</td>\n",
       "      <td>Murder</td>\n",
       "      <td>9300-9399</td>\n",
       "      <td>RICHMOND</td>\n",
       "      <td>03B</td>\n",
       "      <td>1.0</td>\n",
       "    </tr>\n",
       "  </tbody>\n",
       "</table>\n",
       "</div>"
      ],
      "text/plain": [
       "        date  hour   beat offense_type block_range         street_name  \\\n",
       "0 2014-04-19    17  14D30       Murder   8500-8599  MARTIN LUTHER KING   \n",
       "1 2014-04-28     5  10H20       Murder   3600-3699            MCKINNEY   \n",
       "2 2014-04-27    18   5F30       Murder   7400-7499            HILLMONT   \n",
       "3 2014-04-09    18  17E10       Murder   5400-5499             RENWICK   \n",
       "4 2014-04-24     3  18F50       Murder   9300-9399            RICHMOND   \n",
       "\n",
       "  premise  num_offenses  \n",
       "0     18D           1.0  \n",
       "1     13R           1.0  \n",
       "2     20A           3.0  \n",
       "3     20A           2.0  \n",
       "4     03B           1.0  "
      ]
     },
     "execution_count": 22,
     "metadata": {},
     "output_type": "execute_result"
    }
   ],
   "source": [
    "df.head()"
   ]
  },
  {
   "cell_type": "markdown",
   "metadata": {},
   "source": [
    "## Premise"
   ]
  },
  {
   "cell_type": "code",
   "execution_count": 23,
   "metadata": {},
   "outputs": [
    {
     "data": {
      "text/html": [
       "<div>\n",
       "<style scoped>\n",
       "    .dataframe tbody tr th:only-of-type {\n",
       "        vertical-align: middle;\n",
       "    }\n",
       "\n",
       "    .dataframe tbody tr th {\n",
       "        vertical-align: top;\n",
       "    }\n",
       "\n",
       "    .dataframe thead th {\n",
       "        text-align: right;\n",
       "    }\n",
       "</style>\n",
       "<table border=\"1\" class=\"dataframe\">\n",
       "  <thead>\n",
       "    <tr style=\"text-align: right;\">\n",
       "      <th></th>\n",
       "      <th>premise</th>\n",
       "      <th>premise_description</th>\n",
       "    </tr>\n",
       "  </thead>\n",
       "  <tbody>\n",
       "    <tr>\n",
       "      <th>0</th>\n",
       "      <td>01A</td>\n",
       "      <td>AIRPORT TERMINAL</td>\n",
       "    </tr>\n",
       "    <tr>\n",
       "      <th>1</th>\n",
       "      <td>01B</td>\n",
       "      <td>BUS STATION</td>\n",
       "    </tr>\n",
       "    <tr>\n",
       "      <th>2</th>\n",
       "      <td>01K</td>\n",
       "      <td>RAILROAD TRACK/RIGHT OF WAY</td>\n",
       "    </tr>\n",
       "    <tr>\n",
       "      <th>3</th>\n",
       "      <td>01P</td>\n",
       "      <td>PARK &amp; RIDE TERMINAL</td>\n",
       "    </tr>\n",
       "    <tr>\n",
       "      <th>4</th>\n",
       "      <td>01R</td>\n",
       "      <td>LIGHT RAIL VEHICLE</td>\n",
       "    </tr>\n",
       "  </tbody>\n",
       "</table>\n",
       "</div>"
      ],
      "text/plain": [
       "  premise          premise_description\n",
       "0     01A             AIRPORT TERMINAL\n",
       "1     01B                  BUS STATION\n",
       "2     01K  RAILROAD TRACK/RIGHT OF WAY\n",
       "3     01P         PARK & RIDE TERMINAL\n",
       "4     01R           LIGHT RAIL VEHICLE"
      ]
     },
     "execution_count": 23,
     "metadata": {},
     "output_type": "execute_result"
    }
   ],
   "source": [
    "premise_data = pd.read_csv(premise_dataset)\n",
    "#premise_data.columns = map(str.lower, premise_data.columns)\n",
    "premise_data.columns = ['premise','premise_description']\n",
    "premise_data.head()"
   ]
  },
  {
   "cell_type": "code",
   "execution_count": 24,
   "metadata": {},
   "outputs": [
    {
     "data": {
      "text/html": [
       "<div>\n",
       "<style scoped>\n",
       "    .dataframe tbody tr th:only-of-type {\n",
       "        vertical-align: middle;\n",
       "    }\n",
       "\n",
       "    .dataframe tbody tr th {\n",
       "        vertical-align: top;\n",
       "    }\n",
       "\n",
       "    .dataframe thead th {\n",
       "        text-align: right;\n",
       "    }\n",
       "</style>\n",
       "<table border=\"1\" class=\"dataframe\">\n",
       "  <thead>\n",
       "    <tr style=\"text-align: right;\">\n",
       "      <th></th>\n",
       "      <th>date</th>\n",
       "      <th>hour</th>\n",
       "      <th>beat</th>\n",
       "      <th>offense_type</th>\n",
       "      <th>block_range</th>\n",
       "      <th>street_name</th>\n",
       "      <th>premise</th>\n",
       "      <th>num_offenses</th>\n",
       "    </tr>\n",
       "  </thead>\n",
       "  <tbody>\n",
       "    <tr>\n",
       "      <th>0</th>\n",
       "      <td>2014-04-19</td>\n",
       "      <td>17</td>\n",
       "      <td>14D30</td>\n",
       "      <td>Murder</td>\n",
       "      <td>8500-8599</td>\n",
       "      <td>MARTIN LUTHER KING</td>\n",
       "      <td>18D</td>\n",
       "      <td>1.0</td>\n",
       "    </tr>\n",
       "    <tr>\n",
       "      <th>1</th>\n",
       "      <td>2014-04-28</td>\n",
       "      <td>5</td>\n",
       "      <td>10H20</td>\n",
       "      <td>Murder</td>\n",
       "      <td>3600-3699</td>\n",
       "      <td>MCKINNEY</td>\n",
       "      <td>13R</td>\n",
       "      <td>1.0</td>\n",
       "    </tr>\n",
       "    <tr>\n",
       "      <th>2</th>\n",
       "      <td>2014-04-27</td>\n",
       "      <td>18</td>\n",
       "      <td>5F30</td>\n",
       "      <td>Murder</td>\n",
       "      <td>7400-7499</td>\n",
       "      <td>HILLMONT</td>\n",
       "      <td>20A</td>\n",
       "      <td>3.0</td>\n",
       "    </tr>\n",
       "    <tr>\n",
       "      <th>3</th>\n",
       "      <td>2014-04-09</td>\n",
       "      <td>18</td>\n",
       "      <td>17E10</td>\n",
       "      <td>Murder</td>\n",
       "      <td>5400-5499</td>\n",
       "      <td>RENWICK</td>\n",
       "      <td>20A</td>\n",
       "      <td>2.0</td>\n",
       "    </tr>\n",
       "    <tr>\n",
       "      <th>4</th>\n",
       "      <td>2014-04-24</td>\n",
       "      <td>3</td>\n",
       "      <td>18F50</td>\n",
       "      <td>Murder</td>\n",
       "      <td>9300-9399</td>\n",
       "      <td>RICHMOND</td>\n",
       "      <td>03B</td>\n",
       "      <td>1.0</td>\n",
       "    </tr>\n",
       "  </tbody>\n",
       "</table>\n",
       "</div>"
      ],
      "text/plain": [
       "        date  hour   beat offense_type block_range         street_name  \\\n",
       "0 2014-04-19    17  14D30       Murder   8500-8599  MARTIN LUTHER KING   \n",
       "1 2014-04-28     5  10H20       Murder   3600-3699            MCKINNEY   \n",
       "2 2014-04-27    18   5F30       Murder   7400-7499            HILLMONT   \n",
       "3 2014-04-09    18  17E10       Murder   5400-5499             RENWICK   \n",
       "4 2014-04-24     3  18F50       Murder   9300-9399            RICHMOND   \n",
       "\n",
       "  premise  num_offenses  \n",
       "0     18D           1.0  \n",
       "1     13R           1.0  \n",
       "2     20A           3.0  \n",
       "3     20A           2.0  \n",
       "4     03B           1.0  "
      ]
     },
     "execution_count": 24,
     "metadata": {},
     "output_type": "execute_result"
    }
   ],
   "source": [
    "df.head()"
   ]
  },
  {
   "cell_type": "code",
   "execution_count": 25,
   "metadata": {},
   "outputs": [],
   "source": [
    "df = pd.merge(df, premise_data, on='premise', how='outer')"
   ]
  },
  {
   "cell_type": "code",
   "execution_count": 26,
   "metadata": {},
   "outputs": [
    {
     "data": {
      "text/html": [
       "<div>\n",
       "<style scoped>\n",
       "    .dataframe tbody tr th:only-of-type {\n",
       "        vertical-align: middle;\n",
       "    }\n",
       "\n",
       "    .dataframe tbody tr th {\n",
       "        vertical-align: top;\n",
       "    }\n",
       "\n",
       "    .dataframe thead th {\n",
       "        text-align: right;\n",
       "    }\n",
       "</style>\n",
       "<table border=\"1\" class=\"dataframe\">\n",
       "  <thead>\n",
       "    <tr style=\"text-align: right;\">\n",
       "      <th></th>\n",
       "      <th>date</th>\n",
       "      <th>hour</th>\n",
       "      <th>beat</th>\n",
       "      <th>offense_type</th>\n",
       "      <th>block_range</th>\n",
       "      <th>street_name</th>\n",
       "      <th>premise</th>\n",
       "      <th>num_offenses</th>\n",
       "      <th>premise_description</th>\n",
       "    </tr>\n",
       "  </thead>\n",
       "  <tbody>\n",
       "    <tr>\n",
       "      <th>0</th>\n",
       "      <td>2014-04-19</td>\n",
       "      <td>17.0</td>\n",
       "      <td>14D30</td>\n",
       "      <td>Murder</td>\n",
       "      <td>8500-8599</td>\n",
       "      <td>MARTIN LUTHER KING</td>\n",
       "      <td>18D</td>\n",
       "      <td>1.0</td>\n",
       "      <td>LAUNDRY/DRY CLEANERS PARKING LOT</td>\n",
       "    </tr>\n",
       "    <tr>\n",
       "      <th>1</th>\n",
       "      <td>2014-04-13</td>\n",
       "      <td>2.0</td>\n",
       "      <td>3B10</td>\n",
       "      <td>Robbery</td>\n",
       "      <td>4400-4499</td>\n",
       "      <td>SHERWOOD</td>\n",
       "      <td>18D</td>\n",
       "      <td>1.0</td>\n",
       "      <td>LAUNDRY/DRY CLEANERS PARKING LOT</td>\n",
       "    </tr>\n",
       "    <tr>\n",
       "      <th>2</th>\n",
       "      <td>2014-04-11</td>\n",
       "      <td>12.0</td>\n",
       "      <td>16E30</td>\n",
       "      <td>Theft</td>\n",
       "      <td>5300-5399</td>\n",
       "      <td>OREM</td>\n",
       "      <td>18D</td>\n",
       "      <td>1.0</td>\n",
       "      <td>LAUNDRY/DRY CLEANERS PARKING LOT</td>\n",
       "    </tr>\n",
       "    <tr>\n",
       "      <th>3</th>\n",
       "      <td>2014-04-12</td>\n",
       "      <td>11.0</td>\n",
       "      <td>13D20</td>\n",
       "      <td>Theft</td>\n",
       "      <td>6600-6699</td>\n",
       "      <td>TELEPHONE</td>\n",
       "      <td>18D</td>\n",
       "      <td>1.0</td>\n",
       "      <td>LAUNDRY/DRY CLEANERS PARKING LOT</td>\n",
       "    </tr>\n",
       "    <tr>\n",
       "      <th>4</th>\n",
       "      <td>2014-04-13</td>\n",
       "      <td>15.0</td>\n",
       "      <td>8C50</td>\n",
       "      <td>Theft</td>\n",
       "      <td>8800-8899</td>\n",
       "      <td>TIDWELL</td>\n",
       "      <td>18D</td>\n",
       "      <td>1.0</td>\n",
       "      <td>LAUNDRY/DRY CLEANERS PARKING LOT</td>\n",
       "    </tr>\n",
       "  </tbody>\n",
       "</table>\n",
       "</div>"
      ],
      "text/plain": [
       "        date  hour   beat offense_type block_range         street_name  \\\n",
       "0 2014-04-19  17.0  14D30       Murder   8500-8599  MARTIN LUTHER KING   \n",
       "1 2014-04-13   2.0   3B10      Robbery   4400-4499            SHERWOOD   \n",
       "2 2014-04-11  12.0  16E30        Theft   5300-5399                OREM   \n",
       "3 2014-04-12  11.0  13D20        Theft   6600-6699           TELEPHONE   \n",
       "4 2014-04-13  15.0   8C50        Theft   8800-8899             TIDWELL   \n",
       "\n",
       "  premise  num_offenses               premise_description  \n",
       "0     18D           1.0  LAUNDRY/DRY CLEANERS PARKING LOT  \n",
       "1     18D           1.0  LAUNDRY/DRY CLEANERS PARKING LOT  \n",
       "2     18D           1.0  LAUNDRY/DRY CLEANERS PARKING LOT  \n",
       "3     18D           1.0  LAUNDRY/DRY CLEANERS PARKING LOT  \n",
       "4     18D           1.0  LAUNDRY/DRY CLEANERS PARKING LOT  "
      ]
     },
     "execution_count": 26,
     "metadata": {},
     "output_type": "execute_result"
    }
   ],
   "source": [
    "df.head()"
   ]
  },
  {
   "cell_type": "markdown",
   "metadata": {},
   "source": [
    "## Display null values"
   ]
  },
  {
   "cell_type": "code",
   "execution_count": 27,
   "metadata": {},
   "outputs": [
    {
     "data": {
      "text/plain": [
       "date                       8\n",
       "hour                       4\n",
       "beat                      20\n",
       "offense_type               4\n",
       "block_range              161\n",
       "street_name                4\n",
       "premise                29581\n",
       "num_offenses               4\n",
       "premise_description    70055\n",
       "dtype: int64"
      ]
     },
     "execution_count": 27,
     "metadata": {},
     "output_type": "execute_result"
    }
   ],
   "source": [
    "df.apply(lambda x: sum(x.isnull()))"
   ]
  },
  {
   "cell_type": "code",
   "execution_count": 28,
   "metadata": {},
   "outputs": [
    {
     "data": {
      "image/png": "[encoded data removed]",
      "text/plain": [
       "<Figure size 432x288 with 1 Axes>"
      ]
     },
     "metadata": {},
     "output_type": "display_data"
    }
   ],
   "source": [
    "sns.heatmap(df.isnull(),yticklabels=False,cbar=False,cmap='viridis')\n",
    "plt.title('Null dataset display')\n",
    "plt.show()"
   ]
  },
  {
   "cell_type": "markdown",
   "metadata": {},
   "source": [
    "## Investigate"
   ]
  },
  {
   "cell_type": "code",
   "execution_count": 29,
   "metadata": {},
   "outputs": [
    {
     "data": {
      "text/html": [
       "<div>\n",
       "<style scoped>\n",
       "    .dataframe tbody tr th:only-of-type {\n",
       "        vertical-align: middle;\n",
       "    }\n",
       "\n",
       "    .dataframe tbody tr th {\n",
       "        vertical-align: top;\n",
       "    }\n",
       "\n",
       "    .dataframe thead th {\n",
       "        text-align: right;\n",
       "    }\n",
       "</style>\n",
       "<table border=\"1\" class=\"dataframe\">\n",
       "  <thead>\n",
       "    <tr style=\"text-align: right;\">\n",
       "      <th></th>\n",
       "      <th>date</th>\n",
       "      <th>hour</th>\n",
       "      <th>beat</th>\n",
       "      <th>offense_type</th>\n",
       "      <th>block_range</th>\n",
       "      <th>street_name</th>\n",
       "      <th>premise</th>\n",
       "      <th>num_offenses</th>\n",
       "      <th>premise_description</th>\n",
       "    </tr>\n",
       "  </thead>\n",
       "  <tbody>\n",
       "    <tr>\n",
       "      <th>121744</th>\n",
       "      <td>2014-10-25</td>\n",
       "      <td>17.0</td>\n",
       "      <td>4F10</td>\n",
       "      <td>Theft</td>\n",
       "      <td>1200-1299</td>\n",
       "      <td>CONRAD SAUER</td>\n",
       "      <td>Vacant Church, Synagogue, or Temple</td>\n",
       "      <td>1.0</td>\n",
       "      <td>NaN</td>\n",
       "    </tr>\n",
       "    <tr>\n",
       "      <th>121745</th>\n",
       "      <td>2014-10-13</td>\n",
       "      <td>12.0</td>\n",
       "      <td>7C30</td>\n",
       "      <td>Burglary</td>\n",
       "      <td>2700-2799</td>\n",
       "      <td>BERRY</td>\n",
       "      <td>Vacant Church, Synagogue, or Temple</td>\n",
       "      <td>1.0</td>\n",
       "      <td>NaN</td>\n",
       "    </tr>\n",
       "    <tr>\n",
       "      <th>121746</th>\n",
       "      <td>2014-09-25</td>\n",
       "      <td>9.0</td>\n",
       "      <td>18F20</td>\n",
       "      <td>Theft</td>\n",
       "      <td>700-799</td>\n",
       "      <td>SAGE</td>\n",
       "      <td>Vacant Church, Synagogue, or Temple</td>\n",
       "      <td>1.0</td>\n",
       "      <td>NaN</td>\n",
       "    </tr>\n",
       "    <tr>\n",
       "      <th>121747</th>\n",
       "      <td>2014-10-16</td>\n",
       "      <td>4.0</td>\n",
       "      <td>10H30</td>\n",
       "      <td>Theft</td>\n",
       "      <td>1800-1899</td>\n",
       "      <td>EDMUNDSON</td>\n",
       "      <td>Vacant Industrial or Manufacturing Blding</td>\n",
       "      <td>1.0</td>\n",
       "      <td>NaN</td>\n",
       "    </tr>\n",
       "    <tr>\n",
       "      <th>121748</th>\n",
       "      <td>2014-09-09</td>\n",
       "      <td>7.0</td>\n",
       "      <td>8C30</td>\n",
       "      <td>Theft</td>\n",
       "      <td>8000-8099</td>\n",
       "      <td>LOOP</td>\n",
       "      <td>Vacant Industrial or Manufacturing Blding</td>\n",
       "      <td>1.0</td>\n",
       "      <td>NaN</td>\n",
       "    </tr>\n",
       "    <tr>\n",
       "      <th>121749</th>\n",
       "      <td>2014-10-29</td>\n",
       "      <td>15.0</td>\n",
       "      <td>6B10</td>\n",
       "      <td>Theft</td>\n",
       "      <td>400-499</td>\n",
       "      <td>LITTLE YORK</td>\n",
       "      <td>Vacant Bank</td>\n",
       "      <td>1.0</td>\n",
       "      <td>NaN</td>\n",
       "    </tr>\n",
       "    <tr>\n",
       "      <th>121750</th>\n",
       "      <td>NaT</td>\n",
       "      <td>NaN</td>\n",
       "      <td>NaN</td>\n",
       "      <td>NaN</td>\n",
       "      <td>NaN</td>\n",
       "      <td>NaN</td>\n",
       "      <td>02V</td>\n",
       "      <td>NaN</td>\n",
       "      <td>VACANT BANK</td>\n",
       "    </tr>\n",
       "    <tr>\n",
       "      <th>121751</th>\n",
       "      <td>NaT</td>\n",
       "      <td>NaN</td>\n",
       "      <td>NaN</td>\n",
       "      <td>NaN</td>\n",
       "      <td>NaN</td>\n",
       "      <td>NaN</td>\n",
       "      <td>09V</td>\n",
       "      <td>NaN</td>\n",
       "      <td>VACANT HOSPITAL</td>\n",
       "    </tr>\n",
       "    <tr>\n",
       "      <th>121752</th>\n",
       "      <td>NaT</td>\n",
       "      <td>NaN</td>\n",
       "      <td>NaN</td>\n",
       "      <td>NaN</td>\n",
       "      <td>NaN</td>\n",
       "      <td>NaN</td>\n",
       "      <td>13C</td>\n",
       "      <td>NaN</td>\n",
       "      <td>CONTRA-FLOW/HOV</td>\n",
       "    </tr>\n",
       "    <tr>\n",
       "      <th>121753</th>\n",
       "      <td>NaT</td>\n",
       "      <td>NaN</td>\n",
       "      <td>NaN</td>\n",
       "      <td>NaN</td>\n",
       "      <td>NaN</td>\n",
       "      <td>NaN</td>\n",
       "      <td>15V</td>\n",
       "      <td>NaN</td>\n",
       "      <td>VACANT JAIL/PRISON</td>\n",
       "    </tr>\n",
       "  </tbody>\n",
       "</table>\n",
       "</div>"
      ],
      "text/plain": [
       "             date  hour   beat offense_type block_range   street_name  \\\n",
       "121744 2014-10-25  17.0   4F10        Theft   1200-1299  CONRAD SAUER   \n",
       "121745 2014-10-13  12.0   7C30     Burglary   2700-2799         BERRY   \n",
       "121746 2014-09-25   9.0  18F20        Theft     700-799          SAGE   \n",
       "121747 2014-10-16   4.0  10H30        Theft   1800-1899     EDMUNDSON   \n",
       "121748 2014-09-09   7.0   8C30        Theft   8000-8099          LOOP   \n",
       "121749 2014-10-29  15.0   6B10        Theft     400-499   LITTLE YORK   \n",
       "121750        NaT   NaN    NaN          NaN         NaN           NaN   \n",
       "121751        NaT   NaN    NaN          NaN         NaN           NaN   \n",
       "121752        NaT   NaN    NaN          NaN         NaN           NaN   \n",
       "121753        NaT   NaN    NaN          NaN         NaN           NaN   \n",
       "\n",
       "                                          premise  num_offenses  \\\n",
       "121744        Vacant Church, Synagogue, or Temple           1.0   \n",
       "121745        Vacant Church, Synagogue, or Temple           1.0   \n",
       "121746        Vacant Church, Synagogue, or Temple           1.0   \n",
       "121747  Vacant Industrial or Manufacturing Blding           1.0   \n",
       "121748  Vacant Industrial or Manufacturing Blding           1.0   \n",
       "121749                                Vacant Bank           1.0   \n",
       "121750                                        02V           NaN   \n",
       "121751                                        09V           NaN   \n",
       "121752                                        13C           NaN   \n",
       "121753                                        15V           NaN   \n",
       "\n",
       "       premise_description  \n",
       "121744                 NaN  \n",
       "121745                 NaN  \n",
       "121746                 NaN  \n",
       "121747                 NaN  \n",
       "121748                 NaN  \n",
       "121749                 NaN  \n",
       "121750         VACANT BANK  \n",
       "121751     VACANT HOSPITAL  \n",
       "121752     CONTRA-FLOW/HOV  \n",
       "121753  VACANT JAIL/PRISON  "
      ]
     },
     "execution_count": 29,
     "metadata": {},
     "output_type": "execute_result"
    }
   ],
   "source": [
    "df[df.isnull().any(axis=1)][-10:]  # display last 10"
   ]
  },
  {
   "cell_type": "markdown",
   "metadata": {},
   "source": [
    "## Replace null values from premise_description from column premise"
   ]
  },
  {
   "cell_type": "code",
   "execution_count": 30,
   "metadata": {},
   "outputs": [],
   "source": [
    "df.premise_description.fillna(df.premise, inplace=True)"
   ]
  },
  {
   "cell_type": "code",
   "execution_count": 31,
   "metadata": {},
   "outputs": [
    {
     "data": {
      "text/plain": [
       "date                       8\n",
       "hour                       4\n",
       "beat                      20\n",
       "offense_type               4\n",
       "block_range              161\n",
       "street_name                4\n",
       "premise                29581\n",
       "num_offenses               4\n",
       "premise_description    29581\n",
       "dtype: int64"
      ]
     },
     "execution_count": 31,
     "metadata": {},
     "output_type": "execute_result"
    }
   ],
   "source": [
    "df.apply(lambda x: sum(x.isnull()))"
   ]
  },
  {
   "cell_type": "code",
   "execution_count": 32,
   "metadata": {},
   "outputs": [
    {
     "data": {
      "image/png": "[encoded data removed]",
      "text/plain": [
       "<Figure size 432x288 with 1 Axes>"
      ]
     },
     "metadata": {},
     "output_type": "display_data"
    }
   ],
   "source": [
    "sns.heatmap(df.isnull(),yticklabels=False,cbar=False,cmap='viridis')\n",
    "plt.title('Null dataset display')\n",
    "plt.show()"
   ]
  },
  {
   "cell_type": "code",
   "execution_count": 33,
   "metadata": {},
   "outputs": [
    {
     "data": {
      "text/html": [
       "<div>\n",
       "<style scoped>\n",
       "    .dataframe tbody tr th:only-of-type {\n",
       "        vertical-align: middle;\n",
       "    }\n",
       "\n",
       "    .dataframe tbody tr th {\n",
       "        vertical-align: top;\n",
       "    }\n",
       "\n",
       "    .dataframe thead th {\n",
       "        text-align: right;\n",
       "    }\n",
       "</style>\n",
       "<table border=\"1\" class=\"dataframe\">\n",
       "  <thead>\n",
       "    <tr style=\"text-align: right;\">\n",
       "      <th></th>\n",
       "      <th>date</th>\n",
       "      <th>hour</th>\n",
       "      <th>beat</th>\n",
       "      <th>offense_type</th>\n",
       "      <th>block_range</th>\n",
       "      <th>street_name</th>\n",
       "      <th>premise</th>\n",
       "      <th>num_offenses</th>\n",
       "      <th>premise_description</th>\n",
       "    </tr>\n",
       "  </thead>\n",
       "  <tbody>\n",
       "    <tr>\n",
       "      <th>94307</th>\n",
       "      <td>2014-09-17</td>\n",
       "      <td>20.0</td>\n",
       "      <td>UNK</td>\n",
       "      <td>Theft</td>\n",
       "      <td>8000-8099</td>\n",
       "      <td>GESSNER</td>\n",
       "      <td>NaN</td>\n",
       "      <td>1.0</td>\n",
       "      <td>NaN</td>\n",
       "    </tr>\n",
       "    <tr>\n",
       "      <th>94308</th>\n",
       "      <td>2014-09-27</td>\n",
       "      <td>2.0</td>\n",
       "      <td>UNK</td>\n",
       "      <td>Aggravated Assault</td>\n",
       "      <td>700-799</td>\n",
       "      <td>FM 1960</td>\n",
       "      <td>NaN</td>\n",
       "      <td>1.0</td>\n",
       "      <td>NaN</td>\n",
       "    </tr>\n",
       "    <tr>\n",
       "      <th>94309</th>\n",
       "      <td>2014-09-07</td>\n",
       "      <td>11.0</td>\n",
       "      <td>UNK</td>\n",
       "      <td>Theft</td>\n",
       "      <td>500-599</td>\n",
       "      <td>MARSHALL</td>\n",
       "      <td>NaN</td>\n",
       "      <td>1.0</td>\n",
       "      <td>NaN</td>\n",
       "    </tr>\n",
       "    <tr>\n",
       "      <th>94310</th>\n",
       "      <td>2014-09-04</td>\n",
       "      <td>15.0</td>\n",
       "      <td>UNK</td>\n",
       "      <td>Theft</td>\n",
       "      <td>9400-9499</td>\n",
       "      <td>FM 1960</td>\n",
       "      <td>NaN</td>\n",
       "      <td>1.0</td>\n",
       "      <td>NaN</td>\n",
       "    </tr>\n",
       "    <tr>\n",
       "      <th>94311</th>\n",
       "      <td>2014-09-14</td>\n",
       "      <td>19.0</td>\n",
       "      <td>UNK</td>\n",
       "      <td>Theft</td>\n",
       "      <td>12600-12699</td>\n",
       "      <td>LAKE HOUSTON</td>\n",
       "      <td>NaN</td>\n",
       "      <td>1.0</td>\n",
       "      <td>NaN</td>\n",
       "    </tr>\n",
       "    <tr>\n",
       "      <th>94312</th>\n",
       "      <td>2014-09-28</td>\n",
       "      <td>2.0</td>\n",
       "      <td>UNK</td>\n",
       "      <td>Theft</td>\n",
       "      <td>7900-7999</td>\n",
       "      <td>GESSNER</td>\n",
       "      <td>NaN</td>\n",
       "      <td>1.0</td>\n",
       "      <td>NaN</td>\n",
       "    </tr>\n",
       "    <tr>\n",
       "      <th>121750</th>\n",
       "      <td>NaT</td>\n",
       "      <td>NaN</td>\n",
       "      <td>NaN</td>\n",
       "      <td>NaN</td>\n",
       "      <td>NaN</td>\n",
       "      <td>NaN</td>\n",
       "      <td>02V</td>\n",
       "      <td>NaN</td>\n",
       "      <td>VACANT BANK</td>\n",
       "    </tr>\n",
       "    <tr>\n",
       "      <th>121751</th>\n",
       "      <td>NaT</td>\n",
       "      <td>NaN</td>\n",
       "      <td>NaN</td>\n",
       "      <td>NaN</td>\n",
       "      <td>NaN</td>\n",
       "      <td>NaN</td>\n",
       "      <td>09V</td>\n",
       "      <td>NaN</td>\n",
       "      <td>VACANT HOSPITAL</td>\n",
       "    </tr>\n",
       "    <tr>\n",
       "      <th>121752</th>\n",
       "      <td>NaT</td>\n",
       "      <td>NaN</td>\n",
       "      <td>NaN</td>\n",
       "      <td>NaN</td>\n",
       "      <td>NaN</td>\n",
       "      <td>NaN</td>\n",
       "      <td>13C</td>\n",
       "      <td>NaN</td>\n",
       "      <td>CONTRA-FLOW/HOV</td>\n",
       "    </tr>\n",
       "    <tr>\n",
       "      <th>121753</th>\n",
       "      <td>NaT</td>\n",
       "      <td>NaN</td>\n",
       "      <td>NaN</td>\n",
       "      <td>NaN</td>\n",
       "      <td>NaN</td>\n",
       "      <td>NaN</td>\n",
       "      <td>15V</td>\n",
       "      <td>NaN</td>\n",
       "      <td>VACANT JAIL/PRISON</td>\n",
       "    </tr>\n",
       "  </tbody>\n",
       "</table>\n",
       "</div>"
      ],
      "text/plain": [
       "             date  hour beat        offense_type  block_range   street_name  \\\n",
       "94307  2014-09-17  20.0  UNK               Theft    8000-8099       GESSNER   \n",
       "94308  2014-09-27   2.0  UNK  Aggravated Assault      700-799       FM 1960   \n",
       "94309  2014-09-07  11.0  UNK               Theft      500-599      MARSHALL   \n",
       "94310  2014-09-04  15.0  UNK               Theft    9400-9499       FM 1960   \n",
       "94311  2014-09-14  19.0  UNK               Theft  12600-12699  LAKE HOUSTON   \n",
       "94312  2014-09-28   2.0  UNK               Theft    7900-7999       GESSNER   \n",
       "121750        NaT   NaN  NaN                 NaN          NaN           NaN   \n",
       "121751        NaT   NaN  NaN                 NaN          NaN           NaN   \n",
       "121752        NaT   NaN  NaN                 NaN          NaN           NaN   \n",
       "121753        NaT   NaN  NaN                 NaN          NaN           NaN   \n",
       "\n",
       "       premise  num_offenses premise_description  \n",
       "94307      NaN           1.0                 NaN  \n",
       "94308      NaN           1.0                 NaN  \n",
       "94309      NaN           1.0                 NaN  \n",
       "94310      NaN           1.0                 NaN  \n",
       "94311      NaN           1.0                 NaN  \n",
       "94312      NaN           1.0                 NaN  \n",
       "121750     02V           NaN         VACANT BANK  \n",
       "121751     09V           NaN     VACANT HOSPITAL  \n",
       "121752     13C           NaN     CONTRA-FLOW/HOV  \n",
       "121753     15V           NaN  VACANT JAIL/PRISON  "
      ]
     },
     "execution_count": 33,
     "metadata": {},
     "output_type": "execute_result"
    }
   ],
   "source": [
    "df[df.isnull().any(axis=1)][-10:]  # display last 10"
   ]
  },
  {
   "cell_type": "markdown",
   "metadata": {},
   "source": [
    "## Drop premise column"
   ]
  },
  {
   "cell_type": "code",
   "execution_count": 34,
   "metadata": {},
   "outputs": [],
   "source": [
    "df.drop(['premise'],axis=1, inplace=True)"
   ]
  },
  {
   "cell_type": "markdown",
   "metadata": {},
   "source": [
    "## Rename premise_description to premise"
   ]
  },
  {
   "cell_type": "code",
   "execution_count": 35,
   "metadata": {},
   "outputs": [],
   "source": [
    "df.rename(columns={\n",
    "    'premise_description': 'premise',\n",
    "}, inplace=True)"
   ]
  },
  {
   "cell_type": "code",
   "execution_count": 36,
   "metadata": {},
   "outputs": [
    {
     "data": {
      "text/html": [
       "<div>\n",
       "<style scoped>\n",
       "    .dataframe tbody tr th:only-of-type {\n",
       "        vertical-align: middle;\n",
       "    }\n",
       "\n",
       "    .dataframe tbody tr th {\n",
       "        vertical-align: top;\n",
       "    }\n",
       "\n",
       "    .dataframe thead th {\n",
       "        text-align: right;\n",
       "    }\n",
       "</style>\n",
       "<table border=\"1\" class=\"dataframe\">\n",
       "  <thead>\n",
       "    <tr style=\"text-align: right;\">\n",
       "      <th></th>\n",
       "      <th>date</th>\n",
       "      <th>hour</th>\n",
       "      <th>beat</th>\n",
       "      <th>offense_type</th>\n",
       "      <th>block_range</th>\n",
       "      <th>street_name</th>\n",
       "      <th>num_offenses</th>\n",
       "      <th>premise</th>\n",
       "    </tr>\n",
       "  </thead>\n",
       "  <tbody>\n",
       "    <tr>\n",
       "      <th>0</th>\n",
       "      <td>2014-04-19</td>\n",
       "      <td>17.0</td>\n",
       "      <td>14D30</td>\n",
       "      <td>Murder</td>\n",
       "      <td>8500-8599</td>\n",
       "      <td>MARTIN LUTHER KING</td>\n",
       "      <td>1.0</td>\n",
       "      <td>LAUNDRY/DRY CLEANERS PARKING LOT</td>\n",
       "    </tr>\n",
       "    <tr>\n",
       "      <th>1</th>\n",
       "      <td>2014-04-13</td>\n",
       "      <td>2.0</td>\n",
       "      <td>3B10</td>\n",
       "      <td>Robbery</td>\n",
       "      <td>4400-4499</td>\n",
       "      <td>SHERWOOD</td>\n",
       "      <td>1.0</td>\n",
       "      <td>LAUNDRY/DRY CLEANERS PARKING LOT</td>\n",
       "    </tr>\n",
       "    <tr>\n",
       "      <th>2</th>\n",
       "      <td>2014-04-11</td>\n",
       "      <td>12.0</td>\n",
       "      <td>16E30</td>\n",
       "      <td>Theft</td>\n",
       "      <td>5300-5399</td>\n",
       "      <td>OREM</td>\n",
       "      <td>1.0</td>\n",
       "      <td>LAUNDRY/DRY CLEANERS PARKING LOT</td>\n",
       "    </tr>\n",
       "    <tr>\n",
       "      <th>3</th>\n",
       "      <td>2014-04-12</td>\n",
       "      <td>11.0</td>\n",
       "      <td>13D20</td>\n",
       "      <td>Theft</td>\n",
       "      <td>6600-6699</td>\n",
       "      <td>TELEPHONE</td>\n",
       "      <td>1.0</td>\n",
       "      <td>LAUNDRY/DRY CLEANERS PARKING LOT</td>\n",
       "    </tr>\n",
       "    <tr>\n",
       "      <th>4</th>\n",
       "      <td>2014-04-13</td>\n",
       "      <td>15.0</td>\n",
       "      <td>8C50</td>\n",
       "      <td>Theft</td>\n",
       "      <td>8800-8899</td>\n",
       "      <td>TIDWELL</td>\n",
       "      <td>1.0</td>\n",
       "      <td>LAUNDRY/DRY CLEANERS PARKING LOT</td>\n",
       "    </tr>\n",
       "  </tbody>\n",
       "</table>\n",
       "</div>"
      ],
      "text/plain": [
       "        date  hour   beat offense_type block_range         street_name  \\\n",
       "0 2014-04-19  17.0  14D30       Murder   8500-8599  MARTIN LUTHER KING   \n",
       "1 2014-04-13   2.0   3B10      Robbery   4400-4499            SHERWOOD   \n",
       "2 2014-04-11  12.0  16E30        Theft   5300-5399                OREM   \n",
       "3 2014-04-12  11.0  13D20        Theft   6600-6699           TELEPHONE   \n",
       "4 2014-04-13  15.0   8C50        Theft   8800-8899             TIDWELL   \n",
       "\n",
       "   num_offenses                           premise  \n",
       "0           1.0  LAUNDRY/DRY CLEANERS PARKING LOT  \n",
       "1           1.0  LAUNDRY/DRY CLEANERS PARKING LOT  \n",
       "2           1.0  LAUNDRY/DRY CLEANERS PARKING LOT  \n",
       "3           1.0  LAUNDRY/DRY CLEANERS PARKING LOT  \n",
       "4           1.0  LAUNDRY/DRY CLEANERS PARKING LOT  "
      ]
     },
     "execution_count": 36,
     "metadata": {},
     "output_type": "execute_result"
    }
   ],
   "source": [
    "df.head()"
   ]
  },
  {
   "cell_type": "markdown",
   "metadata": {},
   "source": [
    "# Null values"
   ]
  },
  {
   "cell_type": "code",
   "execution_count": 37,
   "metadata": {},
   "outputs": [
    {
     "data": {
      "text/plain": [
       "date                8\n",
       "hour                4\n",
       "beat               20\n",
       "offense_type        4\n",
       "block_range       161\n",
       "street_name         4\n",
       "num_offenses        4\n",
       "premise         29581\n",
       "dtype: int64"
      ]
     },
     "execution_count": 37,
     "metadata": {},
     "output_type": "execute_result"
    }
   ],
   "source": [
    "df.apply(lambda x: sum(x.isnull()))"
   ]
  },
  {
   "cell_type": "code",
   "execution_count": 38,
   "metadata": {},
   "outputs": [
    {
     "data": {
      "text/html": [
       "<div>\n",
       "<style scoped>\n",
       "    .dataframe tbody tr th:only-of-type {\n",
       "        vertical-align: middle;\n",
       "    }\n",
       "\n",
       "    .dataframe tbody tr th {\n",
       "        vertical-align: top;\n",
       "    }\n",
       "\n",
       "    .dataframe thead th {\n",
       "        text-align: right;\n",
       "    }\n",
       "</style>\n",
       "<table border=\"1\" class=\"dataframe\">\n",
       "  <thead>\n",
       "    <tr style=\"text-align: right;\">\n",
       "      <th></th>\n",
       "      <th>date</th>\n",
       "      <th>hour</th>\n",
       "      <th>beat</th>\n",
       "      <th>offense_type</th>\n",
       "      <th>block_range</th>\n",
       "      <th>street_name</th>\n",
       "      <th>num_offenses</th>\n",
       "      <th>premise</th>\n",
       "    </tr>\n",
       "  </thead>\n",
       "  <tbody>\n",
       "    <tr>\n",
       "      <th>94307</th>\n",
       "      <td>2014-09-17</td>\n",
       "      <td>20.0</td>\n",
       "      <td>UNK</td>\n",
       "      <td>Theft</td>\n",
       "      <td>8000-8099</td>\n",
       "      <td>GESSNER</td>\n",
       "      <td>1.0</td>\n",
       "      <td>NaN</td>\n",
       "    </tr>\n",
       "    <tr>\n",
       "      <th>94308</th>\n",
       "      <td>2014-09-27</td>\n",
       "      <td>2.0</td>\n",
       "      <td>UNK</td>\n",
       "      <td>Aggravated Assault</td>\n",
       "      <td>700-799</td>\n",
       "      <td>FM 1960</td>\n",
       "      <td>1.0</td>\n",
       "      <td>NaN</td>\n",
       "    </tr>\n",
       "    <tr>\n",
       "      <th>94309</th>\n",
       "      <td>2014-09-07</td>\n",
       "      <td>11.0</td>\n",
       "      <td>UNK</td>\n",
       "      <td>Theft</td>\n",
       "      <td>500-599</td>\n",
       "      <td>MARSHALL</td>\n",
       "      <td>1.0</td>\n",
       "      <td>NaN</td>\n",
       "    </tr>\n",
       "    <tr>\n",
       "      <th>94310</th>\n",
       "      <td>2014-09-04</td>\n",
       "      <td>15.0</td>\n",
       "      <td>UNK</td>\n",
       "      <td>Theft</td>\n",
       "      <td>9400-9499</td>\n",
       "      <td>FM 1960</td>\n",
       "      <td>1.0</td>\n",
       "      <td>NaN</td>\n",
       "    </tr>\n",
       "    <tr>\n",
       "      <th>94311</th>\n",
       "      <td>2014-09-14</td>\n",
       "      <td>19.0</td>\n",
       "      <td>UNK</td>\n",
       "      <td>Theft</td>\n",
       "      <td>12600-12699</td>\n",
       "      <td>LAKE HOUSTON</td>\n",
       "      <td>1.0</td>\n",
       "      <td>NaN</td>\n",
       "    </tr>\n",
       "    <tr>\n",
       "      <th>94312</th>\n",
       "      <td>2014-09-28</td>\n",
       "      <td>2.0</td>\n",
       "      <td>UNK</td>\n",
       "      <td>Theft</td>\n",
       "      <td>7900-7999</td>\n",
       "      <td>GESSNER</td>\n",
       "      <td>1.0</td>\n",
       "      <td>NaN</td>\n",
       "    </tr>\n",
       "    <tr>\n",
       "      <th>121750</th>\n",
       "      <td>NaT</td>\n",
       "      <td>NaN</td>\n",
       "      <td>NaN</td>\n",
       "      <td>NaN</td>\n",
       "      <td>NaN</td>\n",
       "      <td>NaN</td>\n",
       "      <td>NaN</td>\n",
       "      <td>VACANT BANK</td>\n",
       "    </tr>\n",
       "    <tr>\n",
       "      <th>121751</th>\n",
       "      <td>NaT</td>\n",
       "      <td>NaN</td>\n",
       "      <td>NaN</td>\n",
       "      <td>NaN</td>\n",
       "      <td>NaN</td>\n",
       "      <td>NaN</td>\n",
       "      <td>NaN</td>\n",
       "      <td>VACANT HOSPITAL</td>\n",
       "    </tr>\n",
       "    <tr>\n",
       "      <th>121752</th>\n",
       "      <td>NaT</td>\n",
       "      <td>NaN</td>\n",
       "      <td>NaN</td>\n",
       "      <td>NaN</td>\n",
       "      <td>NaN</td>\n",
       "      <td>NaN</td>\n",
       "      <td>NaN</td>\n",
       "      <td>CONTRA-FLOW/HOV</td>\n",
       "    </tr>\n",
       "    <tr>\n",
       "      <th>121753</th>\n",
       "      <td>NaT</td>\n",
       "      <td>NaN</td>\n",
       "      <td>NaN</td>\n",
       "      <td>NaN</td>\n",
       "      <td>NaN</td>\n",
       "      <td>NaN</td>\n",
       "      <td>NaN</td>\n",
       "      <td>VACANT JAIL/PRISON</td>\n",
       "    </tr>\n",
       "  </tbody>\n",
       "</table>\n",
       "</div>"
      ],
      "text/plain": [
       "             date  hour beat        offense_type  block_range   street_name  \\\n",
       "94307  2014-09-17  20.0  UNK               Theft    8000-8099       GESSNER   \n",
       "94308  2014-09-27   2.0  UNK  Aggravated Assault      700-799       FM 1960   \n",
       "94309  2014-09-07  11.0  UNK               Theft      500-599      MARSHALL   \n",
       "94310  2014-09-04  15.0  UNK               Theft    9400-9499       FM 1960   \n",
       "94311  2014-09-14  19.0  UNK               Theft  12600-12699  LAKE HOUSTON   \n",
       "94312  2014-09-28   2.0  UNK               Theft    7900-7999       GESSNER   \n",
       "121750        NaT   NaN  NaN                 NaN          NaN           NaN   \n",
       "121751        NaT   NaN  NaN                 NaN          NaN           NaN   \n",
       "121752        NaT   NaN  NaN                 NaN          NaN           NaN   \n",
       "121753        NaT   NaN  NaN                 NaN          NaN           NaN   \n",
       "\n",
       "        num_offenses             premise  \n",
       "94307            1.0                 NaN  \n",
       "94308            1.0                 NaN  \n",
       "94309            1.0                 NaN  \n",
       "94310            1.0                 NaN  \n",
       "94311            1.0                 NaN  \n",
       "94312            1.0                 NaN  \n",
       "121750           NaN         VACANT BANK  \n",
       "121751           NaN     VACANT HOSPITAL  \n",
       "121752           NaN     CONTRA-FLOW/HOV  \n",
       "121753           NaN  VACANT JAIL/PRISON  "
      ]
     },
     "execution_count": 38,
     "metadata": {},
     "output_type": "execute_result"
    }
   ],
   "source": [
    "df[df.isnull().any(axis=1)][-10:]  # display last 10"
   ]
  },
  {
   "cell_type": "markdown",
   "metadata": {},
   "source": [
    "### Drop rows with more than 3 null values"
   ]
  },
  {
   "cell_type": "code",
   "execution_count": 39,
   "metadata": {},
   "outputs": [],
   "source": [
    "df.dropna(thresh=3,inplace=True)"
   ]
  },
  {
   "cell_type": "code",
   "execution_count": 40,
   "metadata": {},
   "outputs": [
    {
     "data": {
      "text/html": [
       "<div>\n",
       "<style scoped>\n",
       "    .dataframe tbody tr th:only-of-type {\n",
       "        vertical-align: middle;\n",
       "    }\n",
       "\n",
       "    .dataframe tbody tr th {\n",
       "        vertical-align: top;\n",
       "    }\n",
       "\n",
       "    .dataframe thead th {\n",
       "        text-align: right;\n",
       "    }\n",
       "</style>\n",
       "<table border=\"1\" class=\"dataframe\">\n",
       "  <thead>\n",
       "    <tr style=\"text-align: right;\">\n",
       "      <th></th>\n",
       "      <th>date</th>\n",
       "      <th>hour</th>\n",
       "      <th>beat</th>\n",
       "      <th>offense_type</th>\n",
       "      <th>block_range</th>\n",
       "      <th>street_name</th>\n",
       "      <th>num_offenses</th>\n",
       "      <th>premise</th>\n",
       "    </tr>\n",
       "  </thead>\n",
       "  <tbody>\n",
       "    <tr>\n",
       "      <th>94303</th>\n",
       "      <td>2014-09-28</td>\n",
       "      <td>4.0</td>\n",
       "      <td>UNK</td>\n",
       "      <td>Aggravated Assault</td>\n",
       "      <td>12700-12799</td>\n",
       "      <td>NORTH</td>\n",
       "      <td>1.0</td>\n",
       "      <td>NaN</td>\n",
       "    </tr>\n",
       "    <tr>\n",
       "      <th>94304</th>\n",
       "      <td>2014-09-15</td>\n",
       "      <td>9.0</td>\n",
       "      <td>UNK</td>\n",
       "      <td>Theft</td>\n",
       "      <td>3200-3299</td>\n",
       "      <td>MAIN</td>\n",
       "      <td>1.0</td>\n",
       "      <td>NaN</td>\n",
       "    </tr>\n",
       "    <tr>\n",
       "      <th>94305</th>\n",
       "      <td>2014-09-04</td>\n",
       "      <td>2.0</td>\n",
       "      <td>UNK</td>\n",
       "      <td>Burglary</td>\n",
       "      <td>8700-8799</td>\n",
       "      <td>GESSNER</td>\n",
       "      <td>1.0</td>\n",
       "      <td>NaN</td>\n",
       "    </tr>\n",
       "    <tr>\n",
       "      <th>94306</th>\n",
       "      <td>2014-09-01</td>\n",
       "      <td>10.0</td>\n",
       "      <td>UNK</td>\n",
       "      <td>Theft</td>\n",
       "      <td>3200-3299</td>\n",
       "      <td>SH 6</td>\n",
       "      <td>1.0</td>\n",
       "      <td>NaN</td>\n",
       "    </tr>\n",
       "    <tr>\n",
       "      <th>94307</th>\n",
       "      <td>2014-09-17</td>\n",
       "      <td>20.0</td>\n",
       "      <td>UNK</td>\n",
       "      <td>Theft</td>\n",
       "      <td>8000-8099</td>\n",
       "      <td>GESSNER</td>\n",
       "      <td>1.0</td>\n",
       "      <td>NaN</td>\n",
       "    </tr>\n",
       "    <tr>\n",
       "      <th>94308</th>\n",
       "      <td>2014-09-27</td>\n",
       "      <td>2.0</td>\n",
       "      <td>UNK</td>\n",
       "      <td>Aggravated Assault</td>\n",
       "      <td>700-799</td>\n",
       "      <td>FM 1960</td>\n",
       "      <td>1.0</td>\n",
       "      <td>NaN</td>\n",
       "    </tr>\n",
       "    <tr>\n",
       "      <th>94309</th>\n",
       "      <td>2014-09-07</td>\n",
       "      <td>11.0</td>\n",
       "      <td>UNK</td>\n",
       "      <td>Theft</td>\n",
       "      <td>500-599</td>\n",
       "      <td>MARSHALL</td>\n",
       "      <td>1.0</td>\n",
       "      <td>NaN</td>\n",
       "    </tr>\n",
       "    <tr>\n",
       "      <th>94310</th>\n",
       "      <td>2014-09-04</td>\n",
       "      <td>15.0</td>\n",
       "      <td>UNK</td>\n",
       "      <td>Theft</td>\n",
       "      <td>9400-9499</td>\n",
       "      <td>FM 1960</td>\n",
       "      <td>1.0</td>\n",
       "      <td>NaN</td>\n",
       "    </tr>\n",
       "    <tr>\n",
       "      <th>94311</th>\n",
       "      <td>2014-09-14</td>\n",
       "      <td>19.0</td>\n",
       "      <td>UNK</td>\n",
       "      <td>Theft</td>\n",
       "      <td>12600-12699</td>\n",
       "      <td>LAKE HOUSTON</td>\n",
       "      <td>1.0</td>\n",
       "      <td>NaN</td>\n",
       "    </tr>\n",
       "    <tr>\n",
       "      <th>94312</th>\n",
       "      <td>2014-09-28</td>\n",
       "      <td>2.0</td>\n",
       "      <td>UNK</td>\n",
       "      <td>Theft</td>\n",
       "      <td>7900-7999</td>\n",
       "      <td>GESSNER</td>\n",
       "      <td>1.0</td>\n",
       "      <td>NaN</td>\n",
       "    </tr>\n",
       "  </tbody>\n",
       "</table>\n",
       "</div>"
      ],
      "text/plain": [
       "            date  hour beat        offense_type  block_range   street_name  \\\n",
       "94303 2014-09-28   4.0  UNK  Aggravated Assault  12700-12799         NORTH   \n",
       "94304 2014-09-15   9.0  UNK               Theft    3200-3299          MAIN   \n",
       "94305 2014-09-04   2.0  UNK            Burglary    8700-8799       GESSNER   \n",
       "94306 2014-09-01  10.0  UNK               Theft    3200-3299          SH 6   \n",
       "94307 2014-09-17  20.0  UNK               Theft    8000-8099       GESSNER   \n",
       "94308 2014-09-27   2.0  UNK  Aggravated Assault      700-799       FM 1960   \n",
       "94309 2014-09-07  11.0  UNK               Theft      500-599      MARSHALL   \n",
       "94310 2014-09-04  15.0  UNK               Theft    9400-9499       FM 1960   \n",
       "94311 2014-09-14  19.0  UNK               Theft  12600-12699  LAKE HOUSTON   \n",
       "94312 2014-09-28   2.0  UNK               Theft    7900-7999       GESSNER   \n",
       "\n",
       "       num_offenses premise  \n",
       "94303           1.0     NaN  \n",
       "94304           1.0     NaN  \n",
       "94305           1.0     NaN  \n",
       "94306           1.0     NaN  \n",
       "94307           1.0     NaN  \n",
       "94308           1.0     NaN  \n",
       "94309           1.0     NaN  \n",
       "94310           1.0     NaN  \n",
       "94311           1.0     NaN  \n",
       "94312           1.0     NaN  "
      ]
     },
     "execution_count": 40,
     "metadata": {},
     "output_type": "execute_result"
    }
   ],
   "source": [
    "df[df.isnull().any(axis=1)][-10:]  # display last 10"
   ]
  },
  {
   "cell_type": "markdown",
   "metadata": {},
   "source": [
    "### Replace null values on premise_code to 'none'"
   ]
  },
  {
   "cell_type": "code",
   "execution_count": 41,
   "metadata": {},
   "outputs": [],
   "source": [
    "df.premise.fillna('UNK',inplace=True)"
   ]
  },
  {
   "cell_type": "code",
   "execution_count": 42,
   "metadata": {},
   "outputs": [
    {
     "data": {
      "text/plain": [
       "date              4\n",
       "hour              0\n",
       "beat             16\n",
       "offense_type      0\n",
       "block_range     157\n",
       "street_name       0\n",
       "num_offenses      0\n",
       "premise           0\n",
       "dtype: int64"
      ]
     },
     "execution_count": 42,
     "metadata": {},
     "output_type": "execute_result"
    }
   ],
   "source": [
    "df.apply(lambda x: sum(x.isnull()))"
   ]
  },
  {
   "cell_type": "markdown",
   "metadata": {},
   "source": [
    "# Inspect each column"
   ]
  },
  {
   "cell_type": "markdown",
   "metadata": {},
   "source": [
    "## `num_offenses`"
   ]
  },
  {
   "cell_type": "code",
   "execution_count": 43,
   "metadata": {},
   "outputs": [
    {
     "data": {
      "text/html": [
       "<div>\n",
       "<style scoped>\n",
       "    .dataframe tbody tr th:only-of-type {\n",
       "        vertical-align: middle;\n",
       "    }\n",
       "\n",
       "    .dataframe tbody tr th {\n",
       "        vertical-align: top;\n",
       "    }\n",
       "\n",
       "    .dataframe thead th {\n",
       "        text-align: right;\n",
       "    }\n",
       "</style>\n",
       "<table border=\"1\" class=\"dataframe\">\n",
       "  <thead>\n",
       "    <tr style=\"text-align: right;\">\n",
       "      <th></th>\n",
       "      <th>date</th>\n",
       "      <th>hour</th>\n",
       "      <th>beat</th>\n",
       "      <th>offense_type</th>\n",
       "      <th>block_range</th>\n",
       "      <th>street_name</th>\n",
       "      <th>num_offenses</th>\n",
       "      <th>premise</th>\n",
       "    </tr>\n",
       "  </thead>\n",
       "  <tbody>\n",
       "    <tr>\n",
       "      <th>0</th>\n",
       "      <td>2014-04-19</td>\n",
       "      <td>17.0</td>\n",
       "      <td>14D30</td>\n",
       "      <td>Murder</td>\n",
       "      <td>8500-8599</td>\n",
       "      <td>MARTIN LUTHER KING</td>\n",
       "      <td>1.0</td>\n",
       "      <td>LAUNDRY/DRY CLEANERS PARKING LOT</td>\n",
       "    </tr>\n",
       "    <tr>\n",
       "      <th>1</th>\n",
       "      <td>2014-04-13</td>\n",
       "      <td>2.0</td>\n",
       "      <td>3B10</td>\n",
       "      <td>Robbery</td>\n",
       "      <td>4400-4499</td>\n",
       "      <td>SHERWOOD</td>\n",
       "      <td>1.0</td>\n",
       "      <td>LAUNDRY/DRY CLEANERS PARKING LOT</td>\n",
       "    </tr>\n",
       "    <tr>\n",
       "      <th>2</th>\n",
       "      <td>2014-04-11</td>\n",
       "      <td>12.0</td>\n",
       "      <td>16E30</td>\n",
       "      <td>Theft</td>\n",
       "      <td>5300-5399</td>\n",
       "      <td>OREM</td>\n",
       "      <td>1.0</td>\n",
       "      <td>LAUNDRY/DRY CLEANERS PARKING LOT</td>\n",
       "    </tr>\n",
       "    <tr>\n",
       "      <th>3</th>\n",
       "      <td>2014-04-12</td>\n",
       "      <td>11.0</td>\n",
       "      <td>13D20</td>\n",
       "      <td>Theft</td>\n",
       "      <td>6600-6699</td>\n",
       "      <td>TELEPHONE</td>\n",
       "      <td>1.0</td>\n",
       "      <td>LAUNDRY/DRY CLEANERS PARKING LOT</td>\n",
       "    </tr>\n",
       "    <tr>\n",
       "      <th>4</th>\n",
       "      <td>2014-04-13</td>\n",
       "      <td>15.0</td>\n",
       "      <td>8C50</td>\n",
       "      <td>Theft</td>\n",
       "      <td>8800-8899</td>\n",
       "      <td>TIDWELL</td>\n",
       "      <td>1.0</td>\n",
       "      <td>LAUNDRY/DRY CLEANERS PARKING LOT</td>\n",
       "    </tr>\n",
       "  </tbody>\n",
       "</table>\n",
       "</div>"
      ],
      "text/plain": [
       "        date  hour   beat offense_type block_range         street_name  \\\n",
       "0 2014-04-19  17.0  14D30       Murder   8500-8599  MARTIN LUTHER KING   \n",
       "1 2014-04-13   2.0   3B10      Robbery   4400-4499            SHERWOOD   \n",
       "2 2014-04-11  12.0  16E30        Theft   5300-5399                OREM   \n",
       "3 2014-04-12  11.0  13D20        Theft   6600-6699           TELEPHONE   \n",
       "4 2014-04-13  15.0   8C50        Theft   8800-8899             TIDWELL   \n",
       "\n",
       "   num_offenses                           premise  \n",
       "0           1.0  LAUNDRY/DRY CLEANERS PARKING LOT  \n",
       "1           1.0  LAUNDRY/DRY CLEANERS PARKING LOT  \n",
       "2           1.0  LAUNDRY/DRY CLEANERS PARKING LOT  \n",
       "3           1.0  LAUNDRY/DRY CLEANERS PARKING LOT  \n",
       "4           1.0  LAUNDRY/DRY CLEANERS PARKING LOT  "
      ]
     },
     "execution_count": 43,
     "metadata": {},
     "output_type": "execute_result"
    }
   ],
   "source": [
    "df.head()"
   ]
  },
  {
   "cell_type": "code",
   "execution_count": 44,
   "metadata": {},
   "outputs": [
    {
     "data": {
      "text/plain": [
       "1.0     119966\n",
       "2.0       1560\n",
       "3.0        176\n",
       "4.0         27\n",
       "5.0         11\n",
       "6.0          7\n",
       "7.0          1\n",
       "12.0         1\n",
       "29.0         1\n",
       "Name: num_offenses, dtype: int64"
      ]
     },
     "execution_count": 44,
     "metadata": {},
     "output_type": "execute_result"
    }
   ],
   "source": [
    "df.num_offenses.value_counts(dropna=False)"
   ]
  },
  {
   "cell_type": "code",
   "execution_count": 45,
   "metadata": {},
   "outputs": [
    {
     "data": {
      "text/plain": [
       "dtype('float64')"
      ]
     },
     "execution_count": 45,
     "metadata": {},
     "output_type": "execute_result"
    }
   ],
   "source": [
    "df.num_offenses.dtype"
   ]
  },
  {
   "cell_type": "markdown",
   "metadata": {},
   "source": [
    "### Change the type from float to integer"
   ]
  },
  {
   "cell_type": "code",
   "execution_count": 46,
   "metadata": {},
   "outputs": [],
   "source": [
    "df.num_offenses = df.num_offenses.astype('int')"
   ]
  },
  {
   "cell_type": "code",
   "execution_count": 47,
   "metadata": {},
   "outputs": [
    {
     "data": {
      "text/plain": [
       "dtype('int64')"
      ]
     },
     "execution_count": 47,
     "metadata": {},
     "output_type": "execute_result"
    }
   ],
   "source": [
    "df.num_offenses.dtype"
   ]
  },
  {
   "cell_type": "code",
   "execution_count": 48,
   "metadata": {},
   "outputs": [
    {
     "data": {
      "text/plain": [
       "1     119966\n",
       "2       1560\n",
       "3        176\n",
       "4         27\n",
       "5         11\n",
       "6          7\n",
       "29         1\n",
       "12         1\n",
       "7          1\n",
       "Name: num_offenses, dtype: int64"
      ]
     },
     "execution_count": 48,
     "metadata": {},
     "output_type": "execute_result"
    }
   ],
   "source": [
    "df.num_offenses.value_counts(dropna=False)"
   ]
  },
  {
   "cell_type": "markdown",
   "metadata": {},
   "source": [
    "## `beat`"
   ]
  },
  {
   "cell_type": "code",
   "execution_count": 49,
   "metadata": {},
   "outputs": [
    {
     "data": {
      "text/plain": [
       "234"
      ]
     },
     "execution_count": 49,
     "metadata": {},
     "output_type": "execute_result"
    }
   ],
   "source": [
    "len(df.beat.value_counts(dropna='False'))"
   ]
  },
  {
   "cell_type": "code",
   "execution_count": 50,
   "metadata": {},
   "outputs": [
    {
     "data": {
      "text/plain": [
       "array(['14D30', '3B10', '16E30', '13D20', '8C50', '14D40', '13D10',\n",
       "       '2A50', '17E10', '15E20', '14D20', '10H10', '3B40', '2A20',\n",
       "       '12D10', '15E30', '18F40', '20G60', '20G70', '5F10', '1A30',\n",
       "       '1A40', '4F10', '3B50', '8C10', '1A50', '19G50', '18F50', '18F60',\n",
       "       '16E20', '10H20', '2A10', '17E30', '2A40', '2A30', '8C60', '1A10',\n",
       "       '1A20', '11H30', '10H40', '10H50', '19G40', '11H10', '14D10',\n",
       "       '6B30', '20G20', '16E40', '20G50', '6B40', '17E40', '19G10',\n",
       "       '18F20', '15E40', '9C40', '7C20', '6B50', '19G20', '7C30', '12D20',\n",
       "       '10H70', '5F20', '7C10', '4F20', '20G30', '20G10', '20G40',\n",
       "       '24C50', '6B20', '17E20', '6B60', '10H60', '11H20', '7C50', '5F30',\n",
       "       '9C10', '10H30', '5F40', '2A60', '24C20', '20G80', '12D30',\n",
       "       '11H40', '19G30', '8C40', '12D60', '12D50', '10H80', '9C20',\n",
       "       '6B10', '9C30', '18F30', '4F30', '11H50', '15E10', '7C40', '8C30',\n",
       "       '12D70', '24C10', '24C60', '18F10', '24C30', '8C20', 'UNK',\n",
       "       '16E10', '12D40', '13D40', '3B30', '14D50', '13D30', '23J30',\n",
       "       '24C40', '21I50', '21I10', '21I30', '23J50', '21I20', '21I60',\n",
       "       '21I70', '21I40', nan, 'HCSO', 'OOJ', \"'18F20\", \"'1A30\", \"'14D10\",\n",
       "       \"'6B20\", \"'3B40\", \"'2A50\", \"'2A30\", \"'18F30\", \"'13D10\", \"'8C30\",\n",
       "       \"'24C10\", \"'20G10\", \"'19G30\", \"'18F40\", \"'11H30\", \"'12D10\",\n",
       "       \"'10H10\", \"'5F40\", \"'7C50\", \"'21I50\", \"'8C20\", \"'8C60\", \"'1A50\",\n",
       "       \"'20G20\", \"'17E30\", \"'16E20\", \"'20G70\", \"'24C40\", \"'15E40\",\n",
       "       \"'20G30\", \"'1A40\", \"'19G10\", \"'19G50\", \"'4F10\", \"'4F20\", \"'15E30\",\n",
       "       \"'1A20\", \"'8C10\", \"'11H10\", \"'9C20\", \"'6B60\", \"'3B10\", \"'20G40\",\n",
       "       \"'2A20\", \"'10H20\", \"'12D60\", \"'9C40\", \"'UNK\", \"'8C40\", \"'2A40\",\n",
       "       \"'19G20\", \"'6B10\", \"'10H50\", \"'18F60\", \"'16E40\", \"'10H40\", \"'6B40\",\n",
       "       \"'7C30\", \"'6B30\", \"'5F30\", \"'8C50\", \"'1A10\", \"'10H30\", \"'21I10\",\n",
       "       \"'13D40\", \"'19G40\", \"'2A60\", \"'5F20\", \"'17E20\", \"'17E10\", \"'10H60\",\n",
       "       \"'24C30\", \"'11H50\", \"'7C40\", \"'14D20\", \"'12D50\", \"'12D20\", \"'3B50\",\n",
       "       \"'18F50\", \"'13D20\", \"'7C20\", \"'7C10\", \"'24C50\", \"'15E10\", \"'15E20\",\n",
       "       \"'9C10\", \"'12D30\", \"'10H70\", \"'3B30\", \"'16E10\", \"'17E40\", \"'6B50\",\n",
       "       \"'9C30\", \"'10H80\", \"'20G50\", \"'18F10\", \"'14D40\", \"'11H20\",\n",
       "       \"'14D30\", \"'16E30\", \"'2A10\", \"'20G60\", \"'5F10\", \"'20G80\", \"'12D40\",\n",
       "       \"'12D70\", \"'11H40\", \"'24C20\", \"'14D50\", \"'4F30\", \"'23J50\", '23J40',\n",
       "       'UH-3P'], dtype=object)"
      ]
     },
     "execution_count": 50,
     "metadata": {},
     "output_type": "execute_result"
    }
   ],
   "source": [
    "df.beat.unique()"
   ]
  },
  {
   "cell_type": "code",
   "execution_count": 51,
   "metadata": {},
   "outputs": [],
   "source": [
    "df.beat = df.beat.str.strip()"
   ]
  },
  {
   "cell_type": "code",
   "execution_count": 52,
   "metadata": {},
   "outputs": [
    {
     "data": {
      "text/plain": [
       "235"
      ]
     },
     "execution_count": 52,
     "metadata": {},
     "output_type": "execute_result"
    }
   ],
   "source": [
    "len(df.beat.unique())"
   ]
  },
  {
   "cell_type": "markdown",
   "metadata": {},
   "source": [
    "## `block_range`"
   ]
  },
  {
   "cell_type": "code",
   "execution_count": 53,
   "metadata": {},
   "outputs": [
    {
     "data": {
      "text/plain": [
       "251"
      ]
     },
     "execution_count": 53,
     "metadata": {},
     "output_type": "execute_result"
    }
   ],
   "source": [
    "len(df.block_range.unique())"
   ]
  },
  {
   "cell_type": "code",
   "execution_count": 54,
   "metadata": {},
   "outputs": [],
   "source": [
    "df.block_range = df.block_range.str.strip()"
   ]
  },
  {
   "cell_type": "code",
   "execution_count": 55,
   "metadata": {},
   "outputs": [
    {
     "data": {
      "text/plain": [
       "251"
      ]
     },
     "execution_count": 55,
     "metadata": {},
     "output_type": "execute_result"
    }
   ],
   "source": [
    "len(df.block_range.unique())"
   ]
  },
  {
   "cell_type": "markdown",
   "metadata": {},
   "source": [
    "## `date`"
   ]
  },
  {
   "cell_type": "code",
   "execution_count": 56,
   "metadata": {},
   "outputs": [
    {
     "data": {
      "text/plain": [
       "dtype('<M8[ns]')"
      ]
     },
     "execution_count": 56,
     "metadata": {},
     "output_type": "execute_result"
    }
   ],
   "source": [
    "df['date'].dtype"
   ]
  },
  {
   "cell_type": "markdown",
   "metadata": {},
   "source": [
    "## `hour`"
   ]
  },
  {
   "cell_type": "code",
   "execution_count": 57,
   "metadata": {},
   "outputs": [
    {
     "data": {
      "text/plain": [
       "18.0    7073\n",
       "15.0    7068\n",
       "16.0    7006\n",
       "12.0    6865\n",
       "17.0    6841\n",
       "14.0    6637\n",
       "19.0    6515\n",
       "13.0    6301\n",
       "20.0    6206\n",
       "10.0    6144\n",
       "11.0    6102\n",
       "9.0     5743\n",
       "21.0    5560\n",
       "8.0     5324\n",
       "22.0    5295\n",
       "0.0     4712\n",
       "7.0     4308\n",
       "23.0    4305\n",
       "6.0     2874\n",
       "2.0     2583\n",
       "1.0     2559\n",
       "3.0     2039\n",
       "5.0     1970\n",
       "4.0     1719\n",
       "24.0       1\n",
       "Name: hour, dtype: int64"
      ]
     },
     "execution_count": 57,
     "metadata": {},
     "output_type": "execute_result"
    }
   ],
   "source": [
    "df.hour.value_counts(dropna=False)"
   ]
  },
  {
   "cell_type": "code",
   "execution_count": 58,
   "metadata": {},
   "outputs": [
    {
     "data": {
      "text/plain": [
       "dtype('float64')"
      ]
     },
     "execution_count": 58,
     "metadata": {},
     "output_type": "execute_result"
    }
   ],
   "source": [
    "df.hour.dtype"
   ]
  },
  {
   "cell_type": "markdown",
   "metadata": {},
   "source": [
    "## Change dtype "
   ]
  },
  {
   "cell_type": "code",
   "execution_count": 59,
   "metadata": {},
   "outputs": [],
   "source": [
    "df.hour = df.hour.astype('int')"
   ]
  },
  {
   "cell_type": "code",
   "execution_count": 60,
   "metadata": {},
   "outputs": [
    {
     "data": {
      "text/plain": [
       "dtype('int64')"
      ]
     },
     "execution_count": 60,
     "metadata": {},
     "output_type": "execute_result"
    }
   ],
   "source": [
    "df.hour.dtype"
   ]
  },
  {
   "cell_type": "code",
   "execution_count": 61,
   "metadata": {},
   "outputs": [
    {
     "data": {
      "text/plain": [
       "18    7073\n",
       "15    7068\n",
       "16    7006\n",
       "12    6865\n",
       "17    6841\n",
       "14    6637\n",
       "19    6515\n",
       "13    6301\n",
       "20    6206\n",
       "10    6144\n",
       "11    6102\n",
       "9     5743\n",
       "21    5560\n",
       "8     5324\n",
       "22    5295\n",
       "0     4712\n",
       "7     4308\n",
       "23    4305\n",
       "6     2874\n",
       "2     2583\n",
       "1     2559\n",
       "3     2039\n",
       "5     1970\n",
       "4     1719\n",
       "24       1\n",
       "Name: hour, dtype: int64"
      ]
     },
     "execution_count": 61,
     "metadata": {},
     "output_type": "execute_result"
    }
   ],
   "source": [
    "df.hour.value_counts(dropna=False)"
   ]
  },
  {
   "cell_type": "markdown",
   "metadata": {},
   "source": [
    "## `offense_type`"
   ]
  },
  {
   "cell_type": "code",
   "execution_count": 62,
   "metadata": {},
   "outputs": [
    {
     "data": {
      "text/plain": [
       "Theft                 66675\n",
       "Burglary              21145\n",
       "Auto Theft            13454\n",
       "Robbery                9998\n",
       "Aggravated Assault     9460\n",
       "Rape                    788\n",
       "Murder                  230\n",
       "Name: offense_type, dtype: int64"
      ]
     },
     "execution_count": 62,
     "metadata": {},
     "output_type": "execute_result"
    }
   ],
   "source": [
    "df.offense_type.value_counts(dropna=False)"
   ]
  },
  {
   "cell_type": "code",
   "execution_count": 63,
   "metadata": {},
   "outputs": [
    {
     "data": {
      "text/plain": [
       "array(['Murder', 'Robbery', 'Theft', 'Aggravated Assault', 'Burglary',\n",
       "       'Auto Theft', 'Rape'], dtype=object)"
      ]
     },
     "execution_count": 63,
     "metadata": {},
     "output_type": "execute_result"
    }
   ],
   "source": [
    "df.offense_type.unique()"
   ]
  },
  {
   "cell_type": "markdown",
   "metadata": {},
   "source": [
    "## `street_name`"
   ]
  },
  {
   "cell_type": "code",
   "execution_count": 64,
   "metadata": {},
   "outputs": [
    {
     "data": {
      "text/plain": [
       "7970"
      ]
     },
     "execution_count": 64,
     "metadata": {},
     "output_type": "execute_result"
    }
   ],
   "source": [
    "len(df.street_name.value_counts(dropna=False))"
   ]
  },
  {
   "cell_type": "code",
   "execution_count": 65,
   "metadata": {},
   "outputs": [
    {
     "data": {
      "text/plain": [
       "WESTHEIMER    3458\n",
       "NORTH         1790\n",
       "GULF          1756\n",
       "GESSNER       1680\n",
       "RICHMOND      1628\n",
       "KATY          1265\n",
       "BELLAIRE      1225\n",
       "SOUTHWEST     1207\n",
       "MAIN          1203\n",
       "BISSONNET     1194\n",
       "Name: street_name, dtype: int64"
      ]
     },
     "execution_count": 65,
     "metadata": {},
     "output_type": "execute_result"
    }
   ],
   "source": [
    "df.street_name.value_counts(dropna=False)[:10]"
   ]
  },
  {
   "cell_type": "code",
   "execution_count": 66,
   "metadata": {},
   "outputs": [
    {
     "data": {
      "text/plain": [
       "array(['MARTIN LUTHER KING', 'SHERWOOD', 'OREM', ..., 'BEAR RAM',\n",
       "       'CHARLIE', 'CALVINS'], dtype=object)"
      ]
     },
     "execution_count": 66,
     "metadata": {},
     "output_type": "execute_result"
    }
   ],
   "source": [
    "df.street_name.unique()"
   ]
  },
  {
   "cell_type": "code",
   "execution_count": 67,
   "metadata": {},
   "outputs": [],
   "source": [
    "df.street_name = df.street_name.str.strip()  # no need"
   ]
  },
  {
   "cell_type": "code",
   "execution_count": 68,
   "metadata": {},
   "outputs": [
    {
     "data": {
      "text/plain": [
       "7966"
      ]
     },
     "execution_count": 68,
     "metadata": {},
     "output_type": "execute_result"
    }
   ],
   "source": [
    "len(df.street_name.value_counts(dropna=False))"
   ]
  },
  {
   "cell_type": "code",
   "execution_count": 69,
   "metadata": {},
   "outputs": [],
   "source": [
    "df.street_name = df.street_name.str.upper()"
   ]
  },
  {
   "cell_type": "code",
   "execution_count": 70,
   "metadata": {},
   "outputs": [
    {
     "data": {
      "text/plain": [
       "7966"
      ]
     },
     "execution_count": 70,
     "metadata": {},
     "output_type": "execute_result"
    }
   ],
   "source": [
    "len(df.street_name.value_counts(dropna=False))"
   ]
  },
  {
   "cell_type": "markdown",
   "metadata": {},
   "source": [
    "## Organiaze columns"
   ]
  },
  {
   "cell_type": "code",
   "execution_count": 71,
   "metadata": {},
   "outputs": [
    {
     "data": {
      "text/html": [
       "<div>\n",
       "<style scoped>\n",
       "    .dataframe tbody tr th:only-of-type {\n",
       "        vertical-align: middle;\n",
       "    }\n",
       "\n",
       "    .dataframe tbody tr th {\n",
       "        vertical-align: top;\n",
       "    }\n",
       "\n",
       "    .dataframe thead th {\n",
       "        text-align: right;\n",
       "    }\n",
       "</style>\n",
       "<table border=\"1\" class=\"dataframe\">\n",
       "  <thead>\n",
       "    <tr style=\"text-align: right;\">\n",
       "      <th></th>\n",
       "      <th>date</th>\n",
       "      <th>hour</th>\n",
       "      <th>beat</th>\n",
       "      <th>offense_type</th>\n",
       "      <th>block_range</th>\n",
       "      <th>street_name</th>\n",
       "      <th>num_offenses</th>\n",
       "      <th>premise</th>\n",
       "    </tr>\n",
       "  </thead>\n",
       "  <tbody>\n",
       "    <tr>\n",
       "      <th>0</th>\n",
       "      <td>2014-04-19</td>\n",
       "      <td>17</td>\n",
       "      <td>14D30</td>\n",
       "      <td>Murder</td>\n",
       "      <td>8500-8599</td>\n",
       "      <td>MARTIN LUTHER KING</td>\n",
       "      <td>1</td>\n",
       "      <td>LAUNDRY/DRY CLEANERS PARKING LOT</td>\n",
       "    </tr>\n",
       "    <tr>\n",
       "      <th>1</th>\n",
       "      <td>2014-04-13</td>\n",
       "      <td>2</td>\n",
       "      <td>3B10</td>\n",
       "      <td>Robbery</td>\n",
       "      <td>4400-4499</td>\n",
       "      <td>SHERWOOD</td>\n",
       "      <td>1</td>\n",
       "      <td>LAUNDRY/DRY CLEANERS PARKING LOT</td>\n",
       "    </tr>\n",
       "    <tr>\n",
       "      <th>2</th>\n",
       "      <td>2014-04-11</td>\n",
       "      <td>12</td>\n",
       "      <td>16E30</td>\n",
       "      <td>Theft</td>\n",
       "      <td>5300-5399</td>\n",
       "      <td>OREM</td>\n",
       "      <td>1</td>\n",
       "      <td>LAUNDRY/DRY CLEANERS PARKING LOT</td>\n",
       "    </tr>\n",
       "    <tr>\n",
       "      <th>3</th>\n",
       "      <td>2014-04-12</td>\n",
       "      <td>11</td>\n",
       "      <td>13D20</td>\n",
       "      <td>Theft</td>\n",
       "      <td>6600-6699</td>\n",
       "      <td>TELEPHONE</td>\n",
       "      <td>1</td>\n",
       "      <td>LAUNDRY/DRY CLEANERS PARKING LOT</td>\n",
       "    </tr>\n",
       "    <tr>\n",
       "      <th>4</th>\n",
       "      <td>2014-04-13</td>\n",
       "      <td>15</td>\n",
       "      <td>8C50</td>\n",
       "      <td>Theft</td>\n",
       "      <td>8800-8899</td>\n",
       "      <td>TIDWELL</td>\n",
       "      <td>1</td>\n",
       "      <td>LAUNDRY/DRY CLEANERS PARKING LOT</td>\n",
       "    </tr>\n",
       "  </tbody>\n",
       "</table>\n",
       "</div>"
      ],
      "text/plain": [
       "        date  hour   beat offense_type block_range         street_name  \\\n",
       "0 2014-04-19    17  14D30       Murder   8500-8599  MARTIN LUTHER KING   \n",
       "1 2014-04-13     2   3B10      Robbery   4400-4499            SHERWOOD   \n",
       "2 2014-04-11    12  16E30        Theft   5300-5399                OREM   \n",
       "3 2014-04-12    11  13D20        Theft   6600-6699           TELEPHONE   \n",
       "4 2014-04-13    15   8C50        Theft   8800-8899             TIDWELL   \n",
       "\n",
       "   num_offenses                           premise  \n",
       "0             1  LAUNDRY/DRY CLEANERS PARKING LOT  \n",
       "1             1  LAUNDRY/DRY CLEANERS PARKING LOT  \n",
       "2             1  LAUNDRY/DRY CLEANERS PARKING LOT  \n",
       "3             1  LAUNDRY/DRY CLEANERS PARKING LOT  \n",
       "4             1  LAUNDRY/DRY CLEANERS PARKING LOT  "
      ]
     },
     "execution_count": 71,
     "metadata": {},
     "output_type": "execute_result"
    }
   ],
   "source": [
    "df.head()"
   ]
  },
  {
   "cell_type": "code",
   "execution_count": 72,
   "metadata": {},
   "outputs": [],
   "source": [
    "# order that I want\n",
    "cols = ['date','hour','beat','offense_type','block_range','street_name','premise','num_offenses']"
   ]
  },
  {
   "cell_type": "code",
   "execution_count": 73,
   "metadata": {},
   "outputs": [],
   "source": [
    "df = df.reindex(columns=cols)"
   ]
  },
  {
   "cell_type": "code",
   "execution_count": 74,
   "metadata": {},
   "outputs": [
    {
     "name": "stdout",
     "output_type": "stream",
     "text": [
      "<class 'pandas.core.frame.DataFrame'>\n",
      "Int64Index: 121750 entries, 0 to 121749\n",
      "Data columns (total 8 columns):\n",
      "date            121746 non-null datetime64[ns]\n",
      "hour            121750 non-null int64\n",
      "beat            121734 non-null object\n",
      "offense_type    121750 non-null object\n",
      "block_range     121593 non-null object\n",
      "street_name     121726 non-null object\n",
      "premise         121750 non-null object\n",
      "num_offenses    121750 non-null int64\n",
      "dtypes: datetime64[ns](1), int64(2), object(5)\n",
      "memory usage: 8.4+ MB\n"
     ]
    }
   ],
   "source": [
    "df.info()"
   ]
  },
  {
   "cell_type": "code",
   "execution_count": 75,
   "metadata": {},
   "outputs": [
    {
     "data": {
      "text/html": [
       "<div>\n",
       "<style scoped>\n",
       "    .dataframe tbody tr th:only-of-type {\n",
       "        vertical-align: middle;\n",
       "    }\n",
       "\n",
       "    .dataframe tbody tr th {\n",
       "        vertical-align: top;\n",
       "    }\n",
       "\n",
       "    .dataframe thead th {\n",
       "        text-align: right;\n",
       "    }\n",
       "</style>\n",
       "<table border=\"1\" class=\"dataframe\">\n",
       "  <thead>\n",
       "    <tr style=\"text-align: right;\">\n",
       "      <th></th>\n",
       "      <th>date</th>\n",
       "      <th>hour</th>\n",
       "      <th>beat</th>\n",
       "      <th>offense_type</th>\n",
       "      <th>block_range</th>\n",
       "      <th>street_name</th>\n",
       "      <th>premise</th>\n",
       "      <th>num_offenses</th>\n",
       "    </tr>\n",
       "  </thead>\n",
       "  <tbody>\n",
       "    <tr>\n",
       "      <th>0</th>\n",
       "      <td>2014-04-19</td>\n",
       "      <td>17</td>\n",
       "      <td>14D30</td>\n",
       "      <td>Murder</td>\n",
       "      <td>8500-8599</td>\n",
       "      <td>MARTIN LUTHER KING</td>\n",
       "      <td>LAUNDRY/DRY CLEANERS PARKING LOT</td>\n",
       "      <td>1</td>\n",
       "    </tr>\n",
       "    <tr>\n",
       "      <th>1</th>\n",
       "      <td>2014-04-13</td>\n",
       "      <td>2</td>\n",
       "      <td>3B10</td>\n",
       "      <td>Robbery</td>\n",
       "      <td>4400-4499</td>\n",
       "      <td>SHERWOOD</td>\n",
       "      <td>LAUNDRY/DRY CLEANERS PARKING LOT</td>\n",
       "      <td>1</td>\n",
       "    </tr>\n",
       "    <tr>\n",
       "      <th>2</th>\n",
       "      <td>2014-04-11</td>\n",
       "      <td>12</td>\n",
       "      <td>16E30</td>\n",
       "      <td>Theft</td>\n",
       "      <td>5300-5399</td>\n",
       "      <td>OREM</td>\n",
       "      <td>LAUNDRY/DRY CLEANERS PARKING LOT</td>\n",
       "      <td>1</td>\n",
       "    </tr>\n",
       "    <tr>\n",
       "      <th>3</th>\n",
       "      <td>2014-04-12</td>\n",
       "      <td>11</td>\n",
       "      <td>13D20</td>\n",
       "      <td>Theft</td>\n",
       "      <td>6600-6699</td>\n",
       "      <td>TELEPHONE</td>\n",
       "      <td>LAUNDRY/DRY CLEANERS PARKING LOT</td>\n",
       "      <td>1</td>\n",
       "    </tr>\n",
       "    <tr>\n",
       "      <th>4</th>\n",
       "      <td>2014-04-13</td>\n",
       "      <td>15</td>\n",
       "      <td>8C50</td>\n",
       "      <td>Theft</td>\n",
       "      <td>8800-8899</td>\n",
       "      <td>TIDWELL</td>\n",
       "      <td>LAUNDRY/DRY CLEANERS PARKING LOT</td>\n",
       "      <td>1</td>\n",
       "    </tr>\n",
       "  </tbody>\n",
       "</table>\n",
       "</div>"
      ],
      "text/plain": [
       "        date  hour   beat offense_type block_range         street_name  \\\n",
       "0 2014-04-19    17  14D30       Murder   8500-8599  MARTIN LUTHER KING   \n",
       "1 2014-04-13     2   3B10      Robbery   4400-4499            SHERWOOD   \n",
       "2 2014-04-11    12  16E30        Theft   5300-5399                OREM   \n",
       "3 2014-04-12    11  13D20        Theft   6600-6699           TELEPHONE   \n",
       "4 2014-04-13    15   8C50        Theft   8800-8899             TIDWELL   \n",
       "\n",
       "                            premise  num_offenses  \n",
       "0  LAUNDRY/DRY CLEANERS PARKING LOT             1  \n",
       "1  LAUNDRY/DRY CLEANERS PARKING LOT             1  \n",
       "2  LAUNDRY/DRY CLEANERS PARKING LOT             1  \n",
       "3  LAUNDRY/DRY CLEANERS PARKING LOT             1  \n",
       "4  LAUNDRY/DRY CLEANERS PARKING LOT             1  "
      ]
     },
     "execution_count": 75,
     "metadata": {},
     "output_type": "execute_result"
    }
   ],
   "source": [
    "df.head()"
   ]
  },
  {
   "cell_type": "markdown",
   "metadata": {},
   "source": [
    "## Null values"
   ]
  },
  {
   "cell_type": "code",
   "execution_count": 85,
   "metadata": {},
   "outputs": [
    {
     "data": {
      "text/plain": [
       "date              4\n",
       "hour              0\n",
       "beat             16\n",
       "offense_type      0\n",
       "block_range     154\n",
       "street_name       0\n",
       "premise           0\n",
       "num_offenses      0\n",
       "dtype: int64"
      ]
     },
     "execution_count": 85,
     "metadata": {},
     "output_type": "execute_result"
    }
   ],
   "source": [
    "df.apply(lambda x: sum(x.isnull()))"
   ]
  },
  {
   "cell_type": "code",
   "execution_count": 86,
   "metadata": {},
   "outputs": [
    {
     "data": {
      "text/html": [
       "<div>\n",
       "<style scoped>\n",
       "    .dataframe tbody tr th:only-of-type {\n",
       "        vertical-align: middle;\n",
       "    }\n",
       "\n",
       "    .dataframe tbody tr th {\n",
       "        vertical-align: top;\n",
       "    }\n",
       "\n",
       "    .dataframe thead th {\n",
       "        text-align: right;\n",
       "    }\n",
       "</style>\n",
       "<table border=\"1\" class=\"dataframe\">\n",
       "  <thead>\n",
       "    <tr style=\"text-align: right;\">\n",
       "      <th></th>\n",
       "      <th>date</th>\n",
       "      <th>hour</th>\n",
       "      <th>beat</th>\n",
       "      <th>offense_type</th>\n",
       "      <th>block_range</th>\n",
       "      <th>street_name</th>\n",
       "      <th>premise</th>\n",
       "      <th>num_offenses</th>\n",
       "    </tr>\n",
       "  </thead>\n",
       "  <tbody>\n",
       "    <tr>\n",
       "      <th>86962</th>\n",
       "      <td>2014-06-26</td>\n",
       "      <td>18</td>\n",
       "      <td>1A10</td>\n",
       "      <td>Theft</td>\n",
       "      <td>NaN</td>\n",
       "      <td>ALMEDA RD / SOUTHMORE BLVD</td>\n",
       "      <td>UNK</td>\n",
       "      <td>1</td>\n",
       "    </tr>\n",
       "    <tr>\n",
       "      <th>87071</th>\n",
       "      <td>2014-06-15</td>\n",
       "      <td>13</td>\n",
       "      <td>1A10</td>\n",
       "      <td>Theft</td>\n",
       "      <td>NaN</td>\n",
       "      <td>ALABAMA  / SHEPHERD DR</td>\n",
       "      <td>UNK</td>\n",
       "      <td>1</td>\n",
       "    </tr>\n",
       "    <tr>\n",
       "      <th>87105</th>\n",
       "      <td>2014-06-25</td>\n",
       "      <td>20</td>\n",
       "      <td>1A10</td>\n",
       "      <td>Theft</td>\n",
       "      <td>NaN</td>\n",
       "      <td>AIRPORT BLVD / FONDREN RD</td>\n",
       "      <td>UNK</td>\n",
       "      <td>1</td>\n",
       "    </tr>\n",
       "    <tr>\n",
       "      <th>87135</th>\n",
       "      <td>2014-05-29</td>\n",
       "      <td>12</td>\n",
       "      <td>1A10</td>\n",
       "      <td>Theft</td>\n",
       "      <td>NaN</td>\n",
       "      <td>AIRLINE DR / WEST</td>\n",
       "      <td>UNK</td>\n",
       "      <td>1</td>\n",
       "    </tr>\n",
       "    <tr>\n",
       "      <th>87179</th>\n",
       "      <td>2014-06-25</td>\n",
       "      <td>9</td>\n",
       "      <td>20G50</td>\n",
       "      <td>Theft</td>\n",
       "      <td>NaN</td>\n",
       "      <td>800 TOWN AND COUNTRY (PV BLVD</td>\n",
       "      <td>UNK</td>\n",
       "      <td>1</td>\n",
       "    </tr>\n",
       "    <tr>\n",
       "      <th>87180</th>\n",
       "      <td>2014-06-28</td>\n",
       "      <td>9</td>\n",
       "      <td>20G50</td>\n",
       "      <td>Theft</td>\n",
       "      <td>NaN</td>\n",
       "      <td>800 TOWN AND COUNTRY (PV BLVD</td>\n",
       "      <td>UNK</td>\n",
       "      <td>1</td>\n",
       "    </tr>\n",
       "    <tr>\n",
       "      <th>87188</th>\n",
       "      <td>2014-06-28</td>\n",
       "      <td>23</td>\n",
       "      <td>17E40</td>\n",
       "      <td>Auto Theft</td>\n",
       "      <td>NaN</td>\n",
       "      <td>6334CREEKBEND</td>\n",
       "      <td>UNK</td>\n",
       "      <td>1</td>\n",
       "    </tr>\n",
       "    <tr>\n",
       "      <th>87224</th>\n",
       "      <td>2014-06-03</td>\n",
       "      <td>17</td>\n",
       "      <td>1A10</td>\n",
       "      <td>Theft</td>\n",
       "      <td>NaN</td>\n",
       "      <td>26TH ST / BEVIS ST</td>\n",
       "      <td>UNK</td>\n",
       "      <td>1</td>\n",
       "    </tr>\n",
       "    <tr>\n",
       "      <th>87238</th>\n",
       "      <td>2014-06-19</td>\n",
       "      <td>1</td>\n",
       "      <td>8C10</td>\n",
       "      <td>Burglary</td>\n",
       "      <td>NaN</td>\n",
       "      <td>2 DENMARK</td>\n",
       "      <td>UNK</td>\n",
       "      <td>1</td>\n",
       "    </tr>\n",
       "    <tr>\n",
       "      <th>87250</th>\n",
       "      <td>2014-06-12</td>\n",
       "      <td>23</td>\n",
       "      <td>3B40</td>\n",
       "      <td>Robbery</td>\n",
       "      <td>NaN</td>\n",
       "      <td>1200 EAST 40TH 1</td>\n",
       "      <td>UNK</td>\n",
       "      <td>1</td>\n",
       "    </tr>\n",
       "  </tbody>\n",
       "</table>\n",
       "</div>"
      ],
      "text/plain": [
       "            date  hour   beat offense_type block_range  \\\n",
       "86962 2014-06-26    18   1A10        Theft         NaN   \n",
       "87071 2014-06-15    13   1A10        Theft         NaN   \n",
       "87105 2014-06-25    20   1A10        Theft         NaN   \n",
       "87135 2014-05-29    12   1A10        Theft         NaN   \n",
       "87179 2014-06-25     9  20G50        Theft         NaN   \n",
       "87180 2014-06-28     9  20G50        Theft         NaN   \n",
       "87188 2014-06-28    23  17E40   Auto Theft         NaN   \n",
       "87224 2014-06-03    17   1A10        Theft         NaN   \n",
       "87238 2014-06-19     1   8C10     Burglary         NaN   \n",
       "87250 2014-06-12    23   3B40      Robbery         NaN   \n",
       "\n",
       "                         street_name premise  num_offenses  \n",
       "86962     ALMEDA RD / SOUTHMORE BLVD     UNK             1  \n",
       "87071         ALABAMA  / SHEPHERD DR     UNK             1  \n",
       "87105      AIRPORT BLVD / FONDREN RD     UNK             1  \n",
       "87135              AIRLINE DR / WEST     UNK             1  \n",
       "87179  800 TOWN AND COUNTRY (PV BLVD     UNK             1  \n",
       "87180  800 TOWN AND COUNTRY (PV BLVD     UNK             1  \n",
       "87188                  6334CREEKBEND     UNK             1  \n",
       "87224             26TH ST / BEVIS ST     UNK             1  \n",
       "87238                      2 DENMARK     UNK             1  \n",
       "87250               1200 EAST 40TH 1     UNK             1  "
      ]
     },
     "execution_count": 86,
     "metadata": {},
     "output_type": "execute_result"
    }
   ],
   "source": [
    "df[df.isnull().any(axis=1)][-10:]  # display last 10"
   ]
  },
  {
   "cell_type": "markdown",
   "metadata": {},
   "source": [
    "## Drop street name with null values"
   ]
  },
  {
   "cell_type": "code",
   "execution_count": 84,
   "metadata": {},
   "outputs": [],
   "source": [
    "df.dropna(subset=['street_name'],inplace=True)"
   ]
  },
  {
   "cell_type": "code",
   "execution_count": 87,
   "metadata": {},
   "outputs": [
    {
     "data": {
      "text/plain": [
       "date              4\n",
       "hour              0\n",
       "beat             16\n",
       "offense_type      0\n",
       "block_range     154\n",
       "street_name       0\n",
       "premise           0\n",
       "num_offenses      0\n",
       "dtype: int64"
      ]
     },
     "execution_count": 87,
     "metadata": {},
     "output_type": "execute_result"
    }
   ],
   "source": [
    "df.apply(lambda x: sum(x.isnull()))"
   ]
  },
  {
   "cell_type": "markdown",
   "metadata": {},
   "source": [
    "## Replace beat & blockrange with UNK"
   ]
  },
  {
   "cell_type": "code",
   "execution_count": 88,
   "metadata": {},
   "outputs": [],
   "source": [
    "values = {'block_range': 'UNK', 'beat': 'UNK', 'date': 'UNK'}\n",
    "df.fillna(value=values,inplace=True)"
   ]
  },
  {
   "cell_type": "code",
   "execution_count": 89,
   "metadata": {},
   "outputs": [
    {
     "data": {
      "text/plain": [
       "date            0\n",
       "hour            0\n",
       "beat            0\n",
       "offense_type    0\n",
       "block_range     0\n",
       "street_name     0\n",
       "premise         0\n",
       "num_offenses    0\n",
       "dtype: int64"
      ]
     },
     "execution_count": 89,
     "metadata": {},
     "output_type": "execute_result"
    }
   ],
   "source": [
    "df.apply(lambda x: sum(x.isnull()))"
   ]
  },
  {
   "cell_type": "markdown",
   "metadata": {},
   "source": [
    "## Save clean data"
   ]
  },
  {
   "cell_type": "code",
   "execution_count": 90,
   "metadata": {},
   "outputs": [
    {
     "data": {
      "text/plain": [
       "'../data/clean_data/'"
      ]
     },
     "execution_count": 90,
     "metadata": {},
     "output_type": "execute_result"
    }
   ],
   "source": [
    "data_directory_saves"
   ]
  },
  {
   "cell_type": "code",
   "execution_count": 91,
   "metadata": {},
   "outputs": [],
   "source": [
    "df.to_csv(data_directory_saves+'crime_2014.csv')"
   ]
  },
  {
   "cell_type": "code",
   "execution_count": null,
   "metadata": {},
   "outputs": [],
   "source": []
  }
 ],
 "metadata": {
  "kernelspec": {
   "display_name": "Python 3",
   "language": "python",
   "name": "python3"
  },
  "language_info": {
   "codemirror_mode": {
    "name": "ipython",
    "version": 3
   },
   "file_extension": ".py",
   "mimetype": "text/x-python",
   "name": "python",
   "nbconvert_exporter": "python",
   "pygments_lexer": "ipython3",
   "version": "3.6.4"
  }
 },
 "nbformat": 4,
 "nbformat_minor": 2
}
