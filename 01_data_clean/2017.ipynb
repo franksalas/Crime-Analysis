{
 "cells": [
  {
   "cell_type": "markdown",
   "metadata": {},
   "source": [
    "# Crime data from 2017\n",
    "\n",
    "http://www.houstontx.gov/police/cs/crime-stats-archives.htm"
   ]
  },
  {
   "cell_type": "code",
   "execution_count": 1,
   "metadata": {},
   "outputs": [],
   "source": [
    "import warnings\n",
    "warnings.filterwarnings('ignore')"
   ]
  },
  {
   "cell_type": "code",
   "execution_count": 2,
   "metadata": {},
   "outputs": [],
   "source": [
    "import pandas as pd\n",
    "import glob, os\n",
    "import numpy as np\n",
    "import matplotlib.pyplot as plt\n",
    "import datetime  as dt\n",
    "import seaborn as sns"
   ]
  },
  {
   "cell_type": "markdown",
   "metadata": {},
   "source": [
    "## Data directory"
   ]
  },
  {
   "cell_type": "code",
   "execution_count": 3,
   "metadata": {},
   "outputs": [],
   "source": [
    "year = '2017'"
   ]
  },
  {
   "cell_type": "code",
   "execution_count": 4,
   "metadata": {},
   "outputs": [],
   "source": [
    "# data folder path\n",
    "data_directory = os.path.join('..','data','crime_data/{}'.format(year))\n",
    "data_directory_saves = os.path.join( '..','data','clean_data/')\n",
    "premise_dataset = os.path.join('..','data','crime_data/premise_codes.csv')"
   ]
  },
  {
   "cell_type": "markdown",
   "metadata": {},
   "source": [
    "# combine all fines into one"
   ]
  },
  {
   "cell_type": "code",
   "execution_count": 5,
   "metadata": {},
   "outputs": [
    {
     "name": "stdout",
     "output_type": "stream",
     "text": [
      "WARNING *** file size (3078551) not 512 + multiple of sector size (512)\n",
      "WARNING *** OLE2 inconsistency: SSCS size is 0 but SSAT size is non-zero\n"
     ]
    }
   ],
   "source": [
    "# combine all files into one df\n",
    "all_files = glob.glob(os.path.join(data_directory, \"*.xls\")) \n",
    "df_from_each_file = (pd.read_excel(f) for f in all_files)\n",
    "df   = pd.concat(df_from_each_file, ignore_index=True)"
   ]
  },
  {
   "cell_type": "code",
   "execution_count": 6,
   "metadata": {},
   "outputs": [
    {
     "name": "stdout",
     "output_type": "stream",
     "text": [
      "<class 'pandas.core.frame.DataFrame'>\n",
      "RangeIndex: 119727 entries, 0 to 119726\n",
      "Data columns (total 13 columns):\n",
      "# offenses      40378 non-null float64\n",
      "Beat            119727 non-null object\n",
      "Block Range     79349 non-null object\n",
      "BlockRange      40378 non-null object\n",
      "Date            119727 non-null object\n",
      "Hour            119727 non-null int64\n",
      "Offense Type    119727 non-null object\n",
      "Offenses        79349 non-null float64\n",
      "Premise         119240 non-null object\n",
      "Street Name     79349 non-null object\n",
      "StreetName      40378 non-null object\n",
      "Suffix          119727 non-null object\n",
      "Type            119727 non-null object\n",
      "dtypes: float64(2), int64(1), object(10)\n",
      "memory usage: 11.9+ MB\n"
     ]
    }
   ],
   "source": [
    "df.info()"
   ]
  },
  {
   "cell_type": "code",
   "execution_count": 7,
   "metadata": {},
   "outputs": [
    {
     "data": {
      "text/html": [
       "<div>\n",
       "<style scoped>\n",
       "    .dataframe tbody tr th:only-of-type {\n",
       "        vertical-align: middle;\n",
       "    }\n",
       "\n",
       "    .dataframe tbody tr th {\n",
       "        vertical-align: top;\n",
       "    }\n",
       "\n",
       "    .dataframe thead th {\n",
       "        text-align: right;\n",
       "    }\n",
       "</style>\n",
       "<table border=\"1\" class=\"dataframe\">\n",
       "  <thead>\n",
       "    <tr style=\"text-align: right;\">\n",
       "      <th></th>\n",
       "      <th># offenses</th>\n",
       "      <th>Beat</th>\n",
       "      <th>Block Range</th>\n",
       "      <th>BlockRange</th>\n",
       "      <th>Date</th>\n",
       "      <th>Hour</th>\n",
       "      <th>Offense Type</th>\n",
       "      <th>Offenses</th>\n",
       "      <th>Premise</th>\n",
       "      <th>Street Name</th>\n",
       "      <th>StreetName</th>\n",
       "      <th>Suffix</th>\n",
       "      <th>Type</th>\n",
       "    </tr>\n",
       "  </thead>\n",
       "  <tbody>\n",
       "    <tr>\n",
       "      <th>0</th>\n",
       "      <td>1.0</td>\n",
       "      <td>10H10</td>\n",
       "      <td>NaN</td>\n",
       "      <td>200-299</td>\n",
       "      <td>2017-04-10 00:00:00</td>\n",
       "      <td>15</td>\n",
       "      <td>Burglary</td>\n",
       "      <td>NaN</td>\n",
       "      <td>Residence or House</td>\n",
       "      <td>NaN</td>\n",
       "      <td>CLIFTON</td>\n",
       "      <td>-</td>\n",
       "      <td>-</td>\n",
       "    </tr>\n",
       "    <tr>\n",
       "      <th>1</th>\n",
       "      <td>1.0</td>\n",
       "      <td>10H10</td>\n",
       "      <td>NaN</td>\n",
       "      <td>2300-2399</td>\n",
       "      <td>2017-04-11 00:00:00</td>\n",
       "      <td>15</td>\n",
       "      <td>Theft</td>\n",
       "      <td>NaN</td>\n",
       "      <td>Restaurant or Cafeteria Parking Lot</td>\n",
       "      <td>NaN</td>\n",
       "      <td>CANAL</td>\n",
       "      <td>-</td>\n",
       "      <td>ST</td>\n",
       "    </tr>\n",
       "  </tbody>\n",
       "</table>\n",
       "</div>"
      ],
      "text/plain": [
       "   # offenses   Beat Block Range BlockRange                 Date  Hour  \\\n",
       "0         1.0  10H10         NaN    200-299  2017-04-10 00:00:00    15   \n",
       "1         1.0  10H10         NaN  2300-2399  2017-04-11 00:00:00    15   \n",
       "\n",
       "  Offense Type  Offenses                              Premise Street Name  \\\n",
       "0     Burglary       NaN                   Residence or House         NaN   \n",
       "1        Theft       NaN  Restaurant or Cafeteria Parking Lot         NaN   \n",
       "\n",
       "  StreetName Suffix Type  \n",
       "0    CLIFTON      -    -  \n",
       "1      CANAL      -   ST  "
      ]
     },
     "execution_count": 7,
     "metadata": {},
     "output_type": "execute_result"
    }
   ],
   "source": [
    "df.head(2)"
   ]
  },
  {
   "cell_type": "markdown",
   "metadata": {},
   "source": [
    "## Check for missing values"
   ]
  },
  {
   "cell_type": "code",
   "execution_count": 8,
   "metadata": {},
   "outputs": [
    {
     "data": {
      "text/plain": [
       "# offenses      79349\n",
       "Beat                0\n",
       "Block Range     40378\n",
       "BlockRange      79349\n",
       "Date                0\n",
       "Hour                0\n",
       "Offense Type        0\n",
       "Offenses        40378\n",
       "Premise           487\n",
       "Street Name     40378\n",
       "StreetName      79349\n",
       "Suffix              0\n",
       "Type                0\n",
       "dtype: int64"
      ]
     },
     "execution_count": 8,
     "metadata": {},
     "output_type": "execute_result"
    }
   ],
   "source": [
    "df.apply(lambda x: sum(x.isnull()))"
   ]
  },
  {
   "cell_type": "code",
   "execution_count": 9,
   "metadata": {},
   "outputs": [
    {
     "data": {
      "image/png": "[encoded data removed]",
      "text/plain": [
       "<Figure size 432x288 with 1 Axes>"
      ]
     },
     "metadata": {},
     "output_type": "display_data"
    }
   ],
   "source": [
    "sns.heatmap(df.isnull(),yticklabels=False,cbar=False,cmap='viridis')\n",
    "plt.title('Null dataset display')\n",
    "plt.show()"
   ]
  },
  {
   "cell_type": "markdown",
   "metadata": {},
   "source": [
    "\n",
    "## Cleanup\n",
    "- lowercase column names\n",
    "- renaming"
   ]
  },
  {
   "cell_type": "code",
   "execution_count": 10,
   "metadata": {},
   "outputs": [],
   "source": [
    "# Map the lowering function to all column names\n",
    "#df.columns = map(str.lower, df.columns)"
   ]
  },
  {
   "cell_type": "code",
   "execution_count": 11,
   "metadata": {},
   "outputs": [
    {
     "data": {
      "text/html": [
       "<div>\n",
       "<style scoped>\n",
       "    .dataframe tbody tr th:only-of-type {\n",
       "        vertical-align: middle;\n",
       "    }\n",
       "\n",
       "    .dataframe tbody tr th {\n",
       "        vertical-align: top;\n",
       "    }\n",
       "\n",
       "    .dataframe thead th {\n",
       "        text-align: right;\n",
       "    }\n",
       "</style>\n",
       "<table border=\"1\" class=\"dataframe\">\n",
       "  <thead>\n",
       "    <tr style=\"text-align: right;\">\n",
       "      <th></th>\n",
       "      <th># offenses</th>\n",
       "      <th>Beat</th>\n",
       "      <th>Block Range</th>\n",
       "      <th>BlockRange</th>\n",
       "      <th>Date</th>\n",
       "      <th>Hour</th>\n",
       "      <th>Offense Type</th>\n",
       "      <th>Offenses</th>\n",
       "      <th>Premise</th>\n",
       "      <th>Street Name</th>\n",
       "      <th>StreetName</th>\n",
       "      <th>Suffix</th>\n",
       "      <th>Type</th>\n",
       "    </tr>\n",
       "  </thead>\n",
       "  <tbody>\n",
       "    <tr>\n",
       "      <th>0</th>\n",
       "      <td>1.0</td>\n",
       "      <td>10H10</td>\n",
       "      <td>NaN</td>\n",
       "      <td>200-299</td>\n",
       "      <td>2017-04-10 00:00:00</td>\n",
       "      <td>15</td>\n",
       "      <td>Burglary</td>\n",
       "      <td>NaN</td>\n",
       "      <td>Residence or House</td>\n",
       "      <td>NaN</td>\n",
       "      <td>CLIFTON</td>\n",
       "      <td>-</td>\n",
       "      <td>-</td>\n",
       "    </tr>\n",
       "    <tr>\n",
       "      <th>1</th>\n",
       "      <td>1.0</td>\n",
       "      <td>10H10</td>\n",
       "      <td>NaN</td>\n",
       "      <td>2300-2399</td>\n",
       "      <td>2017-04-11 00:00:00</td>\n",
       "      <td>15</td>\n",
       "      <td>Theft</td>\n",
       "      <td>NaN</td>\n",
       "      <td>Restaurant or Cafeteria Parking Lot</td>\n",
       "      <td>NaN</td>\n",
       "      <td>CANAL</td>\n",
       "      <td>-</td>\n",
       "      <td>ST</td>\n",
       "    </tr>\n",
       "    <tr>\n",
       "      <th>2</th>\n",
       "      <td>1.0</td>\n",
       "      <td>10H10</td>\n",
       "      <td>NaN</td>\n",
       "      <td>2300-2399</td>\n",
       "      <td>2017-04-11 00:00:00</td>\n",
       "      <td>17</td>\n",
       "      <td>Theft</td>\n",
       "      <td>NaN</td>\n",
       "      <td>Restaurant or Cafeteria Parking Lot</td>\n",
       "      <td>NaN</td>\n",
       "      <td>CANAL</td>\n",
       "      <td>-</td>\n",
       "      <td>ST</td>\n",
       "    </tr>\n",
       "    <tr>\n",
       "      <th>3</th>\n",
       "      <td>1.0</td>\n",
       "      <td>10H10</td>\n",
       "      <td>NaN</td>\n",
       "      <td>4600-4699</td>\n",
       "      <td>2017-04-12 00:00:00</td>\n",
       "      <td>9</td>\n",
       "      <td>Burglary</td>\n",
       "      <td>NaN</td>\n",
       "      <td>Miscellaneous Business (Non-Specific)</td>\n",
       "      <td>NaN</td>\n",
       "      <td>CANAL</td>\n",
       "      <td>-</td>\n",
       "      <td>ST</td>\n",
       "    </tr>\n",
       "    <tr>\n",
       "      <th>4</th>\n",
       "      <td>1.0</td>\n",
       "      <td>10H10</td>\n",
       "      <td>NaN</td>\n",
       "      <td>100-199</td>\n",
       "      <td>2017-04-12 00:00:00</td>\n",
       "      <td>19</td>\n",
       "      <td>Theft</td>\n",
       "      <td>NaN</td>\n",
       "      <td>Other, Unknown, or Not Listed</td>\n",
       "      <td>NaN</td>\n",
       "      <td>ADAM</td>\n",
       "      <td>-</td>\n",
       "      <td>LN</td>\n",
       "    </tr>\n",
       "  </tbody>\n",
       "</table>\n",
       "</div>"
      ],
      "text/plain": [
       "   # offenses   Beat Block Range BlockRange                 Date  Hour  \\\n",
       "0         1.0  10H10         NaN    200-299  2017-04-10 00:00:00    15   \n",
       "1         1.0  10H10         NaN  2300-2399  2017-04-11 00:00:00    15   \n",
       "2         1.0  10H10         NaN  2300-2399  2017-04-11 00:00:00    17   \n",
       "3         1.0  10H10         NaN  4600-4699  2017-04-12 00:00:00     9   \n",
       "4         1.0  10H10         NaN    100-199  2017-04-12 00:00:00    19   \n",
       "\n",
       "  Offense Type  Offenses                                Premise Street Name  \\\n",
       "0     Burglary       NaN                     Residence or House         NaN   \n",
       "1        Theft       NaN    Restaurant or Cafeteria Parking Lot         NaN   \n",
       "2        Theft       NaN    Restaurant or Cafeteria Parking Lot         NaN   \n",
       "3     Burglary       NaN  Miscellaneous Business (Non-Specific)         NaN   \n",
       "4        Theft       NaN          Other, Unknown, or Not Listed         NaN   \n",
       "\n",
       "  StreetName Suffix Type  \n",
       "0    CLIFTON      -    -  \n",
       "1      CANAL      -   ST  \n",
       "2      CANAL      -   ST  \n",
       "3      CANAL      -   ST  \n",
       "4       ADAM      -   LN  "
      ]
     },
     "execution_count": 11,
     "metadata": {},
     "output_type": "execute_result"
    }
   ],
   "source": [
    "df.head()"
   ]
  },
  {
   "cell_type": "markdown",
   "metadata": {},
   "source": [
    "## combine multiple columns into similar\n"
   ]
  },
  {
   "cell_type": "code",
   "execution_count": 12,
   "metadata": {},
   "outputs": [],
   "source": [
    "# if duplicate columns\n",
    "\n",
    "df['BlockRange'] = pd.concat([df['Block Range'].dropna(),\n",
    "                              df['BlockRange'].dropna()]).reindex_like(df)\n",
    "\n",
    "df['StreetName'] = pd.concat([df['Street Name'].dropna(),\n",
    "                              df['StreetName'].dropna()]).reindex_like(df)\n",
    "\n",
    "df['# offenses'] = pd.concat([df['# offenses'].dropna(),\n",
    "                              df['Offenses'].dropna()]).reindex_like(df)"
   ]
  },
  {
   "cell_type": "code",
   "execution_count": 13,
   "metadata": {},
   "outputs": [
    {
     "data": {
      "image/png": "[encoded data removed]",
      "text/plain": [
       "<Figure size 432x288 with 1 Axes>"
      ]
     },
     "metadata": {},
     "output_type": "display_data"
    }
   ],
   "source": [
    "sns.heatmap(df.isnull(),yticklabels=False,cbar=False,cmap='viridis')\n",
    "plt.title('Null dataset display')\n",
    "plt.show()"
   ]
  },
  {
   "cell_type": "code",
   "execution_count": 14,
   "metadata": {},
   "outputs": [
    {
     "data": {
      "text/html": [
       "<div>\n",
       "<style scoped>\n",
       "    .dataframe tbody tr th:only-of-type {\n",
       "        vertical-align: middle;\n",
       "    }\n",
       "\n",
       "    .dataframe tbody tr th {\n",
       "        vertical-align: top;\n",
       "    }\n",
       "\n",
       "    .dataframe thead th {\n",
       "        text-align: right;\n",
       "    }\n",
       "</style>\n",
       "<table border=\"1\" class=\"dataframe\">\n",
       "  <thead>\n",
       "    <tr style=\"text-align: right;\">\n",
       "      <th></th>\n",
       "      <th># offenses</th>\n",
       "      <th>Beat</th>\n",
       "      <th>Block Range</th>\n",
       "      <th>BlockRange</th>\n",
       "      <th>Date</th>\n",
       "      <th>Hour</th>\n",
       "      <th>Offense Type</th>\n",
       "      <th>Offenses</th>\n",
       "      <th>Premise</th>\n",
       "      <th>Street Name</th>\n",
       "      <th>StreetName</th>\n",
       "      <th>Suffix</th>\n",
       "      <th>Type</th>\n",
       "    </tr>\n",
       "  </thead>\n",
       "  <tbody>\n",
       "    <tr>\n",
       "      <th>0</th>\n",
       "      <td>1.0</td>\n",
       "      <td>10H10</td>\n",
       "      <td>NaN</td>\n",
       "      <td>200-299</td>\n",
       "      <td>2017-04-10 00:00:00</td>\n",
       "      <td>15</td>\n",
       "      <td>Burglary</td>\n",
       "      <td>NaN</td>\n",
       "      <td>Residence or House</td>\n",
       "      <td>NaN</td>\n",
       "      <td>CLIFTON</td>\n",
       "      <td>-</td>\n",
       "      <td>-</td>\n",
       "    </tr>\n",
       "    <tr>\n",
       "      <th>1</th>\n",
       "      <td>1.0</td>\n",
       "      <td>10H10</td>\n",
       "      <td>NaN</td>\n",
       "      <td>2300-2399</td>\n",
       "      <td>2017-04-11 00:00:00</td>\n",
       "      <td>15</td>\n",
       "      <td>Theft</td>\n",
       "      <td>NaN</td>\n",
       "      <td>Restaurant or Cafeteria Parking Lot</td>\n",
       "      <td>NaN</td>\n",
       "      <td>CANAL</td>\n",
       "      <td>-</td>\n",
       "      <td>ST</td>\n",
       "    </tr>\n",
       "  </tbody>\n",
       "</table>\n",
       "</div>"
      ],
      "text/plain": [
       "   # offenses   Beat Block Range BlockRange                 Date  Hour  \\\n",
       "0         1.0  10H10         NaN    200-299  2017-04-10 00:00:00    15   \n",
       "1         1.0  10H10         NaN  2300-2399  2017-04-11 00:00:00    15   \n",
       "\n",
       "  Offense Type  Offenses                              Premise Street Name  \\\n",
       "0     Burglary       NaN                   Residence or House         NaN   \n",
       "1        Theft       NaN  Restaurant or Cafeteria Parking Lot         NaN   \n",
       "\n",
       "  StreetName Suffix Type  \n",
       "0    CLIFTON      -    -  \n",
       "1      CANAL      -   ST  "
      ]
     },
     "execution_count": 14,
     "metadata": {},
     "output_type": "execute_result"
    }
   ],
   "source": [
    "df.head(2)"
   ]
  },
  {
   "cell_type": "code",
   "execution_count": 15,
   "metadata": {},
   "outputs": [],
   "source": [
    "# Map the lowering function to all column names\n",
    "df.columns = map(str.lower, df.columns)"
   ]
  },
  {
   "cell_type": "code",
   "execution_count": 16,
   "metadata": {},
   "outputs": [
    {
     "data": {
      "text/html": [
       "<div>\n",
       "<style scoped>\n",
       "    .dataframe tbody tr th:only-of-type {\n",
       "        vertical-align: middle;\n",
       "    }\n",
       "\n",
       "    .dataframe tbody tr th {\n",
       "        vertical-align: top;\n",
       "    }\n",
       "\n",
       "    .dataframe thead th {\n",
       "        text-align: right;\n",
       "    }\n",
       "</style>\n",
       "<table border=\"1\" class=\"dataframe\">\n",
       "  <thead>\n",
       "    <tr style=\"text-align: right;\">\n",
       "      <th></th>\n",
       "      <th># offenses</th>\n",
       "      <th>beat</th>\n",
       "      <th>block range</th>\n",
       "      <th>blockrange</th>\n",
       "      <th>date</th>\n",
       "      <th>hour</th>\n",
       "      <th>offense type</th>\n",
       "      <th>offenses</th>\n",
       "      <th>premise</th>\n",
       "      <th>street name</th>\n",
       "      <th>streetname</th>\n",
       "      <th>suffix</th>\n",
       "      <th>type</th>\n",
       "    </tr>\n",
       "  </thead>\n",
       "  <tbody>\n",
       "    <tr>\n",
       "      <th>0</th>\n",
       "      <td>1.0</td>\n",
       "      <td>10H10</td>\n",
       "      <td>NaN</td>\n",
       "      <td>200-299</td>\n",
       "      <td>2017-04-10 00:00:00</td>\n",
       "      <td>15</td>\n",
       "      <td>Burglary</td>\n",
       "      <td>NaN</td>\n",
       "      <td>Residence or House</td>\n",
       "      <td>NaN</td>\n",
       "      <td>CLIFTON</td>\n",
       "      <td>-</td>\n",
       "      <td>-</td>\n",
       "    </tr>\n",
       "    <tr>\n",
       "      <th>1</th>\n",
       "      <td>1.0</td>\n",
       "      <td>10H10</td>\n",
       "      <td>NaN</td>\n",
       "      <td>2300-2399</td>\n",
       "      <td>2017-04-11 00:00:00</td>\n",
       "      <td>15</td>\n",
       "      <td>Theft</td>\n",
       "      <td>NaN</td>\n",
       "      <td>Restaurant or Cafeteria Parking Lot</td>\n",
       "      <td>NaN</td>\n",
       "      <td>CANAL</td>\n",
       "      <td>-</td>\n",
       "      <td>ST</td>\n",
       "    </tr>\n",
       "  </tbody>\n",
       "</table>\n",
       "</div>"
      ],
      "text/plain": [
       "   # offenses   beat block range blockrange                 date  hour  \\\n",
       "0         1.0  10H10         NaN    200-299  2017-04-10 00:00:00    15   \n",
       "1         1.0  10H10         NaN  2300-2399  2017-04-11 00:00:00    15   \n",
       "\n",
       "  offense type  offenses                              premise street name  \\\n",
       "0     Burglary       NaN                   Residence or House         NaN   \n",
       "1        Theft       NaN  Restaurant or Cafeteria Parking Lot         NaN   \n",
       "\n",
       "  streetname suffix type  \n",
       "0    CLIFTON      -    -  \n",
       "1      CANAL      -   ST  "
      ]
     },
     "execution_count": 16,
     "metadata": {},
     "output_type": "execute_result"
    }
   ],
   "source": [
    "df.head(2)"
   ]
  },
  {
   "cell_type": "code",
   "execution_count": null,
   "metadata": {},
   "outputs": [],
   "source": []
  },
  {
   "cell_type": "code",
   "execution_count": null,
   "metadata": {},
   "outputs": [],
   "source": []
  },
  {
   "cell_type": "code",
   "execution_count": 17,
   "metadata": {},
   "outputs": [
    {
     "name": "stdout",
     "output_type": "stream",
     "text": [
      "<class 'pandas.core.frame.DataFrame'>\n",
      "RangeIndex: 119727 entries, 0 to 119726\n",
      "Data columns (total 13 columns):\n",
      "num_offenses    119727 non-null float64\n",
      "beat            119727 non-null object\n",
      "block range     79349 non-null object\n",
      "block_range     119727 non-null object\n",
      "date            119727 non-null object\n",
      "hour            119727 non-null int64\n",
      "offense_type    119727 non-null object\n",
      "offenses        79349 non-null float64\n",
      "premise         119240 non-null object\n",
      "street name     79349 non-null object\n",
      "street_name     119727 non-null object\n",
      "suffix          119727 non-null object\n",
      "type            119727 non-null object\n",
      "dtypes: float64(2), int64(1), object(10)\n",
      "memory usage: 11.9+ MB\n"
     ]
    }
   ],
   "source": [
    "df.rename(columns={\n",
    "    '# offenses': 'num_offenses',\n",
    "     'offense type': 'offense_type',\n",
    "    'blockrange': 'block_range',\n",
    "    'streetname': 'street_name'\n",
    "}, inplace=True)\n",
    "df.info()"
   ]
  },
  {
   "cell_type": "code",
   "execution_count": 18,
   "metadata": {},
   "outputs": [
    {
     "data": {
      "text/html": [
       "<div>\n",
       "<style scoped>\n",
       "    .dataframe tbody tr th:only-of-type {\n",
       "        vertical-align: middle;\n",
       "    }\n",
       "\n",
       "    .dataframe tbody tr th {\n",
       "        vertical-align: top;\n",
       "    }\n",
       "\n",
       "    .dataframe thead th {\n",
       "        text-align: right;\n",
       "    }\n",
       "</style>\n",
       "<table border=\"1\" class=\"dataframe\">\n",
       "  <thead>\n",
       "    <tr style=\"text-align: right;\">\n",
       "      <th></th>\n",
       "      <th>num_offenses</th>\n",
       "      <th>beat</th>\n",
       "      <th>block range</th>\n",
       "      <th>block_range</th>\n",
       "      <th>date</th>\n",
       "      <th>hour</th>\n",
       "      <th>offense_type</th>\n",
       "      <th>offenses</th>\n",
       "      <th>premise</th>\n",
       "      <th>street name</th>\n",
       "      <th>street_name</th>\n",
       "      <th>suffix</th>\n",
       "      <th>type</th>\n",
       "    </tr>\n",
       "  </thead>\n",
       "  <tbody>\n",
       "    <tr>\n",
       "      <th>0</th>\n",
       "      <td>1.0</td>\n",
       "      <td>10H10</td>\n",
       "      <td>NaN</td>\n",
       "      <td>200-299</td>\n",
       "      <td>2017-04-10 00:00:00</td>\n",
       "      <td>15</td>\n",
       "      <td>Burglary</td>\n",
       "      <td>NaN</td>\n",
       "      <td>Residence or House</td>\n",
       "      <td>NaN</td>\n",
       "      <td>CLIFTON</td>\n",
       "      <td>-</td>\n",
       "      <td>-</td>\n",
       "    </tr>\n",
       "    <tr>\n",
       "      <th>1</th>\n",
       "      <td>1.0</td>\n",
       "      <td>10H10</td>\n",
       "      <td>NaN</td>\n",
       "      <td>2300-2399</td>\n",
       "      <td>2017-04-11 00:00:00</td>\n",
       "      <td>15</td>\n",
       "      <td>Theft</td>\n",
       "      <td>NaN</td>\n",
       "      <td>Restaurant or Cafeteria Parking Lot</td>\n",
       "      <td>NaN</td>\n",
       "      <td>CANAL</td>\n",
       "      <td>-</td>\n",
       "      <td>ST</td>\n",
       "    </tr>\n",
       "  </tbody>\n",
       "</table>\n",
       "</div>"
      ],
      "text/plain": [
       "   num_offenses   beat block range block_range                 date  hour  \\\n",
       "0           1.0  10H10         NaN     200-299  2017-04-10 00:00:00    15   \n",
       "1           1.0  10H10         NaN   2300-2399  2017-04-11 00:00:00    15   \n",
       "\n",
       "  offense_type  offenses                              premise street name  \\\n",
       "0     Burglary       NaN                   Residence or House         NaN   \n",
       "1        Theft       NaN  Restaurant or Cafeteria Parking Lot         NaN   \n",
       "\n",
       "  street_name suffix type  \n",
       "0     CLIFTON      -    -  \n",
       "1       CANAL      -   ST  "
      ]
     },
     "execution_count": 18,
     "metadata": {},
     "output_type": "execute_result"
    }
   ],
   "source": [
    "df.head(2)"
   ]
  },
  {
   "cell_type": "markdown",
   "metadata": {},
   "source": [
    "## Drop columns"
   ]
  },
  {
   "cell_type": "code",
   "execution_count": 19,
   "metadata": {},
   "outputs": [],
   "source": [
    "df.drop(['suffix','type','street name','block range','offenses'],axis=1, inplace=True)"
   ]
  },
  {
   "cell_type": "code",
   "execution_count": 20,
   "metadata": {},
   "outputs": [
    {
     "name": "stdout",
     "output_type": "stream",
     "text": [
      "<class 'pandas.core.frame.DataFrame'>\n",
      "RangeIndex: 119727 entries, 0 to 119726\n",
      "Data columns (total 8 columns):\n",
      "num_offenses    119727 non-null float64\n",
      "beat            119727 non-null object\n",
      "block_range     119727 non-null object\n",
      "date            119727 non-null object\n",
      "hour            119727 non-null int64\n",
      "offense_type    119727 non-null object\n",
      "premise         119240 non-null object\n",
      "street_name     119727 non-null object\n",
      "dtypes: float64(1), int64(1), object(6)\n",
      "memory usage: 7.3+ MB\n"
     ]
    }
   ],
   "source": [
    "df.info()"
   ]
  },
  {
   "cell_type": "code",
   "execution_count": 21,
   "metadata": {},
   "outputs": [
    {
     "data": {
      "text/html": [
       "<div>\n",
       "<style scoped>\n",
       "    .dataframe tbody tr th:only-of-type {\n",
       "        vertical-align: middle;\n",
       "    }\n",
       "\n",
       "    .dataframe tbody tr th {\n",
       "        vertical-align: top;\n",
       "    }\n",
       "\n",
       "    .dataframe thead th {\n",
       "        text-align: right;\n",
       "    }\n",
       "</style>\n",
       "<table border=\"1\" class=\"dataframe\">\n",
       "  <thead>\n",
       "    <tr style=\"text-align: right;\">\n",
       "      <th></th>\n",
       "      <th>num_offenses</th>\n",
       "      <th>beat</th>\n",
       "      <th>block_range</th>\n",
       "      <th>date</th>\n",
       "      <th>hour</th>\n",
       "      <th>offense_type</th>\n",
       "      <th>premise</th>\n",
       "      <th>street_name</th>\n",
       "    </tr>\n",
       "  </thead>\n",
       "  <tbody>\n",
       "    <tr>\n",
       "      <th>0</th>\n",
       "      <td>1.0</td>\n",
       "      <td>10H10</td>\n",
       "      <td>200-299</td>\n",
       "      <td>2017-04-10 00:00:00</td>\n",
       "      <td>15</td>\n",
       "      <td>Burglary</td>\n",
       "      <td>Residence or House</td>\n",
       "      <td>CLIFTON</td>\n",
       "    </tr>\n",
       "    <tr>\n",
       "      <th>1</th>\n",
       "      <td>1.0</td>\n",
       "      <td>10H10</td>\n",
       "      <td>2300-2399</td>\n",
       "      <td>2017-04-11 00:00:00</td>\n",
       "      <td>15</td>\n",
       "      <td>Theft</td>\n",
       "      <td>Restaurant or Cafeteria Parking Lot</td>\n",
       "      <td>CANAL</td>\n",
       "    </tr>\n",
       "    <tr>\n",
       "      <th>2</th>\n",
       "      <td>1.0</td>\n",
       "      <td>10H10</td>\n",
       "      <td>2300-2399</td>\n",
       "      <td>2017-04-11 00:00:00</td>\n",
       "      <td>17</td>\n",
       "      <td>Theft</td>\n",
       "      <td>Restaurant or Cafeteria Parking Lot</td>\n",
       "      <td>CANAL</td>\n",
       "    </tr>\n",
       "    <tr>\n",
       "      <th>3</th>\n",
       "      <td>1.0</td>\n",
       "      <td>10H10</td>\n",
       "      <td>4600-4699</td>\n",
       "      <td>2017-04-12 00:00:00</td>\n",
       "      <td>9</td>\n",
       "      <td>Burglary</td>\n",
       "      <td>Miscellaneous Business (Non-Specific)</td>\n",
       "      <td>CANAL</td>\n",
       "    </tr>\n",
       "    <tr>\n",
       "      <th>4</th>\n",
       "      <td>1.0</td>\n",
       "      <td>10H10</td>\n",
       "      <td>100-199</td>\n",
       "      <td>2017-04-12 00:00:00</td>\n",
       "      <td>19</td>\n",
       "      <td>Theft</td>\n",
       "      <td>Other, Unknown, or Not Listed</td>\n",
       "      <td>ADAM</td>\n",
       "    </tr>\n",
       "  </tbody>\n",
       "</table>\n",
       "</div>"
      ],
      "text/plain": [
       "   num_offenses   beat block_range                 date  hour offense_type  \\\n",
       "0           1.0  10H10     200-299  2017-04-10 00:00:00    15     Burglary   \n",
       "1           1.0  10H10   2300-2399  2017-04-11 00:00:00    15        Theft   \n",
       "2           1.0  10H10   2300-2399  2017-04-11 00:00:00    17        Theft   \n",
       "3           1.0  10H10   4600-4699  2017-04-12 00:00:00     9     Burglary   \n",
       "4           1.0  10H10     100-199  2017-04-12 00:00:00    19        Theft   \n",
       "\n",
       "                                 premise street_name  \n",
       "0                     Residence or House     CLIFTON  \n",
       "1    Restaurant or Cafeteria Parking Lot       CANAL  \n",
       "2    Restaurant or Cafeteria Parking Lot       CANAL  \n",
       "3  Miscellaneous Business (Non-Specific)       CANAL  \n",
       "4          Other, Unknown, or Not Listed        ADAM  "
      ]
     },
     "execution_count": 21,
     "metadata": {},
     "output_type": "execute_result"
    }
   ],
   "source": [
    "df.head()"
   ]
  },
  {
   "cell_type": "markdown",
   "metadata": {},
   "source": [
    "# Null values"
   ]
  },
  {
   "cell_type": "code",
   "execution_count": 22,
   "metadata": {},
   "outputs": [
    {
     "data": {
      "text/plain": [
       "num_offenses      0\n",
       "beat              0\n",
       "block_range       0\n",
       "date              0\n",
       "hour              0\n",
       "offense_type      0\n",
       "premise         487\n",
       "street_name       0\n",
       "dtype: int64"
      ]
     },
     "execution_count": 22,
     "metadata": {},
     "output_type": "execute_result"
    }
   ],
   "source": [
    "df.apply(lambda x: sum(x.isnull()))"
   ]
  },
  {
   "cell_type": "code",
   "execution_count": 23,
   "metadata": {},
   "outputs": [
    {
     "data": {
      "text/html": [
       "<div>\n",
       "<style scoped>\n",
       "    .dataframe tbody tr th:only-of-type {\n",
       "        vertical-align: middle;\n",
       "    }\n",
       "\n",
       "    .dataframe tbody tr th {\n",
       "        vertical-align: top;\n",
       "    }\n",
       "\n",
       "    .dataframe thead th {\n",
       "        text-align: right;\n",
       "    }\n",
       "</style>\n",
       "<table border=\"1\" class=\"dataframe\">\n",
       "  <thead>\n",
       "    <tr style=\"text-align: right;\">\n",
       "      <th></th>\n",
       "      <th>num_offenses</th>\n",
       "      <th>beat</th>\n",
       "      <th>block_range</th>\n",
       "      <th>date</th>\n",
       "      <th>hour</th>\n",
       "      <th>offense_type</th>\n",
       "      <th>premise</th>\n",
       "      <th>street_name</th>\n",
       "    </tr>\n",
       "  </thead>\n",
       "  <tbody>\n",
       "    <tr>\n",
       "      <th>80671</th>\n",
       "      <td>1.0</td>\n",
       "      <td>8C30</td>\n",
       "      <td>8400-8499</td>\n",
       "      <td>2017-03-06 00:00:00</td>\n",
       "      <td>13</td>\n",
       "      <td>Auto Theft</td>\n",
       "      <td>NaN</td>\n",
       "      <td>WOODLYN</td>\n",
       "    </tr>\n",
       "    <tr>\n",
       "      <th>80769</th>\n",
       "      <td>1.0</td>\n",
       "      <td>8C60</td>\n",
       "      <td>10600-10699</td>\n",
       "      <td>2017-03-13 00:00:00</td>\n",
       "      <td>11</td>\n",
       "      <td>Burglary</td>\n",
       "      <td>NaN</td>\n",
       "      <td>HIRSCH</td>\n",
       "    </tr>\n",
       "    <tr>\n",
       "      <th>80791</th>\n",
       "      <td>1.0</td>\n",
       "      <td>8C60</td>\n",
       "      <td>10700-10799</td>\n",
       "      <td>2017-03-04 00:00:00</td>\n",
       "      <td>18</td>\n",
       "      <td>Aggravated Assault</td>\n",
       "      <td>NaN</td>\n",
       "      <td>HOMESTEAD</td>\n",
       "    </tr>\n",
       "    <tr>\n",
       "      <th>80813</th>\n",
       "      <td>1.0</td>\n",
       "      <td>8C60</td>\n",
       "      <td>7400-7499</td>\n",
       "      <td>2017-03-23 00:00:00</td>\n",
       "      <td>18</td>\n",
       "      <td>Aggravated Assault</td>\n",
       "      <td>NaN</td>\n",
       "      <td>SAUNDERS</td>\n",
       "    </tr>\n",
       "    <tr>\n",
       "      <th>80844</th>\n",
       "      <td>1.0</td>\n",
       "      <td>9C20</td>\n",
       "      <td>7200-7299</td>\n",
       "      <td>2017-03-13 00:00:00</td>\n",
       "      <td>13</td>\n",
       "      <td>Burglary</td>\n",
       "      <td>NaN</td>\n",
       "      <td>ALDERSON</td>\n",
       "    </tr>\n",
       "    <tr>\n",
       "      <th>80864</th>\n",
       "      <td>1.0</td>\n",
       "      <td>9C20</td>\n",
       "      <td>6400-6499</td>\n",
       "      <td>2017-03-07 00:00:00</td>\n",
       "      <td>21</td>\n",
       "      <td>Robbery</td>\n",
       "      <td>NaN</td>\n",
       "      <td>MARKET</td>\n",
       "    </tr>\n",
       "    <tr>\n",
       "      <th>80893</th>\n",
       "      <td>1.0</td>\n",
       "      <td>9C30</td>\n",
       "      <td>10300-10399</td>\n",
       "      <td>2017-03-15 00:00:00</td>\n",
       "      <td>0</td>\n",
       "      <td>Theft</td>\n",
       "      <td>NaN</td>\n",
       "      <td>EAST</td>\n",
       "    </tr>\n",
       "    <tr>\n",
       "      <th>80932</th>\n",
       "      <td>1.0</td>\n",
       "      <td>9C30</td>\n",
       "      <td>400-499</td>\n",
       "      <td>2017-03-23 00:00:00</td>\n",
       "      <td>10</td>\n",
       "      <td>Burglary</td>\n",
       "      <td>NaN</td>\n",
       "      <td>MERCURY</td>\n",
       "    </tr>\n",
       "    <tr>\n",
       "      <th>80997</th>\n",
       "      <td>1.0</td>\n",
       "      <td>9C40</td>\n",
       "      <td>12000-12099</td>\n",
       "      <td>2017-03-08 00:00:00</td>\n",
       "      <td>20</td>\n",
       "      <td>Theft</td>\n",
       "      <td>NaN</td>\n",
       "      <td>EAST</td>\n",
       "    </tr>\n",
       "    <tr>\n",
       "      <th>81131</th>\n",
       "      <td>1.0</td>\n",
       "      <td>UNK</td>\n",
       "      <td>10200-10299</td>\n",
       "      <td>2017-03-30 00:00:00</td>\n",
       "      <td>22</td>\n",
       "      <td>Theft</td>\n",
       "      <td>NaN</td>\n",
       "      <td>EAST</td>\n",
       "    </tr>\n",
       "  </tbody>\n",
       "</table>\n",
       "</div>"
      ],
      "text/plain": [
       "       num_offenses  beat  block_range                 date  hour  \\\n",
       "80671           1.0  8C30    8400-8499  2017-03-06 00:00:00    13   \n",
       "80769           1.0  8C60  10600-10699  2017-03-13 00:00:00    11   \n",
       "80791           1.0  8C60  10700-10799  2017-03-04 00:00:00    18   \n",
       "80813           1.0  8C60    7400-7499  2017-03-23 00:00:00    18   \n",
       "80844           1.0  9C20    7200-7299  2017-03-13 00:00:00    13   \n",
       "80864           1.0  9C20    6400-6499  2017-03-07 00:00:00    21   \n",
       "80893           1.0  9C30  10300-10399  2017-03-15 00:00:00     0   \n",
       "80932           1.0  9C30      400-499  2017-03-23 00:00:00    10   \n",
       "80997           1.0  9C40  12000-12099  2017-03-08 00:00:00    20   \n",
       "81131           1.0   UNK  10200-10299  2017-03-30 00:00:00    22   \n",
       "\n",
       "             offense_type premise street_name  \n",
       "80671          Auto Theft     NaN     WOODLYN  \n",
       "80769            Burglary     NaN      HIRSCH  \n",
       "80791  Aggravated Assault     NaN   HOMESTEAD  \n",
       "80813  Aggravated Assault     NaN    SAUNDERS  \n",
       "80844            Burglary     NaN    ALDERSON  \n",
       "80864             Robbery     NaN      MARKET  \n",
       "80893               Theft     NaN        EAST  \n",
       "80932            Burglary     NaN     MERCURY  \n",
       "80997               Theft     NaN        EAST  \n",
       "81131               Theft     NaN        EAST  "
      ]
     },
     "execution_count": 23,
     "metadata": {},
     "output_type": "execute_result"
    }
   ],
   "source": [
    "df[df.isnull().any(axis=1)][-10:]  # display last 10"
   ]
  },
  {
   "cell_type": "markdown",
   "metadata": {},
   "source": [
    "### Drop rows with more than 3 null values"
   ]
  },
  {
   "cell_type": "code",
   "execution_count": 24,
   "metadata": {},
   "outputs": [],
   "source": [
    "df.dropna(thresh=3,inplace=True)"
   ]
  },
  {
   "cell_type": "code",
   "execution_count": 25,
   "metadata": {},
   "outputs": [
    {
     "data": {
      "text/html": [
       "<div>\n",
       "<style scoped>\n",
       "    .dataframe tbody tr th:only-of-type {\n",
       "        vertical-align: middle;\n",
       "    }\n",
       "\n",
       "    .dataframe tbody tr th {\n",
       "        vertical-align: top;\n",
       "    }\n",
       "\n",
       "    .dataframe thead th {\n",
       "        text-align: right;\n",
       "    }\n",
       "</style>\n",
       "<table border=\"1\" class=\"dataframe\">\n",
       "  <thead>\n",
       "    <tr style=\"text-align: right;\">\n",
       "      <th></th>\n",
       "      <th>num_offenses</th>\n",
       "      <th>beat</th>\n",
       "      <th>block_range</th>\n",
       "      <th>date</th>\n",
       "      <th>hour</th>\n",
       "      <th>offense_type</th>\n",
       "      <th>premise</th>\n",
       "      <th>street_name</th>\n",
       "    </tr>\n",
       "  </thead>\n",
       "  <tbody>\n",
       "    <tr>\n",
       "      <th>80671</th>\n",
       "      <td>1.0</td>\n",
       "      <td>8C30</td>\n",
       "      <td>8400-8499</td>\n",
       "      <td>2017-03-06 00:00:00</td>\n",
       "      <td>13</td>\n",
       "      <td>Auto Theft</td>\n",
       "      <td>NaN</td>\n",
       "      <td>WOODLYN</td>\n",
       "    </tr>\n",
       "    <tr>\n",
       "      <th>80769</th>\n",
       "      <td>1.0</td>\n",
       "      <td>8C60</td>\n",
       "      <td>10600-10699</td>\n",
       "      <td>2017-03-13 00:00:00</td>\n",
       "      <td>11</td>\n",
       "      <td>Burglary</td>\n",
       "      <td>NaN</td>\n",
       "      <td>HIRSCH</td>\n",
       "    </tr>\n",
       "    <tr>\n",
       "      <th>80791</th>\n",
       "      <td>1.0</td>\n",
       "      <td>8C60</td>\n",
       "      <td>10700-10799</td>\n",
       "      <td>2017-03-04 00:00:00</td>\n",
       "      <td>18</td>\n",
       "      <td>Aggravated Assault</td>\n",
       "      <td>NaN</td>\n",
       "      <td>HOMESTEAD</td>\n",
       "    </tr>\n",
       "    <tr>\n",
       "      <th>80813</th>\n",
       "      <td>1.0</td>\n",
       "      <td>8C60</td>\n",
       "      <td>7400-7499</td>\n",
       "      <td>2017-03-23 00:00:00</td>\n",
       "      <td>18</td>\n",
       "      <td>Aggravated Assault</td>\n",
       "      <td>NaN</td>\n",
       "      <td>SAUNDERS</td>\n",
       "    </tr>\n",
       "    <tr>\n",
       "      <th>80844</th>\n",
       "      <td>1.0</td>\n",
       "      <td>9C20</td>\n",
       "      <td>7200-7299</td>\n",
       "      <td>2017-03-13 00:00:00</td>\n",
       "      <td>13</td>\n",
       "      <td>Burglary</td>\n",
       "      <td>NaN</td>\n",
       "      <td>ALDERSON</td>\n",
       "    </tr>\n",
       "    <tr>\n",
       "      <th>80864</th>\n",
       "      <td>1.0</td>\n",
       "      <td>9C20</td>\n",
       "      <td>6400-6499</td>\n",
       "      <td>2017-03-07 00:00:00</td>\n",
       "      <td>21</td>\n",
       "      <td>Robbery</td>\n",
       "      <td>NaN</td>\n",
       "      <td>MARKET</td>\n",
       "    </tr>\n",
       "    <tr>\n",
       "      <th>80893</th>\n",
       "      <td>1.0</td>\n",
       "      <td>9C30</td>\n",
       "      <td>10300-10399</td>\n",
       "      <td>2017-03-15 00:00:00</td>\n",
       "      <td>0</td>\n",
       "      <td>Theft</td>\n",
       "      <td>NaN</td>\n",
       "      <td>EAST</td>\n",
       "    </tr>\n",
       "    <tr>\n",
       "      <th>80932</th>\n",
       "      <td>1.0</td>\n",
       "      <td>9C30</td>\n",
       "      <td>400-499</td>\n",
       "      <td>2017-03-23 00:00:00</td>\n",
       "      <td>10</td>\n",
       "      <td>Burglary</td>\n",
       "      <td>NaN</td>\n",
       "      <td>MERCURY</td>\n",
       "    </tr>\n",
       "    <tr>\n",
       "      <th>80997</th>\n",
       "      <td>1.0</td>\n",
       "      <td>9C40</td>\n",
       "      <td>12000-12099</td>\n",
       "      <td>2017-03-08 00:00:00</td>\n",
       "      <td>20</td>\n",
       "      <td>Theft</td>\n",
       "      <td>NaN</td>\n",
       "      <td>EAST</td>\n",
       "    </tr>\n",
       "    <tr>\n",
       "      <th>81131</th>\n",
       "      <td>1.0</td>\n",
       "      <td>UNK</td>\n",
       "      <td>10200-10299</td>\n",
       "      <td>2017-03-30 00:00:00</td>\n",
       "      <td>22</td>\n",
       "      <td>Theft</td>\n",
       "      <td>NaN</td>\n",
       "      <td>EAST</td>\n",
       "    </tr>\n",
       "  </tbody>\n",
       "</table>\n",
       "</div>"
      ],
      "text/plain": [
       "       num_offenses  beat  block_range                 date  hour  \\\n",
       "80671           1.0  8C30    8400-8499  2017-03-06 00:00:00    13   \n",
       "80769           1.0  8C60  10600-10699  2017-03-13 00:00:00    11   \n",
       "80791           1.0  8C60  10700-10799  2017-03-04 00:00:00    18   \n",
       "80813           1.0  8C60    7400-7499  2017-03-23 00:00:00    18   \n",
       "80844           1.0  9C20    7200-7299  2017-03-13 00:00:00    13   \n",
       "80864           1.0  9C20    6400-6499  2017-03-07 00:00:00    21   \n",
       "80893           1.0  9C30  10300-10399  2017-03-15 00:00:00     0   \n",
       "80932           1.0  9C30      400-499  2017-03-23 00:00:00    10   \n",
       "80997           1.0  9C40  12000-12099  2017-03-08 00:00:00    20   \n",
       "81131           1.0   UNK  10200-10299  2017-03-30 00:00:00    22   \n",
       "\n",
       "             offense_type premise street_name  \n",
       "80671          Auto Theft     NaN     WOODLYN  \n",
       "80769            Burglary     NaN      HIRSCH  \n",
       "80791  Aggravated Assault     NaN   HOMESTEAD  \n",
       "80813  Aggravated Assault     NaN    SAUNDERS  \n",
       "80844            Burglary     NaN    ALDERSON  \n",
       "80864             Robbery     NaN      MARKET  \n",
       "80893               Theft     NaN        EAST  \n",
       "80932            Burglary     NaN     MERCURY  \n",
       "80997               Theft     NaN        EAST  \n",
       "81131               Theft     NaN        EAST  "
      ]
     },
     "execution_count": 25,
     "metadata": {},
     "output_type": "execute_result"
    }
   ],
   "source": [
    "df[df.isnull().any(axis=1)][-10:]  # display last 10"
   ]
  },
  {
   "cell_type": "markdown",
   "metadata": {},
   "source": [
    "### Replace null values on premise_code to 'none'"
   ]
  },
  {
   "cell_type": "code",
   "execution_count": 26,
   "metadata": {},
   "outputs": [],
   "source": [
    "df.premise.fillna('UNK',inplace=True)"
   ]
  },
  {
   "cell_type": "code",
   "execution_count": 27,
   "metadata": {},
   "outputs": [
    {
     "data": {
      "text/plain": [
       "num_offenses    0\n",
       "beat            0\n",
       "block_range     0\n",
       "date            0\n",
       "hour            0\n",
       "offense_type    0\n",
       "premise         0\n",
       "street_name     0\n",
       "dtype: int64"
      ]
     },
     "execution_count": 27,
     "metadata": {},
     "output_type": "execute_result"
    }
   ],
   "source": [
    "df.apply(lambda x: sum(x.isnull()))"
   ]
  },
  {
   "cell_type": "markdown",
   "metadata": {},
   "source": [
    "# Inspect each column"
   ]
  },
  {
   "cell_type": "markdown",
   "metadata": {},
   "source": [
    "## `num_offenses`"
   ]
  },
  {
   "cell_type": "code",
   "execution_count": 28,
   "metadata": {},
   "outputs": [
    {
     "data": {
      "text/html": [
       "<div>\n",
       "<style scoped>\n",
       "    .dataframe tbody tr th:only-of-type {\n",
       "        vertical-align: middle;\n",
       "    }\n",
       "\n",
       "    .dataframe tbody tr th {\n",
       "        vertical-align: top;\n",
       "    }\n",
       "\n",
       "    .dataframe thead th {\n",
       "        text-align: right;\n",
       "    }\n",
       "</style>\n",
       "<table border=\"1\" class=\"dataframe\">\n",
       "  <thead>\n",
       "    <tr style=\"text-align: right;\">\n",
       "      <th></th>\n",
       "      <th>num_offenses</th>\n",
       "      <th>beat</th>\n",
       "      <th>block_range</th>\n",
       "      <th>date</th>\n",
       "      <th>hour</th>\n",
       "      <th>offense_type</th>\n",
       "      <th>premise</th>\n",
       "      <th>street_name</th>\n",
       "    </tr>\n",
       "  </thead>\n",
       "  <tbody>\n",
       "    <tr>\n",
       "      <th>0</th>\n",
       "      <td>1.0</td>\n",
       "      <td>10H10</td>\n",
       "      <td>200-299</td>\n",
       "      <td>2017-04-10 00:00:00</td>\n",
       "      <td>15</td>\n",
       "      <td>Burglary</td>\n",
       "      <td>Residence or House</td>\n",
       "      <td>CLIFTON</td>\n",
       "    </tr>\n",
       "    <tr>\n",
       "      <th>1</th>\n",
       "      <td>1.0</td>\n",
       "      <td>10H10</td>\n",
       "      <td>2300-2399</td>\n",
       "      <td>2017-04-11 00:00:00</td>\n",
       "      <td>15</td>\n",
       "      <td>Theft</td>\n",
       "      <td>Restaurant or Cafeteria Parking Lot</td>\n",
       "      <td>CANAL</td>\n",
       "    </tr>\n",
       "    <tr>\n",
       "      <th>2</th>\n",
       "      <td>1.0</td>\n",
       "      <td>10H10</td>\n",
       "      <td>2300-2399</td>\n",
       "      <td>2017-04-11 00:00:00</td>\n",
       "      <td>17</td>\n",
       "      <td>Theft</td>\n",
       "      <td>Restaurant or Cafeteria Parking Lot</td>\n",
       "      <td>CANAL</td>\n",
       "    </tr>\n",
       "    <tr>\n",
       "      <th>3</th>\n",
       "      <td>1.0</td>\n",
       "      <td>10H10</td>\n",
       "      <td>4600-4699</td>\n",
       "      <td>2017-04-12 00:00:00</td>\n",
       "      <td>9</td>\n",
       "      <td>Burglary</td>\n",
       "      <td>Miscellaneous Business (Non-Specific)</td>\n",
       "      <td>CANAL</td>\n",
       "    </tr>\n",
       "    <tr>\n",
       "      <th>4</th>\n",
       "      <td>1.0</td>\n",
       "      <td>10H10</td>\n",
       "      <td>100-199</td>\n",
       "      <td>2017-04-12 00:00:00</td>\n",
       "      <td>19</td>\n",
       "      <td>Theft</td>\n",
       "      <td>Other, Unknown, or Not Listed</td>\n",
       "      <td>ADAM</td>\n",
       "    </tr>\n",
       "  </tbody>\n",
       "</table>\n",
       "</div>"
      ],
      "text/plain": [
       "   num_offenses   beat block_range                 date  hour offense_type  \\\n",
       "0           1.0  10H10     200-299  2017-04-10 00:00:00    15     Burglary   \n",
       "1           1.0  10H10   2300-2399  2017-04-11 00:00:00    15        Theft   \n",
       "2           1.0  10H10   2300-2399  2017-04-11 00:00:00    17        Theft   \n",
       "3           1.0  10H10   4600-4699  2017-04-12 00:00:00     9     Burglary   \n",
       "4           1.0  10H10     100-199  2017-04-12 00:00:00    19        Theft   \n",
       "\n",
       "                                 premise street_name  \n",
       "0                     Residence or House     CLIFTON  \n",
       "1    Restaurant or Cafeteria Parking Lot       CANAL  \n",
       "2    Restaurant or Cafeteria Parking Lot       CANAL  \n",
       "3  Miscellaneous Business (Non-Specific)       CANAL  \n",
       "4          Other, Unknown, or Not Listed        ADAM  "
      ]
     },
     "execution_count": 28,
     "metadata": {},
     "output_type": "execute_result"
    }
   ],
   "source": [
    "df.head()"
   ]
  },
  {
   "cell_type": "code",
   "execution_count": 29,
   "metadata": {},
   "outputs": [
    {
     "data": {
      "text/plain": [
       "1.0     117727\n",
       "2.0       1661\n",
       "3.0        227\n",
       "4.0         70\n",
       "5.0         21\n",
       "6.0         10\n",
       "7.0          7\n",
       "10.0         2\n",
       "8.0          2\n",
       "Name: num_offenses, dtype: int64"
      ]
     },
     "execution_count": 29,
     "metadata": {},
     "output_type": "execute_result"
    }
   ],
   "source": [
    "df.num_offenses.value_counts(dropna=False)"
   ]
  },
  {
   "cell_type": "code",
   "execution_count": 30,
   "metadata": {},
   "outputs": [
    {
     "data": {
      "text/plain": [
       "dtype('float64')"
      ]
     },
     "execution_count": 30,
     "metadata": {},
     "output_type": "execute_result"
    }
   ],
   "source": [
    "df.num_offenses.dtype"
   ]
  },
  {
   "cell_type": "markdown",
   "metadata": {},
   "source": [
    "### Change the type from float to integer"
   ]
  },
  {
   "cell_type": "code",
   "execution_count": 31,
   "metadata": {},
   "outputs": [],
   "source": [
    "df.num_offenses = df.num_offenses.astype('int')"
   ]
  },
  {
   "cell_type": "code",
   "execution_count": 32,
   "metadata": {},
   "outputs": [
    {
     "data": {
      "text/plain": [
       "dtype('int64')"
      ]
     },
     "execution_count": 32,
     "metadata": {},
     "output_type": "execute_result"
    }
   ],
   "source": [
    "df.num_offenses.dtype"
   ]
  },
  {
   "cell_type": "code",
   "execution_count": 33,
   "metadata": {},
   "outputs": [
    {
     "data": {
      "text/plain": [
       "1     117727\n",
       "2       1661\n",
       "3        227\n",
       "4         70\n",
       "5         21\n",
       "6         10\n",
       "7          7\n",
       "10         2\n",
       "8          2\n",
       "Name: num_offenses, dtype: int64"
      ]
     },
     "execution_count": 33,
     "metadata": {},
     "output_type": "execute_result"
    }
   ],
   "source": [
    "df.num_offenses.value_counts(dropna=False)"
   ]
  },
  {
   "cell_type": "markdown",
   "metadata": {},
   "source": [
    "## `beat`"
   ]
  },
  {
   "cell_type": "code",
   "execution_count": 34,
   "metadata": {},
   "outputs": [
    {
     "data": {
      "text/plain": [
       "237"
      ]
     },
     "execution_count": 34,
     "metadata": {},
     "output_type": "execute_result"
    }
   ],
   "source": [
    "len(df.beat.value_counts(dropna='False'))"
   ]
  },
  {
   "cell_type": "code",
   "execution_count": 35,
   "metadata": {},
   "outputs": [
    {
     "data": {
      "text/plain": [
       "array(['10H10', '10H20', '10H30', '10H40', '10H50', '10H60', '10H70',\n",
       "       '10H80', '11H10', '11H20', '11H30', '11H40', '11H50', '12D10',\n",
       "       '12D20', '12D30', '12D40', '12D50', '12D60', '12D70', '13D10',\n",
       "       '13D20', '13D30', '13D40', '14D10', '14D20', '14D30', '14D40',\n",
       "       '14D50', '15E10', '15E20', '15E30', '15E40', '16E10', '16E20',\n",
       "       '16E30', '16E40', '17E10', '17E20', '17E30', '17E40', '18F10',\n",
       "       '18F20', '18F30', '18F40', '18F50', '18F60', '19G10', '19G20',\n",
       "       '19G30', '19G40', '19G50', '1A10', '1A20', '1A30', '1A40', '1A50',\n",
       "       '20G10', '20G20', '20G30', '20G40', '20G50', '20G60', '20G70',\n",
       "       '20G80', '21I10', '21I20', '21I30', '21I40', '21I50', '21I60',\n",
       "       '21I70', '23J50', '24C10', '24C20', '24C30', '24C40', '24C50',\n",
       "       '24C60', '2A10', '2A20', '2A30', '2A40', '2A50', '2A60', '3B10',\n",
       "       '3B30', '3B40', '3B50', '4F10', '4F20', '4F30', '5F10', '5F20',\n",
       "       '5F30', '5F40', '6B10', '6B20', '6B30', '6B40', '6B50', '6B60',\n",
       "       '7C10', '7C20', '7C30', '7C40', '7C50', '8C10', '8C20', '8C30',\n",
       "       '8C40', '8C50', '8C60', '9C10', '9C20', '9C30', '9C40', 'UH-3P',\n",
       "       'UNK', '23J40', '10H10 ', '10H20 ', '10H30 ', '10H40 ', '10H50 ',\n",
       "       '10H60 ', '10H70 ', '10H80 ', '11H10 ', '11H20 ', '11H30 ',\n",
       "       '11H40 ', '11H50 ', '12D10 ', '12D20 ', '12D30 ', '12D40 ',\n",
       "       '12D50 ', '12D60 ', '12D70 ', '13D10 ', '13D20 ', '13D30 ',\n",
       "       '13D40 ', '14D10 ', '14D20 ', '14D30 ', '14D40 ', '14D50 ',\n",
       "       '15E10 ', '15E20 ', '15E30 ', '15E40 ', '16E10 ', '16E20 ',\n",
       "       '16E30 ', '16E40 ', '17E10 ', '17E20 ', '17E30 ', '17E40 ',\n",
       "       '18F10 ', '18F20 ', '18F30 ', '18F40 ', '18F50 ', '18F60 ',\n",
       "       '19G10 ', '19G20 ', '19G30 ', '19G40 ', '19G50 ', '1A10  ',\n",
       "       '1A20  ', '1A30  ', '1A40  ', '1A50  ', '20G10 ', '20G20 ',\n",
       "       '20G30 ', '20G40 ', '20G50 ', '20G60 ', '20G70 ', '20G80 ',\n",
       "       '21I10 ', '21I20 ', '21I40 ', '21I50 ', '21I60 ', '21I70 ',\n",
       "       '23J50 ', '24C10 ', '24C20 ', '24C30 ', '24C40 ', '24C50 ',\n",
       "       '24C60 ', '2A10  ', '2A20  ', '2A30  ', '2A40  ', '2A50  ',\n",
       "       '2A60  ', '3B10  ', '3B30  ', '3B40  ', '3B50  ', '4F10  ',\n",
       "       '4F20  ', '4F30  ', '5F10  ', '5F20  ', '5F30  ', '5F40  ',\n",
       "       '6B10  ', '6B20  ', '6B30  ', '6B40  ', '6B50  ', '6B60  ',\n",
       "       '7C10  ', '7C20  ', '7C30  ', '7C40  ', '7C50  ', '8C10  ',\n",
       "       '8C20  ', '8C30  ', '8C40  ', '8C50  ', '8C60  ', '9C10  ',\n",
       "       '9C20  ', '9C30  ', '9C40  ', 'UNK   '], dtype=object)"
      ]
     },
     "execution_count": 35,
     "metadata": {},
     "output_type": "execute_result"
    }
   ],
   "source": [
    "df.beat.unique()"
   ]
  },
  {
   "cell_type": "code",
   "execution_count": 36,
   "metadata": {},
   "outputs": [],
   "source": [
    "df.beat = df.beat.str.strip()"
   ]
  },
  {
   "cell_type": "code",
   "execution_count": 37,
   "metadata": {},
   "outputs": [
    {
     "data": {
      "text/plain": [
       "120"
      ]
     },
     "execution_count": 37,
     "metadata": {},
     "output_type": "execute_result"
    }
   ],
   "source": [
    "len(df.beat.unique())"
   ]
  },
  {
   "cell_type": "markdown",
   "metadata": {},
   "source": [
    "## `block_range`"
   ]
  },
  {
   "cell_type": "code",
   "execution_count": 38,
   "metadata": {},
   "outputs": [
    {
     "data": {
      "text/plain": [
       "320"
      ]
     },
     "execution_count": 38,
     "metadata": {},
     "output_type": "execute_result"
    }
   ],
   "source": [
    "len(df.block_range.unique())"
   ]
  },
  {
   "cell_type": "code",
   "execution_count": 39,
   "metadata": {},
   "outputs": [],
   "source": [
    "df.block_range = df.block_range.str.strip()"
   ]
  },
  {
   "cell_type": "code",
   "execution_count": 40,
   "metadata": {},
   "outputs": [
    {
     "data": {
      "text/plain": [
       "320"
      ]
     },
     "execution_count": 40,
     "metadata": {},
     "output_type": "execute_result"
    }
   ],
   "source": [
    "len(df.block_range.unique())"
   ]
  },
  {
   "cell_type": "markdown",
   "metadata": {},
   "source": [
    "## `date`"
   ]
  },
  {
   "cell_type": "code",
   "execution_count": 41,
   "metadata": {},
   "outputs": [
    {
     "data": {
      "text/plain": [
       "dtype('O')"
      ]
     },
     "execution_count": 41,
     "metadata": {},
     "output_type": "execute_result"
    }
   ],
   "source": [
    "df['date'].dtype"
   ]
  },
  {
   "cell_type": "code",
   "execution_count": 42,
   "metadata": {},
   "outputs": [],
   "source": [
    "df['date'] = pd.to_datetime(df['date'])"
   ]
  },
  {
   "cell_type": "code",
   "execution_count": 43,
   "metadata": {},
   "outputs": [
    {
     "data": {
      "text/plain": [
       "dtype('<M8[ns]')"
      ]
     },
     "execution_count": 43,
     "metadata": {},
     "output_type": "execute_result"
    }
   ],
   "source": [
    "df['date'].dtype"
   ]
  },
  {
   "cell_type": "markdown",
   "metadata": {},
   "source": [
    "## `hour`"
   ]
  },
  {
   "cell_type": "code",
   "execution_count": 44,
   "metadata": {},
   "outputs": [
    {
     "data": {
      "text/plain": [
       "15    7531\n",
       "14    7386\n",
       "10    7209\n",
       "13    7041\n",
       "16    6970\n",
       "9     6836\n",
       "12    6816\n",
       "11    6751\n",
       "17    6515\n",
       "8     6203\n",
       "18    5951\n",
       "19    5587\n",
       "20    5136\n",
       "7     5051\n",
       "21    4509\n",
       "22    4278\n",
       "23    3738\n",
       "6     3253\n",
       "0     2912\n",
       "1     2372\n",
       "2     2315\n",
       "5     1920\n",
       "3     1784\n",
       "4     1660\n",
       "24       3\n",
       "Name: hour, dtype: int64"
      ]
     },
     "execution_count": 44,
     "metadata": {},
     "output_type": "execute_result"
    }
   ],
   "source": [
    "df.hour.value_counts(dropna=False)"
   ]
  },
  {
   "cell_type": "code",
   "execution_count": 45,
   "metadata": {},
   "outputs": [
    {
     "data": {
      "text/plain": [
       "dtype('int64')"
      ]
     },
     "execution_count": 45,
     "metadata": {},
     "output_type": "execute_result"
    }
   ],
   "source": [
    "df.hour.dtype"
   ]
  },
  {
   "cell_type": "markdown",
   "metadata": {},
   "source": [
    "## Change dtype "
   ]
  },
  {
   "cell_type": "code",
   "execution_count": 46,
   "metadata": {},
   "outputs": [],
   "source": [
    "df.hour = df.hour.astype('int')"
   ]
  },
  {
   "cell_type": "code",
   "execution_count": 47,
   "metadata": {},
   "outputs": [
    {
     "data": {
      "text/plain": [
       "dtype('int64')"
      ]
     },
     "execution_count": 47,
     "metadata": {},
     "output_type": "execute_result"
    }
   ],
   "source": [
    "df.hour.dtype"
   ]
  },
  {
   "cell_type": "code",
   "execution_count": 48,
   "metadata": {},
   "outputs": [
    {
     "data": {
      "text/plain": [
       "15    7531\n",
       "14    7386\n",
       "10    7209\n",
       "13    7041\n",
       "16    6970\n",
       "9     6836\n",
       "12    6816\n",
       "11    6751\n",
       "17    6515\n",
       "8     6203\n",
       "18    5951\n",
       "19    5587\n",
       "20    5136\n",
       "7     5051\n",
       "21    4509\n",
       "22    4278\n",
       "23    3738\n",
       "6     3253\n",
       "0     2912\n",
       "1     2372\n",
       "2     2315\n",
       "5     1920\n",
       "3     1784\n",
       "4     1660\n",
       "24       3\n",
       "Name: hour, dtype: int64"
      ]
     },
     "execution_count": 48,
     "metadata": {},
     "output_type": "execute_result"
    }
   ],
   "source": [
    "df.hour.value_counts(dropna=False)"
   ]
  },
  {
   "cell_type": "markdown",
   "metadata": {},
   "source": [
    "## `offense_type`"
   ]
  },
  {
   "cell_type": "code",
   "execution_count": 49,
   "metadata": {},
   "outputs": [
    {
     "data": {
      "text/plain": [
       "Theft                        61411\n",
       "Burglary                     15713\n",
       "Aggravated Assault           11156\n",
       "Robbery                       8956\n",
       "AutoTheft                     6649\n",
       "Theft                         6011\n",
       "Auto Theft                    3874\n",
       "Burglary                      1371\n",
       "Rape                          1239\n",
       "Aggravated Assault            1158\n",
       "AutoTheft                      978\n",
       "Robbery                        822\n",
       "Murder                         235\n",
       "Rape                           129\n",
       "Murder                          23\n",
       "1                                2\n",
       "Name: offense_type, dtype: int64"
      ]
     },
     "execution_count": 49,
     "metadata": {},
     "output_type": "execute_result"
    }
   ],
   "source": [
    "df.offense_type.value_counts(dropna=False)"
   ]
  },
  {
   "cell_type": "code",
   "execution_count": 50,
   "metadata": {},
   "outputs": [
    {
     "data": {
      "text/plain": [
       "array(['Burglary', 'Theft', 'Robbery', 'Auto Theft', 'Aggravated Assault',\n",
       "       'Rape', 'Murder', 'AutoTheft', 1, 'Burglary                 ',\n",
       "       'Robbery                  ', 'Theft                    ',\n",
       "       'AutoTheft                ', 'Aggravated Assault       ',\n",
       "       'Rape                     ', 'Murder                   '],\n",
       "      dtype=object)"
      ]
     },
     "execution_count": 50,
     "metadata": {},
     "output_type": "execute_result"
    }
   ],
   "source": [
    "df.offense_type.unique()"
   ]
  },
  {
   "cell_type": "code",
   "execution_count": 51,
   "metadata": {},
   "outputs": [],
   "source": [
    "df.offense_type = df.offense_type.str.strip()"
   ]
  },
  {
   "cell_type": "code",
   "execution_count": 52,
   "metadata": {},
   "outputs": [
    {
     "data": {
      "text/plain": [
       "array(['Burglary', 'Theft', 'Robbery', 'Auto Theft', 'Aggravated Assault',\n",
       "       'Rape', 'Murder', 'AutoTheft', nan], dtype=object)"
      ]
     },
     "execution_count": 52,
     "metadata": {},
     "output_type": "execute_result"
    }
   ],
   "source": [
    "df.offense_type.unique()"
   ]
  },
  {
   "cell_type": "code",
   "execution_count": 53,
   "metadata": {},
   "outputs": [
    {
     "data": {
      "text/plain": [
       "Theft                 67422\n",
       "Burglary              17084\n",
       "Aggravated Assault    12314\n",
       "Robbery                9778\n",
       "AutoTheft              7627\n",
       "Auto Theft             3874\n",
       "Rape                   1368\n",
       "Murder                  258\n",
       "NaN                       2\n",
       "Name: offense_type, dtype: int64"
      ]
     },
     "execution_count": 53,
     "metadata": {},
     "output_type": "execute_result"
    }
   ],
   "source": [
    "df.offense_type.value_counts(dropna=False)"
   ]
  },
  {
   "cell_type": "code",
   "execution_count": 54,
   "metadata": {},
   "outputs": [],
   "source": [
    "df.offense_type.replace({'AutoTheft':'Auto Theft'}, inplace=True)"
   ]
  },
  {
   "cell_type": "code",
   "execution_count": 55,
   "metadata": {},
   "outputs": [
    {
     "data": {
      "text/plain": [
       "Theft                 67422\n",
       "Burglary              17084\n",
       "Aggravated Assault    12314\n",
       "Auto Theft            11501\n",
       "Robbery                9778\n",
       "Rape                   1368\n",
       "Murder                  258\n",
       "NaN                       2\n",
       "Name: offense_type, dtype: int64"
      ]
     },
     "execution_count": 55,
     "metadata": {},
     "output_type": "execute_result"
    }
   ],
   "source": [
    "df.offense_type.value_counts(dropna=False)"
   ]
  },
  {
   "cell_type": "markdown",
   "metadata": {},
   "source": [
    "## `street_name`"
   ]
  },
  {
   "cell_type": "code",
   "execution_count": 56,
   "metadata": {},
   "outputs": [
    {
     "data": {
      "text/plain": [
       "21587"
      ]
     },
     "execution_count": 56,
     "metadata": {},
     "output_type": "execute_result"
    }
   ],
   "source": [
    "len(df.street_name.value_counts(dropna=False))"
   ]
  },
  {
   "cell_type": "code",
   "execution_count": 57,
   "metadata": {},
   "outputs": [
    {
     "data": {
      "text/plain": [
       "WESTHEIMER       1993\n",
       "WESTHEIMER RD    1230\n",
       "GESSNER           980\n",
       "NORTH             839\n",
       "GULF              785\n",
       "LOOP              778\n",
       "SAM HOUSTON       759\n",
       "RICHMOND          741\n",
       "KATY              713\n",
       "NORTHWEST         667\n",
       "Name: street_name, dtype: int64"
      ]
     },
     "execution_count": 57,
     "metadata": {},
     "output_type": "execute_result"
    }
   ],
   "source": [
    "df.street_name.value_counts(dropna=False)[:10]"
   ]
  },
  {
   "cell_type": "code",
   "execution_count": 58,
   "metadata": {},
   "outputs": [
    {
     "data": {
      "text/plain": [
       "array(['CLIFTON', 'CANAL', 'ADAM', ..., 'GREEN LAKER', 'STAFFORD RD',\n",
       "       'TEALGATE'], dtype=object)"
      ]
     },
     "execution_count": 58,
     "metadata": {},
     "output_type": "execute_result"
    }
   ],
   "source": [
    "df.street_name.unique()"
   ]
  },
  {
   "cell_type": "code",
   "execution_count": 59,
   "metadata": {},
   "outputs": [],
   "source": [
    "df.street_name = df.street_name.str.strip()  # no need"
   ]
  },
  {
   "cell_type": "code",
   "execution_count": 60,
   "metadata": {},
   "outputs": [
    {
     "data": {
      "text/plain": [
       "18672"
      ]
     },
     "execution_count": 60,
     "metadata": {},
     "output_type": "execute_result"
    }
   ],
   "source": [
    "len(df.street_name.value_counts(dropna=False))"
   ]
  },
  {
   "cell_type": "code",
   "execution_count": 61,
   "metadata": {},
   "outputs": [],
   "source": [
    "df.street_name = df.street_name.str.upper()"
   ]
  },
  {
   "cell_type": "code",
   "execution_count": 62,
   "metadata": {},
   "outputs": [
    {
     "data": {
      "text/plain": [
       "18672"
      ]
     },
     "execution_count": 62,
     "metadata": {},
     "output_type": "execute_result"
    }
   ],
   "source": [
    "len(df.street_name.value_counts(dropna=False))"
   ]
  },
  {
   "cell_type": "markdown",
   "metadata": {},
   "source": [
    "## Organiaze columns"
   ]
  },
  {
   "cell_type": "code",
   "execution_count": 63,
   "metadata": {},
   "outputs": [
    {
     "data": {
      "text/html": [
       "<div>\n",
       "<style scoped>\n",
       "    .dataframe tbody tr th:only-of-type {\n",
       "        vertical-align: middle;\n",
       "    }\n",
       "\n",
       "    .dataframe tbody tr th {\n",
       "        vertical-align: top;\n",
       "    }\n",
       "\n",
       "    .dataframe thead th {\n",
       "        text-align: right;\n",
       "    }\n",
       "</style>\n",
       "<table border=\"1\" class=\"dataframe\">\n",
       "  <thead>\n",
       "    <tr style=\"text-align: right;\">\n",
       "      <th></th>\n",
       "      <th>num_offenses</th>\n",
       "      <th>beat</th>\n",
       "      <th>block_range</th>\n",
       "      <th>date</th>\n",
       "      <th>hour</th>\n",
       "      <th>offense_type</th>\n",
       "      <th>premise</th>\n",
       "      <th>street_name</th>\n",
       "    </tr>\n",
       "  </thead>\n",
       "  <tbody>\n",
       "    <tr>\n",
       "      <th>0</th>\n",
       "      <td>1</td>\n",
       "      <td>10H10</td>\n",
       "      <td>200-299</td>\n",
       "      <td>2017-04-10</td>\n",
       "      <td>15</td>\n",
       "      <td>Burglary</td>\n",
       "      <td>Residence or House</td>\n",
       "      <td>CLIFTON</td>\n",
       "    </tr>\n",
       "    <tr>\n",
       "      <th>1</th>\n",
       "      <td>1</td>\n",
       "      <td>10H10</td>\n",
       "      <td>2300-2399</td>\n",
       "      <td>2017-04-11</td>\n",
       "      <td>15</td>\n",
       "      <td>Theft</td>\n",
       "      <td>Restaurant or Cafeteria Parking Lot</td>\n",
       "      <td>CANAL</td>\n",
       "    </tr>\n",
       "    <tr>\n",
       "      <th>2</th>\n",
       "      <td>1</td>\n",
       "      <td>10H10</td>\n",
       "      <td>2300-2399</td>\n",
       "      <td>2017-04-11</td>\n",
       "      <td>17</td>\n",
       "      <td>Theft</td>\n",
       "      <td>Restaurant or Cafeteria Parking Lot</td>\n",
       "      <td>CANAL</td>\n",
       "    </tr>\n",
       "    <tr>\n",
       "      <th>3</th>\n",
       "      <td>1</td>\n",
       "      <td>10H10</td>\n",
       "      <td>4600-4699</td>\n",
       "      <td>2017-04-12</td>\n",
       "      <td>9</td>\n",
       "      <td>Burglary</td>\n",
       "      <td>Miscellaneous Business (Non-Specific)</td>\n",
       "      <td>CANAL</td>\n",
       "    </tr>\n",
       "    <tr>\n",
       "      <th>4</th>\n",
       "      <td>1</td>\n",
       "      <td>10H10</td>\n",
       "      <td>100-199</td>\n",
       "      <td>2017-04-12</td>\n",
       "      <td>19</td>\n",
       "      <td>Theft</td>\n",
       "      <td>Other, Unknown, or Not Listed</td>\n",
       "      <td>ADAM</td>\n",
       "    </tr>\n",
       "  </tbody>\n",
       "</table>\n",
       "</div>"
      ],
      "text/plain": [
       "   num_offenses   beat block_range       date  hour offense_type  \\\n",
       "0             1  10H10     200-299 2017-04-10    15     Burglary   \n",
       "1             1  10H10   2300-2399 2017-04-11    15        Theft   \n",
       "2             1  10H10   2300-2399 2017-04-11    17        Theft   \n",
       "3             1  10H10   4600-4699 2017-04-12     9     Burglary   \n",
       "4             1  10H10     100-199 2017-04-12    19        Theft   \n",
       "\n",
       "                                 premise street_name  \n",
       "0                     Residence or House     CLIFTON  \n",
       "1    Restaurant or Cafeteria Parking Lot       CANAL  \n",
       "2    Restaurant or Cafeteria Parking Lot       CANAL  \n",
       "3  Miscellaneous Business (Non-Specific)       CANAL  \n",
       "4          Other, Unknown, or Not Listed        ADAM  "
      ]
     },
     "execution_count": 63,
     "metadata": {},
     "output_type": "execute_result"
    }
   ],
   "source": [
    "df.head()"
   ]
  },
  {
   "cell_type": "code",
   "execution_count": 64,
   "metadata": {},
   "outputs": [],
   "source": [
    "# order that I want\n",
    "cols = ['date','hour','beat','offense_type','block_range','street_name','premise','num_offenses']"
   ]
  },
  {
   "cell_type": "code",
   "execution_count": 65,
   "metadata": {},
   "outputs": [],
   "source": [
    "df = df.reindex(columns=cols)"
   ]
  },
  {
   "cell_type": "code",
   "execution_count": 66,
   "metadata": {},
   "outputs": [
    {
     "name": "stdout",
     "output_type": "stream",
     "text": [
      "<class 'pandas.core.frame.DataFrame'>\n",
      "Int64Index: 119727 entries, 0 to 119726\n",
      "Data columns (total 8 columns):\n",
      "date            119727 non-null datetime64[ns]\n",
      "hour            119727 non-null int64\n",
      "beat            119727 non-null object\n",
      "offense_type    119725 non-null object\n",
      "block_range     119727 non-null object\n",
      "street_name     119718 non-null object\n",
      "premise         119727 non-null object\n",
      "num_offenses    119727 non-null int64\n",
      "dtypes: datetime64[ns](1), int64(2), object(5)\n",
      "memory usage: 8.2+ MB\n"
     ]
    }
   ],
   "source": [
    "df.info()"
   ]
  },
  {
   "cell_type": "code",
   "execution_count": 67,
   "metadata": {},
   "outputs": [
    {
     "data": {
      "text/html": [
       "<div>\n",
       "<style scoped>\n",
       "    .dataframe tbody tr th:only-of-type {\n",
       "        vertical-align: middle;\n",
       "    }\n",
       "\n",
       "    .dataframe tbody tr th {\n",
       "        vertical-align: top;\n",
       "    }\n",
       "\n",
       "    .dataframe thead th {\n",
       "        text-align: right;\n",
       "    }\n",
       "</style>\n",
       "<table border=\"1\" class=\"dataframe\">\n",
       "  <thead>\n",
       "    <tr style=\"text-align: right;\">\n",
       "      <th></th>\n",
       "      <th>date</th>\n",
       "      <th>hour</th>\n",
       "      <th>beat</th>\n",
       "      <th>offense_type</th>\n",
       "      <th>block_range</th>\n",
       "      <th>street_name</th>\n",
       "      <th>premise</th>\n",
       "      <th>num_offenses</th>\n",
       "    </tr>\n",
       "  </thead>\n",
       "  <tbody>\n",
       "    <tr>\n",
       "      <th>0</th>\n",
       "      <td>2017-04-10</td>\n",
       "      <td>15</td>\n",
       "      <td>10H10</td>\n",
       "      <td>Burglary</td>\n",
       "      <td>200-299</td>\n",
       "      <td>CLIFTON</td>\n",
       "      <td>Residence or House</td>\n",
       "      <td>1</td>\n",
       "    </tr>\n",
       "    <tr>\n",
       "      <th>1</th>\n",
       "      <td>2017-04-11</td>\n",
       "      <td>15</td>\n",
       "      <td>10H10</td>\n",
       "      <td>Theft</td>\n",
       "      <td>2300-2399</td>\n",
       "      <td>CANAL</td>\n",
       "      <td>Restaurant or Cafeteria Parking Lot</td>\n",
       "      <td>1</td>\n",
       "    </tr>\n",
       "    <tr>\n",
       "      <th>2</th>\n",
       "      <td>2017-04-11</td>\n",
       "      <td>17</td>\n",
       "      <td>10H10</td>\n",
       "      <td>Theft</td>\n",
       "      <td>2300-2399</td>\n",
       "      <td>CANAL</td>\n",
       "      <td>Restaurant or Cafeteria Parking Lot</td>\n",
       "      <td>1</td>\n",
       "    </tr>\n",
       "    <tr>\n",
       "      <th>3</th>\n",
       "      <td>2017-04-12</td>\n",
       "      <td>9</td>\n",
       "      <td>10H10</td>\n",
       "      <td>Burglary</td>\n",
       "      <td>4600-4699</td>\n",
       "      <td>CANAL</td>\n",
       "      <td>Miscellaneous Business (Non-Specific)</td>\n",
       "      <td>1</td>\n",
       "    </tr>\n",
       "    <tr>\n",
       "      <th>4</th>\n",
       "      <td>2017-04-12</td>\n",
       "      <td>19</td>\n",
       "      <td>10H10</td>\n",
       "      <td>Theft</td>\n",
       "      <td>100-199</td>\n",
       "      <td>ADAM</td>\n",
       "      <td>Other, Unknown, or Not Listed</td>\n",
       "      <td>1</td>\n",
       "    </tr>\n",
       "  </tbody>\n",
       "</table>\n",
       "</div>"
      ],
      "text/plain": [
       "        date  hour   beat offense_type block_range street_name  \\\n",
       "0 2017-04-10    15  10H10     Burglary     200-299     CLIFTON   \n",
       "1 2017-04-11    15  10H10        Theft   2300-2399       CANAL   \n",
       "2 2017-04-11    17  10H10        Theft   2300-2399       CANAL   \n",
       "3 2017-04-12     9  10H10     Burglary   4600-4699       CANAL   \n",
       "4 2017-04-12    19  10H10        Theft     100-199        ADAM   \n",
       "\n",
       "                                 premise  num_offenses  \n",
       "0                     Residence or House             1  \n",
       "1    Restaurant or Cafeteria Parking Lot             1  \n",
       "2    Restaurant or Cafeteria Parking Lot             1  \n",
       "3  Miscellaneous Business (Non-Specific)             1  \n",
       "4          Other, Unknown, or Not Listed             1  "
      ]
     },
     "execution_count": 67,
     "metadata": {},
     "output_type": "execute_result"
    }
   ],
   "source": [
    "df.head()"
   ]
  },
  {
   "cell_type": "markdown",
   "metadata": {},
   "source": [
    "## display null values"
   ]
  },
  {
   "cell_type": "code",
   "execution_count": 68,
   "metadata": {},
   "outputs": [
    {
     "data": {
      "text/plain": [
       "date            0\n",
       "hour            0\n",
       "beat            0\n",
       "offense_type    2\n",
       "block_range     0\n",
       "street_name     9\n",
       "premise         0\n",
       "num_offenses    0\n",
       "dtype: int64"
      ]
     },
     "execution_count": 68,
     "metadata": {},
     "output_type": "execute_result"
    }
   ],
   "source": [
    "df.apply(lambda x: sum(x.isnull()))"
   ]
  },
  {
   "cell_type": "code",
   "execution_count": 69,
   "metadata": {},
   "outputs": [
    {
     "data": {
      "text/html": [
       "<div>\n",
       "<style scoped>\n",
       "    .dataframe tbody tr th:only-of-type {\n",
       "        vertical-align: middle;\n",
       "    }\n",
       "\n",
       "    .dataframe tbody tr th {\n",
       "        vertical-align: top;\n",
       "    }\n",
       "\n",
       "    .dataframe thead th {\n",
       "        text-align: right;\n",
       "    }\n",
       "</style>\n",
       "<table border=\"1\" class=\"dataframe\">\n",
       "  <thead>\n",
       "    <tr style=\"text-align: right;\">\n",
       "      <th></th>\n",
       "      <th>date</th>\n",
       "      <th>hour</th>\n",
       "      <th>beat</th>\n",
       "      <th>offense_type</th>\n",
       "      <th>block_range</th>\n",
       "      <th>street_name</th>\n",
       "      <th>premise</th>\n",
       "      <th>num_offenses</th>\n",
       "    </tr>\n",
       "  </thead>\n",
       "  <tbody>\n",
       "    <tr>\n",
       "      <th>30725</th>\n",
       "      <td>2017-02-19</td>\n",
       "      <td>14</td>\n",
       "      <td>11H10</td>\n",
       "      <td>Aggravated Assault</td>\n",
       "      <td>UNK</td>\n",
       "      <td>NaN</td>\n",
       "      <td>Residence or House</td>\n",
       "      <td>1</td>\n",
       "    </tr>\n",
       "    <tr>\n",
       "      <th>34148</th>\n",
       "      <td>2017-02-03</td>\n",
       "      <td>8</td>\n",
       "      <td>18F60</td>\n",
       "      <td>Theft</td>\n",
       "      <td>UNK</td>\n",
       "      <td>NaN</td>\n",
       "      <td>Hotel or Motel Parking Lot</td>\n",
       "      <td>1</td>\n",
       "    </tr>\n",
       "    <tr>\n",
       "      <th>35775</th>\n",
       "      <td>2017-02-15</td>\n",
       "      <td>23</td>\n",
       "      <td>20G40</td>\n",
       "      <td>NaN</td>\n",
       "      <td>1400-1499</td>\n",
       "      <td>DAIRY ASHFORD</td>\n",
       "      <td>Apartment</td>\n",
       "      <td>1</td>\n",
       "    </tr>\n",
       "    <tr>\n",
       "      <th>36763</th>\n",
       "      <td>2017-02-25</td>\n",
       "      <td>9</td>\n",
       "      <td>2A30</td>\n",
       "      <td>Theft</td>\n",
       "      <td>UNK</td>\n",
       "      <td>NaN</td>\n",
       "      <td>Road, Street, or Sidewalk</td>\n",
       "      <td>1</td>\n",
       "    </tr>\n",
       "    <tr>\n",
       "      <th>36793</th>\n",
       "      <td>2016-12-22</td>\n",
       "      <td>13</td>\n",
       "      <td>2A30</td>\n",
       "      <td>Theft</td>\n",
       "      <td>UNK</td>\n",
       "      <td>NaN</td>\n",
       "      <td>Alley</td>\n",
       "      <td>1</td>\n",
       "    </tr>\n",
       "    <tr>\n",
       "      <th>38357</th>\n",
       "      <td>2016-12-31</td>\n",
       "      <td>1</td>\n",
       "      <td>6B20</td>\n",
       "      <td>NaN</td>\n",
       "      <td>4200-4299</td>\n",
       "      <td>OAK SHADOWS</td>\n",
       "      <td>Residence or House</td>\n",
       "      <td>1</td>\n",
       "    </tr>\n",
       "    <tr>\n",
       "      <th>46888</th>\n",
       "      <td>2017-01-26</td>\n",
       "      <td>13</td>\n",
       "      <td>2A30</td>\n",
       "      <td>Burglary</td>\n",
       "      <td>UNK</td>\n",
       "      <td>NaN</td>\n",
       "      <td>Residence or House</td>\n",
       "      <td>1</td>\n",
       "    </tr>\n",
       "    <tr>\n",
       "      <th>46986</th>\n",
       "      <td>2017-01-16</td>\n",
       "      <td>15</td>\n",
       "      <td>2A30</td>\n",
       "      <td>Theft</td>\n",
       "      <td>UNK</td>\n",
       "      <td>NaN</td>\n",
       "      <td>Residence or House</td>\n",
       "      <td>1</td>\n",
       "    </tr>\n",
       "    <tr>\n",
       "      <th>47008</th>\n",
       "      <td>2017-01-20</td>\n",
       "      <td>22</td>\n",
       "      <td>2A30</td>\n",
       "      <td>Theft</td>\n",
       "      <td>UNK</td>\n",
       "      <td>NaN</td>\n",
       "      <td>Road, Street, or Sidewalk</td>\n",
       "      <td>1</td>\n",
       "    </tr>\n",
       "    <tr>\n",
       "      <th>78016</th>\n",
       "      <td>2017-03-11</td>\n",
       "      <td>0</td>\n",
       "      <td>2A30</td>\n",
       "      <td>Burglary</td>\n",
       "      <td>UNK</td>\n",
       "      <td>NaN</td>\n",
       "      <td>Vacant Single Occ Resd(House,Townhs,Dplex)</td>\n",
       "      <td>1</td>\n",
       "    </tr>\n",
       "  </tbody>\n",
       "</table>\n",
       "</div>"
      ],
      "text/plain": [
       "            date  hour   beat        offense_type block_range    street_name  \\\n",
       "30725 2017-02-19    14  11H10  Aggravated Assault         UNK            NaN   \n",
       "34148 2017-02-03     8  18F60               Theft         UNK            NaN   \n",
       "35775 2017-02-15    23  20G40                 NaN   1400-1499  DAIRY ASHFORD   \n",
       "36763 2017-02-25     9   2A30               Theft         UNK            NaN   \n",
       "36793 2016-12-22    13   2A30               Theft         UNK            NaN   \n",
       "38357 2016-12-31     1   6B20                 NaN   4200-4299    OAK SHADOWS   \n",
       "46888 2017-01-26    13   2A30            Burglary         UNK            NaN   \n",
       "46986 2017-01-16    15   2A30               Theft         UNK            NaN   \n",
       "47008 2017-01-20    22   2A30               Theft         UNK            NaN   \n",
       "78016 2017-03-11     0   2A30            Burglary         UNK            NaN   \n",
       "\n",
       "                                          premise  num_offenses  \n",
       "30725                          Residence or House             1  \n",
       "34148                  Hotel or Motel Parking Lot             1  \n",
       "35775                                   Apartment             1  \n",
       "36763                   Road, Street, or Sidewalk             1  \n",
       "36793                                       Alley             1  \n",
       "38357                          Residence or House             1  \n",
       "46888                          Residence or House             1  \n",
       "46986                          Residence or House             1  \n",
       "47008                   Road, Street, or Sidewalk             1  \n",
       "78016  Vacant Single Occ Resd(House,Townhs,Dplex)             1  "
      ]
     },
     "execution_count": 69,
     "metadata": {},
     "output_type": "execute_result"
    }
   ],
   "source": [
    "df[df.isnull().any(axis=1)][-10:]  # display last 10"
   ]
  },
  {
   "cell_type": "markdown",
   "metadata": {},
   "source": [
    "## Drop null street_name"
   ]
  },
  {
   "cell_type": "code",
   "execution_count": 70,
   "metadata": {},
   "outputs": [],
   "source": [
    "df.dropna(subset=['street_name'],inplace=True)"
   ]
  },
  {
   "cell_type": "code",
   "execution_count": 71,
   "metadata": {},
   "outputs": [
    {
     "data": {
      "text/plain": [
       "date            0\n",
       "hour            0\n",
       "beat            0\n",
       "offense_type    2\n",
       "block_range     0\n",
       "street_name     0\n",
       "premise         0\n",
       "num_offenses    0\n",
       "dtype: int64"
      ]
     },
     "execution_count": 71,
     "metadata": {},
     "output_type": "execute_result"
    }
   ],
   "source": [
    "df.apply(lambda x: sum(x.isnull()))"
   ]
  },
  {
   "cell_type": "markdown",
   "metadata": {},
   "source": [
    "## Investivate offense_type"
   ]
  },
  {
   "cell_type": "code",
   "execution_count": 72,
   "metadata": {},
   "outputs": [],
   "source": [
    "df = df.reset_index(drop=True)"
   ]
  },
  {
   "cell_type": "code",
   "execution_count": 73,
   "metadata": {},
   "outputs": [
    {
     "data": {
      "text/html": [
       "<div>\n",
       "<style scoped>\n",
       "    .dataframe tbody tr th:only-of-type {\n",
       "        vertical-align: middle;\n",
       "    }\n",
       "\n",
       "    .dataframe tbody tr th {\n",
       "        vertical-align: top;\n",
       "    }\n",
       "\n",
       "    .dataframe thead th {\n",
       "        text-align: right;\n",
       "    }\n",
       "</style>\n",
       "<table border=\"1\" class=\"dataframe\">\n",
       "  <thead>\n",
       "    <tr style=\"text-align: right;\">\n",
       "      <th></th>\n",
       "      <th>date</th>\n",
       "      <th>hour</th>\n",
       "      <th>beat</th>\n",
       "      <th>offense_type</th>\n",
       "      <th>block_range</th>\n",
       "      <th>street_name</th>\n",
       "      <th>premise</th>\n",
       "      <th>num_offenses</th>\n",
       "    </tr>\n",
       "  </thead>\n",
       "  <tbody>\n",
       "    <tr>\n",
       "      <th>35772</th>\n",
       "      <td>2017-02-15</td>\n",
       "      <td>23</td>\n",
       "      <td>20G40</td>\n",
       "      <td>NaN</td>\n",
       "      <td>1400-1499</td>\n",
       "      <td>DAIRY ASHFORD</td>\n",
       "      <td>Apartment</td>\n",
       "      <td>1</td>\n",
       "    </tr>\n",
       "    <tr>\n",
       "      <th>38352</th>\n",
       "      <td>2016-12-31</td>\n",
       "      <td>1</td>\n",
       "      <td>6B20</td>\n",
       "      <td>NaN</td>\n",
       "      <td>4200-4299</td>\n",
       "      <td>OAK SHADOWS</td>\n",
       "      <td>Residence or House</td>\n",
       "      <td>1</td>\n",
       "    </tr>\n",
       "  </tbody>\n",
       "</table>\n",
       "</div>"
      ],
      "text/plain": [
       "            date  hour   beat offense_type block_range    street_name  \\\n",
       "35772 2017-02-15    23  20G40          NaN   1400-1499  DAIRY ASHFORD   \n",
       "38352 2016-12-31     1   6B20          NaN   4200-4299    OAK SHADOWS   \n",
       "\n",
       "                  premise  num_offenses  \n",
       "35772           Apartment             1  \n",
       "38352  Residence or House             1  "
      ]
     },
     "execution_count": 73,
     "metadata": {},
     "output_type": "execute_result"
    }
   ],
   "source": [
    "\n",
    "df[df.isnull().any(axis=1)]"
   ]
  },
  {
   "cell_type": "code",
   "execution_count": null,
   "metadata": {},
   "outputs": [],
   "source": []
  },
  {
   "cell_type": "code",
   "execution_count": 74,
   "metadata": {},
   "outputs": [
    {
     "data": {
      "text/plain": [
       "Theft       5\n",
       "Burglary    1\n",
       "Name: offense_type, dtype: int64"
      ]
     },
     "execution_count": 74,
     "metadata": {},
     "output_type": "execute_result"
    }
   ],
   "source": [
    "da = df.street_name =='DAIRY ASHFORD'\n",
    "br = df.block_range == '1400-1499'\n",
    "\n",
    "df[da&br].offense_type.value_counts()"
   ]
  },
  {
   "cell_type": "code",
   "execution_count": 75,
   "metadata": {},
   "outputs": [
    {
     "data": {
      "text/plain": [
       "Robbery               1\n",
       "Aggravated Assault    1\n",
       "Name: offense_type, dtype: int64"
      ]
     },
     "execution_count": 75,
     "metadata": {},
     "output_type": "execute_result"
    }
   ],
   "source": [
    "br = df.block_range == '4200-4299'\n",
    "\n",
    "os = df.street_name =='OAK SHADOWS'\n",
    "df[os&br].offense_type.value_counts()"
   ]
  },
  {
   "cell_type": "code",
   "execution_count": 76,
   "metadata": {},
   "outputs": [
    {
     "data": {
      "text/html": [
       "<div>\n",
       "<style scoped>\n",
       "    .dataframe tbody tr th:only-of-type {\n",
       "        vertical-align: middle;\n",
       "    }\n",
       "\n",
       "    .dataframe tbody tr th {\n",
       "        vertical-align: top;\n",
       "    }\n",
       "\n",
       "    .dataframe thead th {\n",
       "        text-align: right;\n",
       "    }\n",
       "</style>\n",
       "<table border=\"1\" class=\"dataframe\">\n",
       "  <thead>\n",
       "    <tr style=\"text-align: right;\">\n",
       "      <th></th>\n",
       "      <th>date</th>\n",
       "      <th>hour</th>\n",
       "      <th>beat</th>\n",
       "      <th>offense_type</th>\n",
       "      <th>block_range</th>\n",
       "      <th>street_name</th>\n",
       "      <th>premise</th>\n",
       "      <th>num_offenses</th>\n",
       "    </tr>\n",
       "  </thead>\n",
       "  <tbody>\n",
       "    <tr>\n",
       "      <th>38352</th>\n",
       "      <td>2016-12-31</td>\n",
       "      <td>1</td>\n",
       "      <td>6B20</td>\n",
       "      <td>NaN</td>\n",
       "      <td>4200-4299</td>\n",
       "      <td>OAK SHADOWS</td>\n",
       "      <td>Residence or House</td>\n",
       "      <td>1</td>\n",
       "    </tr>\n",
       "    <tr>\n",
       "      <th>52209</th>\n",
       "      <td>2017-07-20</td>\n",
       "      <td>22</td>\n",
       "      <td>14D10</td>\n",
       "      <td>Robbery</td>\n",
       "      <td>4200-4299</td>\n",
       "      <td>OAK SHADOWS</td>\n",
       "      <td>Service or Gas Station</td>\n",
       "      <td>1</td>\n",
       "    </tr>\n",
       "    <tr>\n",
       "      <th>79668</th>\n",
       "      <td>2017-03-09</td>\n",
       "      <td>13</td>\n",
       "      <td>6B20</td>\n",
       "      <td>Aggravated Assault</td>\n",
       "      <td>4200-4299</td>\n",
       "      <td>OAK SHADOWS</td>\n",
       "      <td>Residence or House</td>\n",
       "      <td>1</td>\n",
       "    </tr>\n",
       "  </tbody>\n",
       "</table>\n",
       "</div>"
      ],
      "text/plain": [
       "            date  hour   beat        offense_type block_range  street_name  \\\n",
       "38352 2016-12-31     1   6B20                 NaN   4200-4299  OAK SHADOWS   \n",
       "52209 2017-07-20    22  14D10             Robbery   4200-4299  OAK SHADOWS   \n",
       "79668 2017-03-09    13   6B20  Aggravated Assault   4200-4299  OAK SHADOWS   \n",
       "\n",
       "                      premise  num_offenses  \n",
       "38352      Residence or House             1  \n",
       "52209  Service or Gas Station             1  \n",
       "79668      Residence or House             1  "
      ]
     },
     "execution_count": 76,
     "metadata": {},
     "output_type": "execute_result"
    }
   ],
   "source": [
    "df[os&br]  ## \tAggravated Assault\t"
   ]
  },
  {
   "cell_type": "code",
   "execution_count": 77,
   "metadata": {},
   "outputs": [
    {
     "name": "stdout",
     "output_type": "stream",
     "text": [
      "<class 'pandas.core.frame.DataFrame'>\n",
      "RangeIndex: 119718 entries, 0 to 119717\n",
      "Data columns (total 8 columns):\n",
      "date            119718 non-null datetime64[ns]\n",
      "hour            119718 non-null int64\n",
      "beat            119718 non-null object\n",
      "offense_type    119716 non-null object\n",
      "block_range     119718 non-null object\n",
      "street_name     119718 non-null object\n",
      "premise         119718 non-null object\n",
      "num_offenses    119718 non-null int64\n",
      "dtypes: datetime64[ns](1), int64(2), object(5)\n",
      "memory usage: 7.3+ MB\n"
     ]
    }
   ],
   "source": [
    "df.info()"
   ]
  },
  {
   "cell_type": "code",
   "execution_count": null,
   "metadata": {},
   "outputs": [],
   "source": []
  },
  {
   "cell_type": "code",
   "execution_count": null,
   "metadata": {},
   "outputs": [],
   "source": []
  },
  {
   "cell_type": "code",
   "execution_count": 78,
   "metadata": {},
   "outputs": [
    {
     "data": {
      "text/html": [
       "<div>\n",
       "<style scoped>\n",
       "    .dataframe tbody tr th:only-of-type {\n",
       "        vertical-align: middle;\n",
       "    }\n",
       "\n",
       "    .dataframe tbody tr th {\n",
       "        vertical-align: top;\n",
       "    }\n",
       "\n",
       "    .dataframe thead th {\n",
       "        text-align: right;\n",
       "    }\n",
       "</style>\n",
       "<table border=\"1\" class=\"dataframe\">\n",
       "  <thead>\n",
       "    <tr style=\"text-align: right;\">\n",
       "      <th></th>\n",
       "      <th>date</th>\n",
       "      <th>hour</th>\n",
       "      <th>beat</th>\n",
       "      <th>offense_type</th>\n",
       "      <th>block_range</th>\n",
       "      <th>street_name</th>\n",
       "      <th>premise</th>\n",
       "      <th>num_offenses</th>\n",
       "    </tr>\n",
       "  </thead>\n",
       "  <tbody>\n",
       "    <tr>\n",
       "      <th>35772</th>\n",
       "      <td>2017-02-15</td>\n",
       "      <td>23</td>\n",
       "      <td>20G40</td>\n",
       "      <td>NaN</td>\n",
       "      <td>1400-1499</td>\n",
       "      <td>DAIRY ASHFORD</td>\n",
       "      <td>Apartment</td>\n",
       "      <td>1</td>\n",
       "    </tr>\n",
       "    <tr>\n",
       "      <th>38352</th>\n",
       "      <td>2016-12-31</td>\n",
       "      <td>1</td>\n",
       "      <td>6B20</td>\n",
       "      <td>NaN</td>\n",
       "      <td>4200-4299</td>\n",
       "      <td>OAK SHADOWS</td>\n",
       "      <td>Residence or House</td>\n",
       "      <td>1</td>\n",
       "    </tr>\n",
       "  </tbody>\n",
       "</table>\n",
       "</div>"
      ],
      "text/plain": [
       "            date  hour   beat offense_type block_range    street_name  \\\n",
       "35772 2017-02-15    23  20G40          NaN   1400-1499  DAIRY ASHFORD   \n",
       "38352 2016-12-31     1   6B20          NaN   4200-4299    OAK SHADOWS   \n",
       "\n",
       "                  premise  num_offenses  \n",
       "35772           Apartment             1  \n",
       "38352  Residence or House             1  "
      ]
     },
     "execution_count": 78,
     "metadata": {},
     "output_type": "execute_result"
    }
   ],
   "source": [
    "df[df.isnull().any(axis=1)]"
   ]
  },
  {
   "cell_type": "markdown",
   "metadata": {},
   "source": [
    "## Theft is most popular so replace null with Theft"
   ]
  },
  {
   "cell_type": "code",
   "execution_count": 79,
   "metadata": {},
   "outputs": [],
   "source": [
    "df.iloc[35772, df.columns.get_loc('offense_type')] = 'Theft'"
   ]
  },
  {
   "cell_type": "code",
   "execution_count": 80,
   "metadata": {},
   "outputs": [
    {
     "data": {
      "text/html": [
       "<div>\n",
       "<style scoped>\n",
       "    .dataframe tbody tr th:only-of-type {\n",
       "        vertical-align: middle;\n",
       "    }\n",
       "\n",
       "    .dataframe tbody tr th {\n",
       "        vertical-align: top;\n",
       "    }\n",
       "\n",
       "    .dataframe thead th {\n",
       "        text-align: right;\n",
       "    }\n",
       "</style>\n",
       "<table border=\"1\" class=\"dataframe\">\n",
       "  <thead>\n",
       "    <tr style=\"text-align: right;\">\n",
       "      <th></th>\n",
       "      <th>date</th>\n",
       "      <th>hour</th>\n",
       "      <th>beat</th>\n",
       "      <th>offense_type</th>\n",
       "      <th>block_range</th>\n",
       "      <th>street_name</th>\n",
       "      <th>premise</th>\n",
       "      <th>num_offenses</th>\n",
       "    </tr>\n",
       "  </thead>\n",
       "  <tbody>\n",
       "    <tr>\n",
       "      <th>38352</th>\n",
       "      <td>2016-12-31</td>\n",
       "      <td>1</td>\n",
       "      <td>6B20</td>\n",
       "      <td>NaN</td>\n",
       "      <td>4200-4299</td>\n",
       "      <td>OAK SHADOWS</td>\n",
       "      <td>Residence or House</td>\n",
       "      <td>1</td>\n",
       "    </tr>\n",
       "  </tbody>\n",
       "</table>\n",
       "</div>"
      ],
      "text/plain": [
       "            date  hour  beat offense_type block_range  street_name  \\\n",
       "38352 2016-12-31     1  6B20          NaN   4200-4299  OAK SHADOWS   \n",
       "\n",
       "                  premise  num_offenses  \n",
       "38352  Residence or House             1  "
      ]
     },
     "execution_count": 80,
     "metadata": {},
     "output_type": "execute_result"
    }
   ],
   "source": [
    "df[df.isnull().any(axis=1)]"
   ]
  },
  {
   "cell_type": "code",
   "execution_count": 81,
   "metadata": {},
   "outputs": [],
   "source": [
    "df.iloc[38352, df.columns.get_loc('offense_type')] = 'Aggravated Assault'"
   ]
  },
  {
   "cell_type": "code",
   "execution_count": 82,
   "metadata": {},
   "outputs": [
    {
     "data": {
      "text/html": [
       "<div>\n",
       "<style scoped>\n",
       "    .dataframe tbody tr th:only-of-type {\n",
       "        vertical-align: middle;\n",
       "    }\n",
       "\n",
       "    .dataframe tbody tr th {\n",
       "        vertical-align: top;\n",
       "    }\n",
       "\n",
       "    .dataframe thead th {\n",
       "        text-align: right;\n",
       "    }\n",
       "</style>\n",
       "<table border=\"1\" class=\"dataframe\">\n",
       "  <thead>\n",
       "    <tr style=\"text-align: right;\">\n",
       "      <th></th>\n",
       "      <th>date</th>\n",
       "      <th>hour</th>\n",
       "      <th>beat</th>\n",
       "      <th>offense_type</th>\n",
       "      <th>block_range</th>\n",
       "      <th>street_name</th>\n",
       "      <th>premise</th>\n",
       "      <th>num_offenses</th>\n",
       "    </tr>\n",
       "  </thead>\n",
       "  <tbody>\n",
       "  </tbody>\n",
       "</table>\n",
       "</div>"
      ],
      "text/plain": [
       "Empty DataFrame\n",
       "Columns: [date, hour, beat, offense_type, block_range, street_name, premise, num_offenses]\n",
       "Index: []"
      ]
     },
     "execution_count": 82,
     "metadata": {},
     "output_type": "execute_result"
    }
   ],
   "source": [
    "df[df.isnull().any(axis=1)]"
   ]
  },
  {
   "cell_type": "code",
   "execution_count": null,
   "metadata": {},
   "outputs": [],
   "source": []
  },
  {
   "cell_type": "markdown",
   "metadata": {},
   "source": [
    "## Save clean data"
   ]
  },
  {
   "cell_type": "code",
   "execution_count": 83,
   "metadata": {},
   "outputs": [
    {
     "data": {
      "text/plain": [
       "'../data/clean_data/'"
      ]
     },
     "execution_count": 83,
     "metadata": {},
     "output_type": "execute_result"
    }
   ],
   "source": [
    "data_directory_saves"
   ]
  },
  {
   "cell_type": "code",
   "execution_count": 84,
   "metadata": {},
   "outputs": [],
   "source": [
    "df.to_csv(data_directory_saves+'crime_2017.csv')"
   ]
  },
  {
   "cell_type": "markdown",
   "metadata": {},
   "source": [
    "offense_type as wrong value that neets to  be changed"
   ]
  },
  {
   "cell_type": "code",
   "execution_count": null,
   "metadata": {},
   "outputs": [],
   "source": []
  }
 ],
 "metadata": {
  "kernelspec": {
   "display_name": "Python 3",
   "language": "python",
   "name": "python3"
  },
  "language_info": {
   "codemirror_mode": {
    "name": "ipython",
    "version": 3
   },
   "file_extension": ".py",
   "mimetype": "text/x-python",
   "name": "python",
   "nbconvert_exporter": "python",
   "pygments_lexer": "ipython3",
   "version": "3.6.4"
  }
 },
 "nbformat": 4,
 "nbformat_minor": 2
}
