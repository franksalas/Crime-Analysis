{
 "cells": [
  {
   "cell_type": "markdown",
   "metadata": {},
   "source": [
    "# Problem\n",
    "\n",
    "- data does not contain year\n",
    "- needs cleaning\n",
    "\n",
    "### Solution\n",
    "\n",
    "- Create function that does:\n",
    "    1. create a column for given year\n",
    "    2. create a full_year column that appends date and year column\n",
    "    3. convert full_year column to datetime\n",
    "    4. split result column with two colums given score of each team\n",
    "    5. organize dataframe\n",
    "    6. create winner column based on score of teams\n",
    "    7. set and sort index to full_date column \n",
    "\n",
    "-  dataframes will be loaded one at a time given year"
   ]
  },
  {
   "cell_type": "code",
   "execution_count": 1,
   "metadata": {},
   "outputs": [],
   "source": [
    "import pandas as pd\n",
    "import numpy as np\n",
    "import glob, os\n",
    "import warnings\n",
    "warnings.filterwarnings('ignore')"
   ]
  },
  {
   "cell_type": "code",
   "execution_count": 2,
   "metadata": {},
   "outputs": [
    {
     "name": "stdout",
     "output_type": "stream",
     "text": [
      "\u001b[0m\u001b[01;32mHOU_11_plo.csv\u001b[0m*  \u001b[01;32mHOU_12_plo.csv\u001b[0m*  \u001b[01;32mHOU_13_plo.csv\u001b[0m*  \u001b[01;32mHOU_17_plo.csv\u001b[0m*\r\n"
     ]
    }
   ],
   "source": [
    "ls data/MLS/HOU/plo/"
   ]
  },
  {
   "cell_type": "code",
   "execution_count": 3,
   "metadata": {},
   "outputs": [],
   "source": [
    "plo_11 = 'data/MLS/HOU/plo/HOU_11_plo.csv'\n",
    "plo_12 = 'data/MLS/HOU/plo/HOU_12_plo.csv'\n",
    "plo_13 = 'data/MLS/HOU/plo/HOU_13_plo.csv'\n",
    "plo_17 = 'data/MLS/HOU/plo/HOU_17_plo.csv'"
   ]
  },
  {
   "cell_type": "markdown",
   "metadata": {},
   "source": [
    "## create dataframes per year"
   ]
  },
  {
   "cell_type": "code",
   "execution_count": 4,
   "metadata": {},
   "outputs": [],
   "source": [
    "col = ['day','date','home_team','result','away_team']\n",
    "\n",
    "df11 = pd.read_csv(plo_11, names=col)\n",
    "df12 = pd.read_csv(plo_12, names=col)\n",
    "df13 = pd.read_csv(plo_13, names=col)\n",
    "df17 = pd.read_csv(plo_17, names=col)"
   ]
  },
  {
   "cell_type": "markdown",
   "metadata": {},
   "source": [
    "## Create function\n",
    "- joins dfs"
   ]
  },
  {
   "cell_type": "code",
   "execution_count": 5,
   "metadata": {},
   "outputs": [],
   "source": [
    "df11['full_date'] = df11.date + '/2011'\n",
    "\n",
    "df12['full_date'] = df12.date + '/2012'\n",
    "\n",
    "df13['full_date'] = df13.date + '/2013'\n",
    "\n",
    "df17['full_date'] = df17.date + '/2017'"
   ]
  },
  {
   "cell_type": "code",
   "execution_count": 6,
   "metadata": {},
   "outputs": [],
   "source": [
    "df11['full_date'] =  pd.to_datetime(df11['full_date'])  # convert full_date to datetime\n",
    "df12['full_date'] =  pd.to_datetime(df12['full_date'])  # convert full_date to datetime\n",
    "df13['full_date'] =  pd.to_datetime(df13['full_date'])  # convert full_date to datetime\n",
    "df17['full_date'] =  pd.to_datetime(df17['full_date'])  # convert full_date to datetime"
   ]
  },
  {
   "cell_type": "code",
   "execution_count": null,
   "metadata": {},
   "outputs": [],
   "source": []
  },
  {
   "cell_type": "markdown",
   "metadata": {},
   "source": [
    "## combine df\n",
    "2010 - 2017"
   ]
  },
  {
   "cell_type": "code",
   "execution_count": 7,
   "metadata": {},
   "outputs": [],
   "source": [
    "frames = [df11,df12,df13,df17]\n",
    "dynamo_plo = pd.concat(frames)"
   ]
  },
  {
   "cell_type": "code",
   "execution_count": 8,
   "metadata": {},
   "outputs": [
    {
     "data": {
      "text/html": [
       "<div>\n",
       "<style scoped>\n",
       "    .dataframe tbody tr th:only-of-type {\n",
       "        vertical-align: middle;\n",
       "    }\n",
       "\n",
       "    .dataframe tbody tr th {\n",
       "        vertical-align: top;\n",
       "    }\n",
       "\n",
       "    .dataframe thead th {\n",
       "        text-align: right;\n",
       "    }\n",
       "</style>\n",
       "<table border=\"1\" class=\"dataframe\">\n",
       "  <thead>\n",
       "    <tr style=\"text-align: right;\">\n",
       "      <th></th>\n",
       "      <th>day</th>\n",
       "      <th>date</th>\n",
       "      <th>home_team</th>\n",
       "      <th>result</th>\n",
       "      <th>away_team</th>\n",
       "      <th>full_date</th>\n",
       "    </tr>\n",
       "  </thead>\n",
       "  <tbody>\n",
       "    <tr>\n",
       "      <th>0</th>\n",
       "      <td>Sun</td>\n",
       "      <td>10/30</td>\n",
       "      <td>Philadelphia Union</td>\n",
       "      <td>1-2</td>\n",
       "      <td>Houston Dynamo</td>\n",
       "      <td>2011-10-30</td>\n",
       "    </tr>\n",
       "    <tr>\n",
       "      <th>1</th>\n",
       "      <td>Thu</td>\n",
       "      <td>11/3</td>\n",
       "      <td>Houston Dynamo</td>\n",
       "      <td>1-0</td>\n",
       "      <td>Philadelphia Union</td>\n",
       "      <td>2011-11-03</td>\n",
       "    </tr>\n",
       "    <tr>\n",
       "      <th>2</th>\n",
       "      <td>Sun</td>\n",
       "      <td>11/6</td>\n",
       "      <td>Sporting Kansas City</td>\n",
       "      <td>0-2</td>\n",
       "      <td>Houston Dynamo</td>\n",
       "      <td>2011-11-06</td>\n",
       "    </tr>\n",
       "    <tr>\n",
       "      <th>3</th>\n",
       "      <td>Sun</td>\n",
       "      <td>11/20</td>\n",
       "      <td>Los Angeles Galaxy</td>\n",
       "      <td>1-0</td>\n",
       "      <td>Houston Dynamo</td>\n",
       "      <td>2011-11-20</td>\n",
       "    </tr>\n",
       "    <tr>\n",
       "      <th>0</th>\n",
       "      <td>Wed</td>\n",
       "      <td>10/31</td>\n",
       "      <td>Chicago Fire</td>\n",
       "      <td>1-2</td>\n",
       "      <td>Houston Dynamo</td>\n",
       "      <td>2012-10-31</td>\n",
       "    </tr>\n",
       "  </tbody>\n",
       "</table>\n",
       "</div>"
      ],
      "text/plain": [
       "    day   date               home_team          result           away_team  \\\n",
       "0   Sun  10/30    Philadelphia Union              1-2       Houston Dynamo   \n",
       "1  Thu    11/3         Houston Dynamo             1-0   Philadelphia Union   \n",
       "2   Sun   11/6   Sporting Kansas City              0-2      Houston Dynamo   \n",
       "3   Sun  11/20   Los Angeles Galaxy                1-0      Houston Dynamo   \n",
       "0  Wed   10/31           Chicago Fire             1-2       Houston Dynamo   \n",
       "\n",
       "   full_date  \n",
       "0 2011-10-30  \n",
       "1 2011-11-03  \n",
       "2 2011-11-06  \n",
       "3 2011-11-20  \n",
       "0 2012-10-31  "
      ]
     },
     "execution_count": 8,
     "metadata": {},
     "output_type": "execute_result"
    }
   ],
   "source": [
    "dynamo_plo.head()"
   ]
  },
  {
   "cell_type": "code",
   "execution_count": 9,
   "metadata": {},
   "outputs": [
    {
     "data": {
      "text/plain": [
       "day          0\n",
       "date         0\n",
       "home_team    0\n",
       "result       0\n",
       "away_team    0\n",
       "full_date    0\n",
       "dtype: int64"
      ]
     },
     "execution_count": 9,
     "metadata": {},
     "output_type": "execute_result"
    }
   ],
   "source": [
    "dynamo_plo.apply(lambda x: sum(x.isnull()))"
   ]
  },
  {
   "cell_type": "code",
   "execution_count": 10,
   "metadata": {},
   "outputs": [],
   "source": [
    "dynamo_plo['home_score']= dynamo_plo['result'].str.split('-').apply(lambda x: x[0])  # split score vals\n",
    "dynamo_plo['away_score']= dynamo_plo['result'].str.split('-').apply(lambda x: x[1])  # split score vals"
   ]
  },
  {
   "cell_type": "markdown",
   "metadata": {},
   "source": [
    "## create a season col"
   ]
  },
  {
   "cell_type": "code",
   "execution_count": 11,
   "metadata": {},
   "outputs": [],
   "source": [
    "dynamo_plo['season'] = 'plo'"
   ]
  },
  {
   "cell_type": "code",
   "execution_count": 12,
   "metadata": {},
   "outputs": [
    {
     "data": {
      "text/html": [
       "<div>\n",
       "<style scoped>\n",
       "    .dataframe tbody tr th:only-of-type {\n",
       "        vertical-align: middle;\n",
       "    }\n",
       "\n",
       "    .dataframe tbody tr th {\n",
       "        vertical-align: top;\n",
       "    }\n",
       "\n",
       "    .dataframe thead th {\n",
       "        text-align: right;\n",
       "    }\n",
       "</style>\n",
       "<table border=\"1\" class=\"dataframe\">\n",
       "  <thead>\n",
       "    <tr style=\"text-align: right;\">\n",
       "      <th></th>\n",
       "      <th>day</th>\n",
       "      <th>date</th>\n",
       "      <th>home_team</th>\n",
       "      <th>result</th>\n",
       "      <th>away_team</th>\n",
       "      <th>full_date</th>\n",
       "      <th>home_score</th>\n",
       "      <th>away_score</th>\n",
       "      <th>season</th>\n",
       "    </tr>\n",
       "  </thead>\n",
       "  <tbody>\n",
       "    <tr>\n",
       "      <th>0</th>\n",
       "      <td>Sun</td>\n",
       "      <td>10/30</td>\n",
       "      <td>Philadelphia Union</td>\n",
       "      <td>1-2</td>\n",
       "      <td>Houston Dynamo</td>\n",
       "      <td>2011-10-30</td>\n",
       "      <td>1</td>\n",
       "      <td>2</td>\n",
       "      <td>plo</td>\n",
       "    </tr>\n",
       "    <tr>\n",
       "      <th>1</th>\n",
       "      <td>Thu</td>\n",
       "      <td>11/3</td>\n",
       "      <td>Houston Dynamo</td>\n",
       "      <td>1-0</td>\n",
       "      <td>Philadelphia Union</td>\n",
       "      <td>2011-11-03</td>\n",
       "      <td>1</td>\n",
       "      <td>0</td>\n",
       "      <td>plo</td>\n",
       "    </tr>\n",
       "    <tr>\n",
       "      <th>2</th>\n",
       "      <td>Sun</td>\n",
       "      <td>11/6</td>\n",
       "      <td>Sporting Kansas City</td>\n",
       "      <td>0-2</td>\n",
       "      <td>Houston Dynamo</td>\n",
       "      <td>2011-11-06</td>\n",
       "      <td>0</td>\n",
       "      <td>2</td>\n",
       "      <td>plo</td>\n",
       "    </tr>\n",
       "    <tr>\n",
       "      <th>3</th>\n",
       "      <td>Sun</td>\n",
       "      <td>11/20</td>\n",
       "      <td>Los Angeles Galaxy</td>\n",
       "      <td>1-0</td>\n",
       "      <td>Houston Dynamo</td>\n",
       "      <td>2011-11-20</td>\n",
       "      <td>1</td>\n",
       "      <td>0</td>\n",
       "      <td>plo</td>\n",
       "    </tr>\n",
       "    <tr>\n",
       "      <th>0</th>\n",
       "      <td>Wed</td>\n",
       "      <td>10/31</td>\n",
       "      <td>Chicago Fire</td>\n",
       "      <td>1-2</td>\n",
       "      <td>Houston Dynamo</td>\n",
       "      <td>2012-10-31</td>\n",
       "      <td>1</td>\n",
       "      <td>2</td>\n",
       "      <td>plo</td>\n",
       "    </tr>\n",
       "  </tbody>\n",
       "</table>\n",
       "</div>"
      ],
      "text/plain": [
       "    day   date               home_team          result           away_team  \\\n",
       "0   Sun  10/30    Philadelphia Union              1-2       Houston Dynamo   \n",
       "1  Thu    11/3         Houston Dynamo             1-0   Philadelphia Union   \n",
       "2   Sun   11/6   Sporting Kansas City              0-2      Houston Dynamo   \n",
       "3   Sun  11/20   Los Angeles Galaxy                1-0      Houston Dynamo   \n",
       "0  Wed   10/31           Chicago Fire             1-2       Houston Dynamo   \n",
       "\n",
       "   full_date   home_score away_score season  \n",
       "0 2011-10-30            1         2     plo  \n",
       "1 2011-11-03            1         0     plo  \n",
       "2 2011-11-06            0          2    plo  \n",
       "3 2011-11-20            1          0    plo  \n",
       "0 2012-10-31            1         2     plo  "
      ]
     },
     "execution_count": 12,
     "metadata": {},
     "output_type": "execute_result"
    }
   ],
   "source": [
    "dynamo_plo.head()"
   ]
  },
  {
   "cell_type": "code",
   "execution_count": 13,
   "metadata": {},
   "outputs": [
    {
     "name": "stdout",
     "output_type": "stream",
     "text": [
      "['day', 'date', 'home_team', 'result', 'away_team', 'full_date', 'home_score', 'away_score', 'season']\n"
     ]
    }
   ],
   "source": [
    "print(list(dynamo_plo.columns))"
   ]
  },
  {
   "cell_type": "code",
   "execution_count": 14,
   "metadata": {},
   "outputs": [],
   "source": [
    "dynamo_plo =dynamo_plo[[ 'full_date','home_team','home_score','away_team', 'away_score', 'season']]"
   ]
  },
  {
   "cell_type": "code",
   "execution_count": 15,
   "metadata": {},
   "outputs": [],
   "source": [
    "dynamo_plo = dynamo_plo.set_index('full_date').sort_index(ascending=True)  # set full_date as index"
   ]
  },
  {
   "cell_type": "code",
   "execution_count": 16,
   "metadata": {},
   "outputs": [
    {
     "data": {
      "text/html": [
       "<div>\n",
       "<style scoped>\n",
       "    .dataframe tbody tr th:only-of-type {\n",
       "        vertical-align: middle;\n",
       "    }\n",
       "\n",
       "    .dataframe tbody tr th {\n",
       "        vertical-align: top;\n",
       "    }\n",
       "\n",
       "    .dataframe thead th {\n",
       "        text-align: right;\n",
       "    }\n",
       "</style>\n",
       "<table border=\"1\" class=\"dataframe\">\n",
       "  <thead>\n",
       "    <tr style=\"text-align: right;\">\n",
       "      <th></th>\n",
       "      <th>home_team</th>\n",
       "      <th>home_score</th>\n",
       "      <th>away_team</th>\n",
       "      <th>away_score</th>\n",
       "      <th>season</th>\n",
       "    </tr>\n",
       "    <tr>\n",
       "      <th>full_date</th>\n",
       "      <th></th>\n",
       "      <th></th>\n",
       "      <th></th>\n",
       "      <th></th>\n",
       "      <th></th>\n",
       "    </tr>\n",
       "  </thead>\n",
       "  <tbody>\n",
       "    <tr>\n",
       "      <th>2011-10-30</th>\n",
       "      <td>Philadelphia Union</td>\n",
       "      <td>1</td>\n",
       "      <td>Houston Dynamo</td>\n",
       "      <td>2</td>\n",
       "      <td>plo</td>\n",
       "    </tr>\n",
       "    <tr>\n",
       "      <th>2011-11-03</th>\n",
       "      <td>Houston Dynamo</td>\n",
       "      <td>1</td>\n",
       "      <td>Philadelphia Union</td>\n",
       "      <td>0</td>\n",
       "      <td>plo</td>\n",
       "    </tr>\n",
       "    <tr>\n",
       "      <th>2011-11-06</th>\n",
       "      <td>Sporting Kansas City</td>\n",
       "      <td>0</td>\n",
       "      <td>Houston Dynamo</td>\n",
       "      <td>2</td>\n",
       "      <td>plo</td>\n",
       "    </tr>\n",
       "    <tr>\n",
       "      <th>2011-11-20</th>\n",
       "      <td>Los Angeles Galaxy</td>\n",
       "      <td>1</td>\n",
       "      <td>Houston Dynamo</td>\n",
       "      <td>0</td>\n",
       "      <td>plo</td>\n",
       "    </tr>\n",
       "    <tr>\n",
       "      <th>2012-10-31</th>\n",
       "      <td>Chicago Fire</td>\n",
       "      <td>1</td>\n",
       "      <td>Houston Dynamo</td>\n",
       "      <td>2</td>\n",
       "      <td>plo</td>\n",
       "    </tr>\n",
       "  </tbody>\n",
       "</table>\n",
       "</div>"
      ],
      "text/plain": [
       "                         home_team   home_score           away_team  \\\n",
       "full_date                                                             \n",
       "2011-10-30    Philadelphia Union              1      Houston Dynamo   \n",
       "2011-11-03         Houston Dynamo             1  Philadelphia Union   \n",
       "2011-11-06   Sporting Kansas City             0      Houston Dynamo   \n",
       "2011-11-20   Los Angeles Galaxy               1      Houston Dynamo   \n",
       "2012-10-31           Chicago Fire             1      Houston Dynamo   \n",
       "\n",
       "           away_score season  \n",
       "full_date                     \n",
       "2011-10-30         2     plo  \n",
       "2011-11-03         0     plo  \n",
       "2011-11-06          2    plo  \n",
       "2011-11-20          0    plo  \n",
       "2012-10-31         2     plo  "
      ]
     },
     "execution_count": 16,
     "metadata": {},
     "output_type": "execute_result"
    }
   ],
   "source": [
    "dynamo_plo.head()"
   ]
  },
  {
   "cell_type": "code",
   "execution_count": 21,
   "metadata": {},
   "outputs": [
    {
     "data": {
      "text/plain": [
       "16"
      ]
     },
     "execution_count": 21,
     "metadata": {},
     "output_type": "execute_result"
    }
   ],
   "source": [
    "len(dynamo_plo.home_team.unique())"
   ]
  },
  {
   "cell_type": "code",
   "execution_count": 22,
   "metadata": {},
   "outputs": [
    {
     "data": {
      "text/plain": [
       "array([' Philadelphia Union  ', 'Houston Dynamo ',\n",
       "       'Sporting Kansas City ', ' Los Angeles Galaxy   ', 'Chicago Fire ',\n",
       "       'Houston Dynamo   ', 'Sporting Kansas City  ', 'Houston Dynamo  ',\n",
       "       'Washington D.C. United    ', ' Los Angeles Galaxy          ',\n",
       "       ' Houston Dynamo   ', 'Houston Dynamo       ',\n",
       "       ' New York Red Bull', 'Sporting Kansas City     ',\n",
       "       'Portland Tumbers', 'Seattle'], dtype=object)"
      ]
     },
     "execution_count": 22,
     "metadata": {},
     "output_type": "execute_result"
    }
   ],
   "source": [
    "dynamo_plo.home_team.unique()"
   ]
  },
  {
   "cell_type": "code",
   "execution_count": 26,
   "metadata": {},
   "outputs": [
    {
     "data": {
      "text/plain": [
       "9"
      ]
     },
     "execution_count": 26,
     "metadata": {},
     "output_type": "execute_result"
    }
   ],
   "source": [
    "dynamo_plo.home_team = dynamo_plo.home_team.str.strip()\n",
    "len(dynamo_plo.home_team.unique())"
   ]
  },
  {
   "cell_type": "code",
   "execution_count": 27,
   "metadata": {},
   "outputs": [
    {
     "data": {
      "text/plain": [
       "array(['Philadelphia Union', 'Houston Dynamo', 'Sporting Kansas City',\n",
       "       'Los Angeles Galaxy', 'Chicago Fire', 'Washington D.C. United',\n",
       "       'New York Red Bull', 'Portland Tumbers', 'Seattle'], dtype=object)"
      ]
     },
     "execution_count": 27,
     "metadata": {},
     "output_type": "execute_result"
    }
   ],
   "source": [
    "dynamo_plo.home_team.unique()"
   ]
  },
  {
   "cell_type": "code",
   "execution_count": 28,
   "metadata": {},
   "outputs": [
    {
     "data": {
      "text/plain": [
       "11"
      ]
     },
     "execution_count": 28,
     "metadata": {},
     "output_type": "execute_result"
    }
   ],
   "source": [
    "len(dynamo_plo.away_team.unique())"
   ]
  },
  {
   "cell_type": "code",
   "execution_count": 29,
   "metadata": {},
   "outputs": [
    {
     "data": {
      "text/plain": [
       "array(['Houston Dynamo', 'Philadelphia Union', ' Houston Dynamo',\n",
       "       'Sporting Kansas City', ' Washington D.C. United',\n",
       "       'Montreal Impact', 'New York Red Bulls', 'Kansas City',\n",
       "       'Portland Tumbers', 'Houston Dynamo ', 'Seattle'], dtype=object)"
      ]
     },
     "execution_count": 29,
     "metadata": {},
     "output_type": "execute_result"
    }
   ],
   "source": [
    "dynamo_plo.away_team.unique()"
   ]
  },
  {
   "cell_type": "code",
   "execution_count": 30,
   "metadata": {},
   "outputs": [
    {
     "data": {
      "text/plain": [
       "9"
      ]
     },
     "execution_count": 30,
     "metadata": {},
     "output_type": "execute_result"
    }
   ],
   "source": [
    "dynamo_plo.away_team = dynamo_plo.away_team.str.strip()\n",
    "len(dynamo_plo.away_team.unique())"
   ]
  },
  {
   "cell_type": "code",
   "execution_count": 31,
   "metadata": {},
   "outputs": [
    {
     "data": {
      "text/plain": [
       "array(['Houston Dynamo', 'Philadelphia Union', 'Sporting Kansas City',\n",
       "       'Washington D.C. United', 'Montreal Impact', 'New York Red Bulls',\n",
       "       'Kansas City', 'Portland Tumbers', 'Seattle'], dtype=object)"
      ]
     },
     "execution_count": 31,
     "metadata": {},
     "output_type": "execute_result"
    }
   ],
   "source": [
    "dynamo_plo.away_team.unique()"
   ]
  },
  {
   "cell_type": "code",
   "execution_count": null,
   "metadata": {},
   "outputs": [],
   "source": []
  },
  {
   "cell_type": "code",
   "execution_count": null,
   "metadata": {},
   "outputs": [],
   "source": []
  },
  {
   "cell_type": "markdown",
   "metadata": {},
   "source": [
    "## Save"
   ]
  },
  {
   "cell_type": "code",
   "execution_count": 32,
   "metadata": {},
   "outputs": [],
   "source": [
    "dynamo_plo.to_csv('data/clean/dynamo_plo.csv')"
   ]
  },
  {
   "cell_type": "code",
   "execution_count": 37,
   "metadata": {},
   "outputs": [
    {
     "name": "stdout",
     "output_type": "stream",
     "text": [
      "\u001b[0m\u001b[01;32mastros_clean.csv\u001b[0m*      \u001b[01;32mastros_clean_reg.csv\u001b[0m*  \u001b[01;32mdynamo_reg.csv\u001b[0m*  \u001b[01;32mUH_clean.csv\u001b[0m*\r\n",
      "\u001b[01;32mastros_clean_plo.csv\u001b[0m*  \u001b[01;32mdynamo_plo.csv\u001b[0m*        \u001b[01;32mRice_clean.csv\u001b[0m*\r\n"
     ]
    }
   ],
   "source": [
    "ls data/clean"
   ]
  },
  {
   "cell_type": "markdown",
   "metadata": {},
   "source": [
    "## Join plo and reg season"
   ]
  },
  {
   "cell_type": "code",
   "execution_count": 38,
   "metadata": {},
   "outputs": [],
   "source": [
    "path ='data/clean/dynamo_reg.csv'"
   ]
  },
  {
   "cell_type": "code",
   "execution_count": 39,
   "metadata": {},
   "outputs": [
    {
     "data": {
      "text/html": [
       "<div>\n",
       "<style scoped>\n",
       "    .dataframe tbody tr th:only-of-type {\n",
       "        vertical-align: middle;\n",
       "    }\n",
       "\n",
       "    .dataframe tbody tr th {\n",
       "        vertical-align: top;\n",
       "    }\n",
       "\n",
       "    .dataframe thead th {\n",
       "        text-align: right;\n",
       "    }\n",
       "</style>\n",
       "<table border=\"1\" class=\"dataframe\">\n",
       "  <thead>\n",
       "    <tr style=\"text-align: right;\">\n",
       "      <th></th>\n",
       "      <th>home_team</th>\n",
       "      <th>home_score</th>\n",
       "      <th>away_team</th>\n",
       "      <th>away_score</th>\n",
       "      <th>winner</th>\n",
       "      <th>season</th>\n",
       "    </tr>\n",
       "    <tr>\n",
       "      <th>full_date</th>\n",
       "      <th></th>\n",
       "      <th></th>\n",
       "      <th></th>\n",
       "      <th></th>\n",
       "      <th></th>\n",
       "      <th></th>\n",
       "    </tr>\n",
       "  </thead>\n",
       "  <tbody>\n",
       "    <tr>\n",
       "      <th>2010-03-27</th>\n",
       "      <td>FC Dallas</td>\n",
       "      <td>1</td>\n",
       "      <td>HOU</td>\n",
       "      <td>1</td>\n",
       "      <td>HOU</td>\n",
       "      <td>reg</td>\n",
       "    </tr>\n",
       "    <tr>\n",
       "      <th>2010-04-01</th>\n",
       "      <td>Houston Dynamo</td>\n",
       "      <td>2</td>\n",
       "      <td>Real Salt Lake</td>\n",
       "      <td>1</td>\n",
       "      <td>HOU</td>\n",
       "      <td>reg</td>\n",
       "    </tr>\n",
       "    <tr>\n",
       "      <th>2010-04-10</th>\n",
       "      <td>Houston Dynamo</td>\n",
       "      <td>0</td>\n",
       "      <td>LA Galaxy</td>\n",
       "      <td>2</td>\n",
       "      <td>LA Galaxy</td>\n",
       "      <td>reg</td>\n",
       "    </tr>\n",
       "    <tr>\n",
       "      <th>2010-04-17</th>\n",
       "      <td>Houston Dynamo</td>\n",
       "      <td>3</td>\n",
       "      <td>Chivas USA</td>\n",
       "      <td>0</td>\n",
       "      <td>HOU</td>\n",
       "      <td>reg</td>\n",
       "    </tr>\n",
       "    <tr>\n",
       "      <th>2010-04-24</th>\n",
       "      <td>Chicago</td>\n",
       "      <td>2</td>\n",
       "      <td>HOU</td>\n",
       "      <td>0</td>\n",
       "      <td>Chicago</td>\n",
       "      <td>reg</td>\n",
       "    </tr>\n",
       "  </tbody>\n",
       "</table>\n",
       "</div>"
      ],
      "text/plain": [
       "                 home_team  home_score       away_team  away_score     winner  \\\n",
       "full_date                                                                       \n",
       "2010-03-27       FC Dallas           1             HOU           1        HOU   \n",
       "2010-04-01  Houston Dynamo           2  Real Salt Lake           1        HOU   \n",
       "2010-04-10  Houston Dynamo           0       LA Galaxy           2  LA Galaxy   \n",
       "2010-04-17  Houston Dynamo           3      Chivas USA           0        HOU   \n",
       "2010-04-24         Chicago           2             HOU           0    Chicago   \n",
       "\n",
       "           season  \n",
       "full_date          \n",
       "2010-03-27    reg  \n",
       "2010-04-01    reg  \n",
       "2010-04-10    reg  \n",
       "2010-04-17    reg  \n",
       "2010-04-24    reg  "
      ]
     },
     "execution_count": 39,
     "metadata": {},
     "output_type": "execute_result"
    }
   ],
   "source": [
    "dynamo_reg = pd.read_csv(path,index_col='full_date')\n",
    "dynamo_reg.head()"
   ]
  },
  {
   "cell_type": "code",
   "execution_count": 42,
   "metadata": {},
   "outputs": [
    {
     "ename": "NameError",
     "evalue": "name 'dynamo_regdynamo_plo' is not defined",
     "output_type": "error",
     "traceback": [
      "\u001b[0;31m---------------------------------------------------------------------------\u001b[0m",
      "\u001b[0;31mNameError\u001b[0m                                 Traceback (most recent call last)",
      "\u001b[0;32m<ipython-input-42-06a6845720b5>\u001b[0m in \u001b[0;36m<module>\u001b[0;34m()\u001b[0m\n\u001b[0;32m----> 1\u001b[0;31m \u001b[0mframes\u001b[0m \u001b[0;34m=\u001b[0m \u001b[0;34m[\u001b[0m\u001b[0mdynamo_regdynamo_plo\u001b[0m\u001b[0;34m]\u001b[0m\u001b[0;34m\u001b[0m\u001b[0m\n\u001b[0m\u001b[1;32m      2\u001b[0m \u001b[0;34m\u001b[0m\u001b[0m\n\u001b[1;32m      3\u001b[0m \u001b[0mdynamo\u001b[0m \u001b[0;34m=\u001b[0m \u001b[0mpd\u001b[0m\u001b[0;34m.\u001b[0m\u001b[0mconcat\u001b[0m\u001b[0;34m(\u001b[0m\u001b[0mframes\u001b[0m\u001b[0;34m)\u001b[0m\u001b[0;34m\u001b[0m\u001b[0m\n",
      "\u001b[0;31mNameError\u001b[0m: name 'dynamo_regdynamo_plo' is not defined"
     ]
    }
   ],
   "source": [
    "frames = [dynamo_regdynamo_plo]\n",
    "\n",
    "dynamo = pd.concat(frames)"
   ]
  },
  {
   "cell_type": "code",
   "execution_count": 50,
   "metadata": {},
   "outputs": [],
   "source": [
    "\n",
    "dynamo.to_csv('data/clean/dynamo_clean.csv')"
   ]
  },
  {
   "cell_type": "code",
   "execution_count": 51,
   "metadata": {},
   "outputs": [
    {
     "data": {
      "text/html": [
       "<div>\n",
       "<style scoped>\n",
       "    .dataframe tbody tr th:only-of-type {\n",
       "        vertical-align: middle;\n",
       "    }\n",
       "\n",
       "    .dataframe tbody tr th {\n",
       "        vertical-align: top;\n",
       "    }\n",
       "\n",
       "    .dataframe thead th {\n",
       "        text-align: right;\n",
       "    }\n",
       "</style>\n",
       "<table border=\"1\" class=\"dataframe\">\n",
       "  <thead>\n",
       "    <tr style=\"text-align: right;\">\n",
       "      <th></th>\n",
       "      <th>away_score</th>\n",
       "      <th>away_team</th>\n",
       "      <th>home_score</th>\n",
       "      <th>home_team</th>\n",
       "      <th>season</th>\n",
       "      <th>winner</th>\n",
       "    </tr>\n",
       "    <tr>\n",
       "      <th>full_date</th>\n",
       "      <th></th>\n",
       "      <th></th>\n",
       "      <th></th>\n",
       "      <th></th>\n",
       "      <th></th>\n",
       "      <th></th>\n",
       "    </tr>\n",
       "  </thead>\n",
       "  <tbody>\n",
       "    <tr>\n",
       "      <th>2011-10-30 00:00:00</th>\n",
       "      <td>2</td>\n",
       "      <td>Houston Dynamo</td>\n",
       "      <td>1</td>\n",
       "      <td>Philadelphia Union</td>\n",
       "      <td>plo</td>\n",
       "      <td>NaN</td>\n",
       "    </tr>\n",
       "    <tr>\n",
       "      <th>2011-11-03 00:00:00</th>\n",
       "      <td>0</td>\n",
       "      <td>Philadelphia Union</td>\n",
       "      <td>1</td>\n",
       "      <td>Houston Dynamo</td>\n",
       "      <td>plo</td>\n",
       "      <td>NaN</td>\n",
       "    </tr>\n",
       "    <tr>\n",
       "      <th>2011-11-06 00:00:00</th>\n",
       "      <td>2</td>\n",
       "      <td>Houston Dynamo</td>\n",
       "      <td>0</td>\n",
       "      <td>Sporting Kansas City</td>\n",
       "      <td>plo</td>\n",
       "      <td>NaN</td>\n",
       "    </tr>\n",
       "    <tr>\n",
       "      <th>2011-11-20 00:00:00</th>\n",
       "      <td>0</td>\n",
       "      <td>Houston Dynamo</td>\n",
       "      <td>1</td>\n",
       "      <td>Los Angeles Galaxy</td>\n",
       "      <td>plo</td>\n",
       "      <td>NaN</td>\n",
       "    </tr>\n",
       "    <tr>\n",
       "      <th>2012-10-31 00:00:00</th>\n",
       "      <td>2</td>\n",
       "      <td>Houston Dynamo</td>\n",
       "      <td>1</td>\n",
       "      <td>Chicago Fire</td>\n",
       "      <td>plo</td>\n",
       "      <td>NaN</td>\n",
       "    </tr>\n",
       "  </tbody>\n",
       "</table>\n",
       "</div>"
      ],
      "text/plain": [
       "                    away_score           away_team   home_score  \\\n",
       "full_date                                                         \n",
       "2011-10-30 00:00:00         2       Houston Dynamo            1   \n",
       "2011-11-03 00:00:00         0   Philadelphia Union            1   \n",
       "2011-11-06 00:00:00          2      Houston Dynamo            0   \n",
       "2011-11-20 00:00:00          0      Houston Dynamo            1   \n",
       "2012-10-31 00:00:00         2       Houston Dynamo            1   \n",
       "\n",
       "                                home_team season winner  \n",
       "full_date                                                \n",
       "2011-10-30 00:00:00    Philadelphia Union    plo    NaN  \n",
       "2011-11-03 00:00:00        Houston Dynamo    plo    NaN  \n",
       "2011-11-06 00:00:00  Sporting Kansas City    plo    NaN  \n",
       "2011-11-20 00:00:00    Los Angeles Galaxy    plo    NaN  \n",
       "2012-10-31 00:00:00          Chicago Fire    plo    NaN  "
      ]
     },
     "execution_count": 51,
     "metadata": {},
     "output_type": "execute_result"
    }
   ],
   "source": [
    "dynamo.head()"
   ]
  },
  {
   "cell_type": "code",
   "execution_count": 53,
   "metadata": {},
   "outputs": [
    {
     "name": "stdout",
     "output_type": "stream",
     "text": [
      "\u001b[0m\u001b[01;32mastros_clean.csv\u001b[0m*      \u001b[01;32mastros_clean_reg.csv\u001b[0m*  \u001b[01;32mdynamo_plo.csv\u001b[0m*  \u001b[01;32mRice_clean.csv\u001b[0m*\r\n",
      "\u001b[01;32mastros_clean_plo.csv\u001b[0m*  \u001b[01;32mdynamo_clean.csv\u001b[0m*      \u001b[01;32mdynamo_reg.csv\u001b[0m*  \u001b[01;32mUH_clean.csv\u001b[0m*\r\n"
     ]
    }
   ],
   "source": [
    "ls data/clean"
   ]
  },
  {
   "cell_type": "code",
   "execution_count": null,
   "metadata": {},
   "outputs": [],
   "source": []
  }
 ],
 "metadata": {
  "kernelspec": {
   "display_name": "Python 3",
   "language": "python",
   "name": "python3"
  },
  "language_info": {
   "codemirror_mode": {
    "name": "ipython",
    "version": 3
   },
   "file_extension": ".py",
   "mimetype": "text/x-python",
   "name": "python",
   "nbconvert_exporter": "python",
   "pygments_lexer": "ipython3",
   "version": "3.6.4"
  }
 },
 "nbformat": 4,
 "nbformat_minor": 2
}
