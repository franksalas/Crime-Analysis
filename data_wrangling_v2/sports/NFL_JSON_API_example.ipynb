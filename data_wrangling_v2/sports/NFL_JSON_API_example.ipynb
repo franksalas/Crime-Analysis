{
 "cells": [
  {
   "cell_type": "code",
   "execution_count": 13,
   "metadata": {},
   "outputs": [],
   "source": [
    "import pandas as pd\n",
    "import json\n",
    "from pandas.io.json import json_normalize\n",
    "import numpy as np\n",
    "from pprint import pprint\n",
    "import requests\n",
    "import time\n",
    "key = '5h567tf39qwsksfp9uxakxfc'"
   ]
  },
  {
   "cell_type": "markdown",
   "metadata": {},
   "source": [
    "## Source\n",
    "\n",
    "### https://developer.sportradar.com/\n",
    "\n",
    "- nfl api\n"
   ]
  },
  {
   "cell_type": "markdown",
   "metadata": {},
   "source": [
    "## working with json results\n",
    "\n",
    "\n",
    "- Create a function that inputs:\n",
    "    - year \n",
    "    - season(pre,regular,post)\n",
    "    - api key\n",
    "\n",
    "- output:\n",
    "    - json result"
   ]
  },
  {
   "cell_type": "code",
   "execution_count": 11,
   "metadata": {},
   "outputs": [],
   "source": [
    "\n",
    "def nfl_schedule(year,season,key):\n",
    "    '''returns json result from api call'''\n",
    "    URL = 'https://api.sportradar.us/nfl-ot2/games/'\n",
    "    path = '{}/{}/schedule.json'.format(year,season)\n",
    "    payload = {'api_key':key}\n",
    "    r = requests.get(URL+path,params=payload)\n",
    "    return r.json()"
   ]
  },
  {
   "cell_type": "markdown",
   "metadata": {},
   "source": [
    "## Test function\n",
    "\n",
    "- get data from 2012 regular season"
   ]
  },
  {
   "cell_type": "code",
   "execution_count": 22,
   "metadata": {},
   "outputs": [],
   "source": [
    "nfl12 = nfl_schedule('2012','REG',key)"
   ]
  },
  {
   "cell_type": "code",
   "execution_count": 23,
   "metadata": {},
   "outputs": [
    {
     "data": {
      "text/plain": [
       "dict_keys(['id', 'year', 'type', 'name', 'weeks', '_comment'])"
      ]
     },
     "execution_count": 23,
     "metadata": {},
     "output_type": "execute_result"
    }
   ],
   "source": [
    "nfl12.keys()"
   ]
  },
  {
   "cell_type": "markdown",
   "metadata": {},
   "source": [
    "## `nfl12`\n",
    "|key  | value  |description|\n",
    "|:---|---|---|\n",
    "|id   |'1adca71b-202f.'|id for 2012 season  |\n",
    "|year   | 2012  |duh |\n",
    "|type   |'REG'   |$duh^2$ |\n",
    "|name   | 'REG'  |donno. |\n",
    "|weeks   | list  |list of every week data |\n",
    "|_comment|'Generation started @..'| # when the api call was ran|"
   ]
  },
  {
   "cell_type": "code",
   "execution_count": 68,
   "metadata": {},
   "outputs": [
    {
     "data": {
      "text/plain": [
       "'1adca71b-202f-44d5-9fab-abd45d813954'"
      ]
     },
     "execution_count": 68,
     "metadata": {},
     "output_type": "execute_result"
    }
   ],
   "source": [
    "nfl12['id']"
   ]
  },
  {
   "cell_type": "code",
   "execution_count": 69,
   "metadata": {},
   "outputs": [
    {
     "data": {
      "text/plain": [
       "2012"
      ]
     },
     "execution_count": 69,
     "metadata": {},
     "output_type": "execute_result"
    }
   ],
   "source": [
    "nfl12['year']"
   ]
  },
  {
   "cell_type": "code",
   "execution_count": 70,
   "metadata": {},
   "outputs": [
    {
     "data": {
      "text/plain": [
       "'REG'"
      ]
     },
     "execution_count": 70,
     "metadata": {},
     "output_type": "execute_result"
    }
   ],
   "source": [
    "nfl12['type']"
   ]
  },
  {
   "cell_type": "code",
   "execution_count": 71,
   "metadata": {},
   "outputs": [
    {
     "data": {
      "text/plain": [
       "'REG'"
      ]
     },
     "execution_count": 71,
     "metadata": {},
     "output_type": "execute_result"
    }
   ],
   "source": [
    "nfl12['name']"
   ]
  },
  {
   "cell_type": "code",
   "execution_count": 74,
   "metadata": {},
   "outputs": [
    {
     "data": {
      "text/plain": [
       "17"
      ]
     },
     "execution_count": 74,
     "metadata": {},
     "output_type": "execute_result"
    }
   ],
   "source": [
    "len(nfl12['weeks']) # list of week data"
   ]
  },
  {
   "cell_type": "code",
   "execution_count": 72,
   "metadata": {},
   "outputs": [
    {
     "data": {
      "text/plain": [
       "'Generation started @ 2018-04-05 03:33:01 +0000 ended @ 2018-04-05 03:33:01 +0000'"
      ]
     },
     "execution_count": 72,
     "metadata": {},
     "output_type": "execute_result"
    }
   ],
   "source": [
    "nfl12['_comment']"
   ]
  },
  {
   "cell_type": "code",
   "execution_count": 75,
   "metadata": {},
   "outputs": [
    {
     "data": {
      "text/plain": [
       "dict_keys(['id', 'sequence', 'title', 'games'])"
      ]
     },
     "execution_count": 75,
     "metadata": {},
     "output_type": "execute_result"
    }
   ],
   "source": [
    "nfl12['weeks'][0].keys()"
   ]
  },
  {
   "cell_type": "markdown",
   "metadata": {},
   "source": [
    "\n",
    "# First week keys\n",
    "## `nfl12['weeks'][0]`\n",
    "\n",
    "|key  |value  |description  |\n",
    "|---|---|---|\n",
    "|id  | '2c3721af..'|first week value  |\n",
    "|sequence  | 1 |?? first week?  |\n",
    "|title  |1  |same?  |\n",
    "|games  | list |list of games given the week  |"
   ]
  },
  {
   "cell_type": "code",
   "execution_count": 54,
   "metadata": {},
   "outputs": [
    {
     "data": {
      "text/plain": [
       "'2c3721ac-828a-4ed5-b6be-02b038e7be6f'"
      ]
     },
     "execution_count": 54,
     "metadata": {},
     "output_type": "execute_result"
    }
   ],
   "source": [
    "nfl12['weeks'][0]['id']"
   ]
  },
  {
   "cell_type": "code",
   "execution_count": 55,
   "metadata": {},
   "outputs": [
    {
     "data": {
      "text/plain": [
       "1"
      ]
     },
     "execution_count": 55,
     "metadata": {},
     "output_type": "execute_result"
    }
   ],
   "source": [
    "nfl12['weeks'][0]['sequence']"
   ]
  },
  {
   "cell_type": "code",
   "execution_count": 56,
   "metadata": {},
   "outputs": [
    {
     "data": {
      "text/plain": [
       "'1'"
      ]
     },
     "execution_count": 56,
     "metadata": {},
     "output_type": "execute_result"
    }
   ],
   "source": [
    "nfl12['weeks'][0]['title']"
   ]
  },
  {
   "cell_type": "code",
   "execution_count": 28,
   "metadata": {},
   "outputs": [
    {
     "data": {
      "text/plain": [
       "16"
      ]
     },
     "execution_count": 28,
     "metadata": {},
     "output_type": "execute_result"
    }
   ],
   "source": [
    "len(nfl12['weeks'][0]['games'])  # 16 games"
   ]
  },
  {
   "cell_type": "markdown",
   "metadata": {},
   "source": [
    "# First week, First game\n",
    "## `nfl12['weeks'][0]['games'][0]`\n",
    "\n",
    "|key      | value  |description|\n",
    "|:-------|------|---|\n",
    "|id       |`0651e14f-55b0-..`| id for first game of first week  |\n",
    "|status   |'closed|game done?   |\n",
    "|reference|`55509`|no idea   |\n",
    "|number   |6| same  |\n",
    "|scheduled|'2012-09-09T17:03:08+00:00'| date time of game  |\n",
    "|attendance|71180|home team stadium attendance   |\n",
    "|utc_offset|-6| something with time  |\n",
    "|entry_mode|'INGEST'| no idea  |\n",
    "|venue     |dict|info on home stadium   |\n",
    "|home      |dict|info on home team  |\n",
    "|away      |dict| info on away team  |\n",
    "|broadcast |dict|info on where it was shown   |\n",
    "|scoring   |dict|final scores and for each period  |"
   ]
  },
  {
   "cell_type": "code",
   "execution_count": 38,
   "metadata": {},
   "outputs": [
    {
     "data": {
      "text/plain": [
       "'0651e14f-55b0-403f-9ff0-d0f11261490d'"
      ]
     },
     "execution_count": 38,
     "metadata": {},
     "output_type": "execute_result"
    }
   ],
   "source": [
    "nfl12['weeks'][0]['games'][0]['id']"
   ]
  },
  {
   "cell_type": "code",
   "execution_count": 39,
   "metadata": {},
   "outputs": [
    {
     "data": {
      "text/plain": [
       "'closed'"
      ]
     },
     "execution_count": 39,
     "metadata": {},
     "output_type": "execute_result"
    }
   ],
   "source": [
    "nfl12['weeks'][0]['games'][0]['status']"
   ]
  },
  {
   "cell_type": "code",
   "execution_count": 41,
   "metadata": {},
   "outputs": [
    {
     "data": {
      "text/plain": [
       "'55509'"
      ]
     },
     "execution_count": 41,
     "metadata": {},
     "output_type": "execute_result"
    }
   ],
   "source": [
    "nfl12['weeks'][0]['games'][0]['reference']"
   ]
  },
  {
   "cell_type": "code",
   "execution_count": 42,
   "metadata": {},
   "outputs": [
    {
     "data": {
      "text/plain": [
       "6"
      ]
     },
     "execution_count": 42,
     "metadata": {},
     "output_type": "execute_result"
    }
   ],
   "source": [
    "nfl12['weeks'][0]['games'][0]['number']"
   ]
  },
  {
   "cell_type": "code",
   "execution_count": 44,
   "metadata": {},
   "outputs": [
    {
     "data": {
      "text/plain": [
       "'2012-09-09T17:03:08+00:00'"
      ]
     },
     "execution_count": 44,
     "metadata": {},
     "output_type": "execute_result"
    }
   ],
   "source": [
    "nfl12['weeks'][0]['games'][0]['scheduled']"
   ]
  },
  {
   "cell_type": "code",
   "execution_count": 45,
   "metadata": {},
   "outputs": [
    {
     "data": {
      "text/plain": [
       "71180"
      ]
     },
     "execution_count": 45,
     "metadata": {},
     "output_type": "execute_result"
    }
   ],
   "source": [
    "nfl12['weeks'][0]['games'][0]['attendance']"
   ]
  },
  {
   "cell_type": "code",
   "execution_count": 46,
   "metadata": {},
   "outputs": [
    {
     "data": {
      "text/plain": [
       "-6"
      ]
     },
     "execution_count": 46,
     "metadata": {},
     "output_type": "execute_result"
    }
   ],
   "source": [
    "nfl12['weeks'][0]['games'][0]['utc_offset']"
   ]
  },
  {
   "cell_type": "code",
   "execution_count": 47,
   "metadata": {},
   "outputs": [
    {
     "data": {
      "text/plain": [
       "'INGEST'"
      ]
     },
     "execution_count": 47,
     "metadata": {},
     "output_type": "execute_result"
    }
   ],
   "source": [
    "nfl12['weeks'][0]['games'][0]['entry_mode']"
   ]
  },
  {
   "cell_type": "code",
   "execution_count": 48,
   "metadata": {},
   "outputs": [
    {
     "data": {
      "text/plain": [
       "{'address': 'One Arrowhead Drive',\n",
       " 'capacity': 79451,\n",
       " 'city': 'Kansas City',\n",
       " 'country': 'USA',\n",
       " 'id': '2ec4c411-dac2-403d-b091-6b6aa4a0a914',\n",
       " 'name': 'Arrowhead Stadium',\n",
       " 'roof_type': 'outdoor',\n",
       " 'state': 'MO',\n",
       " 'surface': 'turf',\n",
       " 'zip': '64129'}"
      ]
     },
     "execution_count": 48,
     "metadata": {},
     "output_type": "execute_result"
    }
   ],
   "source": [
    "nfl12['weeks'][0]['games'][0]['venue']"
   ]
  },
  {
   "cell_type": "code",
   "execution_count": 49,
   "metadata": {},
   "outputs": [
    {
     "data": {
      "text/plain": [
       "{'alias': 'KC',\n",
       " 'game_number': 1,\n",
       " 'id': '6680d28d-d4d2-49f6-aace-5292d3ec02c2',\n",
       " 'name': 'Kansas City Chiefs'}"
      ]
     },
     "execution_count": 49,
     "metadata": {},
     "output_type": "execute_result"
    }
   ],
   "source": [
    "nfl12['weeks'][0]['games'][0]['home']"
   ]
  },
  {
   "cell_type": "code",
   "execution_count": 50,
   "metadata": {},
   "outputs": [
    {
     "data": {
      "text/plain": [
       "{'alias': 'ATL',\n",
       " 'game_number': 1,\n",
       " 'id': 'e6aa13a4-0055-48a9-bc41-be28dc106929',\n",
       " 'name': 'Atlanta Falcons'}"
      ]
     },
     "execution_count": 50,
     "metadata": {},
     "output_type": "execute_result"
    }
   ],
   "source": [
    "nfl12['weeks'][0]['games'][0]['away']"
   ]
  },
  {
   "cell_type": "code",
   "execution_count": 52,
   "metadata": {},
   "outputs": [
    {
     "data": {
      "text/plain": [
       "{'network': 'FOX', 'satellite': '706'}"
      ]
     },
     "execution_count": 52,
     "metadata": {},
     "output_type": "execute_result"
    }
   ],
   "source": [
    "nfl12['weeks'][0]['games'][0]['broadcast']"
   ]
  },
  {
   "cell_type": "code",
   "execution_count": 53,
   "metadata": {},
   "outputs": [
    {
     "data": {
      "text/plain": [
       "{'away_points': 40,\n",
       " 'home_points': 24,\n",
       " 'periods': [{'away_points': 10,\n",
       "   'home_points': 3,\n",
       "   'id': '60a53db0-7de7-4210-bc55-7d146af3e049',\n",
       "   'number': 1,\n",
       "   'period_type': 'quarter',\n",
       "   'sequence': 1},\n",
       "  {'away_points': 10,\n",
       "   'home_points': 14,\n",
       "   'id': 'ffa039f4-fcdc-44d3-8cd0-ab303c0fad39',\n",
       "   'number': 2,\n",
       "   'period_type': 'quarter',\n",
       "   'sequence': 2},\n",
       "  {'away_points': 14,\n",
       "   'home_points': 0,\n",
       "   'id': '16ca0c95-0437-4f7f-a78e-a82cb2ecc08f',\n",
       "   'number': 3,\n",
       "   'period_type': 'quarter',\n",
       "   'sequence': 3},\n",
       "  {'away_points': 6,\n",
       "   'home_points': 7,\n",
       "   'id': 'eaf149e2-cbf8-4e63-a4c8-ef5c6a55fa4f',\n",
       "   'number': 4,\n",
       "   'period_type': 'quarter',\n",
       "   'sequence': 4}]}"
      ]
     },
     "execution_count": 53,
     "metadata": {},
     "output_type": "execute_result"
    }
   ],
   "source": [
    "nfl12['weeks'][0]['games'][0]['scoring']"
   ]
  },
  {
   "cell_type": "markdown",
   "metadata": {},
   "source": [
    "# Convert to dataframe\n",
    "\n",
    "Now that we know how the data is displayed,\n",
    "lets create a df from our results\n",
    "\n",
    "steps:\n",
    "- create an empty list\n",
    "- loop over the total weeks in the season\n",
    "- creates a dataframe from that week\n",
    "- append the dataframe to our empty list\n",
    "- pd.concat our list to a new dataframe"
   ]
  },
  {
   "cell_type": "code",
   "execution_count": 57,
   "metadata": {},
   "outputs": [],
   "source": [
    "dflist =[]\n",
    "for i in range(len(nfl12['weeks'])):\n",
    "    data = json_normalize(nfl12['weeks'][i]['games'])  # convert to df\n",
    "    dflist.append(data)  # append week data\n",
    "nfl = pd.concat(dflist, axis=0)"
   ]
  },
  {
   "cell_type": "code",
   "execution_count": 59,
   "metadata": {},
   "outputs": [
    {
     "name": "stdout",
     "output_type": "stream",
     "text": [
      "<class 'pandas.core.frame.DataFrame'>\n",
      "Int64Index: 256 entries, 0 to 15\n",
      "Data columns (total 32 columns):\n",
      "attendance             256 non-null int64\n",
      "away.alias             256 non-null object\n",
      "away.game_number       256 non-null int64\n",
      "away.id                256 non-null object\n",
      "away.name              256 non-null object\n",
      "broadcast.network      256 non-null object\n",
      "broadcast.satellite    234 non-null object\n",
      "entry_mode             256 non-null object\n",
      "home.alias             256 non-null object\n",
      "home.game_number       256 non-null int64\n",
      "home.id                256 non-null object\n",
      "home.name              256 non-null object\n",
      "id                     256 non-null object\n",
      "number                 256 non-null int64\n",
      "reference              256 non-null object\n",
      "scheduled              256 non-null object\n",
      "scoring.away_points    256 non-null int64\n",
      "scoring.home_points    256 non-null int64\n",
      "scoring.periods        256 non-null object\n",
      "status                 256 non-null object\n",
      "utc_offset             256 non-null int64\n",
      "venue.address          256 non-null object\n",
      "venue.capacity         256 non-null int64\n",
      "venue.city             256 non-null object\n",
      "venue.country          256 non-null object\n",
      "venue.id               256 non-null object\n",
      "venue.name             256 non-null object\n",
      "venue.roof_type        256 non-null object\n",
      "venue.state            255 non-null object\n",
      "venue.surface          256 non-null object\n",
      "venue.zip              256 non-null object\n",
      "weather                1 non-null object\n",
      "dtypes: int64(8), object(24)\n",
      "memory usage: 66.0+ KB\n"
     ]
    }
   ],
   "source": [
    "nfl.info()"
   ]
  },
  {
   "cell_type": "code",
   "execution_count": 76,
   "metadata": {},
   "outputs": [
    {
     "data": {
      "text/html": [
       "<div>\n",
       "<style scoped>\n",
       "    .dataframe tbody tr th:only-of-type {\n",
       "        vertical-align: middle;\n",
       "    }\n",
       "\n",
       "    .dataframe tbody tr th {\n",
       "        vertical-align: top;\n",
       "    }\n",
       "\n",
       "    .dataframe thead th {\n",
       "        text-align: right;\n",
       "    }\n",
       "</style>\n",
       "<table border=\"1\" class=\"dataframe\">\n",
       "  <thead>\n",
       "    <tr style=\"text-align: right;\">\n",
       "      <th></th>\n",
       "      <th>attendance</th>\n",
       "      <th>away.alias</th>\n",
       "      <th>away.game_number</th>\n",
       "      <th>away.id</th>\n",
       "      <th>away.name</th>\n",
       "      <th>broadcast.network</th>\n",
       "      <th>broadcast.satellite</th>\n",
       "      <th>entry_mode</th>\n",
       "      <th>home.alias</th>\n",
       "      <th>home.game_number</th>\n",
       "      <th>...</th>\n",
       "      <th>venue.capacity</th>\n",
       "      <th>venue.city</th>\n",
       "      <th>venue.country</th>\n",
       "      <th>venue.id</th>\n",
       "      <th>venue.name</th>\n",
       "      <th>venue.roof_type</th>\n",
       "      <th>venue.state</th>\n",
       "      <th>venue.surface</th>\n",
       "      <th>venue.zip</th>\n",
       "      <th>weather</th>\n",
       "    </tr>\n",
       "  </thead>\n",
       "  <tbody>\n",
       "    <tr>\n",
       "      <th>0</th>\n",
       "      <td>71180</td>\n",
       "      <td>ATL</td>\n",
       "      <td>1</td>\n",
       "      <td>e6aa13a4-0055-48a9-bc41-be28dc106929</td>\n",
       "      <td>Atlanta Falcons</td>\n",
       "      <td>FOX</td>\n",
       "      <td>706</td>\n",
       "      <td>INGEST</td>\n",
       "      <td>KC</td>\n",
       "      <td>1</td>\n",
       "      <td>...</td>\n",
       "      <td>79451</td>\n",
       "      <td>Kansas City</td>\n",
       "      <td>USA</td>\n",
       "      <td>2ec4c411-dac2-403d-b091-6b6aa4a0a914</td>\n",
       "      <td>Arrowhead Stadium</td>\n",
       "      <td>outdoor</td>\n",
       "      <td>MO</td>\n",
       "      <td>turf</td>\n",
       "      <td>64129</td>\n",
       "      <td>NaN</td>\n",
       "    </tr>\n",
       "    <tr>\n",
       "      <th>1</th>\n",
       "      <td>70523</td>\n",
       "      <td>SF</td>\n",
       "      <td>1</td>\n",
       "      <td>f0e724b0-4cbf-495a-be47-013907608da9</td>\n",
       "      <td>San Francisco 49ers</td>\n",
       "      <td>FOX</td>\n",
       "      <td>714</td>\n",
       "      <td>INGEST</td>\n",
       "      <td>GB</td>\n",
       "      <td>1</td>\n",
       "      <td>...</td>\n",
       "      <td>80750</td>\n",
       "      <td>Green Bay</td>\n",
       "      <td>USA</td>\n",
       "      <td>5a60dd3a-302c-41c6-ab0f-dd335c1103c2</td>\n",
       "      <td>Lambeau Field</td>\n",
       "      <td>outdoor</td>\n",
       "      <td>WI</td>\n",
       "      <td>turf</td>\n",
       "      <td>54304</td>\n",
       "      <td>NaN</td>\n",
       "    </tr>\n",
       "    <tr>\n",
       "      <th>2</th>\n",
       "      <td>76823</td>\n",
       "      <td>PIT</td>\n",
       "      <td>1</td>\n",
       "      <td>cb2f9f1f-ac67-424e-9e72-1475cb0ed398</td>\n",
       "      <td>Pittsburgh Steelers</td>\n",
       "      <td>NBC</td>\n",
       "      <td>NaN</td>\n",
       "      <td>INGEST</td>\n",
       "      <td>DEN</td>\n",
       "      <td>1</td>\n",
       "      <td>...</td>\n",
       "      <td>76125</td>\n",
       "      <td>Denver</td>\n",
       "      <td>USA</td>\n",
       "      <td>6589e61d-ef1e-4e30-91b5-9acd2072b8a0</td>\n",
       "      <td>Sports Authority Field at Mile High</td>\n",
       "      <td>outdoor</td>\n",
       "      <td>CO</td>\n",
       "      <td>turf</td>\n",
       "      <td>80204</td>\n",
       "      <td>NaN</td>\n",
       "    </tr>\n",
       "    <tr>\n",
       "      <th>3</th>\n",
       "      <td>62341</td>\n",
       "      <td>IND</td>\n",
       "      <td>1</td>\n",
       "      <td>82cf9565-6eb9-4f01-bdbd-5aa0d472fcd9</td>\n",
       "      <td>Indianapolis Colts</td>\n",
       "      <td>CBS</td>\n",
       "      <td>708</td>\n",
       "      <td>INGEST</td>\n",
       "      <td>CHI</td>\n",
       "      <td>1</td>\n",
       "      <td>...</td>\n",
       "      <td>61500</td>\n",
       "      <td>Chicago</td>\n",
       "      <td>USA</td>\n",
       "      <td>d7866605-5ac6-4b3a-90e8-760cc5a26b75</td>\n",
       "      <td>Soldier Field</td>\n",
       "      <td>outdoor</td>\n",
       "      <td>IL</td>\n",
       "      <td>turf</td>\n",
       "      <td>60605</td>\n",
       "      <td>NaN</td>\n",
       "    </tr>\n",
       "    <tr>\n",
       "      <th>4</th>\n",
       "      <td>56607</td>\n",
       "      <td>JAC</td>\n",
       "      <td>1</td>\n",
       "      <td>f7ddd7fa-0bae-4f90-bc8e-669e4d6cf2de</td>\n",
       "      <td>Jacksonville Jaguars</td>\n",
       "      <td>CBS</td>\n",
       "      <td>710</td>\n",
       "      <td>INGEST</td>\n",
       "      <td>MIN</td>\n",
       "      <td>1</td>\n",
       "      <td>...</td>\n",
       "      <td>64111</td>\n",
       "      <td>Minneapolis</td>\n",
       "      <td>USA</td>\n",
       "      <td>1fede74c-50a2-4036-a1c0-b4d1e53ca98c</td>\n",
       "      <td>Mall of America Field</td>\n",
       "      <td>dome</td>\n",
       "      <td>MN</td>\n",
       "      <td>artificial</td>\n",
       "      <td>55415</td>\n",
       "      <td>NaN</td>\n",
       "    </tr>\n",
       "  </tbody>\n",
       "</table>\n",
       "<p>5 rows × 32 columns</p>\n",
       "</div>"
      ],
      "text/plain": [
       "   attendance away.alias  away.game_number  \\\n",
       "0       71180        ATL                 1   \n",
       "1       70523         SF                 1   \n",
       "2       76823        PIT                 1   \n",
       "3       62341        IND                 1   \n",
       "4       56607        JAC                 1   \n",
       "\n",
       "                                away.id             away.name  \\\n",
       "0  e6aa13a4-0055-48a9-bc41-be28dc106929       Atlanta Falcons   \n",
       "1  f0e724b0-4cbf-495a-be47-013907608da9   San Francisco 49ers   \n",
       "2  cb2f9f1f-ac67-424e-9e72-1475cb0ed398   Pittsburgh Steelers   \n",
       "3  82cf9565-6eb9-4f01-bdbd-5aa0d472fcd9    Indianapolis Colts   \n",
       "4  f7ddd7fa-0bae-4f90-bc8e-669e4d6cf2de  Jacksonville Jaguars   \n",
       "\n",
       "  broadcast.network broadcast.satellite entry_mode home.alias  \\\n",
       "0               FOX                 706     INGEST         KC   \n",
       "1               FOX                 714     INGEST         GB   \n",
       "2               NBC                 NaN     INGEST        DEN   \n",
       "3               CBS                 708     INGEST        CHI   \n",
       "4               CBS                 710     INGEST        MIN   \n",
       "\n",
       "   home.game_number   ...   venue.capacity   venue.city venue.country  \\\n",
       "0                 1   ...            79451  Kansas City           USA   \n",
       "1                 1   ...            80750    Green Bay           USA   \n",
       "2                 1   ...            76125       Denver           USA   \n",
       "3                 1   ...            61500      Chicago           USA   \n",
       "4                 1   ...            64111  Minneapolis           USA   \n",
       "\n",
       "                               venue.id                           venue.name  \\\n",
       "0  2ec4c411-dac2-403d-b091-6b6aa4a0a914                    Arrowhead Stadium   \n",
       "1  5a60dd3a-302c-41c6-ab0f-dd335c1103c2                        Lambeau Field   \n",
       "2  6589e61d-ef1e-4e30-91b5-9acd2072b8a0  Sports Authority Field at Mile High   \n",
       "3  d7866605-5ac6-4b3a-90e8-760cc5a26b75                        Soldier Field   \n",
       "4  1fede74c-50a2-4036-a1c0-b4d1e53ca98c                Mall of America Field   \n",
       "\n",
       "  venue.roof_type  venue.state  venue.surface venue.zip weather  \n",
       "0         outdoor           MO           turf     64129     NaN  \n",
       "1         outdoor           WI           turf     54304     NaN  \n",
       "2         outdoor           CO           turf     80204     NaN  \n",
       "3         outdoor           IL           turf     60605     NaN  \n",
       "4            dome           MN     artificial     55415     NaN  \n",
       "\n",
       "[5 rows x 32 columns]"
      ]
     },
     "execution_count": 76,
     "metadata": {},
     "output_type": "execute_result"
    }
   ],
   "source": [
    "nfl.head()"
   ]
  },
  {
   "cell_type": "markdown",
   "metadata": {},
   "source": [
    "## Save our raw data to  to csv"
   ]
  },
  {
   "cell_type": "code",
   "execution_count": 79,
   "metadata": {},
   "outputs": [
    {
     "name": "stdout",
     "output_type": "stream",
     "text": [
      "\u001b[0m\u001b[01;32mnfl10clean.csv\u001b[0m*  \u001b[01;32mnfl10yearsfull.csv\u001b[0m*  \u001b[01;32mnfl17yearsfull_raw.csv\u001b[0m*\r\n"
     ]
    }
   ],
   "source": [
    "ls sports_data_raw/NFL"
   ]
  },
  {
   "cell_type": "code",
   "execution_count": 80,
   "metadata": {},
   "outputs": [],
   "source": [
    "nfl.to_csv('sports_data_raw/nfl_12_raw.csv')"
   ]
  },
  {
   "cell_type": "code",
   "execution_count": 81,
   "metadata": {},
   "outputs": [],
   "source": [
    "## finish"
   ]
  },
  {
   "cell_type": "code",
   "execution_count": null,
   "metadata": {},
   "outputs": [],
   "source": []
  }
 ],
 "metadata": {
  "kernelspec": {
   "display_name": "Python 3",
   "language": "python",
   "name": "python3"
  },
  "language_info": {
   "codemirror_mode": {
    "name": "ipython",
    "version": 3
   },
   "file_extension": ".py",
   "mimetype": "text/x-python",
   "name": "python",
   "nbconvert_exporter": "python",
   "pygments_lexer": "ipython3",
   "version": "3.6.4"
  }
 },
 "nbformat": 4,
 "nbformat_minor": 2
}
