{
 "cells": [
  {
   "cell_type": "markdown",
   "metadata": {},
   "source": [
    "## Source\n",
    "\n",
    "#### sports-reference.com\n",
    "https://www.sports-reference.com/cfb/schools/rice/2017-schedule.html\n",
    "\n",
    "- games to csv files from 2008 - 2017\n",
    "- `RU08_17.csv`"
   ]
  },
  {
   "cell_type": "code",
   "execution_count": 1,
   "metadata": {},
   "outputs": [],
   "source": [
    "import pandas as pd\n",
    "import numpy as np\n",
    "import warnings\n",
    "warnings.filterwarnings('ignore')"
   ]
  },
  {
   "cell_type": "code",
   "execution_count": 2,
   "metadata": {},
   "outputs": [],
   "source": [
    "path = 'data/NCAA/RU08_17.csv'"
   ]
  },
  {
   "cell_type": "code",
   "execution_count": 3,
   "metadata": {},
   "outputs": [],
   "source": [
    "df = pd.read_csv(path)"
   ]
  },
  {
   "cell_type": "code",
   "execution_count": 4,
   "metadata": {},
   "outputs": [
    {
     "data": {
      "text/html": [
       "<div>\n",
       "<style scoped>\n",
       "    .dataframe tbody tr th:only-of-type {\n",
       "        vertical-align: middle;\n",
       "    }\n",
       "\n",
       "    .dataframe tbody tr th {\n",
       "        vertical-align: top;\n",
       "    }\n",
       "\n",
       "    .dataframe thead th {\n",
       "        text-align: right;\n",
       "    }\n",
       "</style>\n",
       "<table border=\"1\" class=\"dataframe\">\n",
       "  <thead>\n",
       "    <tr style=\"text-align: right;\">\n",
       "      <th></th>\n",
       "      <th>G</th>\n",
       "      <th>Date</th>\n",
       "      <th>Time</th>\n",
       "      <th>Day</th>\n",
       "      <th>School</th>\n",
       "      <th>Unnamed: 5</th>\n",
       "      <th>Opponent</th>\n",
       "      <th>Conf</th>\n",
       "      <th>Unnamed: 8</th>\n",
       "      <th>Pts</th>\n",
       "      <th>Opp</th>\n",
       "      <th>W</th>\n",
       "      <th>L</th>\n",
       "      <th>Streak</th>\n",
       "      <th>Notes</th>\n",
       "      <th>Unnamed: 15</th>\n",
       "    </tr>\n",
       "  </thead>\n",
       "  <tbody>\n",
       "    <tr>\n",
       "      <th>0</th>\n",
       "      <td>1</td>\n",
       "      <td>Aug 29 2008</td>\n",
       "      <td>NaN</td>\n",
       "      <td>Fri</td>\n",
       "      <td>Rice</td>\n",
       "      <td>NaN</td>\n",
       "      <td>SMU</td>\n",
       "      <td>CUSA</td>\n",
       "      <td>W</td>\n",
       "      <td>56</td>\n",
       "      <td>27</td>\n",
       "      <td>1</td>\n",
       "      <td>0</td>\n",
       "      <td>W 1</td>\n",
       "      <td>NaN</td>\n",
       "      <td>NaN</td>\n",
       "    </tr>\n",
       "    <tr>\n",
       "      <th>1</th>\n",
       "      <td>2</td>\n",
       "      <td>Sep 6 2008</td>\n",
       "      <td>NaN</td>\n",
       "      <td>Sat</td>\n",
       "      <td>Rice</td>\n",
       "      <td>@</td>\n",
       "      <td>Memphis</td>\n",
       "      <td>CUSA</td>\n",
       "      <td>W</td>\n",
       "      <td>42</td>\n",
       "      <td>35</td>\n",
       "      <td>2</td>\n",
       "      <td>0</td>\n",
       "      <td>W 2</td>\n",
       "      <td>NaN</td>\n",
       "      <td>NaN</td>\n",
       "    </tr>\n",
       "    <tr>\n",
       "      <th>2</th>\n",
       "      <td>3</td>\n",
       "      <td>Sep 13 2008</td>\n",
       "      <td>NaN</td>\n",
       "      <td>Sat</td>\n",
       "      <td>Rice</td>\n",
       "      <td>@</td>\n",
       "      <td>Vanderbilt</td>\n",
       "      <td>SEC</td>\n",
       "      <td>L</td>\n",
       "      <td>21</td>\n",
       "      <td>38</td>\n",
       "      <td>2</td>\n",
       "      <td>1</td>\n",
       "      <td>L 1</td>\n",
       "      <td>NaN</td>\n",
       "      <td>NaN</td>\n",
       "    </tr>\n",
       "    <tr>\n",
       "      <th>3</th>\n",
       "      <td>4</td>\n",
       "      <td>Sep 20 2008</td>\n",
       "      <td>NaN</td>\n",
       "      <td>Sat</td>\n",
       "      <td>Rice</td>\n",
       "      <td>@</td>\n",
       "      <td>(7) Texas</td>\n",
       "      <td>Big 12</td>\n",
       "      <td>L</td>\n",
       "      <td>10</td>\n",
       "      <td>52</td>\n",
       "      <td>2</td>\n",
       "      <td>2</td>\n",
       "      <td>L 2</td>\n",
       "      <td>NaN</td>\n",
       "      <td>NaN</td>\n",
       "    </tr>\n",
       "    <tr>\n",
       "      <th>4</th>\n",
       "      <td>5</td>\n",
       "      <td>Sep 27 2008</td>\n",
       "      <td>NaN</td>\n",
       "      <td>Sat</td>\n",
       "      <td>Rice</td>\n",
       "      <td>NaN</td>\n",
       "      <td>North Texas</td>\n",
       "      <td>Sun Belt</td>\n",
       "      <td>W</td>\n",
       "      <td>77</td>\n",
       "      <td>20</td>\n",
       "      <td>3</td>\n",
       "      <td>2</td>\n",
       "      <td>W 1</td>\n",
       "      <td>NaN</td>\n",
       "      <td>NaN</td>\n",
       "    </tr>\n",
       "  </tbody>\n",
       "</table>\n",
       "</div>"
      ],
      "text/plain": [
       "   G         Date Time  Day School Unnamed: 5     Opponent      Conf  \\\n",
       "0  1  Aug 29 2008  NaN  Fri   Rice        NaN          SMU      CUSA   \n",
       "1  2   Sep 6 2008  NaN  Sat   Rice          @      Memphis      CUSA   \n",
       "2  3  Sep 13 2008  NaN  Sat   Rice          @   Vanderbilt       SEC   \n",
       "3  4  Sep 20 2008  NaN  Sat   Rice          @    (7) Texas    Big 12   \n",
       "4  5  Sep 27 2008  NaN  Sat   Rice        NaN  North Texas  Sun Belt   \n",
       "\n",
       "  Unnamed: 8  Pts  Opp  W  L Streak Notes Unnamed: 15  \n",
       "0          W   56   27  1  0    W 1   NaN         NaN  \n",
       "1          W   42   35  2  0    W 2   NaN         NaN  \n",
       "2          L   21   38  2  1    L 1   NaN         NaN  \n",
       "3          L   10   52  2  2    L 2   NaN         NaN  \n",
       "4          W   77   20  3  2    W 1   NaN         NaN  "
      ]
     },
     "execution_count": 4,
     "metadata": {},
     "output_type": "execute_result"
    }
   ],
   "source": [
    "df.head()"
   ]
  },
  {
   "cell_type": "markdown",
   "metadata": {},
   "source": [
    "## Slice cols"
   ]
  },
  {
   "cell_type": "code",
   "execution_count": 5,
   "metadata": {},
   "outputs": [],
   "source": [
    "rice = df[['Date','Day','School','Pts','Unnamed: 5','Opponent','Opp','Unnamed: 8']]"
   ]
  },
  {
   "cell_type": "code",
   "execution_count": 6,
   "metadata": {},
   "outputs": [
    {
     "data": {
      "text/html": [
       "<div>\n",
       "<style scoped>\n",
       "    .dataframe tbody tr th:only-of-type {\n",
       "        vertical-align: middle;\n",
       "    }\n",
       "\n",
       "    .dataframe tbody tr th {\n",
       "        vertical-align: top;\n",
       "    }\n",
       "\n",
       "    .dataframe thead th {\n",
       "        text-align: right;\n",
       "    }\n",
       "</style>\n",
       "<table border=\"1\" class=\"dataframe\">\n",
       "  <thead>\n",
       "    <tr style=\"text-align: right;\">\n",
       "      <th></th>\n",
       "      <th>Date</th>\n",
       "      <th>Day</th>\n",
       "      <th>School</th>\n",
       "      <th>Pts</th>\n",
       "      <th>Unnamed: 5</th>\n",
       "      <th>Opponent</th>\n",
       "      <th>Opp</th>\n",
       "      <th>Unnamed: 8</th>\n",
       "    </tr>\n",
       "  </thead>\n",
       "  <tbody>\n",
       "    <tr>\n",
       "      <th>0</th>\n",
       "      <td>Aug 29 2008</td>\n",
       "      <td>Fri</td>\n",
       "      <td>Rice</td>\n",
       "      <td>56</td>\n",
       "      <td>NaN</td>\n",
       "      <td>SMU</td>\n",
       "      <td>27</td>\n",
       "      <td>W</td>\n",
       "    </tr>\n",
       "    <tr>\n",
       "      <th>1</th>\n",
       "      <td>Sep 6 2008</td>\n",
       "      <td>Sat</td>\n",
       "      <td>Rice</td>\n",
       "      <td>42</td>\n",
       "      <td>@</td>\n",
       "      <td>Memphis</td>\n",
       "      <td>35</td>\n",
       "      <td>W</td>\n",
       "    </tr>\n",
       "    <tr>\n",
       "      <th>2</th>\n",
       "      <td>Sep 13 2008</td>\n",
       "      <td>Sat</td>\n",
       "      <td>Rice</td>\n",
       "      <td>21</td>\n",
       "      <td>@</td>\n",
       "      <td>Vanderbilt</td>\n",
       "      <td>38</td>\n",
       "      <td>L</td>\n",
       "    </tr>\n",
       "    <tr>\n",
       "      <th>3</th>\n",
       "      <td>Sep 20 2008</td>\n",
       "      <td>Sat</td>\n",
       "      <td>Rice</td>\n",
       "      <td>10</td>\n",
       "      <td>@</td>\n",
       "      <td>(7) Texas</td>\n",
       "      <td>52</td>\n",
       "      <td>L</td>\n",
       "    </tr>\n",
       "    <tr>\n",
       "      <th>4</th>\n",
       "      <td>Sep 27 2008</td>\n",
       "      <td>Sat</td>\n",
       "      <td>Rice</td>\n",
       "      <td>77</td>\n",
       "      <td>NaN</td>\n",
       "      <td>North Texas</td>\n",
       "      <td>20</td>\n",
       "      <td>W</td>\n",
       "    </tr>\n",
       "  </tbody>\n",
       "</table>\n",
       "</div>"
      ],
      "text/plain": [
       "          Date  Day School  Pts Unnamed: 5     Opponent  Opp Unnamed: 8\n",
       "0  Aug 29 2008  Fri   Rice   56        NaN          SMU   27          W\n",
       "1   Sep 6 2008  Sat   Rice   42          @      Memphis   35          W\n",
       "2  Sep 13 2008  Sat   Rice   21          @   Vanderbilt   38          L\n",
       "3  Sep 20 2008  Sat   Rice   10          @    (7) Texas   52          L\n",
       "4  Sep 27 2008  Sat   Rice   77        NaN  North Texas   20          W"
      ]
     },
     "execution_count": 6,
     "metadata": {},
     "output_type": "execute_result"
    }
   ],
   "source": [
    "rice.head()"
   ]
  },
  {
   "cell_type": "markdown",
   "metadata": {},
   "source": [
    "## Check for missing vals"
   ]
  },
  {
   "cell_type": "code",
   "execution_count": 8,
   "metadata": {},
   "outputs": [
    {
     "data": {
      "text/plain": [
       "Date           0\n",
       "Day            0\n",
       "School         0\n",
       "Pts            0\n",
       "Unnamed: 5    58\n",
       "Opponent       0\n",
       "Opp            0\n",
       "Unnamed: 8     0\n",
       "dtype: int64"
      ]
     },
     "execution_count": 8,
     "metadata": {},
     "output_type": "execute_result"
    }
   ],
   "source": [
    "rice.apply(lambda x: sum(x.isnull()))"
   ]
  },
  {
   "cell_type": "markdown",
   "metadata": {},
   "source": [
    "## Cleanup"
   ]
  },
  {
   "cell_type": "code",
   "execution_count": 10,
   "metadata": {},
   "outputs": [
    {
     "data": {
      "text/plain": [
       "array(['Rice'], dtype=object)"
      ]
     },
     "execution_count": 10,
     "metadata": {},
     "output_type": "execute_result"
    }
   ],
   "source": [
    "rice.School.unique()"
   ]
  },
  {
   "cell_type": "code",
   "execution_count": null,
   "metadata": {},
   "outputs": [],
   "source": []
  },
  {
   "cell_type": "markdown",
   "metadata": {},
   "source": [
    "## rename column\n",
    "- Unnamed: 5 : win_lost"
   ]
  },
  {
   "cell_type": "code",
   "execution_count": 11,
   "metadata": {},
   "outputs": [],
   "source": [
    "rice.rename(columns={'Unnamed: 8':'win_lost',\n",
    "                  'Unnamed: 5':'home_away'}, inplace=True)"
   ]
  },
  {
   "cell_type": "markdown",
   "metadata": {},
   "source": [
    "## Change values of '@` to 'Away\n",
    "- create boolean mask to find rows whose value is '@`m"
   ]
  },
  {
   "cell_type": "code",
   "execution_count": 12,
   "metadata": {},
   "outputs": [
    {
     "data": {
      "text/plain": [
       "array([nan, '@', 'N'], dtype=object)"
      ]
     },
     "execution_count": 12,
     "metadata": {},
     "output_type": "execute_result"
    }
   ],
   "source": [
    "rice['home_away'].unique()"
   ]
  },
  {
   "cell_type": "code",
   "execution_count": 13,
   "metadata": {},
   "outputs": [],
   "source": [
    "rice['home_away'] = rice['home_away'].replace('@','away')"
   ]
  },
  {
   "cell_type": "code",
   "execution_count": 14,
   "metadata": {},
   "outputs": [],
   "source": [
    "rice['home_away'] = rice['home_away'].fillna('home')"
   ]
  },
  {
   "cell_type": "code",
   "execution_count": 15,
   "metadata": {},
   "outputs": [
    {
     "data": {
      "text/plain": [
       "away    61\n",
       "home    58\n",
       "N        6\n",
       "Name: home_away, dtype: int64"
      ]
     },
     "execution_count": 15,
     "metadata": {},
     "output_type": "execute_result"
    }
   ],
   "source": [
    "rice['home_away'].value_counts()"
   ]
  },
  {
   "cell_type": "markdown",
   "metadata": {},
   "source": [
    "## Show values of 'N'\n",
    "\n",
    "- create boolean mask to find rows whose value is 'N"
   ]
  },
  {
   "cell_type": "code",
   "execution_count": 16,
   "metadata": {},
   "outputs": [
    {
     "data": {
      "text/html": [
       "<div>\n",
       "<style scoped>\n",
       "    .dataframe tbody tr th:only-of-type {\n",
       "        vertical-align: middle;\n",
       "    }\n",
       "\n",
       "    .dataframe tbody tr th {\n",
       "        vertical-align: top;\n",
       "    }\n",
       "\n",
       "    .dataframe thead th {\n",
       "        text-align: right;\n",
       "    }\n",
       "</style>\n",
       "<table border=\"1\" class=\"dataframe\">\n",
       "  <thead>\n",
       "    <tr style=\"text-align: right;\">\n",
       "      <th></th>\n",
       "      <th>Date</th>\n",
       "      <th>Day</th>\n",
       "      <th>School</th>\n",
       "      <th>Pts</th>\n",
       "      <th>home_away</th>\n",
       "      <th>Opponent</th>\n",
       "      <th>Opp</th>\n",
       "      <th>win_lost</th>\n",
       "    </tr>\n",
       "  </thead>\n",
       "  <tbody>\n",
       "    <tr>\n",
       "      <th>53</th>\n",
       "      <td>Sep 29 2012</td>\n",
       "      <td>Sat</td>\n",
       "      <td>Rice</td>\n",
       "      <td>14</td>\n",
       "      <td>N</td>\n",
       "      <td>Houston</td>\n",
       "      <td>35</td>\n",
       "      <td>L</td>\n",
       "    </tr>\n",
       "    <tr>\n",
       "      <th>61</th>\n",
       "      <td>Dec 29 2012</td>\n",
       "      <td>Sat</td>\n",
       "      <td>Rice</td>\n",
       "      <td>33</td>\n",
       "      <td>N</td>\n",
       "      <td>Air Force</td>\n",
       "      <td>14</td>\n",
       "      <td>W</td>\n",
       "    </tr>\n",
       "    <tr>\n",
       "      <th>64</th>\n",
       "      <td>Sep 21 2013</td>\n",
       "      <td>Sat</td>\n",
       "      <td>Rice</td>\n",
       "      <td>26</td>\n",
       "      <td>N</td>\n",
       "      <td>Houston</td>\n",
       "      <td>31</td>\n",
       "      <td>L</td>\n",
       "    </tr>\n",
       "    <tr>\n",
       "      <th>75</th>\n",
       "      <td>Dec 31 2013</td>\n",
       "      <td>Tue</td>\n",
       "      <td>Rice</td>\n",
       "      <td>7</td>\n",
       "      <td>N</td>\n",
       "      <td>Mississippi State</td>\n",
       "      <td>44</td>\n",
       "      <td>L</td>\n",
       "    </tr>\n",
       "    <tr>\n",
       "      <th>88</th>\n",
       "      <td>Dec 24 2014</td>\n",
       "      <td>Wed</td>\n",
       "      <td>Rice</td>\n",
       "      <td>30</td>\n",
       "      <td>N</td>\n",
       "      <td>Fresno State</td>\n",
       "      <td>6</td>\n",
       "      <td>W</td>\n",
       "    </tr>\n",
       "    <tr>\n",
       "      <th>113</th>\n",
       "      <td>Aug 26 2017</td>\n",
       "      <td>Sat</td>\n",
       "      <td>Rice</td>\n",
       "      <td>7</td>\n",
       "      <td>N</td>\n",
       "      <td>(14) Stanford</td>\n",
       "      <td>62</td>\n",
       "      <td>L</td>\n",
       "    </tr>\n",
       "  </tbody>\n",
       "</table>\n",
       "</div>"
      ],
      "text/plain": [
       "            Date  Day School  Pts home_away           Opponent  Opp win_lost\n",
       "53   Sep 29 2012  Sat   Rice   14         N            Houston   35        L\n",
       "61   Dec 29 2012  Sat   Rice   33         N          Air Force   14        W\n",
       "64   Sep 21 2013  Sat   Rice   26         N            Houston   31        L\n",
       "75   Dec 31 2013  Tue   Rice    7         N  Mississippi State   44        L\n",
       "88   Dec 24 2014  Wed   Rice   30         N       Fresno State    6        W\n",
       "113  Aug 26 2017  Sat   Rice    7         N      (14) Stanford   62        L"
      ]
     },
     "execution_count": 16,
     "metadata": {},
     "output_type": "execute_result"
    }
   ],
   "source": [
    "n_val = rice['home_away']  =='N'\n",
    "rice[n_val]"
   ]
  },
  {
   "cell_type": "markdown",
   "metadata": {},
   "source": [
    "### They seem to be all away games "
   ]
  },
  {
   "cell_type": "code",
   "execution_count": 17,
   "metadata": {},
   "outputs": [],
   "source": [
    "rice['home_away'] = rice['home_away'].replace('N','away')"
   ]
  },
  {
   "cell_type": "code",
   "execution_count": 18,
   "metadata": {},
   "outputs": [
    {
     "data": {
      "text/plain": [
       "away    67\n",
       "home    58\n",
       "Name: home_away, dtype: int64"
      ]
     },
     "execution_count": 18,
     "metadata": {},
     "output_type": "execute_result"
    }
   ],
   "source": [
    "rice['home_away'].value_counts(dropna=False)"
   ]
  },
  {
   "cell_type": "markdown",
   "metadata": {},
   "source": [
    "## Cleanup Opponent column"
   ]
  },
  {
   "cell_type": "code",
   "execution_count": 20,
   "metadata": {},
   "outputs": [
    {
     "data": {
      "text/plain": [
       "array(['SMU', 'Memphis', 'Vanderbilt', '(7) Texas', 'North Texas',\n",
       "       'Tulsa', 'Southern Mississippi', 'Tulane', 'UTEP', 'Army',\n",
       "       'Marshall', 'Houston', 'Western Michigan', 'UAB', 'Texas Tech',\n",
       "       '(16) Oklahoma State', 'Navy', 'East Carolina', 'UCF',\n",
       "       '(25) Houston', '(5) Texas', 'Northwestern', 'Baylor', 'Texas',\n",
       "       'Purdue', '(17) Baylor', '(18) Houston', 'UCLA', 'Kansas',\n",
       "       'Louisiana Tech', 'UTSA', 'Air Force', '(7) Texas A&M',\n",
       "       'Florida Atlantic', 'New Mexico State', 'Mississippi State',\n",
       "       '(17) Notre Dame', 'Old Dominion', 'Hawaii',\n",
       "       'Florida International', '(21) Marshall', 'Fresno State', 'Wagner',\n",
       "       '(5) Baylor', 'Western Kentucky', 'Charlotte', '(21) Baylor',\n",
       "       'Prairie View A&M', 'Stanford', '(14) Stanford', 'Pitt'],\n",
       "      dtype=object)"
      ]
     },
     "execution_count": 20,
     "metadata": {},
     "output_type": "execute_result"
    }
   ],
   "source": [
    "rice['Opponent'].unique()"
   ]
  },
  {
   "cell_type": "markdown",
   "metadata": {},
   "source": [
    "## Remove parenthesis from `uh['Opponent']`\n"
   ]
  },
  {
   "cell_type": "code",
   "execution_count": 21,
   "metadata": {},
   "outputs": [],
   "source": [
    "rice['Opponent']= rice['Opponent'].str.replace(r\"\\(.*\\)\",\" \")\n",
    "rice['Opponent']= rice['Opponent'].str.strip()"
   ]
  },
  {
   "cell_type": "code",
   "execution_count": 22,
   "metadata": {},
   "outputs": [
    {
     "data": {
      "text/plain": [
       "array(['SMU', 'Memphis', 'Vanderbilt', 'Texas', 'North Texas', 'Tulsa',\n",
       "       'Southern Mississippi', 'Tulane', 'UTEP', 'Army', 'Marshall',\n",
       "       'Houston', 'Western Michigan', 'UAB', 'Texas Tech',\n",
       "       'Oklahoma State', 'Navy', 'East Carolina', 'UCF', 'Northwestern',\n",
       "       'Baylor', 'Purdue', 'UCLA', 'Kansas', 'Louisiana Tech', 'UTSA',\n",
       "       'Air Force', 'Texas A&M', 'Florida Atlantic', 'New Mexico State',\n",
       "       'Mississippi State', 'Notre Dame', 'Old Dominion', 'Hawaii',\n",
       "       'Florida International', 'Fresno State', 'Wagner',\n",
       "       'Western Kentucky', 'Charlotte', 'Prairie View A&M', 'Stanford',\n",
       "       'Pitt'], dtype=object)"
      ]
     },
     "execution_count": 22,
     "metadata": {},
     "output_type": "execute_result"
    }
   ],
   "source": [
    "rice['Opponent'].unique()"
   ]
  },
  {
   "cell_type": "markdown",
   "metadata": {},
   "source": [
    "## convert Date to datetime"
   ]
  },
  {
   "cell_type": "code",
   "execution_count": 23,
   "metadata": {},
   "outputs": [],
   "source": [
    "# date\n",
    "rice.Date = pd.to_datetime(rice.Date)\n",
    "\n",
    "rice = rice.set_index('Date').sort_index(ascending=True)"
   ]
  },
  {
   "cell_type": "code",
   "execution_count": 24,
   "metadata": {},
   "outputs": [
    {
     "data": {
      "text/html": [
       "<div>\n",
       "<style scoped>\n",
       "    .dataframe tbody tr th:only-of-type {\n",
       "        vertical-align: middle;\n",
       "    }\n",
       "\n",
       "    .dataframe tbody tr th {\n",
       "        vertical-align: top;\n",
       "    }\n",
       "\n",
       "    .dataframe thead th {\n",
       "        text-align: right;\n",
       "    }\n",
       "</style>\n",
       "<table border=\"1\" class=\"dataframe\">\n",
       "  <thead>\n",
       "    <tr style=\"text-align: right;\">\n",
       "      <th></th>\n",
       "      <th>Day</th>\n",
       "      <th>School</th>\n",
       "      <th>Pts</th>\n",
       "      <th>home_away</th>\n",
       "      <th>Opponent</th>\n",
       "      <th>Opp</th>\n",
       "      <th>win_lost</th>\n",
       "    </tr>\n",
       "    <tr>\n",
       "      <th>Date</th>\n",
       "      <th></th>\n",
       "      <th></th>\n",
       "      <th></th>\n",
       "      <th></th>\n",
       "      <th></th>\n",
       "      <th></th>\n",
       "      <th></th>\n",
       "    </tr>\n",
       "  </thead>\n",
       "  <tbody>\n",
       "    <tr>\n",
       "      <th>2008-08-29</th>\n",
       "      <td>Fri</td>\n",
       "      <td>Rice</td>\n",
       "      <td>56</td>\n",
       "      <td>home</td>\n",
       "      <td>SMU</td>\n",
       "      <td>27</td>\n",
       "      <td>W</td>\n",
       "    </tr>\n",
       "    <tr>\n",
       "      <th>2008-09-06</th>\n",
       "      <td>Sat</td>\n",
       "      <td>Rice</td>\n",
       "      <td>42</td>\n",
       "      <td>away</td>\n",
       "      <td>Memphis</td>\n",
       "      <td>35</td>\n",
       "      <td>W</td>\n",
       "    </tr>\n",
       "    <tr>\n",
       "      <th>2008-09-13</th>\n",
       "      <td>Sat</td>\n",
       "      <td>Rice</td>\n",
       "      <td>21</td>\n",
       "      <td>away</td>\n",
       "      <td>Vanderbilt</td>\n",
       "      <td>38</td>\n",
       "      <td>L</td>\n",
       "    </tr>\n",
       "    <tr>\n",
       "      <th>2008-09-20</th>\n",
       "      <td>Sat</td>\n",
       "      <td>Rice</td>\n",
       "      <td>10</td>\n",
       "      <td>away</td>\n",
       "      <td>Texas</td>\n",
       "      <td>52</td>\n",
       "      <td>L</td>\n",
       "    </tr>\n",
       "    <tr>\n",
       "      <th>2008-09-27</th>\n",
       "      <td>Sat</td>\n",
       "      <td>Rice</td>\n",
       "      <td>77</td>\n",
       "      <td>home</td>\n",
       "      <td>North Texas</td>\n",
       "      <td>20</td>\n",
       "      <td>W</td>\n",
       "    </tr>\n",
       "  </tbody>\n",
       "</table>\n",
       "</div>"
      ],
      "text/plain": [
       "            Day School  Pts home_away     Opponent  Opp win_lost\n",
       "Date                                                            \n",
       "2008-08-29  Fri   Rice   56      home          SMU   27        W\n",
       "2008-09-06  Sat   Rice   42      away      Memphis   35        W\n",
       "2008-09-13  Sat   Rice   21      away   Vanderbilt   38        L\n",
       "2008-09-20  Sat   Rice   10      away        Texas   52        L\n",
       "2008-09-27  Sat   Rice   77      home  North Texas   20        W"
      ]
     },
     "execution_count": 24,
     "metadata": {},
     "output_type": "execute_result"
    }
   ],
   "source": [
    "rice.head()"
   ]
  },
  {
   "cell_type": "markdown",
   "metadata": {},
   "source": [
    "## select only home games"
   ]
  },
  {
   "cell_type": "code",
   "execution_count": 25,
   "metadata": {},
   "outputs": [],
   "source": [
    "rice = rice[['School','Pts','home_away','Opponent','Opp', 'win_lost']]\n",
    "rice = rice[rice.home_away == 'home']"
   ]
  },
  {
   "cell_type": "code",
   "execution_count": 26,
   "metadata": {},
   "outputs": [
    {
     "data": {
      "text/html": [
       "<div>\n",
       "<style scoped>\n",
       "    .dataframe tbody tr th:only-of-type {\n",
       "        vertical-align: middle;\n",
       "    }\n",
       "\n",
       "    .dataframe tbody tr th {\n",
       "        vertical-align: top;\n",
       "    }\n",
       "\n",
       "    .dataframe thead th {\n",
       "        text-align: right;\n",
       "    }\n",
       "</style>\n",
       "<table border=\"1\" class=\"dataframe\">\n",
       "  <thead>\n",
       "    <tr style=\"text-align: right;\">\n",
       "      <th></th>\n",
       "      <th>School</th>\n",
       "      <th>Pts</th>\n",
       "      <th>home_away</th>\n",
       "      <th>Opponent</th>\n",
       "      <th>Opp</th>\n",
       "      <th>win_lost</th>\n",
       "    </tr>\n",
       "    <tr>\n",
       "      <th>Date</th>\n",
       "      <th></th>\n",
       "      <th></th>\n",
       "      <th></th>\n",
       "      <th></th>\n",
       "      <th></th>\n",
       "      <th></th>\n",
       "    </tr>\n",
       "  </thead>\n",
       "  <tbody>\n",
       "    <tr>\n",
       "      <th>2008-08-29</th>\n",
       "      <td>Rice</td>\n",
       "      <td>56</td>\n",
       "      <td>home</td>\n",
       "      <td>SMU</td>\n",
       "      <td>27</td>\n",
       "      <td>W</td>\n",
       "    </tr>\n",
       "    <tr>\n",
       "      <th>2008-09-27</th>\n",
       "      <td>Rice</td>\n",
       "      <td>77</td>\n",
       "      <td>home</td>\n",
       "      <td>North Texas</td>\n",
       "      <td>20</td>\n",
       "      <td>W</td>\n",
       "    </tr>\n",
       "    <tr>\n",
       "      <th>2008-10-18</th>\n",
       "      <td>Rice</td>\n",
       "      <td>45</td>\n",
       "      <td>home</td>\n",
       "      <td>Southern Mississippi</td>\n",
       "      <td>40</td>\n",
       "      <td>W</td>\n",
       "    </tr>\n",
       "    <tr>\n",
       "      <th>2008-11-08</th>\n",
       "      <td>Rice</td>\n",
       "      <td>38</td>\n",
       "      <td>home</td>\n",
       "      <td>Army</td>\n",
       "      <td>31</td>\n",
       "      <td>W</td>\n",
       "    </tr>\n",
       "    <tr>\n",
       "      <th>2008-11-22</th>\n",
       "      <td>Rice</td>\n",
       "      <td>35</td>\n",
       "      <td>home</td>\n",
       "      <td>Marshall</td>\n",
       "      <td>10</td>\n",
       "      <td>W</td>\n",
       "    </tr>\n",
       "  </tbody>\n",
       "</table>\n",
       "</div>"
      ],
      "text/plain": [
       "           School  Pts home_away              Opponent  Opp win_lost\n",
       "Date                                                                \n",
       "2008-08-29   Rice   56      home                   SMU   27        W\n",
       "2008-09-27   Rice   77      home           North Texas   20        W\n",
       "2008-10-18   Rice   45      home  Southern Mississippi   40        W\n",
       "2008-11-08   Rice   38      home                  Army   31        W\n",
       "2008-11-22   Rice   35      home              Marshall   10        W"
      ]
     },
     "execution_count": 26,
     "metadata": {},
     "output_type": "execute_result"
    }
   ],
   "source": [
    "rice.head()"
   ]
  },
  {
   "cell_type": "markdown",
   "metadata": {},
   "source": [
    "## only games from 2010 to 2017"
   ]
  },
  {
   "cell_type": "code",
   "execution_count": 27,
   "metadata": {},
   "outputs": [],
   "source": [
    "rice = rice[rice.index.year>=2010]"
   ]
  },
  {
   "cell_type": "code",
   "execution_count": 28,
   "metadata": {},
   "outputs": [],
   "source": [
    "rice.to_csv('data/clean/Rice_clean.csv')"
   ]
  },
  {
   "cell_type": "code",
   "execution_count": 29,
   "metadata": {},
   "outputs": [
    {
     "name": "stdout",
     "output_type": "stream",
     "text": [
      "\u001b[0m\u001b[01;32mRice_clean.csv\u001b[0m*  \u001b[01;32mUH_clean.csv\u001b[0m*\r\n"
     ]
    }
   ],
   "source": [
    "ls data/clean"
   ]
  },
  {
   "cell_type": "code",
   "execution_count": null,
   "metadata": {},
   "outputs": [],
   "source": []
  }
 ],
 "metadata": {
  "kernelspec": {
   "display_name": "Python 3",
   "language": "python",
   "name": "python3"
  },
  "language_info": {
   "codemirror_mode": {
    "name": "ipython",
    "version": 3
   },
   "file_extension": ".py",
   "mimetype": "text/x-python",
   "name": "python",
   "nbconvert_exporter": "python",
   "pygments_lexer": "ipython3",
   "version": "3.6.4"
  }
 },
 "nbformat": 4,
 "nbformat_minor": 2
}
