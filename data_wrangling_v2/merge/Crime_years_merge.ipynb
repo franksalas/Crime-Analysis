{
 "cells": [
  {
   "cell_type": "code",
   "execution_count": 1,
   "metadata": {},
   "outputs": [],
   "source": [
    "import pandas as pd\n",
    "import glob, os\n",
    "import numpy as np\n",
    "import datetime as dt\n",
    "import seaborn as sns\n"
   ]
  },
  {
   "cell_type": "code",
   "execution_count": 2,
   "metadata": {},
   "outputs": [
    {
     "name": "stdout",
     "output_type": "stream",
     "text": [
      "\u001b[0m\u001b[01;36;40mcrime_clean\u001b[0m/  \u001b[01;32mCrime_years_merge.ipynb\u001b[0m*\r\n"
     ]
    }
   ],
   "source": [
    "ls"
   ]
  },
  {
   "cell_type": "code",
   "execution_count": 3,
   "metadata": {},
   "outputs": [
    {
     "name": "stdout",
     "output_type": "stream",
     "text": [
      "\u001b[0m\u001b[01;32mcrime10_clean.csv\u001b[0m*  \u001b[01;32mcrime12_clean.csv\u001b[0m*  \u001b[01;32mcrime14_clean.csv\u001b[0m*  \u001b[01;32mcrime16_clean.csv\u001b[0m*\r\n",
      "\u001b[01;32mcrime11_clean.csv\u001b[0m*  \u001b[01;32mcrime13_clean.csv\u001b[0m*  \u001b[01;32mcrime15_clean.csv\u001b[0m*  \u001b[01;32mcrime17_clean.csv\u001b[0m*\r\n"
     ]
    }
   ],
   "source": [
    "ls crime_clean/"
   ]
  },
  {
   "cell_type": "code",
   "execution_count": 4,
   "metadata": {},
   "outputs": [],
   "source": [
    "path = 'crime_clean/'"
   ]
  },
  {
   "cell_type": "code",
   "execution_count": 5,
   "metadata": {},
   "outputs": [],
   "source": [
    "all_files = glob.glob(os.path.join(path, \"*.csv\")) \n",
    "\n",
    "df_from_each_file = (pd.read_csv(f) for f in all_files)\n",
    "df   = pd.concat(df_from_each_file, ignore_index=True)"
   ]
  },
  {
   "cell_type": "code",
   "execution_count": 6,
   "metadata": {},
   "outputs": [],
   "source": [
    "df.Date = pd.to_datetime(df.Date)\n",
    "df = df.set_index('Date').sort_index(ascending=True)"
   ]
  },
  {
   "cell_type": "code",
   "execution_count": 7,
   "metadata": {},
   "outputs": [
    {
     "data": {
      "text/html": [
       "<div>\n",
       "<style scoped>\n",
       "    .dataframe tbody tr th:only-of-type {\n",
       "        vertical-align: middle;\n",
       "    }\n",
       "\n",
       "    .dataframe tbody tr th {\n",
       "        vertical-align: top;\n",
       "    }\n",
       "\n",
       "    .dataframe thead th {\n",
       "        text-align: right;\n",
       "    }\n",
       "</style>\n",
       "<table border=\"1\" class=\"dataframe\">\n",
       "  <thead>\n",
       "    <tr style=\"text-align: right;\">\n",
       "      <th></th>\n",
       "      <th>Beat</th>\n",
       "      <th>BlockRange</th>\n",
       "      <th>StreetName</th>\n",
       "      <th>OffenseType</th>\n",
       "      <th>Premise</th>\n",
       "      <th>NumOffenses</th>\n",
       "      <th>Hour</th>\n",
       "      <th>day</th>\n",
       "      <th>weekday</th>\n",
       "      <th>month</th>\n",
       "      <th>year</th>\n",
       "    </tr>\n",
       "    <tr>\n",
       "      <th>Date</th>\n",
       "      <th></th>\n",
       "      <th></th>\n",
       "      <th></th>\n",
       "      <th></th>\n",
       "      <th></th>\n",
       "      <th></th>\n",
       "      <th></th>\n",
       "      <th></th>\n",
       "      <th></th>\n",
       "      <th></th>\n",
       "      <th></th>\n",
       "    </tr>\n",
       "  </thead>\n",
       "  <tbody>\n",
       "    <tr>\n",
       "      <th>1914-09-08</th>\n",
       "      <td>24C60</td>\n",
       "      <td>12700-12799</td>\n",
       "      <td>lake houston</td>\n",
       "      <td>Burglary</td>\n",
       "      <td>restaurant or cafeteria</td>\n",
       "      <td>1.0</td>\n",
       "      <td>7.0</td>\n",
       "      <td>8</td>\n",
       "      <td>Tuesday</td>\n",
       "      <td>Sep</td>\n",
       "      <td>1914</td>\n",
       "    </tr>\n",
       "    <tr>\n",
       "      <th>1914-11-02</th>\n",
       "      <td>18F60</td>\n",
       "      <td>8800-8899</td>\n",
       "      <td>bellaire</td>\n",
       "      <td>Burglary</td>\n",
       "      <td>miscellaneous business (non-specific)</td>\n",
       "      <td>1.0</td>\n",
       "      <td>3.0</td>\n",
       "      <td>2</td>\n",
       "      <td>Monday</td>\n",
       "      <td>Nov</td>\n",
       "      <td>1914</td>\n",
       "    </tr>\n",
       "    <tr>\n",
       "      <th>1914-12-03</th>\n",
       "      <td>12D20</td>\n",
       "      <td>12800-12899</td>\n",
       "      <td>gulf</td>\n",
       "      <td>Auto Theft</td>\n",
       "      <td>none</td>\n",
       "      <td>1.0</td>\n",
       "      <td>19.0</td>\n",
       "      <td>3</td>\n",
       "      <td>Thursday</td>\n",
       "      <td>Dec</td>\n",
       "      <td>1914</td>\n",
       "    </tr>\n",
       "    <tr>\n",
       "      <th>1915-01-05</th>\n",
       "      <td>3B10</td>\n",
       "      <td>3200-3299</td>\n",
       "      <td>mangum rd 180</td>\n",
       "      <td>Theft</td>\n",
       "      <td>other parking lot</td>\n",
       "      <td>1.0</td>\n",
       "      <td>22.0</td>\n",
       "      <td>5</td>\n",
       "      <td>Tuesday</td>\n",
       "      <td>Jan</td>\n",
       "      <td>1915</td>\n",
       "    </tr>\n",
       "    <tr>\n",
       "      <th>1915-01-14</th>\n",
       "      <td>5F10</td>\n",
       "      <td>7000-7099</td>\n",
       "      <td>westview</td>\n",
       "      <td>Auto Theft</td>\n",
       "      <td>apartment parking lot</td>\n",
       "      <td>1.0</td>\n",
       "      <td>23.0</td>\n",
       "      <td>14</td>\n",
       "      <td>Thursday</td>\n",
       "      <td>Jan</td>\n",
       "      <td>1915</td>\n",
       "    </tr>\n",
       "  </tbody>\n",
       "</table>\n",
       "</div>"
      ],
      "text/plain": [
       "             Beat   BlockRange     StreetName OffenseType  \\\n",
       "Date                                                        \n",
       "1914-09-08  24C60  12700-12799   lake houston    Burglary   \n",
       "1914-11-02  18F60    8800-8899       bellaire    Burglary   \n",
       "1914-12-03  12D20  12800-12899           gulf  Auto Theft   \n",
       "1915-01-05   3B10    3200-3299  mangum rd 180       Theft   \n",
       "1915-01-14   5F10    7000-7099       westview  Auto Theft   \n",
       "\n",
       "                                          Premise  NumOffenses  Hour  day  \\\n",
       "Date                                                                        \n",
       "1914-09-08                restaurant or cafeteria          1.0   7.0    8   \n",
       "1914-11-02  miscellaneous business (non-specific)          1.0   3.0    2   \n",
       "1914-12-03                                   none          1.0  19.0    3   \n",
       "1915-01-05                      other parking lot          1.0  22.0    5   \n",
       "1915-01-14                  apartment parking lot          1.0  23.0   14   \n",
       "\n",
       "             weekday month  year  \n",
       "Date                              \n",
       "1914-09-08   Tuesday   Sep  1914  \n",
       "1914-11-02    Monday   Nov  1914  \n",
       "1914-12-03  Thursday   Dec  1914  \n",
       "1915-01-05   Tuesday   Jan  1915  \n",
       "1915-01-14  Thursday   Jan  1915  "
      ]
     },
     "execution_count": 7,
     "metadata": {},
     "output_type": "execute_result"
    }
   ],
   "source": [
    "df.head()"
   ]
  },
  {
   "cell_type": "code",
   "execution_count": 8,
   "metadata": {},
   "outputs": [
    {
     "name": "stdout",
     "output_type": "stream",
     "text": [
      "<class 'pandas.core.frame.DataFrame'>\n",
      "DatetimeIndex: 1006326 entries, 1914-09-08 to 2033-04-21\n",
      "Data columns (total 11 columns):\n",
      "Beat           1006326 non-null object\n",
      "BlockRange     1006326 non-null object\n",
      "StreetName     1006319 non-null object\n",
      "OffenseType    1006326 non-null object\n",
      "Premise        1006326 non-null object\n",
      "NumOffenses    1006326 non-null float64\n",
      "Hour           1006326 non-null float64\n",
      "day            1006326 non-null int64\n",
      "weekday        1006326 non-null object\n",
      "month          1006326 non-null object\n",
      "year           1006326 non-null int64\n",
      "dtypes: float64(2), int64(2), object(7)\n",
      "memory usage: 92.1+ MB\n"
     ]
    }
   ],
   "source": [
    "df.info()"
   ]
  },
  {
   "cell_type": "markdown",
   "metadata": {},
   "source": [
    "## Check for null values"
   ]
  },
  {
   "cell_type": "code",
   "execution_count": null,
   "metadata": {},
   "outputs": [],
   "source": [
    "sns.heatmap(df.isnull(),yticklabels=False,cbar=False,cmap='viridis')"
   ]
  },
  {
   "cell_type": "code",
   "execution_count": null,
   "metadata": {},
   "outputs": [],
   "source": [
    "df.apply(lambda x: sum(x.isnull()))"
   ]
  },
  {
   "cell_type": "markdown",
   "metadata": {},
   "source": [
    "## year column"
   ]
  },
  {
   "cell_type": "code",
   "execution_count": null,
   "metadata": {},
   "outputs": [],
   "source": [
    "df.year.unique()"
   ]
  },
  {
   "cell_type": "markdown",
   "metadata": {},
   "source": [
    "## Slice year from 2010 - 2017"
   ]
  },
  {
   "cell_type": "code",
   "execution_count": 11,
   "metadata": {},
   "outputs": [],
   "source": [
    "df = df['1/1/2010':'12/31/2017']"
   ]
  },
  {
   "cell_type": "code",
   "execution_count": 12,
   "metadata": {},
   "outputs": [
    {
     "name": "stdout",
     "output_type": "stream",
     "text": [
      "<class 'pandas.core.frame.DataFrame'>\n",
      "DatetimeIndex: 1003745 entries, 2010-01-01 to 2017-12-31\n",
      "Data columns (total 11 columns):\n",
      "Beat           1003745 non-null object\n",
      "BlockRange     1003745 non-null object\n",
      "StreetName     1003738 non-null object\n",
      "OffenseType    1003745 non-null object\n",
      "Premise        1003745 non-null object\n",
      "NumOffenses    1003745 non-null float64\n",
      "Hour           1003745 non-null float64\n",
      "day            1003745 non-null int64\n",
      "weekday        1003745 non-null object\n",
      "month          1003745 non-null object\n",
      "year           1003745 non-null int64\n",
      "dtypes: float64(2), int64(2), object(7)\n",
      "memory usage: 91.9+ MB\n"
     ]
    }
   ],
   "source": [
    "df.info()"
   ]
  },
  {
   "cell_type": "code",
   "execution_count": null,
   "metadata": {},
   "outputs": [],
   "source": [
    "df.head()"
   ]
  },
  {
   "cell_type": "code",
   "execution_count": null,
   "metadata": {},
   "outputs": [],
   "source": [
    "df.apply(lambda x: sum(x.isnull()))"
   ]
  },
  {
   "cell_type": "code",
   "execution_count": null,
   "metadata": {},
   "outputs": [],
   "source": [
    "df.dtypes"
   ]
  },
  {
   "cell_type": "markdown",
   "metadata": {},
   "source": [
    "## Select Beats\n",
    "\n",
    "- 10H10\n",
    "- 10H30\n",
    "- 10H40\n",
    "- 10H50\n",
    "- 10H60\n",
    "- 10H70\n",
    "- 10H80\n",
    "- 15E40\n",
    "- 1A10"
   ]
  },
  {
   "cell_type": "code",
   "execution_count": 13,
   "metadata": {},
   "outputs": [],
   "source": [
    "beats = ['10H10','10H30', '10H40', '10H50', '10H60','10H70', '10H80', '15E40', '1A10']"
   ]
  },
  {
   "cell_type": "code",
   "execution_count": 14,
   "metadata": {},
   "outputs": [
    {
     "data": {
      "text/html": [
       "<div>\n",
       "<style scoped>\n",
       "    .dataframe tbody tr th:only-of-type {\n",
       "        vertical-align: middle;\n",
       "    }\n",
       "\n",
       "    .dataframe tbody tr th {\n",
       "        vertical-align: top;\n",
       "    }\n",
       "\n",
       "    .dataframe thead th {\n",
       "        text-align: right;\n",
       "    }\n",
       "</style>\n",
       "<table border=\"1\" class=\"dataframe\">\n",
       "  <thead>\n",
       "    <tr style=\"text-align: right;\">\n",
       "      <th></th>\n",
       "      <th>Beat</th>\n",
       "      <th>BlockRange</th>\n",
       "      <th>StreetName</th>\n",
       "      <th>OffenseType</th>\n",
       "      <th>Premise</th>\n",
       "      <th>NumOffenses</th>\n",
       "      <th>Hour</th>\n",
       "      <th>day</th>\n",
       "      <th>weekday</th>\n",
       "      <th>month</th>\n",
       "      <th>year</th>\n",
       "    </tr>\n",
       "    <tr>\n",
       "      <th>Date</th>\n",
       "      <th></th>\n",
       "      <th></th>\n",
       "      <th></th>\n",
       "      <th></th>\n",
       "      <th></th>\n",
       "      <th></th>\n",
       "      <th></th>\n",
       "      <th></th>\n",
       "      <th></th>\n",
       "      <th></th>\n",
       "      <th></th>\n",
       "    </tr>\n",
       "  </thead>\n",
       "  <tbody>\n",
       "    <tr>\n",
       "      <th>2010-01-01</th>\n",
       "      <td>15E30</td>\n",
       "      <td>4200-4299</td>\n",
       "      <td>willowbend</td>\n",
       "      <td>Theft</td>\n",
       "      <td>field/woods</td>\n",
       "      <td>1.0</td>\n",
       "      <td>0.0</td>\n",
       "      <td>1</td>\n",
       "      <td>Friday</td>\n",
       "      <td>Jan</td>\n",
       "      <td>2010</td>\n",
       "    </tr>\n",
       "    <tr>\n",
       "      <th>2010-01-01</th>\n",
       "      <td>6B20</td>\n",
       "      <td>3700-3799</td>\n",
       "      <td>pinemont</td>\n",
       "      <td>Rape</td>\n",
       "      <td>apartment</td>\n",
       "      <td>1.0</td>\n",
       "      <td>12.0</td>\n",
       "      <td>1</td>\n",
       "      <td>Friday</td>\n",
       "      <td>Jan</td>\n",
       "      <td>2010</td>\n",
       "    </tr>\n",
       "    <tr>\n",
       "      <th>2010-01-01</th>\n",
       "      <td>4F20</td>\n",
       "      <td>2900-2999</td>\n",
       "      <td>gessner</td>\n",
       "      <td>Theft</td>\n",
       "      <td>apartment</td>\n",
       "      <td>1.0</td>\n",
       "      <td>10.0</td>\n",
       "      <td>1</td>\n",
       "      <td>Friday</td>\n",
       "      <td>Jan</td>\n",
       "      <td>2010</td>\n",
       "    </tr>\n",
       "    <tr>\n",
       "      <th>2010-01-01</th>\n",
       "      <td>20G30</td>\n",
       "      <td>3400-3499</td>\n",
       "      <td>walnut bend</td>\n",
       "      <td>Theft</td>\n",
       "      <td>apartment</td>\n",
       "      <td>1.0</td>\n",
       "      <td>14.0</td>\n",
       "      <td>1</td>\n",
       "      <td>Friday</td>\n",
       "      <td>Jan</td>\n",
       "      <td>2010</td>\n",
       "    </tr>\n",
       "    <tr>\n",
       "      <th>2010-01-01</th>\n",
       "      <td>17E30</td>\n",
       "      <td>9700-9799</td>\n",
       "      <td>gessner</td>\n",
       "      <td>Burglary</td>\n",
       "      <td>apartment</td>\n",
       "      <td>1.0</td>\n",
       "      <td>22.0</td>\n",
       "      <td>1</td>\n",
       "      <td>Friday</td>\n",
       "      <td>Jan</td>\n",
       "      <td>2010</td>\n",
       "    </tr>\n",
       "  </tbody>\n",
       "</table>\n",
       "</div>"
      ],
      "text/plain": [
       "             Beat BlockRange   StreetName OffenseType      Premise  \\\n",
       "Date                                                                 \n",
       "2010-01-01  15E30  4200-4299   willowbend       Theft  field/woods   \n",
       "2010-01-01   6B20  3700-3799     pinemont        Rape    apartment   \n",
       "2010-01-01   4F20  2900-2999      gessner       Theft    apartment   \n",
       "2010-01-01  20G30  3400-3499  walnut bend       Theft    apartment   \n",
       "2010-01-01  17E30  9700-9799      gessner    Burglary    apartment   \n",
       "\n",
       "            NumOffenses  Hour  day weekday month  year  \n",
       "Date                                                    \n",
       "2010-01-01          1.0   0.0    1  Friday   Jan  2010  \n",
       "2010-01-01          1.0  12.0    1  Friday   Jan  2010  \n",
       "2010-01-01          1.0  10.0    1  Friday   Jan  2010  \n",
       "2010-01-01          1.0  14.0    1  Friday   Jan  2010  \n",
       "2010-01-01          1.0  22.0    1  Friday   Jan  2010  "
      ]
     },
     "execution_count": 14,
     "metadata": {},
     "output_type": "execute_result"
    }
   ],
   "source": [
    "df.head()"
   ]
  },
  {
   "cell_type": "code",
   "execution_count": 15,
   "metadata": {},
   "outputs": [
    {
     "data": {
      "text/plain": [
       "19G10    21422\n",
       "12D10    21242\n",
       "1A20     20938\n",
       "6B60     20067\n",
       "13D20    19135\n",
       "3B10     18199\n",
       "18F20    17541\n",
       "17E10    17454\n",
       "5F30     16491\n",
       "18F30    16482\n",
       "18F40    16452\n",
       "15E40    16386\n",
       "1A30     16375\n",
       "14D20    16076\n",
       "20G30    15623\n",
       "20G50    15479\n",
       "2A50     15379\n",
       "1A10     15325\n",
       "17E40    15253\n",
       "1A50     14919\n",
       "6B10     14378\n",
       "18F50    14308\n",
       "5F40     14063\n",
       "7C20     13873\n",
       "9C40     13373\n",
       "3B50     12889\n",
       "6B30     12852\n",
       "2A30     12800\n",
       "20G10    12780\n",
       "19G40    11925\n",
       "         ...  \n",
       "24C10     2564\n",
       "24C50     2463\n",
       "24C30     2412\n",
       "1A40      2344\n",
       "24C20     2338\n",
       "9C10      2270\n",
       "12D50     2142\n",
       "18F10     2070\n",
       "11H40     2022\n",
       "21I50     1976\n",
       "21I10     1202\n",
       "13D30     1022\n",
       "24C40     1003\n",
       "23J50      935\n",
       "24C60      745\n",
       "21I30      525\n",
       "21I60      386\n",
       "21I20      266\n",
       "21I70      155\n",
       "21I40      106\n",
       "HCSO        68\n",
       "OOJ         41\n",
       "23J40       27\n",
       "Theft       16\n",
       "23J30       12\n",
       "UH-3P        6\n",
       "23J20        3\n",
       "23J10        2\n",
       "3B20         1\n",
       "7C60         1\n",
       "Name: Beat, Length: 128, dtype: int64"
      ]
     },
     "execution_count": 15,
     "metadata": {},
     "output_type": "execute_result"
    }
   ],
   "source": [
    "df.Beat.value_counts(dropna=False)"
   ]
  },
  {
   "cell_type": "code",
   "execution_count": 16,
   "metadata": {},
   "outputs": [],
   "source": [
    "selected_beats = df.Beat.isin(beats)"
   ]
  },
  {
   "cell_type": "code",
   "execution_count": null,
   "metadata": {},
   "outputs": [],
   "source": [
    "selected_beats.head()"
   ]
  },
  {
   "cell_type": "markdown",
   "metadata": {},
   "source": [
    "## Split selected beats and save "
   ]
  },
  {
   "cell_type": "code",
   "execution_count": 20,
   "metadata": {},
   "outputs": [],
   "source": [
    "df_sb = df[selected_beatsected_beats]"
   ]
  },
  {
   "cell_type": "code",
   "execution_count": 21,
   "metadata": {},
   "outputs": [
    {
     "name": "stdout",
     "output_type": "stream",
     "text": [
      "<class 'pandas.core.frame.DataFrame'>\n",
      "DatetimeIndex: 85259 entries, 2010-01-01 to 2017-12-31\n",
      "Data columns (total 11 columns):\n",
      "Beat           85259 non-null object\n",
      "BlockRange     85259 non-null object\n",
      "StreetName     85259 non-null object\n",
      "OffenseType    85259 non-null object\n",
      "Premise        85259 non-null object\n",
      "NumOffenses    85259 non-null float64\n",
      "Hour           85259 non-null float64\n",
      "day            85259 non-null int64\n",
      "weekday        85259 non-null object\n",
      "month          85259 non-null object\n",
      "year           85259 non-null int64\n",
      "dtypes: float64(2), int64(2), object(7)\n",
      "memory usage: 7.8+ MB\n"
     ]
    }
   ],
   "source": [
    "df_sb.info()"
   ]
  },
  {
   "cell_type": "code",
   "execution_count": 22,
   "metadata": {},
   "outputs": [
    {
     "data": {
      "text/html": [
       "<div>\n",
       "<style scoped>\n",
       "    .dataframe tbody tr th:only-of-type {\n",
       "        vertical-align: middle;\n",
       "    }\n",
       "\n",
       "    .dataframe tbody tr th {\n",
       "        vertical-align: top;\n",
       "    }\n",
       "\n",
       "    .dataframe thead th {\n",
       "        text-align: right;\n",
       "    }\n",
       "</style>\n",
       "<table border=\"1\" class=\"dataframe\">\n",
       "  <thead>\n",
       "    <tr style=\"text-align: right;\">\n",
       "      <th></th>\n",
       "      <th>Beat</th>\n",
       "      <th>BlockRange</th>\n",
       "      <th>StreetName</th>\n",
       "      <th>OffenseType</th>\n",
       "      <th>Premise</th>\n",
       "      <th>NumOffenses</th>\n",
       "      <th>Hour</th>\n",
       "      <th>day</th>\n",
       "      <th>weekday</th>\n",
       "      <th>month</th>\n",
       "      <th>year</th>\n",
       "    </tr>\n",
       "    <tr>\n",
       "      <th>Date</th>\n",
       "      <th></th>\n",
       "      <th></th>\n",
       "      <th></th>\n",
       "      <th></th>\n",
       "      <th></th>\n",
       "      <th></th>\n",
       "      <th></th>\n",
       "      <th></th>\n",
       "      <th></th>\n",
       "      <th></th>\n",
       "      <th></th>\n",
       "    </tr>\n",
       "  </thead>\n",
       "  <tbody>\n",
       "    <tr>\n",
       "      <th>2010-01-01</th>\n",
       "      <td>10H30</td>\n",
       "      <td>1700-1799</td>\n",
       "      <td>hutchins</td>\n",
       "      <td>Theft</td>\n",
       "      <td>residence/house</td>\n",
       "      <td>1.0</td>\n",
       "      <td>20.0</td>\n",
       "      <td>1</td>\n",
       "      <td>Friday</td>\n",
       "      <td>Jan</td>\n",
       "      <td>2010</td>\n",
       "    </tr>\n",
       "    <tr>\n",
       "      <th>2010-01-01</th>\n",
       "      <td>10H10</td>\n",
       "      <td>500-599</td>\n",
       "      <td>eastwood</td>\n",
       "      <td>Burglary</td>\n",
       "      <td>misc. business (non-specific)</td>\n",
       "      <td>1.0</td>\n",
       "      <td>0.0</td>\n",
       "      <td>1</td>\n",
       "      <td>Friday</td>\n",
       "      <td>Jan</td>\n",
       "      <td>2010</td>\n",
       "    </tr>\n",
       "    <tr>\n",
       "      <th>2010-01-01</th>\n",
       "      <td>10H10</td>\n",
       "      <td>1900-1999</td>\n",
       "      <td>runnels</td>\n",
       "      <td>Burglary</td>\n",
       "      <td>apartment</td>\n",
       "      <td>1.0</td>\n",
       "      <td>17.0</td>\n",
       "      <td>1</td>\n",
       "      <td>Friday</td>\n",
       "      <td>Jan</td>\n",
       "      <td>2010</td>\n",
       "    </tr>\n",
       "    <tr>\n",
       "      <th>2010-01-01</th>\n",
       "      <td>1A10</td>\n",
       "      <td>700-799</td>\n",
       "      <td>main</td>\n",
       "      <td>Theft</td>\n",
       "      <td>bar/night club parking lot</td>\n",
       "      <td>1.0</td>\n",
       "      <td>2.0</td>\n",
       "      <td>1</td>\n",
       "      <td>Friday</td>\n",
       "      <td>Jan</td>\n",
       "      <td>2010</td>\n",
       "    </tr>\n",
       "    <tr>\n",
       "      <th>2010-01-01</th>\n",
       "      <td>1A10</td>\n",
       "      <td>1200-1299</td>\n",
       "      <td>caroline</td>\n",
       "      <td>Theft</td>\n",
       "      <td>bar/night club</td>\n",
       "      <td>1.0</td>\n",
       "      <td>0.0</td>\n",
       "      <td>1</td>\n",
       "      <td>Friday</td>\n",
       "      <td>Jan</td>\n",
       "      <td>2010</td>\n",
       "    </tr>\n",
       "  </tbody>\n",
       "</table>\n",
       "</div>"
      ],
      "text/plain": [
       "             Beat BlockRange StreetName OffenseType  \\\n",
       "Date                                                  \n",
       "2010-01-01  10H30  1700-1799   hutchins       Theft   \n",
       "2010-01-01  10H10    500-599   eastwood    Burglary   \n",
       "2010-01-01  10H10  1900-1999    runnels    Burglary   \n",
       "2010-01-01   1A10    700-799       main       Theft   \n",
       "2010-01-01   1A10  1200-1299   caroline       Theft   \n",
       "\n",
       "                                  Premise  NumOffenses  Hour  day weekday  \\\n",
       "Date                                                                        \n",
       "2010-01-01                residence/house          1.0  20.0    1  Friday   \n",
       "2010-01-01  misc. business (non-specific)          1.0   0.0    1  Friday   \n",
       "2010-01-01                      apartment          1.0  17.0    1  Friday   \n",
       "2010-01-01     bar/night club parking lot          1.0   2.0    1  Friday   \n",
       "2010-01-01                 bar/night club          1.0   0.0    1  Friday   \n",
       "\n",
       "           month  year  \n",
       "Date                    \n",
       "2010-01-01   Jan  2010  \n",
       "2010-01-01   Jan  2010  \n",
       "2010-01-01   Jan  2010  \n",
       "2010-01-01   Jan  2010  \n",
       "2010-01-01   Jan  2010  "
      ]
     },
     "execution_count": 22,
     "metadata": {},
     "output_type": "execute_result"
    }
   ],
   "source": [
    "df_sb.head()"
   ]
  },
  {
   "cell_type": "code",
   "execution_count": 23,
   "metadata": {},
   "outputs": [
    {
     "data": {
      "text/plain": [
       "15E40    16386\n",
       "1A10     15325\n",
       "10H70    11423\n",
       "10H40    10460\n",
       "10H50     8017\n",
       "10H60     7697\n",
       "10H80     7481\n",
       "10H30     4398\n",
       "10H10     4072\n",
       "Name: Beat, dtype: int64"
      ]
     },
     "execution_count": 23,
     "metadata": {},
     "output_type": "execute_result"
    }
   ],
   "source": [
    "df_sb.Beat.value_counts()"
   ]
  },
  {
   "cell_type": "code",
   "execution_count": 26,
   "metadata": {},
   "outputs": [
    {
     "name": "stdout",
     "output_type": "stream",
     "text": [
      "['10H30', '10H10', '1A10', '10H40', '10H60', '10H50', '15E40', '10H70', '10H80']\n"
     ]
    }
   ],
   "source": [
    "print(list(df_sb.Beat.unique()))"
   ]
  },
  {
   "cell_type": "code",
   "execution_count": null,
   "metadata": {},
   "outputs": [],
   "source": []
  },
  {
   "cell_type": "code",
   "execution_count": 42,
   "metadata": {},
   "outputs": [],
   "source": [
    "beat_10H30 = df_sb[df_sb.Beat == '10H30']\n",
    "beat_10H10 = df_sb[df_sb.Beat == '10H10']\n",
    "beat_1A10 = df_sb[df_sb.Beat == '1A10']\n",
    "beat_10H40 = df_sb[df_sb.Beat == '10H40']\n",
    "beat_15E40 = df_sb[df_sb.Beat == '15H40']\n",
    "beat_10H50 = df_sb[df_sb.Beat == '10H50']\n",
    "beat_10H60 = df_sb[df_sb.Beat == '10H60']\n",
    "beat_10H70 = df_sb[df_sb.Beat == '10H70']\n",
    "beat_10H80 =  df_sb[df_sb.Beat == '10H80']\n",
    " "
   ]
  },
  {
   "cell_type": "code",
   "execution_count": 47,
   "metadata": {},
   "outputs": [],
   "source": [
    "beat_10H10.to_csv('crime_clean/beat_10H10.csv')"
   ]
  },
  {
   "cell_type": "code",
   "execution_count": 43,
   "metadata": {},
   "outputs": [],
   "source": [
    "beat_10H30.to_csv('crime_clean/beat_10H30.csv')"
   ]
  },
  {
   "cell_type": "code",
   "execution_count": 44,
   "metadata": {},
   "outputs": [],
   "source": [
    "beat_10H40.to_csv('crime_clean/beat_10H40.csv')"
   ]
  },
  {
   "cell_type": "code",
   "execution_count": 45,
   "metadata": {},
   "outputs": [],
   "source": [
    "beat_10H50.to_csv('crime_clean/beat_10H50.csv')"
   ]
  },
  {
   "cell_type": "code",
   "execution_count": 46,
   "metadata": {},
   "outputs": [],
   "source": [
    "beat_10H60.to_csv('crime_clean/beat_10H60.csv')"
   ]
  },
  {
   "cell_type": "code",
   "execution_count": 48,
   "metadata": {},
   "outputs": [],
   "source": [
    "beat_10H70.to_csv('crime_clean/beat_10H70.csv')"
   ]
  },
  {
   "cell_type": "code",
   "execution_count": 49,
   "metadata": {},
   "outputs": [],
   "source": [
    "beat_10H80.to_csv('crime_clean/beat_10H80.csv')"
   ]
  },
  {
   "cell_type": "code",
   "execution_count": 50,
   "metadata": {},
   "outputs": [],
   "source": [
    "beat_15E40.to_csv('crime_clean/beat_15E40.csv')"
   ]
  },
  {
   "cell_type": "code",
   "execution_count": 51,
   "metadata": {},
   "outputs": [],
   "source": [
    "beat_1A10.to_csv('crime_clean/beat_1A10.csv')"
   ]
  },
  {
   "cell_type": "code",
   "execution_count": 52,
   "metadata": {},
   "outputs": [
    {
     "name": "stdout",
     "output_type": "stream",
     "text": [
      "\u001b[0m\u001b[01;32mbeat_10H10.csv\u001b[0m*  \u001b[01;32mbeat_10H70.csv\u001b[0m*     \u001b[01;32mcrime11_clean.csv\u001b[0m*  \u001b[01;32mcrime16_clean.csv\u001b[0m*\r\n",
      "\u001b[01;32mbeat_10H30.csv\u001b[0m*  \u001b[01;32mbeat_10H80.csv\u001b[0m*     \u001b[01;32mcrime12_clean.csv\u001b[0m*  \u001b[01;32mcrime17_clean.csv\u001b[0m*\r\n",
      "\u001b[01;32mbeat_10H40.csv\u001b[0m*  \u001b[01;32mbeat_15E40.csv\u001b[0m*     \u001b[01;32mcrime13_clean.csv\u001b[0m*\r\n",
      "\u001b[01;32mbeat_10H50.csv\u001b[0m*  \u001b[01;32mbeat_1A10.csv\u001b[0m*      \u001b[01;32mcrime14_clean.csv\u001b[0m*\r\n",
      "\u001b[01;32mbeat_10H60.csv\u001b[0m*  \u001b[01;32mcrime10_clean.csv\u001b[0m*  \u001b[01;32mcrime15_clean.csv\u001b[0m*\r\n"
     ]
    }
   ],
   "source": [
    "ls crime_clean/"
   ]
  },
  {
   "cell_type": "code",
   "execution_count": null,
   "metadata": {},
   "outputs": [],
   "source": []
  }
 ],
 "metadata": {
  "kernelspec": {
   "display_name": "Python 3",
   "language": "python",
   "name": "python3"
  },
  "language_info": {
   "codemirror_mode": {
    "name": "ipython",
    "version": 3
   },
   "file_extension": ".py",
   "mimetype": "text/x-python",
   "name": "python",
   "nbconvert_exporter": "python",
   "pygments_lexer": "ipython3",
   "version": "3.6.4"
  }
 },
 "nbformat": 4,
 "nbformat_minor": 2
}
