{
 "cells": [
  {
   "cell_type": "code",
   "execution_count": 1,
   "metadata": {},
   "outputs": [],
   "source": [
    "import pandas as pd\n",
    "import glob, os\n",
    "import numpy as np\n",
    "import datetime as dt\n",
    "import seaborn as sns\n",
    "from collections import Counter\n",
    "import warnings\n",
    "warnings.filterwarnings('ignore')"
   ]
  },
  {
   "cell_type": "code",
   "execution_count": 2,
   "metadata": {},
   "outputs": [
    {
     "name": "stdout",
     "output_type": "stream",
     "text": [
      "\u001b[0m\u001b[01;36;40mbeat_crime\u001b[0m/   \u001b[01;32mCrime_years_merge.ipynb\u001b[0m*  \u001b[01;32mUntitled.ipynb\u001b[0m*\r\n",
      "\u001b[01;36;40mcrime_clean\u001b[0m/  \u001b[01;36;40msports_clean\u001b[0m/\r\n"
     ]
    }
   ],
   "source": [
    "ls"
   ]
  },
  {
   "cell_type": "code",
   "execution_count": 3,
   "metadata": {},
   "outputs": [
    {
     "name": "stdout",
     "output_type": "stream",
     "text": [
      "\u001b[0m\u001b[01;32mbeat_10H10.csv\u001b[0m*  \u001b[01;32mbeat_10H70.csv\u001b[0m*     \u001b[01;32mcrime11_clean.csv\u001b[0m*  \u001b[01;32mcrime16_clean.csv\u001b[0m*\r\n",
      "\u001b[01;32mbeat_10H30.csv\u001b[0m*  \u001b[01;32mbeat_10H80.csv\u001b[0m*     \u001b[01;32mcrime12_clean.csv\u001b[0m*  \u001b[01;32mcrime17_clean.csv\u001b[0m*\r\n",
      "\u001b[01;32mbeat_10H40.csv\u001b[0m*  \u001b[01;32mbeat_15E40.csv\u001b[0m*     \u001b[01;32mcrime13_clean.csv\u001b[0m*\r\n",
      "\u001b[01;32mbeat_10H50.csv\u001b[0m*  \u001b[01;32mbeat_1A10.csv\u001b[0m*      \u001b[01;32mcrime14_clean.csv\u001b[0m*\r\n",
      "\u001b[01;32mbeat_10H60.csv\u001b[0m*  \u001b[01;32mcrime10_clean.csv\u001b[0m*  \u001b[01;32mcrime15_clean.csv\u001b[0m*\r\n"
     ]
    }
   ],
   "source": [
    "ls crime_clean/"
   ]
  },
  {
   "cell_type": "code",
   "execution_count": 4,
   "metadata": {},
   "outputs": [],
   "source": [
    "path = 'crime_clean/'"
   ]
  },
  {
   "cell_type": "code",
   "execution_count": 5,
   "metadata": {},
   "outputs": [],
   "source": [
    "all_files = glob.glob(os.path.join(path, \"*.csv\")) \n",
    "\n",
    "df_from_each_file = (pd.read_csv(f) for f in all_files)\n",
    "df   = pd.concat(df_from_each_file, ignore_index=True)"
   ]
  },
  {
   "cell_type": "code",
   "execution_count": 6,
   "metadata": {},
   "outputs": [],
   "source": [
    "df.Date = pd.to_datetime(df.Date)\n",
    "df = df.set_index('Date').sort_index(ascending=True)"
   ]
  },
  {
   "cell_type": "code",
   "execution_count": 7,
   "metadata": {},
   "outputs": [
    {
     "data": {
      "text/html": [
       "<div>\n",
       "<style scoped>\n",
       "    .dataframe tbody tr th:only-of-type {\n",
       "        vertical-align: middle;\n",
       "    }\n",
       "\n",
       "    .dataframe tbody tr th {\n",
       "        vertical-align: top;\n",
       "    }\n",
       "\n",
       "    .dataframe thead th {\n",
       "        text-align: right;\n",
       "    }\n",
       "</style>\n",
       "<table border=\"1\" class=\"dataframe\">\n",
       "  <thead>\n",
       "    <tr style=\"text-align: right;\">\n",
       "      <th></th>\n",
       "      <th>Beat</th>\n",
       "      <th>BlockRange</th>\n",
       "      <th>StreetName</th>\n",
       "      <th>OffenseType</th>\n",
       "      <th>Premise</th>\n",
       "      <th>NumOffenses</th>\n",
       "      <th>Hour</th>\n",
       "      <th>day</th>\n",
       "      <th>weekday</th>\n",
       "      <th>month</th>\n",
       "      <th>year</th>\n",
       "    </tr>\n",
       "    <tr>\n",
       "      <th>Date</th>\n",
       "      <th></th>\n",
       "      <th></th>\n",
       "      <th></th>\n",
       "      <th></th>\n",
       "      <th></th>\n",
       "      <th></th>\n",
       "      <th></th>\n",
       "      <th></th>\n",
       "      <th></th>\n",
       "      <th></th>\n",
       "      <th></th>\n",
       "    </tr>\n",
       "  </thead>\n",
       "  <tbody>\n",
       "    <tr>\n",
       "      <th>1914-09-08</th>\n",
       "      <td>24C60</td>\n",
       "      <td>12700-12799</td>\n",
       "      <td>lake houston</td>\n",
       "      <td>Burglary</td>\n",
       "      <td>restaurant or cafeteria</td>\n",
       "      <td>1.0</td>\n",
       "      <td>7.0</td>\n",
       "      <td>8</td>\n",
       "      <td>Tuesday</td>\n",
       "      <td>Sep</td>\n",
       "      <td>1914</td>\n",
       "    </tr>\n",
       "    <tr>\n",
       "      <th>1914-11-02</th>\n",
       "      <td>18F60</td>\n",
       "      <td>8800-8899</td>\n",
       "      <td>bellaire</td>\n",
       "      <td>Burglary</td>\n",
       "      <td>miscellaneous business (non-specific)</td>\n",
       "      <td>1.0</td>\n",
       "      <td>3.0</td>\n",
       "      <td>2</td>\n",
       "      <td>Monday</td>\n",
       "      <td>Nov</td>\n",
       "      <td>1914</td>\n",
       "    </tr>\n",
       "    <tr>\n",
       "      <th>1914-12-03</th>\n",
       "      <td>12D20</td>\n",
       "      <td>12800-12899</td>\n",
       "      <td>gulf</td>\n",
       "      <td>Auto Theft</td>\n",
       "      <td>none</td>\n",
       "      <td>1.0</td>\n",
       "      <td>19.0</td>\n",
       "      <td>3</td>\n",
       "      <td>Thursday</td>\n",
       "      <td>Dec</td>\n",
       "      <td>1914</td>\n",
       "    </tr>\n",
       "    <tr>\n",
       "      <th>1915-01-05</th>\n",
       "      <td>3B10</td>\n",
       "      <td>3200-3299</td>\n",
       "      <td>mangum rd 180</td>\n",
       "      <td>Theft</td>\n",
       "      <td>other parking lot</td>\n",
       "      <td>1.0</td>\n",
       "      <td>22.0</td>\n",
       "      <td>5</td>\n",
       "      <td>Tuesday</td>\n",
       "      <td>Jan</td>\n",
       "      <td>1915</td>\n",
       "    </tr>\n",
       "    <tr>\n",
       "      <th>1915-01-14</th>\n",
       "      <td>5F10</td>\n",
       "      <td>7000-7099</td>\n",
       "      <td>westview</td>\n",
       "      <td>Auto Theft</td>\n",
       "      <td>apartment parking lot</td>\n",
       "      <td>1.0</td>\n",
       "      <td>23.0</td>\n",
       "      <td>14</td>\n",
       "      <td>Thursday</td>\n",
       "      <td>Jan</td>\n",
       "      <td>1915</td>\n",
       "    </tr>\n",
       "  </tbody>\n",
       "</table>\n",
       "</div>"
      ],
      "text/plain": [
       "             Beat   BlockRange     StreetName OffenseType  \\\n",
       "Date                                                        \n",
       "1914-09-08  24C60  12700-12799   lake houston    Burglary   \n",
       "1914-11-02  18F60    8800-8899       bellaire    Burglary   \n",
       "1914-12-03  12D20  12800-12899           gulf  Auto Theft   \n",
       "1915-01-05   3B10    3200-3299  mangum rd 180       Theft   \n",
       "1915-01-14   5F10    7000-7099       westview  Auto Theft   \n",
       "\n",
       "                                          Premise  NumOffenses  Hour day  \\\n",
       "Date                                                                       \n",
       "1914-09-08                restaurant or cafeteria          1.0   7.0   8   \n",
       "1914-11-02  miscellaneous business (non-specific)          1.0   3.0   2   \n",
       "1914-12-03                                   none          1.0  19.0   3   \n",
       "1915-01-05                      other parking lot          1.0  22.0   5   \n",
       "1915-01-14                  apartment parking lot          1.0  23.0  14   \n",
       "\n",
       "             weekday month  year  \n",
       "Date                              \n",
       "1914-09-08   Tuesday   Sep  1914  \n",
       "1914-11-02    Monday   Nov  1914  \n",
       "1914-12-03  Thursday   Dec  1914  \n",
       "1915-01-05   Tuesday   Jan  1915  \n",
       "1915-01-14  Thursday   Jan  1915  "
      ]
     },
     "execution_count": 7,
     "metadata": {},
     "output_type": "execute_result"
    }
   ],
   "source": [
    "df.head()"
   ]
  },
  {
   "cell_type": "code",
   "execution_count": 8,
   "metadata": {},
   "outputs": [
    {
     "name": "stdout",
     "output_type": "stream",
     "text": [
      "<class 'pandas.core.frame.DataFrame'>\n",
      "DatetimeIndex: 1075199 entries, 1914-09-08 to 2033-04-21\n",
      "Data columns (total 11 columns):\n",
      "Beat           1075199 non-null object\n",
      "BlockRange     1075199 non-null object\n",
      "StreetName     1075192 non-null object\n",
      "OffenseType    1075199 non-null object\n",
      "Premise        1075199 non-null object\n",
      "NumOffenses    1075199 non-null float64\n",
      "Hour           1075199 non-null float64\n",
      "day            1075199 non-null object\n",
      "weekday        1075199 non-null object\n",
      "month          1075199 non-null object\n",
      "year           1075199 non-null object\n",
      "dtypes: float64(2), object(9)\n",
      "memory usage: 98.4+ MB\n"
     ]
    }
   ],
   "source": [
    "df.info()"
   ]
  },
  {
   "cell_type": "markdown",
   "metadata": {},
   "source": [
    "## Check for null values"
   ]
  },
  {
   "cell_type": "code",
   "execution_count": 9,
   "metadata": {},
   "outputs": [
    {
     "data": {
      "text/plain": [
       "<matplotlib.axes._subplots.AxesSubplot at 0x7f1dd42dd588>"
      ]
     },
     "execution_count": 9,
     "metadata": {},
     "output_type": "execute_result"
    },
    {
     "data": {
      "image/png": "[encoded data removed]",
      "text/plain": [
       "<Figure size 432x288 with 1 Axes>"
      ]
     },
     "metadata": {},
     "output_type": "display_data"
    }
   ],
   "source": [
    "sns.heatmap(df.isnull(),yticklabels=False,cbar=False,cmap='viridis')"
   ]
  },
  {
   "cell_type": "code",
   "execution_count": 10,
   "metadata": {},
   "outputs": [
    {
     "data": {
      "text/plain": [
       "Beat           0\n",
       "BlockRange     0\n",
       "StreetName     7\n",
       "OffenseType    0\n",
       "Premise        0\n",
       "NumOffenses    0\n",
       "Hour           0\n",
       "day            0\n",
       "weekday        0\n",
       "month          0\n",
       "year           0\n",
       "dtype: int64"
      ]
     },
     "execution_count": 10,
     "metadata": {},
     "output_type": "execute_result"
    }
   ],
   "source": [
    "df.apply(lambda x: sum(x.isnull()))"
   ]
  },
  {
   "cell_type": "markdown",
   "metadata": {},
   "source": [
    "## year column"
   ]
  },
  {
   "cell_type": "code",
   "execution_count": 11,
   "metadata": {},
   "outputs": [
    {
     "data": {
      "text/plain": [
       "array([1914, 1915, 1916, 1917, 1918, 1919, 1920, 1921, 1924, 1926, 1927,\n",
       "       1953, 1959, 1963, 1964, 1965, 1966, 1969, 1970, 1971, 1972, 1973,\n",
       "       1974, 1975, 1976, 1977, 1978, 1979, 1980, 1981, 1982, 1983, 1984,\n",
       "       1985, 1986, 1987, 1988, 1989, 1990, 1991, 1992, 1993, 1994, 1995,\n",
       "       1996, 1997, 1998, 1999, 2000, 2001, 2002, 2003, 2004, 2005, 2006,\n",
       "       2007, 2008, 2009, 2010, 2011, 2012, 2013, 2014, 2015, 2016, 2017,\n",
       "       2019, 2020, 2021, 2029, 2033], dtype=object)"
      ]
     },
     "execution_count": 11,
     "metadata": {},
     "output_type": "execute_result"
    }
   ],
   "source": [
    "df.year.unique()"
   ]
  },
  {
   "cell_type": "markdown",
   "metadata": {},
   "source": [
    "## Slice year from 2010 - 2017"
   ]
  },
  {
   "cell_type": "code",
   "execution_count": 12,
   "metadata": {},
   "outputs": [],
   "source": [
    "df = df['1/1/2010':'12/31/2017']"
   ]
  },
  {
   "cell_type": "code",
   "execution_count": 13,
   "metadata": {},
   "outputs": [
    {
     "name": "stdout",
     "output_type": "stream",
     "text": [
      "<class 'pandas.core.frame.DataFrame'>\n",
      "DatetimeIndex: 1072618 entries, 2010-01-01 to 2017-12-31\n",
      "Data columns (total 11 columns):\n",
      "Beat           1072618 non-null object\n",
      "BlockRange     1072618 non-null object\n",
      "StreetName     1072611 non-null object\n",
      "OffenseType    1072618 non-null object\n",
      "Premise        1072618 non-null object\n",
      "NumOffenses    1072618 non-null float64\n",
      "Hour           1072618 non-null float64\n",
      "day            1072618 non-null object\n",
      "weekday        1072618 non-null object\n",
      "month          1072618 non-null object\n",
      "year           1072618 non-null object\n",
      "dtypes: float64(2), object(9)\n",
      "memory usage: 98.2+ MB\n"
     ]
    }
   ],
   "source": [
    "df.info()"
   ]
  },
  {
   "cell_type": "code",
   "execution_count": 14,
   "metadata": {},
   "outputs": [
    {
     "name": "stdout",
     "output_type": "stream",
     "text": [
      "             Beat   BlockRange   StreetName         OffenseType  \\\n",
      "Date                                                              \n",
      "2010-01-01   5F30  13200-13299    northwest               Theft   \n",
      "2010-01-01  20G10    9900-9999     richmond               Theft   \n",
      "2010-01-01  14D20    8500-8599        rubin  Aggravated Assault   \n",
      "2010-01-01  14D40    4200-4299  friar point            Burglary   \n",
      "2010-01-01  10H70    4800-4899       austin            Burglary   \n",
      "\n",
      "                              Premise  NumOffenses  Hour day weekday month  \\\n",
      "Date                                                                         \n",
      "2010-01-01  department/discount store          1.0  22.0   1  Friday   Jan   \n",
      "2010-01-01      apartment parking lot          1.0  16.0   1  Friday   Jan   \n",
      "2010-01-01       road/street/sidewalk          1.0   7.0   1  Friday   Jan   \n",
      "2010-01-01            residence/house          1.0  20.0   1  Friday   Jan   \n",
      "2010-01-01            residence/house          1.0  21.0   1  Friday   Jan   \n",
      "\n",
      "            year  \n",
      "Date              \n",
      "2010-01-01  2010  \n",
      "2010-01-01  2010  \n",
      "2010-01-01  2010  \n",
      "2010-01-01  2010  \n",
      "2010-01-01  2010  \n"
     ]
    }
   ],
   "source": [
    "print(df.head())"
   ]
  },
  {
   "cell_type": "code",
   "execution_count": 15,
   "metadata": {},
   "outputs": [
    {
     "data": {
      "text/plain": [
       "Beat           0\n",
       "BlockRange     0\n",
       "StreetName     7\n",
       "OffenseType    0\n",
       "Premise        0\n",
       "NumOffenses    0\n",
       "Hour           0\n",
       "day            0\n",
       "weekday        0\n",
       "month          0\n",
       "year           0\n",
       "dtype: int64"
      ]
     },
     "execution_count": 15,
     "metadata": {},
     "output_type": "execute_result"
    }
   ],
   "source": [
    "df.apply(lambda x: sum(x.isnull()))"
   ]
  },
  {
   "cell_type": "code",
   "execution_count": 16,
   "metadata": {},
   "outputs": [
    {
     "data": {
      "text/plain": [
       "Beat            object\n",
       "BlockRange      object\n",
       "StreetName      object\n",
       "OffenseType     object\n",
       "Premise         object\n",
       "NumOffenses    float64\n",
       "Hour           float64\n",
       "day             object\n",
       "weekday         object\n",
       "month           object\n",
       "year            object\n",
       "dtype: object"
      ]
     },
     "execution_count": 16,
     "metadata": {},
     "output_type": "execute_result"
    }
   ],
   "source": [
    "df.dtypes"
   ]
  },
  {
   "cell_type": "markdown",
   "metadata": {},
   "source": [
    "## Select Beats\n",
    "\n",
    "- 10H10\n",
    "- 10H30\n",
    "- 10H40\n",
    "- 10H50\n",
    "- 10H60\n",
    "- 10H70\n",
    "- 10H80\n",
    "- 15E40\n",
    "- 1A10"
   ]
  },
  {
   "cell_type": "code",
   "execution_count": 17,
   "metadata": {},
   "outputs": [],
   "source": [
    "beats = ['10H10','10H30', '10H40', '10H50', '10H60','10H70', '10H80', '15E40', '1A10']"
   ]
  },
  {
   "cell_type": "code",
   "execution_count": 18,
   "metadata": {},
   "outputs": [
    {
     "data": {
      "text/html": [
       "<div>\n",
       "<style scoped>\n",
       "    .dataframe tbody tr th:only-of-type {\n",
       "        vertical-align: middle;\n",
       "    }\n",
       "\n",
       "    .dataframe tbody tr th {\n",
       "        vertical-align: top;\n",
       "    }\n",
       "\n",
       "    .dataframe thead th {\n",
       "        text-align: right;\n",
       "    }\n",
       "</style>\n",
       "<table border=\"1\" class=\"dataframe\">\n",
       "  <thead>\n",
       "    <tr style=\"text-align: right;\">\n",
       "      <th></th>\n",
       "      <th>Beat</th>\n",
       "      <th>BlockRange</th>\n",
       "      <th>StreetName</th>\n",
       "      <th>OffenseType</th>\n",
       "      <th>Premise</th>\n",
       "      <th>NumOffenses</th>\n",
       "      <th>Hour</th>\n",
       "      <th>day</th>\n",
       "      <th>weekday</th>\n",
       "      <th>month</th>\n",
       "      <th>year</th>\n",
       "    </tr>\n",
       "    <tr>\n",
       "      <th>Date</th>\n",
       "      <th></th>\n",
       "      <th></th>\n",
       "      <th></th>\n",
       "      <th></th>\n",
       "      <th></th>\n",
       "      <th></th>\n",
       "      <th></th>\n",
       "      <th></th>\n",
       "      <th></th>\n",
       "      <th></th>\n",
       "      <th></th>\n",
       "    </tr>\n",
       "  </thead>\n",
       "  <tbody>\n",
       "    <tr>\n",
       "      <th>2010-01-01</th>\n",
       "      <td>5F30</td>\n",
       "      <td>13200-13299</td>\n",
       "      <td>northwest</td>\n",
       "      <td>Theft</td>\n",
       "      <td>department/discount store</td>\n",
       "      <td>1.0</td>\n",
       "      <td>22.0</td>\n",
       "      <td>1</td>\n",
       "      <td>Friday</td>\n",
       "      <td>Jan</td>\n",
       "      <td>2010</td>\n",
       "    </tr>\n",
       "    <tr>\n",
       "      <th>2010-01-01</th>\n",
       "      <td>20G10</td>\n",
       "      <td>9900-9999</td>\n",
       "      <td>richmond</td>\n",
       "      <td>Theft</td>\n",
       "      <td>apartment parking lot</td>\n",
       "      <td>1.0</td>\n",
       "      <td>16.0</td>\n",
       "      <td>1</td>\n",
       "      <td>Friday</td>\n",
       "      <td>Jan</td>\n",
       "      <td>2010</td>\n",
       "    </tr>\n",
       "    <tr>\n",
       "      <th>2010-01-01</th>\n",
       "      <td>14D20</td>\n",
       "      <td>8500-8599</td>\n",
       "      <td>rubin</td>\n",
       "      <td>Aggravated Assault</td>\n",
       "      <td>road/street/sidewalk</td>\n",
       "      <td>1.0</td>\n",
       "      <td>7.0</td>\n",
       "      <td>1</td>\n",
       "      <td>Friday</td>\n",
       "      <td>Jan</td>\n",
       "      <td>2010</td>\n",
       "    </tr>\n",
       "    <tr>\n",
       "      <th>2010-01-01</th>\n",
       "      <td>14D40</td>\n",
       "      <td>4200-4299</td>\n",
       "      <td>friar point</td>\n",
       "      <td>Burglary</td>\n",
       "      <td>residence/house</td>\n",
       "      <td>1.0</td>\n",
       "      <td>20.0</td>\n",
       "      <td>1</td>\n",
       "      <td>Friday</td>\n",
       "      <td>Jan</td>\n",
       "      <td>2010</td>\n",
       "    </tr>\n",
       "    <tr>\n",
       "      <th>2010-01-01</th>\n",
       "      <td>10H70</td>\n",
       "      <td>4800-4899</td>\n",
       "      <td>austin</td>\n",
       "      <td>Burglary</td>\n",
       "      <td>residence/house</td>\n",
       "      <td>1.0</td>\n",
       "      <td>21.0</td>\n",
       "      <td>1</td>\n",
       "      <td>Friday</td>\n",
       "      <td>Jan</td>\n",
       "      <td>2010</td>\n",
       "    </tr>\n",
       "  </tbody>\n",
       "</table>\n",
       "</div>"
      ],
      "text/plain": [
       "             Beat   BlockRange   StreetName         OffenseType  \\\n",
       "Date                                                              \n",
       "2010-01-01   5F30  13200-13299    northwest               Theft   \n",
       "2010-01-01  20G10    9900-9999     richmond               Theft   \n",
       "2010-01-01  14D20    8500-8599        rubin  Aggravated Assault   \n",
       "2010-01-01  14D40    4200-4299  friar point            Burglary   \n",
       "2010-01-01  10H70    4800-4899       austin            Burglary   \n",
       "\n",
       "                              Premise  NumOffenses  Hour day weekday month  \\\n",
       "Date                                                                         \n",
       "2010-01-01  department/discount store          1.0  22.0   1  Friday   Jan   \n",
       "2010-01-01      apartment parking lot          1.0  16.0   1  Friday   Jan   \n",
       "2010-01-01       road/street/sidewalk          1.0   7.0   1  Friday   Jan   \n",
       "2010-01-01            residence/house          1.0  20.0   1  Friday   Jan   \n",
       "2010-01-01            residence/house          1.0  21.0   1  Friday   Jan   \n",
       "\n",
       "            year  \n",
       "Date              \n",
       "2010-01-01  2010  \n",
       "2010-01-01  2010  \n",
       "2010-01-01  2010  \n",
       "2010-01-01  2010  \n",
       "2010-01-01  2010  "
      ]
     },
     "execution_count": 18,
     "metadata": {},
     "output_type": "execute_result"
    }
   ],
   "source": [
    "df.head()"
   ]
  },
  {
   "cell_type": "code",
   "execution_count": 19,
   "metadata": {},
   "outputs": [
    {
     "data": {
      "text/plain": [
       "1A10     30650\n",
       "10H70    22846\n",
       "19G10    21422\n",
       "12D10    21242\n",
       "1A20     20938\n",
       "10H40    20920\n",
       "6B60     20067\n",
       "13D20    19135\n",
       "3B10     18199\n",
       "18F20    17541\n",
       "Name: Beat, dtype: int64"
      ]
     },
     "execution_count": 19,
     "metadata": {},
     "output_type": "execute_result"
    }
   ],
   "source": [
    "df.Beat.value_counts(dropna=False)[:10]"
   ]
  },
  {
   "cell_type": "code",
   "execution_count": 20,
   "metadata": {},
   "outputs": [],
   "source": [
    "selected_beats = df.Beat.isin(beats)"
   ]
  },
  {
   "cell_type": "code",
   "execution_count": 21,
   "metadata": {},
   "outputs": [
    {
     "data": {
      "text/plain": [
       "Date\n",
       "2010-01-01    False\n",
       "2010-01-01    False\n",
       "2010-01-01    False\n",
       "2010-01-01    False\n",
       "2010-01-01     True\n",
       "Name: Beat, dtype: bool"
      ]
     },
     "execution_count": 21,
     "metadata": {},
     "output_type": "execute_result"
    }
   ],
   "source": [
    "selected_beats.head()"
   ]
  },
  {
   "cell_type": "markdown",
   "metadata": {},
   "source": [
    "## Split selected beats and save "
   ]
  },
  {
   "cell_type": "code",
   "execution_count": 22,
   "metadata": {},
   "outputs": [],
   "source": [
    "df = df[selected_beats]"
   ]
  },
  {
   "cell_type": "code",
   "execution_count": 23,
   "metadata": {},
   "outputs": [
    {
     "name": "stdout",
     "output_type": "stream",
     "text": [
      "<class 'pandas.core.frame.DataFrame'>\n",
      "DatetimeIndex: 154132 entries, 2010-01-01 to 2017-12-31\n",
      "Data columns (total 11 columns):\n",
      "Beat           154132 non-null object\n",
      "BlockRange     154132 non-null object\n",
      "StreetName     154132 non-null object\n",
      "OffenseType    154132 non-null object\n",
      "Premise        154132 non-null object\n",
      "NumOffenses    154132 non-null float64\n",
      "Hour           154132 non-null float64\n",
      "day            154132 non-null object\n",
      "weekday        154132 non-null object\n",
      "month          154132 non-null object\n",
      "year           154132 non-null object\n",
      "dtypes: float64(2), object(9)\n",
      "memory usage: 14.1+ MB\n"
     ]
    }
   ],
   "source": [
    "df.info()"
   ]
  },
  {
   "cell_type": "code",
   "execution_count": 25,
   "metadata": {},
   "outputs": [
    {
     "data": {
      "text/html": [
       "<div>\n",
       "<style scoped>\n",
       "    .dataframe tbody tr th:only-of-type {\n",
       "        vertical-align: middle;\n",
       "    }\n",
       "\n",
       "    .dataframe tbody tr th {\n",
       "        vertical-align: top;\n",
       "    }\n",
       "\n",
       "    .dataframe thead th {\n",
       "        text-align: right;\n",
       "    }\n",
       "</style>\n",
       "<table border=\"1\" class=\"dataframe\">\n",
       "  <thead>\n",
       "    <tr style=\"text-align: right;\">\n",
       "      <th></th>\n",
       "      <th>Beat</th>\n",
       "      <th>BlockRange</th>\n",
       "      <th>StreetName</th>\n",
       "      <th>OffenseType</th>\n",
       "      <th>Premise</th>\n",
       "      <th>NumOffenses</th>\n",
       "      <th>Hour</th>\n",
       "      <th>day</th>\n",
       "      <th>weekday</th>\n",
       "      <th>month</th>\n",
       "      <th>year</th>\n",
       "    </tr>\n",
       "    <tr>\n",
       "      <th>Date</th>\n",
       "      <th></th>\n",
       "      <th></th>\n",
       "      <th></th>\n",
       "      <th></th>\n",
       "      <th></th>\n",
       "      <th></th>\n",
       "      <th></th>\n",
       "      <th></th>\n",
       "      <th></th>\n",
       "      <th></th>\n",
       "      <th></th>\n",
       "    </tr>\n",
       "  </thead>\n",
       "  <tbody>\n",
       "    <tr>\n",
       "      <th>2010-01-01</th>\n",
       "      <td>10H70</td>\n",
       "      <td>4800-4899</td>\n",
       "      <td>austin</td>\n",
       "      <td>Burglary</td>\n",
       "      <td>residence/house</td>\n",
       "      <td>1.0</td>\n",
       "      <td>21.0</td>\n",
       "      <td>1</td>\n",
       "      <td>Friday</td>\n",
       "      <td>Jan</td>\n",
       "      <td>2010</td>\n",
       "    </tr>\n",
       "    <tr>\n",
       "      <th>2010-01-01</th>\n",
       "      <td>10H50</td>\n",
       "      <td>3100-3199</td>\n",
       "      <td>ennis</td>\n",
       "      <td>Aggravated Assault</td>\n",
       "      <td>road/street/sidewalk</td>\n",
       "      <td>1.0</td>\n",
       "      <td>18.0</td>\n",
       "      <td>1</td>\n",
       "      <td>Friday</td>\n",
       "      <td>Jan</td>\n",
       "      <td>2010</td>\n",
       "    </tr>\n",
       "    <tr>\n",
       "      <th>2010-01-01</th>\n",
       "      <td>1A10</td>\n",
       "      <td>400-499</td>\n",
       "      <td>caroline</td>\n",
       "      <td>Theft</td>\n",
       "      <td>road/street/sidewalk</td>\n",
       "      <td>1.0</td>\n",
       "      <td>2.0</td>\n",
       "      <td>1</td>\n",
       "      <td>Friday</td>\n",
       "      <td>Jan</td>\n",
       "      <td>2010</td>\n",
       "    </tr>\n",
       "    <tr>\n",
       "      <th>2010-01-01</th>\n",
       "      <td>10H70</td>\n",
       "      <td>6500-6599</td>\n",
       "      <td>fannin</td>\n",
       "      <td>Aggravated Assault</td>\n",
       "      <td>hospital</td>\n",
       "      <td>1.0</td>\n",
       "      <td>19.0</td>\n",
       "      <td>1</td>\n",
       "      <td>Friday</td>\n",
       "      <td>Jan</td>\n",
       "      <td>2010</td>\n",
       "    </tr>\n",
       "    <tr>\n",
       "      <th>2010-01-01</th>\n",
       "      <td>10H60</td>\n",
       "      <td>4000-4099</td>\n",
       "      <td>canfield</td>\n",
       "      <td>Robbery</td>\n",
       "      <td>bank/saving institution parking lot</td>\n",
       "      <td>1.0</td>\n",
       "      <td>4.0</td>\n",
       "      <td>1</td>\n",
       "      <td>Friday</td>\n",
       "      <td>Jan</td>\n",
       "      <td>2010</td>\n",
       "    </tr>\n",
       "  </tbody>\n",
       "</table>\n",
       "</div>"
      ],
      "text/plain": [
       "             Beat BlockRange StreetName         OffenseType  \\\n",
       "Date                                                          \n",
       "2010-01-01  10H70  4800-4899     austin            Burglary   \n",
       "2010-01-01  10H50  3100-3199      ennis  Aggravated Assault   \n",
       "2010-01-01   1A10    400-499   caroline               Theft   \n",
       "2010-01-01  10H70  6500-6599     fannin  Aggravated Assault   \n",
       "2010-01-01  10H60  4000-4099   canfield             Robbery   \n",
       "\n",
       "                                        Premise  NumOffenses  Hour day  \\\n",
       "Date                                                                     \n",
       "2010-01-01                      residence/house          1.0  21.0   1   \n",
       "2010-01-01                 road/street/sidewalk          1.0  18.0   1   \n",
       "2010-01-01                 road/street/sidewalk          1.0   2.0   1   \n",
       "2010-01-01                             hospital          1.0  19.0   1   \n",
       "2010-01-01  bank/saving institution parking lot          1.0   4.0   1   \n",
       "\n",
       "           weekday month  year  \n",
       "Date                            \n",
       "2010-01-01  Friday   Jan  2010  \n",
       "2010-01-01  Friday   Jan  2010  \n",
       "2010-01-01  Friday   Jan  2010  \n",
       "2010-01-01  Friday   Jan  2010  \n",
       "2010-01-01  Friday   Jan  2010  "
      ]
     },
     "execution_count": 25,
     "metadata": {},
     "output_type": "execute_result"
    }
   ],
   "source": [
    "df.head()"
   ]
  },
  {
   "cell_type": "markdown",
   "metadata": {},
   "source": [
    "## Cleanup Hour col"
   ]
  },
  {
   "cell_type": "code",
   "execution_count": 26,
   "metadata": {},
   "outputs": [
    {
     "data": {
      "text/plain": [
       "12.0    8505\n",
       "18.0    8419\n",
       "17.0    8419\n",
       "15.0    8094\n",
       "16.0    7949\n",
       "0.0     7910\n",
       "10.0    7748\n",
       "14.0    7670\n",
       "11.0    7565\n",
       "22.0    7563\n",
       "9.0     7560\n",
       "19.0    7508\n",
       "8.0     7218\n",
       "13.0    7217\n",
       "20.0    7148\n",
       "21.0    6859\n",
       "23.0    6680\n",
       "7.0     5272\n",
       "1.0     4450\n",
       "2.0     4250\n",
       "6.0     3295\n",
       "3.0     2841\n",
       "5.0     2002\n",
       "4.0     1988\n",
       "24.0       2\n",
       "Name: Hour, dtype: int64"
      ]
     },
     "execution_count": 26,
     "metadata": {},
     "output_type": "execute_result"
    }
   ],
   "source": [
    "df.Hour.value_counts()"
   ]
  },
  {
   "cell_type": "code",
   "execution_count": 27,
   "metadata": {},
   "outputs": [],
   "source": [
    "df.Hour = df.Hour.astype('int')"
   ]
  },
  {
   "cell_type": "code",
   "execution_count": 28,
   "metadata": {},
   "outputs": [
    {
     "data": {
      "text/plain": [
       "12    8505\n",
       "18    8419\n",
       "17    8419\n",
       "15    8094\n",
       "16    7949\n",
       "0     7910\n",
       "10    7748\n",
       "14    7670\n",
       "11    7565\n",
       "22    7563\n",
       "9     7560\n",
       "19    7508\n",
       "8     7218\n",
       "13    7217\n",
       "20    7148\n",
       "21    6859\n",
       "23    6680\n",
       "7     5272\n",
       "1     4450\n",
       "2     4250\n",
       "6     3295\n",
       "3     2841\n",
       "5     2002\n",
       "4     1988\n",
       "24       2\n",
       "Name: Hour, dtype: int64"
      ]
     },
     "execution_count": 28,
     "metadata": {},
     "output_type": "execute_result"
    }
   ],
   "source": [
    "df.Hour.value_counts()"
   ]
  },
  {
   "cell_type": "code",
   "execution_count": 29,
   "metadata": {},
   "outputs": [],
   "source": [
    "## change 24 to 0 value\n",
    "df.Hour.replace(24,0,inplace=True)"
   ]
  },
  {
   "cell_type": "code",
   "execution_count": 30,
   "metadata": {},
   "outputs": [
    {
     "data": {
      "text/plain": [
       "12    8505\n",
       "18    8419\n",
       "17    8419\n",
       "15    8094\n",
       "16    7949\n",
       "0     7912\n",
       "10    7748\n",
       "14    7670\n",
       "11    7565\n",
       "22    7563\n",
       "9     7560\n",
       "19    7508\n",
       "8     7218\n",
       "13    7217\n",
       "20    7148\n",
       "21    6859\n",
       "23    6680\n",
       "7     5272\n",
       "1     4450\n",
       "2     4250\n",
       "6     3295\n",
       "3     2841\n",
       "5     2002\n",
       "4     1988\n",
       "Name: Hour, dtype: int64"
      ]
     },
     "execution_count": 30,
     "metadata": {},
     "output_type": "execute_result"
    }
   ],
   "source": [
    "df.Hour.value_counts()"
   ]
  },
  {
   "cell_type": "markdown",
   "metadata": {},
   "source": [
    "## Aggregate Premise values"
   ]
  },
  {
   "cell_type": "code",
   "execution_count": 31,
   "metadata": {},
   "outputs": [
    {
     "data": {
      "text/plain": [
       "197"
      ]
     },
     "execution_count": 31,
     "metadata": {},
     "output_type": "execute_result"
    }
   ],
   "source": [
    "len(df.Premise.value_counts())"
   ]
  },
  {
   "cell_type": "code",
   "execution_count": 32,
   "metadata": {},
   "outputs": [
    {
     "data": {
      "text/plain": [
       "road, street, or sidewalk        14727\n",
       "road/street/sidewalk             13848\n",
       "apartment                         9763\n",
       "apartment parking lot             9587\n",
       "other parking lot                 8834\n",
       "residence/house                   7075\n",
       "residence or house                6363\n",
       "none                              6254\n",
       "commercial parking lot/garage     4686\n",
       "hospital                          4282\n",
       "Name: Premise, dtype: int64"
      ]
     },
     "execution_count": 32,
     "metadata": {},
     "output_type": "execute_result"
    }
   ],
   "source": [
    "df.Premise.value_counts()[:10]"
   ]
  },
  {
   "cell_type": "markdown",
   "metadata": {},
   "source": [
    "## display most common word"
   ]
  },
  {
   "cell_type": "code",
   "execution_count": 33,
   "metadata": {},
   "outputs": [
    {
     "data": {
      "text/plain": [
       "[('parking', 39018),\n",
       " ('or', 37971),\n",
       " ('lot', 34332),\n",
       " ('apartment', 19505),\n",
       " ('road,', 14727),\n",
       " ('street,', 14727),\n",
       " ('sidewalk', 14727),\n",
       " ('road/street/sidewalk', 13848),\n",
       " ('commercial', 9665),\n",
       " ('other', 9060),\n",
       " ('store', 8234),\n",
       " ('residence/house', 7075),\n",
       " ('residence', 6725),\n",
       " ('house', 6363),\n",
       " ('none', 6254),\n",
       " ('club', 6095),\n",
       " ('hospital', 5318),\n",
       " ('lot/garage', 4686),\n",
       " ('garage', 4381),\n",
       " ('driveway', 3680),\n",
       " ('building', 3638),\n",
       " ('other/unknown', 3589),\n",
       " ('restaurant/cafeteria', 3256),\n",
       " ('station', 3241),\n",
       " ('bar/night', 3238),\n",
       " ('restaurant', 3042),\n",
       " ('cafeteria', 3001),\n",
       " ('business', 2967),\n",
       " ('convenience', 2637),\n",
       " ('(non-specific)', 2525),\n",
       " ('bar', 2448),\n",
       " ('night', 2448),\n",
       " ('pool', 2179),\n",
       " ('grocery/supermarket', 2089),\n",
       " ('office', 2065),\n",
       " ('parks', 2063),\n",
       " ('recreation,', 2063),\n",
       " ('zoo,', 2063),\n",
       " ('department/discount', 1776),\n",
       " ('bus', 1662),\n",
       " ('not', 1454),\n",
       " ('listed', 1454),\n",
       " ('other,', 1445),\n",
       " ('unknown,', 1445),\n",
       " ('vacant', 1420),\n",
       " ('service', 1414),\n",
       " ('center', 1405),\n",
       " ('and', 1379),\n",
       " ('gas', 1310),\n",
       " ('grocery', 1229)]"
      ]
     },
     "execution_count": 33,
     "metadata": {},
     "output_type": "execute_result"
    }
   ],
   "source": [
    "Counter(\" \".join(df.Premise).split()).most_common(50)"
   ]
  },
  {
   "cell_type": "code",
   "execution_count": 34,
   "metadata": {},
   "outputs": [],
   "source": [
    "# remove slash, commas, parenthesis and empty spaces\n",
    "df.Premise = df.Premise.str.replace('/', ' ').str.replace(',', ' ').str.replace('(', '').str.replace(')', '').str.strip()"
   ]
  },
  {
   "cell_type": "code",
   "execution_count": 35,
   "metadata": {},
   "outputs": [
    {
     "data": {
      "text/plain": [
       "196"
      ]
     },
     "execution_count": 35,
     "metadata": {},
     "output_type": "execute_result"
    }
   ],
   "source": [
    "len(df.Premise.value_counts())"
   ]
  },
  {
   "cell_type": "code",
   "execution_count": 36,
   "metadata": {},
   "outputs": [
    {
     "data": {
      "text/plain": [
       "church synagogue temple                     393\n",
       "church synagogue temple parking lot         258\n",
       "church  synagogue  or temple parking lot    210\n",
       "church  synagogue  or temple                164\n",
       "vacant church synagogue temple               10\n",
       "vacant church  synagogue  or temple           8\n",
       "Name: Premise, dtype: int64"
      ]
     },
     "execution_count": 36,
     "metadata": {},
     "output_type": "execute_result"
    }
   ],
   "source": [
    "com = df.Premise.str.contains('church')\n",
    "df[com].Premise.value_counts()"
   ]
  },
  {
   "cell_type": "code",
   "execution_count": 37,
   "metadata": {},
   "outputs": [
    {
     "data": {
      "text/plain": [
       "church        575\n",
       "church prk    468\n",
       "Name: Premise, dtype: int64"
      ]
     },
     "execution_count": 37,
     "metadata": {},
     "output_type": "execute_result"
    }
   ],
   "source": [
    "df.Premise = df.Premise.str.replace('church synagogue temple', 'church')\n",
    "df.Premise = df.Premise.str.replace('church  synagogue  or temple', 'church')\n",
    "df.Premise = df.Premise.str.replace('vacant church synagogue temple', 'church')\n",
    "df.Premise = df.Premise.str.replace('vacant church  synagogue  or temple', 'church')\n",
    "df.Premise = df.Premise.str.replace('vacant church', 'church')\n",
    "df.Premise = df.Premise.str.replace('church parking lot', 'church prk')\n",
    "\n",
    "com = df.Premise.str.contains('church')\n",
    "df[com].Premise.value_counts()"
   ]
  },
  {
   "cell_type": "code",
   "execution_count": 38,
   "metadata": {},
   "outputs": [
    {
     "data": {
      "text/plain": [
       "road  street  or sidewalk    14727\n",
       "road street sidewalk         13848\n",
       "Name: Premise, dtype: int64"
      ]
     },
     "execution_count": 38,
     "metadata": {},
     "output_type": "execute_result"
    }
   ],
   "source": [
    "com = df.Premise.str.contains('street')\n",
    "df[com].Premise.value_counts()"
   ]
  },
  {
   "cell_type": "code",
   "execution_count": 39,
   "metadata": {},
   "outputs": [],
   "source": [
    "df.Premise = df.Premise.str.replace('road street sidewalk', 'street')"
   ]
  },
  {
   "cell_type": "code",
   "execution_count": 40,
   "metadata": {},
   "outputs": [
    {
     "data": {
      "text/plain": [
       "commercial parking lot garage       4686\n",
       "commercial parking lot or garage    3500\n",
       "commercial building                 1440\n",
       "vacant building commercial           234\n",
       "commercial or training school         39\n",
       "Name: Premise, dtype: int64"
      ]
     },
     "execution_count": 40,
     "metadata": {},
     "output_type": "execute_result"
    }
   ],
   "source": [
    "com = df.Premise.str.contains('commercial')\n",
    "df[com].Premise.value_counts()"
   ]
  },
  {
   "cell_type": "code",
   "execution_count": 41,
   "metadata": {},
   "outputs": [],
   "source": [
    "df.Premise = df.Premise.str.replace('commercial parking lot garage', 'comm prk')\n",
    "df.Premise = df.Premise.str.replace('commercial parking lot or garage', 'comm prk')\n",
    "df.Premise = df.Premise.str.replace('commercial building', 'comm bld')\n",
    "df.Premise = df.Premise.str.replace('vacant building commercial', 'comm bld')\n",
    "df.Premise = df.Premise.str.replace('commercial or training school', 'comm bld')"
   ]
  },
  {
   "cell_type": "code",
   "execution_count": 42,
   "metadata": {},
   "outputs": [
    {
     "data": {
      "text/plain": [
       "comm prk            8186\n",
       "comm bld            1713\n",
       "mall common area      66\n",
       "Name: Premise, dtype: int64"
      ]
     },
     "execution_count": 42,
     "metadata": {},
     "output_type": "execute_result"
    }
   ],
   "source": [
    "com = df.Premise.str.contains('comm')\n",
    "df[com].Premise.value_counts()"
   ]
  },
  {
   "cell_type": "code",
   "execution_count": 43,
   "metadata": {},
   "outputs": [
    {
     "data": {
      "text/plain": [
       "hotel        2065\n",
       "hotel prk    1725\n",
       "Name: Premise, dtype: int64"
      ]
     },
     "execution_count": 43,
     "metadata": {},
     "output_type": "execute_result"
    }
   ],
   "source": [
    "## hotel/motel\n",
    "\n",
    "hot = df.Premise.str.contains('hotel')\n",
    "df[hot].Premise.value_counts()\n",
    "\n",
    "df.Premise = df.Premise.str.replace('hotel motel etc.', 'hotel')\n",
    "df.Premise = df.Premise.str.replace('hotel  motel  inn  etc.', 'hotel')\n",
    "df.Premise = df.Premise.str.replace('hotel or motel parking lot', 'hotel prk')\n",
    "df.Premise = df.Premise.str.replace('hotel motel parking lot', 'hotel prk')\n",
    "df.Premise = df.Premise.str.replace('vacant hotel motel etc.', 'hotel')\n",
    "df.Premise = df.Premise.str.replace('vacant hotel  motel  etc.', 'hotel')\n",
    "df.Premise = df.Premise.str.replace('vacant hotel', 'hotel')\n",
    "\n",
    "\n",
    "hot = df.Premise.str.contains('hotel')\n",
    "df[hot].Premise.value_counts()"
   ]
  },
  {
   "cell_type": "code",
   "execution_count": 44,
   "metadata": {},
   "outputs": [
    {
     "data": {
      "text/plain": [
       "apartment                                                      9763\n",
       "apartment parking lot                                          9587\n",
       "apartment rental office                                         202\n",
       "vacant other residential apartment dorms                         84\n",
       "vacant other residential apartment inn dorms boarding house      59\n",
       "apartment laundry                                                52\n",
       "Name: Premise, dtype: int64"
      ]
     },
     "execution_count": 44,
     "metadata": {},
     "output_type": "execute_result"
    }
   ],
   "source": [
    "## apartments\n",
    "wrd = df.Premise.str.contains('apartment')\n",
    "df[wrd].Premise.value_counts()"
   ]
  },
  {
   "cell_type": "code",
   "execution_count": 45,
   "metadata": {},
   "outputs": [
    {
     "data": {
      "text/plain": [
       "apartment        10160\n",
       "apartment prk     9587\n",
       "Name: Premise, dtype: int64"
      ]
     },
     "execution_count": 45,
     "metadata": {},
     "output_type": "execute_result"
    }
   ],
   "source": [
    "df.Premise = df.Premise.str.replace('apartment parking lot', 'apartment prk')\n",
    "df.Premise = df.Premise.str.replace('apartment rental office', 'apartment')\n",
    "df.Premise = df.Premise.str.replace('vacant other residential apartment dorms', 'apartment')\n",
    "df.Premise = df.Premise.str.replace('vacant other residential apartment inn dorms boarding house', 'apartment')\n",
    "df.Premise = df.Premise.str.replace('apartment laundry', 'apartment')\n",
    "\n",
    "wrd = df.Premise.str.contains('apartment')\n",
    "df[wrd].Premise.value_counts()"
   ]
  },
  {
   "cell_type": "code",
   "execution_count": 46,
   "metadata": {},
   "outputs": [
    {
     "data": {
      "text/plain": [
       "residence house                                                       7075\n",
       "residence or house                                                    6363\n",
       "vacant single occ resdhouse townhs dplex                               367\n",
       "vacant single occupancy residence houses townhouses duplexes  etc.     362\n",
       "warehouse                                                              301\n",
       "gym  recreat  club house  indoor pool  spa                             278\n",
       "gym  recreat  club house  indoor pool                                   93\n",
       "vacant storage fac barn garage warehouse                                24\n",
       "vacant storage facility barns garages warehouses etc.                    6\n",
       "Name: Premise, dtype: int64"
      ]
     },
     "execution_count": 46,
     "metadata": {},
     "output_type": "execute_result"
    }
   ],
   "source": [
    "## house\n",
    "wrd = df.Premise.str.contains('house')\n",
    "df[wrd].Premise.value_counts()"
   ]
  },
  {
   "cell_type": "code",
   "execution_count": 48,
   "metadata": {},
   "outputs": [
    {
     "data": {
      "text/plain": [
       "house                                                    14167\n",
       "warehouse                                                  301\n",
       "gym  recreat  club house  indoor pool  spa                 278\n",
       "gym  recreat  club house  indoor pool                       93\n",
       "vacant storage fac barn garage warehouse                    24\n",
       "vacant storage facility barns garages warehouses etc.        6\n",
       "Name: Premise, dtype: int64"
      ]
     },
     "execution_count": 48,
     "metadata": {},
     "output_type": "execute_result"
    }
   ],
   "source": [
    "df.Premise = df.Premise.str.replace('residence house', 'house')\n",
    "df.Premise = df.Premise.str.replace('residence or house', 'house')\n",
    "df.Premise = df.Premise.str.replace('vacant single occupancy residence houses townhouses duplexes  etc.', 'house')\n",
    "df.Premise = df.Premise.str.replace('vacant single occ resdhouse townhs dplex', 'house')\n",
    "df.Premise = df.Premise.str.replace('vacant single occupancy houses townhouses duplexes  etc.', 'house')\n",
    "\n",
    "wrd = df.Premise.str.contains('house')\n",
    "df[wrd].Premise.value_counts()"
   ]
  },
  {
   "cell_type": "code",
   "execution_count": 49,
   "metadata": {},
   "outputs": [
    {
     "data": {
      "text/plain": [
       "warehouse                                                301\n",
       "vacant storage fac barn garage warehouse                  24\n",
       "vacant storage facility barns garages warehouses etc.      6\n",
       "Name: Premise, dtype: int64"
      ]
     },
     "execution_count": 49,
     "metadata": {},
     "output_type": "execute_result"
    }
   ],
   "source": [
    "# warehouse\n",
    "wrd = df.Premise.str.contains('warehouse')\n",
    "df[wrd].Premise.value_counts()"
   ]
  },
  {
   "cell_type": "code",
   "execution_count": 50,
   "metadata": {},
   "outputs": [
    {
     "data": {
      "text/plain": [
       "warehouse                                                325\n",
       "vacant storage facility barns garages warehouses etc.      6\n",
       "Name: Premise, dtype: int64"
      ]
     },
     "execution_count": 50,
     "metadata": {},
     "output_type": "execute_result"
    }
   ],
   "source": [
    "df.Premise = df.Premise.str.replace('vacant storage fac barn garage warehouse', 'warehouse')\n",
    "\n",
    "\n",
    "wrd = df.Premise.str.contains('warehouse')\n",
    "df[wrd].Premise.value_counts()"
   ]
  },
  {
   "cell_type": "code",
   "execution_count": 51,
   "metadata": {},
   "outputs": [
    {
     "data": {
      "text/plain": [
       "bar night club                                           1961\n",
       "bar or night club                                        1406\n",
       "bar night club parking lot                               1277\n",
       "bar or night club parking lot                            1042\n",
       "barber and beauty shops                                   179\n",
       "vacant storage facility barns garages warehouses etc.       6\n",
       "Name: Premise, dtype: int64"
      ]
     },
     "execution_count": 51,
     "metadata": {},
     "output_type": "execute_result"
    }
   ],
   "source": [
    "# bar\n",
    "wrd = df.Premise.str.contains('bar')\n",
    "df[wrd].Premise.value_counts()"
   ]
  },
  {
   "cell_type": "code",
   "execution_count": 52,
   "metadata": {},
   "outputs": [
    {
     "data": {
      "text/plain": [
       "bar_nc                                                   3367\n",
       "bar_nc parking lot                                       2319\n",
       "barber and beauty shops                                   179\n",
       "vacant storage facility barns garages warehouses etc.       6\n",
       "Name: Premise, dtype: int64"
      ]
     },
     "execution_count": 52,
     "metadata": {},
     "output_type": "execute_result"
    }
   ],
   "source": [
    "#df.Premise = df.Premise.str.replace('', '')\n",
    "df.Premise = df.Premise.str.replace('bar night club', 'bar_nc')\n",
    "\n",
    "df.Premise = df.Premise.str.replace('bar or night club', 'bar_nc')\n",
    "\n",
    "df.Premise = df.Premise.str.replace('bar or night club parking lot', 'bar_nc prk')\n",
    "\n",
    "wrd = df.Premise.str.contains('bar')\n",
    "df[wrd].Premise.value_counts()"
   ]
  },
  {
   "cell_type": "code",
   "execution_count": 53,
   "metadata": {},
   "outputs": [
    {
     "data": {
      "text/plain": [
       "other parking lot                           8834\n",
       "bar_nc parking lot                          2319\n",
       "restaurant or cafeteria parking lot         1874\n",
       "restaurant cafeteria parking lot            1851\n",
       "strip business center parking lot           1093\n",
       "hospital parking lot                        1014\n",
       "convenience store parking lot               1001\n",
       "grocery supermarket parking lot              325\n",
       "grocery store or supermarket parking lot     313\n",
       "bank saving institution parking lot          132\n",
       "mall parking lot                              86\n",
       "bank or savings institution parking lot       69\n",
       "liquor store parking lot                      50\n",
       "sexually oriented business parking lot        40\n",
       "laundry or dry cleaners parking lot           33\n",
       "laundry dry cleaners parking lot              18\n",
       "Name: Premise, dtype: int64"
      ]
     },
     "execution_count": 53,
     "metadata": {},
     "output_type": "execute_result"
    }
   ],
   "source": [
    "# parking\n",
    "\n",
    "wrd = df.Premise.str.contains('parking')\n",
    "df[wrd].Premise.value_counts()"
   ]
  },
  {
   "cell_type": "code",
   "execution_count": 55,
   "metadata": {},
   "outputs": [
    {
     "data": {
      "text/plain": [
       "Series([], Name: Premise, dtype: int64)"
      ]
     },
     "execution_count": 55,
     "metadata": {},
     "output_type": "execute_result"
    }
   ],
   "source": [
    "#df.Premise = df.Premise.str.replace('', '')\n",
    "df.Premise = df.Premise.str.replace('other parking lot', 'prk')\n",
    "df.Premise = df.Premise.str.replace('restaurant cafeteria parking lot', 'rest prk')\n",
    "df.Premise = df.Premise.str.replace('convenience store parking lot', 'store prk')\n",
    "df.Premise = df.Premise.str.replace('strip business center parking lot', 'store prk')\n",
    "df.Premise = df.Premise.str.replace('hospital parking lot', 'prk')\n",
    "df.Premise = df.Premise.str.replace('grocery store or supermarket parking lot', 'store prk')\n",
    "df.Premise = df.Premise.str.replace('grocery supermarket parking lot', 'store prk')\n",
    "df.Premise = df.Premise.str.replace('church synagogue temple parking lot', 'church prk')\n",
    "df.Premise = df.Premise.str.replace('bank saving institution parking lot', 'bank prk')\n",
    "df.Premise = df.Premise.str.replace('bank or savings institution parking lot', 'bank prk')\n",
    "df.Premise = df.Premise.str.replace('mall parking lot', 'store prk')\n",
    "df.Premise = df.Premise.str.replace('sexually oriented business parking lot', 'store prk')\n",
    "df.Premise = df.Premise.str.replace('church  synagogue  or temple parking lot', 'church prk')\n",
    "df.Premise = df.Premise.str.replace('laundry or dry cleaners parking lot', 'store prk')\n",
    "df.Premise = df.Premise.str.replace('liquor store parking lot', 'store prk')\n",
    "df.Premise = df.Premise.str.replace('laundry dry cleaners parking lot', 'store prk')\n",
    "df.Premise = df.Premise.str.replace('bar_nc parking lot', 'bar_nc prk')\n",
    "df.Premise = df.Premise.str.replace('restaurant or cafeteria parking lot', 'rest prk')\n",
    "\n",
    "wrd = df.Premise.str.contains('parking')\n",
    "df[wrd].Premise.value_counts()"
   ]
  },
  {
   "cell_type": "code",
   "execution_count": 56,
   "metadata": {},
   "outputs": [
    {
     "data": {
      "text/plain": [
       "office building                                                                     1513\n",
       "government public building                                                           227\n",
       "government or public building                                                        175\n",
       "vacant other structure out buildings monuments buildings under construction etc.      43\n",
       "maintenance building services                                                         32\n",
       "maintenance or building services                                                      26\n",
       "vacant government or public building                                                  12\n",
       "vacant government public building                                                     11\n",
       "Name: Premise, dtype: int64"
      ]
     },
     "execution_count": 56,
     "metadata": {},
     "output_type": "execute_result"
    }
   ],
   "source": [
    "# building\n",
    "wrd = df.Premise.str.contains('building')\n",
    "df[wrd].Premise.value_counts()"
   ]
  },
  {
   "cell_type": "code",
   "execution_count": 57,
   "metadata": {},
   "outputs": [
    {
     "data": {
      "text/plain": [
       "Series([], Name: Premise, dtype: int64)"
      ]
     },
     "execution_count": 57,
     "metadata": {},
     "output_type": "execute_result"
    }
   ],
   "source": [
    "#df.Premise = df.Premise.str.replace('', '')\n",
    "df.Premise = df.Premise.str.replace('office building', 'office bld')\n",
    "df.Premise = df.Premise.str.replace('government public building', 'public bld')\n",
    "df.Premise = df.Premise.str.replace('government or public building', 'public bld')\n",
    "df.Premise = df.Premise.str.replace('maintenance building services', 'office bld')\n",
    "df.Premise = df.Premise.str.replace('maintenance or building services', 'office bld')\n",
    "\n",
    "df.Premise = df.Premise.str.replace('vacant government or public building', 'public bld')\n",
    "df.Premise = df.Premise.str.replace('vacant other structure out buildings monuments buildings under construction etc.', 'office bld')\n",
    "\n",
    "wrd = df.Premise.str.contains('building')\n",
    "df[wrd].Premise.value_counts()"
   ]
  },
  {
   "cell_type": "code",
   "execution_count": 58,
   "metadata": {},
   "outputs": [
    {
     "data": {
      "text/plain": [
       "store prk                                    2959\n",
       "department discount store                    1776\n",
       "convenience store                            1636\n",
       "grocery store or supermarket                  899\n",
       "specialty store non-specific                  691\n",
       "clothing store                                550\n",
       "department or discount store                  519\n",
       "drug store medical supply                     511\n",
       "vehicle auto sales lease auto parts store     386\n",
       "drug store or medical supply                  259\n",
       "liquor store                                  127\n",
       "electronics store  electrical sup.             86\n",
       "electronics store  electrical supplies         45\n",
       "jewelry stores                                 41\n",
       "toys  arts craft musical  bike pet stores      27\n",
       "vacant grocery store or supermarket            17\n",
       "furniture  appliances  radios  tv store         9\n",
       "adult book store newsstand                      1\n",
       "adult book store or newsstand                   1\n",
       "Name: Premise, dtype: int64"
      ]
     },
     "execution_count": 58,
     "metadata": {},
     "output_type": "execute_result"
    }
   ],
   "source": [
    "# store\n",
    "\n",
    "wrd = df.Premise.str.contains('store')\n",
    "df[wrd].Premise.value_counts()"
   ]
  },
  {
   "cell_type": "code",
   "execution_count": 59,
   "metadata": {},
   "outputs": [
    {
     "data": {
      "text/plain": [
       "store                                      6965\n",
       "store prk                                  2959\n",
       "department or discount store                519\n",
       "electronics store  electrical sup.           86\n",
       "furniture  appliances  radios  tv store       9\n",
       "adult book store or newsstand                 1\n",
       "adult book store newsstand                    1\n",
       "Name: Premise, dtype: int64"
      ]
     },
     "execution_count": 59,
     "metadata": {},
     "output_type": "execute_result"
    }
   ],
   "source": [
    "#df.Premise = df.Premise.str.replace('', '')\n",
    "df.Premise = df.Premise.str.replace('department discount store', 'store')\n",
    "df.Premise = df.Premise.str.replace('convenience store', 'store')\n",
    "df.Premise = df.Premise.str.replace('clothing store', 'store')\n",
    "df.Premise = df.Premise.str.replace('specialty store non-specific', 'store')\n",
    "df.Premise = df.Premise.str.replace('vehicle auto sales lease auto parts store', 'store')\n",
    "df.Premise = df.Premise.str.replace('drug store medical supply', 'store')\n",
    "df.Premise = df.Premise.str.replace('liquor store', 'store')\n",
    "df.Premise = df.Premise.str.replace('electronics store  electrical supply.', 'store')\n",
    "df.Premise = df.Premise.str.replace('jewelry stores', 'store')\n",
    "df.Premise = df.Premise.str.replace('electronics store  electrical supplies', 'store')\n",
    "df.Premise = df.Premise.str.replace('vacant grocery store or supermarket', 'store')\n",
    "df.Premise = df.Premise.str.replace('toys  arts craft musical  bike pet stores', 'store')\n",
    "df.Premise = df.Premise.str.replace('grocery store or supermarket', 'store')\n",
    "df.Premise = df.Premise.str.replace('drug store or medical supply', 'store')\n",
    "#df.Premise = df.Premise.str.replace('storelies', 'store')\n",
    "\n",
    "wrd = df.Premise.str.contains('store')\n",
    "df[wrd].Premise.value_counts()"
   ]
  },
  {
   "cell_type": "code",
   "execution_count": 60,
   "metadata": {},
   "outputs": [
    {
     "data": {
      "text/plain": [
       "rest prk                      3725\n",
       "restaurant cafeteria          1405\n",
       "restaurant or cafeteria       1127\n",
       "field  woods  forest  park     173\n",
       "vacant restaurant               41\n",
       "Name: Premise, dtype: int64"
      ]
     },
     "execution_count": 60,
     "metadata": {},
     "output_type": "execute_result"
    }
   ],
   "source": [
    "# restaurant\n",
    "wrd = df.Premise.str.contains('rest')\n",
    "df[wrd].Premise.value_counts()"
   ]
  },
  {
   "cell_type": "code",
   "execution_count": 61,
   "metadata": {},
   "outputs": [
    {
     "data": {
      "text/plain": [
       "rest prk                      3725\n",
       "rest                          2573\n",
       "field  woods  forest  park     173\n",
       "Name: Premise, dtype: int64"
      ]
     },
     "execution_count": 61,
     "metadata": {},
     "output_type": "execute_result"
    }
   ],
   "source": [
    "df.Premise = df.Premise.str.replace('restaurant cafeteria', 'rest')\n",
    "df.Premise = df.Premise.str.replace('restaurant or cafeteria', 'rest')\n",
    "df.Premise = df.Premise.str.replace('vacant restaurant', 'rest')\n",
    "\n",
    "wrd = df.Premise.str.contains('rest')\n",
    "df[wrd].Premise.value_counts()"
   ]
  },
  {
   "cell_type": "code",
   "execution_count": 62,
   "metadata": {},
   "outputs": [
    {
     "data": {
      "text/plain": [
       "other unknown                    3589\n",
       "other  unknown  or not listed    1445\n",
       "Name: Premise, dtype: int64"
      ]
     },
     "execution_count": 62,
     "metadata": {},
     "output_type": "execute_result"
    }
   ],
   "source": [
    "#unk\n",
    "\n",
    "wrd = df.Premise.str.contains('unknown')\n",
    "df[wrd].Premise.value_counts()"
   ]
  },
  {
   "cell_type": "code",
   "execution_count": 64,
   "metadata": {},
   "outputs": [
    {
     "data": {
      "text/plain": [
       "Series([], Name: Premise, dtype: int64)"
      ]
     },
     "execution_count": 64,
     "metadata": {},
     "output_type": "execute_result"
    }
   ],
   "source": [
    "#df.Premise = df.Premise.str.replace('', '')\n",
    "df.Premise = df.Premise.str.replace('other unknown', 'unk')\n",
    "df.Premise = df.Premise.str.replace('other  unknown  or not listed', 'unk')\n",
    "df.Premise = df.Premise.str.replace('---', 'unk')\n",
    "\n",
    "wrd = df.Premise.str.contains('unknown')\n",
    "df[wrd].Premise.value_counts()"
   ]
  },
  {
   "cell_type": "code",
   "execution_count": 65,
   "metadata": {},
   "outputs": [
    {
     "data": {
      "text/plain": [
       "miscellaneous business non-specific    1198\n",
       "misc. business non-specific             636\n",
       "Name: Premise, dtype: int64"
      ]
     },
     "execution_count": 65,
     "metadata": {},
     "output_type": "execute_result"
    }
   ],
   "source": [
    "# miscellaneous\n",
    "wrd = df.Premise.str.contains('misc')\n",
    "df[wrd].Premise.value_counts()"
   ]
  },
  {
   "cell_type": "code",
   "execution_count": 66,
   "metadata": {},
   "outputs": [
    {
     "data": {
      "text/plain": [
       "Series([], Name: Premise, dtype: int64)"
      ]
     },
     "execution_count": 66,
     "metadata": {},
     "output_type": "execute_result"
    }
   ],
   "source": [
    "#df.Premise = df.Premise.str.replace('', '')\n",
    "df.Premise = df.Premise.str.replace('miscellaneous business non-specific', 'store')\n",
    "df.Premise = df.Premise.str.replace('misc. business non-specific', 'store')\n",
    "\n",
    "\n",
    "\n",
    "wrd = df.Premise.str.contains('misc')\n",
    "df[wrd].Premise.value_counts()"
   ]
  },
  {
   "cell_type": "code",
   "execution_count": 67,
   "metadata": {},
   "outputs": [
    {
     "data": {
      "text/plain": [
       "stadium  sports arena  race track    508\n",
       "stadium sprts arena race track       422\n",
       "Name: Premise, dtype: int64"
      ]
     },
     "execution_count": 67,
     "metadata": {},
     "output_type": "execute_result"
    }
   ],
   "source": [
    "## stadium\n",
    "\n",
    "wrd = df.Premise.str.contains('stadium')\n",
    "df[wrd].Premise.value_counts()"
   ]
  },
  {
   "cell_type": "code",
   "execution_count": 68,
   "metadata": {},
   "outputs": [
    {
     "data": {
      "text/plain": [
       "stadium    930\n",
       "Name: Premise, dtype: int64"
      ]
     },
     "execution_count": 68,
     "metadata": {},
     "output_type": "execute_result"
    }
   ],
   "source": [
    "#df.Premise = df.Premise.str.replace('', '')\n",
    "df.Premise = df.Premise.str.replace('stadium  sports arena  race track', 'stadium')\n",
    "df.Premise = df.Premise.str.replace('stadium sprts arena race track', 'stadium')\n",
    "\n",
    "\n",
    "wrd = df.Premise.str.contains('stadium')\n",
    "df[wrd].Premise.value_counts()"
   ]
  },
  {
   "cell_type": "code",
   "execution_count": 69,
   "metadata": {},
   "outputs": [
    {
     "data": {
      "text/plain": [
       "none                        6254\n",
       "train not metro terminal      19\n",
       "not listed                     9\n",
       "Name: Premise, dtype: int64"
      ]
     },
     "execution_count": 69,
     "metadata": {},
     "output_type": "execute_result"
    }
   ],
   "source": [
    "# no label\n",
    "\n",
    "wrd = df.Premise.str.contains('no')\n",
    "df[wrd].Premise.value_counts()"
   ]
  },
  {
   "cell_type": "code",
   "execution_count": 70,
   "metadata": {},
   "outputs": [
    {
     "data": {
      "text/plain": [
       "none                        6254\n",
       "train not metro terminal      19\n",
       "Name: Premise, dtype: int64"
      ]
     },
     "execution_count": 70,
     "metadata": {},
     "output_type": "execute_result"
    }
   ],
   "source": [
    "\n",
    "#df.Premise = df.Premise.str.replace('', '')\n",
    "df.Premise = df.Premise.str.replace('no label', 'unk')\n",
    "df.Premise = df.Premise.str.replace('not listed', 'unk')\n",
    "\n",
    "\n",
    "wrd = df.Premise.str.contains('no')\n",
    "df[wrd].Premise.value_counts()"
   ]
  },
  {
   "cell_type": "code",
   "execution_count": 71,
   "metadata": {},
   "outputs": [
    {
     "data": {
      "text/plain": [
       "parks and recreation  zoo  swimming pool     1067\n",
       "parks & recreation  zoo  swim pool            996\n",
       "field  woods  forest  park                    173\n",
       "park and ride terminal                        119\n",
       "amusement park  bowling alley  skate rink      86\n",
       "amuse. park bowl. alley skate rink             66\n",
       "park & ride terminal                           36\n",
       "Name: Premise, dtype: int64"
      ]
     },
     "execution_count": 71,
     "metadata": {},
     "output_type": "execute_result"
    }
   ],
   "source": [
    "# park\n",
    "wrd = df.Premise.str.contains('park')\n",
    "df[wrd].Premise.value_counts()"
   ]
  },
  {
   "cell_type": "code",
   "execution_count": 72,
   "metadata": {},
   "outputs": [
    {
     "data": {
      "text/plain": [
       "parks                     2388\n",
       "park and ride terminal     119\n",
       "park & ride terminal        36\n",
       "Name: Premise, dtype: int64"
      ]
     },
     "execution_count": 72,
     "metadata": {},
     "output_type": "execute_result"
    }
   ],
   "source": [
    "#df.Premise = df.Premise.str.replace('', '')\n",
    "df.Premise = df.Premise.str.replace('parks & recreation  zoo  swim pool', 'parks')\n",
    "df.Premise = df.Premise.str.replace('parks and recreation  zoo  swimming pool', 'parks')\n",
    "df.Premise = df.Premise.str.replace('field  woods  forest  park', 'parks')\n",
    "\n",
    "df.Premise = df.Premise.str.replace('amuse. park bowl. alley skate rink', 'parks')\n",
    "df.Premise = df.Premise.str.replace('amusement park  bowling alley  skate rink', 'parks')\n",
    "\n",
    "\n",
    "\n",
    "wrd = df.Premise.str.contains('park')\n",
    "df[wrd].Premise.value_counts()"
   ]
  },
  {
   "cell_type": "code",
   "execution_count": 73,
   "metadata": {},
   "outputs": [
    {
     "data": {
      "text/plain": [
       "garage or carport                                        881\n",
       "garage carport                                           616\n",
       "vacant storage facility barns garages warehouses etc.      6\n",
       "Name: Premise, dtype: int64"
      ]
     },
     "execution_count": 73,
     "metadata": {},
     "output_type": "execute_result"
    }
   ],
   "source": [
    "# garage\n",
    "\n",
    "wrd = df.Premise.str.contains('garage')\n",
    "df[wrd].Premise.value_counts()"
   ]
  },
  {
   "cell_type": "code",
   "execution_count": null,
   "metadata": {},
   "outputs": [],
   "source": []
  },
  {
   "cell_type": "code",
   "execution_count": null,
   "metadata": {},
   "outputs": [],
   "source": [
    "print(list(df_sb.Beat.unique()))"
   ]
  },
  {
   "cell_type": "code",
   "execution_count": null,
   "metadata": {},
   "outputs": [],
   "source": []
  },
  {
   "cell_type": "code",
   "execution_count": null,
   "metadata": {},
   "outputs": [],
   "source": [
    "beat_10H30 = df_sb[df_sb.Beat == '10H30']\n",
    "beat_10H10 = df_sb[df_sb.Beat == '10H10']\n",
    "beat_1A10 = df_sb[df_sb.Beat == '1A10']\n",
    "beat_10H40 = df_sb[df_sb.Beat == '10H40']\n",
    "beat_15E40 = df_sb[df_sb.Beat == '15H40']\n",
    "beat_10H50 = df_sb[df_sb.Beat == '10H50']\n",
    "beat_10H60 = df_sb[df_sb.Beat == '10H60']\n",
    "beat_10H70 = df_sb[df_sb.Beat == '10H70']\n",
    "beat_10H80 =  df_sb[df_sb.Beat == '10H80']"
   ]
  },
  {
   "cell_type": "code",
   "execution_count": 92,
   "metadata": {},
   "outputs": [],
   "source": []
  },
  {
   "cell_type": "code",
   "execution_count": null,
   "metadata": {},
   "outputs": [],
   "source": [
    "beat_10H10.to_csv('beat_crime/beat_10H10.csv')"
   ]
  },
  {
   "cell_type": "code",
   "execution_count": null,
   "metadata": {},
   "outputs": [],
   "source": [
    "beat_10H30.to_csv('beat_crime//beat_10H30.csv')"
   ]
  },
  {
   "cell_type": "code",
   "execution_count": null,
   "metadata": {},
   "outputs": [],
   "source": [
    "beat_10H40.to_csv('beat_crime//beat_10H40.csv')"
   ]
  },
  {
   "cell_type": "code",
   "execution_count": null,
   "metadata": {},
   "outputs": [],
   "source": [
    "beat_10H50.to_csv('beat_crime//beat_10H50.csv')"
   ]
  },
  {
   "cell_type": "code",
   "execution_count": null,
   "metadata": {},
   "outputs": [],
   "source": [
    "beat_10H60.to_csv('beat_crime//beat_10H60.csv')"
   ]
  },
  {
   "cell_type": "code",
   "execution_count": null,
   "metadata": {},
   "outputs": [],
   "source": [
    "beat_10H70.to_csv('beat_crime//beat_10H70.csv')"
   ]
  },
  {
   "cell_type": "code",
   "execution_count": null,
   "metadata": {},
   "outputs": [],
   "source": [
    "beat_10H80.to_csv('beat_crime//beat_10H80.csv')"
   ]
  },
  {
   "cell_type": "code",
   "execution_count": null,
   "metadata": {},
   "outputs": [],
   "source": [
    "beat_15E40.to_csv('beat_crime//beat_15E40.csv')"
   ]
  },
  {
   "cell_type": "code",
   "execution_count": null,
   "metadata": {},
   "outputs": [],
   "source": [
    "beat_1A10.to_csv('beat_crime//beat_1A10.csv')"
   ]
  },
  {
   "cell_type": "code",
   "execution_count": null,
   "metadata": {},
   "outputs": [],
   "source": [
    "beat_10H80.to_csv('beat_crime//beat_10H80.csv')"
   ]
  },
  {
   "cell_type": "code",
   "execution_count": null,
   "metadata": {},
   "outputs": [],
   "source": [
    "beat_15E40.to_csv('beat_crime//beat_15E40.csv')\n",
    "\n",
    "beat_1A10.to_csv('beat_crime//beat_1A10.csv')\n",
    "\n",
    "ls beat_crime/"
   ]
  },
  {
   "cell_type": "code",
   "execution_count": 74,
   "metadata": {},
   "outputs": [
    {
     "data": {
      "text/plain": [
       "vacant storage facility barns garages warehouses etc.    6\n",
       "Name: Premise, dtype: int64"
      ]
     },
     "execution_count": 74,
     "metadata": {},
     "output_type": "execute_result"
    }
   ],
   "source": [
    "#df.Premise = df.Premise.str.replace('', '')\n",
    "df.Premise = df.Premise.str.replace('garage or carport', 'prk')\n",
    "df.Premise = df.Premise.str.replace('garage carport', 'prk')\n",
    "\n",
    "\n",
    "wrd = df.Premise.str.contains('garage')\n",
    "df[wrd].Premise.value_counts()"
   ]
  },
  {
   "cell_type": "code",
   "execution_count": 75,
   "metadata": {},
   "outputs": [
    {
     "data": {
      "text/plain": [
       "light rail platform               248\n",
       "light rail metro rail vehicle     216\n",
       "railroad track right of way        20\n",
       "railroad track or right of way     14\n",
       "light rail vehicle                 12\n",
       "Name: Premise, dtype: int64"
      ]
     },
     "execution_count": 75,
     "metadata": {},
     "output_type": "execute_result"
    }
   ],
   "source": [
    "# bus /metro\n",
    "\n",
    "wrd = df.Premise.str.contains('rail')\n",
    "df[wrd].Premise.value_counts()"
   ]
  },
  {
   "cell_type": "code",
   "execution_count": 82,
   "metadata": {},
   "outputs": [
    {
     "data": {
      "text/plain": [
       "bus_rail    2346\n",
       "Name: Premise, dtype: int64"
      ]
     },
     "execution_count": 82,
     "metadata": {},
     "output_type": "execute_result"
    }
   ],
   "source": [
    "#df.Premise = df.Premise.str.replace('', '')\n",
    "df.Premise = df.Premise.str.replace('bus stop', 'bus_rail')\n",
    "df.Premise = df.Premise.str.replace('bus station', 'bus_rail')\n",
    "df.Premise = df.Premise.str.replace('light rail metro rail vehicle', 'bus_rail')\n",
    "df.Premise = df.Premise.str.replace('train not metro terminal', 'bus_rail')\n",
    "df.Premise = df.Premise.str.replace('light rail platform', 'bus_rail')\n",
    "df.Premise = df.Premise.str.replace('light rail metro rail vehicle', 'bus_rail')\n",
    "df.Premise = df.Premise.str.replace('railroad track right of way', 'bus_rail')\n",
    "df.Premise = df.Premise.str.replace('light rail vehicle', 'bus_rail')\n",
    "df.Premise = df.Premise.str.replace('railroad track or right of way', 'bus_rail')\n",
    "df.Premise = df.Premise.str.replace('park and ride terminal', 'bus_rail')\n",
    "df.Premise = df.Premise.str.replace('park & ride terminal', 'bus_rail')\n",
    "\n",
    "\n",
    "wrd = df.Premise.str.contains('rail')\n",
    "df[wrd].Premise.value_counts()"
   ]
  },
  {
   "cell_type": "code",
   "execution_count": 76,
   "metadata": {},
   "outputs": [
    {
     "data": {
      "text/plain": [
       "university college                     287\n",
       "university or college                  150\n",
       "vacant school or college university     36\n",
       "Name: Premise, dtype: int64"
      ]
     },
     "execution_count": 76,
     "metadata": {},
     "output_type": "execute_result"
    }
   ],
   "source": [
    "wrd = df.Premise.str.contains('university')\n",
    "df[wrd].Premise.value_counts()"
   ]
  },
  {
   "cell_type": "code",
   "execution_count": 79,
   "metadata": {},
   "outputs": [
    {
     "data": {
      "text/plain": [
       "college    477\n",
       "Name: Premise, dtype: int64"
      ]
     },
     "execution_count": 79,
     "metadata": {},
     "output_type": "execute_result"
    }
   ],
   "source": [
    "#df.Premise = df.Premise.str.replace('', '')\n",
    "df.Premise = df.Premise.str.replace('university college', 'college')\n",
    "df.Premise = df.Premise.str.replace('university or college', 'college')\n",
    "df.Premise = df.Premise.str.replace('vacant school or college university', 'college')\n",
    "df.Premise = df.Premise.str.replace('vacant school college', 'college')\n",
    "\n",
    "wrd = df.Premise.str.contains('college')\n",
    "df[wrd].Premise.value_counts()"
   ]
  },
  {
   "cell_type": "code",
   "execution_count": 80,
   "metadata": {},
   "outputs": [
    {
     "data": {
      "text/plain": [
       "high school          279\n",
       "elementary school    100\n",
       "private school        66\n",
       "middle school         45\n",
       "Name: Premise, dtype: int64"
      ]
     },
     "execution_count": 80,
     "metadata": {},
     "output_type": "execute_result"
    }
   ],
   "source": [
    "wrd = df.Premise.str.contains('school')\n",
    "df[wrd].Premise.value_counts()"
   ]
  },
  {
   "cell_type": "code",
   "execution_count": 81,
   "metadata": {},
   "outputs": [
    {
     "data": {
      "text/plain": [
       "school    490\n",
       "Name: Premise, dtype: int64"
      ]
     },
     "execution_count": 81,
     "metadata": {},
     "output_type": "execute_result"
    }
   ],
   "source": [
    "\n",
    "df.Premise = df.Premise.str.replace('high school', 'school')\n",
    "df.Premise = df.Premise.str.replace('private school', 'school')\n",
    "df.Premise = df.Premise.str.replace('elementary school', 'school')\n",
    "df.Premise = df.Premise.str.replace('middle school', 'school')\n",
    "\n",
    "wrd = df.Premise.str.contains('school')\n",
    "df[wrd].Premise.value_counts()"
   ]
  },
  {
   "cell_type": "code",
   "execution_count": 83,
   "metadata": {},
   "outputs": [
    {
     "data": {
      "text/plain": [
       "convention center or exhibit halls    238\n",
       "convention center exhibit halls       225\n",
       "Name: Premise, dtype: int64"
      ]
     },
     "execution_count": 83,
     "metadata": {},
     "output_type": "execute_result"
    }
   ],
   "source": [
    "## convention\n",
    "\n",
    "wrd = df.Premise.str.contains('conv')\n",
    "df[wrd].Premise.value_counts()"
   ]
  },
  {
   "cell_type": "code",
   "execution_count": 84,
   "metadata": {},
   "outputs": [
    {
     "data": {
      "text/plain": [
       "convention    463\n",
       "Name: Premise, dtype: int64"
      ]
     },
     "execution_count": 84,
     "metadata": {},
     "output_type": "execute_result"
    }
   ],
   "source": [
    "#df.Premise = df.Premise.str.replace('', '')\n",
    "df.Premise = df.Premise.str.replace('convention center or exhibit halls', 'convention')\n",
    "df.Premise = df.Premise.str.replace('convention center exhibit halls', 'convention')\n",
    "\n",
    "\n",
    "wrd = df.Premise.str.contains('conv')\n",
    "df[wrd].Premise.value_counts()"
   ]
  },
  {
   "cell_type": "code",
   "execution_count": 86,
   "metadata": {},
   "outputs": [],
   "source": [
    "df.Premise = df.Premise.str.replace('libraries  museums', 'libraries')\n",
    "#df.Premise = df.Premise.str.replace('', '')\n",
    "df.Premise = df.Premise.str.replace('service gas station', 'store')\n",
    "df.Premise = df.Premise.str.replace('service or gas station', 'store')\n",
    "df.Premise = df.Premise.str.replace('utility company electric gas water', 'public bld')\n",
    "df.Premise = df.Premise.str.replace('utility company  electric  gas  water', 'public bld')\n",
    "\n",
    "\n",
    "#df.Premise = df.Premise.str.replace('', '')\n",
    "df.Premise = df.Premise.str.replace('condominium', 'house')\n",
    "\n",
    "\n",
    "\n",
    "#df.Premise = df.Premise.str.replace('', '')\n",
    "df.Premise = df.Premise.str.replace('multi-plex home duplex triplex etc.', 'house')\n",
    "df.Premise = df.Premise.str.replace('mobile home', 'house')\n",
    "df.Premise = df.Premise.str.replace('nursing home', 'house')\n",
    "df.Premise = df.Premise.str.replace('multi-plex hmeduplex triplex etc', 'house')\n",
    "\n",
    "\n",
    "#df.Premise = df.Premise.str.replace('', '')\n",
    "df.Premise = df.Premise.str.replace('gym recreat club hse indr pool spa', 'gym')\n",
    "df.Premise = df.Premise.str.replace('gym  recreat  club house  indoor pool  spa', 'gym')\n",
    "df.Premise = df.Premise.str.replace('gym  recreat  club house  indoor pool', 'gym')\n",
    "\n",
    "#df.Premise = df.Premise.str.replace('', '')\n",
    "df.Premise = df.Premise.str.replace('grocery supermarket', 'store')\n",
    "df.Premise = df.Premise.str.replace('pawn  resale shop  or flea market', 'store')\n",
    "df.Premise = df.Premise.str.replace('pawn resale shop flea market', 'store')\n",
    "\n",
    "df.Premise = df.Premise.str.replace('construction site', 'constr')"
   ]
  },
  {
   "cell_type": "code",
   "execution_count": 87,
   "metadata": {},
   "outputs": [
    {
     "data": {
      "text/plain": [
       "103"
      ]
     },
     "execution_count": 87,
     "metadata": {},
     "output_type": "execute_result"
    }
   ],
   "source": [
    "len(df.Premise.value_counts())"
   ]
  },
  {
   "cell_type": "code",
   "execution_count": 88,
   "metadata": {},
   "outputs": [
    {
     "data": {
      "text/plain": [
       "house                                                    16116\n",
       "road  street  or sidewalk                                14727\n",
       "street                                                   13848\n",
       "store                                                    12889\n",
       "prk                                                      11345\n",
       "apartment                                                10160\n",
       "apartment prk                                             9587\n",
       "comm prk                                                  8186\n",
       "none                                                      6254\n",
       "unk                                                       5460\n",
       "hospital                                                  4282\n",
       "rest prk                                                  3725\n",
       "driveway                                                  3680\n",
       "bar_nc                                                    3367\n",
       "store prk                                                 2959\n",
       "rest                                                      2573\n",
       "parks                                                     2388\n",
       "bus_rail                                                  2346\n",
       "bar_nc prk                                                2319\n",
       "hotel                                                     2065\n",
       "hotel prk                                                 1725\n",
       "comm bld                                                  1713\n",
       "office bld                                                1614\n",
       "constr                                                     995\n",
       "stadium                                                    930\n",
       "gym                                                        679\n",
       "church                                                     575\n",
       "department or discount store                               519\n",
       "school                                                     490\n",
       "college                                                    477\n",
       "                                                         ...  \n",
       "jail or prison                                              22\n",
       "vacant hospital                                             22\n",
       "n                                                           20\n",
       "toys arts & craft musical bike pet                          19\n",
       "lake waterway bayou                                         18\n",
       "pool hall game room                                         18\n",
       "credit union                                                14\n",
       "savings and loan institutions                               14\n",
       "vacant industrial or manufacturing blding                   13\n",
       "furniture  appliances  radios  tv                           11\n",
       "sporting goods gun shops                                    10\n",
       "vacant industrial manufacturing industrial                   9\n",
       "furniture  appliances  radios  tv store                      9\n",
       "garden supply  nursery  florist                              8\n",
       "garden supply  nursery  or florist                           8\n",
       "package facility fedex ups dhl                               8\n",
       "lake  pond  waterway  bayou  river                           7\n",
       "06                                                           7\n",
       "vacant storage facility barns garages warehouses etc.        6\n",
       "pool hall or game room                                       5\n",
       "tollway                                                      4\n",
       "book  record  stationary  office supplies                    4\n",
       "contra-flow hov                                              4\n",
       "sporting goods or gun shops                                  4\n",
       "video rental & sales                                         4\n",
       "vacant jail or prison                                        2\n",
       "marine veh. sales boats sailboats                            2\n",
       "vacant store                                                 2\n",
       "adult book store newsstand                                   1\n",
       "adult book store or newsstand                                1\n",
       "Name: Premise, Length: 103, dtype: int64"
      ]
     },
     "execution_count": 88,
     "metadata": {},
     "output_type": "execute_result"
    }
   ],
   "source": [
    "df.Premise.value_counts()"
   ]
  },
  {
   "cell_type": "markdown",
   "metadata": {},
   "source": [
    "## create df  by Police Beat"
   ]
  },
  {
   "cell_type": "code",
   "execution_count": 90,
   "metadata": {},
   "outputs": [
    {
     "name": "stdout",
     "output_type": "stream",
     "text": [
      "['10H70', '10H50', '1A10', '10H60', '10H10', '15E40', '10H40', '10H30', '10H80']\n"
     ]
    }
   ],
   "source": [
    "print(list(df.Beat.unique()))"
   ]
  },
  {
   "cell_type": "code",
   "execution_count": 91,
   "metadata": {},
   "outputs": [],
   "source": [
    "beat_10H30 = df[df.Beat == '10H30']\n",
    "beat_10H10 = df[df.Beat == '10H10']\n",
    "beat_1A10 = df[df.Beat == '1A10']\n",
    "beat_10H40 = df[df.Beat == '10H40']\n",
    "beat_15E40 = df[df.Beat == '15H40']\n",
    "beat_10H50 = df[df.Beat == '10H50']\n",
    "beat_10H60 = df[df.Beat == '10H60']\n",
    "beat_10H70 = df[df.Beat == '10H70']\n",
    "beat_10H80 =  df[df.Beat == '10H80']"
   ]
  },
  {
   "cell_type": "code",
   "execution_count": null,
   "metadata": {},
   "outputs": [],
   "source": [
    "# save\n",
    "beat_10H10.to_csv('beat_crime/beat_10H10.csv')\n",
    "beat_10H30.to_csv('beat_crime/beat_10H30.csv')\n",
    "beat_10H40.to_csv('beat_crime/beat_10H40.csv')\n",
    "beat_10H50.to_csv('beat_crime/beat_10H50.csv')\n",
    "beat_10H60.to_csv('beat_crime/beat_10H60.csv')\n",
    "beat_10H70.to_csv('beat_crime/beat_10H70.csv')\n",
    "beat_10H80.to_csv('beat_crime/beat_10H80.csv')\n",
    "beat_15E40.to_csv('beat_crime//beat_15E40.csv')\n",
    "beat_1A10.to_csv('beat_crime/beat_1A10.csv')"
   ]
  }
 ],
 "metadata": {
  "kernelspec": {
   "display_name": "Python 3",
   "language": "python",
   "name": "python3"
  },
  "language_info": {
   "codemirror_mode": {
    "name": "ipython",
    "version": 3
   },
   "file_extension": ".py",
   "mimetype": "text/x-python",
   "name": "python",
   "nbconvert_exporter": "python",
   "pygments_lexer": "ipython3",
   "version": "3.6.4"
  }
 },
 "nbformat": 4,
 "nbformat_minor": 2
}
