{
 "cells": [
  {
   "cell_type": "code",
   "execution_count": 1,
   "metadata": {},
   "outputs": [],
   "source": [
    "import pandas as pd\n",
    "import glob, os\n",
    "import numpy as np\n",
    "import datetime as dt\n",
    "import seaborn as sns"
   ]
  },
  {
   "cell_type": "code",
   "execution_count": 2,
   "metadata": {},
   "outputs": [
    {
     "name": "stdout",
     "output_type": "stream",
     "text": [
      "\u001b[0m\u001b[01;36;40mbeat_crime\u001b[0m/  \u001b[01;36;40mcrime_clean\u001b[0m/  \u001b[01;32mCrime_years_merge.ipynb\u001b[0m*  \u001b[01;32mUntitled.ipynb\u001b[0m*\r\n"
     ]
    }
   ],
   "source": [
    "ls"
   ]
  },
  {
   "cell_type": "code",
   "execution_count": 3,
   "metadata": {},
   "outputs": [
    {
     "name": "stdout",
     "output_type": "stream",
     "text": [
      "\u001b[0m\u001b[01;32mbeat_10H10.csv\u001b[0m*  \u001b[01;32mbeat_10H70.csv\u001b[0m*     \u001b[01;32mcrime11_clean.csv\u001b[0m*  \u001b[01;32mcrime16_clean.csv\u001b[0m*\r\n",
      "\u001b[01;32mbeat_10H30.csv\u001b[0m*  \u001b[01;32mbeat_10H80.csv\u001b[0m*     \u001b[01;32mcrime12_clean.csv\u001b[0m*  \u001b[01;32mcrime17_clean.csv\u001b[0m*\r\n",
      "\u001b[01;32mbeat_10H40.csv\u001b[0m*  \u001b[01;32mbeat_15E40.csv\u001b[0m*     \u001b[01;32mcrime13_clean.csv\u001b[0m*\r\n",
      "\u001b[01;32mbeat_10H50.csv\u001b[0m*  \u001b[01;32mbeat_1A10.csv\u001b[0m*      \u001b[01;32mcrime14_clean.csv\u001b[0m*\r\n",
      "\u001b[01;32mbeat_10H60.csv\u001b[0m*  \u001b[01;32mcrime10_clean.csv\u001b[0m*  \u001b[01;32mcrime15_clean.csv\u001b[0m*\r\n"
     ]
    }
   ],
   "source": [
    "ls crime_clean/"
   ]
  },
  {
   "cell_type": "code",
   "execution_count": 4,
   "metadata": {},
   "outputs": [],
   "source": [
    "path = 'crime_clean/'"
   ]
  },
  {
   "cell_type": "code",
   "execution_count": 5,
   "metadata": {},
   "outputs": [],
   "source": [
    "all_files = glob.glob(os.path.join(path, \"*.csv\")) \n",
    "\n",
    "df_from_each_file = (pd.read_csv(f) for f in all_files)\n",
    "df   = pd.concat(df_from_each_file, ignore_index=True)"
   ]
  },
  {
   "cell_type": "code",
   "execution_count": 6,
   "metadata": {},
   "outputs": [],
   "source": [
    "df.Date = pd.to_datetime(df.Date)\n",
    "df = df.set_index('Date').sort_index(ascending=True)"
   ]
  },
  {
   "cell_type": "code",
   "execution_count": 7,
   "metadata": {},
   "outputs": [
    {
     "data": {
      "text/html": [
       "<div>\n",
       "<style scoped>\n",
       "    .dataframe tbody tr th:only-of-type {\n",
       "        vertical-align: middle;\n",
       "    }\n",
       "\n",
       "    .dataframe tbody tr th {\n",
       "        vertical-align: top;\n",
       "    }\n",
       "\n",
       "    .dataframe thead th {\n",
       "        text-align: right;\n",
       "    }\n",
       "</style>\n",
       "<table border=\"1\" class=\"dataframe\">\n",
       "  <thead>\n",
       "    <tr style=\"text-align: right;\">\n",
       "      <th></th>\n",
       "      <th>Beat</th>\n",
       "      <th>BlockRange</th>\n",
       "      <th>StreetName</th>\n",
       "      <th>OffenseType</th>\n",
       "      <th>Premise</th>\n",
       "      <th>NumOffenses</th>\n",
       "      <th>Hour</th>\n",
       "      <th>day</th>\n",
       "      <th>weekday</th>\n",
       "      <th>month</th>\n",
       "      <th>year</th>\n",
       "    </tr>\n",
       "    <tr>\n",
       "      <th>Date</th>\n",
       "      <th></th>\n",
       "      <th></th>\n",
       "      <th></th>\n",
       "      <th></th>\n",
       "      <th></th>\n",
       "      <th></th>\n",
       "      <th></th>\n",
       "      <th></th>\n",
       "      <th></th>\n",
       "      <th></th>\n",
       "      <th></th>\n",
       "    </tr>\n",
       "  </thead>\n",
       "  <tbody>\n",
       "    <tr>\n",
       "      <th>1914-09-08</th>\n",
       "      <td>24C60</td>\n",
       "      <td>12700-12799</td>\n",
       "      <td>lake houston</td>\n",
       "      <td>Burglary</td>\n",
       "      <td>restaurant or cafeteria</td>\n",
       "      <td>1.0</td>\n",
       "      <td>7.0</td>\n",
       "      <td>8</td>\n",
       "      <td>Tuesday</td>\n",
       "      <td>Sep</td>\n",
       "      <td>1914</td>\n",
       "    </tr>\n",
       "    <tr>\n",
       "      <th>1914-11-02</th>\n",
       "      <td>18F60</td>\n",
       "      <td>8800-8899</td>\n",
       "      <td>bellaire</td>\n",
       "      <td>Burglary</td>\n",
       "      <td>miscellaneous business (non-specific)</td>\n",
       "      <td>1.0</td>\n",
       "      <td>3.0</td>\n",
       "      <td>2</td>\n",
       "      <td>Monday</td>\n",
       "      <td>Nov</td>\n",
       "      <td>1914</td>\n",
       "    </tr>\n",
       "    <tr>\n",
       "      <th>1914-12-03</th>\n",
       "      <td>12D20</td>\n",
       "      <td>12800-12899</td>\n",
       "      <td>gulf</td>\n",
       "      <td>Auto Theft</td>\n",
       "      <td>none</td>\n",
       "      <td>1.0</td>\n",
       "      <td>19.0</td>\n",
       "      <td>3</td>\n",
       "      <td>Thursday</td>\n",
       "      <td>Dec</td>\n",
       "      <td>1914</td>\n",
       "    </tr>\n",
       "    <tr>\n",
       "      <th>1915-01-05</th>\n",
       "      <td>3B10</td>\n",
       "      <td>3200-3299</td>\n",
       "      <td>mangum rd 180</td>\n",
       "      <td>Theft</td>\n",
       "      <td>other parking lot</td>\n",
       "      <td>1.0</td>\n",
       "      <td>22.0</td>\n",
       "      <td>5</td>\n",
       "      <td>Tuesday</td>\n",
       "      <td>Jan</td>\n",
       "      <td>1915</td>\n",
       "    </tr>\n",
       "    <tr>\n",
       "      <th>1915-01-14</th>\n",
       "      <td>5F10</td>\n",
       "      <td>7000-7099</td>\n",
       "      <td>westview</td>\n",
       "      <td>Auto Theft</td>\n",
       "      <td>apartment parking lot</td>\n",
       "      <td>1.0</td>\n",
       "      <td>23.0</td>\n",
       "      <td>14</td>\n",
       "      <td>Thursday</td>\n",
       "      <td>Jan</td>\n",
       "      <td>1915</td>\n",
       "    </tr>\n",
       "  </tbody>\n",
       "</table>\n",
       "</div>"
      ],
      "text/plain": [
       "             Beat   BlockRange     StreetName OffenseType  \\\n",
       "Date                                                        \n",
       "1914-09-08  24C60  12700-12799   lake houston    Burglary   \n",
       "1914-11-02  18F60    8800-8899       bellaire    Burglary   \n",
       "1914-12-03  12D20  12800-12899           gulf  Auto Theft   \n",
       "1915-01-05   3B10    3200-3299  mangum rd 180       Theft   \n",
       "1915-01-14   5F10    7000-7099       westview  Auto Theft   \n",
       "\n",
       "                                          Premise  NumOffenses  Hour day  \\\n",
       "Date                                                                       \n",
       "1914-09-08                restaurant or cafeteria          1.0   7.0   8   \n",
       "1914-11-02  miscellaneous business (non-specific)          1.0   3.0   2   \n",
       "1914-12-03                                   none          1.0  19.0   3   \n",
       "1915-01-05                      other parking lot          1.0  22.0   5   \n",
       "1915-01-14                  apartment parking lot          1.0  23.0  14   \n",
       "\n",
       "             weekday month  year  \n",
       "Date                              \n",
       "1914-09-08   Tuesday   Sep  1914  \n",
       "1914-11-02    Monday   Nov  1914  \n",
       "1914-12-03  Thursday   Dec  1914  \n",
       "1915-01-05   Tuesday   Jan  1915  \n",
       "1915-01-14  Thursday   Jan  1915  "
      ]
     },
     "execution_count": 7,
     "metadata": {},
     "output_type": "execute_result"
    }
   ],
   "source": [
    "df.head()"
   ]
  },
  {
   "cell_type": "code",
   "execution_count": 8,
   "metadata": {},
   "outputs": [
    {
     "name": "stdout",
     "output_type": "stream",
     "text": [
      "<class 'pandas.core.frame.DataFrame'>\n",
      "DatetimeIndex: 1075199 entries, 1914-09-08 to 2033-04-21\n",
      "Data columns (total 11 columns):\n",
      "Beat           1075199 non-null object\n",
      "BlockRange     1075199 non-null object\n",
      "StreetName     1075192 non-null object\n",
      "OffenseType    1075199 non-null object\n",
      "Premise        1075199 non-null object\n",
      "NumOffenses    1075199 non-null float64\n",
      "Hour           1075199 non-null float64\n",
      "day            1075199 non-null object\n",
      "weekday        1075199 non-null object\n",
      "month          1075199 non-null object\n",
      "year           1075199 non-null object\n",
      "dtypes: float64(2), object(9)\n",
      "memory usage: 98.4+ MB\n"
     ]
    }
   ],
   "source": [
    "df.info()"
   ]
  },
  {
   "cell_type": "markdown",
   "metadata": {},
   "source": [
    "## Check for null values"
   ]
  },
  {
   "cell_type": "code",
   "execution_count": 9,
   "metadata": {},
   "outputs": [
    {
     "data": {
      "text/plain": [
       "<matplotlib.axes._subplots.AxesSubplot at 0x7fad5c53f5c0>"
      ]
     },
     "execution_count": 9,
     "metadata": {},
     "output_type": "execute_result"
    },
    {
     "data": {
      "image/png": "[encoded data removed]",
      "text/plain": [
       "<Figure size 432x288 with 1 Axes>"
      ]
     },
     "metadata": {},
     "output_type": "display_data"
    }
   ],
   "source": [
    "sns.heatmap(df.isnull(),yticklabels=False,cbar=False,cmap='viridis')"
   ]
  },
  {
   "cell_type": "code",
   "execution_count": 10,
   "metadata": {},
   "outputs": [
    {
     "data": {
      "text/plain": [
       "Beat           0\n",
       "BlockRange     0\n",
       "StreetName     7\n",
       "OffenseType    0\n",
       "Premise        0\n",
       "NumOffenses    0\n",
       "Hour           0\n",
       "day            0\n",
       "weekday        0\n",
       "month          0\n",
       "year           0\n",
       "dtype: int64"
      ]
     },
     "execution_count": 10,
     "metadata": {},
     "output_type": "execute_result"
    }
   ],
   "source": [
    "df.apply(lambda x: sum(x.isnull()))"
   ]
  },
  {
   "cell_type": "markdown",
   "metadata": {},
   "source": [
    "## year column"
   ]
  },
  {
   "cell_type": "code",
   "execution_count": 11,
   "metadata": {},
   "outputs": [
    {
     "data": {
      "text/plain": [
       "array([1914, 1915, 1916, 1917, 1918, 1919, 1920, 1921, 1924, 1926, 1927,\n",
       "       1953, 1959, 1963, 1964, 1965, 1966, 1969, 1970, 1971, 1972, 1973,\n",
       "       1974, 1975, 1976, 1977, 1978, 1979, 1980, 1981, 1982, 1983, 1984,\n",
       "       1985, 1986, 1987, 1988, 1989, 1990, 1991, 1992, 1993, 1994, 1995,\n",
       "       1996, 1997, 1998, 1999, 2000, 2001, 2002, 2003, 2004, 2005, 2006,\n",
       "       2007, 2008, 2009, 2010, 2011, 2012, 2013, 2014, 2015, 2016, 2017,\n",
       "       2019, 2020, 2021, 2029, 2033], dtype=object)"
      ]
     },
     "execution_count": 11,
     "metadata": {},
     "output_type": "execute_result"
    }
   ],
   "source": [
    "df.year.unique()"
   ]
  },
  {
   "cell_type": "markdown",
   "metadata": {},
   "source": [
    "## Slice year from 2010 - 2017"
   ]
  },
  {
   "cell_type": "code",
   "execution_count": 12,
   "metadata": {},
   "outputs": [],
   "source": [
    "df = df['1/1/2010':'12/31/2017']"
   ]
  },
  {
   "cell_type": "code",
   "execution_count": 13,
   "metadata": {},
   "outputs": [
    {
     "name": "stdout",
     "output_type": "stream",
     "text": [
      "<class 'pandas.core.frame.DataFrame'>\n",
      "DatetimeIndex: 1072618 entries, 2010-01-01 to 2017-12-31\n",
      "Data columns (total 11 columns):\n",
      "Beat           1072618 non-null object\n",
      "BlockRange     1072618 non-null object\n",
      "StreetName     1072611 non-null object\n",
      "OffenseType    1072618 non-null object\n",
      "Premise        1072618 non-null object\n",
      "NumOffenses    1072618 non-null float64\n",
      "Hour           1072618 non-null float64\n",
      "day            1072618 non-null object\n",
      "weekday        1072618 non-null object\n",
      "month          1072618 non-null object\n",
      "year           1072618 non-null object\n",
      "dtypes: float64(2), object(9)\n",
      "memory usage: 98.2+ MB\n"
     ]
    }
   ],
   "source": [
    "df.info()"
   ]
  },
  {
   "cell_type": "code",
   "execution_count": 14,
   "metadata": {},
   "outputs": [
    {
     "data": {
      "text/html": [
       "<div>\n",
       "<style scoped>\n",
       "    .dataframe tbody tr th:only-of-type {\n",
       "        vertical-align: middle;\n",
       "    }\n",
       "\n",
       "    .dataframe tbody tr th {\n",
       "        vertical-align: top;\n",
       "    }\n",
       "\n",
       "    .dataframe thead th {\n",
       "        text-align: right;\n",
       "    }\n",
       "</style>\n",
       "<table border=\"1\" class=\"dataframe\">\n",
       "  <thead>\n",
       "    <tr style=\"text-align: right;\">\n",
       "      <th></th>\n",
       "      <th>Beat</th>\n",
       "      <th>BlockRange</th>\n",
       "      <th>StreetName</th>\n",
       "      <th>OffenseType</th>\n",
       "      <th>Premise</th>\n",
       "      <th>NumOffenses</th>\n",
       "      <th>Hour</th>\n",
       "      <th>day</th>\n",
       "      <th>weekday</th>\n",
       "      <th>month</th>\n",
       "      <th>year</th>\n",
       "    </tr>\n",
       "    <tr>\n",
       "      <th>Date</th>\n",
       "      <th></th>\n",
       "      <th></th>\n",
       "      <th></th>\n",
       "      <th></th>\n",
       "      <th></th>\n",
       "      <th></th>\n",
       "      <th></th>\n",
       "      <th></th>\n",
       "      <th></th>\n",
       "      <th></th>\n",
       "      <th></th>\n",
       "    </tr>\n",
       "  </thead>\n",
       "  <tbody>\n",
       "    <tr>\n",
       "      <th>2010-01-01</th>\n",
       "      <td>5F30</td>\n",
       "      <td>13200-13299</td>\n",
       "      <td>northwest</td>\n",
       "      <td>Theft</td>\n",
       "      <td>department/discount store</td>\n",
       "      <td>1.0</td>\n",
       "      <td>22.0</td>\n",
       "      <td>1</td>\n",
       "      <td>Friday</td>\n",
       "      <td>Jan</td>\n",
       "      <td>2010</td>\n",
       "    </tr>\n",
       "    <tr>\n",
       "      <th>2010-01-01</th>\n",
       "      <td>20G10</td>\n",
       "      <td>9900-9999</td>\n",
       "      <td>richmond</td>\n",
       "      <td>Theft</td>\n",
       "      <td>apartment parking lot</td>\n",
       "      <td>1.0</td>\n",
       "      <td>16.0</td>\n",
       "      <td>1</td>\n",
       "      <td>Friday</td>\n",
       "      <td>Jan</td>\n",
       "      <td>2010</td>\n",
       "    </tr>\n",
       "    <tr>\n",
       "      <th>2010-01-01</th>\n",
       "      <td>14D20</td>\n",
       "      <td>8500-8599</td>\n",
       "      <td>rubin</td>\n",
       "      <td>Aggravated Assault</td>\n",
       "      <td>road/street/sidewalk</td>\n",
       "      <td>1.0</td>\n",
       "      <td>7.0</td>\n",
       "      <td>1</td>\n",
       "      <td>Friday</td>\n",
       "      <td>Jan</td>\n",
       "      <td>2010</td>\n",
       "    </tr>\n",
       "    <tr>\n",
       "      <th>2010-01-01</th>\n",
       "      <td>14D40</td>\n",
       "      <td>4200-4299</td>\n",
       "      <td>friar point</td>\n",
       "      <td>Burglary</td>\n",
       "      <td>residence/house</td>\n",
       "      <td>1.0</td>\n",
       "      <td>20.0</td>\n",
       "      <td>1</td>\n",
       "      <td>Friday</td>\n",
       "      <td>Jan</td>\n",
       "      <td>2010</td>\n",
       "    </tr>\n",
       "    <tr>\n",
       "      <th>2010-01-01</th>\n",
       "      <td>10H70</td>\n",
       "      <td>4800-4899</td>\n",
       "      <td>austin</td>\n",
       "      <td>Burglary</td>\n",
       "      <td>residence/house</td>\n",
       "      <td>1.0</td>\n",
       "      <td>21.0</td>\n",
       "      <td>1</td>\n",
       "      <td>Friday</td>\n",
       "      <td>Jan</td>\n",
       "      <td>2010</td>\n",
       "    </tr>\n",
       "  </tbody>\n",
       "</table>\n",
       "</div>"
      ],
      "text/plain": [
       "             Beat   BlockRange   StreetName         OffenseType  \\\n",
       "Date                                                              \n",
       "2010-01-01   5F30  13200-13299    northwest               Theft   \n",
       "2010-01-01  20G10    9900-9999     richmond               Theft   \n",
       "2010-01-01  14D20    8500-8599        rubin  Aggravated Assault   \n",
       "2010-01-01  14D40    4200-4299  friar point            Burglary   \n",
       "2010-01-01  10H70    4800-4899       austin            Burglary   \n",
       "\n",
       "                              Premise  NumOffenses  Hour day weekday month  \\\n",
       "Date                                                                         \n",
       "2010-01-01  department/discount store          1.0  22.0   1  Friday   Jan   \n",
       "2010-01-01      apartment parking lot          1.0  16.0   1  Friday   Jan   \n",
       "2010-01-01       road/street/sidewalk          1.0   7.0   1  Friday   Jan   \n",
       "2010-01-01            residence/house          1.0  20.0   1  Friday   Jan   \n",
       "2010-01-01            residence/house          1.0  21.0   1  Friday   Jan   \n",
       "\n",
       "            year  \n",
       "Date              \n",
       "2010-01-01  2010  \n",
       "2010-01-01  2010  \n",
       "2010-01-01  2010  \n",
       "2010-01-01  2010  \n",
       "2010-01-01  2010  "
      ]
     },
     "execution_count": 14,
     "metadata": {},
     "output_type": "execute_result"
    }
   ],
   "source": [
    "df.head()"
   ]
  },
  {
   "cell_type": "code",
   "execution_count": 15,
   "metadata": {},
   "outputs": [
    {
     "data": {
      "text/plain": [
       "Beat           0\n",
       "BlockRange     0\n",
       "StreetName     7\n",
       "OffenseType    0\n",
       "Premise        0\n",
       "NumOffenses    0\n",
       "Hour           0\n",
       "day            0\n",
       "weekday        0\n",
       "month          0\n",
       "year           0\n",
       "dtype: int64"
      ]
     },
     "execution_count": 15,
     "metadata": {},
     "output_type": "execute_result"
    }
   ],
   "source": [
    "df.apply(lambda x: sum(x.isnull()))"
   ]
  },
  {
   "cell_type": "code",
   "execution_count": 16,
   "metadata": {},
   "outputs": [
    {
     "data": {
      "text/plain": [
       "Beat            object\n",
       "BlockRange      object\n",
       "StreetName      object\n",
       "OffenseType     object\n",
       "Premise         object\n",
       "NumOffenses    float64\n",
       "Hour           float64\n",
       "day             object\n",
       "weekday         object\n",
       "month           object\n",
       "year            object\n",
       "dtype: object"
      ]
     },
     "execution_count": 16,
     "metadata": {},
     "output_type": "execute_result"
    }
   ],
   "source": [
    "df.dtypes"
   ]
  },
  {
   "cell_type": "markdown",
   "metadata": {},
   "source": [
    "## Select Beats\n",
    "\n",
    "- 10H10\n",
    "- 10H30\n",
    "- 10H40\n",
    "- 10H50\n",
    "- 10H60\n",
    "- 10H70\n",
    "- 10H80\n",
    "- 15E40\n",
    "- 1A10"
   ]
  },
  {
   "cell_type": "code",
   "execution_count": 17,
   "metadata": {},
   "outputs": [],
   "source": [
    "beats = ['10H10','10H30', '10H40', '10H50', '10H60','10H70', '10H80', '15E40', '1A10']"
   ]
  },
  {
   "cell_type": "code",
   "execution_count": 18,
   "metadata": {},
   "outputs": [
    {
     "data": {
      "text/html": [
       "<div>\n",
       "<style scoped>\n",
       "    .dataframe tbody tr th:only-of-type {\n",
       "        vertical-align: middle;\n",
       "    }\n",
       "\n",
       "    .dataframe tbody tr th {\n",
       "        vertical-align: top;\n",
       "    }\n",
       "\n",
       "    .dataframe thead th {\n",
       "        text-align: right;\n",
       "    }\n",
       "</style>\n",
       "<table border=\"1\" class=\"dataframe\">\n",
       "  <thead>\n",
       "    <tr style=\"text-align: right;\">\n",
       "      <th></th>\n",
       "      <th>Beat</th>\n",
       "      <th>BlockRange</th>\n",
       "      <th>StreetName</th>\n",
       "      <th>OffenseType</th>\n",
       "      <th>Premise</th>\n",
       "      <th>NumOffenses</th>\n",
       "      <th>Hour</th>\n",
       "      <th>day</th>\n",
       "      <th>weekday</th>\n",
       "      <th>month</th>\n",
       "      <th>year</th>\n",
       "    </tr>\n",
       "    <tr>\n",
       "      <th>Date</th>\n",
       "      <th></th>\n",
       "      <th></th>\n",
       "      <th></th>\n",
       "      <th></th>\n",
       "      <th></th>\n",
       "      <th></th>\n",
       "      <th></th>\n",
       "      <th></th>\n",
       "      <th></th>\n",
       "      <th></th>\n",
       "      <th></th>\n",
       "    </tr>\n",
       "  </thead>\n",
       "  <tbody>\n",
       "    <tr>\n",
       "      <th>2010-01-01</th>\n",
       "      <td>5F30</td>\n",
       "      <td>13200-13299</td>\n",
       "      <td>northwest</td>\n",
       "      <td>Theft</td>\n",
       "      <td>department/discount store</td>\n",
       "      <td>1.0</td>\n",
       "      <td>22.0</td>\n",
       "      <td>1</td>\n",
       "      <td>Friday</td>\n",
       "      <td>Jan</td>\n",
       "      <td>2010</td>\n",
       "    </tr>\n",
       "    <tr>\n",
       "      <th>2010-01-01</th>\n",
       "      <td>20G10</td>\n",
       "      <td>9900-9999</td>\n",
       "      <td>richmond</td>\n",
       "      <td>Theft</td>\n",
       "      <td>apartment parking lot</td>\n",
       "      <td>1.0</td>\n",
       "      <td>16.0</td>\n",
       "      <td>1</td>\n",
       "      <td>Friday</td>\n",
       "      <td>Jan</td>\n",
       "      <td>2010</td>\n",
       "    </tr>\n",
       "    <tr>\n",
       "      <th>2010-01-01</th>\n",
       "      <td>14D20</td>\n",
       "      <td>8500-8599</td>\n",
       "      <td>rubin</td>\n",
       "      <td>Aggravated Assault</td>\n",
       "      <td>road/street/sidewalk</td>\n",
       "      <td>1.0</td>\n",
       "      <td>7.0</td>\n",
       "      <td>1</td>\n",
       "      <td>Friday</td>\n",
       "      <td>Jan</td>\n",
       "      <td>2010</td>\n",
       "    </tr>\n",
       "    <tr>\n",
       "      <th>2010-01-01</th>\n",
       "      <td>14D40</td>\n",
       "      <td>4200-4299</td>\n",
       "      <td>friar point</td>\n",
       "      <td>Burglary</td>\n",
       "      <td>residence/house</td>\n",
       "      <td>1.0</td>\n",
       "      <td>20.0</td>\n",
       "      <td>1</td>\n",
       "      <td>Friday</td>\n",
       "      <td>Jan</td>\n",
       "      <td>2010</td>\n",
       "    </tr>\n",
       "    <tr>\n",
       "      <th>2010-01-01</th>\n",
       "      <td>10H70</td>\n",
       "      <td>4800-4899</td>\n",
       "      <td>austin</td>\n",
       "      <td>Burglary</td>\n",
       "      <td>residence/house</td>\n",
       "      <td>1.0</td>\n",
       "      <td>21.0</td>\n",
       "      <td>1</td>\n",
       "      <td>Friday</td>\n",
       "      <td>Jan</td>\n",
       "      <td>2010</td>\n",
       "    </tr>\n",
       "  </tbody>\n",
       "</table>\n",
       "</div>"
      ],
      "text/plain": [
       "             Beat   BlockRange   StreetName         OffenseType  \\\n",
       "Date                                                              \n",
       "2010-01-01   5F30  13200-13299    northwest               Theft   \n",
       "2010-01-01  20G10    9900-9999     richmond               Theft   \n",
       "2010-01-01  14D20    8500-8599        rubin  Aggravated Assault   \n",
       "2010-01-01  14D40    4200-4299  friar point            Burglary   \n",
       "2010-01-01  10H70    4800-4899       austin            Burglary   \n",
       "\n",
       "                              Premise  NumOffenses  Hour day weekday month  \\\n",
       "Date                                                                         \n",
       "2010-01-01  department/discount store          1.0  22.0   1  Friday   Jan   \n",
       "2010-01-01      apartment parking lot          1.0  16.0   1  Friday   Jan   \n",
       "2010-01-01       road/street/sidewalk          1.0   7.0   1  Friday   Jan   \n",
       "2010-01-01            residence/house          1.0  20.0   1  Friday   Jan   \n",
       "2010-01-01            residence/house          1.0  21.0   1  Friday   Jan   \n",
       "\n",
       "            year  \n",
       "Date              \n",
       "2010-01-01  2010  \n",
       "2010-01-01  2010  \n",
       "2010-01-01  2010  \n",
       "2010-01-01  2010  \n",
       "2010-01-01  2010  "
      ]
     },
     "execution_count": 18,
     "metadata": {},
     "output_type": "execute_result"
    }
   ],
   "source": [
    "df.head()"
   ]
  },
  {
   "cell_type": "code",
   "execution_count": 19,
   "metadata": {},
   "outputs": [
    {
     "data": {
      "text/plain": [
       "1A10     30650\n",
       "10H70    22846\n",
       "19G10    21422\n",
       "12D10    21242\n",
       "1A20     20938\n",
       "10H40    20920\n",
       "6B60     20067\n",
       "13D20    19135\n",
       "3B10     18199\n",
       "18F20    17541\n",
       "Name: Beat, dtype: int64"
      ]
     },
     "execution_count": 19,
     "metadata": {},
     "output_type": "execute_result"
    }
   ],
   "source": [
    "df.Beat.value_counts(dropna=False)[:10]"
   ]
  },
  {
   "cell_type": "code",
   "execution_count": 20,
   "metadata": {},
   "outputs": [],
   "source": [
    "selected_beats = df.Beat.isin(beats)"
   ]
  },
  {
   "cell_type": "code",
   "execution_count": 21,
   "metadata": {},
   "outputs": [
    {
     "data": {
      "text/plain": [
       "Date\n",
       "2010-01-01    False\n",
       "2010-01-01    False\n",
       "2010-01-01    False\n",
       "2010-01-01    False\n",
       "2010-01-01     True\n",
       "Name: Beat, dtype: bool"
      ]
     },
     "execution_count": 21,
     "metadata": {},
     "output_type": "execute_result"
    }
   ],
   "source": [
    "selected_beats.head()"
   ]
  },
  {
   "cell_type": "markdown",
   "metadata": {},
   "source": [
    "## Split selected beats and save "
   ]
  },
  {
   "cell_type": "code",
   "execution_count": 23,
   "metadata": {},
   "outputs": [],
   "source": [
    "df_sb = df[selected_beats]"
   ]
  },
  {
   "cell_type": "code",
   "execution_count": 24,
   "metadata": {},
   "outputs": [
    {
     "name": "stdout",
     "output_type": "stream",
     "text": [
      "<class 'pandas.core.frame.DataFrame'>\n",
      "DatetimeIndex: 154132 entries, 2010-01-01 to 2017-12-31\n",
      "Data columns (total 11 columns):\n",
      "Beat           154132 non-null object\n",
      "BlockRange     154132 non-null object\n",
      "StreetName     154132 non-null object\n",
      "OffenseType    154132 non-null object\n",
      "Premise        154132 non-null object\n",
      "NumOffenses    154132 non-null float64\n",
      "Hour           154132 non-null float64\n",
      "day            154132 non-null object\n",
      "weekday        154132 non-null object\n",
      "month          154132 non-null object\n",
      "year           154132 non-null object\n",
      "dtypes: float64(2), object(9)\n",
      "memory usage: 14.1+ MB\n"
     ]
    }
   ],
   "source": [
    "df_sb.info()"
   ]
  },
  {
   "cell_type": "code",
   "execution_count": 25,
   "metadata": {},
   "outputs": [
    {
     "data": {
      "text/html": [
       "<div>\n",
       "<style scoped>\n",
       "    .dataframe tbody tr th:only-of-type {\n",
       "        vertical-align: middle;\n",
       "    }\n",
       "\n",
       "    .dataframe tbody tr th {\n",
       "        vertical-align: top;\n",
       "    }\n",
       "\n",
       "    .dataframe thead th {\n",
       "        text-align: right;\n",
       "    }\n",
       "</style>\n",
       "<table border=\"1\" class=\"dataframe\">\n",
       "  <thead>\n",
       "    <tr style=\"text-align: right;\">\n",
       "      <th></th>\n",
       "      <th>Beat</th>\n",
       "      <th>BlockRange</th>\n",
       "      <th>StreetName</th>\n",
       "      <th>OffenseType</th>\n",
       "      <th>Premise</th>\n",
       "      <th>NumOffenses</th>\n",
       "      <th>Hour</th>\n",
       "      <th>day</th>\n",
       "      <th>weekday</th>\n",
       "      <th>month</th>\n",
       "      <th>year</th>\n",
       "    </tr>\n",
       "    <tr>\n",
       "      <th>Date</th>\n",
       "      <th></th>\n",
       "      <th></th>\n",
       "      <th></th>\n",
       "      <th></th>\n",
       "      <th></th>\n",
       "      <th></th>\n",
       "      <th></th>\n",
       "      <th></th>\n",
       "      <th></th>\n",
       "      <th></th>\n",
       "      <th></th>\n",
       "    </tr>\n",
       "  </thead>\n",
       "  <tbody>\n",
       "    <tr>\n",
       "      <th>2010-01-01</th>\n",
       "      <td>10H70</td>\n",
       "      <td>4800-4899</td>\n",
       "      <td>austin</td>\n",
       "      <td>Burglary</td>\n",
       "      <td>residence/house</td>\n",
       "      <td>1.0</td>\n",
       "      <td>21.0</td>\n",
       "      <td>1</td>\n",
       "      <td>Friday</td>\n",
       "      <td>Jan</td>\n",
       "      <td>2010</td>\n",
       "    </tr>\n",
       "    <tr>\n",
       "      <th>2010-01-01</th>\n",
       "      <td>10H50</td>\n",
       "      <td>3100-3199</td>\n",
       "      <td>ennis</td>\n",
       "      <td>Aggravated Assault</td>\n",
       "      <td>road/street/sidewalk</td>\n",
       "      <td>1.0</td>\n",
       "      <td>18.0</td>\n",
       "      <td>1</td>\n",
       "      <td>Friday</td>\n",
       "      <td>Jan</td>\n",
       "      <td>2010</td>\n",
       "    </tr>\n",
       "    <tr>\n",
       "      <th>2010-01-01</th>\n",
       "      <td>1A10</td>\n",
       "      <td>400-499</td>\n",
       "      <td>caroline</td>\n",
       "      <td>Theft</td>\n",
       "      <td>road/street/sidewalk</td>\n",
       "      <td>1.0</td>\n",
       "      <td>2.0</td>\n",
       "      <td>1</td>\n",
       "      <td>Friday</td>\n",
       "      <td>Jan</td>\n",
       "      <td>2010</td>\n",
       "    </tr>\n",
       "    <tr>\n",
       "      <th>2010-01-01</th>\n",
       "      <td>10H70</td>\n",
       "      <td>6500-6599</td>\n",
       "      <td>fannin</td>\n",
       "      <td>Aggravated Assault</td>\n",
       "      <td>hospital</td>\n",
       "      <td>1.0</td>\n",
       "      <td>19.0</td>\n",
       "      <td>1</td>\n",
       "      <td>Friday</td>\n",
       "      <td>Jan</td>\n",
       "      <td>2010</td>\n",
       "    </tr>\n",
       "    <tr>\n",
       "      <th>2010-01-01</th>\n",
       "      <td>10H60</td>\n",
       "      <td>4000-4099</td>\n",
       "      <td>canfield</td>\n",
       "      <td>Robbery</td>\n",
       "      <td>bank/saving institution parking lot</td>\n",
       "      <td>1.0</td>\n",
       "      <td>4.0</td>\n",
       "      <td>1</td>\n",
       "      <td>Friday</td>\n",
       "      <td>Jan</td>\n",
       "      <td>2010</td>\n",
       "    </tr>\n",
       "  </tbody>\n",
       "</table>\n",
       "</div>"
      ],
      "text/plain": [
       "             Beat BlockRange StreetName         OffenseType  \\\n",
       "Date                                                          \n",
       "2010-01-01  10H70  4800-4899     austin            Burglary   \n",
       "2010-01-01  10H50  3100-3199      ennis  Aggravated Assault   \n",
       "2010-01-01   1A10    400-499   caroline               Theft   \n",
       "2010-01-01  10H70  6500-6599     fannin  Aggravated Assault   \n",
       "2010-01-01  10H60  4000-4099   canfield             Robbery   \n",
       "\n",
       "                                        Premise  NumOffenses  Hour day  \\\n",
       "Date                                                                     \n",
       "2010-01-01                      residence/house          1.0  21.0   1   \n",
       "2010-01-01                 road/street/sidewalk          1.0  18.0   1   \n",
       "2010-01-01                 road/street/sidewalk          1.0   2.0   1   \n",
       "2010-01-01                             hospital          1.0  19.0   1   \n",
       "2010-01-01  bank/saving institution parking lot          1.0   4.0   1   \n",
       "\n",
       "           weekday month  year  \n",
       "Date                            \n",
       "2010-01-01  Friday   Jan  2010  \n",
       "2010-01-01  Friday   Jan  2010  \n",
       "2010-01-01  Friday   Jan  2010  \n",
       "2010-01-01  Friday   Jan  2010  \n",
       "2010-01-01  Friday   Jan  2010  "
      ]
     },
     "execution_count": 25,
     "metadata": {},
     "output_type": "execute_result"
    }
   ],
   "source": [
    "df_sb.head()"
   ]
  },
  {
   "cell_type": "code",
   "execution_count": 26,
   "metadata": {},
   "outputs": [
    {
     "data": {
      "text/plain": [
       "1A10     30650\n",
       "10H70    22846\n",
       "10H40    20920\n",
       "15E40    16386\n",
       "10H50    16034\n",
       "10H60    15394\n",
       "10H80    14962\n",
       "10H30     8796\n",
       "10H10     8144\n",
       "Name: Beat, dtype: int64"
      ]
     },
     "execution_count": 26,
     "metadata": {},
     "output_type": "execute_result"
    }
   ],
   "source": [
    "df_sb.Beat.value_counts()"
   ]
  },
  {
   "cell_type": "code",
   "execution_count": 27,
   "metadata": {},
   "outputs": [
    {
     "name": "stdout",
     "output_type": "stream",
     "text": [
      "['10H70', '10H50', '1A10', '10H60', '10H10', '15E40', '10H40', '10H30', '10H80']\n"
     ]
    }
   ],
   "source": [
    "print(list(df_sb.Beat.unique()))"
   ]
  },
  {
   "cell_type": "code",
   "execution_count": null,
   "metadata": {},
   "outputs": [],
   "source": []
  },
  {
   "cell_type": "code",
   "execution_count": 28,
   "metadata": {},
   "outputs": [],
   "source": [
    "beat_10H30 = df_sb[df_sb.Beat == '10H30']\n",
    "beat_10H10 = df_sb[df_sb.Beat == '10H10']\n",
    "beat_1A10 = df_sb[df_sb.Beat == '1A10']\n",
    "beat_10H40 = df_sb[df_sb.Beat == '10H40']\n",
    "beat_15E40 = df_sb[df_sb.Beat == '15H40']\n",
    "beat_10H50 = df_sb[df_sb.Beat == '10H50']\n",
    "beat_10H60 = df_sb[df_sb.Beat == '10H60']\n",
    "beat_10H70 = df_sb[df_sb.Beat == '10H70']\n",
    "beat_10H80 =  df_sb[df_sb.Beat == '10H80']\n",
    " "
   ]
  },
  {
   "cell_type": "code",
   "execution_count": 29,
   "metadata": {},
   "outputs": [],
   "source": [
    "beat_10H10.to_csv('beat_crime/beat_10H10.csv')"
   ]
  },
  {
   "cell_type": "code",
   "execution_count": 30,
   "metadata": {},
   "outputs": [],
   "source": [
    "beat_10H30.to_csv('beat_crime//beat_10H30.csv')"
   ]
  },
  {
   "cell_type": "code",
   "execution_count": 31,
   "metadata": {},
   "outputs": [],
   "source": [
    "beat_10H40.to_csv('beat_crime//beat_10H40.csv')"
   ]
  },
  {
   "cell_type": "code",
   "execution_count": 32,
   "metadata": {},
   "outputs": [],
   "source": [
    "beat_10H50.to_csv('beat_crime//beat_10H50.csv')"
   ]
  },
  {
   "cell_type": "code",
   "execution_count": 33,
   "metadata": {},
   "outputs": [],
   "source": [
    "beat_10H60.to_csv('beat_crime//beat_10H60.csv')"
   ]
  },
  {
   "cell_type": "code",
   "execution_count": 34,
   "metadata": {},
   "outputs": [],
   "source": [
    "beat_10H70.to_csv('beat_crime//beat_10H70.csv')"
   ]
  },
  {
   "cell_type": "code",
   "execution_count": 35,
   "metadata": {},
   "outputs": [],
   "source": [
    "beat_10H80.to_csv('beat_crime//beat_10H80.csv')"
   ]
  },
  {
   "cell_type": "code",
   "execution_count": 36,
   "metadata": {},
   "outputs": [],
   "source": [
    "beat_15E40.to_csv('beat_crime//beat_15E40.csv')"
   ]
  },
  {
   "cell_type": "code",
   "execution_count": 37,
   "metadata": {},
   "outputs": [],
   "source": [
    "beat_1A10.to_csv('beat_crime//beat_1A10.csv')"
   ]
  },
  {
   "cell_type": "code",
   "execution_count": 40,
   "metadata": {},
   "outputs": [
    {
     "name": "stdout",
     "output_type": "stream",
     "text": [
      "\u001b[0m\u001b[01;32mbeat_10H10.csv\u001b[0m*  \u001b[01;32mbeat_10H50.csv\u001b[0m*  \u001b[01;32mbeat_10H80.csv\u001b[0m*\r\n",
      "\u001b[01;32mbeat_10H30.csv\u001b[0m*  \u001b[01;32mbeat_10H60.csv\u001b[0m*  \u001b[01;32mbeat_15E40.csv\u001b[0m*\r\n",
      "\u001b[01;32mbeat_10H40.csv\u001b[0m*  \u001b[01;32mbeat_10H70.csv\u001b[0m*  \u001b[01;32mbeat_1A10.csv\u001b[0m*\r\n"
     ]
    }
   ],
   "source": [
    "ls beat_crime/"
   ]
  },
  {
   "cell_type": "code",
   "execution_count": null,
   "metadata": {},
   "outputs": [],
   "source": []
  }
 ],
 "metadata": {
  "kernelspec": {
   "display_name": "Python 3",
   "language": "python",
   "name": "python3"
  },
  "language_info": {
   "codemirror_mode": {
    "name": "ipython",
    "version": 3
   },
   "file_extension": ".py",
   "mimetype": "text/x-python",
   "name": "python",
   "nbconvert_exporter": "python",
   "pygments_lexer": "ipython3",
   "version": "3.6.4"
  }
 },
 "nbformat": 4,
 "nbformat_minor": 2
}
