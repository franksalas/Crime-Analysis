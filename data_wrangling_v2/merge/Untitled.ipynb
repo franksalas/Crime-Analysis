{
 "cells": [
  {
   "cell_type": "markdown",
   "metadata": {},
   "source": [
    "## Sports Crime merge"
   ]
  },
  {
   "cell_type": "code",
   "execution_count": 9,
   "metadata": {},
   "outputs": [],
   "source": [
    "import pandas as pd\n",
    "import numpy as np\n",
    "import glob, os\n",
    "\n",
    "\n",
    "import warnings\n",
    "warnings.filterwarnings('ignore')"
   ]
  },
  {
   "cell_type": "code",
   "execution_count": 3,
   "metadata": {},
   "outputs": [
    {
     "name": "stdout",
     "output_type": "stream",
     "text": [
      "\u001b[0m\u001b[01;32mbeat_10H10.csv\u001b[0m*  \u001b[01;32mbeat_10H50.csv\u001b[0m*  \u001b[01;32mbeat_10H80.csv\u001b[0m*\r\n",
      "\u001b[01;32mbeat_10H30.csv\u001b[0m*  \u001b[01;32mbeat_10H60.csv\u001b[0m*  \u001b[01;32mbeat_15E40.csv\u001b[0m*\r\n",
      "\u001b[01;32mbeat_10H40.csv\u001b[0m*  \u001b[01;32mbeat_10H70.csv\u001b[0m*  \u001b[01;32mbeat_1A10.csv\u001b[0m*\r\n"
     ]
    }
   ],
   "source": [
    "ls beat_crime/"
   ]
  },
  {
   "cell_type": "code",
   "execution_count": 5,
   "metadata": {},
   "outputs": [
    {
     "name": "stdout",
     "output_type": "stream",
     "text": [
      "\u001b[0m\u001b[01;32mastros_clean.csv\u001b[0m*  \u001b[01;32mRice_clean.csv\u001b[0m*     \u001b[01;32mtexans_clean.csv\u001b[0m*\r\n",
      "\u001b[01;32mdynamo_clean.csv\u001b[0m*  \u001b[01;32mrockets_clean.csv\u001b[0m*  \u001b[01;32mUH_clean.csv\u001b[0m*\r\n"
     ]
    }
   ],
   "source": [
    "ls sports_clean/"
   ]
  },
  {
   "cell_type": "markdown",
   "metadata": {},
   "source": [
    "## Toyotoa Center\n",
    "\n",
    "### beats\n",
    "    - 1A10\n",
    "    - 10H30\n",
    "    - 10H40\n",
    "    - 10H50"
   ]
  },
  {
   "cell_type": "code",
   "execution_count": null,
   "metadata": {},
   "outputs": [],
   "source": []
  },
  {
   "cell_type": "code",
   "execution_count": 11,
   "metadata": {},
   "outputs": [],
   "source": [
    "path = 'beat_crime/'"
   ]
  },
  {
   "cell_type": "code",
   "execution_count": 15,
   "metadata": {},
   "outputs": [
    {
     "data": {
      "text/html": [
       "<div>\n",
       "<style scoped>\n",
       "    .dataframe tbody tr th:only-of-type {\n",
       "        vertical-align: middle;\n",
       "    }\n",
       "\n",
       "    .dataframe tbody tr th {\n",
       "        vertical-align: top;\n",
       "    }\n",
       "\n",
       "    .dataframe thead th {\n",
       "        text-align: right;\n",
       "    }\n",
       "</style>\n",
       "<table border=\"1\" class=\"dataframe\">\n",
       "  <thead>\n",
       "    <tr style=\"text-align: right;\">\n",
       "      <th></th>\n",
       "      <th>Beat</th>\n",
       "      <th>BlockRange</th>\n",
       "      <th>StreetName</th>\n",
       "      <th>OffenseType</th>\n",
       "      <th>Premise</th>\n",
       "      <th>NumOffenses</th>\n",
       "      <th>Hour</th>\n",
       "      <th>day</th>\n",
       "      <th>weekday</th>\n",
       "      <th>month</th>\n",
       "      <th>year</th>\n",
       "    </tr>\n",
       "    <tr>\n",
       "      <th>Date</th>\n",
       "      <th></th>\n",
       "      <th></th>\n",
       "      <th></th>\n",
       "      <th></th>\n",
       "      <th></th>\n",
       "      <th></th>\n",
       "      <th></th>\n",
       "      <th></th>\n",
       "      <th></th>\n",
       "      <th></th>\n",
       "      <th></th>\n",
       "    </tr>\n",
       "  </thead>\n",
       "  <tbody>\n",
       "    <tr>\n",
       "      <th>2010-01-01</th>\n",
       "      <td>10H10</td>\n",
       "      <td>1900-1999</td>\n",
       "      <td>runnels</td>\n",
       "      <td>Theft</td>\n",
       "      <td>road/street/sidewalk</td>\n",
       "      <td>1.0</td>\n",
       "      <td>20.0</td>\n",
       "      <td>1</td>\n",
       "      <td>Friday</td>\n",
       "      <td>Jan</td>\n",
       "      <td>2010</td>\n",
       "    </tr>\n",
       "    <tr>\n",
       "      <th>2010-01-01</th>\n",
       "      <td>10H40</td>\n",
       "      <td>2400-2499</td>\n",
       "      <td>san jacinto</td>\n",
       "      <td>Theft</td>\n",
       "      <td>bar/night club</td>\n",
       "      <td>1.0</td>\n",
       "      <td>1.0</td>\n",
       "      <td>1</td>\n",
       "      <td>Friday</td>\n",
       "      <td>Jan</td>\n",
       "      <td>2010</td>\n",
       "    </tr>\n",
       "    <tr>\n",
       "      <th>2010-01-01</th>\n",
       "      <td>10H60</td>\n",
       "      <td>3500-3599</td>\n",
       "      <td>macgregor</td>\n",
       "      <td>Theft</td>\n",
       "      <td>apartment</td>\n",
       "      <td>1.0</td>\n",
       "      <td>0.0</td>\n",
       "      <td>1</td>\n",
       "      <td>Friday</td>\n",
       "      <td>Jan</td>\n",
       "      <td>2010</td>\n",
       "    </tr>\n",
       "    <tr>\n",
       "      <th>2010-01-01</th>\n",
       "      <td>10H60</td>\n",
       "      <td>3700-3799</td>\n",
       "      <td>odin</td>\n",
       "      <td>Theft</td>\n",
       "      <td>apartment</td>\n",
       "      <td>1.0</td>\n",
       "      <td>6.0</td>\n",
       "      <td>1</td>\n",
       "      <td>Friday</td>\n",
       "      <td>Jan</td>\n",
       "      <td>2010</td>\n",
       "    </tr>\n",
       "    <tr>\n",
       "      <th>2010-01-01</th>\n",
       "      <td>10H60</td>\n",
       "      <td>2500-2599</td>\n",
       "      <td>southmore</td>\n",
       "      <td>Burglary</td>\n",
       "      <td>apartment</td>\n",
       "      <td>1.0</td>\n",
       "      <td>0.0</td>\n",
       "      <td>1</td>\n",
       "      <td>Friday</td>\n",
       "      <td>Jan</td>\n",
       "      <td>2010</td>\n",
       "    </tr>\n",
       "  </tbody>\n",
       "</table>\n",
       "</div>"
      ],
      "text/plain": [
       "             Beat BlockRange   StreetName OffenseType               Premise  \\\n",
       "Date                                                                          \n",
       "2010-01-01  10H10  1900-1999      runnels       Theft  road/street/sidewalk   \n",
       "2010-01-01  10H40  2400-2499  san jacinto       Theft        bar/night club   \n",
       "2010-01-01  10H60  3500-3599    macgregor       Theft             apartment   \n",
       "2010-01-01  10H60  3700-3799         odin       Theft             apartment   \n",
       "2010-01-01  10H60  2500-2599    southmore    Burglary             apartment   \n",
       "\n",
       "            NumOffenses  Hour day weekday month  year  \n",
       "Date                                                   \n",
       "2010-01-01          1.0  20.0   1  Friday   Jan  2010  \n",
       "2010-01-01          1.0   1.0   1  Friday   Jan  2010  \n",
       "2010-01-01          1.0   0.0   1  Friday   Jan  2010  \n",
       "2010-01-01          1.0   6.0   1  Friday   Jan  2010  \n",
       "2010-01-01          1.0   0.0   1  Friday   Jan  2010  "
      ]
     },
     "execution_count": 15,
     "metadata": {},
     "output_type": "execute_result"
    }
   ],
   "source": [
    "## load all beat files\n",
    "# combine all files into one df\n",
    "all_files = glob.glob(os.path.join(path, \"*.csv\")) \n",
    "df_from_each_file = (pd.read_csv(f) for f in all_files)\n",
    "df   = pd.concat(df_from_each_file, ignore_index=True)\n",
    "df = df.set_index('Date').sort_index(ascending=True)\n",
    "df.head()"
   ]
  },
  {
   "cell_type": "code",
   "execution_count": 16,
   "metadata": {},
   "outputs": [
    {
     "name": "stdout",
     "output_type": "stream",
     "text": [
      "<class 'pandas.core.frame.DataFrame'>\n",
      "Index: 137746 entries, 2010-01-01 to 2017-12-31\n",
      "Data columns (total 11 columns):\n",
      "Beat           137746 non-null object\n",
      "BlockRange     137746 non-null object\n",
      "StreetName     137746 non-null object\n",
      "OffenseType    137746 non-null object\n",
      "Premise        137746 non-null object\n",
      "NumOffenses    137746 non-null float64\n",
      "Hour           137746 non-null float64\n",
      "day            137746 non-null object\n",
      "weekday        137746 non-null object\n",
      "month          137746 non-null object\n",
      "year           137746 non-null object\n",
      "dtypes: float64(2), object(9)\n",
      "memory usage: 12.6+ MB\n"
     ]
    }
   ],
   "source": [
    "df.info()"
   ]
  },
  {
   "cell_type": "markdown",
   "metadata": {},
   "source": [
    "## Split crime  based on beats surrounding stadium"
   ]
  },
  {
   "cell_type": "code",
   "execution_count": 30,
   "metadata": {},
   "outputs": [],
   "source": [
    "toyota_center = ['1A10', '10H30', '10H40', '10H50']\n",
    "tdecu = ['10H50','10H60']\n",
    "rice = ['10H80','10H70']\n",
    "nrg = ['15E40']\n",
    "mm_park = ['1A10', '10H30', '10H10']\n",
    "bbva =  ['1A10', '10H30', '10H10']  # share beats with  mm park"
   ]
  },
  {
   "cell_type": "markdown",
   "metadata": {},
   "source": [
    "filters for each stadium and police beat"
   ]
  },
  {
   "cell_type": "code",
   "execution_count": 31,
   "metadata": {},
   "outputs": [],
   "source": [
    "toyota_center_crime = df.Beat.isin(toyota_center)\n",
    "tdecu_crime = df.Beat.isin(tdecu)\n",
    "rice_stadium_crime = df.Beat.isin(rice)\n",
    "nrg_crime = df.Beat.isin(nrg)\n",
    "mm_park_crime = df.Beat.isin(mm_park)\n",
    "bbva_crime = df.Beat.isin(bbva)"
   ]
  },
  {
   "cell_type": "code",
   "execution_count": null,
   "metadata": {},
   "outputs": [],
   "source": []
  },
  {
   "cell_type": "markdown",
   "metadata": {},
   "source": [
    "## Basketball team: Houston Rockets,\n",
    "## Stadium : Toyota Center"
   ]
  },
  {
   "cell_type": "code",
   "execution_count": 37,
   "metadata": {},
   "outputs": [],
   "source": [
    "tc_df = df[toyota_center_crime]"
   ]
  },
  {
   "cell_type": "code",
   "execution_count": 39,
   "metadata": {},
   "outputs": [
    {
     "name": "stdout",
     "output_type": "stream",
     "text": [
      "<class 'pandas.core.frame.DataFrame'>\n",
      "Index: 76400 entries, 2010-01-01 to 2017-12-31\n",
      "Data columns (total 11 columns):\n",
      "Beat           76400 non-null object\n",
      "BlockRange     76400 non-null object\n",
      "StreetName     76400 non-null object\n",
      "OffenseType    76400 non-null object\n",
      "Premise        76400 non-null object\n",
      "NumOffenses    76400 non-null float64\n",
      "Hour           76400 non-null float64\n",
      "day            76400 non-null object\n",
      "weekday        76400 non-null object\n",
      "month          76400 non-null object\n",
      "year           76400 non-null object\n",
      "dtypes: float64(2), object(9)\n",
      "memory usage: 7.0+ MB\n"
     ]
    }
   ],
   "source": [
    "tc_df.info()"
   ]
  },
  {
   "cell_type": "code",
   "execution_count": 40,
   "metadata": {},
   "outputs": [
    {
     "data": {
      "text/html": [
       "<div>\n",
       "<style scoped>\n",
       "    .dataframe tbody tr th:only-of-type {\n",
       "        vertical-align: middle;\n",
       "    }\n",
       "\n",
       "    .dataframe tbody tr th {\n",
       "        vertical-align: top;\n",
       "    }\n",
       "\n",
       "    .dataframe thead th {\n",
       "        text-align: right;\n",
       "    }\n",
       "</style>\n",
       "<table border=\"1\" class=\"dataframe\">\n",
       "  <thead>\n",
       "    <tr style=\"text-align: right;\">\n",
       "      <th></th>\n",
       "      <th>Beat</th>\n",
       "      <th>BlockRange</th>\n",
       "      <th>StreetName</th>\n",
       "      <th>OffenseType</th>\n",
       "      <th>Premise</th>\n",
       "      <th>NumOffenses</th>\n",
       "      <th>Hour</th>\n",
       "      <th>day</th>\n",
       "      <th>weekday</th>\n",
       "      <th>month</th>\n",
       "      <th>year</th>\n",
       "    </tr>\n",
       "    <tr>\n",
       "      <th>Date</th>\n",
       "      <th></th>\n",
       "      <th></th>\n",
       "      <th></th>\n",
       "      <th></th>\n",
       "      <th></th>\n",
       "      <th></th>\n",
       "      <th></th>\n",
       "      <th></th>\n",
       "      <th></th>\n",
       "      <th></th>\n",
       "      <th></th>\n",
       "    </tr>\n",
       "  </thead>\n",
       "  <tbody>\n",
       "    <tr>\n",
       "      <th>2010-01-01</th>\n",
       "      <td>10H40</td>\n",
       "      <td>2400-2499</td>\n",
       "      <td>san jacinto</td>\n",
       "      <td>Theft</td>\n",
       "      <td>bar/night club</td>\n",
       "      <td>1.0</td>\n",
       "      <td>1.0</td>\n",
       "      <td>1</td>\n",
       "      <td>Friday</td>\n",
       "      <td>Jan</td>\n",
       "      <td>2010</td>\n",
       "    </tr>\n",
       "    <tr>\n",
       "      <th>2010-01-01</th>\n",
       "      <td>10H50</td>\n",
       "      <td>3100-3199</td>\n",
       "      <td>ennis</td>\n",
       "      <td>Aggravated Assault</td>\n",
       "      <td>road/street/sidewalk</td>\n",
       "      <td>1.0</td>\n",
       "      <td>18.0</td>\n",
       "      <td>1</td>\n",
       "      <td>Friday</td>\n",
       "      <td>Jan</td>\n",
       "      <td>2010</td>\n",
       "    </tr>\n",
       "    <tr>\n",
       "      <th>2010-01-01</th>\n",
       "      <td>10H50</td>\n",
       "      <td>3400-3499</td>\n",
       "      <td>rosalie</td>\n",
       "      <td>Aggravated Assault</td>\n",
       "      <td>multi-plex hme(duplex,triplex etc)</td>\n",
       "      <td>1.0</td>\n",
       "      <td>21.0</td>\n",
       "      <td>1</td>\n",
       "      <td>Friday</td>\n",
       "      <td>Jan</td>\n",
       "      <td>2010</td>\n",
       "    </tr>\n",
       "    <tr>\n",
       "      <th>2010-01-01</th>\n",
       "      <td>10H50</td>\n",
       "      <td>3100-3199</td>\n",
       "      <td>ennis</td>\n",
       "      <td>Aggravated Assault</td>\n",
       "      <td>road/street/sidewalk</td>\n",
       "      <td>1.0</td>\n",
       "      <td>18.0</td>\n",
       "      <td>1</td>\n",
       "      <td>Friday</td>\n",
       "      <td>Jan</td>\n",
       "      <td>2010</td>\n",
       "    </tr>\n",
       "    <tr>\n",
       "      <th>2010-01-01</th>\n",
       "      <td>10H50</td>\n",
       "      <td>3400-3499</td>\n",
       "      <td>rosalie</td>\n",
       "      <td>Theft</td>\n",
       "      <td>residence/house</td>\n",
       "      <td>1.0</td>\n",
       "      <td>12.0</td>\n",
       "      <td>1</td>\n",
       "      <td>Friday</td>\n",
       "      <td>Jan</td>\n",
       "      <td>2010</td>\n",
       "    </tr>\n",
       "  </tbody>\n",
       "</table>\n",
       "</div>"
      ],
      "text/plain": [
       "             Beat BlockRange   StreetName         OffenseType  \\\n",
       "Date                                                            \n",
       "2010-01-01  10H40  2400-2499  san jacinto               Theft   \n",
       "2010-01-01  10H50  3100-3199        ennis  Aggravated Assault   \n",
       "2010-01-01  10H50  3400-3499      rosalie  Aggravated Assault   \n",
       "2010-01-01  10H50  3100-3199        ennis  Aggravated Assault   \n",
       "2010-01-01  10H50  3400-3499      rosalie               Theft   \n",
       "\n",
       "                                       Premise  NumOffenses  Hour day weekday  \\\n",
       "Date                                                                            \n",
       "2010-01-01                      bar/night club          1.0   1.0   1  Friday   \n",
       "2010-01-01                road/street/sidewalk          1.0  18.0   1  Friday   \n",
       "2010-01-01  multi-plex hme(duplex,triplex etc)          1.0  21.0   1  Friday   \n",
       "2010-01-01                road/street/sidewalk          1.0  18.0   1  Friday   \n",
       "2010-01-01                     residence/house          1.0  12.0   1  Friday   \n",
       "\n",
       "           month  year  \n",
       "Date                    \n",
       "2010-01-01   Jan  2010  \n",
       "2010-01-01   Jan  2010  \n",
       "2010-01-01   Jan  2010  \n",
       "2010-01-01   Jan  2010  \n",
       "2010-01-01   Jan  2010  "
      ]
     },
     "execution_count": 40,
     "metadata": {},
     "output_type": "execute_result"
    }
   ],
   "source": [
    "tc_df.head()"
   ]
  },
  {
   "cell_type": "code",
   "execution_count": 44,
   "metadata": {},
   "outputs": [],
   "source": [
    "games = 'sports_clean/rockets_clean.csv'"
   ]
  },
  {
   "cell_type": "code",
   "execution_count": 52,
   "metadata": {},
   "outputs": [
    {
     "data": {
      "text/html": [
       "<div>\n",
       "<style scoped>\n",
       "    .dataframe tbody tr th:only-of-type {\n",
       "        vertical-align: middle;\n",
       "    }\n",
       "\n",
       "    .dataframe tbody tr th {\n",
       "        vertical-align: top;\n",
       "    }\n",
       "\n",
       "    .dataframe thead th {\n",
       "        text-align: right;\n",
       "    }\n",
       "</style>\n",
       "<table border=\"1\" class=\"dataframe\">\n",
       "  <thead>\n",
       "    <tr style=\"text-align: right;\">\n",
       "      <th></th>\n",
       "      <th>win</th>\n",
       "    </tr>\n",
       "    <tr>\n",
       "      <th>Date</th>\n",
       "      <th></th>\n",
       "    </tr>\n",
       "  </thead>\n",
       "  <tbody>\n",
       "    <tr>\n",
       "      <th>2010-01-09</th>\n",
       "      <td>1</td>\n",
       "    </tr>\n",
       "    <tr>\n",
       "      <th>2010-01-13</th>\n",
       "      <td>1</td>\n",
       "    </tr>\n",
       "    <tr>\n",
       "      <th>2010-01-15</th>\n",
       "      <td>0</td>\n",
       "    </tr>\n",
       "    <tr>\n",
       "      <th>2010-01-18</th>\n",
       "      <td>1</td>\n",
       "    </tr>\n",
       "    <tr>\n",
       "      <th>2010-01-23</th>\n",
       "      <td>0</td>\n",
       "    </tr>\n",
       "  </tbody>\n",
       "</table>\n",
       "</div>"
      ],
      "text/plain": [
       "            win\n",
       "Date           \n",
       "2010-01-09    1\n",
       "2010-01-13    1\n",
       "2010-01-15    0\n",
       "2010-01-18    1\n",
       "2010-01-23    0"
      ]
     },
     "execution_count": 52,
     "metadata": {},
     "output_type": "execute_result"
    }
   ],
   "source": [
    "df = pd.read_csv(games,index_col='Date').sort_index(ascending=True)\n",
    "\n",
    "\n",
    "## filter days between 2010 and 2017\n",
    "df = df.ix['2010-01-01':'2017-12-31']\n",
    "\n",
    "## win column\n",
    "df['win'] =  np.where(df['Team_score'] > df['Opponent_score'],1,0)\n",
    "\n",
    "# only oposing name and win boolean\n",
    "df = df[['win']]\n",
    "\n",
    "# show\n",
    "\n",
    "df.head()"
   ]
  },
  {
   "cell_type": "markdown",
   "metadata": {},
   "source": [
    "## Days Dataframe\n",
    "\n",
    "Create a df with dates from 2010 to 2017"
   ]
  },
  {
   "cell_type": "code",
   "execution_count": 53,
   "metadata": {},
   "outputs": [
    {
     "data": {
      "text/html": [
       "<div>\n",
       "<style scoped>\n",
       "    .dataframe tbody tr th:only-of-type {\n",
       "        vertical-align: middle;\n",
       "    }\n",
       "\n",
       "    .dataframe tbody tr th {\n",
       "        vertical-align: top;\n",
       "    }\n",
       "\n",
       "    .dataframe thead th {\n",
       "        text-align: right;\n",
       "    }\n",
       "</style>\n",
       "<table border=\"1\" class=\"dataframe\">\n",
       "  <thead>\n",
       "    <tr style=\"text-align: right;\">\n",
       "      <th></th>\n",
       "    </tr>\n",
       "    <tr>\n",
       "      <th>days</th>\n",
       "    </tr>\n",
       "  </thead>\n",
       "  <tbody>\n",
       "    <tr>\n",
       "      <th>2010-01-01</th>\n",
       "    </tr>\n",
       "    <tr>\n",
       "      <th>2010-01-02</th>\n",
       "    </tr>\n",
       "    <tr>\n",
       "      <th>2010-01-03</th>\n",
       "    </tr>\n",
       "    <tr>\n",
       "      <th>2010-01-04</th>\n",
       "    </tr>\n",
       "    <tr>\n",
       "      <th>2010-01-05</th>\n",
       "    </tr>\n",
       "  </tbody>\n",
       "</table>\n",
       "</div>"
      ],
      "text/plain": [
       "Empty DataFrame\n",
       "Columns: []\n",
       "Index: [2010-01-01 00:00:00, 2010-01-02 00:00:00, 2010-01-03 00:00:00, 2010-01-04 00:00:00, 2010-01-05 00:00:00]"
      ]
     },
     "execution_count": 53,
     "metadata": {},
     "output_type": "execute_result"
    }
   ],
   "source": [
    "days = pd.date_range(start='01/01/2010', end='12/30/2017')\n",
    "days = pd.DataFrame(days)\n",
    "\n",
    "days.columns = ['days']\n",
    "days = days.set_index('days').sort_index(ascending=True)\n",
    "\n",
    "days.head()"
   ]
  },
  {
   "cell_type": "code",
   "execution_count": null,
   "metadata": {},
   "outputs": [],
   "source": []
  }
 ],
 "metadata": {
  "kernelspec": {
   "display_name": "Python 3",
   "language": "python",
   "name": "python3"
  },
  "language_info": {
   "codemirror_mode": {
    "name": "ipython",
    "version": 3
   },
   "file_extension": ".py",
   "mimetype": "text/x-python",
   "name": "python",
   "nbconvert_exporter": "python",
   "pygments_lexer": "ipython3",
   "version": "3.6.4"
  }
 },
 "nbformat": 4,
 "nbformat_minor": 2
}
