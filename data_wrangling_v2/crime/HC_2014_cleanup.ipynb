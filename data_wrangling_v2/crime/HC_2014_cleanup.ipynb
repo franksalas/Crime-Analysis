{
 "cells": [
  {
   "cell_type": "markdown",
   "metadata": {},
   "source": [
    "# Crime data from 2014\n",
    "\n",
    "http://www.houstontx.gov/police/cs/crime-stats-archives.htm"
   ]
  },
  {
   "cell_type": "code",
   "execution_count": 1,
   "metadata": {},
   "outputs": [],
   "source": [
    "import pandas as pd\n",
    "import glob, os\n",
    "import numpy as np\n",
    "import matplotlib.pyplot as plt\n",
    "import datetime  as dt\n",
    "import seaborn as sns\n",
    "\n",
    "import warnings\n",
    "warnings.filterwarnings('ignore')"
   ]
  },
  {
   "cell_type": "code",
   "execution_count": 2,
   "metadata": {},
   "outputs": [
    {
     "name": "stdout",
     "output_type": "stream",
     "text": [
      "\u001b[0m\u001b[01;32mapr14.xls\u001b[0m*  \u001b[01;32mdec14.xls\u001b[0m*  \u001b[01;32mjan14.xls\u001b[0m*  \u001b[01;32mjun_ed_14.xls\u001b[0m*  \u001b[01;32mmay14.xls\u001b[0m*  \u001b[01;32moct14.xls\u001b[0m*\r\n",
      "\u001b[01;32maug14.xls\u001b[0m*  \u001b[01;32mfeb14.xls\u001b[0m*  \u001b[01;32mjul14.xls\u001b[0m*  \u001b[01;32mmar14.xls\u001b[0m*      \u001b[01;32mnov14.xls\u001b[0m*  \u001b[01;32msep14.xls\u001b[0m*\r\n"
     ]
    }
   ],
   "source": [
    "ls data/2014"
   ]
  },
  {
   "cell_type": "code",
   "execution_count": 3,
   "metadata": {},
   "outputs": [],
   "source": [
    "path = 'data/2014'"
   ]
  },
  {
   "cell_type": "code",
   "execution_count": 4,
   "metadata": {},
   "outputs": [],
   "source": [
    "# combine all files into one df\n",
    "all_files = glob.glob(os.path.join(path, \"*.xls\")) \n",
    "df_from_each_file = (pd.read_excel(f) for f in all_files)\n",
    "df   = pd.concat(df_from_each_file, ignore_index=True)"
   ]
  },
  {
   "cell_type": "code",
   "execution_count": 5,
   "metadata": {},
   "outputs": [
    {
     "data": {
      "text/html": [
       "<div>\n",
       "<style scoped>\n",
       "    .dataframe tbody tr th:only-of-type {\n",
       "        vertical-align: middle;\n",
       "    }\n",
       "\n",
       "    .dataframe tbody tr th {\n",
       "        vertical-align: top;\n",
       "    }\n",
       "\n",
       "    .dataframe thead th {\n",
       "        text-align: right;\n",
       "    }\n",
       "</style>\n",
       "<table border=\"1\" class=\"dataframe\">\n",
       "  <thead>\n",
       "    <tr style=\"text-align: right;\">\n",
       "      <th></th>\n",
       "      <th># Of</th>\n",
       "      <th># Of Offenses</th>\n",
       "      <th># Offenses</th>\n",
       "      <th># offenses</th>\n",
       "      <th>Beat</th>\n",
       "      <th>Block Range</th>\n",
       "      <th>BlockRange</th>\n",
       "      <th>Date</th>\n",
       "      <th>Hour</th>\n",
       "      <th>Offense Type</th>\n",
       "      <th>Premise</th>\n",
       "      <th>Street Name</th>\n",
       "      <th>StreetName</th>\n",
       "      <th>Suffix</th>\n",
       "      <th>Type</th>\n",
       "    </tr>\n",
       "  </thead>\n",
       "  <tbody>\n",
       "    <tr>\n",
       "      <th>0</th>\n",
       "      <td>NaN</td>\n",
       "      <td>1.0</td>\n",
       "      <td>NaN</td>\n",
       "      <td>NaN</td>\n",
       "      <td>14D30</td>\n",
       "      <td>8500-8599</td>\n",
       "      <td>NaN</td>\n",
       "      <td>2014-04-19</td>\n",
       "      <td>17</td>\n",
       "      <td>Murder</td>\n",
       "      <td>18D</td>\n",
       "      <td>MARTIN LUTHER KING</td>\n",
       "      <td>NaN</td>\n",
       "      <td>-</td>\n",
       "      <td>BLVD</td>\n",
       "    </tr>\n",
       "    <tr>\n",
       "      <th>1</th>\n",
       "      <td>NaN</td>\n",
       "      <td>1.0</td>\n",
       "      <td>NaN</td>\n",
       "      <td>NaN</td>\n",
       "      <td>10H20</td>\n",
       "      <td>3600-3699</td>\n",
       "      <td>NaN</td>\n",
       "      <td>2014-04-28</td>\n",
       "      <td>5</td>\n",
       "      <td>Murder</td>\n",
       "      <td>13R</td>\n",
       "      <td>MCKINNEY</td>\n",
       "      <td>NaN</td>\n",
       "      <td>-</td>\n",
       "      <td>ST</td>\n",
       "    </tr>\n",
       "    <tr>\n",
       "      <th>2</th>\n",
       "      <td>NaN</td>\n",
       "      <td>3.0</td>\n",
       "      <td>NaN</td>\n",
       "      <td>NaN</td>\n",
       "      <td>5F30</td>\n",
       "      <td>7400-7499</td>\n",
       "      <td>NaN</td>\n",
       "      <td>2014-04-27</td>\n",
       "      <td>18</td>\n",
       "      <td>Murder</td>\n",
       "      <td>20A</td>\n",
       "      <td>HILLMONT</td>\n",
       "      <td>NaN</td>\n",
       "      <td>-</td>\n",
       "      <td>-</td>\n",
       "    </tr>\n",
       "    <tr>\n",
       "      <th>3</th>\n",
       "      <td>NaN</td>\n",
       "      <td>2.0</td>\n",
       "      <td>NaN</td>\n",
       "      <td>NaN</td>\n",
       "      <td>17E10</td>\n",
       "      <td>5400-5499</td>\n",
       "      <td>NaN</td>\n",
       "      <td>2014-04-09</td>\n",
       "      <td>18</td>\n",
       "      <td>Murder</td>\n",
       "      <td>20A</td>\n",
       "      <td>RENWICK</td>\n",
       "      <td>NaN</td>\n",
       "      <td>-</td>\n",
       "      <td>-</td>\n",
       "    </tr>\n",
       "    <tr>\n",
       "      <th>4</th>\n",
       "      <td>NaN</td>\n",
       "      <td>1.0</td>\n",
       "      <td>NaN</td>\n",
       "      <td>NaN</td>\n",
       "      <td>18F50</td>\n",
       "      <td>9300-9399</td>\n",
       "      <td>NaN</td>\n",
       "      <td>2014-04-24</td>\n",
       "      <td>3</td>\n",
       "      <td>Murder</td>\n",
       "      <td>03B</td>\n",
       "      <td>RICHMOND</td>\n",
       "      <td>NaN</td>\n",
       "      <td>-</td>\n",
       "      <td>AVE</td>\n",
       "    </tr>\n",
       "  </tbody>\n",
       "</table>\n",
       "</div>"
      ],
      "text/plain": [
       "   # Of  # Of Offenses  # Offenses  # offenses   Beat Block Range BlockRange  \\\n",
       "0   NaN            1.0         NaN         NaN  14D30   8500-8599        NaN   \n",
       "1   NaN            1.0         NaN         NaN  10H20   3600-3699        NaN   \n",
       "2   NaN            3.0         NaN         NaN   5F30   7400-7499        NaN   \n",
       "3   NaN            2.0         NaN         NaN  17E10   5400-5499        NaN   \n",
       "4   NaN            1.0         NaN         NaN  18F50   9300-9399        NaN   \n",
       "\n",
       "        Date  Hour Offense Type Premise         Street Name StreetName Suffix  \\\n",
       "0 2014-04-19    17       Murder     18D  MARTIN LUTHER KING        NaN      -   \n",
       "1 2014-04-28     5       Murder     13R            MCKINNEY        NaN      -   \n",
       "2 2014-04-27    18       Murder     20A            HILLMONT        NaN      -   \n",
       "3 2014-04-09    18       Murder     20A             RENWICK        NaN      -   \n",
       "4 2014-04-24     3       Murder     03B            RICHMOND        NaN      -   \n",
       "\n",
       "   Type  \n",
       "0  BLVD  \n",
       "1    ST  \n",
       "2     -  \n",
       "3     -  \n",
       "4   AVE  "
      ]
     },
     "execution_count": 5,
     "metadata": {},
     "output_type": "execute_result"
    }
   ],
   "source": [
    "df.head()"
   ]
  },
  {
   "cell_type": "code",
   "execution_count": 6,
   "metadata": {},
   "outputs": [
    {
     "data": {
      "text/html": [
       "<div>\n",
       "<style scoped>\n",
       "    .dataframe tbody tr th:only-of-type {\n",
       "        vertical-align: middle;\n",
       "    }\n",
       "\n",
       "    .dataframe tbody tr th {\n",
       "        vertical-align: top;\n",
       "    }\n",
       "\n",
       "    .dataframe thead th {\n",
       "        text-align: right;\n",
       "    }\n",
       "</style>\n",
       "<table border=\"1\" class=\"dataframe\">\n",
       "  <thead>\n",
       "    <tr style=\"text-align: right;\">\n",
       "      <th></th>\n",
       "      <th>Premise Type</th>\n",
       "      <th>Premise Description</th>\n",
       "    </tr>\n",
       "  </thead>\n",
       "  <tbody>\n",
       "    <tr>\n",
       "      <th>0</th>\n",
       "      <td>01A</td>\n",
       "      <td>AIRPORT TERMINAL</td>\n",
       "    </tr>\n",
       "    <tr>\n",
       "      <th>1</th>\n",
       "      <td>01B</td>\n",
       "      <td>BUS STATION</td>\n",
       "    </tr>\n",
       "    <tr>\n",
       "      <th>2</th>\n",
       "      <td>01K</td>\n",
       "      <td>RAILROAD TRACK/RIGHT OF WAY</td>\n",
       "    </tr>\n",
       "    <tr>\n",
       "      <th>3</th>\n",
       "      <td>01P</td>\n",
       "      <td>PARK &amp; RIDE TERMINAL</td>\n",
       "    </tr>\n",
       "    <tr>\n",
       "      <th>4</th>\n",
       "      <td>01R</td>\n",
       "      <td>LIGHT RAIL VEHICLE</td>\n",
       "    </tr>\n",
       "  </tbody>\n",
       "</table>\n",
       "</div>"
      ],
      "text/plain": [
       "  Premise Type          Premise Description\n",
       "0          01A             AIRPORT TERMINAL\n",
       "1          01B                  BUS STATION\n",
       "2          01K  RAILROAD TRACK/RIGHT OF WAY\n",
       "3          01P         PARK & RIDE TERMINAL\n",
       "4          01R           LIGHT RAIL VEHICLE"
      ]
     },
     "execution_count": 6,
     "metadata": {},
     "output_type": "execute_result"
    }
   ],
   "source": [
    "# get premise codes\n",
    "\n",
    "pc = pd.read_csv('data/premise_codes.csv')\n",
    "pc.head()"
   ]
  },
  {
   "cell_type": "code",
   "execution_count": 7,
   "metadata": {},
   "outputs": [
    {
     "data": {
      "text/html": [
       "<div>\n",
       "<style scoped>\n",
       "    .dataframe tbody tr th:only-of-type {\n",
       "        vertical-align: middle;\n",
       "    }\n",
       "\n",
       "    .dataframe tbody tr th {\n",
       "        vertical-align: top;\n",
       "    }\n",
       "\n",
       "    .dataframe thead th {\n",
       "        text-align: right;\n",
       "    }\n",
       "</style>\n",
       "<table border=\"1\" class=\"dataframe\">\n",
       "  <thead>\n",
       "    <tr style=\"text-align: right;\">\n",
       "      <th></th>\n",
       "      <th>Premise</th>\n",
       "      <th>Premise Description</th>\n",
       "    </tr>\n",
       "  </thead>\n",
       "  <tbody>\n",
       "    <tr>\n",
       "      <th>0</th>\n",
       "      <td>01A</td>\n",
       "      <td>AIRPORT TERMINAL</td>\n",
       "    </tr>\n",
       "    <tr>\n",
       "      <th>1</th>\n",
       "      <td>01B</td>\n",
       "      <td>BUS STATION</td>\n",
       "    </tr>\n",
       "    <tr>\n",
       "      <th>2</th>\n",
       "      <td>01K</td>\n",
       "      <td>RAILROAD TRACK/RIGHT OF WAY</td>\n",
       "    </tr>\n",
       "    <tr>\n",
       "      <th>3</th>\n",
       "      <td>01P</td>\n",
       "      <td>PARK &amp; RIDE TERMINAL</td>\n",
       "    </tr>\n",
       "    <tr>\n",
       "      <th>4</th>\n",
       "      <td>01R</td>\n",
       "      <td>LIGHT RAIL VEHICLE</td>\n",
       "    </tr>\n",
       "  </tbody>\n",
       "</table>\n",
       "</div>"
      ],
      "text/plain": [
       "  Premise          Premise Description\n",
       "0     01A             AIRPORT TERMINAL\n",
       "1     01B                  BUS STATION\n",
       "2     01K  RAILROAD TRACK/RIGHT OF WAY\n",
       "3     01P         PARK & RIDE TERMINAL\n",
       "4     01R           LIGHT RAIL VEHICLE"
      ]
     },
     "execution_count": 7,
     "metadata": {},
     "output_type": "execute_result"
    }
   ],
   "source": [
    "# rename premise column for easy merge\n",
    "pc.rename(columns={'Premise Type': 'Premise',}, inplace=True)\n",
    "pc.head()"
   ]
  },
  {
   "cell_type": "markdown",
   "metadata": {},
   "source": [
    "## Check for missing values"
   ]
  },
  {
   "cell_type": "code",
   "execution_count": 8,
   "metadata": {},
   "outputs": [
    {
     "data": {
      "text/plain": [
       "# Of             114137\n",
       "# Of Offenses     69536\n",
       "# Offenses       111431\n",
       "# offenses        70146\n",
       "Beat                 16\n",
       "Block Range       51761\n",
       "BlockRange        70146\n",
       "Date                  4\n",
       "Hour                  0\n",
       "Offense Type          0\n",
       "Premise           29581\n",
       "Street Name       51604\n",
       "StreetName        70146\n",
       "Suffix                0\n",
       "Type                  0\n",
       "dtype: int64"
      ]
     },
     "execution_count": 8,
     "metadata": {},
     "output_type": "execute_result"
    }
   ],
   "source": [
    "df.apply(lambda x: sum(x.isnull()))"
   ]
  },
  {
   "cell_type": "code",
   "execution_count": 9,
   "metadata": {},
   "outputs": [
    {
     "data": {
      "image/png": "[encoded data removed]",
      "text/plain": [
       "<Figure size 432x288 with 1 Axes>"
      ]
     },
     "metadata": {},
     "output_type": "display_data"
    }
   ],
   "source": [
    "sns.heatmap(df.isnull(),yticklabels=False,cbar=False,cmap='viridis')\n",
    "plt.title('Null dataset display')\n",
    "plt.show()"
   ]
  },
  {
   "cell_type": "markdown",
   "metadata": {},
   "source": [
    "## Cleanup\n",
    "\n",
    "- joining similar columns\n",
    "- renaming"
   ]
  },
  {
   "cell_type": "code",
   "execution_count": 10,
   "metadata": {},
   "outputs": [],
   "source": [
    "# 2014\n",
    "# if duplicate columns\n",
    "\n",
    "df['BlockRange'] = pd.concat([df['Block Range'].dropna(),\n",
    "                              df['BlockRange'].dropna()]).reindex_like(df)"
   ]
  },
  {
   "cell_type": "code",
   "execution_count": 11,
   "metadata": {},
   "outputs": [],
   "source": [
    "df['StreetName'] = pd.concat([df['Street Name'].dropna(),\n",
    "                              df['StreetName'].dropna()]).reindex_like(df)"
   ]
  },
  {
   "cell_type": "code",
   "execution_count": 12,
   "metadata": {},
   "outputs": [],
   "source": [
    "df['# Of Offenses'] = pd.concat([df['# Of'].dropna(),\n",
    "                              df['# Of Offenses'].dropna(),\n",
    "                              df['# offenses'].dropna(),\n",
    "                              df['# Offenses'].dropna()]).reindex_like(df)"
   ]
  },
  {
   "cell_type": "code",
   "execution_count": 13,
   "metadata": {},
   "outputs": [
    {
     "name": "stdout",
     "output_type": "stream",
     "text": [
      "<class 'pandas.core.frame.DataFrame'>\n",
      "RangeIndex: 121750 entries, 0 to 121749\n",
      "Data columns (total 15 columns):\n",
      "# Of           7613 non-null float64\n",
      "NumOffenses    121750 non-null float64\n",
      "# Offenses     10319 non-null float64\n",
      "# offenses     51604 non-null float64\n",
      "Beat           121734 non-null object\n",
      "Block Range    69989 non-null object\n",
      "BlockRange     121593 non-null object\n",
      "Date           121746 non-null datetime64[ns]\n",
      "Hour           121750 non-null int64\n",
      "OffenseType    121750 non-null object\n",
      "Premise        92169 non-null object\n",
      "Street Name    70146 non-null object\n",
      "StreetName     121750 non-null object\n",
      "Suffix         121750 non-null object\n",
      "Type           121750 non-null object\n",
      "dtypes: datetime64[ns](1), float64(4), int64(1), object(9)\n",
      "memory usage: 13.9+ MB\n"
     ]
    }
   ],
   "source": [
    "df.rename(columns={\n",
    "    '# Of Offenses': 'NumOffenses',\n",
    "     'Offense Type': 'OffenseType',\n",
    "}, inplace=True)\n",
    "df.info()"
   ]
  },
  {
   "cell_type": "code",
   "execution_count": 14,
   "metadata": {},
   "outputs": [
    {
     "data": {
      "image/png": "[encoded data removed]",
      "text/plain": [
       "<Figure size 432x288 with 1 Axes>"
      ]
     },
     "metadata": {},
     "output_type": "display_data"
    }
   ],
   "source": [
    "sns.heatmap(df.isnull(),yticklabels=False,cbar=False,cmap='viridis')\n",
    "plt.title('Null dataset display')\n",
    "plt.show()"
   ]
  },
  {
   "cell_type": "code",
   "execution_count": 15,
   "metadata": {},
   "outputs": [
    {
     "data": {
      "text/plain": [
       "# Of           114137\n",
       "NumOffenses         0\n",
       "# Offenses     111431\n",
       "# offenses      70146\n",
       "Beat               16\n",
       "Block Range     51761\n",
       "BlockRange        157\n",
       "Date                4\n",
       "Hour                0\n",
       "OffenseType         0\n",
       "Premise         29581\n",
       "Street Name     51604\n",
       "StreetName          0\n",
       "Suffix              0\n",
       "Type                0\n",
       "dtype: int64"
      ]
     },
     "execution_count": 15,
     "metadata": {},
     "output_type": "execute_result"
    }
   ],
   "source": [
    "df.apply(lambda x: sum(x.isnull()))"
   ]
  },
  {
   "cell_type": "markdown",
   "metadata": {},
   "source": [
    "## Subset dataframe to work on "
   ]
  },
  {
   "cell_type": "code",
   "execution_count": 16,
   "metadata": {},
   "outputs": [
    {
     "name": "stdout",
     "output_type": "stream",
     "text": [
      "<class 'pandas.core.frame.DataFrame'>\n",
      "RangeIndex: 121750 entries, 0 to 121749\n",
      "Data columns (total 8 columns):\n",
      "Date           121746 non-null datetime64[ns]\n",
      "Beat           121734 non-null object\n",
      "BlockRange     121593 non-null object\n",
      "StreetName     121750 non-null object\n",
      "OffenseType    121750 non-null object\n",
      "Premise        92169 non-null object\n",
      "NumOffenses    121750 non-null float64\n",
      "Hour           121750 non-null int64\n",
      "dtypes: datetime64[ns](1), float64(1), int64(1), object(5)\n",
      "memory usage: 7.4+ MB\n"
     ]
    }
   ],
   "source": [
    "crimes = df[['Date','Beat','BlockRange','StreetName','OffenseType','Premise','NumOffenses','Hour']]\n",
    "crimes.info()"
   ]
  },
  {
   "cell_type": "code",
   "execution_count": 17,
   "metadata": {},
   "outputs": [
    {
     "data": {
      "image/png": "[encoded data removed]",
      "text/plain": [
       "<Figure size 432x288 with 1 Axes>"
      ]
     },
     "metadata": {},
     "output_type": "display_data"
    }
   ],
   "source": [
    "sns.heatmap(crimes.isnull(),yticklabels=False,cbar=False,cmap='viridis')\n",
    "plt.title('Null dataset display')\n",
    "plt.show()"
   ]
  },
  {
   "cell_type": "markdown",
   "metadata": {},
   "source": [
    "## Join datafames\n",
    " join premise df with crime to extract num values"
   ]
  },
  {
   "cell_type": "code",
   "execution_count": 18,
   "metadata": {},
   "outputs": [
    {
     "data": {
      "text/plain": [
       "NaN                          29581\n",
       "20R                           6410\n",
       "Residence or House            6384\n",
       "20A                           6094\n",
       "18A                           6072\n",
       "Apartment                     4786\n",
       "Apartment Parking Lot         4517\n",
       "13R                           3836\n",
       "Road, Street, or Sidewalk     3465\n",
       "20D                           3222\n",
       "Name: Premise, dtype: int64"
      ]
     },
     "execution_count": 18,
     "metadata": {},
     "output_type": "execute_result"
    }
   ],
   "source": [
    "crimes.Premise.value_counts(dropna=False)[:10]"
   ]
  },
  {
   "cell_type": "code",
   "execution_count": 19,
   "metadata": {},
   "outputs": [
    {
     "name": "stdout",
     "output_type": "stream",
     "text": [
      "<class 'pandas.core.frame.DataFrame'>\n",
      "Int64Index: 121754 entries, 0 to 121753\n",
      "Data columns (total 9 columns):\n",
      "Date                   121746 non-null datetime64[ns]\n",
      "Beat                   121734 non-null object\n",
      "BlockRange             121593 non-null object\n",
      "StreetName             121750 non-null object\n",
      "OffenseType            121750 non-null object\n",
      "Premise                92173 non-null object\n",
      "NumOffenses            121750 non-null float64\n",
      "Hour                   121750 non-null float64\n",
      "Premise Description    51699 non-null object\n",
      "dtypes: datetime64[ns](1), float64(2), object(6)\n",
      "memory usage: 9.3+ MB\n"
     ]
    }
   ],
   "source": [
    "# join two datarames\n",
    "crimes = pd.merge(crimes, pc, on='Premise', how='outer')\n",
    "crimes.info()"
   ]
  },
  {
   "cell_type": "code",
   "execution_count": 20,
   "metadata": {},
   "outputs": [
    {
     "data": {
      "text/html": [
       "<div>\n",
       "<style scoped>\n",
       "    .dataframe tbody tr th:only-of-type {\n",
       "        vertical-align: middle;\n",
       "    }\n",
       "\n",
       "    .dataframe tbody tr th {\n",
       "        vertical-align: top;\n",
       "    }\n",
       "\n",
       "    .dataframe thead th {\n",
       "        text-align: right;\n",
       "    }\n",
       "</style>\n",
       "<table border=\"1\" class=\"dataframe\">\n",
       "  <thead>\n",
       "    <tr style=\"text-align: right;\">\n",
       "      <th></th>\n",
       "      <th>Premise</th>\n",
       "      <th>Premise Description</th>\n",
       "    </tr>\n",
       "  </thead>\n",
       "  <tbody>\n",
       "    <tr>\n",
       "      <th>0</th>\n",
       "      <td>18D</td>\n",
       "      <td>LAUNDRY/DRY CLEANERS PARKING LOT</td>\n",
       "    </tr>\n",
       "    <tr>\n",
       "      <th>1</th>\n",
       "      <td>18D</td>\n",
       "      <td>LAUNDRY/DRY CLEANERS PARKING LOT</td>\n",
       "    </tr>\n",
       "    <tr>\n",
       "      <th>2</th>\n",
       "      <td>18D</td>\n",
       "      <td>LAUNDRY/DRY CLEANERS PARKING LOT</td>\n",
       "    </tr>\n",
       "    <tr>\n",
       "      <th>3</th>\n",
       "      <td>18D</td>\n",
       "      <td>LAUNDRY/DRY CLEANERS PARKING LOT</td>\n",
       "    </tr>\n",
       "    <tr>\n",
       "      <th>4</th>\n",
       "      <td>18D</td>\n",
       "      <td>LAUNDRY/DRY CLEANERS PARKING LOT</td>\n",
       "    </tr>\n",
       "    <tr>\n",
       "      <th>5</th>\n",
       "      <td>18D</td>\n",
       "      <td>LAUNDRY/DRY CLEANERS PARKING LOT</td>\n",
       "    </tr>\n",
       "    <tr>\n",
       "      <th>6</th>\n",
       "      <td>18D</td>\n",
       "      <td>LAUNDRY/DRY CLEANERS PARKING LOT</td>\n",
       "    </tr>\n",
       "    <tr>\n",
       "      <th>7</th>\n",
       "      <td>18D</td>\n",
       "      <td>LAUNDRY/DRY CLEANERS PARKING LOT</td>\n",
       "    </tr>\n",
       "    <tr>\n",
       "      <th>8</th>\n",
       "      <td>18D</td>\n",
       "      <td>LAUNDRY/DRY CLEANERS PARKING LOT</td>\n",
       "    </tr>\n",
       "    <tr>\n",
       "      <th>9</th>\n",
       "      <td>18D</td>\n",
       "      <td>LAUNDRY/DRY CLEANERS PARKING LOT</td>\n",
       "    </tr>\n",
       "    <tr>\n",
       "      <th>10</th>\n",
       "      <td>18D</td>\n",
       "      <td>LAUNDRY/DRY CLEANERS PARKING LOT</td>\n",
       "    </tr>\n",
       "    <tr>\n",
       "      <th>11</th>\n",
       "      <td>18D</td>\n",
       "      <td>LAUNDRY/DRY CLEANERS PARKING LOT</td>\n",
       "    </tr>\n",
       "    <tr>\n",
       "      <th>12</th>\n",
       "      <td>18D</td>\n",
       "      <td>LAUNDRY/DRY CLEANERS PARKING LOT</td>\n",
       "    </tr>\n",
       "    <tr>\n",
       "      <th>13</th>\n",
       "      <td>18D</td>\n",
       "      <td>LAUNDRY/DRY CLEANERS PARKING LOT</td>\n",
       "    </tr>\n",
       "    <tr>\n",
       "      <th>14</th>\n",
       "      <td>18D</td>\n",
       "      <td>LAUNDRY/DRY CLEANERS PARKING LOT</td>\n",
       "    </tr>\n",
       "    <tr>\n",
       "      <th>15</th>\n",
       "      <td>18D</td>\n",
       "      <td>LAUNDRY/DRY CLEANERS PARKING LOT</td>\n",
       "    </tr>\n",
       "    <tr>\n",
       "      <th>16</th>\n",
       "      <td>18D</td>\n",
       "      <td>LAUNDRY/DRY CLEANERS PARKING LOT</td>\n",
       "    </tr>\n",
       "    <tr>\n",
       "      <th>17</th>\n",
       "      <td>18D</td>\n",
       "      <td>LAUNDRY/DRY CLEANERS PARKING LOT</td>\n",
       "    </tr>\n",
       "    <tr>\n",
       "      <th>18</th>\n",
       "      <td>18D</td>\n",
       "      <td>LAUNDRY/DRY CLEANERS PARKING LOT</td>\n",
       "    </tr>\n",
       "    <tr>\n",
       "      <th>19</th>\n",
       "      <td>18D</td>\n",
       "      <td>LAUNDRY/DRY CLEANERS PARKING LOT</td>\n",
       "    </tr>\n",
       "    <tr>\n",
       "      <th>20</th>\n",
       "      <td>18D</td>\n",
       "      <td>LAUNDRY/DRY CLEANERS PARKING LOT</td>\n",
       "    </tr>\n",
       "    <tr>\n",
       "      <th>21</th>\n",
       "      <td>18D</td>\n",
       "      <td>LAUNDRY/DRY CLEANERS PARKING LOT</td>\n",
       "    </tr>\n",
       "    <tr>\n",
       "      <th>22</th>\n",
       "      <td>18D</td>\n",
       "      <td>LAUNDRY/DRY CLEANERS PARKING LOT</td>\n",
       "    </tr>\n",
       "    <tr>\n",
       "      <th>23</th>\n",
       "      <td>18D</td>\n",
       "      <td>LAUNDRY/DRY CLEANERS PARKING LOT</td>\n",
       "    </tr>\n",
       "    <tr>\n",
       "      <th>24</th>\n",
       "      <td>18D</td>\n",
       "      <td>LAUNDRY/DRY CLEANERS PARKING LOT</td>\n",
       "    </tr>\n",
       "    <tr>\n",
       "      <th>25</th>\n",
       "      <td>18D</td>\n",
       "      <td>LAUNDRY/DRY CLEANERS PARKING LOT</td>\n",
       "    </tr>\n",
       "    <tr>\n",
       "      <th>26</th>\n",
       "      <td>18D</td>\n",
       "      <td>LAUNDRY/DRY CLEANERS PARKING LOT</td>\n",
       "    </tr>\n",
       "    <tr>\n",
       "      <th>27</th>\n",
       "      <td>18D</td>\n",
       "      <td>LAUNDRY/DRY CLEANERS PARKING LOT</td>\n",
       "    </tr>\n",
       "    <tr>\n",
       "      <th>28</th>\n",
       "      <td>18D</td>\n",
       "      <td>LAUNDRY/DRY CLEANERS PARKING LOT</td>\n",
       "    </tr>\n",
       "    <tr>\n",
       "      <th>29</th>\n",
       "      <td>18D</td>\n",
       "      <td>LAUNDRY/DRY CLEANERS PARKING LOT</td>\n",
       "    </tr>\n",
       "    <tr>\n",
       "      <th>...</th>\n",
       "      <td>...</td>\n",
       "      <td>...</td>\n",
       "    </tr>\n",
       "    <tr>\n",
       "      <th>121724</th>\n",
       "      <td>25R</td>\n",
       "      <td>LIGHT RAIL PLATFORM</td>\n",
       "    </tr>\n",
       "    <tr>\n",
       "      <th>121725</th>\n",
       "      <td>11V</td>\n",
       "      <td>VACANT GOVERNMENT/PUBLIC BUILDING</td>\n",
       "    </tr>\n",
       "    <tr>\n",
       "      <th>121726</th>\n",
       "      <td>11V</td>\n",
       "      <td>VACANT GOVERNMENT/PUBLIC BUILDING</td>\n",
       "    </tr>\n",
       "    <tr>\n",
       "      <th>121727</th>\n",
       "      <td>19V</td>\n",
       "      <td>VACANT STORAGE FACILITY (BARNS,GARAGES,WAREHOU...</td>\n",
       "    </tr>\n",
       "    <tr>\n",
       "      <th>121728</th>\n",
       "      <td>12V</td>\n",
       "      <td>VACANT GROCERY/SUPERMARKET</td>\n",
       "    </tr>\n",
       "    <tr>\n",
       "      <th>121729</th>\n",
       "      <td>12V</td>\n",
       "      <td>VACANT GROCERY/SUPERMARKET</td>\n",
       "    </tr>\n",
       "    <tr>\n",
       "      <th>121730</th>\n",
       "      <td>12V</td>\n",
       "      <td>VACANT GROCERY/SUPERMARKET</td>\n",
       "    </tr>\n",
       "    <tr>\n",
       "      <th>121731</th>\n",
       "      <td>12V</td>\n",
       "      <td>VACANT GROCERY/SUPERMARKET</td>\n",
       "    </tr>\n",
       "    <tr>\n",
       "      <th>121732</th>\n",
       "      <td>22V</td>\n",
       "      <td>VACANT SCHOOL/COLLEGE</td>\n",
       "    </tr>\n",
       "    <tr>\n",
       "      <th>121733</th>\n",
       "      <td>14V</td>\n",
       "      <td>VACANT HOTEL/MOTEL/ETC.</td>\n",
       "    </tr>\n",
       "    <tr>\n",
       "      <th>121734</th>\n",
       "      <td>14V</td>\n",
       "      <td>VACANT HOTEL/MOTEL/ETC.</td>\n",
       "    </tr>\n",
       "    <tr>\n",
       "      <th>121735</th>\n",
       "      <td>14V</td>\n",
       "      <td>VACANT HOTEL/MOTEL/ETC.</td>\n",
       "    </tr>\n",
       "    <tr>\n",
       "      <th>121736</th>\n",
       "      <td>20W</td>\n",
       "      <td>VACANT OTHER RESIDENTIAL (APARTMENT,INN,DORMS,...</td>\n",
       "    </tr>\n",
       "    <tr>\n",
       "      <th>121737</th>\n",
       "      <td>20W</td>\n",
       "      <td>VACANT OTHER RESIDENTIAL (APARTMENT,INN,DORMS,...</td>\n",
       "    </tr>\n",
       "    <tr>\n",
       "      <th>121738</th>\n",
       "      <td>01R</td>\n",
       "      <td>LIGHT RAIL VEHICLE</td>\n",
       "    </tr>\n",
       "    <tr>\n",
       "      <th>121739</th>\n",
       "      <td>Train (Not Metro) Terminal</td>\n",
       "      <td>NaN</td>\n",
       "    </tr>\n",
       "    <tr>\n",
       "      <th>121740</th>\n",
       "      <td>Train (Not Metro) Terminal</td>\n",
       "      <td>NaN</td>\n",
       "    </tr>\n",
       "    <tr>\n",
       "      <th>121741</th>\n",
       "      <td>Contra-Flow, Managed, or HOV Lanes</td>\n",
       "      <td>NaN</td>\n",
       "    </tr>\n",
       "    <tr>\n",
       "      <th>121742</th>\n",
       "      <td>Vacant Church, Synagogue, or Temple</td>\n",
       "      <td>NaN</td>\n",
       "    </tr>\n",
       "    <tr>\n",
       "      <th>121743</th>\n",
       "      <td>Vacant Church, Synagogue, or Temple</td>\n",
       "      <td>NaN</td>\n",
       "    </tr>\n",
       "    <tr>\n",
       "      <th>121744</th>\n",
       "      <td>Vacant Church, Synagogue, or Temple</td>\n",
       "      <td>NaN</td>\n",
       "    </tr>\n",
       "    <tr>\n",
       "      <th>121745</th>\n",
       "      <td>Vacant Church, Synagogue, or Temple</td>\n",
       "      <td>NaN</td>\n",
       "    </tr>\n",
       "    <tr>\n",
       "      <th>121746</th>\n",
       "      <td>Vacant Church, Synagogue, or Temple</td>\n",
       "      <td>NaN</td>\n",
       "    </tr>\n",
       "    <tr>\n",
       "      <th>121747</th>\n",
       "      <td>Vacant Industrial or Manufacturing Blding</td>\n",
       "      <td>NaN</td>\n",
       "    </tr>\n",
       "    <tr>\n",
       "      <th>121748</th>\n",
       "      <td>Vacant Industrial or Manufacturing Blding</td>\n",
       "      <td>NaN</td>\n",
       "    </tr>\n",
       "    <tr>\n",
       "      <th>121749</th>\n",
       "      <td>Vacant Bank</td>\n",
       "      <td>NaN</td>\n",
       "    </tr>\n",
       "    <tr>\n",
       "      <th>121750</th>\n",
       "      <td>02V</td>\n",
       "      <td>VACANT BANK</td>\n",
       "    </tr>\n",
       "    <tr>\n",
       "      <th>121751</th>\n",
       "      <td>09V</td>\n",
       "      <td>VACANT HOSPITAL</td>\n",
       "    </tr>\n",
       "    <tr>\n",
       "      <th>121752</th>\n",
       "      <td>13C</td>\n",
       "      <td>CONTRA-FLOW/HOV</td>\n",
       "    </tr>\n",
       "    <tr>\n",
       "      <th>121753</th>\n",
       "      <td>15V</td>\n",
       "      <td>VACANT JAIL/PRISON</td>\n",
       "    </tr>\n",
       "  </tbody>\n",
       "</table>\n",
       "<p>121754 rows × 2 columns</p>\n",
       "</div>"
      ],
      "text/plain": [
       "                                          Premise  \\\n",
       "0                                             18D   \n",
       "1                                             18D   \n",
       "2                                             18D   \n",
       "3                                             18D   \n",
       "4                                             18D   \n",
       "5                                             18D   \n",
       "6                                             18D   \n",
       "7                                             18D   \n",
       "8                                             18D   \n",
       "9                                             18D   \n",
       "10                                            18D   \n",
       "11                                            18D   \n",
       "12                                            18D   \n",
       "13                                            18D   \n",
       "14                                            18D   \n",
       "15                                            18D   \n",
       "16                                            18D   \n",
       "17                                            18D   \n",
       "18                                            18D   \n",
       "19                                            18D   \n",
       "20                                            18D   \n",
       "21                                            18D   \n",
       "22                                            18D   \n",
       "23                                            18D   \n",
       "24                                            18D   \n",
       "25                                            18D   \n",
       "26                                            18D   \n",
       "27                                            18D   \n",
       "28                                            18D   \n",
       "29                                            18D   \n",
       "...                                           ...   \n",
       "121724                                        25R   \n",
       "121725                                        11V   \n",
       "121726                                        11V   \n",
       "121727                                        19V   \n",
       "121728                                        12V   \n",
       "121729                                        12V   \n",
       "121730                                        12V   \n",
       "121731                                        12V   \n",
       "121732                                        22V   \n",
       "121733                                        14V   \n",
       "121734                                        14V   \n",
       "121735                                        14V   \n",
       "121736                                        20W   \n",
       "121737                                        20W   \n",
       "121738                                        01R   \n",
       "121739                 Train (Not Metro) Terminal   \n",
       "121740                 Train (Not Metro) Terminal   \n",
       "121741         Contra-Flow, Managed, or HOV Lanes   \n",
       "121742        Vacant Church, Synagogue, or Temple   \n",
       "121743        Vacant Church, Synagogue, or Temple   \n",
       "121744        Vacant Church, Synagogue, or Temple   \n",
       "121745        Vacant Church, Synagogue, or Temple   \n",
       "121746        Vacant Church, Synagogue, or Temple   \n",
       "121747  Vacant Industrial or Manufacturing Blding   \n",
       "121748  Vacant Industrial or Manufacturing Blding   \n",
       "121749                                Vacant Bank   \n",
       "121750                                        02V   \n",
       "121751                                        09V   \n",
       "121752                                        13C   \n",
       "121753                                        15V   \n",
       "\n",
       "                                      Premise Description  \n",
       "0                        LAUNDRY/DRY CLEANERS PARKING LOT  \n",
       "1                        LAUNDRY/DRY CLEANERS PARKING LOT  \n",
       "2                        LAUNDRY/DRY CLEANERS PARKING LOT  \n",
       "3                        LAUNDRY/DRY CLEANERS PARKING LOT  \n",
       "4                        LAUNDRY/DRY CLEANERS PARKING LOT  \n",
       "5                        LAUNDRY/DRY CLEANERS PARKING LOT  \n",
       "6                        LAUNDRY/DRY CLEANERS PARKING LOT  \n",
       "7                        LAUNDRY/DRY CLEANERS PARKING LOT  \n",
       "8                        LAUNDRY/DRY CLEANERS PARKING LOT  \n",
       "9                        LAUNDRY/DRY CLEANERS PARKING LOT  \n",
       "10                       LAUNDRY/DRY CLEANERS PARKING LOT  \n",
       "11                       LAUNDRY/DRY CLEANERS PARKING LOT  \n",
       "12                       LAUNDRY/DRY CLEANERS PARKING LOT  \n",
       "13                       LAUNDRY/DRY CLEANERS PARKING LOT  \n",
       "14                       LAUNDRY/DRY CLEANERS PARKING LOT  \n",
       "15                       LAUNDRY/DRY CLEANERS PARKING LOT  \n",
       "16                       LAUNDRY/DRY CLEANERS PARKING LOT  \n",
       "17                       LAUNDRY/DRY CLEANERS PARKING LOT  \n",
       "18                       LAUNDRY/DRY CLEANERS PARKING LOT  \n",
       "19                       LAUNDRY/DRY CLEANERS PARKING LOT  \n",
       "20                       LAUNDRY/DRY CLEANERS PARKING LOT  \n",
       "21                       LAUNDRY/DRY CLEANERS PARKING LOT  \n",
       "22                       LAUNDRY/DRY CLEANERS PARKING LOT  \n",
       "23                       LAUNDRY/DRY CLEANERS PARKING LOT  \n",
       "24                       LAUNDRY/DRY CLEANERS PARKING LOT  \n",
       "25                       LAUNDRY/DRY CLEANERS PARKING LOT  \n",
       "26                       LAUNDRY/DRY CLEANERS PARKING LOT  \n",
       "27                       LAUNDRY/DRY CLEANERS PARKING LOT  \n",
       "28                       LAUNDRY/DRY CLEANERS PARKING LOT  \n",
       "29                       LAUNDRY/DRY CLEANERS PARKING LOT  \n",
       "...                                                   ...  \n",
       "121724                                LIGHT RAIL PLATFORM  \n",
       "121725                  VACANT GOVERNMENT/PUBLIC BUILDING  \n",
       "121726                  VACANT GOVERNMENT/PUBLIC BUILDING  \n",
       "121727  VACANT STORAGE FACILITY (BARNS,GARAGES,WAREHOU...  \n",
       "121728                         VACANT GROCERY/SUPERMARKET  \n",
       "121729                         VACANT GROCERY/SUPERMARKET  \n",
       "121730                         VACANT GROCERY/SUPERMARKET  \n",
       "121731                         VACANT GROCERY/SUPERMARKET  \n",
       "121732                              VACANT SCHOOL/COLLEGE  \n",
       "121733                            VACANT HOTEL/MOTEL/ETC.  \n",
       "121734                            VACANT HOTEL/MOTEL/ETC.  \n",
       "121735                            VACANT HOTEL/MOTEL/ETC.  \n",
       "121736  VACANT OTHER RESIDENTIAL (APARTMENT,INN,DORMS,...  \n",
       "121737  VACANT OTHER RESIDENTIAL (APARTMENT,INN,DORMS,...  \n",
       "121738                                 LIGHT RAIL VEHICLE  \n",
       "121739                                                NaN  \n",
       "121740                                                NaN  \n",
       "121741                                                NaN  \n",
       "121742                                                NaN  \n",
       "121743                                                NaN  \n",
       "121744                                                NaN  \n",
       "121745                                                NaN  \n",
       "121746                                                NaN  \n",
       "121747                                                NaN  \n",
       "121748                                                NaN  \n",
       "121749                                                NaN  \n",
       "121750                                        VACANT BANK  \n",
       "121751                                    VACANT HOSPITAL  \n",
       "121752                                    CONTRA-FLOW/HOV  \n",
       "121753                                 VACANT JAIL/PRISON  \n",
       "\n",
       "[121754 rows x 2 columns]"
      ]
     },
     "execution_count": 20,
     "metadata": {},
     "output_type": "execute_result"
    }
   ],
   "source": [
    "crimes[['Premise', 'Premise Description']]"
   ]
  },
  {
   "cell_type": "code",
   "execution_count": 21,
   "metadata": {},
   "outputs": [
    {
     "data": {
      "text/html": [
       "<div>\n",
       "<style scoped>\n",
       "    .dataframe tbody tr th:only-of-type {\n",
       "        vertical-align: middle;\n",
       "    }\n",
       "\n",
       "    .dataframe tbody tr th {\n",
       "        vertical-align: top;\n",
       "    }\n",
       "\n",
       "    .dataframe thead th {\n",
       "        text-align: right;\n",
       "    }\n",
       "</style>\n",
       "<table border=\"1\" class=\"dataframe\">\n",
       "  <thead>\n",
       "    <tr style=\"text-align: right;\">\n",
       "      <th></th>\n",
       "      <th>Date</th>\n",
       "      <th>Beat</th>\n",
       "      <th>BlockRange</th>\n",
       "      <th>StreetName</th>\n",
       "      <th>OffenseType</th>\n",
       "      <th>Premise</th>\n",
       "      <th>NumOffenses</th>\n",
       "      <th>Hour</th>\n",
       "      <th>Premise Description</th>\n",
       "    </tr>\n",
       "  </thead>\n",
       "  <tbody>\n",
       "    <tr>\n",
       "      <th>0</th>\n",
       "      <td>2014-04-19</td>\n",
       "      <td>14D30</td>\n",
       "      <td>8500-8599</td>\n",
       "      <td>MARTIN LUTHER KING</td>\n",
       "      <td>Murder</td>\n",
       "      <td>18D</td>\n",
       "      <td>1.0</td>\n",
       "      <td>17.0</td>\n",
       "      <td>LAUNDRY/DRY CLEANERS PARKING LOT</td>\n",
       "    </tr>\n",
       "    <tr>\n",
       "      <th>1</th>\n",
       "      <td>2014-04-13</td>\n",
       "      <td>3B10</td>\n",
       "      <td>4400-4499</td>\n",
       "      <td>SHERWOOD</td>\n",
       "      <td>Robbery</td>\n",
       "      <td>18D</td>\n",
       "      <td>1.0</td>\n",
       "      <td>2.0</td>\n",
       "      <td>LAUNDRY/DRY CLEANERS PARKING LOT</td>\n",
       "    </tr>\n",
       "    <tr>\n",
       "      <th>2</th>\n",
       "      <td>2014-04-11</td>\n",
       "      <td>16E30</td>\n",
       "      <td>5300-5399</td>\n",
       "      <td>OREM</td>\n",
       "      <td>Theft</td>\n",
       "      <td>18D</td>\n",
       "      <td>1.0</td>\n",
       "      <td>12.0</td>\n",
       "      <td>LAUNDRY/DRY CLEANERS PARKING LOT</td>\n",
       "    </tr>\n",
       "    <tr>\n",
       "      <th>3</th>\n",
       "      <td>2014-04-12</td>\n",
       "      <td>13D20</td>\n",
       "      <td>6600-6699</td>\n",
       "      <td>TELEPHONE</td>\n",
       "      <td>Theft</td>\n",
       "      <td>18D</td>\n",
       "      <td>1.0</td>\n",
       "      <td>11.0</td>\n",
       "      <td>LAUNDRY/DRY CLEANERS PARKING LOT</td>\n",
       "    </tr>\n",
       "    <tr>\n",
       "      <th>4</th>\n",
       "      <td>2014-04-13</td>\n",
       "      <td>8C50</td>\n",
       "      <td>8800-8899</td>\n",
       "      <td>TIDWELL</td>\n",
       "      <td>Theft</td>\n",
       "      <td>18D</td>\n",
       "      <td>1.0</td>\n",
       "      <td>15.0</td>\n",
       "      <td>LAUNDRY/DRY CLEANERS PARKING LOT</td>\n",
       "    </tr>\n",
       "  </tbody>\n",
       "</table>\n",
       "</div>"
      ],
      "text/plain": [
       "        Date   Beat BlockRange          StreetName OffenseType Premise  \\\n",
       "0 2014-04-19  14D30  8500-8599  MARTIN LUTHER KING      Murder     18D   \n",
       "1 2014-04-13   3B10  4400-4499            SHERWOOD     Robbery     18D   \n",
       "2 2014-04-11  16E30  5300-5399                OREM       Theft     18D   \n",
       "3 2014-04-12  13D20  6600-6699           TELEPHONE       Theft     18D   \n",
       "4 2014-04-13   8C50  8800-8899             TIDWELL       Theft     18D   \n",
       "\n",
       "   NumOffenses  Hour               Premise Description  \n",
       "0          1.0  17.0  LAUNDRY/DRY CLEANERS PARKING LOT  \n",
       "1          1.0   2.0  LAUNDRY/DRY CLEANERS PARKING LOT  \n",
       "2          1.0  12.0  LAUNDRY/DRY CLEANERS PARKING LOT  \n",
       "3          1.0  11.0  LAUNDRY/DRY CLEANERS PARKING LOT  \n",
       "4          1.0  15.0  LAUNDRY/DRY CLEANERS PARKING LOT  "
      ]
     },
     "execution_count": 21,
     "metadata": {},
     "output_type": "execute_result"
    }
   ],
   "source": [
    "crimes.head()"
   ]
  },
  {
   "cell_type": "code",
   "execution_count": 22,
   "metadata": {},
   "outputs": [
    {
     "data": {
      "text/plain": [
       "Date                       8\n",
       "Beat                      20\n",
       "BlockRange               161\n",
       "StreetName                 4\n",
       "OffenseType                4\n",
       "Premise                29581\n",
       "NumOffenses                4\n",
       "Hour                       4\n",
       "Premise Description    70055\n",
       "dtype: int64"
      ]
     },
     "execution_count": 22,
     "metadata": {},
     "output_type": "execute_result"
    }
   ],
   "source": [
    "crimes.apply(lambda x: sum(x.isnull()))"
   ]
  },
  {
   "cell_type": "code",
   "execution_count": 23,
   "metadata": {},
   "outputs": [
    {
     "data": {
      "image/png": "[encoded data removed]",
      "text/plain": [
       "<Figure size 432x288 with 1 Axes>"
      ]
     },
     "metadata": {},
     "output_type": "display_data"
    }
   ],
   "source": [
    "sns.heatmap(crimes.isnull(),yticklabels=False,cbar=False,cmap='viridis')\n",
    "plt.title('Null dataset display')\n",
    "plt.show()"
   ]
  },
  {
   "cell_type": "code",
   "execution_count": 24,
   "metadata": {},
   "outputs": [
    {
     "data": {
      "text/html": [
       "<div>\n",
       "<style scoped>\n",
       "    .dataframe tbody tr th:only-of-type {\n",
       "        vertical-align: middle;\n",
       "    }\n",
       "\n",
       "    .dataframe tbody tr th {\n",
       "        vertical-align: top;\n",
       "    }\n",
       "\n",
       "    .dataframe thead th {\n",
       "        text-align: right;\n",
       "    }\n",
       "</style>\n",
       "<table border=\"1\" class=\"dataframe\">\n",
       "  <thead>\n",
       "    <tr style=\"text-align: right;\">\n",
       "      <th></th>\n",
       "      <th>Date</th>\n",
       "      <th>Beat</th>\n",
       "      <th>BlockRange</th>\n",
       "      <th>StreetName</th>\n",
       "      <th>OffenseType</th>\n",
       "      <th>Premise</th>\n",
       "      <th>NumOffenses</th>\n",
       "      <th>Hour</th>\n",
       "      <th>Premise Description</th>\n",
       "    </tr>\n",
       "  </thead>\n",
       "  <tbody>\n",
       "    <tr>\n",
       "      <th>48535</th>\n",
       "      <td>2014-04-26</td>\n",
       "      <td>18F50</td>\n",
       "      <td>7400-7499</td>\n",
       "      <td>HARWIN</td>\n",
       "      <td>Robbery</td>\n",
       "      <td>---</td>\n",
       "      <td>1.0</td>\n",
       "      <td>4.0</td>\n",
       "      <td>NaN</td>\n",
       "    </tr>\n",
       "    <tr>\n",
       "      <th>48536</th>\n",
       "      <td>2014-04-23</td>\n",
       "      <td>19G50</td>\n",
       "      <td>9900-9999</td>\n",
       "      <td>BISSONNET</td>\n",
       "      <td>Robbery</td>\n",
       "      <td>---</td>\n",
       "      <td>1.0</td>\n",
       "      <td>20.0</td>\n",
       "      <td>NaN</td>\n",
       "    </tr>\n",
       "    <tr>\n",
       "      <th>48537</th>\n",
       "      <td>2014-04-25</td>\n",
       "      <td>12D20</td>\n",
       "      <td>11800-11899</td>\n",
       "      <td>SOUTH SAM HOUSTON</td>\n",
       "      <td>Robbery</td>\n",
       "      <td>---</td>\n",
       "      <td>1.0</td>\n",
       "      <td>12.0</td>\n",
       "      <td>NaN</td>\n",
       "    </tr>\n",
       "    <tr>\n",
       "      <th>48538</th>\n",
       "      <td>2014-04-23</td>\n",
       "      <td>15E10</td>\n",
       "      <td>9700-9799</td>\n",
       "      <td>HILLCROFT</td>\n",
       "      <td>Aggravated Assault</td>\n",
       "      <td>---</td>\n",
       "      <td>1.0</td>\n",
       "      <td>20.0</td>\n",
       "      <td>NaN</td>\n",
       "    </tr>\n",
       "    <tr>\n",
       "      <th>48539</th>\n",
       "      <td>2014-04-02</td>\n",
       "      <td>12D20</td>\n",
       "      <td>12000-12099</td>\n",
       "      <td>BEAMER</td>\n",
       "      <td>Burglary</td>\n",
       "      <td>---</td>\n",
       "      <td>1.0</td>\n",
       "      <td>4.0</td>\n",
       "      <td>NaN</td>\n",
       "    </tr>\n",
       "  </tbody>\n",
       "</table>\n",
       "</div>"
      ],
      "text/plain": [
       "            Date   Beat   BlockRange         StreetName         OffenseType  \\\n",
       "48535 2014-04-26  18F50    7400-7499             HARWIN             Robbery   \n",
       "48536 2014-04-23  19G50    9900-9999          BISSONNET             Robbery   \n",
       "48537 2014-04-25  12D20  11800-11899  SOUTH SAM HOUSTON             Robbery   \n",
       "48538 2014-04-23  15E10    9700-9799          HILLCROFT  Aggravated Assault   \n",
       "48539 2014-04-02  12D20  12000-12099             BEAMER            Burglary   \n",
       "\n",
       "      Premise  NumOffenses  Hour Premise Description  \n",
       "48535     ---          1.0   4.0                 NaN  \n",
       "48536     ---          1.0  20.0                 NaN  \n",
       "48537     ---          1.0  12.0                 NaN  \n",
       "48538     ---          1.0  20.0                 NaN  \n",
       "48539     ---          1.0   4.0                 NaN  "
      ]
     },
     "execution_count": 24,
     "metadata": {},
     "output_type": "execute_result"
    }
   ],
   "source": [
    "crimes[crimes['Premise'] == '---'].head()"
   ]
  },
  {
   "cell_type": "code",
   "execution_count": 25,
   "metadata": {},
   "outputs": [
    {
     "data": {
      "text/plain": [
       "492"
      ]
     },
     "execution_count": 25,
     "metadata": {},
     "output_type": "execute_result"
    }
   ],
   "source": [
    "len(crimes[crimes['Premise'] == '---'])"
   ]
  },
  {
   "cell_type": "code",
   "execution_count": 26,
   "metadata": {},
   "outputs": [
    {
     "data": {
      "text/plain": [
       "18"
      ]
     },
     "execution_count": 26,
     "metadata": {},
     "output_type": "execute_result"
    }
   ],
   "source": [
    "len(crimes[crimes['Premise'] == 'N'])"
   ]
  },
  {
   "cell_type": "code",
   "execution_count": 27,
   "metadata": {},
   "outputs": [],
   "source": [
    "crimes.loc[crimes['Premise Description'].isnull(),'Premise Description'] = crimes['Premise']"
   ]
  },
  {
   "cell_type": "code",
   "execution_count": 28,
   "metadata": {},
   "outputs": [
    {
     "data": {
      "text/plain": [
       "29581"
      ]
     },
     "execution_count": 28,
     "metadata": {},
     "output_type": "execute_result"
    }
   ],
   "source": [
    "len(crimes[crimes['Premise Description'].isnull()])"
   ]
  },
  {
   "cell_type": "code",
   "execution_count": 29,
   "metadata": {},
   "outputs": [
    {
     "data": {
      "image/png": "[encoded data removed]",
      "text/plain": [
       "<Figure size 432x288 with 1 Axes>"
      ]
     },
     "metadata": {},
     "output_type": "display_data"
    }
   ],
   "source": [
    "sns.heatmap(crimes.isnull(),yticklabels=False,cbar=False,cmap='viridis')\n",
    "plt.title('Nulls display')\n",
    "plt.show()"
   ]
  },
  {
   "cell_type": "code",
   "execution_count": 30,
   "metadata": {},
   "outputs": [
    {
     "data": {
      "text/plain": [
       "Date                       8\n",
       "Beat                      20\n",
       "BlockRange               161\n",
       "StreetName                 4\n",
       "OffenseType                4\n",
       "Premise                29581\n",
       "NumOffenses                4\n",
       "Hour                       4\n",
       "Premise Description    29581\n",
       "dtype: int64"
      ]
     },
     "execution_count": 30,
     "metadata": {},
     "output_type": "execute_result"
    }
   ],
   "source": [
    "crimes.apply(lambda x: sum(x.isnull()))"
   ]
  },
  {
   "cell_type": "markdown",
   "metadata": {},
   "source": [
    "## drop rows with 2 or 3 missing values"
   ]
  },
  {
   "cell_type": "code",
   "execution_count": 31,
   "metadata": {},
   "outputs": [],
   "source": [
    "#crimes = crimes.dropna(thresh=3)\n",
    "crimes = crimes.dropna(subset=['Date'])"
   ]
  },
  {
   "cell_type": "code",
   "execution_count": 32,
   "metadata": {},
   "outputs": [
    {
     "data": {
      "text/plain": [
       "Date                       0\n",
       "Beat                      16\n",
       "BlockRange               157\n",
       "StreetName                 0\n",
       "OffenseType                0\n",
       "Premise                29577\n",
       "NumOffenses                0\n",
       "Hour                       0\n",
       "Premise Description    29577\n",
       "dtype: int64"
      ]
     },
     "execution_count": 32,
     "metadata": {},
     "output_type": "execute_result"
    }
   ],
   "source": [
    "crimes.apply(lambda x: sum(x.isnull()))"
   ]
  },
  {
   "cell_type": "code",
   "execution_count": 33,
   "metadata": {},
   "outputs": [],
   "source": [
    "crimes = crimes.dropna(thresh=3)"
   ]
  },
  {
   "cell_type": "code",
   "execution_count": 34,
   "metadata": {},
   "outputs": [
    {
     "data": {
      "text/plain": [
       "Date                       0\n",
       "Beat                      16\n",
       "BlockRange               157\n",
       "StreetName                 0\n",
       "OffenseType                0\n",
       "Premise                29577\n",
       "NumOffenses                0\n",
       "Hour                       0\n",
       "Premise Description    29577\n",
       "dtype: int64"
      ]
     },
     "execution_count": 34,
     "metadata": {},
     "output_type": "execute_result"
    }
   ],
   "source": [
    "crimes.apply(lambda x: sum(x.isnull()))"
   ]
  },
  {
   "cell_type": "markdown",
   "metadata": {},
   "source": [
    "# FIND NAN"
   ]
  },
  {
   "cell_type": "markdown",
   "metadata": {},
   "source": [
    "## Find NaN\n",
    "- drop if > 2 nan"
   ]
  },
  {
   "cell_type": "code",
   "execution_count": 35,
   "metadata": {},
   "outputs": [
    {
     "data": {
      "text/plain": [
       "Date                       0\n",
       "Beat                      16\n",
       "BlockRange               157\n",
       "StreetName                 0\n",
       "OffenseType                0\n",
       "Premise                29577\n",
       "NumOffenses                0\n",
       "Hour                       0\n",
       "Premise Description    29577\n",
       "dtype: int64"
      ]
     },
     "execution_count": 35,
     "metadata": {},
     "output_type": "execute_result"
    }
   ],
   "source": [
    "crimes.apply(lambda x: sum(x.isnull()))"
   ]
  },
  {
   "cell_type": "code",
   "execution_count": 36,
   "metadata": {},
   "outputs": [
    {
     "data": {
      "text/html": [
       "<div>\n",
       "<style scoped>\n",
       "    .dataframe tbody tr th:only-of-type {\n",
       "        vertical-align: middle;\n",
       "    }\n",
       "\n",
       "    .dataframe tbody tr th {\n",
       "        vertical-align: top;\n",
       "    }\n",
       "\n",
       "    .dataframe thead th {\n",
       "        text-align: right;\n",
       "    }\n",
       "</style>\n",
       "<table border=\"1\" class=\"dataframe\">\n",
       "  <thead>\n",
       "    <tr style=\"text-align: right;\">\n",
       "      <th></th>\n",
       "      <th>Date</th>\n",
       "      <th>Beat</th>\n",
       "      <th>BlockRange</th>\n",
       "      <th>StreetName</th>\n",
       "      <th>OffenseType</th>\n",
       "      <th>Premise</th>\n",
       "      <th>NumOffenses</th>\n",
       "      <th>Hour</th>\n",
       "      <th>Premise Description</th>\n",
       "    </tr>\n",
       "  </thead>\n",
       "  <tbody>\n",
       "    <tr>\n",
       "      <th>64732</th>\n",
       "      <td>2014-08-08</td>\n",
       "      <td>10H10</td>\n",
       "      <td>5300-5399</td>\n",
       "      <td>HARRISBURG</td>\n",
       "      <td>Aggravated Assault</td>\n",
       "      <td>NaN</td>\n",
       "      <td>1.0</td>\n",
       "      <td>18.0</td>\n",
       "      <td>NaN</td>\n",
       "    </tr>\n",
       "    <tr>\n",
       "      <th>64733</th>\n",
       "      <td>2014-08-23</td>\n",
       "      <td>10H10</td>\n",
       "      <td>UNK</td>\n",
       "      <td>ENNIS</td>\n",
       "      <td>Theft</td>\n",
       "      <td>NaN</td>\n",
       "      <td>1.0</td>\n",
       "      <td>0.0</td>\n",
       "      <td>NaN</td>\n",
       "    </tr>\n",
       "    <tr>\n",
       "      <th>64734</th>\n",
       "      <td>2014-08-25</td>\n",
       "      <td>10H10</td>\n",
       "      <td>100-199</td>\n",
       "      <td>LOCKWOOD</td>\n",
       "      <td>Theft</td>\n",
       "      <td>NaN</td>\n",
       "      <td>1.0</td>\n",
       "      <td>12.0</td>\n",
       "      <td>NaN</td>\n",
       "    </tr>\n",
       "    <tr>\n",
       "      <th>64735</th>\n",
       "      <td>2014-08-02</td>\n",
       "      <td>10H10</td>\n",
       "      <td>200-299</td>\n",
       "      <td>ROBERTS</td>\n",
       "      <td>Theft</td>\n",
       "      <td>NaN</td>\n",
       "      <td>1.0</td>\n",
       "      <td>18.0</td>\n",
       "      <td>NaN</td>\n",
       "    </tr>\n",
       "    <tr>\n",
       "      <th>64736</th>\n",
       "      <td>2014-07-27</td>\n",
       "      <td>10H10</td>\n",
       "      <td>3900-3999</td>\n",
       "      <td>BERING</td>\n",
       "      <td>Aggravated Assault</td>\n",
       "      <td>NaN</td>\n",
       "      <td>1.0</td>\n",
       "      <td>15.0</td>\n",
       "      <td>NaN</td>\n",
       "    </tr>\n",
       "  </tbody>\n",
       "</table>\n",
       "</div>"
      ],
      "text/plain": [
       "            Date   Beat BlockRange  StreetName         OffenseType Premise  \\\n",
       "64732 2014-08-08  10H10  5300-5399  HARRISBURG  Aggravated Assault     NaN   \n",
       "64733 2014-08-23  10H10        UNK       ENNIS               Theft     NaN   \n",
       "64734 2014-08-25  10H10    100-199    LOCKWOOD               Theft     NaN   \n",
       "64735 2014-08-02  10H10    200-299     ROBERTS               Theft     NaN   \n",
       "64736 2014-07-27  10H10  3900-3999      BERING  Aggravated Assault     NaN   \n",
       "\n",
       "       NumOffenses  Hour Premise Description  \n",
       "64732          1.0  18.0                 NaN  \n",
       "64733          1.0   0.0                 NaN  \n",
       "64734          1.0  12.0                 NaN  \n",
       "64735          1.0  18.0                 NaN  \n",
       "64736          1.0  15.0                 NaN  "
      ]
     },
     "execution_count": 36,
     "metadata": {},
     "output_type": "execute_result"
    }
   ],
   "source": [
    "crimes[crimes.isnull().any(axis=1)].head()"
   ]
  },
  {
   "cell_type": "markdown",
   "metadata": {},
   "source": [
    "## Problem\n",
    "- find nan values and fix"
   ]
  },
  {
   "cell_type": "code",
   "execution_count": 37,
   "metadata": {},
   "outputs": [],
   "source": [
    "null_premise = crimes.Premise.isnull()"
   ]
  },
  {
   "cell_type": "code",
   "execution_count": 38,
   "metadata": {},
   "outputs": [],
   "source": [
    "crimes['Premise'] = crimes[\"Premise\"].fillna('none')"
   ]
  },
  {
   "cell_type": "code",
   "execution_count": 39,
   "metadata": {},
   "outputs": [],
   "source": [
    "crimes['Premise Description'] = crimes[\"Premise Description\"].fillna('none')"
   ]
  },
  {
   "cell_type": "code",
   "execution_count": 40,
   "metadata": {},
   "outputs": [
    {
     "data": {
      "text/plain": [
       "Date                     0\n",
       "Beat                    16\n",
       "BlockRange             157\n",
       "StreetName               0\n",
       "OffenseType              0\n",
       "Premise                  0\n",
       "NumOffenses              0\n",
       "Hour                     0\n",
       "Premise Description      0\n",
       "dtype: int64"
      ]
     },
     "execution_count": 40,
     "metadata": {},
     "output_type": "execute_result"
    }
   ],
   "source": [
    "crimes.apply(lambda x: sum(x.isnull()))"
   ]
  },
  {
   "cell_type": "markdown",
   "metadata": {},
   "source": [
    "## Inspect each column"
   ]
  },
  {
   "cell_type": "code",
   "execution_count": 41,
   "metadata": {},
   "outputs": [
    {
     "data": {
      "text/plain": [
       "Date                   datetime64[ns]\n",
       "Beat                           object\n",
       "BlockRange                     object\n",
       "StreetName                     object\n",
       "OffenseType                    object\n",
       "Premise                        object\n",
       "NumOffenses                   float64\n",
       "Hour                          float64\n",
       "Premise Description            object\n",
       "dtype: object"
      ]
     },
     "execution_count": 41,
     "metadata": {},
     "output_type": "execute_result"
    }
   ],
   "source": [
    "crimes.dtypes"
   ]
  },
  {
   "cell_type": "markdown",
   "metadata": {},
   "source": [
    "## Beat column\n",
    "- total beats should be around 120"
   ]
  },
  {
   "cell_type": "code",
   "execution_count": 42,
   "metadata": {},
   "outputs": [
    {
     "data": {
      "text/plain": [
       "234"
      ]
     },
     "execution_count": 42,
     "metadata": {},
     "output_type": "execute_result"
    }
   ],
   "source": [
    "len(crimes.Beat.value_counts())"
   ]
  },
  {
   "cell_type": "code",
   "execution_count": 43,
   "metadata": {},
   "outputs": [
    {
     "data": {
      "text/plain": [
       "235"
      ]
     },
     "execution_count": 43,
     "metadata": {},
     "output_type": "execute_result"
    }
   ],
   "source": [
    "len(crimes.Beat.value_counts(dropna=False))"
   ]
  },
  {
   "cell_type": "code",
   "execution_count": 44,
   "metadata": {},
   "outputs": [
    {
     "data": {
      "text/plain": [
       "array(['14D30', '3B10', '16E30', '13D20', '8C50', '14D40', '13D10',\n",
       "       '2A50', '17E10', '15E20'], dtype=object)"
      ]
     },
     "execution_count": 44,
     "metadata": {},
     "output_type": "execute_result"
    }
   ],
   "source": [
    "crimes.Beat.unique()[:10]"
   ]
  },
  {
   "cell_type": "code",
   "execution_count": 45,
   "metadata": {},
   "outputs": [],
   "source": [
    "# replace extra ' with empty space\n",
    "crimes['Beat'] = crimes.Beat.str.replace(\"'\", \" \")"
   ]
  },
  {
   "cell_type": "code",
   "execution_count": 46,
   "metadata": {},
   "outputs": [
    {
     "data": {
      "text/plain": [
       "235"
      ]
     },
     "execution_count": 46,
     "metadata": {},
     "output_type": "execute_result"
    }
   ],
   "source": [
    "len(crimes.Beat.value_counts(dropna=False))"
   ]
  },
  {
   "cell_type": "code",
   "execution_count": 47,
   "metadata": {},
   "outputs": [],
   "source": [
    "# strip empty spaces\n",
    "crimes.Beat = crimes.Beat.str.strip()"
   ]
  },
  {
   "cell_type": "code",
   "execution_count": 48,
   "metadata": {},
   "outputs": [
    {
     "data": {
      "text/plain": [
       "124"
      ]
     },
     "execution_count": 48,
     "metadata": {},
     "output_type": "execute_result"
    }
   ],
   "source": [
    "len(crimes.Beat.value_counts(dropna=False))  # get the total"
   ]
  },
  {
   "cell_type": "code",
   "execution_count": 49,
   "metadata": {},
   "outputs": [
    {
     "data": {
      "text/plain": [
       "array(['14D30', '3B10', '16E30', '13D20', '8C50', '14D40', '13D10',\n",
       "       '2A50', '17E10', '15E20', '14D20', '10H10', '3B40', '2A20',\n",
       "       '12D10', '15E30', '18F40', '20G60', '20G70', '5F10', '1A30',\n",
       "       '1A40', '4F10', '3B50', '8C10', '1A50', '19G50', '18F50', '18F60',\n",
       "       '16E20', '10H20', '2A10', '17E30', '2A40', '2A30', '8C60', '1A10',\n",
       "       '1A20', '11H30', '10H40', '10H50', '19G40', '11H10', '14D10',\n",
       "       '6B30', '20G20', '16E40', '20G50', '6B40', '17E40', '19G10',\n",
       "       '18F20', '15E40', '9C40', '7C20', '6B50', '19G20', '7C30', '12D20',\n",
       "       '10H70', '5F20', '7C10', '4F20', '20G30', '20G10', '20G40',\n",
       "       '24C50', '6B20', '17E20', '6B60', '10H60', '11H20', '7C50', '5F30',\n",
       "       '9C10', '10H30', '5F40', '2A60', '24C20', '20G80', '12D30',\n",
       "       '11H40', '19G30', '8C40', '12D60', '12D50', '10H80', '9C20',\n",
       "       '6B10', '9C30', '18F30', '4F30', '11H50', '15E10', '7C40', '8C30',\n",
       "       '12D70', '24C10', '24C60', '18F10', '24C30', '8C20', 'UNK',\n",
       "       '16E10', '12D40', '13D40', '3B30', '14D50', '13D30', '23J30',\n",
       "       '24C40', '21I50', '21I10', '21I30', '23J50', '21I20', '21I60',\n",
       "       '21I70', '21I40', nan, 'HCSO', 'OOJ', '23J40', 'UH-3P'],\n",
       "      dtype=object)"
      ]
     },
     "execution_count": 49,
     "metadata": {},
     "output_type": "execute_result"
    }
   ],
   "source": [
    "crimes.Beat.unique()"
   ]
  },
  {
   "cell_type": "code",
   "execution_count": 50,
   "metadata": {},
   "outputs": [
    {
     "data": {
      "text/plain": [
       "19G10    2667\n",
       "1A20     2606\n",
       "6B60     2547\n",
       "13D20    2460\n",
       "1A10     2454\n",
       "Name: Beat, dtype: int64"
      ]
     },
     "execution_count": 50,
     "metadata": {},
     "output_type": "execute_result"
    }
   ],
   "source": [
    "crimes.Beat.value_counts(dropna=False).head()"
   ]
  },
  {
   "cell_type": "markdown",
   "metadata": {},
   "source": [
    "## BlockRange"
   ]
  },
  {
   "cell_type": "code",
   "execution_count": 51,
   "metadata": {},
   "outputs": [
    {
     "data": {
      "text/plain": [
       "251"
      ]
     },
     "execution_count": 51,
     "metadata": {},
     "output_type": "execute_result"
    }
   ],
   "source": [
    "len(crimes.BlockRange.value_counts(dropna=False))"
   ]
  },
  {
   "cell_type": "code",
   "execution_count": 52,
   "metadata": {},
   "outputs": [
    {
     "data": {
      "text/plain": [
       "100-199      1880\n",
       "2300-2399    1671\n",
       "900-999      1636\n",
       "1000-1099    1415\n",
       "4400-4499    1412\n",
       "Name: BlockRange, dtype: int64"
      ]
     },
     "execution_count": 52,
     "metadata": {},
     "output_type": "execute_result"
    }
   ],
   "source": [
    "crimes.BlockRange.value_counts(dropna=False).head()"
   ]
  },
  {
   "cell_type": "code",
   "execution_count": 53,
   "metadata": {},
   "outputs": [],
   "source": [
    "# strip\n",
    "crimes.BlockRange =crimes.BlockRange.str.strip()"
   ]
  },
  {
   "cell_type": "code",
   "execution_count": 54,
   "metadata": {},
   "outputs": [
    {
     "data": {
      "text/plain": [
       "251"
      ]
     },
     "execution_count": 54,
     "metadata": {},
     "output_type": "execute_result"
    }
   ],
   "source": [
    "len(crimes.BlockRange.value_counts(dropna=False))"
   ]
  },
  {
   "cell_type": "markdown",
   "metadata": {},
   "source": [
    "## StreetName"
   ]
  },
  {
   "cell_type": "code",
   "execution_count": 55,
   "metadata": {},
   "outputs": [
    {
     "name": "stdout",
     "output_type": "stream",
     "text": [
      "before:7970\n"
     ]
    }
   ],
   "source": [
    "print('before:{}'.format(len(crimes.StreetName.value_counts(dropna=False))))"
   ]
  },
  {
   "cell_type": "code",
   "execution_count": 56,
   "metadata": {},
   "outputs": [],
   "source": [
    "# remove extra spaces\n",
    "crimes.StreetName = crimes.StreetName.str.strip()\n",
    "\n",
    "\n",
    "# make all lower case\n",
    "crimes.StreetName = crimes.StreetName.str.lower()"
   ]
  },
  {
   "cell_type": "code",
   "execution_count": 57,
   "metadata": {},
   "outputs": [
    {
     "name": "stdout",
     "output_type": "stream",
     "text": [
      "after:7966\n"
     ]
    }
   ],
   "source": [
    "print('after:{}'.format(len(crimes.StreetName.value_counts(dropna=False))))"
   ]
  },
  {
   "cell_type": "code",
   "execution_count": 58,
   "metadata": {},
   "outputs": [
    {
     "name": "stdout",
     "output_type": "stream",
     "text": [
      "westheimer    3458\n",
      "north         1790\n",
      "gulf          1756\n",
      "gessner       1680\n",
      "richmond      1628\n",
      "Name: StreetName, dtype: int64\n"
     ]
    }
   ],
   "source": [
    "print(crimes.StreetName.value_counts(dropna=False).head())"
   ]
  },
  {
   "cell_type": "markdown",
   "metadata": {},
   "source": [
    "## OffenseType\n",
    "Total 7\n",
    "- Theft\n",
    "- Burlary\n",
    "- Aggravated Assalult\n",
    "- Robbery\n",
    "- Auto Theft\n",
    "- Rape\n",
    "- Murder\n"
   ]
  },
  {
   "cell_type": "code",
   "execution_count": 59,
   "metadata": {},
   "outputs": [
    {
     "name": "stdout",
     "output_type": "stream",
     "text": [
      "before:7\n"
     ]
    }
   ],
   "source": [
    "print('before:{}'.format(len(crimes.OffenseType.value_counts(dropna=False))))"
   ]
  },
  {
   "cell_type": "code",
   "execution_count": 60,
   "metadata": {},
   "outputs": [],
   "source": [
    "crimes.OffenseType = crimes.OffenseType.str.strip()"
   ]
  },
  {
   "cell_type": "code",
   "execution_count": 61,
   "metadata": {},
   "outputs": [
    {
     "name": "stdout",
     "output_type": "stream",
     "text": [
      "after:7\n"
     ]
    }
   ],
   "source": [
    "print('after:{}'.format(len(crimes.OffenseType.value_counts(dropna=False))))"
   ]
  },
  {
   "cell_type": "code",
   "execution_count": 62,
   "metadata": {},
   "outputs": [
    {
     "name": "stdout",
     "output_type": "stream",
     "text": [
      "Theft                 66673\n",
      "Burglary              21144\n",
      "Auto Theft            13454\n",
      "Robbery                9997\n",
      "Aggravated Assault     9460\n",
      "Rape                    788\n",
      "Murder                  230\n",
      "Name: OffenseType, dtype: int64\n"
     ]
    }
   ],
   "source": [
    "print(crimes.OffenseType.value_counts(dropna=False))"
   ]
  },
  {
   "cell_type": "code",
   "execution_count": 63,
   "metadata": {},
   "outputs": [],
   "source": [
    "# join Auto Theft & AutoTheft\n",
    "crimes.OffenseType = crimes.OffenseType.replace('AutoTheft','Auto Theft')"
   ]
  },
  {
   "cell_type": "markdown",
   "metadata": {},
   "source": [
    "#### fill nans with most common value"
   ]
  },
  {
   "cell_type": "code",
   "execution_count": 64,
   "metadata": {},
   "outputs": [],
   "source": [
    "crimes = crimes.fillna(crimes['OffenseType'].value_counts().index[0])"
   ]
  },
  {
   "cell_type": "code",
   "execution_count": 65,
   "metadata": {},
   "outputs": [
    {
     "name": "stdout",
     "output_type": "stream",
     "text": [
      "Theft                 66673\n",
      "Burglary              21144\n",
      "Auto Theft            13454\n",
      "Robbery                9997\n",
      "Aggravated Assault     9460\n",
      "Rape                    788\n",
      "Murder                  230\n",
      "Name: OffenseType, dtype: int64\n"
     ]
    }
   ],
   "source": [
    "print(crimes.OffenseType.value_counts(dropna=False))"
   ]
  },
  {
   "cell_type": "markdown",
   "metadata": {},
   "source": [
    "## Premise"
   ]
  },
  {
   "cell_type": "code",
   "execution_count": 66,
   "metadata": {},
   "outputs": [
    {
     "name": "stdout",
     "output_type": "stream",
     "text": [
      "before:251\n"
     ]
    }
   ],
   "source": [
    "print('before:{}'.format(len(crimes['Premise Description'].value_counts(dropna=False))))\n",
    "\n",
    "crimes['Premise Description'] = crimes['Premise Description'].str.strip()\n",
    "\n",
    "crimes['Premise Description'] = crimes['Premise Description'].str.lower()"
   ]
  },
  {
   "cell_type": "code",
   "execution_count": 67,
   "metadata": {},
   "outputs": [
    {
     "name": "stdout",
     "output_type": "stream",
     "text": [
      "after:251\n"
     ]
    }
   ],
   "source": [
    "print('after:{}'.format(len(crimes.Premise.value_counts(dropna=False))))"
   ]
  },
  {
   "cell_type": "code",
   "execution_count": 68,
   "metadata": {},
   "outputs": [
    {
     "data": {
      "text/plain": [
       "none                  29577\n",
       "20R                    6410\n",
       "Residence or House     6384\n",
       "20A                    6094\n",
       "18A                    6072\n",
       "Name: Premise, dtype: int64"
      ]
     },
     "execution_count": 68,
     "metadata": {},
     "output_type": "execute_result"
    }
   ],
   "source": [
    "crimes.Premise.value_counts(dropna=False).head()"
   ]
  },
  {
   "cell_type": "markdown",
   "metadata": {},
   "source": [
    "# Date column"
   ]
  },
  {
   "cell_type": "code",
   "execution_count": 69,
   "metadata": {},
   "outputs": [
    {
     "data": {
      "text/plain": [
       "Date                   datetime64[ns]\n",
       "Beat                           object\n",
       "BlockRange                     object\n",
       "StreetName                     object\n",
       "OffenseType                    object\n",
       "Premise                        object\n",
       "NumOffenses                   float64\n",
       "Hour                          float64\n",
       "Premise Description            object\n",
       "dtype: object"
      ]
     },
     "execution_count": 69,
     "metadata": {},
     "output_type": "execute_result"
    }
   ],
   "source": [
    "crimes.dtypes"
   ]
  },
  {
   "cell_type": "markdown",
   "metadata": {},
   "source": [
    "## Date\n",
    "- make datetime index"
   ]
  },
  {
   "cell_type": "code",
   "execution_count": 70,
   "metadata": {},
   "outputs": [],
   "source": [
    "# date\n",
    "crimes.Date = pd.to_datetime(crimes.Date)\n",
    "\n",
    "crimes = crimes.set_index('Date').sort_index(ascending=True)"
   ]
  },
  {
   "cell_type": "code",
   "execution_count": 71,
   "metadata": {},
   "outputs": [
    {
     "data": {
      "text/html": [
       "<div>\n",
       "<style scoped>\n",
       "    .dataframe tbody tr th:only-of-type {\n",
       "        vertical-align: middle;\n",
       "    }\n",
       "\n",
       "    .dataframe tbody tr th {\n",
       "        vertical-align: top;\n",
       "    }\n",
       "\n",
       "    .dataframe thead th {\n",
       "        text-align: right;\n",
       "    }\n",
       "</style>\n",
       "<table border=\"1\" class=\"dataframe\">\n",
       "  <thead>\n",
       "    <tr style=\"text-align: right;\">\n",
       "      <th></th>\n",
       "      <th>Beat</th>\n",
       "      <th>BlockRange</th>\n",
       "      <th>StreetName</th>\n",
       "      <th>OffenseType</th>\n",
       "      <th>Premise</th>\n",
       "      <th>NumOffenses</th>\n",
       "      <th>Hour</th>\n",
       "      <th>Premise Description</th>\n",
       "    </tr>\n",
       "    <tr>\n",
       "      <th>Date</th>\n",
       "      <th></th>\n",
       "      <th></th>\n",
       "      <th></th>\n",
       "      <th></th>\n",
       "      <th></th>\n",
       "      <th></th>\n",
       "      <th></th>\n",
       "      <th></th>\n",
       "    </tr>\n",
       "  </thead>\n",
       "  <tbody>\n",
       "    <tr>\n",
       "      <th>1914-09-08</th>\n",
       "      <td>24C60</td>\n",
       "      <td>12700-12799</td>\n",
       "      <td>lake houston</td>\n",
       "      <td>Burglary</td>\n",
       "      <td>Restaurant or Cafeteria</td>\n",
       "      <td>1.0</td>\n",
       "      <td>7.0</td>\n",
       "      <td>restaurant or cafeteria</td>\n",
       "    </tr>\n",
       "    <tr>\n",
       "      <th>1914-11-02</th>\n",
       "      <td>18F60</td>\n",
       "      <td>8800-8899</td>\n",
       "      <td>bellaire</td>\n",
       "      <td>Burglary</td>\n",
       "      <td>Miscellaneous Business (Non-Specific)</td>\n",
       "      <td>1.0</td>\n",
       "      <td>3.0</td>\n",
       "      <td>miscellaneous business (non-specific)</td>\n",
       "    </tr>\n",
       "    <tr>\n",
       "      <th>1914-12-03</th>\n",
       "      <td>12D20</td>\n",
       "      <td>12800-12899</td>\n",
       "      <td>gulf</td>\n",
       "      <td>Auto Theft</td>\n",
       "      <td>none</td>\n",
       "      <td>1.0</td>\n",
       "      <td>19.0</td>\n",
       "      <td>none</td>\n",
       "    </tr>\n",
       "    <tr>\n",
       "      <th>1920-06-28</th>\n",
       "      <td>17E40</td>\n",
       "      <td>12100-12199</td>\n",
       "      <td>fairmeadow</td>\n",
       "      <td>Theft</td>\n",
       "      <td>none</td>\n",
       "      <td>1.0</td>\n",
       "      <td>16.0</td>\n",
       "      <td>none</td>\n",
       "    </tr>\n",
       "    <tr>\n",
       "      <th>1924-12-09</th>\n",
       "      <td>UNK</td>\n",
       "      <td>11000-11099</td>\n",
       "      <td>eastex</td>\n",
       "      <td>Theft</td>\n",
       "      <td>Strip Business Center Parking Lot</td>\n",
       "      <td>1.0</td>\n",
       "      <td>11.0</td>\n",
       "      <td>strip business center parking lot</td>\n",
       "    </tr>\n",
       "  </tbody>\n",
       "</table>\n",
       "</div>"
      ],
      "text/plain": [
       "             Beat   BlockRange    StreetName OffenseType  \\\n",
       "Date                                                       \n",
       "1914-09-08  24C60  12700-12799  lake houston    Burglary   \n",
       "1914-11-02  18F60    8800-8899      bellaire    Burglary   \n",
       "1914-12-03  12D20  12800-12899          gulf  Auto Theft   \n",
       "1920-06-28  17E40  12100-12199    fairmeadow       Theft   \n",
       "1924-12-09    UNK  11000-11099        eastex       Theft   \n",
       "\n",
       "                                          Premise  NumOffenses  Hour  \\\n",
       "Date                                                                   \n",
       "1914-09-08                Restaurant or Cafeteria          1.0   7.0   \n",
       "1914-11-02  Miscellaneous Business (Non-Specific)          1.0   3.0   \n",
       "1914-12-03                                   none          1.0  19.0   \n",
       "1920-06-28                                   none          1.0  16.0   \n",
       "1924-12-09      Strip Business Center Parking Lot          1.0  11.0   \n",
       "\n",
       "                              Premise Description  \n",
       "Date                                               \n",
       "1914-09-08                restaurant or cafeteria  \n",
       "1914-11-02  miscellaneous business (non-specific)  \n",
       "1914-12-03                                   none  \n",
       "1920-06-28                                   none  \n",
       "1924-12-09      strip business center parking lot  "
      ]
     },
     "execution_count": 71,
     "metadata": {},
     "output_type": "execute_result"
    }
   ],
   "source": [
    "crimes.head()"
   ]
  },
  {
   "cell_type": "markdown",
   "metadata": {},
   "source": [
    "## Create Columns with day,weekday,month,year from datetime index\n",
    "\n",
    "It allows us to view incorect reports by date better"
   ]
  },
  {
   "cell_type": "code",
   "execution_count": null,
   "metadata": {},
   "outputs": [],
   "source": []
  },
  {
   "cell_type": "code",
   "execution_count": 72,
   "metadata": {},
   "outputs": [],
   "source": [
    "# get day, weekday,month ,year\n",
    "\n",
    "crimes['day'] = crimes.index.strftime('%d')\n",
    "crimes['weekday'] = crimes.index.strftime('%A')\n",
    "crimes['month'] = crimes.index.strftime('%b')\n",
    "crimes['year'] = crimes.index.strftime('%Y')"
   ]
  },
  {
   "cell_type": "code",
   "execution_count": 73,
   "metadata": {},
   "outputs": [
    {
     "data": {
      "text/html": [
       "<div>\n",
       "<style scoped>\n",
       "    .dataframe tbody tr th:only-of-type {\n",
       "        vertical-align: middle;\n",
       "    }\n",
       "\n",
       "    .dataframe tbody tr th {\n",
       "        vertical-align: top;\n",
       "    }\n",
       "\n",
       "    .dataframe thead th {\n",
       "        text-align: right;\n",
       "    }\n",
       "</style>\n",
       "<table border=\"1\" class=\"dataframe\">\n",
       "  <thead>\n",
       "    <tr style=\"text-align: right;\">\n",
       "      <th></th>\n",
       "      <th>Beat</th>\n",
       "      <th>BlockRange</th>\n",
       "      <th>StreetName</th>\n",
       "      <th>OffenseType</th>\n",
       "      <th>Premise</th>\n",
       "      <th>NumOffenses</th>\n",
       "      <th>Hour</th>\n",
       "      <th>Premise Description</th>\n",
       "      <th>day</th>\n",
       "      <th>weekday</th>\n",
       "      <th>month</th>\n",
       "      <th>year</th>\n",
       "    </tr>\n",
       "    <tr>\n",
       "      <th>Date</th>\n",
       "      <th></th>\n",
       "      <th></th>\n",
       "      <th></th>\n",
       "      <th></th>\n",
       "      <th></th>\n",
       "      <th></th>\n",
       "      <th></th>\n",
       "      <th></th>\n",
       "      <th></th>\n",
       "      <th></th>\n",
       "      <th></th>\n",
       "      <th></th>\n",
       "    </tr>\n",
       "  </thead>\n",
       "  <tbody>\n",
       "    <tr>\n",
       "      <th>1914-09-08</th>\n",
       "      <td>24C60</td>\n",
       "      <td>12700-12799</td>\n",
       "      <td>lake houston</td>\n",
       "      <td>Burglary</td>\n",
       "      <td>Restaurant or Cafeteria</td>\n",
       "      <td>1.0</td>\n",
       "      <td>7.0</td>\n",
       "      <td>restaurant or cafeteria</td>\n",
       "      <td>08</td>\n",
       "      <td>Tuesday</td>\n",
       "      <td>Sep</td>\n",
       "      <td>1914</td>\n",
       "    </tr>\n",
       "    <tr>\n",
       "      <th>1914-11-02</th>\n",
       "      <td>18F60</td>\n",
       "      <td>8800-8899</td>\n",
       "      <td>bellaire</td>\n",
       "      <td>Burglary</td>\n",
       "      <td>Miscellaneous Business (Non-Specific)</td>\n",
       "      <td>1.0</td>\n",
       "      <td>3.0</td>\n",
       "      <td>miscellaneous business (non-specific)</td>\n",
       "      <td>02</td>\n",
       "      <td>Monday</td>\n",
       "      <td>Nov</td>\n",
       "      <td>1914</td>\n",
       "    </tr>\n",
       "    <tr>\n",
       "      <th>1914-12-03</th>\n",
       "      <td>12D20</td>\n",
       "      <td>12800-12899</td>\n",
       "      <td>gulf</td>\n",
       "      <td>Auto Theft</td>\n",
       "      <td>none</td>\n",
       "      <td>1.0</td>\n",
       "      <td>19.0</td>\n",
       "      <td>none</td>\n",
       "      <td>03</td>\n",
       "      <td>Thursday</td>\n",
       "      <td>Dec</td>\n",
       "      <td>1914</td>\n",
       "    </tr>\n",
       "    <tr>\n",
       "      <th>1920-06-28</th>\n",
       "      <td>17E40</td>\n",
       "      <td>12100-12199</td>\n",
       "      <td>fairmeadow</td>\n",
       "      <td>Theft</td>\n",
       "      <td>none</td>\n",
       "      <td>1.0</td>\n",
       "      <td>16.0</td>\n",
       "      <td>none</td>\n",
       "      <td>28</td>\n",
       "      <td>Monday</td>\n",
       "      <td>Jun</td>\n",
       "      <td>1920</td>\n",
       "    </tr>\n",
       "    <tr>\n",
       "      <th>1924-12-09</th>\n",
       "      <td>UNK</td>\n",
       "      <td>11000-11099</td>\n",
       "      <td>eastex</td>\n",
       "      <td>Theft</td>\n",
       "      <td>Strip Business Center Parking Lot</td>\n",
       "      <td>1.0</td>\n",
       "      <td>11.0</td>\n",
       "      <td>strip business center parking lot</td>\n",
       "      <td>09</td>\n",
       "      <td>Tuesday</td>\n",
       "      <td>Dec</td>\n",
       "      <td>1924</td>\n",
       "    </tr>\n",
       "  </tbody>\n",
       "</table>\n",
       "</div>"
      ],
      "text/plain": [
       "             Beat   BlockRange    StreetName OffenseType  \\\n",
       "Date                                                       \n",
       "1914-09-08  24C60  12700-12799  lake houston    Burglary   \n",
       "1914-11-02  18F60    8800-8899      bellaire    Burglary   \n",
       "1914-12-03  12D20  12800-12899          gulf  Auto Theft   \n",
       "1920-06-28  17E40  12100-12199    fairmeadow       Theft   \n",
       "1924-12-09    UNK  11000-11099        eastex       Theft   \n",
       "\n",
       "                                          Premise  NumOffenses  Hour  \\\n",
       "Date                                                                   \n",
       "1914-09-08                Restaurant or Cafeteria          1.0   7.0   \n",
       "1914-11-02  Miscellaneous Business (Non-Specific)          1.0   3.0   \n",
       "1914-12-03                                   none          1.0  19.0   \n",
       "1920-06-28                                   none          1.0  16.0   \n",
       "1924-12-09      Strip Business Center Parking Lot          1.0  11.0   \n",
       "\n",
       "                              Premise Description day   weekday month  year  \n",
       "Date                                                                         \n",
       "1914-09-08                restaurant or cafeteria  08   Tuesday   Sep  1914  \n",
       "1914-11-02  miscellaneous business (non-specific)  02    Monday   Nov  1914  \n",
       "1914-12-03                                   none  03  Thursday   Dec  1914  \n",
       "1920-06-28                                   none  28    Monday   Jun  1920  \n",
       "1924-12-09      strip business center parking lot  09   Tuesday   Dec  1924  "
      ]
     },
     "execution_count": 73,
     "metadata": {},
     "output_type": "execute_result"
    }
   ],
   "source": [
    "crimes.head()"
   ]
  },
  {
   "cell_type": "code",
   "execution_count": 74,
   "metadata": {},
   "outputs": [
    {
     "data": {
      "text/plain": [
       "2014    120520\n",
       "2013      1052\n",
       "2012        53\n",
       "2011        25\n",
       "2009        14\n",
       "2010        13\n",
       "2006        11\n",
       "2008         9\n",
       "2003         9\n",
       "2004         7\n",
       "2005         5\n",
       "2007         5\n",
       "2001         4\n",
       "1914         3\n",
       "2000         3\n",
       "2002         3\n",
       "1987         1\n",
       "1999         1\n",
       "1992         1\n",
       "1984         1\n",
       "1980         1\n",
       "1920         1\n",
       "1971         1\n",
       "1973         1\n",
       "2019         1\n",
       "1924         1\n",
       "Name: year, dtype: int64"
      ]
     },
     "execution_count": 74,
     "metadata": {},
     "output_type": "execute_result"
    }
   ],
   "source": [
    "crimes.year.value_counts(dropna=False)"
   ]
  },
  {
   "cell_type": "markdown",
   "metadata": {},
   "source": [
    "We can see now that many reports have incorect year"
   ]
  },
  {
   "cell_type": "code",
   "execution_count": null,
   "metadata": {},
   "outputs": [],
   "source": []
  },
  {
   "cell_type": "markdown",
   "metadata": {},
   "source": [
    "## null values\n",
    "\n",
    "- check\n",
    "- count\n",
    "- display"
   ]
  },
  {
   "cell_type": "code",
   "execution_count": 75,
   "metadata": {},
   "outputs": [
    {
     "data": {
      "text/plain": [
       "Beat                   0\n",
       "BlockRange             0\n",
       "StreetName             0\n",
       "OffenseType            0\n",
       "Premise                0\n",
       "NumOffenses            0\n",
       "Hour                   0\n",
       "Premise Description    0\n",
       "day                    0\n",
       "weekday                0\n",
       "month                  0\n",
       "year                   0\n",
       "dtype: int64"
      ]
     },
     "execution_count": 75,
     "metadata": {},
     "output_type": "execute_result"
    }
   ],
   "source": [
    "crimes.apply(lambda x: sum(x.isnull()))"
   ]
  },
  {
   "cell_type": "code",
   "execution_count": 76,
   "metadata": {},
   "outputs": [
    {
     "data": {
      "text/plain": [
       "0"
      ]
     },
     "execution_count": 76,
     "metadata": {},
     "output_type": "execute_result"
    }
   ],
   "source": [
    "# display any null\n",
    "len(crimes[crimes.isnull().any(axis=1)])"
   ]
  },
  {
   "cell_type": "code",
   "execution_count": 77,
   "metadata": {},
   "outputs": [
    {
     "data": {
      "text/html": [
       "<div>\n",
       "<style scoped>\n",
       "    .dataframe tbody tr th:only-of-type {\n",
       "        vertical-align: middle;\n",
       "    }\n",
       "\n",
       "    .dataframe tbody tr th {\n",
       "        vertical-align: top;\n",
       "    }\n",
       "\n",
       "    .dataframe thead th {\n",
       "        text-align: right;\n",
       "    }\n",
       "</style>\n",
       "<table border=\"1\" class=\"dataframe\">\n",
       "  <thead>\n",
       "    <tr style=\"text-align: right;\">\n",
       "      <th></th>\n",
       "      <th>Beat</th>\n",
       "      <th>BlockRange</th>\n",
       "      <th>StreetName</th>\n",
       "      <th>OffenseType</th>\n",
       "      <th>Premise</th>\n",
       "      <th>NumOffenses</th>\n",
       "      <th>Hour</th>\n",
       "      <th>Premise Description</th>\n",
       "      <th>day</th>\n",
       "      <th>weekday</th>\n",
       "      <th>month</th>\n",
       "      <th>year</th>\n",
       "    </tr>\n",
       "    <tr>\n",
       "      <th>Date</th>\n",
       "      <th></th>\n",
       "      <th></th>\n",
       "      <th></th>\n",
       "      <th></th>\n",
       "      <th></th>\n",
       "      <th></th>\n",
       "      <th></th>\n",
       "      <th></th>\n",
       "      <th></th>\n",
       "      <th></th>\n",
       "      <th></th>\n",
       "      <th></th>\n",
       "    </tr>\n",
       "  </thead>\n",
       "  <tbody>\n",
       "  </tbody>\n",
       "</table>\n",
       "</div>"
      ],
      "text/plain": [
       "Empty DataFrame\n",
       "Columns: [Beat, BlockRange, StreetName, OffenseType, Premise, NumOffenses, Hour, Premise Description, day, weekday, month, year]\n",
       "Index: []"
      ]
     },
     "execution_count": 77,
     "metadata": {},
     "output_type": "execute_result"
    }
   ],
   "source": [
    "crimes[crimes.isnull().any(axis=1)].head()"
   ]
  },
  {
   "cell_type": "code",
   "execution_count": null,
   "metadata": {},
   "outputs": [],
   "source": []
  },
  {
   "cell_type": "code",
   "execution_count": 78,
   "metadata": {},
   "outputs": [
    {
     "data": {
      "text/plain": [
       "Beat                   0\n",
       "BlockRange             0\n",
       "StreetName             0\n",
       "OffenseType            0\n",
       "Premise                0\n",
       "NumOffenses            0\n",
       "Hour                   0\n",
       "Premise Description    0\n",
       "day                    0\n",
       "weekday                0\n",
       "month                  0\n",
       "year                   0\n",
       "dtype: int64"
      ]
     },
     "execution_count": 78,
     "metadata": {},
     "output_type": "execute_result"
    }
   ],
   "source": [
    "crimes.apply(lambda x: sum(x.isnull()))"
   ]
  },
  {
   "cell_type": "markdown",
   "metadata": {},
   "source": [
    "## New Dataframe\n",
    "- remove premise col\n",
    "- keep premise description"
   ]
  },
  {
   "cell_type": "code",
   "execution_count": 79,
   "metadata": {},
   "outputs": [
    {
     "data": {
      "text/html": [
       "<div>\n",
       "<style scoped>\n",
       "    .dataframe tbody tr th:only-of-type {\n",
       "        vertical-align: middle;\n",
       "    }\n",
       "\n",
       "    .dataframe tbody tr th {\n",
       "        vertical-align: top;\n",
       "    }\n",
       "\n",
       "    .dataframe thead th {\n",
       "        text-align: right;\n",
       "    }\n",
       "</style>\n",
       "<table border=\"1\" class=\"dataframe\">\n",
       "  <thead>\n",
       "    <tr style=\"text-align: right;\">\n",
       "      <th></th>\n",
       "      <th>Beat</th>\n",
       "      <th>BlockRange</th>\n",
       "      <th>StreetName</th>\n",
       "      <th>OffenseType</th>\n",
       "      <th>Premise Description</th>\n",
       "      <th>NumOffenses</th>\n",
       "      <th>Hour</th>\n",
       "      <th>day</th>\n",
       "      <th>weekday</th>\n",
       "      <th>month</th>\n",
       "      <th>year</th>\n",
       "    </tr>\n",
       "    <tr>\n",
       "      <th>Date</th>\n",
       "      <th></th>\n",
       "      <th></th>\n",
       "      <th></th>\n",
       "      <th></th>\n",
       "      <th></th>\n",
       "      <th></th>\n",
       "      <th></th>\n",
       "      <th></th>\n",
       "      <th></th>\n",
       "      <th></th>\n",
       "      <th></th>\n",
       "    </tr>\n",
       "  </thead>\n",
       "  <tbody>\n",
       "    <tr>\n",
       "      <th>1914-09-08</th>\n",
       "      <td>24C60</td>\n",
       "      <td>12700-12799</td>\n",
       "      <td>lake houston</td>\n",
       "      <td>Burglary</td>\n",
       "      <td>restaurant or cafeteria</td>\n",
       "      <td>1.0</td>\n",
       "      <td>7.0</td>\n",
       "      <td>08</td>\n",
       "      <td>Tuesday</td>\n",
       "      <td>Sep</td>\n",
       "      <td>1914</td>\n",
       "    </tr>\n",
       "    <tr>\n",
       "      <th>1914-11-02</th>\n",
       "      <td>18F60</td>\n",
       "      <td>8800-8899</td>\n",
       "      <td>bellaire</td>\n",
       "      <td>Burglary</td>\n",
       "      <td>miscellaneous business (non-specific)</td>\n",
       "      <td>1.0</td>\n",
       "      <td>3.0</td>\n",
       "      <td>02</td>\n",
       "      <td>Monday</td>\n",
       "      <td>Nov</td>\n",
       "      <td>1914</td>\n",
       "    </tr>\n",
       "    <tr>\n",
       "      <th>1914-12-03</th>\n",
       "      <td>12D20</td>\n",
       "      <td>12800-12899</td>\n",
       "      <td>gulf</td>\n",
       "      <td>Auto Theft</td>\n",
       "      <td>none</td>\n",
       "      <td>1.0</td>\n",
       "      <td>19.0</td>\n",
       "      <td>03</td>\n",
       "      <td>Thursday</td>\n",
       "      <td>Dec</td>\n",
       "      <td>1914</td>\n",
       "    </tr>\n",
       "    <tr>\n",
       "      <th>1920-06-28</th>\n",
       "      <td>17E40</td>\n",
       "      <td>12100-12199</td>\n",
       "      <td>fairmeadow</td>\n",
       "      <td>Theft</td>\n",
       "      <td>none</td>\n",
       "      <td>1.0</td>\n",
       "      <td>16.0</td>\n",
       "      <td>28</td>\n",
       "      <td>Monday</td>\n",
       "      <td>Jun</td>\n",
       "      <td>1920</td>\n",
       "    </tr>\n",
       "    <tr>\n",
       "      <th>1924-12-09</th>\n",
       "      <td>UNK</td>\n",
       "      <td>11000-11099</td>\n",
       "      <td>eastex</td>\n",
       "      <td>Theft</td>\n",
       "      <td>strip business center parking lot</td>\n",
       "      <td>1.0</td>\n",
       "      <td>11.0</td>\n",
       "      <td>09</td>\n",
       "      <td>Tuesday</td>\n",
       "      <td>Dec</td>\n",
       "      <td>1924</td>\n",
       "    </tr>\n",
       "  </tbody>\n",
       "</table>\n",
       "</div>"
      ],
      "text/plain": [
       "             Beat   BlockRange    StreetName OffenseType  \\\n",
       "Date                                                       \n",
       "1914-09-08  24C60  12700-12799  lake houston    Burglary   \n",
       "1914-11-02  18F60    8800-8899      bellaire    Burglary   \n",
       "1914-12-03  12D20  12800-12899          gulf  Auto Theft   \n",
       "1920-06-28  17E40  12100-12199    fairmeadow       Theft   \n",
       "1924-12-09    UNK  11000-11099        eastex       Theft   \n",
       "\n",
       "                              Premise Description  NumOffenses  Hour day  \\\n",
       "Date                                                                       \n",
       "1914-09-08                restaurant or cafeteria          1.0   7.0  08   \n",
       "1914-11-02  miscellaneous business (non-specific)          1.0   3.0  02   \n",
       "1914-12-03                                   none          1.0  19.0  03   \n",
       "1920-06-28                                   none          1.0  16.0  28   \n",
       "1924-12-09      strip business center parking lot          1.0  11.0  09   \n",
       "\n",
       "             weekday month  year  \n",
       "Date                              \n",
       "1914-09-08   Tuesday   Sep  1914  \n",
       "1914-11-02    Monday   Nov  1914  \n",
       "1914-12-03  Thursday   Dec  1914  \n",
       "1920-06-28    Monday   Jun  1920  \n",
       "1924-12-09   Tuesday   Dec  1924  "
      ]
     },
     "execution_count": 79,
     "metadata": {},
     "output_type": "execute_result"
    }
   ],
   "source": [
    "crime_yr = crimes[['Beat','BlockRange','StreetName','OffenseType','Premise Description','NumOffenses','Hour','day','weekday','month','year']]\n",
    "crime_yr.head()"
   ]
  },
  {
   "cell_type": "code",
   "execution_count": 80,
   "metadata": {},
   "outputs": [
    {
     "data": {
      "text/plain": [
       "Beat                   0\n",
       "BlockRange             0\n",
       "StreetName             0\n",
       "OffenseType            0\n",
       "Premise                0\n",
       "NumOffenses            0\n",
       "Hour                   0\n",
       "Premise Description    0\n",
       "day                    0\n",
       "weekday                0\n",
       "month                  0\n",
       "year                   0\n",
       "dtype: int64"
      ]
     },
     "execution_count": 80,
     "metadata": {},
     "output_type": "execute_result"
    }
   ],
   "source": [
    "crimes.apply(lambda x: sum(x.isnull()))"
   ]
  },
  {
   "cell_type": "code",
   "execution_count": 81,
   "metadata": {},
   "outputs": [],
   "source": [
    "# change column name from Premise Descriptionto Premise\n",
    "\n",
    "crime_yr.rename(columns={\n",
    "    'Premise Description': 'Premise',}, inplace=True)\n"
   ]
  },
  {
   "cell_type": "code",
   "execution_count": 82,
   "metadata": {},
   "outputs": [
    {
     "data": {
      "text/html": [
       "<div>\n",
       "<style scoped>\n",
       "    .dataframe tbody tr th:only-of-type {\n",
       "        vertical-align: middle;\n",
       "    }\n",
       "\n",
       "    .dataframe tbody tr th {\n",
       "        vertical-align: top;\n",
       "    }\n",
       "\n",
       "    .dataframe thead th {\n",
       "        text-align: right;\n",
       "    }\n",
       "</style>\n",
       "<table border=\"1\" class=\"dataframe\">\n",
       "  <thead>\n",
       "    <tr style=\"text-align: right;\">\n",
       "      <th></th>\n",
       "      <th>Beat</th>\n",
       "      <th>BlockRange</th>\n",
       "      <th>StreetName</th>\n",
       "      <th>OffenseType</th>\n",
       "      <th>Premise</th>\n",
       "      <th>NumOffenses</th>\n",
       "      <th>Hour</th>\n",
       "      <th>day</th>\n",
       "      <th>weekday</th>\n",
       "      <th>month</th>\n",
       "      <th>year</th>\n",
       "    </tr>\n",
       "    <tr>\n",
       "      <th>Date</th>\n",
       "      <th></th>\n",
       "      <th></th>\n",
       "      <th></th>\n",
       "      <th></th>\n",
       "      <th></th>\n",
       "      <th></th>\n",
       "      <th></th>\n",
       "      <th></th>\n",
       "      <th></th>\n",
       "      <th></th>\n",
       "      <th></th>\n",
       "    </tr>\n",
       "  </thead>\n",
       "  <tbody>\n",
       "    <tr>\n",
       "      <th>1914-09-08</th>\n",
       "      <td>24C60</td>\n",
       "      <td>12700-12799</td>\n",
       "      <td>lake houston</td>\n",
       "      <td>Burglary</td>\n",
       "      <td>restaurant or cafeteria</td>\n",
       "      <td>1.0</td>\n",
       "      <td>7.0</td>\n",
       "      <td>08</td>\n",
       "      <td>Tuesday</td>\n",
       "      <td>Sep</td>\n",
       "      <td>1914</td>\n",
       "    </tr>\n",
       "    <tr>\n",
       "      <th>1914-11-02</th>\n",
       "      <td>18F60</td>\n",
       "      <td>8800-8899</td>\n",
       "      <td>bellaire</td>\n",
       "      <td>Burglary</td>\n",
       "      <td>miscellaneous business (non-specific)</td>\n",
       "      <td>1.0</td>\n",
       "      <td>3.0</td>\n",
       "      <td>02</td>\n",
       "      <td>Monday</td>\n",
       "      <td>Nov</td>\n",
       "      <td>1914</td>\n",
       "    </tr>\n",
       "    <tr>\n",
       "      <th>1914-12-03</th>\n",
       "      <td>12D20</td>\n",
       "      <td>12800-12899</td>\n",
       "      <td>gulf</td>\n",
       "      <td>Auto Theft</td>\n",
       "      <td>none</td>\n",
       "      <td>1.0</td>\n",
       "      <td>19.0</td>\n",
       "      <td>03</td>\n",
       "      <td>Thursday</td>\n",
       "      <td>Dec</td>\n",
       "      <td>1914</td>\n",
       "    </tr>\n",
       "    <tr>\n",
       "      <th>1920-06-28</th>\n",
       "      <td>17E40</td>\n",
       "      <td>12100-12199</td>\n",
       "      <td>fairmeadow</td>\n",
       "      <td>Theft</td>\n",
       "      <td>none</td>\n",
       "      <td>1.0</td>\n",
       "      <td>16.0</td>\n",
       "      <td>28</td>\n",
       "      <td>Monday</td>\n",
       "      <td>Jun</td>\n",
       "      <td>1920</td>\n",
       "    </tr>\n",
       "    <tr>\n",
       "      <th>1924-12-09</th>\n",
       "      <td>UNK</td>\n",
       "      <td>11000-11099</td>\n",
       "      <td>eastex</td>\n",
       "      <td>Theft</td>\n",
       "      <td>strip business center parking lot</td>\n",
       "      <td>1.0</td>\n",
       "      <td>11.0</td>\n",
       "      <td>09</td>\n",
       "      <td>Tuesday</td>\n",
       "      <td>Dec</td>\n",
       "      <td>1924</td>\n",
       "    </tr>\n",
       "  </tbody>\n",
       "</table>\n",
       "</div>"
      ],
      "text/plain": [
       "             Beat   BlockRange    StreetName OffenseType  \\\n",
       "Date                                                       \n",
       "1914-09-08  24C60  12700-12799  lake houston    Burglary   \n",
       "1914-11-02  18F60    8800-8899      bellaire    Burglary   \n",
       "1914-12-03  12D20  12800-12899          gulf  Auto Theft   \n",
       "1920-06-28  17E40  12100-12199    fairmeadow       Theft   \n",
       "1924-12-09    UNK  11000-11099        eastex       Theft   \n",
       "\n",
       "                                          Premise  NumOffenses  Hour day  \\\n",
       "Date                                                                       \n",
       "1914-09-08                restaurant or cafeteria          1.0   7.0  08   \n",
       "1914-11-02  miscellaneous business (non-specific)          1.0   3.0  02   \n",
       "1914-12-03                                   none          1.0  19.0  03   \n",
       "1920-06-28                                   none          1.0  16.0  28   \n",
       "1924-12-09      strip business center parking lot          1.0  11.0  09   \n",
       "\n",
       "             weekday month  year  \n",
       "Date                              \n",
       "1914-09-08   Tuesday   Sep  1914  \n",
       "1914-11-02    Monday   Nov  1914  \n",
       "1914-12-03  Thursday   Dec  1914  \n",
       "1920-06-28    Monday   Jun  1920  \n",
       "1924-12-09   Tuesday   Dec  1924  "
      ]
     },
     "execution_count": 82,
     "metadata": {},
     "output_type": "execute_result"
    }
   ],
   "source": [
    "crime_yr.head()"
   ]
  },
  {
   "cell_type": "markdown",
   "metadata": {},
   "source": [
    "## Save"
   ]
  },
  {
   "cell_type": "code",
   "execution_count": 83,
   "metadata": {},
   "outputs": [
    {
     "name": "stdout",
     "output_type": "stream",
     "text": [
      "<class 'pandas.core.frame.DataFrame'>\n",
      "DatetimeIndex: 121746 entries, 1914-09-08 to 2019-12-25\n",
      "Data columns (total 11 columns):\n",
      "Beat           121746 non-null object\n",
      "BlockRange     121746 non-null object\n",
      "StreetName     121746 non-null object\n",
      "OffenseType    121746 non-null object\n",
      "Premise        121746 non-null object\n",
      "NumOffenses    121746 non-null float64\n",
      "Hour           121746 non-null float64\n",
      "day            121746 non-null object\n",
      "weekday        121746 non-null object\n",
      "month          121746 non-null object\n",
      "year           121746 non-null object\n",
      "dtypes: float64(2), object(9)\n",
      "memory usage: 11.1+ MB\n"
     ]
    }
   ],
   "source": [
    "crime_yr.info()"
   ]
  },
  {
   "cell_type": "code",
   "execution_count": 84,
   "metadata": {},
   "outputs": [],
   "source": [
    "crime_yr.to_csv('data/clean/crime14_clean.csv')"
   ]
  },
  {
   "cell_type": "code",
   "execution_count": 85,
   "metadata": {},
   "outputs": [
    {
     "name": "stdout",
     "output_type": "stream",
     "text": [
      "\u001b[0m\u001b[01;32mcrime10_clean.csv\u001b[0m*  \u001b[01;32mcrime12_clean.csv\u001b[0m*  \u001b[01;32mcrime14_clean.csv\u001b[0m*  \u001b[01;32mcrime16_clean.csv\u001b[0m*\r\n",
      "\u001b[01;32mcrime11_clean.csv\u001b[0m*  \u001b[01;32mcrime13_clean.csv\u001b[0m*  \u001b[01;32mcrime15_clean.csv\u001b[0m*  \u001b[01;32mcrime17_clean.csv\u001b[0m*\r\n"
     ]
    }
   ],
   "source": [
    "ls data/clean"
   ]
  },
  {
   "cell_type": "code",
   "execution_count": null,
   "metadata": {},
   "outputs": [],
   "source": []
  }
 ],
 "metadata": {
  "kernelspec": {
   "display_name": "Python 3",
   "language": "python",
   "name": "python3"
  },
  "language_info": {
   "codemirror_mode": {
    "name": "ipython",
    "version": 3
   },
   "file_extension": ".py",
   "mimetype": "text/x-python",
   "name": "python",
   "nbconvert_exporter": "python",
   "pygments_lexer": "ipython3",
   "version": "3.6.4"
  }
 },
 "nbformat": 4,
 "nbformat_minor": 2
}
