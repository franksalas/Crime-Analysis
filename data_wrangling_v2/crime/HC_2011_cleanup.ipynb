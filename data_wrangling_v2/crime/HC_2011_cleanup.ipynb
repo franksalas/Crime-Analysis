{
 "cells": [
  {
   "cell_type": "markdown",
   "metadata": {},
   "source": [
    "# Crime data from 2011\n",
    "\n",
    "http://www.houstontx.gov/police/cs/crime-stats-archives.htm"
   ]
  },
  {
   "cell_type": "code",
   "execution_count": 1,
   "metadata": {},
   "outputs": [],
   "source": [
    "import pandas as pd\n",
    "import glob, os\n",
    "import numpy as np\n",
    "import matplotlib.pyplot as plt\n",
    "import datetime  as dt\n",
    "import seaborn as sns\n",
    "\n",
    "import warnings\n",
    "warnings.filterwarnings('ignore')"
   ]
  },
  {
   "cell_type": "code",
   "execution_count": 2,
   "metadata": {},
   "outputs": [
    {
     "name": "stdout",
     "output_type": "stream",
     "text": [
      "\u001b[0m\u001b[01;32mapr11.xls\u001b[0m*  \u001b[01;32mdec11.xls\u001b[0m*  \u001b[01;32mjan11.xls\u001b[0m*  \u001b[01;32mjun11.xls\u001b[0m*  \u001b[01;32mmay11.xls\u001b[0m*  \u001b[01;32moct11.xls\u001b[0m*\r\n",
      "\u001b[01;32maug11.xls\u001b[0m*  \u001b[01;32mfeb11.xls\u001b[0m*  \u001b[01;32mjul11.xls\u001b[0m*  \u001b[01;32mmar11.xls\u001b[0m*  \u001b[01;32mnov11.xls\u001b[0m*  \u001b[01;32msep11.xls\u001b[0m*\r\n"
     ]
    }
   ],
   "source": [
    "ls data/2011"
   ]
  },
  {
   "cell_type": "code",
   "execution_count": 3,
   "metadata": {},
   "outputs": [],
   "source": [
    "path = 'data/2011'"
   ]
  },
  {
   "cell_type": "code",
   "execution_count": 4,
   "metadata": {},
   "outputs": [],
   "source": [
    "# combine all files into one df\n",
    "all_files = glob.glob(os.path.join(path, \"*.xls\")) \n",
    "df_from_each_file = (pd.read_excel(f) for f in all_files)\n",
    "df   = pd.concat(df_from_each_file, ignore_index=True)"
   ]
  },
  {
   "cell_type": "code",
   "execution_count": 5,
   "metadata": {},
   "outputs": [
    {
     "data": {
      "text/html": [
       "<div>\n",
       "<style scoped>\n",
       "    .dataframe tbody tr th:only-of-type {\n",
       "        vertical-align: middle;\n",
       "    }\n",
       "\n",
       "    .dataframe tbody tr th {\n",
       "        vertical-align: top;\n",
       "    }\n",
       "\n",
       "    .dataframe thead th {\n",
       "        text-align: right;\n",
       "    }\n",
       "</style>\n",
       "<table border=\"1\" class=\"dataframe\">\n",
       "  <thead>\n",
       "    <tr style=\"text-align: right;\">\n",
       "      <th></th>\n",
       "      <th>Date</th>\n",
       "      <th>Hour</th>\n",
       "      <th>Offense Type</th>\n",
       "      <th>Beat</th>\n",
       "      <th>Premise</th>\n",
       "      <th>Block Range</th>\n",
       "      <th>Street Name</th>\n",
       "      <th>Type</th>\n",
       "      <th>Suffix</th>\n",
       "      <th># Of Offenses</th>\n",
       "    </tr>\n",
       "  </thead>\n",
       "  <tbody>\n",
       "    <tr>\n",
       "      <th>0</th>\n",
       "      <td>2011-04-13</td>\n",
       "      <td>1</td>\n",
       "      <td>Murder</td>\n",
       "      <td>17E40</td>\n",
       "      <td>20A</td>\n",
       "      <td>6400-6499</td>\n",
       "      <td>BANKSIDE</td>\n",
       "      <td>DR</td>\n",
       "      <td>-</td>\n",
       "      <td>1</td>\n",
       "    </tr>\n",
       "    <tr>\n",
       "      <th>1</th>\n",
       "      <td>2011-04-06</td>\n",
       "      <td>14</td>\n",
       "      <td>Murder</td>\n",
       "      <td>20G30</td>\n",
       "      <td>20A</td>\n",
       "      <td>2900-2999</td>\n",
       "      <td>HAYES</td>\n",
       "      <td>RD</td>\n",
       "      <td>-</td>\n",
       "      <td>1</td>\n",
       "    </tr>\n",
       "    <tr>\n",
       "      <th>2</th>\n",
       "      <td>2011-01-10</td>\n",
       "      <td>19</td>\n",
       "      <td>Murder</td>\n",
       "      <td>13D20</td>\n",
       "      <td>20R</td>\n",
       "      <td>8400-8499</td>\n",
       "      <td>GLENSCOT</td>\n",
       "      <td>-</td>\n",
       "      <td>-</td>\n",
       "      <td>1</td>\n",
       "    </tr>\n",
       "    <tr>\n",
       "      <th>3</th>\n",
       "      <td>2011-04-03</td>\n",
       "      <td>23</td>\n",
       "      <td>Murder</td>\n",
       "      <td>19G50</td>\n",
       "      <td>18N</td>\n",
       "      <td>10700-10799</td>\n",
       "      <td>BELLFORT</td>\n",
       "      <td>ST</td>\n",
       "      <td>W</td>\n",
       "      <td>1</td>\n",
       "    </tr>\n",
       "    <tr>\n",
       "      <th>4</th>\n",
       "      <td>2011-04-17</td>\n",
       "      <td>23</td>\n",
       "      <td>Murder</td>\n",
       "      <td>11H20</td>\n",
       "      <td>20A</td>\n",
       "      <td>2500-2599</td>\n",
       "      <td>BROADWAY</td>\n",
       "      <td>ST</td>\n",
       "      <td>-</td>\n",
       "      <td>1</td>\n",
       "    </tr>\n",
       "  </tbody>\n",
       "</table>\n",
       "</div>"
      ],
      "text/plain": [
       "        Date  Hour Offense Type   Beat Premise  Block Range Street Name Type  \\\n",
       "0 2011-04-13     1       Murder  17E40     20A    6400-6499    BANKSIDE   DR   \n",
       "1 2011-04-06    14       Murder  20G30     20A    2900-2999       HAYES   RD   \n",
       "2 2011-01-10    19       Murder  13D20     20R    8400-8499    GLENSCOT    -   \n",
       "3 2011-04-03    23       Murder  19G50     18N  10700-10799    BELLFORT   ST   \n",
       "4 2011-04-17    23       Murder  11H20     20A    2500-2599    BROADWAY   ST   \n",
       "\n",
       "  Suffix  # Of Offenses  \n",
       "0      -              1  \n",
       "1      -              1  \n",
       "2      -              1  \n",
       "3      W              1  \n",
       "4      -              1  "
      ]
     },
     "execution_count": 5,
     "metadata": {},
     "output_type": "execute_result"
    }
   ],
   "source": [
    "df.head()"
   ]
  },
  {
   "cell_type": "code",
   "execution_count": 6,
   "metadata": {},
   "outputs": [
    {
     "data": {
      "text/html": [
       "<div>\n",
       "<style scoped>\n",
       "    .dataframe tbody tr th:only-of-type {\n",
       "        vertical-align: middle;\n",
       "    }\n",
       "\n",
       "    .dataframe tbody tr th {\n",
       "        vertical-align: top;\n",
       "    }\n",
       "\n",
       "    .dataframe thead th {\n",
       "        text-align: right;\n",
       "    }\n",
       "</style>\n",
       "<table border=\"1\" class=\"dataframe\">\n",
       "  <thead>\n",
       "    <tr style=\"text-align: right;\">\n",
       "      <th></th>\n",
       "      <th>Premise Type</th>\n",
       "      <th>Premise Description</th>\n",
       "    </tr>\n",
       "  </thead>\n",
       "  <tbody>\n",
       "    <tr>\n",
       "      <th>0</th>\n",
       "      <td>01A</td>\n",
       "      <td>AIRPORT TERMINAL</td>\n",
       "    </tr>\n",
       "    <tr>\n",
       "      <th>1</th>\n",
       "      <td>01B</td>\n",
       "      <td>BUS STATION</td>\n",
       "    </tr>\n",
       "    <tr>\n",
       "      <th>2</th>\n",
       "      <td>01K</td>\n",
       "      <td>RAILROAD TRACK/RIGHT OF WAY</td>\n",
       "    </tr>\n",
       "    <tr>\n",
       "      <th>3</th>\n",
       "      <td>01P</td>\n",
       "      <td>PARK &amp; RIDE TERMINAL</td>\n",
       "    </tr>\n",
       "    <tr>\n",
       "      <th>4</th>\n",
       "      <td>01R</td>\n",
       "      <td>LIGHT RAIL VEHICLE</td>\n",
       "    </tr>\n",
       "  </tbody>\n",
       "</table>\n",
       "</div>"
      ],
      "text/plain": [
       "  Premise Type          Premise Description\n",
       "0          01A             AIRPORT TERMINAL\n",
       "1          01B                  BUS STATION\n",
       "2          01K  RAILROAD TRACK/RIGHT OF WAY\n",
       "3          01P         PARK & RIDE TERMINAL\n",
       "4          01R           LIGHT RAIL VEHICLE"
      ]
     },
     "execution_count": 6,
     "metadata": {},
     "output_type": "execute_result"
    }
   ],
   "source": [
    "# get premise codes\n",
    "\n",
    "pc = pd.read_csv('data/premise_codes.csv')\n",
    "pc.head()"
   ]
  },
  {
   "cell_type": "code",
   "execution_count": 7,
   "metadata": {},
   "outputs": [
    {
     "data": {
      "text/html": [
       "<div>\n",
       "<style scoped>\n",
       "    .dataframe tbody tr th:only-of-type {\n",
       "        vertical-align: middle;\n",
       "    }\n",
       "\n",
       "    .dataframe tbody tr th {\n",
       "        vertical-align: top;\n",
       "    }\n",
       "\n",
       "    .dataframe thead th {\n",
       "        text-align: right;\n",
       "    }\n",
       "</style>\n",
       "<table border=\"1\" class=\"dataframe\">\n",
       "  <thead>\n",
       "    <tr style=\"text-align: right;\">\n",
       "      <th></th>\n",
       "      <th>Premise</th>\n",
       "      <th>Premise Description</th>\n",
       "    </tr>\n",
       "  </thead>\n",
       "  <tbody>\n",
       "    <tr>\n",
       "      <th>0</th>\n",
       "      <td>01A</td>\n",
       "      <td>AIRPORT TERMINAL</td>\n",
       "    </tr>\n",
       "    <tr>\n",
       "      <th>1</th>\n",
       "      <td>01B</td>\n",
       "      <td>BUS STATION</td>\n",
       "    </tr>\n",
       "    <tr>\n",
       "      <th>2</th>\n",
       "      <td>01K</td>\n",
       "      <td>RAILROAD TRACK/RIGHT OF WAY</td>\n",
       "    </tr>\n",
       "    <tr>\n",
       "      <th>3</th>\n",
       "      <td>01P</td>\n",
       "      <td>PARK &amp; RIDE TERMINAL</td>\n",
       "    </tr>\n",
       "    <tr>\n",
       "      <th>4</th>\n",
       "      <td>01R</td>\n",
       "      <td>LIGHT RAIL VEHICLE</td>\n",
       "    </tr>\n",
       "  </tbody>\n",
       "</table>\n",
       "</div>"
      ],
      "text/plain": [
       "  Premise          Premise Description\n",
       "0     01A             AIRPORT TERMINAL\n",
       "1     01B                  BUS STATION\n",
       "2     01K  RAILROAD TRACK/RIGHT OF WAY\n",
       "3     01P         PARK & RIDE TERMINAL\n",
       "4     01R           LIGHT RAIL VEHICLE"
      ]
     },
     "execution_count": 7,
     "metadata": {},
     "output_type": "execute_result"
    }
   ],
   "source": [
    "# rename premise column for easy merge\n",
    "pc.rename(columns={'Premise Type': 'Premise',}, inplace=True)\n",
    "pc.head()"
   ]
  },
  {
   "cell_type": "markdown",
   "metadata": {},
   "source": [
    "## Check for missing values"
   ]
  },
  {
   "cell_type": "code",
   "execution_count": 8,
   "metadata": {},
   "outputs": [
    {
     "data": {
      "text/plain": [
       "Date             0\n",
       "Hour             0\n",
       "Offense Type     0\n",
       "Beat             0\n",
       "Premise          0\n",
       "Block Range      0\n",
       "Street Name      0\n",
       "Type             0\n",
       "Suffix           0\n",
       "# Of Offenses    0\n",
       "dtype: int64"
      ]
     },
     "execution_count": 8,
     "metadata": {},
     "output_type": "execute_result"
    }
   ],
   "source": [
    "df.apply(lambda x: sum(x.isnull()))"
   ]
  },
  {
   "cell_type": "code",
   "execution_count": 9,
   "metadata": {},
   "outputs": [
    {
     "data": {
      "image/png": "[encoded data removed]",
      "text/plain": [
       "<Figure size 432x288 with 1 Axes>"
      ]
     },
     "metadata": {},
     "output_type": "display_data"
    }
   ],
   "source": [
    "sns.heatmap(df.isnull(),yticklabels=False,cbar=False,cmap='viridis')\n",
    "plt.title('Null dataset display')\n",
    "plt.show()"
   ]
  },
  {
   "cell_type": "markdown",
   "metadata": {},
   "source": [
    "## Cleanup\n",
    "\n",
    "- joining similar columns\n",
    "- renaming"
   ]
  },
  {
   "cell_type": "code",
   "execution_count": 10,
   "metadata": {},
   "outputs": [
    {
     "name": "stdout",
     "output_type": "stream",
     "text": [
      "<class 'pandas.core.frame.DataFrame'>\n",
      "RangeIndex: 127659 entries, 0 to 127658\n",
      "Data columns (total 10 columns):\n",
      "Date           127659 non-null datetime64[ns]\n",
      "Hour           127659 non-null int64\n",
      "OffenseType    127659 non-null object\n",
      "Beat           127659 non-null object\n",
      "Premise        127659 non-null object\n",
      "BlockRange     127659 non-null object\n",
      "StreetName     127659 non-null object\n",
      "Type           127659 non-null object\n",
      "Suffix         127659 non-null object\n",
      "NumOffenses    127659 non-null int64\n",
      "dtypes: datetime64[ns](1), int64(2), object(7)\n",
      "memory usage: 9.7+ MB\n"
     ]
    }
   ],
   "source": [
    "df.rename(columns={\n",
    "    '# Of Offenses': 'NumOffenses',\n",
    "     'Offense Type': 'OffenseType',\n",
    "    'Block Range': 'BlockRange',\n",
    "    'Street Name': 'StreetName'\n",
    "}, inplace=True)\n",
    "df.info()"
   ]
  },
  {
   "cell_type": "code",
   "execution_count": 11,
   "metadata": {},
   "outputs": [
    {
     "data": {
      "text/plain": [
       "Date           0\n",
       "Hour           0\n",
       "OffenseType    0\n",
       "Beat           0\n",
       "Premise        0\n",
       "BlockRange     0\n",
       "StreetName     0\n",
       "Type           0\n",
       "Suffix         0\n",
       "NumOffenses    0\n",
       "dtype: int64"
      ]
     },
     "execution_count": 11,
     "metadata": {},
     "output_type": "execute_result"
    }
   ],
   "source": [
    "df.apply(lambda x: sum(x.isnull()))"
   ]
  },
  {
   "cell_type": "markdown",
   "metadata": {},
   "source": [
    "## Subset dataframe to work on "
   ]
  },
  {
   "cell_type": "code",
   "execution_count": 12,
   "metadata": {},
   "outputs": [
    {
     "name": "stdout",
     "output_type": "stream",
     "text": [
      "<class 'pandas.core.frame.DataFrame'>\n",
      "RangeIndex: 127659 entries, 0 to 127658\n",
      "Data columns (total 8 columns):\n",
      "Date           127659 non-null datetime64[ns]\n",
      "Beat           127659 non-null object\n",
      "BlockRange     127659 non-null object\n",
      "StreetName     127659 non-null object\n",
      "OffenseType    127659 non-null object\n",
      "Premise        127659 non-null object\n",
      "NumOffenses    127659 non-null int64\n",
      "Hour           127659 non-null int64\n",
      "dtypes: datetime64[ns](1), int64(2), object(5)\n",
      "memory usage: 7.8+ MB\n"
     ]
    }
   ],
   "source": [
    "crimes = df[['Date','Beat','BlockRange','StreetName','OffenseType','Premise','NumOffenses','Hour']]\n",
    "crimes.info()"
   ]
  },
  {
   "cell_type": "code",
   "execution_count": 13,
   "metadata": {},
   "outputs": [
    {
     "data": {
      "image/png": "[encoded data removed]",
      "text/plain": [
       "<Figure size 432x288 with 1 Axes>"
      ]
     },
     "metadata": {},
     "output_type": "display_data"
    }
   ],
   "source": [
    "sns.heatmap(crimes.isnull(),yticklabels=False,cbar=False,cmap='viridis')\n",
    "plt.title('Null dataset display')\n",
    "plt.show()"
   ]
  },
  {
   "cell_type": "markdown",
   "metadata": {},
   "source": [
    "## Join datafames\n",
    " join premise df with crime to extract num values"
   ]
  },
  {
   "cell_type": "code",
   "execution_count": 14,
   "metadata": {},
   "outputs": [
    {
     "data": {
      "text/plain": [
       "20A    17514\n",
       "20R    17271\n",
       "18A    13946\n",
       "13R     8758\n",
       "20D     7690\n",
       "080     6573\n",
       "18O     6104\n",
       "250     4686\n",
       "18R     3785\n",
       "18P     3557\n",
       "Name: Premise, dtype: int64"
      ]
     },
     "execution_count": 14,
     "metadata": {},
     "output_type": "execute_result"
    }
   ],
   "source": [
    "crimes.Premise.value_counts(dropna=False)[:10]"
   ]
  },
  {
   "cell_type": "code",
   "execution_count": 15,
   "metadata": {},
   "outputs": [
    {
     "name": "stdout",
     "output_type": "stream",
     "text": [
      "<class 'pandas.core.frame.DataFrame'>\n",
      "Int64Index: 127662 entries, 0 to 127661\n",
      "Data columns (total 9 columns):\n",
      "Date                   127659 non-null datetime64[ns]\n",
      "Beat                   127659 non-null object\n",
      "BlockRange             127659 non-null object\n",
      "StreetName             127659 non-null object\n",
      "OffenseType            127659 non-null object\n",
      "Premise                127662 non-null object\n",
      "NumOffenses            127659 non-null float64\n",
      "Hour                   127659 non-null float64\n",
      "Premise Description    127574 non-null object\n",
      "dtypes: datetime64[ns](1), float64(2), object(6)\n",
      "memory usage: 9.7+ MB\n"
     ]
    }
   ],
   "source": [
    "# join two datarames\n",
    "crimes = pd.merge(crimes, pc, on='Premise', how='outer')\n",
    "crimes.info()"
   ]
  },
  {
   "cell_type": "code",
   "execution_count": 16,
   "metadata": {},
   "outputs": [
    {
     "data": {
      "text/html": [
       "<div>\n",
       "<style scoped>\n",
       "    .dataframe tbody tr th:only-of-type {\n",
       "        vertical-align: middle;\n",
       "    }\n",
       "\n",
       "    .dataframe tbody tr th {\n",
       "        vertical-align: top;\n",
       "    }\n",
       "\n",
       "    .dataframe thead th {\n",
       "        text-align: right;\n",
       "    }\n",
       "</style>\n",
       "<table border=\"1\" class=\"dataframe\">\n",
       "  <thead>\n",
       "    <tr style=\"text-align: right;\">\n",
       "      <th></th>\n",
       "      <th>Premise</th>\n",
       "      <th>Premise Description</th>\n",
       "    </tr>\n",
       "  </thead>\n",
       "  <tbody>\n",
       "    <tr>\n",
       "      <th>0</th>\n",
       "      <td>20A</td>\n",
       "      <td>APARTMENT</td>\n",
       "    </tr>\n",
       "    <tr>\n",
       "      <th>1</th>\n",
       "      <td>20A</td>\n",
       "      <td>APARTMENT</td>\n",
       "    </tr>\n",
       "    <tr>\n",
       "      <th>2</th>\n",
       "      <td>20A</td>\n",
       "      <td>APARTMENT</td>\n",
       "    </tr>\n",
       "    <tr>\n",
       "      <th>3</th>\n",
       "      <td>20A</td>\n",
       "      <td>APARTMENT</td>\n",
       "    </tr>\n",
       "    <tr>\n",
       "      <th>4</th>\n",
       "      <td>20A</td>\n",
       "      <td>APARTMENT</td>\n",
       "    </tr>\n",
       "    <tr>\n",
       "      <th>5</th>\n",
       "      <td>20A</td>\n",
       "      <td>APARTMENT</td>\n",
       "    </tr>\n",
       "    <tr>\n",
       "      <th>6</th>\n",
       "      <td>20A</td>\n",
       "      <td>APARTMENT</td>\n",
       "    </tr>\n",
       "    <tr>\n",
       "      <th>7</th>\n",
       "      <td>20A</td>\n",
       "      <td>APARTMENT</td>\n",
       "    </tr>\n",
       "    <tr>\n",
       "      <th>8</th>\n",
       "      <td>20A</td>\n",
       "      <td>APARTMENT</td>\n",
       "    </tr>\n",
       "    <tr>\n",
       "      <th>9</th>\n",
       "      <td>20A</td>\n",
       "      <td>APARTMENT</td>\n",
       "    </tr>\n",
       "    <tr>\n",
       "      <th>10</th>\n",
       "      <td>20A</td>\n",
       "      <td>APARTMENT</td>\n",
       "    </tr>\n",
       "    <tr>\n",
       "      <th>11</th>\n",
       "      <td>20A</td>\n",
       "      <td>APARTMENT</td>\n",
       "    </tr>\n",
       "    <tr>\n",
       "      <th>12</th>\n",
       "      <td>20A</td>\n",
       "      <td>APARTMENT</td>\n",
       "    </tr>\n",
       "    <tr>\n",
       "      <th>13</th>\n",
       "      <td>20A</td>\n",
       "      <td>APARTMENT</td>\n",
       "    </tr>\n",
       "    <tr>\n",
       "      <th>14</th>\n",
       "      <td>20A</td>\n",
       "      <td>APARTMENT</td>\n",
       "    </tr>\n",
       "    <tr>\n",
       "      <th>15</th>\n",
       "      <td>20A</td>\n",
       "      <td>APARTMENT</td>\n",
       "    </tr>\n",
       "    <tr>\n",
       "      <th>16</th>\n",
       "      <td>20A</td>\n",
       "      <td>APARTMENT</td>\n",
       "    </tr>\n",
       "    <tr>\n",
       "      <th>17</th>\n",
       "      <td>20A</td>\n",
       "      <td>APARTMENT</td>\n",
       "    </tr>\n",
       "    <tr>\n",
       "      <th>18</th>\n",
       "      <td>20A</td>\n",
       "      <td>APARTMENT</td>\n",
       "    </tr>\n",
       "    <tr>\n",
       "      <th>19</th>\n",
       "      <td>20A</td>\n",
       "      <td>APARTMENT</td>\n",
       "    </tr>\n",
       "  </tbody>\n",
       "</table>\n",
       "</div>"
      ],
      "text/plain": [
       "   Premise Premise Description\n",
       "0      20A           APARTMENT\n",
       "1      20A           APARTMENT\n",
       "2      20A           APARTMENT\n",
       "3      20A           APARTMENT\n",
       "4      20A           APARTMENT\n",
       "5      20A           APARTMENT\n",
       "6      20A           APARTMENT\n",
       "7      20A           APARTMENT\n",
       "8      20A           APARTMENT\n",
       "9      20A           APARTMENT\n",
       "10     20A           APARTMENT\n",
       "11     20A           APARTMENT\n",
       "12     20A           APARTMENT\n",
       "13     20A           APARTMENT\n",
       "14     20A           APARTMENT\n",
       "15     20A           APARTMENT\n",
       "16     20A           APARTMENT\n",
       "17     20A           APARTMENT\n",
       "18     20A           APARTMENT\n",
       "19     20A           APARTMENT"
      ]
     },
     "execution_count": 16,
     "metadata": {},
     "output_type": "execute_result"
    }
   ],
   "source": [
    "crimes[['Premise', 'Premise Description']].head(20)"
   ]
  },
  {
   "cell_type": "code",
   "execution_count": 17,
   "metadata": {},
   "outputs": [
    {
     "data": {
      "text/html": [
       "<div>\n",
       "<style scoped>\n",
       "    .dataframe tbody tr th:only-of-type {\n",
       "        vertical-align: middle;\n",
       "    }\n",
       "\n",
       "    .dataframe tbody tr th {\n",
       "        vertical-align: top;\n",
       "    }\n",
       "\n",
       "    .dataframe thead th {\n",
       "        text-align: right;\n",
       "    }\n",
       "</style>\n",
       "<table border=\"1\" class=\"dataframe\">\n",
       "  <thead>\n",
       "    <tr style=\"text-align: right;\">\n",
       "      <th></th>\n",
       "      <th>Date</th>\n",
       "      <th>Beat</th>\n",
       "      <th>BlockRange</th>\n",
       "      <th>StreetName</th>\n",
       "      <th>OffenseType</th>\n",
       "      <th>Premise</th>\n",
       "      <th>NumOffenses</th>\n",
       "      <th>Hour</th>\n",
       "      <th>Premise Description</th>\n",
       "    </tr>\n",
       "  </thead>\n",
       "  <tbody>\n",
       "    <tr>\n",
       "      <th>0</th>\n",
       "      <td>2011-04-13</td>\n",
       "      <td>17E40</td>\n",
       "      <td>6400-6499</td>\n",
       "      <td>BANKSIDE</td>\n",
       "      <td>Murder</td>\n",
       "      <td>20A</td>\n",
       "      <td>1.0</td>\n",
       "      <td>1.0</td>\n",
       "      <td>APARTMENT</td>\n",
       "    </tr>\n",
       "    <tr>\n",
       "      <th>1</th>\n",
       "      <td>2011-04-06</td>\n",
       "      <td>20G30</td>\n",
       "      <td>2900-2999</td>\n",
       "      <td>HAYES</td>\n",
       "      <td>Murder</td>\n",
       "      <td>20A</td>\n",
       "      <td>1.0</td>\n",
       "      <td>14.0</td>\n",
       "      <td>APARTMENT</td>\n",
       "    </tr>\n",
       "    <tr>\n",
       "      <th>2</th>\n",
       "      <td>2011-04-17</td>\n",
       "      <td>11H20</td>\n",
       "      <td>2500-2599</td>\n",
       "      <td>BROADWAY</td>\n",
       "      <td>Murder</td>\n",
       "      <td>20A</td>\n",
       "      <td>1.0</td>\n",
       "      <td>23.0</td>\n",
       "      <td>APARTMENT</td>\n",
       "    </tr>\n",
       "    <tr>\n",
       "      <th>3</th>\n",
       "      <td>2011-04-21</td>\n",
       "      <td>17E10</td>\n",
       "      <td>5900-5999</td>\n",
       "      <td>BELLAIRE</td>\n",
       "      <td>Rape</td>\n",
       "      <td>20A</td>\n",
       "      <td>1.0</td>\n",
       "      <td>15.0</td>\n",
       "      <td>APARTMENT</td>\n",
       "    </tr>\n",
       "    <tr>\n",
       "      <th>4</th>\n",
       "      <td>2011-04-10</td>\n",
       "      <td>17E40</td>\n",
       "      <td>12500-12599</td>\n",
       "      <td>DUNLAP</td>\n",
       "      <td>Rape</td>\n",
       "      <td>20A</td>\n",
       "      <td>1.0</td>\n",
       "      <td>20.0</td>\n",
       "      <td>APARTMENT</td>\n",
       "    </tr>\n",
       "  </tbody>\n",
       "</table>\n",
       "</div>"
      ],
      "text/plain": [
       "        Date   Beat   BlockRange StreetName OffenseType Premise  NumOffenses  \\\n",
       "0 2011-04-13  17E40    6400-6499   BANKSIDE      Murder     20A          1.0   \n",
       "1 2011-04-06  20G30    2900-2999      HAYES      Murder     20A          1.0   \n",
       "2 2011-04-17  11H20    2500-2599   BROADWAY      Murder     20A          1.0   \n",
       "3 2011-04-21  17E10    5900-5999   BELLAIRE        Rape     20A          1.0   \n",
       "4 2011-04-10  17E40  12500-12599     DUNLAP        Rape     20A          1.0   \n",
       "\n",
       "   Hour Premise Description  \n",
       "0   1.0           APARTMENT  \n",
       "1  14.0           APARTMENT  \n",
       "2  23.0           APARTMENT  \n",
       "3  15.0           APARTMENT  \n",
       "4  20.0           APARTMENT  "
      ]
     },
     "execution_count": 17,
     "metadata": {},
     "output_type": "execute_result"
    }
   ],
   "source": [
    "crimes.head()"
   ]
  },
  {
   "cell_type": "code",
   "execution_count": 18,
   "metadata": {},
   "outputs": [
    {
     "data": {
      "text/plain": [
       "Date                    3\n",
       "Beat                    3\n",
       "BlockRange              3\n",
       "StreetName              3\n",
       "OffenseType             3\n",
       "Premise                 0\n",
       "NumOffenses             3\n",
       "Hour                    3\n",
       "Premise Description    88\n",
       "dtype: int64"
      ]
     },
     "execution_count": 18,
     "metadata": {},
     "output_type": "execute_result"
    }
   ],
   "source": [
    "crimes.apply(lambda x: sum(x.isnull()))"
   ]
  },
  {
   "cell_type": "code",
   "execution_count": 19,
   "metadata": {},
   "outputs": [
    {
     "data": {
      "image/png": "[encoded data removed]",
      "text/plain": [
       "<Figure size 432x288 with 1 Axes>"
      ]
     },
     "metadata": {},
     "output_type": "display_data"
    }
   ],
   "source": [
    "sns.heatmap(crimes.isnull(),yticklabels=False,cbar=False,cmap='viridis')\n",
    "plt.title('Null dataset display')\n",
    "plt.show()"
   ]
  },
  {
   "cell_type": "code",
   "execution_count": 20,
   "metadata": {},
   "outputs": [
    {
     "data": {
      "text/html": [
       "<div>\n",
       "<style scoped>\n",
       "    .dataframe tbody tr th:only-of-type {\n",
       "        vertical-align: middle;\n",
       "    }\n",
       "\n",
       "    .dataframe tbody tr th {\n",
       "        vertical-align: top;\n",
       "    }\n",
       "\n",
       "    .dataframe thead th {\n",
       "        text-align: right;\n",
       "    }\n",
       "</style>\n",
       "<table border=\"1\" class=\"dataframe\">\n",
       "  <thead>\n",
       "    <tr style=\"text-align: right;\">\n",
       "      <th></th>\n",
       "      <th>Date</th>\n",
       "      <th>Beat</th>\n",
       "      <th>BlockRange</th>\n",
       "      <th>StreetName</th>\n",
       "      <th>OffenseType</th>\n",
       "      <th>Premise</th>\n",
       "      <th>NumOffenses</th>\n",
       "      <th>Hour</th>\n",
       "      <th>Premise Description</th>\n",
       "    </tr>\n",
       "  </thead>\n",
       "  <tbody>\n",
       "    <tr>\n",
       "      <th>126699</th>\n",
       "      <td>2011-04-20</td>\n",
       "      <td>19G10</td>\n",
       "      <td>10800-10899</td>\n",
       "      <td>BEECHNUT</td>\n",
       "      <td>Auto Theft</td>\n",
       "      <td>---</td>\n",
       "      <td>1.0</td>\n",
       "      <td>18.0</td>\n",
       "      <td>NaN</td>\n",
       "    </tr>\n",
       "    <tr>\n",
       "      <th>126700</th>\n",
       "      <td>2011-04-15</td>\n",
       "      <td>20G30</td>\n",
       "      <td>10400-10499</td>\n",
       "      <td>RICHMOND</td>\n",
       "      <td>Theft</td>\n",
       "      <td>---</td>\n",
       "      <td>1.0</td>\n",
       "      <td>11.0</td>\n",
       "      <td>NaN</td>\n",
       "    </tr>\n",
       "    <tr>\n",
       "      <th>126701</th>\n",
       "      <td>2011-05-07</td>\n",
       "      <td>1A10</td>\n",
       "      <td>1200-1299</td>\n",
       "      <td>TRAVIS</td>\n",
       "      <td>Rape</td>\n",
       "      <td>---</td>\n",
       "      <td>1.0</td>\n",
       "      <td>15.0</td>\n",
       "      <td>NaN</td>\n",
       "    </tr>\n",
       "    <tr>\n",
       "      <th>126702</th>\n",
       "      <td>2011-05-01</td>\n",
       "      <td>20G10</td>\n",
       "      <td>9900-9999</td>\n",
       "      <td>RICHMOND</td>\n",
       "      <td>Theft</td>\n",
       "      <td>---</td>\n",
       "      <td>1.0</td>\n",
       "      <td>0.0</td>\n",
       "      <td>NaN</td>\n",
       "    </tr>\n",
       "    <tr>\n",
       "      <th>126703</th>\n",
       "      <td>2011-08-15</td>\n",
       "      <td>19G10</td>\n",
       "      <td>6800-6899</td>\n",
       "      <td>WEST SAM HOUSTON</td>\n",
       "      <td>Theft</td>\n",
       "      <td>---</td>\n",
       "      <td>1.0</td>\n",
       "      <td>19.0</td>\n",
       "      <td>NaN</td>\n",
       "    </tr>\n",
       "  </tbody>\n",
       "</table>\n",
       "</div>"
      ],
      "text/plain": [
       "             Date   Beat   BlockRange        StreetName OffenseType Premise  \\\n",
       "126699 2011-04-20  19G10  10800-10899          BEECHNUT  Auto Theft     ---   \n",
       "126700 2011-04-15  20G30  10400-10499          RICHMOND       Theft     ---   \n",
       "126701 2011-05-07   1A10    1200-1299            TRAVIS        Rape     ---   \n",
       "126702 2011-05-01  20G10    9900-9999          RICHMOND       Theft     ---   \n",
       "126703 2011-08-15  19G10    6800-6899  WEST SAM HOUSTON       Theft     ---   \n",
       "\n",
       "        NumOffenses  Hour Premise Description  \n",
       "126699          1.0  18.0                 NaN  \n",
       "126700          1.0  11.0                 NaN  \n",
       "126701          1.0  15.0                 NaN  \n",
       "126702          1.0   0.0                 NaN  \n",
       "126703          1.0  19.0                 NaN  "
      ]
     },
     "execution_count": 20,
     "metadata": {},
     "output_type": "execute_result"
    }
   ],
   "source": [
    "crimes[crimes['Premise'] == '---'].head()"
   ]
  },
  {
   "cell_type": "code",
   "execution_count": 21,
   "metadata": {},
   "outputs": [
    {
     "data": {
      "text/plain": [
       "84"
      ]
     },
     "execution_count": 21,
     "metadata": {},
     "output_type": "execute_result"
    }
   ],
   "source": [
    "len(crimes[crimes['Premise'] == '---'])"
   ]
  },
  {
   "cell_type": "code",
   "execution_count": 22,
   "metadata": {},
   "outputs": [
    {
     "data": {
      "text/plain": [
       "1"
      ]
     },
     "execution_count": 22,
     "metadata": {},
     "output_type": "execute_result"
    }
   ],
   "source": [
    "len(crimes[crimes['Premise'] == 'N'])"
   ]
  },
  {
   "cell_type": "code",
   "execution_count": 23,
   "metadata": {},
   "outputs": [],
   "source": [
    "crimes.loc[crimes['Premise Description'].isnull(),'Premise Description'] = crimes['Premise']"
   ]
  },
  {
   "cell_type": "code",
   "execution_count": 24,
   "metadata": {},
   "outputs": [
    {
     "data": {
      "text/plain": [
       "0"
      ]
     },
     "execution_count": 24,
     "metadata": {},
     "output_type": "execute_result"
    }
   ],
   "source": [
    "len(crimes[crimes['Premise Description'].isnull()])"
   ]
  },
  {
   "cell_type": "code",
   "execution_count": 25,
   "metadata": {},
   "outputs": [
    {
     "data": {
      "image/png": "[encoded data removed]",
      "text/plain": [
       "<Figure size 432x288 with 1 Axes>"
      ]
     },
     "metadata": {},
     "output_type": "display_data"
    }
   ],
   "source": [
    "sns.heatmap(crimes.isnull(),yticklabels=False,cbar=False,cmap='viridis')\n",
    "plt.title('Nulls display')\n",
    "plt.show()"
   ]
  },
  {
   "cell_type": "code",
   "execution_count": 26,
   "metadata": {},
   "outputs": [
    {
     "data": {
      "text/plain": [
       "Date                   3\n",
       "Beat                   3\n",
       "BlockRange             3\n",
       "StreetName             3\n",
       "OffenseType            3\n",
       "Premise                0\n",
       "NumOffenses            3\n",
       "Hour                   3\n",
       "Premise Description    0\n",
       "dtype: int64"
      ]
     },
     "execution_count": 26,
     "metadata": {},
     "output_type": "execute_result"
    }
   ],
   "source": [
    "crimes.apply(lambda x: sum(x.isnull()))"
   ]
  },
  {
   "cell_type": "markdown",
   "metadata": {},
   "source": [
    "## drop rows with 2 or 3 missing values"
   ]
  },
  {
   "cell_type": "code",
   "execution_count": 27,
   "metadata": {},
   "outputs": [],
   "source": [
    "#crimes = crimes.dropna(thresh=3)\n",
    "crimes = crimes.dropna(subset=['Date'])"
   ]
  },
  {
   "cell_type": "code",
   "execution_count": 28,
   "metadata": {},
   "outputs": [
    {
     "data": {
      "text/plain": [
       "Date                   0\n",
       "Beat                   0\n",
       "BlockRange             0\n",
       "StreetName             0\n",
       "OffenseType            0\n",
       "Premise                0\n",
       "NumOffenses            0\n",
       "Hour                   0\n",
       "Premise Description    0\n",
       "dtype: int64"
      ]
     },
     "execution_count": 28,
     "metadata": {},
     "output_type": "execute_result"
    }
   ],
   "source": [
    "crimes.apply(lambda x: sum(x.isnull()))"
   ]
  },
  {
   "cell_type": "code",
   "execution_count": 29,
   "metadata": {},
   "outputs": [],
   "source": [
    "crimes = crimes.dropna(thresh=3)"
   ]
  },
  {
   "cell_type": "code",
   "execution_count": 30,
   "metadata": {},
   "outputs": [
    {
     "data": {
      "text/plain": [
       "Date                   0\n",
       "Beat                   0\n",
       "BlockRange             0\n",
       "StreetName             0\n",
       "OffenseType            0\n",
       "Premise                0\n",
       "NumOffenses            0\n",
       "Hour                   0\n",
       "Premise Description    0\n",
       "dtype: int64"
      ]
     },
     "execution_count": 30,
     "metadata": {},
     "output_type": "execute_result"
    }
   ],
   "source": [
    "crimes.apply(lambda x: sum(x.isnull()))"
   ]
  },
  {
   "cell_type": "markdown",
   "metadata": {},
   "source": [
    "# FIND NAN"
   ]
  },
  {
   "cell_type": "markdown",
   "metadata": {},
   "source": [
    "## Find NaN\n",
    "- drop if > 2 nan"
   ]
  },
  {
   "cell_type": "code",
   "execution_count": 31,
   "metadata": {},
   "outputs": [
    {
     "data": {
      "text/plain": [
       "Date                   0\n",
       "Beat                   0\n",
       "BlockRange             0\n",
       "StreetName             0\n",
       "OffenseType            0\n",
       "Premise                0\n",
       "NumOffenses            0\n",
       "Hour                   0\n",
       "Premise Description    0\n",
       "dtype: int64"
      ]
     },
     "execution_count": 31,
     "metadata": {},
     "output_type": "execute_result"
    }
   ],
   "source": [
    "crimes.apply(lambda x: sum(x.isnull()))"
   ]
  },
  {
   "cell_type": "code",
   "execution_count": 32,
   "metadata": {},
   "outputs": [
    {
     "data": {
      "text/html": [
       "<div>\n",
       "<style scoped>\n",
       "    .dataframe tbody tr th:only-of-type {\n",
       "        vertical-align: middle;\n",
       "    }\n",
       "\n",
       "    .dataframe tbody tr th {\n",
       "        vertical-align: top;\n",
       "    }\n",
       "\n",
       "    .dataframe thead th {\n",
       "        text-align: right;\n",
       "    }\n",
       "</style>\n",
       "<table border=\"1\" class=\"dataframe\">\n",
       "  <thead>\n",
       "    <tr style=\"text-align: right;\">\n",
       "      <th></th>\n",
       "      <th>Date</th>\n",
       "      <th>Beat</th>\n",
       "      <th>BlockRange</th>\n",
       "      <th>StreetName</th>\n",
       "      <th>OffenseType</th>\n",
       "      <th>Premise</th>\n",
       "      <th>NumOffenses</th>\n",
       "      <th>Hour</th>\n",
       "      <th>Premise Description</th>\n",
       "    </tr>\n",
       "  </thead>\n",
       "  <tbody>\n",
       "  </tbody>\n",
       "</table>\n",
       "</div>"
      ],
      "text/plain": [
       "Empty DataFrame\n",
       "Columns: [Date, Beat, BlockRange, StreetName, OffenseType, Premise, NumOffenses, Hour, Premise Description]\n",
       "Index: []"
      ]
     },
     "execution_count": 32,
     "metadata": {},
     "output_type": "execute_result"
    }
   ],
   "source": [
    "crimes[crimes.isnull().any(axis=1)].head()"
   ]
  },
  {
   "cell_type": "markdown",
   "metadata": {},
   "source": [
    "## Problem\n",
    "- find nan values and fix"
   ]
  },
  {
   "cell_type": "code",
   "execution_count": 33,
   "metadata": {},
   "outputs": [],
   "source": [
    "null_premise = crimes.Premise.isnull()"
   ]
  },
  {
   "cell_type": "code",
   "execution_count": 34,
   "metadata": {},
   "outputs": [],
   "source": [
    "crimes['Premise'] = crimes[\"Premise\"].fillna('none')\n",
    "crimes['Premise Description'] = crimes[\"Premise Description\"].fillna('none')"
   ]
  },
  {
   "cell_type": "code",
   "execution_count": 35,
   "metadata": {},
   "outputs": [
    {
     "data": {
      "text/plain": [
       "Date                   0\n",
       "Beat                   0\n",
       "BlockRange             0\n",
       "StreetName             0\n",
       "OffenseType            0\n",
       "Premise                0\n",
       "NumOffenses            0\n",
       "Hour                   0\n",
       "Premise Description    0\n",
       "dtype: int64"
      ]
     },
     "execution_count": 35,
     "metadata": {},
     "output_type": "execute_result"
    }
   ],
   "source": [
    "crimes.apply(lambda x: sum(x.isnull()))"
   ]
  },
  {
   "cell_type": "markdown",
   "metadata": {},
   "source": [
    "## Inspect each column"
   ]
  },
  {
   "cell_type": "code",
   "execution_count": 36,
   "metadata": {},
   "outputs": [
    {
     "data": {
      "text/plain": [
       "Date                   datetime64[ns]\n",
       "Beat                           object\n",
       "BlockRange                     object\n",
       "StreetName                     object\n",
       "OffenseType                    object\n",
       "Premise                        object\n",
       "NumOffenses                   float64\n",
       "Hour                          float64\n",
       "Premise Description            object\n",
       "dtype: object"
      ]
     },
     "execution_count": 36,
     "metadata": {},
     "output_type": "execute_result"
    }
   ],
   "source": [
    "crimes.dtypes"
   ]
  },
  {
   "cell_type": "markdown",
   "metadata": {},
   "source": [
    "## Beat column\n",
    "- total beats should be around 120"
   ]
  },
  {
   "cell_type": "code",
   "execution_count": 37,
   "metadata": {},
   "outputs": [
    {
     "data": {
      "text/plain": [
       "121"
      ]
     },
     "execution_count": 37,
     "metadata": {},
     "output_type": "execute_result"
    }
   ],
   "source": [
    "len(crimes.Beat.value_counts())"
   ]
  },
  {
   "cell_type": "code",
   "execution_count": 38,
   "metadata": {},
   "outputs": [
    {
     "data": {
      "text/plain": [
       "121"
      ]
     },
     "execution_count": 38,
     "metadata": {},
     "output_type": "execute_result"
    }
   ],
   "source": [
    "len(crimes.Beat.value_counts(dropna=False))"
   ]
  },
  {
   "cell_type": "code",
   "execution_count": 39,
   "metadata": {},
   "outputs": [
    {
     "data": {
      "text/plain": [
       "array(['17E40', '20G30', '11H20', '17E10', '2A60', '18F60', '18F20',\n",
       "       '7C20', '5F10', '18F50'], dtype=object)"
      ]
     },
     "execution_count": 39,
     "metadata": {},
     "output_type": "execute_result"
    }
   ],
   "source": [
    "crimes.Beat.unique()[:10]"
   ]
  },
  {
   "cell_type": "code",
   "execution_count": 40,
   "metadata": {},
   "outputs": [],
   "source": [
    "# replace extra ' with empty space\n",
    "crimes['Beat'] = crimes.Beat.str.replace(\"'\", \" \")"
   ]
  },
  {
   "cell_type": "code",
   "execution_count": 41,
   "metadata": {},
   "outputs": [
    {
     "data": {
      "text/plain": [
       "121"
      ]
     },
     "execution_count": 41,
     "metadata": {},
     "output_type": "execute_result"
    }
   ],
   "source": [
    "len(crimes.Beat.value_counts(dropna=False))"
   ]
  },
  {
   "cell_type": "code",
   "execution_count": 42,
   "metadata": {},
   "outputs": [],
   "source": [
    "# strip empty spaces\n",
    "crimes.Beat = crimes.Beat.str.strip()"
   ]
  },
  {
   "cell_type": "code",
   "execution_count": 43,
   "metadata": {},
   "outputs": [
    {
     "data": {
      "text/plain": [
       "121"
      ]
     },
     "execution_count": 43,
     "metadata": {},
     "output_type": "execute_result"
    }
   ],
   "source": [
    "len(crimes.Beat.value_counts(dropna=False))  # get the total"
   ]
  },
  {
   "cell_type": "code",
   "execution_count": 44,
   "metadata": {},
   "outputs": [
    {
     "data": {
      "text/plain": [
       "array(['17E40', '20G30', '11H20', '17E10', '2A60', '18F60', '18F20',\n",
       "       '7C20', '5F10', '18F50', '9C40', '6B50', '17E30', '19G10', '20G70',\n",
       "       '5F40', '11H50', '14D40', '19G50', '6B20', '17E20', '14D20',\n",
       "       '1A20', '1A50', '5F30', '19G20', '15E40', '13D20', '6B10', '11H30',\n",
       "       '6B30', '12D10', '18F40', '20G10', '12D30', '20G40', '18F30',\n",
       "       '6B60', '8C10', '10H40', '14D10', '15E30', '20G60', '3B10',\n",
       "       '10H10', '6B40', '13D10', '2A50', '5F20', '10H70', '10H60',\n",
       "       '19G30', '10H20', '24C10', '16E30', '2A10', '4F10', '12D40',\n",
       "       '10H50', '12D20', '3B30', '15E20', '19G40', '2A30', '8C20', '4F20',\n",
       "       '3B40', '11H10', '8C50', '12D70', '13D40', '1A30', '7C30', '20G80',\n",
       "       '16E20', '20G20', '7C10', '24C20', '14D50', '8C60', '15E10',\n",
       "       '18F10', '20G50', '14D30', '24C50', '8C30', '2A20', '16E10',\n",
       "       '7C50', '4F30', '12D60', '10H80', '3B50', '24C40', '7C40', '16E40',\n",
       "       '10H30', '1A40', '9C30', '12D50', '24C30', '9C20', '2A40', '1A10',\n",
       "       'UNK', '9C10', '11H40', '23J50', '8C40', '13D30', '24C60', '21I50',\n",
       "       '23J40', '21I10', '21I30', '21I60', '21I20', '21I40', '23J30',\n",
       "       '21I70', '23J20'], dtype=object)"
      ]
     },
     "execution_count": 44,
     "metadata": {},
     "output_type": "execute_result"
    }
   ],
   "source": [
    "crimes.Beat.unique()"
   ]
  },
  {
   "cell_type": "code",
   "execution_count": 45,
   "metadata": {},
   "outputs": [
    {
     "data": {
      "text/plain": [
       "19G10    3029\n",
       "12D10    2761\n",
       "6B60     2717\n",
       "3B10     2578\n",
       "13D20    2390\n",
       "Name: Beat, dtype: int64"
      ]
     },
     "execution_count": 45,
     "metadata": {},
     "output_type": "execute_result"
    }
   ],
   "source": [
    "crimes.Beat.value_counts(dropna=False).head()"
   ]
  },
  {
   "cell_type": "markdown",
   "metadata": {},
   "source": [
    "## BlockRange"
   ]
  },
  {
   "cell_type": "code",
   "execution_count": 46,
   "metadata": {},
   "outputs": [
    {
     "data": {
      "text/plain": [
       "254"
      ]
     },
     "execution_count": 46,
     "metadata": {},
     "output_type": "execute_result"
    }
   ],
   "source": [
    "len(crimes.BlockRange.value_counts(dropna=False))"
   ]
  },
  {
   "cell_type": "code",
   "execution_count": 47,
   "metadata": {},
   "outputs": [
    {
     "data": {
      "text/plain": [
       "900-999      1731\n",
       "100-199      1638\n",
       "800-899      1631\n",
       "9400-9499    1603\n",
       "700-799      1601\n",
       "Name: BlockRange, dtype: int64"
      ]
     },
     "execution_count": 47,
     "metadata": {},
     "output_type": "execute_result"
    }
   ],
   "source": [
    "crimes.BlockRange.value_counts(dropna=False).head()"
   ]
  },
  {
   "cell_type": "code",
   "execution_count": 48,
   "metadata": {},
   "outputs": [],
   "source": [
    "# strip\n",
    "crimes.BlockRange =crimes.BlockRange.str.strip()"
   ]
  },
  {
   "cell_type": "code",
   "execution_count": 49,
   "metadata": {},
   "outputs": [
    {
     "data": {
      "text/plain": [
       "254"
      ]
     },
     "execution_count": 49,
     "metadata": {},
     "output_type": "execute_result"
    }
   ],
   "source": [
    "len(crimes.BlockRange.value_counts(dropna=False))"
   ]
  },
  {
   "cell_type": "markdown",
   "metadata": {},
   "source": [
    "## StreetName"
   ]
  },
  {
   "cell_type": "code",
   "execution_count": 50,
   "metadata": {},
   "outputs": [
    {
     "name": "stdout",
     "output_type": "stream",
     "text": [
      "before:7537\n"
     ]
    }
   ],
   "source": [
    "print('before:{}'.format(len(crimes.StreetName.value_counts(dropna=False))))"
   ]
  },
  {
   "cell_type": "code",
   "execution_count": 51,
   "metadata": {},
   "outputs": [],
   "source": [
    "# remove extra spaces\n",
    "crimes.StreetName = crimes.StreetName.str.strip()\n",
    "\n",
    "\n",
    "# make all lower case\n",
    "crimes.StreetName = crimes.StreetName.str.lower()"
   ]
  },
  {
   "cell_type": "code",
   "execution_count": 52,
   "metadata": {},
   "outputs": [
    {
     "name": "stdout",
     "output_type": "stream",
     "text": [
      "after:7537\n"
     ]
    }
   ],
   "source": [
    "print('after:{}'.format(len(crimes.StreetName.value_counts(dropna=False))))"
   ]
  },
  {
   "cell_type": "code",
   "execution_count": 53,
   "metadata": {},
   "outputs": [
    {
     "name": "stdout",
     "output_type": "stream",
     "text": [
      "westheimer    3587\n",
      "gessner       1846\n",
      "gulf          1801\n",
      "north         1763\n",
      "richmond      1713\n",
      "Name: StreetName, dtype: int64\n"
     ]
    }
   ],
   "source": [
    "print(crimes.StreetName.value_counts(dropna=False).head())"
   ]
  },
  {
   "cell_type": "markdown",
   "metadata": {},
   "source": [
    "## OffenseType\n",
    "Total 7\n",
    "- Theft\n",
    "- Burlary\n",
    "- Aggravated Assalult\n",
    "- Robbery\n",
    "- Auto Theft\n",
    "- Rape\n",
    "- Murder\n"
   ]
  },
  {
   "cell_type": "code",
   "execution_count": 54,
   "metadata": {},
   "outputs": [
    {
     "name": "stdout",
     "output_type": "stream",
     "text": [
      "before:7\n"
     ]
    }
   ],
   "source": [
    "print('before:{}'.format(len(crimes.OffenseType.value_counts(dropna=False))))"
   ]
  },
  {
   "cell_type": "code",
   "execution_count": 55,
   "metadata": {},
   "outputs": [],
   "source": [
    "crimes.OffenseType = crimes.OffenseType.str.strip()"
   ]
  },
  {
   "cell_type": "code",
   "execution_count": 56,
   "metadata": {},
   "outputs": [
    {
     "name": "stdout",
     "output_type": "stream",
     "text": [
      "after:7\n"
     ]
    }
   ],
   "source": [
    "print('after:{}'.format(len(crimes.OffenseType.value_counts(dropna=False))))"
   ]
  },
  {
   "cell_type": "code",
   "execution_count": 57,
   "metadata": {},
   "outputs": [
    {
     "name": "stdout",
     "output_type": "stream",
     "text": [
      "Theft                 68596\n",
      "Burglary              27459\n",
      "Auto Theft            11893\n",
      "Aggravated Assault    10695\n",
      "Robbery                8054\n",
      "Rape                    770\n",
      "Murder                  192\n",
      "Name: OffenseType, dtype: int64\n"
     ]
    }
   ],
   "source": [
    "print(crimes.OffenseType.value_counts(dropna=False))"
   ]
  },
  {
   "cell_type": "code",
   "execution_count": 58,
   "metadata": {},
   "outputs": [],
   "source": [
    "# join Auto Theft & AutoTheft\n",
    "crimes.OffenseType = crimes.OffenseType.replace('AutoTheft','Auto Theft')"
   ]
  },
  {
   "cell_type": "markdown",
   "metadata": {},
   "source": [
    "#### fill nans with most common value"
   ]
  },
  {
   "cell_type": "code",
   "execution_count": 59,
   "metadata": {},
   "outputs": [],
   "source": [
    "crimes = crimes.fillna(crimes['OffenseType'].value_counts().index[0])"
   ]
  },
  {
   "cell_type": "code",
   "execution_count": 60,
   "metadata": {},
   "outputs": [
    {
     "name": "stdout",
     "output_type": "stream",
     "text": [
      "Theft                 68596\n",
      "Burglary              27459\n",
      "Auto Theft            11893\n",
      "Aggravated Assault    10695\n",
      "Robbery                8054\n",
      "Rape                    770\n",
      "Murder                  192\n",
      "Name: OffenseType, dtype: int64\n"
     ]
    }
   ],
   "source": [
    "print(crimes.OffenseType.value_counts(dropna=False))"
   ]
  },
  {
   "cell_type": "markdown",
   "metadata": {},
   "source": [
    "## Premise"
   ]
  },
  {
   "cell_type": "code",
   "execution_count": 61,
   "metadata": {},
   "outputs": [
    {
     "name": "stdout",
     "output_type": "stream",
     "text": [
      "before:127\n"
     ]
    }
   ],
   "source": [
    "print('before:{}'.format(len(crimes['Premise Description'].value_counts(dropna=False))))\n",
    "\n",
    "crimes['Premise Description'] = crimes['Premise Description'].str.strip()\n",
    "\n",
    "crimes['Premise Description'] = crimes['Premise Description'].str.lower()"
   ]
  },
  {
   "cell_type": "code",
   "execution_count": 62,
   "metadata": {},
   "outputs": [
    {
     "name": "stdout",
     "output_type": "stream",
     "text": [
      "after:127\n"
     ]
    }
   ],
   "source": [
    "print('after:{}'.format(len(crimes['Premise Description'].value_counts(dropna=False))))"
   ]
  },
  {
   "cell_type": "code",
   "execution_count": 63,
   "metadata": {},
   "outputs": [
    {
     "data": {
      "text/plain": [
       "apartment                17514\n",
       "residence/house          17271\n",
       "apartment parking lot    13946\n",
       "road/street/sidewalk      8758\n",
       "driveway                  7690\n",
       "Name: Premise Description, dtype: int64"
      ]
     },
     "execution_count": 63,
     "metadata": {},
     "output_type": "execute_result"
    }
   ],
   "source": [
    "crimes['Premise Description'].value_counts(dropna=False).head()"
   ]
  },
  {
   "cell_type": "markdown",
   "metadata": {},
   "source": [
    "# Date column"
   ]
  },
  {
   "cell_type": "code",
   "execution_count": 64,
   "metadata": {},
   "outputs": [
    {
     "data": {
      "text/plain": [
       "Date                   datetime64[ns]\n",
       "Beat                           object\n",
       "BlockRange                     object\n",
       "StreetName                     object\n",
       "OffenseType                    object\n",
       "Premise                        object\n",
       "NumOffenses                   float64\n",
       "Hour                          float64\n",
       "Premise Description            object\n",
       "dtype: object"
      ]
     },
     "execution_count": 64,
     "metadata": {},
     "output_type": "execute_result"
    }
   ],
   "source": [
    "crimes.dtypes"
   ]
  },
  {
   "cell_type": "markdown",
   "metadata": {},
   "source": [
    "## Date\n",
    "- make datetime index"
   ]
  },
  {
   "cell_type": "code",
   "execution_count": 65,
   "metadata": {},
   "outputs": [],
   "source": [
    "# date\n",
    "crimes.Date = pd.to_datetime(crimes.Date)\n",
    "\n",
    "crimes = crimes.set_index('Date').sort_index(ascending=True)"
   ]
  },
  {
   "cell_type": "code",
   "execution_count": 66,
   "metadata": {},
   "outputs": [
    {
     "data": {
      "text/html": [
       "<div>\n",
       "<style scoped>\n",
       "    .dataframe tbody tr th:only-of-type {\n",
       "        vertical-align: middle;\n",
       "    }\n",
       "\n",
       "    .dataframe tbody tr th {\n",
       "        vertical-align: top;\n",
       "    }\n",
       "\n",
       "    .dataframe thead th {\n",
       "        text-align: right;\n",
       "    }\n",
       "</style>\n",
       "<table border=\"1\" class=\"dataframe\">\n",
       "  <thead>\n",
       "    <tr style=\"text-align: right;\">\n",
       "      <th></th>\n",
       "      <th>Beat</th>\n",
       "      <th>BlockRange</th>\n",
       "      <th>StreetName</th>\n",
       "      <th>OffenseType</th>\n",
       "      <th>Premise</th>\n",
       "      <th>NumOffenses</th>\n",
       "      <th>Hour</th>\n",
       "      <th>Premise Description</th>\n",
       "    </tr>\n",
       "    <tr>\n",
       "      <th>Date</th>\n",
       "      <th></th>\n",
       "      <th></th>\n",
       "      <th></th>\n",
       "      <th></th>\n",
       "      <th></th>\n",
       "      <th></th>\n",
       "      <th></th>\n",
       "      <th></th>\n",
       "    </tr>\n",
       "  </thead>\n",
       "  <tbody>\n",
       "    <tr>\n",
       "      <th>1964-10-09</th>\n",
       "      <td>1A40</td>\n",
       "      <td>3700-3799</td>\n",
       "      <td>westheimer</td>\n",
       "      <td>Aggravated Assault</td>\n",
       "      <td>18O</td>\n",
       "      <td>1.0</td>\n",
       "      <td>5.0</td>\n",
       "      <td>other parking lot</td>\n",
       "    </tr>\n",
       "    <tr>\n",
       "      <th>1965-03-20</th>\n",
       "      <td>6B60</td>\n",
       "      <td>12400-12499</td>\n",
       "      <td>greenspoint</td>\n",
       "      <td>Theft</td>\n",
       "      <td>09H</td>\n",
       "      <td>1.0</td>\n",
       "      <td>23.0</td>\n",
       "      <td>hospital</td>\n",
       "    </tr>\n",
       "    <tr>\n",
       "      <th>1966-10-27</th>\n",
       "      <td>6B50</td>\n",
       "      <td>10300-10399</td>\n",
       "      <td>north</td>\n",
       "      <td>Theft</td>\n",
       "      <td>210</td>\n",
       "      <td>1.0</td>\n",
       "      <td>0.0</td>\n",
       "      <td>restaurant/cafeteria</td>\n",
       "    </tr>\n",
       "    <tr>\n",
       "      <th>1970-11-27</th>\n",
       "      <td>19G50</td>\n",
       "      <td>10200-10299</td>\n",
       "      <td>lands end</td>\n",
       "      <td>Theft</td>\n",
       "      <td>250</td>\n",
       "      <td>1.0</td>\n",
       "      <td>13.0</td>\n",
       "      <td>other/unknown</td>\n",
       "    </tr>\n",
       "    <tr>\n",
       "      <th>1971-08-16</th>\n",
       "      <td>14D20</td>\n",
       "      <td>9000-9099</td>\n",
       "      <td>brandon</td>\n",
       "      <td>Theft</td>\n",
       "      <td>20D</td>\n",
       "      <td>1.0</td>\n",
       "      <td>22.0</td>\n",
       "      <td>driveway</td>\n",
       "    </tr>\n",
       "  </tbody>\n",
       "</table>\n",
       "</div>"
      ],
      "text/plain": [
       "             Beat   BlockRange   StreetName         OffenseType Premise  \\\n",
       "Date                                                                      \n",
       "1964-10-09   1A40    3700-3799   westheimer  Aggravated Assault     18O   \n",
       "1965-03-20   6B60  12400-12499  greenspoint               Theft     09H   \n",
       "1966-10-27   6B50  10300-10399        north               Theft     210   \n",
       "1970-11-27  19G50  10200-10299    lands end               Theft     250   \n",
       "1971-08-16  14D20    9000-9099      brandon               Theft     20D   \n",
       "\n",
       "            NumOffenses  Hour   Premise Description  \n",
       "Date                                                 \n",
       "1964-10-09          1.0   5.0     other parking lot  \n",
       "1965-03-20          1.0  23.0              hospital  \n",
       "1966-10-27          1.0   0.0  restaurant/cafeteria  \n",
       "1970-11-27          1.0  13.0         other/unknown  \n",
       "1971-08-16          1.0  22.0              driveway  "
      ]
     },
     "execution_count": 66,
     "metadata": {},
     "output_type": "execute_result"
    }
   ],
   "source": [
    "crimes.head()"
   ]
  },
  {
   "cell_type": "markdown",
   "metadata": {},
   "source": [
    "## Create Columns with day,weekday,month,year from datetime index\n",
    "\n",
    "It allows us to view incorect reports by date better"
   ]
  },
  {
   "cell_type": "code",
   "execution_count": null,
   "metadata": {},
   "outputs": [],
   "source": []
  },
  {
   "cell_type": "code",
   "execution_count": 67,
   "metadata": {},
   "outputs": [],
   "source": [
    "# get day, weekday,month ,year\n",
    "\n",
    "crimes['day'] = crimes.index.strftime('%d')\n",
    "crimes['weekday'] = crimes.index.strftime('%A')\n",
    "crimes['month'] = crimes.index.strftime('%b')\n",
    "crimes['year'] = crimes.index.strftime('%Y')"
   ]
  },
  {
   "cell_type": "code",
   "execution_count": 68,
   "metadata": {},
   "outputs": [
    {
     "data": {
      "text/html": [
       "<div>\n",
       "<style scoped>\n",
       "    .dataframe tbody tr th:only-of-type {\n",
       "        vertical-align: middle;\n",
       "    }\n",
       "\n",
       "    .dataframe tbody tr th {\n",
       "        vertical-align: top;\n",
       "    }\n",
       "\n",
       "    .dataframe thead th {\n",
       "        text-align: right;\n",
       "    }\n",
       "</style>\n",
       "<table border=\"1\" class=\"dataframe\">\n",
       "  <thead>\n",
       "    <tr style=\"text-align: right;\">\n",
       "      <th></th>\n",
       "      <th>Beat</th>\n",
       "      <th>BlockRange</th>\n",
       "      <th>StreetName</th>\n",
       "      <th>OffenseType</th>\n",
       "      <th>Premise</th>\n",
       "      <th>NumOffenses</th>\n",
       "      <th>Hour</th>\n",
       "      <th>Premise Description</th>\n",
       "      <th>day</th>\n",
       "      <th>weekday</th>\n",
       "      <th>month</th>\n",
       "      <th>year</th>\n",
       "    </tr>\n",
       "    <tr>\n",
       "      <th>Date</th>\n",
       "      <th></th>\n",
       "      <th></th>\n",
       "      <th></th>\n",
       "      <th></th>\n",
       "      <th></th>\n",
       "      <th></th>\n",
       "      <th></th>\n",
       "      <th></th>\n",
       "      <th></th>\n",
       "      <th></th>\n",
       "      <th></th>\n",
       "      <th></th>\n",
       "    </tr>\n",
       "  </thead>\n",
       "  <tbody>\n",
       "    <tr>\n",
       "      <th>1964-10-09</th>\n",
       "      <td>1A40</td>\n",
       "      <td>3700-3799</td>\n",
       "      <td>westheimer</td>\n",
       "      <td>Aggravated Assault</td>\n",
       "      <td>18O</td>\n",
       "      <td>1.0</td>\n",
       "      <td>5.0</td>\n",
       "      <td>other parking lot</td>\n",
       "      <td>09</td>\n",
       "      <td>Friday</td>\n",
       "      <td>Oct</td>\n",
       "      <td>1964</td>\n",
       "    </tr>\n",
       "    <tr>\n",
       "      <th>1965-03-20</th>\n",
       "      <td>6B60</td>\n",
       "      <td>12400-12499</td>\n",
       "      <td>greenspoint</td>\n",
       "      <td>Theft</td>\n",
       "      <td>09H</td>\n",
       "      <td>1.0</td>\n",
       "      <td>23.0</td>\n",
       "      <td>hospital</td>\n",
       "      <td>20</td>\n",
       "      <td>Saturday</td>\n",
       "      <td>Mar</td>\n",
       "      <td>1965</td>\n",
       "    </tr>\n",
       "    <tr>\n",
       "      <th>1966-10-27</th>\n",
       "      <td>6B50</td>\n",
       "      <td>10300-10399</td>\n",
       "      <td>north</td>\n",
       "      <td>Theft</td>\n",
       "      <td>210</td>\n",
       "      <td>1.0</td>\n",
       "      <td>0.0</td>\n",
       "      <td>restaurant/cafeteria</td>\n",
       "      <td>27</td>\n",
       "      <td>Thursday</td>\n",
       "      <td>Oct</td>\n",
       "      <td>1966</td>\n",
       "    </tr>\n",
       "    <tr>\n",
       "      <th>1970-11-27</th>\n",
       "      <td>19G50</td>\n",
       "      <td>10200-10299</td>\n",
       "      <td>lands end</td>\n",
       "      <td>Theft</td>\n",
       "      <td>250</td>\n",
       "      <td>1.0</td>\n",
       "      <td>13.0</td>\n",
       "      <td>other/unknown</td>\n",
       "      <td>27</td>\n",
       "      <td>Friday</td>\n",
       "      <td>Nov</td>\n",
       "      <td>1970</td>\n",
       "    </tr>\n",
       "    <tr>\n",
       "      <th>1971-08-16</th>\n",
       "      <td>14D20</td>\n",
       "      <td>9000-9099</td>\n",
       "      <td>brandon</td>\n",
       "      <td>Theft</td>\n",
       "      <td>20D</td>\n",
       "      <td>1.0</td>\n",
       "      <td>22.0</td>\n",
       "      <td>driveway</td>\n",
       "      <td>16</td>\n",
       "      <td>Monday</td>\n",
       "      <td>Aug</td>\n",
       "      <td>1971</td>\n",
       "    </tr>\n",
       "  </tbody>\n",
       "</table>\n",
       "</div>"
      ],
      "text/plain": [
       "             Beat   BlockRange   StreetName         OffenseType Premise  \\\n",
       "Date                                                                      \n",
       "1964-10-09   1A40    3700-3799   westheimer  Aggravated Assault     18O   \n",
       "1965-03-20   6B60  12400-12499  greenspoint               Theft     09H   \n",
       "1966-10-27   6B50  10300-10399        north               Theft     210   \n",
       "1970-11-27  19G50  10200-10299    lands end               Theft     250   \n",
       "1971-08-16  14D20    9000-9099      brandon               Theft     20D   \n",
       "\n",
       "            NumOffenses  Hour   Premise Description day   weekday month  year  \n",
       "Date                                                                           \n",
       "1964-10-09          1.0   5.0     other parking lot  09    Friday   Oct  1964  \n",
       "1965-03-20          1.0  23.0              hospital  20  Saturday   Mar  1965  \n",
       "1966-10-27          1.0   0.0  restaurant/cafeteria  27  Thursday   Oct  1966  \n",
       "1970-11-27          1.0  13.0         other/unknown  27    Friday   Nov  1970  \n",
       "1971-08-16          1.0  22.0              driveway  16    Monday   Aug  1971  "
      ]
     },
     "execution_count": 68,
     "metadata": {},
     "output_type": "execute_result"
    }
   ],
   "source": [
    "crimes.head()"
   ]
  },
  {
   "cell_type": "code",
   "execution_count": 69,
   "metadata": {},
   "outputs": [
    {
     "data": {
      "text/plain": [
       "2011    125777\n",
       "2010      1627\n",
       "2001        89\n",
       "2009        40\n",
       "2008        33\n",
       "2007        19\n",
       "2006        13\n",
       "2000        12\n",
       "2005         7\n",
       "2004         6\n",
       "2003         6\n",
       "2002         5\n",
       "1995         3\n",
       "1999         3\n",
       "1988         2\n",
       "1978         2\n",
       "1972         2\n",
       "1981         2\n",
       "1990         1\n",
       "1992         1\n",
       "1977         1\n",
       "1976         1\n",
       "1964         1\n",
       "1993         1\n",
       "1966         1\n",
       "1965         1\n",
       "1970         1\n",
       "1971         1\n",
       "1979         1\n",
       "Name: year, dtype: int64"
      ]
     },
     "execution_count": 69,
     "metadata": {},
     "output_type": "execute_result"
    }
   ],
   "source": [
    "crimes.year.value_counts(dropna=False)"
   ]
  },
  {
   "cell_type": "markdown",
   "metadata": {},
   "source": [
    "We can see now that many reports have incorect year"
   ]
  },
  {
   "cell_type": "code",
   "execution_count": null,
   "metadata": {},
   "outputs": [],
   "source": []
  },
  {
   "cell_type": "markdown",
   "metadata": {},
   "source": [
    "## null values\n",
    "\n",
    "- check\n",
    "- count\n",
    "- display"
   ]
  },
  {
   "cell_type": "code",
   "execution_count": 70,
   "metadata": {},
   "outputs": [
    {
     "data": {
      "text/plain": [
       "Beat                   0\n",
       "BlockRange             0\n",
       "StreetName             0\n",
       "OffenseType            0\n",
       "Premise                0\n",
       "NumOffenses            0\n",
       "Hour                   0\n",
       "Premise Description    0\n",
       "day                    0\n",
       "weekday                0\n",
       "month                  0\n",
       "year                   0\n",
       "dtype: int64"
      ]
     },
     "execution_count": 70,
     "metadata": {},
     "output_type": "execute_result"
    }
   ],
   "source": [
    "crimes.apply(lambda x: sum(x.isnull()))"
   ]
  },
  {
   "cell_type": "code",
   "execution_count": 71,
   "metadata": {},
   "outputs": [
    {
     "data": {
      "text/plain": [
       "0"
      ]
     },
     "execution_count": 71,
     "metadata": {},
     "output_type": "execute_result"
    }
   ],
   "source": [
    "# display any null\n",
    "len(crimes[crimes.isnull().any(axis=1)])"
   ]
  },
  {
   "cell_type": "code",
   "execution_count": 72,
   "metadata": {},
   "outputs": [
    {
     "data": {
      "text/html": [
       "<div>\n",
       "<style scoped>\n",
       "    .dataframe tbody tr th:only-of-type {\n",
       "        vertical-align: middle;\n",
       "    }\n",
       "\n",
       "    .dataframe tbody tr th {\n",
       "        vertical-align: top;\n",
       "    }\n",
       "\n",
       "    .dataframe thead th {\n",
       "        text-align: right;\n",
       "    }\n",
       "</style>\n",
       "<table border=\"1\" class=\"dataframe\">\n",
       "  <thead>\n",
       "    <tr style=\"text-align: right;\">\n",
       "      <th></th>\n",
       "      <th>Beat</th>\n",
       "      <th>BlockRange</th>\n",
       "      <th>StreetName</th>\n",
       "      <th>OffenseType</th>\n",
       "      <th>Premise</th>\n",
       "      <th>NumOffenses</th>\n",
       "      <th>Hour</th>\n",
       "      <th>Premise Description</th>\n",
       "      <th>day</th>\n",
       "      <th>weekday</th>\n",
       "      <th>month</th>\n",
       "      <th>year</th>\n",
       "    </tr>\n",
       "    <tr>\n",
       "      <th>Date</th>\n",
       "      <th></th>\n",
       "      <th></th>\n",
       "      <th></th>\n",
       "      <th></th>\n",
       "      <th></th>\n",
       "      <th></th>\n",
       "      <th></th>\n",
       "      <th></th>\n",
       "      <th></th>\n",
       "      <th></th>\n",
       "      <th></th>\n",
       "      <th></th>\n",
       "    </tr>\n",
       "  </thead>\n",
       "  <tbody>\n",
       "  </tbody>\n",
       "</table>\n",
       "</div>"
      ],
      "text/plain": [
       "Empty DataFrame\n",
       "Columns: [Beat, BlockRange, StreetName, OffenseType, Premise, NumOffenses, Hour, Premise Description, day, weekday, month, year]\n",
       "Index: []"
      ]
     },
     "execution_count": 72,
     "metadata": {},
     "output_type": "execute_result"
    }
   ],
   "source": [
    "crimes[crimes.isnull().any(axis=1)].head()"
   ]
  },
  {
   "cell_type": "code",
   "execution_count": null,
   "metadata": {},
   "outputs": [],
   "source": []
  },
  {
   "cell_type": "code",
   "execution_count": 73,
   "metadata": {},
   "outputs": [
    {
     "data": {
      "text/plain": [
       "Beat                   0\n",
       "BlockRange             0\n",
       "StreetName             0\n",
       "OffenseType            0\n",
       "Premise                0\n",
       "NumOffenses            0\n",
       "Hour                   0\n",
       "Premise Description    0\n",
       "day                    0\n",
       "weekday                0\n",
       "month                  0\n",
       "year                   0\n",
       "dtype: int64"
      ]
     },
     "execution_count": 73,
     "metadata": {},
     "output_type": "execute_result"
    }
   ],
   "source": [
    "crimes.apply(lambda x: sum(x.isnull()))"
   ]
  },
  {
   "cell_type": "markdown",
   "metadata": {},
   "source": [
    "## New Dataframe\n",
    "- remove premise col\n",
    "- keep premise description"
   ]
  },
  {
   "cell_type": "code",
   "execution_count": 74,
   "metadata": {},
   "outputs": [
    {
     "data": {
      "text/html": [
       "<div>\n",
       "<style scoped>\n",
       "    .dataframe tbody tr th:only-of-type {\n",
       "        vertical-align: middle;\n",
       "    }\n",
       "\n",
       "    .dataframe tbody tr th {\n",
       "        vertical-align: top;\n",
       "    }\n",
       "\n",
       "    .dataframe thead th {\n",
       "        text-align: right;\n",
       "    }\n",
       "</style>\n",
       "<table border=\"1\" class=\"dataframe\">\n",
       "  <thead>\n",
       "    <tr style=\"text-align: right;\">\n",
       "      <th></th>\n",
       "      <th>Beat</th>\n",
       "      <th>BlockRange</th>\n",
       "      <th>StreetName</th>\n",
       "      <th>OffenseType</th>\n",
       "      <th>Premise Description</th>\n",
       "      <th>NumOffenses</th>\n",
       "      <th>Hour</th>\n",
       "      <th>day</th>\n",
       "      <th>weekday</th>\n",
       "      <th>month</th>\n",
       "      <th>year</th>\n",
       "    </tr>\n",
       "    <tr>\n",
       "      <th>Date</th>\n",
       "      <th></th>\n",
       "      <th></th>\n",
       "      <th></th>\n",
       "      <th></th>\n",
       "      <th></th>\n",
       "      <th></th>\n",
       "      <th></th>\n",
       "      <th></th>\n",
       "      <th></th>\n",
       "      <th></th>\n",
       "      <th></th>\n",
       "    </tr>\n",
       "  </thead>\n",
       "  <tbody>\n",
       "    <tr>\n",
       "      <th>1964-10-09</th>\n",
       "      <td>1A40</td>\n",
       "      <td>3700-3799</td>\n",
       "      <td>westheimer</td>\n",
       "      <td>Aggravated Assault</td>\n",
       "      <td>other parking lot</td>\n",
       "      <td>1.0</td>\n",
       "      <td>5.0</td>\n",
       "      <td>09</td>\n",
       "      <td>Friday</td>\n",
       "      <td>Oct</td>\n",
       "      <td>1964</td>\n",
       "    </tr>\n",
       "    <tr>\n",
       "      <th>1965-03-20</th>\n",
       "      <td>6B60</td>\n",
       "      <td>12400-12499</td>\n",
       "      <td>greenspoint</td>\n",
       "      <td>Theft</td>\n",
       "      <td>hospital</td>\n",
       "      <td>1.0</td>\n",
       "      <td>23.0</td>\n",
       "      <td>20</td>\n",
       "      <td>Saturday</td>\n",
       "      <td>Mar</td>\n",
       "      <td>1965</td>\n",
       "    </tr>\n",
       "    <tr>\n",
       "      <th>1966-10-27</th>\n",
       "      <td>6B50</td>\n",
       "      <td>10300-10399</td>\n",
       "      <td>north</td>\n",
       "      <td>Theft</td>\n",
       "      <td>restaurant/cafeteria</td>\n",
       "      <td>1.0</td>\n",
       "      <td>0.0</td>\n",
       "      <td>27</td>\n",
       "      <td>Thursday</td>\n",
       "      <td>Oct</td>\n",
       "      <td>1966</td>\n",
       "    </tr>\n",
       "    <tr>\n",
       "      <th>1970-11-27</th>\n",
       "      <td>19G50</td>\n",
       "      <td>10200-10299</td>\n",
       "      <td>lands end</td>\n",
       "      <td>Theft</td>\n",
       "      <td>other/unknown</td>\n",
       "      <td>1.0</td>\n",
       "      <td>13.0</td>\n",
       "      <td>27</td>\n",
       "      <td>Friday</td>\n",
       "      <td>Nov</td>\n",
       "      <td>1970</td>\n",
       "    </tr>\n",
       "    <tr>\n",
       "      <th>1971-08-16</th>\n",
       "      <td>14D20</td>\n",
       "      <td>9000-9099</td>\n",
       "      <td>brandon</td>\n",
       "      <td>Theft</td>\n",
       "      <td>driveway</td>\n",
       "      <td>1.0</td>\n",
       "      <td>22.0</td>\n",
       "      <td>16</td>\n",
       "      <td>Monday</td>\n",
       "      <td>Aug</td>\n",
       "      <td>1971</td>\n",
       "    </tr>\n",
       "  </tbody>\n",
       "</table>\n",
       "</div>"
      ],
      "text/plain": [
       "             Beat   BlockRange   StreetName         OffenseType  \\\n",
       "Date                                                              \n",
       "1964-10-09   1A40    3700-3799   westheimer  Aggravated Assault   \n",
       "1965-03-20   6B60  12400-12499  greenspoint               Theft   \n",
       "1966-10-27   6B50  10300-10399        north               Theft   \n",
       "1970-11-27  19G50  10200-10299    lands end               Theft   \n",
       "1971-08-16  14D20    9000-9099      brandon               Theft   \n",
       "\n",
       "             Premise Description  NumOffenses  Hour day   weekday month  year  \n",
       "Date                                                                           \n",
       "1964-10-09     other parking lot          1.0   5.0  09    Friday   Oct  1964  \n",
       "1965-03-20              hospital          1.0  23.0  20  Saturday   Mar  1965  \n",
       "1966-10-27  restaurant/cafeteria          1.0   0.0  27  Thursday   Oct  1966  \n",
       "1970-11-27         other/unknown          1.0  13.0  27    Friday   Nov  1970  \n",
       "1971-08-16              driveway          1.0  22.0  16    Monday   Aug  1971  "
      ]
     },
     "execution_count": 74,
     "metadata": {},
     "output_type": "execute_result"
    }
   ],
   "source": [
    "crime_yr = crimes[['Beat','BlockRange','StreetName','OffenseType','Premise Description','NumOffenses','Hour','day','weekday','month','year']]\n",
    "crime_yr.head()"
   ]
  },
  {
   "cell_type": "code",
   "execution_count": 75,
   "metadata": {},
   "outputs": [
    {
     "data": {
      "text/plain": [
       "Beat                   0\n",
       "BlockRange             0\n",
       "StreetName             0\n",
       "OffenseType            0\n",
       "Premise Description    0\n",
       "NumOffenses            0\n",
       "Hour                   0\n",
       "day                    0\n",
       "weekday                0\n",
       "month                  0\n",
       "year                   0\n",
       "dtype: int64"
      ]
     },
     "execution_count": 75,
     "metadata": {},
     "output_type": "execute_result"
    }
   ],
   "source": [
    "crime_yr.apply(lambda x: sum(x.isnull()))"
   ]
  },
  {
   "cell_type": "code",
   "execution_count": 76,
   "metadata": {},
   "outputs": [],
   "source": [
    "# change column name from Premise Descriptionto Premise\n",
    "\n",
    "crime_yr.rename(columns={\n",
    "    'Premise Description': 'Premise',}, inplace=True)\n"
   ]
  },
  {
   "cell_type": "code",
   "execution_count": 77,
   "metadata": {},
   "outputs": [
    {
     "data": {
      "text/html": [
       "<div>\n",
       "<style scoped>\n",
       "    .dataframe tbody tr th:only-of-type {\n",
       "        vertical-align: middle;\n",
       "    }\n",
       "\n",
       "    .dataframe tbody tr th {\n",
       "        vertical-align: top;\n",
       "    }\n",
       "\n",
       "    .dataframe thead th {\n",
       "        text-align: right;\n",
       "    }\n",
       "</style>\n",
       "<table border=\"1\" class=\"dataframe\">\n",
       "  <thead>\n",
       "    <tr style=\"text-align: right;\">\n",
       "      <th></th>\n",
       "      <th>Beat</th>\n",
       "      <th>BlockRange</th>\n",
       "      <th>StreetName</th>\n",
       "      <th>OffenseType</th>\n",
       "      <th>Premise</th>\n",
       "      <th>NumOffenses</th>\n",
       "      <th>Hour</th>\n",
       "      <th>day</th>\n",
       "      <th>weekday</th>\n",
       "      <th>month</th>\n",
       "      <th>year</th>\n",
       "    </tr>\n",
       "    <tr>\n",
       "      <th>Date</th>\n",
       "      <th></th>\n",
       "      <th></th>\n",
       "      <th></th>\n",
       "      <th></th>\n",
       "      <th></th>\n",
       "      <th></th>\n",
       "      <th></th>\n",
       "      <th></th>\n",
       "      <th></th>\n",
       "      <th></th>\n",
       "      <th></th>\n",
       "    </tr>\n",
       "  </thead>\n",
       "  <tbody>\n",
       "    <tr>\n",
       "      <th>1964-10-09</th>\n",
       "      <td>1A40</td>\n",
       "      <td>3700-3799</td>\n",
       "      <td>westheimer</td>\n",
       "      <td>Aggravated Assault</td>\n",
       "      <td>other parking lot</td>\n",
       "      <td>1.0</td>\n",
       "      <td>5.0</td>\n",
       "      <td>09</td>\n",
       "      <td>Friday</td>\n",
       "      <td>Oct</td>\n",
       "      <td>1964</td>\n",
       "    </tr>\n",
       "    <tr>\n",
       "      <th>1965-03-20</th>\n",
       "      <td>6B60</td>\n",
       "      <td>12400-12499</td>\n",
       "      <td>greenspoint</td>\n",
       "      <td>Theft</td>\n",
       "      <td>hospital</td>\n",
       "      <td>1.0</td>\n",
       "      <td>23.0</td>\n",
       "      <td>20</td>\n",
       "      <td>Saturday</td>\n",
       "      <td>Mar</td>\n",
       "      <td>1965</td>\n",
       "    </tr>\n",
       "    <tr>\n",
       "      <th>1966-10-27</th>\n",
       "      <td>6B50</td>\n",
       "      <td>10300-10399</td>\n",
       "      <td>north</td>\n",
       "      <td>Theft</td>\n",
       "      <td>restaurant/cafeteria</td>\n",
       "      <td>1.0</td>\n",
       "      <td>0.0</td>\n",
       "      <td>27</td>\n",
       "      <td>Thursday</td>\n",
       "      <td>Oct</td>\n",
       "      <td>1966</td>\n",
       "    </tr>\n",
       "    <tr>\n",
       "      <th>1970-11-27</th>\n",
       "      <td>19G50</td>\n",
       "      <td>10200-10299</td>\n",
       "      <td>lands end</td>\n",
       "      <td>Theft</td>\n",
       "      <td>other/unknown</td>\n",
       "      <td>1.0</td>\n",
       "      <td>13.0</td>\n",
       "      <td>27</td>\n",
       "      <td>Friday</td>\n",
       "      <td>Nov</td>\n",
       "      <td>1970</td>\n",
       "    </tr>\n",
       "    <tr>\n",
       "      <th>1971-08-16</th>\n",
       "      <td>14D20</td>\n",
       "      <td>9000-9099</td>\n",
       "      <td>brandon</td>\n",
       "      <td>Theft</td>\n",
       "      <td>driveway</td>\n",
       "      <td>1.0</td>\n",
       "      <td>22.0</td>\n",
       "      <td>16</td>\n",
       "      <td>Monday</td>\n",
       "      <td>Aug</td>\n",
       "      <td>1971</td>\n",
       "    </tr>\n",
       "  </tbody>\n",
       "</table>\n",
       "</div>"
      ],
      "text/plain": [
       "             Beat   BlockRange   StreetName         OffenseType  \\\n",
       "Date                                                              \n",
       "1964-10-09   1A40    3700-3799   westheimer  Aggravated Assault   \n",
       "1965-03-20   6B60  12400-12499  greenspoint               Theft   \n",
       "1966-10-27   6B50  10300-10399        north               Theft   \n",
       "1970-11-27  19G50  10200-10299    lands end               Theft   \n",
       "1971-08-16  14D20    9000-9099      brandon               Theft   \n",
       "\n",
       "                         Premise  NumOffenses  Hour day   weekday month  year  \n",
       "Date                                                                           \n",
       "1964-10-09     other parking lot          1.0   5.0  09    Friday   Oct  1964  \n",
       "1965-03-20              hospital          1.0  23.0  20  Saturday   Mar  1965  \n",
       "1966-10-27  restaurant/cafeteria          1.0   0.0  27  Thursday   Oct  1966  \n",
       "1970-11-27         other/unknown          1.0  13.0  27    Friday   Nov  1970  \n",
       "1971-08-16              driveway          1.0  22.0  16    Monday   Aug  1971  "
      ]
     },
     "execution_count": 77,
     "metadata": {},
     "output_type": "execute_result"
    }
   ],
   "source": [
    "crime_yr.head()"
   ]
  },
  {
   "cell_type": "markdown",
   "metadata": {},
   "source": [
    "## Save"
   ]
  },
  {
   "cell_type": "code",
   "execution_count": 78,
   "metadata": {},
   "outputs": [
    {
     "name": "stdout",
     "output_type": "stream",
     "text": [
      "<class 'pandas.core.frame.DataFrame'>\n",
      "DatetimeIndex: 127659 entries, 1964-10-09 to 2011-12-31\n",
      "Data columns (total 11 columns):\n",
      "Beat           127659 non-null object\n",
      "BlockRange     127659 non-null object\n",
      "StreetName     127659 non-null object\n",
      "OffenseType    127659 non-null object\n",
      "Premise        127659 non-null object\n",
      "NumOffenses    127659 non-null float64\n",
      "Hour           127659 non-null float64\n",
      "day            127659 non-null object\n",
      "weekday        127659 non-null object\n",
      "month          127659 non-null object\n",
      "year           127659 non-null object\n",
      "dtypes: float64(2), object(9)\n",
      "memory usage: 11.7+ MB\n"
     ]
    }
   ],
   "source": [
    "crime_yr.info()"
   ]
  },
  {
   "cell_type": "code",
   "execution_count": 79,
   "metadata": {},
   "outputs": [],
   "source": [
    "crime_yr.to_csv('data/clean/crime11_clean.csv')"
   ]
  },
  {
   "cell_type": "code",
   "execution_count": 80,
   "metadata": {},
   "outputs": [
    {
     "name": "stdout",
     "output_type": "stream",
     "text": [
      "\u001b[0m\u001b[01;32mcrime10_clean.csv\u001b[0m*  \u001b[01;32mcrime12_clean.csv\u001b[0m*  \u001b[01;32mcrime14_clean.csv\u001b[0m*  \u001b[01;32mcrime16_clean.csv\u001b[0m*\r\n",
      "\u001b[01;32mcrime11_clean.csv\u001b[0m*  \u001b[01;32mcrime13_clean.csv\u001b[0m*  \u001b[01;32mcrime15_clean.csv\u001b[0m*  \u001b[01;32mcrime17_clean.csv\u001b[0m*\r\n"
     ]
    }
   ],
   "source": [
    "ls data/clean"
   ]
  },
  {
   "cell_type": "code",
   "execution_count": null,
   "metadata": {},
   "outputs": [],
   "source": []
  }
 ],
 "metadata": {
  "kernelspec": {
   "display_name": "Python 3",
   "language": "python",
   "name": "python3"
  },
  "language_info": {
   "codemirror_mode": {
    "name": "ipython",
    "version": 3
   },
   "file_extension": ".py",
   "mimetype": "text/x-python",
   "name": "python",
   "nbconvert_exporter": "python",
   "pygments_lexer": "ipython3",
   "version": "3.6.4"
  }
 },
 "nbformat": 4,
 "nbformat_minor": 2
}
