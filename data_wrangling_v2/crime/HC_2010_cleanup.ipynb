{
 "cells": [
  {
   "cell_type": "markdown",
   "metadata": {},
   "source": [
    "# Crime data from 2010\n",
    "\n",
    "http://www.houstontx.gov/police/cs/crime-stats-archives.htm"
   ]
  },
  {
   "cell_type": "code",
   "execution_count": 1,
   "metadata": {},
   "outputs": [],
   "source": [
    "import pandas as pd\n",
    "import glob, os\n",
    "import numpy as np\n",
    "import matplotlib.pyplot as plt\n",
    "import datetime  as dt\n",
    "import seaborn as sns\n",
    "\n",
    "import warnings\n",
    "warnings.filterwarnings('ignore')"
   ]
  },
  {
   "cell_type": "code",
   "execution_count": 2,
   "metadata": {},
   "outputs": [
    {
     "name": "stdout",
     "output_type": "stream",
     "text": [
      "\u001b[0m\u001b[01;32mapr10.xls\u001b[0m*  \u001b[01;32mdec10.xls\u001b[0m*  \u001b[01;32mjan10.xls\u001b[0m*  \u001b[01;32mjun10.xls\u001b[0m*  \u001b[01;32mmay10.xls\u001b[0m*  \u001b[01;32moct10.xls\u001b[0m*\r\n",
      "\u001b[01;32maug10.xls\u001b[0m*  \u001b[01;32mfeb10.xls\u001b[0m*  \u001b[01;32mjul10.xls\u001b[0m*  \u001b[01;32mmar10.xls\u001b[0m*  \u001b[01;32mnov10.xls\u001b[0m*  \u001b[01;32msep10.xls\u001b[0m*\r\n"
     ]
    }
   ],
   "source": [
    "ls data/2010"
   ]
  },
  {
   "cell_type": "code",
   "execution_count": 3,
   "metadata": {},
   "outputs": [],
   "source": [
    "path = 'data/2010'"
   ]
  },
  {
   "cell_type": "code",
   "execution_count": 4,
   "metadata": {},
   "outputs": [
    {
     "name": "stdout",
     "output_type": "stream",
     "text": [
      "WARNING *** file size (2752234) not 512 + multiple of sector size (512)\n",
      "WARNING *** OLE2 inconsistency: SSCS size is 0 but SSAT size is non-zero\n"
     ]
    }
   ],
   "source": [
    "# combine all files into one df\n",
    "all_files = glob.glob(os.path.join(path, \"*.xls\")) \n",
    "df_from_each_file = (pd.read_excel(f) for f in all_files)\n",
    "df   = pd.concat(df_from_each_file, ignore_index=True)"
   ]
  },
  {
   "cell_type": "code",
   "execution_count": 5,
   "metadata": {},
   "outputs": [
    {
     "data": {
      "text/html": [
       "<div>\n",
       "<style scoped>\n",
       "    .dataframe tbody tr th:only-of-type {\n",
       "        vertical-align: middle;\n",
       "    }\n",
       "\n",
       "    .dataframe tbody tr th {\n",
       "        vertical-align: top;\n",
       "    }\n",
       "\n",
       "    .dataframe thead th {\n",
       "        text-align: right;\n",
       "    }\n",
       "</style>\n",
       "<table border=\"1\" class=\"dataframe\">\n",
       "  <thead>\n",
       "    <tr style=\"text-align: right;\">\n",
       "      <th></th>\n",
       "      <th># Of Offenses</th>\n",
       "      <th>Beat</th>\n",
       "      <th>Block Range</th>\n",
       "      <th>Date</th>\n",
       "      <th>Field11</th>\n",
       "      <th>Hour</th>\n",
       "      <th>Offense Type</th>\n",
       "      <th>Premise</th>\n",
       "      <th>Street Name</th>\n",
       "      <th>Suffix</th>\n",
       "      <th>Type</th>\n",
       "      <th>Unnamed: 1</th>\n",
       "    </tr>\n",
       "  </thead>\n",
       "  <tbody>\n",
       "    <tr>\n",
       "      <th>0</th>\n",
       "      <td>1.0</td>\n",
       "      <td>13D20</td>\n",
       "      <td>6600-6699</td>\n",
       "      <td>2010-04-17</td>\n",
       "      <td>NaN</td>\n",
       "      <td>0.0</td>\n",
       "      <td>Murder</td>\n",
       "      <td>05W</td>\n",
       "      <td>HEFFERNAN</td>\n",
       "      <td>-</td>\n",
       "      <td>-</td>\n",
       "      <td>NaN</td>\n",
       "    </tr>\n",
       "    <tr>\n",
       "      <th>1</th>\n",
       "      <td>1.0</td>\n",
       "      <td>11H40</td>\n",
       "      <td>10100-10199</td>\n",
       "      <td>2010-04-08</td>\n",
       "      <td>NaN</td>\n",
       "      <td>20.0</td>\n",
       "      <td>Murder</td>\n",
       "      <td>20R</td>\n",
       "      <td>LUCORE</td>\n",
       "      <td>-</td>\n",
       "      <td>-</td>\n",
       "      <td>NaN</td>\n",
       "    </tr>\n",
       "    <tr>\n",
       "      <th>2</th>\n",
       "      <td>2.0</td>\n",
       "      <td>19G20</td>\n",
       "      <td>11400-11499</td>\n",
       "      <td>2010-04-01</td>\n",
       "      <td>NaN</td>\n",
       "      <td>22.0</td>\n",
       "      <td>Murder</td>\n",
       "      <td>13R</td>\n",
       "      <td>CARVEL</td>\n",
       "      <td>-</td>\n",
       "      <td>LN</td>\n",
       "      <td>NaN</td>\n",
       "    </tr>\n",
       "    <tr>\n",
       "      <th>3</th>\n",
       "      <td>1.0</td>\n",
       "      <td>10H60</td>\n",
       "      <td>3700-3799</td>\n",
       "      <td>2010-04-17</td>\n",
       "      <td>NaN</td>\n",
       "      <td>1.0</td>\n",
       "      <td>Murder</td>\n",
       "      <td>13R</td>\n",
       "      <td>WHEELER</td>\n",
       "      <td>-</td>\n",
       "      <td>-</td>\n",
       "      <td>NaN</td>\n",
       "    </tr>\n",
       "    <tr>\n",
       "      <th>4</th>\n",
       "      <td>1.0</td>\n",
       "      <td>14D30</td>\n",
       "      <td>5100-5199</td>\n",
       "      <td>2010-04-08</td>\n",
       "      <td>NaN</td>\n",
       "      <td>23.0</td>\n",
       "      <td>Murder</td>\n",
       "      <td>20R</td>\n",
       "      <td>MYRTLEWOOD</td>\n",
       "      <td>-</td>\n",
       "      <td>DR</td>\n",
       "      <td>NaN</td>\n",
       "    </tr>\n",
       "  </tbody>\n",
       "</table>\n",
       "</div>"
      ],
      "text/plain": [
       "   # Of Offenses   Beat  Block Range       Date  Field11  Hour Offense Type  \\\n",
       "0            1.0  13D20    6600-6699 2010-04-17      NaN   0.0       Murder   \n",
       "1            1.0  11H40  10100-10199 2010-04-08      NaN  20.0       Murder   \n",
       "2            2.0  19G20  11400-11499 2010-04-01      NaN  22.0       Murder   \n",
       "3            1.0  10H60    3700-3799 2010-04-17      NaN   1.0       Murder   \n",
       "4            1.0  14D30    5100-5199 2010-04-08      NaN  23.0       Murder   \n",
       "\n",
       "  Premise Street Name Suffix Type  Unnamed: 1  \n",
       "0     05W   HEFFERNAN      -    -         NaN  \n",
       "1     20R      LUCORE      -    -         NaN  \n",
       "2     13R      CARVEL      -   LN         NaN  \n",
       "3     13R     WHEELER      -    -         NaN  \n",
       "4     20R  MYRTLEWOOD      -   DR         NaN  "
      ]
     },
     "execution_count": 5,
     "metadata": {},
     "output_type": "execute_result"
    }
   ],
   "source": [
    "df.head()"
   ]
  },
  {
   "cell_type": "code",
   "execution_count": 6,
   "metadata": {},
   "outputs": [
    {
     "data": {
      "text/html": [
       "<div>\n",
       "<style scoped>\n",
       "    .dataframe tbody tr th:only-of-type {\n",
       "        vertical-align: middle;\n",
       "    }\n",
       "\n",
       "    .dataframe tbody tr th {\n",
       "        vertical-align: top;\n",
       "    }\n",
       "\n",
       "    .dataframe thead th {\n",
       "        text-align: right;\n",
       "    }\n",
       "</style>\n",
       "<table border=\"1\" class=\"dataframe\">\n",
       "  <thead>\n",
       "    <tr style=\"text-align: right;\">\n",
       "      <th></th>\n",
       "      <th>Premise Type</th>\n",
       "      <th>Premise Description</th>\n",
       "    </tr>\n",
       "  </thead>\n",
       "  <tbody>\n",
       "    <tr>\n",
       "      <th>0</th>\n",
       "      <td>01A</td>\n",
       "      <td>AIRPORT TERMINAL</td>\n",
       "    </tr>\n",
       "    <tr>\n",
       "      <th>1</th>\n",
       "      <td>01B</td>\n",
       "      <td>BUS STATION</td>\n",
       "    </tr>\n",
       "    <tr>\n",
       "      <th>2</th>\n",
       "      <td>01K</td>\n",
       "      <td>RAILROAD TRACK/RIGHT OF WAY</td>\n",
       "    </tr>\n",
       "    <tr>\n",
       "      <th>3</th>\n",
       "      <td>01P</td>\n",
       "      <td>PARK &amp; RIDE TERMINAL</td>\n",
       "    </tr>\n",
       "    <tr>\n",
       "      <th>4</th>\n",
       "      <td>01R</td>\n",
       "      <td>LIGHT RAIL VEHICLE</td>\n",
       "    </tr>\n",
       "  </tbody>\n",
       "</table>\n",
       "</div>"
      ],
      "text/plain": [
       "  Premise Type          Premise Description\n",
       "0          01A             AIRPORT TERMINAL\n",
       "1          01B                  BUS STATION\n",
       "2          01K  RAILROAD TRACK/RIGHT OF WAY\n",
       "3          01P         PARK & RIDE TERMINAL\n",
       "4          01R           LIGHT RAIL VEHICLE"
      ]
     },
     "execution_count": 6,
     "metadata": {},
     "output_type": "execute_result"
    }
   ],
   "source": [
    "# get premise codes\n",
    "\n",
    "pc = pd.read_csv('data/premise_codes.csv')\n",
    "pc.head()"
   ]
  },
  {
   "cell_type": "code",
   "execution_count": 7,
   "metadata": {},
   "outputs": [
    {
     "data": {
      "text/html": [
       "<div>\n",
       "<style scoped>\n",
       "    .dataframe tbody tr th:only-of-type {\n",
       "        vertical-align: middle;\n",
       "    }\n",
       "\n",
       "    .dataframe tbody tr th {\n",
       "        vertical-align: top;\n",
       "    }\n",
       "\n",
       "    .dataframe thead th {\n",
       "        text-align: right;\n",
       "    }\n",
       "</style>\n",
       "<table border=\"1\" class=\"dataframe\">\n",
       "  <thead>\n",
       "    <tr style=\"text-align: right;\">\n",
       "      <th></th>\n",
       "      <th>Premise</th>\n",
       "      <th>Premise Description</th>\n",
       "    </tr>\n",
       "  </thead>\n",
       "  <tbody>\n",
       "    <tr>\n",
       "      <th>0</th>\n",
       "      <td>01A</td>\n",
       "      <td>AIRPORT TERMINAL</td>\n",
       "    </tr>\n",
       "    <tr>\n",
       "      <th>1</th>\n",
       "      <td>01B</td>\n",
       "      <td>BUS STATION</td>\n",
       "    </tr>\n",
       "    <tr>\n",
       "      <th>2</th>\n",
       "      <td>01K</td>\n",
       "      <td>RAILROAD TRACK/RIGHT OF WAY</td>\n",
       "    </tr>\n",
       "    <tr>\n",
       "      <th>3</th>\n",
       "      <td>01P</td>\n",
       "      <td>PARK &amp; RIDE TERMINAL</td>\n",
       "    </tr>\n",
       "    <tr>\n",
       "      <th>4</th>\n",
       "      <td>01R</td>\n",
       "      <td>LIGHT RAIL VEHICLE</td>\n",
       "    </tr>\n",
       "  </tbody>\n",
       "</table>\n",
       "</div>"
      ],
      "text/plain": [
       "  Premise          Premise Description\n",
       "0     01A             AIRPORT TERMINAL\n",
       "1     01B                  BUS STATION\n",
       "2     01K  RAILROAD TRACK/RIGHT OF WAY\n",
       "3     01P         PARK & RIDE TERMINAL\n",
       "4     01R           LIGHT RAIL VEHICLE"
      ]
     },
     "execution_count": 7,
     "metadata": {},
     "output_type": "execute_result"
    }
   ],
   "source": [
    "# rename premise column for easy merge\n",
    "pc.rename(columns={'Premise Type': 'Premise',}, inplace=True)\n",
    "pc.head()"
   ]
  },
  {
   "cell_type": "markdown",
   "metadata": {},
   "source": [
    "## Check for missing values"
   ]
  },
  {
   "cell_type": "code",
   "execution_count": 8,
   "metadata": {},
   "outputs": [
    {
     "data": {
      "text/plain": [
       "# Of Offenses         1\n",
       "Beat                  1\n",
       "Block Range           1\n",
       "Date                  1\n",
       "Field11          136263\n",
       "Hour                  1\n",
       "Offense Type          1\n",
       "Premise               1\n",
       "Street Name           1\n",
       "Suffix                1\n",
       "Type                  1\n",
       "Unnamed: 1       136263\n",
       "dtype: int64"
      ]
     },
     "execution_count": 8,
     "metadata": {},
     "output_type": "execute_result"
    }
   ],
   "source": [
    "df.apply(lambda x: sum(x.isnull()))"
   ]
  },
  {
   "cell_type": "code",
   "execution_count": 9,
   "metadata": {},
   "outputs": [
    {
     "data": {
      "image/png": "[encoded data removed]",
      "text/plain": [
       "<Figure size 432x288 with 1 Axes>"
      ]
     },
     "metadata": {},
     "output_type": "display_data"
    }
   ],
   "source": [
    "sns.heatmap(df.isnull(),yticklabels=False,cbar=False,cmap='viridis')\n",
    "plt.title('Null dataset display')\n",
    "plt.show()"
   ]
  },
  {
   "cell_type": "markdown",
   "metadata": {},
   "source": [
    "## Cleanup\n",
    "\n",
    "- joining similar columns\n",
    "- renaming"
   ]
  },
  {
   "cell_type": "code",
   "execution_count": 10,
   "metadata": {},
   "outputs": [
    {
     "name": "stdout",
     "output_type": "stream",
     "text": [
      "<class 'pandas.core.frame.DataFrame'>\n",
      "RangeIndex: 136263 entries, 0 to 136262\n",
      "Data columns (total 12 columns):\n",
      "NumOffenses    136262 non-null float64\n",
      "Beat           136262 non-null object\n",
      "BlockRange     136262 non-null object\n",
      "Date           136262 non-null datetime64[ns]\n",
      "Field11        0 non-null float64\n",
      "Hour           136262 non-null float64\n",
      "OffenseType    136262 non-null object\n",
      "Premise        136262 non-null object\n",
      "StreetName     136262 non-null object\n",
      "Suffix         136262 non-null object\n",
      "Type           136262 non-null object\n",
      "Unnamed: 1     0 non-null float64\n",
      "dtypes: datetime64[ns](1), float64(4), object(7)\n",
      "memory usage: 12.5+ MB\n"
     ]
    }
   ],
   "source": [
    "df.rename(columns={\n",
    "    '# Of Offenses': 'NumOffenses',\n",
    "     'Offense Type': 'OffenseType',\n",
    "    'Block Range': 'BlockRange',\n",
    "    'Street Name': 'StreetName'\n",
    "}, inplace=True)\n",
    "df.info()"
   ]
  },
  {
   "cell_type": "code",
   "execution_count": 11,
   "metadata": {},
   "outputs": [
    {
     "data": {
      "text/plain": [
       "NumOffenses         1\n",
       "Beat                1\n",
       "BlockRange          1\n",
       "Date                1\n",
       "Field11        136263\n",
       "Hour                1\n",
       "OffenseType         1\n",
       "Premise             1\n",
       "StreetName          1\n",
       "Suffix              1\n",
       "Type                1\n",
       "Unnamed: 1     136263\n",
       "dtype: int64"
      ]
     },
     "execution_count": 11,
     "metadata": {},
     "output_type": "execute_result"
    }
   ],
   "source": [
    "df.apply(lambda x: sum(x.isnull()))"
   ]
  },
  {
   "cell_type": "markdown",
   "metadata": {},
   "source": [
    "## Subset dataframe to work on "
   ]
  },
  {
   "cell_type": "code",
   "execution_count": 12,
   "metadata": {},
   "outputs": [
    {
     "name": "stdout",
     "output_type": "stream",
     "text": [
      "<class 'pandas.core.frame.DataFrame'>\n",
      "RangeIndex: 136263 entries, 0 to 136262\n",
      "Data columns (total 8 columns):\n",
      "Date           136262 non-null datetime64[ns]\n",
      "Beat           136262 non-null object\n",
      "BlockRange     136262 non-null object\n",
      "StreetName     136262 non-null object\n",
      "OffenseType    136262 non-null object\n",
      "Premise        136262 non-null object\n",
      "NumOffenses    136262 non-null float64\n",
      "Hour           136262 non-null float64\n",
      "dtypes: datetime64[ns](1), float64(2), object(5)\n",
      "memory usage: 8.3+ MB\n"
     ]
    }
   ],
   "source": [
    "crimes = df[['Date','Beat','BlockRange','StreetName','OffenseType','Premise','NumOffenses','Hour']]\n",
    "crimes.info()"
   ]
  },
  {
   "cell_type": "code",
   "execution_count": 13,
   "metadata": {},
   "outputs": [
    {
     "data": {
      "image/png": "[encoded data removed]",
      "text/plain": [
       "<Figure size 432x288 with 1 Axes>"
      ]
     },
     "metadata": {},
     "output_type": "display_data"
    }
   ],
   "source": [
    "sns.heatmap(crimes.isnull(),yticklabels=False,cbar=False,cmap='viridis')\n",
    "plt.title('Null dataset display')\n",
    "plt.show()"
   ]
  },
  {
   "cell_type": "markdown",
   "metadata": {},
   "source": [
    "## Join datafames\n",
    " join premise df with crime to extract num values"
   ]
  },
  {
   "cell_type": "code",
   "execution_count": 14,
   "metadata": {},
   "outputs": [
    {
     "data": {
      "text/plain": [
       "20A    17848\n",
       "20R    17426\n",
       "18A    15614\n",
       "13R    10029\n",
       "20D     9793\n",
       "080     6821\n",
       "18O     6263\n",
       "250     4690\n",
       "18R     4009\n",
       "18P     3405\n",
       "Name: Premise, dtype: int64"
      ]
     },
     "execution_count": 14,
     "metadata": {},
     "output_type": "execute_result"
    }
   ],
   "source": [
    "crimes.Premise.value_counts(dropna=False)[:10]"
   ]
  },
  {
   "cell_type": "code",
   "execution_count": 15,
   "metadata": {},
   "outputs": [
    {
     "name": "stdout",
     "output_type": "stream",
     "text": [
      "<class 'pandas.core.frame.DataFrame'>\n",
      "Int64Index: 136264 entries, 0 to 136263\n",
      "Data columns (total 9 columns):\n",
      "Date                   136262 non-null datetime64[ns]\n",
      "Beat                   136262 non-null object\n",
      "BlockRange             136262 non-null object\n",
      "StreetName             136262 non-null object\n",
      "OffenseType            136262 non-null object\n",
      "Premise                136263 non-null object\n",
      "NumOffenses            136262 non-null float64\n",
      "Hour                   136262 non-null float64\n",
      "Premise Description    136214 non-null object\n",
      "dtypes: datetime64[ns](1), float64(2), object(6)\n",
      "memory usage: 10.4+ MB\n"
     ]
    }
   ],
   "source": [
    "# join two datarames\n",
    "crimes = pd.merge(crimes, pc, on='Premise', how='outer')\n",
    "crimes.info()"
   ]
  },
  {
   "cell_type": "code",
   "execution_count": 16,
   "metadata": {},
   "outputs": [
    {
     "data": {
      "text/html": [
       "<div>\n",
       "<style scoped>\n",
       "    .dataframe tbody tr th:only-of-type {\n",
       "        vertical-align: middle;\n",
       "    }\n",
       "\n",
       "    .dataframe tbody tr th {\n",
       "        vertical-align: top;\n",
       "    }\n",
       "\n",
       "    .dataframe thead th {\n",
       "        text-align: right;\n",
       "    }\n",
       "</style>\n",
       "<table border=\"1\" class=\"dataframe\">\n",
       "  <thead>\n",
       "    <tr style=\"text-align: right;\">\n",
       "      <th></th>\n",
       "      <th>Premise</th>\n",
       "      <th>Premise Description</th>\n",
       "    </tr>\n",
       "  </thead>\n",
       "  <tbody>\n",
       "    <tr>\n",
       "      <th>0</th>\n",
       "      <td>05W</td>\n",
       "      <td>WAREHOUSE</td>\n",
       "    </tr>\n",
       "    <tr>\n",
       "      <th>1</th>\n",
       "      <td>05W</td>\n",
       "      <td>WAREHOUSE</td>\n",
       "    </tr>\n",
       "    <tr>\n",
       "      <th>2</th>\n",
       "      <td>05W</td>\n",
       "      <td>WAREHOUSE</td>\n",
       "    </tr>\n",
       "    <tr>\n",
       "      <th>3</th>\n",
       "      <td>05W</td>\n",
       "      <td>WAREHOUSE</td>\n",
       "    </tr>\n",
       "    <tr>\n",
       "      <th>4</th>\n",
       "      <td>05W</td>\n",
       "      <td>WAREHOUSE</td>\n",
       "    </tr>\n",
       "    <tr>\n",
       "      <th>5</th>\n",
       "      <td>05W</td>\n",
       "      <td>WAREHOUSE</td>\n",
       "    </tr>\n",
       "    <tr>\n",
       "      <th>6</th>\n",
       "      <td>05W</td>\n",
       "      <td>WAREHOUSE</td>\n",
       "    </tr>\n",
       "    <tr>\n",
       "      <th>7</th>\n",
       "      <td>05W</td>\n",
       "      <td>WAREHOUSE</td>\n",
       "    </tr>\n",
       "    <tr>\n",
       "      <th>8</th>\n",
       "      <td>05W</td>\n",
       "      <td>WAREHOUSE</td>\n",
       "    </tr>\n",
       "    <tr>\n",
       "      <th>9</th>\n",
       "      <td>05W</td>\n",
       "      <td>WAREHOUSE</td>\n",
       "    </tr>\n",
       "    <tr>\n",
       "      <th>10</th>\n",
       "      <td>05W</td>\n",
       "      <td>WAREHOUSE</td>\n",
       "    </tr>\n",
       "    <tr>\n",
       "      <th>11</th>\n",
       "      <td>05W</td>\n",
       "      <td>WAREHOUSE</td>\n",
       "    </tr>\n",
       "    <tr>\n",
       "      <th>12</th>\n",
       "      <td>05W</td>\n",
       "      <td>WAREHOUSE</td>\n",
       "    </tr>\n",
       "    <tr>\n",
       "      <th>13</th>\n",
       "      <td>05W</td>\n",
       "      <td>WAREHOUSE</td>\n",
       "    </tr>\n",
       "    <tr>\n",
       "      <th>14</th>\n",
       "      <td>05W</td>\n",
       "      <td>WAREHOUSE</td>\n",
       "    </tr>\n",
       "    <tr>\n",
       "      <th>15</th>\n",
       "      <td>05W</td>\n",
       "      <td>WAREHOUSE</td>\n",
       "    </tr>\n",
       "    <tr>\n",
       "      <th>16</th>\n",
       "      <td>05W</td>\n",
       "      <td>WAREHOUSE</td>\n",
       "    </tr>\n",
       "    <tr>\n",
       "      <th>17</th>\n",
       "      <td>05W</td>\n",
       "      <td>WAREHOUSE</td>\n",
       "    </tr>\n",
       "    <tr>\n",
       "      <th>18</th>\n",
       "      <td>05W</td>\n",
       "      <td>WAREHOUSE</td>\n",
       "    </tr>\n",
       "    <tr>\n",
       "      <th>19</th>\n",
       "      <td>05W</td>\n",
       "      <td>WAREHOUSE</td>\n",
       "    </tr>\n",
       "  </tbody>\n",
       "</table>\n",
       "</div>"
      ],
      "text/plain": [
       "   Premise Premise Description\n",
       "0      05W           WAREHOUSE\n",
       "1      05W           WAREHOUSE\n",
       "2      05W           WAREHOUSE\n",
       "3      05W           WAREHOUSE\n",
       "4      05W           WAREHOUSE\n",
       "5      05W           WAREHOUSE\n",
       "6      05W           WAREHOUSE\n",
       "7      05W           WAREHOUSE\n",
       "8      05W           WAREHOUSE\n",
       "9      05W           WAREHOUSE\n",
       "10     05W           WAREHOUSE\n",
       "11     05W           WAREHOUSE\n",
       "12     05W           WAREHOUSE\n",
       "13     05W           WAREHOUSE\n",
       "14     05W           WAREHOUSE\n",
       "15     05W           WAREHOUSE\n",
       "16     05W           WAREHOUSE\n",
       "17     05W           WAREHOUSE\n",
       "18     05W           WAREHOUSE\n",
       "19     05W           WAREHOUSE"
      ]
     },
     "execution_count": 16,
     "metadata": {},
     "output_type": "execute_result"
    }
   ],
   "source": [
    "crimes[['Premise', 'Premise Description']].head(20)"
   ]
  },
  {
   "cell_type": "code",
   "execution_count": 17,
   "metadata": {},
   "outputs": [
    {
     "data": {
      "text/html": [
       "<div>\n",
       "<style scoped>\n",
       "    .dataframe tbody tr th:only-of-type {\n",
       "        vertical-align: middle;\n",
       "    }\n",
       "\n",
       "    .dataframe tbody tr th {\n",
       "        vertical-align: top;\n",
       "    }\n",
       "\n",
       "    .dataframe thead th {\n",
       "        text-align: right;\n",
       "    }\n",
       "</style>\n",
       "<table border=\"1\" class=\"dataframe\">\n",
       "  <thead>\n",
       "    <tr style=\"text-align: right;\">\n",
       "      <th></th>\n",
       "      <th>Date</th>\n",
       "      <th>Beat</th>\n",
       "      <th>BlockRange</th>\n",
       "      <th>StreetName</th>\n",
       "      <th>OffenseType</th>\n",
       "      <th>Premise</th>\n",
       "      <th>NumOffenses</th>\n",
       "      <th>Hour</th>\n",
       "      <th>Premise Description</th>\n",
       "    </tr>\n",
       "  </thead>\n",
       "  <tbody>\n",
       "    <tr>\n",
       "      <th>0</th>\n",
       "      <td>2010-04-17</td>\n",
       "      <td>13D20</td>\n",
       "      <td>6600-6699</td>\n",
       "      <td>HEFFERNAN</td>\n",
       "      <td>Murder</td>\n",
       "      <td>05W</td>\n",
       "      <td>1.0</td>\n",
       "      <td>0.0</td>\n",
       "      <td>WAREHOUSE</td>\n",
       "    </tr>\n",
       "    <tr>\n",
       "      <th>1</th>\n",
       "      <td>2010-04-01</td>\n",
       "      <td>14D20</td>\n",
       "      <td>3400-3499</td>\n",
       "      <td>CORDER</td>\n",
       "      <td>Burglary</td>\n",
       "      <td>05W</td>\n",
       "      <td>1.0</td>\n",
       "      <td>0.0</td>\n",
       "      <td>WAREHOUSE</td>\n",
       "    </tr>\n",
       "    <tr>\n",
       "      <th>2</th>\n",
       "      <td>2010-04-08</td>\n",
       "      <td>6B40</td>\n",
       "      <td>10200-10299</td>\n",
       "      <td>NORTH</td>\n",
       "      <td>Burglary</td>\n",
       "      <td>05W</td>\n",
       "      <td>1.0</td>\n",
       "      <td>23.0</td>\n",
       "      <td>WAREHOUSE</td>\n",
       "    </tr>\n",
       "    <tr>\n",
       "      <th>3</th>\n",
       "      <td>2010-04-23</td>\n",
       "      <td>13D10</td>\n",
       "      <td>6100-6199</td>\n",
       "      <td>SOUTH LP E</td>\n",
       "      <td>Burglary</td>\n",
       "      <td>05W</td>\n",
       "      <td>1.0</td>\n",
       "      <td>19.0</td>\n",
       "      <td>WAREHOUSE</td>\n",
       "    </tr>\n",
       "    <tr>\n",
       "      <th>4</th>\n",
       "      <td>2010-04-06</td>\n",
       "      <td>3B10</td>\n",
       "      <td>5900-5999</td>\n",
       "      <td>CENTRALCREST</td>\n",
       "      <td>Burglary</td>\n",
       "      <td>05W</td>\n",
       "      <td>1.0</td>\n",
       "      <td>17.0</td>\n",
       "      <td>WAREHOUSE</td>\n",
       "    </tr>\n",
       "  </tbody>\n",
       "</table>\n",
       "</div>"
      ],
      "text/plain": [
       "        Date   Beat   BlockRange    StreetName OffenseType Premise  \\\n",
       "0 2010-04-17  13D20    6600-6699     HEFFERNAN      Murder     05W   \n",
       "1 2010-04-01  14D20    3400-3499        CORDER    Burglary     05W   \n",
       "2 2010-04-08   6B40  10200-10299         NORTH    Burglary     05W   \n",
       "3 2010-04-23  13D10    6100-6199    SOUTH LP E    Burglary     05W   \n",
       "4 2010-04-06   3B10    5900-5999  CENTRALCREST    Burglary     05W   \n",
       "\n",
       "   NumOffenses  Hour Premise Description  \n",
       "0          1.0   0.0           WAREHOUSE  \n",
       "1          1.0   0.0           WAREHOUSE  \n",
       "2          1.0  23.0           WAREHOUSE  \n",
       "3          1.0  19.0           WAREHOUSE  \n",
       "4          1.0  17.0           WAREHOUSE  "
      ]
     },
     "execution_count": 17,
     "metadata": {},
     "output_type": "execute_result"
    }
   ],
   "source": [
    "crimes.head()"
   ]
  },
  {
   "cell_type": "code",
   "execution_count": 18,
   "metadata": {},
   "outputs": [
    {
     "data": {
      "text/plain": [
       "Date                    2\n",
       "Beat                    2\n",
       "BlockRange              2\n",
       "StreetName              2\n",
       "OffenseType             2\n",
       "Premise                 1\n",
       "NumOffenses             2\n",
       "Hour                    2\n",
       "Premise Description    50\n",
       "dtype: int64"
      ]
     },
     "execution_count": 18,
     "metadata": {},
     "output_type": "execute_result"
    }
   ],
   "source": [
    "crimes.apply(lambda x: sum(x.isnull()))"
   ]
  },
  {
   "cell_type": "code",
   "execution_count": 19,
   "metadata": {},
   "outputs": [
    {
     "data": {
      "image/png": "[encoded data removed]",
      "text/plain": [
       "<Figure size 432x288 with 1 Axes>"
      ]
     },
     "metadata": {},
     "output_type": "display_data"
    }
   ],
   "source": [
    "sns.heatmap(crimes.isnull(),yticklabels=False,cbar=False,cmap='viridis')\n",
    "plt.title('Null dataset display')\n",
    "plt.show()"
   ]
  },
  {
   "cell_type": "code",
   "execution_count": 20,
   "metadata": {},
   "outputs": [
    {
     "data": {
      "text/html": [
       "<div>\n",
       "<style scoped>\n",
       "    .dataframe tbody tr th:only-of-type {\n",
       "        vertical-align: middle;\n",
       "    }\n",
       "\n",
       "    .dataframe tbody tr th {\n",
       "        vertical-align: top;\n",
       "    }\n",
       "\n",
       "    .dataframe thead th {\n",
       "        text-align: right;\n",
       "    }\n",
       "</style>\n",
       "<table border=\"1\" class=\"dataframe\">\n",
       "  <thead>\n",
       "    <tr style=\"text-align: right;\">\n",
       "      <th></th>\n",
       "      <th>Date</th>\n",
       "      <th>Beat</th>\n",
       "      <th>BlockRange</th>\n",
       "      <th>StreetName</th>\n",
       "      <th>OffenseType</th>\n",
       "      <th>Premise</th>\n",
       "      <th>NumOffenses</th>\n",
       "      <th>Hour</th>\n",
       "      <th>Premise Description</th>\n",
       "    </tr>\n",
       "  </thead>\n",
       "  <tbody>\n",
       "    <tr>\n",
       "      <th>135899</th>\n",
       "      <td>2010-04-29</td>\n",
       "      <td>18F50</td>\n",
       "      <td>3200-3299</td>\n",
       "      <td>GESSNER</td>\n",
       "      <td>Theft</td>\n",
       "      <td>---</td>\n",
       "      <td>1.0</td>\n",
       "      <td>21.0</td>\n",
       "      <td>NaN</td>\n",
       "    </tr>\n",
       "    <tr>\n",
       "      <th>135900</th>\n",
       "      <td>2010-07-29</td>\n",
       "      <td>19G10</td>\n",
       "      <td>8800-8899</td>\n",
       "      <td>BOONE</td>\n",
       "      <td>Rape</td>\n",
       "      <td>---</td>\n",
       "      <td>1.0</td>\n",
       "      <td>18.0</td>\n",
       "      <td>NaN</td>\n",
       "    </tr>\n",
       "    <tr>\n",
       "      <th>135901</th>\n",
       "      <td>2010-08-18</td>\n",
       "      <td>20G10</td>\n",
       "      <td>10000-10099</td>\n",
       "      <td>WESTPARK</td>\n",
       "      <td>Aggravated Assault</td>\n",
       "      <td>---</td>\n",
       "      <td>1.0</td>\n",
       "      <td>18.0</td>\n",
       "      <td>NaN</td>\n",
       "    </tr>\n",
       "    <tr>\n",
       "      <th>135902</th>\n",
       "      <td>2010-08-23</td>\n",
       "      <td>16E30</td>\n",
       "      <td>5100-5199</td>\n",
       "      <td>KELLING</td>\n",
       "      <td>Aggravated Assault</td>\n",
       "      <td>---</td>\n",
       "      <td>1.0</td>\n",
       "      <td>8.0</td>\n",
       "      <td>NaN</td>\n",
       "    </tr>\n",
       "    <tr>\n",
       "      <th>135903</th>\n",
       "      <td>2007-02-05</td>\n",
       "      <td>1A30</td>\n",
       "      <td>2400-2499</td>\n",
       "      <td>RICHMOND</td>\n",
       "      <td>Auto Theft</td>\n",
       "      <td>---</td>\n",
       "      <td>1.0</td>\n",
       "      <td>8.0</td>\n",
       "      <td>NaN</td>\n",
       "    </tr>\n",
       "  </tbody>\n",
       "</table>\n",
       "</div>"
      ],
      "text/plain": [
       "             Date   Beat   BlockRange StreetName         OffenseType Premise  \\\n",
       "135899 2010-04-29  18F50    3200-3299    GESSNER               Theft     ---   \n",
       "135900 2010-07-29  19G10    8800-8899      BOONE                Rape     ---   \n",
       "135901 2010-08-18  20G10  10000-10099   WESTPARK  Aggravated Assault     ---   \n",
       "135902 2010-08-23  16E30    5100-5199    KELLING  Aggravated Assault     ---   \n",
       "135903 2007-02-05   1A30    2400-2499   RICHMOND          Auto Theft     ---   \n",
       "\n",
       "        NumOffenses  Hour Premise Description  \n",
       "135899          1.0  21.0                 NaN  \n",
       "135900          1.0  18.0                 NaN  \n",
       "135901          1.0  18.0                 NaN  \n",
       "135902          1.0   8.0                 NaN  \n",
       "135903          1.0   8.0                 NaN  "
      ]
     },
     "execution_count": 20,
     "metadata": {},
     "output_type": "execute_result"
    }
   ],
   "source": [
    "crimes[crimes['Premise'] == '---'].head()"
   ]
  },
  {
   "cell_type": "code",
   "execution_count": 21,
   "metadata": {},
   "outputs": [
    {
     "data": {
      "text/plain": [
       "45"
      ]
     },
     "execution_count": 21,
     "metadata": {},
     "output_type": "execute_result"
    }
   ],
   "source": [
    "len(crimes[crimes['Premise'] == '---'])"
   ]
  },
  {
   "cell_type": "code",
   "execution_count": 22,
   "metadata": {},
   "outputs": [
    {
     "data": {
      "text/plain": [
       "0"
      ]
     },
     "execution_count": 22,
     "metadata": {},
     "output_type": "execute_result"
    }
   ],
   "source": [
    "len(crimes[crimes['Premise'] == 'N'])"
   ]
  },
  {
   "cell_type": "code",
   "execution_count": 23,
   "metadata": {},
   "outputs": [],
   "source": [
    "crimes.loc[crimes['Premise Description'].isnull(),'Premise Description'] = crimes['Premise']"
   ]
  },
  {
   "cell_type": "code",
   "execution_count": 24,
   "metadata": {},
   "outputs": [
    {
     "data": {
      "text/plain": [
       "1"
      ]
     },
     "execution_count": 24,
     "metadata": {},
     "output_type": "execute_result"
    }
   ],
   "source": [
    "len(crimes[crimes['Premise Description'].isnull()])"
   ]
  },
  {
   "cell_type": "code",
   "execution_count": 25,
   "metadata": {},
   "outputs": [
    {
     "data": {
      "image/png": "[encoded data removed]",
      "text/plain": [
       "<Figure size 432x288 with 1 Axes>"
      ]
     },
     "metadata": {},
     "output_type": "display_data"
    }
   ],
   "source": [
    "sns.heatmap(crimes.isnull(),yticklabels=False,cbar=False,cmap='viridis')\n",
    "plt.title('Nulls display')\n",
    "plt.show()"
   ]
  },
  {
   "cell_type": "code",
   "execution_count": 26,
   "metadata": {},
   "outputs": [
    {
     "data": {
      "text/plain": [
       "Date                   2\n",
       "Beat                   2\n",
       "BlockRange             2\n",
       "StreetName             2\n",
       "OffenseType            2\n",
       "Premise                1\n",
       "NumOffenses            2\n",
       "Hour                   2\n",
       "Premise Description    1\n",
       "dtype: int64"
      ]
     },
     "execution_count": 26,
     "metadata": {},
     "output_type": "execute_result"
    }
   ],
   "source": [
    "crimes.apply(lambda x: sum(x.isnull()))"
   ]
  },
  {
   "cell_type": "markdown",
   "metadata": {},
   "source": [
    "## drop rows with 2 or 3 missing values"
   ]
  },
  {
   "cell_type": "code",
   "execution_count": 27,
   "metadata": {},
   "outputs": [],
   "source": [
    "#crimes = crimes.dropna(thresh=3)\n",
    "crimes = crimes.dropna(subset=['Date'])"
   ]
  },
  {
   "cell_type": "code",
   "execution_count": 28,
   "metadata": {},
   "outputs": [
    {
     "data": {
      "text/plain": [
       "Date                   0\n",
       "Beat                   0\n",
       "BlockRange             0\n",
       "StreetName             0\n",
       "OffenseType            0\n",
       "Premise                0\n",
       "NumOffenses            0\n",
       "Hour                   0\n",
       "Premise Description    0\n",
       "dtype: int64"
      ]
     },
     "execution_count": 28,
     "metadata": {},
     "output_type": "execute_result"
    }
   ],
   "source": [
    "crimes.apply(lambda x: sum(x.isnull()))"
   ]
  },
  {
   "cell_type": "code",
   "execution_count": 29,
   "metadata": {},
   "outputs": [],
   "source": [
    "crimes = crimes.dropna(thresh=3)"
   ]
  },
  {
   "cell_type": "code",
   "execution_count": 30,
   "metadata": {},
   "outputs": [
    {
     "data": {
      "text/plain": [
       "Date                   0\n",
       "Beat                   0\n",
       "BlockRange             0\n",
       "StreetName             0\n",
       "OffenseType            0\n",
       "Premise                0\n",
       "NumOffenses            0\n",
       "Hour                   0\n",
       "Premise Description    0\n",
       "dtype: int64"
      ]
     },
     "execution_count": 30,
     "metadata": {},
     "output_type": "execute_result"
    }
   ],
   "source": [
    "crimes.apply(lambda x: sum(x.isnull()))"
   ]
  },
  {
   "cell_type": "markdown",
   "metadata": {},
   "source": [
    "# FIND NAN"
   ]
  },
  {
   "cell_type": "markdown",
   "metadata": {},
   "source": [
    "## Find NaN\n",
    "- drop if > 2 nan"
   ]
  },
  {
   "cell_type": "code",
   "execution_count": 31,
   "metadata": {},
   "outputs": [
    {
     "data": {
      "text/plain": [
       "Date                   0\n",
       "Beat                   0\n",
       "BlockRange             0\n",
       "StreetName             0\n",
       "OffenseType            0\n",
       "Premise                0\n",
       "NumOffenses            0\n",
       "Hour                   0\n",
       "Premise Description    0\n",
       "dtype: int64"
      ]
     },
     "execution_count": 31,
     "metadata": {},
     "output_type": "execute_result"
    }
   ],
   "source": [
    "crimes.apply(lambda x: sum(x.isnull()))"
   ]
  },
  {
   "cell_type": "code",
   "execution_count": 32,
   "metadata": {},
   "outputs": [
    {
     "data": {
      "text/html": [
       "<div>\n",
       "<style scoped>\n",
       "    .dataframe tbody tr th:only-of-type {\n",
       "        vertical-align: middle;\n",
       "    }\n",
       "\n",
       "    .dataframe tbody tr th {\n",
       "        vertical-align: top;\n",
       "    }\n",
       "\n",
       "    .dataframe thead th {\n",
       "        text-align: right;\n",
       "    }\n",
       "</style>\n",
       "<table border=\"1\" class=\"dataframe\">\n",
       "  <thead>\n",
       "    <tr style=\"text-align: right;\">\n",
       "      <th></th>\n",
       "      <th>Date</th>\n",
       "      <th>Beat</th>\n",
       "      <th>BlockRange</th>\n",
       "      <th>StreetName</th>\n",
       "      <th>OffenseType</th>\n",
       "      <th>Premise</th>\n",
       "      <th>NumOffenses</th>\n",
       "      <th>Hour</th>\n",
       "      <th>Premise Description</th>\n",
       "    </tr>\n",
       "  </thead>\n",
       "  <tbody>\n",
       "  </tbody>\n",
       "</table>\n",
       "</div>"
      ],
      "text/plain": [
       "Empty DataFrame\n",
       "Columns: [Date, Beat, BlockRange, StreetName, OffenseType, Premise, NumOffenses, Hour, Premise Description]\n",
       "Index: []"
      ]
     },
     "execution_count": 32,
     "metadata": {},
     "output_type": "execute_result"
    }
   ],
   "source": [
    "crimes[crimes.isnull().any(axis=1)].head()"
   ]
  },
  {
   "cell_type": "markdown",
   "metadata": {},
   "source": [
    "## Problem\n",
    "- find nan values and fix"
   ]
  },
  {
   "cell_type": "code",
   "execution_count": 33,
   "metadata": {},
   "outputs": [],
   "source": [
    "null_premise = crimes.Premise.isnull()"
   ]
  },
  {
   "cell_type": "code",
   "execution_count": 34,
   "metadata": {},
   "outputs": [],
   "source": [
    "crimes['Premise'] = crimes[\"Premise\"].fillna('none')\n",
    "crimes['Premise Description'] = crimes[\"Premise Description\"].fillna('none')"
   ]
  },
  {
   "cell_type": "code",
   "execution_count": 35,
   "metadata": {},
   "outputs": [
    {
     "data": {
      "text/plain": [
       "Date                   0\n",
       "Beat                   0\n",
       "BlockRange             0\n",
       "StreetName             0\n",
       "OffenseType            0\n",
       "Premise                0\n",
       "NumOffenses            0\n",
       "Hour                   0\n",
       "Premise Description    0\n",
       "dtype: int64"
      ]
     },
     "execution_count": 35,
     "metadata": {},
     "output_type": "execute_result"
    }
   ],
   "source": [
    "crimes.apply(lambda x: sum(x.isnull()))"
   ]
  },
  {
   "cell_type": "markdown",
   "metadata": {},
   "source": [
    "## Inspect each column"
   ]
  },
  {
   "cell_type": "code",
   "execution_count": 36,
   "metadata": {},
   "outputs": [
    {
     "data": {
      "text/plain": [
       "Date                   datetime64[ns]\n",
       "Beat                           object\n",
       "BlockRange                     object\n",
       "StreetName                     object\n",
       "OffenseType                    object\n",
       "Premise                        object\n",
       "NumOffenses                   float64\n",
       "Hour                          float64\n",
       "Premise Description            object\n",
       "dtype: object"
      ]
     },
     "execution_count": 36,
     "metadata": {},
     "output_type": "execute_result"
    }
   ],
   "source": [
    "crimes.dtypes"
   ]
  },
  {
   "cell_type": "markdown",
   "metadata": {},
   "source": [
    "## Beat column\n",
    "- total beats should be around 120"
   ]
  },
  {
   "cell_type": "code",
   "execution_count": 37,
   "metadata": {},
   "outputs": [
    {
     "data": {
      "text/plain": [
       "122"
      ]
     },
     "execution_count": 37,
     "metadata": {},
     "output_type": "execute_result"
    }
   ],
   "source": [
    "len(crimes.Beat.value_counts())"
   ]
  },
  {
   "cell_type": "code",
   "execution_count": 38,
   "metadata": {},
   "outputs": [
    {
     "data": {
      "text/plain": [
       "122"
      ]
     },
     "execution_count": 38,
     "metadata": {},
     "output_type": "execute_result"
    }
   ],
   "source": [
    "len(crimes.Beat.value_counts(dropna=False))"
   ]
  },
  {
   "cell_type": "code",
   "execution_count": 39,
   "metadata": {},
   "outputs": [
    {
     "data": {
      "text/plain": [
       "array(['13D20', '14D20', '6B40', '13D10', '3B10', '10H10', '3B30',\n",
       "       '15E40', '3B50', '9C20'], dtype=object)"
      ]
     },
     "execution_count": 39,
     "metadata": {},
     "output_type": "execute_result"
    }
   ],
   "source": [
    "crimes.Beat.unique()[:10]"
   ]
  },
  {
   "cell_type": "code",
   "execution_count": 40,
   "metadata": {},
   "outputs": [],
   "source": [
    "# replace extra ' with empty space\n",
    "crimes['Beat'] = crimes.Beat.str.replace(\"'\", \" \")"
   ]
  },
  {
   "cell_type": "code",
   "execution_count": 41,
   "metadata": {},
   "outputs": [
    {
     "data": {
      "text/plain": [
       "122"
      ]
     },
     "execution_count": 41,
     "metadata": {},
     "output_type": "execute_result"
    }
   ],
   "source": [
    "len(crimes.Beat.value_counts(dropna=False))"
   ]
  },
  {
   "cell_type": "code",
   "execution_count": 42,
   "metadata": {},
   "outputs": [],
   "source": [
    "# strip empty spaces\n",
    "crimes.Beat = crimes.Beat.str.strip()"
   ]
  },
  {
   "cell_type": "code",
   "execution_count": 43,
   "metadata": {},
   "outputs": [
    {
     "data": {
      "text/plain": [
       "122"
      ]
     },
     "execution_count": 43,
     "metadata": {},
     "output_type": "execute_result"
    }
   ],
   "source": [
    "len(crimes.Beat.value_counts(dropna=False))  # get the total"
   ]
  },
  {
   "cell_type": "code",
   "execution_count": 44,
   "metadata": {},
   "outputs": [
    {
     "data": {
      "text/plain": [
       "array(['13D20', '14D20', '6B40', '13D10', '3B10', '10H10', '3B30',\n",
       "       '15E40', '3B50', '9C20', '10H70', '5F30', '9C10', '3B40', '4F30',\n",
       "       '14D10', '5F20', '13D30', '7C10', '6B30', '10H30', '14D50', '6B20',\n",
       "       '18F50', '2A60', '11H10', '19G50', '9C30', '7C20', '16E10',\n",
       "       '11H50', '10H20', '2A40', '20G10', '6B60', '11H20', '14D30',\n",
       "       '18F30', '20G30', '8C40', '13D40', '2A30', '18F10', '15E30',\n",
       "       '16E30', '2A20', '7C50', '7C30', '17E20', '2A10', '17E30', '16E20',\n",
       "       '15E20', '1A50', '5F10', '14D40', '4F20', '2A50', '19G40', '5F40',\n",
       "       '18F60', '20G40', '17E10', '10H50', '20G50', '8C20', '20G70',\n",
       "       '20G60', '7C40', '8C10', '6B10', '4F10', '18F40', '15E10', '12D40',\n",
       "       '11H40', '19G30', '16E40', 'UNK', '9C40', '12D10', '8C60', '10H80',\n",
       "       '8C50', '18F20', '17E40', '1A20', '24C10', '8C30', '11H30',\n",
       "       '24C40', '12D50', '10H60', '12D20', '24C30', '12D70', '20G20',\n",
       "       '20G80', '19G10', '19G20', '10H40', '6B50', '12D60', '1A30',\n",
       "       '23J40', '24C20', '12D30', '1A40', '24C50', '1A10', '21I50',\n",
       "       '21I20', '21I30', '21I10', '23J50', '21I40', '21I60', '23J10',\n",
       "       '23J30', '21I70', '23J20', '7C60'], dtype=object)"
      ]
     },
     "execution_count": 44,
     "metadata": {},
     "output_type": "execute_result"
    }
   ],
   "source": [
    "crimes.Beat.unique()"
   ]
  },
  {
   "cell_type": "code",
   "execution_count": 45,
   "metadata": {},
   "outputs": [
    {
     "data": {
      "text/plain": [
       "19G10    3010\n",
       "12D10    2889\n",
       "6B60     2732\n",
       "3B10     2702\n",
       "1A20     2612\n",
       "Name: Beat, dtype: int64"
      ]
     },
     "execution_count": 45,
     "metadata": {},
     "output_type": "execute_result"
    }
   ],
   "source": [
    "crimes.Beat.value_counts(dropna=False).head()"
   ]
  },
  {
   "cell_type": "markdown",
   "metadata": {},
   "source": [
    "## BlockRange"
   ]
  },
  {
   "cell_type": "code",
   "execution_count": 46,
   "metadata": {},
   "outputs": [
    {
     "data": {
      "text/plain": [
       "249"
      ]
     },
     "execution_count": 46,
     "metadata": {},
     "output_type": "execute_result"
    }
   ],
   "source": [
    "len(crimes.BlockRange.value_counts(dropna=False))"
   ]
  },
  {
   "cell_type": "code",
   "execution_count": 47,
   "metadata": {},
   "outputs": [
    {
     "data": {
      "text/plain": [
       "900-999      2079\n",
       "7900-7999    1741\n",
       "100-199      1734\n",
       "800-899      1679\n",
       "9400-9499    1669\n",
       "Name: BlockRange, dtype: int64"
      ]
     },
     "execution_count": 47,
     "metadata": {},
     "output_type": "execute_result"
    }
   ],
   "source": [
    "crimes.BlockRange.value_counts(dropna=False).head()"
   ]
  },
  {
   "cell_type": "code",
   "execution_count": 48,
   "metadata": {},
   "outputs": [],
   "source": [
    "# strip\n",
    "crimes.BlockRange =crimes.BlockRange.str.strip()"
   ]
  },
  {
   "cell_type": "code",
   "execution_count": 49,
   "metadata": {},
   "outputs": [
    {
     "data": {
      "text/plain": [
       "249"
      ]
     },
     "execution_count": 49,
     "metadata": {},
     "output_type": "execute_result"
    }
   ],
   "source": [
    "len(crimes.BlockRange.value_counts(dropna=False))"
   ]
  },
  {
   "cell_type": "markdown",
   "metadata": {},
   "source": [
    "## StreetName"
   ]
  },
  {
   "cell_type": "code",
   "execution_count": 50,
   "metadata": {},
   "outputs": [
    {
     "name": "stdout",
     "output_type": "stream",
     "text": [
      "before:7832\n"
     ]
    }
   ],
   "source": [
    "print('before:{}'.format(len(crimes.StreetName.value_counts(dropna=False))))"
   ]
  },
  {
   "cell_type": "code",
   "execution_count": 51,
   "metadata": {},
   "outputs": [],
   "source": [
    "# remove extra spaces\n",
    "crimes.StreetName = crimes.StreetName.str.strip()\n",
    "\n",
    "\n",
    "# make all lower case\n",
    "crimes.StreetName = crimes.StreetName.str.lower()"
   ]
  },
  {
   "cell_type": "code",
   "execution_count": 52,
   "metadata": {},
   "outputs": [
    {
     "name": "stdout",
     "output_type": "stream",
     "text": [
      "after:7832\n"
     ]
    }
   ],
   "source": [
    "print('after:{}'.format(len(crimes.StreetName.value_counts(dropna=False))))"
   ]
  },
  {
   "cell_type": "code",
   "execution_count": 53,
   "metadata": {},
   "outputs": [
    {
     "name": "stdout",
     "output_type": "stream",
     "text": [
      "westheimer    3716\n",
      "gessner       2226\n",
      "gulf          1931\n",
      "richmond      1683\n",
      "southwest     1515\n",
      "Name: StreetName, dtype: int64\n"
     ]
    }
   ],
   "source": [
    "print(crimes.StreetName.value_counts(dropna=False).head())"
   ]
  },
  {
   "cell_type": "markdown",
   "metadata": {},
   "source": [
    "## OffenseType\n",
    "Total 7\n",
    "- Theft\n",
    "- Burlary\n",
    "- Aggravated Assalult\n",
    "- Robbery\n",
    "- Auto Theft\n",
    "- Rape\n",
    "- Murder\n"
   ]
  },
  {
   "cell_type": "code",
   "execution_count": 54,
   "metadata": {},
   "outputs": [
    {
     "name": "stdout",
     "output_type": "stream",
     "text": [
      "before:7\n"
     ]
    }
   ],
   "source": [
    "print('before:{}'.format(len(crimes.OffenseType.value_counts(dropna=False))))"
   ]
  },
  {
   "cell_type": "code",
   "execution_count": 55,
   "metadata": {},
   "outputs": [],
   "source": [
    "crimes.OffenseType = crimes.OffenseType.str.strip()"
   ]
  },
  {
   "cell_type": "code",
   "execution_count": 56,
   "metadata": {},
   "outputs": [
    {
     "name": "stdout",
     "output_type": "stream",
     "text": [
      "after:7\n"
     ]
    }
   ],
   "source": [
    "print('after:{}'.format(len(crimes.OffenseType.value_counts(dropna=False))))"
   ]
  },
  {
   "cell_type": "code",
   "execution_count": 57,
   "metadata": {},
   "outputs": [
    {
     "name": "stdout",
     "output_type": "stream",
     "text": [
      "Theft                 74581\n",
      "Burglary              27924\n",
      "Auto Theft            12424\n",
      "Aggravated Assault    10915\n",
      "Robbery                9449\n",
      "Rape                    709\n",
      "Murder                  260\n",
      "Name: OffenseType, dtype: int64\n"
     ]
    }
   ],
   "source": [
    "print(crimes.OffenseType.value_counts(dropna=False))"
   ]
  },
  {
   "cell_type": "code",
   "execution_count": 58,
   "metadata": {},
   "outputs": [],
   "source": [
    "# join Auto Theft & AutoTheft\n",
    "crimes.OffenseType = crimes.OffenseType.replace('AutoTheft','Auto Theft')"
   ]
  },
  {
   "cell_type": "markdown",
   "metadata": {},
   "source": [
    "#### fill nans with most common value"
   ]
  },
  {
   "cell_type": "code",
   "execution_count": 59,
   "metadata": {},
   "outputs": [],
   "source": [
    "crimes = crimes.fillna(crimes['OffenseType'].value_counts().index[0])"
   ]
  },
  {
   "cell_type": "code",
   "execution_count": 60,
   "metadata": {},
   "outputs": [
    {
     "name": "stdout",
     "output_type": "stream",
     "text": [
      "Theft                 74581\n",
      "Burglary              27924\n",
      "Auto Theft            12424\n",
      "Aggravated Assault    10915\n",
      "Robbery                9449\n",
      "Rape                    709\n",
      "Murder                  260\n",
      "Name: OffenseType, dtype: int64\n"
     ]
    }
   ],
   "source": [
    "print(crimes.OffenseType.value_counts(dropna=False))"
   ]
  },
  {
   "cell_type": "markdown",
   "metadata": {},
   "source": [
    "## Premise"
   ]
  },
  {
   "cell_type": "code",
   "execution_count": 61,
   "metadata": {},
   "outputs": [
    {
     "name": "stdout",
     "output_type": "stream",
     "text": [
      "before:128\n"
     ]
    }
   ],
   "source": [
    "print('before:{}'.format(len(crimes['Premise Description'].value_counts(dropna=False))))\n",
    "\n",
    "crimes['Premise Description'] = crimes['Premise Description'].str.strip()\n",
    "\n",
    "crimes['Premise Description'] = crimes['Premise Description'].str.lower()"
   ]
  },
  {
   "cell_type": "code",
   "execution_count": 62,
   "metadata": {},
   "outputs": [
    {
     "name": "stdout",
     "output_type": "stream",
     "text": [
      "after:128\n"
     ]
    }
   ],
   "source": [
    "print('after:{}'.format(len(crimes['Premise Description'].value_counts(dropna=False))))"
   ]
  },
  {
   "cell_type": "code",
   "execution_count": 63,
   "metadata": {},
   "outputs": [
    {
     "data": {
      "text/plain": [
       "apartment                17848\n",
       "residence/house          17426\n",
       "apartment parking lot    15614\n",
       "road/street/sidewalk     10029\n",
       "driveway                  9793\n",
       "Name: Premise Description, dtype: int64"
      ]
     },
     "execution_count": 63,
     "metadata": {},
     "output_type": "execute_result"
    }
   ],
   "source": [
    "crimes['Premise Description'].value_counts(dropna=False).head()"
   ]
  },
  {
   "cell_type": "markdown",
   "metadata": {},
   "source": [
    "# Date column"
   ]
  },
  {
   "cell_type": "code",
   "execution_count": 64,
   "metadata": {},
   "outputs": [
    {
     "data": {
      "text/plain": [
       "Date                   datetime64[ns]\n",
       "Beat                           object\n",
       "BlockRange                     object\n",
       "StreetName                     object\n",
       "OffenseType                    object\n",
       "Premise                        object\n",
       "NumOffenses                   float64\n",
       "Hour                          float64\n",
       "Premise Description            object\n",
       "dtype: object"
      ]
     },
     "execution_count": 64,
     "metadata": {},
     "output_type": "execute_result"
    }
   ],
   "source": [
    "crimes.dtypes"
   ]
  },
  {
   "cell_type": "markdown",
   "metadata": {},
   "source": [
    "## Date\n",
    "- make datetime index"
   ]
  },
  {
   "cell_type": "code",
   "execution_count": 65,
   "metadata": {},
   "outputs": [],
   "source": [
    "# date\n",
    "crimes.Date = pd.to_datetime(crimes.Date)\n",
    "\n",
    "crimes = crimes.set_index('Date').sort_index(ascending=True)"
   ]
  },
  {
   "cell_type": "code",
   "execution_count": 66,
   "metadata": {},
   "outputs": [
    {
     "data": {
      "text/html": [
       "<div>\n",
       "<style scoped>\n",
       "    .dataframe tbody tr th:only-of-type {\n",
       "        vertical-align: middle;\n",
       "    }\n",
       "\n",
       "    .dataframe tbody tr th {\n",
       "        vertical-align: top;\n",
       "    }\n",
       "\n",
       "    .dataframe thead th {\n",
       "        text-align: right;\n",
       "    }\n",
       "</style>\n",
       "<table border=\"1\" class=\"dataframe\">\n",
       "  <thead>\n",
       "    <tr style=\"text-align: right;\">\n",
       "      <th></th>\n",
       "      <th>Beat</th>\n",
       "      <th>BlockRange</th>\n",
       "      <th>StreetName</th>\n",
       "      <th>OffenseType</th>\n",
       "      <th>Premise</th>\n",
       "      <th>NumOffenses</th>\n",
       "      <th>Hour</th>\n",
       "      <th>Premise Description</th>\n",
       "    </tr>\n",
       "    <tr>\n",
       "      <th>Date</th>\n",
       "      <th></th>\n",
       "      <th></th>\n",
       "      <th></th>\n",
       "      <th></th>\n",
       "      <th></th>\n",
       "      <th></th>\n",
       "      <th></th>\n",
       "      <th></th>\n",
       "    </tr>\n",
       "  </thead>\n",
       "  <tbody>\n",
       "    <tr>\n",
       "      <th>1959-06-06</th>\n",
       "      <td>18F20</td>\n",
       "      <td>5100-5199</td>\n",
       "      <td>richmond</td>\n",
       "      <td>Theft</td>\n",
       "      <td>080</td>\n",
       "      <td>1.0</td>\n",
       "      <td>14.0</td>\n",
       "      <td>department/discount store</td>\n",
       "    </tr>\n",
       "    <tr>\n",
       "      <th>1966-01-01</th>\n",
       "      <td>10H50</td>\n",
       "      <td>3300-3399</td>\n",
       "      <td>alabama</td>\n",
       "      <td>Rape</td>\n",
       "      <td>20A</td>\n",
       "      <td>1.0</td>\n",
       "      <td>0.0</td>\n",
       "      <td>apartment</td>\n",
       "    </tr>\n",
       "    <tr>\n",
       "      <th>1966-07-18</th>\n",
       "      <td>13D40</td>\n",
       "      <td>10200-10299</td>\n",
       "      <td>telephone</td>\n",
       "      <td>Auto Theft</td>\n",
       "      <td>18A</td>\n",
       "      <td>1.0</td>\n",
       "      <td>13.0</td>\n",
       "      <td>apartment parking lot</td>\n",
       "    </tr>\n",
       "    <tr>\n",
       "      <th>1969-07-22</th>\n",
       "      <td>2A30</td>\n",
       "      <td>1500-1599</td>\n",
       "      <td>nicholson</td>\n",
       "      <td>Theft</td>\n",
       "      <td>20R</td>\n",
       "      <td>1.0</td>\n",
       "      <td>0.0</td>\n",
       "      <td>residence/house</td>\n",
       "    </tr>\n",
       "    <tr>\n",
       "      <th>1969-11-26</th>\n",
       "      <td>3B50</td>\n",
       "      <td>7100-7199</td>\n",
       "      <td>irvington</td>\n",
       "      <td>Theft</td>\n",
       "      <td>13R</td>\n",
       "      <td>1.0</td>\n",
       "      <td>15.0</td>\n",
       "      <td>road/street/sidewalk</td>\n",
       "    </tr>\n",
       "  </tbody>\n",
       "</table>\n",
       "</div>"
      ],
      "text/plain": [
       "             Beat   BlockRange StreetName OffenseType Premise  NumOffenses  \\\n",
       "Date                                                                         \n",
       "1959-06-06  18F20    5100-5199   richmond       Theft     080          1.0   \n",
       "1966-01-01  10H50    3300-3399    alabama        Rape     20A          1.0   \n",
       "1966-07-18  13D40  10200-10299  telephone  Auto Theft     18A          1.0   \n",
       "1969-07-22   2A30    1500-1599  nicholson       Theft     20R          1.0   \n",
       "1969-11-26   3B50    7100-7199  irvington       Theft     13R          1.0   \n",
       "\n",
       "            Hour        Premise Description  \n",
       "Date                                         \n",
       "1959-06-06  14.0  department/discount store  \n",
       "1966-01-01   0.0                  apartment  \n",
       "1966-07-18  13.0      apartment parking lot  \n",
       "1969-07-22   0.0            residence/house  \n",
       "1969-11-26  15.0       road/street/sidewalk  "
      ]
     },
     "execution_count": 66,
     "metadata": {},
     "output_type": "execute_result"
    }
   ],
   "source": [
    "crimes.head()"
   ]
  },
  {
   "cell_type": "markdown",
   "metadata": {},
   "source": [
    "## Create Columns with day,weekday,month,year from datetime index\n",
    "\n",
    "It allows us to view incorect reports by date better"
   ]
  },
  {
   "cell_type": "code",
   "execution_count": null,
   "metadata": {},
   "outputs": [],
   "source": []
  },
  {
   "cell_type": "code",
   "execution_count": 67,
   "metadata": {},
   "outputs": [],
   "source": [
    "# get day, weekday,month ,year\n",
    "\n",
    "crimes['day'] = crimes.index.strftime('%d')\n",
    "crimes['weekday'] = crimes.index.strftime('%A')\n",
    "crimes['month'] = crimes.index.strftime('%b')\n",
    "crimes['year'] = crimes.index.strftime('%Y')"
   ]
  },
  {
   "cell_type": "code",
   "execution_count": 68,
   "metadata": {},
   "outputs": [
    {
     "data": {
      "text/html": [
       "<div>\n",
       "<style scoped>\n",
       "    .dataframe tbody tr th:only-of-type {\n",
       "        vertical-align: middle;\n",
       "    }\n",
       "\n",
       "    .dataframe tbody tr th {\n",
       "        vertical-align: top;\n",
       "    }\n",
       "\n",
       "    .dataframe thead th {\n",
       "        text-align: right;\n",
       "    }\n",
       "</style>\n",
       "<table border=\"1\" class=\"dataframe\">\n",
       "  <thead>\n",
       "    <tr style=\"text-align: right;\">\n",
       "      <th></th>\n",
       "      <th>Beat</th>\n",
       "      <th>BlockRange</th>\n",
       "      <th>StreetName</th>\n",
       "      <th>OffenseType</th>\n",
       "      <th>Premise</th>\n",
       "      <th>NumOffenses</th>\n",
       "      <th>Hour</th>\n",
       "      <th>Premise Description</th>\n",
       "      <th>day</th>\n",
       "      <th>weekday</th>\n",
       "      <th>month</th>\n",
       "      <th>year</th>\n",
       "    </tr>\n",
       "    <tr>\n",
       "      <th>Date</th>\n",
       "      <th></th>\n",
       "      <th></th>\n",
       "      <th></th>\n",
       "      <th></th>\n",
       "      <th></th>\n",
       "      <th></th>\n",
       "      <th></th>\n",
       "      <th></th>\n",
       "      <th></th>\n",
       "      <th></th>\n",
       "      <th></th>\n",
       "      <th></th>\n",
       "    </tr>\n",
       "  </thead>\n",
       "  <tbody>\n",
       "    <tr>\n",
       "      <th>1959-06-06</th>\n",
       "      <td>18F20</td>\n",
       "      <td>5100-5199</td>\n",
       "      <td>richmond</td>\n",
       "      <td>Theft</td>\n",
       "      <td>080</td>\n",
       "      <td>1.0</td>\n",
       "      <td>14.0</td>\n",
       "      <td>department/discount store</td>\n",
       "      <td>06</td>\n",
       "      <td>Saturday</td>\n",
       "      <td>Jun</td>\n",
       "      <td>1959</td>\n",
       "    </tr>\n",
       "    <tr>\n",
       "      <th>1966-01-01</th>\n",
       "      <td>10H50</td>\n",
       "      <td>3300-3399</td>\n",
       "      <td>alabama</td>\n",
       "      <td>Rape</td>\n",
       "      <td>20A</td>\n",
       "      <td>1.0</td>\n",
       "      <td>0.0</td>\n",
       "      <td>apartment</td>\n",
       "      <td>01</td>\n",
       "      <td>Saturday</td>\n",
       "      <td>Jan</td>\n",
       "      <td>1966</td>\n",
       "    </tr>\n",
       "    <tr>\n",
       "      <th>1966-07-18</th>\n",
       "      <td>13D40</td>\n",
       "      <td>10200-10299</td>\n",
       "      <td>telephone</td>\n",
       "      <td>Auto Theft</td>\n",
       "      <td>18A</td>\n",
       "      <td>1.0</td>\n",
       "      <td>13.0</td>\n",
       "      <td>apartment parking lot</td>\n",
       "      <td>18</td>\n",
       "      <td>Monday</td>\n",
       "      <td>Jul</td>\n",
       "      <td>1966</td>\n",
       "    </tr>\n",
       "    <tr>\n",
       "      <th>1969-07-22</th>\n",
       "      <td>2A30</td>\n",
       "      <td>1500-1599</td>\n",
       "      <td>nicholson</td>\n",
       "      <td>Theft</td>\n",
       "      <td>20R</td>\n",
       "      <td>1.0</td>\n",
       "      <td>0.0</td>\n",
       "      <td>residence/house</td>\n",
       "      <td>22</td>\n",
       "      <td>Tuesday</td>\n",
       "      <td>Jul</td>\n",
       "      <td>1969</td>\n",
       "    </tr>\n",
       "    <tr>\n",
       "      <th>1969-11-26</th>\n",
       "      <td>3B50</td>\n",
       "      <td>7100-7199</td>\n",
       "      <td>irvington</td>\n",
       "      <td>Theft</td>\n",
       "      <td>13R</td>\n",
       "      <td>1.0</td>\n",
       "      <td>15.0</td>\n",
       "      <td>road/street/sidewalk</td>\n",
       "      <td>26</td>\n",
       "      <td>Wednesday</td>\n",
       "      <td>Nov</td>\n",
       "      <td>1969</td>\n",
       "    </tr>\n",
       "  </tbody>\n",
       "</table>\n",
       "</div>"
      ],
      "text/plain": [
       "             Beat   BlockRange StreetName OffenseType Premise  NumOffenses  \\\n",
       "Date                                                                         \n",
       "1959-06-06  18F20    5100-5199   richmond       Theft     080          1.0   \n",
       "1966-01-01  10H50    3300-3399    alabama        Rape     20A          1.0   \n",
       "1966-07-18  13D40  10200-10299  telephone  Auto Theft     18A          1.0   \n",
       "1969-07-22   2A30    1500-1599  nicholson       Theft     20R          1.0   \n",
       "1969-11-26   3B50    7100-7199  irvington       Theft     13R          1.0   \n",
       "\n",
       "            Hour        Premise Description day    weekday month  year  \n",
       "Date                                                                    \n",
       "1959-06-06  14.0  department/discount store  06   Saturday   Jun  1959  \n",
       "1966-01-01   0.0                  apartment  01   Saturday   Jan  1966  \n",
       "1966-07-18  13.0      apartment parking lot  18     Monday   Jul  1966  \n",
       "1969-07-22   0.0            residence/house  22    Tuesday   Jul  1969  \n",
       "1969-11-26  15.0       road/street/sidewalk  26  Wednesday   Nov  1969  "
      ]
     },
     "execution_count": 68,
     "metadata": {},
     "output_type": "execute_result"
    }
   ],
   "source": [
    "crimes.head()"
   ]
  },
  {
   "cell_type": "code",
   "execution_count": 69,
   "metadata": {},
   "outputs": [
    {
     "data": {
      "text/plain": [
       "2010    134543\n",
       "2009      1486\n",
       "2008        68\n",
       "2007        30\n",
       "2001        29\n",
       "2006        21\n",
       "2005        19\n",
       "2004        14\n",
       "2000        12\n",
       "2003         9\n",
       "2002         7\n",
       "1995         3\n",
       "1990         2\n",
       "2011         2\n",
       "1980         2\n",
       "1974         2\n",
       "1966         2\n",
       "1983         2\n",
       "1969         2\n",
       "1985         1\n",
       "1977         1\n",
       "1991         1\n",
       "1998         1\n",
       "1959         1\n",
       "1999         1\n",
       "1996         1\n",
       "Name: year, dtype: int64"
      ]
     },
     "execution_count": 69,
     "metadata": {},
     "output_type": "execute_result"
    }
   ],
   "source": [
    "crimes.year.value_counts(dropna=False)"
   ]
  },
  {
   "cell_type": "markdown",
   "metadata": {},
   "source": [
    "We can see now that many reports have incorect year"
   ]
  },
  {
   "cell_type": "code",
   "execution_count": null,
   "metadata": {},
   "outputs": [],
   "source": []
  },
  {
   "cell_type": "markdown",
   "metadata": {},
   "source": [
    "## null values\n",
    "\n",
    "- check\n",
    "- count\n",
    "- display"
   ]
  },
  {
   "cell_type": "code",
   "execution_count": 70,
   "metadata": {},
   "outputs": [
    {
     "data": {
      "text/plain": [
       "Beat                   0\n",
       "BlockRange             0\n",
       "StreetName             0\n",
       "OffenseType            0\n",
       "Premise                0\n",
       "NumOffenses            0\n",
       "Hour                   0\n",
       "Premise Description    0\n",
       "day                    0\n",
       "weekday                0\n",
       "month                  0\n",
       "year                   0\n",
       "dtype: int64"
      ]
     },
     "execution_count": 70,
     "metadata": {},
     "output_type": "execute_result"
    }
   ],
   "source": [
    "crimes.apply(lambda x: sum(x.isnull()))"
   ]
  },
  {
   "cell_type": "code",
   "execution_count": 71,
   "metadata": {},
   "outputs": [
    {
     "data": {
      "text/plain": [
       "0"
      ]
     },
     "execution_count": 71,
     "metadata": {},
     "output_type": "execute_result"
    }
   ],
   "source": [
    "# display any null\n",
    "len(crimes[crimes.isnull().any(axis=1)])"
   ]
  },
  {
   "cell_type": "code",
   "execution_count": 72,
   "metadata": {},
   "outputs": [
    {
     "data": {
      "text/html": [
       "<div>\n",
       "<style scoped>\n",
       "    .dataframe tbody tr th:only-of-type {\n",
       "        vertical-align: middle;\n",
       "    }\n",
       "\n",
       "    .dataframe tbody tr th {\n",
       "        vertical-align: top;\n",
       "    }\n",
       "\n",
       "    .dataframe thead th {\n",
       "        text-align: right;\n",
       "    }\n",
       "</style>\n",
       "<table border=\"1\" class=\"dataframe\">\n",
       "  <thead>\n",
       "    <tr style=\"text-align: right;\">\n",
       "      <th></th>\n",
       "      <th>Beat</th>\n",
       "      <th>BlockRange</th>\n",
       "      <th>StreetName</th>\n",
       "      <th>OffenseType</th>\n",
       "      <th>Premise</th>\n",
       "      <th>NumOffenses</th>\n",
       "      <th>Hour</th>\n",
       "      <th>Premise Description</th>\n",
       "      <th>day</th>\n",
       "      <th>weekday</th>\n",
       "      <th>month</th>\n",
       "      <th>year</th>\n",
       "    </tr>\n",
       "    <tr>\n",
       "      <th>Date</th>\n",
       "      <th></th>\n",
       "      <th></th>\n",
       "      <th></th>\n",
       "      <th></th>\n",
       "      <th></th>\n",
       "      <th></th>\n",
       "      <th></th>\n",
       "      <th></th>\n",
       "      <th></th>\n",
       "      <th></th>\n",
       "      <th></th>\n",
       "      <th></th>\n",
       "    </tr>\n",
       "  </thead>\n",
       "  <tbody>\n",
       "  </tbody>\n",
       "</table>\n",
       "</div>"
      ],
      "text/plain": [
       "Empty DataFrame\n",
       "Columns: [Beat, BlockRange, StreetName, OffenseType, Premise, NumOffenses, Hour, Premise Description, day, weekday, month, year]\n",
       "Index: []"
      ]
     },
     "execution_count": 72,
     "metadata": {},
     "output_type": "execute_result"
    }
   ],
   "source": [
    "crimes[crimes.isnull().any(axis=1)].head()"
   ]
  },
  {
   "cell_type": "code",
   "execution_count": null,
   "metadata": {},
   "outputs": [],
   "source": []
  },
  {
   "cell_type": "code",
   "execution_count": 73,
   "metadata": {},
   "outputs": [
    {
     "data": {
      "text/plain": [
       "Beat                   0\n",
       "BlockRange             0\n",
       "StreetName             0\n",
       "OffenseType            0\n",
       "Premise                0\n",
       "NumOffenses            0\n",
       "Hour                   0\n",
       "Premise Description    0\n",
       "day                    0\n",
       "weekday                0\n",
       "month                  0\n",
       "year                   0\n",
       "dtype: int64"
      ]
     },
     "execution_count": 73,
     "metadata": {},
     "output_type": "execute_result"
    }
   ],
   "source": [
    "crimes.apply(lambda x: sum(x.isnull()))"
   ]
  },
  {
   "cell_type": "markdown",
   "metadata": {},
   "source": [
    "## New Dataframe\n",
    "- remove premise col\n",
    "- keep premise description"
   ]
  },
  {
   "cell_type": "code",
   "execution_count": 74,
   "metadata": {},
   "outputs": [
    {
     "data": {
      "text/html": [
       "<div>\n",
       "<style scoped>\n",
       "    .dataframe tbody tr th:only-of-type {\n",
       "        vertical-align: middle;\n",
       "    }\n",
       "\n",
       "    .dataframe tbody tr th {\n",
       "        vertical-align: top;\n",
       "    }\n",
       "\n",
       "    .dataframe thead th {\n",
       "        text-align: right;\n",
       "    }\n",
       "</style>\n",
       "<table border=\"1\" class=\"dataframe\">\n",
       "  <thead>\n",
       "    <tr style=\"text-align: right;\">\n",
       "      <th></th>\n",
       "      <th>Beat</th>\n",
       "      <th>BlockRange</th>\n",
       "      <th>StreetName</th>\n",
       "      <th>OffenseType</th>\n",
       "      <th>Premise Description</th>\n",
       "      <th>NumOffenses</th>\n",
       "      <th>Hour</th>\n",
       "      <th>day</th>\n",
       "      <th>weekday</th>\n",
       "      <th>month</th>\n",
       "      <th>year</th>\n",
       "    </tr>\n",
       "    <tr>\n",
       "      <th>Date</th>\n",
       "      <th></th>\n",
       "      <th></th>\n",
       "      <th></th>\n",
       "      <th></th>\n",
       "      <th></th>\n",
       "      <th></th>\n",
       "      <th></th>\n",
       "      <th></th>\n",
       "      <th></th>\n",
       "      <th></th>\n",
       "      <th></th>\n",
       "    </tr>\n",
       "  </thead>\n",
       "  <tbody>\n",
       "    <tr>\n",
       "      <th>1959-06-06</th>\n",
       "      <td>18F20</td>\n",
       "      <td>5100-5199</td>\n",
       "      <td>richmond</td>\n",
       "      <td>Theft</td>\n",
       "      <td>department/discount store</td>\n",
       "      <td>1.0</td>\n",
       "      <td>14.0</td>\n",
       "      <td>06</td>\n",
       "      <td>Saturday</td>\n",
       "      <td>Jun</td>\n",
       "      <td>1959</td>\n",
       "    </tr>\n",
       "    <tr>\n",
       "      <th>1966-01-01</th>\n",
       "      <td>10H50</td>\n",
       "      <td>3300-3399</td>\n",
       "      <td>alabama</td>\n",
       "      <td>Rape</td>\n",
       "      <td>apartment</td>\n",
       "      <td>1.0</td>\n",
       "      <td>0.0</td>\n",
       "      <td>01</td>\n",
       "      <td>Saturday</td>\n",
       "      <td>Jan</td>\n",
       "      <td>1966</td>\n",
       "    </tr>\n",
       "    <tr>\n",
       "      <th>1966-07-18</th>\n",
       "      <td>13D40</td>\n",
       "      <td>10200-10299</td>\n",
       "      <td>telephone</td>\n",
       "      <td>Auto Theft</td>\n",
       "      <td>apartment parking lot</td>\n",
       "      <td>1.0</td>\n",
       "      <td>13.0</td>\n",
       "      <td>18</td>\n",
       "      <td>Monday</td>\n",
       "      <td>Jul</td>\n",
       "      <td>1966</td>\n",
       "    </tr>\n",
       "    <tr>\n",
       "      <th>1969-07-22</th>\n",
       "      <td>2A30</td>\n",
       "      <td>1500-1599</td>\n",
       "      <td>nicholson</td>\n",
       "      <td>Theft</td>\n",
       "      <td>residence/house</td>\n",
       "      <td>1.0</td>\n",
       "      <td>0.0</td>\n",
       "      <td>22</td>\n",
       "      <td>Tuesday</td>\n",
       "      <td>Jul</td>\n",
       "      <td>1969</td>\n",
       "    </tr>\n",
       "    <tr>\n",
       "      <th>1969-11-26</th>\n",
       "      <td>3B50</td>\n",
       "      <td>7100-7199</td>\n",
       "      <td>irvington</td>\n",
       "      <td>Theft</td>\n",
       "      <td>road/street/sidewalk</td>\n",
       "      <td>1.0</td>\n",
       "      <td>15.0</td>\n",
       "      <td>26</td>\n",
       "      <td>Wednesday</td>\n",
       "      <td>Nov</td>\n",
       "      <td>1969</td>\n",
       "    </tr>\n",
       "  </tbody>\n",
       "</table>\n",
       "</div>"
      ],
      "text/plain": [
       "             Beat   BlockRange StreetName OffenseType  \\\n",
       "Date                                                    \n",
       "1959-06-06  18F20    5100-5199   richmond       Theft   \n",
       "1966-01-01  10H50    3300-3399    alabama        Rape   \n",
       "1966-07-18  13D40  10200-10299  telephone  Auto Theft   \n",
       "1969-07-22   2A30    1500-1599  nicholson       Theft   \n",
       "1969-11-26   3B50    7100-7199  irvington       Theft   \n",
       "\n",
       "                  Premise Description  NumOffenses  Hour day    weekday month  \\\n",
       "Date                                                                            \n",
       "1959-06-06  department/discount store          1.0  14.0  06   Saturday   Jun   \n",
       "1966-01-01                  apartment          1.0   0.0  01   Saturday   Jan   \n",
       "1966-07-18      apartment parking lot          1.0  13.0  18     Monday   Jul   \n",
       "1969-07-22            residence/house          1.0   0.0  22    Tuesday   Jul   \n",
       "1969-11-26       road/street/sidewalk          1.0  15.0  26  Wednesday   Nov   \n",
       "\n",
       "            year  \n",
       "Date              \n",
       "1959-06-06  1959  \n",
       "1966-01-01  1966  \n",
       "1966-07-18  1966  \n",
       "1969-07-22  1969  \n",
       "1969-11-26  1969  "
      ]
     },
     "execution_count": 74,
     "metadata": {},
     "output_type": "execute_result"
    }
   ],
   "source": [
    "crime_yr = crimes[['Beat','BlockRange','StreetName','OffenseType','Premise Description','NumOffenses','Hour','day','weekday','month','year']]\n",
    "crime_yr.head()"
   ]
  },
  {
   "cell_type": "code",
   "execution_count": 75,
   "metadata": {},
   "outputs": [
    {
     "data": {
      "text/plain": [
       "Beat                   0\n",
       "BlockRange             0\n",
       "StreetName             0\n",
       "OffenseType            0\n",
       "Premise Description    0\n",
       "NumOffenses            0\n",
       "Hour                   0\n",
       "day                    0\n",
       "weekday                0\n",
       "month                  0\n",
       "year                   0\n",
       "dtype: int64"
      ]
     },
     "execution_count": 75,
     "metadata": {},
     "output_type": "execute_result"
    }
   ],
   "source": [
    "crime_yr.apply(lambda x: sum(x.isnull()))"
   ]
  },
  {
   "cell_type": "code",
   "execution_count": 76,
   "metadata": {},
   "outputs": [],
   "source": [
    "# change column name from Premise Descriptionto Premise\n",
    "\n",
    "crime_yr.rename(columns={\n",
    "    'Premise Description': 'Premise',}, inplace=True)\n"
   ]
  },
  {
   "cell_type": "code",
   "execution_count": 77,
   "metadata": {},
   "outputs": [
    {
     "data": {
      "text/html": [
       "<div>\n",
       "<style scoped>\n",
       "    .dataframe tbody tr th:only-of-type {\n",
       "        vertical-align: middle;\n",
       "    }\n",
       "\n",
       "    .dataframe tbody tr th {\n",
       "        vertical-align: top;\n",
       "    }\n",
       "\n",
       "    .dataframe thead th {\n",
       "        text-align: right;\n",
       "    }\n",
       "</style>\n",
       "<table border=\"1\" class=\"dataframe\">\n",
       "  <thead>\n",
       "    <tr style=\"text-align: right;\">\n",
       "      <th></th>\n",
       "      <th>Beat</th>\n",
       "      <th>BlockRange</th>\n",
       "      <th>StreetName</th>\n",
       "      <th>OffenseType</th>\n",
       "      <th>Premise</th>\n",
       "      <th>NumOffenses</th>\n",
       "      <th>Hour</th>\n",
       "      <th>day</th>\n",
       "      <th>weekday</th>\n",
       "      <th>month</th>\n",
       "      <th>year</th>\n",
       "    </tr>\n",
       "    <tr>\n",
       "      <th>Date</th>\n",
       "      <th></th>\n",
       "      <th></th>\n",
       "      <th></th>\n",
       "      <th></th>\n",
       "      <th></th>\n",
       "      <th></th>\n",
       "      <th></th>\n",
       "      <th></th>\n",
       "      <th></th>\n",
       "      <th></th>\n",
       "      <th></th>\n",
       "    </tr>\n",
       "  </thead>\n",
       "  <tbody>\n",
       "    <tr>\n",
       "      <th>1959-06-06</th>\n",
       "      <td>18F20</td>\n",
       "      <td>5100-5199</td>\n",
       "      <td>richmond</td>\n",
       "      <td>Theft</td>\n",
       "      <td>department/discount store</td>\n",
       "      <td>1.0</td>\n",
       "      <td>14.0</td>\n",
       "      <td>06</td>\n",
       "      <td>Saturday</td>\n",
       "      <td>Jun</td>\n",
       "      <td>1959</td>\n",
       "    </tr>\n",
       "    <tr>\n",
       "      <th>1966-01-01</th>\n",
       "      <td>10H50</td>\n",
       "      <td>3300-3399</td>\n",
       "      <td>alabama</td>\n",
       "      <td>Rape</td>\n",
       "      <td>apartment</td>\n",
       "      <td>1.0</td>\n",
       "      <td>0.0</td>\n",
       "      <td>01</td>\n",
       "      <td>Saturday</td>\n",
       "      <td>Jan</td>\n",
       "      <td>1966</td>\n",
       "    </tr>\n",
       "    <tr>\n",
       "      <th>1966-07-18</th>\n",
       "      <td>13D40</td>\n",
       "      <td>10200-10299</td>\n",
       "      <td>telephone</td>\n",
       "      <td>Auto Theft</td>\n",
       "      <td>apartment parking lot</td>\n",
       "      <td>1.0</td>\n",
       "      <td>13.0</td>\n",
       "      <td>18</td>\n",
       "      <td>Monday</td>\n",
       "      <td>Jul</td>\n",
       "      <td>1966</td>\n",
       "    </tr>\n",
       "    <tr>\n",
       "      <th>1969-07-22</th>\n",
       "      <td>2A30</td>\n",
       "      <td>1500-1599</td>\n",
       "      <td>nicholson</td>\n",
       "      <td>Theft</td>\n",
       "      <td>residence/house</td>\n",
       "      <td>1.0</td>\n",
       "      <td>0.0</td>\n",
       "      <td>22</td>\n",
       "      <td>Tuesday</td>\n",
       "      <td>Jul</td>\n",
       "      <td>1969</td>\n",
       "    </tr>\n",
       "    <tr>\n",
       "      <th>1969-11-26</th>\n",
       "      <td>3B50</td>\n",
       "      <td>7100-7199</td>\n",
       "      <td>irvington</td>\n",
       "      <td>Theft</td>\n",
       "      <td>road/street/sidewalk</td>\n",
       "      <td>1.0</td>\n",
       "      <td>15.0</td>\n",
       "      <td>26</td>\n",
       "      <td>Wednesday</td>\n",
       "      <td>Nov</td>\n",
       "      <td>1969</td>\n",
       "    </tr>\n",
       "  </tbody>\n",
       "</table>\n",
       "</div>"
      ],
      "text/plain": [
       "             Beat   BlockRange StreetName OffenseType  \\\n",
       "Date                                                    \n",
       "1959-06-06  18F20    5100-5199   richmond       Theft   \n",
       "1966-01-01  10H50    3300-3399    alabama        Rape   \n",
       "1966-07-18  13D40  10200-10299  telephone  Auto Theft   \n",
       "1969-07-22   2A30    1500-1599  nicholson       Theft   \n",
       "1969-11-26   3B50    7100-7199  irvington       Theft   \n",
       "\n",
       "                              Premise  NumOffenses  Hour day    weekday month  \\\n",
       "Date                                                                            \n",
       "1959-06-06  department/discount store          1.0  14.0  06   Saturday   Jun   \n",
       "1966-01-01                  apartment          1.0   0.0  01   Saturday   Jan   \n",
       "1966-07-18      apartment parking lot          1.0  13.0  18     Monday   Jul   \n",
       "1969-07-22            residence/house          1.0   0.0  22    Tuesday   Jul   \n",
       "1969-11-26       road/street/sidewalk          1.0  15.0  26  Wednesday   Nov   \n",
       "\n",
       "            year  \n",
       "Date              \n",
       "1959-06-06  1959  \n",
       "1966-01-01  1966  \n",
       "1966-07-18  1966  \n",
       "1969-07-22  1969  \n",
       "1969-11-26  1969  "
      ]
     },
     "execution_count": 77,
     "metadata": {},
     "output_type": "execute_result"
    }
   ],
   "source": [
    "crime_yr.head()"
   ]
  },
  {
   "cell_type": "markdown",
   "metadata": {},
   "source": [
    "## Save"
   ]
  },
  {
   "cell_type": "code",
   "execution_count": 78,
   "metadata": {},
   "outputs": [
    {
     "name": "stdout",
     "output_type": "stream",
     "text": [
      "<class 'pandas.core.frame.DataFrame'>\n",
      "DatetimeIndex: 136262 entries, 1959-06-06 to 2011-01-06\n",
      "Data columns (total 11 columns):\n",
      "Beat           136262 non-null object\n",
      "BlockRange     136262 non-null object\n",
      "StreetName     136262 non-null object\n",
      "OffenseType    136262 non-null object\n",
      "Premise        136262 non-null object\n",
      "NumOffenses    136262 non-null float64\n",
      "Hour           136262 non-null float64\n",
      "day            136262 non-null object\n",
      "weekday        136262 non-null object\n",
      "month          136262 non-null object\n",
      "year           136262 non-null object\n",
      "dtypes: float64(2), object(9)\n",
      "memory usage: 12.5+ MB\n"
     ]
    }
   ],
   "source": [
    "crime_yr.info()"
   ]
  },
  {
   "cell_type": "code",
   "execution_count": 79,
   "metadata": {},
   "outputs": [],
   "source": [
    "crime_yr.to_csv('data/clean/crime10_clean.csv')"
   ]
  },
  {
   "cell_type": "code",
   "execution_count": 80,
   "metadata": {},
   "outputs": [
    {
     "name": "stdout",
     "output_type": "stream",
     "text": [
      "\u001b[0m\u001b[01;32mcrime10_clean.csv\u001b[0m*  \u001b[01;32mcrime12_clean.csv\u001b[0m*  \u001b[01;32mcrime14_clean.csv\u001b[0m*  \u001b[01;32mcrime16_clean.csv\u001b[0m*\r\n",
      "\u001b[01;32mcrime11_clean.csv\u001b[0m*  \u001b[01;32mcrime13_clean.csv\u001b[0m*  \u001b[01;32mcrime15_clean.csv\u001b[0m*  \u001b[01;32mcrime17_clean.csv\u001b[0m*\r\n"
     ]
    }
   ],
   "source": [
    "ls data/clean"
   ]
  },
  {
   "cell_type": "code",
   "execution_count": null,
   "metadata": {},
   "outputs": [],
   "source": []
  }
 ],
 "metadata": {
  "kernelspec": {
   "display_name": "Python 3",
   "language": "python",
   "name": "python3"
  },
  "language_info": {
   "codemirror_mode": {
    "name": "ipython",
    "version": 3
   },
   "file_extension": ".py",
   "mimetype": "text/x-python",
   "name": "python",
   "nbconvert_exporter": "python",
   "pygments_lexer": "ipython3",
   "version": "3.6.4"
  }
 },
 "nbformat": 4,
 "nbformat_minor": 2
}
