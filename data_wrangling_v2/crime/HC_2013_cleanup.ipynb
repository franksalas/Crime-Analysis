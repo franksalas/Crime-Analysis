{
 "cells": [
  {
   "cell_type": "markdown",
   "metadata": {},
   "source": [
    "# Crime data from 2013\n",
    "\n",
    "http://www.houstontx.gov/police/cs/crime-stats-archives.htm"
   ]
  },
  {
   "cell_type": "code",
   "execution_count": 1,
   "metadata": {},
   "outputs": [],
   "source": [
    "import pandas as pd\n",
    "import glob, os\n",
    "import numpy as np\n",
    "import matplotlib.pyplot as plt\n",
    "import datetime  as dt\n",
    "import seaborn as sns\n",
    "\n",
    "import warnings\n",
    "warnings.filterwarnings('ignore')"
   ]
  },
  {
   "cell_type": "code",
   "execution_count": 2,
   "metadata": {},
   "outputs": [
    {
     "name": "stdout",
     "output_type": "stream",
     "text": [
      "\u001b[0m\u001b[01;32mapr13.xls\u001b[0m*  \u001b[01;32mdec13.xls\u001b[0m*  \u001b[01;32mjan13.xls\u001b[0m*  \u001b[01;32mjun13.xls\u001b[0m*  \u001b[01;32mmay13.xls\u001b[0m*  \u001b[01;32moct13.xls\u001b[0m*\r\n",
      "\u001b[01;32maug13.xls\u001b[0m*  \u001b[01;32mfeb13.xls\u001b[0m*  \u001b[01;32mjul13.xls\u001b[0m*  \u001b[01;32mmar13.xls\u001b[0m*  \u001b[01;32mnov13.xls\u001b[0m*  \u001b[01;32msep13.xls\u001b[0m*\r\n"
     ]
    }
   ],
   "source": [
    "ls data/2013"
   ]
  },
  {
   "cell_type": "code",
   "execution_count": 3,
   "metadata": {},
   "outputs": [],
   "source": [
    "path = 'data/2013'"
   ]
  },
  {
   "cell_type": "code",
   "execution_count": 4,
   "metadata": {},
   "outputs": [],
   "source": [
    "# combine all files into one df\n",
    "all_files = glob.glob(os.path.join(path, \"*.xls\")) \n",
    "df_from_each_file = (pd.read_excel(f) for f in all_files)\n",
    "df   = pd.concat(df_from_each_file, ignore_index=True)"
   ]
  },
  {
   "cell_type": "code",
   "execution_count": 5,
   "metadata": {},
   "outputs": [
    {
     "data": {
      "text/html": [
       "<div>\n",
       "<style scoped>\n",
       "    .dataframe tbody tr th:only-of-type {\n",
       "        vertical-align: middle;\n",
       "    }\n",
       "\n",
       "    .dataframe tbody tr th {\n",
       "        vertical-align: top;\n",
       "    }\n",
       "\n",
       "    .dataframe thead th {\n",
       "        text-align: right;\n",
       "    }\n",
       "</style>\n",
       "<table border=\"1\" class=\"dataframe\">\n",
       "  <thead>\n",
       "    <tr style=\"text-align: right;\">\n",
       "      <th></th>\n",
       "      <th># Of Offenses</th>\n",
       "      <th>Beat</th>\n",
       "      <th>Block Range</th>\n",
       "      <th>Date</th>\n",
       "      <th>Hour</th>\n",
       "      <th>Offense Type</th>\n",
       "      <th>Premise</th>\n",
       "      <th>Street Name</th>\n",
       "      <th>Suffix</th>\n",
       "      <th>Type</th>\n",
       "      <th>Unnamed: 1</th>\n",
       "    </tr>\n",
       "  </thead>\n",
       "  <tbody>\n",
       "    <tr>\n",
       "      <th>0</th>\n",
       "      <td>1</td>\n",
       "      <td>19G10</td>\n",
       "      <td>9400-9499</td>\n",
       "      <td>2013-04-25</td>\n",
       "      <td>5</td>\n",
       "      <td>Murder</td>\n",
       "      <td>13R</td>\n",
       "      <td>WOODFAIR</td>\n",
       "      <td>-</td>\n",
       "      <td>DR</td>\n",
       "      <td>NaN</td>\n",
       "    </tr>\n",
       "    <tr>\n",
       "      <th>1</th>\n",
       "      <td>1</td>\n",
       "      <td>17E40</td>\n",
       "      <td>6100-6199</td>\n",
       "      <td>2013-04-14</td>\n",
       "      <td>0</td>\n",
       "      <td>Murder</td>\n",
       "      <td>18A</td>\n",
       "      <td>BELLFORT</td>\n",
       "      <td>W</td>\n",
       "      <td>ST</td>\n",
       "      <td>NaN</td>\n",
       "    </tr>\n",
       "    <tr>\n",
       "      <th>2</th>\n",
       "      <td>1</td>\n",
       "      <td>20G10</td>\n",
       "      <td>9900-9999</td>\n",
       "      <td>2013-04-02</td>\n",
       "      <td>16</td>\n",
       "      <td>Murder</td>\n",
       "      <td>20A</td>\n",
       "      <td>RICHMOND</td>\n",
       "      <td>-</td>\n",
       "      <td>AVE</td>\n",
       "      <td>NaN</td>\n",
       "    </tr>\n",
       "    <tr>\n",
       "      <th>3</th>\n",
       "      <td>1</td>\n",
       "      <td>2A20</td>\n",
       "      <td>1300-1399</td>\n",
       "      <td>2013-04-19</td>\n",
       "      <td>22</td>\n",
       "      <td>Murder</td>\n",
       "      <td>13R</td>\n",
       "      <td>29TH</td>\n",
       "      <td>E</td>\n",
       "      <td>ST</td>\n",
       "      <td>NaN</td>\n",
       "    </tr>\n",
       "    <tr>\n",
       "      <th>4</th>\n",
       "      <td>1</td>\n",
       "      <td>1A10</td>\n",
       "      <td>500-599</td>\n",
       "      <td>2013-04-23</td>\n",
       "      <td>0</td>\n",
       "      <td>Murder</td>\n",
       "      <td>190</td>\n",
       "      <td>RUSK</td>\n",
       "      <td>-</td>\n",
       "      <td>-</td>\n",
       "      <td>NaN</td>\n",
       "    </tr>\n",
       "  </tbody>\n",
       "</table>\n",
       "</div>"
      ],
      "text/plain": [
       "   # Of Offenses   Beat Block Range       Date  Hour Offense Type Premise  \\\n",
       "0              1  19G10   9400-9499 2013-04-25     5       Murder     13R   \n",
       "1              1  17E40   6100-6199 2013-04-14     0       Murder     18A   \n",
       "2              1  20G10   9900-9999 2013-04-02    16       Murder     20A   \n",
       "3              1   2A20   1300-1399 2013-04-19    22       Murder     13R   \n",
       "4              1   1A10     500-599 2013-04-23     0       Murder     190   \n",
       "\n",
       "  Street Name Suffix Type  Unnamed: 1  \n",
       "0    WOODFAIR      -   DR         NaN  \n",
       "1    BELLFORT      W   ST         NaN  \n",
       "2    RICHMOND      -  AVE         NaN  \n",
       "3        29TH      E   ST         NaN  \n",
       "4        RUSK      -    -         NaN  "
      ]
     },
     "execution_count": 5,
     "metadata": {},
     "output_type": "execute_result"
    }
   ],
   "source": [
    "df.head()"
   ]
  },
  {
   "cell_type": "code",
   "execution_count": 6,
   "metadata": {},
   "outputs": [
    {
     "data": {
      "text/html": [
       "<div>\n",
       "<style scoped>\n",
       "    .dataframe tbody tr th:only-of-type {\n",
       "        vertical-align: middle;\n",
       "    }\n",
       "\n",
       "    .dataframe tbody tr th {\n",
       "        vertical-align: top;\n",
       "    }\n",
       "\n",
       "    .dataframe thead th {\n",
       "        text-align: right;\n",
       "    }\n",
       "</style>\n",
       "<table border=\"1\" class=\"dataframe\">\n",
       "  <thead>\n",
       "    <tr style=\"text-align: right;\">\n",
       "      <th></th>\n",
       "      <th>Premise Type</th>\n",
       "      <th>Premise Description</th>\n",
       "    </tr>\n",
       "  </thead>\n",
       "  <tbody>\n",
       "    <tr>\n",
       "      <th>0</th>\n",
       "      <td>01A</td>\n",
       "      <td>AIRPORT TERMINAL</td>\n",
       "    </tr>\n",
       "    <tr>\n",
       "      <th>1</th>\n",
       "      <td>01B</td>\n",
       "      <td>BUS STATION</td>\n",
       "    </tr>\n",
       "    <tr>\n",
       "      <th>2</th>\n",
       "      <td>01K</td>\n",
       "      <td>RAILROAD TRACK/RIGHT OF WAY</td>\n",
       "    </tr>\n",
       "    <tr>\n",
       "      <th>3</th>\n",
       "      <td>01P</td>\n",
       "      <td>PARK &amp; RIDE TERMINAL</td>\n",
       "    </tr>\n",
       "    <tr>\n",
       "      <th>4</th>\n",
       "      <td>01R</td>\n",
       "      <td>LIGHT RAIL VEHICLE</td>\n",
       "    </tr>\n",
       "  </tbody>\n",
       "</table>\n",
       "</div>"
      ],
      "text/plain": [
       "  Premise Type          Premise Description\n",
       "0          01A             AIRPORT TERMINAL\n",
       "1          01B                  BUS STATION\n",
       "2          01K  RAILROAD TRACK/RIGHT OF WAY\n",
       "3          01P         PARK & RIDE TERMINAL\n",
       "4          01R           LIGHT RAIL VEHICLE"
      ]
     },
     "execution_count": 6,
     "metadata": {},
     "output_type": "execute_result"
    }
   ],
   "source": [
    "# get premise codes\n",
    "\n",
    "pc = pd.read_csv('data/premise_codes.csv')\n",
    "pc.head()"
   ]
  },
  {
   "cell_type": "code",
   "execution_count": 7,
   "metadata": {},
   "outputs": [
    {
     "data": {
      "text/html": [
       "<div>\n",
       "<style scoped>\n",
       "    .dataframe tbody tr th:only-of-type {\n",
       "        vertical-align: middle;\n",
       "    }\n",
       "\n",
       "    .dataframe tbody tr th {\n",
       "        vertical-align: top;\n",
       "    }\n",
       "\n",
       "    .dataframe thead th {\n",
       "        text-align: right;\n",
       "    }\n",
       "</style>\n",
       "<table border=\"1\" class=\"dataframe\">\n",
       "  <thead>\n",
       "    <tr style=\"text-align: right;\">\n",
       "      <th></th>\n",
       "      <th>Premise</th>\n",
       "      <th>Premise Description</th>\n",
       "    </tr>\n",
       "  </thead>\n",
       "  <tbody>\n",
       "    <tr>\n",
       "      <th>0</th>\n",
       "      <td>01A</td>\n",
       "      <td>AIRPORT TERMINAL</td>\n",
       "    </tr>\n",
       "    <tr>\n",
       "      <th>1</th>\n",
       "      <td>01B</td>\n",
       "      <td>BUS STATION</td>\n",
       "    </tr>\n",
       "    <tr>\n",
       "      <th>2</th>\n",
       "      <td>01K</td>\n",
       "      <td>RAILROAD TRACK/RIGHT OF WAY</td>\n",
       "    </tr>\n",
       "    <tr>\n",
       "      <th>3</th>\n",
       "      <td>01P</td>\n",
       "      <td>PARK &amp; RIDE TERMINAL</td>\n",
       "    </tr>\n",
       "    <tr>\n",
       "      <th>4</th>\n",
       "      <td>01R</td>\n",
       "      <td>LIGHT RAIL VEHICLE</td>\n",
       "    </tr>\n",
       "  </tbody>\n",
       "</table>\n",
       "</div>"
      ],
      "text/plain": [
       "  Premise          Premise Description\n",
       "0     01A             AIRPORT TERMINAL\n",
       "1     01B                  BUS STATION\n",
       "2     01K  RAILROAD TRACK/RIGHT OF WAY\n",
       "3     01P         PARK & RIDE TERMINAL\n",
       "4     01R           LIGHT RAIL VEHICLE"
      ]
     },
     "execution_count": 7,
     "metadata": {},
     "output_type": "execute_result"
    }
   ],
   "source": [
    "# rename premise column for easy merge\n",
    "pc.rename(columns={'Premise Type': 'Premise',}, inplace=True)\n",
    "pc.head()"
   ]
  },
  {
   "cell_type": "markdown",
   "metadata": {},
   "source": [
    "## Check for missing values"
   ]
  },
  {
   "cell_type": "code",
   "execution_count": 8,
   "metadata": {},
   "outputs": [
    {
     "data": {
      "text/plain": [
       "# Of Offenses         0\n",
       "Beat                  0\n",
       "Block Range           0\n",
       "Date                  0\n",
       "Hour                  0\n",
       "Offense Type          0\n",
       "Premise               0\n",
       "Street Name           0\n",
       "Suffix                0\n",
       "Type                  0\n",
       "Unnamed: 1       130459\n",
       "dtype: int64"
      ]
     },
     "execution_count": 8,
     "metadata": {},
     "output_type": "execute_result"
    }
   ],
   "source": [
    "df.apply(lambda x: sum(x.isnull()))"
   ]
  },
  {
   "cell_type": "code",
   "execution_count": 9,
   "metadata": {},
   "outputs": [
    {
     "data": {
      "image/png": "[encoded data removed]",
      "text/plain": [
       "<Figure size 432x288 with 1 Axes>"
      ]
     },
     "metadata": {},
     "output_type": "display_data"
    }
   ],
   "source": [
    "sns.heatmap(df.isnull(),yticklabels=False,cbar=False,cmap='viridis')\n",
    "plt.title('Null dataset display')\n",
    "plt.show()"
   ]
  },
  {
   "cell_type": "markdown",
   "metadata": {},
   "source": [
    "## Cleanup\n",
    "\n",
    "- joining similar columns\n",
    "- renaming"
   ]
  },
  {
   "cell_type": "code",
   "execution_count": 10,
   "metadata": {},
   "outputs": [
    {
     "name": "stdout",
     "output_type": "stream",
     "text": [
      "<class 'pandas.core.frame.DataFrame'>\n",
      "RangeIndex: 130459 entries, 0 to 130458\n",
      "Data columns (total 11 columns):\n",
      "NumOffenses    130459 non-null int64\n",
      "Beat           130459 non-null object\n",
      "BlockRange     130459 non-null object\n",
      "Date           130459 non-null datetime64[ns]\n",
      "Hour           130459 non-null int64\n",
      "OffenseType    130459 non-null object\n",
      "Premise        130459 non-null object\n",
      "StreetName     130459 non-null object\n",
      "Suffix         130459 non-null object\n",
      "Type           130459 non-null object\n",
      "Unnamed: 1     0 non-null float64\n",
      "dtypes: datetime64[ns](1), float64(1), int64(2), object(7)\n",
      "memory usage: 10.9+ MB\n"
     ]
    }
   ],
   "source": [
    "df.rename(columns={\n",
    "    '# Of Offenses': 'NumOffenses',\n",
    "     'Offense Type': 'OffenseType',\n",
    "    'Block Range': 'BlockRange',\n",
    "    'Street Name': 'StreetName'\n",
    "}, inplace=True)\n",
    "df.info()"
   ]
  },
  {
   "cell_type": "code",
   "execution_count": 11,
   "metadata": {},
   "outputs": [
    {
     "data": {
      "text/plain": [
       "NumOffenses         0\n",
       "Beat                0\n",
       "BlockRange          0\n",
       "Date                0\n",
       "Hour                0\n",
       "OffenseType         0\n",
       "Premise             0\n",
       "StreetName          0\n",
       "Suffix              0\n",
       "Type                0\n",
       "Unnamed: 1     130459\n",
       "dtype: int64"
      ]
     },
     "execution_count": 11,
     "metadata": {},
     "output_type": "execute_result"
    }
   ],
   "source": [
    "df.apply(lambda x: sum(x.isnull()))"
   ]
  },
  {
   "cell_type": "markdown",
   "metadata": {},
   "source": [
    "## Subset dataframe to work on "
   ]
  },
  {
   "cell_type": "code",
   "execution_count": 12,
   "metadata": {},
   "outputs": [
    {
     "name": "stdout",
     "output_type": "stream",
     "text": [
      "<class 'pandas.core.frame.DataFrame'>\n",
      "RangeIndex: 130459 entries, 0 to 130458\n",
      "Data columns (total 8 columns):\n",
      "Date           130459 non-null datetime64[ns]\n",
      "Beat           130459 non-null object\n",
      "BlockRange     130459 non-null object\n",
      "StreetName     130459 non-null object\n",
      "OffenseType    130459 non-null object\n",
      "Premise        130459 non-null object\n",
      "NumOffenses    130459 non-null int64\n",
      "Hour           130459 non-null int64\n",
      "dtypes: datetime64[ns](1), int64(2), object(5)\n",
      "memory usage: 8.0+ MB\n"
     ]
    }
   ],
   "source": [
    "crimes = df[['Date','Beat','BlockRange','StreetName','OffenseType','Premise','NumOffenses','Hour']]\n",
    "crimes.info()"
   ]
  },
  {
   "cell_type": "code",
   "execution_count": 13,
   "metadata": {},
   "outputs": [
    {
     "data": {
      "image/png": "[encoded data removed]",
      "text/plain": [
       "<Figure size 432x288 with 1 Axes>"
      ]
     },
     "metadata": {},
     "output_type": "display_data"
    }
   ],
   "source": [
    "sns.heatmap(crimes.isnull(),yticklabels=False,cbar=False,cmap='viridis')\n",
    "plt.title('Null dataset display')\n",
    "plt.show()"
   ]
  },
  {
   "cell_type": "markdown",
   "metadata": {},
   "source": [
    "## Join datafames\n",
    " join premise df with crime to extract num values"
   ]
  },
  {
   "cell_type": "code",
   "execution_count": 14,
   "metadata": {},
   "outputs": [
    {
     "data": {
      "text/plain": [
       "20R    16499\n",
       "20A    15958\n",
       "18A    14756\n",
       "13R     9713\n",
       "20D     8486\n",
       "18O     8178\n",
       "080     4213\n",
       "18R     3704\n",
       "120     3653\n",
       "18P     2788\n",
       "Name: Premise, dtype: int64"
      ]
     },
     "execution_count": 14,
     "metadata": {},
     "output_type": "execute_result"
    }
   ],
   "source": [
    "crimes.Premise.value_counts(dropna=False)[:10]"
   ]
  },
  {
   "cell_type": "code",
   "execution_count": 15,
   "metadata": {},
   "outputs": [
    {
     "name": "stdout",
     "output_type": "stream",
     "text": [
      "<class 'pandas.core.frame.DataFrame'>\n",
      "Int64Index: 130461 entries, 0 to 130460\n",
      "Data columns (total 9 columns):\n",
      "Date                   130459 non-null datetime64[ns]\n",
      "Beat                   130459 non-null object\n",
      "BlockRange             130459 non-null object\n",
      "StreetName             130459 non-null object\n",
      "OffenseType            130459 non-null object\n",
      "Premise                130461 non-null object\n",
      "NumOffenses            130459 non-null float64\n",
      "Hour                   130459 non-null float64\n",
      "Premise Description    129358 non-null object\n",
      "dtypes: datetime64[ns](1), float64(2), object(6)\n",
      "memory usage: 10.0+ MB\n"
     ]
    }
   ],
   "source": [
    "# join two datarames\n",
    "crimes = pd.merge(crimes, pc, on='Premise', how='outer')\n",
    "crimes.info()"
   ]
  },
  {
   "cell_type": "code",
   "execution_count": 16,
   "metadata": {},
   "outputs": [
    {
     "data": {
      "text/html": [
       "<div>\n",
       "<style scoped>\n",
       "    .dataframe tbody tr th:only-of-type {\n",
       "        vertical-align: middle;\n",
       "    }\n",
       "\n",
       "    .dataframe tbody tr th {\n",
       "        vertical-align: top;\n",
       "    }\n",
       "\n",
       "    .dataframe thead th {\n",
       "        text-align: right;\n",
       "    }\n",
       "</style>\n",
       "<table border=\"1\" class=\"dataframe\">\n",
       "  <thead>\n",
       "    <tr style=\"text-align: right;\">\n",
       "      <th></th>\n",
       "      <th>Premise</th>\n",
       "      <th>Premise Description</th>\n",
       "    </tr>\n",
       "  </thead>\n",
       "  <tbody>\n",
       "    <tr>\n",
       "      <th>0</th>\n",
       "      <td>13R</td>\n",
       "      <td>ROAD/STREET/SIDEWALK</td>\n",
       "    </tr>\n",
       "    <tr>\n",
       "      <th>1</th>\n",
       "      <td>13R</td>\n",
       "      <td>ROAD/STREET/SIDEWALK</td>\n",
       "    </tr>\n",
       "    <tr>\n",
       "      <th>2</th>\n",
       "      <td>13R</td>\n",
       "      <td>ROAD/STREET/SIDEWALK</td>\n",
       "    </tr>\n",
       "    <tr>\n",
       "      <th>3</th>\n",
       "      <td>13R</td>\n",
       "      <td>ROAD/STREET/SIDEWALK</td>\n",
       "    </tr>\n",
       "    <tr>\n",
       "      <th>4</th>\n",
       "      <td>13R</td>\n",
       "      <td>ROAD/STREET/SIDEWALK</td>\n",
       "    </tr>\n",
       "    <tr>\n",
       "      <th>5</th>\n",
       "      <td>13R</td>\n",
       "      <td>ROAD/STREET/SIDEWALK</td>\n",
       "    </tr>\n",
       "    <tr>\n",
       "      <th>6</th>\n",
       "      <td>13R</td>\n",
       "      <td>ROAD/STREET/SIDEWALK</td>\n",
       "    </tr>\n",
       "    <tr>\n",
       "      <th>7</th>\n",
       "      <td>13R</td>\n",
       "      <td>ROAD/STREET/SIDEWALK</td>\n",
       "    </tr>\n",
       "    <tr>\n",
       "      <th>8</th>\n",
       "      <td>13R</td>\n",
       "      <td>ROAD/STREET/SIDEWALK</td>\n",
       "    </tr>\n",
       "    <tr>\n",
       "      <th>9</th>\n",
       "      <td>13R</td>\n",
       "      <td>ROAD/STREET/SIDEWALK</td>\n",
       "    </tr>\n",
       "    <tr>\n",
       "      <th>10</th>\n",
       "      <td>13R</td>\n",
       "      <td>ROAD/STREET/SIDEWALK</td>\n",
       "    </tr>\n",
       "    <tr>\n",
       "      <th>11</th>\n",
       "      <td>13R</td>\n",
       "      <td>ROAD/STREET/SIDEWALK</td>\n",
       "    </tr>\n",
       "    <tr>\n",
       "      <th>12</th>\n",
       "      <td>13R</td>\n",
       "      <td>ROAD/STREET/SIDEWALK</td>\n",
       "    </tr>\n",
       "    <tr>\n",
       "      <th>13</th>\n",
       "      <td>13R</td>\n",
       "      <td>ROAD/STREET/SIDEWALK</td>\n",
       "    </tr>\n",
       "    <tr>\n",
       "      <th>14</th>\n",
       "      <td>13R</td>\n",
       "      <td>ROAD/STREET/SIDEWALK</td>\n",
       "    </tr>\n",
       "    <tr>\n",
       "      <th>15</th>\n",
       "      <td>13R</td>\n",
       "      <td>ROAD/STREET/SIDEWALK</td>\n",
       "    </tr>\n",
       "    <tr>\n",
       "      <th>16</th>\n",
       "      <td>13R</td>\n",
       "      <td>ROAD/STREET/SIDEWALK</td>\n",
       "    </tr>\n",
       "    <tr>\n",
       "      <th>17</th>\n",
       "      <td>13R</td>\n",
       "      <td>ROAD/STREET/SIDEWALK</td>\n",
       "    </tr>\n",
       "    <tr>\n",
       "      <th>18</th>\n",
       "      <td>13R</td>\n",
       "      <td>ROAD/STREET/SIDEWALK</td>\n",
       "    </tr>\n",
       "    <tr>\n",
       "      <th>19</th>\n",
       "      <td>13R</td>\n",
       "      <td>ROAD/STREET/SIDEWALK</td>\n",
       "    </tr>\n",
       "    <tr>\n",
       "      <th>20</th>\n",
       "      <td>13R</td>\n",
       "      <td>ROAD/STREET/SIDEWALK</td>\n",
       "    </tr>\n",
       "    <tr>\n",
       "      <th>21</th>\n",
       "      <td>13R</td>\n",
       "      <td>ROAD/STREET/SIDEWALK</td>\n",
       "    </tr>\n",
       "    <tr>\n",
       "      <th>22</th>\n",
       "      <td>13R</td>\n",
       "      <td>ROAD/STREET/SIDEWALK</td>\n",
       "    </tr>\n",
       "    <tr>\n",
       "      <th>23</th>\n",
       "      <td>13R</td>\n",
       "      <td>ROAD/STREET/SIDEWALK</td>\n",
       "    </tr>\n",
       "    <tr>\n",
       "      <th>24</th>\n",
       "      <td>13R</td>\n",
       "      <td>ROAD/STREET/SIDEWALK</td>\n",
       "    </tr>\n",
       "    <tr>\n",
       "      <th>25</th>\n",
       "      <td>13R</td>\n",
       "      <td>ROAD/STREET/SIDEWALK</td>\n",
       "    </tr>\n",
       "    <tr>\n",
       "      <th>26</th>\n",
       "      <td>13R</td>\n",
       "      <td>ROAD/STREET/SIDEWALK</td>\n",
       "    </tr>\n",
       "    <tr>\n",
       "      <th>27</th>\n",
       "      <td>13R</td>\n",
       "      <td>ROAD/STREET/SIDEWALK</td>\n",
       "    </tr>\n",
       "    <tr>\n",
       "      <th>28</th>\n",
       "      <td>13R</td>\n",
       "      <td>ROAD/STREET/SIDEWALK</td>\n",
       "    </tr>\n",
       "    <tr>\n",
       "      <th>29</th>\n",
       "      <td>13R</td>\n",
       "      <td>ROAD/STREET/SIDEWALK</td>\n",
       "    </tr>\n",
       "    <tr>\n",
       "      <th>...</th>\n",
       "      <td>...</td>\n",
       "      <td>...</td>\n",
       "    </tr>\n",
       "    <tr>\n",
       "      <th>130431</th>\n",
       "      <td>13T</td>\n",
       "      <td>TOLLWAY</td>\n",
       "    </tr>\n",
       "    <tr>\n",
       "      <th>130432</th>\n",
       "      <td>13T</td>\n",
       "      <td>TOLLWAY</td>\n",
       "    </tr>\n",
       "    <tr>\n",
       "      <th>130433</th>\n",
       "      <td>13T</td>\n",
       "      <td>TOLLWAY</td>\n",
       "    </tr>\n",
       "    <tr>\n",
       "      <th>130434</th>\n",
       "      <td>13T</td>\n",
       "      <td>TOLLWAY</td>\n",
       "    </tr>\n",
       "    <tr>\n",
       "      <th>130435</th>\n",
       "      <td>13T</td>\n",
       "      <td>TOLLWAY</td>\n",
       "    </tr>\n",
       "    <tr>\n",
       "      <th>130436</th>\n",
       "      <td>13T</td>\n",
       "      <td>TOLLWAY</td>\n",
       "    </tr>\n",
       "    <tr>\n",
       "      <th>130437</th>\n",
       "      <td>25V</td>\n",
       "      <td>VACANT OTHER STRUCTURE (OUT BUILDINGS,MONUMENT...</td>\n",
       "    </tr>\n",
       "    <tr>\n",
       "      <th>130438</th>\n",
       "      <td>25V</td>\n",
       "      <td>VACANT OTHER STRUCTURE (OUT BUILDINGS,MONUMENT...</td>\n",
       "    </tr>\n",
       "    <tr>\n",
       "      <th>130439</th>\n",
       "      <td>25V</td>\n",
       "      <td>VACANT OTHER STRUCTURE (OUT BUILDINGS,MONUMENT...</td>\n",
       "    </tr>\n",
       "    <tr>\n",
       "      <th>130440</th>\n",
       "      <td>25V</td>\n",
       "      <td>VACANT OTHER STRUCTURE (OUT BUILDINGS,MONUMENT...</td>\n",
       "    </tr>\n",
       "    <tr>\n",
       "      <th>130441</th>\n",
       "      <td>25V</td>\n",
       "      <td>VACANT OTHER STRUCTURE (OUT BUILDINGS,MONUMENT...</td>\n",
       "    </tr>\n",
       "    <tr>\n",
       "      <th>130442</th>\n",
       "      <td>25V</td>\n",
       "      <td>VACANT OTHER STRUCTURE (OUT BUILDINGS,MONUMENT...</td>\n",
       "    </tr>\n",
       "    <tr>\n",
       "      <th>130443</th>\n",
       "      <td>25V</td>\n",
       "      <td>VACANT OTHER STRUCTURE (OUT BUILDINGS,MONUMENT...</td>\n",
       "    </tr>\n",
       "    <tr>\n",
       "      <th>130444</th>\n",
       "      <td>11V</td>\n",
       "      <td>VACANT GOVERNMENT/PUBLIC BUILDING</td>\n",
       "    </tr>\n",
       "    <tr>\n",
       "      <th>130445</th>\n",
       "      <td>11V</td>\n",
       "      <td>VACANT GOVERNMENT/PUBLIC BUILDING</td>\n",
       "    </tr>\n",
       "    <tr>\n",
       "      <th>130446</th>\n",
       "      <td>11V</td>\n",
       "      <td>VACANT GOVERNMENT/PUBLIC BUILDING</td>\n",
       "    </tr>\n",
       "    <tr>\n",
       "      <th>130447</th>\n",
       "      <td>11V</td>\n",
       "      <td>VACANT GOVERNMENT/PUBLIC BUILDING</td>\n",
       "    </tr>\n",
       "    <tr>\n",
       "      <th>130448</th>\n",
       "      <td>11V</td>\n",
       "      <td>VACANT GOVERNMENT/PUBLIC BUILDING</td>\n",
       "    </tr>\n",
       "    <tr>\n",
       "      <th>130449</th>\n",
       "      <td>11V</td>\n",
       "      <td>VACANT GOVERNMENT/PUBLIC BUILDING</td>\n",
       "    </tr>\n",
       "    <tr>\n",
       "      <th>130450</th>\n",
       "      <td>11V</td>\n",
       "      <td>VACANT GOVERNMENT/PUBLIC BUILDING</td>\n",
       "    </tr>\n",
       "    <tr>\n",
       "      <th>130451</th>\n",
       "      <td>01R</td>\n",
       "      <td>LIGHT RAIL VEHICLE</td>\n",
       "    </tr>\n",
       "    <tr>\n",
       "      <th>130452</th>\n",
       "      <td>01R</td>\n",
       "      <td>LIGHT RAIL VEHICLE</td>\n",
       "    </tr>\n",
       "    <tr>\n",
       "      <th>130453</th>\n",
       "      <td>01R</td>\n",
       "      <td>LIGHT RAIL VEHICLE</td>\n",
       "    </tr>\n",
       "    <tr>\n",
       "      <th>130454</th>\n",
       "      <td>24M</td>\n",
       "      <td>MARINE VEH. SALES,BOATS,SAILBOATS</td>\n",
       "    </tr>\n",
       "    <tr>\n",
       "      <th>130455</th>\n",
       "      <td>24M</td>\n",
       "      <td>MARINE VEH. SALES,BOATS,SAILBOATS</td>\n",
       "    </tr>\n",
       "    <tr>\n",
       "      <th>130456</th>\n",
       "      <td>13C</td>\n",
       "      <td>CONTRA-FLOW/HOV</td>\n",
       "    </tr>\n",
       "    <tr>\n",
       "      <th>130457</th>\n",
       "      <td>13C</td>\n",
       "      <td>CONTRA-FLOW/HOV</td>\n",
       "    </tr>\n",
       "    <tr>\n",
       "      <th>130458</th>\n",
       "      <td>13C</td>\n",
       "      <td>CONTRA-FLOW/HOV</td>\n",
       "    </tr>\n",
       "    <tr>\n",
       "      <th>130459</th>\n",
       "      <td>02V</td>\n",
       "      <td>VACANT BANK</td>\n",
       "    </tr>\n",
       "    <tr>\n",
       "      <th>130460</th>\n",
       "      <td>15V</td>\n",
       "      <td>VACANT JAIL/PRISON</td>\n",
       "    </tr>\n",
       "  </tbody>\n",
       "</table>\n",
       "<p>130461 rows × 2 columns</p>\n",
       "</div>"
      ],
      "text/plain": [
       "       Premise                                Premise Description\n",
       "0          13R                               ROAD/STREET/SIDEWALK\n",
       "1          13R                               ROAD/STREET/SIDEWALK\n",
       "2          13R                               ROAD/STREET/SIDEWALK\n",
       "3          13R                               ROAD/STREET/SIDEWALK\n",
       "4          13R                               ROAD/STREET/SIDEWALK\n",
       "5          13R                               ROAD/STREET/SIDEWALK\n",
       "6          13R                               ROAD/STREET/SIDEWALK\n",
       "7          13R                               ROAD/STREET/SIDEWALK\n",
       "8          13R                               ROAD/STREET/SIDEWALK\n",
       "9          13R                               ROAD/STREET/SIDEWALK\n",
       "10         13R                               ROAD/STREET/SIDEWALK\n",
       "11         13R                               ROAD/STREET/SIDEWALK\n",
       "12         13R                               ROAD/STREET/SIDEWALK\n",
       "13         13R                               ROAD/STREET/SIDEWALK\n",
       "14         13R                               ROAD/STREET/SIDEWALK\n",
       "15         13R                               ROAD/STREET/SIDEWALK\n",
       "16         13R                               ROAD/STREET/SIDEWALK\n",
       "17         13R                               ROAD/STREET/SIDEWALK\n",
       "18         13R                               ROAD/STREET/SIDEWALK\n",
       "19         13R                               ROAD/STREET/SIDEWALK\n",
       "20         13R                               ROAD/STREET/SIDEWALK\n",
       "21         13R                               ROAD/STREET/SIDEWALK\n",
       "22         13R                               ROAD/STREET/SIDEWALK\n",
       "23         13R                               ROAD/STREET/SIDEWALK\n",
       "24         13R                               ROAD/STREET/SIDEWALK\n",
       "25         13R                               ROAD/STREET/SIDEWALK\n",
       "26         13R                               ROAD/STREET/SIDEWALK\n",
       "27         13R                               ROAD/STREET/SIDEWALK\n",
       "28         13R                               ROAD/STREET/SIDEWALK\n",
       "29         13R                               ROAD/STREET/SIDEWALK\n",
       "...        ...                                                ...\n",
       "130431     13T                                            TOLLWAY\n",
       "130432     13T                                            TOLLWAY\n",
       "130433     13T                                            TOLLWAY\n",
       "130434     13T                                            TOLLWAY\n",
       "130435     13T                                            TOLLWAY\n",
       "130436     13T                                            TOLLWAY\n",
       "130437     25V  VACANT OTHER STRUCTURE (OUT BUILDINGS,MONUMENT...\n",
       "130438     25V  VACANT OTHER STRUCTURE (OUT BUILDINGS,MONUMENT...\n",
       "130439     25V  VACANT OTHER STRUCTURE (OUT BUILDINGS,MONUMENT...\n",
       "130440     25V  VACANT OTHER STRUCTURE (OUT BUILDINGS,MONUMENT...\n",
       "130441     25V  VACANT OTHER STRUCTURE (OUT BUILDINGS,MONUMENT...\n",
       "130442     25V  VACANT OTHER STRUCTURE (OUT BUILDINGS,MONUMENT...\n",
       "130443     25V  VACANT OTHER STRUCTURE (OUT BUILDINGS,MONUMENT...\n",
       "130444     11V                  VACANT GOVERNMENT/PUBLIC BUILDING\n",
       "130445     11V                  VACANT GOVERNMENT/PUBLIC BUILDING\n",
       "130446     11V                  VACANT GOVERNMENT/PUBLIC BUILDING\n",
       "130447     11V                  VACANT GOVERNMENT/PUBLIC BUILDING\n",
       "130448     11V                  VACANT GOVERNMENT/PUBLIC BUILDING\n",
       "130449     11V                  VACANT GOVERNMENT/PUBLIC BUILDING\n",
       "130450     11V                  VACANT GOVERNMENT/PUBLIC BUILDING\n",
       "130451     01R                                 LIGHT RAIL VEHICLE\n",
       "130452     01R                                 LIGHT RAIL VEHICLE\n",
       "130453     01R                                 LIGHT RAIL VEHICLE\n",
       "130454     24M                  MARINE VEH. SALES,BOATS,SAILBOATS\n",
       "130455     24M                  MARINE VEH. SALES,BOATS,SAILBOATS\n",
       "130456     13C                                    CONTRA-FLOW/HOV\n",
       "130457     13C                                    CONTRA-FLOW/HOV\n",
       "130458     13C                                    CONTRA-FLOW/HOV\n",
       "130459     02V                                        VACANT BANK\n",
       "130460     15V                                 VACANT JAIL/PRISON\n",
       "\n",
       "[130461 rows x 2 columns]"
      ]
     },
     "execution_count": 16,
     "metadata": {},
     "output_type": "execute_result"
    }
   ],
   "source": [
    "crimes[['Premise', 'Premise Description']]"
   ]
  },
  {
   "cell_type": "code",
   "execution_count": 17,
   "metadata": {},
   "outputs": [
    {
     "data": {
      "text/html": [
       "<div>\n",
       "<style scoped>\n",
       "    .dataframe tbody tr th:only-of-type {\n",
       "        vertical-align: middle;\n",
       "    }\n",
       "\n",
       "    .dataframe tbody tr th {\n",
       "        vertical-align: top;\n",
       "    }\n",
       "\n",
       "    .dataframe thead th {\n",
       "        text-align: right;\n",
       "    }\n",
       "</style>\n",
       "<table border=\"1\" class=\"dataframe\">\n",
       "  <thead>\n",
       "    <tr style=\"text-align: right;\">\n",
       "      <th></th>\n",
       "      <th>Date</th>\n",
       "      <th>Beat</th>\n",
       "      <th>BlockRange</th>\n",
       "      <th>StreetName</th>\n",
       "      <th>OffenseType</th>\n",
       "      <th>Premise</th>\n",
       "      <th>NumOffenses</th>\n",
       "      <th>Hour</th>\n",
       "      <th>Premise Description</th>\n",
       "    </tr>\n",
       "  </thead>\n",
       "  <tbody>\n",
       "    <tr>\n",
       "      <th>0</th>\n",
       "      <td>2013-04-25</td>\n",
       "      <td>19G10</td>\n",
       "      <td>9400-9499</td>\n",
       "      <td>WOODFAIR</td>\n",
       "      <td>Murder</td>\n",
       "      <td>13R</td>\n",
       "      <td>1.0</td>\n",
       "      <td>5.0</td>\n",
       "      <td>ROAD/STREET/SIDEWALK</td>\n",
       "    </tr>\n",
       "    <tr>\n",
       "      <th>1</th>\n",
       "      <td>2013-04-19</td>\n",
       "      <td>2A20</td>\n",
       "      <td>1300-1399</td>\n",
       "      <td>29TH</td>\n",
       "      <td>Murder</td>\n",
       "      <td>13R</td>\n",
       "      <td>1.0</td>\n",
       "      <td>22.0</td>\n",
       "      <td>ROAD/STREET/SIDEWALK</td>\n",
       "    </tr>\n",
       "    <tr>\n",
       "      <th>2</th>\n",
       "      <td>2013-04-18</td>\n",
       "      <td>14D20</td>\n",
       "      <td>4000-4099</td>\n",
       "      <td>REDBUD</td>\n",
       "      <td>Murder</td>\n",
       "      <td>13R</td>\n",
       "      <td>1.0</td>\n",
       "      <td>21.0</td>\n",
       "      <td>ROAD/STREET/SIDEWALK</td>\n",
       "    </tr>\n",
       "    <tr>\n",
       "      <th>3</th>\n",
       "      <td>2013-04-20</td>\n",
       "      <td>2A60</td>\n",
       "      <td>1900-1999</td>\n",
       "      <td>ELLA</td>\n",
       "      <td>Rape</td>\n",
       "      <td>13R</td>\n",
       "      <td>1.0</td>\n",
       "      <td>20.0</td>\n",
       "      <td>ROAD/STREET/SIDEWALK</td>\n",
       "    </tr>\n",
       "    <tr>\n",
       "      <th>4</th>\n",
       "      <td>2013-04-06</td>\n",
       "      <td>2A50</td>\n",
       "      <td>4200-4299</td>\n",
       "      <td>KOEHLER</td>\n",
       "      <td>Rape</td>\n",
       "      <td>13R</td>\n",
       "      <td>1.0</td>\n",
       "      <td>4.0</td>\n",
       "      <td>ROAD/STREET/SIDEWALK</td>\n",
       "    </tr>\n",
       "  </tbody>\n",
       "</table>\n",
       "</div>"
      ],
      "text/plain": [
       "        Date   Beat BlockRange StreetName OffenseType Premise  NumOffenses  \\\n",
       "0 2013-04-25  19G10  9400-9499   WOODFAIR      Murder     13R          1.0   \n",
       "1 2013-04-19   2A20  1300-1399       29TH      Murder     13R          1.0   \n",
       "2 2013-04-18  14D20  4000-4099     REDBUD      Murder     13R          1.0   \n",
       "3 2013-04-20   2A60  1900-1999       ELLA        Rape     13R          1.0   \n",
       "4 2013-04-06   2A50  4200-4299    KOEHLER        Rape     13R          1.0   \n",
       "\n",
       "   Hour   Premise Description  \n",
       "0   5.0  ROAD/STREET/SIDEWALK  \n",
       "1  22.0  ROAD/STREET/SIDEWALK  \n",
       "2  21.0  ROAD/STREET/SIDEWALK  \n",
       "3  20.0  ROAD/STREET/SIDEWALK  \n",
       "4   4.0  ROAD/STREET/SIDEWALK  "
      ]
     },
     "execution_count": 17,
     "metadata": {},
     "output_type": "execute_result"
    }
   ],
   "source": [
    "crimes.head()"
   ]
  },
  {
   "cell_type": "code",
   "execution_count": 18,
   "metadata": {},
   "outputs": [
    {
     "data": {
      "text/plain": [
       "Date                      2\n",
       "Beat                      2\n",
       "BlockRange                2\n",
       "StreetName                2\n",
       "OffenseType               2\n",
       "Premise                   0\n",
       "NumOffenses               2\n",
       "Hour                      2\n",
       "Premise Description    1103\n",
       "dtype: int64"
      ]
     },
     "execution_count": 18,
     "metadata": {},
     "output_type": "execute_result"
    }
   ],
   "source": [
    "crimes.apply(lambda x: sum(x.isnull()))"
   ]
  },
  {
   "cell_type": "code",
   "execution_count": 19,
   "metadata": {},
   "outputs": [
    {
     "data": {
      "image/png": "[encoded data removed]",
      "text/plain": [
       "<Figure size 432x288 with 1 Axes>"
      ]
     },
     "metadata": {},
     "output_type": "display_data"
    }
   ],
   "source": [
    "sns.heatmap(crimes.isnull(),yticklabels=False,cbar=False,cmap='viridis')\n",
    "plt.title('Null dataset display')\n",
    "plt.show()"
   ]
  },
  {
   "cell_type": "code",
   "execution_count": 20,
   "metadata": {},
   "outputs": [
    {
     "data": {
      "text/html": [
       "<div>\n",
       "<style scoped>\n",
       "    .dataframe tbody tr th:only-of-type {\n",
       "        vertical-align: middle;\n",
       "    }\n",
       "\n",
       "    .dataframe tbody tr th {\n",
       "        vertical-align: top;\n",
       "    }\n",
       "\n",
       "    .dataframe thead th {\n",
       "        text-align: right;\n",
       "    }\n",
       "</style>\n",
       "<table border=\"1\" class=\"dataframe\">\n",
       "  <thead>\n",
       "    <tr style=\"text-align: right;\">\n",
       "      <th></th>\n",
       "      <th>Date</th>\n",
       "      <th>Beat</th>\n",
       "      <th>BlockRange</th>\n",
       "      <th>StreetName</th>\n",
       "      <th>OffenseType</th>\n",
       "      <th>Premise</th>\n",
       "      <th>NumOffenses</th>\n",
       "      <th>Hour</th>\n",
       "      <th>Premise Description</th>\n",
       "    </tr>\n",
       "  </thead>\n",
       "  <tbody>\n",
       "    <tr>\n",
       "      <th>124086</th>\n",
       "      <td>2013-04-24</td>\n",
       "      <td>12D40</td>\n",
       "      <td>11800-11899</td>\n",
       "      <td>TEANECK</td>\n",
       "      <td>Aggravated Assault</td>\n",
       "      <td>---</td>\n",
       "      <td>1.0</td>\n",
       "      <td>22.0</td>\n",
       "      <td>NaN</td>\n",
       "    </tr>\n",
       "    <tr>\n",
       "      <th>124087</th>\n",
       "      <td>2013-04-22</td>\n",
       "      <td>1A20</td>\n",
       "      <td>500-599</td>\n",
       "      <td>SUL ROSS</td>\n",
       "      <td>Aggravated Assault</td>\n",
       "      <td>---</td>\n",
       "      <td>1.0</td>\n",
       "      <td>16.0</td>\n",
       "      <td>NaN</td>\n",
       "    </tr>\n",
       "    <tr>\n",
       "      <th>124088</th>\n",
       "      <td>2013-04-19</td>\n",
       "      <td>7C20</td>\n",
       "      <td>3500-3599</td>\n",
       "      <td>LOCKWOOD</td>\n",
       "      <td>Aggravated Assault</td>\n",
       "      <td>---</td>\n",
       "      <td>1.0</td>\n",
       "      <td>15.0</td>\n",
       "      <td>NaN</td>\n",
       "    </tr>\n",
       "    <tr>\n",
       "      <th>124089</th>\n",
       "      <td>2013-04-02</td>\n",
       "      <td>18F50</td>\n",
       "      <td>9200-9299</td>\n",
       "      <td>RICHMOND</td>\n",
       "      <td>Aggravated Assault</td>\n",
       "      <td>---</td>\n",
       "      <td>1.0</td>\n",
       "      <td>20.0</td>\n",
       "      <td>NaN</td>\n",
       "    </tr>\n",
       "    <tr>\n",
       "      <th>124090</th>\n",
       "      <td>2013-04-03</td>\n",
       "      <td>16E20</td>\n",
       "      <td>13300-13399</td>\n",
       "      <td>HIRAM CLARKE</td>\n",
       "      <td>Aggravated Assault</td>\n",
       "      <td>---</td>\n",
       "      <td>1.0</td>\n",
       "      <td>7.0</td>\n",
       "      <td>NaN</td>\n",
       "    </tr>\n",
       "  </tbody>\n",
       "</table>\n",
       "</div>"
      ],
      "text/plain": [
       "             Date   Beat   BlockRange    StreetName         OffenseType  \\\n",
       "124086 2013-04-24  12D40  11800-11899       TEANECK  Aggravated Assault   \n",
       "124087 2013-04-22   1A20      500-599      SUL ROSS  Aggravated Assault   \n",
       "124088 2013-04-19   7C20    3500-3599      LOCKWOOD  Aggravated Assault   \n",
       "124089 2013-04-02  18F50    9200-9299      RICHMOND  Aggravated Assault   \n",
       "124090 2013-04-03  16E20  13300-13399  HIRAM CLARKE  Aggravated Assault   \n",
       "\n",
       "       Premise  NumOffenses  Hour Premise Description  \n",
       "124086     ---          1.0  22.0                 NaN  \n",
       "124087     ---          1.0  16.0                 NaN  \n",
       "124088     ---          1.0  15.0                 NaN  \n",
       "124089     ---          1.0  20.0                 NaN  \n",
       "124090     ---          1.0   7.0                 NaN  "
      ]
     },
     "execution_count": 20,
     "metadata": {},
     "output_type": "execute_result"
    }
   ],
   "source": [
    "crimes[crimes['Premise'] == '---'].head()"
   ]
  },
  {
   "cell_type": "code",
   "execution_count": 21,
   "metadata": {},
   "outputs": [
    {
     "data": {
      "text/plain": [
       "1019"
      ]
     },
     "execution_count": 21,
     "metadata": {},
     "output_type": "execute_result"
    }
   ],
   "source": [
    "len(crimes[crimes['Premise'] == '---'])"
   ]
  },
  {
   "cell_type": "code",
   "execution_count": 22,
   "metadata": {},
   "outputs": [
    {
     "data": {
      "text/plain": [
       "41"
      ]
     },
     "execution_count": 22,
     "metadata": {},
     "output_type": "execute_result"
    }
   ],
   "source": [
    "len(crimes[crimes['Premise'] == 'N'])"
   ]
  },
  {
   "cell_type": "code",
   "execution_count": 23,
   "metadata": {},
   "outputs": [],
   "source": [
    "crimes.loc[crimes['Premise Description'].isnull(),'Premise Description'] = crimes['Premise']"
   ]
  },
  {
   "cell_type": "code",
   "execution_count": 24,
   "metadata": {},
   "outputs": [
    {
     "data": {
      "text/plain": [
       "0"
      ]
     },
     "execution_count": 24,
     "metadata": {},
     "output_type": "execute_result"
    }
   ],
   "source": [
    "len(crimes[crimes['Premise Description'].isnull()])"
   ]
  },
  {
   "cell_type": "code",
   "execution_count": 25,
   "metadata": {},
   "outputs": [
    {
     "data": {
      "image/png": "[encoded data removed]",
      "text/plain": [
       "<Figure size 432x288 with 1 Axes>"
      ]
     },
     "metadata": {},
     "output_type": "display_data"
    }
   ],
   "source": [
    "sns.heatmap(crimes.isnull(),yticklabels=False,cbar=False,cmap='viridis')\n",
    "plt.title('Nulls display')\n",
    "plt.show()"
   ]
  },
  {
   "cell_type": "code",
   "execution_count": 26,
   "metadata": {},
   "outputs": [
    {
     "data": {
      "text/plain": [
       "Date                   2\n",
       "Beat                   2\n",
       "BlockRange             2\n",
       "StreetName             2\n",
       "OffenseType            2\n",
       "Premise                0\n",
       "NumOffenses            2\n",
       "Hour                   2\n",
       "Premise Description    0\n",
       "dtype: int64"
      ]
     },
     "execution_count": 26,
     "metadata": {},
     "output_type": "execute_result"
    }
   ],
   "source": [
    "crimes.apply(lambda x: sum(x.isnull()))"
   ]
  },
  {
   "cell_type": "markdown",
   "metadata": {},
   "source": [
    "## drop rows with 2 or 3 missing values"
   ]
  },
  {
   "cell_type": "code",
   "execution_count": 27,
   "metadata": {},
   "outputs": [],
   "source": [
    "#crimes = crimes.dropna(thresh=3)\n",
    "crimes = crimes.dropna(subset=['Date'])"
   ]
  },
  {
   "cell_type": "code",
   "execution_count": 28,
   "metadata": {},
   "outputs": [
    {
     "data": {
      "text/plain": [
       "Date                   0\n",
       "Beat                   0\n",
       "BlockRange             0\n",
       "StreetName             0\n",
       "OffenseType            0\n",
       "Premise                0\n",
       "NumOffenses            0\n",
       "Hour                   0\n",
       "Premise Description    0\n",
       "dtype: int64"
      ]
     },
     "execution_count": 28,
     "metadata": {},
     "output_type": "execute_result"
    }
   ],
   "source": [
    "crimes.apply(lambda x: sum(x.isnull()))"
   ]
  },
  {
   "cell_type": "code",
   "execution_count": 29,
   "metadata": {},
   "outputs": [],
   "source": [
    "crimes = crimes.dropna(thresh=3)"
   ]
  },
  {
   "cell_type": "code",
   "execution_count": 30,
   "metadata": {},
   "outputs": [
    {
     "data": {
      "text/plain": [
       "Date                   0\n",
       "Beat                   0\n",
       "BlockRange             0\n",
       "StreetName             0\n",
       "OffenseType            0\n",
       "Premise                0\n",
       "NumOffenses            0\n",
       "Hour                   0\n",
       "Premise Description    0\n",
       "dtype: int64"
      ]
     },
     "execution_count": 30,
     "metadata": {},
     "output_type": "execute_result"
    }
   ],
   "source": [
    "crimes.apply(lambda x: sum(x.isnull()))"
   ]
  },
  {
   "cell_type": "markdown",
   "metadata": {},
   "source": [
    "# FIND NAN"
   ]
  },
  {
   "cell_type": "markdown",
   "metadata": {},
   "source": [
    "## Find NaN\n",
    "- drop if > 2 nan"
   ]
  },
  {
   "cell_type": "code",
   "execution_count": 31,
   "metadata": {},
   "outputs": [
    {
     "data": {
      "text/plain": [
       "Date                   0\n",
       "Beat                   0\n",
       "BlockRange             0\n",
       "StreetName             0\n",
       "OffenseType            0\n",
       "Premise                0\n",
       "NumOffenses            0\n",
       "Hour                   0\n",
       "Premise Description    0\n",
       "dtype: int64"
      ]
     },
     "execution_count": 31,
     "metadata": {},
     "output_type": "execute_result"
    }
   ],
   "source": [
    "crimes.apply(lambda x: sum(x.isnull()))"
   ]
  },
  {
   "cell_type": "code",
   "execution_count": 32,
   "metadata": {},
   "outputs": [
    {
     "data": {
      "text/html": [
       "<div>\n",
       "<style scoped>\n",
       "    .dataframe tbody tr th:only-of-type {\n",
       "        vertical-align: middle;\n",
       "    }\n",
       "\n",
       "    .dataframe tbody tr th {\n",
       "        vertical-align: top;\n",
       "    }\n",
       "\n",
       "    .dataframe thead th {\n",
       "        text-align: right;\n",
       "    }\n",
       "</style>\n",
       "<table border=\"1\" class=\"dataframe\">\n",
       "  <thead>\n",
       "    <tr style=\"text-align: right;\">\n",
       "      <th></th>\n",
       "      <th>Date</th>\n",
       "      <th>Beat</th>\n",
       "      <th>BlockRange</th>\n",
       "      <th>StreetName</th>\n",
       "      <th>OffenseType</th>\n",
       "      <th>Premise</th>\n",
       "      <th>NumOffenses</th>\n",
       "      <th>Hour</th>\n",
       "      <th>Premise Description</th>\n",
       "    </tr>\n",
       "  </thead>\n",
       "  <tbody>\n",
       "  </tbody>\n",
       "</table>\n",
       "</div>"
      ],
      "text/plain": [
       "Empty DataFrame\n",
       "Columns: [Date, Beat, BlockRange, StreetName, OffenseType, Premise, NumOffenses, Hour, Premise Description]\n",
       "Index: []"
      ]
     },
     "execution_count": 32,
     "metadata": {},
     "output_type": "execute_result"
    }
   ],
   "source": [
    "crimes[crimes.isnull().any(axis=1)].head()"
   ]
  },
  {
   "cell_type": "markdown",
   "metadata": {},
   "source": [
    "## Problem\n",
    "- find nan values and fix"
   ]
  },
  {
   "cell_type": "code",
   "execution_count": 33,
   "metadata": {},
   "outputs": [],
   "source": [
    "null_premise = crimes.Premise.isnull()"
   ]
  },
  {
   "cell_type": "code",
   "execution_count": 34,
   "metadata": {},
   "outputs": [],
   "source": [
    "crimes['Premise'] = crimes[\"Premise\"].fillna('none')"
   ]
  },
  {
   "cell_type": "code",
   "execution_count": 35,
   "metadata": {},
   "outputs": [
    {
     "data": {
      "text/plain": [
       "Date                   0\n",
       "Beat                   0\n",
       "BlockRange             0\n",
       "StreetName             0\n",
       "OffenseType            0\n",
       "Premise                0\n",
       "NumOffenses            0\n",
       "Hour                   0\n",
       "Premise Description    0\n",
       "dtype: int64"
      ]
     },
     "execution_count": 35,
     "metadata": {},
     "output_type": "execute_result"
    }
   ],
   "source": [
    "crimes.apply(lambda x: sum(x.isnull()))"
   ]
  },
  {
   "cell_type": "markdown",
   "metadata": {},
   "source": [
    "## Inspect each column"
   ]
  },
  {
   "cell_type": "code",
   "execution_count": 36,
   "metadata": {},
   "outputs": [
    {
     "data": {
      "text/plain": [
       "Date                   datetime64[ns]\n",
       "Beat                           object\n",
       "BlockRange                     object\n",
       "StreetName                     object\n",
       "OffenseType                    object\n",
       "Premise                        object\n",
       "NumOffenses                   float64\n",
       "Hour                          float64\n",
       "Premise Description            object\n",
       "dtype: object"
      ]
     },
     "execution_count": 36,
     "metadata": {},
     "output_type": "execute_result"
    }
   ],
   "source": [
    "crimes.dtypes"
   ]
  },
  {
   "cell_type": "markdown",
   "metadata": {},
   "source": [
    "## Beat column\n",
    "- total beats should be around 120"
   ]
  },
  {
   "cell_type": "code",
   "execution_count": 37,
   "metadata": {},
   "outputs": [
    {
     "data": {
      "text/plain": [
       "120"
      ]
     },
     "execution_count": 37,
     "metadata": {},
     "output_type": "execute_result"
    }
   ],
   "source": [
    "len(crimes.Beat.value_counts())"
   ]
  },
  {
   "cell_type": "code",
   "execution_count": 38,
   "metadata": {},
   "outputs": [
    {
     "data": {
      "text/plain": [
       "120"
      ]
     },
     "execution_count": 38,
     "metadata": {},
     "output_type": "execute_result"
    }
   ],
   "source": [
    "len(crimes.Beat.value_counts(dropna=False))"
   ]
  },
  {
   "cell_type": "code",
   "execution_count": 39,
   "metadata": {},
   "outputs": [
    {
     "data": {
      "text/plain": [
       "array(['19G10', '2A20', '14D20', '2A60', '2A50', '19G20', '6B40', '8C10',\n",
       "       '17E30', '16E10'], dtype=object)"
      ]
     },
     "execution_count": 39,
     "metadata": {},
     "output_type": "execute_result"
    }
   ],
   "source": [
    "crimes.Beat.unique()[:10]"
   ]
  },
  {
   "cell_type": "code",
   "execution_count": 40,
   "metadata": {},
   "outputs": [],
   "source": [
    "# replace extra ' with empty space\n",
    "crimes['Beat'] = crimes.Beat.str.replace(\"'\", \" \")"
   ]
  },
  {
   "cell_type": "code",
   "execution_count": 41,
   "metadata": {},
   "outputs": [
    {
     "data": {
      "text/plain": [
       "120"
      ]
     },
     "execution_count": 41,
     "metadata": {},
     "output_type": "execute_result"
    }
   ],
   "source": [
    "len(crimes.Beat.value_counts(dropna=False))"
   ]
  },
  {
   "cell_type": "code",
   "execution_count": 42,
   "metadata": {},
   "outputs": [],
   "source": [
    "# strip empty spaces\n",
    "crimes.Beat = crimes.Beat.str.strip()"
   ]
  },
  {
   "cell_type": "code",
   "execution_count": 43,
   "metadata": {},
   "outputs": [
    {
     "data": {
      "text/plain": [
       "120"
      ]
     },
     "execution_count": 43,
     "metadata": {},
     "output_type": "execute_result"
    }
   ],
   "source": [
    "len(crimes.Beat.value_counts(dropna=False))  # get the total"
   ]
  },
  {
   "cell_type": "code",
   "execution_count": 44,
   "metadata": {},
   "outputs": [
    {
     "data": {
      "text/plain": [
       "array(['19G10', '2A20', '14D20', '2A60', '2A50', '19G20', '6B40', '8C10',\n",
       "       '17E30', '16E10', '9C40', '17E20', '7C10', '1A10', '8C40', '14D10',\n",
       "       '10H40', '10H50', '13D20', '3B10', '10H60', '3B50', '1A20',\n",
       "       '20G10', '6B60', '17E10', '15E20', '20G30', '16E20', '2A10',\n",
       "       '18F40', '19G30', '7C30', '20G70', '16E30', '18F50', '17E40',\n",
       "       '20G40', '6B10', '11H30', '20G20', '14D30', '7C20', '3B40',\n",
       "       '15E30', '18F30', '10H20', '6B20', '6B30', '11H10', '6B50', '5F20',\n",
       "       '1A30', '8C20', '2A30', '12D10', '19G50', '19G40', '13D10',\n",
       "       '10H10', '5F30', '12D70', '20G60', '14D40', '24C30', '5F40',\n",
       "       '1A40', '16E40', '3B30', '11H20', '8C60', '10H30', '9C30', '9C20',\n",
       "       '13D40', '8C30', '7C40', '8C50', '10H80', '12D50', '24C10',\n",
       "       '10H70', '9C10', '18F60', '4F10', '4F20', '11H50', '12D30', '1A50',\n",
       "       '20G80', '18F10', '7C50', '18F20', '12D20', '20G50', '2A40',\n",
       "       '24C40', 'UNK', '5F10', '21I50', '15E40', '12D60', '11H40',\n",
       "       '15E10', '12D40', '14D50', '4F30', '24C50', '24C60', '24C20',\n",
       "       '13D30', '23J50', '23J40', '21I60', '21I30', '21I10', '23J30',\n",
       "       '21I20', '21I70', '21I40'], dtype=object)"
      ]
     },
     "execution_count": 44,
     "metadata": {},
     "output_type": "execute_result"
    }
   ],
   "source": [
    "crimes.Beat.unique()"
   ]
  },
  {
   "cell_type": "code",
   "execution_count": 45,
   "metadata": {},
   "outputs": [
    {
     "data": {
      "text/plain": [
       "12D10    2787\n",
       "19G10    2777\n",
       "1A20     2651\n",
       "13D20    2607\n",
       "6B60     2589\n",
       "Name: Beat, dtype: int64"
      ]
     },
     "execution_count": 45,
     "metadata": {},
     "output_type": "execute_result"
    }
   ],
   "source": [
    "crimes.Beat.value_counts(dropna=False).head()"
   ]
  },
  {
   "cell_type": "markdown",
   "metadata": {},
   "source": [
    "## BlockRange"
   ]
  },
  {
   "cell_type": "code",
   "execution_count": 46,
   "metadata": {},
   "outputs": [
    {
     "data": {
      "text/plain": [
       "249"
      ]
     },
     "execution_count": 46,
     "metadata": {},
     "output_type": "execute_result"
    }
   ],
   "source": [
    "len(crimes.BlockRange.value_counts(dropna=False))"
   ]
  },
  {
   "cell_type": "code",
   "execution_count": 47,
   "metadata": {},
   "outputs": [
    {
     "data": {
      "text/plain": [
       "100-199      1879\n",
       "900-999      1783\n",
       "9500-9599    1607\n",
       "700-799      1503\n",
       "9400-9499    1485\n",
       "Name: BlockRange, dtype: int64"
      ]
     },
     "execution_count": 47,
     "metadata": {},
     "output_type": "execute_result"
    }
   ],
   "source": [
    "crimes.BlockRange.value_counts(dropna=False).head()"
   ]
  },
  {
   "cell_type": "code",
   "execution_count": 48,
   "metadata": {},
   "outputs": [],
   "source": [
    "# strip\n",
    "crimes.BlockRange =crimes.BlockRange.str.strip()"
   ]
  },
  {
   "cell_type": "code",
   "execution_count": 49,
   "metadata": {},
   "outputs": [
    {
     "data": {
      "text/plain": [
       "249"
      ]
     },
     "execution_count": 49,
     "metadata": {},
     "output_type": "execute_result"
    }
   ],
   "source": [
    "len(crimes.BlockRange.value_counts(dropna=False))"
   ]
  },
  {
   "cell_type": "markdown",
   "metadata": {},
   "source": [
    "## StreetName"
   ]
  },
  {
   "cell_type": "code",
   "execution_count": 50,
   "metadata": {},
   "outputs": [
    {
     "name": "stdout",
     "output_type": "stream",
     "text": [
      "before:7540\n"
     ]
    }
   ],
   "source": [
    "print('before:{}'.format(len(crimes.StreetName.value_counts(dropna=False))))"
   ]
  },
  {
   "cell_type": "code",
   "execution_count": 51,
   "metadata": {},
   "outputs": [],
   "source": [
    "# remove extra spaces\n",
    "crimes.StreetName = crimes.StreetName.str.strip()\n",
    "\n",
    "\n",
    "# make all lower case\n",
    "crimes.StreetName = crimes.StreetName.str.lower()"
   ]
  },
  {
   "cell_type": "code",
   "execution_count": 52,
   "metadata": {},
   "outputs": [
    {
     "name": "stdout",
     "output_type": "stream",
     "text": [
      "after:7540\n"
     ]
    }
   ],
   "source": [
    "print('after:{}'.format(len(crimes.StreetName.value_counts(dropna=False))))"
   ]
  },
  {
   "cell_type": "code",
   "execution_count": 53,
   "metadata": {},
   "outputs": [
    {
     "name": "stdout",
     "output_type": "stream",
     "text": [
      "westheimer    3824\n",
      "gulf          2035\n",
      "gessner       1925\n",
      "richmond      1726\n",
      "north         1679\n",
      "Name: StreetName, dtype: int64\n"
     ]
    }
   ],
   "source": [
    "print(crimes.StreetName.value_counts(dropna=False).head())"
   ]
  },
  {
   "cell_type": "markdown",
   "metadata": {},
   "source": [
    "## OffenseType\n",
    "Total 7\n",
    "- Theft\n",
    "- Burlary\n",
    "- Aggravated Assalult\n",
    "- Robbery\n",
    "- Auto Theft\n",
    "- Rape\n",
    "- Murder\n"
   ]
  },
  {
   "cell_type": "code",
   "execution_count": 54,
   "metadata": {},
   "outputs": [
    {
     "name": "stdout",
     "output_type": "stream",
     "text": [
      "before:7\n"
     ]
    }
   ],
   "source": [
    "print('before:{}'.format(len(crimes.OffenseType.value_counts(dropna=False))))"
   ]
  },
  {
   "cell_type": "code",
   "execution_count": 55,
   "metadata": {},
   "outputs": [],
   "source": [
    "crimes.OffenseType = crimes.OffenseType.str.strip()"
   ]
  },
  {
   "cell_type": "code",
   "execution_count": 56,
   "metadata": {},
   "outputs": [
    {
     "name": "stdout",
     "output_type": "stream",
     "text": [
      "after:7\n"
     ]
    }
   ],
   "source": [
    "print('after:{}'.format(len(crimes.OffenseType.value_counts(dropna=False))))"
   ]
  },
  {
   "cell_type": "code",
   "execution_count": 57,
   "metadata": {},
   "outputs": [
    {
     "name": "stdout",
     "output_type": "stream",
     "text": [
      "Theft                 73591\n",
      "Burglary              23733\n",
      "Auto Theft            13147\n",
      "Robbery                9891\n",
      "Aggravated Assault     9274\n",
      "Rape                    614\n",
      "Murder                  209\n",
      "Name: OffenseType, dtype: int64\n"
     ]
    }
   ],
   "source": [
    "print(crimes.OffenseType.value_counts(dropna=False))"
   ]
  },
  {
   "cell_type": "code",
   "execution_count": 58,
   "metadata": {},
   "outputs": [],
   "source": [
    "# join Auto Theft & AutoTheft\n",
    "crimes.OffenseType = crimes.OffenseType.replace('AutoTheft','Auto Theft')"
   ]
  },
  {
   "cell_type": "markdown",
   "metadata": {},
   "source": [
    "#### fill nans with most common value"
   ]
  },
  {
   "cell_type": "code",
   "execution_count": 59,
   "metadata": {},
   "outputs": [],
   "source": [
    "crimes = crimes.fillna(crimes['OffenseType'].value_counts().index[0])"
   ]
  },
  {
   "cell_type": "code",
   "execution_count": 60,
   "metadata": {},
   "outputs": [
    {
     "name": "stdout",
     "output_type": "stream",
     "text": [
      "Theft                 73591\n",
      "Burglary              23733\n",
      "Auto Theft            13147\n",
      "Robbery                9891\n",
      "Aggravated Assault     9274\n",
      "Rape                    614\n",
      "Murder                  209\n",
      "Name: OffenseType, dtype: int64\n"
     ]
    }
   ],
   "source": [
    "print(crimes.OffenseType.value_counts(dropna=False))"
   ]
  },
  {
   "cell_type": "markdown",
   "metadata": {},
   "source": [
    "## Premise"
   ]
  },
  {
   "cell_type": "code",
   "execution_count": 61,
   "metadata": {},
   "outputs": [
    {
     "name": "stdout",
     "output_type": "stream",
     "text": [
      "before:127\n"
     ]
    }
   ],
   "source": [
    "print('before:{}'.format(len(crimes['Premise Description'].value_counts(dropna=False))))\n",
    "\n",
    "crimes['Premise Description'] = crimes['Premise Description'].str.strip()\n",
    "\n",
    "crimes['Premise Description'] = crimes['Premise Description'].str.lower()"
   ]
  },
  {
   "cell_type": "code",
   "execution_count": 62,
   "metadata": {},
   "outputs": [
    {
     "name": "stdout",
     "output_type": "stream",
     "text": [
      "after:127\n"
     ]
    }
   ],
   "source": [
    "print('after:{}'.format(len(crimes.Premise.value_counts(dropna=False))))"
   ]
  },
  {
   "cell_type": "code",
   "execution_count": 63,
   "metadata": {},
   "outputs": [
    {
     "data": {
      "text/plain": [
       "20R    16499\n",
       "20A    15958\n",
       "18A    14756\n",
       "13R     9713\n",
       "20D     8486\n",
       "Name: Premise, dtype: int64"
      ]
     },
     "execution_count": 63,
     "metadata": {},
     "output_type": "execute_result"
    }
   ],
   "source": [
    "crimes.Premise.value_counts(dropna=False).head()"
   ]
  },
  {
   "cell_type": "markdown",
   "metadata": {},
   "source": [
    "# Date column"
   ]
  },
  {
   "cell_type": "code",
   "execution_count": 64,
   "metadata": {},
   "outputs": [
    {
     "data": {
      "text/plain": [
       "Date                   datetime64[ns]\n",
       "Beat                           object\n",
       "BlockRange                     object\n",
       "StreetName                     object\n",
       "OffenseType                    object\n",
       "Premise                        object\n",
       "NumOffenses                   float64\n",
       "Hour                          float64\n",
       "Premise Description            object\n",
       "dtype: object"
      ]
     },
     "execution_count": 64,
     "metadata": {},
     "output_type": "execute_result"
    }
   ],
   "source": [
    "crimes.dtypes"
   ]
  },
  {
   "cell_type": "markdown",
   "metadata": {},
   "source": [
    "## Date\n",
    "- make datetime index"
   ]
  },
  {
   "cell_type": "code",
   "execution_count": 65,
   "metadata": {},
   "outputs": [],
   "source": [
    "# date\n",
    "crimes.Date = pd.to_datetime(crimes.Date)\n",
    "\n",
    "crimes = crimes.set_index('Date').sort_index(ascending=True)"
   ]
  },
  {
   "cell_type": "code",
   "execution_count": 66,
   "metadata": {},
   "outputs": [
    {
     "data": {
      "text/html": [
       "<div>\n",
       "<style scoped>\n",
       "    .dataframe tbody tr th:only-of-type {\n",
       "        vertical-align: middle;\n",
       "    }\n",
       "\n",
       "    .dataframe tbody tr th {\n",
       "        vertical-align: top;\n",
       "    }\n",
       "\n",
       "    .dataframe thead th {\n",
       "        text-align: right;\n",
       "    }\n",
       "</style>\n",
       "<table border=\"1\" class=\"dataframe\">\n",
       "  <thead>\n",
       "    <tr style=\"text-align: right;\">\n",
       "      <th></th>\n",
       "      <th>Beat</th>\n",
       "      <th>BlockRange</th>\n",
       "      <th>StreetName</th>\n",
       "      <th>OffenseType</th>\n",
       "      <th>Premise</th>\n",
       "      <th>NumOffenses</th>\n",
       "      <th>Hour</th>\n",
       "      <th>Premise Description</th>\n",
       "    </tr>\n",
       "    <tr>\n",
       "      <th>Date</th>\n",
       "      <th></th>\n",
       "      <th></th>\n",
       "      <th></th>\n",
       "      <th></th>\n",
       "      <th></th>\n",
       "      <th></th>\n",
       "      <th></th>\n",
       "      <th></th>\n",
       "    </tr>\n",
       "  </thead>\n",
       "  <tbody>\n",
       "    <tr>\n",
       "      <th>1963-02-02</th>\n",
       "      <td>10H40</td>\n",
       "      <td>3800-3899</td>\n",
       "      <td>main</td>\n",
       "      <td>Theft</td>\n",
       "      <td>09R</td>\n",
       "      <td>1.0</td>\n",
       "      <td>13.0</td>\n",
       "      <td>rehabilitation center</td>\n",
       "    </tr>\n",
       "    <tr>\n",
       "      <th>1972-06-01</th>\n",
       "      <td>12D50</td>\n",
       "      <td>16400-16499</td>\n",
       "      <td>brookvilla</td>\n",
       "      <td>Rape</td>\n",
       "      <td>20R</td>\n",
       "      <td>1.0</td>\n",
       "      <td>0.0</td>\n",
       "      <td>residence/house</td>\n",
       "    </tr>\n",
       "    <tr>\n",
       "      <th>1972-07-15</th>\n",
       "      <td>14D30</td>\n",
       "      <td>5300-5399</td>\n",
       "      <td>northridge</td>\n",
       "      <td>Burglary</td>\n",
       "      <td>---</td>\n",
       "      <td>1.0</td>\n",
       "      <td>20.0</td>\n",
       "      <td>---</td>\n",
       "    </tr>\n",
       "    <tr>\n",
       "      <th>1977-10-14</th>\n",
       "      <td>10H50</td>\n",
       "      <td>3200-3299</td>\n",
       "      <td>truxillo</td>\n",
       "      <td>Theft</td>\n",
       "      <td>18A</td>\n",
       "      <td>1.0</td>\n",
       "      <td>15.0</td>\n",
       "      <td>apartment parking lot</td>\n",
       "    </tr>\n",
       "    <tr>\n",
       "      <th>1979-07-01</th>\n",
       "      <td>11H10</td>\n",
       "      <td>100-199</td>\n",
       "      <td>eastgate</td>\n",
       "      <td>Rape</td>\n",
       "      <td>20R</td>\n",
       "      <td>1.0</td>\n",
       "      <td>0.0</td>\n",
       "      <td>residence/house</td>\n",
       "    </tr>\n",
       "  </tbody>\n",
       "</table>\n",
       "</div>"
      ],
      "text/plain": [
       "             Beat   BlockRange  StreetName OffenseType Premise  NumOffenses  \\\n",
       "Date                                                                          \n",
       "1963-02-02  10H40    3800-3899        main       Theft     09R          1.0   \n",
       "1972-06-01  12D50  16400-16499  brookvilla        Rape     20R          1.0   \n",
       "1972-07-15  14D30    5300-5399  northridge    Burglary     ---          1.0   \n",
       "1977-10-14  10H50    3200-3299    truxillo       Theft     18A          1.0   \n",
       "1979-07-01  11H10      100-199    eastgate        Rape     20R          1.0   \n",
       "\n",
       "            Hour    Premise Description  \n",
       "Date                                     \n",
       "1963-02-02  13.0  rehabilitation center  \n",
       "1972-06-01   0.0        residence/house  \n",
       "1972-07-15  20.0                    ---  \n",
       "1977-10-14  15.0  apartment parking lot  \n",
       "1979-07-01   0.0        residence/house  "
      ]
     },
     "execution_count": 66,
     "metadata": {},
     "output_type": "execute_result"
    }
   ],
   "source": [
    "crimes.head()"
   ]
  },
  {
   "cell_type": "markdown",
   "metadata": {},
   "source": [
    "## Create Columns with day,weekday,month,year from datetime index\n",
    "\n",
    "It allows us to view incorect reports by date better"
   ]
  },
  {
   "cell_type": "code",
   "execution_count": null,
   "metadata": {},
   "outputs": [],
   "source": []
  },
  {
   "cell_type": "code",
   "execution_count": 67,
   "metadata": {},
   "outputs": [],
   "source": [
    "# get day, weekday,month ,year\n",
    "\n",
    "crimes['day'] = crimes.index.strftime('%d')\n",
    "crimes['weekday'] = crimes.index.strftime('%A')\n",
    "crimes['month'] = crimes.index.strftime('%b')\n",
    "crimes['year'] = crimes.index.strftime('%Y')"
   ]
  },
  {
   "cell_type": "code",
   "execution_count": 68,
   "metadata": {},
   "outputs": [
    {
     "data": {
      "text/html": [
       "<div>\n",
       "<style scoped>\n",
       "    .dataframe tbody tr th:only-of-type {\n",
       "        vertical-align: middle;\n",
       "    }\n",
       "\n",
       "    .dataframe tbody tr th {\n",
       "        vertical-align: top;\n",
       "    }\n",
       "\n",
       "    .dataframe thead th {\n",
       "        text-align: right;\n",
       "    }\n",
       "</style>\n",
       "<table border=\"1\" class=\"dataframe\">\n",
       "  <thead>\n",
       "    <tr style=\"text-align: right;\">\n",
       "      <th></th>\n",
       "      <th>Beat</th>\n",
       "      <th>BlockRange</th>\n",
       "      <th>StreetName</th>\n",
       "      <th>OffenseType</th>\n",
       "      <th>Premise</th>\n",
       "      <th>NumOffenses</th>\n",
       "      <th>Hour</th>\n",
       "      <th>Premise Description</th>\n",
       "      <th>day</th>\n",
       "      <th>weekday</th>\n",
       "      <th>month</th>\n",
       "      <th>year</th>\n",
       "    </tr>\n",
       "    <tr>\n",
       "      <th>Date</th>\n",
       "      <th></th>\n",
       "      <th></th>\n",
       "      <th></th>\n",
       "      <th></th>\n",
       "      <th></th>\n",
       "      <th></th>\n",
       "      <th></th>\n",
       "      <th></th>\n",
       "      <th></th>\n",
       "      <th></th>\n",
       "      <th></th>\n",
       "      <th></th>\n",
       "    </tr>\n",
       "  </thead>\n",
       "  <tbody>\n",
       "    <tr>\n",
       "      <th>1963-02-02</th>\n",
       "      <td>10H40</td>\n",
       "      <td>3800-3899</td>\n",
       "      <td>main</td>\n",
       "      <td>Theft</td>\n",
       "      <td>09R</td>\n",
       "      <td>1.0</td>\n",
       "      <td>13.0</td>\n",
       "      <td>rehabilitation center</td>\n",
       "      <td>02</td>\n",
       "      <td>Saturday</td>\n",
       "      <td>Feb</td>\n",
       "      <td>1963</td>\n",
       "    </tr>\n",
       "    <tr>\n",
       "      <th>1972-06-01</th>\n",
       "      <td>12D50</td>\n",
       "      <td>16400-16499</td>\n",
       "      <td>brookvilla</td>\n",
       "      <td>Rape</td>\n",
       "      <td>20R</td>\n",
       "      <td>1.0</td>\n",
       "      <td>0.0</td>\n",
       "      <td>residence/house</td>\n",
       "      <td>01</td>\n",
       "      <td>Thursday</td>\n",
       "      <td>Jun</td>\n",
       "      <td>1972</td>\n",
       "    </tr>\n",
       "    <tr>\n",
       "      <th>1972-07-15</th>\n",
       "      <td>14D30</td>\n",
       "      <td>5300-5399</td>\n",
       "      <td>northridge</td>\n",
       "      <td>Burglary</td>\n",
       "      <td>---</td>\n",
       "      <td>1.0</td>\n",
       "      <td>20.0</td>\n",
       "      <td>---</td>\n",
       "      <td>15</td>\n",
       "      <td>Saturday</td>\n",
       "      <td>Jul</td>\n",
       "      <td>1972</td>\n",
       "    </tr>\n",
       "    <tr>\n",
       "      <th>1977-10-14</th>\n",
       "      <td>10H50</td>\n",
       "      <td>3200-3299</td>\n",
       "      <td>truxillo</td>\n",
       "      <td>Theft</td>\n",
       "      <td>18A</td>\n",
       "      <td>1.0</td>\n",
       "      <td>15.0</td>\n",
       "      <td>apartment parking lot</td>\n",
       "      <td>14</td>\n",
       "      <td>Friday</td>\n",
       "      <td>Oct</td>\n",
       "      <td>1977</td>\n",
       "    </tr>\n",
       "    <tr>\n",
       "      <th>1979-07-01</th>\n",
       "      <td>11H10</td>\n",
       "      <td>100-199</td>\n",
       "      <td>eastgate</td>\n",
       "      <td>Rape</td>\n",
       "      <td>20R</td>\n",
       "      <td>1.0</td>\n",
       "      <td>0.0</td>\n",
       "      <td>residence/house</td>\n",
       "      <td>01</td>\n",
       "      <td>Sunday</td>\n",
       "      <td>Jul</td>\n",
       "      <td>1979</td>\n",
       "    </tr>\n",
       "  </tbody>\n",
       "</table>\n",
       "</div>"
      ],
      "text/plain": [
       "             Beat   BlockRange  StreetName OffenseType Premise  NumOffenses  \\\n",
       "Date                                                                          \n",
       "1963-02-02  10H40    3800-3899        main       Theft     09R          1.0   \n",
       "1972-06-01  12D50  16400-16499  brookvilla        Rape     20R          1.0   \n",
       "1972-07-15  14D30    5300-5399  northridge    Burglary     ---          1.0   \n",
       "1977-10-14  10H50    3200-3299    truxillo       Theft     18A          1.0   \n",
       "1979-07-01  11H10      100-199    eastgate        Rape     20R          1.0   \n",
       "\n",
       "            Hour    Premise Description day   weekday month  year  \n",
       "Date                                                               \n",
       "1963-02-02  13.0  rehabilitation center  02  Saturday   Feb  1963  \n",
       "1972-06-01   0.0        residence/house  01  Thursday   Jun  1972  \n",
       "1972-07-15  20.0                    ---  15  Saturday   Jul  1972  \n",
       "1977-10-14  15.0  apartment parking lot  14    Friday   Oct  1977  \n",
       "1979-07-01   0.0        residence/house  01    Sunday   Jul  1979  "
      ]
     },
     "execution_count": 68,
     "metadata": {},
     "output_type": "execute_result"
    }
   ],
   "source": [
    "crimes.head()"
   ]
  },
  {
   "cell_type": "code",
   "execution_count": 69,
   "metadata": {},
   "outputs": [
    {
     "data": {
      "text/plain": [
       "2013    129021\n",
       "2012      1181\n",
       "2011        49\n",
       "2008        48\n",
       "2005        34\n",
       "2010        30\n",
       "2009        14\n",
       "2006        14\n",
       "2004        12\n",
       "2007        11\n",
       "2000        10\n",
       "2003         7\n",
       "2001         5\n",
       "1993         3\n",
       "2014         2\n",
       "1972         2\n",
       "1980         2\n",
       "2002         2\n",
       "1987         1\n",
       "1963         1\n",
       "2019         1\n",
       "1986         1\n",
       "1990         1\n",
       "1998         1\n",
       "2033         1\n",
       "1989         1\n",
       "1977         1\n",
       "1979         1\n",
       "1994         1\n",
       "1992         1\n",
       "Name: year, dtype: int64"
      ]
     },
     "execution_count": 69,
     "metadata": {},
     "output_type": "execute_result"
    }
   ],
   "source": [
    "crimes.year.value_counts(dropna=False)"
   ]
  },
  {
   "cell_type": "markdown",
   "metadata": {},
   "source": [
    "We can see now that many reports have incorect year"
   ]
  },
  {
   "cell_type": "code",
   "execution_count": null,
   "metadata": {},
   "outputs": [],
   "source": []
  },
  {
   "cell_type": "markdown",
   "metadata": {},
   "source": [
    "## null values\n",
    "\n",
    "- check\n",
    "- count\n",
    "- display"
   ]
  },
  {
   "cell_type": "code",
   "execution_count": 70,
   "metadata": {},
   "outputs": [
    {
     "data": {
      "text/plain": [
       "Beat                   0\n",
       "BlockRange             0\n",
       "StreetName             0\n",
       "OffenseType            0\n",
       "Premise                0\n",
       "NumOffenses            0\n",
       "Hour                   0\n",
       "Premise Description    0\n",
       "day                    0\n",
       "weekday                0\n",
       "month                  0\n",
       "year                   0\n",
       "dtype: int64"
      ]
     },
     "execution_count": 70,
     "metadata": {},
     "output_type": "execute_result"
    }
   ],
   "source": [
    "crimes.apply(lambda x: sum(x.isnull()))"
   ]
  },
  {
   "cell_type": "code",
   "execution_count": 71,
   "metadata": {},
   "outputs": [
    {
     "data": {
      "text/plain": [
       "0"
      ]
     },
     "execution_count": 71,
     "metadata": {},
     "output_type": "execute_result"
    }
   ],
   "source": [
    "# display any null\n",
    "len(crimes[crimes.isnull().any(axis=1)])"
   ]
  },
  {
   "cell_type": "code",
   "execution_count": 72,
   "metadata": {},
   "outputs": [
    {
     "data": {
      "text/html": [
       "<div>\n",
       "<style scoped>\n",
       "    .dataframe tbody tr th:only-of-type {\n",
       "        vertical-align: middle;\n",
       "    }\n",
       "\n",
       "    .dataframe tbody tr th {\n",
       "        vertical-align: top;\n",
       "    }\n",
       "\n",
       "    .dataframe thead th {\n",
       "        text-align: right;\n",
       "    }\n",
       "</style>\n",
       "<table border=\"1\" class=\"dataframe\">\n",
       "  <thead>\n",
       "    <tr style=\"text-align: right;\">\n",
       "      <th></th>\n",
       "      <th>Beat</th>\n",
       "      <th>BlockRange</th>\n",
       "      <th>StreetName</th>\n",
       "      <th>OffenseType</th>\n",
       "      <th>Premise</th>\n",
       "      <th>NumOffenses</th>\n",
       "      <th>Hour</th>\n",
       "      <th>Premise Description</th>\n",
       "      <th>day</th>\n",
       "      <th>weekday</th>\n",
       "      <th>month</th>\n",
       "      <th>year</th>\n",
       "    </tr>\n",
       "    <tr>\n",
       "      <th>Date</th>\n",
       "      <th></th>\n",
       "      <th></th>\n",
       "      <th></th>\n",
       "      <th></th>\n",
       "      <th></th>\n",
       "      <th></th>\n",
       "      <th></th>\n",
       "      <th></th>\n",
       "      <th></th>\n",
       "      <th></th>\n",
       "      <th></th>\n",
       "      <th></th>\n",
       "    </tr>\n",
       "  </thead>\n",
       "  <tbody>\n",
       "  </tbody>\n",
       "</table>\n",
       "</div>"
      ],
      "text/plain": [
       "Empty DataFrame\n",
       "Columns: [Beat, BlockRange, StreetName, OffenseType, Premise, NumOffenses, Hour, Premise Description, day, weekday, month, year]\n",
       "Index: []"
      ]
     },
     "execution_count": 72,
     "metadata": {},
     "output_type": "execute_result"
    }
   ],
   "source": [
    "crimes[crimes.isnull().any(axis=1)].head()"
   ]
  },
  {
   "cell_type": "code",
   "execution_count": null,
   "metadata": {},
   "outputs": [],
   "source": []
  },
  {
   "cell_type": "code",
   "execution_count": 73,
   "metadata": {},
   "outputs": [
    {
     "data": {
      "text/plain": [
       "Beat                   0\n",
       "BlockRange             0\n",
       "StreetName             0\n",
       "OffenseType            0\n",
       "Premise                0\n",
       "NumOffenses            0\n",
       "Hour                   0\n",
       "Premise Description    0\n",
       "day                    0\n",
       "weekday                0\n",
       "month                  0\n",
       "year                   0\n",
       "dtype: int64"
      ]
     },
     "execution_count": 73,
     "metadata": {},
     "output_type": "execute_result"
    }
   ],
   "source": [
    "crimes.apply(lambda x: sum(x.isnull()))"
   ]
  },
  {
   "cell_type": "markdown",
   "metadata": {},
   "source": [
    "## New Dataframe\n",
    "- remove premise col\n",
    "- keep premise description"
   ]
  },
  {
   "cell_type": "code",
   "execution_count": 74,
   "metadata": {},
   "outputs": [
    {
     "data": {
      "text/html": [
       "<div>\n",
       "<style scoped>\n",
       "    .dataframe tbody tr th:only-of-type {\n",
       "        vertical-align: middle;\n",
       "    }\n",
       "\n",
       "    .dataframe tbody tr th {\n",
       "        vertical-align: top;\n",
       "    }\n",
       "\n",
       "    .dataframe thead th {\n",
       "        text-align: right;\n",
       "    }\n",
       "</style>\n",
       "<table border=\"1\" class=\"dataframe\">\n",
       "  <thead>\n",
       "    <tr style=\"text-align: right;\">\n",
       "      <th></th>\n",
       "      <th>Beat</th>\n",
       "      <th>BlockRange</th>\n",
       "      <th>StreetName</th>\n",
       "      <th>OffenseType</th>\n",
       "      <th>Premise Description</th>\n",
       "      <th>NumOffenses</th>\n",
       "      <th>Hour</th>\n",
       "      <th>day</th>\n",
       "      <th>weekday</th>\n",
       "      <th>month</th>\n",
       "      <th>year</th>\n",
       "    </tr>\n",
       "    <tr>\n",
       "      <th>Date</th>\n",
       "      <th></th>\n",
       "      <th></th>\n",
       "      <th></th>\n",
       "      <th></th>\n",
       "      <th></th>\n",
       "      <th></th>\n",
       "      <th></th>\n",
       "      <th></th>\n",
       "      <th></th>\n",
       "      <th></th>\n",
       "      <th></th>\n",
       "    </tr>\n",
       "  </thead>\n",
       "  <tbody>\n",
       "    <tr>\n",
       "      <th>1963-02-02</th>\n",
       "      <td>10H40</td>\n",
       "      <td>3800-3899</td>\n",
       "      <td>main</td>\n",
       "      <td>Theft</td>\n",
       "      <td>rehabilitation center</td>\n",
       "      <td>1.0</td>\n",
       "      <td>13.0</td>\n",
       "      <td>02</td>\n",
       "      <td>Saturday</td>\n",
       "      <td>Feb</td>\n",
       "      <td>1963</td>\n",
       "    </tr>\n",
       "    <tr>\n",
       "      <th>1972-06-01</th>\n",
       "      <td>12D50</td>\n",
       "      <td>16400-16499</td>\n",
       "      <td>brookvilla</td>\n",
       "      <td>Rape</td>\n",
       "      <td>residence/house</td>\n",
       "      <td>1.0</td>\n",
       "      <td>0.0</td>\n",
       "      <td>01</td>\n",
       "      <td>Thursday</td>\n",
       "      <td>Jun</td>\n",
       "      <td>1972</td>\n",
       "    </tr>\n",
       "    <tr>\n",
       "      <th>1972-07-15</th>\n",
       "      <td>14D30</td>\n",
       "      <td>5300-5399</td>\n",
       "      <td>northridge</td>\n",
       "      <td>Burglary</td>\n",
       "      <td>---</td>\n",
       "      <td>1.0</td>\n",
       "      <td>20.0</td>\n",
       "      <td>15</td>\n",
       "      <td>Saturday</td>\n",
       "      <td>Jul</td>\n",
       "      <td>1972</td>\n",
       "    </tr>\n",
       "    <tr>\n",
       "      <th>1977-10-14</th>\n",
       "      <td>10H50</td>\n",
       "      <td>3200-3299</td>\n",
       "      <td>truxillo</td>\n",
       "      <td>Theft</td>\n",
       "      <td>apartment parking lot</td>\n",
       "      <td>1.0</td>\n",
       "      <td>15.0</td>\n",
       "      <td>14</td>\n",
       "      <td>Friday</td>\n",
       "      <td>Oct</td>\n",
       "      <td>1977</td>\n",
       "    </tr>\n",
       "    <tr>\n",
       "      <th>1979-07-01</th>\n",
       "      <td>11H10</td>\n",
       "      <td>100-199</td>\n",
       "      <td>eastgate</td>\n",
       "      <td>Rape</td>\n",
       "      <td>residence/house</td>\n",
       "      <td>1.0</td>\n",
       "      <td>0.0</td>\n",
       "      <td>01</td>\n",
       "      <td>Sunday</td>\n",
       "      <td>Jul</td>\n",
       "      <td>1979</td>\n",
       "    </tr>\n",
       "  </tbody>\n",
       "</table>\n",
       "</div>"
      ],
      "text/plain": [
       "             Beat   BlockRange  StreetName OffenseType    Premise Description  \\\n",
       "Date                                                                            \n",
       "1963-02-02  10H40    3800-3899        main       Theft  rehabilitation center   \n",
       "1972-06-01  12D50  16400-16499  brookvilla        Rape        residence/house   \n",
       "1972-07-15  14D30    5300-5399  northridge    Burglary                    ---   \n",
       "1977-10-14  10H50    3200-3299    truxillo       Theft  apartment parking lot   \n",
       "1979-07-01  11H10      100-199    eastgate        Rape        residence/house   \n",
       "\n",
       "            NumOffenses  Hour day   weekday month  year  \n",
       "Date                                                     \n",
       "1963-02-02          1.0  13.0  02  Saturday   Feb  1963  \n",
       "1972-06-01          1.0   0.0  01  Thursday   Jun  1972  \n",
       "1972-07-15          1.0  20.0  15  Saturday   Jul  1972  \n",
       "1977-10-14          1.0  15.0  14    Friday   Oct  1977  \n",
       "1979-07-01          1.0   0.0  01    Sunday   Jul  1979  "
      ]
     },
     "execution_count": 74,
     "metadata": {},
     "output_type": "execute_result"
    }
   ],
   "source": [
    "crime_yr = crimes[['Beat','BlockRange','StreetName','OffenseType','Premise Description','NumOffenses','Hour','day','weekday','month','year']]\n",
    "crime_yr.head()"
   ]
  },
  {
   "cell_type": "code",
   "execution_count": 75,
   "metadata": {},
   "outputs": [
    {
     "data": {
      "text/plain": [
       "Beat                   0\n",
       "BlockRange             0\n",
       "StreetName             0\n",
       "OffenseType            0\n",
       "Premise Description    0\n",
       "NumOffenses            0\n",
       "Hour                   0\n",
       "day                    0\n",
       "weekday                0\n",
       "month                  0\n",
       "year                   0\n",
       "dtype: int64"
      ]
     },
     "execution_count": 75,
     "metadata": {},
     "output_type": "execute_result"
    }
   ],
   "source": [
    "crime_yr.apply(lambda x: sum(x.isnull()))"
   ]
  },
  {
   "cell_type": "code",
   "execution_count": 76,
   "metadata": {},
   "outputs": [],
   "source": [
    "# change column name from Premise Descriptionto Premise\n",
    "\n",
    "crime_yr.rename(columns={\n",
    "    'Premise Description': 'Premise',}, inplace=True)\n"
   ]
  },
  {
   "cell_type": "code",
   "execution_count": 77,
   "metadata": {},
   "outputs": [
    {
     "data": {
      "text/html": [
       "<div>\n",
       "<style scoped>\n",
       "    .dataframe tbody tr th:only-of-type {\n",
       "        vertical-align: middle;\n",
       "    }\n",
       "\n",
       "    .dataframe tbody tr th {\n",
       "        vertical-align: top;\n",
       "    }\n",
       "\n",
       "    .dataframe thead th {\n",
       "        text-align: right;\n",
       "    }\n",
       "</style>\n",
       "<table border=\"1\" class=\"dataframe\">\n",
       "  <thead>\n",
       "    <tr style=\"text-align: right;\">\n",
       "      <th></th>\n",
       "      <th>Beat</th>\n",
       "      <th>BlockRange</th>\n",
       "      <th>StreetName</th>\n",
       "      <th>OffenseType</th>\n",
       "      <th>Premise</th>\n",
       "      <th>NumOffenses</th>\n",
       "      <th>Hour</th>\n",
       "      <th>day</th>\n",
       "      <th>weekday</th>\n",
       "      <th>month</th>\n",
       "      <th>year</th>\n",
       "    </tr>\n",
       "    <tr>\n",
       "      <th>Date</th>\n",
       "      <th></th>\n",
       "      <th></th>\n",
       "      <th></th>\n",
       "      <th></th>\n",
       "      <th></th>\n",
       "      <th></th>\n",
       "      <th></th>\n",
       "      <th></th>\n",
       "      <th></th>\n",
       "      <th></th>\n",
       "      <th></th>\n",
       "    </tr>\n",
       "  </thead>\n",
       "  <tbody>\n",
       "    <tr>\n",
       "      <th>1963-02-02</th>\n",
       "      <td>10H40</td>\n",
       "      <td>3800-3899</td>\n",
       "      <td>main</td>\n",
       "      <td>Theft</td>\n",
       "      <td>rehabilitation center</td>\n",
       "      <td>1.0</td>\n",
       "      <td>13.0</td>\n",
       "      <td>02</td>\n",
       "      <td>Saturday</td>\n",
       "      <td>Feb</td>\n",
       "      <td>1963</td>\n",
       "    </tr>\n",
       "    <tr>\n",
       "      <th>1972-06-01</th>\n",
       "      <td>12D50</td>\n",
       "      <td>16400-16499</td>\n",
       "      <td>brookvilla</td>\n",
       "      <td>Rape</td>\n",
       "      <td>residence/house</td>\n",
       "      <td>1.0</td>\n",
       "      <td>0.0</td>\n",
       "      <td>01</td>\n",
       "      <td>Thursday</td>\n",
       "      <td>Jun</td>\n",
       "      <td>1972</td>\n",
       "    </tr>\n",
       "    <tr>\n",
       "      <th>1972-07-15</th>\n",
       "      <td>14D30</td>\n",
       "      <td>5300-5399</td>\n",
       "      <td>northridge</td>\n",
       "      <td>Burglary</td>\n",
       "      <td>---</td>\n",
       "      <td>1.0</td>\n",
       "      <td>20.0</td>\n",
       "      <td>15</td>\n",
       "      <td>Saturday</td>\n",
       "      <td>Jul</td>\n",
       "      <td>1972</td>\n",
       "    </tr>\n",
       "    <tr>\n",
       "      <th>1977-10-14</th>\n",
       "      <td>10H50</td>\n",
       "      <td>3200-3299</td>\n",
       "      <td>truxillo</td>\n",
       "      <td>Theft</td>\n",
       "      <td>apartment parking lot</td>\n",
       "      <td>1.0</td>\n",
       "      <td>15.0</td>\n",
       "      <td>14</td>\n",
       "      <td>Friday</td>\n",
       "      <td>Oct</td>\n",
       "      <td>1977</td>\n",
       "    </tr>\n",
       "    <tr>\n",
       "      <th>1979-07-01</th>\n",
       "      <td>11H10</td>\n",
       "      <td>100-199</td>\n",
       "      <td>eastgate</td>\n",
       "      <td>Rape</td>\n",
       "      <td>residence/house</td>\n",
       "      <td>1.0</td>\n",
       "      <td>0.0</td>\n",
       "      <td>01</td>\n",
       "      <td>Sunday</td>\n",
       "      <td>Jul</td>\n",
       "      <td>1979</td>\n",
       "    </tr>\n",
       "  </tbody>\n",
       "</table>\n",
       "</div>"
      ],
      "text/plain": [
       "             Beat   BlockRange  StreetName OffenseType                Premise  \\\n",
       "Date                                                                            \n",
       "1963-02-02  10H40    3800-3899        main       Theft  rehabilitation center   \n",
       "1972-06-01  12D50  16400-16499  brookvilla        Rape        residence/house   \n",
       "1972-07-15  14D30    5300-5399  northridge    Burglary                    ---   \n",
       "1977-10-14  10H50    3200-3299    truxillo       Theft  apartment parking lot   \n",
       "1979-07-01  11H10      100-199    eastgate        Rape        residence/house   \n",
       "\n",
       "            NumOffenses  Hour day   weekday month  year  \n",
       "Date                                                     \n",
       "1963-02-02          1.0  13.0  02  Saturday   Feb  1963  \n",
       "1972-06-01          1.0   0.0  01  Thursday   Jun  1972  \n",
       "1972-07-15          1.0  20.0  15  Saturday   Jul  1972  \n",
       "1977-10-14          1.0  15.0  14    Friday   Oct  1977  \n",
       "1979-07-01          1.0   0.0  01    Sunday   Jul  1979  "
      ]
     },
     "execution_count": 77,
     "metadata": {},
     "output_type": "execute_result"
    }
   ],
   "source": [
    "crime_yr.head()"
   ]
  },
  {
   "cell_type": "markdown",
   "metadata": {},
   "source": [
    "## Save"
   ]
  },
  {
   "cell_type": "code",
   "execution_count": 78,
   "metadata": {},
   "outputs": [
    {
     "name": "stdout",
     "output_type": "stream",
     "text": [
      "<class 'pandas.core.frame.DataFrame'>\n",
      "DatetimeIndex: 130459 entries, 1963-02-02 to 2033-04-21\n",
      "Data columns (total 11 columns):\n",
      "Beat           130459 non-null object\n",
      "BlockRange     130459 non-null object\n",
      "StreetName     130459 non-null object\n",
      "OffenseType    130459 non-null object\n",
      "Premise        130459 non-null object\n",
      "NumOffenses    130459 non-null float64\n",
      "Hour           130459 non-null float64\n",
      "day            130459 non-null object\n",
      "weekday        130459 non-null object\n",
      "month          130459 non-null object\n",
      "year           130459 non-null object\n",
      "dtypes: float64(2), object(9)\n",
      "memory usage: 11.9+ MB\n"
     ]
    }
   ],
   "source": [
    "crime_yr.info()"
   ]
  },
  {
   "cell_type": "code",
   "execution_count": 79,
   "metadata": {},
   "outputs": [],
   "source": [
    "crime_yr.to_csv('data/clean/crime13_clean.csv')"
   ]
  },
  {
   "cell_type": "code",
   "execution_count": 80,
   "metadata": {},
   "outputs": [
    {
     "name": "stdout",
     "output_type": "stream",
     "text": [
      "\u001b[0m\u001b[01;32mcrime10_clean.csv\u001b[0m*  \u001b[01;32mcrime12_clean.csv\u001b[0m*  \u001b[01;32mcrime14_clean.csv\u001b[0m*  \u001b[01;32mcrime16_clean.csv\u001b[0m*\r\n",
      "\u001b[01;32mcrime11_clean.csv\u001b[0m*  \u001b[01;32mcrime13_clean.csv\u001b[0m*  \u001b[01;32mcrime15_clean.csv\u001b[0m*  \u001b[01;32mcrime17_clean.csv\u001b[0m*\r\n"
     ]
    }
   ],
   "source": [
    "ls data/clean"
   ]
  },
  {
   "cell_type": "code",
   "execution_count": null,
   "metadata": {},
   "outputs": [],
   "source": []
  }
 ],
 "metadata": {
  "kernelspec": {
   "display_name": "Python 3",
   "language": "python",
   "name": "python3"
  },
  "language_info": {
   "codemirror_mode": {
    "name": "ipython",
    "version": 3
   },
   "file_extension": ".py",
   "mimetype": "text/x-python",
   "name": "python",
   "nbconvert_exporter": "python",
   "pygments_lexer": "ipython3",
   "version": "3.6.4"
  }
 },
 "nbformat": 4,
 "nbformat_minor": 2
}
