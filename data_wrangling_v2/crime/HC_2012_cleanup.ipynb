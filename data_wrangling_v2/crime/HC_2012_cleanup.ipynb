{
 "cells": [
  {
   "cell_type": "markdown",
   "metadata": {},
   "source": [
    "# Crime data from 2012\n",
    "\n",
    "http://www.houstontx.gov/police/cs/crime-stats-archives.htm"
   ]
  },
  {
   "cell_type": "code",
   "execution_count": 1,
   "metadata": {},
   "outputs": [],
   "source": [
    "import pandas as pd\n",
    "import glob, os\n",
    "import numpy as np\n",
    "import matplotlib.pyplot as plt\n",
    "import datetime  as dt\n",
    "import seaborn as sns\n",
    "\n",
    "import warnings\n",
    "warnings.filterwarnings('ignore')"
   ]
  },
  {
   "cell_type": "code",
   "execution_count": 2,
   "metadata": {},
   "outputs": [
    {
     "name": "stdout",
     "output_type": "stream",
     "text": [
      "\u001b[0m\u001b[01;32mapr12.xls\u001b[0m*  \u001b[01;32mdec12.xls\u001b[0m*  \u001b[01;32mjan12.xls\u001b[0m*  \u001b[01;32mjun12.xls\u001b[0m*  \u001b[01;32mmay12.xls\u001b[0m*  \u001b[01;32moct12.xls\u001b[0m*\r\n",
      "\u001b[01;32maug12.xls\u001b[0m*  \u001b[01;32mfeb12.xls\u001b[0m*  \u001b[01;32mjul12.xls\u001b[0m*  \u001b[01;32mmar12.xls\u001b[0m*  \u001b[01;32mnov12.xls\u001b[0m*  \u001b[01;32msep12.xls\u001b[0m*\r\n"
     ]
    }
   ],
   "source": [
    "ls data/2012"
   ]
  },
  {
   "cell_type": "code",
   "execution_count": 3,
   "metadata": {},
   "outputs": [],
   "source": [
    "path = 'data/2012'"
   ]
  },
  {
   "cell_type": "code",
   "execution_count": 4,
   "metadata": {},
   "outputs": [],
   "source": [
    "# combine all files into one df\n",
    "all_files = glob.glob(os.path.join(path, \"*.xls\")) \n",
    "df_from_each_file = (pd.read_excel(f) for f in all_files)\n",
    "df   = pd.concat(df_from_each_file, ignore_index=True)"
   ]
  },
  {
   "cell_type": "code",
   "execution_count": 5,
   "metadata": {},
   "outputs": [
    {
     "data": {
      "text/html": [
       "<div>\n",
       "<style scoped>\n",
       "    .dataframe tbody tr th:only-of-type {\n",
       "        vertical-align: middle;\n",
       "    }\n",
       "\n",
       "    .dataframe tbody tr th {\n",
       "        vertical-align: top;\n",
       "    }\n",
       "\n",
       "    .dataframe thead th {\n",
       "        text-align: right;\n",
       "    }\n",
       "</style>\n",
       "<table border=\"1\" class=\"dataframe\">\n",
       "  <thead>\n",
       "    <tr style=\"text-align: right;\">\n",
       "      <th></th>\n",
       "      <th>Date</th>\n",
       "      <th>Hour</th>\n",
       "      <th>Offense Type</th>\n",
       "      <th>Beat</th>\n",
       "      <th>Premise</th>\n",
       "      <th>Block Range</th>\n",
       "      <th>Street Name</th>\n",
       "      <th>Type</th>\n",
       "      <th>Suffix</th>\n",
       "      <th># Of Offenses</th>\n",
       "    </tr>\n",
       "  </thead>\n",
       "  <tbody>\n",
       "    <tr>\n",
       "      <th>0</th>\n",
       "      <td>2012-04-05</td>\n",
       "      <td>2</td>\n",
       "      <td>Murder</td>\n",
       "      <td>17E40</td>\n",
       "      <td>20R</td>\n",
       "      <td>6100-6199</td>\n",
       "      <td>CLARIDGE</td>\n",
       "      <td>DR</td>\n",
       "      <td>-</td>\n",
       "      <td>1</td>\n",
       "    </tr>\n",
       "    <tr>\n",
       "      <th>1</th>\n",
       "      <td>2012-04-04</td>\n",
       "      <td>22</td>\n",
       "      <td>Murder</td>\n",
       "      <td>3B10</td>\n",
       "      <td>18A</td>\n",
       "      <td>11700-11799</td>\n",
       "      <td>HEMPSTEAD</td>\n",
       "      <td>HWY</td>\n",
       "      <td>-</td>\n",
       "      <td>1</td>\n",
       "    </tr>\n",
       "    <tr>\n",
       "      <th>2</th>\n",
       "      <td>2012-04-01</td>\n",
       "      <td>23</td>\n",
       "      <td>Murder</td>\n",
       "      <td>19G10</td>\n",
       "      <td>20A</td>\n",
       "      <td>7500-7599</td>\n",
       "      <td>CORPORATE</td>\n",
       "      <td>DR</td>\n",
       "      <td>-</td>\n",
       "      <td>1</td>\n",
       "    </tr>\n",
       "    <tr>\n",
       "      <th>3</th>\n",
       "      <td>2012-04-21</td>\n",
       "      <td>23</td>\n",
       "      <td>Murder</td>\n",
       "      <td>8C10</td>\n",
       "      <td>20R</td>\n",
       "      <td>6200-6299</td>\n",
       "      <td>RIETTA</td>\n",
       "      <td>-</td>\n",
       "      <td>-</td>\n",
       "      <td>1</td>\n",
       "    </tr>\n",
       "    <tr>\n",
       "      <th>4</th>\n",
       "      <td>2012-04-01</td>\n",
       "      <td>6</td>\n",
       "      <td>Murder</td>\n",
       "      <td>3B10</td>\n",
       "      <td>20A</td>\n",
       "      <td>4200-4299</td>\n",
       "      <td>34TH</td>\n",
       "      <td>ST</td>\n",
       "      <td>W</td>\n",
       "      <td>1</td>\n",
       "    </tr>\n",
       "  </tbody>\n",
       "</table>\n",
       "</div>"
      ],
      "text/plain": [
       "        Date  Hour Offense Type   Beat Premise  Block Range Street Name Type  \\\n",
       "0 2012-04-05     2       Murder  17E40     20R    6100-6199    CLARIDGE   DR   \n",
       "1 2012-04-04    22       Murder   3B10     18A  11700-11799   HEMPSTEAD  HWY   \n",
       "2 2012-04-01    23       Murder  19G10     20A    7500-7599   CORPORATE   DR   \n",
       "3 2012-04-21    23       Murder   8C10     20R    6200-6299      RIETTA    -   \n",
       "4 2012-04-01     6       Murder   3B10     20A    4200-4299        34TH   ST   \n",
       "\n",
       "  Suffix  # Of Offenses  \n",
       "0      -              1  \n",
       "1      -              1  \n",
       "2      -              1  \n",
       "3      -              1  \n",
       "4      W              1  "
      ]
     },
     "execution_count": 5,
     "metadata": {},
     "output_type": "execute_result"
    }
   ],
   "source": [
    "df.head()"
   ]
  },
  {
   "cell_type": "code",
   "execution_count": 6,
   "metadata": {},
   "outputs": [
    {
     "data": {
      "text/html": [
       "<div>\n",
       "<style scoped>\n",
       "    .dataframe tbody tr th:only-of-type {\n",
       "        vertical-align: middle;\n",
       "    }\n",
       "\n",
       "    .dataframe tbody tr th {\n",
       "        vertical-align: top;\n",
       "    }\n",
       "\n",
       "    .dataframe thead th {\n",
       "        text-align: right;\n",
       "    }\n",
       "</style>\n",
       "<table border=\"1\" class=\"dataframe\">\n",
       "  <thead>\n",
       "    <tr style=\"text-align: right;\">\n",
       "      <th></th>\n",
       "      <th>Premise Type</th>\n",
       "      <th>Premise Description</th>\n",
       "    </tr>\n",
       "  </thead>\n",
       "  <tbody>\n",
       "    <tr>\n",
       "      <th>0</th>\n",
       "      <td>01A</td>\n",
       "      <td>AIRPORT TERMINAL</td>\n",
       "    </tr>\n",
       "    <tr>\n",
       "      <th>1</th>\n",
       "      <td>01B</td>\n",
       "      <td>BUS STATION</td>\n",
       "    </tr>\n",
       "    <tr>\n",
       "      <th>2</th>\n",
       "      <td>01K</td>\n",
       "      <td>RAILROAD TRACK/RIGHT OF WAY</td>\n",
       "    </tr>\n",
       "    <tr>\n",
       "      <th>3</th>\n",
       "      <td>01P</td>\n",
       "      <td>PARK &amp; RIDE TERMINAL</td>\n",
       "    </tr>\n",
       "    <tr>\n",
       "      <th>4</th>\n",
       "      <td>01R</td>\n",
       "      <td>LIGHT RAIL VEHICLE</td>\n",
       "    </tr>\n",
       "  </tbody>\n",
       "</table>\n",
       "</div>"
      ],
      "text/plain": [
       "  Premise Type          Premise Description\n",
       "0          01A             AIRPORT TERMINAL\n",
       "1          01B                  BUS STATION\n",
       "2          01K  RAILROAD TRACK/RIGHT OF WAY\n",
       "3          01P         PARK & RIDE TERMINAL\n",
       "4          01R           LIGHT RAIL VEHICLE"
      ]
     },
     "execution_count": 6,
     "metadata": {},
     "output_type": "execute_result"
    }
   ],
   "source": [
    "# get premise codes\n",
    "\n",
    "pc = pd.read_csv('data/premise_codes.csv')\n",
    "pc.head()"
   ]
  },
  {
   "cell_type": "code",
   "execution_count": 7,
   "metadata": {},
   "outputs": [
    {
     "data": {
      "text/html": [
       "<div>\n",
       "<style scoped>\n",
       "    .dataframe tbody tr th:only-of-type {\n",
       "        vertical-align: middle;\n",
       "    }\n",
       "\n",
       "    .dataframe tbody tr th {\n",
       "        vertical-align: top;\n",
       "    }\n",
       "\n",
       "    .dataframe thead th {\n",
       "        text-align: right;\n",
       "    }\n",
       "</style>\n",
       "<table border=\"1\" class=\"dataframe\">\n",
       "  <thead>\n",
       "    <tr style=\"text-align: right;\">\n",
       "      <th></th>\n",
       "      <th>Premise</th>\n",
       "      <th>Premise Description</th>\n",
       "    </tr>\n",
       "  </thead>\n",
       "  <tbody>\n",
       "    <tr>\n",
       "      <th>0</th>\n",
       "      <td>01A</td>\n",
       "      <td>AIRPORT TERMINAL</td>\n",
       "    </tr>\n",
       "    <tr>\n",
       "      <th>1</th>\n",
       "      <td>01B</td>\n",
       "      <td>BUS STATION</td>\n",
       "    </tr>\n",
       "    <tr>\n",
       "      <th>2</th>\n",
       "      <td>01K</td>\n",
       "      <td>RAILROAD TRACK/RIGHT OF WAY</td>\n",
       "    </tr>\n",
       "    <tr>\n",
       "      <th>3</th>\n",
       "      <td>01P</td>\n",
       "      <td>PARK &amp; RIDE TERMINAL</td>\n",
       "    </tr>\n",
       "    <tr>\n",
       "      <th>4</th>\n",
       "      <td>01R</td>\n",
       "      <td>LIGHT RAIL VEHICLE</td>\n",
       "    </tr>\n",
       "  </tbody>\n",
       "</table>\n",
       "</div>"
      ],
      "text/plain": [
       "  Premise          Premise Description\n",
       "0     01A             AIRPORT TERMINAL\n",
       "1     01B                  BUS STATION\n",
       "2     01K  RAILROAD TRACK/RIGHT OF WAY\n",
       "3     01P         PARK & RIDE TERMINAL\n",
       "4     01R           LIGHT RAIL VEHICLE"
      ]
     },
     "execution_count": 7,
     "metadata": {},
     "output_type": "execute_result"
    }
   ],
   "source": [
    "# rename premise column for easy merge\n",
    "pc.rename(columns={'Premise Type': 'Premise',}, inplace=True)\n",
    "pc.head()"
   ]
  },
  {
   "cell_type": "markdown",
   "metadata": {},
   "source": [
    "## Check for missing values"
   ]
  },
  {
   "cell_type": "code",
   "execution_count": 8,
   "metadata": {},
   "outputs": [
    {
     "data": {
      "text/plain": [
       "Date             0\n",
       "Hour             0\n",
       "Offense Type     0\n",
       "Beat             0\n",
       "Premise          0\n",
       "Block Range      0\n",
       "Street Name      0\n",
       "Type             0\n",
       "Suffix           0\n",
       "# Of Offenses    0\n",
       "dtype: int64"
      ]
     },
     "execution_count": 8,
     "metadata": {},
     "output_type": "execute_result"
    }
   ],
   "source": [
    "df.apply(lambda x: sum(x.isnull()))"
   ]
  },
  {
   "cell_type": "code",
   "execution_count": 9,
   "metadata": {},
   "outputs": [
    {
     "data": {
      "image/png": "[encoded data removed]",
      "text/plain": [
       "<Figure size 432x288 with 1 Axes>"
      ]
     },
     "metadata": {},
     "output_type": "display_data"
    }
   ],
   "source": [
    "sns.heatmap(df.isnull(),yticklabels=False,cbar=False,cmap='viridis')\n",
    "plt.title('Null dataset display')\n",
    "plt.show()"
   ]
  },
  {
   "cell_type": "markdown",
   "metadata": {},
   "source": [
    "## Cleanup\n",
    "\n",
    "- joining similar columns\n",
    "- renaming"
   ]
  },
  {
   "cell_type": "code",
   "execution_count": 10,
   "metadata": {},
   "outputs": [
    {
     "name": "stdout",
     "output_type": "stream",
     "text": [
      "<class 'pandas.core.frame.DataFrame'>\n",
      "RangeIndex: 127771 entries, 0 to 127770\n",
      "Data columns (total 10 columns):\n",
      "Date           127771 non-null datetime64[ns]\n",
      "Hour           127771 non-null int64\n",
      "OffenseType    127771 non-null object\n",
      "Beat           127771 non-null object\n",
      "Premise        127771 non-null object\n",
      "BlockRange     127771 non-null object\n",
      "StreetName     127771 non-null object\n",
      "Type           127771 non-null object\n",
      "Suffix         127771 non-null object\n",
      "NumOffenses    127771 non-null int64\n",
      "dtypes: datetime64[ns](1), int64(2), object(7)\n",
      "memory usage: 9.7+ MB\n"
     ]
    }
   ],
   "source": [
    "df.rename(columns={\n",
    "    '# Of Offenses': 'NumOffenses',\n",
    "     'Offense Type': 'OffenseType',\n",
    "    'Block Range': 'BlockRange',\n",
    "    'Street Name': 'StreetName'\n",
    "}, inplace=True)\n",
    "df.info()"
   ]
  },
  {
   "cell_type": "code",
   "execution_count": 11,
   "metadata": {},
   "outputs": [
    {
     "data": {
      "text/plain": [
       "Date           0\n",
       "Hour           0\n",
       "OffenseType    0\n",
       "Beat           0\n",
       "Premise        0\n",
       "BlockRange     0\n",
       "StreetName     0\n",
       "Type           0\n",
       "Suffix         0\n",
       "NumOffenses    0\n",
       "dtype: int64"
      ]
     },
     "execution_count": 11,
     "metadata": {},
     "output_type": "execute_result"
    }
   ],
   "source": [
    "df.apply(lambda x: sum(x.isnull()))"
   ]
  },
  {
   "cell_type": "markdown",
   "metadata": {},
   "source": [
    "## Subset dataframe to work on "
   ]
  },
  {
   "cell_type": "code",
   "execution_count": 12,
   "metadata": {},
   "outputs": [
    {
     "name": "stdout",
     "output_type": "stream",
     "text": [
      "<class 'pandas.core.frame.DataFrame'>\n",
      "RangeIndex: 127771 entries, 0 to 127770\n",
      "Data columns (total 8 columns):\n",
      "Date           127771 non-null datetime64[ns]\n",
      "Beat           127771 non-null object\n",
      "BlockRange     127771 non-null object\n",
      "StreetName     127771 non-null object\n",
      "OffenseType    127771 non-null object\n",
      "Premise        127771 non-null object\n",
      "NumOffenses    127771 non-null int64\n",
      "Hour           127771 non-null int64\n",
      "dtypes: datetime64[ns](1), int64(2), object(5)\n",
      "memory usage: 7.8+ MB\n"
     ]
    }
   ],
   "source": [
    "crimes = df[['Date','Beat','BlockRange','StreetName','OffenseType','Premise','NumOffenses','Hour']]\n",
    "crimes.info()"
   ]
  },
  {
   "cell_type": "code",
   "execution_count": 13,
   "metadata": {},
   "outputs": [
    {
     "data": {
      "image/png": "[encoded data removed]",
      "text/plain": [
       "<Figure size 432x288 with 1 Axes>"
      ]
     },
     "metadata": {},
     "output_type": "display_data"
    }
   ],
   "source": [
    "sns.heatmap(crimes.isnull(),yticklabels=False,cbar=False,cmap='viridis')\n",
    "plt.title('Null dataset display')\n",
    "plt.show()"
   ]
  },
  {
   "cell_type": "markdown",
   "metadata": {},
   "source": [
    "## Join datafames\n",
    " join premise df with crime to extract num values"
   ]
  },
  {
   "cell_type": "code",
   "execution_count": 14,
   "metadata": {},
   "outputs": [
    {
     "data": {
      "text/plain": [
       "20A    16963\n",
       "20R    16740\n",
       "18A    15070\n",
       "13R     9323\n",
       "20D     7823\n",
       "18O     6498\n",
       "080     5651\n",
       "18R     3697\n",
       "250     3642\n",
       "18P     2947\n",
       "Name: Premise, dtype: int64"
      ]
     },
     "execution_count": 14,
     "metadata": {},
     "output_type": "execute_result"
    }
   ],
   "source": [
    "crimes.Premise.value_counts(dropna=False)[:10]"
   ]
  },
  {
   "cell_type": "code",
   "execution_count": 15,
   "metadata": {},
   "outputs": [
    {
     "name": "stdout",
     "output_type": "stream",
     "text": [
      "<class 'pandas.core.frame.DataFrame'>\n",
      "Int64Index: 127774 entries, 0 to 127773\n",
      "Data columns (total 9 columns):\n",
      "Date                   127771 non-null datetime64[ns]\n",
      "Beat                   127771 non-null object\n",
      "BlockRange             127771 non-null object\n",
      "StreetName             127771 non-null object\n",
      "OffenseType            127771 non-null object\n",
      "Premise                127774 non-null object\n",
      "NumOffenses            127771 non-null float64\n",
      "Hour                   127771 non-null float64\n",
      "Premise Description    127148 non-null object\n",
      "dtypes: datetime64[ns](1), float64(2), object(6)\n",
      "memory usage: 9.7+ MB\n"
     ]
    }
   ],
   "source": [
    "# join two datarames\n",
    "crimes = pd.merge(crimes, pc, on='Premise', how='outer')\n",
    "crimes.info()"
   ]
  },
  {
   "cell_type": "code",
   "execution_count": 16,
   "metadata": {},
   "outputs": [
    {
     "data": {
      "text/html": [
       "<div>\n",
       "<style scoped>\n",
       "    .dataframe tbody tr th:only-of-type {\n",
       "        vertical-align: middle;\n",
       "    }\n",
       "\n",
       "    .dataframe tbody tr th {\n",
       "        vertical-align: top;\n",
       "    }\n",
       "\n",
       "    .dataframe thead th {\n",
       "        text-align: right;\n",
       "    }\n",
       "</style>\n",
       "<table border=\"1\" class=\"dataframe\">\n",
       "  <thead>\n",
       "    <tr style=\"text-align: right;\">\n",
       "      <th></th>\n",
       "      <th>Premise</th>\n",
       "      <th>Premise Description</th>\n",
       "    </tr>\n",
       "  </thead>\n",
       "  <tbody>\n",
       "    <tr>\n",
       "      <th>0</th>\n",
       "      <td>20R</td>\n",
       "      <td>RESIDENCE/HOUSE</td>\n",
       "    </tr>\n",
       "    <tr>\n",
       "      <th>1</th>\n",
       "      <td>20R</td>\n",
       "      <td>RESIDENCE/HOUSE</td>\n",
       "    </tr>\n",
       "    <tr>\n",
       "      <th>2</th>\n",
       "      <td>20R</td>\n",
       "      <td>RESIDENCE/HOUSE</td>\n",
       "    </tr>\n",
       "    <tr>\n",
       "      <th>3</th>\n",
       "      <td>20R</td>\n",
       "      <td>RESIDENCE/HOUSE</td>\n",
       "    </tr>\n",
       "    <tr>\n",
       "      <th>4</th>\n",
       "      <td>20R</td>\n",
       "      <td>RESIDENCE/HOUSE</td>\n",
       "    </tr>\n",
       "    <tr>\n",
       "      <th>5</th>\n",
       "      <td>20R</td>\n",
       "      <td>RESIDENCE/HOUSE</td>\n",
       "    </tr>\n",
       "    <tr>\n",
       "      <th>6</th>\n",
       "      <td>20R</td>\n",
       "      <td>RESIDENCE/HOUSE</td>\n",
       "    </tr>\n",
       "    <tr>\n",
       "      <th>7</th>\n",
       "      <td>20R</td>\n",
       "      <td>RESIDENCE/HOUSE</td>\n",
       "    </tr>\n",
       "    <tr>\n",
       "      <th>8</th>\n",
       "      <td>20R</td>\n",
       "      <td>RESIDENCE/HOUSE</td>\n",
       "    </tr>\n",
       "    <tr>\n",
       "      <th>9</th>\n",
       "      <td>20R</td>\n",
       "      <td>RESIDENCE/HOUSE</td>\n",
       "    </tr>\n",
       "    <tr>\n",
       "      <th>10</th>\n",
       "      <td>20R</td>\n",
       "      <td>RESIDENCE/HOUSE</td>\n",
       "    </tr>\n",
       "    <tr>\n",
       "      <th>11</th>\n",
       "      <td>20R</td>\n",
       "      <td>RESIDENCE/HOUSE</td>\n",
       "    </tr>\n",
       "    <tr>\n",
       "      <th>12</th>\n",
       "      <td>20R</td>\n",
       "      <td>RESIDENCE/HOUSE</td>\n",
       "    </tr>\n",
       "    <tr>\n",
       "      <th>13</th>\n",
       "      <td>20R</td>\n",
       "      <td>RESIDENCE/HOUSE</td>\n",
       "    </tr>\n",
       "    <tr>\n",
       "      <th>14</th>\n",
       "      <td>20R</td>\n",
       "      <td>RESIDENCE/HOUSE</td>\n",
       "    </tr>\n",
       "    <tr>\n",
       "      <th>15</th>\n",
       "      <td>20R</td>\n",
       "      <td>RESIDENCE/HOUSE</td>\n",
       "    </tr>\n",
       "    <tr>\n",
       "      <th>16</th>\n",
       "      <td>20R</td>\n",
       "      <td>RESIDENCE/HOUSE</td>\n",
       "    </tr>\n",
       "    <tr>\n",
       "      <th>17</th>\n",
       "      <td>20R</td>\n",
       "      <td>RESIDENCE/HOUSE</td>\n",
       "    </tr>\n",
       "    <tr>\n",
       "      <th>18</th>\n",
       "      <td>20R</td>\n",
       "      <td>RESIDENCE/HOUSE</td>\n",
       "    </tr>\n",
       "    <tr>\n",
       "      <th>19</th>\n",
       "      <td>20R</td>\n",
       "      <td>RESIDENCE/HOUSE</td>\n",
       "    </tr>\n",
       "  </tbody>\n",
       "</table>\n",
       "</div>"
      ],
      "text/plain": [
       "   Premise Premise Description\n",
       "0      20R     RESIDENCE/HOUSE\n",
       "1      20R     RESIDENCE/HOUSE\n",
       "2      20R     RESIDENCE/HOUSE\n",
       "3      20R     RESIDENCE/HOUSE\n",
       "4      20R     RESIDENCE/HOUSE\n",
       "5      20R     RESIDENCE/HOUSE\n",
       "6      20R     RESIDENCE/HOUSE\n",
       "7      20R     RESIDENCE/HOUSE\n",
       "8      20R     RESIDENCE/HOUSE\n",
       "9      20R     RESIDENCE/HOUSE\n",
       "10     20R     RESIDENCE/HOUSE\n",
       "11     20R     RESIDENCE/HOUSE\n",
       "12     20R     RESIDENCE/HOUSE\n",
       "13     20R     RESIDENCE/HOUSE\n",
       "14     20R     RESIDENCE/HOUSE\n",
       "15     20R     RESIDENCE/HOUSE\n",
       "16     20R     RESIDENCE/HOUSE\n",
       "17     20R     RESIDENCE/HOUSE\n",
       "18     20R     RESIDENCE/HOUSE\n",
       "19     20R     RESIDENCE/HOUSE"
      ]
     },
     "execution_count": 16,
     "metadata": {},
     "output_type": "execute_result"
    }
   ],
   "source": [
    "crimes[['Premise', 'Premise Description']].head(20)"
   ]
  },
  {
   "cell_type": "code",
   "execution_count": 17,
   "metadata": {},
   "outputs": [
    {
     "data": {
      "text/html": [
       "<div>\n",
       "<style scoped>\n",
       "    .dataframe tbody tr th:only-of-type {\n",
       "        vertical-align: middle;\n",
       "    }\n",
       "\n",
       "    .dataframe tbody tr th {\n",
       "        vertical-align: top;\n",
       "    }\n",
       "\n",
       "    .dataframe thead th {\n",
       "        text-align: right;\n",
       "    }\n",
       "</style>\n",
       "<table border=\"1\" class=\"dataframe\">\n",
       "  <thead>\n",
       "    <tr style=\"text-align: right;\">\n",
       "      <th></th>\n",
       "      <th>Date</th>\n",
       "      <th>Beat</th>\n",
       "      <th>BlockRange</th>\n",
       "      <th>StreetName</th>\n",
       "      <th>OffenseType</th>\n",
       "      <th>Premise</th>\n",
       "      <th>NumOffenses</th>\n",
       "      <th>Hour</th>\n",
       "      <th>Premise Description</th>\n",
       "    </tr>\n",
       "  </thead>\n",
       "  <tbody>\n",
       "    <tr>\n",
       "      <th>0</th>\n",
       "      <td>2012-04-05</td>\n",
       "      <td>17E40</td>\n",
       "      <td>6100-6199</td>\n",
       "      <td>CLARIDGE</td>\n",
       "      <td>Murder</td>\n",
       "      <td>20R</td>\n",
       "      <td>1.0</td>\n",
       "      <td>2.0</td>\n",
       "      <td>RESIDENCE/HOUSE</td>\n",
       "    </tr>\n",
       "    <tr>\n",
       "      <th>1</th>\n",
       "      <td>2012-04-21</td>\n",
       "      <td>8C10</td>\n",
       "      <td>6200-6299</td>\n",
       "      <td>RIETTA</td>\n",
       "      <td>Murder</td>\n",
       "      <td>20R</td>\n",
       "      <td>1.0</td>\n",
       "      <td>23.0</td>\n",
       "      <td>RESIDENCE/HOUSE</td>\n",
       "    </tr>\n",
       "    <tr>\n",
       "      <th>2</th>\n",
       "      <td>2012-04-30</td>\n",
       "      <td>7C20</td>\n",
       "      <td>4000-4099</td>\n",
       "      <td>LIBERTY</td>\n",
       "      <td>Murder</td>\n",
       "      <td>20R</td>\n",
       "      <td>1.0</td>\n",
       "      <td>8.0</td>\n",
       "      <td>RESIDENCE/HOUSE</td>\n",
       "    </tr>\n",
       "    <tr>\n",
       "      <th>3</th>\n",
       "      <td>2012-04-12</td>\n",
       "      <td>7C50</td>\n",
       "      <td>19400-19499</td>\n",
       "      <td>BORDERS</td>\n",
       "      <td>Rape</td>\n",
       "      <td>20R</td>\n",
       "      <td>1.0</td>\n",
       "      <td>4.0</td>\n",
       "      <td>RESIDENCE/HOUSE</td>\n",
       "    </tr>\n",
       "    <tr>\n",
       "      <th>4</th>\n",
       "      <td>2012-04-23</td>\n",
       "      <td>16E20</td>\n",
       "      <td>4100-4199</td>\n",
       "      <td>KNOTTY OAKS</td>\n",
       "      <td>Rape</td>\n",
       "      <td>20R</td>\n",
       "      <td>1.0</td>\n",
       "      <td>8.0</td>\n",
       "      <td>RESIDENCE/HOUSE</td>\n",
       "    </tr>\n",
       "  </tbody>\n",
       "</table>\n",
       "</div>"
      ],
      "text/plain": [
       "        Date   Beat   BlockRange   StreetName OffenseType Premise  \\\n",
       "0 2012-04-05  17E40    6100-6199     CLARIDGE      Murder     20R   \n",
       "1 2012-04-21   8C10    6200-6299       RIETTA      Murder     20R   \n",
       "2 2012-04-30   7C20    4000-4099      LIBERTY      Murder     20R   \n",
       "3 2012-04-12   7C50  19400-19499      BORDERS        Rape     20R   \n",
       "4 2012-04-23  16E20    4100-4199  KNOTTY OAKS        Rape     20R   \n",
       "\n",
       "   NumOffenses  Hour Premise Description  \n",
       "0          1.0   2.0     RESIDENCE/HOUSE  \n",
       "1          1.0  23.0     RESIDENCE/HOUSE  \n",
       "2          1.0   8.0     RESIDENCE/HOUSE  \n",
       "3          1.0   4.0     RESIDENCE/HOUSE  \n",
       "4          1.0   8.0     RESIDENCE/HOUSE  "
      ]
     },
     "execution_count": 17,
     "metadata": {},
     "output_type": "execute_result"
    }
   ],
   "source": [
    "crimes.head()"
   ]
  },
  {
   "cell_type": "code",
   "execution_count": 18,
   "metadata": {},
   "outputs": [
    {
     "data": {
      "text/plain": [
       "Date                     3\n",
       "Beat                     3\n",
       "BlockRange               3\n",
       "StreetName               3\n",
       "OffenseType              3\n",
       "Premise                  0\n",
       "NumOffenses              3\n",
       "Hour                     3\n",
       "Premise Description    626\n",
       "dtype: int64"
      ]
     },
     "execution_count": 18,
     "metadata": {},
     "output_type": "execute_result"
    }
   ],
   "source": [
    "crimes.apply(lambda x: sum(x.isnull()))"
   ]
  },
  {
   "cell_type": "code",
   "execution_count": 19,
   "metadata": {},
   "outputs": [
    {
     "data": {
      "image/png": "[encoded data removed]",
      "text/plain": [
       "<Figure size 432x288 with 1 Axes>"
      ]
     },
     "metadata": {},
     "output_type": "display_data"
    }
   ],
   "source": [
    "sns.heatmap(crimes.isnull(),yticklabels=False,cbar=False,cmap='viridis')\n",
    "plt.title('Null dataset display')\n",
    "plt.show()"
   ]
  },
  {
   "cell_type": "code",
   "execution_count": 20,
   "metadata": {},
   "outputs": [
    {
     "data": {
      "text/html": [
       "<div>\n",
       "<style scoped>\n",
       "    .dataframe tbody tr th:only-of-type {\n",
       "        vertical-align: middle;\n",
       "    }\n",
       "\n",
       "    .dataframe tbody tr th {\n",
       "        vertical-align: top;\n",
       "    }\n",
       "\n",
       "    .dataframe thead th {\n",
       "        text-align: right;\n",
       "    }\n",
       "</style>\n",
       "<table border=\"1\" class=\"dataframe\">\n",
       "  <thead>\n",
       "    <tr style=\"text-align: right;\">\n",
       "      <th></th>\n",
       "      <th>Date</th>\n",
       "      <th>Beat</th>\n",
       "      <th>BlockRange</th>\n",
       "      <th>StreetName</th>\n",
       "      <th>OffenseType</th>\n",
       "      <th>Premise</th>\n",
       "      <th>NumOffenses</th>\n",
       "      <th>Hour</th>\n",
       "      <th>Premise Description</th>\n",
       "    </tr>\n",
       "  </thead>\n",
       "  <tbody>\n",
       "    <tr>\n",
       "      <th>120221</th>\n",
       "      <td>2012-04-26</td>\n",
       "      <td>19G40</td>\n",
       "      <td>12200-12299</td>\n",
       "      <td>DAIRY ASHFORD</td>\n",
       "      <td>Robbery</td>\n",
       "      <td>---</td>\n",
       "      <td>1.0</td>\n",
       "      <td>22.0</td>\n",
       "      <td>NaN</td>\n",
       "    </tr>\n",
       "    <tr>\n",
       "      <th>120222</th>\n",
       "      <td>2012-04-01</td>\n",
       "      <td>2A50</td>\n",
       "      <td>1300-1399</td>\n",
       "      <td>UTAH</td>\n",
       "      <td>Aggravated Assault</td>\n",
       "      <td>---</td>\n",
       "      <td>1.0</td>\n",
       "      <td>2.0</td>\n",
       "      <td>NaN</td>\n",
       "    </tr>\n",
       "    <tr>\n",
       "      <th>120223</th>\n",
       "      <td>2012-04-05</td>\n",
       "      <td>11H10</td>\n",
       "      <td>7700-7799</td>\n",
       "      <td>CAPITOL</td>\n",
       "      <td>Aggravated Assault</td>\n",
       "      <td>---</td>\n",
       "      <td>1.0</td>\n",
       "      <td>16.0</td>\n",
       "      <td>NaN</td>\n",
       "    </tr>\n",
       "    <tr>\n",
       "      <th>120224</th>\n",
       "      <td>2012-04-18</td>\n",
       "      <td>2A20</td>\n",
       "      <td>600-699</td>\n",
       "      <td>CAVALCADE</td>\n",
       "      <td>Aggravated Assault</td>\n",
       "      <td>---</td>\n",
       "      <td>1.0</td>\n",
       "      <td>10.0</td>\n",
       "      <td>NaN</td>\n",
       "    </tr>\n",
       "    <tr>\n",
       "      <th>120225</th>\n",
       "      <td>2012-04-11</td>\n",
       "      <td>17E40</td>\n",
       "      <td>6600-6699</td>\n",
       "      <td>BELLFORT</td>\n",
       "      <td>Aggravated Assault</td>\n",
       "      <td>---</td>\n",
       "      <td>1.0</td>\n",
       "      <td>19.0</td>\n",
       "      <td>NaN</td>\n",
       "    </tr>\n",
       "  </tbody>\n",
       "</table>\n",
       "</div>"
      ],
      "text/plain": [
       "             Date   Beat   BlockRange     StreetName         OffenseType  \\\n",
       "120221 2012-04-26  19G40  12200-12299  DAIRY ASHFORD             Robbery   \n",
       "120222 2012-04-01   2A50    1300-1399           UTAH  Aggravated Assault   \n",
       "120223 2012-04-05  11H10    7700-7799        CAPITOL  Aggravated Assault   \n",
       "120224 2012-04-18   2A20      600-699      CAVALCADE  Aggravated Assault   \n",
       "120225 2012-04-11  17E40    6600-6699       BELLFORT  Aggravated Assault   \n",
       "\n",
       "       Premise  NumOffenses  Hour Premise Description  \n",
       "120221     ---          1.0  22.0                 NaN  \n",
       "120222     ---          1.0   2.0                 NaN  \n",
       "120223     ---          1.0  16.0                 NaN  \n",
       "120224     ---          1.0  10.0                 NaN  \n",
       "120225     ---          1.0  19.0                 NaN  "
      ]
     },
     "execution_count": 20,
     "metadata": {},
     "output_type": "execute_result"
    }
   ],
   "source": [
    "crimes[crimes['Premise'] == '---'].head()"
   ]
  },
  {
   "cell_type": "code",
   "execution_count": 21,
   "metadata": {},
   "outputs": [
    {
     "data": {
      "text/plain": [
       "582"
      ]
     },
     "execution_count": 21,
     "metadata": {},
     "output_type": "execute_result"
    }
   ],
   "source": [
    "len(crimes[crimes['Premise'] == '---'])"
   ]
  },
  {
   "cell_type": "code",
   "execution_count": 22,
   "metadata": {},
   "outputs": [
    {
     "data": {
      "text/plain": [
       "26"
      ]
     },
     "execution_count": 22,
     "metadata": {},
     "output_type": "execute_result"
    }
   ],
   "source": [
    "len(crimes[crimes['Premise'] == 'N'])"
   ]
  },
  {
   "cell_type": "code",
   "execution_count": 23,
   "metadata": {},
   "outputs": [],
   "source": [
    "crimes.loc[crimes['Premise Description'].isnull(),'Premise Description'] = crimes['Premise']"
   ]
  },
  {
   "cell_type": "code",
   "execution_count": 24,
   "metadata": {},
   "outputs": [
    {
     "data": {
      "text/plain": [
       "0"
      ]
     },
     "execution_count": 24,
     "metadata": {},
     "output_type": "execute_result"
    }
   ],
   "source": [
    "len(crimes[crimes['Premise Description'].isnull()])"
   ]
  },
  {
   "cell_type": "code",
   "execution_count": 25,
   "metadata": {},
   "outputs": [
    {
     "data": {
      "image/png": "[encoded data removed]",
      "text/plain": [
       "<Figure size 432x288 with 1 Axes>"
      ]
     },
     "metadata": {},
     "output_type": "display_data"
    }
   ],
   "source": [
    "sns.heatmap(crimes.isnull(),yticklabels=False,cbar=False,cmap='viridis')\n",
    "plt.title('Nulls display')\n",
    "plt.show()"
   ]
  },
  {
   "cell_type": "code",
   "execution_count": 26,
   "metadata": {},
   "outputs": [
    {
     "data": {
      "text/plain": [
       "Date                   3\n",
       "Beat                   3\n",
       "BlockRange             3\n",
       "StreetName             3\n",
       "OffenseType            3\n",
       "Premise                0\n",
       "NumOffenses            3\n",
       "Hour                   3\n",
       "Premise Description    0\n",
       "dtype: int64"
      ]
     },
     "execution_count": 26,
     "metadata": {},
     "output_type": "execute_result"
    }
   ],
   "source": [
    "crimes.apply(lambda x: sum(x.isnull()))"
   ]
  },
  {
   "cell_type": "markdown",
   "metadata": {},
   "source": [
    "## drop rows with 2 or 3 missing values"
   ]
  },
  {
   "cell_type": "code",
   "execution_count": 27,
   "metadata": {},
   "outputs": [],
   "source": [
    "#crimes = crimes.dropna(thresh=3)\n",
    "crimes = crimes.dropna(subset=['Date'])"
   ]
  },
  {
   "cell_type": "code",
   "execution_count": 28,
   "metadata": {},
   "outputs": [
    {
     "data": {
      "text/plain": [
       "Date                   0\n",
       "Beat                   0\n",
       "BlockRange             0\n",
       "StreetName             0\n",
       "OffenseType            0\n",
       "Premise                0\n",
       "NumOffenses            0\n",
       "Hour                   0\n",
       "Premise Description    0\n",
       "dtype: int64"
      ]
     },
     "execution_count": 28,
     "metadata": {},
     "output_type": "execute_result"
    }
   ],
   "source": [
    "crimes.apply(lambda x: sum(x.isnull()))"
   ]
  },
  {
   "cell_type": "code",
   "execution_count": 29,
   "metadata": {},
   "outputs": [],
   "source": [
    "crimes = crimes.dropna(thresh=3)"
   ]
  },
  {
   "cell_type": "code",
   "execution_count": 30,
   "metadata": {},
   "outputs": [
    {
     "data": {
      "text/plain": [
       "Date                   0\n",
       "Beat                   0\n",
       "BlockRange             0\n",
       "StreetName             0\n",
       "OffenseType            0\n",
       "Premise                0\n",
       "NumOffenses            0\n",
       "Hour                   0\n",
       "Premise Description    0\n",
       "dtype: int64"
      ]
     },
     "execution_count": 30,
     "metadata": {},
     "output_type": "execute_result"
    }
   ],
   "source": [
    "crimes.apply(lambda x: sum(x.isnull()))"
   ]
  },
  {
   "cell_type": "markdown",
   "metadata": {},
   "source": [
    "# FIND NAN"
   ]
  },
  {
   "cell_type": "markdown",
   "metadata": {},
   "source": [
    "## Find NaN\n",
    "- drop if > 2 nan"
   ]
  },
  {
   "cell_type": "code",
   "execution_count": 31,
   "metadata": {},
   "outputs": [
    {
     "data": {
      "text/plain": [
       "Date                   0\n",
       "Beat                   0\n",
       "BlockRange             0\n",
       "StreetName             0\n",
       "OffenseType            0\n",
       "Premise                0\n",
       "NumOffenses            0\n",
       "Hour                   0\n",
       "Premise Description    0\n",
       "dtype: int64"
      ]
     },
     "execution_count": 31,
     "metadata": {},
     "output_type": "execute_result"
    }
   ],
   "source": [
    "crimes.apply(lambda x: sum(x.isnull()))"
   ]
  },
  {
   "cell_type": "code",
   "execution_count": 32,
   "metadata": {},
   "outputs": [
    {
     "data": {
      "text/html": [
       "<div>\n",
       "<style scoped>\n",
       "    .dataframe tbody tr th:only-of-type {\n",
       "        vertical-align: middle;\n",
       "    }\n",
       "\n",
       "    .dataframe tbody tr th {\n",
       "        vertical-align: top;\n",
       "    }\n",
       "\n",
       "    .dataframe thead th {\n",
       "        text-align: right;\n",
       "    }\n",
       "</style>\n",
       "<table border=\"1\" class=\"dataframe\">\n",
       "  <thead>\n",
       "    <tr style=\"text-align: right;\">\n",
       "      <th></th>\n",
       "      <th>Date</th>\n",
       "      <th>Beat</th>\n",
       "      <th>BlockRange</th>\n",
       "      <th>StreetName</th>\n",
       "      <th>OffenseType</th>\n",
       "      <th>Premise</th>\n",
       "      <th>NumOffenses</th>\n",
       "      <th>Hour</th>\n",
       "      <th>Premise Description</th>\n",
       "    </tr>\n",
       "  </thead>\n",
       "  <tbody>\n",
       "  </tbody>\n",
       "</table>\n",
       "</div>"
      ],
      "text/plain": [
       "Empty DataFrame\n",
       "Columns: [Date, Beat, BlockRange, StreetName, OffenseType, Premise, NumOffenses, Hour, Premise Description]\n",
       "Index: []"
      ]
     },
     "execution_count": 32,
     "metadata": {},
     "output_type": "execute_result"
    }
   ],
   "source": [
    "crimes[crimes.isnull().any(axis=1)].head()"
   ]
  },
  {
   "cell_type": "markdown",
   "metadata": {},
   "source": [
    "## Problem\n",
    "- find nan values and fix"
   ]
  },
  {
   "cell_type": "code",
   "execution_count": 33,
   "metadata": {},
   "outputs": [],
   "source": [
    "null_premise = crimes.Premise.isnull()"
   ]
  },
  {
   "cell_type": "code",
   "execution_count": 34,
   "metadata": {},
   "outputs": [],
   "source": [
    "crimes['Premise'] = crimes[\"Premise\"].fillna('none')\n",
    "crimes['Premise Description'] = crimes[\"Premise Description\"].fillna('none')"
   ]
  },
  {
   "cell_type": "code",
   "execution_count": 35,
   "metadata": {},
   "outputs": [
    {
     "data": {
      "text/plain": [
       "Date                   0\n",
       "Beat                   0\n",
       "BlockRange             0\n",
       "StreetName             0\n",
       "OffenseType            0\n",
       "Premise                0\n",
       "NumOffenses            0\n",
       "Hour                   0\n",
       "Premise Description    0\n",
       "dtype: int64"
      ]
     },
     "execution_count": 35,
     "metadata": {},
     "output_type": "execute_result"
    }
   ],
   "source": [
    "crimes.apply(lambda x: sum(x.isnull()))"
   ]
  },
  {
   "cell_type": "markdown",
   "metadata": {},
   "source": [
    "## Inspect each column"
   ]
  },
  {
   "cell_type": "code",
   "execution_count": 36,
   "metadata": {},
   "outputs": [
    {
     "data": {
      "text/plain": [
       "Date                   datetime64[ns]\n",
       "Beat                           object\n",
       "BlockRange                     object\n",
       "StreetName                     object\n",
       "OffenseType                    object\n",
       "Premise                        object\n",
       "NumOffenses                   float64\n",
       "Hour                          float64\n",
       "Premise Description            object\n",
       "dtype: object"
      ]
     },
     "execution_count": 36,
     "metadata": {},
     "output_type": "execute_result"
    }
   ],
   "source": [
    "crimes.dtypes"
   ]
  },
  {
   "cell_type": "markdown",
   "metadata": {},
   "source": [
    "## Beat column\n",
    "- total beats should be around 120"
   ]
  },
  {
   "cell_type": "code",
   "execution_count": 37,
   "metadata": {},
   "outputs": [
    {
     "data": {
      "text/plain": [
       "121"
      ]
     },
     "execution_count": 37,
     "metadata": {},
     "output_type": "execute_result"
    }
   ],
   "source": [
    "len(crimes.Beat.value_counts())"
   ]
  },
  {
   "cell_type": "code",
   "execution_count": 38,
   "metadata": {},
   "outputs": [
    {
     "data": {
      "text/plain": [
       "121"
      ]
     },
     "execution_count": 38,
     "metadata": {},
     "output_type": "execute_result"
    }
   ],
   "source": [
    "len(crimes.Beat.value_counts(dropna=False))"
   ]
  },
  {
   "cell_type": "code",
   "execution_count": 39,
   "metadata": {},
   "outputs": [
    {
     "data": {
      "text/plain": [
       "array(['17E40', '8C10', '7C20', '7C50', '16E20', '10H10', '2A10', '6B10',\n",
       "       '7C10', '1A10'], dtype=object)"
      ]
     },
     "execution_count": 39,
     "metadata": {},
     "output_type": "execute_result"
    }
   ],
   "source": [
    "crimes.Beat.unique()[:10]"
   ]
  },
  {
   "cell_type": "code",
   "execution_count": 40,
   "metadata": {},
   "outputs": [
    {
     "name": "stdout",
     "output_type": "stream",
     "text": [
      "The history saving thread hit an unexpected error (OperationalError('disk I/O error',)).History will not be written to the database.\n"
     ]
    }
   ],
   "source": [
    "# replace extra ' with empty space\n",
    "crimes['Beat'] = crimes.Beat.str.replace(\"'\", \" \")"
   ]
  },
  {
   "cell_type": "code",
   "execution_count": 41,
   "metadata": {},
   "outputs": [
    {
     "data": {
      "text/plain": [
       "121"
      ]
     },
     "execution_count": 41,
     "metadata": {},
     "output_type": "execute_result"
    }
   ],
   "source": [
    "len(crimes.Beat.value_counts(dropna=False))"
   ]
  },
  {
   "cell_type": "code",
   "execution_count": 42,
   "metadata": {},
   "outputs": [],
   "source": [
    "# strip empty spaces\n",
    "crimes.Beat = crimes.Beat.str.strip()"
   ]
  },
  {
   "cell_type": "code",
   "execution_count": 43,
   "metadata": {},
   "outputs": [
    {
     "data": {
      "text/plain": [
       "121"
      ]
     },
     "execution_count": 43,
     "metadata": {},
     "output_type": "execute_result"
    }
   ],
   "source": [
    "len(crimes.Beat.value_counts(dropna=False))  # get the total"
   ]
  },
  {
   "cell_type": "code",
   "execution_count": 44,
   "metadata": {},
   "outputs": [
    {
     "data": {
      "text/plain": [
       "array(['17E40', '8C10', '7C20', '7C50', '16E20', '10H10', '2A10', '6B10',\n",
       "       '7C10', '1A10', '3B10', '3B40', '6B30', '20G70', '3B50', '14D10',\n",
       "       '15E20', '14D30', '11H30', '10H50', '19G30', '12D10', '14D20',\n",
       "       '19G40', '16E10', '12D20', '3B30', '13D10', '17E20', '12D40',\n",
       "       '5F30', '6B20', '18F50', '8C40', '18F10', '5F20', '8C60', '6B40',\n",
       "       '12D60', '15E30', '8C30', '19G20', '8C50', '17E30', '14D40',\n",
       "       '12D70', '9C40', '8C20', '10H40', '20G80', '11H40', '20G40',\n",
       "       '2A30', '16E40', '7C30', '13D20', '2A20', '2A50', '10H20', '16E30',\n",
       "       '20G50', '15E10', '10H60', '6B50', '11H20', '11H10', '9C30',\n",
       "       '9C20', '13D40', '20G20', '18F60', '24C30', '4F20', '5F10', '4F30',\n",
       "       '1A20', '17E10', '19G50', '18F20', '24C10', '4F10', '2A40', '1A30',\n",
       "       '18F30', '20G30', '18F40', '24C60', '19G10', '1A40', '10H80',\n",
       "       '7C40', '5F40', '2A60', '9C10', '20G60', '14D50', '23J40', '10H70',\n",
       "       '13D30', '10H30', '11H50', '12D50', '6B60', '24C20', '1A50',\n",
       "       '20G10', '15E40', 'UNK', '24C40', '12D30', '23J50', '24C50',\n",
       "       '21I50', '23J30', '21I10', '23J20', '21I30', '21I60', '21I20',\n",
       "       '21I70', '21I40'], dtype=object)"
      ]
     },
     "execution_count": 44,
     "metadata": {},
     "output_type": "execute_result"
    }
   ],
   "source": [
    "crimes.Beat.unique()"
   ]
  },
  {
   "cell_type": "code",
   "execution_count": 45,
   "metadata": {},
   "outputs": [
    {
     "data": {
      "text/plain": [
       "12D10    2973\n",
       "19G10    2832\n",
       "6B60     2797\n",
       "3B10     2476\n",
       "13D20    2397\n",
       "Name: Beat, dtype: int64"
      ]
     },
     "execution_count": 45,
     "metadata": {},
     "output_type": "execute_result"
    }
   ],
   "source": [
    "crimes.Beat.value_counts(dropna=False).head()"
   ]
  },
  {
   "cell_type": "markdown",
   "metadata": {},
   "source": [
    "## BlockRange"
   ]
  },
  {
   "cell_type": "code",
   "execution_count": 46,
   "metadata": {},
   "outputs": [
    {
     "data": {
      "text/plain": [
       "243"
      ]
     },
     "execution_count": 46,
     "metadata": {},
     "output_type": "execute_result"
    }
   ],
   "source": [
    "len(crimes.BlockRange.value_counts(dropna=False))"
   ]
  },
  {
   "cell_type": "code",
   "execution_count": 47,
   "metadata": {},
   "outputs": [
    {
     "data": {
      "text/plain": [
       "900-999      1828\n",
       "100-199      1725\n",
       "9400-9499    1681\n",
       "4400-4499    1534\n",
       "800-899      1503\n",
       "Name: BlockRange, dtype: int64"
      ]
     },
     "execution_count": 47,
     "metadata": {},
     "output_type": "execute_result"
    }
   ],
   "source": [
    "crimes.BlockRange.value_counts(dropna=False).head()"
   ]
  },
  {
   "cell_type": "code",
   "execution_count": 48,
   "metadata": {},
   "outputs": [],
   "source": [
    "# strip\n",
    "crimes.BlockRange =crimes.BlockRange.str.strip()"
   ]
  },
  {
   "cell_type": "code",
   "execution_count": 49,
   "metadata": {},
   "outputs": [
    {
     "data": {
      "text/plain": [
       "243"
      ]
     },
     "execution_count": 49,
     "metadata": {},
     "output_type": "execute_result"
    }
   ],
   "source": [
    "len(crimes.BlockRange.value_counts(dropna=False))"
   ]
  },
  {
   "cell_type": "markdown",
   "metadata": {},
   "source": [
    "## StreetName"
   ]
  },
  {
   "cell_type": "code",
   "execution_count": 50,
   "metadata": {},
   "outputs": [
    {
     "name": "stdout",
     "output_type": "stream",
     "text": [
      "before:7553\n"
     ]
    }
   ],
   "source": [
    "print('before:{}'.format(len(crimes.StreetName.value_counts(dropna=False))))"
   ]
  },
  {
   "cell_type": "code",
   "execution_count": 51,
   "metadata": {},
   "outputs": [],
   "source": [
    "# remove extra spaces\n",
    "crimes.StreetName = crimes.StreetName.str.strip()\n",
    "\n",
    "\n",
    "# make all lower case\n",
    "crimes.StreetName = crimes.StreetName.str.lower()"
   ]
  },
  {
   "cell_type": "code",
   "execution_count": 52,
   "metadata": {},
   "outputs": [
    {
     "name": "stdout",
     "output_type": "stream",
     "text": [
      "after:7553\n"
     ]
    }
   ],
   "source": [
    "print('after:{}'.format(len(crimes.StreetName.value_counts(dropna=False))))"
   ]
  },
  {
   "cell_type": "code",
   "execution_count": 53,
   "metadata": {},
   "outputs": [
    {
     "name": "stdout",
     "output_type": "stream",
     "text": [
      "westheimer    3534\n",
      "gessner       2000\n",
      "gulf          1909\n",
      "richmond      1786\n",
      "north         1738\n",
      "Name: StreetName, dtype: int64\n"
     ]
    }
   ],
   "source": [
    "print(crimes.StreetName.value_counts(dropna=False).head())"
   ]
  },
  {
   "cell_type": "markdown",
   "metadata": {},
   "source": [
    "## OffenseType\n",
    "Total 7\n",
    "- Theft\n",
    "- Burlary\n",
    "- Aggravated Assalult\n",
    "- Robbery\n",
    "- Auto Theft\n",
    "- Rape\n",
    "- Murder\n"
   ]
  },
  {
   "cell_type": "code",
   "execution_count": 54,
   "metadata": {},
   "outputs": [
    {
     "name": "stdout",
     "output_type": "stream",
     "text": [
      "before:7\n"
     ]
    }
   ],
   "source": [
    "print('before:{}'.format(len(crimes.OffenseType.value_counts(dropna=False))))"
   ]
  },
  {
   "cell_type": "code",
   "execution_count": 55,
   "metadata": {},
   "outputs": [],
   "source": [
    "crimes.OffenseType = crimes.OffenseType.str.strip()"
   ]
  },
  {
   "cell_type": "code",
   "execution_count": 56,
   "metadata": {},
   "outputs": [
    {
     "name": "stdout",
     "output_type": "stream",
     "text": [
      "after:7\n"
     ]
    }
   ],
   "source": [
    "print('after:{}'.format(len(crimes.OffenseType.value_counts(dropna=False))))"
   ]
  },
  {
   "cell_type": "code",
   "execution_count": 57,
   "metadata": {},
   "outputs": [
    {
     "name": "stdout",
     "output_type": "stream",
     "text": [
      "Theft                 67978\n",
      "Burglary              26630\n",
      "Auto Theft            12672\n",
      "Aggravated Assault    10238\n",
      "Robbery                9385\n",
      "Rape                    663\n",
      "Murder                  205\n",
      "Name: OffenseType, dtype: int64\n"
     ]
    }
   ],
   "source": [
    "print(crimes.OffenseType.value_counts(dropna=False))"
   ]
  },
  {
   "cell_type": "code",
   "execution_count": 58,
   "metadata": {},
   "outputs": [],
   "source": [
    "# join Auto Theft & AutoTheft\n",
    "crimes.OffenseType = crimes.OffenseType.replace('AutoTheft','Auto Theft')"
   ]
  },
  {
   "cell_type": "markdown",
   "metadata": {},
   "source": [
    "#### fill nans with most common value"
   ]
  },
  {
   "cell_type": "code",
   "execution_count": 59,
   "metadata": {},
   "outputs": [],
   "source": [
    "crimes = crimes.fillna(crimes['OffenseType'].value_counts().index[0])"
   ]
  },
  {
   "cell_type": "code",
   "execution_count": 60,
   "metadata": {},
   "outputs": [
    {
     "name": "stdout",
     "output_type": "stream",
     "text": [
      "Theft                 67978\n",
      "Burglary              26630\n",
      "Auto Theft            12672\n",
      "Aggravated Assault    10238\n",
      "Robbery                9385\n",
      "Rape                    663\n",
      "Murder                  205\n",
      "Name: OffenseType, dtype: int64\n"
     ]
    }
   ],
   "source": [
    "print(crimes.OffenseType.value_counts(dropna=False))"
   ]
  },
  {
   "cell_type": "markdown",
   "metadata": {},
   "source": [
    "## Premise"
   ]
  },
  {
   "cell_type": "code",
   "execution_count": 61,
   "metadata": {},
   "outputs": [
    {
     "name": "stdout",
     "output_type": "stream",
     "text": [
      "before:126\n"
     ]
    }
   ],
   "source": [
    "print('before:{}'.format(len(crimes['Premise Description'].value_counts(dropna=False))))\n",
    "\n",
    "crimes['Premise Description'] = crimes['Premise Description'].str.strip()\n",
    "\n",
    "crimes['Premise Description'] = crimes['Premise Description'].str.lower()"
   ]
  },
  {
   "cell_type": "code",
   "execution_count": 62,
   "metadata": {},
   "outputs": [
    {
     "name": "stdout",
     "output_type": "stream",
     "text": [
      "after:126\n"
     ]
    }
   ],
   "source": [
    "print('after:{}'.format(len(crimes['Premise Description'].value_counts(dropna=False))))"
   ]
  },
  {
   "cell_type": "code",
   "execution_count": 63,
   "metadata": {},
   "outputs": [
    {
     "data": {
      "text/plain": [
       "apartment                16963\n",
       "residence/house          16740\n",
       "apartment parking lot    15070\n",
       "road/street/sidewalk      9323\n",
       "driveway                  7823\n",
       "Name: Premise Description, dtype: int64"
      ]
     },
     "execution_count": 63,
     "metadata": {},
     "output_type": "execute_result"
    }
   ],
   "source": [
    "crimes['Premise Description'].value_counts(dropna=False).head()"
   ]
  },
  {
   "cell_type": "markdown",
   "metadata": {},
   "source": [
    "# Date column"
   ]
  },
  {
   "cell_type": "code",
   "execution_count": 64,
   "metadata": {},
   "outputs": [
    {
     "data": {
      "text/plain": [
       "Date                   datetime64[ns]\n",
       "Beat                           object\n",
       "BlockRange                     object\n",
       "StreetName                     object\n",
       "OffenseType                    object\n",
       "Premise                        object\n",
       "NumOffenses                   float64\n",
       "Hour                          float64\n",
       "Premise Description            object\n",
       "dtype: object"
      ]
     },
     "execution_count": 64,
     "metadata": {},
     "output_type": "execute_result"
    }
   ],
   "source": [
    "crimes.dtypes"
   ]
  },
  {
   "cell_type": "markdown",
   "metadata": {},
   "source": [
    "## Date\n",
    "- make datetime index"
   ]
  },
  {
   "cell_type": "code",
   "execution_count": 65,
   "metadata": {},
   "outputs": [],
   "source": [
    "# date\n",
    "crimes.Date = pd.to_datetime(crimes.Date)\n",
    "\n",
    "crimes = crimes.set_index('Date').sort_index(ascending=True)"
   ]
  },
  {
   "cell_type": "code",
   "execution_count": 66,
   "metadata": {},
   "outputs": [
    {
     "data": {
      "text/html": [
       "<div>\n",
       "<style scoped>\n",
       "    .dataframe tbody tr th:only-of-type {\n",
       "        vertical-align: middle;\n",
       "    }\n",
       "\n",
       "    .dataframe tbody tr th {\n",
       "        vertical-align: top;\n",
       "    }\n",
       "\n",
       "    .dataframe thead th {\n",
       "        text-align: right;\n",
       "    }\n",
       "</style>\n",
       "<table border=\"1\" class=\"dataframe\">\n",
       "  <thead>\n",
       "    <tr style=\"text-align: right;\">\n",
       "      <th></th>\n",
       "      <th>Beat</th>\n",
       "      <th>BlockRange</th>\n",
       "      <th>StreetName</th>\n",
       "      <th>OffenseType</th>\n",
       "      <th>Premise</th>\n",
       "      <th>NumOffenses</th>\n",
       "      <th>Hour</th>\n",
       "      <th>Premise Description</th>\n",
       "    </tr>\n",
       "    <tr>\n",
       "      <th>Date</th>\n",
       "      <th></th>\n",
       "      <th></th>\n",
       "      <th></th>\n",
       "      <th></th>\n",
       "      <th></th>\n",
       "      <th></th>\n",
       "      <th></th>\n",
       "      <th></th>\n",
       "    </tr>\n",
       "  </thead>\n",
       "  <tbody>\n",
       "    <tr>\n",
       "      <th>1973-11-16</th>\n",
       "      <td>1A30</td>\n",
       "      <td>2500-2599</td>\n",
       "      <td>richmond</td>\n",
       "      <td>Theft</td>\n",
       "      <td>210</td>\n",
       "      <td>1.0</td>\n",
       "      <td>13.0</td>\n",
       "      <td>restaurant/cafeteria</td>\n",
       "    </tr>\n",
       "    <tr>\n",
       "      <th>1975-05-17</th>\n",
       "      <td>4F30</td>\n",
       "      <td>1800-1899</td>\n",
       "      <td>barker cypress</td>\n",
       "      <td>Robbery</td>\n",
       "      <td>20A</td>\n",
       "      <td>1.0</td>\n",
       "      <td>15.0</td>\n",
       "      <td>apartment</td>\n",
       "    </tr>\n",
       "    <tr>\n",
       "      <th>1979-07-07</th>\n",
       "      <td>18F50</td>\n",
       "      <td>3400-3499</td>\n",
       "      <td>dunvale</td>\n",
       "      <td>Burglary</td>\n",
       "      <td>20A</td>\n",
       "      <td>1.0</td>\n",
       "      <td>2.0</td>\n",
       "      <td>apartment</td>\n",
       "    </tr>\n",
       "    <tr>\n",
       "      <th>1982-01-01</th>\n",
       "      <td>19G30</td>\n",
       "      <td>13000-13099</td>\n",
       "      <td>leader</td>\n",
       "      <td>Rape</td>\n",
       "      <td>20A</td>\n",
       "      <td>1.0</td>\n",
       "      <td>15.0</td>\n",
       "      <td>apartment</td>\n",
       "    </tr>\n",
       "    <tr>\n",
       "      <th>1987-03-20</th>\n",
       "      <td>18F30</td>\n",
       "      <td>6300-6399</td>\n",
       "      <td>windswept</td>\n",
       "      <td>Theft</td>\n",
       "      <td>05N</td>\n",
       "      <td>1.0</td>\n",
       "      <td>0.0</td>\n",
       "      <td>maintenance/building services</td>\n",
       "    </tr>\n",
       "  </tbody>\n",
       "</table>\n",
       "</div>"
      ],
      "text/plain": [
       "             Beat   BlockRange      StreetName OffenseType Premise  \\\n",
       "Date                                                                 \n",
       "1973-11-16   1A30    2500-2599        richmond       Theft     210   \n",
       "1975-05-17   4F30    1800-1899  barker cypress     Robbery     20A   \n",
       "1979-07-07  18F50    3400-3499         dunvale    Burglary     20A   \n",
       "1982-01-01  19G30  13000-13099          leader        Rape     20A   \n",
       "1987-03-20  18F30    6300-6399       windswept       Theft     05N   \n",
       "\n",
       "            NumOffenses  Hour            Premise Description  \n",
       "Date                                                          \n",
       "1973-11-16          1.0  13.0           restaurant/cafeteria  \n",
       "1975-05-17          1.0  15.0                      apartment  \n",
       "1979-07-07          1.0   2.0                      apartment  \n",
       "1982-01-01          1.0  15.0                      apartment  \n",
       "1987-03-20          1.0   0.0  maintenance/building services  "
      ]
     },
     "execution_count": 66,
     "metadata": {},
     "output_type": "execute_result"
    }
   ],
   "source": [
    "crimes.head()"
   ]
  },
  {
   "cell_type": "markdown",
   "metadata": {},
   "source": [
    "## Create Columns with day,weekday,month,year from datetime index\n",
    "\n",
    "It allows us to view incorect reports by date better"
   ]
  },
  {
   "cell_type": "code",
   "execution_count": null,
   "metadata": {},
   "outputs": [],
   "source": []
  },
  {
   "cell_type": "code",
   "execution_count": 67,
   "metadata": {},
   "outputs": [],
   "source": [
    "# get day, weekday,month ,year\n",
    "\n",
    "crimes['day'] = crimes.index.strftime('%d')\n",
    "crimes['weekday'] = crimes.index.strftime('%A')\n",
    "crimes['month'] = crimes.index.strftime('%b')\n",
    "crimes['year'] = crimes.index.strftime('%Y')"
   ]
  },
  {
   "cell_type": "code",
   "execution_count": 68,
   "metadata": {},
   "outputs": [
    {
     "data": {
      "text/html": [
       "<div>\n",
       "<style scoped>\n",
       "    .dataframe tbody tr th:only-of-type {\n",
       "        vertical-align: middle;\n",
       "    }\n",
       "\n",
       "    .dataframe tbody tr th {\n",
       "        vertical-align: top;\n",
       "    }\n",
       "\n",
       "    .dataframe thead th {\n",
       "        text-align: right;\n",
       "    }\n",
       "</style>\n",
       "<table border=\"1\" class=\"dataframe\">\n",
       "  <thead>\n",
       "    <tr style=\"text-align: right;\">\n",
       "      <th></th>\n",
       "      <th>Beat</th>\n",
       "      <th>BlockRange</th>\n",
       "      <th>StreetName</th>\n",
       "      <th>OffenseType</th>\n",
       "      <th>Premise</th>\n",
       "      <th>NumOffenses</th>\n",
       "      <th>Hour</th>\n",
       "      <th>Premise Description</th>\n",
       "      <th>day</th>\n",
       "      <th>weekday</th>\n",
       "      <th>month</th>\n",
       "      <th>year</th>\n",
       "    </tr>\n",
       "    <tr>\n",
       "      <th>Date</th>\n",
       "      <th></th>\n",
       "      <th></th>\n",
       "      <th></th>\n",
       "      <th></th>\n",
       "      <th></th>\n",
       "      <th></th>\n",
       "      <th></th>\n",
       "      <th></th>\n",
       "      <th></th>\n",
       "      <th></th>\n",
       "      <th></th>\n",
       "      <th></th>\n",
       "    </tr>\n",
       "  </thead>\n",
       "  <tbody>\n",
       "    <tr>\n",
       "      <th>1973-11-16</th>\n",
       "      <td>1A30</td>\n",
       "      <td>2500-2599</td>\n",
       "      <td>richmond</td>\n",
       "      <td>Theft</td>\n",
       "      <td>210</td>\n",
       "      <td>1.0</td>\n",
       "      <td>13.0</td>\n",
       "      <td>restaurant/cafeteria</td>\n",
       "      <td>16</td>\n",
       "      <td>Friday</td>\n",
       "      <td>Nov</td>\n",
       "      <td>1973</td>\n",
       "    </tr>\n",
       "    <tr>\n",
       "      <th>1975-05-17</th>\n",
       "      <td>4F30</td>\n",
       "      <td>1800-1899</td>\n",
       "      <td>barker cypress</td>\n",
       "      <td>Robbery</td>\n",
       "      <td>20A</td>\n",
       "      <td>1.0</td>\n",
       "      <td>15.0</td>\n",
       "      <td>apartment</td>\n",
       "      <td>17</td>\n",
       "      <td>Saturday</td>\n",
       "      <td>May</td>\n",
       "      <td>1975</td>\n",
       "    </tr>\n",
       "    <tr>\n",
       "      <th>1979-07-07</th>\n",
       "      <td>18F50</td>\n",
       "      <td>3400-3499</td>\n",
       "      <td>dunvale</td>\n",
       "      <td>Burglary</td>\n",
       "      <td>20A</td>\n",
       "      <td>1.0</td>\n",
       "      <td>2.0</td>\n",
       "      <td>apartment</td>\n",
       "      <td>07</td>\n",
       "      <td>Saturday</td>\n",
       "      <td>Jul</td>\n",
       "      <td>1979</td>\n",
       "    </tr>\n",
       "    <tr>\n",
       "      <th>1982-01-01</th>\n",
       "      <td>19G30</td>\n",
       "      <td>13000-13099</td>\n",
       "      <td>leader</td>\n",
       "      <td>Rape</td>\n",
       "      <td>20A</td>\n",
       "      <td>1.0</td>\n",
       "      <td>15.0</td>\n",
       "      <td>apartment</td>\n",
       "      <td>01</td>\n",
       "      <td>Friday</td>\n",
       "      <td>Jan</td>\n",
       "      <td>1982</td>\n",
       "    </tr>\n",
       "    <tr>\n",
       "      <th>1987-03-20</th>\n",
       "      <td>18F30</td>\n",
       "      <td>6300-6399</td>\n",
       "      <td>windswept</td>\n",
       "      <td>Theft</td>\n",
       "      <td>05N</td>\n",
       "      <td>1.0</td>\n",
       "      <td>0.0</td>\n",
       "      <td>maintenance/building services</td>\n",
       "      <td>20</td>\n",
       "      <td>Friday</td>\n",
       "      <td>Mar</td>\n",
       "      <td>1987</td>\n",
       "    </tr>\n",
       "  </tbody>\n",
       "</table>\n",
       "</div>"
      ],
      "text/plain": [
       "             Beat   BlockRange      StreetName OffenseType Premise  \\\n",
       "Date                                                                 \n",
       "1973-11-16   1A30    2500-2599        richmond       Theft     210   \n",
       "1975-05-17   4F30    1800-1899  barker cypress     Robbery     20A   \n",
       "1979-07-07  18F50    3400-3499         dunvale    Burglary     20A   \n",
       "1982-01-01  19G30  13000-13099          leader        Rape     20A   \n",
       "1987-03-20  18F30    6300-6399       windswept       Theft     05N   \n",
       "\n",
       "            NumOffenses  Hour            Premise Description day   weekday  \\\n",
       "Date                                                                         \n",
       "1973-11-16          1.0  13.0           restaurant/cafeteria  16    Friday   \n",
       "1975-05-17          1.0  15.0                      apartment  17  Saturday   \n",
       "1979-07-07          1.0   2.0                      apartment  07  Saturday   \n",
       "1982-01-01          1.0  15.0                      apartment  01    Friday   \n",
       "1987-03-20          1.0   0.0  maintenance/building services  20    Friday   \n",
       "\n",
       "           month  year  \n",
       "Date                    \n",
       "1973-11-16   Nov  1973  \n",
       "1975-05-17   May  1975  \n",
       "1979-07-07   Jul  1979  \n",
       "1982-01-01   Jan  1982  \n",
       "1987-03-20   Mar  1987  "
      ]
     },
     "execution_count": 68,
     "metadata": {},
     "output_type": "execute_result"
    }
   ],
   "source": [
    "crimes.head()"
   ]
  },
  {
   "cell_type": "code",
   "execution_count": 69,
   "metadata": {},
   "outputs": [
    {
     "data": {
      "text/plain": [
       "2012    126198\n",
       "2011      1297\n",
       "2010       112\n",
       "2009        25\n",
       "2008        23\n",
       "2005        20\n",
       "2007        15\n",
       "2006        15\n",
       "2000        13\n",
       "2001        11\n",
       "2004        10\n",
       "1999         4\n",
       "2002         4\n",
       "2003         4\n",
       "2013         2\n",
       "1994         2\n",
       "1989         2\n",
       "1987         1\n",
       "1996         1\n",
       "2014         1\n",
       "2020         1\n",
       "1975         1\n",
       "1988         1\n",
       "1973         1\n",
       "1998         1\n",
       "1982         1\n",
       "2029         1\n",
       "2021         1\n",
       "1993         1\n",
       "1979         1\n",
       "1997         1\n",
       "Name: year, dtype: int64"
      ]
     },
     "execution_count": 69,
     "metadata": {},
     "output_type": "execute_result"
    }
   ],
   "source": [
    "crimes.year.value_counts(dropna=False)"
   ]
  },
  {
   "cell_type": "markdown",
   "metadata": {},
   "source": [
    "We can see now that many reports have incorect year"
   ]
  },
  {
   "cell_type": "code",
   "execution_count": null,
   "metadata": {},
   "outputs": [],
   "source": []
  },
  {
   "cell_type": "markdown",
   "metadata": {},
   "source": [
    "## null values\n",
    "\n",
    "- check\n",
    "- count\n",
    "- display"
   ]
  },
  {
   "cell_type": "code",
   "execution_count": 70,
   "metadata": {},
   "outputs": [
    {
     "data": {
      "text/plain": [
       "Beat                   0\n",
       "BlockRange             0\n",
       "StreetName             0\n",
       "OffenseType            0\n",
       "Premise                0\n",
       "NumOffenses            0\n",
       "Hour                   0\n",
       "Premise Description    0\n",
       "day                    0\n",
       "weekday                0\n",
       "month                  0\n",
       "year                   0\n",
       "dtype: int64"
      ]
     },
     "execution_count": 70,
     "metadata": {},
     "output_type": "execute_result"
    }
   ],
   "source": [
    "crimes.apply(lambda x: sum(x.isnull()))"
   ]
  },
  {
   "cell_type": "code",
   "execution_count": 71,
   "metadata": {},
   "outputs": [
    {
     "data": {
      "text/plain": [
       "0"
      ]
     },
     "execution_count": 71,
     "metadata": {},
     "output_type": "execute_result"
    }
   ],
   "source": [
    "# display any null\n",
    "len(crimes[crimes.isnull().any(axis=1)])"
   ]
  },
  {
   "cell_type": "code",
   "execution_count": 72,
   "metadata": {},
   "outputs": [
    {
     "data": {
      "text/html": [
       "<div>\n",
       "<style scoped>\n",
       "    .dataframe tbody tr th:only-of-type {\n",
       "        vertical-align: middle;\n",
       "    }\n",
       "\n",
       "    .dataframe tbody tr th {\n",
       "        vertical-align: top;\n",
       "    }\n",
       "\n",
       "    .dataframe thead th {\n",
       "        text-align: right;\n",
       "    }\n",
       "</style>\n",
       "<table border=\"1\" class=\"dataframe\">\n",
       "  <thead>\n",
       "    <tr style=\"text-align: right;\">\n",
       "      <th></th>\n",
       "      <th>Beat</th>\n",
       "      <th>BlockRange</th>\n",
       "      <th>StreetName</th>\n",
       "      <th>OffenseType</th>\n",
       "      <th>Premise</th>\n",
       "      <th>NumOffenses</th>\n",
       "      <th>Hour</th>\n",
       "      <th>Premise Description</th>\n",
       "      <th>day</th>\n",
       "      <th>weekday</th>\n",
       "      <th>month</th>\n",
       "      <th>year</th>\n",
       "    </tr>\n",
       "    <tr>\n",
       "      <th>Date</th>\n",
       "      <th></th>\n",
       "      <th></th>\n",
       "      <th></th>\n",
       "      <th></th>\n",
       "      <th></th>\n",
       "      <th></th>\n",
       "      <th></th>\n",
       "      <th></th>\n",
       "      <th></th>\n",
       "      <th></th>\n",
       "      <th></th>\n",
       "      <th></th>\n",
       "    </tr>\n",
       "  </thead>\n",
       "  <tbody>\n",
       "  </tbody>\n",
       "</table>\n",
       "</div>"
      ],
      "text/plain": [
       "Empty DataFrame\n",
       "Columns: [Beat, BlockRange, StreetName, OffenseType, Premise, NumOffenses, Hour, Premise Description, day, weekday, month, year]\n",
       "Index: []"
      ]
     },
     "execution_count": 72,
     "metadata": {},
     "output_type": "execute_result"
    }
   ],
   "source": [
    "crimes[crimes.isnull().any(axis=1)].head()"
   ]
  },
  {
   "cell_type": "code",
   "execution_count": null,
   "metadata": {},
   "outputs": [],
   "source": []
  },
  {
   "cell_type": "code",
   "execution_count": 73,
   "metadata": {},
   "outputs": [
    {
     "data": {
      "text/plain": [
       "Beat                   0\n",
       "BlockRange             0\n",
       "StreetName             0\n",
       "OffenseType            0\n",
       "Premise                0\n",
       "NumOffenses            0\n",
       "Hour                   0\n",
       "Premise Description    0\n",
       "day                    0\n",
       "weekday                0\n",
       "month                  0\n",
       "year                   0\n",
       "dtype: int64"
      ]
     },
     "execution_count": 73,
     "metadata": {},
     "output_type": "execute_result"
    }
   ],
   "source": [
    "crimes.apply(lambda x: sum(x.isnull()))"
   ]
  },
  {
   "cell_type": "markdown",
   "metadata": {},
   "source": [
    "## New Dataframe\n",
    "- remove premise col\n",
    "- keep premise description"
   ]
  },
  {
   "cell_type": "code",
   "execution_count": 74,
   "metadata": {},
   "outputs": [
    {
     "data": {
      "text/html": [
       "<div>\n",
       "<style scoped>\n",
       "    .dataframe tbody tr th:only-of-type {\n",
       "        vertical-align: middle;\n",
       "    }\n",
       "\n",
       "    .dataframe tbody tr th {\n",
       "        vertical-align: top;\n",
       "    }\n",
       "\n",
       "    .dataframe thead th {\n",
       "        text-align: right;\n",
       "    }\n",
       "</style>\n",
       "<table border=\"1\" class=\"dataframe\">\n",
       "  <thead>\n",
       "    <tr style=\"text-align: right;\">\n",
       "      <th></th>\n",
       "      <th>Beat</th>\n",
       "      <th>BlockRange</th>\n",
       "      <th>StreetName</th>\n",
       "      <th>OffenseType</th>\n",
       "      <th>Premise Description</th>\n",
       "      <th>NumOffenses</th>\n",
       "      <th>Hour</th>\n",
       "      <th>day</th>\n",
       "      <th>weekday</th>\n",
       "      <th>month</th>\n",
       "      <th>year</th>\n",
       "    </tr>\n",
       "    <tr>\n",
       "      <th>Date</th>\n",
       "      <th></th>\n",
       "      <th></th>\n",
       "      <th></th>\n",
       "      <th></th>\n",
       "      <th></th>\n",
       "      <th></th>\n",
       "      <th></th>\n",
       "      <th></th>\n",
       "      <th></th>\n",
       "      <th></th>\n",
       "      <th></th>\n",
       "    </tr>\n",
       "  </thead>\n",
       "  <tbody>\n",
       "    <tr>\n",
       "      <th>1973-11-16</th>\n",
       "      <td>1A30</td>\n",
       "      <td>2500-2599</td>\n",
       "      <td>richmond</td>\n",
       "      <td>Theft</td>\n",
       "      <td>restaurant/cafeteria</td>\n",
       "      <td>1.0</td>\n",
       "      <td>13.0</td>\n",
       "      <td>16</td>\n",
       "      <td>Friday</td>\n",
       "      <td>Nov</td>\n",
       "      <td>1973</td>\n",
       "    </tr>\n",
       "    <tr>\n",
       "      <th>1975-05-17</th>\n",
       "      <td>4F30</td>\n",
       "      <td>1800-1899</td>\n",
       "      <td>barker cypress</td>\n",
       "      <td>Robbery</td>\n",
       "      <td>apartment</td>\n",
       "      <td>1.0</td>\n",
       "      <td>15.0</td>\n",
       "      <td>17</td>\n",
       "      <td>Saturday</td>\n",
       "      <td>May</td>\n",
       "      <td>1975</td>\n",
       "    </tr>\n",
       "    <tr>\n",
       "      <th>1979-07-07</th>\n",
       "      <td>18F50</td>\n",
       "      <td>3400-3499</td>\n",
       "      <td>dunvale</td>\n",
       "      <td>Burglary</td>\n",
       "      <td>apartment</td>\n",
       "      <td>1.0</td>\n",
       "      <td>2.0</td>\n",
       "      <td>07</td>\n",
       "      <td>Saturday</td>\n",
       "      <td>Jul</td>\n",
       "      <td>1979</td>\n",
       "    </tr>\n",
       "    <tr>\n",
       "      <th>1982-01-01</th>\n",
       "      <td>19G30</td>\n",
       "      <td>13000-13099</td>\n",
       "      <td>leader</td>\n",
       "      <td>Rape</td>\n",
       "      <td>apartment</td>\n",
       "      <td>1.0</td>\n",
       "      <td>15.0</td>\n",
       "      <td>01</td>\n",
       "      <td>Friday</td>\n",
       "      <td>Jan</td>\n",
       "      <td>1982</td>\n",
       "    </tr>\n",
       "    <tr>\n",
       "      <th>1987-03-20</th>\n",
       "      <td>18F30</td>\n",
       "      <td>6300-6399</td>\n",
       "      <td>windswept</td>\n",
       "      <td>Theft</td>\n",
       "      <td>maintenance/building services</td>\n",
       "      <td>1.0</td>\n",
       "      <td>0.0</td>\n",
       "      <td>20</td>\n",
       "      <td>Friday</td>\n",
       "      <td>Mar</td>\n",
       "      <td>1987</td>\n",
       "    </tr>\n",
       "  </tbody>\n",
       "</table>\n",
       "</div>"
      ],
      "text/plain": [
       "             Beat   BlockRange      StreetName OffenseType  \\\n",
       "Date                                                         \n",
       "1973-11-16   1A30    2500-2599        richmond       Theft   \n",
       "1975-05-17   4F30    1800-1899  barker cypress     Robbery   \n",
       "1979-07-07  18F50    3400-3499         dunvale    Burglary   \n",
       "1982-01-01  19G30  13000-13099          leader        Rape   \n",
       "1987-03-20  18F30    6300-6399       windswept       Theft   \n",
       "\n",
       "                      Premise Description  NumOffenses  Hour day   weekday  \\\n",
       "Date                                                                         \n",
       "1973-11-16           restaurant/cafeteria          1.0  13.0  16    Friday   \n",
       "1975-05-17                      apartment          1.0  15.0  17  Saturday   \n",
       "1979-07-07                      apartment          1.0   2.0  07  Saturday   \n",
       "1982-01-01                      apartment          1.0  15.0  01    Friday   \n",
       "1987-03-20  maintenance/building services          1.0   0.0  20    Friday   \n",
       "\n",
       "           month  year  \n",
       "Date                    \n",
       "1973-11-16   Nov  1973  \n",
       "1975-05-17   May  1975  \n",
       "1979-07-07   Jul  1979  \n",
       "1982-01-01   Jan  1982  \n",
       "1987-03-20   Mar  1987  "
      ]
     },
     "execution_count": 74,
     "metadata": {},
     "output_type": "execute_result"
    }
   ],
   "source": [
    "crime_yr = crimes[['Beat','BlockRange','StreetName','OffenseType','Premise Description','NumOffenses','Hour','day','weekday','month','year']]\n",
    "crime_yr.head()"
   ]
  },
  {
   "cell_type": "code",
   "execution_count": 75,
   "metadata": {},
   "outputs": [
    {
     "data": {
      "text/plain": [
       "Beat                   0\n",
       "BlockRange             0\n",
       "StreetName             0\n",
       "OffenseType            0\n",
       "Premise Description    0\n",
       "NumOffenses            0\n",
       "Hour                   0\n",
       "day                    0\n",
       "weekday                0\n",
       "month                  0\n",
       "year                   0\n",
       "dtype: int64"
      ]
     },
     "execution_count": 75,
     "metadata": {},
     "output_type": "execute_result"
    }
   ],
   "source": [
    "crime_yr.apply(lambda x: sum(x.isnull()))"
   ]
  },
  {
   "cell_type": "code",
   "execution_count": 76,
   "metadata": {},
   "outputs": [],
   "source": [
    "# change column name from Premise Descriptionto Premise\n",
    "\n",
    "crime_yr.rename(columns={\n",
    "    'Premise Description': 'Premise',}, inplace=True)\n"
   ]
  },
  {
   "cell_type": "code",
   "execution_count": 77,
   "metadata": {},
   "outputs": [
    {
     "data": {
      "text/html": [
       "<div>\n",
       "<style scoped>\n",
       "    .dataframe tbody tr th:only-of-type {\n",
       "        vertical-align: middle;\n",
       "    }\n",
       "\n",
       "    .dataframe tbody tr th {\n",
       "        vertical-align: top;\n",
       "    }\n",
       "\n",
       "    .dataframe thead th {\n",
       "        text-align: right;\n",
       "    }\n",
       "</style>\n",
       "<table border=\"1\" class=\"dataframe\">\n",
       "  <thead>\n",
       "    <tr style=\"text-align: right;\">\n",
       "      <th></th>\n",
       "      <th>Beat</th>\n",
       "      <th>BlockRange</th>\n",
       "      <th>StreetName</th>\n",
       "      <th>OffenseType</th>\n",
       "      <th>Premise</th>\n",
       "      <th>NumOffenses</th>\n",
       "      <th>Hour</th>\n",
       "      <th>day</th>\n",
       "      <th>weekday</th>\n",
       "      <th>month</th>\n",
       "      <th>year</th>\n",
       "    </tr>\n",
       "    <tr>\n",
       "      <th>Date</th>\n",
       "      <th></th>\n",
       "      <th></th>\n",
       "      <th></th>\n",
       "      <th></th>\n",
       "      <th></th>\n",
       "      <th></th>\n",
       "      <th></th>\n",
       "      <th></th>\n",
       "      <th></th>\n",
       "      <th></th>\n",
       "      <th></th>\n",
       "    </tr>\n",
       "  </thead>\n",
       "  <tbody>\n",
       "    <tr>\n",
       "      <th>1973-11-16</th>\n",
       "      <td>1A30</td>\n",
       "      <td>2500-2599</td>\n",
       "      <td>richmond</td>\n",
       "      <td>Theft</td>\n",
       "      <td>restaurant/cafeteria</td>\n",
       "      <td>1.0</td>\n",
       "      <td>13.0</td>\n",
       "      <td>16</td>\n",
       "      <td>Friday</td>\n",
       "      <td>Nov</td>\n",
       "      <td>1973</td>\n",
       "    </tr>\n",
       "    <tr>\n",
       "      <th>1975-05-17</th>\n",
       "      <td>4F30</td>\n",
       "      <td>1800-1899</td>\n",
       "      <td>barker cypress</td>\n",
       "      <td>Robbery</td>\n",
       "      <td>apartment</td>\n",
       "      <td>1.0</td>\n",
       "      <td>15.0</td>\n",
       "      <td>17</td>\n",
       "      <td>Saturday</td>\n",
       "      <td>May</td>\n",
       "      <td>1975</td>\n",
       "    </tr>\n",
       "    <tr>\n",
       "      <th>1979-07-07</th>\n",
       "      <td>18F50</td>\n",
       "      <td>3400-3499</td>\n",
       "      <td>dunvale</td>\n",
       "      <td>Burglary</td>\n",
       "      <td>apartment</td>\n",
       "      <td>1.0</td>\n",
       "      <td>2.0</td>\n",
       "      <td>07</td>\n",
       "      <td>Saturday</td>\n",
       "      <td>Jul</td>\n",
       "      <td>1979</td>\n",
       "    </tr>\n",
       "    <tr>\n",
       "      <th>1982-01-01</th>\n",
       "      <td>19G30</td>\n",
       "      <td>13000-13099</td>\n",
       "      <td>leader</td>\n",
       "      <td>Rape</td>\n",
       "      <td>apartment</td>\n",
       "      <td>1.0</td>\n",
       "      <td>15.0</td>\n",
       "      <td>01</td>\n",
       "      <td>Friday</td>\n",
       "      <td>Jan</td>\n",
       "      <td>1982</td>\n",
       "    </tr>\n",
       "    <tr>\n",
       "      <th>1987-03-20</th>\n",
       "      <td>18F30</td>\n",
       "      <td>6300-6399</td>\n",
       "      <td>windswept</td>\n",
       "      <td>Theft</td>\n",
       "      <td>maintenance/building services</td>\n",
       "      <td>1.0</td>\n",
       "      <td>0.0</td>\n",
       "      <td>20</td>\n",
       "      <td>Friday</td>\n",
       "      <td>Mar</td>\n",
       "      <td>1987</td>\n",
       "    </tr>\n",
       "  </tbody>\n",
       "</table>\n",
       "</div>"
      ],
      "text/plain": [
       "             Beat   BlockRange      StreetName OffenseType  \\\n",
       "Date                                                         \n",
       "1973-11-16   1A30    2500-2599        richmond       Theft   \n",
       "1975-05-17   4F30    1800-1899  barker cypress     Robbery   \n",
       "1979-07-07  18F50    3400-3499         dunvale    Burglary   \n",
       "1982-01-01  19G30  13000-13099          leader        Rape   \n",
       "1987-03-20  18F30    6300-6399       windswept       Theft   \n",
       "\n",
       "                                  Premise  NumOffenses  Hour day   weekday  \\\n",
       "Date                                                                         \n",
       "1973-11-16           restaurant/cafeteria          1.0  13.0  16    Friday   \n",
       "1975-05-17                      apartment          1.0  15.0  17  Saturday   \n",
       "1979-07-07                      apartment          1.0   2.0  07  Saturday   \n",
       "1982-01-01                      apartment          1.0  15.0  01    Friday   \n",
       "1987-03-20  maintenance/building services          1.0   0.0  20    Friday   \n",
       "\n",
       "           month  year  \n",
       "Date                    \n",
       "1973-11-16   Nov  1973  \n",
       "1975-05-17   May  1975  \n",
       "1979-07-07   Jul  1979  \n",
       "1982-01-01   Jan  1982  \n",
       "1987-03-20   Mar  1987  "
      ]
     },
     "execution_count": 77,
     "metadata": {},
     "output_type": "execute_result"
    }
   ],
   "source": [
    "crime_yr.head()"
   ]
  },
  {
   "cell_type": "markdown",
   "metadata": {},
   "source": [
    "## Save"
   ]
  },
  {
   "cell_type": "code",
   "execution_count": 78,
   "metadata": {},
   "outputs": [
    {
     "name": "stdout",
     "output_type": "stream",
     "text": [
      "<class 'pandas.core.frame.DataFrame'>\n",
      "DatetimeIndex: 127771 entries, 1973-11-16 to 2029-05-26\n",
      "Data columns (total 11 columns):\n",
      "Beat           127771 non-null object\n",
      "BlockRange     127771 non-null object\n",
      "StreetName     127771 non-null object\n",
      "OffenseType    127771 non-null object\n",
      "Premise        127771 non-null object\n",
      "NumOffenses    127771 non-null float64\n",
      "Hour           127771 non-null float64\n",
      "day            127771 non-null object\n",
      "weekday        127771 non-null object\n",
      "month          127771 non-null object\n",
      "year           127771 non-null object\n",
      "dtypes: float64(2), object(9)\n",
      "memory usage: 11.7+ MB\n"
     ]
    }
   ],
   "source": [
    "crime_yr.info()"
   ]
  },
  {
   "cell_type": "code",
   "execution_count": 79,
   "metadata": {},
   "outputs": [],
   "source": [
    "crime_yr.to_csv('data/clean/crime12_clean.csv')"
   ]
  },
  {
   "cell_type": "code",
   "execution_count": 80,
   "metadata": {},
   "outputs": [
    {
     "name": "stdout",
     "output_type": "stream",
     "text": [
      "\u001b[0m\u001b[01;32mcrime10_clean.csv\u001b[0m*  \u001b[01;32mcrime12_clean.csv\u001b[0m*  \u001b[01;32mcrime14_clean.csv\u001b[0m*  \u001b[01;32mcrime16_clean.csv\u001b[0m*\r\n",
      "\u001b[01;32mcrime11_clean.csv\u001b[0m*  \u001b[01;32mcrime13_clean.csv\u001b[0m*  \u001b[01;32mcrime15_clean.csv\u001b[0m*  \u001b[01;32mcrime17_clean.csv\u001b[0m*\r\n"
     ]
    }
   ],
   "source": [
    "ls data/clean"
   ]
  },
  {
   "cell_type": "code",
   "execution_count": null,
   "metadata": {},
   "outputs": [],
   "source": []
  }
 ],
 "metadata": {
  "kernelspec": {
   "display_name": "Python 3",
   "language": "python",
   "name": "python3"
  },
  "language_info": {
   "codemirror_mode": {
    "name": "ipython",
    "version": 3
   },
   "file_extension": ".py",
   "mimetype": "text/x-python",
   "name": "python",
   "nbconvert_exporter": "python",
   "pygments_lexer": "ipython3",
   "version": "3.6.4"
  }
 },
 "nbformat": 4,
 "nbformat_minor": 2
}
